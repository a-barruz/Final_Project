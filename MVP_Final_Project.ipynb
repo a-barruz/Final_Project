{
 "cells": [
  {
   "cell_type": "markdown",
   "id": "3e6982b2",
   "metadata": {},
   "source": [
    "## MVP"
   ]
  },
  {
   "cell_type": "code",
   "execution_count": 1,
   "id": "2cef25b8",
   "metadata": {},
   "outputs": [],
   "source": [
    "# Imports\n",
    "\n",
    "# Pandas\n",
    "import pandas as pd \n",
    "\n",
    "# Importo libreria para conexión a API\n",
    "from urllib.request import urlopen\n",
    "\n",
    "# Importo libreria Json para que lea\n",
    "import json\n",
    "\n",
    "#Normalizar Json\n",
    "from pandas.io.json import json_normalize\n",
    "\n",
    "import numpy as np\n"
   ]
  },
  {
   "cell_type": "markdown",
   "id": "9397380f",
   "metadata": {},
   "source": [
    "---\n",
    "Step 1 (Data Extraction)"
   ]
  },
  {
   "cell_type": "code",
   "execution_count": 2,
   "id": "55515f32",
   "metadata": {},
   "outputs": [],
   "source": [
    "# Definir las variables donde meto el string que contiene la URL\n",
    "\n",
    "endpoint ='https://sedeaplicaciones.minetur.gob.es'\n",
    "parametros = '/ServiciosRESTCarburantes/PreciosCarburantes/EstacionesTerrestres/'\n"
   ]
  },
  {
   "cell_type": "code",
   "execution_count": 3,
   "id": "2d466973",
   "metadata": {},
   "outputs": [
    {
     "data": {
      "text/plain": [
       "http.client.HTTPResponse"
      ]
     },
     "execution_count": 3,
     "metadata": {},
     "output_type": "execute_result"
    }
   ],
   "source": [
    "# Vamos a guardar en una variable nuestros datos (resultado, comida) \n",
    "\n",
    "response = urlopen(endpoint+parametros)\n",
    "type(response)\n"
   ]
  },
  {
   "cell_type": "code",
   "execution_count": 4,
   "id": "0031d835",
   "metadata": {},
   "outputs": [
    {
     "data": {
      "text/plain": [
       "dict"
      ]
     },
     "execution_count": 4,
     "metadata": {},
     "output_type": "execute_result"
    }
   ],
   "source": [
    "# Vamos a extraer del obejto, los datos\n",
    "\n",
    "data = response.read().decode('utf-8', 'replace')\n",
    "data = json.loads(data)\n",
    "type(data)\n"
   ]
  },
  {
   "cell_type": "code",
   "execution_count": 5,
   "id": "501a7f08",
   "metadata": {},
   "outputs": [
    {
     "data": {
      "text/html": [
       "<div>\n",
       "<style scoped>\n",
       "    .dataframe tbody tr th:only-of-type {\n",
       "        vertical-align: middle;\n",
       "    }\n",
       "\n",
       "    .dataframe tbody tr th {\n",
       "        vertical-align: top;\n",
       "    }\n",
       "\n",
       "    .dataframe thead th {\n",
       "        text-align: right;\n",
       "    }\n",
       "</style>\n",
       "<table border=\"1\" class=\"dataframe\">\n",
       "  <thead>\n",
       "    <tr style=\"text-align: right;\">\n",
       "      <th></th>\n",
       "      <th>Fecha</th>\n",
       "      <th>ListaEESSPrecio</th>\n",
       "      <th>Nota</th>\n",
       "      <th>ResultadoConsulta</th>\n",
       "    </tr>\n",
       "  </thead>\n",
       "  <tbody>\n",
       "    <tr>\n",
       "      <th>0</th>\n",
       "      <td>18/12/2022 17:32:26</td>\n",
       "      <td>{'C.P.': '02250', 'Dirección': 'AVENIDA CASTIL...</td>\n",
       "      <td>Archivo de todos los productos en todas las es...</td>\n",
       "      <td>OK</td>\n",
       "    </tr>\n",
       "    <tr>\n",
       "      <th>1</th>\n",
       "      <td>18/12/2022 17:32:26</td>\n",
       "      <td>{'C.P.': '02001', 'Dirección': 'AVENIDA 1º DE ...</td>\n",
       "      <td>Archivo de todos los productos en todas las es...</td>\n",
       "      <td>OK</td>\n",
       "    </tr>\n",
       "    <tr>\n",
       "      <th>2</th>\n",
       "      <td>18/12/2022 17:32:26</td>\n",
       "      <td>{'C.P.': '02001', 'Dirección': 'CALLE PRINCIPE...</td>\n",
       "      <td>Archivo de todos los productos en todas las es...</td>\n",
       "      <td>OK</td>\n",
       "    </tr>\n",
       "    <tr>\n",
       "      <th>3</th>\n",
       "      <td>18/12/2022 17:32:26</td>\n",
       "      <td>{'C.P.': '02001', 'Dirección': 'CALLE FEDERICO...</td>\n",
       "      <td>Archivo de todos los productos en todas las es...</td>\n",
       "      <td>OK</td>\n",
       "    </tr>\n",
       "    <tr>\n",
       "      <th>4</th>\n",
       "      <td>18/12/2022 17:32:26</td>\n",
       "      <td>{'C.P.': '02001', 'Dirección': 'CALLE FEDERICO...</td>\n",
       "      <td>Archivo de todos los productos en todas las es...</td>\n",
       "      <td>OK</td>\n",
       "    </tr>\n",
       "    <tr>\n",
       "      <th>...</th>\n",
       "      <td>...</td>\n",
       "      <td>...</td>\n",
       "      <td>...</td>\n",
       "      <td>...</td>\n",
       "    </tr>\n",
       "    <tr>\n",
       "      <th>11833</th>\n",
       "      <td>18/12/2022 17:32:26</td>\n",
       "      <td>{'C.P.': '50197', 'Dirección': 'RONDA FERIA DE...</td>\n",
       "      <td>Archivo de todos los productos en todas las es...</td>\n",
       "      <td>OK</td>\n",
       "    </tr>\n",
       "    <tr>\n",
       "      <th>11834</th>\n",
       "      <td>18/12/2022 17:32:26</td>\n",
       "      <td>{'C.P.': '50197', 'Dirección': 'POLIGONO CALLE...</td>\n",
       "      <td>Archivo de todos los productos en todas las es...</td>\n",
       "      <td>OK</td>\n",
       "    </tr>\n",
       "    <tr>\n",
       "      <th>11835</th>\n",
       "      <td>18/12/2022 17:32:26</td>\n",
       "      <td>{'C.P.': '50800', 'Dirección': 'CARRETERA N-33...</td>\n",
       "      <td>Archivo de todos los productos en todas las es...</td>\n",
       "      <td>OK</td>\n",
       "    </tr>\n",
       "    <tr>\n",
       "      <th>11836</th>\n",
       "      <td>18/12/2022 17:32:26</td>\n",
       "      <td>{'C.P.': '50800', 'Dirección': 'CALLE AUSTRIA,...</td>\n",
       "      <td>Archivo de todos los productos en todas las es...</td>\n",
       "      <td>OK</td>\n",
       "    </tr>\n",
       "    <tr>\n",
       "      <th>11837</th>\n",
       "      <td>18/12/2022 17:32:26</td>\n",
       "      <td>{'C.P.': '50810', 'Dirección': 'CALLE COOPERAT...</td>\n",
       "      <td>Archivo de todos los productos en todas las es...</td>\n",
       "      <td>OK</td>\n",
       "    </tr>\n",
       "  </tbody>\n",
       "</table>\n",
       "<p>11838 rows × 4 columns</p>\n",
       "</div>"
      ],
      "text/plain": [
       "                     Fecha                                    ListaEESSPrecio  \\\n",
       "0      18/12/2022 17:32:26  {'C.P.': '02250', 'Dirección': 'AVENIDA CASTIL...   \n",
       "1      18/12/2022 17:32:26  {'C.P.': '02001', 'Dirección': 'AVENIDA 1º DE ...   \n",
       "2      18/12/2022 17:32:26  {'C.P.': '02001', 'Dirección': 'CALLE PRINCIPE...   \n",
       "3      18/12/2022 17:32:26  {'C.P.': '02001', 'Dirección': 'CALLE FEDERICO...   \n",
       "4      18/12/2022 17:32:26  {'C.P.': '02001', 'Dirección': 'CALLE FEDERICO...   \n",
       "...                    ...                                                ...   \n",
       "11833  18/12/2022 17:32:26  {'C.P.': '50197', 'Dirección': 'RONDA FERIA DE...   \n",
       "11834  18/12/2022 17:32:26  {'C.P.': '50197', 'Dirección': 'POLIGONO CALLE...   \n",
       "11835  18/12/2022 17:32:26  {'C.P.': '50800', 'Dirección': 'CARRETERA N-33...   \n",
       "11836  18/12/2022 17:32:26  {'C.P.': '50800', 'Dirección': 'CALLE AUSTRIA,...   \n",
       "11837  18/12/2022 17:32:26  {'C.P.': '50810', 'Dirección': 'CALLE COOPERAT...   \n",
       "\n",
       "                                                    Nota ResultadoConsulta  \n",
       "0      Archivo de todos los productos en todas las es...                OK  \n",
       "1      Archivo de todos los productos en todas las es...                OK  \n",
       "2      Archivo de todos los productos en todas las es...                OK  \n",
       "3      Archivo de todos los productos en todas las es...                OK  \n",
       "4      Archivo de todos los productos en todas las es...                OK  \n",
       "...                                                  ...               ...  \n",
       "11833  Archivo de todos los productos en todas las es...                OK  \n",
       "11834  Archivo de todos los productos en todas las es...                OK  \n",
       "11835  Archivo de todos los productos en todas las es...                OK  \n",
       "11836  Archivo de todos los productos en todas las es...                OK  \n",
       "11837  Archivo de todos los productos en todas las es...                OK  \n",
       "\n",
       "[11838 rows x 4 columns]"
      ]
     },
     "execution_count": 5,
     "metadata": {},
     "output_type": "execute_result"
    }
   ],
   "source": [
    "# Crear Dataframe\n",
    "\n",
    "df = pd.DataFrame(data)\n",
    "df"
   ]
  },
  {
   "cell_type": "markdown",
   "id": "bf936489",
   "metadata": {},
   "source": [
    "---\n",
    "\n",
    "Step 2 (Data Transformation)"
   ]
  },
  {
   "cell_type": "code",
   "execution_count": 6,
   "id": "82a65952",
   "metadata": {},
   "outputs": [
    {
     "data": {
      "text/plain": [
       "dict"
      ]
     },
     "execution_count": 6,
     "metadata": {},
     "output_type": "execute_result"
    }
   ],
   "source": [
    "# Análisis de la columna Lista EESS Precio\n",
    "\n",
    "diccionario = df['ListaEESSPrecio'].iloc[1]\n",
    "type(diccionario)"
   ]
  },
  {
   "cell_type": "code",
   "execution_count": 7,
   "id": "3207dce3",
   "metadata": {},
   "outputs": [
    {
     "data": {
      "text/plain": [
       "{'C.P.': '02001',\n",
       " 'Dirección': 'AVENIDA 1º DE MAYO, S/N',\n",
       " 'Horario': 'L-S: 08:00-22:00; D: 09:00-21:00',\n",
       " 'Latitud': '38,985667',\n",
       " 'Localidad': 'ALBACETE',\n",
       " 'Longitud (WGS84)': '-1,868500',\n",
       " 'Margen': 'N',\n",
       " 'Municipio': 'Albacete',\n",
       " 'Precio Biodiesel': '',\n",
       " 'Precio Bioetanol': '',\n",
       " 'Precio Gas Natural Comprimido': '',\n",
       " 'Precio Gas Natural Licuado': '',\n",
       " 'Precio Gases licuados del petróleo': '',\n",
       " 'Precio Gasoleo A': '1,699',\n",
       " 'Precio Gasoleo B': '',\n",
       " 'Precio Gasoleo Premium': '1,739',\n",
       " 'Precio Gasolina 95 E10': '',\n",
       " 'Precio Gasolina 95 E5': '1,599',\n",
       " 'Precio Gasolina 95 E5 Premium': '',\n",
       " 'Precio Gasolina 98 E10': '',\n",
       " 'Precio Gasolina 98 E5': '1,799',\n",
       " 'Precio Hidrogeno': '',\n",
       " 'Provincia': 'ALBACETE',\n",
       " 'Remisión': 'dm',\n",
       " 'Rótulo': 'CARREFOUR',\n",
       " 'Tipo Venta': 'P',\n",
       " '% BioEtanol': '0,0',\n",
       " '% Éster metílico': '0,0',\n",
       " 'IDEESS': '10765',\n",
       " 'IDMunicipio': '54',\n",
       " 'IDProvincia': '02',\n",
       " 'IDCCAA': '07'}"
      ]
     },
     "execution_count": 7,
     "metadata": {},
     "output_type": "execute_result"
    }
   ],
   "source": [
    "diccionario"
   ]
  },
  {
   "cell_type": "code",
   "execution_count": 8,
   "id": "b1c814d5",
   "metadata": {
    "scrolled": true
   },
   "outputs": [
    {
     "data": {
      "text/html": [
       "<div>\n",
       "<style scoped>\n",
       "    .dataframe tbody tr th:only-of-type {\n",
       "        vertical-align: middle;\n",
       "    }\n",
       "\n",
       "    .dataframe tbody tr th {\n",
       "        vertical-align: top;\n",
       "    }\n",
       "\n",
       "    .dataframe thead th {\n",
       "        text-align: right;\n",
       "    }\n",
       "</style>\n",
       "<table border=\"1\" class=\"dataframe\">\n",
       "  <thead>\n",
       "    <tr style=\"text-align: right;\">\n",
       "      <th></th>\n",
       "      <th>Fecha</th>\n",
       "      <th>C.P.</th>\n",
       "      <th>Dirección</th>\n",
       "      <th>Horario</th>\n",
       "      <th>Latitud</th>\n",
       "      <th>Localidad</th>\n",
       "      <th>Longitud (WGS84)</th>\n",
       "      <th>Margen</th>\n",
       "      <th>Municipio</th>\n",
       "      <th>Precio Biodiesel</th>\n",
       "      <th>...</th>\n",
       "      <th>Provincia</th>\n",
       "      <th>Remisión</th>\n",
       "      <th>Rótulo</th>\n",
       "      <th>Tipo Venta</th>\n",
       "      <th>% BioEtanol</th>\n",
       "      <th>% Éster metílico</th>\n",
       "      <th>IDEESS</th>\n",
       "      <th>IDMunicipio</th>\n",
       "      <th>IDProvincia</th>\n",
       "      <th>IDCCAA</th>\n",
       "    </tr>\n",
       "  </thead>\n",
       "  <tbody>\n",
       "    <tr>\n",
       "      <th>0</th>\n",
       "      <td>18/12/2022 17:32:26</td>\n",
       "      <td>02250</td>\n",
       "      <td>AVENIDA CASTILLA LA MANCHA, 26</td>\n",
       "      <td>L-D: 07:00-22:00</td>\n",
       "      <td>39,211417</td>\n",
       "      <td>ABENGIBRE</td>\n",
       "      <td>-1,539167</td>\n",
       "      <td>D</td>\n",
       "      <td>Abengibre</td>\n",
       "      <td></td>\n",
       "      <td>...</td>\n",
       "      <td>ALBACETE</td>\n",
       "      <td>dm</td>\n",
       "      <td>Nº 10.935</td>\n",
       "      <td>P</td>\n",
       "      <td>0,0</td>\n",
       "      <td>0,0</td>\n",
       "      <td>4375</td>\n",
       "      <td>52</td>\n",
       "      <td>02</td>\n",
       "      <td>07</td>\n",
       "    </tr>\n",
       "    <tr>\n",
       "      <th>1</th>\n",
       "      <td>18/12/2022 17:32:26</td>\n",
       "      <td>02001</td>\n",
       "      <td>AVENIDA 1º DE MAYO, S/N</td>\n",
       "      <td>L-S: 08:00-22:00; D: 09:00-21:00</td>\n",
       "      <td>38,985667</td>\n",
       "      <td>ALBACETE</td>\n",
       "      <td>-1,868500</td>\n",
       "      <td>N</td>\n",
       "      <td>Albacete</td>\n",
       "      <td></td>\n",
       "      <td>...</td>\n",
       "      <td>ALBACETE</td>\n",
       "      <td>dm</td>\n",
       "      <td>CARREFOUR</td>\n",
       "      <td>P</td>\n",
       "      <td>0,0</td>\n",
       "      <td>0,0</td>\n",
       "      <td>10765</td>\n",
       "      <td>54</td>\n",
       "      <td>02</td>\n",
       "      <td>07</td>\n",
       "    </tr>\n",
       "    <tr>\n",
       "      <th>2</th>\n",
       "      <td>18/12/2022 17:32:26</td>\n",
       "      <td>02001</td>\n",
       "      <td>CALLE PRINCIPE DE ASTURIAS (POLÍGONO DE ROMICA...</td>\n",
       "      <td>L-D: 06:00-21:30</td>\n",
       "      <td>39,054694</td>\n",
       "      <td>ALBACETE</td>\n",
       "      <td>-1,832000</td>\n",
       "      <td>I</td>\n",
       "      <td>Albacete</td>\n",
       "      <td></td>\n",
       "      <td>...</td>\n",
       "      <td>ALBACETE</td>\n",
       "      <td>OM</td>\n",
       "      <td>BP ROMICA</td>\n",
       "      <td>P</td>\n",
       "      <td>0,0</td>\n",
       "      <td>0,0</td>\n",
       "      <td>12054</td>\n",
       "      <td>54</td>\n",
       "      <td>02</td>\n",
       "      <td>07</td>\n",
       "    </tr>\n",
       "    <tr>\n",
       "      <th>3</th>\n",
       "      <td>18/12/2022 17:32:26</td>\n",
       "      <td>02001</td>\n",
       "      <td>CALLE FEDERICO GARCIA LORCA, 1</td>\n",
       "      <td>L-D: 24H</td>\n",
       "      <td>39,000861</td>\n",
       "      <td>ALBACETE</td>\n",
       "      <td>-1,849833</td>\n",
       "      <td>D</td>\n",
       "      <td>Albacete</td>\n",
       "      <td></td>\n",
       "      <td>...</td>\n",
       "      <td>ALBACETE</td>\n",
       "      <td>dm</td>\n",
       "      <td>PLENOIL</td>\n",
       "      <td>P</td>\n",
       "      <td>0,0</td>\n",
       "      <td>0,0</td>\n",
       "      <td>13933</td>\n",
       "      <td>54</td>\n",
       "      <td>02</td>\n",
       "      <td>07</td>\n",
       "    </tr>\n",
       "    <tr>\n",
       "      <th>4</th>\n",
       "      <td>18/12/2022 17:32:26</td>\n",
       "      <td>02001</td>\n",
       "      <td>CALLE FEDERICO GARCIA LORCA, 5</td>\n",
       "      <td>L-S: 05:00-23:00</td>\n",
       "      <td>38,997722</td>\n",
       "      <td>ALBACETE</td>\n",
       "      <td>-1,846361</td>\n",
       "      <td>I</td>\n",
       "      <td>Albacete</td>\n",
       "      <td></td>\n",
       "      <td>...</td>\n",
       "      <td>ALBACETE</td>\n",
       "      <td>dm</td>\n",
       "      <td>CEPSA</td>\n",
       "      <td>R</td>\n",
       "      <td>0,0</td>\n",
       "      <td>0,0</td>\n",
       "      <td>4438</td>\n",
       "      <td>54</td>\n",
       "      <td>02</td>\n",
       "      <td>07</td>\n",
       "    </tr>\n",
       "    <tr>\n",
       "      <th>...</th>\n",
       "      <td>...</td>\n",
       "      <td>...</td>\n",
       "      <td>...</td>\n",
       "      <td>...</td>\n",
       "      <td>...</td>\n",
       "      <td>...</td>\n",
       "      <td>...</td>\n",
       "      <td>...</td>\n",
       "      <td>...</td>\n",
       "      <td>...</td>\n",
       "      <td>...</td>\n",
       "      <td>...</td>\n",
       "      <td>...</td>\n",
       "      <td>...</td>\n",
       "      <td>...</td>\n",
       "      <td>...</td>\n",
       "      <td>...</td>\n",
       "      <td>...</td>\n",
       "      <td>...</td>\n",
       "      <td>...</td>\n",
       "      <td>...</td>\n",
       "    </tr>\n",
       "    <tr>\n",
       "      <th>11833</th>\n",
       "      <td>18/12/2022 17:32:26</td>\n",
       "      <td>50197</td>\n",
       "      <td>RONDA FERIA DE MUESTRAS, DE LA, 20</td>\n",
       "      <td>L-D: 24H</td>\n",
       "      <td>41,637944</td>\n",
       "      <td>ZARAGOZA</td>\n",
       "      <td>-0,986389</td>\n",
       "      <td>D</td>\n",
       "      <td>Zaragoza</td>\n",
       "      <td></td>\n",
       "      <td>...</td>\n",
       "      <td>ZARAGOZA</td>\n",
       "      <td>OM</td>\n",
       "      <td>IDS</td>\n",
       "      <td>P</td>\n",
       "      <td>0,0</td>\n",
       "      <td>0,0</td>\n",
       "      <td>12472</td>\n",
       "      <td>8108</td>\n",
       "      <td>50</td>\n",
       "      <td>02</td>\n",
       "    </tr>\n",
       "    <tr>\n",
       "      <th>11834</th>\n",
       "      <td>18/12/2022 17:32:26</td>\n",
       "      <td>50197</td>\n",
       "      <td>POLIGONO CALLE TURIASO, 31</td>\n",
       "      <td>L-D: 24H</td>\n",
       "      <td>41,645722</td>\n",
       "      <td>ZARAGOZA</td>\n",
       "      <td>-0,974194</td>\n",
       "      <td>D</td>\n",
       "      <td>Zaragoza</td>\n",
       "      <td></td>\n",
       "      <td>...</td>\n",
       "      <td>ZARAGOZA</td>\n",
       "      <td>dm</td>\n",
       "      <td>NOIL</td>\n",
       "      <td>P</td>\n",
       "      <td>0,0</td>\n",
       "      <td>0,0</td>\n",
       "      <td>13917</td>\n",
       "      <td>8108</td>\n",
       "      <td>50</td>\n",
       "      <td>02</td>\n",
       "    </tr>\n",
       "    <tr>\n",
       "      <th>11835</th>\n",
       "      <td>18/12/2022 17:32:26</td>\n",
       "      <td>50800</td>\n",
       "      <td>CARRETERA N-330A KM. 24,000</td>\n",
       "      <td>L-D: 06:00-22:00</td>\n",
       "      <td>41,857000</td>\n",
       "      <td>ZUERA</td>\n",
       "      <td>-0,794000</td>\n",
       "      <td>D</td>\n",
       "      <td>Zuera</td>\n",
       "      <td></td>\n",
       "      <td>...</td>\n",
       "      <td>ZARAGOZA</td>\n",
       "      <td>OM</td>\n",
       "      <td>REPSOL</td>\n",
       "      <td>P</td>\n",
       "      <td>0,0</td>\n",
       "      <td>0,0</td>\n",
       "      <td>1452</td>\n",
       "      <td>8109</td>\n",
       "      <td>50</td>\n",
       "      <td>02</td>\n",
       "    </tr>\n",
       "    <tr>\n",
       "      <th>11836</th>\n",
       "      <td>18/12/2022 17:32:26</td>\n",
       "      <td>50800</td>\n",
       "      <td>CALLE AUSTRIA, 11,17</td>\n",
       "      <td>L-D: 24H</td>\n",
       "      <td>41,883583</td>\n",
       "      <td>ZUERA</td>\n",
       "      <td>-0,782833</td>\n",
       "      <td>D</td>\n",
       "      <td>Zuera</td>\n",
       "      <td></td>\n",
       "      <td>...</td>\n",
       "      <td>ZARAGOZA</td>\n",
       "      <td>dm</td>\n",
       "      <td>AN ENERGETICOS ZUERA</td>\n",
       "      <td>P</td>\n",
       "      <td>0,0</td>\n",
       "      <td>0,0</td>\n",
       "      <td>9085</td>\n",
       "      <td>8109</td>\n",
       "      <td>50</td>\n",
       "      <td>02</td>\n",
       "    </tr>\n",
       "    <tr>\n",
       "      <th>11837</th>\n",
       "      <td>18/12/2022 17:32:26</td>\n",
       "      <td>50810</td>\n",
       "      <td>CALLE COOPERATIVA, 2</td>\n",
       "      <td>L-D: 24H</td>\n",
       "      <td>41,938750</td>\n",
       "      <td>ONTINAR DE SALZ</td>\n",
       "      <td>-0,757611</td>\n",
       "      <td>D</td>\n",
       "      <td>Zuera</td>\n",
       "      <td></td>\n",
       "      <td>...</td>\n",
       "      <td>ZARAGOZA</td>\n",
       "      <td>dm</td>\n",
       "      <td>COOPERATIVA SAN ISIDRO</td>\n",
       "      <td>P</td>\n",
       "      <td>0,0</td>\n",
       "      <td>0,0</td>\n",
       "      <td>9068</td>\n",
       "      <td>8109</td>\n",
       "      <td>50</td>\n",
       "      <td>02</td>\n",
       "    </tr>\n",
       "  </tbody>\n",
       "</table>\n",
       "<p>11838 rows × 33 columns</p>\n",
       "</div>"
      ],
      "text/plain": [
       "                     Fecha   C.P.  \\\n",
       "0      18/12/2022 17:32:26  02250   \n",
       "1      18/12/2022 17:32:26  02001   \n",
       "2      18/12/2022 17:32:26  02001   \n",
       "3      18/12/2022 17:32:26  02001   \n",
       "4      18/12/2022 17:32:26  02001   \n",
       "...                    ...    ...   \n",
       "11833  18/12/2022 17:32:26  50197   \n",
       "11834  18/12/2022 17:32:26  50197   \n",
       "11835  18/12/2022 17:32:26  50800   \n",
       "11836  18/12/2022 17:32:26  50800   \n",
       "11837  18/12/2022 17:32:26  50810   \n",
       "\n",
       "                                               Dirección  \\\n",
       "0                         AVENIDA CASTILLA LA MANCHA, 26   \n",
       "1                                AVENIDA 1º DE MAYO, S/N   \n",
       "2      CALLE PRINCIPE DE ASTURIAS (POLÍGONO DE ROMICA...   \n",
       "3                         CALLE FEDERICO GARCIA LORCA, 1   \n",
       "4                         CALLE FEDERICO GARCIA LORCA, 5   \n",
       "...                                                  ...   \n",
       "11833                 RONDA FERIA DE MUESTRAS, DE LA, 20   \n",
       "11834                         POLIGONO CALLE TURIASO, 31   \n",
       "11835                        CARRETERA N-330A KM. 24,000   \n",
       "11836                               CALLE AUSTRIA, 11,17   \n",
       "11837                               CALLE COOPERATIVA, 2   \n",
       "\n",
       "                                Horario    Latitud        Localidad  \\\n",
       "0                      L-D: 07:00-22:00  39,211417        ABENGIBRE   \n",
       "1      L-S: 08:00-22:00; D: 09:00-21:00  38,985667         ALBACETE   \n",
       "2                      L-D: 06:00-21:30  39,054694         ALBACETE   \n",
       "3                              L-D: 24H  39,000861         ALBACETE   \n",
       "4                      L-S: 05:00-23:00  38,997722         ALBACETE   \n",
       "...                                 ...        ...              ...   \n",
       "11833                          L-D: 24H  41,637944         ZARAGOZA   \n",
       "11834                          L-D: 24H  41,645722         ZARAGOZA   \n",
       "11835                  L-D: 06:00-22:00  41,857000            ZUERA   \n",
       "11836                          L-D: 24H  41,883583            ZUERA   \n",
       "11837                          L-D: 24H  41,938750  ONTINAR DE SALZ   \n",
       "\n",
       "      Longitud (WGS84) Margen  Municipio Precio Biodiesel  ... Provincia  \\\n",
       "0            -1,539167      D  Abengibre                   ...  ALBACETE   \n",
       "1            -1,868500      N   Albacete                   ...  ALBACETE   \n",
       "2            -1,832000      I   Albacete                   ...  ALBACETE   \n",
       "3            -1,849833      D   Albacete                   ...  ALBACETE   \n",
       "4            -1,846361      I   Albacete                   ...  ALBACETE   \n",
       "...                ...    ...        ...              ...  ...       ...   \n",
       "11833        -0,986389      D   Zaragoza                   ...  ZARAGOZA   \n",
       "11834        -0,974194      D   Zaragoza                   ...  ZARAGOZA   \n",
       "11835        -0,794000      D      Zuera                   ...  ZARAGOZA   \n",
       "11836        -0,782833      D      Zuera                   ...  ZARAGOZA   \n",
       "11837        -0,757611      D      Zuera                   ...  ZARAGOZA   \n",
       "\n",
       "      Remisión                  Rótulo Tipo Venta % BioEtanol  \\\n",
       "0           dm               Nº 10.935          P         0,0   \n",
       "1           dm               CARREFOUR          P         0,0   \n",
       "2           OM               BP ROMICA          P         0,0   \n",
       "3           dm                 PLENOIL          P         0,0   \n",
       "4           dm                   CEPSA          R         0,0   \n",
       "...        ...                     ...        ...         ...   \n",
       "11833       OM                     IDS          P         0,0   \n",
       "11834       dm                    NOIL          P         0,0   \n",
       "11835       OM                  REPSOL          P         0,0   \n",
       "11836       dm    AN ENERGETICOS ZUERA          P         0,0   \n",
       "11837       dm  COOPERATIVA SAN ISIDRO          P         0,0   \n",
       "\n",
       "      % Éster metílico IDEESS IDMunicipio IDProvincia IDCCAA  \n",
       "0                  0,0   4375          52          02     07  \n",
       "1                  0,0  10765          54          02     07  \n",
       "2                  0,0  12054          54          02     07  \n",
       "3                  0,0  13933          54          02     07  \n",
       "4                  0,0   4438          54          02     07  \n",
       "...                ...    ...         ...         ...    ...  \n",
       "11833              0,0  12472        8108          50     02  \n",
       "11834              0,0  13917        8108          50     02  \n",
       "11835              0,0   1452        8109          50     02  \n",
       "11836              0,0   9085        8109          50     02  \n",
       "11837              0,0   9068        8109          50     02  \n",
       "\n",
       "[11838 rows x 33 columns]"
      ]
     },
     "execution_count": 8,
     "metadata": {},
     "output_type": "execute_result"
    }
   ],
   "source": [
    "# Extraigo informacion de columna EESS Precio, utilizando json normalize\n",
    "\n",
    "df_n = pd.concat([df[['Fecha']],pd.json_normalize(df['ListaEESSPrecio'])], axis=1)\n",
    "df_n\n"
   ]
  },
  {
   "cell_type": "code",
   "execution_count": 9,
   "id": "90463003",
   "metadata": {},
   "outputs": [],
   "source": [
    "# Guardamos df original para sucesion de tiempo\n",
    "#df_n.to_csv('2022-11-05x.csv', index=False)"
   ]
  },
  {
   "cell_type": "code",
   "execution_count": 10,
   "id": "2d75fcc5",
   "metadata": {
    "scrolled": true
   },
   "outputs": [
    {
     "name": "stdout",
     "output_type": "stream",
     "text": [
      "<class 'pandas.core.frame.DataFrame'>\n",
      "RangeIndex: 11838 entries, 0 to 11837\n",
      "Data columns (total 33 columns):\n",
      " #   Column                              Non-Null Count  Dtype \n",
      "---  ------                              --------------  ----- \n",
      " 0   Fecha                               11838 non-null  object\n",
      " 1   C.P.                                11838 non-null  object\n",
      " 2   Dirección                           11838 non-null  object\n",
      " 3   Horario                             11838 non-null  object\n",
      " 4   Latitud                             11838 non-null  object\n",
      " 5   Localidad                           11838 non-null  object\n",
      " 6   Longitud (WGS84)                    11838 non-null  object\n",
      " 7   Margen                              11838 non-null  object\n",
      " 8   Municipio                           11838 non-null  object\n",
      " 9   Precio Biodiesel                    11838 non-null  object\n",
      " 10  Precio Bioetanol                    11838 non-null  object\n",
      " 11  Precio Gas Natural Comprimido       11838 non-null  object\n",
      " 12  Precio Gas Natural Licuado          11838 non-null  object\n",
      " 13  Precio Gases licuados del petróleo  11838 non-null  object\n",
      " 14  Precio Gasoleo A                    11838 non-null  object\n",
      " 15  Precio Gasoleo B                    11838 non-null  object\n",
      " 16  Precio Gasoleo Premium              11838 non-null  object\n",
      " 17  Precio Gasolina 95 E10              11838 non-null  object\n",
      " 18  Precio Gasolina 95 E5               11838 non-null  object\n",
      " 19  Precio Gasolina 95 E5 Premium       11838 non-null  object\n",
      " 20  Precio Gasolina 98 E10              11838 non-null  object\n",
      " 21  Precio Gasolina 98 E5               11838 non-null  object\n",
      " 22  Precio Hidrogeno                    11838 non-null  object\n",
      " 23  Provincia                           11838 non-null  object\n",
      " 24  Remisión                            11838 non-null  object\n",
      " 25  Rótulo                              11838 non-null  object\n",
      " 26  Tipo Venta                          11838 non-null  object\n",
      " 27  % BioEtanol                         11838 non-null  object\n",
      " 28  % Éster metílico                    11838 non-null  object\n",
      " 29  IDEESS                              11838 non-null  object\n",
      " 30  IDMunicipio                         11838 non-null  object\n",
      " 31  IDProvincia                         11838 non-null  object\n",
      " 32  IDCCAA                              11838 non-null  object\n",
      "dtypes: object(33)\n",
      "memory usage: 3.0+ MB\n"
     ]
    }
   ],
   "source": [
    "df_n.info()"
   ]
  },
  {
   "cell_type": "markdown",
   "id": "ee524e6e",
   "metadata": {},
   "source": [
    "---\n",
    "Step (3): EDA"
   ]
  },
  {
   "cell_type": "markdown",
   "id": "7027ceb6",
   "metadata": {},
   "source": [
    "                                                    Análisis de Columnas"
   ]
  },
  {
   "cell_type": "markdown",
   "id": "4deaad69",
   "metadata": {},
   "source": [
    "# Fecha"
   ]
  },
  {
   "cell_type": "code",
   "execution_count": 11,
   "id": "dd7735c8",
   "metadata": {},
   "outputs": [
    {
     "name": "stdout",
     "output_type": "stream",
     "text": [
      "<class 'numpy.ndarray'>\n",
      "1\n"
     ]
    },
    {
     "data": {
      "text/plain": [
       "array(['18/12/2022 17:32:26'], dtype=object)"
      ]
     },
     "execution_count": 11,
     "metadata": {},
     "output_type": "execute_result"
    }
   ],
   "source": [
    "# Fecha (solo hay una fecha)\n",
    "Fecha = df_n['Fecha'].unique()\n",
    "print(type(Fecha))\n",
    "print(len(Fecha))\n",
    "Fecha"
   ]
  },
  {
   "cell_type": "code",
   "execution_count": 12,
   "id": "5d054a1e",
   "metadata": {},
   "outputs": [
    {
     "data": {
      "text/plain": [
       "0"
      ]
     },
     "execution_count": 12,
     "metadata": {},
     "output_type": "execute_result"
    }
   ],
   "source": [
    "# Nulos \n",
    "nulos_f = df_n['Fecha'].isnull().sum()\n",
    "nulos_f"
   ]
  },
  {
   "cell_type": "markdown",
   "id": "addc43ab",
   "metadata": {},
   "source": [
    "# Código Postal"
   ]
  },
  {
   "cell_type": "code",
   "execution_count": 13,
   "id": "603eca2d",
   "metadata": {},
   "outputs": [
    {
     "name": "stdout",
     "output_type": "stream",
     "text": [
      "<class 'numpy.ndarray'>\n",
      "4542\n"
     ]
    },
    {
     "data": {
      "text/plain": [
       "array(['02250', '02001', '02005', ..., '50197', '50800', '50810'],\n",
       "      dtype=object)"
      ]
     },
     "execution_count": 13,
     "metadata": {},
     "output_type": "execute_result"
    }
   ],
   "source": [
    "# Columna C.P.\n",
    "cp = df_n['C.P.'].unique()\n",
    "print(type(cp))\n",
    "print(len(cp))\n",
    "cp\n",
    "# En Esaña hay 11752 codigos postales en total"
   ]
  },
  {
   "cell_type": "code",
   "execution_count": 14,
   "id": "de4b57fa",
   "metadata": {},
   "outputs": [
    {
     "data": {
      "text/plain": [
       "0"
      ]
     },
     "execution_count": 14,
     "metadata": {},
     "output_type": "execute_result"
    }
   ],
   "source": [
    "# Nulos \n",
    "nulos_cp = df_n['C.P.'].isnull().sum()\n",
    "nulos_cp"
   ]
  },
  {
   "cell_type": "markdown",
   "id": "cd713bcb",
   "metadata": {},
   "source": [
    "# Dirección"
   ]
  },
  {
   "cell_type": "code",
   "execution_count": 15,
   "id": "3ce78674",
   "metadata": {},
   "outputs": [
    {
     "name": "stdout",
     "output_type": "stream",
     "text": [
      "<class 'numpy.ndarray'>\n",
      "11520\n"
     ]
    },
    {
     "data": {
      "text/plain": [
       "array(['AVENIDA CASTILLA LA MANCHA, 26', 'AVENIDA 1º DE MAYO, S/N',\n",
       "       'CALLE PRINCIPE DE ASTURIAS (POLÍGONO DE ROMICA), 5', ...,\n",
       "       'POLIGONO CALLE TURIASO, 31', 'CARRETERA N-330A KM. 24,000',\n",
       "       'CALLE AUSTRIA, 11,17'], dtype=object)"
      ]
     },
     "execution_count": 15,
     "metadata": {},
     "output_type": "execute_result"
    }
   ],
   "source": [
    "# Columna  Dirección\n",
    "direccion = df_n['Dirección'].unique()\n",
    "print(type(direccion))\n",
    "print(len(direccion))\n",
    "direccion\n"
   ]
  },
  {
   "cell_type": "code",
   "execution_count": 16,
   "id": "e1030055",
   "metadata": {},
   "outputs": [
    {
     "data": {
      "text/plain": [
       "0"
      ]
     },
     "execution_count": 16,
     "metadata": {},
     "output_type": "execute_result"
    }
   ],
   "source": [
    "# Nulos dirección\n",
    "nulos_cp = df_n['Dirección'].isnull().sum()\n",
    "nulos_cp"
   ]
  },
  {
   "cell_type": "markdown",
   "id": "b540d156",
   "metadata": {},
   "source": [
    "# Horario"
   ]
  },
  {
   "cell_type": "code",
   "execution_count": 17,
   "id": "d951b048",
   "metadata": {},
   "outputs": [
    {
     "data": {
      "text/plain": [
       "array(['L-D: 07:00-22:00', 'L-S: 08:00-22:00; D: 09:00-21:00',\n",
       "       'L-D: 06:00-21:30', ..., 'L-V: 06:00-21:00; S-D: 08:00-15:00',\n",
       "       'L-V: 08:00-22:30; S: 10:00-22:30',\n",
       "       'L-V: 05:00-22:00; S-D: 08:00-22:00'], dtype=object)"
      ]
     },
     "execution_count": 17,
     "metadata": {},
     "output_type": "execute_result"
    }
   ],
   "source": [
    "# Horario\n",
    "horario = df_n['Horario'].unique()\n",
    "horario"
   ]
  },
  {
   "cell_type": "code",
   "execution_count": 18,
   "id": "6cb34506",
   "metadata": {},
   "outputs": [
    {
     "data": {
      "text/plain": [
       "0"
      ]
     },
     "execution_count": 18,
     "metadata": {},
     "output_type": "execute_result"
    }
   ],
   "source": [
    "# Nulos horario\n",
    "nulos_h = df_n['Horario'].isnull().sum()\n",
    "nulos_h"
   ]
  },
  {
   "cell_type": "markdown",
   "id": "129d07e9",
   "metadata": {},
   "source": [
    "# Latitud"
   ]
  },
  {
   "cell_type": "code",
   "execution_count": 19,
   "id": "aa9399ed",
   "metadata": {},
   "outputs": [
    {
     "name": "stdout",
     "output_type": "stream",
     "text": [
      "11470\n"
     ]
    },
    {
     "data": {
      "text/plain": [
       "array(['39,211417', '38,985667', '39,054694', ..., '41,857000',\n",
       "       '41,883583', '41,938750'], dtype=object)"
      ]
     },
     "execution_count": 19,
     "metadata": {},
     "output_type": "execute_result"
    }
   ],
   "source": [
    "#Latitud (Coincide Latitud y Longitud con las coordenadas en las gasolineras de Google Maps)\n",
    "latitud = df_n['Latitud'].unique()\n",
    "print(len(latitud ))\n",
    "latitud\n"
   ]
  },
  {
   "cell_type": "code",
   "execution_count": 20,
   "id": "b12f974a",
   "metadata": {},
   "outputs": [
    {
     "data": {
      "text/plain": [
       "0"
      ]
     },
     "execution_count": 20,
     "metadata": {},
     "output_type": "execute_result"
    }
   ],
   "source": [
    "# Nulos Latitud\n",
    "nulos_l = df_n['Latitud'].isnull().sum()\n",
    "nulos_l"
   ]
  },
  {
   "cell_type": "markdown",
   "id": "14f71694",
   "metadata": {},
   "source": [
    "# Longitud"
   ]
  },
  {
   "cell_type": "code",
   "execution_count": 21,
   "id": "26f3092e",
   "metadata": {
    "scrolled": true
   },
   "outputs": [
    {
     "name": "stdout",
     "output_type": "stream",
     "text": [
      "11593\n"
     ]
    },
    {
     "data": {
      "text/plain": [
       "array(['-1,539167', '-1,868500', '-1,832000', ..., '-0,794000',\n",
       "       '-0,782833', '-0,757611'], dtype=object)"
      ]
     },
     "execution_count": 21,
     "metadata": {},
     "output_type": "execute_result"
    }
   ],
   "source": [
    "# Longitud (Coincide Latitud y Longitud con las coordenadas en las gasolineras de Google Maps)\n",
    "Longitud = df_n['Longitud (WGS84)'].unique()\n",
    "print(len(Longitud))\n",
    "Longitud\n"
   ]
  },
  {
   "cell_type": "code",
   "execution_count": 22,
   "id": "e018ad91",
   "metadata": {},
   "outputs": [
    {
     "data": {
      "text/plain": [
       "0"
      ]
     },
     "execution_count": 22,
     "metadata": {},
     "output_type": "execute_result"
    }
   ],
   "source": [
    "# Nulos Longitud\n",
    "nulos_long = df_n['Longitud (WGS84)'].isnull().sum()\n",
    "nulos_long"
   ]
  },
  {
   "cell_type": "markdown",
   "id": "baaa7f76",
   "metadata": {},
   "source": [
    "# Localidad"
   ]
  },
  {
   "cell_type": "code",
   "execution_count": 23,
   "id": "05337df3",
   "metadata": {},
   "outputs": [
    {
     "name": "stdout",
     "output_type": "stream",
     "text": [
      "4243\n"
     ]
    },
    {
     "data": {
      "text/plain": [
       "array(['ABENGIBRE', 'ALBACETE', 'SANTA ANA', ..., 'VILLARRAPA', 'ZUERA',\n",
       "       'ONTINAR DE SALZ'], dtype=object)"
      ]
     },
     "execution_count": 23,
     "metadata": {},
     "output_type": "execute_result"
    }
   ],
   "source": [
    "#Localidad\n",
    "Localidad = df_n['Localidad'].unique()\n",
    "print(len(Localidad))\n",
    "Localidad"
   ]
  },
  {
   "cell_type": "code",
   "execution_count": 24,
   "id": "46fae344",
   "metadata": {},
   "outputs": [
    {
     "data": {
      "text/plain": [
       "0"
      ]
     },
     "execution_count": 24,
     "metadata": {},
     "output_type": "execute_result"
    }
   ],
   "source": [
    "# Nulos Localidad\n",
    "nulos_loc = df_n['Localidad'].isnull().sum()\n",
    "nulos_loc"
   ]
  },
  {
   "cell_type": "markdown",
   "id": "8fa3baee",
   "metadata": {},
   "source": [
    "# Municipio "
   ]
  },
  {
   "cell_type": "code",
   "execution_count": 25,
   "id": "0e69e607",
   "metadata": {},
   "outputs": [
    {
     "name": "stdout",
     "output_type": "stream",
     "text": [
      "3438\n"
     ]
    },
    {
     "data": {
      "text/plain": [
       "array(['Abengibre', 'Albacete', 'Alcadozo', ...,\n",
       "       'Villarroya de la Sierra', 'Zaragoza', 'Zuera'], dtype=object)"
      ]
     },
     "execution_count": 25,
     "metadata": {},
     "output_type": "execute_result"
    }
   ],
   "source": [
    "# Municipio (En España hay 8131 Municipios)\n",
    "Municipio = df_n['Municipio'].unique() \n",
    "print(len(Municipio))\n",
    "Municipio\n",
    "\n"
   ]
  },
  {
   "cell_type": "code",
   "execution_count": 26,
   "id": "223081b3",
   "metadata": {},
   "outputs": [
    {
     "data": {
      "text/plain": [
       "0"
      ]
     },
     "execution_count": 26,
     "metadata": {},
     "output_type": "execute_result"
    }
   ],
   "source": [
    "# Nulos Municipio\n",
    "nulos_loc = df_n['Municipio'].isnull().sum()\n",
    "nulos_loc"
   ]
  },
  {
   "cell_type": "markdown",
   "id": "cc6b303b",
   "metadata": {},
   "source": [
    "# Margen"
   ]
  },
  {
   "cell_type": "code",
   "execution_count": 27,
   "id": "cf022a39",
   "metadata": {},
   "outputs": [
    {
     "name": "stdout",
     "output_type": "stream",
     "text": [
      "3\n"
     ]
    },
    {
     "data": {
      "text/plain": [
       "array(['D', 'N', 'I'], dtype=object)"
      ]
     },
     "execution_count": 27,
     "metadata": {},
     "output_type": "execute_result"
    }
   ],
   "source": [
    "# Margen\n",
    "Margen = df_n['Margen'].unique()\n",
    "print(len(Margen))\n",
    "Margen"
   ]
  },
  {
   "cell_type": "markdown",
   "id": "2d2ea3bb",
   "metadata": {},
   "source": [
    "# Provincia "
   ]
  },
  {
   "cell_type": "code",
   "execution_count": 28,
   "id": "e1fa2d5f",
   "metadata": {},
   "outputs": [
    {
     "name": "stdout",
     "output_type": "stream",
     "text": [
      "52\n"
     ]
    },
    {
     "data": {
      "text/plain": [
       "array(['ALBACETE', 'ALICANTE', 'ALMERÍA', 'ARABA/ÁLAVA', 'ASTURIAS',\n",
       "       'ÁVILA', 'BADAJOZ', 'BALEARS (ILLES)', 'BARCELONA', 'BIZKAIA',\n",
       "       'BURGOS', 'CÁCERES', 'CÁDIZ', 'CANTABRIA', 'CASTELLÓN / CASTELLÓ',\n",
       "       'CEUTA', 'CIUDAD REAL', 'CÓRDOBA', 'CORUÑA (A)', 'CUENCA',\n",
       "       'GIPUZKOA', 'GIRONA', 'GRANADA', 'GUADALAJARA', 'HUELVA', 'HUESCA',\n",
       "       'JAÉN', 'LEÓN', 'LLEIDA', 'LUGO', 'MADRID', 'MÁLAGA', 'MELILLA',\n",
       "       'MURCIA', 'NAVARRA', 'OURENSE', 'PALENCIA', 'PALMAS (LAS)',\n",
       "       'PONTEVEDRA', 'RIOJA (LA)', 'SALAMANCA', 'SANTA CRUZ DE TENERIFE',\n",
       "       'SEGOVIA', 'SEVILLA', 'SORIA', 'TARRAGONA', 'TERUEL', 'TOLEDO',\n",
       "       'VALENCIA / VALÈNCIA', 'VALLADOLID', 'ZAMORA', 'ZARAGOZA'],\n",
       "      dtype=object)"
      ]
     },
     "execution_count": 28,
     "metadata": {},
     "output_type": "execute_result"
    }
   ],
   "source": [
    "# Provincia (Están todas las Provinicas de España en nuestro df)\n",
    "Provincia = df_n['Provincia'].unique()\n",
    "print(len(Provincia))\n",
    "Provincia"
   ]
  },
  {
   "cell_type": "code",
   "execution_count": 29,
   "id": "b27108a2",
   "metadata": {},
   "outputs": [
    {
     "data": {
      "text/plain": [
       "0"
      ]
     },
     "execution_count": 29,
     "metadata": {},
     "output_type": "execute_result"
    }
   ],
   "source": [
    "# Nulos Provincia\n",
    "nulos_prov = df_n['Provincia'].isnull().sum()\n",
    "nulos_prov"
   ]
  },
  {
   "cell_type": "markdown",
   "id": "722a58a1",
   "metadata": {},
   "source": [
    "# Remision"
   ]
  },
  {
   "cell_type": "code",
   "execution_count": 30,
   "id": "78c3b1c9",
   "metadata": {},
   "outputs": [
    {
     "name": "stdout",
     "output_type": "stream",
     "text": [
      "2\n",
      "<class 'numpy.ndarray'>\n"
     ]
    },
    {
     "data": {
      "text/plain": [
       "array(['dm', 'OM'], dtype=object)"
      ]
     },
     "execution_count": 30,
     "metadata": {},
     "output_type": "execute_result"
    }
   ],
   "source": [
    "# Remisión (Sistema de envío de información de precios y de ventas a través de API)\n",
    "Remision = df_n['Remisión'].unique()\n",
    "print(len(Remision))\n",
    "print(type(Remision))\n",
    "Remision"
   ]
  },
  {
   "cell_type": "markdown",
   "id": "cc886f49",
   "metadata": {},
   "source": [
    "# Rótulo"
   ]
  },
  {
   "cell_type": "code",
   "execution_count": 31,
   "id": "8157f57d",
   "metadata": {},
   "outputs": [
    {
     "name": "stdout",
     "output_type": "stream",
     "text": [
      "4027\n",
      "<class 'numpy.ndarray'>\n"
     ]
    },
    {
     "data": {
      "text/plain": [
       "array(['Nº 10.935', 'CARREFOUR', 'BP ROMICA', ...,\n",
       "       'COOPERATIVA SAN LAMBERTO', 'DAGO', 'AN ENERGETICOS ZUERA'],\n",
       "      dtype=object)"
      ]
     },
     "execution_count": 31,
     "metadata": {},
     "output_type": "execute_result"
    }
   ],
   "source": [
    "# Rótulo (En España hay 3952 marcas de Gasolineras en España según datos de Google)\n",
    "Rotulo = df_n['Rótulo'].unique()\n",
    "print(len(Rotulo))\n",
    "print(type(Rotulo))\n",
    "Rotulo\n"
   ]
  },
  {
   "cell_type": "markdown",
   "id": "676ec408",
   "metadata": {},
   "source": [
    "# Tipo de Venta"
   ]
  },
  {
   "cell_type": "code",
   "execution_count": 32,
   "id": "7b2d09eb",
   "metadata": {},
   "outputs": [
    {
     "name": "stdout",
     "output_type": "stream",
     "text": [
      "2\n",
      "<class 'numpy.ndarray'>\n"
     ]
    },
    {
     "data": {
      "text/plain": [
       "array(['P', 'R'], dtype=object)"
      ]
     },
     "execution_count": 32,
     "metadata": {},
     "output_type": "execute_result"
    }
   ],
   "source": [
    "# Tipo Venta\n",
    "tv = df_n['Tipo Venta'].unique()\n",
    "print(len(tv))\n",
    "print(type(tv))\n",
    "tv"
   ]
  },
  {
   "cell_type": "markdown",
   "id": "7aad165f",
   "metadata": {},
   "source": [
    "# Porcentaje de Bioetanol"
   ]
  },
  {
   "cell_type": "code",
   "execution_count": 33,
   "id": "95e6e4b0",
   "metadata": {},
   "outputs": [
    {
     "name": "stdout",
     "output_type": "stream",
     "text": [
      "3\n",
      "<class 'numpy.ndarray'>\n"
     ]
    },
    {
     "data": {
      "text/plain": [
       "array(['0,0', '25,0', '85,0'], dtype=object)"
      ]
     },
     "execution_count": 33,
     "metadata": {},
     "output_type": "execute_result"
    }
   ],
   "source": [
    "# % BioEtanol (La diferencia entre gasolinas E5 o E10 significan el porcentaje de Etanol (5 o 10%))\n",
    "bioetanol = df_n['% BioEtanol'].unique()\n",
    "print(len(bioetanol))\n",
    "print(type(bioetanol))\n",
    "bioetanol"
   ]
  },
  {
   "cell_type": "markdown",
   "id": "54c7afc2",
   "metadata": {},
   "source": [
    "# Porcentaje de Éster Metílico"
   ]
  },
  {
   "cell_type": "code",
   "execution_count": 34,
   "id": "19aff9d9",
   "metadata": {},
   "outputs": [
    {
     "name": "stdout",
     "output_type": "stream",
     "text": [
      "6\n",
      "<class 'numpy.ndarray'>\n"
     ]
    },
    {
     "data": {
      "text/plain": [
       "array(['0,0', '7,0', '12,0', '20,0', '30,0', '10,0'], dtype=object)"
      ]
     },
     "execution_count": 34,
     "metadata": {},
     "output_type": "execute_result"
    }
   ],
   "source": [
    "# % Éster metílico (solo para Biodiesel)\n",
    "em = df_n['% Éster metílico'].unique()\n",
    "print(len(em))\n",
    "print(type(em))\n",
    "em"
   ]
  },
  {
   "cell_type": "markdown",
   "id": "e1bfb0ff",
   "metadata": {},
   "source": [
    "#  IDEESS"
   ]
  },
  {
   "cell_type": "code",
   "execution_count": 35,
   "id": "1bcc7c30",
   "metadata": {},
   "outputs": [
    {
     "name": "stdout",
     "output_type": "stream",
     "text": [
      "11838\n"
     ]
    },
    {
     "data": {
      "text/plain": [
       "array(['4375', '10765', '12054', ..., '1452', '9085', '9068'],\n",
       "      dtype=object)"
      ]
     },
     "execution_count": 35,
     "metadata": {},
     "output_type": "execute_result"
    }
   ],
   "source": [
    "# IDEESS (ID Estación de Servicio, los mismos que estaciones (filas))\n",
    "IDEESS = df_n['IDEESS'].unique()\n",
    "print(len(IDEESS))\n",
    "type(IDEESS)\n",
    "IDEESS "
   ]
  },
  {
   "cell_type": "code",
   "execution_count": 36,
   "id": "89c026f2",
   "metadata": {},
   "outputs": [
    {
     "data": {
      "text/plain": [
       "0"
      ]
     },
     "execution_count": 36,
     "metadata": {},
     "output_type": "execute_result"
    }
   ],
   "source": [
    "# Nulos IDEESS\n",
    "nulos_IDEESS = df_n['IDEESS'].isnull().sum()\n",
    "nulos_IDEESS"
   ]
  },
  {
   "cell_type": "markdown",
   "id": "48e885d2",
   "metadata": {},
   "source": [
    "# ID Municipio"
   ]
  },
  {
   "cell_type": "code",
   "execution_count": 37,
   "id": "7dc3d12d",
   "metadata": {},
   "outputs": [
    {
     "name": "stdout",
     "output_type": "stream",
     "text": [
      "3439\n"
     ]
    },
    {
     "data": {
      "text/plain": [
       "array(['52', '54', '57', ..., '8103', '8108', '8109'], dtype=object)"
      ]
     },
     "execution_count": 37,
     "metadata": {},
     "output_type": "execute_result"
    }
   ],
   "source": [
    "# IDMunicipio (un ID más que municipios)\n",
    "idmun = df_n['IDMunicipio'].unique()\n",
    "print(len(idmun))\n",
    "type(idmun)\n",
    "idmun"
   ]
  },
  {
   "cell_type": "code",
   "execution_count": 38,
   "id": "c857c488",
   "metadata": {},
   "outputs": [
    {
     "data": {
      "text/plain": [
       "0"
      ]
     },
     "execution_count": 38,
     "metadata": {},
     "output_type": "execute_result"
    }
   ],
   "source": [
    "# Nulos ID Municipio\n",
    "nulos_IDMunicipio = df_n['IDMunicipio'].isnull().sum()\n",
    "nulos_IDMunicipio"
   ]
  },
  {
   "cell_type": "markdown",
   "id": "6568aaff",
   "metadata": {},
   "source": [
    "# ID Provincia"
   ]
  },
  {
   "cell_type": "code",
   "execution_count": 39,
   "id": "896e7bf1",
   "metadata": {},
   "outputs": [
    {
     "name": "stdout",
     "output_type": "stream",
     "text": [
      "52\n"
     ]
    },
    {
     "data": {
      "text/plain": [
       "array(['02', '03', '04', '01', '33', '05', '06', '07', '08', '48', '09',\n",
       "       '10', '11', '39', '12', '51', '13', '14', '15', '16', '20', '17',\n",
       "       '18', '19', '21', '22', '23', '24', '25', '27', '28', '29', '52',\n",
       "       '30', '31', '32', '34', '35', '36', '26', '37', '38', '40', '41',\n",
       "       '42', '43', '44', '45', '46', '47', '49', '50'], dtype=object)"
      ]
     },
     "execution_count": 39,
     "metadata": {},
     "output_type": "execute_result"
    }
   ],
   "source": [
    "# IDProvincia (Los mismos ID que Provincias)\n",
    "idprov = df_n['IDProvincia'].unique()\n",
    "print(len(idprov))\n",
    "type(idprov)\n",
    "idprov"
   ]
  },
  {
   "cell_type": "code",
   "execution_count": 40,
   "id": "0383161f",
   "metadata": {},
   "outputs": [
    {
     "data": {
      "text/plain": [
       "0"
      ]
     },
     "execution_count": 40,
     "metadata": {},
     "output_type": "execute_result"
    }
   ],
   "source": [
    "nulos_IDProvincia = df_n['IDProvincia'].isnull().sum()\n",
    "nulos_IDProvincia"
   ]
  },
  {
   "cell_type": "markdown",
   "id": "f0203c4c",
   "metadata": {},
   "source": [
    "# ID CCAA"
   ]
  },
  {
   "cell_type": "code",
   "execution_count": 41,
   "id": "cc731089",
   "metadata": {},
   "outputs": [
    {
     "name": "stdout",
     "output_type": "stream",
     "text": [
      "19\n"
     ]
    },
    {
     "data": {
      "text/plain": [
       "array(['07', '10', '01', '16', '03', '08', '11', '04', '09', '06', '18',\n",
       "       '12', '02', '13', '19', '14', '15', '05', '17'], dtype=object)"
      ]
     },
     "execution_count": 41,
     "metadata": {},
     "output_type": "execute_result"
    }
   ],
   "source": [
    "# IDCCAA (ID Comunidades Autónomas, 17 CCAA + Ceuta + Melilla)\n",
    "# IDProvincia (Los mismos ID que Provincias)\n",
    "idccaa = df_n['IDCCAA'].unique()\n",
    "print(len(idccaa))\n",
    "type(idccaa)\n",
    "idccaa"
   ]
  },
  {
   "cell_type": "markdown",
   "id": "4cf497b1",
   "metadata": {},
   "source": [
    "                                                Columnas Numéricas\n",
    "                                                "
   ]
  },
  {
   "cell_type": "markdown",
   "id": "cd72e5ad",
   "metadata": {},
   "source": [
    "# Biodiesel"
   ]
  },
  {
   "cell_type": "code",
   "execution_count": 42,
   "id": "01c87a0e",
   "metadata": {},
   "outputs": [
    {
     "name": "stdout",
     "output_type": "stream",
     "text": [
      "20\n",
      "<class 'numpy.ndarray'>\n"
     ]
    },
    {
     "data": {
      "text/plain": [
       "array(['', '1,658', '1,829', '1,999', '1,729', '1,399', '1,499', '1,469',\n",
       "       '1,569', '1,449', '1,678', '1,694', '1,779', '1,699', '1,869',\n",
       "       '1,539', '1,759', '1,739', '1,750', '1,667'], dtype=object)"
      ]
     },
     "execution_count": 42,
     "metadata": {},
     "output_type": "execute_result"
    }
   ],
   "source": [
    "Biodiesel = df_n['Precio Biodiesel'].unique()\n",
    "print(len(Biodiesel))\n",
    "print(type(Biodiesel))\n",
    "Biodiesel"
   ]
  },
  {
   "cell_type": "code",
   "execution_count": 43,
   "id": "c1172885",
   "metadata": {},
   "outputs": [],
   "source": [
    "# Convertimos columna categórica a numérica\n",
    "df_n['Precio Biodiesel']=df_n['Precio Biodiesel'].str.replace(',','.')\n",
    "df_n[['Precio Biodiesel']]=df_n[['Precio Biodiesel']].apply(pd.to_numeric)"
   ]
  },
  {
   "cell_type": "code",
   "execution_count": 44,
   "id": "3ba01c1b",
   "metadata": {},
   "outputs": [
    {
     "data": {
      "text/plain": [
       "count    37.000000\n",
       "mean      1.604459\n",
       "std       0.156611\n",
       "min       1.399000\n",
       "25%       1.499000\n",
       "50%       1.569000\n",
       "75%       1.729000\n",
       "max       1.999000\n",
       "Name: Precio Biodiesel, dtype: float64"
      ]
     },
     "execution_count": 44,
     "metadata": {},
     "output_type": "execute_result"
    }
   ],
   "source": [
    "df_n['Precio Biodiesel'].describe()\n"
   ]
  },
  {
   "cell_type": "code",
   "execution_count": 45,
   "id": "0b00d7af",
   "metadata": {},
   "outputs": [
    {
     "data": {
      "text/plain": [
       "11801"
      ]
     },
     "execution_count": 45,
     "metadata": {},
     "output_type": "execute_result"
    }
   ],
   "source": [
    "# Registros sin venta Biodiesel\n",
    "sin_suministro_b = df_n['Precio Biodiesel'].isnull().sum()\n",
    "sin_suministro_b"
   ]
  },
  {
   "cell_type": "markdown",
   "id": "fd2b4066",
   "metadata": {},
   "source": [
    "## Precio Bioetanol "
   ]
  },
  {
   "cell_type": "code",
   "execution_count": 46,
   "id": "edbcaac9",
   "metadata": {},
   "outputs": [
    {
     "name": "stdout",
     "output_type": "stream",
     "text": [
      "6\n",
      "<class 'numpy.ndarray'>\n"
     ]
    },
    {
     "data": {
      "text/plain": [
       "array(['', '1,999', '1,892', '1,487', '1,859', '1,639'], dtype=object)"
      ]
     },
     "execution_count": 46,
     "metadata": {},
     "output_type": "execute_result"
    }
   ],
   "source": [
    "Bioetanol = df_n['Precio Bioetanol'].unique()\n",
    "print(len(Bioetanol))\n",
    "print(type(Bioetanol))\n",
    "Bioetanol"
   ]
  },
  {
   "cell_type": "code",
   "execution_count": 47,
   "id": "3f6be22e",
   "metadata": {},
   "outputs": [],
   "source": [
    "# Convertimos columna categórica a numérica\n",
    "df_n['Precio Bioetanol']=df_n['Precio Bioetanol'].str.replace(',','.')\n",
    "df_n[['Precio Bioetanol']]=df_n[['Precio Bioetanol']].apply(pd.to_numeric)"
   ]
  },
  {
   "cell_type": "code",
   "execution_count": 48,
   "id": "336b94fa",
   "metadata": {},
   "outputs": [
    {
     "data": {
      "text/plain": [
       "count    5.000000\n",
       "mean     1.775200\n",
       "std      0.207582\n",
       "min      1.487000\n",
       "25%      1.639000\n",
       "50%      1.859000\n",
       "75%      1.892000\n",
       "max      1.999000\n",
       "Name: Precio Bioetanol, dtype: float64"
      ]
     },
     "execution_count": 48,
     "metadata": {},
     "output_type": "execute_result"
    }
   ],
   "source": [
    "df_n['Precio Bioetanol'].describe()"
   ]
  },
  {
   "cell_type": "code",
   "execution_count": 49,
   "id": "8614e236",
   "metadata": {},
   "outputs": [
    {
     "data": {
      "text/plain": [
       "11833"
      ]
     },
     "execution_count": 49,
     "metadata": {},
     "output_type": "execute_result"
    }
   ],
   "source": [
    "# Registros sin venta Biodiesel\n",
    "sin_suministro_be = df_n['Precio Bioetanol'].isnull().sum()\n",
    "sin_suministro_be"
   ]
  },
  {
   "cell_type": "markdown",
   "id": "de4c6c51",
   "metadata": {},
   "source": [
    "## Precio Gas Natural Comprimido"
   ]
  },
  {
   "cell_type": "code",
   "execution_count": 50,
   "id": "b2824198",
   "metadata": {},
   "outputs": [
    {
     "name": "stdout",
     "output_type": "stream",
     "text": [
      "31\n",
      "<class 'numpy.ndarray'>\n"
     ]
    },
    {
     "data": {
      "text/plain": [
       "array(['', '1,930', '1,960', '1,898', '2,250', '1,299', '1,927', '1,949',\n",
       "       '1,690', '2,331', '1,940', '1,349', '2,490', '1,959', '1,979',\n",
       "       '2,329', '2,030', '1,889', '1,859', '2,539', '1,387', '1,849',\n",
       "       '1,899', '1,879', '1,934', '2,350', '1,597', '1,300', '1,912',\n",
       "       '1,939', '2,069'], dtype=object)"
      ]
     },
     "execution_count": 50,
     "metadata": {},
     "output_type": "execute_result"
    }
   ],
   "source": [
    "Gas_n_c = df_n['Precio Gas Natural Comprimido'].unique()\n",
    "print(len(Gas_n_c))\n",
    "print(type(Gas_n_c))\n",
    "Gas_n_c"
   ]
  },
  {
   "cell_type": "code",
   "execution_count": 51,
   "id": "1ac50945",
   "metadata": {},
   "outputs": [],
   "source": [
    "# Convertimos columna categórica a numérica\n",
    "df_n['Precio Gas Natural Comprimido']=df_n['Precio Gas Natural Comprimido'].str.replace(',','.')\n",
    "df_n[['Precio Gas Natural Comprimido']]=df_n[['Precio Gas Natural Comprimido']].apply(pd.to_numeric)"
   ]
  },
  {
   "cell_type": "code",
   "execution_count": 52,
   "id": "1f65143d",
   "metadata": {},
   "outputs": [
    {
     "data": {
      "text/plain": [
       "count    126.000000\n",
       "mean       1.962675\n",
       "std        0.193839\n",
       "min        1.299000\n",
       "25%        1.930000\n",
       "50%        1.930000\n",
       "75%        1.960000\n",
       "max        2.539000\n",
       "Name: Precio Gas Natural Comprimido, dtype: float64"
      ]
     },
     "execution_count": 52,
     "metadata": {},
     "output_type": "execute_result"
    }
   ],
   "source": [
    "df_n['Precio Gas Natural Comprimido'].describe()"
   ]
  },
  {
   "cell_type": "code",
   "execution_count": 53,
   "id": "e7a5a486",
   "metadata": {},
   "outputs": [
    {
     "data": {
      "text/plain": [
       "11833"
      ]
     },
     "execution_count": 53,
     "metadata": {},
     "output_type": "execute_result"
    }
   ],
   "source": [
    "# Registros sin venta Biodiesel\n",
    "sin_suministro_be = df_n['Precio Bioetanol'].isnull().sum()\n",
    "sin_suministro_be"
   ]
  },
  {
   "cell_type": "markdown",
   "id": "33ddd76e",
   "metadata": {},
   "source": [
    "# Precio Gas Natural Licuado"
   ]
  },
  {
   "cell_type": "code",
   "execution_count": 54,
   "id": "d5685b8d",
   "metadata": {},
   "outputs": [
    {
     "name": "stdout",
     "output_type": "stream",
     "text": [
      "19\n",
      "<class 'numpy.ndarray'>\n"
     ]
    },
    {
     "data": {
      "text/plain": [
       "array(['', '1,890', '1,861', '1,798', '2,331', '1,299', '1,897', '1,849',\n",
       "       '1,850', '1,249', '2,490', '1,859', '2,329', '1,957', '1,879',\n",
       "       '1,834', '3,650', '1,807', '1,889'], dtype=object)"
      ]
     },
     "execution_count": 54,
     "metadata": {},
     "output_type": "execute_result"
    }
   ],
   "source": [
    "Gas_nat_lic = df_n['Precio Gas Natural Licuado'].unique()\n",
    "print(len(Gas_nat_lic))\n",
    "print(type(Gas_nat_lic))\n",
    "Gas_nat_lic"
   ]
  },
  {
   "cell_type": "code",
   "execution_count": 55,
   "id": "90f17335",
   "metadata": {},
   "outputs": [],
   "source": [
    "# Convertimos columna categórica a numérica, primero tenemos que sustituir , por .\n",
    "df_n['Precio Gas Natural Licuado']=df_n['Precio Gas Natural Licuado'].str.replace(',','.')\n",
    "df_n[['Precio Gas Natural Licuado']]=df_n[['Precio Gas Natural Licuado']].apply(pd.to_numeric)"
   ]
  },
  {
   "cell_type": "code",
   "execution_count": 56,
   "id": "7b35df2f",
   "metadata": {},
   "outputs": [
    {
     "data": {
      "text/plain": [
       "count    84.000000\n",
       "mean      1.944012\n",
       "std       0.278141\n",
       "min       1.249000\n",
       "25%       1.861000\n",
       "50%       1.861000\n",
       "75%       1.897000\n",
       "max       3.650000\n",
       "Name: Precio Gas Natural Licuado, dtype: float64"
      ]
     },
     "execution_count": 56,
     "metadata": {},
     "output_type": "execute_result"
    }
   ],
   "source": [
    "df_n['Precio Gas Natural Licuado'].describe()"
   ]
  },
  {
   "cell_type": "code",
   "execution_count": 57,
   "id": "0eca734e",
   "metadata": {},
   "outputs": [
    {
     "data": {
      "text/plain": [
       "11754"
      ]
     },
     "execution_count": 57,
     "metadata": {},
     "output_type": "execute_result"
    }
   ],
   "source": [
    "# Registros sin venta Gas NAtural Licuado\n",
    "sin_suministro_gnl = df_n['Precio Gas Natural Licuado'].isnull().sum()\n",
    "sin_suministro_gnl"
   ]
  },
  {
   "cell_type": "markdown",
   "id": "ba2199ad",
   "metadata": {},
   "source": [
    "# Precio Gases licuados del petróleo"
   ]
  },
  {
   "cell_type": "code",
   "execution_count": 58,
   "id": "bdff2425",
   "metadata": {},
   "outputs": [
    {
     "name": "stdout",
     "output_type": "stream",
     "text": [
      "118\n",
      "<class 'numpy.ndarray'>\n"
     ]
    },
    {
     "data": {
      "text/plain": [
       "array(['', '1,039', '0,898', '1,009', '1,049', '1,059', '0,969', '0,968',\n",
       "       '1,015', '1,065', '1,099', '1,029', '1,069', '1,007', '1,139',\n",
       "       '1,109', '1,119', '0,959', '0,860', '1,025', '0,930', '1,077',\n",
       "       '1,078', '1,038', '0,910', '0,939', '1,052', '1,019', '1,200',\n",
       "       '1,079', '0,999', '1,179', '0,980', '1,089', '1,189', '1,005',\n",
       "       '1,055', '0,869', '1,095', '1,129', '0,989', '1,056', '0,929',\n",
       "       '0,919', '0,885', '0,899', '0,950', '0,886', '1,094', '1,027',\n",
       "       '1,140', '0,949', '1,017', '1,037', '0,998', '0,978', '1,085',\n",
       "       '1,035', '0,865', '0,944', '0,640', '1,159', '1,148', '1,158',\n",
       "       '0,805', '1,001', '1,018', '0,879', '1,149', '0,768', '0,994',\n",
       "       '0,990', '0,979', '1,169', '0,997', '0,965', '1,150', '0,995',\n",
       "       '0,889', '1,045', '1,210', '1,260', '1,250', '1,160', '0,759',\n",
       "       '1,060', '0,769', '0,933', '1,075', '1,040', '1,100', '0,977',\n",
       "       '0,909', '0,908', '1,130', '1,028', '1,199', '1,185', '0,799',\n",
       "       '0,801', '0,789', '0,849', '0,800', '0,809', '0,829', '0,958',\n",
       "       '1,026', '1,000', '0,870', '0,967', '0,974', '0,905', '0,839',\n",
       "       '0,915', '0,850', '0,790', '0,830', '1,115'], dtype=object)"
      ]
     },
     "execution_count": 58,
     "metadata": {},
     "output_type": "execute_result"
    }
   ],
   "source": [
    "Gas_nat_lic_pet = df_n['Precio Gases licuados del petróleo'].unique()\n",
    "print(len(Gas_nat_lic_pet))\n",
    "print(type(Gas_nat_lic_pet))\n",
    "Gas_nat_lic_pet"
   ]
  },
  {
   "cell_type": "code",
   "execution_count": 59,
   "id": "94e05d01",
   "metadata": {},
   "outputs": [],
   "source": [
    "# Convertimos columna categórica a numérica\n",
    "df_n['Precio Gases licuados del petróleo']=df_n['Precio Gases licuados del petróleo'].str.replace(',','.')\n",
    "df_n[['Precio Gases licuados del petróleo']]=df_n[['Precio Gases licuados del petróleo']].apply(pd.to_numeric)"
   ]
  },
  {
   "cell_type": "code",
   "execution_count": 60,
   "id": "43ae8314",
   "metadata": {},
   "outputs": [
    {
     "data": {
      "text/plain": [
       "count    853.000000\n",
       "mean       1.025686\n",
       "std        0.075808\n",
       "min        0.640000\n",
       "25%        1.001000\n",
       "50%        1.039000\n",
       "75%        1.059000\n",
       "max        1.260000\n",
       "Name: Precio Gases licuados del petróleo, dtype: float64"
      ]
     },
     "execution_count": 60,
     "metadata": {},
     "output_type": "execute_result"
    }
   ],
   "source": [
    "df_n['Precio Gases licuados del petróleo'].describe()"
   ]
  },
  {
   "cell_type": "code",
   "execution_count": 61,
   "id": "f39d6004",
   "metadata": {},
   "outputs": [
    {
     "data": {
      "text/plain": [
       "10985"
      ]
     },
     "execution_count": 61,
     "metadata": {},
     "output_type": "execute_result"
    }
   ],
   "source": [
    "# Registros sin venta Gas NAtural Licuado del Petróleo\n",
    "sin_suministro_gnlp = df_n['Precio Gases licuados del petróleo'].isnull().sum()\n",
    "sin_suministro_gnlp"
   ]
  },
  {
   "cell_type": "code",
   "execution_count": 62,
   "id": "0a616a04",
   "metadata": {},
   "outputs": [
    {
     "data": {
      "text/plain": [
       "0"
      ]
     },
     "execution_count": 62,
     "metadata": {},
     "output_type": "execute_result"
    }
   ],
   "source": [
    "ceros_sin_suministro_gnlp = (df_n['Precio Gases licuados del petróleo'] == 0).sum()\n",
    "ceros_sin_suministro_gnlp"
   ]
  },
  {
   "cell_type": "markdown",
   "id": "579f7966",
   "metadata": {},
   "source": [
    "# Gasoleo A"
   ]
  },
  {
   "cell_type": "code",
   "execution_count": 63,
   "id": "b84c8a71",
   "metadata": {},
   "outputs": [
    {
     "name": "stdout",
     "output_type": "stream",
     "text": [
      "458\n",
      "<class 'numpy.ndarray'>\n"
     ]
    },
    {
     "data": {
      "text/plain": [
       "array(['1,639', '1,699', '1,709', '1,597', '1,730', '1,659', '1,618',\n",
       "       '1,739', '1,599', '1,689', '1,669', '1,690', '', '1,680', '2,259',\n",
       "       '1,559', '1,653', '1,649', '1,579', '1,719', '1,695', '1,919',\n",
       "       '1,729', '1,675', '1,679', '1,609', '1,664', '1,684', '1,765',\n",
       "       '1,849', '1,759', '1,634', '1,735', '1,650', '1,740', '1,769',\n",
       "       '1,629', '1,747', '1,779', '1,600', '1,660', '1,589', '1,644',\n",
       "       '1,605', '1,590', '1,839', '1,789', '1,876', '1,539', '1,610',\n",
       "       '1,749', '1,540', '1,808', '1,549', '1,547', '1,799', '1,449',\n",
       "       '1,444', '1,725', '1,537', '1,465', '1,479', '1,467', '1,457',\n",
       "       '1,665', '1,678', '1,497', '1,670', '1,648', '1,685', '1,697',\n",
       "       '1,595', '1,598', '1,557', '1,567', '1,704', '1,661', '1,569',\n",
       "       '1,791', '1,619', '1,499', '1,674', '1,628', '1,611', '1,489',\n",
       "       '1,687', '1,705', '1,525', '1,494', '1,485', '1,604', '1,519',\n",
       "       '1,564', '1,809', '1,631', '1,724', '1,656', '1,577', '1,688',\n",
       "       '1,630', '1,574', '1,638', '1,715', '1,509', '1,459', '1,614',\n",
       "       '1,515', '1,517', '1,593', '1,495', '1,627', '1,633', '1,700',\n",
       "       '1,588', '1,506', '1,505', '1,555', '1,568', '1,565', '1,654',\n",
       "       '1,686', '1,530', '1,795', '1,510', '1,560', '1,456', '1,999',\n",
       "       '1,483', '1,512', '1,545', '1,645', '1,698', '1,682', '1,585',\n",
       "       '1,683', '1,745', '1,746', '1,929', '1,640', '1,623', '1,487',\n",
       "       '1,738', '1,490', '1,718', '1,635', '1,575', '1,548', '1,646',\n",
       "       '1,594', '1,624', '1,607', '2,000', '1,617', '1,655', '1,758',\n",
       "       '1,775', '1,755', '1,666', '1,573', '1,694', '1,691', '1,899',\n",
       "       '1,835', '1,770', '1,668', '1,830', '1,437', '1,677', '1,620',\n",
       "       '1,850', '1,859', '1,641', '1,716', '1,657', '1,516', '1,734',\n",
       "       '1,561', '1,710', '1,790', '1,959', '1,708', '1,767', '1,855',\n",
       "       '1,750', '1,785', '1,658', '1,714', '1,748', '1,720', '1,713',\n",
       "       '1,558', '1,520', '1,587', '1,869', '1,717', '1,529', '1,448',\n",
       "       '1,608', '1,836', '1,578', '1,613', '1,445', '1,439', '1,544',\n",
       "       '1,535', '1,447', '1,446', '1,625', '1,733', '1,523', '2,125',\n",
       "       '1,464', '1,469', '1,475', '1,606', '1,596', '1,435', '1,637',\n",
       "       '1,615', '1,781', '1,731', '1,580', '2,139', '1,692', '1,647',\n",
       "       '1,892', '1,592', '1,773', '1,470', '1,550', '1,890', '1,829',\n",
       "       '1,774', '1,696', '1,616', '1,570', '1,989', '1,652', '1,562',\n",
       "       '1,667', '1,536', '1,601', '1,454', '1,543', '1,533', '1,478',\n",
       "       '1,329', '1,349', '1,348', '1,861', '1,586', '1,820', '1,576',\n",
       "       '1,552', '1,486', '1,673', '1,581', '1,663', '1,909', '1,819',\n",
       "       '1,301', '1,240', '1,712', '1,702', '1,538', '1,527', '1,681',\n",
       "       '1,526', '1,626', '1,400', '1,632', '1,900', '1,693', '1,701',\n",
       "       '1,760', '1,622', '1,870', '1,502', '1,762', '1,728', '1,707',\n",
       "       '1,737', '1,612', '1,889', '1,800', '1,771', '1,703', '1,584',\n",
       "       '2,309', '1,521', '1,476', '1,554', '1,492', '1,524', '1,450',\n",
       "       '1,754', '1,742', '1,498', '1,727', '1,894', '1,848', '2,200',\n",
       "       '1,711', '1,744', '1,676', '1,880', '1,453', '1,455', '1,845',\n",
       "       '1,556', '1,500', '1,875', '1,970', '1,572', '1,814', '1,452',\n",
       "       '1,815', '1,768', '1,451', '1,751', '1,542', '1,721', '1,846',\n",
       "       '1,901', '1,507', '1,752', '1,786', '2,199', '1,722', '1,477',\n",
       "       '1,643', '1,621', '1,591', '1,803', '1,244', '1,245', '1,295',\n",
       "       '1,662', '1,443', '1,508', '1,401', '1,794', '1,472', '1,488',\n",
       "       '1,345', '1,886', '1,888', '1,788', '1,563', '1,493', '1,878',\n",
       "       '1,879', '1,642', '1,429', '1,399', '1,239', '1,299', '1,198',\n",
       "       '1,235', '1,199', '1,385', '1,409', '1,518', '1,522', '1,514',\n",
       "       '1,531', '1,504', '1,484', '1,219', '1,389', '1,434', '1,419',\n",
       "       '1,442', '1,298', '1,474', '1,424', '1,319', '1,369', '1,420',\n",
       "       '1,436', '1,423', '1,390', '1,414', '1,428', '1,364', '1,398',\n",
       "       '1,427', '1,359', '1,798', '1,805', '1,810', '1,503', '1,551',\n",
       "       '1,458', '1,249', '1,254', '1,418', '1,394', '1,406', '1,433',\n",
       "       '1,415', '1,404', '1,463', '1,379', '1,378', '1,384', '1,375',\n",
       "       '1,334', '1,297', '1,328', '1,410', '1,388', '1,395', '1,339',\n",
       "       '1,438', '1,425', '1,368', '1,357', '1,370', '1,408', '1,374',\n",
       "       '1,309', '1,426', '1,358', '1,327', '1,356', '1,238', '1,440',\n",
       "       '1,289', '1,402', '1,723', '1,840', '1,818', '1,671', '1,778',\n",
       "       '1,780', '1,602', '1,528', '1,468', '1,534', '1,935', '1,777',\n",
       "       '1,797', '1,603', '1,636', '1,736', '2,150', '1,546', '1,532',\n",
       "       '1,566', '1,757', '1,949', '2,022', '1,672', '1,461', '1,471',\n",
       "       '1,864', '1,491'], dtype=object)"
      ]
     },
     "execution_count": 63,
     "metadata": {},
     "output_type": "execute_result"
    }
   ],
   "source": [
    "Gasoleo_A = df_n['Precio Gasoleo A'].unique()\n",
    "print(len(Gasoleo_A))\n",
    "print(type(Gasoleo_A))\n",
    "Gasoleo_A"
   ]
  },
  {
   "cell_type": "code",
   "execution_count": 64,
   "id": "03079146",
   "metadata": {},
   "outputs": [],
   "source": [
    "# Convertimos columna categórica a numérica, primero tenemos que sustituir , por .\n",
    "df_n['Precio Gasoleo A']=df_n['Precio Gasoleo A'].str.replace(',','.')\n",
    "df_n[['Precio Gasoleo A']]=df_n[['Precio Gasoleo A']].apply(pd.to_numeric)"
   ]
  },
  {
   "cell_type": "code",
   "execution_count": 65,
   "id": "b2093cd9",
   "metadata": {},
   "outputs": [
    {
     "data": {
      "text/plain": [
       "count    11493.000000\n",
       "mean         1.654534\n",
       "std          0.085119\n",
       "min          1.198000\n",
       "25%          1.619000\n",
       "50%          1.679000\n",
       "75%          1.699000\n",
       "max          2.309000\n",
       "Name: Precio Gasoleo A, dtype: float64"
      ]
     },
     "execution_count": 65,
     "metadata": {},
     "output_type": "execute_result"
    }
   ],
   "source": [
    "df_n['Precio Gasoleo A'].describe()\n"
   ]
  },
  {
   "cell_type": "code",
   "execution_count": 66,
   "id": "a0c57df7",
   "metadata": {},
   "outputs": [
    {
     "data": {
      "text/plain": [
       "345"
      ]
     },
     "execution_count": 66,
     "metadata": {},
     "output_type": "execute_result"
    }
   ],
   "source": [
    "# Registros sin venta Gasoleo A\n",
    "sin_suministro_gA = df_n['Precio Gasoleo A'].isnull().sum()\n",
    "sin_suministro_gA"
   ]
  },
  {
   "cell_type": "code",
   "execution_count": 67,
   "id": "2fd05b04",
   "metadata": {},
   "outputs": [
    {
     "data": {
      "text/plain": [
       "0"
      ]
     },
     "execution_count": 67,
     "metadata": {},
     "output_type": "execute_result"
    }
   ],
   "source": [
    "ceros_sin_suministro_gA = (df_n['Precio Gasoleo A'] == 0).sum()\n",
    "ceros_sin_suministro_gA"
   ]
  },
  {
   "cell_type": "markdown",
   "id": "6b8fd3b9",
   "metadata": {},
   "source": [
    "# Gasoleo B"
   ]
  },
  {
   "cell_type": "code",
   "execution_count": 68,
   "id": "90c596c9",
   "metadata": {},
   "outputs": [
    {
     "name": "stdout",
     "output_type": "stream",
     "text": [
      "458\n",
      "<class 'numpy.ndarray'>\n"
     ]
    },
    {
     "data": {
      "text/plain": [
       "array(['1,190', '', '1,297', '1,250', '1,230', '1,639', '1,539', '1,269',\n",
       "       '1,286', '1,520', '1,438', '1,311', '1,410', '1,450', '1,349',\n",
       "       '1,254', '1,374', '1,379', '1,366', '1,327', '1,220', '1,340',\n",
       "       '1,289', '1,699', '1,331', '1,298', '1,467', '1,200', '1,281',\n",
       "       '1,300', '1,290', '1,339', '1,189', '1,260', '1,420', '1,255',\n",
       "       '1,348', '1,341', '1,599', '1,309', '1,559', '1,170', '1,549',\n",
       "       '1,400', '1,479', '1,338', '1,294', '1,319', '1,275', '1,359',\n",
       "       '1,249', '1,589', '1,499', '1,383', '1,350', '1,399', '1,449',\n",
       "       '1,389', '1,439', '0,956', '1,430', '1,247', '1,358', '1,500',\n",
       "       '1,409', '1,455', '1,293', '1,369', '1,299', '1,580', '1,372',\n",
       "       '1,459', '1,404', '1,291', '1,382', '1,219', '1,480', '1,368',\n",
       "       '1,180', '1,495', '1,485', '1,279', '1,287', '1,234', '1,148',\n",
       "       '1,107', '1,244', '1,225', '1,649', '1,304', '1,329', '1,168',\n",
       "       '1,377', '1,419', '1,263', '1,209', '1,554', '1,345', '1,303',\n",
       "       '1,390', '1,179', '1,274', '1,489', '1,454', '1,416', '1,403',\n",
       "       '1,395', '1,315', '1,337', '1,322', '1,283', '1,346', '1,284',\n",
       "       '1,373', '1,363', '1,351', '1,278', '1,352', '1,270', '1,354',\n",
       "       '1,427', '1,292', '1,308', '1,239', '1,429', '1,407', '1,301',\n",
       "       '1,186', '1,385', '1,150', '1,360', '1,670', '1,370', '1,398',\n",
       "       '1,510', '1,199', '1,750', '1,470', '1,226', '1,650', '1,759',\n",
       "       '1,381', '0,900', '1,595', '1,099', '1,259', '1,579', '1,285',\n",
       "       '1,353', '1,659', '1,550', '1,155', '1,447', '1,265', '1,305',\n",
       "       '1,137', '1,478', '1,229', '1,600', '1,619', '1,425', '1,262',\n",
       "       '1,471', '1,592', '1,355', '1,344', '1,347', '1,477', '1,949',\n",
       "       '1,431', '1,375', '1,397', '1,362', '1,212', '1,412', '1,509',\n",
       "       '1,231', '1,440', '1,266', '1,276', '1,169', '1,568', '1,238',\n",
       "       '1,487', '1,378', '1,295', '1,334', '1,113', '1,178', '1,529',\n",
       "       '1,320', '1,608', '1,272', '1,396', '1,460', '1,332', '1,333',\n",
       "       '1,256', '1,009', '1,273', '1,328', '1,280', '1,181', '1,335',\n",
       "       '1,160', '1,314', '1,245', '1,196', '1,188', '1,240', '1,310',\n",
       "       '1,210', '1,411', '1,518', '1,140', '1,330', '1,177', '1,469',\n",
       "       '1,710', '1,288', '1,323', '1,464', '1,453', '1,519', '1,598',\n",
       "       '1,356', '1,235', '1,139', '1,216', '1,172', '1,215', '1,164',\n",
       "       '1,120', '1,424', '1,194', '1,313', '1,125', '1,252', '1,077',\n",
       "       '1,282', '1,128', '1,122', '1,165', '1,367', '1,325', '1,326',\n",
       "       '1,324', '1,176', '1,426', '1,264', '1,261', '1,090', '1,448',\n",
       "       '1,312', '1,175', '1,257', '1,197', '1,187', '1,535', '1,318',\n",
       "       '1,183', '1,126', '1,435', '1,376', '1,307', '1,253', '1,306',\n",
       "       '1,130', '1,629', '1,610', '1,451', '1,569', '1,558', '1,490',\n",
       "       '1,587', '1,669', '1,271', '1,268', '1,590', '1,548', '1,388',\n",
       "       '1,405', '1,144', '1,114', '1,069', '1,100', '1,161', '1,159',\n",
       "       '1,437', '1,104', '1,336', '1,243', '1,068', '1,408', '1,444',\n",
       "       '1,418', '1,380', '1,428', '1,790', '1,441', '1,514', '1,457',\n",
       "       '1,195', '1,391', '1,108', '1,119', '1,242', '1,088', '1,387',\n",
       "       '1,525', '1,406', '1,246', '1,174', '1,900', '1,386', '1,760',\n",
       "       '1,237', '1,233', '1,198', '1,205', '1,241', '1,218', '1,163',\n",
       "       '1,343', '1,258', '1,228', '1,157', '1,586', '1,213', '1,414',\n",
       "       '1,357', '1,267', '1,316', '1,182', '1,158', '1,496', '1,361',\n",
       "       '1,317', '1,434', '1,121', '1,192', '1,505', '1,653', '1,103',\n",
       "       '1,394', '1,185', '1,602', '1,415', '1,191', '1,585', '1,364',\n",
       "       '1,232', '1,184', '1,204', '1,486', '1,468', '1,456', '1,401',\n",
       "       '1,206', '1,522', '1,494', '1,526', '1,538', '1,749', '1,507',\n",
       "       '1,371', '1,296', '1,142', '1,248', '1,302', '1,342', '1,709',\n",
       "       '1,392', '1,498', '1,565', '1,277', '1,577', '1,208', '0,999',\n",
       "       '1,413', '1,214', '1,221', '1,606', '1,152', '1,151', '1,135',\n",
       "       '1,127', '1,236', '1,105', '1,202', '1,147', '1,146', '1,123',\n",
       "       '1,251', '1,106', '1,149', '1,393', '1,473', '1,365', '1,458',\n",
       "       '1,136', '1,528', '1,321', '1,417', '1,223', '1,101'], dtype=object)"
      ]
     },
     "execution_count": 68,
     "metadata": {},
     "output_type": "execute_result"
    }
   ],
   "source": [
    "Gasoleo_B = df_n['Precio Gasoleo B'].unique()\n",
    "print(len(Gasoleo_A))\n",
    "print(type(Gasoleo_A))\n",
    "Gasoleo_B"
   ]
  },
  {
   "cell_type": "code",
   "execution_count": 69,
   "id": "b9ff1285",
   "metadata": {},
   "outputs": [],
   "source": [
    "# Convertimos columna categórica a numérica, primero tenemos que sustituir , por .\n",
    "df_n['Precio Gasoleo B']=df_n['Precio Gasoleo B'].str.replace(',','.')\n",
    "df_n[['Precio Gasoleo B']]=df_n[['Precio Gasoleo B']].apply(pd.to_numeric)"
   ]
  },
  {
   "cell_type": "code",
   "execution_count": 70,
   "id": "40bfd63c",
   "metadata": {},
   "outputs": [
    {
     "data": {
      "text/plain": [
       "count    3013.000000\n",
       "mean        1.341226\n",
       "std         0.114382\n",
       "min         0.900000\n",
       "25%         1.267000\n",
       "50%         1.329000\n",
       "75%         1.399000\n",
       "max         1.949000\n",
       "Name: Precio Gasoleo B, dtype: float64"
      ]
     },
     "execution_count": 70,
     "metadata": {},
     "output_type": "execute_result"
    }
   ],
   "source": [
    "df_n['Precio Gasoleo B'].describe()\n"
   ]
  },
  {
   "cell_type": "code",
   "execution_count": 71,
   "id": "ee5cfffa",
   "metadata": {},
   "outputs": [
    {
     "data": {
      "text/plain": [
       "8825"
      ]
     },
     "execution_count": 71,
     "metadata": {},
     "output_type": "execute_result"
    }
   ],
   "source": [
    "# Registros sin venta Gasoleo B\n",
    "sin_suministro_gB = df_n['Precio Gasoleo B'].isnull().sum()\n",
    "sin_suministro_gB"
   ]
  },
  {
   "cell_type": "code",
   "execution_count": 72,
   "id": "1654e9f7",
   "metadata": {},
   "outputs": [
    {
     "data": {
      "text/plain": [
       "0"
      ]
     },
     "execution_count": 72,
     "metadata": {},
     "output_type": "execute_result"
    }
   ],
   "source": [
    "ceros_sin_suministro_gB = (df_n['Precio Gasoleo B'] == 0).sum()\n",
    "ceros_sin_suministro_gB"
   ]
  },
  {
   "cell_type": "markdown",
   "id": "24d3a7ce",
   "metadata": {},
   "source": [
    "# Precio Gasoleo Premium "
   ]
  },
  {
   "cell_type": "code",
   "execution_count": 73,
   "id": "e25d3aaf",
   "metadata": {},
   "outputs": [
    {
     "name": "stdout",
     "output_type": "stream",
     "text": [
      "372\n",
      "<class 'numpy.ndarray'>\n"
     ]
    },
    {
     "data": {
      "text/plain": [
       "array(['', '1,739', '1,799', '1,719', '1,789', '1,678', '1,779', '1,769',\n",
       "       '1,759', '1,809', '1,709', '1,699', '1,735', '1,729', '1,790',\n",
       "       '1,689', '1,939', '1,690', '1,795', '1,775', '1,989', '1,755',\n",
       "       '1,744', '1,905', '1,879', '1,749', '1,819', '1,869', '1,849',\n",
       "       '1,579', '1,754', '1,765', '1,949', '1,679', '1,785', '1,815',\n",
       "       '1,591', '1,758', '1,764', '1,745', '2,229', '1,659', '1,798',\n",
       "       '1,767', '1,909', '1,839', '1,784', '1,734', '1,599', '1,717',\n",
       "       '1,829', '1,687', '1,525', '1,644', '1,499', '1,859', '1,683',\n",
       "       '1,669', '1,700', '1,714', '1,814', '1,725', '1,828', '1,910',\n",
       "       '1,574', '1,609', '1,771', '1,619', '2,999', '1,529', '1,629',\n",
       "       '1,565', '1,791', '1,677', '1,698', '1,568', '1,821', '1,693',\n",
       "       '1,639', '1,763', '1,610', '1,495', '1,547', '1,567', '1,589',\n",
       "       '1,533', '1,554', '1,649', '1,847', '1,711', '1,747', '1,762',\n",
       "       '1,682', '1,645', '1,969', '1,800', '1,794', '1,801', '1,781',\n",
       "       '1,999', '1,898', '1,701', '1,625', '1,577', '1,704', '1,628',\n",
       "       '1,569', '1,731', '1,684', '1,648', '1,627', '1,741', '1,650',\n",
       "       '1,670', '1,751', '1,635', '1,715', '1,825', '1,899', '1,889',\n",
       "       '1,888', '2,083', '1,959', '1,721', '1,805', '1,750', '1,457',\n",
       "       '1,694', '2,069', '1,556', '1,824', '1,587', '1,658', '1,768',\n",
       "       '1,951', '1,848', '1,788', '1,845', '1,868', '1,617', '1,728',\n",
       "       '2,129', '1,638', '1,686', '1,724', '1,740', '1,850', '1,539',\n",
       "       '1,766', '1,761', '1,519', '1,665', '1,705', '1,808', '1,895',\n",
       "       '1,595', '1,770', '1,796', '1,605', '1,786', '1,600', '1,706',\n",
       "       '1,559', '1,774', '1,674', '1,688', '1,675', '1,634', '1,811',\n",
       "       '1,575', '1,835', '1,855', '1,818', '1,797', '1,549', '1,979',\n",
       "       '1,842', '1,630', '1,810', '1,844', '1,778', '1,710', '1,807',\n",
       "       '1,573', '1,607', '1,787', '1,760', '1,737', '1,985', '1,369',\n",
       "       '1,389', '1,748', '1,572', '1,730', '1,580', '1,954', '1,597',\n",
       "       '1,655', '1,802', '1,723', '1,620', '1,618', '1,564', '1,929',\n",
       "       '1,897', '1,780', '1,820', '1,875', '1,858', '1,804', '1,856',\n",
       "       '2,060', '1,671', '1,877', '1,783', '1,907', '1,777', '1,716',\n",
       "       '1,917', '1,685', '1,727', '1,695', '1,885', '1,637', '1,752',\n",
       "       '1,654', '1,524', '1,950', '2,100', '1,611', '1,660', '1,738',\n",
       "       '1,861', '1,822', '1,792', '1,697', '1,756', '1,881', '1,657',\n",
       "       '1,793', '1,860', '1,666', '1,557', '1,935', '1,908', '1,746',\n",
       "       '1,598', '1,919', '1,550', '1,668', '1,497', '1,664', '1,904',\n",
       "       '1,641', '1,887', '1,773', '1,743', '1,718', '1,284', '1,295',\n",
       "       '1,245', '2,089', '1,736', '1,864', '1,803', '1,608', '1,535',\n",
       "       '1,830', '1,647', '1,827', '1,566', '1,319', '1,429', '1,520',\n",
       "       '1,631', '1,594', '1,585', '1,596', '1,530', '1,537', '1,439',\n",
       "       '1,702', '1,562', '1,604', '1,544', '1,489', '1,540', '1,622',\n",
       "       '1,471', '1,436', '1,518', '1,419', '1,469', '1,320', '1,464',\n",
       "       '1,584', '1,485', '1,590', '1,560', '1,615', '1,593', '1,915',\n",
       "       '1,878', '1,836', '1,708', '1,707', '1,582', '1,534', '1,538',\n",
       "       '1,541', '1,545', '1,509', '1,542', '1,490', '1,479', '1,418',\n",
       "       '1,454', '1,873', '1,576', '1,571', '1,496', '1,367', '1,299',\n",
       "       '1,379', '1,463', '1,558', '1,449', '1,415', '1,498', '1,528',\n",
       "       '1,412', '1,510', '1,578', '1,516', '1,459', '1,428', '1,483',\n",
       "       '1,776', '1,395', '1,588', '1,656', '1,488', '1,398', '1,551',\n",
       "       '1,643', '1,467', '1,846', '1,851', '2,009', '1,626', '1,691',\n",
       "       '1,903', '1,867', '1,865', '1,927', '1,831', '1,921', '1,816',\n",
       "       '1,757', '1,955', '1,841', '1,680', '1,570', '1,555', '1,667',\n",
       "       '1,817', '1,583', '1,834', '1,852', '1,753', '1,890', '1,624'],\n",
       "      dtype=object)"
      ]
     },
     "execution_count": 73,
     "metadata": {},
     "output_type": "execute_result"
    }
   ],
   "source": [
    "Gasoleo_P = df_n['Precio Gasoleo Premium'].unique()\n",
    "print(len(Gasoleo_P))\n",
    "print(type(Gasoleo_P))\n",
    "Gasoleo_P"
   ]
  },
  {
   "cell_type": "code",
   "execution_count": 74,
   "id": "b2743f33",
   "metadata": {},
   "outputs": [],
   "source": [
    "# Convertimos columna categórica a numérica, primero tenemos que sustituir , por .\n",
    "df_n['Precio Gasoleo Premium']=df_n['Precio Gasoleo Premium'].str.replace(',','.')\n",
    "df_n[['Precio Gasoleo Premium']]=df_n[['Precio Gasoleo Premium']].apply(pd.to_numeric)"
   ]
  },
  {
   "cell_type": "code",
   "execution_count": 75,
   "id": "10e79699",
   "metadata": {},
   "outputs": [
    {
     "data": {
      "text/plain": [
       "count    7527.000000\n",
       "mean        1.747942\n",
       "std         0.080666\n",
       "min         1.245000\n",
       "25%         1.719000\n",
       "50%         1.764000\n",
       "75%         1.789000\n",
       "max         2.999000\n",
       "Name: Precio Gasoleo Premium, dtype: float64"
      ]
     },
     "execution_count": 75,
     "metadata": {},
     "output_type": "execute_result"
    }
   ],
   "source": [
    "df_n['Precio Gasoleo Premium'].describe()"
   ]
  },
  {
   "cell_type": "code",
   "execution_count": 76,
   "id": "9666e5b7",
   "metadata": {},
   "outputs": [
    {
     "data": {
      "text/plain": [
       "4311"
      ]
     },
     "execution_count": 76,
     "metadata": {},
     "output_type": "execute_result"
    }
   ],
   "source": [
    "# Registros sin venta Gasoleo Premium\n",
    "sin_suministro_gP = df_n['Precio Gasoleo Premium'].isnull().sum()\n",
    "sin_suministro_gP"
   ]
  },
  {
   "cell_type": "code",
   "execution_count": 77,
   "id": "c62c56a0",
   "metadata": {},
   "outputs": [
    {
     "data": {
      "text/plain": [
       "0"
      ]
     },
     "execution_count": 77,
     "metadata": {},
     "output_type": "execute_result"
    }
   ],
   "source": [
    "ceros_sin_suministro_gP = (df_n['Precio Gasoleo Premium'] == 0).sum()\n",
    "ceros_sin_suministro_gP"
   ]
  },
  {
   "cell_type": "markdown",
   "id": "1af7f46d",
   "metadata": {},
   "source": [
    "# Precio Gasolina 95 E10 "
   ]
  },
  {
   "cell_type": "code",
   "execution_count": 78,
   "id": "a3d6c6e1",
   "metadata": {},
   "outputs": [
    {
     "name": "stdout",
     "output_type": "stream",
     "text": [
      "18\n",
      "<class 'numpy.ndarray'>\n"
     ]
    },
    {
     "data": {
      "text/plain": [
       "array(['', '1,869', '1,809', '1,729', '1,628', '1,599', '1,569', '1,669',\n",
       "       '1,659', '1,719', '1,639', '1,477', '1,495', '1,699', '1,779',\n",
       "       '1,769', '1,689', '1,718'], dtype=object)"
      ]
     },
     "execution_count": 78,
     "metadata": {},
     "output_type": "execute_result"
    }
   ],
   "source": [
    "g95_E10 = df_n['Precio Gasolina 95 E10'].unique()\n",
    "print(len(g95_E10))\n",
    "print(type(g95_E10))\n",
    "g95_E10"
   ]
  },
  {
   "cell_type": "code",
   "execution_count": 79,
   "id": "c2203d4d",
   "metadata": {},
   "outputs": [],
   "source": [
    "# Convertimos columna categórica a numérica, primero tenemos que sustituir , por .\n",
    "df_n['Precio Gasolina 95 E10']=df_n['Precio Gasolina 95 E10'].str.replace(',','.')\n",
    "df_n[['Precio Gasolina 95 E10']]=df_n[['Precio Gasolina 95 E10']].apply(pd.to_numeric)"
   ]
  },
  {
   "cell_type": "code",
   "execution_count": 80,
   "id": "01212952",
   "metadata": {},
   "outputs": [
    {
     "data": {
      "text/plain": [
       "count    22.000000\n",
       "mean      1.675909\n",
       "std       0.092703\n",
       "min       1.477000\n",
       "25%       1.639000\n",
       "50%       1.679000\n",
       "75%       1.719000\n",
       "max       1.869000\n",
       "Name: Precio Gasolina 95 E10, dtype: float64"
      ]
     },
     "execution_count": 80,
     "metadata": {},
     "output_type": "execute_result"
    }
   ],
   "source": [
    " df_n['Precio Gasolina 95 E10'].describe()"
   ]
  },
  {
   "cell_type": "code",
   "execution_count": 81,
   "id": "6aaa6a7b",
   "metadata": {},
   "outputs": [
    {
     "data": {
      "text/plain": [
       "11816"
      ]
     },
     "execution_count": 81,
     "metadata": {},
     "output_type": "execute_result"
    }
   ],
   "source": [
    "# Registros sin venta Gasoleo Premium\n",
    "sin_suministro_95E10 = df_n['Precio Gasolina 95 E10'].isnull().sum()\n",
    "sin_suministro_95E10"
   ]
  },
  {
   "cell_type": "markdown",
   "id": "3e9e3b58",
   "metadata": {},
   "source": [
    "# Precio Gasolina 95 E5"
   ]
  },
  {
   "cell_type": "code",
   "execution_count": 82,
   "id": "a04d4e77",
   "metadata": {},
   "outputs": [
    {
     "name": "stdout",
     "output_type": "stream",
     "text": [
      "427\n",
      "<class 'numpy.ndarray'>\n"
     ]
    },
    {
     "data": {
      "text/plain": [
       "array(['1,589', '1,599', '1,475', '', '1,559', '1,548', '1,575', '1,609',\n",
       "       '1,669', '1,579', '1,499', '1,569', '1,565', '1,619', '1,549',\n",
       "       '1,590', '1,640', '2,299', '1,479', '1,709', '1,639', '1,561',\n",
       "       '1,629', '1,739', '1,659', '1,604', '1,695', '1,769', '1,644',\n",
       "       '1,699', '1,530', '1,650', '1,679', '1,469', '1,665', '1,690',\n",
       "       '1,649', '1,689', '1,799', '1,567', '1,490', '1,457', '1,614',\n",
       "       '1,779', '1,369', '1,529', '1,485', '1,585', '1,635', '1,476',\n",
       "       '1,399', '1,439', '1,407', '1,397', '1,605', '1,455', '1,539',\n",
       "       '1,598', '1,578', '1,688', '1,595', '1,495', '1,544', '1,497',\n",
       "       '1,527', '1,615', '1,623', '1,603', '1,489', '1,509', '1,628',\n",
       "       '1,537', '1,627', '1,505', '1,447', '1,437', '1,729', '1,519',\n",
       "       '1,554', '1,634', '1,574', '1,656', '1,449', '1,487', '1,618',\n",
       "       '1,504', '1,528', '1,429', '1,465', '1,417', '1,625', '1,435',\n",
       "       '1,515', '1,597', '1,568', '1,558', '1,413', '1,750', '1,535',\n",
       "       '1,616', '1,555', '1,450', '1,607', '1,510', '1,480', '1,969',\n",
       "       '1,580', '1,459', '1,691', '1,467', '1,540', '1,680', '1,712',\n",
       "       '1,545', '1,726', '1,500', '1,507', '1,600', '1,749', '1,594',\n",
       "       '1,645', '1,668', '1,518', '1,557', '2,000', '1,719', '1,550',\n",
       "       '1,525', '1,698', '1,664', '1,610', '1,725', '1,427', '1,685',\n",
       "       '1,850', '1,700', '1,681', '1,508', '1,829', '1,630', '1,670',\n",
       "       '1,608', '1,357', '1,460', '1,909', '1,800', '1,636', '1,809',\n",
       "       '1,620', '1,570', '1,789', '1,869', '1,477', '1,849', '1,624',\n",
       "       '1,677', '1,754', '1,675', '1,658', '1,588', '1,657', '1,538',\n",
       "       '1,617', '1,372', '1,573', '1,638', '1,458', '1,759', '1,648',\n",
       "       '1,611', '1,496', '1,376', '1,516', '1,498', '1,606', '1,533',\n",
       "       '1,418', '1,419', '1,577', '1,674', '1,517', '1,426', '1,375',\n",
       "       '1,643', '1,409', '1,373', '1,587', '1,564', '1,383', '1,584',\n",
       "       '1,999', '1,374', '1,720', '1,513', '1,560', '1,556', '1,546',\n",
       "       '1,404', '1,362', '1,655', '1,488', '1,494', '1,524', '1,474',\n",
       "       '1,547', '1,377', '1,671', '1,686', '2,149', '1,707', '1,631',\n",
       "       '1,654', '1,857', '1,520', '1,470', '1,706', '1,740', '1,486',\n",
       "       '1,646', '1,612', '1,481', '1,471', '1,647', '1,660', '1,553',\n",
       "       '1,385', '1,900', '1,666', '1,382', '1,493', '1,492', '1,572',\n",
       "       '1,819', '1,215', '1,234', '1,233', '1,583', '1,601', '1,694',\n",
       "       '1,484', '1,145', '1,673', '1,464', '1,621', '1,678', '1,541',\n",
       "       '1,633', '1,697', '1,730', '1,641', '1,835', '1,965', '1,701',\n",
       "       '1,653', '1,534', '1,395', '1,389', '2,329', '1,672', '1,402',\n",
       "       '1,491', '1,522', '1,536', '1,765', '1,731', '1,777', '1,889',\n",
       "       '1,663', '1,684', '1,380', '1,503', '1,405', '1,864', '1,760',\n",
       "       '1,637', '1,593', '1,839', '1,591', '1,693', '1,727', '1,853',\n",
       "       '1,661', '1,506', '2,120', '1,723', '1,571', '1,378', '1,379',\n",
       "       '1,456', '1,830', '1,768', '1,708', '1,622', '1,576', '1,794',\n",
       "       '1,613', '1,755', '1,792', '1,652', '1,514', '1,523', '1,795',\n",
       "       '1,581', '1,778', '1,501', '1,531', '1,596', '1,551', '1,566',\n",
       "       '1,148', '1,149', '2,100', '1,717', '1,859', '1,472', '1,736',\n",
       "       '1,478', '1,667', '1,425', '1,349', '1,338', '1,279', '1,119',\n",
       "       '1,189', '0,998', '1,329', '1,328', '1,115', '0,999', '1,335',\n",
       "       '1,339', '1,410', '1,430', '1,432', '1,424', '1,434', '1,359',\n",
       "       '1,099', '1,299', '1,482', '1,512', '1,542', '1,198', '1,361',\n",
       "       '1,414', '1,249', '1,438', '1,356', '1,411', '1,396', '1,398',\n",
       "       '1,355', '1,394', '1,400', '1,309', '1,326', '1,408', '1,387',\n",
       "       '1,718', '1,748', '1,758', '1,155', '1,428', '1,334', '1,319',\n",
       "       '1,306', '1,336', '1,289', '1,314', '1,290', '1,262', '1,348',\n",
       "       '1,284', '1,265', '1,259', '1,298', '1,197', '1,277', '1,159',\n",
       "       '1,344', '1,318', '1,331', '1,263', '1,219', '1,268', '1,139',\n",
       "       '1,239', '1,287', '1,364', '1,285', '1,295', '1,272', '1,264',\n",
       "       '1,109', '1,255', '1,227', '1,278', '1,247', '1,286', '1,158',\n",
       "       '1,340', '1,390', '1,358', '1,169', '1,297', '1,293', '1,258',\n",
       "       '1,283', '1,626', '1,468', '1,543', '1,738', '1,381', '1,386',\n",
       "       '1,421', '1,756', '1,787', '1,521', '1,347', '1,444', '1,602',\n",
       "       '1,711', '1,502', '1,804', '1,737', '1,406', '1,454'], dtype=object)"
      ]
     },
     "execution_count": 82,
     "metadata": {},
     "output_type": "execute_result"
    }
   ],
   "source": [
    "g95_E5 = df_n['Precio Gasolina 95 E5'].unique()\n",
    "print(len(g95_E5))\n",
    "print(type(g95_E5))\n",
    "g95_E5"
   ]
  },
  {
   "cell_type": "code",
   "execution_count": 83,
   "id": "196f251e",
   "metadata": {},
   "outputs": [],
   "source": [
    "# Convertimos columna categórica a numérica, primero tenemos que sustituir , por .\n",
    "df_n['Precio Gasolina 95 E5']=df_n['Precio Gasolina 95 E5'].str.replace(',','.')\n",
    "df_n[['Precio Gasolina 95 E5']]=df_n[['Precio Gasolina 95 E5']].apply(pd.to_numeric)"
   ]
  },
  {
   "cell_type": "code",
   "execution_count": 84,
   "id": "621ec9bd",
   "metadata": {},
   "outputs": [
    {
     "data": {
      "text/plain": [
       "count    10693.000000\n",
       "mean         1.581175\n",
       "std          0.083045\n",
       "min          0.998000\n",
       "25%          1.555000\n",
       "50%          1.599000\n",
       "75%          1.629000\n",
       "max          2.329000\n",
       "Name: Precio Gasolina 95 E5, dtype: float64"
      ]
     },
     "execution_count": 84,
     "metadata": {},
     "output_type": "execute_result"
    }
   ],
   "source": [
    "df_n['Precio Gasolina 95 E5'].describe()"
   ]
  },
  {
   "cell_type": "code",
   "execution_count": 85,
   "id": "56396333",
   "metadata": {},
   "outputs": [
    {
     "data": {
      "text/plain": [
       "1145"
      ]
     },
     "execution_count": 85,
     "metadata": {},
     "output_type": "execute_result"
    }
   ],
   "source": [
    "# Registros sin venta Gasoleo Premium\n",
    "sin_suministro_g95E5 = df_n['Precio Gasolina 95 E5'].isnull().sum()\n",
    "sin_suministro_g95E5"
   ]
  },
  {
   "cell_type": "code",
   "execution_count": 86,
   "id": "c8cc07ca",
   "metadata": {},
   "outputs": [
    {
     "data": {
      "text/plain": [
       "0"
      ]
     },
     "execution_count": 86,
     "metadata": {},
     "output_type": "execute_result"
    }
   ],
   "source": [
    "ceros_sin_suministro_g95E5  = (df_n['Precio Gasolina 95 E5'] == 0).sum()\n",
    "ceros_sin_suministro_g95E5 "
   ]
  },
  {
   "cell_type": "markdown",
   "id": "fe877ab4",
   "metadata": {},
   "source": [
    "# Precio Gasolina 95 E5 Premium"
   ]
  },
  {
   "cell_type": "code",
   "execution_count": 87,
   "id": "5586de3c",
   "metadata": {},
   "outputs": [
    {
     "name": "stdout",
     "output_type": "stream",
     "text": [
      "100\n",
      "<class 'numpy.ndarray'>\n"
     ]
    },
    {
     "data": {
      "text/plain": [
       "array(['', '1,639', '1,629', '1,589', '1,689', '1,619', '1,599', '1,759',\n",
       "       '1,809', '1,649', '1,699', '1,669', '1,679', '1,719', '1,655',\n",
       "       '1,609', '1,659', '1,504', '1,700', '1,694', '1,568', '1,729',\n",
       "       '1,674', '1,549', '1,395', '1,492', '1,405', '1,789', '1,779',\n",
       "       '1,709', '1,559', '1,624', '1,714', '1,829', '1,579', '1,704',\n",
       "       '1,739', '1,654', '1,684', '1,675', '1,769', '1,727', '1,724',\n",
       "       '1,749', '1,569', '1,594', '1,584', '1,645', '1,754', '1,734',\n",
       "       '1,786', '1,664', '1,644', '1,499', '1,697', '1,632', '1,529',\n",
       "       '1,269', '1,615', '1,585', '1,685', '1,575', '1,795', '1,634',\n",
       "       '1,758', '1,698', '1,899', '1,637', '1,665', '1,490', '1,635',\n",
       "       '1,538', '1,497', '1,518', '1,597', '1,598', '1,695', '1,527',\n",
       "       '1,668', '1,558', '1,447', '1,744', '1,159', '1,459', '1,605',\n",
       "       '1,535', '1,625', '1,189', '1,595', '1,705', '1,491', '1,519',\n",
       "       '1,708', '1,803', '1,567', '1,577', '1,821', '1,799', '1,614',\n",
       "       '1,677'], dtype=object)"
      ]
     },
     "execution_count": 87,
     "metadata": {},
     "output_type": "execute_result"
    }
   ],
   "source": [
    "g95_E5_P = df_n['Precio Gasolina 95 E5 Premium'].unique()\n",
    "print(len(g95_E5_P))\n",
    "print(type(g95_E5_P))\n",
    "g95_E5_P"
   ]
  },
  {
   "cell_type": "code",
   "execution_count": 88,
   "id": "4758d3d3",
   "metadata": {},
   "outputs": [],
   "source": [
    "# Convertimos columna categórica a numérica, primero tenemos que sustituir , por .\n",
    "df_n['Precio Gasolina 95 E5 Premium']=df_n['Precio Gasolina 95 E5 Premium'].str.replace(',','.')\n",
    "df_n[['Precio Gasolina 95 E5 Premium']]=df_n[['Precio Gasolina 95 E5 Premium']].apply(pd.to_numeric)"
   ]
  },
  {
   "cell_type": "code",
   "execution_count": 89,
   "id": "7d0a8e3a",
   "metadata": {},
   "outputs": [
    {
     "data": {
      "text/plain": [
       "count    811.000000\n",
       "mean       1.659465\n",
       "std        0.069774\n",
       "min        1.159000\n",
       "25%        1.629000\n",
       "50%        1.669000\n",
       "75%        1.699000\n",
       "max        1.899000\n",
       "Name: Precio Gasolina 95 E5 Premium, dtype: float64"
      ]
     },
     "execution_count": 89,
     "metadata": {},
     "output_type": "execute_result"
    }
   ],
   "source": [
    "df_n['Precio Gasolina 95 E5 Premium'].describe()"
   ]
  },
  {
   "cell_type": "code",
   "execution_count": 90,
   "id": "4a815e9d",
   "metadata": {},
   "outputs": [
    {
     "data": {
      "text/plain": [
       "11027"
      ]
     },
     "execution_count": 90,
     "metadata": {},
     "output_type": "execute_result"
    }
   ],
   "source": [
    "# Registros sin venta Gasolina 95 E5 Premium\n",
    "sin_suministro_g95E5_Prem = df_n['Precio Gasolina 95 E5 Premium'].isnull().sum()\n",
    "sin_suministro_g95E5_Prem"
   ]
  },
  {
   "cell_type": "code",
   "execution_count": 91,
   "id": "7ae51272",
   "metadata": {},
   "outputs": [
    {
     "data": {
      "text/plain": [
       "0"
      ]
     },
     "execution_count": 91,
     "metadata": {},
     "output_type": "execute_result"
    }
   ],
   "source": [
    "ceros_sin_suministro_g95E5_Prem  = (df_n['Precio Gasolina 95 E5 Premium'] == 0).sum()\n",
    "ceros_sin_suministro_g95E5 "
   ]
  },
  {
   "cell_type": "markdown",
   "id": "477ee508",
   "metadata": {},
   "source": [
    "# Precio Gasolina 98 E10"
   ]
  },
  {
   "cell_type": "code",
   "execution_count": 92,
   "id": "3b8c6a20",
   "metadata": {},
   "outputs": [
    {
     "name": "stdout",
     "output_type": "stream",
     "text": [
      "9\n",
      "<class 'numpy.ndarray'>\n"
     ]
    },
    {
     "data": {
      "text/plain": [
       "array(['', '1,995', '1,659', '1,717', '1,655', '1,699', '1,849', '1,839',\n",
       "       '1,838'], dtype=object)"
      ]
     },
     "execution_count": 92,
     "metadata": {},
     "output_type": "execute_result"
    }
   ],
   "source": [
    "g98_E10 = df_n['Precio Gasolina 98 E10'].unique()\n",
    "print(len(g98_E10))\n",
    "print(type(g98_E10))\n",
    "g98_E10"
   ]
  },
  {
   "cell_type": "code",
   "execution_count": 93,
   "id": "77f0708e",
   "metadata": {},
   "outputs": [],
   "source": [
    "# Convertimos columna categórica a numérica, primero tenemos que sustituir , por .\n",
    "df_n['Precio Gasolina 98 E10']=df_n['Precio Gasolina 98 E10'].str.replace(',','.')\n",
    "df_n[['Precio Gasolina 98 E10']]=df_n[['Precio Gasolina 98 E10']].apply(pd.to_numeric)"
   ]
  },
  {
   "cell_type": "code",
   "execution_count": 94,
   "id": "0ce30530",
   "metadata": {},
   "outputs": [
    {
     "data": {
      "text/plain": [
       "count    9.000000\n",
       "mean     1.767333\n",
       "std      0.118748\n",
       "min      1.655000\n",
       "25%      1.659000\n",
       "50%      1.717000\n",
       "75%      1.839000\n",
       "max      1.995000\n",
       "Name: Precio Gasolina 98 E10, dtype: float64"
      ]
     },
     "execution_count": 94,
     "metadata": {},
     "output_type": "execute_result"
    }
   ],
   "source": [
    "df_n['Precio Gasolina 98 E10'].describe()"
   ]
  },
  {
   "cell_type": "code",
   "execution_count": 95,
   "id": "7846a3d5",
   "metadata": {},
   "outputs": [
    {
     "data": {
      "text/plain": [
       "11829"
      ]
     },
     "execution_count": 95,
     "metadata": {},
     "output_type": "execute_result"
    }
   ],
   "source": [
    "# Registros sin venta Gasolina 98 E10 \n",
    "sin_suministro_g98E10 = df_n['Precio Gasolina 98 E10'].isnull().sum()\n",
    "sin_suministro_g98E10"
   ]
  },
  {
   "cell_type": "markdown",
   "id": "d0eca28a",
   "metadata": {},
   "source": [
    "# Precio Gasolina 98 E5"
   ]
  },
  {
   "cell_type": "code",
   "execution_count": 96,
   "id": "b948ed78",
   "metadata": {},
   "outputs": [
    {
     "name": "stdout",
     "output_type": "stream",
     "text": [
      "424\n",
      "<class 'numpy.ndarray'>\n"
     ]
    },
    {
     "data": {
      "text/plain": [
       "array(['', '1,799', '1,741', '1,689', '1,789', '1,685', '1,779', '1,839',\n",
       "       '1,679', '1,721', '1,659', '1,699', '1,719', '2,369', '1,729',\n",
       "       '1,859', '1,745', '1,701', '1,929', '1,709', '1,744', '1,879',\n",
       "       '1,759', '1,951', '1,850', '1,669', '1,694', '1,909', '1,809',\n",
       "       '1,681', '1,889', '2,089', '1,739', '1,691', '1,734', '1,749',\n",
       "       '1,735', '1,751', '1,777', '1,761', '1,771', '1,765', '1,748',\n",
       "       '1,999', '1,869', '1,781', '1,755', '1,798', '1,785', '1,899',\n",
       "       '1,821', '1,829', '1,819', '1,763', '1,769', '1,705', '1,989',\n",
       "       '1,731', '1,718', '1,865', '1,855', '1,686', '1,776', '1,811',\n",
       "       '1,750', '1,810', '1,762', '2,999', '1,695', '1,714', '1,849',\n",
       "       '1,775', '1,770', '1,905', '1,959', '1,801', '1,746', '1,643',\n",
       "       '1,533', '1,832', '1,888', '2,000', '1,800', '1,926', '1,949',\n",
       "       '1,754', '1,818', '1,625', '1,725', '1,778', '1,569', '1,730',\n",
       "       '1,782', '1,700', '1,736', '1,939', '1,687', '1,675', '1,794',\n",
       "       '1,740', '1,670', '1,704', '2,159', '1,649', '1,711', '1,979',\n",
       "       '1,738', '2,169', '1,645', '1,915', '1,706', '1,791', '1,756',\n",
       "       '1,795', '1,919', '1,766', '1,834', '1,815', '1,848', '1,688',\n",
       "       '1,847', '1,808', '1,629', '1,945', '1,767', '1,499', '1,835',\n",
       "       '1,797', '1,722', '1,599', '1,831', '1,539', '1,826', '1,715',\n",
       "       '1,732', '1,995', '1,674', '1,780', '1,790', '1,592', '1,684',\n",
       "       '1,726', '1,609', '1,469', '1,845', '1,851', '1,890', '1,788',\n",
       "       '1,594', '1,664', '1,710', '1,634', '1,724', '1,764', '1,595',\n",
       "       '1,582', '1,895', '1,969', '1,752', '1,793', '1,559', '1,574',\n",
       "       '1,644', '1,760', '1,924', '1,948', '1,796', '1,838', '1,840',\n",
       "       '1,813', '1,988', '1,639', '1,728', '2,199', '2,019', '1,878',\n",
       "       '1,697', '1,690', '1,716', '1,804', '1,579', '1,567', '1,998',\n",
       "       '1,787', '1,857', '1,784', '1,698', '1,696', '1,757', '1,249',\n",
       "       '1,263', '2,149', '1,589', '2,229', '1,655', '1,635', '2,009',\n",
       "       '1,975', '1,717', '1,753', '2,049', '1,871', '1,708', '1,991',\n",
       "       '1,858', '1,827', '2,029', '1,937', '2,005', '1,807', '2,109',\n",
       "       '1,806', '1,772', '1,930', '1,619', '2,139', '1,774', '1,768',\n",
       "       '1,852', '1,549', '1,614', '1,583', '2,500', '1,758', '1,900',\n",
       "       '1,665', '2,299', '1,568', '1,597', '2,200', '1,884', '1,640',\n",
       "       '1,861', '1,666', '1,596', '1,747', '1,836', '1,842', '1,950',\n",
       "       '1,873', '1,853', '2,020', '1,598', '1,881', '1,557', '2,099',\n",
       "       '1,906', '1,984', '1,783', '1,960', '1,613', '1,654', '2,239',\n",
       "       '1,667', '1,968', '2,069', '1,805', '1,891', '1,743', '1,657',\n",
       "       '1,941', '1,860', '1,837', '1,817', '1,737', '1,727', '1,409',\n",
       "       '1,516', '1,474', '1,534', '1,299', '1,389', '1,279', '1,506',\n",
       "       '1,380', '1,500', '1,464', '1,564', '1,507', '1,551', '1,514',\n",
       "       '1,524', '1,544', '1,560', '1,509', '1,581', '1,548', '1,558',\n",
       "       '1,429', '1,339', '1,510', '1,449', '1,590', '1,673', '1,624',\n",
       "       '1,530', '1,512', '1,404', '1,519', '1,452', '1,554', '1,439',\n",
       "       '1,504', '1,490', '1,584', '1,580', '1,575', '1,528', '1,442',\n",
       "       '1,468', '1,411', '1,547', '1,375', '1,508', '1,540', '1,359',\n",
       "       '1,553', '1,451', '1,521', '1,511', '1,520', '1,466', '1,422',\n",
       "       '1,505', '1,447', '1,529', '1,495', '1,562', '1,525', '1,497',\n",
       "       '1,419', '1,885', '1,651', '1,935', '1,864', '1,916', '1,713',\n",
       "       '1,825', '1,498', '1,459', '1,190', '1,458', '1,479', '1,484',\n",
       "       '1,431', '1,437', '1,454', '1,434', '1,462', '1,390', '1,355',\n",
       "       '1,502', '1,399', '1,601', '1,489', '1,329', '1,327', '1,587',\n",
       "       '1,586', '1,478', '1,379', '1,473', '1,257', '1,377', '1,358',\n",
       "       '1,455', '1,678', '1,314', '1,417', '1,460', '1,438', '1,414',\n",
       "       '1,369', '1,494', '1,394', '1,345', '1,426', '1,365', '1,448',\n",
       "       '1,294', '1,445', '1,297', '1,317', '1,486', '1,418', '1,387',\n",
       "       '1,295', '1,395', '1,425', '1,321', '1,475', '1,465', '1,298',\n",
       "       '1,340', '1,546', '1,444', '1,397', '1,420', '1,433', '1,398',\n",
       "       '1,423', '1,315', '1,605', '1,898', '1,977', '1,816', '2,219',\n",
       "       '1,993', '1,733', '1,611', '2,450', '1,641', '1,876', '1,875',\n",
       "       '1,907', '1,965', '2,220', '2,055', '1,677', '1,828', '1,608',\n",
       "       '1,653', '1,707', '1,638'], dtype=object)"
      ]
     },
     "execution_count": 96,
     "metadata": {},
     "output_type": "execute_result"
    }
   ],
   "source": [
    "g98_E5 = df_n['Precio Gasolina 98 E5'].unique()\n",
    "print(len(g98_E5))\n",
    "print(type(g98_E5))\n",
    "g98_E5"
   ]
  },
  {
   "cell_type": "code",
   "execution_count": 97,
   "id": "4763d458",
   "metadata": {},
   "outputs": [],
   "source": [
    "# Convertimos columna categórica a numérica, primero tenemos que sustituir , por .\n",
    "df_n['Precio Gasolina 98 E5']=df_n['Precio Gasolina 98 E5'].str.replace(',','.')\n",
    "df_n[['Precio Gasolina 98 E5']]=df_n[['Precio Gasolina 98 E5']].apply(pd.to_numeric)"
   ]
  },
  {
   "cell_type": "code",
   "execution_count": 98,
   "id": "767e87d9",
   "metadata": {},
   "outputs": [
    {
     "data": {
      "text/plain": [
       "count    5943.000000\n",
       "mean        1.739375\n",
       "std         0.107120\n",
       "min         1.190000\n",
       "25%         1.709000\n",
       "50%         1.749000\n",
       "75%         1.779500\n",
       "max         2.999000\n",
       "Name: Precio Gasolina 98 E5, dtype: float64"
      ]
     },
     "execution_count": 98,
     "metadata": {},
     "output_type": "execute_result"
    }
   ],
   "source": [
    "df_n['Precio Gasolina 98 E5'].describe()"
   ]
  },
  {
   "cell_type": "code",
   "execution_count": 99,
   "id": "d9fb7e91",
   "metadata": {},
   "outputs": [
    {
     "data": {
      "text/plain": [
       "5895"
      ]
     },
     "execution_count": 99,
     "metadata": {},
     "output_type": "execute_result"
    }
   ],
   "source": [
    "# Registros sin venta Gasolina 98 E5 \n",
    "sin_suministro_g98E5 = df_n['Precio Gasolina 98 E5'].isnull().sum()\n",
    "sin_suministro_g98E5"
   ]
  },
  {
   "cell_type": "code",
   "execution_count": 100,
   "id": "ad3ee76b",
   "metadata": {},
   "outputs": [
    {
     "data": {
      "text/plain": [
       "0"
      ]
     },
     "execution_count": 100,
     "metadata": {},
     "output_type": "execute_result"
    }
   ],
   "source": [
    "ceros_sin_suministro_g98E5  = (df_n['Precio Gasolina 98 E5'] == 0).sum()\n",
    "ceros_sin_suministro_g98E5 "
   ]
  },
  {
   "cell_type": "markdown",
   "id": "d8566cb1",
   "metadata": {},
   "source": [
    "# Precio Hidrogeno "
   ]
  },
  {
   "cell_type": "code",
   "execution_count": 101,
   "id": "8092ec5a",
   "metadata": {},
   "outputs": [
    {
     "name": "stdout",
     "output_type": "stream",
     "text": [
      "1\n",
      "<class 'numpy.ndarray'>\n"
     ]
    },
    {
     "data": {
      "text/plain": [
       "array([''], dtype=object)"
      ]
     },
     "execution_count": 101,
     "metadata": {},
     "output_type": "execute_result"
    }
   ],
   "source": [
    "Hidrongeno = df_n['Precio Hidrogeno'].unique()\n",
    "print(len(Hidrongeno))\n",
    "print(type(Hidrongeno))\n",
    "Hidrongeno"
   ]
  },
  {
   "cell_type": "code",
   "execution_count": 102,
   "id": "38acbbd6",
   "metadata": {},
   "outputs": [],
   "source": [
    "# Convertimos columna categórica a numérica, primero tenemos que sustituir , por .\n",
    "df_n['Precio Hidrogeno']=df_n['Precio Hidrogeno'].str.replace(',','.')\n",
    "df_n[['Precio Hidrogeno']]=df_n[['Precio Hidrogeno']].apply(pd.to_numeric)"
   ]
  },
  {
   "cell_type": "code",
   "execution_count": 103,
   "id": "1b19941a",
   "metadata": {},
   "outputs": [
    {
     "data": {
      "text/plain": [
       "count    0.0\n",
       "mean     NaN\n",
       "std      NaN\n",
       "min      NaN\n",
       "25%      NaN\n",
       "50%      NaN\n",
       "75%      NaN\n",
       "max      NaN\n",
       "Name: Precio Hidrogeno, dtype: float64"
      ]
     },
     "execution_count": 103,
     "metadata": {},
     "output_type": "execute_result"
    }
   ],
   "source": [
    "df_n['Precio Hidrogeno'].describe()"
   ]
  },
  {
   "cell_type": "code",
   "execution_count": 104,
   "id": "c6802106",
   "metadata": {},
   "outputs": [
    {
     "name": "stdout",
     "output_type": "stream",
     "text": [
      "<class 'pandas.core.frame.DataFrame'>\n",
      "RangeIndex: 11838 entries, 0 to 11837\n",
      "Data columns (total 33 columns):\n",
      " #   Column                              Non-Null Count  Dtype  \n",
      "---  ------                              --------------  -----  \n",
      " 0   Fecha                               11838 non-null  object \n",
      " 1   C.P.                                11838 non-null  object \n",
      " 2   Dirección                           11838 non-null  object \n",
      " 3   Horario                             11838 non-null  object \n",
      " 4   Latitud                             11838 non-null  object \n",
      " 5   Localidad                           11838 non-null  object \n",
      " 6   Longitud (WGS84)                    11838 non-null  object \n",
      " 7   Margen                              11838 non-null  object \n",
      " 8   Municipio                           11838 non-null  object \n",
      " 9   Precio Biodiesel                    37 non-null     float64\n",
      " 10  Precio Bioetanol                    5 non-null      float64\n",
      " 11  Precio Gas Natural Comprimido       126 non-null    float64\n",
      " 12  Precio Gas Natural Licuado          84 non-null     float64\n",
      " 13  Precio Gases licuados del petróleo  853 non-null    float64\n",
      " 14  Precio Gasoleo A                    11493 non-null  float64\n",
      " 15  Precio Gasoleo B                    3013 non-null   float64\n",
      " 16  Precio Gasoleo Premium              7527 non-null   float64\n",
      " 17  Precio Gasolina 95 E10              22 non-null     float64\n",
      " 18  Precio Gasolina 95 E5               10693 non-null  float64\n",
      " 19  Precio Gasolina 95 E5 Premium       811 non-null    float64\n",
      " 20  Precio Gasolina 98 E10              9 non-null      float64\n",
      " 21  Precio Gasolina 98 E5               5943 non-null   float64\n",
      " 22  Precio Hidrogeno                    0 non-null      float64\n",
      " 23  Provincia                           11838 non-null  object \n",
      " 24  Remisión                            11838 non-null  object \n",
      " 25  Rótulo                              11838 non-null  object \n",
      " 26  Tipo Venta                          11838 non-null  object \n",
      " 27  % BioEtanol                         11838 non-null  object \n",
      " 28  % Éster metílico                    11838 non-null  object \n",
      " 29  IDEESS                              11838 non-null  object \n",
      " 30  IDMunicipio                         11838 non-null  object \n",
      " 31  IDProvincia                         11838 non-null  object \n",
      " 32  IDCCAA                              11838 non-null  object \n",
      "dtypes: float64(14), object(19)\n",
      "memory usage: 3.0+ MB\n"
     ]
    }
   ],
   "source": [
    "df_n.info()"
   ]
  },
  {
   "cell_type": "markdown",
   "id": "0b486d1c",
   "metadata": {},
   "source": [
    "---\n",
    "Setp 3\n",
    "\n",
    "# Limpieza de Columnas"
   ]
  },
  {
   "cell_type": "code",
   "execution_count": 105,
   "id": "58959813",
   "metadata": {},
   "outputs": [],
   "source": [
    "# Eliminiación de columnas que no interesan a nivel usuario o que no aportan datos significativos al modelo\n",
    "df_n.drop(['Margen', 'Remisión', 'Tipo Venta', '% BioEtanol', '% Éster metílico', 'Precio Biodiesel',\n",
    "          'Precio Bioetanol', 'Precio Gas Natural Comprimido', 'Precio Gas Natural Licuado', \n",
    "          'Precio Gas Natural Licuado', 'Precio Gases licuados del petróleo', 'Precio Gasolina 95 E10',\n",
    "          'Precio Gasolina 95 E5 Premium', 'Precio Gasolina 98 E10', 'Precio Hidrogeno'], axis=1, inplace=True)\n"
   ]
  },
  {
   "cell_type": "code",
   "execution_count": 106,
   "id": "1f4e6f15",
   "metadata": {},
   "outputs": [
    {
     "data": {
      "text/plain": [
       "Precio Gasoleo B    NaN\n",
       "Name: 15, dtype: object"
      ]
     },
     "execution_count": 106,
     "metadata": {},
     "output_type": "execute_result"
    }
   ],
   "source": [
    "# Comprobación\n",
    "df_n.iloc[15][['Precio Gasoleo B']]"
   ]
  },
  {
   "cell_type": "code",
   "execution_count": 107,
   "id": "a9fe557e",
   "metadata": {},
   "outputs": [
    {
     "data": {
      "text/html": [
       "<div>\n",
       "<style scoped>\n",
       "    .dataframe tbody tr th:only-of-type {\n",
       "        vertical-align: middle;\n",
       "    }\n",
       "\n",
       "    .dataframe tbody tr th {\n",
       "        vertical-align: top;\n",
       "    }\n",
       "\n",
       "    .dataframe thead th {\n",
       "        text-align: right;\n",
       "    }\n",
       "</style>\n",
       "<table border=\"1\" class=\"dataframe\">\n",
       "  <thead>\n",
       "    <tr style=\"text-align: right;\">\n",
       "      <th></th>\n",
       "      <th>Fecha</th>\n",
       "      <th>C.P.</th>\n",
       "      <th>Dirección</th>\n",
       "      <th>Horario</th>\n",
       "      <th>Latitud</th>\n",
       "      <th>Localidad</th>\n",
       "      <th>Longitud (WGS84)</th>\n",
       "      <th>Municipio</th>\n",
       "      <th>Precio Gasoleo A</th>\n",
       "      <th>Precio Gasoleo B</th>\n",
       "      <th>Precio Gasoleo Premium</th>\n",
       "      <th>Precio Gasolina 95 E5</th>\n",
       "      <th>Precio Gasolina 98 E5</th>\n",
       "      <th>Provincia</th>\n",
       "      <th>Rótulo</th>\n",
       "      <th>IDEESS</th>\n",
       "      <th>IDMunicipio</th>\n",
       "      <th>IDProvincia</th>\n",
       "      <th>IDCCAA</th>\n",
       "    </tr>\n",
       "  </thead>\n",
       "  <tbody>\n",
       "    <tr>\n",
       "      <th>0</th>\n",
       "      <td>18/12/2022 17:32:26</td>\n",
       "      <td>02250</td>\n",
       "      <td>AVENIDA CASTILLA LA MANCHA, 26</td>\n",
       "      <td>L-D: 07:00-22:00</td>\n",
       "      <td>39,211417</td>\n",
       "      <td>ABENGIBRE</td>\n",
       "      <td>-1,539167</td>\n",
       "      <td>Abengibre</td>\n",
       "      <td>1.639</td>\n",
       "      <td>1.19</td>\n",
       "      <td>NaN</td>\n",
       "      <td>1.589</td>\n",
       "      <td>NaN</td>\n",
       "      <td>ALBACETE</td>\n",
       "      <td>Nº 10.935</td>\n",
       "      <td>4375</td>\n",
       "      <td>52</td>\n",
       "      <td>02</td>\n",
       "      <td>07</td>\n",
       "    </tr>\n",
       "    <tr>\n",
       "      <th>1</th>\n",
       "      <td>18/12/2022 17:32:26</td>\n",
       "      <td>02001</td>\n",
       "      <td>AVENIDA 1º DE MAYO, S/N</td>\n",
       "      <td>L-S: 08:00-22:00; D: 09:00-21:00</td>\n",
       "      <td>38,985667</td>\n",
       "      <td>ALBACETE</td>\n",
       "      <td>-1,868500</td>\n",
       "      <td>Albacete</td>\n",
       "      <td>1.699</td>\n",
       "      <td>NaN</td>\n",
       "      <td>1.739</td>\n",
       "      <td>1.599</td>\n",
       "      <td>1.799</td>\n",
       "      <td>ALBACETE</td>\n",
       "      <td>CARREFOUR</td>\n",
       "      <td>10765</td>\n",
       "      <td>54</td>\n",
       "      <td>02</td>\n",
       "      <td>07</td>\n",
       "    </tr>\n",
       "    <tr>\n",
       "      <th>2</th>\n",
       "      <td>18/12/2022 17:32:26</td>\n",
       "      <td>02001</td>\n",
       "      <td>CALLE PRINCIPE DE ASTURIAS (POLÍGONO DE ROMICA...</td>\n",
       "      <td>L-D: 06:00-21:30</td>\n",
       "      <td>39,054694</td>\n",
       "      <td>ALBACETE</td>\n",
       "      <td>-1,832000</td>\n",
       "      <td>Albacete</td>\n",
       "      <td>1.709</td>\n",
       "      <td>NaN</td>\n",
       "      <td>1.799</td>\n",
       "      <td>1.599</td>\n",
       "      <td>1.741</td>\n",
       "      <td>ALBACETE</td>\n",
       "      <td>BP ROMICA</td>\n",
       "      <td>12054</td>\n",
       "      <td>54</td>\n",
       "      <td>02</td>\n",
       "      <td>07</td>\n",
       "    </tr>\n",
       "    <tr>\n",
       "      <th>3</th>\n",
       "      <td>18/12/2022 17:32:26</td>\n",
       "      <td>02001</td>\n",
       "      <td>CALLE FEDERICO GARCIA LORCA, 1</td>\n",
       "      <td>L-D: 24H</td>\n",
       "      <td>39,000861</td>\n",
       "      <td>ALBACETE</td>\n",
       "      <td>-1,849833</td>\n",
       "      <td>Albacete</td>\n",
       "      <td>1.597</td>\n",
       "      <td>NaN</td>\n",
       "      <td>NaN</td>\n",
       "      <td>1.475</td>\n",
       "      <td>NaN</td>\n",
       "      <td>ALBACETE</td>\n",
       "      <td>PLENOIL</td>\n",
       "      <td>13933</td>\n",
       "      <td>54</td>\n",
       "      <td>02</td>\n",
       "      <td>07</td>\n",
       "    </tr>\n",
       "    <tr>\n",
       "      <th>4</th>\n",
       "      <td>18/12/2022 17:32:26</td>\n",
       "      <td>02001</td>\n",
       "      <td>CALLE FEDERICO GARCIA LORCA, 5</td>\n",
       "      <td>L-S: 05:00-23:00</td>\n",
       "      <td>38,997722</td>\n",
       "      <td>ALBACETE</td>\n",
       "      <td>-1,846361</td>\n",
       "      <td>Albacete</td>\n",
       "      <td>1.730</td>\n",
       "      <td>NaN</td>\n",
       "      <td>NaN</td>\n",
       "      <td>NaN</td>\n",
       "      <td>NaN</td>\n",
       "      <td>ALBACETE</td>\n",
       "      <td>CEPSA</td>\n",
       "      <td>4438</td>\n",
       "      <td>54</td>\n",
       "      <td>02</td>\n",
       "      <td>07</td>\n",
       "    </tr>\n",
       "  </tbody>\n",
       "</table>\n",
       "</div>"
      ],
      "text/plain": [
       "                 Fecha   C.P.  \\\n",
       "0  18/12/2022 17:32:26  02250   \n",
       "1  18/12/2022 17:32:26  02001   \n",
       "2  18/12/2022 17:32:26  02001   \n",
       "3  18/12/2022 17:32:26  02001   \n",
       "4  18/12/2022 17:32:26  02001   \n",
       "\n",
       "                                           Dirección  \\\n",
       "0                     AVENIDA CASTILLA LA MANCHA, 26   \n",
       "1                            AVENIDA 1º DE MAYO, S/N   \n",
       "2  CALLE PRINCIPE DE ASTURIAS (POLÍGONO DE ROMICA...   \n",
       "3                     CALLE FEDERICO GARCIA LORCA, 1   \n",
       "4                     CALLE FEDERICO GARCIA LORCA, 5   \n",
       "\n",
       "                            Horario    Latitud  Localidad Longitud (WGS84)  \\\n",
       "0                  L-D: 07:00-22:00  39,211417  ABENGIBRE        -1,539167   \n",
       "1  L-S: 08:00-22:00; D: 09:00-21:00  38,985667   ALBACETE        -1,868500   \n",
       "2                  L-D: 06:00-21:30  39,054694   ALBACETE        -1,832000   \n",
       "3                          L-D: 24H  39,000861   ALBACETE        -1,849833   \n",
       "4                  L-S: 05:00-23:00  38,997722   ALBACETE        -1,846361   \n",
       "\n",
       "   Municipio  Precio Gasoleo A  Precio Gasoleo B  Precio Gasoleo Premium  \\\n",
       "0  Abengibre             1.639              1.19                     NaN   \n",
       "1   Albacete             1.699               NaN                   1.739   \n",
       "2   Albacete             1.709               NaN                   1.799   \n",
       "3   Albacete             1.597               NaN                     NaN   \n",
       "4   Albacete             1.730               NaN                     NaN   \n",
       "\n",
       "   Precio Gasolina 95 E5  Precio Gasolina 98 E5 Provincia     Rótulo IDEESS  \\\n",
       "0                  1.589                    NaN  ALBACETE  Nº 10.935   4375   \n",
       "1                  1.599                  1.799  ALBACETE  CARREFOUR  10765   \n",
       "2                  1.599                  1.741  ALBACETE  BP ROMICA  12054   \n",
       "3                  1.475                    NaN  ALBACETE    PLENOIL  13933   \n",
       "4                    NaN                    NaN  ALBACETE      CEPSA   4438   \n",
       "\n",
       "  IDMunicipio IDProvincia IDCCAA  \n",
       "0          52          02     07  \n",
       "1          54          02     07  \n",
       "2          54          02     07  \n",
       "3          54          02     07  \n",
       "4          54          02     07  "
      ]
     },
     "execution_count": 107,
     "metadata": {},
     "output_type": "execute_result"
    }
   ],
   "source": [
    "df_n.head()"
   ]
  },
  {
   "cell_type": "code",
   "execution_count": 108,
   "id": "d7336670",
   "metadata": {},
   "outputs": [
    {
     "data": {
      "text/html": [
       "<div>\n",
       "<style scoped>\n",
       "    .dataframe tbody tr th:only-of-type {\n",
       "        vertical-align: middle;\n",
       "    }\n",
       "\n",
       "    .dataframe tbody tr th {\n",
       "        vertical-align: top;\n",
       "    }\n",
       "\n",
       "    .dataframe thead th {\n",
       "        text-align: right;\n",
       "    }\n",
       "</style>\n",
       "<table border=\"1\" class=\"dataframe\">\n",
       "  <thead>\n",
       "    <tr style=\"text-align: right;\">\n",
       "      <th></th>\n",
       "      <th>Fecha</th>\n",
       "      <th>C.P.</th>\n",
       "      <th>Dirección</th>\n",
       "      <th>Horario</th>\n",
       "      <th>Latitud</th>\n",
       "      <th>Localidad</th>\n",
       "      <th>Longitud (WGS84)</th>\n",
       "      <th>Municipio</th>\n",
       "      <th>Gasoleo A</th>\n",
       "      <th>Gasoleo B</th>\n",
       "      <th>Gasoleo Premium</th>\n",
       "      <th>Gasolina 95 E5</th>\n",
       "      <th>Gasolina 98 E5</th>\n",
       "      <th>Provincia</th>\n",
       "      <th>Proveedor de Servicio</th>\n",
       "      <th>IDEESS</th>\n",
       "      <th>IDMunicipio</th>\n",
       "      <th>IDProvincia</th>\n",
       "      <th>IDCCAA</th>\n",
       "    </tr>\n",
       "  </thead>\n",
       "  <tbody>\n",
       "    <tr>\n",
       "      <th>0</th>\n",
       "      <td>18/12/2022 17:32:26</td>\n",
       "      <td>02250</td>\n",
       "      <td>AVENIDA CASTILLA LA MANCHA, 26</td>\n",
       "      <td>L-D: 07:00-22:00</td>\n",
       "      <td>39,211417</td>\n",
       "      <td>ABENGIBRE</td>\n",
       "      <td>-1,539167</td>\n",
       "      <td>Abengibre</td>\n",
       "      <td>1.639</td>\n",
       "      <td>1.19</td>\n",
       "      <td>NaN</td>\n",
       "      <td>1.589</td>\n",
       "      <td>NaN</td>\n",
       "      <td>ALBACETE</td>\n",
       "      <td>Nº 10.935</td>\n",
       "      <td>4375</td>\n",
       "      <td>52</td>\n",
       "      <td>02</td>\n",
       "      <td>07</td>\n",
       "    </tr>\n",
       "  </tbody>\n",
       "</table>\n",
       "</div>"
      ],
      "text/plain": [
       "                 Fecha   C.P.                       Dirección  \\\n",
       "0  18/12/2022 17:32:26  02250  AVENIDA CASTILLA LA MANCHA, 26   \n",
       "\n",
       "            Horario    Latitud  Localidad Longitud (WGS84)  Municipio  \\\n",
       "0  L-D: 07:00-22:00  39,211417  ABENGIBRE        -1,539167  Abengibre   \n",
       "\n",
       "   Gasoleo A  Gasoleo B  Gasoleo Premium  Gasolina 95 E5  Gasolina 98 E5  \\\n",
       "0      1.639       1.19              NaN           1.589             NaN   \n",
       "\n",
       "  Provincia Proveedor de Servicio IDEESS IDMunicipio IDProvincia IDCCAA  \n",
       "0  ALBACETE             Nº 10.935   4375          52          02     07  "
      ]
     },
     "execution_count": 108,
     "metadata": {},
     "output_type": "execute_result"
    }
   ],
   "source": [
    "# Renombramos las columnas\n",
    "df_n.rename(columns={\"Precio Gasoleo A\": \"Gasoleo A\", \"Precio Gasoleo B\": \"Gasoleo B\" ,\"Precio Gasoleo Premium\": \"Gasoleo Premium\", \n",
    "                     \"Precio Gasolina 95 E5\": \"Gasolina 95 E5\", \"Precio Gasolina 98 E5\": \"Gasolina 98 E5\",\n",
    "                     \"Rótulo\":\"Proveedor de Servicio\"}, inplace=True)\n",
    "df_n.head(1)"
   ]
  },
  {
   "cell_type": "code",
   "execution_count": 109,
   "id": "365e7b0f",
   "metadata": {},
   "outputs": [],
   "source": [
    "# Media Nacional\n",
    "df_n['Media Nacional Gasoleo A']=df_n['Gasoleo A'].mean()\n",
    "df_n['Media Nacional Gasoleo B']=df_n['Gasoleo B'].mean()\n",
    "df_n['Media Nacional Gasoleo P'] = df_n['Gasoleo Premium'].mean()\n",
    "df_n['Media Nacional Gasolina 95']=df_n['Gasolina 95 E5'].mean()\n",
    "df_n['Media Nacional Gasolina 98']=df_n['Gasolina 98 E5'].mean()\n"
   ]
  },
  {
   "cell_type": "code",
   "execution_count": 110,
   "id": "92b44a14",
   "metadata": {},
   "outputs": [],
   "source": [
    "# Desviación (eliminanos porque no aporta información va)\n",
    "#df_n['dev_Gasoleo A']= df_n['Gasoleo A'] - df_n['Media_Gasoleo A']\n",
    "#df_n['dev_Gasoleo B'] =df_n['Gasoleo B'] - df_n['Media_Gasoleo B']\n",
    "#df_n['dev_Gasoleo Prem'] =df_n['Gasoleo Premium'] - df_n['Media_Gasoleo Prem']\n",
    "#df_n['dev_Gasolina 95']=df_n['Gasolina 95 E5'] - df_n['Media_Gasolina 95']\n",
    "#df_n['dev_Gasolina 98']=df_n['Gasolina 98 E5']- df_n['Media_Gasolina 98']\n"
   ]
  },
  {
   "cell_type": "markdown",
   "id": "d3a6aefe",
   "metadata": {},
   "source": [
    "# Media de precios respecto al código postal"
   ]
  },
  {
   "cell_type": "code",
   "execution_count": 111,
   "id": "2209ce36",
   "metadata": {},
   "outputs": [],
   "source": [
    "# Media Código Postal de Gasoleo A\n",
    "def cp_media_A(x):\n",
    "# x = Código Postal\n",
    "    cod_postal = df_n[df_n['C.P.'] == x]\n",
    "    media_cp_GA = cod_postal[['Gasoleo A']].mean()\n",
    "    return media_cp_GA"
   ]
  },
  {
   "cell_type": "code",
   "execution_count": 112,
   "id": "5875ac4a",
   "metadata": {},
   "outputs": [],
   "source": [
    "# Media Código Postal de Gasoleo B\n",
    "def cp_media_B(x):\n",
    "# x = Código Postal\n",
    "    cod_postal = df_n[df_n['C.P.'] == x]\n",
    "    media_cp_GB = cod_postal[['Gasoleo B']].mean()\n",
    "    return media_cp_GB"
   ]
  },
  {
   "cell_type": "code",
   "execution_count": 113,
   "id": "64d8473f",
   "metadata": {},
   "outputs": [],
   "source": [
    "# Media Código Postal de Gasoleo Premium\n",
    "def cp_media_P(x):\n",
    "# x = Código Postal\n",
    "    cod_postal = df_n[df_n['C.P.'] == x]\n",
    "    media_cp_GP = cod_postal[['Gasoleo B']].mean()\n",
    "    return media_cp_GP"
   ]
  },
  {
   "cell_type": "code",
   "execution_count": 114,
   "id": "bc519ea4",
   "metadata": {},
   "outputs": [],
   "source": [
    "# Media Código Postal de Gasolina 95 E5\n",
    "def cp_media_95(x):\n",
    "# x = Código Postal\n",
    "    cod_postal = df_n[df_n['C.P.'] == x]\n",
    "    media_cp_G95 = cod_postal[['Gasolina 95 E5']].mean()\n",
    "    return media_cp_G95"
   ]
  },
  {
   "cell_type": "code",
   "execution_count": 115,
   "id": "f61528f9",
   "metadata": {},
   "outputs": [],
   "source": [
    "# Media Código Postal de Gasolina 98 E5\n",
    "def cp_media_98(x):\n",
    "# x = Código Postal\n",
    "    cod_postal = df_n[df_n['C.P.'] == x]\n",
    "    media_cp_G98 = cod_postal[['Gasolina 98 E5']].mean()\n",
    "    return media_cp_G98"
   ]
  },
  {
   "cell_type": "code",
   "execution_count": 116,
   "id": "14655438",
   "metadata": {
    "scrolled": true
   },
   "outputs": [
    {
     "data": {
      "text/plain": [
       "Gasolina 95 E5    1.518\n",
       "dtype: float64"
      ]
     },
     "execution_count": 116,
     "metadata": {},
     "output_type": "execute_result"
    }
   ],
   "source": [
    "# Comprobación\n",
    "cp_media_95('28760')"
   ]
  },
  {
   "cell_type": "code",
   "execution_count": 117,
   "id": "2c36f287",
   "metadata": {},
   "outputs": [],
   "source": [
    "# Aplicamos la función a la columna\n",
    "df_n[['Media C.P. Gasoleo A']]= df_n['C.P.'].apply(cp_media_A)\n",
    "df_n[['Media C.P. Gasoleo B']]= df_n['C.P.'].apply(cp_media_B)\n",
    "df_n[['Media C.P. Gasoleo P']]= df_n['C.P.'].apply(cp_media_P)\n",
    "df_n[['Media C.P. Gasolina 95']]= df_n['C.P.'].apply(cp_media_95)\n",
    "df_n[['Media C.P. Gasolina 98']]= df_n['C.P.'].apply(cp_media_98)"
   ]
  },
  {
   "cell_type": "code",
   "execution_count": 118,
   "id": "52c69724",
   "metadata": {
    "scrolled": true
   },
   "outputs": [
    {
     "data": {
      "text/html": [
       "<div>\n",
       "<style scoped>\n",
       "    .dataframe tbody tr th:only-of-type {\n",
       "        vertical-align: middle;\n",
       "    }\n",
       "\n",
       "    .dataframe tbody tr th {\n",
       "        vertical-align: top;\n",
       "    }\n",
       "\n",
       "    .dataframe thead th {\n",
       "        text-align: right;\n",
       "    }\n",
       "</style>\n",
       "<table border=\"1\" class=\"dataframe\">\n",
       "  <thead>\n",
       "    <tr style=\"text-align: right;\">\n",
       "      <th></th>\n",
       "      <th>Fecha</th>\n",
       "      <th>C.P.</th>\n",
       "      <th>Dirección</th>\n",
       "      <th>Horario</th>\n",
       "      <th>Latitud</th>\n",
       "      <th>Localidad</th>\n",
       "      <th>Longitud (WGS84)</th>\n",
       "      <th>Municipio</th>\n",
       "      <th>Gasoleo A</th>\n",
       "      <th>Gasoleo B</th>\n",
       "      <th>...</th>\n",
       "      <th>Media Nacional Gasoleo A</th>\n",
       "      <th>Media Nacional Gasoleo B</th>\n",
       "      <th>Media Nacional Gasoleo P</th>\n",
       "      <th>Media Nacional Gasolina 95</th>\n",
       "      <th>Media Nacional Gasolina 98</th>\n",
       "      <th>Media C.P. Gasoleo A</th>\n",
       "      <th>Media C.P. Gasoleo B</th>\n",
       "      <th>Media C.P. Gasoleo P</th>\n",
       "      <th>Media C.P. Gasolina 95</th>\n",
       "      <th>Media C.P. Gasolina 98</th>\n",
       "    </tr>\n",
       "  </thead>\n",
       "  <tbody>\n",
       "    <tr>\n",
       "      <th>0</th>\n",
       "      <td>18/12/2022 17:32:26</td>\n",
       "      <td>02250</td>\n",
       "      <td>AVENIDA CASTILLA LA MANCHA, 26</td>\n",
       "      <td>L-D: 07:00-22:00</td>\n",
       "      <td>39,211417</td>\n",
       "      <td>ABENGIBRE</td>\n",
       "      <td>-1,539167</td>\n",
       "      <td>Abengibre</td>\n",
       "      <td>1.639</td>\n",
       "      <td>1.19</td>\n",
       "      <td>...</td>\n",
       "      <td>1.654534</td>\n",
       "      <td>1.341226</td>\n",
       "      <td>1.747942</td>\n",
       "      <td>1.581175</td>\n",
       "      <td>1.739375</td>\n",
       "      <td>1.63900</td>\n",
       "      <td>1.19</td>\n",
       "      <td>1.19</td>\n",
       "      <td>1.589000</td>\n",
       "      <td>NaN</td>\n",
       "    </tr>\n",
       "    <tr>\n",
       "      <th>1</th>\n",
       "      <td>18/12/2022 17:32:26</td>\n",
       "      <td>02001</td>\n",
       "      <td>AVENIDA 1º DE MAYO, S/N</td>\n",
       "      <td>L-S: 08:00-22:00; D: 09:00-21:00</td>\n",
       "      <td>38,985667</td>\n",
       "      <td>ALBACETE</td>\n",
       "      <td>-1,868500</td>\n",
       "      <td>Albacete</td>\n",
       "      <td>1.699</td>\n",
       "      <td>NaN</td>\n",
       "      <td>...</td>\n",
       "      <td>1.654534</td>\n",
       "      <td>1.341226</td>\n",
       "      <td>1.747942</td>\n",
       "      <td>1.581175</td>\n",
       "      <td>1.739375</td>\n",
       "      <td>1.68375</td>\n",
       "      <td>NaN</td>\n",
       "      <td>NaN</td>\n",
       "      <td>1.557667</td>\n",
       "      <td>1.77</td>\n",
       "    </tr>\n",
       "    <tr>\n",
       "      <th>2</th>\n",
       "      <td>18/12/2022 17:32:26</td>\n",
       "      <td>02001</td>\n",
       "      <td>CALLE PRINCIPE DE ASTURIAS (POLÍGONO DE ROMICA...</td>\n",
       "      <td>L-D: 06:00-21:30</td>\n",
       "      <td>39,054694</td>\n",
       "      <td>ALBACETE</td>\n",
       "      <td>-1,832000</td>\n",
       "      <td>Albacete</td>\n",
       "      <td>1.709</td>\n",
       "      <td>NaN</td>\n",
       "      <td>...</td>\n",
       "      <td>1.654534</td>\n",
       "      <td>1.341226</td>\n",
       "      <td>1.747942</td>\n",
       "      <td>1.581175</td>\n",
       "      <td>1.739375</td>\n",
       "      <td>1.68375</td>\n",
       "      <td>NaN</td>\n",
       "      <td>NaN</td>\n",
       "      <td>1.557667</td>\n",
       "      <td>1.77</td>\n",
       "    </tr>\n",
       "    <tr>\n",
       "      <th>3</th>\n",
       "      <td>18/12/2022 17:32:26</td>\n",
       "      <td>02001</td>\n",
       "      <td>CALLE FEDERICO GARCIA LORCA, 1</td>\n",
       "      <td>L-D: 24H</td>\n",
       "      <td>39,000861</td>\n",
       "      <td>ALBACETE</td>\n",
       "      <td>-1,849833</td>\n",
       "      <td>Albacete</td>\n",
       "      <td>1.597</td>\n",
       "      <td>NaN</td>\n",
       "      <td>...</td>\n",
       "      <td>1.654534</td>\n",
       "      <td>1.341226</td>\n",
       "      <td>1.747942</td>\n",
       "      <td>1.581175</td>\n",
       "      <td>1.739375</td>\n",
       "      <td>1.68375</td>\n",
       "      <td>NaN</td>\n",
       "      <td>NaN</td>\n",
       "      <td>1.557667</td>\n",
       "      <td>1.77</td>\n",
       "    </tr>\n",
       "    <tr>\n",
       "      <th>4</th>\n",
       "      <td>18/12/2022 17:32:26</td>\n",
       "      <td>02001</td>\n",
       "      <td>CALLE FEDERICO GARCIA LORCA, 5</td>\n",
       "      <td>L-S: 05:00-23:00</td>\n",
       "      <td>38,997722</td>\n",
       "      <td>ALBACETE</td>\n",
       "      <td>-1,846361</td>\n",
       "      <td>Albacete</td>\n",
       "      <td>1.730</td>\n",
       "      <td>NaN</td>\n",
       "      <td>...</td>\n",
       "      <td>1.654534</td>\n",
       "      <td>1.341226</td>\n",
       "      <td>1.747942</td>\n",
       "      <td>1.581175</td>\n",
       "      <td>1.739375</td>\n",
       "      <td>1.68375</td>\n",
       "      <td>NaN</td>\n",
       "      <td>NaN</td>\n",
       "      <td>1.557667</td>\n",
       "      <td>1.77</td>\n",
       "    </tr>\n",
       "  </tbody>\n",
       "</table>\n",
       "<p>5 rows × 29 columns</p>\n",
       "</div>"
      ],
      "text/plain": [
       "                 Fecha   C.P.  \\\n",
       "0  18/12/2022 17:32:26  02250   \n",
       "1  18/12/2022 17:32:26  02001   \n",
       "2  18/12/2022 17:32:26  02001   \n",
       "3  18/12/2022 17:32:26  02001   \n",
       "4  18/12/2022 17:32:26  02001   \n",
       "\n",
       "                                           Dirección  \\\n",
       "0                     AVENIDA CASTILLA LA MANCHA, 26   \n",
       "1                            AVENIDA 1º DE MAYO, S/N   \n",
       "2  CALLE PRINCIPE DE ASTURIAS (POLÍGONO DE ROMICA...   \n",
       "3                     CALLE FEDERICO GARCIA LORCA, 1   \n",
       "4                     CALLE FEDERICO GARCIA LORCA, 5   \n",
       "\n",
       "                            Horario    Latitud  Localidad Longitud (WGS84)  \\\n",
       "0                  L-D: 07:00-22:00  39,211417  ABENGIBRE        -1,539167   \n",
       "1  L-S: 08:00-22:00; D: 09:00-21:00  38,985667   ALBACETE        -1,868500   \n",
       "2                  L-D: 06:00-21:30  39,054694   ALBACETE        -1,832000   \n",
       "3                          L-D: 24H  39,000861   ALBACETE        -1,849833   \n",
       "4                  L-S: 05:00-23:00  38,997722   ALBACETE        -1,846361   \n",
       "\n",
       "   Municipio  Gasoleo A  Gasoleo B  ...  Media Nacional Gasoleo A  \\\n",
       "0  Abengibre      1.639       1.19  ...                  1.654534   \n",
       "1   Albacete      1.699        NaN  ...                  1.654534   \n",
       "2   Albacete      1.709        NaN  ...                  1.654534   \n",
       "3   Albacete      1.597        NaN  ...                  1.654534   \n",
       "4   Albacete      1.730        NaN  ...                  1.654534   \n",
       "\n",
       "   Media Nacional Gasoleo B  Media Nacional Gasoleo P  \\\n",
       "0                  1.341226                  1.747942   \n",
       "1                  1.341226                  1.747942   \n",
       "2                  1.341226                  1.747942   \n",
       "3                  1.341226                  1.747942   \n",
       "4                  1.341226                  1.747942   \n",
       "\n",
       "  Media Nacional Gasolina 95 Media Nacional Gasolina 98 Media C.P. Gasoleo A  \\\n",
       "0                   1.581175                   1.739375              1.63900   \n",
       "1                   1.581175                   1.739375              1.68375   \n",
       "2                   1.581175                   1.739375              1.68375   \n",
       "3                   1.581175                   1.739375              1.68375   \n",
       "4                   1.581175                   1.739375              1.68375   \n",
       "\n",
       "  Media C.P. Gasoleo B Media C.P. Gasoleo P Media C.P. Gasolina 95  \\\n",
       "0                 1.19                 1.19               1.589000   \n",
       "1                  NaN                  NaN               1.557667   \n",
       "2                  NaN                  NaN               1.557667   \n",
       "3                  NaN                  NaN               1.557667   \n",
       "4                  NaN                  NaN               1.557667   \n",
       "\n",
       "   Media C.P. Gasolina 98  \n",
       "0                     NaN  \n",
       "1                    1.77  \n",
       "2                    1.77  \n",
       "3                    1.77  \n",
       "4                    1.77  \n",
       "\n",
       "[5 rows x 29 columns]"
      ]
     },
     "execution_count": 118,
     "metadata": {},
     "output_type": "execute_result"
    }
   ],
   "source": [
    "df_n.head()"
   ]
  },
  {
   "cell_type": "code",
   "execution_count": 119,
   "id": "fbc17dd0",
   "metadata": {},
   "outputs": [
    {
     "name": "stdout",
     "output_type": "stream",
     "text": [
      "<class 'pandas.core.frame.DataFrame'>\n",
      "RangeIndex: 11838 entries, 0 to 11837\n",
      "Data columns (total 29 columns):\n",
      " #   Column                      Non-Null Count  Dtype  \n",
      "---  ------                      --------------  -----  \n",
      " 0   Fecha                       11838 non-null  object \n",
      " 1   C.P.                        11838 non-null  object \n",
      " 2   Dirección                   11838 non-null  object \n",
      " 3   Horario                     11838 non-null  object \n",
      " 4   Latitud                     11838 non-null  object \n",
      " 5   Localidad                   11838 non-null  object \n",
      " 6   Longitud (WGS84)            11838 non-null  object \n",
      " 7   Municipio                   11838 non-null  object \n",
      " 8   Gasoleo A                   11493 non-null  float64\n",
      " 9   Gasoleo B                   3013 non-null   float64\n",
      " 10  Gasoleo Premium             7527 non-null   float64\n",
      " 11  Gasolina 95 E5              10693 non-null  float64\n",
      " 12  Gasolina 98 E5              5943 non-null   float64\n",
      " 13  Provincia                   11838 non-null  object \n",
      " 14  Proveedor de Servicio       11838 non-null  object \n",
      " 15  IDEESS                      11838 non-null  object \n",
      " 16  IDMunicipio                 11838 non-null  object \n",
      " 17  IDProvincia                 11838 non-null  object \n",
      " 18  IDCCAA                      11838 non-null  object \n",
      " 19  Media Nacional Gasoleo A    11838 non-null  float64\n",
      " 20  Media Nacional Gasoleo B    11838 non-null  float64\n",
      " 21  Media Nacional Gasoleo P    11838 non-null  float64\n",
      " 22  Media Nacional Gasolina 95  11838 non-null  float64\n",
      " 23  Media Nacional Gasolina 98  11838 non-null  float64\n",
      " 24  Media C.P. Gasoleo A        11746 non-null  float64\n",
      " 25  Media C.P. Gasoleo B        6000 non-null   float64\n",
      " 26  Media C.P. Gasoleo P        6000 non-null   float64\n",
      " 27  Media C.P. Gasolina 95      11582 non-null  float64\n",
      " 28  Media C.P. Gasolina 98      9610 non-null   float64\n",
      "dtypes: float64(15), object(14)\n",
      "memory usage: 2.6+ MB\n"
     ]
    }
   ],
   "source": [
    "df_n.info()"
   ]
  },
  {
   "cell_type": "code",
   "execution_count": 120,
   "id": "ea5c62a5",
   "metadata": {},
   "outputs": [
    {
     "data": {
      "text/html": [
       "<div>\n",
       "<style scoped>\n",
       "    .dataframe tbody tr th:only-of-type {\n",
       "        vertical-align: middle;\n",
       "    }\n",
       "\n",
       "    .dataframe tbody tr th {\n",
       "        vertical-align: top;\n",
       "    }\n",
       "\n",
       "    .dataframe thead th {\n",
       "        text-align: right;\n",
       "    }\n",
       "</style>\n",
       "<table border=\"1\" class=\"dataframe\">\n",
       "  <thead>\n",
       "    <tr style=\"text-align: right;\">\n",
       "      <th></th>\n",
       "      <th>Fecha</th>\n",
       "      <th>Horario</th>\n",
       "      <th>C.P.</th>\n",
       "      <th>Provincia</th>\n",
       "      <th>Municipio</th>\n",
       "      <th>Localidad</th>\n",
       "      <th>Dirección</th>\n",
       "      <th>Proveedor de Servicio</th>\n",
       "      <th>Gasoleo A</th>\n",
       "      <th>Media C.P. Gasoleo A</th>\n",
       "      <th>...</th>\n",
       "      <th>Media Nacional Gasoleo B</th>\n",
       "      <th>Gasoleo Premium</th>\n",
       "      <th>Media C.P. Gasoleo P</th>\n",
       "      <th>Media Nacional Gasoleo P</th>\n",
       "      <th>Gasolina 95 E5</th>\n",
       "      <th>Media C.P. Gasolina 95</th>\n",
       "      <th>Media Nacional Gasolina 95</th>\n",
       "      <th>Gasolina 98 E5</th>\n",
       "      <th>Media C.P. Gasolina 98</th>\n",
       "      <th>Media Nacional Gasolina 98</th>\n",
       "    </tr>\n",
       "  </thead>\n",
       "  <tbody>\n",
       "    <tr>\n",
       "      <th>0</th>\n",
       "      <td>18/12/2022 17:32:26</td>\n",
       "      <td>L-D: 07:00-22:00</td>\n",
       "      <td>02250</td>\n",
       "      <td>ALBACETE</td>\n",
       "      <td>Abengibre</td>\n",
       "      <td>ABENGIBRE</td>\n",
       "      <td>AVENIDA CASTILLA LA MANCHA, 26</td>\n",
       "      <td>Nº 10.935</td>\n",
       "      <td>1.639</td>\n",
       "      <td>1.639000</td>\n",
       "      <td>...</td>\n",
       "      <td>1.341226</td>\n",
       "      <td>NaN</td>\n",
       "      <td>1.190</td>\n",
       "      <td>1.747942</td>\n",
       "      <td>1.589</td>\n",
       "      <td>1.589000</td>\n",
       "      <td>1.581175</td>\n",
       "      <td>NaN</td>\n",
       "      <td>NaN</td>\n",
       "      <td>1.739375</td>\n",
       "    </tr>\n",
       "    <tr>\n",
       "      <th>1</th>\n",
       "      <td>18/12/2022 17:32:26</td>\n",
       "      <td>L-S: 08:00-22:00; D: 09:00-21:00</td>\n",
       "      <td>02001</td>\n",
       "      <td>ALBACETE</td>\n",
       "      <td>Albacete</td>\n",
       "      <td>ALBACETE</td>\n",
       "      <td>AVENIDA 1º DE MAYO, S/N</td>\n",
       "      <td>CARREFOUR</td>\n",
       "      <td>1.699</td>\n",
       "      <td>1.683750</td>\n",
       "      <td>...</td>\n",
       "      <td>1.341226</td>\n",
       "      <td>1.739</td>\n",
       "      <td>NaN</td>\n",
       "      <td>1.747942</td>\n",
       "      <td>1.599</td>\n",
       "      <td>1.557667</td>\n",
       "      <td>1.581175</td>\n",
       "      <td>1.799</td>\n",
       "      <td>1.770</td>\n",
       "      <td>1.739375</td>\n",
       "    </tr>\n",
       "    <tr>\n",
       "      <th>2</th>\n",
       "      <td>18/12/2022 17:32:26</td>\n",
       "      <td>L-D: 06:00-21:30</td>\n",
       "      <td>02001</td>\n",
       "      <td>ALBACETE</td>\n",
       "      <td>Albacete</td>\n",
       "      <td>ALBACETE</td>\n",
       "      <td>CALLE PRINCIPE DE ASTURIAS (POLÍGONO DE ROMICA...</td>\n",
       "      <td>BP ROMICA</td>\n",
       "      <td>1.709</td>\n",
       "      <td>1.683750</td>\n",
       "      <td>...</td>\n",
       "      <td>1.341226</td>\n",
       "      <td>1.799</td>\n",
       "      <td>NaN</td>\n",
       "      <td>1.747942</td>\n",
       "      <td>1.599</td>\n",
       "      <td>1.557667</td>\n",
       "      <td>1.581175</td>\n",
       "      <td>1.741</td>\n",
       "      <td>1.770</td>\n",
       "      <td>1.739375</td>\n",
       "    </tr>\n",
       "    <tr>\n",
       "      <th>3</th>\n",
       "      <td>18/12/2022 17:32:26</td>\n",
       "      <td>L-D: 24H</td>\n",
       "      <td>02001</td>\n",
       "      <td>ALBACETE</td>\n",
       "      <td>Albacete</td>\n",
       "      <td>ALBACETE</td>\n",
       "      <td>CALLE FEDERICO GARCIA LORCA, 1</td>\n",
       "      <td>PLENOIL</td>\n",
       "      <td>1.597</td>\n",
       "      <td>1.683750</td>\n",
       "      <td>...</td>\n",
       "      <td>1.341226</td>\n",
       "      <td>NaN</td>\n",
       "      <td>NaN</td>\n",
       "      <td>1.747942</td>\n",
       "      <td>1.475</td>\n",
       "      <td>1.557667</td>\n",
       "      <td>1.581175</td>\n",
       "      <td>NaN</td>\n",
       "      <td>1.770</td>\n",
       "      <td>1.739375</td>\n",
       "    </tr>\n",
       "    <tr>\n",
       "      <th>4</th>\n",
       "      <td>18/12/2022 17:32:26</td>\n",
       "      <td>L-S: 05:00-23:00</td>\n",
       "      <td>02001</td>\n",
       "      <td>ALBACETE</td>\n",
       "      <td>Albacete</td>\n",
       "      <td>ALBACETE</td>\n",
       "      <td>CALLE FEDERICO GARCIA LORCA, 5</td>\n",
       "      <td>CEPSA</td>\n",
       "      <td>1.730</td>\n",
       "      <td>1.683750</td>\n",
       "      <td>...</td>\n",
       "      <td>1.341226</td>\n",
       "      <td>NaN</td>\n",
       "      <td>NaN</td>\n",
       "      <td>1.747942</td>\n",
       "      <td>NaN</td>\n",
       "      <td>1.557667</td>\n",
       "      <td>1.581175</td>\n",
       "      <td>NaN</td>\n",
       "      <td>1.770</td>\n",
       "      <td>1.739375</td>\n",
       "    </tr>\n",
       "    <tr>\n",
       "      <th>...</th>\n",
       "      <td>...</td>\n",
       "      <td>...</td>\n",
       "      <td>...</td>\n",
       "      <td>...</td>\n",
       "      <td>...</td>\n",
       "      <td>...</td>\n",
       "      <td>...</td>\n",
       "      <td>...</td>\n",
       "      <td>...</td>\n",
       "      <td>...</td>\n",
       "      <td>...</td>\n",
       "      <td>...</td>\n",
       "      <td>...</td>\n",
       "      <td>...</td>\n",
       "      <td>...</td>\n",
       "      <td>...</td>\n",
       "      <td>...</td>\n",
       "      <td>...</td>\n",
       "      <td>...</td>\n",
       "      <td>...</td>\n",
       "      <td>...</td>\n",
       "    </tr>\n",
       "    <tr>\n",
       "      <th>11833</th>\n",
       "      <td>18/12/2022 17:32:26</td>\n",
       "      <td>L-D: 24H</td>\n",
       "      <td>50197</td>\n",
       "      <td>ZARAGOZA</td>\n",
       "      <td>Zaragoza</td>\n",
       "      <td>ZARAGOZA</td>\n",
       "      <td>RONDA FERIA DE MUESTRAS, DE LA, 20</td>\n",
       "      <td>IDS</td>\n",
       "      <td>1.709</td>\n",
       "      <td>1.702333</td>\n",
       "      <td>...</td>\n",
       "      <td>1.341226</td>\n",
       "      <td>NaN</td>\n",
       "      <td>1.351</td>\n",
       "      <td>1.747942</td>\n",
       "      <td>NaN</td>\n",
       "      <td>1.599000</td>\n",
       "      <td>1.581175</td>\n",
       "      <td>NaN</td>\n",
       "      <td>1.749</td>\n",
       "      <td>1.739375</td>\n",
       "    </tr>\n",
       "    <tr>\n",
       "      <th>11834</th>\n",
       "      <td>18/12/2022 17:32:26</td>\n",
       "      <td>L-D: 24H</td>\n",
       "      <td>50197</td>\n",
       "      <td>ZARAGOZA</td>\n",
       "      <td>Zaragoza</td>\n",
       "      <td>ZARAGOZA</td>\n",
       "      <td>POLIGONO CALLE TURIASO, 31</td>\n",
       "      <td>NOIL</td>\n",
       "      <td>1.699</td>\n",
       "      <td>1.702333</td>\n",
       "      <td>...</td>\n",
       "      <td>1.341226</td>\n",
       "      <td>NaN</td>\n",
       "      <td>1.351</td>\n",
       "      <td>1.747942</td>\n",
       "      <td>NaN</td>\n",
       "      <td>1.599000</td>\n",
       "      <td>1.581175</td>\n",
       "      <td>NaN</td>\n",
       "      <td>1.749</td>\n",
       "      <td>1.739375</td>\n",
       "    </tr>\n",
       "    <tr>\n",
       "      <th>11835</th>\n",
       "      <td>18/12/2022 17:32:26</td>\n",
       "      <td>L-D: 06:00-22:00</td>\n",
       "      <td>50800</td>\n",
       "      <td>ZARAGOZA</td>\n",
       "      <td>Zuera</td>\n",
       "      <td>ZUERA</td>\n",
       "      <td>CARRETERA N-330A KM. 24,000</td>\n",
       "      <td>REPSOL</td>\n",
       "      <td>1.659</td>\n",
       "      <td>1.639000</td>\n",
       "      <td>...</td>\n",
       "      <td>1.341226</td>\n",
       "      <td>1.719</td>\n",
       "      <td>1.172</td>\n",
       "      <td>1.747942</td>\n",
       "      <td>1.559</td>\n",
       "      <td>1.559000</td>\n",
       "      <td>1.581175</td>\n",
       "      <td>1.699</td>\n",
       "      <td>1.699</td>\n",
       "      <td>1.739375</td>\n",
       "    </tr>\n",
       "    <tr>\n",
       "      <th>11836</th>\n",
       "      <td>18/12/2022 17:32:26</td>\n",
       "      <td>L-D: 24H</td>\n",
       "      <td>50800</td>\n",
       "      <td>ZARAGOZA</td>\n",
       "      <td>Zuera</td>\n",
       "      <td>ZUERA</td>\n",
       "      <td>CALLE AUSTRIA, 11,17</td>\n",
       "      <td>AN ENERGETICOS ZUERA</td>\n",
       "      <td>1.619</td>\n",
       "      <td>1.639000</td>\n",
       "      <td>...</td>\n",
       "      <td>1.341226</td>\n",
       "      <td>1.659</td>\n",
       "      <td>1.172</td>\n",
       "      <td>1.747942</td>\n",
       "      <td>1.559</td>\n",
       "      <td>1.559000</td>\n",
       "      <td>1.581175</td>\n",
       "      <td>NaN</td>\n",
       "      <td>1.699</td>\n",
       "      <td>1.739375</td>\n",
       "    </tr>\n",
       "    <tr>\n",
       "      <th>11837</th>\n",
       "      <td>18/12/2022 17:32:26</td>\n",
       "      <td>L-D: 24H</td>\n",
       "      <td>50810</td>\n",
       "      <td>ZARAGOZA</td>\n",
       "      <td>Zuera</td>\n",
       "      <td>ONTINAR DE SALZ</td>\n",
       "      <td>CALLE COOPERATIVA, 2</td>\n",
       "      <td>COOPERATIVA SAN ISIDRO</td>\n",
       "      <td>1.629</td>\n",
       "      <td>1.629000</td>\n",
       "      <td>...</td>\n",
       "      <td>1.341226</td>\n",
       "      <td>1.669</td>\n",
       "      <td>1.099</td>\n",
       "      <td>1.747942</td>\n",
       "      <td>1.569</td>\n",
       "      <td>1.569000</td>\n",
       "      <td>1.581175</td>\n",
       "      <td>NaN</td>\n",
       "      <td>NaN</td>\n",
       "      <td>1.739375</td>\n",
       "    </tr>\n",
       "  </tbody>\n",
       "</table>\n",
       "<p>11838 rows × 23 columns</p>\n",
       "</div>"
      ],
      "text/plain": [
       "                     Fecha                           Horario   C.P. Provincia  \\\n",
       "0      18/12/2022 17:32:26                  L-D: 07:00-22:00  02250  ALBACETE   \n",
       "1      18/12/2022 17:32:26  L-S: 08:00-22:00; D: 09:00-21:00  02001  ALBACETE   \n",
       "2      18/12/2022 17:32:26                  L-D: 06:00-21:30  02001  ALBACETE   \n",
       "3      18/12/2022 17:32:26                          L-D: 24H  02001  ALBACETE   \n",
       "4      18/12/2022 17:32:26                  L-S: 05:00-23:00  02001  ALBACETE   \n",
       "...                    ...                               ...    ...       ...   \n",
       "11833  18/12/2022 17:32:26                          L-D: 24H  50197  ZARAGOZA   \n",
       "11834  18/12/2022 17:32:26                          L-D: 24H  50197  ZARAGOZA   \n",
       "11835  18/12/2022 17:32:26                  L-D: 06:00-22:00  50800  ZARAGOZA   \n",
       "11836  18/12/2022 17:32:26                          L-D: 24H  50800  ZARAGOZA   \n",
       "11837  18/12/2022 17:32:26                          L-D: 24H  50810  ZARAGOZA   \n",
       "\n",
       "       Municipio        Localidad  \\\n",
       "0      Abengibre        ABENGIBRE   \n",
       "1       Albacete         ALBACETE   \n",
       "2       Albacete         ALBACETE   \n",
       "3       Albacete         ALBACETE   \n",
       "4       Albacete         ALBACETE   \n",
       "...          ...              ...   \n",
       "11833   Zaragoza         ZARAGOZA   \n",
       "11834   Zaragoza         ZARAGOZA   \n",
       "11835      Zuera            ZUERA   \n",
       "11836      Zuera            ZUERA   \n",
       "11837      Zuera  ONTINAR DE SALZ   \n",
       "\n",
       "                                               Dirección  \\\n",
       "0                         AVENIDA CASTILLA LA MANCHA, 26   \n",
       "1                                AVENIDA 1º DE MAYO, S/N   \n",
       "2      CALLE PRINCIPE DE ASTURIAS (POLÍGONO DE ROMICA...   \n",
       "3                         CALLE FEDERICO GARCIA LORCA, 1   \n",
       "4                         CALLE FEDERICO GARCIA LORCA, 5   \n",
       "...                                                  ...   \n",
       "11833                 RONDA FERIA DE MUESTRAS, DE LA, 20   \n",
       "11834                         POLIGONO CALLE TURIASO, 31   \n",
       "11835                        CARRETERA N-330A KM. 24,000   \n",
       "11836                               CALLE AUSTRIA, 11,17   \n",
       "11837                               CALLE COOPERATIVA, 2   \n",
       "\n",
       "        Proveedor de Servicio  Gasoleo A  Media C.P. Gasoleo A  ...  \\\n",
       "0                   Nº 10.935      1.639              1.639000  ...   \n",
       "1                   CARREFOUR      1.699              1.683750  ...   \n",
       "2                   BP ROMICA      1.709              1.683750  ...   \n",
       "3                     PLENOIL      1.597              1.683750  ...   \n",
       "4                       CEPSA      1.730              1.683750  ...   \n",
       "...                       ...        ...                   ...  ...   \n",
       "11833                     IDS      1.709              1.702333  ...   \n",
       "11834                    NOIL      1.699              1.702333  ...   \n",
       "11835                  REPSOL      1.659              1.639000  ...   \n",
       "11836    AN ENERGETICOS ZUERA      1.619              1.639000  ...   \n",
       "11837  COOPERATIVA SAN ISIDRO      1.629              1.629000  ...   \n",
       "\n",
       "       Media Nacional Gasoleo B  Gasoleo Premium  Media C.P. Gasoleo P  \\\n",
       "0                      1.341226              NaN                 1.190   \n",
       "1                      1.341226            1.739                   NaN   \n",
       "2                      1.341226            1.799                   NaN   \n",
       "3                      1.341226              NaN                   NaN   \n",
       "4                      1.341226              NaN                   NaN   \n",
       "...                         ...              ...                   ...   \n",
       "11833                  1.341226              NaN                 1.351   \n",
       "11834                  1.341226              NaN                 1.351   \n",
       "11835                  1.341226            1.719                 1.172   \n",
       "11836                  1.341226            1.659                 1.172   \n",
       "11837                  1.341226            1.669                 1.099   \n",
       "\n",
       "       Media Nacional Gasoleo P  Gasolina 95 E5  Media C.P. Gasolina 95  \\\n",
       "0                      1.747942           1.589                1.589000   \n",
       "1                      1.747942           1.599                1.557667   \n",
       "2                      1.747942           1.599                1.557667   \n",
       "3                      1.747942           1.475                1.557667   \n",
       "4                      1.747942             NaN                1.557667   \n",
       "...                         ...             ...                     ...   \n",
       "11833                  1.747942             NaN                1.599000   \n",
       "11834                  1.747942             NaN                1.599000   \n",
       "11835                  1.747942           1.559                1.559000   \n",
       "11836                  1.747942           1.559                1.559000   \n",
       "11837                  1.747942           1.569                1.569000   \n",
       "\n",
       "       Media Nacional Gasolina 95  Gasolina 98 E5  Media C.P. Gasolina 98  \\\n",
       "0                        1.581175             NaN                     NaN   \n",
       "1                        1.581175           1.799                   1.770   \n",
       "2                        1.581175           1.741                   1.770   \n",
       "3                        1.581175             NaN                   1.770   \n",
       "4                        1.581175             NaN                   1.770   \n",
       "...                           ...             ...                     ...   \n",
       "11833                    1.581175             NaN                   1.749   \n",
       "11834                    1.581175             NaN                   1.749   \n",
       "11835                    1.581175           1.699                   1.699   \n",
       "11836                    1.581175             NaN                   1.699   \n",
       "11837                    1.581175             NaN                     NaN   \n",
       "\n",
       "       Media Nacional Gasolina 98  \n",
       "0                        1.739375  \n",
       "1                        1.739375  \n",
       "2                        1.739375  \n",
       "3                        1.739375  \n",
       "4                        1.739375  \n",
       "...                           ...  \n",
       "11833                    1.739375  \n",
       "11834                    1.739375  \n",
       "11835                    1.739375  \n",
       "11836                    1.739375  \n",
       "11837                    1.739375  \n",
       "\n",
       "[11838 rows x 23 columns]"
      ]
     },
     "execution_count": 120,
     "metadata": {},
     "output_type": "execute_result"
    }
   ],
   "source": [
    "#Ordenamos columnas\n",
    "df_n = df_n[['Fecha', 'Horario', 'C.P.','Provincia','Municipio','Localidad', 'Dirección', 'Proveedor de Servicio', \n",
    "             'Gasoleo A', 'Media C.P. Gasoleo A', 'Media Nacional Gasoleo A', \n",
    "             'Gasoleo B', 'Media C.P. Gasoleo B','Media Nacional Gasoleo B', \n",
    "             'Gasoleo Premium','Media C.P. Gasoleo P', 'Media Nacional Gasoleo P', \n",
    "             'Gasolina 95 E5', 'Media C.P. Gasolina 95','Media Nacional Gasolina 95', \n",
    "             'Gasolina 98 E5', 'Media C.P. Gasolina 98','Media Nacional Gasolina 98']]\n",
    "df_n"
   ]
  },
  {
   "cell_type": "markdown",
   "id": "0bf5e02c",
   "metadata": {},
   "source": [
    "# Limpieza de Nombres en \"Proveedores de servicio"
   ]
  },
  {
   "cell_type": "code",
   "execution_count": 121,
   "id": "475ac1f9",
   "metadata": {},
   "outputs": [],
   "source": [
    "# Misma marca de gasolineras con nombres diferentes\n",
    "df_n = df_n.sort_values('Proveedor de Servicio')\n",
    "\n",
    "\n",
    "\n"
   ]
  },
  {
   "cell_type": "code",
   "execution_count": 122,
   "id": "8ad906f2",
   "metadata": {},
   "outputs": [],
   "source": [
    "df_n[\"Proveedor de Servicio\"] = df_n[\"Proveedor de Servicio\"] .astype(str)\n"
   ]
  },
  {
   "cell_type": "code",
   "execution_count": 123,
   "id": "9a9221f8",
   "metadata": {},
   "outputs": [
    {
     "name": "stdout",
     "output_type": "stream",
     "text": [
      "<class 'pandas.core.frame.DataFrame'>\n",
      "Int64Index: 11838 entries, 2915 to 544\n",
      "Data columns (total 23 columns):\n",
      " #   Column                      Non-Null Count  Dtype  \n",
      "---  ------                      --------------  -----  \n",
      " 0   Fecha                       11838 non-null  object \n",
      " 1   Horario                     11838 non-null  object \n",
      " 2   C.P.                        11838 non-null  object \n",
      " 3   Provincia                   11838 non-null  object \n",
      " 4   Municipio                   11838 non-null  object \n",
      " 5   Localidad                   11838 non-null  object \n",
      " 6   Dirección                   11838 non-null  object \n",
      " 7   Proveedor de Servicio       11838 non-null  object \n",
      " 8   Gasoleo A                   11493 non-null  float64\n",
      " 9   Media C.P. Gasoleo A        11746 non-null  float64\n",
      " 10  Media Nacional Gasoleo A    11838 non-null  float64\n",
      " 11  Gasoleo B                   3013 non-null   float64\n",
      " 12  Media C.P. Gasoleo B        6000 non-null   float64\n",
      " 13  Media Nacional Gasoleo B    11838 non-null  float64\n",
      " 14  Gasoleo Premium             7527 non-null   float64\n",
      " 15  Media C.P. Gasoleo P        6000 non-null   float64\n",
      " 16  Media Nacional Gasoleo P    11838 non-null  float64\n",
      " 17  Gasolina 95 E5              10693 non-null  float64\n",
      " 18  Media C.P. Gasolina 95      11582 non-null  float64\n",
      " 19  Media Nacional Gasolina 95  11838 non-null  float64\n",
      " 20  Gasolina 98 E5              5943 non-null   float64\n",
      " 21  Media C.P. Gasolina 98      9610 non-null   float64\n",
      " 22  Media Nacional Gasolina 98  11838 non-null  float64\n",
      "dtypes: float64(15), object(8)\n",
      "memory usage: 2.2+ MB\n"
     ]
    }
   ],
   "source": [
    "df_n.info()"
   ]
  },
  {
   "cell_type": "code",
   "execution_count": 124,
   "id": "0bf6201c",
   "metadata": {},
   "outputs": [],
   "source": [
    "df_n['Proveedor de Servicio'] = df_n['Proveedor de Servicio'].astype('string')"
   ]
  },
  {
   "cell_type": "code",
   "execution_count": 125,
   "id": "b06c794d",
   "metadata": {},
   "outputs": [
    {
     "name": "stdout",
     "output_type": "stream",
     "text": [
      "<class 'pandas.core.frame.DataFrame'>\n",
      "Int64Index: 11838 entries, 2915 to 544\n",
      "Data columns (total 23 columns):\n",
      " #   Column                      Non-Null Count  Dtype  \n",
      "---  ------                      --------------  -----  \n",
      " 0   Fecha                       11838 non-null  object \n",
      " 1   Horario                     11838 non-null  object \n",
      " 2   C.P.                        11838 non-null  object \n",
      " 3   Provincia                   11838 non-null  object \n",
      " 4   Municipio                   11838 non-null  object \n",
      " 5   Localidad                   11838 non-null  object \n",
      " 6   Dirección                   11838 non-null  object \n",
      " 7   Proveedor de Servicio       11838 non-null  string \n",
      " 8   Gasoleo A                   11493 non-null  float64\n",
      " 9   Media C.P. Gasoleo A        11746 non-null  float64\n",
      " 10  Media Nacional Gasoleo A    11838 non-null  float64\n",
      " 11  Gasoleo B                   3013 non-null   float64\n",
      " 12  Media C.P. Gasoleo B        6000 non-null   float64\n",
      " 13  Media Nacional Gasoleo B    11838 non-null  float64\n",
      " 14  Gasoleo Premium             7527 non-null   float64\n",
      " 15  Media C.P. Gasoleo P        6000 non-null   float64\n",
      " 16  Media Nacional Gasoleo P    11838 non-null  float64\n",
      " 17  Gasolina 95 E5              10693 non-null  float64\n",
      " 18  Media C.P. Gasolina 95      11582 non-null  float64\n",
      " 19  Media Nacional Gasolina 95  11838 non-null  float64\n",
      " 20  Gasolina 98 E5              5943 non-null   float64\n",
      " 21  Media C.P. Gasolina 98      9610 non-null   float64\n",
      " 22  Media Nacional Gasolina 98  11838 non-null  float64\n",
      "dtypes: float64(15), object(7), string(1)\n",
      "memory usage: 2.2+ MB\n"
     ]
    }
   ],
   "source": [
    "df_n.info()"
   ]
  },
  {
   "cell_type": "code",
   "execution_count": 294,
   "id": "e6e60694",
   "metadata": {},
   "outputs": [
    {
     "name": "stderr",
     "output_type": "stream",
     "text": [
      "C:\\Users\\abarr\\AppData\\Local\\Temp\\ipykernel_12180\\4048511181.py:2: FutureWarning: The default value of regex will change from True to False in a future version. In addition, single character regular expressions will *not* be treated as literal strings when regex=True.\n",
      "  df_n['Proveedor de Servicio'] = df_n['Proveedor de Servicio'].str.replace('.', ' ')\n",
      "C:\\Users\\abarr\\AppData\\Local\\Temp\\ipykernel_12180\\4048511181.py:4: FutureWarning: The default value of regex will change from True to False in a future version.\n",
      "  df_n['Proveedor de Servicio'] = df_n['Proveedor de Servicio'].str.replace('BP \\S*', 'BP')\n",
      "C:\\Users\\abarr\\AppData\\Local\\Temp\\ipykernel_12180\\4048511181.py:5: FutureWarning: The default value of regex will change from True to False in a future version.\n",
      "  df_n['Proveedor de Servicio'] = df_n['Proveedor de Servicio'].str.replace('BP \\S[a-zA-Z0-9_]*', 'BP')\n",
      "C:\\Users\\abarr\\AppData\\Local\\Temp\\ipykernel_12180\\4048511181.py:6: FutureWarning: The default value of regex will change from True to False in a future version.\n",
      "  df_n['Proveedor de Servicio'] = df_n['Proveedor de Servicio'].str.replace('BPS \\S*', 'BP')\n",
      "C:\\Users\\abarr\\AppData\\Local\\Temp\\ipykernel_12180\\4048511181.py:7: FutureWarning: The default value of regex will change from True to False in a future version.\n",
      "  df_n['Proveedor de Servicio'] = df_n['Proveedor de Servicio'].str.replace('BPS \\S[a-zA-Z0-9_]*', 'BP')\n",
      "C:\\Users\\abarr\\AppData\\Local\\Temp\\ipykernel_12180\\4048511181.py:8: FutureWarning: The default value of regex will change from True to False in a future version.\n",
      "  df_n['Proveedor de Servicio'] = df_n['Proveedor de Servicio'].str.replace('BP\\w*', 'BP')\n",
      "C:\\Users\\abarr\\AppData\\Local\\Temp\\ipykernel_12180\\4048511181.py:22: FutureWarning: The default value of regex will change from True to False in a future version.\n",
      "  df_n['Proveedor de Servicio'] = df_n['Proveedor de Servicio'].str.replace('BP ROTONDA LAS VAGUADAS S.L.', 'BP')\n",
      "C:\\Users\\abarr\\AppData\\Local\\Temp\\ipykernel_12180\\4048511181.py:24: FutureWarning: The default value of regex will change from True to False in a future version.\n",
      "  df_n['Proveedor de Servicio'] = df_n['Proveedor de Servicio'].str.replace('BPPROPERLY, S.A.', 'BP')\n",
      "C:\\Users\\abarr\\AppData\\Local\\Temp\\ipykernel_12180\\4048511181.py:28: FutureWarning: The default value of regex will change from True to False in a future version.\n",
      "  df_n['Proveedor de Servicio'] = df_n['Proveedor de Servicio'].str.replace('(sin rótulo)', 'OTROS')\n",
      "C:\\Users\\abarr\\AppData\\Local\\Temp\\ipykernel_12180\\4048511181.py:29: FutureWarning: The default value of regex will change from True to False in a future version. In addition, single character regular expressions will *not* be treated as literal strings when regex=True.\n",
      "  df_n['Proveedor de Servicio'] = df_n['Proveedor de Servicio'].str.replace('*', 'OTROS')\n",
      "C:\\Users\\abarr\\AppData\\Local\\Temp\\ipykernel_12180\\4048511181.py:47: FutureWarning: The default value of regex will change from True to False in a future version.\n",
      "  df_n['Proveedor de Servicio'] = df_n['Proveedor de Servicio'].str.replace('OTROS \\S*', 'OTROS')\n",
      "C:\\Users\\abarr\\AppData\\Local\\Temp\\ipykernel_12180\\4048511181.py:48: FutureWarning: The default value of regex will change from True to False in a future version.\n",
      "  df_n['Proveedor de Servicio'] = df_n['Proveedor de Servicio'].str.replace('OTROS \\S[a-zA-Z0-9_]*', 'OTROS')\n",
      "C:\\Users\\abarr\\AppData\\Local\\Temp\\ipykernel_12180\\4048511181.py:49: FutureWarning: The default value of regex will change from True to False in a future version.\n",
      "  df_n['Proveedor de Servicio'] = df_n['Proveedor de Servicio'].str.replace('OTROS \\S[a-zA-Z0-9_]*\\S[a-zA-Z0-9_]*', 'OTROS')\n",
      "C:\\Users\\abarr\\AppData\\Local\\Temp\\ipykernel_12180\\4048511181.py:51: FutureWarning: The default value of regex will change from True to False in a future version.\n",
      "  df_n['Proveedor de Servicio'] = df_n['Proveedor de Servicio'].str.replace('OTROS\\w*', 'OTROS')\n",
      "C:\\Users\\abarr\\AppData\\Local\\Temp\\ipykernel_12180\\4048511181.py:52: FutureWarning: The default value of regex will change from True to False in a future version.\n",
      "  df_n['Proveedor de Servicio'] = df_n['Proveedor de Servicio'].str.replace('OTROS \\S*', 'OTROS')\n",
      "C:\\Users\\abarr\\AppData\\Local\\Temp\\ipykernel_12180\\4048511181.py:53: FutureWarning: The default value of regex will change from True to False in a future version.\n",
      "  df_n['Proveedor de Servicio'] = df_n['Proveedor de Servicio'].str.replace('\\S* OTROS ', 'OTROS')\n",
      "C:\\Users\\abarr\\AppData\\Local\\Temp\\ipykernel_12180\\4048511181.py:54: FutureWarning: The default value of regex will change from True to False in a future version.\n",
      "  df_n['Proveedor de Servicio'] = df_n['Proveedor de Servicio'].str.replace('\\S*(OTROS)\\S*', 'OTROS')\n",
      "C:\\Users\\abarr\\AppData\\Local\\Temp\\ipykernel_12180\\4048511181.py:57: FutureWarning: The default value of regex will change from True to False in a future version.\n",
      "  df_n['Proveedor de Servicio'] = df_n['Proveedor de Servicio'].str.replace('INLOCOR S.L. \"CEPSA\"', 'CEPSA')\n",
      "C:\\Users\\abarr\\AppData\\Local\\Temp\\ipykernel_12180\\4048511181.py:58: FutureWarning: The default value of regex will change from True to False in a future version.\n",
      "  df_n['Proveedor de Servicio'] = df_n['Proveedor de Servicio'].str.replace('REPSOL. LOS ANGELES DE LA MANCHA, S.L.', 'REPSOL')\n",
      "C:\\Users\\abarr\\AppData\\Local\\Temp\\ipykernel_12180\\4048511181.py:88: FutureWarning: The default value of regex will change from True to False in a future version.\n",
      "  df_n['Proveedor de Servicio'] = df_n['Proveedor de Servicio'].str.replace('CEPSA . LOHANA', 'CEPSA')\n",
      "C:\\Users\\abarr\\AppData\\Local\\Temp\\ipykernel_12180\\4048511181.py:109: FutureWarning: The default value of regex will change from True to False in a future version.\n",
      "  df_n['Proveedor de Servicio'] = df_n['Proveedor de Servicio'].str.replace('CEPSAGLTA.EL CID', 'CEPSA')\n",
      "C:\\Users\\abarr\\AppData\\Local\\Temp\\ipykernel_12180\\4048511181.py:111: FutureWarning: The default value of regex will change from True to False in a future version.\n",
      "  df_n['Proveedor de Servicio'] = df_n['Proveedor de Servicio'].str.replace('CEPSAESPAÑA S.A.', 'CEPSA')\n",
      "C:\\Users\\abarr\\AppData\\Local\\Temp\\ipykernel_12180\\4048511181.py:123: FutureWarning: The default value of regex will change from True to False in a future version.\n",
      "  df_n['Proveedor de Servicio'] = df_n['Proveedor de Servicio'].str.replace('CEPSAOTROSE.S. ROCA', 'CEPSA')\n",
      "C:\\Users\\abarr\\AppData\\Local\\Temp\\ipykernel_12180\\4048511181.py:125: FutureWarning: The default value of regex will change from True to False in a future version.\n",
      "  df_n['Proveedor de Servicio'] = df_n['Proveedor de Servicio'].str.replace('CEPSAOTROSE.S.JAIME I', 'CEPSA')\n",
      "C:\\Users\\abarr\\AppData\\Local\\Temp\\ipykernel_12180\\4048511181.py:128: FutureWarning: The default value of regex will change from True to False in a future version.\n",
      "  df_n['Proveedor de Servicio'] = df_n['Proveedor de Servicio'].str.replace('CEPSAOTROS ANTELA E.S.', 'CEPSA')\n",
      "C:\\Users\\abarr\\AppData\\Local\\Temp\\ipykernel_12180\\4048511181.py:130: FutureWarning: The default value of regex will change from True to False in a future version.\n",
      "  df_n['Proveedor de Servicio'] = df_n['Proveedor de Servicio'].str.replace('CEPSAOPER CANARIOS S,L.', 'CEPSA')\n",
      "C:\\Users\\abarr\\AppData\\Local\\Temp\\ipykernel_12180\\4048511181.py:131: FutureWarning: The default value of regex will change from True to False in a future version.\n",
      "  df_n['Proveedor de Servicio'] = df_n['Proveedor de Servicio'].str.replace('CEPSATAXISTAS S.AGUSTIN', 'CEPSA')\n",
      "C:\\Users\\abarr\\AppData\\Local\\Temp\\ipykernel_12180\\4048511181.py:132: FutureWarning: The default value of regex will change from True to False in a future version.\n",
      "  df_n['Proveedor de Servicio'] = df_n['Proveedor de Servicio'].str.replace('CEPSAOTROSARROCEROS B.G.', 'CEPSA')\n",
      "C:\\Users\\abarr\\AppData\\Local\\Temp\\ipykernel_12180\\4048511181.py:135: FutureWarning: The default value of regex will change from True to False in a future version.\n",
      "  df_n['Proveedor de Servicio'] = df_n['Proveedor de Servicio'].str.replace('CEPSALAS TORRES (TEXACO)', 'CEPSA')\n",
      "C:\\Users\\abarr\\AppData\\Local\\Temp\\ipykernel_12180\\4048511181.py:136: FutureWarning: The default value of regex will change from True to False in a future version.\n",
      "  df_n['Proveedor de Servicio'] = df_n['Proveedor de Servicio'].str.replace('CEPSAOPER CANARIOS S,L.', 'CEPSA')\n",
      "C:\\Users\\abarr\\AppData\\Local\\Temp\\ipykernel_12180\\4048511181.py:137: FutureWarning: The default value of regex will change from True to False in a future version.\n",
      "  df_n['Proveedor de Servicio'] = df_n['Proveedor de Servicio'].str.replace('CEPSAOTROSLA DEHESA S.C.A.', 'CEPSA')\n",
      "C:\\Users\\abarr\\AppData\\Local\\Temp\\ipykernel_12180\\4048511181.py:138: FutureWarning: The default value of regex will change from True to False in a future version.\n",
      "  df_n['Proveedor de Servicio'] = df_n['Proveedor de Servicio'].str.replace('CEPSALOS PORTALES (TEXACO)', 'CEPSA')\n"
     ]
    },
    {
     "name": "stderr",
     "output_type": "stream",
     "text": [
      "C:\\Users\\abarr\\AppData\\Local\\Temp\\ipykernel_12180\\4048511181.py:140: FutureWarning: The default value of regex will change from True to False in a future version.\n",
      "  df_n['Proveedor de Servicio'] = df_n['Proveedor de Servicio'].str.replace('CEPSAOTROSCOOP. SAN DIONISIO', 'CEPSA')\n",
      "C:\\Users\\abarr\\AppData\\Local\\Temp\\ipykernel_12180\\4048511181.py:143: FutureWarning: The default value of regex will change from True to False in a future version.\n",
      "  df_n['Proveedor de Servicio'] = df_n['Proveedor de Servicio'].str.replace('E.S. CEPSACHIO', 'CEPSA')\n",
      "C:\\Users\\abarr\\AppData\\Local\\Temp\\ipykernel_12180\\4048511181.py:147: FutureWarning: The default value of regex will change from True to False in a future version.\n",
      "  df_n['Proveedor de Servicio'] = df_n['Proveedor de Servicio'].str.replace('E.S. CEPSALA CALETA', 'CEPSA')\n",
      "C:\\Users\\abarr\\AppData\\Local\\Temp\\ipykernel_12180\\4048511181.py:148: FutureWarning: The default value of regex will change from True to False in a future version.\n",
      "  df_n['Proveedor de Servicio'] = df_n['Proveedor de Servicio'].str.replace('CEPSALAS TORRES (TEXACO)', 'CEPSA')\n",
      "C:\\Users\\abarr\\AppData\\Local\\Temp\\ipykernel_12180\\4048511181.py:150: FutureWarning: The default value of regex will change from True to False in a future version.\n",
      "  df_n['Proveedor de Servicio'] = df_n['Proveedor de Servicio'].str.replace('CEPSAOPER CANARIOS S,L.', 'CEPSA')\n",
      "C:\\Users\\abarr\\AppData\\Local\\Temp\\ipykernel_12180\\4048511181.py:151: FutureWarning: The default value of regex will change from True to False in a future version.\n",
      "  df_n['Proveedor de Servicio'] = df_n['Proveedor de Servicio'].str.replace('CEPSALOS PORTALES (TEXACO)', 'CEPSA')\n",
      "C:\\Users\\abarr\\AppData\\Local\\Temp\\ipykernel_12180\\4048511181.py:154: FutureWarning: The default value of regex will change from True to False in a future version.\n",
      "  df_n['Proveedor de Servicio'] = df_n['Proveedor de Servicio'].str.replace('CEPSAOPER CANARIOS S,L.', 'CEPSA')\n",
      "C:\\Users\\abarr\\AppData\\Local\\Temp\\ipykernel_12180\\4048511181.py:156: FutureWarning: The default value of regex will change from True to False in a future version.\n",
      "  df_n['Proveedor de Servicio'] = df_n['Proveedor de Servicio'].str.replace('E.S.CEPSAPONTEBRANCA', 'CEPSA')\n",
      "C:\\Users\\abarr\\AppData\\Local\\Temp\\ipykernel_12180\\4048511181.py:161: FutureWarning: The default value of regex will change from True to False in a future version.\n",
      "  df_n['Proveedor de Servicio'] = df_n['Proveedor de Servicio'].str.replace('CEPSAOPER CANARIOS S,L.', 'CEPSA')\n",
      "C:\\Users\\abarr\\AppData\\Local\\Temp\\ipykernel_12180\\4048511181.py:162: FutureWarning: The default value of regex will change from True to False in a future version.\n",
      "  df_n['Proveedor de Servicio'] = df_n['Proveedor de Servicio'].str.replace('CEPSA\\w*', 'CEPSA')\n",
      "C:\\Users\\abarr\\AppData\\Local\\Temp\\ipykernel_12180\\4048511181.py:163: FutureWarning: The default value of regex will change from True to False in a future version.\n",
      "  df_n['Proveedor de Servicio'] = df_n['Proveedor de Servicio'].str.replace('CEPSA \\S*', 'CEPSA')\n",
      "C:\\Users\\abarr\\AppData\\Local\\Temp\\ipykernel_12180\\4048511181.py:164: FutureWarning: The default value of regex will change from True to False in a future version.\n",
      "  df_n['Proveedor de Servicio'] = df_n['Proveedor de Servicio'].str.replace('CEPSA \\S[a-zA-Z0-9_]*', 'CEPSA')\n",
      "C:\\Users\\abarr\\AppData\\Local\\Temp\\ipykernel_12180\\4048511181.py:165: FutureWarning: The default value of regex will change from True to False in a future version.\n",
      "  df_n['Proveedor de Servicio'] = df_n['Proveedor de Servicio'].str.replace('CEPSA \\S[a-zA-Z0-9_]*\\S[a-zA-Z0-9_]*', 'CEPSA')\n",
      "C:\\Users\\abarr\\AppData\\Local\\Temp\\ipykernel_12180\\4048511181.py:166: FutureWarning: The default value of regex will change from True to False in a future version.\n",
      "  df_n['Proveedor de Servicio'] = df_n['Proveedor de Servicio'].str.replace('CEPSA \\S[a-zA-Z0-9_]*\\S[a-zA-Z0-9_]*\\S[a-zA-Z0-9_]*', 'CEPSA')\n",
      "C:\\Users\\abarr\\AppData\\Local\\Temp\\ipykernel_12180\\4048511181.py:167: FutureWarning: The default value of regex will change from True to False in a future version.\n",
      "  df_n['Proveedor de Servicio'] = df_n['Proveedor de Servicio'].str.replace('CEPSA\\S*', 'CEPSA')\n",
      "C:\\Users\\abarr\\AppData\\Local\\Temp\\ipykernel_12180\\4048511181.py:172: FutureWarning: The default value of regex will change from True to False in a future version.\n",
      "  df_n['Proveedor de Servicio'] = df_n['Proveedor de Servicio'].str.replace('BP \\w[a-zA-Z0-9_]', 'BP')\n",
      "C:\\Users\\abarr\\AppData\\Local\\Temp\\ipykernel_12180\\4048511181.py:173: FutureWarning: The default value of regex will change from True to False in a future version.\n",
      "  df_n['Proveedor de Servicio'] = df_n['Proveedor de Servicio'].str.replace('BP\\w[a-zA-Z0-9_]', 'BP')\n",
      "C:\\Users\\abarr\\AppData\\Local\\Temp\\ipykernel_12180\\4048511181.py:176: FutureWarning: The default value of regex will change from True to False in a future version.\n",
      "  df_n['Proveedor de Servicio'] = df_n['Proveedor de Servicio'].str.replace('BP\\S*UXO', 'BP')\n",
      "C:\\Users\\abarr\\AppData\\Local\\Temp\\ipykernel_12180\\4048511181.py:177: FutureWarning: The default value of regex will change from True to False in a future version.\n",
      "  df_n['Proveedor de Servicio'] = df_n['Proveedor de Servicio'].str.replace('BP\\w*', 'BP')\n",
      "C:\\Users\\abarr\\AppData\\Local\\Temp\\ipykernel_12180\\4048511181.py:178: FutureWarning: The default value of regex will change from True to False in a future version.\n",
      "  df_n['Proveedor de Servicio'] = df_n['Proveedor de Servicio'].str.replace('BP \\S*w*', 'BP')\n",
      "C:\\Users\\abarr\\AppData\\Local\\Temp\\ipykernel_12180\\4048511181.py:179: FutureWarning: The default value of regex will change from True to False in a future version.\n",
      "  df_n['Proveedor de Servicio'] = df_n['Proveedor de Servicio'].str.replace('BP\\S*', 'BP')\n",
      "C:\\Users\\abarr\\AppData\\Local\\Temp\\ipykernel_12180\\4048511181.py:180: FutureWarning: The default value of regex will change from True to False in a future version.\n",
      "  df_n['Proveedor de Servicio'] = df_n['Proveedor de Servicio'].str.replace('E S GOMEZ \\S*BP', 'BP')\n",
      "C:\\Users\\abarr\\AppData\\Local\\Temp\\ipykernel_12180\\4048511181.py:181: FutureWarning: The default value of regex will change from True to False in a future version.\n",
      "  df_n['Proveedor de Servicio'] = df_n['Proveedor de Servicio'].str.replace('E S ALCARAYON \\S*BP', 'BP')\n",
      "C:\\Users\\abarr\\AppData\\Local\\Temp\\ipykernel_12180\\4048511181.py:185: FutureWarning: The default value of regex will change from True to False in a future version.\n",
      "  df_n['Proveedor de Servicio'] = df_n['Proveedor de Servicio'].str.replace('SHELL \\S*', 'SHELL')\n",
      "C:\\Users\\abarr\\AppData\\Local\\Temp\\ipykernel_12180\\4048511181.py:186: FutureWarning: The default value of regex will change from True to False in a future version.\n",
      "  df_n['Proveedor de Servicio'] = df_n['Proveedor de Servicio'].str.replace('SHELL \\S[a-zA-Z0-9_]*', 'SHELL')\n",
      "C:\\Users\\abarr\\AppData\\Local\\Temp\\ipykernel_12180\\4048511181.py:189: FutureWarning: The default value of regex will change from True to False in a future version.\n",
      "  df_n['Proveedor de Servicio'] = df_n['Proveedor de Servicio'].str.replace('E.S SHELL','SHELL')\n",
      "C:\\Users\\abarr\\AppData\\Local\\Temp\\ipykernel_12180\\4048511181.py:190: FutureWarning: The default value of regex will change from True to False in a future version.\n",
      "  df_n['Proveedor de Servicio'] = df_n['Proveedor de Servicio'].str.replace('E.S SHELL ','SHELL')\n",
      "C:\\Users\\abarr\\AppData\\Local\\Temp\\ipykernel_12180\\4048511181.py:191: FutureWarning: The default value of regex will change from True to False in a future version.\n",
      "  df_n['Proveedor de Servicio'] = df_n['Proveedor de Servicio'].str.replace( 'E.S. SHELL','SHELL')\n",
      "C:\\Users\\abarr\\AppData\\Local\\Temp\\ipykernel_12180\\4048511181.py:192: FutureWarning: The default value of regex will change from True to False in a future version.\n",
      "  df_n['Proveedor de Servicio'] = df_n['Proveedor de Servicio'].str.replace('E.S.SHELL','SHELL')\n",
      "C:\\Users\\abarr\\AppData\\Local\\Temp\\ipykernel_12180\\4048511181.py:194: FutureWarning: The default value of regex will change from True to False in a future version.\n",
      "  df_n['Proveedor de Servicio'] = df_n['Proveedor de Servicio'].str.replace('SHELL.S. BELLVIS' , 'SHELL')\n",
      "C:\\Users\\abarr\\AppData\\Local\\Temp\\ipykernel_12180\\4048511181.py:198: FutureWarning: The default value of regex will change from True to False in a future version.\n",
      "  df_n['Proveedor de Servicio'] = df_n['Proveedor de Servicio'].str.replace('ALCAMPO \\S*', 'ALCAMPO')\n",
      "C:\\Users\\abarr\\AppData\\Local\\Temp\\ipykernel_12180\\4048511181.py:199: FutureWarning: The default value of regex will change from True to False in a future version.\n",
      "  df_n['Proveedor de Servicio'] = df_n['Proveedor de Servicio'].str.replace('ALCAMPO \\S[a-zA-Z0-9_]*', 'ALCAMPO')\n",
      "C:\\Users\\abarr\\AppData\\Local\\Temp\\ipykernel_12180\\4048511181.py:207: FutureWarning: The default value of regex will change from True to False in a future version.\n",
      "  df_n['Proveedor de Servicio'] = df_n['Proveedor de Servicio'].str.replace('REPSOL \\S* \\S/()', 'REPSOL')\n"
     ]
    },
    {
     "name": "stderr",
     "output_type": "stream",
     "text": [
      "C:\\Users\\abarr\\AppData\\Local\\Temp\\ipykernel_12180\\4048511181.py:208: FutureWarning: The default value of regex will change from True to False in a future version.\n",
      "  df_n['Proveedor de Servicio'] = df_n['Proveedor de Servicio'].str.replace('REPSOL \\S*a-zA-Z0-9_*', 'REPSOL')\n",
      "C:\\Users\\abarr\\AppData\\Local\\Temp\\ipykernel_12180\\4048511181.py:209: FutureWarning: The default value of regex will change from True to False in a future version.\n",
      "  df_n['Proveedor de Servicio'] = df_n['Proveedor de Servicio'].str.replace('REPSOL \\S[a-zA-Z0-9_]*\\S[a-zA-Z0-9_]*', 'REPSOL')\n",
      "C:\\Users\\abarr\\AppData\\Local\\Temp\\ipykernel_12180\\4048511181.py:222: FutureWarning: The default value of regex will change from True to False in a future version.\n",
      "  df_n['Proveedor de Servicio'] = df_n['Proveedor de Servicio'].str.replace('EDAN (REPSOL)', 'REPSOL')\n",
      "C:\\Users\\abarr\\AppData\\Local\\Temp\\ipykernel_12180\\4048511181.py:223: FutureWarning: The default value of regex will change from True to False in a future version.\n",
      "  df_n['Proveedor de Servicio'] = df_n['Proveedor de Servicio'].str.replace('BALSILLAS I (REPSOL)', 'REPSOL')\n",
      "C:\\Users\\abarr\\AppData\\Local\\Temp\\ipykernel_12180\\4048511181.py:224: FutureWarning: The default value of regex will change from True to False in a future version.\n",
      "  df_n['Proveedor de Servicio'] = df_n['Proveedor de Servicio'].str.replace('HIJOS DE NAVARRO ROBLES (REPSOL)', 'REPSOL')\n",
      "C:\\Users\\abarr\\AppData\\Local\\Temp\\ipykernel_12180\\4048511181.py:229: FutureWarning: The default value of regex will change from True to False in a future version.\n",
      "  df_n['Proveedor de Servicio'] = df_n['Proveedor de Servicio'].str.replace('REPSOL5\\S*/OCTUBRE\\S*/2OTROSOTROS7', 'REPSOL')\n",
      "C:\\Users\\abarr\\AppData\\Local\\Temp\\ipykernel_12180\\4048511181.py:230: FutureWarning: The default value of regex will change from True to False in a future version.\n",
      "  df_n['Proveedor de Servicio'] = df_n['Proveedor de Servicio'].str.replace('EDAN \\S*(REPSOL)', 'REPSOL')\n",
      "C:\\Users\\abarr\\AppData\\Local\\Temp\\ipykernel_12180\\4048511181.py:231: FutureWarning: The default value of regex will change from True to False in a future version.\n",
      "  df_n['Proveedor de Servicio'] = df_n['Proveedor de Servicio'].str.replace('HIJOS DE NAVARRO ROBLES (REPSOL)', 'REPSOL')\n",
      "C:\\Users\\abarr\\AppData\\Local\\Temp\\ipykernel_12180\\4048511181.py:234: FutureWarning: The default value of regex will change from True to False in a future version.\n",
      "  df_n['Proveedor de Servicio'] = df_n['Proveedor de Servicio'].str.replace('EDAN (REPSOL)', 'REPSOL')\n",
      "C:\\Users\\abarr\\AppData\\Local\\Temp\\ipykernel_12180\\4048511181.py:235: FutureWarning: The default value of regex will change from True to False in a future version.\n",
      "  df_n['Proveedor de Servicio'] = df_n['Proveedor de Servicio'].str.replace('BALSILLAS \\S*I \\S*(REPSOL)', 'REPSOL')\n",
      "C:\\Users\\abarr\\AppData\\Local\\Temp\\ipykernel_12180\\4048511181.py:236: FutureWarning: The default value of regex will change from True to False in a future version.\n",
      "  df_n['Proveedor de Servicio'] = df_n['Proveedor de Servicio'].str.replace('HIJOS DE NAVARRO ROBLES \\S*(REPSOL)', 'REPSOL')\n",
      "C:\\Users\\abarr\\AppData\\Local\\Temp\\ipykernel_12180\\4048511181.py:237: FutureWarning: The default value of regex will change from True to False in a future version.\n",
      "  df_n['Proveedor de Servicio'] = df_n['Proveedor de Servicio'].str.replace('REPSOL\\w*', 'REPSOL')\n",
      "C:\\Users\\abarr\\AppData\\Local\\Temp\\ipykernel_12180\\4048511181.py:238: FutureWarning: The default value of regex will change from True to False in a future version.\n",
      "  df_n['Proveedor de Servicio'] = df_n['Proveedor de Servicio'].str.replace('REPSOL \\S*w*', 'REPSOL')\n",
      "C:\\Users\\abarr\\AppData\\Local\\Temp\\ipykernel_12180\\4048511181.py:239: FutureWarning: The default value of regex will change from True to False in a future version.\n",
      "  df_n['Proveedor de Servicio'] = df_n['Proveedor de Servicio'].str.replace('REPSOL\\S*', 'REPSOL')\n",
      "C:\\Users\\abarr\\AppData\\Local\\Temp\\ipykernel_12180\\4048511181.py:242: FutureWarning: The default value of regex will change from True to False in a future version.\n",
      "  df_n['Proveedor de Servicio'] = df_n['Proveedor de Servicio'].str.replace('DISA \\S*', 'DISA')\n",
      "C:\\Users\\abarr\\AppData\\Local\\Temp\\ipykernel_12180\\4048511181.py:243: FutureWarning: The default value of regex will change from True to False in a future version.\n",
      "  df_n['Proveedor de Servicio'] = df_n['Proveedor de Servicio'].str.replace('DISA \\S[a-zA-Z0-9_]*', 'DISA')\n",
      "C:\\Users\\abarr\\AppData\\Local\\Temp\\ipykernel_12180\\4048511181.py:244: FutureWarning: The default value of regex will change from True to False in a future version.\n",
      "  df_n['Proveedor de Servicio'] = df_n['Proveedor de Servicio'].str.replace('DISA \\S[a-zA-Z0-9_]*\\S[a-zA-Z0-9_]*', 'DISA')\n",
      "C:\\Users\\abarr\\AppData\\Local\\Temp\\ipykernel_12180\\4048511181.py:251: FutureWarning: The default value of regex will change from True to False in a future version.\n",
      "  df_n['Proveedor de Servicio'] = df_n['Proveedor de Servicio'].str.replace('EXOIL \\S*', 'EXOIL')\n",
      "C:\\Users\\abarr\\AppData\\Local\\Temp\\ipykernel_12180\\4048511181.py:252: FutureWarning: The default value of regex will change from True to False in a future version.\n",
      "  df_n['Proveedor de Servicio'] = df_n['Proveedor de Servicio'].str.replace('EXOIL \\S[a-zA-Z0-9_]*', 'EXOIL')\n",
      "C:\\Users\\abarr\\AppData\\Local\\Temp\\ipykernel_12180\\4048511181.py:253: FutureWarning: The default value of regex will change from True to False in a future version.\n",
      "  df_n['Proveedor de Servicio'] = df_n['Proveedor de Servicio'].str.replace('EXOIL \\S[a-zA-Z0-9_]*\\S[a-zA-Z0-9_]*', 'EXOIL')\n",
      "C:\\Users\\abarr\\AppData\\Local\\Temp\\ipykernel_12180\\4048511181.py:256: FutureWarning: The default value of regex will change from True to False in a future version.\n",
      "  df_n['Proveedor de Servicio'] = df_n['Proveedor de Servicio'].str.replace('ENERGY \\S*', 'ENERGY')\n",
      "C:\\Users\\abarr\\AppData\\Local\\Temp\\ipykernel_12180\\4048511181.py:257: FutureWarning: The default value of regex will change from True to False in a future version.\n",
      "  df_n['Proveedor de Servicio'] = df_n['Proveedor de Servicio'].str.replace('ENERGY \\S[a-zA-Z0-9_]*', 'ENERGY')\n",
      "C:\\Users\\abarr\\AppData\\Local\\Temp\\ipykernel_12180\\4048511181.py:258: FutureWarning: The default value of regex will change from True to False in a future version.\n",
      "  df_n['Proveedor de Servicio'] = df_n['Proveedor de Servicio'].str.replace('ENERGY \\S[a-zA-Z0-9_]*\\S[a-zA-Z0-9_]*', 'ENERGY')\n",
      "C:\\Users\\abarr\\AppData\\Local\\Temp\\ipykernel_12180\\4048511181.py:262: FutureWarning: The default value of regex will change from True to False in a future version.\n",
      "  df_n['Proveedor de Servicio'] = df_n['Proveedor de Servicio'].str.replace('NATURGY \\S*', 'NATURGY')\n",
      "C:\\Users\\abarr\\AppData\\Local\\Temp\\ipykernel_12180\\4048511181.py:263: FutureWarning: The default value of regex will change from True to False in a future version.\n",
      "  df_n['Proveedor de Servicio'] = df_n['Proveedor de Servicio'].str.replace('NATURGY \\S[a-zA-Z0-9_]*', 'NATURGY')\n",
      "C:\\Users\\abarr\\AppData\\Local\\Temp\\ipykernel_12180\\4048511181.py:264: FutureWarning: The default value of regex will change from True to False in a future version.\n",
      "  df_n['Proveedor de Servicio'] = df_n['Proveedor de Servicio'].str.replace('NATURGY \\S[a-zA-Z0-9_]*\\S[a-zA-Z0-9_]*', 'NATURGY')\n",
      "C:\\Users\\abarr\\AppData\\Local\\Temp\\ipykernel_12180\\4048511181.py:265: FutureWarning: The default value of regex will change from True to False in a future version.\n",
      "  df_n['Proveedor de Servicio'] = df_n['Proveedor de Servicio'].str.replace('ESNATURGY \\S[a-zA-Z0-9_]*\\S[a-zA-Z0-9_]*', 'NATURGY')\n",
      "C:\\Users\\abarr\\AppData\\Local\\Temp\\ipykernel_12180\\4048511181.py:266: FutureWarning: The default value of regex will change from True to False in a future version.\n",
      "  df_n['Proveedor de Servicio'] = df_n['Proveedor de Servicio'].str.replace('NATURGYES \\S[a-zA-Z0-9_]*\\S[a-zA-Z0-9_]*', 'NATURGY')\n",
      "C:\\Users\\abarr\\AppData\\Local\\Temp\\ipykernel_12180\\4048511181.py:267: FutureWarning: The default value of regex will change from True to False in a future version.\n",
      "  df_n['Proveedor de Servicio'] = df_n['Proveedor de Servicio'].str.replace('NATURGY\\w*', 'NATURGY')\n",
      "C:\\Users\\abarr\\AppData\\Local\\Temp\\ipykernel_12180\\4048511181.py:268: FutureWarning: The default value of regex will change from True to False in a future version.\n",
      "  df_n['Proveedor de Servicio'] = df_n['Proveedor de Servicio'].str.replace('NATURGY \\S*w*', 'NATURGY')\n",
      "C:\\Users\\abarr\\AppData\\Local\\Temp\\ipykernel_12180\\4048511181.py:269: FutureWarning: The default value of regex will change from True to False in a future version.\n",
      "  df_n['Proveedor de Servicio'] = df_n['Proveedor de Servicio'].str.replace('NATURGYES \\S[a-zA-Z0-9_]*\\S[a-zA-Z0-9_]*\\S[a-zA-Z0-9_]*', 'NATURGY')\n",
      "C:\\Users\\abarr\\AppData\\Local\\Temp\\ipykernel_12180\\4048511181.py:272: FutureWarning: The default value of regex will change from True to False in a future version.\n",
      "  df_n['Proveedor de Servicio'] = df_n['Proveedor de Servicio'].str.replace('GALP \\S*', 'GALP')\n",
      "C:\\Users\\abarr\\AppData\\Local\\Temp\\ipykernel_12180\\4048511181.py:273: FutureWarning: The default value of regex will change from True to False in a future version.\n",
      "  df_n['Proveedor de Servicio'] = df_n['Proveedor de Servicio'].str.replace('GALP \\S[a-zA-Z0-9_]*', 'GALP')\n"
     ]
    },
    {
     "name": "stderr",
     "output_type": "stream",
     "text": [
      "C:\\Users\\abarr\\AppData\\Local\\Temp\\ipykernel_12180\\4048511181.py:274: FutureWarning: The default value of regex will change from True to False in a future version.\n",
      "  df_n['Proveedor de Servicio'] = df_n['Proveedor de Servicio'].str.replace('GALP \\S[a-zA-Z0-9_]*\\S[a-zA-Z0-9_]*', 'GALP')\n",
      "C:\\Users\\abarr\\AppData\\Local\\Temp\\ipykernel_12180\\4048511181.py:275: FutureWarning: The default value of regex will change from True to False in a future version.\n",
      "  df_n['Proveedor de Servicio'] = df_n['Proveedor de Servicio'].str.replace('GALP \\S[a-zA-Z0-9_]*\\S[a-zA-Z0-9_]*', 'GALP')\n",
      "C:\\Users\\abarr\\AppData\\Local\\Temp\\ipykernel_12180\\4048511181.py:276: FutureWarning: The default value of regex will change from True to False in a future version.\n",
      "  df_n['Proveedor de Servicio'] = df_n['Proveedor de Servicio'].str.replace('GALP \\S[a-zA-Z0-9_]*\\S[a-zA-Z0-9_]*', 'GALP')\n",
      "C:\\Users\\abarr\\AppData\\Local\\Temp\\ipykernel_12180\\4048511181.py:277: FutureWarning: The default value of regex will change from True to False in a future version.\n",
      "  df_n['Proveedor de Servicio'] = df_n['Proveedor de Servicio'].str.replace('GALP\\w*', 'GALP')\n",
      "C:\\Users\\abarr\\AppData\\Local\\Temp\\ipykernel_12180\\4048511181.py:278: FutureWarning: The default value of regex will change from True to False in a future version.\n",
      "  df_n['Proveedor de Servicio'] = df_n['Proveedor de Servicio'].str.replace('GALP \\S*w*', 'GALP')\n",
      "C:\\Users\\abarr\\AppData\\Local\\Temp\\ipykernel_12180\\4048511181.py:279: FutureWarning: The default value of regex will change from True to False in a future version.\n",
      "  df_n['Proveedor de Servicio'] = df_n['Proveedor de Servicio'].str.replace('GALP \\S[a-zA-Z0-9_]*\\S[a-zA-Z0-9_]*\\S[a-zA-Z0-9_]*', 'GALP')\n",
      "C:\\Users\\abarr\\AppData\\Local\\Temp\\ipykernel_12180\\4048511181.py:282: FutureWarning: The default value of regex will change from True to False in a future version.\n",
      "  df_n['Proveedor de Servicio'] = df_n['Proveedor de Servicio'].str.replace('\\S* S\\*ES \\S*CABURANTES', 'ES CARBURANTES')\n",
      "C:\\Users\\abarr\\AppData\\Local\\Temp\\ipykernel_12180\\4048511181.py:286: FutureWarning: The default value of regex will change from True to False in a future version.\n",
      "  df_n['Proveedor de Servicio'] = df_n['Proveedor de Servicio'].str.replace('\\S*[+]B ENERGIAS ', '+B ENERGIAS')\n"
     ]
    },
    {
     "data": {
      "text/plain": [
       "2915        PETROL STATION\n",
       "5075                  AGLA\n",
       "10805              AGRICAR\n",
       "10348                   BP\n",
       "9336                    BP\n",
       "               ...        \n",
       "2230          ZONA DIESEL \n",
       "4924             ZONA ZERO\n",
       "7295                     _\n",
       "11484       |> ENERTRIX <|\n",
       "544             ÁRTICO OIL\n",
       "Name: Proveedor de Servicio, Length: 11838, dtype: string"
      ]
     },
     "execution_count": 294,
     "metadata": {},
     "output_type": "execute_result"
    }
   ],
   "source": [
    "# Gasolineras BP\n",
    "df_n['Proveedor de Servicio'] = df_n['Proveedor de Servicio'].str.replace('.', ' ')\n",
    "df_n['Proveedor de Servicio'] = df_n['Proveedor de Servicio'].str.replace(',', ' ')\n",
    "df_n['Proveedor de Servicio'] = df_n['Proveedor de Servicio'].str.replace('BP \\S*', 'BP')\n",
    "df_n['Proveedor de Servicio'] = df_n['Proveedor de Servicio'].str.replace('BP \\S[a-zA-Z0-9_]*', 'BP')\n",
    "df_n['Proveedor de Servicio'] = df_n['Proveedor de Servicio'].str.replace('BPS \\S*', 'BP')\n",
    "df_n['Proveedor de Servicio'] = df_n['Proveedor de Servicio'].str.replace('BPS \\S[a-zA-Z0-9_]*', 'BP')\n",
    "df_n['Proveedor de Servicio'] = df_n['Proveedor de Servicio'].str.replace('BP\\w*', 'BP')\n",
    "df_n['Proveedor de Servicio'] = df_n['Proveedor de Servicio'].str.replace('BP  ALOD', 'BP') \n",
    "df_n['Proveedor de Servicio'] = df_n['Proveedor de Servicio'].str.replace('BP AVENIDA 3 DE MAYO', 'BP')\n",
    "df_n['Proveedor de Servicio'] = df_n['Proveedor de Servicio'].str.replace('BP BENICADELL', 'BP')\n",
    "df_n['Proveedor de Servicio'] = df_n['Proveedor de Servicio'].str.replace('BP CA SESTRELLA', 'BP')\n",
    "df_n['Proveedor de Servicio'] = df_n['Proveedor de Servicio'].str.replace('BP RAMBLA INIESTA', 'BP')\n",
    "df_n['Proveedor de Servicio'] = df_n['Proveedor de Servicio'].str.replace('BP SAN LUIS', 'BP')\n",
    "df_n['Proveedor de Servicio'] = df_n['Proveedor de Servicio'].str.replace('BP SANTIGA', 'BP')\n",
    "df_n['Proveedor de Servicio'] = df_n['Proveedor de Servicio'].str.replace('BP TACO','BP')\n",
    "df_n['Proveedor de Servicio'] = df_n['Proveedor de Servicio'].str.replace('BP VENTA DEL PERAL II', 'BP')\n",
    "df_n['Proveedor de Servicio'] = df_n['Proveedor de Servicio'].str.replace('BP ROMICA', 'BP')\n",
    "df_n['Proveedor de Servicio'] = df_n['Proveedor de Servicio'].str.replace('REPSOL UBEDA', 'REPSOL')\n",
    "df_n['Proveedor de Servicio'] = df_n['Proveedor de Servicio'].str.replace('SUTULLENA-CEPSA', 'CEPSA')\n",
    "df_n['Proveedor de Servicio'] = df_n['Proveedor de Servicio'].str.replace('\"BP\"', 'BP')\n",
    "df_n['Proveedor de Servicio'] = df_n['Proveedor de Servicio'].str.replace('BP ROTONDA LAS VAGUADAS S.L.', 'BP')\n",
    "df_n['Proveedor de Servicio'] = df_n['Proveedor de Servicio'].str.replace('BPBEGUR', 'BP')\n",
    "df_n['Proveedor de Servicio'] = df_n['Proveedor de Servicio'].str.replace('BPPROPERLY, S.A.', 'BP')\n",
    "\n",
    "# Otros\n",
    "df_n['Proveedor de Servicio'] = df_n['Proveedor de Servicio'].str.replace('SIN RÓTULO', 'OTROS')\n",
    "df_n['Proveedor de Servicio'] = df_n['Proveedor de Servicio'].str.replace('(sin rótulo)', 'OTROS')\n",
    "df_n['Proveedor de Servicio'] = df_n['Proveedor de Servicio'].str.replace('*', 'OTROS')\n",
    "df_n['Proveedor de Servicio'] = df_n['Proveedor de Servicio'].str.replace('-', 'OTROS')\n",
    "df_n['Proveedor de Servicio'] = df_n['Proveedor de Servicio'].str.replace('-', 'OTROS')\n",
    "df_n['Proveedor de Servicio'] = df_n['Proveedor de Servicio'].str.replace('0', 'OTROS')\n",
    "df_n['Proveedor de Servicio'] = df_n['Proveedor de Servicio'].str.replace('06/32718', 'OTROS')\n",
    "df_n['Proveedor de Servicio'] = df_n['Proveedor de Servicio'].str.replace('12126', 'OTROS')\n",
    "df_n['Proveedor de Servicio'] = df_n['Proveedor de Servicio'].str.replace('12241', 'OTROS')\n",
    "df_n['Proveedor de Servicio'] = df_n['Proveedor de Servicio'].str.replace('13344', 'OTROS')\n",
    "df_n['Proveedor de Servicio'] = df_n['Proveedor de Servicio'].str.replace('15909', 'OTROS')\n",
    "df_n['Proveedor de Servicio'] = df_n['Proveedor de Servicio'].str.replace('1PRIMER', 'OTROS')\n",
    "df_n['Proveedor de Servicio'] = df_n['Proveedor de Servicio'].str.replace('23ESO68F', 'OTROS')\n",
    "df_n['Proveedor de Servicio'] = df_n['Proveedor de Servicio'].str.replace('395 2/2HS 40-80', 'OTROS')\n",
    "df_n['Proveedor de Servicio'] = df_n['Proveedor de Servicio'].str.replace('41037733', 'OTROS')\n",
    "df_n['Proveedor de Servicio'] = df_n['Proveedor de Servicio'].str.replace('45110020416', 'OTROS')\n",
    "df_n['Proveedor de Servicio'] = df_n['Proveedor de Servicio'].str.replace('4572', 'OTROS')\n",
    "df_n['Proveedor de Servicio'] = df_n['Proveedor de Servicio'].str.replace('7267', 'OTROS')\n",
    "df_n['Proveedor de Servicio'] = df_n['Proveedor de Servicio'].str.replace('7345', 'OTROS')\n",
    "df_n['Proveedor de Servicio'] = df_n['Proveedor de Servicio'].str.replace('96053', 'OTROS')\n",
    "df_n['Proveedor de Servicio'] = df_n['Proveedor de Servicio'].str.replace('OTROS \\S*', 'OTROS')\n",
    "df_n['Proveedor de Servicio'] = df_n['Proveedor de Servicio'].str.replace('OTROS \\S[a-zA-Z0-9_]*', 'OTROS')\n",
    "df_n['Proveedor de Servicio'] = df_n['Proveedor de Servicio'].str.replace('OTROS \\S[a-zA-Z0-9_]*\\S[a-zA-Z0-9_]*', 'OTROS')\n",
    "df_n['Proveedor de Servicio'] = df_n['Proveedor de Servicio'].str.replace('OTROSOTROSOTROSOTROSOTROSOTROS', 'OTROS')\n",
    "df_n['Proveedor de Servicio'] = df_n['Proveedor de Servicio'].str.replace('OTROS\\w*', 'OTROS')\n",
    "df_n['Proveedor de Servicio'] = df_n['Proveedor de Servicio'].str.replace('OTROS \\S*', 'OTROS')\n",
    "df_n['Proveedor de Servicio'] = df_n['Proveedor de Servicio'].str.replace('\\S* OTROS ', 'OTROS')\n",
    "df_n['Proveedor de Servicio'] = df_n['Proveedor de Servicio'].str.replace('\\S*(OTROS)\\S*', 'OTROS')\n",
    "\n",
    "# Gasolineras Varias                                                                          \n",
    "df_n['Proveedor de Servicio'] = df_n['Proveedor de Servicio'].str.replace('INLOCOR S.L. \"CEPSA\"', 'CEPSA')\n",
    "df_n['Proveedor de Servicio'] = df_n['Proveedor de Servicio'].str.replace('REPSOL. LOS ANGELES DE LA MANCHA, S.L.', 'REPSOL')\n",
    "df_n['Proveedor de Servicio'] = df_n['Proveedor de Servicio'].str.replace('BP OIL', 'BP')\n",
    "df_n['Proveedor de Servicio'] = df_n['Proveedor de Servicio'].str.replace('BP PARGA I PETROL BAS BEL', 'BP')\n",
    "df_n['Proveedor de Servicio'] = df_n['Proveedor de Servicio'].str.replace('Nº 7374', 'OTROS')\n",
    "df_n['Proveedor de Servicio'] = df_n['Proveedor de Servicio'].str.replace('NO', 'OTROS')\n",
    "df_n['Proveedor de Servicio'] = df_n['Proveedor de Servicio'].str.replace('BP CASA JUANITO RESTAURANTE', 'BP')\n",
    "df_n['Proveedor de Servicio'] = df_n['Proveedor de Servicio'].str.replace('NO HAY', 'OTROS')\n",
    "df_n['Proveedor de Servicio'] = df_n['Proveedor de Servicio'].str.replace('NO TIENE', 'OTROS')\n",
    "df_n['Proveedor de Servicio'] = df_n['Proveedor de Servicio'].str.replace('BP VILLARROBLEDO', 'BP')\n",
    "df_n['Proveedor de Servicio'] = df_n['Proveedor de Servicio'].str.replace('BP ALFAZ DEL PI', 'BP')\n",
    "df_n['Proveedor de Servicio'] = df_n['Proveedor de Servicio'].str.replace('BP SANDOVAL MD', 'BP')                                                                        \n",
    "df_n['Proveedor de Servicio'] = df_n['Proveedor de Servicio'].str.replace('BP SANDOVAL MI', 'BP')\n",
    "df_n['Proveedor de Servicio'] = df_n['Proveedor de Servicio'].str.replace('BP BENIDORM', 'BP')\n",
    "df_n['Proveedor de Servicio'] = df_n['Proveedor de Servicio'].str.replace('BP EUROBENIDORM', 'BP')\n",
    "df_n['Proveedor de Servicio'] = df_n['Proveedor de Servicio'].str.replace('BP REJAS VERDES', 'BP')\n",
    "\n",
    "# Gasolineras Cepsa\n",
    "df_n['Proveedor de Servicio'] = df_n['Proveedor de Servicio'].str.replace('CEPSA ELF', 'CEPSA')\n",
    "df_n['Proveedor de Servicio'] = df_n['Proveedor de Servicio'].str.replace('CEPSA V21', 'CEPSA')\n",
    "df_n['Proveedor de Servicio'] = df_n['Proveedor de Servicio'].str.replace('CEPSA LEO', 'CEPSA')\n",
    "df_n['Proveedor de Servicio'] = df_n['Proveedor de Servicio'].str.replace('CEPSA TINAJO', 'CEPSA')\n",
    "df_n['Proveedor de Servicio'] = df_n['Proveedor de Servicio'].str.replace('CEPSA AGAETE', 'CEPSA')\n",
    "df_n['Proveedor de Servicio'] = df_n['Proveedor de Servicio'].str.replace('CEPSA CALONGE', 'CEPSA')\n",
    "df_n['Proveedor de Servicio'] = df_n['Proveedor de Servicio'].str.replace('BP REJAS VERDES', 'BP')\n",
    "df_n['Proveedor de Servicio'] = df_n['Proveedor de Servicio'].str.replace('CEPSA INGENIO', 'CEPSA')\n",
    "df_n['Proveedor de Servicio'] = df_n['Proveedor de Servicio'].str.replace('CEPSA ANTIGUA', 'CEPSA')\n",
    "df_n['Proveedor de Servicio'] = df_n['Proveedor de Servicio'].str.replace('CEPSA BALOS 1', 'CEPSA')\n",
    "df_n['Proveedor de Servicio'] = df_n['Proveedor de Servicio'].str.replace('CEPSA BALOS 2', 'CEPSA')\n",
    "df_n['Proveedor de Servicio'] = df_n['Proveedor de Servicio'].str.replace('CEPSAOTROSELF', 'CEPSA')\n",
    "df_n['Proveedor de Servicio'] = df_n['Proveedor de Servicio'].str.replace('CEPSA CANONCHE', 'CEPSA')\n",
    "df_n['Proveedor de Servicio'] = df_n['Proveedor de Servicio'].str.replace('CEPSA . LOHANA', 'CEPSA')\n",
    "df_n['Proveedor de Servicio'] = df_n['Proveedor de Servicio'].str.replace('CEPSA EL PEÑON', 'CEPSA')\n",
    "df_n['Proveedor de Servicio'] = df_n['Proveedor de Servicio'].str.replace('CEPSA VILANOVAE', 'CEPSA')\n",
    "df_n['Proveedor de Servicio'] = df_n['Proveedor de Servicio'].str.replace('CEPSA LA ALDEA', 'CEPSA')\n",
    "df_n['Proveedor de Servicio'] = df_n['Proveedor de Servicio'].str.replace('CEPSA LA CAÑADA', 'CEPSA')\n",
    "df_n['Proveedor de Servicio'] = df_n['Proveedor de Servicio'].str.replace('CEPSA TAHICHE I', 'CEPSA')\n",
    "df_n['Proveedor de Servicio'] = df_n['Proveedor de Servicio'].str.replace('CEPSA LA MARINA', 'CEPSA')\n",
    "df_n['Proveedor de Servicio'] = df_n['Proveedor de Servicio'].str.replace('CEPSA RELAMPAGO', 'CEPSA')\n",
    "df_n['Proveedor de Servicio'] = df_n['Proveedor de Servicio'].str.replace('CEPSA ALMERIMAR', 'CEPSA')\n",
    "df_n['Proveedor de Servicio'] = df_n['Proveedor de Servicio'].str.replace('CEPSAOTROSJUBERA', 'CEPSA')\n",
    "df_n['Proveedor de Servicio'] = df_n['Proveedor de Servicio'].str.replace('CEPSA EL CUBILLO', 'CEPSA')\n",
    "df_n['Proveedor de Servicio'] = df_n['Proveedor de Servicio'].str.replace('CEPSA TAHICHE II', 'CEPSA')\n",
    "df_n['Proveedor de Servicio'] = df_n['Proveedor de Servicio'].str.replace('CEPSA MASPALOMAS', 'CEPSA')\n",
    "df_n['Proveedor de Servicio'] = df_n['Proveedor de Servicio'].str.replace('CEPSA LA CAZUELA', 'CEPSA')\n",
    "df_n['Proveedor de Servicio'] = df_n['Proveedor de Servicio'].str.replace('CEPSA ETXEGARATE', 'CEPSA')\n",
    "df_n['Proveedor de Servicio'] = df_n['Proveedor de Servicio'].str.replace('CEPSA CAOTROSNCHE', 'CEPSA')\n",
    "df_n['Proveedor de Servicio'] = df_n['Proveedor de Servicio'].str.replace('CEPSA AGUA GARCIA', 'CEPSA')\n",
    "df_n['Proveedor de Servicio'] = df_n['Proveedor de Servicio'].str.replace('CEPSA LOS ANDENES', 'CEPSA')\n",
    "df_n['Proveedor de Servicio'] = df_n['Proveedor de Servicio'].str.replace('CEPSA LA AZADILLA', 'CEPSA')\n",
    "df_n['Proveedor de Servicio'] = df_n['Proveedor de Servicio'].str.replace('CEPSA ', 'CEPSA')\n",
    "df_n['Proveedor de Servicio'] = df_n['Proveedor de Servicio'].str.replace('CEPSAI', 'CEPSA')\n",
    "df_n['Proveedor de Servicio'] = df_n['Proveedor de Servicio'].str.replace('CEPSAGLTA.EL CID', 'CEPSA')\n",
    "df_n['Proveedor de Servicio'] = df_n['Proveedor de Servicio'].str.replace('CEPSAVILAOTROSVA', 'CEPSA')\n",
    "df_n['Proveedor de Servicio'] = df_n['Proveedor de Servicio'].str.replace('CEPSAESPAÑA S.A.', 'CEPSA')\n",
    "df_n['Proveedor de Servicio'] = df_n['Proveedor de Servicio'].str.replace('CEPSAGRAN TARAJAL', 'CEPSA')\n",
    "df_n['Proveedor de Servicio'] = df_n['Proveedor de Servicio'].str.replace('CEPSASIETE PALMAS', 'CEPSA')\n",
    "df_n['Proveedor de Servicio'] = df_n['Proveedor de Servicio'].str.replace('CEPSAHOYA PARRADO', 'CEPSA')\n",
    "df_n['Proveedor de Servicio'] = df_n['Proveedor de Servicio'].str.replace('CEPSAA4 PINTO 365', 'CEPSA')\n",
    "df_n['Proveedor de Servicio'] = df_n['Proveedor de Servicio'].str.replace('CEPSAOTROSALPICAT', 'CEPSA')\n",
    "df_n['Proveedor de Servicio'] = df_n['Proveedor de Servicio'].str.replace('CEPSALLAOTROS AZUL', 'CEPSA')\n",
    "df_n['Proveedor de Servicio'] = df_n['Proveedor de Servicio'].str.replace('CEPSALOS ALMENDROS', 'CEPSA')\n",
    "df_n['Proveedor de Servicio'] = df_n['Proveedor de Servicio'].str.replace('CEPSAMUELLE GRANDE', 'CEPSA')\n",
    "df_n['Proveedor de Servicio'] = df_n['Proveedor de Servicio'].str.replace('CEPSAOTROSGARCIBUR', 'CEPSA')\n",
    "df_n['Proveedor de Servicio'] = df_n['Proveedor de Servicio'].str.replace('CEPSAPUERTO ROSARIO', 'CEPSA')\n",
    "df_n['Proveedor de Servicio'] = df_n['Proveedor de Servicio'].str.replace('CEPSALAS ARENAS 365', 'CEPSA')\n",
    "df_n['Proveedor de Servicio'] = df_n['Proveedor de Servicio'].str.replace('CEPSAOTROSE.S. ROCA', 'CEPSA')\n",
    "df_n['Proveedor de Servicio'] = df_n['Proveedor de Servicio'].str.replace('CEPSAOTROS FIERROIL', 'CEPSA')\n",
    "df_n['Proveedor de Servicio'] = df_n['Proveedor de Servicio'].str.replace('CEPSAOTROSE.S.JAIME I', 'CEPSA')\n",
    "df_n['Proveedor de Servicio'] = df_n['Proveedor de Servicio'].str.replace('CEPSAPUERTO DE LA CRUZ', 'CEPSA')\n",
    "df_n['Proveedor de Servicio'] = df_n['Proveedor de Servicio'].str.replace('CEPSAPLAZA DEL PIOTROS', 'CEPSA')\n",
    "df_n['Proveedor de Servicio'] = df_n['Proveedor de Servicio'].str.replace('CEPSAOTROS ANTELA E.S.', 'CEPSA')\n",
    "df_n['Proveedor de Servicio'] = df_n['Proveedor de Servicio'].str.replace('CEPSACOSTA DEL SILENCIO', 'CEPSA')\n",
    "df_n['Proveedor de Servicio'] = df_n['Proveedor de Servicio'].str.replace('CEPSAOPER CANARIOS S,L.', 'CEPSA')\n",
    "df_n['Proveedor de Servicio'] = df_n['Proveedor de Servicio'].str.replace('CEPSATAXISTAS S.AGUSTIN', 'CEPSA')\n",
    "df_n['Proveedor de Servicio'] = df_n['Proveedor de Servicio'].str.replace('CEPSAOTROSARROCEROS B.G.', 'CEPSA')\n",
    "df_n['Proveedor de Servicio'] = df_n['Proveedor de Servicio'].str.replace('CEPSAOTROS AGROJARA, SCA', 'CEPSA')\n",
    "df_n['Proveedor de Servicio'] = df_n['Proveedor de Servicio'].str.replace('CEPSACOD DE LOS VIOTROSS', 'CEPSA')\n",
    "df_n['Proveedor de Servicio'] = df_n['Proveedor de Servicio'].str.replace('CEPSALAS TORRES (TEXACO)', 'CEPSA')\n",
    "df_n['Proveedor de Servicio'] = df_n['Proveedor de Servicio'].str.replace('CEPSAOPER CANARIOS S,L.', 'CEPSA')\n",
    "df_n['Proveedor de Servicio'] = df_n['Proveedor de Servicio'].str.replace('CEPSAOTROSLA DEHESA S.C.A.', 'CEPSA')\n",
    "df_n['Proveedor de Servicio'] = df_n['Proveedor de Servicio'].str.replace('CEPSALOS PORTALES (TEXACO)', 'CEPSA')\n",
    "df_n['Proveedor de Servicio'] = df_n['Proveedor de Servicio'].str.replace('CEPSAOTROS LOS FILABRES SCA', 'CEPSA')\n",
    "df_n['Proveedor de Servicio'] = df_n['Proveedor de Servicio'].str.replace('CEPSAOTROSCOOP. SAN DIONISIO', 'CEPSA')\n",
    "df_n['Proveedor de Servicio'] = df_n['Proveedor de Servicio'].str.replace('CEPSACIUDAD DEL AUTOMÓVIL 365', 'CEPSA')\n",
    "df_n['Proveedor de Servicio'] = df_n['Proveedor de Servicio'].str.replace('CEPSALISBOA', 'CEPSA')\n",
    "df_n['Proveedor de Servicio'] = df_n['Proveedor de Servicio'].str.replace('E.S. CEPSACHIO', 'CEPSA')\n",
    "df_n['Proveedor de Servicio'] = df_n['Proveedor de Servicio'].str.replace('CEPSALOS LLAOTROSS OTROS GRANAD', 'CEPSA')\n",
    "df_n['Proveedor de Servicio'] = df_n['Proveedor de Servicio'].str.replace('CEPSALOS LLAOTROSS OTROS GRANADILLA', 'CEPSA')\n",
    "df_n['Proveedor de Servicio'] = df_n['Proveedor de Servicio'].str.replace('CEPSAVALLECASOTROSLA ATALAYUELA 365', 'CEPSA')\n",
    "df_n['Proveedor de Servicio'] = df_n['Proveedor de Servicio'].str.replace('E.S. CEPSALA CALETA', 'CEPSA')\n",
    "df_n['Proveedor de Servicio'] = df_n['Proveedor de Servicio'].str.replace('CEPSALAS TORRES (TEXACO)', 'CEPSA')\n",
    "df_n['Proveedor de Servicio'] = df_n['Proveedor de Servicio'].str.replace('CEPSAILLA', 'CEPSA')\n",
    "df_n['Proveedor de Servicio'] = df_n['Proveedor de Servicio'].str.replace('CEPSAOPER CANARIOS S,L.', 'CEPSA')\n",
    "df_n['Proveedor de Servicio'] = df_n['Proveedor de Servicio'].str.replace('CEPSALOS PORTALES (TEXACO)', 'CEPSA')\n",
    "df_n['Proveedor de Servicio'] = df_n['Proveedor de Servicio'].str.replace('CEPSA  ', 'CEPSA')\n",
    "df_n['Proveedor de Servicio'] = df_n['Proveedor de Servicio'].str.replace(' CEPSA', 'CEPSA')\n",
    "df_n['Proveedor de Servicio'] = df_n['Proveedor de Servicio'].str.replace('CEPSAOPER CANARIOS S,L.', 'CEPSA')\n",
    "df_n['Proveedor de Servicio'] = df_n['Proveedor de Servicio'].str.replace('ES EL CALEYU Nº 229OTROS5CEPSA', 'CEPSA')\n",
    "df_n['Proveedor de Servicio'] = df_n['Proveedor de Servicio'].str.replace('E.S.CEPSAPONTEBRANCA', 'CEPSA')\n",
    "df_n['Proveedor de Servicio'] = df_n['Proveedor de Servicio'].str.replace('ES VILAMARINACEPSA', 'CEPSA')\n",
    "df_n['Proveedor de Servicio'] = df_n['Proveedor de Servicio'].str.replace('FUNDACION AIDACEPSA', 'CEPSA')\n",
    "df_n['Proveedor de Servicio'] = df_n['Proveedor de Servicio'].str.replace('ES MIRALBUEOTROSCEPSA', 'CEPSA')\n",
    "df_n['Proveedor de Servicio'] = df_n['Proveedor de Servicio'].str.replace('EMPRESA DEL GRUPOCEPSA', 'CEPSA')\n",
    "df_n['Proveedor de Servicio'] = df_n['Proveedor de Servicio'].str.replace('CEPSAOPER CANARIOS S,L.', 'CEPSA')\n",
    "df_n['Proveedor de Servicio'] = df_n['Proveedor de Servicio'].str.replace('CEPSA\\w*', 'CEPSA')\n",
    "df_n['Proveedor de Servicio'] = df_n['Proveedor de Servicio'].str.replace('CEPSA \\S*', 'CEPSA')\n",
    "df_n['Proveedor de Servicio'] = df_n['Proveedor de Servicio'].str.replace('CEPSA \\S[a-zA-Z0-9_]*', 'CEPSA')\n",
    "df_n['Proveedor de Servicio'] = df_n['Proveedor de Servicio'].str.replace('CEPSA \\S[a-zA-Z0-9_]*\\S[a-zA-Z0-9_]*', 'CEPSA')\n",
    "df_n['Proveedor de Servicio'] = df_n['Proveedor de Servicio'].str.replace('CEPSA \\S[a-zA-Z0-9_]*\\S[a-zA-Z0-9_]*\\S[a-zA-Z0-9_]*', 'CEPSA')\n",
    "df_n['Proveedor de Servicio'] = df_n['Proveedor de Servicio'].str.replace('CEPSA\\S*', 'CEPSA')\n",
    "df_n['Proveedor de Servicio'] = df_n['Proveedor de Servicio'].str.replace('LOSADACEPSA', 'CEPSA')\n",
    "df_n['Proveedor de Servicio'] = df_n['Proveedor de Servicio'].str.replace('EE SS VENTA DEL SOLCEPSA', 'CEPSA')\n",
    "\n",
    "# BP\n",
    "df_n['Proveedor de Servicio'] = df_n['Proveedor de Servicio'].str.replace('BP \\w[a-zA-Z0-9_]', 'BP')\n",
    "df_n['Proveedor de Servicio'] = df_n['Proveedor de Servicio'].str.replace('BP\\w[a-zA-Z0-9_]', 'BP')\n",
    "df_n['Proveedor de Servicio'] = df_n['Proveedor de Servicio'].str.replace(' BP', 'BP')\n",
    "df_n['Proveedor de Servicio'] = df_n['Proveedor de Servicio'].str.replace('B P', 'BP')\n",
    "df_n['Proveedor de Servicio'] = df_n['Proveedor de Servicio'].str.replace('BP\\S*UXO', 'BP')\n",
    "df_n['Proveedor de Servicio'] = df_n['Proveedor de Servicio'].str.replace('BP\\w*', 'BP')\n",
    "df_n['Proveedor de Servicio'] = df_n['Proveedor de Servicio'].str.replace('BP \\S*w*', 'BP')\n",
    "df_n['Proveedor de Servicio'] = df_n['Proveedor de Servicio'].str.replace('BP\\S*', 'BP')\n",
    "df_n['Proveedor de Servicio'] = df_n['Proveedor de Servicio'].str.replace('E S GOMEZ \\S*BP', 'BP')\n",
    "df_n['Proveedor de Servicio'] = df_n['Proveedor de Servicio'].str.replace('E S ALCARAYON \\S*BP', 'BP')\n",
    "df_n['Proveedor de Servicio'] = df_n['Proveedor de Servicio'].str.replace('AREA DE SERVICIO A2BP', 'BP')\n",
    "\n",
    "# Gasolineras Shell\n",
    "df_n['Proveedor de Servicio'] = df_n['Proveedor de Servicio'].str.replace('SHELL \\S*', 'SHELL')\n",
    "df_n['Proveedor de Servicio'] = df_n['Proveedor de Servicio'].str.replace('SHELL \\S[a-zA-Z0-9_]*', 'SHELL')\n",
    "df_n['Proveedor de Servicio'] = df_n['Proveedor de Servicio'].str.replace('SHELL VIOTROSS','SHELL')\n",
    "df_n['Proveedor de Servicio'] = df_n['Proveedor de Servicio'].str.replace('SHELL LOS VIOTROSS','SHELL')\n",
    "df_n['Proveedor de Servicio'] = df_n['Proveedor de Servicio'].str.replace('E.S SHELL','SHELL')\n",
    "df_n['Proveedor de Servicio'] = df_n['Proveedor de Servicio'].str.replace('E.S SHELL ','SHELL')\n",
    "df_n['Proveedor de Servicio'] = df_n['Proveedor de Servicio'].str.replace( 'E.S. SHELL','SHELL')\n",
    "df_n['Proveedor de Servicio'] = df_n['Proveedor de Servicio'].str.replace('E.S.SHELL','SHELL')\n",
    "df_n['Proveedor de Servicio'] = df_n['Proveedor de Servicio'].str.replace('LUGO SHELL','SHELL')\n",
    "df_n['Proveedor de Servicio'] = df_n['Proveedor de Servicio'].str.replace('SHELL.S. BELLVIS' , 'SHELL')\n",
    "df_n['Proveedor de Servicio'] = df_n['Proveedor de Servicio'].str.replace('SHELL', 'SHELL')\n",
    "\n",
    "# Gasolineras Alcampo\n",
    "df_n['Proveedor de Servicio'] = df_n['Proveedor de Servicio'].str.replace('ALCAMPO \\S*', 'ALCAMPO')\n",
    "df_n['Proveedor de Servicio'] = df_n['Proveedor de Servicio'].str.replace('ALCAMPO \\S[a-zA-Z0-9_]*', 'ALCAMPO')\n",
    "df_n['Proveedor de Servicio'] = df_n['Proveedor de Servicio'].str.replace('ALCAMPO A', 'ALCAMPO')\n",
    "df_n['Proveedor de Servicio'] = df_n['Proveedor de Servicio'].str.replace('C C ALCAMPO', 'ALCAMPO')\n",
    "df_n['Proveedor de Servicio'] = df_n['Proveedor de Servicio'].str.replace('E S ALCAMPO', 'ALCAMPO')\n",
    "df_n['Proveedor de Servicio'] = df_n['Proveedor de Servicio'].str.replace('E S  ALCAMPO', 'ALCAMPO')\n",
    "df_n['Proveedor de Servicio'] = df_n['Proveedor de Servicio'].str.replace('ALCAMPO ', 'ALCAMPO')\n",
    "\n",
    "# Gasolineras Repsol\n",
    "df_n['Proveedor de Servicio'] = df_n['Proveedor de Servicio'].str.replace('REPSOL \\S* \\S/()', 'REPSOL')\n",
    "df_n['Proveedor de Servicio'] = df_n['Proveedor de Servicio'].str.replace('REPSOL \\S*a-zA-Z0-9_*', 'REPSOL')\n",
    "df_n['Proveedor de Servicio'] = df_n['Proveedor de Servicio'].str.replace('REPSOL \\S[a-zA-Z0-9_]*\\S[a-zA-Z0-9_]*', 'REPSOL')\n",
    "df_n['Proveedor de Servicio'] = df_n['Proveedor de Servicio'].str.replace('E S REPSOL', 'REPSOL')\n",
    "df_n['Proveedor de Servicio'] = df_n['Proveedor de Servicio'].str.replace('E S  REPSOL', 'REPSOL')\n",
    "df_n['Proveedor de Servicio'] = df_n['Proveedor de Servicio'].str.replace('REPSOL ', 'REPSOL')\n",
    "df_n['Proveedor de Servicio'] = df_n['Proveedor de Servicio'].str.replace('REPSOL65', 'REPSOL')\n",
    "df_n['Proveedor de Servicio'] = df_n['Proveedor de Servicio'].str.replace('REPSOLOMAN', 'REPSOL')\n",
    "df_n['Proveedor de Servicio'] = df_n['Proveedor de Servicio'].str.replace('REPSOLONDA', 'REPSOL')\n",
    "df_n['Proveedor de Servicio'] = df_n['Proveedor de Servicio'].str.replace('REPSOLOMA', 'REPSOL')\n",
    "df_n['Proveedor de Servicio'] = df_n['Proveedor de Servicio'].str.replace('REPSOLTROSRIO SECO', 'REPSOL')\n",
    "df_n['Proveedor de Servicio'] = df_n['Proveedor de Servicio'].str.replace('REPSOLTROSE S JAIME I', 'REPSOL')\n",
    "df_n['Proveedor de Servicio'] = df_n['Proveedor de Servicio'].str.replace('REPSOL15/OCTUBRE/2OTROSOTROS7', 'REPSOL')\n",
    "df_n['Proveedor de Servicio'] = df_n['Proveedor de Servicio'].str.replace('REPSOLILA HERMAOTROSS REDONDO S', 'REPSOL')\n",
    "df_n['Proveedor de Servicio'] = df_n['Proveedor de Servicio'].str.replace('ES DULANTZI REPSOL', 'REPSOL')\n",
    "df_n['Proveedor de Servicio'] = df_n['Proveedor de Servicio'].str.replace('EDAN (REPSOL)', 'REPSOL')\n",
    "df_n['Proveedor de Servicio'] = df_n['Proveedor de Servicio'].str.replace('BALSILLAS I (REPSOL)', 'REPSOL')\n",
    "df_n['Proveedor de Servicio'] = df_n['Proveedor de Servicio'].str.replace('HIJOS DE NAVARRO ROBLES (REPSOL)', 'REPSOL')\n",
    "df_n['Proveedor de Servicio'] = df_n['Proveedor de Servicio'].str.replace('REPSOL L', 'REPSOL')\n",
    "df_n['Proveedor de Servicio'] = df_n['Proveedor de Servicio'].str.replace('REPSOL AVENIDA', 'REPSOL')\n",
    "df_n['Proveedor de Servicio'] = df_n['Proveedor de Servicio'].str.replace('REPSOL ', 'REPSOL')\n",
    "df_n['Proveedor de Servicio'] = df_n['Proveedor de Servicio'].str.replace(' REPSOL', 'REPSOL')\n",
    "df_n['Proveedor de Servicio'] = df_n['Proveedor de Servicio'].str.replace('REPSOL5\\S*/OCTUBRE\\S*/2OTROSOTROS7', 'REPSOL')\n",
    "df_n['Proveedor de Servicio'] = df_n['Proveedor de Servicio'].str.replace('EDAN \\S*(REPSOL)', 'REPSOL')\n",
    "df_n['Proveedor de Servicio'] = df_n['Proveedor de Servicio'].str.replace('HIJOS DE NAVARRO ROBLES (REPSOL)', 'REPSOL')\n",
    "df_n['Proveedor de Servicio'] = df_n['Proveedor de Servicio'].str.replace('REPSOLADA  AVENIDA', 'REPSOL')\n",
    "df_n['Proveedor de Servicio'] = df_n['Proveedor de Servicio'].str.replace('REPSOLCTUALIZACION A 15/OCTUBR', 'REPSOL')\n",
    "df_n['Proveedor de Servicio'] = df_n['Proveedor de Servicio'].str.replace('EDAN (REPSOL)', 'REPSOL')\n",
    "df_n['Proveedor de Servicio'] = df_n['Proveedor de Servicio'].str.replace('BALSILLAS \\S*I \\S*(REPSOL)', 'REPSOL')\n",
    "df_n['Proveedor de Servicio'] = df_n['Proveedor de Servicio'].str.replace('HIJOS DE NAVARRO ROBLES \\S*(REPSOL)', 'REPSOL')\n",
    "df_n['Proveedor de Servicio'] = df_n['Proveedor de Servicio'].str.replace('REPSOL\\w*', 'REPSOL')\n",
    "df_n['Proveedor de Servicio'] = df_n['Proveedor de Servicio'].str.replace('REPSOL \\S*w*', 'REPSOL')\n",
    "df_n['Proveedor de Servicio'] = df_n['Proveedor de Servicio'].str.replace('REPSOL\\S*', 'REPSOL')\n",
    "\n",
    "# Gasolineras Disa\n",
    "df_n['Proveedor de Servicio'] = df_n['Proveedor de Servicio'].str.replace('DISA \\S*', 'DISA')\n",
    "df_n['Proveedor de Servicio'] = df_n['Proveedor de Servicio'].str.replace('DISA \\S[a-zA-Z0-9_]*', 'DISA')\n",
    "df_n['Proveedor de Servicio'] = df_n['Proveedor de Servicio'].str.replace('DISA \\S[a-zA-Z0-9_]*\\S[a-zA-Z0-9_]*', 'DISA')\n",
    "df_n['Proveedor de Servicio'] = df_n['Proveedor de Servicio'].str.replace('DISA         STO DOMINGO', 'DISA')\n",
    "df_n['Proveedor de Servicio'] = df_n['Proveedor de Servicio'].str.replace('E S DISA', 'DISA')\n",
    "df_n['Proveedor de Servicio'] = df_n['Proveedor de Servicio'].str.replace('E S  DISA', 'DISA')\n",
    "df_n['Proveedor de Servicio'] = df_n['Proveedor de Servicio'].str.replace('E S  DISA', 'DISA')\n",
    "\n",
    "# Gasolineras Exoil\n",
    "df_n['Proveedor de Servicio'] = df_n['Proveedor de Servicio'].str.replace('EXOIL \\S*', 'EXOIL')\n",
    "df_n['Proveedor de Servicio'] = df_n['Proveedor de Servicio'].str.replace('EXOIL \\S[a-zA-Z0-9_]*', 'EXOIL')\n",
    "df_n['Proveedor de Servicio'] = df_n['Proveedor de Servicio'].str.replace('EXOIL \\S[a-zA-Z0-9_]*\\S[a-zA-Z0-9_]*', 'EXOIL')\n",
    "\n",
    "# Gasolineras Energy\n",
    "df_n['Proveedor de Servicio'] = df_n['Proveedor de Servicio'].str.replace('ENERGY \\S*', 'ENERGY')\n",
    "df_n['Proveedor de Servicio'] = df_n['Proveedor de Servicio'].str.replace('ENERGY \\S[a-zA-Z0-9_]*', 'ENERGY')\n",
    "df_n['Proveedor de Servicio'] = df_n['Proveedor de Servicio'].str.replace('ENERGY \\S[a-zA-Z0-9_]*\\S[a-zA-Z0-9_]*', 'ENERGY')\n",
    "\n",
    "#Gasolineras Naturgy\n",
    "df_n['Proveedor de Servicio'] = df_n['Proveedor de Servicio'].str.replace('NATURGY ', 'NATURGY')\n",
    "df_n['Proveedor de Servicio'] = df_n['Proveedor de Servicio'].str.replace('NATURGY \\S*', 'NATURGY')\n",
    "df_n['Proveedor de Servicio'] = df_n['Proveedor de Servicio'].str.replace('NATURGY \\S[a-zA-Z0-9_]*', 'NATURGY')\n",
    "df_n['Proveedor de Servicio'] = df_n['Proveedor de Servicio'].str.replace('NATURGY \\S[a-zA-Z0-9_]*\\S[a-zA-Z0-9_]*', 'NATURGY')\n",
    "df_n['Proveedor de Servicio'] = df_n['Proveedor de Servicio'].str.replace('ESNATURGY \\S[a-zA-Z0-9_]*\\S[a-zA-Z0-9_]*', 'NATURGY')\n",
    "df_n['Proveedor de Servicio'] = df_n['Proveedor de Servicio'].str.replace('NATURGYES \\S[a-zA-Z0-9_]*\\S[a-zA-Z0-9_]*', 'NATURGY')\n",
    "df_n['Proveedor de Servicio'] = df_n['Proveedor de Servicio'].str.replace('NATURGY\\w*', 'NATURGY')\n",
    "df_n['Proveedor de Servicio'] = df_n['Proveedor de Servicio'].str.replace('NATURGY \\S*w*', 'NATURGY')\n",
    "df_n['Proveedor de Servicio'] = df_n['Proveedor de Servicio'].str.replace('NATURGYES \\S[a-zA-Z0-9_]*\\S[a-zA-Z0-9_]*\\S[a-zA-Z0-9_]*', 'NATURGY')\n",
    "\n",
    "# Gasolineras Galp\n",
    "df_n['Proveedor de Servicio'] = df_n['Proveedor de Servicio'].str.replace('GALP \\S*', 'GALP')\n",
    "df_n['Proveedor de Servicio'] = df_n['Proveedor de Servicio'].str.replace('GALP \\S[a-zA-Z0-9_]*', 'GALP')\n",
    "df_n['Proveedor de Servicio'] = df_n['Proveedor de Servicio'].str.replace('GALP \\S[a-zA-Z0-9_]*\\S[a-zA-Z0-9_]*', 'GALP')\n",
    "df_n['Proveedor de Servicio'] = df_n['Proveedor de Servicio'].str.replace('GALP \\S[a-zA-Z0-9_]*\\S[a-zA-Z0-9_]*', 'GALP')\n",
    "df_n['Proveedor de Servicio'] = df_n['Proveedor de Servicio'].str.replace('GALP \\S[a-zA-Z0-9_]*\\S[a-zA-Z0-9_]*', 'GALP')\n",
    "df_n['Proveedor de Servicio'] = df_n['Proveedor de Servicio'].str.replace('GALP\\w*', 'GALP')\n",
    "df_n['Proveedor de Servicio'] = df_n['Proveedor de Servicio'].str.replace('GALP \\S*w*', 'GALP')\n",
    "df_n['Proveedor de Servicio'] = df_n['Proveedor de Servicio'].str.replace('GALP \\S[a-zA-Z0-9_]*\\S[a-zA-Z0-9_]*\\S[a-zA-Z0-9_]*', 'GALP')\n",
    "\n",
    "# ES CARBURANTES\n",
    "df_n['Proveedor de Servicio'] = df_n['Proveedor de Servicio'].str.replace('\\S* S\\*ES \\S*CABURANTES', 'ES CARBURANTES')\n",
    "df_n['Proveedor de Servicio'] = df_n['Proveedor de Servicio'].str.replace('ES CARBURANTES', 'ES CARBURANTES')\n",
    "df_n['Proveedor de Servicio'] = df_n['Proveedor de Servicio'].str.replace('ES CARBURANTES CENTRO COMERCIAL VISTALEGRE', 'ES CARBURANTES')\n",
    "\n",
    "df_n['Proveedor de Servicio'] = df_n['Proveedor de Servicio'].str.replace('\\S*[+]B ENERGIAS ', '+B ENERGIAS')\n",
    "df_n['Proveedor de Servicio'] "
   ]
  },
  {
   "cell_type": "code",
   "execution_count": 295,
   "id": "f71973c7",
   "metadata": {},
   "outputs": [
    {
     "data": {
      "text/plain": [
       "'ES CARBURANTES'"
      ]
     },
     "execution_count": 295,
     "metadata": {},
     "output_type": "execute_result"
    }
   ],
   "source": [
    " df_n['Proveedor de Servicio'].iloc[58]\n"
   ]
  },
  {
   "cell_type": "code",
   "execution_count": null,
   "id": "76ccba4f",
   "metadata": {},
   "outputs": [],
   "source": []
  },
  {
   "cell_type": "code",
   "execution_count": 296,
   "id": "5f465a5c",
   "metadata": {},
   "outputs": [],
   "source": [
    "# Guardamos df original para sucesion de tiempo\n",
    "df_n.to_csv('df_sample.csv', index=False)"
   ]
  },
  {
   "cell_type": "code",
   "execution_count": 297,
   "id": "32cb382f",
   "metadata": {
    "scrolled": false
   },
   "outputs": [
    {
     "name": "stdout",
     "output_type": "stream",
     "text": [
      "<class 'pandas.core.frame.DataFrame'>\n",
      "Int64Index: 11838 entries, 2915 to 544\n",
      "Data columns (total 23 columns):\n",
      " #   Column                      Non-Null Count  Dtype  \n",
      "---  ------                      --------------  -----  \n",
      " 0   Fecha                       11838 non-null  object \n",
      " 1   Horario                     11838 non-null  object \n",
      " 2   C.P.                        11838 non-null  object \n",
      " 3   Provincia                   11838 non-null  object \n",
      " 4   Municipio                   11838 non-null  object \n",
      " 5   Localidad                   11838 non-null  object \n",
      " 6   Dirección                   11838 non-null  object \n",
      " 7   Proveedor de Servicio       11838 non-null  string \n",
      " 8   Gasoleo A                   11493 non-null  float64\n",
      " 9   Media C.P. Gasoleo A        11746 non-null  float64\n",
      " 10  Media Nacional Gasoleo A    11838 non-null  float64\n",
      " 11  Gasoleo B                   3013 non-null   float64\n",
      " 12  Media C.P. Gasoleo B        6000 non-null   float64\n",
      " 13  Media Nacional Gasoleo B    11838 non-null  float64\n",
      " 14  Gasoleo Premium             7527 non-null   float64\n",
      " 15  Media C.P. Gasoleo P        6000 non-null   float64\n",
      " 16  Media Nacional Gasoleo P    11838 non-null  float64\n",
      " 17  Gasolina 95 E5              10693 non-null  float64\n",
      " 18  Media C.P. Gasolina 95      11582 non-null  float64\n",
      " 19  Media Nacional Gasolina 95  11838 non-null  float64\n",
      " 20  Gasolina 98 E5              5943 non-null   float64\n",
      " 21  Media C.P. Gasolina 98      9610 non-null   float64\n",
      " 22  Media Nacional Gasolina 98  11838 non-null  float64\n",
      "dtypes: float64(15), object(7), string(1)\n",
      "memory usage: 2.4+ MB\n"
     ]
    }
   ],
   "source": [
    "df_n.info()"
   ]
  },
  {
   "cell_type": "code",
   "execution_count": 292,
   "id": "bca523aa",
   "metadata": {},
   "outputs": [
    {
     "name": "stdout",
     "output_type": "stream",
     "text": [
      "<class 'pandas.core.series.Series'>\n"
     ]
    }
   ],
   "source": [
    "x = df_n['C.P.']\n",
    "print(type(x))\n"
   ]
  },
  {
   "cell_type": "markdown",
   "id": "9ece3cb6",
   "metadata": {},
   "source": [
    "---\n",
    "Step4\n",
    "\n",
    "\n",
    "# Desarrollo Funciones "
   ]
  },
  {
   "cell_type": "code",
   "execution_count": 257,
   "id": "a2640cea",
   "metadata": {},
   "outputs": [],
   "source": [
    "# Analisis de Funciones"
   ]
  },
  {
   "cell_type": "code",
   "execution_count": 258,
   "id": "6a6ddce7",
   "metadata": {
    "scrolled": true
   },
   "outputs": [
    {
     "data": {
      "text/html": [
       "<div>\n",
       "<style scoped>\n",
       "    .dataframe tbody tr th:only-of-type {\n",
       "        vertical-align: middle;\n",
       "    }\n",
       "\n",
       "    .dataframe tbody tr th {\n",
       "        vertical-align: top;\n",
       "    }\n",
       "\n",
       "    .dataframe thead th {\n",
       "        text-align: right;\n",
       "    }\n",
       "</style>\n",
       "<table border=\"1\" class=\"dataframe\">\n",
       "  <thead>\n",
       "    <tr style=\"text-align: right;\">\n",
       "      <th></th>\n",
       "      <th>Fecha</th>\n",
       "      <th>Horario</th>\n",
       "      <th>C.P.</th>\n",
       "      <th>Provincia</th>\n",
       "      <th>Municipio</th>\n",
       "      <th>Localidad</th>\n",
       "      <th>Dirección</th>\n",
       "      <th>Proveedor de Servicio</th>\n",
       "      <th>Gasoleo A</th>\n",
       "      <th>Media C.P. Gasoleo A</th>\n",
       "      <th>...</th>\n",
       "      <th>Media Nacional Gasoleo B</th>\n",
       "      <th>Gasoleo Premium</th>\n",
       "      <th>Media C.P. Gasoleo P</th>\n",
       "      <th>Media Nacional Gasoleo P</th>\n",
       "      <th>Gasolina 95 E5</th>\n",
       "      <th>Media C.P. Gasolina 95</th>\n",
       "      <th>Media Nacional Gasolina 95</th>\n",
       "      <th>Gasolina 98 E5</th>\n",
       "      <th>Media C.P. Gasolina 98</th>\n",
       "      <th>Media Nacional Gasolina 98</th>\n",
       "    </tr>\n",
       "  </thead>\n",
       "  <tbody>\n",
       "    <tr>\n",
       "      <th>7244</th>\n",
       "      <td>18/12/2022 17:32:26</td>\n",
       "      <td>L-D: 24H</td>\n",
       "      <td>28760</td>\n",
       "      <td>MADRID</td>\n",
       "      <td>Tres Cantos</td>\n",
       "      <td>TRES CANTOS</td>\n",
       "      <td>AVENIDA INDUSTRIA, 44</td>\n",
       "      <td>BALLE(OTROS)</td>\n",
       "      <td>1.477</td>\n",
       "      <td>1.614</td>\n",
       "      <td>...</td>\n",
       "      <td>1.341226</td>\n",
       "      <td>1.497</td>\n",
       "      <td>NaN</td>\n",
       "      <td>1.747942</td>\n",
       "      <td>1.389</td>\n",
       "      <td>1.518</td>\n",
       "      <td>1.581175</td>\n",
       "      <td>NaN</td>\n",
       "      <td>1.742</td>\n",
       "      <td>1.739375</td>\n",
       "    </tr>\n",
       "    <tr>\n",
       "      <th>7240</th>\n",
       "      <td>18/12/2022 17:32:26</td>\n",
       "      <td>L-D: 24H</td>\n",
       "      <td>28760</td>\n",
       "      <td>MADRID</td>\n",
       "      <td>Tres Cantos</td>\n",
       "      <td>TRES CANTOS</td>\n",
       "      <td>AVENIDA INDUSTRIA (DE LA), S/N</td>\n",
       "      <td>BP</td>\n",
       "      <td>1.699</td>\n",
       "      <td>1.614</td>\n",
       "      <td>...</td>\n",
       "      <td>1.341226</td>\n",
       "      <td>1.789</td>\n",
       "      <td>NaN</td>\n",
       "      <td>1.747942</td>\n",
       "      <td>1.599</td>\n",
       "      <td>1.518</td>\n",
       "      <td>1.581175</td>\n",
       "      <td>1.741</td>\n",
       "      <td>1.742</td>\n",
       "      <td>1.739375</td>\n",
       "    </tr>\n",
       "    <tr>\n",
       "      <th>7241</th>\n",
       "      <td>18/12/2022 17:32:26</td>\n",
       "      <td>L-D: 06:00-00:00</td>\n",
       "      <td>28760</td>\n",
       "      <td>MADRID</td>\n",
       "      <td>Tres Cantos</td>\n",
       "      <td>TRES CANTOS</td>\n",
       "      <td>CALLE YUNQUE, 6</td>\n",
       "      <td>CEPSA</td>\n",
       "      <td>1.578</td>\n",
       "      <td>1.614</td>\n",
       "      <td>...</td>\n",
       "      <td>1.341226</td>\n",
       "      <td>1.668</td>\n",
       "      <td>NaN</td>\n",
       "      <td>1.747942</td>\n",
       "      <td>1.492</td>\n",
       "      <td>1.518</td>\n",
       "      <td>1.581175</td>\n",
       "      <td>NaN</td>\n",
       "      <td>1.742</td>\n",
       "      <td>1.739375</td>\n",
       "    </tr>\n",
       "    <tr>\n",
       "      <th>7246</th>\n",
       "      <td>18/12/2022 17:32:26</td>\n",
       "      <td>L-D: 24H</td>\n",
       "      <td>28760</td>\n",
       "      <td>MADRID</td>\n",
       "      <td>Tres Cantos</td>\n",
       "      <td>TRES CANTOS</td>\n",
       "      <td>AVENIDA INDUSTRIA (DE LA), 52</td>\n",
       "      <td>PLE(OTROS)</td>\n",
       "      <td>1.477</td>\n",
       "      <td>1.614</td>\n",
       "      <td>...</td>\n",
       "      <td>1.341226</td>\n",
       "      <td>NaN</td>\n",
       "      <td>NaN</td>\n",
       "      <td>1.747942</td>\n",
       "      <td>1.389</td>\n",
       "      <td>1.518</td>\n",
       "      <td>1.581175</td>\n",
       "      <td>NaN</td>\n",
       "      <td>1.742</td>\n",
       "      <td>1.739375</td>\n",
       "    </tr>\n",
       "    <tr>\n",
       "      <th>7242</th>\n",
       "      <td>18/12/2022 17:32:26</td>\n",
       "      <td>L-D: 24H</td>\n",
       "      <td>28760</td>\n",
       "      <td>MADRID</td>\n",
       "      <td>Tres Cantos</td>\n",
       "      <td>TRES CANTOS</td>\n",
       "      <td>CL AV DE LA INDUSTRIA, 58</td>\n",
       "      <td>REPSOL</td>\n",
       "      <td>1.679</td>\n",
       "      <td>1.614</td>\n",
       "      <td>...</td>\n",
       "      <td>1.341226</td>\n",
       "      <td>1.779</td>\n",
       "      <td>NaN</td>\n",
       "      <td>1.747942</td>\n",
       "      <td>1.579</td>\n",
       "      <td>1.518</td>\n",
       "      <td>1.581175</td>\n",
       "      <td>1.739</td>\n",
       "      <td>1.742</td>\n",
       "      <td>1.739375</td>\n",
       "    </tr>\n",
       "    <tr>\n",
       "      <th>7245</th>\n",
       "      <td>18/12/2022 17:32:26</td>\n",
       "      <td>L-V: 08:00-20:00</td>\n",
       "      <td>28760</td>\n",
       "      <td>MADRID</td>\n",
       "      <td>Tres Cantos</td>\n",
       "      <td>TRES CANTOS</td>\n",
       "      <td>CL AVENIDA ARTESANOS, 40</td>\n",
       "      <td>REPSOL</td>\n",
       "      <td>1.709</td>\n",
       "      <td>1.614</td>\n",
       "      <td>...</td>\n",
       "      <td>1.341226</td>\n",
       "      <td>NaN</td>\n",
       "      <td>NaN</td>\n",
       "      <td>1.747942</td>\n",
       "      <td>1.619</td>\n",
       "      <td>1.518</td>\n",
       "      <td>1.581175</td>\n",
       "      <td>1.779</td>\n",
       "      <td>1.742</td>\n",
       "      <td>1.739375</td>\n",
       "    </tr>\n",
       "    <tr>\n",
       "      <th>7243</th>\n",
       "      <td>18/12/2022 17:32:26</td>\n",
       "      <td>L-D: 06:00-22:00</td>\n",
       "      <td>28760</td>\n",
       "      <td>MADRID</td>\n",
       "      <td>Tres Cantos</td>\n",
       "      <td>TRES CANTOS</td>\n",
       "      <td>CL AVDA DE LA INDUSTRIA, 33</td>\n",
       "      <td>REPSOL</td>\n",
       "      <td>1.679</td>\n",
       "      <td>1.614</td>\n",
       "      <td>...</td>\n",
       "      <td>1.341226</td>\n",
       "      <td>1.769</td>\n",
       "      <td>NaN</td>\n",
       "      <td>1.747942</td>\n",
       "      <td>1.559</td>\n",
       "      <td>1.518</td>\n",
       "      <td>1.581175</td>\n",
       "      <td>1.709</td>\n",
       "      <td>1.742</td>\n",
       "      <td>1.739375</td>\n",
       "    </tr>\n",
       "  </tbody>\n",
       "</table>\n",
       "<p>7 rows × 23 columns</p>\n",
       "</div>"
      ],
      "text/plain": [
       "                    Fecha           Horario   C.P. Provincia    Municipio  \\\n",
       "7244  18/12/2022 17:32:26          L-D: 24H  28760    MADRID  Tres Cantos   \n",
       "7240  18/12/2022 17:32:26          L-D: 24H  28760    MADRID  Tres Cantos   \n",
       "7241  18/12/2022 17:32:26  L-D: 06:00-00:00  28760    MADRID  Tres Cantos   \n",
       "7246  18/12/2022 17:32:26          L-D: 24H  28760    MADRID  Tres Cantos   \n",
       "7242  18/12/2022 17:32:26          L-D: 24H  28760    MADRID  Tres Cantos   \n",
       "7245  18/12/2022 17:32:26  L-V: 08:00-20:00  28760    MADRID  Tres Cantos   \n",
       "7243  18/12/2022 17:32:26  L-D: 06:00-22:00  28760    MADRID  Tres Cantos   \n",
       "\n",
       "        Localidad                       Dirección Proveedor de Servicio  \\\n",
       "7244  TRES CANTOS           AVENIDA INDUSTRIA, 44          BALLE(OTROS)   \n",
       "7240  TRES CANTOS  AVENIDA INDUSTRIA (DE LA), S/N                    BP   \n",
       "7241  TRES CANTOS                 CALLE YUNQUE, 6                 CEPSA   \n",
       "7246  TRES CANTOS   AVENIDA INDUSTRIA (DE LA), 52            PLE(OTROS)   \n",
       "7242  TRES CANTOS       CL AV DE LA INDUSTRIA, 58                REPSOL   \n",
       "7245  TRES CANTOS        CL AVENIDA ARTESANOS, 40                REPSOL   \n",
       "7243  TRES CANTOS     CL AVDA DE LA INDUSTRIA, 33                REPSOL   \n",
       "\n",
       "      Gasoleo A  Media C.P. Gasoleo A  ...  Media Nacional Gasoleo B  \\\n",
       "7244      1.477                 1.614  ...                  1.341226   \n",
       "7240      1.699                 1.614  ...                  1.341226   \n",
       "7241      1.578                 1.614  ...                  1.341226   \n",
       "7246      1.477                 1.614  ...                  1.341226   \n",
       "7242      1.679                 1.614  ...                  1.341226   \n",
       "7245      1.709                 1.614  ...                  1.341226   \n",
       "7243      1.679                 1.614  ...                  1.341226   \n",
       "\n",
       "      Gasoleo Premium  Media C.P. Gasoleo P  Media Nacional Gasoleo P  \\\n",
       "7244            1.497                   NaN                  1.747942   \n",
       "7240            1.789                   NaN                  1.747942   \n",
       "7241            1.668                   NaN                  1.747942   \n",
       "7246              NaN                   NaN                  1.747942   \n",
       "7242            1.779                   NaN                  1.747942   \n",
       "7245              NaN                   NaN                  1.747942   \n",
       "7243            1.769                   NaN                  1.747942   \n",
       "\n",
       "      Gasolina 95 E5  Media C.P. Gasolina 95  Media Nacional Gasolina 95  \\\n",
       "7244           1.389                   1.518                    1.581175   \n",
       "7240           1.599                   1.518                    1.581175   \n",
       "7241           1.492                   1.518                    1.581175   \n",
       "7246           1.389                   1.518                    1.581175   \n",
       "7242           1.579                   1.518                    1.581175   \n",
       "7245           1.619                   1.518                    1.581175   \n",
       "7243           1.559                   1.518                    1.581175   \n",
       "\n",
       "      Gasolina 98 E5  Media C.P. Gasolina 98  Media Nacional Gasolina 98  \n",
       "7244             NaN                   1.742                    1.739375  \n",
       "7240           1.741                   1.742                    1.739375  \n",
       "7241             NaN                   1.742                    1.739375  \n",
       "7246             NaN                   1.742                    1.739375  \n",
       "7242           1.739                   1.742                    1.739375  \n",
       "7245           1.779                   1.742                    1.739375  \n",
       "7243           1.709                   1.742                    1.739375  \n",
       "\n",
       "[7 rows x 23 columns]"
      ]
     },
     "execution_count": 258,
     "metadata": {},
     "output_type": "execute_result"
    }
   ],
   "source": [
    "# Analizar df_n usando .loc()\n",
    "\n",
    "df_n[df_n['C.P.'] == '28760'] "
   ]
  },
  {
   "cell_type": "code",
   "execution_count": 199,
   "id": "d4a411b2",
   "metadata": {},
   "outputs": [
    {
     "data": {
      "text/plain": [
       "Gasoleo A    1.198\n",
       "dtype: float64"
      ]
     },
     "execution_count": 199,
     "metadata": {},
     "output_type": "execute_result"
    }
   ],
   "source": [
    "df_n[['Gasoleo A']].min()"
   ]
  },
  {
   "cell_type": "code",
   "execution_count": 200,
   "id": "3b1f1e51",
   "metadata": {},
   "outputs": [
    {
     "data": {
      "text/plain": [
       "pandas.core.series.Series"
      ]
     },
     "execution_count": 200,
     "metadata": {},
     "output_type": "execute_result"
    }
   ],
   "source": [
    "type(df_n[['Gasoleo A']].min())"
   ]
  },
  {
   "cell_type": "code",
   "execution_count": 201,
   "id": "90b1365c",
   "metadata": {},
   "outputs": [
    {
     "data": {
      "text/plain": [
       "Gasoleo A    8527\n",
       "dtype: int64"
      ]
     },
     "execution_count": 201,
     "metadata": {},
     "output_type": "execute_result"
    }
   ],
   "source": [
    "df_n[['Gasoleo A']].idxmin()"
   ]
  },
  {
   "cell_type": "code",
   "execution_count": 202,
   "id": "2e862788",
   "metadata": {},
   "outputs": [
    {
     "data": {
      "text/plain": [
       "pandas.core.series.Series"
      ]
     },
     "execution_count": 202,
     "metadata": {},
     "output_type": "execute_result"
    }
   ],
   "source": [
    "type(df_n[['Gasoleo A']].idxmin())"
   ]
  },
  {
   "cell_type": "code",
   "execution_count": 137,
   "id": "9de51546",
   "metadata": {},
   "outputs": [],
   "source": [
    "#df_n.loc[df_n[['Gasoleo A']].min()]"
   ]
  },
  {
   "cell_type": "code",
   "execution_count": 138,
   "id": "6189b48b",
   "metadata": {},
   "outputs": [],
   "source": [
    "#df_n.head()"
   ]
  },
  {
   "cell_type": "code",
   "execution_count": 139,
   "id": "2532402d",
   "metadata": {},
   "outputs": [],
   "source": [
    "#df_n.loc[1.290]"
   ]
  },
  {
   "cell_type": "code",
   "execution_count": 140,
   "id": "eaca1f27",
   "metadata": {},
   "outputs": [
    {
     "data": {
      "text/plain": [
       "Int64Index([ 2915,  5075, 10805, 10348,  9336, 10818,  1754,   671,  1745,\n",
       "             1812,\n",
       "            ...\n",
       "            10576, 10567,  2532,  4783,  4748,  2230,  4924,  7295, 11484,\n",
       "              544],\n",
       "           dtype='int64', length=11838)"
      ]
     },
     "execution_count": 140,
     "metadata": {},
     "output_type": "execute_result"
    }
   ],
   "source": [
    "df_n.index"
   ]
  },
  {
   "cell_type": "code",
   "execution_count": 141,
   "id": "c8047416",
   "metadata": {},
   "outputs": [
    {
     "data": {
      "text/plain": [
       "pandas.core.frame.DataFrame"
      ]
     },
     "execution_count": 141,
     "metadata": {},
     "output_type": "execute_result"
    }
   ],
   "source": [
    "type(df_n.loc[df_n[['Gasoleo A']].idxmin()])"
   ]
  },
  {
   "cell_type": "code",
   "execution_count": 142,
   "id": "5f0aaab8",
   "metadata": {},
   "outputs": [
    {
     "data": {
      "text/plain": [
       "pandas.core.series.Series"
      ]
     },
     "execution_count": 142,
     "metadata": {},
     "output_type": "execute_result"
    }
   ],
   "source": [
    "type(df_n.loc[9213])"
   ]
  },
  {
   "cell_type": "code",
   "execution_count": 143,
   "id": "aeca5642",
   "metadata": {},
   "outputs": [
    {
     "data": {
      "text/plain": [
       "<pandas.core.groupby.generic.DataFrameGroupBy object at 0x0000021F8C75EB20>"
      ]
     },
     "execution_count": 143,
     "metadata": {},
     "output_type": "execute_result"
    }
   ],
   "source": [
    "a = df_n.groupby(by=[\"Municipio\"])\n",
    "a"
   ]
  },
  {
   "cell_type": "code",
   "execution_count": 144,
   "id": "4afac610",
   "metadata": {},
   "outputs": [
    {
     "data": {
      "text/plain": [
       "Municipio\n",
       "Abadiño                                     [48220]\n",
       "Abadín                               [27738, 27730]\n",
       "Abanilla                                    [30640]\n",
       "Abanto y Ciérvana-Abanto Zierbena           [48500]\n",
       "Abarán                                      [30550]\n",
       "                                          ...      \n",
       "Íscar                                       [47420]\n",
       "Òdena                                       [08711]\n",
       "Ólvega                                      [42110]\n",
       "Órgiva                                      [18400]\n",
       "Úbeda                                       [23400]\n",
       "Name: C.P., Length: 3438, dtype: object"
      ]
     },
     "execution_count": 144,
     "metadata": {},
     "output_type": "execute_result"
    }
   ],
   "source": [
    "b = a[\"C.P.\"].unique()\n",
    "b"
   ]
  },
  {
   "cell_type": "markdown",
   "id": "3f8e8e7f",
   "metadata": {},
   "source": [
    "# Funciones"
   ]
  },
  {
   "cell_type": "code",
   "execution_count": 145,
   "id": "ebf8ea98",
   "metadata": {},
   "outputs": [],
   "source": [
    "# Precio mínimo de combstible en un codigo postal \n",
    "def cp_minimo(x,y):\n",
    "# x = Código Postal\n",
    "# y = Tipo de combustible para el precio mínimo\n",
    "    cod_postal = df_n[df_n['C.P.'] == x]\n",
    "    combustible = cod_postal.loc[cod_postal[[y]].idxmin()]\n",
    "    return combustible\n"
   ]
  },
  {
   "cell_type": "code",
   "execution_count": 146,
   "id": "e31206c6",
   "metadata": {},
   "outputs": [
    {
     "data": {
      "text/html": [
       "<div>\n",
       "<style scoped>\n",
       "    .dataframe tbody tr th:only-of-type {\n",
       "        vertical-align: middle;\n",
       "    }\n",
       "\n",
       "    .dataframe tbody tr th {\n",
       "        vertical-align: top;\n",
       "    }\n",
       "\n",
       "    .dataframe thead th {\n",
       "        text-align: right;\n",
       "    }\n",
       "</style>\n",
       "<table border=\"1\" class=\"dataframe\">\n",
       "  <thead>\n",
       "    <tr style=\"text-align: right;\">\n",
       "      <th></th>\n",
       "      <th>Fecha</th>\n",
       "      <th>Horario</th>\n",
       "      <th>C.P.</th>\n",
       "      <th>Provincia</th>\n",
       "      <th>Municipio</th>\n",
       "      <th>Localidad</th>\n",
       "      <th>Dirección</th>\n",
       "      <th>Proveedor de Servicio</th>\n",
       "      <th>Gasoleo A</th>\n",
       "      <th>Media C.P. Gasoleo A</th>\n",
       "      <th>...</th>\n",
       "      <th>Media Nacional Gasoleo B</th>\n",
       "      <th>Gasoleo Premium</th>\n",
       "      <th>Media C.P. Gasoleo P</th>\n",
       "      <th>Media Nacional Gasoleo P</th>\n",
       "      <th>Gasolina 95 E5</th>\n",
       "      <th>Media C.P. Gasolina 95</th>\n",
       "      <th>Media Nacional Gasolina 95</th>\n",
       "      <th>Gasolina 98 E5</th>\n",
       "      <th>Media C.P. Gasolina 98</th>\n",
       "      <th>Media Nacional Gasolina 98</th>\n",
       "    </tr>\n",
       "  </thead>\n",
       "  <tbody>\n",
       "    <tr>\n",
       "      <th>7244</th>\n",
       "      <td>18/12/2022 17:32:26</td>\n",
       "      <td>L-D: 24H</td>\n",
       "      <td>28760</td>\n",
       "      <td>MADRID</td>\n",
       "      <td>Tres Cantos</td>\n",
       "      <td>TRES CANTOS</td>\n",
       "      <td>AVENIDA INDUSTRIA, 44</td>\n",
       "      <td>BALLEOTROSIL</td>\n",
       "      <td>1.477</td>\n",
       "      <td>1.614</td>\n",
       "      <td>...</td>\n",
       "      <td>1.341226</td>\n",
       "      <td>1.497</td>\n",
       "      <td>NaN</td>\n",
       "      <td>1.747942</td>\n",
       "      <td>1.389</td>\n",
       "      <td>1.518</td>\n",
       "      <td>1.581175</td>\n",
       "      <td>NaN</td>\n",
       "      <td>1.742</td>\n",
       "      <td>1.739375</td>\n",
       "    </tr>\n",
       "  </tbody>\n",
       "</table>\n",
       "<p>1 rows × 23 columns</p>\n",
       "</div>"
      ],
      "text/plain": [
       "                    Fecha   Horario   C.P. Provincia    Municipio  \\\n",
       "7244  18/12/2022 17:32:26  L-D: 24H  28760    MADRID  Tres Cantos   \n",
       "\n",
       "        Localidad              Dirección Proveedor de Servicio  Gasoleo A  \\\n",
       "7244  TRES CANTOS  AVENIDA INDUSTRIA, 44          BALLEOTROSIL      1.477   \n",
       "\n",
       "      Media C.P. Gasoleo A  ...  Media Nacional Gasoleo B  Gasoleo Premium  \\\n",
       "7244                 1.614  ...                  1.341226            1.497   \n",
       "\n",
       "      Media C.P. Gasoleo P  Media Nacional Gasoleo P  Gasolina 95 E5  \\\n",
       "7244                   NaN                  1.747942           1.389   \n",
       "\n",
       "      Media C.P. Gasolina 95  Media Nacional Gasolina 95  Gasolina 98 E5  \\\n",
       "7244                   1.518                    1.581175             NaN   \n",
       "\n",
       "      Media C.P. Gasolina 98  Media Nacional Gasolina 98  \n",
       "7244                   1.742                    1.739375  \n",
       "\n",
       "[1 rows x 23 columns]"
      ]
     },
     "execution_count": 146,
     "metadata": {},
     "output_type": "execute_result"
    }
   ],
   "source": [
    "cp_minimo('28760', 'Gasoleo A')"
   ]
  },
  {
   "cell_type": "markdown",
   "id": "2279f697",
   "metadata": {},
   "source": [
    "---"
   ]
  },
  {
   "cell_type": "code",
   "execution_count": 147,
   "id": "ee65c0fb",
   "metadata": {},
   "outputs": [
    {
     "data": {
      "text/html": [
       "<div>\n",
       "<style scoped>\n",
       "    .dataframe tbody tr th:only-of-type {\n",
       "        vertical-align: middle;\n",
       "    }\n",
       "\n",
       "    .dataframe tbody tr th {\n",
       "        vertical-align: top;\n",
       "    }\n",
       "\n",
       "    .dataframe thead th {\n",
       "        text-align: right;\n",
       "    }\n",
       "</style>\n",
       "<table border=\"1\" class=\"dataframe\">\n",
       "  <thead>\n",
       "    <tr style=\"text-align: right;\">\n",
       "      <th></th>\n",
       "      <th>Fecha</th>\n",
       "      <th>Horario</th>\n",
       "      <th>C.P.</th>\n",
       "      <th>Provincia</th>\n",
       "      <th>Municipio</th>\n",
       "      <th>Localidad</th>\n",
       "      <th>Dirección</th>\n",
       "      <th>Proveedor de Servicio</th>\n",
       "      <th>Gasoleo A</th>\n",
       "      <th>Media C.P. Gasoleo A</th>\n",
       "      <th>...</th>\n",
       "      <th>Media Nacional Gasoleo B</th>\n",
       "      <th>Gasoleo Premium</th>\n",
       "      <th>Media C.P. Gasoleo P</th>\n",
       "      <th>Media Nacional Gasoleo P</th>\n",
       "      <th>Gasolina 95 E5</th>\n",
       "      <th>Media C.P. Gasolina 95</th>\n",
       "      <th>Media Nacional Gasolina 95</th>\n",
       "      <th>Gasolina 98 E5</th>\n",
       "      <th>Media C.P. Gasolina 98</th>\n",
       "      <th>Media Nacional Gasolina 98</th>\n",
       "    </tr>\n",
       "  </thead>\n",
       "  <tbody>\n",
       "    <tr>\n",
       "      <th>6577</th>\n",
       "      <td>18/12/2022 17:32:26</td>\n",
       "      <td>L-D: 06:00-00:00</td>\n",
       "      <td>28500</td>\n",
       "      <td>MADRID</td>\n",
       "      <td>Arganda del Rey</td>\n",
       "      <td>ARGANDA</td>\n",
       "      <td>AVENIDA DE MADRID, 126</td>\n",
       "      <td>ATEOTROSIL</td>\n",
       "      <td>1.599</td>\n",
       "      <td>1.652833</td>\n",
       "      <td>...</td>\n",
       "      <td>1.341226</td>\n",
       "      <td>1.609</td>\n",
       "      <td>1.569</td>\n",
       "      <td>1.747942</td>\n",
       "      <td>1.549</td>\n",
       "      <td>1.566583</td>\n",
       "      <td>1.581175</td>\n",
       "      <td>NaN</td>\n",
       "      <td>1.759333</td>\n",
       "      <td>1.739375</td>\n",
       "    </tr>\n",
       "    <tr>\n",
       "      <th>6575</th>\n",
       "      <td>18/12/2022 17:32:26</td>\n",
       "      <td>L-D: 24H</td>\n",
       "      <td>28500</td>\n",
       "      <td>MADRID</td>\n",
       "      <td>Arganda del Rey</td>\n",
       "      <td>ARGANDA</td>\n",
       "      <td>CAMINO CAMINO DE SAN MARTÍN DE LA VEGA A ARGAN...</td>\n",
       "      <td>BALLEOTROSIL</td>\n",
       "      <td>1.577</td>\n",
       "      <td>1.652833</td>\n",
       "      <td>...</td>\n",
       "      <td>1.341226</td>\n",
       "      <td>NaN</td>\n",
       "      <td>1.569</td>\n",
       "      <td>1.747942</td>\n",
       "      <td>1.507</td>\n",
       "      <td>1.566583</td>\n",
       "      <td>1.581175</td>\n",
       "      <td>NaN</td>\n",
       "      <td>1.759333</td>\n",
       "      <td>1.739375</td>\n",
       "    </tr>\n",
       "    <tr>\n",
       "      <th>6573</th>\n",
       "      <td>18/12/2022 17:32:26</td>\n",
       "      <td>L-D: 24H</td>\n",
       "      <td>28500</td>\n",
       "      <td>MADRID</td>\n",
       "      <td>Arganda del Rey</td>\n",
       "      <td>ARGANDA</td>\n",
       "      <td>CAMINO SAN MARTIN DE LA VEGA, 8</td>\n",
       "      <td>BALLEOTROSIL</td>\n",
       "      <td>1.577</td>\n",
       "      <td>1.652833</td>\n",
       "      <td>...</td>\n",
       "      <td>1.341226</td>\n",
       "      <td>NaN</td>\n",
       "      <td>1.569</td>\n",
       "      <td>1.747942</td>\n",
       "      <td>1.507</td>\n",
       "      <td>1.566583</td>\n",
       "      <td>1.581175</td>\n",
       "      <td>NaN</td>\n",
       "      <td>1.759333</td>\n",
       "      <td>1.739375</td>\n",
       "    </tr>\n",
       "    <tr>\n",
       "      <th>6579</th>\n",
       "      <td>18/12/2022 17:32:26</td>\n",
       "      <td>L-D: 24H</td>\n",
       "      <td>28500</td>\n",
       "      <td>MADRID</td>\n",
       "      <td>Arganda del Rey</td>\n",
       "      <td>ARGANDA</td>\n",
       "      <td>AVENIDA EJERCITO (DEL), 44</td>\n",
       "      <td>BP</td>\n",
       "      <td>1.719</td>\n",
       "      <td>1.652833</td>\n",
       "      <td>...</td>\n",
       "      <td>1.341226</td>\n",
       "      <td>1.809</td>\n",
       "      <td>1.569</td>\n",
       "      <td>1.747942</td>\n",
       "      <td>1.629</td>\n",
       "      <td>1.566583</td>\n",
       "      <td>1.581175</td>\n",
       "      <td>1.771</td>\n",
       "      <td>1.759333</td>\n",
       "      <td>1.739375</td>\n",
       "    </tr>\n",
       "    <tr>\n",
       "      <th>6578</th>\n",
       "      <td>18/12/2022 17:32:26</td>\n",
       "      <td>L-D: 06:00-22:00</td>\n",
       "      <td>28500</td>\n",
       "      <td>MADRID</td>\n",
       "      <td>Arganda del Rey</td>\n",
       "      <td>ARGANDA</td>\n",
       "      <td>AVENIDA DE MADRID, 37</td>\n",
       "      <td>BP</td>\n",
       "      <td>1.719</td>\n",
       "      <td>1.652833</td>\n",
       "      <td>...</td>\n",
       "      <td>1.341226</td>\n",
       "      <td>1.809</td>\n",
       "      <td>1.569</td>\n",
       "      <td>1.747942</td>\n",
       "      <td>1.629</td>\n",
       "      <td>1.566583</td>\n",
       "      <td>1.581175</td>\n",
       "      <td>1.771</td>\n",
       "      <td>1.759333</td>\n",
       "      <td>1.739375</td>\n",
       "    </tr>\n",
       "    <tr>\n",
       "      <th>6571</th>\n",
       "      <td>18/12/2022 17:32:26</td>\n",
       "      <td>L-D: 24H</td>\n",
       "      <td>28500</td>\n",
       "      <td>MADRID</td>\n",
       "      <td>Arganda del Rey</td>\n",
       "      <td>ARGANDA</td>\n",
       "      <td>AVENIDA VALDEARGANDA, 8</td>\n",
       "      <td>CEPSA</td>\n",
       "      <td>1.709</td>\n",
       "      <td>1.652833</td>\n",
       "      <td>...</td>\n",
       "      <td>1.341226</td>\n",
       "      <td>1.809</td>\n",
       "      <td>1.569</td>\n",
       "      <td>1.747942</td>\n",
       "      <td>1.604</td>\n",
       "      <td>1.566583</td>\n",
       "      <td>1.581175</td>\n",
       "      <td>1.736</td>\n",
       "      <td>1.759333</td>\n",
       "      <td>1.739375</td>\n",
       "    </tr>\n",
       "    <tr>\n",
       "      <th>6581</th>\n",
       "      <td>18/12/2022 17:32:26</td>\n",
       "      <td>L-D: 07:00-22:00</td>\n",
       "      <td>28500</td>\n",
       "      <td>MADRID</td>\n",
       "      <td>Arganda del Rey</td>\n",
       "      <td>ARGANDA</td>\n",
       "      <td>AVENIDA FINANZAUTO (DE), 2</td>\n",
       "      <td>DELFIOIL</td>\n",
       "      <td>1.567</td>\n",
       "      <td>1.652833</td>\n",
       "      <td>...</td>\n",
       "      <td>1.341226</td>\n",
       "      <td>NaN</td>\n",
       "      <td>1.569</td>\n",
       "      <td>1.747942</td>\n",
       "      <td>1.497</td>\n",
       "      <td>1.566583</td>\n",
       "      <td>1.581175</td>\n",
       "      <td>NaN</td>\n",
       "      <td>1.759333</td>\n",
       "      <td>1.739375</td>\n",
       "    </tr>\n",
       "    <tr>\n",
       "      <th>6574</th>\n",
       "      <td>18/12/2022 17:32:26</td>\n",
       "      <td>L-D: 24H</td>\n",
       "      <td>28500</td>\n",
       "      <td>MADRID</td>\n",
       "      <td>Arganda del Rey</td>\n",
       "      <td>ARGANDA</td>\n",
       "      <td>AVENIDA MADRID (DE), SN</td>\n",
       "      <td>PETROPRIX</td>\n",
       "      <td>1.577</td>\n",
       "      <td>1.652833</td>\n",
       "      <td>...</td>\n",
       "      <td>1.341226</td>\n",
       "      <td>NaN</td>\n",
       "      <td>1.569</td>\n",
       "      <td>1.747942</td>\n",
       "      <td>1.497</td>\n",
       "      <td>1.566583</td>\n",
       "      <td>1.581175</td>\n",
       "      <td>NaN</td>\n",
       "      <td>1.759333</td>\n",
       "      <td>1.739375</td>\n",
       "    </tr>\n",
       "    <tr>\n",
       "      <th>6572</th>\n",
       "      <td>18/12/2022 17:32:26</td>\n",
       "      <td>L-D: 24H</td>\n",
       "      <td>28500</td>\n",
       "      <td>MADRID</td>\n",
       "      <td>Arganda del Rey</td>\n",
       "      <td>ARGANDA</td>\n",
       "      <td>AVENIDA MADRID (DE), 66</td>\n",
       "      <td>PLEOTROSIL</td>\n",
       "      <td>1.567</td>\n",
       "      <td>1.652833</td>\n",
       "      <td>...</td>\n",
       "      <td>1.341226</td>\n",
       "      <td>NaN</td>\n",
       "      <td>1.569</td>\n",
       "      <td>1.747942</td>\n",
       "      <td>1.497</td>\n",
       "      <td>1.566583</td>\n",
       "      <td>1.581175</td>\n",
       "      <td>NaN</td>\n",
       "      <td>1.759333</td>\n",
       "      <td>1.739375</td>\n",
       "    </tr>\n",
       "    <tr>\n",
       "      <th>6582</th>\n",
       "      <td>18/12/2022 17:32:26</td>\n",
       "      <td>L: 24H</td>\n",
       "      <td>28500</td>\n",
       "      <td>MADRID</td>\n",
       "      <td>Arganda del Rey</td>\n",
       "      <td>ARGANDA</td>\n",
       "      <td>CARRETERA M-832 KM. 3</td>\n",
       "      <td>REPSOL</td>\n",
       "      <td>1.752</td>\n",
       "      <td>1.652833</td>\n",
       "      <td>...</td>\n",
       "      <td>1.341226</td>\n",
       "      <td>NaN</td>\n",
       "      <td>1.569</td>\n",
       "      <td>1.747942</td>\n",
       "      <td>1.622</td>\n",
       "      <td>1.566583</td>\n",
       "      <td>1.581175</td>\n",
       "      <td>NaN</td>\n",
       "      <td>1.759333</td>\n",
       "      <td>1.739375</td>\n",
       "    </tr>\n",
       "    <tr>\n",
       "      <th>6580</th>\n",
       "      <td>18/12/2022 17:32:26</td>\n",
       "      <td>L-D: 24H</td>\n",
       "      <td>28500</td>\n",
       "      <td>MADRID</td>\n",
       "      <td>Arganda del Rey</td>\n",
       "      <td>ARGANDA</td>\n",
       "      <td>CARRETERA M-832 KM. 3</td>\n",
       "      <td>REPSOL</td>\n",
       "      <td>1.752</td>\n",
       "      <td>1.652833</td>\n",
       "      <td>...</td>\n",
       "      <td>1.341226</td>\n",
       "      <td>1.822</td>\n",
       "      <td>1.569</td>\n",
       "      <td>1.747942</td>\n",
       "      <td>1.622</td>\n",
       "      <td>1.566583</td>\n",
       "      <td>1.581175</td>\n",
       "      <td>NaN</td>\n",
       "      <td>1.759333</td>\n",
       "      <td>1.739375</td>\n",
       "    </tr>\n",
       "    <tr>\n",
       "      <th>6576</th>\n",
       "      <td>18/12/2022 17:32:26</td>\n",
       "      <td>L-V: 06:00-22:00; S-D: 08:00-22:00</td>\n",
       "      <td>28500</td>\n",
       "      <td>MADRID</td>\n",
       "      <td>Arganda del Rey</td>\n",
       "      <td>ARGANDA</td>\n",
       "      <td>AVDA DE MADRID, 103</td>\n",
       "      <td>REPSOL</td>\n",
       "      <td>1.719</td>\n",
       "      <td>1.652833</td>\n",
       "      <td>...</td>\n",
       "      <td>1.341226</td>\n",
       "      <td>1.729</td>\n",
       "      <td>1.569</td>\n",
       "      <td>1.747942</td>\n",
       "      <td>1.639</td>\n",
       "      <td>1.566583</td>\n",
       "      <td>1.581175</td>\n",
       "      <td>NaN</td>\n",
       "      <td>1.759333</td>\n",
       "      <td>1.739375</td>\n",
       "    </tr>\n",
       "  </tbody>\n",
       "</table>\n",
       "<p>12 rows × 23 columns</p>\n",
       "</div>"
      ],
      "text/plain": [
       "                    Fecha                             Horario   C.P.  \\\n",
       "6577  18/12/2022 17:32:26                    L-D: 06:00-00:00  28500   \n",
       "6575  18/12/2022 17:32:26                            L-D: 24H  28500   \n",
       "6573  18/12/2022 17:32:26                            L-D: 24H  28500   \n",
       "6579  18/12/2022 17:32:26                            L-D: 24H  28500   \n",
       "6578  18/12/2022 17:32:26                    L-D: 06:00-22:00  28500   \n",
       "6571  18/12/2022 17:32:26                            L-D: 24H  28500   \n",
       "6581  18/12/2022 17:32:26                    L-D: 07:00-22:00  28500   \n",
       "6574  18/12/2022 17:32:26                            L-D: 24H  28500   \n",
       "6572  18/12/2022 17:32:26                            L-D: 24H  28500   \n",
       "6582  18/12/2022 17:32:26                              L: 24H  28500   \n",
       "6580  18/12/2022 17:32:26                            L-D: 24H  28500   \n",
       "6576  18/12/2022 17:32:26  L-V: 06:00-22:00; S-D: 08:00-22:00  28500   \n",
       "\n",
       "     Provincia        Municipio Localidad  \\\n",
       "6577    MADRID  Arganda del Rey   ARGANDA   \n",
       "6575    MADRID  Arganda del Rey   ARGANDA   \n",
       "6573    MADRID  Arganda del Rey   ARGANDA   \n",
       "6579    MADRID  Arganda del Rey   ARGANDA   \n",
       "6578    MADRID  Arganda del Rey   ARGANDA   \n",
       "6571    MADRID  Arganda del Rey   ARGANDA   \n",
       "6581    MADRID  Arganda del Rey   ARGANDA   \n",
       "6574    MADRID  Arganda del Rey   ARGANDA   \n",
       "6572    MADRID  Arganda del Rey   ARGANDA   \n",
       "6582    MADRID  Arganda del Rey   ARGANDA   \n",
       "6580    MADRID  Arganda del Rey   ARGANDA   \n",
       "6576    MADRID  Arganda del Rey   ARGANDA   \n",
       "\n",
       "                                              Dirección Proveedor de Servicio  \\\n",
       "6577                             AVENIDA DE MADRID, 126            ATEOTROSIL   \n",
       "6575  CAMINO CAMINO DE SAN MARTÍN DE LA VEGA A ARGAN...          BALLEOTROSIL   \n",
       "6573                    CAMINO SAN MARTIN DE LA VEGA, 8          BALLEOTROSIL   \n",
       "6579                         AVENIDA EJERCITO (DEL), 44                    BP   \n",
       "6578                              AVENIDA DE MADRID, 37                    BP   \n",
       "6571                            AVENIDA VALDEARGANDA, 8                 CEPSA   \n",
       "6581                         AVENIDA FINANZAUTO (DE), 2              DELFIOIL   \n",
       "6574                            AVENIDA MADRID (DE), SN             PETROPRIX   \n",
       "6572                            AVENIDA MADRID (DE), 66            PLEOTROSIL   \n",
       "6582                              CARRETERA M-832 KM. 3                REPSOL   \n",
       "6580                              CARRETERA M-832 KM. 3                REPSOL   \n",
       "6576                                AVDA DE MADRID, 103                REPSOL   \n",
       "\n",
       "      Gasoleo A  Media C.P. Gasoleo A  ...  Media Nacional Gasoleo B  \\\n",
       "6577      1.599              1.652833  ...                  1.341226   \n",
       "6575      1.577              1.652833  ...                  1.341226   \n",
       "6573      1.577              1.652833  ...                  1.341226   \n",
       "6579      1.719              1.652833  ...                  1.341226   \n",
       "6578      1.719              1.652833  ...                  1.341226   \n",
       "6571      1.709              1.652833  ...                  1.341226   \n",
       "6581      1.567              1.652833  ...                  1.341226   \n",
       "6574      1.577              1.652833  ...                  1.341226   \n",
       "6572      1.567              1.652833  ...                  1.341226   \n",
       "6582      1.752              1.652833  ...                  1.341226   \n",
       "6580      1.752              1.652833  ...                  1.341226   \n",
       "6576      1.719              1.652833  ...                  1.341226   \n",
       "\n",
       "      Gasoleo Premium  Media C.P. Gasoleo P  Media Nacional Gasoleo P  \\\n",
       "6577            1.609                 1.569                  1.747942   \n",
       "6575              NaN                 1.569                  1.747942   \n",
       "6573              NaN                 1.569                  1.747942   \n",
       "6579            1.809                 1.569                  1.747942   \n",
       "6578            1.809                 1.569                  1.747942   \n",
       "6571            1.809                 1.569                  1.747942   \n",
       "6581              NaN                 1.569                  1.747942   \n",
       "6574              NaN                 1.569                  1.747942   \n",
       "6572              NaN                 1.569                  1.747942   \n",
       "6582              NaN                 1.569                  1.747942   \n",
       "6580            1.822                 1.569                  1.747942   \n",
       "6576            1.729                 1.569                  1.747942   \n",
       "\n",
       "      Gasolina 95 E5  Media C.P. Gasolina 95  Media Nacional Gasolina 95  \\\n",
       "6577           1.549                1.566583                    1.581175   \n",
       "6575           1.507                1.566583                    1.581175   \n",
       "6573           1.507                1.566583                    1.581175   \n",
       "6579           1.629                1.566583                    1.581175   \n",
       "6578           1.629                1.566583                    1.581175   \n",
       "6571           1.604                1.566583                    1.581175   \n",
       "6581           1.497                1.566583                    1.581175   \n",
       "6574           1.497                1.566583                    1.581175   \n",
       "6572           1.497                1.566583                    1.581175   \n",
       "6582           1.622                1.566583                    1.581175   \n",
       "6580           1.622                1.566583                    1.581175   \n",
       "6576           1.639                1.566583                    1.581175   \n",
       "\n",
       "      Gasolina 98 E5  Media C.P. Gasolina 98  Media Nacional Gasolina 98  \n",
       "6577             NaN                1.759333                    1.739375  \n",
       "6575             NaN                1.759333                    1.739375  \n",
       "6573             NaN                1.759333                    1.739375  \n",
       "6579           1.771                1.759333                    1.739375  \n",
       "6578           1.771                1.759333                    1.739375  \n",
       "6571           1.736                1.759333                    1.739375  \n",
       "6581             NaN                1.759333                    1.739375  \n",
       "6574             NaN                1.759333                    1.739375  \n",
       "6572             NaN                1.759333                    1.739375  \n",
       "6582             NaN                1.759333                    1.739375  \n",
       "6580             NaN                1.759333                    1.739375  \n",
       "6576             NaN                1.759333                    1.739375  \n",
       "\n",
       "[12 rows x 23 columns]"
      ]
     },
     "execution_count": 147,
     "metadata": {},
     "output_type": "execute_result"
    }
   ],
   "source": [
    "df_n[df_n['C.P.'] == \"28500\"]"
   ]
  },
  {
   "cell_type": "code",
   "execution_count": 148,
   "id": "2b4ed723",
   "metadata": {},
   "outputs": [
    {
     "data": {
      "text/html": [
       "<div>\n",
       "<style scoped>\n",
       "    .dataframe tbody tr th:only-of-type {\n",
       "        vertical-align: middle;\n",
       "    }\n",
       "\n",
       "    .dataframe tbody tr th {\n",
       "        vertical-align: top;\n",
       "    }\n",
       "\n",
       "    .dataframe thead th {\n",
       "        text-align: right;\n",
       "    }\n",
       "</style>\n",
       "<table border=\"1\" class=\"dataframe\">\n",
       "  <thead>\n",
       "    <tr style=\"text-align: right;\">\n",
       "      <th></th>\n",
       "      <th>Fecha</th>\n",
       "      <th>Horario</th>\n",
       "      <th>C.P.</th>\n",
       "      <th>Provincia</th>\n",
       "      <th>Municipio</th>\n",
       "      <th>Localidad</th>\n",
       "      <th>Dirección</th>\n",
       "      <th>Proveedor de Servicio</th>\n",
       "      <th>Gasoleo A</th>\n",
       "      <th>Media C.P. Gasoleo A</th>\n",
       "      <th>...</th>\n",
       "      <th>Media Nacional Gasoleo B</th>\n",
       "      <th>Gasoleo Premium</th>\n",
       "      <th>Media C.P. Gasoleo P</th>\n",
       "      <th>Media Nacional Gasoleo P</th>\n",
       "      <th>Gasolina 95 E5</th>\n",
       "      <th>Media C.P. Gasolina 95</th>\n",
       "      <th>Media Nacional Gasolina 95</th>\n",
       "      <th>Gasolina 98 E5</th>\n",
       "      <th>Media C.P. Gasolina 98</th>\n",
       "      <th>Media Nacional Gasolina 98</th>\n",
       "    </tr>\n",
       "  </thead>\n",
       "  <tbody>\n",
       "    <tr>\n",
       "      <th>7283</th>\n",
       "      <td>18/12/2022 17:32:26</td>\n",
       "      <td>L-D: 06:00-22:00</td>\n",
       "      <td>28609</td>\n",
       "      <td>MADRID</td>\n",
       "      <td>Villanueva de Perales</td>\n",
       "      <td>VILLANUEVA DE PERALES</td>\n",
       "      <td>CARRETERA M-501 KM. 26,800</td>\n",
       "      <td>GALP</td>\n",
       "      <td>1.699</td>\n",
       "      <td>1.6915</td>\n",
       "      <td>...</td>\n",
       "      <td>1.341226</td>\n",
       "      <td>1.769</td>\n",
       "      <td>NaN</td>\n",
       "      <td>1.747942</td>\n",
       "      <td>1.589</td>\n",
       "      <td>1.559</td>\n",
       "      <td>1.581175</td>\n",
       "      <td>1.709</td>\n",
       "      <td>1.679</td>\n",
       "      <td>1.739375</td>\n",
       "    </tr>\n",
       "    <tr>\n",
       "      <th>7282</th>\n",
       "      <td>18/12/2022 17:32:26</td>\n",
       "      <td>L-D: 24H</td>\n",
       "      <td>28609</td>\n",
       "      <td>MADRID</td>\n",
       "      <td>Villanueva de Perales</td>\n",
       "      <td>VILLANUEVA DE PERALES</td>\n",
       "      <td>CARRETERA M-501 KM. 27</td>\n",
       "      <td>GALP</td>\n",
       "      <td>1.689</td>\n",
       "      <td>1.6915</td>\n",
       "      <td>...</td>\n",
       "      <td>1.341226</td>\n",
       "      <td>1.759</td>\n",
       "      <td>NaN</td>\n",
       "      <td>1.747942</td>\n",
       "      <td>1.549</td>\n",
       "      <td>1.559</td>\n",
       "      <td>1.581175</td>\n",
       "      <td>1.669</td>\n",
       "      <td>1.679</td>\n",
       "      <td>1.739375</td>\n",
       "    </tr>\n",
       "    <tr>\n",
       "      <th>7200</th>\n",
       "      <td>18/12/2022 17:32:26</td>\n",
       "      <td>L-D: 07:00-23:00</td>\n",
       "      <td>28609</td>\n",
       "      <td>MADRID</td>\n",
       "      <td>Sevilla la Nueva</td>\n",
       "      <td>SEVILLA LA NUEVA</td>\n",
       "      <td>CARRETERA M-600 KM. 44</td>\n",
       "      <td>GALP</td>\n",
       "      <td>1.689</td>\n",
       "      <td>1.6915</td>\n",
       "      <td>...</td>\n",
       "      <td>1.341226</td>\n",
       "      <td>1.759</td>\n",
       "      <td>NaN</td>\n",
       "      <td>1.747942</td>\n",
       "      <td>1.549</td>\n",
       "      <td>1.559</td>\n",
       "      <td>1.581175</td>\n",
       "      <td>1.669</td>\n",
       "      <td>1.679</td>\n",
       "      <td>1.739375</td>\n",
       "    </tr>\n",
       "    <tr>\n",
       "      <th>7199</th>\n",
       "      <td>18/12/2022 17:32:26</td>\n",
       "      <td>L-D: 07:00-23:00</td>\n",
       "      <td>28609</td>\n",
       "      <td>MADRID</td>\n",
       "      <td>Sevilla la Nueva</td>\n",
       "      <td>SEVILLA LA NUEVA</td>\n",
       "      <td>CARRETERA M-600 KM. 44</td>\n",
       "      <td>GALP</td>\n",
       "      <td>1.689</td>\n",
       "      <td>1.6915</td>\n",
       "      <td>...</td>\n",
       "      <td>1.341226</td>\n",
       "      <td>1.759</td>\n",
       "      <td>NaN</td>\n",
       "      <td>1.747942</td>\n",
       "      <td>1.549</td>\n",
       "      <td>1.559</td>\n",
       "      <td>1.581175</td>\n",
       "      <td>1.669</td>\n",
       "      <td>1.679</td>\n",
       "      <td>1.739375</td>\n",
       "    </tr>\n",
       "  </tbody>\n",
       "</table>\n",
       "<p>4 rows × 23 columns</p>\n",
       "</div>"
      ],
      "text/plain": [
       "                    Fecha           Horario   C.P. Provincia  \\\n",
       "7283  18/12/2022 17:32:26  L-D: 06:00-22:00  28609    MADRID   \n",
       "7282  18/12/2022 17:32:26          L-D: 24H  28609    MADRID   \n",
       "7200  18/12/2022 17:32:26  L-D: 07:00-23:00  28609    MADRID   \n",
       "7199  18/12/2022 17:32:26  L-D: 07:00-23:00  28609    MADRID   \n",
       "\n",
       "                  Municipio              Localidad  \\\n",
       "7283  Villanueva de Perales  VILLANUEVA DE PERALES   \n",
       "7282  Villanueva de Perales  VILLANUEVA DE PERALES   \n",
       "7200       Sevilla la Nueva       SEVILLA LA NUEVA   \n",
       "7199       Sevilla la Nueva       SEVILLA LA NUEVA   \n",
       "\n",
       "                       Dirección Proveedor de Servicio  Gasoleo A  \\\n",
       "7283  CARRETERA M-501 KM. 26,800                  GALP      1.699   \n",
       "7282      CARRETERA M-501 KM. 27                  GALP      1.689   \n",
       "7200      CARRETERA M-600 KM. 44                  GALP      1.689   \n",
       "7199      CARRETERA M-600 KM. 44                  GALP      1.689   \n",
       "\n",
       "      Media C.P. Gasoleo A  ...  Media Nacional Gasoleo B  Gasoleo Premium  \\\n",
       "7283                1.6915  ...                  1.341226            1.769   \n",
       "7282                1.6915  ...                  1.341226            1.759   \n",
       "7200                1.6915  ...                  1.341226            1.759   \n",
       "7199                1.6915  ...                  1.341226            1.759   \n",
       "\n",
       "      Media C.P. Gasoleo P  Media Nacional Gasoleo P  Gasolina 95 E5  \\\n",
       "7283                   NaN                  1.747942           1.589   \n",
       "7282                   NaN                  1.747942           1.549   \n",
       "7200                   NaN                  1.747942           1.549   \n",
       "7199                   NaN                  1.747942           1.549   \n",
       "\n",
       "      Media C.P. Gasolina 95  Media Nacional Gasolina 95  Gasolina 98 E5  \\\n",
       "7283                   1.559                    1.581175           1.709   \n",
       "7282                   1.559                    1.581175           1.669   \n",
       "7200                   1.559                    1.581175           1.669   \n",
       "7199                   1.559                    1.581175           1.669   \n",
       "\n",
       "      Media C.P. Gasolina 98  Media Nacional Gasolina 98  \n",
       "7283                   1.679                    1.739375  \n",
       "7282                   1.679                    1.739375  \n",
       "7200                   1.679                    1.739375  \n",
       "7199                   1.679                    1.739375  \n",
       "\n",
       "[4 rows x 23 columns]"
      ]
     },
     "execution_count": 148,
     "metadata": {},
     "output_type": "execute_result"
    }
   ],
   "source": [
    "# Comprobación\n",
    "x1 = df_n[\"C.P.\"]=='28609'\n",
    "x2 = df_n[x1]\n",
    "x2"
   ]
  },
  {
   "cell_type": "code",
   "execution_count": 149,
   "id": "c5f55514",
   "metadata": {},
   "outputs": [],
   "source": [
    "########\n",
    "def cp_media(x):\n",
    "# x = Código Postal\n",
    "# y = Tipo de combustible para el precio mínimo\n",
    "    cod_postal = df_n[df_n['C.P.'] == x]\n",
    "    media_cp = cod_postal[['Gasoleo A']].mean()\n",
    "    return media_cp"
   ]
  },
  {
   "cell_type": "code",
   "execution_count": 150,
   "id": "6b9180a1",
   "metadata": {},
   "outputs": [
    {
     "data": {
      "text/plain": [
       "Gasoleo A    1.614\n",
       "dtype: float64"
      ]
     },
     "execution_count": 150,
     "metadata": {},
     "output_type": "execute_result"
    }
   ],
   "source": [
    "#####Comprobacion#####\n",
    "cp_media('28760')\n"
   ]
  },
  {
   "cell_type": "code",
   "execution_count": 151,
   "id": "76cc76f7",
   "metadata": {},
   "outputs": [],
   "source": [
    "# Precio mínimo de combstible en una Provincia  \n",
    "def provincia_minimo(x, y):\n",
    "# x = Provincia\n",
    "# y = tipo de combustible     \n",
    "    provincia = df_n[df_n[\"Provincia\"] == x]\n",
    "    minimo_prov = provincia.loc[provincia[[y]].idxmin()]\n",
    "    return minimo_prov"
   ]
  },
  {
   "cell_type": "code",
   "execution_count": 152,
   "id": "9e76f0ba",
   "metadata": {},
   "outputs": [
    {
     "data": {
      "text/html": [
       "<div>\n",
       "<style scoped>\n",
       "    .dataframe tbody tr th:only-of-type {\n",
       "        vertical-align: middle;\n",
       "    }\n",
       "\n",
       "    .dataframe tbody tr th {\n",
       "        vertical-align: top;\n",
       "    }\n",
       "\n",
       "    .dataframe thead th {\n",
       "        text-align: right;\n",
       "    }\n",
       "</style>\n",
       "<table border=\"1\" class=\"dataframe\">\n",
       "  <thead>\n",
       "    <tr style=\"text-align: right;\">\n",
       "      <th></th>\n",
       "      <th>Fecha</th>\n",
       "      <th>Horario</th>\n",
       "      <th>C.P.</th>\n",
       "      <th>Provincia</th>\n",
       "      <th>Municipio</th>\n",
       "      <th>Localidad</th>\n",
       "      <th>Dirección</th>\n",
       "      <th>Proveedor de Servicio</th>\n",
       "      <th>Gasoleo A</th>\n",
       "      <th>Media C.P. Gasoleo A</th>\n",
       "      <th>...</th>\n",
       "      <th>Media Nacional Gasoleo B</th>\n",
       "      <th>Gasoleo Premium</th>\n",
       "      <th>Media C.P. Gasoleo P</th>\n",
       "      <th>Media Nacional Gasoleo P</th>\n",
       "      <th>Gasolina 95 E5</th>\n",
       "      <th>Media C.P. Gasolina 95</th>\n",
       "      <th>Media Nacional Gasolina 95</th>\n",
       "      <th>Gasolina 98 E5</th>\n",
       "      <th>Media C.P. Gasolina 98</th>\n",
       "      <th>Media Nacional Gasolina 98</th>\n",
       "    </tr>\n",
       "  </thead>\n",
       "  <tbody>\n",
       "    <tr>\n",
       "      <th>6563</th>\n",
       "      <td>18/12/2022 17:32:26</td>\n",
       "      <td>L-D: 24H</td>\n",
       "      <td>28430</td>\n",
       "      <td>MADRID</td>\n",
       "      <td>Alpedrete</td>\n",
       "      <td>ALPEDRETE</td>\n",
       "      <td>CALLE PUERTA DE ABAJO, 57</td>\n",
       "      <td>PETROPRIX</td>\n",
       "      <td>1.457</td>\n",
       "      <td>1.523667</td>\n",
       "      <td>...</td>\n",
       "      <td>1.341226</td>\n",
       "      <td>NaN</td>\n",
       "      <td>NaN</td>\n",
       "      <td>1.747942</td>\n",
       "      <td>1.397</td>\n",
       "      <td>1.450333</td>\n",
       "      <td>1.581175</td>\n",
       "      <td>NaN</td>\n",
       "      <td>NaN</td>\n",
       "      <td>1.739375</td>\n",
       "    </tr>\n",
       "  </tbody>\n",
       "</table>\n",
       "<p>1 rows × 23 columns</p>\n",
       "</div>"
      ],
      "text/plain": [
       "                    Fecha   Horario   C.P. Provincia  Municipio  Localidad  \\\n",
       "6563  18/12/2022 17:32:26  L-D: 24H  28430    MADRID  Alpedrete  ALPEDRETE   \n",
       "\n",
       "                      Dirección Proveedor de Servicio  Gasoleo A  \\\n",
       "6563  CALLE PUERTA DE ABAJO, 57             PETROPRIX      1.457   \n",
       "\n",
       "      Media C.P. Gasoleo A  ...  Media Nacional Gasoleo B  Gasoleo Premium  \\\n",
       "6563              1.523667  ...                  1.341226              NaN   \n",
       "\n",
       "      Media C.P. Gasoleo P  Media Nacional Gasoleo P  Gasolina 95 E5  \\\n",
       "6563                   NaN                  1.747942           1.397   \n",
       "\n",
       "      Media C.P. Gasolina 95  Media Nacional Gasolina 95  Gasolina 98 E5  \\\n",
       "6563                1.450333                    1.581175             NaN   \n",
       "\n",
       "      Media C.P. Gasolina 98  Media Nacional Gasolina 98  \n",
       "6563                     NaN                    1.739375  \n",
       "\n",
       "[1 rows x 23 columns]"
      ]
     },
     "execution_count": 152,
     "metadata": {},
     "output_type": "execute_result"
    }
   ],
   "source": [
    "provincia_minimo('MADRID', 'Gasoleo A')"
   ]
  },
  {
   "cell_type": "code",
   "execution_count": 153,
   "id": "94daf5b4",
   "metadata": {},
   "outputs": [],
   "source": [
    "# Precio mínimo de combstible en un Municipio  \n",
    "def municipio_minimo(x, y):\n",
    "# x = Municipio\n",
    "# y = Tipo de Combustible    \n",
    "    municipio = df_n[df_n[\"Municipio\"] == x]\n",
    "    municipio_min = municipio.loc[municipio[[y]].idxmin()]\n",
    "    return municipio"
   ]
  },
  {
   "cell_type": "code",
   "execution_count": 154,
   "id": "870d8abe",
   "metadata": {},
   "outputs": [
    {
     "data": {
      "text/html": [
       "<div>\n",
       "<style scoped>\n",
       "    .dataframe tbody tr th:only-of-type {\n",
       "        vertical-align: middle;\n",
       "    }\n",
       "\n",
       "    .dataframe tbody tr th {\n",
       "        vertical-align: top;\n",
       "    }\n",
       "\n",
       "    .dataframe thead th {\n",
       "        text-align: right;\n",
       "    }\n",
       "</style>\n",
       "<table border=\"1\" class=\"dataframe\">\n",
       "  <thead>\n",
       "    <tr style=\"text-align: right;\">\n",
       "      <th></th>\n",
       "      <th>Fecha</th>\n",
       "      <th>Horario</th>\n",
       "      <th>C.P.</th>\n",
       "      <th>Provincia</th>\n",
       "      <th>Municipio</th>\n",
       "      <th>Localidad</th>\n",
       "      <th>Dirección</th>\n",
       "      <th>Proveedor de Servicio</th>\n",
       "      <th>Gasoleo A</th>\n",
       "      <th>Media C.P. Gasoleo A</th>\n",
       "      <th>...</th>\n",
       "      <th>Media Nacional Gasoleo B</th>\n",
       "      <th>Gasoleo Premium</th>\n",
       "      <th>Media C.P. Gasoleo P</th>\n",
       "      <th>Media Nacional Gasoleo P</th>\n",
       "      <th>Gasolina 95 E5</th>\n",
       "      <th>Media C.P. Gasolina 95</th>\n",
       "      <th>Media Nacional Gasolina 95</th>\n",
       "      <th>Gasolina 98 E5</th>\n",
       "      <th>Media C.P. Gasolina 98</th>\n",
       "      <th>Media Nacional Gasolina 98</th>\n",
       "    </tr>\n",
       "  </thead>\n",
       "  <tbody>\n",
       "    <tr>\n",
       "      <th>6603</th>\n",
       "      <td>18/12/2022 17:32:26</td>\n",
       "      <td>L-S: 7:30-20:30; D: 8:30-20:00</td>\n",
       "      <td>28470</td>\n",
       "      <td>MADRID</td>\n",
       "      <td>Cercedilla</td>\n",
       "      <td>CERCEDILLA</td>\n",
       "      <td>CARRETERA M 622 (CARRETERA GUADARRAMA A LA FUE...</td>\n",
       "      <td>REPSOL</td>\n",
       "      <td>1.679</td>\n",
       "      <td>1.679</td>\n",
       "      <td>...</td>\n",
       "      <td>1.341226</td>\n",
       "      <td>NaN</td>\n",
       "      <td>NaN</td>\n",
       "      <td>1.747942</td>\n",
       "      <td>1.559</td>\n",
       "      <td>1.559</td>\n",
       "      <td>1.581175</td>\n",
       "      <td>NaN</td>\n",
       "      <td>NaN</td>\n",
       "      <td>1.739375</td>\n",
       "    </tr>\n",
       "  </tbody>\n",
       "</table>\n",
       "<p>1 rows × 23 columns</p>\n",
       "</div>"
      ],
      "text/plain": [
       "                    Fecha                         Horario   C.P. Provincia  \\\n",
       "6603  18/12/2022 17:32:26  L-S: 7:30-20:30; D: 8:30-20:00  28470    MADRID   \n",
       "\n",
       "       Municipio   Localidad  \\\n",
       "6603  Cercedilla  CERCEDILLA   \n",
       "\n",
       "                                              Dirección Proveedor de Servicio  \\\n",
       "6603  CARRETERA M 622 (CARRETERA GUADARRAMA A LA FUE...                REPSOL   \n",
       "\n",
       "      Gasoleo A  Media C.P. Gasoleo A  ...  Media Nacional Gasoleo B  \\\n",
       "6603      1.679                 1.679  ...                  1.341226   \n",
       "\n",
       "      Gasoleo Premium  Media C.P. Gasoleo P  Media Nacional Gasoleo P  \\\n",
       "6603              NaN                   NaN                  1.747942   \n",
       "\n",
       "      Gasolina 95 E5  Media C.P. Gasolina 95  Media Nacional Gasolina 95  \\\n",
       "6603           1.559                   1.559                    1.581175   \n",
       "\n",
       "      Gasolina 98 E5  Media C.P. Gasolina 98  Media Nacional Gasolina 98  \n",
       "6603             NaN                     NaN                    1.739375  \n",
       "\n",
       "[1 rows x 23 columns]"
      ]
     },
     "execution_count": 154,
     "metadata": {},
     "output_type": "execute_result"
    }
   ],
   "source": [
    "municipio_minimo('Cercedilla', 'Gasoleo A')"
   ]
  },
  {
   "cell_type": "code",
   "execution_count": 155,
   "id": "9f08be70",
   "metadata": {},
   "outputs": [],
   "source": [
    "# # Precio mínimo de combstible en un proveedor de estación de servicio  \n",
    "def gasolinera_minimo(x, y):\n",
    "# x = Proveedor de estación de servicio\n",
    "# Y = Tipo de Combustible    \n",
    "    proveedor = df_n[df_n[\"Proveedor de Servicio\"] == x]\n",
    "    minimo_prov = proveedor.loc[proveedor[[y]].idxmin()]\n",
    "    return minimo_prov"
   ]
  },
  {
   "cell_type": "code",
   "execution_count": 156,
   "id": "c3776eb1",
   "metadata": {},
   "outputs": [
    {
     "data": {
      "text/html": [
       "<div>\n",
       "<style scoped>\n",
       "    .dataframe tbody tr th:only-of-type {\n",
       "        vertical-align: middle;\n",
       "    }\n",
       "\n",
       "    .dataframe tbody tr th {\n",
       "        vertical-align: top;\n",
       "    }\n",
       "\n",
       "    .dataframe thead th {\n",
       "        text-align: right;\n",
       "    }\n",
       "</style>\n",
       "<table border=\"1\" class=\"dataframe\">\n",
       "  <thead>\n",
       "    <tr style=\"text-align: right;\">\n",
       "      <th></th>\n",
       "      <th>Fecha</th>\n",
       "      <th>Horario</th>\n",
       "      <th>C.P.</th>\n",
       "      <th>Provincia</th>\n",
       "      <th>Municipio</th>\n",
       "      <th>Localidad</th>\n",
       "      <th>Dirección</th>\n",
       "      <th>Proveedor de Servicio</th>\n",
       "      <th>Gasoleo A</th>\n",
       "      <th>Media C.P. Gasoleo A</th>\n",
       "      <th>...</th>\n",
       "      <th>Media Nacional Gasoleo B</th>\n",
       "      <th>Gasoleo Premium</th>\n",
       "      <th>Media C.P. Gasoleo P</th>\n",
       "      <th>Media Nacional Gasoleo P</th>\n",
       "      <th>Gasolina 95 E5</th>\n",
       "      <th>Media C.P. Gasolina 95</th>\n",
       "      <th>Media Nacional Gasolina 95</th>\n",
       "      <th>Gasolina 98 E5</th>\n",
       "      <th>Media C.P. Gasolina 98</th>\n",
       "      <th>Media Nacional Gasolina 98</th>\n",
       "    </tr>\n",
       "  </thead>\n",
       "  <tbody>\n",
       "    <tr>\n",
       "      <th>9283</th>\n",
       "      <td>18/12/2022 17:32:26</td>\n",
       "      <td>L-D: 06:30-00:00</td>\n",
       "      <td>38415</td>\n",
       "      <td>SANTA CRUZ DE TENERIFE</td>\n",
       "      <td>Realejos (Los)</td>\n",
       "      <td>PALO BLANCO-LLANADAS</td>\n",
       "      <td>CARRETERA TF-326 KM. 4,159</td>\n",
       "      <td>REPSOL</td>\n",
       "      <td>1.339</td>\n",
       "      <td>1.339</td>\n",
       "      <td>...</td>\n",
       "      <td>1.341226</td>\n",
       "      <td>NaN</td>\n",
       "      <td>NaN</td>\n",
       "      <td>1.747942</td>\n",
       "      <td>1.277</td>\n",
       "      <td>1.277</td>\n",
       "      <td>1.581175</td>\n",
       "      <td>1.369</td>\n",
       "      <td>1.369</td>\n",
       "      <td>1.739375</td>\n",
       "    </tr>\n",
       "  </tbody>\n",
       "</table>\n",
       "<p>1 rows × 23 columns</p>\n",
       "</div>"
      ],
      "text/plain": [
       "                    Fecha           Horario   C.P.               Provincia  \\\n",
       "9283  18/12/2022 17:32:26  L-D: 06:30-00:00  38415  SANTA CRUZ DE TENERIFE   \n",
       "\n",
       "           Municipio             Localidad                   Dirección  \\\n",
       "9283  Realejos (Los)  PALO BLANCO-LLANADAS  CARRETERA TF-326 KM. 4,159   \n",
       "\n",
       "     Proveedor de Servicio  Gasoleo A  Media C.P. Gasoleo A  ...  \\\n",
       "9283                REPSOL      1.339                 1.339  ...   \n",
       "\n",
       "      Media Nacional Gasoleo B  Gasoleo Premium  Media C.P. Gasoleo P  \\\n",
       "9283                  1.341226              NaN                   NaN   \n",
       "\n",
       "      Media Nacional Gasoleo P  Gasolina 95 E5  Media C.P. Gasolina 95  \\\n",
       "9283                  1.747942           1.277                   1.277   \n",
       "\n",
       "      Media Nacional Gasolina 95  Gasolina 98 E5  Media C.P. Gasolina 98  \\\n",
       "9283                    1.581175           1.369                   1.369   \n",
       "\n",
       "      Media Nacional Gasolina 98  \n",
       "9283                    1.739375  \n",
       "\n",
       "[1 rows x 23 columns]"
      ]
     },
     "execution_count": 156,
     "metadata": {},
     "output_type": "execute_result"
    }
   ],
   "source": [
    "gasolinera_minimo('REPSOL', 'Gasoleo A')"
   ]
  },
  {
   "cell_type": "code",
   "execution_count": 157,
   "id": "07fe3213",
   "metadata": {},
   "outputs": [
    {
     "data": {
      "text/plain": [
       "function"
      ]
     },
     "execution_count": 157,
     "metadata": {},
     "output_type": "execute_result"
    }
   ],
   "source": [
    "# Función para convertir códigos postales\n",
    "def convert(x):\n",
    "# x: Municipio    \n",
    "    municipio = df_n[df_n[\"Municipio\"] == x]\n",
    "    cp = municipio[[\"C.P.\", \"Municipio\", \"Proveedor de Servicio\", \"Gasoleo A\"]].min()\n",
    "    return cp\n",
    "type(convert)\n",
    "    "
   ]
  },
  {
   "cell_type": "code",
   "execution_count": 158,
   "id": "ba996755",
   "metadata": {},
   "outputs": [
    {
     "data": {
      "text/plain": [
       "C.P.                        28931\n",
       "Municipio                Móstoles\n",
       "Proveedor de Servicio        AVIA\n",
       "Gasoleo A                   1.567\n",
       "dtype: object"
      ]
     },
     "execution_count": 158,
     "metadata": {},
     "output_type": "execute_result"
    }
   ],
   "source": [
    "convert('Móstoles')\n"
   ]
  },
  {
   "cell_type": "code",
   "execution_count": null,
   "id": "84f7107e",
   "metadata": {},
   "outputs": [],
   "source": []
  },
  {
   "cell_type": "code",
   "execution_count": 159,
   "id": "752fcb3c",
   "metadata": {},
   "outputs": [],
   "source": [
    "# Listado de Estaciones de Servicio por Municipio por Municipio\n",
    "# x: Municipio\n",
    "def gasolineras_municipio(x):\n",
    "    municipio = df_n[df_n[\"Municipio\"] == x]\n",
    "    eess_mun = pd.DataFrame(municipio[[\"Proveedor de Servicio\"]])\n",
    "    return eess_mun\n"
   ]
  },
  {
   "cell_type": "code",
   "execution_count": 160,
   "id": "9f8ea85c",
   "metadata": {},
   "outputs": [
    {
     "data": {
      "text/html": [
       "<div>\n",
       "<style scoped>\n",
       "    .dataframe tbody tr th:only-of-type {\n",
       "        vertical-align: middle;\n",
       "    }\n",
       "\n",
       "    .dataframe tbody tr th {\n",
       "        vertical-align: top;\n",
       "    }\n",
       "\n",
       "    .dataframe thead th {\n",
       "        text-align: right;\n",
       "    }\n",
       "</style>\n",
       "<table border=\"1\" class=\"dataframe\">\n",
       "  <thead>\n",
       "    <tr style=\"text-align: right;\">\n",
       "      <th></th>\n",
       "      <th>Proveedor de Servicio</th>\n",
       "    </tr>\n",
       "  </thead>\n",
       "  <tbody>\n",
       "    <tr>\n",
       "      <th>7073</th>\n",
       "      <td>BALLEOTROSIL</td>\n",
       "    </tr>\n",
       "    <tr>\n",
       "      <th>7068</th>\n",
       "      <td>CEPSA</td>\n",
       "    </tr>\n",
       "    <tr>\n",
       "      <th>7067</th>\n",
       "      <td>CEPSA</td>\n",
       "    </tr>\n",
       "    <tr>\n",
       "      <th>7066</th>\n",
       "      <td>CEPSA</td>\n",
       "    </tr>\n",
       "    <tr>\n",
       "      <th>7071</th>\n",
       "      <td>CHEAPOIL</td>\n",
       "    </tr>\n",
       "    <tr>\n",
       "      <th>7072</th>\n",
       "      <td>MAXPETROL</td>\n",
       "    </tr>\n",
       "    <tr>\n",
       "      <th>7070</th>\n",
       "      <td>REPSOL</td>\n",
       "    </tr>\n",
       "    <tr>\n",
       "      <th>7069</th>\n",
       "      <td>REPSOL</td>\n",
       "    </tr>\n",
       "  </tbody>\n",
       "</table>\n",
       "</div>"
      ],
      "text/plain": [
       "     Proveedor de Servicio\n",
       "7073          BALLEOTROSIL\n",
       "7068                 CEPSA\n",
       "7067                 CEPSA\n",
       "7066                 CEPSA\n",
       "7071              CHEAPOIL\n",
       "7072             MAXPETROL\n",
       "7070                REPSOL\n",
       "7069                REPSOL"
      ]
     },
     "execution_count": 160,
     "metadata": {},
     "output_type": "execute_result"
    }
   ],
   "source": [
    "gasolineras_municipio('Navalcarnero')"
   ]
  },
  {
   "cell_type": "code",
   "execution_count": 161,
   "id": "42d352ec",
   "metadata": {},
   "outputs": [],
   "source": [
    "# Listado de Gasolineras por Provincia\n",
    "#x=Provincia\n",
    "def gasolineras_provincia(x):\n",
    "    cp_x = df_n[df_n[\"Provincia\"] == x]\n",
    "    return cp_x\n"
   ]
  },
  {
   "cell_type": "code",
   "execution_count": 162,
   "id": "fb0d41d2",
   "metadata": {},
   "outputs": [
    {
     "data": {
      "text/html": [
       "<div>\n",
       "<style scoped>\n",
       "    .dataframe tbody tr th:only-of-type {\n",
       "        vertical-align: middle;\n",
       "    }\n",
       "\n",
       "    .dataframe tbody tr th {\n",
       "        vertical-align: top;\n",
       "    }\n",
       "\n",
       "    .dataframe thead th {\n",
       "        text-align: right;\n",
       "    }\n",
       "</style>\n",
       "<table border=\"1\" class=\"dataframe\">\n",
       "  <thead>\n",
       "    <tr style=\"text-align: right;\">\n",
       "      <th></th>\n",
       "      <th>Fecha</th>\n",
       "      <th>Horario</th>\n",
       "      <th>C.P.</th>\n",
       "      <th>Provincia</th>\n",
       "      <th>Municipio</th>\n",
       "      <th>Localidad</th>\n",
       "      <th>Dirección</th>\n",
       "      <th>Proveedor de Servicio</th>\n",
       "      <th>Gasoleo A</th>\n",
       "      <th>Media C.P. Gasoleo A</th>\n",
       "      <th>...</th>\n",
       "      <th>Media Nacional Gasoleo B</th>\n",
       "      <th>Gasoleo Premium</th>\n",
       "      <th>Media C.P. Gasoleo P</th>\n",
       "      <th>Media Nacional Gasoleo P</th>\n",
       "      <th>Gasolina 95 E5</th>\n",
       "      <th>Media C.P. Gasolina 95</th>\n",
       "      <th>Media Nacional Gasolina 95</th>\n",
       "      <th>Gasolina 98 E5</th>\n",
       "      <th>Media C.P. Gasolina 98</th>\n",
       "      <th>Media Nacional Gasolina 98</th>\n",
       "    </tr>\n",
       "  </thead>\n",
       "  <tbody>\n",
       "    <tr>\n",
       "      <th>5455</th>\n",
       "      <td>18/12/2022 17:32:26</td>\n",
       "      <td>L-D: 07:30-22:00</td>\n",
       "      <td>21320</td>\n",
       "      <td>HUELVA</td>\n",
       "      <td>Cerro de Andévalo (El)</td>\n",
       "      <td>CERRO DE ANDEVALO (EL)</td>\n",
       "      <td>CARRETERA A-485 KM. 100</td>\n",
       "      <td>AGLA</td>\n",
       "      <td>1.715</td>\n",
       "      <td>1.727000</td>\n",
       "      <td>...</td>\n",
       "      <td>1.341226</td>\n",
       "      <td>NaN</td>\n",
       "      <td>1.430000</td>\n",
       "      <td>1.747942</td>\n",
       "      <td>1.660</td>\n",
       "      <td>1.660000</td>\n",
       "      <td>1.581175</td>\n",
       "      <td>NaN</td>\n",
       "      <td>NaN</td>\n",
       "      <td>1.739375</td>\n",
       "    </tr>\n",
       "    <tr>\n",
       "      <th>5441</th>\n",
       "      <td>18/12/2022 17:32:26</td>\n",
       "      <td>L-S: 07:00-22:00; D: 08:00-22:00</td>\n",
       "      <td>21270</td>\n",
       "      <td>HUELVA</td>\n",
       "      <td>Cala</td>\n",
       "      <td>CALA</td>\n",
       "      <td>AVENIDA CONSTITUCION, 1</td>\n",
       "      <td>AGLA</td>\n",
       "      <td>1.735</td>\n",
       "      <td>1.735000</td>\n",
       "      <td>...</td>\n",
       "      <td>1.341226</td>\n",
       "      <td>NaN</td>\n",
       "      <td>NaN</td>\n",
       "      <td>1.747942</td>\n",
       "      <td>1.695</td>\n",
       "      <td>1.695000</td>\n",
       "      <td>1.581175</td>\n",
       "      <td>NaN</td>\n",
       "      <td>NaN</td>\n",
       "      <td>1.739375</td>\n",
       "    </tr>\n",
       "    <tr>\n",
       "      <th>5419</th>\n",
       "      <td>18/12/2022 17:32:26</td>\n",
       "      <td>L-D: 06:00-22:00</td>\n",
       "      <td>21200</td>\n",
       "      <td>HUELVA</td>\n",
       "      <td>Aracena</td>\n",
       "      <td>ARACENA</td>\n",
       "      <td>N-433 km 88,4</td>\n",
       "      <td>AGLA</td>\n",
       "      <td>1.689</td>\n",
       "      <td>1.677750</td>\n",
       "      <td>...</td>\n",
       "      <td>1.341226</td>\n",
       "      <td>NaN</td>\n",
       "      <td>NaN</td>\n",
       "      <td>1.747942</td>\n",
       "      <td>1.629</td>\n",
       "      <td>1.597750</td>\n",
       "      <td>1.581175</td>\n",
       "      <td>NaN</td>\n",
       "      <td>1.719000</td>\n",
       "      <td>1.739375</td>\n",
       "    </tr>\n",
       "    <tr>\n",
       "      <th>5436</th>\n",
       "      <td>18/12/2022 17:32:26</td>\n",
       "      <td>L-D: 24H</td>\n",
       "      <td>21710</td>\n",
       "      <td>HUELVA</td>\n",
       "      <td>Bollullos Par del Condado</td>\n",
       "      <td>BOLLULLOS PAR DEL CONDADO</td>\n",
       "      <td>CARRETERA CARRETERA H 611 KM 4,7 KM. SN</td>\n",
       "      <td>AGLA</td>\n",
       "      <td>1.769</td>\n",
       "      <td>1.689250</td>\n",
       "      <td>...</td>\n",
       "      <td>1.341226</td>\n",
       "      <td>1.819</td>\n",
       "      <td>1.344500</td>\n",
       "      <td>1.747942</td>\n",
       "      <td>1.689</td>\n",
       "      <td>1.609250</td>\n",
       "      <td>1.581175</td>\n",
       "      <td>1.829</td>\n",
       "      <td>1.772000</td>\n",
       "      <td>1.739375</td>\n",
       "    </tr>\n",
       "    <tr>\n",
       "      <th>5492</th>\n",
       "      <td>18/12/2022 17:32:26</td>\n",
       "      <td>L-D: 07:00-22:00</td>\n",
       "      <td>21440</td>\n",
       "      <td>HUELVA</td>\n",
       "      <td>Lepe</td>\n",
       "      <td>LEPE</td>\n",
       "      <td>CARRETERA H4116 KM. 1,7</td>\n",
       "      <td>AGLA</td>\n",
       "      <td>1.698</td>\n",
       "      <td>1.755667</td>\n",
       "      <td>...</td>\n",
       "      <td>1.341226</td>\n",
       "      <td>NaN</td>\n",
       "      <td>1.587000</td>\n",
       "      <td>1.747942</td>\n",
       "      <td>1.638</td>\n",
       "      <td>1.636500</td>\n",
       "      <td>1.581175</td>\n",
       "      <td>NaN</td>\n",
       "      <td>1.894000</td>\n",
       "      <td>1.739375</td>\n",
       "    </tr>\n",
       "    <tr>\n",
       "      <th>...</th>\n",
       "      <td>...</td>\n",
       "      <td>...</td>\n",
       "      <td>...</td>\n",
       "      <td>...</td>\n",
       "      <td>...</td>\n",
       "      <td>...</td>\n",
       "      <td>...</td>\n",
       "      <td>...</td>\n",
       "      <td>...</td>\n",
       "      <td>...</td>\n",
       "      <td>...</td>\n",
       "      <td>...</td>\n",
       "      <td>...</td>\n",
       "      <td>...</td>\n",
       "      <td>...</td>\n",
       "      <td>...</td>\n",
       "      <td>...</td>\n",
       "      <td>...</td>\n",
       "      <td>...</td>\n",
       "      <td>...</td>\n",
       "      <td>...</td>\n",
       "    </tr>\n",
       "    <tr>\n",
       "      <th>5480</th>\n",
       "      <td>18/12/2022 17:32:26</td>\n",
       "      <td>L-D: 06:30-22:30</td>\n",
       "      <td>21007</td>\n",
       "      <td>HUELVA</td>\n",
       "      <td>Huelva</td>\n",
       "      <td>HUELVA</td>\n",
       "      <td>AVDA. NUEVO COLOMBINO S/N.</td>\n",
       "      <td>TYCSA TRAFICO PESADO</td>\n",
       "      <td>1.715</td>\n",
       "      <td>1.736000</td>\n",
       "      <td>...</td>\n",
       "      <td>1.341226</td>\n",
       "      <td>1.775</td>\n",
       "      <td>1.459000</td>\n",
       "      <td>1.747942</td>\n",
       "      <td>1.625</td>\n",
       "      <td>1.639333</td>\n",
       "      <td>1.581175</td>\n",
       "      <td>1.775</td>\n",
       "      <td>1.788333</td>\n",
       "      <td>1.739375</td>\n",
       "    </tr>\n",
       "    <tr>\n",
       "      <th>5539</th>\n",
       "      <td>18/12/2022 17:32:26</td>\n",
       "      <td>L-V: 07:30-21:00; S: 09:00-13:00</td>\n",
       "      <td>21610</td>\n",
       "      <td>HUELVA</td>\n",
       "      <td>San Juan del Puerto</td>\n",
       "      <td>SAN JUAN DEL PUERTO</td>\n",
       "      <td>CARRETERA A-472 SEVILLA - HUELVA KM. 78,5</td>\n",
       "      <td>VALLE ANCHO</td>\n",
       "      <td>1.579</td>\n",
       "      <td>1.659750</td>\n",
       "      <td>...</td>\n",
       "      <td>1.341226</td>\n",
       "      <td>NaN</td>\n",
       "      <td>1.199000</td>\n",
       "      <td>1.747942</td>\n",
       "      <td>1.489</td>\n",
       "      <td>1.565000</td>\n",
       "      <td>1.581175</td>\n",
       "      <td>NaN</td>\n",
       "      <td>NaN</td>\n",
       "      <td>1.739375</td>\n",
       "    </tr>\n",
       "    <tr>\n",
       "      <th>5499</th>\n",
       "      <td>18/12/2022 17:32:26</td>\n",
       "      <td>L-D: 24H</td>\n",
       "      <td>21440</td>\n",
       "      <td>HUELVA</td>\n",
       "      <td>Lepe</td>\n",
       "      <td>LEPE</td>\n",
       "      <td>CALLE ESPARTEROS, 2</td>\n",
       "      <td>VIBE CARBURANTES</td>\n",
       "      <td>1.709</td>\n",
       "      <td>1.755667</td>\n",
       "      <td>...</td>\n",
       "      <td>1.341226</td>\n",
       "      <td>NaN</td>\n",
       "      <td>1.587000</td>\n",
       "      <td>1.747942</td>\n",
       "      <td>1.649</td>\n",
       "      <td>1.636500</td>\n",
       "      <td>1.581175</td>\n",
       "      <td>NaN</td>\n",
       "      <td>1.894000</td>\n",
       "      <td>1.739375</td>\n",
       "    </tr>\n",
       "    <tr>\n",
       "      <th>5491</th>\n",
       "      <td>18/12/2022 17:32:26</td>\n",
       "      <td>L-D: 07:00-23:00</td>\n",
       "      <td>21440</td>\n",
       "      <td>HUELVA</td>\n",
       "      <td>Lepe</td>\n",
       "      <td>LEPE</td>\n",
       "      <td>CARRETERA LEPE-EL TERRÓN, KM 1,5 KM. 1,5</td>\n",
       "      <td>VIBEOTROS</td>\n",
       "      <td>1.729</td>\n",
       "      <td>1.755667</td>\n",
       "      <td>...</td>\n",
       "      <td>1.341226</td>\n",
       "      <td>1.749</td>\n",
       "      <td>1.587000</td>\n",
       "      <td>1.747942</td>\n",
       "      <td>1.659</td>\n",
       "      <td>1.636500</td>\n",
       "      <td>1.581175</td>\n",
       "      <td>1.889</td>\n",
       "      <td>1.894000</td>\n",
       "      <td>1.739375</td>\n",
       "    </tr>\n",
       "    <tr>\n",
       "      <th>5534</th>\n",
       "      <td>18/12/2022 17:32:26</td>\n",
       "      <td>L-D: 24H</td>\n",
       "      <td>21720</td>\n",
       "      <td>HUELVA</td>\n",
       "      <td>Rociana del Condado</td>\n",
       "      <td>ROCIANA DEL CONDADO</td>\n",
       "      <td>POLIGONO HUERTAS NUEVAS PARCELA 3, 3</td>\n",
       "      <td>VIRSUR</td>\n",
       "      <td>1.560</td>\n",
       "      <td>1.603000</td>\n",
       "      <td>...</td>\n",
       "      <td>1.341226</td>\n",
       "      <td>NaN</td>\n",
       "      <td>1.210667</td>\n",
       "      <td>1.747942</td>\n",
       "      <td>1.460</td>\n",
       "      <td>1.496333</td>\n",
       "      <td>1.581175</td>\n",
       "      <td>NaN</td>\n",
       "      <td>NaN</td>\n",
       "      <td>1.739375</td>\n",
       "    </tr>\n",
       "  </tbody>\n",
       "</table>\n",
       "<p>154 rows × 23 columns</p>\n",
       "</div>"
      ],
      "text/plain": [
       "                    Fecha                           Horario   C.P. Provincia  \\\n",
       "5455  18/12/2022 17:32:26                  L-D: 07:30-22:00  21320    HUELVA   \n",
       "5441  18/12/2022 17:32:26  L-S: 07:00-22:00; D: 08:00-22:00  21270    HUELVA   \n",
       "5419  18/12/2022 17:32:26                  L-D: 06:00-22:00  21200    HUELVA   \n",
       "5436  18/12/2022 17:32:26                          L-D: 24H  21710    HUELVA   \n",
       "5492  18/12/2022 17:32:26                  L-D: 07:00-22:00  21440    HUELVA   \n",
       "...                   ...                               ...    ...       ...   \n",
       "5480  18/12/2022 17:32:26                  L-D: 06:30-22:30  21007    HUELVA   \n",
       "5539  18/12/2022 17:32:26  L-V: 07:30-21:00; S: 09:00-13:00  21610    HUELVA   \n",
       "5499  18/12/2022 17:32:26                          L-D: 24H  21440    HUELVA   \n",
       "5491  18/12/2022 17:32:26                  L-D: 07:00-23:00  21440    HUELVA   \n",
       "5534  18/12/2022 17:32:26                          L-D: 24H  21720    HUELVA   \n",
       "\n",
       "                      Municipio                  Localidad  \\\n",
       "5455     Cerro de Andévalo (El)     CERRO DE ANDEVALO (EL)   \n",
       "5441                       Cala                       CALA   \n",
       "5419                    Aracena                    ARACENA   \n",
       "5436  Bollullos Par del Condado  BOLLULLOS PAR DEL CONDADO   \n",
       "5492                       Lepe                       LEPE   \n",
       "...                         ...                        ...   \n",
       "5480                     Huelva                     HUELVA   \n",
       "5539        San Juan del Puerto        SAN JUAN DEL PUERTO   \n",
       "5499                       Lepe                       LEPE   \n",
       "5491                       Lepe                       LEPE   \n",
       "5534        Rociana del Condado        ROCIANA DEL CONDADO   \n",
       "\n",
       "                                      Dirección Proveedor de Servicio  \\\n",
       "5455                    CARRETERA A-485 KM. 100                  AGLA   \n",
       "5441                    AVENIDA CONSTITUCION, 1                  AGLA   \n",
       "5419                              N-433 km 88,4                  AGLA   \n",
       "5436    CARRETERA CARRETERA H 611 KM 4,7 KM. SN                  AGLA   \n",
       "5492                    CARRETERA H4116 KM. 1,7                  AGLA   \n",
       "...                                         ...                   ...   \n",
       "5480                 AVDA. NUEVO COLOMBINO S/N.  TYCSA TRAFICO PESADO   \n",
       "5539  CARRETERA A-472 SEVILLA - HUELVA KM. 78,5           VALLE ANCHO   \n",
       "5499                        CALLE ESPARTEROS, 2      VIBE CARBURANTES   \n",
       "5491   CARRETERA LEPE-EL TERRÓN, KM 1,5 KM. 1,5             VIBEOTROS   \n",
       "5534       POLIGONO HUERTAS NUEVAS PARCELA 3, 3                VIRSUR   \n",
       "\n",
       "      Gasoleo A  Media C.P. Gasoleo A  ...  Media Nacional Gasoleo B  \\\n",
       "5455      1.715              1.727000  ...                  1.341226   \n",
       "5441      1.735              1.735000  ...                  1.341226   \n",
       "5419      1.689              1.677750  ...                  1.341226   \n",
       "5436      1.769              1.689250  ...                  1.341226   \n",
       "5492      1.698              1.755667  ...                  1.341226   \n",
       "...         ...                   ...  ...                       ...   \n",
       "5480      1.715              1.736000  ...                  1.341226   \n",
       "5539      1.579              1.659750  ...                  1.341226   \n",
       "5499      1.709              1.755667  ...                  1.341226   \n",
       "5491      1.729              1.755667  ...                  1.341226   \n",
       "5534      1.560              1.603000  ...                  1.341226   \n",
       "\n",
       "      Gasoleo Premium  Media C.P. Gasoleo P  Media Nacional Gasoleo P  \\\n",
       "5455              NaN              1.430000                  1.747942   \n",
       "5441              NaN                   NaN                  1.747942   \n",
       "5419              NaN                   NaN                  1.747942   \n",
       "5436            1.819              1.344500                  1.747942   \n",
       "5492              NaN              1.587000                  1.747942   \n",
       "...               ...                   ...                       ...   \n",
       "5480            1.775              1.459000                  1.747942   \n",
       "5539              NaN              1.199000                  1.747942   \n",
       "5499              NaN              1.587000                  1.747942   \n",
       "5491            1.749              1.587000                  1.747942   \n",
       "5534              NaN              1.210667                  1.747942   \n",
       "\n",
       "      Gasolina 95 E5  Media C.P. Gasolina 95  Media Nacional Gasolina 95  \\\n",
       "5455           1.660                1.660000                    1.581175   \n",
       "5441           1.695                1.695000                    1.581175   \n",
       "5419           1.629                1.597750                    1.581175   \n",
       "5436           1.689                1.609250                    1.581175   \n",
       "5492           1.638                1.636500                    1.581175   \n",
       "...              ...                     ...                         ...   \n",
       "5480           1.625                1.639333                    1.581175   \n",
       "5539           1.489                1.565000                    1.581175   \n",
       "5499           1.649                1.636500                    1.581175   \n",
       "5491           1.659                1.636500                    1.581175   \n",
       "5534           1.460                1.496333                    1.581175   \n",
       "\n",
       "      Gasolina 98 E5  Media C.P. Gasolina 98  Media Nacional Gasolina 98  \n",
       "5455             NaN                     NaN                    1.739375  \n",
       "5441             NaN                     NaN                    1.739375  \n",
       "5419             NaN                1.719000                    1.739375  \n",
       "5436           1.829                1.772000                    1.739375  \n",
       "5492             NaN                1.894000                    1.739375  \n",
       "...              ...                     ...                         ...  \n",
       "5480           1.775                1.788333                    1.739375  \n",
       "5539             NaN                     NaN                    1.739375  \n",
       "5499             NaN                1.894000                    1.739375  \n",
       "5491           1.889                1.894000                    1.739375  \n",
       "5534             NaN                     NaN                    1.739375  \n",
       "\n",
       "[154 rows x 23 columns]"
      ]
     },
     "execution_count": 162,
     "metadata": {},
     "output_type": "execute_result"
    }
   ],
   "source": [
    "gasolineras_provincia('HUELVA')"
   ]
  },
  {
   "cell_type": "code",
   "execution_count": 163,
   "id": "fe00f1c5",
   "metadata": {},
   "outputs": [],
   "source": [
    "# Listado de Gasolineras por Código Postal:\n",
    "# x: código postal\n",
    "def gasolineras_cp(x):\n",
    "    cp = df_n[df_n[\"C.P.\"] == x]\n",
    "    return cp"
   ]
  },
  {
   "cell_type": "code",
   "execution_count": 164,
   "id": "858df679",
   "metadata": {},
   "outputs": [
    {
     "data": {
      "text/html": [
       "<div>\n",
       "<style scoped>\n",
       "    .dataframe tbody tr th:only-of-type {\n",
       "        vertical-align: middle;\n",
       "    }\n",
       "\n",
       "    .dataframe tbody tr th {\n",
       "        vertical-align: top;\n",
       "    }\n",
       "\n",
       "    .dataframe thead th {\n",
       "        text-align: right;\n",
       "    }\n",
       "</style>\n",
       "<table border=\"1\" class=\"dataframe\">\n",
       "  <thead>\n",
       "    <tr style=\"text-align: right;\">\n",
       "      <th></th>\n",
       "      <th>Fecha</th>\n",
       "      <th>Horario</th>\n",
       "      <th>C.P.</th>\n",
       "      <th>Provincia</th>\n",
       "      <th>Municipio</th>\n",
       "      <th>Localidad</th>\n",
       "      <th>Dirección</th>\n",
       "      <th>Proveedor de Servicio</th>\n",
       "      <th>Gasoleo A</th>\n",
       "      <th>Media C.P. Gasoleo A</th>\n",
       "      <th>...</th>\n",
       "      <th>Media Nacional Gasoleo B</th>\n",
       "      <th>Gasoleo Premium</th>\n",
       "      <th>Media C.P. Gasoleo P</th>\n",
       "      <th>Media Nacional Gasoleo P</th>\n",
       "      <th>Gasolina 95 E5</th>\n",
       "      <th>Media C.P. Gasolina 95</th>\n",
       "      <th>Media Nacional Gasolina 95</th>\n",
       "      <th>Gasolina 98 E5</th>\n",
       "      <th>Media C.P. Gasolina 98</th>\n",
       "      <th>Media Nacional Gasolina 98</th>\n",
       "    </tr>\n",
       "  </thead>\n",
       "  <tbody>\n",
       "    <tr>\n",
       "      <th>6577</th>\n",
       "      <td>18/12/2022 17:32:26</td>\n",
       "      <td>L-D: 06:00-00:00</td>\n",
       "      <td>28500</td>\n",
       "      <td>MADRID</td>\n",
       "      <td>Arganda del Rey</td>\n",
       "      <td>ARGANDA</td>\n",
       "      <td>AVENIDA DE MADRID, 126</td>\n",
       "      <td>ATEOTROSIL</td>\n",
       "      <td>1.599</td>\n",
       "      <td>1.652833</td>\n",
       "      <td>...</td>\n",
       "      <td>1.341226</td>\n",
       "      <td>1.609</td>\n",
       "      <td>1.569</td>\n",
       "      <td>1.747942</td>\n",
       "      <td>1.549</td>\n",
       "      <td>1.566583</td>\n",
       "      <td>1.581175</td>\n",
       "      <td>NaN</td>\n",
       "      <td>1.759333</td>\n",
       "      <td>1.739375</td>\n",
       "    </tr>\n",
       "    <tr>\n",
       "      <th>6575</th>\n",
       "      <td>18/12/2022 17:32:26</td>\n",
       "      <td>L-D: 24H</td>\n",
       "      <td>28500</td>\n",
       "      <td>MADRID</td>\n",
       "      <td>Arganda del Rey</td>\n",
       "      <td>ARGANDA</td>\n",
       "      <td>CAMINO CAMINO DE SAN MARTÍN DE LA VEGA A ARGAN...</td>\n",
       "      <td>BALLEOTROSIL</td>\n",
       "      <td>1.577</td>\n",
       "      <td>1.652833</td>\n",
       "      <td>...</td>\n",
       "      <td>1.341226</td>\n",
       "      <td>NaN</td>\n",
       "      <td>1.569</td>\n",
       "      <td>1.747942</td>\n",
       "      <td>1.507</td>\n",
       "      <td>1.566583</td>\n",
       "      <td>1.581175</td>\n",
       "      <td>NaN</td>\n",
       "      <td>1.759333</td>\n",
       "      <td>1.739375</td>\n",
       "    </tr>\n",
       "    <tr>\n",
       "      <th>6573</th>\n",
       "      <td>18/12/2022 17:32:26</td>\n",
       "      <td>L-D: 24H</td>\n",
       "      <td>28500</td>\n",
       "      <td>MADRID</td>\n",
       "      <td>Arganda del Rey</td>\n",
       "      <td>ARGANDA</td>\n",
       "      <td>CAMINO SAN MARTIN DE LA VEGA, 8</td>\n",
       "      <td>BALLEOTROSIL</td>\n",
       "      <td>1.577</td>\n",
       "      <td>1.652833</td>\n",
       "      <td>...</td>\n",
       "      <td>1.341226</td>\n",
       "      <td>NaN</td>\n",
       "      <td>1.569</td>\n",
       "      <td>1.747942</td>\n",
       "      <td>1.507</td>\n",
       "      <td>1.566583</td>\n",
       "      <td>1.581175</td>\n",
       "      <td>NaN</td>\n",
       "      <td>1.759333</td>\n",
       "      <td>1.739375</td>\n",
       "    </tr>\n",
       "    <tr>\n",
       "      <th>6579</th>\n",
       "      <td>18/12/2022 17:32:26</td>\n",
       "      <td>L-D: 24H</td>\n",
       "      <td>28500</td>\n",
       "      <td>MADRID</td>\n",
       "      <td>Arganda del Rey</td>\n",
       "      <td>ARGANDA</td>\n",
       "      <td>AVENIDA EJERCITO (DEL), 44</td>\n",
       "      <td>BP</td>\n",
       "      <td>1.719</td>\n",
       "      <td>1.652833</td>\n",
       "      <td>...</td>\n",
       "      <td>1.341226</td>\n",
       "      <td>1.809</td>\n",
       "      <td>1.569</td>\n",
       "      <td>1.747942</td>\n",
       "      <td>1.629</td>\n",
       "      <td>1.566583</td>\n",
       "      <td>1.581175</td>\n",
       "      <td>1.771</td>\n",
       "      <td>1.759333</td>\n",
       "      <td>1.739375</td>\n",
       "    </tr>\n",
       "    <tr>\n",
       "      <th>6578</th>\n",
       "      <td>18/12/2022 17:32:26</td>\n",
       "      <td>L-D: 06:00-22:00</td>\n",
       "      <td>28500</td>\n",
       "      <td>MADRID</td>\n",
       "      <td>Arganda del Rey</td>\n",
       "      <td>ARGANDA</td>\n",
       "      <td>AVENIDA DE MADRID, 37</td>\n",
       "      <td>BP</td>\n",
       "      <td>1.719</td>\n",
       "      <td>1.652833</td>\n",
       "      <td>...</td>\n",
       "      <td>1.341226</td>\n",
       "      <td>1.809</td>\n",
       "      <td>1.569</td>\n",
       "      <td>1.747942</td>\n",
       "      <td>1.629</td>\n",
       "      <td>1.566583</td>\n",
       "      <td>1.581175</td>\n",
       "      <td>1.771</td>\n",
       "      <td>1.759333</td>\n",
       "      <td>1.739375</td>\n",
       "    </tr>\n",
       "    <tr>\n",
       "      <th>6571</th>\n",
       "      <td>18/12/2022 17:32:26</td>\n",
       "      <td>L-D: 24H</td>\n",
       "      <td>28500</td>\n",
       "      <td>MADRID</td>\n",
       "      <td>Arganda del Rey</td>\n",
       "      <td>ARGANDA</td>\n",
       "      <td>AVENIDA VALDEARGANDA, 8</td>\n",
       "      <td>CEPSA</td>\n",
       "      <td>1.709</td>\n",
       "      <td>1.652833</td>\n",
       "      <td>...</td>\n",
       "      <td>1.341226</td>\n",
       "      <td>1.809</td>\n",
       "      <td>1.569</td>\n",
       "      <td>1.747942</td>\n",
       "      <td>1.604</td>\n",
       "      <td>1.566583</td>\n",
       "      <td>1.581175</td>\n",
       "      <td>1.736</td>\n",
       "      <td>1.759333</td>\n",
       "      <td>1.739375</td>\n",
       "    </tr>\n",
       "    <tr>\n",
       "      <th>6581</th>\n",
       "      <td>18/12/2022 17:32:26</td>\n",
       "      <td>L-D: 07:00-22:00</td>\n",
       "      <td>28500</td>\n",
       "      <td>MADRID</td>\n",
       "      <td>Arganda del Rey</td>\n",
       "      <td>ARGANDA</td>\n",
       "      <td>AVENIDA FINANZAUTO (DE), 2</td>\n",
       "      <td>DELFIOIL</td>\n",
       "      <td>1.567</td>\n",
       "      <td>1.652833</td>\n",
       "      <td>...</td>\n",
       "      <td>1.341226</td>\n",
       "      <td>NaN</td>\n",
       "      <td>1.569</td>\n",
       "      <td>1.747942</td>\n",
       "      <td>1.497</td>\n",
       "      <td>1.566583</td>\n",
       "      <td>1.581175</td>\n",
       "      <td>NaN</td>\n",
       "      <td>1.759333</td>\n",
       "      <td>1.739375</td>\n",
       "    </tr>\n",
       "    <tr>\n",
       "      <th>6574</th>\n",
       "      <td>18/12/2022 17:32:26</td>\n",
       "      <td>L-D: 24H</td>\n",
       "      <td>28500</td>\n",
       "      <td>MADRID</td>\n",
       "      <td>Arganda del Rey</td>\n",
       "      <td>ARGANDA</td>\n",
       "      <td>AVENIDA MADRID (DE), SN</td>\n",
       "      <td>PETROPRIX</td>\n",
       "      <td>1.577</td>\n",
       "      <td>1.652833</td>\n",
       "      <td>...</td>\n",
       "      <td>1.341226</td>\n",
       "      <td>NaN</td>\n",
       "      <td>1.569</td>\n",
       "      <td>1.747942</td>\n",
       "      <td>1.497</td>\n",
       "      <td>1.566583</td>\n",
       "      <td>1.581175</td>\n",
       "      <td>NaN</td>\n",
       "      <td>1.759333</td>\n",
       "      <td>1.739375</td>\n",
       "    </tr>\n",
       "    <tr>\n",
       "      <th>6572</th>\n",
       "      <td>18/12/2022 17:32:26</td>\n",
       "      <td>L-D: 24H</td>\n",
       "      <td>28500</td>\n",
       "      <td>MADRID</td>\n",
       "      <td>Arganda del Rey</td>\n",
       "      <td>ARGANDA</td>\n",
       "      <td>AVENIDA MADRID (DE), 66</td>\n",
       "      <td>PLEOTROSIL</td>\n",
       "      <td>1.567</td>\n",
       "      <td>1.652833</td>\n",
       "      <td>...</td>\n",
       "      <td>1.341226</td>\n",
       "      <td>NaN</td>\n",
       "      <td>1.569</td>\n",
       "      <td>1.747942</td>\n",
       "      <td>1.497</td>\n",
       "      <td>1.566583</td>\n",
       "      <td>1.581175</td>\n",
       "      <td>NaN</td>\n",
       "      <td>1.759333</td>\n",
       "      <td>1.739375</td>\n",
       "    </tr>\n",
       "    <tr>\n",
       "      <th>6582</th>\n",
       "      <td>18/12/2022 17:32:26</td>\n",
       "      <td>L: 24H</td>\n",
       "      <td>28500</td>\n",
       "      <td>MADRID</td>\n",
       "      <td>Arganda del Rey</td>\n",
       "      <td>ARGANDA</td>\n",
       "      <td>CARRETERA M-832 KM. 3</td>\n",
       "      <td>REPSOL</td>\n",
       "      <td>1.752</td>\n",
       "      <td>1.652833</td>\n",
       "      <td>...</td>\n",
       "      <td>1.341226</td>\n",
       "      <td>NaN</td>\n",
       "      <td>1.569</td>\n",
       "      <td>1.747942</td>\n",
       "      <td>1.622</td>\n",
       "      <td>1.566583</td>\n",
       "      <td>1.581175</td>\n",
       "      <td>NaN</td>\n",
       "      <td>1.759333</td>\n",
       "      <td>1.739375</td>\n",
       "    </tr>\n",
       "    <tr>\n",
       "      <th>6580</th>\n",
       "      <td>18/12/2022 17:32:26</td>\n",
       "      <td>L-D: 24H</td>\n",
       "      <td>28500</td>\n",
       "      <td>MADRID</td>\n",
       "      <td>Arganda del Rey</td>\n",
       "      <td>ARGANDA</td>\n",
       "      <td>CARRETERA M-832 KM. 3</td>\n",
       "      <td>REPSOL</td>\n",
       "      <td>1.752</td>\n",
       "      <td>1.652833</td>\n",
       "      <td>...</td>\n",
       "      <td>1.341226</td>\n",
       "      <td>1.822</td>\n",
       "      <td>1.569</td>\n",
       "      <td>1.747942</td>\n",
       "      <td>1.622</td>\n",
       "      <td>1.566583</td>\n",
       "      <td>1.581175</td>\n",
       "      <td>NaN</td>\n",
       "      <td>1.759333</td>\n",
       "      <td>1.739375</td>\n",
       "    </tr>\n",
       "    <tr>\n",
       "      <th>6576</th>\n",
       "      <td>18/12/2022 17:32:26</td>\n",
       "      <td>L-V: 06:00-22:00; S-D: 08:00-22:00</td>\n",
       "      <td>28500</td>\n",
       "      <td>MADRID</td>\n",
       "      <td>Arganda del Rey</td>\n",
       "      <td>ARGANDA</td>\n",
       "      <td>AVDA DE MADRID, 103</td>\n",
       "      <td>REPSOL</td>\n",
       "      <td>1.719</td>\n",
       "      <td>1.652833</td>\n",
       "      <td>...</td>\n",
       "      <td>1.341226</td>\n",
       "      <td>1.729</td>\n",
       "      <td>1.569</td>\n",
       "      <td>1.747942</td>\n",
       "      <td>1.639</td>\n",
       "      <td>1.566583</td>\n",
       "      <td>1.581175</td>\n",
       "      <td>NaN</td>\n",
       "      <td>1.759333</td>\n",
       "      <td>1.739375</td>\n",
       "    </tr>\n",
       "  </tbody>\n",
       "</table>\n",
       "<p>12 rows × 23 columns</p>\n",
       "</div>"
      ],
      "text/plain": [
       "                    Fecha                             Horario   C.P.  \\\n",
       "6577  18/12/2022 17:32:26                    L-D: 06:00-00:00  28500   \n",
       "6575  18/12/2022 17:32:26                            L-D: 24H  28500   \n",
       "6573  18/12/2022 17:32:26                            L-D: 24H  28500   \n",
       "6579  18/12/2022 17:32:26                            L-D: 24H  28500   \n",
       "6578  18/12/2022 17:32:26                    L-D: 06:00-22:00  28500   \n",
       "6571  18/12/2022 17:32:26                            L-D: 24H  28500   \n",
       "6581  18/12/2022 17:32:26                    L-D: 07:00-22:00  28500   \n",
       "6574  18/12/2022 17:32:26                            L-D: 24H  28500   \n",
       "6572  18/12/2022 17:32:26                            L-D: 24H  28500   \n",
       "6582  18/12/2022 17:32:26                              L: 24H  28500   \n",
       "6580  18/12/2022 17:32:26                            L-D: 24H  28500   \n",
       "6576  18/12/2022 17:32:26  L-V: 06:00-22:00; S-D: 08:00-22:00  28500   \n",
       "\n",
       "     Provincia        Municipio Localidad  \\\n",
       "6577    MADRID  Arganda del Rey   ARGANDA   \n",
       "6575    MADRID  Arganda del Rey   ARGANDA   \n",
       "6573    MADRID  Arganda del Rey   ARGANDA   \n",
       "6579    MADRID  Arganda del Rey   ARGANDA   \n",
       "6578    MADRID  Arganda del Rey   ARGANDA   \n",
       "6571    MADRID  Arganda del Rey   ARGANDA   \n",
       "6581    MADRID  Arganda del Rey   ARGANDA   \n",
       "6574    MADRID  Arganda del Rey   ARGANDA   \n",
       "6572    MADRID  Arganda del Rey   ARGANDA   \n",
       "6582    MADRID  Arganda del Rey   ARGANDA   \n",
       "6580    MADRID  Arganda del Rey   ARGANDA   \n",
       "6576    MADRID  Arganda del Rey   ARGANDA   \n",
       "\n",
       "                                              Dirección Proveedor de Servicio  \\\n",
       "6577                             AVENIDA DE MADRID, 126            ATEOTROSIL   \n",
       "6575  CAMINO CAMINO DE SAN MARTÍN DE LA VEGA A ARGAN...          BALLEOTROSIL   \n",
       "6573                    CAMINO SAN MARTIN DE LA VEGA, 8          BALLEOTROSIL   \n",
       "6579                         AVENIDA EJERCITO (DEL), 44                    BP   \n",
       "6578                              AVENIDA DE MADRID, 37                    BP   \n",
       "6571                            AVENIDA VALDEARGANDA, 8                 CEPSA   \n",
       "6581                         AVENIDA FINANZAUTO (DE), 2              DELFIOIL   \n",
       "6574                            AVENIDA MADRID (DE), SN             PETROPRIX   \n",
       "6572                            AVENIDA MADRID (DE), 66            PLEOTROSIL   \n",
       "6582                              CARRETERA M-832 KM. 3                REPSOL   \n",
       "6580                              CARRETERA M-832 KM. 3                REPSOL   \n",
       "6576                                AVDA DE MADRID, 103                REPSOL   \n",
       "\n",
       "      Gasoleo A  Media C.P. Gasoleo A  ...  Media Nacional Gasoleo B  \\\n",
       "6577      1.599              1.652833  ...                  1.341226   \n",
       "6575      1.577              1.652833  ...                  1.341226   \n",
       "6573      1.577              1.652833  ...                  1.341226   \n",
       "6579      1.719              1.652833  ...                  1.341226   \n",
       "6578      1.719              1.652833  ...                  1.341226   \n",
       "6571      1.709              1.652833  ...                  1.341226   \n",
       "6581      1.567              1.652833  ...                  1.341226   \n",
       "6574      1.577              1.652833  ...                  1.341226   \n",
       "6572      1.567              1.652833  ...                  1.341226   \n",
       "6582      1.752              1.652833  ...                  1.341226   \n",
       "6580      1.752              1.652833  ...                  1.341226   \n",
       "6576      1.719              1.652833  ...                  1.341226   \n",
       "\n",
       "      Gasoleo Premium  Media C.P. Gasoleo P  Media Nacional Gasoleo P  \\\n",
       "6577            1.609                 1.569                  1.747942   \n",
       "6575              NaN                 1.569                  1.747942   \n",
       "6573              NaN                 1.569                  1.747942   \n",
       "6579            1.809                 1.569                  1.747942   \n",
       "6578            1.809                 1.569                  1.747942   \n",
       "6571            1.809                 1.569                  1.747942   \n",
       "6581              NaN                 1.569                  1.747942   \n",
       "6574              NaN                 1.569                  1.747942   \n",
       "6572              NaN                 1.569                  1.747942   \n",
       "6582              NaN                 1.569                  1.747942   \n",
       "6580            1.822                 1.569                  1.747942   \n",
       "6576            1.729                 1.569                  1.747942   \n",
       "\n",
       "      Gasolina 95 E5  Media C.P. Gasolina 95  Media Nacional Gasolina 95  \\\n",
       "6577           1.549                1.566583                    1.581175   \n",
       "6575           1.507                1.566583                    1.581175   \n",
       "6573           1.507                1.566583                    1.581175   \n",
       "6579           1.629                1.566583                    1.581175   \n",
       "6578           1.629                1.566583                    1.581175   \n",
       "6571           1.604                1.566583                    1.581175   \n",
       "6581           1.497                1.566583                    1.581175   \n",
       "6574           1.497                1.566583                    1.581175   \n",
       "6572           1.497                1.566583                    1.581175   \n",
       "6582           1.622                1.566583                    1.581175   \n",
       "6580           1.622                1.566583                    1.581175   \n",
       "6576           1.639                1.566583                    1.581175   \n",
       "\n",
       "      Gasolina 98 E5  Media C.P. Gasolina 98  Media Nacional Gasolina 98  \n",
       "6577             NaN                1.759333                    1.739375  \n",
       "6575             NaN                1.759333                    1.739375  \n",
       "6573             NaN                1.759333                    1.739375  \n",
       "6579           1.771                1.759333                    1.739375  \n",
       "6578           1.771                1.759333                    1.739375  \n",
       "6571           1.736                1.759333                    1.739375  \n",
       "6581             NaN                1.759333                    1.739375  \n",
       "6574             NaN                1.759333                    1.739375  \n",
       "6572             NaN                1.759333                    1.739375  \n",
       "6582             NaN                1.759333                    1.739375  \n",
       "6580             NaN                1.759333                    1.739375  \n",
       "6576             NaN                1.759333                    1.739375  \n",
       "\n",
       "[12 rows x 23 columns]"
      ]
     },
     "execution_count": 164,
     "metadata": {},
     "output_type": "execute_result"
    }
   ],
   "source": [
    "gasolineras_cp('28500')"
   ]
  },
  {
   "cell_type": "code",
   "execution_count": 165,
   "id": "3542af36",
   "metadata": {},
   "outputs": [
    {
     "data": {
      "text/html": [
       "<div>\n",
       "<style scoped>\n",
       "    .dataframe tbody tr th:only-of-type {\n",
       "        vertical-align: middle;\n",
       "    }\n",
       "\n",
       "    .dataframe tbody tr th {\n",
       "        vertical-align: top;\n",
       "    }\n",
       "\n",
       "    .dataframe thead th {\n",
       "        text-align: right;\n",
       "    }\n",
       "</style>\n",
       "<table border=\"1\" class=\"dataframe\">\n",
       "  <thead>\n",
       "    <tr style=\"text-align: right;\">\n",
       "      <th></th>\n",
       "      <th>Fecha</th>\n",
       "      <th>Horario</th>\n",
       "      <th>C.P.</th>\n",
       "      <th>Provincia</th>\n",
       "      <th>Municipio</th>\n",
       "      <th>Localidad</th>\n",
       "      <th>Dirección</th>\n",
       "      <th>Proveedor de Servicio</th>\n",
       "      <th>Gasoleo A</th>\n",
       "      <th>Media C.P. Gasoleo A</th>\n",
       "      <th>...</th>\n",
       "      <th>Media Nacional Gasoleo B</th>\n",
       "      <th>Gasoleo Premium</th>\n",
       "      <th>Media C.P. Gasoleo P</th>\n",
       "      <th>Media Nacional Gasoleo P</th>\n",
       "      <th>Gasolina 95 E5</th>\n",
       "      <th>Media C.P. Gasolina 95</th>\n",
       "      <th>Media Nacional Gasolina 95</th>\n",
       "      <th>Gasolina 98 E5</th>\n",
       "      <th>Media C.P. Gasolina 98</th>\n",
       "      <th>Media Nacional Gasolina 98</th>\n",
       "    </tr>\n",
       "  </thead>\n",
       "  <tbody>\n",
       "    <tr>\n",
       "      <th>5075</th>\n",
       "      <td>18/12/2022 17:32:26</td>\n",
       "      <td>L-D: 06:00-23:30</td>\n",
       "      <td>18818</td>\n",
       "      <td>GRANADA</td>\n",
       "      <td>Castilléjar</td>\n",
       "      <td>CASTILLEJAR</td>\n",
       "      <td>CARRETERA BENAMAUREL-HUESCAR KM. 13</td>\n",
       "      <td>AGLA</td>\n",
       "      <td>1.789</td>\n",
       "      <td>1.789000</td>\n",
       "      <td>...</td>\n",
       "      <td>1.341226</td>\n",
       "      <td>1.859</td>\n",
       "      <td>1.429000</td>\n",
       "      <td>1.747942</td>\n",
       "      <td>1.759</td>\n",
       "      <td>1.7590</td>\n",
       "      <td>1.581175</td>\n",
       "      <td>1.849</td>\n",
       "      <td>1.849000</td>\n",
       "      <td>1.739375</td>\n",
       "    </tr>\n",
       "    <tr>\n",
       "      <th>10818</th>\n",
       "      <td>18/12/2022 17:32:26</td>\n",
       "      <td>L-D: 06:00-22:00</td>\n",
       "      <td>46841</td>\n",
       "      <td>VALENCIA / VALÈNCIA</td>\n",
       "      <td>Castelló de Rugat</td>\n",
       "      <td>CASTELLO DE RUGAT</td>\n",
       "      <td>CL  CAÑI REAL 83</td>\n",
       "      <td>BP</td>\n",
       "      <td>1.679</td>\n",
       "      <td>1.679000</td>\n",
       "      <td>...</td>\n",
       "      <td>1.341226</td>\n",
       "      <td>1.879</td>\n",
       "      <td>1.300000</td>\n",
       "      <td>1.747942</td>\n",
       "      <td>1.589</td>\n",
       "      <td>1.5890</td>\n",
       "      <td>1.581175</td>\n",
       "      <td>1.879</td>\n",
       "      <td>1.879000</td>\n",
       "      <td>1.739375</td>\n",
       "    </tr>\n",
       "    <tr>\n",
       "      <th>1812</th>\n",
       "      <td>18/12/2022 17:32:26</td>\n",
       "      <td>L-D: 24H</td>\n",
       "      <td>08210</td>\n",
       "      <td>BARCELONA</td>\n",
       "      <td>Barberà del Vallès</td>\n",
       "      <td>BARBERA DEL VALLES</td>\n",
       "      <td>CR DE RIPOLLET A SANTIGA KM  2,4</td>\n",
       "      <td>BP</td>\n",
       "      <td>1.699</td>\n",
       "      <td>1.679000</td>\n",
       "      <td>...</td>\n",
       "      <td>1.341226</td>\n",
       "      <td>1.789</td>\n",
       "      <td>1.359000</td>\n",
       "      <td>1.747942</td>\n",
       "      <td>1.639</td>\n",
       "      <td>1.5970</td>\n",
       "      <td>1.581175</td>\n",
       "      <td>1.779</td>\n",
       "      <td>1.759000</td>\n",
       "      <td>1.739375</td>\n",
       "    </tr>\n",
       "    <tr>\n",
       "      <th>5935</th>\n",
       "      <td>18/12/2022 17:32:26</td>\n",
       "      <td>L-D: 06:30-22:30</td>\n",
       "      <td>23400</td>\n",
       "      <td>JAÉN</td>\n",
       "      <td>Úbeda</td>\n",
       "      <td>UBEDA</td>\n",
       "      <td>CL AVENIDA DE LA LIBERTAD 76</td>\n",
       "      <td>REPSOL</td>\n",
       "      <td>1.699</td>\n",
       "      <td>1.672636</td>\n",
       "      <td>...</td>\n",
       "      <td>1.341226</td>\n",
       "      <td>1.759</td>\n",
       "      <td>1.304600</td>\n",
       "      <td>1.747942</td>\n",
       "      <td>1.589</td>\n",
       "      <td>1.5560</td>\n",
       "      <td>1.581175</td>\n",
       "      <td>1.709</td>\n",
       "      <td>1.699000</td>\n",
       "      <td>1.739375</td>\n",
       "    </tr>\n",
       "    <tr>\n",
       "      <th>5010</th>\n",
       "      <td>18/12/2022 17:32:26</td>\n",
       "      <td>L-S: 06:00-22:00; D: 07:00-22:00</td>\n",
       "      <td>17185</td>\n",
       "      <td>GIRONA</td>\n",
       "      <td>Vilobí d'Onyar</td>\n",
       "      <td>VILOBI D'ONYAR</td>\n",
       "      <td>CARRETERA GIRONA SANTA COLOAM FARNERS KM. 13</td>\n",
       "      <td>BP</td>\n",
       "      <td>1.699</td>\n",
       "      <td>1.735000</td>\n",
       "      <td>...</td>\n",
       "      <td>1.341226</td>\n",
       "      <td>1.769</td>\n",
       "      <td>1.499000</td>\n",
       "      <td>1.747942</td>\n",
       "      <td>1.589</td>\n",
       "      <td>1.6225</td>\n",
       "      <td>1.581175</td>\n",
       "      <td>1.739</td>\n",
       "      <td>1.739000</td>\n",
       "      <td>1.739375</td>\n",
       "    </tr>\n",
       "    <tr>\n",
       "      <th>...</th>\n",
       "      <td>...</td>\n",
       "      <td>...</td>\n",
       "      <td>...</td>\n",
       "      <td>...</td>\n",
       "      <td>...</td>\n",
       "      <td>...</td>\n",
       "      <td>...</td>\n",
       "      <td>...</td>\n",
       "      <td>...</td>\n",
       "      <td>...</td>\n",
       "      <td>...</td>\n",
       "      <td>...</td>\n",
       "      <td>...</td>\n",
       "      <td>...</td>\n",
       "      <td>...</td>\n",
       "      <td>...</td>\n",
       "      <td>...</td>\n",
       "      <td>...</td>\n",
       "      <td>...</td>\n",
       "      <td>...</td>\n",
       "      <td>...</td>\n",
       "    </tr>\n",
       "    <tr>\n",
       "      <th>9007</th>\n",
       "      <td>18/12/2022 17:32:26</td>\n",
       "      <td>L-D: 24H</td>\n",
       "      <td>26223</td>\n",
       "      <td>RIOJA (LA)</td>\n",
       "      <td>Hormilla</td>\n",
       "      <td>HORMILLA</td>\n",
       "      <td>CALLE PRINCIPAL, S/N</td>\n",
       "      <td>VALCARCE</td>\n",
       "      <td>1.709</td>\n",
       "      <td>1.709000</td>\n",
       "      <td>...</td>\n",
       "      <td>1.341226</td>\n",
       "      <td>1.809</td>\n",
       "      <td>1.459000</td>\n",
       "      <td>1.747942</td>\n",
       "      <td>1.609</td>\n",
       "      <td>1.6090</td>\n",
       "      <td>1.581175</td>\n",
       "      <td>1.749</td>\n",
       "      <td>1.749000</td>\n",
       "      <td>1.739375</td>\n",
       "    </tr>\n",
       "    <tr>\n",
       "      <th>5194</th>\n",
       "      <td>18/12/2022 17:32:26</td>\n",
       "      <td>L-D: 24H</td>\n",
       "      <td>18327</td>\n",
       "      <td>GRANADA</td>\n",
       "      <td>Láchar</td>\n",
       "      <td>LACHAR</td>\n",
       "      <td>AUTOVIA A92 KM. 221</td>\n",
       "      <td>VALCARCE</td>\n",
       "      <td>1.679</td>\n",
       "      <td>1.699000</td>\n",
       "      <td>...</td>\n",
       "      <td>1.341226</td>\n",
       "      <td>1.799</td>\n",
       "      <td>1.494000</td>\n",
       "      <td>1.747942</td>\n",
       "      <td>1.659</td>\n",
       "      <td>1.6890</td>\n",
       "      <td>1.581175</td>\n",
       "      <td>1.839</td>\n",
       "      <td>1.904000</td>\n",
       "      <td>1.739375</td>\n",
       "    </tr>\n",
       "    <tr>\n",
       "      <th>4208</th>\n",
       "      <td>18/12/2022 17:32:26</td>\n",
       "      <td>L-D: 06:00-23:00</td>\n",
       "      <td>15100</td>\n",
       "      <td>CORUÑA (A)</td>\n",
       "      <td>Carballo</td>\n",
       "      <td>CARBALLO</td>\n",
       "      <td>LUGAR A REVOLTA, 20</td>\n",
       "      <td>VALCARCE (E S CARVOLTA  S L )</td>\n",
       "      <td>1.629</td>\n",
       "      <td>1.676000</td>\n",
       "      <td>...</td>\n",
       "      <td>1.341226</td>\n",
       "      <td>1.689</td>\n",
       "      <td>1.502000</td>\n",
       "      <td>1.747942</td>\n",
       "      <td>1.579</td>\n",
       "      <td>1.6215</td>\n",
       "      <td>1.581175</td>\n",
       "      <td>1.879</td>\n",
       "      <td>1.820143</td>\n",
       "      <td>1.739375</td>\n",
       "    </tr>\n",
       "    <tr>\n",
       "      <th>7819</th>\n",
       "      <td>18/12/2022 17:32:26</td>\n",
       "      <td>L-D: 24H</td>\n",
       "      <td>30800</td>\n",
       "      <td>MURCIA</td>\n",
       "      <td>Lorca</td>\n",
       "      <td>LORCA</td>\n",
       "      <td>CARRETERA A-91 KM. 3,5</td>\n",
       "      <td>VENTA LA PETRA</td>\n",
       "      <td>1.688</td>\n",
       "      <td>1.633000</td>\n",
       "      <td>...</td>\n",
       "      <td>1.341226</td>\n",
       "      <td>1.738</td>\n",
       "      <td>1.416333</td>\n",
       "      <td>1.747942</td>\n",
       "      <td>1.568</td>\n",
       "      <td>1.5630</td>\n",
       "      <td>1.581175</td>\n",
       "      <td>1.728</td>\n",
       "      <td>1.707400</td>\n",
       "      <td>1.739375</td>\n",
       "    </tr>\n",
       "    <tr>\n",
       "      <th>1941</th>\n",
       "      <td>18/12/2022 17:32:26</td>\n",
       "      <td>L: 07:00-22:00</td>\n",
       "      <td>08261</td>\n",
       "      <td>BARCELONA</td>\n",
       "      <td>Cardona</td>\n",
       "      <td>CARDONA</td>\n",
       "      <td>CARRETERA C-1410A KM. 29</td>\n",
       "      <td>VILALTA</td>\n",
       "      <td>1.669</td>\n",
       "      <td>1.649333</td>\n",
       "      <td>...</td>\n",
       "      <td>1.341226</td>\n",
       "      <td>1.699</td>\n",
       "      <td>1.343333</td>\n",
       "      <td>1.747942</td>\n",
       "      <td>1.599</td>\n",
       "      <td>1.5790</td>\n",
       "      <td>1.581175</td>\n",
       "      <td>1.799</td>\n",
       "      <td>1.799000</td>\n",
       "      <td>1.739375</td>\n",
       "    </tr>\n",
       "  </tbody>\n",
       "</table>\n",
       "<p>911 rows × 23 columns</p>\n",
       "</div>"
      ],
      "text/plain": [
       "                     Fecha                           Horario   C.P.  \\\n",
       "5075   18/12/2022 17:32:26                  L-D: 06:00-23:30  18818   \n",
       "10818  18/12/2022 17:32:26                  L-D: 06:00-22:00  46841   \n",
       "1812   18/12/2022 17:32:26                          L-D: 24H  08210   \n",
       "5935   18/12/2022 17:32:26                  L-D: 06:30-22:30  23400   \n",
       "5010   18/12/2022 17:32:26  L-S: 06:00-22:00; D: 07:00-22:00  17185   \n",
       "...                    ...                               ...    ...   \n",
       "9007   18/12/2022 17:32:26                          L-D: 24H  26223   \n",
       "5194   18/12/2022 17:32:26                          L-D: 24H  18327   \n",
       "4208   18/12/2022 17:32:26                  L-D: 06:00-23:00  15100   \n",
       "7819   18/12/2022 17:32:26                          L-D: 24H  30800   \n",
       "1941   18/12/2022 17:32:26                    L: 07:00-22:00  08261   \n",
       "\n",
       "                 Provincia           Municipio           Localidad  \\\n",
       "5075               GRANADA         Castilléjar         CASTILLEJAR   \n",
       "10818  VALENCIA / VALÈNCIA   Castelló de Rugat   CASTELLO DE RUGAT   \n",
       "1812             BARCELONA  Barberà del Vallès  BARBERA DEL VALLES   \n",
       "5935                  JAÉN               Úbeda               UBEDA   \n",
       "5010                GIRONA      Vilobí d'Onyar      VILOBI D'ONYAR   \n",
       "...                    ...                 ...                 ...   \n",
       "9007            RIOJA (LA)            Hormilla            HORMILLA   \n",
       "5194               GRANADA              Láchar              LACHAR   \n",
       "4208            CORUÑA (A)            Carballo            CARBALLO   \n",
       "7819                MURCIA               Lorca               LORCA   \n",
       "1941             BARCELONA             Cardona             CARDONA   \n",
       "\n",
       "                                          Dirección  \\\n",
       "5075            CARRETERA BENAMAUREL-HUESCAR KM. 13   \n",
       "10818                              CL  CAÑI REAL 83   \n",
       "1812               CR DE RIPOLLET A SANTIGA KM  2,4   \n",
       "5935                   CL AVENIDA DE LA LIBERTAD 76   \n",
       "5010   CARRETERA GIRONA SANTA COLOAM FARNERS KM. 13   \n",
       "...                                             ...   \n",
       "9007                           CALLE PRINCIPAL, S/N   \n",
       "5194                            AUTOVIA A92 KM. 221   \n",
       "4208                            LUGAR A REVOLTA, 20   \n",
       "7819                         CARRETERA A-91 KM. 3,5   \n",
       "1941                       CARRETERA C-1410A KM. 29   \n",
       "\n",
       "               Proveedor de Servicio  Gasoleo A  Media C.P. Gasoleo A  ...  \\\n",
       "5075                            AGLA      1.789              1.789000  ...   \n",
       "10818                             BP      1.679              1.679000  ...   \n",
       "1812                              BP      1.699              1.679000  ...   \n",
       "5935                          REPSOL      1.699              1.672636  ...   \n",
       "5010                              BP      1.699              1.735000  ...   \n",
       "...                              ...        ...                   ...  ...   \n",
       "9007                        VALCARCE      1.709              1.709000  ...   \n",
       "5194                       VALCARCE       1.679              1.699000  ...   \n",
       "4208   VALCARCE (E S CARVOLTA  S L )      1.629              1.676000  ...   \n",
       "7819                  VENTA LA PETRA      1.688              1.633000  ...   \n",
       "1941                         VILALTA      1.669              1.649333  ...   \n",
       "\n",
       "       Media Nacional Gasoleo B  Gasoleo Premium  Media C.P. Gasoleo P  \\\n",
       "5075                   1.341226            1.859              1.429000   \n",
       "10818                  1.341226            1.879              1.300000   \n",
       "1812                   1.341226            1.789              1.359000   \n",
       "5935                   1.341226            1.759              1.304600   \n",
       "5010                   1.341226            1.769              1.499000   \n",
       "...                         ...              ...                   ...   \n",
       "9007                   1.341226            1.809              1.459000   \n",
       "5194                   1.341226            1.799              1.494000   \n",
       "4208                   1.341226            1.689              1.502000   \n",
       "7819                   1.341226            1.738              1.416333   \n",
       "1941                   1.341226            1.699              1.343333   \n",
       "\n",
       "       Media Nacional Gasoleo P  Gasolina 95 E5  Media C.P. Gasolina 95  \\\n",
       "5075                   1.747942           1.759                  1.7590   \n",
       "10818                  1.747942           1.589                  1.5890   \n",
       "1812                   1.747942           1.639                  1.5970   \n",
       "5935                   1.747942           1.589                  1.5560   \n",
       "5010                   1.747942           1.589                  1.6225   \n",
       "...                         ...             ...                     ...   \n",
       "9007                   1.747942           1.609                  1.6090   \n",
       "5194                   1.747942           1.659                  1.6890   \n",
       "4208                   1.747942           1.579                  1.6215   \n",
       "7819                   1.747942           1.568                  1.5630   \n",
       "1941                   1.747942           1.599                  1.5790   \n",
       "\n",
       "       Media Nacional Gasolina 95  Gasolina 98 E5  Media C.P. Gasolina 98  \\\n",
       "5075                     1.581175           1.849                1.849000   \n",
       "10818                    1.581175           1.879                1.879000   \n",
       "1812                     1.581175           1.779                1.759000   \n",
       "5935                     1.581175           1.709                1.699000   \n",
       "5010                     1.581175           1.739                1.739000   \n",
       "...                           ...             ...                     ...   \n",
       "9007                     1.581175           1.749                1.749000   \n",
       "5194                     1.581175           1.839                1.904000   \n",
       "4208                     1.581175           1.879                1.820143   \n",
       "7819                     1.581175           1.728                1.707400   \n",
       "1941                     1.581175           1.799                1.799000   \n",
       "\n",
       "       Media Nacional Gasolina 98  \n",
       "5075                     1.739375  \n",
       "10818                    1.739375  \n",
       "1812                     1.739375  \n",
       "5935                     1.739375  \n",
       "5010                     1.739375  \n",
       "...                           ...  \n",
       "9007                     1.739375  \n",
       "5194                     1.739375  \n",
       "4208                     1.739375  \n",
       "7819                     1.739375  \n",
       "1941                     1.739375  \n",
       "\n",
       "[911 rows x 23 columns]"
      ]
     },
     "execution_count": 165,
     "metadata": {},
     "output_type": "execute_result"
    }
   ],
   "source": [
    "df_n.dropna()"
   ]
  },
  {
   "cell_type": "code",
   "execution_count": null,
   "id": "5554abd0",
   "metadata": {},
   "outputs": [],
   "source": []
  },
  {
   "cell_type": "code",
   "execution_count": null,
   "id": "9bdeaf58",
   "metadata": {},
   "outputs": [],
   "source": []
  },
  {
   "cell_type": "code",
   "execution_count": null,
   "id": "7ea9bb56",
   "metadata": {},
   "outputs": [],
   "source": []
  },
  {
   "cell_type": "code",
   "execution_count": null,
   "id": "993e45ed",
   "metadata": {},
   "outputs": [],
   "source": [
    "\n",
    "\n"
   ]
  }
 ],
 "metadata": {
  "kernelspec": {
   "display_name": "Python [conda env:m1_ih]",
   "language": "python",
   "name": "conda-env-m1_ih-py"
  },
  "language_info": {
   "codemirror_mode": {
    "name": "ipython",
    "version": 3
   },
   "file_extension": ".py",
   "mimetype": "text/x-python",
   "name": "python",
   "nbconvert_exporter": "python",
   "pygments_lexer": "ipython3",
   "version": "3.9.12"
  }
 },
 "nbformat": 4,
 "nbformat_minor": 5
}
