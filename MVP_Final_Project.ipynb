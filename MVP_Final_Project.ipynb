{
 "cells": [
  {
   "cell_type": "markdown",
   "id": "3e6982b2",
   "metadata": {},
   "source": [
    "## MVP"
   ]
  },
  {
   "cell_type": "code",
   "execution_count": 1,
   "id": "2cef25b8",
   "metadata": {},
   "outputs": [],
   "source": [
    "# Imports\n",
    "\n",
    "# Pandas\n",
    "import pandas as pd \n",
    "\n",
    "# Importo libreria para conexión a API\n",
    "from urllib.request import urlopen\n",
    "\n",
    "# Importo libreria Json para que lea\n",
    "import json\n",
    "\n",
    "#Normalizar Json\n",
    "from pandas.io.json import json_normalize\n",
    "\n",
    "import numpy as np\n"
   ]
  },
  {
   "cell_type": "markdown",
   "id": "9397380f",
   "metadata": {},
   "source": [
    "---\n",
    "Step 1 (Data Extraction)"
   ]
  },
  {
   "cell_type": "code",
   "execution_count": 2,
   "id": "55515f32",
   "metadata": {},
   "outputs": [],
   "source": [
    "# Definir las variables donde meto el string que contiene la URL\n",
    "\n",
    "endpoint ='https://sedeaplicaciones.minetur.gob.es'\n",
    "parametros = '/ServiciosRESTCarburantes/PreciosCarburantes/EstacionesTerrestres/'\n"
   ]
  },
  {
   "cell_type": "code",
   "execution_count": 3,
   "id": "2d466973",
   "metadata": {},
   "outputs": [
    {
     "data": {
      "text/plain": [
       "http.client.HTTPResponse"
      ]
     },
     "execution_count": 3,
     "metadata": {},
     "output_type": "execute_result"
    }
   ],
   "source": [
    "# Vamos a guardar en una variable nuestros datos (resultado, comida) \n",
    "\n",
    "response = urlopen(endpoint+parametros)\n",
    "type(response)\n"
   ]
  },
  {
   "cell_type": "code",
   "execution_count": 4,
   "id": "0031d835",
   "metadata": {},
   "outputs": [
    {
     "data": {
      "text/plain": [
       "dict"
      ]
     },
     "execution_count": 4,
     "metadata": {},
     "output_type": "execute_result"
    }
   ],
   "source": [
    "# Vamos a extraer del obejto, los datos\n",
    "\n",
    "data = response.read().decode('utf-8', 'replace')\n",
    "data = json.loads(data)\n",
    "type(data)\n"
   ]
  },
  {
   "cell_type": "code",
   "execution_count": 5,
   "id": "501a7f08",
   "metadata": {},
   "outputs": [
    {
     "data": {
      "text/html": [
       "<div>\n",
       "<style scoped>\n",
       "    .dataframe tbody tr th:only-of-type {\n",
       "        vertical-align: middle;\n",
       "    }\n",
       "\n",
       "    .dataframe tbody tr th {\n",
       "        vertical-align: top;\n",
       "    }\n",
       "\n",
       "    .dataframe thead th {\n",
       "        text-align: right;\n",
       "    }\n",
       "</style>\n",
       "<table border=\"1\" class=\"dataframe\">\n",
       "  <thead>\n",
       "    <tr style=\"text-align: right;\">\n",
       "      <th></th>\n",
       "      <th>Fecha</th>\n",
       "      <th>ListaEESSPrecio</th>\n",
       "      <th>Nota</th>\n",
       "      <th>ResultadoConsulta</th>\n",
       "    </tr>\n",
       "  </thead>\n",
       "  <tbody>\n",
       "    <tr>\n",
       "      <th>0</th>\n",
       "      <td>09/11/2022 13:33:53</td>\n",
       "      <td>{'C.P.': '02250', 'Dirección': 'AVENIDA CASTIL...</td>\n",
       "      <td>Archivo de todos los productos en todas las es...</td>\n",
       "      <td>OK</td>\n",
       "    </tr>\n",
       "    <tr>\n",
       "      <th>1</th>\n",
       "      <td>09/11/2022 13:33:53</td>\n",
       "      <td>{'C.P.': '02152', 'Dirección': 'CR CM-332, 46,...</td>\n",
       "      <td>Archivo de todos los productos en todas las es...</td>\n",
       "      <td>OK</td>\n",
       "    </tr>\n",
       "    <tr>\n",
       "      <th>2</th>\n",
       "      <td>09/11/2022 13:33:53</td>\n",
       "      <td>{'C.P.': '02001', 'Dirección': 'CALLE PRINCIPE...</td>\n",
       "      <td>Archivo de todos los productos en todas las es...</td>\n",
       "      <td>OK</td>\n",
       "    </tr>\n",
       "    <tr>\n",
       "      <th>3</th>\n",
       "      <td>09/11/2022 13:33:53</td>\n",
       "      <td>{'C.P.': '02001', 'Dirección': 'CALLE FEDERICO...</td>\n",
       "      <td>Archivo de todos los productos en todas las es...</td>\n",
       "      <td>OK</td>\n",
       "    </tr>\n",
       "    <tr>\n",
       "      <th>4</th>\n",
       "      <td>09/11/2022 13:33:53</td>\n",
       "      <td>{'C.P.': '02001', 'Dirección': 'AVENIDA 1º DE ...</td>\n",
       "      <td>Archivo de todos los productos en todas las es...</td>\n",
       "      <td>OK</td>\n",
       "    </tr>\n",
       "    <tr>\n",
       "      <th>...</th>\n",
       "      <td>...</td>\n",
       "      <td>...</td>\n",
       "      <td>...</td>\n",
       "      <td>...</td>\n",
       "    </tr>\n",
       "    <tr>\n",
       "      <th>11758</th>\n",
       "      <td>09/11/2022 13:33:53</td>\n",
       "      <td>{'C.P.': '50197', 'Dirección': 'RONDA FERIA DE...</td>\n",
       "      <td>Archivo de todos los productos en todas las es...</td>\n",
       "      <td>OK</td>\n",
       "    </tr>\n",
       "    <tr>\n",
       "      <th>11759</th>\n",
       "      <td>09/11/2022 13:33:53</td>\n",
       "      <td>{'C.P.': '50197', 'Dirección': 'POLIGONO CALLE...</td>\n",
       "      <td>Archivo de todos los productos en todas las es...</td>\n",
       "      <td>OK</td>\n",
       "    </tr>\n",
       "    <tr>\n",
       "      <th>11760</th>\n",
       "      <td>09/11/2022 13:33:53</td>\n",
       "      <td>{'C.P.': '50800', 'Dirección': 'CARRETERA N-33...</td>\n",
       "      <td>Archivo de todos los productos en todas las es...</td>\n",
       "      <td>OK</td>\n",
       "    </tr>\n",
       "    <tr>\n",
       "      <th>11761</th>\n",
       "      <td>09/11/2022 13:33:53</td>\n",
       "      <td>{'C.P.': '50800', 'Dirección': 'CALLE AUSTRIA,...</td>\n",
       "      <td>Archivo de todos los productos en todas las es...</td>\n",
       "      <td>OK</td>\n",
       "    </tr>\n",
       "    <tr>\n",
       "      <th>11762</th>\n",
       "      <td>09/11/2022 13:33:53</td>\n",
       "      <td>{'C.P.': '50810', 'Dirección': 'CALLE COOPERAT...</td>\n",
       "      <td>Archivo de todos los productos en todas las es...</td>\n",
       "      <td>OK</td>\n",
       "    </tr>\n",
       "  </tbody>\n",
       "</table>\n",
       "<p>11763 rows × 4 columns</p>\n",
       "</div>"
      ],
      "text/plain": [
       "                     Fecha                                    ListaEESSPrecio  \\\n",
       "0      09/11/2022 13:33:53  {'C.P.': '02250', 'Dirección': 'AVENIDA CASTIL...   \n",
       "1      09/11/2022 13:33:53  {'C.P.': '02152', 'Dirección': 'CR CM-332, 46,...   \n",
       "2      09/11/2022 13:33:53  {'C.P.': '02001', 'Dirección': 'CALLE PRINCIPE...   \n",
       "3      09/11/2022 13:33:53  {'C.P.': '02001', 'Dirección': 'CALLE FEDERICO...   \n",
       "4      09/11/2022 13:33:53  {'C.P.': '02001', 'Dirección': 'AVENIDA 1º DE ...   \n",
       "...                    ...                                                ...   \n",
       "11758  09/11/2022 13:33:53  {'C.P.': '50197', 'Dirección': 'RONDA FERIA DE...   \n",
       "11759  09/11/2022 13:33:53  {'C.P.': '50197', 'Dirección': 'POLIGONO CALLE...   \n",
       "11760  09/11/2022 13:33:53  {'C.P.': '50800', 'Dirección': 'CARRETERA N-33...   \n",
       "11761  09/11/2022 13:33:53  {'C.P.': '50800', 'Dirección': 'CALLE AUSTRIA,...   \n",
       "11762  09/11/2022 13:33:53  {'C.P.': '50810', 'Dirección': 'CALLE COOPERAT...   \n",
       "\n",
       "                                                    Nota ResultadoConsulta  \n",
       "0      Archivo de todos los productos en todas las es...                OK  \n",
       "1      Archivo de todos los productos en todas las es...                OK  \n",
       "2      Archivo de todos los productos en todas las es...                OK  \n",
       "3      Archivo de todos los productos en todas las es...                OK  \n",
       "4      Archivo de todos los productos en todas las es...                OK  \n",
       "...                                                  ...               ...  \n",
       "11758  Archivo de todos los productos en todas las es...                OK  \n",
       "11759  Archivo de todos los productos en todas las es...                OK  \n",
       "11760  Archivo de todos los productos en todas las es...                OK  \n",
       "11761  Archivo de todos los productos en todas las es...                OK  \n",
       "11762  Archivo de todos los productos en todas las es...                OK  \n",
       "\n",
       "[11763 rows x 4 columns]"
      ]
     },
     "execution_count": 5,
     "metadata": {},
     "output_type": "execute_result"
    }
   ],
   "source": [
    "# Crear Dataframe\n",
    "\n",
    "df = pd.DataFrame(data)\n",
    "df"
   ]
  },
  {
   "cell_type": "markdown",
   "id": "bf936489",
   "metadata": {},
   "source": [
    "---\n",
    "\n",
    "Step 2 (Data Transformation)"
   ]
  },
  {
   "cell_type": "code",
   "execution_count": 6,
   "id": "82a65952",
   "metadata": {},
   "outputs": [
    {
     "data": {
      "text/plain": [
       "dict"
      ]
     },
     "execution_count": 6,
     "metadata": {},
     "output_type": "execute_result"
    }
   ],
   "source": [
    "# Análisis de la columna Lista EESS Precio\n",
    "\n",
    "diccionario = df['ListaEESSPrecio'].iloc[1]\n",
    "type(diccionario)"
   ]
  },
  {
   "cell_type": "code",
   "execution_count": 7,
   "id": "3207dce3",
   "metadata": {},
   "outputs": [
    {
     "data": {
      "text/plain": [
       "{'C.P.': '02152',\n",
       " 'Dirección': 'CR CM-332, 46,4',\n",
       " 'Horario': 'L-D: 7:00-23:00',\n",
       " 'Latitud': '39,100389',\n",
       " 'Localidad': 'ALATOZ',\n",
       " 'Longitud (WGS84)': '-1,346083',\n",
       " 'Margen': 'I',\n",
       " 'Municipio': 'Alatoz',\n",
       " 'Precio Biodiesel': '',\n",
       " 'Precio Bioetanol': '',\n",
       " 'Precio Gas Natural Comprimido': '',\n",
       " 'Precio Gas Natural Licuado': '',\n",
       " 'Precio Gases licuados del petróleo': '',\n",
       " 'Precio Gasoleo A': '2,040',\n",
       " 'Precio Gasoleo B': '',\n",
       " 'Precio Gasoleo Premium': '2,300',\n",
       " 'Precio Gasolina 95 E10': '',\n",
       " 'Precio Gasolina 95 E5': '1,909',\n",
       " 'Precio Gasolina 95 E5 Premium': '',\n",
       " 'Precio Gasolina 98 E10': '',\n",
       " 'Precio Gasolina 98 E5': '2,200',\n",
       " 'Precio Hidrogeno': '',\n",
       " 'Provincia': 'ALBACETE',\n",
       " 'Remisión': 'dm',\n",
       " 'Rótulo': 'REPSOL',\n",
       " 'Tipo Venta': 'P',\n",
       " '% BioEtanol': '0,0',\n",
       " '% Éster metílico': '0,0',\n",
       " 'IDEESS': '5122',\n",
       " 'IDMunicipio': '53',\n",
       " 'IDProvincia': '02',\n",
       " 'IDCCAA': '07'}"
      ]
     },
     "execution_count": 7,
     "metadata": {},
     "output_type": "execute_result"
    }
   ],
   "source": [
    "diccionario"
   ]
  },
  {
   "cell_type": "code",
   "execution_count": 8,
   "id": "b1c814d5",
   "metadata": {
    "scrolled": true
   },
   "outputs": [
    {
     "data": {
      "text/html": [
       "<div>\n",
       "<style scoped>\n",
       "    .dataframe tbody tr th:only-of-type {\n",
       "        vertical-align: middle;\n",
       "    }\n",
       "\n",
       "    .dataframe tbody tr th {\n",
       "        vertical-align: top;\n",
       "    }\n",
       "\n",
       "    .dataframe thead th {\n",
       "        text-align: right;\n",
       "    }\n",
       "</style>\n",
       "<table border=\"1\" class=\"dataframe\">\n",
       "  <thead>\n",
       "    <tr style=\"text-align: right;\">\n",
       "      <th></th>\n",
       "      <th>Fecha</th>\n",
       "      <th>C.P.</th>\n",
       "      <th>Dirección</th>\n",
       "      <th>Horario</th>\n",
       "      <th>Latitud</th>\n",
       "      <th>Localidad</th>\n",
       "      <th>Longitud (WGS84)</th>\n",
       "      <th>Margen</th>\n",
       "      <th>Municipio</th>\n",
       "      <th>Precio Biodiesel</th>\n",
       "      <th>...</th>\n",
       "      <th>Provincia</th>\n",
       "      <th>Remisión</th>\n",
       "      <th>Rótulo</th>\n",
       "      <th>Tipo Venta</th>\n",
       "      <th>% BioEtanol</th>\n",
       "      <th>% Éster metílico</th>\n",
       "      <th>IDEESS</th>\n",
       "      <th>IDMunicipio</th>\n",
       "      <th>IDProvincia</th>\n",
       "      <th>IDCCAA</th>\n",
       "    </tr>\n",
       "  </thead>\n",
       "  <tbody>\n",
       "    <tr>\n",
       "      <th>0</th>\n",
       "      <td>09/11/2022 13:33:53</td>\n",
       "      <td>02250</td>\n",
       "      <td>AVENIDA CASTILLA LA MANCHA, 26</td>\n",
       "      <td>L-D: 07:00-22:00</td>\n",
       "      <td>39,211417</td>\n",
       "      <td>ABENGIBRE</td>\n",
       "      <td>-1,539167</td>\n",
       "      <td>D</td>\n",
       "      <td>Abengibre</td>\n",
       "      <td></td>\n",
       "      <td>...</td>\n",
       "      <td>ALBACETE</td>\n",
       "      <td>dm</td>\n",
       "      <td>Nº 10.935</td>\n",
       "      <td>P</td>\n",
       "      <td>0,0</td>\n",
       "      <td>0,0</td>\n",
       "      <td>4375</td>\n",
       "      <td>52</td>\n",
       "      <td>02</td>\n",
       "      <td>07</td>\n",
       "    </tr>\n",
       "    <tr>\n",
       "      <th>1</th>\n",
       "      <td>09/11/2022 13:33:53</td>\n",
       "      <td>02152</td>\n",
       "      <td>CR CM-332, 46,4</td>\n",
       "      <td>L-D: 7:00-23:00</td>\n",
       "      <td>39,100389</td>\n",
       "      <td>ALATOZ</td>\n",
       "      <td>-1,346083</td>\n",
       "      <td>I</td>\n",
       "      <td>Alatoz</td>\n",
       "      <td></td>\n",
       "      <td>...</td>\n",
       "      <td>ALBACETE</td>\n",
       "      <td>dm</td>\n",
       "      <td>REPSOL</td>\n",
       "      <td>P</td>\n",
       "      <td>0,0</td>\n",
       "      <td>0,0</td>\n",
       "      <td>5122</td>\n",
       "      <td>53</td>\n",
       "      <td>02</td>\n",
       "      <td>07</td>\n",
       "    </tr>\n",
       "    <tr>\n",
       "      <th>2</th>\n",
       "      <td>09/11/2022 13:33:53</td>\n",
       "      <td>02001</td>\n",
       "      <td>CALLE PRINCIPE DE ASTURIAS (POLÍGONO DE ROMICA...</td>\n",
       "      <td>L-D: 06:00-21:30</td>\n",
       "      <td>39,054694</td>\n",
       "      <td>ALBACETE</td>\n",
       "      <td>-1,832000</td>\n",
       "      <td>I</td>\n",
       "      <td>Albacete</td>\n",
       "      <td></td>\n",
       "      <td>...</td>\n",
       "      <td>ALBACETE</td>\n",
       "      <td>OM</td>\n",
       "      <td>BP ROMICA</td>\n",
       "      <td>P</td>\n",
       "      <td>0,0</td>\n",
       "      <td>0,0</td>\n",
       "      <td>12054</td>\n",
       "      <td>54</td>\n",
       "      <td>02</td>\n",
       "      <td>07</td>\n",
       "    </tr>\n",
       "    <tr>\n",
       "      <th>3</th>\n",
       "      <td>09/11/2022 13:33:53</td>\n",
       "      <td>02001</td>\n",
       "      <td>CALLE FEDERICO GARCIA LORCA, 1</td>\n",
       "      <td>L-D: 24H</td>\n",
       "      <td>39,000861</td>\n",
       "      <td>ALBACETE</td>\n",
       "      <td>-1,849833</td>\n",
       "      <td>D</td>\n",
       "      <td>Albacete</td>\n",
       "      <td></td>\n",
       "      <td>...</td>\n",
       "      <td>ALBACETE</td>\n",
       "      <td>dm</td>\n",
       "      <td>PLENOIL</td>\n",
       "      <td>P</td>\n",
       "      <td>0,0</td>\n",
       "      <td>0,0</td>\n",
       "      <td>13933</td>\n",
       "      <td>54</td>\n",
       "      <td>02</td>\n",
       "      <td>07</td>\n",
       "    </tr>\n",
       "    <tr>\n",
       "      <th>4</th>\n",
       "      <td>09/11/2022 13:33:53</td>\n",
       "      <td>02001</td>\n",
       "      <td>AVENIDA 1º DE MAYO, S/N</td>\n",
       "      <td>L-S: 08:00-22:00; D: 09:00-21:00</td>\n",
       "      <td>38,985667</td>\n",
       "      <td>ALBACETE</td>\n",
       "      <td>-1,868500</td>\n",
       "      <td>N</td>\n",
       "      <td>Albacete</td>\n",
       "      <td></td>\n",
       "      <td>...</td>\n",
       "      <td>ALBACETE</td>\n",
       "      <td>dm</td>\n",
       "      <td>CARREFOUR</td>\n",
       "      <td>P</td>\n",
       "      <td>0,0</td>\n",
       "      <td>0,0</td>\n",
       "      <td>10765</td>\n",
       "      <td>54</td>\n",
       "      <td>02</td>\n",
       "      <td>07</td>\n",
       "    </tr>\n",
       "    <tr>\n",
       "      <th>...</th>\n",
       "      <td>...</td>\n",
       "      <td>...</td>\n",
       "      <td>...</td>\n",
       "      <td>...</td>\n",
       "      <td>...</td>\n",
       "      <td>...</td>\n",
       "      <td>...</td>\n",
       "      <td>...</td>\n",
       "      <td>...</td>\n",
       "      <td>...</td>\n",
       "      <td>...</td>\n",
       "      <td>...</td>\n",
       "      <td>...</td>\n",
       "      <td>...</td>\n",
       "      <td>...</td>\n",
       "      <td>...</td>\n",
       "      <td>...</td>\n",
       "      <td>...</td>\n",
       "      <td>...</td>\n",
       "      <td>...</td>\n",
       "      <td>...</td>\n",
       "    </tr>\n",
       "    <tr>\n",
       "      <th>11758</th>\n",
       "      <td>09/11/2022 13:33:53</td>\n",
       "      <td>50197</td>\n",
       "      <td>RONDA FERIA DE MUESTRAS, DE LA, 20</td>\n",
       "      <td>L-D: 24H</td>\n",
       "      <td>41,637944</td>\n",
       "      <td>ZARAGOZA</td>\n",
       "      <td>-0,986389</td>\n",
       "      <td>D</td>\n",
       "      <td>Zaragoza</td>\n",
       "      <td></td>\n",
       "      <td>...</td>\n",
       "      <td>ZARAGOZA</td>\n",
       "      <td>OM</td>\n",
       "      <td>IDS</td>\n",
       "      <td>P</td>\n",
       "      <td>0,0</td>\n",
       "      <td>0,0</td>\n",
       "      <td>12472</td>\n",
       "      <td>8108</td>\n",
       "      <td>50</td>\n",
       "      <td>02</td>\n",
       "    </tr>\n",
       "    <tr>\n",
       "      <th>11759</th>\n",
       "      <td>09/11/2022 13:33:53</td>\n",
       "      <td>50197</td>\n",
       "      <td>POLIGONO CALLE TURIASO, 31</td>\n",
       "      <td>L-D: 24H</td>\n",
       "      <td>41,645722</td>\n",
       "      <td>ZARAGOZA</td>\n",
       "      <td>-0,974194</td>\n",
       "      <td>D</td>\n",
       "      <td>Zaragoza</td>\n",
       "      <td></td>\n",
       "      <td>...</td>\n",
       "      <td>ZARAGOZA</td>\n",
       "      <td>dm</td>\n",
       "      <td>NOIL</td>\n",
       "      <td>P</td>\n",
       "      <td>0,0</td>\n",
       "      <td>0,0</td>\n",
       "      <td>13917</td>\n",
       "      <td>8108</td>\n",
       "      <td>50</td>\n",
       "      <td>02</td>\n",
       "    </tr>\n",
       "    <tr>\n",
       "      <th>11760</th>\n",
       "      <td>09/11/2022 13:33:53</td>\n",
       "      <td>50800</td>\n",
       "      <td>CARRETERA N-330A KM. 24,000</td>\n",
       "      <td>L-D: 06:00-22:00</td>\n",
       "      <td>41,857000</td>\n",
       "      <td>ZUERA</td>\n",
       "      <td>-0,794000</td>\n",
       "      <td>D</td>\n",
       "      <td>Zuera</td>\n",
       "      <td></td>\n",
       "      <td>...</td>\n",
       "      <td>ZARAGOZA</td>\n",
       "      <td>OM</td>\n",
       "      <td>REPSOL</td>\n",
       "      <td>P</td>\n",
       "      <td>0,0</td>\n",
       "      <td>0,0</td>\n",
       "      <td>1452</td>\n",
       "      <td>8109</td>\n",
       "      <td>50</td>\n",
       "      <td>02</td>\n",
       "    </tr>\n",
       "    <tr>\n",
       "      <th>11761</th>\n",
       "      <td>09/11/2022 13:33:53</td>\n",
       "      <td>50800</td>\n",
       "      <td>CALLE AUSTRIA, 11,17</td>\n",
       "      <td>L-D: 24H</td>\n",
       "      <td>41,883583</td>\n",
       "      <td>ZUERA</td>\n",
       "      <td>-0,782833</td>\n",
       "      <td>D</td>\n",
       "      <td>Zuera</td>\n",
       "      <td></td>\n",
       "      <td>...</td>\n",
       "      <td>ZARAGOZA</td>\n",
       "      <td>dm</td>\n",
       "      <td>AN ENERGETICOS ZUERA</td>\n",
       "      <td>P</td>\n",
       "      <td>0,0</td>\n",
       "      <td>0,0</td>\n",
       "      <td>9085</td>\n",
       "      <td>8109</td>\n",
       "      <td>50</td>\n",
       "      <td>02</td>\n",
       "    </tr>\n",
       "    <tr>\n",
       "      <th>11762</th>\n",
       "      <td>09/11/2022 13:33:53</td>\n",
       "      <td>50810</td>\n",
       "      <td>CALLE COOPERATIVA, 2</td>\n",
       "      <td>L-D: 24H</td>\n",
       "      <td>41,938750</td>\n",
       "      <td>ONTINAR DE SALZ</td>\n",
       "      <td>-0,757611</td>\n",
       "      <td>D</td>\n",
       "      <td>Zuera</td>\n",
       "      <td></td>\n",
       "      <td>...</td>\n",
       "      <td>ZARAGOZA</td>\n",
       "      <td>dm</td>\n",
       "      <td>COOPERATIVA SAN ISIDRO</td>\n",
       "      <td>P</td>\n",
       "      <td>0,0</td>\n",
       "      <td>0,0</td>\n",
       "      <td>9068</td>\n",
       "      <td>8109</td>\n",
       "      <td>50</td>\n",
       "      <td>02</td>\n",
       "    </tr>\n",
       "  </tbody>\n",
       "</table>\n",
       "<p>11763 rows × 33 columns</p>\n",
       "</div>"
      ],
      "text/plain": [
       "                     Fecha   C.P.  \\\n",
       "0      09/11/2022 13:33:53  02250   \n",
       "1      09/11/2022 13:33:53  02152   \n",
       "2      09/11/2022 13:33:53  02001   \n",
       "3      09/11/2022 13:33:53  02001   \n",
       "4      09/11/2022 13:33:53  02001   \n",
       "...                    ...    ...   \n",
       "11758  09/11/2022 13:33:53  50197   \n",
       "11759  09/11/2022 13:33:53  50197   \n",
       "11760  09/11/2022 13:33:53  50800   \n",
       "11761  09/11/2022 13:33:53  50800   \n",
       "11762  09/11/2022 13:33:53  50810   \n",
       "\n",
       "                                               Dirección  \\\n",
       "0                         AVENIDA CASTILLA LA MANCHA, 26   \n",
       "1                                        CR CM-332, 46,4   \n",
       "2      CALLE PRINCIPE DE ASTURIAS (POLÍGONO DE ROMICA...   \n",
       "3                         CALLE FEDERICO GARCIA LORCA, 1   \n",
       "4                                AVENIDA 1º DE MAYO, S/N   \n",
       "...                                                  ...   \n",
       "11758                 RONDA FERIA DE MUESTRAS, DE LA, 20   \n",
       "11759                         POLIGONO CALLE TURIASO, 31   \n",
       "11760                        CARRETERA N-330A KM. 24,000   \n",
       "11761                               CALLE AUSTRIA, 11,17   \n",
       "11762                               CALLE COOPERATIVA, 2   \n",
       "\n",
       "                                Horario    Latitud        Localidad  \\\n",
       "0                      L-D: 07:00-22:00  39,211417        ABENGIBRE   \n",
       "1                       L-D: 7:00-23:00  39,100389           ALATOZ   \n",
       "2                      L-D: 06:00-21:30  39,054694         ALBACETE   \n",
       "3                              L-D: 24H  39,000861         ALBACETE   \n",
       "4      L-S: 08:00-22:00; D: 09:00-21:00  38,985667         ALBACETE   \n",
       "...                                 ...        ...              ...   \n",
       "11758                          L-D: 24H  41,637944         ZARAGOZA   \n",
       "11759                          L-D: 24H  41,645722         ZARAGOZA   \n",
       "11760                  L-D: 06:00-22:00  41,857000            ZUERA   \n",
       "11761                          L-D: 24H  41,883583            ZUERA   \n",
       "11762                          L-D: 24H  41,938750  ONTINAR DE SALZ   \n",
       "\n",
       "      Longitud (WGS84) Margen  Municipio Precio Biodiesel  ... Provincia  \\\n",
       "0            -1,539167      D  Abengibre                   ...  ALBACETE   \n",
       "1            -1,346083      I     Alatoz                   ...  ALBACETE   \n",
       "2            -1,832000      I   Albacete                   ...  ALBACETE   \n",
       "3            -1,849833      D   Albacete                   ...  ALBACETE   \n",
       "4            -1,868500      N   Albacete                   ...  ALBACETE   \n",
       "...                ...    ...        ...              ...  ...       ...   \n",
       "11758        -0,986389      D   Zaragoza                   ...  ZARAGOZA   \n",
       "11759        -0,974194      D   Zaragoza                   ...  ZARAGOZA   \n",
       "11760        -0,794000      D      Zuera                   ...  ZARAGOZA   \n",
       "11761        -0,782833      D      Zuera                   ...  ZARAGOZA   \n",
       "11762        -0,757611      D      Zuera                   ...  ZARAGOZA   \n",
       "\n",
       "      Remisión                  Rótulo Tipo Venta % BioEtanol  \\\n",
       "0           dm               Nº 10.935          P         0,0   \n",
       "1           dm                  REPSOL          P         0,0   \n",
       "2           OM               BP ROMICA          P         0,0   \n",
       "3           dm                 PLENOIL          P         0,0   \n",
       "4           dm               CARREFOUR          P         0,0   \n",
       "...        ...                     ...        ...         ...   \n",
       "11758       OM                     IDS          P         0,0   \n",
       "11759       dm                    NOIL          P         0,0   \n",
       "11760       OM                  REPSOL          P         0,0   \n",
       "11761       dm    AN ENERGETICOS ZUERA          P         0,0   \n",
       "11762       dm  COOPERATIVA SAN ISIDRO          P         0,0   \n",
       "\n",
       "      % Éster metílico IDEESS IDMunicipio IDProvincia IDCCAA  \n",
       "0                  0,0   4375          52          02     07  \n",
       "1                  0,0   5122          53          02     07  \n",
       "2                  0,0  12054          54          02     07  \n",
       "3                  0,0  13933          54          02     07  \n",
       "4                  0,0  10765          54          02     07  \n",
       "...                ...    ...         ...         ...    ...  \n",
       "11758              0,0  12472        8108          50     02  \n",
       "11759              0,0  13917        8108          50     02  \n",
       "11760              0,0   1452        8109          50     02  \n",
       "11761              0,0   9085        8109          50     02  \n",
       "11762              0,0   9068        8109          50     02  \n",
       "\n",
       "[11763 rows x 33 columns]"
      ]
     },
     "execution_count": 8,
     "metadata": {},
     "output_type": "execute_result"
    }
   ],
   "source": [
    "# Extraigo informacion de columna EESS Precio, utilizando json normalize\n",
    "\n",
    "df_n = pd.concat([df[['Fecha']],pd.json_normalize(df['ListaEESSPrecio'])], axis=1)\n",
    "df_n\n"
   ]
  },
  {
   "cell_type": "code",
   "execution_count": 9,
   "id": "90463003",
   "metadata": {},
   "outputs": [],
   "source": [
    "# Guardamos df original para sucesion de tiempo\n",
    "#df_n.to_csv('2022-11-05x.csv', index=False)"
   ]
  },
  {
   "cell_type": "code",
   "execution_count": 10,
   "id": "2d75fcc5",
   "metadata": {
    "scrolled": true
   },
   "outputs": [
    {
     "name": "stdout",
     "output_type": "stream",
     "text": [
      "<class 'pandas.core.frame.DataFrame'>\n",
      "RangeIndex: 11763 entries, 0 to 11762\n",
      "Data columns (total 33 columns):\n",
      " #   Column                              Non-Null Count  Dtype \n",
      "---  ------                              --------------  ----- \n",
      " 0   Fecha                               11763 non-null  object\n",
      " 1   C.P.                                11763 non-null  object\n",
      " 2   Dirección                           11763 non-null  object\n",
      " 3   Horario                             11763 non-null  object\n",
      " 4   Latitud                             11763 non-null  object\n",
      " 5   Localidad                           11763 non-null  object\n",
      " 6   Longitud (WGS84)                    11763 non-null  object\n",
      " 7   Margen                              11763 non-null  object\n",
      " 8   Municipio                           11763 non-null  object\n",
      " 9   Precio Biodiesel                    11763 non-null  object\n",
      " 10  Precio Bioetanol                    11763 non-null  object\n",
      " 11  Precio Gas Natural Comprimido       11763 non-null  object\n",
      " 12  Precio Gas Natural Licuado          11763 non-null  object\n",
      " 13  Precio Gases licuados del petróleo  11763 non-null  object\n",
      " 14  Precio Gasoleo A                    11763 non-null  object\n",
      " 15  Precio Gasoleo B                    11763 non-null  object\n",
      " 16  Precio Gasoleo Premium              11763 non-null  object\n",
      " 17  Precio Gasolina 95 E10              11763 non-null  object\n",
      " 18  Precio Gasolina 95 E5               11763 non-null  object\n",
      " 19  Precio Gasolina 95 E5 Premium       11763 non-null  object\n",
      " 20  Precio Gasolina 98 E10              11763 non-null  object\n",
      " 21  Precio Gasolina 98 E5               11763 non-null  object\n",
      " 22  Precio Hidrogeno                    11763 non-null  object\n",
      " 23  Provincia                           11763 non-null  object\n",
      " 24  Remisión                            11763 non-null  object\n",
      " 25  Rótulo                              11763 non-null  object\n",
      " 26  Tipo Venta                          11763 non-null  object\n",
      " 27  % BioEtanol                         11763 non-null  object\n",
      " 28  % Éster metílico                    11763 non-null  object\n",
      " 29  IDEESS                              11763 non-null  object\n",
      " 30  IDMunicipio                         11763 non-null  object\n",
      " 31  IDProvincia                         11763 non-null  object\n",
      " 32  IDCCAA                              11763 non-null  object\n",
      "dtypes: object(33)\n",
      "memory usage: 3.0+ MB\n"
     ]
    }
   ],
   "source": [
    "df_n.info()"
   ]
  },
  {
   "cell_type": "markdown",
   "id": "ee524e6e",
   "metadata": {},
   "source": [
    "---\n",
    "Step (3): EDA"
   ]
  },
  {
   "cell_type": "markdown",
   "id": "7027ceb6",
   "metadata": {},
   "source": [
    "                                                    Análisis de Columnas"
   ]
  },
  {
   "cell_type": "markdown",
   "id": "4deaad69",
   "metadata": {},
   "source": [
    "# Fecha"
   ]
  },
  {
   "cell_type": "code",
   "execution_count": 11,
   "id": "dd7735c8",
   "metadata": {},
   "outputs": [
    {
     "name": "stdout",
     "output_type": "stream",
     "text": [
      "<class 'numpy.ndarray'>\n",
      "1\n"
     ]
    },
    {
     "data": {
      "text/plain": [
       "array(['09/11/2022 13:33:53'], dtype=object)"
      ]
     },
     "execution_count": 11,
     "metadata": {},
     "output_type": "execute_result"
    }
   ],
   "source": [
    "# Fecha (solo hay una fecha)\n",
    "Fecha = df_n['Fecha'].unique()\n",
    "print(type(Fecha))\n",
    "print(len(Fecha))\n",
    "Fecha"
   ]
  },
  {
   "cell_type": "code",
   "execution_count": 12,
   "id": "5d054a1e",
   "metadata": {},
   "outputs": [
    {
     "data": {
      "text/plain": [
       "0"
      ]
     },
     "execution_count": 12,
     "metadata": {},
     "output_type": "execute_result"
    }
   ],
   "source": [
    "# Nulos \n",
    "nulos_f = df_n['Fecha'].isnull().sum()\n",
    "nulos_f"
   ]
  },
  {
   "cell_type": "markdown",
   "id": "addc43ab",
   "metadata": {},
   "source": [
    "# Código Postal"
   ]
  },
  {
   "cell_type": "code",
   "execution_count": 13,
   "id": "603eca2d",
   "metadata": {},
   "outputs": [
    {
     "name": "stdout",
     "output_type": "stream",
     "text": [
      "<class 'numpy.ndarray'>\n",
      "4535\n"
     ]
    },
    {
     "data": {
      "text/plain": [
       "array(['02250', '02152', '02001', ..., '50197', '50800', '50810'],\n",
       "      dtype=object)"
      ]
     },
     "execution_count": 13,
     "metadata": {},
     "output_type": "execute_result"
    }
   ],
   "source": [
    "# Columna C.P.\n",
    "cp = df_n['C.P.'].unique()\n",
    "print(type(cp))\n",
    "print(len(cp))\n",
    "cp\n",
    "# En Esaña hay 11752 codigos postales en total"
   ]
  },
  {
   "cell_type": "code",
   "execution_count": 14,
   "id": "de4b57fa",
   "metadata": {},
   "outputs": [
    {
     "data": {
      "text/plain": [
       "0"
      ]
     },
     "execution_count": 14,
     "metadata": {},
     "output_type": "execute_result"
    }
   ],
   "source": [
    "# Nulos \n",
    "nulos_cp = df_n['C.P.'].isnull().sum()\n",
    "nulos_cp"
   ]
  },
  {
   "cell_type": "markdown",
   "id": "cd713bcb",
   "metadata": {},
   "source": [
    "# Dirección"
   ]
  },
  {
   "cell_type": "code",
   "execution_count": 15,
   "id": "3ce78674",
   "metadata": {},
   "outputs": [
    {
     "name": "stdout",
     "output_type": "stream",
     "text": [
      "<class 'numpy.ndarray'>\n",
      "11448\n"
     ]
    },
    {
     "data": {
      "text/plain": [
       "array(['AVENIDA CASTILLA LA MANCHA, 26', 'CR CM-332, 46,4',\n",
       "       'CALLE PRINCIPE DE ASTURIAS (POLÍGONO DE ROMICA), 5', ...,\n",
       "       'POLIGONO CALLE TURIASO, 31', 'CARRETERA N-330A KM. 24,000',\n",
       "       'CALLE AUSTRIA, 11,17'], dtype=object)"
      ]
     },
     "execution_count": 15,
     "metadata": {},
     "output_type": "execute_result"
    }
   ],
   "source": [
    "# Columna  Dirección\n",
    "direccion = df_n['Dirección'].unique()\n",
    "print(type(direccion))\n",
    "print(len(direccion))\n",
    "direccion\n"
   ]
  },
  {
   "cell_type": "code",
   "execution_count": 16,
   "id": "e1030055",
   "metadata": {},
   "outputs": [
    {
     "data": {
      "text/plain": [
       "0"
      ]
     },
     "execution_count": 16,
     "metadata": {},
     "output_type": "execute_result"
    }
   ],
   "source": [
    "# Nulos dirección\n",
    "nulos_cp = df_n['Dirección'].isnull().sum()\n",
    "nulos_cp"
   ]
  },
  {
   "cell_type": "markdown",
   "id": "b540d156",
   "metadata": {},
   "source": [
    "# Horario"
   ]
  },
  {
   "cell_type": "code",
   "execution_count": 17,
   "id": "d951b048",
   "metadata": {},
   "outputs": [
    {
     "data": {
      "text/plain": [
       "array(['L-D: 07:00-22:00', 'L-D: 7:00-23:00', 'L-D: 06:00-21:30', ...,\n",
       "       'L-V: 05:30-22:00; S: 07:00-15:00; D: 08:00-15:00',\n",
       "       'L-V: 08:00-22:30; S: 10:00-22:30',\n",
       "       'L-V: 05:00-22:00; S-D: 08:00-22:00'], dtype=object)"
      ]
     },
     "execution_count": 17,
     "metadata": {},
     "output_type": "execute_result"
    }
   ],
   "source": [
    "# Horario\n",
    "horario = df_n['Horario'].unique()\n",
    "horario"
   ]
  },
  {
   "cell_type": "code",
   "execution_count": 18,
   "id": "6cb34506",
   "metadata": {},
   "outputs": [
    {
     "data": {
      "text/plain": [
       "0"
      ]
     },
     "execution_count": 18,
     "metadata": {},
     "output_type": "execute_result"
    }
   ],
   "source": [
    "# Nulos horario\n",
    "nulos_h = df_n['Horario'].isnull().sum()\n",
    "nulos_h"
   ]
  },
  {
   "cell_type": "markdown",
   "id": "129d07e9",
   "metadata": {},
   "source": [
    "# Latitud"
   ]
  },
  {
   "cell_type": "code",
   "execution_count": 19,
   "id": "aa9399ed",
   "metadata": {},
   "outputs": [
    {
     "name": "stdout",
     "output_type": "stream",
     "text": [
      "11409\n"
     ]
    },
    {
     "data": {
      "text/plain": [
       "array(['39,211417', '39,100389', '39,054694', ..., '41,857000',\n",
       "       '41,883583', '41,938750'], dtype=object)"
      ]
     },
     "execution_count": 19,
     "metadata": {},
     "output_type": "execute_result"
    }
   ],
   "source": [
    "#Latitud (Coincide Latitud y Longitud con las coordenadas en las gasolineras de Google Maps)\n",
    "latitud = df_n['Latitud'].unique()\n",
    "print(len(latitud ))\n",
    "latitud\n"
   ]
  },
  {
   "cell_type": "code",
   "execution_count": 20,
   "id": "b12f974a",
   "metadata": {},
   "outputs": [
    {
     "data": {
      "text/plain": [
       "0"
      ]
     },
     "execution_count": 20,
     "metadata": {},
     "output_type": "execute_result"
    }
   ],
   "source": [
    "# Nulos Latitud\n",
    "nulos_l = df_n['Latitud'].isnull().sum()\n",
    "nulos_l"
   ]
  },
  {
   "cell_type": "markdown",
   "id": "14f71694",
   "metadata": {},
   "source": [
    "# Longitud"
   ]
  },
  {
   "cell_type": "code",
   "execution_count": 21,
   "id": "26f3092e",
   "metadata": {
    "scrolled": true
   },
   "outputs": [
    {
     "name": "stdout",
     "output_type": "stream",
     "text": [
      "11519\n"
     ]
    },
    {
     "data": {
      "text/plain": [
       "array(['-1,539167', '-1,346083', '-1,832000', ..., '-0,794000',\n",
       "       '-0,782833', '-0,757611'], dtype=object)"
      ]
     },
     "execution_count": 21,
     "metadata": {},
     "output_type": "execute_result"
    }
   ],
   "source": [
    "# Longitud (Coincide Latitud y Longitud con las coordenadas en las gasolineras de Google Maps)\n",
    "Longitud = df_n['Longitud (WGS84)'].unique()\n",
    "print(len(Longitud))\n",
    "Longitud\n"
   ]
  },
  {
   "cell_type": "code",
   "execution_count": 22,
   "id": "e018ad91",
   "metadata": {},
   "outputs": [
    {
     "data": {
      "text/plain": [
       "0"
      ]
     },
     "execution_count": 22,
     "metadata": {},
     "output_type": "execute_result"
    }
   ],
   "source": [
    "# Nulos Longitud\n",
    "nulos_long = df_n['Longitud (WGS84)'].isnull().sum()\n",
    "nulos_long"
   ]
  },
  {
   "cell_type": "markdown",
   "id": "baaa7f76",
   "metadata": {},
   "source": [
    "# Localidad"
   ]
  },
  {
   "cell_type": "code",
   "execution_count": 23,
   "id": "05337df3",
   "metadata": {},
   "outputs": [
    {
     "name": "stdout",
     "output_type": "stream",
     "text": [
      "4231\n"
     ]
    },
    {
     "data": {
      "text/plain": [
       "array(['ABENGIBRE', 'ALATOZ', 'ALBACETE', ..., 'VILLARRAPA', 'ZUERA',\n",
       "       'ONTINAR DE SALZ'], dtype=object)"
      ]
     },
     "execution_count": 23,
     "metadata": {},
     "output_type": "execute_result"
    }
   ],
   "source": [
    "#Localidad\n",
    "Localidad = df_n['Localidad'].unique()\n",
    "print(len(Localidad))\n",
    "Localidad"
   ]
  },
  {
   "cell_type": "code",
   "execution_count": 24,
   "id": "46fae344",
   "metadata": {},
   "outputs": [
    {
     "data": {
      "text/plain": [
       "0"
      ]
     },
     "execution_count": 24,
     "metadata": {},
     "output_type": "execute_result"
    }
   ],
   "source": [
    "# Nulos Localidad\n",
    "nulos_loc = df_n['Localidad'].isnull().sum()\n",
    "nulos_loc"
   ]
  },
  {
   "cell_type": "markdown",
   "id": "8fa3baee",
   "metadata": {},
   "source": [
    "# Municipio "
   ]
  },
  {
   "cell_type": "code",
   "execution_count": 25,
   "id": "0e69e607",
   "metadata": {},
   "outputs": [
    {
     "name": "stdout",
     "output_type": "stream",
     "text": [
      "3434\n"
     ]
    },
    {
     "data": {
      "text/plain": [
       "array(['Abengibre', 'Alatoz', 'Albacete', ..., 'Villarroya de la Sierra',\n",
       "       'Zaragoza', 'Zuera'], dtype=object)"
      ]
     },
     "execution_count": 25,
     "metadata": {},
     "output_type": "execute_result"
    }
   ],
   "source": [
    "# Municipio (En España hay 8131 Municipios)\n",
    "Municipio = df_n['Municipio'].unique() \n",
    "print(len(Municipio))\n",
    "Municipio\n",
    "\n"
   ]
  },
  {
   "cell_type": "code",
   "execution_count": 26,
   "id": "223081b3",
   "metadata": {},
   "outputs": [
    {
     "data": {
      "text/plain": [
       "0"
      ]
     },
     "execution_count": 26,
     "metadata": {},
     "output_type": "execute_result"
    }
   ],
   "source": [
    "# Nulos Municipio\n",
    "nulos_loc = df_n['Municipio'].isnull().sum()\n",
    "nulos_loc"
   ]
  },
  {
   "cell_type": "markdown",
   "id": "cc6b303b",
   "metadata": {},
   "source": [
    "# Margen"
   ]
  },
  {
   "cell_type": "code",
   "execution_count": 27,
   "id": "cf022a39",
   "metadata": {},
   "outputs": [
    {
     "name": "stdout",
     "output_type": "stream",
     "text": [
      "3\n"
     ]
    },
    {
     "data": {
      "text/plain": [
       "array(['D', 'I', 'N'], dtype=object)"
      ]
     },
     "execution_count": 27,
     "metadata": {},
     "output_type": "execute_result"
    }
   ],
   "source": [
    "# Margen\n",
    "Margen = df_n['Margen'].unique()\n",
    "print(len(Margen))\n",
    "Margen"
   ]
  },
  {
   "cell_type": "markdown",
   "id": "2d2ea3bb",
   "metadata": {},
   "source": [
    "# Provincia "
   ]
  },
  {
   "cell_type": "code",
   "execution_count": 28,
   "id": "e1fa2d5f",
   "metadata": {},
   "outputs": [
    {
     "name": "stdout",
     "output_type": "stream",
     "text": [
      "52\n"
     ]
    },
    {
     "data": {
      "text/plain": [
       "array(['ALBACETE', 'ALICANTE', 'ALMERÍA', 'ARABA/ÁLAVA', 'ASTURIAS',\n",
       "       'ÁVILA', 'BADAJOZ', 'BALEARS (ILLES)', 'BARCELONA', 'BIZKAIA',\n",
       "       'BURGOS', 'CÁCERES', 'CÁDIZ', 'CANTABRIA', 'CASTELLÓN / CASTELLÓ',\n",
       "       'CEUTA', 'CIUDAD REAL', 'CÓRDOBA', 'CORUÑA (A)', 'CUENCA',\n",
       "       'GIPUZKOA', 'GIRONA', 'GRANADA', 'GUADALAJARA', 'HUELVA', 'HUESCA',\n",
       "       'JAÉN', 'LEÓN', 'LLEIDA', 'LUGO', 'MADRID', 'MÁLAGA', 'MELILLA',\n",
       "       'MURCIA', 'NAVARRA', 'OURENSE', 'PALENCIA', 'PALMAS (LAS)',\n",
       "       'PONTEVEDRA', 'RIOJA (LA)', 'SALAMANCA', 'SANTA CRUZ DE TENERIFE',\n",
       "       'SEGOVIA', 'SEVILLA', 'SORIA', 'TARRAGONA', 'TERUEL', 'TOLEDO',\n",
       "       'VALENCIA / VALÈNCIA', 'VALLADOLID', 'ZAMORA', 'ZARAGOZA'],\n",
       "      dtype=object)"
      ]
     },
     "execution_count": 28,
     "metadata": {},
     "output_type": "execute_result"
    }
   ],
   "source": [
    "# Provincia (Están todas las Provinicas de España en nuestro df)\n",
    "Provincia = df_n['Provincia'].unique()\n",
    "print(len(Provincia))\n",
    "Provincia"
   ]
  },
  {
   "cell_type": "code",
   "execution_count": 29,
   "id": "b27108a2",
   "metadata": {},
   "outputs": [
    {
     "data": {
      "text/plain": [
       "0"
      ]
     },
     "execution_count": 29,
     "metadata": {},
     "output_type": "execute_result"
    }
   ],
   "source": [
    "# Nulos Provincia\n",
    "nulos_prov = df_n['Provincia'].isnull().sum()\n",
    "nulos_prov"
   ]
  },
  {
   "cell_type": "markdown",
   "id": "722a58a1",
   "metadata": {},
   "source": [
    "# Remision"
   ]
  },
  {
   "cell_type": "code",
   "execution_count": 30,
   "id": "78c3b1c9",
   "metadata": {},
   "outputs": [
    {
     "name": "stdout",
     "output_type": "stream",
     "text": [
      "2\n",
      "<class 'numpy.ndarray'>\n"
     ]
    },
    {
     "data": {
      "text/plain": [
       "array(['dm', 'OM'], dtype=object)"
      ]
     },
     "execution_count": 30,
     "metadata": {},
     "output_type": "execute_result"
    }
   ],
   "source": [
    "# Remisión (Sistema de envío de información de precios y de ventas a través de API)\n",
    "Remision = df_n['Remisión'].unique()\n",
    "print(len(Remision))\n",
    "print(type(Remision))\n",
    "Remision"
   ]
  },
  {
   "cell_type": "markdown",
   "id": "cc886f49",
   "metadata": {},
   "source": [
    "# Rótulo"
   ]
  },
  {
   "cell_type": "code",
   "execution_count": 31,
   "id": "8157f57d",
   "metadata": {},
   "outputs": [
    {
     "name": "stdout",
     "output_type": "stream",
     "text": [
      "3992\n",
      "<class 'numpy.ndarray'>\n"
     ]
    },
    {
     "data": {
      "text/plain": [
       "array(['Nº 10.935', 'REPSOL', 'BP ROMICA', ..., 'DAGO',\n",
       "       'COOPERATIVA SAN LAMBERTO', 'AN ENERGETICOS ZUERA'], dtype=object)"
      ]
     },
     "execution_count": 31,
     "metadata": {},
     "output_type": "execute_result"
    }
   ],
   "source": [
    "# Rótulo (En España hay 3952 marcas de Gasolineras en España según datos de Google)\n",
    "Rotulo = df_n['Rótulo'].unique()\n",
    "print(len(Rotulo))\n",
    "print(type(Rotulo))\n",
    "Rotulo\n"
   ]
  },
  {
   "cell_type": "markdown",
   "id": "676ec408",
   "metadata": {},
   "source": [
    "# Tipo de Venta"
   ]
  },
  {
   "cell_type": "code",
   "execution_count": 32,
   "id": "7b2d09eb",
   "metadata": {},
   "outputs": [
    {
     "name": "stdout",
     "output_type": "stream",
     "text": [
      "2\n",
      "<class 'numpy.ndarray'>\n"
     ]
    },
    {
     "data": {
      "text/plain": [
       "array(['P', 'R'], dtype=object)"
      ]
     },
     "execution_count": 32,
     "metadata": {},
     "output_type": "execute_result"
    }
   ],
   "source": [
    "# Tipo Venta\n",
    "tv = df_n['Tipo Venta'].unique()\n",
    "print(len(tv))\n",
    "print(type(tv))\n",
    "tv"
   ]
  },
  {
   "cell_type": "markdown",
   "id": "7aad165f",
   "metadata": {},
   "source": [
    "# Porcentaje de Bioetanol"
   ]
  },
  {
   "cell_type": "code",
   "execution_count": 33,
   "id": "95e6e4b0",
   "metadata": {},
   "outputs": [
    {
     "name": "stdout",
     "output_type": "stream",
     "text": [
      "3\n",
      "<class 'numpy.ndarray'>\n"
     ]
    },
    {
     "data": {
      "text/plain": [
       "array(['0,0', '25,0', '85,0'], dtype=object)"
      ]
     },
     "execution_count": 33,
     "metadata": {},
     "output_type": "execute_result"
    }
   ],
   "source": [
    "# % BioEtanol (La diferencia entre gasolinas E5 o E10 significan el porcentaje de Etanol (5 o 10%))\n",
    "bioetanol = df_n['% BioEtanol'].unique()\n",
    "print(len(bioetanol))\n",
    "print(type(bioetanol))\n",
    "bioetanol"
   ]
  },
  {
   "cell_type": "markdown",
   "id": "54c7afc2",
   "metadata": {},
   "source": [
    "# Porcentaje de Éster Metílico"
   ]
  },
  {
   "cell_type": "code",
   "execution_count": 34,
   "id": "19aff9d9",
   "metadata": {},
   "outputs": [
    {
     "name": "stdout",
     "output_type": "stream",
     "text": [
      "6\n",
      "<class 'numpy.ndarray'>\n"
     ]
    },
    {
     "data": {
      "text/plain": [
       "array(['0,0', '7,0', '12,0', '20,0', '30,0', '10,0'], dtype=object)"
      ]
     },
     "execution_count": 34,
     "metadata": {},
     "output_type": "execute_result"
    }
   ],
   "source": [
    "# % Éster metílico (solo para Biodiesel)\n",
    "em = df_n['% Éster metílico'].unique()\n",
    "print(len(em))\n",
    "print(type(em))\n",
    "em"
   ]
  },
  {
   "cell_type": "markdown",
   "id": "e1bfb0ff",
   "metadata": {},
   "source": [
    "#  IDEESS"
   ]
  },
  {
   "cell_type": "code",
   "execution_count": 35,
   "id": "1bcc7c30",
   "metadata": {},
   "outputs": [
    {
     "name": "stdout",
     "output_type": "stream",
     "text": [
      "11763\n"
     ]
    },
    {
     "data": {
      "text/plain": [
       "array(['4375', '5122', '12054', ..., '1452', '9085', '9068'], dtype=object)"
      ]
     },
     "execution_count": 35,
     "metadata": {},
     "output_type": "execute_result"
    }
   ],
   "source": [
    "# IDEESS (ID Estación de Servicio, los mismos que estaciones (filas))\n",
    "IDEESS = df_n['IDEESS'].unique()\n",
    "print(len(IDEESS))\n",
    "type(IDEESS)\n",
    "IDEESS "
   ]
  },
  {
   "cell_type": "code",
   "execution_count": 36,
   "id": "89c026f2",
   "metadata": {},
   "outputs": [
    {
     "data": {
      "text/plain": [
       "0"
      ]
     },
     "execution_count": 36,
     "metadata": {},
     "output_type": "execute_result"
    }
   ],
   "source": [
    "# Nulos IDEESS\n",
    "nulos_IDEESS = df_n['IDEESS'].isnull().sum()\n",
    "nulos_IDEESS"
   ]
  },
  {
   "cell_type": "markdown",
   "id": "48e885d2",
   "metadata": {},
   "source": [
    "# ID Municipio"
   ]
  },
  {
   "cell_type": "code",
   "execution_count": 37,
   "id": "7dc3d12d",
   "metadata": {},
   "outputs": [
    {
     "name": "stdout",
     "output_type": "stream",
     "text": [
      "3435\n"
     ]
    },
    {
     "data": {
      "text/plain": [
       "array(['52', '53', '54', ..., '8103', '8108', '8109'], dtype=object)"
      ]
     },
     "execution_count": 37,
     "metadata": {},
     "output_type": "execute_result"
    }
   ],
   "source": [
    "# IDMunicipio (un ID más que municipios)\n",
    "idmun = df_n['IDMunicipio'].unique()\n",
    "print(len(idmun))\n",
    "type(idmun)\n",
    "idmun"
   ]
  },
  {
   "cell_type": "code",
   "execution_count": 38,
   "id": "c857c488",
   "metadata": {},
   "outputs": [
    {
     "data": {
      "text/plain": [
       "0"
      ]
     },
     "execution_count": 38,
     "metadata": {},
     "output_type": "execute_result"
    }
   ],
   "source": [
    "# Nulos ID Municipio\n",
    "nulos_IDMunicipio = df_n['IDMunicipio'].isnull().sum()\n",
    "nulos_IDMunicipio"
   ]
  },
  {
   "cell_type": "markdown",
   "id": "6568aaff",
   "metadata": {},
   "source": [
    "# ID Provincia"
   ]
  },
  {
   "cell_type": "code",
   "execution_count": 39,
   "id": "896e7bf1",
   "metadata": {},
   "outputs": [
    {
     "name": "stdout",
     "output_type": "stream",
     "text": [
      "52\n"
     ]
    },
    {
     "data": {
      "text/plain": [
       "array(['02', '03', '04', '01', '33', '05', '06', '07', '08', '48', '09',\n",
       "       '10', '11', '39', '12', '51', '13', '14', '15', '16', '20', '17',\n",
       "       '18', '19', '21', '22', '23', '24', '25', '27', '28', '29', '52',\n",
       "       '30', '31', '32', '34', '35', '36', '26', '37', '38', '40', '41',\n",
       "       '42', '43', '44', '45', '46', '47', '49', '50'], dtype=object)"
      ]
     },
     "execution_count": 39,
     "metadata": {},
     "output_type": "execute_result"
    }
   ],
   "source": [
    "# IDProvincia (Los mismos ID que Provincias)\n",
    "idprov = df_n['IDProvincia'].unique()\n",
    "print(len(idprov))\n",
    "type(idprov)\n",
    "idprov"
   ]
  },
  {
   "cell_type": "code",
   "execution_count": 40,
   "id": "0383161f",
   "metadata": {},
   "outputs": [
    {
     "data": {
      "text/plain": [
       "0"
      ]
     },
     "execution_count": 40,
     "metadata": {},
     "output_type": "execute_result"
    }
   ],
   "source": [
    "nulos_IDProvincia = df_n['IDProvincia'].isnull().sum()\n",
    "nulos_IDProvincia"
   ]
  },
  {
   "cell_type": "markdown",
   "id": "f0203c4c",
   "metadata": {},
   "source": [
    "# ID CCAA"
   ]
  },
  {
   "cell_type": "code",
   "execution_count": 41,
   "id": "cc731089",
   "metadata": {},
   "outputs": [
    {
     "name": "stdout",
     "output_type": "stream",
     "text": [
      "19\n"
     ]
    },
    {
     "data": {
      "text/plain": [
       "array(['07', '10', '01', '16', '03', '08', '11', '04', '09', '06', '18',\n",
       "       '12', '02', '13', '19', '14', '15', '05', '17'], dtype=object)"
      ]
     },
     "execution_count": 41,
     "metadata": {},
     "output_type": "execute_result"
    }
   ],
   "source": [
    "# IDCCAA (ID Comunidades Autónomas, 17 CCAA + Ceuta + Melilla)\n",
    "# IDProvincia (Los mismos ID que Provincias)\n",
    "idccaa = df_n['IDCCAA'].unique()\n",
    "print(len(idccaa))\n",
    "type(idccaa)\n",
    "idccaa"
   ]
  },
  {
   "cell_type": "markdown",
   "id": "4cf497b1",
   "metadata": {},
   "source": [
    "                                                Columnas Numéricas\n",
    "                                                "
   ]
  },
  {
   "cell_type": "markdown",
   "id": "cd72e5ad",
   "metadata": {},
   "source": [
    "# Biodiesel"
   ]
  },
  {
   "cell_type": "code",
   "execution_count": 42,
   "id": "01c87a0e",
   "metadata": {},
   "outputs": [
    {
     "name": "stdout",
     "output_type": "stream",
     "text": [
      "25\n",
      "<class 'numpy.ndarray'>\n"
     ]
    },
    {
     "data": {
      "text/plain": [
       "array(['', '1,968', '2,149', '1,999', '2,039', '1,799', '2,019', '1,769',\n",
       "       '1,859', '1,449', '1,958', '1,809', '2,030', '2,009', '2,049',\n",
       "       '1,869', '2,069', '1,989', '1,939', '2,040', '1,829', '1,839',\n",
       "       '1,729', '1,749', '1,966'], dtype=object)"
      ]
     },
     "execution_count": 42,
     "metadata": {},
     "output_type": "execute_result"
    }
   ],
   "source": [
    "Biodiesel = df_n['Precio Biodiesel'].unique()\n",
    "print(len(Biodiesel))\n",
    "print(type(Biodiesel))\n",
    "Biodiesel"
   ]
  },
  {
   "cell_type": "code",
   "execution_count": 43,
   "id": "c1172885",
   "metadata": {},
   "outputs": [],
   "source": [
    "# Convertimos columna categórica a numérica\n",
    "df_n['Precio Biodiesel']=df_n['Precio Biodiesel'].str.replace(',','.')\n",
    "df_n[['Precio Biodiesel']]=df_n[['Precio Biodiesel']].apply(pd.to_numeric)"
   ]
  },
  {
   "cell_type": "code",
   "execution_count": 44,
   "id": "3ba01c1b",
   "metadata": {},
   "outputs": [
    {
     "data": {
      "text/plain": [
       "count    38.000000\n",
       "mean      1.889184\n",
       "std       0.138145\n",
       "min       1.449000\n",
       "25%       1.799000\n",
       "50%       1.859000\n",
       "75%       1.999000\n",
       "max       2.149000\n",
       "Name: Precio Biodiesel, dtype: float64"
      ]
     },
     "execution_count": 44,
     "metadata": {},
     "output_type": "execute_result"
    }
   ],
   "source": [
    "df_n['Precio Biodiesel'].describe()\n"
   ]
  },
  {
   "cell_type": "code",
   "execution_count": 45,
   "id": "0b00d7af",
   "metadata": {},
   "outputs": [
    {
     "data": {
      "text/plain": [
       "11725"
      ]
     },
     "execution_count": 45,
     "metadata": {},
     "output_type": "execute_result"
    }
   ],
   "source": [
    "# Registros sin venta Biodiesel\n",
    "sin_suministro_b = df_n['Precio Biodiesel'].isnull().sum()\n",
    "sin_suministro_b"
   ]
  },
  {
   "cell_type": "markdown",
   "id": "fd2b4066",
   "metadata": {},
   "source": [
    "## Precio Bioetanol "
   ]
  },
  {
   "cell_type": "code",
   "execution_count": 46,
   "id": "edbcaac9",
   "metadata": {},
   "outputs": [
    {
     "name": "stdout",
     "output_type": "stream",
     "text": [
      "6\n",
      "<class 'numpy.ndarray'>\n"
     ]
    },
    {
     "data": {
      "text/plain": [
       "array(['', '2,239', '1,982', '1,487', '2,069', '1,889'], dtype=object)"
      ]
     },
     "execution_count": 46,
     "metadata": {},
     "output_type": "execute_result"
    }
   ],
   "source": [
    "Bioetanol = df_n['Precio Bioetanol'].unique()\n",
    "print(len(Bioetanol))\n",
    "print(type(Bioetanol))\n",
    "Bioetanol"
   ]
  },
  {
   "cell_type": "code",
   "execution_count": 47,
   "id": "3f6be22e",
   "metadata": {},
   "outputs": [],
   "source": [
    "# Convertimos columna categórica a numérica\n",
    "df_n['Precio Bioetanol']=df_n['Precio Bioetanol'].str.replace(',','.')\n",
    "df_n[['Precio Bioetanol']]=df_n[['Precio Bioetanol']].apply(pd.to_numeric)"
   ]
  },
  {
   "cell_type": "code",
   "execution_count": 48,
   "id": "336b94fa",
   "metadata": {},
   "outputs": [
    {
     "data": {
      "text/plain": [
       "count    5.000000\n",
       "mean     1.933200\n",
       "std      0.280796\n",
       "min      1.487000\n",
       "25%      1.889000\n",
       "50%      1.982000\n",
       "75%      2.069000\n",
       "max      2.239000\n",
       "Name: Precio Bioetanol, dtype: float64"
      ]
     },
     "execution_count": 48,
     "metadata": {},
     "output_type": "execute_result"
    }
   ],
   "source": [
    "df_n['Precio Bioetanol'].describe()"
   ]
  },
  {
   "cell_type": "code",
   "execution_count": 49,
   "id": "8614e236",
   "metadata": {},
   "outputs": [
    {
     "data": {
      "text/plain": [
       "11758"
      ]
     },
     "execution_count": 49,
     "metadata": {},
     "output_type": "execute_result"
    }
   ],
   "source": [
    "# Registros sin venta Biodiesel\n",
    "sin_suministro_be = df_n['Precio Bioetanol'].isnull().sum()\n",
    "sin_suministro_be"
   ]
  },
  {
   "cell_type": "markdown",
   "id": "de4c6c51",
   "metadata": {},
   "source": [
    "## Precio Gas Natural Comprimido"
   ]
  },
  {
   "cell_type": "code",
   "execution_count": 50,
   "id": "b2824198",
   "metadata": {},
   "outputs": [
    {
     "name": "stdout",
     "output_type": "stream",
     "text": [
      "33\n",
      "<class 'numpy.ndarray'>\n"
     ]
    },
    {
     "data": {
      "text/plain": [
       "array(['', '1,580', '1,379', '1,468', '1,485', '1,555', '1,518', '1,438',\n",
       "       '1,359', '1,349', '1,520', '1,389', '1,398', '1,420', '2,990',\n",
       "       '1,689', '1,399', '1,483', '1,948', '1,790', '1,749', '1,679',\n",
       "       '1,306', '1,615', '1,469', '1,449', '1,380', '2,350', '3,700',\n",
       "       '1,433', '1,594', '1,369', '1,709'], dtype=object)"
      ]
     },
     "execution_count": 50,
     "metadata": {},
     "output_type": "execute_result"
    }
   ],
   "source": [
    "Gas_n_c = df_n['Precio Gas Natural Comprimido'].unique()\n",
    "print(len(Gas_n_c))\n",
    "print(type(Gas_n_c))\n",
    "Gas_n_c"
   ]
  },
  {
   "cell_type": "code",
   "execution_count": 51,
   "id": "1ac50945",
   "metadata": {},
   "outputs": [],
   "source": [
    "# Convertimos columna categórica a numérica\n",
    "df_n['Precio Gas Natural Comprimido']=df_n['Precio Gas Natural Comprimido'].str.replace(',','.')\n",
    "df_n[['Precio Gas Natural Comprimido']]=df_n[['Precio Gas Natural Comprimido']].apply(pd.to_numeric)"
   ]
  },
  {
   "cell_type": "code",
   "execution_count": 52,
   "id": "1f65143d",
   "metadata": {},
   "outputs": [
    {
     "data": {
      "text/plain": [
       "count    122.000000\n",
       "mean       1.529139\n",
       "std        0.276240\n",
       "min        1.306000\n",
       "25%        1.379000\n",
       "50%        1.485000\n",
       "75%        1.580000\n",
       "max        3.700000\n",
       "Name: Precio Gas Natural Comprimido, dtype: float64"
      ]
     },
     "execution_count": 52,
     "metadata": {},
     "output_type": "execute_result"
    }
   ],
   "source": [
    "df_n['Precio Gas Natural Comprimido'].describe()"
   ]
  },
  {
   "cell_type": "code",
   "execution_count": 53,
   "id": "e7a5a486",
   "metadata": {},
   "outputs": [
    {
     "data": {
      "text/plain": [
       "11758"
      ]
     },
     "execution_count": 53,
     "metadata": {},
     "output_type": "execute_result"
    }
   ],
   "source": [
    "# Registros sin venta Biodiesel\n",
    "sin_suministro_be = df_n['Precio Bioetanol'].isnull().sum()\n",
    "sin_suministro_be"
   ]
  },
  {
   "cell_type": "markdown",
   "id": "33ddd76e",
   "metadata": {},
   "source": [
    "# Precio Gas Natural Licuado"
   ]
  },
  {
   "cell_type": "code",
   "execution_count": 54,
   "id": "d5685b8d",
   "metadata": {},
   "outputs": [
    {
     "name": "stdout",
     "output_type": "stream",
     "text": [
      "18\n",
      "<class 'numpy.ndarray'>\n"
     ]
    },
    {
     "data": {
      "text/plain": [
       "array(['', '1,390', '1,299', '1,398', '1,368', '1,329', '1,269', '1,399',\n",
       "       '1,249', '2,990', '2,506', '1,389', '1,433', '1,903', '1,449',\n",
       "       '3,650', '1,489', '1,319'], dtype=object)"
      ]
     },
     "execution_count": 54,
     "metadata": {},
     "output_type": "execute_result"
    }
   ],
   "source": [
    "Gas_nat_lic = df_n['Precio Gas Natural Licuado'].unique()\n",
    "print(len(Gas_nat_lic))\n",
    "print(type(Gas_nat_lic))\n",
    "Gas_nat_lic"
   ]
  },
  {
   "cell_type": "code",
   "execution_count": 55,
   "id": "90f17335",
   "metadata": {},
   "outputs": [],
   "source": [
    "# Convertimos columna categórica a numérica, primero tenemos que sustituir , por .\n",
    "df_n['Precio Gas Natural Licuado']=df_n['Precio Gas Natural Licuado'].str.replace(',','.')\n",
    "df_n[['Precio Gas Natural Licuado']]=df_n[['Precio Gas Natural Licuado']].apply(pd.to_numeric)"
   ]
  },
  {
   "cell_type": "code",
   "execution_count": 56,
   "id": "7b35df2f",
   "metadata": {},
   "outputs": [
    {
     "data": {
      "text/plain": [
       "count    82.000000\n",
       "mean      1.414720\n",
       "std       0.342255\n",
       "min       1.249000\n",
       "25%       1.299000\n",
       "50%       1.329000\n",
       "75%       1.398000\n",
       "max       3.650000\n",
       "Name: Precio Gas Natural Licuado, dtype: float64"
      ]
     },
     "execution_count": 56,
     "metadata": {},
     "output_type": "execute_result"
    }
   ],
   "source": [
    "df_n['Precio Gas Natural Licuado'].describe()"
   ]
  },
  {
   "cell_type": "code",
   "execution_count": 57,
   "id": "0eca734e",
   "metadata": {},
   "outputs": [
    {
     "data": {
      "text/plain": [
       "11681"
      ]
     },
     "execution_count": 57,
     "metadata": {},
     "output_type": "execute_result"
    }
   ],
   "source": [
    "# Registros sin venta Gas NAtural Licuado\n",
    "sin_suministro_gnl = df_n['Precio Gas Natural Licuado'].isnull().sum()\n",
    "sin_suministro_gnl"
   ]
  },
  {
   "cell_type": "markdown",
   "id": "ba2199ad",
   "metadata": {},
   "source": [
    "# Precio Gases licuados del petróleo"
   ]
  },
  {
   "cell_type": "code",
   "execution_count": 58,
   "id": "bdff2425",
   "metadata": {},
   "outputs": [
    {
     "name": "stdout",
     "output_type": "stream",
     "text": [
      "118\n",
      "<class 'numpy.ndarray'>\n"
     ]
    },
    {
     "data": {
      "text/plain": [
       "array(['', '1,029', '1,089', '0,898', '1,039', '1,019', '1,059', '1,069',\n",
       "       '0,969', '1,025', '0,968', '1,099', '1,026', '1,139', '0,959',\n",
       "       '0,830', '1,045', '0,930', '1,077', '1,088', '1,038', '1,079',\n",
       "       '0,939', '0,910', '1,052', '1,049', '1,009', '1,200', '1,119',\n",
       "       '0,999', '1,179', '0,980', '1,189', '0,859', '1,134', '1,095',\n",
       "       '1,159', '1,129', '0,909', '0,899', '0,885', '1,098', '0,950',\n",
       "       '0,886', '1,017', '1,060', '1,037', '1,090', '1,149', '1,008',\n",
       "       '0,979', '1,028', '0,865', '0,639', '0,929', '1,109', '1,148',\n",
       "       '0,805', '1,022', '0,998', '0,879', '0,768', '1,014', '0,990',\n",
       "       '0,970', '1,169', '0,997', '0,961', '0,965', '1,150', '0,949',\n",
       "       '0,889', '1,140', '1,220', '1,260', '1,250', '1,160', '0,759',\n",
       "       '1,100', '1,158', '0,769', '1,115', '0,919', '1,020', '0,977',\n",
       "       '1,106', '0,908', '1,048', '1,130', '1,018', '0,989', '1,199',\n",
       "       '1,185', '1,155', '0,799', '0,801', '0,798', '0,789', '0,839',\n",
       "       '0,800', '0,818', '0,809', '0,829', '0,958', '1,080', '1,000',\n",
       "       '0,870', '0,967', '0,974', '0,944', '0,905', '0,925', '0,995',\n",
       "       '0,915', '0,850', '0,779', '1,175', '0,849'], dtype=object)"
      ]
     },
     "execution_count": 58,
     "metadata": {},
     "output_type": "execute_result"
    }
   ],
   "source": [
    "Gas_nat_lic_pet = df_n['Precio Gases licuados del petróleo'].unique()\n",
    "print(len(Gas_nat_lic_pet))\n",
    "print(type(Gas_nat_lic_pet))\n",
    "Gas_nat_lic_pet"
   ]
  },
  {
   "cell_type": "code",
   "execution_count": 59,
   "id": "94e05d01",
   "metadata": {},
   "outputs": [],
   "source": [
    "# Convertimos columna categórica a numérica\n",
    "df_n['Precio Gases licuados del petróleo']=df_n['Precio Gases licuados del petróleo'].str.replace(',','.')\n",
    "df_n[['Precio Gases licuados del petróleo']]=df_n[['Precio Gases licuados del petróleo']].apply(pd.to_numeric)"
   ]
  },
  {
   "cell_type": "code",
   "execution_count": 60,
   "id": "43ae8314",
   "metadata": {},
   "outputs": [
    {
     "data": {
      "text/plain": [
       "count    852.000000\n",
       "mean       1.034734\n",
       "std        0.080758\n",
       "min        0.639000\n",
       "25%        1.009000\n",
       "50%        1.049000\n",
       "75%        1.079000\n",
       "max        1.260000\n",
       "Name: Precio Gases licuados del petróleo, dtype: float64"
      ]
     },
     "execution_count": 60,
     "metadata": {},
     "output_type": "execute_result"
    }
   ],
   "source": [
    "df_n['Precio Gases licuados del petróleo'].describe()"
   ]
  },
  {
   "cell_type": "code",
   "execution_count": 61,
   "id": "f39d6004",
   "metadata": {},
   "outputs": [
    {
     "data": {
      "text/plain": [
       "10911"
      ]
     },
     "execution_count": 61,
     "metadata": {},
     "output_type": "execute_result"
    }
   ],
   "source": [
    "# Registros sin venta Gas NAtural Licuado del Petróleo\n",
    "sin_suministro_gnlp = df_n['Precio Gases licuados del petróleo'].isnull().sum()\n",
    "sin_suministro_gnlp"
   ]
  },
  {
   "cell_type": "code",
   "execution_count": 62,
   "id": "0a616a04",
   "metadata": {},
   "outputs": [
    {
     "data": {
      "text/plain": [
       "0"
      ]
     },
     "execution_count": 62,
     "metadata": {},
     "output_type": "execute_result"
    }
   ],
   "source": [
    "ceros_sin_suministro_gnlp = (df_n['Precio Gases licuados del petróleo'] == 0).sum()\n",
    "ceros_sin_suministro_gnlp"
   ]
  },
  {
   "cell_type": "markdown",
   "id": "579f7966",
   "metadata": {},
   "source": [
    "# Gasoleo A"
   ]
  },
  {
   "cell_type": "code",
   "execution_count": 63,
   "id": "b84c8a71",
   "metadata": {},
   "outputs": [
    {
     "name": "stdout",
     "output_type": "stream",
     "text": [
      "422\n",
      "<class 'numpy.ndarray'>\n"
     ]
    },
    {
     "data": {
      "text/plain": [
       "array(['1,929', '2,040', '2,019', '1,897', '2,010', '1,999', '1,878',\n",
       "       '1,959', '1,899', '2,009', '1,975', '1,949', '2,049', '1,979',\n",
       "       '1,950', '', '1,850', '2,259', '1,947', '1,869', '2,015', '1,919',\n",
       "       '1,969', '1,995', '1,989', '1,870', '1,849', '1,924', '1,800',\n",
       "       '2,029', '1,830', '1,889', '1,885', '1,846', '1,987', '1,939',\n",
       "       '1,930', '1,860', '1,820', '1,740', '1,925', '1,829', '1,813',\n",
       "       '1,856', '1,848', '1,858', '1,974', '1,791', '1,857', '2,020',\n",
       "       '2,039', '1,879', '1,887', '2,025', '1,796', '1,799', '1,837',\n",
       "       '1,992', '1,888', '1,877', '2,027', '1,990', '1,988', '1,985',\n",
       "       '1,972', '1,909', '2,005', '1,898', '1,839', '1,961', '1,859',\n",
       "       '1,951', '2,004', '1,984', '1,938', '1,968', '1,912', '1,915',\n",
       "       '1,973', '1,825', '1,945', '1,835', '1,826', '1,845', '2,024',\n",
       "       '1,944', '1,994', '1,936', '2,035', '1,855', '1,927', '2,059',\n",
       "       '1,789', '1,918', '1,996', '1,817', '1,827', '1,914', '1,749',\n",
       "       '1,819', '1,922', '1,868', '1,797', '1,920', '1,882', '1,886',\n",
       "       '1,810', '1,895', '2,017', '1,964', '2,099', '1,851', '1,806',\n",
       "       '1,774', '1,769', '1,812', '1,816', '2,014', '1,880', '1,847',\n",
       "       '1,809', '1,997', '1,811', '1,957', '1,890', '1,940', '2,079',\n",
       "       '1,788', '1,955', '2,069', '2,054', '2,034', '1,874', '2,018',\n",
       "       '1,867', '1,937', '1,903', '1,893', '2,000', '1,892', '1,932',\n",
       "       '1,917', '2,058', '2,075', '1,970', '2,070', '1,910', '1,834',\n",
       "       '1,902', '1,900', '1,956', '1,954', '2,030', '1,941', '1,852',\n",
       "       '1,871', '1,794', '1,967', '1,739', '2,109', '1,841', '1,854',\n",
       "       '1,931', '1,866', '2,028', '1,767', '1,828', '2,045', '2,008',\n",
       "       '2,016', '2,076', '2,129', '2,048', '1,978', '1,896', '2,047',\n",
       "       '2,089', '1,998', '2,012', '2,057', '1,773', '1,934', '1,991',\n",
       "       '1,865', '2,037', '1,904', '1,777', '1,778', '1,772', '1,838',\n",
       "       '1,875', '1,776', '1,906', '1,775', '1,864', '1,784', '1,798',\n",
       "       '2,065', '2,299', '1,928', '2,007', '2,139', '1,894', '1,948',\n",
       "       '2,055', '1,913', '1,780', '1,790', '1,785', '1,815', '1,908',\n",
       "       '1,971', '1,986', '1,793', '1,958', '1,965', '1,779', '1,980',\n",
       "       '1,905', '1,960', '1,946', '1,935', '1,808', '1,771', '1,833',\n",
       "       '1,824', '1,584', '1,575', '1,565', '1,840', '1,795', '1,802',\n",
       "       '1,901', '1,757', '1,873', '1,805', '1,843', '1,782', '1,459',\n",
       "       '1,475', '1,770', '1,752', '1,679', '1,747', '1,792', '1,921',\n",
       "       '1,781', '2,021', '2,038', '2,001', '1,883', '2,068', '1,993',\n",
       "       '1,842', '1,814', '2,044', '1,853', '1,804', '1,844', '1,786',\n",
       "       '2,119', '1,759', '1,836', '1,863', '2,088', '2,309', '1,822',\n",
       "       '1,831', '1,751', '2,022', '1,734', '1,962', '1,657', '2,200',\n",
       "       '1,750', '2,090', '1,783', '1,966', '1,755', '1,916', '1,756',\n",
       "       '1,942', '1,818', '1,876', '2,003', '1,807', '1,700', '1,500',\n",
       "       '1,787', '1,766', '1,891', '1,963', '2,060', '1,977', '1,711',\n",
       "       '2,050', '2,052', '1,765', '1,976', '2,236', '1,881', '2,023',\n",
       "       '2,002', '2,199', '2,006', '2,072', '2,224', '1,911', '2,043',\n",
       "       '1,832', '1,730', '1,763', '1,884', '1,488', '1,479', '1,489',\n",
       "       '1,495', '1,550', '1,446', '2,111', '2,181', '2,074', '1,821',\n",
       "       '1,981', '1,499', '1,519', '1,498', '1,374', '1,469', '1,449',\n",
       "       '1,399', '1,421', '1,389', '1,559', '1,548', '1,534', '1,504',\n",
       "       '1,529', '1,509', '1,536', '1,539', '1,514', '1,522', '1,513',\n",
       "       '1,485', '1,468', '1,487', '1,451', '1,439', '1,527', '1,553',\n",
       "       '1,599', '1,573', '1,532', '1,505', '1,484', '1,525', '1,544',\n",
       "       '1,379', '1,494', '1,524', '1,503', '1,397', '1,510', '1,520',\n",
       "       '1,549', '1,579', '1,528', '1,483', '1,526', '1,538', '1,515',\n",
       "       '1,474', '1,415', '1,497', '1,546', '1,490', '1,568', '1,444',\n",
       "       '1,517', '1,609', '1,926', '1,907', '1,872', '1,429', '1,434',\n",
       "       '1,518', '1,562', '1,658', '1,496', '1,501', '1,445', '1,480',\n",
       "       '1,464', '1,758', '1,695', '1,678', '1,512', '1,395', '1,690',\n",
       "       '1,319', '1,493', '1,299', '1,567', '1,558', '1,720', '1,570',\n",
       "       '1,478', '1,762', '2,053', '1,530', '1,862', '1,737', '1,861',\n",
       "       '2,150', '1,768', '1,923', '1,933', '2,013', '2,101', '1,943',\n",
       "       '1,660'], dtype=object)"
      ]
     },
     "execution_count": 63,
     "metadata": {},
     "output_type": "execute_result"
    }
   ],
   "source": [
    "Gasoleo_A = df_n['Precio Gasoleo A'].unique()\n",
    "print(len(Gasoleo_A))\n",
    "print(type(Gasoleo_A))\n",
    "Gasoleo_A"
   ]
  },
  {
   "cell_type": "code",
   "execution_count": 64,
   "id": "03079146",
   "metadata": {},
   "outputs": [],
   "source": [
    "# Convertimos columna categórica a numérica, primero tenemos que sustituir , por .\n",
    "df_n['Precio Gasoleo A']=df_n['Precio Gasoleo A'].str.replace(',','.')\n",
    "df_n[['Precio Gasoleo A']]=df_n[['Precio Gasoleo A']].apply(pd.to_numeric)"
   ]
  },
  {
   "cell_type": "code",
   "execution_count": 65,
   "id": "b2093cd9",
   "metadata": {},
   "outputs": [
    {
     "data": {
      "text/plain": [
       "count    11416.000000\n",
       "mean         1.942097\n",
       "std          0.113855\n",
       "min          1.299000\n",
       "25%          1.899000\n",
       "50%          1.979000\n",
       "75%          2.009000\n",
       "max          2.309000\n",
       "Name: Precio Gasoleo A, dtype: float64"
      ]
     },
     "execution_count": 65,
     "metadata": {},
     "output_type": "execute_result"
    }
   ],
   "source": [
    "df_n['Precio Gasoleo A'].describe()\n"
   ]
  },
  {
   "cell_type": "code",
   "execution_count": 66,
   "id": "a0c57df7",
   "metadata": {},
   "outputs": [
    {
     "data": {
      "text/plain": [
       "347"
      ]
     },
     "execution_count": 66,
     "metadata": {},
     "output_type": "execute_result"
    }
   ],
   "source": [
    "# Registros sin venta Gasoleo A\n",
    "sin_suministro_gA = df_n['Precio Gasoleo A'].isnull().sum()\n",
    "sin_suministro_gA"
   ]
  },
  {
   "cell_type": "code",
   "execution_count": 67,
   "id": "2fd05b04",
   "metadata": {},
   "outputs": [
    {
     "data": {
      "text/plain": [
       "0"
      ]
     },
     "execution_count": 67,
     "metadata": {},
     "output_type": "execute_result"
    }
   ],
   "source": [
    "ceros_sin_suministro_gA = (df_n['Precio Gasoleo A'] == 0).sum()\n",
    "ceros_sin_suministro_gA"
   ]
  },
  {
   "cell_type": "markdown",
   "id": "6b8fd3b9",
   "metadata": {},
   "source": [
    "# Gasoleo B"
   ]
  },
  {
   "cell_type": "code",
   "execution_count": 68,
   "id": "90c596c9",
   "metadata": {},
   "outputs": [
    {
     "name": "stdout",
     "output_type": "stream",
     "text": [
      "422\n",
      "<class 'numpy.ndarray'>\n"
     ]
    },
    {
     "data": {
      "text/plain": [
       "array(['1,430', '', '1,613', '1,450', '1,440', '1,639', '1,539', '1,559',\n",
       "       '1,446', '1,690', '1,438', '1,627', '1,499', '1,470', '1,609',\n",
       "       '1,550', '1,524', '1,570', '1,529', '1,428', '1,649', '1,400',\n",
       "       '1,699', '1,642', '1,617', '1,451', '1,580', '1,530', '1,449',\n",
       "       '1,377', '1,490', '1,657', '1,679', '1,375', '1,370', '1,574',\n",
       "       '1,457', '1,267', '1,481', '1,602', '1,589', '1,591', '1,569',\n",
       "       '1,420', '1,599', '1,719', '1,691', '1,689', '1,579', '1,582',\n",
       "       '1,659', '1,076', '1,674', '1,600', '1,595', '1,749', '1,652',\n",
       "       '1,629', '1,669', '1,779', '1,647', '1,714', '1,668', '1,643',\n",
       "       '1,700', '1,491', '1,489', '1,553', '1,500', '1,495', '1,596',\n",
       "       '1,594', '1,585', '1,554', '1,473', '1,412', '1,546', '1,549',\n",
       "       '1,488', '1,536', '1,562', '1,612', '1,619', '1,607', '1,685',\n",
       "       '1,509', '1,577', '1,479', '1,645', '1,805', '1,739', '1,849',\n",
       "       '1,759', '1,729', '1,604', '1,454', '1,717', '1,658', '1,630',\n",
       "       '1,614', '1,634', '1,651', '1,709', '1,558', '1,597', '1,692',\n",
       "       '1,661', '1,800', '1,540', '1,666', '1,605', '1,593', '1,684',\n",
       "       '1,565', '1,525', '1,650', '1,809', '1,427', '1,799', '1,590',\n",
       "       '1,697', '1,485', '1,444', '1,403', '1,636', '1,294', '1,387',\n",
       "       '1,379', '1,584', '1,512', '1,448', '1,583', '1,670', '1,480',\n",
       "       '1,528', '1,510', '1,635', '1,459', '1,435', '1,750', '1,340',\n",
       "       '1,393', '1,452', '1,109', '1,456', '1,434', '1,442', '1,349',\n",
       "       '1,492', '1,507', '1,413', '1,443', '1,519', '1,475', '1,522',\n",
       "       '1,447', '1,592', '1,421', '1,455', '1,515', '1,537', '1,638',\n",
       "       '1,315', '1,587', '1,469', '1,411', '1,409', '1,545', '1,399',\n",
       "       '1,471', '1,667', '1,752', '1,949', '1,742', '1,567', '1,535',\n",
       "       '1,547', '1,677', '1,687', '1,660', '1,683', '1,506', '1,637',\n",
       "       '1,725', '1,520', '1,460', '1,703', '1,654', '1,581', '1,608',\n",
       "       '1,702', '1,398', '1,708', '1,564', '1,390', '1,333', '1,588',\n",
       "       '1,424', '1,648', '1,429', '1,009', '1,628', '1,404', '1,425',\n",
       "       '1,606', '1,496', '1,620', '1,468', '1,397', '1,618', '1,493',\n",
       "       '1,626', '1,603', '1,598', '1,573', '1,560', '1,778', '1,578',\n",
       "       '1,498', '1,551', '1,610', '1,365', '1,465', '1,437', '1,439',\n",
       "       '1,395', '1,426', '1,415', '1,360', '1,299', '1,483', '1,680',\n",
       "       '1,555', '1,408', '1,383', '1,419', '1,422', '1,357', '1,417',\n",
       "       '1,378', '1,534', '1,641', '1,556', '1,380', '1,410', '1,552',\n",
       "       '1,353', '1,623', '1,632', '1,575', '1,698', '1,624', '1,710',\n",
       "       '1,586', '1,686', '1,695', '1,436', '1,300', '1,466', '1,533',\n",
       "       '1,467', '1,405', '1,538', '1,464', '1,348', '1,723', '1,734',\n",
       "       '1,646', '1,711', '1,731', '1,615', '1,688', '1,721', '1,514',\n",
       "       '1,713', '1,890', '1,751', '1,663', '1,769', '1,385', '1,433',\n",
       "       '1,548', '1,601', '1,644', '1,505', '1,611', '1,367', '1,472',\n",
       "       '1,358', '1,445', '1,789', '1,561', '1,355', '1,900', '1,337',\n",
       "       '1,482', '1,640', '1,389', '1,760', '1,431', '1,503', '1,477',\n",
       "       '1,432', '1,571', '1,214', '1,572', '1,694', '1,391', '1,350',\n",
       "       '1,463', '1,557', '1,484', '1,386', '1,317', '1,633', '1,653',\n",
       "       '1,676', '1,576', '1,170', '1,263', '1,531', '1,330', '1,416',\n",
       "       '1,361', '1,527', '1,329', '1,320', '1,487', '1,678', '1,673',\n",
       "       '1,384', '1,326', '1,362', '1,523', '1,396', '1,745', '1,517',\n",
       "       '1,521', '1,313', '1,371', '1,486', '1,458', '1,656', '1,839',\n",
       "       '1,494', '1,662', '1,441', '1,671', '1,289', '1,664', '1,730',\n",
       "       '1,526', '1,544', '1,621', '1,568', '1,755', '1,423', '1,859',\n",
       "       '1,777', '1,720', '1,616', '1,622', '1,563', '1,418', '1,518',\n",
       "       '1,388', '1,462', '1,414', '1,461', '1,345', '1,543', '1,130',\n",
       "       '1,476', '1,369', '1,269', '1,262', '1,541', '1,286', '1,631',\n",
       "       '1,516', '1,253', '1,501', '1,474', '1,339', '1,382', '1,368',\n",
       "       '1,566', '1,508', '1,504', '1,675', '1,655', '1,296', '1,625',\n",
       "       '1,732', '1,227', '1,290', '1,280'], dtype=object)"
      ]
     },
     "execution_count": 68,
     "metadata": {},
     "output_type": "execute_result"
    }
   ],
   "source": [
    "Gasoleo_B = df_n['Precio Gasoleo B'].unique()\n",
    "print(len(Gasoleo_A))\n",
    "print(type(Gasoleo_A))\n",
    "Gasoleo_B"
   ]
  },
  {
   "cell_type": "code",
   "execution_count": 69,
   "id": "b9ff1285",
   "metadata": {},
   "outputs": [],
   "source": [
    "# Convertimos columna categórica a numérica, primero tenemos que sustituir , por .\n",
    "df_n['Precio Gasoleo B']=df_n['Precio Gasoleo B'].str.replace(',','.')\n",
    "df_n[['Precio Gasoleo B']]=df_n[['Precio Gasoleo B']].apply(pd.to_numeric)"
   ]
  },
  {
   "cell_type": "code",
   "execution_count": 70,
   "id": "40bfd63c",
   "metadata": {},
   "outputs": [
    {
     "data": {
      "text/plain": [
       "count    3000.000000\n",
       "mean        1.556631\n",
       "std         0.101292\n",
       "min         1.009000\n",
       "25%         1.480000\n",
       "50%         1.569000\n",
       "75%         1.629000\n",
       "max         1.949000\n",
       "Name: Precio Gasoleo B, dtype: float64"
      ]
     },
     "execution_count": 70,
     "metadata": {},
     "output_type": "execute_result"
    }
   ],
   "source": [
    "df_n['Precio Gasoleo B'].describe()\n"
   ]
  },
  {
   "cell_type": "code",
   "execution_count": 71,
   "id": "ee5cfffa",
   "metadata": {},
   "outputs": [
    {
     "data": {
      "text/plain": [
       "8763"
      ]
     },
     "execution_count": 71,
     "metadata": {},
     "output_type": "execute_result"
    }
   ],
   "source": [
    "# Registros sin venta Gasoleo B\n",
    "sin_suministro_gB = df_n['Precio Gasoleo B'].isnull().sum()\n",
    "sin_suministro_gB"
   ]
  },
  {
   "cell_type": "code",
   "execution_count": 72,
   "id": "1654e9f7",
   "metadata": {},
   "outputs": [
    {
     "data": {
      "text/plain": [
       "0"
      ]
     },
     "execution_count": 72,
     "metadata": {},
     "output_type": "execute_result"
    }
   ],
   "source": [
    "ceros_sin_suministro_gB = (df_n['Precio Gasoleo B'] == 0).sum()\n",
    "ceros_sin_suministro_gB"
   ]
  },
  {
   "cell_type": "markdown",
   "id": "24d3a7ce",
   "metadata": {},
   "source": [
    "# Precio Gasoleo Premium "
   ]
  },
  {
   "cell_type": "code",
   "execution_count": 73,
   "id": "e25d3aaf",
   "metadata": {},
   "outputs": [
    {
     "name": "stdout",
     "output_type": "stream",
     "text": [
      "362\n",
      "<class 'numpy.ndarray'>\n"
     ]
    },
    {
     "data": {
      "text/plain": [
       "array(['', '2,300', '2,109', '2,059', '2,089', '1,948', '2,019', '2,099',\n",
       "       '1,959', '1,979', '2,079', '2,069', '2,049', '2,041', '2,119',\n",
       "       '2,029', '1,999', '1,984', '1,989', '1,949', '2,115', '2,039',\n",
       "       '2,075', '1,969', '2,005', '1,889', '2,064', '2,065', '2,095',\n",
       "       '1,867', '2,073', '2,058', '2,093', '2,229', '2,105', '2,118',\n",
       "       '2,139', '2,009', '1,899', '1,939', '1,909', '2,074', '2,054',\n",
       "       '1,983', '2,087', '1,973', '1,835', '2,091', '2,055', '1,996',\n",
       "       '2,114', '1,988', '2,101', '2,085', '2,045', '2,129', '2,138',\n",
       "       '2,125', '1,829', '1,919', '2,999', '2,062', '1,929', '1,994',\n",
       "       '1,905', '1,935', '1,947', '1,967', '2,022', '2,056', '1,878',\n",
       "       '1,897', '1,985', '1,879', '1,926', '2,078', '2,083', '1,890',\n",
       "       '1,865', '1,845', '1,880', '1,903', '1,862', '1,858', '2,092',\n",
       "       '2,031', '2,020', '2,088', '1,895', '2,205', '2,149', '2,165',\n",
       "       '2,144', '2,124', '2,159', '2,098', '2,035', '1,887', '1,968',\n",
       "       '2,044', '1,953', '1,913', '1,917', '1,950', '2,050', '2,117',\n",
       "       '1,970', '2,135', '2,989', '1,859', '2,169', '2,130', '2,024',\n",
       "       '2,090', '2,030', '1,799', '1,874', '1,765', '1,869', '2,104',\n",
       "       '2,179', '2,121', '1,898', '2,111', '2,086', '2,245', '2,128',\n",
       "       '1,998', '2,127', '2,126', '2,082', '2,137', '1,908', '2,061',\n",
       "       '2,057', '1,924', '1,928', '2,034', '2,060', '1,868', '1,955',\n",
       "       '2,048', '2,094', '2,051', '2,071', '1,849', '1,839', '2,025',\n",
       "       '2,004', '1,810', '1,885', '1,956', '1,946', '1,857', '1,995',\n",
       "       '1,827', '1,904', '1,847', '1,809', '1,938', '1,864', '1,957',\n",
       "       '2,100', '2,068', '2,145', '2,077', '1,819', '1,910', '2,131',\n",
       "       '2,199', '2,108', '1,972', '2,000', '2,084', '1,974', '1,975',\n",
       "       '2,015', '2,081', '2,040', '1,936', '2,070', '2,011', '1,615',\n",
       "       '1,609', '2,028', '1,844', '2,012', '1,870', '1,945', '2,080',\n",
       "       '1,877', '1,918', '2,046', '2,037', '1,990', '2,120', '2,008',\n",
       "       '2,134', '2,072', '2,110', '2,148', '2,185', '1,980', '2,067',\n",
       "       '1,965', '1,962', '1,914', '2,187', '2,007', '1,894', '1,925',\n",
       "       '2,063', '1,997', '2,107', '1,920', '1,982', '2,006', '1,881',\n",
       "       '2,038', '1,927', '2,021', '1,774', '2,018', '1,854', '2,026',\n",
       "       '2,122', '1,777', '2,189', '1,940', '1,987', '2,172', '1,915',\n",
       "       '1,891', '1,941', '1,892', '1,528', '1,529', '1,545', '2,032',\n",
       "       '2,103', '1,846', '1,855', '1,888', '1,930', '2,066', '1,896',\n",
       "       '1,837', '2,053', '1,856', '2,301', '1,907', '2,154', '2,097',\n",
       "       '1,619', '1,633', '1,604', '1,639', '1,579', '1,599', '1,669',\n",
       "       '1,623', '1,605', '1,535', '1,629', '1,709', '1,699', '1,634',\n",
       "       '1,624', '1,631', '1,635', '1,659', '1,618', '1,601', '1,625',\n",
       "       '1,499', '1,565', '1,689', '1,719', '1,718', '1,817', '1,649',\n",
       "       '1,654', '1,642', '1,630', '1,614', '1,640', '1,549', '1,620',\n",
       "       '1,622', '1,729', '1,525', '1,679', '1,644', '1,636', '1,594',\n",
       "       '1,628', '1,648', '1,645', '1,510', '1,554', '1,557', '1,585',\n",
       "       '1,590', '1,688', '1,690', '1,637', '2,096', '2,027', '1,961',\n",
       "       '2,155', '2,014', '1,643', '1,638', '1,550', '1,646', '1,803',\n",
       "       '1,841', '1,626', '1,547', '1,725', '1,589', '1,574', '1,544',\n",
       "       '1,519', '1,580', '1,802', '1,603', '1,573', '1,469', '1,559',\n",
       "       '1,569', '1,740', '1,763', '1,584', '1,588', '1,606', '1,954',\n",
       "       '2,208', '1,795', '2,136', '2,017', '1,886', '1,933', '1,850',\n",
       "       '1,825', '1,875', '2,042', '2,036', '1,960', '1,804', '1,977',\n",
       "       '2,175', '1,978', '1,793', '1,860', '1,866', '1,808', '2,151',\n",
       "       '1,937', '1,779', '1,884', '1,958'], dtype=object)"
      ]
     },
     "execution_count": 73,
     "metadata": {},
     "output_type": "execute_result"
    }
   ],
   "source": [
    "Gasoleo_P = df_n['Precio Gasoleo Premium'].unique()\n",
    "print(len(Gasoleo_P))\n",
    "print(type(Gasoleo_P))\n",
    "Gasoleo_P"
   ]
  },
  {
   "cell_type": "code",
   "execution_count": 74,
   "id": "b2743f33",
   "metadata": {},
   "outputs": [],
   "source": [
    "# Convertimos columna categórica a numérica, primero tenemos que sustituir , por .\n",
    "df_n['Precio Gasoleo Premium']=df_n['Precio Gasoleo Premium'].str.replace(',','.')\n",
    "df_n[['Precio Gasoleo Premium']]=df_n[['Precio Gasoleo Premium']].apply(pd.to_numeric)"
   ]
  },
  {
   "cell_type": "code",
   "execution_count": 75,
   "id": "10e79699",
   "metadata": {},
   "outputs": [
    {
     "data": {
      "text/plain": [
       "count    7493.000000\n",
       "mean        2.037407\n",
       "std         0.111447\n",
       "min         1.469000\n",
       "25%         2.019000\n",
       "50%         2.069000\n",
       "75%         2.099000\n",
       "max         2.999000\n",
       "Name: Precio Gasoleo Premium, dtype: float64"
      ]
     },
     "execution_count": 75,
     "metadata": {},
     "output_type": "execute_result"
    }
   ],
   "source": [
    "df_n['Precio Gasoleo Premium'].describe()"
   ]
  },
  {
   "cell_type": "code",
   "execution_count": 76,
   "id": "9666e5b7",
   "metadata": {},
   "outputs": [
    {
     "data": {
      "text/plain": [
       "4270"
      ]
     },
     "execution_count": 76,
     "metadata": {},
     "output_type": "execute_result"
    }
   ],
   "source": [
    "# Registros sin venta Gasoleo Premium\n",
    "sin_suministro_gP = df_n['Precio Gasoleo Premium'].isnull().sum()\n",
    "sin_suministro_gP"
   ]
  },
  {
   "cell_type": "code",
   "execution_count": 77,
   "id": "c62c56a0",
   "metadata": {},
   "outputs": [
    {
     "data": {
      "text/plain": [
       "0"
      ]
     },
     "execution_count": 77,
     "metadata": {},
     "output_type": "execute_result"
    }
   ],
   "source": [
    "ceros_sin_suministro_gP = (df_n['Precio Gasoleo Premium'] == 0).sum()\n",
    "ceros_sin_suministro_gP"
   ]
  },
  {
   "cell_type": "markdown",
   "id": "1af7f46d",
   "metadata": {},
   "source": [
    "# Precio Gasolina 95 E10 "
   ]
  },
  {
   "cell_type": "code",
   "execution_count": 78,
   "id": "a3d6c6e1",
   "metadata": {},
   "outputs": [
    {
     "name": "stdout",
     "output_type": "stream",
     "text": [
      "20\n",
      "<class 'numpy.ndarray'>\n"
     ]
    },
    {
     "data": {
      "text/plain": [
       "array(['', '2,129', '1,954', '1,799', '1,829', '1,720', '1,859', '1,919',\n",
       "       '1,959', '1,869', '1,840', '1,699', '1,749', '1,669', '1,899',\n",
       "       '1,969', '1,929', '1,759', '1,874', '1,868'], dtype=object)"
      ]
     },
     "execution_count": 78,
     "metadata": {},
     "output_type": "execute_result"
    }
   ],
   "source": [
    "g95_E10 = df_n['Precio Gasolina 95 E10'].unique()\n",
    "print(len(g95_E10))\n",
    "print(type(g95_E10))\n",
    "g95_E10"
   ]
  },
  {
   "cell_type": "code",
   "execution_count": 79,
   "id": "c2203d4d",
   "metadata": {},
   "outputs": [],
   "source": [
    "# Convertimos columna categórica a numérica, primero tenemos que sustituir , por .\n",
    "df_n['Precio Gasolina 95 E10']=df_n['Precio Gasolina 95 E10'].str.replace(',','.')\n",
    "df_n[['Precio Gasolina 95 E10']]=df_n[['Precio Gasolina 95 E10']].apply(pd.to_numeric)"
   ]
  },
  {
   "cell_type": "code",
   "execution_count": 80,
   "id": "01212952",
   "metadata": {},
   "outputs": [
    {
     "data": {
      "text/plain": [
       "count    22.000000\n",
       "mean      1.855864\n",
       "std       0.111290\n",
       "min       1.669000\n",
       "25%       1.769000\n",
       "50%       1.868500\n",
       "75%       1.926500\n",
       "max       2.129000\n",
       "Name: Precio Gasolina 95 E10, dtype: float64"
      ]
     },
     "execution_count": 80,
     "metadata": {},
     "output_type": "execute_result"
    }
   ],
   "source": [
    " df_n['Precio Gasolina 95 E10'].describe()"
   ]
  },
  {
   "cell_type": "code",
   "execution_count": 81,
   "id": "6aaa6a7b",
   "metadata": {},
   "outputs": [
    {
     "data": {
      "text/plain": [
       "11741"
      ]
     },
     "execution_count": 81,
     "metadata": {},
     "output_type": "execute_result"
    }
   ],
   "source": [
    "# Registros sin venta Gasoleo Premium\n",
    "sin_suministro_95E10 = df_n['Precio Gasolina 95 E10'].isnull().sum()\n",
    "sin_suministro_95E10"
   ]
  },
  {
   "cell_type": "markdown",
   "id": "3e9e3b58",
   "metadata": {},
   "source": [
    "# Precio Gasolina 95 E5"
   ]
  },
  {
   "cell_type": "code",
   "execution_count": 82,
   "id": "a04d4e77",
   "metadata": {},
   "outputs": [
    {
     "name": "stdout",
     "output_type": "stream",
     "text": [
      "438\n",
      "<class 'numpy.ndarray'>\n"
     ]
    },
    {
     "data": {
      "text/plain": [
       "array(['1,749', '1,909', '1,819', '1,687', '1,859', '', '1,835', '1,799',\n",
       "       '1,698', '1,759', '1,789', '1,699', '1,779', '1,825', '1,815',\n",
       "       '1,784', '1,785', '1,730', '1,739', '1,690', '2,299', '1,800',\n",
       "       '1,719', '1,689', '1,794', '1,814', '1,839', '1,809', '1,652',\n",
       "       '1,632', '1,780', '1,795', '1,709', '1,829', '1,708', '1,775',\n",
       "       '1,805', '1,729', '1,678', '1,670', '1,849', '1,673', '1,715',\n",
       "       '1,667', '1,697', '1,679', '1,869', '1,659', '1,639', '1,824',\n",
       "       '1,577', '1,797', '1,718', '1,707', '1,817', '1,798', '1,768',\n",
       "       '1,755', '1,878', '1,677', '1,657', '1,748', '1,769', '1,823',\n",
       "       '1,649', '1,717', '1,757', '1,778', '1,750', '1,625', '1,783',\n",
       "       '1,811', '1,725', '1,614', '1,635', '1,734', '1,669', '1,833',\n",
       "       '1,746', '1,879', '1,818', '1,767', '1,840', '1,629', '1,889',\n",
       "       '1,788', '1,754', '1,796', '1,854', '1,774', '1,617', '1,627',\n",
       "       '1,695', '1,599', '1,765', '1,737', '1,831', '1,855', '1,733',\n",
       "       '1,688', '1,865', '1,772', '1,836', '1,700', '1,885', '1,969',\n",
       "       '1,740', '1,845', '1,640', '1,666', '1,899', '1,804', '1,630',\n",
       "       '1,888', '1,732', '1,685', '1,846', '1,787', '1,655', '1,834',\n",
       "       '1,770', '1,864', '1,875', '1,884', '1,898', '1,844', '1,724',\n",
       "       '1,728', '2,000', '1,850', '1,891', '1,874', '1,929', '1,918',\n",
       "       '1,870', '1,676', '2,019', '1,857', '1,910', '1,745', '1,920',\n",
       "       '1,790', '1,907', '1,735', '1,758', '1,647', '1,999', '1,838',\n",
       "       '1,877', '1,868', '1,828', '1,867', '1,801', '1,668', '1,827',\n",
       "       '1,588', '1,876', '1,618', '1,959', '1,919', '1,848', '1,742',\n",
       "       '1,592', '1,931', '1,587', '1,847', '1,948', '1,591', '1,908',\n",
       "       '1,619', '1,684', '1,589', '1,808', '1,675', '1,590', '1,680',\n",
       "       '1,726', '1,653', '1,694', '1,939', '1,738', '1,949', '1,637',\n",
       "       '1,609', '1,593', '1,598', '1,727', '1,925', '2,074', '1,914',\n",
       "       '1,904', '2,149', '1,720', '1,935', '1,894', '1,890', '1,810',\n",
       "       '1,947', '1,610', '1,816', '1,856', '1,660', '1,820', '1,830',\n",
       "       '1,744', '1,648', '1,603', '1,900', '1,600', '1,760', '1,710',\n",
       "       '1,620', '1,792', '1,483', '1,474', '1,465', '1,791', '1,663',\n",
       "       '1,705', '1,624', '1,644', '1,832', '1,645', '1,741', '1,615',\n",
       "       '1,560', '1,650', '1,671', '1,308', '1,340', '1,597', '1,704',\n",
       "       '1,761', '1,897', '1,806', '1,751', '1,880', '1,905', '1,917',\n",
       "       '1,793', '1,763', '1,802', '1,965', '1,686', '1,945', '1,656',\n",
       "       '1,658', '1,764', '1,766', '1,813', '2,329', '1,672', '1,860',\n",
       "       '1,812', '1,643', '1,714', '1,665', '1,858', '1,887', '1,807',\n",
       "       '1,681', '1,826', '1,706', '1,691', '1,633', '1,602', '1,634',\n",
       "       '1,871', '1,702', '1,853', '1,651', '2,120', '1,703', '1,594',\n",
       "       '1,595', '1,596', '1,711', '1,837', '1,782', '1,612', '1,752',\n",
       "       '1,747', '1,915', '1,777', '1,565', '1,622', '1,567', '1,989',\n",
       "       '1,569', '1,843', '1,928', '1,882', '2,061', '1,712', '1,607',\n",
       "       '1,713', '1,636', '1,731', '1,736', '1,661', '1,408', '1,399',\n",
       "       '1,409', '1,723', '2,100', '1,716', '1,696', '1,756', '2,111',\n",
       "       '1,623', '1,674', '1,981', '1,933', '1,923', '1,494', '1,449',\n",
       "       '1,448', '1,279', '1,459', '1,419', '1,359', '1,249', '1,233',\n",
       "       '1,339', '1,438', '1,389', '1,439', '1,324', '1,189', '1,499',\n",
       "       '1,478', '1,475', '1,469', '1,440', '1,454', '1,444', '1,471',\n",
       "       '1,430', '1,489', '1,492', '1,479', '1,485', '1,495', '1,447',\n",
       "       '1,259', '1,429', '1,379', '1,487', '1,493', '1,529', '1,511',\n",
       "       '1,488', '1,484', '1,509', '1,502', '1,482', '1,477', '1,289',\n",
       "       '1,480', '1,559', '1,468', '1,514', '1,466', '1,496', '1,445',\n",
       "       '1,455', '1,374', '1,378', '1,417', '1,506', '1,497', '1,866',\n",
       "       '1,803', '1,229', '1,424', '1,503', '1,414', '1,392', '1,381',\n",
       "       '1,386', '1,355', '1,394', '1,380', '1,387', '1,364', '1,585',\n",
       "       '1,367', '1,581', '1,432', '1,410', '1,297', '1,369', '1,402',\n",
       "       '1,352', '1,605', '1,427', '1,329', '1,415', '1,425', '1,375',\n",
       "       '1,199', '1,299', '1,179', '1,365', '1,442', '1,377', '1,428',\n",
       "       '1,413', '1,357', '1,314', '1,472', '1,401', '1,384', '1,404',\n",
       "       '1,545', '1,403', '1,250', '1,443', '1,230', '1,388', '1,371',\n",
       "       '1,418', '1,349', '1,786', '1,842', '2,036', '1,753', '1,654',\n",
       "       '1,664', '1,881', '1,883', '1,641', '1,561', '1,722', '1,781',\n",
       "       '1,601', '1,683', '1,604'], dtype=object)"
      ]
     },
     "execution_count": 82,
     "metadata": {},
     "output_type": "execute_result"
    }
   ],
   "source": [
    "g95_E5 = df_n['Precio Gasolina 95 E5'].unique()\n",
    "print(len(g95_E5))\n",
    "print(type(g95_E5))\n",
    "g95_E5"
   ]
  },
  {
   "cell_type": "code",
   "execution_count": 83,
   "id": "196f251e",
   "metadata": {},
   "outputs": [],
   "source": [
    "# Convertimos columna categórica a numérica, primero tenemos que sustituir , por .\n",
    "df_n['Precio Gasolina 95 E5']=df_n['Precio Gasolina 95 E5'].str.replace(',','.')\n",
    "df_n[['Precio Gasolina 95 E5']]=df_n[['Precio Gasolina 95 E5']].apply(pd.to_numeric)"
   ]
  },
  {
   "cell_type": "code",
   "execution_count": 84,
   "id": "621ec9bd",
   "metadata": {},
   "outputs": [
    {
     "data": {
      "text/plain": [
       "count    10606.000000\n",
       "mean         1.779239\n",
       "std          0.101292\n",
       "min          1.179000\n",
       "25%          1.739000\n",
       "50%          1.809000\n",
       "75%          1.839000\n",
       "max          2.329000\n",
       "Name: Precio Gasolina 95 E5, dtype: float64"
      ]
     },
     "execution_count": 84,
     "metadata": {},
     "output_type": "execute_result"
    }
   ],
   "source": [
    "df_n['Precio Gasolina 95 E5'].describe()"
   ]
  },
  {
   "cell_type": "code",
   "execution_count": 85,
   "id": "56396333",
   "metadata": {},
   "outputs": [
    {
     "data": {
      "text/plain": [
       "1157"
      ]
     },
     "execution_count": 85,
     "metadata": {},
     "output_type": "execute_result"
    }
   ],
   "source": [
    "# Registros sin venta Gasoleo Premium\n",
    "sin_suministro_g95E5 = df_n['Precio Gasolina 95 E5'].isnull().sum()\n",
    "sin_suministro_g95E5"
   ]
  },
  {
   "cell_type": "code",
   "execution_count": 86,
   "id": "c8cc07ca",
   "metadata": {},
   "outputs": [
    {
     "data": {
      "text/plain": [
       "0"
      ]
     },
     "execution_count": 86,
     "metadata": {},
     "output_type": "execute_result"
    }
   ],
   "source": [
    "ceros_sin_suministro_g95E5  = (df_n['Precio Gasolina 95 E5'] == 0).sum()\n",
    "ceros_sin_suministro_g95E5 "
   ]
  },
  {
   "cell_type": "markdown",
   "id": "fe877ab4",
   "metadata": {},
   "source": [
    "# Precio Gasolina 95 E5 Premium"
   ]
  },
  {
   "cell_type": "code",
   "execution_count": 87,
   "id": "5586de3c",
   "metadata": {},
   "outputs": [
    {
     "name": "stdout",
     "output_type": "stream",
     "text": [
      "100\n",
      "<class 'numpy.ndarray'>\n"
     ]
    },
    {
     "data": {
      "text/plain": [
       "array(['', '1,899', '1,885', '1,815', '1,879', '1,889', '1,845', '1,875',\n",
       "       '1,864', '1,869', '1,825', '1,979', '1,849', '1,859', '1,909',\n",
       "       '1,877', '1,874', '1,779', '1,894', '1,919', '1,872', '1,939',\n",
       "       '1,799', '1,854', '1,789', '1,699', '1,934', '1,929', '1,698',\n",
       "       '1,989', '1,689', '1,656', '1,666', '1,819', '1,755', '1,969',\n",
       "       '1,984', '1,829', '1,839', '1,884', '1,949', '1,914', '1,924',\n",
       "       '1,944', '1,954', '1,959', '1,964', '1,809', '1,679', '1,904',\n",
       "       '1,999', '1,714', '1,834', '1,724', '1,749', '1,947', '1,844',\n",
       "       '1,865', '1,895', '1,867', '1,840', '1,855', '1,509', '1,805',\n",
       "       '1,835', '1,709', '1,719', '1,908', '1,765', '1,893', '1,857',\n",
       "       '1,905', '1,938', '1,710', '1,739', '1,708', '1,729', '1,717',\n",
       "       '1,748', '1,747', '1,726', '1,696', '1,769', '1,768', '1,627',\n",
       "       '1,738', '1,647', '2,004', '1,359', '1,444', '1,439', '1,639',\n",
       "       '1,898', '1,811', '1,690', '1,721', '2,099', '1,804', '1,887',\n",
       "       '1,878'], dtype=object)"
      ]
     },
     "execution_count": 87,
     "metadata": {},
     "output_type": "execute_result"
    }
   ],
   "source": [
    "g95_E5_P = df_n['Precio Gasolina 95 E5 Premium'].unique()\n",
    "print(len(g95_E5_P))\n",
    "print(type(g95_E5_P))\n",
    "g95_E5_P"
   ]
  },
  {
   "cell_type": "code",
   "execution_count": 88,
   "id": "4758d3d3",
   "metadata": {},
   "outputs": [],
   "source": [
    "# Convertimos columna categórica a numérica, primero tenemos que sustituir , por .\n",
    "df_n['Precio Gasolina 95 E5 Premium']=df_n['Precio Gasolina 95 E5 Premium'].str.replace(',','.')\n",
    "df_n[['Precio Gasolina 95 E5 Premium']]=df_n[['Precio Gasolina 95 E5 Premium']].apply(pd.to_numeric)"
   ]
  },
  {
   "cell_type": "code",
   "execution_count": 89,
   "id": "7d0a8e3a",
   "metadata": {},
   "outputs": [
    {
     "data": {
      "text/plain": [
       "count    804.000000\n",
       "mean       1.872096\n",
       "std        0.073753\n",
       "min        1.359000\n",
       "25%        1.854000\n",
       "50%        1.884000\n",
       "75%        1.909000\n",
       "max        2.099000\n",
       "Name: Precio Gasolina 95 E5 Premium, dtype: float64"
      ]
     },
     "execution_count": 89,
     "metadata": {},
     "output_type": "execute_result"
    }
   ],
   "source": [
    "df_n['Precio Gasolina 95 E5 Premium'].describe()"
   ]
  },
  {
   "cell_type": "code",
   "execution_count": 90,
   "id": "4a815e9d",
   "metadata": {},
   "outputs": [
    {
     "data": {
      "text/plain": [
       "10959"
      ]
     },
     "execution_count": 90,
     "metadata": {},
     "output_type": "execute_result"
    }
   ],
   "source": [
    "# Registros sin venta Gasolina 95 E5 Premium\n",
    "sin_suministro_g95E5_Prem = df_n['Precio Gasolina 95 E5 Premium'].isnull().sum()\n",
    "sin_suministro_g95E5_Prem"
   ]
  },
  {
   "cell_type": "code",
   "execution_count": 91,
   "id": "7ae51272",
   "metadata": {},
   "outputs": [
    {
     "data": {
      "text/plain": [
       "0"
      ]
     },
     "execution_count": 91,
     "metadata": {},
     "output_type": "execute_result"
    }
   ],
   "source": [
    "ceros_sin_suministro_g95E5_Prem  = (df_n['Precio Gasolina 95 E5 Premium'] == 0).sum()\n",
    "ceros_sin_suministro_g95E5 "
   ]
  },
  {
   "cell_type": "markdown",
   "id": "477ee508",
   "metadata": {},
   "source": [
    "# Precio Gasolina 98 E10"
   ]
  },
  {
   "cell_type": "code",
   "execution_count": 92,
   "id": "3b8c6a20",
   "metadata": {},
   "outputs": [
    {
     "name": "stdout",
     "output_type": "stream",
     "text": [
      "9\n",
      "<class 'numpy.ndarray'>\n"
     ]
    },
    {
     "data": {
      "text/plain": [
       "array(['', '1,995', '1,819', '1,760', '1,907', '1,959', '1,949', '1,939',\n",
       "       '1,838'], dtype=object)"
      ]
     },
     "execution_count": 92,
     "metadata": {},
     "output_type": "execute_result"
    }
   ],
   "source": [
    "g98_E10 = df_n['Precio Gasolina 98 E10'].unique()\n",
    "print(len(g98_E10))\n",
    "print(type(g98_E10))\n",
    "g98_E10"
   ]
  },
  {
   "cell_type": "code",
   "execution_count": 93,
   "id": "77f0708e",
   "metadata": {},
   "outputs": [],
   "source": [
    "# Convertimos columna categórica a numérica, primero tenemos que sustituir , por .\n",
    "df_n['Precio Gasolina 98 E10']=df_n['Precio Gasolina 98 E10'].str.replace(',','.')\n",
    "df_n[['Precio Gasolina 98 E10']]=df_n[['Precio Gasolina 98 E10']].apply(pd.to_numeric)"
   ]
  },
  {
   "cell_type": "code",
   "execution_count": 94,
   "id": "0ce30530",
   "metadata": {},
   "outputs": [
    {
     "data": {
      "text/plain": [
       "count    8.000000\n",
       "mean     1.895750\n",
       "std      0.081361\n",
       "min      1.760000\n",
       "25%      1.833250\n",
       "50%      1.923000\n",
       "75%      1.951500\n",
       "max      1.995000\n",
       "Name: Precio Gasolina 98 E10, dtype: float64"
      ]
     },
     "execution_count": 94,
     "metadata": {},
     "output_type": "execute_result"
    }
   ],
   "source": [
    "df_n['Precio Gasolina 98 E10'].describe()"
   ]
  },
  {
   "cell_type": "code",
   "execution_count": 95,
   "id": "7846a3d5",
   "metadata": {},
   "outputs": [
    {
     "data": {
      "text/plain": [
       "11755"
      ]
     },
     "execution_count": 95,
     "metadata": {},
     "output_type": "execute_result"
    }
   ],
   "source": [
    "# Registros sin venta Gasolina 98 E10 \n",
    "sin_suministro_g98E10 = df_n['Precio Gasolina 98 E10'].isnull().sum()\n",
    "sin_suministro_g98E10"
   ]
  },
  {
   "cell_type": "markdown",
   "id": "d0eca28a",
   "metadata": {},
   "source": [
    "# Precio Gasolina 98 E5"
   ]
  },
  {
   "cell_type": "code",
   "execution_count": 96,
   "id": "b948ed78",
   "metadata": {},
   "outputs": [
    {
     "name": "stdout",
     "output_type": "stream",
     "text": [
      "413\n",
      "<class 'numpy.ndarray'>\n"
     ]
    },
    {
     "data": {
      "text/plain": [
       "array(['', '2,200', '1,961', '1,959', '1,945', '1,939', '1,859', '1,919',\n",
       "       '1,899', '2,089', '1,955', '1,989', '1,916', '1,895', '2,369',\n",
       "       '1,892', '1,929', '1,869', '1,926', '1,999', '1,949', '1,931',\n",
       "       '1,925', '1,969', '1,941', '2,099', '1,909', '1,851', '2,179',\n",
       "       '1,934', '1,849', '2,009', '2,011', '1,977', '1,823', '1,951',\n",
       "       '1,922', '1,932', '1,954', '1,898', '2,599', '1,889', '2,019',\n",
       "       '2,029', '1,928', '1,991', '2,051', '1,979', '1,863', '1,957',\n",
       "       '1,805', '1,866', '1,779', '1,879', '1,976', '1,930', '1,921',\n",
       "       '1,971', '2,000', '1,985', '1,981', '2,039', '1,894', '2,999',\n",
       "       '1,986', '1,809', '1,915', '1,874', '1,875', '1,965', '1,966',\n",
       "       '2,005', '1,995', '1,732', '1,940', '1,819', '1,901', '1,888',\n",
       "       '1,953', '1,990', '2,069', '1,857', '1,935', '1,975', '2,071',\n",
       "       '2,169', '2,004', '2,021', '2,038', '2,001', '2,016', '2,031',\n",
       "       '2,049', '1,907', '1,868', '1,924', '2,041', '1,970', '2,002',\n",
       "       '1,996', '2,141', '1,917', '2,109', '2,028', '1,799', '1,820',\n",
       "       '1,905', '1,974', '1,848', '2,075', '1,885', '1,911', '2,098',\n",
       "       '2,059', '1,858', '1,846', '2,010', '1,998', '2,018', '2,017',\n",
       "       '1,978', '1,994', '1,947', '1,829', '1,920', '2,025', '1,792',\n",
       "       '1,950', '2,034', '1,956', '1,802', '2,160', '2,020', '1,690',\n",
       "       '1,699', '2,007', '1,816', '1,988', '2,180', '1,693', '2,024',\n",
       "       '1,964', '1,839', '1,844', '1,904', '2,150', '2,046', '1,825',\n",
       "       '2,006', '1,948', '1,906', '1,739', '2,139', '1,890', '1,712',\n",
       "       '2,047', '1,822', '2,079', '1,997', '2,124', '1,944', '2,078',\n",
       "       '2,068', '2,036', '2,145', '2,033', '1,908', '2,149', '2,157',\n",
       "       '2,199', '1,878', '2,189', '2,014', '1,767', '1,946', '2,119',\n",
       "       '2,057', '1,880', '2,209', '1,789', '1,887', '1,891', '2,048',\n",
       "       '1,513', '1,499', '1,749', '1,871', '2,229', '1,845', '1,815',\n",
       "       '1,861', '1,958', '1,828', '2,081', '2,095', '2,037', '1,942',\n",
       "       '2,159', '1,972', '2,065', '2,100', '2,129', '1,980', '2,115',\n",
       "       '1,936', '1,748', '1,842', '2,060', '2,015', '1,987', '1,755',\n",
       "       '1,984', '1,810', '1,973', '1,841', '1,795', '2,500', '1,835',\n",
       "       '1,963', '1,918', '1,900', '1,856', '1,913', '1,840', '2,299',\n",
       "       '1,602', '2,074', '2,032', '1,765', '1,729', '1,914', '1,695',\n",
       "       '1,967', '2,008', '1,698', '1,854', '2,003', '2,140', '1,882',\n",
       "       '2,035', '2,239', '1,833', '1,788', '1,960', '1,993', '1,757',\n",
       "       '1,910', '1,877', '1,722', '2,215', '2,026', '1,897', '1,584',\n",
       "       '1,539', '1,519', '1,579', '1,534', '1,669', '1,549', '1,459',\n",
       "       '1,439', '1,417', '1,599', '1,569', '1,509', '1,589', '1,474',\n",
       "       '1,659', '1,613', '1,605', '1,551', '1,544', '1,581', '1,582',\n",
       "       '1,542', '1,639', '1,649', '1,629', '1,588', '1,593', '1,601',\n",
       "       '1,609', '1,617', '1,409', '1,558', '1,469', '1,576', '1,684',\n",
       "       '1,671', '1,707', '1,598', '1,614', '1,600', '1,632', '1,604',\n",
       "       '1,619', '1,577', '1,529', '1,575', '1,610', '1,620', '1,674',\n",
       "       '1,580', '1,689', '1,564', '1,567', '1,625', '1,626', '1,554',\n",
       "       '1,574', '1,578', '1,559', '1,573', '1,590', '1,615', '1,585',\n",
       "       '1,380', '1,594', '1,492', '1,628', '1,498', '1,656', '1,627',\n",
       "       '1,968', '1,371', '1,648', '1,688', '1,506', '1,511', '1,464',\n",
       "       '1,460', '1,505', '1,606', '1,479', '1,675', '1,504', '1,407',\n",
       "       '1,399', '1,423', '1,514', '1,697', '1,524', '1,647', '1,490',\n",
       "       '1,550', '1,530', '1,377', '1,477', '1,570', '1,465', '1,700',\n",
       "       '1,489', '1,545', '1,449', '1,395', '1,515', '1,507', '1,497',\n",
       "       '1,750', '1,485', '1,384', '1,495', '1,458', '1,488', '1,484',\n",
       "       '1,472', '1,394', '1,563', '1,400', '1,424', '1,597', '1,526',\n",
       "       '1,478', '1,435', '1,510', '1,623', '1,531', '1,494', '1,571',\n",
       "       '1,501', '1,536', '1,533', '1,419', '2,058', '2,267', '1,759',\n",
       "       '1,719', '2,219', '1,769', '1,923', '2,450', '1,864', '1,927',\n",
       "       '1,794', '1,865', '1,800', '2,064', '1,867', '1,847', '2,220',\n",
       "       '2,055', '1,937', '1,807', '2,050', '1,813', '1,938', '1,830',\n",
       "       '1,896', '2,279', '2,022', '2,250', '1,850', '1,837'], dtype=object)"
      ]
     },
     "execution_count": 96,
     "metadata": {},
     "output_type": "execute_result"
    }
   ],
   "source": [
    "g98_E5 = df_n['Precio Gasolina 98 E5'].unique()\n",
    "print(len(g98_E5))\n",
    "print(type(g98_E5))\n",
    "g98_E5"
   ]
  },
  {
   "cell_type": "code",
   "execution_count": 97,
   "id": "4763d458",
   "metadata": {},
   "outputs": [],
   "source": [
    "# Convertimos columna categórica a numérica, primero tenemos que sustituir , por .\n",
    "df_n['Precio Gasolina 98 E5']=df_n['Precio Gasolina 98 E5'].str.replace(',','.')\n",
    "df_n[['Precio Gasolina 98 E5']]=df_n[['Precio Gasolina 98 E5']].apply(pd.to_numeric)"
   ]
  },
  {
   "cell_type": "code",
   "execution_count": 98,
   "id": "767e87d9",
   "metadata": {},
   "outputs": [
    {
     "data": {
      "text/plain": [
       "count    5932.000000\n",
       "mean        1.932060\n",
       "std         0.122878\n",
       "min         1.371000\n",
       "25%         1.919000\n",
       "50%         1.959000\n",
       "75%         1.990000\n",
       "max         2.999000\n",
       "Name: Precio Gasolina 98 E5, dtype: float64"
      ]
     },
     "execution_count": 98,
     "metadata": {},
     "output_type": "execute_result"
    }
   ],
   "source": [
    "df_n['Precio Gasolina 98 E5'].describe()"
   ]
  },
  {
   "cell_type": "code",
   "execution_count": 99,
   "id": "d9fb7e91",
   "metadata": {},
   "outputs": [
    {
     "data": {
      "text/plain": [
       "5831"
      ]
     },
     "execution_count": 99,
     "metadata": {},
     "output_type": "execute_result"
    }
   ],
   "source": [
    "# Registros sin venta Gasolina 98 E5 \n",
    "sin_suministro_g98E5 = df_n['Precio Gasolina 98 E5'].isnull().sum()\n",
    "sin_suministro_g98E5"
   ]
  },
  {
   "cell_type": "code",
   "execution_count": 100,
   "id": "ad3ee76b",
   "metadata": {},
   "outputs": [
    {
     "data": {
      "text/plain": [
       "0"
      ]
     },
     "execution_count": 100,
     "metadata": {},
     "output_type": "execute_result"
    }
   ],
   "source": [
    "ceros_sin_suministro_g98E5  = (df_n['Precio Gasolina 98 E5'] == 0).sum()\n",
    "ceros_sin_suministro_g98E5 "
   ]
  },
  {
   "cell_type": "markdown",
   "id": "d8566cb1",
   "metadata": {},
   "source": [
    "# Precio Hidrogeno "
   ]
  },
  {
   "cell_type": "code",
   "execution_count": null,
   "id": "8092ec5a",
   "metadata": {},
   "outputs": [
    {
     "name": "stdout",
     "output_type": "stream",
     "text": [
      "1\n",
      "<class 'numpy.ndarray'>\n"
     ]
    },
    {
     "data": {
      "text/plain": [
       "array([''], dtype=object)"
      ]
     },
     "execution_count": 101,
     "metadata": {},
     "output_type": "execute_result"
    }
   ],
   "source": [
    "Hidrongeno = df_n['Precio Hidrogeno'].unique()\n",
    "print(len(Hidrongeno))\n",
    "print(type(Hidrongeno))\n",
    "Hidrongeno"
   ]
  },
  {
   "cell_type": "code",
   "execution_count": null,
   "id": "38acbbd6",
   "metadata": {},
   "outputs": [],
   "source": [
    "# Convertimos columna categórica a numérica, primero tenemos que sustituir , por .\n",
    "df_n['Precio Hidrogeno']=df_n['Precio Hidrogeno'].str.replace(',','.')\n",
    "df_n[['Precio Hidrogeno']]=df_n[['Precio Hidrogeno']].apply(pd.to_numeric)"
   ]
  },
  {
   "cell_type": "code",
   "execution_count": null,
   "id": "1b19941a",
   "metadata": {},
   "outputs": [],
   "source": [
    "df_n['Precio Hidrogeno'].describe()"
   ]
  },
  {
   "cell_type": "code",
   "execution_count": null,
   "id": "c6802106",
   "metadata": {},
   "outputs": [],
   "source": [
    "df_n.info()"
   ]
  },
  {
   "cell_type": "markdown",
   "id": "0b486d1c",
   "metadata": {},
   "source": [
    "---\n",
    "Setp 3\n",
    "\n",
    "# Limpieza de Columnas"
   ]
  },
  {
   "cell_type": "code",
   "execution_count": null,
   "id": "58959813",
   "metadata": {},
   "outputs": [],
   "source": [
    "# Eliminiación de columnas que no interesan a nivel usuario o que no aportan datos significativos al modelo\n",
    "df_n.drop(['Margen', 'Remisión', 'Tipo Venta', '% BioEtanol', '% Éster metílico', 'Precio Biodiesel',\n",
    "          'Precio Bioetanol', 'Precio Gas Natural Comprimido', 'Precio Gas Natural Licuado', \n",
    "          'Precio Gas Natural Licuado', 'Precio Gases licuados del petróleo', 'Precio Gasolina 95 E10',\n",
    "          'Precio Gasolina 95 E5 Premium', 'Precio Gasolina 98 E10', 'Precio Hidrogeno'], axis=1, inplace=True)\n"
   ]
  },
  {
   "cell_type": "code",
   "execution_count": null,
   "id": "1f4e6f15",
   "metadata": {},
   "outputs": [],
   "source": [
    "# Comprobación\n",
    "df_n.iloc[15][['Precio Gasoleo B']]"
   ]
  },
  {
   "cell_type": "code",
   "execution_count": null,
   "id": "a9fe557e",
   "metadata": {},
   "outputs": [],
   "source": [
    "df_n.head()"
   ]
  },
  {
   "cell_type": "code",
   "execution_count": null,
   "id": "d7336670",
   "metadata": {},
   "outputs": [],
   "source": [
    "# Renombramos las columnas\n",
    "df_n.rename(columns={\"Precio Gasoleo A\": \"Gasoleo A\", \"Precio Gasoleo B\": \"Gasoleo B\" ,\"Precio Gasoleo Premium\": \"Gasoleo Premium\", \n",
    "                     \"Precio Gasolina 95 E5\": \"Gasolina 95 E5\", \"Precio Gasolina 98 E5\": \"Gasolina 98 E5\",\n",
    "                     \"Rótulo\":\"Proveedor de Servicio\"}, inplace=True)\n",
    "df_n.head(1)"
   ]
  },
  {
   "cell_type": "code",
   "execution_count": null,
   "id": "365e7b0f",
   "metadata": {},
   "outputs": [],
   "source": [
    "# Media\n",
    "df_n['Media_Gasoleo A']=df_n['Gasoleo A'].mean()\n",
    "df_n['Media_Gasoleo B']=df_n['Gasoleo B'].mean()\n",
    "df_n['Media_Gasoleo Prem'] = df_n['Gasoleo Premium'].mean()\n",
    "df_n['Media_Gasolina 95']=df_n['Gasolina 95 E5'].mean()\n",
    "df_n['Media_Gasolina 98']=df_n['Gasolina 98 E5'].mean()\n"
   ]
  },
  {
   "cell_type": "code",
   "execution_count": null,
   "id": "92b44a14",
   "metadata": {},
   "outputs": [],
   "source": [
    "# Desviación (eliminanos porque no aporta información va)\n",
    "#df_n['dev_Gasoleo A']= df_n['Gasoleo A'] - df_n['Media_Gasoleo A']\n",
    "#df_n['dev_Gasoleo B'] =df_n['Gasoleo B'] - df_n['Media_Gasoleo B']\n",
    "#df_n['dev_Gasoleo Prem'] =df_n['Gasoleo Premium'] - df_n['Media_Gasoleo Prem']\n",
    "#df_n['dev_Gasolina 95']=df_n['Gasolina 95 E5'] - df_n['Media_Gasolina 95']\n",
    "#df_n['dev_Gasolina 98']=df_n['Gasolina 98 E5']- df_n['Media_Gasolina 98']\n"
   ]
  },
  {
   "cell_type": "code",
   "execution_count": null,
   "id": "2209ce36",
   "metadata": {},
   "outputs": [],
   "source": []
  },
  {
   "cell_type": "code",
   "execution_count": null,
   "id": "52c69724",
   "metadata": {
    "scrolled": true
   },
   "outputs": [],
   "source": [
    "df_n.head()"
   ]
  },
  {
   "cell_type": "code",
   "execution_count": null,
   "id": "fbc17dd0",
   "metadata": {},
   "outputs": [],
   "source": [
    "df_n.info()"
   ]
  },
  {
   "cell_type": "code",
   "execution_count": null,
   "id": "ea5c62a5",
   "metadata": {},
   "outputs": [],
   "source": [
    "#Ordenamos columnas\n",
    "df_n = df_n[['Fecha', 'Horario', 'C.P.','Provincia','Municipio','Localidad', 'Dirección', 'Proveedor de Servicio', 'Gasoleo A',\n",
    "             'Gasoleo B', 'Gasoleo Premium', 'Gasolina 95 E5', 'Gasolina 98 E5', 'Media_Gasoleo A',\n",
    "             'Media_Gasoleo B', 'Media_Gasoleo Prem', 'Media_Gasolina 95', 'Media_Gasolina 98']]\n",
    "df_n"
   ]
  },
  {
   "cell_type": "code",
   "execution_count": null,
   "id": "5f465a5c",
   "metadata": {},
   "outputs": [],
   "source": [
    "# Guardamos df original para sucesion de tiempo\n",
    "df_n.to_csv('df_sample.csv', index=False)"
   ]
  },
  {
   "cell_type": "code",
   "execution_count": null,
   "id": "32cb382f",
   "metadata": {},
   "outputs": [],
   "source": [
    "df_n.info()"
   ]
  },
  {
   "cell_type": "code",
   "execution_count": null,
   "id": "bca523aa",
   "metadata": {},
   "outputs": [],
   "source": [
    "x = df_n['C.P.']\n",
    "print(type(x))\n"
   ]
  },
  {
   "cell_type": "markdown",
   "id": "9ece3cb6",
   "metadata": {},
   "source": [
    "---\n",
    "Step4\n",
    "\n",
    "\n",
    "# Desarrollo Funciones "
   ]
  },
  {
   "cell_type": "code",
   "execution_count": null,
   "id": "a2640cea",
   "metadata": {},
   "outputs": [],
   "source": [
    "# Analisis de Funciones"
   ]
  },
  {
   "cell_type": "code",
   "execution_count": null,
   "id": "6a6ddce7",
   "metadata": {
    "scrolled": true
   },
   "outputs": [],
   "source": [
    "# Analizar df_n usando .loc()\n",
    "\n",
    "df_n[df_n['C.P.'] == '28760'] "
   ]
  },
  {
   "cell_type": "code",
   "execution_count": null,
   "id": "d4a411b2",
   "metadata": {},
   "outputs": [],
   "source": [
    "df_n[['Gasoleo A']].min()"
   ]
  },
  {
   "cell_type": "code",
   "execution_count": null,
   "id": "3b1f1e51",
   "metadata": {},
   "outputs": [],
   "source": [
    "type(df_n[['Gasoleo A']].min())"
   ]
  },
  {
   "cell_type": "code",
   "execution_count": null,
   "id": "90b1365c",
   "metadata": {},
   "outputs": [],
   "source": [
    "df_n[['Gasoleo A']].idxmin()"
   ]
  },
  {
   "cell_type": "code",
   "execution_count": null,
   "id": "2e862788",
   "metadata": {},
   "outputs": [],
   "source": [
    "type(df_n[['Gasoleo A']].idxmin())"
   ]
  },
  {
   "cell_type": "code",
   "execution_count": null,
   "id": "9de51546",
   "metadata": {},
   "outputs": [],
   "source": [
    "#df_n.loc[df_n[['Gasoleo A']].min()]"
   ]
  },
  {
   "cell_type": "code",
   "execution_count": null,
   "id": "6189b48b",
   "metadata": {},
   "outputs": [],
   "source": [
    "#df_n.head()"
   ]
  },
  {
   "cell_type": "code",
   "execution_count": null,
   "id": "2532402d",
   "metadata": {},
   "outputs": [],
   "source": [
    "#df_n.loc[1.290]"
   ]
  },
  {
   "cell_type": "code",
   "execution_count": null,
   "id": "eaca1f27",
   "metadata": {},
   "outputs": [],
   "source": [
    "df_n.index"
   ]
  },
  {
   "cell_type": "code",
   "execution_count": null,
   "id": "c8047416",
   "metadata": {},
   "outputs": [],
   "source": [
    "type(df_n.loc[df_n[['Gasoleo A']].idxmin()])"
   ]
  },
  {
   "cell_type": "code",
   "execution_count": null,
   "id": "5f0aaab8",
   "metadata": {},
   "outputs": [],
   "source": [
    "type(df_n.loc[9213])"
   ]
  },
  {
   "cell_type": "code",
   "execution_count": null,
   "id": "aeca5642",
   "metadata": {},
   "outputs": [],
   "source": [
    "a = df_n.groupby(by=[\"Municipio\"])\n",
    "a"
   ]
  },
  {
   "cell_type": "code",
   "execution_count": null,
   "id": "4afac610",
   "metadata": {},
   "outputs": [],
   "source": [
    "b = a[\"C.P.\"].unique()\n",
    "b"
   ]
  },
  {
   "cell_type": "markdown",
   "id": "3f8e8e7f",
   "metadata": {},
   "source": [
    "# Funciones"
   ]
  },
  {
   "cell_type": "code",
   "execution_count": null,
   "id": "ebf8ea98",
   "metadata": {},
   "outputs": [],
   "source": [
    "# Precio mínimo de combstible en un codigo postal \n",
    "def cp_minimo(x,y):\n",
    "# x = Código Postal\n",
    "# y = Tipo de combustible para el precio mínimo\n",
    "    cod_postal = df_n[df_n['C.P.'] == x]\n",
    "    combustible = cod_postal.loc[cod_postal[[y]].idxmin()]\n",
    "    return combustible\n"
   ]
  },
  {
   "cell_type": "code",
   "execution_count": null,
   "id": "e31206c6",
   "metadata": {},
   "outputs": [],
   "source": [
    "cp_minimo('28760', 'Gasoleo A')"
   ]
  },
  {
   "cell_type": "markdown",
   "id": "2279f697",
   "metadata": {},
   "source": [
    "---"
   ]
  },
  {
   "cell_type": "code",
   "execution_count": null,
   "id": "ee65c0fb",
   "metadata": {},
   "outputs": [],
   "source": [
    "df_n[df_n['C.P.'] == \"28500\"]"
   ]
  },
  {
   "cell_type": "code",
   "execution_count": null,
   "id": "2b4ed723",
   "metadata": {},
   "outputs": [],
   "source": [
    "# Comprobación\n",
    "x1 = df_n[\"C.P.\"]=='28500'\n",
    "x2 = df_n[x1]\n",
    "x2"
   ]
  },
  {
   "cell_type": "code",
   "execution_count": null,
   "id": "76cc76f7",
   "metadata": {},
   "outputs": [],
   "source": [
    "# Precio mínimo de combstible en una Provincia  \n",
    "def provincia_minimo(x, y):\n",
    "# x = Provincia\n",
    "# y = tipo de combustible     \n",
    "    provincia = df_n[df_n[\"Provincia\"] == x]\n",
    "    minimo_prov = provincia.loc[provincia[[y]].idxmin()]\n",
    "    return minimo_prov"
   ]
  },
  {
   "cell_type": "code",
   "execution_count": null,
   "id": "9e76f0ba",
   "metadata": {},
   "outputs": [],
   "source": [
    "provincia_minimo('MADRID', 'Gasoleo A')"
   ]
  },
  {
   "cell_type": "code",
   "execution_count": null,
   "id": "94daf5b4",
   "metadata": {},
   "outputs": [],
   "source": [
    "# Precio mínimo de combstible en un Municipio  \n",
    "def municipio_minimo(x, y):\n",
    "# x = Municipio\n",
    "# y = Tipo de Combustible    \n",
    "    municipio = df_n[df_n[\"Municipio\"] == x]\n",
    "    municipio_min = municipio.loc[municipio[[y]].idxmin()]\n",
    "    return municipio"
   ]
  },
  {
   "cell_type": "code",
   "execution_count": null,
   "id": "870d8abe",
   "metadata": {},
   "outputs": [],
   "source": [
    "municipio_minimo('Cercedilla', 'Gasoleo A')"
   ]
  },
  {
   "cell_type": "code",
   "execution_count": null,
   "id": "9f08be70",
   "metadata": {},
   "outputs": [],
   "source": [
    "# # Precio mínimo de combstible en un proveedor de estación de servicio  \n",
    "def gasolinera_minimo(x, y):\n",
    "# x = Proveedor de estación de servicio\n",
    "# Y = Tipo de Combustible    \n",
    "    proveedor = df_n[df_n[\"Proveedor de Servicio\"] == x]\n",
    "    minimo_prov = proveedor.loc[proveedor[[y]].idxmin()]\n",
    "    return minimo_prov"
   ]
  },
  {
   "cell_type": "code",
   "execution_count": null,
   "id": "c3776eb1",
   "metadata": {},
   "outputs": [],
   "source": [
    "gasolinera_minimo('REPSOL', 'Gasoleo A')"
   ]
  },
  {
   "cell_type": "code",
   "execution_count": null,
   "id": "07fe3213",
   "metadata": {},
   "outputs": [],
   "source": [
    "# Función para convertir códigos postales\n",
    "def convert(x):\n",
    "# x: Municipio    \n",
    "    municipio = df_n[df_n[\"Municipio\"] == x]\n",
    "    cp = municipio[[\"C.P.\", \"Municipio\", \"Proveedor de Servicio\"]]\n",
    "    return cp\n",
    "    "
   ]
  },
  {
   "cell_type": "code",
   "execution_count": null,
   "id": "ba996755",
   "metadata": {},
   "outputs": [],
   "source": [
    "convert('Móstoles')"
   ]
  },
  {
   "cell_type": "code",
   "execution_count": null,
   "id": "752fcb3c",
   "metadata": {},
   "outputs": [],
   "source": [
    "# Listado de Estaciones de Servicio por Municipio por Municipio\n",
    "# x: Municipio\n",
    "def gasolineras_municipio(x):\n",
    "    municipio = df_n[df_n[\"Municipio\"] == x]\n",
    "    eess_mun = pd.DataFrame(municipio[[\"Proveedor de Servicio\"]])\n",
    "    return eess_mun\n"
   ]
  },
  {
   "cell_type": "code",
   "execution_count": null,
   "id": "9f8ea85c",
   "metadata": {},
   "outputs": [],
   "source": [
    "gasolineras_municipio('Navalcarnero')"
   ]
  },
  {
   "cell_type": "code",
   "execution_count": null,
   "id": "42d352ec",
   "metadata": {},
   "outputs": [],
   "source": [
    "# Listado de Gasolineras por Provincia\n",
    "#x=Provincia\n",
    "def gasolineras_provincia(x):\n",
    "    cp_x = df_n[df_n[\"Provincia\"] == x]\n",
    "    return cp_x\n"
   ]
  },
  {
   "cell_type": "code",
   "execution_count": null,
   "id": "fb0d41d2",
   "metadata": {},
   "outputs": [],
   "source": [
    "gasolineras_provincia('HUELVA')"
   ]
  },
  {
   "cell_type": "code",
   "execution_count": null,
   "id": "fe00f1c5",
   "metadata": {},
   "outputs": [],
   "source": [
    "# Listado de Gasolineras por Código Postal:\n",
    "# x: código postal\n",
    "def gasolineras_cp(x):\n",
    "    cp = df_n[df_n[\"C.P.\"] == x]\n",
    "    return cp"
   ]
  },
  {
   "cell_type": "code",
   "execution_count": null,
   "id": "858df679",
   "metadata": {},
   "outputs": [],
   "source": [
    "gasolineras_cp('28500')"
   ]
  },
  {
   "cell_type": "code",
   "execution_count": null,
   "id": "3542af36",
   "metadata": {},
   "outputs": [],
   "source": [
    "df_n.dropna()"
   ]
  },
  {
   "cell_type": "markdown",
   "id": "26535421",
   "metadata": {},
   "source": [
    "# Pruebas de Código - PyChart"
   ]
  },
  {
   "cell_type": "code",
   "execution_count": null,
   "id": "0ae77c25",
   "metadata": {},
   "outputs": [],
   "source": [
    "media_municipio_1 = df_n[df_n[\"Municipio\"]==df_n['Municipio']]\n",
    "media_municipio_2 = media_municipio_1['Gasoleo A'].mean()\n",
    "media_municipio_2\n",
    "type(media_municipio_2)"
   ]
  },
  {
   "cell_type": "code",
   "execution_count": null,
   "id": "5b3fdc31",
   "metadata": {},
   "outputs": [],
   "source": [
    "df_n.loc[:,'Gasoleo A':'dev_Gasolina 98']"
   ]
  },
  {
   "cell_type": "code",
   "execution_count": null,
   "id": "d2c465f0",
   "metadata": {},
   "outputs": [],
   "source": [
    "df_n[['Gasoleo A']]"
   ]
  },
  {
   "cell_type": "code",
   "execution_count": null,
   "id": "8fc41865",
   "metadata": {},
   "outputs": [],
   "source": [
    "x = df_n.loc[0:0, 'Gasoleo A']\n",
    "\n",
    "x"
   ]
  },
  {
   "cell_type": "code",
   "execution_count": null,
   "id": "ebbd5bd7",
   "metadata": {},
   "outputs": [],
   "source": [
    "df_n[df_n['Gasoleo A']] == df_n[df_n['Media_Gasoleo A']]"
   ]
  },
  {
   "cell_type": "code",
   "execution_count": null,
   "id": "d6359596",
   "metadata": {},
   "outputs": [],
   "source": []
  },
  {
   "cell_type": "code",
   "execution_count": null,
   "id": "5554abd0",
   "metadata": {},
   "outputs": [],
   "source": []
  },
  {
   "cell_type": "code",
   "execution_count": null,
   "id": "9bdeaf58",
   "metadata": {},
   "outputs": [],
   "source": []
  },
  {
   "cell_type": "code",
   "execution_count": null,
   "id": "7ea9bb56",
   "metadata": {},
   "outputs": [],
   "source": []
  }
 ],
 "metadata": {
  "kernelspec": {
   "display_name": "Python [conda env:m1_ih]",
   "language": "python",
   "name": "conda-env-m1_ih-py"
  },
  "language_info": {
   "codemirror_mode": {
    "name": "ipython",
    "version": 3
   },
   "file_extension": ".py",
   "mimetype": "text/x-python",
   "name": "python",
   "nbconvert_exporter": "python",
   "pygments_lexer": "ipython3",
   "version": "3.9.12"
  }
 },
 "nbformat": 4,
 "nbformat_minor": 5
}
