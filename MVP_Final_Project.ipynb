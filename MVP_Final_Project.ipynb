{
 "cells": [
  {
   "cell_type": "markdown",
   "id": "3e6982b2",
   "metadata": {},
   "source": [
    "## MVP"
   ]
  },
  {
   "cell_type": "code",
   "execution_count": 1,
   "id": "2cef25b8",
   "metadata": {},
   "outputs": [],
   "source": [
    "# Imports\n",
    "\n",
    "# Pandas\n",
    "import pandas as pd \n",
    "\n",
    "# Importo libreria para conexión a API\n",
    "from urllib.request import urlopen\n",
    "\n",
    "# Importo libreria Json para que lea\n",
    "import json\n",
    "\n",
    "# Instalación de GitHub\n",
    "from git import Repo\n",
    "\n",
    "import numpy as np\n"
   ]
  },
  {
   "cell_type": "markdown",
   "id": "9397380f",
   "metadata": {},
   "source": [
    "---\n",
    "Step 1 (Data Extraction)"
   ]
  },
  {
   "cell_type": "code",
   "execution_count": 2,
   "id": "55515f32",
   "metadata": {},
   "outputs": [],
   "source": [
    "# Definir las variables donde meto el string que contiene la URL\n",
    "\n",
    "endpoint ='https://sedeaplicaciones.minetur.gob.es'\n",
    "parametros = '/ServiciosRESTCarburantes/PreciosCarburantes/EstacionesTerrestres/'\n"
   ]
  },
  {
   "cell_type": "code",
   "execution_count": 3,
   "id": "2d466973",
   "metadata": {},
   "outputs": [
    {
     "data": {
      "text/plain": [
       "http.client.HTTPResponse"
      ]
     },
     "execution_count": 3,
     "metadata": {},
     "output_type": "execute_result"
    }
   ],
   "source": [
    "# Vamos a guardar en una variable nuestros datos (resultado, comida) \n",
    "\n",
    "response = urlopen(endpoint+parametros)\n",
    "type(response)\n"
   ]
  },
  {
   "cell_type": "code",
   "execution_count": 4,
   "id": "0031d835",
   "metadata": {},
   "outputs": [
    {
     "data": {
      "text/plain": [
       "dict"
      ]
     },
     "execution_count": 4,
     "metadata": {},
     "output_type": "execute_result"
    }
   ],
   "source": [
    "# Vamos a extraer del obejto, los datos\n",
    "\n",
    "data = response.read().decode('utf-8', 'replace')\n",
    "data = json.loads(data)\n",
    "type(data)\n"
   ]
  },
  {
   "cell_type": "code",
   "execution_count": 5,
   "id": "501a7f08",
   "metadata": {},
   "outputs": [
    {
     "data": {
      "text/html": [
       "<div>\n",
       "<style scoped>\n",
       "    .dataframe tbody tr th:only-of-type {\n",
       "        vertical-align: middle;\n",
       "    }\n",
       "\n",
       "    .dataframe tbody tr th {\n",
       "        vertical-align: top;\n",
       "    }\n",
       "\n",
       "    .dataframe thead th {\n",
       "        text-align: right;\n",
       "    }\n",
       "</style>\n",
       "<table border=\"1\" class=\"dataframe\">\n",
       "  <thead>\n",
       "    <tr style=\"text-align: right;\">\n",
       "      <th></th>\n",
       "      <th>Fecha</th>\n",
       "      <th>ListaEESSPrecio</th>\n",
       "      <th>Nota</th>\n",
       "      <th>ResultadoConsulta</th>\n",
       "    </tr>\n",
       "  </thead>\n",
       "  <tbody>\n",
       "    <tr>\n",
       "      <th>0</th>\n",
       "      <td>04/07/2023 11:47:58</td>\n",
       "      <td>{'C.P.': '02250', 'Dirección': 'AVENIDA CASTIL...</td>\n",
       "      <td>Archivo de todos los productos en todas las es...</td>\n",
       "      <td>OK</td>\n",
       "    </tr>\n",
       "    <tr>\n",
       "      <th>1</th>\n",
       "      <td>04/07/2023 11:47:58</td>\n",
       "      <td>{'C.P.': '02152', 'Dirección': 'CR CM-332, 46,...</td>\n",
       "      <td>Archivo de todos los productos en todas las es...</td>\n",
       "      <td>OK</td>\n",
       "    </tr>\n",
       "    <tr>\n",
       "      <th>2</th>\n",
       "      <td>04/07/2023 11:47:58</td>\n",
       "      <td>{'C.P.': '02001', 'Dirección': 'CALLE FEDERICO...</td>\n",
       "      <td>Archivo de todos los productos en todas las es...</td>\n",
       "      <td>OK</td>\n",
       "    </tr>\n",
       "    <tr>\n",
       "      <th>3</th>\n",
       "      <td>04/07/2023 11:47:58</td>\n",
       "      <td>{'C.P.': '02001', 'Dirección': 'AVENIDA 1º DE ...</td>\n",
       "      <td>Archivo de todos los productos en todas las es...</td>\n",
       "      <td>OK</td>\n",
       "    </tr>\n",
       "    <tr>\n",
       "      <th>4</th>\n",
       "      <td>04/07/2023 11:47:58</td>\n",
       "      <td>{'C.P.': '02001', 'Dirección': 'CALLE PRINCIPE...</td>\n",
       "      <td>Archivo de todos los productos en todas las es...</td>\n",
       "      <td>OK</td>\n",
       "    </tr>\n",
       "    <tr>\n",
       "      <th>...</th>\n",
       "      <td>...</td>\n",
       "      <td>...</td>\n",
       "      <td>...</td>\n",
       "      <td>...</td>\n",
       "    </tr>\n",
       "    <tr>\n",
       "      <th>11844</th>\n",
       "      <td>04/07/2023 11:47:58</td>\n",
       "      <td>{'C.P.': '50197', 'Dirección': 'RONDA RONDA DE...</td>\n",
       "      <td>Archivo de todos los productos en todas las es...</td>\n",
       "      <td>OK</td>\n",
       "    </tr>\n",
       "    <tr>\n",
       "      <th>11845</th>\n",
       "      <td>04/07/2023 11:47:58</td>\n",
       "      <td>{'C.P.': '50197', 'Dirección': 'RONDA FERIA DE...</td>\n",
       "      <td>Archivo de todos los productos en todas las es...</td>\n",
       "      <td>OK</td>\n",
       "    </tr>\n",
       "    <tr>\n",
       "      <th>11846</th>\n",
       "      <td>04/07/2023 11:47:58</td>\n",
       "      <td>{'C.P.': '50800', 'Dirección': 'CARRETERA N-33...</td>\n",
       "      <td>Archivo de todos los productos en todas las es...</td>\n",
       "      <td>OK</td>\n",
       "    </tr>\n",
       "    <tr>\n",
       "      <th>11847</th>\n",
       "      <td>04/07/2023 11:47:58</td>\n",
       "      <td>{'C.P.': '50800', 'Dirección': 'CALLE AUSTRIA,...</td>\n",
       "      <td>Archivo de todos los productos en todas las es...</td>\n",
       "      <td>OK</td>\n",
       "    </tr>\n",
       "    <tr>\n",
       "      <th>11848</th>\n",
       "      <td>04/07/2023 11:47:58</td>\n",
       "      <td>{'C.P.': '50810', 'Dirección': 'CALLE COOPERAT...</td>\n",
       "      <td>Archivo de todos los productos en todas las es...</td>\n",
       "      <td>OK</td>\n",
       "    </tr>\n",
       "  </tbody>\n",
       "</table>\n",
       "<p>11849 rows × 4 columns</p>\n",
       "</div>"
      ],
      "text/plain": [
       "                     Fecha                                    ListaEESSPrecio  \\\n",
       "0      04/07/2023 11:47:58  {'C.P.': '02250', 'Dirección': 'AVENIDA CASTIL...   \n",
       "1      04/07/2023 11:47:58  {'C.P.': '02152', 'Dirección': 'CR CM-332, 46,...   \n",
       "2      04/07/2023 11:47:58  {'C.P.': '02001', 'Dirección': 'CALLE FEDERICO...   \n",
       "3      04/07/2023 11:47:58  {'C.P.': '02001', 'Dirección': 'AVENIDA 1º DE ...   \n",
       "4      04/07/2023 11:47:58  {'C.P.': '02001', 'Dirección': 'CALLE PRINCIPE...   \n",
       "...                    ...                                                ...   \n",
       "11844  04/07/2023 11:47:58  {'C.P.': '50197', 'Dirección': 'RONDA RONDA DE...   \n",
       "11845  04/07/2023 11:47:58  {'C.P.': '50197', 'Dirección': 'RONDA FERIA DE...   \n",
       "11846  04/07/2023 11:47:58  {'C.P.': '50800', 'Dirección': 'CARRETERA N-33...   \n",
       "11847  04/07/2023 11:47:58  {'C.P.': '50800', 'Dirección': 'CALLE AUSTRIA,...   \n",
       "11848  04/07/2023 11:47:58  {'C.P.': '50810', 'Dirección': 'CALLE COOPERAT...   \n",
       "\n",
       "                                                    Nota ResultadoConsulta  \n",
       "0      Archivo de todos los productos en todas las es...                OK  \n",
       "1      Archivo de todos los productos en todas las es...                OK  \n",
       "2      Archivo de todos los productos en todas las es...                OK  \n",
       "3      Archivo de todos los productos en todas las es...                OK  \n",
       "4      Archivo de todos los productos en todas las es...                OK  \n",
       "...                                                  ...               ...  \n",
       "11844  Archivo de todos los productos en todas las es...                OK  \n",
       "11845  Archivo de todos los productos en todas las es...                OK  \n",
       "11846  Archivo de todos los productos en todas las es...                OK  \n",
       "11847  Archivo de todos los productos en todas las es...                OK  \n",
       "11848  Archivo de todos los productos en todas las es...                OK  \n",
       "\n",
       "[11849 rows x 4 columns]"
      ]
     },
     "execution_count": 5,
     "metadata": {},
     "output_type": "execute_result"
    }
   ],
   "source": [
    "# Crear Dataframe\n",
    "\n",
    "df = pd.DataFrame(data)\n",
    "df"
   ]
  },
  {
   "cell_type": "markdown",
   "id": "bf936489",
   "metadata": {},
   "source": [
    "---\n",
    "\n",
    "Step 2 (Data Transformation)"
   ]
  },
  {
   "cell_type": "code",
   "execution_count": 6,
   "id": "82a65952",
   "metadata": {},
   "outputs": [
    {
     "data": {
      "text/plain": [
       "dict"
      ]
     },
     "execution_count": 6,
     "metadata": {},
     "output_type": "execute_result"
    }
   ],
   "source": [
    "# Análisis de la columna Lista EESS Precio\n",
    "\n",
    "diccionario = df['ListaEESSPrecio'].iloc[1]\n",
    "type(diccionario)"
   ]
  },
  {
   "cell_type": "code",
   "execution_count": 7,
   "id": "3207dce3",
   "metadata": {},
   "outputs": [
    {
     "data": {
      "text/plain": [
       "{'C.P.': '02152',\n",
       " 'Dirección': 'CR CM-332, 46,4',\n",
       " 'Horario': 'L-D: 7:00-23:00',\n",
       " 'Latitud': '39,100389',\n",
       " 'Localidad': 'ALATOZ',\n",
       " 'Longitud (WGS84)': '-1,346083',\n",
       " 'Margen': 'I',\n",
       " 'Municipio': 'Alatoz',\n",
       " 'Precio Biodiesel': '',\n",
       " 'Precio Bioetanol': '',\n",
       " 'Precio Gas Natural Comprimido': '',\n",
       " 'Precio Gas Natural Licuado': '',\n",
       " 'Precio Gases licuados del petróleo': '',\n",
       " 'Precio Gasoleo A': '1,530',\n",
       " 'Precio Gasoleo B': '',\n",
       " 'Precio Gasoleo Premium': '2,300',\n",
       " 'Precio Gasolina 95 E10': '',\n",
       " 'Precio Gasolina 95 E5': '1,679',\n",
       " 'Precio Gasolina 95 E5 Premium': '',\n",
       " 'Precio Gasolina 98 E10': '',\n",
       " 'Precio Gasolina 98 E5': '2,200',\n",
       " 'Precio Hidrogeno': '',\n",
       " 'Provincia': 'ALBACETE',\n",
       " 'Remisión': 'dm',\n",
       " 'Rótulo': 'REPSOL',\n",
       " 'Tipo Venta': 'P',\n",
       " '% BioEtanol': '0,0',\n",
       " '% Éster metílico': '0,0',\n",
       " 'IDEESS': '5122',\n",
       " 'IDMunicipio': '53',\n",
       " 'IDProvincia': '02',\n",
       " 'IDCCAA': '07'}"
      ]
     },
     "execution_count": 7,
     "metadata": {},
     "output_type": "execute_result"
    }
   ],
   "source": [
    "diccionario"
   ]
  },
  {
   "cell_type": "code",
   "execution_count": 8,
   "id": "b1c814d5",
   "metadata": {
    "scrolled": true
   },
   "outputs": [
    {
     "data": {
      "text/html": [
       "<div>\n",
       "<style scoped>\n",
       "    .dataframe tbody tr th:only-of-type {\n",
       "        vertical-align: middle;\n",
       "    }\n",
       "\n",
       "    .dataframe tbody tr th {\n",
       "        vertical-align: top;\n",
       "    }\n",
       "\n",
       "    .dataframe thead th {\n",
       "        text-align: right;\n",
       "    }\n",
       "</style>\n",
       "<table border=\"1\" class=\"dataframe\">\n",
       "  <thead>\n",
       "    <tr style=\"text-align: right;\">\n",
       "      <th></th>\n",
       "      <th>Fecha</th>\n",
       "      <th>C.P.</th>\n",
       "      <th>Dirección</th>\n",
       "      <th>Horario</th>\n",
       "      <th>Latitud</th>\n",
       "      <th>Localidad</th>\n",
       "      <th>Longitud (WGS84)</th>\n",
       "      <th>Margen</th>\n",
       "      <th>Municipio</th>\n",
       "      <th>Precio Biodiesel</th>\n",
       "      <th>...</th>\n",
       "      <th>Provincia</th>\n",
       "      <th>Remisión</th>\n",
       "      <th>Rótulo</th>\n",
       "      <th>Tipo Venta</th>\n",
       "      <th>% BioEtanol</th>\n",
       "      <th>% Éster metílico</th>\n",
       "      <th>IDEESS</th>\n",
       "      <th>IDMunicipio</th>\n",
       "      <th>IDProvincia</th>\n",
       "      <th>IDCCAA</th>\n",
       "    </tr>\n",
       "  </thead>\n",
       "  <tbody>\n",
       "    <tr>\n",
       "      <th>0</th>\n",
       "      <td>04/07/2023 11:47:58</td>\n",
       "      <td>02250</td>\n",
       "      <td>AVENIDA CASTILLA LA MANCHA, 26</td>\n",
       "      <td>L-D: 07:00-22:00</td>\n",
       "      <td>39,211417</td>\n",
       "      <td>ABENGIBRE</td>\n",
       "      <td>-1,539167</td>\n",
       "      <td>D</td>\n",
       "      <td>Abengibre</td>\n",
       "      <td></td>\n",
       "      <td>...</td>\n",
       "      <td>ALBACETE</td>\n",
       "      <td>dm</td>\n",
       "      <td>Nº 10.935</td>\n",
       "      <td>P</td>\n",
       "      <td>0,0</td>\n",
       "      <td>0,0</td>\n",
       "      <td>4375</td>\n",
       "      <td>52</td>\n",
       "      <td>02</td>\n",
       "      <td>07</td>\n",
       "    </tr>\n",
       "    <tr>\n",
       "      <th>1</th>\n",
       "      <td>04/07/2023 11:47:58</td>\n",
       "      <td>02152</td>\n",
       "      <td>CR CM-332, 46,4</td>\n",
       "      <td>L-D: 7:00-23:00</td>\n",
       "      <td>39,100389</td>\n",
       "      <td>ALATOZ</td>\n",
       "      <td>-1,346083</td>\n",
       "      <td>I</td>\n",
       "      <td>Alatoz</td>\n",
       "      <td></td>\n",
       "      <td>...</td>\n",
       "      <td>ALBACETE</td>\n",
       "      <td>dm</td>\n",
       "      <td>REPSOL</td>\n",
       "      <td>P</td>\n",
       "      <td>0,0</td>\n",
       "      <td>0,0</td>\n",
       "      <td>5122</td>\n",
       "      <td>53</td>\n",
       "      <td>02</td>\n",
       "      <td>07</td>\n",
       "    </tr>\n",
       "    <tr>\n",
       "      <th>2</th>\n",
       "      <td>04/07/2023 11:47:58</td>\n",
       "      <td>02001</td>\n",
       "      <td>CALLE FEDERICO GARCIA LORCA, 1</td>\n",
       "      <td>L-D: 24H</td>\n",
       "      <td>39,000861</td>\n",
       "      <td>ALBACETE</td>\n",
       "      <td>-1,849833</td>\n",
       "      <td>D</td>\n",
       "      <td>Albacete</td>\n",
       "      <td></td>\n",
       "      <td>...</td>\n",
       "      <td>ALBACETE</td>\n",
       "      <td>dm</td>\n",
       "      <td>PLENOIL</td>\n",
       "      <td>P</td>\n",
       "      <td>0,0</td>\n",
       "      <td>0,0</td>\n",
       "      <td>13933</td>\n",
       "      <td>54</td>\n",
       "      <td>02</td>\n",
       "      <td>07</td>\n",
       "    </tr>\n",
       "    <tr>\n",
       "      <th>3</th>\n",
       "      <td>04/07/2023 11:47:58</td>\n",
       "      <td>02001</td>\n",
       "      <td>AVENIDA 1º DE MAYO, S/N</td>\n",
       "      <td>L-S: 08:00-22:00; D: 09:00-21:00</td>\n",
       "      <td>38,985667</td>\n",
       "      <td>ALBACETE</td>\n",
       "      <td>-1,868500</td>\n",
       "      <td>N</td>\n",
       "      <td>Albacete</td>\n",
       "      <td></td>\n",
       "      <td>...</td>\n",
       "      <td>ALBACETE</td>\n",
       "      <td>dm</td>\n",
       "      <td>CARREFOUR</td>\n",
       "      <td>P</td>\n",
       "      <td>0,0</td>\n",
       "      <td>0,0</td>\n",
       "      <td>10765</td>\n",
       "      <td>54</td>\n",
       "      <td>02</td>\n",
       "      <td>07</td>\n",
       "    </tr>\n",
       "    <tr>\n",
       "      <th>4</th>\n",
       "      <td>04/07/2023 11:47:58</td>\n",
       "      <td>02001</td>\n",
       "      <td>CALLE PRINCIPE DE ASTURIAS (POLÍGONO DE ROMICA...</td>\n",
       "      <td>L-D: 06:00-21:30</td>\n",
       "      <td>39,054694</td>\n",
       "      <td>ALBACETE</td>\n",
       "      <td>-1,832000</td>\n",
       "      <td>I</td>\n",
       "      <td>Albacete</td>\n",
       "      <td></td>\n",
       "      <td>...</td>\n",
       "      <td>ALBACETE</td>\n",
       "      <td>OM</td>\n",
       "      <td>BP ROMICA</td>\n",
       "      <td>P</td>\n",
       "      <td>0,0</td>\n",
       "      <td>0,0</td>\n",
       "      <td>12054</td>\n",
       "      <td>54</td>\n",
       "      <td>02</td>\n",
       "      <td>07</td>\n",
       "    </tr>\n",
       "    <tr>\n",
       "      <th>...</th>\n",
       "      <td>...</td>\n",
       "      <td>...</td>\n",
       "      <td>...</td>\n",
       "      <td>...</td>\n",
       "      <td>...</td>\n",
       "      <td>...</td>\n",
       "      <td>...</td>\n",
       "      <td>...</td>\n",
       "      <td>...</td>\n",
       "      <td>...</td>\n",
       "      <td>...</td>\n",
       "      <td>...</td>\n",
       "      <td>...</td>\n",
       "      <td>...</td>\n",
       "      <td>...</td>\n",
       "      <td>...</td>\n",
       "      <td>...</td>\n",
       "      <td>...</td>\n",
       "      <td>...</td>\n",
       "      <td>...</td>\n",
       "      <td>...</td>\n",
       "    </tr>\n",
       "    <tr>\n",
       "      <th>11844</th>\n",
       "      <td>04/07/2023 11:47:58</td>\n",
       "      <td>50197</td>\n",
       "      <td>RONDA RONDA DE LA FERIA DE MUESTRAS, 10</td>\n",
       "      <td>L-D: 24H</td>\n",
       "      <td>41,638361</td>\n",
       "      <td>ZARAGOZA</td>\n",
       "      <td>-0,987833</td>\n",
       "      <td>D</td>\n",
       "      <td>Zaragoza</td>\n",
       "      <td></td>\n",
       "      <td>...</td>\n",
       "      <td>ZARAGOZA</td>\n",
       "      <td>dm</td>\n",
       "      <td>MOLGAS</td>\n",
       "      <td>P</td>\n",
       "      <td>0,0</td>\n",
       "      <td>0,0</td>\n",
       "      <td>15747</td>\n",
       "      <td>8108</td>\n",
       "      <td>50</td>\n",
       "      <td>02</td>\n",
       "    </tr>\n",
       "    <tr>\n",
       "      <th>11845</th>\n",
       "      <td>04/07/2023 11:47:58</td>\n",
       "      <td>50197</td>\n",
       "      <td>RONDA FERIA DE MUESTRAS, DE LA, 20</td>\n",
       "      <td>L-D: 24H</td>\n",
       "      <td>41,637944</td>\n",
       "      <td>ZARAGOZA</td>\n",
       "      <td>-0,986389</td>\n",
       "      <td>D</td>\n",
       "      <td>Zaragoza</td>\n",
       "      <td></td>\n",
       "      <td>...</td>\n",
       "      <td>ZARAGOZA</td>\n",
       "      <td>OM</td>\n",
       "      <td>IDS</td>\n",
       "      <td>P</td>\n",
       "      <td>0,0</td>\n",
       "      <td>0,0</td>\n",
       "      <td>12472</td>\n",
       "      <td>8108</td>\n",
       "      <td>50</td>\n",
       "      <td>02</td>\n",
       "    </tr>\n",
       "    <tr>\n",
       "      <th>11846</th>\n",
       "      <td>04/07/2023 11:47:58</td>\n",
       "      <td>50800</td>\n",
       "      <td>CARRETERA N-330A KM. 24,000</td>\n",
       "      <td>L-D: 06:00-22:00</td>\n",
       "      <td>41,857000</td>\n",
       "      <td>ZUERA</td>\n",
       "      <td>-0,794000</td>\n",
       "      <td>D</td>\n",
       "      <td>Zuera</td>\n",
       "      <td></td>\n",
       "      <td>...</td>\n",
       "      <td>ZARAGOZA</td>\n",
       "      <td>OM</td>\n",
       "      <td>REPSOL</td>\n",
       "      <td>P</td>\n",
       "      <td>0,0</td>\n",
       "      <td>0,0</td>\n",
       "      <td>1452</td>\n",
       "      <td>8109</td>\n",
       "      <td>50</td>\n",
       "      <td>02</td>\n",
       "    </tr>\n",
       "    <tr>\n",
       "      <th>11847</th>\n",
       "      <td>04/07/2023 11:47:58</td>\n",
       "      <td>50800</td>\n",
       "      <td>CALLE AUSTRIA, 11,17</td>\n",
       "      <td>L-D: 24H</td>\n",
       "      <td>41,883583</td>\n",
       "      <td>ZUERA</td>\n",
       "      <td>-0,782833</td>\n",
       "      <td>D</td>\n",
       "      <td>Zuera</td>\n",
       "      <td></td>\n",
       "      <td>...</td>\n",
       "      <td>ZARAGOZA</td>\n",
       "      <td>dm</td>\n",
       "      <td>AN ENERGETICOS ZUERA</td>\n",
       "      <td>P</td>\n",
       "      <td>0,0</td>\n",
       "      <td>0,0</td>\n",
       "      <td>9085</td>\n",
       "      <td>8109</td>\n",
       "      <td>50</td>\n",
       "      <td>02</td>\n",
       "    </tr>\n",
       "    <tr>\n",
       "      <th>11848</th>\n",
       "      <td>04/07/2023 11:47:58</td>\n",
       "      <td>50810</td>\n",
       "      <td>CALLE COOPERATIVA, 2</td>\n",
       "      <td>L-D: 24H</td>\n",
       "      <td>41,938750</td>\n",
       "      <td>ONTINAR DE SALZ</td>\n",
       "      <td>-0,757611</td>\n",
       "      <td>D</td>\n",
       "      <td>Zuera</td>\n",
       "      <td></td>\n",
       "      <td>...</td>\n",
       "      <td>ZARAGOZA</td>\n",
       "      <td>dm</td>\n",
       "      <td>COOPERATIVA SAN ISIDRO</td>\n",
       "      <td>P</td>\n",
       "      <td>0,0</td>\n",
       "      <td>0,0</td>\n",
       "      <td>9068</td>\n",
       "      <td>8109</td>\n",
       "      <td>50</td>\n",
       "      <td>02</td>\n",
       "    </tr>\n",
       "  </tbody>\n",
       "</table>\n",
       "<p>11849 rows × 33 columns</p>\n",
       "</div>"
      ],
      "text/plain": [
       "                     Fecha   C.P.  \\\n",
       "0      04/07/2023 11:47:58  02250   \n",
       "1      04/07/2023 11:47:58  02152   \n",
       "2      04/07/2023 11:47:58  02001   \n",
       "3      04/07/2023 11:47:58  02001   \n",
       "4      04/07/2023 11:47:58  02001   \n",
       "...                    ...    ...   \n",
       "11844  04/07/2023 11:47:58  50197   \n",
       "11845  04/07/2023 11:47:58  50197   \n",
       "11846  04/07/2023 11:47:58  50800   \n",
       "11847  04/07/2023 11:47:58  50800   \n",
       "11848  04/07/2023 11:47:58  50810   \n",
       "\n",
       "                                               Dirección  \\\n",
       "0                         AVENIDA CASTILLA LA MANCHA, 26   \n",
       "1                                        CR CM-332, 46,4   \n",
       "2                         CALLE FEDERICO GARCIA LORCA, 1   \n",
       "3                                AVENIDA 1º DE MAYO, S/N   \n",
       "4      CALLE PRINCIPE DE ASTURIAS (POLÍGONO DE ROMICA...   \n",
       "...                                                  ...   \n",
       "11844            RONDA RONDA DE LA FERIA DE MUESTRAS, 10   \n",
       "11845                 RONDA FERIA DE MUESTRAS, DE LA, 20   \n",
       "11846                        CARRETERA N-330A KM. 24,000   \n",
       "11847                               CALLE AUSTRIA, 11,17   \n",
       "11848                               CALLE COOPERATIVA, 2   \n",
       "\n",
       "                                Horario    Latitud        Localidad  \\\n",
       "0                      L-D: 07:00-22:00  39,211417        ABENGIBRE   \n",
       "1                       L-D: 7:00-23:00  39,100389           ALATOZ   \n",
       "2                              L-D: 24H  39,000861         ALBACETE   \n",
       "3      L-S: 08:00-22:00; D: 09:00-21:00  38,985667         ALBACETE   \n",
       "4                      L-D: 06:00-21:30  39,054694         ALBACETE   \n",
       "...                                 ...        ...              ...   \n",
       "11844                          L-D: 24H  41,638361         ZARAGOZA   \n",
       "11845                          L-D: 24H  41,637944         ZARAGOZA   \n",
       "11846                  L-D: 06:00-22:00  41,857000            ZUERA   \n",
       "11847                          L-D: 24H  41,883583            ZUERA   \n",
       "11848                          L-D: 24H  41,938750  ONTINAR DE SALZ   \n",
       "\n",
       "      Longitud (WGS84) Margen  Municipio Precio Biodiesel  ... Provincia  \\\n",
       "0            -1,539167      D  Abengibre                   ...  ALBACETE   \n",
       "1            -1,346083      I     Alatoz                   ...  ALBACETE   \n",
       "2            -1,849833      D   Albacete                   ...  ALBACETE   \n",
       "3            -1,868500      N   Albacete                   ...  ALBACETE   \n",
       "4            -1,832000      I   Albacete                   ...  ALBACETE   \n",
       "...                ...    ...        ...              ...  ...       ...   \n",
       "11844        -0,987833      D   Zaragoza                   ...  ZARAGOZA   \n",
       "11845        -0,986389      D   Zaragoza                   ...  ZARAGOZA   \n",
       "11846        -0,794000      D      Zuera                   ...  ZARAGOZA   \n",
       "11847        -0,782833      D      Zuera                   ...  ZARAGOZA   \n",
       "11848        -0,757611      D      Zuera                   ...  ZARAGOZA   \n",
       "\n",
       "      Remisión                  Rótulo Tipo Venta % BioEtanol  \\\n",
       "0           dm               Nº 10.935          P         0,0   \n",
       "1           dm                  REPSOL          P         0,0   \n",
       "2           dm                 PLENOIL          P         0,0   \n",
       "3           dm               CARREFOUR          P         0,0   \n",
       "4           OM               BP ROMICA          P         0,0   \n",
       "...        ...                     ...        ...         ...   \n",
       "11844       dm                  MOLGAS          P         0,0   \n",
       "11845       OM                     IDS          P         0,0   \n",
       "11846       OM                  REPSOL          P         0,0   \n",
       "11847       dm    AN ENERGETICOS ZUERA          P         0,0   \n",
       "11848       dm  COOPERATIVA SAN ISIDRO          P         0,0   \n",
       "\n",
       "      % Éster metílico IDEESS IDMunicipio IDProvincia IDCCAA  \n",
       "0                  0,0   4375          52          02     07  \n",
       "1                  0,0   5122          53          02     07  \n",
       "2                  0,0  13933          54          02     07  \n",
       "3                  0,0  10765          54          02     07  \n",
       "4                  0,0  12054          54          02     07  \n",
       "...                ...    ...         ...         ...    ...  \n",
       "11844              0,0  15747        8108          50     02  \n",
       "11845              0,0  12472        8108          50     02  \n",
       "11846              0,0   1452        8109          50     02  \n",
       "11847              0,0   9085        8109          50     02  \n",
       "11848              0,0   9068        8109          50     02  \n",
       "\n",
       "[11849 rows x 33 columns]"
      ]
     },
     "execution_count": 8,
     "metadata": {},
     "output_type": "execute_result"
    }
   ],
   "source": [
    "# Extraigo informacion de columna EESS Precio, utilizando json normalize\n",
    "\n",
    "df_n = pd.concat([df[['Fecha']],pd.json_normalize(df['ListaEESSPrecio'])], axis=1)\n",
    "df_n\n"
   ]
  },
  {
   "cell_type": "code",
   "execution_count": 9,
   "id": "90463003",
   "metadata": {},
   "outputs": [],
   "source": [
    "# Guardamos df original para sucesion de tiempo\n",
    "#df_n.to_csv('2022-11-05x.csv', index=False)"
   ]
  },
  {
   "cell_type": "code",
   "execution_count": 10,
   "id": "2d75fcc5",
   "metadata": {
    "scrolled": true
   },
   "outputs": [
    {
     "name": "stdout",
     "output_type": "stream",
     "text": [
      "<class 'pandas.core.frame.DataFrame'>\n",
      "RangeIndex: 11849 entries, 0 to 11848\n",
      "Data columns (total 33 columns):\n",
      " #   Column                              Non-Null Count  Dtype \n",
      "---  ------                              --------------  ----- \n",
      " 0   Fecha                               11849 non-null  object\n",
      " 1   C.P.                                11849 non-null  object\n",
      " 2   Dirección                           11849 non-null  object\n",
      " 3   Horario                             11849 non-null  object\n",
      " 4   Latitud                             11849 non-null  object\n",
      " 5   Localidad                           11849 non-null  object\n",
      " 6   Longitud (WGS84)                    11849 non-null  object\n",
      " 7   Margen                              11849 non-null  object\n",
      " 8   Municipio                           11849 non-null  object\n",
      " 9   Precio Biodiesel                    11849 non-null  object\n",
      " 10  Precio Bioetanol                    11849 non-null  object\n",
      " 11  Precio Gas Natural Comprimido       11849 non-null  object\n",
      " 12  Precio Gas Natural Licuado          11849 non-null  object\n",
      " 13  Precio Gases licuados del petróleo  11849 non-null  object\n",
      " 14  Precio Gasoleo A                    11849 non-null  object\n",
      " 15  Precio Gasoleo B                    11849 non-null  object\n",
      " 16  Precio Gasoleo Premium              11849 non-null  object\n",
      " 17  Precio Gasolina 95 E10              11849 non-null  object\n",
      " 18  Precio Gasolina 95 E5               11849 non-null  object\n",
      " 19  Precio Gasolina 95 E5 Premium       11849 non-null  object\n",
      " 20  Precio Gasolina 98 E10              11849 non-null  object\n",
      " 21  Precio Gasolina 98 E5               11849 non-null  object\n",
      " 22  Precio Hidrogeno                    11849 non-null  object\n",
      " 23  Provincia                           11849 non-null  object\n",
      " 24  Remisión                            11849 non-null  object\n",
      " 25  Rótulo                              11849 non-null  object\n",
      " 26  Tipo Venta                          11849 non-null  object\n",
      " 27  % BioEtanol                         11849 non-null  object\n",
      " 28  % Éster metílico                    11849 non-null  object\n",
      " 29  IDEESS                              11849 non-null  object\n",
      " 30  IDMunicipio                         11849 non-null  object\n",
      " 31  IDProvincia                         11849 non-null  object\n",
      " 32  IDCCAA                              11849 non-null  object\n",
      "dtypes: object(33)\n",
      "memory usage: 3.0+ MB\n"
     ]
    }
   ],
   "source": [
    "df_n.info()"
   ]
  },
  {
   "cell_type": "markdown",
   "id": "ee524e6e",
   "metadata": {},
   "source": [
    "---\n",
    "Step (3): EDA"
   ]
  },
  {
   "cell_type": "markdown",
   "id": "7027ceb6",
   "metadata": {},
   "source": [
    "                                                    Análisis de Columnas"
   ]
  },
  {
   "cell_type": "markdown",
   "id": "4deaad69",
   "metadata": {},
   "source": [
    "# Fecha"
   ]
  },
  {
   "cell_type": "code",
   "execution_count": 11,
   "id": "dd7735c8",
   "metadata": {},
   "outputs": [
    {
     "name": "stdout",
     "output_type": "stream",
     "text": [
      "<class 'numpy.ndarray'>\n",
      "1\n"
     ]
    },
    {
     "data": {
      "text/plain": [
       "array(['04/07/2023 11:47:58'], dtype=object)"
      ]
     },
     "execution_count": 11,
     "metadata": {},
     "output_type": "execute_result"
    }
   ],
   "source": [
    "# Fecha (solo hay una fecha)\n",
    "Fecha = df_n['Fecha'].unique()\n",
    "print(type(Fecha))\n",
    "print(len(Fecha))\n",
    "Fecha"
   ]
  },
  {
   "cell_type": "code",
   "execution_count": 12,
   "id": "5d054a1e",
   "metadata": {},
   "outputs": [
    {
     "data": {
      "text/plain": [
       "0"
      ]
     },
     "execution_count": 12,
     "metadata": {},
     "output_type": "execute_result"
    }
   ],
   "source": [
    "# Nulos \n",
    "nulos_f = df_n['Fecha'].isnull().sum()\n",
    "nulos_f"
   ]
  },
  {
   "cell_type": "markdown",
   "id": "addc43ab",
   "metadata": {},
   "source": [
    "# Código Postal"
   ]
  },
  {
   "cell_type": "code",
   "execution_count": 13,
   "id": "603eca2d",
   "metadata": {},
   "outputs": [
    {
     "name": "stdout",
     "output_type": "stream",
     "text": [
      "<class 'numpy.ndarray'>\n",
      "4539\n"
     ]
    },
    {
     "data": {
      "text/plain": [
       "array(['02250', '02152', '02001', ..., '50197', '50800', '50810'],\n",
       "      dtype=object)"
      ]
     },
     "execution_count": 13,
     "metadata": {},
     "output_type": "execute_result"
    }
   ],
   "source": [
    "# Columna C.P.\n",
    "cp = df_n['C.P.'].unique()\n",
    "print(type(cp))\n",
    "print(len(cp))\n",
    "cp\n",
    "# En Esaña hay 11752 codigos postales en total"
   ]
  },
  {
   "cell_type": "code",
   "execution_count": 14,
   "id": "de4b57fa",
   "metadata": {},
   "outputs": [
    {
     "data": {
      "text/plain": [
       "0"
      ]
     },
     "execution_count": 14,
     "metadata": {},
     "output_type": "execute_result"
    }
   ],
   "source": [
    "# Nulos \n",
    "nulos_cp = df_n['C.P.'].isnull().sum()\n",
    "nulos_cp"
   ]
  },
  {
   "cell_type": "markdown",
   "id": "cd713bcb",
   "metadata": {},
   "source": [
    "# Dirección"
   ]
  },
  {
   "cell_type": "code",
   "execution_count": 15,
   "id": "3ce78674",
   "metadata": {},
   "outputs": [
    {
     "name": "stdout",
     "output_type": "stream",
     "text": [
      "<class 'numpy.ndarray'>\n",
      "11529\n"
     ]
    },
    {
     "data": {
      "text/plain": [
       "array(['AVENIDA CASTILLA LA MANCHA, 26', 'CR CM-332, 46,4',\n",
       "       'CALLE FEDERICO GARCIA LORCA, 1', ...,\n",
       "       'RONDA FERIA DE MUESTRAS, DE LA, 20',\n",
       "       'CARRETERA N-330A KM. 24,000', 'CALLE AUSTRIA, 11,17'],\n",
       "      dtype=object)"
      ]
     },
     "execution_count": 15,
     "metadata": {},
     "output_type": "execute_result"
    }
   ],
   "source": [
    "# Columna  Dirección\n",
    "direccion = df_n['Dirección'].unique()\n",
    "print(type(direccion))\n",
    "print(len(direccion))\n",
    "direccion\n"
   ]
  },
  {
   "cell_type": "code",
   "execution_count": 16,
   "id": "e1030055",
   "metadata": {},
   "outputs": [
    {
     "data": {
      "text/plain": [
       "0"
      ]
     },
     "execution_count": 16,
     "metadata": {},
     "output_type": "execute_result"
    }
   ],
   "source": [
    "# Nulos dirección\n",
    "nulos_cp = df_n['Dirección'].isnull().sum()\n",
    "nulos_cp"
   ]
  },
  {
   "cell_type": "markdown",
   "id": "b540d156",
   "metadata": {},
   "source": [
    "# Horario"
   ]
  },
  {
   "cell_type": "code",
   "execution_count": 17,
   "id": "d951b048",
   "metadata": {},
   "outputs": [
    {
     "data": {
      "text/plain": [
       "array(['L-D: 07:00-22:00', 'L-D: 7:00-23:00', 'L-D: 24H', ...,\n",
       "       'L-V: 06:00-21:00; S-D: 08:00-15:00',\n",
       "       'L-V: 08:00-22:30; S: 10:00-22:30',\n",
       "       'L-V: 05:00-22:00; S-D: 08:00-22:00'], dtype=object)"
      ]
     },
     "execution_count": 17,
     "metadata": {},
     "output_type": "execute_result"
    }
   ],
   "source": [
    "# Horario\n",
    "horario = df_n['Horario'].unique()\n",
    "horario"
   ]
  },
  {
   "cell_type": "code",
   "execution_count": 18,
   "id": "6cb34506",
   "metadata": {},
   "outputs": [
    {
     "data": {
      "text/plain": [
       "0"
      ]
     },
     "execution_count": 18,
     "metadata": {},
     "output_type": "execute_result"
    }
   ],
   "source": [
    "# Nulos horario\n",
    "nulos_h = df_n['Horario'].isnull().sum()\n",
    "nulos_h"
   ]
  },
  {
   "cell_type": "markdown",
   "id": "129d07e9",
   "metadata": {},
   "source": [
    "# Latitud"
   ]
  },
  {
   "cell_type": "code",
   "execution_count": 19,
   "id": "aa9399ed",
   "metadata": {},
   "outputs": [
    {
     "name": "stdout",
     "output_type": "stream",
     "text": [
      "11484\n"
     ]
    },
    {
     "data": {
      "text/plain": [
       "array(['39,211417', '39,100389', '39,000861', ..., '41,857000',\n",
       "       '41,883583', '41,938750'], dtype=object)"
      ]
     },
     "execution_count": 19,
     "metadata": {},
     "output_type": "execute_result"
    }
   ],
   "source": [
    "#Latitud (Coincide Latitud y Longitud con las coordenadas en las gasolineras de Google Maps)\n",
    "latitud = df_n['Latitud'].unique()\n",
    "print(len(latitud ))\n",
    "latitud\n"
   ]
  },
  {
   "cell_type": "code",
   "execution_count": 20,
   "id": "b12f974a",
   "metadata": {},
   "outputs": [
    {
     "data": {
      "text/plain": [
       "0"
      ]
     },
     "execution_count": 20,
     "metadata": {},
     "output_type": "execute_result"
    }
   ],
   "source": [
    "# Nulos Latitud\n",
    "nulos_l = df_n['Latitud'].isnull().sum()\n",
    "nulos_l"
   ]
  },
  {
   "cell_type": "markdown",
   "id": "14f71694",
   "metadata": {},
   "source": [
    "# Longitud"
   ]
  },
  {
   "cell_type": "code",
   "execution_count": 21,
   "id": "26f3092e",
   "metadata": {
    "scrolled": true
   },
   "outputs": [
    {
     "name": "stdout",
     "output_type": "stream",
     "text": [
      "11600\n"
     ]
    },
    {
     "data": {
      "text/plain": [
       "array(['-1,539167', '-1,346083', '-1,849833', ..., '-0,794000',\n",
       "       '-0,782833', '-0,757611'], dtype=object)"
      ]
     },
     "execution_count": 21,
     "metadata": {},
     "output_type": "execute_result"
    }
   ],
   "source": [
    "# Longitud (Coincide Latitud y Longitud con las coordenadas en las gasolineras de Google Maps)\n",
    "Longitud = df_n['Longitud (WGS84)'].unique()\n",
    "print(len(Longitud))\n",
    "Longitud\n"
   ]
  },
  {
   "cell_type": "code",
   "execution_count": 22,
   "id": "e018ad91",
   "metadata": {},
   "outputs": [
    {
     "data": {
      "text/plain": [
       "0"
      ]
     },
     "execution_count": 22,
     "metadata": {},
     "output_type": "execute_result"
    }
   ],
   "source": [
    "# Nulos Longitud\n",
    "nulos_long = df_n['Longitud (WGS84)'].isnull().sum()\n",
    "nulos_long"
   ]
  },
  {
   "cell_type": "markdown",
   "id": "baaa7f76",
   "metadata": {},
   "source": [
    "# Localidad"
   ]
  },
  {
   "cell_type": "code",
   "execution_count": 23,
   "id": "05337df3",
   "metadata": {},
   "outputs": [
    {
     "name": "stdout",
     "output_type": "stream",
     "text": [
      "4240\n"
     ]
    },
    {
     "data": {
      "text/plain": [
       "array(['ABENGIBRE', 'ALATOZ', 'ALBACETE', ..., 'VILLARRAPA', 'ZUERA',\n",
       "       'ONTINAR DE SALZ'], dtype=object)"
      ]
     },
     "execution_count": 23,
     "metadata": {},
     "output_type": "execute_result"
    }
   ],
   "source": [
    "#Localidad\n",
    "Localidad = df_n['Localidad'].unique()\n",
    "print(len(Localidad))\n",
    "Localidad"
   ]
  },
  {
   "cell_type": "code",
   "execution_count": 24,
   "id": "46fae344",
   "metadata": {},
   "outputs": [
    {
     "data": {
      "text/plain": [
       "0"
      ]
     },
     "execution_count": 24,
     "metadata": {},
     "output_type": "execute_result"
    }
   ],
   "source": [
    "# Nulos Localidad\n",
    "nulos_loc = df_n['Localidad'].isnull().sum()\n",
    "nulos_loc"
   ]
  },
  {
   "cell_type": "markdown",
   "id": "8fa3baee",
   "metadata": {},
   "source": [
    "# Municipio "
   ]
  },
  {
   "cell_type": "code",
   "execution_count": 25,
   "id": "0e69e607",
   "metadata": {},
   "outputs": [
    {
     "name": "stdout",
     "output_type": "stream",
     "text": [
      "3426\n"
     ]
    },
    {
     "data": {
      "text/plain": [
       "array(['Abengibre', 'Alatoz', 'Albacete', ..., 'Villarroya de la Sierra',\n",
       "       'Zaragoza', 'Zuera'], dtype=object)"
      ]
     },
     "execution_count": 25,
     "metadata": {},
     "output_type": "execute_result"
    }
   ],
   "source": [
    "# Municipio (En España hay 8131 Municipios)\n",
    "Municipio = df_n['Municipio'].unique() \n",
    "print(len(Municipio))\n",
    "Municipio\n",
    "\n"
   ]
  },
  {
   "cell_type": "code",
   "execution_count": 26,
   "id": "223081b3",
   "metadata": {},
   "outputs": [
    {
     "data": {
      "text/plain": [
       "0"
      ]
     },
     "execution_count": 26,
     "metadata": {},
     "output_type": "execute_result"
    }
   ],
   "source": [
    "# Nulos Municipio\n",
    "nulos_loc = df_n['Municipio'].isnull().sum()\n",
    "nulos_loc"
   ]
  },
  {
   "cell_type": "markdown",
   "id": "cc6b303b",
   "metadata": {},
   "source": [
    "# Margen"
   ]
  },
  {
   "cell_type": "code",
   "execution_count": 27,
   "id": "cf022a39",
   "metadata": {},
   "outputs": [
    {
     "name": "stdout",
     "output_type": "stream",
     "text": [
      "3\n"
     ]
    },
    {
     "data": {
      "text/plain": [
       "array(['D', 'I', 'N'], dtype=object)"
      ]
     },
     "execution_count": 27,
     "metadata": {},
     "output_type": "execute_result"
    }
   ],
   "source": [
    "# Margen\n",
    "Margen = df_n['Margen'].unique()\n",
    "print(len(Margen))\n",
    "Margen"
   ]
  },
  {
   "cell_type": "markdown",
   "id": "2d2ea3bb",
   "metadata": {},
   "source": [
    "# Provincia "
   ]
  },
  {
   "cell_type": "code",
   "execution_count": 28,
   "id": "e1fa2d5f",
   "metadata": {},
   "outputs": [
    {
     "name": "stdout",
     "output_type": "stream",
     "text": [
      "52\n"
     ]
    },
    {
     "data": {
      "text/plain": [
       "array(['ALBACETE', 'ALICANTE', 'ALMERÍA', 'ARABA/ÁLAVA', 'ASTURIAS',\n",
       "       'ÁVILA', 'BADAJOZ', 'BALEARS (ILLES)', 'BARCELONA', 'BIZKAIA',\n",
       "       'BURGOS', 'CÁCERES', 'CÁDIZ', 'CANTABRIA', 'CASTELLÓN / CASTELLÓ',\n",
       "       'CEUTA', 'CIUDAD REAL', 'CÓRDOBA', 'CORUÑA (A)', 'CUENCA',\n",
       "       'GIPUZKOA', 'GIRONA', 'GRANADA', 'GUADALAJARA', 'HUELVA', 'HUESCA',\n",
       "       'JAÉN', 'LEÓN', 'LLEIDA', 'LUGO', 'MADRID', 'MÁLAGA', 'MELILLA',\n",
       "       'MURCIA', 'NAVARRA', 'OURENSE', 'PALENCIA', 'PALMAS (LAS)',\n",
       "       'PONTEVEDRA', 'RIOJA (LA)', 'SALAMANCA', 'SANTA CRUZ DE TENERIFE',\n",
       "       'SEGOVIA', 'SEVILLA', 'SORIA', 'TARRAGONA', 'TERUEL', 'TOLEDO',\n",
       "       'VALENCIA / VALÈNCIA', 'VALLADOLID', 'ZAMORA', 'ZARAGOZA'],\n",
       "      dtype=object)"
      ]
     },
     "execution_count": 28,
     "metadata": {},
     "output_type": "execute_result"
    }
   ],
   "source": [
    "# Provincia (Están todas las Provinicas de España en nuestro df)\n",
    "Provincia = df_n['Provincia'].unique()\n",
    "print(len(Provincia))\n",
    "Provincia"
   ]
  },
  {
   "cell_type": "code",
   "execution_count": 29,
   "id": "b27108a2",
   "metadata": {},
   "outputs": [
    {
     "data": {
      "text/plain": [
       "0"
      ]
     },
     "execution_count": 29,
     "metadata": {},
     "output_type": "execute_result"
    }
   ],
   "source": [
    "# Nulos Provincia\n",
    "nulos_prov = df_n['Provincia'].isnull().sum()\n",
    "nulos_prov"
   ]
  },
  {
   "cell_type": "markdown",
   "id": "722a58a1",
   "metadata": {},
   "source": [
    "# Remision"
   ]
  },
  {
   "cell_type": "code",
   "execution_count": 30,
   "id": "78c3b1c9",
   "metadata": {},
   "outputs": [
    {
     "name": "stdout",
     "output_type": "stream",
     "text": [
      "2\n",
      "<class 'numpy.ndarray'>\n"
     ]
    },
    {
     "data": {
      "text/plain": [
       "array(['dm', 'OM'], dtype=object)"
      ]
     },
     "execution_count": 30,
     "metadata": {},
     "output_type": "execute_result"
    }
   ],
   "source": [
    "# Remisión (Sistema de envío de información de precios y de ventas a través de API)\n",
    "Remision = df_n['Remisión'].unique()\n",
    "print(len(Remision))\n",
    "print(type(Remision))\n",
    "Remision"
   ]
  },
  {
   "cell_type": "markdown",
   "id": "cc886f49",
   "metadata": {},
   "source": [
    "# Rótulo"
   ]
  },
  {
   "cell_type": "code",
   "execution_count": 31,
   "id": "8157f57d",
   "metadata": {},
   "outputs": [
    {
     "name": "stdout",
     "output_type": "stream",
     "text": [
      "4044\n",
      "<class 'numpy.ndarray'>\n"
     ]
    },
    {
     "data": {
      "text/plain": [
       "array(['Nº 10.935', 'REPSOL', 'PLENOIL', ..., 'DAGO',\n",
       "       'COOPERATIVA SAN LAMBERTO', 'AN ENERGETICOS ZUERA'], dtype=object)"
      ]
     },
     "execution_count": 31,
     "metadata": {},
     "output_type": "execute_result"
    }
   ],
   "source": [
    "# Rótulo (En España hay 3952 marcas de Gasolineras en España según datos de Google)\n",
    "Rotulo = df_n['Rótulo'].unique()\n",
    "print(len(Rotulo))\n",
    "print(type(Rotulo))\n",
    "Rotulo\n"
   ]
  },
  {
   "cell_type": "markdown",
   "id": "676ec408",
   "metadata": {},
   "source": [
    "# Tipo de Venta"
   ]
  },
  {
   "cell_type": "code",
   "execution_count": 32,
   "id": "7b2d09eb",
   "metadata": {},
   "outputs": [
    {
     "name": "stdout",
     "output_type": "stream",
     "text": [
      "2\n",
      "<class 'numpy.ndarray'>\n"
     ]
    },
    {
     "data": {
      "text/plain": [
       "array(['P', 'R'], dtype=object)"
      ]
     },
     "execution_count": 32,
     "metadata": {},
     "output_type": "execute_result"
    }
   ],
   "source": [
    "# Tipo Venta\n",
    "tv = df_n['Tipo Venta'].unique()\n",
    "print(len(tv))\n",
    "print(type(tv))\n",
    "tv"
   ]
  },
  {
   "cell_type": "markdown",
   "id": "7aad165f",
   "metadata": {},
   "source": [
    "# Porcentaje de Bioetanol"
   ]
  },
  {
   "cell_type": "code",
   "execution_count": 33,
   "id": "95e6e4b0",
   "metadata": {},
   "outputs": [
    {
     "name": "stdout",
     "output_type": "stream",
     "text": [
      "3\n",
      "<class 'numpy.ndarray'>\n"
     ]
    },
    {
     "data": {
      "text/plain": [
       "array(['0,0', '25,0', '85,0'], dtype=object)"
      ]
     },
     "execution_count": 33,
     "metadata": {},
     "output_type": "execute_result"
    }
   ],
   "source": [
    "# % BioEtanol (La diferencia entre gasolinas E5 o E10 significan el porcentaje de Etanol (5 o 10%))\n",
    "bioetanol = df_n['% BioEtanol'].unique()\n",
    "print(len(bioetanol))\n",
    "print(type(bioetanol))\n",
    "bioetanol"
   ]
  },
  {
   "cell_type": "markdown",
   "id": "54c7afc2",
   "metadata": {},
   "source": [
    "# Porcentaje de Éster Metílico"
   ]
  },
  {
   "cell_type": "code",
   "execution_count": 34,
   "id": "19aff9d9",
   "metadata": {},
   "outputs": [
    {
     "name": "stdout",
     "output_type": "stream",
     "text": [
      "6\n",
      "<class 'numpy.ndarray'>\n"
     ]
    },
    {
     "data": {
      "text/plain": [
       "array(['0,0', '7,0', '12,0', '20,0', '30,0', '10,0'], dtype=object)"
      ]
     },
     "execution_count": 34,
     "metadata": {},
     "output_type": "execute_result"
    }
   ],
   "source": [
    "# % Éster metílico (solo para Biodiesel)\n",
    "em = df_n['% Éster metílico'].unique()\n",
    "print(len(em))\n",
    "print(type(em))\n",
    "em"
   ]
  },
  {
   "cell_type": "markdown",
   "id": "e1bfb0ff",
   "metadata": {},
   "source": [
    "#  IDEESS"
   ]
  },
  {
   "cell_type": "code",
   "execution_count": 35,
   "id": "1bcc7c30",
   "metadata": {},
   "outputs": [
    {
     "name": "stdout",
     "output_type": "stream",
     "text": [
      "11849\n"
     ]
    },
    {
     "data": {
      "text/plain": [
       "array(['4375', '5122', '13933', ..., '1452', '9085', '9068'], dtype=object)"
      ]
     },
     "execution_count": 35,
     "metadata": {},
     "output_type": "execute_result"
    }
   ],
   "source": [
    "# IDEESS (ID Estación de Servicio, los mismos que estaciones (filas))\n",
    "IDEESS = df_n['IDEESS'].unique()\n",
    "print(len(IDEESS))\n",
    "type(IDEESS)\n",
    "IDEESS "
   ]
  },
  {
   "cell_type": "code",
   "execution_count": 36,
   "id": "89c026f2",
   "metadata": {},
   "outputs": [
    {
     "data": {
      "text/plain": [
       "0"
      ]
     },
     "execution_count": 36,
     "metadata": {},
     "output_type": "execute_result"
    }
   ],
   "source": [
    "# Nulos IDEESS\n",
    "nulos_IDEESS = df_n['IDEESS'].isnull().sum()\n",
    "nulos_IDEESS"
   ]
  },
  {
   "cell_type": "markdown",
   "id": "48e885d2",
   "metadata": {},
   "source": [
    "# ID Municipio"
   ]
  },
  {
   "cell_type": "code",
   "execution_count": 37,
   "id": "7dc3d12d",
   "metadata": {},
   "outputs": [
    {
     "name": "stdout",
     "output_type": "stream",
     "text": [
      "3427\n"
     ]
    },
    {
     "data": {
      "text/plain": [
       "array(['52', '53', '54', ..., '8103', '8108', '8109'], dtype=object)"
      ]
     },
     "execution_count": 37,
     "metadata": {},
     "output_type": "execute_result"
    }
   ],
   "source": [
    "# IDMunicipio (un ID más que municipios)\n",
    "idmun = df_n['IDMunicipio'].unique()\n",
    "print(len(idmun))\n",
    "type(idmun)\n",
    "idmun"
   ]
  },
  {
   "cell_type": "code",
   "execution_count": 38,
   "id": "c857c488",
   "metadata": {},
   "outputs": [
    {
     "data": {
      "text/plain": [
       "0"
      ]
     },
     "execution_count": 38,
     "metadata": {},
     "output_type": "execute_result"
    }
   ],
   "source": [
    "# Nulos ID Municipio\n",
    "nulos_IDMunicipio = df_n['IDMunicipio'].isnull().sum()\n",
    "nulos_IDMunicipio"
   ]
  },
  {
   "cell_type": "markdown",
   "id": "6568aaff",
   "metadata": {},
   "source": [
    "# ID Provincia"
   ]
  },
  {
   "cell_type": "code",
   "execution_count": 39,
   "id": "896e7bf1",
   "metadata": {},
   "outputs": [
    {
     "name": "stdout",
     "output_type": "stream",
     "text": [
      "52\n"
     ]
    },
    {
     "data": {
      "text/plain": [
       "array(['02', '03', '04', '01', '33', '05', '06', '07', '08', '48', '09',\n",
       "       '10', '11', '39', '12', '51', '13', '14', '15', '16', '20', '17',\n",
       "       '18', '19', '21', '22', '23', '24', '25', '27', '28', '29', '52',\n",
       "       '30', '31', '32', '34', '35', '36', '26', '37', '38', '40', '41',\n",
       "       '42', '43', '44', '45', '46', '47', '49', '50'], dtype=object)"
      ]
     },
     "execution_count": 39,
     "metadata": {},
     "output_type": "execute_result"
    }
   ],
   "source": [
    "# IDProvincia (Los mismos ID que Provincias)\n",
    "idprov = df_n['IDProvincia'].unique()\n",
    "print(len(idprov))\n",
    "type(idprov)\n",
    "idprov"
   ]
  },
  {
   "cell_type": "code",
   "execution_count": 40,
   "id": "0383161f",
   "metadata": {},
   "outputs": [
    {
     "data": {
      "text/plain": [
       "0"
      ]
     },
     "execution_count": 40,
     "metadata": {},
     "output_type": "execute_result"
    }
   ],
   "source": [
    "nulos_IDProvincia = df_n['IDProvincia'].isnull().sum()\n",
    "nulos_IDProvincia"
   ]
  },
  {
   "cell_type": "markdown",
   "id": "f0203c4c",
   "metadata": {},
   "source": [
    "# ID CCAA"
   ]
  },
  {
   "cell_type": "code",
   "execution_count": 41,
   "id": "cc731089",
   "metadata": {},
   "outputs": [
    {
     "name": "stdout",
     "output_type": "stream",
     "text": [
      "19\n"
     ]
    },
    {
     "data": {
      "text/plain": [
       "array(['07', '10', '01', '16', '03', '08', '11', '04', '09', '06', '18',\n",
       "       '12', '02', '13', '19', '14', '15', '05', '17'], dtype=object)"
      ]
     },
     "execution_count": 41,
     "metadata": {},
     "output_type": "execute_result"
    }
   ],
   "source": [
    "# IDCCAA (ID Comunidades Autónomas, 17 CCAA + Ceuta + Melilla)\n",
    "# IDProvincia (Los mismos ID que Provincias)\n",
    "idccaa = df_n['IDCCAA'].unique()\n",
    "print(len(idccaa))\n",
    "type(idccaa)\n",
    "idccaa"
   ]
  },
  {
   "cell_type": "markdown",
   "id": "4cf497b1",
   "metadata": {},
   "source": [
    "                                                Columnas Numéricas\n",
    "                                                "
   ]
  },
  {
   "cell_type": "markdown",
   "id": "cd72e5ad",
   "metadata": {},
   "source": [
    "# Biodiesel"
   ]
  },
  {
   "cell_type": "code",
   "execution_count": 42,
   "id": "01c87a0e",
   "metadata": {},
   "outputs": [
    {
     "name": "stdout",
     "output_type": "stream",
     "text": [
      "25\n",
      "<class 'numpy.ndarray'>\n"
     ]
    },
    {
     "data": {
      "text/plain": [
       "array(['', '1,359', '1,999', '1,639', '1,489', '1,319', '1,299', '1,389',\n",
       "       '1,419', '1,339', '1,449', '1,418', '1,504', '1,609', '1,509',\n",
       "       '1,869', '1,539', '1,349', '1,799', '1,689', '1,470', '1,379',\n",
       "       '1,399', '1,289', '1,433'], dtype=object)"
      ]
     },
     "execution_count": 42,
     "metadata": {},
     "output_type": "execute_result"
    }
   ],
   "source": [
    "Biodiesel = df_n['Precio Biodiesel'].unique()\n",
    "print(len(Biodiesel))\n",
    "print(type(Biodiesel))\n",
    "Biodiesel"
   ]
  },
  {
   "cell_type": "code",
   "execution_count": 43,
   "id": "c1172885",
   "metadata": {},
   "outputs": [],
   "source": [
    "# Convertimos columna categórica a numérica\n",
    "df_n['Precio Biodiesel']=df_n['Precio Biodiesel'].str.replace(',','.')\n",
    "df_n[['Precio Biodiesel']]=df_n[['Precio Biodiesel']].apply(pd.to_numeric)"
   ]
  },
  {
   "cell_type": "code",
   "execution_count": 44,
   "id": "3ba01c1b",
   "metadata": {},
   "outputs": [
    {
     "data": {
      "text/plain": [
       "count    36.000000\n",
       "mean      1.448972\n",
       "std       0.167228\n",
       "min       1.289000\n",
       "25%       1.334000\n",
       "50%       1.394000\n",
       "75%       1.492750\n",
       "max       1.999000\n",
       "Name: Precio Biodiesel, dtype: float64"
      ]
     },
     "execution_count": 44,
     "metadata": {},
     "output_type": "execute_result"
    }
   ],
   "source": [
    "df_n['Precio Biodiesel'].describe()\n"
   ]
  },
  {
   "cell_type": "code",
   "execution_count": 45,
   "id": "0b00d7af",
   "metadata": {},
   "outputs": [
    {
     "data": {
      "text/plain": [
       "11813"
      ]
     },
     "execution_count": 45,
     "metadata": {},
     "output_type": "execute_result"
    }
   ],
   "source": [
    "# Registros sin venta Biodiesel\n",
    "sin_suministro_b = df_n['Precio Biodiesel'].isnull().sum()\n",
    "sin_suministro_b"
   ]
  },
  {
   "cell_type": "markdown",
   "id": "fd2b4066",
   "metadata": {},
   "source": [
    "## Precio Bioetanol "
   ]
  },
  {
   "cell_type": "code",
   "execution_count": 46,
   "id": "edbcaac9",
   "metadata": {},
   "outputs": [
    {
     "name": "stdout",
     "output_type": "stream",
     "text": [
      "6\n",
      "<class 'numpy.ndarray'>\n"
     ]
    },
    {
     "data": {
      "text/plain": [
       "array(['', '1,979', '1,862', '1,487', '2,499', '1,689'], dtype=object)"
      ]
     },
     "execution_count": 46,
     "metadata": {},
     "output_type": "execute_result"
    }
   ],
   "source": [
    "Bioetanol = df_n['Precio Bioetanol'].unique()\n",
    "print(len(Bioetanol))\n",
    "print(type(Bioetanol))\n",
    "Bioetanol"
   ]
  },
  {
   "cell_type": "code",
   "execution_count": 47,
   "id": "3f6be22e",
   "metadata": {},
   "outputs": [],
   "source": [
    "# Convertimos columna categórica a numérica\n",
    "df_n['Precio Bioetanol']=df_n['Precio Bioetanol'].str.replace(',','.')\n",
    "df_n[['Precio Bioetanol']]=df_n[['Precio Bioetanol']].apply(pd.to_numeric)"
   ]
  },
  {
   "cell_type": "code",
   "execution_count": 48,
   "id": "336b94fa",
   "metadata": {},
   "outputs": [
    {
     "data": {
      "text/plain": [
       "count    5.000000\n",
       "mean     1.903200\n",
       "std      0.381289\n",
       "min      1.487000\n",
       "25%      1.689000\n",
       "50%      1.862000\n",
       "75%      1.979000\n",
       "max      2.499000\n",
       "Name: Precio Bioetanol, dtype: float64"
      ]
     },
     "execution_count": 48,
     "metadata": {},
     "output_type": "execute_result"
    }
   ],
   "source": [
    "df_n['Precio Bioetanol'].describe()"
   ]
  },
  {
   "cell_type": "code",
   "execution_count": 49,
   "id": "8614e236",
   "metadata": {},
   "outputs": [
    {
     "data": {
      "text/plain": [
       "11844"
      ]
     },
     "execution_count": 49,
     "metadata": {},
     "output_type": "execute_result"
    }
   ],
   "source": [
    "# Registros sin venta Biodiesel\n",
    "sin_suministro_be = df_n['Precio Bioetanol'].isnull().sum()\n",
    "sin_suministro_be"
   ]
  },
  {
   "cell_type": "markdown",
   "id": "de4c6c51",
   "metadata": {},
   "source": [
    "## Precio Gas Natural Comprimido"
   ]
  },
  {
   "cell_type": "code",
   "execution_count": 50,
   "id": "b2824198",
   "metadata": {},
   "outputs": [
    {
     "name": "stdout",
     "output_type": "stream",
     "text": [
      "32\n",
      "<class 'numpy.ndarray'>\n"
     ]
    },
    {
     "data": {
      "text/plain": [
       "array(['', '1,119', '0,989', '1,039', '0,929', '1,120', '1,059', '0,939',\n",
       "       '1,000', '1,299', '0,974', '1,199', '1,159', '1,069', '1,035',\n",
       "       '1,565', '1,189', '0,979', '0,969', '1,079', '1,169', '1,099',\n",
       "       '1,339', '1,089', '1,015', '1,009', '1,179', '0,999', '0,959',\n",
       "       '2,350', '1,937', '1,049'], dtype=object)"
      ]
     },
     "execution_count": 50,
     "metadata": {},
     "output_type": "execute_result"
    }
   ],
   "source": [
    "Gas_n_c = df_n['Precio Gas Natural Comprimido'].unique()\n",
    "print(len(Gas_n_c))\n",
    "print(type(Gas_n_c))\n",
    "Gas_n_c"
   ]
  },
  {
   "cell_type": "code",
   "execution_count": 51,
   "id": "1ac50945",
   "metadata": {},
   "outputs": [],
   "source": [
    "# Convertimos columna categórica a numérica\n",
    "df_n['Precio Gas Natural Comprimido']=df_n['Precio Gas Natural Comprimido'].str.replace(',','.')\n",
    "df_n[['Precio Gas Natural Comprimido']]=df_n[['Precio Gas Natural Comprimido']].apply(pd.to_numeric)"
   ]
  },
  {
   "cell_type": "code",
   "execution_count": 52,
   "id": "1f65143d",
   "metadata": {},
   "outputs": [
    {
     "data": {
      "text/plain": [
       "count    141.000000\n",
       "mean       1.099518\n",
       "std        0.176280\n",
       "min        0.929000\n",
       "25%        0.989000\n",
       "50%        1.069000\n",
       "75%        1.120000\n",
       "max        2.350000\n",
       "Name: Precio Gas Natural Comprimido, dtype: float64"
      ]
     },
     "execution_count": 52,
     "metadata": {},
     "output_type": "execute_result"
    }
   ],
   "source": [
    "df_n['Precio Gas Natural Comprimido'].describe()"
   ]
  },
  {
   "cell_type": "code",
   "execution_count": 53,
   "id": "e7a5a486",
   "metadata": {},
   "outputs": [
    {
     "data": {
      "text/plain": [
       "11844"
      ]
     },
     "execution_count": 53,
     "metadata": {},
     "output_type": "execute_result"
    }
   ],
   "source": [
    "# Registros sin venta Biodiesel\n",
    "sin_suministro_be = df_n['Precio Bioetanol'].isnull().sum()\n",
    "sin_suministro_be"
   ]
  },
  {
   "cell_type": "markdown",
   "id": "33ddd76e",
   "metadata": {},
   "source": [
    "# Precio Gas Natural Licuado"
   ]
  },
  {
   "cell_type": "code",
   "execution_count": 54,
   "id": "d5685b8d",
   "metadata": {},
   "outputs": [
    {
     "name": "stdout",
     "output_type": "stream",
     "text": [
      "15\n",
      "<class 'numpy.ndarray'>\n"
     ]
    },
    {
     "data": {
      "text/plain": [
       "array(['', '0,929', '0,999', '1,296', '1,019', '0,939', '0,914', '0,979',\n",
       "       '1,049', '0,919', '0,889', '1,299', '0,989', '1,079', '0,899'],\n",
       "      dtype=object)"
      ]
     },
     "execution_count": 54,
     "metadata": {},
     "output_type": "execute_result"
    }
   ],
   "source": [
    "Gas_nat_lic = df_n['Precio Gas Natural Licuado'].unique()\n",
    "print(len(Gas_nat_lic))\n",
    "print(type(Gas_nat_lic))\n",
    "Gas_nat_lic"
   ]
  },
  {
   "cell_type": "code",
   "execution_count": 55,
   "id": "90f17335",
   "metadata": {},
   "outputs": [],
   "source": [
    "# Convertimos columna categórica a numérica, primero tenemos que sustituir , por .\n",
    "df_n['Precio Gas Natural Licuado']=df_n['Precio Gas Natural Licuado'].str.replace(',','.')\n",
    "df_n[['Precio Gas Natural Licuado']]=df_n[['Precio Gas Natural Licuado']].apply(pd.to_numeric)"
   ]
  },
  {
   "cell_type": "code",
   "execution_count": 56,
   "id": "7b35df2f",
   "metadata": {},
   "outputs": [
    {
     "data": {
      "text/plain": [
       "count    91.000000\n",
       "mean      0.984220\n",
       "std       0.120265\n",
       "min       0.889000\n",
       "25%       0.929000\n",
       "50%       0.929000\n",
       "75%       0.979000\n",
       "max       1.299000\n",
       "Name: Precio Gas Natural Licuado, dtype: float64"
      ]
     },
     "execution_count": 56,
     "metadata": {},
     "output_type": "execute_result"
    }
   ],
   "source": [
    "df_n['Precio Gas Natural Licuado'].describe()"
   ]
  },
  {
   "cell_type": "code",
   "execution_count": 57,
   "id": "0eca734e",
   "metadata": {},
   "outputs": [
    {
     "data": {
      "text/plain": [
       "11758"
      ]
     },
     "execution_count": 57,
     "metadata": {},
     "output_type": "execute_result"
    }
   ],
   "source": [
    "# Registros sin venta Gas NAtural Licuado\n",
    "sin_suministro_gnl = df_n['Precio Gas Natural Licuado'].isnull().sum()\n",
    "sin_suministro_gnl"
   ]
  },
  {
   "cell_type": "markdown",
   "id": "ba2199ad",
   "metadata": {},
   "source": [
    "# Precio Gases licuados del petróleo"
   ]
  },
  {
   "cell_type": "code",
   "execution_count": 58,
   "id": "bdff2425",
   "metadata": {},
   "outputs": [
    {
     "name": "stdout",
     "output_type": "stream",
     "text": [
      "110\n",
      "<class 'numpy.ndarray'>\n"
     ]
    },
    {
     "data": {
      "text/plain": [
       "array(['', '0,939', '0,798', '0,889', '0,909', '0,929', '0,908', '1,000',\n",
       "       '1,059', '0,919', '0,949', '0,901', '0,979', '0,899', '0,959',\n",
       "       '0,760', '0,905', '0,902', '0,799', '0,958', '1,019', '0,997',\n",
       "       '0,920', '1,029', '0,849', '0,879', '0,819', '0,895', '1,100',\n",
       "       '1,069', '0,900', '0,989', '0,859', '0,869', '0,915', '0,855',\n",
       "       '0,839', '0,838', '0,969', '0,848', '0,999', '0,927', '1,009',\n",
       "       '0,935', '0,990', '1,091', '1,049', '0,928', '0,985', '0,938',\n",
       "       '0,755', '0,868', '0,878', '0,535', '0,948', '0,730', '0,894',\n",
       "       '0,998', '0,739', '1,099', '0,885', '0,854', '0,890', '0,947',\n",
       "       '1,150', '0,925', '1,129', '0,995', '0,865', '1,010', '0,960',\n",
       "       '0,980', '1,169', '1,120', '0,679', '0,809', '0,933', '0,940',\n",
       "       '0,709', '0,699', '0,827', '0,977', '1,017', '0,918', '0,898',\n",
       "       '1,109', '0,955', '0,910', '0,769', '0,777', '0,759', '0,789',\n",
       "       '0,784', '0,829', '0,971', '0,914', '0,877', '0,968', '0,720',\n",
       "       '0,924', '0,904', '0,945', '0,820', '1,079', '0,780', '0,978',\n",
       "       '0,957', '0,874', '1,039', '0,850'], dtype=object)"
      ]
     },
     "execution_count": 58,
     "metadata": {},
     "output_type": "execute_result"
    }
   ],
   "source": [
    "Gas_nat_lic_pet = df_n['Precio Gases licuados del petróleo'].unique()\n",
    "print(len(Gas_nat_lic_pet))\n",
    "print(type(Gas_nat_lic_pet))\n",
    "Gas_nat_lic_pet"
   ]
  },
  {
   "cell_type": "code",
   "execution_count": 59,
   "id": "94e05d01",
   "metadata": {},
   "outputs": [],
   "source": [
    "# Convertimos columna categórica a numérica\n",
    "df_n['Precio Gases licuados del petróleo']=df_n['Precio Gases licuados del petróleo'].str.replace(',','.')\n",
    "df_n[['Precio Gases licuados del petróleo']]=df_n[['Precio Gases licuados del petróleo']].apply(pd.to_numeric)"
   ]
  },
  {
   "cell_type": "code",
   "execution_count": 60,
   "id": "43ae8314",
   "metadata": {},
   "outputs": [
    {
     "data": {
      "text/plain": [
       "count    872.000000\n",
       "mean       0.917811\n",
       "std        0.063033\n",
       "min        0.535000\n",
       "25%        0.899000\n",
       "50%        0.919000\n",
       "75%        0.941250\n",
       "max        1.169000\n",
       "Name: Precio Gases licuados del petróleo, dtype: float64"
      ]
     },
     "execution_count": 60,
     "metadata": {},
     "output_type": "execute_result"
    }
   ],
   "source": [
    "df_n['Precio Gases licuados del petróleo'].describe()"
   ]
  },
  {
   "cell_type": "code",
   "execution_count": 61,
   "id": "f39d6004",
   "metadata": {},
   "outputs": [
    {
     "data": {
      "text/plain": [
       "10977"
      ]
     },
     "execution_count": 61,
     "metadata": {},
     "output_type": "execute_result"
    }
   ],
   "source": [
    "# Registros sin venta Gas NAtural Licuado del Petróleo\n",
    "sin_suministro_gnlp = df_n['Precio Gases licuados del petróleo'].isnull().sum()\n",
    "sin_suministro_gnlp"
   ]
  },
  {
   "cell_type": "code",
   "execution_count": 62,
   "id": "0a616a04",
   "metadata": {},
   "outputs": [
    {
     "data": {
      "text/plain": [
       "0"
      ]
     },
     "execution_count": 62,
     "metadata": {},
     "output_type": "execute_result"
    }
   ],
   "source": [
    "ceros_sin_suministro_gnlp = (df_n['Precio Gases licuados del petróleo'] == 0).sum()\n",
    "ceros_sin_suministro_gnlp"
   ]
  },
  {
   "cell_type": "markdown",
   "id": "579f7966",
   "metadata": {},
   "source": [
    "# Gasoleo A"
   ]
  },
  {
   "cell_type": "code",
   "execution_count": 63,
   "id": "b84c8a71",
   "metadata": {},
   "outputs": [
    {
     "name": "stdout",
     "output_type": "stream",
     "text": [
      "428\n",
      "<class 'numpy.ndarray'>\n"
     ]
    },
    {
     "data": {
      "text/plain": [
       "array(['1,359', '1,530', '1,299', '1,459', '1,469', '1,490', '1,479',\n",
       "       '1,318', '1,279', '1,485', '1,369', '1,349', '1,499', '1,449', '',\n",
       "       '2,259', '1,320', '1,489', '1,432', '1,289', '1,329', '1,399',\n",
       "       '1,409', '1,455', '1,509', '1,429', '1,465', '1,324', '1,308',\n",
       "       '1,419', '1,480', '1,414', '1,519', '1,330', '1,439', '1,300',\n",
       "       '1,345', '1,529', '1,598', '1,515', '1,346', '1,354', '1,467',\n",
       "       '1,350', '1,325', '1,339', '1,270', '1,679', '1,305', '1,230',\n",
       "       '1,309', '1,290', '1,416', '1,319', '1,315', '1,424', '1,524',\n",
       "       '1,474', '1,316', '1,249', '1,237', '1,317', '1,484', '1,247',\n",
       "       '1,505', '1,494', '1,431', '1,297', '1,389', '1,500', '1,539',\n",
       "       '1,379', '1,548', '1,497', '1,415', '1,464', '1,294', '1,327',\n",
       "       '1,288', '1,472', '1,295', '1,525', '1,388', '1,438', '1,433',\n",
       "       '1,428', '1,475', '1,454', '1,420', '1,259', '1,446', '1,549',\n",
       "       '1,498', '1,538', '1,478', '1,380', '1,495', '1,527', '1,378',\n",
       "       '1,235', '1,225', '1,335', '1,394', '1,374', '1,569', '1,307',\n",
       "       '1,287', '1,477', '1,268', '1,609', '1,265', '1,266', '1,255',\n",
       "       '1,269', '1,278', '1,555', '1,370', '1,535', '1,448', '1,537',\n",
       "       '1,321', '1,468', '1,400', '1,218', '1,284', '1,310', '1,353',\n",
       "       '1,296', '1,311', '1,445', '1,221', '1,256', '1,355', '1,520',\n",
       "       '1,356', '1,547', '1,306', '1,337', '1,999', '1,559', '1,565',\n",
       "       '1,376', '1,366', '1,340', '1,390', '1,452', '1,430', '1,528',\n",
       "       '1,545', '1,444', '1,460', '1,540', '1,348', '1,546', '1,336',\n",
       "       '1,347', '1,397', '1,371', '1,285', '1,550', '1,568', '1,504',\n",
       "       '1,510', '1,280', '1,273', '1,272', '1,599', '1,629', '1,332',\n",
       "       '1,375', '1,360', '1,260', '1,358', '1,579', '1,385', '1,610',\n",
       "       '1,384', '1,514', '1,382', '1,301', '1,491', '1,328', '1,342',\n",
       "       '1,405', '1,473', '1,589', '1,508', '1,585', '1,649', '1,518',\n",
       "       '1,450', '1,507', '1,364', '1,488', '1,407', '1,351', '1,298',\n",
       "       '1,341', '1,386', '1,398', '1,283', '1,323', '1,282', '1,314',\n",
       "       '1,291', '1,286', '1,313', '1,267', '1,277', '1,219', '1,209',\n",
       "       '1,575', '1,434', '1,338', '1,239', '1,387', '1,334', '1,437',\n",
       "       '1,605', '1,611', '1,240', '1,322', '1,406', '1,417', '1,357',\n",
       "       '1,248', '1,344', '1,383', '1,254', '1,250', '1,373', '1,365',\n",
       "       '1,517', '1,408', '1,471', '1,331', '1,487', '1,281', '1,361',\n",
       "       '1,502', '1,470', '1,229', '1,440', '1,312', '1,481', '1,413',\n",
       "       '1,293', '1,412', '1,182', '1,193', '1,402', '1,368', '1,652',\n",
       "       '1,179', '1,198', '1,463', '1,458', '1,395', '1,367', '1,775',\n",
       "       '1,302', '1,476', '1,435', '1,022', '1,343', '1,404', '1,257',\n",
       "       '1,275', '1,511', '1,457', '1,496', '1,411', '1,544', '1,619',\n",
       "       '1,352', '1,492', '1,819', '1,790', '1,276', '1,950', '1,418',\n",
       "       '1,303', '1,532', '1,252', '1,501', '1,800', '1,304', '1,557',\n",
       "       '1,534', '1,560', '1,695', '1,523', '1,292', '1,251', '1,425',\n",
       "       '1,410', '1,570', '1,595', '1,261', '1,274', '1,600', '1,421',\n",
       "       '1,253', '1,422', '1,423', '1,552', '1,486', '1,363', '1,639',\n",
       "       '1,513', '1,624', '1,264', '1,426', '1,118', '1,119', '1,139',\n",
       "       '1,147', '1,149', '1,195', '1,172', '1,512', '1,187', '1,180',\n",
       "       '1,461', '1,396', '1,590', '1,174', '1,129', '1,238', '1,134',\n",
       "       '1,099', '1,059', '1,089', '1,170', '1,049', '1,263', '1,228',\n",
       "       '1,189', '1,069', '1,109', '1,058', '1,236', '1,199', '1,130',\n",
       "       '1,244', '1,224', '1,242', '1,234', '0,999', '1,220', '1,233',\n",
       "       '1,214', '1,211', '1,164', '1,140', '1,155', '1,184', '1,194',\n",
       "       '1,200', '1,171', '1,083', '1,227', '1,245', '1,443', '1,391',\n",
       "       '1,222', '1,456', '1,080', '1,188', '1,159', '1,169', '1,176',\n",
       "       '1,165', '1,079', '1,204', '1,084', '1,095', '1,131', '1,125',\n",
       "       '1,107', '1,074', '1,192', '1,148', '1,212', '1,186', '1,087',\n",
       "       '1,029', '1,145', '1,177', '1,206', '1,144', '1,167', '1,168',\n",
       "       '1,154', '1,173', '1,104', '1,217', '1,158', '1,175', '1,216',\n",
       "       '1,132', '1,124', '1,226', '1,160', '1,531', '1,377', '1,258',\n",
       "       '1,393', '1,526', '1,582', '1,271', '1,451', '1,541', '1,750',\n",
       "       '1,326', '1,493', '1,659', '2,150', '1,191', '1,580', '1,554',\n",
       "       '1,949', '1,372', '1,558', '1,506', '1,441', '1,447', '1,879'],\n",
       "      dtype=object)"
      ]
     },
     "execution_count": 63,
     "metadata": {},
     "output_type": "execute_result"
    }
   ],
   "source": [
    "Gasoleo_A = df_n['Precio Gasoleo A'].unique()\n",
    "print(len(Gasoleo_A))\n",
    "print(type(Gasoleo_A))\n",
    "Gasoleo_A"
   ]
  },
  {
   "cell_type": "code",
   "execution_count": 64,
   "id": "03079146",
   "metadata": {},
   "outputs": [],
   "source": [
    "# Convertimos columna categórica a numérica, primero tenemos que sustituir , por .\n",
    "df_n['Precio Gasoleo A']=df_n['Precio Gasoleo A'].str.replace(',','.')\n",
    "df_n[['Precio Gasoleo A']]=df_n[['Precio Gasoleo A']].apply(pd.to_numeric)"
   ]
  },
  {
   "cell_type": "code",
   "execution_count": 65,
   "id": "b2093cd9",
   "metadata": {},
   "outputs": [
    {
     "data": {
      "text/plain": [
       "count    11495.000000\n",
       "mean         1.429692\n",
       "std          0.098528\n",
       "min          0.999000\n",
       "25%          1.350000\n",
       "50%          1.459000\n",
       "75%          1.505000\n",
       "max          2.259000\n",
       "Name: Precio Gasoleo A, dtype: float64"
      ]
     },
     "execution_count": 65,
     "metadata": {},
     "output_type": "execute_result"
    }
   ],
   "source": [
    "df_n['Precio Gasoleo A'].describe()\n"
   ]
  },
  {
   "cell_type": "code",
   "execution_count": 66,
   "id": "a0c57df7",
   "metadata": {},
   "outputs": [
    {
     "data": {
      "text/plain": [
       "354"
      ]
     },
     "execution_count": 66,
     "metadata": {},
     "output_type": "execute_result"
    }
   ],
   "source": [
    "# Registros sin venta Gasoleo A\n",
    "sin_suministro_gA = df_n['Precio Gasoleo A'].isnull().sum()\n",
    "sin_suministro_gA"
   ]
  },
  {
   "cell_type": "code",
   "execution_count": 67,
   "id": "2fd05b04",
   "metadata": {},
   "outputs": [
    {
     "data": {
      "text/plain": [
       "0"
      ]
     },
     "execution_count": 67,
     "metadata": {},
     "output_type": "execute_result"
    }
   ],
   "source": [
    "ceros_sin_suministro_gA = (df_n['Precio Gasoleo A'] == 0).sum()\n",
    "ceros_sin_suministro_gA"
   ]
  },
  {
   "cell_type": "markdown",
   "id": "6b8fd3b9",
   "metadata": {},
   "source": [
    "# Gasoleo B"
   ]
  },
  {
   "cell_type": "code",
   "execution_count": 68,
   "id": "90c596c9",
   "metadata": {},
   "outputs": [
    {
     "name": "stdout",
     "output_type": "stream",
     "text": [
      "428\n",
      "<class 'numpy.ndarray'>\n"
     ]
    },
    {
     "data": {
      "text/plain": [
       "array(['0,999', '', '1,196', '0,950', '1,639', '1,299', '1,129', '0,966',\n",
       "       '1,270', '0,943', '1,206', '0,990', '1,070', '1,050', '1,104',\n",
       "       '1,109', '1,159', '1,000', '1,217', '1,029', '0,920', '1,699',\n",
       "       '1,227', '0,968', '1,247', '0,933', '1,148', '0,960', '1,139',\n",
       "       '0,965', '0,949', '0,928', '1,242', '1,127', '1,309', '0,969',\n",
       "       '1,479', '0,915', '1,399', '0,900', '1,100', '1,169', '0,889',\n",
       "       '0,932', '0,951', '1,179', '0,923', '1,249', '1,280', '1,269',\n",
       "       '1,199', '1,189', '1,150', '1,219', '1,439', '1,149', '1,289',\n",
       "       '1,380', '1,245', '1,300', '1,279', '1,329', '1,180', '1,190',\n",
       "       '1,229', '1,257', '1,053', '1,209', '1,284', '1,233', '1,440',\n",
       "       '1,195', '1,259', '1,099', '1,095', '0,995', '0,930', '1,495',\n",
       "       '1,171', '1,200', '1,128', '1,124', '0,924', '0,891', '0,869',\n",
       "       '1,093', '1,290', '0,955', '1,184', '1,281', '1,239', '1,140',\n",
       "       '1,181', '1,086', '1,183', '1,153', '0,989', '1,292', '1,032',\n",
       "       '1,155', '1,205', '1,409', '1,369', '1,019', '0,935', '1,113',\n",
       "       '1,304', '1,178', '1,214', '1,125', '1,043', '1,197', '1,253',\n",
       "       '1,164', '1,339', '1,241', '1,248', '1,204', '1,066', '1,255',\n",
       "       '1,240', '1,244', '1,160', '1,319', '1,349', '1,119', '1,055',\n",
       "       '0,883', '1,030', '0,946', '1,049', '1,193', '1,192', '0,901',\n",
       "       '0,952', '1,089', '1,201', '1,079', '1,172', '0,980', '1,059',\n",
       "       '0,994', '1,400', '1,061', '0,975', '0,906', '0,919', '1,449',\n",
       "       '0,929', '1,120', '1,035', '1,069', '0,959', '1,335', '0,972',\n",
       "       '0,914', '0,910', '0,974', '0,937', '1,135', '1,221', '1,020',\n",
       "       '1,146', '0,978', '1,165', '0,953', '1,188', '0,874', '0,964',\n",
       "       '1,224', '1,105', '0,986', '1,599', '1,359', '1,218', '1,323',\n",
       "       '1,110', '1,237', '1,252', '1,374', '0,967', '1,060', '1,010',\n",
       "       '1,308', '1,250', '1,389', '1,123', '1,395', '1,078', '1,098',\n",
       "       '0,998', '1,090', '0,987', '0,961', '1,185', '1,287', '0,970',\n",
       "       '1,016', '1,589', '1,191', '1,131', '1,158', '1,145', '1,015',\n",
       "       '0,957', '1,220', '0,938', '1,650', '1,170', '1,278', '0,979',\n",
       "       '1,215', '1,222', '1,202', '1,182', '1,187', '1,141', '0,948',\n",
       "       '1,082', '1,080', '1,173', '1,047', '1,147', '1,116', '1,132',\n",
       "       '1,163', '1,294', '1,157', '0,945', '1,161', '1,166', '1,039',\n",
       "       '0,940', '0,976', '0,985', '0,918', '1,228', '0,963', '1,028',\n",
       "       '0,947', '1,258', '1,152', '1,009', '0,981', '0,939', '0,925',\n",
       "       '1,426', '0,934', '0,954', '1,265', '1,198', '1,143', '0,926',\n",
       "       '0,897', '0,909', '1,256', '0,962', '1,115', '1,117', '0,936',\n",
       "       '1,144', '1,210', '1,212', '1,320', '1,175', '1,156', '1,084',\n",
       "       '1,238', '1,310', '1,275', '1,042', '1,266', '1,005', '0,941',\n",
       "       '1,230', '0,890', '0,922', '0,971', '0,944', '0,927', '1,316',\n",
       "       '1,106', '1,330', '1,315', '1,314', '1,447', '1,321', '1,271',\n",
       "       '1,343', '1,371', '1,295', '1,177', '1,111', '1,154', '1,040',\n",
       "       '1,134', '0,977', '1,168', '0,886', '1,186', '1,283', '1,076',\n",
       "       '0,903', '1,559', '1,600', '0,896', '0,931', '1,203', '1,122',\n",
       "       '1,118', '1,012', '1,130', '1,276', '0,898', '1,046', '1,167',\n",
       "       '1,008', '1,085', '1,108', '1,296', '1,062', '1,138', '0,984',\n",
       "       '1,037', '1,133', '1,226', '1,038', '1,500', '0,876', '1,018',\n",
       "       '0,911', '1,653', '1,006', '0,983', '0,973', '1,268', '1,103',\n",
       "       '1,142', '1,003', '1,077', '1,216', '1,379', '1,101', '1,365',\n",
       "       '1,286', '1,261', '1,317', '1,354', '1,208', '1,001', '1,031',\n",
       "       '1,318', '1,087', '1,014', '0,956', '1,285', '0,917', '1,522',\n",
       "       '1,174', '1,235', '1,429', '1,207', '1,126', '1,213', '1,074',\n",
       "       '1,114', '1,225', '1,305', '1,301', '1,176', '1,013', '1,136',\n",
       "       '1,112', '0,991', '1,232', '1,036', '0,958', '1,151', '1,022',\n",
       "       '0,993', '1,669', '1,361', '0,988', '1,064', '0,992', '1,459',\n",
       "       '0,905', '1,058', '0,912', '1,415', '1,390', '0,942', '0,899',\n",
       "       '1,073', '1,065', '1,025', '1,102', '1,223', '1,298', '1,004',\n",
       "       '1,162', '1,414', '0,996', '1,097', '1,026'], dtype=object)"
      ]
     },
     "execution_count": 68,
     "metadata": {},
     "output_type": "execute_result"
    }
   ],
   "source": [
    "Gasoleo_B = df_n['Precio Gasoleo B'].unique()\n",
    "print(len(Gasoleo_A))\n",
    "print(type(Gasoleo_A))\n",
    "Gasoleo_B"
   ]
  },
  {
   "cell_type": "code",
   "execution_count": 69,
   "id": "b9ff1285",
   "metadata": {},
   "outputs": [],
   "source": [
    "# Convertimos columna categórica a numérica, primero tenemos que sustituir , por .\n",
    "df_n['Precio Gasoleo B']=df_n['Precio Gasoleo B'].str.replace(',','.')\n",
    "df_n[['Precio Gasoleo B']]=df_n[['Precio Gasoleo B']].apply(pd.to_numeric)"
   ]
  },
  {
   "cell_type": "code",
   "execution_count": 70,
   "id": "40bfd63c",
   "metadata": {},
   "outputs": [
    {
     "data": {
      "text/plain": [
       "count    3000.000000\n",
       "mean        1.118465\n",
       "std         0.126559\n",
       "min         0.869000\n",
       "25%         0.999000\n",
       "50%         1.139000\n",
       "75%         1.205000\n",
       "max         1.699000\n",
       "Name: Precio Gasoleo B, dtype: float64"
      ]
     },
     "execution_count": 70,
     "metadata": {},
     "output_type": "execute_result"
    }
   ],
   "source": [
    "df_n['Precio Gasoleo B'].describe()\n"
   ]
  },
  {
   "cell_type": "code",
   "execution_count": 71,
   "id": "ee5cfffa",
   "metadata": {},
   "outputs": [
    {
     "data": {
      "text/plain": [
       "8849"
      ]
     },
     "execution_count": 71,
     "metadata": {},
     "output_type": "execute_result"
    }
   ],
   "source": [
    "# Registros sin venta Gasoleo B\n",
    "sin_suministro_gB = df_n['Precio Gasoleo B'].isnull().sum()\n",
    "sin_suministro_gB"
   ]
  },
  {
   "cell_type": "code",
   "execution_count": 72,
   "id": "1654e9f7",
   "metadata": {},
   "outputs": [
    {
     "data": {
      "text/plain": [
       "0"
      ]
     },
     "execution_count": 72,
     "metadata": {},
     "output_type": "execute_result"
    }
   ],
   "source": [
    "ceros_sin_suministro_gB = (df_n['Precio Gasoleo B'] == 0).sum()\n",
    "ceros_sin_suministro_gB"
   ]
  },
  {
   "cell_type": "markdown",
   "id": "24d3a7ce",
   "metadata": {},
   "source": [
    "# Precio Gasoleo Premium "
   ]
  },
  {
   "cell_type": "code",
   "execution_count": 73,
   "id": "e25d3aaf",
   "metadata": {},
   "outputs": [
    {
     "name": "stdout",
     "output_type": "stream",
     "text": [
      "356\n",
      "<class 'numpy.ndarray'>\n"
     ]
    },
    {
     "data": {
      "text/plain": [
       "array(['', '2,300', '1,499', '1,559', '1,549', '1,519', '1,398', '1,299',\n",
       "       '1,569', '1,539', '1,551', '1,419', '1,469', '1,529', '1,629',\n",
       "       '1,399', '1,535', '1,579', '1,555', '1,509', '1,599', '1,619',\n",
       "       '1,598', '1,589', '1,659', '1,409', '1,489', '1,459', '1,369',\n",
       "       '1,514', '1,585', '1,594', '1,614', '1,609', '1,544', '1,361',\n",
       "       '1,548', '1,571', '1,574', '1,449', '1,637', '1,575', '1,669',\n",
       "       '1,534', '1,639', '1,518', '1,475', '1,309', '1,305', '1,504',\n",
       "       '1,611', '1,531', '1,486', '1,379', '1,605', '1,545', '1,565',\n",
       "       '1,324', '1,561', '1,339', '1,607', '2,999', '1,359', '1,365',\n",
       "       '1,464', '1,479', '1,564', '1,395', '1,595', '1,591', '1,389',\n",
       "       '1,577', '1,438', '1,319', '1,278', '1,635', '1,625', '1,346',\n",
       "       '1,317', '1,556', '1,360', '1,325', '1,308', '1,286', '1,328',\n",
       "       '1,367', '1,429', '1,576', '1,505', '1,640', '1,627', '1,368',\n",
       "       '1,588', '1,649', '1,385', '1,615', '1,681', '1,600', '1,329',\n",
       "       '1,608', '1,425', '1,524', '1,498', '1,655', '1,386', '1,349',\n",
       "       '1,554', '1,355', '1,540', '1,515', '1,647', '1,430', '1,493',\n",
       "       '1,439', '1,283', '1,272', '1,689', '1,259', '1,265', '1,314',\n",
       "       '1,525', '1,289', '1,580', '1,584', '1,269', '1,641', '1,418',\n",
       "       '1,578', '1,645', '1,638', '1,628', '1,618', '1,679', '1,621',\n",
       "       '1,631', '1,376', '1,527', '1,513', '1,351', '1,358', '1,620',\n",
       "       '1,590', '1,444', '1,337', '1,495', '1,473', '1,452', '1,587',\n",
       "       '1,279', '1,335', '1,307', '1,387', '1,297', '1,445', '1,454',\n",
       "       '1,405', '1,434', '1,348', '1,671', '1,366', '1,699', '1,538',\n",
       "       '1,541', '1,380', '1,428', '1,570', '1,521', '1,568', '1,494',\n",
       "       '1,547', '1,597', '1,295', '1,488', '1,581', '1,394', '1,603',\n",
       "       '1,341', '1,709', '1,219', '1,769', '1,526', '1,508', '1,408',\n",
       "       '1,362', '1,839', '1,484', '1,357', '1,415', '1,465', '1,310',\n",
       "       '1,378', '1,285', '1,457', '1,557', '1,558', '1,566', '1,424',\n",
       "       '1,447', '2,060', '1,685', '1,759', '1,601', '1,586', '1,583',\n",
       "       '1,979', '1,420', '1,474', '1,616', '1,455', '1,546', '1,501',\n",
       "       '1,384', '1,536', '1,375', '1,497', '1,604', '1,381', '1,300',\n",
       "       '1,675', '1,573', '1,354', '1,382', '1,520', '1,480', '1,287',\n",
       "       '1,705', '1,485', '1,323', '1,537', '1,288', '1,303', '1,512',\n",
       "       '1,532', '1,347', '1,530', '1,651', '1,500', '1,642', '1,414',\n",
       "       '1,388', '1,511', '1,592', '1,345', '1,478', '1,450', '1,634',\n",
       "       '1,442', '1,410', '1,338', '1,643', '1,593', '1,463', '1,377',\n",
       "       '1,624', '1,407', '1,426', '1,158', '1,159', '1,179', '1,189',\n",
       "       '2,109', '1,318', '1,298', '1,416', '1,562', '1,340', '1,356',\n",
       "       '1,437', '1,257', '1,771', '1,610', '1,390', '1,503', '1,364',\n",
       "       '1,567', '1,510', '1,528', '1,180', '1,264', '1,239', '1,244',\n",
       "       '1,443', '1,344', '1,320', '1,334', '1,342', '1,350', '1,333',\n",
       "       '1,404', '1,218', '1,336', '1,280', '1,462', '1,304', '1,184',\n",
       "       '1,315', '1,197', '1,306', '1,383', '1,397', '1,648', '1,427',\n",
       "       '1,261', '1,274', '1,284', '1,311', '1,296', '1,291', '1,290',\n",
       "       '1,149', '1,224', '1,294', '1,174', '1,165', '1,292', '1,302',\n",
       "       '1,276', '1,177', '1,371', '1,214', '1,204', '1,468', '1,249',\n",
       "       '1,245', '1,199', '1,326', '1,275', '1,254', '1,095', '1,343',\n",
       "       '1,656', '1,477', '1,550', '1,719', '1,458', '1,372', '1,491',\n",
       "       '1,572', '1,396', '1,273', '1,507', '1,467', '1,517', '1,695',\n",
       "       '1,800', '1,448', '1,417', '1,617', '1,490', '1,644', '1,353',\n",
       "       '1,636', '1,267', '1,435', '1,373', '1,393'], dtype=object)"
      ]
     },
     "execution_count": 73,
     "metadata": {},
     "output_type": "execute_result"
    }
   ],
   "source": [
    "Gasoleo_P = df_n['Precio Gasoleo Premium'].unique()\n",
    "print(len(Gasoleo_P))\n",
    "print(type(Gasoleo_P))\n",
    "Gasoleo_P"
   ]
  },
  {
   "cell_type": "code",
   "execution_count": 74,
   "id": "b2743f33",
   "metadata": {},
   "outputs": [],
   "source": [
    "# Convertimos columna categórica a numérica, primero tenemos que sustituir , por .\n",
    "df_n['Precio Gasoleo Premium']=df_n['Precio Gasoleo Premium'].str.replace(',','.')\n",
    "df_n[['Precio Gasoleo Premium']]=df_n[['Precio Gasoleo Premium']].apply(pd.to_numeric)"
   ]
  },
  {
   "cell_type": "code",
   "execution_count": 75,
   "id": "10e79699",
   "metadata": {},
   "outputs": [
    {
     "data": {
      "text/plain": [
       "count    7480.000000\n",
       "mean        1.536501\n",
       "std         0.092094\n",
       "min         1.095000\n",
       "25%         1.509000\n",
       "50%         1.559000\n",
       "75%         1.597000\n",
       "max         2.999000\n",
       "Name: Precio Gasoleo Premium, dtype: float64"
      ]
     },
     "execution_count": 75,
     "metadata": {},
     "output_type": "execute_result"
    }
   ],
   "source": [
    "df_n['Precio Gasoleo Premium'].describe()"
   ]
  },
  {
   "cell_type": "code",
   "execution_count": 76,
   "id": "9666e5b7",
   "metadata": {},
   "outputs": [
    {
     "data": {
      "text/plain": [
       "4369"
      ]
     },
     "execution_count": 76,
     "metadata": {},
     "output_type": "execute_result"
    }
   ],
   "source": [
    "# Registros sin venta Gasoleo Premium\n",
    "sin_suministro_gP = df_n['Precio Gasoleo Premium'].isnull().sum()\n",
    "sin_suministro_gP"
   ]
  },
  {
   "cell_type": "code",
   "execution_count": 77,
   "id": "c62c56a0",
   "metadata": {},
   "outputs": [
    {
     "data": {
      "text/plain": [
       "0"
      ]
     },
     "execution_count": 77,
     "metadata": {},
     "output_type": "execute_result"
    }
   ],
   "source": [
    "ceros_sin_suministro_gP = (df_n['Precio Gasoleo Premium'] == 0).sum()\n",
    "ceros_sin_suministro_gP"
   ]
  },
  {
   "cell_type": "markdown",
   "id": "1af7f46d",
   "metadata": {},
   "source": [
    "# Precio Gasolina 95 E10 "
   ]
  },
  {
   "cell_type": "code",
   "execution_count": 78,
   "id": "a3d6c6e1",
   "metadata": {},
   "outputs": [
    {
     "name": "stdout",
     "output_type": "stream",
     "text": [
      "21\n",
      "<class 'numpy.ndarray'>\n"
     ]
    },
    {
     "data": {
      "text/plain": [
       "array(['', '1,859', '1,829', '1,759', '1,684', '1,499', '1,669', '1,744',\n",
       "       '1,720', '1,719', '1,449', '1,589', '1,549', '1,459', '1,699',\n",
       "       '1,639', '1,659', '1,799', '1,769', '1,739', '1,698'], dtype=object)"
      ]
     },
     "execution_count": 78,
     "metadata": {},
     "output_type": "execute_result"
    }
   ],
   "source": [
    "g95_E10 = df_n['Precio Gasolina 95 E10'].unique()\n",
    "print(len(g95_E10))\n",
    "print(type(g95_E10))\n",
    "g95_E10"
   ]
  },
  {
   "cell_type": "code",
   "execution_count": 79,
   "id": "c2203d4d",
   "metadata": {},
   "outputs": [],
   "source": [
    "# Convertimos columna categórica a numérica, primero tenemos que sustituir , por .\n",
    "df_n['Precio Gasolina 95 E10']=df_n['Precio Gasolina 95 E10'].str.replace(',','.')\n",
    "df_n[['Precio Gasolina 95 E10']]=df_n[['Precio Gasolina 95 E10']].apply(pd.to_numeric)"
   ]
  },
  {
   "cell_type": "code",
   "execution_count": 80,
   "id": "01212952",
   "metadata": {},
   "outputs": [
    {
     "data": {
      "text/plain": [
       "count    24.000000\n",
       "mean      1.680875\n",
       "std       0.107001\n",
       "min       1.449000\n",
       "25%       1.654000\n",
       "50%       1.698500\n",
       "75%       1.747750\n",
       "max       1.859000\n",
       "Name: Precio Gasolina 95 E10, dtype: float64"
      ]
     },
     "execution_count": 80,
     "metadata": {},
     "output_type": "execute_result"
    }
   ],
   "source": [
    " df_n['Precio Gasolina 95 E10'].describe()"
   ]
  },
  {
   "cell_type": "code",
   "execution_count": 81,
   "id": "6aaa6a7b",
   "metadata": {},
   "outputs": [
    {
     "data": {
      "text/plain": [
       "11825"
      ]
     },
     "execution_count": 81,
     "metadata": {},
     "output_type": "execute_result"
    }
   ],
   "source": [
    "# Registros sin venta Gasoleo Premium\n",
    "sin_suministro_95E10 = df_n['Precio Gasolina 95 E10'].isnull().sum()\n",
    "sin_suministro_95E10"
   ]
  },
  {
   "cell_type": "markdown",
   "id": "3e9e3b58",
   "metadata": {},
   "source": [
    "# Precio Gasolina 95 E5"
   ]
  },
  {
   "cell_type": "code",
   "execution_count": 82,
   "id": "a04d4e77",
   "metadata": {},
   "outputs": [
    {
     "name": "stdout",
     "output_type": "stream",
     "text": [
      "411\n",
      "<class 'numpy.ndarray'>\n"
     ]
    },
    {
     "data": {
      "text/plain": [
       "array(['1,549', '1,679', '1,459', '1,609', '', '1,639', '1,528', '1,619',\n",
       "       '1,439', '1,629', '1,579', '1,649', '1,589', '2,299', '1,490',\n",
       "       '1,570', '1,429', '1,539', '1,599', '1,559', '1,614', '1,460',\n",
       "       '1,625', '1,699', '1,640', '1,463', '1,659', '1,560', '1,569',\n",
       "       '1,479', '1,698', '1,519', '1,489', '1,627', '1,469', '1,565',\n",
       "       '1,529', '1,669', '1,430', '1,547', '1,585', '1,499', '1,478',\n",
       "       '1,574', '1,684', '1,665', '1,644', '1,498', '1,604', '1,475',\n",
       "       '1,654', '1,477', '1,603', '1,655', '1,525', '1,634', '1,557',\n",
       "       '1,637', '1,595', '1,509', '1,566', '1,709', '1,653', '1,465',\n",
       "       '1,495', '1,675', '1,624', '1,568', '1,618', '1,551', '1,607',\n",
       "       '1,485', '1,594', '1,645', '1,651', '1,615', '1,588', '1,449',\n",
       "       '1,635', '1,678', '1,608', '1,664', '1,524', '1,689', '1,538',\n",
       "       '1,455', '1,445', '1,544', '1,505', '1,674', '1,677', '1,518',\n",
       "       '1,468', '1,497', '1,471', '1,435', '1,620', '1,508', '1,576',\n",
       "       '1,617', '1,683', '1,597', '1,600', '1,470', '1,545', '1,630',\n",
       "       '1,483', '1,799', '1,575', '1,598', '1,704', '1,530', '1,688',\n",
       "       '1,729', '1,548', '1,535', '1,714', '1,694', '1,577', '1,580',\n",
       "       '1,628', '1,660', '1,695', '1,584', '1,500', '1,527', '1,534',\n",
       "       '1,473', '1,472', '1,779', '1,486', '1,550', '1,676', '1,610',\n",
       "       '1,419', '1,605', '1,590', '1,668', '1,558', '1,749', '1,719',\n",
       "       '1,724', '1,658', '1,759', '1,849', '1,739', '1,648', '1,708',\n",
       "       '1,697', '1,424', '1,523', '1,717', '1,623', '1,725', '1,613',\n",
       "       '1,090', '1,502', '1,728', '1,428', '1,481', '1,487', '1,587',\n",
       "       '1,464', '1,405', '1,425', '1,720', '1,554', '1,474', '1,437',\n",
       "       '1,670', '1,484', '1,537', '1,427', '1,663', '1,426', '1,715',\n",
       "       '1,349', '1,339', '1,375', '1,494', '1,734', '1,673', '1,379',\n",
       "       '1,514', '1,752', '1,517', '1,811', '1,638', '1,522', '1,686',\n",
       "       '1,450', '1,555', '1,480', '1,453', '1,564', '1,632', '1,650',\n",
       "       '1,680', '1,633', '1,593', '1,900', '1,434', '1,581', '1,642',\n",
       "       '1,690', '1,415', '1,417', '1,823', '1,279', '1,298', '1,329',\n",
       "       '1,440', '1,476', '1,578', '1,488', '1,446', '1,392', '1,592',\n",
       "       '1,421', '1,447', '1,458', '1,456', '1,454', '1,507', '1,661',\n",
       "       '1,616', '1,666', '1,512', '1,769', '1,685', '1,687', '1,682',\n",
       "       '1,667', '1,730', '1,515', '1,950', '1,611', '1,482', '1,520',\n",
       "       '1,493', '1,431', '1,510', '1,700', '1,765', '1,438', '1,582',\n",
       "       '1,433', '1,652', '1,452', '1,572', '1,552', '1,705', '1,626',\n",
       "       '1,432', '1,443', '1,467', '1,409', '1,532', '1,563', '1,672',\n",
       "       '1,526', '1,636', '1,789', '1,556', '1,819', '1,657', '1,491',\n",
       "       '1,573', '1,718', '1,533', '1,444', '1,228', '1,219', '1,249',\n",
       "       '1,255', '1,259', '1,647', '1,457', '1,586', '1,516', '1,506',\n",
       "       '1,796', '1,656', '1,738', '1,209', '1,159', '1,169', '1,218',\n",
       "       '1,179', '1,144', '1,119', '1,089', '1,174', '1,099', '1,199',\n",
       "       '1,049', '1,229', '1,333', '1,373', '1,325', '1,372', '1,355',\n",
       "       '1,353', '1,357', '1,319', '1,366', '1,217', '1,198', '1,183',\n",
       "       '1,079', '1,149', '1,088', '1,225', '1,204', '1,150', '1,327',\n",
       "       '1,354', '1,344', '1,269', '1,214', '1,194', '1,166', '1,191',\n",
       "       '1,222', '0,999', '1,224', '1,239', '1,095', '1,184', '1,200',\n",
       "       '1,330', '1,288', '1,368', '1,289', '1,363', '1,244', '1,201',\n",
       "       '1,267', '1,216', '1,189', '1,383', '1,175', '1,190', '1,286',\n",
       "       '1,284', '1,311', '1,309', '1,369', '1,359', '1,275', '1,304',\n",
       "       '1,207', '1,315', '1,280', '1,567', '1,531', '1,403', '1,399',\n",
       "       '1,180', '1,139', '1,188', '1,420', '1,164', '1,186', '1,197',\n",
       "       '1,208', '1,542', '1,115', '1,265', '1,206', '1,504', '1,109',\n",
       "       '1,192', '1,242', '1,107', '1,299', '1,234', '1,380', '1,263',\n",
       "       '1,412', '1,165', '1,215', '1,187', '1,177', '1,168', '1,178',\n",
       "       '1,328', '1,185', '1,211', '1,231', '1,162', '1,226', '1,173',\n",
       "       '1,276', '1,195', '1,641', '1,546', '1,583', '1,703', '1,774',\n",
       "       '1,448', '1,416', '1,503', '1,540', '1,496', '1,631', '1,492',\n",
       "       '1,602', '1,707', '1,596', '1,441'], dtype=object)"
      ]
     },
     "execution_count": 82,
     "metadata": {},
     "output_type": "execute_result"
    }
   ],
   "source": [
    "g95_E5 = df_n['Precio Gasolina 95 E5'].unique()\n",
    "print(len(g95_E5))\n",
    "print(type(g95_E5))\n",
    "g95_E5"
   ]
  },
  {
   "cell_type": "code",
   "execution_count": 83,
   "id": "196f251e",
   "metadata": {},
   "outputs": [],
   "source": [
    "# Convertimos columna categórica a numérica, primero tenemos que sustituir , por .\n",
    "df_n['Precio Gasolina 95 E5']=df_n['Precio Gasolina 95 E5'].str.replace(',','.')\n",
    "df_n[['Precio Gasolina 95 E5']]=df_n[['Precio Gasolina 95 E5']].apply(pd.to_numeric)"
   ]
  },
  {
   "cell_type": "code",
   "execution_count": 84,
   "id": "621ec9bd",
   "metadata": {},
   "outputs": [
    {
     "data": {
      "text/plain": [
       "count    10700.000000\n",
       "mean         1.583196\n",
       "std          0.104773\n",
       "min          0.999000\n",
       "25%          1.539000\n",
       "50%          1.609000\n",
       "75%          1.649000\n",
       "max          2.299000\n",
       "Name: Precio Gasolina 95 E5, dtype: float64"
      ]
     },
     "execution_count": 84,
     "metadata": {},
     "output_type": "execute_result"
    }
   ],
   "source": [
    "df_n['Precio Gasolina 95 E5'].describe()"
   ]
  },
  {
   "cell_type": "code",
   "execution_count": 85,
   "id": "56396333",
   "metadata": {},
   "outputs": [
    {
     "data": {
      "text/plain": [
       "1149"
      ]
     },
     "execution_count": 85,
     "metadata": {},
     "output_type": "execute_result"
    }
   ],
   "source": [
    "# Registros sin venta Gasoleo Premium\n",
    "sin_suministro_g95E5 = df_n['Precio Gasolina 95 E5'].isnull().sum()\n",
    "sin_suministro_g95E5"
   ]
  },
  {
   "cell_type": "code",
   "execution_count": 86,
   "id": "c8cc07ca",
   "metadata": {},
   "outputs": [
    {
     "data": {
      "text/plain": [
       "0"
      ]
     },
     "execution_count": 86,
     "metadata": {},
     "output_type": "execute_result"
    }
   ],
   "source": [
    "ceros_sin_suministro_g95E5  = (df_n['Precio Gasolina 95 E5'] == 0).sum()\n",
    "ceros_sin_suministro_g95E5 "
   ]
  },
  {
   "cell_type": "markdown",
   "id": "fe877ab4",
   "metadata": {},
   "source": [
    "# Precio Gasolina 95 E5 Premium"
   ]
  },
  {
   "cell_type": "code",
   "execution_count": 87,
   "id": "5586de3c",
   "metadata": {},
   "outputs": [
    {
     "name": "stdout",
     "output_type": "stream",
     "text": [
      "104\n",
      "<class 'numpy.ndarray'>\n"
     ]
    },
    {
     "data": {
      "text/plain": [
       "array(['', '1,649', '1,619', '1,714', '1,639', '1,679', '1,735', '1,629',\n",
       "       '1,699', '1,689', '1,669', '1,709', '1,779', '1,724', '1,609',\n",
       "       '1,719', '1,659', '1,755', '1,729', '1,685', '1,524', '1,769',\n",
       "       '1,734', '1,704', '1,498', '1,675', '1,499', '1,431', '1,397',\n",
       "       '1,435', '1,759', '1,789', '1,739', '1,569', '1,749', '1,635',\n",
       "       '1,764', '1,684', '1,654', '1,715', '1,774', '1,784', '1,725',\n",
       "       '1,799', '1,785', '1,744', '1,754', '1,745', '1,664', '1,539',\n",
       "       '1,809', '1,805', '1,765', '1,859', '1,519', '1,795', '1,775',\n",
       "       '1,694', '1,509', '1,568', '1,579', '1,644', '1,627', '1,374',\n",
       "       '1,710', '1,665', '1,549', '1,634', '1,674', '1,899', '1,698',\n",
       "       '1,576', '1,589', '1,559', '1,655', '1,695', '1,728', '1,538',\n",
       "       '1,529', '1,599', '1,586', '1,575', '1,527', '1,518', '1,577',\n",
       "       '1,595', '1,608', '1,648', '1,558', '1,437', '1,733', '1,159',\n",
       "       '1,259', '1,239', '1,199', '1,249', '1,624', '1,456', '1,489',\n",
       "       '1,788', '1,530', '1,727', '1,668', '1,705'], dtype=object)"
      ]
     },
     "execution_count": 87,
     "metadata": {},
     "output_type": "execute_result"
    }
   ],
   "source": [
    "g95_E5_P = df_n['Precio Gasolina 95 E5 Premium'].unique()\n",
    "print(len(g95_E5_P))\n",
    "print(type(g95_E5_P))\n",
    "g95_E5_P"
   ]
  },
  {
   "cell_type": "code",
   "execution_count": 88,
   "id": "4758d3d3",
   "metadata": {},
   "outputs": [],
   "source": [
    "# Convertimos columna categórica a numérica, primero tenemos que sustituir , por .\n",
    "df_n['Precio Gasolina 95 E5 Premium']=df_n['Precio Gasolina 95 E5 Premium'].str.replace(',','.')\n",
    "df_n[['Precio Gasolina 95 E5 Premium']]=df_n[['Precio Gasolina 95 E5 Premium']].apply(pd.to_numeric)"
   ]
  },
  {
   "cell_type": "code",
   "execution_count": 89,
   "id": "7d0a8e3a",
   "metadata": {},
   "outputs": [
    {
     "data": {
      "text/plain": [
       "count    857.000000\n",
       "mean       1.688581\n",
       "std        0.074815\n",
       "min        1.159000\n",
       "25%        1.659000\n",
       "50%        1.699000\n",
       "75%        1.734000\n",
       "max        1.899000\n",
       "Name: Precio Gasolina 95 E5 Premium, dtype: float64"
      ]
     },
     "execution_count": 89,
     "metadata": {},
     "output_type": "execute_result"
    }
   ],
   "source": [
    "df_n['Precio Gasolina 95 E5 Premium'].describe()"
   ]
  },
  {
   "cell_type": "code",
   "execution_count": 90,
   "id": "4a815e9d",
   "metadata": {},
   "outputs": [
    {
     "data": {
      "text/plain": [
       "10992"
      ]
     },
     "execution_count": 90,
     "metadata": {},
     "output_type": "execute_result"
    }
   ],
   "source": [
    "# Registros sin venta Gasolina 95 E5 Premium\n",
    "sin_suministro_g95E5_Prem = df_n['Precio Gasolina 95 E5 Premium'].isnull().sum()\n",
    "sin_suministro_g95E5_Prem"
   ]
  },
  {
   "cell_type": "code",
   "execution_count": 91,
   "id": "7ae51272",
   "metadata": {},
   "outputs": [
    {
     "data": {
      "text/plain": [
       "0"
      ]
     },
     "execution_count": 91,
     "metadata": {},
     "output_type": "execute_result"
    }
   ],
   "source": [
    "ceros_sin_suministro_g95E5_Prem  = (df_n['Precio Gasolina 95 E5 Premium'] == 0).sum()\n",
    "ceros_sin_suministro_g95E5 "
   ]
  },
  {
   "cell_type": "markdown",
   "id": "477ee508",
   "metadata": {},
   "source": [
    "# Precio Gasolina 98 E10"
   ]
  },
  {
   "cell_type": "code",
   "execution_count": 92,
   "id": "3b8c6a20",
   "metadata": {},
   "outputs": [
    {
     "name": "stdout",
     "output_type": "stream",
     "text": [
      "17\n",
      "<class 'numpy.ndarray'>\n"
     ]
    },
    {
     "data": {
      "text/plain": [
       "array(['', '1,799', '1,829', '1,709', '1,589', '1,669', '1,599', '1,689',\n",
       "       '1,995', '1,619', '1,585', '1,729', '1,749', '1,655', '1,739',\n",
       "       '1,349', '1,688'], dtype=object)"
      ]
     },
     "execution_count": 92,
     "metadata": {},
     "output_type": "execute_result"
    }
   ],
   "source": [
    "g98_E10 = df_n['Precio Gasolina 98 E10'].unique()\n",
    "print(len(g98_E10))\n",
    "print(type(g98_E10))\n",
    "g98_E10"
   ]
  },
  {
   "cell_type": "code",
   "execution_count": 93,
   "id": "77f0708e",
   "metadata": {},
   "outputs": [],
   "source": [
    "# Convertimos columna categórica a numérica, primero tenemos que sustituir , por .\n",
    "df_n['Precio Gasolina 98 E10']=df_n['Precio Gasolina 98 E10'].str.replace(',','.')\n",
    "df_n[['Precio Gasolina 98 E10']]=df_n[['Precio Gasolina 98 E10']].apply(pd.to_numeric)"
   ]
  },
  {
   "cell_type": "code",
   "execution_count": 94,
   "id": "0ce30530",
   "metadata": {},
   "outputs": [
    {
     "data": {
      "text/plain": [
       "count    16.000000\n",
       "mean      1.686937\n",
       "std       0.137681\n",
       "min       1.349000\n",
       "25%       1.614000\n",
       "50%       1.688500\n",
       "75%       1.741500\n",
       "max       1.995000\n",
       "Name: Precio Gasolina 98 E10, dtype: float64"
      ]
     },
     "execution_count": 94,
     "metadata": {},
     "output_type": "execute_result"
    }
   ],
   "source": [
    "df_n['Precio Gasolina 98 E10'].describe()"
   ]
  },
  {
   "cell_type": "code",
   "execution_count": 95,
   "id": "7846a3d5",
   "metadata": {},
   "outputs": [
    {
     "data": {
      "text/plain": [
       "11833"
      ]
     },
     "execution_count": 95,
     "metadata": {},
     "output_type": "execute_result"
    }
   ],
   "source": [
    "# Registros sin venta Gasolina 98 E10 \n",
    "sin_suministro_g98E10 = df_n['Precio Gasolina 98 E10'].isnull().sum()\n",
    "sin_suministro_g98E10"
   ]
  },
  {
   "cell_type": "markdown",
   "id": "d0eca28a",
   "metadata": {},
   "source": [
    "# Precio Gasolina 98 E5"
   ]
  },
  {
   "cell_type": "code",
   "execution_count": 96,
   "id": "b948ed78",
   "metadata": {},
   "outputs": [
    {
     "name": "stdout",
     "output_type": "stream",
     "text": [
      "392\n",
      "<class 'numpy.ndarray'>\n"
     ]
    },
    {
     "data": {
      "text/plain": [
       "array(['', '2,200', '1,729', '1,751', '1,759', '1,549', '1,769', '1,699',\n",
       "       '2,369', '1,681', '1,719', '1,741', '1,749', '1,779', '1,739',\n",
       "       '1,799', '1,781', '1,819', '1,709', '1,798', '1,789', '1,691',\n",
       "       '1,889', '1,689', '1,695', '1,731', '1,804', '1,679', '1,809',\n",
       "       '1,811', '1,774', '1,791', '1,744', '1,676', '1,764', '1,753',\n",
       "       '1,758', '1,999', '1,829', '1,848', '1,757', '1,821', '1,795',\n",
       "       '1,851', '1,771', '1,839', '1,849', '1,766', '1,765', '1,585',\n",
       "       '1,706', '1,740', '1,820', '1,796', '1,776', '1,825', '1,754',\n",
       "       '2,999', '1,599', '1,831', '1,806', '1,877', '1,669', '1,746',\n",
       "       '1,761', '1,638', '1,745', '1,436', '1,800', '1,780', '2,000',\n",
       "       '1,869', '1,625', '1,841', '1,750', '1,896', '1,775', '1,786',\n",
       "       '1,619', '1,629', '1,721', '1,715', '1,698', '1,838', '1,788',\n",
       "       '1,620', '1,861', '1,802', '1,919', '1,801', '1,760', '1,846',\n",
       "       '1,834', '1,827', '1,816', '1,730', '1,859', '1,784', '1,725',\n",
       "       '1,724', '1,579', '1,684', '1,678', '1,785', '1,792', '1,658',\n",
       "       '1,697', '1,879', '1,856', '1,837', '1,836', '1,815', '1,768',\n",
       "       '1,805', '1,828', '1,826', '1,639', '1,847', '1,705', '1,866',\n",
       "       '1,652', '1,881', '1,875', '1,854', '1,871', '1,631', '1,787',\n",
       "       '1,756', '1,662', '1,794', '1,502', '1,822', '1,860', '1,694',\n",
       "       '1,589', '1,614', '1,675', '1,770', '1,656', '1,845', '1,505',\n",
       "       '1,665', '1,680', '1,499', '1,659', '1,650', '1,604', '1,634',\n",
       "       '1,635', '1,865', '1,899', '1,685', '1,961', '1,738', '1,773',\n",
       "       '1,909', '1,818', '1,949', '1,710', '1,748', '1,644', '1,734',\n",
       "       '1,736', '1,582', '1,700', '1,814', '1,529', '1,714', '1,778',\n",
       "       '1,324', '1,328', '1,649', '2,109', '2,119', '2,229', '1,726',\n",
       "       '1,716', '1,569', '1,661', '1,898', '1,657', '1,696', '1,817',\n",
       "       '1,712', '1,686', '1,888', '1,735', '1,855', '1,500', '1,718',\n",
       "       '1,777', '1,808', '1,702', '1,830', '1,797', '2,139', '1,872',\n",
       "       '1,867', '1,575', '1,824', '1,720', '1,600', '1,763', '1,668',\n",
       "       '1,651', '2,500', '1,664', '1,790', '1,711', '2,199', '1,690',\n",
       "       '1,630', '2,299', '1,460', '1,762', '1,615', '1,565', '1,534',\n",
       "       '1,727', '1,507', '1,584', '1,618', '1,703', '1,772', '2,020',\n",
       "       '1,509', '1,609', '1,641', '1,637', '1,667', '1,647', '1,728',\n",
       "       '1,793', '1,840', '1,546', '1,813', '1,782', '2,239', '1,755',\n",
       "       '1,890', '1,597', '1,655', '1,621', '1,674', '1,743', '1,701',\n",
       "       '1,812', '1,587', '1,598', '1,550', '1,555', '1,359', '1,279',\n",
       "       '1,209', '1,249', '1,229', '1,250', '1,274', '1,289', '1,244',\n",
       "       '1,299', '1,369', '1,454', '1,488', '1,455', '1,477', '1,470',\n",
       "       '1,458', '1,469', '1,449', '1,523', '1,389', '1,379', '1,344',\n",
       "       '1,354', '1,276', '1,329', '1,349', '1,399', '1,199', '1,225',\n",
       "       '1,350', '1,415', '1,450', '1,539', '1,677', '1,339', '1,374',\n",
       "       '1,319', '1,264', '1,362', '1,358', '1,364', '1,337', '1,340',\n",
       "       '1,475', '1,400', '1,385', '1,473', '1,484', '1,334', '1,356',\n",
       "       '1,459', '1,310', '1,309', '1,305', '1,314', '1,179', '1,320',\n",
       "       '1,304', '1,247', '1,306', '1,419', '1,418', '1,468', '1,494',\n",
       "       '1,380', '1,503', '1,357', '1,425', '1,559', '1,878', '1,747',\n",
       "       '1,708', '1,537', '1,497', '1,654', '1,220', '1,318', '1,444',\n",
       "       '1,301', '1,291', '1,290', '1,333', '1,239', '1,284', '1,335',\n",
       "       '1,224', '1,308', '1,302', '1,627', '1,219', '1,332', '1,227',\n",
       "       '1,375', '1,551', '1,372', '1,535', '1,322', '1,295', '1,312',\n",
       "       '1,352', '1,298', '1,307', '1,438', '1,330', '1,294', '1,303',\n",
       "       '1,288', '1,348', '1,323', '1,321', '1,315', '1,429', '1,285',\n",
       "       '1,297', '1,269', '1,327', '1,405', '1,326', '1,115', '1,683',\n",
       "       '1,868', '2,219', '1,595', '1,862', '2,450', '1,670', '1,833',\n",
       "       '1,704', '1,707', '1,737', '2,220', '1,835', '1,590', '1,844',\n",
       "       '1,617', '1,576', '1,857', '2,038', '1,979', '1,687'], dtype=object)"
      ]
     },
     "execution_count": 96,
     "metadata": {},
     "output_type": "execute_result"
    }
   ],
   "source": [
    "g98_E5 = df_n['Precio Gasolina 98 E5'].unique()\n",
    "print(len(g98_E5))\n",
    "print(type(g98_E5))\n",
    "g98_E5"
   ]
  },
  {
   "cell_type": "code",
   "execution_count": 97,
   "id": "4763d458",
   "metadata": {},
   "outputs": [],
   "source": [
    "# Convertimos columna categórica a numérica, primero tenemos que sustituir , por .\n",
    "df_n['Precio Gasolina 98 E5']=df_n['Precio Gasolina 98 E5'].str.replace(',','.')\n",
    "df_n[['Precio Gasolina 98 E5']]=df_n[['Precio Gasolina 98 E5']].apply(pd.to_numeric)"
   ]
  },
  {
   "cell_type": "code",
   "execution_count": 98,
   "id": "767e87d9",
   "metadata": {},
   "outputs": [
    {
     "data": {
      "text/plain": [
       "count    5852.000000\n",
       "mean        1.740466\n",
       "std         0.130185\n",
       "min         1.115000\n",
       "25%         1.729000\n",
       "50%         1.769000\n",
       "75%         1.805250\n",
       "max         2.999000\n",
       "Name: Precio Gasolina 98 E5, dtype: float64"
      ]
     },
     "execution_count": 98,
     "metadata": {},
     "output_type": "execute_result"
    }
   ],
   "source": [
    "df_n['Precio Gasolina 98 E5'].describe()"
   ]
  },
  {
   "cell_type": "code",
   "execution_count": 99,
   "id": "d9fb7e91",
   "metadata": {},
   "outputs": [
    {
     "data": {
      "text/plain": [
       "5997"
      ]
     },
     "execution_count": 99,
     "metadata": {},
     "output_type": "execute_result"
    }
   ],
   "source": [
    "# Registros sin venta Gasolina 98 E5 \n",
    "sin_suministro_g98E5 = df_n['Precio Gasolina 98 E5'].isnull().sum()\n",
    "sin_suministro_g98E5"
   ]
  },
  {
   "cell_type": "code",
   "execution_count": 100,
   "id": "ad3ee76b",
   "metadata": {},
   "outputs": [
    {
     "data": {
      "text/plain": [
       "0"
      ]
     },
     "execution_count": 100,
     "metadata": {},
     "output_type": "execute_result"
    }
   ],
   "source": [
    "ceros_sin_suministro_g98E5  = (df_n['Precio Gasolina 98 E5'] == 0).sum()\n",
    "ceros_sin_suministro_g98E5 "
   ]
  },
  {
   "cell_type": "markdown",
   "id": "d8566cb1",
   "metadata": {},
   "source": [
    "# Precio Hidrogeno "
   ]
  },
  {
   "cell_type": "code",
   "execution_count": 101,
   "id": "8092ec5a",
   "metadata": {},
   "outputs": [
    {
     "name": "stdout",
     "output_type": "stream",
     "text": [
      "1\n",
      "<class 'numpy.ndarray'>\n"
     ]
    },
    {
     "data": {
      "text/plain": [
       "array([''], dtype=object)"
      ]
     },
     "execution_count": 101,
     "metadata": {},
     "output_type": "execute_result"
    }
   ],
   "source": [
    "Hidrongeno = df_n['Precio Hidrogeno'].unique()\n",
    "print(len(Hidrongeno))\n",
    "print(type(Hidrongeno))\n",
    "Hidrongeno"
   ]
  },
  {
   "cell_type": "code",
   "execution_count": 102,
   "id": "38acbbd6",
   "metadata": {},
   "outputs": [],
   "source": [
    "# Convertimos columna categórica a numérica, primero tenemos que sustituir , por .\n",
    "df_n['Precio Hidrogeno']=df_n['Precio Hidrogeno'].str.replace(',','.')\n",
    "df_n[['Precio Hidrogeno']]=df_n[['Precio Hidrogeno']].apply(pd.to_numeric)"
   ]
  },
  {
   "cell_type": "code",
   "execution_count": 103,
   "id": "1b19941a",
   "metadata": {},
   "outputs": [
    {
     "data": {
      "text/plain": [
       "count    0.0\n",
       "mean     NaN\n",
       "std      NaN\n",
       "min      NaN\n",
       "25%      NaN\n",
       "50%      NaN\n",
       "75%      NaN\n",
       "max      NaN\n",
       "Name: Precio Hidrogeno, dtype: float64"
      ]
     },
     "execution_count": 103,
     "metadata": {},
     "output_type": "execute_result"
    }
   ],
   "source": [
    "df_n['Precio Hidrogeno'].describe()"
   ]
  },
  {
   "cell_type": "code",
   "execution_count": 104,
   "id": "c6802106",
   "metadata": {},
   "outputs": [
    {
     "name": "stdout",
     "output_type": "stream",
     "text": [
      "<class 'pandas.core.frame.DataFrame'>\n",
      "RangeIndex: 11849 entries, 0 to 11848\n",
      "Data columns (total 33 columns):\n",
      " #   Column                              Non-Null Count  Dtype  \n",
      "---  ------                              --------------  -----  \n",
      " 0   Fecha                               11849 non-null  object \n",
      " 1   C.P.                                11849 non-null  object \n",
      " 2   Dirección                           11849 non-null  object \n",
      " 3   Horario                             11849 non-null  object \n",
      " 4   Latitud                             11849 non-null  object \n",
      " 5   Localidad                           11849 non-null  object \n",
      " 6   Longitud (WGS84)                    11849 non-null  object \n",
      " 7   Margen                              11849 non-null  object \n",
      " 8   Municipio                           11849 non-null  object \n",
      " 9   Precio Biodiesel                    36 non-null     float64\n",
      " 10  Precio Bioetanol                    5 non-null      float64\n",
      " 11  Precio Gas Natural Comprimido       141 non-null    float64\n",
      " 12  Precio Gas Natural Licuado          91 non-null     float64\n",
      " 13  Precio Gases licuados del petróleo  872 non-null    float64\n",
      " 14  Precio Gasoleo A                    11495 non-null  float64\n",
      " 15  Precio Gasoleo B                    3000 non-null   float64\n",
      " 16  Precio Gasoleo Premium              7480 non-null   float64\n",
      " 17  Precio Gasolina 95 E10              24 non-null     float64\n",
      " 18  Precio Gasolina 95 E5               10700 non-null  float64\n",
      " 19  Precio Gasolina 95 E5 Premium       857 non-null    float64\n",
      " 20  Precio Gasolina 98 E10              16 non-null     float64\n",
      " 21  Precio Gasolina 98 E5               5852 non-null   float64\n",
      " 22  Precio Hidrogeno                    0 non-null      float64\n",
      " 23  Provincia                           11849 non-null  object \n",
      " 24  Remisión                            11849 non-null  object \n",
      " 25  Rótulo                              11849 non-null  object \n",
      " 26  Tipo Venta                          11849 non-null  object \n",
      " 27  % BioEtanol                         11849 non-null  object \n",
      " 28  % Éster metílico                    11849 non-null  object \n",
      " 29  IDEESS                              11849 non-null  object \n",
      " 30  IDMunicipio                         11849 non-null  object \n",
      " 31  IDProvincia                         11849 non-null  object \n",
      " 32  IDCCAA                              11849 non-null  object \n",
      "dtypes: float64(14), object(19)\n",
      "memory usage: 3.0+ MB\n"
     ]
    }
   ],
   "source": [
    "df_n.info()"
   ]
  },
  {
   "cell_type": "markdown",
   "id": "0b486d1c",
   "metadata": {},
   "source": [
    "---\n",
    "Setp 3\n",
    "\n",
    "# Limpieza de Columnas"
   ]
  },
  {
   "cell_type": "code",
   "execution_count": 105,
   "id": "58959813",
   "metadata": {},
   "outputs": [],
   "source": [
    "# Eliminiación de columnas que no interesan a nivel usuario o que no aportan datos significativos al modelo\n",
    "df_n.drop(['Margen', 'Remisión', 'Tipo Venta', '% BioEtanol', '% Éster metílico', 'Precio Biodiesel',\n",
    "          'Precio Bioetanol', 'Precio Gas Natural Comprimido', 'Precio Gas Natural Licuado', \n",
    "          'Precio Gas Natural Licuado', 'Precio Gases licuados del petróleo', 'Precio Gasolina 95 E10',\n",
    "          'Precio Gasolina 95 E5 Premium', 'Precio Gasolina 98 E10', 'Precio Hidrogeno'], axis=1, inplace=True)\n"
   ]
  },
  {
   "cell_type": "code",
   "execution_count": 106,
   "id": "1f4e6f15",
   "metadata": {},
   "outputs": [
    {
     "data": {
      "text/plain": [
       "Precio Gasoleo B    NaN\n",
       "Name: 15, dtype: object"
      ]
     },
     "execution_count": 106,
     "metadata": {},
     "output_type": "execute_result"
    }
   ],
   "source": [
    "# Comprobación\n",
    "df_n.iloc[15][['Precio Gasoleo B']]"
   ]
  },
  {
   "cell_type": "code",
   "execution_count": 107,
   "id": "a9fe557e",
   "metadata": {},
   "outputs": [
    {
     "data": {
      "text/html": [
       "<div>\n",
       "<style scoped>\n",
       "    .dataframe tbody tr th:only-of-type {\n",
       "        vertical-align: middle;\n",
       "    }\n",
       "\n",
       "    .dataframe tbody tr th {\n",
       "        vertical-align: top;\n",
       "    }\n",
       "\n",
       "    .dataframe thead th {\n",
       "        text-align: right;\n",
       "    }\n",
       "</style>\n",
       "<table border=\"1\" class=\"dataframe\">\n",
       "  <thead>\n",
       "    <tr style=\"text-align: right;\">\n",
       "      <th></th>\n",
       "      <th>Fecha</th>\n",
       "      <th>C.P.</th>\n",
       "      <th>Dirección</th>\n",
       "      <th>Horario</th>\n",
       "      <th>Latitud</th>\n",
       "      <th>Localidad</th>\n",
       "      <th>Longitud (WGS84)</th>\n",
       "      <th>Municipio</th>\n",
       "      <th>Precio Gasoleo A</th>\n",
       "      <th>Precio Gasoleo B</th>\n",
       "      <th>Precio Gasoleo Premium</th>\n",
       "      <th>Precio Gasolina 95 E5</th>\n",
       "      <th>Precio Gasolina 98 E5</th>\n",
       "      <th>Provincia</th>\n",
       "      <th>Rótulo</th>\n",
       "      <th>IDEESS</th>\n",
       "      <th>IDMunicipio</th>\n",
       "      <th>IDProvincia</th>\n",
       "      <th>IDCCAA</th>\n",
       "    </tr>\n",
       "  </thead>\n",
       "  <tbody>\n",
       "    <tr>\n",
       "      <th>0</th>\n",
       "      <td>04/07/2023 11:47:58</td>\n",
       "      <td>02250</td>\n",
       "      <td>AVENIDA CASTILLA LA MANCHA, 26</td>\n",
       "      <td>L-D: 07:00-22:00</td>\n",
       "      <td>39,211417</td>\n",
       "      <td>ABENGIBRE</td>\n",
       "      <td>-1,539167</td>\n",
       "      <td>Abengibre</td>\n",
       "      <td>1.359</td>\n",
       "      <td>0.999</td>\n",
       "      <td>NaN</td>\n",
       "      <td>1.549</td>\n",
       "      <td>NaN</td>\n",
       "      <td>ALBACETE</td>\n",
       "      <td>Nº 10.935</td>\n",
       "      <td>4375</td>\n",
       "      <td>52</td>\n",
       "      <td>02</td>\n",
       "      <td>07</td>\n",
       "    </tr>\n",
       "    <tr>\n",
       "      <th>1</th>\n",
       "      <td>04/07/2023 11:47:58</td>\n",
       "      <td>02152</td>\n",
       "      <td>CR CM-332, 46,4</td>\n",
       "      <td>L-D: 7:00-23:00</td>\n",
       "      <td>39,100389</td>\n",
       "      <td>ALATOZ</td>\n",
       "      <td>-1,346083</td>\n",
       "      <td>Alatoz</td>\n",
       "      <td>1.530</td>\n",
       "      <td>NaN</td>\n",
       "      <td>2.300</td>\n",
       "      <td>1.679</td>\n",
       "      <td>2.200</td>\n",
       "      <td>ALBACETE</td>\n",
       "      <td>REPSOL</td>\n",
       "      <td>5122</td>\n",
       "      <td>53</td>\n",
       "      <td>02</td>\n",
       "      <td>07</td>\n",
       "    </tr>\n",
       "    <tr>\n",
       "      <th>2</th>\n",
       "      <td>04/07/2023 11:47:58</td>\n",
       "      <td>02001</td>\n",
       "      <td>CALLE FEDERICO GARCIA LORCA, 1</td>\n",
       "      <td>L-D: 24H</td>\n",
       "      <td>39,000861</td>\n",
       "      <td>ALBACETE</td>\n",
       "      <td>-1,849833</td>\n",
       "      <td>Albacete</td>\n",
       "      <td>1.299</td>\n",
       "      <td>NaN</td>\n",
       "      <td>NaN</td>\n",
       "      <td>1.459</td>\n",
       "      <td>NaN</td>\n",
       "      <td>ALBACETE</td>\n",
       "      <td>PLENOIL</td>\n",
       "      <td>13933</td>\n",
       "      <td>54</td>\n",
       "      <td>02</td>\n",
       "      <td>07</td>\n",
       "    </tr>\n",
       "    <tr>\n",
       "      <th>3</th>\n",
       "      <td>04/07/2023 11:47:58</td>\n",
       "      <td>02001</td>\n",
       "      <td>AVENIDA 1º DE MAYO, S/N</td>\n",
       "      <td>L-S: 08:00-22:00; D: 09:00-21:00</td>\n",
       "      <td>38,985667</td>\n",
       "      <td>ALBACETE</td>\n",
       "      <td>-1,868500</td>\n",
       "      <td>Albacete</td>\n",
       "      <td>1.459</td>\n",
       "      <td>NaN</td>\n",
       "      <td>1.499</td>\n",
       "      <td>1.609</td>\n",
       "      <td>1.729</td>\n",
       "      <td>ALBACETE</td>\n",
       "      <td>CARREFOUR</td>\n",
       "      <td>10765</td>\n",
       "      <td>54</td>\n",
       "      <td>02</td>\n",
       "      <td>07</td>\n",
       "    </tr>\n",
       "    <tr>\n",
       "      <th>4</th>\n",
       "      <td>04/07/2023 11:47:58</td>\n",
       "      <td>02001</td>\n",
       "      <td>CALLE PRINCIPE DE ASTURIAS (POLÍGONO DE ROMICA...</td>\n",
       "      <td>L-D: 06:00-21:30</td>\n",
       "      <td>39,054694</td>\n",
       "      <td>ALBACETE</td>\n",
       "      <td>-1,832000</td>\n",
       "      <td>Albacete</td>\n",
       "      <td>1.469</td>\n",
       "      <td>NaN</td>\n",
       "      <td>1.559</td>\n",
       "      <td>1.609</td>\n",
       "      <td>1.751</td>\n",
       "      <td>ALBACETE</td>\n",
       "      <td>BP ROMICA</td>\n",
       "      <td>12054</td>\n",
       "      <td>54</td>\n",
       "      <td>02</td>\n",
       "      <td>07</td>\n",
       "    </tr>\n",
       "  </tbody>\n",
       "</table>\n",
       "</div>"
      ],
      "text/plain": [
       "                 Fecha   C.P.  \\\n",
       "0  04/07/2023 11:47:58  02250   \n",
       "1  04/07/2023 11:47:58  02152   \n",
       "2  04/07/2023 11:47:58  02001   \n",
       "3  04/07/2023 11:47:58  02001   \n",
       "4  04/07/2023 11:47:58  02001   \n",
       "\n",
       "                                           Dirección  \\\n",
       "0                     AVENIDA CASTILLA LA MANCHA, 26   \n",
       "1                                    CR CM-332, 46,4   \n",
       "2                     CALLE FEDERICO GARCIA LORCA, 1   \n",
       "3                            AVENIDA 1º DE MAYO, S/N   \n",
       "4  CALLE PRINCIPE DE ASTURIAS (POLÍGONO DE ROMICA...   \n",
       "\n",
       "                            Horario    Latitud  Localidad Longitud (WGS84)  \\\n",
       "0                  L-D: 07:00-22:00  39,211417  ABENGIBRE        -1,539167   \n",
       "1                   L-D: 7:00-23:00  39,100389     ALATOZ        -1,346083   \n",
       "2                          L-D: 24H  39,000861   ALBACETE        -1,849833   \n",
       "3  L-S: 08:00-22:00; D: 09:00-21:00  38,985667   ALBACETE        -1,868500   \n",
       "4                  L-D: 06:00-21:30  39,054694   ALBACETE        -1,832000   \n",
       "\n",
       "   Municipio  Precio Gasoleo A  Precio Gasoleo B  Precio Gasoleo Premium  \\\n",
       "0  Abengibre             1.359             0.999                     NaN   \n",
       "1     Alatoz             1.530               NaN                   2.300   \n",
       "2   Albacete             1.299               NaN                     NaN   \n",
       "3   Albacete             1.459               NaN                   1.499   \n",
       "4   Albacete             1.469               NaN                   1.559   \n",
       "\n",
       "   Precio Gasolina 95 E5  Precio Gasolina 98 E5 Provincia     Rótulo IDEESS  \\\n",
       "0                  1.549                    NaN  ALBACETE  Nº 10.935   4375   \n",
       "1                  1.679                  2.200  ALBACETE     REPSOL   5122   \n",
       "2                  1.459                    NaN  ALBACETE    PLENOIL  13933   \n",
       "3                  1.609                  1.729  ALBACETE  CARREFOUR  10765   \n",
       "4                  1.609                  1.751  ALBACETE  BP ROMICA  12054   \n",
       "\n",
       "  IDMunicipio IDProvincia IDCCAA  \n",
       "0          52          02     07  \n",
       "1          53          02     07  \n",
       "2          54          02     07  \n",
       "3          54          02     07  \n",
       "4          54          02     07  "
      ]
     },
     "execution_count": 107,
     "metadata": {},
     "output_type": "execute_result"
    }
   ],
   "source": [
    "df_n.head()"
   ]
  },
  {
   "cell_type": "code",
   "execution_count": 108,
   "id": "d7336670",
   "metadata": {},
   "outputs": [
    {
     "data": {
      "text/html": [
       "<div>\n",
       "<style scoped>\n",
       "    .dataframe tbody tr th:only-of-type {\n",
       "        vertical-align: middle;\n",
       "    }\n",
       "\n",
       "    .dataframe tbody tr th {\n",
       "        vertical-align: top;\n",
       "    }\n",
       "\n",
       "    .dataframe thead th {\n",
       "        text-align: right;\n",
       "    }\n",
       "</style>\n",
       "<table border=\"1\" class=\"dataframe\">\n",
       "  <thead>\n",
       "    <tr style=\"text-align: right;\">\n",
       "      <th></th>\n",
       "      <th>Fecha</th>\n",
       "      <th>C.P.</th>\n",
       "      <th>Dirección</th>\n",
       "      <th>Horario</th>\n",
       "      <th>Latitud</th>\n",
       "      <th>Localidad</th>\n",
       "      <th>Longitud (WGS84)</th>\n",
       "      <th>Municipio</th>\n",
       "      <th>Gasoleo A</th>\n",
       "      <th>Gasoleo B</th>\n",
       "      <th>Gasoleo Premium</th>\n",
       "      <th>Gasolina 95 E5</th>\n",
       "      <th>Gasolina 98 E5</th>\n",
       "      <th>Provincia</th>\n",
       "      <th>Proveedor de Servicio</th>\n",
       "      <th>IDEESS</th>\n",
       "      <th>IDMunicipio</th>\n",
       "      <th>IDProvincia</th>\n",
       "      <th>IDCCAA</th>\n",
       "    </tr>\n",
       "  </thead>\n",
       "  <tbody>\n",
       "    <tr>\n",
       "      <th>0</th>\n",
       "      <td>04/07/2023 11:47:58</td>\n",
       "      <td>02250</td>\n",
       "      <td>AVENIDA CASTILLA LA MANCHA, 26</td>\n",
       "      <td>L-D: 07:00-22:00</td>\n",
       "      <td>39,211417</td>\n",
       "      <td>ABENGIBRE</td>\n",
       "      <td>-1,539167</td>\n",
       "      <td>Abengibre</td>\n",
       "      <td>1.359</td>\n",
       "      <td>0.999</td>\n",
       "      <td>NaN</td>\n",
       "      <td>1.549</td>\n",
       "      <td>NaN</td>\n",
       "      <td>ALBACETE</td>\n",
       "      <td>Nº 10.935</td>\n",
       "      <td>4375</td>\n",
       "      <td>52</td>\n",
       "      <td>02</td>\n",
       "      <td>07</td>\n",
       "    </tr>\n",
       "  </tbody>\n",
       "</table>\n",
       "</div>"
      ],
      "text/plain": [
       "                 Fecha   C.P.                       Dirección  \\\n",
       "0  04/07/2023 11:47:58  02250  AVENIDA CASTILLA LA MANCHA, 26   \n",
       "\n",
       "            Horario    Latitud  Localidad Longitud (WGS84)  Municipio  \\\n",
       "0  L-D: 07:00-22:00  39,211417  ABENGIBRE        -1,539167  Abengibre   \n",
       "\n",
       "   Gasoleo A  Gasoleo B  Gasoleo Premium  Gasolina 95 E5  Gasolina 98 E5  \\\n",
       "0      1.359      0.999              NaN           1.549             NaN   \n",
       "\n",
       "  Provincia Proveedor de Servicio IDEESS IDMunicipio IDProvincia IDCCAA  \n",
       "0  ALBACETE             Nº 10.935   4375          52          02     07  "
      ]
     },
     "execution_count": 108,
     "metadata": {},
     "output_type": "execute_result"
    }
   ],
   "source": [
    "# Renombramos las columnas\n",
    "df_n.rename(columns={\"Precio Gasoleo A\": \"Gasoleo A\", \"Precio Gasoleo B\": \"Gasoleo B\" ,\"Precio Gasoleo Premium\": \"Gasoleo Premium\", \n",
    "                     \"Precio Gasolina 95 E5\": \"Gasolina 95 E5\", \"Precio Gasolina 98 E5\": \"Gasolina 98 E5\",\n",
    "                     \"Rótulo\":\"Proveedor de Servicio\"}, inplace=True)\n",
    "df_n.head(1)"
   ]
  },
  {
   "cell_type": "code",
   "execution_count": 109,
   "id": "365e7b0f",
   "metadata": {},
   "outputs": [],
   "source": [
    "# Media Nacional\n",
    "df_n['Media Nacional Gasoleo A']=df_n['Gasoleo A'].mean()\n",
    "df_n['Media Nacional Gasoleo B']=df_n['Gasoleo B'].mean()\n",
    "df_n['Media Nacional Gasoleo P'] = df_n['Gasoleo Premium'].mean()\n",
    "df_n['Media Nacional Gasolina 95']=df_n['Gasolina 95 E5'].mean()\n",
    "df_n['Media Nacional Gasolina 98']=df_n['Gasolina 98 E5'].mean()\n"
   ]
  },
  {
   "cell_type": "code",
   "execution_count": 110,
   "id": "92b44a14",
   "metadata": {},
   "outputs": [],
   "source": [
    "# Desviación (eliminanos porque no aporta información va)\n",
    "#df_n['dev_Gasoleo A']= df_n['Gasoleo A'] - df_n['Media_Gasoleo A']\n",
    "#df_n['dev_Gasoleo B'] =df_n['Gasoleo B'] - df_n['Media_Gasoleo B']\n",
    "#df_n['dev_Gasoleo Prem'] =df_n['Gasoleo Premium'] - df_n['Media_Gasoleo Prem']\n",
    "#df_n['dev_Gasolina 95']=df_n['Gasolina 95 E5'] - df_n['Media_Gasolina 95']\n",
    "#df_n['dev_Gasolina 98']=df_n['Gasolina 98 E5']- df_n['Media_Gasolina 98']\n"
   ]
  },
  {
   "cell_type": "markdown",
   "id": "d3a6aefe",
   "metadata": {},
   "source": [
    "# Media de precios respecto al código postal"
   ]
  },
  {
   "cell_type": "code",
   "execution_count": 111,
   "id": "2209ce36",
   "metadata": {},
   "outputs": [],
   "source": [
    "# Media Código Postal de Gasoleo A\n",
    "def cp_media_A(x):\n",
    "# x = Código Postal\n",
    "    cod_postal = df_n[df_n['C.P.'] == x]\n",
    "    media_cp_GA = cod_postal[['Gasoleo A']].mean()\n",
    "    return media_cp_GA"
   ]
  },
  {
   "cell_type": "code",
   "execution_count": 112,
   "id": "5875ac4a",
   "metadata": {},
   "outputs": [],
   "source": [
    "# Media Código Postal de Gasoleo B\n",
    "def cp_media_B(x):\n",
    "# x = Código Postal\n",
    "    cod_postal = df_n[df_n['C.P.'] == x]\n",
    "    media_cp_GB = cod_postal[['Gasoleo B']].mean()\n",
    "    return media_cp_GB"
   ]
  },
  {
   "cell_type": "code",
   "execution_count": 113,
   "id": "64d8473f",
   "metadata": {},
   "outputs": [],
   "source": [
    "# Media Código Postal de Gasoleo Premium\n",
    "def cp_media_P(x):\n",
    "# x = Código Postal\n",
    "    cod_postal = df_n[df_n['C.P.'] == x]\n",
    "    media_cp_GP = cod_postal[['Gasoleo B']].mean()\n",
    "    return media_cp_GP"
   ]
  },
  {
   "cell_type": "code",
   "execution_count": 114,
   "id": "bc519ea4",
   "metadata": {},
   "outputs": [],
   "source": [
    "# Media Código Postal de Gasolina 95 E5\n",
    "def cp_media_95(x):\n",
    "# x = Código Postal\n",
    "    cod_postal = df_n[df_n['C.P.'] == x]\n",
    "    media_cp_G95 = cod_postal[['Gasolina 95 E5']].mean()\n",
    "    return media_cp_G95"
   ]
  },
  {
   "cell_type": "code",
   "execution_count": 115,
   "id": "f61528f9",
   "metadata": {},
   "outputs": [],
   "source": [
    "# Media Código Postal de Gasolina 98 E5\n",
    "def cp_media_98(x):\n",
    "# x = Código Postal\n",
    "    cod_postal = df_n[df_n['C.P.'] == x]\n",
    "    media_cp_G98 = cod_postal[['Gasolina 98 E5']].mean()\n",
    "    return media_cp_G98"
   ]
  },
  {
   "cell_type": "code",
   "execution_count": 116,
   "id": "14655438",
   "metadata": {
    "scrolled": true
   },
   "outputs": [
    {
     "data": {
      "text/plain": [
       "Gasolina 95 E5    1.5435\n",
       "dtype: float64"
      ]
     },
     "execution_count": 116,
     "metadata": {},
     "output_type": "execute_result"
    }
   ],
   "source": [
    "# Comprobación\n",
    "cp_media_95('28760')"
   ]
  },
  {
   "cell_type": "code",
   "execution_count": 117,
   "id": "2c36f287",
   "metadata": {},
   "outputs": [],
   "source": [
    "# Aplicamos la función a la columna\n",
    "df_n[['Media C.P. Gasoleo A']]= df_n['C.P.'].apply(cp_media_A)\n",
    "df_n[['Media C.P. Gasoleo B']]= df_n['C.P.'].apply(cp_media_B)\n",
    "df_n[['Media C.P. Gasoleo P']]= df_n['C.P.'].apply(cp_media_P)\n",
    "df_n[['Media C.P. Gasolina 95']]= df_n['C.P.'].apply(cp_media_95)\n",
    "df_n[['Media C.P. Gasolina 98']]= df_n['C.P.'].apply(cp_media_98)"
   ]
  },
  {
   "cell_type": "code",
   "execution_count": 118,
   "id": "52c69724",
   "metadata": {
    "scrolled": true
   },
   "outputs": [
    {
     "data": {
      "text/html": [
       "<div>\n",
       "<style scoped>\n",
       "    .dataframe tbody tr th:only-of-type {\n",
       "        vertical-align: middle;\n",
       "    }\n",
       "\n",
       "    .dataframe tbody tr th {\n",
       "        vertical-align: top;\n",
       "    }\n",
       "\n",
       "    .dataframe thead th {\n",
       "        text-align: right;\n",
       "    }\n",
       "</style>\n",
       "<table border=\"1\" class=\"dataframe\">\n",
       "  <thead>\n",
       "    <tr style=\"text-align: right;\">\n",
       "      <th></th>\n",
       "      <th>Fecha</th>\n",
       "      <th>C.P.</th>\n",
       "      <th>Dirección</th>\n",
       "      <th>Horario</th>\n",
       "      <th>Latitud</th>\n",
       "      <th>Localidad</th>\n",
       "      <th>Longitud (WGS84)</th>\n",
       "      <th>Municipio</th>\n",
       "      <th>Gasoleo A</th>\n",
       "      <th>Gasoleo B</th>\n",
       "      <th>...</th>\n",
       "      <th>Media Nacional Gasoleo A</th>\n",
       "      <th>Media Nacional Gasoleo B</th>\n",
       "      <th>Media Nacional Gasoleo P</th>\n",
       "      <th>Media Nacional Gasolina 95</th>\n",
       "      <th>Media Nacional Gasolina 98</th>\n",
       "      <th>Media C.P. Gasoleo A</th>\n",
       "      <th>Media C.P. Gasoleo B</th>\n",
       "      <th>Media C.P. Gasoleo P</th>\n",
       "      <th>Media C.P. Gasolina 95</th>\n",
       "      <th>Media C.P. Gasolina 98</th>\n",
       "    </tr>\n",
       "  </thead>\n",
       "  <tbody>\n",
       "    <tr>\n",
       "      <th>0</th>\n",
       "      <td>04/07/2023 11:47:58</td>\n",
       "      <td>02250</td>\n",
       "      <td>AVENIDA CASTILLA LA MANCHA, 26</td>\n",
       "      <td>L-D: 07:00-22:00</td>\n",
       "      <td>39,211417</td>\n",
       "      <td>ABENGIBRE</td>\n",
       "      <td>-1,539167</td>\n",
       "      <td>Abengibre</td>\n",
       "      <td>1.359</td>\n",
       "      <td>0.999</td>\n",
       "      <td>...</td>\n",
       "      <td>1.429692</td>\n",
       "      <td>1.118465</td>\n",
       "      <td>1.536501</td>\n",
       "      <td>1.583196</td>\n",
       "      <td>1.740466</td>\n",
       "      <td>1.35900</td>\n",
       "      <td>0.999</td>\n",
       "      <td>0.999</td>\n",
       "      <td>1.549</td>\n",
       "      <td>NaN</td>\n",
       "    </tr>\n",
       "    <tr>\n",
       "      <th>1</th>\n",
       "      <td>04/07/2023 11:47:58</td>\n",
       "      <td>02152</td>\n",
       "      <td>CR CM-332, 46,4</td>\n",
       "      <td>L-D: 7:00-23:00</td>\n",
       "      <td>39,100389</td>\n",
       "      <td>ALATOZ</td>\n",
       "      <td>-1,346083</td>\n",
       "      <td>Alatoz</td>\n",
       "      <td>1.530</td>\n",
       "      <td>NaN</td>\n",
       "      <td>...</td>\n",
       "      <td>1.429692</td>\n",
       "      <td>1.118465</td>\n",
       "      <td>1.536501</td>\n",
       "      <td>1.583196</td>\n",
       "      <td>1.740466</td>\n",
       "      <td>1.53000</td>\n",
       "      <td>NaN</td>\n",
       "      <td>NaN</td>\n",
       "      <td>1.679</td>\n",
       "      <td>2.20</td>\n",
       "    </tr>\n",
       "    <tr>\n",
       "      <th>2</th>\n",
       "      <td>04/07/2023 11:47:58</td>\n",
       "      <td>02001</td>\n",
       "      <td>CALLE FEDERICO GARCIA LORCA, 1</td>\n",
       "      <td>L-D: 24H</td>\n",
       "      <td>39,000861</td>\n",
       "      <td>ALBACETE</td>\n",
       "      <td>-1,849833</td>\n",
       "      <td>Albacete</td>\n",
       "      <td>1.299</td>\n",
       "      <td>NaN</td>\n",
       "      <td>...</td>\n",
       "      <td>1.429692</td>\n",
       "      <td>1.118465</td>\n",
       "      <td>1.536501</td>\n",
       "      <td>1.583196</td>\n",
       "      <td>1.740466</td>\n",
       "      <td>1.42925</td>\n",
       "      <td>NaN</td>\n",
       "      <td>NaN</td>\n",
       "      <td>1.559</td>\n",
       "      <td>1.74</td>\n",
       "    </tr>\n",
       "    <tr>\n",
       "      <th>3</th>\n",
       "      <td>04/07/2023 11:47:58</td>\n",
       "      <td>02001</td>\n",
       "      <td>AVENIDA 1º DE MAYO, S/N</td>\n",
       "      <td>L-S: 08:00-22:00; D: 09:00-21:00</td>\n",
       "      <td>38,985667</td>\n",
       "      <td>ALBACETE</td>\n",
       "      <td>-1,868500</td>\n",
       "      <td>Albacete</td>\n",
       "      <td>1.459</td>\n",
       "      <td>NaN</td>\n",
       "      <td>...</td>\n",
       "      <td>1.429692</td>\n",
       "      <td>1.118465</td>\n",
       "      <td>1.536501</td>\n",
       "      <td>1.583196</td>\n",
       "      <td>1.740466</td>\n",
       "      <td>1.42925</td>\n",
       "      <td>NaN</td>\n",
       "      <td>NaN</td>\n",
       "      <td>1.559</td>\n",
       "      <td>1.74</td>\n",
       "    </tr>\n",
       "    <tr>\n",
       "      <th>4</th>\n",
       "      <td>04/07/2023 11:47:58</td>\n",
       "      <td>02001</td>\n",
       "      <td>CALLE PRINCIPE DE ASTURIAS (POLÍGONO DE ROMICA...</td>\n",
       "      <td>L-D: 06:00-21:30</td>\n",
       "      <td>39,054694</td>\n",
       "      <td>ALBACETE</td>\n",
       "      <td>-1,832000</td>\n",
       "      <td>Albacete</td>\n",
       "      <td>1.469</td>\n",
       "      <td>NaN</td>\n",
       "      <td>...</td>\n",
       "      <td>1.429692</td>\n",
       "      <td>1.118465</td>\n",
       "      <td>1.536501</td>\n",
       "      <td>1.583196</td>\n",
       "      <td>1.740466</td>\n",
       "      <td>1.42925</td>\n",
       "      <td>NaN</td>\n",
       "      <td>NaN</td>\n",
       "      <td>1.559</td>\n",
       "      <td>1.74</td>\n",
       "    </tr>\n",
       "  </tbody>\n",
       "</table>\n",
       "<p>5 rows × 29 columns</p>\n",
       "</div>"
      ],
      "text/plain": [
       "                 Fecha   C.P.  \\\n",
       "0  04/07/2023 11:47:58  02250   \n",
       "1  04/07/2023 11:47:58  02152   \n",
       "2  04/07/2023 11:47:58  02001   \n",
       "3  04/07/2023 11:47:58  02001   \n",
       "4  04/07/2023 11:47:58  02001   \n",
       "\n",
       "                                           Dirección  \\\n",
       "0                     AVENIDA CASTILLA LA MANCHA, 26   \n",
       "1                                    CR CM-332, 46,4   \n",
       "2                     CALLE FEDERICO GARCIA LORCA, 1   \n",
       "3                            AVENIDA 1º DE MAYO, S/N   \n",
       "4  CALLE PRINCIPE DE ASTURIAS (POLÍGONO DE ROMICA...   \n",
       "\n",
       "                            Horario    Latitud  Localidad Longitud (WGS84)  \\\n",
       "0                  L-D: 07:00-22:00  39,211417  ABENGIBRE        -1,539167   \n",
       "1                   L-D: 7:00-23:00  39,100389     ALATOZ        -1,346083   \n",
       "2                          L-D: 24H  39,000861   ALBACETE        -1,849833   \n",
       "3  L-S: 08:00-22:00; D: 09:00-21:00  38,985667   ALBACETE        -1,868500   \n",
       "4                  L-D: 06:00-21:30  39,054694   ALBACETE        -1,832000   \n",
       "\n",
       "   Municipio  Gasoleo A  Gasoleo B  ...  Media Nacional Gasoleo A  \\\n",
       "0  Abengibre      1.359      0.999  ...                  1.429692   \n",
       "1     Alatoz      1.530        NaN  ...                  1.429692   \n",
       "2   Albacete      1.299        NaN  ...                  1.429692   \n",
       "3   Albacete      1.459        NaN  ...                  1.429692   \n",
       "4   Albacete      1.469        NaN  ...                  1.429692   \n",
       "\n",
       "   Media Nacional Gasoleo B  Media Nacional Gasoleo P  \\\n",
       "0                  1.118465                  1.536501   \n",
       "1                  1.118465                  1.536501   \n",
       "2                  1.118465                  1.536501   \n",
       "3                  1.118465                  1.536501   \n",
       "4                  1.118465                  1.536501   \n",
       "\n",
       "  Media Nacional Gasolina 95 Media Nacional Gasolina 98 Media C.P. Gasoleo A  \\\n",
       "0                   1.583196                   1.740466              1.35900   \n",
       "1                   1.583196                   1.740466              1.53000   \n",
       "2                   1.583196                   1.740466              1.42925   \n",
       "3                   1.583196                   1.740466              1.42925   \n",
       "4                   1.583196                   1.740466              1.42925   \n",
       "\n",
       "  Media C.P. Gasoleo B Media C.P. Gasoleo P Media C.P. Gasolina 95  \\\n",
       "0                0.999                0.999                  1.549   \n",
       "1                  NaN                  NaN                  1.679   \n",
       "2                  NaN                  NaN                  1.559   \n",
       "3                  NaN                  NaN                  1.559   \n",
       "4                  NaN                  NaN                  1.559   \n",
       "\n",
       "   Media C.P. Gasolina 98  \n",
       "0                     NaN  \n",
       "1                    2.20  \n",
       "2                    1.74  \n",
       "3                    1.74  \n",
       "4                    1.74  \n",
       "\n",
       "[5 rows x 29 columns]"
      ]
     },
     "execution_count": 118,
     "metadata": {},
     "output_type": "execute_result"
    }
   ],
   "source": [
    "df_n.head()"
   ]
  },
  {
   "cell_type": "code",
   "execution_count": 119,
   "id": "fbc17dd0",
   "metadata": {},
   "outputs": [
    {
     "name": "stdout",
     "output_type": "stream",
     "text": [
      "<class 'pandas.core.frame.DataFrame'>\n",
      "RangeIndex: 11849 entries, 0 to 11848\n",
      "Data columns (total 29 columns):\n",
      " #   Column                      Non-Null Count  Dtype  \n",
      "---  ------                      --------------  -----  \n",
      " 0   Fecha                       11849 non-null  object \n",
      " 1   C.P.                        11849 non-null  object \n",
      " 2   Dirección                   11849 non-null  object \n",
      " 3   Horario                     11849 non-null  object \n",
      " 4   Latitud                     11849 non-null  object \n",
      " 5   Localidad                   11849 non-null  object \n",
      " 6   Longitud (WGS84)            11849 non-null  object \n",
      " 7   Municipio                   11849 non-null  object \n",
      " 8   Gasoleo A                   11495 non-null  float64\n",
      " 9   Gasoleo B                   3000 non-null   float64\n",
      " 10  Gasoleo Premium             7480 non-null   float64\n",
      " 11  Gasolina 95 E5              10700 non-null  float64\n",
      " 12  Gasolina 98 E5              5852 non-null   float64\n",
      " 13  Provincia                   11849 non-null  object \n",
      " 14  Proveedor de Servicio       11849 non-null  object \n",
      " 15  IDEESS                      11849 non-null  object \n",
      " 16  IDMunicipio                 11849 non-null  object \n",
      " 17  IDProvincia                 11849 non-null  object \n",
      " 18  IDCCAA                      11849 non-null  object \n",
      " 19  Media Nacional Gasoleo A    11849 non-null  float64\n",
      " 20  Media Nacional Gasoleo B    11849 non-null  float64\n",
      " 21  Media Nacional Gasoleo P    11849 non-null  float64\n",
      " 22  Media Nacional Gasolina 95  11849 non-null  float64\n",
      " 23  Media Nacional Gasolina 98  11849 non-null  float64\n",
      " 24  Media C.P. Gasoleo A        11760 non-null  float64\n",
      " 25  Media C.P. Gasoleo B        5989 non-null   float64\n",
      " 26  Media C.P. Gasoleo P        5989 non-null   float64\n",
      " 27  Media C.P. Gasolina 95      11592 non-null  float64\n",
      " 28  Media C.P. Gasolina 98      9596 non-null   float64\n",
      "dtypes: float64(15), object(14)\n",
      "memory usage: 2.6+ MB\n"
     ]
    }
   ],
   "source": [
    "df_n.info()"
   ]
  },
  {
   "cell_type": "code",
   "execution_count": 120,
   "id": "ea5c62a5",
   "metadata": {},
   "outputs": [
    {
     "data": {
      "text/html": [
       "<div>\n",
       "<style scoped>\n",
       "    .dataframe tbody tr th:only-of-type {\n",
       "        vertical-align: middle;\n",
       "    }\n",
       "\n",
       "    .dataframe tbody tr th {\n",
       "        vertical-align: top;\n",
       "    }\n",
       "\n",
       "    .dataframe thead th {\n",
       "        text-align: right;\n",
       "    }\n",
       "</style>\n",
       "<table border=\"1\" class=\"dataframe\">\n",
       "  <thead>\n",
       "    <tr style=\"text-align: right;\">\n",
       "      <th></th>\n",
       "      <th>Fecha</th>\n",
       "      <th>Horario</th>\n",
       "      <th>C.P.</th>\n",
       "      <th>Provincia</th>\n",
       "      <th>Municipio</th>\n",
       "      <th>Localidad</th>\n",
       "      <th>Dirección</th>\n",
       "      <th>Proveedor de Servicio</th>\n",
       "      <th>Gasoleo A</th>\n",
       "      <th>Media C.P. Gasoleo A</th>\n",
       "      <th>...</th>\n",
       "      <th>Media Nacional Gasoleo B</th>\n",
       "      <th>Gasoleo Premium</th>\n",
       "      <th>Media C.P. Gasoleo P</th>\n",
       "      <th>Media Nacional Gasoleo P</th>\n",
       "      <th>Gasolina 95 E5</th>\n",
       "      <th>Media C.P. Gasolina 95</th>\n",
       "      <th>Media Nacional Gasolina 95</th>\n",
       "      <th>Gasolina 98 E5</th>\n",
       "      <th>Media C.P. Gasolina 98</th>\n",
       "      <th>Media Nacional Gasolina 98</th>\n",
       "    </tr>\n",
       "  </thead>\n",
       "  <tbody>\n",
       "    <tr>\n",
       "      <th>0</th>\n",
       "      <td>04/07/2023 11:47:58</td>\n",
       "      <td>L-D: 07:00-22:00</td>\n",
       "      <td>02250</td>\n",
       "      <td>ALBACETE</td>\n",
       "      <td>Abengibre</td>\n",
       "      <td>ABENGIBRE</td>\n",
       "      <td>AVENIDA CASTILLA LA MANCHA, 26</td>\n",
       "      <td>Nº 10.935</td>\n",
       "      <td>1.359</td>\n",
       "      <td>1.359000</td>\n",
       "      <td>...</td>\n",
       "      <td>1.118465</td>\n",
       "      <td>NaN</td>\n",
       "      <td>0.9990</td>\n",
       "      <td>1.536501</td>\n",
       "      <td>1.549</td>\n",
       "      <td>1.5490</td>\n",
       "      <td>1.583196</td>\n",
       "      <td>NaN</td>\n",
       "      <td>NaN</td>\n",
       "      <td>1.740466</td>\n",
       "    </tr>\n",
       "    <tr>\n",
       "      <th>1</th>\n",
       "      <td>04/07/2023 11:47:58</td>\n",
       "      <td>L-D: 7:00-23:00</td>\n",
       "      <td>02152</td>\n",
       "      <td>ALBACETE</td>\n",
       "      <td>Alatoz</td>\n",
       "      <td>ALATOZ</td>\n",
       "      <td>CR CM-332, 46,4</td>\n",
       "      <td>REPSOL</td>\n",
       "      <td>1.530</td>\n",
       "      <td>1.530000</td>\n",
       "      <td>...</td>\n",
       "      <td>1.118465</td>\n",
       "      <td>2.300</td>\n",
       "      <td>NaN</td>\n",
       "      <td>1.536501</td>\n",
       "      <td>1.679</td>\n",
       "      <td>1.6790</td>\n",
       "      <td>1.583196</td>\n",
       "      <td>2.200</td>\n",
       "      <td>2.200</td>\n",
       "      <td>1.740466</td>\n",
       "    </tr>\n",
       "    <tr>\n",
       "      <th>2</th>\n",
       "      <td>04/07/2023 11:47:58</td>\n",
       "      <td>L-D: 24H</td>\n",
       "      <td>02001</td>\n",
       "      <td>ALBACETE</td>\n",
       "      <td>Albacete</td>\n",
       "      <td>ALBACETE</td>\n",
       "      <td>CALLE FEDERICO GARCIA LORCA, 1</td>\n",
       "      <td>PLENOIL</td>\n",
       "      <td>1.299</td>\n",
       "      <td>1.429250</td>\n",
       "      <td>...</td>\n",
       "      <td>1.118465</td>\n",
       "      <td>NaN</td>\n",
       "      <td>NaN</td>\n",
       "      <td>1.536501</td>\n",
       "      <td>1.459</td>\n",
       "      <td>1.5590</td>\n",
       "      <td>1.583196</td>\n",
       "      <td>NaN</td>\n",
       "      <td>1.740</td>\n",
       "      <td>1.740466</td>\n",
       "    </tr>\n",
       "    <tr>\n",
       "      <th>3</th>\n",
       "      <td>04/07/2023 11:47:58</td>\n",
       "      <td>L-S: 08:00-22:00; D: 09:00-21:00</td>\n",
       "      <td>02001</td>\n",
       "      <td>ALBACETE</td>\n",
       "      <td>Albacete</td>\n",
       "      <td>ALBACETE</td>\n",
       "      <td>AVENIDA 1º DE MAYO, S/N</td>\n",
       "      <td>CARREFOUR</td>\n",
       "      <td>1.459</td>\n",
       "      <td>1.429250</td>\n",
       "      <td>...</td>\n",
       "      <td>1.118465</td>\n",
       "      <td>1.499</td>\n",
       "      <td>NaN</td>\n",
       "      <td>1.536501</td>\n",
       "      <td>1.609</td>\n",
       "      <td>1.5590</td>\n",
       "      <td>1.583196</td>\n",
       "      <td>1.729</td>\n",
       "      <td>1.740</td>\n",
       "      <td>1.740466</td>\n",
       "    </tr>\n",
       "    <tr>\n",
       "      <th>4</th>\n",
       "      <td>04/07/2023 11:47:58</td>\n",
       "      <td>L-D: 06:00-21:30</td>\n",
       "      <td>02001</td>\n",
       "      <td>ALBACETE</td>\n",
       "      <td>Albacete</td>\n",
       "      <td>ALBACETE</td>\n",
       "      <td>CALLE PRINCIPE DE ASTURIAS (POLÍGONO DE ROMICA...</td>\n",
       "      <td>BP ROMICA</td>\n",
       "      <td>1.469</td>\n",
       "      <td>1.429250</td>\n",
       "      <td>...</td>\n",
       "      <td>1.118465</td>\n",
       "      <td>1.559</td>\n",
       "      <td>NaN</td>\n",
       "      <td>1.536501</td>\n",
       "      <td>1.609</td>\n",
       "      <td>1.5590</td>\n",
       "      <td>1.583196</td>\n",
       "      <td>1.751</td>\n",
       "      <td>1.740</td>\n",
       "      <td>1.740466</td>\n",
       "    </tr>\n",
       "    <tr>\n",
       "      <th>...</th>\n",
       "      <td>...</td>\n",
       "      <td>...</td>\n",
       "      <td>...</td>\n",
       "      <td>...</td>\n",
       "      <td>...</td>\n",
       "      <td>...</td>\n",
       "      <td>...</td>\n",
       "      <td>...</td>\n",
       "      <td>...</td>\n",
       "      <td>...</td>\n",
       "      <td>...</td>\n",
       "      <td>...</td>\n",
       "      <td>...</td>\n",
       "      <td>...</td>\n",
       "      <td>...</td>\n",
       "      <td>...</td>\n",
       "      <td>...</td>\n",
       "      <td>...</td>\n",
       "      <td>...</td>\n",
       "      <td>...</td>\n",
       "      <td>...</td>\n",
       "    </tr>\n",
       "    <tr>\n",
       "      <th>11844</th>\n",
       "      <td>04/07/2023 11:47:58</td>\n",
       "      <td>L-D: 24H</td>\n",
       "      <td>50197</td>\n",
       "      <td>ZARAGOZA</td>\n",
       "      <td>Zaragoza</td>\n",
       "      <td>ZARAGOZA</td>\n",
       "      <td>RONDA RONDA DE LA FERIA DE MUESTRAS, 10</td>\n",
       "      <td>MOLGAS</td>\n",
       "      <td>NaN</td>\n",
       "      <td>1.505667</td>\n",
       "      <td>...</td>\n",
       "      <td>1.118465</td>\n",
       "      <td>NaN</td>\n",
       "      <td>1.2300</td>\n",
       "      <td>1.536501</td>\n",
       "      <td>NaN</td>\n",
       "      <td>1.6390</td>\n",
       "      <td>1.583196</td>\n",
       "      <td>NaN</td>\n",
       "      <td>1.789</td>\n",
       "      <td>1.740466</td>\n",
       "    </tr>\n",
       "    <tr>\n",
       "      <th>11845</th>\n",
       "      <td>04/07/2023 11:47:58</td>\n",
       "      <td>L-D: 24H</td>\n",
       "      <td>50197</td>\n",
       "      <td>ZARAGOZA</td>\n",
       "      <td>Zaragoza</td>\n",
       "      <td>ZARAGOZA</td>\n",
       "      <td>RONDA FERIA DE MUESTRAS, DE LA, 20</td>\n",
       "      <td>IDS</td>\n",
       "      <td>1.509</td>\n",
       "      <td>1.505667</td>\n",
       "      <td>...</td>\n",
       "      <td>1.118465</td>\n",
       "      <td>NaN</td>\n",
       "      <td>1.2300</td>\n",
       "      <td>1.536501</td>\n",
       "      <td>NaN</td>\n",
       "      <td>1.6390</td>\n",
       "      <td>1.583196</td>\n",
       "      <td>NaN</td>\n",
       "      <td>1.789</td>\n",
       "      <td>1.740466</td>\n",
       "    </tr>\n",
       "    <tr>\n",
       "      <th>11846</th>\n",
       "      <td>04/07/2023 11:47:58</td>\n",
       "      <td>L-D: 06:00-22:00</td>\n",
       "      <td>50800</td>\n",
       "      <td>ZARAGOZA</td>\n",
       "      <td>Zuera</td>\n",
       "      <td>ZUERA</td>\n",
       "      <td>CARRETERA N-330A KM. 24,000</td>\n",
       "      <td>REPSOL</td>\n",
       "      <td>1.479</td>\n",
       "      <td>1.427000</td>\n",
       "      <td>...</td>\n",
       "      <td>1.118465</td>\n",
       "      <td>1.529</td>\n",
       "      <td>1.0265</td>\n",
       "      <td>1.536501</td>\n",
       "      <td>1.609</td>\n",
       "      <td>1.5765</td>\n",
       "      <td>1.583196</td>\n",
       "      <td>1.759</td>\n",
       "      <td>1.759</td>\n",
       "      <td>1.740466</td>\n",
       "    </tr>\n",
       "    <tr>\n",
       "      <th>11847</th>\n",
       "      <td>04/07/2023 11:47:58</td>\n",
       "      <td>L-D: 24H</td>\n",
       "      <td>50800</td>\n",
       "      <td>ZARAGOZA</td>\n",
       "      <td>Zuera</td>\n",
       "      <td>ZUERA</td>\n",
       "      <td>CALLE AUSTRIA, 11,17</td>\n",
       "      <td>AN ENERGETICOS ZUERA</td>\n",
       "      <td>1.375</td>\n",
       "      <td>1.427000</td>\n",
       "      <td>...</td>\n",
       "      <td>1.118465</td>\n",
       "      <td>1.415</td>\n",
       "      <td>1.0265</td>\n",
       "      <td>1.536501</td>\n",
       "      <td>1.544</td>\n",
       "      <td>1.5765</td>\n",
       "      <td>1.583196</td>\n",
       "      <td>NaN</td>\n",
       "      <td>1.759</td>\n",
       "      <td>1.740466</td>\n",
       "    </tr>\n",
       "    <tr>\n",
       "      <th>11848</th>\n",
       "      <td>04/07/2023 11:47:58</td>\n",
       "      <td>L-D: 24H</td>\n",
       "      <td>50810</td>\n",
       "      <td>ZARAGOZA</td>\n",
       "      <td>Zuera</td>\n",
       "      <td>ONTINAR DE SALZ</td>\n",
       "      <td>CALLE COOPERATIVA, 2</td>\n",
       "      <td>COOPERATIVA SAN ISIDRO</td>\n",
       "      <td>1.419</td>\n",
       "      <td>1.419000</td>\n",
       "      <td>...</td>\n",
       "      <td>1.118465</td>\n",
       "      <td>1.459</td>\n",
       "      <td>0.9300</td>\n",
       "      <td>1.536501</td>\n",
       "      <td>1.569</td>\n",
       "      <td>1.5690</td>\n",
       "      <td>1.583196</td>\n",
       "      <td>NaN</td>\n",
       "      <td>NaN</td>\n",
       "      <td>1.740466</td>\n",
       "    </tr>\n",
       "  </tbody>\n",
       "</table>\n",
       "<p>11849 rows × 23 columns</p>\n",
       "</div>"
      ],
      "text/plain": [
       "                     Fecha                           Horario   C.P. Provincia  \\\n",
       "0      04/07/2023 11:47:58                  L-D: 07:00-22:00  02250  ALBACETE   \n",
       "1      04/07/2023 11:47:58                   L-D: 7:00-23:00  02152  ALBACETE   \n",
       "2      04/07/2023 11:47:58                          L-D: 24H  02001  ALBACETE   \n",
       "3      04/07/2023 11:47:58  L-S: 08:00-22:00; D: 09:00-21:00  02001  ALBACETE   \n",
       "4      04/07/2023 11:47:58                  L-D: 06:00-21:30  02001  ALBACETE   \n",
       "...                    ...                               ...    ...       ...   \n",
       "11844  04/07/2023 11:47:58                          L-D: 24H  50197  ZARAGOZA   \n",
       "11845  04/07/2023 11:47:58                          L-D: 24H  50197  ZARAGOZA   \n",
       "11846  04/07/2023 11:47:58                  L-D: 06:00-22:00  50800  ZARAGOZA   \n",
       "11847  04/07/2023 11:47:58                          L-D: 24H  50800  ZARAGOZA   \n",
       "11848  04/07/2023 11:47:58                          L-D: 24H  50810  ZARAGOZA   \n",
       "\n",
       "       Municipio        Localidad  \\\n",
       "0      Abengibre        ABENGIBRE   \n",
       "1         Alatoz           ALATOZ   \n",
       "2       Albacete         ALBACETE   \n",
       "3       Albacete         ALBACETE   \n",
       "4       Albacete         ALBACETE   \n",
       "...          ...              ...   \n",
       "11844   Zaragoza         ZARAGOZA   \n",
       "11845   Zaragoza         ZARAGOZA   \n",
       "11846      Zuera            ZUERA   \n",
       "11847      Zuera            ZUERA   \n",
       "11848      Zuera  ONTINAR DE SALZ   \n",
       "\n",
       "                                               Dirección  \\\n",
       "0                         AVENIDA CASTILLA LA MANCHA, 26   \n",
       "1                                        CR CM-332, 46,4   \n",
       "2                         CALLE FEDERICO GARCIA LORCA, 1   \n",
       "3                                AVENIDA 1º DE MAYO, S/N   \n",
       "4      CALLE PRINCIPE DE ASTURIAS (POLÍGONO DE ROMICA...   \n",
       "...                                                  ...   \n",
       "11844            RONDA RONDA DE LA FERIA DE MUESTRAS, 10   \n",
       "11845                 RONDA FERIA DE MUESTRAS, DE LA, 20   \n",
       "11846                        CARRETERA N-330A KM. 24,000   \n",
       "11847                               CALLE AUSTRIA, 11,17   \n",
       "11848                               CALLE COOPERATIVA, 2   \n",
       "\n",
       "        Proveedor de Servicio  Gasoleo A  Media C.P. Gasoleo A  ...  \\\n",
       "0                   Nº 10.935      1.359              1.359000  ...   \n",
       "1                      REPSOL      1.530              1.530000  ...   \n",
       "2                     PLENOIL      1.299              1.429250  ...   \n",
       "3                   CARREFOUR      1.459              1.429250  ...   \n",
       "4                   BP ROMICA      1.469              1.429250  ...   \n",
       "...                       ...        ...                   ...  ...   \n",
       "11844                  MOLGAS        NaN              1.505667  ...   \n",
       "11845                     IDS      1.509              1.505667  ...   \n",
       "11846                  REPSOL      1.479              1.427000  ...   \n",
       "11847    AN ENERGETICOS ZUERA      1.375              1.427000  ...   \n",
       "11848  COOPERATIVA SAN ISIDRO      1.419              1.419000  ...   \n",
       "\n",
       "       Media Nacional Gasoleo B  Gasoleo Premium  Media C.P. Gasoleo P  \\\n",
       "0                      1.118465              NaN                0.9990   \n",
       "1                      1.118465            2.300                   NaN   \n",
       "2                      1.118465              NaN                   NaN   \n",
       "3                      1.118465            1.499                   NaN   \n",
       "4                      1.118465            1.559                   NaN   \n",
       "...                         ...              ...                   ...   \n",
       "11844                  1.118465              NaN                1.2300   \n",
       "11845                  1.118465              NaN                1.2300   \n",
       "11846                  1.118465            1.529                1.0265   \n",
       "11847                  1.118465            1.415                1.0265   \n",
       "11848                  1.118465            1.459                0.9300   \n",
       "\n",
       "       Media Nacional Gasoleo P  Gasolina 95 E5  Media C.P. Gasolina 95  \\\n",
       "0                      1.536501           1.549                  1.5490   \n",
       "1                      1.536501           1.679                  1.6790   \n",
       "2                      1.536501           1.459                  1.5590   \n",
       "3                      1.536501           1.609                  1.5590   \n",
       "4                      1.536501           1.609                  1.5590   \n",
       "...                         ...             ...                     ...   \n",
       "11844                  1.536501             NaN                  1.6390   \n",
       "11845                  1.536501             NaN                  1.6390   \n",
       "11846                  1.536501           1.609                  1.5765   \n",
       "11847                  1.536501           1.544                  1.5765   \n",
       "11848                  1.536501           1.569                  1.5690   \n",
       "\n",
       "       Media Nacional Gasolina 95  Gasolina 98 E5  Media C.P. Gasolina 98  \\\n",
       "0                        1.583196             NaN                     NaN   \n",
       "1                        1.583196           2.200                   2.200   \n",
       "2                        1.583196             NaN                   1.740   \n",
       "3                        1.583196           1.729                   1.740   \n",
       "4                        1.583196           1.751                   1.740   \n",
       "...                           ...             ...                     ...   \n",
       "11844                    1.583196             NaN                   1.789   \n",
       "11845                    1.583196             NaN                   1.789   \n",
       "11846                    1.583196           1.759                   1.759   \n",
       "11847                    1.583196             NaN                   1.759   \n",
       "11848                    1.583196             NaN                     NaN   \n",
       "\n",
       "       Media Nacional Gasolina 98  \n",
       "0                        1.740466  \n",
       "1                        1.740466  \n",
       "2                        1.740466  \n",
       "3                        1.740466  \n",
       "4                        1.740466  \n",
       "...                           ...  \n",
       "11844                    1.740466  \n",
       "11845                    1.740466  \n",
       "11846                    1.740466  \n",
       "11847                    1.740466  \n",
       "11848                    1.740466  \n",
       "\n",
       "[11849 rows x 23 columns]"
      ]
     },
     "execution_count": 120,
     "metadata": {},
     "output_type": "execute_result"
    }
   ],
   "source": [
    "#Ordenamos columnas\n",
    "df_n = df_n[['Fecha', 'Horario', 'C.P.','Provincia','Municipio','Localidad', 'Dirección', 'Proveedor de Servicio', \n",
    "             'Gasoleo A', 'Media C.P. Gasoleo A', 'Media Nacional Gasoleo A', \n",
    "             'Gasoleo B', 'Media C.P. Gasoleo B','Media Nacional Gasoleo B', \n",
    "             'Gasoleo Premium','Media C.P. Gasoleo P', 'Media Nacional Gasoleo P', \n",
    "             'Gasolina 95 E5', 'Media C.P. Gasolina 95','Media Nacional Gasolina 95', \n",
    "             'Gasolina 98 E5', 'Media C.P. Gasolina 98','Media Nacional Gasolina 98']]\n",
    "df_n"
   ]
  },
  {
   "cell_type": "markdown",
   "id": "0bf5e02c",
   "metadata": {},
   "source": [
    "# Limpieza de Nombres en \"Proveedores de servicio"
   ]
  },
  {
   "cell_type": "code",
   "execution_count": 121,
   "id": "475ac1f9",
   "metadata": {},
   "outputs": [],
   "source": [
    "# Misma marca de gasolineras con nombres diferentes\n",
    "df_n = df_n.sort_values('Proveedor de Servicio')\n",
    "\n",
    "\n",
    "\n"
   ]
  },
  {
   "cell_type": "code",
   "execution_count": 122,
   "id": "8ad906f2",
   "metadata": {},
   "outputs": [],
   "source": [
    "df_n[\"Proveedor de Servicio\"] = df_n[\"Proveedor de Servicio\"] .astype(str)\n"
   ]
  },
  {
   "cell_type": "code",
   "execution_count": 123,
   "id": "9a9221f8",
   "metadata": {},
   "outputs": [
    {
     "name": "stdout",
     "output_type": "stream",
     "text": [
      "<class 'pandas.core.frame.DataFrame'>\n",
      "Index: 11849 entries, 2924 to 11051\n",
      "Data columns (total 23 columns):\n",
      " #   Column                      Non-Null Count  Dtype  \n",
      "---  ------                      --------------  -----  \n",
      " 0   Fecha                       11849 non-null  object \n",
      " 1   Horario                     11849 non-null  object \n",
      " 2   C.P.                        11849 non-null  object \n",
      " 3   Provincia                   11849 non-null  object \n",
      " 4   Municipio                   11849 non-null  object \n",
      " 5   Localidad                   11849 non-null  object \n",
      " 6   Dirección                   11849 non-null  object \n",
      " 7   Proveedor de Servicio       11849 non-null  object \n",
      " 8   Gasoleo A                   11495 non-null  float64\n",
      " 9   Media C.P. Gasoleo A        11760 non-null  float64\n",
      " 10  Media Nacional Gasoleo A    11849 non-null  float64\n",
      " 11  Gasoleo B                   3000 non-null   float64\n",
      " 12  Media C.P. Gasoleo B        5989 non-null   float64\n",
      " 13  Media Nacional Gasoleo B    11849 non-null  float64\n",
      " 14  Gasoleo Premium             7480 non-null   float64\n",
      " 15  Media C.P. Gasoleo P        5989 non-null   float64\n",
      " 16  Media Nacional Gasoleo P    11849 non-null  float64\n",
      " 17  Gasolina 95 E5              10700 non-null  float64\n",
      " 18  Media C.P. Gasolina 95      11592 non-null  float64\n",
      " 19  Media Nacional Gasolina 95  11849 non-null  float64\n",
      " 20  Gasolina 98 E5              5852 non-null   float64\n",
      " 21  Media C.P. Gasolina 98      9596 non-null   float64\n",
      " 22  Media Nacional Gasolina 98  11849 non-null  float64\n",
      "dtypes: float64(15), object(8)\n",
      "memory usage: 2.2+ MB\n"
     ]
    }
   ],
   "source": [
    "df_n.info()"
   ]
  },
  {
   "cell_type": "code",
   "execution_count": 124,
   "id": "0bf6201c",
   "metadata": {},
   "outputs": [],
   "source": [
    "df_n['Proveedor de Servicio'] = df_n['Proveedor de Servicio'].astype('string')"
   ]
  },
  {
   "cell_type": "code",
   "execution_count": 125,
   "id": "b06c794d",
   "metadata": {},
   "outputs": [
    {
     "name": "stdout",
     "output_type": "stream",
     "text": [
      "<class 'pandas.core.frame.DataFrame'>\n",
      "Index: 11849 entries, 2924 to 11051\n",
      "Data columns (total 23 columns):\n",
      " #   Column                      Non-Null Count  Dtype  \n",
      "---  ------                      --------------  -----  \n",
      " 0   Fecha                       11849 non-null  object \n",
      " 1   Horario                     11849 non-null  object \n",
      " 2   C.P.                        11849 non-null  object \n",
      " 3   Provincia                   11849 non-null  object \n",
      " 4   Municipio                   11849 non-null  object \n",
      " 5   Localidad                   11849 non-null  object \n",
      " 6   Dirección                   11849 non-null  object \n",
      " 7   Proveedor de Servicio       11849 non-null  string \n",
      " 8   Gasoleo A                   11495 non-null  float64\n",
      " 9   Media C.P. Gasoleo A        11760 non-null  float64\n",
      " 10  Media Nacional Gasoleo A    11849 non-null  float64\n",
      " 11  Gasoleo B                   3000 non-null   float64\n",
      " 12  Media C.P. Gasoleo B        5989 non-null   float64\n",
      " 13  Media Nacional Gasoleo B    11849 non-null  float64\n",
      " 14  Gasoleo Premium             7480 non-null   float64\n",
      " 15  Media C.P. Gasoleo P        5989 non-null   float64\n",
      " 16  Media Nacional Gasoleo P    11849 non-null  float64\n",
      " 17  Gasolina 95 E5              10700 non-null  float64\n",
      " 18  Media C.P. Gasolina 95      11592 non-null  float64\n",
      " 19  Media Nacional Gasolina 95  11849 non-null  float64\n",
      " 20  Gasolina 98 E5              5852 non-null   float64\n",
      " 21  Media C.P. Gasolina 98      9596 non-null   float64\n",
      " 22  Media Nacional Gasolina 98  11849 non-null  float64\n",
      "dtypes: float64(15), object(7), string(1)\n",
      "memory usage: 2.2+ MB\n"
     ]
    }
   ],
   "source": [
    "df_n.info()"
   ]
  },
  {
   "cell_type": "code",
   "execution_count": 165,
   "id": "e6e60694",
   "metadata": {},
   "outputs": [
    {
     "data": {
      "text/plain": [
       "2924        PETROL STATION\n",
       "5084                  AGLA\n",
       "10822              AGRICAR\n",
       "10368                   BP\n",
       "9371                    BP\n",
       "               ...        \n",
       "4931             ZONA ZERO\n",
       "7311                     _\n",
       "11498       |> ENERTRIX <|\n",
       "544             ÁRTICO OIL\n",
       "11051                    €\n",
       "Name: Proveedor de Servicio, Length: 11849, dtype: string"
      ]
     },
     "execution_count": 165,
     "metadata": {},
     "output_type": "execute_result"
    }
   ],
   "source": [
    "# Gasolineras BP\n",
    "df_n['Proveedor de Servicio'] = df_n['Proveedor de Servicio'].str.replace('.', ' ')\n",
    "df_n['Proveedor de Servicio'] = df_n['Proveedor de Servicio'].str.replace(',', ' ')\n",
    "df_n['Proveedor de Servicio'] = df_n['Proveedor de Servicio'].str.replace('BP \\S*', 'BP')\n",
    "df_n['Proveedor de Servicio'] = df_n['Proveedor de Servicio'].str.replace('BP \\S[a-zA-Z0-9_]*', 'BP')\n",
    "df_n['Proveedor de Servicio'] = df_n['Proveedor de Servicio'].str.replace('BPS \\S*', 'BP')\n",
    "df_n['Proveedor de Servicio'] = df_n['Proveedor de Servicio'].str.replace('BPS \\S[a-zA-Z0-9_]*', 'BP')\n",
    "df_n['Proveedor de Servicio'] = df_n['Proveedor de Servicio'].str.replace('BP\\w*', 'BP')\n",
    "df_n['Proveedor de Servicio'] = df_n['Proveedor de Servicio'].str.replace('BP  ALOD', 'BP') \n",
    "df_n['Proveedor de Servicio'] = df_n['Proveedor de Servicio'].str.replace('BP AVENIDA 3 DE MAYO', 'BP')\n",
    "df_n['Proveedor de Servicio'] = df_n['Proveedor de Servicio'].str.replace('BP BENICADELL', 'BP')\n",
    "df_n['Proveedor de Servicio'] = df_n['Proveedor de Servicio'].str.replace('BP CA SESTRELLA', 'BP')\n",
    "df_n['Proveedor de Servicio'] = df_n['Proveedor de Servicio'].str.replace('BP RAMBLA INIESTA', 'BP')\n",
    "df_n['Proveedor de Servicio'] = df_n['Proveedor de Servicio'].str.replace('BP SAN LUIS', 'BP')\n",
    "df_n['Proveedor de Servicio'] = df_n['Proveedor de Servicio'].str.replace('BP SANTIGA', 'BP')\n",
    "df_n['Proveedor de Servicio'] = df_n['Proveedor de Servicio'].str.replace('BP TACO','BP')\n",
    "df_n['Proveedor de Servicio'] = df_n['Proveedor de Servicio'].str.replace('BP VENTA DEL PERAL II', 'BP')\n",
    "df_n['Proveedor de Servicio'] = df_n['Proveedor de Servicio'].str.replace('BP ROMICA', 'BP')\n",
    "df_n['Proveedor de Servicio'] = df_n['Proveedor de Servicio'].str.replace('REPSOL UBEDA', 'REPSOL')\n",
    "df_n['Proveedor de Servicio'] = df_n['Proveedor de Servicio'].str.replace('SUTULLENA-CEPSA', 'CEPSA')\n",
    "df_n['Proveedor de Servicio'] = df_n['Proveedor de Servicio'].str.replace('\"BP\"', 'BP')\n",
    "df_n['Proveedor de Servicio'] = df_n['Proveedor de Servicio'].str.replace('BP ROTONDA LAS VAGUADAS S.L.', 'BP')\n",
    "df_n['Proveedor de Servicio'] = df_n['Proveedor de Servicio'].str.replace('BPBEGUR', 'BP')\n",
    "df_n['Proveedor de Servicio'] = df_n['Proveedor de Servicio'].str.replace('BPPROPERLY, S.A.', 'BP')\n",
    "\n",
    "# Otros\n",
    "df_n['Proveedor de Servicio'] = df_n['Proveedor de Servicio'].str.replace('SIN RÓTULO', 'OTROS')\n",
    "df_n['Proveedor de Servicio'] = df_n['Proveedor de Servicio'].str.replace('(sin rótulo)', 'OTROS')\n",
    "df_n['Proveedor de Servicio'] = df_n['Proveedor de Servicio'].str.replace('*', 'OTROS')\n",
    "df_n['Proveedor de Servicio'] = df_n['Proveedor de Servicio'].str.replace('-', 'OTROS')\n",
    "df_n['Proveedor de Servicio'] = df_n['Proveedor de Servicio'].str.replace('-', 'OTROS')\n",
    "df_n['Proveedor de Servicio'] = df_n['Proveedor de Servicio'].str.replace('0', 'OTROS')\n",
    "df_n['Proveedor de Servicio'] = df_n['Proveedor de Servicio'].str.replace('06/32718', 'OTROS')\n",
    "df_n['Proveedor de Servicio'] = df_n['Proveedor de Servicio'].str.replace('12126', 'OTROS')\n",
    "df_n['Proveedor de Servicio'] = df_n['Proveedor de Servicio'].str.replace('12241', 'OTROS')\n",
    "df_n['Proveedor de Servicio'] = df_n['Proveedor de Servicio'].str.replace('13344', 'OTROS')\n",
    "df_n['Proveedor de Servicio'] = df_n['Proveedor de Servicio'].str.replace('15909', 'OTROS')\n",
    "df_n['Proveedor de Servicio'] = df_n['Proveedor de Servicio'].str.replace('1PRIMER', 'OTROS')\n",
    "df_n['Proveedor de Servicio'] = df_n['Proveedor de Servicio'].str.replace('23ESO68F', 'OTROS')\n",
    "df_n['Proveedor de Servicio'] = df_n['Proveedor de Servicio'].str.replace('395 2/2HS 40-80', 'OTROS')\n",
    "df_n['Proveedor de Servicio'] = df_n['Proveedor de Servicio'].str.replace('41037733', 'OTROS')\n",
    "df_n['Proveedor de Servicio'] = df_n['Proveedor de Servicio'].str.replace('45110020416', 'OTROS')\n",
    "df_n['Proveedor de Servicio'] = df_n['Proveedor de Servicio'].str.replace('4572', 'OTROS')\n",
    "df_n['Proveedor de Servicio'] = df_n['Proveedor de Servicio'].str.replace('7267', 'OTROS')\n",
    "df_n['Proveedor de Servicio'] = df_n['Proveedor de Servicio'].str.replace('7345', 'OTROS')\n",
    "df_n['Proveedor de Servicio'] = df_n['Proveedor de Servicio'].str.replace('96053', 'OTROS')\n",
    "df_n['Proveedor de Servicio'] = df_n['Proveedor de Servicio'].str.replace('OTROS \\S*', 'OTROS')\n",
    "df_n['Proveedor de Servicio'] = df_n['Proveedor de Servicio'].str.replace('OTROS \\S[a-zA-Z0-9_]*', 'OTROS')\n",
    "df_n['Proveedor de Servicio'] = df_n['Proveedor de Servicio'].str.replace('OTROS \\S[a-zA-Z0-9_]*\\S[a-zA-Z0-9_]*', 'OTROS')\n",
    "df_n['Proveedor de Servicio'] = df_n['Proveedor de Servicio'].str.replace('OTROSOTROSOTROSOTROSOTROSOTROS', 'OTROS')\n",
    "df_n['Proveedor de Servicio'] = df_n['Proveedor de Servicio'].str.replace('OTROS\\w*', 'OTROS')\n",
    "df_n['Proveedor de Servicio'] = df_n['Proveedor de Servicio'].str.replace('OTROS \\S*', 'OTROS')\n",
    "df_n['Proveedor de Servicio'] = df_n['Proveedor de Servicio'].str.replace('\\S* OTROS ', 'OTROS')\n",
    "df_n['Proveedor de Servicio'] = df_n['Proveedor de Servicio'].str.replace('\\S*(OTROS)\\S*', 'OTROS')\n",
    "\n",
    "# Gasolineras Varias                                                                          \n",
    "df_n['Proveedor de Servicio'] = df_n['Proveedor de Servicio'].str.replace('INLOCOR S.L. \"CEPSA\"', 'CEPSA')\n",
    "df_n['Proveedor de Servicio'] = df_n['Proveedor de Servicio'].str.replace('REPSOL. LOS ANGELES DE LA MANCHA, S.L.', 'REPSOL')\n",
    "df_n['Proveedor de Servicio'] = df_n['Proveedor de Servicio'].str.replace('BP OIL', 'BP')\n",
    "df_n['Proveedor de Servicio'] = df_n['Proveedor de Servicio'].str.replace('BP PARGA I PETROL BAS BEL', 'BP')\n",
    "df_n['Proveedor de Servicio'] = df_n['Proveedor de Servicio'].str.replace('Nº 7374', 'OTROS')\n",
    "df_n['Proveedor de Servicio'] = df_n['Proveedor de Servicio'].str.replace('NO', 'OTROS')\n",
    "df_n['Proveedor de Servicio'] = df_n['Proveedor de Servicio'].str.replace('BP CASA JUANITO RESTAURANTE', 'BP')\n",
    "df_n['Proveedor de Servicio'] = df_n['Proveedor de Servicio'].str.replace('NO HAY', 'OTROS')\n",
    "df_n['Proveedor de Servicio'] = df_n['Proveedor de Servicio'].str.replace('NO TIENE', 'OTROS')\n",
    "df_n['Proveedor de Servicio'] = df_n['Proveedor de Servicio'].str.replace('BP VILLARROBLEDO', 'BP')\n",
    "df_n['Proveedor de Servicio'] = df_n['Proveedor de Servicio'].str.replace('BP ALFAZ DEL PI', 'BP')\n",
    "df_n['Proveedor de Servicio'] = df_n['Proveedor de Servicio'].str.replace('BP SANDOVAL MD', 'BP')                                                                        \n",
    "df_n['Proveedor de Servicio'] = df_n['Proveedor de Servicio'].str.replace('BP SANDOVAL MI', 'BP')\n",
    "df_n['Proveedor de Servicio'] = df_n['Proveedor de Servicio'].str.replace('BP BENIDORM', 'BP')\n",
    "df_n['Proveedor de Servicio'] = df_n['Proveedor de Servicio'].str.replace('BP EUROBENIDORM', 'BP')\n",
    "df_n['Proveedor de Servicio'] = df_n['Proveedor de Servicio'].str.replace('BP REJAS VERDES', 'BP')\n",
    "\n",
    "# Gasolineras Cepsa\n",
    "df_n['Proveedor de Servicio'] = df_n['Proveedor de Servicio'].str.replace('CEPSA ELF', 'CEPSA')\n",
    "df_n['Proveedor de Servicio'] = df_n['Proveedor de Servicio'].str.replace('CEPSA V21', 'CEPSA')\n",
    "df_n['Proveedor de Servicio'] = df_n['Proveedor de Servicio'].str.replace('CEPSA LEO', 'CEPSA')\n",
    "df_n['Proveedor de Servicio'] = df_n['Proveedor de Servicio'].str.replace('CEPSA TINAJO', 'CEPSA')\n",
    "df_n['Proveedor de Servicio'] = df_n['Proveedor de Servicio'].str.replace('CEPSA AGAETE', 'CEPSA')\n",
    "df_n['Proveedor de Servicio'] = df_n['Proveedor de Servicio'].str.replace('CEPSA CALONGE', 'CEPSA')\n",
    "df_n['Proveedor de Servicio'] = df_n['Proveedor de Servicio'].str.replace('BP REJAS VERDES', 'BP')\n",
    "df_n['Proveedor de Servicio'] = df_n['Proveedor de Servicio'].str.replace('CEPSA INGENIO', 'CEPSA')\n",
    "df_n['Proveedor de Servicio'] = df_n['Proveedor de Servicio'].str.replace('CEPSA ANTIGUA', 'CEPSA')\n",
    "df_n['Proveedor de Servicio'] = df_n['Proveedor de Servicio'].str.replace('CEPSA BALOS 1', 'CEPSA')\n",
    "df_n['Proveedor de Servicio'] = df_n['Proveedor de Servicio'].str.replace('CEPSA BALOS 2', 'CEPSA')\n",
    "df_n['Proveedor de Servicio'] = df_n['Proveedor de Servicio'].str.replace('CEPSAOTROSELF', 'CEPSA')\n",
    "df_n['Proveedor de Servicio'] = df_n['Proveedor de Servicio'].str.replace('CEPSA CANONCHE', 'CEPSA')\n",
    "df_n['Proveedor de Servicio'] = df_n['Proveedor de Servicio'].str.replace('CEPSA . LOHANA', 'CEPSA')\n",
    "df_n['Proveedor de Servicio'] = df_n['Proveedor de Servicio'].str.replace('CEPSA EL PEÑON', 'CEPSA')\n",
    "df_n['Proveedor de Servicio'] = df_n['Proveedor de Servicio'].str.replace('CEPSA VILANOVAE', 'CEPSA')\n",
    "df_n['Proveedor de Servicio'] = df_n['Proveedor de Servicio'].str.replace('CEPSA LA ALDEA', 'CEPSA')\n",
    "df_n['Proveedor de Servicio'] = df_n['Proveedor de Servicio'].str.replace('CEPSA LA CAÑADA', 'CEPSA')\n",
    "df_n['Proveedor de Servicio'] = df_n['Proveedor de Servicio'].str.replace('CEPSA TAHICHE I', 'CEPSA')\n",
    "df_n['Proveedor de Servicio'] = df_n['Proveedor de Servicio'].str.replace('CEPSA LA MARINA', 'CEPSA')\n",
    "df_n['Proveedor de Servicio'] = df_n['Proveedor de Servicio'].str.replace('CEPSA RELAMPAGO', 'CEPSA')\n",
    "df_n['Proveedor de Servicio'] = df_n['Proveedor de Servicio'].str.replace('CEPSA ALMERIMAR', 'CEPSA')\n",
    "df_n['Proveedor de Servicio'] = df_n['Proveedor de Servicio'].str.replace('CEPSAOTROSJUBERA', 'CEPSA')\n",
    "df_n['Proveedor de Servicio'] = df_n['Proveedor de Servicio'].str.replace('CEPSA EL CUBILLO', 'CEPSA')\n",
    "df_n['Proveedor de Servicio'] = df_n['Proveedor de Servicio'].str.replace('CEPSA TAHICHE II', 'CEPSA')\n",
    "df_n['Proveedor de Servicio'] = df_n['Proveedor de Servicio'].str.replace('CEPSA MASPALOMAS', 'CEPSA')\n",
    "df_n['Proveedor de Servicio'] = df_n['Proveedor de Servicio'].str.replace('CEPSA LA CAZUELA', 'CEPSA')\n",
    "df_n['Proveedor de Servicio'] = df_n['Proveedor de Servicio'].str.replace('CEPSA ETXEGARATE', 'CEPSA')\n",
    "df_n['Proveedor de Servicio'] = df_n['Proveedor de Servicio'].str.replace('CEPSA CAOTROSNCHE', 'CEPSA')\n",
    "df_n['Proveedor de Servicio'] = df_n['Proveedor de Servicio'].str.replace('CEPSA AGUA GARCIA', 'CEPSA')\n",
    "df_n['Proveedor de Servicio'] = df_n['Proveedor de Servicio'].str.replace('CEPSA LOS ANDENES', 'CEPSA')\n",
    "df_n['Proveedor de Servicio'] = df_n['Proveedor de Servicio'].str.replace('CEPSA LA AZADILLA', 'CEPSA')\n",
    "df_n['Proveedor de Servicio'] = df_n['Proveedor de Servicio'].str.replace('CEPSA ', 'CEPSA')\n",
    "df_n['Proveedor de Servicio'] = df_n['Proveedor de Servicio'].str.replace('CEPSAI', 'CEPSA')\n",
    "df_n['Proveedor de Servicio'] = df_n['Proveedor de Servicio'].str.replace('CEPSAGLTA.EL CID', 'CEPSA')\n",
    "df_n['Proveedor de Servicio'] = df_n['Proveedor de Servicio'].str.replace('CEPSAVILAOTROSVA', 'CEPSA')\n",
    "df_n['Proveedor de Servicio'] = df_n['Proveedor de Servicio'].str.replace('CEPSAESPAÑA S.A.', 'CEPSA')\n",
    "df_n['Proveedor de Servicio'] = df_n['Proveedor de Servicio'].str.replace('CEPSAGRAN TARAJAL', 'CEPSA')\n",
    "df_n['Proveedor de Servicio'] = df_n['Proveedor de Servicio'].str.replace('CEPSASIETE PALMAS', 'CEPSA')\n",
    "df_n['Proveedor de Servicio'] = df_n['Proveedor de Servicio'].str.replace('CEPSAHOYA PARRADO', 'CEPSA')\n",
    "df_n['Proveedor de Servicio'] = df_n['Proveedor de Servicio'].str.replace('CEPSAA4 PINTO 365', 'CEPSA')\n",
    "df_n['Proveedor de Servicio'] = df_n['Proveedor de Servicio'].str.replace('CEPSAOTROSALPICAT', 'CEPSA')\n",
    "df_n['Proveedor de Servicio'] = df_n['Proveedor de Servicio'].str.replace('CEPSALLAOTROS AZUL', 'CEPSA')\n",
    "df_n['Proveedor de Servicio'] = df_n['Proveedor de Servicio'].str.replace('CEPSALOS ALMENDROS', 'CEPSA')\n",
    "df_n['Proveedor de Servicio'] = df_n['Proveedor de Servicio'].str.replace('CEPSAMUELLE GRANDE', 'CEPSA')\n",
    "df_n['Proveedor de Servicio'] = df_n['Proveedor de Servicio'].str.replace('CEPSAOTROSGARCIBUR', 'CEPSA')\n",
    "df_n['Proveedor de Servicio'] = df_n['Proveedor de Servicio'].str.replace('CEPSAPUERTO ROSARIO', 'CEPSA')\n",
    "df_n['Proveedor de Servicio'] = df_n['Proveedor de Servicio'].str.replace('CEPSALAS ARENAS 365', 'CEPSA')\n",
    "df_n['Proveedor de Servicio'] = df_n['Proveedor de Servicio'].str.replace('CEPSAOTROSE.S. ROCA', 'CEPSA')\n",
    "df_n['Proveedor de Servicio'] = df_n['Proveedor de Servicio'].str.replace('CEPSAOTROS FIERROIL', 'CEPSA')\n",
    "df_n['Proveedor de Servicio'] = df_n['Proveedor de Servicio'].str.replace('CEPSAOTROSE.S.JAIME I', 'CEPSA')\n",
    "df_n['Proveedor de Servicio'] = df_n['Proveedor de Servicio'].str.replace('CEPSAPUERTO DE LA CRUZ', 'CEPSA')\n",
    "df_n['Proveedor de Servicio'] = df_n['Proveedor de Servicio'].str.replace('CEPSAPLAZA DEL PIOTROS', 'CEPSA')\n",
    "df_n['Proveedor de Servicio'] = df_n['Proveedor de Servicio'].str.replace('CEPSAOTROS ANTELA E.S.', 'CEPSA')\n",
    "df_n['Proveedor de Servicio'] = df_n['Proveedor de Servicio'].str.replace('CEPSACOSTA DEL SILENCIO', 'CEPSA')\n",
    "df_n['Proveedor de Servicio'] = df_n['Proveedor de Servicio'].str.replace('CEPSAOPER CANARIOS S,L.', 'CEPSA')\n",
    "df_n['Proveedor de Servicio'] = df_n['Proveedor de Servicio'].str.replace('CEPSATAXISTAS S.AGUSTIN', 'CEPSA')\n",
    "df_n['Proveedor de Servicio'] = df_n['Proveedor de Servicio'].str.replace('CEPSAOTROSARROCEROS B.G.', 'CEPSA')\n",
    "df_n['Proveedor de Servicio'] = df_n['Proveedor de Servicio'].str.replace('CEPSAOTROS AGROJARA, SCA', 'CEPSA')\n",
    "df_n['Proveedor de Servicio'] = df_n['Proveedor de Servicio'].str.replace('CEPSACOD DE LOS VIOTROSS', 'CEPSA')\n",
    "df_n['Proveedor de Servicio'] = df_n['Proveedor de Servicio'].str.replace('CEPSALAS TORRES (TEXACO)', 'CEPSA')\n",
    "df_n['Proveedor de Servicio'] = df_n['Proveedor de Servicio'].str.replace('CEPSAOPER CANARIOS S,L.', 'CEPSA')\n",
    "df_n['Proveedor de Servicio'] = df_n['Proveedor de Servicio'].str.replace('CEPSAOTROSLA DEHESA S.C.A.', 'CEPSA')\n",
    "df_n['Proveedor de Servicio'] = df_n['Proveedor de Servicio'].str.replace('CEPSALOS PORTALES (TEXACO)', 'CEPSA')\n",
    "df_n['Proveedor de Servicio'] = df_n['Proveedor de Servicio'].str.replace('CEPSAOTROS LOS FILABRES SCA', 'CEPSA')\n",
    "df_n['Proveedor de Servicio'] = df_n['Proveedor de Servicio'].str.replace('CEPSAOTROSCOOP. SAN DIONISIO', 'CEPSA')\n",
    "df_n['Proveedor de Servicio'] = df_n['Proveedor de Servicio'].str.replace('CEPSACIUDAD DEL AUTOMÓVIL 365', 'CEPSA')\n",
    "df_n['Proveedor de Servicio'] = df_n['Proveedor de Servicio'].str.replace('CEPSALISBOA', 'CEPSA')\n",
    "df_n['Proveedor de Servicio'] = df_n['Proveedor de Servicio'].str.replace('E.S. CEPSACHIO', 'CEPSA')\n",
    "df_n['Proveedor de Servicio'] = df_n['Proveedor de Servicio'].str.replace('CEPSALOS LLAOTROSS OTROS GRANAD', 'CEPSA')\n",
    "df_n['Proveedor de Servicio'] = df_n['Proveedor de Servicio'].str.replace('CEPSALOS LLAOTROSS OTROS GRANADILLA', 'CEPSA')\n",
    "df_n['Proveedor de Servicio'] = df_n['Proveedor de Servicio'].str.replace('CEPSAVALLECASOTROSLA ATALAYUELA 365', 'CEPSA')\n",
    "df_n['Proveedor de Servicio'] = df_n['Proveedor de Servicio'].str.replace('E.S. CEPSALA CALETA', 'CEPSA')\n",
    "df_n['Proveedor de Servicio'] = df_n['Proveedor de Servicio'].str.replace('CEPSALAS TORRES (TEXACO)', 'CEPSA')\n",
    "df_n['Proveedor de Servicio'] = df_n['Proveedor de Servicio'].str.replace('CEPSAILLA', 'CEPSA')\n",
    "df_n['Proveedor de Servicio'] = df_n['Proveedor de Servicio'].str.replace('CEPSAOPER CANARIOS S,L.', 'CEPSA')\n",
    "df_n['Proveedor de Servicio'] = df_n['Proveedor de Servicio'].str.replace('CEPSALOS PORTALES (TEXACO)', 'CEPSA')\n",
    "df_n['Proveedor de Servicio'] = df_n['Proveedor de Servicio'].str.replace('CEPSA  ', 'CEPSA')\n",
    "df_n['Proveedor de Servicio'] = df_n['Proveedor de Servicio'].str.replace(' CEPSA', 'CEPSA')\n",
    "df_n['Proveedor de Servicio'] = df_n['Proveedor de Servicio'].str.replace('CEPSAOPER CANARIOS S,L.', 'CEPSA')\n",
    "df_n['Proveedor de Servicio'] = df_n['Proveedor de Servicio'].str.replace('ES EL CALEYU Nº 229OTROS5CEPSA', 'CEPSA')\n",
    "df_n['Proveedor de Servicio'] = df_n['Proveedor de Servicio'].str.replace('E.S.CEPSAPONTEBRANCA', 'CEPSA')\n",
    "df_n['Proveedor de Servicio'] = df_n['Proveedor de Servicio'].str.replace('ES VILAMARINACEPSA', 'CEPSA')\n",
    "df_n['Proveedor de Servicio'] = df_n['Proveedor de Servicio'].str.replace('FUNDACION AIDACEPSA', 'CEPSA')\n",
    "df_n['Proveedor de Servicio'] = df_n['Proveedor de Servicio'].str.replace('ES MIRALBUEOTROSCEPSA', 'CEPSA')\n",
    "df_n['Proveedor de Servicio'] = df_n['Proveedor de Servicio'].str.replace('EMPRESA DEL GRUPOCEPSA', 'CEPSA')\n",
    "df_n['Proveedor de Servicio'] = df_n['Proveedor de Servicio'].str.replace('CEPSAOPER CANARIOS S,L.', 'CEPSA')\n",
    "df_n['Proveedor de Servicio'] = df_n['Proveedor de Servicio'].str.replace('CEPSA\\w*', 'CEPSA')\n",
    "df_n['Proveedor de Servicio'] = df_n['Proveedor de Servicio'].str.replace('CEPSA \\S*', 'CEPSA')\n",
    "df_n['Proveedor de Servicio'] = df_n['Proveedor de Servicio'].str.replace('CEPSA \\S[a-zA-Z0-9_]*', 'CEPSA')\n",
    "df_n['Proveedor de Servicio'] = df_n['Proveedor de Servicio'].str.replace('CEPSA \\S[a-zA-Z0-9_]*\\S[a-zA-Z0-9_]*', 'CEPSA')\n",
    "df_n['Proveedor de Servicio'] = df_n['Proveedor de Servicio'].str.replace('CEPSA \\S[a-zA-Z0-9_]*\\S[a-zA-Z0-9_]*\\S[a-zA-Z0-9_]*', 'CEPSA')\n",
    "df_n['Proveedor de Servicio'] = df_n['Proveedor de Servicio'].str.replace('CEPSA\\S*', 'CEPSA')\n",
    "df_n['Proveedor de Servicio'] = df_n['Proveedor de Servicio'].str.replace('LOSADACEPSA', 'CEPSA')\n",
    "df_n['Proveedor de Servicio'] = df_n['Proveedor de Servicio'].str.replace('EE SS VENTA DEL SOLCEPSA', 'CEPSA')\n",
    "\n",
    "# BP\n",
    "df_n['Proveedor de Servicio'] = df_n['Proveedor de Servicio'].str.replace('BP \\w[a-zA-Z0-9_]', 'BP')\n",
    "df_n['Proveedor de Servicio'] = df_n['Proveedor de Servicio'].str.replace('BP\\w[a-zA-Z0-9_]', 'BP')\n",
    "df_n['Proveedor de Servicio'] = df_n['Proveedor de Servicio'].str.replace(' BP', 'BP')\n",
    "df_n['Proveedor de Servicio'] = df_n['Proveedor de Servicio'].str.replace('B P', 'BP')\n",
    "df_n['Proveedor de Servicio'] = df_n['Proveedor de Servicio'].str.replace('BP\\S*UXO', 'BP')\n",
    "df_n['Proveedor de Servicio'] = df_n['Proveedor de Servicio'].str.replace('BP\\w*', 'BP')\n",
    "df_n['Proveedor de Servicio'] = df_n['Proveedor de Servicio'].str.replace('BP \\S*w*', 'BP')\n",
    "df_n['Proveedor de Servicio'] = df_n['Proveedor de Servicio'].str.replace('BP\\S*', 'BP')\n",
    "df_n['Proveedor de Servicio'] = df_n['Proveedor de Servicio'].str.replace('E S GOMEZ \\S*BP', 'BP')\n",
    "df_n['Proveedor de Servicio'] = df_n['Proveedor de Servicio'].str.replace('E S ALCARAYON \\S*BP', 'BP')\n",
    "df_n['Proveedor de Servicio'] = df_n['Proveedor de Servicio'].str.replace('AREA DE SERVICIO A2BP', 'BP')\n",
    "\n",
    "# Gasolineras Shell\n",
    "df_n['Proveedor de Servicio'] = df_n['Proveedor de Servicio'].str.replace('SHELL \\S*', 'SHELL')\n",
    "df_n['Proveedor de Servicio'] = df_n['Proveedor de Servicio'].str.replace('SHELL \\S[a-zA-Z0-9_]*', 'SHELL')\n",
    "df_n['Proveedor de Servicio'] = df_n['Proveedor de Servicio'].str.replace('SHELL VIOTROSS','SHELL')\n",
    "df_n['Proveedor de Servicio'] = df_n['Proveedor de Servicio'].str.replace('SHELL LOS VIOTROSS','SHELL')\n",
    "df_n['Proveedor de Servicio'] = df_n['Proveedor de Servicio'].str.replace('E.S SHELL','SHELL')\n",
    "df_n['Proveedor de Servicio'] = df_n['Proveedor de Servicio'].str.replace('E.S SHELL ','SHELL')\n",
    "df_n['Proveedor de Servicio'] = df_n['Proveedor de Servicio'].str.replace( 'E.S. SHELL','SHELL')\n",
    "df_n['Proveedor de Servicio'] = df_n['Proveedor de Servicio'].str.replace('E.S.SHELL','SHELL')\n",
    "df_n['Proveedor de Servicio'] = df_n['Proveedor de Servicio'].str.replace('LUGO SHELL','SHELL')\n",
    "df_n['Proveedor de Servicio'] = df_n['Proveedor de Servicio'].str.replace('SHELL.S. BELLVIS' , 'SHELL')\n",
    "df_n['Proveedor de Servicio'] = df_n['Proveedor de Servicio'].str.replace('SHELL', 'SHELL')\n",
    "\n",
    "# Gasolineras Alcampo\n",
    "df_n['Proveedor de Servicio'] = df_n['Proveedor de Servicio'].str.replace('ALCAMPO \\S*', 'ALCAMPO')\n",
    "df_n['Proveedor de Servicio'] = df_n['Proveedor de Servicio'].str.replace('ALCAMPO \\S[a-zA-Z0-9_]*', 'ALCAMPO')\n",
    "df_n['Proveedor de Servicio'] = df_n['Proveedor de Servicio'].str.replace('ALCAMPO A', 'ALCAMPO')\n",
    "df_n['Proveedor de Servicio'] = df_n['Proveedor de Servicio'].str.replace('C C ALCAMPO', 'ALCAMPO')\n",
    "df_n['Proveedor de Servicio'] = df_n['Proveedor de Servicio'].str.replace('E S ALCAMPO', 'ALCAMPO')\n",
    "df_n['Proveedor de Servicio'] = df_n['Proveedor de Servicio'].str.replace('E S  ALCAMPO', 'ALCAMPO')\n",
    "df_n['Proveedor de Servicio'] = df_n['Proveedor de Servicio'].str.replace('ALCAMPO ', 'ALCAMPO')\n",
    "\n",
    "# Gasolineras Repsol\n",
    "df_n['Proveedor de Servicio'] = df_n['Proveedor de Servicio'].str.replace('REPSOL \\S* \\S/()', 'REPSOL')\n",
    "df_n['Proveedor de Servicio'] = df_n['Proveedor de Servicio'].str.replace('REPSOL \\S*a-zA-Z0-9_*', 'REPSOL')\n",
    "df_n['Proveedor de Servicio'] = df_n['Proveedor de Servicio'].str.replace('REPSOL \\S[a-zA-Z0-9_]*\\S[a-zA-Z0-9_]*', 'REPSOL')\n",
    "df_n['Proveedor de Servicio'] = df_n['Proveedor de Servicio'].str.replace('E S REPSOL', 'REPSOL')\n",
    "df_n['Proveedor de Servicio'] = df_n['Proveedor de Servicio'].str.replace('E S  REPSOL', 'REPSOL')\n",
    "df_n['Proveedor de Servicio'] = df_n['Proveedor de Servicio'].str.replace('REPSOL ', 'REPSOL')\n",
    "df_n['Proveedor de Servicio'] = df_n['Proveedor de Servicio'].str.replace('REPSOL65', 'REPSOL')\n",
    "df_n['Proveedor de Servicio'] = df_n['Proveedor de Servicio'].str.replace('REPSOLOMAN', 'REPSOL')\n",
    "df_n['Proveedor de Servicio'] = df_n['Proveedor de Servicio'].str.replace('REPSOLONDA', 'REPSOL')\n",
    "df_n['Proveedor de Servicio'] = df_n['Proveedor de Servicio'].str.replace('REPSOLOMA', 'REPSOL')\n",
    "df_n['Proveedor de Servicio'] = df_n['Proveedor de Servicio'].str.replace('REPSOLTROSRIO SECO', 'REPSOL')\n",
    "df_n['Proveedor de Servicio'] = df_n['Proveedor de Servicio'].str.replace('REPSOLTROSE S JAIME I', 'REPSOL')\n",
    "df_n['Proveedor de Servicio'] = df_n['Proveedor de Servicio'].str.replace('REPSOL15/OCTUBRE/2OTROSOTROS7', 'REPSOL')\n",
    "df_n['Proveedor de Servicio'] = df_n['Proveedor de Servicio'].str.replace('REPSOLILA HERMAOTROSS REDONDO S', 'REPSOL')\n",
    "df_n['Proveedor de Servicio'] = df_n['Proveedor de Servicio'].str.replace('ES DULANTZI REPSOL', 'REPSOL')\n",
    "df_n['Proveedor de Servicio'] = df_n['Proveedor de Servicio'].str.replace('EDAN (REPSOL)', 'REPSOL')\n",
    "df_n['Proveedor de Servicio'] = df_n['Proveedor de Servicio'].str.replace('BALSILLAS I (REPSOL)', 'REPSOL')\n",
    "df_n['Proveedor de Servicio'] = df_n['Proveedor de Servicio'].str.replace('HIJOS DE NAVARRO ROBLES (REPSOL)', 'REPSOL')\n",
    "df_n['Proveedor de Servicio'] = df_n['Proveedor de Servicio'].str.replace('REPSOL L', 'REPSOL')\n",
    "df_n['Proveedor de Servicio'] = df_n['Proveedor de Servicio'].str.replace('REPSOL AVENIDA', 'REPSOL')\n",
    "df_n['Proveedor de Servicio'] = df_n['Proveedor de Servicio'].str.replace('REPSOL ', 'REPSOL')\n",
    "df_n['Proveedor de Servicio'] = df_n['Proveedor de Servicio'].str.replace(' REPSOL', 'REPSOL')\n",
    "df_n['Proveedor de Servicio'] = df_n['Proveedor de Servicio'].str.replace('REPSOL5\\S*/OCTUBRE\\S*/2OTROSOTROS7', 'REPSOL')\n",
    "df_n['Proveedor de Servicio'] = df_n['Proveedor de Servicio'].str.replace('EDAN \\S*(REPSOL)', 'REPSOL')\n",
    "df_n['Proveedor de Servicio'] = df_n['Proveedor de Servicio'].str.replace('HIJOS DE NAVARRO ROBLES (REPSOL)', 'REPSOL')\n",
    "df_n['Proveedor de Servicio'] = df_n['Proveedor de Servicio'].str.replace('REPSOLADA  AVENIDA', 'REPSOL')\n",
    "df_n['Proveedor de Servicio'] = df_n['Proveedor de Servicio'].str.replace('REPSOLCTUALIZACION A 15/OCTUBR', 'REPSOL')\n",
    "df_n['Proveedor de Servicio'] = df_n['Proveedor de Servicio'].str.replace('EDAN (REPSOL)', 'REPSOL')\n",
    "df_n['Proveedor de Servicio'] = df_n['Proveedor de Servicio'].str.replace('BALSILLAS \\S*I \\S*(REPSOL)', 'REPSOL')\n",
    "df_n['Proveedor de Servicio'] = df_n['Proveedor de Servicio'].str.replace('HIJOS DE NAVARRO ROBLES \\S*(REPSOL)', 'REPSOL')\n",
    "df_n['Proveedor de Servicio'] = df_n['Proveedor de Servicio'].str.replace('REPSOL\\w*', 'REPSOL')\n",
    "df_n['Proveedor de Servicio'] = df_n['Proveedor de Servicio'].str.replace('REPSOL \\S*w*', 'REPSOL')\n",
    "df_n['Proveedor de Servicio'] = df_n['Proveedor de Servicio'].str.replace('REPSOL\\S*', 'REPSOL')\n",
    "\n",
    "# Gasolineras Disa\n",
    "df_n['Proveedor de Servicio'] = df_n['Proveedor de Servicio'].str.replace('DISA \\S*', 'DISA')\n",
    "df_n['Proveedor de Servicio'] = df_n['Proveedor de Servicio'].str.replace('DISA \\S[a-zA-Z0-9_]*', 'DISA')\n",
    "df_n['Proveedor de Servicio'] = df_n['Proveedor de Servicio'].str.replace('DISA \\S[a-zA-Z0-9_]*\\S[a-zA-Z0-9_]*', 'DISA')\n",
    "df_n['Proveedor de Servicio'] = df_n['Proveedor de Servicio'].str.replace('DISA         STO DOMINGO', 'DISA')\n",
    "df_n['Proveedor de Servicio'] = df_n['Proveedor de Servicio'].str.replace('E S DISA', 'DISA')\n",
    "df_n['Proveedor de Servicio'] = df_n['Proveedor de Servicio'].str.replace('E S  DISA', 'DISA')\n",
    "df_n['Proveedor de Servicio'] = df_n['Proveedor de Servicio'].str.replace('E S  DISA', 'DISA')\n",
    "\n",
    "# Gasolineras Exoil\n",
    "df_n['Proveedor de Servicio'] = df_n['Proveedor de Servicio'].str.replace('EXOIL \\S*', 'EXOIL')\n",
    "df_n['Proveedor de Servicio'] = df_n['Proveedor de Servicio'].str.replace('EXOIL \\S[a-zA-Z0-9_]*', 'EXOIL')\n",
    "df_n['Proveedor de Servicio'] = df_n['Proveedor de Servicio'].str.replace('EXOIL \\S[a-zA-Z0-9_]*\\S[a-zA-Z0-9_]*', 'EXOIL')\n",
    "\n",
    "# Gasolineras Energy\n",
    "df_n['Proveedor de Servicio'] = df_n['Proveedor de Servicio'].str.replace('ENERGY \\S*', 'ENERGY')\n",
    "df_n['Proveedor de Servicio'] = df_n['Proveedor de Servicio'].str.replace('ENERGY \\S[a-zA-Z0-9_]*', 'ENERGY')\n",
    "df_n['Proveedor de Servicio'] = df_n['Proveedor de Servicio'].str.replace('ENERGY \\S[a-zA-Z0-9_]*\\S[a-zA-Z0-9_]*', 'ENERGY')\n",
    "\n",
    "#Gasolineras Naturgy\n",
    "df_n['Proveedor de Servicio'] = df_n['Proveedor de Servicio'].str.replace('NATURGY ', 'NATURGY')\n",
    "df_n['Proveedor de Servicio'] = df_n['Proveedor de Servicio'].str.replace('NATURGY \\S*', 'NATURGY')\n",
    "df_n['Proveedor de Servicio'] = df_n['Proveedor de Servicio'].str.replace('NATURGY \\S[a-zA-Z0-9_]*', 'NATURGY')\n",
    "df_n['Proveedor de Servicio'] = df_n['Proveedor de Servicio'].str.replace('NATURGY \\S[a-zA-Z0-9_]*\\S[a-zA-Z0-9_]*', 'NATURGY')\n",
    "df_n['Proveedor de Servicio'] = df_n['Proveedor de Servicio'].str.replace('ESNATURGY \\S[a-zA-Z0-9_]*\\S[a-zA-Z0-9_]*', 'NATURGY')\n",
    "df_n['Proveedor de Servicio'] = df_n['Proveedor de Servicio'].str.replace('NATURGYES \\S[a-zA-Z0-9_]*\\S[a-zA-Z0-9_]*', 'NATURGY')\n",
    "df_n['Proveedor de Servicio'] = df_n['Proveedor de Servicio'].str.replace('NATURGY\\w*', 'NATURGY')\n",
    "df_n['Proveedor de Servicio'] = df_n['Proveedor de Servicio'].str.replace('NATURGY \\S*w*', 'NATURGY')\n",
    "df_n['Proveedor de Servicio'] = df_n['Proveedor de Servicio'].str.replace('NATURGYES \\S[a-zA-Z0-9_]*\\S[a-zA-Z0-9_]*\\S[a-zA-Z0-9_]*', 'NATURGY')\n",
    "\n",
    "# Gasolineras Galp\n",
    "df_n['Proveedor de Servicio'] = df_n['Proveedor de Servicio'].str.replace('GALP \\S*', 'GALP')\n",
    "df_n['Proveedor de Servicio'] = df_n['Proveedor de Servicio'].str.replace('GALP \\S[a-zA-Z0-9_]*', 'GALP')\n",
    "df_n['Proveedor de Servicio'] = df_n['Proveedor de Servicio'].str.replace('GALP \\S[a-zA-Z0-9_]*\\S[a-zA-Z0-9_]*', 'GALP')\n",
    "df_n['Proveedor de Servicio'] = df_n['Proveedor de Servicio'].str.replace('GALP \\S[a-zA-Z0-9_]*\\S[a-zA-Z0-9_]*', 'GALP')\n",
    "df_n['Proveedor de Servicio'] = df_n['Proveedor de Servicio'].str.replace('GALP \\S[a-zA-Z0-9_]*\\S[a-zA-Z0-9_]*', 'GALP')\n",
    "df_n['Proveedor de Servicio'] = df_n['Proveedor de Servicio'].str.replace('GALP\\w*', 'GALP')\n",
    "df_n['Proveedor de Servicio'] = df_n['Proveedor de Servicio'].str.replace('GALP \\S*w*', 'GALP')\n",
    "df_n['Proveedor de Servicio'] = df_n['Proveedor de Servicio'].str.replace('GALP \\S[a-zA-Z0-9_]*\\S[a-zA-Z0-9_]*\\S[a-zA-Z0-9_]*', 'GALP')\n",
    "df_n['Proveedor de Servicio'] = df_n['Proveedor de Servicio'].str.replace('GALP ', 'GALP')\n",
    "df_n['Proveedor de Servicio'] = df_n['Proveedor de Servicio'].str.replace('GALP&GO', 'GALP')\n",
    "df_n['Proveedor de Servicio'] = df_n['Proveedor de Servicio'].str.replace('GALPENERGIA', 'GALP')\n",
    "df_n['Proveedor de Servicio'] = df_n['Proveedor de Servicio'].str.replace('GALPARRIONDAS', 'GALP')\n",
    "df_n['Proveedor de Servicio'] = df_n['Proveedor de Servicio'].str.replace('GALP(E S  ANTUNEZ)', 'GALP')\n",
    "df_n['Proveedor de Servicio'] = df_n['Proveedor de Servicio'].str.replace('GALPOTROS3 CAMIOTROSS', 'GALP')\n",
    "df_n['Proveedor de Servicio'] = df_n['Proveedor de Servicio'].str.replace('GALPOTROS AMERICAN PETROL', 'GALP')\n",
    "df_n['Proveedor de Servicio'] = df_n['Proveedor de Servicio'].str.replace('GALP/3CAMIOTROSSOTROSVALENCIA', 'GALP')\n",
    "df_n['Proveedor de Servicio'] = df_n['Proveedor de Servicio'].str.replace('GALPDISTRIBUCION OIL ESPAÑA  S A U ', 'GALP')\n",
    "\n",
    "\n",
    "\n",
    "\n",
    "# ES CARBURANTES\n",
    "df_n['Proveedor de Servicio'] = df_n['Proveedor de Servicio'].str.replace('\\S* S\\*ES \\S*CABURANTES', 'ES CARBURANTES')\n",
    "df_n['Proveedor de Servicio'] = df_n['Proveedor de Servicio'].str.replace('ES CARBURANTES', 'ES CARBURANTES')\n",
    "df_n['Proveedor de Servicio'] = df_n['Proveedor de Servicio'].str.replace('ES CARBURANTES CENTRO COMERCIAL VISTALEGRE', 'ES CARBURANTES')\n",
    "\n",
    "df_n['Proveedor de Servicio'] = df_n['Proveedor de Servicio'].str.replace('\\S*[+]B ENERGIAS ', '+B ENERGIAS')\n",
    "\n",
    "df_n['Proveedor de Servicio'] "
   ]
  },
  {
   "cell_type": "code",
   "execution_count": 166,
   "id": "f71973c7",
   "metadata": {},
   "outputs": [
    {
     "data": {
      "text/plain": [
       "'GALP'"
      ]
     },
     "execution_count": 166,
     "metadata": {},
     "output_type": "execute_result"
    }
   ],
   "source": [
    " df_n['Proveedor de Servicio'].iloc[5700]\n"
   ]
  },
  {
   "cell_type": "markdown",
   "id": "05c54273",
   "metadata": {},
   "source": [
    "# Guardado Dataframe "
   ]
  },
  {
   "cell_type": "code",
   "execution_count": 167,
   "id": "5f465a5c",
   "metadata": {},
   "outputs": [],
   "source": [
    "# Guardamos df original para sucesion de tiempo\n",
    "df_n.to_csv('df_sample.csv', index=False)"
   ]
  },
  {
   "cell_type": "code",
   "execution_count": 168,
   "id": "32cb382f",
   "metadata": {
    "scrolled": false
   },
   "outputs": [
    {
     "name": "stdout",
     "output_type": "stream",
     "text": [
      "<class 'pandas.core.frame.DataFrame'>\n",
      "Index: 11849 entries, 2924 to 11051\n",
      "Data columns (total 23 columns):\n",
      " #   Column                      Non-Null Count  Dtype  \n",
      "---  ------                      --------------  -----  \n",
      " 0   Fecha                       11849 non-null  object \n",
      " 1   Horario                     11849 non-null  object \n",
      " 2   C.P.                        11849 non-null  object \n",
      " 3   Provincia                   11849 non-null  object \n",
      " 4   Municipio                   11849 non-null  object \n",
      " 5   Localidad                   11849 non-null  object \n",
      " 6   Dirección                   11849 non-null  object \n",
      " 7   Proveedor de Servicio       11849 non-null  string \n",
      " 8   Gasoleo A                   11495 non-null  float64\n",
      " 9   Media C.P. Gasoleo A        11760 non-null  float64\n",
      " 10  Media Nacional Gasoleo A    11849 non-null  float64\n",
      " 11  Gasoleo B                   3000 non-null   float64\n",
      " 12  Media C.P. Gasoleo B        5989 non-null   float64\n",
      " 13  Media Nacional Gasoleo B    11849 non-null  float64\n",
      " 14  Gasoleo Premium             7480 non-null   float64\n",
      " 15  Media C.P. Gasoleo P        5989 non-null   float64\n",
      " 16  Media Nacional Gasoleo P    11849 non-null  float64\n",
      " 17  Gasolina 95 E5              10700 non-null  float64\n",
      " 18  Media C.P. Gasolina 95      11592 non-null  float64\n",
      " 19  Media Nacional Gasolina 95  11849 non-null  float64\n",
      " 20  Gasolina 98 E5              5852 non-null   float64\n",
      " 21  Media C.P. Gasolina 98      9596 non-null   float64\n",
      " 22  Media Nacional Gasolina 98  11849 non-null  float64\n",
      "dtypes: float64(15), object(7), string(1)\n",
      "memory usage: 2.2+ MB\n"
     ]
    }
   ],
   "source": [
    "df_n.info()"
   ]
  },
  {
   "cell_type": "code",
   "execution_count": 130,
   "id": "bca523aa",
   "metadata": {},
   "outputs": [
    {
     "name": "stdout",
     "output_type": "stream",
     "text": [
      "<class 'pandas.core.series.Series'>\n"
     ]
    }
   ],
   "source": [
    "x = df_n['C.P.']\n",
    "print(type(x))\n"
   ]
  },
  {
   "cell_type": "code",
   "execution_count": 170,
   "id": "a2640cea",
   "metadata": {},
   "outputs": [],
   "source": [
    "# Analisis de Funciones"
   ]
  },
  {
   "cell_type": "code",
   "execution_count": 132,
   "id": "6a6ddce7",
   "metadata": {
    "scrolled": true
   },
   "outputs": [
    {
     "data": {
      "text/html": [
       "<div>\n",
       "<style scoped>\n",
       "    .dataframe tbody tr th:only-of-type {\n",
       "        vertical-align: middle;\n",
       "    }\n",
       "\n",
       "    .dataframe tbody tr th {\n",
       "        vertical-align: top;\n",
       "    }\n",
       "\n",
       "    .dataframe thead th {\n",
       "        text-align: right;\n",
       "    }\n",
       "</style>\n",
       "<table border=\"1\" class=\"dataframe\">\n",
       "  <thead>\n",
       "    <tr style=\"text-align: right;\">\n",
       "      <th></th>\n",
       "      <th>Fecha</th>\n",
       "      <th>Horario</th>\n",
       "      <th>C.P.</th>\n",
       "      <th>Provincia</th>\n",
       "      <th>Municipio</th>\n",
       "      <th>Localidad</th>\n",
       "      <th>Dirección</th>\n",
       "      <th>Proveedor de Servicio</th>\n",
       "      <th>Gasoleo A</th>\n",
       "      <th>Media C.P. Gasoleo A</th>\n",
       "      <th>...</th>\n",
       "      <th>Media Nacional Gasoleo B</th>\n",
       "      <th>Gasoleo Premium</th>\n",
       "      <th>Media C.P. Gasoleo P</th>\n",
       "      <th>Media Nacional Gasoleo P</th>\n",
       "      <th>Gasolina 95 E5</th>\n",
       "      <th>Media C.P. Gasolina 95</th>\n",
       "      <th>Media Nacional Gasolina 95</th>\n",
       "      <th>Gasolina 98 E5</th>\n",
       "      <th>Media C.P. Gasolina 98</th>\n",
       "      <th>Media Nacional Gasolina 98</th>\n",
       "    </tr>\n",
       "  </thead>\n",
       "  <tbody>\n",
       "    <tr>\n",
       "      <th>7172</th>\n",
       "      <td>29/06/2023 16:35:25</td>\n",
       "      <td>L-D: 24H</td>\n",
       "      <td>28760</td>\n",
       "      <td>MADRID</td>\n",
       "      <td>Tres Cantos</td>\n",
       "      <td>TRES CANTOS</td>\n",
       "      <td>AVENIDA INDUSTRIA, 44</td>\n",
       "      <td>BALLEOTROSIL</td>\n",
       "      <td>1.335</td>\n",
       "      <td>1.418714</td>\n",
       "      <td>...</td>\n",
       "      <td>1.119511</td>\n",
       "      <td>1.345</td>\n",
       "      <td>NaN</td>\n",
       "      <td>1.53853</td>\n",
       "      <td>1.469</td>\n",
       "      <td>1.558429</td>\n",
       "      <td>1.581478</td>\n",
       "      <td>NaN</td>\n",
       "      <td>1.7635</td>\n",
       "      <td>1.737381</td>\n",
       "    </tr>\n",
       "    <tr>\n",
       "      <th>7173</th>\n",
       "      <td>29/06/2023 16:35:25</td>\n",
       "      <td>L-D: 24H</td>\n",
       "      <td>28760</td>\n",
       "      <td>MADRID</td>\n",
       "      <td>Tres Cantos</td>\n",
       "      <td>TRES CANTOS</td>\n",
       "      <td>AVENIDA INDUSTRIA (DE LA), S/N</td>\n",
       "      <td>BP TRES CANTOS</td>\n",
       "      <td>1.479</td>\n",
       "      <td>1.418714</td>\n",
       "      <td>...</td>\n",
       "      <td>1.119511</td>\n",
       "      <td>1.569</td>\n",
       "      <td>NaN</td>\n",
       "      <td>1.53853</td>\n",
       "      <td>1.619</td>\n",
       "      <td>1.558429</td>\n",
       "      <td>1.581478</td>\n",
       "      <td>1.761</td>\n",
       "      <td>1.7635</td>\n",
       "      <td>1.737381</td>\n",
       "    </tr>\n",
       "    <tr>\n",
       "      <th>7174</th>\n",
       "      <td>29/06/2023 16:35:25</td>\n",
       "      <td>L-D: 06:00-00:00</td>\n",
       "      <td>28760</td>\n",
       "      <td>MADRID</td>\n",
       "      <td>Tres Cantos</td>\n",
       "      <td>TRES CANTOS</td>\n",
       "      <td>CALLE YUNQUE, 6</td>\n",
       "      <td>CEPSA</td>\n",
       "      <td>1.395</td>\n",
       "      <td>1.418714</td>\n",
       "      <td>...</td>\n",
       "      <td>1.119511</td>\n",
       "      <td>1.460</td>\n",
       "      <td>NaN</td>\n",
       "      <td>1.53853</td>\n",
       "      <td>1.529</td>\n",
       "      <td>1.558429</td>\n",
       "      <td>1.581478</td>\n",
       "      <td>NaN</td>\n",
       "      <td>1.7635</td>\n",
       "      <td>1.737381</td>\n",
       "    </tr>\n",
       "    <tr>\n",
       "      <th>7176</th>\n",
       "      <td>29/06/2023 16:35:25</td>\n",
       "      <td>L-D: 24H</td>\n",
       "      <td>28760</td>\n",
       "      <td>MADRID</td>\n",
       "      <td>Tres Cantos</td>\n",
       "      <td>TRES CANTOS</td>\n",
       "      <td>AVENIDA INDUSTRIA (DE LA), 52</td>\n",
       "      <td>PLEOTROSIL</td>\n",
       "      <td>1.335</td>\n",
       "      <td>1.418714</td>\n",
       "      <td>...</td>\n",
       "      <td>1.119511</td>\n",
       "      <td>NaN</td>\n",
       "      <td>NaN</td>\n",
       "      <td>1.53853</td>\n",
       "      <td>1.469</td>\n",
       "      <td>1.558429</td>\n",
       "      <td>1.581478</td>\n",
       "      <td>NaN</td>\n",
       "      <td>1.7635</td>\n",
       "      <td>1.737381</td>\n",
       "    </tr>\n",
       "    <tr>\n",
       "      <th>7170</th>\n",
       "      <td>29/06/2023 16:35:25</td>\n",
       "      <td>L-V: 08:00-20:00</td>\n",
       "      <td>28760</td>\n",
       "      <td>MADRID</td>\n",
       "      <td>Tres Cantos</td>\n",
       "      <td>TRES CANTOS</td>\n",
       "      <td>CL AVENIDA ARTESANOS, 40</td>\n",
       "      <td>REPSOL</td>\n",
       "      <td>1.459</td>\n",
       "      <td>1.418714</td>\n",
       "      <td>...</td>\n",
       "      <td>1.119511</td>\n",
       "      <td>NaN</td>\n",
       "      <td>NaN</td>\n",
       "      <td>1.53853</td>\n",
       "      <td>1.609</td>\n",
       "      <td>1.558429</td>\n",
       "      <td>1.581478</td>\n",
       "      <td>1.769</td>\n",
       "      <td>1.7635</td>\n",
       "      <td>1.737381</td>\n",
       "    </tr>\n",
       "    <tr>\n",
       "      <th>7171</th>\n",
       "      <td>29/06/2023 16:35:25</td>\n",
       "      <td>L-D: 06:00-22:00</td>\n",
       "      <td>28760</td>\n",
       "      <td>MADRID</td>\n",
       "      <td>Tres Cantos</td>\n",
       "      <td>TRES CANTOS</td>\n",
       "      <td>CL AVDA DE LA INDUSTRIA, 33</td>\n",
       "      <td>REPSOL</td>\n",
       "      <td>1.459</td>\n",
       "      <td>1.418714</td>\n",
       "      <td>...</td>\n",
       "      <td>1.119511</td>\n",
       "      <td>1.529</td>\n",
       "      <td>NaN</td>\n",
       "      <td>1.53853</td>\n",
       "      <td>1.595</td>\n",
       "      <td>1.558429</td>\n",
       "      <td>1.581478</td>\n",
       "      <td>1.745</td>\n",
       "      <td>1.7635</td>\n",
       "      <td>1.737381</td>\n",
       "    </tr>\n",
       "    <tr>\n",
       "      <th>7175</th>\n",
       "      <td>29/06/2023 16:35:25</td>\n",
       "      <td>L-D: 24H</td>\n",
       "      <td>28760</td>\n",
       "      <td>MADRID</td>\n",
       "      <td>Tres Cantos</td>\n",
       "      <td>TRES CANTOS</td>\n",
       "      <td>CL AV DE LA INDUSTRIA, 58</td>\n",
       "      <td>REPSOL</td>\n",
       "      <td>1.469</td>\n",
       "      <td>1.418714</td>\n",
       "      <td>...</td>\n",
       "      <td>1.119511</td>\n",
       "      <td>1.559</td>\n",
       "      <td>NaN</td>\n",
       "      <td>1.53853</td>\n",
       "      <td>1.619</td>\n",
       "      <td>1.558429</td>\n",
       "      <td>1.581478</td>\n",
       "      <td>1.779</td>\n",
       "      <td>1.7635</td>\n",
       "      <td>1.737381</td>\n",
       "    </tr>\n",
       "  </tbody>\n",
       "</table>\n",
       "<p>7 rows × 23 columns</p>\n",
       "</div>"
      ],
      "text/plain": [
       "                    Fecha           Horario   C.P. Provincia    Municipio  \\\n",
       "7172  29/06/2023 16:35:25          L-D: 24H  28760    MADRID  Tres Cantos   \n",
       "7173  29/06/2023 16:35:25          L-D: 24H  28760    MADRID  Tres Cantos   \n",
       "7174  29/06/2023 16:35:25  L-D: 06:00-00:00  28760    MADRID  Tres Cantos   \n",
       "7176  29/06/2023 16:35:25          L-D: 24H  28760    MADRID  Tres Cantos   \n",
       "7170  29/06/2023 16:35:25  L-V: 08:00-20:00  28760    MADRID  Tres Cantos   \n",
       "7171  29/06/2023 16:35:25  L-D: 06:00-22:00  28760    MADRID  Tres Cantos   \n",
       "7175  29/06/2023 16:35:25          L-D: 24H  28760    MADRID  Tres Cantos   \n",
       "\n",
       "        Localidad                       Dirección Proveedor de Servicio  \\\n",
       "7172  TRES CANTOS           AVENIDA INDUSTRIA, 44          BALLEOTROSIL   \n",
       "7173  TRES CANTOS  AVENIDA INDUSTRIA (DE LA), S/N        BP TRES CANTOS   \n",
       "7174  TRES CANTOS                 CALLE YUNQUE, 6                 CEPSA   \n",
       "7176  TRES CANTOS   AVENIDA INDUSTRIA (DE LA), 52            PLEOTROSIL   \n",
       "7170  TRES CANTOS        CL AVENIDA ARTESANOS, 40                REPSOL   \n",
       "7171  TRES CANTOS     CL AVDA DE LA INDUSTRIA, 33                REPSOL   \n",
       "7175  TRES CANTOS       CL AV DE LA INDUSTRIA, 58                REPSOL   \n",
       "\n",
       "      Gasoleo A  Media C.P. Gasoleo A  ...  Media Nacional Gasoleo B  \\\n",
       "7172      1.335              1.418714  ...                  1.119511   \n",
       "7173      1.479              1.418714  ...                  1.119511   \n",
       "7174      1.395              1.418714  ...                  1.119511   \n",
       "7176      1.335              1.418714  ...                  1.119511   \n",
       "7170      1.459              1.418714  ...                  1.119511   \n",
       "7171      1.459              1.418714  ...                  1.119511   \n",
       "7175      1.469              1.418714  ...                  1.119511   \n",
       "\n",
       "      Gasoleo Premium  Media C.P. Gasoleo P  Media Nacional Gasoleo P  \\\n",
       "7172            1.345                   NaN                   1.53853   \n",
       "7173            1.569                   NaN                   1.53853   \n",
       "7174            1.460                   NaN                   1.53853   \n",
       "7176              NaN                   NaN                   1.53853   \n",
       "7170              NaN                   NaN                   1.53853   \n",
       "7171            1.529                   NaN                   1.53853   \n",
       "7175            1.559                   NaN                   1.53853   \n",
       "\n",
       "      Gasolina 95 E5  Media C.P. Gasolina 95  Media Nacional Gasolina 95  \\\n",
       "7172           1.469                1.558429                    1.581478   \n",
       "7173           1.619                1.558429                    1.581478   \n",
       "7174           1.529                1.558429                    1.581478   \n",
       "7176           1.469                1.558429                    1.581478   \n",
       "7170           1.609                1.558429                    1.581478   \n",
       "7171           1.595                1.558429                    1.581478   \n",
       "7175           1.619                1.558429                    1.581478   \n",
       "\n",
       "      Gasolina 98 E5  Media C.P. Gasolina 98  Media Nacional Gasolina 98  \n",
       "7172             NaN                  1.7635                    1.737381  \n",
       "7173           1.761                  1.7635                    1.737381  \n",
       "7174             NaN                  1.7635                    1.737381  \n",
       "7176             NaN                  1.7635                    1.737381  \n",
       "7170           1.769                  1.7635                    1.737381  \n",
       "7171           1.745                  1.7635                    1.737381  \n",
       "7175           1.779                  1.7635                    1.737381  \n",
       "\n",
       "[7 rows x 23 columns]"
      ]
     },
     "execution_count": 132,
     "metadata": {},
     "output_type": "execute_result"
    }
   ],
   "source": [
    "# Analizar df_n usando .loc()\n",
    "\n",
    "df_n[df_n['C.P.'] == '28760'] "
   ]
  },
  {
   "cell_type": "code",
   "execution_count": 133,
   "id": "d4a411b2",
   "metadata": {},
   "outputs": [
    {
     "data": {
      "text/plain": [
       "Gasoleo A    1.02\n",
       "dtype: float64"
      ]
     },
     "execution_count": 133,
     "metadata": {},
     "output_type": "execute_result"
    }
   ],
   "source": [
    "df_n[['Gasoleo A']].min()"
   ]
  },
  {
   "cell_type": "code",
   "execution_count": 134,
   "id": "3b1f1e51",
   "metadata": {},
   "outputs": [
    {
     "data": {
      "text/plain": [
       "pandas.core.series.Series"
      ]
     },
     "execution_count": 134,
     "metadata": {},
     "output_type": "execute_result"
    }
   ],
   "source": [
    "type(df_n[['Gasoleo A']].min())"
   ]
  },
  {
   "cell_type": "code",
   "execution_count": 135,
   "id": "90b1365c",
   "metadata": {},
   "outputs": [
    {
     "data": {
      "text/plain": [
       "Gasoleo A    2661\n",
       "dtype: int64"
      ]
     },
     "execution_count": 135,
     "metadata": {},
     "output_type": "execute_result"
    }
   ],
   "source": [
    "df_n[['Gasoleo A']].idxmin()"
   ]
  },
  {
   "cell_type": "code",
   "execution_count": 136,
   "id": "2e862788",
   "metadata": {},
   "outputs": [
    {
     "data": {
      "text/plain": [
       "pandas.core.series.Series"
      ]
     },
     "execution_count": 136,
     "metadata": {},
     "output_type": "execute_result"
    }
   ],
   "source": [
    "type(df_n[['Gasoleo A']].idxmin())"
   ]
  },
  {
   "cell_type": "code",
   "execution_count": 137,
   "id": "9de51546",
   "metadata": {},
   "outputs": [],
   "source": [
    "#df_n.loc[df_n[['Gasoleo A']].min()]"
   ]
  },
  {
   "cell_type": "code",
   "execution_count": 138,
   "id": "6189b48b",
   "metadata": {},
   "outputs": [],
   "source": [
    "#df_n.head()"
   ]
  },
  {
   "cell_type": "code",
   "execution_count": 139,
   "id": "2532402d",
   "metadata": {},
   "outputs": [],
   "source": [
    "#df_n.loc[1.290]"
   ]
  },
  {
   "cell_type": "code",
   "execution_count": 140,
   "id": "eaca1f27",
   "metadata": {},
   "outputs": [
    {
     "data": {
      "text/plain": [
       "Index([ 2883,  5027, 10720, 10271,  9271, 10731,  1736,   670,  1728,  1790,\n",
       "       ...\n",
       "         964,  2500,  4741,  2209,  4711,  4879,  7226, 11375,   537, 10935],\n",
       "      dtype='int64', length=11723)"
      ]
     },
     "execution_count": 140,
     "metadata": {},
     "output_type": "execute_result"
    }
   ],
   "source": [
    "df_n.index"
   ]
  },
  {
   "cell_type": "code",
   "execution_count": 141,
   "id": "c8047416",
   "metadata": {},
   "outputs": [
    {
     "data": {
      "text/plain": [
       "pandas.core.frame.DataFrame"
      ]
     },
     "execution_count": 141,
     "metadata": {},
     "output_type": "execute_result"
    }
   ],
   "source": [
    "type(df_n.loc[df_n[['Gasoleo A']].idxmin()])"
   ]
  },
  {
   "cell_type": "code",
   "execution_count": 142,
   "id": "5f0aaab8",
   "metadata": {},
   "outputs": [
    {
     "data": {
      "text/plain": [
       "pandas.core.series.Series"
      ]
     },
     "execution_count": 142,
     "metadata": {},
     "output_type": "execute_result"
    }
   ],
   "source": [
    "type(df_n.loc[9213])"
   ]
  },
  {
   "cell_type": "code",
   "execution_count": 143,
   "id": "aeca5642",
   "metadata": {},
   "outputs": [
    {
     "data": {
      "text/plain": [
       "<pandas.core.groupby.generic.DataFrameGroupBy object at 0x00000205BBF64210>"
      ]
     },
     "execution_count": 143,
     "metadata": {},
     "output_type": "execute_result"
    }
   ],
   "source": [
    "a = df_n.groupby(by=[\"Municipio\"])\n",
    "a"
   ]
  },
  {
   "cell_type": "code",
   "execution_count": 144,
   "id": "4afac610",
   "metadata": {},
   "outputs": [
    {
     "data": {
      "text/plain": [
       "Municipio\n",
       "Abadiño                                     [48220]\n",
       "Abadín                               [27738, 27730]\n",
       "Abanilla                                    [30640]\n",
       "Abanto y Ciérvana-Abanto Zierbena           [48500]\n",
       "Abarán                                      [30550]\n",
       "                                          ...      \n",
       "Íscar                                       [47420]\n",
       "Òdena                                       [08711]\n",
       "Ólvega                                      [42110]\n",
       "Órgiva                                      [18400]\n",
       "Úbeda                                       [23400]\n",
       "Name: C.P., Length: 3390, dtype: object"
      ]
     },
     "execution_count": 144,
     "metadata": {},
     "output_type": "execute_result"
    }
   ],
   "source": [
    "b = a[\"C.P.\"].unique()\n",
    "b"
   ]
  },
  {
   "cell_type": "markdown",
   "id": "3f8e8e7f",
   "metadata": {},
   "source": [
    "# Funciones"
   ]
  },
  {
   "cell_type": "code",
   "execution_count": 145,
   "id": "ebf8ea98",
   "metadata": {},
   "outputs": [],
   "source": [
    "# Precio mínimo de combstible en un codigo postal \n",
    "def cp_minimo(x,y):\n",
    "# x = Código Postal\n",
    "# y = Tipo de combustible para el precio mínimo\n",
    "    cod_postal = df_n[df_n['C.P.'] == x]\n",
    "    combustible = cod_postal.loc[cod_postal[[y]].idxmin()]\n",
    "    return combustible\n"
   ]
  },
  {
   "cell_type": "code",
   "execution_count": 146,
   "id": "e31206c6",
   "metadata": {},
   "outputs": [
    {
     "data": {
      "text/html": [
       "<div>\n",
       "<style scoped>\n",
       "    .dataframe tbody tr th:only-of-type {\n",
       "        vertical-align: middle;\n",
       "    }\n",
       "\n",
       "    .dataframe tbody tr th {\n",
       "        vertical-align: top;\n",
       "    }\n",
       "\n",
       "    .dataframe thead th {\n",
       "        text-align: right;\n",
       "    }\n",
       "</style>\n",
       "<table border=\"1\" class=\"dataframe\">\n",
       "  <thead>\n",
       "    <tr style=\"text-align: right;\">\n",
       "      <th></th>\n",
       "      <th>Fecha</th>\n",
       "      <th>Horario</th>\n",
       "      <th>C.P.</th>\n",
       "      <th>Provincia</th>\n",
       "      <th>Municipio</th>\n",
       "      <th>Localidad</th>\n",
       "      <th>Dirección</th>\n",
       "      <th>Proveedor de Servicio</th>\n",
       "      <th>Gasoleo A</th>\n",
       "      <th>Media C.P. Gasoleo A</th>\n",
       "      <th>...</th>\n",
       "      <th>Media Nacional Gasoleo B</th>\n",
       "      <th>Gasoleo Premium</th>\n",
       "      <th>Media C.P. Gasoleo P</th>\n",
       "      <th>Media Nacional Gasoleo P</th>\n",
       "      <th>Gasolina 95 E5</th>\n",
       "      <th>Media C.P. Gasolina 95</th>\n",
       "      <th>Media Nacional Gasolina 95</th>\n",
       "      <th>Gasolina 98 E5</th>\n",
       "      <th>Media C.P. Gasolina 98</th>\n",
       "      <th>Media Nacional Gasolina 98</th>\n",
       "    </tr>\n",
       "  </thead>\n",
       "  <tbody>\n",
       "    <tr>\n",
       "      <th>7172</th>\n",
       "      <td>29/06/2023 16:35:25</td>\n",
       "      <td>L-D: 24H</td>\n",
       "      <td>28760</td>\n",
       "      <td>MADRID</td>\n",
       "      <td>Tres Cantos</td>\n",
       "      <td>TRES CANTOS</td>\n",
       "      <td>AVENIDA INDUSTRIA, 44</td>\n",
       "      <td>BALLEOTROSIL</td>\n",
       "      <td>1.335</td>\n",
       "      <td>1.418714</td>\n",
       "      <td>...</td>\n",
       "      <td>1.119511</td>\n",
       "      <td>1.345</td>\n",
       "      <td>NaN</td>\n",
       "      <td>1.53853</td>\n",
       "      <td>1.469</td>\n",
       "      <td>1.558429</td>\n",
       "      <td>1.581478</td>\n",
       "      <td>NaN</td>\n",
       "      <td>1.7635</td>\n",
       "      <td>1.737381</td>\n",
       "    </tr>\n",
       "  </tbody>\n",
       "</table>\n",
       "<p>1 rows × 23 columns</p>\n",
       "</div>"
      ],
      "text/plain": [
       "                    Fecha   Horario   C.P. Provincia    Municipio  \\\n",
       "7172  29/06/2023 16:35:25  L-D: 24H  28760    MADRID  Tres Cantos   \n",
       "\n",
       "        Localidad              Dirección Proveedor de Servicio  Gasoleo A  \\\n",
       "7172  TRES CANTOS  AVENIDA INDUSTRIA, 44          BALLEOTROSIL      1.335   \n",
       "\n",
       "      Media C.P. Gasoleo A  ...  Media Nacional Gasoleo B  Gasoleo Premium  \\\n",
       "7172              1.418714  ...                  1.119511            1.345   \n",
       "\n",
       "      Media C.P. Gasoleo P  Media Nacional Gasoleo P  Gasolina 95 E5  \\\n",
       "7172                   NaN                   1.53853           1.469   \n",
       "\n",
       "      Media C.P. Gasolina 95  Media Nacional Gasolina 95  Gasolina 98 E5  \\\n",
       "7172                1.558429                    1.581478             NaN   \n",
       "\n",
       "      Media C.P. Gasolina 98  Media Nacional Gasolina 98  \n",
       "7172                  1.7635                    1.737381  \n",
       "\n",
       "[1 rows x 23 columns]"
      ]
     },
     "execution_count": 146,
     "metadata": {},
     "output_type": "execute_result"
    }
   ],
   "source": [
    "cp_minimo('28760', 'Gasoleo A')"
   ]
  },
  {
   "cell_type": "markdown",
   "id": "2279f697",
   "metadata": {},
   "source": [
    "---"
   ]
  },
  {
   "cell_type": "code",
   "execution_count": 147,
   "id": "ee65c0fb",
   "metadata": {},
   "outputs": [
    {
     "data": {
      "text/html": [
       "<div>\n",
       "<style scoped>\n",
       "    .dataframe tbody tr th:only-of-type {\n",
       "        vertical-align: middle;\n",
       "    }\n",
       "\n",
       "    .dataframe tbody tr th {\n",
       "        vertical-align: top;\n",
       "    }\n",
       "\n",
       "    .dataframe thead th {\n",
       "        text-align: right;\n",
       "    }\n",
       "</style>\n",
       "<table border=\"1\" class=\"dataframe\">\n",
       "  <thead>\n",
       "    <tr style=\"text-align: right;\">\n",
       "      <th></th>\n",
       "      <th>Fecha</th>\n",
       "      <th>Horario</th>\n",
       "      <th>C.P.</th>\n",
       "      <th>Provincia</th>\n",
       "      <th>Municipio</th>\n",
       "      <th>Localidad</th>\n",
       "      <th>Dirección</th>\n",
       "      <th>Proveedor de Servicio</th>\n",
       "      <th>Gasoleo A</th>\n",
       "      <th>Media C.P. Gasoleo A</th>\n",
       "      <th>...</th>\n",
       "      <th>Media Nacional Gasoleo B</th>\n",
       "      <th>Gasoleo Premium</th>\n",
       "      <th>Media C.P. Gasoleo P</th>\n",
       "      <th>Media Nacional Gasoleo P</th>\n",
       "      <th>Gasolina 95 E5</th>\n",
       "      <th>Media C.P. Gasolina 95</th>\n",
       "      <th>Media Nacional Gasolina 95</th>\n",
       "      <th>Gasolina 98 E5</th>\n",
       "      <th>Media C.P. Gasolina 98</th>\n",
       "      <th>Media Nacional Gasolina 98</th>\n",
       "    </tr>\n",
       "  </thead>\n",
       "  <tbody>\n",
       "    <tr>\n",
       "      <th>6509</th>\n",
       "      <td>29/06/2023 16:35:25</td>\n",
       "      <td>L-D: 06:00-00:00</td>\n",
       "      <td>28500</td>\n",
       "      <td>MADRID</td>\n",
       "      <td>Arganda del Rey</td>\n",
       "      <td>ARGANDA</td>\n",
       "      <td>AVENIDA DE MADRID, 126</td>\n",
       "      <td>ATEOTROSIL</td>\n",
       "      <td>1.349</td>\n",
       "      <td>1.431769</td>\n",
       "      <td>...</td>\n",
       "      <td>1.119511</td>\n",
       "      <td>1.359</td>\n",
       "      <td>1.199</td>\n",
       "      <td>1.53853</td>\n",
       "      <td>1.519</td>\n",
       "      <td>1.586385</td>\n",
       "      <td>1.581478</td>\n",
       "      <td>NaN</td>\n",
       "      <td>1.797667</td>\n",
       "      <td>1.737381</td>\n",
       "    </tr>\n",
       "    <tr>\n",
       "      <th>6507</th>\n",
       "      <td>29/06/2023 16:35:25</td>\n",
       "      <td>L-D: 24H</td>\n",
       "      <td>28500</td>\n",
       "      <td>MADRID</td>\n",
       "      <td>Arganda del Rey</td>\n",
       "      <td>ARGANDA</td>\n",
       "      <td>TRAVESÍA SIERRA DE GATA, 17</td>\n",
       "      <td>BALLEOTROSIL</td>\n",
       "      <td>1.339</td>\n",
       "      <td>1.431769</td>\n",
       "      <td>...</td>\n",
       "      <td>1.119511</td>\n",
       "      <td>1.349</td>\n",
       "      <td>1.199</td>\n",
       "      <td>1.53853</td>\n",
       "      <td>1.519</td>\n",
       "      <td>1.586385</td>\n",
       "      <td>1.581478</td>\n",
       "      <td>NaN</td>\n",
       "      <td>1.797667</td>\n",
       "      <td>1.737381</td>\n",
       "    </tr>\n",
       "    <tr>\n",
       "      <th>6504</th>\n",
       "      <td>29/06/2023 16:35:25</td>\n",
       "      <td>L-D: 24H</td>\n",
       "      <td>28500</td>\n",
       "      <td>MADRID</td>\n",
       "      <td>Arganda del Rey</td>\n",
       "      <td>ARGANDA</td>\n",
       "      <td>CAMINO CAMINO DE SAN MARTÍN DE LA VEGA A ARGAN...</td>\n",
       "      <td>BALLEOTROSIL</td>\n",
       "      <td>1.339</td>\n",
       "      <td>1.431769</td>\n",
       "      <td>...</td>\n",
       "      <td>1.119511</td>\n",
       "      <td>NaN</td>\n",
       "      <td>1.199</td>\n",
       "      <td>1.53853</td>\n",
       "      <td>1.519</td>\n",
       "      <td>1.586385</td>\n",
       "      <td>1.581478</td>\n",
       "      <td>NaN</td>\n",
       "      <td>1.797667</td>\n",
       "      <td>1.737381</td>\n",
       "    </tr>\n",
       "    <tr>\n",
       "      <th>6503</th>\n",
       "      <td>29/06/2023 16:35:25</td>\n",
       "      <td>L-D: 24H</td>\n",
       "      <td>28500</td>\n",
       "      <td>MADRID</td>\n",
       "      <td>Arganda del Rey</td>\n",
       "      <td>ARGANDA</td>\n",
       "      <td>CAMINO SAN MARTIN DE LA VEGA, 8</td>\n",
       "      <td>BALLEOTROSIL</td>\n",
       "      <td>1.339</td>\n",
       "      <td>1.431769</td>\n",
       "      <td>...</td>\n",
       "      <td>1.119511</td>\n",
       "      <td>NaN</td>\n",
       "      <td>1.199</td>\n",
       "      <td>1.53853</td>\n",
       "      <td>1.519</td>\n",
       "      <td>1.586385</td>\n",
       "      <td>1.581478</td>\n",
       "      <td>NaN</td>\n",
       "      <td>1.797667</td>\n",
       "      <td>1.737381</td>\n",
       "    </tr>\n",
       "    <tr>\n",
       "      <th>6502</th>\n",
       "      <td>29/06/2023 16:35:25</td>\n",
       "      <td>L-D: 24H</td>\n",
       "      <td>28500</td>\n",
       "      <td>MADRID</td>\n",
       "      <td>Arganda del Rey</td>\n",
       "      <td>ARGANDA</td>\n",
       "      <td>AVENIDA EJERCITO (DEL), 44</td>\n",
       "      <td>BP ARGANDA</td>\n",
       "      <td>1.529</td>\n",
       "      <td>1.431769</td>\n",
       "      <td>...</td>\n",
       "      <td>1.119511</td>\n",
       "      <td>1.619</td>\n",
       "      <td>1.199</td>\n",
       "      <td>1.53853</td>\n",
       "      <td>1.659</td>\n",
       "      <td>1.586385</td>\n",
       "      <td>1.581478</td>\n",
       "      <td>1.801</td>\n",
       "      <td>1.797667</td>\n",
       "      <td>1.737381</td>\n",
       "    </tr>\n",
       "    <tr>\n",
       "      <th>6501</th>\n",
       "      <td>29/06/2023 16:35:25</td>\n",
       "      <td>L-D: 06:00-22:00</td>\n",
       "      <td>28500</td>\n",
       "      <td>MADRID</td>\n",
       "      <td>Arganda del Rey</td>\n",
       "      <td>ARGANDA</td>\n",
       "      <td>AVENIDA DE MADRID, 37</td>\n",
       "      <td>BP LA ARGANDEÑA</td>\n",
       "      <td>1.529</td>\n",
       "      <td>1.431769</td>\n",
       "      <td>...</td>\n",
       "      <td>1.119511</td>\n",
       "      <td>1.619</td>\n",
       "      <td>1.199</td>\n",
       "      <td>1.53853</td>\n",
       "      <td>1.659</td>\n",
       "      <td>1.586385</td>\n",
       "      <td>1.581478</td>\n",
       "      <td>1.801</td>\n",
       "      <td>1.797667</td>\n",
       "      <td>1.737381</td>\n",
       "    </tr>\n",
       "    <tr>\n",
       "      <th>6506</th>\n",
       "      <td>29/06/2023 16:35:25</td>\n",
       "      <td>L-D: 24H</td>\n",
       "      <td>28500</td>\n",
       "      <td>MADRID</td>\n",
       "      <td>Arganda del Rey</td>\n",
       "      <td>ARGANDA</td>\n",
       "      <td>AVENIDA VALDEARGANDA, 8</td>\n",
       "      <td>CEPSA</td>\n",
       "      <td>1.539</td>\n",
       "      <td>1.431769</td>\n",
       "      <td>...</td>\n",
       "      <td>1.119511</td>\n",
       "      <td>1.639</td>\n",
       "      <td>1.199</td>\n",
       "      <td>1.53853</td>\n",
       "      <td>1.659</td>\n",
       "      <td>1.586385</td>\n",
       "      <td>1.581478</td>\n",
       "      <td>1.791</td>\n",
       "      <td>1.797667</td>\n",
       "      <td>1.737381</td>\n",
       "    </tr>\n",
       "    <tr>\n",
       "      <th>6510</th>\n",
       "      <td>29/06/2023 16:35:25</td>\n",
       "      <td>L-D: 07:00-22:00</td>\n",
       "      <td>28500</td>\n",
       "      <td>MADRID</td>\n",
       "      <td>Arganda del Rey</td>\n",
       "      <td>ARGANDA</td>\n",
       "      <td>AVENIDA FINANZAUTO (DE), 2</td>\n",
       "      <td>DELFIOIL</td>\n",
       "      <td>1.339</td>\n",
       "      <td>1.431769</td>\n",
       "      <td>...</td>\n",
       "      <td>1.119511</td>\n",
       "      <td>NaN</td>\n",
       "      <td>1.199</td>\n",
       "      <td>1.53853</td>\n",
       "      <td>1.519</td>\n",
       "      <td>1.586385</td>\n",
       "      <td>1.581478</td>\n",
       "      <td>NaN</td>\n",
       "      <td>1.797667</td>\n",
       "      <td>1.737381</td>\n",
       "    </tr>\n",
       "    <tr>\n",
       "      <th>6512</th>\n",
       "      <td>29/06/2023 16:35:25</td>\n",
       "      <td>L-D: 24H</td>\n",
       "      <td>28500</td>\n",
       "      <td>MADRID</td>\n",
       "      <td>Arganda del Rey</td>\n",
       "      <td>ARGANDA</td>\n",
       "      <td>AVENIDA MADRID (DE), SN</td>\n",
       "      <td>PETROPRIX</td>\n",
       "      <td>1.339</td>\n",
       "      <td>1.431769</td>\n",
       "      <td>...</td>\n",
       "      <td>1.119511</td>\n",
       "      <td>NaN</td>\n",
       "      <td>1.199</td>\n",
       "      <td>1.53853</td>\n",
       "      <td>1.519</td>\n",
       "      <td>1.586385</td>\n",
       "      <td>1.581478</td>\n",
       "      <td>NaN</td>\n",
       "      <td>1.797667</td>\n",
       "      <td>1.737381</td>\n",
       "    </tr>\n",
       "    <tr>\n",
       "      <th>6505</th>\n",
       "      <td>29/06/2023 16:35:25</td>\n",
       "      <td>L-D: 24H</td>\n",
       "      <td>28500</td>\n",
       "      <td>MADRID</td>\n",
       "      <td>Arganda del Rey</td>\n",
       "      <td>ARGANDA</td>\n",
       "      <td>AVENIDA MADRID (DE), 66</td>\n",
       "      <td>PLEOTROSIL</td>\n",
       "      <td>1.339</td>\n",
       "      <td>1.431769</td>\n",
       "      <td>...</td>\n",
       "      <td>1.119511</td>\n",
       "      <td>NaN</td>\n",
       "      <td>1.199</td>\n",
       "      <td>1.53853</td>\n",
       "      <td>1.519</td>\n",
       "      <td>1.586385</td>\n",
       "      <td>1.581478</td>\n",
       "      <td>NaN</td>\n",
       "      <td>1.797667</td>\n",
       "      <td>1.737381</td>\n",
       "    </tr>\n",
       "    <tr>\n",
       "      <th>6511</th>\n",
       "      <td>29/06/2023 16:35:25</td>\n",
       "      <td>L: 24H</td>\n",
       "      <td>28500</td>\n",
       "      <td>MADRID</td>\n",
       "      <td>Arganda del Rey</td>\n",
       "      <td>ARGANDA</td>\n",
       "      <td>CARRETERA M-832 KM. 3</td>\n",
       "      <td>REPSOL</td>\n",
       "      <td>1.552</td>\n",
       "      <td>1.431769</td>\n",
       "      <td>...</td>\n",
       "      <td>1.119511</td>\n",
       "      <td>NaN</td>\n",
       "      <td>1.199</td>\n",
       "      <td>1.53853</td>\n",
       "      <td>1.672</td>\n",
       "      <td>1.586385</td>\n",
       "      <td>1.581478</td>\n",
       "      <td>NaN</td>\n",
       "      <td>1.797667</td>\n",
       "      <td>1.737381</td>\n",
       "    </tr>\n",
       "    <tr>\n",
       "      <th>6508</th>\n",
       "      <td>29/06/2023 16:35:25</td>\n",
       "      <td>L-V: 06:00-22:00; S-D: 08:00-22:00</td>\n",
       "      <td>28500</td>\n",
       "      <td>MADRID</td>\n",
       "      <td>Arganda del Rey</td>\n",
       "      <td>ARGANDA</td>\n",
       "      <td>AVDA DE MADRID, 103</td>\n",
       "      <td>REPSOL</td>\n",
       "      <td>1.529</td>\n",
       "      <td>1.431769</td>\n",
       "      <td>...</td>\n",
       "      <td>1.119511</td>\n",
       "      <td>1.539</td>\n",
       "      <td>1.199</td>\n",
       "      <td>1.53853</td>\n",
       "      <td>1.669</td>\n",
       "      <td>1.586385</td>\n",
       "      <td>1.581478</td>\n",
       "      <td>NaN</td>\n",
       "      <td>1.797667</td>\n",
       "      <td>1.737381</td>\n",
       "    </tr>\n",
       "    <tr>\n",
       "      <th>6500</th>\n",
       "      <td>29/06/2023 16:35:25</td>\n",
       "      <td>L-D: 24H</td>\n",
       "      <td>28500</td>\n",
       "      <td>MADRID</td>\n",
       "      <td>Arganda del Rey</td>\n",
       "      <td>ARGANDA</td>\n",
       "      <td>CARRETERA M-832 KM. 3</td>\n",
       "      <td>REPSOL</td>\n",
       "      <td>1.552</td>\n",
       "      <td>1.431769</td>\n",
       "      <td>...</td>\n",
       "      <td>1.119511</td>\n",
       "      <td>1.642</td>\n",
       "      <td>1.199</td>\n",
       "      <td>1.53853</td>\n",
       "      <td>1.672</td>\n",
       "      <td>1.586385</td>\n",
       "      <td>1.581478</td>\n",
       "      <td>NaN</td>\n",
       "      <td>1.797667</td>\n",
       "      <td>1.737381</td>\n",
       "    </tr>\n",
       "  </tbody>\n",
       "</table>\n",
       "<p>13 rows × 23 columns</p>\n",
       "</div>"
      ],
      "text/plain": [
       "                    Fecha                             Horario   C.P.  \\\n",
       "6509  29/06/2023 16:35:25                    L-D: 06:00-00:00  28500   \n",
       "6507  29/06/2023 16:35:25                            L-D: 24H  28500   \n",
       "6504  29/06/2023 16:35:25                            L-D: 24H  28500   \n",
       "6503  29/06/2023 16:35:25                            L-D: 24H  28500   \n",
       "6502  29/06/2023 16:35:25                            L-D: 24H  28500   \n",
       "6501  29/06/2023 16:35:25                    L-D: 06:00-22:00  28500   \n",
       "6506  29/06/2023 16:35:25                            L-D: 24H  28500   \n",
       "6510  29/06/2023 16:35:25                    L-D: 07:00-22:00  28500   \n",
       "6512  29/06/2023 16:35:25                            L-D: 24H  28500   \n",
       "6505  29/06/2023 16:35:25                            L-D: 24H  28500   \n",
       "6511  29/06/2023 16:35:25                              L: 24H  28500   \n",
       "6508  29/06/2023 16:35:25  L-V: 06:00-22:00; S-D: 08:00-22:00  28500   \n",
       "6500  29/06/2023 16:35:25                            L-D: 24H  28500   \n",
       "\n",
       "     Provincia        Municipio Localidad  \\\n",
       "6509    MADRID  Arganda del Rey   ARGANDA   \n",
       "6507    MADRID  Arganda del Rey   ARGANDA   \n",
       "6504    MADRID  Arganda del Rey   ARGANDA   \n",
       "6503    MADRID  Arganda del Rey   ARGANDA   \n",
       "6502    MADRID  Arganda del Rey   ARGANDA   \n",
       "6501    MADRID  Arganda del Rey   ARGANDA   \n",
       "6506    MADRID  Arganda del Rey   ARGANDA   \n",
       "6510    MADRID  Arganda del Rey   ARGANDA   \n",
       "6512    MADRID  Arganda del Rey   ARGANDA   \n",
       "6505    MADRID  Arganda del Rey   ARGANDA   \n",
       "6511    MADRID  Arganda del Rey   ARGANDA   \n",
       "6508    MADRID  Arganda del Rey   ARGANDA   \n",
       "6500    MADRID  Arganda del Rey   ARGANDA   \n",
       "\n",
       "                                              Dirección Proveedor de Servicio  \\\n",
       "6509                             AVENIDA DE MADRID, 126            ATEOTROSIL   \n",
       "6507                        TRAVESÍA SIERRA DE GATA, 17          BALLEOTROSIL   \n",
       "6504  CAMINO CAMINO DE SAN MARTÍN DE LA VEGA A ARGAN...          BALLEOTROSIL   \n",
       "6503                    CAMINO SAN MARTIN DE LA VEGA, 8          BALLEOTROSIL   \n",
       "6502                         AVENIDA EJERCITO (DEL), 44            BP ARGANDA   \n",
       "6501                              AVENIDA DE MADRID, 37       BP LA ARGANDEÑA   \n",
       "6506                            AVENIDA VALDEARGANDA, 8                 CEPSA   \n",
       "6510                         AVENIDA FINANZAUTO (DE), 2              DELFIOIL   \n",
       "6512                            AVENIDA MADRID (DE), SN             PETROPRIX   \n",
       "6505                            AVENIDA MADRID (DE), 66            PLEOTROSIL   \n",
       "6511                              CARRETERA M-832 KM. 3                REPSOL   \n",
       "6508                                AVDA DE MADRID, 103                REPSOL   \n",
       "6500                              CARRETERA M-832 KM. 3                REPSOL   \n",
       "\n",
       "      Gasoleo A  Media C.P. Gasoleo A  ...  Media Nacional Gasoleo B  \\\n",
       "6509      1.349              1.431769  ...                  1.119511   \n",
       "6507      1.339              1.431769  ...                  1.119511   \n",
       "6504      1.339              1.431769  ...                  1.119511   \n",
       "6503      1.339              1.431769  ...                  1.119511   \n",
       "6502      1.529              1.431769  ...                  1.119511   \n",
       "6501      1.529              1.431769  ...                  1.119511   \n",
       "6506      1.539              1.431769  ...                  1.119511   \n",
       "6510      1.339              1.431769  ...                  1.119511   \n",
       "6512      1.339              1.431769  ...                  1.119511   \n",
       "6505      1.339              1.431769  ...                  1.119511   \n",
       "6511      1.552              1.431769  ...                  1.119511   \n",
       "6508      1.529              1.431769  ...                  1.119511   \n",
       "6500      1.552              1.431769  ...                  1.119511   \n",
       "\n",
       "      Gasoleo Premium  Media C.P. Gasoleo P  Media Nacional Gasoleo P  \\\n",
       "6509            1.359                 1.199                   1.53853   \n",
       "6507            1.349                 1.199                   1.53853   \n",
       "6504              NaN                 1.199                   1.53853   \n",
       "6503              NaN                 1.199                   1.53853   \n",
       "6502            1.619                 1.199                   1.53853   \n",
       "6501            1.619                 1.199                   1.53853   \n",
       "6506            1.639                 1.199                   1.53853   \n",
       "6510              NaN                 1.199                   1.53853   \n",
       "6512              NaN                 1.199                   1.53853   \n",
       "6505              NaN                 1.199                   1.53853   \n",
       "6511              NaN                 1.199                   1.53853   \n",
       "6508            1.539                 1.199                   1.53853   \n",
       "6500            1.642                 1.199                   1.53853   \n",
       "\n",
       "      Gasolina 95 E5  Media C.P. Gasolina 95  Media Nacional Gasolina 95  \\\n",
       "6509           1.519                1.586385                    1.581478   \n",
       "6507           1.519                1.586385                    1.581478   \n",
       "6504           1.519                1.586385                    1.581478   \n",
       "6503           1.519                1.586385                    1.581478   \n",
       "6502           1.659                1.586385                    1.581478   \n",
       "6501           1.659                1.586385                    1.581478   \n",
       "6506           1.659                1.586385                    1.581478   \n",
       "6510           1.519                1.586385                    1.581478   \n",
       "6512           1.519                1.586385                    1.581478   \n",
       "6505           1.519                1.586385                    1.581478   \n",
       "6511           1.672                1.586385                    1.581478   \n",
       "6508           1.669                1.586385                    1.581478   \n",
       "6500           1.672                1.586385                    1.581478   \n",
       "\n",
       "      Gasolina 98 E5  Media C.P. Gasolina 98  Media Nacional Gasolina 98  \n",
       "6509             NaN                1.797667                    1.737381  \n",
       "6507             NaN                1.797667                    1.737381  \n",
       "6504             NaN                1.797667                    1.737381  \n",
       "6503             NaN                1.797667                    1.737381  \n",
       "6502           1.801                1.797667                    1.737381  \n",
       "6501           1.801                1.797667                    1.737381  \n",
       "6506           1.791                1.797667                    1.737381  \n",
       "6510             NaN                1.797667                    1.737381  \n",
       "6512             NaN                1.797667                    1.737381  \n",
       "6505             NaN                1.797667                    1.737381  \n",
       "6511             NaN                1.797667                    1.737381  \n",
       "6508             NaN                1.797667                    1.737381  \n",
       "6500             NaN                1.797667                    1.737381  \n",
       "\n",
       "[13 rows x 23 columns]"
      ]
     },
     "execution_count": 147,
     "metadata": {},
     "output_type": "execute_result"
    }
   ],
   "source": [
    "df_n[df_n['C.P.'] == \"28500\"]"
   ]
  },
  {
   "cell_type": "code",
   "execution_count": 148,
   "id": "2b4ed723",
   "metadata": {},
   "outputs": [
    {
     "data": {
      "text/html": [
       "<div>\n",
       "<style scoped>\n",
       "    .dataframe tbody tr th:only-of-type {\n",
       "        vertical-align: middle;\n",
       "    }\n",
       "\n",
       "    .dataframe tbody tr th {\n",
       "        vertical-align: top;\n",
       "    }\n",
       "\n",
       "    .dataframe thead th {\n",
       "        text-align: right;\n",
       "    }\n",
       "</style>\n",
       "<table border=\"1\" class=\"dataframe\">\n",
       "  <thead>\n",
       "    <tr style=\"text-align: right;\">\n",
       "      <th></th>\n",
       "      <th>Fecha</th>\n",
       "      <th>Horario</th>\n",
       "      <th>C.P.</th>\n",
       "      <th>Provincia</th>\n",
       "      <th>Municipio</th>\n",
       "      <th>Localidad</th>\n",
       "      <th>Dirección</th>\n",
       "      <th>Proveedor de Servicio</th>\n",
       "      <th>Gasoleo A</th>\n",
       "      <th>Media C.P. Gasoleo A</th>\n",
       "      <th>...</th>\n",
       "      <th>Media Nacional Gasoleo B</th>\n",
       "      <th>Gasoleo Premium</th>\n",
       "      <th>Media C.P. Gasoleo P</th>\n",
       "      <th>Media Nacional Gasoleo P</th>\n",
       "      <th>Gasolina 95 E5</th>\n",
       "      <th>Media C.P. Gasolina 95</th>\n",
       "      <th>Media Nacional Gasolina 95</th>\n",
       "      <th>Gasolina 98 E5</th>\n",
       "      <th>Media C.P. Gasolina 98</th>\n",
       "      <th>Media Nacional Gasolina 98</th>\n",
       "    </tr>\n",
       "  </thead>\n",
       "  <tbody>\n",
       "    <tr>\n",
       "      <th>7131</th>\n",
       "      <td>29/06/2023 16:35:25</td>\n",
       "      <td>L-D: 07:00-23:00</td>\n",
       "      <td>28609</td>\n",
       "      <td>MADRID</td>\n",
       "      <td>Sevilla la Nueva</td>\n",
       "      <td>SEVILLA LA NUEVA</td>\n",
       "      <td>CARRETERA M-600 KM. 44</td>\n",
       "      <td>GALP</td>\n",
       "      <td>1.439</td>\n",
       "      <td>1.464</td>\n",
       "      <td>...</td>\n",
       "      <td>1.119511</td>\n",
       "      <td>1.509</td>\n",
       "      <td>NaN</td>\n",
       "      <td>1.53853</td>\n",
       "      <td>1.599</td>\n",
       "      <td>1.60025</td>\n",
       "      <td>1.581478</td>\n",
       "      <td>1.719</td>\n",
       "      <td>1.72025</td>\n",
       "      <td>1.737381</td>\n",
       "    </tr>\n",
       "    <tr>\n",
       "      <th>7130</th>\n",
       "      <td>29/06/2023 16:35:25</td>\n",
       "      <td>L-D: 07:00-23:00</td>\n",
       "      <td>28609</td>\n",
       "      <td>MADRID</td>\n",
       "      <td>Sevilla la Nueva</td>\n",
       "      <td>SEVILLA LA NUEVA</td>\n",
       "      <td>CARRETERA M-600 KM. 44</td>\n",
       "      <td>GALP</td>\n",
       "      <td>1.439</td>\n",
       "      <td>1.464</td>\n",
       "      <td>...</td>\n",
       "      <td>1.119511</td>\n",
       "      <td>1.509</td>\n",
       "      <td>NaN</td>\n",
       "      <td>1.53853</td>\n",
       "      <td>1.599</td>\n",
       "      <td>1.60025</td>\n",
       "      <td>1.581478</td>\n",
       "      <td>1.719</td>\n",
       "      <td>1.72025</td>\n",
       "      <td>1.737381</td>\n",
       "    </tr>\n",
       "    <tr>\n",
       "      <th>7213</th>\n",
       "      <td>29/06/2023 16:35:25</td>\n",
       "      <td>L-D: 06:00-22:00</td>\n",
       "      <td>28609</td>\n",
       "      <td>MADRID</td>\n",
       "      <td>Villanueva de Perales</td>\n",
       "      <td>VILLANUEVA DE PERALES</td>\n",
       "      <td>CARRETERA M-501 KM. 26,800</td>\n",
       "      <td>GALP</td>\n",
       "      <td>1.489</td>\n",
       "      <td>1.464</td>\n",
       "      <td>...</td>\n",
       "      <td>1.119511</td>\n",
       "      <td>1.559</td>\n",
       "      <td>NaN</td>\n",
       "      <td>1.53853</td>\n",
       "      <td>1.599</td>\n",
       "      <td>1.60025</td>\n",
       "      <td>1.581478</td>\n",
       "      <td>1.719</td>\n",
       "      <td>1.72025</td>\n",
       "      <td>1.737381</td>\n",
       "    </tr>\n",
       "    <tr>\n",
       "      <th>7212</th>\n",
       "      <td>29/06/2023 16:35:25</td>\n",
       "      <td>L-D: 24H</td>\n",
       "      <td>28609</td>\n",
       "      <td>MADRID</td>\n",
       "      <td>Villanueva de Perales</td>\n",
       "      <td>VILLANUEVA DE PERALES</td>\n",
       "      <td>CARRETERA M-501 KM. 27</td>\n",
       "      <td>GALP</td>\n",
       "      <td>1.489</td>\n",
       "      <td>1.464</td>\n",
       "      <td>...</td>\n",
       "      <td>1.119511</td>\n",
       "      <td>1.559</td>\n",
       "      <td>NaN</td>\n",
       "      <td>1.53853</td>\n",
       "      <td>1.604</td>\n",
       "      <td>1.60025</td>\n",
       "      <td>1.581478</td>\n",
       "      <td>1.724</td>\n",
       "      <td>1.72025</td>\n",
       "      <td>1.737381</td>\n",
       "    </tr>\n",
       "  </tbody>\n",
       "</table>\n",
       "<p>4 rows × 23 columns</p>\n",
       "</div>"
      ],
      "text/plain": [
       "                    Fecha           Horario   C.P. Provincia  \\\n",
       "7131  29/06/2023 16:35:25  L-D: 07:00-23:00  28609    MADRID   \n",
       "7130  29/06/2023 16:35:25  L-D: 07:00-23:00  28609    MADRID   \n",
       "7213  29/06/2023 16:35:25  L-D: 06:00-22:00  28609    MADRID   \n",
       "7212  29/06/2023 16:35:25          L-D: 24H  28609    MADRID   \n",
       "\n",
       "                  Municipio              Localidad  \\\n",
       "7131       Sevilla la Nueva       SEVILLA LA NUEVA   \n",
       "7130       Sevilla la Nueva       SEVILLA LA NUEVA   \n",
       "7213  Villanueva de Perales  VILLANUEVA DE PERALES   \n",
       "7212  Villanueva de Perales  VILLANUEVA DE PERALES   \n",
       "\n",
       "                       Dirección Proveedor de Servicio  Gasoleo A  \\\n",
       "7131      CARRETERA M-600 KM. 44                  GALP      1.439   \n",
       "7130      CARRETERA M-600 KM. 44                  GALP      1.439   \n",
       "7213  CARRETERA M-501 KM. 26,800                  GALP      1.489   \n",
       "7212      CARRETERA M-501 KM. 27                  GALP      1.489   \n",
       "\n",
       "      Media C.P. Gasoleo A  ...  Media Nacional Gasoleo B  Gasoleo Premium  \\\n",
       "7131                 1.464  ...                  1.119511            1.509   \n",
       "7130                 1.464  ...                  1.119511            1.509   \n",
       "7213                 1.464  ...                  1.119511            1.559   \n",
       "7212                 1.464  ...                  1.119511            1.559   \n",
       "\n",
       "      Media C.P. Gasoleo P  Media Nacional Gasoleo P  Gasolina 95 E5  \\\n",
       "7131                   NaN                   1.53853           1.599   \n",
       "7130                   NaN                   1.53853           1.599   \n",
       "7213                   NaN                   1.53853           1.599   \n",
       "7212                   NaN                   1.53853           1.604   \n",
       "\n",
       "      Media C.P. Gasolina 95  Media Nacional Gasolina 95  Gasolina 98 E5  \\\n",
       "7131                 1.60025                    1.581478           1.719   \n",
       "7130                 1.60025                    1.581478           1.719   \n",
       "7213                 1.60025                    1.581478           1.719   \n",
       "7212                 1.60025                    1.581478           1.724   \n",
       "\n",
       "      Media C.P. Gasolina 98  Media Nacional Gasolina 98  \n",
       "7131                 1.72025                    1.737381  \n",
       "7130                 1.72025                    1.737381  \n",
       "7213                 1.72025                    1.737381  \n",
       "7212                 1.72025                    1.737381  \n",
       "\n",
       "[4 rows x 23 columns]"
      ]
     },
     "execution_count": 148,
     "metadata": {},
     "output_type": "execute_result"
    }
   ],
   "source": [
    "# Comprobación\n",
    "x1 = df_n[\"C.P.\"]=='28609'\n",
    "x2 = df_n[x1]\n",
    "x2"
   ]
  },
  {
   "cell_type": "code",
   "execution_count": 149,
   "id": "c5f55514",
   "metadata": {},
   "outputs": [],
   "source": [
    "########\n",
    "def cp_media(x):\n",
    "# x = Código Postal\n",
    "# y = Tipo de combustible para el precio mínimo\n",
    "    cod_postal = df_n[df_n['C.P.'] == x]\n",
    "    media_cp = cod_postal[['Gasoleo A']].mean()\n",
    "    return media_cp"
   ]
  },
  {
   "cell_type": "code",
   "execution_count": 150,
   "id": "6b9180a1",
   "metadata": {},
   "outputs": [
    {
     "data": {
      "text/plain": [
       "Gasoleo A    1.418714\n",
       "dtype: float64"
      ]
     },
     "execution_count": 150,
     "metadata": {},
     "output_type": "execute_result"
    }
   ],
   "source": [
    "#####Comprobacion#####\n",
    "cp_media('28760')\n"
   ]
  },
  {
   "cell_type": "code",
   "execution_count": 151,
   "id": "76cc76f7",
   "metadata": {},
   "outputs": [],
   "source": [
    "# Precio mínimo de combstible en una Provincia  \n",
    "def provincia_minimo(x, y):\n",
    "# x = Provincia\n",
    "# y = tipo de combustible     \n",
    "    provincia = df_n[df_n[\"Provincia\"] == x]\n",
    "    minimo_prov = provincia.loc[provincia[[y]].idxmin()]\n",
    "    return minimo_prov"
   ]
  },
  {
   "cell_type": "code",
   "execution_count": 152,
   "id": "9e76f0ba",
   "metadata": {},
   "outputs": [
    {
     "data": {
      "text/html": [
       "<div>\n",
       "<style scoped>\n",
       "    .dataframe tbody tr th:only-of-type {\n",
       "        vertical-align: middle;\n",
       "    }\n",
       "\n",
       "    .dataframe tbody tr th {\n",
       "        vertical-align: top;\n",
       "    }\n",
       "\n",
       "    .dataframe thead th {\n",
       "        text-align: right;\n",
       "    }\n",
       "</style>\n",
       "<table border=\"1\" class=\"dataframe\">\n",
       "  <thead>\n",
       "    <tr style=\"text-align: right;\">\n",
       "      <th></th>\n",
       "      <th>Fecha</th>\n",
       "      <th>Horario</th>\n",
       "      <th>C.P.</th>\n",
       "      <th>Provincia</th>\n",
       "      <th>Municipio</th>\n",
       "      <th>Localidad</th>\n",
       "      <th>Dirección</th>\n",
       "      <th>Proveedor de Servicio</th>\n",
       "      <th>Gasoleo A</th>\n",
       "      <th>Media C.P. Gasoleo A</th>\n",
       "      <th>...</th>\n",
       "      <th>Media Nacional Gasoleo B</th>\n",
       "      <th>Gasoleo Premium</th>\n",
       "      <th>Media C.P. Gasoleo P</th>\n",
       "      <th>Media Nacional Gasoleo P</th>\n",
       "      <th>Gasolina 95 E5</th>\n",
       "      <th>Media C.P. Gasolina 95</th>\n",
       "      <th>Media Nacional Gasolina 95</th>\n",
       "      <th>Gasolina 98 E5</th>\n",
       "      <th>Media C.P. Gasolina 98</th>\n",
       "      <th>Media Nacional Gasolina 98</th>\n",
       "    </tr>\n",
       "  </thead>\n",
       "  <tbody>\n",
       "    <tr>\n",
       "      <th>6985</th>\n",
       "      <td>29/06/2023 16:35:25</td>\n",
       "      <td>L-D: 24H</td>\n",
       "      <td>28936</td>\n",
       "      <td>MADRID</td>\n",
       "      <td>Móstoles</td>\n",
       "      <td>MOSTOLES</td>\n",
       "      <td>CALLE SIMON HERNANDEZ (DE), 73</td>\n",
       "      <td>BEROIL</td>\n",
       "      <td>1.239</td>\n",
       "      <td>1.252</td>\n",
       "      <td>...</td>\n",
       "      <td>1.119511</td>\n",
       "      <td>NaN</td>\n",
       "      <td>NaN</td>\n",
       "      <td>1.53853</td>\n",
       "      <td>1.479</td>\n",
       "      <td>1.494</td>\n",
       "      <td>1.581478</td>\n",
       "      <td>NaN</td>\n",
       "      <td>NaN</td>\n",
       "      <td>1.737381</td>\n",
       "    </tr>\n",
       "  </tbody>\n",
       "</table>\n",
       "<p>1 rows × 23 columns</p>\n",
       "</div>"
      ],
      "text/plain": [
       "                    Fecha   Horario   C.P. Provincia Municipio Localidad  \\\n",
       "6985  29/06/2023 16:35:25  L-D: 24H  28936    MADRID  Móstoles  MOSTOLES   \n",
       "\n",
       "                           Dirección Proveedor de Servicio  Gasoleo A  \\\n",
       "6985  CALLE SIMON HERNANDEZ (DE), 73                BEROIL      1.239   \n",
       "\n",
       "      Media C.P. Gasoleo A  ...  Media Nacional Gasoleo B  Gasoleo Premium  \\\n",
       "6985                 1.252  ...                  1.119511              NaN   \n",
       "\n",
       "      Media C.P. Gasoleo P  Media Nacional Gasoleo P  Gasolina 95 E5  \\\n",
       "6985                   NaN                   1.53853           1.479   \n",
       "\n",
       "      Media C.P. Gasolina 95  Media Nacional Gasolina 95  Gasolina 98 E5  \\\n",
       "6985                   1.494                    1.581478             NaN   \n",
       "\n",
       "      Media C.P. Gasolina 98  Media Nacional Gasolina 98  \n",
       "6985                     NaN                    1.737381  \n",
       "\n",
       "[1 rows x 23 columns]"
      ]
     },
     "execution_count": 152,
     "metadata": {},
     "output_type": "execute_result"
    }
   ],
   "source": [
    "provincia_minimo('MADRID', 'Gasoleo A')"
   ]
  },
  {
   "cell_type": "code",
   "execution_count": 153,
   "id": "94daf5b4",
   "metadata": {},
   "outputs": [],
   "source": [
    "# Precio mínimo de combstible en un Municipio  \n",
    "def municipio_minimo(x, y):\n",
    "# x = Municipio\n",
    "# y = Tipo de Combustible    \n",
    "    municipio = df_n[df_n[\"Municipio\"] == x]\n",
    "    municipio_min = municipio.loc[municipio[[y]].idxmin()]\n",
    "    return municipio"
   ]
  },
  {
   "cell_type": "code",
   "execution_count": 154,
   "id": "870d8abe",
   "metadata": {},
   "outputs": [
    {
     "data": {
      "text/html": [
       "<div>\n",
       "<style scoped>\n",
       "    .dataframe tbody tr th:only-of-type {\n",
       "        vertical-align: middle;\n",
       "    }\n",
       "\n",
       "    .dataframe tbody tr th {\n",
       "        vertical-align: top;\n",
       "    }\n",
       "\n",
       "    .dataframe thead th {\n",
       "        text-align: right;\n",
       "    }\n",
       "</style>\n",
       "<table border=\"1\" class=\"dataframe\">\n",
       "  <thead>\n",
       "    <tr style=\"text-align: right;\">\n",
       "      <th></th>\n",
       "      <th>Fecha</th>\n",
       "      <th>Horario</th>\n",
       "      <th>C.P.</th>\n",
       "      <th>Provincia</th>\n",
       "      <th>Municipio</th>\n",
       "      <th>Localidad</th>\n",
       "      <th>Dirección</th>\n",
       "      <th>Proveedor de Servicio</th>\n",
       "      <th>Gasoleo A</th>\n",
       "      <th>Media C.P. Gasoleo A</th>\n",
       "      <th>...</th>\n",
       "      <th>Media Nacional Gasoleo B</th>\n",
       "      <th>Gasoleo Premium</th>\n",
       "      <th>Media C.P. Gasoleo P</th>\n",
       "      <th>Media Nacional Gasoleo P</th>\n",
       "      <th>Gasolina 95 E5</th>\n",
       "      <th>Media C.P. Gasolina 95</th>\n",
       "      <th>Media Nacional Gasolina 95</th>\n",
       "      <th>Gasolina 98 E5</th>\n",
       "      <th>Media C.P. Gasolina 98</th>\n",
       "      <th>Media Nacional Gasolina 98</th>\n",
       "    </tr>\n",
       "  </thead>\n",
       "  <tbody>\n",
       "    <tr>\n",
       "      <th>6531</th>\n",
       "      <td>29/06/2023 16:35:25</td>\n",
       "      <td>L-S: 7:30-20:30; D: 8:30-20:00</td>\n",
       "      <td>28470</td>\n",
       "      <td>MADRID</td>\n",
       "      <td>Cercedilla</td>\n",
       "      <td>CERCEDILLA</td>\n",
       "      <td>CARRETERA M 622 (CARRETERA GUADARRAMA A LA FUE...</td>\n",
       "      <td>REPSOL</td>\n",
       "      <td>1.475</td>\n",
       "      <td>1.475</td>\n",
       "      <td>...</td>\n",
       "      <td>1.119511</td>\n",
       "      <td>NaN</td>\n",
       "      <td>NaN</td>\n",
       "      <td>1.53853</td>\n",
       "      <td>1.609</td>\n",
       "      <td>1.609</td>\n",
       "      <td>1.581478</td>\n",
       "      <td>NaN</td>\n",
       "      <td>NaN</td>\n",
       "      <td>1.737381</td>\n",
       "    </tr>\n",
       "  </tbody>\n",
       "</table>\n",
       "<p>1 rows × 23 columns</p>\n",
       "</div>"
      ],
      "text/plain": [
       "                    Fecha                         Horario   C.P. Provincia  \\\n",
       "6531  29/06/2023 16:35:25  L-S: 7:30-20:30; D: 8:30-20:00  28470    MADRID   \n",
       "\n",
       "       Municipio   Localidad  \\\n",
       "6531  Cercedilla  CERCEDILLA   \n",
       "\n",
       "                                              Dirección Proveedor de Servicio  \\\n",
       "6531  CARRETERA M 622 (CARRETERA GUADARRAMA A LA FUE...                REPSOL   \n",
       "\n",
       "      Gasoleo A  Media C.P. Gasoleo A  ...  Media Nacional Gasoleo B  \\\n",
       "6531      1.475                 1.475  ...                  1.119511   \n",
       "\n",
       "      Gasoleo Premium  Media C.P. Gasoleo P  Media Nacional Gasoleo P  \\\n",
       "6531              NaN                   NaN                   1.53853   \n",
       "\n",
       "      Gasolina 95 E5  Media C.P. Gasolina 95  Media Nacional Gasolina 95  \\\n",
       "6531           1.609                   1.609                    1.581478   \n",
       "\n",
       "      Gasolina 98 E5  Media C.P. Gasolina 98  Media Nacional Gasolina 98  \n",
       "6531             NaN                     NaN                    1.737381  \n",
       "\n",
       "[1 rows x 23 columns]"
      ]
     },
     "execution_count": 154,
     "metadata": {},
     "output_type": "execute_result"
    }
   ],
   "source": [
    "municipio_minimo('Cercedilla', 'Gasoleo A')"
   ]
  },
  {
   "cell_type": "code",
   "execution_count": 155,
   "id": "9f08be70",
   "metadata": {},
   "outputs": [],
   "source": [
    "# # Precio mínimo de combstible en un proveedor de estación de servicio  \n",
    "def gasolinera_minimo(x, y):\n",
    "# x = Proveedor de estación de servicio\n",
    "# Y = Tipo de Combustible    \n",
    "    proveedor = df_n[df_n[\"Proveedor de Servicio\"] == x]\n",
    "    minimo_prov = proveedor.loc[proveedor[[y]].idxmin()]\n",
    "    return minimo_prov"
   ]
  },
  {
   "cell_type": "code",
   "execution_count": 156,
   "id": "c3776eb1",
   "metadata": {},
   "outputs": [
    {
     "data": {
      "text/html": [
       "<div>\n",
       "<style scoped>\n",
       "    .dataframe tbody tr th:only-of-type {\n",
       "        vertical-align: middle;\n",
       "    }\n",
       "\n",
       "    .dataframe tbody tr th {\n",
       "        vertical-align: top;\n",
       "    }\n",
       "\n",
       "    .dataframe thead th {\n",
       "        text-align: right;\n",
       "    }\n",
       "</style>\n",
       "<table border=\"1\" class=\"dataframe\">\n",
       "  <thead>\n",
       "    <tr style=\"text-align: right;\">\n",
       "      <th></th>\n",
       "      <th>Fecha</th>\n",
       "      <th>Horario</th>\n",
       "      <th>C.P.</th>\n",
       "      <th>Provincia</th>\n",
       "      <th>Municipio</th>\n",
       "      <th>Localidad</th>\n",
       "      <th>Dirección</th>\n",
       "      <th>Proveedor de Servicio</th>\n",
       "      <th>Gasoleo A</th>\n",
       "      <th>Media C.P. Gasoleo A</th>\n",
       "      <th>...</th>\n",
       "      <th>Media Nacional Gasoleo B</th>\n",
       "      <th>Gasoleo Premium</th>\n",
       "      <th>Media C.P. Gasoleo P</th>\n",
       "      <th>Media Nacional Gasoleo P</th>\n",
       "      <th>Gasolina 95 E5</th>\n",
       "      <th>Media C.P. Gasolina 95</th>\n",
       "      <th>Media Nacional Gasolina 95</th>\n",
       "      <th>Gasolina 98 E5</th>\n",
       "      <th>Media C.P. Gasolina 98</th>\n",
       "      <th>Media Nacional Gasolina 98</th>\n",
       "    </tr>\n",
       "  </thead>\n",
       "  <tbody>\n",
       "    <tr>\n",
       "      <th>9251</th>\n",
       "      <td>29/06/2023 16:35:25</td>\n",
       "      <td>L-V: 06:00-21:00; S-D: 08:00-21:00</td>\n",
       "      <td>38420</td>\n",
       "      <td>SANTA CRUZ DE TENERIFE</td>\n",
       "      <td>San Juan de la Rambla</td>\n",
       "      <td>SAN JUAN DE LA RAMBLA</td>\n",
       "      <td>CARRETERA TF-5 KM. 46,3</td>\n",
       "      <td>REPSOL</td>\n",
       "      <td>1.089</td>\n",
       "      <td>1.142667</td>\n",
       "      <td>...</td>\n",
       "      <td>1.119511</td>\n",
       "      <td>1.214</td>\n",
       "      <td>NaN</td>\n",
       "      <td>1.53853</td>\n",
       "      <td>1.109</td>\n",
       "      <td>1.161</td>\n",
       "      <td>1.581478</td>\n",
       "      <td>1.229</td>\n",
       "      <td>1.285667</td>\n",
       "      <td>1.737381</td>\n",
       "    </tr>\n",
       "  </tbody>\n",
       "</table>\n",
       "<p>1 rows × 23 columns</p>\n",
       "</div>"
      ],
      "text/plain": [
       "                    Fecha                             Horario   C.P.  \\\n",
       "9251  29/06/2023 16:35:25  L-V: 06:00-21:00; S-D: 08:00-21:00  38420   \n",
       "\n",
       "                   Provincia              Municipio              Localidad  \\\n",
       "9251  SANTA CRUZ DE TENERIFE  San Juan de la Rambla  SAN JUAN DE LA RAMBLA   \n",
       "\n",
       "                    Dirección Proveedor de Servicio  Gasoleo A  \\\n",
       "9251  CARRETERA TF-5 KM. 46,3                REPSOL      1.089   \n",
       "\n",
       "      Media C.P. Gasoleo A  ...  Media Nacional Gasoleo B  Gasoleo Premium  \\\n",
       "9251              1.142667  ...                  1.119511            1.214   \n",
       "\n",
       "      Media C.P. Gasoleo P  Media Nacional Gasoleo P  Gasolina 95 E5  \\\n",
       "9251                   NaN                   1.53853           1.109   \n",
       "\n",
       "      Media C.P. Gasolina 95  Media Nacional Gasolina 95  Gasolina 98 E5  \\\n",
       "9251                   1.161                    1.581478           1.229   \n",
       "\n",
       "      Media C.P. Gasolina 98  Media Nacional Gasolina 98  \n",
       "9251                1.285667                    1.737381  \n",
       "\n",
       "[1 rows x 23 columns]"
      ]
     },
     "execution_count": 156,
     "metadata": {},
     "output_type": "execute_result"
    }
   ],
   "source": [
    "gasolinera_minimo('REPSOL', 'Gasoleo A')"
   ]
  },
  {
   "cell_type": "code",
   "execution_count": 157,
   "id": "07fe3213",
   "metadata": {},
   "outputs": [
    {
     "data": {
      "text/plain": [
       "function"
      ]
     },
     "execution_count": 157,
     "metadata": {},
     "output_type": "execute_result"
    }
   ],
   "source": [
    "# Función para convertir códigos postales\n",
    "def convert(x):\n",
    "# x: Municipio    \n",
    "    municipio = df_n[df_n[\"Municipio\"] == x]\n",
    "    cp = municipio[[\"C.P.\", \"Municipio\", \"Proveedor de Servicio\", \"Gasoleo A\"]].min()\n",
    "    return cp\n",
    "type(convert)\n",
    "    "
   ]
  },
  {
   "cell_type": "code",
   "execution_count": 158,
   "id": "ba996755",
   "metadata": {},
   "outputs": [
    {
     "data": {
      "text/plain": [
       "C.P.                               28931\n",
       "Municipio                       Móstoles\n",
       "Proveedor de Servicio    ALIARA ENERGÍA \n",
       "Gasoleo A                          1.239\n",
       "dtype: object"
      ]
     },
     "execution_count": 158,
     "metadata": {},
     "output_type": "execute_result"
    }
   ],
   "source": [
    "convert('Móstoles')\n"
   ]
  },
  {
   "cell_type": "code",
   "execution_count": null,
   "id": "84f7107e",
   "metadata": {},
   "outputs": [],
   "source": []
  },
  {
   "cell_type": "code",
   "execution_count": 159,
   "id": "752fcb3c",
   "metadata": {},
   "outputs": [],
   "source": [
    "# Listado de Estaciones de Servicio por Municipio por Municipio\n",
    "# x: Municipio\n",
    "def gasolineras_municipio(x):\n",
    "    municipio = df_n[df_n[\"Municipio\"] == x]\n",
    "    eess_mun = pd.DataFrame(municipio[[\"Proveedor de Servicio\"]])\n",
    "    return eess_mun\n"
   ]
  },
  {
   "cell_type": "code",
   "execution_count": 160,
   "id": "9f8ea85c",
   "metadata": {},
   "outputs": [
    {
     "data": {
      "text/html": [
       "<div>\n",
       "<style scoped>\n",
       "    .dataframe tbody tr th:only-of-type {\n",
       "        vertical-align: middle;\n",
       "    }\n",
       "\n",
       "    .dataframe tbody tr th {\n",
       "        vertical-align: top;\n",
       "    }\n",
       "\n",
       "    .dataframe thead th {\n",
       "        text-align: right;\n",
       "    }\n",
       "</style>\n",
       "<table border=\"1\" class=\"dataframe\">\n",
       "  <thead>\n",
       "    <tr style=\"text-align: right;\">\n",
       "      <th></th>\n",
       "      <th>Proveedor de Servicio</th>\n",
       "    </tr>\n",
       "  </thead>\n",
       "  <tbody>\n",
       "    <tr>\n",
       "      <th>7003</th>\n",
       "      <td>BALLEOTROSIL</td>\n",
       "    </tr>\n",
       "    <tr>\n",
       "      <th>6999</th>\n",
       "      <td>CEPSA</td>\n",
       "    </tr>\n",
       "    <tr>\n",
       "      <th>7000</th>\n",
       "      <td>CEPSA</td>\n",
       "    </tr>\n",
       "    <tr>\n",
       "      <th>7001</th>\n",
       "      <td>CEPSA</td>\n",
       "    </tr>\n",
       "    <tr>\n",
       "      <th>6998</th>\n",
       "      <td>CHEAPOIL</td>\n",
       "    </tr>\n",
       "    <tr>\n",
       "      <th>6997</th>\n",
       "      <td>GALP</td>\n",
       "    </tr>\n",
       "    <tr>\n",
       "      <th>6996</th>\n",
       "      <td>MAXPETROL</td>\n",
       "    </tr>\n",
       "    <tr>\n",
       "      <th>7002</th>\n",
       "      <td>REPSOL</td>\n",
       "    </tr>\n",
       "  </tbody>\n",
       "</table>\n",
       "</div>"
      ],
      "text/plain": [
       "     Proveedor de Servicio\n",
       "7003          BALLEOTROSIL\n",
       "6999                 CEPSA\n",
       "7000                 CEPSA\n",
       "7001                 CEPSA\n",
       "6998              CHEAPOIL\n",
       "6997                  GALP\n",
       "6996             MAXPETROL\n",
       "7002                REPSOL"
      ]
     },
     "execution_count": 160,
     "metadata": {},
     "output_type": "execute_result"
    }
   ],
   "source": [
    "gasolineras_municipio('Navalcarnero')"
   ]
  },
  {
   "cell_type": "code",
   "execution_count": 161,
   "id": "42d352ec",
   "metadata": {},
   "outputs": [],
   "source": [
    "# Listado de Gasolineras por Provincia\n",
    "#x=Provincia\n",
    "def gasolineras_provincia(x):\n",
    "    cp_x = df_n[df_n[\"Provincia\"] == x]\n",
    "    return cp_x\n"
   ]
  },
  {
   "cell_type": "code",
   "execution_count": 162,
   "id": "fb0d41d2",
   "metadata": {},
   "outputs": [
    {
     "data": {
      "text/html": [
       "<div>\n",
       "<style scoped>\n",
       "    .dataframe tbody tr th:only-of-type {\n",
       "        vertical-align: middle;\n",
       "    }\n",
       "\n",
       "    .dataframe tbody tr th {\n",
       "        vertical-align: top;\n",
       "    }\n",
       "\n",
       "    .dataframe thead th {\n",
       "        text-align: right;\n",
       "    }\n",
       "</style>\n",
       "<table border=\"1\" class=\"dataframe\">\n",
       "  <thead>\n",
       "    <tr style=\"text-align: right;\">\n",
       "      <th></th>\n",
       "      <th>Fecha</th>\n",
       "      <th>Horario</th>\n",
       "      <th>C.P.</th>\n",
       "      <th>Provincia</th>\n",
       "      <th>Municipio</th>\n",
       "      <th>Localidad</th>\n",
       "      <th>Dirección</th>\n",
       "      <th>Proveedor de Servicio</th>\n",
       "      <th>Gasoleo A</th>\n",
       "      <th>Media C.P. Gasoleo A</th>\n",
       "      <th>...</th>\n",
       "      <th>Media Nacional Gasoleo B</th>\n",
       "      <th>Gasoleo Premium</th>\n",
       "      <th>Media C.P. Gasoleo P</th>\n",
       "      <th>Media Nacional Gasoleo P</th>\n",
       "      <th>Gasolina 95 E5</th>\n",
       "      <th>Media C.P. Gasolina 95</th>\n",
       "      <th>Media Nacional Gasolina 95</th>\n",
       "      <th>Gasolina 98 E5</th>\n",
       "      <th>Media C.P. Gasolina 98</th>\n",
       "      <th>Media Nacional Gasolina 98</th>\n",
       "    </tr>\n",
       "  </thead>\n",
       "  <tbody>\n",
       "    <tr>\n",
       "      <th>5434</th>\n",
       "      <td>29/06/2023 16:35:25</td>\n",
       "      <td>L-D: 07:00-22:00</td>\n",
       "      <td>21440</td>\n",
       "      <td>HUELVA</td>\n",
       "      <td>Lepe</td>\n",
       "      <td>LEPE</td>\n",
       "      <td>CARRETERA H4116 KM. 1,7</td>\n",
       "      <td>AGLA</td>\n",
       "      <td>1.398</td>\n",
       "      <td>1.449889</td>\n",
       "      <td>...</td>\n",
       "      <td>1.119511</td>\n",
       "      <td>NaN</td>\n",
       "      <td>1.341750</td>\n",
       "      <td>1.53853</td>\n",
       "      <td>1.578</td>\n",
       "      <td>1.590000</td>\n",
       "      <td>1.581478</td>\n",
       "      <td>NaN</td>\n",
       "      <td>1.7585</td>\n",
       "      <td>1.737381</td>\n",
       "    </tr>\n",
       "    <tr>\n",
       "      <th>5399</th>\n",
       "      <td>29/06/2023 16:35:25</td>\n",
       "      <td>L-D: 07:30-22:00</td>\n",
       "      <td>21320</td>\n",
       "      <td>HUELVA</td>\n",
       "      <td>Cerro de Andévalo (El)</td>\n",
       "      <td>CERRO DE ANDEVALO (EL)</td>\n",
       "      <td>CARRETERA A-485 KM. 100</td>\n",
       "      <td>AGLA</td>\n",
       "      <td>1.398</td>\n",
       "      <td>1.393500</td>\n",
       "      <td>...</td>\n",
       "      <td>1.119511</td>\n",
       "      <td>NaN</td>\n",
       "      <td>1.280000</td>\n",
       "      <td>1.53853</td>\n",
       "      <td>1.585</td>\n",
       "      <td>1.585000</td>\n",
       "      <td>1.581478</td>\n",
       "      <td>NaN</td>\n",
       "      <td>NaN</td>\n",
       "      <td>1.737381</td>\n",
       "    </tr>\n",
       "    <tr>\n",
       "      <th>5378</th>\n",
       "      <td>29/06/2023 16:35:25</td>\n",
       "      <td>L-D: 24H</td>\n",
       "      <td>21710</td>\n",
       "      <td>HUELVA</td>\n",
       "      <td>Bollullos Par del Condado</td>\n",
       "      <td>BOLLULLOS PAR DEL CONDADO</td>\n",
       "      <td>CARRETERA CARRETERA H 611 KM 4,7 KM. SN</td>\n",
       "      <td>AGLA</td>\n",
       "      <td>1.509</td>\n",
       "      <td>1.430500</td>\n",
       "      <td>...</td>\n",
       "      <td>1.119511</td>\n",
       "      <td>1.559</td>\n",
       "      <td>1.138000</td>\n",
       "      <td>1.53853</td>\n",
       "      <td>1.659</td>\n",
       "      <td>1.619000</td>\n",
       "      <td>1.581478</td>\n",
       "      <td>1.809</td>\n",
       "      <td>1.7830</td>\n",
       "      <td>1.737381</td>\n",
       "    </tr>\n",
       "    <tr>\n",
       "      <th>5364</th>\n",
       "      <td>29/06/2023 16:35:25</td>\n",
       "      <td>L-D: 06:00-22:00</td>\n",
       "      <td>21200</td>\n",
       "      <td>HUELVA</td>\n",
       "      <td>Aracena</td>\n",
       "      <td>ARACENA</td>\n",
       "      <td>N-433 km 88,4</td>\n",
       "      <td>AGLA</td>\n",
       "      <td>1.479</td>\n",
       "      <td>1.488000</td>\n",
       "      <td>...</td>\n",
       "      <td>1.119511</td>\n",
       "      <td>NaN</td>\n",
       "      <td>NaN</td>\n",
       "      <td>1.53853</td>\n",
       "      <td>1.619</td>\n",
       "      <td>1.620250</td>\n",
       "      <td>1.581478</td>\n",
       "      <td>NaN</td>\n",
       "      <td>1.7790</td>\n",
       "      <td>1.737381</td>\n",
       "    </tr>\n",
       "    <tr>\n",
       "      <th>5385</th>\n",
       "      <td>29/06/2023 16:35:25</td>\n",
       "      <td>L-S: 07:00-22:00; D: 08:00-22:00</td>\n",
       "      <td>21270</td>\n",
       "      <td>HUELVA</td>\n",
       "      <td>Cala</td>\n",
       "      <td>CALA</td>\n",
       "      <td>AVENIDA CONSTITUCION, 1</td>\n",
       "      <td>AGLA</td>\n",
       "      <td>1.489</td>\n",
       "      <td>1.489000</td>\n",
       "      <td>...</td>\n",
       "      <td>1.119511</td>\n",
       "      <td>NaN</td>\n",
       "      <td>NaN</td>\n",
       "      <td>1.53853</td>\n",
       "      <td>1.639</td>\n",
       "      <td>1.639000</td>\n",
       "      <td>1.581478</td>\n",
       "      <td>NaN</td>\n",
       "      <td>NaN</td>\n",
       "      <td>1.737381</td>\n",
       "    </tr>\n",
       "    <tr>\n",
       "      <th>...</th>\n",
       "      <td>...</td>\n",
       "      <td>...</td>\n",
       "      <td>...</td>\n",
       "      <td>...</td>\n",
       "      <td>...</td>\n",
       "      <td>...</td>\n",
       "      <td>...</td>\n",
       "      <td>...</td>\n",
       "      <td>...</td>\n",
       "      <td>...</td>\n",
       "      <td>...</td>\n",
       "      <td>...</td>\n",
       "      <td>...</td>\n",
       "      <td>...</td>\n",
       "      <td>...</td>\n",
       "      <td>...</td>\n",
       "      <td>...</td>\n",
       "      <td>...</td>\n",
       "      <td>...</td>\n",
       "      <td>...</td>\n",
       "      <td>...</td>\n",
       "    </tr>\n",
       "    <tr>\n",
       "      <th>5424</th>\n",
       "      <td>29/06/2023 16:35:25</td>\n",
       "      <td>L-D: 06:30-22:30</td>\n",
       "      <td>21007</td>\n",
       "      <td>HUELVA</td>\n",
       "      <td>Huelva</td>\n",
       "      <td>HUELVA</td>\n",
       "      <td>AVDA. NUEVO COLOMBINO S/N.</td>\n",
       "      <td>TYCSA TRAFICO PESADO</td>\n",
       "      <td>1.519</td>\n",
       "      <td>1.521000</td>\n",
       "      <td>...</td>\n",
       "      <td>1.119511</td>\n",
       "      <td>1.579</td>\n",
       "      <td>1.179000</td>\n",
       "      <td>1.53853</td>\n",
       "      <td>1.649</td>\n",
       "      <td>1.659000</td>\n",
       "      <td>1.581478</td>\n",
       "      <td>1.789</td>\n",
       "      <td>1.7930</td>\n",
       "      <td>1.737381</td>\n",
       "    </tr>\n",
       "    <tr>\n",
       "      <th>5483</th>\n",
       "      <td>29/06/2023 16:35:25</td>\n",
       "      <td>L-V: 07:30-21:00; S: 09:00-13:00</td>\n",
       "      <td>21610</td>\n",
       "      <td>HUELVA</td>\n",
       "      <td>San Juan del Puerto</td>\n",
       "      <td>SAN JUAN DEL PUERTO</td>\n",
       "      <td>CARRETERA A-472 SEVILLA - HUELVA KM. 78,5</td>\n",
       "      <td>VALLE ANCHO</td>\n",
       "      <td>1.349</td>\n",
       "      <td>1.427750</td>\n",
       "      <td>...</td>\n",
       "      <td>1.119511</td>\n",
       "      <td>NaN</td>\n",
       "      <td>0.989000</td>\n",
       "      <td>1.53853</td>\n",
       "      <td>1.499</td>\n",
       "      <td>1.555667</td>\n",
       "      <td>1.581478</td>\n",
       "      <td>NaN</td>\n",
       "      <td>NaN</td>\n",
       "      <td>1.737381</td>\n",
       "    </tr>\n",
       "    <tr>\n",
       "      <th>5436</th>\n",
       "      <td>29/06/2023 16:35:25</td>\n",
       "      <td>L-D: 24H</td>\n",
       "      <td>21440</td>\n",
       "      <td>HUELVA</td>\n",
       "      <td>Lepe</td>\n",
       "      <td>LEPE</td>\n",
       "      <td>CALLE ESPARTEROS, 2</td>\n",
       "      <td>VIBE CARBURANTES</td>\n",
       "      <td>1.359</td>\n",
       "      <td>1.449889</td>\n",
       "      <td>...</td>\n",
       "      <td>1.119511</td>\n",
       "      <td>NaN</td>\n",
       "      <td>1.341750</td>\n",
       "      <td>1.53853</td>\n",
       "      <td>1.569</td>\n",
       "      <td>1.590000</td>\n",
       "      <td>1.581478</td>\n",
       "      <td>NaN</td>\n",
       "      <td>1.7585</td>\n",
       "      <td>1.737381</td>\n",
       "    </tr>\n",
       "    <tr>\n",
       "      <th>5433</th>\n",
       "      <td>29/06/2023 16:35:25</td>\n",
       "      <td>L-D: 07:00-23:00</td>\n",
       "      <td>21440</td>\n",
       "      <td>HUELVA</td>\n",
       "      <td>Lepe</td>\n",
       "      <td>LEPE</td>\n",
       "      <td>CARRETERA LEPE-EL TERRÓN, KM 1,5 KM. 1,5</td>\n",
       "      <td>VIBEOTROSCARBURANTES</td>\n",
       "      <td>1.378</td>\n",
       "      <td>1.449889</td>\n",
       "      <td>...</td>\n",
       "      <td>1.119511</td>\n",
       "      <td>1.459</td>\n",
       "      <td>1.341750</td>\n",
       "      <td>1.53853</td>\n",
       "      <td>1.589</td>\n",
       "      <td>1.590000</td>\n",
       "      <td>1.581478</td>\n",
       "      <td>1.768</td>\n",
       "      <td>1.7585</td>\n",
       "      <td>1.737381</td>\n",
       "    </tr>\n",
       "    <tr>\n",
       "      <th>5475</th>\n",
       "      <td>29/06/2023 16:35:25</td>\n",
       "      <td>L-D: 24H</td>\n",
       "      <td>21720</td>\n",
       "      <td>HUELVA</td>\n",
       "      <td>Rociana del Condado</td>\n",
       "      <td>ROCIANA DEL CONDADO</td>\n",
       "      <td>POLIGONO HUERTAS NUEVAS PARCELA 3, 3</td>\n",
       "      <td>VIRSUR</td>\n",
       "      <td>1.325</td>\n",
       "      <td>1.386333</td>\n",
       "      <td>...</td>\n",
       "      <td>1.119511</td>\n",
       "      <td>NaN</td>\n",
       "      <td>1.031667</td>\n",
       "      <td>1.53853</td>\n",
       "      <td>1.465</td>\n",
       "      <td>1.523000</td>\n",
       "      <td>1.581478</td>\n",
       "      <td>NaN</td>\n",
       "      <td>NaN</td>\n",
       "      <td>1.737381</td>\n",
       "    </tr>\n",
       "  </tbody>\n",
       "</table>\n",
       "<p>149 rows × 23 columns</p>\n",
       "</div>"
      ],
      "text/plain": [
       "                    Fecha                           Horario   C.P. Provincia  \\\n",
       "5434  29/06/2023 16:35:25                  L-D: 07:00-22:00  21440    HUELVA   \n",
       "5399  29/06/2023 16:35:25                  L-D: 07:30-22:00  21320    HUELVA   \n",
       "5378  29/06/2023 16:35:25                          L-D: 24H  21710    HUELVA   \n",
       "5364  29/06/2023 16:35:25                  L-D: 06:00-22:00  21200    HUELVA   \n",
       "5385  29/06/2023 16:35:25  L-S: 07:00-22:00; D: 08:00-22:00  21270    HUELVA   \n",
       "...                   ...                               ...    ...       ...   \n",
       "5424  29/06/2023 16:35:25                  L-D: 06:30-22:30  21007    HUELVA   \n",
       "5483  29/06/2023 16:35:25  L-V: 07:30-21:00; S: 09:00-13:00  21610    HUELVA   \n",
       "5436  29/06/2023 16:35:25                          L-D: 24H  21440    HUELVA   \n",
       "5433  29/06/2023 16:35:25                  L-D: 07:00-23:00  21440    HUELVA   \n",
       "5475  29/06/2023 16:35:25                          L-D: 24H  21720    HUELVA   \n",
       "\n",
       "                      Municipio                  Localidad  \\\n",
       "5434                       Lepe                       LEPE   \n",
       "5399     Cerro de Andévalo (El)     CERRO DE ANDEVALO (EL)   \n",
       "5378  Bollullos Par del Condado  BOLLULLOS PAR DEL CONDADO   \n",
       "5364                    Aracena                    ARACENA   \n",
       "5385                       Cala                       CALA   \n",
       "...                         ...                        ...   \n",
       "5424                     Huelva                     HUELVA   \n",
       "5483        San Juan del Puerto        SAN JUAN DEL PUERTO   \n",
       "5436                       Lepe                       LEPE   \n",
       "5433                       Lepe                       LEPE   \n",
       "5475        Rociana del Condado        ROCIANA DEL CONDADO   \n",
       "\n",
       "                                      Dirección Proveedor de Servicio  \\\n",
       "5434                    CARRETERA H4116 KM. 1,7                  AGLA   \n",
       "5399                    CARRETERA A-485 KM. 100                  AGLA   \n",
       "5378    CARRETERA CARRETERA H 611 KM 4,7 KM. SN                  AGLA   \n",
       "5364                              N-433 km 88,4                  AGLA   \n",
       "5385                    AVENIDA CONSTITUCION, 1                  AGLA   \n",
       "...                                         ...                   ...   \n",
       "5424                 AVDA. NUEVO COLOMBINO S/N.  TYCSA TRAFICO PESADO   \n",
       "5483  CARRETERA A-472 SEVILLA - HUELVA KM. 78,5           VALLE ANCHO   \n",
       "5436                        CALLE ESPARTEROS, 2      VIBE CARBURANTES   \n",
       "5433   CARRETERA LEPE-EL TERRÓN, KM 1,5 KM. 1,5  VIBEOTROSCARBURANTES   \n",
       "5475       POLIGONO HUERTAS NUEVAS PARCELA 3, 3                VIRSUR   \n",
       "\n",
       "      Gasoleo A  Media C.P. Gasoleo A  ...  Media Nacional Gasoleo B  \\\n",
       "5434      1.398              1.449889  ...                  1.119511   \n",
       "5399      1.398              1.393500  ...                  1.119511   \n",
       "5378      1.509              1.430500  ...                  1.119511   \n",
       "5364      1.479              1.488000  ...                  1.119511   \n",
       "5385      1.489              1.489000  ...                  1.119511   \n",
       "...         ...                   ...  ...                       ...   \n",
       "5424      1.519              1.521000  ...                  1.119511   \n",
       "5483      1.349              1.427750  ...                  1.119511   \n",
       "5436      1.359              1.449889  ...                  1.119511   \n",
       "5433      1.378              1.449889  ...                  1.119511   \n",
       "5475      1.325              1.386333  ...                  1.119511   \n",
       "\n",
       "      Gasoleo Premium  Media C.P. Gasoleo P  Media Nacional Gasoleo P  \\\n",
       "5434              NaN              1.341750                   1.53853   \n",
       "5399              NaN              1.280000                   1.53853   \n",
       "5378            1.559              1.138000                   1.53853   \n",
       "5364              NaN                   NaN                   1.53853   \n",
       "5385              NaN                   NaN                   1.53853   \n",
       "...               ...                   ...                       ...   \n",
       "5424            1.579              1.179000                   1.53853   \n",
       "5483              NaN              0.989000                   1.53853   \n",
       "5436              NaN              1.341750                   1.53853   \n",
       "5433            1.459              1.341750                   1.53853   \n",
       "5475              NaN              1.031667                   1.53853   \n",
       "\n",
       "      Gasolina 95 E5  Media C.P. Gasolina 95  Media Nacional Gasolina 95  \\\n",
       "5434           1.578                1.590000                    1.581478   \n",
       "5399           1.585                1.585000                    1.581478   \n",
       "5378           1.659                1.619000                    1.581478   \n",
       "5364           1.619                1.620250                    1.581478   \n",
       "5385           1.639                1.639000                    1.581478   \n",
       "...              ...                     ...                         ...   \n",
       "5424           1.649                1.659000                    1.581478   \n",
       "5483           1.499                1.555667                    1.581478   \n",
       "5436           1.569                1.590000                    1.581478   \n",
       "5433           1.589                1.590000                    1.581478   \n",
       "5475           1.465                1.523000                    1.581478   \n",
       "\n",
       "      Gasolina 98 E5  Media C.P. Gasolina 98  Media Nacional Gasolina 98  \n",
       "5434             NaN                  1.7585                    1.737381  \n",
       "5399             NaN                     NaN                    1.737381  \n",
       "5378           1.809                  1.7830                    1.737381  \n",
       "5364             NaN                  1.7790                    1.737381  \n",
       "5385             NaN                     NaN                    1.737381  \n",
       "...              ...                     ...                         ...  \n",
       "5424           1.789                  1.7930                    1.737381  \n",
       "5483             NaN                     NaN                    1.737381  \n",
       "5436             NaN                  1.7585                    1.737381  \n",
       "5433           1.768                  1.7585                    1.737381  \n",
       "5475             NaN                     NaN                    1.737381  \n",
       "\n",
       "[149 rows x 23 columns]"
      ]
     },
     "execution_count": 162,
     "metadata": {},
     "output_type": "execute_result"
    }
   ],
   "source": [
    "gasolineras_provincia('HUELVA')"
   ]
  },
  {
   "cell_type": "code",
   "execution_count": 163,
   "id": "fe00f1c5",
   "metadata": {},
   "outputs": [],
   "source": [
    "# Listado de Gasolineras por Código Postal:\n",
    "# x: código postal\n",
    "def gasolineras_cp(x):\n",
    "    cp = df_n[df_n[\"C.P.\"] == x]\n",
    "    return cp"
   ]
  },
  {
   "cell_type": "code",
   "execution_count": 164,
   "id": "858df679",
   "metadata": {},
   "outputs": [
    {
     "data": {
      "text/html": [
       "<div>\n",
       "<style scoped>\n",
       "    .dataframe tbody tr th:only-of-type {\n",
       "        vertical-align: middle;\n",
       "    }\n",
       "\n",
       "    .dataframe tbody tr th {\n",
       "        vertical-align: top;\n",
       "    }\n",
       "\n",
       "    .dataframe thead th {\n",
       "        text-align: right;\n",
       "    }\n",
       "</style>\n",
       "<table border=\"1\" class=\"dataframe\">\n",
       "  <thead>\n",
       "    <tr style=\"text-align: right;\">\n",
       "      <th></th>\n",
       "      <th>Fecha</th>\n",
       "      <th>Horario</th>\n",
       "      <th>C.P.</th>\n",
       "      <th>Provincia</th>\n",
       "      <th>Municipio</th>\n",
       "      <th>Localidad</th>\n",
       "      <th>Dirección</th>\n",
       "      <th>Proveedor de Servicio</th>\n",
       "      <th>Gasoleo A</th>\n",
       "      <th>Media C.P. Gasoleo A</th>\n",
       "      <th>...</th>\n",
       "      <th>Media Nacional Gasoleo B</th>\n",
       "      <th>Gasoleo Premium</th>\n",
       "      <th>Media C.P. Gasoleo P</th>\n",
       "      <th>Media Nacional Gasoleo P</th>\n",
       "      <th>Gasolina 95 E5</th>\n",
       "      <th>Media C.P. Gasolina 95</th>\n",
       "      <th>Media Nacional Gasolina 95</th>\n",
       "      <th>Gasolina 98 E5</th>\n",
       "      <th>Media C.P. Gasolina 98</th>\n",
       "      <th>Media Nacional Gasolina 98</th>\n",
       "    </tr>\n",
       "  </thead>\n",
       "  <tbody>\n",
       "    <tr>\n",
       "      <th>6509</th>\n",
       "      <td>29/06/2023 16:35:25</td>\n",
       "      <td>L-D: 06:00-00:00</td>\n",
       "      <td>28500</td>\n",
       "      <td>MADRID</td>\n",
       "      <td>Arganda del Rey</td>\n",
       "      <td>ARGANDA</td>\n",
       "      <td>AVENIDA DE MADRID, 126</td>\n",
       "      <td>ATEOTROSIL</td>\n",
       "      <td>1.349</td>\n",
       "      <td>1.431769</td>\n",
       "      <td>...</td>\n",
       "      <td>1.119511</td>\n",
       "      <td>1.359</td>\n",
       "      <td>1.199</td>\n",
       "      <td>1.53853</td>\n",
       "      <td>1.519</td>\n",
       "      <td>1.586385</td>\n",
       "      <td>1.581478</td>\n",
       "      <td>NaN</td>\n",
       "      <td>1.797667</td>\n",
       "      <td>1.737381</td>\n",
       "    </tr>\n",
       "    <tr>\n",
       "      <th>6507</th>\n",
       "      <td>29/06/2023 16:35:25</td>\n",
       "      <td>L-D: 24H</td>\n",
       "      <td>28500</td>\n",
       "      <td>MADRID</td>\n",
       "      <td>Arganda del Rey</td>\n",
       "      <td>ARGANDA</td>\n",
       "      <td>TRAVESÍA SIERRA DE GATA, 17</td>\n",
       "      <td>BALLEOTROSIL</td>\n",
       "      <td>1.339</td>\n",
       "      <td>1.431769</td>\n",
       "      <td>...</td>\n",
       "      <td>1.119511</td>\n",
       "      <td>1.349</td>\n",
       "      <td>1.199</td>\n",
       "      <td>1.53853</td>\n",
       "      <td>1.519</td>\n",
       "      <td>1.586385</td>\n",
       "      <td>1.581478</td>\n",
       "      <td>NaN</td>\n",
       "      <td>1.797667</td>\n",
       "      <td>1.737381</td>\n",
       "    </tr>\n",
       "    <tr>\n",
       "      <th>6504</th>\n",
       "      <td>29/06/2023 16:35:25</td>\n",
       "      <td>L-D: 24H</td>\n",
       "      <td>28500</td>\n",
       "      <td>MADRID</td>\n",
       "      <td>Arganda del Rey</td>\n",
       "      <td>ARGANDA</td>\n",
       "      <td>CAMINO CAMINO DE SAN MARTÍN DE LA VEGA A ARGAN...</td>\n",
       "      <td>BALLEOTROSIL</td>\n",
       "      <td>1.339</td>\n",
       "      <td>1.431769</td>\n",
       "      <td>...</td>\n",
       "      <td>1.119511</td>\n",
       "      <td>NaN</td>\n",
       "      <td>1.199</td>\n",
       "      <td>1.53853</td>\n",
       "      <td>1.519</td>\n",
       "      <td>1.586385</td>\n",
       "      <td>1.581478</td>\n",
       "      <td>NaN</td>\n",
       "      <td>1.797667</td>\n",
       "      <td>1.737381</td>\n",
       "    </tr>\n",
       "    <tr>\n",
       "      <th>6503</th>\n",
       "      <td>29/06/2023 16:35:25</td>\n",
       "      <td>L-D: 24H</td>\n",
       "      <td>28500</td>\n",
       "      <td>MADRID</td>\n",
       "      <td>Arganda del Rey</td>\n",
       "      <td>ARGANDA</td>\n",
       "      <td>CAMINO SAN MARTIN DE LA VEGA, 8</td>\n",
       "      <td>BALLEOTROSIL</td>\n",
       "      <td>1.339</td>\n",
       "      <td>1.431769</td>\n",
       "      <td>...</td>\n",
       "      <td>1.119511</td>\n",
       "      <td>NaN</td>\n",
       "      <td>1.199</td>\n",
       "      <td>1.53853</td>\n",
       "      <td>1.519</td>\n",
       "      <td>1.586385</td>\n",
       "      <td>1.581478</td>\n",
       "      <td>NaN</td>\n",
       "      <td>1.797667</td>\n",
       "      <td>1.737381</td>\n",
       "    </tr>\n",
       "    <tr>\n",
       "      <th>6502</th>\n",
       "      <td>29/06/2023 16:35:25</td>\n",
       "      <td>L-D: 24H</td>\n",
       "      <td>28500</td>\n",
       "      <td>MADRID</td>\n",
       "      <td>Arganda del Rey</td>\n",
       "      <td>ARGANDA</td>\n",
       "      <td>AVENIDA EJERCITO (DEL), 44</td>\n",
       "      <td>BP ARGANDA</td>\n",
       "      <td>1.529</td>\n",
       "      <td>1.431769</td>\n",
       "      <td>...</td>\n",
       "      <td>1.119511</td>\n",
       "      <td>1.619</td>\n",
       "      <td>1.199</td>\n",
       "      <td>1.53853</td>\n",
       "      <td>1.659</td>\n",
       "      <td>1.586385</td>\n",
       "      <td>1.581478</td>\n",
       "      <td>1.801</td>\n",
       "      <td>1.797667</td>\n",
       "      <td>1.737381</td>\n",
       "    </tr>\n",
       "    <tr>\n",
       "      <th>6501</th>\n",
       "      <td>29/06/2023 16:35:25</td>\n",
       "      <td>L-D: 06:00-22:00</td>\n",
       "      <td>28500</td>\n",
       "      <td>MADRID</td>\n",
       "      <td>Arganda del Rey</td>\n",
       "      <td>ARGANDA</td>\n",
       "      <td>AVENIDA DE MADRID, 37</td>\n",
       "      <td>BP LA ARGANDEÑA</td>\n",
       "      <td>1.529</td>\n",
       "      <td>1.431769</td>\n",
       "      <td>...</td>\n",
       "      <td>1.119511</td>\n",
       "      <td>1.619</td>\n",
       "      <td>1.199</td>\n",
       "      <td>1.53853</td>\n",
       "      <td>1.659</td>\n",
       "      <td>1.586385</td>\n",
       "      <td>1.581478</td>\n",
       "      <td>1.801</td>\n",
       "      <td>1.797667</td>\n",
       "      <td>1.737381</td>\n",
       "    </tr>\n",
       "    <tr>\n",
       "      <th>6506</th>\n",
       "      <td>29/06/2023 16:35:25</td>\n",
       "      <td>L-D: 24H</td>\n",
       "      <td>28500</td>\n",
       "      <td>MADRID</td>\n",
       "      <td>Arganda del Rey</td>\n",
       "      <td>ARGANDA</td>\n",
       "      <td>AVENIDA VALDEARGANDA, 8</td>\n",
       "      <td>CEPSA</td>\n",
       "      <td>1.539</td>\n",
       "      <td>1.431769</td>\n",
       "      <td>...</td>\n",
       "      <td>1.119511</td>\n",
       "      <td>1.639</td>\n",
       "      <td>1.199</td>\n",
       "      <td>1.53853</td>\n",
       "      <td>1.659</td>\n",
       "      <td>1.586385</td>\n",
       "      <td>1.581478</td>\n",
       "      <td>1.791</td>\n",
       "      <td>1.797667</td>\n",
       "      <td>1.737381</td>\n",
       "    </tr>\n",
       "    <tr>\n",
       "      <th>6510</th>\n",
       "      <td>29/06/2023 16:35:25</td>\n",
       "      <td>L-D: 07:00-22:00</td>\n",
       "      <td>28500</td>\n",
       "      <td>MADRID</td>\n",
       "      <td>Arganda del Rey</td>\n",
       "      <td>ARGANDA</td>\n",
       "      <td>AVENIDA FINANZAUTO (DE), 2</td>\n",
       "      <td>DELFIOIL</td>\n",
       "      <td>1.339</td>\n",
       "      <td>1.431769</td>\n",
       "      <td>...</td>\n",
       "      <td>1.119511</td>\n",
       "      <td>NaN</td>\n",
       "      <td>1.199</td>\n",
       "      <td>1.53853</td>\n",
       "      <td>1.519</td>\n",
       "      <td>1.586385</td>\n",
       "      <td>1.581478</td>\n",
       "      <td>NaN</td>\n",
       "      <td>1.797667</td>\n",
       "      <td>1.737381</td>\n",
       "    </tr>\n",
       "    <tr>\n",
       "      <th>6512</th>\n",
       "      <td>29/06/2023 16:35:25</td>\n",
       "      <td>L-D: 24H</td>\n",
       "      <td>28500</td>\n",
       "      <td>MADRID</td>\n",
       "      <td>Arganda del Rey</td>\n",
       "      <td>ARGANDA</td>\n",
       "      <td>AVENIDA MADRID (DE), SN</td>\n",
       "      <td>PETROPRIX</td>\n",
       "      <td>1.339</td>\n",
       "      <td>1.431769</td>\n",
       "      <td>...</td>\n",
       "      <td>1.119511</td>\n",
       "      <td>NaN</td>\n",
       "      <td>1.199</td>\n",
       "      <td>1.53853</td>\n",
       "      <td>1.519</td>\n",
       "      <td>1.586385</td>\n",
       "      <td>1.581478</td>\n",
       "      <td>NaN</td>\n",
       "      <td>1.797667</td>\n",
       "      <td>1.737381</td>\n",
       "    </tr>\n",
       "    <tr>\n",
       "      <th>6505</th>\n",
       "      <td>29/06/2023 16:35:25</td>\n",
       "      <td>L-D: 24H</td>\n",
       "      <td>28500</td>\n",
       "      <td>MADRID</td>\n",
       "      <td>Arganda del Rey</td>\n",
       "      <td>ARGANDA</td>\n",
       "      <td>AVENIDA MADRID (DE), 66</td>\n",
       "      <td>PLEOTROSIL</td>\n",
       "      <td>1.339</td>\n",
       "      <td>1.431769</td>\n",
       "      <td>...</td>\n",
       "      <td>1.119511</td>\n",
       "      <td>NaN</td>\n",
       "      <td>1.199</td>\n",
       "      <td>1.53853</td>\n",
       "      <td>1.519</td>\n",
       "      <td>1.586385</td>\n",
       "      <td>1.581478</td>\n",
       "      <td>NaN</td>\n",
       "      <td>1.797667</td>\n",
       "      <td>1.737381</td>\n",
       "    </tr>\n",
       "    <tr>\n",
       "      <th>6511</th>\n",
       "      <td>29/06/2023 16:35:25</td>\n",
       "      <td>L: 24H</td>\n",
       "      <td>28500</td>\n",
       "      <td>MADRID</td>\n",
       "      <td>Arganda del Rey</td>\n",
       "      <td>ARGANDA</td>\n",
       "      <td>CARRETERA M-832 KM. 3</td>\n",
       "      <td>REPSOL</td>\n",
       "      <td>1.552</td>\n",
       "      <td>1.431769</td>\n",
       "      <td>...</td>\n",
       "      <td>1.119511</td>\n",
       "      <td>NaN</td>\n",
       "      <td>1.199</td>\n",
       "      <td>1.53853</td>\n",
       "      <td>1.672</td>\n",
       "      <td>1.586385</td>\n",
       "      <td>1.581478</td>\n",
       "      <td>NaN</td>\n",
       "      <td>1.797667</td>\n",
       "      <td>1.737381</td>\n",
       "    </tr>\n",
       "    <tr>\n",
       "      <th>6508</th>\n",
       "      <td>29/06/2023 16:35:25</td>\n",
       "      <td>L-V: 06:00-22:00; S-D: 08:00-22:00</td>\n",
       "      <td>28500</td>\n",
       "      <td>MADRID</td>\n",
       "      <td>Arganda del Rey</td>\n",
       "      <td>ARGANDA</td>\n",
       "      <td>AVDA DE MADRID, 103</td>\n",
       "      <td>REPSOL</td>\n",
       "      <td>1.529</td>\n",
       "      <td>1.431769</td>\n",
       "      <td>...</td>\n",
       "      <td>1.119511</td>\n",
       "      <td>1.539</td>\n",
       "      <td>1.199</td>\n",
       "      <td>1.53853</td>\n",
       "      <td>1.669</td>\n",
       "      <td>1.586385</td>\n",
       "      <td>1.581478</td>\n",
       "      <td>NaN</td>\n",
       "      <td>1.797667</td>\n",
       "      <td>1.737381</td>\n",
       "    </tr>\n",
       "    <tr>\n",
       "      <th>6500</th>\n",
       "      <td>29/06/2023 16:35:25</td>\n",
       "      <td>L-D: 24H</td>\n",
       "      <td>28500</td>\n",
       "      <td>MADRID</td>\n",
       "      <td>Arganda del Rey</td>\n",
       "      <td>ARGANDA</td>\n",
       "      <td>CARRETERA M-832 KM. 3</td>\n",
       "      <td>REPSOL</td>\n",
       "      <td>1.552</td>\n",
       "      <td>1.431769</td>\n",
       "      <td>...</td>\n",
       "      <td>1.119511</td>\n",
       "      <td>1.642</td>\n",
       "      <td>1.199</td>\n",
       "      <td>1.53853</td>\n",
       "      <td>1.672</td>\n",
       "      <td>1.586385</td>\n",
       "      <td>1.581478</td>\n",
       "      <td>NaN</td>\n",
       "      <td>1.797667</td>\n",
       "      <td>1.737381</td>\n",
       "    </tr>\n",
       "  </tbody>\n",
       "</table>\n",
       "<p>13 rows × 23 columns</p>\n",
       "</div>"
      ],
      "text/plain": [
       "                    Fecha                             Horario   C.P.  \\\n",
       "6509  29/06/2023 16:35:25                    L-D: 06:00-00:00  28500   \n",
       "6507  29/06/2023 16:35:25                            L-D: 24H  28500   \n",
       "6504  29/06/2023 16:35:25                            L-D: 24H  28500   \n",
       "6503  29/06/2023 16:35:25                            L-D: 24H  28500   \n",
       "6502  29/06/2023 16:35:25                            L-D: 24H  28500   \n",
       "6501  29/06/2023 16:35:25                    L-D: 06:00-22:00  28500   \n",
       "6506  29/06/2023 16:35:25                            L-D: 24H  28500   \n",
       "6510  29/06/2023 16:35:25                    L-D: 07:00-22:00  28500   \n",
       "6512  29/06/2023 16:35:25                            L-D: 24H  28500   \n",
       "6505  29/06/2023 16:35:25                            L-D: 24H  28500   \n",
       "6511  29/06/2023 16:35:25                              L: 24H  28500   \n",
       "6508  29/06/2023 16:35:25  L-V: 06:00-22:00; S-D: 08:00-22:00  28500   \n",
       "6500  29/06/2023 16:35:25                            L-D: 24H  28500   \n",
       "\n",
       "     Provincia        Municipio Localidad  \\\n",
       "6509    MADRID  Arganda del Rey   ARGANDA   \n",
       "6507    MADRID  Arganda del Rey   ARGANDA   \n",
       "6504    MADRID  Arganda del Rey   ARGANDA   \n",
       "6503    MADRID  Arganda del Rey   ARGANDA   \n",
       "6502    MADRID  Arganda del Rey   ARGANDA   \n",
       "6501    MADRID  Arganda del Rey   ARGANDA   \n",
       "6506    MADRID  Arganda del Rey   ARGANDA   \n",
       "6510    MADRID  Arganda del Rey   ARGANDA   \n",
       "6512    MADRID  Arganda del Rey   ARGANDA   \n",
       "6505    MADRID  Arganda del Rey   ARGANDA   \n",
       "6511    MADRID  Arganda del Rey   ARGANDA   \n",
       "6508    MADRID  Arganda del Rey   ARGANDA   \n",
       "6500    MADRID  Arganda del Rey   ARGANDA   \n",
       "\n",
       "                                              Dirección Proveedor de Servicio  \\\n",
       "6509                             AVENIDA DE MADRID, 126            ATEOTROSIL   \n",
       "6507                        TRAVESÍA SIERRA DE GATA, 17          BALLEOTROSIL   \n",
       "6504  CAMINO CAMINO DE SAN MARTÍN DE LA VEGA A ARGAN...          BALLEOTROSIL   \n",
       "6503                    CAMINO SAN MARTIN DE LA VEGA, 8          BALLEOTROSIL   \n",
       "6502                         AVENIDA EJERCITO (DEL), 44            BP ARGANDA   \n",
       "6501                              AVENIDA DE MADRID, 37       BP LA ARGANDEÑA   \n",
       "6506                            AVENIDA VALDEARGANDA, 8                 CEPSA   \n",
       "6510                         AVENIDA FINANZAUTO (DE), 2              DELFIOIL   \n",
       "6512                            AVENIDA MADRID (DE), SN             PETROPRIX   \n",
       "6505                            AVENIDA MADRID (DE), 66            PLEOTROSIL   \n",
       "6511                              CARRETERA M-832 KM. 3                REPSOL   \n",
       "6508                                AVDA DE MADRID, 103                REPSOL   \n",
       "6500                              CARRETERA M-832 KM. 3                REPSOL   \n",
       "\n",
       "      Gasoleo A  Media C.P. Gasoleo A  ...  Media Nacional Gasoleo B  \\\n",
       "6509      1.349              1.431769  ...                  1.119511   \n",
       "6507      1.339              1.431769  ...                  1.119511   \n",
       "6504      1.339              1.431769  ...                  1.119511   \n",
       "6503      1.339              1.431769  ...                  1.119511   \n",
       "6502      1.529              1.431769  ...                  1.119511   \n",
       "6501      1.529              1.431769  ...                  1.119511   \n",
       "6506      1.539              1.431769  ...                  1.119511   \n",
       "6510      1.339              1.431769  ...                  1.119511   \n",
       "6512      1.339              1.431769  ...                  1.119511   \n",
       "6505      1.339              1.431769  ...                  1.119511   \n",
       "6511      1.552              1.431769  ...                  1.119511   \n",
       "6508      1.529              1.431769  ...                  1.119511   \n",
       "6500      1.552              1.431769  ...                  1.119511   \n",
       "\n",
       "      Gasoleo Premium  Media C.P. Gasoleo P  Media Nacional Gasoleo P  \\\n",
       "6509            1.359                 1.199                   1.53853   \n",
       "6507            1.349                 1.199                   1.53853   \n",
       "6504              NaN                 1.199                   1.53853   \n",
       "6503              NaN                 1.199                   1.53853   \n",
       "6502            1.619                 1.199                   1.53853   \n",
       "6501            1.619                 1.199                   1.53853   \n",
       "6506            1.639                 1.199                   1.53853   \n",
       "6510              NaN                 1.199                   1.53853   \n",
       "6512              NaN                 1.199                   1.53853   \n",
       "6505              NaN                 1.199                   1.53853   \n",
       "6511              NaN                 1.199                   1.53853   \n",
       "6508            1.539                 1.199                   1.53853   \n",
       "6500            1.642                 1.199                   1.53853   \n",
       "\n",
       "      Gasolina 95 E5  Media C.P. Gasolina 95  Media Nacional Gasolina 95  \\\n",
       "6509           1.519                1.586385                    1.581478   \n",
       "6507           1.519                1.586385                    1.581478   \n",
       "6504           1.519                1.586385                    1.581478   \n",
       "6503           1.519                1.586385                    1.581478   \n",
       "6502           1.659                1.586385                    1.581478   \n",
       "6501           1.659                1.586385                    1.581478   \n",
       "6506           1.659                1.586385                    1.581478   \n",
       "6510           1.519                1.586385                    1.581478   \n",
       "6512           1.519                1.586385                    1.581478   \n",
       "6505           1.519                1.586385                    1.581478   \n",
       "6511           1.672                1.586385                    1.581478   \n",
       "6508           1.669                1.586385                    1.581478   \n",
       "6500           1.672                1.586385                    1.581478   \n",
       "\n",
       "      Gasolina 98 E5  Media C.P. Gasolina 98  Media Nacional Gasolina 98  \n",
       "6509             NaN                1.797667                    1.737381  \n",
       "6507             NaN                1.797667                    1.737381  \n",
       "6504             NaN                1.797667                    1.737381  \n",
       "6503             NaN                1.797667                    1.737381  \n",
       "6502           1.801                1.797667                    1.737381  \n",
       "6501           1.801                1.797667                    1.737381  \n",
       "6506           1.791                1.797667                    1.737381  \n",
       "6510             NaN                1.797667                    1.737381  \n",
       "6512             NaN                1.797667                    1.737381  \n",
       "6505             NaN                1.797667                    1.737381  \n",
       "6511             NaN                1.797667                    1.737381  \n",
       "6508             NaN                1.797667                    1.737381  \n",
       "6500             NaN                1.797667                    1.737381  \n",
       "\n",
       "[13 rows x 23 columns]"
      ]
     },
     "execution_count": 164,
     "metadata": {},
     "output_type": "execute_result"
    }
   ],
   "source": [
    "gasolineras_cp('28500')"
   ]
  },
  {
   "cell_type": "code",
   "execution_count": 165,
   "id": "3542af36",
   "metadata": {},
   "outputs": [
    {
     "data": {
      "text/html": [
       "<div>\n",
       "<style scoped>\n",
       "    .dataframe tbody tr th:only-of-type {\n",
       "        vertical-align: middle;\n",
       "    }\n",
       "\n",
       "    .dataframe tbody tr th {\n",
       "        vertical-align: top;\n",
       "    }\n",
       "\n",
       "    .dataframe thead th {\n",
       "        text-align: right;\n",
       "    }\n",
       "</style>\n",
       "<table border=\"1\" class=\"dataframe\">\n",
       "  <thead>\n",
       "    <tr style=\"text-align: right;\">\n",
       "      <th></th>\n",
       "      <th>Fecha</th>\n",
       "      <th>Horario</th>\n",
       "      <th>C.P.</th>\n",
       "      <th>Provincia</th>\n",
       "      <th>Municipio</th>\n",
       "      <th>Localidad</th>\n",
       "      <th>Dirección</th>\n",
       "      <th>Proveedor de Servicio</th>\n",
       "      <th>Gasoleo A</th>\n",
       "      <th>Media C.P. Gasoleo A</th>\n",
       "      <th>...</th>\n",
       "      <th>Media Nacional Gasoleo B</th>\n",
       "      <th>Gasoleo Premium</th>\n",
       "      <th>Media C.P. Gasoleo P</th>\n",
       "      <th>Media Nacional Gasoleo P</th>\n",
       "      <th>Gasolina 95 E5</th>\n",
       "      <th>Media C.P. Gasolina 95</th>\n",
       "      <th>Media Nacional Gasolina 95</th>\n",
       "      <th>Gasolina 98 E5</th>\n",
       "      <th>Media C.P. Gasolina 98</th>\n",
       "      <th>Media Nacional Gasolina 98</th>\n",
       "    </tr>\n",
       "  </thead>\n",
       "  <tbody>\n",
       "    <tr>\n",
       "      <th>5027</th>\n",
       "      <td>29/06/2023 16:35:25</td>\n",
       "      <td>L-D: 06:00-23:30</td>\n",
       "      <td>18818</td>\n",
       "      <td>GRANADA</td>\n",
       "      <td>Castilléjar</td>\n",
       "      <td>CASTILLEJAR</td>\n",
       "      <td>CARRETERA BENAMAUREL-HUESCAR KM. 13</td>\n",
       "      <td>AGLA</td>\n",
       "      <td>1.459</td>\n",
       "      <td>1.459000</td>\n",
       "      <td>...</td>\n",
       "      <td>1.119511</td>\n",
       "      <td>1.509</td>\n",
       "      <td>1.129000</td>\n",
       "      <td>1.53853</td>\n",
       "      <td>1.619</td>\n",
       "      <td>1.619000</td>\n",
       "      <td>1.581478</td>\n",
       "      <td>1.789</td>\n",
       "      <td>1.789000</td>\n",
       "      <td>1.737381</td>\n",
       "    </tr>\n",
       "    <tr>\n",
       "      <th>10731</th>\n",
       "      <td>29/06/2023 16:35:25</td>\n",
       "      <td>L-D: 06:00-22:00</td>\n",
       "      <td>46841</td>\n",
       "      <td>VALENCIA / VALÈNCIA</td>\n",
       "      <td>Castelló de Rugat</td>\n",
       "      <td>CASTELLO DE RUGAT</td>\n",
       "      <td>CL  CAÑI REAL 83</td>\n",
       "      <td>BP</td>\n",
       "      <td>1.539</td>\n",
       "      <td>1.539000</td>\n",
       "      <td>...</td>\n",
       "      <td>1.119511</td>\n",
       "      <td>1.619</td>\n",
       "      <td>1.200000</td>\n",
       "      <td>1.53853</td>\n",
       "      <td>1.669</td>\n",
       "      <td>1.669000</td>\n",
       "      <td>1.581478</td>\n",
       "      <td>1.829</td>\n",
       "      <td>1.829000</td>\n",
       "      <td>1.737381</td>\n",
       "    </tr>\n",
       "    <tr>\n",
       "      <th>1790</th>\n",
       "      <td>29/06/2023 16:35:25</td>\n",
       "      <td>L-D: 24H</td>\n",
       "      <td>08210</td>\n",
       "      <td>BARCELONA</td>\n",
       "      <td>Barberà del Vallès</td>\n",
       "      <td>BARBERA DEL VALLES</td>\n",
       "      <td>CR DE RIPOLLET A SANTIGA KM  2,4</td>\n",
       "      <td>BP</td>\n",
       "      <td>1.509</td>\n",
       "      <td>1.437000</td>\n",
       "      <td>...</td>\n",
       "      <td>1.119511</td>\n",
       "      <td>1.599</td>\n",
       "      <td>1.219000</td>\n",
       "      <td>1.53853</td>\n",
       "      <td>1.689</td>\n",
       "      <td>1.643000</td>\n",
       "      <td>1.581478</td>\n",
       "      <td>1.829</td>\n",
       "      <td>1.829000</td>\n",
       "      <td>1.737381</td>\n",
       "    </tr>\n",
       "    <tr>\n",
       "      <th>5865</th>\n",
       "      <td>29/06/2023 16:35:25</td>\n",
       "      <td>L-D: 06:30-22:30</td>\n",
       "      <td>23400</td>\n",
       "      <td>JAÉN</td>\n",
       "      <td>Úbeda</td>\n",
       "      <td>UBEDA</td>\n",
       "      <td>CL AVENIDA DE LA LIBERTAD 76</td>\n",
       "      <td>REPSOL</td>\n",
       "      <td>1.478</td>\n",
       "      <td>1.420700</td>\n",
       "      <td>...</td>\n",
       "      <td>1.119511</td>\n",
       "      <td>1.578</td>\n",
       "      <td>1.133250</td>\n",
       "      <td>1.53853</td>\n",
       "      <td>1.608</td>\n",
       "      <td>1.573100</td>\n",
       "      <td>1.581478</td>\n",
       "      <td>1.728</td>\n",
       "      <td>1.721250</td>\n",
       "      <td>1.737381</td>\n",
       "    </tr>\n",
       "    <tr>\n",
       "      <th>4964</th>\n",
       "      <td>29/06/2023 16:35:25</td>\n",
       "      <td>L-S: 06:00-22:00; D: 07:00-22:00</td>\n",
       "      <td>17185</td>\n",
       "      <td>GIRONA</td>\n",
       "      <td>Vilobí d'Onyar</td>\n",
       "      <td>VILOBI D'ONYAR</td>\n",
       "      <td>CARRETERA GIRONA SANTA COLOAM FARNERS KM. 13</td>\n",
       "      <td>BP</td>\n",
       "      <td>1.499</td>\n",
       "      <td>1.479000</td>\n",
       "      <td>...</td>\n",
       "      <td>1.119511</td>\n",
       "      <td>1.579</td>\n",
       "      <td>1.399000</td>\n",
       "      <td>1.53853</td>\n",
       "      <td>1.699</td>\n",
       "      <td>1.664000</td>\n",
       "      <td>1.581478</td>\n",
       "      <td>1.839</td>\n",
       "      <td>1.839000</td>\n",
       "      <td>1.737381</td>\n",
       "    </tr>\n",
       "    <tr>\n",
       "      <th>...</th>\n",
       "      <td>...</td>\n",
       "      <td>...</td>\n",
       "      <td>...</td>\n",
       "      <td>...</td>\n",
       "      <td>...</td>\n",
       "      <td>...</td>\n",
       "      <td>...</td>\n",
       "      <td>...</td>\n",
       "      <td>...</td>\n",
       "      <td>...</td>\n",
       "      <td>...</td>\n",
       "      <td>...</td>\n",
       "      <td>...</td>\n",
       "      <td>...</td>\n",
       "      <td>...</td>\n",
       "      <td>...</td>\n",
       "      <td>...</td>\n",
       "      <td>...</td>\n",
       "      <td>...</td>\n",
       "      <td>...</td>\n",
       "      <td>...</td>\n",
       "    </tr>\n",
       "    <tr>\n",
       "      <th>8940</th>\n",
       "      <td>29/06/2023 16:35:25</td>\n",
       "      <td>L-D: 24H</td>\n",
       "      <td>26223</td>\n",
       "      <td>RIOJA (LA)</td>\n",
       "      <td>Hormilla</td>\n",
       "      <td>HORMILLA</td>\n",
       "      <td>CALLE PRINCIPAL, S/N</td>\n",
       "      <td>VALCARCE</td>\n",
       "      <td>1.419</td>\n",
       "      <td>1.419000</td>\n",
       "      <td>...</td>\n",
       "      <td>1.119511</td>\n",
       "      <td>1.479</td>\n",
       "      <td>1.239000</td>\n",
       "      <td>1.53853</td>\n",
       "      <td>1.589</td>\n",
       "      <td>1.589000</td>\n",
       "      <td>1.581478</td>\n",
       "      <td>1.729</td>\n",
       "      <td>1.729000</td>\n",
       "      <td>1.737381</td>\n",
       "    </tr>\n",
       "    <tr>\n",
       "      <th>5145</th>\n",
       "      <td>29/06/2023 16:35:25</td>\n",
       "      <td>L-D: 24H</td>\n",
       "      <td>18327</td>\n",
       "      <td>GRANADA</td>\n",
       "      <td>Láchar</td>\n",
       "      <td>LACHAR</td>\n",
       "      <td>AUTOVIA A92 KM. 221</td>\n",
       "      <td>VALCARCE</td>\n",
       "      <td>1.459</td>\n",
       "      <td>1.459000</td>\n",
       "      <td>...</td>\n",
       "      <td>1.119511</td>\n",
       "      <td>1.589</td>\n",
       "      <td>1.259000</td>\n",
       "      <td>1.53853</td>\n",
       "      <td>1.579</td>\n",
       "      <td>1.579000</td>\n",
       "      <td>1.581478</td>\n",
       "      <td>1.579</td>\n",
       "      <td>1.579000</td>\n",
       "      <td>1.737381</td>\n",
       "    </tr>\n",
       "    <tr>\n",
       "      <th>4167</th>\n",
       "      <td>29/06/2023 16:35:25</td>\n",
       "      <td>L-D: 06:00-23:00</td>\n",
       "      <td>15100</td>\n",
       "      <td>CORUÑA (A)</td>\n",
       "      <td>Carballo</td>\n",
       "      <td>CARBALLO</td>\n",
       "      <td>LUGAR A REVOLTA, 20</td>\n",
       "      <td>VALCARCE (E S CARVOLTA  S L )</td>\n",
       "      <td>1.379</td>\n",
       "      <td>1.404111</td>\n",
       "      <td>...</td>\n",
       "      <td>1.119511</td>\n",
       "      <td>1.439</td>\n",
       "      <td>1.182000</td>\n",
       "      <td>1.53853</td>\n",
       "      <td>1.589</td>\n",
       "      <td>1.590222</td>\n",
       "      <td>1.581478</td>\n",
       "      <td>1.749</td>\n",
       "      <td>1.771000</td>\n",
       "      <td>1.737381</td>\n",
       "    </tr>\n",
       "    <tr>\n",
       "      <th>7764</th>\n",
       "      <td>29/06/2023 16:35:25</td>\n",
       "      <td>L-D: 24H</td>\n",
       "      <td>30800</td>\n",
       "      <td>MURCIA</td>\n",
       "      <td>Lorca</td>\n",
       "      <td>LORCA</td>\n",
       "      <td>CARRETERA A-91 KM. 3,5</td>\n",
       "      <td>VENTA LA PETRA</td>\n",
       "      <td>1.478</td>\n",
       "      <td>1.396957</td>\n",
       "      <td>...</td>\n",
       "      <td>1.119511</td>\n",
       "      <td>1.568</td>\n",
       "      <td>1.216833</td>\n",
       "      <td>1.53853</td>\n",
       "      <td>1.598</td>\n",
       "      <td>1.569714</td>\n",
       "      <td>1.581478</td>\n",
       "      <td>1.748</td>\n",
       "      <td>1.699071</td>\n",
       "      <td>1.737381</td>\n",
       "    </tr>\n",
       "    <tr>\n",
       "      <th>1917</th>\n",
       "      <td>29/06/2023 16:35:25</td>\n",
       "      <td>L: 07:00-22:00</td>\n",
       "      <td>08261</td>\n",
       "      <td>BARCELONA</td>\n",
       "      <td>Cardona</td>\n",
       "      <td>CARDONA</td>\n",
       "      <td>CARRETERA C-1410A KM. 29</td>\n",
       "      <td>VILALTA</td>\n",
       "      <td>1.369</td>\n",
       "      <td>1.339333</td>\n",
       "      <td>...</td>\n",
       "      <td>1.119511</td>\n",
       "      <td>1.399</td>\n",
       "      <td>1.010000</td>\n",
       "      <td>1.53853</td>\n",
       "      <td>1.519</td>\n",
       "      <td>1.509000</td>\n",
       "      <td>1.581478</td>\n",
       "      <td>1.699</td>\n",
       "      <td>1.699000</td>\n",
       "      <td>1.737381</td>\n",
       "    </tr>\n",
       "  </tbody>\n",
       "</table>\n",
       "<p>890 rows × 23 columns</p>\n",
       "</div>"
      ],
      "text/plain": [
       "                     Fecha                           Horario   C.P.  \\\n",
       "5027   29/06/2023 16:35:25                  L-D: 06:00-23:30  18818   \n",
       "10731  29/06/2023 16:35:25                  L-D: 06:00-22:00  46841   \n",
       "1790   29/06/2023 16:35:25                          L-D: 24H  08210   \n",
       "5865   29/06/2023 16:35:25                  L-D: 06:30-22:30  23400   \n",
       "4964   29/06/2023 16:35:25  L-S: 06:00-22:00; D: 07:00-22:00  17185   \n",
       "...                    ...                               ...    ...   \n",
       "8940   29/06/2023 16:35:25                          L-D: 24H  26223   \n",
       "5145   29/06/2023 16:35:25                          L-D: 24H  18327   \n",
       "4167   29/06/2023 16:35:25                  L-D: 06:00-23:00  15100   \n",
       "7764   29/06/2023 16:35:25                          L-D: 24H  30800   \n",
       "1917   29/06/2023 16:35:25                    L: 07:00-22:00  08261   \n",
       "\n",
       "                 Provincia           Municipio           Localidad  \\\n",
       "5027               GRANADA         Castilléjar         CASTILLEJAR   \n",
       "10731  VALENCIA / VALÈNCIA   Castelló de Rugat   CASTELLO DE RUGAT   \n",
       "1790             BARCELONA  Barberà del Vallès  BARBERA DEL VALLES   \n",
       "5865                  JAÉN               Úbeda               UBEDA   \n",
       "4964                GIRONA      Vilobí d'Onyar      VILOBI D'ONYAR   \n",
       "...                    ...                 ...                 ...   \n",
       "8940            RIOJA (LA)            Hormilla            HORMILLA   \n",
       "5145               GRANADA              Láchar              LACHAR   \n",
       "4167            CORUÑA (A)            Carballo            CARBALLO   \n",
       "7764                MURCIA               Lorca               LORCA   \n",
       "1917             BARCELONA             Cardona             CARDONA   \n",
       "\n",
       "                                          Dirección  \\\n",
       "5027            CARRETERA BENAMAUREL-HUESCAR KM. 13   \n",
       "10731                              CL  CAÑI REAL 83   \n",
       "1790               CR DE RIPOLLET A SANTIGA KM  2,4   \n",
       "5865                   CL AVENIDA DE LA LIBERTAD 76   \n",
       "4964   CARRETERA GIRONA SANTA COLOAM FARNERS KM. 13   \n",
       "...                                             ...   \n",
       "8940                           CALLE PRINCIPAL, S/N   \n",
       "5145                            AUTOVIA A92 KM. 221   \n",
       "4167                            LUGAR A REVOLTA, 20   \n",
       "7764                         CARRETERA A-91 KM. 3,5   \n",
       "1917                       CARRETERA C-1410A KM. 29   \n",
       "\n",
       "               Proveedor de Servicio  Gasoleo A  Media C.P. Gasoleo A  ...  \\\n",
       "5027                            AGLA      1.459              1.459000  ...   \n",
       "10731                             BP      1.539              1.539000  ...   \n",
       "1790                              BP      1.509              1.437000  ...   \n",
       "5865                          REPSOL      1.478              1.420700  ...   \n",
       "4964                              BP      1.499              1.479000  ...   \n",
       "...                              ...        ...                   ...  ...   \n",
       "8940                        VALCARCE      1.419              1.419000  ...   \n",
       "5145                       VALCARCE       1.459              1.459000  ...   \n",
       "4167   VALCARCE (E S CARVOLTA  S L )      1.379              1.404111  ...   \n",
       "7764                  VENTA LA PETRA      1.478              1.396957  ...   \n",
       "1917                         VILALTA      1.369              1.339333  ...   \n",
       "\n",
       "       Media Nacional Gasoleo B  Gasoleo Premium  Media C.P. Gasoleo P  \\\n",
       "5027                   1.119511            1.509              1.129000   \n",
       "10731                  1.119511            1.619              1.200000   \n",
       "1790                   1.119511            1.599              1.219000   \n",
       "5865                   1.119511            1.578              1.133250   \n",
       "4964                   1.119511            1.579              1.399000   \n",
       "...                         ...              ...                   ...   \n",
       "8940                   1.119511            1.479              1.239000   \n",
       "5145                   1.119511            1.589              1.259000   \n",
       "4167                   1.119511            1.439              1.182000   \n",
       "7764                   1.119511            1.568              1.216833   \n",
       "1917                   1.119511            1.399              1.010000   \n",
       "\n",
       "       Media Nacional Gasoleo P  Gasolina 95 E5  Media C.P. Gasolina 95  \\\n",
       "5027                    1.53853           1.619                1.619000   \n",
       "10731                   1.53853           1.669                1.669000   \n",
       "1790                    1.53853           1.689                1.643000   \n",
       "5865                    1.53853           1.608                1.573100   \n",
       "4964                    1.53853           1.699                1.664000   \n",
       "...                         ...             ...                     ...   \n",
       "8940                    1.53853           1.589                1.589000   \n",
       "5145                    1.53853           1.579                1.579000   \n",
       "4167                    1.53853           1.589                1.590222   \n",
       "7764                    1.53853           1.598                1.569714   \n",
       "1917                    1.53853           1.519                1.509000   \n",
       "\n",
       "       Media Nacional Gasolina 95  Gasolina 98 E5  Media C.P. Gasolina 98  \\\n",
       "5027                     1.581478           1.789                1.789000   \n",
       "10731                    1.581478           1.829                1.829000   \n",
       "1790                     1.581478           1.829                1.829000   \n",
       "5865                     1.581478           1.728                1.721250   \n",
       "4964                     1.581478           1.839                1.839000   \n",
       "...                           ...             ...                     ...   \n",
       "8940                     1.581478           1.729                1.729000   \n",
       "5145                     1.581478           1.579                1.579000   \n",
       "4167                     1.581478           1.749                1.771000   \n",
       "7764                     1.581478           1.748                1.699071   \n",
       "1917                     1.581478           1.699                1.699000   \n",
       "\n",
       "       Media Nacional Gasolina 98  \n",
       "5027                     1.737381  \n",
       "10731                    1.737381  \n",
       "1790                     1.737381  \n",
       "5865                     1.737381  \n",
       "4964                     1.737381  \n",
       "...                           ...  \n",
       "8940                     1.737381  \n",
       "5145                     1.737381  \n",
       "4167                     1.737381  \n",
       "7764                     1.737381  \n",
       "1917                     1.737381  \n",
       "\n",
       "[890 rows x 23 columns]"
      ]
     },
     "execution_count": 165,
     "metadata": {},
     "output_type": "execute_result"
    }
   ],
   "source": [
    "df_n.dropna()"
   ]
  },
  {
   "cell_type": "code",
   "execution_count": null,
   "id": "5554abd0",
   "metadata": {},
   "outputs": [],
   "source": []
  },
  {
   "cell_type": "code",
   "execution_count": null,
   "id": "9bdeaf58",
   "metadata": {},
   "outputs": [],
   "source": []
  },
  {
   "cell_type": "code",
   "execution_count": null,
   "id": "7ea9bb56",
   "metadata": {},
   "outputs": [],
   "source": []
  },
  {
   "cell_type": "code",
   "execution_count": null,
   "id": "993e45ed",
   "metadata": {},
   "outputs": [],
   "source": [
    "\n",
    "\n"
   ]
  }
 ],
 "metadata": {
  "kernelspec": {
   "display_name": "jp_env",
   "language": "python",
   "name": "jp_env"
  },
  "language_info": {
   "codemirror_mode": {
    "name": "ipython",
    "version": 3
   },
   "file_extension": ".py",
   "mimetype": "text/x-python",
   "name": "python",
   "nbconvert_exporter": "python",
   "pygments_lexer": "ipython3",
   "version": "3.11.3"
  }
 },
 "nbformat": 4,
 "nbformat_minor": 5
}
