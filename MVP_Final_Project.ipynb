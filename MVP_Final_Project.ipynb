{
 "cells": [
  {
   "cell_type": "markdown",
   "id": "3e6982b2",
   "metadata": {},
   "source": [
    "## MVP"
   ]
  },
  {
   "cell_type": "code",
   "execution_count": 1,
   "id": "2cef25b8",
   "metadata": {},
   "outputs": [],
   "source": [
    "# Imports\n",
    "\n",
    "# Pandas\n",
    "import pandas as pd \n",
    "\n",
    "# Importo libreria para conexión a API\n",
    "from urllib.request import urlopen\n",
    "\n",
    "# Importo libreria Json para que lea\n",
    "import json\n",
    "\n",
    "#Normalizar Json\n",
    "from pandas.io.json import json_normalize\n",
    "\n",
    "import numpy as np\n"
   ]
  },
  {
   "cell_type": "markdown",
   "id": "9397380f",
   "metadata": {},
   "source": [
    "---\n",
    "Step 1 (Data Extraction)"
   ]
  },
  {
   "cell_type": "code",
   "execution_count": 2,
   "id": "55515f32",
   "metadata": {},
   "outputs": [],
   "source": [
    "# Definir las variables donde meto el string que contiene la URL\n",
    "\n",
    "endpoint ='https://sedeaplicaciones.minetur.gob.es'\n",
    "parametros = '/ServiciosRESTCarburantes/PreciosCarburantes/EstacionesTerrestres/'\n"
   ]
  },
  {
   "cell_type": "code",
   "execution_count": 3,
   "id": "2d466973",
   "metadata": {},
   "outputs": [
    {
     "data": {
      "text/plain": [
       "http.client.HTTPResponse"
      ]
     },
     "execution_count": 3,
     "metadata": {},
     "output_type": "execute_result"
    }
   ],
   "source": [
    "# Vamos a guardar en una variable nuestros datos (resultado, comida) \n",
    "\n",
    "response = urlopen(endpoint+parametros)\n",
    "type(response)\n"
   ]
  },
  {
   "cell_type": "code",
   "execution_count": 4,
   "id": "0031d835",
   "metadata": {},
   "outputs": [
    {
     "data": {
      "text/plain": [
       "dict"
      ]
     },
     "execution_count": 4,
     "metadata": {},
     "output_type": "execute_result"
    }
   ],
   "source": [
    "# Vamos a extraer del obejto, los datos\n",
    "\n",
    "data = response.read().decode('utf-8', 'replace')\n",
    "data = json.loads(data)\n",
    "type(data)\n"
   ]
  },
  {
   "cell_type": "code",
   "execution_count": 5,
   "id": "501a7f08",
   "metadata": {},
   "outputs": [
    {
     "data": {
      "text/html": [
       "<div>\n",
       "<style scoped>\n",
       "    .dataframe tbody tr th:only-of-type {\n",
       "        vertical-align: middle;\n",
       "    }\n",
       "\n",
       "    .dataframe tbody tr th {\n",
       "        vertical-align: top;\n",
       "    }\n",
       "\n",
       "    .dataframe thead th {\n",
       "        text-align: right;\n",
       "    }\n",
       "</style>\n",
       "<table border=\"1\" class=\"dataframe\">\n",
       "  <thead>\n",
       "    <tr style=\"text-align: right;\">\n",
       "      <th></th>\n",
       "      <th>Fecha</th>\n",
       "      <th>ListaEESSPrecio</th>\n",
       "      <th>Nota</th>\n",
       "      <th>ResultadoConsulta</th>\n",
       "    </tr>\n",
       "  </thead>\n",
       "  <tbody>\n",
       "    <tr>\n",
       "      <th>0</th>\n",
       "      <td>10/05/2023 20:06:24</td>\n",
       "      <td>{'C.P.': '02250', 'Dirección': 'AVENIDA CASTIL...</td>\n",
       "      <td>Archivo de todos los productos en todas las es...</td>\n",
       "      <td>OK</td>\n",
       "    </tr>\n",
       "    <tr>\n",
       "      <th>1</th>\n",
       "      <td>10/05/2023 20:06:24</td>\n",
       "      <td>{'C.P.': '02001', 'Dirección': 'AVENIDA 1º DE ...</td>\n",
       "      <td>Archivo de todos los productos en todas las es...</td>\n",
       "      <td>OK</td>\n",
       "    </tr>\n",
       "    <tr>\n",
       "      <th>2</th>\n",
       "      <td>10/05/2023 20:06:24</td>\n",
       "      <td>{'C.P.': '02001', 'Dirección': 'CALLE PRINCIPE...</td>\n",
       "      <td>Archivo de todos los productos en todas las es...</td>\n",
       "      <td>OK</td>\n",
       "    </tr>\n",
       "    <tr>\n",
       "      <th>3</th>\n",
       "      <td>10/05/2023 20:06:24</td>\n",
       "      <td>{'C.P.': '02001', 'Dirección': 'CALLE FEDERICO...</td>\n",
       "      <td>Archivo de todos los productos en todas las es...</td>\n",
       "      <td>OK</td>\n",
       "    </tr>\n",
       "    <tr>\n",
       "      <th>4</th>\n",
       "      <td>10/05/2023 20:06:24</td>\n",
       "      <td>{'C.P.': '02001', 'Dirección': 'CALLE FEDERICO...</td>\n",
       "      <td>Archivo de todos los productos en todas las es...</td>\n",
       "      <td>OK</td>\n",
       "    </tr>\n",
       "    <tr>\n",
       "      <th>...</th>\n",
       "      <td>...</td>\n",
       "      <td>...</td>\n",
       "      <td>...</td>\n",
       "      <td>...</td>\n",
       "    </tr>\n",
       "    <tr>\n",
       "      <th>11886</th>\n",
       "      <td>10/05/2023 20:06:24</td>\n",
       "      <td>{'C.P.': '50197', 'Dirección': 'RONDA RONDA DE...</td>\n",
       "      <td>Archivo de todos los productos en todas las es...</td>\n",
       "      <td>OK</td>\n",
       "    </tr>\n",
       "    <tr>\n",
       "      <th>11887</th>\n",
       "      <td>10/05/2023 20:06:24</td>\n",
       "      <td>{'C.P.': '50197', 'Dirección': 'POLIGONO CALLE...</td>\n",
       "      <td>Archivo de todos los productos en todas las es...</td>\n",
       "      <td>OK</td>\n",
       "    </tr>\n",
       "    <tr>\n",
       "      <th>11888</th>\n",
       "      <td>10/05/2023 20:06:24</td>\n",
       "      <td>{'C.P.': '50800', 'Dirección': 'CARRETERA N-33...</td>\n",
       "      <td>Archivo de todos los productos en todas las es...</td>\n",
       "      <td>OK</td>\n",
       "    </tr>\n",
       "    <tr>\n",
       "      <th>11889</th>\n",
       "      <td>10/05/2023 20:06:24</td>\n",
       "      <td>{'C.P.': '50800', 'Dirección': 'CALLE AUSTRIA,...</td>\n",
       "      <td>Archivo de todos los productos en todas las es...</td>\n",
       "      <td>OK</td>\n",
       "    </tr>\n",
       "    <tr>\n",
       "      <th>11890</th>\n",
       "      <td>10/05/2023 20:06:24</td>\n",
       "      <td>{'C.P.': '50810', 'Dirección': 'CALLE COOPERAT...</td>\n",
       "      <td>Archivo de todos los productos en todas las es...</td>\n",
       "      <td>OK</td>\n",
       "    </tr>\n",
       "  </tbody>\n",
       "</table>\n",
       "<p>11891 rows × 4 columns</p>\n",
       "</div>"
      ],
      "text/plain": [
       "                     Fecha                                    ListaEESSPrecio  \\\n",
       "0      10/05/2023 20:06:24  {'C.P.': '02250', 'Dirección': 'AVENIDA CASTIL...   \n",
       "1      10/05/2023 20:06:24  {'C.P.': '02001', 'Dirección': 'AVENIDA 1º DE ...   \n",
       "2      10/05/2023 20:06:24  {'C.P.': '02001', 'Dirección': 'CALLE PRINCIPE...   \n",
       "3      10/05/2023 20:06:24  {'C.P.': '02001', 'Dirección': 'CALLE FEDERICO...   \n",
       "4      10/05/2023 20:06:24  {'C.P.': '02001', 'Dirección': 'CALLE FEDERICO...   \n",
       "...                    ...                                                ...   \n",
       "11886  10/05/2023 20:06:24  {'C.P.': '50197', 'Dirección': 'RONDA RONDA DE...   \n",
       "11887  10/05/2023 20:06:24  {'C.P.': '50197', 'Dirección': 'POLIGONO CALLE...   \n",
       "11888  10/05/2023 20:06:24  {'C.P.': '50800', 'Dirección': 'CARRETERA N-33...   \n",
       "11889  10/05/2023 20:06:24  {'C.P.': '50800', 'Dirección': 'CALLE AUSTRIA,...   \n",
       "11890  10/05/2023 20:06:24  {'C.P.': '50810', 'Dirección': 'CALLE COOPERAT...   \n",
       "\n",
       "                                                    Nota ResultadoConsulta  \n",
       "0      Archivo de todos los productos en todas las es...                OK  \n",
       "1      Archivo de todos los productos en todas las es...                OK  \n",
       "2      Archivo de todos los productos en todas las es...                OK  \n",
       "3      Archivo de todos los productos en todas las es...                OK  \n",
       "4      Archivo de todos los productos en todas las es...                OK  \n",
       "...                                                  ...               ...  \n",
       "11886  Archivo de todos los productos en todas las es...                OK  \n",
       "11887  Archivo de todos los productos en todas las es...                OK  \n",
       "11888  Archivo de todos los productos en todas las es...                OK  \n",
       "11889  Archivo de todos los productos en todas las es...                OK  \n",
       "11890  Archivo de todos los productos en todas las es...                OK  \n",
       "\n",
       "[11891 rows x 4 columns]"
      ]
     },
     "execution_count": 5,
     "metadata": {},
     "output_type": "execute_result"
    }
   ],
   "source": [
    "# Crear Dataframe\n",
    "\n",
    "df = pd.DataFrame(data)\n",
    "df"
   ]
  },
  {
   "cell_type": "markdown",
   "id": "bf936489",
   "metadata": {},
   "source": [
    "---\n",
    "\n",
    "Step 2 (Data Transformation)"
   ]
  },
  {
   "cell_type": "code",
   "execution_count": 6,
   "id": "82a65952",
   "metadata": {},
   "outputs": [
    {
     "data": {
      "text/plain": [
       "dict"
      ]
     },
     "execution_count": 6,
     "metadata": {},
     "output_type": "execute_result"
    }
   ],
   "source": [
    "# Análisis de la columna Lista EESS Precio\n",
    "\n",
    "diccionario = df['ListaEESSPrecio'].iloc[1]\n",
    "type(diccionario)"
   ]
  },
  {
   "cell_type": "code",
   "execution_count": 7,
   "id": "3207dce3",
   "metadata": {},
   "outputs": [
    {
     "data": {
      "text/plain": [
       "{'C.P.': '02001',\n",
       " 'Dirección': 'AVENIDA 1º DE MAYO, S/N',\n",
       " 'Horario': 'L-S: 08:00-22:00; D: 09:00-21:00',\n",
       " 'Latitud': '38,985667',\n",
       " 'Localidad': 'ALBACETE',\n",
       " 'Longitud (WGS84)': '-1,868500',\n",
       " 'Margen': 'N',\n",
       " 'Municipio': 'Albacete',\n",
       " 'Precio Biodiesel': '',\n",
       " 'Precio Bioetanol': '',\n",
       " 'Precio Gas Natural Comprimido': '',\n",
       " 'Precio Gas Natural Licuado': '',\n",
       " 'Precio Gases licuados del petróleo': '',\n",
       " 'Precio Gasoleo A': '1,439',\n",
       " 'Precio Gasoleo B': '',\n",
       " 'Precio Gasoleo Premium': '1,479',\n",
       " 'Precio Gasolina 95 E10': '',\n",
       " 'Precio Gasolina 95 E5': '1,589',\n",
       " 'Precio Gasolina 95 E5 Premium': '',\n",
       " 'Precio Gasolina 98 E10': '',\n",
       " 'Precio Gasolina 98 E5': '1,729',\n",
       " 'Precio Hidrogeno': '',\n",
       " 'Provincia': 'ALBACETE',\n",
       " 'Remisión': 'dm',\n",
       " 'Rótulo': 'CARREFOUR',\n",
       " 'Tipo Venta': 'P',\n",
       " '% BioEtanol': '0,0',\n",
       " '% Éster metílico': '0,0',\n",
       " 'IDEESS': '10765',\n",
       " 'IDMunicipio': '54',\n",
       " 'IDProvincia': '02',\n",
       " 'IDCCAA': '07'}"
      ]
     },
     "execution_count": 7,
     "metadata": {},
     "output_type": "execute_result"
    }
   ],
   "source": [
    "diccionario"
   ]
  },
  {
   "cell_type": "code",
   "execution_count": 8,
   "id": "b1c814d5",
   "metadata": {
    "scrolled": true
   },
   "outputs": [
    {
     "data": {
      "text/html": [
       "<div>\n",
       "<style scoped>\n",
       "    .dataframe tbody tr th:only-of-type {\n",
       "        vertical-align: middle;\n",
       "    }\n",
       "\n",
       "    .dataframe tbody tr th {\n",
       "        vertical-align: top;\n",
       "    }\n",
       "\n",
       "    .dataframe thead th {\n",
       "        text-align: right;\n",
       "    }\n",
       "</style>\n",
       "<table border=\"1\" class=\"dataframe\">\n",
       "  <thead>\n",
       "    <tr style=\"text-align: right;\">\n",
       "      <th></th>\n",
       "      <th>Fecha</th>\n",
       "      <th>C.P.</th>\n",
       "      <th>Dirección</th>\n",
       "      <th>Horario</th>\n",
       "      <th>Latitud</th>\n",
       "      <th>Localidad</th>\n",
       "      <th>Longitud (WGS84)</th>\n",
       "      <th>Margen</th>\n",
       "      <th>Municipio</th>\n",
       "      <th>Precio Biodiesel</th>\n",
       "      <th>...</th>\n",
       "      <th>Provincia</th>\n",
       "      <th>Remisión</th>\n",
       "      <th>Rótulo</th>\n",
       "      <th>Tipo Venta</th>\n",
       "      <th>% BioEtanol</th>\n",
       "      <th>% Éster metílico</th>\n",
       "      <th>IDEESS</th>\n",
       "      <th>IDMunicipio</th>\n",
       "      <th>IDProvincia</th>\n",
       "      <th>IDCCAA</th>\n",
       "    </tr>\n",
       "  </thead>\n",
       "  <tbody>\n",
       "    <tr>\n",
       "      <th>0</th>\n",
       "      <td>10/05/2023 20:06:24</td>\n",
       "      <td>02250</td>\n",
       "      <td>AVENIDA CASTILLA LA MANCHA, 26</td>\n",
       "      <td>L-D: 07:00-22:00</td>\n",
       "      <td>39,211417</td>\n",
       "      <td>ABENGIBRE</td>\n",
       "      <td>-1,539167</td>\n",
       "      <td>D</td>\n",
       "      <td>Abengibre</td>\n",
       "      <td></td>\n",
       "      <td>...</td>\n",
       "      <td>ALBACETE</td>\n",
       "      <td>dm</td>\n",
       "      <td>Nº 10.935</td>\n",
       "      <td>P</td>\n",
       "      <td>0,0</td>\n",
       "      <td>0,0</td>\n",
       "      <td>4375</td>\n",
       "      <td>52</td>\n",
       "      <td>02</td>\n",
       "      <td>07</td>\n",
       "    </tr>\n",
       "    <tr>\n",
       "      <th>1</th>\n",
       "      <td>10/05/2023 20:06:24</td>\n",
       "      <td>02001</td>\n",
       "      <td>AVENIDA 1º DE MAYO, S/N</td>\n",
       "      <td>L-S: 08:00-22:00; D: 09:00-21:00</td>\n",
       "      <td>38,985667</td>\n",
       "      <td>ALBACETE</td>\n",
       "      <td>-1,868500</td>\n",
       "      <td>N</td>\n",
       "      <td>Albacete</td>\n",
       "      <td></td>\n",
       "      <td>...</td>\n",
       "      <td>ALBACETE</td>\n",
       "      <td>dm</td>\n",
       "      <td>CARREFOUR</td>\n",
       "      <td>P</td>\n",
       "      <td>0,0</td>\n",
       "      <td>0,0</td>\n",
       "      <td>10765</td>\n",
       "      <td>54</td>\n",
       "      <td>02</td>\n",
       "      <td>07</td>\n",
       "    </tr>\n",
       "    <tr>\n",
       "      <th>2</th>\n",
       "      <td>10/05/2023 20:06:24</td>\n",
       "      <td>02001</td>\n",
       "      <td>CALLE PRINCIPE DE ASTURIAS (POLÍGONO DE ROMICA...</td>\n",
       "      <td>L-D: 06:00-21:30</td>\n",
       "      <td>39,054694</td>\n",
       "      <td>ALBACETE</td>\n",
       "      <td>-1,832000</td>\n",
       "      <td>I</td>\n",
       "      <td>Albacete</td>\n",
       "      <td></td>\n",
       "      <td>...</td>\n",
       "      <td>ALBACETE</td>\n",
       "      <td>OM</td>\n",
       "      <td>BP ROMICA</td>\n",
       "      <td>P</td>\n",
       "      <td>0,0</td>\n",
       "      <td>0,0</td>\n",
       "      <td>12054</td>\n",
       "      <td>54</td>\n",
       "      <td>02</td>\n",
       "      <td>07</td>\n",
       "    </tr>\n",
       "    <tr>\n",
       "      <th>3</th>\n",
       "      <td>10/05/2023 20:06:24</td>\n",
       "      <td>02001</td>\n",
       "      <td>CALLE FEDERICO GARCIA LORCA, 5</td>\n",
       "      <td>L-S: 05:00-23:00</td>\n",
       "      <td>38,997722</td>\n",
       "      <td>ALBACETE</td>\n",
       "      <td>-1,846361</td>\n",
       "      <td>I</td>\n",
       "      <td>Albacete</td>\n",
       "      <td></td>\n",
       "      <td>...</td>\n",
       "      <td>ALBACETE</td>\n",
       "      <td>dm</td>\n",
       "      <td>CEPSA</td>\n",
       "      <td>R</td>\n",
       "      <td>0,0</td>\n",
       "      <td>0,0</td>\n",
       "      <td>4438</td>\n",
       "      <td>54</td>\n",
       "      <td>02</td>\n",
       "      <td>07</td>\n",
       "    </tr>\n",
       "    <tr>\n",
       "      <th>4</th>\n",
       "      <td>10/05/2023 20:06:24</td>\n",
       "      <td>02001</td>\n",
       "      <td>CALLE FEDERICO GARCIA LORCA, 1</td>\n",
       "      <td>L-D: 24H</td>\n",
       "      <td>39,000861</td>\n",
       "      <td>ALBACETE</td>\n",
       "      <td>-1,849833</td>\n",
       "      <td>D</td>\n",
       "      <td>Albacete</td>\n",
       "      <td></td>\n",
       "      <td>...</td>\n",
       "      <td>ALBACETE</td>\n",
       "      <td>dm</td>\n",
       "      <td>PLENOIL</td>\n",
       "      <td>P</td>\n",
       "      <td>0,0</td>\n",
       "      <td>0,0</td>\n",
       "      <td>13933</td>\n",
       "      <td>54</td>\n",
       "      <td>02</td>\n",
       "      <td>07</td>\n",
       "    </tr>\n",
       "    <tr>\n",
       "      <th>...</th>\n",
       "      <td>...</td>\n",
       "      <td>...</td>\n",
       "      <td>...</td>\n",
       "      <td>...</td>\n",
       "      <td>...</td>\n",
       "      <td>...</td>\n",
       "      <td>...</td>\n",
       "      <td>...</td>\n",
       "      <td>...</td>\n",
       "      <td>...</td>\n",
       "      <td>...</td>\n",
       "      <td>...</td>\n",
       "      <td>...</td>\n",
       "      <td>...</td>\n",
       "      <td>...</td>\n",
       "      <td>...</td>\n",
       "      <td>...</td>\n",
       "      <td>...</td>\n",
       "      <td>...</td>\n",
       "      <td>...</td>\n",
       "      <td>...</td>\n",
       "    </tr>\n",
       "    <tr>\n",
       "      <th>11886</th>\n",
       "      <td>10/05/2023 20:06:24</td>\n",
       "      <td>50197</td>\n",
       "      <td>RONDA RONDA DE LA FERIA DE MUESTRAS, 10</td>\n",
       "      <td>L-D: 24H</td>\n",
       "      <td>41,638361</td>\n",
       "      <td>ZARAGOZA</td>\n",
       "      <td>-0,987833</td>\n",
       "      <td>D</td>\n",
       "      <td>Zaragoza</td>\n",
       "      <td></td>\n",
       "      <td>...</td>\n",
       "      <td>ZARAGOZA</td>\n",
       "      <td>dm</td>\n",
       "      <td>MOLGAS</td>\n",
       "      <td>P</td>\n",
       "      <td>0,0</td>\n",
       "      <td>0,0</td>\n",
       "      <td>15747</td>\n",
       "      <td>8108</td>\n",
       "      <td>50</td>\n",
       "      <td>02</td>\n",
       "    </tr>\n",
       "    <tr>\n",
       "      <th>11887</th>\n",
       "      <td>10/05/2023 20:06:24</td>\n",
       "      <td>50197</td>\n",
       "      <td>POLIGONO CALLE TURIASO, 31</td>\n",
       "      <td>L-D: 24H</td>\n",
       "      <td>41,645722</td>\n",
       "      <td>ZARAGOZA</td>\n",
       "      <td>-0,974194</td>\n",
       "      <td>D</td>\n",
       "      <td>Zaragoza</td>\n",
       "      <td></td>\n",
       "      <td>...</td>\n",
       "      <td>ZARAGOZA</td>\n",
       "      <td>dm</td>\n",
       "      <td>NOIL</td>\n",
       "      <td>P</td>\n",
       "      <td>0,0</td>\n",
       "      <td>0,0</td>\n",
       "      <td>13917</td>\n",
       "      <td>8108</td>\n",
       "      <td>50</td>\n",
       "      <td>02</td>\n",
       "    </tr>\n",
       "    <tr>\n",
       "      <th>11888</th>\n",
       "      <td>10/05/2023 20:06:24</td>\n",
       "      <td>50800</td>\n",
       "      <td>CARRETERA N-330A KM. 24,000</td>\n",
       "      <td>L-D: 06:00-22:00</td>\n",
       "      <td>41,857000</td>\n",
       "      <td>ZUERA</td>\n",
       "      <td>-0,794000</td>\n",
       "      <td>D</td>\n",
       "      <td>Zuera</td>\n",
       "      <td></td>\n",
       "      <td>...</td>\n",
       "      <td>ZARAGOZA</td>\n",
       "      <td>OM</td>\n",
       "      <td>REPSOL</td>\n",
       "      <td>P</td>\n",
       "      <td>0,0</td>\n",
       "      <td>0,0</td>\n",
       "      <td>1452</td>\n",
       "      <td>8109</td>\n",
       "      <td>50</td>\n",
       "      <td>02</td>\n",
       "    </tr>\n",
       "    <tr>\n",
       "      <th>11889</th>\n",
       "      <td>10/05/2023 20:06:24</td>\n",
       "      <td>50800</td>\n",
       "      <td>CALLE AUSTRIA, 11,17</td>\n",
       "      <td>L-D: 24H</td>\n",
       "      <td>41,883583</td>\n",
       "      <td>ZUERA</td>\n",
       "      <td>-0,782833</td>\n",
       "      <td>D</td>\n",
       "      <td>Zuera</td>\n",
       "      <td></td>\n",
       "      <td>...</td>\n",
       "      <td>ZARAGOZA</td>\n",
       "      <td>dm</td>\n",
       "      <td>AN ENERGETICOS ZUERA</td>\n",
       "      <td>P</td>\n",
       "      <td>0,0</td>\n",
       "      <td>0,0</td>\n",
       "      <td>9085</td>\n",
       "      <td>8109</td>\n",
       "      <td>50</td>\n",
       "      <td>02</td>\n",
       "    </tr>\n",
       "    <tr>\n",
       "      <th>11890</th>\n",
       "      <td>10/05/2023 20:06:24</td>\n",
       "      <td>50810</td>\n",
       "      <td>CALLE COOPERATIVA, 2</td>\n",
       "      <td>L-D: 24H</td>\n",
       "      <td>41,938750</td>\n",
       "      <td>ONTINAR DE SALZ</td>\n",
       "      <td>-0,757611</td>\n",
       "      <td>D</td>\n",
       "      <td>Zuera</td>\n",
       "      <td></td>\n",
       "      <td>...</td>\n",
       "      <td>ZARAGOZA</td>\n",
       "      <td>dm</td>\n",
       "      <td>COOPERATIVA SAN ISIDRO</td>\n",
       "      <td>P</td>\n",
       "      <td>0,0</td>\n",
       "      <td>0,0</td>\n",
       "      <td>9068</td>\n",
       "      <td>8109</td>\n",
       "      <td>50</td>\n",
       "      <td>02</td>\n",
       "    </tr>\n",
       "  </tbody>\n",
       "</table>\n",
       "<p>11891 rows × 33 columns</p>\n",
       "</div>"
      ],
      "text/plain": [
       "                     Fecha   C.P.  \\\n",
       "0      10/05/2023 20:06:24  02250   \n",
       "1      10/05/2023 20:06:24  02001   \n",
       "2      10/05/2023 20:06:24  02001   \n",
       "3      10/05/2023 20:06:24  02001   \n",
       "4      10/05/2023 20:06:24  02001   \n",
       "...                    ...    ...   \n",
       "11886  10/05/2023 20:06:24  50197   \n",
       "11887  10/05/2023 20:06:24  50197   \n",
       "11888  10/05/2023 20:06:24  50800   \n",
       "11889  10/05/2023 20:06:24  50800   \n",
       "11890  10/05/2023 20:06:24  50810   \n",
       "\n",
       "                                               Dirección  \\\n",
       "0                         AVENIDA CASTILLA LA MANCHA, 26   \n",
       "1                                AVENIDA 1º DE MAYO, S/N   \n",
       "2      CALLE PRINCIPE DE ASTURIAS (POLÍGONO DE ROMICA...   \n",
       "3                         CALLE FEDERICO GARCIA LORCA, 5   \n",
       "4                         CALLE FEDERICO GARCIA LORCA, 1   \n",
       "...                                                  ...   \n",
       "11886            RONDA RONDA DE LA FERIA DE MUESTRAS, 10   \n",
       "11887                         POLIGONO CALLE TURIASO, 31   \n",
       "11888                        CARRETERA N-330A KM. 24,000   \n",
       "11889                               CALLE AUSTRIA, 11,17   \n",
       "11890                               CALLE COOPERATIVA, 2   \n",
       "\n",
       "                                Horario    Latitud        Localidad  \\\n",
       "0                      L-D: 07:00-22:00  39,211417        ABENGIBRE   \n",
       "1      L-S: 08:00-22:00; D: 09:00-21:00  38,985667         ALBACETE   \n",
       "2                      L-D: 06:00-21:30  39,054694         ALBACETE   \n",
       "3                      L-S: 05:00-23:00  38,997722         ALBACETE   \n",
       "4                              L-D: 24H  39,000861         ALBACETE   \n",
       "...                                 ...        ...              ...   \n",
       "11886                          L-D: 24H  41,638361         ZARAGOZA   \n",
       "11887                          L-D: 24H  41,645722         ZARAGOZA   \n",
       "11888                  L-D: 06:00-22:00  41,857000            ZUERA   \n",
       "11889                          L-D: 24H  41,883583            ZUERA   \n",
       "11890                          L-D: 24H  41,938750  ONTINAR DE SALZ   \n",
       "\n",
       "      Longitud (WGS84) Margen  Municipio Precio Biodiesel  ... Provincia  \\\n",
       "0            -1,539167      D  Abengibre                   ...  ALBACETE   \n",
       "1            -1,868500      N   Albacete                   ...  ALBACETE   \n",
       "2            -1,832000      I   Albacete                   ...  ALBACETE   \n",
       "3            -1,846361      I   Albacete                   ...  ALBACETE   \n",
       "4            -1,849833      D   Albacete                   ...  ALBACETE   \n",
       "...                ...    ...        ...              ...  ...       ...   \n",
       "11886        -0,987833      D   Zaragoza                   ...  ZARAGOZA   \n",
       "11887        -0,974194      D   Zaragoza                   ...  ZARAGOZA   \n",
       "11888        -0,794000      D      Zuera                   ...  ZARAGOZA   \n",
       "11889        -0,782833      D      Zuera                   ...  ZARAGOZA   \n",
       "11890        -0,757611      D      Zuera                   ...  ZARAGOZA   \n",
       "\n",
       "      Remisión                  Rótulo Tipo Venta % BioEtanol  \\\n",
       "0           dm               Nº 10.935          P         0,0   \n",
       "1           dm               CARREFOUR          P         0,0   \n",
       "2           OM               BP ROMICA          P         0,0   \n",
       "3           dm                   CEPSA          R         0,0   \n",
       "4           dm                 PLENOIL          P         0,0   \n",
       "...        ...                     ...        ...         ...   \n",
       "11886       dm                  MOLGAS          P         0,0   \n",
       "11887       dm                    NOIL          P         0,0   \n",
       "11888       OM                  REPSOL          P         0,0   \n",
       "11889       dm    AN ENERGETICOS ZUERA          P         0,0   \n",
       "11890       dm  COOPERATIVA SAN ISIDRO          P         0,0   \n",
       "\n",
       "      % Éster metílico IDEESS IDMunicipio IDProvincia IDCCAA  \n",
       "0                  0,0   4375          52          02     07  \n",
       "1                  0,0  10765          54          02     07  \n",
       "2                  0,0  12054          54          02     07  \n",
       "3                  0,0   4438          54          02     07  \n",
       "4                  0,0  13933          54          02     07  \n",
       "...                ...    ...         ...         ...    ...  \n",
       "11886              0,0  15747        8108          50     02  \n",
       "11887              0,0  13917        8108          50     02  \n",
       "11888              0,0   1452        8109          50     02  \n",
       "11889              0,0   9085        8109          50     02  \n",
       "11890              0,0   9068        8109          50     02  \n",
       "\n",
       "[11891 rows x 33 columns]"
      ]
     },
     "execution_count": 8,
     "metadata": {},
     "output_type": "execute_result"
    }
   ],
   "source": [
    "# Extraigo informacion de columna EESS Precio, utilizando json normalize\n",
    "\n",
    "df_n = pd.concat([df[['Fecha']],pd.json_normalize(df['ListaEESSPrecio'])], axis=1)\n",
    "df_n\n"
   ]
  },
  {
   "cell_type": "code",
   "execution_count": 9,
   "id": "90463003",
   "metadata": {},
   "outputs": [],
   "source": [
    "# Guardamos df original para sucesion de tiempo\n",
    "#df_n.to_csv('2022-11-05x.csv', index=False)"
   ]
  },
  {
   "cell_type": "code",
   "execution_count": 10,
   "id": "2d75fcc5",
   "metadata": {
    "scrolled": true
   },
   "outputs": [
    {
     "name": "stdout",
     "output_type": "stream",
     "text": [
      "<class 'pandas.core.frame.DataFrame'>\n",
      "RangeIndex: 11891 entries, 0 to 11890\n",
      "Data columns (total 33 columns):\n",
      " #   Column                              Non-Null Count  Dtype \n",
      "---  ------                              --------------  ----- \n",
      " 0   Fecha                               11891 non-null  object\n",
      " 1   C.P.                                11891 non-null  object\n",
      " 2   Dirección                           11891 non-null  object\n",
      " 3   Horario                             11891 non-null  object\n",
      " 4   Latitud                             11891 non-null  object\n",
      " 5   Localidad                           11891 non-null  object\n",
      " 6   Longitud (WGS84)                    11891 non-null  object\n",
      " 7   Margen                              11891 non-null  object\n",
      " 8   Municipio                           11891 non-null  object\n",
      " 9   Precio Biodiesel                    11891 non-null  object\n",
      " 10  Precio Bioetanol                    11891 non-null  object\n",
      " 11  Precio Gas Natural Comprimido       11891 non-null  object\n",
      " 12  Precio Gas Natural Licuado          11891 non-null  object\n",
      " 13  Precio Gases licuados del petróleo  11891 non-null  object\n",
      " 14  Precio Gasoleo A                    11891 non-null  object\n",
      " 15  Precio Gasoleo B                    11891 non-null  object\n",
      " 16  Precio Gasoleo Premium              11891 non-null  object\n",
      " 17  Precio Gasolina 95 E10              11891 non-null  object\n",
      " 18  Precio Gasolina 95 E5               11891 non-null  object\n",
      " 19  Precio Gasolina 95 E5 Premium       11891 non-null  object\n",
      " 20  Precio Gasolina 98 E10              11891 non-null  object\n",
      " 21  Precio Gasolina 98 E5               11891 non-null  object\n",
      " 22  Precio Hidrogeno                    11891 non-null  object\n",
      " 23  Provincia                           11891 non-null  object\n",
      " 24  Remisión                            11891 non-null  object\n",
      " 25  Rótulo                              11891 non-null  object\n",
      " 26  Tipo Venta                          11891 non-null  object\n",
      " 27  % BioEtanol                         11891 non-null  object\n",
      " 28  % Éster metílico                    11891 non-null  object\n",
      " 29  IDEESS                              11891 non-null  object\n",
      " 30  IDMunicipio                         11891 non-null  object\n",
      " 31  IDProvincia                         11891 non-null  object\n",
      " 32  IDCCAA                              11891 non-null  object\n",
      "dtypes: object(33)\n",
      "memory usage: 3.0+ MB\n"
     ]
    }
   ],
   "source": [
    "df_n.info()"
   ]
  },
  {
   "cell_type": "markdown",
   "id": "ee524e6e",
   "metadata": {},
   "source": [
    "---\n",
    "Step (3): EDA"
   ]
  },
  {
   "cell_type": "markdown",
   "id": "7027ceb6",
   "metadata": {},
   "source": [
    "                                                    Análisis de Columnas"
   ]
  },
  {
   "cell_type": "markdown",
   "id": "4deaad69",
   "metadata": {},
   "source": [
    "# Fecha"
   ]
  },
  {
   "cell_type": "code",
   "execution_count": 11,
   "id": "dd7735c8",
   "metadata": {},
   "outputs": [
    {
     "name": "stdout",
     "output_type": "stream",
     "text": [
      "<class 'numpy.ndarray'>\n",
      "1\n"
     ]
    },
    {
     "data": {
      "text/plain": [
       "array(['10/05/2023 20:06:24'], dtype=object)"
      ]
     },
     "execution_count": 11,
     "metadata": {},
     "output_type": "execute_result"
    }
   ],
   "source": [
    "# Fecha (solo hay una fecha)\n",
    "Fecha = df_n['Fecha'].unique()\n",
    "print(type(Fecha))\n",
    "print(len(Fecha))\n",
    "Fecha"
   ]
  },
  {
   "cell_type": "code",
   "execution_count": 12,
   "id": "5d054a1e",
   "metadata": {},
   "outputs": [
    {
     "data": {
      "text/plain": [
       "0"
      ]
     },
     "execution_count": 12,
     "metadata": {},
     "output_type": "execute_result"
    }
   ],
   "source": [
    "# Nulos \n",
    "nulos_f = df_n['Fecha'].isnull().sum()\n",
    "nulos_f"
   ]
  },
  {
   "cell_type": "markdown",
   "id": "addc43ab",
   "metadata": {},
   "source": [
    "# Código Postal"
   ]
  },
  {
   "cell_type": "code",
   "execution_count": 13,
   "id": "603eca2d",
   "metadata": {},
   "outputs": [
    {
     "name": "stdout",
     "output_type": "stream",
     "text": [
      "<class 'numpy.ndarray'>\n",
      "4548\n"
     ]
    },
    {
     "data": {
      "text/plain": [
       "array(['02250', '02001', '02005', ..., '50197', '50800', '50810'],\n",
       "      dtype=object)"
      ]
     },
     "execution_count": 13,
     "metadata": {},
     "output_type": "execute_result"
    }
   ],
   "source": [
    "# Columna C.P.\n",
    "cp = df_n['C.P.'].unique()\n",
    "print(type(cp))\n",
    "print(len(cp))\n",
    "cp\n",
    "# En Esaña hay 11752 codigos postales en total"
   ]
  },
  {
   "cell_type": "code",
   "execution_count": 14,
   "id": "de4b57fa",
   "metadata": {},
   "outputs": [
    {
     "data": {
      "text/plain": [
       "0"
      ]
     },
     "execution_count": 14,
     "metadata": {},
     "output_type": "execute_result"
    }
   ],
   "source": [
    "# Nulos \n",
    "nulos_cp = df_n['C.P.'].isnull().sum()\n",
    "nulos_cp"
   ]
  },
  {
   "cell_type": "markdown",
   "id": "cd713bcb",
   "metadata": {},
   "source": [
    "# Dirección"
   ]
  },
  {
   "cell_type": "code",
   "execution_count": 15,
   "id": "3ce78674",
   "metadata": {},
   "outputs": [
    {
     "name": "stdout",
     "output_type": "stream",
     "text": [
      "<class 'numpy.ndarray'>\n",
      "11570\n"
     ]
    },
    {
     "data": {
      "text/plain": [
       "array(['AVENIDA CASTILLA LA MANCHA, 26', 'AVENIDA 1º DE MAYO, S/N',\n",
       "       'CALLE PRINCIPE DE ASTURIAS (POLÍGONO DE ROMICA), 5', ...,\n",
       "       'POLIGONO CALLE TURIASO, 31', 'CARRETERA N-330A KM. 24,000',\n",
       "       'CALLE AUSTRIA, 11,17'], dtype=object)"
      ]
     },
     "execution_count": 15,
     "metadata": {},
     "output_type": "execute_result"
    }
   ],
   "source": [
    "# Columna  Dirección\n",
    "direccion = df_n['Dirección'].unique()\n",
    "print(type(direccion))\n",
    "print(len(direccion))\n",
    "direccion\n"
   ]
  },
  {
   "cell_type": "code",
   "execution_count": 16,
   "id": "e1030055",
   "metadata": {},
   "outputs": [
    {
     "data": {
      "text/plain": [
       "0"
      ]
     },
     "execution_count": 16,
     "metadata": {},
     "output_type": "execute_result"
    }
   ],
   "source": [
    "# Nulos dirección\n",
    "nulos_cp = df_n['Dirección'].isnull().sum()\n",
    "nulos_cp"
   ]
  },
  {
   "cell_type": "markdown",
   "id": "b540d156",
   "metadata": {},
   "source": [
    "# Horario"
   ]
  },
  {
   "cell_type": "code",
   "execution_count": 17,
   "id": "d951b048",
   "metadata": {},
   "outputs": [
    {
     "data": {
      "text/plain": [
       "array(['L-D: 07:00-22:00', 'L-S: 08:00-22:00; D: 09:00-21:00',\n",
       "       'L-D: 06:00-21:30', ..., 'L-V: 06:00-21:00; S-D: 08:00-15:00',\n",
       "       'L-V: 08:00-22:30; S: 10:00-22:30',\n",
       "       'L-V: 05:00-22:00; S-D: 08:00-22:00'], dtype=object)"
      ]
     },
     "execution_count": 17,
     "metadata": {},
     "output_type": "execute_result"
    }
   ],
   "source": [
    "# Horario\n",
    "horario = df_n['Horario'].unique()\n",
    "horario"
   ]
  },
  {
   "cell_type": "code",
   "execution_count": 18,
   "id": "6cb34506",
   "metadata": {},
   "outputs": [
    {
     "data": {
      "text/plain": [
       "0"
      ]
     },
     "execution_count": 18,
     "metadata": {},
     "output_type": "execute_result"
    }
   ],
   "source": [
    "# Nulos horario\n",
    "nulos_h = df_n['Horario'].isnull().sum()\n",
    "nulos_h"
   ]
  },
  {
   "cell_type": "markdown",
   "id": "129d07e9",
   "metadata": {},
   "source": [
    "# Latitud"
   ]
  },
  {
   "cell_type": "code",
   "execution_count": 19,
   "id": "aa9399ed",
   "metadata": {},
   "outputs": [
    {
     "name": "stdout",
     "output_type": "stream",
     "text": [
      "11526\n"
     ]
    },
    {
     "data": {
      "text/plain": [
       "array(['39,211417', '38,985667', '39,054694', ..., '41,857000',\n",
       "       '41,883583', '41,938750'], dtype=object)"
      ]
     },
     "execution_count": 19,
     "metadata": {},
     "output_type": "execute_result"
    }
   ],
   "source": [
    "#Latitud (Coincide Latitud y Longitud con las coordenadas en las gasolineras de Google Maps)\n",
    "latitud = df_n['Latitud'].unique()\n",
    "print(len(latitud ))\n",
    "latitud\n"
   ]
  },
  {
   "cell_type": "code",
   "execution_count": 20,
   "id": "b12f974a",
   "metadata": {},
   "outputs": [
    {
     "data": {
      "text/plain": [
       "0"
      ]
     },
     "execution_count": 20,
     "metadata": {},
     "output_type": "execute_result"
    }
   ],
   "source": [
    "# Nulos Latitud\n",
    "nulos_l = df_n['Latitud'].isnull().sum()\n",
    "nulos_l"
   ]
  },
  {
   "cell_type": "markdown",
   "id": "14f71694",
   "metadata": {},
   "source": [
    "# Longitud"
   ]
  },
  {
   "cell_type": "code",
   "execution_count": 21,
   "id": "26f3092e",
   "metadata": {
    "scrolled": true
   },
   "outputs": [
    {
     "name": "stdout",
     "output_type": "stream",
     "text": [
      "11644\n"
     ]
    },
    {
     "data": {
      "text/plain": [
       "array(['-1,539167', '-1,868500', '-1,832000', ..., '-0,794000',\n",
       "       '-0,782833', '-0,757611'], dtype=object)"
      ]
     },
     "execution_count": 21,
     "metadata": {},
     "output_type": "execute_result"
    }
   ],
   "source": [
    "# Longitud (Coincide Latitud y Longitud con las coordenadas en las gasolineras de Google Maps)\n",
    "Longitud = df_n['Longitud (WGS84)'].unique()\n",
    "print(len(Longitud))\n",
    "Longitud\n"
   ]
  },
  {
   "cell_type": "code",
   "execution_count": 22,
   "id": "e018ad91",
   "metadata": {},
   "outputs": [
    {
     "data": {
      "text/plain": [
       "0"
      ]
     },
     "execution_count": 22,
     "metadata": {},
     "output_type": "execute_result"
    }
   ],
   "source": [
    "# Nulos Longitud\n",
    "nulos_long = df_n['Longitud (WGS84)'].isnull().sum()\n",
    "nulos_long"
   ]
  },
  {
   "cell_type": "markdown",
   "id": "baaa7f76",
   "metadata": {},
   "source": [
    "# Localidad"
   ]
  },
  {
   "cell_type": "code",
   "execution_count": 23,
   "id": "05337df3",
   "metadata": {},
   "outputs": [
    {
     "name": "stdout",
     "output_type": "stream",
     "text": [
      "4244\n"
     ]
    },
    {
     "data": {
      "text/plain": [
       "array(['ABENGIBRE', 'ALBACETE', 'SANTA ANA', ..., 'VILLARRAPA', 'ZUERA',\n",
       "       'ONTINAR DE SALZ'], dtype=object)"
      ]
     },
     "execution_count": 23,
     "metadata": {},
     "output_type": "execute_result"
    }
   ],
   "source": [
    "#Localidad\n",
    "Localidad = df_n['Localidad'].unique()\n",
    "print(len(Localidad))\n",
    "Localidad"
   ]
  },
  {
   "cell_type": "code",
   "execution_count": 24,
   "id": "46fae344",
   "metadata": {},
   "outputs": [
    {
     "data": {
      "text/plain": [
       "0"
      ]
     },
     "execution_count": 24,
     "metadata": {},
     "output_type": "execute_result"
    }
   ],
   "source": [
    "# Nulos Localidad\n",
    "nulos_loc = df_n['Localidad'].isnull().sum()\n",
    "nulos_loc"
   ]
  },
  {
   "cell_type": "markdown",
   "id": "8fa3baee",
   "metadata": {},
   "source": [
    "# Municipio "
   ]
  },
  {
   "cell_type": "code",
   "execution_count": 25,
   "id": "0e69e607",
   "metadata": {},
   "outputs": [
    {
     "name": "stdout",
     "output_type": "stream",
     "text": [
      "3432\n"
     ]
    },
    {
     "data": {
      "text/plain": [
       "array(['Abengibre', 'Albacete', 'Alcadozo', ...,\n",
       "       'Villarroya de la Sierra', 'Zaragoza', 'Zuera'], dtype=object)"
      ]
     },
     "execution_count": 25,
     "metadata": {},
     "output_type": "execute_result"
    }
   ],
   "source": [
    "# Municipio (En España hay 8131 Municipios)\n",
    "Municipio = df_n['Municipio'].unique() \n",
    "print(len(Municipio))\n",
    "Municipio\n",
    "\n"
   ]
  },
  {
   "cell_type": "code",
   "execution_count": 26,
   "id": "223081b3",
   "metadata": {},
   "outputs": [
    {
     "data": {
      "text/plain": [
       "0"
      ]
     },
     "execution_count": 26,
     "metadata": {},
     "output_type": "execute_result"
    }
   ],
   "source": [
    "# Nulos Municipio\n",
    "nulos_loc = df_n['Municipio'].isnull().sum()\n",
    "nulos_loc"
   ]
  },
  {
   "cell_type": "markdown",
   "id": "cc6b303b",
   "metadata": {},
   "source": [
    "# Margen"
   ]
  },
  {
   "cell_type": "code",
   "execution_count": 27,
   "id": "cf022a39",
   "metadata": {},
   "outputs": [
    {
     "name": "stdout",
     "output_type": "stream",
     "text": [
      "3\n"
     ]
    },
    {
     "data": {
      "text/plain": [
       "array(['D', 'N', 'I'], dtype=object)"
      ]
     },
     "execution_count": 27,
     "metadata": {},
     "output_type": "execute_result"
    }
   ],
   "source": [
    "# Margen\n",
    "Margen = df_n['Margen'].unique()\n",
    "print(len(Margen))\n",
    "Margen"
   ]
  },
  {
   "cell_type": "markdown",
   "id": "2d2ea3bb",
   "metadata": {},
   "source": [
    "# Provincia "
   ]
  },
  {
   "cell_type": "code",
   "execution_count": 28,
   "id": "e1fa2d5f",
   "metadata": {},
   "outputs": [
    {
     "name": "stdout",
     "output_type": "stream",
     "text": [
      "52\n"
     ]
    },
    {
     "data": {
      "text/plain": [
       "array(['ALBACETE', 'ALICANTE', 'ALMERÍA', 'ARABA/ÁLAVA', 'ASTURIAS',\n",
       "       'ÁVILA', 'BADAJOZ', 'BALEARS (ILLES)', 'BARCELONA', 'BIZKAIA',\n",
       "       'BURGOS', 'CÁCERES', 'CÁDIZ', 'CANTABRIA', 'CASTELLÓN / CASTELLÓ',\n",
       "       'CEUTA', 'CIUDAD REAL', 'CÓRDOBA', 'CORUÑA (A)', 'CUENCA',\n",
       "       'GIPUZKOA', 'GIRONA', 'GRANADA', 'GUADALAJARA', 'HUELVA', 'HUESCA',\n",
       "       'JAÉN', 'LEÓN', 'LLEIDA', 'LUGO', 'MADRID', 'MÁLAGA', 'MELILLA',\n",
       "       'MURCIA', 'NAVARRA', 'OURENSE', 'PALENCIA', 'PALMAS (LAS)',\n",
       "       'PONTEVEDRA', 'RIOJA (LA)', 'SALAMANCA', 'SANTA CRUZ DE TENERIFE',\n",
       "       'SEGOVIA', 'SEVILLA', 'SORIA', 'TARRAGONA', 'TERUEL', 'TOLEDO',\n",
       "       'VALENCIA / VALÈNCIA', 'VALLADOLID', 'ZAMORA', 'ZARAGOZA'],\n",
       "      dtype=object)"
      ]
     },
     "execution_count": 28,
     "metadata": {},
     "output_type": "execute_result"
    }
   ],
   "source": [
    "# Provincia (Están todas las Provinicas de España en nuestro df)\n",
    "Provincia = df_n['Provincia'].unique()\n",
    "print(len(Provincia))\n",
    "Provincia"
   ]
  },
  {
   "cell_type": "code",
   "execution_count": 29,
   "id": "b27108a2",
   "metadata": {},
   "outputs": [
    {
     "data": {
      "text/plain": [
       "0"
      ]
     },
     "execution_count": 29,
     "metadata": {},
     "output_type": "execute_result"
    }
   ],
   "source": [
    "# Nulos Provincia\n",
    "nulos_prov = df_n['Provincia'].isnull().sum()\n",
    "nulos_prov"
   ]
  },
  {
   "cell_type": "markdown",
   "id": "722a58a1",
   "metadata": {},
   "source": [
    "# Remision"
   ]
  },
  {
   "cell_type": "code",
   "execution_count": 30,
   "id": "78c3b1c9",
   "metadata": {},
   "outputs": [
    {
     "name": "stdout",
     "output_type": "stream",
     "text": [
      "2\n",
      "<class 'numpy.ndarray'>\n"
     ]
    },
    {
     "data": {
      "text/plain": [
       "array(['dm', 'OM'], dtype=object)"
      ]
     },
     "execution_count": 30,
     "metadata": {},
     "output_type": "execute_result"
    }
   ],
   "source": [
    "# Remisión (Sistema de envío de información de precios y de ventas a través de API)\n",
    "Remision = df_n['Remisión'].unique()\n",
    "print(len(Remision))\n",
    "print(type(Remision))\n",
    "Remision"
   ]
  },
  {
   "cell_type": "markdown",
   "id": "cc886f49",
   "metadata": {},
   "source": [
    "# Rótulo"
   ]
  },
  {
   "cell_type": "code",
   "execution_count": 31,
   "id": "8157f57d",
   "metadata": {},
   "outputs": [
    {
     "name": "stdout",
     "output_type": "stream",
     "text": [
      "4056\n",
      "<class 'numpy.ndarray'>\n"
     ]
    },
    {
     "data": {
      "text/plain": [
       "array(['Nº 10.935', 'CARREFOUR', 'BP ROMICA', ..., 'DAGO',\n",
       "       'COOPERATIVA SAN LAMBERTO', 'AN ENERGETICOS ZUERA'], dtype=object)"
      ]
     },
     "execution_count": 31,
     "metadata": {},
     "output_type": "execute_result"
    }
   ],
   "source": [
    "# Rótulo (En España hay 3952 marcas de Gasolineras en España según datos de Google)\n",
    "Rotulo = df_n['Rótulo'].unique()\n",
    "print(len(Rotulo))\n",
    "print(type(Rotulo))\n",
    "Rotulo\n"
   ]
  },
  {
   "cell_type": "markdown",
   "id": "676ec408",
   "metadata": {},
   "source": [
    "# Tipo de Venta"
   ]
  },
  {
   "cell_type": "code",
   "execution_count": 32,
   "id": "7b2d09eb",
   "metadata": {},
   "outputs": [
    {
     "name": "stdout",
     "output_type": "stream",
     "text": [
      "2\n",
      "<class 'numpy.ndarray'>\n"
     ]
    },
    {
     "data": {
      "text/plain": [
       "array(['P', 'R'], dtype=object)"
      ]
     },
     "execution_count": 32,
     "metadata": {},
     "output_type": "execute_result"
    }
   ],
   "source": [
    "# Tipo Venta\n",
    "tv = df_n['Tipo Venta'].unique()\n",
    "print(len(tv))\n",
    "print(type(tv))\n",
    "tv"
   ]
  },
  {
   "cell_type": "markdown",
   "id": "7aad165f",
   "metadata": {},
   "source": [
    "# Porcentaje de Bioetanol"
   ]
  },
  {
   "cell_type": "code",
   "execution_count": 33,
   "id": "95e6e4b0",
   "metadata": {},
   "outputs": [
    {
     "name": "stdout",
     "output_type": "stream",
     "text": [
      "3\n",
      "<class 'numpy.ndarray'>\n"
     ]
    },
    {
     "data": {
      "text/plain": [
       "array(['0,0', '25,0', '85,0'], dtype=object)"
      ]
     },
     "execution_count": 33,
     "metadata": {},
     "output_type": "execute_result"
    }
   ],
   "source": [
    "# % BioEtanol (La diferencia entre gasolinas E5 o E10 significan el porcentaje de Etanol (5 o 10%))\n",
    "bioetanol = df_n['% BioEtanol'].unique()\n",
    "print(len(bioetanol))\n",
    "print(type(bioetanol))\n",
    "bioetanol"
   ]
  },
  {
   "cell_type": "markdown",
   "id": "54c7afc2",
   "metadata": {},
   "source": [
    "# Porcentaje de Éster Metílico"
   ]
  },
  {
   "cell_type": "code",
   "execution_count": 34,
   "id": "19aff9d9",
   "metadata": {},
   "outputs": [
    {
     "name": "stdout",
     "output_type": "stream",
     "text": [
      "6\n",
      "<class 'numpy.ndarray'>\n"
     ]
    },
    {
     "data": {
      "text/plain": [
       "array(['0,0', '7,0', '12,0', '20,0', '30,0', '10,0'], dtype=object)"
      ]
     },
     "execution_count": 34,
     "metadata": {},
     "output_type": "execute_result"
    }
   ],
   "source": [
    "# % Éster metílico (solo para Biodiesel)\n",
    "em = df_n['% Éster metílico'].unique()\n",
    "print(len(em))\n",
    "print(type(em))\n",
    "em"
   ]
  },
  {
   "cell_type": "markdown",
   "id": "e1bfb0ff",
   "metadata": {},
   "source": [
    "#  IDEESS"
   ]
  },
  {
   "cell_type": "code",
   "execution_count": 35,
   "id": "1bcc7c30",
   "metadata": {},
   "outputs": [
    {
     "name": "stdout",
     "output_type": "stream",
     "text": [
      "11891\n"
     ]
    },
    {
     "data": {
      "text/plain": [
       "array(['4375', '10765', '12054', ..., '1452', '9085', '9068'],\n",
       "      dtype=object)"
      ]
     },
     "execution_count": 35,
     "metadata": {},
     "output_type": "execute_result"
    }
   ],
   "source": [
    "# IDEESS (ID Estación de Servicio, los mismos que estaciones (filas))\n",
    "IDEESS = df_n['IDEESS'].unique()\n",
    "print(len(IDEESS))\n",
    "type(IDEESS)\n",
    "IDEESS "
   ]
  },
  {
   "cell_type": "code",
   "execution_count": 36,
   "id": "89c026f2",
   "metadata": {},
   "outputs": [
    {
     "data": {
      "text/plain": [
       "0"
      ]
     },
     "execution_count": 36,
     "metadata": {},
     "output_type": "execute_result"
    }
   ],
   "source": [
    "# Nulos IDEESS\n",
    "nulos_IDEESS = df_n['IDEESS'].isnull().sum()\n",
    "nulos_IDEESS"
   ]
  },
  {
   "cell_type": "markdown",
   "id": "48e885d2",
   "metadata": {},
   "source": [
    "# ID Municipio"
   ]
  },
  {
   "cell_type": "code",
   "execution_count": 37,
   "id": "7dc3d12d",
   "metadata": {},
   "outputs": [
    {
     "name": "stdout",
     "output_type": "stream",
     "text": [
      "3433\n"
     ]
    },
    {
     "data": {
      "text/plain": [
       "array(['52', '54', '57', ..., '8103', '8108', '8109'], dtype=object)"
      ]
     },
     "execution_count": 37,
     "metadata": {},
     "output_type": "execute_result"
    }
   ],
   "source": [
    "# IDMunicipio (un ID más que municipios)\n",
    "idmun = df_n['IDMunicipio'].unique()\n",
    "print(len(idmun))\n",
    "type(idmun)\n",
    "idmun"
   ]
  },
  {
   "cell_type": "code",
   "execution_count": 38,
   "id": "c857c488",
   "metadata": {},
   "outputs": [
    {
     "data": {
      "text/plain": [
       "0"
      ]
     },
     "execution_count": 38,
     "metadata": {},
     "output_type": "execute_result"
    }
   ],
   "source": [
    "# Nulos ID Municipio\n",
    "nulos_IDMunicipio = df_n['IDMunicipio'].isnull().sum()\n",
    "nulos_IDMunicipio"
   ]
  },
  {
   "cell_type": "markdown",
   "id": "6568aaff",
   "metadata": {},
   "source": [
    "# ID Provincia"
   ]
  },
  {
   "cell_type": "code",
   "execution_count": 39,
   "id": "896e7bf1",
   "metadata": {},
   "outputs": [
    {
     "name": "stdout",
     "output_type": "stream",
     "text": [
      "52\n"
     ]
    },
    {
     "data": {
      "text/plain": [
       "array(['02', '03', '04', '01', '33', '05', '06', '07', '08', '48', '09',\n",
       "       '10', '11', '39', '12', '51', '13', '14', '15', '16', '20', '17',\n",
       "       '18', '19', '21', '22', '23', '24', '25', '27', '28', '29', '52',\n",
       "       '30', '31', '32', '34', '35', '36', '26', '37', '38', '40', '41',\n",
       "       '42', '43', '44', '45', '46', '47', '49', '50'], dtype=object)"
      ]
     },
     "execution_count": 39,
     "metadata": {},
     "output_type": "execute_result"
    }
   ],
   "source": [
    "# IDProvincia (Los mismos ID que Provincias)\n",
    "idprov = df_n['IDProvincia'].unique()\n",
    "print(len(idprov))\n",
    "type(idprov)\n",
    "idprov"
   ]
  },
  {
   "cell_type": "code",
   "execution_count": 40,
   "id": "0383161f",
   "metadata": {},
   "outputs": [
    {
     "data": {
      "text/plain": [
       "0"
      ]
     },
     "execution_count": 40,
     "metadata": {},
     "output_type": "execute_result"
    }
   ],
   "source": [
    "nulos_IDProvincia = df_n['IDProvincia'].isnull().sum()\n",
    "nulos_IDProvincia"
   ]
  },
  {
   "cell_type": "markdown",
   "id": "f0203c4c",
   "metadata": {},
   "source": [
    "# ID CCAA"
   ]
  },
  {
   "cell_type": "code",
   "execution_count": 41,
   "id": "cc731089",
   "metadata": {},
   "outputs": [
    {
     "name": "stdout",
     "output_type": "stream",
     "text": [
      "19\n"
     ]
    },
    {
     "data": {
      "text/plain": [
       "array(['07', '10', '01', '16', '03', '08', '11', '04', '09', '06', '18',\n",
       "       '12', '02', '13', '19', '14', '15', '05', '17'], dtype=object)"
      ]
     },
     "execution_count": 41,
     "metadata": {},
     "output_type": "execute_result"
    }
   ],
   "source": [
    "# IDCCAA (ID Comunidades Autónomas, 17 CCAA + Ceuta + Melilla)\n",
    "# IDProvincia (Los mismos ID que Provincias)\n",
    "idccaa = df_n['IDCCAA'].unique()\n",
    "print(len(idccaa))\n",
    "type(idccaa)\n",
    "idccaa"
   ]
  },
  {
   "cell_type": "markdown",
   "id": "4cf497b1",
   "metadata": {},
   "source": [
    "                                                Columnas Numéricas\n",
    "                                                "
   ]
  },
  {
   "cell_type": "markdown",
   "id": "cd72e5ad",
   "metadata": {},
   "source": [
    "# Biodiesel"
   ]
  },
  {
   "cell_type": "code",
   "execution_count": 42,
   "id": "01c87a0e",
   "metadata": {},
   "outputs": [
    {
     "name": "stdout",
     "output_type": "stream",
     "text": [
      "23\n",
      "<class 'numpy.ndarray'>\n"
     ]
    },
    {
     "data": {
      "text/plain": [
       "array(['', '1,299', '1,999', '1,579', '1,459', '1,269', '1,329', '1,249',\n",
       "       '1,349', '1,449', '1,438', '1,359', '1,524', '1,569', '1,489',\n",
       "       '1,869', '1,399', '1,774', '1,669', '1,470', '1,279', '1,339',\n",
       "       '1,199'], dtype=object)"
      ]
     },
     "execution_count": 42,
     "metadata": {},
     "output_type": "execute_result"
    }
   ],
   "source": [
    "Biodiesel = df_n['Precio Biodiesel'].unique()\n",
    "print(len(Biodiesel))\n",
    "print(type(Biodiesel))\n",
    "Biodiesel"
   ]
  },
  {
   "cell_type": "code",
   "execution_count": 43,
   "id": "c1172885",
   "metadata": {},
   "outputs": [],
   "source": [
    "# Convertimos columna categórica a numérica\n",
    "df_n['Precio Biodiesel']=df_n['Precio Biodiesel'].str.replace(',','.')\n",
    "df_n[['Precio Biodiesel']]=df_n[['Precio Biodiesel']].apply(pd.to_numeric)"
   ]
  },
  {
   "cell_type": "code",
   "execution_count": 44,
   "id": "3ba01c1b",
   "metadata": {},
   "outputs": [
    {
     "data": {
      "text/plain": [
       "count    35.000000\n",
       "mean      1.416143\n",
       "std       0.181191\n",
       "min       1.199000\n",
       "25%       1.299000\n",
       "50%       1.349000\n",
       "75%       1.479500\n",
       "max       1.999000\n",
       "Name: Precio Biodiesel, dtype: float64"
      ]
     },
     "execution_count": 44,
     "metadata": {},
     "output_type": "execute_result"
    }
   ],
   "source": [
    "df_n['Precio Biodiesel'].describe()\n"
   ]
  },
  {
   "cell_type": "code",
   "execution_count": 45,
   "id": "0b00d7af",
   "metadata": {},
   "outputs": [
    {
     "data": {
      "text/plain": [
       "11856"
      ]
     },
     "execution_count": 45,
     "metadata": {},
     "output_type": "execute_result"
    }
   ],
   "source": [
    "# Registros sin venta Biodiesel\n",
    "sin_suministro_b = df_n['Precio Biodiesel'].isnull().sum()\n",
    "sin_suministro_b"
   ]
  },
  {
   "cell_type": "markdown",
   "id": "fd2b4066",
   "metadata": {},
   "source": [
    "## Precio Bioetanol "
   ]
  },
  {
   "cell_type": "code",
   "execution_count": 46,
   "id": "edbcaac9",
   "metadata": {},
   "outputs": [
    {
     "name": "stdout",
     "output_type": "stream",
     "text": [
      "6\n",
      "<class 'numpy.ndarray'>\n"
     ]
    },
    {
     "data": {
      "text/plain": [
       "array(['', '1,999', '1,862', '1,487', '2,499', '1,739'], dtype=object)"
      ]
     },
     "execution_count": 46,
     "metadata": {},
     "output_type": "execute_result"
    }
   ],
   "source": [
    "Bioetanol = df_n['Precio Bioetanol'].unique()\n",
    "print(len(Bioetanol))\n",
    "print(type(Bioetanol))\n",
    "Bioetanol"
   ]
  },
  {
   "cell_type": "code",
   "execution_count": 47,
   "id": "3f6be22e",
   "metadata": {},
   "outputs": [],
   "source": [
    "# Convertimos columna categórica a numérica\n",
    "df_n['Precio Bioetanol']=df_n['Precio Bioetanol'].str.replace(',','.')\n",
    "df_n[['Precio Bioetanol']]=df_n[['Precio Bioetanol']].apply(pd.to_numeric)"
   ]
  },
  {
   "cell_type": "code",
   "execution_count": 48,
   "id": "336b94fa",
   "metadata": {},
   "outputs": [
    {
     "data": {
      "text/plain": [
       "count    5.000000\n",
       "mean     1.917200\n",
       "std      0.375851\n",
       "min      1.487000\n",
       "25%      1.739000\n",
       "50%      1.862000\n",
       "75%      1.999000\n",
       "max      2.499000\n",
       "Name: Precio Bioetanol, dtype: float64"
      ]
     },
     "execution_count": 48,
     "metadata": {},
     "output_type": "execute_result"
    }
   ],
   "source": [
    "df_n['Precio Bioetanol'].describe()"
   ]
  },
  {
   "cell_type": "code",
   "execution_count": 49,
   "id": "8614e236",
   "metadata": {},
   "outputs": [
    {
     "data": {
      "text/plain": [
       "11886"
      ]
     },
     "execution_count": 49,
     "metadata": {},
     "output_type": "execute_result"
    }
   ],
   "source": [
    "# Registros sin venta Biodiesel\n",
    "sin_suministro_be = df_n['Precio Bioetanol'].isnull().sum()\n",
    "sin_suministro_be"
   ]
  },
  {
   "cell_type": "markdown",
   "id": "de4c6c51",
   "metadata": {},
   "source": [
    "## Precio Gas Natural Comprimido"
   ]
  },
  {
   "cell_type": "code",
   "execution_count": 50,
   "id": "b2824198",
   "metadata": {},
   "outputs": [
    {
     "name": "stdout",
     "output_type": "stream",
     "text": [
      "31\n",
      "<class 'numpy.ndarray'>\n"
     ]
    },
    {
     "data": {
      "text/plain": [
       "array(['', '1,239', '1,079', '1,189', '1,019', '1,210', '1,300', '1,220',\n",
       "       '1,099', '1,069', '1,064', '1,199', '1,128', '1,179', '1,565',\n",
       "       '1,249', '1,245', '1,169', '1,219', '1,259', '1,204', '1,399',\n",
       "       '1,119', '1,229', '1,109', '1,118', '1,029', '1,235', '1,230',\n",
       "       '1,937', '1,139'], dtype=object)"
      ]
     },
     "execution_count": 50,
     "metadata": {},
     "output_type": "execute_result"
    }
   ],
   "source": [
    "Gas_n_c = df_n['Precio Gas Natural Comprimido'].unique()\n",
    "print(len(Gas_n_c))\n",
    "print(type(Gas_n_c))\n",
    "Gas_n_c"
   ]
  },
  {
   "cell_type": "code",
   "execution_count": 51,
   "id": "1ac50945",
   "metadata": {},
   "outputs": [],
   "source": [
    "# Convertimos columna categórica a numérica\n",
    "df_n['Precio Gas Natural Comprimido']=df_n['Precio Gas Natural Comprimido'].str.replace(',','.')\n",
    "df_n[['Precio Gas Natural Comprimido']]=df_n[['Precio Gas Natural Comprimido']].apply(pd.to_numeric)"
   ]
  },
  {
   "cell_type": "code",
   "execution_count": 52,
   "id": "1f65143d",
   "metadata": {},
   "outputs": [
    {
     "data": {
      "text/plain": [
       "count    139.000000\n",
       "mean       1.189173\n",
       "std        0.122337\n",
       "min        1.019000\n",
       "25%        1.079000\n",
       "50%        1.210000\n",
       "75%        1.239000\n",
       "max        1.937000\n",
       "Name: Precio Gas Natural Comprimido, dtype: float64"
      ]
     },
     "execution_count": 52,
     "metadata": {},
     "output_type": "execute_result"
    }
   ],
   "source": [
    "df_n['Precio Gas Natural Comprimido'].describe()"
   ]
  },
  {
   "cell_type": "code",
   "execution_count": 53,
   "id": "e7a5a486",
   "metadata": {},
   "outputs": [
    {
     "data": {
      "text/plain": [
       "11886"
      ]
     },
     "execution_count": 53,
     "metadata": {},
     "output_type": "execute_result"
    }
   ],
   "source": [
    "# Registros sin venta Biodiesel\n",
    "sin_suministro_be = df_n['Precio Bioetanol'].isnull().sum()\n",
    "sin_suministro_be"
   ]
  },
  {
   "cell_type": "markdown",
   "id": "33ddd76e",
   "metadata": {},
   "source": [
    "# Precio Gas Natural Licuado"
   ]
  },
  {
   "cell_type": "code",
   "execution_count": 54,
   "id": "d5685b8d",
   "metadata": {},
   "outputs": [
    {
     "name": "stdout",
     "output_type": "stream",
     "text": [
      "17\n",
      "<class 'numpy.ndarray'>\n"
     ]
    },
    {
     "data": {
      "text/plain": [
       "array(['', '1,077', '1,019', '1,119', '1,565', '1,150', '1,069', '1,004',\n",
       "       '1,180', '1,109', '0,999', '1,219', '1,079', '1,009', '1,030',\n",
       "       '1,039', '0,989'], dtype=object)"
      ]
     },
     "execution_count": 54,
     "metadata": {},
     "output_type": "execute_result"
    }
   ],
   "source": [
    "Gas_nat_lic = df_n['Precio Gas Natural Licuado'].unique()\n",
    "print(len(Gas_nat_lic))\n",
    "print(type(Gas_nat_lic))\n",
    "Gas_nat_lic"
   ]
  },
  {
   "cell_type": "code",
   "execution_count": 55,
   "id": "90f17335",
   "metadata": {},
   "outputs": [],
   "source": [
    "# Convertimos columna categórica a numérica, primero tenemos que sustituir , por .\n",
    "df_n['Precio Gas Natural Licuado']=df_n['Precio Gas Natural Licuado'].str.replace(',','.')\n",
    "df_n[['Precio Gas Natural Licuado']]=df_n[['Precio Gas Natural Licuado']].apply(pd.to_numeric)"
   ]
  },
  {
   "cell_type": "code",
   "execution_count": 56,
   "id": "7b35df2f",
   "metadata": {},
   "outputs": [
    {
     "data": {
      "text/plain": [
       "count    90.000000\n",
       "mean      1.109956\n",
       "std       0.176349\n",
       "min       0.989000\n",
       "25%       1.019000\n",
       "50%       1.019000\n",
       "75%       1.101500\n",
       "max       1.565000\n",
       "Name: Precio Gas Natural Licuado, dtype: float64"
      ]
     },
     "execution_count": 56,
     "metadata": {},
     "output_type": "execute_result"
    }
   ],
   "source": [
    "df_n['Precio Gas Natural Licuado'].describe()"
   ]
  },
  {
   "cell_type": "code",
   "execution_count": 57,
   "id": "0eca734e",
   "metadata": {},
   "outputs": [
    {
     "data": {
      "text/plain": [
       "11801"
      ]
     },
     "execution_count": 57,
     "metadata": {},
     "output_type": "execute_result"
    }
   ],
   "source": [
    "# Registros sin venta Gas NAtural Licuado\n",
    "sin_suministro_gnl = df_n['Precio Gas Natural Licuado'].isnull().sum()\n",
    "sin_suministro_gnl"
   ]
  },
  {
   "cell_type": "markdown",
   "id": "ba2199ad",
   "metadata": {},
   "source": [
    "# Precio Gases licuados del petróleo"
   ]
  },
  {
   "cell_type": "code",
   "execution_count": 58,
   "id": "bdff2425",
   "metadata": {},
   "outputs": [
    {
     "name": "stdout",
     "output_type": "stream",
     "text": [
      "105\n",
      "<class 'numpy.ndarray'>\n"
     ]
    },
    {
     "data": {
      "text/plain": [
       "array(['', '0,905', '0,818', '0,939', '0,929', '0,959', '0,949', '0,927',\n",
       "       '1,099', '1,000', '0,969', '0,943', '1,009', '0,899', '0,800',\n",
       "       '0,925', '0,968', '1,019', '1,038', '0,920', '1,029', '1,100',\n",
       "       '0,990', '1,069', '0,979', '1,039', '0,900', '0,999', '0,895',\n",
       "       '0,945', '0,915', '0,889', '0,879', '0,885', '0,919', '0,909',\n",
       "       '0,944', '0,868', '0,805', '0,869', '0,998', '0,849', '0,859',\n",
       "       '0,989', '1,049', '0,937', '0,930', '0,935', '0,958', '0,985',\n",
       "       '0,755', '0,878', '0,955', '0,570', '0,978', '1,059', '0,819',\n",
       "       '0,799', '0,730', '0,936', '0,928', '0,759', '0,874', '0,950',\n",
       "       '0,947', '1,150', '0,839', '1,129', '0,995', '0,865', '1,070',\n",
       "       '1,060', '1,169', '1,160', '0,709', '0,963', '0,960', '0,729',\n",
       "       '0,867', '0,970', '0,977', '1,017', '1,015', '0,938', '0,948',\n",
       "       '1,109', '0,779', '0,782', '0,789', '0,749', '0,765', '0,784',\n",
       "       '0,829', '0,848', '0,916', '0,997', '0,980', '0,974', '0,954',\n",
       "       '0,820', '1,079', '0,860', '0,840', '0,908', '0,957'], dtype=object)"
      ]
     },
     "execution_count": 58,
     "metadata": {},
     "output_type": "execute_result"
    }
   ],
   "source": [
    "Gas_nat_lic_pet = df_n['Precio Gases licuados del petróleo'].unique()\n",
    "print(len(Gas_nat_lic_pet))\n",
    "print(type(Gas_nat_lic_pet))\n",
    "Gas_nat_lic_pet"
   ]
  },
  {
   "cell_type": "code",
   "execution_count": 59,
   "id": "94e05d01",
   "metadata": {},
   "outputs": [],
   "source": [
    "# Convertimos columna categórica a numérica\n",
    "df_n['Precio Gases licuados del petróleo']=df_n['Precio Gases licuados del petróleo'].str.replace(',','.')\n",
    "df_n[['Precio Gases licuados del petróleo']]=df_n[['Precio Gases licuados del petróleo']].apply(pd.to_numeric)"
   ]
  },
  {
   "cell_type": "code",
   "execution_count": 60,
   "id": "43ae8314",
   "metadata": {},
   "outputs": [
    {
     "data": {
      "text/plain": [
       "count    870.000000\n",
       "mean       0.939277\n",
       "std        0.062313\n",
       "min        0.570000\n",
       "25%        0.909000\n",
       "50%        0.939000\n",
       "75%        0.969000\n",
       "max        1.169000\n",
       "Name: Precio Gases licuados del petróleo, dtype: float64"
      ]
     },
     "execution_count": 60,
     "metadata": {},
     "output_type": "execute_result"
    }
   ],
   "source": [
    "df_n['Precio Gases licuados del petróleo'].describe()"
   ]
  },
  {
   "cell_type": "code",
   "execution_count": 61,
   "id": "f39d6004",
   "metadata": {},
   "outputs": [
    {
     "data": {
      "text/plain": [
       "11021"
      ]
     },
     "execution_count": 61,
     "metadata": {},
     "output_type": "execute_result"
    }
   ],
   "source": [
    "# Registros sin venta Gas NAtural Licuado del Petróleo\n",
    "sin_suministro_gnlp = df_n['Precio Gases licuados del petróleo'].isnull().sum()\n",
    "sin_suministro_gnlp"
   ]
  },
  {
   "cell_type": "code",
   "execution_count": 62,
   "id": "0a616a04",
   "metadata": {},
   "outputs": [
    {
     "data": {
      "text/plain": [
       "0"
      ]
     },
     "execution_count": 62,
     "metadata": {},
     "output_type": "execute_result"
    }
   ],
   "source": [
    "ceros_sin_suministro_gnlp = (df_n['Precio Gases licuados del petróleo'] == 0).sum()\n",
    "ceros_sin_suministro_gnlp"
   ]
  },
  {
   "cell_type": "markdown",
   "id": "579f7966",
   "metadata": {},
   "source": [
    "# Gasoleo A"
   ]
  },
  {
   "cell_type": "code",
   "execution_count": 63,
   "id": "b84c8a71",
   "metadata": {},
   "outputs": [
    {
     "name": "stdout",
     "output_type": "stream",
     "text": [
      "425\n",
      "<class 'numpy.ndarray'>\n"
     ]
    },
    {
     "data": {
      "text/plain": [
       "array(['1,379', '1,439', '1,480', '1,289', '1,449', '1,328', '1,459',\n",
       "       '1,359', '1,429', '1,369', '1,339', '1,479', '1,409', '1,519', '',\n",
       "       '1,414', '1,319', '1,329', '1,279', '2,259', '1,399', '1,355',\n",
       "       '1,350', '1,415', '1,569', '1,419', '1,469', '1,489', '1,349',\n",
       "       '1,474', '1,455', '1,320', '1,509', '1,364', '1,330', '1,389',\n",
       "       '1,365', '1,348', '1,447', '1,499', '1,335', '1,299', '1,270',\n",
       "       '1,679', '1,410', '1,549', '1,220', '1,255', '1,353', '1,315',\n",
       "       '1,694', '1,465', '1,285', '1,297', '1,394', '1,316', '1,259',\n",
       "       '1,445', '1,317', '1,404', '1,323', '1,411', '1,450', '1,269',\n",
       "       '1,373', '1,408', '1,518', '1,387', '1,366', '1,333', '1,412',\n",
       "       '1,284', '1,325', '1,398', '1,393', '1,428', '1,311', '1,374',\n",
       "       '1,309', '1,440', '1,669', '1,384', '1,448', '1,340', '1,304',\n",
       "       '1,318', '1,435', '1,444', '1,334', '1,345', '1,295', '1,301',\n",
       "       '1,294', '1,599', '1,377', '1,388', '1,485', '1,288', '1,237',\n",
       "       '1,250', '1,298', '1,500', '1,219', '1,247', '1,248', '1,495',\n",
       "       '1,424', '1,517', '1,280', '1,539', '1,367', '1,217', '1,290',\n",
       "       '1,218', '1,225', '1,264', '1,256', '1,437', '1,221', '1,286',\n",
       "       '1,458', '1,559', '1,337', '1,999', '1,438', '1,426', '1,300',\n",
       "       '1,649', '1,522', '1,400', '1,360', '1,529', '1,395', '1,249',\n",
       "       '1,488', '1,454', '1,478', '1,305', '1,368', '1,464', '1,515',\n",
       "       '1,308', '1,212', '2,000', '1,357', '1,505', '1,520', '1,346',\n",
       "       '1,199', '1,201', '1,498', '1,385', '1,243', '1,504', '1,507',\n",
       "       '1,550', '1,548', '1,510', '1,525', '1,380', '1,312', '1,579',\n",
       "       '1,475', '1,260', '1,470', '1,420', '1,239', '1,189', '1,303',\n",
       "       '1,610', '1,344', '1,425', '1,406', '1,441', '1,291', '1,314',\n",
       "       '1,278', '1,229', '1,230', '1,468', '1,476', '1,526', '1,615',\n",
       "       '1,535', '1,554', '1,508', '1,484', '1,494', '1,473', '1,322',\n",
       "       '1,282', '1,403', '1,378', '1,418', '1,336', '1,390', '1,462',\n",
       "       '1,338', '1,302', '1,332', '1,324', '1,283', '1,214', '1,069',\n",
       "       '1,416', '1,292', '1,275', '1,434', '1,274', '1,262', '1,405',\n",
       "       '1,375', '1,427', '1,287', '1,397', '1,277', '1,544', '1,370',\n",
       "       '1,358', '1,490', '1,790', '1,376', '1,442', '1,310', '1,417',\n",
       "       '1,236', '1,240', '1,383', '1,530', '1,343', '1,542', '1,396',\n",
       "       '1,629', '1,431', '1,307', '1,583', '1,266', '1,460', '1,467',\n",
       "       '1,497', '1,472', '1,293', '1,636', '1,185', '1,165', '1,184',\n",
       "       '1,639', '1,709', '1,689', '1,327', '1,040', '1,775', '1,546',\n",
       "       '1,263', '1,556', '1,819', '1,363', '1,064', '1,487', '1,174',\n",
       "       '1,558', '1,347', '1,276', '1,258', '1,493', '1,430', '1,356',\n",
       "       '1,730', '1,271', '1,235', '1,471', '1,453', '1,246', '1,392',\n",
       "       '1,597', '1,452', '1,423', '1,457', '1,341', '1,477', '1,446',\n",
       "       '1,354', '1,780', '1,899', '1,273', '1,950', '1,609', '1,267',\n",
       "       '1,331', '1,422', '1,578', '1,371', '1,506', '1,361', '1,407',\n",
       "       '1,800', '1,245', '1,619', '1,523', '1,381', '1,321', '1,695',\n",
       "       '1,589', '1,253', '1,306', '1,234', '1,198', '1,272', '1,524',\n",
       "       '1,268', '1,233', '1,463', '1,570', '1,595', '1,202', '1,210',\n",
       "       '1,600', '1,351', '1,443', '1,241', '1,421', '1,635', '1,372',\n",
       "       '1,432', '1,296', '1,391', '1,521', '1,555', '1,502', '1,456',\n",
       "       '1,561', '1,483', '1,265', '1,492', '1,200', '1,565', '1,496',\n",
       "       '1,528', '1,382', '1,281', '1,503', '1,436', '1,094', '1,055',\n",
       "       '1,054', '1,095', '1,089', '1,105', '1,172', '1,244', '1,128',\n",
       "       '1,141', '1,257', '1,180', '1,072', '1,461', '1,581', '1,514',\n",
       "       '1,572', '1,254', '1,224', '1,169', '1,085', '1,179', '1,401',\n",
       "       '1,313', '1,149', '1,099', '1,070', '1,130', '1,242', '1,142',\n",
       "       '1,117', '1,127', '1,158', '1,204', '1,129', '1,159', '1,109',\n",
       "       '1,207', '1,197', '1,413', '1,227', '1,211', '1,120', '1,209',\n",
       "       '1,188', '1,208', '1,252', '1,148', '1,261', '1,177', '1,154',\n",
       "       '1,215', '1,231', '1,195', '1,205', '1,191', '1,238', '1,187',\n",
       "       '1,118', '1,088', '1,213', '1,178', '1,090', '1,223', '1,251',\n",
       "       '1,451', '1,362', '1,511', '1,545', '1,659', '1,342', '1,590',\n",
       "       '1,326', '1,750', '1,228', '1,538', '1,537', '2,150', '1,386',\n",
       "       '1,949', '1,486', '1,799', '1,352'], dtype=object)"
      ]
     },
     "execution_count": 63,
     "metadata": {},
     "output_type": "execute_result"
    }
   ],
   "source": [
    "Gasoleo_A = df_n['Precio Gasoleo A'].unique()\n",
    "print(len(Gasoleo_A))\n",
    "print(type(Gasoleo_A))\n",
    "Gasoleo_A"
   ]
  },
  {
   "cell_type": "code",
   "execution_count": 64,
   "id": "03079146",
   "metadata": {},
   "outputs": [],
   "source": [
    "# Convertimos columna categórica a numérica, primero tenemos que sustituir , por .\n",
    "df_n['Precio Gasoleo A']=df_n['Precio Gasoleo A'].str.replace(',','.')\n",
    "df_n[['Precio Gasoleo A']]=df_n[['Precio Gasoleo A']].apply(pd.to_numeric)"
   ]
  },
  {
   "cell_type": "code",
   "execution_count": 65,
   "id": "b2093cd9",
   "metadata": {},
   "outputs": [
    {
     "data": {
      "text/plain": [
       "count    11538.000000\n",
       "mean         1.411706\n",
       "std          0.083657\n",
       "min          1.040000\n",
       "25%          1.350000\n",
       "50%          1.429000\n",
       "75%          1.469000\n",
       "max          2.259000\n",
       "Name: Precio Gasoleo A, dtype: float64"
      ]
     },
     "execution_count": 65,
     "metadata": {},
     "output_type": "execute_result"
    }
   ],
   "source": [
    "df_n['Precio Gasoleo A'].describe()\n"
   ]
  },
  {
   "cell_type": "code",
   "execution_count": 66,
   "id": "a0c57df7",
   "metadata": {},
   "outputs": [
    {
     "data": {
      "text/plain": [
       "353"
      ]
     },
     "execution_count": 66,
     "metadata": {},
     "output_type": "execute_result"
    }
   ],
   "source": [
    "# Registros sin venta Gasoleo A\n",
    "sin_suministro_gA = df_n['Precio Gasoleo A'].isnull().sum()\n",
    "sin_suministro_gA"
   ]
  },
  {
   "cell_type": "code",
   "execution_count": 67,
   "id": "2fd05b04",
   "metadata": {},
   "outputs": [
    {
     "data": {
      "text/plain": [
       "0"
      ]
     },
     "execution_count": 67,
     "metadata": {},
     "output_type": "execute_result"
    }
   ],
   "source": [
    "ceros_sin_suministro_gA = (df_n['Precio Gasoleo A'] == 0).sum()\n",
    "ceros_sin_suministro_gA"
   ]
  },
  {
   "cell_type": "markdown",
   "id": "6b8fd3b9",
   "metadata": {},
   "source": [
    "# Gasoleo B"
   ]
  },
  {
   "cell_type": "code",
   "execution_count": 68,
   "id": "90c596c9",
   "metadata": {},
   "outputs": [
    {
     "name": "stdout",
     "output_type": "stream",
     "text": [
      "425\n",
      "<class 'numpy.ndarray'>\n"
     ]
    },
    {
     "data": {
      "text/plain": [
       "array(['1,039', '', '1,166', '1,210', '1,050', '1,639', '1,359', '1,139',\n",
       "       '1,049', '1,270', '0,940', '1,177', '0,990', '1,100', '1,119',\n",
       "       '1,131', '1,104', '1,109', '1,110', '1,186', '0,980', '1,140',\n",
       "       '1,029', '1,699', '1,197', '1,115', '1,287', '1,120', '0,960',\n",
       "       '1,099', '1,005', '0,949', '1,040', '0,952', '1,102', '1,309',\n",
       "       '0,999', '1,509', '0,889', '1,399', '0,946', '1,169', '0,932',\n",
       "       '1,000', '1,118', '0,963', '1,129', '1,249', '1,147', '1,159',\n",
       "       '1,189', '1,149', '0,927', '1,319', '1,350', '1,229', '1,248',\n",
       "       '1,199', '1,209', '1,150', '1,219', '1,439', '1,299', '0,636',\n",
       "       '1,380', '1,239', '1,184', '1,300', '1,259', '1,279', '1,275',\n",
       "       '1,155', '1,257', '1,003', '1,269', '1,244', '1,205', '1,440',\n",
       "       '1,160', '1,369', '1,250', '1,063', '0,995', '1,495', '0,903',\n",
       "       '1,098', '0,913', '1,200', '1,142', '1,290', '1,154', '1,243',\n",
       "       '1,059', '1,133', '1,152', '1,179', '1,121', '1,122', '1,292',\n",
       "       '1,293', '1,125', '1,280', '1,173', '1,174', '1,419', '1,349',\n",
       "       '1,289', '1,162', '1,272', '1,158', '1,144', '1,195', '1,105',\n",
       "       '1,128', '1,043', '1,161', '1,225', '1,339', '1,157', '1,172',\n",
       "       '1,220', '1,240', '1,245', '1,390', '1,191', '0,850', '0,966',\n",
       "       '1,030', '1,145', '0,911', '1,214', '1,058', '1,288', '0,935',\n",
       "       '1,010', '1,170', '1,208', '1,090', '1,435', '0,994', '1,600',\n",
       "       '1,070', '1,060', '0,982', '0,936', '1,475', '1,079', '1,044',\n",
       "       '0,900', '0,964', '0,972', '1,062', '1,335', '1,022', '0,984',\n",
       "       '1,074', '1,180', '1,004', '1,019', '0,976', '0,981', '1,116',\n",
       "       '1,069', '1,165', '0,923', '1,198', '1,224', '0,906', '1,297',\n",
       "       '1,222', '1,392', '1,579', '1,291', '1,089', '1,084', '1,227',\n",
       "       '1,247', '1,237', '1,163', '1,041', '1,190', '1,080', '1,255',\n",
       "       '1,093', '0,939', '1,395', '1,068', '0,998', '1,185', '0,901',\n",
       "       '0,920', '1,075', '0,933', '1,114', '1,071', '1,409', '1,589',\n",
       "       '0,993', '0,970', '1,036', '1,082', '1,178', '0,988', '0,959',\n",
       "       '1,650', '1,295', '1,358', '1,038', '1,193', '1,223', '0,953',\n",
       "       '0,996', '1,171', '1,091', '0,919', '1,048', '1,141', '0,912',\n",
       "       '0,934', '1,388', '1,221', '0,950', '0,989', '0,958', '1,020',\n",
       "       '1,164', '1,047', '1,124', '1,111', '1,367', '1,113', '1,132',\n",
       "       '1,263', '0,965', '0,929', '1,138', '1,130', '0,915', '0,930',\n",
       "       '1,134', '0,979', '0,872', '0,973', '1,156', '1,258', '0,891',\n",
       "       '0,928', '1,045', '0,985', '1,135', '1,052', '1,230', '1,426',\n",
       "       '1,012', '1,329', '0,991', '0,992', '1,153', '1,051', '0,910',\n",
       "       '0,931', '1,056', '1,356', '0,975', '1,033', '1,061', '1,101',\n",
       "       '1,181', '1,123', '0,947', '1,251', '1,429', '1,238', '1,228',\n",
       "       '1,310', '1,260', '1,278', '1,042', '1,211', '1,218', '1,236',\n",
       "       '1,025', '0,968', '1,065', '0,978', '1,379', '0,969', '0,880',\n",
       "       '0,914', '0,986', '1,017', '0,859', '1,016', '1,046', '0,870',\n",
       "       '0,842', '1,282', '1,106', '1,206', '1,284', '1,447', '1,283',\n",
       "       '1,233', '1,313', '1,314', '1,298', '1,095', '1,207', '0,895',\n",
       "       '1,001', '1,015', '0,897', '1,014', '0,997', '0,918', '1,143',\n",
       "       '1,148', '1,489', '1,559', '1,009', '1,002', '1,168', '1,308',\n",
       "       '1,087', '1,088', '1,136', '1,117', '1,097', '0,954', '1,007',\n",
       "       '1,081', '1,256', '1,077', '1,276', '0,898', '1,167', '1,032',\n",
       "       '1,146', '1,092', '1,187', '0,945', '1,271', '0,916', '1,107',\n",
       "       '1,459', '1,226', '1,085', '1,108', '1,500', '1,176', '1,194',\n",
       "       '1,192', '0,876', '0,941', '1,653', '1,006', '1,539', '1,094',\n",
       "       '1,031', '1,242', '1,073', '1,175', '1,067', '1,183', '0,938',\n",
       "       '1,203', '1,202', '1,385', '1,365', '1,449', '1,235', '1,322',\n",
       "       '1,989', '1,035', '1,204', '1,011', '0,925', '0,962', '0,871',\n",
       "       '1,137', '0,905', '1,266', '1,232', '1,318', '0,835', '1,188',\n",
       "       '1,522', '1,268', '1,354', '1,315', '1,182', '1,096', '1,215',\n",
       "       '1,311', '1,083', '1,333', '1,389', '1,267', '0,909', '1,103',\n",
       "       '1,151', '0,849', '1,024', '0,987', '1,212', '1,408', '0,908',\n",
       "       '1,304', '1,126', '1,343', '1,034', '0,974', '1,669', '1,361',\n",
       "       '1,055', '1,078', '1,939', '1,018', '0,881', '1,112', '1,415',\n",
       "       '0,863', '0,869', '1,196', '1,253', '0,892', '1,599', '1,338',\n",
       "       '1,296', '1,246', '1,346', '0,955', '1,499', '1,414', '1,023',\n",
       "       '0,917', '0,890'], dtype=object)"
      ]
     },
     "execution_count": 68,
     "metadata": {},
     "output_type": "execute_result"
    }
   ],
   "source": [
    "Gasoleo_B = df_n['Precio Gasoleo B'].unique()\n",
    "print(len(Gasoleo_A))\n",
    "print(type(Gasoleo_A))\n",
    "Gasoleo_B"
   ]
  },
  {
   "cell_type": "code",
   "execution_count": 69,
   "id": "b9ff1285",
   "metadata": {},
   "outputs": [],
   "source": [
    "# Convertimos columna categórica a numérica, primero tenemos que sustituir , por .\n",
    "df_n['Precio Gasoleo B']=df_n['Precio Gasoleo B'].str.replace(',','.')\n",
    "df_n[['Precio Gasoleo B']]=df_n[['Precio Gasoleo B']].apply(pd.to_numeric)"
   ]
  },
  {
   "cell_type": "code",
   "execution_count": 70,
   "id": "40bfd63c",
   "metadata": {},
   "outputs": [
    {
     "data": {
      "text/plain": [
       "count    3005.000000\n",
       "mean        1.133852\n",
       "std         0.123699\n",
       "min         0.636000\n",
       "25%         1.041000\n",
       "50%         1.139000\n",
       "75%         1.209000\n",
       "max         1.989000\n",
       "Name: Precio Gasoleo B, dtype: float64"
      ]
     },
     "execution_count": 70,
     "metadata": {},
     "output_type": "execute_result"
    }
   ],
   "source": [
    "df_n['Precio Gasoleo B'].describe()\n"
   ]
  },
  {
   "cell_type": "code",
   "execution_count": 71,
   "id": "ee5cfffa",
   "metadata": {},
   "outputs": [
    {
     "data": {
      "text/plain": [
       "8886"
      ]
     },
     "execution_count": 71,
     "metadata": {},
     "output_type": "execute_result"
    }
   ],
   "source": [
    "# Registros sin venta Gasoleo B\n",
    "sin_suministro_gB = df_n['Precio Gasoleo B'].isnull().sum()\n",
    "sin_suministro_gB"
   ]
  },
  {
   "cell_type": "code",
   "execution_count": 72,
   "id": "1654e9f7",
   "metadata": {},
   "outputs": [
    {
     "data": {
      "text/plain": [
       "0"
      ]
     },
     "execution_count": 72,
     "metadata": {},
     "output_type": "execute_result"
    }
   ],
   "source": [
    "ceros_sin_suministro_gB = (df_n['Precio Gasoleo B'] == 0).sum()\n",
    "ceros_sin_suministro_gB"
   ]
  },
  {
   "cell_type": "markdown",
   "id": "24d3a7ce",
   "metadata": {},
   "source": [
    "# Precio Gasoleo Premium "
   ]
  },
  {
   "cell_type": "code",
   "execution_count": 73,
   "id": "e25d3aaf",
   "metadata": {},
   "outputs": [
    {
     "name": "stdout",
     "output_type": "stream",
     "text": [
      "347\n",
      "<class 'numpy.ndarray'>\n"
     ]
    },
    {
     "data": {
      "text/plain": [
       "array(['', '1,479', '1,529', '1,519', '1,499', '1,418', '1,505', '1,409',\n",
       "       '1,509', '1,349', '1,559', '1,469', '1,550', '1,629', '1,389',\n",
       "       '1,451', '1,489', '1,495', '1,599', '1,589', '1,554', '1,459',\n",
       "       '1,609', '1,849', '1,579', '1,399', '1,539', '1,569', '1,439',\n",
       "       '1,369', '1,449', '1,769', '1,779', '1,549', '1,464', '1,531',\n",
       "       '1,354', '1,488', '1,659', '1,619', '1,669', '1,500', '1,419',\n",
       "       '1,510', '1,483', '1,428', '1,325', '1,309', '1,537', '1,414',\n",
       "       '1,515', '1,440', '1,545', '1,416', '1,454', '1,568', '1,304',\n",
       "       '1,329', '2,999', '1,379', '1,535', '1,388', '1,514', '1,339',\n",
       "       '1,429', '1,494', '1,395', '1,415', '1,525', '1,427', '1,534',\n",
       "       '1,438', '1,565', '1,298', '1,551', '1,585', '1,577', '1,328',\n",
       "       '1,595', '1,299', '1,547', '1,335', '1,598', '1,611', '1,295',\n",
       "       '1,340', '1,281', '1,333', '1,306', '1,513', '1,575', '1,640',\n",
       "       '1,357', '1,679', '1,365', '1,645', '1,580', '1,685', '1,564',\n",
       "       '1,544', '1,289', '1,484', '1,548', '1,425', '1,558', '1,581',\n",
       "       '1,478', '1,319', '1,555', '1,355', '1,524', '1,571', '1,639',\n",
       "       '1,480', '1,637', '1,584', '1,450', '1,466', '1,594', '1,444',\n",
       "       '1,285', '1,511', '1,521', '1,520', '1,209', '1,272', '1,246',\n",
       "       '1,279', '1,359', '1,239', '1,649', '1,398', '1,605', '1,608',\n",
       "       '1,721', '1,621', '1,618', '1,588', '1,578', '1,587', '1,615',\n",
       "       '1,397', '1,465', '1,468', '1,376', '1,673', '1,452', '1,506',\n",
       "       '1,538', '1,356', '1,501', '1,643', '1,504', '1,474', '1,378',\n",
       "       '1,327', '1,600', '1,385', '1,455', '1,482', '1,392', '1,475',\n",
       "       '1,889', '1,314', '1,331', '1,417', '1,404', '1,434', '1,424',\n",
       "       '1,384', '1,485', '1,461', '1,358', '1,407', '1,699', '1,497',\n",
       "       '1,259', '1,648', '1,590', '1,350', '1,601', '1,591', '1,572',\n",
       "       '1,631', '1,266', '1,265', '1,337', '1,625', '1,315', '1,533',\n",
       "       '1,560', '1,323', '1,759', '1,364', '1,225', '1,809', '1,561',\n",
       "       '1,655', '1,729', '1,583', '1,408', '1,345', '1,635', '1,667',\n",
       "       '1,453', '1,638', '1,839', '1,400', '1,477', '1,348', '1,447',\n",
       "       '1,518', '1,541', '1,829', '1,405', '1,507', '2,060', '1,574',\n",
       "       '1,498', '1,709', '1,556', '1,563', '1,979', '1,675', '1,567',\n",
       "       '1,448', '1,929', '1,481', '1,371', '1,516', '1,597', '1,719',\n",
       "       '1,330', '1,310', '1,496', '1,725', '1,336', '1,689', '1,542',\n",
       "       '1,528', '1,705', '1,570', '1,292', '1,347', '1,508', '1,490',\n",
       "       '1,257', '1,269', '1,487', '1,526', '1,305', '1,307', '1,445',\n",
       "       '1,553', '1,540', '1,368', '1,604', '1,275', '1,430', '1,781',\n",
       "       '1,616', '1,593', '1,634', '1,586', '1,462', '1,134', '1,095',\n",
       "       '1,135', '1,133', '1,165', '2,109', '1,318', '1,287', '1,277',\n",
       "       '1,394', '1,375', '1,377', '1,787', '1,610', '1,899', '1,370',\n",
       "       '1,517', '1,374', '1,294', '1,199', '1,486', '1,476', '1,443',\n",
       "       '1,437', '1,460', '1,546', '1,382', '1,360', '1,260', '1,320',\n",
       "       '1,380', '1,297', '1,527', '1,456', '1,247', '1,620', '1,386',\n",
       "       '1,372', '1,470', '1,228', '1,690', '1,362', '1,341', '1,274',\n",
       "       '1,249', '1,283', '1,344', '1,363', '1,324', '1,343', '1,393',\n",
       "       '1,628', '1,334', '1,582', '1,255', '1,653', '1,647', '1,381',\n",
       "       '1,270', '1,665', '1,624', '1,346', '1,242', '1,302', '1,698',\n",
       "       '1,617', '1,695', '1,800', '1,457', '1,650', '1,332', '1,276',\n",
       "       '1,557', '1,492', '1,326', '1,229', '1,566', '1,543', '1,458',\n",
       "       '1,552', '1,626', '1,383'], dtype=object)"
      ]
     },
     "execution_count": 73,
     "metadata": {},
     "output_type": "execute_result"
    }
   ],
   "source": [
    "Gasoleo_P = df_n['Precio Gasoleo Premium'].unique()\n",
    "print(len(Gasoleo_P))\n",
    "print(type(Gasoleo_P))\n",
    "Gasoleo_P"
   ]
  },
  {
   "cell_type": "code",
   "execution_count": 74,
   "id": "b2743f33",
   "metadata": {},
   "outputs": [],
   "source": [
    "# Convertimos columna categórica a numérica, primero tenemos que sustituir , por .\n",
    "df_n['Precio Gasoleo Premium']=df_n['Precio Gasoleo Premium'].str.replace(',','.')\n",
    "df_n[['Precio Gasoleo Premium']]=df_n[['Precio Gasoleo Premium']].apply(pd.to_numeric)"
   ]
  },
  {
   "cell_type": "code",
   "execution_count": 75,
   "id": "10e79699",
   "metadata": {},
   "outputs": [
    {
     "data": {
      "text/plain": [
       "count    7513.000000\n",
       "mean        1.513360\n",
       "std         0.079417\n",
       "min         1.095000\n",
       "25%         1.484000\n",
       "50%         1.529000\n",
       "75%         1.565000\n",
       "max         2.999000\n",
       "Name: Precio Gasoleo Premium, dtype: float64"
      ]
     },
     "execution_count": 75,
     "metadata": {},
     "output_type": "execute_result"
    }
   ],
   "source": [
    "df_n['Precio Gasoleo Premium'].describe()"
   ]
  },
  {
   "cell_type": "code",
   "execution_count": 76,
   "id": "9666e5b7",
   "metadata": {},
   "outputs": [
    {
     "data": {
      "text/plain": [
       "4378"
      ]
     },
     "execution_count": 76,
     "metadata": {},
     "output_type": "execute_result"
    }
   ],
   "source": [
    "# Registros sin venta Gasoleo Premium\n",
    "sin_suministro_gP = df_n['Precio Gasoleo Premium'].isnull().sum()\n",
    "sin_suministro_gP"
   ]
  },
  {
   "cell_type": "code",
   "execution_count": 77,
   "id": "c62c56a0",
   "metadata": {},
   "outputs": [
    {
     "data": {
      "text/plain": [
       "0"
      ]
     },
     "execution_count": 77,
     "metadata": {},
     "output_type": "execute_result"
    }
   ],
   "source": [
    "ceros_sin_suministro_gP = (df_n['Precio Gasoleo Premium'] == 0).sum()\n",
    "ceros_sin_suministro_gP"
   ]
  },
  {
   "cell_type": "markdown",
   "id": "1af7f46d",
   "metadata": {},
   "source": [
    "# Precio Gasolina 95 E10 "
   ]
  },
  {
   "cell_type": "code",
   "execution_count": 78,
   "id": "a3d6c6e1",
   "metadata": {},
   "outputs": [
    {
     "name": "stdout",
     "output_type": "stream",
     "text": [
      "19\n",
      "<class 'numpy.ndarray'>\n"
     ]
    },
    {
     "data": {
      "text/plain": [
       "array(['', '1,869', '1,749', '1,819', '1,799', '1,669', '1,499', '1,629',\n",
       "       '1,719', '1,779', '1,729', '1,519', '1,589', '1,479', '1,477',\n",
       "       '1,699', '1,674', '1,769', '1,658'], dtype=object)"
      ]
     },
     "execution_count": 78,
     "metadata": {},
     "output_type": "execute_result"
    }
   ],
   "source": [
    "g95_E10 = df_n['Precio Gasolina 95 E10'].unique()\n",
    "print(len(g95_E10))\n",
    "print(type(g95_E10))\n",
    "g95_E10"
   ]
  },
  {
   "cell_type": "code",
   "execution_count": 79,
   "id": "c2203d4d",
   "metadata": {},
   "outputs": [],
   "source": [
    "# Convertimos columna categórica a numérica, primero tenemos que sustituir , por .\n",
    "df_n['Precio Gasolina 95 E10']=df_n['Precio Gasolina 95 E10'].str.replace(',','.')\n",
    "df_n[['Precio Gasolina 95 E10']]=df_n[['Precio Gasolina 95 E10']].apply(pd.to_numeric)"
   ]
  },
  {
   "cell_type": "code",
   "execution_count": 80,
   "id": "01212952",
   "metadata": {},
   "outputs": [
    {
     "data": {
      "text/plain": [
       "count    24.000000\n",
       "mean      1.684083\n",
       "std       0.106720\n",
       "min       1.477000\n",
       "25%       1.650750\n",
       "50%       1.699000\n",
       "75%       1.754000\n",
       "max       1.869000\n",
       "Name: Precio Gasolina 95 E10, dtype: float64"
      ]
     },
     "execution_count": 80,
     "metadata": {},
     "output_type": "execute_result"
    }
   ],
   "source": [
    " df_n['Precio Gasolina 95 E10'].describe()"
   ]
  },
  {
   "cell_type": "code",
   "execution_count": 81,
   "id": "6aaa6a7b",
   "metadata": {},
   "outputs": [
    {
     "data": {
      "text/plain": [
       "11867"
      ]
     },
     "execution_count": 81,
     "metadata": {},
     "output_type": "execute_result"
    }
   ],
   "source": [
    "# Registros sin venta Gasoleo Premium\n",
    "sin_suministro_95E10 = df_n['Precio Gasolina 95 E10'].isnull().sum()\n",
    "sin_suministro_95E10"
   ]
  },
  {
   "cell_type": "markdown",
   "id": "3e9e3b58",
   "metadata": {},
   "source": [
    "# Precio Gasolina 95 E5"
   ]
  },
  {
   "cell_type": "code",
   "execution_count": 82,
   "id": "a04d4e77",
   "metadata": {},
   "outputs": [
    {
     "name": "stdout",
     "output_type": "stream",
     "text": [
      "412\n",
      "<class 'numpy.ndarray'>\n"
     ]
    },
    {
     "data": {
      "text/plain": [
       "array(['1,559', '1,589', '', '1,439', '1,599', '1,548', '1,619', '1,629',\n",
       "       '1,614', '1,569', '1,579', '1,659', '1,549', '1,552', '1,449',\n",
       "       '2,299', '1,460', '1,604', '1,689', '1,639', '1,519', '1,634',\n",
       "       '1,594', '1,513', '1,625', '1,649', '1,609', '1,660', '1,719',\n",
       "       '1,458', '1,679', '1,510', '1,459', '1,567', '1,565', '1,529',\n",
       "       '1,469', '1,539', '1,487', '1,484', '1,499', '1,479', '1,635',\n",
       "       '1,794', '1,665', '1,485', '1,497', '1,624', '1,495', '1,477',\n",
       "       '1,598', '1,603', '1,564', '1,718', '1,597', '1,509', '1,545',\n",
       "       '1,555', '1,709', '1,617', '1,457', '1,669', '1,653', '1,655',\n",
       "       '1,520', '1,475', '1,608', '1,501', '1,590', '1,554', '1,574',\n",
       "       '1,489', '1,699', '1,587', '1,399', '1,498', '1,729', '1,658',\n",
       "       '1,478', '1,534', '1,525', '1,527', '1,535', '1,577', '1,588',\n",
       "       '1,684', '1,518', '1,488', '1,517', '1,436', '1,402', '1,620',\n",
       "       '1,607', '1,427', '1,583', '1,428', '1,616', '1,508', '1,470',\n",
       "       '1,600', '1,435', '1,453', '1,558', '1,467', '1,648', '1,551',\n",
       "       '1,799', '1,570', '1,643', '1,575', '1,566', '1,420', '1,480',\n",
       "       '1,505', '1,640', '1,697', '1,615', '1,654', '1,688', '1,584',\n",
       "       '1,698', '1,524', '1,547', '2,000', '1,610', '1,664', '1,401',\n",
       "       '1,403', '1,580', '1,628', '1,687', '1,708', '1,621', '1,557',\n",
       "       '1,670', '1,685', '1,638', '1,618', '1,544', '1,500', '1,739',\n",
       "       '1,450', '1,668', '1,568', '1,440', '1,419', '1,379', '1,650',\n",
       "       '1,759', '1,622', '1,504', '1,627', '1,515', '1,585', '1,694',\n",
       "       '1,641', '1,774', '1,714', '1,645', '1,667', '1,424', '1,644',\n",
       "       '1,686', '1,494', '1,491', '1,674', '1,678', '1,492', '1,538',\n",
       "       '1,444', '1,464', '1,425', '1,409', '1,528', '1,454', '1,466',\n",
       "       '1,422', '1,474', '1,537', '1,448', '1,675', '1,426', '1,578',\n",
       "       '1,646', '1,563', '1,463', '1,695', '1,389', '1,465', '1,490',\n",
       "       '1,429', '1,468', '1,706', '1,811', '1,750', '1,561', '1,595',\n",
       "       '1,542', '1,514', '1,642', '1,451', '1,672', '1,447', '1,430',\n",
       "       '1,406', '1,530', '1,407', '1,602', '1,573', '1,680', '1,605',\n",
       "       '1,630', '1,437', '1,900', '1,434', '1,581', '1,633', '1,652',\n",
       "       '1,445', '1,777', '1,279', '1,259', '1,278', '1,455', '1,432',\n",
       "       '1,410', '1,512', '1,526', '1,493', '1,592', '1,395', '1,523',\n",
       "       '1,507', '1,681', '1,745', '1,677', '1,593', '1,636', '1,550',\n",
       "       '1,647', '1,562', '1,462', '1,691', '1,712', '1,657', '1,596',\n",
       "       '1,541', '1,769', '1,950', '1,476', '1,560', '1,540', '1,637',\n",
       "       '1,701', '1,673', '1,765', '1,433', '1,456', '1,452', '1,571',\n",
       "       '1,327', '1,361', '1,331', '1,553', '1,586', '1,516', '1,705',\n",
       "       '1,626', '1,438', '1,682', '1,431', '1,443', '1,536', '1,576',\n",
       "       '1,761', '1,809', '1,683', '1,663', '1,612', '1,819', '1,300',\n",
       "       '1,632', '1,704', '1,666', '1,543', '1,208', '1,189', '1,209',\n",
       "       '1,239', '1,703', '1,582', '1,486', '1,797', '1,730', '1,779',\n",
       "       '1,735', '1,533', '1,483', '1,249', '1,254', '1,269', '1,105',\n",
       "       '1,220', '1,224', '1,229', '1,244', '1,219', '1,257', '1,365',\n",
       "       '1,393', '1,405', '1,408', '1,414', '1,394', '1,413', '1,260',\n",
       "       '1,284', '1,119', '1,099', '1,150', '1,359', '1,275', '1,262',\n",
       "       '1,115', '1,015', '1,107', '1,117', '1,258', '1,277', '1,299',\n",
       "       '1,274', '1,273', '1,138', '1,240', '1,330', '1,339', '1,349',\n",
       "       '1,283', '1,271', '1,256', '1,204', '1,418', '1,289', '1,295',\n",
       "       '1,264', '1,148', '1,199', '1,089', '1,291', '1,358', '1,357',\n",
       "       '1,369', '1,129', '1,079', '1,247', '1,325', '1,748', '1,461',\n",
       "       '1,228', '1,200', '1,169', '1,287', '1,318', '1,236', '1,238',\n",
       "       '1,222', '1,242', '1,245', '1,197', '1,281', '1,294', '1,212',\n",
       "       '1,237', '1,125', '1,214', '1,218', '1,380', '1,241', '1,210',\n",
       "       '1,184', '1,198', '1,328', '1,216', '1,211', '1,205', '1,207',\n",
       "       '1,201', '1,231', '1,235', '1,223', '1,217', '1,334', '1,149',\n",
       "       '1,175', '1,187', '1,265', '1,324', '1,215', '1,611', '1,502',\n",
       "       '1,676', '1,671', '1,736', '1,521', '1,503', '1,738', '1,496',\n",
       "       '1,532', '1,546', '1,716', '1,606', '1,442'], dtype=object)"
      ]
     },
     "execution_count": 82,
     "metadata": {},
     "output_type": "execute_result"
    }
   ],
   "source": [
    "g95_E5 = df_n['Precio Gasolina 95 E5'].unique()\n",
    "print(len(g95_E5))\n",
    "print(type(g95_E5))\n",
    "g95_E5"
   ]
  },
  {
   "cell_type": "code",
   "execution_count": 83,
   "id": "196f251e",
   "metadata": {},
   "outputs": [],
   "source": [
    "# Convertimos columna categórica a numérica, primero tenemos que sustituir , por .\n",
    "df_n['Precio Gasolina 95 E5']=df_n['Precio Gasolina 95 E5'].str.replace(',','.')\n",
    "df_n[['Precio Gasolina 95 E5']]=df_n[['Precio Gasolina 95 E5']].apply(pd.to_numeric)"
   ]
  },
  {
   "cell_type": "code",
   "execution_count": 84,
   "id": "621ec9bd",
   "metadata": {},
   "outputs": [
    {
     "data": {
      "text/plain": [
       "count    10732.000000\n",
       "mean         1.574223\n",
       "std          0.093182\n",
       "min          1.015000\n",
       "25%          1.539000\n",
       "50%          1.594000\n",
       "75%          1.629000\n",
       "max          2.299000\n",
       "Name: Precio Gasolina 95 E5, dtype: float64"
      ]
     },
     "execution_count": 84,
     "metadata": {},
     "output_type": "execute_result"
    }
   ],
   "source": [
    "df_n['Precio Gasolina 95 E5'].describe()"
   ]
  },
  {
   "cell_type": "code",
   "execution_count": 85,
   "id": "56396333",
   "metadata": {},
   "outputs": [
    {
     "data": {
      "text/plain": [
       "1159"
      ]
     },
     "execution_count": 85,
     "metadata": {},
     "output_type": "execute_result"
    }
   ],
   "source": [
    "# Registros sin venta Gasoleo Premium\n",
    "sin_suministro_g95E5 = df_n['Precio Gasolina 95 E5'].isnull().sum()\n",
    "sin_suministro_g95E5"
   ]
  },
  {
   "cell_type": "code",
   "execution_count": 86,
   "id": "c8cc07ca",
   "metadata": {},
   "outputs": [
    {
     "data": {
      "text/plain": [
       "0"
      ]
     },
     "execution_count": 86,
     "metadata": {},
     "output_type": "execute_result"
    }
   ],
   "source": [
    "ceros_sin_suministro_g95E5  = (df_n['Precio Gasolina 95 E5'] == 0).sum()\n",
    "ceros_sin_suministro_g95E5 "
   ]
  },
  {
   "cell_type": "markdown",
   "id": "fe877ab4",
   "metadata": {},
   "source": [
    "# Precio Gasolina 95 E5 Premium"
   ]
  },
  {
   "cell_type": "code",
   "execution_count": 87,
   "id": "5586de3c",
   "metadata": {},
   "outputs": [
    {
     "name": "stdout",
     "output_type": "stream",
     "text": [
      "92\n",
      "<class 'numpy.ndarray'>\n"
     ]
    },
    {
     "data": {
      "text/plain": [
       "array(['', '1,629', '1,639', '1,674', '1,654', '1,619', '1,649', '1,579',\n",
       "       '1,599', '1,669', '1,589', '1,689', '1,699', '1,714', '1,719',\n",
       "       '1,609', '1,659', '1,709', '1,759', '1,614', '1,564', '1,684',\n",
       "       '1,679', '1,734', '1,744', '1,739', '1,498', '1,499', '1,405',\n",
       "       '1,439', '1,473', '1,779', '1,729', '1,594', '1,694', '1,635',\n",
       "       '1,775', '1,664', '1,685', '1,644', '1,769', '1,749', '1,724',\n",
       "       '1,715', '1,789', '1,559', '1,814', '1,774', '1,784', '1,764',\n",
       "       '1,829', '1,539', '1,704', '1,569', '1,529', '1,555', '1,624',\n",
       "       '1,627', '1,519', '1,324', '1,705', '1,747', '1,758', '1,698',\n",
       "       '1,708', '1,548', '1,634', '1,549', '1,478', '1,578', '1,527',\n",
       "       '1,488', '1,547', '1,528', '1,585', '1,608', '1,538', '1,497',\n",
       "       '1,489', '1,145', '1,289', '1,239', '1,259', '1,279', '1,799',\n",
       "       '1,748', '1,717', '1,899', '1,667', '1,695', '1,707', '1,678'],\n",
       "      dtype=object)"
      ]
     },
     "execution_count": 87,
     "metadata": {},
     "output_type": "execute_result"
    }
   ],
   "source": [
    "g95_E5_P = df_n['Precio Gasolina 95 E5 Premium'].unique()\n",
    "print(len(g95_E5_P))\n",
    "print(type(g95_E5_P))\n",
    "g95_E5_P"
   ]
  },
  {
   "cell_type": "code",
   "execution_count": 88,
   "id": "4758d3d3",
   "metadata": {},
   "outputs": [],
   "source": [
    "# Convertimos columna categórica a numérica, primero tenemos que sustituir , por .\n",
    "df_n['Precio Gasolina 95 E5 Premium']=df_n['Precio Gasolina 95 E5 Premium'].str.replace(',','.')\n",
    "df_n[['Precio Gasolina 95 E5 Premium']]=df_n[['Precio Gasolina 95 E5 Premium']].apply(pd.to_numeric)"
   ]
  },
  {
   "cell_type": "code",
   "execution_count": 89,
   "id": "7d0a8e3a",
   "metadata": {},
   "outputs": [
    {
     "data": {
      "text/plain": [
       "count    850.000000\n",
       "mean       1.669596\n",
       "std        0.070330\n",
       "min        1.145000\n",
       "25%        1.639000\n",
       "50%        1.679000\n",
       "75%        1.714000\n",
       "max        1.899000\n",
       "Name: Precio Gasolina 95 E5 Premium, dtype: float64"
      ]
     },
     "execution_count": 89,
     "metadata": {},
     "output_type": "execute_result"
    }
   ],
   "source": [
    "df_n['Precio Gasolina 95 E5 Premium'].describe()"
   ]
  },
  {
   "cell_type": "code",
   "execution_count": 90,
   "id": "4a815e9d",
   "metadata": {},
   "outputs": [
    {
     "data": {
      "text/plain": [
       "11041"
      ]
     },
     "execution_count": 90,
     "metadata": {},
     "output_type": "execute_result"
    }
   ],
   "source": [
    "# Registros sin venta Gasolina 95 E5 Premium\n",
    "sin_suministro_g95E5_Prem = df_n['Precio Gasolina 95 E5 Premium'].isnull().sum()\n",
    "sin_suministro_g95E5_Prem"
   ]
  },
  {
   "cell_type": "code",
   "execution_count": 91,
   "id": "7ae51272",
   "metadata": {},
   "outputs": [
    {
     "data": {
      "text/plain": [
       "0"
      ]
     },
     "execution_count": 91,
     "metadata": {},
     "output_type": "execute_result"
    }
   ],
   "source": [
    "ceros_sin_suministro_g95E5_Prem  = (df_n['Precio Gasolina 95 E5 Premium'] == 0).sum()\n",
    "ceros_sin_suministro_g95E5 "
   ]
  },
  {
   "cell_type": "markdown",
   "id": "477ee508",
   "metadata": {},
   "source": [
    "# Precio Gasolina 98 E10"
   ]
  },
  {
   "cell_type": "code",
   "execution_count": 92,
   "id": "3b8c6a20",
   "metadata": {},
   "outputs": [
    {
     "name": "stdout",
     "output_type": "stream",
     "text": [
      "16\n",
      "<class 'numpy.ndarray'>\n"
     ]
    },
    {
     "data": {
      "text/plain": [
       "array(['', '1,819', '1,849', '1,679', '1,609', '1,639', '1,629', '1,659',\n",
       "       '1,995', '1,635', '1,687', '1,719', '1,655', '1,749', '1,739',\n",
       "       '1,688'], dtype=object)"
      ]
     },
     "execution_count": 92,
     "metadata": {},
     "output_type": "execute_result"
    }
   ],
   "source": [
    "g98_E10 = df_n['Precio Gasolina 98 E10'].unique()\n",
    "print(len(g98_E10))\n",
    "print(type(g98_E10))\n",
    "g98_E10"
   ]
  },
  {
   "cell_type": "code",
   "execution_count": 93,
   "id": "77f0708e",
   "metadata": {},
   "outputs": [],
   "source": [
    "# Convertimos columna categórica a numérica, primero tenemos que sustituir , por .\n",
    "df_n['Precio Gasolina 98 E10']=df_n['Precio Gasolina 98 E10'].str.replace(',','.')\n",
    "df_n[['Precio Gasolina 98 E10']]=df_n[['Precio Gasolina 98 E10']].apply(pd.to_numeric)"
   ]
  },
  {
   "cell_type": "code",
   "execution_count": 94,
   "id": "0ce30530",
   "metadata": {},
   "outputs": [
    {
     "data": {
      "text/plain": [
       "count    16.000000\n",
       "mean      1.711188\n",
       "std       0.102123\n",
       "min       1.609000\n",
       "25%       1.638000\n",
       "50%       1.683000\n",
       "75%       1.741500\n",
       "max       1.995000\n",
       "Name: Precio Gasolina 98 E10, dtype: float64"
      ]
     },
     "execution_count": 94,
     "metadata": {},
     "output_type": "execute_result"
    }
   ],
   "source": [
    "df_n['Precio Gasolina 98 E10'].describe()"
   ]
  },
  {
   "cell_type": "code",
   "execution_count": 95,
   "id": "7846a3d5",
   "metadata": {},
   "outputs": [
    {
     "data": {
      "text/plain": [
       "11875"
      ]
     },
     "execution_count": 95,
     "metadata": {},
     "output_type": "execute_result"
    }
   ],
   "source": [
    "# Registros sin venta Gasolina 98 E10 \n",
    "sin_suministro_g98E10 = df_n['Precio Gasolina 98 E10'].isnull().sum()\n",
    "sin_suministro_g98E10"
   ]
  },
  {
   "cell_type": "markdown",
   "id": "d0eca28a",
   "metadata": {},
   "source": [
    "# Precio Gasolina 98 E5"
   ]
  },
  {
   "cell_type": "code",
   "execution_count": 96,
   "id": "b948ed78",
   "metadata": {},
   "outputs": [
    {
     "name": "stdout",
     "output_type": "stream",
     "text": [
      "386\n",
      "<class 'numpy.ndarray'>\n"
     ]
    },
    {
     "data": {
      "text/plain": [
       "array(['', '1,729', '1,731', '1,709', '1,739', '1,759', '1,748', '1,769',\n",
       "       '1,719', '1,549', '1,669', '1,699', '1,681', '1,749', '2,369',\n",
       "       '1,721', '1,774', '1,659', '1,789', '1,779', '1,810', '1,852',\n",
       "       '1,839', '1,679', '1,859', '1,689', '1,651', '1,799', '1,889',\n",
       "       '1,691', '1,701', '1,711', '1,914', '1,801', '1,754', '1,761',\n",
       "       '1,771', '1,694', '1,737', '1,599', '1,747', '1,999', '1,809',\n",
       "       '1,869', '1,758', '1,791', '1,851', '1,784', '1,819', '1,704',\n",
       "       '1,741', '1,746', '1,745', '1,605', '1,686', '1,714', '1,629',\n",
       "       '1,720', '1,829', '1,751', '1,781', '2,999', '1,727', '1,816',\n",
       "       '1,732', '1,726', '1,736', '1,634', '1,775', '1,474', '1,800',\n",
       "       '1,671', '1,735', '1,780', '2,000', '1,643', '1,625', '1,849',\n",
       "       '1,760', '1,886', '1,765', '1,818', '1,786', '1,821', '1,766',\n",
       "       '1,609', '1,734', '1,724', '1,698', '1,685', '1,838', '1,788',\n",
       "       '1,668', '1,919', '1,619', '1,750', '1,796', '1,828', '1,879',\n",
       "       '1,811', '1,804', '1,831', '1,700', '1,697', '1,812', '1,715',\n",
       "       '1,579', '1,969', '1,716', '1,740', '1,785', '1,814', '1,874',\n",
       "       '1,808', '1,841', '1,805', '1,778', '1,795', '1,827', '1,798',\n",
       "       '1,840', '1,870', '1,835', '1,847', '1,705', '1,672', '1,744',\n",
       "       '1,806', '1,899', '1,773', '1,617', '1,682', '1,794', '1,695',\n",
       "       '1,820', '1,520', '1,499', '1,604', '1,871', '1,675', '1,676',\n",
       "       '1,523', '1,776', '1,639', '1,539', '1,842', '1,490', '1,764',\n",
       "       '1,825', '1,665', '1,664', '1,614', '1,865', '1,974', '1,868',\n",
       "       '1,768', '1,718', '1,756', '1,895', '1,763', '1,644', '1,738',\n",
       "       '1,929', '1,618', '1,649', '1,628', '1,674', '1,591', '1,654',\n",
       "       '1,712', '1,587', '1,909', '1,875', '1,783', '1,861', '1,304',\n",
       "       '1,308', '2,149', '2,089', '2,079', '1,770', '2,229', '1,725',\n",
       "       '1,696', '1,706', '1,589', '1,559', '1,733', '1,648', '1,817',\n",
       "       '1,667', '1,857', '1,898', '1,855', '1,730', '1,885', '1,722',\n",
       "       '1,826', '1,787', '2,139', '1,872', '1,797', '1,565', '1,949',\n",
       "       '1,815', '1,755', '1,600', '1,728', '1,601', '2,500', '1,753',\n",
       "       '1,743', '1,684', '1,767', '1,823', '2,199', '1,678', '2,299',\n",
       "       '1,468', '1,631', '1,717', '1,708', '1,585', '1,844', '1,580',\n",
       "       '1,525', '2,020', '1,527', '1,661', '1,790', '1,830', '1,848',\n",
       "       '1,813', '1,959', '1,723', '1,772', '2,239', '1,890', '1,834',\n",
       "       '1,655', '1,630', '1,647', '1,646', '1,897', '1,707', '1,598',\n",
       "       '1,595', '1,688', '1,690', '1,635', '1,687', '1,399', '1,394',\n",
       "       '1,369', '1,334', '1,389', '1,299', '1,324', '1,279', '1,319',\n",
       "       '1,384', '1,339', '1,484', '1,495', '1,511', '1,504', '1,509',\n",
       "       '1,524', '1,489', '1,501', '1,552', '1,419', '1,424', '1,429',\n",
       "       '1,349', '1,269', '1,400', '1,455', '1,532', '1,409', '1,405',\n",
       "       '1,404', '1,402', '1,354', '1,379', '1,380', '1,494', '1,385',\n",
       "       '1,534', '1,413', '1,392', '1,396', '1,395', '1,513', '1,414',\n",
       "       '1,416', '1,277', '1,447', '1,497', '1,502', '1,459', '1,450',\n",
       "       '1,492', '1,575', '1,425', '1,397', '1,449', '1,637', '1,837',\n",
       "       '1,487', '1,372', '1,240', '1,368', '1,482', '1,590', '1,346',\n",
       "       '1,351', '1,340', '1,359', '1,329', '1,345', '1,375', '1,344',\n",
       "       '1,670', '1,343', '1,358', '1,347', '1,352', '1,360', '1,297',\n",
       "       '1,364', '1,458', '1,452', '1,673', '1,295', '1,355', '1,336',\n",
       "       '1,470', '1,356', '1,325', '1,327', '1,298', '1,438', '1,331',\n",
       "       '1,415', '1,326', '1,353', '1,309', '1,317', '1,239', '1,348',\n",
       "       '1,312', '1,383', '1,357', '1,363', '1,318', '1,479', '1,376',\n",
       "       '1,417', '1,370', '1,374', '1,303', '1,315', '1,422', '1,888',\n",
       "       '1,867', '1,807', '2,219', '1,862', '2,450', '1,836', '1,777',\n",
       "       '1,877', '1,657', '1,677', '2,220', '1,858', '1,615', '1,824',\n",
       "       '1,638', '1,569', '1,850', '1,645', '1,978', '1,979', '1,757'],\n",
       "      dtype=object)"
      ]
     },
     "execution_count": 96,
     "metadata": {},
     "output_type": "execute_result"
    }
   ],
   "source": [
    "g98_E5 = df_n['Precio Gasolina 98 E5'].unique()\n",
    "print(len(g98_E5))\n",
    "print(type(g98_E5))\n",
    "g98_E5"
   ]
  },
  {
   "cell_type": "code",
   "execution_count": 97,
   "id": "4763d458",
   "metadata": {},
   "outputs": [],
   "source": [
    "# Convertimos columna categórica a numérica, primero tenemos que sustituir , por .\n",
    "df_n['Precio Gasolina 98 E5']=df_n['Precio Gasolina 98 E5'].str.replace(',','.')\n",
    "df_n[['Precio Gasolina 98 E5']]=df_n[['Precio Gasolina 98 E5']].apply(pd.to_numeric)"
   ]
  },
  {
   "cell_type": "code",
   "execution_count": 98,
   "id": "767e87d9",
   "metadata": {},
   "outputs": [
    {
     "data": {
      "text/plain": [
       "count    5880.000000\n",
       "mean        1.730032\n",
       "std         0.116549\n",
       "min         1.239000\n",
       "25%         1.709000\n",
       "50%         1.749500\n",
       "75%         1.789000\n",
       "max         2.999000\n",
       "Name: Precio Gasolina 98 E5, dtype: float64"
      ]
     },
     "execution_count": 98,
     "metadata": {},
     "output_type": "execute_result"
    }
   ],
   "source": [
    "df_n['Precio Gasolina 98 E5'].describe()"
   ]
  },
  {
   "cell_type": "code",
   "execution_count": 99,
   "id": "d9fb7e91",
   "metadata": {},
   "outputs": [
    {
     "data": {
      "text/plain": [
       "6011"
      ]
     },
     "execution_count": 99,
     "metadata": {},
     "output_type": "execute_result"
    }
   ],
   "source": [
    "# Registros sin venta Gasolina 98 E5 \n",
    "sin_suministro_g98E5 = df_n['Precio Gasolina 98 E5'].isnull().sum()\n",
    "sin_suministro_g98E5"
   ]
  },
  {
   "cell_type": "code",
   "execution_count": 100,
   "id": "ad3ee76b",
   "metadata": {},
   "outputs": [
    {
     "data": {
      "text/plain": [
       "0"
      ]
     },
     "execution_count": 100,
     "metadata": {},
     "output_type": "execute_result"
    }
   ],
   "source": [
    "ceros_sin_suministro_g98E5  = (df_n['Precio Gasolina 98 E5'] == 0).sum()\n",
    "ceros_sin_suministro_g98E5 "
   ]
  },
  {
   "cell_type": "markdown",
   "id": "d8566cb1",
   "metadata": {},
   "source": [
    "# Precio Hidrogeno "
   ]
  },
  {
   "cell_type": "code",
   "execution_count": 101,
   "id": "8092ec5a",
   "metadata": {},
   "outputs": [
    {
     "name": "stdout",
     "output_type": "stream",
     "text": [
      "1\n",
      "<class 'numpy.ndarray'>\n"
     ]
    },
    {
     "data": {
      "text/plain": [
       "array([''], dtype=object)"
      ]
     },
     "execution_count": 101,
     "metadata": {},
     "output_type": "execute_result"
    }
   ],
   "source": [
    "Hidrongeno = df_n['Precio Hidrogeno'].unique()\n",
    "print(len(Hidrongeno))\n",
    "print(type(Hidrongeno))\n",
    "Hidrongeno"
   ]
  },
  {
   "cell_type": "code",
   "execution_count": 102,
   "id": "38acbbd6",
   "metadata": {},
   "outputs": [],
   "source": [
    "# Convertimos columna categórica a numérica, primero tenemos que sustituir , por .\n",
    "df_n['Precio Hidrogeno']=df_n['Precio Hidrogeno'].str.replace(',','.')\n",
    "df_n[['Precio Hidrogeno']]=df_n[['Precio Hidrogeno']].apply(pd.to_numeric)"
   ]
  },
  {
   "cell_type": "code",
   "execution_count": 103,
   "id": "1b19941a",
   "metadata": {},
   "outputs": [
    {
     "data": {
      "text/plain": [
       "count    0.0\n",
       "mean     NaN\n",
       "std      NaN\n",
       "min      NaN\n",
       "25%      NaN\n",
       "50%      NaN\n",
       "75%      NaN\n",
       "max      NaN\n",
       "Name: Precio Hidrogeno, dtype: float64"
      ]
     },
     "execution_count": 103,
     "metadata": {},
     "output_type": "execute_result"
    }
   ],
   "source": [
    "df_n['Precio Hidrogeno'].describe()"
   ]
  },
  {
   "cell_type": "code",
   "execution_count": 104,
   "id": "c6802106",
   "metadata": {},
   "outputs": [
    {
     "name": "stdout",
     "output_type": "stream",
     "text": [
      "<class 'pandas.core.frame.DataFrame'>\n",
      "RangeIndex: 11891 entries, 0 to 11890\n",
      "Data columns (total 33 columns):\n",
      " #   Column                              Non-Null Count  Dtype  \n",
      "---  ------                              --------------  -----  \n",
      " 0   Fecha                               11891 non-null  object \n",
      " 1   C.P.                                11891 non-null  object \n",
      " 2   Dirección                           11891 non-null  object \n",
      " 3   Horario                             11891 non-null  object \n",
      " 4   Latitud                             11891 non-null  object \n",
      " 5   Localidad                           11891 non-null  object \n",
      " 6   Longitud (WGS84)                    11891 non-null  object \n",
      " 7   Margen                              11891 non-null  object \n",
      " 8   Municipio                           11891 non-null  object \n",
      " 9   Precio Biodiesel                    35 non-null     float64\n",
      " 10  Precio Bioetanol                    5 non-null      float64\n",
      " 11  Precio Gas Natural Comprimido       139 non-null    float64\n",
      " 12  Precio Gas Natural Licuado          90 non-null     float64\n",
      " 13  Precio Gases licuados del petróleo  870 non-null    float64\n",
      " 14  Precio Gasoleo A                    11538 non-null  float64\n",
      " 15  Precio Gasoleo B                    3005 non-null   float64\n",
      " 16  Precio Gasoleo Premium              7513 non-null   float64\n",
      " 17  Precio Gasolina 95 E10              24 non-null     float64\n",
      " 18  Precio Gasolina 95 E5               10732 non-null  float64\n",
      " 19  Precio Gasolina 95 E5 Premium       850 non-null    float64\n",
      " 20  Precio Gasolina 98 E10              16 non-null     float64\n",
      " 21  Precio Gasolina 98 E5               5880 non-null   float64\n",
      " 22  Precio Hidrogeno                    0 non-null      float64\n",
      " 23  Provincia                           11891 non-null  object \n",
      " 24  Remisión                            11891 non-null  object \n",
      " 25  Rótulo                              11891 non-null  object \n",
      " 26  Tipo Venta                          11891 non-null  object \n",
      " 27  % BioEtanol                         11891 non-null  object \n",
      " 28  % Éster metílico                    11891 non-null  object \n",
      " 29  IDEESS                              11891 non-null  object \n",
      " 30  IDMunicipio                         11891 non-null  object \n",
      " 31  IDProvincia                         11891 non-null  object \n",
      " 32  IDCCAA                              11891 non-null  object \n",
      "dtypes: float64(14), object(19)\n",
      "memory usage: 3.0+ MB\n"
     ]
    }
   ],
   "source": [
    "df_n.info()"
   ]
  },
  {
   "cell_type": "markdown",
   "id": "0b486d1c",
   "metadata": {},
   "source": [
    "---\n",
    "Setp 3\n",
    "\n",
    "# Limpieza de Columnas"
   ]
  },
  {
   "cell_type": "code",
   "execution_count": 105,
   "id": "58959813",
   "metadata": {},
   "outputs": [],
   "source": [
    "# Eliminiación de columnas que no interesan a nivel usuario o que no aportan datos significativos al modelo\n",
    "df_n.drop(['Margen', 'Remisión', 'Tipo Venta', '% BioEtanol', '% Éster metílico', 'Precio Biodiesel',\n",
    "          'Precio Bioetanol', 'Precio Gas Natural Comprimido', 'Precio Gas Natural Licuado', \n",
    "          'Precio Gas Natural Licuado', 'Precio Gases licuados del petróleo', 'Precio Gasolina 95 E10',\n",
    "          'Precio Gasolina 95 E5 Premium', 'Precio Gasolina 98 E10', 'Precio Hidrogeno'], axis=1, inplace=True)\n"
   ]
  },
  {
   "cell_type": "code",
   "execution_count": 106,
   "id": "1f4e6f15",
   "metadata": {},
   "outputs": [
    {
     "data": {
      "text/plain": [
       "Precio Gasoleo B    NaN\n",
       "Name: 15, dtype: object"
      ]
     },
     "execution_count": 106,
     "metadata": {},
     "output_type": "execute_result"
    }
   ],
   "source": [
    "# Comprobación\n",
    "df_n.iloc[15][['Precio Gasoleo B']]"
   ]
  },
  {
   "cell_type": "code",
   "execution_count": 107,
   "id": "a9fe557e",
   "metadata": {},
   "outputs": [
    {
     "data": {
      "text/html": [
       "<div>\n",
       "<style scoped>\n",
       "    .dataframe tbody tr th:only-of-type {\n",
       "        vertical-align: middle;\n",
       "    }\n",
       "\n",
       "    .dataframe tbody tr th {\n",
       "        vertical-align: top;\n",
       "    }\n",
       "\n",
       "    .dataframe thead th {\n",
       "        text-align: right;\n",
       "    }\n",
       "</style>\n",
       "<table border=\"1\" class=\"dataframe\">\n",
       "  <thead>\n",
       "    <tr style=\"text-align: right;\">\n",
       "      <th></th>\n",
       "      <th>Fecha</th>\n",
       "      <th>C.P.</th>\n",
       "      <th>Dirección</th>\n",
       "      <th>Horario</th>\n",
       "      <th>Latitud</th>\n",
       "      <th>Localidad</th>\n",
       "      <th>Longitud (WGS84)</th>\n",
       "      <th>Municipio</th>\n",
       "      <th>Precio Gasoleo A</th>\n",
       "      <th>Precio Gasoleo B</th>\n",
       "      <th>Precio Gasoleo Premium</th>\n",
       "      <th>Precio Gasolina 95 E5</th>\n",
       "      <th>Precio Gasolina 98 E5</th>\n",
       "      <th>Provincia</th>\n",
       "      <th>Rótulo</th>\n",
       "      <th>IDEESS</th>\n",
       "      <th>IDMunicipio</th>\n",
       "      <th>IDProvincia</th>\n",
       "      <th>IDCCAA</th>\n",
       "    </tr>\n",
       "  </thead>\n",
       "  <tbody>\n",
       "    <tr>\n",
       "      <th>0</th>\n",
       "      <td>10/05/2023 20:06:24</td>\n",
       "      <td>02250</td>\n",
       "      <td>AVENIDA CASTILLA LA MANCHA, 26</td>\n",
       "      <td>L-D: 07:00-22:00</td>\n",
       "      <td>39,211417</td>\n",
       "      <td>ABENGIBRE</td>\n",
       "      <td>-1,539167</td>\n",
       "      <td>Abengibre</td>\n",
       "      <td>1.379</td>\n",
       "      <td>1.039</td>\n",
       "      <td>NaN</td>\n",
       "      <td>1.559</td>\n",
       "      <td>NaN</td>\n",
       "      <td>ALBACETE</td>\n",
       "      <td>Nº 10.935</td>\n",
       "      <td>4375</td>\n",
       "      <td>52</td>\n",
       "      <td>02</td>\n",
       "      <td>07</td>\n",
       "    </tr>\n",
       "    <tr>\n",
       "      <th>1</th>\n",
       "      <td>10/05/2023 20:06:24</td>\n",
       "      <td>02001</td>\n",
       "      <td>AVENIDA 1º DE MAYO, S/N</td>\n",
       "      <td>L-S: 08:00-22:00; D: 09:00-21:00</td>\n",
       "      <td>38,985667</td>\n",
       "      <td>ALBACETE</td>\n",
       "      <td>-1,868500</td>\n",
       "      <td>Albacete</td>\n",
       "      <td>1.439</td>\n",
       "      <td>NaN</td>\n",
       "      <td>1.479</td>\n",
       "      <td>1.589</td>\n",
       "      <td>1.729</td>\n",
       "      <td>ALBACETE</td>\n",
       "      <td>CARREFOUR</td>\n",
       "      <td>10765</td>\n",
       "      <td>54</td>\n",
       "      <td>02</td>\n",
       "      <td>07</td>\n",
       "    </tr>\n",
       "    <tr>\n",
       "      <th>2</th>\n",
       "      <td>10/05/2023 20:06:24</td>\n",
       "      <td>02001</td>\n",
       "      <td>CALLE PRINCIPE DE ASTURIAS (POLÍGONO DE ROMICA...</td>\n",
       "      <td>L-D: 06:00-21:30</td>\n",
       "      <td>39,054694</td>\n",
       "      <td>ALBACETE</td>\n",
       "      <td>-1,832000</td>\n",
       "      <td>Albacete</td>\n",
       "      <td>1.439</td>\n",
       "      <td>NaN</td>\n",
       "      <td>1.529</td>\n",
       "      <td>1.589</td>\n",
       "      <td>1.731</td>\n",
       "      <td>ALBACETE</td>\n",
       "      <td>BP ROMICA</td>\n",
       "      <td>12054</td>\n",
       "      <td>54</td>\n",
       "      <td>02</td>\n",
       "      <td>07</td>\n",
       "    </tr>\n",
       "    <tr>\n",
       "      <th>3</th>\n",
       "      <td>10/05/2023 20:06:24</td>\n",
       "      <td>02001</td>\n",
       "      <td>CALLE FEDERICO GARCIA LORCA, 5</td>\n",
       "      <td>L-S: 05:00-23:00</td>\n",
       "      <td>38,997722</td>\n",
       "      <td>ALBACETE</td>\n",
       "      <td>-1,846361</td>\n",
       "      <td>Albacete</td>\n",
       "      <td>1.480</td>\n",
       "      <td>NaN</td>\n",
       "      <td>NaN</td>\n",
       "      <td>NaN</td>\n",
       "      <td>NaN</td>\n",
       "      <td>ALBACETE</td>\n",
       "      <td>CEPSA</td>\n",
       "      <td>4438</td>\n",
       "      <td>54</td>\n",
       "      <td>02</td>\n",
       "      <td>07</td>\n",
       "    </tr>\n",
       "    <tr>\n",
       "      <th>4</th>\n",
       "      <td>10/05/2023 20:06:24</td>\n",
       "      <td>02001</td>\n",
       "      <td>CALLE FEDERICO GARCIA LORCA, 1</td>\n",
       "      <td>L-D: 24H</td>\n",
       "      <td>39,000861</td>\n",
       "      <td>ALBACETE</td>\n",
       "      <td>-1,849833</td>\n",
       "      <td>Albacete</td>\n",
       "      <td>1.289</td>\n",
       "      <td>NaN</td>\n",
       "      <td>NaN</td>\n",
       "      <td>1.439</td>\n",
       "      <td>NaN</td>\n",
       "      <td>ALBACETE</td>\n",
       "      <td>PLENOIL</td>\n",
       "      <td>13933</td>\n",
       "      <td>54</td>\n",
       "      <td>02</td>\n",
       "      <td>07</td>\n",
       "    </tr>\n",
       "  </tbody>\n",
       "</table>\n",
       "</div>"
      ],
      "text/plain": [
       "                 Fecha   C.P.  \\\n",
       "0  10/05/2023 20:06:24  02250   \n",
       "1  10/05/2023 20:06:24  02001   \n",
       "2  10/05/2023 20:06:24  02001   \n",
       "3  10/05/2023 20:06:24  02001   \n",
       "4  10/05/2023 20:06:24  02001   \n",
       "\n",
       "                                           Dirección  \\\n",
       "0                     AVENIDA CASTILLA LA MANCHA, 26   \n",
       "1                            AVENIDA 1º DE MAYO, S/N   \n",
       "2  CALLE PRINCIPE DE ASTURIAS (POLÍGONO DE ROMICA...   \n",
       "3                     CALLE FEDERICO GARCIA LORCA, 5   \n",
       "4                     CALLE FEDERICO GARCIA LORCA, 1   \n",
       "\n",
       "                            Horario    Latitud  Localidad Longitud (WGS84)  \\\n",
       "0                  L-D: 07:00-22:00  39,211417  ABENGIBRE        -1,539167   \n",
       "1  L-S: 08:00-22:00; D: 09:00-21:00  38,985667   ALBACETE        -1,868500   \n",
       "2                  L-D: 06:00-21:30  39,054694   ALBACETE        -1,832000   \n",
       "3                  L-S: 05:00-23:00  38,997722   ALBACETE        -1,846361   \n",
       "4                          L-D: 24H  39,000861   ALBACETE        -1,849833   \n",
       "\n",
       "   Municipio  Precio Gasoleo A  Precio Gasoleo B  Precio Gasoleo Premium  \\\n",
       "0  Abengibre             1.379             1.039                     NaN   \n",
       "1   Albacete             1.439               NaN                   1.479   \n",
       "2   Albacete             1.439               NaN                   1.529   \n",
       "3   Albacete             1.480               NaN                     NaN   \n",
       "4   Albacete             1.289               NaN                     NaN   \n",
       "\n",
       "   Precio Gasolina 95 E5  Precio Gasolina 98 E5 Provincia     Rótulo IDEESS  \\\n",
       "0                  1.559                    NaN  ALBACETE  Nº 10.935   4375   \n",
       "1                  1.589                  1.729  ALBACETE  CARREFOUR  10765   \n",
       "2                  1.589                  1.731  ALBACETE  BP ROMICA  12054   \n",
       "3                    NaN                    NaN  ALBACETE      CEPSA   4438   \n",
       "4                  1.439                    NaN  ALBACETE    PLENOIL  13933   \n",
       "\n",
       "  IDMunicipio IDProvincia IDCCAA  \n",
       "0          52          02     07  \n",
       "1          54          02     07  \n",
       "2          54          02     07  \n",
       "3          54          02     07  \n",
       "4          54          02     07  "
      ]
     },
     "execution_count": 107,
     "metadata": {},
     "output_type": "execute_result"
    }
   ],
   "source": [
    "df_n.head()"
   ]
  },
  {
   "cell_type": "code",
   "execution_count": 108,
   "id": "d7336670",
   "metadata": {},
   "outputs": [
    {
     "data": {
      "text/html": [
       "<div>\n",
       "<style scoped>\n",
       "    .dataframe tbody tr th:only-of-type {\n",
       "        vertical-align: middle;\n",
       "    }\n",
       "\n",
       "    .dataframe tbody tr th {\n",
       "        vertical-align: top;\n",
       "    }\n",
       "\n",
       "    .dataframe thead th {\n",
       "        text-align: right;\n",
       "    }\n",
       "</style>\n",
       "<table border=\"1\" class=\"dataframe\">\n",
       "  <thead>\n",
       "    <tr style=\"text-align: right;\">\n",
       "      <th></th>\n",
       "      <th>Fecha</th>\n",
       "      <th>C.P.</th>\n",
       "      <th>Dirección</th>\n",
       "      <th>Horario</th>\n",
       "      <th>Latitud</th>\n",
       "      <th>Localidad</th>\n",
       "      <th>Longitud (WGS84)</th>\n",
       "      <th>Municipio</th>\n",
       "      <th>Gasoleo A</th>\n",
       "      <th>Gasoleo B</th>\n",
       "      <th>Gasoleo Premium</th>\n",
       "      <th>Gasolina 95 E5</th>\n",
       "      <th>Gasolina 98 E5</th>\n",
       "      <th>Provincia</th>\n",
       "      <th>Proveedor de Servicio</th>\n",
       "      <th>IDEESS</th>\n",
       "      <th>IDMunicipio</th>\n",
       "      <th>IDProvincia</th>\n",
       "      <th>IDCCAA</th>\n",
       "    </tr>\n",
       "  </thead>\n",
       "  <tbody>\n",
       "    <tr>\n",
       "      <th>0</th>\n",
       "      <td>10/05/2023 20:06:24</td>\n",
       "      <td>02250</td>\n",
       "      <td>AVENIDA CASTILLA LA MANCHA, 26</td>\n",
       "      <td>L-D: 07:00-22:00</td>\n",
       "      <td>39,211417</td>\n",
       "      <td>ABENGIBRE</td>\n",
       "      <td>-1,539167</td>\n",
       "      <td>Abengibre</td>\n",
       "      <td>1.379</td>\n",
       "      <td>1.039</td>\n",
       "      <td>NaN</td>\n",
       "      <td>1.559</td>\n",
       "      <td>NaN</td>\n",
       "      <td>ALBACETE</td>\n",
       "      <td>Nº 10.935</td>\n",
       "      <td>4375</td>\n",
       "      <td>52</td>\n",
       "      <td>02</td>\n",
       "      <td>07</td>\n",
       "    </tr>\n",
       "  </tbody>\n",
       "</table>\n",
       "</div>"
      ],
      "text/plain": [
       "                 Fecha   C.P.                       Dirección  \\\n",
       "0  10/05/2023 20:06:24  02250  AVENIDA CASTILLA LA MANCHA, 26   \n",
       "\n",
       "            Horario    Latitud  Localidad Longitud (WGS84)  Municipio  \\\n",
       "0  L-D: 07:00-22:00  39,211417  ABENGIBRE        -1,539167  Abengibre   \n",
       "\n",
       "   Gasoleo A  Gasoleo B  Gasoleo Premium  Gasolina 95 E5  Gasolina 98 E5  \\\n",
       "0      1.379      1.039              NaN           1.559             NaN   \n",
       "\n",
       "  Provincia Proveedor de Servicio IDEESS IDMunicipio IDProvincia IDCCAA  \n",
       "0  ALBACETE             Nº 10.935   4375          52          02     07  "
      ]
     },
     "execution_count": 108,
     "metadata": {},
     "output_type": "execute_result"
    }
   ],
   "source": [
    "# Renombramos las columnas\n",
    "df_n.rename(columns={\"Precio Gasoleo A\": \"Gasoleo A\", \"Precio Gasoleo B\": \"Gasoleo B\" ,\"Precio Gasoleo Premium\": \"Gasoleo Premium\", \n",
    "                     \"Precio Gasolina 95 E5\": \"Gasolina 95 E5\", \"Precio Gasolina 98 E5\": \"Gasolina 98 E5\",\n",
    "                     \"Rótulo\":\"Proveedor de Servicio\"}, inplace=True)\n",
    "df_n.head(1)"
   ]
  },
  {
   "cell_type": "code",
   "execution_count": 109,
   "id": "365e7b0f",
   "metadata": {},
   "outputs": [],
   "source": [
    "# Media Nacional\n",
    "df_n['Media Nacional Gasoleo A']=df_n['Gasoleo A'].mean()\n",
    "df_n['Media Nacional Gasoleo B']=df_n['Gasoleo B'].mean()\n",
    "df_n['Media Nacional Gasoleo P'] = df_n['Gasoleo Premium'].mean()\n",
    "df_n['Media Nacional Gasolina 95']=df_n['Gasolina 95 E5'].mean()\n",
    "df_n['Media Nacional Gasolina 98']=df_n['Gasolina 98 E5'].mean()\n"
   ]
  },
  {
   "cell_type": "code",
   "execution_count": 110,
   "id": "92b44a14",
   "metadata": {},
   "outputs": [],
   "source": [
    "# Desviación (eliminanos porque no aporta información va)\n",
    "#df_n['dev_Gasoleo A']= df_n['Gasoleo A'] - df_n['Media_Gasoleo A']\n",
    "#df_n['dev_Gasoleo B'] =df_n['Gasoleo B'] - df_n['Media_Gasoleo B']\n",
    "#df_n['dev_Gasoleo Prem'] =df_n['Gasoleo Premium'] - df_n['Media_Gasoleo Prem']\n",
    "#df_n['dev_Gasolina 95']=df_n['Gasolina 95 E5'] - df_n['Media_Gasolina 95']\n",
    "#df_n['dev_Gasolina 98']=df_n['Gasolina 98 E5']- df_n['Media_Gasolina 98']\n"
   ]
  },
  {
   "cell_type": "markdown",
   "id": "d3a6aefe",
   "metadata": {},
   "source": [
    "# Media de precios respecto al código postal"
   ]
  },
  {
   "cell_type": "code",
   "execution_count": 111,
   "id": "2209ce36",
   "metadata": {},
   "outputs": [],
   "source": [
    "# Media Código Postal de Gasoleo A\n",
    "def cp_media_A(x):\n",
    "# x = Código Postal\n",
    "    cod_postal = df_n[df_n['C.P.'] == x]\n",
    "    media_cp_GA = cod_postal[['Gasoleo A']].mean()\n",
    "    return media_cp_GA"
   ]
  },
  {
   "cell_type": "code",
   "execution_count": 112,
   "id": "5875ac4a",
   "metadata": {},
   "outputs": [],
   "source": [
    "# Media Código Postal de Gasoleo B\n",
    "def cp_media_B(x):\n",
    "# x = Código Postal\n",
    "    cod_postal = df_n[df_n['C.P.'] == x]\n",
    "    media_cp_GB = cod_postal[['Gasoleo B']].mean()\n",
    "    return media_cp_GB"
   ]
  },
  {
   "cell_type": "code",
   "execution_count": 113,
   "id": "64d8473f",
   "metadata": {},
   "outputs": [],
   "source": [
    "# Media Código Postal de Gasoleo Premium\n",
    "def cp_media_P(x):\n",
    "# x = Código Postal\n",
    "    cod_postal = df_n[df_n['C.P.'] == x]\n",
    "    media_cp_GP = cod_postal[['Gasoleo B']].mean()\n",
    "    return media_cp_GP"
   ]
  },
  {
   "cell_type": "code",
   "execution_count": 114,
   "id": "bc519ea4",
   "metadata": {},
   "outputs": [],
   "source": [
    "# Media Código Postal de Gasolina 95 E5\n",
    "def cp_media_95(x):\n",
    "# x = Código Postal\n",
    "    cod_postal = df_n[df_n['C.P.'] == x]\n",
    "    media_cp_G95 = cod_postal[['Gasolina 95 E5']].mean()\n",
    "    return media_cp_G95"
   ]
  },
  {
   "cell_type": "code",
   "execution_count": 115,
   "id": "f61528f9",
   "metadata": {},
   "outputs": [],
   "source": [
    "# Media Código Postal de Gasolina 98 E5\n",
    "def cp_media_98(x):\n",
    "# x = Código Postal\n",
    "    cod_postal = df_n[df_n['C.P.'] == x]\n",
    "    media_cp_G98 = cod_postal[['Gasolina 98 E5']].mean()\n",
    "    return media_cp_G98"
   ]
  },
  {
   "cell_type": "code",
   "execution_count": 116,
   "id": "14655438",
   "metadata": {
    "scrolled": true
   },
   "outputs": [
    {
     "data": {
      "text/plain": [
       "Gasolina 95 E5    1.542571\n",
       "dtype: float64"
      ]
     },
     "execution_count": 116,
     "metadata": {},
     "output_type": "execute_result"
    }
   ],
   "source": [
    "# Comprobación\n",
    "cp_media_95('28760')"
   ]
  },
  {
   "cell_type": "code",
   "execution_count": 117,
   "id": "2c36f287",
   "metadata": {},
   "outputs": [],
   "source": [
    "# Aplicamos la función a la columna\n",
    "df_n[['Media C.P. Gasoleo A']]= df_n['C.P.'].apply(cp_media_A)\n",
    "df_n[['Media C.P. Gasoleo B']]= df_n['C.P.'].apply(cp_media_B)\n",
    "df_n[['Media C.P. Gasoleo P']]= df_n['C.P.'].apply(cp_media_P)\n",
    "df_n[['Media C.P. Gasolina 95']]= df_n['C.P.'].apply(cp_media_95)\n",
    "df_n[['Media C.P. Gasolina 98']]= df_n['C.P.'].apply(cp_media_98)"
   ]
  },
  {
   "cell_type": "code",
   "execution_count": 118,
   "id": "52c69724",
   "metadata": {
    "scrolled": true
   },
   "outputs": [
    {
     "data": {
      "text/html": [
       "<div>\n",
       "<style scoped>\n",
       "    .dataframe tbody tr th:only-of-type {\n",
       "        vertical-align: middle;\n",
       "    }\n",
       "\n",
       "    .dataframe tbody tr th {\n",
       "        vertical-align: top;\n",
       "    }\n",
       "\n",
       "    .dataframe thead th {\n",
       "        text-align: right;\n",
       "    }\n",
       "</style>\n",
       "<table border=\"1\" class=\"dataframe\">\n",
       "  <thead>\n",
       "    <tr style=\"text-align: right;\">\n",
       "      <th></th>\n",
       "      <th>Fecha</th>\n",
       "      <th>C.P.</th>\n",
       "      <th>Dirección</th>\n",
       "      <th>Horario</th>\n",
       "      <th>Latitud</th>\n",
       "      <th>Localidad</th>\n",
       "      <th>Longitud (WGS84)</th>\n",
       "      <th>Municipio</th>\n",
       "      <th>Gasoleo A</th>\n",
       "      <th>Gasoleo B</th>\n",
       "      <th>...</th>\n",
       "      <th>Media Nacional Gasoleo A</th>\n",
       "      <th>Media Nacional Gasoleo B</th>\n",
       "      <th>Media Nacional Gasoleo P</th>\n",
       "      <th>Media Nacional Gasolina 95</th>\n",
       "      <th>Media Nacional Gasolina 98</th>\n",
       "      <th>Media C.P. Gasoleo A</th>\n",
       "      <th>Media C.P. Gasoleo B</th>\n",
       "      <th>Media C.P. Gasoleo P</th>\n",
       "      <th>Media C.P. Gasolina 95</th>\n",
       "      <th>Media C.P. Gasolina 98</th>\n",
       "    </tr>\n",
       "  </thead>\n",
       "  <tbody>\n",
       "    <tr>\n",
       "      <th>0</th>\n",
       "      <td>10/05/2023 20:06:24</td>\n",
       "      <td>02250</td>\n",
       "      <td>AVENIDA CASTILLA LA MANCHA, 26</td>\n",
       "      <td>L-D: 07:00-22:00</td>\n",
       "      <td>39,211417</td>\n",
       "      <td>ABENGIBRE</td>\n",
       "      <td>-1,539167</td>\n",
       "      <td>Abengibre</td>\n",
       "      <td>1.379</td>\n",
       "      <td>1.039</td>\n",
       "      <td>...</td>\n",
       "      <td>1.411706</td>\n",
       "      <td>1.133852</td>\n",
       "      <td>1.51336</td>\n",
       "      <td>1.574223</td>\n",
       "      <td>1.730032</td>\n",
       "      <td>1.37900</td>\n",
       "      <td>1.039</td>\n",
       "      <td>1.039</td>\n",
       "      <td>1.559</td>\n",
       "      <td>NaN</td>\n",
       "    </tr>\n",
       "    <tr>\n",
       "      <th>1</th>\n",
       "      <td>10/05/2023 20:06:24</td>\n",
       "      <td>02001</td>\n",
       "      <td>AVENIDA 1º DE MAYO, S/N</td>\n",
       "      <td>L-S: 08:00-22:00; D: 09:00-21:00</td>\n",
       "      <td>38,985667</td>\n",
       "      <td>ALBACETE</td>\n",
       "      <td>-1,868500</td>\n",
       "      <td>Albacete</td>\n",
       "      <td>1.439</td>\n",
       "      <td>NaN</td>\n",
       "      <td>...</td>\n",
       "      <td>1.411706</td>\n",
       "      <td>1.133852</td>\n",
       "      <td>1.51336</td>\n",
       "      <td>1.574223</td>\n",
       "      <td>1.730032</td>\n",
       "      <td>1.41175</td>\n",
       "      <td>NaN</td>\n",
       "      <td>NaN</td>\n",
       "      <td>1.539</td>\n",
       "      <td>1.73</td>\n",
       "    </tr>\n",
       "    <tr>\n",
       "      <th>2</th>\n",
       "      <td>10/05/2023 20:06:24</td>\n",
       "      <td>02001</td>\n",
       "      <td>CALLE PRINCIPE DE ASTURIAS (POLÍGONO DE ROMICA...</td>\n",
       "      <td>L-D: 06:00-21:30</td>\n",
       "      <td>39,054694</td>\n",
       "      <td>ALBACETE</td>\n",
       "      <td>-1,832000</td>\n",
       "      <td>Albacete</td>\n",
       "      <td>1.439</td>\n",
       "      <td>NaN</td>\n",
       "      <td>...</td>\n",
       "      <td>1.411706</td>\n",
       "      <td>1.133852</td>\n",
       "      <td>1.51336</td>\n",
       "      <td>1.574223</td>\n",
       "      <td>1.730032</td>\n",
       "      <td>1.41175</td>\n",
       "      <td>NaN</td>\n",
       "      <td>NaN</td>\n",
       "      <td>1.539</td>\n",
       "      <td>1.73</td>\n",
       "    </tr>\n",
       "    <tr>\n",
       "      <th>3</th>\n",
       "      <td>10/05/2023 20:06:24</td>\n",
       "      <td>02001</td>\n",
       "      <td>CALLE FEDERICO GARCIA LORCA, 5</td>\n",
       "      <td>L-S: 05:00-23:00</td>\n",
       "      <td>38,997722</td>\n",
       "      <td>ALBACETE</td>\n",
       "      <td>-1,846361</td>\n",
       "      <td>Albacete</td>\n",
       "      <td>1.480</td>\n",
       "      <td>NaN</td>\n",
       "      <td>...</td>\n",
       "      <td>1.411706</td>\n",
       "      <td>1.133852</td>\n",
       "      <td>1.51336</td>\n",
       "      <td>1.574223</td>\n",
       "      <td>1.730032</td>\n",
       "      <td>1.41175</td>\n",
       "      <td>NaN</td>\n",
       "      <td>NaN</td>\n",
       "      <td>1.539</td>\n",
       "      <td>1.73</td>\n",
       "    </tr>\n",
       "    <tr>\n",
       "      <th>4</th>\n",
       "      <td>10/05/2023 20:06:24</td>\n",
       "      <td>02001</td>\n",
       "      <td>CALLE FEDERICO GARCIA LORCA, 1</td>\n",
       "      <td>L-D: 24H</td>\n",
       "      <td>39,000861</td>\n",
       "      <td>ALBACETE</td>\n",
       "      <td>-1,849833</td>\n",
       "      <td>Albacete</td>\n",
       "      <td>1.289</td>\n",
       "      <td>NaN</td>\n",
       "      <td>...</td>\n",
       "      <td>1.411706</td>\n",
       "      <td>1.133852</td>\n",
       "      <td>1.51336</td>\n",
       "      <td>1.574223</td>\n",
       "      <td>1.730032</td>\n",
       "      <td>1.41175</td>\n",
       "      <td>NaN</td>\n",
       "      <td>NaN</td>\n",
       "      <td>1.539</td>\n",
       "      <td>1.73</td>\n",
       "    </tr>\n",
       "  </tbody>\n",
       "</table>\n",
       "<p>5 rows × 29 columns</p>\n",
       "</div>"
      ],
      "text/plain": [
       "                 Fecha   C.P.  \\\n",
       "0  10/05/2023 20:06:24  02250   \n",
       "1  10/05/2023 20:06:24  02001   \n",
       "2  10/05/2023 20:06:24  02001   \n",
       "3  10/05/2023 20:06:24  02001   \n",
       "4  10/05/2023 20:06:24  02001   \n",
       "\n",
       "                                           Dirección  \\\n",
       "0                     AVENIDA CASTILLA LA MANCHA, 26   \n",
       "1                            AVENIDA 1º DE MAYO, S/N   \n",
       "2  CALLE PRINCIPE DE ASTURIAS (POLÍGONO DE ROMICA...   \n",
       "3                     CALLE FEDERICO GARCIA LORCA, 5   \n",
       "4                     CALLE FEDERICO GARCIA LORCA, 1   \n",
       "\n",
       "                            Horario    Latitud  Localidad Longitud (WGS84)  \\\n",
       "0                  L-D: 07:00-22:00  39,211417  ABENGIBRE        -1,539167   \n",
       "1  L-S: 08:00-22:00; D: 09:00-21:00  38,985667   ALBACETE        -1,868500   \n",
       "2                  L-D: 06:00-21:30  39,054694   ALBACETE        -1,832000   \n",
       "3                  L-S: 05:00-23:00  38,997722   ALBACETE        -1,846361   \n",
       "4                          L-D: 24H  39,000861   ALBACETE        -1,849833   \n",
       "\n",
       "   Municipio  Gasoleo A  Gasoleo B  ...  Media Nacional Gasoleo A  \\\n",
       "0  Abengibre      1.379      1.039  ...                  1.411706   \n",
       "1   Albacete      1.439        NaN  ...                  1.411706   \n",
       "2   Albacete      1.439        NaN  ...                  1.411706   \n",
       "3   Albacete      1.480        NaN  ...                  1.411706   \n",
       "4   Albacete      1.289        NaN  ...                  1.411706   \n",
       "\n",
       "   Media Nacional Gasoleo B  Media Nacional Gasoleo P  \\\n",
       "0                  1.133852                   1.51336   \n",
       "1                  1.133852                   1.51336   \n",
       "2                  1.133852                   1.51336   \n",
       "3                  1.133852                   1.51336   \n",
       "4                  1.133852                   1.51336   \n",
       "\n",
       "  Media Nacional Gasolina 95 Media Nacional Gasolina 98 Media C.P. Gasoleo A  \\\n",
       "0                   1.574223                   1.730032              1.37900   \n",
       "1                   1.574223                   1.730032              1.41175   \n",
       "2                   1.574223                   1.730032              1.41175   \n",
       "3                   1.574223                   1.730032              1.41175   \n",
       "4                   1.574223                   1.730032              1.41175   \n",
       "\n",
       "  Media C.P. Gasoleo B Media C.P. Gasoleo P Media C.P. Gasolina 95  \\\n",
       "0                1.039                1.039                  1.559   \n",
       "1                  NaN                  NaN                  1.539   \n",
       "2                  NaN                  NaN                  1.539   \n",
       "3                  NaN                  NaN                  1.539   \n",
       "4                  NaN                  NaN                  1.539   \n",
       "\n",
       "   Media C.P. Gasolina 98  \n",
       "0                     NaN  \n",
       "1                    1.73  \n",
       "2                    1.73  \n",
       "3                    1.73  \n",
       "4                    1.73  \n",
       "\n",
       "[5 rows x 29 columns]"
      ]
     },
     "execution_count": 118,
     "metadata": {},
     "output_type": "execute_result"
    }
   ],
   "source": [
    "df_n.head()"
   ]
  },
  {
   "cell_type": "code",
   "execution_count": 119,
   "id": "fbc17dd0",
   "metadata": {},
   "outputs": [
    {
     "name": "stdout",
     "output_type": "stream",
     "text": [
      "<class 'pandas.core.frame.DataFrame'>\n",
      "RangeIndex: 11891 entries, 0 to 11890\n",
      "Data columns (total 29 columns):\n",
      " #   Column                      Non-Null Count  Dtype  \n",
      "---  ------                      --------------  -----  \n",
      " 0   Fecha                       11891 non-null  object \n",
      " 1   C.P.                        11891 non-null  object \n",
      " 2   Dirección                   11891 non-null  object \n",
      " 3   Horario                     11891 non-null  object \n",
      " 4   Latitud                     11891 non-null  object \n",
      " 5   Localidad                   11891 non-null  object \n",
      " 6   Longitud (WGS84)            11891 non-null  object \n",
      " 7   Municipio                   11891 non-null  object \n",
      " 8   Gasoleo A                   11538 non-null  float64\n",
      " 9   Gasoleo B                   3005 non-null   float64\n",
      " 10  Gasoleo Premium             7513 non-null   float64\n",
      " 11  Gasolina 95 E5              10732 non-null  float64\n",
      " 12  Gasolina 98 E5              5880 non-null   float64\n",
      " 13  Provincia                   11891 non-null  object \n",
      " 14  Proveedor de Servicio       11891 non-null  object \n",
      " 15  IDEESS                      11891 non-null  object \n",
      " 16  IDMunicipio                 11891 non-null  object \n",
      " 17  IDProvincia                 11891 non-null  object \n",
      " 18  IDCCAA                      11891 non-null  object \n",
      " 19  Media Nacional Gasoleo A    11891 non-null  float64\n",
      " 20  Media Nacional Gasoleo B    11891 non-null  float64\n",
      " 21  Media Nacional Gasoleo P    11891 non-null  float64\n",
      " 22  Media Nacional Gasolina 95  11891 non-null  float64\n",
      " 23  Media Nacional Gasolina 98  11891 non-null  float64\n",
      " 24  Media C.P. Gasoleo A        11803 non-null  float64\n",
      " 25  Media C.P. Gasoleo B        6029 non-null   float64\n",
      " 26  Media C.P. Gasoleo P        6029 non-null   float64\n",
      " 27  Media C.P. Gasolina 95      11630 non-null  float64\n",
      " 28  Media C.P. Gasolina 98      9630 non-null   float64\n",
      "dtypes: float64(15), object(14)\n",
      "memory usage: 2.6+ MB\n"
     ]
    }
   ],
   "source": [
    "df_n.info()"
   ]
  },
  {
   "cell_type": "code",
   "execution_count": 120,
   "id": "ea5c62a5",
   "metadata": {},
   "outputs": [
    {
     "data": {
      "text/html": [
       "<div>\n",
       "<style scoped>\n",
       "    .dataframe tbody tr th:only-of-type {\n",
       "        vertical-align: middle;\n",
       "    }\n",
       "\n",
       "    .dataframe tbody tr th {\n",
       "        vertical-align: top;\n",
       "    }\n",
       "\n",
       "    .dataframe thead th {\n",
       "        text-align: right;\n",
       "    }\n",
       "</style>\n",
       "<table border=\"1\" class=\"dataframe\">\n",
       "  <thead>\n",
       "    <tr style=\"text-align: right;\">\n",
       "      <th></th>\n",
       "      <th>Fecha</th>\n",
       "      <th>Horario</th>\n",
       "      <th>C.P.</th>\n",
       "      <th>Provincia</th>\n",
       "      <th>Municipio</th>\n",
       "      <th>Localidad</th>\n",
       "      <th>Dirección</th>\n",
       "      <th>Proveedor de Servicio</th>\n",
       "      <th>Gasoleo A</th>\n",
       "      <th>Media C.P. Gasoleo A</th>\n",
       "      <th>...</th>\n",
       "      <th>Media Nacional Gasoleo B</th>\n",
       "      <th>Gasoleo Premium</th>\n",
       "      <th>Media C.P. Gasoleo P</th>\n",
       "      <th>Media Nacional Gasoleo P</th>\n",
       "      <th>Gasolina 95 E5</th>\n",
       "      <th>Media C.P. Gasolina 95</th>\n",
       "      <th>Media Nacional Gasolina 95</th>\n",
       "      <th>Gasolina 98 E5</th>\n",
       "      <th>Media C.P. Gasolina 98</th>\n",
       "      <th>Media Nacional Gasolina 98</th>\n",
       "    </tr>\n",
       "  </thead>\n",
       "  <tbody>\n",
       "    <tr>\n",
       "      <th>0</th>\n",
       "      <td>10/05/2023 20:06:24</td>\n",
       "      <td>L-D: 07:00-22:00</td>\n",
       "      <td>02250</td>\n",
       "      <td>ALBACETE</td>\n",
       "      <td>Abengibre</td>\n",
       "      <td>ABENGIBRE</td>\n",
       "      <td>AVENIDA CASTILLA LA MANCHA, 26</td>\n",
       "      <td>Nº 10.935</td>\n",
       "      <td>1.379</td>\n",
       "      <td>1.379000</td>\n",
       "      <td>...</td>\n",
       "      <td>1.133852</td>\n",
       "      <td>NaN</td>\n",
       "      <td>1.039</td>\n",
       "      <td>1.51336</td>\n",
       "      <td>1.559</td>\n",
       "      <td>1.5590</td>\n",
       "      <td>1.574223</td>\n",
       "      <td>NaN</td>\n",
       "      <td>NaN</td>\n",
       "      <td>1.730032</td>\n",
       "    </tr>\n",
       "    <tr>\n",
       "      <th>1</th>\n",
       "      <td>10/05/2023 20:06:24</td>\n",
       "      <td>L-S: 08:00-22:00; D: 09:00-21:00</td>\n",
       "      <td>02001</td>\n",
       "      <td>ALBACETE</td>\n",
       "      <td>Albacete</td>\n",
       "      <td>ALBACETE</td>\n",
       "      <td>AVENIDA 1º DE MAYO, S/N</td>\n",
       "      <td>CARREFOUR</td>\n",
       "      <td>1.439</td>\n",
       "      <td>1.411750</td>\n",
       "      <td>...</td>\n",
       "      <td>1.133852</td>\n",
       "      <td>1.479</td>\n",
       "      <td>NaN</td>\n",
       "      <td>1.51336</td>\n",
       "      <td>1.589</td>\n",
       "      <td>1.5390</td>\n",
       "      <td>1.574223</td>\n",
       "      <td>1.729</td>\n",
       "      <td>1.730</td>\n",
       "      <td>1.730032</td>\n",
       "    </tr>\n",
       "    <tr>\n",
       "      <th>2</th>\n",
       "      <td>10/05/2023 20:06:24</td>\n",
       "      <td>L-D: 06:00-21:30</td>\n",
       "      <td>02001</td>\n",
       "      <td>ALBACETE</td>\n",
       "      <td>Albacete</td>\n",
       "      <td>ALBACETE</td>\n",
       "      <td>CALLE PRINCIPE DE ASTURIAS (POLÍGONO DE ROMICA...</td>\n",
       "      <td>BP ROMICA</td>\n",
       "      <td>1.439</td>\n",
       "      <td>1.411750</td>\n",
       "      <td>...</td>\n",
       "      <td>1.133852</td>\n",
       "      <td>1.529</td>\n",
       "      <td>NaN</td>\n",
       "      <td>1.51336</td>\n",
       "      <td>1.589</td>\n",
       "      <td>1.5390</td>\n",
       "      <td>1.574223</td>\n",
       "      <td>1.731</td>\n",
       "      <td>1.730</td>\n",
       "      <td>1.730032</td>\n",
       "    </tr>\n",
       "    <tr>\n",
       "      <th>3</th>\n",
       "      <td>10/05/2023 20:06:24</td>\n",
       "      <td>L-S: 05:00-23:00</td>\n",
       "      <td>02001</td>\n",
       "      <td>ALBACETE</td>\n",
       "      <td>Albacete</td>\n",
       "      <td>ALBACETE</td>\n",
       "      <td>CALLE FEDERICO GARCIA LORCA, 5</td>\n",
       "      <td>CEPSA</td>\n",
       "      <td>1.480</td>\n",
       "      <td>1.411750</td>\n",
       "      <td>...</td>\n",
       "      <td>1.133852</td>\n",
       "      <td>NaN</td>\n",
       "      <td>NaN</td>\n",
       "      <td>1.51336</td>\n",
       "      <td>NaN</td>\n",
       "      <td>1.5390</td>\n",
       "      <td>1.574223</td>\n",
       "      <td>NaN</td>\n",
       "      <td>1.730</td>\n",
       "      <td>1.730032</td>\n",
       "    </tr>\n",
       "    <tr>\n",
       "      <th>4</th>\n",
       "      <td>10/05/2023 20:06:24</td>\n",
       "      <td>L-D: 24H</td>\n",
       "      <td>02001</td>\n",
       "      <td>ALBACETE</td>\n",
       "      <td>Albacete</td>\n",
       "      <td>ALBACETE</td>\n",
       "      <td>CALLE FEDERICO GARCIA LORCA, 1</td>\n",
       "      <td>PLENOIL</td>\n",
       "      <td>1.289</td>\n",
       "      <td>1.411750</td>\n",
       "      <td>...</td>\n",
       "      <td>1.133852</td>\n",
       "      <td>NaN</td>\n",
       "      <td>NaN</td>\n",
       "      <td>1.51336</td>\n",
       "      <td>1.439</td>\n",
       "      <td>1.5390</td>\n",
       "      <td>1.574223</td>\n",
       "      <td>NaN</td>\n",
       "      <td>1.730</td>\n",
       "      <td>1.730032</td>\n",
       "    </tr>\n",
       "    <tr>\n",
       "      <th>...</th>\n",
       "      <td>...</td>\n",
       "      <td>...</td>\n",
       "      <td>...</td>\n",
       "      <td>...</td>\n",
       "      <td>...</td>\n",
       "      <td>...</td>\n",
       "      <td>...</td>\n",
       "      <td>...</td>\n",
       "      <td>...</td>\n",
       "      <td>...</td>\n",
       "      <td>...</td>\n",
       "      <td>...</td>\n",
       "      <td>...</td>\n",
       "      <td>...</td>\n",
       "      <td>...</td>\n",
       "      <td>...</td>\n",
       "      <td>...</td>\n",
       "      <td>...</td>\n",
       "      <td>...</td>\n",
       "      <td>...</td>\n",
       "      <td>...</td>\n",
       "    </tr>\n",
       "    <tr>\n",
       "      <th>11886</th>\n",
       "      <td>10/05/2023 20:06:24</td>\n",
       "      <td>L-D: 24H</td>\n",
       "      <td>50197</td>\n",
       "      <td>ZARAGOZA</td>\n",
       "      <td>Zaragoza</td>\n",
       "      <td>ZARAGOZA</td>\n",
       "      <td>RONDA RONDA DE LA FERIA DE MUESTRAS, 10</td>\n",
       "      <td>MOLGAS</td>\n",
       "      <td>NaN</td>\n",
       "      <td>1.472333</td>\n",
       "      <td>...</td>\n",
       "      <td>1.133852</td>\n",
       "      <td>NaN</td>\n",
       "      <td>1.200</td>\n",
       "      <td>1.51336</td>\n",
       "      <td>NaN</td>\n",
       "      <td>1.6290</td>\n",
       "      <td>1.574223</td>\n",
       "      <td>NaN</td>\n",
       "      <td>1.809</td>\n",
       "      <td>1.730032</td>\n",
       "    </tr>\n",
       "    <tr>\n",
       "      <th>11887</th>\n",
       "      <td>10/05/2023 20:06:24</td>\n",
       "      <td>L-D: 24H</td>\n",
       "      <td>50197</td>\n",
       "      <td>ZARAGOZA</td>\n",
       "      <td>Zaragoza</td>\n",
       "      <td>ZARAGOZA</td>\n",
       "      <td>POLIGONO CALLE TURIASO, 31</td>\n",
       "      <td>NOIL</td>\n",
       "      <td>1.499</td>\n",
       "      <td>1.472333</td>\n",
       "      <td>...</td>\n",
       "      <td>1.133852</td>\n",
       "      <td>NaN</td>\n",
       "      <td>1.200</td>\n",
       "      <td>1.51336</td>\n",
       "      <td>NaN</td>\n",
       "      <td>1.6290</td>\n",
       "      <td>1.574223</td>\n",
       "      <td>NaN</td>\n",
       "      <td>1.809</td>\n",
       "      <td>1.730032</td>\n",
       "    </tr>\n",
       "    <tr>\n",
       "      <th>11888</th>\n",
       "      <td>10/05/2023 20:06:24</td>\n",
       "      <td>L-D: 06:00-22:00</td>\n",
       "      <td>50800</td>\n",
       "      <td>ZARAGOZA</td>\n",
       "      <td>Zuera</td>\n",
       "      <td>ZUERA</td>\n",
       "      <td>CARRETERA N-330A KM. 24,000</td>\n",
       "      <td>REPSOL</td>\n",
       "      <td>1.439</td>\n",
       "      <td>1.391000</td>\n",
       "      <td>...</td>\n",
       "      <td>1.133852</td>\n",
       "      <td>1.489</td>\n",
       "      <td>1.023</td>\n",
       "      <td>1.51336</td>\n",
       "      <td>1.599</td>\n",
       "      <td>1.5565</td>\n",
       "      <td>1.574223</td>\n",
       "      <td>1.729</td>\n",
       "      <td>1.729</td>\n",
       "      <td>1.730032</td>\n",
       "    </tr>\n",
       "    <tr>\n",
       "      <th>11889</th>\n",
       "      <td>10/05/2023 20:06:24</td>\n",
       "      <td>L-D: 24H</td>\n",
       "      <td>50800</td>\n",
       "      <td>ZARAGOZA</td>\n",
       "      <td>Zuera</td>\n",
       "      <td>ZUERA</td>\n",
       "      <td>CALLE AUSTRIA, 11,17</td>\n",
       "      <td>AN ENERGETICOS ZUERA</td>\n",
       "      <td>1.343</td>\n",
       "      <td>1.391000</td>\n",
       "      <td>...</td>\n",
       "      <td>1.133852</td>\n",
       "      <td>1.383</td>\n",
       "      <td>1.023</td>\n",
       "      <td>1.51336</td>\n",
       "      <td>1.514</td>\n",
       "      <td>1.5565</td>\n",
       "      <td>1.574223</td>\n",
       "      <td>NaN</td>\n",
       "      <td>1.729</td>\n",
       "      <td>1.730032</td>\n",
       "    </tr>\n",
       "    <tr>\n",
       "      <th>11890</th>\n",
       "      <td>10/05/2023 20:06:24</td>\n",
       "      <td>L-D: 24H</td>\n",
       "      <td>50810</td>\n",
       "      <td>ZARAGOZA</td>\n",
       "      <td>Zuera</td>\n",
       "      <td>ONTINAR DE SALZ</td>\n",
       "      <td>CALLE COOPERATIVA, 2</td>\n",
       "      <td>COOPERATIVA SAN ISIDRO</td>\n",
       "      <td>1.389</td>\n",
       "      <td>1.389000</td>\n",
       "      <td>...</td>\n",
       "      <td>1.133852</td>\n",
       "      <td>1.429</td>\n",
       "      <td>0.890</td>\n",
       "      <td>1.51336</td>\n",
       "      <td>1.569</td>\n",
       "      <td>1.5690</td>\n",
       "      <td>1.574223</td>\n",
       "      <td>NaN</td>\n",
       "      <td>NaN</td>\n",
       "      <td>1.730032</td>\n",
       "    </tr>\n",
       "  </tbody>\n",
       "</table>\n",
       "<p>11891 rows × 23 columns</p>\n",
       "</div>"
      ],
      "text/plain": [
       "                     Fecha                           Horario   C.P. Provincia  \\\n",
       "0      10/05/2023 20:06:24                  L-D: 07:00-22:00  02250  ALBACETE   \n",
       "1      10/05/2023 20:06:24  L-S: 08:00-22:00; D: 09:00-21:00  02001  ALBACETE   \n",
       "2      10/05/2023 20:06:24                  L-D: 06:00-21:30  02001  ALBACETE   \n",
       "3      10/05/2023 20:06:24                  L-S: 05:00-23:00  02001  ALBACETE   \n",
       "4      10/05/2023 20:06:24                          L-D: 24H  02001  ALBACETE   \n",
       "...                    ...                               ...    ...       ...   \n",
       "11886  10/05/2023 20:06:24                          L-D: 24H  50197  ZARAGOZA   \n",
       "11887  10/05/2023 20:06:24                          L-D: 24H  50197  ZARAGOZA   \n",
       "11888  10/05/2023 20:06:24                  L-D: 06:00-22:00  50800  ZARAGOZA   \n",
       "11889  10/05/2023 20:06:24                          L-D: 24H  50800  ZARAGOZA   \n",
       "11890  10/05/2023 20:06:24                          L-D: 24H  50810  ZARAGOZA   \n",
       "\n",
       "       Municipio        Localidad  \\\n",
       "0      Abengibre        ABENGIBRE   \n",
       "1       Albacete         ALBACETE   \n",
       "2       Albacete         ALBACETE   \n",
       "3       Albacete         ALBACETE   \n",
       "4       Albacete         ALBACETE   \n",
       "...          ...              ...   \n",
       "11886   Zaragoza         ZARAGOZA   \n",
       "11887   Zaragoza         ZARAGOZA   \n",
       "11888      Zuera            ZUERA   \n",
       "11889      Zuera            ZUERA   \n",
       "11890      Zuera  ONTINAR DE SALZ   \n",
       "\n",
       "                                               Dirección  \\\n",
       "0                         AVENIDA CASTILLA LA MANCHA, 26   \n",
       "1                                AVENIDA 1º DE MAYO, S/N   \n",
       "2      CALLE PRINCIPE DE ASTURIAS (POLÍGONO DE ROMICA...   \n",
       "3                         CALLE FEDERICO GARCIA LORCA, 5   \n",
       "4                         CALLE FEDERICO GARCIA LORCA, 1   \n",
       "...                                                  ...   \n",
       "11886            RONDA RONDA DE LA FERIA DE MUESTRAS, 10   \n",
       "11887                         POLIGONO CALLE TURIASO, 31   \n",
       "11888                        CARRETERA N-330A KM. 24,000   \n",
       "11889                               CALLE AUSTRIA, 11,17   \n",
       "11890                               CALLE COOPERATIVA, 2   \n",
       "\n",
       "        Proveedor de Servicio  Gasoleo A  Media C.P. Gasoleo A  ...  \\\n",
       "0                   Nº 10.935      1.379              1.379000  ...   \n",
       "1                   CARREFOUR      1.439              1.411750  ...   \n",
       "2                   BP ROMICA      1.439              1.411750  ...   \n",
       "3                       CEPSA      1.480              1.411750  ...   \n",
       "4                     PLENOIL      1.289              1.411750  ...   \n",
       "...                       ...        ...                   ...  ...   \n",
       "11886                  MOLGAS        NaN              1.472333  ...   \n",
       "11887                    NOIL      1.499              1.472333  ...   \n",
       "11888                  REPSOL      1.439              1.391000  ...   \n",
       "11889    AN ENERGETICOS ZUERA      1.343              1.391000  ...   \n",
       "11890  COOPERATIVA SAN ISIDRO      1.389              1.389000  ...   \n",
       "\n",
       "       Media Nacional Gasoleo B  Gasoleo Premium  Media C.P. Gasoleo P  \\\n",
       "0                      1.133852              NaN                 1.039   \n",
       "1                      1.133852            1.479                   NaN   \n",
       "2                      1.133852            1.529                   NaN   \n",
       "3                      1.133852              NaN                   NaN   \n",
       "4                      1.133852              NaN                   NaN   \n",
       "...                         ...              ...                   ...   \n",
       "11886                  1.133852              NaN                 1.200   \n",
       "11887                  1.133852              NaN                 1.200   \n",
       "11888                  1.133852            1.489                 1.023   \n",
       "11889                  1.133852            1.383                 1.023   \n",
       "11890                  1.133852            1.429                 0.890   \n",
       "\n",
       "       Media Nacional Gasoleo P  Gasolina 95 E5  Media C.P. Gasolina 95  \\\n",
       "0                       1.51336           1.559                  1.5590   \n",
       "1                       1.51336           1.589                  1.5390   \n",
       "2                       1.51336           1.589                  1.5390   \n",
       "3                       1.51336             NaN                  1.5390   \n",
       "4                       1.51336           1.439                  1.5390   \n",
       "...                         ...             ...                     ...   \n",
       "11886                   1.51336             NaN                  1.6290   \n",
       "11887                   1.51336             NaN                  1.6290   \n",
       "11888                   1.51336           1.599                  1.5565   \n",
       "11889                   1.51336           1.514                  1.5565   \n",
       "11890                   1.51336           1.569                  1.5690   \n",
       "\n",
       "       Media Nacional Gasolina 95  Gasolina 98 E5  Media C.P. Gasolina 98  \\\n",
       "0                        1.574223             NaN                     NaN   \n",
       "1                        1.574223           1.729                   1.730   \n",
       "2                        1.574223           1.731                   1.730   \n",
       "3                        1.574223             NaN                   1.730   \n",
       "4                        1.574223             NaN                   1.730   \n",
       "...                           ...             ...                     ...   \n",
       "11886                    1.574223             NaN                   1.809   \n",
       "11887                    1.574223             NaN                   1.809   \n",
       "11888                    1.574223           1.729                   1.729   \n",
       "11889                    1.574223             NaN                   1.729   \n",
       "11890                    1.574223             NaN                     NaN   \n",
       "\n",
       "       Media Nacional Gasolina 98  \n",
       "0                        1.730032  \n",
       "1                        1.730032  \n",
       "2                        1.730032  \n",
       "3                        1.730032  \n",
       "4                        1.730032  \n",
       "...                           ...  \n",
       "11886                    1.730032  \n",
       "11887                    1.730032  \n",
       "11888                    1.730032  \n",
       "11889                    1.730032  \n",
       "11890                    1.730032  \n",
       "\n",
       "[11891 rows x 23 columns]"
      ]
     },
     "execution_count": 120,
     "metadata": {},
     "output_type": "execute_result"
    }
   ],
   "source": [
    "#Ordenamos columnas\n",
    "df_n = df_n[['Fecha', 'Horario', 'C.P.','Provincia','Municipio','Localidad', 'Dirección', 'Proveedor de Servicio', \n",
    "             'Gasoleo A', 'Media C.P. Gasoleo A', 'Media Nacional Gasoleo A', \n",
    "             'Gasoleo B', 'Media C.P. Gasoleo B','Media Nacional Gasoleo B', \n",
    "             'Gasoleo Premium','Media C.P. Gasoleo P', 'Media Nacional Gasoleo P', \n",
    "             'Gasolina 95 E5', 'Media C.P. Gasolina 95','Media Nacional Gasolina 95', \n",
    "             'Gasolina 98 E5', 'Media C.P. Gasolina 98','Media Nacional Gasolina 98']]\n",
    "df_n"
   ]
  },
  {
   "cell_type": "markdown",
   "id": "0bf5e02c",
   "metadata": {},
   "source": [
    "# Limpieza de Nombres en \"Proveedores de servicio"
   ]
  },
  {
   "cell_type": "code",
   "execution_count": 121,
   "id": "475ac1f9",
   "metadata": {},
   "outputs": [],
   "source": [
    "# Misma marca de gasolineras con nombres diferentes\n",
    "df_n = df_n.sort_values('Proveedor de Servicio')\n",
    "\n",
    "\n",
    "\n"
   ]
  },
  {
   "cell_type": "code",
   "execution_count": 122,
   "id": "8ad906f2",
   "metadata": {},
   "outputs": [],
   "source": [
    "df_n[\"Proveedor de Servicio\"] = df_n[\"Proveedor de Servicio\"] .astype(str)\n"
   ]
  },
  {
   "cell_type": "code",
   "execution_count": 123,
   "id": "9a9221f8",
   "metadata": {},
   "outputs": [
    {
     "name": "stdout",
     "output_type": "stream",
     "text": [
      "<class 'pandas.core.frame.DataFrame'>\n",
      "Int64Index: 11891 entries, 2930 to 11087\n",
      "Data columns (total 23 columns):\n",
      " #   Column                      Non-Null Count  Dtype  \n",
      "---  ------                      --------------  -----  \n",
      " 0   Fecha                       11891 non-null  object \n",
      " 1   Horario                     11891 non-null  object \n",
      " 2   C.P.                        11891 non-null  object \n",
      " 3   Provincia                   11891 non-null  object \n",
      " 4   Municipio                   11891 non-null  object \n",
      " 5   Localidad                   11891 non-null  object \n",
      " 6   Dirección                   11891 non-null  object \n",
      " 7   Proveedor de Servicio       11891 non-null  object \n",
      " 8   Gasoleo A                   11538 non-null  float64\n",
      " 9   Media C.P. Gasoleo A        11803 non-null  float64\n",
      " 10  Media Nacional Gasoleo A    11891 non-null  float64\n",
      " 11  Gasoleo B                   3005 non-null   float64\n",
      " 12  Media C.P. Gasoleo B        6029 non-null   float64\n",
      " 13  Media Nacional Gasoleo B    11891 non-null  float64\n",
      " 14  Gasoleo Premium             7513 non-null   float64\n",
      " 15  Media C.P. Gasoleo P        6029 non-null   float64\n",
      " 16  Media Nacional Gasoleo P    11891 non-null  float64\n",
      " 17  Gasolina 95 E5              10732 non-null  float64\n",
      " 18  Media C.P. Gasolina 95      11630 non-null  float64\n",
      " 19  Media Nacional Gasolina 95  11891 non-null  float64\n",
      " 20  Gasolina 98 E5              5880 non-null   float64\n",
      " 21  Media C.P. Gasolina 98      9630 non-null   float64\n",
      " 22  Media Nacional Gasolina 98  11891 non-null  float64\n",
      "dtypes: float64(15), object(8)\n",
      "memory usage: 2.2+ MB\n"
     ]
    }
   ],
   "source": [
    "df_n.info()"
   ]
  },
  {
   "cell_type": "code",
   "execution_count": 124,
   "id": "0bf6201c",
   "metadata": {},
   "outputs": [],
   "source": [
    "df_n['Proveedor de Servicio'] = df_n['Proveedor de Servicio'].astype('string')"
   ]
  },
  {
   "cell_type": "code",
   "execution_count": 125,
   "id": "b06c794d",
   "metadata": {},
   "outputs": [
    {
     "name": "stdout",
     "output_type": "stream",
     "text": [
      "<class 'pandas.core.frame.DataFrame'>\n",
      "Int64Index: 11891 entries, 2930 to 11087\n",
      "Data columns (total 23 columns):\n",
      " #   Column                      Non-Null Count  Dtype  \n",
      "---  ------                      --------------  -----  \n",
      " 0   Fecha                       11891 non-null  object \n",
      " 1   Horario                     11891 non-null  object \n",
      " 2   C.P.                        11891 non-null  object \n",
      " 3   Provincia                   11891 non-null  object \n",
      " 4   Municipio                   11891 non-null  object \n",
      " 5   Localidad                   11891 non-null  object \n",
      " 6   Dirección                   11891 non-null  object \n",
      " 7   Proveedor de Servicio       11891 non-null  string \n",
      " 8   Gasoleo A                   11538 non-null  float64\n",
      " 9   Media C.P. Gasoleo A        11803 non-null  float64\n",
      " 10  Media Nacional Gasoleo A    11891 non-null  float64\n",
      " 11  Gasoleo B                   3005 non-null   float64\n",
      " 12  Media C.P. Gasoleo B        6029 non-null   float64\n",
      " 13  Media Nacional Gasoleo B    11891 non-null  float64\n",
      " 14  Gasoleo Premium             7513 non-null   float64\n",
      " 15  Media C.P. Gasoleo P        6029 non-null   float64\n",
      " 16  Media Nacional Gasoleo P    11891 non-null  float64\n",
      " 17  Gasolina 95 E5              10732 non-null  float64\n",
      " 18  Media C.P. Gasolina 95      11630 non-null  float64\n",
      " 19  Media Nacional Gasolina 95  11891 non-null  float64\n",
      " 20  Gasolina 98 E5              5880 non-null   float64\n",
      " 21  Media C.P. Gasolina 98      9630 non-null   float64\n",
      " 22  Media Nacional Gasolina 98  11891 non-null  float64\n",
      "dtypes: float64(15), object(7), string(1)\n",
      "memory usage: 2.2+ MB\n"
     ]
    }
   ],
   "source": [
    "df_n.info()"
   ]
  },
  {
   "cell_type": "code",
   "execution_count": 126,
   "id": "e6e60694",
   "metadata": {},
   "outputs": [
    {
     "name": "stderr",
     "output_type": "stream",
     "text": [
      "C:\\Users\\abarr\\AppData\\Local\\Temp\\ipykernel_5844\\4048511181.py:2: FutureWarning: The default value of regex will change from True to False in a future version. In addition, single character regular expressions will *not* be treated as literal strings when regex=True.\n",
      "  df_n['Proveedor de Servicio'] = df_n['Proveedor de Servicio'].str.replace('.', ' ')\n",
      "C:\\Users\\abarr\\AppData\\Local\\Temp\\ipykernel_5844\\4048511181.py:4: FutureWarning: The default value of regex will change from True to False in a future version.\n",
      "  df_n['Proveedor de Servicio'] = df_n['Proveedor de Servicio'].str.replace('BP \\S*', 'BP')\n",
      "C:\\Users\\abarr\\AppData\\Local\\Temp\\ipykernel_5844\\4048511181.py:5: FutureWarning: The default value of regex will change from True to False in a future version.\n",
      "  df_n['Proveedor de Servicio'] = df_n['Proveedor de Servicio'].str.replace('BP \\S[a-zA-Z0-9_]*', 'BP')\n",
      "C:\\Users\\abarr\\AppData\\Local\\Temp\\ipykernel_5844\\4048511181.py:6: FutureWarning: The default value of regex will change from True to False in a future version.\n",
      "  df_n['Proveedor de Servicio'] = df_n['Proveedor de Servicio'].str.replace('BPS \\S*', 'BP')\n",
      "C:\\Users\\abarr\\AppData\\Local\\Temp\\ipykernel_5844\\4048511181.py:7: FutureWarning: The default value of regex will change from True to False in a future version.\n",
      "  df_n['Proveedor de Servicio'] = df_n['Proveedor de Servicio'].str.replace('BPS \\S[a-zA-Z0-9_]*', 'BP')\n",
      "C:\\Users\\abarr\\AppData\\Local\\Temp\\ipykernel_5844\\4048511181.py:8: FutureWarning: The default value of regex will change from True to False in a future version.\n",
      "  df_n['Proveedor de Servicio'] = df_n['Proveedor de Servicio'].str.replace('BP\\w*', 'BP')\n",
      "C:\\Users\\abarr\\AppData\\Local\\Temp\\ipykernel_5844\\4048511181.py:22: FutureWarning: The default value of regex will change from True to False in a future version.\n",
      "  df_n['Proveedor de Servicio'] = df_n['Proveedor de Servicio'].str.replace('BP ROTONDA LAS VAGUADAS S.L.', 'BP')\n",
      "C:\\Users\\abarr\\AppData\\Local\\Temp\\ipykernel_5844\\4048511181.py:24: FutureWarning: The default value of regex will change from True to False in a future version.\n",
      "  df_n['Proveedor de Servicio'] = df_n['Proveedor de Servicio'].str.replace('BPPROPERLY, S.A.', 'BP')\n",
      "C:\\Users\\abarr\\AppData\\Local\\Temp\\ipykernel_5844\\4048511181.py:28: FutureWarning: The default value of regex will change from True to False in a future version.\n",
      "  df_n['Proveedor de Servicio'] = df_n['Proveedor de Servicio'].str.replace('(sin rótulo)', 'OTROS')\n",
      "C:\\Users\\abarr\\AppData\\Local\\Temp\\ipykernel_5844\\4048511181.py:29: FutureWarning: The default value of regex will change from True to False in a future version. In addition, single character regular expressions will *not* be treated as literal strings when regex=True.\n",
      "  df_n['Proveedor de Servicio'] = df_n['Proveedor de Servicio'].str.replace('*', 'OTROS')\n",
      "C:\\Users\\abarr\\AppData\\Local\\Temp\\ipykernel_5844\\4048511181.py:47: FutureWarning: The default value of regex will change from True to False in a future version.\n",
      "  df_n['Proveedor de Servicio'] = df_n['Proveedor de Servicio'].str.replace('OTROS \\S*', 'OTROS')\n",
      "C:\\Users\\abarr\\AppData\\Local\\Temp\\ipykernel_5844\\4048511181.py:48: FutureWarning: The default value of regex will change from True to False in a future version.\n",
      "  df_n['Proveedor de Servicio'] = df_n['Proveedor de Servicio'].str.replace('OTROS \\S[a-zA-Z0-9_]*', 'OTROS')\n",
      "C:\\Users\\abarr\\AppData\\Local\\Temp\\ipykernel_5844\\4048511181.py:49: FutureWarning: The default value of regex will change from True to False in a future version.\n",
      "  df_n['Proveedor de Servicio'] = df_n['Proveedor de Servicio'].str.replace('OTROS \\S[a-zA-Z0-9_]*\\S[a-zA-Z0-9_]*', 'OTROS')\n",
      "C:\\Users\\abarr\\AppData\\Local\\Temp\\ipykernel_5844\\4048511181.py:51: FutureWarning: The default value of regex will change from True to False in a future version.\n",
      "  df_n['Proveedor de Servicio'] = df_n['Proveedor de Servicio'].str.replace('OTROS\\w*', 'OTROS')\n",
      "C:\\Users\\abarr\\AppData\\Local\\Temp\\ipykernel_5844\\4048511181.py:52: FutureWarning: The default value of regex will change from True to False in a future version.\n",
      "  df_n['Proveedor de Servicio'] = df_n['Proveedor de Servicio'].str.replace('OTROS \\S*', 'OTROS')\n",
      "C:\\Users\\abarr\\AppData\\Local\\Temp\\ipykernel_5844\\4048511181.py:53: FutureWarning: The default value of regex will change from True to False in a future version.\n",
      "  df_n['Proveedor de Servicio'] = df_n['Proveedor de Servicio'].str.replace('\\S* OTROS ', 'OTROS')\n",
      "C:\\Users\\abarr\\AppData\\Local\\Temp\\ipykernel_5844\\4048511181.py:54: FutureWarning: The default value of regex will change from True to False in a future version.\n",
      "  df_n['Proveedor de Servicio'] = df_n['Proveedor de Servicio'].str.replace('\\S*(OTROS)\\S*', 'OTROS')\n",
      "C:\\Users\\abarr\\AppData\\Local\\Temp\\ipykernel_5844\\4048511181.py:57: FutureWarning: The default value of regex will change from True to False in a future version.\n",
      "  df_n['Proveedor de Servicio'] = df_n['Proveedor de Servicio'].str.replace('INLOCOR S.L. \"CEPSA\"', 'CEPSA')\n",
      "C:\\Users\\abarr\\AppData\\Local\\Temp\\ipykernel_5844\\4048511181.py:58: FutureWarning: The default value of regex will change from True to False in a future version.\n",
      "  df_n['Proveedor de Servicio'] = df_n['Proveedor de Servicio'].str.replace('REPSOL. LOS ANGELES DE LA MANCHA, S.L.', 'REPSOL')\n",
      "C:\\Users\\abarr\\AppData\\Local\\Temp\\ipykernel_5844\\4048511181.py:88: FutureWarning: The default value of regex will change from True to False in a future version.\n",
      "  df_n['Proveedor de Servicio'] = df_n['Proveedor de Servicio'].str.replace('CEPSA . LOHANA', 'CEPSA')\n",
      "C:\\Users\\abarr\\AppData\\Local\\Temp\\ipykernel_5844\\4048511181.py:109: FutureWarning: The default value of regex will change from True to False in a future version.\n",
      "  df_n['Proveedor de Servicio'] = df_n['Proveedor de Servicio'].str.replace('CEPSAGLTA.EL CID', 'CEPSA')\n",
      "C:\\Users\\abarr\\AppData\\Local\\Temp\\ipykernel_5844\\4048511181.py:111: FutureWarning: The default value of regex will change from True to False in a future version.\n",
      "  df_n['Proveedor de Servicio'] = df_n['Proveedor de Servicio'].str.replace('CEPSAESPAÑA S.A.', 'CEPSA')\n",
      "C:\\Users\\abarr\\AppData\\Local\\Temp\\ipykernel_5844\\4048511181.py:123: FutureWarning: The default value of regex will change from True to False in a future version.\n",
      "  df_n['Proveedor de Servicio'] = df_n['Proveedor de Servicio'].str.replace('CEPSAOTROSE.S. ROCA', 'CEPSA')\n",
      "C:\\Users\\abarr\\AppData\\Local\\Temp\\ipykernel_5844\\4048511181.py:125: FutureWarning: The default value of regex will change from True to False in a future version.\n",
      "  df_n['Proveedor de Servicio'] = df_n['Proveedor de Servicio'].str.replace('CEPSAOTROSE.S.JAIME I', 'CEPSA')\n",
      "C:\\Users\\abarr\\AppData\\Local\\Temp\\ipykernel_5844\\4048511181.py:128: FutureWarning: The default value of regex will change from True to False in a future version.\n",
      "  df_n['Proveedor de Servicio'] = df_n['Proveedor de Servicio'].str.replace('CEPSAOTROS ANTELA E.S.', 'CEPSA')\n",
      "C:\\Users\\abarr\\AppData\\Local\\Temp\\ipykernel_5844\\4048511181.py:130: FutureWarning: The default value of regex will change from True to False in a future version.\n",
      "  df_n['Proveedor de Servicio'] = df_n['Proveedor de Servicio'].str.replace('CEPSAOPER CANARIOS S,L.', 'CEPSA')\n",
      "C:\\Users\\abarr\\AppData\\Local\\Temp\\ipykernel_5844\\4048511181.py:131: FutureWarning: The default value of regex will change from True to False in a future version.\n",
      "  df_n['Proveedor de Servicio'] = df_n['Proveedor de Servicio'].str.replace('CEPSATAXISTAS S.AGUSTIN', 'CEPSA')\n",
      "C:\\Users\\abarr\\AppData\\Local\\Temp\\ipykernel_5844\\4048511181.py:132: FutureWarning: The default value of regex will change from True to False in a future version.\n",
      "  df_n['Proveedor de Servicio'] = df_n['Proveedor de Servicio'].str.replace('CEPSAOTROSARROCEROS B.G.', 'CEPSA')\n",
      "C:\\Users\\abarr\\AppData\\Local\\Temp\\ipykernel_5844\\4048511181.py:135: FutureWarning: The default value of regex will change from True to False in a future version.\n",
      "  df_n['Proveedor de Servicio'] = df_n['Proveedor de Servicio'].str.replace('CEPSALAS TORRES (TEXACO)', 'CEPSA')\n",
      "C:\\Users\\abarr\\AppData\\Local\\Temp\\ipykernel_5844\\4048511181.py:136: FutureWarning: The default value of regex will change from True to False in a future version.\n",
      "  df_n['Proveedor de Servicio'] = df_n['Proveedor de Servicio'].str.replace('CEPSAOPER CANARIOS S,L.', 'CEPSA')\n",
      "C:\\Users\\abarr\\AppData\\Local\\Temp\\ipykernel_5844\\4048511181.py:137: FutureWarning: The default value of regex will change from True to False in a future version.\n",
      "  df_n['Proveedor de Servicio'] = df_n['Proveedor de Servicio'].str.replace('CEPSAOTROSLA DEHESA S.C.A.', 'CEPSA')\n",
      "C:\\Users\\abarr\\AppData\\Local\\Temp\\ipykernel_5844\\4048511181.py:138: FutureWarning: The default value of regex will change from True to False in a future version.\n",
      "  df_n['Proveedor de Servicio'] = df_n['Proveedor de Servicio'].str.replace('CEPSALOS PORTALES (TEXACO)', 'CEPSA')\n",
      "C:\\Users\\abarr\\AppData\\Local\\Temp\\ipykernel_5844\\4048511181.py:140: FutureWarning: The default value of regex will change from True to False in a future version.\n",
      "  df_n['Proveedor de Servicio'] = df_n['Proveedor de Servicio'].str.replace('CEPSAOTROSCOOP. SAN DIONISIO', 'CEPSA')\n",
      "C:\\Users\\abarr\\AppData\\Local\\Temp\\ipykernel_5844\\4048511181.py:143: FutureWarning: The default value of regex will change from True to False in a future version.\n",
      "  df_n['Proveedor de Servicio'] = df_n['Proveedor de Servicio'].str.replace('E.S. CEPSACHIO', 'CEPSA')\n"
     ]
    },
    {
     "name": "stderr",
     "output_type": "stream",
     "text": [
      "C:\\Users\\abarr\\AppData\\Local\\Temp\\ipykernel_5844\\4048511181.py:147: FutureWarning: The default value of regex will change from True to False in a future version.\n",
      "  df_n['Proveedor de Servicio'] = df_n['Proveedor de Servicio'].str.replace('E.S. CEPSALA CALETA', 'CEPSA')\n",
      "C:\\Users\\abarr\\AppData\\Local\\Temp\\ipykernel_5844\\4048511181.py:148: FutureWarning: The default value of regex will change from True to False in a future version.\n",
      "  df_n['Proveedor de Servicio'] = df_n['Proveedor de Servicio'].str.replace('CEPSALAS TORRES (TEXACO)', 'CEPSA')\n",
      "C:\\Users\\abarr\\AppData\\Local\\Temp\\ipykernel_5844\\4048511181.py:150: FutureWarning: The default value of regex will change from True to False in a future version.\n",
      "  df_n['Proveedor de Servicio'] = df_n['Proveedor de Servicio'].str.replace('CEPSAOPER CANARIOS S,L.', 'CEPSA')\n",
      "C:\\Users\\abarr\\AppData\\Local\\Temp\\ipykernel_5844\\4048511181.py:151: FutureWarning: The default value of regex will change from True to False in a future version.\n",
      "  df_n['Proveedor de Servicio'] = df_n['Proveedor de Servicio'].str.replace('CEPSALOS PORTALES (TEXACO)', 'CEPSA')\n",
      "C:\\Users\\abarr\\AppData\\Local\\Temp\\ipykernel_5844\\4048511181.py:154: FutureWarning: The default value of regex will change from True to False in a future version.\n",
      "  df_n['Proveedor de Servicio'] = df_n['Proveedor de Servicio'].str.replace('CEPSAOPER CANARIOS S,L.', 'CEPSA')\n",
      "C:\\Users\\abarr\\AppData\\Local\\Temp\\ipykernel_5844\\4048511181.py:156: FutureWarning: The default value of regex will change from True to False in a future version.\n",
      "  df_n['Proveedor de Servicio'] = df_n['Proveedor de Servicio'].str.replace('E.S.CEPSAPONTEBRANCA', 'CEPSA')\n",
      "C:\\Users\\abarr\\AppData\\Local\\Temp\\ipykernel_5844\\4048511181.py:161: FutureWarning: The default value of regex will change from True to False in a future version.\n",
      "  df_n['Proveedor de Servicio'] = df_n['Proveedor de Servicio'].str.replace('CEPSAOPER CANARIOS S,L.', 'CEPSA')\n",
      "C:\\Users\\abarr\\AppData\\Local\\Temp\\ipykernel_5844\\4048511181.py:162: FutureWarning: The default value of regex will change from True to False in a future version.\n",
      "  df_n['Proveedor de Servicio'] = df_n['Proveedor de Servicio'].str.replace('CEPSA\\w*', 'CEPSA')\n",
      "C:\\Users\\abarr\\AppData\\Local\\Temp\\ipykernel_5844\\4048511181.py:163: FutureWarning: The default value of regex will change from True to False in a future version.\n",
      "  df_n['Proveedor de Servicio'] = df_n['Proveedor de Servicio'].str.replace('CEPSA \\S*', 'CEPSA')\n",
      "C:\\Users\\abarr\\AppData\\Local\\Temp\\ipykernel_5844\\4048511181.py:164: FutureWarning: The default value of regex will change from True to False in a future version.\n",
      "  df_n['Proveedor de Servicio'] = df_n['Proveedor de Servicio'].str.replace('CEPSA \\S[a-zA-Z0-9_]*', 'CEPSA')\n",
      "C:\\Users\\abarr\\AppData\\Local\\Temp\\ipykernel_5844\\4048511181.py:165: FutureWarning: The default value of regex will change from True to False in a future version.\n",
      "  df_n['Proveedor de Servicio'] = df_n['Proveedor de Servicio'].str.replace('CEPSA \\S[a-zA-Z0-9_]*\\S[a-zA-Z0-9_]*', 'CEPSA')\n",
      "C:\\Users\\abarr\\AppData\\Local\\Temp\\ipykernel_5844\\4048511181.py:166: FutureWarning: The default value of regex will change from True to False in a future version.\n",
      "  df_n['Proveedor de Servicio'] = df_n['Proveedor de Servicio'].str.replace('CEPSA \\S[a-zA-Z0-9_]*\\S[a-zA-Z0-9_]*\\S[a-zA-Z0-9_]*', 'CEPSA')\n",
      "C:\\Users\\abarr\\AppData\\Local\\Temp\\ipykernel_5844\\4048511181.py:167: FutureWarning: The default value of regex will change from True to False in a future version.\n",
      "  df_n['Proveedor de Servicio'] = df_n['Proveedor de Servicio'].str.replace('CEPSA\\S*', 'CEPSA')\n",
      "C:\\Users\\abarr\\AppData\\Local\\Temp\\ipykernel_5844\\4048511181.py:172: FutureWarning: The default value of regex will change from True to False in a future version.\n",
      "  df_n['Proveedor de Servicio'] = df_n['Proveedor de Servicio'].str.replace('BP \\w[a-zA-Z0-9_]', 'BP')\n",
      "C:\\Users\\abarr\\AppData\\Local\\Temp\\ipykernel_5844\\4048511181.py:173: FutureWarning: The default value of regex will change from True to False in a future version.\n",
      "  df_n['Proveedor de Servicio'] = df_n['Proveedor de Servicio'].str.replace('BP\\w[a-zA-Z0-9_]', 'BP')\n",
      "C:\\Users\\abarr\\AppData\\Local\\Temp\\ipykernel_5844\\4048511181.py:176: FutureWarning: The default value of regex will change from True to False in a future version.\n",
      "  df_n['Proveedor de Servicio'] = df_n['Proveedor de Servicio'].str.replace('BP\\S*UXO', 'BP')\n",
      "C:\\Users\\abarr\\AppData\\Local\\Temp\\ipykernel_5844\\4048511181.py:177: FutureWarning: The default value of regex will change from True to False in a future version.\n",
      "  df_n['Proveedor de Servicio'] = df_n['Proveedor de Servicio'].str.replace('BP\\w*', 'BP')\n",
      "C:\\Users\\abarr\\AppData\\Local\\Temp\\ipykernel_5844\\4048511181.py:178: FutureWarning: The default value of regex will change from True to False in a future version.\n",
      "  df_n['Proveedor de Servicio'] = df_n['Proveedor de Servicio'].str.replace('BP \\S*w*', 'BP')\n",
      "C:\\Users\\abarr\\AppData\\Local\\Temp\\ipykernel_5844\\4048511181.py:179: FutureWarning: The default value of regex will change from True to False in a future version.\n",
      "  df_n['Proveedor de Servicio'] = df_n['Proveedor de Servicio'].str.replace('BP\\S*', 'BP')\n",
      "C:\\Users\\abarr\\AppData\\Local\\Temp\\ipykernel_5844\\4048511181.py:180: FutureWarning: The default value of regex will change from True to False in a future version.\n",
      "  df_n['Proveedor de Servicio'] = df_n['Proveedor de Servicio'].str.replace('E S GOMEZ \\S*BP', 'BP')\n",
      "C:\\Users\\abarr\\AppData\\Local\\Temp\\ipykernel_5844\\4048511181.py:181: FutureWarning: The default value of regex will change from True to False in a future version.\n",
      "  df_n['Proveedor de Servicio'] = df_n['Proveedor de Servicio'].str.replace('E S ALCARAYON \\S*BP', 'BP')\n",
      "C:\\Users\\abarr\\AppData\\Local\\Temp\\ipykernel_5844\\4048511181.py:185: FutureWarning: The default value of regex will change from True to False in a future version.\n",
      "  df_n['Proveedor de Servicio'] = df_n['Proveedor de Servicio'].str.replace('SHELL \\S*', 'SHELL')\n",
      "C:\\Users\\abarr\\AppData\\Local\\Temp\\ipykernel_5844\\4048511181.py:186: FutureWarning: The default value of regex will change from True to False in a future version.\n",
      "  df_n['Proveedor de Servicio'] = df_n['Proveedor de Servicio'].str.replace('SHELL \\S[a-zA-Z0-9_]*', 'SHELL')\n",
      "C:\\Users\\abarr\\AppData\\Local\\Temp\\ipykernel_5844\\4048511181.py:189: FutureWarning: The default value of regex will change from True to False in a future version.\n",
      "  df_n['Proveedor de Servicio'] = df_n['Proveedor de Servicio'].str.replace('E.S SHELL','SHELL')\n",
      "C:\\Users\\abarr\\AppData\\Local\\Temp\\ipykernel_5844\\4048511181.py:190: FutureWarning: The default value of regex will change from True to False in a future version.\n",
      "  df_n['Proveedor de Servicio'] = df_n['Proveedor de Servicio'].str.replace('E.S SHELL ','SHELL')\n",
      "C:\\Users\\abarr\\AppData\\Local\\Temp\\ipykernel_5844\\4048511181.py:191: FutureWarning: The default value of regex will change from True to False in a future version.\n",
      "  df_n['Proveedor de Servicio'] = df_n['Proveedor de Servicio'].str.replace( 'E.S. SHELL','SHELL')\n",
      "C:\\Users\\abarr\\AppData\\Local\\Temp\\ipykernel_5844\\4048511181.py:192: FutureWarning: The default value of regex will change from True to False in a future version.\n",
      "  df_n['Proveedor de Servicio'] = df_n['Proveedor de Servicio'].str.replace('E.S.SHELL','SHELL')\n",
      "C:\\Users\\abarr\\AppData\\Local\\Temp\\ipykernel_5844\\4048511181.py:194: FutureWarning: The default value of regex will change from True to False in a future version.\n",
      "  df_n['Proveedor de Servicio'] = df_n['Proveedor de Servicio'].str.replace('SHELL.S. BELLVIS' , 'SHELL')\n",
      "C:\\Users\\abarr\\AppData\\Local\\Temp\\ipykernel_5844\\4048511181.py:198: FutureWarning: The default value of regex will change from True to False in a future version.\n",
      "  df_n['Proveedor de Servicio'] = df_n['Proveedor de Servicio'].str.replace('ALCAMPO \\S*', 'ALCAMPO')\n",
      "C:\\Users\\abarr\\AppData\\Local\\Temp\\ipykernel_5844\\4048511181.py:199: FutureWarning: The default value of regex will change from True to False in a future version.\n",
      "  df_n['Proveedor de Servicio'] = df_n['Proveedor de Servicio'].str.replace('ALCAMPO \\S[a-zA-Z0-9_]*', 'ALCAMPO')\n",
      "C:\\Users\\abarr\\AppData\\Local\\Temp\\ipykernel_5844\\4048511181.py:207: FutureWarning: The default value of regex will change from True to False in a future version.\n",
      "  df_n['Proveedor de Servicio'] = df_n['Proveedor de Servicio'].str.replace('REPSOL \\S* \\S/()', 'REPSOL')\n"
     ]
    },
    {
     "name": "stderr",
     "output_type": "stream",
     "text": [
      "C:\\Users\\abarr\\AppData\\Local\\Temp\\ipykernel_5844\\4048511181.py:208: FutureWarning: The default value of regex will change from True to False in a future version.\n",
      "  df_n['Proveedor de Servicio'] = df_n['Proveedor de Servicio'].str.replace('REPSOL \\S*a-zA-Z0-9_*', 'REPSOL')\n",
      "C:\\Users\\abarr\\AppData\\Local\\Temp\\ipykernel_5844\\4048511181.py:209: FutureWarning: The default value of regex will change from True to False in a future version.\n",
      "  df_n['Proveedor de Servicio'] = df_n['Proveedor de Servicio'].str.replace('REPSOL \\S[a-zA-Z0-9_]*\\S[a-zA-Z0-9_]*', 'REPSOL')\n",
      "C:\\Users\\abarr\\AppData\\Local\\Temp\\ipykernel_5844\\4048511181.py:222: FutureWarning: The default value of regex will change from True to False in a future version.\n",
      "  df_n['Proveedor de Servicio'] = df_n['Proveedor de Servicio'].str.replace('EDAN (REPSOL)', 'REPSOL')\n",
      "C:\\Users\\abarr\\AppData\\Local\\Temp\\ipykernel_5844\\4048511181.py:223: FutureWarning: The default value of regex will change from True to False in a future version.\n",
      "  df_n['Proveedor de Servicio'] = df_n['Proveedor de Servicio'].str.replace('BALSILLAS I (REPSOL)', 'REPSOL')\n",
      "C:\\Users\\abarr\\AppData\\Local\\Temp\\ipykernel_5844\\4048511181.py:224: FutureWarning: The default value of regex will change from True to False in a future version.\n",
      "  df_n['Proveedor de Servicio'] = df_n['Proveedor de Servicio'].str.replace('HIJOS DE NAVARRO ROBLES (REPSOL)', 'REPSOL')\n",
      "C:\\Users\\abarr\\AppData\\Local\\Temp\\ipykernel_5844\\4048511181.py:229: FutureWarning: The default value of regex will change from True to False in a future version.\n",
      "  df_n['Proveedor de Servicio'] = df_n['Proveedor de Servicio'].str.replace('REPSOL5\\S*/OCTUBRE\\S*/2OTROSOTROS7', 'REPSOL')\n",
      "C:\\Users\\abarr\\AppData\\Local\\Temp\\ipykernel_5844\\4048511181.py:230: FutureWarning: The default value of regex will change from True to False in a future version.\n",
      "  df_n['Proveedor de Servicio'] = df_n['Proveedor de Servicio'].str.replace('EDAN \\S*(REPSOL)', 'REPSOL')\n",
      "C:\\Users\\abarr\\AppData\\Local\\Temp\\ipykernel_5844\\4048511181.py:231: FutureWarning: The default value of regex will change from True to False in a future version.\n",
      "  df_n['Proveedor de Servicio'] = df_n['Proveedor de Servicio'].str.replace('HIJOS DE NAVARRO ROBLES (REPSOL)', 'REPSOL')\n",
      "C:\\Users\\abarr\\AppData\\Local\\Temp\\ipykernel_5844\\4048511181.py:234: FutureWarning: The default value of regex will change from True to False in a future version.\n",
      "  df_n['Proveedor de Servicio'] = df_n['Proveedor de Servicio'].str.replace('EDAN (REPSOL)', 'REPSOL')\n",
      "C:\\Users\\abarr\\AppData\\Local\\Temp\\ipykernel_5844\\4048511181.py:235: FutureWarning: The default value of regex will change from True to False in a future version.\n",
      "  df_n['Proveedor de Servicio'] = df_n['Proveedor de Servicio'].str.replace('BALSILLAS \\S*I \\S*(REPSOL)', 'REPSOL')\n",
      "C:\\Users\\abarr\\AppData\\Local\\Temp\\ipykernel_5844\\4048511181.py:236: FutureWarning: The default value of regex will change from True to False in a future version.\n",
      "  df_n['Proveedor de Servicio'] = df_n['Proveedor de Servicio'].str.replace('HIJOS DE NAVARRO ROBLES \\S*(REPSOL)', 'REPSOL')\n",
      "C:\\Users\\abarr\\AppData\\Local\\Temp\\ipykernel_5844\\4048511181.py:237: FutureWarning: The default value of regex will change from True to False in a future version.\n",
      "  df_n['Proveedor de Servicio'] = df_n['Proveedor de Servicio'].str.replace('REPSOL\\w*', 'REPSOL')\n",
      "C:\\Users\\abarr\\AppData\\Local\\Temp\\ipykernel_5844\\4048511181.py:238: FutureWarning: The default value of regex will change from True to False in a future version.\n",
      "  df_n['Proveedor de Servicio'] = df_n['Proveedor de Servicio'].str.replace('REPSOL \\S*w*', 'REPSOL')\n",
      "C:\\Users\\abarr\\AppData\\Local\\Temp\\ipykernel_5844\\4048511181.py:239: FutureWarning: The default value of regex will change from True to False in a future version.\n",
      "  df_n['Proveedor de Servicio'] = df_n['Proveedor de Servicio'].str.replace('REPSOL\\S*', 'REPSOL')\n",
      "C:\\Users\\abarr\\AppData\\Local\\Temp\\ipykernel_5844\\4048511181.py:242: FutureWarning: The default value of regex will change from True to False in a future version.\n",
      "  df_n['Proveedor de Servicio'] = df_n['Proveedor de Servicio'].str.replace('DISA \\S*', 'DISA')\n",
      "C:\\Users\\abarr\\AppData\\Local\\Temp\\ipykernel_5844\\4048511181.py:243: FutureWarning: The default value of regex will change from True to False in a future version.\n",
      "  df_n['Proveedor de Servicio'] = df_n['Proveedor de Servicio'].str.replace('DISA \\S[a-zA-Z0-9_]*', 'DISA')\n",
      "C:\\Users\\abarr\\AppData\\Local\\Temp\\ipykernel_5844\\4048511181.py:244: FutureWarning: The default value of regex will change from True to False in a future version.\n",
      "  df_n['Proveedor de Servicio'] = df_n['Proveedor de Servicio'].str.replace('DISA \\S[a-zA-Z0-9_]*\\S[a-zA-Z0-9_]*', 'DISA')\n",
      "C:\\Users\\abarr\\AppData\\Local\\Temp\\ipykernel_5844\\4048511181.py:251: FutureWarning: The default value of regex will change from True to False in a future version.\n",
      "  df_n['Proveedor de Servicio'] = df_n['Proveedor de Servicio'].str.replace('EXOIL \\S*', 'EXOIL')\n",
      "C:\\Users\\abarr\\AppData\\Local\\Temp\\ipykernel_5844\\4048511181.py:252: FutureWarning: The default value of regex will change from True to False in a future version.\n",
      "  df_n['Proveedor de Servicio'] = df_n['Proveedor de Servicio'].str.replace('EXOIL \\S[a-zA-Z0-9_]*', 'EXOIL')\n",
      "C:\\Users\\abarr\\AppData\\Local\\Temp\\ipykernel_5844\\4048511181.py:253: FutureWarning: The default value of regex will change from True to False in a future version.\n",
      "  df_n['Proveedor de Servicio'] = df_n['Proveedor de Servicio'].str.replace('EXOIL \\S[a-zA-Z0-9_]*\\S[a-zA-Z0-9_]*', 'EXOIL')\n",
      "C:\\Users\\abarr\\AppData\\Local\\Temp\\ipykernel_5844\\4048511181.py:256: FutureWarning: The default value of regex will change from True to False in a future version.\n",
      "  df_n['Proveedor de Servicio'] = df_n['Proveedor de Servicio'].str.replace('ENERGY \\S*', 'ENERGY')\n",
      "C:\\Users\\abarr\\AppData\\Local\\Temp\\ipykernel_5844\\4048511181.py:257: FutureWarning: The default value of regex will change from True to False in a future version.\n",
      "  df_n['Proveedor de Servicio'] = df_n['Proveedor de Servicio'].str.replace('ENERGY \\S[a-zA-Z0-9_]*', 'ENERGY')\n",
      "C:\\Users\\abarr\\AppData\\Local\\Temp\\ipykernel_5844\\4048511181.py:258: FutureWarning: The default value of regex will change from True to False in a future version.\n",
      "  df_n['Proveedor de Servicio'] = df_n['Proveedor de Servicio'].str.replace('ENERGY \\S[a-zA-Z0-9_]*\\S[a-zA-Z0-9_]*', 'ENERGY')\n",
      "C:\\Users\\abarr\\AppData\\Local\\Temp\\ipykernel_5844\\4048511181.py:262: FutureWarning: The default value of regex will change from True to False in a future version.\n",
      "  df_n['Proveedor de Servicio'] = df_n['Proveedor de Servicio'].str.replace('NATURGY \\S*', 'NATURGY')\n",
      "C:\\Users\\abarr\\AppData\\Local\\Temp\\ipykernel_5844\\4048511181.py:263: FutureWarning: The default value of regex will change from True to False in a future version.\n",
      "  df_n['Proveedor de Servicio'] = df_n['Proveedor de Servicio'].str.replace('NATURGY \\S[a-zA-Z0-9_]*', 'NATURGY')\n",
      "C:\\Users\\abarr\\AppData\\Local\\Temp\\ipykernel_5844\\4048511181.py:264: FutureWarning: The default value of regex will change from True to False in a future version.\n",
      "  df_n['Proveedor de Servicio'] = df_n['Proveedor de Servicio'].str.replace('NATURGY \\S[a-zA-Z0-9_]*\\S[a-zA-Z0-9_]*', 'NATURGY')\n",
      "C:\\Users\\abarr\\AppData\\Local\\Temp\\ipykernel_5844\\4048511181.py:265: FutureWarning: The default value of regex will change from True to False in a future version.\n",
      "  df_n['Proveedor de Servicio'] = df_n['Proveedor de Servicio'].str.replace('ESNATURGY \\S[a-zA-Z0-9_]*\\S[a-zA-Z0-9_]*', 'NATURGY')\n",
      "C:\\Users\\abarr\\AppData\\Local\\Temp\\ipykernel_5844\\4048511181.py:266: FutureWarning: The default value of regex will change from True to False in a future version.\n",
      "  df_n['Proveedor de Servicio'] = df_n['Proveedor de Servicio'].str.replace('NATURGYES \\S[a-zA-Z0-9_]*\\S[a-zA-Z0-9_]*', 'NATURGY')\n",
      "C:\\Users\\abarr\\AppData\\Local\\Temp\\ipykernel_5844\\4048511181.py:267: FutureWarning: The default value of regex will change from True to False in a future version.\n",
      "  df_n['Proveedor de Servicio'] = df_n['Proveedor de Servicio'].str.replace('NATURGY\\w*', 'NATURGY')\n",
      "C:\\Users\\abarr\\AppData\\Local\\Temp\\ipykernel_5844\\4048511181.py:268: FutureWarning: The default value of regex will change from True to False in a future version.\n",
      "  df_n['Proveedor de Servicio'] = df_n['Proveedor de Servicio'].str.replace('NATURGY \\S*w*', 'NATURGY')\n",
      "C:\\Users\\abarr\\AppData\\Local\\Temp\\ipykernel_5844\\4048511181.py:269: FutureWarning: The default value of regex will change from True to False in a future version.\n",
      "  df_n['Proveedor de Servicio'] = df_n['Proveedor de Servicio'].str.replace('NATURGYES \\S[a-zA-Z0-9_]*\\S[a-zA-Z0-9_]*\\S[a-zA-Z0-9_]*', 'NATURGY')\n",
      "C:\\Users\\abarr\\AppData\\Local\\Temp\\ipykernel_5844\\4048511181.py:272: FutureWarning: The default value of regex will change from True to False in a future version.\n",
      "  df_n['Proveedor de Servicio'] = df_n['Proveedor de Servicio'].str.replace('GALP \\S*', 'GALP')\n",
      "C:\\Users\\abarr\\AppData\\Local\\Temp\\ipykernel_5844\\4048511181.py:273: FutureWarning: The default value of regex will change from True to False in a future version.\n",
      "  df_n['Proveedor de Servicio'] = df_n['Proveedor de Servicio'].str.replace('GALP \\S[a-zA-Z0-9_]*', 'GALP')\n"
     ]
    },
    {
     "name": "stderr",
     "output_type": "stream",
     "text": [
      "C:\\Users\\abarr\\AppData\\Local\\Temp\\ipykernel_5844\\4048511181.py:274: FutureWarning: The default value of regex will change from True to False in a future version.\n",
      "  df_n['Proveedor de Servicio'] = df_n['Proveedor de Servicio'].str.replace('GALP \\S[a-zA-Z0-9_]*\\S[a-zA-Z0-9_]*', 'GALP')\n",
      "C:\\Users\\abarr\\AppData\\Local\\Temp\\ipykernel_5844\\4048511181.py:275: FutureWarning: The default value of regex will change from True to False in a future version.\n",
      "  df_n['Proveedor de Servicio'] = df_n['Proveedor de Servicio'].str.replace('GALP \\S[a-zA-Z0-9_]*\\S[a-zA-Z0-9_]*', 'GALP')\n",
      "C:\\Users\\abarr\\AppData\\Local\\Temp\\ipykernel_5844\\4048511181.py:276: FutureWarning: The default value of regex will change from True to False in a future version.\n",
      "  df_n['Proveedor de Servicio'] = df_n['Proveedor de Servicio'].str.replace('GALP \\S[a-zA-Z0-9_]*\\S[a-zA-Z0-9_]*', 'GALP')\n",
      "C:\\Users\\abarr\\AppData\\Local\\Temp\\ipykernel_5844\\4048511181.py:277: FutureWarning: The default value of regex will change from True to False in a future version.\n",
      "  df_n['Proveedor de Servicio'] = df_n['Proveedor de Servicio'].str.replace('GALP\\w*', 'GALP')\n",
      "C:\\Users\\abarr\\AppData\\Local\\Temp\\ipykernel_5844\\4048511181.py:278: FutureWarning: The default value of regex will change from True to False in a future version.\n",
      "  df_n['Proveedor de Servicio'] = df_n['Proveedor de Servicio'].str.replace('GALP \\S*w*', 'GALP')\n",
      "C:\\Users\\abarr\\AppData\\Local\\Temp\\ipykernel_5844\\4048511181.py:279: FutureWarning: The default value of regex will change from True to False in a future version.\n",
      "  df_n['Proveedor de Servicio'] = df_n['Proveedor de Servicio'].str.replace('GALP \\S[a-zA-Z0-9_]*\\S[a-zA-Z0-9_]*\\S[a-zA-Z0-9_]*', 'GALP')\n",
      "C:\\Users\\abarr\\AppData\\Local\\Temp\\ipykernel_5844\\4048511181.py:282: FutureWarning: The default value of regex will change from True to False in a future version.\n",
      "  df_n['Proveedor de Servicio'] = df_n['Proveedor de Servicio'].str.replace('\\S* S\\*ES \\S*CABURANTES', 'ES CARBURANTES')\n",
      "C:\\Users\\abarr\\AppData\\Local\\Temp\\ipykernel_5844\\4048511181.py:286: FutureWarning: The default value of regex will change from True to False in a future version.\n",
      "  df_n['Proveedor de Servicio'] = df_n['Proveedor de Servicio'].str.replace('\\S*[+]B ENERGIAS ', '+B ENERGIAS')\n"
     ]
    },
    {
     "data": {
      "text/plain": [
       "2930        PETROL STATION\n",
       "5106                  AGLA\n",
       "10864              AGRICAR\n",
       "10398                   BP\n",
       "9387                    BP\n",
       "               ...        \n",
       "4951             ZONA ZERO\n",
       "7340                     _\n",
       "11539       |> ENERTRIX <|\n",
       "539             ÁRTICO OIL\n",
       "11087                    €\n",
       "Name: Proveedor de Servicio, Length: 11891, dtype: string"
      ]
     },
     "execution_count": 126,
     "metadata": {},
     "output_type": "execute_result"
    }
   ],
   "source": [
    "# Gasolineras BP\n",
    "df_n['Proveedor de Servicio'] = df_n['Proveedor de Servicio'].str.replace('.', ' ')\n",
    "df_n['Proveedor de Servicio'] = df_n['Proveedor de Servicio'].str.replace(',', ' ')\n",
    "df_n['Proveedor de Servicio'] = df_n['Proveedor de Servicio'].str.replace('BP \\S*', 'BP')\n",
    "df_n['Proveedor de Servicio'] = df_n['Proveedor de Servicio'].str.replace('BP \\S[a-zA-Z0-9_]*', 'BP')\n",
    "df_n['Proveedor de Servicio'] = df_n['Proveedor de Servicio'].str.replace('BPS \\S*', 'BP')\n",
    "df_n['Proveedor de Servicio'] = df_n['Proveedor de Servicio'].str.replace('BPS \\S[a-zA-Z0-9_]*', 'BP')\n",
    "df_n['Proveedor de Servicio'] = df_n['Proveedor de Servicio'].str.replace('BP\\w*', 'BP')\n",
    "df_n['Proveedor de Servicio'] = df_n['Proveedor de Servicio'].str.replace('BP  ALOD', 'BP') \n",
    "df_n['Proveedor de Servicio'] = df_n['Proveedor de Servicio'].str.replace('BP AVENIDA 3 DE MAYO', 'BP')\n",
    "df_n['Proveedor de Servicio'] = df_n['Proveedor de Servicio'].str.replace('BP BENICADELL', 'BP')\n",
    "df_n['Proveedor de Servicio'] = df_n['Proveedor de Servicio'].str.replace('BP CA SESTRELLA', 'BP')\n",
    "df_n['Proveedor de Servicio'] = df_n['Proveedor de Servicio'].str.replace('BP RAMBLA INIESTA', 'BP')\n",
    "df_n['Proveedor de Servicio'] = df_n['Proveedor de Servicio'].str.replace('BP SAN LUIS', 'BP')\n",
    "df_n['Proveedor de Servicio'] = df_n['Proveedor de Servicio'].str.replace('BP SANTIGA', 'BP')\n",
    "df_n['Proveedor de Servicio'] = df_n['Proveedor de Servicio'].str.replace('BP TACO','BP')\n",
    "df_n['Proveedor de Servicio'] = df_n['Proveedor de Servicio'].str.replace('BP VENTA DEL PERAL II', 'BP')\n",
    "df_n['Proveedor de Servicio'] = df_n['Proveedor de Servicio'].str.replace('BP ROMICA', 'BP')\n",
    "df_n['Proveedor de Servicio'] = df_n['Proveedor de Servicio'].str.replace('REPSOL UBEDA', 'REPSOL')\n",
    "df_n['Proveedor de Servicio'] = df_n['Proveedor de Servicio'].str.replace('SUTULLENA-CEPSA', 'CEPSA')\n",
    "df_n['Proveedor de Servicio'] = df_n['Proveedor de Servicio'].str.replace('\"BP\"', 'BP')\n",
    "df_n['Proveedor de Servicio'] = df_n['Proveedor de Servicio'].str.replace('BP ROTONDA LAS VAGUADAS S.L.', 'BP')\n",
    "df_n['Proveedor de Servicio'] = df_n['Proveedor de Servicio'].str.replace('BPBEGUR', 'BP')\n",
    "df_n['Proveedor de Servicio'] = df_n['Proveedor de Servicio'].str.replace('BPPROPERLY, S.A.', 'BP')\n",
    "\n",
    "# Otros\n",
    "df_n['Proveedor de Servicio'] = df_n['Proveedor de Servicio'].str.replace('SIN RÓTULO', 'OTROS')\n",
    "df_n['Proveedor de Servicio'] = df_n['Proveedor de Servicio'].str.replace('(sin rótulo)', 'OTROS')\n",
    "df_n['Proveedor de Servicio'] = df_n['Proveedor de Servicio'].str.replace('*', 'OTROS')\n",
    "df_n['Proveedor de Servicio'] = df_n['Proveedor de Servicio'].str.replace('-', 'OTROS')\n",
    "df_n['Proveedor de Servicio'] = df_n['Proveedor de Servicio'].str.replace('-', 'OTROS')\n",
    "df_n['Proveedor de Servicio'] = df_n['Proveedor de Servicio'].str.replace('0', 'OTROS')\n",
    "df_n['Proveedor de Servicio'] = df_n['Proveedor de Servicio'].str.replace('06/32718', 'OTROS')\n",
    "df_n['Proveedor de Servicio'] = df_n['Proveedor de Servicio'].str.replace('12126', 'OTROS')\n",
    "df_n['Proveedor de Servicio'] = df_n['Proveedor de Servicio'].str.replace('12241', 'OTROS')\n",
    "df_n['Proveedor de Servicio'] = df_n['Proveedor de Servicio'].str.replace('13344', 'OTROS')\n",
    "df_n['Proveedor de Servicio'] = df_n['Proveedor de Servicio'].str.replace('15909', 'OTROS')\n",
    "df_n['Proveedor de Servicio'] = df_n['Proveedor de Servicio'].str.replace('1PRIMER', 'OTROS')\n",
    "df_n['Proveedor de Servicio'] = df_n['Proveedor de Servicio'].str.replace('23ESO68F', 'OTROS')\n",
    "df_n['Proveedor de Servicio'] = df_n['Proveedor de Servicio'].str.replace('395 2/2HS 40-80', 'OTROS')\n",
    "df_n['Proveedor de Servicio'] = df_n['Proveedor de Servicio'].str.replace('41037733', 'OTROS')\n",
    "df_n['Proveedor de Servicio'] = df_n['Proveedor de Servicio'].str.replace('45110020416', 'OTROS')\n",
    "df_n['Proveedor de Servicio'] = df_n['Proveedor de Servicio'].str.replace('4572', 'OTROS')\n",
    "df_n['Proveedor de Servicio'] = df_n['Proveedor de Servicio'].str.replace('7267', 'OTROS')\n",
    "df_n['Proveedor de Servicio'] = df_n['Proveedor de Servicio'].str.replace('7345', 'OTROS')\n",
    "df_n['Proveedor de Servicio'] = df_n['Proveedor de Servicio'].str.replace('96053', 'OTROS')\n",
    "df_n['Proveedor de Servicio'] = df_n['Proveedor de Servicio'].str.replace('OTROS \\S*', 'OTROS')\n",
    "df_n['Proveedor de Servicio'] = df_n['Proveedor de Servicio'].str.replace('OTROS \\S[a-zA-Z0-9_]*', 'OTROS')\n",
    "df_n['Proveedor de Servicio'] = df_n['Proveedor de Servicio'].str.replace('OTROS \\S[a-zA-Z0-9_]*\\S[a-zA-Z0-9_]*', 'OTROS')\n",
    "df_n['Proveedor de Servicio'] = df_n['Proveedor de Servicio'].str.replace('OTROSOTROSOTROSOTROSOTROSOTROS', 'OTROS')\n",
    "df_n['Proveedor de Servicio'] = df_n['Proveedor de Servicio'].str.replace('OTROS\\w*', 'OTROS')\n",
    "df_n['Proveedor de Servicio'] = df_n['Proveedor de Servicio'].str.replace('OTROS \\S*', 'OTROS')\n",
    "df_n['Proveedor de Servicio'] = df_n['Proveedor de Servicio'].str.replace('\\S* OTROS ', 'OTROS')\n",
    "df_n['Proveedor de Servicio'] = df_n['Proveedor de Servicio'].str.replace('\\S*(OTROS)\\S*', 'OTROS')\n",
    "\n",
    "# Gasolineras Varias                                                                          \n",
    "df_n['Proveedor de Servicio'] = df_n['Proveedor de Servicio'].str.replace('INLOCOR S.L. \"CEPSA\"', 'CEPSA')\n",
    "df_n['Proveedor de Servicio'] = df_n['Proveedor de Servicio'].str.replace('REPSOL. LOS ANGELES DE LA MANCHA, S.L.', 'REPSOL')\n",
    "df_n['Proveedor de Servicio'] = df_n['Proveedor de Servicio'].str.replace('BP OIL', 'BP')\n",
    "df_n['Proveedor de Servicio'] = df_n['Proveedor de Servicio'].str.replace('BP PARGA I PETROL BAS BEL', 'BP')\n",
    "df_n['Proveedor de Servicio'] = df_n['Proveedor de Servicio'].str.replace('Nº 7374', 'OTROS')\n",
    "df_n['Proveedor de Servicio'] = df_n['Proveedor de Servicio'].str.replace('NO', 'OTROS')\n",
    "df_n['Proveedor de Servicio'] = df_n['Proveedor de Servicio'].str.replace('BP CASA JUANITO RESTAURANTE', 'BP')\n",
    "df_n['Proveedor de Servicio'] = df_n['Proveedor de Servicio'].str.replace('NO HAY', 'OTROS')\n",
    "df_n['Proveedor de Servicio'] = df_n['Proveedor de Servicio'].str.replace('NO TIENE', 'OTROS')\n",
    "df_n['Proveedor de Servicio'] = df_n['Proveedor de Servicio'].str.replace('BP VILLARROBLEDO', 'BP')\n",
    "df_n['Proveedor de Servicio'] = df_n['Proveedor de Servicio'].str.replace('BP ALFAZ DEL PI', 'BP')\n",
    "df_n['Proveedor de Servicio'] = df_n['Proveedor de Servicio'].str.replace('BP SANDOVAL MD', 'BP')                                                                        \n",
    "df_n['Proveedor de Servicio'] = df_n['Proveedor de Servicio'].str.replace('BP SANDOVAL MI', 'BP')\n",
    "df_n['Proveedor de Servicio'] = df_n['Proveedor de Servicio'].str.replace('BP BENIDORM', 'BP')\n",
    "df_n['Proveedor de Servicio'] = df_n['Proveedor de Servicio'].str.replace('BP EUROBENIDORM', 'BP')\n",
    "df_n['Proveedor de Servicio'] = df_n['Proveedor de Servicio'].str.replace('BP REJAS VERDES', 'BP')\n",
    "\n",
    "# Gasolineras Cepsa\n",
    "df_n['Proveedor de Servicio'] = df_n['Proveedor de Servicio'].str.replace('CEPSA ELF', 'CEPSA')\n",
    "df_n['Proveedor de Servicio'] = df_n['Proveedor de Servicio'].str.replace('CEPSA V21', 'CEPSA')\n",
    "df_n['Proveedor de Servicio'] = df_n['Proveedor de Servicio'].str.replace('CEPSA LEO', 'CEPSA')\n",
    "df_n['Proveedor de Servicio'] = df_n['Proveedor de Servicio'].str.replace('CEPSA TINAJO', 'CEPSA')\n",
    "df_n['Proveedor de Servicio'] = df_n['Proveedor de Servicio'].str.replace('CEPSA AGAETE', 'CEPSA')\n",
    "df_n['Proveedor de Servicio'] = df_n['Proveedor de Servicio'].str.replace('CEPSA CALONGE', 'CEPSA')\n",
    "df_n['Proveedor de Servicio'] = df_n['Proveedor de Servicio'].str.replace('BP REJAS VERDES', 'BP')\n",
    "df_n['Proveedor de Servicio'] = df_n['Proveedor de Servicio'].str.replace('CEPSA INGENIO', 'CEPSA')\n",
    "df_n['Proveedor de Servicio'] = df_n['Proveedor de Servicio'].str.replace('CEPSA ANTIGUA', 'CEPSA')\n",
    "df_n['Proveedor de Servicio'] = df_n['Proveedor de Servicio'].str.replace('CEPSA BALOS 1', 'CEPSA')\n",
    "df_n['Proveedor de Servicio'] = df_n['Proveedor de Servicio'].str.replace('CEPSA BALOS 2', 'CEPSA')\n",
    "df_n['Proveedor de Servicio'] = df_n['Proveedor de Servicio'].str.replace('CEPSAOTROSELF', 'CEPSA')\n",
    "df_n['Proveedor de Servicio'] = df_n['Proveedor de Servicio'].str.replace('CEPSA CANONCHE', 'CEPSA')\n",
    "df_n['Proveedor de Servicio'] = df_n['Proveedor de Servicio'].str.replace('CEPSA . LOHANA', 'CEPSA')\n",
    "df_n['Proveedor de Servicio'] = df_n['Proveedor de Servicio'].str.replace('CEPSA EL PEÑON', 'CEPSA')\n",
    "df_n['Proveedor de Servicio'] = df_n['Proveedor de Servicio'].str.replace('CEPSA VILANOVAE', 'CEPSA')\n",
    "df_n['Proveedor de Servicio'] = df_n['Proveedor de Servicio'].str.replace('CEPSA LA ALDEA', 'CEPSA')\n",
    "df_n['Proveedor de Servicio'] = df_n['Proveedor de Servicio'].str.replace('CEPSA LA CAÑADA', 'CEPSA')\n",
    "df_n['Proveedor de Servicio'] = df_n['Proveedor de Servicio'].str.replace('CEPSA TAHICHE I', 'CEPSA')\n",
    "df_n['Proveedor de Servicio'] = df_n['Proveedor de Servicio'].str.replace('CEPSA LA MARINA', 'CEPSA')\n",
    "df_n['Proveedor de Servicio'] = df_n['Proveedor de Servicio'].str.replace('CEPSA RELAMPAGO', 'CEPSA')\n",
    "df_n['Proveedor de Servicio'] = df_n['Proveedor de Servicio'].str.replace('CEPSA ALMERIMAR', 'CEPSA')\n",
    "df_n['Proveedor de Servicio'] = df_n['Proveedor de Servicio'].str.replace('CEPSAOTROSJUBERA', 'CEPSA')\n",
    "df_n['Proveedor de Servicio'] = df_n['Proveedor de Servicio'].str.replace('CEPSA EL CUBILLO', 'CEPSA')\n",
    "df_n['Proveedor de Servicio'] = df_n['Proveedor de Servicio'].str.replace('CEPSA TAHICHE II', 'CEPSA')\n",
    "df_n['Proveedor de Servicio'] = df_n['Proveedor de Servicio'].str.replace('CEPSA MASPALOMAS', 'CEPSA')\n",
    "df_n['Proveedor de Servicio'] = df_n['Proveedor de Servicio'].str.replace('CEPSA LA CAZUELA', 'CEPSA')\n",
    "df_n['Proveedor de Servicio'] = df_n['Proveedor de Servicio'].str.replace('CEPSA ETXEGARATE', 'CEPSA')\n",
    "df_n['Proveedor de Servicio'] = df_n['Proveedor de Servicio'].str.replace('CEPSA CAOTROSNCHE', 'CEPSA')\n",
    "df_n['Proveedor de Servicio'] = df_n['Proveedor de Servicio'].str.replace('CEPSA AGUA GARCIA', 'CEPSA')\n",
    "df_n['Proveedor de Servicio'] = df_n['Proveedor de Servicio'].str.replace('CEPSA LOS ANDENES', 'CEPSA')\n",
    "df_n['Proveedor de Servicio'] = df_n['Proveedor de Servicio'].str.replace('CEPSA LA AZADILLA', 'CEPSA')\n",
    "df_n['Proveedor de Servicio'] = df_n['Proveedor de Servicio'].str.replace('CEPSA ', 'CEPSA')\n",
    "df_n['Proveedor de Servicio'] = df_n['Proveedor de Servicio'].str.replace('CEPSAI', 'CEPSA')\n",
    "df_n['Proveedor de Servicio'] = df_n['Proveedor de Servicio'].str.replace('CEPSAGLTA.EL CID', 'CEPSA')\n",
    "df_n['Proveedor de Servicio'] = df_n['Proveedor de Servicio'].str.replace('CEPSAVILAOTROSVA', 'CEPSA')\n",
    "df_n['Proveedor de Servicio'] = df_n['Proveedor de Servicio'].str.replace('CEPSAESPAÑA S.A.', 'CEPSA')\n",
    "df_n['Proveedor de Servicio'] = df_n['Proveedor de Servicio'].str.replace('CEPSAGRAN TARAJAL', 'CEPSA')\n",
    "df_n['Proveedor de Servicio'] = df_n['Proveedor de Servicio'].str.replace('CEPSASIETE PALMAS', 'CEPSA')\n",
    "df_n['Proveedor de Servicio'] = df_n['Proveedor de Servicio'].str.replace('CEPSAHOYA PARRADO', 'CEPSA')\n",
    "df_n['Proveedor de Servicio'] = df_n['Proveedor de Servicio'].str.replace('CEPSAA4 PINTO 365', 'CEPSA')\n",
    "df_n['Proveedor de Servicio'] = df_n['Proveedor de Servicio'].str.replace('CEPSAOTROSALPICAT', 'CEPSA')\n",
    "df_n['Proveedor de Servicio'] = df_n['Proveedor de Servicio'].str.replace('CEPSALLAOTROS AZUL', 'CEPSA')\n",
    "df_n['Proveedor de Servicio'] = df_n['Proveedor de Servicio'].str.replace('CEPSALOS ALMENDROS', 'CEPSA')\n",
    "df_n['Proveedor de Servicio'] = df_n['Proveedor de Servicio'].str.replace('CEPSAMUELLE GRANDE', 'CEPSA')\n",
    "df_n['Proveedor de Servicio'] = df_n['Proveedor de Servicio'].str.replace('CEPSAOTROSGARCIBUR', 'CEPSA')\n",
    "df_n['Proveedor de Servicio'] = df_n['Proveedor de Servicio'].str.replace('CEPSAPUERTO ROSARIO', 'CEPSA')\n",
    "df_n['Proveedor de Servicio'] = df_n['Proveedor de Servicio'].str.replace('CEPSALAS ARENAS 365', 'CEPSA')\n",
    "df_n['Proveedor de Servicio'] = df_n['Proveedor de Servicio'].str.replace('CEPSAOTROSE.S. ROCA', 'CEPSA')\n",
    "df_n['Proveedor de Servicio'] = df_n['Proveedor de Servicio'].str.replace('CEPSAOTROS FIERROIL', 'CEPSA')\n",
    "df_n['Proveedor de Servicio'] = df_n['Proveedor de Servicio'].str.replace('CEPSAOTROSE.S.JAIME I', 'CEPSA')\n",
    "df_n['Proveedor de Servicio'] = df_n['Proveedor de Servicio'].str.replace('CEPSAPUERTO DE LA CRUZ', 'CEPSA')\n",
    "df_n['Proveedor de Servicio'] = df_n['Proveedor de Servicio'].str.replace('CEPSAPLAZA DEL PIOTROS', 'CEPSA')\n",
    "df_n['Proveedor de Servicio'] = df_n['Proveedor de Servicio'].str.replace('CEPSAOTROS ANTELA E.S.', 'CEPSA')\n",
    "df_n['Proveedor de Servicio'] = df_n['Proveedor de Servicio'].str.replace('CEPSACOSTA DEL SILENCIO', 'CEPSA')\n",
    "df_n['Proveedor de Servicio'] = df_n['Proveedor de Servicio'].str.replace('CEPSAOPER CANARIOS S,L.', 'CEPSA')\n",
    "df_n['Proveedor de Servicio'] = df_n['Proveedor de Servicio'].str.replace('CEPSATAXISTAS S.AGUSTIN', 'CEPSA')\n",
    "df_n['Proveedor de Servicio'] = df_n['Proveedor de Servicio'].str.replace('CEPSAOTROSARROCEROS B.G.', 'CEPSA')\n",
    "df_n['Proveedor de Servicio'] = df_n['Proveedor de Servicio'].str.replace('CEPSAOTROS AGROJARA, SCA', 'CEPSA')\n",
    "df_n['Proveedor de Servicio'] = df_n['Proveedor de Servicio'].str.replace('CEPSACOD DE LOS VIOTROSS', 'CEPSA')\n",
    "df_n['Proveedor de Servicio'] = df_n['Proveedor de Servicio'].str.replace('CEPSALAS TORRES (TEXACO)', 'CEPSA')\n",
    "df_n['Proveedor de Servicio'] = df_n['Proveedor de Servicio'].str.replace('CEPSAOPER CANARIOS S,L.', 'CEPSA')\n",
    "df_n['Proveedor de Servicio'] = df_n['Proveedor de Servicio'].str.replace('CEPSAOTROSLA DEHESA S.C.A.', 'CEPSA')\n",
    "df_n['Proveedor de Servicio'] = df_n['Proveedor de Servicio'].str.replace('CEPSALOS PORTALES (TEXACO)', 'CEPSA')\n",
    "df_n['Proveedor de Servicio'] = df_n['Proveedor de Servicio'].str.replace('CEPSAOTROS LOS FILABRES SCA', 'CEPSA')\n",
    "df_n['Proveedor de Servicio'] = df_n['Proveedor de Servicio'].str.replace('CEPSAOTROSCOOP. SAN DIONISIO', 'CEPSA')\n",
    "df_n['Proveedor de Servicio'] = df_n['Proveedor de Servicio'].str.replace('CEPSACIUDAD DEL AUTOMÓVIL 365', 'CEPSA')\n",
    "df_n['Proveedor de Servicio'] = df_n['Proveedor de Servicio'].str.replace('CEPSALISBOA', 'CEPSA')\n",
    "df_n['Proveedor de Servicio'] = df_n['Proveedor de Servicio'].str.replace('E.S. CEPSACHIO', 'CEPSA')\n",
    "df_n['Proveedor de Servicio'] = df_n['Proveedor de Servicio'].str.replace('CEPSALOS LLAOTROSS OTROS GRANAD', 'CEPSA')\n",
    "df_n['Proveedor de Servicio'] = df_n['Proveedor de Servicio'].str.replace('CEPSALOS LLAOTROSS OTROS GRANADILLA', 'CEPSA')\n",
    "df_n['Proveedor de Servicio'] = df_n['Proveedor de Servicio'].str.replace('CEPSAVALLECASOTROSLA ATALAYUELA 365', 'CEPSA')\n",
    "df_n['Proveedor de Servicio'] = df_n['Proveedor de Servicio'].str.replace('E.S. CEPSALA CALETA', 'CEPSA')\n",
    "df_n['Proveedor de Servicio'] = df_n['Proveedor de Servicio'].str.replace('CEPSALAS TORRES (TEXACO)', 'CEPSA')\n",
    "df_n['Proveedor de Servicio'] = df_n['Proveedor de Servicio'].str.replace('CEPSAILLA', 'CEPSA')\n",
    "df_n['Proveedor de Servicio'] = df_n['Proveedor de Servicio'].str.replace('CEPSAOPER CANARIOS S,L.', 'CEPSA')\n",
    "df_n['Proveedor de Servicio'] = df_n['Proveedor de Servicio'].str.replace('CEPSALOS PORTALES (TEXACO)', 'CEPSA')\n",
    "df_n['Proveedor de Servicio'] = df_n['Proveedor de Servicio'].str.replace('CEPSA  ', 'CEPSA')\n",
    "df_n['Proveedor de Servicio'] = df_n['Proveedor de Servicio'].str.replace(' CEPSA', 'CEPSA')\n",
    "df_n['Proveedor de Servicio'] = df_n['Proveedor de Servicio'].str.replace('CEPSAOPER CANARIOS S,L.', 'CEPSA')\n",
    "df_n['Proveedor de Servicio'] = df_n['Proveedor de Servicio'].str.replace('ES EL CALEYU Nº 229OTROS5CEPSA', 'CEPSA')\n",
    "df_n['Proveedor de Servicio'] = df_n['Proveedor de Servicio'].str.replace('E.S.CEPSAPONTEBRANCA', 'CEPSA')\n",
    "df_n['Proveedor de Servicio'] = df_n['Proveedor de Servicio'].str.replace('ES VILAMARINACEPSA', 'CEPSA')\n",
    "df_n['Proveedor de Servicio'] = df_n['Proveedor de Servicio'].str.replace('FUNDACION AIDACEPSA', 'CEPSA')\n",
    "df_n['Proveedor de Servicio'] = df_n['Proveedor de Servicio'].str.replace('ES MIRALBUEOTROSCEPSA', 'CEPSA')\n",
    "df_n['Proveedor de Servicio'] = df_n['Proveedor de Servicio'].str.replace('EMPRESA DEL GRUPOCEPSA', 'CEPSA')\n",
    "df_n['Proveedor de Servicio'] = df_n['Proveedor de Servicio'].str.replace('CEPSAOPER CANARIOS S,L.', 'CEPSA')\n",
    "df_n['Proveedor de Servicio'] = df_n['Proveedor de Servicio'].str.replace('CEPSA\\w*', 'CEPSA')\n",
    "df_n['Proveedor de Servicio'] = df_n['Proveedor de Servicio'].str.replace('CEPSA \\S*', 'CEPSA')\n",
    "df_n['Proveedor de Servicio'] = df_n['Proveedor de Servicio'].str.replace('CEPSA \\S[a-zA-Z0-9_]*', 'CEPSA')\n",
    "df_n['Proveedor de Servicio'] = df_n['Proveedor de Servicio'].str.replace('CEPSA \\S[a-zA-Z0-9_]*\\S[a-zA-Z0-9_]*', 'CEPSA')\n",
    "df_n['Proveedor de Servicio'] = df_n['Proveedor de Servicio'].str.replace('CEPSA \\S[a-zA-Z0-9_]*\\S[a-zA-Z0-9_]*\\S[a-zA-Z0-9_]*', 'CEPSA')\n",
    "df_n['Proveedor de Servicio'] = df_n['Proveedor de Servicio'].str.replace('CEPSA\\S*', 'CEPSA')\n",
    "df_n['Proveedor de Servicio'] = df_n['Proveedor de Servicio'].str.replace('LOSADACEPSA', 'CEPSA')\n",
    "df_n['Proveedor de Servicio'] = df_n['Proveedor de Servicio'].str.replace('EE SS VENTA DEL SOLCEPSA', 'CEPSA')\n",
    "\n",
    "# BP\n",
    "df_n['Proveedor de Servicio'] = df_n['Proveedor de Servicio'].str.replace('BP \\w[a-zA-Z0-9_]', 'BP')\n",
    "df_n['Proveedor de Servicio'] = df_n['Proveedor de Servicio'].str.replace('BP\\w[a-zA-Z0-9_]', 'BP')\n",
    "df_n['Proveedor de Servicio'] = df_n['Proveedor de Servicio'].str.replace(' BP', 'BP')\n",
    "df_n['Proveedor de Servicio'] = df_n['Proveedor de Servicio'].str.replace('B P', 'BP')\n",
    "df_n['Proveedor de Servicio'] = df_n['Proveedor de Servicio'].str.replace('BP\\S*UXO', 'BP')\n",
    "df_n['Proveedor de Servicio'] = df_n['Proveedor de Servicio'].str.replace('BP\\w*', 'BP')\n",
    "df_n['Proveedor de Servicio'] = df_n['Proveedor de Servicio'].str.replace('BP \\S*w*', 'BP')\n",
    "df_n['Proveedor de Servicio'] = df_n['Proveedor de Servicio'].str.replace('BP\\S*', 'BP')\n",
    "df_n['Proveedor de Servicio'] = df_n['Proveedor de Servicio'].str.replace('E S GOMEZ \\S*BP', 'BP')\n",
    "df_n['Proveedor de Servicio'] = df_n['Proveedor de Servicio'].str.replace('E S ALCARAYON \\S*BP', 'BP')\n",
    "df_n['Proveedor de Servicio'] = df_n['Proveedor de Servicio'].str.replace('AREA DE SERVICIO A2BP', 'BP')\n",
    "\n",
    "# Gasolineras Shell\n",
    "df_n['Proveedor de Servicio'] = df_n['Proveedor de Servicio'].str.replace('SHELL \\S*', 'SHELL')\n",
    "df_n['Proveedor de Servicio'] = df_n['Proveedor de Servicio'].str.replace('SHELL \\S[a-zA-Z0-9_]*', 'SHELL')\n",
    "df_n['Proveedor de Servicio'] = df_n['Proveedor de Servicio'].str.replace('SHELL VIOTROSS','SHELL')\n",
    "df_n['Proveedor de Servicio'] = df_n['Proveedor de Servicio'].str.replace('SHELL LOS VIOTROSS','SHELL')\n",
    "df_n['Proveedor de Servicio'] = df_n['Proveedor de Servicio'].str.replace('E.S SHELL','SHELL')\n",
    "df_n['Proveedor de Servicio'] = df_n['Proveedor de Servicio'].str.replace('E.S SHELL ','SHELL')\n",
    "df_n['Proveedor de Servicio'] = df_n['Proveedor de Servicio'].str.replace( 'E.S. SHELL','SHELL')\n",
    "df_n['Proveedor de Servicio'] = df_n['Proveedor de Servicio'].str.replace('E.S.SHELL','SHELL')\n",
    "df_n['Proveedor de Servicio'] = df_n['Proveedor de Servicio'].str.replace('LUGO SHELL','SHELL')\n",
    "df_n['Proveedor de Servicio'] = df_n['Proveedor de Servicio'].str.replace('SHELL.S. BELLVIS' , 'SHELL')\n",
    "df_n['Proveedor de Servicio'] = df_n['Proveedor de Servicio'].str.replace('SHELL', 'SHELL')\n",
    "\n",
    "# Gasolineras Alcampo\n",
    "df_n['Proveedor de Servicio'] = df_n['Proveedor de Servicio'].str.replace('ALCAMPO \\S*', 'ALCAMPO')\n",
    "df_n['Proveedor de Servicio'] = df_n['Proveedor de Servicio'].str.replace('ALCAMPO \\S[a-zA-Z0-9_]*', 'ALCAMPO')\n",
    "df_n['Proveedor de Servicio'] = df_n['Proveedor de Servicio'].str.replace('ALCAMPO A', 'ALCAMPO')\n",
    "df_n['Proveedor de Servicio'] = df_n['Proveedor de Servicio'].str.replace('C C ALCAMPO', 'ALCAMPO')\n",
    "df_n['Proveedor de Servicio'] = df_n['Proveedor de Servicio'].str.replace('E S ALCAMPO', 'ALCAMPO')\n",
    "df_n['Proveedor de Servicio'] = df_n['Proveedor de Servicio'].str.replace('E S  ALCAMPO', 'ALCAMPO')\n",
    "df_n['Proveedor de Servicio'] = df_n['Proveedor de Servicio'].str.replace('ALCAMPO ', 'ALCAMPO')\n",
    "\n",
    "# Gasolineras Repsol\n",
    "df_n['Proveedor de Servicio'] = df_n['Proveedor de Servicio'].str.replace('REPSOL \\S* \\S/()', 'REPSOL')\n",
    "df_n['Proveedor de Servicio'] = df_n['Proveedor de Servicio'].str.replace('REPSOL \\S*a-zA-Z0-9_*', 'REPSOL')\n",
    "df_n['Proveedor de Servicio'] = df_n['Proveedor de Servicio'].str.replace('REPSOL \\S[a-zA-Z0-9_]*\\S[a-zA-Z0-9_]*', 'REPSOL')\n",
    "df_n['Proveedor de Servicio'] = df_n['Proveedor de Servicio'].str.replace('E S REPSOL', 'REPSOL')\n",
    "df_n['Proveedor de Servicio'] = df_n['Proveedor de Servicio'].str.replace('E S  REPSOL', 'REPSOL')\n",
    "df_n['Proveedor de Servicio'] = df_n['Proveedor de Servicio'].str.replace('REPSOL ', 'REPSOL')\n",
    "df_n['Proveedor de Servicio'] = df_n['Proveedor de Servicio'].str.replace('REPSOL65', 'REPSOL')\n",
    "df_n['Proveedor de Servicio'] = df_n['Proveedor de Servicio'].str.replace('REPSOLOMAN', 'REPSOL')\n",
    "df_n['Proveedor de Servicio'] = df_n['Proveedor de Servicio'].str.replace('REPSOLONDA', 'REPSOL')\n",
    "df_n['Proveedor de Servicio'] = df_n['Proveedor de Servicio'].str.replace('REPSOLOMA', 'REPSOL')\n",
    "df_n['Proveedor de Servicio'] = df_n['Proveedor de Servicio'].str.replace('REPSOLTROSRIO SECO', 'REPSOL')\n",
    "df_n['Proveedor de Servicio'] = df_n['Proveedor de Servicio'].str.replace('REPSOLTROSE S JAIME I', 'REPSOL')\n",
    "df_n['Proveedor de Servicio'] = df_n['Proveedor de Servicio'].str.replace('REPSOL15/OCTUBRE/2OTROSOTROS7', 'REPSOL')\n",
    "df_n['Proveedor de Servicio'] = df_n['Proveedor de Servicio'].str.replace('REPSOLILA HERMAOTROSS REDONDO S', 'REPSOL')\n",
    "df_n['Proveedor de Servicio'] = df_n['Proveedor de Servicio'].str.replace('ES DULANTZI REPSOL', 'REPSOL')\n",
    "df_n['Proveedor de Servicio'] = df_n['Proveedor de Servicio'].str.replace('EDAN (REPSOL)', 'REPSOL')\n",
    "df_n['Proveedor de Servicio'] = df_n['Proveedor de Servicio'].str.replace('BALSILLAS I (REPSOL)', 'REPSOL')\n",
    "df_n['Proveedor de Servicio'] = df_n['Proveedor de Servicio'].str.replace('HIJOS DE NAVARRO ROBLES (REPSOL)', 'REPSOL')\n",
    "df_n['Proveedor de Servicio'] = df_n['Proveedor de Servicio'].str.replace('REPSOL L', 'REPSOL')\n",
    "df_n['Proveedor de Servicio'] = df_n['Proveedor de Servicio'].str.replace('REPSOL AVENIDA', 'REPSOL')\n",
    "df_n['Proveedor de Servicio'] = df_n['Proveedor de Servicio'].str.replace('REPSOL ', 'REPSOL')\n",
    "df_n['Proveedor de Servicio'] = df_n['Proveedor de Servicio'].str.replace(' REPSOL', 'REPSOL')\n",
    "df_n['Proveedor de Servicio'] = df_n['Proveedor de Servicio'].str.replace('REPSOL5\\S*/OCTUBRE\\S*/2OTROSOTROS7', 'REPSOL')\n",
    "df_n['Proveedor de Servicio'] = df_n['Proveedor de Servicio'].str.replace('EDAN \\S*(REPSOL)', 'REPSOL')\n",
    "df_n['Proveedor de Servicio'] = df_n['Proveedor de Servicio'].str.replace('HIJOS DE NAVARRO ROBLES (REPSOL)', 'REPSOL')\n",
    "df_n['Proveedor de Servicio'] = df_n['Proveedor de Servicio'].str.replace('REPSOLADA  AVENIDA', 'REPSOL')\n",
    "df_n['Proveedor de Servicio'] = df_n['Proveedor de Servicio'].str.replace('REPSOLCTUALIZACION A 15/OCTUBR', 'REPSOL')\n",
    "df_n['Proveedor de Servicio'] = df_n['Proveedor de Servicio'].str.replace('EDAN (REPSOL)', 'REPSOL')\n",
    "df_n['Proveedor de Servicio'] = df_n['Proveedor de Servicio'].str.replace('BALSILLAS \\S*I \\S*(REPSOL)', 'REPSOL')\n",
    "df_n['Proveedor de Servicio'] = df_n['Proveedor de Servicio'].str.replace('HIJOS DE NAVARRO ROBLES \\S*(REPSOL)', 'REPSOL')\n",
    "df_n['Proveedor de Servicio'] = df_n['Proveedor de Servicio'].str.replace('REPSOL\\w*', 'REPSOL')\n",
    "df_n['Proveedor de Servicio'] = df_n['Proveedor de Servicio'].str.replace('REPSOL \\S*w*', 'REPSOL')\n",
    "df_n['Proveedor de Servicio'] = df_n['Proveedor de Servicio'].str.replace('REPSOL\\S*', 'REPSOL')\n",
    "\n",
    "# Gasolineras Disa\n",
    "df_n['Proveedor de Servicio'] = df_n['Proveedor de Servicio'].str.replace('DISA \\S*', 'DISA')\n",
    "df_n['Proveedor de Servicio'] = df_n['Proveedor de Servicio'].str.replace('DISA \\S[a-zA-Z0-9_]*', 'DISA')\n",
    "df_n['Proveedor de Servicio'] = df_n['Proveedor de Servicio'].str.replace('DISA \\S[a-zA-Z0-9_]*\\S[a-zA-Z0-9_]*', 'DISA')\n",
    "df_n['Proveedor de Servicio'] = df_n['Proveedor de Servicio'].str.replace('DISA         STO DOMINGO', 'DISA')\n",
    "df_n['Proveedor de Servicio'] = df_n['Proveedor de Servicio'].str.replace('E S DISA', 'DISA')\n",
    "df_n['Proveedor de Servicio'] = df_n['Proveedor de Servicio'].str.replace('E S  DISA', 'DISA')\n",
    "df_n['Proveedor de Servicio'] = df_n['Proveedor de Servicio'].str.replace('E S  DISA', 'DISA')\n",
    "\n",
    "# Gasolineras Exoil\n",
    "df_n['Proveedor de Servicio'] = df_n['Proveedor de Servicio'].str.replace('EXOIL \\S*', 'EXOIL')\n",
    "df_n['Proveedor de Servicio'] = df_n['Proveedor de Servicio'].str.replace('EXOIL \\S[a-zA-Z0-9_]*', 'EXOIL')\n",
    "df_n['Proveedor de Servicio'] = df_n['Proveedor de Servicio'].str.replace('EXOIL \\S[a-zA-Z0-9_]*\\S[a-zA-Z0-9_]*', 'EXOIL')\n",
    "\n",
    "# Gasolineras Energy\n",
    "df_n['Proveedor de Servicio'] = df_n['Proveedor de Servicio'].str.replace('ENERGY \\S*', 'ENERGY')\n",
    "df_n['Proveedor de Servicio'] = df_n['Proveedor de Servicio'].str.replace('ENERGY \\S[a-zA-Z0-9_]*', 'ENERGY')\n",
    "df_n['Proveedor de Servicio'] = df_n['Proveedor de Servicio'].str.replace('ENERGY \\S[a-zA-Z0-9_]*\\S[a-zA-Z0-9_]*', 'ENERGY')\n",
    "\n",
    "#Gasolineras Naturgy\n",
    "df_n['Proveedor de Servicio'] = df_n['Proveedor de Servicio'].str.replace('NATURGY ', 'NATURGY')\n",
    "df_n['Proveedor de Servicio'] = df_n['Proveedor de Servicio'].str.replace('NATURGY \\S*', 'NATURGY')\n",
    "df_n['Proveedor de Servicio'] = df_n['Proveedor de Servicio'].str.replace('NATURGY \\S[a-zA-Z0-9_]*', 'NATURGY')\n",
    "df_n['Proveedor de Servicio'] = df_n['Proveedor de Servicio'].str.replace('NATURGY \\S[a-zA-Z0-9_]*\\S[a-zA-Z0-9_]*', 'NATURGY')\n",
    "df_n['Proveedor de Servicio'] = df_n['Proveedor de Servicio'].str.replace('ESNATURGY \\S[a-zA-Z0-9_]*\\S[a-zA-Z0-9_]*', 'NATURGY')\n",
    "df_n['Proveedor de Servicio'] = df_n['Proveedor de Servicio'].str.replace('NATURGYES \\S[a-zA-Z0-9_]*\\S[a-zA-Z0-9_]*', 'NATURGY')\n",
    "df_n['Proveedor de Servicio'] = df_n['Proveedor de Servicio'].str.replace('NATURGY\\w*', 'NATURGY')\n",
    "df_n['Proveedor de Servicio'] = df_n['Proveedor de Servicio'].str.replace('NATURGY \\S*w*', 'NATURGY')\n",
    "df_n['Proveedor de Servicio'] = df_n['Proveedor de Servicio'].str.replace('NATURGYES \\S[a-zA-Z0-9_]*\\S[a-zA-Z0-9_]*\\S[a-zA-Z0-9_]*', 'NATURGY')\n",
    "\n",
    "# Gasolineras Galp\n",
    "df_n['Proveedor de Servicio'] = df_n['Proveedor de Servicio'].str.replace('GALP \\S*', 'GALP')\n",
    "df_n['Proveedor de Servicio'] = df_n['Proveedor de Servicio'].str.replace('GALP \\S[a-zA-Z0-9_]*', 'GALP')\n",
    "df_n['Proveedor de Servicio'] = df_n['Proveedor de Servicio'].str.replace('GALP \\S[a-zA-Z0-9_]*\\S[a-zA-Z0-9_]*', 'GALP')\n",
    "df_n['Proveedor de Servicio'] = df_n['Proveedor de Servicio'].str.replace('GALP \\S[a-zA-Z0-9_]*\\S[a-zA-Z0-9_]*', 'GALP')\n",
    "df_n['Proveedor de Servicio'] = df_n['Proveedor de Servicio'].str.replace('GALP \\S[a-zA-Z0-9_]*\\S[a-zA-Z0-9_]*', 'GALP')\n",
    "df_n['Proveedor de Servicio'] = df_n['Proveedor de Servicio'].str.replace('GALP\\w*', 'GALP')\n",
    "df_n['Proveedor de Servicio'] = df_n['Proveedor de Servicio'].str.replace('GALP \\S*w*', 'GALP')\n",
    "df_n['Proveedor de Servicio'] = df_n['Proveedor de Servicio'].str.replace('GALP \\S[a-zA-Z0-9_]*\\S[a-zA-Z0-9_]*\\S[a-zA-Z0-9_]*', 'GALP')\n",
    "\n",
    "# ES CARBURANTES\n",
    "df_n['Proveedor de Servicio'] = df_n['Proveedor de Servicio'].str.replace('\\S* S\\*ES \\S*CABURANTES', 'ES CARBURANTES')\n",
    "df_n['Proveedor de Servicio'] = df_n['Proveedor de Servicio'].str.replace('ES CARBURANTES', 'ES CARBURANTES')\n",
    "df_n['Proveedor de Servicio'] = df_n['Proveedor de Servicio'].str.replace('ES CARBURANTES CENTRO COMERCIAL VISTALEGRE', 'ES CARBURANTES')\n",
    "\n",
    "df_n['Proveedor de Servicio'] = df_n['Proveedor de Servicio'].str.replace('\\S*[+]B ENERGIAS ', '+B ENERGIAS')\n",
    "df_n['Proveedor de Servicio'] "
   ]
  },
  {
   "cell_type": "code",
   "execution_count": 127,
   "id": "f71973c7",
   "metadata": {},
   "outputs": [
    {
     "data": {
      "text/plain": [
       "' ES CARBURANTES'"
      ]
     },
     "execution_count": 127,
     "metadata": {},
     "output_type": "execute_result"
    }
   ],
   "source": [
    " df_n['Proveedor de Servicio'].iloc[58]\n"
   ]
  },
  {
   "cell_type": "code",
   "execution_count": null,
   "id": "76ccba4f",
   "metadata": {},
   "outputs": [],
   "source": []
  },
  {
   "cell_type": "code",
   "execution_count": 128,
   "id": "5f465a5c",
   "metadata": {},
   "outputs": [],
   "source": [
    "# Guardamos df original para sucesion de tiempo\n",
    "df_n.to_csv('df_sample.csv', index=False)"
   ]
  },
  {
   "cell_type": "code",
   "execution_count": 129,
   "id": "32cb382f",
   "metadata": {
    "scrolled": false
   },
   "outputs": [
    {
     "name": "stdout",
     "output_type": "stream",
     "text": [
      "<class 'pandas.core.frame.DataFrame'>\n",
      "Int64Index: 11891 entries, 2930 to 11087\n",
      "Data columns (total 23 columns):\n",
      " #   Column                      Non-Null Count  Dtype  \n",
      "---  ------                      --------------  -----  \n",
      " 0   Fecha                       11891 non-null  object \n",
      " 1   Horario                     11891 non-null  object \n",
      " 2   C.P.                        11891 non-null  object \n",
      " 3   Provincia                   11891 non-null  object \n",
      " 4   Municipio                   11891 non-null  object \n",
      " 5   Localidad                   11891 non-null  object \n",
      " 6   Dirección                   11891 non-null  object \n",
      " 7   Proveedor de Servicio       11891 non-null  string \n",
      " 8   Gasoleo A                   11538 non-null  float64\n",
      " 9   Media C.P. Gasoleo A        11803 non-null  float64\n",
      " 10  Media Nacional Gasoleo A    11891 non-null  float64\n",
      " 11  Gasoleo B                   3005 non-null   float64\n",
      " 12  Media C.P. Gasoleo B        6029 non-null   float64\n",
      " 13  Media Nacional Gasoleo B    11891 non-null  float64\n",
      " 14  Gasoleo Premium             7513 non-null   float64\n",
      " 15  Media C.P. Gasoleo P        6029 non-null   float64\n",
      " 16  Media Nacional Gasoleo P    11891 non-null  float64\n",
      " 17  Gasolina 95 E5              10732 non-null  float64\n",
      " 18  Media C.P. Gasolina 95      11630 non-null  float64\n",
      " 19  Media Nacional Gasolina 95  11891 non-null  float64\n",
      " 20  Gasolina 98 E5              5880 non-null   float64\n",
      " 21  Media C.P. Gasolina 98      9630 non-null   float64\n",
      " 22  Media Nacional Gasolina 98  11891 non-null  float64\n",
      "dtypes: float64(15), object(7), string(1)\n",
      "memory usage: 2.2+ MB\n"
     ]
    }
   ],
   "source": [
    "df_n.info()"
   ]
  },
  {
   "cell_type": "code",
   "execution_count": 130,
   "id": "bca523aa",
   "metadata": {},
   "outputs": [
    {
     "name": "stdout",
     "output_type": "stream",
     "text": [
      "<class 'pandas.core.series.Series'>\n"
     ]
    }
   ],
   "source": [
    "x = df_n['C.P.']\n",
    "print(type(x))\n"
   ]
  },
  {
   "cell_type": "markdown",
   "id": "9ece3cb6",
   "metadata": {},
   "source": [
    "---\n",
    "Step4\n",
    "\n",
    "\n",
    "# Desarrollo Funciones "
   ]
  },
  {
   "cell_type": "code",
   "execution_count": 131,
   "id": "a2640cea",
   "metadata": {},
   "outputs": [],
   "source": [
    "# Analisis de Funciones"
   ]
  },
  {
   "cell_type": "code",
   "execution_count": 132,
   "id": "6a6ddce7",
   "metadata": {
    "scrolled": true
   },
   "outputs": [
    {
     "data": {
      "text/html": [
       "<div>\n",
       "<style scoped>\n",
       "    .dataframe tbody tr th:only-of-type {\n",
       "        vertical-align: middle;\n",
       "    }\n",
       "\n",
       "    .dataframe tbody tr th {\n",
       "        vertical-align: top;\n",
       "    }\n",
       "\n",
       "    .dataframe thead th {\n",
       "        text-align: right;\n",
       "    }\n",
       "</style>\n",
       "<table border=\"1\" class=\"dataframe\">\n",
       "  <thead>\n",
       "    <tr style=\"text-align: right;\">\n",
       "      <th></th>\n",
       "      <th>Fecha</th>\n",
       "      <th>Horario</th>\n",
       "      <th>C.P.</th>\n",
       "      <th>Provincia</th>\n",
       "      <th>Municipio</th>\n",
       "      <th>Localidad</th>\n",
       "      <th>Dirección</th>\n",
       "      <th>Proveedor de Servicio</th>\n",
       "      <th>Gasoleo A</th>\n",
       "      <th>Media C.P. Gasoleo A</th>\n",
       "      <th>...</th>\n",
       "      <th>Media Nacional Gasoleo B</th>\n",
       "      <th>Gasoleo Premium</th>\n",
       "      <th>Media C.P. Gasoleo P</th>\n",
       "      <th>Media Nacional Gasoleo P</th>\n",
       "      <th>Gasolina 95 E5</th>\n",
       "      <th>Media C.P. Gasolina 95</th>\n",
       "      <th>Media Nacional Gasolina 95</th>\n",
       "      <th>Gasolina 98 E5</th>\n",
       "      <th>Media C.P. Gasolina 98</th>\n",
       "      <th>Media Nacional Gasolina 98</th>\n",
       "    </tr>\n",
       "  </thead>\n",
       "  <tbody>\n",
       "    <tr>\n",
       "      <th>7286</th>\n",
       "      <td>10/05/2023 20:06:24</td>\n",
       "      <td>L-D: 24H</td>\n",
       "      <td>28760</td>\n",
       "      <td>MADRID</td>\n",
       "      <td>Tres Cantos</td>\n",
       "      <td>TRES CANTOS</td>\n",
       "      <td>AVENIDA INDUSTRIA, 44</td>\n",
       "      <td>BALLEOTROSIL</td>\n",
       "      <td>1.319</td>\n",
       "      <td>1.399</td>\n",
       "      <td>...</td>\n",
       "      <td>1.133852</td>\n",
       "      <td>1.329</td>\n",
       "      <td>NaN</td>\n",
       "      <td>1.51336</td>\n",
       "      <td>1.459</td>\n",
       "      <td>1.542571</td>\n",
       "      <td>1.574223</td>\n",
       "      <td>NaN</td>\n",
       "      <td>1.737</td>\n",
       "      <td>1.730032</td>\n",
       "    </tr>\n",
       "    <tr>\n",
       "      <th>7288</th>\n",
       "      <td>10/05/2023 20:06:24</td>\n",
       "      <td>L-D: 24H</td>\n",
       "      <td>28760</td>\n",
       "      <td>MADRID</td>\n",
       "      <td>Tres Cantos</td>\n",
       "      <td>TRES CANTOS</td>\n",
       "      <td>AVENIDA INDUSTRIA (DE LA), S/N</td>\n",
       "      <td>BP</td>\n",
       "      <td>1.449</td>\n",
       "      <td>1.399</td>\n",
       "      <td>...</td>\n",
       "      <td>1.133852</td>\n",
       "      <td>1.539</td>\n",
       "      <td>NaN</td>\n",
       "      <td>1.51336</td>\n",
       "      <td>1.589</td>\n",
       "      <td>1.542571</td>\n",
       "      <td>1.574223</td>\n",
       "      <td>1.731</td>\n",
       "      <td>1.737</td>\n",
       "      <td>1.730032</td>\n",
       "    </tr>\n",
       "    <tr>\n",
       "      <th>7285</th>\n",
       "      <td>10/05/2023 20:06:24</td>\n",
       "      <td>L-D: 06:00-00:00</td>\n",
       "      <td>28760</td>\n",
       "      <td>MADRID</td>\n",
       "      <td>Tres Cantos</td>\n",
       "      <td>TRES CANTOS</td>\n",
       "      <td>CALLE YUNQUE, 6</td>\n",
       "      <td>CEPSA</td>\n",
       "      <td>1.389</td>\n",
       "      <td>1.399</td>\n",
       "      <td>...</td>\n",
       "      <td>1.133852</td>\n",
       "      <td>1.455</td>\n",
       "      <td>NaN</td>\n",
       "      <td>1.51336</td>\n",
       "      <td>1.534</td>\n",
       "      <td>1.542571</td>\n",
       "      <td>1.574223</td>\n",
       "      <td>NaN</td>\n",
       "      <td>1.737</td>\n",
       "      <td>1.730032</td>\n",
       "    </tr>\n",
       "    <tr>\n",
       "      <th>7290</th>\n",
       "      <td>10/05/2023 20:06:24</td>\n",
       "      <td>L-D: 24H</td>\n",
       "      <td>28760</td>\n",
       "      <td>MADRID</td>\n",
       "      <td>Tres Cantos</td>\n",
       "      <td>TRES CANTOS</td>\n",
       "      <td>AVENIDA INDUSTRIA (DE LA), 52</td>\n",
       "      <td>PLEOTROSIL</td>\n",
       "      <td>1.319</td>\n",
       "      <td>1.399</td>\n",
       "      <td>...</td>\n",
       "      <td>1.133852</td>\n",
       "      <td>NaN</td>\n",
       "      <td>NaN</td>\n",
       "      <td>1.51336</td>\n",
       "      <td>1.459</td>\n",
       "      <td>1.542571</td>\n",
       "      <td>1.574223</td>\n",
       "      <td>NaN</td>\n",
       "      <td>1.737</td>\n",
       "      <td>1.730032</td>\n",
       "    </tr>\n",
       "    <tr>\n",
       "      <th>7284</th>\n",
       "      <td>10/05/2023 20:06:24</td>\n",
       "      <td>L-D: 24H</td>\n",
       "      <td>28760</td>\n",
       "      <td>MADRID</td>\n",
       "      <td>Tres Cantos</td>\n",
       "      <td>TRES CANTOS</td>\n",
       "      <td>CL AV DE LA INDUSTRIA, 58</td>\n",
       "      <td>REPSOL</td>\n",
       "      <td>1.439</td>\n",
       "      <td>1.399</td>\n",
       "      <td>...</td>\n",
       "      <td>1.133852</td>\n",
       "      <td>1.529</td>\n",
       "      <td>NaN</td>\n",
       "      <td>1.51336</td>\n",
       "      <td>1.589</td>\n",
       "      <td>1.542571</td>\n",
       "      <td>1.574223</td>\n",
       "      <td>1.749</td>\n",
       "      <td>1.737</td>\n",
       "      <td>1.730032</td>\n",
       "    </tr>\n",
       "    <tr>\n",
       "      <th>7287</th>\n",
       "      <td>10/05/2023 20:06:24</td>\n",
       "      <td>L-D: 06:00-22:00</td>\n",
       "      <td>28760</td>\n",
       "      <td>MADRID</td>\n",
       "      <td>Tres Cantos</td>\n",
       "      <td>TRES CANTOS</td>\n",
       "      <td>CL AVDA DE LA INDUSTRIA, 33</td>\n",
       "      <td>REPSOL</td>\n",
       "      <td>1.439</td>\n",
       "      <td>1.399</td>\n",
       "      <td>...</td>\n",
       "      <td>1.133852</td>\n",
       "      <td>1.529</td>\n",
       "      <td>NaN</td>\n",
       "      <td>1.51336</td>\n",
       "      <td>1.579</td>\n",
       "      <td>1.542571</td>\n",
       "      <td>1.574223</td>\n",
       "      <td>1.729</td>\n",
       "      <td>1.737</td>\n",
       "      <td>1.730032</td>\n",
       "    </tr>\n",
       "    <tr>\n",
       "      <th>7289</th>\n",
       "      <td>10/05/2023 20:06:24</td>\n",
       "      <td>L-V: 08:00-20:00</td>\n",
       "      <td>28760</td>\n",
       "      <td>MADRID</td>\n",
       "      <td>Tres Cantos</td>\n",
       "      <td>TRES CANTOS</td>\n",
       "      <td>CL AVENIDA ARTESANOS, 40</td>\n",
       "      <td>REPSOL</td>\n",
       "      <td>1.439</td>\n",
       "      <td>1.399</td>\n",
       "      <td>...</td>\n",
       "      <td>1.133852</td>\n",
       "      <td>NaN</td>\n",
       "      <td>NaN</td>\n",
       "      <td>1.51336</td>\n",
       "      <td>1.589</td>\n",
       "      <td>1.542571</td>\n",
       "      <td>1.574223</td>\n",
       "      <td>1.739</td>\n",
       "      <td>1.737</td>\n",
       "      <td>1.730032</td>\n",
       "    </tr>\n",
       "  </tbody>\n",
       "</table>\n",
       "<p>7 rows × 23 columns</p>\n",
       "</div>"
      ],
      "text/plain": [
       "                    Fecha           Horario   C.P. Provincia    Municipio  \\\n",
       "7286  10/05/2023 20:06:24          L-D: 24H  28760    MADRID  Tres Cantos   \n",
       "7288  10/05/2023 20:06:24          L-D: 24H  28760    MADRID  Tres Cantos   \n",
       "7285  10/05/2023 20:06:24  L-D: 06:00-00:00  28760    MADRID  Tres Cantos   \n",
       "7290  10/05/2023 20:06:24          L-D: 24H  28760    MADRID  Tres Cantos   \n",
       "7284  10/05/2023 20:06:24          L-D: 24H  28760    MADRID  Tres Cantos   \n",
       "7287  10/05/2023 20:06:24  L-D: 06:00-22:00  28760    MADRID  Tres Cantos   \n",
       "7289  10/05/2023 20:06:24  L-V: 08:00-20:00  28760    MADRID  Tres Cantos   \n",
       "\n",
       "        Localidad                       Dirección Proveedor de Servicio  \\\n",
       "7286  TRES CANTOS           AVENIDA INDUSTRIA, 44          BALLEOTROSIL   \n",
       "7288  TRES CANTOS  AVENIDA INDUSTRIA (DE LA), S/N                    BP   \n",
       "7285  TRES CANTOS                 CALLE YUNQUE, 6                 CEPSA   \n",
       "7290  TRES CANTOS   AVENIDA INDUSTRIA (DE LA), 52            PLEOTROSIL   \n",
       "7284  TRES CANTOS       CL AV DE LA INDUSTRIA, 58                REPSOL   \n",
       "7287  TRES CANTOS     CL AVDA DE LA INDUSTRIA, 33                REPSOL   \n",
       "7289  TRES CANTOS        CL AVENIDA ARTESANOS, 40                REPSOL   \n",
       "\n",
       "      Gasoleo A  Media C.P. Gasoleo A  ...  Media Nacional Gasoleo B  \\\n",
       "7286      1.319                 1.399  ...                  1.133852   \n",
       "7288      1.449                 1.399  ...                  1.133852   \n",
       "7285      1.389                 1.399  ...                  1.133852   \n",
       "7290      1.319                 1.399  ...                  1.133852   \n",
       "7284      1.439                 1.399  ...                  1.133852   \n",
       "7287      1.439                 1.399  ...                  1.133852   \n",
       "7289      1.439                 1.399  ...                  1.133852   \n",
       "\n",
       "      Gasoleo Premium  Media C.P. Gasoleo P  Media Nacional Gasoleo P  \\\n",
       "7286            1.329                   NaN                   1.51336   \n",
       "7288            1.539                   NaN                   1.51336   \n",
       "7285            1.455                   NaN                   1.51336   \n",
       "7290              NaN                   NaN                   1.51336   \n",
       "7284            1.529                   NaN                   1.51336   \n",
       "7287            1.529                   NaN                   1.51336   \n",
       "7289              NaN                   NaN                   1.51336   \n",
       "\n",
       "      Gasolina 95 E5  Media C.P. Gasolina 95  Media Nacional Gasolina 95  \\\n",
       "7286           1.459                1.542571                    1.574223   \n",
       "7288           1.589                1.542571                    1.574223   \n",
       "7285           1.534                1.542571                    1.574223   \n",
       "7290           1.459                1.542571                    1.574223   \n",
       "7284           1.589                1.542571                    1.574223   \n",
       "7287           1.579                1.542571                    1.574223   \n",
       "7289           1.589                1.542571                    1.574223   \n",
       "\n",
       "      Gasolina 98 E5  Media C.P. Gasolina 98  Media Nacional Gasolina 98  \n",
       "7286             NaN                   1.737                    1.730032  \n",
       "7288           1.731                   1.737                    1.730032  \n",
       "7285             NaN                   1.737                    1.730032  \n",
       "7290             NaN                   1.737                    1.730032  \n",
       "7284           1.749                   1.737                    1.730032  \n",
       "7287           1.729                   1.737                    1.730032  \n",
       "7289           1.739                   1.737                    1.730032  \n",
       "\n",
       "[7 rows x 23 columns]"
      ]
     },
     "execution_count": 132,
     "metadata": {},
     "output_type": "execute_result"
    }
   ],
   "source": [
    "# Analizar df_n usando .loc()\n",
    "\n",
    "df_n[df_n['C.P.'] == '28760'] "
   ]
  },
  {
   "cell_type": "code",
   "execution_count": 133,
   "id": "d4a411b2",
   "metadata": {},
   "outputs": [
    {
     "data": {
      "text/plain": [
       "Gasoleo A    1.04\n",
       "dtype: float64"
      ]
     },
     "execution_count": 133,
     "metadata": {},
     "output_type": "execute_result"
    }
   ],
   "source": [
    "df_n[['Gasoleo A']].min()"
   ]
  },
  {
   "cell_type": "code",
   "execution_count": 134,
   "id": "3b1f1e51",
   "metadata": {},
   "outputs": [
    {
     "data": {
      "text/plain": [
       "pandas.core.series.Series"
      ]
     },
     "execution_count": 134,
     "metadata": {},
     "output_type": "execute_result"
    }
   ],
   "source": [
    "type(df_n[['Gasoleo A']].min())"
   ]
  },
  {
   "cell_type": "code",
   "execution_count": 135,
   "id": "90b1365c",
   "metadata": {},
   "outputs": [
    {
     "data": {
      "text/plain": [
       "Gasoleo A    3878\n",
       "dtype: int64"
      ]
     },
     "execution_count": 135,
     "metadata": {},
     "output_type": "execute_result"
    }
   ],
   "source": [
    "df_n[['Gasoleo A']].idxmin()"
   ]
  },
  {
   "cell_type": "code",
   "execution_count": 136,
   "id": "2e862788",
   "metadata": {},
   "outputs": [
    {
     "data": {
      "text/plain": [
       "pandas.core.series.Series"
      ]
     },
     "execution_count": 136,
     "metadata": {},
     "output_type": "execute_result"
    }
   ],
   "source": [
    "type(df_n[['Gasoleo A']].idxmin())"
   ]
  },
  {
   "cell_type": "code",
   "execution_count": 137,
   "id": "9de51546",
   "metadata": {},
   "outputs": [],
   "source": [
    "#df_n.loc[df_n[['Gasoleo A']].min()]"
   ]
  },
  {
   "cell_type": "code",
   "execution_count": 138,
   "id": "6189b48b",
   "metadata": {},
   "outputs": [],
   "source": [
    "#df_n.head()"
   ]
  },
  {
   "cell_type": "code",
   "execution_count": 139,
   "id": "2532402d",
   "metadata": {},
   "outputs": [],
   "source": [
    "#df_n.loc[1.290]"
   ]
  },
  {
   "cell_type": "code",
   "execution_count": 140,
   "id": "eaca1f27",
   "metadata": {},
   "outputs": [
    {
     "data": {
      "text/plain": [
       "Int64Index([ 2930,  5106, 10864, 10398,  9387, 10874,  1766,   668,  1757,\n",
       "             1820,\n",
       "            ...\n",
       "            10634,  2541,  4808,  4775,  2246,  4951,  7340, 11539,   539,\n",
       "            11087],\n",
       "           dtype='int64', length=11891)"
      ]
     },
     "execution_count": 140,
     "metadata": {},
     "output_type": "execute_result"
    }
   ],
   "source": [
    "df_n.index"
   ]
  },
  {
   "cell_type": "code",
   "execution_count": 141,
   "id": "c8047416",
   "metadata": {},
   "outputs": [
    {
     "data": {
      "text/plain": [
       "pandas.core.frame.DataFrame"
      ]
     },
     "execution_count": 141,
     "metadata": {},
     "output_type": "execute_result"
    }
   ],
   "source": [
    "type(df_n.loc[df_n[['Gasoleo A']].idxmin()])"
   ]
  },
  {
   "cell_type": "code",
   "execution_count": 142,
   "id": "5f0aaab8",
   "metadata": {},
   "outputs": [
    {
     "data": {
      "text/plain": [
       "pandas.core.series.Series"
      ]
     },
     "execution_count": 142,
     "metadata": {},
     "output_type": "execute_result"
    }
   ],
   "source": [
    "type(df_n.loc[9213])"
   ]
  },
  {
   "cell_type": "code",
   "execution_count": 143,
   "id": "aeca5642",
   "metadata": {},
   "outputs": [
    {
     "data": {
      "text/plain": [
       "<pandas.core.groupby.generic.DataFrameGroupBy object at 0x000001F49C090520>"
      ]
     },
     "execution_count": 143,
     "metadata": {},
     "output_type": "execute_result"
    }
   ],
   "source": [
    "a = df_n.groupby(by=[\"Municipio\"])\n",
    "a"
   ]
  },
  {
   "cell_type": "code",
   "execution_count": 144,
   "id": "4afac610",
   "metadata": {},
   "outputs": [
    {
     "data": {
      "text/plain": [
       "Municipio\n",
       "Abadiño                                     [48220]\n",
       "Abadín                               [27738, 27730]\n",
       "Abanilla                                    [30640]\n",
       "Abanto y Ciérvana-Abanto Zierbena           [48500]\n",
       "Abarán                                      [30550]\n",
       "                                          ...      \n",
       "Íscar                                       [47420]\n",
       "Òdena                                       [08711]\n",
       "Ólvega                                      [42110]\n",
       "Órgiva                                      [18400]\n",
       "Úbeda                                       [23400]\n",
       "Name: C.P., Length: 3432, dtype: object"
      ]
     },
     "execution_count": 144,
     "metadata": {},
     "output_type": "execute_result"
    }
   ],
   "source": [
    "b = a[\"C.P.\"].unique()\n",
    "b"
   ]
  },
  {
   "cell_type": "markdown",
   "id": "3f8e8e7f",
   "metadata": {},
   "source": [
    "# Funciones"
   ]
  },
  {
   "cell_type": "code",
   "execution_count": 145,
   "id": "ebf8ea98",
   "metadata": {},
   "outputs": [],
   "source": [
    "# Precio mínimo de combstible en un codigo postal \n",
    "def cp_minimo(x,y):\n",
    "# x = Código Postal\n",
    "# y = Tipo de combustible para el precio mínimo\n",
    "    cod_postal = df_n[df_n['C.P.'] == x]\n",
    "    combustible = cod_postal.loc[cod_postal[[y]].idxmin()]\n",
    "    return combustible\n"
   ]
  },
  {
   "cell_type": "code",
   "execution_count": 146,
   "id": "e31206c6",
   "metadata": {},
   "outputs": [
    {
     "data": {
      "text/html": [
       "<div>\n",
       "<style scoped>\n",
       "    .dataframe tbody tr th:only-of-type {\n",
       "        vertical-align: middle;\n",
       "    }\n",
       "\n",
       "    .dataframe tbody tr th {\n",
       "        vertical-align: top;\n",
       "    }\n",
       "\n",
       "    .dataframe thead th {\n",
       "        text-align: right;\n",
       "    }\n",
       "</style>\n",
       "<table border=\"1\" class=\"dataframe\">\n",
       "  <thead>\n",
       "    <tr style=\"text-align: right;\">\n",
       "      <th></th>\n",
       "      <th>Fecha</th>\n",
       "      <th>Horario</th>\n",
       "      <th>C.P.</th>\n",
       "      <th>Provincia</th>\n",
       "      <th>Municipio</th>\n",
       "      <th>Localidad</th>\n",
       "      <th>Dirección</th>\n",
       "      <th>Proveedor de Servicio</th>\n",
       "      <th>Gasoleo A</th>\n",
       "      <th>Media C.P. Gasoleo A</th>\n",
       "      <th>...</th>\n",
       "      <th>Media Nacional Gasoleo B</th>\n",
       "      <th>Gasoleo Premium</th>\n",
       "      <th>Media C.P. Gasoleo P</th>\n",
       "      <th>Media Nacional Gasoleo P</th>\n",
       "      <th>Gasolina 95 E5</th>\n",
       "      <th>Media C.P. Gasolina 95</th>\n",
       "      <th>Media Nacional Gasolina 95</th>\n",
       "      <th>Gasolina 98 E5</th>\n",
       "      <th>Media C.P. Gasolina 98</th>\n",
       "      <th>Media Nacional Gasolina 98</th>\n",
       "    </tr>\n",
       "  </thead>\n",
       "  <tbody>\n",
       "    <tr>\n",
       "      <th>7286</th>\n",
       "      <td>10/05/2023 20:06:24</td>\n",
       "      <td>L-D: 24H</td>\n",
       "      <td>28760</td>\n",
       "      <td>MADRID</td>\n",
       "      <td>Tres Cantos</td>\n",
       "      <td>TRES CANTOS</td>\n",
       "      <td>AVENIDA INDUSTRIA, 44</td>\n",
       "      <td>BALLEOTROSIL</td>\n",
       "      <td>1.319</td>\n",
       "      <td>1.399</td>\n",
       "      <td>...</td>\n",
       "      <td>1.133852</td>\n",
       "      <td>1.329</td>\n",
       "      <td>NaN</td>\n",
       "      <td>1.51336</td>\n",
       "      <td>1.459</td>\n",
       "      <td>1.542571</td>\n",
       "      <td>1.574223</td>\n",
       "      <td>NaN</td>\n",
       "      <td>1.737</td>\n",
       "      <td>1.730032</td>\n",
       "    </tr>\n",
       "  </tbody>\n",
       "</table>\n",
       "<p>1 rows × 23 columns</p>\n",
       "</div>"
      ],
      "text/plain": [
       "                    Fecha   Horario   C.P. Provincia    Municipio  \\\n",
       "7286  10/05/2023 20:06:24  L-D: 24H  28760    MADRID  Tres Cantos   \n",
       "\n",
       "        Localidad              Dirección Proveedor de Servicio  Gasoleo A  \\\n",
       "7286  TRES CANTOS  AVENIDA INDUSTRIA, 44          BALLEOTROSIL      1.319   \n",
       "\n",
       "      Media C.P. Gasoleo A  ...  Media Nacional Gasoleo B  Gasoleo Premium  \\\n",
       "7286                 1.399  ...                  1.133852            1.329   \n",
       "\n",
       "      Media C.P. Gasoleo P  Media Nacional Gasoleo P  Gasolina 95 E5  \\\n",
       "7286                   NaN                   1.51336           1.459   \n",
       "\n",
       "      Media C.P. Gasolina 95  Media Nacional Gasolina 95  Gasolina 98 E5  \\\n",
       "7286                1.542571                    1.574223             NaN   \n",
       "\n",
       "      Media C.P. Gasolina 98  Media Nacional Gasolina 98  \n",
       "7286                   1.737                    1.730032  \n",
       "\n",
       "[1 rows x 23 columns]"
      ]
     },
     "execution_count": 146,
     "metadata": {},
     "output_type": "execute_result"
    }
   ],
   "source": [
    "cp_minimo('28760', 'Gasoleo A')"
   ]
  },
  {
   "cell_type": "markdown",
   "id": "2279f697",
   "metadata": {},
   "source": [
    "---"
   ]
  },
  {
   "cell_type": "code",
   "execution_count": 147,
   "id": "ee65c0fb",
   "metadata": {},
   "outputs": [
    {
     "data": {
      "text/html": [
       "<div>\n",
       "<style scoped>\n",
       "    .dataframe tbody tr th:only-of-type {\n",
       "        vertical-align: middle;\n",
       "    }\n",
       "\n",
       "    .dataframe tbody tr th {\n",
       "        vertical-align: top;\n",
       "    }\n",
       "\n",
       "    .dataframe thead th {\n",
       "        text-align: right;\n",
       "    }\n",
       "</style>\n",
       "<table border=\"1\" class=\"dataframe\">\n",
       "  <thead>\n",
       "    <tr style=\"text-align: right;\">\n",
       "      <th></th>\n",
       "      <th>Fecha</th>\n",
       "      <th>Horario</th>\n",
       "      <th>C.P.</th>\n",
       "      <th>Provincia</th>\n",
       "      <th>Municipio</th>\n",
       "      <th>Localidad</th>\n",
       "      <th>Dirección</th>\n",
       "      <th>Proveedor de Servicio</th>\n",
       "      <th>Gasoleo A</th>\n",
       "      <th>Media C.P. Gasoleo A</th>\n",
       "      <th>...</th>\n",
       "      <th>Media Nacional Gasoleo B</th>\n",
       "      <th>Gasoleo Premium</th>\n",
       "      <th>Media C.P. Gasoleo P</th>\n",
       "      <th>Media Nacional Gasoleo P</th>\n",
       "      <th>Gasolina 95 E5</th>\n",
       "      <th>Media C.P. Gasolina 95</th>\n",
       "      <th>Media Nacional Gasolina 95</th>\n",
       "      <th>Gasolina 98 E5</th>\n",
       "      <th>Media C.P. Gasolina 98</th>\n",
       "      <th>Media Nacional Gasolina 98</th>\n",
       "    </tr>\n",
       "  </thead>\n",
       "  <tbody>\n",
       "    <tr>\n",
       "      <th>6608</th>\n",
       "      <td>10/05/2023 20:06:24</td>\n",
       "      <td>L-D: 06:00-00:00</td>\n",
       "      <td>28500</td>\n",
       "      <td>MADRID</td>\n",
       "      <td>Arganda del Rey</td>\n",
       "      <td>ARGANDA</td>\n",
       "      <td>AVENIDA DE MADRID, 126</td>\n",
       "      <td>ATEOTROSIL</td>\n",
       "      <td>1.369</td>\n",
       "      <td>1.426077</td>\n",
       "      <td>...</td>\n",
       "      <td>1.133852</td>\n",
       "      <td>1.379</td>\n",
       "      <td>1.259</td>\n",
       "      <td>1.51336</td>\n",
       "      <td>1.519</td>\n",
       "      <td>1.578308</td>\n",
       "      <td>1.574223</td>\n",
       "      <td>NaN</td>\n",
       "      <td>1.782667</td>\n",
       "      <td>1.730032</td>\n",
       "    </tr>\n",
       "    <tr>\n",
       "      <th>6615</th>\n",
       "      <td>10/05/2023 20:06:24</td>\n",
       "      <td>L-D: 24H</td>\n",
       "      <td>28500</td>\n",
       "      <td>MADRID</td>\n",
       "      <td>Arganda del Rey</td>\n",
       "      <td>ARGANDA</td>\n",
       "      <td>CAMINO SAN MARTIN DE LA VEGA, 8</td>\n",
       "      <td>BALLEOTROSIL</td>\n",
       "      <td>1.369</td>\n",
       "      <td>1.426077</td>\n",
       "      <td>...</td>\n",
       "      <td>1.133852</td>\n",
       "      <td>NaN</td>\n",
       "      <td>1.259</td>\n",
       "      <td>1.51336</td>\n",
       "      <td>1.519</td>\n",
       "      <td>1.578308</td>\n",
       "      <td>1.574223</td>\n",
       "      <td>NaN</td>\n",
       "      <td>1.782667</td>\n",
       "      <td>1.730032</td>\n",
       "    </tr>\n",
       "    <tr>\n",
       "      <th>6616</th>\n",
       "      <td>10/05/2023 20:06:24</td>\n",
       "      <td>L-D: 24H</td>\n",
       "      <td>28500</td>\n",
       "      <td>MADRID</td>\n",
       "      <td>Arganda del Rey</td>\n",
       "      <td>ARGANDA</td>\n",
       "      <td>CAMINO CAMINO DE SAN MARTÍN DE LA VEGA A ARGAN...</td>\n",
       "      <td>BALLEOTROSIL</td>\n",
       "      <td>1.369</td>\n",
       "      <td>1.426077</td>\n",
       "      <td>...</td>\n",
       "      <td>1.133852</td>\n",
       "      <td>NaN</td>\n",
       "      <td>1.259</td>\n",
       "      <td>1.51336</td>\n",
       "      <td>1.519</td>\n",
       "      <td>1.578308</td>\n",
       "      <td>1.574223</td>\n",
       "      <td>NaN</td>\n",
       "      <td>1.782667</td>\n",
       "      <td>1.730032</td>\n",
       "    </tr>\n",
       "    <tr>\n",
       "      <th>6606</th>\n",
       "      <td>10/05/2023 20:06:24</td>\n",
       "      <td>L-D: 24H</td>\n",
       "      <td>28500</td>\n",
       "      <td>MADRID</td>\n",
       "      <td>Arganda del Rey</td>\n",
       "      <td>ARGANDA</td>\n",
       "      <td>TRAVESÍA SIERRA DE GATA, 17</td>\n",
       "      <td>BALLEOTROSIL</td>\n",
       "      <td>1.369</td>\n",
       "      <td>1.426077</td>\n",
       "      <td>...</td>\n",
       "      <td>1.133852</td>\n",
       "      <td>1.379</td>\n",
       "      <td>1.259</td>\n",
       "      <td>1.51336</td>\n",
       "      <td>1.519</td>\n",
       "      <td>1.578308</td>\n",
       "      <td>1.574223</td>\n",
       "      <td>NaN</td>\n",
       "      <td>1.782667</td>\n",
       "      <td>1.730032</td>\n",
       "    </tr>\n",
       "    <tr>\n",
       "      <th>6611</th>\n",
       "      <td>10/05/2023 20:06:24</td>\n",
       "      <td>L-D: 24H</td>\n",
       "      <td>28500</td>\n",
       "      <td>MADRID</td>\n",
       "      <td>Arganda del Rey</td>\n",
       "      <td>ARGANDA</td>\n",
       "      <td>AVENIDA EJERCITO (DEL), 44</td>\n",
       "      <td>BP</td>\n",
       "      <td>1.489</td>\n",
       "      <td>1.426077</td>\n",
       "      <td>...</td>\n",
       "      <td>1.133852</td>\n",
       "      <td>1.579</td>\n",
       "      <td>1.259</td>\n",
       "      <td>1.51336</td>\n",
       "      <td>1.649</td>\n",
       "      <td>1.578308</td>\n",
       "      <td>1.574223</td>\n",
       "      <td>1.791</td>\n",
       "      <td>1.782667</td>\n",
       "      <td>1.730032</td>\n",
       "    </tr>\n",
       "    <tr>\n",
       "      <th>6610</th>\n",
       "      <td>10/05/2023 20:06:24</td>\n",
       "      <td>L-D: 06:00-22:00</td>\n",
       "      <td>28500</td>\n",
       "      <td>MADRID</td>\n",
       "      <td>Arganda del Rey</td>\n",
       "      <td>ARGANDA</td>\n",
       "      <td>AVENIDA DE MADRID, 37</td>\n",
       "      <td>BP</td>\n",
       "      <td>1.489</td>\n",
       "      <td>1.426077</td>\n",
       "      <td>...</td>\n",
       "      <td>1.133852</td>\n",
       "      <td>1.579</td>\n",
       "      <td>1.259</td>\n",
       "      <td>1.51336</td>\n",
       "      <td>1.649</td>\n",
       "      <td>1.578308</td>\n",
       "      <td>1.574223</td>\n",
       "      <td>1.791</td>\n",
       "      <td>1.782667</td>\n",
       "      <td>1.730032</td>\n",
       "    </tr>\n",
       "    <tr>\n",
       "      <th>6609</th>\n",
       "      <td>10/05/2023 20:06:24</td>\n",
       "      <td>L-D: 24H</td>\n",
       "      <td>28500</td>\n",
       "      <td>MADRID</td>\n",
       "      <td>Arganda del Rey</td>\n",
       "      <td>ARGANDA</td>\n",
       "      <td>AVENIDA VALDEARGANDA, 8</td>\n",
       "      <td>CEPSA</td>\n",
       "      <td>1.485</td>\n",
       "      <td>1.426077</td>\n",
       "      <td>...</td>\n",
       "      <td>1.133852</td>\n",
       "      <td>1.585</td>\n",
       "      <td>1.259</td>\n",
       "      <td>1.51336</td>\n",
       "      <td>1.634</td>\n",
       "      <td>1.578308</td>\n",
       "      <td>1.574223</td>\n",
       "      <td>1.766</td>\n",
       "      <td>1.782667</td>\n",
       "      <td>1.730032</td>\n",
       "    </tr>\n",
       "    <tr>\n",
       "      <th>6613</th>\n",
       "      <td>10/05/2023 20:06:24</td>\n",
       "      <td>L-D: 07:00-22:00</td>\n",
       "      <td>28500</td>\n",
       "      <td>MADRID</td>\n",
       "      <td>Arganda del Rey</td>\n",
       "      <td>ARGANDA</td>\n",
       "      <td>AVENIDA FINANZAUTO (DE), 2</td>\n",
       "      <td>DELFIOIL</td>\n",
       "      <td>1.369</td>\n",
       "      <td>1.426077</td>\n",
       "      <td>...</td>\n",
       "      <td>1.133852</td>\n",
       "      <td>NaN</td>\n",
       "      <td>1.259</td>\n",
       "      <td>1.51336</td>\n",
       "      <td>1.519</td>\n",
       "      <td>1.578308</td>\n",
       "      <td>1.574223</td>\n",
       "      <td>NaN</td>\n",
       "      <td>1.782667</td>\n",
       "      <td>1.730032</td>\n",
       "    </tr>\n",
       "    <tr>\n",
       "      <th>6617</th>\n",
       "      <td>10/05/2023 20:06:24</td>\n",
       "      <td>L-D: 24H</td>\n",
       "      <td>28500</td>\n",
       "      <td>MADRID</td>\n",
       "      <td>Arganda del Rey</td>\n",
       "      <td>ARGANDA</td>\n",
       "      <td>AVENIDA MADRID (DE), SN</td>\n",
       "      <td>PETROPRIX</td>\n",
       "      <td>1.369</td>\n",
       "      <td>1.426077</td>\n",
       "      <td>...</td>\n",
       "      <td>1.133852</td>\n",
       "      <td>NaN</td>\n",
       "      <td>1.259</td>\n",
       "      <td>1.51336</td>\n",
       "      <td>1.519</td>\n",
       "      <td>1.578308</td>\n",
       "      <td>1.574223</td>\n",
       "      <td>NaN</td>\n",
       "      <td>1.782667</td>\n",
       "      <td>1.730032</td>\n",
       "    </tr>\n",
       "    <tr>\n",
       "      <th>6618</th>\n",
       "      <td>10/05/2023 20:06:24</td>\n",
       "      <td>L-D: 24H</td>\n",
       "      <td>28500</td>\n",
       "      <td>MADRID</td>\n",
       "      <td>Arganda del Rey</td>\n",
       "      <td>ARGANDA</td>\n",
       "      <td>AVENIDA MADRID (DE), 66</td>\n",
       "      <td>PLEOTROSIL</td>\n",
       "      <td>1.369</td>\n",
       "      <td>1.426077</td>\n",
       "      <td>...</td>\n",
       "      <td>1.133852</td>\n",
       "      <td>NaN</td>\n",
       "      <td>1.259</td>\n",
       "      <td>1.51336</td>\n",
       "      <td>1.519</td>\n",
       "      <td>1.578308</td>\n",
       "      <td>1.574223</td>\n",
       "      <td>NaN</td>\n",
       "      <td>1.782667</td>\n",
       "      <td>1.730032</td>\n",
       "    </tr>\n",
       "    <tr>\n",
       "      <th>6614</th>\n",
       "      <td>10/05/2023 20:06:24</td>\n",
       "      <td>L: 24H</td>\n",
       "      <td>28500</td>\n",
       "      <td>MADRID</td>\n",
       "      <td>Arganda del Rey</td>\n",
       "      <td>ARGANDA</td>\n",
       "      <td>CARRETERA M-832 KM. 3</td>\n",
       "      <td>REPSOL</td>\n",
       "      <td>1.502</td>\n",
       "      <td>1.426077</td>\n",
       "      <td>...</td>\n",
       "      <td>1.133852</td>\n",
       "      <td>NaN</td>\n",
       "      <td>1.259</td>\n",
       "      <td>1.51336</td>\n",
       "      <td>1.652</td>\n",
       "      <td>1.578308</td>\n",
       "      <td>1.574223</td>\n",
       "      <td>NaN</td>\n",
       "      <td>1.782667</td>\n",
       "      <td>1.730032</td>\n",
       "    </tr>\n",
       "    <tr>\n",
       "      <th>6612</th>\n",
       "      <td>10/05/2023 20:06:24</td>\n",
       "      <td>L-D: 24H</td>\n",
       "      <td>28500</td>\n",
       "      <td>MADRID</td>\n",
       "      <td>Arganda del Rey</td>\n",
       "      <td>ARGANDA</td>\n",
       "      <td>CARRETERA M-832 KM. 3</td>\n",
       "      <td>REPSOL</td>\n",
       "      <td>1.502</td>\n",
       "      <td>1.426077</td>\n",
       "      <td>...</td>\n",
       "      <td>1.133852</td>\n",
       "      <td>1.572</td>\n",
       "      <td>1.259</td>\n",
       "      <td>1.51336</td>\n",
       "      <td>1.652</td>\n",
       "      <td>1.578308</td>\n",
       "      <td>1.574223</td>\n",
       "      <td>NaN</td>\n",
       "      <td>1.782667</td>\n",
       "      <td>1.730032</td>\n",
       "    </tr>\n",
       "    <tr>\n",
       "      <th>6607</th>\n",
       "      <td>10/05/2023 20:06:24</td>\n",
       "      <td>L-V: 06:00-22:00; S-D: 08:00-22:00</td>\n",
       "      <td>28500</td>\n",
       "      <td>MADRID</td>\n",
       "      <td>Arganda del Rey</td>\n",
       "      <td>ARGANDA</td>\n",
       "      <td>AVDA DE MADRID, 103</td>\n",
       "      <td>REPSOL</td>\n",
       "      <td>1.489</td>\n",
       "      <td>1.426077</td>\n",
       "      <td>...</td>\n",
       "      <td>1.133852</td>\n",
       "      <td>1.499</td>\n",
       "      <td>1.259</td>\n",
       "      <td>1.51336</td>\n",
       "      <td>1.649</td>\n",
       "      <td>1.578308</td>\n",
       "      <td>1.574223</td>\n",
       "      <td>NaN</td>\n",
       "      <td>1.782667</td>\n",
       "      <td>1.730032</td>\n",
       "    </tr>\n",
       "  </tbody>\n",
       "</table>\n",
       "<p>13 rows × 23 columns</p>\n",
       "</div>"
      ],
      "text/plain": [
       "                    Fecha                             Horario   C.P.  \\\n",
       "6608  10/05/2023 20:06:24                    L-D: 06:00-00:00  28500   \n",
       "6615  10/05/2023 20:06:24                            L-D: 24H  28500   \n",
       "6616  10/05/2023 20:06:24                            L-D: 24H  28500   \n",
       "6606  10/05/2023 20:06:24                            L-D: 24H  28500   \n",
       "6611  10/05/2023 20:06:24                            L-D: 24H  28500   \n",
       "6610  10/05/2023 20:06:24                    L-D: 06:00-22:00  28500   \n",
       "6609  10/05/2023 20:06:24                            L-D: 24H  28500   \n",
       "6613  10/05/2023 20:06:24                    L-D: 07:00-22:00  28500   \n",
       "6617  10/05/2023 20:06:24                            L-D: 24H  28500   \n",
       "6618  10/05/2023 20:06:24                            L-D: 24H  28500   \n",
       "6614  10/05/2023 20:06:24                              L: 24H  28500   \n",
       "6612  10/05/2023 20:06:24                            L-D: 24H  28500   \n",
       "6607  10/05/2023 20:06:24  L-V: 06:00-22:00; S-D: 08:00-22:00  28500   \n",
       "\n",
       "     Provincia        Municipio Localidad  \\\n",
       "6608    MADRID  Arganda del Rey   ARGANDA   \n",
       "6615    MADRID  Arganda del Rey   ARGANDA   \n",
       "6616    MADRID  Arganda del Rey   ARGANDA   \n",
       "6606    MADRID  Arganda del Rey   ARGANDA   \n",
       "6611    MADRID  Arganda del Rey   ARGANDA   \n",
       "6610    MADRID  Arganda del Rey   ARGANDA   \n",
       "6609    MADRID  Arganda del Rey   ARGANDA   \n",
       "6613    MADRID  Arganda del Rey   ARGANDA   \n",
       "6617    MADRID  Arganda del Rey   ARGANDA   \n",
       "6618    MADRID  Arganda del Rey   ARGANDA   \n",
       "6614    MADRID  Arganda del Rey   ARGANDA   \n",
       "6612    MADRID  Arganda del Rey   ARGANDA   \n",
       "6607    MADRID  Arganda del Rey   ARGANDA   \n",
       "\n",
       "                                              Dirección Proveedor de Servicio  \\\n",
       "6608                             AVENIDA DE MADRID, 126            ATEOTROSIL   \n",
       "6615                    CAMINO SAN MARTIN DE LA VEGA, 8          BALLEOTROSIL   \n",
       "6616  CAMINO CAMINO DE SAN MARTÍN DE LA VEGA A ARGAN...          BALLEOTROSIL   \n",
       "6606                        TRAVESÍA SIERRA DE GATA, 17          BALLEOTROSIL   \n",
       "6611                         AVENIDA EJERCITO (DEL), 44                    BP   \n",
       "6610                              AVENIDA DE MADRID, 37                    BP   \n",
       "6609                            AVENIDA VALDEARGANDA, 8                 CEPSA   \n",
       "6613                         AVENIDA FINANZAUTO (DE), 2              DELFIOIL   \n",
       "6617                            AVENIDA MADRID (DE), SN             PETROPRIX   \n",
       "6618                            AVENIDA MADRID (DE), 66            PLEOTROSIL   \n",
       "6614                              CARRETERA M-832 KM. 3                REPSOL   \n",
       "6612                              CARRETERA M-832 KM. 3                REPSOL   \n",
       "6607                                AVDA DE MADRID, 103                REPSOL   \n",
       "\n",
       "      Gasoleo A  Media C.P. Gasoleo A  ...  Media Nacional Gasoleo B  \\\n",
       "6608      1.369              1.426077  ...                  1.133852   \n",
       "6615      1.369              1.426077  ...                  1.133852   \n",
       "6616      1.369              1.426077  ...                  1.133852   \n",
       "6606      1.369              1.426077  ...                  1.133852   \n",
       "6611      1.489              1.426077  ...                  1.133852   \n",
       "6610      1.489              1.426077  ...                  1.133852   \n",
       "6609      1.485              1.426077  ...                  1.133852   \n",
       "6613      1.369              1.426077  ...                  1.133852   \n",
       "6617      1.369              1.426077  ...                  1.133852   \n",
       "6618      1.369              1.426077  ...                  1.133852   \n",
       "6614      1.502              1.426077  ...                  1.133852   \n",
       "6612      1.502              1.426077  ...                  1.133852   \n",
       "6607      1.489              1.426077  ...                  1.133852   \n",
       "\n",
       "      Gasoleo Premium  Media C.P. Gasoleo P  Media Nacional Gasoleo P  \\\n",
       "6608            1.379                 1.259                   1.51336   \n",
       "6615              NaN                 1.259                   1.51336   \n",
       "6616              NaN                 1.259                   1.51336   \n",
       "6606            1.379                 1.259                   1.51336   \n",
       "6611            1.579                 1.259                   1.51336   \n",
       "6610            1.579                 1.259                   1.51336   \n",
       "6609            1.585                 1.259                   1.51336   \n",
       "6613              NaN                 1.259                   1.51336   \n",
       "6617              NaN                 1.259                   1.51336   \n",
       "6618              NaN                 1.259                   1.51336   \n",
       "6614              NaN                 1.259                   1.51336   \n",
       "6612            1.572                 1.259                   1.51336   \n",
       "6607            1.499                 1.259                   1.51336   \n",
       "\n",
       "      Gasolina 95 E5  Media C.P. Gasolina 95  Media Nacional Gasolina 95  \\\n",
       "6608           1.519                1.578308                    1.574223   \n",
       "6615           1.519                1.578308                    1.574223   \n",
       "6616           1.519                1.578308                    1.574223   \n",
       "6606           1.519                1.578308                    1.574223   \n",
       "6611           1.649                1.578308                    1.574223   \n",
       "6610           1.649                1.578308                    1.574223   \n",
       "6609           1.634                1.578308                    1.574223   \n",
       "6613           1.519                1.578308                    1.574223   \n",
       "6617           1.519                1.578308                    1.574223   \n",
       "6618           1.519                1.578308                    1.574223   \n",
       "6614           1.652                1.578308                    1.574223   \n",
       "6612           1.652                1.578308                    1.574223   \n",
       "6607           1.649                1.578308                    1.574223   \n",
       "\n",
       "      Gasolina 98 E5  Media C.P. Gasolina 98  Media Nacional Gasolina 98  \n",
       "6608             NaN                1.782667                    1.730032  \n",
       "6615             NaN                1.782667                    1.730032  \n",
       "6616             NaN                1.782667                    1.730032  \n",
       "6606             NaN                1.782667                    1.730032  \n",
       "6611           1.791                1.782667                    1.730032  \n",
       "6610           1.791                1.782667                    1.730032  \n",
       "6609           1.766                1.782667                    1.730032  \n",
       "6613             NaN                1.782667                    1.730032  \n",
       "6617             NaN                1.782667                    1.730032  \n",
       "6618             NaN                1.782667                    1.730032  \n",
       "6614             NaN                1.782667                    1.730032  \n",
       "6612             NaN                1.782667                    1.730032  \n",
       "6607             NaN                1.782667                    1.730032  \n",
       "\n",
       "[13 rows x 23 columns]"
      ]
     },
     "execution_count": 147,
     "metadata": {},
     "output_type": "execute_result"
    }
   ],
   "source": [
    "df_n[df_n['C.P.'] == \"28500\"]"
   ]
  },
  {
   "cell_type": "code",
   "execution_count": 148,
   "id": "2b4ed723",
   "metadata": {},
   "outputs": [
    {
     "data": {
      "text/html": [
       "<div>\n",
       "<style scoped>\n",
       "    .dataframe tbody tr th:only-of-type {\n",
       "        vertical-align: middle;\n",
       "    }\n",
       "\n",
       "    .dataframe tbody tr th {\n",
       "        vertical-align: top;\n",
       "    }\n",
       "\n",
       "    .dataframe thead th {\n",
       "        text-align: right;\n",
       "    }\n",
       "</style>\n",
       "<table border=\"1\" class=\"dataframe\">\n",
       "  <thead>\n",
       "    <tr style=\"text-align: right;\">\n",
       "      <th></th>\n",
       "      <th>Fecha</th>\n",
       "      <th>Horario</th>\n",
       "      <th>C.P.</th>\n",
       "      <th>Provincia</th>\n",
       "      <th>Municipio</th>\n",
       "      <th>Localidad</th>\n",
       "      <th>Dirección</th>\n",
       "      <th>Proveedor de Servicio</th>\n",
       "      <th>Gasoleo A</th>\n",
       "      <th>Media C.P. Gasoleo A</th>\n",
       "      <th>...</th>\n",
       "      <th>Media Nacional Gasoleo B</th>\n",
       "      <th>Gasoleo Premium</th>\n",
       "      <th>Media C.P. Gasoleo P</th>\n",
       "      <th>Media Nacional Gasoleo P</th>\n",
       "      <th>Gasolina 95 E5</th>\n",
       "      <th>Media C.P. Gasolina 95</th>\n",
       "      <th>Media Nacional Gasolina 95</th>\n",
       "      <th>Gasolina 98 E5</th>\n",
       "      <th>Media C.P. Gasolina 98</th>\n",
       "      <th>Media Nacional Gasolina 98</th>\n",
       "    </tr>\n",
       "  </thead>\n",
       "  <tbody>\n",
       "    <tr>\n",
       "      <th>7327</th>\n",
       "      <td>10/05/2023 20:06:24</td>\n",
       "      <td>L-D: 06:00-22:00</td>\n",
       "      <td>28609</td>\n",
       "      <td>MADRID</td>\n",
       "      <td>Villanueva de Perales</td>\n",
       "      <td>VILLANUEVA DE PERALES</td>\n",
       "      <td>CARRETERA M-501 KM. 26,800</td>\n",
       "      <td>GALP</td>\n",
       "      <td>1.449</td>\n",
       "      <td>1.464</td>\n",
       "      <td>...</td>\n",
       "      <td>1.133852</td>\n",
       "      <td>1.519</td>\n",
       "      <td>NaN</td>\n",
       "      <td>1.51336</td>\n",
       "      <td>1.579</td>\n",
       "      <td>1.579</td>\n",
       "      <td>1.574223</td>\n",
       "      <td>1.699</td>\n",
       "      <td>1.699</td>\n",
       "      <td>1.730032</td>\n",
       "    </tr>\n",
       "    <tr>\n",
       "      <th>7326</th>\n",
       "      <td>10/05/2023 20:06:24</td>\n",
       "      <td>L-D: 24H</td>\n",
       "      <td>28609</td>\n",
       "      <td>MADRID</td>\n",
       "      <td>Villanueva de Perales</td>\n",
       "      <td>VILLANUEVA DE PERALES</td>\n",
       "      <td>CARRETERA M-501 KM. 27</td>\n",
       "      <td>GALP</td>\n",
       "      <td>1.449</td>\n",
       "      <td>1.464</td>\n",
       "      <td>...</td>\n",
       "      <td>1.133852</td>\n",
       "      <td>1.519</td>\n",
       "      <td>NaN</td>\n",
       "      <td>1.51336</td>\n",
       "      <td>1.579</td>\n",
       "      <td>1.579</td>\n",
       "      <td>1.574223</td>\n",
       "      <td>1.699</td>\n",
       "      <td>1.699</td>\n",
       "      <td>1.730032</td>\n",
       "    </tr>\n",
       "    <tr>\n",
       "      <th>7243</th>\n",
       "      <td>10/05/2023 20:06:24</td>\n",
       "      <td>L-D: 07:00-23:00</td>\n",
       "      <td>28609</td>\n",
       "      <td>MADRID</td>\n",
       "      <td>Sevilla la Nueva</td>\n",
       "      <td>SEVILLA LA NUEVA</td>\n",
       "      <td>CARRETERA M-600 KM. 44</td>\n",
       "      <td>GALP</td>\n",
       "      <td>1.479</td>\n",
       "      <td>1.464</td>\n",
       "      <td>...</td>\n",
       "      <td>1.133852</td>\n",
       "      <td>1.549</td>\n",
       "      <td>NaN</td>\n",
       "      <td>1.51336</td>\n",
       "      <td>1.579</td>\n",
       "      <td>1.579</td>\n",
       "      <td>1.574223</td>\n",
       "      <td>1.699</td>\n",
       "      <td>1.699</td>\n",
       "      <td>1.730032</td>\n",
       "    </tr>\n",
       "    <tr>\n",
       "      <th>7242</th>\n",
       "      <td>10/05/2023 20:06:24</td>\n",
       "      <td>L-D: 07:00-23:00</td>\n",
       "      <td>28609</td>\n",
       "      <td>MADRID</td>\n",
       "      <td>Sevilla la Nueva</td>\n",
       "      <td>SEVILLA LA NUEVA</td>\n",
       "      <td>CARRETERA M-600 KM. 44</td>\n",
       "      <td>GALP</td>\n",
       "      <td>1.479</td>\n",
       "      <td>1.464</td>\n",
       "      <td>...</td>\n",
       "      <td>1.133852</td>\n",
       "      <td>1.549</td>\n",
       "      <td>NaN</td>\n",
       "      <td>1.51336</td>\n",
       "      <td>1.579</td>\n",
       "      <td>1.579</td>\n",
       "      <td>1.574223</td>\n",
       "      <td>1.699</td>\n",
       "      <td>1.699</td>\n",
       "      <td>1.730032</td>\n",
       "    </tr>\n",
       "  </tbody>\n",
       "</table>\n",
       "<p>4 rows × 23 columns</p>\n",
       "</div>"
      ],
      "text/plain": [
       "                    Fecha           Horario   C.P. Provincia  \\\n",
       "7327  10/05/2023 20:06:24  L-D: 06:00-22:00  28609    MADRID   \n",
       "7326  10/05/2023 20:06:24          L-D: 24H  28609    MADRID   \n",
       "7243  10/05/2023 20:06:24  L-D: 07:00-23:00  28609    MADRID   \n",
       "7242  10/05/2023 20:06:24  L-D: 07:00-23:00  28609    MADRID   \n",
       "\n",
       "                  Municipio              Localidad  \\\n",
       "7327  Villanueva de Perales  VILLANUEVA DE PERALES   \n",
       "7326  Villanueva de Perales  VILLANUEVA DE PERALES   \n",
       "7243       Sevilla la Nueva       SEVILLA LA NUEVA   \n",
       "7242       Sevilla la Nueva       SEVILLA LA NUEVA   \n",
       "\n",
       "                       Dirección Proveedor de Servicio  Gasoleo A  \\\n",
       "7327  CARRETERA M-501 KM. 26,800                  GALP      1.449   \n",
       "7326      CARRETERA M-501 KM. 27                  GALP      1.449   \n",
       "7243      CARRETERA M-600 KM. 44                  GALP      1.479   \n",
       "7242      CARRETERA M-600 KM. 44                  GALP      1.479   \n",
       "\n",
       "      Media C.P. Gasoleo A  ...  Media Nacional Gasoleo B  Gasoleo Premium  \\\n",
       "7327                 1.464  ...                  1.133852            1.519   \n",
       "7326                 1.464  ...                  1.133852            1.519   \n",
       "7243                 1.464  ...                  1.133852            1.549   \n",
       "7242                 1.464  ...                  1.133852            1.549   \n",
       "\n",
       "      Media C.P. Gasoleo P  Media Nacional Gasoleo P  Gasolina 95 E5  \\\n",
       "7327                   NaN                   1.51336           1.579   \n",
       "7326                   NaN                   1.51336           1.579   \n",
       "7243                   NaN                   1.51336           1.579   \n",
       "7242                   NaN                   1.51336           1.579   \n",
       "\n",
       "      Media C.P. Gasolina 95  Media Nacional Gasolina 95  Gasolina 98 E5  \\\n",
       "7327                   1.579                    1.574223           1.699   \n",
       "7326                   1.579                    1.574223           1.699   \n",
       "7243                   1.579                    1.574223           1.699   \n",
       "7242                   1.579                    1.574223           1.699   \n",
       "\n",
       "      Media C.P. Gasolina 98  Media Nacional Gasolina 98  \n",
       "7327                   1.699                    1.730032  \n",
       "7326                   1.699                    1.730032  \n",
       "7243                   1.699                    1.730032  \n",
       "7242                   1.699                    1.730032  \n",
       "\n",
       "[4 rows x 23 columns]"
      ]
     },
     "execution_count": 148,
     "metadata": {},
     "output_type": "execute_result"
    }
   ],
   "source": [
    "# Comprobación\n",
    "x1 = df_n[\"C.P.\"]=='28609'\n",
    "x2 = df_n[x1]\n",
    "x2"
   ]
  },
  {
   "cell_type": "code",
   "execution_count": 149,
   "id": "c5f55514",
   "metadata": {},
   "outputs": [],
   "source": [
    "########\n",
    "def cp_media(x):\n",
    "# x = Código Postal\n",
    "# y = Tipo de combustible para el precio mínimo\n",
    "    cod_postal = df_n[df_n['C.P.'] == x]\n",
    "    media_cp = cod_postal[['Gasoleo A']].mean()\n",
    "    return media_cp"
   ]
  },
  {
   "cell_type": "code",
   "execution_count": 150,
   "id": "6b9180a1",
   "metadata": {},
   "outputs": [
    {
     "data": {
      "text/plain": [
       "Gasoleo A    1.399\n",
       "dtype: float64"
      ]
     },
     "execution_count": 150,
     "metadata": {},
     "output_type": "execute_result"
    }
   ],
   "source": [
    "#####Comprobacion#####\n",
    "cp_media('28760')\n"
   ]
  },
  {
   "cell_type": "code",
   "execution_count": 151,
   "id": "76cc76f7",
   "metadata": {},
   "outputs": [],
   "source": [
    "# Precio mínimo de combstible en una Provincia  \n",
    "def provincia_minimo(x, y):\n",
    "# x = Provincia\n",
    "# y = tipo de combustible     \n",
    "    provincia = df_n[df_n[\"Provincia\"] == x]\n",
    "    minimo_prov = provincia.loc[provincia[[y]].idxmin()]\n",
    "    return minimo_prov"
   ]
  },
  {
   "cell_type": "code",
   "execution_count": 152,
   "id": "9e76f0ba",
   "metadata": {},
   "outputs": [
    {
     "data": {
      "text/html": [
       "<div>\n",
       "<style scoped>\n",
       "    .dataframe tbody tr th:only-of-type {\n",
       "        vertical-align: middle;\n",
       "    }\n",
       "\n",
       "    .dataframe tbody tr th {\n",
       "        vertical-align: top;\n",
       "    }\n",
       "\n",
       "    .dataframe thead th {\n",
       "        text-align: right;\n",
       "    }\n",
       "</style>\n",
       "<table border=\"1\" class=\"dataframe\">\n",
       "  <thead>\n",
       "    <tr style=\"text-align: right;\">\n",
       "      <th></th>\n",
       "      <th>Fecha</th>\n",
       "      <th>Horario</th>\n",
       "      <th>C.P.</th>\n",
       "      <th>Provincia</th>\n",
       "      <th>Municipio</th>\n",
       "      <th>Localidad</th>\n",
       "      <th>Dirección</th>\n",
       "      <th>Proveedor de Servicio</th>\n",
       "      <th>Gasoleo A</th>\n",
       "      <th>Media C.P. Gasoleo A</th>\n",
       "      <th>...</th>\n",
       "      <th>Media Nacional Gasoleo B</th>\n",
       "      <th>Gasoleo Premium</th>\n",
       "      <th>Media C.P. Gasoleo P</th>\n",
       "      <th>Media Nacional Gasoleo P</th>\n",
       "      <th>Gasolina 95 E5</th>\n",
       "      <th>Media C.P. Gasolina 95</th>\n",
       "      <th>Media Nacional Gasolina 95</th>\n",
       "      <th>Gasolina 98 E5</th>\n",
       "      <th>Media C.P. Gasolina 98</th>\n",
       "      <th>Media Nacional Gasolina 98</th>\n",
       "    </tr>\n",
       "  </thead>\n",
       "  <tbody>\n",
       "    <tr>\n",
       "      <th>7175</th>\n",
       "      <td>10/05/2023 20:06:24</td>\n",
       "      <td>L-D: 09:00-22:00</td>\n",
       "      <td>28522</td>\n",
       "      <td>MADRID</td>\n",
       "      <td>Rivas-Vaciamadrid</td>\n",
       "      <td>RIVAS-VACIAMADRID</td>\n",
       "      <td>CALLE CARRETILLA (DE LA), 23</td>\n",
       "      <td>Q8</td>\n",
       "      <td>1.2</td>\n",
       "      <td>1.369125</td>\n",
       "      <td>...</td>\n",
       "      <td>1.133852</td>\n",
       "      <td>NaN</td>\n",
       "      <td>NaN</td>\n",
       "      <td>1.51336</td>\n",
       "      <td>1.3</td>\n",
       "      <td>1.519111</td>\n",
       "      <td>1.574223</td>\n",
       "      <td>NaN</td>\n",
       "      <td>NaN</td>\n",
       "      <td>1.730032</td>\n",
       "    </tr>\n",
       "  </tbody>\n",
       "</table>\n",
       "<p>1 rows × 23 columns</p>\n",
       "</div>"
      ],
      "text/plain": [
       "                    Fecha           Horario   C.P. Provincia  \\\n",
       "7175  10/05/2023 20:06:24  L-D: 09:00-22:00  28522    MADRID   \n",
       "\n",
       "              Municipio          Localidad                     Dirección  \\\n",
       "7175  Rivas-Vaciamadrid  RIVAS-VACIAMADRID  CALLE CARRETILLA (DE LA), 23   \n",
       "\n",
       "     Proveedor de Servicio  Gasoleo A  Media C.P. Gasoleo A  ...  \\\n",
       "7175                    Q8        1.2              1.369125  ...   \n",
       "\n",
       "      Media Nacional Gasoleo B  Gasoleo Premium  Media C.P. Gasoleo P  \\\n",
       "7175                  1.133852              NaN                   NaN   \n",
       "\n",
       "      Media Nacional Gasoleo P  Gasolina 95 E5  Media C.P. Gasolina 95  \\\n",
       "7175                   1.51336             1.3                1.519111   \n",
       "\n",
       "      Media Nacional Gasolina 95  Gasolina 98 E5  Media C.P. Gasolina 98  \\\n",
       "7175                    1.574223             NaN                     NaN   \n",
       "\n",
       "      Media Nacional Gasolina 98  \n",
       "7175                    1.730032  \n",
       "\n",
       "[1 rows x 23 columns]"
      ]
     },
     "execution_count": 152,
     "metadata": {},
     "output_type": "execute_result"
    }
   ],
   "source": [
    "provincia_minimo('MADRID', 'Gasoleo A')"
   ]
  },
  {
   "cell_type": "code",
   "execution_count": 153,
   "id": "94daf5b4",
   "metadata": {},
   "outputs": [],
   "source": [
    "# Precio mínimo de combstible en un Municipio  \n",
    "def municipio_minimo(x, y):\n",
    "# x = Municipio\n",
    "# y = Tipo de Combustible    \n",
    "    municipio = df_n[df_n[\"Municipio\"] == x]\n",
    "    municipio_min = municipio.loc[municipio[[y]].idxmin()]\n",
    "    return municipio"
   ]
  },
  {
   "cell_type": "code",
   "execution_count": 154,
   "id": "870d8abe",
   "metadata": {},
   "outputs": [
    {
     "data": {
      "text/html": [
       "<div>\n",
       "<style scoped>\n",
       "    .dataframe tbody tr th:only-of-type {\n",
       "        vertical-align: middle;\n",
       "    }\n",
       "\n",
       "    .dataframe tbody tr th {\n",
       "        vertical-align: top;\n",
       "    }\n",
       "\n",
       "    .dataframe thead th {\n",
       "        text-align: right;\n",
       "    }\n",
       "</style>\n",
       "<table border=\"1\" class=\"dataframe\">\n",
       "  <thead>\n",
       "    <tr style=\"text-align: right;\">\n",
       "      <th></th>\n",
       "      <th>Fecha</th>\n",
       "      <th>Horario</th>\n",
       "      <th>C.P.</th>\n",
       "      <th>Provincia</th>\n",
       "      <th>Municipio</th>\n",
       "      <th>Localidad</th>\n",
       "      <th>Dirección</th>\n",
       "      <th>Proveedor de Servicio</th>\n",
       "      <th>Gasoleo A</th>\n",
       "      <th>Media C.P. Gasoleo A</th>\n",
       "      <th>...</th>\n",
       "      <th>Media Nacional Gasoleo B</th>\n",
       "      <th>Gasoleo Premium</th>\n",
       "      <th>Media C.P. Gasoleo P</th>\n",
       "      <th>Media Nacional Gasoleo P</th>\n",
       "      <th>Gasolina 95 E5</th>\n",
       "      <th>Media C.P. Gasolina 95</th>\n",
       "      <th>Media Nacional Gasolina 95</th>\n",
       "      <th>Gasolina 98 E5</th>\n",
       "      <th>Media C.P. Gasolina 98</th>\n",
       "      <th>Media Nacional Gasolina 98</th>\n",
       "    </tr>\n",
       "  </thead>\n",
       "  <tbody>\n",
       "    <tr>\n",
       "      <th>6638</th>\n",
       "      <td>10/05/2023 20:06:24</td>\n",
       "      <td>L-S: 7:30-20:30; D: 8:30-20:00</td>\n",
       "      <td>28470</td>\n",
       "      <td>MADRID</td>\n",
       "      <td>Cercedilla</td>\n",
       "      <td>CERCEDILLA</td>\n",
       "      <td>CARRETERA M 622 (CARRETERA GUADARRAMA A LA FUE...</td>\n",
       "      <td>REPSOL</td>\n",
       "      <td>1.439</td>\n",
       "      <td>1.439</td>\n",
       "      <td>...</td>\n",
       "      <td>1.133852</td>\n",
       "      <td>NaN</td>\n",
       "      <td>NaN</td>\n",
       "      <td>1.51336</td>\n",
       "      <td>1.579</td>\n",
       "      <td>1.579</td>\n",
       "      <td>1.574223</td>\n",
       "      <td>NaN</td>\n",
       "      <td>NaN</td>\n",
       "      <td>1.730032</td>\n",
       "    </tr>\n",
       "  </tbody>\n",
       "</table>\n",
       "<p>1 rows × 23 columns</p>\n",
       "</div>"
      ],
      "text/plain": [
       "                    Fecha                         Horario   C.P. Provincia  \\\n",
       "6638  10/05/2023 20:06:24  L-S: 7:30-20:30; D: 8:30-20:00  28470    MADRID   \n",
       "\n",
       "       Municipio   Localidad  \\\n",
       "6638  Cercedilla  CERCEDILLA   \n",
       "\n",
       "                                              Dirección Proveedor de Servicio  \\\n",
       "6638  CARRETERA M 622 (CARRETERA GUADARRAMA A LA FUE...                REPSOL   \n",
       "\n",
       "      Gasoleo A  Media C.P. Gasoleo A  ...  Media Nacional Gasoleo B  \\\n",
       "6638      1.439                 1.439  ...                  1.133852   \n",
       "\n",
       "      Gasoleo Premium  Media C.P. Gasoleo P  Media Nacional Gasoleo P  \\\n",
       "6638              NaN                   NaN                   1.51336   \n",
       "\n",
       "      Gasolina 95 E5  Media C.P. Gasolina 95  Media Nacional Gasolina 95  \\\n",
       "6638           1.579                   1.579                    1.574223   \n",
       "\n",
       "      Gasolina 98 E5  Media C.P. Gasolina 98  Media Nacional Gasolina 98  \n",
       "6638             NaN                     NaN                    1.730032  \n",
       "\n",
       "[1 rows x 23 columns]"
      ]
     },
     "execution_count": 154,
     "metadata": {},
     "output_type": "execute_result"
    }
   ],
   "source": [
    "municipio_minimo('Cercedilla', 'Gasoleo A')"
   ]
  },
  {
   "cell_type": "code",
   "execution_count": 155,
   "id": "9f08be70",
   "metadata": {},
   "outputs": [],
   "source": [
    "# # Precio mínimo de combstible en un proveedor de estación de servicio  \n",
    "def gasolinera_minimo(x, y):\n",
    "# x = Proveedor de estación de servicio\n",
    "# Y = Tipo de Combustible    \n",
    "    proveedor = df_n[df_n[\"Proveedor de Servicio\"] == x]\n",
    "    minimo_prov = proveedor.loc[proveedor[[y]].idxmin()]\n",
    "    return minimo_prov"
   ]
  },
  {
   "cell_type": "code",
   "execution_count": 156,
   "id": "c3776eb1",
   "metadata": {},
   "outputs": [
    {
     "data": {
      "text/html": [
       "<div>\n",
       "<style scoped>\n",
       "    .dataframe tbody tr th:only-of-type {\n",
       "        vertical-align: middle;\n",
       "    }\n",
       "\n",
       "    .dataframe tbody tr th {\n",
       "        vertical-align: top;\n",
       "    }\n",
       "\n",
       "    .dataframe thead th {\n",
       "        text-align: right;\n",
       "    }\n",
       "</style>\n",
       "<table border=\"1\" class=\"dataframe\">\n",
       "  <thead>\n",
       "    <tr style=\"text-align: right;\">\n",
       "      <th></th>\n",
       "      <th>Fecha</th>\n",
       "      <th>Horario</th>\n",
       "      <th>C.P.</th>\n",
       "      <th>Provincia</th>\n",
       "      <th>Municipio</th>\n",
       "      <th>Localidad</th>\n",
       "      <th>Dirección</th>\n",
       "      <th>Proveedor de Servicio</th>\n",
       "      <th>Gasoleo A</th>\n",
       "      <th>Media C.P. Gasoleo A</th>\n",
       "      <th>...</th>\n",
       "      <th>Media Nacional Gasoleo B</th>\n",
       "      <th>Gasoleo Premium</th>\n",
       "      <th>Media C.P. Gasoleo P</th>\n",
       "      <th>Media Nacional Gasoleo P</th>\n",
       "      <th>Gasolina 95 E5</th>\n",
       "      <th>Media C.P. Gasolina 95</th>\n",
       "      <th>Media Nacional Gasolina 95</th>\n",
       "      <th>Gasolina 98 E5</th>\n",
       "      <th>Media C.P. Gasolina 98</th>\n",
       "      <th>Media Nacional Gasolina 98</th>\n",
       "    </tr>\n",
       "  </thead>\n",
       "  <tbody>\n",
       "    <tr>\n",
       "      <th>9308</th>\n",
       "      <td>10/05/2023 20:06:24</td>\n",
       "      <td>L-D: 06:00-22:00</td>\n",
       "      <td>38300</td>\n",
       "      <td>SANTA CRUZ DE TENERIFE</td>\n",
       "      <td>Orotava (La)</td>\n",
       "      <td>OROTAVA (LA)</td>\n",
       "      <td>CARRETERA TF-21 AGUAMANSA KM.</td>\n",
       "      <td>REPSOL</td>\n",
       "      <td>1.085</td>\n",
       "      <td>1.1962</td>\n",
       "      <td>...</td>\n",
       "      <td>1.133852</td>\n",
       "      <td>NaN</td>\n",
       "      <td>NaN</td>\n",
       "      <td>1.51336</td>\n",
       "      <td>1.125</td>\n",
       "      <td>1.1962</td>\n",
       "      <td>1.574223</td>\n",
       "      <td>1.295</td>\n",
       "      <td>1.3382</td>\n",
       "      <td>1.730032</td>\n",
       "    </tr>\n",
       "  </tbody>\n",
       "</table>\n",
       "<p>1 rows × 23 columns</p>\n",
       "</div>"
      ],
      "text/plain": [
       "                    Fecha           Horario   C.P.               Provincia  \\\n",
       "9308  10/05/2023 20:06:24  L-D: 06:00-22:00  38300  SANTA CRUZ DE TENERIFE   \n",
       "\n",
       "         Municipio     Localidad                       Dirección  \\\n",
       "9308  Orotava (La)  OROTAVA (LA)  CARRETERA TF-21 AGUAMANSA KM.    \n",
       "\n",
       "     Proveedor de Servicio  Gasoleo A  Media C.P. Gasoleo A  ...  \\\n",
       "9308                REPSOL      1.085                1.1962  ...   \n",
       "\n",
       "      Media Nacional Gasoleo B  Gasoleo Premium  Media C.P. Gasoleo P  \\\n",
       "9308                  1.133852              NaN                   NaN   \n",
       "\n",
       "      Media Nacional Gasoleo P  Gasolina 95 E5  Media C.P. Gasolina 95  \\\n",
       "9308                   1.51336           1.125                  1.1962   \n",
       "\n",
       "      Media Nacional Gasolina 95  Gasolina 98 E5  Media C.P. Gasolina 98  \\\n",
       "9308                    1.574223           1.295                  1.3382   \n",
       "\n",
       "      Media Nacional Gasolina 98  \n",
       "9308                    1.730032  \n",
       "\n",
       "[1 rows x 23 columns]"
      ]
     },
     "execution_count": 156,
     "metadata": {},
     "output_type": "execute_result"
    }
   ],
   "source": [
    "gasolinera_minimo('REPSOL', 'Gasoleo A')"
   ]
  },
  {
   "cell_type": "code",
   "execution_count": 157,
   "id": "07fe3213",
   "metadata": {},
   "outputs": [
    {
     "data": {
      "text/plain": [
       "function"
      ]
     },
     "execution_count": 157,
     "metadata": {},
     "output_type": "execute_result"
    }
   ],
   "source": [
    "# Función para convertir códigos postales\n",
    "def convert(x):\n",
    "# x: Municipio    \n",
    "    municipio = df_n[df_n[\"Municipio\"] == x]\n",
    "    cp = municipio[[\"C.P.\", \"Municipio\", \"Proveedor de Servicio\", \"Gasoleo A\"]].min()\n",
    "    return cp\n",
    "type(convert)\n",
    "    "
   ]
  },
  {
   "cell_type": "code",
   "execution_count": 158,
   "id": "ba996755",
   "metadata": {},
   "outputs": [
    {
     "data": {
      "text/plain": [
       "C.P.                               28931\n",
       "Municipio                       Móstoles\n",
       "Proveedor de Servicio    ALIARA ENERGÍA \n",
       "Gasoleo A                          1.219\n",
       "dtype: object"
      ]
     },
     "execution_count": 158,
     "metadata": {},
     "output_type": "execute_result"
    }
   ],
   "source": [
    "convert('Móstoles')\n"
   ]
  },
  {
   "cell_type": "code",
   "execution_count": null,
   "id": "84f7107e",
   "metadata": {},
   "outputs": [],
   "source": []
  },
  {
   "cell_type": "code",
   "execution_count": 159,
   "id": "752fcb3c",
   "metadata": {},
   "outputs": [],
   "source": [
    "# Listado de Estaciones de Servicio por Municipio por Municipio\n",
    "# x: Municipio\n",
    "def gasolineras_municipio(x):\n",
    "    municipio = df_n[df_n[\"Municipio\"] == x]\n",
    "    eess_mun = pd.DataFrame(municipio[[\"Proveedor de Servicio\"]])\n",
    "    return eess_mun\n"
   ]
  },
  {
   "cell_type": "code",
   "execution_count": 160,
   "id": "9f8ea85c",
   "metadata": {},
   "outputs": [
    {
     "data": {
      "text/html": [
       "<div>\n",
       "<style scoped>\n",
       "    .dataframe tbody tr th:only-of-type {\n",
       "        vertical-align: middle;\n",
       "    }\n",
       "\n",
       "    .dataframe tbody tr th {\n",
       "        vertical-align: top;\n",
       "    }\n",
       "\n",
       "    .dataframe thead th {\n",
       "        text-align: right;\n",
       "    }\n",
       "</style>\n",
       "<table border=\"1\" class=\"dataframe\">\n",
       "  <thead>\n",
       "    <tr style=\"text-align: right;\">\n",
       "      <th></th>\n",
       "      <th>Proveedor de Servicio</th>\n",
       "    </tr>\n",
       "  </thead>\n",
       "  <tbody>\n",
       "    <tr>\n",
       "      <th>7115</th>\n",
       "      <td>BALLEOTROSIL</td>\n",
       "    </tr>\n",
       "    <tr>\n",
       "      <th>7110</th>\n",
       "      <td>CEPSA</td>\n",
       "    </tr>\n",
       "    <tr>\n",
       "      <th>7113</th>\n",
       "      <td>CEPSA</td>\n",
       "    </tr>\n",
       "    <tr>\n",
       "      <th>7116</th>\n",
       "      <td>CHEAPOIL</td>\n",
       "    </tr>\n",
       "    <tr>\n",
       "      <th>7112</th>\n",
       "      <td>GALP</td>\n",
       "    </tr>\n",
       "    <tr>\n",
       "      <th>7114</th>\n",
       "      <td>MAXPETROL</td>\n",
       "    </tr>\n",
       "    <tr>\n",
       "      <th>7111</th>\n",
       "      <td>REPSOL</td>\n",
       "    </tr>\n",
       "  </tbody>\n",
       "</table>\n",
       "</div>"
      ],
      "text/plain": [
       "     Proveedor de Servicio\n",
       "7115          BALLEOTROSIL\n",
       "7110                 CEPSA\n",
       "7113                 CEPSA\n",
       "7116              CHEAPOIL\n",
       "7112                  GALP\n",
       "7114             MAXPETROL\n",
       "7111                REPSOL"
      ]
     },
     "execution_count": 160,
     "metadata": {},
     "output_type": "execute_result"
    }
   ],
   "source": [
    "gasolineras_municipio('Navalcarnero')"
   ]
  },
  {
   "cell_type": "code",
   "execution_count": 161,
   "id": "42d352ec",
   "metadata": {},
   "outputs": [],
   "source": [
    "# Listado de Gasolineras por Provincia\n",
    "#x=Provincia\n",
    "def gasolineras_provincia(x):\n",
    "    cp_x = df_n[df_n[\"Provincia\"] == x]\n",
    "    return cp_x\n"
   ]
  },
  {
   "cell_type": "code",
   "execution_count": 162,
   "id": "fb0d41d2",
   "metadata": {},
   "outputs": [
    {
     "data": {
      "text/html": [
       "<div>\n",
       "<style scoped>\n",
       "    .dataframe tbody tr th:only-of-type {\n",
       "        vertical-align: middle;\n",
       "    }\n",
       "\n",
       "    .dataframe tbody tr th {\n",
       "        vertical-align: top;\n",
       "    }\n",
       "\n",
       "    .dataframe thead th {\n",
       "        text-align: right;\n",
       "    }\n",
       "</style>\n",
       "<table border=\"1\" class=\"dataframe\">\n",
       "  <thead>\n",
       "    <tr style=\"text-align: right;\">\n",
       "      <th></th>\n",
       "      <th>Fecha</th>\n",
       "      <th>Horario</th>\n",
       "      <th>C.P.</th>\n",
       "      <th>Provincia</th>\n",
       "      <th>Municipio</th>\n",
       "      <th>Localidad</th>\n",
       "      <th>Dirección</th>\n",
       "      <th>Proveedor de Servicio</th>\n",
       "      <th>Gasoleo A</th>\n",
       "      <th>Media C.P. Gasoleo A</th>\n",
       "      <th>...</th>\n",
       "      <th>Media Nacional Gasoleo B</th>\n",
       "      <th>Gasoleo Premium</th>\n",
       "      <th>Media C.P. Gasoleo P</th>\n",
       "      <th>Media Nacional Gasoleo P</th>\n",
       "      <th>Gasolina 95 E5</th>\n",
       "      <th>Media C.P. Gasolina 95</th>\n",
       "      <th>Media Nacional Gasolina 95</th>\n",
       "      <th>Gasolina 98 E5</th>\n",
       "      <th>Media C.P. Gasolina 98</th>\n",
       "      <th>Media Nacional Gasolina 98</th>\n",
       "    </tr>\n",
       "  </thead>\n",
       "  <tbody>\n",
       "    <tr>\n",
       "      <th>5454</th>\n",
       "      <td>10/05/2023 20:06:24</td>\n",
       "      <td>L-D: 06:00-22:00</td>\n",
       "      <td>21200</td>\n",
       "      <td>HUELVA</td>\n",
       "      <td>Aracena</td>\n",
       "      <td>ARACENA</td>\n",
       "      <td>N-433 km 88,4</td>\n",
       "      <td>AGLA</td>\n",
       "      <td>1.459</td>\n",
       "      <td>1.458000</td>\n",
       "      <td>...</td>\n",
       "      <td>1.133852</td>\n",
       "      <td>NaN</td>\n",
       "      <td>NaN</td>\n",
       "      <td>1.51336</td>\n",
       "      <td>1.589</td>\n",
       "      <td>1.600250</td>\n",
       "      <td>1.574223</td>\n",
       "      <td>NaN</td>\n",
       "      <td>1.769000</td>\n",
       "      <td>1.730032</td>\n",
       "    </tr>\n",
       "    <tr>\n",
       "      <th>5488</th>\n",
       "      <td>10/05/2023 20:06:24</td>\n",
       "      <td>L-D: 07:30-22:00</td>\n",
       "      <td>21320</td>\n",
       "      <td>HUELVA</td>\n",
       "      <td>Cerro de Andévalo (El)</td>\n",
       "      <td>CERRO DE ANDEVALO (EL)</td>\n",
       "      <td>CARRETERA A-485 KM. 100</td>\n",
       "      <td>AGLA</td>\n",
       "      <td>1.398</td>\n",
       "      <td>1.393500</td>\n",
       "      <td>...</td>\n",
       "      <td>1.133852</td>\n",
       "      <td>NaN</td>\n",
       "      <td>1.280000</td>\n",
       "      <td>1.51336</td>\n",
       "      <td>1.585</td>\n",
       "      <td>1.585000</td>\n",
       "      <td>1.574223</td>\n",
       "      <td>NaN</td>\n",
       "      <td>NaN</td>\n",
       "      <td>1.730032</td>\n",
       "    </tr>\n",
       "    <tr>\n",
       "      <th>5474</th>\n",
       "      <td>10/05/2023 20:06:24</td>\n",
       "      <td>L-S: 07:00-22:00; D: 08:00-22:00</td>\n",
       "      <td>21270</td>\n",
       "      <td>HUELVA</td>\n",
       "      <td>Cala</td>\n",
       "      <td>CALA</td>\n",
       "      <td>AVENIDA CONSTITUCION, 1</td>\n",
       "      <td>AGLA</td>\n",
       "      <td>1.489</td>\n",
       "      <td>1.489000</td>\n",
       "      <td>...</td>\n",
       "      <td>1.133852</td>\n",
       "      <td>NaN</td>\n",
       "      <td>NaN</td>\n",
       "      <td>1.51336</td>\n",
       "      <td>1.689</td>\n",
       "      <td>1.689000</td>\n",
       "      <td>1.574223</td>\n",
       "      <td>NaN</td>\n",
       "      <td>NaN</td>\n",
       "      <td>1.730032</td>\n",
       "    </tr>\n",
       "    <tr>\n",
       "      <th>5525</th>\n",
       "      <td>10/05/2023 20:06:24</td>\n",
       "      <td>L-D: 07:00-22:00</td>\n",
       "      <td>21440</td>\n",
       "      <td>HUELVA</td>\n",
       "      <td>Lepe</td>\n",
       "      <td>LEPE</td>\n",
       "      <td>CARRETERA H4116 KM. 1,7</td>\n",
       "      <td>AGLA</td>\n",
       "      <td>1.398</td>\n",
       "      <td>1.459222</td>\n",
       "      <td>...</td>\n",
       "      <td>1.133852</td>\n",
       "      <td>NaN</td>\n",
       "      <td>1.396750</td>\n",
       "      <td>1.51336</td>\n",
       "      <td>1.578</td>\n",
       "      <td>1.588750</td>\n",
       "      <td>1.574223</td>\n",
       "      <td>NaN</td>\n",
       "      <td>1.763500</td>\n",
       "      <td>1.730032</td>\n",
       "    </tr>\n",
       "    <tr>\n",
       "      <th>5453</th>\n",
       "      <td>10/05/2023 20:06:24</td>\n",
       "      <td>L-D: 24H</td>\n",
       "      <td>21200</td>\n",
       "      <td>HUELVA</td>\n",
       "      <td>Aracena</td>\n",
       "      <td>ARACENA</td>\n",
       "      <td>CALLE SANTO DOMINGO, 1</td>\n",
       "      <td>ASB ENERGIA</td>\n",
       "      <td>1.465</td>\n",
       "      <td>1.458000</td>\n",
       "      <td>...</td>\n",
       "      <td>1.133852</td>\n",
       "      <td>NaN</td>\n",
       "      <td>NaN</td>\n",
       "      <td>1.51336</td>\n",
       "      <td>1.595</td>\n",
       "      <td>1.600250</td>\n",
       "      <td>1.574223</td>\n",
       "      <td>NaN</td>\n",
       "      <td>1.769000</td>\n",
       "      <td>1.730032</td>\n",
       "    </tr>\n",
       "    <tr>\n",
       "      <th>...</th>\n",
       "      <td>...</td>\n",
       "      <td>...</td>\n",
       "      <td>...</td>\n",
       "      <td>...</td>\n",
       "      <td>...</td>\n",
       "      <td>...</td>\n",
       "      <td>...</td>\n",
       "      <td>...</td>\n",
       "      <td>...</td>\n",
       "      <td>...</td>\n",
       "      <td>...</td>\n",
       "      <td>...</td>\n",
       "      <td>...</td>\n",
       "      <td>...</td>\n",
       "      <td>...</td>\n",
       "      <td>...</td>\n",
       "      <td>...</td>\n",
       "      <td>...</td>\n",
       "      <td>...</td>\n",
       "      <td>...</td>\n",
       "      <td>...</td>\n",
       "    </tr>\n",
       "    <tr>\n",
       "      <th>5515</th>\n",
       "      <td>10/05/2023 20:06:24</td>\n",
       "      <td>L-D: 06:30-22:30</td>\n",
       "      <td>21007</td>\n",
       "      <td>HUELVA</td>\n",
       "      <td>Huelva</td>\n",
       "      <td>HUELVA</td>\n",
       "      <td>AVDA. NUEVO COLOMBINO S/N.</td>\n",
       "      <td>TYCSA TRAFICO PESADO</td>\n",
       "      <td>1.479</td>\n",
       "      <td>1.481000</td>\n",
       "      <td>...</td>\n",
       "      <td>1.133852</td>\n",
       "      <td>1.539</td>\n",
       "      <td>1.189000</td>\n",
       "      <td>1.51336</td>\n",
       "      <td>1.615</td>\n",
       "      <td>1.629400</td>\n",
       "      <td>1.574223</td>\n",
       "      <td>1.785</td>\n",
       "      <td>1.778333</td>\n",
       "      <td>1.730032</td>\n",
       "    </tr>\n",
       "    <tr>\n",
       "      <th>5571</th>\n",
       "      <td>10/05/2023 20:06:24</td>\n",
       "      <td>L-V: 07:30-21:00; S: 09:00-13:00</td>\n",
       "      <td>21610</td>\n",
       "      <td>HUELVA</td>\n",
       "      <td>San Juan del Puerto</td>\n",
       "      <td>SAN JUAN DEL PUERTO</td>\n",
       "      <td>CARRETERA A-472 SEVILLA - HUELVA KM. 78,5</td>\n",
       "      <td>VALLE ANCHO</td>\n",
       "      <td>1.299</td>\n",
       "      <td>1.406750</td>\n",
       "      <td>...</td>\n",
       "      <td>1.133852</td>\n",
       "      <td>NaN</td>\n",
       "      <td>1.069000</td>\n",
       "      <td>1.51336</td>\n",
       "      <td>1.499</td>\n",
       "      <td>1.572333</td>\n",
       "      <td>1.574223</td>\n",
       "      <td>NaN</td>\n",
       "      <td>NaN</td>\n",
       "      <td>1.730032</td>\n",
       "    </tr>\n",
       "    <tr>\n",
       "      <th>5528</th>\n",
       "      <td>10/05/2023 20:06:24</td>\n",
       "      <td>L-D: 24H</td>\n",
       "      <td>21440</td>\n",
       "      <td>HUELVA</td>\n",
       "      <td>Lepe</td>\n",
       "      <td>LEPE</td>\n",
       "      <td>CALLE ESPARTEROS, 2</td>\n",
       "      <td>VIBE CARBURANTES</td>\n",
       "      <td>1.389</td>\n",
       "      <td>1.459222</td>\n",
       "      <td>...</td>\n",
       "      <td>1.133852</td>\n",
       "      <td>NaN</td>\n",
       "      <td>1.396750</td>\n",
       "      <td>1.51336</td>\n",
       "      <td>1.569</td>\n",
       "      <td>1.588750</td>\n",
       "      <td>1.574223</td>\n",
       "      <td>NaN</td>\n",
       "      <td>1.763500</td>\n",
       "      <td>1.730032</td>\n",
       "    </tr>\n",
       "    <tr>\n",
       "      <th>5523</th>\n",
       "      <td>10/05/2023 20:06:24</td>\n",
       "      <td>L-D: 07:00-23:00</td>\n",
       "      <td>21440</td>\n",
       "      <td>HUELVA</td>\n",
       "      <td>Lepe</td>\n",
       "      <td>LEPE</td>\n",
       "      <td>CARRETERA LEPE-EL TERRÓN, KM 1,5 KM. 1,5</td>\n",
       "      <td>OTROS</td>\n",
       "      <td>1.407</td>\n",
       "      <td>1.459222</td>\n",
       "      <td>...</td>\n",
       "      <td>1.133852</td>\n",
       "      <td>1.469</td>\n",
       "      <td>1.396750</td>\n",
       "      <td>1.51336</td>\n",
       "      <td>1.589</td>\n",
       "      <td>1.588750</td>\n",
       "      <td>1.574223</td>\n",
       "      <td>1.768</td>\n",
       "      <td>1.763500</td>\n",
       "      <td>1.730032</td>\n",
       "    </tr>\n",
       "    <tr>\n",
       "      <th>5565</th>\n",
       "      <td>10/05/2023 20:06:24</td>\n",
       "      <td>L-D: 24H</td>\n",
       "      <td>21720</td>\n",
       "      <td>HUELVA</td>\n",
       "      <td>Rociana del Condado</td>\n",
       "      <td>ROCIANA DEL CONDADO</td>\n",
       "      <td>POLIGONO HUERTAS NUEVAS PARCELA 3, 3</td>\n",
       "      <td>VIRSUR</td>\n",
       "      <td>1.270</td>\n",
       "      <td>1.336333</td>\n",
       "      <td>...</td>\n",
       "      <td>1.133852</td>\n",
       "      <td>NaN</td>\n",
       "      <td>1.024667</td>\n",
       "      <td>1.51336</td>\n",
       "      <td>1.440</td>\n",
       "      <td>1.499667</td>\n",
       "      <td>1.574223</td>\n",
       "      <td>NaN</td>\n",
       "      <td>NaN</td>\n",
       "      <td>1.730032</td>\n",
       "    </tr>\n",
       "  </tbody>\n",
       "</table>\n",
       "<p>152 rows × 23 columns</p>\n",
       "</div>"
      ],
      "text/plain": [
       "                    Fecha                           Horario   C.P. Provincia  \\\n",
       "5454  10/05/2023 20:06:24                  L-D: 06:00-22:00  21200    HUELVA   \n",
       "5488  10/05/2023 20:06:24                  L-D: 07:30-22:00  21320    HUELVA   \n",
       "5474  10/05/2023 20:06:24  L-S: 07:00-22:00; D: 08:00-22:00  21270    HUELVA   \n",
       "5525  10/05/2023 20:06:24                  L-D: 07:00-22:00  21440    HUELVA   \n",
       "5453  10/05/2023 20:06:24                          L-D: 24H  21200    HUELVA   \n",
       "...                   ...                               ...    ...       ...   \n",
       "5515  10/05/2023 20:06:24                  L-D: 06:30-22:30  21007    HUELVA   \n",
       "5571  10/05/2023 20:06:24  L-V: 07:30-21:00; S: 09:00-13:00  21610    HUELVA   \n",
       "5528  10/05/2023 20:06:24                          L-D: 24H  21440    HUELVA   \n",
       "5523  10/05/2023 20:06:24                  L-D: 07:00-23:00  21440    HUELVA   \n",
       "5565  10/05/2023 20:06:24                          L-D: 24H  21720    HUELVA   \n",
       "\n",
       "                   Municipio               Localidad  \\\n",
       "5454                 Aracena                 ARACENA   \n",
       "5488  Cerro de Andévalo (El)  CERRO DE ANDEVALO (EL)   \n",
       "5474                    Cala                    CALA   \n",
       "5525                    Lepe                    LEPE   \n",
       "5453                 Aracena                 ARACENA   \n",
       "...                      ...                     ...   \n",
       "5515                  Huelva                  HUELVA   \n",
       "5571     San Juan del Puerto     SAN JUAN DEL PUERTO   \n",
       "5528                    Lepe                    LEPE   \n",
       "5523                    Lepe                    LEPE   \n",
       "5565     Rociana del Condado     ROCIANA DEL CONDADO   \n",
       "\n",
       "                                      Dirección Proveedor de Servicio  \\\n",
       "5454                              N-433 km 88,4                  AGLA   \n",
       "5488                    CARRETERA A-485 KM. 100                  AGLA   \n",
       "5474                    AVENIDA CONSTITUCION, 1                  AGLA   \n",
       "5525                    CARRETERA H4116 KM. 1,7                  AGLA   \n",
       "5453                     CALLE SANTO DOMINGO, 1           ASB ENERGIA   \n",
       "...                                         ...                   ...   \n",
       "5515                 AVDA. NUEVO COLOMBINO S/N.  TYCSA TRAFICO PESADO   \n",
       "5571  CARRETERA A-472 SEVILLA - HUELVA KM. 78,5           VALLE ANCHO   \n",
       "5528                        CALLE ESPARTEROS, 2      VIBE CARBURANTES   \n",
       "5523   CARRETERA LEPE-EL TERRÓN, KM 1,5 KM. 1,5                 OTROS   \n",
       "5565       POLIGONO HUERTAS NUEVAS PARCELA 3, 3                VIRSUR   \n",
       "\n",
       "      Gasoleo A  Media C.P. Gasoleo A  ...  Media Nacional Gasoleo B  \\\n",
       "5454      1.459              1.458000  ...                  1.133852   \n",
       "5488      1.398              1.393500  ...                  1.133852   \n",
       "5474      1.489              1.489000  ...                  1.133852   \n",
       "5525      1.398              1.459222  ...                  1.133852   \n",
       "5453      1.465              1.458000  ...                  1.133852   \n",
       "...         ...                   ...  ...                       ...   \n",
       "5515      1.479              1.481000  ...                  1.133852   \n",
       "5571      1.299              1.406750  ...                  1.133852   \n",
       "5528      1.389              1.459222  ...                  1.133852   \n",
       "5523      1.407              1.459222  ...                  1.133852   \n",
       "5565      1.270              1.336333  ...                  1.133852   \n",
       "\n",
       "      Gasoleo Premium  Media C.P. Gasoleo P  Media Nacional Gasoleo P  \\\n",
       "5454              NaN                   NaN                   1.51336   \n",
       "5488              NaN              1.280000                   1.51336   \n",
       "5474              NaN                   NaN                   1.51336   \n",
       "5525              NaN              1.396750                   1.51336   \n",
       "5453              NaN                   NaN                   1.51336   \n",
       "...               ...                   ...                       ...   \n",
       "5515            1.539              1.189000                   1.51336   \n",
       "5571              NaN              1.069000                   1.51336   \n",
       "5528              NaN              1.396750                   1.51336   \n",
       "5523            1.469              1.396750                   1.51336   \n",
       "5565              NaN              1.024667                   1.51336   \n",
       "\n",
       "      Gasolina 95 E5  Media C.P. Gasolina 95  Media Nacional Gasolina 95  \\\n",
       "5454           1.589                1.600250                    1.574223   \n",
       "5488           1.585                1.585000                    1.574223   \n",
       "5474           1.689                1.689000                    1.574223   \n",
       "5525           1.578                1.588750                    1.574223   \n",
       "5453           1.595                1.600250                    1.574223   \n",
       "...              ...                     ...                         ...   \n",
       "5515           1.615                1.629400                    1.574223   \n",
       "5571           1.499                1.572333                    1.574223   \n",
       "5528           1.569                1.588750                    1.574223   \n",
       "5523           1.589                1.588750                    1.574223   \n",
       "5565           1.440                1.499667                    1.574223   \n",
       "\n",
       "      Gasolina 98 E5  Media C.P. Gasolina 98  Media Nacional Gasolina 98  \n",
       "5454             NaN                1.769000                    1.730032  \n",
       "5488             NaN                     NaN                    1.730032  \n",
       "5474             NaN                     NaN                    1.730032  \n",
       "5525             NaN                1.763500                    1.730032  \n",
       "5453             NaN                1.769000                    1.730032  \n",
       "...              ...                     ...                         ...  \n",
       "5515           1.785                1.778333                    1.730032  \n",
       "5571             NaN                     NaN                    1.730032  \n",
       "5528             NaN                1.763500                    1.730032  \n",
       "5523           1.768                1.763500                    1.730032  \n",
       "5565             NaN                     NaN                    1.730032  \n",
       "\n",
       "[152 rows x 23 columns]"
      ]
     },
     "execution_count": 162,
     "metadata": {},
     "output_type": "execute_result"
    }
   ],
   "source": [
    "gasolineras_provincia('HUELVA')"
   ]
  },
  {
   "cell_type": "code",
   "execution_count": 163,
   "id": "fe00f1c5",
   "metadata": {},
   "outputs": [],
   "source": [
    "# Listado de Gasolineras por Código Postal:\n",
    "# x: código postal\n",
    "def gasolineras_cp(x):\n",
    "    cp = df_n[df_n[\"C.P.\"] == x]\n",
    "    return cp"
   ]
  },
  {
   "cell_type": "code",
   "execution_count": 164,
   "id": "858df679",
   "metadata": {},
   "outputs": [
    {
     "data": {
      "text/html": [
       "<div>\n",
       "<style scoped>\n",
       "    .dataframe tbody tr th:only-of-type {\n",
       "        vertical-align: middle;\n",
       "    }\n",
       "\n",
       "    .dataframe tbody tr th {\n",
       "        vertical-align: top;\n",
       "    }\n",
       "\n",
       "    .dataframe thead th {\n",
       "        text-align: right;\n",
       "    }\n",
       "</style>\n",
       "<table border=\"1\" class=\"dataframe\">\n",
       "  <thead>\n",
       "    <tr style=\"text-align: right;\">\n",
       "      <th></th>\n",
       "      <th>Fecha</th>\n",
       "      <th>Horario</th>\n",
       "      <th>C.P.</th>\n",
       "      <th>Provincia</th>\n",
       "      <th>Municipio</th>\n",
       "      <th>Localidad</th>\n",
       "      <th>Dirección</th>\n",
       "      <th>Proveedor de Servicio</th>\n",
       "      <th>Gasoleo A</th>\n",
       "      <th>Media C.P. Gasoleo A</th>\n",
       "      <th>...</th>\n",
       "      <th>Media Nacional Gasoleo B</th>\n",
       "      <th>Gasoleo Premium</th>\n",
       "      <th>Media C.P. Gasoleo P</th>\n",
       "      <th>Media Nacional Gasoleo P</th>\n",
       "      <th>Gasolina 95 E5</th>\n",
       "      <th>Media C.P. Gasolina 95</th>\n",
       "      <th>Media Nacional Gasolina 95</th>\n",
       "      <th>Gasolina 98 E5</th>\n",
       "      <th>Media C.P. Gasolina 98</th>\n",
       "      <th>Media Nacional Gasolina 98</th>\n",
       "    </tr>\n",
       "  </thead>\n",
       "  <tbody>\n",
       "    <tr>\n",
       "      <th>6608</th>\n",
       "      <td>10/05/2023 20:06:24</td>\n",
       "      <td>L-D: 06:00-00:00</td>\n",
       "      <td>28500</td>\n",
       "      <td>MADRID</td>\n",
       "      <td>Arganda del Rey</td>\n",
       "      <td>ARGANDA</td>\n",
       "      <td>AVENIDA DE MADRID, 126</td>\n",
       "      <td>ATEOTROSIL</td>\n",
       "      <td>1.369</td>\n",
       "      <td>1.426077</td>\n",
       "      <td>...</td>\n",
       "      <td>1.133852</td>\n",
       "      <td>1.379</td>\n",
       "      <td>1.259</td>\n",
       "      <td>1.51336</td>\n",
       "      <td>1.519</td>\n",
       "      <td>1.578308</td>\n",
       "      <td>1.574223</td>\n",
       "      <td>NaN</td>\n",
       "      <td>1.782667</td>\n",
       "      <td>1.730032</td>\n",
       "    </tr>\n",
       "    <tr>\n",
       "      <th>6615</th>\n",
       "      <td>10/05/2023 20:06:24</td>\n",
       "      <td>L-D: 24H</td>\n",
       "      <td>28500</td>\n",
       "      <td>MADRID</td>\n",
       "      <td>Arganda del Rey</td>\n",
       "      <td>ARGANDA</td>\n",
       "      <td>CAMINO SAN MARTIN DE LA VEGA, 8</td>\n",
       "      <td>BALLEOTROSIL</td>\n",
       "      <td>1.369</td>\n",
       "      <td>1.426077</td>\n",
       "      <td>...</td>\n",
       "      <td>1.133852</td>\n",
       "      <td>NaN</td>\n",
       "      <td>1.259</td>\n",
       "      <td>1.51336</td>\n",
       "      <td>1.519</td>\n",
       "      <td>1.578308</td>\n",
       "      <td>1.574223</td>\n",
       "      <td>NaN</td>\n",
       "      <td>1.782667</td>\n",
       "      <td>1.730032</td>\n",
       "    </tr>\n",
       "    <tr>\n",
       "      <th>6616</th>\n",
       "      <td>10/05/2023 20:06:24</td>\n",
       "      <td>L-D: 24H</td>\n",
       "      <td>28500</td>\n",
       "      <td>MADRID</td>\n",
       "      <td>Arganda del Rey</td>\n",
       "      <td>ARGANDA</td>\n",
       "      <td>CAMINO CAMINO DE SAN MARTÍN DE LA VEGA A ARGAN...</td>\n",
       "      <td>BALLEOTROSIL</td>\n",
       "      <td>1.369</td>\n",
       "      <td>1.426077</td>\n",
       "      <td>...</td>\n",
       "      <td>1.133852</td>\n",
       "      <td>NaN</td>\n",
       "      <td>1.259</td>\n",
       "      <td>1.51336</td>\n",
       "      <td>1.519</td>\n",
       "      <td>1.578308</td>\n",
       "      <td>1.574223</td>\n",
       "      <td>NaN</td>\n",
       "      <td>1.782667</td>\n",
       "      <td>1.730032</td>\n",
       "    </tr>\n",
       "    <tr>\n",
       "      <th>6606</th>\n",
       "      <td>10/05/2023 20:06:24</td>\n",
       "      <td>L-D: 24H</td>\n",
       "      <td>28500</td>\n",
       "      <td>MADRID</td>\n",
       "      <td>Arganda del Rey</td>\n",
       "      <td>ARGANDA</td>\n",
       "      <td>TRAVESÍA SIERRA DE GATA, 17</td>\n",
       "      <td>BALLEOTROSIL</td>\n",
       "      <td>1.369</td>\n",
       "      <td>1.426077</td>\n",
       "      <td>...</td>\n",
       "      <td>1.133852</td>\n",
       "      <td>1.379</td>\n",
       "      <td>1.259</td>\n",
       "      <td>1.51336</td>\n",
       "      <td>1.519</td>\n",
       "      <td>1.578308</td>\n",
       "      <td>1.574223</td>\n",
       "      <td>NaN</td>\n",
       "      <td>1.782667</td>\n",
       "      <td>1.730032</td>\n",
       "    </tr>\n",
       "    <tr>\n",
       "      <th>6611</th>\n",
       "      <td>10/05/2023 20:06:24</td>\n",
       "      <td>L-D: 24H</td>\n",
       "      <td>28500</td>\n",
       "      <td>MADRID</td>\n",
       "      <td>Arganda del Rey</td>\n",
       "      <td>ARGANDA</td>\n",
       "      <td>AVENIDA EJERCITO (DEL), 44</td>\n",
       "      <td>BP</td>\n",
       "      <td>1.489</td>\n",
       "      <td>1.426077</td>\n",
       "      <td>...</td>\n",
       "      <td>1.133852</td>\n",
       "      <td>1.579</td>\n",
       "      <td>1.259</td>\n",
       "      <td>1.51336</td>\n",
       "      <td>1.649</td>\n",
       "      <td>1.578308</td>\n",
       "      <td>1.574223</td>\n",
       "      <td>1.791</td>\n",
       "      <td>1.782667</td>\n",
       "      <td>1.730032</td>\n",
       "    </tr>\n",
       "    <tr>\n",
       "      <th>6610</th>\n",
       "      <td>10/05/2023 20:06:24</td>\n",
       "      <td>L-D: 06:00-22:00</td>\n",
       "      <td>28500</td>\n",
       "      <td>MADRID</td>\n",
       "      <td>Arganda del Rey</td>\n",
       "      <td>ARGANDA</td>\n",
       "      <td>AVENIDA DE MADRID, 37</td>\n",
       "      <td>BP</td>\n",
       "      <td>1.489</td>\n",
       "      <td>1.426077</td>\n",
       "      <td>...</td>\n",
       "      <td>1.133852</td>\n",
       "      <td>1.579</td>\n",
       "      <td>1.259</td>\n",
       "      <td>1.51336</td>\n",
       "      <td>1.649</td>\n",
       "      <td>1.578308</td>\n",
       "      <td>1.574223</td>\n",
       "      <td>1.791</td>\n",
       "      <td>1.782667</td>\n",
       "      <td>1.730032</td>\n",
       "    </tr>\n",
       "    <tr>\n",
       "      <th>6609</th>\n",
       "      <td>10/05/2023 20:06:24</td>\n",
       "      <td>L-D: 24H</td>\n",
       "      <td>28500</td>\n",
       "      <td>MADRID</td>\n",
       "      <td>Arganda del Rey</td>\n",
       "      <td>ARGANDA</td>\n",
       "      <td>AVENIDA VALDEARGANDA, 8</td>\n",
       "      <td>CEPSA</td>\n",
       "      <td>1.485</td>\n",
       "      <td>1.426077</td>\n",
       "      <td>...</td>\n",
       "      <td>1.133852</td>\n",
       "      <td>1.585</td>\n",
       "      <td>1.259</td>\n",
       "      <td>1.51336</td>\n",
       "      <td>1.634</td>\n",
       "      <td>1.578308</td>\n",
       "      <td>1.574223</td>\n",
       "      <td>1.766</td>\n",
       "      <td>1.782667</td>\n",
       "      <td>1.730032</td>\n",
       "    </tr>\n",
       "    <tr>\n",
       "      <th>6613</th>\n",
       "      <td>10/05/2023 20:06:24</td>\n",
       "      <td>L-D: 07:00-22:00</td>\n",
       "      <td>28500</td>\n",
       "      <td>MADRID</td>\n",
       "      <td>Arganda del Rey</td>\n",
       "      <td>ARGANDA</td>\n",
       "      <td>AVENIDA FINANZAUTO (DE), 2</td>\n",
       "      <td>DELFIOIL</td>\n",
       "      <td>1.369</td>\n",
       "      <td>1.426077</td>\n",
       "      <td>...</td>\n",
       "      <td>1.133852</td>\n",
       "      <td>NaN</td>\n",
       "      <td>1.259</td>\n",
       "      <td>1.51336</td>\n",
       "      <td>1.519</td>\n",
       "      <td>1.578308</td>\n",
       "      <td>1.574223</td>\n",
       "      <td>NaN</td>\n",
       "      <td>1.782667</td>\n",
       "      <td>1.730032</td>\n",
       "    </tr>\n",
       "    <tr>\n",
       "      <th>6617</th>\n",
       "      <td>10/05/2023 20:06:24</td>\n",
       "      <td>L-D: 24H</td>\n",
       "      <td>28500</td>\n",
       "      <td>MADRID</td>\n",
       "      <td>Arganda del Rey</td>\n",
       "      <td>ARGANDA</td>\n",
       "      <td>AVENIDA MADRID (DE), SN</td>\n",
       "      <td>PETROPRIX</td>\n",
       "      <td>1.369</td>\n",
       "      <td>1.426077</td>\n",
       "      <td>...</td>\n",
       "      <td>1.133852</td>\n",
       "      <td>NaN</td>\n",
       "      <td>1.259</td>\n",
       "      <td>1.51336</td>\n",
       "      <td>1.519</td>\n",
       "      <td>1.578308</td>\n",
       "      <td>1.574223</td>\n",
       "      <td>NaN</td>\n",
       "      <td>1.782667</td>\n",
       "      <td>1.730032</td>\n",
       "    </tr>\n",
       "    <tr>\n",
       "      <th>6618</th>\n",
       "      <td>10/05/2023 20:06:24</td>\n",
       "      <td>L-D: 24H</td>\n",
       "      <td>28500</td>\n",
       "      <td>MADRID</td>\n",
       "      <td>Arganda del Rey</td>\n",
       "      <td>ARGANDA</td>\n",
       "      <td>AVENIDA MADRID (DE), 66</td>\n",
       "      <td>PLEOTROSIL</td>\n",
       "      <td>1.369</td>\n",
       "      <td>1.426077</td>\n",
       "      <td>...</td>\n",
       "      <td>1.133852</td>\n",
       "      <td>NaN</td>\n",
       "      <td>1.259</td>\n",
       "      <td>1.51336</td>\n",
       "      <td>1.519</td>\n",
       "      <td>1.578308</td>\n",
       "      <td>1.574223</td>\n",
       "      <td>NaN</td>\n",
       "      <td>1.782667</td>\n",
       "      <td>1.730032</td>\n",
       "    </tr>\n",
       "    <tr>\n",
       "      <th>6614</th>\n",
       "      <td>10/05/2023 20:06:24</td>\n",
       "      <td>L: 24H</td>\n",
       "      <td>28500</td>\n",
       "      <td>MADRID</td>\n",
       "      <td>Arganda del Rey</td>\n",
       "      <td>ARGANDA</td>\n",
       "      <td>CARRETERA M-832 KM. 3</td>\n",
       "      <td>REPSOL</td>\n",
       "      <td>1.502</td>\n",
       "      <td>1.426077</td>\n",
       "      <td>...</td>\n",
       "      <td>1.133852</td>\n",
       "      <td>NaN</td>\n",
       "      <td>1.259</td>\n",
       "      <td>1.51336</td>\n",
       "      <td>1.652</td>\n",
       "      <td>1.578308</td>\n",
       "      <td>1.574223</td>\n",
       "      <td>NaN</td>\n",
       "      <td>1.782667</td>\n",
       "      <td>1.730032</td>\n",
       "    </tr>\n",
       "    <tr>\n",
       "      <th>6612</th>\n",
       "      <td>10/05/2023 20:06:24</td>\n",
       "      <td>L-D: 24H</td>\n",
       "      <td>28500</td>\n",
       "      <td>MADRID</td>\n",
       "      <td>Arganda del Rey</td>\n",
       "      <td>ARGANDA</td>\n",
       "      <td>CARRETERA M-832 KM. 3</td>\n",
       "      <td>REPSOL</td>\n",
       "      <td>1.502</td>\n",
       "      <td>1.426077</td>\n",
       "      <td>...</td>\n",
       "      <td>1.133852</td>\n",
       "      <td>1.572</td>\n",
       "      <td>1.259</td>\n",
       "      <td>1.51336</td>\n",
       "      <td>1.652</td>\n",
       "      <td>1.578308</td>\n",
       "      <td>1.574223</td>\n",
       "      <td>NaN</td>\n",
       "      <td>1.782667</td>\n",
       "      <td>1.730032</td>\n",
       "    </tr>\n",
       "    <tr>\n",
       "      <th>6607</th>\n",
       "      <td>10/05/2023 20:06:24</td>\n",
       "      <td>L-V: 06:00-22:00; S-D: 08:00-22:00</td>\n",
       "      <td>28500</td>\n",
       "      <td>MADRID</td>\n",
       "      <td>Arganda del Rey</td>\n",
       "      <td>ARGANDA</td>\n",
       "      <td>AVDA DE MADRID, 103</td>\n",
       "      <td>REPSOL</td>\n",
       "      <td>1.489</td>\n",
       "      <td>1.426077</td>\n",
       "      <td>...</td>\n",
       "      <td>1.133852</td>\n",
       "      <td>1.499</td>\n",
       "      <td>1.259</td>\n",
       "      <td>1.51336</td>\n",
       "      <td>1.649</td>\n",
       "      <td>1.578308</td>\n",
       "      <td>1.574223</td>\n",
       "      <td>NaN</td>\n",
       "      <td>1.782667</td>\n",
       "      <td>1.730032</td>\n",
       "    </tr>\n",
       "  </tbody>\n",
       "</table>\n",
       "<p>13 rows × 23 columns</p>\n",
       "</div>"
      ],
      "text/plain": [
       "                    Fecha                             Horario   C.P.  \\\n",
       "6608  10/05/2023 20:06:24                    L-D: 06:00-00:00  28500   \n",
       "6615  10/05/2023 20:06:24                            L-D: 24H  28500   \n",
       "6616  10/05/2023 20:06:24                            L-D: 24H  28500   \n",
       "6606  10/05/2023 20:06:24                            L-D: 24H  28500   \n",
       "6611  10/05/2023 20:06:24                            L-D: 24H  28500   \n",
       "6610  10/05/2023 20:06:24                    L-D: 06:00-22:00  28500   \n",
       "6609  10/05/2023 20:06:24                            L-D: 24H  28500   \n",
       "6613  10/05/2023 20:06:24                    L-D: 07:00-22:00  28500   \n",
       "6617  10/05/2023 20:06:24                            L-D: 24H  28500   \n",
       "6618  10/05/2023 20:06:24                            L-D: 24H  28500   \n",
       "6614  10/05/2023 20:06:24                              L: 24H  28500   \n",
       "6612  10/05/2023 20:06:24                            L-D: 24H  28500   \n",
       "6607  10/05/2023 20:06:24  L-V: 06:00-22:00; S-D: 08:00-22:00  28500   \n",
       "\n",
       "     Provincia        Municipio Localidad  \\\n",
       "6608    MADRID  Arganda del Rey   ARGANDA   \n",
       "6615    MADRID  Arganda del Rey   ARGANDA   \n",
       "6616    MADRID  Arganda del Rey   ARGANDA   \n",
       "6606    MADRID  Arganda del Rey   ARGANDA   \n",
       "6611    MADRID  Arganda del Rey   ARGANDA   \n",
       "6610    MADRID  Arganda del Rey   ARGANDA   \n",
       "6609    MADRID  Arganda del Rey   ARGANDA   \n",
       "6613    MADRID  Arganda del Rey   ARGANDA   \n",
       "6617    MADRID  Arganda del Rey   ARGANDA   \n",
       "6618    MADRID  Arganda del Rey   ARGANDA   \n",
       "6614    MADRID  Arganda del Rey   ARGANDA   \n",
       "6612    MADRID  Arganda del Rey   ARGANDA   \n",
       "6607    MADRID  Arganda del Rey   ARGANDA   \n",
       "\n",
       "                                              Dirección Proveedor de Servicio  \\\n",
       "6608                             AVENIDA DE MADRID, 126            ATEOTROSIL   \n",
       "6615                    CAMINO SAN MARTIN DE LA VEGA, 8          BALLEOTROSIL   \n",
       "6616  CAMINO CAMINO DE SAN MARTÍN DE LA VEGA A ARGAN...          BALLEOTROSIL   \n",
       "6606                        TRAVESÍA SIERRA DE GATA, 17          BALLEOTROSIL   \n",
       "6611                         AVENIDA EJERCITO (DEL), 44                    BP   \n",
       "6610                              AVENIDA DE MADRID, 37                    BP   \n",
       "6609                            AVENIDA VALDEARGANDA, 8                 CEPSA   \n",
       "6613                         AVENIDA FINANZAUTO (DE), 2              DELFIOIL   \n",
       "6617                            AVENIDA MADRID (DE), SN             PETROPRIX   \n",
       "6618                            AVENIDA MADRID (DE), 66            PLEOTROSIL   \n",
       "6614                              CARRETERA M-832 KM. 3                REPSOL   \n",
       "6612                              CARRETERA M-832 KM. 3                REPSOL   \n",
       "6607                                AVDA DE MADRID, 103                REPSOL   \n",
       "\n",
       "      Gasoleo A  Media C.P. Gasoleo A  ...  Media Nacional Gasoleo B  \\\n",
       "6608      1.369              1.426077  ...                  1.133852   \n",
       "6615      1.369              1.426077  ...                  1.133852   \n",
       "6616      1.369              1.426077  ...                  1.133852   \n",
       "6606      1.369              1.426077  ...                  1.133852   \n",
       "6611      1.489              1.426077  ...                  1.133852   \n",
       "6610      1.489              1.426077  ...                  1.133852   \n",
       "6609      1.485              1.426077  ...                  1.133852   \n",
       "6613      1.369              1.426077  ...                  1.133852   \n",
       "6617      1.369              1.426077  ...                  1.133852   \n",
       "6618      1.369              1.426077  ...                  1.133852   \n",
       "6614      1.502              1.426077  ...                  1.133852   \n",
       "6612      1.502              1.426077  ...                  1.133852   \n",
       "6607      1.489              1.426077  ...                  1.133852   \n",
       "\n",
       "      Gasoleo Premium  Media C.P. Gasoleo P  Media Nacional Gasoleo P  \\\n",
       "6608            1.379                 1.259                   1.51336   \n",
       "6615              NaN                 1.259                   1.51336   \n",
       "6616              NaN                 1.259                   1.51336   \n",
       "6606            1.379                 1.259                   1.51336   \n",
       "6611            1.579                 1.259                   1.51336   \n",
       "6610            1.579                 1.259                   1.51336   \n",
       "6609            1.585                 1.259                   1.51336   \n",
       "6613              NaN                 1.259                   1.51336   \n",
       "6617              NaN                 1.259                   1.51336   \n",
       "6618              NaN                 1.259                   1.51336   \n",
       "6614              NaN                 1.259                   1.51336   \n",
       "6612            1.572                 1.259                   1.51336   \n",
       "6607            1.499                 1.259                   1.51336   \n",
       "\n",
       "      Gasolina 95 E5  Media C.P. Gasolina 95  Media Nacional Gasolina 95  \\\n",
       "6608           1.519                1.578308                    1.574223   \n",
       "6615           1.519                1.578308                    1.574223   \n",
       "6616           1.519                1.578308                    1.574223   \n",
       "6606           1.519                1.578308                    1.574223   \n",
       "6611           1.649                1.578308                    1.574223   \n",
       "6610           1.649                1.578308                    1.574223   \n",
       "6609           1.634                1.578308                    1.574223   \n",
       "6613           1.519                1.578308                    1.574223   \n",
       "6617           1.519                1.578308                    1.574223   \n",
       "6618           1.519                1.578308                    1.574223   \n",
       "6614           1.652                1.578308                    1.574223   \n",
       "6612           1.652                1.578308                    1.574223   \n",
       "6607           1.649                1.578308                    1.574223   \n",
       "\n",
       "      Gasolina 98 E5  Media C.P. Gasolina 98  Media Nacional Gasolina 98  \n",
       "6608             NaN                1.782667                    1.730032  \n",
       "6615             NaN                1.782667                    1.730032  \n",
       "6616             NaN                1.782667                    1.730032  \n",
       "6606             NaN                1.782667                    1.730032  \n",
       "6611           1.791                1.782667                    1.730032  \n",
       "6610           1.791                1.782667                    1.730032  \n",
       "6609           1.766                1.782667                    1.730032  \n",
       "6613             NaN                1.782667                    1.730032  \n",
       "6617             NaN                1.782667                    1.730032  \n",
       "6618             NaN                1.782667                    1.730032  \n",
       "6614             NaN                1.782667                    1.730032  \n",
       "6612             NaN                1.782667                    1.730032  \n",
       "6607             NaN                1.782667                    1.730032  \n",
       "\n",
       "[13 rows x 23 columns]"
      ]
     },
     "execution_count": 164,
     "metadata": {},
     "output_type": "execute_result"
    }
   ],
   "source": [
    "gasolineras_cp('28500')"
   ]
  },
  {
   "cell_type": "code",
   "execution_count": 165,
   "id": "3542af36",
   "metadata": {},
   "outputs": [
    {
     "data": {
      "text/html": [
       "<div>\n",
       "<style scoped>\n",
       "    .dataframe tbody tr th:only-of-type {\n",
       "        vertical-align: middle;\n",
       "    }\n",
       "\n",
       "    .dataframe tbody tr th {\n",
       "        vertical-align: top;\n",
       "    }\n",
       "\n",
       "    .dataframe thead th {\n",
       "        text-align: right;\n",
       "    }\n",
       "</style>\n",
       "<table border=\"1\" class=\"dataframe\">\n",
       "  <thead>\n",
       "    <tr style=\"text-align: right;\">\n",
       "      <th></th>\n",
       "      <th>Fecha</th>\n",
       "      <th>Horario</th>\n",
       "      <th>C.P.</th>\n",
       "      <th>Provincia</th>\n",
       "      <th>Municipio</th>\n",
       "      <th>Localidad</th>\n",
       "      <th>Dirección</th>\n",
       "      <th>Proveedor de Servicio</th>\n",
       "      <th>Gasoleo A</th>\n",
       "      <th>Media C.P. Gasoleo A</th>\n",
       "      <th>...</th>\n",
       "      <th>Media Nacional Gasoleo B</th>\n",
       "      <th>Gasoleo Premium</th>\n",
       "      <th>Media C.P. Gasoleo P</th>\n",
       "      <th>Media Nacional Gasoleo P</th>\n",
       "      <th>Gasolina 95 E5</th>\n",
       "      <th>Media C.P. Gasolina 95</th>\n",
       "      <th>Media Nacional Gasolina 95</th>\n",
       "      <th>Gasolina 98 E5</th>\n",
       "      <th>Media C.P. Gasolina 98</th>\n",
       "      <th>Media Nacional Gasolina 98</th>\n",
       "    </tr>\n",
       "  </thead>\n",
       "  <tbody>\n",
       "    <tr>\n",
       "      <th>5106</th>\n",
       "      <td>10/05/2023 20:06:24</td>\n",
       "      <td>L-D: 06:00-23:30</td>\n",
       "      <td>18818</td>\n",
       "      <td>GRANADA</td>\n",
       "      <td>Castilléjar</td>\n",
       "      <td>CASTILLEJAR</td>\n",
       "      <td>CARRETERA BENAMAUREL-HUESCAR KM. 13</td>\n",
       "      <td>AGLA</td>\n",
       "      <td>1.489</td>\n",
       "      <td>1.489000</td>\n",
       "      <td>...</td>\n",
       "      <td>1.133852</td>\n",
       "      <td>1.529</td>\n",
       "      <td>1.179000</td>\n",
       "      <td>1.51336</td>\n",
       "      <td>1.669</td>\n",
       "      <td>1.669000</td>\n",
       "      <td>1.574223</td>\n",
       "      <td>1.789</td>\n",
       "      <td>1.789000</td>\n",
       "      <td>1.730032</td>\n",
       "    </tr>\n",
       "    <tr>\n",
       "      <th>10874</th>\n",
       "      <td>10/05/2023 20:06:24</td>\n",
       "      <td>L-D: 06:00-22:00</td>\n",
       "      <td>46841</td>\n",
       "      <td>VALENCIA / VALÈNCIA</td>\n",
       "      <td>Castelló de Rugat</td>\n",
       "      <td>CASTELLO DE RUGAT</td>\n",
       "      <td>CL  CAÑI REAL 83</td>\n",
       "      <td>BP</td>\n",
       "      <td>1.449</td>\n",
       "      <td>1.449000</td>\n",
       "      <td>...</td>\n",
       "      <td>1.133852</td>\n",
       "      <td>1.549</td>\n",
       "      <td>1.200000</td>\n",
       "      <td>1.51336</td>\n",
       "      <td>1.639</td>\n",
       "      <td>1.639000</td>\n",
       "      <td>1.574223</td>\n",
       "      <td>1.789</td>\n",
       "      <td>1.789000</td>\n",
       "      <td>1.730032</td>\n",
       "    </tr>\n",
       "    <tr>\n",
       "      <th>1820</th>\n",
       "      <td>10/05/2023 20:06:24</td>\n",
       "      <td>L-D: 24H</td>\n",
       "      <td>08210</td>\n",
       "      <td>BARCELONA</td>\n",
       "      <td>Barberà del Vallès</td>\n",
       "      <td>BARBERA DEL VALLES</td>\n",
       "      <td>CR DE RIPOLLET A SANTIGA KM  2,4</td>\n",
       "      <td>BP</td>\n",
       "      <td>1.429</td>\n",
       "      <td>1.405000</td>\n",
       "      <td>...</td>\n",
       "      <td>1.133852</td>\n",
       "      <td>1.519</td>\n",
       "      <td>1.149000</td>\n",
       "      <td>1.51336</td>\n",
       "      <td>1.659</td>\n",
       "      <td>1.653000</td>\n",
       "      <td>1.574223</td>\n",
       "      <td>1.799</td>\n",
       "      <td>1.805667</td>\n",
       "      <td>1.730032</td>\n",
       "    </tr>\n",
       "    <tr>\n",
       "      <th>5964</th>\n",
       "      <td>10/05/2023 20:06:24</td>\n",
       "      <td>L-D: 06:30-22:30</td>\n",
       "      <td>23400</td>\n",
       "      <td>JAÉN</td>\n",
       "      <td>Úbeda</td>\n",
       "      <td>UBEDA</td>\n",
       "      <td>CL AVENIDA DE LA LIBERTAD 76</td>\n",
       "      <td>REPSOL</td>\n",
       "      <td>1.457</td>\n",
       "      <td>1.400300</td>\n",
       "      <td>...</td>\n",
       "      <td>1.133852</td>\n",
       "      <td>1.537</td>\n",
       "      <td>1.101000</td>\n",
       "      <td>1.51336</td>\n",
       "      <td>1.597</td>\n",
       "      <td>1.575300</td>\n",
       "      <td>1.574223</td>\n",
       "      <td>1.717</td>\n",
       "      <td>1.708250</td>\n",
       "      <td>1.730032</td>\n",
       "    </tr>\n",
       "    <tr>\n",
       "      <th>4997</th>\n",
       "      <td>10/05/2023 20:06:24</td>\n",
       "      <td>L-S: 06:00-22:00; D: 07:00-22:00</td>\n",
       "      <td>17403</td>\n",
       "      <td>GIRONA</td>\n",
       "      <td>Sant Hilari Sacalm</td>\n",
       "      <td>SANT HILARI SACALM</td>\n",
       "      <td>PASEO FONT DEL CIRERER, 43</td>\n",
       "      <td>BP</td>\n",
       "      <td>1.449</td>\n",
       "      <td>1.379000</td>\n",
       "      <td>...</td>\n",
       "      <td>1.133852</td>\n",
       "      <td>1.539</td>\n",
       "      <td>1.399000</td>\n",
       "      <td>1.51336</td>\n",
       "      <td>1.649</td>\n",
       "      <td>1.559000</td>\n",
       "      <td>1.574223</td>\n",
       "      <td>1.819</td>\n",
       "      <td>1.754000</td>\n",
       "      <td>1.730032</td>\n",
       "    </tr>\n",
       "    <tr>\n",
       "      <th>...</th>\n",
       "      <td>...</td>\n",
       "      <td>...</td>\n",
       "      <td>...</td>\n",
       "      <td>...</td>\n",
       "      <td>...</td>\n",
       "      <td>...</td>\n",
       "      <td>...</td>\n",
       "      <td>...</td>\n",
       "      <td>...</td>\n",
       "      <td>...</td>\n",
       "      <td>...</td>\n",
       "      <td>...</td>\n",
       "      <td>...</td>\n",
       "      <td>...</td>\n",
       "      <td>...</td>\n",
       "      <td>...</td>\n",
       "      <td>...</td>\n",
       "      <td>...</td>\n",
       "      <td>...</td>\n",
       "      <td>...</td>\n",
       "      <td>...</td>\n",
       "    </tr>\n",
       "    <tr>\n",
       "      <th>2719</th>\n",
       "      <td>10/05/2023 20:06:24</td>\n",
       "      <td>L-D: 05:00-23:00</td>\n",
       "      <td>09400</td>\n",
       "      <td>BURGOS</td>\n",
       "      <td>Aranda de Duero</td>\n",
       "      <td>ARANDA DE DUERO</td>\n",
       "      <td>CALLE VENDIMIA  EN  ARANDA DE DUERO, 2</td>\n",
       "      <td>VALCARCE</td>\n",
       "      <td>1.409</td>\n",
       "      <td>1.356000</td>\n",
       "      <td>...</td>\n",
       "      <td>1.133852</td>\n",
       "      <td>1.509</td>\n",
       "      <td>1.084000</td>\n",
       "      <td>1.51336</td>\n",
       "      <td>1.599</td>\n",
       "      <td>1.562000</td>\n",
       "      <td>1.574223</td>\n",
       "      <td>1.769</td>\n",
       "      <td>1.751800</td>\n",
       "      <td>1.730032</td>\n",
       "    </tr>\n",
       "    <tr>\n",
       "      <th>5224</th>\n",
       "      <td>10/05/2023 20:06:24</td>\n",
       "      <td>L-D: 24H</td>\n",
       "      <td>18327</td>\n",
       "      <td>GRANADA</td>\n",
       "      <td>Láchar</td>\n",
       "      <td>LACHAR</td>\n",
       "      <td>AUTOVIA A92 KM. 221</td>\n",
       "      <td>VALCARCE</td>\n",
       "      <td>1.449</td>\n",
       "      <td>1.464000</td>\n",
       "      <td>...</td>\n",
       "      <td>1.133852</td>\n",
       "      <td>1.589</td>\n",
       "      <td>1.334000</td>\n",
       "      <td>1.51336</td>\n",
       "      <td>1.549</td>\n",
       "      <td>1.619000</td>\n",
       "      <td>1.574223</td>\n",
       "      <td>1.579</td>\n",
       "      <td>1.719000</td>\n",
       "      <td>1.730032</td>\n",
       "    </tr>\n",
       "    <tr>\n",
       "      <th>4229</th>\n",
       "      <td>10/05/2023 20:06:24</td>\n",
       "      <td>L-D: 06:00-23:00</td>\n",
       "      <td>15100</td>\n",
       "      <td>CORUÑA (A)</td>\n",
       "      <td>Carballo</td>\n",
       "      <td>CARBALLO</td>\n",
       "      <td>LUGAR A REVOLTA, 20</td>\n",
       "      <td>VALCARCE (E S CARVOLTA  S L )</td>\n",
       "      <td>1.359</td>\n",
       "      <td>1.390778</td>\n",
       "      <td>...</td>\n",
       "      <td>1.133852</td>\n",
       "      <td>1.419</td>\n",
       "      <td>1.212000</td>\n",
       "      <td>1.51336</td>\n",
       "      <td>1.599</td>\n",
       "      <td>1.589556</td>\n",
       "      <td>1.574223</td>\n",
       "      <td>1.749</td>\n",
       "      <td>1.769571</td>\n",
       "      <td>1.730032</td>\n",
       "    </tr>\n",
       "    <tr>\n",
       "      <th>7861</th>\n",
       "      <td>10/05/2023 20:06:24</td>\n",
       "      <td>L-D: 24H</td>\n",
       "      <td>30800</td>\n",
       "      <td>MURCIA</td>\n",
       "      <td>Lorca</td>\n",
       "      <td>LORCA</td>\n",
       "      <td>CARRETERA A-91 KM. 3,5</td>\n",
       "      <td>VENTA LA PETRA</td>\n",
       "      <td>1.418</td>\n",
       "      <td>1.368696</td>\n",
       "      <td>...</td>\n",
       "      <td>1.133852</td>\n",
       "      <td>1.508</td>\n",
       "      <td>1.236833</td>\n",
       "      <td>1.51336</td>\n",
       "      <td>1.588</td>\n",
       "      <td>1.564476</td>\n",
       "      <td>1.574223</td>\n",
       "      <td>1.738</td>\n",
       "      <td>1.705067</td>\n",
       "      <td>1.730032</td>\n",
       "    </tr>\n",
       "    <tr>\n",
       "      <th>1949</th>\n",
       "      <td>10/05/2023 20:06:24</td>\n",
       "      <td>L: 07:00-22:00</td>\n",
       "      <td>08261</td>\n",
       "      <td>BARCELONA</td>\n",
       "      <td>Cardona</td>\n",
       "      <td>CARDONA</td>\n",
       "      <td>CARRETERA C-1410A KM. 29</td>\n",
       "      <td>VILALTA</td>\n",
       "      <td>1.359</td>\n",
       "      <td>1.356000</td>\n",
       "      <td>...</td>\n",
       "      <td>1.133852</td>\n",
       "      <td>1.389</td>\n",
       "      <td>1.050000</td>\n",
       "      <td>1.51336</td>\n",
       "      <td>1.529</td>\n",
       "      <td>1.514000</td>\n",
       "      <td>1.574223</td>\n",
       "      <td>1.719</td>\n",
       "      <td>1.719000</td>\n",
       "      <td>1.730032</td>\n",
       "    </tr>\n",
       "  </tbody>\n",
       "</table>\n",
       "<p>900 rows × 23 columns</p>\n",
       "</div>"
      ],
      "text/plain": [
       "                     Fecha                           Horario   C.P.  \\\n",
       "5106   10/05/2023 20:06:24                  L-D: 06:00-23:30  18818   \n",
       "10874  10/05/2023 20:06:24                  L-D: 06:00-22:00  46841   \n",
       "1820   10/05/2023 20:06:24                          L-D: 24H  08210   \n",
       "5964   10/05/2023 20:06:24                  L-D: 06:30-22:30  23400   \n",
       "4997   10/05/2023 20:06:24  L-S: 06:00-22:00; D: 07:00-22:00  17403   \n",
       "...                    ...                               ...    ...   \n",
       "2719   10/05/2023 20:06:24                  L-D: 05:00-23:00  09400   \n",
       "5224   10/05/2023 20:06:24                          L-D: 24H  18327   \n",
       "4229   10/05/2023 20:06:24                  L-D: 06:00-23:00  15100   \n",
       "7861   10/05/2023 20:06:24                          L-D: 24H  30800   \n",
       "1949   10/05/2023 20:06:24                    L: 07:00-22:00  08261   \n",
       "\n",
       "                 Provincia           Municipio           Localidad  \\\n",
       "5106               GRANADA         Castilléjar         CASTILLEJAR   \n",
       "10874  VALENCIA / VALÈNCIA   Castelló de Rugat   CASTELLO DE RUGAT   \n",
       "1820             BARCELONA  Barberà del Vallès  BARBERA DEL VALLES   \n",
       "5964                  JAÉN               Úbeda               UBEDA   \n",
       "4997                GIRONA  Sant Hilari Sacalm  SANT HILARI SACALM   \n",
       "...                    ...                 ...                 ...   \n",
       "2719                BURGOS     Aranda de Duero     ARANDA DE DUERO   \n",
       "5224               GRANADA              Láchar              LACHAR   \n",
       "4229            CORUÑA (A)            Carballo            CARBALLO   \n",
       "7861                MURCIA               Lorca               LORCA   \n",
       "1949             BARCELONA             Cardona             CARDONA   \n",
       "\n",
       "                                    Dirección          Proveedor de Servicio  \\\n",
       "5106      CARRETERA BENAMAUREL-HUESCAR KM. 13                           AGLA   \n",
       "10874                        CL  CAÑI REAL 83                             BP   \n",
       "1820         CR DE RIPOLLET A SANTIGA KM  2,4                             BP   \n",
       "5964             CL AVENIDA DE LA LIBERTAD 76                         REPSOL   \n",
       "4997               PASEO FONT DEL CIRERER, 43                             BP   \n",
       "...                                       ...                            ...   \n",
       "2719   CALLE VENDIMIA  EN  ARANDA DE DUERO, 2                       VALCARCE   \n",
       "5224                      AUTOVIA A92 KM. 221                      VALCARCE    \n",
       "4229                      LUGAR A REVOLTA, 20  VALCARCE (E S CARVOLTA  S L )   \n",
       "7861                   CARRETERA A-91 KM. 3,5                 VENTA LA PETRA   \n",
       "1949                 CARRETERA C-1410A KM. 29                        VILALTA   \n",
       "\n",
       "       Gasoleo A  Media C.P. Gasoleo A  ...  Media Nacional Gasoleo B  \\\n",
       "5106       1.489              1.489000  ...                  1.133852   \n",
       "10874      1.449              1.449000  ...                  1.133852   \n",
       "1820       1.429              1.405000  ...                  1.133852   \n",
       "5964       1.457              1.400300  ...                  1.133852   \n",
       "4997       1.449              1.379000  ...                  1.133852   \n",
       "...          ...                   ...  ...                       ...   \n",
       "2719       1.409              1.356000  ...                  1.133852   \n",
       "5224       1.449              1.464000  ...                  1.133852   \n",
       "4229       1.359              1.390778  ...                  1.133852   \n",
       "7861       1.418              1.368696  ...                  1.133852   \n",
       "1949       1.359              1.356000  ...                  1.133852   \n",
       "\n",
       "       Gasoleo Premium  Media C.P. Gasoleo P  Media Nacional Gasoleo P  \\\n",
       "5106             1.529              1.179000                   1.51336   \n",
       "10874            1.549              1.200000                   1.51336   \n",
       "1820             1.519              1.149000                   1.51336   \n",
       "5964             1.537              1.101000                   1.51336   \n",
       "4997             1.539              1.399000                   1.51336   \n",
       "...                ...                   ...                       ...   \n",
       "2719             1.509              1.084000                   1.51336   \n",
       "5224             1.589              1.334000                   1.51336   \n",
       "4229             1.419              1.212000                   1.51336   \n",
       "7861             1.508              1.236833                   1.51336   \n",
       "1949             1.389              1.050000                   1.51336   \n",
       "\n",
       "       Gasolina 95 E5  Media C.P. Gasolina 95  Media Nacional Gasolina 95  \\\n",
       "5106            1.669                1.669000                    1.574223   \n",
       "10874           1.639                1.639000                    1.574223   \n",
       "1820            1.659                1.653000                    1.574223   \n",
       "5964            1.597                1.575300                    1.574223   \n",
       "4997            1.649                1.559000                    1.574223   \n",
       "...               ...                     ...                         ...   \n",
       "2719            1.599                1.562000                    1.574223   \n",
       "5224            1.549                1.619000                    1.574223   \n",
       "4229            1.599                1.589556                    1.574223   \n",
       "7861            1.588                1.564476                    1.574223   \n",
       "1949            1.529                1.514000                    1.574223   \n",
       "\n",
       "       Gasolina 98 E5  Media C.P. Gasolina 98  Media Nacional Gasolina 98  \n",
       "5106            1.789                1.789000                    1.730032  \n",
       "10874           1.789                1.789000                    1.730032  \n",
       "1820            1.799                1.805667                    1.730032  \n",
       "5964            1.717                1.708250                    1.730032  \n",
       "4997            1.819                1.754000                    1.730032  \n",
       "...               ...                     ...                         ...  \n",
       "2719            1.769                1.751800                    1.730032  \n",
       "5224            1.579                1.719000                    1.730032  \n",
       "4229            1.749                1.769571                    1.730032  \n",
       "7861            1.738                1.705067                    1.730032  \n",
       "1949            1.719                1.719000                    1.730032  \n",
       "\n",
       "[900 rows x 23 columns]"
      ]
     },
     "execution_count": 165,
     "metadata": {},
     "output_type": "execute_result"
    }
   ],
   "source": [
    "df_n.dropna()"
   ]
  },
  {
   "cell_type": "code",
   "execution_count": null,
   "id": "5554abd0",
   "metadata": {},
   "outputs": [],
   "source": []
  },
  {
   "cell_type": "code",
   "execution_count": null,
   "id": "9bdeaf58",
   "metadata": {},
   "outputs": [],
   "source": []
  },
  {
   "cell_type": "code",
   "execution_count": null,
   "id": "7ea9bb56",
   "metadata": {},
   "outputs": [],
   "source": []
  },
  {
   "cell_type": "code",
   "execution_count": null,
   "id": "993e45ed",
   "metadata": {},
   "outputs": [],
   "source": [
    "\n",
    "\n"
   ]
  }
 ],
 "metadata": {
  "kernelspec": {
   "display_name": "Python [conda env:m1_ih]",
   "language": "python",
   "name": "conda-env-m1_ih-py"
  },
  "language_info": {
   "codemirror_mode": {
    "name": "ipython",
    "version": 3
   },
   "file_extension": ".py",
   "mimetype": "text/x-python",
   "name": "python",
   "nbconvert_exporter": "python",
   "pygments_lexer": "ipython3",
   "version": "3.9.12"
  }
 },
 "nbformat": 4,
 "nbformat_minor": 5
}
