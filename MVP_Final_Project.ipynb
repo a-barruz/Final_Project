{
 "cells": [
  {
   "cell_type": "markdown",
   "id": "3e6982b2",
   "metadata": {},
   "source": [
    "## MVP"
   ]
  },
  {
   "cell_type": "code",
   "execution_count": 1,
   "id": "2cef25b8",
   "metadata": {},
   "outputs": [],
   "source": [
    "# Imports\n",
    "\n",
    "# Pandas\n",
    "import pandas as pd \n",
    "\n",
    "# Importo libreria para conexión a API\n",
    "from urllib.request import urlopen\n",
    "\n",
    "# Importo libreria Json para que lea\n",
    "import json\n",
    "\n",
    "#Normalizar Json\n",
    "from pandas.io.json import json_normalize\n",
    "\n",
    "import numpy as np\n"
   ]
  },
  {
   "cell_type": "markdown",
   "id": "9397380f",
   "metadata": {},
   "source": [
    "---\n",
    "Step 1 (Data Extraction)"
   ]
  },
  {
   "cell_type": "code",
   "execution_count": 2,
   "id": "55515f32",
   "metadata": {},
   "outputs": [],
   "source": [
    "# Definir las variables donde meto el string que contiene la URL\n",
    "\n",
    "endpoint ='https://sedeaplicaciones.minetur.gob.es'\n",
    "parametros = '/ServiciosRESTCarburantes/PreciosCarburantes/EstacionesTerrestres/'\n"
   ]
  },
  {
   "cell_type": "code",
   "execution_count": 3,
   "id": "2d466973",
   "metadata": {},
   "outputs": [
    {
     "data": {
      "text/plain": [
       "http.client.HTTPResponse"
      ]
     },
     "execution_count": 3,
     "metadata": {},
     "output_type": "execute_result"
    }
   ],
   "source": [
    "# Vamos a guardar en una variable nuestros datos (resultado, comida) \n",
    "\n",
    "response = urlopen(endpoint+parametros)\n",
    "type(response)\n"
   ]
  },
  {
   "cell_type": "code",
   "execution_count": 4,
   "id": "0031d835",
   "metadata": {},
   "outputs": [
    {
     "data": {
      "text/plain": [
       "dict"
      ]
     },
     "execution_count": 4,
     "metadata": {},
     "output_type": "execute_result"
    }
   ],
   "source": [
    "# Vamos a extraer del obejto, los datos\n",
    "\n",
    "data = response.read().decode('utf-8', 'replace')\n",
    "data = json.loads(data)\n",
    "type(data)\n"
   ]
  },
  {
   "cell_type": "code",
   "execution_count": 5,
   "id": "501a7f08",
   "metadata": {},
   "outputs": [
    {
     "data": {
      "text/html": [
       "<div>\n",
       "<style scoped>\n",
       "    .dataframe tbody tr th:only-of-type {\n",
       "        vertical-align: middle;\n",
       "    }\n",
       "\n",
       "    .dataframe tbody tr th {\n",
       "        vertical-align: top;\n",
       "    }\n",
       "\n",
       "    .dataframe thead th {\n",
       "        text-align: right;\n",
       "    }\n",
       "</style>\n",
       "<table border=\"1\" class=\"dataframe\">\n",
       "  <thead>\n",
       "    <tr style=\"text-align: right;\">\n",
       "      <th></th>\n",
       "      <th>Fecha</th>\n",
       "      <th>ListaEESSPrecio</th>\n",
       "      <th>Nota</th>\n",
       "      <th>ResultadoConsulta</th>\n",
       "    </tr>\n",
       "  </thead>\n",
       "  <tbody>\n",
       "    <tr>\n",
       "      <th>0</th>\n",
       "      <td>12/11/2022 9:29:39</td>\n",
       "      <td>{'C.P.': '02250', 'Dirección': 'AVENIDA CASTIL...</td>\n",
       "      <td>Archivo de todos los productos en todas las es...</td>\n",
       "      <td>OK</td>\n",
       "    </tr>\n",
       "    <tr>\n",
       "      <th>1</th>\n",
       "      <td>12/11/2022 9:29:39</td>\n",
       "      <td>{'C.P.': '02152', 'Dirección': 'CR CM-332, 46,...</td>\n",
       "      <td>Archivo de todos los productos en todas las es...</td>\n",
       "      <td>OK</td>\n",
       "    </tr>\n",
       "    <tr>\n",
       "      <th>2</th>\n",
       "      <td>12/11/2022 9:29:39</td>\n",
       "      <td>{'C.P.': '02001', 'Dirección': 'AVENIDA 1º DE ...</td>\n",
       "      <td>Archivo de todos los productos en todas las es...</td>\n",
       "      <td>OK</td>\n",
       "    </tr>\n",
       "    <tr>\n",
       "      <th>3</th>\n",
       "      <td>12/11/2022 9:29:39</td>\n",
       "      <td>{'C.P.': '02001', 'Dirección': 'CALLE PRINCIPE...</td>\n",
       "      <td>Archivo de todos los productos en todas las es...</td>\n",
       "      <td>OK</td>\n",
       "    </tr>\n",
       "    <tr>\n",
       "      <th>4</th>\n",
       "      <td>12/11/2022 9:29:39</td>\n",
       "      <td>{'C.P.': '02001', 'Dirección': 'CALLE FEDERICO...</td>\n",
       "      <td>Archivo de todos los productos en todas las es...</td>\n",
       "      <td>OK</td>\n",
       "    </tr>\n",
       "    <tr>\n",
       "      <th>...</th>\n",
       "      <td>...</td>\n",
       "      <td>...</td>\n",
       "      <td>...</td>\n",
       "      <td>...</td>\n",
       "    </tr>\n",
       "    <tr>\n",
       "      <th>11784</th>\n",
       "      <td>12/11/2022 9:29:39</td>\n",
       "      <td>{'C.P.': '50197', 'Dirección': 'POLIGONO CALLE...</td>\n",
       "      <td>Archivo de todos los productos en todas las es...</td>\n",
       "      <td>OK</td>\n",
       "    </tr>\n",
       "    <tr>\n",
       "      <th>11785</th>\n",
       "      <td>12/11/2022 9:29:39</td>\n",
       "      <td>{'C.P.': '50197', 'Dirección': 'RONDA FERIA DE...</td>\n",
       "      <td>Archivo de todos los productos en todas las es...</td>\n",
       "      <td>OK</td>\n",
       "    </tr>\n",
       "    <tr>\n",
       "      <th>11786</th>\n",
       "      <td>12/11/2022 9:29:39</td>\n",
       "      <td>{'C.P.': '50800', 'Dirección': 'CARRETERA N-33...</td>\n",
       "      <td>Archivo de todos los productos en todas las es...</td>\n",
       "      <td>OK</td>\n",
       "    </tr>\n",
       "    <tr>\n",
       "      <th>11787</th>\n",
       "      <td>12/11/2022 9:29:39</td>\n",
       "      <td>{'C.P.': '50800', 'Dirección': 'CALLE AUSTRIA,...</td>\n",
       "      <td>Archivo de todos los productos en todas las es...</td>\n",
       "      <td>OK</td>\n",
       "    </tr>\n",
       "    <tr>\n",
       "      <th>11788</th>\n",
       "      <td>12/11/2022 9:29:39</td>\n",
       "      <td>{'C.P.': '50810', 'Dirección': 'CALLE COOPERAT...</td>\n",
       "      <td>Archivo de todos los productos en todas las es...</td>\n",
       "      <td>OK</td>\n",
       "    </tr>\n",
       "  </tbody>\n",
       "</table>\n",
       "<p>11789 rows × 4 columns</p>\n",
       "</div>"
      ],
      "text/plain": [
       "                    Fecha                                    ListaEESSPrecio  \\\n",
       "0      12/11/2022 9:29:39  {'C.P.': '02250', 'Dirección': 'AVENIDA CASTIL...   \n",
       "1      12/11/2022 9:29:39  {'C.P.': '02152', 'Dirección': 'CR CM-332, 46,...   \n",
       "2      12/11/2022 9:29:39  {'C.P.': '02001', 'Dirección': 'AVENIDA 1º DE ...   \n",
       "3      12/11/2022 9:29:39  {'C.P.': '02001', 'Dirección': 'CALLE PRINCIPE...   \n",
       "4      12/11/2022 9:29:39  {'C.P.': '02001', 'Dirección': 'CALLE FEDERICO...   \n",
       "...                   ...                                                ...   \n",
       "11784  12/11/2022 9:29:39  {'C.P.': '50197', 'Dirección': 'POLIGONO CALLE...   \n",
       "11785  12/11/2022 9:29:39  {'C.P.': '50197', 'Dirección': 'RONDA FERIA DE...   \n",
       "11786  12/11/2022 9:29:39  {'C.P.': '50800', 'Dirección': 'CARRETERA N-33...   \n",
       "11787  12/11/2022 9:29:39  {'C.P.': '50800', 'Dirección': 'CALLE AUSTRIA,...   \n",
       "11788  12/11/2022 9:29:39  {'C.P.': '50810', 'Dirección': 'CALLE COOPERAT...   \n",
       "\n",
       "                                                    Nota ResultadoConsulta  \n",
       "0      Archivo de todos los productos en todas las es...                OK  \n",
       "1      Archivo de todos los productos en todas las es...                OK  \n",
       "2      Archivo de todos los productos en todas las es...                OK  \n",
       "3      Archivo de todos los productos en todas las es...                OK  \n",
       "4      Archivo de todos los productos en todas las es...                OK  \n",
       "...                                                  ...               ...  \n",
       "11784  Archivo de todos los productos en todas las es...                OK  \n",
       "11785  Archivo de todos los productos en todas las es...                OK  \n",
       "11786  Archivo de todos los productos en todas las es...                OK  \n",
       "11787  Archivo de todos los productos en todas las es...                OK  \n",
       "11788  Archivo de todos los productos en todas las es...                OK  \n",
       "\n",
       "[11789 rows x 4 columns]"
      ]
     },
     "execution_count": 5,
     "metadata": {},
     "output_type": "execute_result"
    }
   ],
   "source": [
    "# Crear Dataframe\n",
    "\n",
    "df = pd.DataFrame(data)\n",
    "df"
   ]
  },
  {
   "cell_type": "markdown",
   "id": "bf936489",
   "metadata": {},
   "source": [
    "---\n",
    "\n",
    "Step 2 (Data Transformation)"
   ]
  },
  {
   "cell_type": "code",
   "execution_count": 6,
   "id": "82a65952",
   "metadata": {},
   "outputs": [
    {
     "data": {
      "text/plain": [
       "dict"
      ]
     },
     "execution_count": 6,
     "metadata": {},
     "output_type": "execute_result"
    }
   ],
   "source": [
    "# Análisis de la columna Lista EESS Precio\n",
    "\n",
    "diccionario = df['ListaEESSPrecio'].iloc[1]\n",
    "type(diccionario)"
   ]
  },
  {
   "cell_type": "code",
   "execution_count": 7,
   "id": "3207dce3",
   "metadata": {},
   "outputs": [
    {
     "data": {
      "text/plain": [
       "{'C.P.': '02152',\n",
       " 'Dirección': 'CR CM-332, 46,4',\n",
       " 'Horario': 'L-D: 7:00-23:00',\n",
       " 'Latitud': '39,100389',\n",
       " 'Localidad': 'ALATOZ',\n",
       " 'Longitud (WGS84)': '-1,346083',\n",
       " 'Margen': 'I',\n",
       " 'Municipio': 'Alatoz',\n",
       " 'Precio Biodiesel': '',\n",
       " 'Precio Bioetanol': '',\n",
       " 'Precio Gas Natural Comprimido': '',\n",
       " 'Precio Gas Natural Licuado': '',\n",
       " 'Precio Gases licuados del petróleo': '',\n",
       " 'Precio Gasoleo A': '2,040',\n",
       " 'Precio Gasoleo B': '',\n",
       " 'Precio Gasoleo Premium': '2,300',\n",
       " 'Precio Gasolina 95 E10': '',\n",
       " 'Precio Gasolina 95 E5': '1,909',\n",
       " 'Precio Gasolina 95 E5 Premium': '',\n",
       " 'Precio Gasolina 98 E10': '',\n",
       " 'Precio Gasolina 98 E5': '2,200',\n",
       " 'Precio Hidrogeno': '',\n",
       " 'Provincia': 'ALBACETE',\n",
       " 'Remisión': 'dm',\n",
       " 'Rótulo': 'REPSOL',\n",
       " 'Tipo Venta': 'P',\n",
       " '% BioEtanol': '0,0',\n",
       " '% Éster metílico': '0,0',\n",
       " 'IDEESS': '5122',\n",
       " 'IDMunicipio': '53',\n",
       " 'IDProvincia': '02',\n",
       " 'IDCCAA': '07'}"
      ]
     },
     "execution_count": 7,
     "metadata": {},
     "output_type": "execute_result"
    }
   ],
   "source": [
    "diccionario"
   ]
  },
  {
   "cell_type": "code",
   "execution_count": 8,
   "id": "b1c814d5",
   "metadata": {
    "scrolled": true
   },
   "outputs": [
    {
     "data": {
      "text/html": [
       "<div>\n",
       "<style scoped>\n",
       "    .dataframe tbody tr th:only-of-type {\n",
       "        vertical-align: middle;\n",
       "    }\n",
       "\n",
       "    .dataframe tbody tr th {\n",
       "        vertical-align: top;\n",
       "    }\n",
       "\n",
       "    .dataframe thead th {\n",
       "        text-align: right;\n",
       "    }\n",
       "</style>\n",
       "<table border=\"1\" class=\"dataframe\">\n",
       "  <thead>\n",
       "    <tr style=\"text-align: right;\">\n",
       "      <th></th>\n",
       "      <th>Fecha</th>\n",
       "      <th>C.P.</th>\n",
       "      <th>Dirección</th>\n",
       "      <th>Horario</th>\n",
       "      <th>Latitud</th>\n",
       "      <th>Localidad</th>\n",
       "      <th>Longitud (WGS84)</th>\n",
       "      <th>Margen</th>\n",
       "      <th>Municipio</th>\n",
       "      <th>Precio Biodiesel</th>\n",
       "      <th>...</th>\n",
       "      <th>Provincia</th>\n",
       "      <th>Remisión</th>\n",
       "      <th>Rótulo</th>\n",
       "      <th>Tipo Venta</th>\n",
       "      <th>% BioEtanol</th>\n",
       "      <th>% Éster metílico</th>\n",
       "      <th>IDEESS</th>\n",
       "      <th>IDMunicipio</th>\n",
       "      <th>IDProvincia</th>\n",
       "      <th>IDCCAA</th>\n",
       "    </tr>\n",
       "  </thead>\n",
       "  <tbody>\n",
       "    <tr>\n",
       "      <th>0</th>\n",
       "      <td>12/11/2022 9:29:39</td>\n",
       "      <td>02250</td>\n",
       "      <td>AVENIDA CASTILLA LA MANCHA, 26</td>\n",
       "      <td>L-D: 07:00-22:00</td>\n",
       "      <td>39,211417</td>\n",
       "      <td>ABENGIBRE</td>\n",
       "      <td>-1,539167</td>\n",
       "      <td>D</td>\n",
       "      <td>Abengibre</td>\n",
       "      <td></td>\n",
       "      <td>...</td>\n",
       "      <td>ALBACETE</td>\n",
       "      <td>dm</td>\n",
       "      <td>Nº 10.935</td>\n",
       "      <td>P</td>\n",
       "      <td>0,0</td>\n",
       "      <td>0,0</td>\n",
       "      <td>4375</td>\n",
       "      <td>52</td>\n",
       "      <td>02</td>\n",
       "      <td>07</td>\n",
       "    </tr>\n",
       "    <tr>\n",
       "      <th>1</th>\n",
       "      <td>12/11/2022 9:29:39</td>\n",
       "      <td>02152</td>\n",
       "      <td>CR CM-332, 46,4</td>\n",
       "      <td>L-D: 7:00-23:00</td>\n",
       "      <td>39,100389</td>\n",
       "      <td>ALATOZ</td>\n",
       "      <td>-1,346083</td>\n",
       "      <td>I</td>\n",
       "      <td>Alatoz</td>\n",
       "      <td></td>\n",
       "      <td>...</td>\n",
       "      <td>ALBACETE</td>\n",
       "      <td>dm</td>\n",
       "      <td>REPSOL</td>\n",
       "      <td>P</td>\n",
       "      <td>0,0</td>\n",
       "      <td>0,0</td>\n",
       "      <td>5122</td>\n",
       "      <td>53</td>\n",
       "      <td>02</td>\n",
       "      <td>07</td>\n",
       "    </tr>\n",
       "    <tr>\n",
       "      <th>2</th>\n",
       "      <td>12/11/2022 9:29:39</td>\n",
       "      <td>02001</td>\n",
       "      <td>AVENIDA 1º DE MAYO, S/N</td>\n",
       "      <td>L-S: 08:00-22:00; D: 09:00-21:00</td>\n",
       "      <td>38,985667</td>\n",
       "      <td>ALBACETE</td>\n",
       "      <td>-1,868500</td>\n",
       "      <td>N</td>\n",
       "      <td>Albacete</td>\n",
       "      <td></td>\n",
       "      <td>...</td>\n",
       "      <td>ALBACETE</td>\n",
       "      <td>dm</td>\n",
       "      <td>CARREFOUR</td>\n",
       "      <td>P</td>\n",
       "      <td>0,0</td>\n",
       "      <td>0,0</td>\n",
       "      <td>10765</td>\n",
       "      <td>54</td>\n",
       "      <td>02</td>\n",
       "      <td>07</td>\n",
       "    </tr>\n",
       "    <tr>\n",
       "      <th>3</th>\n",
       "      <td>12/11/2022 9:29:39</td>\n",
       "      <td>02001</td>\n",
       "      <td>CALLE PRINCIPE DE ASTURIAS (POLÍGONO DE ROMICA...</td>\n",
       "      <td>L-D: 06:00-21:30</td>\n",
       "      <td>39,054694</td>\n",
       "      <td>ALBACETE</td>\n",
       "      <td>-1,832000</td>\n",
       "      <td>I</td>\n",
       "      <td>Albacete</td>\n",
       "      <td></td>\n",
       "      <td>...</td>\n",
       "      <td>ALBACETE</td>\n",
       "      <td>OM</td>\n",
       "      <td>BP ROMICA</td>\n",
       "      <td>P</td>\n",
       "      <td>0,0</td>\n",
       "      <td>0,0</td>\n",
       "      <td>12054</td>\n",
       "      <td>54</td>\n",
       "      <td>02</td>\n",
       "      <td>07</td>\n",
       "    </tr>\n",
       "    <tr>\n",
       "      <th>4</th>\n",
       "      <td>12/11/2022 9:29:39</td>\n",
       "      <td>02001</td>\n",
       "      <td>CALLE FEDERICO GARCIA LORCA, 1</td>\n",
       "      <td>L-D: 24H</td>\n",
       "      <td>39,000861</td>\n",
       "      <td>ALBACETE</td>\n",
       "      <td>-1,849833</td>\n",
       "      <td>D</td>\n",
       "      <td>Albacete</td>\n",
       "      <td></td>\n",
       "      <td>...</td>\n",
       "      <td>ALBACETE</td>\n",
       "      <td>dm</td>\n",
       "      <td>PLENOIL</td>\n",
       "      <td>P</td>\n",
       "      <td>0,0</td>\n",
       "      <td>0,0</td>\n",
       "      <td>13933</td>\n",
       "      <td>54</td>\n",
       "      <td>02</td>\n",
       "      <td>07</td>\n",
       "    </tr>\n",
       "    <tr>\n",
       "      <th>...</th>\n",
       "      <td>...</td>\n",
       "      <td>...</td>\n",
       "      <td>...</td>\n",
       "      <td>...</td>\n",
       "      <td>...</td>\n",
       "      <td>...</td>\n",
       "      <td>...</td>\n",
       "      <td>...</td>\n",
       "      <td>...</td>\n",
       "      <td>...</td>\n",
       "      <td>...</td>\n",
       "      <td>...</td>\n",
       "      <td>...</td>\n",
       "      <td>...</td>\n",
       "      <td>...</td>\n",
       "      <td>...</td>\n",
       "      <td>...</td>\n",
       "      <td>...</td>\n",
       "      <td>...</td>\n",
       "      <td>...</td>\n",
       "      <td>...</td>\n",
       "    </tr>\n",
       "    <tr>\n",
       "      <th>11784</th>\n",
       "      <td>12/11/2022 9:29:39</td>\n",
       "      <td>50197</td>\n",
       "      <td>POLIGONO CALLE TURIASO, 31</td>\n",
       "      <td>L-D: 24H</td>\n",
       "      <td>41,645722</td>\n",
       "      <td>ZARAGOZA</td>\n",
       "      <td>-0,974194</td>\n",
       "      <td>D</td>\n",
       "      <td>Zaragoza</td>\n",
       "      <td></td>\n",
       "      <td>...</td>\n",
       "      <td>ZARAGOZA</td>\n",
       "      <td>dm</td>\n",
       "      <td>NOIL</td>\n",
       "      <td>P</td>\n",
       "      <td>0,0</td>\n",
       "      <td>0,0</td>\n",
       "      <td>13917</td>\n",
       "      <td>8108</td>\n",
       "      <td>50</td>\n",
       "      <td>02</td>\n",
       "    </tr>\n",
       "    <tr>\n",
       "      <th>11785</th>\n",
       "      <td>12/11/2022 9:29:39</td>\n",
       "      <td>50197</td>\n",
       "      <td>RONDA FERIA DE MUESTRAS, DE LA, 20</td>\n",
       "      <td>L-D: 24H</td>\n",
       "      <td>41,637944</td>\n",
       "      <td>ZARAGOZA</td>\n",
       "      <td>-0,986389</td>\n",
       "      <td>D</td>\n",
       "      <td>Zaragoza</td>\n",
       "      <td></td>\n",
       "      <td>...</td>\n",
       "      <td>ZARAGOZA</td>\n",
       "      <td>OM</td>\n",
       "      <td>IDS</td>\n",
       "      <td>P</td>\n",
       "      <td>0,0</td>\n",
       "      <td>0,0</td>\n",
       "      <td>12472</td>\n",
       "      <td>8108</td>\n",
       "      <td>50</td>\n",
       "      <td>02</td>\n",
       "    </tr>\n",
       "    <tr>\n",
       "      <th>11786</th>\n",
       "      <td>12/11/2022 9:29:39</td>\n",
       "      <td>50800</td>\n",
       "      <td>CARRETERA N-330A KM. 24,000</td>\n",
       "      <td>L-D: 06:00-22:00</td>\n",
       "      <td>41,857000</td>\n",
       "      <td>ZUERA</td>\n",
       "      <td>-0,794000</td>\n",
       "      <td>D</td>\n",
       "      <td>Zuera</td>\n",
       "      <td></td>\n",
       "      <td>...</td>\n",
       "      <td>ZARAGOZA</td>\n",
       "      <td>OM</td>\n",
       "      <td>REPSOL</td>\n",
       "      <td>P</td>\n",
       "      <td>0,0</td>\n",
       "      <td>0,0</td>\n",
       "      <td>1452</td>\n",
       "      <td>8109</td>\n",
       "      <td>50</td>\n",
       "      <td>02</td>\n",
       "    </tr>\n",
       "    <tr>\n",
       "      <th>11787</th>\n",
       "      <td>12/11/2022 9:29:39</td>\n",
       "      <td>50800</td>\n",
       "      <td>CALLE AUSTRIA, 11,17</td>\n",
       "      <td>L-D: 24H</td>\n",
       "      <td>41,883583</td>\n",
       "      <td>ZUERA</td>\n",
       "      <td>-0,782833</td>\n",
       "      <td>D</td>\n",
       "      <td>Zuera</td>\n",
       "      <td></td>\n",
       "      <td>...</td>\n",
       "      <td>ZARAGOZA</td>\n",
       "      <td>dm</td>\n",
       "      <td>AN ENERGETICOS ZUERA</td>\n",
       "      <td>P</td>\n",
       "      <td>0,0</td>\n",
       "      <td>0,0</td>\n",
       "      <td>9085</td>\n",
       "      <td>8109</td>\n",
       "      <td>50</td>\n",
       "      <td>02</td>\n",
       "    </tr>\n",
       "    <tr>\n",
       "      <th>11788</th>\n",
       "      <td>12/11/2022 9:29:39</td>\n",
       "      <td>50810</td>\n",
       "      <td>CALLE COOPERATIVA, 2</td>\n",
       "      <td>L-D: 24H</td>\n",
       "      <td>41,938750</td>\n",
       "      <td>ONTINAR DE SALZ</td>\n",
       "      <td>-0,757611</td>\n",
       "      <td>D</td>\n",
       "      <td>Zuera</td>\n",
       "      <td></td>\n",
       "      <td>...</td>\n",
       "      <td>ZARAGOZA</td>\n",
       "      <td>dm</td>\n",
       "      <td>COOPERATIVA SAN ISIDRO</td>\n",
       "      <td>P</td>\n",
       "      <td>0,0</td>\n",
       "      <td>0,0</td>\n",
       "      <td>9068</td>\n",
       "      <td>8109</td>\n",
       "      <td>50</td>\n",
       "      <td>02</td>\n",
       "    </tr>\n",
       "  </tbody>\n",
       "</table>\n",
       "<p>11789 rows × 33 columns</p>\n",
       "</div>"
      ],
      "text/plain": [
       "                    Fecha   C.P.  \\\n",
       "0      12/11/2022 9:29:39  02250   \n",
       "1      12/11/2022 9:29:39  02152   \n",
       "2      12/11/2022 9:29:39  02001   \n",
       "3      12/11/2022 9:29:39  02001   \n",
       "4      12/11/2022 9:29:39  02001   \n",
       "...                   ...    ...   \n",
       "11784  12/11/2022 9:29:39  50197   \n",
       "11785  12/11/2022 9:29:39  50197   \n",
       "11786  12/11/2022 9:29:39  50800   \n",
       "11787  12/11/2022 9:29:39  50800   \n",
       "11788  12/11/2022 9:29:39  50810   \n",
       "\n",
       "                                               Dirección  \\\n",
       "0                         AVENIDA CASTILLA LA MANCHA, 26   \n",
       "1                                        CR CM-332, 46,4   \n",
       "2                                AVENIDA 1º DE MAYO, S/N   \n",
       "3      CALLE PRINCIPE DE ASTURIAS (POLÍGONO DE ROMICA...   \n",
       "4                         CALLE FEDERICO GARCIA LORCA, 1   \n",
       "...                                                  ...   \n",
       "11784                         POLIGONO CALLE TURIASO, 31   \n",
       "11785                 RONDA FERIA DE MUESTRAS, DE LA, 20   \n",
       "11786                        CARRETERA N-330A KM. 24,000   \n",
       "11787                               CALLE AUSTRIA, 11,17   \n",
       "11788                               CALLE COOPERATIVA, 2   \n",
       "\n",
       "                                Horario    Latitud        Localidad  \\\n",
       "0                      L-D: 07:00-22:00  39,211417        ABENGIBRE   \n",
       "1                       L-D: 7:00-23:00  39,100389           ALATOZ   \n",
       "2      L-S: 08:00-22:00; D: 09:00-21:00  38,985667         ALBACETE   \n",
       "3                      L-D: 06:00-21:30  39,054694         ALBACETE   \n",
       "4                              L-D: 24H  39,000861         ALBACETE   \n",
       "...                                 ...        ...              ...   \n",
       "11784                          L-D: 24H  41,645722         ZARAGOZA   \n",
       "11785                          L-D: 24H  41,637944         ZARAGOZA   \n",
       "11786                  L-D: 06:00-22:00  41,857000            ZUERA   \n",
       "11787                          L-D: 24H  41,883583            ZUERA   \n",
       "11788                          L-D: 24H  41,938750  ONTINAR DE SALZ   \n",
       "\n",
       "      Longitud (WGS84) Margen  Municipio Precio Biodiesel  ... Provincia  \\\n",
       "0            -1,539167      D  Abengibre                   ...  ALBACETE   \n",
       "1            -1,346083      I     Alatoz                   ...  ALBACETE   \n",
       "2            -1,868500      N   Albacete                   ...  ALBACETE   \n",
       "3            -1,832000      I   Albacete                   ...  ALBACETE   \n",
       "4            -1,849833      D   Albacete                   ...  ALBACETE   \n",
       "...                ...    ...        ...              ...  ...       ...   \n",
       "11784        -0,974194      D   Zaragoza                   ...  ZARAGOZA   \n",
       "11785        -0,986389      D   Zaragoza                   ...  ZARAGOZA   \n",
       "11786        -0,794000      D      Zuera                   ...  ZARAGOZA   \n",
       "11787        -0,782833      D      Zuera                   ...  ZARAGOZA   \n",
       "11788        -0,757611      D      Zuera                   ...  ZARAGOZA   \n",
       "\n",
       "      Remisión                  Rótulo Tipo Venta % BioEtanol  \\\n",
       "0           dm               Nº 10.935          P         0,0   \n",
       "1           dm                  REPSOL          P         0,0   \n",
       "2           dm               CARREFOUR          P         0,0   \n",
       "3           OM               BP ROMICA          P         0,0   \n",
       "4           dm                 PLENOIL          P         0,0   \n",
       "...        ...                     ...        ...         ...   \n",
       "11784       dm                    NOIL          P         0,0   \n",
       "11785       OM                     IDS          P         0,0   \n",
       "11786       OM                  REPSOL          P         0,0   \n",
       "11787       dm    AN ENERGETICOS ZUERA          P         0,0   \n",
       "11788       dm  COOPERATIVA SAN ISIDRO          P         0,0   \n",
       "\n",
       "      % Éster metílico IDEESS IDMunicipio IDProvincia IDCCAA  \n",
       "0                  0,0   4375          52          02     07  \n",
       "1                  0,0   5122          53          02     07  \n",
       "2                  0,0  10765          54          02     07  \n",
       "3                  0,0  12054          54          02     07  \n",
       "4                  0,0  13933          54          02     07  \n",
       "...                ...    ...         ...         ...    ...  \n",
       "11784              0,0  13917        8108          50     02  \n",
       "11785              0,0  12472        8108          50     02  \n",
       "11786              0,0   1452        8109          50     02  \n",
       "11787              0,0   9085        8109          50     02  \n",
       "11788              0,0   9068        8109          50     02  \n",
       "\n",
       "[11789 rows x 33 columns]"
      ]
     },
     "execution_count": 8,
     "metadata": {},
     "output_type": "execute_result"
    }
   ],
   "source": [
    "# Extraigo informacion de columna EESS Precio, utilizando json normalize\n",
    "\n",
    "df_n = pd.concat([df[['Fecha']],pd.json_normalize(df['ListaEESSPrecio'])], axis=1)\n",
    "df_n\n"
   ]
  },
  {
   "cell_type": "code",
   "execution_count": 9,
   "id": "90463003",
   "metadata": {},
   "outputs": [],
   "source": [
    "# Guardamos df original para sucesion de tiempo\n",
    "#df_n.to_csv('2022-11-05x.csv', index=False)"
   ]
  },
  {
   "cell_type": "code",
   "execution_count": 10,
   "id": "2d75fcc5",
   "metadata": {
    "scrolled": true
   },
   "outputs": [
    {
     "name": "stdout",
     "output_type": "stream",
     "text": [
      "<class 'pandas.core.frame.DataFrame'>\n",
      "RangeIndex: 11789 entries, 0 to 11788\n",
      "Data columns (total 33 columns):\n",
      " #   Column                              Non-Null Count  Dtype \n",
      "---  ------                              --------------  ----- \n",
      " 0   Fecha                               11789 non-null  object\n",
      " 1   C.P.                                11789 non-null  object\n",
      " 2   Dirección                           11789 non-null  object\n",
      " 3   Horario                             11789 non-null  object\n",
      " 4   Latitud                             11789 non-null  object\n",
      " 5   Localidad                           11789 non-null  object\n",
      " 6   Longitud (WGS84)                    11789 non-null  object\n",
      " 7   Margen                              11789 non-null  object\n",
      " 8   Municipio                           11789 non-null  object\n",
      " 9   Precio Biodiesel                    11789 non-null  object\n",
      " 10  Precio Bioetanol                    11789 non-null  object\n",
      " 11  Precio Gas Natural Comprimido       11789 non-null  object\n",
      " 12  Precio Gas Natural Licuado          11789 non-null  object\n",
      " 13  Precio Gases licuados del petróleo  11789 non-null  object\n",
      " 14  Precio Gasoleo A                    11789 non-null  object\n",
      " 15  Precio Gasoleo B                    11789 non-null  object\n",
      " 16  Precio Gasoleo Premium              11789 non-null  object\n",
      " 17  Precio Gasolina 95 E10              11789 non-null  object\n",
      " 18  Precio Gasolina 95 E5               11789 non-null  object\n",
      " 19  Precio Gasolina 95 E5 Premium       11789 non-null  object\n",
      " 20  Precio Gasolina 98 E10              11789 non-null  object\n",
      " 21  Precio Gasolina 98 E5               11789 non-null  object\n",
      " 22  Precio Hidrogeno                    11789 non-null  object\n",
      " 23  Provincia                           11789 non-null  object\n",
      " 24  Remisión                            11789 non-null  object\n",
      " 25  Rótulo                              11789 non-null  object\n",
      " 26  Tipo Venta                          11789 non-null  object\n",
      " 27  % BioEtanol                         11789 non-null  object\n",
      " 28  % Éster metílico                    11789 non-null  object\n",
      " 29  IDEESS                              11789 non-null  object\n",
      " 30  IDMunicipio                         11789 non-null  object\n",
      " 31  IDProvincia                         11789 non-null  object\n",
      " 32  IDCCAA                              11789 non-null  object\n",
      "dtypes: object(33)\n",
      "memory usage: 3.0+ MB\n"
     ]
    }
   ],
   "source": [
    "df_n.info()"
   ]
  },
  {
   "cell_type": "markdown",
   "id": "ee524e6e",
   "metadata": {},
   "source": [
    "---\n",
    "Step (3): EDA"
   ]
  },
  {
   "cell_type": "markdown",
   "id": "7027ceb6",
   "metadata": {},
   "source": [
    "                                                    Análisis de Columnas"
   ]
  },
  {
   "cell_type": "markdown",
   "id": "4deaad69",
   "metadata": {},
   "source": [
    "# Fecha"
   ]
  },
  {
   "cell_type": "code",
   "execution_count": 11,
   "id": "dd7735c8",
   "metadata": {},
   "outputs": [
    {
     "name": "stdout",
     "output_type": "stream",
     "text": [
      "<class 'numpy.ndarray'>\n",
      "1\n"
     ]
    },
    {
     "data": {
      "text/plain": [
       "array(['12/11/2022 9:29:39'], dtype=object)"
      ]
     },
     "execution_count": 11,
     "metadata": {},
     "output_type": "execute_result"
    }
   ],
   "source": [
    "# Fecha (solo hay una fecha)\n",
    "Fecha = df_n['Fecha'].unique()\n",
    "print(type(Fecha))\n",
    "print(len(Fecha))\n",
    "Fecha"
   ]
  },
  {
   "cell_type": "code",
   "execution_count": 12,
   "id": "5d054a1e",
   "metadata": {},
   "outputs": [
    {
     "data": {
      "text/plain": [
       "0"
      ]
     },
     "execution_count": 12,
     "metadata": {},
     "output_type": "execute_result"
    }
   ],
   "source": [
    "# Nulos \n",
    "nulos_f = df_n['Fecha'].isnull().sum()\n",
    "nulos_f"
   ]
  },
  {
   "cell_type": "markdown",
   "id": "addc43ab",
   "metadata": {},
   "source": [
    "# Código Postal"
   ]
  },
  {
   "cell_type": "code",
   "execution_count": 13,
   "id": "603eca2d",
   "metadata": {},
   "outputs": [
    {
     "name": "stdout",
     "output_type": "stream",
     "text": [
      "<class 'numpy.ndarray'>\n",
      "4533\n"
     ]
    },
    {
     "data": {
      "text/plain": [
       "array(['02250', '02152', '02001', ..., '50197', '50800', '50810'],\n",
       "      dtype=object)"
      ]
     },
     "execution_count": 13,
     "metadata": {},
     "output_type": "execute_result"
    }
   ],
   "source": [
    "# Columna C.P.\n",
    "cp = df_n['C.P.'].unique()\n",
    "print(type(cp))\n",
    "print(len(cp))\n",
    "cp\n",
    "# En Esaña hay 11752 codigos postales en total"
   ]
  },
  {
   "cell_type": "code",
   "execution_count": 14,
   "id": "de4b57fa",
   "metadata": {},
   "outputs": [
    {
     "data": {
      "text/plain": [
       "0"
      ]
     },
     "execution_count": 14,
     "metadata": {},
     "output_type": "execute_result"
    }
   ],
   "source": [
    "# Nulos \n",
    "nulos_cp = df_n['C.P.'].isnull().sum()\n",
    "nulos_cp"
   ]
  },
  {
   "cell_type": "markdown",
   "id": "cd713bcb",
   "metadata": {},
   "source": [
    "# Dirección"
   ]
  },
  {
   "cell_type": "code",
   "execution_count": 15,
   "id": "3ce78674",
   "metadata": {},
   "outputs": [
    {
     "name": "stdout",
     "output_type": "stream",
     "text": [
      "<class 'numpy.ndarray'>\n",
      "11472\n"
     ]
    },
    {
     "data": {
      "text/plain": [
       "array(['AVENIDA CASTILLA LA MANCHA, 26', 'CR CM-332, 46,4',\n",
       "       'AVENIDA 1º DE MAYO, S/N', ...,\n",
       "       'RONDA FERIA DE MUESTRAS, DE LA, 20',\n",
       "       'CARRETERA N-330A KM. 24,000', 'CALLE AUSTRIA, 11,17'],\n",
       "      dtype=object)"
      ]
     },
     "execution_count": 15,
     "metadata": {},
     "output_type": "execute_result"
    }
   ],
   "source": [
    "# Columna  Dirección\n",
    "direccion = df_n['Dirección'].unique()\n",
    "print(type(direccion))\n",
    "print(len(direccion))\n",
    "direccion\n"
   ]
  },
  {
   "cell_type": "code",
   "execution_count": 16,
   "id": "e1030055",
   "metadata": {},
   "outputs": [
    {
     "data": {
      "text/plain": [
       "0"
      ]
     },
     "execution_count": 16,
     "metadata": {},
     "output_type": "execute_result"
    }
   ],
   "source": [
    "# Nulos dirección\n",
    "nulos_cp = df_n['Dirección'].isnull().sum()\n",
    "nulos_cp"
   ]
  },
  {
   "cell_type": "markdown",
   "id": "b540d156",
   "metadata": {},
   "source": [
    "# Horario"
   ]
  },
  {
   "cell_type": "code",
   "execution_count": 17,
   "id": "d951b048",
   "metadata": {},
   "outputs": [
    {
     "data": {
      "text/plain": [
       "array(['L-D: 07:00-22:00', 'L-D: 7:00-23:00',\n",
       "       'L-S: 08:00-22:00; D: 09:00-21:00', ...,\n",
       "       'L-V: 05:30-22:00; S: 07:00-15:00; D: 08:00-15:00',\n",
       "       'L-V: 08:00-22:30; S: 10:00-22:30',\n",
       "       'L-V: 05:00-22:00; S-D: 08:00-22:00'], dtype=object)"
      ]
     },
     "execution_count": 17,
     "metadata": {},
     "output_type": "execute_result"
    }
   ],
   "source": [
    "# Horario\n",
    "horario = df_n['Horario'].unique()\n",
    "horario"
   ]
  },
  {
   "cell_type": "code",
   "execution_count": 18,
   "id": "6cb34506",
   "metadata": {},
   "outputs": [
    {
     "data": {
      "text/plain": [
       "0"
      ]
     },
     "execution_count": 18,
     "metadata": {},
     "output_type": "execute_result"
    }
   ],
   "source": [
    "# Nulos horario\n",
    "nulos_h = df_n['Horario'].isnull().sum()\n",
    "nulos_h"
   ]
  },
  {
   "cell_type": "markdown",
   "id": "129d07e9",
   "metadata": {},
   "source": [
    "# Latitud"
   ]
  },
  {
   "cell_type": "code",
   "execution_count": 19,
   "id": "aa9399ed",
   "metadata": {},
   "outputs": [
    {
     "name": "stdout",
     "output_type": "stream",
     "text": [
      "11435\n"
     ]
    },
    {
     "data": {
      "text/plain": [
       "array(['39,211417', '39,100389', '38,985667', ..., '41,857000',\n",
       "       '41,883583', '41,938750'], dtype=object)"
      ]
     },
     "execution_count": 19,
     "metadata": {},
     "output_type": "execute_result"
    }
   ],
   "source": [
    "#Latitud (Coincide Latitud y Longitud con las coordenadas en las gasolineras de Google Maps)\n",
    "latitud = df_n['Latitud'].unique()\n",
    "print(len(latitud ))\n",
    "latitud\n"
   ]
  },
  {
   "cell_type": "code",
   "execution_count": 20,
   "id": "b12f974a",
   "metadata": {},
   "outputs": [
    {
     "data": {
      "text/plain": [
       "0"
      ]
     },
     "execution_count": 20,
     "metadata": {},
     "output_type": "execute_result"
    }
   ],
   "source": [
    "# Nulos Latitud\n",
    "nulos_l = df_n['Latitud'].isnull().sum()\n",
    "nulos_l"
   ]
  },
  {
   "cell_type": "markdown",
   "id": "14f71694",
   "metadata": {},
   "source": [
    "# Longitud"
   ]
  },
  {
   "cell_type": "code",
   "execution_count": 21,
   "id": "26f3092e",
   "metadata": {
    "scrolled": true
   },
   "outputs": [
    {
     "name": "stdout",
     "output_type": "stream",
     "text": [
      "11543\n"
     ]
    },
    {
     "data": {
      "text/plain": [
       "array(['-1,539167', '-1,346083', '-1,868500', ..., '-0,794000',\n",
       "       '-0,782833', '-0,757611'], dtype=object)"
      ]
     },
     "execution_count": 21,
     "metadata": {},
     "output_type": "execute_result"
    }
   ],
   "source": [
    "# Longitud (Coincide Latitud y Longitud con las coordenadas en las gasolineras de Google Maps)\n",
    "Longitud = df_n['Longitud (WGS84)'].unique()\n",
    "print(len(Longitud))\n",
    "Longitud\n"
   ]
  },
  {
   "cell_type": "code",
   "execution_count": 22,
   "id": "e018ad91",
   "metadata": {},
   "outputs": [
    {
     "data": {
      "text/plain": [
       "0"
      ]
     },
     "execution_count": 22,
     "metadata": {},
     "output_type": "execute_result"
    }
   ],
   "source": [
    "# Nulos Longitud\n",
    "nulos_long = df_n['Longitud (WGS84)'].isnull().sum()\n",
    "nulos_long"
   ]
  },
  {
   "cell_type": "markdown",
   "id": "baaa7f76",
   "metadata": {},
   "source": [
    "# Localidad"
   ]
  },
  {
   "cell_type": "code",
   "execution_count": 23,
   "id": "05337df3",
   "metadata": {},
   "outputs": [
    {
     "name": "stdout",
     "output_type": "stream",
     "text": [
      "4233\n"
     ]
    },
    {
     "data": {
      "text/plain": [
       "array(['ABENGIBRE', 'ALATOZ', 'ALBACETE', ..., 'VILLARRAPA', 'ZUERA',\n",
       "       'ONTINAR DE SALZ'], dtype=object)"
      ]
     },
     "execution_count": 23,
     "metadata": {},
     "output_type": "execute_result"
    }
   ],
   "source": [
    "#Localidad\n",
    "Localidad = df_n['Localidad'].unique()\n",
    "print(len(Localidad))\n",
    "Localidad"
   ]
  },
  {
   "cell_type": "code",
   "execution_count": 24,
   "id": "46fae344",
   "metadata": {},
   "outputs": [
    {
     "data": {
      "text/plain": [
       "0"
      ]
     },
     "execution_count": 24,
     "metadata": {},
     "output_type": "execute_result"
    }
   ],
   "source": [
    "# Nulos Localidad\n",
    "nulos_loc = df_n['Localidad'].isnull().sum()\n",
    "nulos_loc"
   ]
  },
  {
   "cell_type": "markdown",
   "id": "8fa3baee",
   "metadata": {},
   "source": [
    "# Municipio "
   ]
  },
  {
   "cell_type": "code",
   "execution_count": 25,
   "id": "0e69e607",
   "metadata": {},
   "outputs": [
    {
     "name": "stdout",
     "output_type": "stream",
     "text": [
      "3437\n"
     ]
    },
    {
     "data": {
      "text/plain": [
       "array(['Abengibre', 'Alatoz', 'Albacete', ..., 'Villarroya de la Sierra',\n",
       "       'Zaragoza', 'Zuera'], dtype=object)"
      ]
     },
     "execution_count": 25,
     "metadata": {},
     "output_type": "execute_result"
    }
   ],
   "source": [
    "# Municipio (En España hay 8131 Municipios)\n",
    "Municipio = df_n['Municipio'].unique() \n",
    "print(len(Municipio))\n",
    "Municipio\n",
    "\n"
   ]
  },
  {
   "cell_type": "code",
   "execution_count": 26,
   "id": "223081b3",
   "metadata": {},
   "outputs": [
    {
     "data": {
      "text/plain": [
       "0"
      ]
     },
     "execution_count": 26,
     "metadata": {},
     "output_type": "execute_result"
    }
   ],
   "source": [
    "# Nulos Municipio\n",
    "nulos_loc = df_n['Municipio'].isnull().sum()\n",
    "nulos_loc"
   ]
  },
  {
   "cell_type": "markdown",
   "id": "cc6b303b",
   "metadata": {},
   "source": [
    "# Margen"
   ]
  },
  {
   "cell_type": "code",
   "execution_count": 27,
   "id": "cf022a39",
   "metadata": {},
   "outputs": [
    {
     "name": "stdout",
     "output_type": "stream",
     "text": [
      "3\n"
     ]
    },
    {
     "data": {
      "text/plain": [
       "array(['D', 'I', 'N'], dtype=object)"
      ]
     },
     "execution_count": 27,
     "metadata": {},
     "output_type": "execute_result"
    }
   ],
   "source": [
    "# Margen\n",
    "Margen = df_n['Margen'].unique()\n",
    "print(len(Margen))\n",
    "Margen"
   ]
  },
  {
   "cell_type": "markdown",
   "id": "2d2ea3bb",
   "metadata": {},
   "source": [
    "# Provincia "
   ]
  },
  {
   "cell_type": "code",
   "execution_count": 28,
   "id": "e1fa2d5f",
   "metadata": {},
   "outputs": [
    {
     "name": "stdout",
     "output_type": "stream",
     "text": [
      "52\n"
     ]
    },
    {
     "data": {
      "text/plain": [
       "array(['ALBACETE', 'ALICANTE', 'ALMERÍA', 'ARABA/ÁLAVA', 'ASTURIAS',\n",
       "       'ÁVILA', 'BADAJOZ', 'BALEARS (ILLES)', 'BARCELONA', 'BIZKAIA',\n",
       "       'BURGOS', 'CÁCERES', 'CÁDIZ', 'CANTABRIA', 'CASTELLÓN / CASTELLÓ',\n",
       "       'CEUTA', 'CIUDAD REAL', 'CÓRDOBA', 'CORUÑA (A)', 'CUENCA',\n",
       "       'GIPUZKOA', 'GIRONA', 'GRANADA', 'GUADALAJARA', 'HUELVA', 'HUESCA',\n",
       "       'JAÉN', 'LEÓN', 'LLEIDA', 'LUGO', 'MADRID', 'MÁLAGA', 'MELILLA',\n",
       "       'MURCIA', 'NAVARRA', 'OURENSE', 'PALENCIA', 'PALMAS (LAS)',\n",
       "       'PONTEVEDRA', 'RIOJA (LA)', 'SALAMANCA', 'SANTA CRUZ DE TENERIFE',\n",
       "       'SEGOVIA', 'SEVILLA', 'SORIA', 'TARRAGONA', 'TERUEL', 'TOLEDO',\n",
       "       'VALENCIA / VALÈNCIA', 'VALLADOLID', 'ZAMORA', 'ZARAGOZA'],\n",
       "      dtype=object)"
      ]
     },
     "execution_count": 28,
     "metadata": {},
     "output_type": "execute_result"
    }
   ],
   "source": [
    "# Provincia (Están todas las Provinicas de España en nuestro df)\n",
    "Provincia = df_n['Provincia'].unique()\n",
    "print(len(Provincia))\n",
    "Provincia"
   ]
  },
  {
   "cell_type": "code",
   "execution_count": 29,
   "id": "b27108a2",
   "metadata": {},
   "outputs": [
    {
     "data": {
      "text/plain": [
       "0"
      ]
     },
     "execution_count": 29,
     "metadata": {},
     "output_type": "execute_result"
    }
   ],
   "source": [
    "# Nulos Provincia\n",
    "nulos_prov = df_n['Provincia'].isnull().sum()\n",
    "nulos_prov"
   ]
  },
  {
   "cell_type": "markdown",
   "id": "722a58a1",
   "metadata": {},
   "source": [
    "# Remision"
   ]
  },
  {
   "cell_type": "code",
   "execution_count": 30,
   "id": "78c3b1c9",
   "metadata": {},
   "outputs": [
    {
     "name": "stdout",
     "output_type": "stream",
     "text": [
      "2\n",
      "<class 'numpy.ndarray'>\n"
     ]
    },
    {
     "data": {
      "text/plain": [
       "array(['dm', 'OM'], dtype=object)"
      ]
     },
     "execution_count": 30,
     "metadata": {},
     "output_type": "execute_result"
    }
   ],
   "source": [
    "# Remisión (Sistema de envío de información de precios y de ventas a través de API)\n",
    "Remision = df_n['Remisión'].unique()\n",
    "print(len(Remision))\n",
    "print(type(Remision))\n",
    "Remision"
   ]
  },
  {
   "cell_type": "markdown",
   "id": "cc886f49",
   "metadata": {},
   "source": [
    "# Rótulo"
   ]
  },
  {
   "cell_type": "code",
   "execution_count": 31,
   "id": "8157f57d",
   "metadata": {},
   "outputs": [
    {
     "name": "stdout",
     "output_type": "stream",
     "text": [
      "4013\n",
      "<class 'numpy.ndarray'>\n"
     ]
    },
    {
     "data": {
      "text/plain": [
       "array(['Nº 10.935', 'REPSOL', 'CARREFOUR', ..., 'DAGO',\n",
       "       'COOPERATIVA SAN LAMBERTO', 'AN ENERGETICOS ZUERA'], dtype=object)"
      ]
     },
     "execution_count": 31,
     "metadata": {},
     "output_type": "execute_result"
    }
   ],
   "source": [
    "# Rótulo (En España hay 3952 marcas de Gasolineras en España según datos de Google)\n",
    "Rotulo = df_n['Rótulo'].unique()\n",
    "print(len(Rotulo))\n",
    "print(type(Rotulo))\n",
    "Rotulo\n"
   ]
  },
  {
   "cell_type": "markdown",
   "id": "676ec408",
   "metadata": {},
   "source": [
    "# Tipo de Venta"
   ]
  },
  {
   "cell_type": "code",
   "execution_count": 32,
   "id": "7b2d09eb",
   "metadata": {},
   "outputs": [
    {
     "name": "stdout",
     "output_type": "stream",
     "text": [
      "2\n",
      "<class 'numpy.ndarray'>\n"
     ]
    },
    {
     "data": {
      "text/plain": [
       "array(['P', 'R'], dtype=object)"
      ]
     },
     "execution_count": 32,
     "metadata": {},
     "output_type": "execute_result"
    }
   ],
   "source": [
    "# Tipo Venta\n",
    "tv = df_n['Tipo Venta'].unique()\n",
    "print(len(tv))\n",
    "print(type(tv))\n",
    "tv"
   ]
  },
  {
   "cell_type": "markdown",
   "id": "7aad165f",
   "metadata": {},
   "source": [
    "# Porcentaje de Bioetanol"
   ]
  },
  {
   "cell_type": "code",
   "execution_count": 33,
   "id": "95e6e4b0",
   "metadata": {},
   "outputs": [
    {
     "name": "stdout",
     "output_type": "stream",
     "text": [
      "3\n",
      "<class 'numpy.ndarray'>\n"
     ]
    },
    {
     "data": {
      "text/plain": [
       "array(['0,0', '25,0', '85,0'], dtype=object)"
      ]
     },
     "execution_count": 33,
     "metadata": {},
     "output_type": "execute_result"
    }
   ],
   "source": [
    "# % BioEtanol (La diferencia entre gasolinas E5 o E10 significan el porcentaje de Etanol (5 o 10%))\n",
    "bioetanol = df_n['% BioEtanol'].unique()\n",
    "print(len(bioetanol))\n",
    "print(type(bioetanol))\n",
    "bioetanol"
   ]
  },
  {
   "cell_type": "markdown",
   "id": "54c7afc2",
   "metadata": {},
   "source": [
    "# Porcentaje de Éster Metílico"
   ]
  },
  {
   "cell_type": "code",
   "execution_count": 34,
   "id": "19aff9d9",
   "metadata": {},
   "outputs": [
    {
     "name": "stdout",
     "output_type": "stream",
     "text": [
      "6\n",
      "<class 'numpy.ndarray'>\n"
     ]
    },
    {
     "data": {
      "text/plain": [
       "array(['0,0', '7,0', '12,0', '20,0', '30,0', '10,0'], dtype=object)"
      ]
     },
     "execution_count": 34,
     "metadata": {},
     "output_type": "execute_result"
    }
   ],
   "source": [
    "# % Éster metílico (solo para Biodiesel)\n",
    "em = df_n['% Éster metílico'].unique()\n",
    "print(len(em))\n",
    "print(type(em))\n",
    "em"
   ]
  },
  {
   "cell_type": "markdown",
   "id": "e1bfb0ff",
   "metadata": {},
   "source": [
    "#  IDEESS"
   ]
  },
  {
   "cell_type": "code",
   "execution_count": 35,
   "id": "1bcc7c30",
   "metadata": {},
   "outputs": [
    {
     "name": "stdout",
     "output_type": "stream",
     "text": [
      "11789\n"
     ]
    },
    {
     "data": {
      "text/plain": [
       "array(['4375', '5122', '10765', ..., '1452', '9085', '9068'], dtype=object)"
      ]
     },
     "execution_count": 35,
     "metadata": {},
     "output_type": "execute_result"
    }
   ],
   "source": [
    "# IDEESS (ID Estación de Servicio, los mismos que estaciones (filas))\n",
    "IDEESS = df_n['IDEESS'].unique()\n",
    "print(len(IDEESS))\n",
    "type(IDEESS)\n",
    "IDEESS "
   ]
  },
  {
   "cell_type": "code",
   "execution_count": 36,
   "id": "89c026f2",
   "metadata": {},
   "outputs": [
    {
     "data": {
      "text/plain": [
       "0"
      ]
     },
     "execution_count": 36,
     "metadata": {},
     "output_type": "execute_result"
    }
   ],
   "source": [
    "# Nulos IDEESS\n",
    "nulos_IDEESS = df_n['IDEESS'].isnull().sum()\n",
    "nulos_IDEESS"
   ]
  },
  {
   "cell_type": "markdown",
   "id": "48e885d2",
   "metadata": {},
   "source": [
    "# ID Municipio"
   ]
  },
  {
   "cell_type": "code",
   "execution_count": 37,
   "id": "7dc3d12d",
   "metadata": {},
   "outputs": [
    {
     "name": "stdout",
     "output_type": "stream",
     "text": [
      "3438\n"
     ]
    },
    {
     "data": {
      "text/plain": [
       "array(['52', '53', '54', ..., '8103', '8108', '8109'], dtype=object)"
      ]
     },
     "execution_count": 37,
     "metadata": {},
     "output_type": "execute_result"
    }
   ],
   "source": [
    "# IDMunicipio (un ID más que municipios)\n",
    "idmun = df_n['IDMunicipio'].unique()\n",
    "print(len(idmun))\n",
    "type(idmun)\n",
    "idmun"
   ]
  },
  {
   "cell_type": "code",
   "execution_count": 38,
   "id": "c857c488",
   "metadata": {},
   "outputs": [
    {
     "data": {
      "text/plain": [
       "0"
      ]
     },
     "execution_count": 38,
     "metadata": {},
     "output_type": "execute_result"
    }
   ],
   "source": [
    "# Nulos ID Municipio\n",
    "nulos_IDMunicipio = df_n['IDMunicipio'].isnull().sum()\n",
    "nulos_IDMunicipio"
   ]
  },
  {
   "cell_type": "markdown",
   "id": "6568aaff",
   "metadata": {},
   "source": [
    "# ID Provincia"
   ]
  },
  {
   "cell_type": "code",
   "execution_count": 39,
   "id": "896e7bf1",
   "metadata": {},
   "outputs": [
    {
     "name": "stdout",
     "output_type": "stream",
     "text": [
      "52\n"
     ]
    },
    {
     "data": {
      "text/plain": [
       "array(['02', '03', '04', '01', '33', '05', '06', '07', '08', '48', '09',\n",
       "       '10', '11', '39', '12', '51', '13', '14', '15', '16', '20', '17',\n",
       "       '18', '19', '21', '22', '23', '24', '25', '27', '28', '29', '52',\n",
       "       '30', '31', '32', '34', '35', '36', '26', '37', '38', '40', '41',\n",
       "       '42', '43', '44', '45', '46', '47', '49', '50'], dtype=object)"
      ]
     },
     "execution_count": 39,
     "metadata": {},
     "output_type": "execute_result"
    }
   ],
   "source": [
    "# IDProvincia (Los mismos ID que Provincias)\n",
    "idprov = df_n['IDProvincia'].unique()\n",
    "print(len(idprov))\n",
    "type(idprov)\n",
    "idprov"
   ]
  },
  {
   "cell_type": "code",
   "execution_count": 40,
   "id": "0383161f",
   "metadata": {},
   "outputs": [
    {
     "data": {
      "text/plain": [
       "0"
      ]
     },
     "execution_count": 40,
     "metadata": {},
     "output_type": "execute_result"
    }
   ],
   "source": [
    "nulos_IDProvincia = df_n['IDProvincia'].isnull().sum()\n",
    "nulos_IDProvincia"
   ]
  },
  {
   "cell_type": "markdown",
   "id": "f0203c4c",
   "metadata": {},
   "source": [
    "# ID CCAA"
   ]
  },
  {
   "cell_type": "code",
   "execution_count": 41,
   "id": "cc731089",
   "metadata": {},
   "outputs": [
    {
     "name": "stdout",
     "output_type": "stream",
     "text": [
      "19\n"
     ]
    },
    {
     "data": {
      "text/plain": [
       "array(['07', '10', '01', '16', '03', '08', '11', '04', '09', '06', '18',\n",
       "       '12', '02', '13', '19', '14', '15', '05', '17'], dtype=object)"
      ]
     },
     "execution_count": 41,
     "metadata": {},
     "output_type": "execute_result"
    }
   ],
   "source": [
    "# IDCCAA (ID Comunidades Autónomas, 17 CCAA + Ceuta + Melilla)\n",
    "# IDProvincia (Los mismos ID que Provincias)\n",
    "idccaa = df_n['IDCCAA'].unique()\n",
    "print(len(idccaa))\n",
    "type(idccaa)\n",
    "idccaa"
   ]
  },
  {
   "cell_type": "markdown",
   "id": "4cf497b1",
   "metadata": {},
   "source": [
    "                                                Columnas Numéricas\n",
    "                                                "
   ]
  },
  {
   "cell_type": "markdown",
   "id": "cd72e5ad",
   "metadata": {},
   "source": [
    "# Biodiesel"
   ]
  },
  {
   "cell_type": "code",
   "execution_count": 42,
   "id": "01c87a0e",
   "metadata": {},
   "outputs": [
    {
     "name": "stdout",
     "output_type": "stream",
     "text": [
      "23\n",
      "<class 'numpy.ndarray'>\n"
     ]
    },
    {
     "data": {
      "text/plain": [
       "array(['', '1,968', '2,129', '1,999', '2,039', '1,769', '1,799', '1,739',\n",
       "       '1,839', '1,749', '1,449', '1,928', '2,020', '2,009', '2,019',\n",
       "       '1,869', '2,049', '1,879', '1,989', '1,919', '2,040', '1,699',\n",
       "       '1,966'], dtype=object)"
      ]
     },
     "execution_count": 42,
     "metadata": {},
     "output_type": "execute_result"
    }
   ],
   "source": [
    "Biodiesel = df_n['Precio Biodiesel'].unique()\n",
    "print(len(Biodiesel))\n",
    "print(type(Biodiesel))\n",
    "Biodiesel"
   ]
  },
  {
   "cell_type": "code",
   "execution_count": 43,
   "id": "c1172885",
   "metadata": {},
   "outputs": [],
   "source": [
    "# Convertimos columna categórica a numérica\n",
    "df_n['Precio Biodiesel']=df_n['Precio Biodiesel'].str.replace(',','.')\n",
    "df_n[['Precio Biodiesel']]=df_n[['Precio Biodiesel']].apply(pd.to_numeric)"
   ]
  },
  {
   "cell_type": "code",
   "execution_count": 44,
   "id": "3ba01c1b",
   "metadata": {},
   "outputs": [
    {
     "data": {
      "text/plain": [
       "count    38.000000\n",
       "mean      1.879711\n",
       "std       0.137553\n",
       "min       1.449000\n",
       "25%       1.799000\n",
       "50%       1.839000\n",
       "75%       1.999000\n",
       "max       2.129000\n",
       "Name: Precio Biodiesel, dtype: float64"
      ]
     },
     "execution_count": 44,
     "metadata": {},
     "output_type": "execute_result"
    }
   ],
   "source": [
    "df_n['Precio Biodiesel'].describe()\n"
   ]
  },
  {
   "cell_type": "code",
   "execution_count": 45,
   "id": "0b00d7af",
   "metadata": {},
   "outputs": [
    {
     "data": {
      "text/plain": [
       "11751"
      ]
     },
     "execution_count": 45,
     "metadata": {},
     "output_type": "execute_result"
    }
   ],
   "source": [
    "# Registros sin venta Biodiesel\n",
    "sin_suministro_b = df_n['Precio Biodiesel'].isnull().sum()\n",
    "sin_suministro_b"
   ]
  },
  {
   "cell_type": "markdown",
   "id": "fd2b4066",
   "metadata": {},
   "source": [
    "## Precio Bioetanol "
   ]
  },
  {
   "cell_type": "code",
   "execution_count": 46,
   "id": "edbcaac9",
   "metadata": {},
   "outputs": [
    {
     "name": "stdout",
     "output_type": "stream",
     "text": [
      "6\n",
      "<class 'numpy.ndarray'>\n"
     ]
    },
    {
     "data": {
      "text/plain": [
       "array(['', '2,239', '1,982', '1,487', '1,999', '1,879'], dtype=object)"
      ]
     },
     "execution_count": 46,
     "metadata": {},
     "output_type": "execute_result"
    }
   ],
   "source": [
    "Bioetanol = df_n['Precio Bioetanol'].unique()\n",
    "print(len(Bioetanol))\n",
    "print(type(Bioetanol))\n",
    "Bioetanol"
   ]
  },
  {
   "cell_type": "code",
   "execution_count": 47,
   "id": "3f6be22e",
   "metadata": {},
   "outputs": [],
   "source": [
    "# Convertimos columna categórica a numérica\n",
    "df_n['Precio Bioetanol']=df_n['Precio Bioetanol'].str.replace(',','.')\n",
    "df_n[['Precio Bioetanol']]=df_n[['Precio Bioetanol']].apply(pd.to_numeric)"
   ]
  },
  {
   "cell_type": "code",
   "execution_count": 48,
   "id": "336b94fa",
   "metadata": {},
   "outputs": [
    {
     "data": {
      "text/plain": [
       "count    5.000000\n",
       "mean     1.917200\n",
       "std      0.274307\n",
       "min      1.487000\n",
       "25%      1.879000\n",
       "50%      1.982000\n",
       "75%      1.999000\n",
       "max      2.239000\n",
       "Name: Precio Bioetanol, dtype: float64"
      ]
     },
     "execution_count": 48,
     "metadata": {},
     "output_type": "execute_result"
    }
   ],
   "source": [
    "df_n['Precio Bioetanol'].describe()"
   ]
  },
  {
   "cell_type": "code",
   "execution_count": 49,
   "id": "8614e236",
   "metadata": {},
   "outputs": [
    {
     "data": {
      "text/plain": [
       "11784"
      ]
     },
     "execution_count": 49,
     "metadata": {},
     "output_type": "execute_result"
    }
   ],
   "source": [
    "# Registros sin venta Biodiesel\n",
    "sin_suministro_be = df_n['Precio Bioetanol'].isnull().sum()\n",
    "sin_suministro_be"
   ]
  },
  {
   "cell_type": "markdown",
   "id": "de4c6c51",
   "metadata": {},
   "source": [
    "## Precio Gas Natural Comprimido"
   ]
  },
  {
   "cell_type": "code",
   "execution_count": 50,
   "id": "b2824198",
   "metadata": {},
   "outputs": [
    {
     "name": "stdout",
     "output_type": "stream",
     "text": [
      "29\n",
      "<class 'numpy.ndarray'>\n"
     ]
    },
    {
     "data": {
      "text/plain": [
       "array(['', '1,580', '1,379', '1,485', '1,455', '1,429', '1,468', '1,359',\n",
       "       '1,349', '1,430', '1,389', '1,398', '1,420', '2,990', '1,589',\n",
       "       '1,399', '1,948', '1,483', '1,749', '1,565', '1,306', '1,599',\n",
       "       '1,449', '1,380', '2,350', '3,700', '1,594', '1,369', '1,709'],\n",
       "      dtype=object)"
      ]
     },
     "execution_count": 50,
     "metadata": {},
     "output_type": "execute_result"
    }
   ],
   "source": [
    "Gas_n_c = df_n['Precio Gas Natural Comprimido'].unique()\n",
    "print(len(Gas_n_c))\n",
    "print(type(Gas_n_c))\n",
    "Gas_n_c"
   ]
  },
  {
   "cell_type": "code",
   "execution_count": 51,
   "id": "1ac50945",
   "metadata": {},
   "outputs": [],
   "source": [
    "# Convertimos columna categórica a numérica\n",
    "df_n['Precio Gas Natural Comprimido']=df_n['Precio Gas Natural Comprimido'].str.replace(',','.')\n",
    "df_n[['Precio Gas Natural Comprimido']]=df_n[['Precio Gas Natural Comprimido']].apply(pd.to_numeric)"
   ]
  },
  {
   "cell_type": "code",
   "execution_count": 52,
   "id": "1f65143d",
   "metadata": {},
   "outputs": [
    {
     "data": {
      "text/plain": [
       "count    122.000000\n",
       "mean       1.518361\n",
       "std        0.276375\n",
       "min        1.306000\n",
       "25%        1.379000\n",
       "50%        1.484000\n",
       "75%        1.580000\n",
       "max        3.700000\n",
       "Name: Precio Gas Natural Comprimido, dtype: float64"
      ]
     },
     "execution_count": 52,
     "metadata": {},
     "output_type": "execute_result"
    }
   ],
   "source": [
    "df_n['Precio Gas Natural Comprimido'].describe()"
   ]
  },
  {
   "cell_type": "code",
   "execution_count": 53,
   "id": "e7a5a486",
   "metadata": {},
   "outputs": [
    {
     "data": {
      "text/plain": [
       "11784"
      ]
     },
     "execution_count": 53,
     "metadata": {},
     "output_type": "execute_result"
    }
   ],
   "source": [
    "# Registros sin venta Biodiesel\n",
    "sin_suministro_be = df_n['Precio Bioetanol'].isnull().sum()\n",
    "sin_suministro_be"
   ]
  },
  {
   "cell_type": "markdown",
   "id": "33ddd76e",
   "metadata": {},
   "source": [
    "# Precio Gas Natural Licuado"
   ]
  },
  {
   "cell_type": "code",
   "execution_count": 54,
   "id": "d5685b8d",
   "metadata": {},
   "outputs": [
    {
     "name": "stdout",
     "output_type": "stream",
     "text": [
      "15\n",
      "<class 'numpy.ndarray'>\n"
     ]
    },
    {
     "data": {
      "text/plain": [
       "array(['', '1,390', '1,299', '1,398', '1,329', '1,269', '1,249', '2,990',\n",
       "       '2,506', '1,389', '1,903', '1,449', '3,650', '1,489', '1,319'],\n",
       "      dtype=object)"
      ]
     },
     "execution_count": 54,
     "metadata": {},
     "output_type": "execute_result"
    }
   ],
   "source": [
    "Gas_nat_lic = df_n['Precio Gas Natural Licuado'].unique()\n",
    "print(len(Gas_nat_lic))\n",
    "print(type(Gas_nat_lic))\n",
    "Gas_nat_lic"
   ]
  },
  {
   "cell_type": "code",
   "execution_count": 55,
   "id": "90f17335",
   "metadata": {},
   "outputs": [],
   "source": [
    "# Convertimos columna categórica a numérica, primero tenemos que sustituir , por .\n",
    "df_n['Precio Gas Natural Licuado']=df_n['Precio Gas Natural Licuado'].str.replace(',','.')\n",
    "df_n[['Precio Gas Natural Licuado']]=df_n[['Precio Gas Natural Licuado']].apply(pd.to_numeric)"
   ]
  },
  {
   "cell_type": "code",
   "execution_count": 56,
   "id": "7b35df2f",
   "metadata": {},
   "outputs": [
    {
     "data": {
      "text/plain": [
       "count    82.000000\n",
       "mean      1.407402\n",
       "std       0.343557\n",
       "min       1.249000\n",
       "25%       1.299000\n",
       "50%       1.309000\n",
       "75%       1.396000\n",
       "max       3.650000\n",
       "Name: Precio Gas Natural Licuado, dtype: float64"
      ]
     },
     "execution_count": 56,
     "metadata": {},
     "output_type": "execute_result"
    }
   ],
   "source": [
    "df_n['Precio Gas Natural Licuado'].describe()"
   ]
  },
  {
   "cell_type": "code",
   "execution_count": 57,
   "id": "0eca734e",
   "metadata": {},
   "outputs": [
    {
     "data": {
      "text/plain": [
       "11707"
      ]
     },
     "execution_count": 57,
     "metadata": {},
     "output_type": "execute_result"
    }
   ],
   "source": [
    "# Registros sin venta Gas NAtural Licuado\n",
    "sin_suministro_gnl = df_n['Precio Gas Natural Licuado'].isnull().sum()\n",
    "sin_suministro_gnl"
   ]
  },
  {
   "cell_type": "markdown",
   "id": "ba2199ad",
   "metadata": {},
   "source": [
    "# Precio Gases licuados del petróleo"
   ]
  },
  {
   "cell_type": "code",
   "execution_count": 58,
   "id": "bdff2425",
   "metadata": {},
   "outputs": [
    {
     "name": "stdout",
     "output_type": "stream",
     "text": [
      "122\n",
      "<class 'numpy.ndarray'>\n"
     ]
    },
    {
     "data": {
      "text/plain": [
       "array(['', '1,029', '1,089', '0,898', '1,039', '1,019', '1,059', '1,069',\n",
       "       '0,969', '0,968', '1,025', '1,099', '1,026', '1,139', '0,959',\n",
       "       '0,830', '1,023', '1,045', '0,930', '1,077', '1,088', '1,038',\n",
       "       '1,079', '0,939', '0,910', '1,052', '1,049', '1,009', '1,200',\n",
       "       '1,119', '0,999', '1,179', '0,980', '1,189', '0,859', '1,134',\n",
       "       '1,095', '1,159', '1,169', '0,909', '0,899', '0,885', '1,098',\n",
       "       '0,950', '0,886', '1,114', '1,017', '1,060', '1,037', '1,090',\n",
       "       '1,149', '1,008', '0,979', '1,028', '0,865', '0,639', '1,129',\n",
       "       '0,929', '1,109', '1,148', '0,805', '1,022', '0,998', '0,879',\n",
       "       '0,768', '1,014', '0,990', '0,989', '0,997', '0,962', '0,965',\n",
       "       '1,150', '0,949', '0,889', '1,140', '1,220', '1,260', '1,250',\n",
       "       '1,160', '0,759', '1,100', '1,158', '0,769', '0,951', '1,115',\n",
       "       '0,919', '1,020', '0,977', '1,106', '0,908', '1,048', '1,130',\n",
       "       '1,018', '1,199', '1,185', '1,155', '0,799', '0,801', '0,798',\n",
       "       '0,789', '0,839', '0,800', '0,818', '0,809', '0,829', '0,958',\n",
       "       '1,080', '1,000', '0,870', '0,967', '0,974', '0,944', '0,905',\n",
       "       '0,925', '0,995', '0,915', '0,850', '0,790', '0,779', '1,175',\n",
       "       '1,043', '0,849'], dtype=object)"
      ]
     },
     "execution_count": 58,
     "metadata": {},
     "output_type": "execute_result"
    }
   ],
   "source": [
    "Gas_nat_lic_pet = df_n['Precio Gases licuados del petróleo'].unique()\n",
    "print(len(Gas_nat_lic_pet))\n",
    "print(type(Gas_nat_lic_pet))\n",
    "Gas_nat_lic_pet"
   ]
  },
  {
   "cell_type": "code",
   "execution_count": 59,
   "id": "94e05d01",
   "metadata": {},
   "outputs": [],
   "source": [
    "# Convertimos columna categórica a numérica\n",
    "df_n['Precio Gases licuados del petróleo']=df_n['Precio Gases licuados del petróleo'].str.replace(',','.')\n",
    "df_n[['Precio Gases licuados del petróleo']]=df_n[['Precio Gases licuados del petróleo']].apply(pd.to_numeric)"
   ]
  },
  {
   "cell_type": "code",
   "execution_count": 60,
   "id": "43ae8314",
   "metadata": {},
   "outputs": [
    {
     "data": {
      "text/plain": [
       "count    850.000000\n",
       "mean       1.035261\n",
       "std        0.081083\n",
       "min        0.639000\n",
       "25%        1.009000\n",
       "50%        1.049000\n",
       "75%        1.079000\n",
       "max        1.260000\n",
       "Name: Precio Gases licuados del petróleo, dtype: float64"
      ]
     },
     "execution_count": 60,
     "metadata": {},
     "output_type": "execute_result"
    }
   ],
   "source": [
    "df_n['Precio Gases licuados del petróleo'].describe()"
   ]
  },
  {
   "cell_type": "code",
   "execution_count": 61,
   "id": "f39d6004",
   "metadata": {},
   "outputs": [
    {
     "data": {
      "text/plain": [
       "10939"
      ]
     },
     "execution_count": 61,
     "metadata": {},
     "output_type": "execute_result"
    }
   ],
   "source": [
    "# Registros sin venta Gas NAtural Licuado del Petróleo\n",
    "sin_suministro_gnlp = df_n['Precio Gases licuados del petróleo'].isnull().sum()\n",
    "sin_suministro_gnlp"
   ]
  },
  {
   "cell_type": "code",
   "execution_count": 62,
   "id": "0a616a04",
   "metadata": {},
   "outputs": [
    {
     "data": {
      "text/plain": [
       "0"
      ]
     },
     "execution_count": 62,
     "metadata": {},
     "output_type": "execute_result"
    }
   ],
   "source": [
    "ceros_sin_suministro_gnlp = (df_n['Precio Gases licuados del petróleo'] == 0).sum()\n",
    "ceros_sin_suministro_gnlp"
   ]
  },
  {
   "cell_type": "markdown",
   "id": "579f7966",
   "metadata": {},
   "source": [
    "# Gasoleo A"
   ]
  },
  {
   "cell_type": "code",
   "execution_count": 63,
   "id": "b84c8a71",
   "metadata": {},
   "outputs": [
    {
     "name": "stdout",
     "output_type": "stream",
     "text": [
      "425\n",
      "<class 'numpy.ndarray'>\n"
     ]
    },
    {
     "data": {
      "text/plain": [
       "array(['1,899', '2,040', '1,999', '1,949', '1,877', '2,000', '1,969',\n",
       "       '1,878', '1,959', '1,879', '1,979', '1,919', '1,859', '1,989',\n",
       "       '1,939', '1,950', '', '1,929', '2,259', '1,850', '1,849', '1,955',\n",
       "       '1,965', '2,019', '1,909', '1,870', '1,995', '1,904', '1,800',\n",
       "       '1,830', '1,889', '2,009', '1,869', '1,885', '1,846', '1,987',\n",
       "       '2,029', '1,814', '1,890', '1,860', '1,820', '1,740', '2,049',\n",
       "       '1,809', '1,875', '1,819', '1,856', '1,897', '1,779', '1,858',\n",
       "       '1,924', '1,935', '1,791', '1,847', '1,963', '1,985', '1,772',\n",
       "       '1,769', '1,962', '1,898', '1,997', '1,990', '1,988', '1,972',\n",
       "       '2,018', '1,887', '1,888', '1,867', '1,839', '1,961', '1,829',\n",
       "       '1,951', '1,974', '1,940', '1,918', '1,944', '1,902', '1,984',\n",
       "       '1,799', '1,975', '1,815', '1,818', '1,789', '1,894', '1,930',\n",
       "       '1,845', '1,983', '1,934', '1,936', '1,970', '1,857', '1,917',\n",
       "       '1,968', '2,059', '1,854', '1,828', '1,805', '1,749', '1,817',\n",
       "       '1,837', '1,767', '2,035', '1,945', '1,868', '1,785', '1,920',\n",
       "       '1,964', '1,882', '1,915', '1,912', '1,966', '1,844', '1,810',\n",
       "       '1,895', '2,017', '1,855', '1,851', '1,747', '1,790', '1,734',\n",
       "       '1,739', '1,835', '1,812', '2,014', '1,880', '1,827', '1,787',\n",
       "       '1,938', '1,832', '2,005', '1,957', '1,825', '2,079', '2,025',\n",
       "       '1,716', '2,069', '2,039', '1,994', '2,028', '1,874', '1,914',\n",
       "       '1,941', '1,884', '1,892', '1,960', '1,932', '1,998', '1,900',\n",
       "       '2,058', '2,010', '2,015', '2,055', '2,070', '1,910', '1,943',\n",
       "       '1,759', '1,925', '2,099', '1,852', '1,794', '2,109', '1,871',\n",
       "       '1,931', '1,788', '1,866', '1,755', '1,797', '1,991', '2,067',\n",
       "       '2,129', '2,089', '2,004', '1,954', '1,958', '1,893', '2,003',\n",
       "       '2,024', '2,057', '1,967', '1,773', '2,012', '1,927', '1,836',\n",
       "       '2,027', '1,777', '1,937', '1,807', '1,775', '1,848', '1,838',\n",
       "       '1,798', '1,768', '1,980', '1,804', '1,978', '1,776', '1,774',\n",
       "       '1,876', '1,906', '1,864', '1,795', '1,784', '1,763', '1,778',\n",
       "       '2,249', '1,908', '1,760', '1,977', '2,139', '2,016', '1,842',\n",
       "       '1,780', '1,948', '1,923', '1,833', '1,905', '1,764', '1,873',\n",
       "       '1,971', '1,946', '1,896', '2,030', '1,956', '1,901', '1,808',\n",
       "       '1,771', '1,793', '1,529', '1,548', '1,535', '1,796', '1,766',\n",
       "       '1,757', '1,840', '1,459', '1,475', '1,928', '1,865', '1,765',\n",
       "       '1,826', '1,726', '1,783', '1,824', '1,679', '1,717', '1,737',\n",
       "       '1,792', '1,735', '1,781', '1,770', '2,048', '2,001', '2,020',\n",
       "       '2,045', '2,068', '1,942', '1,993', '1,981', '1,881', '1,786',\n",
       "       '2,085', '1,921', '1,843', '2,088', '1,834', '2,309', '1,822',\n",
       "       '1,831', '1,751', '2,022', '1,802', '1,750', '1,657', '2,038',\n",
       "       '2,200', '2,043', '1,947', '2,090', '1,916', '1,696', '1,756',\n",
       "       '1,973', '1,811', '1,700', '1,500', '1,891', '1,903', '1,782',\n",
       "       '1,952', '1,986', '2,052', '2,211', '2,008', '2,199', '2,032',\n",
       "       '1,911', '1,862', '1,730', '1,853', '1,729', '1,439', '1,454',\n",
       "       '1,455', '1,495', '1,744', '1,550', '1,699', '1,731', '1,446',\n",
       "       '2,111', '1,719', '1,886', '2,181', '2,050', '2,037', '1,821',\n",
       "       '1,863', '1,519', '1,499', '1,508', '1,374', '1,479', '1,469',\n",
       "       '1,399', '1,336', '1,489', '1,498', '1,389', '1,335', '1,539',\n",
       "       '1,579', '1,559', '1,549', '1,534', '1,525', '1,497', '1,504',\n",
       "       '1,515', '1,524', '1,514', '1,513', '1,485', '1,468', '1,417',\n",
       "       '1,421', '1,409', '1,527', '1,493', '1,487', '1,573', '1,585',\n",
       "       '1,599', '1,754', '1,593', '1,554', '1,509', '1,505', '1,532',\n",
       "       '1,544', '1,369', '1,494', '1,397', '1,545', '1,503', '1,520',\n",
       "       '1,483', '1,526', '1,419', '1,451', '1,386', '1,517', '1,490',\n",
       "       '1,588', '1,444', '1,609', '1,449', '1,933', '2,006', '1,907',\n",
       "       '1,926', '1,707', '1,434', '1,518', '1,562', '1,658', '1,528',\n",
       "       '1,484', '1,496', '1,491', '1,480', '1,407', '1,758', '1,695',\n",
       "       '1,567', '1,678', '1,510', '1,429', '1,425', '1,471', '1,620',\n",
       "       '1,349', '1,319', '1,512', '1,473', '1,558', '1,530', '1,580',\n",
       "       '1,416', '1,474', '1,478', '1,415', '1,424', '1,762', '1,996',\n",
       "       '2,044', '1,752', '2,034', '1,803', '1,813', '1,841', '1,861',\n",
       "       '2,119', '2,150', '2,101', '1,922'], dtype=object)"
      ]
     },
     "execution_count": 63,
     "metadata": {},
     "output_type": "execute_result"
    }
   ],
   "source": [
    "Gasoleo_A = df_n['Precio Gasoleo A'].unique()\n",
    "print(len(Gasoleo_A))\n",
    "print(type(Gasoleo_A))\n",
    "Gasoleo_A"
   ]
  },
  {
   "cell_type": "code",
   "execution_count": 64,
   "id": "03079146",
   "metadata": {},
   "outputs": [],
   "source": [
    "# Convertimos columna categórica a numérica, primero tenemos que sustituir , por .\n",
    "df_n['Precio Gasoleo A']=df_n['Precio Gasoleo A'].str.replace(',','.')\n",
    "df_n[['Precio Gasoleo A']]=df_n[['Precio Gasoleo A']].apply(pd.to_numeric)"
   ]
  },
  {
   "cell_type": "code",
   "execution_count": 65,
   "id": "b2093cd9",
   "metadata": {},
   "outputs": [
    {
     "data": {
      "text/plain": [
       "count    11445.000000\n",
       "mean         1.918386\n",
       "std          0.108217\n",
       "min          1.319000\n",
       "25%          1.887000\n",
       "50%          1.949000\n",
       "75%          1.979000\n",
       "max          2.309000\n",
       "Name: Precio Gasoleo A, dtype: float64"
      ]
     },
     "execution_count": 65,
     "metadata": {},
     "output_type": "execute_result"
    }
   ],
   "source": [
    "df_n['Precio Gasoleo A'].describe()\n"
   ]
  },
  {
   "cell_type": "code",
   "execution_count": 66,
   "id": "a0c57df7",
   "metadata": {},
   "outputs": [
    {
     "data": {
      "text/plain": [
       "344"
      ]
     },
     "execution_count": 66,
     "metadata": {},
     "output_type": "execute_result"
    }
   ],
   "source": [
    "# Registros sin venta Gasoleo A\n",
    "sin_suministro_gA = df_n['Precio Gasoleo A'].isnull().sum()\n",
    "sin_suministro_gA"
   ]
  },
  {
   "cell_type": "code",
   "execution_count": 67,
   "id": "2fd05b04",
   "metadata": {},
   "outputs": [
    {
     "data": {
      "text/plain": [
       "0"
      ]
     },
     "execution_count": 67,
     "metadata": {},
     "output_type": "execute_result"
    }
   ],
   "source": [
    "ceros_sin_suministro_gA = (df_n['Precio Gasoleo A'] == 0).sum()\n",
    "ceros_sin_suministro_gA"
   ]
  },
  {
   "cell_type": "markdown",
   "id": "6b8fd3b9",
   "metadata": {},
   "source": [
    "# Gasoleo B"
   ]
  },
  {
   "cell_type": "code",
   "execution_count": 68,
   "id": "90c596c9",
   "metadata": {},
   "outputs": [
    {
     "name": "stdout",
     "output_type": "stream",
     "text": [
      "425\n",
      "<class 'numpy.ndarray'>\n"
     ]
    },
    {
     "data": {
      "text/plain": [
       "array(['1,390', '', '1,573', '1,450', '1,440', '1,639', '1,539', '1,519',\n",
       "       '1,446', '1,690', '1,438', '1,587', '1,499', '1,470', '1,609',\n",
       "       '1,550', '1,524', '1,530', '1,529', '1,428', '1,400', '1,489',\n",
       "       '1,699', '1,602', '1,617', '1,404', '1,540', '1,619', '1,449',\n",
       "       '1,377', '1,490', '1,405', '1,612', '1,430', '1,679', '1,629',\n",
       "       '1,359', '1,370', '1,589', '1,574', '1,457', '1,267', '1,443',\n",
       "       '1,551', '1,420', '1,569', '1,599', '1,719', '1,659', '1,651',\n",
       "       '1,579', '1,669', '1,559', '1,076', '1,689', '1,634', '1,600',\n",
       "       '1,749', '1,595', '1,562', '1,779', '1,627', '1,674', '1,628',\n",
       "       '1,560', '1,549', '1,580', '1,670', '1,649', '1,491', '1,509',\n",
       "       '1,500', '1,495', '1,556', '1,585', '1,473', '1,363', '1,506',\n",
       "       '1,535', '1,488', '1,536', '1,522', '1,572', '1,567', '1,685',\n",
       "       '1,537', '1,479', '1,554', '1,625', '1,805', '1,577', '1,759',\n",
       "       '1,729', '1,686', '1,454', '1,677', '1,658', '1,590', '1,594',\n",
       "       '1,611', '1,652', '1,544', '1,557', '1,621', '1,750', '1,626',\n",
       "       '1,553', '1,700', '1,644', '1,565', '1,525', '1,650', '1,592',\n",
       "       '1,809', '1,469', '1,596', '1,427', '1,769', '1,697', '1,485',\n",
       "       '1,444', '1,358', '1,641', '1,294', '1,387', '1,379', '1,448',\n",
       "       '1,555', '1,512', '1,583', '1,460', '1,528', '1,510', '1,459',\n",
       "       '1,435', '1,401', '1,630', '1,393', '1,455', '1,437', '1,109',\n",
       "       '1,434', '1,349', '1,507', '1,492', '1,481', '1,386', '1,570',\n",
       "       '1,475', '1,447', '1,480', '1,421', '1,381', '1,515', '1,638',\n",
       "       '1,315', '1,409', '1,545', '1,399', '1,471', '1,752', '1,949',\n",
       "       '1,702', '1,547', '1,657', '1,678', '1,643', '1,597', '1,520',\n",
       "       '1,663', '1,624', '1,610', '1,541', '1,709', '1,608', '1,568',\n",
       "       '1,662', '1,342', '1,739', '1,564', '1,534', '1,333', '1,605',\n",
       "       '1,424', '1,429', '1,009', '1,552', '1,668', '1,425', '1,566',\n",
       "       '1,412', '1,496', '1,603', '1,468', '1,558', '1,563', '1,620',\n",
       "       '1,533', '1,778', '1,538', '1,543', '1,598', '1,498', '1,511',\n",
       "       '1,578', '1,365', '1,410', '1,465', '1,396', '1,415', '1,395',\n",
       "       '1,397', '1,423', '1,527', '1,531', '1,398', '1,360', '1,299',\n",
       "       '1,483', '1,518', '1,640', '1,383', '1,419', '1,422', '1,548',\n",
       "       '1,588', '1,330', '1,542', '1,417', '1,378', '1,601', '1,546',\n",
       "       '1,380', '1,353', '1,698', '1,681', '1,584', '1,710', '1,680',\n",
       "       '1,618', '1,613', '1,695', '1,439', '1,436', '1,300', '1,452',\n",
       "       '1,466', '1,493', '1,426', '1,467', '1,464', '1,348', '1,683',\n",
       "       '1,704', '1,606', '1,671', '1,693', '1,615', '1,514', '1,694',\n",
       "       '1,673', '1,890', '1,711', '1,623', '1,385', '1,799', '1,433',\n",
       "       '1,561', '1,604', '1,442', '1,367', '1,445', '1,582', '1,789',\n",
       "       '1,521', '1,355', '1,900', '1,375', '1,337', '1,482', '1,456',\n",
       "       '1,389', '1,760', '1,384', '1,508', '1,513', '1,505', '1,477',\n",
       "       '1,432', '1,622', '1,214', '1,532', '1,586', '1,340', '1,647',\n",
       "       '1,684', '1,350', '1,463', '1,593', '1,517', '1,484', '1,413',\n",
       "       '1,676', '1,607', '1,632', '1,170', '1,245', '1,418', '1,391',\n",
       "       '1,653', '1,431', '1,361', '1,487', '1,329', '1,320', '1,614',\n",
       "       '1,720', '1,571', '1,326', '1,406', '1,362', '1,523', '1,416',\n",
       "       '1,313', '1,382', '1,371', '1,486', '1,616', '1,646', '1,636',\n",
       "       '1,839', '1,344', '1,441', '1,631', '1,289', '1,654', '1,730',\n",
       "       '1,526', '1,660', '1,504', '1,581', '1,755', '1,497', '1,575',\n",
       "       '1,829', '1,766', '1,635', '1,637', '1,648', '1,633', '1,352',\n",
       "       '1,462', '1,328', '1,503', '1,130', '1,476', '1,494', '1,369',\n",
       "       '1,269', '1,451', '1,262', '1,501', '1,286', '1,461', '1,591',\n",
       "       '1,516', '1,411', '1,407', '1,253', '1,339', '1,388', '1,368',\n",
       "       '1,402', '1,688', '1,296', '1,672', '1,642', '1,290', '1,414',\n",
       "       '1,474', '1,280', '1,403', '1,458', '1,345'], dtype=object)"
      ]
     },
     "execution_count": 68,
     "metadata": {},
     "output_type": "execute_result"
    }
   ],
   "source": [
    "Gasoleo_B = df_n['Precio Gasoleo B'].unique()\n",
    "print(len(Gasoleo_A))\n",
    "print(type(Gasoleo_A))\n",
    "Gasoleo_B"
   ]
  },
  {
   "cell_type": "code",
   "execution_count": 69,
   "id": "b9ff1285",
   "metadata": {},
   "outputs": [],
   "source": [
    "# Convertimos columna categórica a numérica, primero tenemos que sustituir , por .\n",
    "df_n['Precio Gasoleo B']=df_n['Precio Gasoleo B'].str.replace(',','.')\n",
    "df_n[['Precio Gasoleo B']]=df_n[['Precio Gasoleo B']].apply(pd.to_numeric)"
   ]
  },
  {
   "cell_type": "code",
   "execution_count": 70,
   "id": "40bfd63c",
   "metadata": {},
   "outputs": [
    {
     "data": {
      "text/plain": [
       "count    3006.000000\n",
       "mean        1.541570\n",
       "std         0.099172\n",
       "min         1.009000\n",
       "25%         1.469000\n",
       "50%         1.549000\n",
       "75%         1.609000\n",
       "max         1.949000\n",
       "Name: Precio Gasoleo B, dtype: float64"
      ]
     },
     "execution_count": 70,
     "metadata": {},
     "output_type": "execute_result"
    }
   ],
   "source": [
    "df_n['Precio Gasoleo B'].describe()\n"
   ]
  },
  {
   "cell_type": "code",
   "execution_count": 71,
   "id": "ee5cfffa",
   "metadata": {},
   "outputs": [
    {
     "data": {
      "text/plain": [
       "8783"
      ]
     },
     "execution_count": 71,
     "metadata": {},
     "output_type": "execute_result"
    }
   ],
   "source": [
    "# Registros sin venta Gasoleo B\n",
    "sin_suministro_gB = df_n['Precio Gasoleo B'].isnull().sum()\n",
    "sin_suministro_gB"
   ]
  },
  {
   "cell_type": "code",
   "execution_count": 72,
   "id": "1654e9f7",
   "metadata": {},
   "outputs": [
    {
     "data": {
      "text/plain": [
       "0"
      ]
     },
     "execution_count": 72,
     "metadata": {},
     "output_type": "execute_result"
    }
   ],
   "source": [
    "ceros_sin_suministro_gB = (df_n['Precio Gasoleo B'] == 0).sum()\n",
    "ceros_sin_suministro_gB"
   ]
  },
  {
   "cell_type": "markdown",
   "id": "24d3a7ce",
   "metadata": {},
   "source": [
    "# Precio Gasoleo Premium "
   ]
  },
  {
   "cell_type": "code",
   "execution_count": 73,
   "id": "e25d3aaf",
   "metadata": {},
   "outputs": [
    {
     "name": "stdout",
     "output_type": "stream",
     "text": [
      "386\n",
      "<class 'numpy.ndarray'>\n"
     ]
    },
    {
     "data": {
      "text/plain": [
       "array(['', '2,300', '2,039', '2,029', '2,089', '1,948', '2,019', '2,099',\n",
       "       '1,959', '2,015', '2,069', '1,929', '2,049', '2,009', '2,059',\n",
       "       '1,989', '1,999', '1,909', '1,966', '2,035', '2,065', '2,079',\n",
       "       '2,109', '1,955', '1,889', '2,014', '2,023', '2,075', '2,095',\n",
       "       '1,887', '2,028', '2,063', '2,057', '2,045', '2,229', '1,949',\n",
       "       '1,979', '1,939', '1,899', '2,044', '2,119', '1,981', '2,054',\n",
       "       '1,973', '1,815', '1,974', '2,067', '1,996', '2,031', '2,010',\n",
       "       '2,074', '2,004', '1,988', '2,085', '2,138', '2,125', '1,854',\n",
       "       '1,829', '2,999', '2,024', '2,038', '2,055', '1,919', '1,969',\n",
       "       '1,855', '1,935', '1,947', '1,957', '2,036', '2,025', '2,129',\n",
       "       '1,828', '1,897', '1,879', '1,985', '2,048', '1,884', '2,083',\n",
       "       '1,890', '1,852', '1,832', '1,843', '1,840', '2,084', '1,903',\n",
       "       '1,862', '1,841', '2,092', '1,995', '2,020', '2,070', '2,034',\n",
       "       '1,895', '2,205', '2,115', '2,165', '2,104', '2,139', '2,098',\n",
       "       '2,005', '1,994', '1,839', '1,928', '2,051', '1,984', '1,938',\n",
       "       '1,859', '1,875', '1,898', '1,907', '1,950', '1,990', '2,012',\n",
       "       '2,149', '2,097', '1,953', '2,061', '2,169', '2,130', '2,090',\n",
       "       '2,030', '1,799', '1,874', '1,975', '2,091', '1,753', '2,041',\n",
       "       '1,817', '2,159', '2,245', '2,126', '1,869', '2,066', '2,118',\n",
       "       '2,033', '2,082', '2,128', '2,127', '2,137', '2,105', '1,917',\n",
       "       '1,908', '2,017', '1,964', '1,924', '2,007', '2,060', '2,027',\n",
       "       '1,868', '2,080', '2,064', '2,026', '2,021', '2,011', '1,810',\n",
       "       '1,865', '1,968', '1,956', '1,946', '1,857', '1,827', '1,876',\n",
       "       '1,847', '1,795', '1,849', '1,844', '1,991', '1,858', '2,100',\n",
       "       '1,848', '2,108', '1,958', '2,047', '2,081', '1,910', '2,199',\n",
       "       '1,920', '2,068', '2,077', '2,000', '1,822', '1,997', '1,877',\n",
       "       '1,809', '1,951', '2,018', '2,101', '2,040', '1,936', '2,058',\n",
       "       '2,078', '1,569', '1,575', '1,980', '1,934', '1,870', '1,945',\n",
       "       '1,998', '1,943', '1,837', '1,867', '2,088', '2,071', '2,037',\n",
       "       '2,107', '1,978', '2,134', '2,072', '1,954', '2,148', '2,151',\n",
       "       '2,050', '2,022', '1,922', '1,962', '1,944', '2,187', '1,894',\n",
       "       '1,925', '1,819', '2,120', '1,982', '1,970', '1,904', '2,008',\n",
       "       '1,965', '2,043', '2,209', '1,927', '1,914', '1,905', '1,790',\n",
       "       '2,056', '1,937', '2,132', '2,131', '1,769', '2,189', '1,892',\n",
       "       '2,073', '1,915', '2,112', '1,779', '1,851', '1,941', '1,835',\n",
       "       '2,006', '1,489', '1,494', '1,505', '1,545', '1,878', '1,838',\n",
       "       '2,032', '1,830', '1,930', '1,896', '1,818', '2,003', '2,301',\n",
       "       '2,114', '1,987', '1,599', '1,639', '1,604', '1,669', '1,619',\n",
       "       '1,499', '1,629', '1,535', '1,605', '1,649', '1,729', '1,699',\n",
       "       '1,655', '1,654', '1,637', '1,609', '1,635', '1,614', '1,659',\n",
       "       '1,618', '1,601', '1,625', '1,534', '1,579', '1,565', '1,709',\n",
       "       '1,719', '1,738', '1,624', '1,642', '1,630', '1,660', '1,650',\n",
       "       '1,549', '1,689', '1,622', '1,529', '1,615', '1,644', '1,664',\n",
       "       '1,623', '1,636', '1,469', '1,498', '1,628', '1,645', '1,525',\n",
       "       '1,674', '1,524', '1,554', '1,634', '1,490', '1,577', '1,585',\n",
       "       '1,616', '1,590', '1,688', '1,710', '1,620', '2,086', '1,961',\n",
       "       '1,643', '1,638', '1,631', '1,626', '1,550', '1,574', '1,646',\n",
       "       '1,803', '1,607', '1,657', '1,547', '1,725', '1,564', '1,519',\n",
       "       '1,539', '1,589', '1,802', '1,573', '1,594', '1,595', '1,640',\n",
       "       '1,740', '1,666', '1,613', '1,544', '1,584', '1,503', '1,588',\n",
       "       '2,178', '2,135', '2,106', '1,789', '2,116', '2,110', '1,836',\n",
       "       '1,933', '1,850', '1,880', '1,921', '1,926', '2,087', '1,960',\n",
       "       '1,804', '1,864', '2,117', '1,977', '1,967', '2,124', '2,185',\n",
       "       '1,916', '1,783', '1,866', '1,900', '1,913', '2,122', '1,808',\n",
       "       '1,942', '2,046', '2,094', '1,777', '2,121', '2,062', '1,906'],\n",
       "      dtype=object)"
      ]
     },
     "execution_count": 73,
     "metadata": {},
     "output_type": "execute_result"
    }
   ],
   "source": [
    "Gasoleo_P = df_n['Precio Gasoleo Premium'].unique()\n",
    "print(len(Gasoleo_P))\n",
    "print(type(Gasoleo_P))\n",
    "Gasoleo_P"
   ]
  },
  {
   "cell_type": "code",
   "execution_count": 74,
   "id": "b2743f33",
   "metadata": {},
   "outputs": [],
   "source": [
    "# Convertimos columna categórica a numérica, primero tenemos que sustituir , por .\n",
    "df_n['Precio Gasoleo Premium']=df_n['Precio Gasoleo Premium'].str.replace(',','.')\n",
    "df_n[['Precio Gasoleo Premium']]=df_n[['Precio Gasoleo Premium']].apply(pd.to_numeric)"
   ]
  },
  {
   "cell_type": "code",
   "execution_count": 75,
   "id": "10e79699",
   "metadata": {},
   "outputs": [
    {
     "data": {
      "text/plain": [
       "count    7510.000000\n",
       "mean        2.010428\n",
       "std         0.105833\n",
       "min         1.469000\n",
       "25%         1.989000\n",
       "50%         2.039000\n",
       "75%         2.069000\n",
       "max         2.999000\n",
       "Name: Precio Gasoleo Premium, dtype: float64"
      ]
     },
     "execution_count": 75,
     "metadata": {},
     "output_type": "execute_result"
    }
   ],
   "source": [
    "df_n['Precio Gasoleo Premium'].describe()"
   ]
  },
  {
   "cell_type": "code",
   "execution_count": 76,
   "id": "9666e5b7",
   "metadata": {},
   "outputs": [
    {
     "data": {
      "text/plain": [
       "4279"
      ]
     },
     "execution_count": 76,
     "metadata": {},
     "output_type": "execute_result"
    }
   ],
   "source": [
    "# Registros sin venta Gasoleo Premium\n",
    "sin_suministro_gP = df_n['Precio Gasoleo Premium'].isnull().sum()\n",
    "sin_suministro_gP"
   ]
  },
  {
   "cell_type": "code",
   "execution_count": 77,
   "id": "c62c56a0",
   "metadata": {},
   "outputs": [
    {
     "data": {
      "text/plain": [
       "0"
      ]
     },
     "execution_count": 77,
     "metadata": {},
     "output_type": "execute_result"
    }
   ],
   "source": [
    "ceros_sin_suministro_gP = (df_n['Precio Gasoleo Premium'] == 0).sum()\n",
    "ceros_sin_suministro_gP"
   ]
  },
  {
   "cell_type": "markdown",
   "id": "1af7f46d",
   "metadata": {},
   "source": [
    "# Precio Gasolina 95 E10 "
   ]
  },
  {
   "cell_type": "code",
   "execution_count": 78,
   "id": "a3d6c6e1",
   "metadata": {},
   "outputs": [
    {
     "name": "stdout",
     "output_type": "stream",
     "text": [
      "18\n",
      "<class 'numpy.ndarray'>\n"
     ]
    },
    {
     "data": {
      "text/plain": [
       "array(['', '2,129', '1,979', '1,788', '1,824', '1,720', '1,859', '1,909',\n",
       "       '1,959', '1,841', '1,699', '1,749', '1,669', '1,899', '1,969',\n",
       "       '1,759', '1,874', '1,868'], dtype=object)"
      ]
     },
     "execution_count": 78,
     "metadata": {},
     "output_type": "execute_result"
    }
   ],
   "source": [
    "g95_E10 = df_n['Precio Gasolina 95 E10'].unique()\n",
    "print(len(g95_E10))\n",
    "print(type(g95_E10))\n",
    "g95_E10"
   ]
  },
  {
   "cell_type": "code",
   "execution_count": 79,
   "id": "c2203d4d",
   "metadata": {},
   "outputs": [],
   "source": [
    "# Convertimos columna categórica a numérica, primero tenemos que sustituir , por .\n",
    "df_n['Precio Gasolina 95 E10']=df_n['Precio Gasolina 95 E10'].str.replace(',','.')\n",
    "df_n[['Precio Gasolina 95 E10']]=df_n[['Precio Gasolina 95 E10']].apply(pd.to_numeric)"
   ]
  },
  {
   "cell_type": "code",
   "execution_count": 80,
   "id": "01212952",
   "metadata": {},
   "outputs": [
    {
     "data": {
      "text/plain": [
       "count    22.000000\n",
       "mean      1.854045\n",
       "std       0.111947\n",
       "min       1.669000\n",
       "25%       1.766250\n",
       "50%       1.859000\n",
       "75%       1.909000\n",
       "max       2.129000\n",
       "Name: Precio Gasolina 95 E10, dtype: float64"
      ]
     },
     "execution_count": 80,
     "metadata": {},
     "output_type": "execute_result"
    }
   ],
   "source": [
    " df_n['Precio Gasolina 95 E10'].describe()"
   ]
  },
  {
   "cell_type": "code",
   "execution_count": 81,
   "id": "6aaa6a7b",
   "metadata": {},
   "outputs": [
    {
     "data": {
      "text/plain": [
       "11767"
      ]
     },
     "execution_count": 81,
     "metadata": {},
     "output_type": "execute_result"
    }
   ],
   "source": [
    "# Registros sin venta Gasoleo Premium\n",
    "sin_suministro_95E10 = df_n['Precio Gasolina 95 E10'].isnull().sum()\n",
    "sin_suministro_95E10"
   ]
  },
  {
   "cell_type": "markdown",
   "id": "3e9e3b58",
   "metadata": {},
   "source": [
    "# Precio Gasolina 95 E5"
   ]
  },
  {
   "cell_type": "code",
   "execution_count": 82,
   "id": "a04d4e77",
   "metadata": {},
   "outputs": [
    {
     "name": "stdout",
     "output_type": "stream",
     "text": [
      "446\n",
      "<class 'numpy.ndarray'>\n"
     ]
    },
    {
     "data": {
      "text/plain": [
       "array(['1,749', '1,909', '1,849', '1,809', '1,697', '', '1,819', '1,799',\n",
       "       '1,698', '1,759', '1,699', '1,769', '1,859', '1,839', '1,730',\n",
       "       '1,791', '2,299', '1,729', '1,690', '1,739', '1,689', '1,789',\n",
       "       '1,779', '1,652', '1,632', '1,829', '1,750', '1,719', '1,679',\n",
       "       '1,708', '1,709', '1,775', '1,805', '1,734', '1,718', '1,670',\n",
       "       '1,673', '1,764', '1,715', '1,667', '1,814', '1,825', '1,659',\n",
       "       '1,639', '1,824', '1,613', '1,797', '1,607', '1,707', '1,807',\n",
       "       '1,804', '1,788', '1,784', '1,755', '1,869', '1,794', '1,657',\n",
       "       '1,889', '1,748', '1,833', '1,717', '1,800', '1,629', '1,798',\n",
       "       '1,760', '1,795', '1,685', '1,724', '1,655', '1,635', '1,669',\n",
       "       '1,746', '1,879', '1,818', '1,727', '1,777', '1,778', '1,786',\n",
       "       '1,834', '1,649', '1,647', '1,599', '1,765', '1,737', '1,675',\n",
       "       '1,597', '1,821', '1,767', '1,688', '1,733', '1,738', '1,845',\n",
       "       '1,768', '1,855', '1,772', '1,836', '1,700', '1,757', '1,969',\n",
       "       '1,862', '1,640', '1,666', '1,696', '1,630', '1,627', '1,888',\n",
       "       '1,732', '1,919', '1,885', '1,815', '1,780', '1,720', '1,844',\n",
       "       '1,858', '1,874', '1,898', '1,677', '1,728', '2,000', '1,787',\n",
       "       '1,854', '1,725', '1,850', '1,884', '1,929', '1,747', '1,864',\n",
       "       '1,899', '1,918', '1,796', '1,840', '1,835', '1,870', '1,770',\n",
       "       '1,693', '1,959', '1,695', '1,831', '1,857', '1,860', '1,740',\n",
       "       '1,745', '1,920', '1,774', '1,790', '1,907', '1,735', '1,758',\n",
       "       '1,999', '1,785', '1,828', '1,851', '1,896', '1,868', '1,846',\n",
       "       '1,867', '1,848', '1,668', '1,827', '1,588', '1,742', '1,886',\n",
       "       '1,618', '1,665', '1,838', '1,816', '1,741', '1,592', '1,687',\n",
       "       '1,878', '1,744', '1,671', '1,587', '1,890', '1,847', '1,591',\n",
       "       '1,619', '1,589', '1,808', '1,875', '1,590', '1,726', '1,653',\n",
       "       '1,939', '1,694', '1,609', '1,598', '1,593', '1,916', '2,049',\n",
       "       '1,894', '2,149', '1,935', '1,822', '1,810', '1,947', '1,876',\n",
       "       '1,610', '1,680', '1,866', '1,865', '1,660', '1,714', '1,820',\n",
       "       '1,754', '1,830', '1,648', '1,603', '1,793', '1,600', '1,620',\n",
       "       '1,792', '1,435', '1,453', '1,454', '1,683', '1,716', '1,663',\n",
       "       '1,681', '1,624', '1,577', '1,645', '1,560', '1,650', '1,308',\n",
       "       '1,340', '1,911', '1,897', '1,811', '1,832', '1,921', '1,925',\n",
       "       '1,905', '1,705', '1,763', '1,802', '1,965', '1,686', '1,936',\n",
       "       '1,722', '1,817', '1,658', '1,678', '1,766', '1,617', '1,615',\n",
       "       '1,949', '1,762', '1,684', '2,329', '1,672', '1,674', '1,904',\n",
       "       '1,604', '1,614', '1,704', '1,887', '1,801', '1,841', '1,706',\n",
       "       '1,691', '1,633', '1,806', '1,871', '1,710', '1,751', '1,656',\n",
       "       '1,702', '1,853', '1,892', '1,783', '1,651', '2,120', '1,703',\n",
       "       '1,856', '1,594', '1,595', '1,625', '1,664', '1,596', '1,842',\n",
       "       '1,837', '1,782', '1,637', '1,612', '1,752', '1,736', '1,654',\n",
       "       '1,567', '1,565', '1,622', '2,074', '1,989', '1,569', '1,902',\n",
       "       '1,843', '1,938', '1,882', '1,712', '1,692', '1,713', '1,731',\n",
       "       '1,638', '1,661', '1,379', '1,378', '1,409', '1,723', '1,781',\n",
       "       '2,100', '1,756', '2,111', '1,623', '1,981', '1,933', '1,900',\n",
       "       '1,872', '1,823', '1,469', '1,444', '1,458', '1,279', '1,459',\n",
       "       '1,439', '1,299', '1,199', '1,339', '1,448', '1,324', '1,519',\n",
       "       '1,499', '1,478', '1,479', '1,489', '1,460', '1,432', '1,440',\n",
       "       '1,430', '1,449', '1,450', '1,492', '1,485', '1,515', '1,359',\n",
       "       '1,248', '1,235', '1,475', '1,429', '1,487', '1,513', '1,549',\n",
       "       '1,531', '1,508', '1,399', '1,502', '1,509', '1,249', '1,484',\n",
       "       '1,512', '1,529', '1,474', '1,289', '1,477', '1,464', '1,514',\n",
       "       '1,468', '1,559', '1,504', '1,471', '1,461', '1,438', '1,496',\n",
       "       '1,419', '1,447', '1,455', '1,465', '1,374', '1,425', '1,526',\n",
       "       '1,497', '1,803', '1,233', '1,239', '1,424', '1,482', '1,503',\n",
       "       '1,394', '1,392', '1,381', '1,386', '1,389', '1,380', '1,355',\n",
       "       '1,302', '1,415', '1,585', '1,367', '1,581', '1,400', '1,452',\n",
       "       '1,297', '1,369', '1,402', '1,352', '1,427', '1,365', '1,414',\n",
       "       '1,570', '1,375', '1,445', '1,209', '1,397', '1,385', '1,377',\n",
       "       '1,428', '1,364', '1,418', '1,395', '1,314', '1,472', '1,401',\n",
       "       '1,319', '1,408', '1,357', '1,462', '1,398', '1,259', '1,220',\n",
       "       '1,384', '1,404', '1,388', '1,416', '1,229', '1,349', '1,371',\n",
       "       '1,558', '1,410', '1,917', '1,753', '1,883', '1,641', '1,682',\n",
       "       '1,561', '1,881', '1,813', '1,601'], dtype=object)"
      ]
     },
     "execution_count": 82,
     "metadata": {},
     "output_type": "execute_result"
    }
   ],
   "source": [
    "g95_E5 = df_n['Precio Gasolina 95 E5'].unique()\n",
    "print(len(g95_E5))\n",
    "print(type(g95_E5))\n",
    "g95_E5"
   ]
  },
  {
   "cell_type": "code",
   "execution_count": 83,
   "id": "196f251e",
   "metadata": {},
   "outputs": [],
   "source": [
    "# Convertimos columna categórica a numérica, primero tenemos que sustituir , por .\n",
    "df_n['Precio Gasolina 95 E5']=df_n['Precio Gasolina 95 E5'].str.replace(',','.')\n",
    "df_n[['Precio Gasolina 95 E5']]=df_n[['Precio Gasolina 95 E5']].apply(pd.to_numeric)"
   ]
  },
  {
   "cell_type": "code",
   "execution_count": 84,
   "id": "621ec9bd",
   "metadata": {},
   "outputs": [
    {
     "data": {
      "text/plain": [
       "count    10640.000000\n",
       "mean         1.774055\n",
       "std          0.098145\n",
       "min          1.199000\n",
       "25%          1.739000\n",
       "50%          1.799000\n",
       "75%          1.829000\n",
       "max          2.329000\n",
       "Name: Precio Gasolina 95 E5, dtype: float64"
      ]
     },
     "execution_count": 84,
     "metadata": {},
     "output_type": "execute_result"
    }
   ],
   "source": [
    "df_n['Precio Gasolina 95 E5'].describe()"
   ]
  },
  {
   "cell_type": "code",
   "execution_count": 85,
   "id": "56396333",
   "metadata": {},
   "outputs": [
    {
     "data": {
      "text/plain": [
       "1149"
      ]
     },
     "execution_count": 85,
     "metadata": {},
     "output_type": "execute_result"
    }
   ],
   "source": [
    "# Registros sin venta Gasoleo Premium\n",
    "sin_suministro_g95E5 = df_n['Precio Gasolina 95 E5'].isnull().sum()\n",
    "sin_suministro_g95E5"
   ]
  },
  {
   "cell_type": "code",
   "execution_count": 86,
   "id": "c8cc07ca",
   "metadata": {},
   "outputs": [
    {
     "data": {
      "text/plain": [
       "0"
      ]
     },
     "execution_count": 86,
     "metadata": {},
     "output_type": "execute_result"
    }
   ],
   "source": [
    "ceros_sin_suministro_g95E5  = (df_n['Precio Gasolina 95 E5'] == 0).sum()\n",
    "ceros_sin_suministro_g95E5 "
   ]
  },
  {
   "cell_type": "markdown",
   "id": "fe877ab4",
   "metadata": {},
   "source": [
    "# Precio Gasolina 95 E5 Premium"
   ]
  },
  {
   "cell_type": "code",
   "execution_count": 87,
   "id": "5586de3c",
   "metadata": {},
   "outputs": [
    {
     "name": "stdout",
     "output_type": "stream",
     "text": [
      "95\n",
      "<class 'numpy.ndarray'>\n"
     ]
    },
    {
     "data": {
      "text/plain": [
       "array(['', '1,879', '1,869', '1,799', '1,849', '1,889', '1,829', '1,859',\n",
       "       '1,809', '1,979', '1,899', '1,867', '1,864', '1,819', '1,884',\n",
       "       '1,909', '1,839', '1,939', '1,784', '1,719', '1,789', '1,914',\n",
       "       '1,738', '1,894', '1,919', '1,689', '1,699', '1,661', '1,666',\n",
       "       '1,959', '1,924', '1,749', '1,954', '1,929', '1,989', '1,974',\n",
       "       '1,844', '1,949', '1,969', '1,885', '1,934', '1,944', '1,679',\n",
       "       '1,709', '1,779', '1,814', '1,759', '1,724', '1,904', '1,874',\n",
       "       '1,895', '1,855', '1,729', '1,824', '1,840', '1,489', '1,845',\n",
       "       '1,854', '1,769', '1,835', '1,868', '1,765', '1,827', '1,958',\n",
       "       '1,710', '1,708', '1,717', '1,748', '1,746', '1,718', '1,716',\n",
       "       '1,735', '1,698', '1,627', '1,842', '1,828', '1,667', '1,739',\n",
       "       '1,984', '1,359', '1,505', '1,745', '1,994', '1,339', '1,875',\n",
       "       '1,834', '1,880', '1,878', '1,811', '1,795', '2,019', '1,761',\n",
       "       '2,099', '1,794', '1,877'], dtype=object)"
      ]
     },
     "execution_count": 87,
     "metadata": {},
     "output_type": "execute_result"
    }
   ],
   "source": [
    "g95_E5_P = df_n['Precio Gasolina 95 E5 Premium'].unique()\n",
    "print(len(g95_E5_P))\n",
    "print(type(g95_E5_P))\n",
    "g95_E5_P"
   ]
  },
  {
   "cell_type": "code",
   "execution_count": 88,
   "id": "4758d3d3",
   "metadata": {},
   "outputs": [],
   "source": [
    "# Convertimos columna categórica a numérica, primero tenemos que sustituir , por .\n",
    "df_n['Precio Gasolina 95 E5 Premium']=df_n['Precio Gasolina 95 E5 Premium'].str.replace(',','.')\n",
    "df_n[['Precio Gasolina 95 E5 Premium']]=df_n[['Precio Gasolina 95 E5 Premium']].apply(pd.to_numeric)"
   ]
  },
  {
   "cell_type": "code",
   "execution_count": 89,
   "id": "7d0a8e3a",
   "metadata": {},
   "outputs": [
    {
     "data": {
      "text/plain": [
       "count    804.000000\n",
       "mean       1.862813\n",
       "std        0.074058\n",
       "min        1.339000\n",
       "25%        1.839000\n",
       "50%        1.874000\n",
       "75%        1.899000\n",
       "max        2.099000\n",
       "Name: Precio Gasolina 95 E5 Premium, dtype: float64"
      ]
     },
     "execution_count": 89,
     "metadata": {},
     "output_type": "execute_result"
    }
   ],
   "source": [
    "df_n['Precio Gasolina 95 E5 Premium'].describe()"
   ]
  },
  {
   "cell_type": "code",
   "execution_count": 90,
   "id": "4a815e9d",
   "metadata": {},
   "outputs": [
    {
     "data": {
      "text/plain": [
       "10985"
      ]
     },
     "execution_count": 90,
     "metadata": {},
     "output_type": "execute_result"
    }
   ],
   "source": [
    "# Registros sin venta Gasolina 95 E5 Premium\n",
    "sin_suministro_g95E5_Prem = df_n['Precio Gasolina 95 E5 Premium'].isnull().sum()\n",
    "sin_suministro_g95E5_Prem"
   ]
  },
  {
   "cell_type": "code",
   "execution_count": 91,
   "id": "7ae51272",
   "metadata": {},
   "outputs": [
    {
     "data": {
      "text/plain": [
       "0"
      ]
     },
     "execution_count": 91,
     "metadata": {},
     "output_type": "execute_result"
    }
   ],
   "source": [
    "ceros_sin_suministro_g95E5_Prem  = (df_n['Precio Gasolina 95 E5 Premium'] == 0).sum()\n",
    "ceros_sin_suministro_g95E5 "
   ]
  },
  {
   "cell_type": "markdown",
   "id": "477ee508",
   "metadata": {},
   "source": [
    "# Precio Gasolina 98 E10"
   ]
  },
  {
   "cell_type": "code",
   "execution_count": 92,
   "id": "3b8c6a20",
   "metadata": {},
   "outputs": [
    {
     "name": "stdout",
     "output_type": "stream",
     "text": [
      "8\n",
      "<class 'numpy.ndarray'>\n"
     ]
    },
    {
     "data": {
      "text/plain": [
       "array(['', '1,995', '1,859', '1,760', '1,907', '1,939', '1,949', '1,838'],\n",
       "      dtype=object)"
      ]
     },
     "execution_count": 92,
     "metadata": {},
     "output_type": "execute_result"
    }
   ],
   "source": [
    "g98_E10 = df_n['Precio Gasolina 98 E10'].unique()\n",
    "print(len(g98_E10))\n",
    "print(type(g98_E10))\n",
    "g98_E10"
   ]
  },
  {
   "cell_type": "code",
   "execution_count": 93,
   "id": "77f0708e",
   "metadata": {},
   "outputs": [],
   "source": [
    "# Convertimos columna categórica a numérica, primero tenemos que sustituir , por .\n",
    "df_n['Precio Gasolina 98 E10']=df_n['Precio Gasolina 98 E10'].str.replace(',','.')\n",
    "df_n[['Precio Gasolina 98 E10']]=df_n[['Precio Gasolina 98 E10']].apply(pd.to_numeric)"
   ]
  },
  {
   "cell_type": "code",
   "execution_count": 94,
   "id": "0ce30530",
   "metadata": {},
   "outputs": [
    {
     "data": {
      "text/plain": [
       "count    8.000000\n",
       "mean     1.898250\n",
       "std      0.075231\n",
       "min      1.760000\n",
       "25%      1.853750\n",
       "50%      1.923000\n",
       "75%      1.941500\n",
       "max      1.995000\n",
       "Name: Precio Gasolina 98 E10, dtype: float64"
      ]
     },
     "execution_count": 94,
     "metadata": {},
     "output_type": "execute_result"
    }
   ],
   "source": [
    "df_n['Precio Gasolina 98 E10'].describe()"
   ]
  },
  {
   "cell_type": "code",
   "execution_count": 95,
   "id": "7846a3d5",
   "metadata": {},
   "outputs": [
    {
     "data": {
      "text/plain": [
       "11781"
      ]
     },
     "execution_count": 95,
     "metadata": {},
     "output_type": "execute_result"
    }
   ],
   "source": [
    "# Registros sin venta Gasolina 98 E10 \n",
    "sin_suministro_g98E10 = df_n['Precio Gasolina 98 E10'].isnull().sum()\n",
    "sin_suministro_g98E10"
   ]
  },
  {
   "cell_type": "markdown",
   "id": "d0eca28a",
   "metadata": {},
   "source": [
    "# Precio Gasolina 98 E5"
   ]
  },
  {
   "cell_type": "code",
   "execution_count": 96,
   "id": "b948ed78",
   "metadata": {},
   "outputs": [
    {
     "name": "stdout",
     "output_type": "stream",
     "text": [
      "420\n",
      "<class 'numpy.ndarray'>\n"
     ]
    },
    {
     "data": {
      "text/plain": [
       "array(['', '2,200', '1,949', '1,951', '1,929', '1,939', '1,859', '1,899',\n",
       "       '1,901', '2,089', '1,989', '1,919', '1,879', '1,889', '1,883',\n",
       "       '2,369', '1,911', '1,999', '1,909', '1,969', '1,941', '1,961',\n",
       "       '2,099', '1,866', '2,179', '1,934', '1,959', '1,849', '1,991',\n",
       "       '1,967', '1,833', '1,942', '1,918', '2,599', '1,971', '2,009',\n",
       "       '1,938', '2,031', '2,059', '2,029', '1,869', '1,916', '1,867',\n",
       "       '1,948', '1,965', '1,785', '2,019', '1,874', '1,966', '2,001',\n",
       "       '1,930', '1,921', '2,000', '2,039', '1,931', '2,999', '1,819',\n",
       "       '1,809', '1,875', '1,979', '1,956', '1,995', '1,946', '1,981',\n",
       "       '1,805', '1,985', '1,964', '1,732', '1,940', '1,891', '1,888',\n",
       "       '1,953', '2,079', '1,857', '1,895', '2,071', '1,945', '2,169',\n",
       "       '1,984', '2,018', '2,006', '2,049', '1,907', '2,038', '1,972',\n",
       "       '1,868', '1,924', '1,986', '1,950', '1,992', '2,026', '1,998',\n",
       "       '1,996', '2,021', '1,920', '1,976', '2,141', '1,917', '2,069',\n",
       "       '1,915', '2,011', '2,109', '2,028', '1,799', '1,820', '1,954',\n",
       "       '1,926', '1,848', '1,905', '1,955', '2,098', '1,990', '1,858',\n",
       "       '1,856', '2,003', '2,035', '2,010', '1,944', '2,005', '1,978',\n",
       "       '1,997', '2,017', '2,041', '1,947', '1,769', '1,829', '2,025',\n",
       "       '1,792', '1,906', '1,994', '2,046', '1,802', '2,160', '1,914',\n",
       "       '1,690', '2,020', '1,699', '1,887', '2,007', '1,988', '1,816',\n",
       "       '2,180', '1,693', '1,839', '1,894', '1,885', '2,150', '1,896',\n",
       "       '1,935', '1,739', '1,890', '1,680', '1,822', '1,958', '2,124',\n",
       "       '2,078', '2,048', '1,928', '2,145', '2,013', '1,908', '2,129',\n",
       "       '2,157', '2,199', '2,095', '2,149', '1,878', '2,139', '1,933',\n",
       "       '2,014', '1,854', '1,767', '2,119', '2,037', '1,880', '2,004',\n",
       "       '2,209', '1,898', '1,925', '1,789', '1,876', '1,970', '1,871',\n",
       "       '1,469', '1,483', '1,749', '2,229', '1,845', '1,975', '1,861',\n",
       "       '1,798', '2,081', '2,047', '1,846', '2,159', '2,065', '2,016',\n",
       "       '1,980', '1,932', '2,091', '2,115', '1,748', '1,842', '2,060',\n",
       "       '1,977', '1,968', '1,974', '1,852', '1,957', '1,784', '2,024',\n",
       "       '1,810', '1,815', '1,963', '1,841', '1,795', '2,500', '1,835',\n",
       "       '1,779', '1,900', '1,913', '1,840', '2,299', '1,639', '2,074',\n",
       "       '2,032', '2,015', '1,765', '1,759', '1,936', '1,804', '2,075',\n",
       "       '1,695', '1,881', '1,922', '2,008', '1,698', '1,904', '1,952',\n",
       "       '1,865', '1,943', '2,120', '1,862', '2,068', '2,239', '1,844',\n",
       "       '1,788', '2,108', '1,960', '1,983', '1,757', '1,910', '1,877',\n",
       "       '1,855', '1,722', '1,782', '2,215', '1,937', '1,825', '1,559',\n",
       "       '1,534', '1,489', '1,593', '1,659', '1,569', '1,459', '1,380',\n",
       "       '1,599', '1,583', '1,474', '1,589', '1,499', '1,619', '1,679',\n",
       "       '1,613', '1,609', '1,579', '1,581', '1,572', '1,544', '1,551',\n",
       "       '1,542', '1,582', '1,529', '1,539', '1,562', '1,649', '1,588',\n",
       "       '1,629', '1,601', '1,617', '1,399', '1,558', '1,576', '1,684',\n",
       "       '1,691', '1,707', '1,618', '1,604', '1,575', '1,564', '1,632',\n",
       "       '1,585', '1,574', '1,577', '1,620', '1,689', '1,580', '1,674',\n",
       "       '1,634', '1,550', '1,594', '1,567', '1,625', '1,626', '1,419',\n",
       "       '1,448', '1,605', '1,600', '1,475', '1,584', '1,624', '1,494',\n",
       "       '1,615', '1,509', '1,372', '1,614', '1,492', '1,628', '1,506',\n",
       "       '1,549', '1,676', '1,627', '1,837', '1,897', '1,371', '1,598',\n",
       "       '1,554', '1,648', '1,511', '1,460', '1,420', '1,606', '1,546',\n",
       "       '1,540', '1,480', '1,675', '1,504', '1,595', '1,410', '1,423',\n",
       "       '1,697', '1,524', '1,647', '1,490', '1,514', '1,520', '1,377',\n",
       "       '1,477', '1,573', '1,465', '1,519', '1,688', '1,545', '1,479',\n",
       "       '1,449', '1,464', '1,497', '1,740', '1,485', '1,424', '1,493',\n",
       "       '1,458', '1,488', '1,484', '1,385', '1,472', '1,394', '1,568',\n",
       "       '1,525', '1,505', '1,597', '1,526', '1,415', '1,395', '1,478',\n",
       "       '1,435', '1,498', '1,495', '1,528', '1,566', '1,363', '1,510',\n",
       "       '1,565', '1,513', '1,501', '1,418', '1,553', '1,408', '1,533',\n",
       "       '1,530', '2,058', '2,247', '2,219', '1,982', '2,450', '1,927',\n",
       "       '1,794', '1,851', '1,800', '2,064', '2,220', '2,055', '1,847',\n",
       "       '1,813', '1,830', '1,886', '2,279', '2,250', '1,850'], dtype=object)"
      ]
     },
     "execution_count": 96,
     "metadata": {},
     "output_type": "execute_result"
    }
   ],
   "source": [
    "g98_E5 = df_n['Precio Gasolina 98 E5'].unique()\n",
    "print(len(g98_E5))\n",
    "print(type(g98_E5))\n",
    "g98_E5"
   ]
  },
  {
   "cell_type": "code",
   "execution_count": 97,
   "id": "4763d458",
   "metadata": {},
   "outputs": [],
   "source": [
    "# Convertimos columna categórica a numérica, primero tenemos que sustituir , por .\n",
    "df_n['Precio Gasolina 98 E5']=df_n['Precio Gasolina 98 E5'].str.replace(',','.')\n",
    "df_n[['Precio Gasolina 98 E5']]=df_n[['Precio Gasolina 98 E5']].apply(pd.to_numeric)"
   ]
  },
  {
   "cell_type": "code",
   "execution_count": 98,
   "id": "767e87d9",
   "metadata": {},
   "outputs": [
    {
     "data": {
      "text/plain": [
       "count    5950.000000\n",
       "mean        1.925452\n",
       "std         0.121452\n",
       "min         1.363000\n",
       "25%         1.909000\n",
       "50%         1.949000\n",
       "75%         1.985000\n",
       "max         2.999000\n",
       "Name: Precio Gasolina 98 E5, dtype: float64"
      ]
     },
     "execution_count": 98,
     "metadata": {},
     "output_type": "execute_result"
    }
   ],
   "source": [
    "df_n['Precio Gasolina 98 E5'].describe()"
   ]
  },
  {
   "cell_type": "code",
   "execution_count": 99,
   "id": "d9fb7e91",
   "metadata": {},
   "outputs": [
    {
     "data": {
      "text/plain": [
       "5839"
      ]
     },
     "execution_count": 99,
     "metadata": {},
     "output_type": "execute_result"
    }
   ],
   "source": [
    "# Registros sin venta Gasolina 98 E5 \n",
    "sin_suministro_g98E5 = df_n['Precio Gasolina 98 E5'].isnull().sum()\n",
    "sin_suministro_g98E5"
   ]
  },
  {
   "cell_type": "code",
   "execution_count": 100,
   "id": "ad3ee76b",
   "metadata": {},
   "outputs": [
    {
     "data": {
      "text/plain": [
       "0"
      ]
     },
     "execution_count": 100,
     "metadata": {},
     "output_type": "execute_result"
    }
   ],
   "source": [
    "ceros_sin_suministro_g98E5  = (df_n['Precio Gasolina 98 E5'] == 0).sum()\n",
    "ceros_sin_suministro_g98E5 "
   ]
  },
  {
   "cell_type": "markdown",
   "id": "d8566cb1",
   "metadata": {},
   "source": [
    "# Precio Hidrogeno "
   ]
  },
  {
   "cell_type": "code",
   "execution_count": 101,
   "id": "8092ec5a",
   "metadata": {},
   "outputs": [
    {
     "name": "stdout",
     "output_type": "stream",
     "text": [
      "1\n",
      "<class 'numpy.ndarray'>\n"
     ]
    },
    {
     "data": {
      "text/plain": [
       "array([''], dtype=object)"
      ]
     },
     "execution_count": 101,
     "metadata": {},
     "output_type": "execute_result"
    }
   ],
   "source": [
    "Hidrongeno = df_n['Precio Hidrogeno'].unique()\n",
    "print(len(Hidrongeno))\n",
    "print(type(Hidrongeno))\n",
    "Hidrongeno"
   ]
  },
  {
   "cell_type": "code",
   "execution_count": 102,
   "id": "38acbbd6",
   "metadata": {},
   "outputs": [],
   "source": [
    "# Convertimos columna categórica a numérica, primero tenemos que sustituir , por .\n",
    "df_n['Precio Hidrogeno']=df_n['Precio Hidrogeno'].str.replace(',','.')\n",
    "df_n[['Precio Hidrogeno']]=df_n[['Precio Hidrogeno']].apply(pd.to_numeric)"
   ]
  },
  {
   "cell_type": "code",
   "execution_count": 103,
   "id": "1b19941a",
   "metadata": {},
   "outputs": [
    {
     "data": {
      "text/plain": [
       "count    0.0\n",
       "mean     NaN\n",
       "std      NaN\n",
       "min      NaN\n",
       "25%      NaN\n",
       "50%      NaN\n",
       "75%      NaN\n",
       "max      NaN\n",
       "Name: Precio Hidrogeno, dtype: float64"
      ]
     },
     "execution_count": 103,
     "metadata": {},
     "output_type": "execute_result"
    }
   ],
   "source": [
    "df_n['Precio Hidrogeno'].describe()"
   ]
  },
  {
   "cell_type": "code",
   "execution_count": 104,
   "id": "c6802106",
   "metadata": {},
   "outputs": [
    {
     "name": "stdout",
     "output_type": "stream",
     "text": [
      "<class 'pandas.core.frame.DataFrame'>\n",
      "RangeIndex: 11789 entries, 0 to 11788\n",
      "Data columns (total 33 columns):\n",
      " #   Column                              Non-Null Count  Dtype  \n",
      "---  ------                              --------------  -----  \n",
      " 0   Fecha                               11789 non-null  object \n",
      " 1   C.P.                                11789 non-null  object \n",
      " 2   Dirección                           11789 non-null  object \n",
      " 3   Horario                             11789 non-null  object \n",
      " 4   Latitud                             11789 non-null  object \n",
      " 5   Localidad                           11789 non-null  object \n",
      " 6   Longitud (WGS84)                    11789 non-null  object \n",
      " 7   Margen                              11789 non-null  object \n",
      " 8   Municipio                           11789 non-null  object \n",
      " 9   Precio Biodiesel                    38 non-null     float64\n",
      " 10  Precio Bioetanol                    5 non-null      float64\n",
      " 11  Precio Gas Natural Comprimido       122 non-null    float64\n",
      " 12  Precio Gas Natural Licuado          82 non-null     float64\n",
      " 13  Precio Gases licuados del petróleo  850 non-null    float64\n",
      " 14  Precio Gasoleo A                    11445 non-null  float64\n",
      " 15  Precio Gasoleo B                    3006 non-null   float64\n",
      " 16  Precio Gasoleo Premium              7510 non-null   float64\n",
      " 17  Precio Gasolina 95 E10              22 non-null     float64\n",
      " 18  Precio Gasolina 95 E5               10640 non-null  float64\n",
      " 19  Precio Gasolina 95 E5 Premium       804 non-null    float64\n",
      " 20  Precio Gasolina 98 E10              8 non-null      float64\n",
      " 21  Precio Gasolina 98 E5               5950 non-null   float64\n",
      " 22  Precio Hidrogeno                    0 non-null      float64\n",
      " 23  Provincia                           11789 non-null  object \n",
      " 24  Remisión                            11789 non-null  object \n",
      " 25  Rótulo                              11789 non-null  object \n",
      " 26  Tipo Venta                          11789 non-null  object \n",
      " 27  % BioEtanol                         11789 non-null  object \n",
      " 28  % Éster metílico                    11789 non-null  object \n",
      " 29  IDEESS                              11789 non-null  object \n",
      " 30  IDMunicipio                         11789 non-null  object \n",
      " 31  IDProvincia                         11789 non-null  object \n",
      " 32  IDCCAA                              11789 non-null  object \n",
      "dtypes: float64(14), object(19)\n",
      "memory usage: 3.0+ MB\n"
     ]
    }
   ],
   "source": [
    "df_n.info()"
   ]
  },
  {
   "cell_type": "markdown",
   "id": "0b486d1c",
   "metadata": {},
   "source": [
    "---\n",
    "Setp 3\n",
    "\n",
    "# Limpieza de Columnas"
   ]
  },
  {
   "cell_type": "code",
   "execution_count": 105,
   "id": "58959813",
   "metadata": {},
   "outputs": [],
   "source": [
    "# Eliminiación de columnas que no interesan a nivel usuario o que no aportan datos significativos al modelo\n",
    "df_n.drop(['Margen', 'Remisión', 'Tipo Venta', '% BioEtanol', '% Éster metílico', 'Precio Biodiesel',\n",
    "          'Precio Bioetanol', 'Precio Gas Natural Comprimido', 'Precio Gas Natural Licuado', \n",
    "          'Precio Gas Natural Licuado', 'Precio Gases licuados del petróleo', 'Precio Gasolina 95 E10',\n",
    "          'Precio Gasolina 95 E5 Premium', 'Precio Gasolina 98 E10', 'Precio Hidrogeno'], axis=1, inplace=True)\n"
   ]
  },
  {
   "cell_type": "code",
   "execution_count": 106,
   "id": "1f4e6f15",
   "metadata": {},
   "outputs": [
    {
     "data": {
      "text/plain": [
       "Precio Gasoleo B    NaN\n",
       "Name: 15, dtype: object"
      ]
     },
     "execution_count": 106,
     "metadata": {},
     "output_type": "execute_result"
    }
   ],
   "source": [
    "# Comprobación\n",
    "df_n.iloc[15][['Precio Gasoleo B']]"
   ]
  },
  {
   "cell_type": "code",
   "execution_count": 107,
   "id": "a9fe557e",
   "metadata": {},
   "outputs": [
    {
     "data": {
      "text/html": [
       "<div>\n",
       "<style scoped>\n",
       "    .dataframe tbody tr th:only-of-type {\n",
       "        vertical-align: middle;\n",
       "    }\n",
       "\n",
       "    .dataframe tbody tr th {\n",
       "        vertical-align: top;\n",
       "    }\n",
       "\n",
       "    .dataframe thead th {\n",
       "        text-align: right;\n",
       "    }\n",
       "</style>\n",
       "<table border=\"1\" class=\"dataframe\">\n",
       "  <thead>\n",
       "    <tr style=\"text-align: right;\">\n",
       "      <th></th>\n",
       "      <th>Fecha</th>\n",
       "      <th>C.P.</th>\n",
       "      <th>Dirección</th>\n",
       "      <th>Horario</th>\n",
       "      <th>Latitud</th>\n",
       "      <th>Localidad</th>\n",
       "      <th>Longitud (WGS84)</th>\n",
       "      <th>Municipio</th>\n",
       "      <th>Precio Gasoleo A</th>\n",
       "      <th>Precio Gasoleo B</th>\n",
       "      <th>Precio Gasoleo Premium</th>\n",
       "      <th>Precio Gasolina 95 E5</th>\n",
       "      <th>Precio Gasolina 98 E5</th>\n",
       "      <th>Provincia</th>\n",
       "      <th>Rótulo</th>\n",
       "      <th>IDEESS</th>\n",
       "      <th>IDMunicipio</th>\n",
       "      <th>IDProvincia</th>\n",
       "      <th>IDCCAA</th>\n",
       "    </tr>\n",
       "  </thead>\n",
       "  <tbody>\n",
       "    <tr>\n",
       "      <th>0</th>\n",
       "      <td>12/11/2022 9:29:39</td>\n",
       "      <td>02250</td>\n",
       "      <td>AVENIDA CASTILLA LA MANCHA, 26</td>\n",
       "      <td>L-D: 07:00-22:00</td>\n",
       "      <td>39,211417</td>\n",
       "      <td>ABENGIBRE</td>\n",
       "      <td>-1,539167</td>\n",
       "      <td>Abengibre</td>\n",
       "      <td>1.899</td>\n",
       "      <td>1.39</td>\n",
       "      <td>NaN</td>\n",
       "      <td>1.749</td>\n",
       "      <td>NaN</td>\n",
       "      <td>ALBACETE</td>\n",
       "      <td>Nº 10.935</td>\n",
       "      <td>4375</td>\n",
       "      <td>52</td>\n",
       "      <td>02</td>\n",
       "      <td>07</td>\n",
       "    </tr>\n",
       "    <tr>\n",
       "      <th>1</th>\n",
       "      <td>12/11/2022 9:29:39</td>\n",
       "      <td>02152</td>\n",
       "      <td>CR CM-332, 46,4</td>\n",
       "      <td>L-D: 7:00-23:00</td>\n",
       "      <td>39,100389</td>\n",
       "      <td>ALATOZ</td>\n",
       "      <td>-1,346083</td>\n",
       "      <td>Alatoz</td>\n",
       "      <td>2.040</td>\n",
       "      <td>NaN</td>\n",
       "      <td>2.300</td>\n",
       "      <td>1.909</td>\n",
       "      <td>2.200</td>\n",
       "      <td>ALBACETE</td>\n",
       "      <td>REPSOL</td>\n",
       "      <td>5122</td>\n",
       "      <td>53</td>\n",
       "      <td>02</td>\n",
       "      <td>07</td>\n",
       "    </tr>\n",
       "    <tr>\n",
       "      <th>2</th>\n",
       "      <td>12/11/2022 9:29:39</td>\n",
       "      <td>02001</td>\n",
       "      <td>AVENIDA 1º DE MAYO, S/N</td>\n",
       "      <td>L-S: 08:00-22:00; D: 09:00-21:00</td>\n",
       "      <td>38,985667</td>\n",
       "      <td>ALBACETE</td>\n",
       "      <td>-1,868500</td>\n",
       "      <td>Albacete</td>\n",
       "      <td>1.999</td>\n",
       "      <td>NaN</td>\n",
       "      <td>2.039</td>\n",
       "      <td>1.849</td>\n",
       "      <td>1.949</td>\n",
       "      <td>ALBACETE</td>\n",
       "      <td>CARREFOUR</td>\n",
       "      <td>10765</td>\n",
       "      <td>54</td>\n",
       "      <td>02</td>\n",
       "      <td>07</td>\n",
       "    </tr>\n",
       "    <tr>\n",
       "      <th>3</th>\n",
       "      <td>12/11/2022 9:29:39</td>\n",
       "      <td>02001</td>\n",
       "      <td>CALLE PRINCIPE DE ASTURIAS (POLÍGONO DE ROMICA...</td>\n",
       "      <td>L-D: 06:00-21:30</td>\n",
       "      <td>39,054694</td>\n",
       "      <td>ALBACETE</td>\n",
       "      <td>-1,832000</td>\n",
       "      <td>Albacete</td>\n",
       "      <td>1.949</td>\n",
       "      <td>NaN</td>\n",
       "      <td>2.039</td>\n",
       "      <td>1.809</td>\n",
       "      <td>1.951</td>\n",
       "      <td>ALBACETE</td>\n",
       "      <td>BP ROMICA</td>\n",
       "      <td>12054</td>\n",
       "      <td>54</td>\n",
       "      <td>02</td>\n",
       "      <td>07</td>\n",
       "    </tr>\n",
       "    <tr>\n",
       "      <th>4</th>\n",
       "      <td>12/11/2022 9:29:39</td>\n",
       "      <td>02001</td>\n",
       "      <td>CALLE FEDERICO GARCIA LORCA, 1</td>\n",
       "      <td>L-D: 24H</td>\n",
       "      <td>39,000861</td>\n",
       "      <td>ALBACETE</td>\n",
       "      <td>-1,849833</td>\n",
       "      <td>Albacete</td>\n",
       "      <td>1.877</td>\n",
       "      <td>NaN</td>\n",
       "      <td>NaN</td>\n",
       "      <td>1.697</td>\n",
       "      <td>NaN</td>\n",
       "      <td>ALBACETE</td>\n",
       "      <td>PLENOIL</td>\n",
       "      <td>13933</td>\n",
       "      <td>54</td>\n",
       "      <td>02</td>\n",
       "      <td>07</td>\n",
       "    </tr>\n",
       "  </tbody>\n",
       "</table>\n",
       "</div>"
      ],
      "text/plain": [
       "                Fecha   C.P.  \\\n",
       "0  12/11/2022 9:29:39  02250   \n",
       "1  12/11/2022 9:29:39  02152   \n",
       "2  12/11/2022 9:29:39  02001   \n",
       "3  12/11/2022 9:29:39  02001   \n",
       "4  12/11/2022 9:29:39  02001   \n",
       "\n",
       "                                           Dirección  \\\n",
       "0                     AVENIDA CASTILLA LA MANCHA, 26   \n",
       "1                                    CR CM-332, 46,4   \n",
       "2                            AVENIDA 1º DE MAYO, S/N   \n",
       "3  CALLE PRINCIPE DE ASTURIAS (POLÍGONO DE ROMICA...   \n",
       "4                     CALLE FEDERICO GARCIA LORCA, 1   \n",
       "\n",
       "                            Horario    Latitud  Localidad Longitud (WGS84)  \\\n",
       "0                  L-D: 07:00-22:00  39,211417  ABENGIBRE        -1,539167   \n",
       "1                   L-D: 7:00-23:00  39,100389     ALATOZ        -1,346083   \n",
       "2  L-S: 08:00-22:00; D: 09:00-21:00  38,985667   ALBACETE        -1,868500   \n",
       "3                  L-D: 06:00-21:30  39,054694   ALBACETE        -1,832000   \n",
       "4                          L-D: 24H  39,000861   ALBACETE        -1,849833   \n",
       "\n",
       "   Municipio  Precio Gasoleo A  Precio Gasoleo B  Precio Gasoleo Premium  \\\n",
       "0  Abengibre             1.899              1.39                     NaN   \n",
       "1     Alatoz             2.040               NaN                   2.300   \n",
       "2   Albacete             1.999               NaN                   2.039   \n",
       "3   Albacete             1.949               NaN                   2.039   \n",
       "4   Albacete             1.877               NaN                     NaN   \n",
       "\n",
       "   Precio Gasolina 95 E5  Precio Gasolina 98 E5 Provincia     Rótulo IDEESS  \\\n",
       "0                  1.749                    NaN  ALBACETE  Nº 10.935   4375   \n",
       "1                  1.909                  2.200  ALBACETE     REPSOL   5122   \n",
       "2                  1.849                  1.949  ALBACETE  CARREFOUR  10765   \n",
       "3                  1.809                  1.951  ALBACETE  BP ROMICA  12054   \n",
       "4                  1.697                    NaN  ALBACETE    PLENOIL  13933   \n",
       "\n",
       "  IDMunicipio IDProvincia IDCCAA  \n",
       "0          52          02     07  \n",
       "1          53          02     07  \n",
       "2          54          02     07  \n",
       "3          54          02     07  \n",
       "4          54          02     07  "
      ]
     },
     "execution_count": 107,
     "metadata": {},
     "output_type": "execute_result"
    }
   ],
   "source": [
    "df_n.head()"
   ]
  },
  {
   "cell_type": "code",
   "execution_count": 108,
   "id": "d7336670",
   "metadata": {},
   "outputs": [
    {
     "data": {
      "text/html": [
       "<div>\n",
       "<style scoped>\n",
       "    .dataframe tbody tr th:only-of-type {\n",
       "        vertical-align: middle;\n",
       "    }\n",
       "\n",
       "    .dataframe tbody tr th {\n",
       "        vertical-align: top;\n",
       "    }\n",
       "\n",
       "    .dataframe thead th {\n",
       "        text-align: right;\n",
       "    }\n",
       "</style>\n",
       "<table border=\"1\" class=\"dataframe\">\n",
       "  <thead>\n",
       "    <tr style=\"text-align: right;\">\n",
       "      <th></th>\n",
       "      <th>Fecha</th>\n",
       "      <th>C.P.</th>\n",
       "      <th>Dirección</th>\n",
       "      <th>Horario</th>\n",
       "      <th>Latitud</th>\n",
       "      <th>Localidad</th>\n",
       "      <th>Longitud (WGS84)</th>\n",
       "      <th>Municipio</th>\n",
       "      <th>Gasoleo A</th>\n",
       "      <th>Gasoleo B</th>\n",
       "      <th>Gasoleo Premium</th>\n",
       "      <th>Gasolina 95 E5</th>\n",
       "      <th>Gasolina 98 E5</th>\n",
       "      <th>Provincia</th>\n",
       "      <th>Proveedor de Servicio</th>\n",
       "      <th>IDEESS</th>\n",
       "      <th>IDMunicipio</th>\n",
       "      <th>IDProvincia</th>\n",
       "      <th>IDCCAA</th>\n",
       "    </tr>\n",
       "  </thead>\n",
       "  <tbody>\n",
       "    <tr>\n",
       "      <th>0</th>\n",
       "      <td>12/11/2022 9:29:39</td>\n",
       "      <td>02250</td>\n",
       "      <td>AVENIDA CASTILLA LA MANCHA, 26</td>\n",
       "      <td>L-D: 07:00-22:00</td>\n",
       "      <td>39,211417</td>\n",
       "      <td>ABENGIBRE</td>\n",
       "      <td>-1,539167</td>\n",
       "      <td>Abengibre</td>\n",
       "      <td>1.899</td>\n",
       "      <td>1.39</td>\n",
       "      <td>NaN</td>\n",
       "      <td>1.749</td>\n",
       "      <td>NaN</td>\n",
       "      <td>ALBACETE</td>\n",
       "      <td>Nº 10.935</td>\n",
       "      <td>4375</td>\n",
       "      <td>52</td>\n",
       "      <td>02</td>\n",
       "      <td>07</td>\n",
       "    </tr>\n",
       "  </tbody>\n",
       "</table>\n",
       "</div>"
      ],
      "text/plain": [
       "                Fecha   C.P.                       Dirección  \\\n",
       "0  12/11/2022 9:29:39  02250  AVENIDA CASTILLA LA MANCHA, 26   \n",
       "\n",
       "            Horario    Latitud  Localidad Longitud (WGS84)  Municipio  \\\n",
       "0  L-D: 07:00-22:00  39,211417  ABENGIBRE        -1,539167  Abengibre   \n",
       "\n",
       "   Gasoleo A  Gasoleo B  Gasoleo Premium  Gasolina 95 E5  Gasolina 98 E5  \\\n",
       "0      1.899       1.39              NaN           1.749             NaN   \n",
       "\n",
       "  Provincia Proveedor de Servicio IDEESS IDMunicipio IDProvincia IDCCAA  \n",
       "0  ALBACETE             Nº 10.935   4375          52          02     07  "
      ]
     },
     "execution_count": 108,
     "metadata": {},
     "output_type": "execute_result"
    }
   ],
   "source": [
    "# Renombramos las columnas\n",
    "df_n.rename(columns={\"Precio Gasoleo A\": \"Gasoleo A\", \"Precio Gasoleo B\": \"Gasoleo B\" ,\"Precio Gasoleo Premium\": \"Gasoleo Premium\", \n",
    "                     \"Precio Gasolina 95 E5\": \"Gasolina 95 E5\", \"Precio Gasolina 98 E5\": \"Gasolina 98 E5\",\n",
    "                     \"Rótulo\":\"Proveedor de Servicio\"}, inplace=True)\n",
    "df_n.head(1)"
   ]
  },
  {
   "cell_type": "code",
   "execution_count": 109,
   "id": "365e7b0f",
   "metadata": {},
   "outputs": [],
   "source": [
    "# Media\n",
    "df_n['Media Gasoleo A']=df_n['Gasoleo A'].mean()\n",
    "df_n['Media Gasoleo B']=df_n['Gasoleo B'].mean()\n",
    "df_n['Media Gasoleo Prem'] = df_n['Gasoleo Premium'].mean()\n",
    "df_n['Media Gasolina 95']=df_n['Gasolina 95 E5'].mean()\n",
    "df_n['Media Gasolina 98']=df_n['Gasolina 98 E5'].mean()\n"
   ]
  },
  {
   "cell_type": "code",
   "execution_count": 110,
   "id": "92b44a14",
   "metadata": {},
   "outputs": [],
   "source": [
    "# Desviación (eliminanos porque no aporta información va)\n",
    "#df_n['dev_Gasoleo A']= df_n['Gasoleo A'] - df_n['Media_Gasoleo A']\n",
    "#df_n['dev_Gasoleo B'] =df_n['Gasoleo B'] - df_n['Media_Gasoleo B']\n",
    "#df_n['dev_Gasoleo Prem'] =df_n['Gasoleo Premium'] - df_n['Media_Gasoleo Prem']\n",
    "#df_n['dev_Gasolina 95']=df_n['Gasolina 95 E5'] - df_n['Media_Gasolina 95']\n",
    "#df_n['dev_Gasolina 98']=df_n['Gasolina 98 E5']- df_n['Media_Gasolina 98']\n"
   ]
  },
  {
   "cell_type": "code",
   "execution_count": null,
   "id": "2209ce36",
   "metadata": {},
   "outputs": [],
   "source": []
  },
  {
   "cell_type": "code",
   "execution_count": 111,
   "id": "52c69724",
   "metadata": {
    "scrolled": true
   },
   "outputs": [
    {
     "data": {
      "text/html": [
       "<div>\n",
       "<style scoped>\n",
       "    .dataframe tbody tr th:only-of-type {\n",
       "        vertical-align: middle;\n",
       "    }\n",
       "\n",
       "    .dataframe tbody tr th {\n",
       "        vertical-align: top;\n",
       "    }\n",
       "\n",
       "    .dataframe thead th {\n",
       "        text-align: right;\n",
       "    }\n",
       "</style>\n",
       "<table border=\"1\" class=\"dataframe\">\n",
       "  <thead>\n",
       "    <tr style=\"text-align: right;\">\n",
       "      <th></th>\n",
       "      <th>Fecha</th>\n",
       "      <th>C.P.</th>\n",
       "      <th>Dirección</th>\n",
       "      <th>Horario</th>\n",
       "      <th>Latitud</th>\n",
       "      <th>Localidad</th>\n",
       "      <th>Longitud (WGS84)</th>\n",
       "      <th>Municipio</th>\n",
       "      <th>Gasoleo A</th>\n",
       "      <th>Gasoleo B</th>\n",
       "      <th>...</th>\n",
       "      <th>Proveedor de Servicio</th>\n",
       "      <th>IDEESS</th>\n",
       "      <th>IDMunicipio</th>\n",
       "      <th>IDProvincia</th>\n",
       "      <th>IDCCAA</th>\n",
       "      <th>Media Gasoleo A</th>\n",
       "      <th>Media Gasoleo B</th>\n",
       "      <th>Media Gasoleo Prem</th>\n",
       "      <th>Media Gasolina 95</th>\n",
       "      <th>Media Gasolina 98</th>\n",
       "    </tr>\n",
       "  </thead>\n",
       "  <tbody>\n",
       "    <tr>\n",
       "      <th>0</th>\n",
       "      <td>12/11/2022 9:29:39</td>\n",
       "      <td>02250</td>\n",
       "      <td>AVENIDA CASTILLA LA MANCHA, 26</td>\n",
       "      <td>L-D: 07:00-22:00</td>\n",
       "      <td>39,211417</td>\n",
       "      <td>ABENGIBRE</td>\n",
       "      <td>-1,539167</td>\n",
       "      <td>Abengibre</td>\n",
       "      <td>1.899</td>\n",
       "      <td>1.39</td>\n",
       "      <td>...</td>\n",
       "      <td>Nº 10.935</td>\n",
       "      <td>4375</td>\n",
       "      <td>52</td>\n",
       "      <td>02</td>\n",
       "      <td>07</td>\n",
       "      <td>1.918386</td>\n",
       "      <td>1.54157</td>\n",
       "      <td>2.010428</td>\n",
       "      <td>1.774055</td>\n",
       "      <td>1.925452</td>\n",
       "    </tr>\n",
       "    <tr>\n",
       "      <th>1</th>\n",
       "      <td>12/11/2022 9:29:39</td>\n",
       "      <td>02152</td>\n",
       "      <td>CR CM-332, 46,4</td>\n",
       "      <td>L-D: 7:00-23:00</td>\n",
       "      <td>39,100389</td>\n",
       "      <td>ALATOZ</td>\n",
       "      <td>-1,346083</td>\n",
       "      <td>Alatoz</td>\n",
       "      <td>2.040</td>\n",
       "      <td>NaN</td>\n",
       "      <td>...</td>\n",
       "      <td>REPSOL</td>\n",
       "      <td>5122</td>\n",
       "      <td>53</td>\n",
       "      <td>02</td>\n",
       "      <td>07</td>\n",
       "      <td>1.918386</td>\n",
       "      <td>1.54157</td>\n",
       "      <td>2.010428</td>\n",
       "      <td>1.774055</td>\n",
       "      <td>1.925452</td>\n",
       "    </tr>\n",
       "    <tr>\n",
       "      <th>2</th>\n",
       "      <td>12/11/2022 9:29:39</td>\n",
       "      <td>02001</td>\n",
       "      <td>AVENIDA 1º DE MAYO, S/N</td>\n",
       "      <td>L-S: 08:00-22:00; D: 09:00-21:00</td>\n",
       "      <td>38,985667</td>\n",
       "      <td>ALBACETE</td>\n",
       "      <td>-1,868500</td>\n",
       "      <td>Albacete</td>\n",
       "      <td>1.999</td>\n",
       "      <td>NaN</td>\n",
       "      <td>...</td>\n",
       "      <td>CARREFOUR</td>\n",
       "      <td>10765</td>\n",
       "      <td>54</td>\n",
       "      <td>02</td>\n",
       "      <td>07</td>\n",
       "      <td>1.918386</td>\n",
       "      <td>1.54157</td>\n",
       "      <td>2.010428</td>\n",
       "      <td>1.774055</td>\n",
       "      <td>1.925452</td>\n",
       "    </tr>\n",
       "    <tr>\n",
       "      <th>3</th>\n",
       "      <td>12/11/2022 9:29:39</td>\n",
       "      <td>02001</td>\n",
       "      <td>CALLE PRINCIPE DE ASTURIAS (POLÍGONO DE ROMICA...</td>\n",
       "      <td>L-D: 06:00-21:30</td>\n",
       "      <td>39,054694</td>\n",
       "      <td>ALBACETE</td>\n",
       "      <td>-1,832000</td>\n",
       "      <td>Albacete</td>\n",
       "      <td>1.949</td>\n",
       "      <td>NaN</td>\n",
       "      <td>...</td>\n",
       "      <td>BP ROMICA</td>\n",
       "      <td>12054</td>\n",
       "      <td>54</td>\n",
       "      <td>02</td>\n",
       "      <td>07</td>\n",
       "      <td>1.918386</td>\n",
       "      <td>1.54157</td>\n",
       "      <td>2.010428</td>\n",
       "      <td>1.774055</td>\n",
       "      <td>1.925452</td>\n",
       "    </tr>\n",
       "    <tr>\n",
       "      <th>4</th>\n",
       "      <td>12/11/2022 9:29:39</td>\n",
       "      <td>02001</td>\n",
       "      <td>CALLE FEDERICO GARCIA LORCA, 1</td>\n",
       "      <td>L-D: 24H</td>\n",
       "      <td>39,000861</td>\n",
       "      <td>ALBACETE</td>\n",
       "      <td>-1,849833</td>\n",
       "      <td>Albacete</td>\n",
       "      <td>1.877</td>\n",
       "      <td>NaN</td>\n",
       "      <td>...</td>\n",
       "      <td>PLENOIL</td>\n",
       "      <td>13933</td>\n",
       "      <td>54</td>\n",
       "      <td>02</td>\n",
       "      <td>07</td>\n",
       "      <td>1.918386</td>\n",
       "      <td>1.54157</td>\n",
       "      <td>2.010428</td>\n",
       "      <td>1.774055</td>\n",
       "      <td>1.925452</td>\n",
       "    </tr>\n",
       "  </tbody>\n",
       "</table>\n",
       "<p>5 rows × 24 columns</p>\n",
       "</div>"
      ],
      "text/plain": [
       "                Fecha   C.P.  \\\n",
       "0  12/11/2022 9:29:39  02250   \n",
       "1  12/11/2022 9:29:39  02152   \n",
       "2  12/11/2022 9:29:39  02001   \n",
       "3  12/11/2022 9:29:39  02001   \n",
       "4  12/11/2022 9:29:39  02001   \n",
       "\n",
       "                                           Dirección  \\\n",
       "0                     AVENIDA CASTILLA LA MANCHA, 26   \n",
       "1                                    CR CM-332, 46,4   \n",
       "2                            AVENIDA 1º DE MAYO, S/N   \n",
       "3  CALLE PRINCIPE DE ASTURIAS (POLÍGONO DE ROMICA...   \n",
       "4                     CALLE FEDERICO GARCIA LORCA, 1   \n",
       "\n",
       "                            Horario    Latitud  Localidad Longitud (WGS84)  \\\n",
       "0                  L-D: 07:00-22:00  39,211417  ABENGIBRE        -1,539167   \n",
       "1                   L-D: 7:00-23:00  39,100389     ALATOZ        -1,346083   \n",
       "2  L-S: 08:00-22:00; D: 09:00-21:00  38,985667   ALBACETE        -1,868500   \n",
       "3                  L-D: 06:00-21:30  39,054694   ALBACETE        -1,832000   \n",
       "4                          L-D: 24H  39,000861   ALBACETE        -1,849833   \n",
       "\n",
       "   Municipio  Gasoleo A  Gasoleo B  ...  Proveedor de Servicio  IDEESS  \\\n",
       "0  Abengibre      1.899       1.39  ...              Nº 10.935    4375   \n",
       "1     Alatoz      2.040        NaN  ...                 REPSOL    5122   \n",
       "2   Albacete      1.999        NaN  ...              CARREFOUR   10765   \n",
       "3   Albacete      1.949        NaN  ...              BP ROMICA   12054   \n",
       "4   Albacete      1.877        NaN  ...                PLENOIL   13933   \n",
       "\n",
       "   IDMunicipio IDProvincia IDCCAA Media Gasoleo A Media Gasoleo B  \\\n",
       "0           52          02     07        1.918386         1.54157   \n",
       "1           53          02     07        1.918386         1.54157   \n",
       "2           54          02     07        1.918386         1.54157   \n",
       "3           54          02     07        1.918386         1.54157   \n",
       "4           54          02     07        1.918386         1.54157   \n",
       "\n",
       "  Media Gasoleo Prem Media Gasolina 95  Media Gasolina 98  \n",
       "0           2.010428          1.774055           1.925452  \n",
       "1           2.010428          1.774055           1.925452  \n",
       "2           2.010428          1.774055           1.925452  \n",
       "3           2.010428          1.774055           1.925452  \n",
       "4           2.010428          1.774055           1.925452  \n",
       "\n",
       "[5 rows x 24 columns]"
      ]
     },
     "execution_count": 111,
     "metadata": {},
     "output_type": "execute_result"
    }
   ],
   "source": [
    "df_n.head()"
   ]
  },
  {
   "cell_type": "code",
   "execution_count": 112,
   "id": "fbc17dd0",
   "metadata": {},
   "outputs": [
    {
     "name": "stdout",
     "output_type": "stream",
     "text": [
      "<class 'pandas.core.frame.DataFrame'>\n",
      "RangeIndex: 11789 entries, 0 to 11788\n",
      "Data columns (total 24 columns):\n",
      " #   Column                 Non-Null Count  Dtype  \n",
      "---  ------                 --------------  -----  \n",
      " 0   Fecha                  11789 non-null  object \n",
      " 1   C.P.                   11789 non-null  object \n",
      " 2   Dirección              11789 non-null  object \n",
      " 3   Horario                11789 non-null  object \n",
      " 4   Latitud                11789 non-null  object \n",
      " 5   Localidad              11789 non-null  object \n",
      " 6   Longitud (WGS84)       11789 non-null  object \n",
      " 7   Municipio              11789 non-null  object \n",
      " 8   Gasoleo A              11445 non-null  float64\n",
      " 9   Gasoleo B              3006 non-null   float64\n",
      " 10  Gasoleo Premium        7510 non-null   float64\n",
      " 11  Gasolina 95 E5         10640 non-null  float64\n",
      " 12  Gasolina 98 E5         5950 non-null   float64\n",
      " 13  Provincia              11789 non-null  object \n",
      " 14  Proveedor de Servicio  11789 non-null  object \n",
      " 15  IDEESS                 11789 non-null  object \n",
      " 16  IDMunicipio            11789 non-null  object \n",
      " 17  IDProvincia            11789 non-null  object \n",
      " 18  IDCCAA                 11789 non-null  object \n",
      " 19  Media Gasoleo A        11789 non-null  float64\n",
      " 20  Media Gasoleo B        11789 non-null  float64\n",
      " 21  Media Gasoleo Prem     11789 non-null  float64\n",
      " 22  Media Gasolina 95      11789 non-null  float64\n",
      " 23  Media Gasolina 98      11789 non-null  float64\n",
      "dtypes: float64(10), object(14)\n",
      "memory usage: 2.2+ MB\n"
     ]
    }
   ],
   "source": [
    "df_n.info()"
   ]
  },
  {
   "cell_type": "code",
   "execution_count": 113,
   "id": "ea5c62a5",
   "metadata": {},
   "outputs": [
    {
     "data": {
      "text/html": [
       "<div>\n",
       "<style scoped>\n",
       "    .dataframe tbody tr th:only-of-type {\n",
       "        vertical-align: middle;\n",
       "    }\n",
       "\n",
       "    .dataframe tbody tr th {\n",
       "        vertical-align: top;\n",
       "    }\n",
       "\n",
       "    .dataframe thead th {\n",
       "        text-align: right;\n",
       "    }\n",
       "</style>\n",
       "<table border=\"1\" class=\"dataframe\">\n",
       "  <thead>\n",
       "    <tr style=\"text-align: right;\">\n",
       "      <th></th>\n",
       "      <th>Fecha</th>\n",
       "      <th>Horario</th>\n",
       "      <th>C.P.</th>\n",
       "      <th>Provincia</th>\n",
       "      <th>Municipio</th>\n",
       "      <th>Localidad</th>\n",
       "      <th>Dirección</th>\n",
       "      <th>Proveedor de Servicio</th>\n",
       "      <th>Gasoleo A</th>\n",
       "      <th>Gasoleo B</th>\n",
       "      <th>Gasoleo Premium</th>\n",
       "      <th>Gasolina 95 E5</th>\n",
       "      <th>Gasolina 98 E5</th>\n",
       "      <th>Media Gasoleo A</th>\n",
       "      <th>Media Gasoleo B</th>\n",
       "      <th>Media Gasoleo Prem</th>\n",
       "      <th>Media Gasolina 95</th>\n",
       "      <th>Media Gasolina 98</th>\n",
       "    </tr>\n",
       "  </thead>\n",
       "  <tbody>\n",
       "    <tr>\n",
       "      <th>0</th>\n",
       "      <td>12/11/2022 9:29:39</td>\n",
       "      <td>L-D: 07:00-22:00</td>\n",
       "      <td>02250</td>\n",
       "      <td>ALBACETE</td>\n",
       "      <td>Abengibre</td>\n",
       "      <td>ABENGIBRE</td>\n",
       "      <td>AVENIDA CASTILLA LA MANCHA, 26</td>\n",
       "      <td>Nº 10.935</td>\n",
       "      <td>1.899</td>\n",
       "      <td>1.390</td>\n",
       "      <td>NaN</td>\n",
       "      <td>1.749</td>\n",
       "      <td>NaN</td>\n",
       "      <td>1.918386</td>\n",
       "      <td>1.54157</td>\n",
       "      <td>2.010428</td>\n",
       "      <td>1.774055</td>\n",
       "      <td>1.925452</td>\n",
       "    </tr>\n",
       "    <tr>\n",
       "      <th>1</th>\n",
       "      <td>12/11/2022 9:29:39</td>\n",
       "      <td>L-D: 7:00-23:00</td>\n",
       "      <td>02152</td>\n",
       "      <td>ALBACETE</td>\n",
       "      <td>Alatoz</td>\n",
       "      <td>ALATOZ</td>\n",
       "      <td>CR CM-332, 46,4</td>\n",
       "      <td>REPSOL</td>\n",
       "      <td>2.040</td>\n",
       "      <td>NaN</td>\n",
       "      <td>2.300</td>\n",
       "      <td>1.909</td>\n",
       "      <td>2.200</td>\n",
       "      <td>1.918386</td>\n",
       "      <td>1.54157</td>\n",
       "      <td>2.010428</td>\n",
       "      <td>1.774055</td>\n",
       "      <td>1.925452</td>\n",
       "    </tr>\n",
       "    <tr>\n",
       "      <th>2</th>\n",
       "      <td>12/11/2022 9:29:39</td>\n",
       "      <td>L-S: 08:00-22:00; D: 09:00-21:00</td>\n",
       "      <td>02001</td>\n",
       "      <td>ALBACETE</td>\n",
       "      <td>Albacete</td>\n",
       "      <td>ALBACETE</td>\n",
       "      <td>AVENIDA 1º DE MAYO, S/N</td>\n",
       "      <td>CARREFOUR</td>\n",
       "      <td>1.999</td>\n",
       "      <td>NaN</td>\n",
       "      <td>2.039</td>\n",
       "      <td>1.849</td>\n",
       "      <td>1.949</td>\n",
       "      <td>1.918386</td>\n",
       "      <td>1.54157</td>\n",
       "      <td>2.010428</td>\n",
       "      <td>1.774055</td>\n",
       "      <td>1.925452</td>\n",
       "    </tr>\n",
       "    <tr>\n",
       "      <th>3</th>\n",
       "      <td>12/11/2022 9:29:39</td>\n",
       "      <td>L-D: 06:00-21:30</td>\n",
       "      <td>02001</td>\n",
       "      <td>ALBACETE</td>\n",
       "      <td>Albacete</td>\n",
       "      <td>ALBACETE</td>\n",
       "      <td>CALLE PRINCIPE DE ASTURIAS (POLÍGONO DE ROMICA...</td>\n",
       "      <td>BP ROMICA</td>\n",
       "      <td>1.949</td>\n",
       "      <td>NaN</td>\n",
       "      <td>2.039</td>\n",
       "      <td>1.809</td>\n",
       "      <td>1.951</td>\n",
       "      <td>1.918386</td>\n",
       "      <td>1.54157</td>\n",
       "      <td>2.010428</td>\n",
       "      <td>1.774055</td>\n",
       "      <td>1.925452</td>\n",
       "    </tr>\n",
       "    <tr>\n",
       "      <th>4</th>\n",
       "      <td>12/11/2022 9:29:39</td>\n",
       "      <td>L-D: 24H</td>\n",
       "      <td>02001</td>\n",
       "      <td>ALBACETE</td>\n",
       "      <td>Albacete</td>\n",
       "      <td>ALBACETE</td>\n",
       "      <td>CALLE FEDERICO GARCIA LORCA, 1</td>\n",
       "      <td>PLENOIL</td>\n",
       "      <td>1.877</td>\n",
       "      <td>NaN</td>\n",
       "      <td>NaN</td>\n",
       "      <td>1.697</td>\n",
       "      <td>NaN</td>\n",
       "      <td>1.918386</td>\n",
       "      <td>1.54157</td>\n",
       "      <td>2.010428</td>\n",
       "      <td>1.774055</td>\n",
       "      <td>1.925452</td>\n",
       "    </tr>\n",
       "    <tr>\n",
       "      <th>...</th>\n",
       "      <td>...</td>\n",
       "      <td>...</td>\n",
       "      <td>...</td>\n",
       "      <td>...</td>\n",
       "      <td>...</td>\n",
       "      <td>...</td>\n",
       "      <td>...</td>\n",
       "      <td>...</td>\n",
       "      <td>...</td>\n",
       "      <td>...</td>\n",
       "      <td>...</td>\n",
       "      <td>...</td>\n",
       "      <td>...</td>\n",
       "      <td>...</td>\n",
       "      <td>...</td>\n",
       "      <td>...</td>\n",
       "      <td>...</td>\n",
       "      <td>...</td>\n",
       "    </tr>\n",
       "    <tr>\n",
       "      <th>11784</th>\n",
       "      <td>12/11/2022 9:29:39</td>\n",
       "      <td>L-D: 24H</td>\n",
       "      <td>50197</td>\n",
       "      <td>ZARAGOZA</td>\n",
       "      <td>Zaragoza</td>\n",
       "      <td>ZARAGOZA</td>\n",
       "      <td>POLIGONO CALLE TURIASO, 31</td>\n",
       "      <td>NOIL</td>\n",
       "      <td>1.969</td>\n",
       "      <td>NaN</td>\n",
       "      <td>NaN</td>\n",
       "      <td>NaN</td>\n",
       "      <td>NaN</td>\n",
       "      <td>1.918386</td>\n",
       "      <td>1.54157</td>\n",
       "      <td>2.010428</td>\n",
       "      <td>1.774055</td>\n",
       "      <td>1.925452</td>\n",
       "    </tr>\n",
       "    <tr>\n",
       "      <th>11785</th>\n",
       "      <td>12/11/2022 9:29:39</td>\n",
       "      <td>L-D: 24H</td>\n",
       "      <td>50197</td>\n",
       "      <td>ZARAGOZA</td>\n",
       "      <td>Zaragoza</td>\n",
       "      <td>ZARAGOZA</td>\n",
       "      <td>RONDA FERIA DE MUESTRAS, DE LA, 20</td>\n",
       "      <td>IDS</td>\n",
       "      <td>1.969</td>\n",
       "      <td>1.620</td>\n",
       "      <td>NaN</td>\n",
       "      <td>NaN</td>\n",
       "      <td>NaN</td>\n",
       "      <td>1.918386</td>\n",
       "      <td>1.54157</td>\n",
       "      <td>2.010428</td>\n",
       "      <td>1.774055</td>\n",
       "      <td>1.925452</td>\n",
       "    </tr>\n",
       "    <tr>\n",
       "      <th>11786</th>\n",
       "      <td>12/11/2022 9:29:39</td>\n",
       "      <td>L-D: 06:00-22:00</td>\n",
       "      <td>50800</td>\n",
       "      <td>ZARAGOZA</td>\n",
       "      <td>Zuera</td>\n",
       "      <td>ZUERA</td>\n",
       "      <td>CARRETERA N-330A KM. 24,000</td>\n",
       "      <td>REPSOL</td>\n",
       "      <td>1.919</td>\n",
       "      <td>1.519</td>\n",
       "      <td>1.969</td>\n",
       "      <td>1.779</td>\n",
       "      <td>1.909</td>\n",
       "      <td>1.918386</td>\n",
       "      <td>1.54157</td>\n",
       "      <td>2.010428</td>\n",
       "      <td>1.774055</td>\n",
       "      <td>1.925452</td>\n",
       "    </tr>\n",
       "    <tr>\n",
       "      <th>11787</th>\n",
       "      <td>12/11/2022 9:29:39</td>\n",
       "      <td>L-D: 24H</td>\n",
       "      <td>50800</td>\n",
       "      <td>ZARAGOZA</td>\n",
       "      <td>Zuera</td>\n",
       "      <td>ZUERA</td>\n",
       "      <td>CALLE AUSTRIA, 11,17</td>\n",
       "      <td>AN ENERGETICOS ZUERA</td>\n",
       "      <td>1.866</td>\n",
       "      <td>1.395</td>\n",
       "      <td>1.906</td>\n",
       "      <td>1.747</td>\n",
       "      <td>NaN</td>\n",
       "      <td>1.918386</td>\n",
       "      <td>1.54157</td>\n",
       "      <td>2.010428</td>\n",
       "      <td>1.774055</td>\n",
       "      <td>1.925452</td>\n",
       "    </tr>\n",
       "    <tr>\n",
       "      <th>11788</th>\n",
       "      <td>12/11/2022 9:29:39</td>\n",
       "      <td>L-D: 24H</td>\n",
       "      <td>50810</td>\n",
       "      <td>ZARAGOZA</td>\n",
       "      <td>Zuera</td>\n",
       "      <td>ONTINAR DE SALZ</td>\n",
       "      <td>CALLE COOPERATIVA, 2</td>\n",
       "      <td>COOPERATIVA SAN ISIDRO</td>\n",
       "      <td>1.899</td>\n",
       "      <td>1.449</td>\n",
       "      <td>1.939</td>\n",
       "      <td>1.739</td>\n",
       "      <td>NaN</td>\n",
       "      <td>1.918386</td>\n",
       "      <td>1.54157</td>\n",
       "      <td>2.010428</td>\n",
       "      <td>1.774055</td>\n",
       "      <td>1.925452</td>\n",
       "    </tr>\n",
       "  </tbody>\n",
       "</table>\n",
       "<p>11789 rows × 18 columns</p>\n",
       "</div>"
      ],
      "text/plain": [
       "                    Fecha                           Horario   C.P. Provincia  \\\n",
       "0      12/11/2022 9:29:39                  L-D: 07:00-22:00  02250  ALBACETE   \n",
       "1      12/11/2022 9:29:39                   L-D: 7:00-23:00  02152  ALBACETE   \n",
       "2      12/11/2022 9:29:39  L-S: 08:00-22:00; D: 09:00-21:00  02001  ALBACETE   \n",
       "3      12/11/2022 9:29:39                  L-D: 06:00-21:30  02001  ALBACETE   \n",
       "4      12/11/2022 9:29:39                          L-D: 24H  02001  ALBACETE   \n",
       "...                   ...                               ...    ...       ...   \n",
       "11784  12/11/2022 9:29:39                          L-D: 24H  50197  ZARAGOZA   \n",
       "11785  12/11/2022 9:29:39                          L-D: 24H  50197  ZARAGOZA   \n",
       "11786  12/11/2022 9:29:39                  L-D: 06:00-22:00  50800  ZARAGOZA   \n",
       "11787  12/11/2022 9:29:39                          L-D: 24H  50800  ZARAGOZA   \n",
       "11788  12/11/2022 9:29:39                          L-D: 24H  50810  ZARAGOZA   \n",
       "\n",
       "       Municipio        Localidad  \\\n",
       "0      Abengibre        ABENGIBRE   \n",
       "1         Alatoz           ALATOZ   \n",
       "2       Albacete         ALBACETE   \n",
       "3       Albacete         ALBACETE   \n",
       "4       Albacete         ALBACETE   \n",
       "...          ...              ...   \n",
       "11784   Zaragoza         ZARAGOZA   \n",
       "11785   Zaragoza         ZARAGOZA   \n",
       "11786      Zuera            ZUERA   \n",
       "11787      Zuera            ZUERA   \n",
       "11788      Zuera  ONTINAR DE SALZ   \n",
       "\n",
       "                                               Dirección  \\\n",
       "0                         AVENIDA CASTILLA LA MANCHA, 26   \n",
       "1                                        CR CM-332, 46,4   \n",
       "2                                AVENIDA 1º DE MAYO, S/N   \n",
       "3      CALLE PRINCIPE DE ASTURIAS (POLÍGONO DE ROMICA...   \n",
       "4                         CALLE FEDERICO GARCIA LORCA, 1   \n",
       "...                                                  ...   \n",
       "11784                         POLIGONO CALLE TURIASO, 31   \n",
       "11785                 RONDA FERIA DE MUESTRAS, DE LA, 20   \n",
       "11786                        CARRETERA N-330A KM. 24,000   \n",
       "11787                               CALLE AUSTRIA, 11,17   \n",
       "11788                               CALLE COOPERATIVA, 2   \n",
       "\n",
       "        Proveedor de Servicio  Gasoleo A  Gasoleo B  Gasoleo Premium  \\\n",
       "0                   Nº 10.935      1.899      1.390              NaN   \n",
       "1                      REPSOL      2.040        NaN            2.300   \n",
       "2                   CARREFOUR      1.999        NaN            2.039   \n",
       "3                   BP ROMICA      1.949        NaN            2.039   \n",
       "4                     PLENOIL      1.877        NaN              NaN   \n",
       "...                       ...        ...        ...              ...   \n",
       "11784                    NOIL      1.969        NaN              NaN   \n",
       "11785                     IDS      1.969      1.620              NaN   \n",
       "11786                  REPSOL      1.919      1.519            1.969   \n",
       "11787    AN ENERGETICOS ZUERA      1.866      1.395            1.906   \n",
       "11788  COOPERATIVA SAN ISIDRO      1.899      1.449            1.939   \n",
       "\n",
       "       Gasolina 95 E5  Gasolina 98 E5  Media Gasoleo A  Media Gasoleo B  \\\n",
       "0               1.749             NaN         1.918386          1.54157   \n",
       "1               1.909           2.200         1.918386          1.54157   \n",
       "2               1.849           1.949         1.918386          1.54157   \n",
       "3               1.809           1.951         1.918386          1.54157   \n",
       "4               1.697             NaN         1.918386          1.54157   \n",
       "...               ...             ...              ...              ...   \n",
       "11784             NaN             NaN         1.918386          1.54157   \n",
       "11785             NaN             NaN         1.918386          1.54157   \n",
       "11786           1.779           1.909         1.918386          1.54157   \n",
       "11787           1.747             NaN         1.918386          1.54157   \n",
       "11788           1.739             NaN         1.918386          1.54157   \n",
       "\n",
       "       Media Gasoleo Prem  Media Gasolina 95  Media Gasolina 98  \n",
       "0                2.010428           1.774055           1.925452  \n",
       "1                2.010428           1.774055           1.925452  \n",
       "2                2.010428           1.774055           1.925452  \n",
       "3                2.010428           1.774055           1.925452  \n",
       "4                2.010428           1.774055           1.925452  \n",
       "...                   ...                ...                ...  \n",
       "11784            2.010428           1.774055           1.925452  \n",
       "11785            2.010428           1.774055           1.925452  \n",
       "11786            2.010428           1.774055           1.925452  \n",
       "11787            2.010428           1.774055           1.925452  \n",
       "11788            2.010428           1.774055           1.925452  \n",
       "\n",
       "[11789 rows x 18 columns]"
      ]
     },
     "execution_count": 113,
     "metadata": {},
     "output_type": "execute_result"
    }
   ],
   "source": [
    "#Ordenamos columnas\n",
    "df_n = df_n[['Fecha', 'Horario', 'C.P.','Provincia','Municipio','Localidad', 'Dirección', 'Proveedor de Servicio', 'Gasoleo A',\n",
    "             'Gasoleo B', 'Gasoleo Premium', 'Gasolina 95 E5', 'Gasolina 98 E5', 'Media Gasoleo A',\n",
    "             'Media Gasoleo B', 'Media Gasoleo Prem', 'Media Gasolina 95', 'Media Gasolina 98']]\n",
    "df_n"
   ]
  },
  {
   "cell_type": "code",
   "execution_count": 114,
   "id": "5f465a5c",
   "metadata": {},
   "outputs": [],
   "source": [
    "# Guardamos df original para sucesion de tiempo\n",
    "df_n.to_csv('df_sample.csv', index=False)"
   ]
  },
  {
   "cell_type": "code",
   "execution_count": 115,
   "id": "32cb382f",
   "metadata": {},
   "outputs": [
    {
     "name": "stdout",
     "output_type": "stream",
     "text": [
      "<class 'pandas.core.frame.DataFrame'>\n",
      "RangeIndex: 11789 entries, 0 to 11788\n",
      "Data columns (total 18 columns):\n",
      " #   Column                 Non-Null Count  Dtype  \n",
      "---  ------                 --------------  -----  \n",
      " 0   Fecha                  11789 non-null  object \n",
      " 1   Horario                11789 non-null  object \n",
      " 2   C.P.                   11789 non-null  object \n",
      " 3   Provincia              11789 non-null  object \n",
      " 4   Municipio              11789 non-null  object \n",
      " 5   Localidad              11789 non-null  object \n",
      " 6   Dirección              11789 non-null  object \n",
      " 7   Proveedor de Servicio  11789 non-null  object \n",
      " 8   Gasoleo A              11445 non-null  float64\n",
      " 9   Gasoleo B              3006 non-null   float64\n",
      " 10  Gasoleo Premium        7510 non-null   float64\n",
      " 11  Gasolina 95 E5         10640 non-null  float64\n",
      " 12  Gasolina 98 E5         5950 non-null   float64\n",
      " 13  Media Gasoleo A        11789 non-null  float64\n",
      " 14  Media Gasoleo B        11789 non-null  float64\n",
      " 15  Media Gasoleo Prem     11789 non-null  float64\n",
      " 16  Media Gasolina 95      11789 non-null  float64\n",
      " 17  Media Gasolina 98      11789 non-null  float64\n",
      "dtypes: float64(10), object(8)\n",
      "memory usage: 1.6+ MB\n"
     ]
    }
   ],
   "source": [
    "df_n.info()"
   ]
  },
  {
   "cell_type": "code",
   "execution_count": 116,
   "id": "bca523aa",
   "metadata": {},
   "outputs": [
    {
     "name": "stdout",
     "output_type": "stream",
     "text": [
      "<class 'pandas.core.series.Series'>\n"
     ]
    }
   ],
   "source": [
    "x = df_n['C.P.']\n",
    "print(type(x))\n"
   ]
  },
  {
   "cell_type": "markdown",
   "id": "9ece3cb6",
   "metadata": {},
   "source": [
    "---\n",
    "Step4\n",
    "\n",
    "\n",
    "# Desarrollo Funciones "
   ]
  },
  {
   "cell_type": "code",
   "execution_count": 117,
   "id": "a2640cea",
   "metadata": {},
   "outputs": [],
   "source": [
    "# Analisis de Funciones"
   ]
  },
  {
   "cell_type": "code",
   "execution_count": 118,
   "id": "6a6ddce7",
   "metadata": {
    "scrolled": true
   },
   "outputs": [
    {
     "data": {
      "text/html": [
       "<div>\n",
       "<style scoped>\n",
       "    .dataframe tbody tr th:only-of-type {\n",
       "        vertical-align: middle;\n",
       "    }\n",
       "\n",
       "    .dataframe tbody tr th {\n",
       "        vertical-align: top;\n",
       "    }\n",
       "\n",
       "    .dataframe thead th {\n",
       "        text-align: right;\n",
       "    }\n",
       "</style>\n",
       "<table border=\"1\" class=\"dataframe\">\n",
       "  <thead>\n",
       "    <tr style=\"text-align: right;\">\n",
       "      <th></th>\n",
       "      <th>Fecha</th>\n",
       "      <th>Horario</th>\n",
       "      <th>C.P.</th>\n",
       "      <th>Provincia</th>\n",
       "      <th>Municipio</th>\n",
       "      <th>Localidad</th>\n",
       "      <th>Dirección</th>\n",
       "      <th>Proveedor de Servicio</th>\n",
       "      <th>Gasoleo A</th>\n",
       "      <th>Gasoleo B</th>\n",
       "      <th>Gasoleo Premium</th>\n",
       "      <th>Gasolina 95 E5</th>\n",
       "      <th>Gasolina 98 E5</th>\n",
       "      <th>Media Gasoleo A</th>\n",
       "      <th>Media Gasoleo B</th>\n",
       "      <th>Media Gasoleo Prem</th>\n",
       "      <th>Media Gasolina 95</th>\n",
       "      <th>Media Gasolina 98</th>\n",
       "    </tr>\n",
       "  </thead>\n",
       "  <tbody>\n",
       "    <tr>\n",
       "      <th>7217</th>\n",
       "      <td>12/11/2022 9:29:39</td>\n",
       "      <td>L-D: 24H</td>\n",
       "      <td>28760</td>\n",
       "      <td>MADRID</td>\n",
       "      <td>Tres Cantos</td>\n",
       "      <td>TRES CANTOS</td>\n",
       "      <td>CL AV DE LA INDUSTRIA, 58</td>\n",
       "      <td>REPSOL</td>\n",
       "      <td>1.969</td>\n",
       "      <td>NaN</td>\n",
       "      <td>2.069</td>\n",
       "      <td>1.779</td>\n",
       "      <td>1.929</td>\n",
       "      <td>1.918386</td>\n",
       "      <td>1.54157</td>\n",
       "      <td>2.010428</td>\n",
       "      <td>1.774055</td>\n",
       "      <td>1.925452</td>\n",
       "    </tr>\n",
       "    <tr>\n",
       "      <th>7218</th>\n",
       "      <td>12/11/2022 9:29:39</td>\n",
       "      <td>L-D: 24H</td>\n",
       "      <td>28760</td>\n",
       "      <td>MADRID</td>\n",
       "      <td>Tres Cantos</td>\n",
       "      <td>TRES CANTOS</td>\n",
       "      <td>AVENIDA INDUSTRIA, 44</td>\n",
       "      <td>BALLENOIL</td>\n",
       "      <td>1.769</td>\n",
       "      <td>NaN</td>\n",
       "      <td>1.779</td>\n",
       "      <td>1.589</td>\n",
       "      <td>NaN</td>\n",
       "      <td>1.918386</td>\n",
       "      <td>1.54157</td>\n",
       "      <td>2.010428</td>\n",
       "      <td>1.774055</td>\n",
       "      <td>1.925452</td>\n",
       "    </tr>\n",
       "    <tr>\n",
       "      <th>7219</th>\n",
       "      <td>12/11/2022 9:29:39</td>\n",
       "      <td>L-D: 06:00-22:00</td>\n",
       "      <td>28760</td>\n",
       "      <td>MADRID</td>\n",
       "      <td>Tres Cantos</td>\n",
       "      <td>TRES CANTOS</td>\n",
       "      <td>CL AVDA DE LA INDUSTRIA, 33</td>\n",
       "      <td>REPSOL</td>\n",
       "      <td>1.949</td>\n",
       "      <td>NaN</td>\n",
       "      <td>2.039</td>\n",
       "      <td>1.789</td>\n",
       "      <td>1.939</td>\n",
       "      <td>1.918386</td>\n",
       "      <td>1.54157</td>\n",
       "      <td>2.010428</td>\n",
       "      <td>1.774055</td>\n",
       "      <td>1.925452</td>\n",
       "    </tr>\n",
       "    <tr>\n",
       "      <th>7220</th>\n",
       "      <td>12/11/2022 9:29:39</td>\n",
       "      <td>L-D: 24H</td>\n",
       "      <td>28760</td>\n",
       "      <td>MADRID</td>\n",
       "      <td>Tres Cantos</td>\n",
       "      <td>TRES CANTOS</td>\n",
       "      <td>AVENIDA INDUSTRIA (DE LA), S/N</td>\n",
       "      <td>BP TRES CANTOS</td>\n",
       "      <td>1.949</td>\n",
       "      <td>NaN</td>\n",
       "      <td>2.039</td>\n",
       "      <td>1.789</td>\n",
       "      <td>1.931</td>\n",
       "      <td>1.918386</td>\n",
       "      <td>1.54157</td>\n",
       "      <td>2.010428</td>\n",
       "      <td>1.774055</td>\n",
       "      <td>1.925452</td>\n",
       "    </tr>\n",
       "    <tr>\n",
       "      <th>7221</th>\n",
       "      <td>12/11/2022 9:29:39</td>\n",
       "      <td>L-D: 06:00-00:00</td>\n",
       "      <td>28760</td>\n",
       "      <td>MADRID</td>\n",
       "      <td>Tres Cantos</td>\n",
       "      <td>TRES CANTOS</td>\n",
       "      <td>CALLE YUNQUE, 6</td>\n",
       "      <td>CEPSA</td>\n",
       "      <td>1.862</td>\n",
       "      <td>NaN</td>\n",
       "      <td>1.928</td>\n",
       "      <td>1.692</td>\n",
       "      <td>1.844</td>\n",
       "      <td>1.918386</td>\n",
       "      <td>1.54157</td>\n",
       "      <td>2.010428</td>\n",
       "      <td>1.774055</td>\n",
       "      <td>1.925452</td>\n",
       "    </tr>\n",
       "    <tr>\n",
       "      <th>7222</th>\n",
       "      <td>12/11/2022 9:29:39</td>\n",
       "      <td>L-V: 08:00-20:00</td>\n",
       "      <td>28760</td>\n",
       "      <td>MADRID</td>\n",
       "      <td>Tres Cantos</td>\n",
       "      <td>TRES CANTOS</td>\n",
       "      <td>CL AVENIDA ARTESANOS, 40</td>\n",
       "      <td>REPSOL</td>\n",
       "      <td>1.969</td>\n",
       "      <td>NaN</td>\n",
       "      <td>NaN</td>\n",
       "      <td>1.779</td>\n",
       "      <td>1.929</td>\n",
       "      <td>1.918386</td>\n",
       "      <td>1.54157</td>\n",
       "      <td>2.010428</td>\n",
       "      <td>1.774055</td>\n",
       "      <td>1.925452</td>\n",
       "    </tr>\n",
       "    <tr>\n",
       "      <th>7223</th>\n",
       "      <td>12/11/2022 9:29:39</td>\n",
       "      <td>L-D: 24H</td>\n",
       "      <td>28760</td>\n",
       "      <td>MADRID</td>\n",
       "      <td>Tres Cantos</td>\n",
       "      <td>TRES CANTOS</td>\n",
       "      <td>AVENIDA INDUSTRIA (DE LA), 52</td>\n",
       "      <td>PLENOIL</td>\n",
       "      <td>1.769</td>\n",
       "      <td>NaN</td>\n",
       "      <td>NaN</td>\n",
       "      <td>1.589</td>\n",
       "      <td>NaN</td>\n",
       "      <td>1.918386</td>\n",
       "      <td>1.54157</td>\n",
       "      <td>2.010428</td>\n",
       "      <td>1.774055</td>\n",
       "      <td>1.925452</td>\n",
       "    </tr>\n",
       "  </tbody>\n",
       "</table>\n",
       "</div>"
      ],
      "text/plain": [
       "                   Fecha           Horario   C.P. Provincia    Municipio  \\\n",
       "7217  12/11/2022 9:29:39          L-D: 24H  28760    MADRID  Tres Cantos   \n",
       "7218  12/11/2022 9:29:39          L-D: 24H  28760    MADRID  Tres Cantos   \n",
       "7219  12/11/2022 9:29:39  L-D: 06:00-22:00  28760    MADRID  Tres Cantos   \n",
       "7220  12/11/2022 9:29:39          L-D: 24H  28760    MADRID  Tres Cantos   \n",
       "7221  12/11/2022 9:29:39  L-D: 06:00-00:00  28760    MADRID  Tres Cantos   \n",
       "7222  12/11/2022 9:29:39  L-V: 08:00-20:00  28760    MADRID  Tres Cantos   \n",
       "7223  12/11/2022 9:29:39          L-D: 24H  28760    MADRID  Tres Cantos   \n",
       "\n",
       "        Localidad                       Dirección Proveedor de Servicio  \\\n",
       "7217  TRES CANTOS       CL AV DE LA INDUSTRIA, 58                REPSOL   \n",
       "7218  TRES CANTOS           AVENIDA INDUSTRIA, 44             BALLENOIL   \n",
       "7219  TRES CANTOS     CL AVDA DE LA INDUSTRIA, 33                REPSOL   \n",
       "7220  TRES CANTOS  AVENIDA INDUSTRIA (DE LA), S/N        BP TRES CANTOS   \n",
       "7221  TRES CANTOS                 CALLE YUNQUE, 6                 CEPSA   \n",
       "7222  TRES CANTOS        CL AVENIDA ARTESANOS, 40                REPSOL   \n",
       "7223  TRES CANTOS   AVENIDA INDUSTRIA (DE LA), 52               PLENOIL   \n",
       "\n",
       "      Gasoleo A  Gasoleo B  Gasoleo Premium  Gasolina 95 E5  Gasolina 98 E5  \\\n",
       "7217      1.969        NaN            2.069           1.779           1.929   \n",
       "7218      1.769        NaN            1.779           1.589             NaN   \n",
       "7219      1.949        NaN            2.039           1.789           1.939   \n",
       "7220      1.949        NaN            2.039           1.789           1.931   \n",
       "7221      1.862        NaN            1.928           1.692           1.844   \n",
       "7222      1.969        NaN              NaN           1.779           1.929   \n",
       "7223      1.769        NaN              NaN           1.589             NaN   \n",
       "\n",
       "      Media Gasoleo A  Media Gasoleo B  Media Gasoleo Prem  Media Gasolina 95  \\\n",
       "7217         1.918386          1.54157            2.010428           1.774055   \n",
       "7218         1.918386          1.54157            2.010428           1.774055   \n",
       "7219         1.918386          1.54157            2.010428           1.774055   \n",
       "7220         1.918386          1.54157            2.010428           1.774055   \n",
       "7221         1.918386          1.54157            2.010428           1.774055   \n",
       "7222         1.918386          1.54157            2.010428           1.774055   \n",
       "7223         1.918386          1.54157            2.010428           1.774055   \n",
       "\n",
       "      Media Gasolina 98  \n",
       "7217           1.925452  \n",
       "7218           1.925452  \n",
       "7219           1.925452  \n",
       "7220           1.925452  \n",
       "7221           1.925452  \n",
       "7222           1.925452  \n",
       "7223           1.925452  "
      ]
     },
     "execution_count": 118,
     "metadata": {},
     "output_type": "execute_result"
    }
   ],
   "source": [
    "# Analizar df_n usando .loc()\n",
    "\n",
    "df_n[df_n['C.P.'] == '28760'] "
   ]
  },
  {
   "cell_type": "code",
   "execution_count": 119,
   "id": "d4a411b2",
   "metadata": {},
   "outputs": [
    {
     "data": {
      "text/plain": [
       "Gasoleo A    1.319\n",
       "dtype: float64"
      ]
     },
     "execution_count": 119,
     "metadata": {},
     "output_type": "execute_result"
    }
   ],
   "source": [
    "df_n[['Gasoleo A']].min()"
   ]
  },
  {
   "cell_type": "code",
   "execution_count": 120,
   "id": "3b1f1e51",
   "metadata": {},
   "outputs": [
    {
     "data": {
      "text/plain": [
       "pandas.core.series.Series"
      ]
     },
     "execution_count": 120,
     "metadata": {},
     "output_type": "execute_result"
    }
   ],
   "source": [
    "type(df_n[['Gasoleo A']].min())"
   ]
  },
  {
   "cell_type": "code",
   "execution_count": 121,
   "id": "90b1365c",
   "metadata": {},
   "outputs": [
    {
     "data": {
      "text/plain": [
       "Gasoleo A    9245\n",
       "dtype: int64"
      ]
     },
     "execution_count": 121,
     "metadata": {},
     "output_type": "execute_result"
    }
   ],
   "source": [
    "df_n[['Gasoleo A']].idxmin()"
   ]
  },
  {
   "cell_type": "code",
   "execution_count": 122,
   "id": "2e862788",
   "metadata": {},
   "outputs": [
    {
     "data": {
      "text/plain": [
       "pandas.core.series.Series"
      ]
     },
     "execution_count": 122,
     "metadata": {},
     "output_type": "execute_result"
    }
   ],
   "source": [
    "type(df_n[['Gasoleo A']].idxmin())"
   ]
  },
  {
   "cell_type": "code",
   "execution_count": 123,
   "id": "9de51546",
   "metadata": {},
   "outputs": [],
   "source": [
    "#df_n.loc[df_n[['Gasoleo A']].min()]"
   ]
  },
  {
   "cell_type": "code",
   "execution_count": 124,
   "id": "6189b48b",
   "metadata": {},
   "outputs": [],
   "source": [
    "#df_n.head()"
   ]
  },
  {
   "cell_type": "code",
   "execution_count": 125,
   "id": "2532402d",
   "metadata": {},
   "outputs": [],
   "source": [
    "#df_n.loc[1.290]"
   ]
  },
  {
   "cell_type": "code",
   "execution_count": 126,
   "id": "eaca1f27",
   "metadata": {},
   "outputs": [
    {
     "data": {
      "text/plain": [
       "RangeIndex(start=0, stop=11789, step=1)"
      ]
     },
     "execution_count": 126,
     "metadata": {},
     "output_type": "execute_result"
    }
   ],
   "source": [
    "df_n.index"
   ]
  },
  {
   "cell_type": "code",
   "execution_count": 127,
   "id": "c8047416",
   "metadata": {},
   "outputs": [
    {
     "data": {
      "text/plain": [
       "pandas.core.frame.DataFrame"
      ]
     },
     "execution_count": 127,
     "metadata": {},
     "output_type": "execute_result"
    }
   ],
   "source": [
    "type(df_n.loc[df_n[['Gasoleo A']].idxmin()])"
   ]
  },
  {
   "cell_type": "code",
   "execution_count": 128,
   "id": "5f0aaab8",
   "metadata": {},
   "outputs": [
    {
     "data": {
      "text/plain": [
       "pandas.core.series.Series"
      ]
     },
     "execution_count": 128,
     "metadata": {},
     "output_type": "execute_result"
    }
   ],
   "source": [
    "type(df_n.loc[9213])"
   ]
  },
  {
   "cell_type": "code",
   "execution_count": 129,
   "id": "aeca5642",
   "metadata": {},
   "outputs": [
    {
     "data": {
      "text/plain": [
       "<pandas.core.groupby.generic.DataFrameGroupBy object at 0x0000028E9E9E4160>"
      ]
     },
     "execution_count": 129,
     "metadata": {},
     "output_type": "execute_result"
    }
   ],
   "source": [
    "a = df_n.groupby(by=[\"Municipio\"])\n",
    "a"
   ]
  },
  {
   "cell_type": "code",
   "execution_count": 130,
   "id": "4afac610",
   "metadata": {},
   "outputs": [
    {
     "data": {
      "text/plain": [
       "Municipio\n",
       "Abadiño                                     [48220]\n",
       "Abadín                               [27730, 27738]\n",
       "Abanilla                                    [30640]\n",
       "Abanto y Ciérvana-Abanto Zierbena           [48500]\n",
       "Abarán                                      [30550]\n",
       "                                          ...      \n",
       "Íscar                                       [47420]\n",
       "Òdena                                       [08711]\n",
       "Ólvega                                      [42110]\n",
       "Órgiva                                      [18400]\n",
       "Úbeda                                       [23400]\n",
       "Name: C.P., Length: 3437, dtype: object"
      ]
     },
     "execution_count": 130,
     "metadata": {},
     "output_type": "execute_result"
    }
   ],
   "source": [
    "b = a[\"C.P.\"].unique()\n",
    "b"
   ]
  },
  {
   "cell_type": "markdown",
   "id": "3f8e8e7f",
   "metadata": {},
   "source": [
    "# Funciones"
   ]
  },
  {
   "cell_type": "code",
   "execution_count": 131,
   "id": "ebf8ea98",
   "metadata": {},
   "outputs": [],
   "source": [
    "# Precio mínimo de combstible en un codigo postal \n",
    "def cp_minimo(x,y):\n",
    "# x = Código Postal\n",
    "# y = Tipo de combustible para el precio mínimo\n",
    "    cod_postal = df_n[df_n['C.P.'] == x]\n",
    "    combustible = cod_postal.loc[cod_postal[[y]].idxmin()]\n",
    "    return combustible\n"
   ]
  },
  {
   "cell_type": "code",
   "execution_count": 132,
   "id": "e31206c6",
   "metadata": {},
   "outputs": [
    {
     "data": {
      "text/html": [
       "<div>\n",
       "<style scoped>\n",
       "    .dataframe tbody tr th:only-of-type {\n",
       "        vertical-align: middle;\n",
       "    }\n",
       "\n",
       "    .dataframe tbody tr th {\n",
       "        vertical-align: top;\n",
       "    }\n",
       "\n",
       "    .dataframe thead th {\n",
       "        text-align: right;\n",
       "    }\n",
       "</style>\n",
       "<table border=\"1\" class=\"dataframe\">\n",
       "  <thead>\n",
       "    <tr style=\"text-align: right;\">\n",
       "      <th></th>\n",
       "      <th>Fecha</th>\n",
       "      <th>Horario</th>\n",
       "      <th>C.P.</th>\n",
       "      <th>Provincia</th>\n",
       "      <th>Municipio</th>\n",
       "      <th>Localidad</th>\n",
       "      <th>Dirección</th>\n",
       "      <th>Proveedor de Servicio</th>\n",
       "      <th>Gasoleo A</th>\n",
       "      <th>Gasoleo B</th>\n",
       "      <th>Gasoleo Premium</th>\n",
       "      <th>Gasolina 95 E5</th>\n",
       "      <th>Gasolina 98 E5</th>\n",
       "      <th>Media Gasoleo A</th>\n",
       "      <th>Media Gasoleo B</th>\n",
       "      <th>Media Gasoleo Prem</th>\n",
       "      <th>Media Gasolina 95</th>\n",
       "      <th>Media Gasolina 98</th>\n",
       "    </tr>\n",
       "  </thead>\n",
       "  <tbody>\n",
       "    <tr>\n",
       "      <th>7218</th>\n",
       "      <td>12/11/2022 9:29:39</td>\n",
       "      <td>L-D: 24H</td>\n",
       "      <td>28760</td>\n",
       "      <td>MADRID</td>\n",
       "      <td>Tres Cantos</td>\n",
       "      <td>TRES CANTOS</td>\n",
       "      <td>AVENIDA INDUSTRIA, 44</td>\n",
       "      <td>BALLENOIL</td>\n",
       "      <td>1.769</td>\n",
       "      <td>NaN</td>\n",
       "      <td>1.779</td>\n",
       "      <td>1.589</td>\n",
       "      <td>NaN</td>\n",
       "      <td>1.918386</td>\n",
       "      <td>1.54157</td>\n",
       "      <td>2.010428</td>\n",
       "      <td>1.774055</td>\n",
       "      <td>1.925452</td>\n",
       "    </tr>\n",
       "  </tbody>\n",
       "</table>\n",
       "</div>"
      ],
      "text/plain": [
       "                   Fecha   Horario   C.P. Provincia    Municipio    Localidad  \\\n",
       "7218  12/11/2022 9:29:39  L-D: 24H  28760    MADRID  Tres Cantos  TRES CANTOS   \n",
       "\n",
       "                  Dirección Proveedor de Servicio  Gasoleo A  Gasoleo B  \\\n",
       "7218  AVENIDA INDUSTRIA, 44             BALLENOIL      1.769        NaN   \n",
       "\n",
       "      Gasoleo Premium  Gasolina 95 E5  Gasolina 98 E5  Media Gasoleo A  \\\n",
       "7218            1.779           1.589             NaN         1.918386   \n",
       "\n",
       "      Media Gasoleo B  Media Gasoleo Prem  Media Gasolina 95  \\\n",
       "7218          1.54157            2.010428           1.774055   \n",
       "\n",
       "      Media Gasolina 98  \n",
       "7218           1.925452  "
      ]
     },
     "execution_count": 132,
     "metadata": {},
     "output_type": "execute_result"
    }
   ],
   "source": [
    "cp_minimo('28760', 'Gasoleo A')"
   ]
  },
  {
   "cell_type": "markdown",
   "id": "2279f697",
   "metadata": {},
   "source": [
    "---"
   ]
  },
  {
   "cell_type": "code",
   "execution_count": 133,
   "id": "ee65c0fb",
   "metadata": {},
   "outputs": [
    {
     "data": {
      "text/html": [
       "<div>\n",
       "<style scoped>\n",
       "    .dataframe tbody tr th:only-of-type {\n",
       "        vertical-align: middle;\n",
       "    }\n",
       "\n",
       "    .dataframe tbody tr th {\n",
       "        vertical-align: top;\n",
       "    }\n",
       "\n",
       "    .dataframe thead th {\n",
       "        text-align: right;\n",
       "    }\n",
       "</style>\n",
       "<table border=\"1\" class=\"dataframe\">\n",
       "  <thead>\n",
       "    <tr style=\"text-align: right;\">\n",
       "      <th></th>\n",
       "      <th>Fecha</th>\n",
       "      <th>Horario</th>\n",
       "      <th>C.P.</th>\n",
       "      <th>Provincia</th>\n",
       "      <th>Municipio</th>\n",
       "      <th>Localidad</th>\n",
       "      <th>Dirección</th>\n",
       "      <th>Proveedor de Servicio</th>\n",
       "      <th>Gasoleo A</th>\n",
       "      <th>Gasoleo B</th>\n",
       "      <th>Gasoleo Premium</th>\n",
       "      <th>Gasolina 95 E5</th>\n",
       "      <th>Gasolina 98 E5</th>\n",
       "      <th>Media Gasoleo A</th>\n",
       "      <th>Media Gasoleo B</th>\n",
       "      <th>Media Gasoleo Prem</th>\n",
       "      <th>Media Gasolina 95</th>\n",
       "      <th>Media Gasolina 98</th>\n",
       "    </tr>\n",
       "  </thead>\n",
       "  <tbody>\n",
       "    <tr>\n",
       "      <th>6552</th>\n",
       "      <td>12/11/2022 9:29:39</td>\n",
       "      <td>L-D: 07:00-22:00</td>\n",
       "      <td>28500</td>\n",
       "      <td>MADRID</td>\n",
       "      <td>Arganda del Rey</td>\n",
       "      <td>ARGANDA</td>\n",
       "      <td>AVENIDA FINANZAUTO (DE), 2</td>\n",
       "      <td>DELFIOIL</td>\n",
       "      <td>1.899</td>\n",
       "      <td>NaN</td>\n",
       "      <td>NaN</td>\n",
       "      <td>1.689</td>\n",
       "      <td>NaN</td>\n",
       "      <td>1.918386</td>\n",
       "      <td>1.54157</td>\n",
       "      <td>2.010428</td>\n",
       "      <td>1.774055</td>\n",
       "      <td>1.925452</td>\n",
       "    </tr>\n",
       "    <tr>\n",
       "      <th>6553</th>\n",
       "      <td>12/11/2022 9:29:39</td>\n",
       "      <td>L-D: 24H</td>\n",
       "      <td>28500</td>\n",
       "      <td>MADRID</td>\n",
       "      <td>Arganda del Rey</td>\n",
       "      <td>ARGANDA</td>\n",
       "      <td>CAMINO CAMINO DE SAN MARTÍN DE LA VEGA A ARGAN...</td>\n",
       "      <td>BALLENOIL</td>\n",
       "      <td>1.889</td>\n",
       "      <td>NaN</td>\n",
       "      <td>NaN</td>\n",
       "      <td>1.689</td>\n",
       "      <td>NaN</td>\n",
       "      <td>1.918386</td>\n",
       "      <td>1.54157</td>\n",
       "      <td>2.010428</td>\n",
       "      <td>1.774055</td>\n",
       "      <td>1.925452</td>\n",
       "    </tr>\n",
       "    <tr>\n",
       "      <th>6554</th>\n",
       "      <td>12/11/2022 9:29:39</td>\n",
       "      <td>L-V: 06:00-22:00; S-D: 08:00-22:00</td>\n",
       "      <td>28500</td>\n",
       "      <td>MADRID</td>\n",
       "      <td>Arganda del Rey</td>\n",
       "      <td>ARGANDA</td>\n",
       "      <td>AVDA DE MADRID, 103</td>\n",
       "      <td>REPSOL</td>\n",
       "      <td>1.999</td>\n",
       "      <td>1.669</td>\n",
       "      <td>2.009</td>\n",
       "      <td>1.829</td>\n",
       "      <td>NaN</td>\n",
       "      <td>1.918386</td>\n",
       "      <td>1.54157</td>\n",
       "      <td>2.010428</td>\n",
       "      <td>1.774055</td>\n",
       "      <td>1.925452</td>\n",
       "    </tr>\n",
       "    <tr>\n",
       "      <th>6555</th>\n",
       "      <td>12/11/2022 9:29:39</td>\n",
       "      <td>L-D: 06:00-00:00</td>\n",
       "      <td>28500</td>\n",
       "      <td>MADRID</td>\n",
       "      <td>Arganda del Rey</td>\n",
       "      <td>ARGANDA</td>\n",
       "      <td>AVENIDA DE MADRID, 126</td>\n",
       "      <td>ATENOIL</td>\n",
       "      <td>1.929</td>\n",
       "      <td>NaN</td>\n",
       "      <td>1.939</td>\n",
       "      <td>1.729</td>\n",
       "      <td>NaN</td>\n",
       "      <td>1.918386</td>\n",
       "      <td>1.54157</td>\n",
       "      <td>2.010428</td>\n",
       "      <td>1.774055</td>\n",
       "      <td>1.925452</td>\n",
       "    </tr>\n",
       "    <tr>\n",
       "      <th>6556</th>\n",
       "      <td>12/11/2022 9:29:39</td>\n",
       "      <td>L-D: 24H</td>\n",
       "      <td>28500</td>\n",
       "      <td>MADRID</td>\n",
       "      <td>Arganda del Rey</td>\n",
       "      <td>ARGANDA</td>\n",
       "      <td>CARRETERA M-832 KM. 3</td>\n",
       "      <td>REPSOL</td>\n",
       "      <td>2.052</td>\n",
       "      <td>NaN</td>\n",
       "      <td>2.132</td>\n",
       "      <td>1.842</td>\n",
       "      <td>NaN</td>\n",
       "      <td>1.918386</td>\n",
       "      <td>1.54157</td>\n",
       "      <td>2.010428</td>\n",
       "      <td>1.774055</td>\n",
       "      <td>1.925452</td>\n",
       "    </tr>\n",
       "    <tr>\n",
       "      <th>6557</th>\n",
       "      <td>12/11/2022 9:29:39</td>\n",
       "      <td>L-D: 24H</td>\n",
       "      <td>28500</td>\n",
       "      <td>MADRID</td>\n",
       "      <td>Arganda del Rey</td>\n",
       "      <td>ARGANDA</td>\n",
       "      <td>AVENIDA MADRID (DE), 66</td>\n",
       "      <td>PLENOIL</td>\n",
       "      <td>1.889</td>\n",
       "      <td>NaN</td>\n",
       "      <td>NaN</td>\n",
       "      <td>1.689</td>\n",
       "      <td>NaN</td>\n",
       "      <td>1.918386</td>\n",
       "      <td>1.54157</td>\n",
       "      <td>2.010428</td>\n",
       "      <td>1.774055</td>\n",
       "      <td>1.925452</td>\n",
       "    </tr>\n",
       "    <tr>\n",
       "      <th>6558</th>\n",
       "      <td>12/11/2022 9:29:39</td>\n",
       "      <td>L-D: 24H</td>\n",
       "      <td>28500</td>\n",
       "      <td>MADRID</td>\n",
       "      <td>Arganda del Rey</td>\n",
       "      <td>ARGANDA</td>\n",
       "      <td>AVENIDA MADRID (DE), SN</td>\n",
       "      <td>PETROPRIX</td>\n",
       "      <td>1.889</td>\n",
       "      <td>NaN</td>\n",
       "      <td>NaN</td>\n",
       "      <td>1.689</td>\n",
       "      <td>NaN</td>\n",
       "      <td>1.918386</td>\n",
       "      <td>1.54157</td>\n",
       "      <td>2.010428</td>\n",
       "      <td>1.774055</td>\n",
       "      <td>1.925452</td>\n",
       "    </tr>\n",
       "    <tr>\n",
       "      <th>6559</th>\n",
       "      <td>12/11/2022 9:29:39</td>\n",
       "      <td>L-D: 24H</td>\n",
       "      <td>28500</td>\n",
       "      <td>MADRID</td>\n",
       "      <td>Arganda del Rey</td>\n",
       "      <td>ARGANDA</td>\n",
       "      <td>AVENIDA VALDEARGANDA, 8</td>\n",
       "      <td>CEPSA</td>\n",
       "      <td>1.979</td>\n",
       "      <td>NaN</td>\n",
       "      <td>2.079</td>\n",
       "      <td>1.809</td>\n",
       "      <td>1.941</td>\n",
       "      <td>1.918386</td>\n",
       "      <td>1.54157</td>\n",
       "      <td>2.010428</td>\n",
       "      <td>1.774055</td>\n",
       "      <td>1.925452</td>\n",
       "    </tr>\n",
       "    <tr>\n",
       "      <th>6560</th>\n",
       "      <td>12/11/2022 9:29:39</td>\n",
       "      <td>L-D: 06:00-22:00</td>\n",
       "      <td>28500</td>\n",
       "      <td>MADRID</td>\n",
       "      <td>Arganda del Rey</td>\n",
       "      <td>ARGANDA</td>\n",
       "      <td>AVENIDA DE MADRID, 37</td>\n",
       "      <td>BP LA ARGANDEÑA</td>\n",
       "      <td>1.969</td>\n",
       "      <td>NaN</td>\n",
       "      <td>2.059</td>\n",
       "      <td>1.809</td>\n",
       "      <td>1.951</td>\n",
       "      <td>1.918386</td>\n",
       "      <td>1.54157</td>\n",
       "      <td>2.010428</td>\n",
       "      <td>1.774055</td>\n",
       "      <td>1.925452</td>\n",
       "    </tr>\n",
       "    <tr>\n",
       "      <th>6561</th>\n",
       "      <td>12/11/2022 9:29:39</td>\n",
       "      <td>L-D: 24H</td>\n",
       "      <td>28500</td>\n",
       "      <td>MADRID</td>\n",
       "      <td>Arganda del Rey</td>\n",
       "      <td>ARGANDA</td>\n",
       "      <td>AVENIDA EJERCITO (DEL), 44</td>\n",
       "      <td>BP ARGANDA</td>\n",
       "      <td>1.969</td>\n",
       "      <td>NaN</td>\n",
       "      <td>2.059</td>\n",
       "      <td>1.809</td>\n",
       "      <td>1.951</td>\n",
       "      <td>1.918386</td>\n",
       "      <td>1.54157</td>\n",
       "      <td>2.010428</td>\n",
       "      <td>1.774055</td>\n",
       "      <td>1.925452</td>\n",
       "    </tr>\n",
       "    <tr>\n",
       "      <th>6562</th>\n",
       "      <td>12/11/2022 9:29:39</td>\n",
       "      <td>L: 24H</td>\n",
       "      <td>28500</td>\n",
       "      <td>MADRID</td>\n",
       "      <td>Arganda del Rey</td>\n",
       "      <td>ARGANDA</td>\n",
       "      <td>CARRETERA M-832 KM. 3</td>\n",
       "      <td>REPSOL</td>\n",
       "      <td>2.052</td>\n",
       "      <td>NaN</td>\n",
       "      <td>NaN</td>\n",
       "      <td>1.842</td>\n",
       "      <td>NaN</td>\n",
       "      <td>1.918386</td>\n",
       "      <td>1.54157</td>\n",
       "      <td>2.010428</td>\n",
       "      <td>1.774055</td>\n",
       "      <td>1.925452</td>\n",
       "    </tr>\n",
       "    <tr>\n",
       "      <th>6563</th>\n",
       "      <td>12/11/2022 9:29:39</td>\n",
       "      <td>L-D: 24H</td>\n",
       "      <td>28500</td>\n",
       "      <td>MADRID</td>\n",
       "      <td>Arganda del Rey</td>\n",
       "      <td>ARGANDA</td>\n",
       "      <td>CAMINO SAN MARTIN DE LA VEGA, 8</td>\n",
       "      <td>BALLENOIL</td>\n",
       "      <td>1.889</td>\n",
       "      <td>NaN</td>\n",
       "      <td>NaN</td>\n",
       "      <td>1.689</td>\n",
       "      <td>NaN</td>\n",
       "      <td>1.918386</td>\n",
       "      <td>1.54157</td>\n",
       "      <td>2.010428</td>\n",
       "      <td>1.774055</td>\n",
       "      <td>1.925452</td>\n",
       "    </tr>\n",
       "  </tbody>\n",
       "</table>\n",
       "</div>"
      ],
      "text/plain": [
       "                   Fecha                             Horario   C.P. Provincia  \\\n",
       "6552  12/11/2022 9:29:39                    L-D: 07:00-22:00  28500    MADRID   \n",
       "6553  12/11/2022 9:29:39                            L-D: 24H  28500    MADRID   \n",
       "6554  12/11/2022 9:29:39  L-V: 06:00-22:00; S-D: 08:00-22:00  28500    MADRID   \n",
       "6555  12/11/2022 9:29:39                    L-D: 06:00-00:00  28500    MADRID   \n",
       "6556  12/11/2022 9:29:39                            L-D: 24H  28500    MADRID   \n",
       "6557  12/11/2022 9:29:39                            L-D: 24H  28500    MADRID   \n",
       "6558  12/11/2022 9:29:39                            L-D: 24H  28500    MADRID   \n",
       "6559  12/11/2022 9:29:39                            L-D: 24H  28500    MADRID   \n",
       "6560  12/11/2022 9:29:39                    L-D: 06:00-22:00  28500    MADRID   \n",
       "6561  12/11/2022 9:29:39                            L-D: 24H  28500    MADRID   \n",
       "6562  12/11/2022 9:29:39                              L: 24H  28500    MADRID   \n",
       "6563  12/11/2022 9:29:39                            L-D: 24H  28500    MADRID   \n",
       "\n",
       "            Municipio Localidad  \\\n",
       "6552  Arganda del Rey   ARGANDA   \n",
       "6553  Arganda del Rey   ARGANDA   \n",
       "6554  Arganda del Rey   ARGANDA   \n",
       "6555  Arganda del Rey   ARGANDA   \n",
       "6556  Arganda del Rey   ARGANDA   \n",
       "6557  Arganda del Rey   ARGANDA   \n",
       "6558  Arganda del Rey   ARGANDA   \n",
       "6559  Arganda del Rey   ARGANDA   \n",
       "6560  Arganda del Rey   ARGANDA   \n",
       "6561  Arganda del Rey   ARGANDA   \n",
       "6562  Arganda del Rey   ARGANDA   \n",
       "6563  Arganda del Rey   ARGANDA   \n",
       "\n",
       "                                              Dirección Proveedor de Servicio  \\\n",
       "6552                         AVENIDA FINANZAUTO (DE), 2              DELFIOIL   \n",
       "6553  CAMINO CAMINO DE SAN MARTÍN DE LA VEGA A ARGAN...             BALLENOIL   \n",
       "6554                                AVDA DE MADRID, 103                REPSOL   \n",
       "6555                             AVENIDA DE MADRID, 126               ATENOIL   \n",
       "6556                              CARRETERA M-832 KM. 3                REPSOL   \n",
       "6557                            AVENIDA MADRID (DE), 66               PLENOIL   \n",
       "6558                            AVENIDA MADRID (DE), SN             PETROPRIX   \n",
       "6559                            AVENIDA VALDEARGANDA, 8                 CEPSA   \n",
       "6560                              AVENIDA DE MADRID, 37       BP LA ARGANDEÑA   \n",
       "6561                         AVENIDA EJERCITO (DEL), 44            BP ARGANDA   \n",
       "6562                              CARRETERA M-832 KM. 3                REPSOL   \n",
       "6563                    CAMINO SAN MARTIN DE LA VEGA, 8             BALLENOIL   \n",
       "\n",
       "      Gasoleo A  Gasoleo B  Gasoleo Premium  Gasolina 95 E5  Gasolina 98 E5  \\\n",
       "6552      1.899        NaN              NaN           1.689             NaN   \n",
       "6553      1.889        NaN              NaN           1.689             NaN   \n",
       "6554      1.999      1.669            2.009           1.829             NaN   \n",
       "6555      1.929        NaN            1.939           1.729             NaN   \n",
       "6556      2.052        NaN            2.132           1.842             NaN   \n",
       "6557      1.889        NaN              NaN           1.689             NaN   \n",
       "6558      1.889        NaN              NaN           1.689             NaN   \n",
       "6559      1.979        NaN            2.079           1.809           1.941   \n",
       "6560      1.969        NaN            2.059           1.809           1.951   \n",
       "6561      1.969        NaN            2.059           1.809           1.951   \n",
       "6562      2.052        NaN              NaN           1.842             NaN   \n",
       "6563      1.889        NaN              NaN           1.689             NaN   \n",
       "\n",
       "      Media Gasoleo A  Media Gasoleo B  Media Gasoleo Prem  Media Gasolina 95  \\\n",
       "6552         1.918386          1.54157            2.010428           1.774055   \n",
       "6553         1.918386          1.54157            2.010428           1.774055   \n",
       "6554         1.918386          1.54157            2.010428           1.774055   \n",
       "6555         1.918386          1.54157            2.010428           1.774055   \n",
       "6556         1.918386          1.54157            2.010428           1.774055   \n",
       "6557         1.918386          1.54157            2.010428           1.774055   \n",
       "6558         1.918386          1.54157            2.010428           1.774055   \n",
       "6559         1.918386          1.54157            2.010428           1.774055   \n",
       "6560         1.918386          1.54157            2.010428           1.774055   \n",
       "6561         1.918386          1.54157            2.010428           1.774055   \n",
       "6562         1.918386          1.54157            2.010428           1.774055   \n",
       "6563         1.918386          1.54157            2.010428           1.774055   \n",
       "\n",
       "      Media Gasolina 98  \n",
       "6552           1.925452  \n",
       "6553           1.925452  \n",
       "6554           1.925452  \n",
       "6555           1.925452  \n",
       "6556           1.925452  \n",
       "6557           1.925452  \n",
       "6558           1.925452  \n",
       "6559           1.925452  \n",
       "6560           1.925452  \n",
       "6561           1.925452  \n",
       "6562           1.925452  \n",
       "6563           1.925452  "
      ]
     },
     "execution_count": 133,
     "metadata": {},
     "output_type": "execute_result"
    }
   ],
   "source": [
    "df_n[df_n['C.P.'] == \"28500\"]"
   ]
  },
  {
   "cell_type": "code",
   "execution_count": 134,
   "id": "2b4ed723",
   "metadata": {},
   "outputs": [
    {
     "data": {
      "text/html": [
       "<div>\n",
       "<style scoped>\n",
       "    .dataframe tbody tr th:only-of-type {\n",
       "        vertical-align: middle;\n",
       "    }\n",
       "\n",
       "    .dataframe tbody tr th {\n",
       "        vertical-align: top;\n",
       "    }\n",
       "\n",
       "    .dataframe thead th {\n",
       "        text-align: right;\n",
       "    }\n",
       "</style>\n",
       "<table border=\"1\" class=\"dataframe\">\n",
       "  <thead>\n",
       "    <tr style=\"text-align: right;\">\n",
       "      <th></th>\n",
       "      <th>Fecha</th>\n",
       "      <th>Horario</th>\n",
       "      <th>C.P.</th>\n",
       "      <th>Provincia</th>\n",
       "      <th>Municipio</th>\n",
       "      <th>Localidad</th>\n",
       "      <th>Dirección</th>\n",
       "      <th>Proveedor de Servicio</th>\n",
       "      <th>Gasoleo A</th>\n",
       "      <th>Gasoleo B</th>\n",
       "      <th>Gasoleo Premium</th>\n",
       "      <th>Gasolina 95 E5</th>\n",
       "      <th>Gasolina 98 E5</th>\n",
       "      <th>Media Gasoleo A</th>\n",
       "      <th>Media Gasoleo B</th>\n",
       "      <th>Media Gasoleo Prem</th>\n",
       "      <th>Media Gasolina 95</th>\n",
       "      <th>Media Gasolina 98</th>\n",
       "    </tr>\n",
       "  </thead>\n",
       "  <tbody>\n",
       "    <tr>\n",
       "      <th>6552</th>\n",
       "      <td>12/11/2022 9:29:39</td>\n",
       "      <td>L-D: 07:00-22:00</td>\n",
       "      <td>28500</td>\n",
       "      <td>MADRID</td>\n",
       "      <td>Arganda del Rey</td>\n",
       "      <td>ARGANDA</td>\n",
       "      <td>AVENIDA FINANZAUTO (DE), 2</td>\n",
       "      <td>DELFIOIL</td>\n",
       "      <td>1.899</td>\n",
       "      <td>NaN</td>\n",
       "      <td>NaN</td>\n",
       "      <td>1.689</td>\n",
       "      <td>NaN</td>\n",
       "      <td>1.918386</td>\n",
       "      <td>1.54157</td>\n",
       "      <td>2.010428</td>\n",
       "      <td>1.774055</td>\n",
       "      <td>1.925452</td>\n",
       "    </tr>\n",
       "    <tr>\n",
       "      <th>6553</th>\n",
       "      <td>12/11/2022 9:29:39</td>\n",
       "      <td>L-D: 24H</td>\n",
       "      <td>28500</td>\n",
       "      <td>MADRID</td>\n",
       "      <td>Arganda del Rey</td>\n",
       "      <td>ARGANDA</td>\n",
       "      <td>CAMINO CAMINO DE SAN MARTÍN DE LA VEGA A ARGAN...</td>\n",
       "      <td>BALLENOIL</td>\n",
       "      <td>1.889</td>\n",
       "      <td>NaN</td>\n",
       "      <td>NaN</td>\n",
       "      <td>1.689</td>\n",
       "      <td>NaN</td>\n",
       "      <td>1.918386</td>\n",
       "      <td>1.54157</td>\n",
       "      <td>2.010428</td>\n",
       "      <td>1.774055</td>\n",
       "      <td>1.925452</td>\n",
       "    </tr>\n",
       "    <tr>\n",
       "      <th>6554</th>\n",
       "      <td>12/11/2022 9:29:39</td>\n",
       "      <td>L-V: 06:00-22:00; S-D: 08:00-22:00</td>\n",
       "      <td>28500</td>\n",
       "      <td>MADRID</td>\n",
       "      <td>Arganda del Rey</td>\n",
       "      <td>ARGANDA</td>\n",
       "      <td>AVDA DE MADRID, 103</td>\n",
       "      <td>REPSOL</td>\n",
       "      <td>1.999</td>\n",
       "      <td>1.669</td>\n",
       "      <td>2.009</td>\n",
       "      <td>1.829</td>\n",
       "      <td>NaN</td>\n",
       "      <td>1.918386</td>\n",
       "      <td>1.54157</td>\n",
       "      <td>2.010428</td>\n",
       "      <td>1.774055</td>\n",
       "      <td>1.925452</td>\n",
       "    </tr>\n",
       "    <tr>\n",
       "      <th>6555</th>\n",
       "      <td>12/11/2022 9:29:39</td>\n",
       "      <td>L-D: 06:00-00:00</td>\n",
       "      <td>28500</td>\n",
       "      <td>MADRID</td>\n",
       "      <td>Arganda del Rey</td>\n",
       "      <td>ARGANDA</td>\n",
       "      <td>AVENIDA DE MADRID, 126</td>\n",
       "      <td>ATENOIL</td>\n",
       "      <td>1.929</td>\n",
       "      <td>NaN</td>\n",
       "      <td>1.939</td>\n",
       "      <td>1.729</td>\n",
       "      <td>NaN</td>\n",
       "      <td>1.918386</td>\n",
       "      <td>1.54157</td>\n",
       "      <td>2.010428</td>\n",
       "      <td>1.774055</td>\n",
       "      <td>1.925452</td>\n",
       "    </tr>\n",
       "    <tr>\n",
       "      <th>6556</th>\n",
       "      <td>12/11/2022 9:29:39</td>\n",
       "      <td>L-D: 24H</td>\n",
       "      <td>28500</td>\n",
       "      <td>MADRID</td>\n",
       "      <td>Arganda del Rey</td>\n",
       "      <td>ARGANDA</td>\n",
       "      <td>CARRETERA M-832 KM. 3</td>\n",
       "      <td>REPSOL</td>\n",
       "      <td>2.052</td>\n",
       "      <td>NaN</td>\n",
       "      <td>2.132</td>\n",
       "      <td>1.842</td>\n",
       "      <td>NaN</td>\n",
       "      <td>1.918386</td>\n",
       "      <td>1.54157</td>\n",
       "      <td>2.010428</td>\n",
       "      <td>1.774055</td>\n",
       "      <td>1.925452</td>\n",
       "    </tr>\n",
       "    <tr>\n",
       "      <th>6557</th>\n",
       "      <td>12/11/2022 9:29:39</td>\n",
       "      <td>L-D: 24H</td>\n",
       "      <td>28500</td>\n",
       "      <td>MADRID</td>\n",
       "      <td>Arganda del Rey</td>\n",
       "      <td>ARGANDA</td>\n",
       "      <td>AVENIDA MADRID (DE), 66</td>\n",
       "      <td>PLENOIL</td>\n",
       "      <td>1.889</td>\n",
       "      <td>NaN</td>\n",
       "      <td>NaN</td>\n",
       "      <td>1.689</td>\n",
       "      <td>NaN</td>\n",
       "      <td>1.918386</td>\n",
       "      <td>1.54157</td>\n",
       "      <td>2.010428</td>\n",
       "      <td>1.774055</td>\n",
       "      <td>1.925452</td>\n",
       "    </tr>\n",
       "    <tr>\n",
       "      <th>6558</th>\n",
       "      <td>12/11/2022 9:29:39</td>\n",
       "      <td>L-D: 24H</td>\n",
       "      <td>28500</td>\n",
       "      <td>MADRID</td>\n",
       "      <td>Arganda del Rey</td>\n",
       "      <td>ARGANDA</td>\n",
       "      <td>AVENIDA MADRID (DE), SN</td>\n",
       "      <td>PETROPRIX</td>\n",
       "      <td>1.889</td>\n",
       "      <td>NaN</td>\n",
       "      <td>NaN</td>\n",
       "      <td>1.689</td>\n",
       "      <td>NaN</td>\n",
       "      <td>1.918386</td>\n",
       "      <td>1.54157</td>\n",
       "      <td>2.010428</td>\n",
       "      <td>1.774055</td>\n",
       "      <td>1.925452</td>\n",
       "    </tr>\n",
       "    <tr>\n",
       "      <th>6559</th>\n",
       "      <td>12/11/2022 9:29:39</td>\n",
       "      <td>L-D: 24H</td>\n",
       "      <td>28500</td>\n",
       "      <td>MADRID</td>\n",
       "      <td>Arganda del Rey</td>\n",
       "      <td>ARGANDA</td>\n",
       "      <td>AVENIDA VALDEARGANDA, 8</td>\n",
       "      <td>CEPSA</td>\n",
       "      <td>1.979</td>\n",
       "      <td>NaN</td>\n",
       "      <td>2.079</td>\n",
       "      <td>1.809</td>\n",
       "      <td>1.941</td>\n",
       "      <td>1.918386</td>\n",
       "      <td>1.54157</td>\n",
       "      <td>2.010428</td>\n",
       "      <td>1.774055</td>\n",
       "      <td>1.925452</td>\n",
       "    </tr>\n",
       "    <tr>\n",
       "      <th>6560</th>\n",
       "      <td>12/11/2022 9:29:39</td>\n",
       "      <td>L-D: 06:00-22:00</td>\n",
       "      <td>28500</td>\n",
       "      <td>MADRID</td>\n",
       "      <td>Arganda del Rey</td>\n",
       "      <td>ARGANDA</td>\n",
       "      <td>AVENIDA DE MADRID, 37</td>\n",
       "      <td>BP LA ARGANDEÑA</td>\n",
       "      <td>1.969</td>\n",
       "      <td>NaN</td>\n",
       "      <td>2.059</td>\n",
       "      <td>1.809</td>\n",
       "      <td>1.951</td>\n",
       "      <td>1.918386</td>\n",
       "      <td>1.54157</td>\n",
       "      <td>2.010428</td>\n",
       "      <td>1.774055</td>\n",
       "      <td>1.925452</td>\n",
       "    </tr>\n",
       "    <tr>\n",
       "      <th>6561</th>\n",
       "      <td>12/11/2022 9:29:39</td>\n",
       "      <td>L-D: 24H</td>\n",
       "      <td>28500</td>\n",
       "      <td>MADRID</td>\n",
       "      <td>Arganda del Rey</td>\n",
       "      <td>ARGANDA</td>\n",
       "      <td>AVENIDA EJERCITO (DEL), 44</td>\n",
       "      <td>BP ARGANDA</td>\n",
       "      <td>1.969</td>\n",
       "      <td>NaN</td>\n",
       "      <td>2.059</td>\n",
       "      <td>1.809</td>\n",
       "      <td>1.951</td>\n",
       "      <td>1.918386</td>\n",
       "      <td>1.54157</td>\n",
       "      <td>2.010428</td>\n",
       "      <td>1.774055</td>\n",
       "      <td>1.925452</td>\n",
       "    </tr>\n",
       "    <tr>\n",
       "      <th>6562</th>\n",
       "      <td>12/11/2022 9:29:39</td>\n",
       "      <td>L: 24H</td>\n",
       "      <td>28500</td>\n",
       "      <td>MADRID</td>\n",
       "      <td>Arganda del Rey</td>\n",
       "      <td>ARGANDA</td>\n",
       "      <td>CARRETERA M-832 KM. 3</td>\n",
       "      <td>REPSOL</td>\n",
       "      <td>2.052</td>\n",
       "      <td>NaN</td>\n",
       "      <td>NaN</td>\n",
       "      <td>1.842</td>\n",
       "      <td>NaN</td>\n",
       "      <td>1.918386</td>\n",
       "      <td>1.54157</td>\n",
       "      <td>2.010428</td>\n",
       "      <td>1.774055</td>\n",
       "      <td>1.925452</td>\n",
       "    </tr>\n",
       "    <tr>\n",
       "      <th>6563</th>\n",
       "      <td>12/11/2022 9:29:39</td>\n",
       "      <td>L-D: 24H</td>\n",
       "      <td>28500</td>\n",
       "      <td>MADRID</td>\n",
       "      <td>Arganda del Rey</td>\n",
       "      <td>ARGANDA</td>\n",
       "      <td>CAMINO SAN MARTIN DE LA VEGA, 8</td>\n",
       "      <td>BALLENOIL</td>\n",
       "      <td>1.889</td>\n",
       "      <td>NaN</td>\n",
       "      <td>NaN</td>\n",
       "      <td>1.689</td>\n",
       "      <td>NaN</td>\n",
       "      <td>1.918386</td>\n",
       "      <td>1.54157</td>\n",
       "      <td>2.010428</td>\n",
       "      <td>1.774055</td>\n",
       "      <td>1.925452</td>\n",
       "    </tr>\n",
       "  </tbody>\n",
       "</table>\n",
       "</div>"
      ],
      "text/plain": [
       "                   Fecha                             Horario   C.P. Provincia  \\\n",
       "6552  12/11/2022 9:29:39                    L-D: 07:00-22:00  28500    MADRID   \n",
       "6553  12/11/2022 9:29:39                            L-D: 24H  28500    MADRID   \n",
       "6554  12/11/2022 9:29:39  L-V: 06:00-22:00; S-D: 08:00-22:00  28500    MADRID   \n",
       "6555  12/11/2022 9:29:39                    L-D: 06:00-00:00  28500    MADRID   \n",
       "6556  12/11/2022 9:29:39                            L-D: 24H  28500    MADRID   \n",
       "6557  12/11/2022 9:29:39                            L-D: 24H  28500    MADRID   \n",
       "6558  12/11/2022 9:29:39                            L-D: 24H  28500    MADRID   \n",
       "6559  12/11/2022 9:29:39                            L-D: 24H  28500    MADRID   \n",
       "6560  12/11/2022 9:29:39                    L-D: 06:00-22:00  28500    MADRID   \n",
       "6561  12/11/2022 9:29:39                            L-D: 24H  28500    MADRID   \n",
       "6562  12/11/2022 9:29:39                              L: 24H  28500    MADRID   \n",
       "6563  12/11/2022 9:29:39                            L-D: 24H  28500    MADRID   \n",
       "\n",
       "            Municipio Localidad  \\\n",
       "6552  Arganda del Rey   ARGANDA   \n",
       "6553  Arganda del Rey   ARGANDA   \n",
       "6554  Arganda del Rey   ARGANDA   \n",
       "6555  Arganda del Rey   ARGANDA   \n",
       "6556  Arganda del Rey   ARGANDA   \n",
       "6557  Arganda del Rey   ARGANDA   \n",
       "6558  Arganda del Rey   ARGANDA   \n",
       "6559  Arganda del Rey   ARGANDA   \n",
       "6560  Arganda del Rey   ARGANDA   \n",
       "6561  Arganda del Rey   ARGANDA   \n",
       "6562  Arganda del Rey   ARGANDA   \n",
       "6563  Arganda del Rey   ARGANDA   \n",
       "\n",
       "                                              Dirección Proveedor de Servicio  \\\n",
       "6552                         AVENIDA FINANZAUTO (DE), 2              DELFIOIL   \n",
       "6553  CAMINO CAMINO DE SAN MARTÍN DE LA VEGA A ARGAN...             BALLENOIL   \n",
       "6554                                AVDA DE MADRID, 103                REPSOL   \n",
       "6555                             AVENIDA DE MADRID, 126               ATENOIL   \n",
       "6556                              CARRETERA M-832 KM. 3                REPSOL   \n",
       "6557                            AVENIDA MADRID (DE), 66               PLENOIL   \n",
       "6558                            AVENIDA MADRID (DE), SN             PETROPRIX   \n",
       "6559                            AVENIDA VALDEARGANDA, 8                 CEPSA   \n",
       "6560                              AVENIDA DE MADRID, 37       BP LA ARGANDEÑA   \n",
       "6561                         AVENIDA EJERCITO (DEL), 44            BP ARGANDA   \n",
       "6562                              CARRETERA M-832 KM. 3                REPSOL   \n",
       "6563                    CAMINO SAN MARTIN DE LA VEGA, 8             BALLENOIL   \n",
       "\n",
       "      Gasoleo A  Gasoleo B  Gasoleo Premium  Gasolina 95 E5  Gasolina 98 E5  \\\n",
       "6552      1.899        NaN              NaN           1.689             NaN   \n",
       "6553      1.889        NaN              NaN           1.689             NaN   \n",
       "6554      1.999      1.669            2.009           1.829             NaN   \n",
       "6555      1.929        NaN            1.939           1.729             NaN   \n",
       "6556      2.052        NaN            2.132           1.842             NaN   \n",
       "6557      1.889        NaN              NaN           1.689             NaN   \n",
       "6558      1.889        NaN              NaN           1.689             NaN   \n",
       "6559      1.979        NaN            2.079           1.809           1.941   \n",
       "6560      1.969        NaN            2.059           1.809           1.951   \n",
       "6561      1.969        NaN            2.059           1.809           1.951   \n",
       "6562      2.052        NaN              NaN           1.842             NaN   \n",
       "6563      1.889        NaN              NaN           1.689             NaN   \n",
       "\n",
       "      Media Gasoleo A  Media Gasoleo B  Media Gasoleo Prem  Media Gasolina 95  \\\n",
       "6552         1.918386          1.54157            2.010428           1.774055   \n",
       "6553         1.918386          1.54157            2.010428           1.774055   \n",
       "6554         1.918386          1.54157            2.010428           1.774055   \n",
       "6555         1.918386          1.54157            2.010428           1.774055   \n",
       "6556         1.918386          1.54157            2.010428           1.774055   \n",
       "6557         1.918386          1.54157            2.010428           1.774055   \n",
       "6558         1.918386          1.54157            2.010428           1.774055   \n",
       "6559         1.918386          1.54157            2.010428           1.774055   \n",
       "6560         1.918386          1.54157            2.010428           1.774055   \n",
       "6561         1.918386          1.54157            2.010428           1.774055   \n",
       "6562         1.918386          1.54157            2.010428           1.774055   \n",
       "6563         1.918386          1.54157            2.010428           1.774055   \n",
       "\n",
       "      Media Gasolina 98  \n",
       "6552           1.925452  \n",
       "6553           1.925452  \n",
       "6554           1.925452  \n",
       "6555           1.925452  \n",
       "6556           1.925452  \n",
       "6557           1.925452  \n",
       "6558           1.925452  \n",
       "6559           1.925452  \n",
       "6560           1.925452  \n",
       "6561           1.925452  \n",
       "6562           1.925452  \n",
       "6563           1.925452  "
      ]
     },
     "execution_count": 134,
     "metadata": {},
     "output_type": "execute_result"
    }
   ],
   "source": [
    "# Comprobación\n",
    "x1 = df_n[\"C.P.\"]=='28500'\n",
    "x2 = df_n[x1]\n",
    "x2"
   ]
  },
  {
   "cell_type": "code",
   "execution_count": 135,
   "id": "76cc76f7",
   "metadata": {},
   "outputs": [],
   "source": [
    "# Precio mínimo de combstible en una Provincia  \n",
    "def provincia_minimo(x, y):\n",
    "# x = Provincia\n",
    "# y = tipo de combustible     \n",
    "    provincia = df_n[df_n[\"Provincia\"] == x]\n",
    "    minimo_prov = provincia.loc[provincia[[y]].idxmin()]\n",
    "    return minimo_prov"
   ]
  },
  {
   "cell_type": "code",
   "execution_count": 136,
   "id": "9e76f0ba",
   "metadata": {},
   "outputs": [
    {
     "data": {
      "text/html": [
       "<div>\n",
       "<style scoped>\n",
       "    .dataframe tbody tr th:only-of-type {\n",
       "        vertical-align: middle;\n",
       "    }\n",
       "\n",
       "    .dataframe tbody tr th {\n",
       "        vertical-align: top;\n",
       "    }\n",
       "\n",
       "    .dataframe thead th {\n",
       "        text-align: right;\n",
       "    }\n",
       "</style>\n",
       "<table border=\"1\" class=\"dataframe\">\n",
       "  <thead>\n",
       "    <tr style=\"text-align: right;\">\n",
       "      <th></th>\n",
       "      <th>Fecha</th>\n",
       "      <th>Horario</th>\n",
       "      <th>C.P.</th>\n",
       "      <th>Provincia</th>\n",
       "      <th>Municipio</th>\n",
       "      <th>Localidad</th>\n",
       "      <th>Dirección</th>\n",
       "      <th>Proveedor de Servicio</th>\n",
       "      <th>Gasoleo A</th>\n",
       "      <th>Gasoleo B</th>\n",
       "      <th>Gasoleo Premium</th>\n",
       "      <th>Gasolina 95 E5</th>\n",
       "      <th>Gasolina 98 E5</th>\n",
       "      <th>Media Gasoleo A</th>\n",
       "      <th>Media Gasoleo B</th>\n",
       "      <th>Media Gasoleo Prem</th>\n",
       "      <th>Media Gasolina 95</th>\n",
       "      <th>Media Gasolina 98</th>\n",
       "    </tr>\n",
       "  </thead>\n",
       "  <tbody>\n",
       "    <tr>\n",
       "      <th>6653</th>\n",
       "      <td>12/11/2022 9:29:39</td>\n",
       "      <td>L-D: 24H</td>\n",
       "      <td>28944</td>\n",
       "      <td>MADRID</td>\n",
       "      <td>Fuenlabrada</td>\n",
       "      <td>FUENLABRADA</td>\n",
       "      <td>CALLE ANETO, 1</td>\n",
       "      <td>BALLENOIL</td>\n",
       "      <td>1.757</td>\n",
       "      <td>NaN</td>\n",
       "      <td>NaN</td>\n",
       "      <td>1.565</td>\n",
       "      <td>NaN</td>\n",
       "      <td>1.918386</td>\n",
       "      <td>1.54157</td>\n",
       "      <td>2.010428</td>\n",
       "      <td>1.774055</td>\n",
       "      <td>1.925452</td>\n",
       "    </tr>\n",
       "  </tbody>\n",
       "</table>\n",
       "</div>"
      ],
      "text/plain": [
       "                   Fecha   Horario   C.P. Provincia    Municipio    Localidad  \\\n",
       "6653  12/11/2022 9:29:39  L-D: 24H  28944    MADRID  Fuenlabrada  FUENLABRADA   \n",
       "\n",
       "           Dirección Proveedor de Servicio  Gasoleo A  Gasoleo B  \\\n",
       "6653  CALLE ANETO, 1             BALLENOIL      1.757        NaN   \n",
       "\n",
       "      Gasoleo Premium  Gasolina 95 E5  Gasolina 98 E5  Media Gasoleo A  \\\n",
       "6653              NaN           1.565             NaN         1.918386   \n",
       "\n",
       "      Media Gasoleo B  Media Gasoleo Prem  Media Gasolina 95  \\\n",
       "6653          1.54157            2.010428           1.774055   \n",
       "\n",
       "      Media Gasolina 98  \n",
       "6653           1.925452  "
      ]
     },
     "execution_count": 136,
     "metadata": {},
     "output_type": "execute_result"
    }
   ],
   "source": [
    "provincia_minimo('MADRID', 'Gasoleo A')"
   ]
  },
  {
   "cell_type": "code",
   "execution_count": 137,
   "id": "94daf5b4",
   "metadata": {},
   "outputs": [],
   "source": [
    "# Precio mínimo de combstible en un Municipio  \n",
    "def municipio_minimo(x, y):\n",
    "# x = Municipio\n",
    "# y = Tipo de Combustible    \n",
    "    municipio = df_n[df_n[\"Municipio\"] == x]\n",
    "    municipio_min = municipio.loc[municipio[[y]].idxmin()]\n",
    "    return municipio"
   ]
  },
  {
   "cell_type": "code",
   "execution_count": 138,
   "id": "870d8abe",
   "metadata": {},
   "outputs": [
    {
     "data": {
      "text/html": [
       "<div>\n",
       "<style scoped>\n",
       "    .dataframe tbody tr th:only-of-type {\n",
       "        vertical-align: middle;\n",
       "    }\n",
       "\n",
       "    .dataframe tbody tr th {\n",
       "        vertical-align: top;\n",
       "    }\n",
       "\n",
       "    .dataframe thead th {\n",
       "        text-align: right;\n",
       "    }\n",
       "</style>\n",
       "<table border=\"1\" class=\"dataframe\">\n",
       "  <thead>\n",
       "    <tr style=\"text-align: right;\">\n",
       "      <th></th>\n",
       "      <th>Fecha</th>\n",
       "      <th>Horario</th>\n",
       "      <th>C.P.</th>\n",
       "      <th>Provincia</th>\n",
       "      <th>Municipio</th>\n",
       "      <th>Localidad</th>\n",
       "      <th>Dirección</th>\n",
       "      <th>Proveedor de Servicio</th>\n",
       "      <th>Gasoleo A</th>\n",
       "      <th>Gasoleo B</th>\n",
       "      <th>Gasoleo Premium</th>\n",
       "      <th>Gasolina 95 E5</th>\n",
       "      <th>Gasolina 98 E5</th>\n",
       "      <th>Media Gasoleo A</th>\n",
       "      <th>Media Gasoleo B</th>\n",
       "      <th>Media Gasoleo Prem</th>\n",
       "      <th>Media Gasolina 95</th>\n",
       "      <th>Media Gasolina 98</th>\n",
       "    </tr>\n",
       "  </thead>\n",
       "  <tbody>\n",
       "    <tr>\n",
       "      <th>6584</th>\n",
       "      <td>12/11/2022 9:29:39</td>\n",
       "      <td>L-S: 7:30-20:30; D: 8:30-20:00</td>\n",
       "      <td>28470</td>\n",
       "      <td>MADRID</td>\n",
       "      <td>Cercedilla</td>\n",
       "      <td>CERCEDILLA</td>\n",
       "      <td>CARRETERA M 622 (CARRETERA GUADARRAMA A LA FUE...</td>\n",
       "      <td>REPSOL</td>\n",
       "      <td>1.949</td>\n",
       "      <td>NaN</td>\n",
       "      <td>NaN</td>\n",
       "      <td>1.789</td>\n",
       "      <td>NaN</td>\n",
       "      <td>1.918386</td>\n",
       "      <td>1.54157</td>\n",
       "      <td>2.010428</td>\n",
       "      <td>1.774055</td>\n",
       "      <td>1.925452</td>\n",
       "    </tr>\n",
       "  </tbody>\n",
       "</table>\n",
       "</div>"
      ],
      "text/plain": [
       "                   Fecha                         Horario   C.P. Provincia  \\\n",
       "6584  12/11/2022 9:29:39  L-S: 7:30-20:30; D: 8:30-20:00  28470    MADRID   \n",
       "\n",
       "       Municipio   Localidad  \\\n",
       "6584  Cercedilla  CERCEDILLA   \n",
       "\n",
       "                                              Dirección Proveedor de Servicio  \\\n",
       "6584  CARRETERA M 622 (CARRETERA GUADARRAMA A LA FUE...                REPSOL   \n",
       "\n",
       "      Gasoleo A  Gasoleo B  Gasoleo Premium  Gasolina 95 E5  Gasolina 98 E5  \\\n",
       "6584      1.949        NaN              NaN           1.789             NaN   \n",
       "\n",
       "      Media Gasoleo A  Media Gasoleo B  Media Gasoleo Prem  Media Gasolina 95  \\\n",
       "6584         1.918386          1.54157            2.010428           1.774055   \n",
       "\n",
       "      Media Gasolina 98  \n",
       "6584           1.925452  "
      ]
     },
     "execution_count": 138,
     "metadata": {},
     "output_type": "execute_result"
    }
   ],
   "source": [
    "municipio_minimo('Cercedilla', 'Gasoleo A')"
   ]
  },
  {
   "cell_type": "code",
   "execution_count": 139,
   "id": "9f08be70",
   "metadata": {},
   "outputs": [],
   "source": [
    "# # Precio mínimo de combstible en un proveedor de estación de servicio  \n",
    "def gasolinera_minimo(x, y):\n",
    "# x = Proveedor de estación de servicio\n",
    "# Y = Tipo de Combustible    \n",
    "    proveedor = df_n[df_n[\"Proveedor de Servicio\"] == x]\n",
    "    minimo_prov = proveedor.loc[proveedor[[y]].idxmin()]\n",
    "    return minimo_prov"
   ]
  },
  {
   "cell_type": "code",
   "execution_count": 140,
   "id": "c3776eb1",
   "metadata": {},
   "outputs": [
    {
     "data": {
      "text/html": [
       "<div>\n",
       "<style scoped>\n",
       "    .dataframe tbody tr th:only-of-type {\n",
       "        vertical-align: middle;\n",
       "    }\n",
       "\n",
       "    .dataframe tbody tr th {\n",
       "        vertical-align: top;\n",
       "    }\n",
       "\n",
       "    .dataframe thead th {\n",
       "        text-align: right;\n",
       "    }\n",
       "</style>\n",
       "<table border=\"1\" class=\"dataframe\">\n",
       "  <thead>\n",
       "    <tr style=\"text-align: right;\">\n",
       "      <th></th>\n",
       "      <th>Fecha</th>\n",
       "      <th>Horario</th>\n",
       "      <th>C.P.</th>\n",
       "      <th>Provincia</th>\n",
       "      <th>Municipio</th>\n",
       "      <th>Localidad</th>\n",
       "      <th>Dirección</th>\n",
       "      <th>Proveedor de Servicio</th>\n",
       "      <th>Gasoleo A</th>\n",
       "      <th>Gasoleo B</th>\n",
       "      <th>Gasoleo Premium</th>\n",
       "      <th>Gasolina 95 E5</th>\n",
       "      <th>Gasolina 98 E5</th>\n",
       "      <th>Media Gasoleo A</th>\n",
       "      <th>Media Gasoleo B</th>\n",
       "      <th>Media Gasoleo Prem</th>\n",
       "      <th>Media Gasolina 95</th>\n",
       "      <th>Media Gasolina 98</th>\n",
       "    </tr>\n",
       "  </thead>\n",
       "  <tbody>\n",
       "    <tr>\n",
       "      <th>9327</th>\n",
       "      <td>12/11/2022 9:29:39</td>\n",
       "      <td>L-S: 06:00-23:00; D: 07:00-23:00</td>\n",
       "      <td>38390</td>\n",
       "      <td>SANTA CRUZ DE TENERIFE</td>\n",
       "      <td>Santa Úrsula</td>\n",
       "      <td>SANTA URSULA</td>\n",
       "      <td>CARRETERA VIEJA KM. 213</td>\n",
       "      <td>REPSOL</td>\n",
       "      <td>1.449</td>\n",
       "      <td>NaN</td>\n",
       "      <td>NaN</td>\n",
       "      <td>1.389</td>\n",
       "      <td>1.479</td>\n",
       "      <td>1.918386</td>\n",
       "      <td>1.54157</td>\n",
       "      <td>2.010428</td>\n",
       "      <td>1.774055</td>\n",
       "      <td>1.925452</td>\n",
       "    </tr>\n",
       "  </tbody>\n",
       "</table>\n",
       "</div>"
      ],
      "text/plain": [
       "                   Fecha                           Horario   C.P.  \\\n",
       "9327  12/11/2022 9:29:39  L-S: 06:00-23:00; D: 07:00-23:00  38390   \n",
       "\n",
       "                   Provincia     Municipio     Localidad  \\\n",
       "9327  SANTA CRUZ DE TENERIFE  Santa Úrsula  SANTA URSULA   \n",
       "\n",
       "                    Dirección Proveedor de Servicio  Gasoleo A  Gasoleo B  \\\n",
       "9327  CARRETERA VIEJA KM. 213                REPSOL      1.449        NaN   \n",
       "\n",
       "      Gasoleo Premium  Gasolina 95 E5  Gasolina 98 E5  Media Gasoleo A  \\\n",
       "9327              NaN           1.389           1.479         1.918386   \n",
       "\n",
       "      Media Gasoleo B  Media Gasoleo Prem  Media Gasolina 95  \\\n",
       "9327          1.54157            2.010428           1.774055   \n",
       "\n",
       "      Media Gasolina 98  \n",
       "9327           1.925452  "
      ]
     },
     "execution_count": 140,
     "metadata": {},
     "output_type": "execute_result"
    }
   ],
   "source": [
    "gasolinera_minimo('REPSOL', 'Gasoleo A')"
   ]
  },
  {
   "cell_type": "code",
   "execution_count": 141,
   "id": "07fe3213",
   "metadata": {},
   "outputs": [],
   "source": [
    "# Función para convertir códigos postales\n",
    "def convert(x):\n",
    "# x: Municipio    \n",
    "    municipio = df_n[df_n[\"Municipio\"] == x]\n",
    "    cp = municipio[[\"C.P.\", \"Municipio\", \"Proveedor de Servicio\"]]\n",
    "    return cp\n",
    "    "
   ]
  },
  {
   "cell_type": "code",
   "execution_count": 142,
   "id": "ba996755",
   "metadata": {},
   "outputs": [
    {
     "data": {
      "text/html": [
       "<div>\n",
       "<style scoped>\n",
       "    .dataframe tbody tr th:only-of-type {\n",
       "        vertical-align: middle;\n",
       "    }\n",
       "\n",
       "    .dataframe tbody tr th {\n",
       "        vertical-align: top;\n",
       "    }\n",
       "\n",
       "    .dataframe thead th {\n",
       "        text-align: right;\n",
       "    }\n",
       "</style>\n",
       "<table border=\"1\" class=\"dataframe\">\n",
       "  <thead>\n",
       "    <tr style=\"text-align: right;\">\n",
       "      <th></th>\n",
       "      <th>C.P.</th>\n",
       "      <th>Municipio</th>\n",
       "      <th>Proveedor de Servicio</th>\n",
       "    </tr>\n",
       "  </thead>\n",
       "  <tbody>\n",
       "    <tr>\n",
       "      <th>7025</th>\n",
       "      <td>28931</td>\n",
       "      <td>Móstoles</td>\n",
       "      <td>REPSOL</td>\n",
       "    </tr>\n",
       "    <tr>\n",
       "      <th>7026</th>\n",
       "      <td>28934</td>\n",
       "      <td>Móstoles</td>\n",
       "      <td>LOS ROSALES</td>\n",
       "    </tr>\n",
       "    <tr>\n",
       "      <th>7027</th>\n",
       "      <td>28935</td>\n",
       "      <td>Móstoles</td>\n",
       "      <td>CARREFOUR</td>\n",
       "    </tr>\n",
       "    <tr>\n",
       "      <th>7028</th>\n",
       "      <td>28935</td>\n",
       "      <td>Móstoles</td>\n",
       "      <td>REPSOL</td>\n",
       "    </tr>\n",
       "    <tr>\n",
       "      <th>7029</th>\n",
       "      <td>28935</td>\n",
       "      <td>Móstoles</td>\n",
       "      <td>REPSOL</td>\n",
       "    </tr>\n",
       "    <tr>\n",
       "      <th>7030</th>\n",
       "      <td>28935</td>\n",
       "      <td>Móstoles</td>\n",
       "      <td>CEPSA</td>\n",
       "    </tr>\n",
       "    <tr>\n",
       "      <th>7031</th>\n",
       "      <td>28935</td>\n",
       "      <td>Móstoles</td>\n",
       "      <td>CEPSA</td>\n",
       "    </tr>\n",
       "    <tr>\n",
       "      <th>7032</th>\n",
       "      <td>28935</td>\n",
       "      <td>Móstoles</td>\n",
       "      <td>AVIA</td>\n",
       "    </tr>\n",
       "    <tr>\n",
       "      <th>7033</th>\n",
       "      <td>28933</td>\n",
       "      <td>Móstoles</td>\n",
       "      <td>BALLENOIL</td>\n",
       "    </tr>\n",
       "    <tr>\n",
       "      <th>7034</th>\n",
       "      <td>28935</td>\n",
       "      <td>Móstoles</td>\n",
       "      <td>OLANCA</td>\n",
       "    </tr>\n",
       "    <tr>\n",
       "      <th>7035</th>\n",
       "      <td>28937</td>\n",
       "      <td>Móstoles</td>\n",
       "      <td>REPSOL</td>\n",
       "    </tr>\n",
       "    <tr>\n",
       "      <th>7036</th>\n",
       "      <td>28937</td>\n",
       "      <td>Móstoles</td>\n",
       "      <td>GALP</td>\n",
       "    </tr>\n",
       "    <tr>\n",
       "      <th>7037</th>\n",
       "      <td>28936</td>\n",
       "      <td>Móstoles</td>\n",
       "      <td>LAVAPLUS</td>\n",
       "    </tr>\n",
       "    <tr>\n",
       "      <th>7038</th>\n",
       "      <td>28936</td>\n",
       "      <td>Móstoles</td>\n",
       "      <td>E.S. TERUGAS</td>\n",
       "    </tr>\n",
       "    <tr>\n",
       "      <th>7039</th>\n",
       "      <td>28936</td>\n",
       "      <td>Móstoles</td>\n",
       "      <td>PETROL MÓSTOLES</td>\n",
       "    </tr>\n",
       "    <tr>\n",
       "      <th>7040</th>\n",
       "      <td>28938</td>\n",
       "      <td>Móstoles</td>\n",
       "      <td>BP</td>\n",
       "    </tr>\n",
       "    <tr>\n",
       "      <th>7041</th>\n",
       "      <td>28938</td>\n",
       "      <td>Móstoles</td>\n",
       "      <td>GALP</td>\n",
       "    </tr>\n",
       "    <tr>\n",
       "      <th>7042</th>\n",
       "      <td>28938</td>\n",
       "      <td>Móstoles</td>\n",
       "      <td>BALLENOIL</td>\n",
       "    </tr>\n",
       "    <tr>\n",
       "      <th>7043</th>\n",
       "      <td>28938</td>\n",
       "      <td>Móstoles</td>\n",
       "      <td>CEPSA</td>\n",
       "    </tr>\n",
       "  </tbody>\n",
       "</table>\n",
       "</div>"
      ],
      "text/plain": [
       "       C.P. Municipio Proveedor de Servicio\n",
       "7025  28931  Móstoles                REPSOL\n",
       "7026  28934  Móstoles           LOS ROSALES\n",
       "7027  28935  Móstoles             CARREFOUR\n",
       "7028  28935  Móstoles                REPSOL\n",
       "7029  28935  Móstoles                REPSOL\n",
       "7030  28935  Móstoles                 CEPSA\n",
       "7031  28935  Móstoles                 CEPSA\n",
       "7032  28935  Móstoles                  AVIA\n",
       "7033  28933  Móstoles             BALLENOIL\n",
       "7034  28935  Móstoles                OLANCA\n",
       "7035  28937  Móstoles                REPSOL\n",
       "7036  28937  Móstoles                  GALP\n",
       "7037  28936  Móstoles              LAVAPLUS\n",
       "7038  28936  Móstoles          E.S. TERUGAS\n",
       "7039  28936  Móstoles       PETROL MÓSTOLES\n",
       "7040  28938  Móstoles                    BP\n",
       "7041  28938  Móstoles                  GALP\n",
       "7042  28938  Móstoles             BALLENOIL\n",
       "7043  28938  Móstoles                 CEPSA"
      ]
     },
     "execution_count": 142,
     "metadata": {},
     "output_type": "execute_result"
    }
   ],
   "source": [
    "convert('Móstoles')"
   ]
  },
  {
   "cell_type": "code",
   "execution_count": 143,
   "id": "752fcb3c",
   "metadata": {},
   "outputs": [],
   "source": [
    "# Listado de Estaciones de Servicio por Municipio por Municipio\n",
    "# x: Municipio\n",
    "def gasolineras_municipio(x):\n",
    "    municipio = df_n[df_n[\"Municipio\"] == x]\n",
    "    eess_mun = pd.DataFrame(municipio[[\"Proveedor de Servicio\"]])\n",
    "    return eess_mun\n"
   ]
  },
  {
   "cell_type": "code",
   "execution_count": 144,
   "id": "9f8ea85c",
   "metadata": {},
   "outputs": [
    {
     "data": {
      "text/html": [
       "<div>\n",
       "<style scoped>\n",
       "    .dataframe tbody tr th:only-of-type {\n",
       "        vertical-align: middle;\n",
       "    }\n",
       "\n",
       "    .dataframe tbody tr th {\n",
       "        vertical-align: top;\n",
       "    }\n",
       "\n",
       "    .dataframe thead th {\n",
       "        text-align: right;\n",
       "    }\n",
       "</style>\n",
       "<table border=\"1\" class=\"dataframe\">\n",
       "  <thead>\n",
       "    <tr style=\"text-align: right;\">\n",
       "      <th></th>\n",
       "      <th>Proveedor de Servicio</th>\n",
       "    </tr>\n",
       "  </thead>\n",
       "  <tbody>\n",
       "    <tr>\n",
       "      <th>7046</th>\n",
       "      <td>CEPSA</td>\n",
       "    </tr>\n",
       "    <tr>\n",
       "      <th>7047</th>\n",
       "      <td>CEPSA</td>\n",
       "    </tr>\n",
       "    <tr>\n",
       "      <th>7048</th>\n",
       "      <td>CEPSA</td>\n",
       "    </tr>\n",
       "    <tr>\n",
       "      <th>7049</th>\n",
       "      <td>REPSOL</td>\n",
       "    </tr>\n",
       "    <tr>\n",
       "      <th>7050</th>\n",
       "      <td>REPSOL</td>\n",
       "    </tr>\n",
       "    <tr>\n",
       "      <th>7051</th>\n",
       "      <td>BALLENOIL</td>\n",
       "    </tr>\n",
       "    <tr>\n",
       "      <th>7052</th>\n",
       "      <td>MAXPETROL</td>\n",
       "    </tr>\n",
       "    <tr>\n",
       "      <th>7053</th>\n",
       "      <td>CHEAPOIL</td>\n",
       "    </tr>\n",
       "  </tbody>\n",
       "</table>\n",
       "</div>"
      ],
      "text/plain": [
       "     Proveedor de Servicio\n",
       "7046                 CEPSA\n",
       "7047                 CEPSA\n",
       "7048                 CEPSA\n",
       "7049                REPSOL\n",
       "7050                REPSOL\n",
       "7051             BALLENOIL\n",
       "7052             MAXPETROL\n",
       "7053              CHEAPOIL"
      ]
     },
     "execution_count": 144,
     "metadata": {},
     "output_type": "execute_result"
    }
   ],
   "source": [
    "gasolineras_municipio('Navalcarnero')"
   ]
  },
  {
   "cell_type": "code",
   "execution_count": 145,
   "id": "42d352ec",
   "metadata": {},
   "outputs": [],
   "source": [
    "# Listado de Gasolineras por Provincia\n",
    "#x=Provincia\n",
    "def gasolineras_provincia(x):\n",
    "    cp_x = df_n[df_n[\"Provincia\"] == x]\n",
    "    return cp_x\n"
   ]
  },
  {
   "cell_type": "code",
   "execution_count": 146,
   "id": "fb0d41d2",
   "metadata": {},
   "outputs": [
    {
     "data": {
      "text/html": [
       "<div>\n",
       "<style scoped>\n",
       "    .dataframe tbody tr th:only-of-type {\n",
       "        vertical-align: middle;\n",
       "    }\n",
       "\n",
       "    .dataframe tbody tr th {\n",
       "        vertical-align: top;\n",
       "    }\n",
       "\n",
       "    .dataframe thead th {\n",
       "        text-align: right;\n",
       "    }\n",
       "</style>\n",
       "<table border=\"1\" class=\"dataframe\">\n",
       "  <thead>\n",
       "    <tr style=\"text-align: right;\">\n",
       "      <th></th>\n",
       "      <th>Fecha</th>\n",
       "      <th>Horario</th>\n",
       "      <th>C.P.</th>\n",
       "      <th>Provincia</th>\n",
       "      <th>Municipio</th>\n",
       "      <th>Localidad</th>\n",
       "      <th>Dirección</th>\n",
       "      <th>Proveedor de Servicio</th>\n",
       "      <th>Gasoleo A</th>\n",
       "      <th>Gasoleo B</th>\n",
       "      <th>Gasoleo Premium</th>\n",
       "      <th>Gasolina 95 E5</th>\n",
       "      <th>Gasolina 98 E5</th>\n",
       "      <th>Media Gasoleo A</th>\n",
       "      <th>Media Gasoleo B</th>\n",
       "      <th>Media Gasoleo Prem</th>\n",
       "      <th>Media Gasolina 95</th>\n",
       "      <th>Media Gasolina 98</th>\n",
       "    </tr>\n",
       "  </thead>\n",
       "  <tbody>\n",
       "    <tr>\n",
       "      <th>5390</th>\n",
       "      <td>12/11/2022 9:29:39</td>\n",
       "      <td>L-D: 24H</td>\n",
       "      <td>21110</td>\n",
       "      <td>HUELVA</td>\n",
       "      <td>Aljaraque</td>\n",
       "      <td>ALJARAQUE</td>\n",
       "      <td>AUTOVIA A-497 KM. 7</td>\n",
       "      <td>MEROIL</td>\n",
       "      <td>1.997</td>\n",
       "      <td>NaN</td>\n",
       "      <td>2.107</td>\n",
       "      <td>1.887</td>\n",
       "      <td>1.997</td>\n",
       "      <td>1.918386</td>\n",
       "      <td>1.54157</td>\n",
       "      <td>2.010428</td>\n",
       "      <td>1.774055</td>\n",
       "      <td>1.925452</td>\n",
       "    </tr>\n",
       "    <tr>\n",
       "      <th>5391</th>\n",
       "      <td>12/11/2022 9:29:39</td>\n",
       "      <td>L-D: 24H</td>\n",
       "      <td>21110</td>\n",
       "      <td>HUELVA</td>\n",
       "      <td>Aljaraque</td>\n",
       "      <td>ALJARAQUE</td>\n",
       "      <td>CARRETERA A-492 KM. 0,100</td>\n",
       "      <td>TAMOIL</td>\n",
       "      <td>1.899</td>\n",
       "      <td>NaN</td>\n",
       "      <td>NaN</td>\n",
       "      <td>1.779</td>\n",
       "      <td>1.899</td>\n",
       "      <td>1.918386</td>\n",
       "      <td>1.54157</td>\n",
       "      <td>2.010428</td>\n",
       "      <td>1.774055</td>\n",
       "      <td>1.925452</td>\n",
       "    </tr>\n",
       "    <tr>\n",
       "      <th>5392</th>\n",
       "      <td>12/11/2022 9:29:39</td>\n",
       "      <td>L-D: 07:00-23:00</td>\n",
       "      <td>21110</td>\n",
       "      <td>HUELVA</td>\n",
       "      <td>Aljaraque</td>\n",
       "      <td>ALJARAQUE</td>\n",
       "      <td>CALLE CERAMICA, 1</td>\n",
       "      <td>HIGUEROIL</td>\n",
       "      <td>1.987</td>\n",
       "      <td>NaN</td>\n",
       "      <td>NaN</td>\n",
       "      <td>1.857</td>\n",
       "      <td>NaN</td>\n",
       "      <td>1.918386</td>\n",
       "      <td>1.54157</td>\n",
       "      <td>2.010428</td>\n",
       "      <td>1.774055</td>\n",
       "      <td>1.925452</td>\n",
       "    </tr>\n",
       "    <tr>\n",
       "      <th>5393</th>\n",
       "      <td>12/11/2022 9:29:39</td>\n",
       "      <td>L-D: 06:00-23:59</td>\n",
       "      <td>21730</td>\n",
       "      <td>HUELVA</td>\n",
       "      <td>Almonte</td>\n",
       "      <td>ALMONTE</td>\n",
       "      <td>AVENIDA RAFAEL ALBERTI, 7</td>\n",
       "      <td>REPSOL</td>\n",
       "      <td>1.885</td>\n",
       "      <td>1.535</td>\n",
       "      <td>1.991</td>\n",
       "      <td>1.859</td>\n",
       "      <td>1.975</td>\n",
       "      <td>1.918386</td>\n",
       "      <td>1.54157</td>\n",
       "      <td>2.010428</td>\n",
       "      <td>1.774055</td>\n",
       "      <td>1.925452</td>\n",
       "    </tr>\n",
       "    <tr>\n",
       "      <th>5394</th>\n",
       "      <td>12/11/2022 9:29:39</td>\n",
       "      <td>L-D: 24H</td>\n",
       "      <td>21730</td>\n",
       "      <td>HUELVA</td>\n",
       "      <td>Almonte</td>\n",
       "      <td>ALMONTE</td>\n",
       "      <td>POLIGONO INDUSTRIAL EL TOMILLAR,PARCELA, 77</td>\n",
       "      <td>CEPSA</td>\n",
       "      <td>1.975</td>\n",
       "      <td>1.539</td>\n",
       "      <td>2.049</td>\n",
       "      <td>1.869</td>\n",
       "      <td>NaN</td>\n",
       "      <td>1.918386</td>\n",
       "      <td>1.54157</td>\n",
       "      <td>2.010428</td>\n",
       "      <td>1.774055</td>\n",
       "      <td>1.925452</td>\n",
       "    </tr>\n",
       "    <tr>\n",
       "      <th>...</th>\n",
       "      <td>...</td>\n",
       "      <td>...</td>\n",
       "      <td>...</td>\n",
       "      <td>...</td>\n",
       "      <td>...</td>\n",
       "      <td>...</td>\n",
       "      <td>...</td>\n",
       "      <td>...</td>\n",
       "      <td>...</td>\n",
       "      <td>...</td>\n",
       "      <td>...</td>\n",
       "      <td>...</td>\n",
       "      <td>...</td>\n",
       "      <td>...</td>\n",
       "      <td>...</td>\n",
       "      <td>...</td>\n",
       "      <td>...</td>\n",
       "      <td>...</td>\n",
       "    </tr>\n",
       "    <tr>\n",
       "      <th>5537</th>\n",
       "      <td>12/11/2022 9:29:39</td>\n",
       "      <td>L-D: 07:30-20:00</td>\n",
       "      <td>21860</td>\n",
       "      <td>HUELVA</td>\n",
       "      <td>Villalba del Alcor</td>\n",
       "      <td>VILLALBA DEL ALCOR</td>\n",
       "      <td>C/ POZO NUEVO, 45</td>\n",
       "      <td>CIUDAD DEL CARMEN S.C.A.</td>\n",
       "      <td>1.947</td>\n",
       "      <td>1.470</td>\n",
       "      <td>NaN</td>\n",
       "      <td>NaN</td>\n",
       "      <td>NaN</td>\n",
       "      <td>1.918386</td>\n",
       "      <td>1.54157</td>\n",
       "      <td>2.010428</td>\n",
       "      <td>1.774055</td>\n",
       "      <td>1.925452</td>\n",
       "    </tr>\n",
       "    <tr>\n",
       "      <th>5538</th>\n",
       "      <td>12/11/2022 9:29:39</td>\n",
       "      <td>L-D: 07:00-22:00</td>\n",
       "      <td>21540</td>\n",
       "      <td>HUELVA</td>\n",
       "      <td>Villanueva de los Castillejos</td>\n",
       "      <td>VILLANUEVA CASTILLEJOS</td>\n",
       "      <td>CARRETERA HUELVA KM. 31</td>\n",
       "      <td>E.S. LA CRUZ DEL GALLO</td>\n",
       "      <td>2.079</td>\n",
       "      <td>NaN</td>\n",
       "      <td>2.129</td>\n",
       "      <td>1.909</td>\n",
       "      <td>NaN</td>\n",
       "      <td>1.918386</td>\n",
       "      <td>1.54157</td>\n",
       "      <td>2.010428</td>\n",
       "      <td>1.774055</td>\n",
       "      <td>1.925452</td>\n",
       "    </tr>\n",
       "    <tr>\n",
       "      <th>5539</th>\n",
       "      <td>12/11/2022 9:29:39</td>\n",
       "      <td>L-V: 06:00-21:00; S-D: 07:00-22:00</td>\n",
       "      <td>21850</td>\n",
       "      <td>HUELVA</td>\n",
       "      <td>Villarrasa</td>\n",
       "      <td>VILLARRASA</td>\n",
       "      <td>AUTOVIA A-49 KM KM. 53</td>\n",
       "      <td>REPSOL</td>\n",
       "      <td>1.999</td>\n",
       "      <td>NaN</td>\n",
       "      <td>2.089</td>\n",
       "      <td>1.839</td>\n",
       "      <td>1.979</td>\n",
       "      <td>1.918386</td>\n",
       "      <td>1.54157</td>\n",
       "      <td>2.010428</td>\n",
       "      <td>1.774055</td>\n",
       "      <td>1.925452</td>\n",
       "    </tr>\n",
       "    <tr>\n",
       "      <th>5540</th>\n",
       "      <td>12/11/2022 9:29:39</td>\n",
       "      <td>L-D: 24H</td>\n",
       "      <td>21850</td>\n",
       "      <td>HUELVA</td>\n",
       "      <td>Villarrasa</td>\n",
       "      <td>VILLARRASA</td>\n",
       "      <td>CALLE ANGUSTIAS, 0</td>\n",
       "      <td>SUMAROIL</td>\n",
       "      <td>1.959</td>\n",
       "      <td>1.579</td>\n",
       "      <td>NaN</td>\n",
       "      <td>1.769</td>\n",
       "      <td>NaN</td>\n",
       "      <td>1.918386</td>\n",
       "      <td>1.54157</td>\n",
       "      <td>2.010428</td>\n",
       "      <td>1.774055</td>\n",
       "      <td>1.925452</td>\n",
       "    </tr>\n",
       "    <tr>\n",
       "      <th>5541</th>\n",
       "      <td>12/11/2022 9:29:39</td>\n",
       "      <td>L-D: 06:00-22:00</td>\n",
       "      <td>21640</td>\n",
       "      <td>HUELVA</td>\n",
       "      <td>Zalamea la Real</td>\n",
       "      <td>ZALAMEA LA REAL</td>\n",
       "      <td>CARRETERA NACIONAL 435 KM. 181,8</td>\n",
       "      <td>DEOIL</td>\n",
       "      <td>1.849</td>\n",
       "      <td>NaN</td>\n",
       "      <td>1.879</td>\n",
       "      <td>1.769</td>\n",
       "      <td>NaN</td>\n",
       "      <td>1.918386</td>\n",
       "      <td>1.54157</td>\n",
       "      <td>2.010428</td>\n",
       "      <td>1.774055</td>\n",
       "      <td>1.925452</td>\n",
       "    </tr>\n",
       "  </tbody>\n",
       "</table>\n",
       "<p>152 rows × 18 columns</p>\n",
       "</div>"
      ],
      "text/plain": [
       "                   Fecha                             Horario   C.P. Provincia  \\\n",
       "5390  12/11/2022 9:29:39                            L-D: 24H  21110    HUELVA   \n",
       "5391  12/11/2022 9:29:39                            L-D: 24H  21110    HUELVA   \n",
       "5392  12/11/2022 9:29:39                    L-D: 07:00-23:00  21110    HUELVA   \n",
       "5393  12/11/2022 9:29:39                    L-D: 06:00-23:59  21730    HUELVA   \n",
       "5394  12/11/2022 9:29:39                            L-D: 24H  21730    HUELVA   \n",
       "...                  ...                                 ...    ...       ...   \n",
       "5537  12/11/2022 9:29:39                    L-D: 07:30-20:00  21860    HUELVA   \n",
       "5538  12/11/2022 9:29:39                    L-D: 07:00-22:00  21540    HUELVA   \n",
       "5539  12/11/2022 9:29:39  L-V: 06:00-21:00; S-D: 07:00-22:00  21850    HUELVA   \n",
       "5540  12/11/2022 9:29:39                            L-D: 24H  21850    HUELVA   \n",
       "5541  12/11/2022 9:29:39                    L-D: 06:00-22:00  21640    HUELVA   \n",
       "\n",
       "                          Municipio               Localidad  \\\n",
       "5390                      Aljaraque               ALJARAQUE   \n",
       "5391                      Aljaraque               ALJARAQUE   \n",
       "5392                      Aljaraque               ALJARAQUE   \n",
       "5393                        Almonte                 ALMONTE   \n",
       "5394                        Almonte                 ALMONTE   \n",
       "...                             ...                     ...   \n",
       "5537             Villalba del Alcor      VILLALBA DEL ALCOR   \n",
       "5538  Villanueva de los Castillejos  VILLANUEVA CASTILLEJOS   \n",
       "5539                     Villarrasa              VILLARRASA   \n",
       "5540                     Villarrasa              VILLARRASA   \n",
       "5541                Zalamea la Real         ZALAMEA LA REAL   \n",
       "\n",
       "                                        Dirección     Proveedor de Servicio  \\\n",
       "5390                          AUTOVIA A-497 KM. 7                    MEROIL   \n",
       "5391                    CARRETERA A-492 KM. 0,100                    TAMOIL   \n",
       "5392                            CALLE CERAMICA, 1                 HIGUEROIL   \n",
       "5393                    AVENIDA RAFAEL ALBERTI, 7                    REPSOL   \n",
       "5394  POLIGONO INDUSTRIAL EL TOMILLAR,PARCELA, 77                     CEPSA   \n",
       "...                                           ...                       ...   \n",
       "5537                            C/ POZO NUEVO, 45  CIUDAD DEL CARMEN S.C.A.   \n",
       "5538                      CARRETERA HUELVA KM. 31    E.S. LA CRUZ DEL GALLO   \n",
       "5539                       AUTOVIA A-49 KM KM. 53                    REPSOL   \n",
       "5540                           CALLE ANGUSTIAS, 0                  SUMAROIL   \n",
       "5541             CARRETERA NACIONAL 435 KM. 181,8                     DEOIL   \n",
       "\n",
       "      Gasoleo A  Gasoleo B  Gasoleo Premium  Gasolina 95 E5  Gasolina 98 E5  \\\n",
       "5390      1.997        NaN            2.107           1.887           1.997   \n",
       "5391      1.899        NaN              NaN           1.779           1.899   \n",
       "5392      1.987        NaN              NaN           1.857             NaN   \n",
       "5393      1.885      1.535            1.991           1.859           1.975   \n",
       "5394      1.975      1.539            2.049           1.869             NaN   \n",
       "...         ...        ...              ...             ...             ...   \n",
       "5537      1.947      1.470              NaN             NaN             NaN   \n",
       "5538      2.079        NaN            2.129           1.909             NaN   \n",
       "5539      1.999        NaN            2.089           1.839           1.979   \n",
       "5540      1.959      1.579              NaN           1.769             NaN   \n",
       "5541      1.849        NaN            1.879           1.769             NaN   \n",
       "\n",
       "      Media Gasoleo A  Media Gasoleo B  Media Gasoleo Prem  Media Gasolina 95  \\\n",
       "5390         1.918386          1.54157            2.010428           1.774055   \n",
       "5391         1.918386          1.54157            2.010428           1.774055   \n",
       "5392         1.918386          1.54157            2.010428           1.774055   \n",
       "5393         1.918386          1.54157            2.010428           1.774055   \n",
       "5394         1.918386          1.54157            2.010428           1.774055   \n",
       "...               ...              ...                 ...                ...   \n",
       "5537         1.918386          1.54157            2.010428           1.774055   \n",
       "5538         1.918386          1.54157            2.010428           1.774055   \n",
       "5539         1.918386          1.54157            2.010428           1.774055   \n",
       "5540         1.918386          1.54157            2.010428           1.774055   \n",
       "5541         1.918386          1.54157            2.010428           1.774055   \n",
       "\n",
       "      Media Gasolina 98  \n",
       "5390           1.925452  \n",
       "5391           1.925452  \n",
       "5392           1.925452  \n",
       "5393           1.925452  \n",
       "5394           1.925452  \n",
       "...                 ...  \n",
       "5537           1.925452  \n",
       "5538           1.925452  \n",
       "5539           1.925452  \n",
       "5540           1.925452  \n",
       "5541           1.925452  \n",
       "\n",
       "[152 rows x 18 columns]"
      ]
     },
     "execution_count": 146,
     "metadata": {},
     "output_type": "execute_result"
    }
   ],
   "source": [
    "gasolineras_provincia('HUELVA')"
   ]
  },
  {
   "cell_type": "code",
   "execution_count": 147,
   "id": "fe00f1c5",
   "metadata": {},
   "outputs": [],
   "source": [
    "# Listado de Gasolineras por Código Postal:\n",
    "# x: código postal\n",
    "def gasolineras_cp(x):\n",
    "    cp = df_n[df_n[\"C.P.\"] == x]\n",
    "    return cp"
   ]
  },
  {
   "cell_type": "code",
   "execution_count": 148,
   "id": "858df679",
   "metadata": {},
   "outputs": [
    {
     "data": {
      "text/html": [
       "<div>\n",
       "<style scoped>\n",
       "    .dataframe tbody tr th:only-of-type {\n",
       "        vertical-align: middle;\n",
       "    }\n",
       "\n",
       "    .dataframe tbody tr th {\n",
       "        vertical-align: top;\n",
       "    }\n",
       "\n",
       "    .dataframe thead th {\n",
       "        text-align: right;\n",
       "    }\n",
       "</style>\n",
       "<table border=\"1\" class=\"dataframe\">\n",
       "  <thead>\n",
       "    <tr style=\"text-align: right;\">\n",
       "      <th></th>\n",
       "      <th>Fecha</th>\n",
       "      <th>Horario</th>\n",
       "      <th>C.P.</th>\n",
       "      <th>Provincia</th>\n",
       "      <th>Municipio</th>\n",
       "      <th>Localidad</th>\n",
       "      <th>Dirección</th>\n",
       "      <th>Proveedor de Servicio</th>\n",
       "      <th>Gasoleo A</th>\n",
       "      <th>Gasoleo B</th>\n",
       "      <th>Gasoleo Premium</th>\n",
       "      <th>Gasolina 95 E5</th>\n",
       "      <th>Gasolina 98 E5</th>\n",
       "      <th>Media Gasoleo A</th>\n",
       "      <th>Media Gasoleo B</th>\n",
       "      <th>Media Gasoleo Prem</th>\n",
       "      <th>Media Gasolina 95</th>\n",
       "      <th>Media Gasolina 98</th>\n",
       "    </tr>\n",
       "  </thead>\n",
       "  <tbody>\n",
       "    <tr>\n",
       "      <th>6552</th>\n",
       "      <td>12/11/2022 9:29:39</td>\n",
       "      <td>L-D: 07:00-22:00</td>\n",
       "      <td>28500</td>\n",
       "      <td>MADRID</td>\n",
       "      <td>Arganda del Rey</td>\n",
       "      <td>ARGANDA</td>\n",
       "      <td>AVENIDA FINANZAUTO (DE), 2</td>\n",
       "      <td>DELFIOIL</td>\n",
       "      <td>1.899</td>\n",
       "      <td>NaN</td>\n",
       "      <td>NaN</td>\n",
       "      <td>1.689</td>\n",
       "      <td>NaN</td>\n",
       "      <td>1.918386</td>\n",
       "      <td>1.54157</td>\n",
       "      <td>2.010428</td>\n",
       "      <td>1.774055</td>\n",
       "      <td>1.925452</td>\n",
       "    </tr>\n",
       "    <tr>\n",
       "      <th>6553</th>\n",
       "      <td>12/11/2022 9:29:39</td>\n",
       "      <td>L-D: 24H</td>\n",
       "      <td>28500</td>\n",
       "      <td>MADRID</td>\n",
       "      <td>Arganda del Rey</td>\n",
       "      <td>ARGANDA</td>\n",
       "      <td>CAMINO CAMINO DE SAN MARTÍN DE LA VEGA A ARGAN...</td>\n",
       "      <td>BALLENOIL</td>\n",
       "      <td>1.889</td>\n",
       "      <td>NaN</td>\n",
       "      <td>NaN</td>\n",
       "      <td>1.689</td>\n",
       "      <td>NaN</td>\n",
       "      <td>1.918386</td>\n",
       "      <td>1.54157</td>\n",
       "      <td>2.010428</td>\n",
       "      <td>1.774055</td>\n",
       "      <td>1.925452</td>\n",
       "    </tr>\n",
       "    <tr>\n",
       "      <th>6554</th>\n",
       "      <td>12/11/2022 9:29:39</td>\n",
       "      <td>L-V: 06:00-22:00; S-D: 08:00-22:00</td>\n",
       "      <td>28500</td>\n",
       "      <td>MADRID</td>\n",
       "      <td>Arganda del Rey</td>\n",
       "      <td>ARGANDA</td>\n",
       "      <td>AVDA DE MADRID, 103</td>\n",
       "      <td>REPSOL</td>\n",
       "      <td>1.999</td>\n",
       "      <td>1.669</td>\n",
       "      <td>2.009</td>\n",
       "      <td>1.829</td>\n",
       "      <td>NaN</td>\n",
       "      <td>1.918386</td>\n",
       "      <td>1.54157</td>\n",
       "      <td>2.010428</td>\n",
       "      <td>1.774055</td>\n",
       "      <td>1.925452</td>\n",
       "    </tr>\n",
       "    <tr>\n",
       "      <th>6555</th>\n",
       "      <td>12/11/2022 9:29:39</td>\n",
       "      <td>L-D: 06:00-00:00</td>\n",
       "      <td>28500</td>\n",
       "      <td>MADRID</td>\n",
       "      <td>Arganda del Rey</td>\n",
       "      <td>ARGANDA</td>\n",
       "      <td>AVENIDA DE MADRID, 126</td>\n",
       "      <td>ATENOIL</td>\n",
       "      <td>1.929</td>\n",
       "      <td>NaN</td>\n",
       "      <td>1.939</td>\n",
       "      <td>1.729</td>\n",
       "      <td>NaN</td>\n",
       "      <td>1.918386</td>\n",
       "      <td>1.54157</td>\n",
       "      <td>2.010428</td>\n",
       "      <td>1.774055</td>\n",
       "      <td>1.925452</td>\n",
       "    </tr>\n",
       "    <tr>\n",
       "      <th>6556</th>\n",
       "      <td>12/11/2022 9:29:39</td>\n",
       "      <td>L-D: 24H</td>\n",
       "      <td>28500</td>\n",
       "      <td>MADRID</td>\n",
       "      <td>Arganda del Rey</td>\n",
       "      <td>ARGANDA</td>\n",
       "      <td>CARRETERA M-832 KM. 3</td>\n",
       "      <td>REPSOL</td>\n",
       "      <td>2.052</td>\n",
       "      <td>NaN</td>\n",
       "      <td>2.132</td>\n",
       "      <td>1.842</td>\n",
       "      <td>NaN</td>\n",
       "      <td>1.918386</td>\n",
       "      <td>1.54157</td>\n",
       "      <td>2.010428</td>\n",
       "      <td>1.774055</td>\n",
       "      <td>1.925452</td>\n",
       "    </tr>\n",
       "    <tr>\n",
       "      <th>6557</th>\n",
       "      <td>12/11/2022 9:29:39</td>\n",
       "      <td>L-D: 24H</td>\n",
       "      <td>28500</td>\n",
       "      <td>MADRID</td>\n",
       "      <td>Arganda del Rey</td>\n",
       "      <td>ARGANDA</td>\n",
       "      <td>AVENIDA MADRID (DE), 66</td>\n",
       "      <td>PLENOIL</td>\n",
       "      <td>1.889</td>\n",
       "      <td>NaN</td>\n",
       "      <td>NaN</td>\n",
       "      <td>1.689</td>\n",
       "      <td>NaN</td>\n",
       "      <td>1.918386</td>\n",
       "      <td>1.54157</td>\n",
       "      <td>2.010428</td>\n",
       "      <td>1.774055</td>\n",
       "      <td>1.925452</td>\n",
       "    </tr>\n",
       "    <tr>\n",
       "      <th>6558</th>\n",
       "      <td>12/11/2022 9:29:39</td>\n",
       "      <td>L-D: 24H</td>\n",
       "      <td>28500</td>\n",
       "      <td>MADRID</td>\n",
       "      <td>Arganda del Rey</td>\n",
       "      <td>ARGANDA</td>\n",
       "      <td>AVENIDA MADRID (DE), SN</td>\n",
       "      <td>PETROPRIX</td>\n",
       "      <td>1.889</td>\n",
       "      <td>NaN</td>\n",
       "      <td>NaN</td>\n",
       "      <td>1.689</td>\n",
       "      <td>NaN</td>\n",
       "      <td>1.918386</td>\n",
       "      <td>1.54157</td>\n",
       "      <td>2.010428</td>\n",
       "      <td>1.774055</td>\n",
       "      <td>1.925452</td>\n",
       "    </tr>\n",
       "    <tr>\n",
       "      <th>6559</th>\n",
       "      <td>12/11/2022 9:29:39</td>\n",
       "      <td>L-D: 24H</td>\n",
       "      <td>28500</td>\n",
       "      <td>MADRID</td>\n",
       "      <td>Arganda del Rey</td>\n",
       "      <td>ARGANDA</td>\n",
       "      <td>AVENIDA VALDEARGANDA, 8</td>\n",
       "      <td>CEPSA</td>\n",
       "      <td>1.979</td>\n",
       "      <td>NaN</td>\n",
       "      <td>2.079</td>\n",
       "      <td>1.809</td>\n",
       "      <td>1.941</td>\n",
       "      <td>1.918386</td>\n",
       "      <td>1.54157</td>\n",
       "      <td>2.010428</td>\n",
       "      <td>1.774055</td>\n",
       "      <td>1.925452</td>\n",
       "    </tr>\n",
       "    <tr>\n",
       "      <th>6560</th>\n",
       "      <td>12/11/2022 9:29:39</td>\n",
       "      <td>L-D: 06:00-22:00</td>\n",
       "      <td>28500</td>\n",
       "      <td>MADRID</td>\n",
       "      <td>Arganda del Rey</td>\n",
       "      <td>ARGANDA</td>\n",
       "      <td>AVENIDA DE MADRID, 37</td>\n",
       "      <td>BP LA ARGANDEÑA</td>\n",
       "      <td>1.969</td>\n",
       "      <td>NaN</td>\n",
       "      <td>2.059</td>\n",
       "      <td>1.809</td>\n",
       "      <td>1.951</td>\n",
       "      <td>1.918386</td>\n",
       "      <td>1.54157</td>\n",
       "      <td>2.010428</td>\n",
       "      <td>1.774055</td>\n",
       "      <td>1.925452</td>\n",
       "    </tr>\n",
       "    <tr>\n",
       "      <th>6561</th>\n",
       "      <td>12/11/2022 9:29:39</td>\n",
       "      <td>L-D: 24H</td>\n",
       "      <td>28500</td>\n",
       "      <td>MADRID</td>\n",
       "      <td>Arganda del Rey</td>\n",
       "      <td>ARGANDA</td>\n",
       "      <td>AVENIDA EJERCITO (DEL), 44</td>\n",
       "      <td>BP ARGANDA</td>\n",
       "      <td>1.969</td>\n",
       "      <td>NaN</td>\n",
       "      <td>2.059</td>\n",
       "      <td>1.809</td>\n",
       "      <td>1.951</td>\n",
       "      <td>1.918386</td>\n",
       "      <td>1.54157</td>\n",
       "      <td>2.010428</td>\n",
       "      <td>1.774055</td>\n",
       "      <td>1.925452</td>\n",
       "    </tr>\n",
       "    <tr>\n",
       "      <th>6562</th>\n",
       "      <td>12/11/2022 9:29:39</td>\n",
       "      <td>L: 24H</td>\n",
       "      <td>28500</td>\n",
       "      <td>MADRID</td>\n",
       "      <td>Arganda del Rey</td>\n",
       "      <td>ARGANDA</td>\n",
       "      <td>CARRETERA M-832 KM. 3</td>\n",
       "      <td>REPSOL</td>\n",
       "      <td>2.052</td>\n",
       "      <td>NaN</td>\n",
       "      <td>NaN</td>\n",
       "      <td>1.842</td>\n",
       "      <td>NaN</td>\n",
       "      <td>1.918386</td>\n",
       "      <td>1.54157</td>\n",
       "      <td>2.010428</td>\n",
       "      <td>1.774055</td>\n",
       "      <td>1.925452</td>\n",
       "    </tr>\n",
       "    <tr>\n",
       "      <th>6563</th>\n",
       "      <td>12/11/2022 9:29:39</td>\n",
       "      <td>L-D: 24H</td>\n",
       "      <td>28500</td>\n",
       "      <td>MADRID</td>\n",
       "      <td>Arganda del Rey</td>\n",
       "      <td>ARGANDA</td>\n",
       "      <td>CAMINO SAN MARTIN DE LA VEGA, 8</td>\n",
       "      <td>BALLENOIL</td>\n",
       "      <td>1.889</td>\n",
       "      <td>NaN</td>\n",
       "      <td>NaN</td>\n",
       "      <td>1.689</td>\n",
       "      <td>NaN</td>\n",
       "      <td>1.918386</td>\n",
       "      <td>1.54157</td>\n",
       "      <td>2.010428</td>\n",
       "      <td>1.774055</td>\n",
       "      <td>1.925452</td>\n",
       "    </tr>\n",
       "  </tbody>\n",
       "</table>\n",
       "</div>"
      ],
      "text/plain": [
       "                   Fecha                             Horario   C.P. Provincia  \\\n",
       "6552  12/11/2022 9:29:39                    L-D: 07:00-22:00  28500    MADRID   \n",
       "6553  12/11/2022 9:29:39                            L-D: 24H  28500    MADRID   \n",
       "6554  12/11/2022 9:29:39  L-V: 06:00-22:00; S-D: 08:00-22:00  28500    MADRID   \n",
       "6555  12/11/2022 9:29:39                    L-D: 06:00-00:00  28500    MADRID   \n",
       "6556  12/11/2022 9:29:39                            L-D: 24H  28500    MADRID   \n",
       "6557  12/11/2022 9:29:39                            L-D: 24H  28500    MADRID   \n",
       "6558  12/11/2022 9:29:39                            L-D: 24H  28500    MADRID   \n",
       "6559  12/11/2022 9:29:39                            L-D: 24H  28500    MADRID   \n",
       "6560  12/11/2022 9:29:39                    L-D: 06:00-22:00  28500    MADRID   \n",
       "6561  12/11/2022 9:29:39                            L-D: 24H  28500    MADRID   \n",
       "6562  12/11/2022 9:29:39                              L: 24H  28500    MADRID   \n",
       "6563  12/11/2022 9:29:39                            L-D: 24H  28500    MADRID   \n",
       "\n",
       "            Municipio Localidad  \\\n",
       "6552  Arganda del Rey   ARGANDA   \n",
       "6553  Arganda del Rey   ARGANDA   \n",
       "6554  Arganda del Rey   ARGANDA   \n",
       "6555  Arganda del Rey   ARGANDA   \n",
       "6556  Arganda del Rey   ARGANDA   \n",
       "6557  Arganda del Rey   ARGANDA   \n",
       "6558  Arganda del Rey   ARGANDA   \n",
       "6559  Arganda del Rey   ARGANDA   \n",
       "6560  Arganda del Rey   ARGANDA   \n",
       "6561  Arganda del Rey   ARGANDA   \n",
       "6562  Arganda del Rey   ARGANDA   \n",
       "6563  Arganda del Rey   ARGANDA   \n",
       "\n",
       "                                              Dirección Proveedor de Servicio  \\\n",
       "6552                         AVENIDA FINANZAUTO (DE), 2              DELFIOIL   \n",
       "6553  CAMINO CAMINO DE SAN MARTÍN DE LA VEGA A ARGAN...             BALLENOIL   \n",
       "6554                                AVDA DE MADRID, 103                REPSOL   \n",
       "6555                             AVENIDA DE MADRID, 126               ATENOIL   \n",
       "6556                              CARRETERA M-832 KM. 3                REPSOL   \n",
       "6557                            AVENIDA MADRID (DE), 66               PLENOIL   \n",
       "6558                            AVENIDA MADRID (DE), SN             PETROPRIX   \n",
       "6559                            AVENIDA VALDEARGANDA, 8                 CEPSA   \n",
       "6560                              AVENIDA DE MADRID, 37       BP LA ARGANDEÑA   \n",
       "6561                         AVENIDA EJERCITO (DEL), 44            BP ARGANDA   \n",
       "6562                              CARRETERA M-832 KM. 3                REPSOL   \n",
       "6563                    CAMINO SAN MARTIN DE LA VEGA, 8             BALLENOIL   \n",
       "\n",
       "      Gasoleo A  Gasoleo B  Gasoleo Premium  Gasolina 95 E5  Gasolina 98 E5  \\\n",
       "6552      1.899        NaN              NaN           1.689             NaN   \n",
       "6553      1.889        NaN              NaN           1.689             NaN   \n",
       "6554      1.999      1.669            2.009           1.829             NaN   \n",
       "6555      1.929        NaN            1.939           1.729             NaN   \n",
       "6556      2.052        NaN            2.132           1.842             NaN   \n",
       "6557      1.889        NaN              NaN           1.689             NaN   \n",
       "6558      1.889        NaN              NaN           1.689             NaN   \n",
       "6559      1.979        NaN            2.079           1.809           1.941   \n",
       "6560      1.969        NaN            2.059           1.809           1.951   \n",
       "6561      1.969        NaN            2.059           1.809           1.951   \n",
       "6562      2.052        NaN              NaN           1.842             NaN   \n",
       "6563      1.889        NaN              NaN           1.689             NaN   \n",
       "\n",
       "      Media Gasoleo A  Media Gasoleo B  Media Gasoleo Prem  Media Gasolina 95  \\\n",
       "6552         1.918386          1.54157            2.010428           1.774055   \n",
       "6553         1.918386          1.54157            2.010428           1.774055   \n",
       "6554         1.918386          1.54157            2.010428           1.774055   \n",
       "6555         1.918386          1.54157            2.010428           1.774055   \n",
       "6556         1.918386          1.54157            2.010428           1.774055   \n",
       "6557         1.918386          1.54157            2.010428           1.774055   \n",
       "6558         1.918386          1.54157            2.010428           1.774055   \n",
       "6559         1.918386          1.54157            2.010428           1.774055   \n",
       "6560         1.918386          1.54157            2.010428           1.774055   \n",
       "6561         1.918386          1.54157            2.010428           1.774055   \n",
       "6562         1.918386          1.54157            2.010428           1.774055   \n",
       "6563         1.918386          1.54157            2.010428           1.774055   \n",
       "\n",
       "      Media Gasolina 98  \n",
       "6552           1.925452  \n",
       "6553           1.925452  \n",
       "6554           1.925452  \n",
       "6555           1.925452  \n",
       "6556           1.925452  \n",
       "6557           1.925452  \n",
       "6558           1.925452  \n",
       "6559           1.925452  \n",
       "6560           1.925452  \n",
       "6561           1.925452  \n",
       "6562           1.925452  \n",
       "6563           1.925452  "
      ]
     },
     "execution_count": 148,
     "metadata": {},
     "output_type": "execute_result"
    }
   ],
   "source": [
    "gasolineras_cp('28500')"
   ]
  },
  {
   "cell_type": "code",
   "execution_count": 149,
   "id": "3542af36",
   "metadata": {},
   "outputs": [
    {
     "data": {
      "text/html": [
       "<div>\n",
       "<style scoped>\n",
       "    .dataframe tbody tr th:only-of-type {\n",
       "        vertical-align: middle;\n",
       "    }\n",
       "\n",
       "    .dataframe tbody tr th {\n",
       "        vertical-align: top;\n",
       "    }\n",
       "\n",
       "    .dataframe thead th {\n",
       "        text-align: right;\n",
       "    }\n",
       "</style>\n",
       "<table border=\"1\" class=\"dataframe\">\n",
       "  <thead>\n",
       "    <tr style=\"text-align: right;\">\n",
       "      <th></th>\n",
       "      <th>Fecha</th>\n",
       "      <th>Horario</th>\n",
       "      <th>C.P.</th>\n",
       "      <th>Provincia</th>\n",
       "      <th>Municipio</th>\n",
       "      <th>Localidad</th>\n",
       "      <th>Dirección</th>\n",
       "      <th>Proveedor de Servicio</th>\n",
       "      <th>Gasoleo A</th>\n",
       "      <th>Gasoleo B</th>\n",
       "      <th>Gasoleo Premium</th>\n",
       "      <th>Gasolina 95 E5</th>\n",
       "      <th>Gasolina 98 E5</th>\n",
       "      <th>Media Gasoleo A</th>\n",
       "      <th>Media Gasoleo B</th>\n",
       "      <th>Media Gasoleo Prem</th>\n",
       "      <th>Media Gasolina 95</th>\n",
       "      <th>Media Gasolina 98</th>\n",
       "    </tr>\n",
       "  </thead>\n",
       "  <tbody>\n",
       "    <tr>\n",
       "      <th>25</th>\n",
       "      <td>12/11/2022 9:29:39</td>\n",
       "      <td>L-D: 08:00-16:00</td>\n",
       "      <td>02328</td>\n",
       "      <td>ALBACETE</td>\n",
       "      <td>Albacete</td>\n",
       "      <td>SANTA ANA</td>\n",
       "      <td>AVENIDA PRINCIPE, 2</td>\n",
       "      <td>REPSOL</td>\n",
       "      <td>1.939</td>\n",
       "      <td>1.573</td>\n",
       "      <td>1.989</td>\n",
       "      <td>1.769</td>\n",
       "      <td>1.879</td>\n",
       "      <td>1.918386</td>\n",
       "      <td>1.54157</td>\n",
       "      <td>2.010428</td>\n",
       "      <td>1.774055</td>\n",
       "      <td>1.925452</td>\n",
       "    </tr>\n",
       "    <tr>\n",
       "      <th>29</th>\n",
       "      <td>12/11/2022 9:29:39</td>\n",
       "      <td>L-D: 06:00-23:30</td>\n",
       "      <td>02007</td>\n",
       "      <td>ALBACETE</td>\n",
       "      <td>Albacete</td>\n",
       "      <td>ALBACETE</td>\n",
       "      <td>CARRETERA C-M 332 KM. 2,6</td>\n",
       "      <td>INLOCOR S.L. \"CEPSA\"</td>\n",
       "      <td>1.999</td>\n",
       "      <td>1.639</td>\n",
       "      <td>2.099</td>\n",
       "      <td>1.799</td>\n",
       "      <td>1.989</td>\n",
       "      <td>1.918386</td>\n",
       "      <td>1.54157</td>\n",
       "      <td>2.010428</td>\n",
       "      <td>1.774055</td>\n",
       "      <td>1.925452</td>\n",
       "    </tr>\n",
       "    <tr>\n",
       "      <th>67</th>\n",
       "      <td>12/11/2022 9:29:39</td>\n",
       "      <td>S-D: 07:00-15:00</td>\n",
       "      <td>02610</td>\n",
       "      <td>ALBACETE</td>\n",
       "      <td>Bonillo (El)</td>\n",
       "      <td>BONILLO (EL)</td>\n",
       "      <td>CALLE CARRETERA MUNERA, 2</td>\n",
       "      <td>REPSOL</td>\n",
       "      <td>1.939</td>\n",
       "      <td>1.587</td>\n",
       "      <td>1.989</td>\n",
       "      <td>1.769</td>\n",
       "      <td>1.879</td>\n",
       "      <td>1.918386</td>\n",
       "      <td>1.54157</td>\n",
       "      <td>2.010428</td>\n",
       "      <td>1.774055</td>\n",
       "      <td>1.925452</td>\n",
       "    </tr>\n",
       "    <tr>\n",
       "      <th>70</th>\n",
       "      <td>12/11/2022 9:29:39</td>\n",
       "      <td>L-D: 07:00-21:00</td>\n",
       "      <td>02200</td>\n",
       "      <td>ALBACETE</td>\n",
       "      <td>Casas-Ibáñez</td>\n",
       "      <td>CASAS-IBAÑEZ</td>\n",
       "      <td>CARRETERA ALBACETE KM. 94</td>\n",
       "      <td>CEPSA</td>\n",
       "      <td>1.969</td>\n",
       "      <td>1.609</td>\n",
       "      <td>2.029</td>\n",
       "      <td>1.809</td>\n",
       "      <td>1.969</td>\n",
       "      <td>1.918386</td>\n",
       "      <td>1.54157</td>\n",
       "      <td>2.010428</td>\n",
       "      <td>1.774055</td>\n",
       "      <td>1.925452</td>\n",
       "    </tr>\n",
       "    <tr>\n",
       "      <th>75</th>\n",
       "      <td>12/11/2022 9:29:39</td>\n",
       "      <td>L-D: 06:00-23:00</td>\n",
       "      <td>02660</td>\n",
       "      <td>ALBACETE</td>\n",
       "      <td>Caudete</td>\n",
       "      <td>CAUDETE</td>\n",
       "      <td>CR N-330, 71,4</td>\n",
       "      <td>REPSOL</td>\n",
       "      <td>1.959</td>\n",
       "      <td>1.530</td>\n",
       "      <td>2.009</td>\n",
       "      <td>1.799</td>\n",
       "      <td>1.909</td>\n",
       "      <td>1.918386</td>\n",
       "      <td>1.54157</td>\n",
       "      <td>2.010428</td>\n",
       "      <td>1.774055</td>\n",
       "      <td>1.925452</td>\n",
       "    </tr>\n",
       "    <tr>\n",
       "      <th>...</th>\n",
       "      <td>...</td>\n",
       "      <td>...</td>\n",
       "      <td>...</td>\n",
       "      <td>...</td>\n",
       "      <td>...</td>\n",
       "      <td>...</td>\n",
       "      <td>...</td>\n",
       "      <td>...</td>\n",
       "      <td>...</td>\n",
       "      <td>...</td>\n",
       "      <td>...</td>\n",
       "      <td>...</td>\n",
       "      <td>...</td>\n",
       "      <td>...</td>\n",
       "      <td>...</td>\n",
       "      <td>...</td>\n",
       "      <td>...</td>\n",
       "      <td>...</td>\n",
       "    </tr>\n",
       "    <tr>\n",
       "      <th>11748</th>\n",
       "      <td>12/11/2022 9:29:39</td>\n",
       "      <td>L-D: 24H</td>\n",
       "      <td>50013</td>\n",
       "      <td>ZARAGOZA</td>\n",
       "      <td>Zaragoza</td>\n",
       "      <td>CARTUJA BAJA</td>\n",
       "      <td>CARRETERA CASTELLON KM. 3,7</td>\n",
       "      <td>BP AVELLANAS</td>\n",
       "      <td>1.959</td>\n",
       "      <td>1.609</td>\n",
       "      <td>2.079</td>\n",
       "      <td>1.829</td>\n",
       "      <td>1.979</td>\n",
       "      <td>1.918386</td>\n",
       "      <td>1.54157</td>\n",
       "      <td>2.010428</td>\n",
       "      <td>1.774055</td>\n",
       "      <td>1.925452</td>\n",
       "    </tr>\n",
       "    <tr>\n",
       "      <th>11775</th>\n",
       "      <td>12/11/2022 9:29:39</td>\n",
       "      <td>L-D: 24H</td>\n",
       "      <td>50020</td>\n",
       "      <td>ZARAGOZA</td>\n",
       "      <td>Zaragoza</td>\n",
       "      <td>ZARAGOZA</td>\n",
       "      <td>AVENIDA DIAGONAL, 9 - POLIGONO PLAZA, 9</td>\n",
       "      <td>REPSOL</td>\n",
       "      <td>1.949</td>\n",
       "      <td>1.595</td>\n",
       "      <td>2.009</td>\n",
       "      <td>1.809</td>\n",
       "      <td>1.959</td>\n",
       "      <td>1.918386</td>\n",
       "      <td>1.54157</td>\n",
       "      <td>2.010428</td>\n",
       "      <td>1.774055</td>\n",
       "      <td>1.925452</td>\n",
       "    </tr>\n",
       "    <tr>\n",
       "      <th>11779</th>\n",
       "      <td>12/11/2022 9:29:39</td>\n",
       "      <td>L-D: 06:00-22:00</td>\n",
       "      <td>50190</td>\n",
       "      <td>ZARAGOZA</td>\n",
       "      <td>Zaragoza</td>\n",
       "      <td>GARRAPINILLOS</td>\n",
       "      <td>CARRETERA N-125 KM. 5,6</td>\n",
       "      <td>CEPSA</td>\n",
       "      <td>1.939</td>\n",
       "      <td>1.549</td>\n",
       "      <td>2.009</td>\n",
       "      <td>1.789</td>\n",
       "      <td>1.929</td>\n",
       "      <td>1.918386</td>\n",
       "      <td>1.54157</td>\n",
       "      <td>2.010428</td>\n",
       "      <td>1.774055</td>\n",
       "      <td>1.925452</td>\n",
       "    </tr>\n",
       "    <tr>\n",
       "      <th>11782</th>\n",
       "      <td>12/11/2022 9:29:39</td>\n",
       "      <td>L-V: 05:00-22:00; S-D: 08:00-22:00</td>\n",
       "      <td>50692</td>\n",
       "      <td>ZARAGOZA</td>\n",
       "      <td>Zaragoza</td>\n",
       "      <td>VILLARRAPA</td>\n",
       "      <td>AUTOVIA A-68 KM. 258,25</td>\n",
       "      <td>REPSOL</td>\n",
       "      <td>1.929</td>\n",
       "      <td>1.533</td>\n",
       "      <td>2.019</td>\n",
       "      <td>1.799</td>\n",
       "      <td>1.949</td>\n",
       "      <td>1.918386</td>\n",
       "      <td>1.54157</td>\n",
       "      <td>2.010428</td>\n",
       "      <td>1.774055</td>\n",
       "      <td>1.925452</td>\n",
       "    </tr>\n",
       "    <tr>\n",
       "      <th>11786</th>\n",
       "      <td>12/11/2022 9:29:39</td>\n",
       "      <td>L-D: 06:00-22:00</td>\n",
       "      <td>50800</td>\n",
       "      <td>ZARAGOZA</td>\n",
       "      <td>Zuera</td>\n",
       "      <td>ZUERA</td>\n",
       "      <td>CARRETERA N-330A KM. 24,000</td>\n",
       "      <td>REPSOL</td>\n",
       "      <td>1.919</td>\n",
       "      <td>1.519</td>\n",
       "      <td>1.969</td>\n",
       "      <td>1.779</td>\n",
       "      <td>1.909</td>\n",
       "      <td>1.918386</td>\n",
       "      <td>1.54157</td>\n",
       "      <td>2.010428</td>\n",
       "      <td>1.774055</td>\n",
       "      <td>1.925452</td>\n",
       "    </tr>\n",
       "  </tbody>\n",
       "</table>\n",
       "<p>913 rows × 18 columns</p>\n",
       "</div>"
      ],
      "text/plain": [
       "                    Fecha                             Horario   C.P.  \\\n",
       "25     12/11/2022 9:29:39                    L-D: 08:00-16:00  02328   \n",
       "29     12/11/2022 9:29:39                    L-D: 06:00-23:30  02007   \n",
       "67     12/11/2022 9:29:39                    S-D: 07:00-15:00  02610   \n",
       "70     12/11/2022 9:29:39                    L-D: 07:00-21:00  02200   \n",
       "75     12/11/2022 9:29:39                    L-D: 06:00-23:00  02660   \n",
       "...                   ...                                 ...    ...   \n",
       "11748  12/11/2022 9:29:39                            L-D: 24H  50013   \n",
       "11775  12/11/2022 9:29:39                            L-D: 24H  50020   \n",
       "11779  12/11/2022 9:29:39                    L-D: 06:00-22:00  50190   \n",
       "11782  12/11/2022 9:29:39  L-V: 05:00-22:00; S-D: 08:00-22:00  50692   \n",
       "11786  12/11/2022 9:29:39                    L-D: 06:00-22:00  50800   \n",
       "\n",
       "      Provincia     Municipio      Localidad  \\\n",
       "25     ALBACETE      Albacete      SANTA ANA   \n",
       "29     ALBACETE      Albacete       ALBACETE   \n",
       "67     ALBACETE  Bonillo (El)   BONILLO (EL)   \n",
       "70     ALBACETE  Casas-Ibáñez   CASAS-IBAÑEZ   \n",
       "75     ALBACETE       Caudete        CAUDETE   \n",
       "...         ...           ...            ...   \n",
       "11748  ZARAGOZA      Zaragoza   CARTUJA BAJA   \n",
       "11775  ZARAGOZA      Zaragoza       ZARAGOZA   \n",
       "11779  ZARAGOZA      Zaragoza  GARRAPINILLOS   \n",
       "11782  ZARAGOZA      Zaragoza     VILLARRAPA   \n",
       "11786  ZARAGOZA         Zuera          ZUERA   \n",
       "\n",
       "                                     Dirección Proveedor de Servicio  \\\n",
       "25                         AVENIDA PRINCIPE, 2                REPSOL   \n",
       "29                   CARRETERA C-M 332 KM. 2,6  INLOCOR S.L. \"CEPSA\"   \n",
       "67                   CALLE CARRETERA MUNERA, 2                REPSOL   \n",
       "70                   CARRETERA ALBACETE KM. 94                 CEPSA   \n",
       "75                              CR N-330, 71,4                REPSOL   \n",
       "...                                        ...                   ...   \n",
       "11748              CARRETERA CASTELLON KM. 3,7          BP AVELLANAS   \n",
       "11775  AVENIDA DIAGONAL, 9 - POLIGONO PLAZA, 9                REPSOL   \n",
       "11779                  CARRETERA N-125 KM. 5,6                 CEPSA   \n",
       "11782                  AUTOVIA A-68 KM. 258,25                REPSOL   \n",
       "11786              CARRETERA N-330A KM. 24,000                REPSOL   \n",
       "\n",
       "       Gasoleo A  Gasoleo B  Gasoleo Premium  Gasolina 95 E5  Gasolina 98 E5  \\\n",
       "25         1.939      1.573            1.989           1.769           1.879   \n",
       "29         1.999      1.639            2.099           1.799           1.989   \n",
       "67         1.939      1.587            1.989           1.769           1.879   \n",
       "70         1.969      1.609            2.029           1.809           1.969   \n",
       "75         1.959      1.530            2.009           1.799           1.909   \n",
       "...          ...        ...              ...             ...             ...   \n",
       "11748      1.959      1.609            2.079           1.829           1.979   \n",
       "11775      1.949      1.595            2.009           1.809           1.959   \n",
       "11779      1.939      1.549            2.009           1.789           1.929   \n",
       "11782      1.929      1.533            2.019           1.799           1.949   \n",
       "11786      1.919      1.519            1.969           1.779           1.909   \n",
       "\n",
       "       Media Gasoleo A  Media Gasoleo B  Media Gasoleo Prem  \\\n",
       "25            1.918386          1.54157            2.010428   \n",
       "29            1.918386          1.54157            2.010428   \n",
       "67            1.918386          1.54157            2.010428   \n",
       "70            1.918386          1.54157            2.010428   \n",
       "75            1.918386          1.54157            2.010428   \n",
       "...                ...              ...                 ...   \n",
       "11748         1.918386          1.54157            2.010428   \n",
       "11775         1.918386          1.54157            2.010428   \n",
       "11779         1.918386          1.54157            2.010428   \n",
       "11782         1.918386          1.54157            2.010428   \n",
       "11786         1.918386          1.54157            2.010428   \n",
       "\n",
       "       Media Gasolina 95  Media Gasolina 98  \n",
       "25              1.774055           1.925452  \n",
       "29              1.774055           1.925452  \n",
       "67              1.774055           1.925452  \n",
       "70              1.774055           1.925452  \n",
       "75              1.774055           1.925452  \n",
       "...                  ...                ...  \n",
       "11748           1.774055           1.925452  \n",
       "11775           1.774055           1.925452  \n",
       "11779           1.774055           1.925452  \n",
       "11782           1.774055           1.925452  \n",
       "11786           1.774055           1.925452  \n",
       "\n",
       "[913 rows x 18 columns]"
      ]
     },
     "execution_count": 149,
     "metadata": {},
     "output_type": "execute_result"
    }
   ],
   "source": [
    "df_n.dropna()"
   ]
  },
  {
   "cell_type": "code",
   "execution_count": null,
   "id": "5554abd0",
   "metadata": {},
   "outputs": [],
   "source": []
  },
  {
   "cell_type": "code",
   "execution_count": null,
   "id": "9bdeaf58",
   "metadata": {},
   "outputs": [],
   "source": []
  },
  {
   "cell_type": "code",
   "execution_count": null,
   "id": "7ea9bb56",
   "metadata": {},
   "outputs": [],
   "source": []
  },
  {
   "cell_type": "code",
   "execution_count": null,
   "id": "0ebf5653",
   "metadata": {},
   "outputs": [],
   "source": []
  }
 ],
 "metadata": {
  "kernelspec": {
   "display_name": "Python [conda env:m1_ih]",
   "language": "python",
   "name": "conda-env-m1_ih-py"
  },
  "language_info": {
   "codemirror_mode": {
    "name": "ipython",
    "version": 3
   },
   "file_extension": ".py",
   "mimetype": "text/x-python",
   "name": "python",
   "nbconvert_exporter": "python",
   "pygments_lexer": "ipython3",
   "version": "3.9.12"
  }
 },
 "nbformat": 4,
 "nbformat_minor": 5
}
