{
 "cells": [
  {
   "cell_type": "markdown",
   "id": "3e6982b2",
   "metadata": {},
   "source": [
    "## MVP"
   ]
  },
  {
   "cell_type": "code",
   "execution_count": 2,
   "id": "2cef25b8",
   "metadata": {},
   "outputs": [],
   "source": [
    "# Imports\n",
    "\n",
    "# Pandas\n",
    "import pandas as pd \n",
    "\n",
    "# Importo libreria para conexión a API\n",
    "from urllib.request import urlopen\n",
    "\n",
    "\n",
    "# Importo libreria Json para que lea\n",
    "import json\n",
    "\n",
    "#Normalizar Json\n",
    "from pandas.io.json import json_normalize\n",
    "\n",
    "# Matploylib para visualizar gráficos\n",
    "import matplotlib.pyplot as plt \n",
    "\n",
    "# Importo libreria Streamlit para que se ejecute con el comando\n",
    "import streamlit as st "
   ]
  },
  {
   "cell_type": "markdown",
   "id": "9397380f",
   "metadata": {},
   "source": [
    "---\n",
    "Step 1 (Data Extraction)"
   ]
  },
  {
   "cell_type": "code",
   "execution_count": null,
   "id": "55515f32",
   "metadata": {},
   "outputs": [],
   "source": [
    "# Definir las variables donde meto el string que contiene la URL\n",
    "\n",
    "endpoint ='https://sedeaplicaciones.minetur.gob.es'\n",
    "parametros = '/ServiciosRESTCarburantes/PreciosCarburantes/EstacionesTerrestres/'\n"
   ]
  },
  {
   "cell_type": "code",
   "execution_count": null,
   "id": "2d466973",
   "metadata": {},
   "outputs": [
    {
     "data": {
      "text/plain": [
       "http.client.HTTPResponse"
      ]
     },
     "execution_count": 10,
     "metadata": {},
     "output_type": "execute_result"
    }
   ],
   "source": [
    "# Vamos a guardar en una variable nuestros datos (resultado, comida) \n",
    "\n",
    "response = urlopen(endpoint+parametros)\n",
    "type(response)\n"
   ]
  },
  {
   "cell_type": "code",
   "execution_count": null,
   "id": "0031d835",
   "metadata": {},
   "outputs": [
    {
     "data": {
      "text/plain": [
       "dict"
      ]
     },
     "execution_count": 11,
     "metadata": {},
     "output_type": "execute_result"
    }
   ],
   "source": [
    "# Vamos a extraer del obejto, los datos\n",
    "\n",
    "data = response.read().decode('utf-8', 'replace')\n",
    "data = json.loads(data)\n",
    "type(data)\n"
   ]
  },
  {
   "cell_type": "code",
   "execution_count": null,
   "id": "501a7f08",
   "metadata": {},
   "outputs": [
    {
     "data": {
      "text/html": [
       "<div>\n",
       "<style scoped>\n",
       "    .dataframe tbody tr th:only-of-type {\n",
       "        vertical-align: middle;\n",
       "    }\n",
       "\n",
       "    .dataframe tbody tr th {\n",
       "        vertical-align: top;\n",
       "    }\n",
       "\n",
       "    .dataframe thead th {\n",
       "        text-align: right;\n",
       "    }\n",
       "</style>\n",
       "<table border=\"1\" class=\"dataframe\">\n",
       "  <thead>\n",
       "    <tr style=\"text-align: right;\">\n",
       "      <th></th>\n",
       "      <th>Fecha</th>\n",
       "      <th>ListaEESSPrecio</th>\n",
       "      <th>Nota</th>\n",
       "      <th>ResultadoConsulta</th>\n",
       "    </tr>\n",
       "  </thead>\n",
       "  <tbody>\n",
       "    <tr>\n",
       "      <th>0</th>\n",
       "      <td>26/10/2022 17:59:08</td>\n",
       "      <td>{'C.P.': '02250', 'Dirección': 'AVENIDA CASTIL...</td>\n",
       "      <td>Archivo de todos los productos en todas las es...</td>\n",
       "      <td>OK</td>\n",
       "    </tr>\n",
       "    <tr>\n",
       "      <th>1</th>\n",
       "      <td>26/10/2022 17:59:08</td>\n",
       "      <td>{'C.P.': '02001', 'Dirección': 'CALLE FEDERICO...</td>\n",
       "      <td>Archivo de todos los productos en todas las es...</td>\n",
       "      <td>OK</td>\n",
       "    </tr>\n",
       "    <tr>\n",
       "      <th>2</th>\n",
       "      <td>26/10/2022 17:59:08</td>\n",
       "      <td>{'C.P.': '02001', 'Dirección': 'AVENIDA 1º DE ...</td>\n",
       "      <td>Archivo de todos los productos en todas las es...</td>\n",
       "      <td>OK</td>\n",
       "    </tr>\n",
       "    <tr>\n",
       "      <th>3</th>\n",
       "      <td>26/10/2022 17:59:08</td>\n",
       "      <td>{'C.P.': '02001', 'Dirección': 'CALLE FEDERICO...</td>\n",
       "      <td>Archivo de todos los productos en todas las es...</td>\n",
       "      <td>OK</td>\n",
       "    </tr>\n",
       "    <tr>\n",
       "      <th>4</th>\n",
       "      <td>26/10/2022 17:59:08</td>\n",
       "      <td>{'C.P.': '02001', 'Dirección': 'CALLE PRINCIPE...</td>\n",
       "      <td>Archivo de todos los productos en todas las es...</td>\n",
       "      <td>OK</td>\n",
       "    </tr>\n",
       "    <tr>\n",
       "      <th>...</th>\n",
       "      <td>...</td>\n",
       "      <td>...</td>\n",
       "      <td>...</td>\n",
       "      <td>...</td>\n",
       "    </tr>\n",
       "    <tr>\n",
       "      <th>11772</th>\n",
       "      <td>26/10/2022 17:59:08</td>\n",
       "      <td>{'C.P.': '50197', 'Dirección': 'POLIGONO CALLE...</td>\n",
       "      <td>Archivo de todos los productos en todas las es...</td>\n",
       "      <td>OK</td>\n",
       "    </tr>\n",
       "    <tr>\n",
       "      <th>11773</th>\n",
       "      <td>26/10/2022 17:59:08</td>\n",
       "      <td>{'C.P.': '50197', 'Dirección': 'RONDA FERIA DE...</td>\n",
       "      <td>Archivo de todos los productos en todas las es...</td>\n",
       "      <td>OK</td>\n",
       "    </tr>\n",
       "    <tr>\n",
       "      <th>11774</th>\n",
       "      <td>26/10/2022 17:59:08</td>\n",
       "      <td>{'C.P.': '50800', 'Dirección': 'CARRETERA N-33...</td>\n",
       "      <td>Archivo de todos los productos en todas las es...</td>\n",
       "      <td>OK</td>\n",
       "    </tr>\n",
       "    <tr>\n",
       "      <th>11775</th>\n",
       "      <td>26/10/2022 17:59:08</td>\n",
       "      <td>{'C.P.': '50800', 'Dirección': 'CALLE AUSTRIA,...</td>\n",
       "      <td>Archivo de todos los productos en todas las es...</td>\n",
       "      <td>OK</td>\n",
       "    </tr>\n",
       "    <tr>\n",
       "      <th>11776</th>\n",
       "      <td>26/10/2022 17:59:08</td>\n",
       "      <td>{'C.P.': '50810', 'Dirección': 'CALLE COOPERAT...</td>\n",
       "      <td>Archivo de todos los productos en todas las es...</td>\n",
       "      <td>OK</td>\n",
       "    </tr>\n",
       "  </tbody>\n",
       "</table>\n",
       "<p>11777 rows × 4 columns</p>\n",
       "</div>"
      ],
      "text/plain": [
       "                     Fecha                                    ListaEESSPrecio  \\\n",
       "0      26/10/2022 17:59:08  {'C.P.': '02250', 'Dirección': 'AVENIDA CASTIL...   \n",
       "1      26/10/2022 17:59:08  {'C.P.': '02001', 'Dirección': 'CALLE FEDERICO...   \n",
       "2      26/10/2022 17:59:08  {'C.P.': '02001', 'Dirección': 'AVENIDA 1º DE ...   \n",
       "3      26/10/2022 17:59:08  {'C.P.': '02001', 'Dirección': 'CALLE FEDERICO...   \n",
       "4      26/10/2022 17:59:08  {'C.P.': '02001', 'Dirección': 'CALLE PRINCIPE...   \n",
       "...                    ...                                                ...   \n",
       "11772  26/10/2022 17:59:08  {'C.P.': '50197', 'Dirección': 'POLIGONO CALLE...   \n",
       "11773  26/10/2022 17:59:08  {'C.P.': '50197', 'Dirección': 'RONDA FERIA DE...   \n",
       "11774  26/10/2022 17:59:08  {'C.P.': '50800', 'Dirección': 'CARRETERA N-33...   \n",
       "11775  26/10/2022 17:59:08  {'C.P.': '50800', 'Dirección': 'CALLE AUSTRIA,...   \n",
       "11776  26/10/2022 17:59:08  {'C.P.': '50810', 'Dirección': 'CALLE COOPERAT...   \n",
       "\n",
       "                                                    Nota ResultadoConsulta  \n",
       "0      Archivo de todos los productos en todas las es...                OK  \n",
       "1      Archivo de todos los productos en todas las es...                OK  \n",
       "2      Archivo de todos los productos en todas las es...                OK  \n",
       "3      Archivo de todos los productos en todas las es...                OK  \n",
       "4      Archivo de todos los productos en todas las es...                OK  \n",
       "...                                                  ...               ...  \n",
       "11772  Archivo de todos los productos en todas las es...                OK  \n",
       "11773  Archivo de todos los productos en todas las es...                OK  \n",
       "11774  Archivo de todos los productos en todas las es...                OK  \n",
       "11775  Archivo de todos los productos en todas las es...                OK  \n",
       "11776  Archivo de todos los productos en todas las es...                OK  \n",
       "\n",
       "[11777 rows x 4 columns]"
      ]
     },
     "execution_count": 12,
     "metadata": {},
     "output_type": "execute_result"
    }
   ],
   "source": [
    "# Crear Dataframe\n",
    "\n",
    "df = pd.DataFrame(data)\n",
    "df"
   ]
  },
  {
   "cell_type": "code",
   "execution_count": null,
   "id": "d6ede9d9",
   "metadata": {},
   "outputs": [],
   "source": []
  },
  {
   "cell_type": "markdown",
   "id": "bf936489",
   "metadata": {},
   "source": [
    "---\n",
    "\n",
    "Step 2 (Data Transformation)"
   ]
  },
  {
   "cell_type": "code",
   "execution_count": null,
   "id": "82a65952",
   "metadata": {},
   "outputs": [
    {
     "data": {
      "text/plain": [
       "dict"
      ]
     },
     "execution_count": 13,
     "metadata": {},
     "output_type": "execute_result"
    }
   ],
   "source": [
    "# Análisis de la columna Lista EESS Precio\n",
    "\n",
    "diccionario = df['ListaEESSPrecio'].iloc[1]\n",
    "type(diccionario)"
   ]
  },
  {
   "cell_type": "code",
   "execution_count": null,
   "id": "3207dce3",
   "metadata": {},
   "outputs": [
    {
     "data": {
      "text/plain": [
       "{'C.P.': '02001',\n",
       " 'Dirección': 'CALLE FEDERICO GARCIA LORCA, 5',\n",
       " 'Horario': 'L-S: 05:00-23:00',\n",
       " 'Latitud': '38,997722',\n",
       " 'Localidad': 'ALBACETE',\n",
       " 'Longitud (WGS84)': '-1,846361',\n",
       " 'Margen': 'I',\n",
       " 'Municipio': 'Albacete',\n",
       " 'Precio Biodiesel': '',\n",
       " 'Precio Bioetanol': '',\n",
       " 'Precio Gas Natural Comprimido': '',\n",
       " 'Precio Gas Natural Licuado': '',\n",
       " 'Precio Gases licuados del petróleo': '',\n",
       " 'Precio Gasoleo A': '2,040',\n",
       " 'Precio Gasoleo B': '',\n",
       " 'Precio Gasoleo Premium': '',\n",
       " 'Precio Gasolina 95 E10': '',\n",
       " 'Precio Gasolina 95 E5': '',\n",
       " 'Precio Gasolina 95 E5 Premium': '',\n",
       " 'Precio Gasolina 98 E10': '',\n",
       " 'Precio Gasolina 98 E5': '',\n",
       " 'Precio Hidrogeno': '',\n",
       " 'Provincia': 'ALBACETE',\n",
       " 'Remisión': 'dm',\n",
       " 'Rótulo': 'CEPSA',\n",
       " 'Tipo Venta': 'R',\n",
       " '% BioEtanol': '0,0',\n",
       " '% Éster metílico': '0,0',\n",
       " 'IDEESS': '4438',\n",
       " 'IDMunicipio': '54',\n",
       " 'IDProvincia': '02',\n",
       " 'IDCCAA': '07'}"
      ]
     },
     "execution_count": 14,
     "metadata": {},
     "output_type": "execute_result"
    }
   ],
   "source": [
    "diccionario"
   ]
  },
  {
   "cell_type": "code",
   "execution_count": null,
   "id": "b1c814d5",
   "metadata": {},
   "outputs": [
    {
     "data": {
      "text/html": [
       "<div>\n",
       "<style scoped>\n",
       "    .dataframe tbody tr th:only-of-type {\n",
       "        vertical-align: middle;\n",
       "    }\n",
       "\n",
       "    .dataframe tbody tr th {\n",
       "        vertical-align: top;\n",
       "    }\n",
       "\n",
       "    .dataframe thead th {\n",
       "        text-align: right;\n",
       "    }\n",
       "</style>\n",
       "<table border=\"1\" class=\"dataframe\">\n",
       "  <thead>\n",
       "    <tr style=\"text-align: right;\">\n",
       "      <th></th>\n",
       "      <th>Fecha</th>\n",
       "      <th>C.P.</th>\n",
       "      <th>Dirección</th>\n",
       "      <th>Horario</th>\n",
       "      <th>Latitud</th>\n",
       "      <th>Localidad</th>\n",
       "      <th>Longitud (WGS84)</th>\n",
       "      <th>Margen</th>\n",
       "      <th>Municipio</th>\n",
       "      <th>Precio Biodiesel</th>\n",
       "      <th>...</th>\n",
       "      <th>Provincia</th>\n",
       "      <th>Remisión</th>\n",
       "      <th>Rótulo</th>\n",
       "      <th>Tipo Venta</th>\n",
       "      <th>% BioEtanol</th>\n",
       "      <th>% Éster metílico</th>\n",
       "      <th>IDEESS</th>\n",
       "      <th>IDMunicipio</th>\n",
       "      <th>IDProvincia</th>\n",
       "      <th>IDCCAA</th>\n",
       "    </tr>\n",
       "  </thead>\n",
       "  <tbody>\n",
       "    <tr>\n",
       "      <th>0</th>\n",
       "      <td>26/10/2022 17:59:08</td>\n",
       "      <td>02250</td>\n",
       "      <td>AVENIDA CASTILLA LA MANCHA, 26</td>\n",
       "      <td>L-D: 07:00-22:00</td>\n",
       "      <td>39,211417</td>\n",
       "      <td>ABENGIBRE</td>\n",
       "      <td>-1,539167</td>\n",
       "      <td>D</td>\n",
       "      <td>Abengibre</td>\n",
       "      <td></td>\n",
       "      <td>...</td>\n",
       "      <td>ALBACETE</td>\n",
       "      <td>dm</td>\n",
       "      <td>Nº 10.935</td>\n",
       "      <td>P</td>\n",
       "      <td>0,0</td>\n",
       "      <td>0,0</td>\n",
       "      <td>4375</td>\n",
       "      <td>52</td>\n",
       "      <td>02</td>\n",
       "      <td>07</td>\n",
       "    </tr>\n",
       "    <tr>\n",
       "      <th>1</th>\n",
       "      <td>26/10/2022 17:59:08</td>\n",
       "      <td>02001</td>\n",
       "      <td>CALLE FEDERICO GARCIA LORCA, 5</td>\n",
       "      <td>L-S: 05:00-23:00</td>\n",
       "      <td>38,997722</td>\n",
       "      <td>ALBACETE</td>\n",
       "      <td>-1,846361</td>\n",
       "      <td>I</td>\n",
       "      <td>Albacete</td>\n",
       "      <td></td>\n",
       "      <td>...</td>\n",
       "      <td>ALBACETE</td>\n",
       "      <td>dm</td>\n",
       "      <td>CEPSA</td>\n",
       "      <td>R</td>\n",
       "      <td>0,0</td>\n",
       "      <td>0,0</td>\n",
       "      <td>4438</td>\n",
       "      <td>54</td>\n",
       "      <td>02</td>\n",
       "      <td>07</td>\n",
       "    </tr>\n",
       "    <tr>\n",
       "      <th>2</th>\n",
       "      <td>26/10/2022 17:59:08</td>\n",
       "      <td>02001</td>\n",
       "      <td>AVENIDA 1º DE MAYO, S/N</td>\n",
       "      <td>L-S: 08:00-22:00; D: 09:00-21:00</td>\n",
       "      <td>38,985667</td>\n",
       "      <td>ALBACETE</td>\n",
       "      <td>-1,868500</td>\n",
       "      <td>N</td>\n",
       "      <td>Albacete</td>\n",
       "      <td></td>\n",
       "      <td>...</td>\n",
       "      <td>ALBACETE</td>\n",
       "      <td>dm</td>\n",
       "      <td>CARREFOUR</td>\n",
       "      <td>P</td>\n",
       "      <td>0,0</td>\n",
       "      <td>0,0</td>\n",
       "      <td>10765</td>\n",
       "      <td>54</td>\n",
       "      <td>02</td>\n",
       "      <td>07</td>\n",
       "    </tr>\n",
       "    <tr>\n",
       "      <th>3</th>\n",
       "      <td>26/10/2022 17:59:08</td>\n",
       "      <td>02001</td>\n",
       "      <td>CALLE FEDERICO GARCIA LORCA, 1</td>\n",
       "      <td>L-D: 24H</td>\n",
       "      <td>39,000861</td>\n",
       "      <td>ALBACETE</td>\n",
       "      <td>-1,849833</td>\n",
       "      <td>D</td>\n",
       "      <td>Albacete</td>\n",
       "      <td></td>\n",
       "      <td>...</td>\n",
       "      <td>ALBACETE</td>\n",
       "      <td>dm</td>\n",
       "      <td>PLENOIL</td>\n",
       "      <td>P</td>\n",
       "      <td>0,0</td>\n",
       "      <td>0,0</td>\n",
       "      <td>13933</td>\n",
       "      <td>54</td>\n",
       "      <td>02</td>\n",
       "      <td>07</td>\n",
       "    </tr>\n",
       "    <tr>\n",
       "      <th>4</th>\n",
       "      <td>26/10/2022 17:59:08</td>\n",
       "      <td>02001</td>\n",
       "      <td>CALLE PRINCIPE DE ASTURIAS (POLÍGONO DE ROMICA...</td>\n",
       "      <td>L-D: 06:00-21:30</td>\n",
       "      <td>39,054694</td>\n",
       "      <td>ALBACETE</td>\n",
       "      <td>-1,832000</td>\n",
       "      <td>I</td>\n",
       "      <td>Albacete</td>\n",
       "      <td></td>\n",
       "      <td>...</td>\n",
       "      <td>ALBACETE</td>\n",
       "      <td>OM</td>\n",
       "      <td>BP ROMICA</td>\n",
       "      <td>P</td>\n",
       "      <td>0,0</td>\n",
       "      <td>0,0</td>\n",
       "      <td>12054</td>\n",
       "      <td>54</td>\n",
       "      <td>02</td>\n",
       "      <td>07</td>\n",
       "    </tr>\n",
       "    <tr>\n",
       "      <th>...</th>\n",
       "      <td>...</td>\n",
       "      <td>...</td>\n",
       "      <td>...</td>\n",
       "      <td>...</td>\n",
       "      <td>...</td>\n",
       "      <td>...</td>\n",
       "      <td>...</td>\n",
       "      <td>...</td>\n",
       "      <td>...</td>\n",
       "      <td>...</td>\n",
       "      <td>...</td>\n",
       "      <td>...</td>\n",
       "      <td>...</td>\n",
       "      <td>...</td>\n",
       "      <td>...</td>\n",
       "      <td>...</td>\n",
       "      <td>...</td>\n",
       "      <td>...</td>\n",
       "      <td>...</td>\n",
       "      <td>...</td>\n",
       "      <td>...</td>\n",
       "    </tr>\n",
       "    <tr>\n",
       "      <th>11772</th>\n",
       "      <td>26/10/2022 17:59:08</td>\n",
       "      <td>50197</td>\n",
       "      <td>POLIGONO CALLE TURIASO, 31</td>\n",
       "      <td>L-D: 24H</td>\n",
       "      <td>41,645722</td>\n",
       "      <td>ZARAGOZA</td>\n",
       "      <td>-0,974194</td>\n",
       "      <td>D</td>\n",
       "      <td>Zaragoza</td>\n",
       "      <td></td>\n",
       "      <td>...</td>\n",
       "      <td>ZARAGOZA</td>\n",
       "      <td>dm</td>\n",
       "      <td>NOIL</td>\n",
       "      <td>P</td>\n",
       "      <td>0,0</td>\n",
       "      <td>0,0</td>\n",
       "      <td>13917</td>\n",
       "      <td>8108</td>\n",
       "      <td>50</td>\n",
       "      <td>02</td>\n",
       "    </tr>\n",
       "    <tr>\n",
       "      <th>11773</th>\n",
       "      <td>26/10/2022 17:59:08</td>\n",
       "      <td>50197</td>\n",
       "      <td>RONDA FERIA DE MUESTRAS, DE LA, 20</td>\n",
       "      <td>L-D: 24H</td>\n",
       "      <td>41,637944</td>\n",
       "      <td>ZARAGOZA</td>\n",
       "      <td>-0,986389</td>\n",
       "      <td>D</td>\n",
       "      <td>Zaragoza</td>\n",
       "      <td></td>\n",
       "      <td>...</td>\n",
       "      <td>ZARAGOZA</td>\n",
       "      <td>OM</td>\n",
       "      <td>IDS</td>\n",
       "      <td>P</td>\n",
       "      <td>0,0</td>\n",
       "      <td>0,0</td>\n",
       "      <td>12472</td>\n",
       "      <td>8108</td>\n",
       "      <td>50</td>\n",
       "      <td>02</td>\n",
       "    </tr>\n",
       "    <tr>\n",
       "      <th>11774</th>\n",
       "      <td>26/10/2022 17:59:08</td>\n",
       "      <td>50800</td>\n",
       "      <td>CARRETERA N-330A KM. 24,000</td>\n",
       "      <td>L-D: 06:00-22:00</td>\n",
       "      <td>41,857000</td>\n",
       "      <td>ZUERA</td>\n",
       "      <td>-0,794000</td>\n",
       "      <td>D</td>\n",
       "      <td>Zuera</td>\n",
       "      <td></td>\n",
       "      <td>...</td>\n",
       "      <td>ZARAGOZA</td>\n",
       "      <td>OM</td>\n",
       "      <td>REPSOL</td>\n",
       "      <td>P</td>\n",
       "      <td>0,0</td>\n",
       "      <td>0,0</td>\n",
       "      <td>1452</td>\n",
       "      <td>8109</td>\n",
       "      <td>50</td>\n",
       "      <td>02</td>\n",
       "    </tr>\n",
       "    <tr>\n",
       "      <th>11775</th>\n",
       "      <td>26/10/2022 17:59:08</td>\n",
       "      <td>50800</td>\n",
       "      <td>CALLE AUSTRIA, 11,17</td>\n",
       "      <td>L-D: 24H</td>\n",
       "      <td>41,883583</td>\n",
       "      <td>ZUERA</td>\n",
       "      <td>-0,782833</td>\n",
       "      <td>D</td>\n",
       "      <td>Zuera</td>\n",
       "      <td></td>\n",
       "      <td>...</td>\n",
       "      <td>ZARAGOZA</td>\n",
       "      <td>dm</td>\n",
       "      <td>AN ENERGETICOS ZUERA</td>\n",
       "      <td>P</td>\n",
       "      <td>0,0</td>\n",
       "      <td>0,0</td>\n",
       "      <td>9085</td>\n",
       "      <td>8109</td>\n",
       "      <td>50</td>\n",
       "      <td>02</td>\n",
       "    </tr>\n",
       "    <tr>\n",
       "      <th>11776</th>\n",
       "      <td>26/10/2022 17:59:08</td>\n",
       "      <td>50810</td>\n",
       "      <td>CALLE COOPERATIVA, 2</td>\n",
       "      <td>L-D: 24H</td>\n",
       "      <td>41,938750</td>\n",
       "      <td>ONTINAR DE SALZ</td>\n",
       "      <td>-0,757611</td>\n",
       "      <td>D</td>\n",
       "      <td>Zuera</td>\n",
       "      <td></td>\n",
       "      <td>...</td>\n",
       "      <td>ZARAGOZA</td>\n",
       "      <td>dm</td>\n",
       "      <td>COOPERATIVA SAN ISIDRO</td>\n",
       "      <td>P</td>\n",
       "      <td>0,0</td>\n",
       "      <td>0,0</td>\n",
       "      <td>9068</td>\n",
       "      <td>8109</td>\n",
       "      <td>50</td>\n",
       "      <td>02</td>\n",
       "    </tr>\n",
       "  </tbody>\n",
       "</table>\n",
       "<p>11777 rows × 33 columns</p>\n",
       "</div>"
      ],
      "text/plain": [
       "                     Fecha   C.P.  \\\n",
       "0      26/10/2022 17:59:08  02250   \n",
       "1      26/10/2022 17:59:08  02001   \n",
       "2      26/10/2022 17:59:08  02001   \n",
       "3      26/10/2022 17:59:08  02001   \n",
       "4      26/10/2022 17:59:08  02001   \n",
       "...                    ...    ...   \n",
       "11772  26/10/2022 17:59:08  50197   \n",
       "11773  26/10/2022 17:59:08  50197   \n",
       "11774  26/10/2022 17:59:08  50800   \n",
       "11775  26/10/2022 17:59:08  50800   \n",
       "11776  26/10/2022 17:59:08  50810   \n",
       "\n",
       "                                               Dirección  \\\n",
       "0                         AVENIDA CASTILLA LA MANCHA, 26   \n",
       "1                         CALLE FEDERICO GARCIA LORCA, 5   \n",
       "2                                AVENIDA 1º DE MAYO, S/N   \n",
       "3                         CALLE FEDERICO GARCIA LORCA, 1   \n",
       "4      CALLE PRINCIPE DE ASTURIAS (POLÍGONO DE ROMICA...   \n",
       "...                                                  ...   \n",
       "11772                         POLIGONO CALLE TURIASO, 31   \n",
       "11773                 RONDA FERIA DE MUESTRAS, DE LA, 20   \n",
       "11774                        CARRETERA N-330A KM. 24,000   \n",
       "11775                               CALLE AUSTRIA, 11,17   \n",
       "11776                               CALLE COOPERATIVA, 2   \n",
       "\n",
       "                                Horario    Latitud        Localidad  \\\n",
       "0                      L-D: 07:00-22:00  39,211417        ABENGIBRE   \n",
       "1                      L-S: 05:00-23:00  38,997722         ALBACETE   \n",
       "2      L-S: 08:00-22:00; D: 09:00-21:00  38,985667         ALBACETE   \n",
       "3                              L-D: 24H  39,000861         ALBACETE   \n",
       "4                      L-D: 06:00-21:30  39,054694         ALBACETE   \n",
       "...                                 ...        ...              ...   \n",
       "11772                          L-D: 24H  41,645722         ZARAGOZA   \n",
       "11773                          L-D: 24H  41,637944         ZARAGOZA   \n",
       "11774                  L-D: 06:00-22:00  41,857000            ZUERA   \n",
       "11775                          L-D: 24H  41,883583            ZUERA   \n",
       "11776                          L-D: 24H  41,938750  ONTINAR DE SALZ   \n",
       "\n",
       "      Longitud (WGS84) Margen  Municipio Precio Biodiesel  ... Provincia  \\\n",
       "0            -1,539167      D  Abengibre                   ...  ALBACETE   \n",
       "1            -1,846361      I   Albacete                   ...  ALBACETE   \n",
       "2            -1,868500      N   Albacete                   ...  ALBACETE   \n",
       "3            -1,849833      D   Albacete                   ...  ALBACETE   \n",
       "4            -1,832000      I   Albacete                   ...  ALBACETE   \n",
       "...                ...    ...        ...              ...  ...       ...   \n",
       "11772        -0,974194      D   Zaragoza                   ...  ZARAGOZA   \n",
       "11773        -0,986389      D   Zaragoza                   ...  ZARAGOZA   \n",
       "11774        -0,794000      D      Zuera                   ...  ZARAGOZA   \n",
       "11775        -0,782833      D      Zuera                   ...  ZARAGOZA   \n",
       "11776        -0,757611      D      Zuera                   ...  ZARAGOZA   \n",
       "\n",
       "      Remisión                  Rótulo Tipo Venta % BioEtanol  \\\n",
       "0           dm               Nº 10.935          P         0,0   \n",
       "1           dm                   CEPSA          R         0,0   \n",
       "2           dm               CARREFOUR          P         0,0   \n",
       "3           dm                 PLENOIL          P         0,0   \n",
       "4           OM               BP ROMICA          P         0,0   \n",
       "...        ...                     ...        ...         ...   \n",
       "11772       dm                    NOIL          P         0,0   \n",
       "11773       OM                     IDS          P         0,0   \n",
       "11774       OM                  REPSOL          P         0,0   \n",
       "11775       dm    AN ENERGETICOS ZUERA          P         0,0   \n",
       "11776       dm  COOPERATIVA SAN ISIDRO          P         0,0   \n",
       "\n",
       "      % Éster metílico IDEESS IDMunicipio IDProvincia IDCCAA  \n",
       "0                  0,0   4375          52          02     07  \n",
       "1                  0,0   4438          54          02     07  \n",
       "2                  0,0  10765          54          02     07  \n",
       "3                  0,0  13933          54          02     07  \n",
       "4                  0,0  12054          54          02     07  \n",
       "...                ...    ...         ...         ...    ...  \n",
       "11772              0,0  13917        8108          50     02  \n",
       "11773              0,0  12472        8108          50     02  \n",
       "11774              0,0   1452        8109          50     02  \n",
       "11775              0,0   9085        8109          50     02  \n",
       "11776              0,0   9068        8109          50     02  \n",
       "\n",
       "[11777 rows x 33 columns]"
      ]
     },
     "execution_count": 15,
     "metadata": {},
     "output_type": "execute_result"
    }
   ],
   "source": [
    "# Extraigo informacion de columna EESS Precio, utilizando json normalize\n",
    "\n",
    "df_n = pd.concat([df[['Fecha']],pd.json_normalize(df['ListaEESSPrecio'])], axis=1)\n",
    "df_n\n"
   ]
  },
  {
   "cell_type": "code",
   "execution_count": null,
   "id": "90463003",
   "metadata": {},
   "outputs": [],
   "source": [
    "# Guardamos df original para sucesion de tiempo\n",
    "#df_n.to_csv('2022-10-26x.csv', index=False)"
   ]
  },
  {
   "cell_type": "code",
   "execution_count": null,
   "id": "2d75fcc5",
   "metadata": {},
   "outputs": [
    {
     "name": "stdout",
     "output_type": "stream",
     "text": [
      "<class 'pandas.core.frame.DataFrame'>\n",
      "RangeIndex: 11777 entries, 0 to 11776\n",
      "Data columns (total 33 columns):\n",
      " #   Column                              Non-Null Count  Dtype \n",
      "---  ------                              --------------  ----- \n",
      " 0   Fecha                               11777 non-null  object\n",
      " 1   C.P.                                11777 non-null  object\n",
      " 2   Dirección                           11777 non-null  object\n",
      " 3   Horario                             11777 non-null  object\n",
      " 4   Latitud                             11777 non-null  object\n",
      " 5   Localidad                           11777 non-null  object\n",
      " 6   Longitud (WGS84)                    11777 non-null  object\n",
      " 7   Margen                              11777 non-null  object\n",
      " 8   Municipio                           11777 non-null  object\n",
      " 9   Precio Biodiesel                    11777 non-null  object\n",
      " 10  Precio Bioetanol                    11777 non-null  object\n",
      " 11  Precio Gas Natural Comprimido       11777 non-null  object\n",
      " 12  Precio Gas Natural Licuado          11777 non-null  object\n",
      " 13  Precio Gases licuados del petróleo  11777 non-null  object\n",
      " 14  Precio Gasoleo A                    11777 non-null  object\n",
      " 15  Precio Gasoleo B                    11777 non-null  object\n",
      " 16  Precio Gasoleo Premium              11777 non-null  object\n",
      " 17  Precio Gasolina 95 E10              11777 non-null  object\n",
      " 18  Precio Gasolina 95 E5               11777 non-null  object\n",
      " 19  Precio Gasolina 95 E5 Premium       11777 non-null  object\n",
      " 20  Precio Gasolina 98 E10              11777 non-null  object\n",
      " 21  Precio Gasolina 98 E5               11777 non-null  object\n",
      " 22  Precio Hidrogeno                    11777 non-null  object\n",
      " 23  Provincia                           11777 non-null  object\n",
      " 24  Remisión                            11777 non-null  object\n",
      " 25  Rótulo                              11777 non-null  object\n",
      " 26  Tipo Venta                          11777 non-null  object\n",
      " 27  % BioEtanol                         11777 non-null  object\n",
      " 28  % Éster metílico                    11777 non-null  object\n",
      " 29  IDEESS                              11777 non-null  object\n",
      " 30  IDMunicipio                         11777 non-null  object\n",
      " 31  IDProvincia                         11777 non-null  object\n",
      " 32  IDCCAA                              11777 non-null  object\n",
      "dtypes: object(33)\n",
      "memory usage: 3.0+ MB\n"
     ]
    }
   ],
   "source": [
    "df_n.info()"
   ]
  },
  {
   "cell_type": "markdown",
   "id": "ee524e6e",
   "metadata": {},
   "source": [
    "---\n",
    "Step (3): EDA"
   ]
  },
  {
   "cell_type": "markdown",
   "id": "7027ceb6",
   "metadata": {},
   "source": [
    "                                                    Análisis de Columnas"
   ]
  },
  {
   "cell_type": "markdown",
   "id": "4deaad69",
   "metadata": {},
   "source": [
    "# Fecha"
   ]
  },
  {
   "cell_type": "code",
   "execution_count": null,
   "id": "dd7735c8",
   "metadata": {},
   "outputs": [
    {
     "name": "stdout",
     "output_type": "stream",
     "text": [
      "<class 'numpy.ndarray'>\n",
      "1\n"
     ]
    },
    {
     "data": {
      "text/plain": [
       "array(['26/10/2022 17:59:08'], dtype=object)"
      ]
     },
     "execution_count": 18,
     "metadata": {},
     "output_type": "execute_result"
    }
   ],
   "source": [
    "# Fecha (solo hay una fecha)\n",
    "Fecha = df_n['Fecha'].unique()\n",
    "print(type(Fecha))\n",
    "print(len(Fecha))\n",
    "Fecha"
   ]
  },
  {
   "cell_type": "code",
   "execution_count": null,
   "id": "5d054a1e",
   "metadata": {},
   "outputs": [
    {
     "data": {
      "text/plain": [
       "0"
      ]
     },
     "execution_count": 19,
     "metadata": {},
     "output_type": "execute_result"
    }
   ],
   "source": [
    "# Nulos \n",
    "nulos_f = df_n['Fecha'].isnull().sum()\n",
    "nulos_f"
   ]
  },
  {
   "cell_type": "markdown",
   "id": "addc43ab",
   "metadata": {},
   "source": [
    "# Código Postal"
   ]
  },
  {
   "cell_type": "code",
   "execution_count": null,
   "id": "603eca2d",
   "metadata": {},
   "outputs": [
    {
     "name": "stdout",
     "output_type": "stream",
     "text": [
      "<class 'numpy.ndarray'>\n",
      "4535\n"
     ]
    },
    {
     "data": {
      "text/plain": [
       "array(['02250', '02001', '02005', ..., '50197', '50800', '50810'],\n",
       "      dtype=object)"
      ]
     },
     "execution_count": 20,
     "metadata": {},
     "output_type": "execute_result"
    }
   ],
   "source": [
    "# Columna C.P.\n",
    "cp = df_n['C.P.'].unique()\n",
    "print(type(cp))\n",
    "print(len(cp))\n",
    "cp\n",
    "# En Esaña hay 11752 codigos postales en total"
   ]
  },
  {
   "cell_type": "code",
   "execution_count": null,
   "id": "de4b57fa",
   "metadata": {},
   "outputs": [
    {
     "data": {
      "text/plain": [
       "0"
      ]
     },
     "execution_count": 21,
     "metadata": {},
     "output_type": "execute_result"
    }
   ],
   "source": [
    "# Nulos \n",
    "nulos_cp = df_n['C.P.'].isnull().sum()\n",
    "nulos_cp"
   ]
  },
  {
   "cell_type": "markdown",
   "id": "cd713bcb",
   "metadata": {},
   "source": [
    "# Dirección"
   ]
  },
  {
   "cell_type": "code",
   "execution_count": null,
   "id": "3ce78674",
   "metadata": {},
   "outputs": [
    {
     "name": "stdout",
     "output_type": "stream",
     "text": [
      "<class 'numpy.ndarray'>\n",
      "11458\n"
     ]
    },
    {
     "data": {
      "text/plain": [
       "array(['AVENIDA CASTILLA LA MANCHA, 26', 'CALLE FEDERICO GARCIA LORCA, 5',\n",
       "       'AVENIDA 1º DE MAYO, S/N', ...,\n",
       "       'RONDA FERIA DE MUESTRAS, DE LA, 20',\n",
       "       'CARRETERA N-330A KM. 24,000', 'CALLE AUSTRIA, 11,17'],\n",
       "      dtype=object)"
      ]
     },
     "execution_count": 22,
     "metadata": {},
     "output_type": "execute_result"
    }
   ],
   "source": [
    "# Columna  Dirección\n",
    "direccion = df_n['Dirección'].unique()\n",
    "print(type(direccion))\n",
    "print(len(direccion))\n",
    "direccion\n"
   ]
  },
  {
   "cell_type": "code",
   "execution_count": null,
   "id": "e1030055",
   "metadata": {},
   "outputs": [
    {
     "data": {
      "text/plain": [
       "0"
      ]
     },
     "execution_count": 23,
     "metadata": {},
     "output_type": "execute_result"
    }
   ],
   "source": [
    "# Nulos dirección\n",
    "nulos_cp = df_n['Dirección'].isnull().sum()\n",
    "nulos_cp"
   ]
  },
  {
   "cell_type": "markdown",
   "id": "b540d156",
   "metadata": {},
   "source": [
    "# Horario"
   ]
  },
  {
   "cell_type": "code",
   "execution_count": null,
   "id": "d951b048",
   "metadata": {},
   "outputs": [
    {
     "data": {
      "text/plain": [
       "array(['L-D: 07:00-22:00', 'L-S: 05:00-23:00',\n",
       "       'L-S: 08:00-22:00; D: 09:00-21:00', ...,\n",
       "       'L-V: 05:30-22:00; S: 07:00-15:00; D: 08:00-15:00',\n",
       "       'L-V: 08:00-22:30; S: 10:00-22:30',\n",
       "       'L-V: 05:00-22:00; S-D: 08:00-22:00'], dtype=object)"
      ]
     },
     "execution_count": 24,
     "metadata": {},
     "output_type": "execute_result"
    }
   ],
   "source": [
    "# Horario\n",
    "horario = df_n['Horario'].unique()\n",
    "horario"
   ]
  },
  {
   "cell_type": "code",
   "execution_count": null,
   "id": "6cb34506",
   "metadata": {},
   "outputs": [
    {
     "data": {
      "text/plain": [
       "0"
      ]
     },
     "execution_count": 25,
     "metadata": {},
     "output_type": "execute_result"
    }
   ],
   "source": [
    "# Nulos horario\n",
    "nulos_h = df_n['Horario'].isnull().sum()\n",
    "nulos_h"
   ]
  },
  {
   "cell_type": "markdown",
   "id": "129d07e9",
   "metadata": {},
   "source": [
    "# Latitud"
   ]
  },
  {
   "cell_type": "code",
   "execution_count": null,
   "id": "aa9399ed",
   "metadata": {},
   "outputs": [
    {
     "name": "stdout",
     "output_type": "stream",
     "text": [
      "11416\n"
     ]
    },
    {
     "data": {
      "text/plain": [
       "array(['39,211417', '38,997722', '38,985667', ..., '41,857000',\n",
       "       '41,883583', '41,938750'], dtype=object)"
      ]
     },
     "execution_count": 26,
     "metadata": {},
     "output_type": "execute_result"
    }
   ],
   "source": [
    "#Latitud (Coincide Latitud y Longitud con las coordenadas en las gasolineras de Google Maps)\n",
    "latitud = df_n['Latitud'].unique()\n",
    "print(len(latitud ))\n",
    "latitud\n"
   ]
  },
  {
   "cell_type": "code",
   "execution_count": null,
   "id": "b12f974a",
   "metadata": {},
   "outputs": [
    {
     "data": {
      "text/plain": [
       "0"
      ]
     },
     "execution_count": 27,
     "metadata": {},
     "output_type": "execute_result"
    }
   ],
   "source": [
    "# Nulos Latitud\n",
    "nulos_l = df_n['Latitud'].isnull().sum()\n",
    "nulos_l"
   ]
  },
  {
   "cell_type": "markdown",
   "id": "14f71694",
   "metadata": {},
   "source": [
    "# Longitud"
   ]
  },
  {
   "cell_type": "code",
   "execution_count": null,
   "id": "26f3092e",
   "metadata": {
    "scrolled": true
   },
   "outputs": [
    {
     "name": "stdout",
     "output_type": "stream",
     "text": [
      "11532\n"
     ]
    },
    {
     "data": {
      "text/plain": [
       "array(['-1,539167', '-1,846361', '-1,868500', ..., '-0,794000',\n",
       "       '-0,782833', '-0,757611'], dtype=object)"
      ]
     },
     "execution_count": 28,
     "metadata": {},
     "output_type": "execute_result"
    }
   ],
   "source": [
    "# Longitud (Coincide Latitud y Longitud con las coordenadas en las gasolineras de Google Maps)\n",
    "Longitud = df_n['Longitud (WGS84)'].unique()\n",
    "print(len(Longitud))\n",
    "Longitud\n"
   ]
  },
  {
   "cell_type": "code",
   "execution_count": null,
   "id": "e018ad91",
   "metadata": {},
   "outputs": [
    {
     "data": {
      "text/plain": [
       "0"
      ]
     },
     "execution_count": 29,
     "metadata": {},
     "output_type": "execute_result"
    }
   ],
   "source": [
    "# Nulos Longitud\n",
    "nulos_long = df_n['Longitud (WGS84)'].isnull().sum()\n",
    "nulos_long"
   ]
  },
  {
   "cell_type": "markdown",
   "id": "baaa7f76",
   "metadata": {},
   "source": [
    "# Localidad"
   ]
  },
  {
   "cell_type": "code",
   "execution_count": null,
   "id": "05337df3",
   "metadata": {},
   "outputs": [
    {
     "name": "stdout",
     "output_type": "stream",
     "text": [
      "4233\n"
     ]
    },
    {
     "data": {
      "text/plain": [
       "array(['ABENGIBRE', 'ALBACETE', 'SANTA ANA', ..., 'VILLARRAPA', 'ZUERA',\n",
       "       'ONTINAR DE SALZ'], dtype=object)"
      ]
     },
     "execution_count": 30,
     "metadata": {},
     "output_type": "execute_result"
    }
   ],
   "source": [
    "#Localidad\n",
    "Localidad = df_n['Localidad'].unique()\n",
    "print(len(Localidad))\n",
    "Localidad"
   ]
  },
  {
   "cell_type": "code",
   "execution_count": null,
   "id": "46fae344",
   "metadata": {},
   "outputs": [
    {
     "data": {
      "text/plain": [
       "0"
      ]
     },
     "execution_count": 31,
     "metadata": {},
     "output_type": "execute_result"
    }
   ],
   "source": [
    "# Nulos Localidad\n",
    "nulos_loc = df_n['Localidad'].isnull().sum()\n",
    "nulos_loc"
   ]
  },
  {
   "cell_type": "markdown",
   "id": "8fa3baee",
   "metadata": {},
   "source": [
    "# Municipio "
   ]
  },
  {
   "cell_type": "code",
   "execution_count": null,
   "id": "0e69e607",
   "metadata": {},
   "outputs": [
    {
     "name": "stdout",
     "output_type": "stream",
     "text": [
      "3432\n"
     ]
    },
    {
     "data": {
      "text/plain": [
       "array(['Abengibre', 'Albacete', 'Alcadozo', ...,\n",
       "       'Villarroya de la Sierra', 'Zaragoza', 'Zuera'], dtype=object)"
      ]
     },
     "execution_count": 32,
     "metadata": {},
     "output_type": "execute_result"
    }
   ],
   "source": [
    "# Municipio (En España hay 8131 Municipios)\n",
    "Municipio = df_n['Municipio'].unique() \n",
    "print(len(Municipio))\n",
    "Municipio\n",
    "\n"
   ]
  },
  {
   "cell_type": "code",
   "execution_count": null,
   "id": "223081b3",
   "metadata": {},
   "outputs": [
    {
     "data": {
      "text/plain": [
       "0"
      ]
     },
     "execution_count": 33,
     "metadata": {},
     "output_type": "execute_result"
    }
   ],
   "source": [
    "# Nulos Municipio\n",
    "nulos_loc = df_n['Municipio'].isnull().sum()\n",
    "nulos_loc"
   ]
  },
  {
   "cell_type": "markdown",
   "id": "cc6b303b",
   "metadata": {},
   "source": [
    "# Margen"
   ]
  },
  {
   "cell_type": "code",
   "execution_count": null,
   "id": "cf022a39",
   "metadata": {},
   "outputs": [
    {
     "name": "stdout",
     "output_type": "stream",
     "text": [
      "3\n"
     ]
    },
    {
     "data": {
      "text/plain": [
       "array(['D', 'I', 'N'], dtype=object)"
      ]
     },
     "execution_count": 34,
     "metadata": {},
     "output_type": "execute_result"
    }
   ],
   "source": [
    "# Margen\n",
    "Margen = df_n['Margen'].unique()\n",
    "print(len(Margen))\n",
    "Margen"
   ]
  },
  {
   "cell_type": "markdown",
   "id": "2d2ea3bb",
   "metadata": {},
   "source": [
    "# Provincia "
   ]
  },
  {
   "cell_type": "code",
   "execution_count": null,
   "id": "e1fa2d5f",
   "metadata": {},
   "outputs": [
    {
     "name": "stdout",
     "output_type": "stream",
     "text": [
      "52\n"
     ]
    },
    {
     "data": {
      "text/plain": [
       "array(['ALBACETE', 'ALICANTE', 'ALMERÍA', 'ARABA/ÁLAVA', 'ASTURIAS',\n",
       "       'ÁVILA', 'BADAJOZ', 'BALEARS (ILLES)', 'BARCELONA', 'BIZKAIA',\n",
       "       'BURGOS', 'CÁCERES', 'CÁDIZ', 'CANTABRIA', 'CASTELLÓN / CASTELLÓ',\n",
       "       'CEUTA', 'CIUDAD REAL', 'CÓRDOBA', 'CORUÑA (A)', 'CUENCA',\n",
       "       'GIPUZKOA', 'GIRONA', 'GRANADA', 'GUADALAJARA', 'HUELVA', 'HUESCA',\n",
       "       'JAÉN', 'LEÓN', 'LLEIDA', 'LUGO', 'MADRID', 'MÁLAGA', 'MELILLA',\n",
       "       'MURCIA', 'NAVARRA', 'OURENSE', 'PALENCIA', 'PALMAS (LAS)',\n",
       "       'PONTEVEDRA', 'RIOJA (LA)', 'SALAMANCA', 'SANTA CRUZ DE TENERIFE',\n",
       "       'SEGOVIA', 'SEVILLA', 'SORIA', 'TARRAGONA', 'TERUEL', 'TOLEDO',\n",
       "       'VALENCIA / VALÈNCIA', 'VALLADOLID', 'ZAMORA', 'ZARAGOZA'],\n",
       "      dtype=object)"
      ]
     },
     "execution_count": 35,
     "metadata": {},
     "output_type": "execute_result"
    }
   ],
   "source": [
    "# Provincia (Están todas las Provinicas de España en nuestro df)\n",
    "Provincia = df_n['Provincia'].unique()\n",
    "print(len(Provincia))\n",
    "Provincia"
   ]
  },
  {
   "cell_type": "code",
   "execution_count": null,
   "id": "b27108a2",
   "metadata": {},
   "outputs": [
    {
     "data": {
      "text/plain": [
       "0"
      ]
     },
     "execution_count": 36,
     "metadata": {},
     "output_type": "execute_result"
    }
   ],
   "source": [
    "# Nulos Provincia\n",
    "nulos_prov = df_n['Provincia'].isnull().sum()\n",
    "nulos_prov"
   ]
  },
  {
   "cell_type": "markdown",
   "id": "722a58a1",
   "metadata": {},
   "source": [
    "# Remision"
   ]
  },
  {
   "cell_type": "code",
   "execution_count": null,
   "id": "78c3b1c9",
   "metadata": {},
   "outputs": [
    {
     "name": "stdout",
     "output_type": "stream",
     "text": [
      "2\n",
      "<class 'numpy.ndarray'>\n"
     ]
    },
    {
     "data": {
      "text/plain": [
       "array(['dm', 'OM'], dtype=object)"
      ]
     },
     "execution_count": 37,
     "metadata": {},
     "output_type": "execute_result"
    }
   ],
   "source": [
    "# Remisión (Sistema de envío de información de precios y de ventas a través de API)\n",
    "Remision = df_n['Remisión'].unique()\n",
    "print(len(Remision))\n",
    "print(type(Remision))\n",
    "Remision"
   ]
  },
  {
   "cell_type": "markdown",
   "id": "cc886f49",
   "metadata": {},
   "source": [
    "# Rótulo"
   ]
  },
  {
   "cell_type": "code",
   "execution_count": null,
   "id": "8157f57d",
   "metadata": {},
   "outputs": [
    {
     "name": "stdout",
     "output_type": "stream",
     "text": [
      "4009\n",
      "<class 'numpy.ndarray'>\n"
     ]
    },
    {
     "data": {
      "text/plain": [
       "array(['Nº 10.935', 'CEPSA', 'CARREFOUR', ..., 'DAGO',\n",
       "       'COOPERATIVA SAN LAMBERTO', 'AN ENERGETICOS ZUERA'], dtype=object)"
      ]
     },
     "execution_count": 38,
     "metadata": {},
     "output_type": "execute_result"
    }
   ],
   "source": [
    "# Rótulo (En España hay 3952 marcas de Gasolineras en España según datos de Google)\n",
    "Rotulo = df_n['Rótulo'].unique()\n",
    "print(len(Rotulo))\n",
    "print(type(Rotulo))\n",
    "Rotulo\n"
   ]
  },
  {
   "cell_type": "markdown",
   "id": "676ec408",
   "metadata": {},
   "source": [
    "# Tipo de Venta"
   ]
  },
  {
   "cell_type": "code",
   "execution_count": null,
   "id": "7b2d09eb",
   "metadata": {},
   "outputs": [
    {
     "name": "stdout",
     "output_type": "stream",
     "text": [
      "2\n",
      "<class 'numpy.ndarray'>\n"
     ]
    },
    {
     "data": {
      "text/plain": [
       "array(['P', 'R'], dtype=object)"
      ]
     },
     "execution_count": 39,
     "metadata": {},
     "output_type": "execute_result"
    }
   ],
   "source": [
    "# Tipo Venta\n",
    "tv = df_n['Tipo Venta'].unique()\n",
    "print(len(tv))\n",
    "print(type(tv))\n",
    "tv"
   ]
  },
  {
   "cell_type": "markdown",
   "id": "7aad165f",
   "metadata": {},
   "source": [
    "# Porcentaje de Bioetanol"
   ]
  },
  {
   "cell_type": "code",
   "execution_count": null,
   "id": "95e6e4b0",
   "metadata": {},
   "outputs": [
    {
     "name": "stdout",
     "output_type": "stream",
     "text": [
      "3\n",
      "<class 'numpy.ndarray'>\n"
     ]
    },
    {
     "data": {
      "text/plain": [
       "array(['0,0', '25,0', '85,0'], dtype=object)"
      ]
     },
     "execution_count": 40,
     "metadata": {},
     "output_type": "execute_result"
    }
   ],
   "source": [
    "# % BioEtanol (La diferencia entre gasolinas E5 o E10 significan el porcentaje de Etanol (5 o 10%))\n",
    "bioetanol = df_n['% BioEtanol'].unique()\n",
    "print(len(bioetanol))\n",
    "print(type(bioetanol))\n",
    "bioetanol"
   ]
  },
  {
   "cell_type": "markdown",
   "id": "54c7afc2",
   "metadata": {},
   "source": [
    "# Porcentaje de Éster Metílico"
   ]
  },
  {
   "cell_type": "code",
   "execution_count": null,
   "id": "19aff9d9",
   "metadata": {},
   "outputs": [
    {
     "name": "stdout",
     "output_type": "stream",
     "text": [
      "6\n",
      "<class 'numpy.ndarray'>\n"
     ]
    },
    {
     "data": {
      "text/plain": [
       "array(['0,0', '7,0', '12,0', '20,0', '30,0', '10,0'], dtype=object)"
      ]
     },
     "execution_count": 41,
     "metadata": {},
     "output_type": "execute_result"
    }
   ],
   "source": [
    "# % Éster metílico (solo para Biodiesel)\n",
    "em = df_n['% Éster metílico'].unique()\n",
    "print(len(em))\n",
    "print(type(em))\n",
    "em"
   ]
  },
  {
   "cell_type": "markdown",
   "id": "e1bfb0ff",
   "metadata": {},
   "source": [
    "#  IDEESS"
   ]
  },
  {
   "cell_type": "code",
   "execution_count": null,
   "id": "1bcc7c30",
   "metadata": {},
   "outputs": [
    {
     "name": "stdout",
     "output_type": "stream",
     "text": [
      "11777\n"
     ]
    },
    {
     "data": {
      "text/plain": [
       "array(['4375', '4438', '10765', ..., '1452', '9085', '9068'], dtype=object)"
      ]
     },
     "execution_count": 42,
     "metadata": {},
     "output_type": "execute_result"
    }
   ],
   "source": [
    "# IDEESS (ID Estación de Servicio, los mismos que estaciones (filas))\n",
    "IDEESS = df_n['IDEESS'].unique()\n",
    "print(len(IDEESS))\n",
    "type(IDEESS)\n",
    "IDEESS "
   ]
  },
  {
   "cell_type": "code",
   "execution_count": null,
   "id": "89c026f2",
   "metadata": {},
   "outputs": [
    {
     "data": {
      "text/plain": [
       "0"
      ]
     },
     "execution_count": 43,
     "metadata": {},
     "output_type": "execute_result"
    }
   ],
   "source": [
    "# Nulos IDEESS\n",
    "nulos_IDEESS = df_n['IDEESS'].isnull().sum()\n",
    "nulos_IDEESS"
   ]
  },
  {
   "cell_type": "markdown",
   "id": "48e885d2",
   "metadata": {},
   "source": [
    "# ID Municipio"
   ]
  },
  {
   "cell_type": "code",
   "execution_count": null,
   "id": "7dc3d12d",
   "metadata": {},
   "outputs": [
    {
     "name": "stdout",
     "output_type": "stream",
     "text": [
      "3433\n"
     ]
    },
    {
     "data": {
      "text/plain": [
       "array(['52', '54', '57', ..., '8103', '8108', '8109'], dtype=object)"
      ]
     },
     "execution_count": 44,
     "metadata": {},
     "output_type": "execute_result"
    }
   ],
   "source": [
    "# IDMunicipio (un ID más que municipios)\n",
    "idmun = df_n['IDMunicipio'].unique()\n",
    "print(len(idmun))\n",
    "type(idmun)\n",
    "idmun"
   ]
  },
  {
   "cell_type": "code",
   "execution_count": null,
   "id": "c857c488",
   "metadata": {},
   "outputs": [
    {
     "data": {
      "text/plain": [
       "0"
      ]
     },
     "execution_count": 45,
     "metadata": {},
     "output_type": "execute_result"
    }
   ],
   "source": [
    "# Nulos ID Municipio\n",
    "nulos_IDMunicipio = df_n['IDMunicipio'].isnull().sum()\n",
    "nulos_IDMunicipio"
   ]
  },
  {
   "cell_type": "markdown",
   "id": "6568aaff",
   "metadata": {},
   "source": [
    "# ID Provincia"
   ]
  },
  {
   "cell_type": "code",
   "execution_count": null,
   "id": "896e7bf1",
   "metadata": {},
   "outputs": [
    {
     "name": "stdout",
     "output_type": "stream",
     "text": [
      "52\n"
     ]
    },
    {
     "data": {
      "text/plain": [
       "array(['02', '03', '04', '01', '33', '05', '06', '07', '08', '48', '09',\n",
       "       '10', '11', '39', '12', '51', '13', '14', '15', '16', '20', '17',\n",
       "       '18', '19', '21', '22', '23', '24', '25', '27', '28', '29', '52',\n",
       "       '30', '31', '32', '34', '35', '36', '26', '37', '38', '40', '41',\n",
       "       '42', '43', '44', '45', '46', '47', '49', '50'], dtype=object)"
      ]
     },
     "execution_count": 46,
     "metadata": {},
     "output_type": "execute_result"
    }
   ],
   "source": [
    "# IDProvincia (Los mismos ID que Provincias)\n",
    "idprov = df_n['IDProvincia'].unique()\n",
    "print(len(idprov))\n",
    "type(idprov)\n",
    "idprov"
   ]
  },
  {
   "cell_type": "code",
   "execution_count": null,
   "id": "0383161f",
   "metadata": {},
   "outputs": [
    {
     "data": {
      "text/plain": [
       "0"
      ]
     },
     "execution_count": 47,
     "metadata": {},
     "output_type": "execute_result"
    }
   ],
   "source": [
    "nulos_IDProvincia = df_n['IDProvincia'].isnull().sum()\n",
    "nulos_IDProvincia"
   ]
  },
  {
   "cell_type": "markdown",
   "id": "f0203c4c",
   "metadata": {},
   "source": [
    "# ID CCAA"
   ]
  },
  {
   "cell_type": "code",
   "execution_count": null,
   "id": "cc731089",
   "metadata": {},
   "outputs": [
    {
     "name": "stdout",
     "output_type": "stream",
     "text": [
      "19\n"
     ]
    },
    {
     "data": {
      "text/plain": [
       "array(['07', '10', '01', '16', '03', '08', '11', '04', '09', '06', '18',\n",
       "       '12', '02', '13', '19', '14', '15', '05', '17'], dtype=object)"
      ]
     },
     "execution_count": 48,
     "metadata": {},
     "output_type": "execute_result"
    }
   ],
   "source": [
    "# IDCCAA (ID Comunidades Autónomas, 17 CCAA + Ceuta + Melilla)\n",
    "# IDProvincia (Los mismos ID que Provincias)\n",
    "idccaa = df_n['IDCCAA'].unique()\n",
    "print(len(idccaa))\n",
    "type(idccaa)\n",
    "idccaa"
   ]
  },
  {
   "cell_type": "markdown",
   "id": "4cf497b1",
   "metadata": {},
   "source": [
    "                                                Columnas Numéricas\n",
    "                                                "
   ]
  },
  {
   "cell_type": "markdown",
   "id": "cd72e5ad",
   "metadata": {},
   "source": [
    "# Biodiesel"
   ]
  },
  {
   "cell_type": "code",
   "execution_count": null,
   "id": "01c87a0e",
   "metadata": {},
   "outputs": [
    {
     "name": "stdout",
     "output_type": "stream",
     "text": [
      "23\n",
      "<class 'numpy.ndarray'>\n"
     ]
    },
    {
     "data": {
      "text/plain": [
       "array(['', '1,978', '2,189', '1,999', '2,069', '1,799', '1,829', '2,049',\n",
       "       '1,849', '1,889', '1,839', '1,449', '1,879', '2,040', '2,039',\n",
       "       '1,869', '2,089', '1,859', '1,899', '1,949', '1,809', '1,779',\n",
       "       '1,966'], dtype=object)"
      ]
     },
     "execution_count": 49,
     "metadata": {},
     "output_type": "execute_result"
    }
   ],
   "source": [
    "Biodiesel = df_n['Precio Biodiesel'].unique()\n",
    "print(len(Biodiesel))\n",
    "print(type(Biodiesel))\n",
    "Biodiesel"
   ]
  },
  {
   "cell_type": "code",
   "execution_count": null,
   "id": "c1172885",
   "metadata": {},
   "outputs": [],
   "source": [
    "# Convertimos columna categórica a numérica\n",
    "df_n['Precio Biodiesel']=df_n['Precio Biodiesel'].str.replace(',','.')\n",
    "df_n[['Precio Biodiesel']]=df_n[['Precio Biodiesel']].apply(pd.to_numeric)"
   ]
  },
  {
   "cell_type": "code",
   "execution_count": null,
   "id": "3ba01c1b",
   "metadata": {},
   "outputs": [
    {
     "data": {
      "text/plain": [
       "count    37.000000\n",
       "mean      1.913784\n",
       "std       0.132187\n",
       "min       1.449000\n",
       "25%       1.849000\n",
       "50%       1.899000\n",
       "75%       1.999000\n",
       "max       2.189000\n",
       "Name: Precio Biodiesel, dtype: float64"
      ]
     },
     "execution_count": 51,
     "metadata": {},
     "output_type": "execute_result"
    }
   ],
   "source": [
    "df_n['Precio Biodiesel'].describe()\n"
   ]
  },
  {
   "cell_type": "code",
   "execution_count": null,
   "id": "0b00d7af",
   "metadata": {},
   "outputs": [
    {
     "data": {
      "text/plain": [
       "11740"
      ]
     },
     "execution_count": 52,
     "metadata": {},
     "output_type": "execute_result"
    }
   ],
   "source": [
    "# Registros sin venta Biodiesel\n",
    "sin_suministro_b = df_n['Precio Biodiesel'].isnull().sum()\n",
    "sin_suministro_b"
   ]
  },
  {
   "cell_type": "markdown",
   "id": "fd2b4066",
   "metadata": {},
   "source": [
    "## Precio Bioetanol "
   ]
  },
  {
   "cell_type": "code",
   "execution_count": null,
   "id": "edbcaac9",
   "metadata": {},
   "outputs": [
    {
     "name": "stdout",
     "output_type": "stream",
     "text": [
      "6\n",
      "<class 'numpy.ndarray'>\n"
     ]
    },
    {
     "data": {
      "text/plain": [
       "array(['', '2,259', '1,982', '1,487', '2,059', '1,869'], dtype=object)"
      ]
     },
     "execution_count": 53,
     "metadata": {},
     "output_type": "execute_result"
    }
   ],
   "source": [
    "Bioetanol = df_n['Precio Bioetanol'].unique()\n",
    "print(len(Bioetanol))\n",
    "print(type(Bioetanol))\n",
    "Bioetanol"
   ]
  },
  {
   "cell_type": "code",
   "execution_count": null,
   "id": "3f6be22e",
   "metadata": {},
   "outputs": [],
   "source": [
    "# Convertimos columna categórica a numérica\n",
    "df_n['Precio Bioetanol']=df_n['Precio Bioetanol'].str.replace(',','.')\n",
    "df_n[['Precio Bioetanol']]=df_n[['Precio Bioetanol']].apply(pd.to_numeric)"
   ]
  },
  {
   "cell_type": "code",
   "execution_count": null,
   "id": "336b94fa",
   "metadata": {},
   "outputs": [
    {
     "data": {
      "text/plain": [
       "count    5.000000\n",
       "mean     1.931200\n",
       "std      0.286159\n",
       "min      1.487000\n",
       "25%      1.869000\n",
       "50%      1.982000\n",
       "75%      2.059000\n",
       "max      2.259000\n",
       "Name: Precio Bioetanol, dtype: float64"
      ]
     },
     "execution_count": 55,
     "metadata": {},
     "output_type": "execute_result"
    }
   ],
   "source": [
    "df_n['Precio Bioetanol'].describe()"
   ]
  },
  {
   "cell_type": "code",
   "execution_count": null,
   "id": "8614e236",
   "metadata": {},
   "outputs": [
    {
     "data": {
      "text/plain": [
       "11772"
      ]
     },
     "execution_count": 56,
     "metadata": {},
     "output_type": "execute_result"
    }
   ],
   "source": [
    "# Registros sin venta Biodiesel\n",
    "sin_suministro_be = df_n['Precio Bioetanol'].isnull().sum()\n",
    "sin_suministro_be"
   ]
  },
  {
   "cell_type": "markdown",
   "id": "de4c6c51",
   "metadata": {},
   "source": [
    "## Precio Gas Natural Comprimido"
   ]
  },
  {
   "cell_type": "code",
   "execution_count": null,
   "id": "b2824198",
   "metadata": {},
   "outputs": [
    {
     "name": "stdout",
     "output_type": "stream",
     "text": [
      "35\n",
      "<class 'numpy.ndarray'>\n"
     ]
    },
    {
     "data": {
      "text/plain": [
       "array(['', '1,990', '1,468', '1,585', '1,960', '1,518', '1,438', '1,488',\n",
       "       '1,409', '1,520', '1,359', '1,509', '1,398', '1,555', '1,690',\n",
       "       '1,978', '1,789', '1,399', '2,523', '1,483', '2,199', '2,750',\n",
       "       '2,379', '1,584', '1,385', '1,201', '1,979', '1,569', '2,279',\n",
       "       '2,350', '2,986', '3,700', '1,433', '1,594', '1,709'], dtype=object)"
      ]
     },
     "execution_count": 57,
     "metadata": {},
     "output_type": "execute_result"
    }
   ],
   "source": [
    "Gas_n_c = df_n['Precio Gas Natural Comprimido'].unique()\n",
    "print(len(Gas_n_c))\n",
    "print(type(Gas_n_c))\n",
    "Gas_n_c"
   ]
  },
  {
   "cell_type": "code",
   "execution_count": null,
   "id": "1ac50945",
   "metadata": {},
   "outputs": [],
   "source": [
    "# Convertimos columna categórica a numérica\n",
    "df_n['Precio Gas Natural Comprimido']=df_n['Precio Gas Natural Comprimido'].str.replace(',','.')\n",
    "df_n[['Precio Gas Natural Comprimido']]=df_n[['Precio Gas Natural Comprimido']].apply(pd.to_numeric)"
   ]
  },
  {
   "cell_type": "code",
   "execution_count": null,
   "id": "1f65143d",
   "metadata": {},
   "outputs": [
    {
     "data": {
      "text/plain": [
       "count    122.000000\n",
       "mean       1.739902\n",
       "std        0.370664\n",
       "min        1.201000\n",
       "25%        1.468000\n",
       "50%        1.585000\n",
       "75%        1.990000\n",
       "max        3.700000\n",
       "Name: Precio Gas Natural Comprimido, dtype: float64"
      ]
     },
     "execution_count": 59,
     "metadata": {},
     "output_type": "execute_result"
    }
   ],
   "source": [
    "df_n['Precio Gas Natural Comprimido'].describe()"
   ]
  },
  {
   "cell_type": "code",
   "execution_count": null,
   "id": "e7a5a486",
   "metadata": {},
   "outputs": [
    {
     "data": {
      "text/plain": [
       "11772"
      ]
     },
     "execution_count": 60,
     "metadata": {},
     "output_type": "execute_result"
    }
   ],
   "source": [
    "# Registros sin venta Biodiesel\n",
    "sin_suministro_be = df_n['Precio Bioetanol'].isnull().sum()\n",
    "sin_suministro_be"
   ]
  },
  {
   "cell_type": "markdown",
   "id": "33ddd76e",
   "metadata": {},
   "source": [
    "# Precio Gas Natural Licuado"
   ]
  },
  {
   "cell_type": "code",
   "execution_count": null,
   "id": "d5685b8d",
   "metadata": {},
   "outputs": [
    {
     "name": "stdout",
     "output_type": "stream",
     "text": [
      "17\n",
      "<class 'numpy.ndarray'>\n"
     ]
    },
    {
     "data": {
      "text/plain": [
       "array(['', '1,449', '1,398', '1,368', '1,439', '1,339', '1,399', '1,660',\n",
       "       '1,948', '2,506', '1,499', '1,433', '2,750', '2,279', '3,650',\n",
       "       '1,489', '1,519'], dtype=object)"
      ]
     },
     "execution_count": 61,
     "metadata": {},
     "output_type": "execute_result"
    }
   ],
   "source": [
    "Gas_nat_lic = df_n['Precio Gas Natural Licuado'].unique()\n",
    "print(len(Gas_nat_lic))\n",
    "print(type(Gas_nat_lic))\n",
    "Gas_nat_lic"
   ]
  },
  {
   "cell_type": "code",
   "execution_count": null,
   "id": "90f17335",
   "metadata": {},
   "outputs": [],
   "source": [
    "# Convertimos columna categórica a numérica, primero tenemos que sustituir , por .\n",
    "df_n['Precio Gas Natural Licuado']=df_n['Precio Gas Natural Licuado'].str.replace(',','.')\n",
    "df_n[['Precio Gas Natural Licuado']]=df_n[['Precio Gas Natural Licuado']].apply(pd.to_numeric)"
   ]
  },
  {
   "cell_type": "code",
   "execution_count": null,
   "id": "7b35df2f",
   "metadata": {},
   "outputs": [
    {
     "data": {
      "text/plain": [
       "count    81.000000\n",
       "mean      1.503086\n",
       "std       0.347986\n",
       "min       1.339000\n",
       "25%       1.398000\n",
       "50%       1.398000\n",
       "75%       1.439000\n",
       "max       3.650000\n",
       "Name: Precio Gas Natural Licuado, dtype: float64"
      ]
     },
     "execution_count": 63,
     "metadata": {},
     "output_type": "execute_result"
    }
   ],
   "source": [
    "df_n['Precio Gas Natural Licuado'].describe()"
   ]
  },
  {
   "cell_type": "code",
   "execution_count": null,
   "id": "0eca734e",
   "metadata": {},
   "outputs": [
    {
     "data": {
      "text/plain": [
       "11696"
      ]
     },
     "execution_count": 64,
     "metadata": {},
     "output_type": "execute_result"
    }
   ],
   "source": [
    "# Registros sin venta Gas NAtural Licuado\n",
    "sin_suministro_gnl = df_n['Precio Gas Natural Licuado'].isnull().sum()\n",
    "sin_suministro_gnl"
   ]
  },
  {
   "cell_type": "markdown",
   "id": "ba2199ad",
   "metadata": {},
   "source": [
    "# Precio Gases licuados del petróleo"
   ]
  },
  {
   "cell_type": "code",
   "execution_count": null,
   "id": "bdff2425",
   "metadata": {},
   "outputs": [
    {
     "name": "stdout",
     "output_type": "stream",
     "text": [
      "118\n",
      "<class 'numpy.ndarray'>\n"
     ]
    },
    {
     "data": {
      "text/plain": [
       "array(['', '1,019', '0,898', '1,089', '1,029', '1,059', '0,969', '1,049',\n",
       "       '0,999', '0,968', '1,079', '1,099', '1,039', '1,016', '1,159',\n",
       "       '0,959', '1,020', '0,830', '0,930', '1,077', '1,088', '1,038',\n",
       "       '1,069', '0,939', '0,910', '1,052', '1,009', '1,200', '1,119',\n",
       "       '1,179', '0,980', '1,169', '0,859', '1,094', '1,095', '1,129',\n",
       "       '1,054', '0,909', '0,899', '0,885', '1,098', '0,950', '0,886',\n",
       "       '1,017', '0,929', '1,189', '1,060', '1,087', '1,090', '1,109',\n",
       "       '1,008', '0,979', '1,018', '0,865', '0,965', '0,650', '1,138',\n",
       "       '0,805', '1,022', '0,998', '0,879', '0,790', '1,004', '0,990',\n",
       "       '0,970', '0,997', '0,952', '1,150', '1,025', '1,149', '0,949',\n",
       "       '0,889', '1,139', '1,140', '1,220', '1,260', '1,250', '1,160',\n",
       "       '0,989', '0,759', '1,118', '0,769', '0,941', '1,115', '0,919',\n",
       "       '1,100', '0,977', '1,106', '0,948', '1,048', '1,130', '1,199',\n",
       "       '1,155', '0,809', '0,801', '0,808', '0,799', '0,789', '0,839',\n",
       "       '0,800', '0,818', '0,829', '0,958', '1,026', '0,995', '0,870',\n",
       "       '0,967', '1,042', '0,974', '0,944', '0,905', '0,925', '0,915',\n",
       "       '0,850', '0,779', '1,185', '1,031', '0,849'], dtype=object)"
      ]
     },
     "execution_count": 58,
     "metadata": {},
     "output_type": "execute_result"
    }
   ],
   "source": [
    "Gas_nat_lic_pet = df_n['Precio Gases licuados del petróleo'].unique()\n",
    "print(len(Gas_nat_lic_pet))\n",
    "print(type(Gas_nat_lic_pet))\n",
    "Gas_nat_lic_pet"
   ]
  },
  {
   "cell_type": "code",
   "execution_count": null,
   "id": "94e05d01",
   "metadata": {},
   "outputs": [],
   "source": [
    "# Convertimos columna categórica a numérica\n",
    "df_n['Precio Gases licuados del petróleo']=df_n['Precio Gases licuados del petróleo'].str.replace(',','.')\n",
    "df_n[['Precio Gases licuados del petróleo']]=df_n[['Precio Gases licuados del petróleo']].apply(pd.to_numeric)"
   ]
  },
  {
   "cell_type": "code",
   "execution_count": null,
   "id": "43ae8314",
   "metadata": {},
   "outputs": [
    {
     "data": {
      "text/plain": [
       "count    847.000000\n",
       "mean       1.029299\n",
       "std        0.078412\n",
       "min        0.650000\n",
       "25%        0.999000\n",
       "50%        1.039000\n",
       "75%        1.069000\n",
       "max        1.260000\n",
       "Name: Precio Gases licuados del petróleo, dtype: float64"
      ]
     },
     "execution_count": 60,
     "metadata": {},
     "output_type": "execute_result"
    }
   ],
   "source": [
    "df_n['Precio Gases licuados del petróleo'].describe()"
   ]
  },
  {
   "cell_type": "code",
   "execution_count": null,
   "id": "f39d6004",
   "metadata": {},
   "outputs": [
    {
     "data": {
      "text/plain": [
       "10937"
      ]
     },
     "execution_count": 61,
     "metadata": {},
     "output_type": "execute_result"
    }
   ],
   "source": [
    "# Registros sin venta Gas NAtural Licuado del Petróleo\n",
    "sin_suministro_gnlp = df_n['Precio Gases licuados del petróleo'].isnull().sum()\n",
    "sin_suministro_gnlp"
   ]
  },
  {
   "cell_type": "code",
   "execution_count": null,
   "id": "0a616a04",
   "metadata": {},
   "outputs": [
    {
     "data": {
      "text/plain": [
       "0"
      ]
     },
     "execution_count": 62,
     "metadata": {},
     "output_type": "execute_result"
    }
   ],
   "source": [
    "ceros_sin_suministro_gnlp = (df_n['Precio Gases licuados del petróleo'] == 0).sum()\n",
    "ceros_sin_suministro_gnlp"
   ]
  },
  {
   "cell_type": "markdown",
   "id": "579f7966",
   "metadata": {},
   "source": [
    "# Gasoleo A"
   ]
  },
  {
   "cell_type": "code",
   "execution_count": null,
   "id": "b84c8a71",
   "metadata": {},
   "outputs": [
    {
     "name": "stdout",
     "output_type": "stream",
     "text": [
      "427\n",
      "<class 'numpy.ndarray'>\n"
     ]
    },
    {
     "data": {
      "text/plain": [
       "array(['1,939', '2,040', '1,999', '1,877', '2,029', '1,898', '1,959',\n",
       "       '2,019', '2,039', '1,899', '2,035', '1,949', '1,929', '1,950', '',\n",
       "       '2,049', '1,909', '2,009', '1,890', '1,869', '2,259', '2,045',\n",
       "       '1,919', '1,969', '2,059', '2,025', '1,878', '1,995', '1,893',\n",
       "       '1,954', '1,842', '1,979', '1,870', '1,879', '1,908', '1,987',\n",
       "       '1,960', '1,930', '1,880', '1,849', '1,860', '1,820', '1,989',\n",
       "       '2,079', '1,940', '1,975', '1,840', '1,760', '1,856', '1,976',\n",
       "       '1,875', '1,882', '1,858', '1,994', '1,857', '1,841', '2,054',\n",
       "       '2,020', '2,044', '1,897', '1,814', '1,815', '1,829', '1,837',\n",
       "       '1,998', '1,888', '2,037', '2,021', '2,018', '2,004', '2,010',\n",
       "       '2,015', '2,038', '2,041', '1,887', '1,889', '1,918', '1,859',\n",
       "       '1,971', '1,951', '1,984', '2,034', '1,948', '1,927', '1,799',\n",
       "       '1,965', '1,835', '1,885', '1,982', '1,970', '1,964', '1,845',\n",
       "       '1,944', '1,936', '1,865', '2,055', '1,867', '1,947', '1,978',\n",
       "       '1,839', '2,069', '1,928', '2,036', '1,904', '2,017', '1,749',\n",
       "       '1,866', '1,819', '1,847', '1,895', '1,777', '2,011', '1,911',\n",
       "       '2,030', '1,868', '1,826', '1,920', '1,892', '1,968', '1,985',\n",
       "       '2,006', '1,886', '1,945', '1,850', '1,779', '1,739', '1,744',\n",
       "       '1,855', '1,900', '1,809', '1,827', '1,997', '2,005', '1,967',\n",
       "       '1,825', '2,099', '1,854', '2,074', '2,088', '2,075', '2,089',\n",
       "       '1,894', '1,938', '1,913', '2,000', '1,907', '1,905', '1,937',\n",
       "       '1,915', '1,990', '1,932', '2,048', '2,014', '1,926', '2,065',\n",
       "       '2,050', '1,853', '1,903', '1,972', '2,109', '1,961', '2,016',\n",
       "       '1,774', '1,830', '1,957', '1,891', '1,935', '1,883', '1,874',\n",
       "       '1,910', '1,955', '1,958', '1,769', '1,925', '2,028', '2,086',\n",
       "       '2,135', '2,097', '1,988', '2,047', '2,043', '2,073', '1,977',\n",
       "       '1,823', '1,848', '2,012', '2,139', '1,902', '2,057', '1,834',\n",
       "       '2,077', '1,822', '1,852', '1,824', '1,906', '1,828', '2,125',\n",
       "       '1,789', '1,773', '1,846', '1,836', '1,817', '2,095', '1,812',\n",
       "       '1,917', '1,797', '1,864', '2,336', '1,974', '1,731', '2,085',\n",
       "       '1,795', '2,058', '1,996', '2,066', '1,873', '1,787', '1,942',\n",
       "       '2,007', '2,026', '1,924', '1,991', '1,896', '1,934', '1,730',\n",
       "       '1,980', '1,699', '2,024', '1,838', '1,599', '1,598', '1,759',\n",
       "       '1,912', '1,770', '1,818', '1,941', '1,876', '1,705', '1,871',\n",
       "       '1,800', '1,475', '1,505', '1,794', '1,766', '1,740', '1,792',\n",
       "       '1,679', '1,914', '1,921', '1,805', '2,098', '2,051', '2,056',\n",
       "       '2,068', '1,993', '2,061', '2,083', '1,863', '1,833', '2,149',\n",
       "       '1,973', '1,862', '2,064', '2,027', '2,070', '1,962', '1,785',\n",
       "       '2,309', '1,843', '1,872', '1,802', '1,790', '2,008', '1,594',\n",
       "       '2,031', '2,022', '2,200', '1,750', '2,080', '1,810', '1,791',\n",
       "       '1,813', '1,952', '1,804', '1,992', '1,780', '1,931', '2,042',\n",
       "       '1,832', '1,851', '1,831', '1,711', '1,596', '1,986', '1,901',\n",
       "       '2,072', '2,249', '1,946', '2,013', '2,279', '2,052', '1,963',\n",
       "       '1,966', '1,524', '1,555', '1,535', '1,423', '1,782', '1,417',\n",
       "       '2,119', '1,732', '1,796', '1,821', '2,181', '1,664', '1,981',\n",
       "       '1,983', '2,084', '1,374', '1,509', '1,489', '1,469', '1,479',\n",
       "       '1,449', '1,434', '1,484', '1,499', '1,464', '1,436', '1,399',\n",
       "       '1,534', '1,537', '1,548', '1,539', '1,529', '1,504', '1,549',\n",
       "       '1,519', '1,506', '1,495', '1,518', '1,514', '1,513', '1,485',\n",
       "       '1,515', '1,468', '1,451', '1,487', '1,439', '1,527', '1,517',\n",
       "       '1,531', '1,569', '1,758', '1,573', '1,528', '1,532', '1,544',\n",
       "       '1,395', '1,494', '1,522', '1,497', '1,397', '1,459', '1,510',\n",
       "       '1,520', '1,525', '1,483', '1,526', '1,490', '1,500', '1,448',\n",
       "       '1,454', '1,553', '1,567', '1,419', '1,579', '1,609', '1,916',\n",
       "       '1,720', '1,953', '1,472', '1,559', '1,689', '1,480', '1,507',\n",
       "       '1,429', '1,788', '1,654', '1,613', '1,648', '1,547', '1,512',\n",
       "       '1,588', '1,695', '1,498', '1,435', '1,545', '1,315', '1,493',\n",
       "       '1,295', '1,538', '1,508', '1,503', '1,572', '1,488', '1,761',\n",
       "       '1,575', '1,956', '1,685', '2,274', '1,783', '1,530', '1,844',\n",
       "       '1,933', '1,768', '1,710', '2,150', '1,798', '1,861', '1,923',\n",
       "       '1,771', '2,101', '1,767', '1,884', '2,091', '1,660'], dtype=object)"
      ]
     },
     "execution_count": 63,
     "metadata": {},
     "output_type": "execute_result"
    }
   ],
   "source": [
    "Gasoleo_A = df_n['Precio Gasoleo A'].unique()\n",
    "print(len(Gasoleo_A))\n",
    "print(type(Gasoleo_A))\n",
    "Gasoleo_A"
   ]
  },
  {
   "cell_type": "code",
   "execution_count": null,
   "id": "03079146",
   "metadata": {},
   "outputs": [],
   "source": [
    "# Convertimos columna categórica a numérica, primero tenemos que sustituir , por .\n",
    "df_n['Precio Gasoleo A']=df_n['Precio Gasoleo A'].str.replace(',','.')\n",
    "df_n[['Precio Gasoleo A']]=df_n[['Precio Gasoleo A']].apply(pd.to_numeric)"
   ]
  },
  {
   "cell_type": "code",
   "execution_count": null,
   "id": "b2093cd9",
   "metadata": {},
   "outputs": [
    {
     "data": {
      "text/plain": [
       "count    11441.000000\n",
       "mean         1.956213\n",
       "std          0.115925\n",
       "min          1.295000\n",
       "25%          1.909000\n",
       "50%          1.989000\n",
       "75%          2.029000\n",
       "max          2.336000\n",
       "Name: Precio Gasoleo A, dtype: float64"
      ]
     },
     "execution_count": 65,
     "metadata": {},
     "output_type": "execute_result"
    }
   ],
   "source": [
    "df_n['Precio Gasoleo A'].describe()\n"
   ]
  },
  {
   "cell_type": "code",
   "execution_count": null,
   "id": "a0c57df7",
   "metadata": {},
   "outputs": [
    {
     "data": {
      "text/plain": [
       "343"
      ]
     },
     "execution_count": 66,
     "metadata": {},
     "output_type": "execute_result"
    }
   ],
   "source": [
    "# Registros sin venta Gasoleo A\n",
    "sin_suministro_gA = df_n['Precio Gasoleo A'].isnull().sum()\n",
    "sin_suministro_gA"
   ]
  },
  {
   "cell_type": "code",
   "execution_count": null,
   "id": "2fd05b04",
   "metadata": {},
   "outputs": [
    {
     "data": {
      "text/plain": [
       "0"
      ]
     },
     "execution_count": 67,
     "metadata": {},
     "output_type": "execute_result"
    }
   ],
   "source": [
    "ceros_sin_suministro_gA = (df_n['Precio Gasoleo A'] == 0).sum()\n",
    "ceros_sin_suministro_gA"
   ]
  },
  {
   "cell_type": "markdown",
   "id": "6b8fd3b9",
   "metadata": {},
   "source": [
    "# Gasoleo B"
   ]
  },
  {
   "cell_type": "code",
   "execution_count": null,
   "id": "90c596c9",
   "metadata": {},
   "outputs": [
    {
     "name": "stdout",
     "output_type": "stream",
     "text": [
      "427\n",
      "<class 'numpy.ndarray'>\n"
     ]
    },
    {
     "data": {
      "text/plain": [
       "array(['1,440', '', '1,636', '1,450', '1,649', '1,539', '1,589', '1,433',\n",
       "       '1,690', '1,520', '1,550', '1,470', '1,609', '1,593', '1,484',\n",
       "       '1,489', '1,428', '1,672', '1,479', '1,509', '1,699', '1,665',\n",
       "       '1,617', '1,570', '1,603', '1,530', '1,669', '1,449', '1,390',\n",
       "       '1,490', '1,680', '1,679', '1,639', '1,419', '1,430', '1,574',\n",
       "       '1,629', '1,546', '1,267', '1,511', '1,659', '1,614', '1,689',\n",
       "       '1,569', '1,458', '1,599', '1,719', '1,714', '1,579', '1,622',\n",
       "       '1,123', '1,697', '1,600', '1,749', '1,585', '1,625', '1,779',\n",
       "       '1,580', '1,687', '1,529', '1,469', '1,691', '1,623', '1,643',\n",
       "       '1,559', '1,635', '1,491', '1,553', '1,500', '1,495', '1,619',\n",
       "       '1,499', '1,473', '1,443', '1,488', '1,632', '1,578', '1,634',\n",
       "       '1,630', '1,695', '1,519', '1,549', '1,675', '1,769', '1,759',\n",
       "       '1,640', '1,849', '1,739', '1,729', '1,627', '1,350', '1,740',\n",
       "       '1,658', '1,653', '1,657', '1,674', '1,590', '1,620', '1,715',\n",
       "       '1,560', '1,684', '1,800', '1,540', '1,702', '1,616', '1,700',\n",
       "       '1,709', '1,565', '1,525', '1,839', '1,596', '1,819', '1,561',\n",
       "       '1,457', '1,637', '1,403', '1,377', '1,399', '1,607', '1,480',\n",
       "       '1,618', '1,583', '1,670', '1,528', '1,510', '1,406', '1,750',\n",
       "       '1,340', '1,566', '1,451', '1,475', '1,650', '1,109', '1,453',\n",
       "       '1,398', '1,692', '1,349', '1,492', '1,461', '1,533', '1,380',\n",
       "       '1,522', '1,447', '1,662', '1,421', '1,393', '1,400', '1,385',\n",
       "       '1,409', '1,537', '1,315', '1,439', '1,545', '1,556', '1,420',\n",
       "       '1,459', '1,471', '1,592', '1,682', '1,792', '1,949', '1,789',\n",
       "       '1,765', '1,535', '1,547', '1,707', '1,706', '1,496', '1,660',\n",
       "       '1,748', '1,460', '1,726', '1,604', '1,562', '1,608', '1,638',\n",
       "       '1,725', '1,655', '1,685', '1,564', '1,330', '1,266', '1,416',\n",
       "       '1,671', '1,597', '1,009', '1,615', '1,588', '1,415', '1,668',\n",
       "       '1,482', '1,465', '1,631', '1,412', '1,300', '1,477', '1,429',\n",
       "       '1,517', '1,468', '1,628', '1,595', '1,446', '1,538', '1,270',\n",
       "       '1,571', '1,455', '1,626', '1,621', '1,778', '1,601', '1,534',\n",
       "       '1,598', '1,498', '1,610', '1,359', '1,435', '1,485', '1,466',\n",
       "       '1,423', '1,654', '1,494', '1,673', '1,448', '1,688', '1,462',\n",
       "       '1,299', '1,483', '1,581', '1,555', '1,413', '1,360', '1,387',\n",
       "       '1,395', '1,554', '1,408', '1,497', '1,611', '1,404', '1,394',\n",
       "       '1,445', '1,336', '1,322', '1,612', '1,664', '1,474', '1,379',\n",
       "       '1,382', '1,410', '1,575', '1,436', '1,666', '1,646', '1,698',\n",
       "       '1,661', '1,647', '1,710', '1,606', '1,651', '1,686', '1,452',\n",
       "       '1,454', '1,502', '1,427', '1,424', '1,478', '1,464', '1,434',\n",
       "       '1,746', '1,764', '1,734', '1,713', '1,514', '1,757', '1,683',\n",
       "       '1,736', '1,584', '1,774', '1,890', '1,587', '1,542', '1,799',\n",
       "       '1,417', '1,548', '1,624', '1,667', '1,442', '1,602', '1,605',\n",
       "       '1,513', '1,383', '1,526', '1,633', '1,348', '1,900', '1,375',\n",
       "       '1,337', '1,456', '1,389', '1,397', '1,760', '1,573', '1,431',\n",
       "       '1,503', '1,532', '1,577', '1,641', '1,576', '1,505', '1,370',\n",
       "       '1,594', '1,214', '1,507', '1,704', '1,558', '1,391', '1,463',\n",
       "       '1,572', '1,386', '1,438', '1,425', '1,306', '1,656', '1,676',\n",
       "       '1,170', '1,323', '1,487', '1,392', '1,481', '1,426', '1,467',\n",
       "       '1,402', '1,329', '1,320', '1,677', '1,752', '1,783', '1,648',\n",
       "       '1,331', '1,523', '1,356', '1,735', '1,346', '1,521', '1,327',\n",
       "       '1,374', '1,696', '1,361', '1,512', '1,694', '1,289', '1,730',\n",
       "       '1,355', '1,567', '1,644', '1,755', '1,344', '1,613', '1,422',\n",
       "       '1,859', '1,771', '1,645', '1,717', '1,586', '1,371', '1,437',\n",
       "       '1,248', '1,678', '1,432', '1,518', '1,524', '1,411', '1,354',\n",
       "       '1,302', '1,130', '1,476', '1,563', '1,335', '1,262', '1,557',\n",
       "       '1,269', '1,486', '1,286', '1,280', '1,551', '1,527', '1,516',\n",
       "       '1,552', '1,253', '1,501', '1,339', '1,328', '1,508', '1,504',\n",
       "       '1,809', '1,310', '1,296', '1,732', '1,441', '1,345', '1,642',\n",
       "       '1,227', '1,568', '1,290', '1,418', '1,230', '1,414', '1,260',\n",
       "       '1,582'], dtype=object)"
      ]
     },
     "execution_count": 68,
     "metadata": {},
     "output_type": "execute_result"
    }
   ],
   "source": [
    "Gasoleo_B = df_n['Precio Gasoleo B'].unique()\n",
    "print(len(Gasoleo_A))\n",
    "print(type(Gasoleo_A))\n",
    "Gasoleo_B"
   ]
  },
  {
   "cell_type": "code",
   "execution_count": null,
   "id": "b9ff1285",
   "metadata": {},
   "outputs": [],
   "source": [
    "# Convertimos columna categórica a numérica, primero tenemos que sustituir , por .\n",
    "df_n['Precio Gasoleo B']=df_n['Precio Gasoleo B'].str.replace(',','.')\n",
    "df_n[['Precio Gasoleo B']]=df_n[['Precio Gasoleo B']].apply(pd.to_numeric)"
   ]
  },
  {
   "cell_type": "code",
   "execution_count": null,
   "id": "40bfd63c",
   "metadata": {},
   "outputs": [
    {
     "data": {
      "text/plain": [
       "count    3006.000000\n",
       "mean        1.565684\n",
       "std         0.103675\n",
       "min         1.009000\n",
       "25%         1.490000\n",
       "50%         1.579000\n",
       "75%         1.640000\n",
       "max         1.949000\n",
       "Name: Precio Gasoleo B, dtype: float64"
      ]
     },
     "execution_count": 70,
     "metadata": {},
     "output_type": "execute_result"
    }
   ],
   "source": [
    "df_n['Precio Gasoleo B'].describe()\n"
   ]
  },
  {
   "cell_type": "code",
   "execution_count": null,
   "id": "ee5cfffa",
   "metadata": {},
   "outputs": [
    {
     "data": {
      "text/plain": [
       "8778"
      ]
     },
     "execution_count": 71,
     "metadata": {},
     "output_type": "execute_result"
    }
   ],
   "source": [
    "# Registros sin venta Gasoleo B\n",
    "sin_suministro_gB = df_n['Precio Gasoleo B'].isnull().sum()\n",
    "sin_suministro_gB"
   ]
  },
  {
   "cell_type": "code",
   "execution_count": null,
   "id": "1654e9f7",
   "metadata": {},
   "outputs": [
    {
     "data": {
      "text/plain": [
       "0"
      ]
     },
     "execution_count": 72,
     "metadata": {},
     "output_type": "execute_result"
    }
   ],
   "source": [
    "ceros_sin_suministro_gB = (df_n['Precio Gasoleo B'] == 0).sum()\n",
    "ceros_sin_suministro_gB"
   ]
  },
  {
   "cell_type": "markdown",
   "id": "24d3a7ce",
   "metadata": {},
   "source": [
    "# Precio Gasoleo Premium "
   ]
  },
  {
   "cell_type": "code",
   "execution_count": null,
   "id": "e25d3aaf",
   "metadata": {},
   "outputs": [
    {
     "name": "stdout",
     "output_type": "stream",
     "text": [
      "364\n",
      "<class 'numpy.ndarray'>\n"
     ]
    },
    {
     "data": {
      "text/plain": [
       "array(['', '2,039', '2,119', '2,089', '1,948', '2,019', '2,099', '2,109',\n",
       "       '1,959', '2,101', '2,069', '1,999', '2,059', '2,049', '1,990',\n",
       "       '1,979', '1,966', '2,079', '2,149', '2,125', '1,989', '2,105',\n",
       "       '2,029', '2,055', '2,139', '2,129', '1,889', '2,084', '2,144',\n",
       "       '2,124', '1,867', '2,098', '2,103', '2,095', '2,091', '2,078',\n",
       "       '2,058', '2,229', '2,115', '2,009', '1,899', '1,939', '1,859',\n",
       "       '2,104', '2,006', '2,113', '1,885', '2,114', '2,034', '2,117',\n",
       "       '2,036', '2,044', '2,074', '1,988', '2,065', '2,155', '2,085',\n",
       "       '2,138', '2,110', '1,879', '2,159', '2,169', '2,999', '1,919',\n",
       "       '1,929', '2,102', '1,974', '1,949', '2,087', '1,935', '1,969',\n",
       "       '2,081', '2,100', '1,977', '2,033', '2,096', '1,878', '1,897',\n",
       "       '2,088', '1,926', '2,093', '2,042', '1,900', '1,849', '1,927',\n",
       "       '1,875', '1,855', '1,903', '1,936', '1,882', '2,075', '2,070',\n",
       "       '1,895', '2,205', '2,189', '2,164', '2,134', '2,165', '2,179',\n",
       "       '1,887', '1,968', '2,004', '1,963', '2,064', '1,945', '1,925',\n",
       "       '1,975', '2,030', '2,145', '1,950', '1,997', '2,135', '2,120',\n",
       "       '2,128', '1,789', '1,874', '2,111', '2,057', '2,131', '1,928',\n",
       "       '2,118', '2,126', '2,251', '2,127', '2,000', '2,108', '1,917',\n",
       "       '1,908', '2,040', '1,869', '2,054', '2,080', '1,965', '1,918',\n",
       "       '2,094', '2,015', '1,909', '1,675', '1,946', '2,050', '1,857',\n",
       "       '1,904', '1,947', '1,865', '1,998', '1,817', '1,938', '1,829',\n",
       "       '2,045', '1,888', '1,987', '2,185', '2,066', '2,175', '2,077',\n",
       "       '1,819', '2,161', '1,910', '2,152', '2,048', '2,097', '2,053',\n",
       "       '2,068', '1,907', '2,047', '1,797', '2,035', '1,719', '1,995',\n",
       "       '2,024', '2,021', '2,025', '1,639', '2,090', '2,056', '2,071',\n",
       "       '1,860', '2,051', '1,954', '1,985', '2,060', '1,973', '1,978',\n",
       "       '2,107', '2,148', '2,083', '2,086', '1,934', '2,215', '2,137',\n",
       "       '2,011', '1,992', '1,914', '2,007', '2,061', '1,877', '2,063',\n",
       "       '2,082', '1,839', '2,005', '1,809', '2,023', '1,930', '2,018',\n",
       "       '2,027', '1,890', '2,020', '2,219', '1,883', '2,076', '2,052',\n",
       "       '2,140', '2,199', '1,847', '2,172', '1,864', '1,994', '1,940',\n",
       "       '1,799', '1,896', '2,299', '2,038', '1,827', '2,121', '1,984',\n",
       "       '1,962', '1,891', '1,941', '1,937', '1,835', '2,014', '2,026',\n",
       "       '1,894', '1,943', '1,555', '1,564', '1,585', '1,898', '2,032',\n",
       "       '1,841', '1,916', '1,837', '1,958', '2,301', '1,944', '1,957',\n",
       "       '1,559', '1,644', '1,619', '1,599', '1,579', '1,679', '1,649',\n",
       "       '1,605', '1,550', '1,634', '1,629', '1,609', '1,624', '1,611',\n",
       "       '1,623', '1,659', '1,618', '1,601', '1,631', '1,625', '1,604',\n",
       "       '1,587', '1,689', '1,718', '1,633', '1,642', '1,614', '1,549',\n",
       "       '1,620', '1,669', '1,525', '1,699', '1,622', '1,627', '1,636',\n",
       "       '1,654', '1,628', '1,630', '1,584', '1,510', '1,554', '1,557',\n",
       "       '1,653', '1,600', '1,688', '1,700', '1,637', '2,178', '2,037',\n",
       "       '1,961', '2,154', '2,028', '2,041', '1,643', '1,520', '1,647',\n",
       "       '1,833', '1,641', '1,871', '1,626', '1,547', '1,714', '1,569',\n",
       "       '1,593', '1,558', '1,832', '1,735', '1,603', '1,465', '1,573',\n",
       "       '1,499', '1,660', '1,638', '1,695', '1,793', '1,646', '1,686',\n",
       "       '1,574', '1,594', '1,709', '1,596', '1,588', '2,228', '2,156',\n",
       "       '2,017', '2,146', '2,142', '1,886', '1,933', '1,842', '1,850',\n",
       "       '2,067', '1,955', '1,924', '1,870', '1,915', '1,905', '1,951',\n",
       "       '1,822', '2,130', '1,967', '2,151', '1,856', '1,880', '1,866',\n",
       "       '1,960', '1,923', '2,092', '2,043', '2,046', '1,970', '1,777',\n",
       "       '1,779', '2,062', '2,016', '2,008', '1,920', '1,953'], dtype=object)"
      ]
     },
     "execution_count": 73,
     "metadata": {},
     "output_type": "execute_result"
    }
   ],
   "source": [
    "Gasoleo_P = df_n['Precio Gasoleo Premium'].unique()\n",
    "print(len(Gasoleo_P))\n",
    "print(type(Gasoleo_P))\n",
    "Gasoleo_P"
   ]
  },
  {
   "cell_type": "code",
   "execution_count": null,
   "id": "b2743f33",
   "metadata": {},
   "outputs": [],
   "source": [
    "# Convertimos columna categórica a numérica, primero tenemos que sustituir , por .\n",
    "df_n['Precio Gasoleo Premium']=df_n['Precio Gasoleo Premium'].str.replace(',','.')\n",
    "df_n[['Precio Gasoleo Premium']]=df_n[['Precio Gasoleo Premium']].apply(pd.to_numeric)"
   ]
  },
  {
   "cell_type": "code",
   "execution_count": null,
   "id": "10e79699",
   "metadata": {},
   "outputs": [
    {
     "data": {
      "text/plain": [
       "count    7516.000000\n",
       "mean        2.051307\n",
       "std         0.114065\n",
       "min         1.465000\n",
       "25%         2.039000\n",
       "50%         2.079000\n",
       "75%         2.115000\n",
       "max         2.999000\n",
       "Name: Precio Gasoleo Premium, dtype: float64"
      ]
     },
     "execution_count": 75,
     "metadata": {},
     "output_type": "execute_result"
    }
   ],
   "source": [
    "df_n['Precio Gasoleo Premium'].describe()"
   ]
  },
  {
   "cell_type": "code",
   "execution_count": null,
   "id": "9666e5b7",
   "metadata": {},
   "outputs": [
    {
     "data": {
      "text/plain": [
       "4268"
      ]
     },
     "execution_count": 76,
     "metadata": {},
     "output_type": "execute_result"
    }
   ],
   "source": [
    "# Registros sin venta Gasoleo Premium\n",
    "sin_suministro_gP = df_n['Precio Gasoleo Premium'].isnull().sum()\n",
    "sin_suministro_gP"
   ]
  },
  {
   "cell_type": "code",
   "execution_count": null,
   "id": "c62c56a0",
   "metadata": {},
   "outputs": [
    {
     "data": {
      "text/plain": [
       "0"
      ]
     },
     "execution_count": 77,
     "metadata": {},
     "output_type": "execute_result"
    }
   ],
   "source": [
    "ceros_sin_suministro_gP = (df_n['Precio Gasoleo Premium'] == 0).sum()\n",
    "ceros_sin_suministro_gP"
   ]
  },
  {
   "cell_type": "markdown",
   "id": "1af7f46d",
   "metadata": {},
   "source": [
    "# Precio Gasolina 95 E10 "
   ]
  },
  {
   "cell_type": "code",
   "execution_count": null,
   "id": "a3d6c6e1",
   "metadata": {},
   "outputs": [
    {
     "name": "stdout",
     "output_type": "stream",
     "text": [
      "17\n",
      "<class 'numpy.ndarray'>\n"
     ]
    },
    {
     "data": {
      "text/plain": [
       "array(['', '2,129', '1,939', '1,769', '1,819', '1,720', '1,829', '1,889',\n",
       "       '1,849', '1,609', '1,749', '1,669', '1,717', '1,899', '1,929',\n",
       "       '1,919', '1,868'], dtype=object)"
      ]
     },
     "execution_count": 78,
     "metadata": {},
     "output_type": "execute_result"
    }
   ],
   "source": [
    "g95_E10 = df_n['Precio Gasolina 95 E10'].unique()\n",
    "print(len(g95_E10))\n",
    "print(type(g95_E10))\n",
    "g95_E10"
   ]
  },
  {
   "cell_type": "code",
   "execution_count": null,
   "id": "c2203d4d",
   "metadata": {},
   "outputs": [],
   "source": [
    "# Convertimos columna categórica a numérica, primero tenemos que sustituir , por .\n",
    "df_n['Precio Gasolina 95 E10']=df_n['Precio Gasolina 95 E10'].str.replace(',','.')\n",
    "df_n[['Precio Gasolina 95 E10']]=df_n[['Precio Gasolina 95 E10']].apply(pd.to_numeric)"
   ]
  },
  {
   "cell_type": "code",
   "execution_count": null,
   "id": "01212952",
   "metadata": {},
   "outputs": [
    {
     "data": {
      "text/plain": [
       "count    21.000000\n",
       "mean      1.839857\n",
       "std       0.112732\n",
       "min       1.609000\n",
       "25%       1.769000\n",
       "50%       1.849000\n",
       "75%       1.899000\n",
       "max       2.129000\n",
       "Name: Precio Gasolina 95 E10, dtype: float64"
      ]
     },
     "execution_count": 80,
     "metadata": {},
     "output_type": "execute_result"
    }
   ],
   "source": [
    " df_n['Precio Gasolina 95 E10'].describe()"
   ]
  },
  {
   "cell_type": "code",
   "execution_count": null,
   "id": "6aaa6a7b",
   "metadata": {},
   "outputs": [
    {
     "data": {
      "text/plain": [
       "11763"
      ]
     },
     "execution_count": 81,
     "metadata": {},
     "output_type": "execute_result"
    }
   ],
   "source": [
    "# Registros sin venta Gasoleo Premium\n",
    "sin_suministro_95E10 = df_n['Precio Gasolina 95 E10'].isnull().sum()\n",
    "sin_suministro_95E10"
   ]
  },
  {
   "cell_type": "markdown",
   "id": "3e9e3b58",
   "metadata": {},
   "source": [
    "# Precio Gasolina 95 E5"
   ]
  },
  {
   "cell_type": "code",
   "execution_count": null,
   "id": "a04d4e77",
   "metadata": {},
   "outputs": [
    {
     "name": "stdout",
     "output_type": "stream",
     "text": [
      "446\n",
      "<class 'numpy.ndarray'>\n"
     ]
    },
    {
     "data": {
      "text/plain": [
       "array(['1,739', '', '1,789', '1,657', '1,779', '1,728', '1,799', '1,769',\n",
       "       '1,659', '1,764', '1,749', '1,729', '1,730', '1,745', '1,750',\n",
       "       '1,649', '2,299', '1,759', '1,829', '1,774', '1,709', '1,719',\n",
       "       '1,638', '1,806', '1,632', '1,809', '1,700', '1,708', '1,629',\n",
       "       '1,775', '1,869', '1,805', '1,689', '1,714', '1,602', '1,627',\n",
       "       '1,839', '1,673', '1,794', '1,744', '1,699', '1,702', '1,754',\n",
       "       '1,804', '1,859', '1,697', '1,679', '1,625', '1,595', '1,547',\n",
       "       '1,762', '1,757', '1,716', '1,777', '1,758', '1,748', '1,747',\n",
       "       '1,849', '1,778', '1,667', '1,669', '1,819', '1,783', '1,760',\n",
       "       '1,619', '1,755', '1,665', '1,626', '1,645', '1,784', '1,742',\n",
       "       '1,734', '1,746', '1,798', '1,687', '1,737', '1,677', '1,639',\n",
       "       '1,609', '1,879', '1,718', '1,776', '1,599', '1,617', '1,557',\n",
       "       '1,605', '1,800', '1,698', '1,814', '1,658', '1,810', '1,715',\n",
       "       '1,787', '1,663', '1,610', '1,640', '1,579', '1,969', '1,621',\n",
       "       '1,633', '1,660', '1,785', '1,732', '1,795', '1,797', '1,939',\n",
       "       '1,791', '1,670', '1,615', '1,780', '1,770', '1,834', '1,825',\n",
       "       '1,844', '1,898', '1,704', '1,909', '1,938', '1,768', '1,889',\n",
       "       '1,738', '2,000', '1,725', '1,899', '1,884', '1,929', '1,919',\n",
       "       '1,864', '1,863', '1,870', '1,918', '1,840', '1,850', '1,650',\n",
       "       '1,678', '1,845', '1,676', '1,722', '1,630', '1,857', '1,655',\n",
       "       '1,920', '1,828', '1,735', '1,817', '1,733', '1,999', '1,685',\n",
       "       '1,788', '1,815', '1,801', '1,837', '1,824', '1,827', '1,813',\n",
       "       '1,858', '1,668', '1,588', '1,727', '1,855', '1,793', '1,835',\n",
       "       '1,726', '1,867', '1,592', '1,683', '1,647', '1,861', '1,648',\n",
       "       '1,587', '1,608', '1,843', '1,591', '1,589', '1,635', '1,590',\n",
       "       '1,680', '1,736', '1,574', '1,874', '1,578', '1,823', '1,717',\n",
       "       '1,664', '1,694', '1,598', '1,593', '1,897', '1,949', '2,086',\n",
       "       '1,868', '1,765', '1,796', '1,848', '2,149', '1,885', '1,818',\n",
       "       '1,854', '1,634', '1,674', '1,675', '1,772', '1,724', '1,696',\n",
       "       '1,720', '1,860', '1,790', '1,830', '1,740', '1,604', '1,900',\n",
       "       '1,600', '1,688', '1,620', '1,622', '1,838', '1,761', '1,624',\n",
       "       '1,603', '1,409', '1,408', '1,641', '1,695', '1,656', '1,597',\n",
       "       '1,612', '1,820', '1,560', '1,616', '1,306', '1,637', '1,653',\n",
       "       '1,340', '1,614', '1,989', '1,875', '1,901', '1,894', '1,959',\n",
       "       '1,933', '1,888', '1,923', '1,924', '1,865', '1,911', '1,905',\n",
       "       '1,937', '1,682', '1,965', '1,917', '1,782', '1,662', '1,841',\n",
       "       '2,329', '1,672', '1,564', '1,808', '1,643', '1,705', '1,710',\n",
       "       '1,690', '1,731', '1,706', '1,767', '1,893', '1,646', '1,751',\n",
       "       '1,652', '1,853', '2,120', '1,703', '1,856', '1,847', '1,594',\n",
       "       '1,596', '1,812', '1,586', '1,763', '1,601', '1,644', '1,567',\n",
       "       '1,577', '1,559', '1,654', '1,684', '1,974', '2,139', '1,756',\n",
       "       '1,711', '1,811', '1,707', '1,786', '1,661', '1,329', '1,348',\n",
       "       '1,349', '2,100', '1,623', '1,666', '1,572', '1,981', '1,833',\n",
       "       '1,713', '1,846', '1,484', '1,339', '1,435', '1,379', '1,459',\n",
       "       '1,359', '1,259', '1,169', '1,439', '1,369', '1,300', '1,425',\n",
       "       '1,489', '1,498', '1,478', '1,499', '1,479', '1,440', '1,494',\n",
       "       '1,442', '1,469', '1,430', '1,488', '1,519', '1,509', '1,485',\n",
       "       '1,515', '1,487', '1,249', '1,475', '1,429', '1,470', '1,539',\n",
       "       '1,492', '1,521', '1,503', '1,454', '1,444', '1,474', '1,502',\n",
       "       '1,279', '1,473', '1,289', '1,480', '1,495', '1,468', '1,514',\n",
       "       '1,464', '1,471', '1,461', '1,496', '1,399', '1,497', '1,506',\n",
       "       '1,449', '1,450', '1,460', '1,434', '1,428', '1,190', '1,374',\n",
       "       '1,427', '1,419', '1,529', '1,831', '1,882', '1,792', '1,891',\n",
       "       '1,904', '1,753', '1,693', '1,239', '1,458', '1,265', '1,414',\n",
       "       '1,389', '1,375', '1,380', '1,402', '1,386', '1,395', '1,410',\n",
       "       '1,424', '1,452', '1,297', '1,377', '1,388', '1,295', '1,421',\n",
       "       '1,530', '1,445', '1,195', '1,298', '1,412', '1,175', '1,299',\n",
       "       '1,465', '1,415', '1,385', '1,422', '1,397', '1,448', '1,443',\n",
       "       '1,472', '1,378', '1,404', '1,413', '1,376', '1,401', '1,561',\n",
       "       '1,423', '1,205', '1,463', '1,225', '1,403', '1,209', '1,364',\n",
       "       '1,387', '1,396', '1,651', '1,771', '1,890', '1,878', '1,607',\n",
       "       '2,069', '1,842', '1,961', '1,686', '1,701', '1,618', '1,636',\n",
       "       '2,027', '1,555', '1,628', '1,826', '1,773', '1,807', '1,822',\n",
       "       '1,781', '1,930', '1,691', '1,741'], dtype=object)"
      ]
     },
     "execution_count": 82,
     "metadata": {},
     "output_type": "execute_result"
    }
   ],
   "source": [
    "g95_E5 = df_n['Precio Gasolina 95 E5'].unique()\n",
    "print(len(g95_E5))\n",
    "print(type(g95_E5))\n",
    "g95_E5"
   ]
  },
  {
   "cell_type": "code",
   "execution_count": null,
   "id": "196f251e",
   "metadata": {},
   "outputs": [],
   "source": [
    "# Convertimos columna categórica a numérica, primero tenemos que sustituir , por .\n",
    "df_n['Precio Gasolina 95 E5']=df_n['Precio Gasolina 95 E5'].str.replace(',','.')\n",
    "df_n[['Precio Gasolina 95 E5']]=df_n[['Precio Gasolina 95 E5']].apply(pd.to_numeric)"
   ]
  },
  {
   "cell_type": "code",
   "execution_count": null,
   "id": "621ec9bd",
   "metadata": {},
   "outputs": [
    {
     "data": {
      "text/plain": [
       "count    10644.000000\n",
       "mean         1.752631\n",
       "std          0.095796\n",
       "min          1.169000\n",
       "25%          1.719000\n",
       "50%          1.769000\n",
       "75%          1.809000\n",
       "max          2.329000\n",
       "Name: Precio Gasolina 95 E5, dtype: float64"
      ]
     },
     "execution_count": 84,
     "metadata": {},
     "output_type": "execute_result"
    }
   ],
   "source": [
    "df_n['Precio Gasolina 95 E5'].describe()"
   ]
  },
  {
   "cell_type": "code",
   "execution_count": null,
   "id": "56396333",
   "metadata": {},
   "outputs": [
    {
     "data": {
      "text/plain": [
       "1140"
      ]
     },
     "execution_count": 85,
     "metadata": {},
     "output_type": "execute_result"
    }
   ],
   "source": [
    "# Registros sin venta Gasoleo Premium\n",
    "sin_suministro_g95E5 = df_n['Precio Gasolina 95 E5'].isnull().sum()\n",
    "sin_suministro_g95E5"
   ]
  },
  {
   "cell_type": "code",
   "execution_count": null,
   "id": "c8cc07ca",
   "metadata": {},
   "outputs": [
    {
     "data": {
      "text/plain": [
       "0"
      ]
     },
     "execution_count": 86,
     "metadata": {},
     "output_type": "execute_result"
    }
   ],
   "source": [
    "ceros_sin_suministro_g95E5  = (df_n['Precio Gasolina 95 E5'] == 0).sum()\n",
    "ceros_sin_suministro_g95E5 "
   ]
  },
  {
   "cell_type": "markdown",
   "id": "fe877ab4",
   "metadata": {},
   "source": [
    "# Precio Gasolina 95 E5 Premium"
   ]
  },
  {
   "cell_type": "code",
   "execution_count": null,
   "id": "5586de3c",
   "metadata": {},
   "outputs": [
    {
     "name": "stdout",
     "output_type": "stream",
     "text": [
      "93\n",
      "<class 'numpy.ndarray'>\n"
     ]
    },
    {
     "data": {
      "text/plain": [
       "array(['', '1,829', '1,854', '1,789', '1,819', '1,869', '1,759', '1,859',\n",
       "       '1,769', '1,979', '1,864', '1,837', '1,844', '1,779', '1,879',\n",
       "       '1,839', '1,784', '1,809', '1,799', '1,889', '1,824', '1,679',\n",
       "       '1,849', '1,909', '1,899', '1,698', '1,894', '1,689', '1,589',\n",
       "       '1,639', '1,629', '1,814', '1,914', '1,919', '1,959', '1,929',\n",
       "       '1,939', '1,815', '1,904', '1,835', '1,949', '1,989', '1,999',\n",
       "       '1,754', '1,739', '1,718', '1,694', '1,916', '1,934', '1,774',\n",
       "       '1,874', '1,669', '1,954', '1,749', '1,924', '1,834', '1,840',\n",
       "       '1,444', '1,850', '1,884', '1,709', '1,719', '1,808', '1,765',\n",
       "       '1,793', '1,785', '1,858', '1,650', '1,678', '1,729', '1,667',\n",
       "       '1,727', '1,697', '1,699', '1,768', '1,627', '1,822', '1,969',\n",
       "       '1,359', '1,519', '1,449', '1,880', '1,642', '1,851', '1,655',\n",
       "       '1,868', '1,811', '1,711', '1,926', '2,099', '1,804', '1,895',\n",
       "       '1,847'], dtype=object)"
      ]
     },
     "execution_count": 87,
     "metadata": {},
     "output_type": "execute_result"
    }
   ],
   "source": [
    "g95_E5_P = df_n['Precio Gasolina 95 E5 Premium'].unique()\n",
    "print(len(g95_E5_P))\n",
    "print(type(g95_E5_P))\n",
    "g95_E5_P"
   ]
  },
  {
   "cell_type": "code",
   "execution_count": null,
   "id": "4758d3d3",
   "metadata": {},
   "outputs": [],
   "source": [
    "# Convertimos columna categórica a numérica, primero tenemos que sustituir , por .\n",
    "df_n['Precio Gasolina 95 E5 Premium']=df_n['Precio Gasolina 95 E5 Premium'].str.replace(',','.')\n",
    "df_n[['Precio Gasolina 95 E5 Premium']]=df_n[['Precio Gasolina 95 E5 Premium']].apply(pd.to_numeric)"
   ]
  },
  {
   "cell_type": "code",
   "execution_count": null,
   "id": "7d0a8e3a",
   "metadata": {},
   "outputs": [
    {
     "data": {
      "text/plain": [
       "count    795.000000\n",
       "mean       1.842216\n",
       "std        0.074064\n",
       "min        1.359000\n",
       "25%        1.814000\n",
       "50%        1.859000\n",
       "75%        1.889000\n",
       "max        2.099000\n",
       "Name: Precio Gasolina 95 E5 Premium, dtype: float64"
      ]
     },
     "execution_count": 89,
     "metadata": {},
     "output_type": "execute_result"
    }
   ],
   "source": [
    "df_n['Precio Gasolina 95 E5 Premium'].describe()"
   ]
  },
  {
   "cell_type": "code",
   "execution_count": null,
   "id": "4a815e9d",
   "metadata": {},
   "outputs": [
    {
     "data": {
      "text/plain": [
       "10989"
      ]
     },
     "execution_count": 90,
     "metadata": {},
     "output_type": "execute_result"
    }
   ],
   "source": [
    "# Registros sin venta Gasolina 95 E5 Premium\n",
    "sin_suministro_g95E5_Prem = df_n['Precio Gasolina 95 E5 Premium'].isnull().sum()\n",
    "sin_suministro_g95E5_Prem"
   ]
  },
  {
   "cell_type": "code",
   "execution_count": null,
   "id": "7ae51272",
   "metadata": {},
   "outputs": [
    {
     "data": {
      "text/plain": [
       "0"
      ]
     },
     "execution_count": 91,
     "metadata": {},
     "output_type": "execute_result"
    }
   ],
   "source": [
    "ceros_sin_suministro_g95E5_Prem  = (df_n['Precio Gasolina 95 E5 Premium'] == 0).sum()\n",
    "ceros_sin_suministro_g95E5 "
   ]
  },
  {
   "cell_type": "markdown",
   "id": "477ee508",
   "metadata": {},
   "source": [
    "# Precio Gasolina 98 E10"
   ]
  },
  {
   "cell_type": "code",
   "execution_count": null,
   "id": "3b8c6a20",
   "metadata": {},
   "outputs": [
    {
     "name": "stdout",
     "output_type": "stream",
     "text": [
      "8\n",
      "<class 'numpy.ndarray'>\n"
     ]
    },
    {
     "data": {
      "text/plain": [
       "array(['', '1,995', '1,839', '1,788', '1,907', '1,939', '1,949', '1,838'],\n",
       "      dtype=object)"
      ]
     },
     "execution_count": 92,
     "metadata": {},
     "output_type": "execute_result"
    }
   ],
   "source": [
    "g98_E10 = df_n['Precio Gasolina 98 E10'].unique()\n",
    "print(len(g98_E10))\n",
    "print(type(g98_E10))\n",
    "g98_E10"
   ]
  },
  {
   "cell_type": "code",
   "execution_count": null,
   "id": "77f0708e",
   "metadata": {},
   "outputs": [],
   "source": [
    "# Convertimos columna categórica a numérica, primero tenemos que sustituir , por .\n",
    "df_n['Precio Gasolina 98 E10']=df_n['Precio Gasolina 98 E10'].str.replace(',','.')\n",
    "df_n[['Precio Gasolina 98 E10']]=df_n[['Precio Gasolina 98 E10']].apply(pd.to_numeric)"
   ]
  },
  {
   "cell_type": "code",
   "execution_count": null,
   "id": "0ce30530",
   "metadata": {},
   "outputs": [
    {
     "data": {
      "text/plain": [
       "count    8.000000\n",
       "mean     1.899250\n",
       "std      0.070327\n",
       "min      1.788000\n",
       "25%      1.838750\n",
       "50%      1.923000\n",
       "75%      1.941500\n",
       "max      1.995000\n",
       "Name: Precio Gasolina 98 E10, dtype: float64"
      ]
     },
     "execution_count": 94,
     "metadata": {},
     "output_type": "execute_result"
    }
   ],
   "source": [
    "df_n['Precio Gasolina 98 E10'].describe()"
   ]
  },
  {
   "cell_type": "code",
   "execution_count": null,
   "id": "7846a3d5",
   "metadata": {},
   "outputs": [
    {
     "data": {
      "text/plain": [
       "11776"
      ]
     },
     "execution_count": 95,
     "metadata": {},
     "output_type": "execute_result"
    }
   ],
   "source": [
    "# Registros sin venta Gasolina 98 E10 \n",
    "sin_suministro_g98E10 = df_n['Precio Gasolina 98 E10'].isnull().sum()\n",
    "sin_suministro_g98E10"
   ]
  },
  {
   "cell_type": "markdown",
   "id": "d0eca28a",
   "metadata": {},
   "source": [
    "# Precio Gasolina 98 E5"
   ]
  },
  {
   "cell_type": "code",
   "execution_count": null,
   "id": "b948ed78",
   "metadata": {},
   "outputs": [
    {
     "name": "stdout",
     "output_type": "stream",
     "text": [
      "400\n",
      "<class 'numpy.ndarray'>\n"
     ]
    },
    {
     "data": {
      "text/plain": [
       "array(['', '1,919', '1,921', '1,889', '1,849', '1,939', '1,929', '1,899',\n",
       "       '1,959', '1,896', '1,859', '1,869', '1,855', '1,989', '2,369',\n",
       "       '1,911', '1,909', '1,906', '1,931', '1,879', '2,099', '1,839',\n",
       "       '1,969', '1,846', '2,179', '1,891', '1,999', '1,924', '1,884',\n",
       "       '1,951', '1,949', '1,947', '1,823', '1,888', '2,599', '1,941',\n",
       "       '1,988', '1,918', '1,913', '1,901', '1,961', '1,979', '1,954',\n",
       "       '1,806', '1,875', '1,903', '1,735', '1,904', '1,907', '1,841',\n",
       "       '1,729', '1,779', '1,946', '1,890', '1,932', '2,009', '2,019',\n",
       "       '2,999', '1,894', '1,819', '1,809', '1,905', '1,936', '1,966',\n",
       "       '1,816', '1,955', '1,686', '1,930', '1,861', '1,828', '2,000',\n",
       "       '2,029', '1,857', '1,854', '1,926', '1,765', '1,895', '2,071',\n",
       "       '2,039', '2,169', '1,974', '1,971', '2,018', '1,978', '1,976',\n",
       "       '2,001', '1,844', '2,038', '1,972', '1,880', '1,868', '1,991',\n",
       "       '1,900', '2,026', '2,011', '1,950', '2,037', '1,881', '1,865',\n",
       "       '1,981', '2,109', '1,990', '1,799', '1,775', '1,914', '1,848',\n",
       "       '1,876', '1,915', '1,789', '1,886', '2,059', '1,858', '2,300',\n",
       "       '1,965', '1,987', '1,968', '1,985', '1,927', '1,769', '2,006',\n",
       "       '2,025', '1,792', '2,021', '1,829', '1,948', '1,934', '1,997',\n",
       "       '1,831', '1,802', '2,160', '1,874', '1,722', '1,956', '1,739',\n",
       "       '2,005', '1,917', '1,942', '2,055', '1,725', '1,784', '2,150',\n",
       "       '1,938', '1,928', '1,916', '1,712', '1,995', '1,822', '1,908',\n",
       "       '1,749', '1,998', '2,124', '2,088', '2,089', '1,996', '2,049',\n",
       "       '2,065', '1,993', '1,897', '2,139', '2,199', '1,878', '1,964',\n",
       "       '2,014', '1,814', '1,864', '1,776', '2,079', '1,935', '2,209',\n",
       "       '1,945', '1,898', '1,760', '1,910', '2,048', '1,445', '1,438',\n",
       "       '1,994', '2,149', '2,069', '1,871', '2,229', '1,825', '1,975',\n",
       "       '1,851', '1,958', '1,925', '2,031', '2,095', '1,937', '2,047',\n",
       "       '2,159', '2,098', '2,028', '2,017', '2,064', '2,024', '1,980',\n",
       "       '2,061', '1,834', '1,708', '1,842', '2,060', '1,986', '1,992',\n",
       "       '1,920', '2,129', '1,755', '2,013', '1,810', '1,933', '1,767',\n",
       "       '2,500', '1,815', '1,944', '1,845', '1,922', '1,923', '1,940',\n",
       "       '1,820', '1,870', '1,853', '1,835', '2,010', '2,299', '1,602',\n",
       "       '2,120', '2,200', '2,074', '2,032', '1,967', '1,759', '1,804',\n",
       "       '1,727', '1,902', '1,863', '1,862', '2,020', '1,730', '1,794',\n",
       "       '1,877', '1,838', '1,953', '1,970', '1,843', '1,952', '2,239',\n",
       "       '1,805', '1,788', '1,943', '1,757', '1,797', '1,706', '1,780',\n",
       "       '2,215', '1,977', '2,046', '1,574', '1,534', '1,570', '1,499',\n",
       "       '1,669', '1,539', '1,459', '1,469', '1,345', '1,649', '1,489',\n",
       "       '1,589', '1,450', '1,560', '1,594', '1,613', '1,629', '1,569',\n",
       "       '1,559', '1,584', '1,551', '1,549', '1,561', '1,572', '1,659',\n",
       "       '1,598', '1,632', '1,601', '1,599', '1,617', '1,409', '1,558',\n",
       "       '1,479', '1,576', '1,564', '1,635', '1,684', '1,663', '1,723',\n",
       "       '1,608', '1,609', '1,604', '1,579', '1,544', '1,529', '1,610',\n",
       "       '1,620', '1,580', '1,674', '1,689', '1,644', '1,567', '1,625',\n",
       "       '1,628', '1,626', '1,588', '1,597', '1,557', '1,595', '1,585',\n",
       "       '1,509', '1,532', '1,554', '1,648', '1,627', '1,837', '2,015',\n",
       "       '2,004', '2,008', '1,369', '1,704', '1,514', '1,420', '1,520',\n",
       "       '1,619', '1,494', '1,516', '1,464', '1,524', '1,700', '1,457',\n",
       "       '1,429', '1,455', '1,713', '1,683', '1,682', '1,550', '1,578',\n",
       "       '1,377', '1,497', '1,519', '1,485', '1,690', '1,365', '1,515',\n",
       "       '1,500', '1,699', '1,517', '1,650', '1,380', '1,505', '1,458',\n",
       "       '1,508', '1,498', '1,486', '1,541', '1,423', '1,593', '1,495',\n",
       "       '1,444', '1,424', '1,487', '1,538', '1,436', '1,639', '1,591',\n",
       "       '1,510', '1,528', '1,525', '1,546', '1,536', '1,475', '2,058',\n",
       "       '2,237', '1,719', '2,219', '1,873', '1,768', '2,450', '1,833',\n",
       "       '1,800', '1,867', '2,220', '1,807', '2,119', '1,813', '2,073',\n",
       "       '1,856', '1,740', '1,748', '2,279', '1,795', '2,250', '1,850'],\n",
       "      dtype=object)"
      ]
     },
     "execution_count": 96,
     "metadata": {},
     "output_type": "execute_result"
    }
   ],
   "source": [
    "g98_E5 = df_n['Precio Gasolina 98 E5'].unique()\n",
    "print(len(g98_E5))\n",
    "print(type(g98_E5))\n",
    "g98_E5"
   ]
  },
  {
   "cell_type": "code",
   "execution_count": null,
   "id": "4763d458",
   "metadata": {},
   "outputs": [],
   "source": [
    "# Convertimos columna categórica a numérica, primero tenemos que sustituir , por .\n",
    "df_n['Precio Gasolina 98 E5']=df_n['Precio Gasolina 98 E5'].str.replace(',','.')\n",
    "df_n[['Precio Gasolina 98 E5']]=df_n[['Precio Gasolina 98 E5']].apply(pd.to_numeric)"
   ]
  },
  {
   "cell_type": "code",
   "execution_count": null,
   "id": "767e87d9",
   "metadata": {},
   "outputs": [
    {
     "data": {
      "text/plain": [
       "count    5948.000000\n",
       "mean        1.902510\n",
       "std         0.115451\n",
       "min         1.345000\n",
       "25%         1.879000\n",
       "50%         1.919000\n",
       "75%         1.959000\n",
       "max         2.999000\n",
       "Name: Precio Gasolina 98 E5, dtype: float64"
      ]
     },
     "execution_count": 98,
     "metadata": {},
     "output_type": "execute_result"
    }
   ],
   "source": [
    "df_n['Precio Gasolina 98 E5'].describe()"
   ]
  },
  {
   "cell_type": "code",
   "execution_count": null,
   "id": "d9fb7e91",
   "metadata": {},
   "outputs": [
    {
     "data": {
      "text/plain": [
       "5836"
      ]
     },
     "execution_count": 99,
     "metadata": {},
     "output_type": "execute_result"
    }
   ],
   "source": [
    "# Registros sin venta Gasolina 98 E5 \n",
    "sin_suministro_g98E5 = df_n['Precio Gasolina 98 E5'].isnull().sum()\n",
    "sin_suministro_g98E5"
   ]
  },
  {
   "cell_type": "code",
   "execution_count": null,
   "id": "ad3ee76b",
   "metadata": {},
   "outputs": [
    {
     "data": {
      "text/plain": [
       "0"
      ]
     },
     "execution_count": 100,
     "metadata": {},
     "output_type": "execute_result"
    }
   ],
   "source": [
    "ceros_sin_suministro_g98E5  = (df_n['Precio Gasolina 98 E5'] == 0).sum()\n",
    "ceros_sin_suministro_g98E5 "
   ]
  },
  {
   "cell_type": "markdown",
   "id": "d8566cb1",
   "metadata": {},
   "source": [
    "# Precio Hidrogeno "
   ]
  },
  {
   "cell_type": "code",
   "execution_count": null,
   "id": "8092ec5a",
   "metadata": {},
   "outputs": [
    {
     "name": "stdout",
     "output_type": "stream",
     "text": [
      "1\n",
      "<class 'numpy.ndarray'>\n"
     ]
    },
    {
     "data": {
      "text/plain": [
       "array([''], dtype=object)"
      ]
     },
     "execution_count": 101,
     "metadata": {},
     "output_type": "execute_result"
    }
   ],
   "source": [
    "Hidrongeno = df_n['Precio Hidrogeno'].unique()\n",
    "print(len(Hidrongeno))\n",
    "print(type(Hidrongeno))\n",
    "Hidrongeno"
   ]
  },
  {
   "cell_type": "code",
   "execution_count": null,
   "id": "38acbbd6",
   "metadata": {},
   "outputs": [],
   "source": [
    "# Convertimos columna categórica a numérica, primero tenemos que sustituir , por .\n",
    "df_n['Precio Hidrogeno']=df_n['Precio Hidrogeno'].str.replace(',','.')\n",
    "df_n[['Precio Hidrogeno']]=df_n[['Precio Hidrogeno']].apply(pd.to_numeric)"
   ]
  },
  {
   "cell_type": "code",
   "execution_count": null,
   "id": "1b19941a",
   "metadata": {},
   "outputs": [
    {
     "data": {
      "text/plain": [
       "count    0.0\n",
       "mean     NaN\n",
       "std      NaN\n",
       "min      NaN\n",
       "25%      NaN\n",
       "50%      NaN\n",
       "75%      NaN\n",
       "max      NaN\n",
       "Name: Precio Hidrogeno, dtype: float64"
      ]
     },
     "execution_count": 103,
     "metadata": {},
     "output_type": "execute_result"
    }
   ],
   "source": [
    "df_n['Precio Hidrogeno'].describe()"
   ]
  },
  {
   "cell_type": "code",
   "execution_count": null,
   "id": "c6802106",
   "metadata": {},
   "outputs": [
    {
     "name": "stdout",
     "output_type": "stream",
     "text": [
      "<class 'pandas.core.frame.DataFrame'>\n",
      "RangeIndex: 11784 entries, 0 to 11783\n",
      "Data columns (total 33 columns):\n",
      " #   Column                              Non-Null Count  Dtype  \n",
      "---  ------                              --------------  -----  \n",
      " 0   Fecha                               11784 non-null  object \n",
      " 1   C.P.                                11784 non-null  object \n",
      " 2   Dirección                           11784 non-null  object \n",
      " 3   Horario                             11784 non-null  object \n",
      " 4   Latitud                             11784 non-null  object \n",
      " 5   Localidad                           11784 non-null  object \n",
      " 6   Longitud (WGS84)                    11784 non-null  object \n",
      " 7   Margen                              11784 non-null  object \n",
      " 8   Municipio                           11784 non-null  object \n",
      " 9   Precio Biodiesel                    37 non-null     float64\n",
      " 10  Precio Bioetanol                    5 non-null      float64\n",
      " 11  Precio Gas Natural Comprimido       122 non-null    float64\n",
      " 12  Precio Gas Natural Licuado          81 non-null     float64\n",
      " 13  Precio Gases licuados del petróleo  847 non-null    float64\n",
      " 14  Precio Gasoleo A                    11441 non-null  float64\n",
      " 15  Precio Gasoleo B                    3006 non-null   float64\n",
      " 16  Precio Gasoleo Premium              7516 non-null   float64\n",
      " 17  Precio Gasolina 95 E10              21 non-null     float64\n",
      " 18  Precio Gasolina 95 E5               10644 non-null  float64\n",
      " 19  Precio Gasolina 95 E5 Premium       795 non-null    float64\n",
      " 20  Precio Gasolina 98 E10              8 non-null      float64\n",
      " 21  Precio Gasolina 98 E5               5948 non-null   float64\n",
      " 22  Precio Hidrogeno                    0 non-null      float64\n",
      " 23  Provincia                           11784 non-null  object \n",
      " 24  Remisión                            11784 non-null  object \n",
      " 25  Rótulo                              11784 non-null  object \n",
      " 26  Tipo Venta                          11784 non-null  object \n",
      " 27  % BioEtanol                         11784 non-null  object \n",
      " 28  % Éster metílico                    11784 non-null  object \n",
      " 29  IDEESS                              11784 non-null  object \n",
      " 30  IDMunicipio                         11784 non-null  object \n",
      " 31  IDProvincia                         11784 non-null  object \n",
      " 32  IDCCAA                              11784 non-null  object \n",
      "dtypes: float64(14), object(19)\n",
      "memory usage: 3.0+ MB\n"
     ]
    }
   ],
   "source": [
    "df_n.info()"
   ]
  },
  {
   "cell_type": "markdown",
   "id": "0b486d1c",
   "metadata": {},
   "source": [
    "---\n",
    "Setp 3\n",
    "\n",
    "# Limpieza de Columnas"
   ]
  },
  {
   "cell_type": "code",
   "execution_count": null,
   "id": "58959813",
   "metadata": {},
   "outputs": [
    {
     "ename": "KeyError",
     "evalue": "\"['Margen', 'Remisión', 'Tipo Venta', '% BioEtanol', '% Éster metílico', 'Precio Biodiesel', 'Precio Bioetanol', 'Precio Gas Natural Comprimido', 'Precio Gas Natural Licuado', 'Precio Gas Natural Licuado', 'Precio Gases licuados del petróleo', 'Precio Gasolina 95 E10', 'Precio Gasolina 95 E5 Premium', 'Precio Gasolina 98 E10', 'Precio Hidrogeno'] not found in axis\"",
     "output_type": "error",
     "traceback": [
      "\u001b[1;31m---------------------------------------------------------------------------\u001b[0m",
      "\u001b[1;31mKeyError\u001b[0m                                  Traceback (most recent call last)",
      "Input \u001b[1;32mIn [133]\u001b[0m, in \u001b[0;36m<cell line: 2>\u001b[1;34m()\u001b[0m\n\u001b[0;32m      1\u001b[0m \u001b[38;5;66;03m# Eliminiación de columnas que no interesan a nivel usuario o que no aportan datos significativos al modelo\u001b[39;00m\n\u001b[1;32m----> 2\u001b[0m \u001b[43mdf_n\u001b[49m\u001b[38;5;241;43m.\u001b[39;49m\u001b[43mdrop\u001b[49m\u001b[43m(\u001b[49m\u001b[43m[\u001b[49m\u001b[38;5;124;43m'\u001b[39;49m\u001b[38;5;124;43mMargen\u001b[39;49m\u001b[38;5;124;43m'\u001b[39;49m\u001b[43m,\u001b[49m\u001b[43m \u001b[49m\u001b[38;5;124;43m'\u001b[39;49m\u001b[38;5;124;43mRemisión\u001b[39;49m\u001b[38;5;124;43m'\u001b[39;49m\u001b[43m,\u001b[49m\u001b[43m \u001b[49m\u001b[38;5;124;43m'\u001b[39;49m\u001b[38;5;124;43mTipo Venta\u001b[39;49m\u001b[38;5;124;43m'\u001b[39;49m\u001b[43m,\u001b[49m\u001b[43m \u001b[49m\u001b[38;5;124;43m'\u001b[39;49m\u001b[38;5;124;43m%\u001b[39;49m\u001b[38;5;124;43m BioEtanol\u001b[39;49m\u001b[38;5;124;43m'\u001b[39;49m\u001b[43m,\u001b[49m\u001b[43m \u001b[49m\u001b[38;5;124;43m'\u001b[39;49m\u001b[38;5;124;43m%\u001b[39;49m\u001b[38;5;124;43m Éster metílico\u001b[39;49m\u001b[38;5;124;43m'\u001b[39;49m\u001b[43m,\u001b[49m\u001b[43m \u001b[49m\u001b[38;5;124;43m'\u001b[39;49m\u001b[38;5;124;43mPrecio Biodiesel\u001b[39;49m\u001b[38;5;124;43m'\u001b[39;49m\u001b[43m,\u001b[49m\n\u001b[0;32m      3\u001b[0m \u001b[43m          \u001b[49m\u001b[38;5;124;43m'\u001b[39;49m\u001b[38;5;124;43mPrecio Bioetanol\u001b[39;49m\u001b[38;5;124;43m'\u001b[39;49m\u001b[43m,\u001b[49m\u001b[43m \u001b[49m\u001b[38;5;124;43m'\u001b[39;49m\u001b[38;5;124;43mPrecio Gas Natural Comprimido\u001b[39;49m\u001b[38;5;124;43m'\u001b[39;49m\u001b[43m,\u001b[49m\u001b[43m \u001b[49m\u001b[38;5;124;43m'\u001b[39;49m\u001b[38;5;124;43mPrecio Gas Natural Licuado\u001b[39;49m\u001b[38;5;124;43m'\u001b[39;49m\u001b[43m,\u001b[49m\u001b[43m \u001b[49m\n\u001b[0;32m      4\u001b[0m \u001b[43m          \u001b[49m\u001b[38;5;124;43m'\u001b[39;49m\u001b[38;5;124;43mPrecio Gas Natural Licuado\u001b[39;49m\u001b[38;5;124;43m'\u001b[39;49m\u001b[43m,\u001b[49m\u001b[43m \u001b[49m\u001b[38;5;124;43m'\u001b[39;49m\u001b[38;5;124;43mPrecio Gases licuados del petróleo\u001b[39;49m\u001b[38;5;124;43m'\u001b[39;49m\u001b[43m,\u001b[49m\u001b[43m \u001b[49m\u001b[38;5;124;43m'\u001b[39;49m\u001b[38;5;124;43mPrecio Gasolina 95 E10\u001b[39;49m\u001b[38;5;124;43m'\u001b[39;49m\u001b[43m,\u001b[49m\n\u001b[0;32m      5\u001b[0m \u001b[43m          \u001b[49m\u001b[38;5;124;43m'\u001b[39;49m\u001b[38;5;124;43mPrecio Gasolina 95 E5 Premium\u001b[39;49m\u001b[38;5;124;43m'\u001b[39;49m\u001b[43m,\u001b[49m\u001b[43m \u001b[49m\u001b[38;5;124;43m'\u001b[39;49m\u001b[38;5;124;43mPrecio Gasolina 98 E10\u001b[39;49m\u001b[38;5;124;43m'\u001b[39;49m\u001b[43m,\u001b[49m\u001b[43m \u001b[49m\u001b[38;5;124;43m'\u001b[39;49m\u001b[38;5;124;43mPrecio Hidrogeno\u001b[39;49m\u001b[38;5;124;43m'\u001b[39;49m\u001b[43m]\u001b[49m\u001b[43m,\u001b[49m\u001b[43m \u001b[49m\u001b[43maxis\u001b[49m\u001b[38;5;241;43m=\u001b[39;49m\u001b[38;5;241;43m1\u001b[39;49m\u001b[43m,\u001b[49m\u001b[43m \u001b[49m\u001b[43minplace\u001b[49m\u001b[38;5;241;43m=\u001b[39;49m\u001b[38;5;28;43;01mTrue\u001b[39;49;00m\u001b[43m)\u001b[49m\n",
      "File \u001b[1;32m~\\miniconda3\\envs\\Final_Project\\lib\\site-packages\\pandas\\util\\_decorators.py:311\u001b[0m, in \u001b[0;36mdeprecate_nonkeyword_arguments.<locals>.decorate.<locals>.wrapper\u001b[1;34m(*args, **kwargs)\u001b[0m\n\u001b[0;32m    305\u001b[0m \u001b[38;5;28;01mif\u001b[39;00m \u001b[38;5;28mlen\u001b[39m(args) \u001b[38;5;241m>\u001b[39m num_allow_args:\n\u001b[0;32m    306\u001b[0m     warnings\u001b[38;5;241m.\u001b[39mwarn(\n\u001b[0;32m    307\u001b[0m         msg\u001b[38;5;241m.\u001b[39mformat(arguments\u001b[38;5;241m=\u001b[39marguments),\n\u001b[0;32m    308\u001b[0m         \u001b[38;5;167;01mFutureWarning\u001b[39;00m,\n\u001b[0;32m    309\u001b[0m         stacklevel\u001b[38;5;241m=\u001b[39mstacklevel,\n\u001b[0;32m    310\u001b[0m     )\n\u001b[1;32m--> 311\u001b[0m \u001b[38;5;28;01mreturn\u001b[39;00m func(\u001b[38;5;241m*\u001b[39margs, \u001b[38;5;241m*\u001b[39m\u001b[38;5;241m*\u001b[39mkwargs)\n",
      "File \u001b[1;32m~\\miniconda3\\envs\\Final_Project\\lib\\site-packages\\pandas\\core\\frame.py:4957\u001b[0m, in \u001b[0;36mDataFrame.drop\u001b[1;34m(self, labels, axis, index, columns, level, inplace, errors)\u001b[0m\n\u001b[0;32m   4809\u001b[0m \u001b[38;5;129m@deprecate_nonkeyword_arguments\u001b[39m(version\u001b[38;5;241m=\u001b[39m\u001b[38;5;28;01mNone\u001b[39;00m, allowed_args\u001b[38;5;241m=\u001b[39m[\u001b[38;5;124m\"\u001b[39m\u001b[38;5;124mself\u001b[39m\u001b[38;5;124m\"\u001b[39m, \u001b[38;5;124m\"\u001b[39m\u001b[38;5;124mlabels\u001b[39m\u001b[38;5;124m\"\u001b[39m])\n\u001b[0;32m   4810\u001b[0m \u001b[38;5;28;01mdef\u001b[39;00m \u001b[38;5;21mdrop\u001b[39m(\n\u001b[0;32m   4811\u001b[0m     \u001b[38;5;28mself\u001b[39m,\n\u001b[1;32m   (...)\u001b[0m\n\u001b[0;32m   4818\u001b[0m     errors: \u001b[38;5;28mstr\u001b[39m \u001b[38;5;241m=\u001b[39m \u001b[38;5;124m\"\u001b[39m\u001b[38;5;124mraise\u001b[39m\u001b[38;5;124m\"\u001b[39m,\n\u001b[0;32m   4819\u001b[0m ):\n\u001b[0;32m   4820\u001b[0m     \u001b[38;5;124;03m\"\"\"\u001b[39;00m\n\u001b[0;32m   4821\u001b[0m \u001b[38;5;124;03m    Drop specified labels from rows or columns.\u001b[39;00m\n\u001b[0;32m   4822\u001b[0m \n\u001b[1;32m   (...)\u001b[0m\n\u001b[0;32m   4955\u001b[0m \u001b[38;5;124;03m            weight  1.0     0.8\u001b[39;00m\n\u001b[0;32m   4956\u001b[0m \u001b[38;5;124;03m    \"\"\"\u001b[39;00m\n\u001b[1;32m-> 4957\u001b[0m     \u001b[38;5;28;01mreturn\u001b[39;00m \u001b[38;5;28;43msuper\u001b[39;49m\u001b[43m(\u001b[49m\u001b[43m)\u001b[49m\u001b[38;5;241;43m.\u001b[39;49m\u001b[43mdrop\u001b[49m\u001b[43m(\u001b[49m\n\u001b[0;32m   4958\u001b[0m \u001b[43m        \u001b[49m\u001b[43mlabels\u001b[49m\u001b[38;5;241;43m=\u001b[39;49m\u001b[43mlabels\u001b[49m\u001b[43m,\u001b[49m\n\u001b[0;32m   4959\u001b[0m \u001b[43m        \u001b[49m\u001b[43maxis\u001b[49m\u001b[38;5;241;43m=\u001b[39;49m\u001b[43maxis\u001b[49m\u001b[43m,\u001b[49m\n\u001b[0;32m   4960\u001b[0m \u001b[43m        \u001b[49m\u001b[43mindex\u001b[49m\u001b[38;5;241;43m=\u001b[39;49m\u001b[43mindex\u001b[49m\u001b[43m,\u001b[49m\n\u001b[0;32m   4961\u001b[0m \u001b[43m        \u001b[49m\u001b[43mcolumns\u001b[49m\u001b[38;5;241;43m=\u001b[39;49m\u001b[43mcolumns\u001b[49m\u001b[43m,\u001b[49m\n\u001b[0;32m   4962\u001b[0m \u001b[43m        \u001b[49m\u001b[43mlevel\u001b[49m\u001b[38;5;241;43m=\u001b[39;49m\u001b[43mlevel\u001b[49m\u001b[43m,\u001b[49m\n\u001b[0;32m   4963\u001b[0m \u001b[43m        \u001b[49m\u001b[43minplace\u001b[49m\u001b[38;5;241;43m=\u001b[39;49m\u001b[43minplace\u001b[49m\u001b[43m,\u001b[49m\n\u001b[0;32m   4964\u001b[0m \u001b[43m        \u001b[49m\u001b[43merrors\u001b[49m\u001b[38;5;241;43m=\u001b[39;49m\u001b[43merrors\u001b[49m\u001b[43m,\u001b[49m\n\u001b[0;32m   4965\u001b[0m \u001b[43m    \u001b[49m\u001b[43m)\u001b[49m\n",
      "File \u001b[1;32m~\\miniconda3\\envs\\Final_Project\\lib\\site-packages\\pandas\\core\\generic.py:4267\u001b[0m, in \u001b[0;36mNDFrame.drop\u001b[1;34m(self, labels, axis, index, columns, level, inplace, errors)\u001b[0m\n\u001b[0;32m   4265\u001b[0m \u001b[38;5;28;01mfor\u001b[39;00m axis, labels \u001b[38;5;129;01min\u001b[39;00m axes\u001b[38;5;241m.\u001b[39mitems():\n\u001b[0;32m   4266\u001b[0m     \u001b[38;5;28;01mif\u001b[39;00m labels \u001b[38;5;129;01mis\u001b[39;00m \u001b[38;5;129;01mnot\u001b[39;00m \u001b[38;5;28;01mNone\u001b[39;00m:\n\u001b[1;32m-> 4267\u001b[0m         obj \u001b[38;5;241m=\u001b[39m \u001b[43mobj\u001b[49m\u001b[38;5;241;43m.\u001b[39;49m\u001b[43m_drop_axis\u001b[49m\u001b[43m(\u001b[49m\u001b[43mlabels\u001b[49m\u001b[43m,\u001b[49m\u001b[43m \u001b[49m\u001b[43maxis\u001b[49m\u001b[43m,\u001b[49m\u001b[43m \u001b[49m\u001b[43mlevel\u001b[49m\u001b[38;5;241;43m=\u001b[39;49m\u001b[43mlevel\u001b[49m\u001b[43m,\u001b[49m\u001b[43m \u001b[49m\u001b[43merrors\u001b[49m\u001b[38;5;241;43m=\u001b[39;49m\u001b[43merrors\u001b[49m\u001b[43m)\u001b[49m\n\u001b[0;32m   4269\u001b[0m \u001b[38;5;28;01mif\u001b[39;00m inplace:\n\u001b[0;32m   4270\u001b[0m     \u001b[38;5;28mself\u001b[39m\u001b[38;5;241m.\u001b[39m_update_inplace(obj)\n",
      "File \u001b[1;32m~\\miniconda3\\envs\\Final_Project\\lib\\site-packages\\pandas\\core\\generic.py:4311\u001b[0m, in \u001b[0;36mNDFrame._drop_axis\u001b[1;34m(self, labels, axis, level, errors, consolidate, only_slice)\u001b[0m\n\u001b[0;32m   4309\u001b[0m         new_axis \u001b[38;5;241m=\u001b[39m axis\u001b[38;5;241m.\u001b[39mdrop(labels, level\u001b[38;5;241m=\u001b[39mlevel, errors\u001b[38;5;241m=\u001b[39merrors)\n\u001b[0;32m   4310\u001b[0m     \u001b[38;5;28;01melse\u001b[39;00m:\n\u001b[1;32m-> 4311\u001b[0m         new_axis \u001b[38;5;241m=\u001b[39m \u001b[43maxis\u001b[49m\u001b[38;5;241;43m.\u001b[39;49m\u001b[43mdrop\u001b[49m\u001b[43m(\u001b[49m\u001b[43mlabels\u001b[49m\u001b[43m,\u001b[49m\u001b[43m \u001b[49m\u001b[43merrors\u001b[49m\u001b[38;5;241;43m=\u001b[39;49m\u001b[43merrors\u001b[49m\u001b[43m)\u001b[49m\n\u001b[0;32m   4312\u001b[0m     indexer \u001b[38;5;241m=\u001b[39m axis\u001b[38;5;241m.\u001b[39mget_indexer(new_axis)\n\u001b[0;32m   4314\u001b[0m \u001b[38;5;66;03m# Case for non-unique axis\u001b[39;00m\n\u001b[0;32m   4315\u001b[0m \u001b[38;5;28;01melse\u001b[39;00m:\n",
      "File \u001b[1;32m~\\miniconda3\\envs\\Final_Project\\lib\\site-packages\\pandas\\core\\indexes\\base.py:6661\u001b[0m, in \u001b[0;36mIndex.drop\u001b[1;34m(self, labels, errors)\u001b[0m\n\u001b[0;32m   6659\u001b[0m \u001b[38;5;28;01mif\u001b[39;00m mask\u001b[38;5;241m.\u001b[39many():\n\u001b[0;32m   6660\u001b[0m     \u001b[38;5;28;01mif\u001b[39;00m errors \u001b[38;5;241m!=\u001b[39m \u001b[38;5;124m\"\u001b[39m\u001b[38;5;124mignore\u001b[39m\u001b[38;5;124m\"\u001b[39m:\n\u001b[1;32m-> 6661\u001b[0m         \u001b[38;5;28;01mraise\u001b[39;00m \u001b[38;5;167;01mKeyError\u001b[39;00m(\u001b[38;5;124mf\u001b[39m\u001b[38;5;124m\"\u001b[39m\u001b[38;5;132;01m{\u001b[39;00m\u001b[38;5;28mlist\u001b[39m(labels[mask])\u001b[38;5;132;01m}\u001b[39;00m\u001b[38;5;124m not found in axis\u001b[39m\u001b[38;5;124m\"\u001b[39m)\n\u001b[0;32m   6662\u001b[0m     indexer \u001b[38;5;241m=\u001b[39m indexer[\u001b[38;5;241m~\u001b[39mmask]\n\u001b[0;32m   6663\u001b[0m \u001b[38;5;28;01mreturn\u001b[39;00m \u001b[38;5;28mself\u001b[39m\u001b[38;5;241m.\u001b[39mdelete(indexer)\n",
      "\u001b[1;31mKeyError\u001b[0m: \"['Margen', 'Remisión', 'Tipo Venta', '% BioEtanol', '% Éster metílico', 'Precio Biodiesel', 'Precio Bioetanol', 'Precio Gas Natural Comprimido', 'Precio Gas Natural Licuado', 'Precio Gas Natural Licuado', 'Precio Gases licuados del petróleo', 'Precio Gasolina 95 E10', 'Precio Gasolina 95 E5 Premium', 'Precio Gasolina 98 E10', 'Precio Hidrogeno'] not found in axis\""
     ]
    }
   ],
   "source": [
    "# Eliminiación de columnas que no interesan a nivel usuario o que no aportan datos significativos al modelo\n",
    "df_n.drop(['Margen', 'Remisión', 'Tipo Venta', '% BioEtanol', '% Éster metílico', 'Precio Biodiesel',\n",
    "          'Precio Bioetanol', 'Precio Gas Natural Comprimido', 'Precio Gas Natural Licuado', \n",
    "          'Precio Gas Natural Licuado', 'Precio Gases licuados del petróleo', 'Precio Gasolina 95 E10',\n",
    "          'Precio Gasolina 95 E5 Premium', 'Precio Gasolina 98 E10', 'Precio Hidrogeno'], axis=1, inplace=True)"
   ]
  },
  {
   "cell_type": "code",
   "execution_count": null,
   "id": "1f4e6f15",
   "metadata": {},
   "outputs": [
    {
     "data": {
      "text/plain": [
       "Precio Gasoleo B    NaN\n",
       "Name: 15, dtype: object"
      ]
     },
     "execution_count": 134,
     "metadata": {},
     "output_type": "execute_result"
    }
   ],
   "source": [
    "# Comprobación\n",
    "df_n.iloc[15][['Precio Gasoleo B']]"
   ]
  },
  {
   "cell_type": "code",
   "execution_count": null,
   "id": "a9fe557e",
   "metadata": {},
   "outputs": [
    {
     "data": {
      "text/html": [
       "<div>\n",
       "<style scoped>\n",
       "    .dataframe tbody tr th:only-of-type {\n",
       "        vertical-align: middle;\n",
       "    }\n",
       "\n",
       "    .dataframe tbody tr th {\n",
       "        vertical-align: top;\n",
       "    }\n",
       "\n",
       "    .dataframe thead th {\n",
       "        text-align: right;\n",
       "    }\n",
       "</style>\n",
       "<table border=\"1\" class=\"dataframe\">\n",
       "  <thead>\n",
       "    <tr style=\"text-align: right;\">\n",
       "      <th></th>\n",
       "      <th>Fecha</th>\n",
       "      <th>C.P.</th>\n",
       "      <th>Dirección</th>\n",
       "      <th>Horario</th>\n",
       "      <th>Latitud</th>\n",
       "      <th>Localidad</th>\n",
       "      <th>Longitud (WGS84)</th>\n",
       "      <th>Municipio</th>\n",
       "      <th>Gasoleo A</th>\n",
       "      <th>Precio Gasoleo B</th>\n",
       "      <th>Gasoleo Premium</th>\n",
       "      <th>Gasolina 95 E5</th>\n",
       "      <th>Gasolina 98 E5</th>\n",
       "      <th>Provincia</th>\n",
       "      <th>Estación de Servicio</th>\n",
       "      <th>IDEESS</th>\n",
       "      <th>IDMunicipio</th>\n",
       "      <th>IDProvincia</th>\n",
       "      <th>IDCCAA</th>\n",
       "    </tr>\n",
       "  </thead>\n",
       "  <tbody>\n",
       "    <tr>\n",
       "      <th>0</th>\n",
       "      <td>26/10/2022 14:48:09</td>\n",
       "      <td>02250</td>\n",
       "      <td>AVENIDA CASTILLA LA MANCHA, 26</td>\n",
       "      <td>L-D: 07:00-22:00</td>\n",
       "      <td>39,211417</td>\n",
       "      <td>ABENGIBRE</td>\n",
       "      <td>-1,539167</td>\n",
       "      <td>Abengibre</td>\n",
       "      <td>1.939</td>\n",
       "      <td>1.44</td>\n",
       "      <td>NaN</td>\n",
       "      <td>1.739</td>\n",
       "      <td>NaN</td>\n",
       "      <td>ALBACETE</td>\n",
       "      <td>Nº 10.935</td>\n",
       "      <td>4375</td>\n",
       "      <td>52</td>\n",
       "      <td>02</td>\n",
       "      <td>07</td>\n",
       "    </tr>\n",
       "    <tr>\n",
       "      <th>1</th>\n",
       "      <td>26/10/2022 14:48:09</td>\n",
       "      <td>02001</td>\n",
       "      <td>CALLE FEDERICO GARCIA LORCA, 5</td>\n",
       "      <td>L-S: 05:00-23:00</td>\n",
       "      <td>38,997722</td>\n",
       "      <td>ALBACETE</td>\n",
       "      <td>-1,846361</td>\n",
       "      <td>Albacete</td>\n",
       "      <td>2.040</td>\n",
       "      <td>NaN</td>\n",
       "      <td>NaN</td>\n",
       "      <td>NaN</td>\n",
       "      <td>NaN</td>\n",
       "      <td>ALBACETE</td>\n",
       "      <td>CEPSA</td>\n",
       "      <td>4438</td>\n",
       "      <td>54</td>\n",
       "      <td>02</td>\n",
       "      <td>07</td>\n",
       "    </tr>\n",
       "    <tr>\n",
       "      <th>2</th>\n",
       "      <td>26/10/2022 14:48:09</td>\n",
       "      <td>02001</td>\n",
       "      <td>AVENIDA 1º DE MAYO, S/N</td>\n",
       "      <td>L-S: 08:00-22:00; D: 09:00-21:00</td>\n",
       "      <td>38,985667</td>\n",
       "      <td>ALBACETE</td>\n",
       "      <td>-1,868500</td>\n",
       "      <td>Albacete</td>\n",
       "      <td>1.999</td>\n",
       "      <td>NaN</td>\n",
       "      <td>2.039</td>\n",
       "      <td>1.789</td>\n",
       "      <td>1.919</td>\n",
       "      <td>ALBACETE</td>\n",
       "      <td>CARREFOUR</td>\n",
       "      <td>10765</td>\n",
       "      <td>54</td>\n",
       "      <td>02</td>\n",
       "      <td>07</td>\n",
       "    </tr>\n",
       "    <tr>\n",
       "      <th>3</th>\n",
       "      <td>26/10/2022 14:48:09</td>\n",
       "      <td>02001</td>\n",
       "      <td>CALLE FEDERICO GARCIA LORCA, 1</td>\n",
       "      <td>L-D: 24H</td>\n",
       "      <td>39,000861</td>\n",
       "      <td>ALBACETE</td>\n",
       "      <td>-1,849833</td>\n",
       "      <td>Albacete</td>\n",
       "      <td>1.877</td>\n",
       "      <td>NaN</td>\n",
       "      <td>NaN</td>\n",
       "      <td>1.657</td>\n",
       "      <td>NaN</td>\n",
       "      <td>ALBACETE</td>\n",
       "      <td>PLENOIL</td>\n",
       "      <td>13933</td>\n",
       "      <td>54</td>\n",
       "      <td>02</td>\n",
       "      <td>07</td>\n",
       "    </tr>\n",
       "    <tr>\n",
       "      <th>4</th>\n",
       "      <td>26/10/2022 14:48:09</td>\n",
       "      <td>02001</td>\n",
       "      <td>CALLE PRINCIPE DE ASTURIAS (POLÍGONO DE ROMICA...</td>\n",
       "      <td>L-D: 06:00-21:30</td>\n",
       "      <td>39,054694</td>\n",
       "      <td>ALBACETE</td>\n",
       "      <td>-1,832000</td>\n",
       "      <td>Albacete</td>\n",
       "      <td>2.029</td>\n",
       "      <td>NaN</td>\n",
       "      <td>2.119</td>\n",
       "      <td>1.779</td>\n",
       "      <td>1.921</td>\n",
       "      <td>ALBACETE</td>\n",
       "      <td>BP ROMICA</td>\n",
       "      <td>12054</td>\n",
       "      <td>54</td>\n",
       "      <td>02</td>\n",
       "      <td>07</td>\n",
       "    </tr>\n",
       "  </tbody>\n",
       "</table>\n",
       "</div>"
      ],
      "text/plain": [
       "                 Fecha   C.P.  \\\n",
       "0  26/10/2022 14:48:09  02250   \n",
       "1  26/10/2022 14:48:09  02001   \n",
       "2  26/10/2022 14:48:09  02001   \n",
       "3  26/10/2022 14:48:09  02001   \n",
       "4  26/10/2022 14:48:09  02001   \n",
       "\n",
       "                                           Dirección  \\\n",
       "0                     AVENIDA CASTILLA LA MANCHA, 26   \n",
       "1                     CALLE FEDERICO GARCIA LORCA, 5   \n",
       "2                            AVENIDA 1º DE MAYO, S/N   \n",
       "3                     CALLE FEDERICO GARCIA LORCA, 1   \n",
       "4  CALLE PRINCIPE DE ASTURIAS (POLÍGONO DE ROMICA...   \n",
       "\n",
       "                            Horario    Latitud  Localidad Longitud (WGS84)  \\\n",
       "0                  L-D: 07:00-22:00  39,211417  ABENGIBRE        -1,539167   \n",
       "1                  L-S: 05:00-23:00  38,997722   ALBACETE        -1,846361   \n",
       "2  L-S: 08:00-22:00; D: 09:00-21:00  38,985667   ALBACETE        -1,868500   \n",
       "3                          L-D: 24H  39,000861   ALBACETE        -1,849833   \n",
       "4                  L-D: 06:00-21:30  39,054694   ALBACETE        -1,832000   \n",
       "\n",
       "   Municipio  Gasoleo A  Precio Gasoleo B  Gasoleo Premium  Gasolina 95 E5  \\\n",
       "0  Abengibre      1.939              1.44              NaN           1.739   \n",
       "1   Albacete      2.040               NaN              NaN             NaN   \n",
       "2   Albacete      1.999               NaN            2.039           1.789   \n",
       "3   Albacete      1.877               NaN              NaN           1.657   \n",
       "4   Albacete      2.029               NaN            2.119           1.779   \n",
       "\n",
       "   Gasolina 98 E5 Provincia Estación de Servicio IDEESS IDMunicipio  \\\n",
       "0             NaN  ALBACETE            Nº 10.935   4375          52   \n",
       "1             NaN  ALBACETE                CEPSA   4438          54   \n",
       "2           1.919  ALBACETE            CARREFOUR  10765          54   \n",
       "3             NaN  ALBACETE              PLENOIL  13933          54   \n",
       "4           1.921  ALBACETE            BP ROMICA  12054          54   \n",
       "\n",
       "  IDProvincia IDCCAA  \n",
       "0          02     07  \n",
       "1          02     07  \n",
       "2          02     07  \n",
       "3          02     07  \n",
       "4          02     07  "
      ]
     },
     "execution_count": 135,
     "metadata": {},
     "output_type": "execute_result"
    }
   ],
   "source": [
    "df_n.head()"
   ]
  },
  {
   "cell_type": "code",
   "execution_count": null,
   "id": "d7336670",
   "metadata": {},
   "outputs": [
    {
     "data": {
      "text/html": [
       "<div>\n",
       "<style scoped>\n",
       "    .dataframe tbody tr th:only-of-type {\n",
       "        vertical-align: middle;\n",
       "    }\n",
       "\n",
       "    .dataframe tbody tr th {\n",
       "        vertical-align: top;\n",
       "    }\n",
       "\n",
       "    .dataframe thead th {\n",
       "        text-align: right;\n",
       "    }\n",
       "</style>\n",
       "<table border=\"1\" class=\"dataframe\">\n",
       "  <thead>\n",
       "    <tr style=\"text-align: right;\">\n",
       "      <th></th>\n",
       "      <th>Fecha</th>\n",
       "      <th>C.P.</th>\n",
       "      <th>Dirección</th>\n",
       "      <th>Horario</th>\n",
       "      <th>Latitud</th>\n",
       "      <th>Localidad</th>\n",
       "      <th>Longitud (WGS84)</th>\n",
       "      <th>Municipio</th>\n",
       "      <th>Gasoleo A</th>\n",
       "      <th>Gasoleo B</th>\n",
       "      <th>Gasoleo Premium</th>\n",
       "      <th>Gasolina 95 E5</th>\n",
       "      <th>Gasolina 98 E5</th>\n",
       "      <th>Provincia</th>\n",
       "      <th>Estación de Servicio</th>\n",
       "      <th>IDEESS</th>\n",
       "      <th>IDMunicipio</th>\n",
       "      <th>IDProvincia</th>\n",
       "      <th>IDCCAA</th>\n",
       "      <th>Media_Gasoleo A</th>\n",
       "    </tr>\n",
       "  </thead>\n",
       "  <tbody>\n",
       "    <tr>\n",
       "      <th>0</th>\n",
       "      <td>26/10/2022 14:48:09</td>\n",
       "      <td>02250</td>\n",
       "      <td>AVENIDA CASTILLA LA MANCHA, 26</td>\n",
       "      <td>L-D: 07:00-22:00</td>\n",
       "      <td>39,211417</td>\n",
       "      <td>ABENGIBRE</td>\n",
       "      <td>-1,539167</td>\n",
       "      <td>Abengibre</td>\n",
       "      <td>1.939</td>\n",
       "      <td>1.44</td>\n",
       "      <td>NaN</td>\n",
       "      <td>1.739</td>\n",
       "      <td>NaN</td>\n",
       "      <td>ALBACETE</td>\n",
       "      <td>Nº 10.935</td>\n",
       "      <td>4375</td>\n",
       "      <td>52</td>\n",
       "      <td>02</td>\n",
       "      <td>07</td>\n",
       "      <td>1.956213</td>\n",
       "    </tr>\n",
       "  </tbody>\n",
       "</table>\n",
       "</div>"
      ],
      "text/plain": [
       "                 Fecha   C.P.                       Dirección  \\\n",
       "0  26/10/2022 14:48:09  02250  AVENIDA CASTILLA LA MANCHA, 26   \n",
       "\n",
       "            Horario    Latitud  Localidad Longitud (WGS84)  Municipio  \\\n",
       "0  L-D: 07:00-22:00  39,211417  ABENGIBRE        -1,539167  Abengibre   \n",
       "\n",
       "   Gasoleo A  Gasoleo B  Gasoleo Premium  Gasolina 95 E5  Gasolina 98 E5  \\\n",
       "0      1.939       1.44              NaN           1.739             NaN   \n",
       "\n",
       "  Provincia Estación de Servicio IDEESS IDMunicipio IDProvincia IDCCAA  \\\n",
       "0  ALBACETE            Nº 10.935   4375          52          02     07   \n",
       "\n",
       "   Media_Gasoleo A  \n",
       "0         1.956213  "
      ]
     },
     "execution_count": 146,
     "metadata": {},
     "output_type": "execute_result"
    }
   ],
   "source": [
    "# Renombramos las columnas\n",
    "df_n.rename(columns={\"Precio Gasoleo A\": \"Gasoleo A\", \"Precio Gasoleo B\": \"Gasoleo B\" ,\"Precio Gasoleo Premium\": \"Gasoleo Premium\", \n",
    "                     \"Precio Gasolina 95 E5\": \"Gasolina 95 E5\", \"Precio Gasolina 98 E5\": \"Gasolina 98 E5\",\n",
    "                     \"Rótulo\":\"Estación de Servicio\"}, inplace=True)\n",
    "df_n.head(1)"
   ]
  },
  {
   "cell_type": "code",
   "execution_count": null,
   "id": "59c21279",
   "metadata": {},
   "outputs": [
    {
     "name": "stdout",
     "output_type": "stream",
     "text": [
      "<class 'pandas.core.frame.DataFrame'>\n",
      "RangeIndex: 11784 entries, 0 to 11783\n",
      "Data columns (total 20 columns):\n",
      " #   Column                Non-Null Count  Dtype  \n",
      "---  ------                --------------  -----  \n",
      " 0   Fecha                 11784 non-null  object \n",
      " 1   C.P.                  11784 non-null  object \n",
      " 2   Dirección             11784 non-null  object \n",
      " 3   Horario               11784 non-null  object \n",
      " 4   Latitud               11784 non-null  object \n",
      " 5   Localidad             11784 non-null  object \n",
      " 6   Longitud (WGS84)      11784 non-null  object \n",
      " 7   Municipio             11784 non-null  object \n",
      " 8   Gasoleo A             11441 non-null  float64\n",
      " 9   Gasoleo B             3006 non-null   float64\n",
      " 10  Gasoleo Premium       7516 non-null   float64\n",
      " 11  Gasolina 95 E5        10644 non-null  float64\n",
      " 12  Gasolina 98 E5        5948 non-null   float64\n",
      " 13  Provincia             11784 non-null  object \n",
      " 14  Estación de Servicio  11784 non-null  object \n",
      " 15  IDEESS                11784 non-null  object \n",
      " 16  IDMunicipio           11784 non-null  object \n",
      " 17  IDProvincia           11784 non-null  object \n",
      " 18  IDCCAA                11784 non-null  object \n",
      " 19  Media_Gasoleo A       11784 non-null  float64\n",
      "dtypes: float64(6), object(14)\n",
      "memory usage: 1.8+ MB\n"
     ]
    }
   ],
   "source": [
    "df_n.info()"
   ]
  },
  {
   "cell_type": "code",
   "execution_count": null,
   "id": "94b9284d",
   "metadata": {},
   "outputs": [],
   "source": [
    "# Media"
   ]
  },
  {
   "cell_type": "code",
   "execution_count": null,
   "id": "365e7b0f",
   "metadata": {},
   "outputs": [],
   "source": [
    "# Media\n",
    "df_n['Media_Gasoleo A']=df_n['Gasoleo A'].mean()\n",
    "df_n['Media_Gasoleo B']=df_n['Gasoleo B'].mean()\n",
    "df_n['Media_Gasoleo Gasolina 95']=df_n['Gasolina 95 E5'].mean()\n",
    "df_n['Media_Gasolina 98']=df_n['Gasolina 98 E5'].mean()\n"
   ]
  },
  {
   "cell_type": "code",
   "execution_count": null,
   "id": "92b44a14",
   "metadata": {},
   "outputs": [],
   "source": [
    "# Desviación estándar\n",
    "df_n['STD_Gasoleo A']=df_n['Gasoleo A'].std()\n",
    "df_n['STD_Gasoleo B']=df_n['Gasoleo B'].std()\n",
    "df_n['STD_Gasoleo Gasolina 95']=df_n['Gasolina 95 E5'].std()\n",
    "df_n['STD_Gasolina 98']=df_n['Gasolina 98 E5'].std()\n"
   ]
  },
  {
   "cell_type": "code",
   "execution_count": null,
   "id": "52c69724",
   "metadata": {},
   "outputs": [
    {
     "data": {
      "text/html": [
       "<div>\n",
       "<style scoped>\n",
       "    .dataframe tbody tr th:only-of-type {\n",
       "        vertical-align: middle;\n",
       "    }\n",
       "\n",
       "    .dataframe tbody tr th {\n",
       "        vertical-align: top;\n",
       "    }\n",
       "\n",
       "    .dataframe thead th {\n",
       "        text-align: right;\n",
       "    }\n",
       "</style>\n",
       "<table border=\"1\" class=\"dataframe\">\n",
       "  <thead>\n",
       "    <tr style=\"text-align: right;\">\n",
       "      <th></th>\n",
       "      <th>Fecha</th>\n",
       "      <th>C.P.</th>\n",
       "      <th>Dirección</th>\n",
       "      <th>Horario</th>\n",
       "      <th>Latitud</th>\n",
       "      <th>Localidad</th>\n",
       "      <th>Longitud (WGS84)</th>\n",
       "      <th>Municipio</th>\n",
       "      <th>Gasoleo A</th>\n",
       "      <th>Gasoleo B</th>\n",
       "      <th>...</th>\n",
       "      <th>IDProvincia</th>\n",
       "      <th>IDCCAA</th>\n",
       "      <th>Media_Gasoleo A</th>\n",
       "      <th>Media_Gasoleo B</th>\n",
       "      <th>Media_Gasoleo Gasolina 95</th>\n",
       "      <th>Media_Gasolina 98</th>\n",
       "      <th>STD_Gasoleo A</th>\n",
       "      <th>STD_Gasoleo B</th>\n",
       "      <th>STD_Gasoleo Gasolina 95</th>\n",
       "      <th>STD_Gasolina 98</th>\n",
       "    </tr>\n",
       "  </thead>\n",
       "  <tbody>\n",
       "    <tr>\n",
       "      <th>0</th>\n",
       "      <td>26/10/2022 14:48:09</td>\n",
       "      <td>02250</td>\n",
       "      <td>AVENIDA CASTILLA LA MANCHA, 26</td>\n",
       "      <td>L-D: 07:00-22:00</td>\n",
       "      <td>39,211417</td>\n",
       "      <td>ABENGIBRE</td>\n",
       "      <td>-1,539167</td>\n",
       "      <td>Abengibre</td>\n",
       "      <td>1.939</td>\n",
       "      <td>1.44</td>\n",
       "      <td>...</td>\n",
       "      <td>02</td>\n",
       "      <td>07</td>\n",
       "      <td>0.115925</td>\n",
       "      <td>0.103675</td>\n",
       "      <td>0.095796</td>\n",
       "      <td>0.115451</td>\n",
       "      <td>0.115925</td>\n",
       "      <td>0.103675</td>\n",
       "      <td>0.095796</td>\n",
       "      <td>0.115451</td>\n",
       "    </tr>\n",
       "  </tbody>\n",
       "</table>\n",
       "<p>1 rows × 27 columns</p>\n",
       "</div>"
      ],
      "text/plain": [
       "                 Fecha   C.P.                       Dirección  \\\n",
       "0  26/10/2022 14:48:09  02250  AVENIDA CASTILLA LA MANCHA, 26   \n",
       "\n",
       "            Horario    Latitud  Localidad Longitud (WGS84)  Municipio  \\\n",
       "0  L-D: 07:00-22:00  39,211417  ABENGIBRE        -1,539167  Abengibre   \n",
       "\n",
       "   Gasoleo A  Gasoleo B  ...  IDProvincia  IDCCAA  Media_Gasoleo A  \\\n",
       "0      1.939       1.44  ...           02      07         0.115925   \n",
       "\n",
       "  Media_Gasoleo B Media_Gasoleo Gasolina 95 Media_Gasolina 98 STD_Gasoleo A  \\\n",
       "0        0.103675                  0.095796          0.115451      0.115925   \n",
       "\n",
       "  STD_Gasoleo B STD_Gasoleo Gasolina 95  STD_Gasolina 98  \n",
       "0      0.103675                0.095796         0.115451  \n",
       "\n",
       "[1 rows x 27 columns]"
      ]
     },
     "execution_count": 153,
     "metadata": {},
     "output_type": "execute_result"
    }
   ],
   "source": [
    "df_n.head(1)"
   ]
  },
  {
   "cell_type": "code",
   "execution_count": null,
   "id": "91eba675",
   "metadata": {},
   "outputs": [],
   "source": []
  },
  {
   "cell_type": "code",
   "execution_count": null,
   "id": "f584c0aa",
   "metadata": {},
   "outputs": [],
   "source": []
  },
  {
   "cell_type": "markdown",
   "id": "9ece3cb6",
   "metadata": {},
   "source": [
    "---\n",
    "Step4\n",
    "\n",
    "\n",
    "# Funciones "
   ]
  },
  {
   "cell_type": "code",
   "execution_count": null,
   "id": "76cc76f7",
   "metadata": {},
   "outputs": [],
   "source": [
    "# Precio mínimo por Provincia seleccionada\n",
    "def provincia_minimo():\n",
    "    mun=input('Introduzca Provincia: ')\n",
    "    Y=input('Seleccione tipo de Carburante')\n",
    "    cp_x = df_n[df_n[\"Provincia\"] == mun]\n",
    "    minimo = pd.DataFrame(cp_x.loc[cp_x[[Y]].idxmin()])\n",
    "    return minimo"
   ]
  },
  {
   "cell_type": "code",
   "execution_count": null,
   "id": "81948def",
   "metadata": {},
   "outputs": [],
   "source": []
  },
  {
   "cell_type": "markdown",
   "id": "63eb97a3",
   "metadata": {},
   "source": [
    "provincia_minimo()"
   ]
  },
  {
   "cell_type": "code",
   "execution_count": null,
   "id": "94daf5b4",
   "metadata": {},
   "outputs": [],
   "source": [
    "# Precio mínimo por Municipio\n",
    "def municipio_minimo():\n",
    "    mun=input('Introduzca Municipio: ')\n",
    "    Y=input('Seleccione tipo de Carburante')\n",
    "    cp_x = df_n[df_n[\"Municipio\"] == mun]\n",
    "    minimo = pd.DataFrame(cp_x.loc[cp_x[[Y]].idxmin()])\n",
    "    return minimo\n",
    "    "
   ]
  },
  {
   "cell_type": "code",
   "execution_count": null,
   "id": "870d8abe",
   "metadata": {},
   "outputs": [
    {
     "name": "stdout",
     "output_type": "stream",
     "text": [
      "Introduzca Municipio: \n",
      "Seleccione tipo de Carburante\n"
     ]
    },
    {
     "ename": "KeyError",
     "evalue": "\"None of [Index([''], dtype='object')] are in the [columns]\"",
     "output_type": "error",
     "traceback": [
      "\u001b[1;31m---------------------------------------------------------------------------\u001b[0m",
      "\u001b[1;31mKeyError\u001b[0m                                  Traceback (most recent call last)",
      "Input \u001b[1;32mIn [115]\u001b[0m, in \u001b[0;36m<cell line: 1>\u001b[1;34m()\u001b[0m\n\u001b[1;32m----> 1\u001b[0m \u001b[43mmunicipio_minimo\u001b[49m\u001b[43m(\u001b[49m\u001b[43m)\u001b[49m\n",
      "Input \u001b[1;32mIn [113]\u001b[0m, in \u001b[0;36mmunicipio_minimo\u001b[1;34m()\u001b[0m\n\u001b[0;32m      4\u001b[0m Y\u001b[38;5;241m=\u001b[39m\u001b[38;5;28minput\u001b[39m(\u001b[38;5;124m'\u001b[39m\u001b[38;5;124mSeleccione tipo de Carburante\u001b[39m\u001b[38;5;124m'\u001b[39m)\n\u001b[0;32m      5\u001b[0m cp_x \u001b[38;5;241m=\u001b[39m df_n[df_n[\u001b[38;5;124m\"\u001b[39m\u001b[38;5;124mMunicipio\u001b[39m\u001b[38;5;124m\"\u001b[39m] \u001b[38;5;241m==\u001b[39m mun]\n\u001b[1;32m----> 6\u001b[0m minimo \u001b[38;5;241m=\u001b[39m pd\u001b[38;5;241m.\u001b[39mDataFrame(cp_x\u001b[38;5;241m.\u001b[39mloc[\u001b[43mcp_x\u001b[49m\u001b[43m[\u001b[49m\u001b[43m[\u001b[49m\u001b[43mY\u001b[49m\u001b[43m]\u001b[49m\u001b[43m]\u001b[49m\u001b[38;5;241m.\u001b[39midxmin()])\n\u001b[0;32m      7\u001b[0m \u001b[38;5;28;01mreturn\u001b[39;00m minimo\n",
      "File \u001b[1;32m~\\miniconda3\\envs\\Final_Project\\lib\\site-packages\\pandas\\core\\frame.py:3511\u001b[0m, in \u001b[0;36mDataFrame.__getitem__\u001b[1;34m(self, key)\u001b[0m\n\u001b[0;32m   3509\u001b[0m     \u001b[38;5;28;01mif\u001b[39;00m is_iterator(key):\n\u001b[0;32m   3510\u001b[0m         key \u001b[38;5;241m=\u001b[39m \u001b[38;5;28mlist\u001b[39m(key)\n\u001b[1;32m-> 3511\u001b[0m     indexer \u001b[38;5;241m=\u001b[39m \u001b[38;5;28;43mself\u001b[39;49m\u001b[38;5;241;43m.\u001b[39;49m\u001b[43mcolumns\u001b[49m\u001b[38;5;241;43m.\u001b[39;49m\u001b[43m_get_indexer_strict\u001b[49m\u001b[43m(\u001b[49m\u001b[43mkey\u001b[49m\u001b[43m,\u001b[49m\u001b[43m \u001b[49m\u001b[38;5;124;43m\"\u001b[39;49m\u001b[38;5;124;43mcolumns\u001b[39;49m\u001b[38;5;124;43m\"\u001b[39;49m\u001b[43m)\u001b[49m[\u001b[38;5;241m1\u001b[39m]\n\u001b[0;32m   3513\u001b[0m \u001b[38;5;66;03m# take() does not accept boolean indexers\u001b[39;00m\n\u001b[0;32m   3514\u001b[0m \u001b[38;5;28;01mif\u001b[39;00m \u001b[38;5;28mgetattr\u001b[39m(indexer, \u001b[38;5;124m\"\u001b[39m\u001b[38;5;124mdtype\u001b[39m\u001b[38;5;124m\"\u001b[39m, \u001b[38;5;28;01mNone\u001b[39;00m) \u001b[38;5;241m==\u001b[39m \u001b[38;5;28mbool\u001b[39m:\n",
      "File \u001b[1;32m~\\miniconda3\\envs\\Final_Project\\lib\\site-packages\\pandas\\core\\indexes\\base.py:5796\u001b[0m, in \u001b[0;36mIndex._get_indexer_strict\u001b[1;34m(self, key, axis_name)\u001b[0m\n\u001b[0;32m   5793\u001b[0m \u001b[38;5;28;01melse\u001b[39;00m:\n\u001b[0;32m   5794\u001b[0m     keyarr, indexer, new_indexer \u001b[38;5;241m=\u001b[39m \u001b[38;5;28mself\u001b[39m\u001b[38;5;241m.\u001b[39m_reindex_non_unique(keyarr)\n\u001b[1;32m-> 5796\u001b[0m \u001b[38;5;28;43mself\u001b[39;49m\u001b[38;5;241;43m.\u001b[39;49m\u001b[43m_raise_if_missing\u001b[49m\u001b[43m(\u001b[49m\u001b[43mkeyarr\u001b[49m\u001b[43m,\u001b[49m\u001b[43m \u001b[49m\u001b[43mindexer\u001b[49m\u001b[43m,\u001b[49m\u001b[43m \u001b[49m\u001b[43maxis_name\u001b[49m\u001b[43m)\u001b[49m\n\u001b[0;32m   5798\u001b[0m keyarr \u001b[38;5;241m=\u001b[39m \u001b[38;5;28mself\u001b[39m\u001b[38;5;241m.\u001b[39mtake(indexer)\n\u001b[0;32m   5799\u001b[0m \u001b[38;5;28;01mif\u001b[39;00m \u001b[38;5;28misinstance\u001b[39m(key, Index):\n\u001b[0;32m   5800\u001b[0m     \u001b[38;5;66;03m# GH 42790 - Preserve name from an Index\u001b[39;00m\n",
      "File \u001b[1;32m~\\miniconda3\\envs\\Final_Project\\lib\\site-packages\\pandas\\core\\indexes\\base.py:5856\u001b[0m, in \u001b[0;36mIndex._raise_if_missing\u001b[1;34m(self, key, indexer, axis_name)\u001b[0m\n\u001b[0;32m   5854\u001b[0m     \u001b[38;5;28;01mif\u001b[39;00m use_interval_msg:\n\u001b[0;32m   5855\u001b[0m         key \u001b[38;5;241m=\u001b[39m \u001b[38;5;28mlist\u001b[39m(key)\n\u001b[1;32m-> 5856\u001b[0m     \u001b[38;5;28;01mraise\u001b[39;00m \u001b[38;5;167;01mKeyError\u001b[39;00m(\u001b[38;5;124mf\u001b[39m\u001b[38;5;124m\"\u001b[39m\u001b[38;5;124mNone of [\u001b[39m\u001b[38;5;132;01m{\u001b[39;00mkey\u001b[38;5;132;01m}\u001b[39;00m\u001b[38;5;124m] are in the [\u001b[39m\u001b[38;5;132;01m{\u001b[39;00maxis_name\u001b[38;5;132;01m}\u001b[39;00m\u001b[38;5;124m]\u001b[39m\u001b[38;5;124m\"\u001b[39m)\n\u001b[0;32m   5858\u001b[0m not_found \u001b[38;5;241m=\u001b[39m \u001b[38;5;28mlist\u001b[39m(ensure_index(key)[missing_mask\u001b[38;5;241m.\u001b[39mnonzero()[\u001b[38;5;241m0\u001b[39m]]\u001b[38;5;241m.\u001b[39munique())\n\u001b[0;32m   5859\u001b[0m \u001b[38;5;28;01mraise\u001b[39;00m \u001b[38;5;167;01mKeyError\u001b[39;00m(\u001b[38;5;124mf\u001b[39m\u001b[38;5;124m\"\u001b[39m\u001b[38;5;132;01m{\u001b[39;00mnot_found\u001b[38;5;132;01m}\u001b[39;00m\u001b[38;5;124m not in index\u001b[39m\u001b[38;5;124m\"\u001b[39m)\n",
      "\u001b[1;31mKeyError\u001b[0m: \"None of [Index([''], dtype='object')] are in the [columns]\""
     ]
    }
   ],
   "source": [
    "municipio_minimo()"
   ]
  },
  {
   "cell_type": "code",
   "execution_count": null,
   "id": "98b5a4d1",
   "metadata": {},
   "outputs": [],
   "source": [
    "convert()"
   ]
  },
  {
   "cell_type": "code",
   "execution_count": null,
   "id": "9f08be70",
   "metadata": {},
   "outputs": [],
   "source": [
    "def gasolinera_minimo():\n",
    "    mun=input('Seleccione Estación de Servicio: ')\n",
    "    Y=input('Seleccione tipo de Carburante')\n",
    "    cp_x = df_n[df_n[\"Estación de Servicio\"] == mun]\n",
    "    minimo = pd.DataFrame(cp_x.loc[cp_x[[Y]].idxmin()])\n",
    "    return minimo"
   ]
  },
  {
   "cell_type": "code",
   "execution_count": null,
   "id": "c3776eb1",
   "metadata": {},
   "outputs": [],
   "source": [
    "gasolinera_minimo()"
   ]
  },
  {
   "cell_type": "code",
   "execution_count": null,
   "id": "081d7d4d",
   "metadata": {},
   "outputs": [],
   "source": [
    "def precio_minimo_cp():\n",
    "    cp=input('Seleccione Código Postal: ')\n",
    "    Y=input('Seleccione tipo de Carburante')\n",
    "    cp_x = df_n[df_n[\"C.P.\"] == cp]\n",
    "    minimo = pd.DataFrame(cp_x.loc[cp_x[[Y]].idxmin()])\n",
    "    return minimo"
   ]
  },
  {
   "cell_type": "code",
   "execution_count": null,
   "id": "efb8802c",
   "metadata": {},
   "outputs": [
    {
     "name": "stdout",
     "output_type": "stream",
     "text": [
      "Seleccione Código Postal: 28033\n",
      "Seleccione tipo de CarburanteGasoleo A\n"
     ]
    },
    {
     "data": {
      "text/html": [
       "<div>\n",
       "<style scoped>\n",
       "    .dataframe tbody tr th:only-of-type {\n",
       "        vertical-align: middle;\n",
       "    }\n",
       "\n",
       "    .dataframe tbody tr th {\n",
       "        vertical-align: top;\n",
       "    }\n",
       "\n",
       "    .dataframe thead th {\n",
       "        text-align: right;\n",
       "    }\n",
       "</style>\n",
       "<table border=\"1\" class=\"dataframe\">\n",
       "  <thead>\n",
       "    <tr style=\"text-align: right;\">\n",
       "      <th></th>\n",
       "      <th>Fecha</th>\n",
       "      <th>C.P.</th>\n",
       "      <th>Dirección</th>\n",
       "      <th>Horario</th>\n",
       "      <th>Latitud</th>\n",
       "      <th>Localidad</th>\n",
       "      <th>Longitud (WGS84)</th>\n",
       "      <th>Municipio</th>\n",
       "      <th>Gasoleo A</th>\n",
       "      <th>Precio Gasoleo B</th>\n",
       "      <th>Gasoleo Premium</th>\n",
       "      <th>Gasolina 95 E5</th>\n",
       "      <th>Gasolina 98 E5</th>\n",
       "      <th>Provincia</th>\n",
       "      <th>Estación de Servicio</th>\n",
       "      <th>IDEESS</th>\n",
       "      <th>IDMunicipio</th>\n",
       "      <th>IDProvincia</th>\n",
       "      <th>IDCCAA</th>\n",
       "    </tr>\n",
       "  </thead>\n",
       "  <tbody>\n",
       "    <tr>\n",
       "      <th>6875</th>\n",
       "      <td>26/10/2022 14:48:09</td>\n",
       "      <td>28033</td>\n",
       "      <td>CL CARRETERA CANILLAS, 150</td>\n",
       "      <td>L-D: 24H</td>\n",
       "      <td>40,464889</td>\n",
       "      <td>MADRID</td>\n",
       "      <td>-3,636139</td>\n",
       "      <td>Madrid</td>\n",
       "      <td>1.969</td>\n",
       "      <td>NaN</td>\n",
       "      <td>2.049</td>\n",
       "      <td>1.819</td>\n",
       "      <td>1.959</td>\n",
       "      <td>MADRID</td>\n",
       "      <td>SHELL</td>\n",
       "      <td>4455</td>\n",
       "      <td>4354</td>\n",
       "      <td>28</td>\n",
       "      <td>13</td>\n",
       "    </tr>\n",
       "  </tbody>\n",
       "</table>\n",
       "</div>"
      ],
      "text/plain": [
       "                    Fecha   C.P.                   Dirección   Horario  \\\n",
       "6875  26/10/2022 14:48:09  28033  CL CARRETERA CANILLAS, 150  L-D: 24H   \n",
       "\n",
       "        Latitud Localidad Longitud (WGS84) Municipio  Gasoleo A  \\\n",
       "6875  40,464889    MADRID        -3,636139    Madrid      1.969   \n",
       "\n",
       "      Precio Gasoleo B  Gasoleo Premium  Gasolina 95 E5  Gasolina 98 E5  \\\n",
       "6875               NaN            2.049           1.819           1.959   \n",
       "\n",
       "     Provincia Estación de Servicio IDEESS IDMunicipio IDProvincia IDCCAA  \n",
       "6875    MADRID                SHELL   4455        4354          28     13  "
      ]
     },
     "execution_count": 117,
     "metadata": {},
     "output_type": "execute_result"
    }
   ],
   "source": [
    "precio_minimo_cp()"
   ]
  },
  {
   "cell_type": "code",
   "execution_count": null,
   "id": "2b4ed723",
   "metadata": {},
   "outputs": [
    {
     "data": {
      "text/html": [
       "<div>\n",
       "<style scoped>\n",
       "    .dataframe tbody tr th:only-of-type {\n",
       "        vertical-align: middle;\n",
       "    }\n",
       "\n",
       "    .dataframe tbody tr th {\n",
       "        vertical-align: top;\n",
       "    }\n",
       "\n",
       "    .dataframe thead th {\n",
       "        text-align: right;\n",
       "    }\n",
       "</style>\n",
       "<table border=\"1\" class=\"dataframe\">\n",
       "  <thead>\n",
       "    <tr style=\"text-align: right;\">\n",
       "      <th></th>\n",
       "      <th>Fecha</th>\n",
       "      <th>C.P.</th>\n",
       "      <th>Dirección</th>\n",
       "      <th>Horario</th>\n",
       "      <th>Latitud</th>\n",
       "      <th>Localidad</th>\n",
       "      <th>Longitud (WGS84)</th>\n",
       "      <th>Municipio</th>\n",
       "      <th>Gasoleo A</th>\n",
       "      <th>Precio Gasoleo B</th>\n",
       "      <th>Gasoleo Premium</th>\n",
       "      <th>Gasolina 95 E5</th>\n",
       "      <th>Gasolina 98 E5</th>\n",
       "      <th>Provincia</th>\n",
       "      <th>Estación de Servicio</th>\n",
       "      <th>IDEESS</th>\n",
       "      <th>IDMunicipio</th>\n",
       "      <th>IDProvincia</th>\n",
       "      <th>IDCCAA</th>\n",
       "    </tr>\n",
       "  </thead>\n",
       "  <tbody>\n",
       "    <tr>\n",
       "      <th>9189</th>\n",
       "      <td>26/10/2022 14:48:09</td>\n",
       "      <td>38500</td>\n",
       "      <td>CARRETERA TF-61 KM. 2,800</td>\n",
       "      <td>L-D: 24H</td>\n",
       "      <td>28,306389</td>\n",
       "      <td>GÜIMAR</td>\n",
       "      <td>-16,386056</td>\n",
       "      <td>Güímar</td>\n",
       "      <td>1.489</td>\n",
       "      <td>NaN</td>\n",
       "      <td>NaN</td>\n",
       "      <td>1.424</td>\n",
       "      <td>1.569</td>\n",
       "      <td>SANTA CRUZ DE TENERIFE</td>\n",
       "      <td>DISA PUERTITO</td>\n",
       "      <td>7752</td>\n",
       "      <td>5710</td>\n",
       "      <td>38</td>\n",
       "      <td>05</td>\n",
       "    </tr>\n",
       "    <tr>\n",
       "      <th>9190</th>\n",
       "      <td>26/10/2022 14:48:09</td>\n",
       "      <td>38500</td>\n",
       "      <td>CALLE RIGOBERTO DIAZ MELERO, S/N</td>\n",
       "      <td>L-D: 06:00-22:00</td>\n",
       "      <td>28,313000</td>\n",
       "      <td>GÜIMAR</td>\n",
       "      <td>-16,410972</td>\n",
       "      <td>Güímar</td>\n",
       "      <td>1.489</td>\n",
       "      <td>NaN</td>\n",
       "      <td>1.619</td>\n",
       "      <td>1.424</td>\n",
       "      <td>1.569</td>\n",
       "      <td>SANTA CRUZ DE TENERIFE</td>\n",
       "      <td>SHELL GUIMAR</td>\n",
       "      <td>8749</td>\n",
       "      <td>5710</td>\n",
       "      <td>38</td>\n",
       "      <td>05</td>\n",
       "    </tr>\n",
       "    <tr>\n",
       "      <th>9191</th>\n",
       "      <td>26/10/2022 14:48:09</td>\n",
       "      <td>38500</td>\n",
       "      <td>POLIGONO INDUSTRIAL VALLE DE GÜIMAR MZ. 13, PC...</td>\n",
       "      <td>L-V: 06:00-22:00; S: 07:00-22:00; D: 08:00-21:00</td>\n",
       "      <td>28,325194</td>\n",
       "      <td>GÜIMAR</td>\n",
       "      <td>-16,374833</td>\n",
       "      <td>Güímar</td>\n",
       "      <td>1.509</td>\n",
       "      <td>NaN</td>\n",
       "      <td>1.599</td>\n",
       "      <td>1.419</td>\n",
       "      <td>1.529</td>\n",
       "      <td>SANTA CRUZ DE TENERIFE</td>\n",
       "      <td>OCÉANO</td>\n",
       "      <td>12479</td>\n",
       "      <td>5710</td>\n",
       "      <td>38</td>\n",
       "      <td>05</td>\n",
       "    </tr>\n",
       "    <tr>\n",
       "      <th>9192</th>\n",
       "      <td>26/10/2022 14:48:09</td>\n",
       "      <td>38500</td>\n",
       "      <td>AVENIDA SANTA CRUZ, 53</td>\n",
       "      <td>L-M: 06:00-22:00; X: 05:30-19:30; J-S: 06:00-2...</td>\n",
       "      <td>28,319056</td>\n",
       "      <td>GÜIMAR</td>\n",
       "      <td>-16,407972</td>\n",
       "      <td>Güímar</td>\n",
       "      <td>1.489</td>\n",
       "      <td>NaN</td>\n",
       "      <td>1.619</td>\n",
       "      <td>1.424</td>\n",
       "      <td>1.569</td>\n",
       "      <td>SANTA CRUZ DE TENERIFE</td>\n",
       "      <td>DISA GÜIMAR</td>\n",
       "      <td>7881</td>\n",
       "      <td>5710</td>\n",
       "      <td>38</td>\n",
       "      <td>05</td>\n",
       "    </tr>\n",
       "    <tr>\n",
       "      <th>9193</th>\n",
       "      <td>26/10/2022 14:48:09</td>\n",
       "      <td>38500</td>\n",
       "      <td>AVENIDA OBISPO PEREZ CACERES, 45</td>\n",
       "      <td>L-S: 06:00-22:00; D: 06:00-14:00</td>\n",
       "      <td>28,313028</td>\n",
       "      <td>GÜIMAR</td>\n",
       "      <td>-16,411944</td>\n",
       "      <td>Güímar</td>\n",
       "      <td>1.489</td>\n",
       "      <td>NaN</td>\n",
       "      <td>NaN</td>\n",
       "      <td>1.429</td>\n",
       "      <td>1.569</td>\n",
       "      <td>SANTA CRUZ DE TENERIFE</td>\n",
       "      <td>CEPSA</td>\n",
       "      <td>7621</td>\n",
       "      <td>5710</td>\n",
       "      <td>38</td>\n",
       "      <td>05</td>\n",
       "    </tr>\n",
       "  </tbody>\n",
       "</table>\n",
       "</div>"
      ],
      "text/plain": [
       "                    Fecha   C.P.  \\\n",
       "9189  26/10/2022 14:48:09  38500   \n",
       "9190  26/10/2022 14:48:09  38500   \n",
       "9191  26/10/2022 14:48:09  38500   \n",
       "9192  26/10/2022 14:48:09  38500   \n",
       "9193  26/10/2022 14:48:09  38500   \n",
       "\n",
       "                                              Dirección  \\\n",
       "9189                          CARRETERA TF-61 KM. 2,800   \n",
       "9190                   CALLE RIGOBERTO DIAZ MELERO, S/N   \n",
       "9191  POLIGONO INDUSTRIAL VALLE DE GÜIMAR MZ. 13, PC...   \n",
       "9192                             AVENIDA SANTA CRUZ, 53   \n",
       "9193                   AVENIDA OBISPO PEREZ CACERES, 45   \n",
       "\n",
       "                                                Horario    Latitud Localidad  \\\n",
       "9189                                           L-D: 24H  28,306389    GÜIMAR   \n",
       "9190                                   L-D: 06:00-22:00  28,313000    GÜIMAR   \n",
       "9191   L-V: 06:00-22:00; S: 07:00-22:00; D: 08:00-21:00  28,325194    GÜIMAR   \n",
       "9192  L-M: 06:00-22:00; X: 05:30-19:30; J-S: 06:00-2...  28,319056    GÜIMAR   \n",
       "9193                   L-S: 06:00-22:00; D: 06:00-14:00  28,313028    GÜIMAR   \n",
       "\n",
       "     Longitud (WGS84) Municipio  Gasoleo A  Precio Gasoleo B  Gasoleo Premium  \\\n",
       "9189       -16,386056    Güímar      1.489               NaN              NaN   \n",
       "9190       -16,410972    Güímar      1.489               NaN            1.619   \n",
       "9191       -16,374833    Güímar      1.509               NaN            1.599   \n",
       "9192       -16,407972    Güímar      1.489               NaN            1.619   \n",
       "9193       -16,411944    Güímar      1.489               NaN              NaN   \n",
       "\n",
       "      Gasolina 95 E5  Gasolina 98 E5               Provincia  \\\n",
       "9189           1.424           1.569  SANTA CRUZ DE TENERIFE   \n",
       "9190           1.424           1.569  SANTA CRUZ DE TENERIFE   \n",
       "9191           1.419           1.529  SANTA CRUZ DE TENERIFE   \n",
       "9192           1.424           1.569  SANTA CRUZ DE TENERIFE   \n",
       "9193           1.429           1.569  SANTA CRUZ DE TENERIFE   \n",
       "\n",
       "     Estación de Servicio IDEESS IDMunicipio IDProvincia IDCCAA  \n",
       "9189        DISA PUERTITO   7752        5710          38     05  \n",
       "9190         SHELL GUIMAR   8749        5710          38     05  \n",
       "9191               OCÉANO  12479        5710          38     05  \n",
       "9192          DISA GÜIMAR   7881        5710          38     05  \n",
       "9193                CEPSA   7621        5710          38     05  "
      ]
     },
     "execution_count": 118,
     "metadata": {},
     "output_type": "execute_result"
    }
   ],
   "source": [
    "x1 = df_n[\"C.P.\"]=='38500'\n",
    "x2 = df_n[x1]\n",
    "x2"
   ]
  },
  {
   "cell_type": "code",
   "execution_count": null,
   "id": "07fe3213",
   "metadata": {},
   "outputs": [],
   "source": [
    "# Función para convertir códigos postales\n",
    "def convert():\n",
    "    mun=input('Introduzca Municipio: ')\n",
    "    mun_x = df_n[df_n[\"Municipio\"] == mun]\n",
    "    cp = pd.DataFrame(mun_x[\"C.P.\"].unique())\n",
    "    return cp\n",
    "    "
   ]
  },
  {
   "cell_type": "code",
   "execution_count": null,
   "id": "ba996755",
   "metadata": {},
   "outputs": [
    {
     "name": "stdout",
     "output_type": "stream",
     "text": [
      "Introduzca Municipio: Cercedilla\n"
     ]
    },
    {
     "data": {
      "text/html": [
       "<div>\n",
       "<style scoped>\n",
       "    .dataframe tbody tr th:only-of-type {\n",
       "        vertical-align: middle;\n",
       "    }\n",
       "\n",
       "    .dataframe tbody tr th {\n",
       "        vertical-align: top;\n",
       "    }\n",
       "\n",
       "    .dataframe thead th {\n",
       "        text-align: right;\n",
       "    }\n",
       "</style>\n",
       "<table border=\"1\" class=\"dataframe\">\n",
       "  <thead>\n",
       "    <tr style=\"text-align: right;\">\n",
       "      <th></th>\n",
       "      <th>0</th>\n",
       "    </tr>\n",
       "  </thead>\n",
       "  <tbody>\n",
       "    <tr>\n",
       "      <th>0</th>\n",
       "      <td>28470</td>\n",
       "    </tr>\n",
       "  </tbody>\n",
       "</table>\n",
       "</div>"
      ],
      "text/plain": [
       "       0\n",
       "0  28470"
      ]
     },
     "execution_count": 120,
     "metadata": {},
     "output_type": "execute_result"
    }
   ],
   "source": [
    "convert()"
   ]
  },
  {
   "cell_type": "code",
   "execution_count": null,
   "id": "752fcb3c",
   "metadata": {},
   "outputs": [],
   "source": [
    "# Listado de Gasolineras por Municipio\n",
    "def gasolineras_municipio():\n",
    "    mun=input('Introduzca Municipio: ')\n",
    "    cp_x = df_n[df_n[\"Municipio\"] == mun]\n",
    "    return cp_x\n"
   ]
  },
  {
   "cell_type": "code",
   "execution_count": null,
   "id": "9f8ea85c",
   "metadata": {},
   "outputs": [
    {
     "name": "stdout",
     "output_type": "stream",
     "text": [
      "Introduzca Municipio: Cercedilla\n"
     ]
    },
    {
     "data": {
      "text/html": [
       "<div>\n",
       "<style scoped>\n",
       "    .dataframe tbody tr th:only-of-type {\n",
       "        vertical-align: middle;\n",
       "    }\n",
       "\n",
       "    .dataframe tbody tr th {\n",
       "        vertical-align: top;\n",
       "    }\n",
       "\n",
       "    .dataframe thead th {\n",
       "        text-align: right;\n",
       "    }\n",
       "</style>\n",
       "<table border=\"1\" class=\"dataframe\">\n",
       "  <thead>\n",
       "    <tr style=\"text-align: right;\">\n",
       "      <th></th>\n",
       "      <th>Fecha</th>\n",
       "      <th>C.P.</th>\n",
       "      <th>Dirección</th>\n",
       "      <th>Horario</th>\n",
       "      <th>Latitud</th>\n",
       "      <th>Localidad</th>\n",
       "      <th>Longitud (WGS84)</th>\n",
       "      <th>Municipio</th>\n",
       "      <th>Gasoleo A</th>\n",
       "      <th>Precio Gasoleo B</th>\n",
       "      <th>Gasoleo Premium</th>\n",
       "      <th>Gasolina 95 E5</th>\n",
       "      <th>Gasolina 98 E5</th>\n",
       "      <th>Provincia</th>\n",
       "      <th>Estación de Servicio</th>\n",
       "      <th>IDEESS</th>\n",
       "      <th>IDMunicipio</th>\n",
       "      <th>IDProvincia</th>\n",
       "      <th>IDCCAA</th>\n",
       "    </tr>\n",
       "  </thead>\n",
       "  <tbody>\n",
       "    <tr>\n",
       "      <th>6570</th>\n",
       "      <td>26/10/2022 14:48:09</td>\n",
       "      <td>28470</td>\n",
       "      <td>CARRETERA M 622 (CARRETERA GUADARRAMA A LA FUE...</td>\n",
       "      <td>L-S: 7:30-20:30; D: 8:30-20:00</td>\n",
       "      <td>40,733111</td>\n",
       "      <td>CERCEDILLA</td>\n",
       "      <td>-4,067528</td>\n",
       "      <td>Cercedilla</td>\n",
       "      <td>2.009</td>\n",
       "      <td>NaN</td>\n",
       "      <td>NaN</td>\n",
       "      <td>1.749</td>\n",
       "      <td>NaN</td>\n",
       "      <td>MADRID</td>\n",
       "      <td>REPSOL</td>\n",
       "      <td>4557</td>\n",
       "      <td>4313</td>\n",
       "      <td>28</td>\n",
       "      <td>13</td>\n",
       "    </tr>\n",
       "  </tbody>\n",
       "</table>\n",
       "</div>"
      ],
      "text/plain": [
       "                    Fecha   C.P.  \\\n",
       "6570  26/10/2022 14:48:09  28470   \n",
       "\n",
       "                                              Dirección  \\\n",
       "6570  CARRETERA M 622 (CARRETERA GUADARRAMA A LA FUE...   \n",
       "\n",
       "                             Horario    Latitud   Localidad Longitud (WGS84)  \\\n",
       "6570  L-S: 7:30-20:30; D: 8:30-20:00  40,733111  CERCEDILLA        -4,067528   \n",
       "\n",
       "       Municipio  Gasoleo A  Precio Gasoleo B  Gasoleo Premium  \\\n",
       "6570  Cercedilla      2.009               NaN              NaN   \n",
       "\n",
       "      Gasolina 95 E5  Gasolina 98 E5 Provincia Estación de Servicio IDEESS  \\\n",
       "6570           1.749             NaN    MADRID               REPSOL   4557   \n",
       "\n",
       "     IDMunicipio IDProvincia IDCCAA  \n",
       "6570        4313          28     13  "
      ]
     },
     "execution_count": 122,
     "metadata": {},
     "output_type": "execute_result"
    }
   ],
   "source": [
    "gasolineras_municipio()"
   ]
  },
  {
   "cell_type": "code",
   "execution_count": null,
   "id": "42d352ec",
   "metadata": {},
   "outputs": [],
   "source": [
    "# Listado de Gasolineras por Provincia\n",
    "def gasolineras_provincia():\n",
    "    mun=input('Introduzca Provincia: ')\n",
    "    cp_x = df_n[df_n[\"Provincia\"] == mun]\n",
    "    return cp_x\n"
   ]
  },
  {
   "cell_type": "code",
   "execution_count": null,
   "id": "fb0d41d2",
   "metadata": {},
   "outputs": [
    {
     "name": "stdout",
     "output_type": "stream",
     "text": [
      "Introduzca Provincia: OURENSE\n"
     ]
    },
    {
     "data": {
      "text/html": [
       "<div>\n",
       "<style scoped>\n",
       "    .dataframe tbody tr th:only-of-type {\n",
       "        vertical-align: middle;\n",
       "    }\n",
       "\n",
       "    .dataframe tbody tr th {\n",
       "        vertical-align: top;\n",
       "    }\n",
       "\n",
       "    .dataframe thead th {\n",
       "        text-align: right;\n",
       "    }\n",
       "</style>\n",
       "<table border=\"1\" class=\"dataframe\">\n",
       "  <thead>\n",
       "    <tr style=\"text-align: right;\">\n",
       "      <th></th>\n",
       "      <th>Fecha</th>\n",
       "      <th>C.P.</th>\n",
       "      <th>Dirección</th>\n",
       "      <th>Horario</th>\n",
       "      <th>Latitud</th>\n",
       "      <th>Localidad</th>\n",
       "      <th>Longitud (WGS84)</th>\n",
       "      <th>Municipio</th>\n",
       "      <th>Gasoleo A</th>\n",
       "      <th>Precio Gasoleo B</th>\n",
       "      <th>Gasoleo Premium</th>\n",
       "      <th>Gasolina 95 E5</th>\n",
       "      <th>Gasolina 98 E5</th>\n",
       "      <th>Provincia</th>\n",
       "      <th>Estación de Servicio</th>\n",
       "      <th>IDEESS</th>\n",
       "      <th>IDMunicipio</th>\n",
       "      <th>IDProvincia</th>\n",
       "      <th>IDCCAA</th>\n",
       "    </tr>\n",
       "  </thead>\n",
       "  <tbody>\n",
       "    <tr>\n",
       "      <th>8312</th>\n",
       "      <td>26/10/2022 14:48:09</td>\n",
       "      <td>32660</td>\n",
       "      <td>CARRETERA N-525 KM. 216,400</td>\n",
       "      <td>L-D: 07:00-23:00</td>\n",
       "      <td>42,193667</td>\n",
       "      <td>ALLARIZ</td>\n",
       "      <td>-7,794806</td>\n",
       "      <td>Allariz</td>\n",
       "      <td>2.029</td>\n",
       "      <td>NaN</td>\n",
       "      <td>2.079</td>\n",
       "      <td>1.819</td>\n",
       "      <td>1.949</td>\n",
       "      <td>OURENSE</td>\n",
       "      <td>GALP</td>\n",
       "      <td>815</td>\n",
       "      <td>4872</td>\n",
       "      <td>32</td>\n",
       "      <td>12</td>\n",
       "    </tr>\n",
       "    <tr>\n",
       "      <th>8313</th>\n",
       "      <td>26/10/2022 14:48:09</td>\n",
       "      <td>32435</td>\n",
       "      <td>CR OR-212, 15 (OR-212 km 15,3)</td>\n",
       "      <td>L-V: 07:00-22:00; S-D: 08:00-22:00</td>\n",
       "      <td>42,374361</td>\n",
       "      <td>AVION (OURENSE)</td>\n",
       "      <td>-8,246028</td>\n",
       "      <td>Avión</td>\n",
       "      <td>2.059</td>\n",
       "      <td>NaN</td>\n",
       "      <td>NaN</td>\n",
       "      <td>1.849</td>\n",
       "      <td>1.999</td>\n",
       "      <td>OURENSE</td>\n",
       "      <td>REPSOL</td>\n",
       "      <td>755</td>\n",
       "      <td>4875</td>\n",
       "      <td>32</td>\n",
       "      <td>12</td>\n",
       "    </tr>\n",
       "    <tr>\n",
       "      <th>8314</th>\n",
       "      <td>26/10/2022 14:48:09</td>\n",
       "      <td>32840</td>\n",
       "      <td>CALLE FAUSTINO SANTALICES, 58</td>\n",
       "      <td>L-D: 07:00-23:00</td>\n",
       "      <td>42,034389</td>\n",
       "      <td>BANDE</td>\n",
       "      <td>-7,973083</td>\n",
       "      <td>Bande</td>\n",
       "      <td>2.045</td>\n",
       "      <td>1.771</td>\n",
       "      <td>2.124</td>\n",
       "      <td>1.833</td>\n",
       "      <td>1.972</td>\n",
       "      <td>OURENSE</td>\n",
       "      <td>REPSOL</td>\n",
       "      <td>324</td>\n",
       "      <td>4877</td>\n",
       "      <td>32</td>\n",
       "      <td>12</td>\n",
       "    </tr>\n",
       "    <tr>\n",
       "      <th>8315</th>\n",
       "      <td>26/10/2022 14:48:09</td>\n",
       "      <td>32890</td>\n",
       "      <td>N-540 P.K. 0,700</td>\n",
       "      <td>L-D: 24H</td>\n",
       "      <td>42,318052</td>\n",
       "      <td>BARBADAS</td>\n",
       "      <td>-7,877994</td>\n",
       "      <td>Barbadás</td>\n",
       "      <td>1.969</td>\n",
       "      <td>NaN</td>\n",
       "      <td>2.039</td>\n",
       "      <td>1.769</td>\n",
       "      <td>NaN</td>\n",
       "      <td>OURENSE</td>\n",
       "      <td>GALP</td>\n",
       "      <td>365</td>\n",
       "      <td>4879</td>\n",
       "      <td>32</td>\n",
       "      <td>12</td>\n",
       "    </tr>\n",
       "    <tr>\n",
       "      <th>8316</th>\n",
       "      <td>26/10/2022 14:48:09</td>\n",
       "      <td>32890</td>\n",
       "      <td>CARRETERA NACIONAL 540 KM. 0,70</td>\n",
       "      <td>L-D: 07:00-23:00</td>\n",
       "      <td>42,318111</td>\n",
       "      <td>BARBADAS</td>\n",
       "      <td>-7,877389</td>\n",
       "      <td>Barbadás</td>\n",
       "      <td>2.019</td>\n",
       "      <td>NaN</td>\n",
       "      <td>2.079</td>\n",
       "      <td>1.809</td>\n",
       "      <td>1.939</td>\n",
       "      <td>OURENSE</td>\n",
       "      <td>GALP</td>\n",
       "      <td>366</td>\n",
       "      <td>4879</td>\n",
       "      <td>32</td>\n",
       "      <td>12</td>\n",
       "    </tr>\n",
       "    <tr>\n",
       "      <th>...</th>\n",
       "      <td>...</td>\n",
       "      <td>...</td>\n",
       "      <td>...</td>\n",
       "      <td>...</td>\n",
       "      <td>...</td>\n",
       "      <td>...</td>\n",
       "      <td>...</td>\n",
       "      <td>...</td>\n",
       "      <td>...</td>\n",
       "      <td>...</td>\n",
       "      <td>...</td>\n",
       "      <td>...</td>\n",
       "      <td>...</td>\n",
       "      <td>...</td>\n",
       "      <td>...</td>\n",
       "      <td>...</td>\n",
       "      <td>...</td>\n",
       "      <td>...</td>\n",
       "      <td>...</td>\n",
       "    </tr>\n",
       "    <tr>\n",
       "      <th>8398</th>\n",
       "      <td>26/10/2022 14:48:09</td>\n",
       "      <td>32340</td>\n",
       "      <td>CARRETERA N-120 KM. 463</td>\n",
       "      <td>L-D: 06:30-10:30</td>\n",
       "      <td>42,408222</td>\n",
       "      <td>VILAMARTIN DE VALDEORRAS</td>\n",
       "      <td>-7,073194</td>\n",
       "      <td>Vilamartín de Valdeorras</td>\n",
       "      <td>2.019</td>\n",
       "      <td>NaN</td>\n",
       "      <td>2.069</td>\n",
       "      <td>1.829</td>\n",
       "      <td>2.009</td>\n",
       "      <td>OURENSE</td>\n",
       "      <td>VALCARCE</td>\n",
       "      <td>752</td>\n",
       "      <td>4956</td>\n",
       "      <td>32</td>\n",
       "      <td>12</td>\n",
       "    </tr>\n",
       "    <tr>\n",
       "      <th>8399</th>\n",
       "      <td>26/10/2022 14:48:09</td>\n",
       "      <td>32630</td>\n",
       "      <td>AVENIDA DE MADRID, 108</td>\n",
       "      <td>L-D: 07:00-23:59</td>\n",
       "      <td>42,059278</td>\n",
       "      <td>XINZO DE LIMIA</td>\n",
       "      <td>-7,714833</td>\n",
       "      <td>Xinzo de Limia</td>\n",
       "      <td>2.059</td>\n",
       "      <td>1.729</td>\n",
       "      <td>2.129</td>\n",
       "      <td>1.819</td>\n",
       "      <td>NaN</td>\n",
       "      <td>OURENSE</td>\n",
       "      <td>CEPSA</td>\n",
       "      <td>769</td>\n",
       "      <td>4961</td>\n",
       "      <td>32</td>\n",
       "      <td>12</td>\n",
       "    </tr>\n",
       "    <tr>\n",
       "      <th>8400</th>\n",
       "      <td>26/10/2022 14:48:09</td>\n",
       "      <td>32630</td>\n",
       "      <td>VÍA PISTA ENLACE AUTOVIA RIAS BAIXAS, S/N</td>\n",
       "      <td>L-D: 24H</td>\n",
       "      <td>42,077917</td>\n",
       "      <td>XINZO DE LIMIA</td>\n",
       "      <td>-7,714583</td>\n",
       "      <td>Xinzo de Limia</td>\n",
       "      <td>2.069</td>\n",
       "      <td>1.739</td>\n",
       "      <td>2.129</td>\n",
       "      <td>1.809</td>\n",
       "      <td>NaN</td>\n",
       "      <td>OURENSE</td>\n",
       "      <td>CEPSA- ANTELA E.S.</td>\n",
       "      <td>10617</td>\n",
       "      <td>4961</td>\n",
       "      <td>32</td>\n",
       "      <td>12</td>\n",
       "    </tr>\n",
       "    <tr>\n",
       "      <th>8401</th>\n",
       "      <td>26/10/2022 14:48:09</td>\n",
       "      <td>32630</td>\n",
       "      <td>CL A DEVESA, S.N.</td>\n",
       "      <td>L-D: 07:00-23:00</td>\n",
       "      <td>42,075556</td>\n",
       "      <td>XINZO DE LIMIA</td>\n",
       "      <td>-7,727083</td>\n",
       "      <td>Xinzo de Limia</td>\n",
       "      <td>2.069</td>\n",
       "      <td>1.729</td>\n",
       "      <td>2.129</td>\n",
       "      <td>1.809</td>\n",
       "      <td>1.959</td>\n",
       "      <td>OURENSE</td>\n",
       "      <td>REPSOL</td>\n",
       "      <td>707</td>\n",
       "      <td>4961</td>\n",
       "      <td>32</td>\n",
       "      <td>12</td>\n",
       "    </tr>\n",
       "    <tr>\n",
       "      <th>8402</th>\n",
       "      <td>26/10/2022 14:48:09</td>\n",
       "      <td>32630</td>\n",
       "      <td>CARRETERA CRTA. N-525, KM.199.4 KM. 199,4</td>\n",
       "      <td>L-D: 07:00-23:00</td>\n",
       "      <td>42,072667</td>\n",
       "      <td>XINZO DE LIMIA</td>\n",
       "      <td>-7,732000</td>\n",
       "      <td>Xinzo de Limia</td>\n",
       "      <td>2.069</td>\n",
       "      <td>1.726</td>\n",
       "      <td>2.139</td>\n",
       "      <td>1.819</td>\n",
       "      <td>1.969</td>\n",
       "      <td>OURENSE</td>\n",
       "      <td>REPSOL</td>\n",
       "      <td>833</td>\n",
       "      <td>4961</td>\n",
       "      <td>32</td>\n",
       "      <td>12</td>\n",
       "    </tr>\n",
       "  </tbody>\n",
       "</table>\n",
       "<p>91 rows × 19 columns</p>\n",
       "</div>"
      ],
      "text/plain": [
       "                    Fecha   C.P.                                  Dirección  \\\n",
       "8312  26/10/2022 14:48:09  32660                CARRETERA N-525 KM. 216,400   \n",
       "8313  26/10/2022 14:48:09  32435             CR OR-212, 15 (OR-212 km 15,3)   \n",
       "8314  26/10/2022 14:48:09  32840              CALLE FAUSTINO SANTALICES, 58   \n",
       "8315  26/10/2022 14:48:09  32890                           N-540 P.K. 0,700   \n",
       "8316  26/10/2022 14:48:09  32890            CARRETERA NACIONAL 540 KM. 0,70   \n",
       "...                   ...    ...                                        ...   \n",
       "8398  26/10/2022 14:48:09  32340                    CARRETERA N-120 KM. 463   \n",
       "8399  26/10/2022 14:48:09  32630                     AVENIDA DE MADRID, 108   \n",
       "8400  26/10/2022 14:48:09  32630  VÍA PISTA ENLACE AUTOVIA RIAS BAIXAS, S/N   \n",
       "8401  26/10/2022 14:48:09  32630                          CL A DEVESA, S.N.   \n",
       "8402  26/10/2022 14:48:09  32630  CARRETERA CRTA. N-525, KM.199.4 KM. 199,4   \n",
       "\n",
       "                                 Horario    Latitud                 Localidad  \\\n",
       "8312                    L-D: 07:00-23:00  42,193667                   ALLARIZ   \n",
       "8313  L-V: 07:00-22:00; S-D: 08:00-22:00  42,374361           AVION (OURENSE)   \n",
       "8314                    L-D: 07:00-23:00  42,034389                     BANDE   \n",
       "8315                            L-D: 24H  42,318052                  BARBADAS   \n",
       "8316                    L-D: 07:00-23:00  42,318111                  BARBADAS   \n",
       "...                                  ...        ...                       ...   \n",
       "8398                    L-D: 06:30-10:30  42,408222  VILAMARTIN DE VALDEORRAS   \n",
       "8399                    L-D: 07:00-23:59  42,059278            XINZO DE LIMIA   \n",
       "8400                            L-D: 24H  42,077917            XINZO DE LIMIA   \n",
       "8401                    L-D: 07:00-23:00  42,075556            XINZO DE LIMIA   \n",
       "8402                    L-D: 07:00-23:00  42,072667            XINZO DE LIMIA   \n",
       "\n",
       "     Longitud (WGS84)                 Municipio  Gasoleo A  Precio Gasoleo B  \\\n",
       "8312        -7,794806                   Allariz      2.029               NaN   \n",
       "8313        -8,246028                     Avión      2.059               NaN   \n",
       "8314        -7,973083                     Bande      2.045             1.771   \n",
       "8315        -7,877994                  Barbadás      1.969               NaN   \n",
       "8316        -7,877389                  Barbadás      2.019               NaN   \n",
       "...               ...                       ...        ...               ...   \n",
       "8398        -7,073194  Vilamartín de Valdeorras      2.019               NaN   \n",
       "8399        -7,714833            Xinzo de Limia      2.059             1.729   \n",
       "8400        -7,714583            Xinzo de Limia      2.069             1.739   \n",
       "8401        -7,727083            Xinzo de Limia      2.069             1.729   \n",
       "8402        -7,732000            Xinzo de Limia      2.069             1.726   \n",
       "\n",
       "      Gasoleo Premium  Gasolina 95 E5  Gasolina 98 E5 Provincia  \\\n",
       "8312            2.079           1.819           1.949   OURENSE   \n",
       "8313              NaN           1.849           1.999   OURENSE   \n",
       "8314            2.124           1.833           1.972   OURENSE   \n",
       "8315            2.039           1.769             NaN   OURENSE   \n",
       "8316            2.079           1.809           1.939   OURENSE   \n",
       "...               ...             ...             ...       ...   \n",
       "8398            2.069           1.829           2.009   OURENSE   \n",
       "8399            2.129           1.819             NaN   OURENSE   \n",
       "8400            2.129           1.809             NaN   OURENSE   \n",
       "8401            2.129           1.809           1.959   OURENSE   \n",
       "8402            2.139           1.819           1.969   OURENSE   \n",
       "\n",
       "     Estación de Servicio IDEESS IDMunicipio IDProvincia IDCCAA  \n",
       "8312                 GALP    815        4872          32     12  \n",
       "8313               REPSOL    755        4875          32     12  \n",
       "8314               REPSOL    324        4877          32     12  \n",
       "8315                 GALP    365        4879          32     12  \n",
       "8316                 GALP    366        4879          32     12  \n",
       "...                   ...    ...         ...         ...    ...  \n",
       "8398             VALCARCE    752        4956          32     12  \n",
       "8399                CEPSA    769        4961          32     12  \n",
       "8400   CEPSA- ANTELA E.S.  10617        4961          32     12  \n",
       "8401               REPSOL    707        4961          32     12  \n",
       "8402               REPSOL    833        4961          32     12  \n",
       "\n",
       "[91 rows x 19 columns]"
      ]
     },
     "execution_count": 124,
     "metadata": {},
     "output_type": "execute_result"
    }
   ],
   "source": [
    "gasolineras_provincia()"
   ]
  },
  {
   "cell_type": "code",
   "execution_count": null,
   "id": "fe00f1c5",
   "metadata": {},
   "outputs": [],
   "source": [
    "# Listado de Gasolineras por Código Postal:\n",
    "def gasolineras_cp():\n",
    "    mun=input('Introduzca Código Postal: ')\n",
    "    cp_x = df_n[df_n[\"C.P.\"] == mun]\n",
    "    return cp_x"
   ]
  },
  {
   "cell_type": "code",
   "execution_count": null,
   "id": "858df679",
   "metadata": {},
   "outputs": [
    {
     "name": "stdout",
     "output_type": "stream",
     "text": [
      "Introduzca Código Postal: 28033\n"
     ]
    },
    {
     "data": {
      "text/html": [
       "<div>\n",
       "<style scoped>\n",
       "    .dataframe tbody tr th:only-of-type {\n",
       "        vertical-align: middle;\n",
       "    }\n",
       "\n",
       "    .dataframe tbody tr th {\n",
       "        vertical-align: top;\n",
       "    }\n",
       "\n",
       "    .dataframe thead th {\n",
       "        text-align: right;\n",
       "    }\n",
       "</style>\n",
       "<table border=\"1\" class=\"dataframe\">\n",
       "  <thead>\n",
       "    <tr style=\"text-align: right;\">\n",
       "      <th></th>\n",
       "      <th>Fecha</th>\n",
       "      <th>C.P.</th>\n",
       "      <th>Dirección</th>\n",
       "      <th>Horario</th>\n",
       "      <th>Latitud</th>\n",
       "      <th>Localidad</th>\n",
       "      <th>Longitud (WGS84)</th>\n",
       "      <th>Municipio</th>\n",
       "      <th>Gasoleo A</th>\n",
       "      <th>Precio Gasoleo B</th>\n",
       "      <th>Gasoleo Premium</th>\n",
       "      <th>Gasolina 95 E5</th>\n",
       "      <th>Gasolina 98 E5</th>\n",
       "      <th>Provincia</th>\n",
       "      <th>Estación de Servicio</th>\n",
       "      <th>IDEESS</th>\n",
       "      <th>IDMunicipio</th>\n",
       "      <th>IDProvincia</th>\n",
       "      <th>IDCCAA</th>\n",
       "    </tr>\n",
       "  </thead>\n",
       "  <tbody>\n",
       "    <tr>\n",
       "      <th>6875</th>\n",
       "      <td>26/10/2022 14:48:09</td>\n",
       "      <td>28033</td>\n",
       "      <td>CL CARRETERA CANILLAS, 150</td>\n",
       "      <td>L-D: 24H</td>\n",
       "      <td>40,464889</td>\n",
       "      <td>MADRID</td>\n",
       "      <td>-3,636139</td>\n",
       "      <td>Madrid</td>\n",
       "      <td>1.969</td>\n",
       "      <td>NaN</td>\n",
       "      <td>2.049</td>\n",
       "      <td>1.819</td>\n",
       "      <td>1.959</td>\n",
       "      <td>MADRID</td>\n",
       "      <td>SHELL</td>\n",
       "      <td>4455</td>\n",
       "      <td>4354</td>\n",
       "      <td>28</td>\n",
       "      <td>13</td>\n",
       "    </tr>\n",
       "    <tr>\n",
       "      <th>6876</th>\n",
       "      <td>26/10/2022 14:48:09</td>\n",
       "      <td>28033</td>\n",
       "      <td>CALLE TOMAS REDONDO, 10</td>\n",
       "      <td>L-D: 24H</td>\n",
       "      <td>40,470083</td>\n",
       "      <td>MADRID</td>\n",
       "      <td>-3,627917</td>\n",
       "      <td>Madrid</td>\n",
       "      <td>1.969</td>\n",
       "      <td>NaN</td>\n",
       "      <td>2.049</td>\n",
       "      <td>1.819</td>\n",
       "      <td>1.959</td>\n",
       "      <td>MADRID</td>\n",
       "      <td>SHELL</td>\n",
       "      <td>11400</td>\n",
       "      <td>4354</td>\n",
       "      <td>28</td>\n",
       "      <td>13</td>\n",
       "    </tr>\n",
       "    <tr>\n",
       "      <th>6877</th>\n",
       "      <td>26/10/2022 14:48:09</td>\n",
       "      <td>28033</td>\n",
       "      <td>AVENIDA SAN LUIS, 75</td>\n",
       "      <td>L-D: 24H</td>\n",
       "      <td>40,474167</td>\n",
       "      <td>MADRID</td>\n",
       "      <td>-3,664333</td>\n",
       "      <td>Madrid</td>\n",
       "      <td>2.035</td>\n",
       "      <td>NaN</td>\n",
       "      <td>2.101</td>\n",
       "      <td>1.799</td>\n",
       "      <td>1.936</td>\n",
       "      <td>MADRID</td>\n",
       "      <td>CEPSA</td>\n",
       "      <td>4357</td>\n",
       "      <td>4354</td>\n",
       "      <td>28</td>\n",
       "      <td>13</td>\n",
       "    </tr>\n",
       "    <tr>\n",
       "      <th>6878</th>\n",
       "      <td>26/10/2022 14:48:09</td>\n",
       "      <td>28033</td>\n",
       "      <td>PASEO DEL MAR CASPIO, S,N</td>\n",
       "      <td>L-D: 05:59-23:59</td>\n",
       "      <td>40,473722</td>\n",
       "      <td>MADRID</td>\n",
       "      <td>-3,645028</td>\n",
       "      <td>Madrid</td>\n",
       "      <td>2.035</td>\n",
       "      <td>NaN</td>\n",
       "      <td>2.101</td>\n",
       "      <td>1.804</td>\n",
       "      <td>NaN</td>\n",
       "      <td>MADRID</td>\n",
       "      <td>CEPSA</td>\n",
       "      <td>4587</td>\n",
       "      <td>4354</td>\n",
       "      <td>28</td>\n",
       "      <td>13</td>\n",
       "    </tr>\n",
       "  </tbody>\n",
       "</table>\n",
       "</div>"
      ],
      "text/plain": [
       "                    Fecha   C.P.                   Dirección  \\\n",
       "6875  26/10/2022 14:48:09  28033  CL CARRETERA CANILLAS, 150   \n",
       "6876  26/10/2022 14:48:09  28033     CALLE TOMAS REDONDO, 10   \n",
       "6877  26/10/2022 14:48:09  28033        AVENIDA SAN LUIS, 75   \n",
       "6878  26/10/2022 14:48:09  28033   PASEO DEL MAR CASPIO, S,N   \n",
       "\n",
       "               Horario    Latitud Localidad Longitud (WGS84) Municipio  \\\n",
       "6875          L-D: 24H  40,464889    MADRID        -3,636139    Madrid   \n",
       "6876          L-D: 24H  40,470083    MADRID        -3,627917    Madrid   \n",
       "6877          L-D: 24H  40,474167    MADRID        -3,664333    Madrid   \n",
       "6878  L-D: 05:59-23:59  40,473722    MADRID        -3,645028    Madrid   \n",
       "\n",
       "      Gasoleo A  Precio Gasoleo B  Gasoleo Premium  Gasolina 95 E5  \\\n",
       "6875      1.969               NaN            2.049           1.819   \n",
       "6876      1.969               NaN            2.049           1.819   \n",
       "6877      2.035               NaN            2.101           1.799   \n",
       "6878      2.035               NaN            2.101           1.804   \n",
       "\n",
       "      Gasolina 98 E5 Provincia Estación de Servicio IDEESS IDMunicipio  \\\n",
       "6875           1.959    MADRID                SHELL   4455        4354   \n",
       "6876           1.959    MADRID                SHELL  11400        4354   \n",
       "6877           1.936    MADRID                CEPSA   4357        4354   \n",
       "6878             NaN    MADRID                CEPSA   4587        4354   \n",
       "\n",
       "     IDProvincia IDCCAA  \n",
       "6875          28     13  \n",
       "6876          28     13  \n",
       "6877          28     13  \n",
       "6878          28     13  "
      ]
     },
     "execution_count": 130,
     "metadata": {},
     "output_type": "execute_result"
    }
   ],
   "source": [
    "gasolineras_cp()"
   ]
  },
  {
   "cell_type": "markdown",
   "id": "b457d0ba",
   "metadata": {},
   "source": [
    "---\n",
    "\n",
    "Step 5\n",
    "\n",
    "# Streamlit"
   ]
  },
  {
   "cell_type": "code",
   "execution_count": null,
   "id": "d2b9b07a",
   "metadata": {},
   "outputs": [
    {
     "data": {
      "text/plain": [
       "DeltaGenerator(_root_container=0, _provided_cursor=None, _parent=None, _block_type=None, _form_data=None)"
      ]
     },
     "execution_count": 5,
     "metadata": {},
     "output_type": "execute_result"
    }
   ],
   "source": [
    "st.title(\"Hello GeeksForGeeks !!!\")"
   ]
  },
  {
   "cell_type": "code",
   "execution_count": null,
   "id": "0e5b5b98",
   "metadata": {},
   "outputs": [],
   "source": []
  }
 ],
 "metadata": {
  "kernelspec": {
   "display_name": "Python [conda env:Final_Project]",
   "language": "python",
   "name": "conda-env-Final_Project-py"
  },
  "language_info": {
   "codemirror_mode": {
    "name": "ipython",
    "version": 3
   },
   "file_extension": ".py",
   "mimetype": "text/x-python",
   "name": "python",
   "nbconvert_exporter": "python",
   "pygments_lexer": "ipython3",
   "version": "3.10.6"
  },
  "vscode": {
   "interpreter": {
    "hash": "06d2c9a90e6a5a4f1f017caab109e756afec92c376804c145446e6d3f09f6250"
   }
  }
 },
 "nbformat": 4,
 "nbformat_minor": 5
}
