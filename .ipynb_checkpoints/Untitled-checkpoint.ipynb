{
 "cells": [
  {
   "cell_type": "markdown",
   "id": "3e6982b2",
   "metadata": {},
   "source": [
    "## MVP"
   ]
  },
  {
   "cell_type": "code",
   "execution_count": 1,
   "id": "2cef25b8",
   "metadata": {},
   "outputs": [],
   "source": [
    "# Imports\n",
    "\n",
    "# Pandas\n",
    "import pandas as pd \n",
    "\n",
    "# Importo libreria para conexión a API\n",
    "from urllib.request import urlopen\n",
    "\n",
    "\n",
    "# Importo libreria Json para que lea\n",
    "import json\n",
    "\n",
    "#Normalizar Json\n",
    "from pandas.io.json import json_normalize\n",
    "\n",
    "# Matploylib para visualizar gráficos\n",
    "import matplotlib.pyplot as plt \n",
    "\n",
    "# Importo libreria Streamlit para que se ejecute con el comando\n",
    "import streamlit as st "
   ]
  },
  {
   "cell_type": "markdown",
   "id": "9397380f",
   "metadata": {},
   "source": [
    "---\n",
    "Step 1 (Data Extraction)"
   ]
  },
  {
   "cell_type": "code",
   "execution_count": 2,
   "id": "55515f32",
   "metadata": {},
   "outputs": [],
   "source": [
    "# Definir las variables donde meto el string que contiene la URL\n",
    "\n",
    "endpoint ='https://sedeaplicaciones.minetur.gob.es'\n",
    "parametros = '/ServiciosRESTCarburantes/PreciosCarburantes/EstacionesTerrestres/'\n"
   ]
  },
  {
   "cell_type": "code",
   "execution_count": 3,
   "id": "2d466973",
   "metadata": {},
   "outputs": [
    {
     "data": {
      "text/plain": [
       "http.client.HTTPResponse"
      ]
     },
     "execution_count": 3,
     "metadata": {},
     "output_type": "execute_result"
    }
   ],
   "source": [
    "# Vamos a guardar en una variable nuestros datos (resultado, comida) \n",
    "\n",
    "response = urlopen(endpoint+parametros)\n",
    "type(response)\n"
   ]
  },
  {
   "cell_type": "code",
   "execution_count": 4,
   "id": "0031d835",
   "metadata": {},
   "outputs": [
    {
     "data": {
      "text/plain": [
       "dict"
      ]
     },
     "execution_count": 4,
     "metadata": {},
     "output_type": "execute_result"
    }
   ],
   "source": [
    "# Vamos a extraer del obejto, los datos\n",
    "\n",
    "data = response.read().decode('utf-8', 'replace')\n",
    "data = json.loads(data)\n",
    "type(data)\n"
   ]
  },
  {
   "cell_type": "code",
   "execution_count": 5,
   "id": "501a7f08",
   "metadata": {},
   "outputs": [
    {
     "data": {
      "text/html": [
       "<div>\n",
       "<style scoped>\n",
       "    .dataframe tbody tr th:only-of-type {\n",
       "        vertical-align: middle;\n",
       "    }\n",
       "\n",
       "    .dataframe tbody tr th {\n",
       "        vertical-align: top;\n",
       "    }\n",
       "\n",
       "    .dataframe thead th {\n",
       "        text-align: right;\n",
       "    }\n",
       "</style>\n",
       "<table border=\"1\" class=\"dataframe\">\n",
       "  <thead>\n",
       "    <tr style=\"text-align: right;\">\n",
       "      <th></th>\n",
       "      <th>Fecha</th>\n",
       "      <th>ListaEESSPrecio</th>\n",
       "      <th>Nota</th>\n",
       "      <th>ResultadoConsulta</th>\n",
       "    </tr>\n",
       "  </thead>\n",
       "  <tbody>\n",
       "    <tr>\n",
       "      <th>0</th>\n",
       "      <td>28/10/2022 18:18:20</td>\n",
       "      <td>{'C.P.': '02250', 'Dirección': 'AVENIDA CASTIL...</td>\n",
       "      <td>Archivo de todos los productos en todas las es...</td>\n",
       "      <td>OK</td>\n",
       "    </tr>\n",
       "    <tr>\n",
       "      <th>1</th>\n",
       "      <td>28/10/2022 18:18:20</td>\n",
       "      <td>{'C.P.': '02001', 'Dirección': 'CALLE FEDERICO...</td>\n",
       "      <td>Archivo de todos los productos en todas las es...</td>\n",
       "      <td>OK</td>\n",
       "    </tr>\n",
       "    <tr>\n",
       "      <th>2</th>\n",
       "      <td>28/10/2022 18:18:20</td>\n",
       "      <td>{'C.P.': '02001', 'Dirección': 'CALLE FEDERICO...</td>\n",
       "      <td>Archivo de todos los productos en todas las es...</td>\n",
       "      <td>OK</td>\n",
       "    </tr>\n",
       "    <tr>\n",
       "      <th>3</th>\n",
       "      <td>28/10/2022 18:18:20</td>\n",
       "      <td>{'C.P.': '02001', 'Dirección': 'AVENIDA 1º DE ...</td>\n",
       "      <td>Archivo de todos los productos en todas las es...</td>\n",
       "      <td>OK</td>\n",
       "    </tr>\n",
       "    <tr>\n",
       "      <th>4</th>\n",
       "      <td>28/10/2022 18:18:20</td>\n",
       "      <td>{'C.P.': '02001', 'Dirección': 'CALLE PRINCIPE...</td>\n",
       "      <td>Archivo de todos los productos en todas las es...</td>\n",
       "      <td>OK</td>\n",
       "    </tr>\n",
       "    <tr>\n",
       "      <th>...</th>\n",
       "      <td>...</td>\n",
       "      <td>...</td>\n",
       "      <td>...</td>\n",
       "      <td>...</td>\n",
       "    </tr>\n",
       "    <tr>\n",
       "      <th>11744</th>\n",
       "      <td>28/10/2022 18:18:20</td>\n",
       "      <td>{'C.P.': '50197', 'Dirección': 'POLIGONO CALLE...</td>\n",
       "      <td>Archivo de todos los productos en todas las es...</td>\n",
       "      <td>OK</td>\n",
       "    </tr>\n",
       "    <tr>\n",
       "      <th>11745</th>\n",
       "      <td>28/10/2022 18:18:20</td>\n",
       "      <td>{'C.P.': '50197', 'Dirección': 'RONDA FERIA DE...</td>\n",
       "      <td>Archivo de todos los productos en todas las es...</td>\n",
       "      <td>OK</td>\n",
       "    </tr>\n",
       "    <tr>\n",
       "      <th>11746</th>\n",
       "      <td>28/10/2022 18:18:20</td>\n",
       "      <td>{'C.P.': '50800', 'Dirección': 'CARRETERA N-33...</td>\n",
       "      <td>Archivo de todos los productos en todas las es...</td>\n",
       "      <td>OK</td>\n",
       "    </tr>\n",
       "    <tr>\n",
       "      <th>11747</th>\n",
       "      <td>28/10/2022 18:18:20</td>\n",
       "      <td>{'C.P.': '50800', 'Dirección': 'CALLE AUSTRIA,...</td>\n",
       "      <td>Archivo de todos los productos en todas las es...</td>\n",
       "      <td>OK</td>\n",
       "    </tr>\n",
       "    <tr>\n",
       "      <th>11748</th>\n",
       "      <td>28/10/2022 18:18:20</td>\n",
       "      <td>{'C.P.': '50810', 'Dirección': 'CALLE COOPERAT...</td>\n",
       "      <td>Archivo de todos los productos en todas las es...</td>\n",
       "      <td>OK</td>\n",
       "    </tr>\n",
       "  </tbody>\n",
       "</table>\n",
       "<p>11749 rows × 4 columns</p>\n",
       "</div>"
      ],
      "text/plain": [
       "                     Fecha                                    ListaEESSPrecio  \\\n",
       "0      28/10/2022 18:18:20  {'C.P.': '02250', 'Dirección': 'AVENIDA CASTIL...   \n",
       "1      28/10/2022 18:18:20  {'C.P.': '02001', 'Dirección': 'CALLE FEDERICO...   \n",
       "2      28/10/2022 18:18:20  {'C.P.': '02001', 'Dirección': 'CALLE FEDERICO...   \n",
       "3      28/10/2022 18:18:20  {'C.P.': '02001', 'Dirección': 'AVENIDA 1º DE ...   \n",
       "4      28/10/2022 18:18:20  {'C.P.': '02001', 'Dirección': 'CALLE PRINCIPE...   \n",
       "...                    ...                                                ...   \n",
       "11744  28/10/2022 18:18:20  {'C.P.': '50197', 'Dirección': 'POLIGONO CALLE...   \n",
       "11745  28/10/2022 18:18:20  {'C.P.': '50197', 'Dirección': 'RONDA FERIA DE...   \n",
       "11746  28/10/2022 18:18:20  {'C.P.': '50800', 'Dirección': 'CARRETERA N-33...   \n",
       "11747  28/10/2022 18:18:20  {'C.P.': '50800', 'Dirección': 'CALLE AUSTRIA,...   \n",
       "11748  28/10/2022 18:18:20  {'C.P.': '50810', 'Dirección': 'CALLE COOPERAT...   \n",
       "\n",
       "                                                    Nota ResultadoConsulta  \n",
       "0      Archivo de todos los productos en todas las es...                OK  \n",
       "1      Archivo de todos los productos en todas las es...                OK  \n",
       "2      Archivo de todos los productos en todas las es...                OK  \n",
       "3      Archivo de todos los productos en todas las es...                OK  \n",
       "4      Archivo de todos los productos en todas las es...                OK  \n",
       "...                                                  ...               ...  \n",
       "11744  Archivo de todos los productos en todas las es...                OK  \n",
       "11745  Archivo de todos los productos en todas las es...                OK  \n",
       "11746  Archivo de todos los productos en todas las es...                OK  \n",
       "11747  Archivo de todos los productos en todas las es...                OK  \n",
       "11748  Archivo de todos los productos en todas las es...                OK  \n",
       "\n",
       "[11749 rows x 4 columns]"
      ]
     },
     "execution_count": 5,
     "metadata": {},
     "output_type": "execute_result"
    }
   ],
   "source": [
    "# Crear Dataframe\n",
    "\n",
    "df = pd.DataFrame(data)\n",
    "df"
   ]
  },
  {
   "cell_type": "code",
   "execution_count": null,
   "id": "d6ede9d9",
   "metadata": {},
   "outputs": [],
   "source": []
  },
  {
   "cell_type": "markdown",
   "id": "bf936489",
   "metadata": {},
   "source": [
    "---\n",
    "\n",
    "Step 2 (Data Transformation)"
   ]
  },
  {
   "cell_type": "code",
   "execution_count": 6,
   "id": "82a65952",
   "metadata": {},
   "outputs": [
    {
     "data": {
      "text/plain": [
       "dict"
      ]
     },
     "execution_count": 6,
     "metadata": {},
     "output_type": "execute_result"
    }
   ],
   "source": [
    "# Análisis de la columna Lista EESS Precio\n",
    "\n",
    "diccionario = df['ListaEESSPrecio'].iloc[1]\n",
    "type(diccionario)"
   ]
  },
  {
   "cell_type": "code",
   "execution_count": 7,
   "id": "3207dce3",
   "metadata": {},
   "outputs": [
    {
     "data": {
      "text/plain": [
       "{'C.P.': '02001',\n",
       " 'Dirección': 'CALLE FEDERICO GARCIA LORCA, 1',\n",
       " 'Horario': 'L-D: 24H',\n",
       " 'Latitud': '39,000861',\n",
       " 'Localidad': 'ALBACETE',\n",
       " 'Longitud (WGS84)': '-1,849833',\n",
       " 'Margen': 'D',\n",
       " 'Municipio': 'Albacete',\n",
       " 'Precio Biodiesel': '',\n",
       " 'Precio Bioetanol': '',\n",
       " 'Precio Gas Natural Comprimido': '',\n",
       " 'Precio Gas Natural Licuado': '',\n",
       " 'Precio Gases licuados del petróleo': '',\n",
       " 'Precio Gasoleo A': '1,877',\n",
       " 'Precio Gasoleo B': '',\n",
       " 'Precio Gasoleo Premium': '',\n",
       " 'Precio Gasolina 95 E10': '',\n",
       " 'Precio Gasolina 95 E5': '1,657',\n",
       " 'Precio Gasolina 95 E5 Premium': '',\n",
       " 'Precio Gasolina 98 E10': '',\n",
       " 'Precio Gasolina 98 E5': '',\n",
       " 'Precio Hidrogeno': '',\n",
       " 'Provincia': 'ALBACETE',\n",
       " 'Remisión': 'dm',\n",
       " 'Rótulo': 'PLENOIL',\n",
       " 'Tipo Venta': 'P',\n",
       " '% BioEtanol': '0,0',\n",
       " '% Éster metílico': '0,0',\n",
       " 'IDEESS': '13933',\n",
       " 'IDMunicipio': '54',\n",
       " 'IDProvincia': '02',\n",
       " 'IDCCAA': '07'}"
      ]
     },
     "execution_count": 7,
     "metadata": {},
     "output_type": "execute_result"
    }
   ],
   "source": [
    "diccionario"
   ]
  },
  {
   "cell_type": "code",
   "execution_count": 8,
   "id": "b1c814d5",
   "metadata": {},
   "outputs": [
    {
     "data": {
      "text/html": [
       "<div>\n",
       "<style scoped>\n",
       "    .dataframe tbody tr th:only-of-type {\n",
       "        vertical-align: middle;\n",
       "    }\n",
       "\n",
       "    .dataframe tbody tr th {\n",
       "        vertical-align: top;\n",
       "    }\n",
       "\n",
       "    .dataframe thead th {\n",
       "        text-align: right;\n",
       "    }\n",
       "</style>\n",
       "<table border=\"1\" class=\"dataframe\">\n",
       "  <thead>\n",
       "    <tr style=\"text-align: right;\">\n",
       "      <th></th>\n",
       "      <th>Fecha</th>\n",
       "      <th>C.P.</th>\n",
       "      <th>Dirección</th>\n",
       "      <th>Horario</th>\n",
       "      <th>Latitud</th>\n",
       "      <th>Localidad</th>\n",
       "      <th>Longitud (WGS84)</th>\n",
       "      <th>Margen</th>\n",
       "      <th>Municipio</th>\n",
       "      <th>Precio Biodiesel</th>\n",
       "      <th>...</th>\n",
       "      <th>Provincia</th>\n",
       "      <th>Remisión</th>\n",
       "      <th>Rótulo</th>\n",
       "      <th>Tipo Venta</th>\n",
       "      <th>% BioEtanol</th>\n",
       "      <th>% Éster metílico</th>\n",
       "      <th>IDEESS</th>\n",
       "      <th>IDMunicipio</th>\n",
       "      <th>IDProvincia</th>\n",
       "      <th>IDCCAA</th>\n",
       "    </tr>\n",
       "  </thead>\n",
       "  <tbody>\n",
       "    <tr>\n",
       "      <th>0</th>\n",
       "      <td>28/10/2022 18:18:20</td>\n",
       "      <td>02250</td>\n",
       "      <td>AVENIDA CASTILLA LA MANCHA, 26</td>\n",
       "      <td>L-D: 07:00-22:00</td>\n",
       "      <td>39,211417</td>\n",
       "      <td>ABENGIBRE</td>\n",
       "      <td>-1,539167</td>\n",
       "      <td>D</td>\n",
       "      <td>Abengibre</td>\n",
       "      <td></td>\n",
       "      <td>...</td>\n",
       "      <td>ALBACETE</td>\n",
       "      <td>dm</td>\n",
       "      <td>Nº 10.935</td>\n",
       "      <td>P</td>\n",
       "      <td>0,0</td>\n",
       "      <td>0,0</td>\n",
       "      <td>4375</td>\n",
       "      <td>52</td>\n",
       "      <td>02</td>\n",
       "      <td>07</td>\n",
       "    </tr>\n",
       "    <tr>\n",
       "      <th>1</th>\n",
       "      <td>28/10/2022 18:18:20</td>\n",
       "      <td>02001</td>\n",
       "      <td>CALLE FEDERICO GARCIA LORCA, 1</td>\n",
       "      <td>L-D: 24H</td>\n",
       "      <td>39,000861</td>\n",
       "      <td>ALBACETE</td>\n",
       "      <td>-1,849833</td>\n",
       "      <td>D</td>\n",
       "      <td>Albacete</td>\n",
       "      <td></td>\n",
       "      <td>...</td>\n",
       "      <td>ALBACETE</td>\n",
       "      <td>dm</td>\n",
       "      <td>PLENOIL</td>\n",
       "      <td>P</td>\n",
       "      <td>0,0</td>\n",
       "      <td>0,0</td>\n",
       "      <td>13933</td>\n",
       "      <td>54</td>\n",
       "      <td>02</td>\n",
       "      <td>07</td>\n",
       "    </tr>\n",
       "    <tr>\n",
       "      <th>2</th>\n",
       "      <td>28/10/2022 18:18:20</td>\n",
       "      <td>02001</td>\n",
       "      <td>CALLE FEDERICO GARCIA LORCA, 5</td>\n",
       "      <td>L-S: 05:00-23:00</td>\n",
       "      <td>38,997722</td>\n",
       "      <td>ALBACETE</td>\n",
       "      <td>-1,846361</td>\n",
       "      <td>I</td>\n",
       "      <td>Albacete</td>\n",
       "      <td></td>\n",
       "      <td>...</td>\n",
       "      <td>ALBACETE</td>\n",
       "      <td>dm</td>\n",
       "      <td>CEPSA</td>\n",
       "      <td>R</td>\n",
       "      <td>0,0</td>\n",
       "      <td>0,0</td>\n",
       "      <td>4438</td>\n",
       "      <td>54</td>\n",
       "      <td>02</td>\n",
       "      <td>07</td>\n",
       "    </tr>\n",
       "    <tr>\n",
       "      <th>3</th>\n",
       "      <td>28/10/2022 18:18:20</td>\n",
       "      <td>02001</td>\n",
       "      <td>AVENIDA 1º DE MAYO, S/N</td>\n",
       "      <td>L-S: 08:00-22:00; D: 09:00-21:00</td>\n",
       "      <td>38,985667</td>\n",
       "      <td>ALBACETE</td>\n",
       "      <td>-1,868500</td>\n",
       "      <td>N</td>\n",
       "      <td>Albacete</td>\n",
       "      <td></td>\n",
       "      <td>...</td>\n",
       "      <td>ALBACETE</td>\n",
       "      <td>dm</td>\n",
       "      <td>CARREFOUR</td>\n",
       "      <td>P</td>\n",
       "      <td>0,0</td>\n",
       "      <td>0,0</td>\n",
       "      <td>10765</td>\n",
       "      <td>54</td>\n",
       "      <td>02</td>\n",
       "      <td>07</td>\n",
       "    </tr>\n",
       "    <tr>\n",
       "      <th>4</th>\n",
       "      <td>28/10/2022 18:18:20</td>\n",
       "      <td>02001</td>\n",
       "      <td>CALLE PRINCIPE DE ASTURIAS (POLÍGONO DE ROMICA...</td>\n",
       "      <td>L-D: 06:00-21:30</td>\n",
       "      <td>39,054694</td>\n",
       "      <td>ALBACETE</td>\n",
       "      <td>-1,832000</td>\n",
       "      <td>I</td>\n",
       "      <td>Albacete</td>\n",
       "      <td></td>\n",
       "      <td>...</td>\n",
       "      <td>ALBACETE</td>\n",
       "      <td>OM</td>\n",
       "      <td>BP ROMICA</td>\n",
       "      <td>P</td>\n",
       "      <td>0,0</td>\n",
       "      <td>0,0</td>\n",
       "      <td>12054</td>\n",
       "      <td>54</td>\n",
       "      <td>02</td>\n",
       "      <td>07</td>\n",
       "    </tr>\n",
       "    <tr>\n",
       "      <th>...</th>\n",
       "      <td>...</td>\n",
       "      <td>...</td>\n",
       "      <td>...</td>\n",
       "      <td>...</td>\n",
       "      <td>...</td>\n",
       "      <td>...</td>\n",
       "      <td>...</td>\n",
       "      <td>...</td>\n",
       "      <td>...</td>\n",
       "      <td>...</td>\n",
       "      <td>...</td>\n",
       "      <td>...</td>\n",
       "      <td>...</td>\n",
       "      <td>...</td>\n",
       "      <td>...</td>\n",
       "      <td>...</td>\n",
       "      <td>...</td>\n",
       "      <td>...</td>\n",
       "      <td>...</td>\n",
       "      <td>...</td>\n",
       "      <td>...</td>\n",
       "    </tr>\n",
       "    <tr>\n",
       "      <th>11744</th>\n",
       "      <td>28/10/2022 18:18:20</td>\n",
       "      <td>50197</td>\n",
       "      <td>POLIGONO CALLE TURIASO, 31</td>\n",
       "      <td>L-D: 24H</td>\n",
       "      <td>41,645722</td>\n",
       "      <td>ZARAGOZA</td>\n",
       "      <td>-0,974194</td>\n",
       "      <td>D</td>\n",
       "      <td>Zaragoza</td>\n",
       "      <td></td>\n",
       "      <td>...</td>\n",
       "      <td>ZARAGOZA</td>\n",
       "      <td>dm</td>\n",
       "      <td>NOIL</td>\n",
       "      <td>P</td>\n",
       "      <td>0,0</td>\n",
       "      <td>0,0</td>\n",
       "      <td>13917</td>\n",
       "      <td>8108</td>\n",
       "      <td>50</td>\n",
       "      <td>02</td>\n",
       "    </tr>\n",
       "    <tr>\n",
       "      <th>11745</th>\n",
       "      <td>28/10/2022 18:18:20</td>\n",
       "      <td>50197</td>\n",
       "      <td>RONDA FERIA DE MUESTRAS, DE LA, 20</td>\n",
       "      <td>L-D: 24H</td>\n",
       "      <td>41,637944</td>\n",
       "      <td>ZARAGOZA</td>\n",
       "      <td>-0,986389</td>\n",
       "      <td>D</td>\n",
       "      <td>Zaragoza</td>\n",
       "      <td></td>\n",
       "      <td>...</td>\n",
       "      <td>ZARAGOZA</td>\n",
       "      <td>OM</td>\n",
       "      <td>IDS</td>\n",
       "      <td>P</td>\n",
       "      <td>0,0</td>\n",
       "      <td>0,0</td>\n",
       "      <td>12472</td>\n",
       "      <td>8108</td>\n",
       "      <td>50</td>\n",
       "      <td>02</td>\n",
       "    </tr>\n",
       "    <tr>\n",
       "      <th>11746</th>\n",
       "      <td>28/10/2022 18:18:20</td>\n",
       "      <td>50800</td>\n",
       "      <td>CARRETERA N-330A KM. 24,000</td>\n",
       "      <td>L-D: 06:00-22:00</td>\n",
       "      <td>41,857000</td>\n",
       "      <td>ZUERA</td>\n",
       "      <td>-0,794000</td>\n",
       "      <td>D</td>\n",
       "      <td>Zuera</td>\n",
       "      <td></td>\n",
       "      <td>...</td>\n",
       "      <td>ZARAGOZA</td>\n",
       "      <td>OM</td>\n",
       "      <td>REPSOL</td>\n",
       "      <td>P</td>\n",
       "      <td>0,0</td>\n",
       "      <td>0,0</td>\n",
       "      <td>1452</td>\n",
       "      <td>8109</td>\n",
       "      <td>50</td>\n",
       "      <td>02</td>\n",
       "    </tr>\n",
       "    <tr>\n",
       "      <th>11747</th>\n",
       "      <td>28/10/2022 18:18:20</td>\n",
       "      <td>50800</td>\n",
       "      <td>CALLE AUSTRIA, 11,17</td>\n",
       "      <td>L-D: 24H</td>\n",
       "      <td>41,883583</td>\n",
       "      <td>ZUERA</td>\n",
       "      <td>-0,782833</td>\n",
       "      <td>D</td>\n",
       "      <td>Zuera</td>\n",
       "      <td></td>\n",
       "      <td>...</td>\n",
       "      <td>ZARAGOZA</td>\n",
       "      <td>dm</td>\n",
       "      <td>AN ENERGETICOS ZUERA</td>\n",
       "      <td>P</td>\n",
       "      <td>0,0</td>\n",
       "      <td>0,0</td>\n",
       "      <td>9085</td>\n",
       "      <td>8109</td>\n",
       "      <td>50</td>\n",
       "      <td>02</td>\n",
       "    </tr>\n",
       "    <tr>\n",
       "      <th>11748</th>\n",
       "      <td>28/10/2022 18:18:20</td>\n",
       "      <td>50810</td>\n",
       "      <td>CALLE COOPERATIVA, 2</td>\n",
       "      <td>L-D: 24H</td>\n",
       "      <td>41,938750</td>\n",
       "      <td>ONTINAR DE SALZ</td>\n",
       "      <td>-0,757611</td>\n",
       "      <td>D</td>\n",
       "      <td>Zuera</td>\n",
       "      <td></td>\n",
       "      <td>...</td>\n",
       "      <td>ZARAGOZA</td>\n",
       "      <td>dm</td>\n",
       "      <td>COOPERATIVA SAN ISIDRO</td>\n",
       "      <td>P</td>\n",
       "      <td>0,0</td>\n",
       "      <td>0,0</td>\n",
       "      <td>9068</td>\n",
       "      <td>8109</td>\n",
       "      <td>50</td>\n",
       "      <td>02</td>\n",
       "    </tr>\n",
       "  </tbody>\n",
       "</table>\n",
       "<p>11749 rows × 33 columns</p>\n",
       "</div>"
      ],
      "text/plain": [
       "                     Fecha   C.P.  \\\n",
       "0      28/10/2022 18:18:20  02250   \n",
       "1      28/10/2022 18:18:20  02001   \n",
       "2      28/10/2022 18:18:20  02001   \n",
       "3      28/10/2022 18:18:20  02001   \n",
       "4      28/10/2022 18:18:20  02001   \n",
       "...                    ...    ...   \n",
       "11744  28/10/2022 18:18:20  50197   \n",
       "11745  28/10/2022 18:18:20  50197   \n",
       "11746  28/10/2022 18:18:20  50800   \n",
       "11747  28/10/2022 18:18:20  50800   \n",
       "11748  28/10/2022 18:18:20  50810   \n",
       "\n",
       "                                               Dirección  \\\n",
       "0                         AVENIDA CASTILLA LA MANCHA, 26   \n",
       "1                         CALLE FEDERICO GARCIA LORCA, 1   \n",
       "2                         CALLE FEDERICO GARCIA LORCA, 5   \n",
       "3                                AVENIDA 1º DE MAYO, S/N   \n",
       "4      CALLE PRINCIPE DE ASTURIAS (POLÍGONO DE ROMICA...   \n",
       "...                                                  ...   \n",
       "11744                         POLIGONO CALLE TURIASO, 31   \n",
       "11745                 RONDA FERIA DE MUESTRAS, DE LA, 20   \n",
       "11746                        CARRETERA N-330A KM. 24,000   \n",
       "11747                               CALLE AUSTRIA, 11,17   \n",
       "11748                               CALLE COOPERATIVA, 2   \n",
       "\n",
       "                                Horario    Latitud        Localidad  \\\n",
       "0                      L-D: 07:00-22:00  39,211417        ABENGIBRE   \n",
       "1                              L-D: 24H  39,000861         ALBACETE   \n",
       "2                      L-S: 05:00-23:00  38,997722         ALBACETE   \n",
       "3      L-S: 08:00-22:00; D: 09:00-21:00  38,985667         ALBACETE   \n",
       "4                      L-D: 06:00-21:30  39,054694         ALBACETE   \n",
       "...                                 ...        ...              ...   \n",
       "11744                          L-D: 24H  41,645722         ZARAGOZA   \n",
       "11745                          L-D: 24H  41,637944         ZARAGOZA   \n",
       "11746                  L-D: 06:00-22:00  41,857000            ZUERA   \n",
       "11747                          L-D: 24H  41,883583            ZUERA   \n",
       "11748                          L-D: 24H  41,938750  ONTINAR DE SALZ   \n",
       "\n",
       "      Longitud (WGS84) Margen  Municipio Precio Biodiesel  ... Provincia  \\\n",
       "0            -1,539167      D  Abengibre                   ...  ALBACETE   \n",
       "1            -1,849833      D   Albacete                   ...  ALBACETE   \n",
       "2            -1,846361      I   Albacete                   ...  ALBACETE   \n",
       "3            -1,868500      N   Albacete                   ...  ALBACETE   \n",
       "4            -1,832000      I   Albacete                   ...  ALBACETE   \n",
       "...                ...    ...        ...              ...  ...       ...   \n",
       "11744        -0,974194      D   Zaragoza                   ...  ZARAGOZA   \n",
       "11745        -0,986389      D   Zaragoza                   ...  ZARAGOZA   \n",
       "11746        -0,794000      D      Zuera                   ...  ZARAGOZA   \n",
       "11747        -0,782833      D      Zuera                   ...  ZARAGOZA   \n",
       "11748        -0,757611      D      Zuera                   ...  ZARAGOZA   \n",
       "\n",
       "      Remisión                  Rótulo Tipo Venta % BioEtanol  \\\n",
       "0           dm               Nº 10.935          P         0,0   \n",
       "1           dm                 PLENOIL          P         0,0   \n",
       "2           dm                   CEPSA          R         0,0   \n",
       "3           dm               CARREFOUR          P         0,0   \n",
       "4           OM               BP ROMICA          P         0,0   \n",
       "...        ...                     ...        ...         ...   \n",
       "11744       dm                    NOIL          P         0,0   \n",
       "11745       OM                     IDS          P         0,0   \n",
       "11746       OM                  REPSOL          P         0,0   \n",
       "11747       dm    AN ENERGETICOS ZUERA          P         0,0   \n",
       "11748       dm  COOPERATIVA SAN ISIDRO          P         0,0   \n",
       "\n",
       "      % Éster metílico IDEESS IDMunicipio IDProvincia IDCCAA  \n",
       "0                  0,0   4375          52          02     07  \n",
       "1                  0,0  13933          54          02     07  \n",
       "2                  0,0   4438          54          02     07  \n",
       "3                  0,0  10765          54          02     07  \n",
       "4                  0,0  12054          54          02     07  \n",
       "...                ...    ...         ...         ...    ...  \n",
       "11744              0,0  13917        8108          50     02  \n",
       "11745              0,0  12472        8108          50     02  \n",
       "11746              0,0   1452        8109          50     02  \n",
       "11747              0,0   9085        8109          50     02  \n",
       "11748              0,0   9068        8109          50     02  \n",
       "\n",
       "[11749 rows x 33 columns]"
      ]
     },
     "execution_count": 8,
     "metadata": {},
     "output_type": "execute_result"
    }
   ],
   "source": [
    "# Extraigo informacion de columna EESS Precio, utilizando json normalize\n",
    "\n",
    "df_n = pd.concat([df[['Fecha']],pd.json_normalize(df['ListaEESSPrecio'])], axis=1)\n",
    "df_n\n"
   ]
  },
  {
   "cell_type": "code",
   "execution_count": 9,
   "id": "90463003",
   "metadata": {},
   "outputs": [],
   "source": [
    "# Guardamos df original para sucesion de tiempo\n",
    "#df_n.to_csv('2022-10-28x.csv', index=False)"
   ]
  },
  {
   "cell_type": "code",
   "execution_count": 10,
   "id": "2d75fcc5",
   "metadata": {},
   "outputs": [
    {
     "name": "stdout",
     "output_type": "stream",
     "text": [
      "<class 'pandas.core.frame.DataFrame'>\n",
      "RangeIndex: 11749 entries, 0 to 11748\n",
      "Data columns (total 33 columns):\n",
      " #   Column                              Non-Null Count  Dtype \n",
      "---  ------                              --------------  ----- \n",
      " 0   Fecha                               11749 non-null  object\n",
      " 1   C.P.                                11749 non-null  object\n",
      " 2   Dirección                           11749 non-null  object\n",
      " 3   Horario                             11749 non-null  object\n",
      " 4   Latitud                             11749 non-null  object\n",
      " 5   Localidad                           11749 non-null  object\n",
      " 6   Longitud (WGS84)                    11749 non-null  object\n",
      " 7   Margen                              11749 non-null  object\n",
      " 8   Municipio                           11749 non-null  object\n",
      " 9   Precio Biodiesel                    11749 non-null  object\n",
      " 10  Precio Bioetanol                    11749 non-null  object\n",
      " 11  Precio Gas Natural Comprimido       11749 non-null  object\n",
      " 12  Precio Gas Natural Licuado          11749 non-null  object\n",
      " 13  Precio Gases licuados del petróleo  11749 non-null  object\n",
      " 14  Precio Gasoleo A                    11749 non-null  object\n",
      " 15  Precio Gasoleo B                    11749 non-null  object\n",
      " 16  Precio Gasoleo Premium              11749 non-null  object\n",
      " 17  Precio Gasolina 95 E10              11749 non-null  object\n",
      " 18  Precio Gasolina 95 E5               11749 non-null  object\n",
      " 19  Precio Gasolina 95 E5 Premium       11749 non-null  object\n",
      " 20  Precio Gasolina 98 E10              11749 non-null  object\n",
      " 21  Precio Gasolina 98 E5               11749 non-null  object\n",
      " 22  Precio Hidrogeno                    11749 non-null  object\n",
      " 23  Provincia                           11749 non-null  object\n",
      " 24  Remisión                            11749 non-null  object\n",
      " 25  Rótulo                              11749 non-null  object\n",
      " 26  Tipo Venta                          11749 non-null  object\n",
      " 27  % BioEtanol                         11749 non-null  object\n",
      " 28  % Éster metílico                    11749 non-null  object\n",
      " 29  IDEESS                              11749 non-null  object\n",
      " 30  IDMunicipio                         11749 non-null  object\n",
      " 31  IDProvincia                         11749 non-null  object\n",
      " 32  IDCCAA                              11749 non-null  object\n",
      "dtypes: object(33)\n",
      "memory usage: 3.0+ MB\n"
     ]
    }
   ],
   "source": [
    "df_n.info()"
   ]
  },
  {
   "cell_type": "markdown",
   "id": "ee524e6e",
   "metadata": {},
   "source": [
    "---\n",
    "Step (3): EDA"
   ]
  },
  {
   "cell_type": "markdown",
   "id": "7027ceb6",
   "metadata": {},
   "source": [
    "                                                    Análisis de Columnas"
   ]
  },
  {
   "cell_type": "markdown",
   "id": "4deaad69",
   "metadata": {},
   "source": [
    "# Fecha"
   ]
  },
  {
   "cell_type": "code",
   "execution_count": 11,
   "id": "dd7735c8",
   "metadata": {},
   "outputs": [
    {
     "name": "stdout",
     "output_type": "stream",
     "text": [
      "<class 'numpy.ndarray'>\n",
      "1\n"
     ]
    },
    {
     "data": {
      "text/plain": [
       "array(['28/10/2022 18:18:20'], dtype=object)"
      ]
     },
     "execution_count": 11,
     "metadata": {},
     "output_type": "execute_result"
    }
   ],
   "source": [
    "# Fecha (solo hay una fecha)\n",
    "Fecha = df_n['Fecha'].unique()\n",
    "print(type(Fecha))\n",
    "print(len(Fecha))\n",
    "Fecha"
   ]
  },
  {
   "cell_type": "code",
   "execution_count": 12,
   "id": "5d054a1e",
   "metadata": {},
   "outputs": [
    {
     "data": {
      "text/plain": [
       "0"
      ]
     },
     "execution_count": 12,
     "metadata": {},
     "output_type": "execute_result"
    }
   ],
   "source": [
    "# Nulos \n",
    "nulos_f = df_n['Fecha'].isnull().sum()\n",
    "nulos_f"
   ]
  },
  {
   "cell_type": "markdown",
   "id": "addc43ab",
   "metadata": {},
   "source": [
    "# Código Postal"
   ]
  },
  {
   "cell_type": "code",
   "execution_count": 13,
   "id": "603eca2d",
   "metadata": {},
   "outputs": [
    {
     "name": "stdout",
     "output_type": "stream",
     "text": [
      "<class 'numpy.ndarray'>\n",
      "4524\n"
     ]
    },
    {
     "data": {
      "text/plain": [
       "array(['02250', '02001', '02005', ..., '50197', '50800', '50810'],\n",
       "      dtype=object)"
      ]
     },
     "execution_count": 13,
     "metadata": {},
     "output_type": "execute_result"
    }
   ],
   "source": [
    "# Columna C.P.\n",
    "cp = df_n['C.P.'].unique()\n",
    "print(type(cp))\n",
    "print(len(cp))\n",
    "cp\n",
    "# En Esaña hay 11752 codigos postales en total"
   ]
  },
  {
   "cell_type": "code",
   "execution_count": 14,
   "id": "de4b57fa",
   "metadata": {},
   "outputs": [
    {
     "data": {
      "text/plain": [
       "0"
      ]
     },
     "execution_count": 14,
     "metadata": {},
     "output_type": "execute_result"
    }
   ],
   "source": [
    "# Nulos \n",
    "nulos_cp = df_n['C.P.'].isnull().sum()\n",
    "nulos_cp"
   ]
  },
  {
   "cell_type": "markdown",
   "id": "cd713bcb",
   "metadata": {},
   "source": [
    "# Dirección"
   ]
  },
  {
   "cell_type": "code",
   "execution_count": 15,
   "id": "3ce78674",
   "metadata": {},
   "outputs": [
    {
     "name": "stdout",
     "output_type": "stream",
     "text": [
      "<class 'numpy.ndarray'>\n",
      "11430\n"
     ]
    },
    {
     "data": {
      "text/plain": [
       "array(['AVENIDA CASTILLA LA MANCHA, 26', 'CALLE FEDERICO GARCIA LORCA, 1',\n",
       "       'CALLE FEDERICO GARCIA LORCA, 5', ...,\n",
       "       'RONDA FERIA DE MUESTRAS, DE LA, 20',\n",
       "       'CARRETERA N-330A KM. 24,000', 'CALLE AUSTRIA, 11,17'],\n",
       "      dtype=object)"
      ]
     },
     "execution_count": 15,
     "metadata": {},
     "output_type": "execute_result"
    }
   ],
   "source": [
    "# Columna  Dirección\n",
    "direccion = df_n['Dirección'].unique()\n",
    "print(type(direccion))\n",
    "print(len(direccion))\n",
    "direccion\n"
   ]
  },
  {
   "cell_type": "code",
   "execution_count": 16,
   "id": "e1030055",
   "metadata": {},
   "outputs": [
    {
     "data": {
      "text/plain": [
       "0"
      ]
     },
     "execution_count": 16,
     "metadata": {},
     "output_type": "execute_result"
    }
   ],
   "source": [
    "# Nulos dirección\n",
    "nulos_cp = df_n['Dirección'].isnull().sum()\n",
    "nulos_cp"
   ]
  },
  {
   "cell_type": "markdown",
   "id": "b540d156",
   "metadata": {},
   "source": [
    "# Horario"
   ]
  },
  {
   "cell_type": "code",
   "execution_count": 17,
   "id": "d951b048",
   "metadata": {},
   "outputs": [
    {
     "data": {
      "text/plain": [
       "array(['L-D: 07:00-22:00', 'L-D: 24H', 'L-S: 05:00-23:00', ...,\n",
       "       'L-V: 05:30-22:00; S: 07:00-15:00; D: 08:00-15:00',\n",
       "       'L-V: 08:00-22:30; S: 10:00-22:30',\n",
       "       'L-V: 05:00-22:00; S-D: 08:00-22:00'], dtype=object)"
      ]
     },
     "execution_count": 17,
     "metadata": {},
     "output_type": "execute_result"
    }
   ],
   "source": [
    "# Horario\n",
    "horario = df_n['Horario'].unique()\n",
    "horario"
   ]
  },
  {
   "cell_type": "code",
   "execution_count": 18,
   "id": "6cb34506",
   "metadata": {},
   "outputs": [
    {
     "data": {
      "text/plain": [
       "0"
      ]
     },
     "execution_count": 18,
     "metadata": {},
     "output_type": "execute_result"
    }
   ],
   "source": [
    "# Nulos horario\n",
    "nulos_h = df_n['Horario'].isnull().sum()\n",
    "nulos_h"
   ]
  },
  {
   "cell_type": "markdown",
   "id": "129d07e9",
   "metadata": {},
   "source": [
    "# Latitud"
   ]
  },
  {
   "cell_type": "code",
   "execution_count": 19,
   "id": "aa9399ed",
   "metadata": {},
   "outputs": [
    {
     "name": "stdout",
     "output_type": "stream",
     "text": [
      "11391\n"
     ]
    },
    {
     "data": {
      "text/plain": [
       "array(['39,211417', '39,000861', '38,997722', ..., '41,857000',\n",
       "       '41,883583', '41,938750'], dtype=object)"
      ]
     },
     "execution_count": 19,
     "metadata": {},
     "output_type": "execute_result"
    }
   ],
   "source": [
    "#Latitud (Coincide Latitud y Longitud con las coordenadas en las gasolineras de Google Maps)\n",
    "latitud = df_n['Latitud'].unique()\n",
    "print(len(latitud ))\n",
    "latitud\n"
   ]
  },
  {
   "cell_type": "code",
   "execution_count": 20,
   "id": "b12f974a",
   "metadata": {},
   "outputs": [
    {
     "data": {
      "text/plain": [
       "0"
      ]
     },
     "execution_count": 20,
     "metadata": {},
     "output_type": "execute_result"
    }
   ],
   "source": [
    "# Nulos Latitud\n",
    "nulos_l = df_n['Latitud'].isnull().sum()\n",
    "nulos_l"
   ]
  },
  {
   "cell_type": "markdown",
   "id": "14f71694",
   "metadata": {},
   "source": [
    "# Longitud"
   ]
  },
  {
   "cell_type": "code",
   "execution_count": 21,
   "id": "26f3092e",
   "metadata": {
    "scrolled": true
   },
   "outputs": [
    {
     "name": "stdout",
     "output_type": "stream",
     "text": [
      "11505\n"
     ]
    },
    {
     "data": {
      "text/plain": [
       "array(['-1,539167', '-1,849833', '-1,846361', ..., '-0,794000',\n",
       "       '-0,782833', '-0,757611'], dtype=object)"
      ]
     },
     "execution_count": 21,
     "metadata": {},
     "output_type": "execute_result"
    }
   ],
   "source": [
    "# Longitud (Coincide Latitud y Longitud con las coordenadas en las gasolineras de Google Maps)\n",
    "Longitud = df_n['Longitud (WGS84)'].unique()\n",
    "print(len(Longitud))\n",
    "Longitud\n"
   ]
  },
  {
   "cell_type": "code",
   "execution_count": 22,
   "id": "e018ad91",
   "metadata": {},
   "outputs": [
    {
     "data": {
      "text/plain": [
       "0"
      ]
     },
     "execution_count": 22,
     "metadata": {},
     "output_type": "execute_result"
    }
   ],
   "source": [
    "# Nulos Longitud\n",
    "nulos_long = df_n['Longitud (WGS84)'].isnull().sum()\n",
    "nulos_long"
   ]
  },
  {
   "cell_type": "markdown",
   "id": "baaa7f76",
   "metadata": {},
   "source": [
    "# Localidad"
   ]
  },
  {
   "cell_type": "code",
   "execution_count": 23,
   "id": "05337df3",
   "metadata": {},
   "outputs": [
    {
     "name": "stdout",
     "output_type": "stream",
     "text": [
      "4221\n"
     ]
    },
    {
     "data": {
      "text/plain": [
       "array(['ABENGIBRE', 'ALBACETE', 'SANTA ANA', ..., 'VILLARRAPA', 'ZUERA',\n",
       "       'ONTINAR DE SALZ'], dtype=object)"
      ]
     },
     "execution_count": 23,
     "metadata": {},
     "output_type": "execute_result"
    }
   ],
   "source": [
    "#Localidad\n",
    "Localidad = df_n['Localidad'].unique()\n",
    "print(len(Localidad))\n",
    "Localidad"
   ]
  },
  {
   "cell_type": "code",
   "execution_count": 24,
   "id": "46fae344",
   "metadata": {},
   "outputs": [
    {
     "data": {
      "text/plain": [
       "0"
      ]
     },
     "execution_count": 24,
     "metadata": {},
     "output_type": "execute_result"
    }
   ],
   "source": [
    "# Nulos Localidad\n",
    "nulos_loc = df_n['Localidad'].isnull().sum()\n",
    "nulos_loc"
   ]
  },
  {
   "cell_type": "markdown",
   "id": "8fa3baee",
   "metadata": {},
   "source": [
    "# Municipio "
   ]
  },
  {
   "cell_type": "code",
   "execution_count": 25,
   "id": "0e69e607",
   "metadata": {},
   "outputs": [
    {
     "name": "stdout",
     "output_type": "stream",
     "text": [
      "3425\n"
     ]
    },
    {
     "data": {
      "text/plain": [
       "array(['Abengibre', 'Albacete', 'Alcadozo', ...,\n",
       "       'Villarroya de la Sierra', 'Zaragoza', 'Zuera'], dtype=object)"
      ]
     },
     "execution_count": 25,
     "metadata": {},
     "output_type": "execute_result"
    }
   ],
   "source": [
    "# Municipio (En España hay 8131 Municipios)\n",
    "Municipio = df_n['Municipio'].unique() \n",
    "print(len(Municipio))\n",
    "Municipio\n",
    "\n"
   ]
  },
  {
   "cell_type": "code",
   "execution_count": 26,
   "id": "223081b3",
   "metadata": {},
   "outputs": [
    {
     "data": {
      "text/plain": [
       "0"
      ]
     },
     "execution_count": 26,
     "metadata": {},
     "output_type": "execute_result"
    }
   ],
   "source": [
    "# Nulos Municipio\n",
    "nulos_loc = df_n['Municipio'].isnull().sum()\n",
    "nulos_loc"
   ]
  },
  {
   "cell_type": "markdown",
   "id": "cc6b303b",
   "metadata": {},
   "source": [
    "# Margen"
   ]
  },
  {
   "cell_type": "code",
   "execution_count": 27,
   "id": "cf022a39",
   "metadata": {},
   "outputs": [
    {
     "name": "stdout",
     "output_type": "stream",
     "text": [
      "3\n"
     ]
    },
    {
     "data": {
      "text/plain": [
       "array(['D', 'I', 'N'], dtype=object)"
      ]
     },
     "execution_count": 27,
     "metadata": {},
     "output_type": "execute_result"
    }
   ],
   "source": [
    "# Margen\n",
    "Margen = df_n['Margen'].unique()\n",
    "print(len(Margen))\n",
    "Margen"
   ]
  },
  {
   "cell_type": "markdown",
   "id": "2d2ea3bb",
   "metadata": {},
   "source": [
    "# Provincia "
   ]
  },
  {
   "cell_type": "code",
   "execution_count": 28,
   "id": "e1fa2d5f",
   "metadata": {},
   "outputs": [
    {
     "name": "stdout",
     "output_type": "stream",
     "text": [
      "52\n"
     ]
    },
    {
     "data": {
      "text/plain": [
       "array(['ALBACETE', 'ALICANTE', 'ALMERÍA', 'ARABA/ÁLAVA', 'ASTURIAS',\n",
       "       'ÁVILA', 'BADAJOZ', 'BALEARS (ILLES)', 'BARCELONA', 'BIZKAIA',\n",
       "       'BURGOS', 'CÁCERES', 'CÁDIZ', 'CANTABRIA', 'CASTELLÓN / CASTELLÓ',\n",
       "       'CEUTA', 'CIUDAD REAL', 'CÓRDOBA', 'CORUÑA (A)', 'CUENCA',\n",
       "       'GIPUZKOA', 'GIRONA', 'GRANADA', 'GUADALAJARA', 'HUELVA', 'HUESCA',\n",
       "       'JAÉN', 'LEÓN', 'LLEIDA', 'LUGO', 'MADRID', 'MÁLAGA', 'MELILLA',\n",
       "       'MURCIA', 'NAVARRA', 'OURENSE', 'PALENCIA', 'PALMAS (LAS)',\n",
       "       'PONTEVEDRA', 'RIOJA (LA)', 'SALAMANCA', 'SANTA CRUZ DE TENERIFE',\n",
       "       'SEGOVIA', 'SEVILLA', 'SORIA', 'TARRAGONA', 'TERUEL', 'TOLEDO',\n",
       "       'VALENCIA / VALÈNCIA', 'VALLADOLID', 'ZAMORA', 'ZARAGOZA'],\n",
       "      dtype=object)"
      ]
     },
     "execution_count": 28,
     "metadata": {},
     "output_type": "execute_result"
    }
   ],
   "source": [
    "# Provincia (Están todas las Provinicas de España en nuestro df)\n",
    "Provincia = df_n['Provincia'].unique()\n",
    "print(len(Provincia))\n",
    "Provincia"
   ]
  },
  {
   "cell_type": "code",
   "execution_count": 29,
   "id": "b27108a2",
   "metadata": {},
   "outputs": [
    {
     "data": {
      "text/plain": [
       "0"
      ]
     },
     "execution_count": 29,
     "metadata": {},
     "output_type": "execute_result"
    }
   ],
   "source": [
    "# Nulos Provincia\n",
    "nulos_prov = df_n['Provincia'].isnull().sum()\n",
    "nulos_prov"
   ]
  },
  {
   "cell_type": "markdown",
   "id": "722a58a1",
   "metadata": {},
   "source": [
    "# Remision"
   ]
  },
  {
   "cell_type": "code",
   "execution_count": 30,
   "id": "78c3b1c9",
   "metadata": {},
   "outputs": [
    {
     "name": "stdout",
     "output_type": "stream",
     "text": [
      "2\n",
      "<class 'numpy.ndarray'>\n"
     ]
    },
    {
     "data": {
      "text/plain": [
       "array(['dm', 'OM'], dtype=object)"
      ]
     },
     "execution_count": 30,
     "metadata": {},
     "output_type": "execute_result"
    }
   ],
   "source": [
    "# Remisión (Sistema de envío de información de precios y de ventas a través de API)\n",
    "Remision = df_n['Remisión'].unique()\n",
    "print(len(Remision))\n",
    "print(type(Remision))\n",
    "Remision"
   ]
  },
  {
   "cell_type": "markdown",
   "id": "cc886f49",
   "metadata": {},
   "source": [
    "# Rótulo"
   ]
  },
  {
   "cell_type": "code",
   "execution_count": 31,
   "id": "8157f57d",
   "metadata": {},
   "outputs": [
    {
     "name": "stdout",
     "output_type": "stream",
     "text": [
      "4003\n",
      "<class 'numpy.ndarray'>\n"
     ]
    },
    {
     "data": {
      "text/plain": [
       "array(['Nº 10.935', 'PLENOIL', 'CEPSA', ..., 'DAGO',\n",
       "       'COOPERATIVA SAN LAMBERTO', 'AN ENERGETICOS ZUERA'], dtype=object)"
      ]
     },
     "execution_count": 31,
     "metadata": {},
     "output_type": "execute_result"
    }
   ],
   "source": [
    "# Rótulo (En España hay 3952 marcas de Gasolineras en España según datos de Google)\n",
    "Rotulo = df_n['Rótulo'].unique()\n",
    "print(len(Rotulo))\n",
    "print(type(Rotulo))\n",
    "Rotulo\n"
   ]
  },
  {
   "cell_type": "markdown",
   "id": "676ec408",
   "metadata": {},
   "source": [
    "# Tipo de Venta"
   ]
  },
  {
   "cell_type": "code",
   "execution_count": 32,
   "id": "7b2d09eb",
   "metadata": {},
   "outputs": [
    {
     "name": "stdout",
     "output_type": "stream",
     "text": [
      "2\n",
      "<class 'numpy.ndarray'>\n"
     ]
    },
    {
     "data": {
      "text/plain": [
       "array(['P', 'R'], dtype=object)"
      ]
     },
     "execution_count": 32,
     "metadata": {},
     "output_type": "execute_result"
    }
   ],
   "source": [
    "# Tipo Venta\n",
    "tv = df_n['Tipo Venta'].unique()\n",
    "print(len(tv))\n",
    "print(type(tv))\n",
    "tv"
   ]
  },
  {
   "cell_type": "markdown",
   "id": "7aad165f",
   "metadata": {},
   "source": [
    "# Porcentaje de Bioetanol"
   ]
  },
  {
   "cell_type": "code",
   "execution_count": 33,
   "id": "95e6e4b0",
   "metadata": {},
   "outputs": [
    {
     "name": "stdout",
     "output_type": "stream",
     "text": [
      "3\n",
      "<class 'numpy.ndarray'>\n"
     ]
    },
    {
     "data": {
      "text/plain": [
       "array(['0,0', '25,0', '85,0'], dtype=object)"
      ]
     },
     "execution_count": 33,
     "metadata": {},
     "output_type": "execute_result"
    }
   ],
   "source": [
    "# % BioEtanol (La diferencia entre gasolinas E5 o E10 significan el porcentaje de Etanol (5 o 10%))\n",
    "bioetanol = df_n['% BioEtanol'].unique()\n",
    "print(len(bioetanol))\n",
    "print(type(bioetanol))\n",
    "bioetanol"
   ]
  },
  {
   "cell_type": "markdown",
   "id": "54c7afc2",
   "metadata": {},
   "source": [
    "# Porcentaje de Éster Metílico"
   ]
  },
  {
   "cell_type": "code",
   "execution_count": 34,
   "id": "19aff9d9",
   "metadata": {},
   "outputs": [
    {
     "name": "stdout",
     "output_type": "stream",
     "text": [
      "6\n",
      "<class 'numpy.ndarray'>\n"
     ]
    },
    {
     "data": {
      "text/plain": [
       "array(['0,0', '7,0', '12,0', '20,0', '30,0', '10,0'], dtype=object)"
      ]
     },
     "execution_count": 34,
     "metadata": {},
     "output_type": "execute_result"
    }
   ],
   "source": [
    "# % Éster metílico (solo para Biodiesel)\n",
    "em = df_n['% Éster metílico'].unique()\n",
    "print(len(em))\n",
    "print(type(em))\n",
    "em"
   ]
  },
  {
   "cell_type": "markdown",
   "id": "e1bfb0ff",
   "metadata": {},
   "source": [
    "#  IDEESS"
   ]
  },
  {
   "cell_type": "code",
   "execution_count": 35,
   "id": "1bcc7c30",
   "metadata": {},
   "outputs": [
    {
     "name": "stdout",
     "output_type": "stream",
     "text": [
      "11749\n"
     ]
    },
    {
     "data": {
      "text/plain": [
       "array(['4375', '13933', '4438', ..., '1452', '9085', '9068'], dtype=object)"
      ]
     },
     "execution_count": 35,
     "metadata": {},
     "output_type": "execute_result"
    }
   ],
   "source": [
    "# IDEESS (ID Estación de Servicio, los mismos que estaciones (filas))\n",
    "IDEESS = df_n['IDEESS'].unique()\n",
    "print(len(IDEESS))\n",
    "type(IDEESS)\n",
    "IDEESS "
   ]
  },
  {
   "cell_type": "code",
   "execution_count": 36,
   "id": "89c026f2",
   "metadata": {},
   "outputs": [
    {
     "data": {
      "text/plain": [
       "0"
      ]
     },
     "execution_count": 36,
     "metadata": {},
     "output_type": "execute_result"
    }
   ],
   "source": [
    "# Nulos IDEESS\n",
    "nulos_IDEESS = df_n['IDEESS'].isnull().sum()\n",
    "nulos_IDEESS"
   ]
  },
  {
   "cell_type": "markdown",
   "id": "48e885d2",
   "metadata": {},
   "source": [
    "# ID Municipio"
   ]
  },
  {
   "cell_type": "code",
   "execution_count": 37,
   "id": "7dc3d12d",
   "metadata": {},
   "outputs": [
    {
     "name": "stdout",
     "output_type": "stream",
     "text": [
      "3426\n"
     ]
    },
    {
     "data": {
      "text/plain": [
       "array(['52', '54', '57', ..., '8103', '8108', '8109'], dtype=object)"
      ]
     },
     "execution_count": 37,
     "metadata": {},
     "output_type": "execute_result"
    }
   ],
   "source": [
    "# IDMunicipio (un ID más que municipios)\n",
    "idmun = df_n['IDMunicipio'].unique()\n",
    "print(len(idmun))\n",
    "type(idmun)\n",
    "idmun"
   ]
  },
  {
   "cell_type": "code",
   "execution_count": 38,
   "id": "c857c488",
   "metadata": {},
   "outputs": [
    {
     "data": {
      "text/plain": [
       "0"
      ]
     },
     "execution_count": 38,
     "metadata": {},
     "output_type": "execute_result"
    }
   ],
   "source": [
    "# Nulos ID Municipio\n",
    "nulos_IDMunicipio = df_n['IDMunicipio'].isnull().sum()\n",
    "nulos_IDMunicipio"
   ]
  },
  {
   "cell_type": "markdown",
   "id": "6568aaff",
   "metadata": {},
   "source": [
    "# ID Provincia"
   ]
  },
  {
   "cell_type": "code",
   "execution_count": 39,
   "id": "896e7bf1",
   "metadata": {},
   "outputs": [
    {
     "name": "stdout",
     "output_type": "stream",
     "text": [
      "52\n"
     ]
    },
    {
     "data": {
      "text/plain": [
       "array(['02', '03', '04', '01', '33', '05', '06', '07', '08', '48', '09',\n",
       "       '10', '11', '39', '12', '51', '13', '14', '15', '16', '20', '17',\n",
       "       '18', '19', '21', '22', '23', '24', '25', '27', '28', '29', '52',\n",
       "       '30', '31', '32', '34', '35', '36', '26', '37', '38', '40', '41',\n",
       "       '42', '43', '44', '45', '46', '47', '49', '50'], dtype=object)"
      ]
     },
     "execution_count": 39,
     "metadata": {},
     "output_type": "execute_result"
    }
   ],
   "source": [
    "# IDProvincia (Los mismos ID que Provincias)\n",
    "idprov = df_n['IDProvincia'].unique()\n",
    "print(len(idprov))\n",
    "type(idprov)\n",
    "idprov"
   ]
  },
  {
   "cell_type": "code",
   "execution_count": 40,
   "id": "0383161f",
   "metadata": {},
   "outputs": [
    {
     "data": {
      "text/plain": [
       "0"
      ]
     },
     "execution_count": 40,
     "metadata": {},
     "output_type": "execute_result"
    }
   ],
   "source": [
    "nulos_IDProvincia = df_n['IDProvincia'].isnull().sum()\n",
    "nulos_IDProvincia"
   ]
  },
  {
   "cell_type": "markdown",
   "id": "f0203c4c",
   "metadata": {},
   "source": [
    "# ID CCAA"
   ]
  },
  {
   "cell_type": "code",
   "execution_count": 41,
   "id": "cc731089",
   "metadata": {},
   "outputs": [
    {
     "name": "stdout",
     "output_type": "stream",
     "text": [
      "19\n"
     ]
    },
    {
     "data": {
      "text/plain": [
       "array(['07', '10', '01', '16', '03', '08', '11', '04', '09', '06', '18',\n",
       "       '12', '02', '13', '19', '14', '15', '05', '17'], dtype=object)"
      ]
     },
     "execution_count": 41,
     "metadata": {},
     "output_type": "execute_result"
    }
   ],
   "source": [
    "# IDCCAA (ID Comunidades Autónomas, 17 CCAA + Ceuta + Melilla)\n",
    "# IDProvincia (Los mismos ID que Provincias)\n",
    "idccaa = df_n['IDCCAA'].unique()\n",
    "print(len(idccaa))\n",
    "type(idccaa)\n",
    "idccaa"
   ]
  },
  {
   "cell_type": "markdown",
   "id": "4cf497b1",
   "metadata": {},
   "source": [
    "                                                Columnas Numéricas\n",
    "                                                "
   ]
  },
  {
   "cell_type": "markdown",
   "id": "cd72e5ad",
   "metadata": {},
   "source": [
    "# Biodiesel"
   ]
  },
  {
   "cell_type": "code",
   "execution_count": 42,
   "id": "01c87a0e",
   "metadata": {},
   "outputs": [
    {
     "name": "stdout",
     "output_type": "stream",
     "text": [
      "26\n",
      "<class 'numpy.ndarray'>\n"
     ]
    },
    {
     "data": {
      "text/plain": [
       "array(['', '1,978', '2,189', '1,999', '2,069', '1,769', '1,799', '2,049',\n",
       "       '1,749', '1,889', '1,449', '1,968', '1,879', '2,030', '2,039',\n",
       "       '1,869', '2,089', '1,849', '1,899', '1,839', '1,939', '1,809',\n",
       "       '2,040', '1,859', '1,759', '1,966'], dtype=object)"
      ]
     },
     "execution_count": 42,
     "metadata": {},
     "output_type": "execute_result"
    }
   ],
   "source": [
    "Biodiesel = df_n['Precio Biodiesel'].unique()\n",
    "print(len(Biodiesel))\n",
    "print(type(Biodiesel))\n",
    "Biodiesel"
   ]
  },
  {
   "cell_type": "code",
   "execution_count": 43,
   "id": "c1172885",
   "metadata": {},
   "outputs": [],
   "source": [
    "# Convertimos columna categórica a numérica\n",
    "df_n['Precio Biodiesel']=df_n['Precio Biodiesel'].str.replace(',','.')\n",
    "df_n[['Precio Biodiesel']]=df_n[['Precio Biodiesel']].apply(pd.to_numeric)"
   ]
  },
  {
   "cell_type": "code",
   "execution_count": 44,
   "id": "3ba01c1b",
   "metadata": {},
   "outputs": [
    {
     "data": {
      "text/plain": [
       "count    37.000000\n",
       "mean      1.898649\n",
       "std       0.139675\n",
       "min       1.449000\n",
       "25%       1.799000\n",
       "50%       1.879000\n",
       "75%       1.999000\n",
       "max       2.189000\n",
       "Name: Precio Biodiesel, dtype: float64"
      ]
     },
     "execution_count": 44,
     "metadata": {},
     "output_type": "execute_result"
    }
   ],
   "source": [
    "df_n['Precio Biodiesel'].describe()\n"
   ]
  },
  {
   "cell_type": "code",
   "execution_count": 45,
   "id": "0b00d7af",
   "metadata": {},
   "outputs": [
    {
     "data": {
      "text/plain": [
       "11712"
      ]
     },
     "execution_count": 45,
     "metadata": {},
     "output_type": "execute_result"
    }
   ],
   "source": [
    "# Registros sin venta Biodiesel\n",
    "sin_suministro_b = df_n['Precio Biodiesel'].isnull().sum()\n",
    "sin_suministro_b"
   ]
  },
  {
   "cell_type": "markdown",
   "id": "fd2b4066",
   "metadata": {},
   "source": [
    "## Precio Bioetanol "
   ]
  },
  {
   "cell_type": "code",
   "execution_count": 46,
   "id": "edbcaac9",
   "metadata": {},
   "outputs": [
    {
     "name": "stdout",
     "output_type": "stream",
     "text": [
      "6\n",
      "<class 'numpy.ndarray'>\n"
     ]
    },
    {
     "data": {
      "text/plain": [
       "array(['', '2,219', '1,982', '1,487', '2,049', '1,869'], dtype=object)"
      ]
     },
     "execution_count": 46,
     "metadata": {},
     "output_type": "execute_result"
    }
   ],
   "source": [
    "Bioetanol = df_n['Precio Bioetanol'].unique()\n",
    "print(len(Bioetanol))\n",
    "print(type(Bioetanol))\n",
    "Bioetanol"
   ]
  },
  {
   "cell_type": "code",
   "execution_count": 47,
   "id": "3f6be22e",
   "metadata": {},
   "outputs": [],
   "source": [
    "# Convertimos columna categórica a numérica\n",
    "df_n['Precio Bioetanol']=df_n['Precio Bioetanol'].str.replace(',','.')\n",
    "df_n[['Precio Bioetanol']]=df_n[['Precio Bioetanol']].apply(pd.to_numeric)"
   ]
  },
  {
   "cell_type": "code",
   "execution_count": 48,
   "id": "336b94fa",
   "metadata": {},
   "outputs": [
    {
     "data": {
      "text/plain": [
       "count    5.000000\n",
       "mean     1.921200\n",
       "std      0.273847\n",
       "min      1.487000\n",
       "25%      1.869000\n",
       "50%      1.982000\n",
       "75%      2.049000\n",
       "max      2.219000\n",
       "Name: Precio Bioetanol, dtype: float64"
      ]
     },
     "execution_count": 48,
     "metadata": {},
     "output_type": "execute_result"
    }
   ],
   "source": [
    "df_n['Precio Bioetanol'].describe()"
   ]
  },
  {
   "cell_type": "code",
   "execution_count": 49,
   "id": "8614e236",
   "metadata": {},
   "outputs": [
    {
     "data": {
      "text/plain": [
       "11744"
      ]
     },
     "execution_count": 49,
     "metadata": {},
     "output_type": "execute_result"
    }
   ],
   "source": [
    "# Registros sin venta Biodiesel\n",
    "sin_suministro_be = df_n['Precio Bioetanol'].isnull().sum()\n",
    "sin_suministro_be"
   ]
  },
  {
   "cell_type": "markdown",
   "id": "de4c6c51",
   "metadata": {},
   "source": [
    "## Precio Gas Natural Comprimido"
   ]
  },
  {
   "cell_type": "code",
   "execution_count": 50,
   "id": "b2824198",
   "metadata": {},
   "outputs": [
    {
     "name": "stdout",
     "output_type": "stream",
     "text": [
      "34\n",
      "<class 'numpy.ndarray'>\n"
     ]
    },
    {
     "data": {
      "text/plain": [
       "array(['', '1,990', '1,468', '1,685', '1,555', '1,518', '1,438', '1,488',\n",
       "       '1,439', '1,520', '1,359', '1,398', '1,690', '1,978', '1,789',\n",
       "       '1,399', '2,523', '1,483', '2,199', '1,455', '2,379', '1,584',\n",
       "       '1,485', '1,201', '1,615', '3,299', '2,279', '2,350', '2,986',\n",
       "       '3,700', '1,433', '1,594', '1,709', '1,569'], dtype=object)"
      ]
     },
     "execution_count": 50,
     "metadata": {},
     "output_type": "execute_result"
    }
   ],
   "source": [
    "Gas_n_c = df_n['Precio Gas Natural Comprimido'].unique()\n",
    "print(len(Gas_n_c))\n",
    "print(type(Gas_n_c))\n",
    "Gas_n_c"
   ]
  },
  {
   "cell_type": "code",
   "execution_count": 51,
   "id": "1ac50945",
   "metadata": {},
   "outputs": [],
   "source": [
    "# Convertimos columna categórica a numérica\n",
    "df_n['Precio Gas Natural Comprimido']=df_n['Precio Gas Natural Comprimido'].str.replace(',','.')\n",
    "df_n[['Precio Gas Natural Comprimido']]=df_n[['Precio Gas Natural Comprimido']].apply(pd.to_numeric)"
   ]
  },
  {
   "cell_type": "code",
   "execution_count": 52,
   "id": "1f65143d",
   "metadata": {},
   "outputs": [
    {
     "data": {
      "text/plain": [
       "count    122.000000\n",
       "mean       1.744623\n",
       "std        0.383032\n",
       "min        1.201000\n",
       "25%        1.468000\n",
       "50%        1.589000\n",
       "75%        1.990000\n",
       "max        3.700000\n",
       "Name: Precio Gas Natural Comprimido, dtype: float64"
      ]
     },
     "execution_count": 52,
     "metadata": {},
     "output_type": "execute_result"
    }
   ],
   "source": [
    "df_n['Precio Gas Natural Comprimido'].describe()"
   ]
  },
  {
   "cell_type": "code",
   "execution_count": 53,
   "id": "e7a5a486",
   "metadata": {},
   "outputs": [
    {
     "data": {
      "text/plain": [
       "11744"
      ]
     },
     "execution_count": 53,
     "metadata": {},
     "output_type": "execute_result"
    }
   ],
   "source": [
    "# Registros sin venta Biodiesel\n",
    "sin_suministro_be = df_n['Precio Bioetanol'].isnull().sum()\n",
    "sin_suministro_be"
   ]
  },
  {
   "cell_type": "markdown",
   "id": "33ddd76e",
   "metadata": {},
   "source": [
    "# Precio Gas Natural Licuado"
   ]
  },
  {
   "cell_type": "code",
   "execution_count": 54,
   "id": "d5685b8d",
   "metadata": {},
   "outputs": [
    {
     "name": "stdout",
     "output_type": "stream",
     "text": [
      "17\n",
      "<class 'numpy.ndarray'>\n"
     ]
    },
    {
     "data": {
      "text/plain": [
       "array(['', '1,449', '1,398', '1,368', '1,439', '1,369', '1,399', '1,660',\n",
       "       '1,948', '2,506', '1,499', '1,433', '1,405', '2,279', '3,650',\n",
       "       '1,489', '1,519'], dtype=object)"
      ]
     },
     "execution_count": 54,
     "metadata": {},
     "output_type": "execute_result"
    }
   ],
   "source": [
    "Gas_nat_lic = df_n['Precio Gas Natural Licuado'].unique()\n",
    "print(len(Gas_nat_lic))\n",
    "print(type(Gas_nat_lic))\n",
    "Gas_nat_lic"
   ]
  },
  {
   "cell_type": "code",
   "execution_count": 55,
   "id": "90f17335",
   "metadata": {},
   "outputs": [],
   "source": [
    "# Convertimos columna categórica a numérica, primero tenemos que sustituir , por .\n",
    "df_n['Precio Gas Natural Licuado']=df_n['Precio Gas Natural Licuado'].str.replace(',','.')\n",
    "df_n[['Precio Gas Natural Licuado']]=df_n[['Precio Gas Natural Licuado']].apply(pd.to_numeric)"
   ]
  },
  {
   "cell_type": "code",
   "execution_count": 56,
   "id": "7b35df2f",
   "metadata": {},
   "outputs": [
    {
     "data": {
      "text/plain": [
       "count    81.000000\n",
       "mean      1.487222\n",
       "std       0.318278\n",
       "min       1.368000\n",
       "25%       1.398000\n",
       "50%       1.398000\n",
       "75%       1.439000\n",
       "max       3.650000\n",
       "Name: Precio Gas Natural Licuado, dtype: float64"
      ]
     },
     "execution_count": 56,
     "metadata": {},
     "output_type": "execute_result"
    }
   ],
   "source": [
    "df_n['Precio Gas Natural Licuado'].describe()"
   ]
  },
  {
   "cell_type": "code",
   "execution_count": 57,
   "id": "0eca734e",
   "metadata": {},
   "outputs": [
    {
     "data": {
      "text/plain": [
       "11668"
      ]
     },
     "execution_count": 57,
     "metadata": {},
     "output_type": "execute_result"
    }
   ],
   "source": [
    "# Registros sin venta Gas NAtural Licuado\n",
    "sin_suministro_gnl = df_n['Precio Gas Natural Licuado'].isnull().sum()\n",
    "sin_suministro_gnl"
   ]
  },
  {
   "cell_type": "markdown",
   "id": "ba2199ad",
   "metadata": {},
   "source": [
    "# Precio Gases licuados del petróleo"
   ]
  },
  {
   "cell_type": "code",
   "execution_count": 58,
   "id": "bdff2425",
   "metadata": {},
   "outputs": [
    {
     "name": "stdout",
     "output_type": "stream",
     "text": [
      "117\n",
      "<class 'numpy.ndarray'>\n"
     ]
    },
    {
     "data": {
      "text/plain": [
       "array(['', '0,898', '1,019', '1,089', '1,029', '1,059', '1,049', '0,969',\n",
       "       '0,968', '1,020', '1,079', '1,099', '1,039', '1,010', '1,159',\n",
       "       '0,959', '0,830', '0,930', '1,077', '1,088', '1,038', '1,069',\n",
       "       '0,939', '0,910', '1,052', '1,009', '1,200', '1,119', '0,999',\n",
       "       '1,179', '0,980', '1,169', '0,859', '1,094', '1,095', '1,129',\n",
       "       '1,054', '0,909', '0,899', '0,885', '1,098', '0,950', '0,886',\n",
       "       '1,017', '0,929', '1,189', '1,060', '1,037', '1,090', '1,109',\n",
       "       '1,008', '0,979', '1,018', '0,865', '0,965', '0,650', '1,138',\n",
       "       '0,805', '1,022', '0,998', '0,879', '0,790', '1,004', '0,990',\n",
       "       '0,970', '0,997', '0,946', '1,150', '1,025', '1,149', '0,949',\n",
       "       '0,889', '1,139', '1,140', '1,220', '1,260', '1,250', '1,160',\n",
       "       '0,989', '0,759', '1,070', '1,118', '0,769', '0,935', '1,115',\n",
       "       '0,919', '1,100', '0,977', '1,106', '0,948', '1,048', '1,130',\n",
       "       '1,199', '1,155', '0,809', '0,801', '0,808', '0,799', '0,789',\n",
       "       '0,839', '0,800', '0,818', '0,829', '0,958', '1,026', '0,870',\n",
       "       '0,967', '1,042', '0,974', '0,944', '0,905', '0,925', '0,915',\n",
       "       '0,850', '0,779', '1,185', '0,849'], dtype=object)"
      ]
     },
     "execution_count": 58,
     "metadata": {},
     "output_type": "execute_result"
    }
   ],
   "source": [
    "Gas_nat_lic_pet = df_n['Precio Gases licuados del petróleo'].unique()\n",
    "print(len(Gas_nat_lic_pet))\n",
    "print(type(Gas_nat_lic_pet))\n",
    "Gas_nat_lic_pet"
   ]
  },
  {
   "cell_type": "code",
   "execution_count": 59,
   "id": "94e05d01",
   "metadata": {},
   "outputs": [],
   "source": [
    "# Convertimos columna categórica a numérica\n",
    "df_n['Precio Gases licuados del petróleo']=df_n['Precio Gases licuados del petróleo'].str.replace(',','.')\n",
    "df_n[['Precio Gases licuados del petróleo']]=df_n[['Precio Gases licuados del petróleo']].apply(pd.to_numeric)"
   ]
  },
  {
   "cell_type": "code",
   "execution_count": 60,
   "id": "43ae8314",
   "metadata": {},
   "outputs": [
    {
     "data": {
      "text/plain": [
       "count    833.000000\n",
       "mean       1.029089\n",
       "std        0.079036\n",
       "min        0.650000\n",
       "25%        0.999000\n",
       "50%        1.039000\n",
       "75%        1.069000\n",
       "max        1.260000\n",
       "Name: Precio Gases licuados del petróleo, dtype: float64"
      ]
     },
     "execution_count": 60,
     "metadata": {},
     "output_type": "execute_result"
    }
   ],
   "source": [
    "df_n['Precio Gases licuados del petróleo'].describe()"
   ]
  },
  {
   "cell_type": "code",
   "execution_count": 61,
   "id": "f39d6004",
   "metadata": {},
   "outputs": [
    {
     "data": {
      "text/plain": [
       "10916"
      ]
     },
     "execution_count": 61,
     "metadata": {},
     "output_type": "execute_result"
    }
   ],
   "source": [
    "# Registros sin venta Gas NAtural Licuado del Petróleo\n",
    "sin_suministro_gnlp = df_n['Precio Gases licuados del petróleo'].isnull().sum()\n",
    "sin_suministro_gnlp"
   ]
  },
  {
   "cell_type": "code",
   "execution_count": 62,
   "id": "0a616a04",
   "metadata": {},
   "outputs": [
    {
     "data": {
      "text/plain": [
       "0"
      ]
     },
     "execution_count": 62,
     "metadata": {},
     "output_type": "execute_result"
    }
   ],
   "source": [
    "ceros_sin_suministro_gnlp = (df_n['Precio Gases licuados del petróleo'] == 0).sum()\n",
    "ceros_sin_suministro_gnlp"
   ]
  },
  {
   "cell_type": "markdown",
   "id": "579f7966",
   "metadata": {},
   "source": [
    "# Gasoleo A"
   ]
  },
  {
   "cell_type": "code",
   "execution_count": 63,
   "id": "b84c8a71",
   "metadata": {},
   "outputs": [
    {
     "name": "stdout",
     "output_type": "stream",
     "text": [
      "430\n",
      "<class 'numpy.ndarray'>\n"
     ]
    },
    {
     "data": {
      "text/plain": [
       "array(['1,939', '1,877', '2,040', '1,999', '2,029', '1,898', '1,959',\n",
       "       '2,019', '1,899', '2,035', '1,949', '2,039', '1,929', '1,950', '',\n",
       "       '1,909', '2,009', '2,049', '1,890', '2,259', '1,869', '2,059',\n",
       "       '1,919', '1,969', '1,979', '2,015', '1,878', '1,995', '1,893',\n",
       "       '1,954', '1,842', '1,989', '1,870', '1,889', '1,885', '1,987',\n",
       "       '1,960', '1,930', '1,880', '1,849', '1,860', '1,820', '2,069',\n",
       "       '1,940', '1,835', '1,760', '1,840', '1,879', '1,856', '1,897',\n",
       "       '1,875', '1,882', '1,858', '2,025', '1,994', '1,857', '1,841',\n",
       "       '2,020', '2,014', '1,974', '1,808', '1,809', '1,829', '1,837',\n",
       "       '1,888', '2,043', '2,012', '2,010', '1,998', '2,038', '1,887',\n",
       "       '1,918', '1,859', '1,971', '1,951', '1,948', '2,024', '1,927',\n",
       "       '1,855', '1,984', '1,965', '1,834', '1,982', '1,845', '2,034',\n",
       "       '2,004', '1,944', '2,045', '1,936', '1,975', '1,867', '1,937',\n",
       "       '2,058', '1,978', '1,900', '1,839', '2,089', '2,074', '1,908',\n",
       "       '2,046', '1,799', '1,807', '1,914', '2,017', '1,749', '1,866',\n",
       "       '1,817', '1,819', '1,777', '1,895', '1,922', '2,055', '1,868',\n",
       "       '1,797', '1,801', '1,892', '1,865', '1,920', '1,968', '1,985',\n",
       "       '1,911', '2,006', '1,886', '1,810', '1,945', '1,729', '1,734',\n",
       "       '1,830', '1,850', '1,793', '1,844', '1,827', '1,997', '2,005',\n",
       "       '1,967', '2,018', '1,825', '2,079', '2,099', '2,064', '1,874',\n",
       "       '2,075', '1,913', '2,000', '1,907', '1,905', '1,915', '1,990',\n",
       "       '2,065', '2,050', '1,932', '2,048', '1,926', '1,947', '1,970',\n",
       "       '1,903', '1,884', '1,972', '2,109', '1,961', '2,016', '1,779',\n",
       "       '1,774', '1,739', '1,902', '1,957', '1,891', '1,935', '1,910',\n",
       "       '1,955', '1,958', '1,838', '1,815', '2,085', '1,925', '2,028',\n",
       "       '2,086', '2,135', '2,097', '2,119', '1,988', '1,896', '2,047',\n",
       "       '2,032', '2,088', '1,894', '1,977', '1,790', '1,848', '2,139',\n",
       "       '2,057', '1,794', '1,847', '1,934', '1,904', '2,030', '1,789',\n",
       "       '1,852', '1,964', '1,791', '1,906', '1,836', '2,125', '1,792',\n",
       "       '1,773', '1,846', '1,787', '1,917', '1,938', '1,864', '1,824',\n",
       "       '1,828', '1,795', '2,336', '1,731', '2,084', '1,928', '1,883',\n",
       "       '2,044', '1,943', '1,640', '1,861', '1,942', '1,759', '1,924',\n",
       "       '1,991', '1,916', '1,980', '1,699', '2,054', '1,806', '1,802',\n",
       "       '1,805', '1,598', '1,579', '1,599', '1,912', '1,818', '2,036',\n",
       "       '1,826', '1,962', '1,941', '1,873', '1,705', '1,832', '1,800',\n",
       "       '1,843', '1,821', '1,475', '1,505', '1,766', '1,740', '1,813',\n",
       "       '1,679', '1,921', '1,854', '2,061', '2,066', '2,068', '1,993',\n",
       "       '1,996', '2,078', '1,786', '1,833', '1,814', '2,037', '2,115',\n",
       "       '2,159', '1,973', '1,862', '2,095', '2,094', '2,007', '2,027',\n",
       "       '2,070', '1,785', '2,309', '1,872', '1,770', '1,594', '2,008',\n",
       "       '2,022', '2,200', '1,863', '1,750', '2,080', '1,776', '1,952',\n",
       "       '1,804', '1,992', '1,881', '1,966', '1,769', '1,780', '1,831',\n",
       "       '2,042', '1,796', '1,931', '1,798', '1,711', '1,596', '1,851',\n",
       "       '1,986', '1,901', '2,072', '2,249', '2,199', '2,052', '1,963',\n",
       "       '1,504', '1,535', '1,423', '1,417', '2,002', '1,732', '2,181',\n",
       "       '1,664', '1,981', '1,983', '1,499', '1,489', '1,374', '1,509',\n",
       "       '1,469', '1,449', '1,434', '1,484', '1,464', '1,436', '1,399',\n",
       "       '1,534', '1,537', '1,548', '1,539', '1,529', '1,519', '1,524',\n",
       "       '1,506', '1,495', '1,522', '1,518', '1,514', '1,513', '1,485',\n",
       "       '1,468', '1,487', '1,451', '1,439', '1,527', '1,479', '1,517',\n",
       "       '1,531', '1,569', '1,784', '1,573', '1,528', '1,532', '1,544',\n",
       "       '1,387', '1,494', '1,559', '1,497', '1,397', '1,459', '1,510',\n",
       "       '1,520', '1,525', '1,549', '1,483', '1,526', '1,490', '1,500',\n",
       "       '1,448', '1,454', '1,567', '1,419', '1,609', '1,871', '1,720',\n",
       "       '1,953', '1,853', '1,472', '1,658', '1,515', '1,480', '1,444',\n",
       "       '1,507', '1,429', '1,788', '1,695', '1,678', '1,547', '1,512',\n",
       "       '1,588', '1,498', '1,445', '1,465', '1,435', '1,680', '1,715',\n",
       "       '1,315', '1,493', '1,295', '1,508', '1,538', '1,503', '1,572',\n",
       "       '1,488', '1,575', '2,051', '1,685', '2,274', '1,822', '1,783',\n",
       "       '1,530', '1,933', '1,823', '1,768', '1,876', '2,105', '2,150',\n",
       "       '1,782', '1,923', '1,771', '2,101', '1,767', '2,041', '1,803',\n",
       "       '1,811', '1,660'], dtype=object)"
      ]
     },
     "execution_count": 63,
     "metadata": {},
     "output_type": "execute_result"
    }
   ],
   "source": [
    "Gasoleo_A = df_n['Precio Gasoleo A'].unique()\n",
    "print(len(Gasoleo_A))\n",
    "print(type(Gasoleo_A))\n",
    "Gasoleo_A"
   ]
  },
  {
   "cell_type": "code",
   "execution_count": 64,
   "id": "03079146",
   "metadata": {},
   "outputs": [],
   "source": [
    "# Convertimos columna categórica a numérica, primero tenemos que sustituir , por .\n",
    "df_n['Precio Gasoleo A']=df_n['Precio Gasoleo A'].str.replace(',','.')\n",
    "df_n[['Precio Gasoleo A']]=df_n[['Precio Gasoleo A']].apply(pd.to_numeric)"
   ]
  },
  {
   "cell_type": "code",
   "execution_count": 65,
   "id": "b2093cd9",
   "metadata": {},
   "outputs": [
    {
     "data": {
      "text/plain": [
       "count    11409.000000\n",
       "mean         1.954775\n",
       "std          0.117493\n",
       "min          1.295000\n",
       "25%          1.899000\n",
       "50%          1.989000\n",
       "75%          2.029000\n",
       "max          2.336000\n",
       "Name: Precio Gasoleo A, dtype: float64"
      ]
     },
     "execution_count": 65,
     "metadata": {},
     "output_type": "execute_result"
    }
   ],
   "source": [
    "df_n['Precio Gasoleo A'].describe()\n"
   ]
  },
  {
   "cell_type": "code",
   "execution_count": 66,
   "id": "a0c57df7",
   "metadata": {},
   "outputs": [
    {
     "data": {
      "text/plain": [
       "340"
      ]
     },
     "execution_count": 66,
     "metadata": {},
     "output_type": "execute_result"
    }
   ],
   "source": [
    "# Registros sin venta Gasoleo A\n",
    "sin_suministro_gA = df_n['Precio Gasoleo A'].isnull().sum()\n",
    "sin_suministro_gA"
   ]
  },
  {
   "cell_type": "code",
   "execution_count": 67,
   "id": "2fd05b04",
   "metadata": {},
   "outputs": [
    {
     "data": {
      "text/plain": [
       "0"
      ]
     },
     "execution_count": 67,
     "metadata": {},
     "output_type": "execute_result"
    }
   ],
   "source": [
    "ceros_sin_suministro_gA = (df_n['Precio Gasoleo A'] == 0).sum()\n",
    "ceros_sin_suministro_gA"
   ]
  },
  {
   "cell_type": "markdown",
   "id": "6b8fd3b9",
   "metadata": {},
   "source": [
    "# Gasoleo B"
   ]
  },
  {
   "cell_type": "code",
   "execution_count": 68,
   "id": "90c596c9",
   "metadata": {},
   "outputs": [
    {
     "name": "stdout",
     "output_type": "stream",
     "text": [
      "430\n",
      "<class 'numpy.ndarray'>\n"
     ]
    },
    {
     "data": {
      "text/plain": [
       "array(['1,440', '', '1,636', '1,450', '1,649', '1,539', '1,559', '1,433',\n",
       "       '1,690', '1,520', '1,550', '1,470', '1,609', '1,593', '1,484',\n",
       "       '1,489', '1,428', '1,672', '1,479', '1,499', '1,699', '1,665',\n",
       "       '1,617', '1,570', '1,603', '1,530', '1,669', '1,449', '1,390',\n",
       "       '1,490', '1,680', '1,679', '1,639', '1,399', '1,410', '1,574',\n",
       "       '1,629', '1,457', '1,267', '1,511', '1,659', '1,589', '1,614',\n",
       "       '1,569', '1,458', '1,599', '1,719', '1,714', '1,689', '1,579',\n",
       "       '1,123', '1,697', '1,600', '1,612', '1,749', '1,585', '1,625',\n",
       "       '1,779', '1,580', '1,692', '1,529', '1,469', '1,691', '1,623',\n",
       "       '1,643', '1,635', '1,491', '1,553', '1,500', '1,495', '1,619',\n",
       "       '1,473', '1,434', '1,414', '1,403', '1,488', '1,632', '1,578',\n",
       "       '1,634', '1,630', '1,695', '1,519', '1,620', '1,549', '1,675',\n",
       "       '1,769', '1,759', '1,640', '1,849', '1,739', '1,729', '1,430',\n",
       "       '1,627', '1,350', '1,740', '1,658', '1,653', '1,657', '1,674',\n",
       "       '1,590', '1,724', '1,558', '1,715', '1,604', '1,560', '1,684',\n",
       "       '1,800', '1,622', '1,540', '1,702', '1,616', '1,624', '1,700',\n",
       "       '1,565', '1,525', '1,839', '1,596', '1,819', '1,561', '1,444',\n",
       "       '1,637', '1,377', '1,607', '1,618', '1,583', '1,670', '1,480',\n",
       "       '1,528', '1,510', '1,406', '1,750', '1,340', '1,566', '1,451',\n",
       "       '1,475', '1,650', '1,109', '1,466', '1,398', '1,349', '1,509',\n",
       "       '1,492', '1,477', '1,426', '1,380', '1,533', '1,402', '1,522',\n",
       "       '1,447', '1,662', '1,421', '1,393', '1,400', '1,385', '1,409',\n",
       "       '1,537', '1,315', '1,545', '1,420', '1,459', '1,471', '1,439',\n",
       "       '1,592', '1,682', '1,792', '1,949', '1,765', '1,535', '1,547',\n",
       "       '1,707', '1,706', '1,496', '1,660', '1,748', '1,460', '1,726',\n",
       "       '1,709', '1,562', '1,534', '1,608', '1,638', '1,725', '1,594',\n",
       "       '1,474', '1,564', '1,330', '1,333', '1,416', '1,671', '1,597',\n",
       "       '1,009', '1,615', '1,588', '1,415', '1,668', '1,482', '1,465',\n",
       "       '1,631', '1,412', '1,300', '1,429', '1,517', '1,468', '1,628',\n",
       "       '1,595', '1,446', '1,538', '1,571', '1,455', '1,626', '1,621',\n",
       "       '1,601', '1,598', '1,498', '1,610', '1,359', '1,435', '1,485',\n",
       "       '1,423', '1,654', '1,673', '1,606', '1,448', '1,693', '1,462',\n",
       "       '1,299', '1,483', '1,581', '1,555', '1,417', '1,360', '1,387',\n",
       "       '1,408', '1,554', '1,611', '1,419', '1,404', '1,394', '1,445',\n",
       "       '1,395', '1,336', '1,322', '1,664', '1,546', '1,379', '1,382',\n",
       "       '1,575', '1,436', '1,666', '1,646', '1,655', '1,424', '1,698',\n",
       "       '1,661', '1,685', '1,647', '1,710', '1,651', '1,686', '1,452',\n",
       "       '1,454', '1,556', '1,441', '1,427', '1,464', '1,584', '1,746',\n",
       "       '1,744', '1,734', '1,713', '1,514', '1,757', '1,683', '1,736',\n",
       "       '1,890', '1,774', '1,587', '1,542', '1,799', '1,548', '1,667',\n",
       "       '1,442', '1,602', '1,605', '1,383', '1,504', '1,526', '1,633',\n",
       "       '1,370', '1,900', '1,375', '1,337', '1,456', '1,389', '1,397',\n",
       "       '1,760', '1,573', '1,431', '1,503', '1,532', '1,577', '1,641',\n",
       "       '1,576', '1,505', '1,214', '1,586', '1,507', '1,704', '1,552',\n",
       "       '1,391', '1,463', '1,405', '1,572', '1,386', '1,438', '1,425',\n",
       "       '1,306', '1,656', '1,676', '1,497', '1,170', '1,291', '1,487',\n",
       "       '1,392', '1,481', '1,467', '1,329', '1,320', '1,677', '1,752',\n",
       "       '1,783', '1,648', '1,352', '1,523', '1,356', '1,735', '1,418',\n",
       "       '1,396', '1,346', '1,521', '1,513', '1,327', '1,374', '1,701',\n",
       "       '1,361', '1,494', '1,688', '1,694', '1,289', '1,730', '1,355',\n",
       "       '1,567', '1,644', '1,755', '1,613', '1,422', '1,453', '1,502',\n",
       "       '1,771', '1,789', '1,717', '1,437', '1,248', '1,645', '1,678',\n",
       "       '1,432', '1,518', '1,524', '1,411', '1,461', '1,354', '1,302',\n",
       "       '1,413', '1,130', '1,476', '1,563', '1,335', '1,262', '1,557',\n",
       "       '1,269', '1,486', '1,286', '1,551', '1,527', '1,516', '1,253',\n",
       "       '1,501', '1,339', '1,328', '1,508', '1,809', '1,310', '1,296',\n",
       "       '1,478', '1,732', '1,345', '1,642', '1,227', '1,568', '1,290',\n",
       "       '1,280', '1,230', '1,582'], dtype=object)"
      ]
     },
     "execution_count": 68,
     "metadata": {},
     "output_type": "execute_result"
    }
   ],
   "source": [
    "Gasoleo_B = df_n['Precio Gasoleo B'].unique()\n",
    "print(len(Gasoleo_A))\n",
    "print(type(Gasoleo_A))\n",
    "Gasoleo_B"
   ]
  },
  {
   "cell_type": "code",
   "execution_count": 69,
   "id": "b9ff1285",
   "metadata": {},
   "outputs": [],
   "source": [
    "# Convertimos columna categórica a numérica, primero tenemos que sustituir , por .\n",
    "df_n['Precio Gasoleo B']=df_n['Precio Gasoleo B'].str.replace(',','.')\n",
    "df_n[['Precio Gasoleo B']]=df_n[['Precio Gasoleo B']].apply(pd.to_numeric)"
   ]
  },
  {
   "cell_type": "code",
   "execution_count": 70,
   "id": "40bfd63c",
   "metadata": {},
   "outputs": [
    {
     "data": {
      "text/plain": [
       "count    2998.000000\n",
       "mean        1.564772\n",
       "std         0.103750\n",
       "min         1.009000\n",
       "25%         1.488250\n",
       "50%         1.579000\n",
       "75%         1.640000\n",
       "max         1.949000\n",
       "Name: Precio Gasoleo B, dtype: float64"
      ]
     },
     "execution_count": 70,
     "metadata": {},
     "output_type": "execute_result"
    }
   ],
   "source": [
    "df_n['Precio Gasoleo B'].describe()\n"
   ]
  },
  {
   "cell_type": "code",
   "execution_count": 71,
   "id": "ee5cfffa",
   "metadata": {},
   "outputs": [
    {
     "data": {
      "text/plain": [
       "8751"
      ]
     },
     "execution_count": 71,
     "metadata": {},
     "output_type": "execute_result"
    }
   ],
   "source": [
    "# Registros sin venta Gasoleo B\n",
    "sin_suministro_gB = df_n['Precio Gasoleo B'].isnull().sum()\n",
    "sin_suministro_gB"
   ]
  },
  {
   "cell_type": "code",
   "execution_count": 72,
   "id": "1654e9f7",
   "metadata": {},
   "outputs": [
    {
     "data": {
      "text/plain": [
       "0"
      ]
     },
     "execution_count": 72,
     "metadata": {},
     "output_type": "execute_result"
    }
   ],
   "source": [
    "ceros_sin_suministro_gB = (df_n['Precio Gasoleo B'] == 0).sum()\n",
    "ceros_sin_suministro_gB"
   ]
  },
  {
   "cell_type": "markdown",
   "id": "24d3a7ce",
   "metadata": {},
   "source": [
    "# Precio Gasoleo Premium "
   ]
  },
  {
   "cell_type": "code",
   "execution_count": 73,
   "id": "e25d3aaf",
   "metadata": {},
   "outputs": [
    {
     "name": "stdout",
     "output_type": "stream",
     "text": [
      "366\n",
      "<class 'numpy.ndarray'>\n"
     ]
    },
    {
     "data": {
      "text/plain": [
       "array(['', '2,039', '2,119', '1,948', '2,099', '2,019', '2,089', '2,059',\n",
       "       '1,959', '2,101', '1,999', '2,109', '2,069', '1,990', '1,979',\n",
       "       '1,966', '2,139', '2,159', '1,989', '2,115', '2,079', '2,029',\n",
       "       '2,149', '2,129', '1,889', '2,049', '2,105', '2,084', '2,044',\n",
       "       '2,125', '1,867', '2,078', '2,058', '2,229', '1,949', '2,085',\n",
       "       '2,009', '1,939', '1,899', '2,094', '2,021', '2,113', '1,855',\n",
       "       '2,024', '2,034', '2,117', '2,040', '2,095', '2,124', '2,074',\n",
       "       '2,145', '1,988', '2,075', '2,110', '1,879', '1,869', '2,179',\n",
       "       '2,164', '2,999', '1,919', '1,929', '2,112', '1,969', '1,994',\n",
       "       '2,087', '1,935', '2,081', '2,100', '1,977', '2,022', '2,135',\n",
       "       '1,878', '1,897', '2,114', '1,885', '2,088', '1,926', '2,093',\n",
       "       '1,880', '1,909', '1,865', '1,845', '1,849', '1,903', '1,901',\n",
       "       '1,882', '2,070', '1,895', '2,205', '2,189', '2,154', '2,169',\n",
       "       '2,175', '2,098', '2,065', '1,887', '1,927', '2,091', '1,968',\n",
       "       '1,963', '1,945', '1,925', '2,064', '1,975', '2,030', '2,165',\n",
       "       '1,950', '1,997', '2,054', '1,859', '2,120', '1,789', '1,874',\n",
       "       '2,090', '2,055', '2,057', '1,829', '2,131', '1,928', '2,118',\n",
       "       '2,251', '2,138', '2,128', '2,127', '2,000', '2,103', '2,108',\n",
       "       '1,917', '1,908', '2,042', '2,104', '2,014', '2,061', '2,004',\n",
       "       '2,080', '2,107', '1,868', '1,918', '2,116', '2,111', '1,984',\n",
       "       '2,028', '1,675', '2,130', '1,998', '1,956', '1,946', '2,050',\n",
       "       '1,827', '1,904', '1,947', '1,809', '1,938', '2,051', '1,888',\n",
       "       '1,987', '2,199', '2,155', '2,121', '2,047', '1,819', '2,020',\n",
       "       '2,151', '2,134', '1,910', '2,174', '2,158', '2,048', '2,032',\n",
       "       '2,097', '2,077', '1,974', '2,071', '1,954', '1,907', '1,797',\n",
       "       '2,025', '1,719', '1,995', '2,144', '1,619', '1,639', '2,056',\n",
       "       '1,860', '2,045', '2,005', '1,985', '1,973', '2,035', '1,958',\n",
       "       '1,965', '2,141', '2,083', '2,060', '2,086', '1,972', '2,195',\n",
       "       '2,225', '2,161', '2,106', '2,137', '1,992', '1,914', '2,007',\n",
       "       '2,015', '1,877', '2,063', '2,082', '1,839', '1,964', '2,023',\n",
       "       '1,900', '1,930', '2,018', '2,027', '1,890', '2,219', '1,941',\n",
       "       '1,905', '2,076', '1,934', '2,052', '2,033', '1,854', '2,010',\n",
       "       '2,140', '2,026', '2,096', '2,172', '1,924', '2,066', '1,807',\n",
       "       '1,896', '1,857', '2,038', '1,944', '1,837', '1,962', '1,891',\n",
       "       '1,835', '1,894', '1,943', '1,555', '1,544', '1,585', '1,955',\n",
       "       '1,898', '1,841', '1,916', '2,073', '2,301', '1,980', '1,933',\n",
       "       '1,817', '1,957', '2,185', '1,559', '1,644', '1,609', '1,579',\n",
       "       '1,679', '1,649', '1,605', '1,634', '1,550', '1,629', '1,624',\n",
       "       '1,611', '1,623', '1,659', '1,618', '1,601', '1,625', '1,604',\n",
       "       '1,599', '1,587', '1,689', '1,718', '1,847', '1,633', '1,642',\n",
       "       '1,614', '1,669', '1,549', '1,620', '1,525', '1,699', '1,622',\n",
       "       '1,631', '1,636', '1,654', '1,628', '1,584', '1,510', '1,554',\n",
       "       '1,557', '1,606', '1,600', '1,688', '1,700', '1,637', '2,178',\n",
       "       '2,037', '2,126', '2,209', '1,961', '2,068', '1,643', '1,647',\n",
       "       '1,594', '1,833', '1,641', '1,871', '1,626', '1,547', '1,714',\n",
       "       '1,569', '1,593', '1,558', '1,832', '1,755', '1,573', '1,465',\n",
       "       '1,603', '1,595', '1,638', '1,793', '1,646', '1,686', '1,574',\n",
       "       '1,709', '1,592', '1,588', '2,228', '2,156', '2,092', '2,017',\n",
       "       '2,136', '2,147', '1,886', '1,842', '1,850', '1,915', '2,067',\n",
       "       '1,825', '1,892', '1,875', '1,951', '1,812', '1,872', '1,967',\n",
       "       '1,978', '1,856', '1,866', '1,960', '1,923', '2,012', '2,046',\n",
       "       '1,937', '1,970', '1,777', '1,779', '2,062', '2,016', '2,008',\n",
       "       '1,920'], dtype=object)"
      ]
     },
     "execution_count": 73,
     "metadata": {},
     "output_type": "execute_result"
    }
   ],
   "source": [
    "Gasoleo_P = df_n['Precio Gasoleo Premium'].unique()\n",
    "print(len(Gasoleo_P))\n",
    "print(type(Gasoleo_P))\n",
    "Gasoleo_P"
   ]
  },
  {
   "cell_type": "code",
   "execution_count": 74,
   "id": "b2743f33",
   "metadata": {},
   "outputs": [],
   "source": [
    "# Convertimos columna categórica a numérica, primero tenemos que sustituir , por .\n",
    "df_n['Precio Gasoleo Premium']=df_n['Precio Gasoleo Premium'].str.replace(',','.')\n",
    "df_n[['Precio Gasoleo Premium']]=df_n[['Precio Gasoleo Premium']].apply(pd.to_numeric)"
   ]
  },
  {
   "cell_type": "code",
   "execution_count": 75,
   "id": "10e79699",
   "metadata": {},
   "outputs": [
    {
     "data": {
      "text/plain": [
       "count    7490.000000\n",
       "mean        2.054401\n",
       "std         0.116677\n",
       "min         1.465000\n",
       "25%         2.039000\n",
       "50%         2.089000\n",
       "75%         2.119000\n",
       "max         2.999000\n",
       "Name: Precio Gasoleo Premium, dtype: float64"
      ]
     },
     "execution_count": 75,
     "metadata": {},
     "output_type": "execute_result"
    }
   ],
   "source": [
    "df_n['Precio Gasoleo Premium'].describe()"
   ]
  },
  {
   "cell_type": "code",
   "execution_count": 76,
   "id": "9666e5b7",
   "metadata": {},
   "outputs": [
    {
     "data": {
      "text/plain": [
       "4259"
      ]
     },
     "execution_count": 76,
     "metadata": {},
     "output_type": "execute_result"
    }
   ],
   "source": [
    "# Registros sin venta Gasoleo Premium\n",
    "sin_suministro_gP = df_n['Precio Gasoleo Premium'].isnull().sum()\n",
    "sin_suministro_gP"
   ]
  },
  {
   "cell_type": "code",
   "execution_count": 77,
   "id": "c62c56a0",
   "metadata": {},
   "outputs": [
    {
     "data": {
      "text/plain": [
       "0"
      ]
     },
     "execution_count": 77,
     "metadata": {},
     "output_type": "execute_result"
    }
   ],
   "source": [
    "ceros_sin_suministro_gP = (df_n['Precio Gasoleo Premium'] == 0).sum()\n",
    "ceros_sin_suministro_gP"
   ]
  },
  {
   "cell_type": "markdown",
   "id": "1af7f46d",
   "metadata": {},
   "source": [
    "# Precio Gasolina 95 E10 "
   ]
  },
  {
   "cell_type": "code",
   "execution_count": 78,
   "id": "a3d6c6e1",
   "metadata": {},
   "outputs": [
    {
     "name": "stdout",
     "output_type": "stream",
     "text": [
      "18\n",
      "<class 'numpy.ndarray'>\n"
     ]
    },
    {
     "data": {
      "text/plain": [
       "array(['', '2,109', '1,939', '1,759', '1,819', '1,720', '1,829', '1,889',\n",
       "       '1,869', '1,609', '1,749', '1,669', '1,717', '1,899', '1,929',\n",
       "       '1,919', '1,868', '1,849'], dtype=object)"
      ]
     },
     "execution_count": 78,
     "metadata": {},
     "output_type": "execute_result"
    }
   ],
   "source": [
    "g95_E10 = df_n['Precio Gasolina 95 E10'].unique()\n",
    "print(len(g95_E10))\n",
    "print(type(g95_E10))\n",
    "g95_E10"
   ]
  },
  {
   "cell_type": "code",
   "execution_count": 79,
   "id": "c2203d4d",
   "metadata": {},
   "outputs": [],
   "source": [
    "# Convertimos columna categórica a numérica, primero tenemos que sustituir , por .\n",
    "df_n['Precio Gasolina 95 E10']=df_n['Precio Gasolina 95 E10'].str.replace(',','.')\n",
    "df_n[['Precio Gasolina 95 E10']]=df_n[['Precio Gasolina 95 E10']].apply(pd.to_numeric)"
   ]
  },
  {
   "cell_type": "code",
   "execution_count": 80,
   "id": "01212952",
   "metadata": {},
   "outputs": [
    {
     "data": {
      "text/plain": [
       "count    20.000000\n",
       "mean      1.839900\n",
       "std       0.113594\n",
       "min       1.609000\n",
       "25%       1.756500\n",
       "50%       1.858500\n",
       "75%       1.904000\n",
       "max       2.109000\n",
       "Name: Precio Gasolina 95 E10, dtype: float64"
      ]
     },
     "execution_count": 80,
     "metadata": {},
     "output_type": "execute_result"
    }
   ],
   "source": [
    " df_n['Precio Gasolina 95 E10'].describe()"
   ]
  },
  {
   "cell_type": "code",
   "execution_count": 81,
   "id": "6aaa6a7b",
   "metadata": {},
   "outputs": [
    {
     "data": {
      "text/plain": [
       "11729"
      ]
     },
     "execution_count": 81,
     "metadata": {},
     "output_type": "execute_result"
    }
   ],
   "source": [
    "# Registros sin venta Gasoleo Premium\n",
    "sin_suministro_95E10 = df_n['Precio Gasolina 95 E10'].isnull().sum()\n",
    "sin_suministro_95E10"
   ]
  },
  {
   "cell_type": "markdown",
   "id": "3e9e3b58",
   "metadata": {},
   "source": [
    "# Precio Gasolina 95 E5"
   ]
  },
  {
   "cell_type": "code",
   "execution_count": 82,
   "id": "a04d4e77",
   "metadata": {},
   "outputs": [
    {
     "name": "stdout",
     "output_type": "stream",
     "text": [
      "439\n",
      "<class 'numpy.ndarray'>\n"
     ]
    },
    {
     "data": {
      "text/plain": [
       "array(['1,739', '1,657', '', '1,789', '1,779', '1,728', '1,799', '1,659',\n",
       "       '1,764', '1,749', '1,729', '1,730', '1,769', '1,736', '1,750',\n",
       "       '2,299', '1,649', '1,759', '1,829', '1,754', '1,699', '1,638',\n",
       "       '1,806', '1,709', '1,632', '1,700', '1,689', '1,708', '1,784',\n",
       "       '1,798', '1,629', '1,775', '1,719', '1,869', '1,805', '1,602',\n",
       "       '1,663', '1,627', '1,839', '1,673', '1,744', '1,702', '1,809',\n",
       "       '1,859', '1,679', '1,697', '1,774', '1,625', '1,595', '1,794',\n",
       "       '1,547', '1,767', '1,716', '1,777', '1,757', '1,763', '1,758',\n",
       "       '1,748', '1,747', '1,669', '1,849', '1,778', '1,765', '1,667',\n",
       "       '1,819', '1,783', '1,760', '1,670', '1,619', '1,655', '1,755',\n",
       "       '1,635', '1,734', '1,626', '1,742', '1,704', '1,804', '1,746',\n",
       "       '1,687', '1,737', '1,677', '1,639', '1,889', '1,874', '1,698',\n",
       "       '1,766', '1,609', '1,599', '1,694', '1,665', '1,617', '1,557',\n",
       "       '1,648', '1,800', '1,814', '1,658', '1,810', '1,715', '1,787',\n",
       "       '1,650', '1,589', '1,640', '1,690', '1,969', '1,666', '1,633',\n",
       "       '1,660', '1,785', '1,732', '1,685', '1,795', '1,797', '1,939',\n",
       "       '1,615', '1,879', '1,780', '1,770', '1,844', '1,845', '1,898',\n",
       "       '1,909', '1,938', '1,768', '1,738', '2,000', '1,725', '1,899',\n",
       "       '1,864', '1,840', '1,884', '1,773', '1,834', '1,825', '1,850',\n",
       "       '1,678', '1,919', '1,676', '1,722', '1,630', '1,857', '1,740',\n",
       "       '1,675', '1,920', '1,822', '1,735', '1,817', '1,733', '1,959',\n",
       "       '1,999', '1,854', '1,718', '1,788', '1,815', '1,855', '1,837',\n",
       "       '1,828', '1,827', '1,835', '1,813', '1,668', '1,588', '1,727',\n",
       "       '1,714', '1,793', '1,824', '1,792', '1,867', '1,592', '1,656',\n",
       "       '1,683', '1,634', '1,878', '1,579', '1,647', '1,587', '1,608',\n",
       "       '1,654', '1,843', '1,591', '1,833', '1,684', '1,613', '1,590',\n",
       "       '1,680', '1,645', '1,726', '1,574', '1,578', '1,724', '1,717',\n",
       "       '1,821', '1,664', '1,598', '1,593', '1,905', '1,949', '2,086',\n",
       "       '1,888', '1,868', '1,848', '2,149', '1,875', '1,818', '1,644',\n",
       "       '1,610', '1,802', '1,751', '1,790', '1,674', '1,696', '1,720',\n",
       "       '1,860', '1,745', '1,830', '1,604', '1,900', '1,600', '1,688',\n",
       "       '1,620', '1,621', '1,838', '1,622', '1,761', '1,603', '1,624',\n",
       "       '1,428', '1,409', '1,429', '1,695', '1,597', '1,820', '1,560',\n",
       "       '1,306', '1,637', '1,653', '1,641', '1,340', '1,614', '1,901',\n",
       "       '1,897', '1,796', '1,989', '1,858', '1,924', '1,865', '1,911',\n",
       "       '1,915', '1,937', '1,705', '1,618', '1,682', '1,965', '1,885',\n",
       "       '1,782', '1,662', '1,841', '1,847', '2,329', '1,672', '1,643',\n",
       "       '1,808', '1,710', '1,741', '1,731', '1,706', '1,605', '1,893',\n",
       "       '1,772', '1,652', '1,853', '2,120', '1,703', '1,861', '1,929',\n",
       "       '1,856', '1,594', '1,596', '1,812', '1,586', '1,776', '1,692',\n",
       "       '1,567', '1,986', '1,803', '1,771', '1,756', '1,711', '1,811',\n",
       "       '1,786', '1,661', '1,359', '1,358', '1,339', '1,349', '2,100',\n",
       "       '1,623', '1,572', '1,981', '1,933', '1,852', '1,713', '1,846',\n",
       "       '1,923', '1,494', '1,379', '1,435', '1,459', '1,259', '1,169',\n",
       "       '1,439', '1,425', '1,300', '1,489', '1,488', '1,478', '1,480',\n",
       "       '1,479', '1,440', '1,442', '1,469', '1,430', '1,499', '1,484',\n",
       "       '1,509', '1,485', '1,495', '1,487', '1,249', '1,475', '1,539',\n",
       "       '1,482', '1,521', '1,611', '1,503', '1,498', '1,454', '1,502',\n",
       "       '1,279', '1,492', '1,529', '1,473', '1,289', '1,474', '1,468',\n",
       "       '1,559', '1,514', '1,504', '1,464', '1,471', '1,496', '1,399',\n",
       "       '1,497', '1,506', '1,449', '1,450', '1,444', '1,470', '1,434',\n",
       "       '1,190', '1,374', '1,407', '1,448', '1,419', '1,801', '1,831',\n",
       "       '1,866', '1,891', '1,753', '1,239', '1,458', '1,265', '1,528',\n",
       "       '1,404', '1,414', '1,389', '1,380', '1,335', '1,392', '1,329',\n",
       "       '1,386', '1,385', '1,410', '1,424', '1,452', '1,297', '1,377',\n",
       "       '1,388', '1,550', '1,195', '1,298', '1,175', '1,299', '1,465',\n",
       "       '1,412', '1,375', '1,422', '1,397', '1,443', '1,395', '1,472',\n",
       "       '1,378', '1,394', '1,423', '1,438', '1,421', '1,376', '1,401',\n",
       "       '1,561', '1,413', '1,433', '1,205', '1,453', '1,235', '1,393',\n",
       "       '1,209', '1,364', '1,396', '1,418', '1,408', '1,577', '1,651',\n",
       "       '1,890', '2,069', '1,842', '1,974', '1,616', '1,686', '1,701',\n",
       "       '1,791', '1,693', '1,707', '1,636', '1,555', '2,027', '1,628',\n",
       "       '1,807', '1,781', '1,930', '1,601'], dtype=object)"
      ]
     },
     "execution_count": 82,
     "metadata": {},
     "output_type": "execute_result"
    }
   ],
   "source": [
    "g95_E5 = df_n['Precio Gasolina 95 E5'].unique()\n",
    "print(len(g95_E5))\n",
    "print(type(g95_E5))\n",
    "g95_E5"
   ]
  },
  {
   "cell_type": "code",
   "execution_count": 83,
   "id": "196f251e",
   "metadata": {},
   "outputs": [],
   "source": [
    "# Convertimos columna categórica a numérica, primero tenemos que sustituir , por .\n",
    "df_n['Precio Gasolina 95 E5']=df_n['Precio Gasolina 95 E5'].str.replace(',','.')\n",
    "df_n[['Precio Gasolina 95 E5']]=df_n[['Precio Gasolina 95 E5']].apply(pd.to_numeric)"
   ]
  },
  {
   "cell_type": "code",
   "execution_count": 84,
   "id": "621ec9bd",
   "metadata": {},
   "outputs": [
    {
     "data": {
      "text/plain": [
       "count    10609.00000\n",
       "mean         1.75154\n",
       "std          0.09609\n",
       "min          1.16900\n",
       "25%          1.71900\n",
       "50%          1.76900\n",
       "75%          1.80900\n",
       "max          2.32900\n",
       "Name: Precio Gasolina 95 E5, dtype: float64"
      ]
     },
     "execution_count": 84,
     "metadata": {},
     "output_type": "execute_result"
    }
   ],
   "source": [
    "df_n['Precio Gasolina 95 E5'].describe()"
   ]
  },
  {
   "cell_type": "code",
   "execution_count": 85,
   "id": "56396333",
   "metadata": {},
   "outputs": [
    {
     "data": {
      "text/plain": [
       "1140"
      ]
     },
     "execution_count": 85,
     "metadata": {},
     "output_type": "execute_result"
    }
   ],
   "source": [
    "# Registros sin venta Gasoleo Premium\n",
    "sin_suministro_g95E5 = df_n['Precio Gasolina 95 E5'].isnull().sum()\n",
    "sin_suministro_g95E5"
   ]
  },
  {
   "cell_type": "code",
   "execution_count": 86,
   "id": "c8cc07ca",
   "metadata": {},
   "outputs": [
    {
     "data": {
      "text/plain": [
       "0"
      ]
     },
     "execution_count": 86,
     "metadata": {},
     "output_type": "execute_result"
    }
   ],
   "source": [
    "ceros_sin_suministro_g95E5  = (df_n['Precio Gasolina 95 E5'] == 0).sum()\n",
    "ceros_sin_suministro_g95E5 "
   ]
  },
  {
   "cell_type": "markdown",
   "id": "fe877ab4",
   "metadata": {},
   "source": [
    "# Precio Gasolina 95 E5 Premium"
   ]
  },
  {
   "cell_type": "code",
   "execution_count": 87,
   "id": "5586de3c",
   "metadata": {},
   "outputs": [
    {
     "name": "stdout",
     "output_type": "stream",
     "text": [
      "93\n",
      "<class 'numpy.ndarray'>\n"
     ]
    },
    {
     "data": {
      "text/plain": [
       "array(['', '1,829', '1,834', '1,844', '1,799', '1,819', '1,864', '1,759',\n",
       "       '1,859', '1,769', '1,979', '1,884', '1,837', '1,869', '1,749',\n",
       "       '1,839', '1,889', '1,779', '1,789', '1,679', '1,919', '1,899',\n",
       "       '1,909', '1,698', '1,894', '1,879', '1,689', '1,809', '1,649',\n",
       "       '1,602', '1,632', '1,914', '1,824', '1,959', '1,924', '1,814',\n",
       "       '1,939', '1,815', '1,929', '1,934', '1,904', '1,835', '1,849',\n",
       "       '1,949', '1,804', '1,984', '1,794', '1,784', '1,774', '1,999',\n",
       "       '1,684', '1,764', '1,718', '1,699', '1,916', '1,902', '1,669',\n",
       "       '1,739', '1,840', '1,464', '1,854', '1,850', '1,709', '1,874',\n",
       "       '1,719', '1,818', '1,765', '1,858', '1,650', '1,678', '1,729',\n",
       "       '1,667', '1,727', '1,697', '1,627', '1,817', '1,969', '1,954',\n",
       "       '1,359', '1,519', '1,444', '1,449', '1,880', '1,642', '1,851',\n",
       "       '1,639', '1,868', '1,811', '1,711', '1,926', '2,099', '1,895',\n",
       "       '1,847'], dtype=object)"
      ]
     },
     "execution_count": 87,
     "metadata": {},
     "output_type": "execute_result"
    }
   ],
   "source": [
    "g95_E5_P = df_n['Precio Gasolina 95 E5 Premium'].unique()\n",
    "print(len(g95_E5_P))\n",
    "print(type(g95_E5_P))\n",
    "g95_E5_P"
   ]
  },
  {
   "cell_type": "code",
   "execution_count": 88,
   "id": "4758d3d3",
   "metadata": {},
   "outputs": [],
   "source": [
    "# Convertimos columna categórica a numérica, primero tenemos que sustituir , por .\n",
    "df_n['Precio Gasolina 95 E5 Premium']=df_n['Precio Gasolina 95 E5 Premium'].str.replace(',','.')\n",
    "df_n[['Precio Gasolina 95 E5 Premium']]=df_n[['Precio Gasolina 95 E5 Premium']].apply(pd.to_numeric)"
   ]
  },
  {
   "cell_type": "code",
   "execution_count": 89,
   "id": "7d0a8e3a",
   "metadata": {},
   "outputs": [
    {
     "data": {
      "text/plain": [
       "count    796.000000\n",
       "mean       1.842206\n",
       "std        0.074159\n",
       "min        1.359000\n",
       "25%        1.818000\n",
       "50%        1.854000\n",
       "75%        1.889000\n",
       "max        2.099000\n",
       "Name: Precio Gasolina 95 E5 Premium, dtype: float64"
      ]
     },
     "execution_count": 89,
     "metadata": {},
     "output_type": "execute_result"
    }
   ],
   "source": [
    "df_n['Precio Gasolina 95 E5 Premium'].describe()"
   ]
  },
  {
   "cell_type": "code",
   "execution_count": 90,
   "id": "4a815e9d",
   "metadata": {},
   "outputs": [
    {
     "data": {
      "text/plain": [
       "10953"
      ]
     },
     "execution_count": 90,
     "metadata": {},
     "output_type": "execute_result"
    }
   ],
   "source": [
    "# Registros sin venta Gasolina 95 E5 Premium\n",
    "sin_suministro_g95E5_Prem = df_n['Precio Gasolina 95 E5 Premium'].isnull().sum()\n",
    "sin_suministro_g95E5_Prem"
   ]
  },
  {
   "cell_type": "code",
   "execution_count": 91,
   "id": "7ae51272",
   "metadata": {},
   "outputs": [
    {
     "data": {
      "text/plain": [
       "0"
      ]
     },
     "execution_count": 91,
     "metadata": {},
     "output_type": "execute_result"
    }
   ],
   "source": [
    "ceros_sin_suministro_g95E5_Prem  = (df_n['Precio Gasolina 95 E5 Premium'] == 0).sum()\n",
    "ceros_sin_suministro_g95E5 "
   ]
  },
  {
   "cell_type": "markdown",
   "id": "477ee508",
   "metadata": {},
   "source": [
    "# Precio Gasolina 98 E10"
   ]
  },
  {
   "cell_type": "code",
   "execution_count": 92,
   "id": "3b8c6a20",
   "metadata": {},
   "outputs": [
    {
     "name": "stdout",
     "output_type": "stream",
     "text": [
      "8\n",
      "<class 'numpy.ndarray'>\n"
     ]
    },
    {
     "data": {
      "text/plain": [
       "array(['', '1,995', '1,839', '1,760', '1,907', '1,939', '1,949', '1,838'],\n",
       "      dtype=object)"
      ]
     },
     "execution_count": 92,
     "metadata": {},
     "output_type": "execute_result"
    }
   ],
   "source": [
    "g98_E10 = df_n['Precio Gasolina 98 E10'].unique()\n",
    "print(len(g98_E10))\n",
    "print(type(g98_E10))\n",
    "g98_E10"
   ]
  },
  {
   "cell_type": "code",
   "execution_count": 93,
   "id": "77f0708e",
   "metadata": {},
   "outputs": [],
   "source": [
    "# Convertimos columna categórica a numérica, primero tenemos que sustituir , por .\n",
    "df_n['Precio Gasolina 98 E10']=df_n['Precio Gasolina 98 E10'].str.replace(',','.')\n",
    "df_n[['Precio Gasolina 98 E10']]=df_n[['Precio Gasolina 98 E10']].apply(pd.to_numeric)"
   ]
  },
  {
   "cell_type": "code",
   "execution_count": 94,
   "id": "0ce30530",
   "metadata": {},
   "outputs": [
    {
     "data": {
      "text/plain": [
       "count    8.000000\n",
       "mean     1.895750\n",
       "std      0.077032\n",
       "min      1.760000\n",
       "25%      1.838750\n",
       "50%      1.923000\n",
       "75%      1.941500\n",
       "max      1.995000\n",
       "Name: Precio Gasolina 98 E10, dtype: float64"
      ]
     },
     "execution_count": 94,
     "metadata": {},
     "output_type": "execute_result"
    }
   ],
   "source": [
    "df_n['Precio Gasolina 98 E10'].describe()"
   ]
  },
  {
   "cell_type": "code",
   "execution_count": 95,
   "id": "7846a3d5",
   "metadata": {},
   "outputs": [
    {
     "data": {
      "text/plain": [
       "11741"
      ]
     },
     "execution_count": 95,
     "metadata": {},
     "output_type": "execute_result"
    }
   ],
   "source": [
    "# Registros sin venta Gasolina 98 E10 \n",
    "sin_suministro_g98E10 = df_n['Precio Gasolina 98 E10'].isnull().sum()\n",
    "sin_suministro_g98E10"
   ]
  },
  {
   "cell_type": "markdown",
   "id": "d0eca28a",
   "metadata": {},
   "source": [
    "# Precio Gasolina 98 E5"
   ]
  },
  {
   "cell_type": "code",
   "execution_count": 96,
   "id": "b948ed78",
   "metadata": {},
   "outputs": [
    {
     "name": "stdout",
     "output_type": "stream",
     "text": [
      "407\n",
      "<class 'numpy.ndarray'>\n"
     ]
    },
    {
     "data": {
      "text/plain": [
       "array(['', '1,919', '1,921', '1,899', '1,849', '1,939', '1,929', '1,959',\n",
       "       '1,896', '1,909', '1,969', '1,859', '1,869', '1,989', '1,855',\n",
       "       '2,369', '1,931', '1,879', '1,889', '2,099', '1,831', '1,839',\n",
       "       '2,179', '1,891', '1,886', '1,999', '1,874', '1,951', '1,904',\n",
       "       '1,947', '1,911', '1,823', '1,888', '2,599', '1,941', '1,949',\n",
       "       '1,988', '1,918', '1,913', '1,961', '1,979', '1,901', '1,816',\n",
       "       '1,903', '1,875', '1,735', '1,907', '1,779', '1,836', '1,946',\n",
       "       '1,890', '1,906', '1,960', '1,932', '2,029', '2,014', '2,999',\n",
       "       '1,971', '1,819', '1,809', '1,884', '1,905', '1,916', '1,936',\n",
       "       '1,966', '1,802', '1,955', '1,954', '1,686', '1,930', '1,861',\n",
       "       '1,828', '2,000', '1,857', '1,826', '1,805', '1,926', '2,009',\n",
       "       '1,895', '2,071', '2,039', '2,169', '2,019', '1,984', '1,976',\n",
       "       '2,018', '2,011', '1,974', '2,038', '1,972', '1,880', '1,868',\n",
       "       '1,981', '1,991', '1,924', '1,900', '1,996', '2,021', '1,950',\n",
       "       '2,037', '1,881', '1,994', '1,865', '2,109', '1,990', '1,799',\n",
       "       '1,775', '1,914', '1,848', '1,871', '1,915', '1,789', '2,059',\n",
       "       '1,894', '1,858', '1,846', '2,005', '2,300', '1,965', '1,978',\n",
       "       '1,934', '1,987', '1,985', '1,968', '1,829', '1,927', '1,699',\n",
       "       '2,025', '2,006', '1,792', '1,834', '2,016', '1,948', '1,986',\n",
       "       '1,739', '1,997', '1,956', '1,944', '1,942', '2,160', '1,722',\n",
       "       '1,844', '1,649', '1,917', '1,998', '2,055', '1,725', '1,784',\n",
       "       '2,150', '1,937', '1,938', '1,928', '1,712', '1,995', '1,822',\n",
       "       '1,908', '1,759', '2,124', '1,964', '2,078', '2,089', '2,001',\n",
       "       '2,049', '2,045', '2,013', '2,004', '1,897', '2,129', '2,199',\n",
       "       '1,878', '1,864', '2,069', '1,814', '1,776', '2,079', '1,945',\n",
       "       '2,031', '2,209', '1,898', '1,882', '1,760', '1,910', '2,048',\n",
       "       '1,458', '1,445', '2,149', '1,749', '2,229', '1,825', '1,975',\n",
       "       '1,841', '1,958', '1,925', '2,041', '2,095', '2,047', '2,159',\n",
       "       '2,115', '2,098', '2,065', '2,028', '2,017', '2,024', '1,980',\n",
       "       '2,139', '2,075', '1,842', '2,060', '1,920', '1,851', '1,755',\n",
       "       '2,002', '1,810', '1,933', '1,767', '2,500', '1,815', '1,845',\n",
       "       '1,922', '1,840', '1,923', '1,940', '1,820', '1,856', '1,835',\n",
       "       '2,010', '2,299', '1,602', '2,200', '2,074', '2,032', '1,967',\n",
       "       '1,765', '1,769', '1,804', '1,727', '1,863', '1,862', '2,020',\n",
       "       '1,729', '1,854', '1,824', '1,838', '1,963', '1,970', '1,843',\n",
       "       '1,798', '1,952', '2,239', '1,788', '1,943', '1,757', '1,876',\n",
       "       '1,797', '1,706', '1,902', '1,780', '2,215', '1,977', '2,046',\n",
       "       '1,584', '1,499', '1,534', '1,570', '1,669', '1,539', '1,459',\n",
       "       '1,469', '1,345', '1,589', '1,560', '1,450', '1,594', '1,613',\n",
       "       '1,619', '1,569', '1,559', '1,549', '1,561', '1,572', '1,551',\n",
       "       '1,659', '1,608', '1,598', '1,629', '1,601', '1,599', '1,609',\n",
       "       '1,617', '1,409', '1,558', '1,479', '1,576', '1,564', '1,684',\n",
       "       '1,635', '1,663', '1,723', '1,614', '1,579', '1,604', '1,544',\n",
       "       '1,632', '1,639', '1,574', '1,529', '1,610', '1,620', '1,580',\n",
       "       '1,674', '1,689', '1,634', '1,567', '1,625', '1,514', '1,628',\n",
       "       '1,626', '1,588', '1,597', '1,585', '1,590', '1,509', '1,512',\n",
       "       '1,518', '1,648', '1,627', '1,837', '2,015', '2,008', '1,935',\n",
       "       '1,369', '1,704', '1,504', '1,460', '1,449', '1,510', '1,444',\n",
       "       '1,516', '1,464', '1,700', '1,554', '1,429', '1,519', '1,713',\n",
       "       '1,681', '1,682', '1,524', '1,550', '1,578', '1,377', '1,497',\n",
       "       '1,485', '1,489', '1,515', '1,500', '1,507', '1,650', '1,495',\n",
       "       '1,380', '1,595', '1,498', '1,508', '1,488', '1,541', '1,423',\n",
       "       '1,424', '1,487', '1,538', '1,436', '1,505', '1,520', '1,583',\n",
       "       '1,581', '1,525', '1,494', '1,474', '1,546', '1,536', '2,058',\n",
       "       '2,237', '1,719', '2,219', '1,873', '1,768', '2,450', '1,833',\n",
       "       '1,679', '1,794', '1,885', '1,800', '1,877', '1,867', '1,847',\n",
       "       '1,709', '2,220', '1,807', '2,119', '1,813', '2,073', '1,740',\n",
       "       '1,748', '2,279', '1,795', '1,957', '2,250', '1,827', '1,850'],\n",
       "      dtype=object)"
      ]
     },
     "execution_count": 96,
     "metadata": {},
     "output_type": "execute_result"
    }
   ],
   "source": [
    "g98_E5 = df_n['Precio Gasolina 98 E5'].unique()\n",
    "print(len(g98_E5))\n",
    "print(type(g98_E5))\n",
    "g98_E5"
   ]
  },
  {
   "cell_type": "code",
   "execution_count": 97,
   "id": "4763d458",
   "metadata": {},
   "outputs": [],
   "source": [
    "# Convertimos columna categórica a numérica, primero tenemos que sustituir , por .\n",
    "df_n['Precio Gasolina 98 E5']=df_n['Precio Gasolina 98 E5'].str.replace(',','.')\n",
    "df_n[['Precio Gasolina 98 E5']]=df_n[['Precio Gasolina 98 E5']].apply(pd.to_numeric)"
   ]
  },
  {
   "cell_type": "code",
   "execution_count": 98,
   "id": "767e87d9",
   "metadata": {},
   "outputs": [
    {
     "data": {
      "text/plain": [
       "count    5933.000000\n",
       "mean        1.905006\n",
       "std         0.116483\n",
       "min         1.345000\n",
       "25%         1.889000\n",
       "50%         1.929000\n",
       "75%         1.969000\n",
       "max         2.999000\n",
       "Name: Precio Gasolina 98 E5, dtype: float64"
      ]
     },
     "execution_count": 98,
     "metadata": {},
     "output_type": "execute_result"
    }
   ],
   "source": [
    "df_n['Precio Gasolina 98 E5'].describe()"
   ]
  },
  {
   "cell_type": "code",
   "execution_count": 99,
   "id": "d9fb7e91",
   "metadata": {},
   "outputs": [
    {
     "data": {
      "text/plain": [
       "5816"
      ]
     },
     "execution_count": 99,
     "metadata": {},
     "output_type": "execute_result"
    }
   ],
   "source": [
    "# Registros sin venta Gasolina 98 E5 \n",
    "sin_suministro_g98E5 = df_n['Precio Gasolina 98 E5'].isnull().sum()\n",
    "sin_suministro_g98E5"
   ]
  },
  {
   "cell_type": "code",
   "execution_count": 100,
   "id": "ad3ee76b",
   "metadata": {},
   "outputs": [
    {
     "data": {
      "text/plain": [
       "0"
      ]
     },
     "execution_count": 100,
     "metadata": {},
     "output_type": "execute_result"
    }
   ],
   "source": [
    "ceros_sin_suministro_g98E5  = (df_n['Precio Gasolina 98 E5'] == 0).sum()\n",
    "ceros_sin_suministro_g98E5 "
   ]
  },
  {
   "cell_type": "markdown",
   "id": "d8566cb1",
   "metadata": {},
   "source": [
    "# Precio Hidrogeno "
   ]
  },
  {
   "cell_type": "code",
   "execution_count": 101,
   "id": "8092ec5a",
   "metadata": {},
   "outputs": [
    {
     "name": "stdout",
     "output_type": "stream",
     "text": [
      "1\n",
      "<class 'numpy.ndarray'>\n"
     ]
    },
    {
     "data": {
      "text/plain": [
       "array([''], dtype=object)"
      ]
     },
     "execution_count": 101,
     "metadata": {},
     "output_type": "execute_result"
    }
   ],
   "source": [
    "Hidrongeno = df_n['Precio Hidrogeno'].unique()\n",
    "print(len(Hidrongeno))\n",
    "print(type(Hidrongeno))\n",
    "Hidrongeno"
   ]
  },
  {
   "cell_type": "code",
   "execution_count": 102,
   "id": "38acbbd6",
   "metadata": {},
   "outputs": [],
   "source": [
    "# Convertimos columna categórica a numérica, primero tenemos que sustituir , por .\n",
    "df_n['Precio Hidrogeno']=df_n['Precio Hidrogeno'].str.replace(',','.')\n",
    "df_n[['Precio Hidrogeno']]=df_n[['Precio Hidrogeno']].apply(pd.to_numeric)"
   ]
  },
  {
   "cell_type": "code",
   "execution_count": 103,
   "id": "1b19941a",
   "metadata": {},
   "outputs": [
    {
     "data": {
      "text/plain": [
       "count    0.0\n",
       "mean     NaN\n",
       "std      NaN\n",
       "min      NaN\n",
       "25%      NaN\n",
       "50%      NaN\n",
       "75%      NaN\n",
       "max      NaN\n",
       "Name: Precio Hidrogeno, dtype: float64"
      ]
     },
     "execution_count": 103,
     "metadata": {},
     "output_type": "execute_result"
    }
   ],
   "source": [
    "df_n['Precio Hidrogeno'].describe()"
   ]
  },
  {
   "cell_type": "code",
   "execution_count": 104,
   "id": "c6802106",
   "metadata": {},
   "outputs": [
    {
     "name": "stdout",
     "output_type": "stream",
     "text": [
      "<class 'pandas.core.frame.DataFrame'>\n",
      "RangeIndex: 11749 entries, 0 to 11748\n",
      "Data columns (total 33 columns):\n",
      " #   Column                              Non-Null Count  Dtype  \n",
      "---  ------                              --------------  -----  \n",
      " 0   Fecha                               11749 non-null  object \n",
      " 1   C.P.                                11749 non-null  object \n",
      " 2   Dirección                           11749 non-null  object \n",
      " 3   Horario                             11749 non-null  object \n",
      " 4   Latitud                             11749 non-null  object \n",
      " 5   Localidad                           11749 non-null  object \n",
      " 6   Longitud (WGS84)                    11749 non-null  object \n",
      " 7   Margen                              11749 non-null  object \n",
      " 8   Municipio                           11749 non-null  object \n",
      " 9   Precio Biodiesel                    37 non-null     float64\n",
      " 10  Precio Bioetanol                    5 non-null      float64\n",
      " 11  Precio Gas Natural Comprimido       122 non-null    float64\n",
      " 12  Precio Gas Natural Licuado          81 non-null     float64\n",
      " 13  Precio Gases licuados del petróleo  833 non-null    float64\n",
      " 14  Precio Gasoleo A                    11409 non-null  float64\n",
      " 15  Precio Gasoleo B                    2998 non-null   float64\n",
      " 16  Precio Gasoleo Premium              7490 non-null   float64\n",
      " 17  Precio Gasolina 95 E10              20 non-null     float64\n",
      " 18  Precio Gasolina 95 E5               10609 non-null  float64\n",
      " 19  Precio Gasolina 95 E5 Premium       796 non-null    float64\n",
      " 20  Precio Gasolina 98 E10              8 non-null      float64\n",
      " 21  Precio Gasolina 98 E5               5933 non-null   float64\n",
      " 22  Precio Hidrogeno                    0 non-null      float64\n",
      " 23  Provincia                           11749 non-null  object \n",
      " 24  Remisión                            11749 non-null  object \n",
      " 25  Rótulo                              11749 non-null  object \n",
      " 26  Tipo Venta                          11749 non-null  object \n",
      " 27  % BioEtanol                         11749 non-null  object \n",
      " 28  % Éster metílico                    11749 non-null  object \n",
      " 29  IDEESS                              11749 non-null  object \n",
      " 30  IDMunicipio                         11749 non-null  object \n",
      " 31  IDProvincia                         11749 non-null  object \n",
      " 32  IDCCAA                              11749 non-null  object \n",
      "dtypes: float64(14), object(19)\n",
      "memory usage: 3.0+ MB\n"
     ]
    }
   ],
   "source": [
    "df_n.info()"
   ]
  },
  {
   "cell_type": "markdown",
   "id": "0b486d1c",
   "metadata": {},
   "source": [
    "---\n",
    "Setp 3\n",
    "\n",
    "# Limpieza de Columnas"
   ]
  },
  {
   "cell_type": "code",
   "execution_count": 105,
   "id": "58959813",
   "metadata": {},
   "outputs": [],
   "source": [
    "# Eliminiación de columnas que no interesan a nivel usuario o que no aportan datos significativos al modelo\n",
    "df_n.drop(['Margen', 'Remisión', 'Tipo Venta', '% BioEtanol', '% Éster metílico', 'Precio Biodiesel',\n",
    "          'Precio Bioetanol', 'Precio Gas Natural Comprimido', 'Precio Gas Natural Licuado', \n",
    "          'Precio Gas Natural Licuado', 'Precio Gases licuados del petróleo', 'Precio Gasolina 95 E10',\n",
    "          'Precio Gasolina 95 E5 Premium', 'Precio Gasolina 98 E10', 'Precio Hidrogeno'], axis=1, inplace=True)\n"
   ]
  },
  {
   "cell_type": "code",
   "execution_count": 106,
   "id": "1f4e6f15",
   "metadata": {},
   "outputs": [
    {
     "data": {
      "text/plain": [
       "Precio Gasoleo B    NaN\n",
       "Name: 15, dtype: object"
      ]
     },
     "execution_count": 106,
     "metadata": {},
     "output_type": "execute_result"
    }
   ],
   "source": [
    "# Comprobación\n",
    "df_n.iloc[15][['Precio Gasoleo B']]"
   ]
  },
  {
   "cell_type": "code",
   "execution_count": 107,
   "id": "a9fe557e",
   "metadata": {},
   "outputs": [
    {
     "data": {
      "text/html": [
       "<div>\n",
       "<style scoped>\n",
       "    .dataframe tbody tr th:only-of-type {\n",
       "        vertical-align: middle;\n",
       "    }\n",
       "\n",
       "    .dataframe tbody tr th {\n",
       "        vertical-align: top;\n",
       "    }\n",
       "\n",
       "    .dataframe thead th {\n",
       "        text-align: right;\n",
       "    }\n",
       "</style>\n",
       "<table border=\"1\" class=\"dataframe\">\n",
       "  <thead>\n",
       "    <tr style=\"text-align: right;\">\n",
       "      <th></th>\n",
       "      <th>Fecha</th>\n",
       "      <th>C.P.</th>\n",
       "      <th>Dirección</th>\n",
       "      <th>Horario</th>\n",
       "      <th>Latitud</th>\n",
       "      <th>Localidad</th>\n",
       "      <th>Longitud (WGS84)</th>\n",
       "      <th>Municipio</th>\n",
       "      <th>Precio Gasoleo A</th>\n",
       "      <th>Precio Gasoleo B</th>\n",
       "      <th>Precio Gasoleo Premium</th>\n",
       "      <th>Precio Gasolina 95 E5</th>\n",
       "      <th>Precio Gasolina 98 E5</th>\n",
       "      <th>Provincia</th>\n",
       "      <th>Rótulo</th>\n",
       "      <th>IDEESS</th>\n",
       "      <th>IDMunicipio</th>\n",
       "      <th>IDProvincia</th>\n",
       "      <th>IDCCAA</th>\n",
       "    </tr>\n",
       "  </thead>\n",
       "  <tbody>\n",
       "    <tr>\n",
       "      <th>0</th>\n",
       "      <td>28/10/2022 18:18:20</td>\n",
       "      <td>02250</td>\n",
       "      <td>AVENIDA CASTILLA LA MANCHA, 26</td>\n",
       "      <td>L-D: 07:00-22:00</td>\n",
       "      <td>39,211417</td>\n",
       "      <td>ABENGIBRE</td>\n",
       "      <td>-1,539167</td>\n",
       "      <td>Abengibre</td>\n",
       "      <td>1.939</td>\n",
       "      <td>1.44</td>\n",
       "      <td>NaN</td>\n",
       "      <td>1.739</td>\n",
       "      <td>NaN</td>\n",
       "      <td>ALBACETE</td>\n",
       "      <td>Nº 10.935</td>\n",
       "      <td>4375</td>\n",
       "      <td>52</td>\n",
       "      <td>02</td>\n",
       "      <td>07</td>\n",
       "    </tr>\n",
       "    <tr>\n",
       "      <th>1</th>\n",
       "      <td>28/10/2022 18:18:20</td>\n",
       "      <td>02001</td>\n",
       "      <td>CALLE FEDERICO GARCIA LORCA, 1</td>\n",
       "      <td>L-D: 24H</td>\n",
       "      <td>39,000861</td>\n",
       "      <td>ALBACETE</td>\n",
       "      <td>-1,849833</td>\n",
       "      <td>Albacete</td>\n",
       "      <td>1.877</td>\n",
       "      <td>NaN</td>\n",
       "      <td>NaN</td>\n",
       "      <td>1.657</td>\n",
       "      <td>NaN</td>\n",
       "      <td>ALBACETE</td>\n",
       "      <td>PLENOIL</td>\n",
       "      <td>13933</td>\n",
       "      <td>54</td>\n",
       "      <td>02</td>\n",
       "      <td>07</td>\n",
       "    </tr>\n",
       "    <tr>\n",
       "      <th>2</th>\n",
       "      <td>28/10/2022 18:18:20</td>\n",
       "      <td>02001</td>\n",
       "      <td>CALLE FEDERICO GARCIA LORCA, 5</td>\n",
       "      <td>L-S: 05:00-23:00</td>\n",
       "      <td>38,997722</td>\n",
       "      <td>ALBACETE</td>\n",
       "      <td>-1,846361</td>\n",
       "      <td>Albacete</td>\n",
       "      <td>2.040</td>\n",
       "      <td>NaN</td>\n",
       "      <td>NaN</td>\n",
       "      <td>NaN</td>\n",
       "      <td>NaN</td>\n",
       "      <td>ALBACETE</td>\n",
       "      <td>CEPSA</td>\n",
       "      <td>4438</td>\n",
       "      <td>54</td>\n",
       "      <td>02</td>\n",
       "      <td>07</td>\n",
       "    </tr>\n",
       "    <tr>\n",
       "      <th>3</th>\n",
       "      <td>28/10/2022 18:18:20</td>\n",
       "      <td>02001</td>\n",
       "      <td>AVENIDA 1º DE MAYO, S/N</td>\n",
       "      <td>L-S: 08:00-22:00; D: 09:00-21:00</td>\n",
       "      <td>38,985667</td>\n",
       "      <td>ALBACETE</td>\n",
       "      <td>-1,868500</td>\n",
       "      <td>Albacete</td>\n",
       "      <td>1.999</td>\n",
       "      <td>NaN</td>\n",
       "      <td>2.039</td>\n",
       "      <td>1.789</td>\n",
       "      <td>1.919</td>\n",
       "      <td>ALBACETE</td>\n",
       "      <td>CARREFOUR</td>\n",
       "      <td>10765</td>\n",
       "      <td>54</td>\n",
       "      <td>02</td>\n",
       "      <td>07</td>\n",
       "    </tr>\n",
       "    <tr>\n",
       "      <th>4</th>\n",
       "      <td>28/10/2022 18:18:20</td>\n",
       "      <td>02001</td>\n",
       "      <td>CALLE PRINCIPE DE ASTURIAS (POLÍGONO DE ROMICA...</td>\n",
       "      <td>L-D: 06:00-21:30</td>\n",
       "      <td>39,054694</td>\n",
       "      <td>ALBACETE</td>\n",
       "      <td>-1,832000</td>\n",
       "      <td>Albacete</td>\n",
       "      <td>2.029</td>\n",
       "      <td>NaN</td>\n",
       "      <td>2.119</td>\n",
       "      <td>1.779</td>\n",
       "      <td>1.921</td>\n",
       "      <td>ALBACETE</td>\n",
       "      <td>BP ROMICA</td>\n",
       "      <td>12054</td>\n",
       "      <td>54</td>\n",
       "      <td>02</td>\n",
       "      <td>07</td>\n",
       "    </tr>\n",
       "  </tbody>\n",
       "</table>\n",
       "</div>"
      ],
      "text/plain": [
       "                 Fecha   C.P.  \\\n",
       "0  28/10/2022 18:18:20  02250   \n",
       "1  28/10/2022 18:18:20  02001   \n",
       "2  28/10/2022 18:18:20  02001   \n",
       "3  28/10/2022 18:18:20  02001   \n",
       "4  28/10/2022 18:18:20  02001   \n",
       "\n",
       "                                           Dirección  \\\n",
       "0                     AVENIDA CASTILLA LA MANCHA, 26   \n",
       "1                     CALLE FEDERICO GARCIA LORCA, 1   \n",
       "2                     CALLE FEDERICO GARCIA LORCA, 5   \n",
       "3                            AVENIDA 1º DE MAYO, S/N   \n",
       "4  CALLE PRINCIPE DE ASTURIAS (POLÍGONO DE ROMICA...   \n",
       "\n",
       "                            Horario    Latitud  Localidad Longitud (WGS84)  \\\n",
       "0                  L-D: 07:00-22:00  39,211417  ABENGIBRE        -1,539167   \n",
       "1                          L-D: 24H  39,000861   ALBACETE        -1,849833   \n",
       "2                  L-S: 05:00-23:00  38,997722   ALBACETE        -1,846361   \n",
       "3  L-S: 08:00-22:00; D: 09:00-21:00  38,985667   ALBACETE        -1,868500   \n",
       "4                  L-D: 06:00-21:30  39,054694   ALBACETE        -1,832000   \n",
       "\n",
       "   Municipio  Precio Gasoleo A  Precio Gasoleo B  Precio Gasoleo Premium  \\\n",
       "0  Abengibre             1.939              1.44                     NaN   \n",
       "1   Albacete             1.877               NaN                     NaN   \n",
       "2   Albacete             2.040               NaN                     NaN   \n",
       "3   Albacete             1.999               NaN                   2.039   \n",
       "4   Albacete             2.029               NaN                   2.119   \n",
       "\n",
       "   Precio Gasolina 95 E5  Precio Gasolina 98 E5 Provincia     Rótulo IDEESS  \\\n",
       "0                  1.739                    NaN  ALBACETE  Nº 10.935   4375   \n",
       "1                  1.657                    NaN  ALBACETE    PLENOIL  13933   \n",
       "2                    NaN                    NaN  ALBACETE      CEPSA   4438   \n",
       "3                  1.789                  1.919  ALBACETE  CARREFOUR  10765   \n",
       "4                  1.779                  1.921  ALBACETE  BP ROMICA  12054   \n",
       "\n",
       "  IDMunicipio IDProvincia IDCCAA  \n",
       "0          52          02     07  \n",
       "1          54          02     07  \n",
       "2          54          02     07  \n",
       "3          54          02     07  \n",
       "4          54          02     07  "
      ]
     },
     "execution_count": 107,
     "metadata": {},
     "output_type": "execute_result"
    }
   ],
   "source": [
    "df_n.head()"
   ]
  },
  {
   "cell_type": "code",
   "execution_count": 108,
   "id": "d7336670",
   "metadata": {},
   "outputs": [
    {
     "data": {
      "text/html": [
       "<div>\n",
       "<style scoped>\n",
       "    .dataframe tbody tr th:only-of-type {\n",
       "        vertical-align: middle;\n",
       "    }\n",
       "\n",
       "    .dataframe tbody tr th {\n",
       "        vertical-align: top;\n",
       "    }\n",
       "\n",
       "    .dataframe thead th {\n",
       "        text-align: right;\n",
       "    }\n",
       "</style>\n",
       "<table border=\"1\" class=\"dataframe\">\n",
       "  <thead>\n",
       "    <tr style=\"text-align: right;\">\n",
       "      <th></th>\n",
       "      <th>Fecha</th>\n",
       "      <th>C.P.</th>\n",
       "      <th>Dirección</th>\n",
       "      <th>Horario</th>\n",
       "      <th>Latitud</th>\n",
       "      <th>Localidad</th>\n",
       "      <th>Longitud (WGS84)</th>\n",
       "      <th>Municipio</th>\n",
       "      <th>Gasoleo A</th>\n",
       "      <th>Gasoleo B</th>\n",
       "      <th>Gasoleo Premium</th>\n",
       "      <th>Gasolina 95 E5</th>\n",
       "      <th>Gasolina 98 E5</th>\n",
       "      <th>Provincia</th>\n",
       "      <th>Estación de Servicio</th>\n",
       "      <th>IDEESS</th>\n",
       "      <th>IDMunicipio</th>\n",
       "      <th>IDProvincia</th>\n",
       "      <th>IDCCAA</th>\n",
       "    </tr>\n",
       "  </thead>\n",
       "  <tbody>\n",
       "    <tr>\n",
       "      <th>0</th>\n",
       "      <td>28/10/2022 18:18:20</td>\n",
       "      <td>02250</td>\n",
       "      <td>AVENIDA CASTILLA LA MANCHA, 26</td>\n",
       "      <td>L-D: 07:00-22:00</td>\n",
       "      <td>39,211417</td>\n",
       "      <td>ABENGIBRE</td>\n",
       "      <td>-1,539167</td>\n",
       "      <td>Abengibre</td>\n",
       "      <td>1.939</td>\n",
       "      <td>1.44</td>\n",
       "      <td>NaN</td>\n",
       "      <td>1.739</td>\n",
       "      <td>NaN</td>\n",
       "      <td>ALBACETE</td>\n",
       "      <td>Nº 10.935</td>\n",
       "      <td>4375</td>\n",
       "      <td>52</td>\n",
       "      <td>02</td>\n",
       "      <td>07</td>\n",
       "    </tr>\n",
       "  </tbody>\n",
       "</table>\n",
       "</div>"
      ],
      "text/plain": [
       "                 Fecha   C.P.                       Dirección  \\\n",
       "0  28/10/2022 18:18:20  02250  AVENIDA CASTILLA LA MANCHA, 26   \n",
       "\n",
       "            Horario    Latitud  Localidad Longitud (WGS84)  Municipio  \\\n",
       "0  L-D: 07:00-22:00  39,211417  ABENGIBRE        -1,539167  Abengibre   \n",
       "\n",
       "   Gasoleo A  Gasoleo B  Gasoleo Premium  Gasolina 95 E5  Gasolina 98 E5  \\\n",
       "0      1.939       1.44              NaN           1.739             NaN   \n",
       "\n",
       "  Provincia Estación de Servicio IDEESS IDMunicipio IDProvincia IDCCAA  \n",
       "0  ALBACETE            Nº 10.935   4375          52          02     07  "
      ]
     },
     "execution_count": 108,
     "metadata": {},
     "output_type": "execute_result"
    }
   ],
   "source": [
    "# Renombramos las columnas\n",
    "df_n.rename(columns={\"Precio Gasoleo A\": \"Gasoleo A\", \"Precio Gasoleo B\": \"Gasoleo B\" ,\"Precio Gasoleo Premium\": \"Gasoleo Premium\", \n",
    "                     \"Precio Gasolina 95 E5\": \"Gasolina 95 E5\", \"Precio Gasolina 98 E5\": \"Gasolina 98 E5\",\n",
    "                     \"Rótulo\":\"Estación de Servicio\"}, inplace=True)\n",
    "df_n.head(1)"
   ]
  },
  {
   "cell_type": "code",
   "execution_count": 109,
   "id": "365e7b0f",
   "metadata": {},
   "outputs": [],
   "source": [
    "# Media\n",
    "df_n['Media_Gasoleo A']=df_n['Gasoleo A'].mean()\n",
    "df_n['Media_Gasoleo B']=df_n['Gasoleo B'].mean()\n",
    "df_n['Media_Gasoleo Gasolina 95']=df_n['Gasolina 95 E5'].mean()\n",
    "df_n['Media_Gasolina 98']=df_n['Gasolina 98 E5'].mean()\n"
   ]
  },
  {
   "cell_type": "code",
   "execution_count": 110,
   "id": "92b44a14",
   "metadata": {},
   "outputs": [],
   "source": [
    "# Desviación estándar\n",
    "df_n['STD_Gasoleo A']=df_n['Gasoleo A'].std()\n",
    "df_n['STD_Gasoleo B']=df_n['Gasoleo B'].std()\n",
    "df_n['STD_Gasoleo Gasolina 95']=df_n['Gasolina 95 E5'].std()\n",
    "df_n['STD_Gasolina 98']=df_n['Gasolina 98 E5'].std()\n"
   ]
  },
  {
   "cell_type": "code",
   "execution_count": 111,
   "id": "52c69724",
   "metadata": {},
   "outputs": [
    {
     "data": {
      "text/html": [
       "<div>\n",
       "<style scoped>\n",
       "    .dataframe tbody tr th:only-of-type {\n",
       "        vertical-align: middle;\n",
       "    }\n",
       "\n",
       "    .dataframe tbody tr th {\n",
       "        vertical-align: top;\n",
       "    }\n",
       "\n",
       "    .dataframe thead th {\n",
       "        text-align: right;\n",
       "    }\n",
       "</style>\n",
       "<table border=\"1\" class=\"dataframe\">\n",
       "  <thead>\n",
       "    <tr style=\"text-align: right;\">\n",
       "      <th></th>\n",
       "      <th>Fecha</th>\n",
       "      <th>C.P.</th>\n",
       "      <th>Dirección</th>\n",
       "      <th>Horario</th>\n",
       "      <th>Latitud</th>\n",
       "      <th>Localidad</th>\n",
       "      <th>Longitud (WGS84)</th>\n",
       "      <th>Municipio</th>\n",
       "      <th>Gasoleo A</th>\n",
       "      <th>Gasoleo B</th>\n",
       "      <th>...</th>\n",
       "      <th>IDProvincia</th>\n",
       "      <th>IDCCAA</th>\n",
       "      <th>Media_Gasoleo A</th>\n",
       "      <th>Media_Gasoleo B</th>\n",
       "      <th>Media_Gasoleo Gasolina 95</th>\n",
       "      <th>Media_Gasolina 98</th>\n",
       "      <th>STD_Gasoleo A</th>\n",
       "      <th>STD_Gasoleo B</th>\n",
       "      <th>STD_Gasoleo Gasolina 95</th>\n",
       "      <th>STD_Gasolina 98</th>\n",
       "    </tr>\n",
       "  </thead>\n",
       "  <tbody>\n",
       "    <tr>\n",
       "      <th>0</th>\n",
       "      <td>28/10/2022 18:18:20</td>\n",
       "      <td>02250</td>\n",
       "      <td>AVENIDA CASTILLA LA MANCHA, 26</td>\n",
       "      <td>L-D: 07:00-22:00</td>\n",
       "      <td>39,211417</td>\n",
       "      <td>ABENGIBRE</td>\n",
       "      <td>-1,539167</td>\n",
       "      <td>Abengibre</td>\n",
       "      <td>1.939</td>\n",
       "      <td>1.44</td>\n",
       "      <td>...</td>\n",
       "      <td>02</td>\n",
       "      <td>07</td>\n",
       "      <td>1.954775</td>\n",
       "      <td>1.564772</td>\n",
       "      <td>1.75154</td>\n",
       "      <td>1.905006</td>\n",
       "      <td>0.117493</td>\n",
       "      <td>0.10375</td>\n",
       "      <td>0.09609</td>\n",
       "      <td>0.116483</td>\n",
       "    </tr>\n",
       "  </tbody>\n",
       "</table>\n",
       "<p>1 rows × 27 columns</p>\n",
       "</div>"
      ],
      "text/plain": [
       "                 Fecha   C.P.                       Dirección  \\\n",
       "0  28/10/2022 18:18:20  02250  AVENIDA CASTILLA LA MANCHA, 26   \n",
       "\n",
       "            Horario    Latitud  Localidad Longitud (WGS84)  Municipio  \\\n",
       "0  L-D: 07:00-22:00  39,211417  ABENGIBRE        -1,539167  Abengibre   \n",
       "\n",
       "   Gasoleo A  Gasoleo B  ...  IDProvincia  IDCCAA  Media_Gasoleo A  \\\n",
       "0      1.939       1.44  ...           02      07         1.954775   \n",
       "\n",
       "  Media_Gasoleo B Media_Gasoleo Gasolina 95 Media_Gasolina 98 STD_Gasoleo A  \\\n",
       "0        1.564772                   1.75154          1.905006      0.117493   \n",
       "\n",
       "  STD_Gasoleo B STD_Gasoleo Gasolina 95  STD_Gasolina 98  \n",
       "0       0.10375                 0.09609         0.116483  \n",
       "\n",
       "[1 rows x 27 columns]"
      ]
     },
     "execution_count": 111,
     "metadata": {},
     "output_type": "execute_result"
    }
   ],
   "source": [
    "df_n.head(1)"
   ]
  },
  {
   "cell_type": "code",
   "execution_count": 112,
   "id": "fbc17dd0",
   "metadata": {},
   "outputs": [
    {
     "name": "stdout",
     "output_type": "stream",
     "text": [
      "<class 'pandas.core.frame.DataFrame'>\n",
      "RangeIndex: 11749 entries, 0 to 11748\n",
      "Data columns (total 27 columns):\n",
      " #   Column                     Non-Null Count  Dtype  \n",
      "---  ------                     --------------  -----  \n",
      " 0   Fecha                      11749 non-null  object \n",
      " 1   C.P.                       11749 non-null  object \n",
      " 2   Dirección                  11749 non-null  object \n",
      " 3   Horario                    11749 non-null  object \n",
      " 4   Latitud                    11749 non-null  object \n",
      " 5   Localidad                  11749 non-null  object \n",
      " 6   Longitud (WGS84)           11749 non-null  object \n",
      " 7   Municipio                  11749 non-null  object \n",
      " 8   Gasoleo A                  11409 non-null  float64\n",
      " 9   Gasoleo B                  2998 non-null   float64\n",
      " 10  Gasoleo Premium            7490 non-null   float64\n",
      " 11  Gasolina 95 E5             10609 non-null  float64\n",
      " 12  Gasolina 98 E5             5933 non-null   float64\n",
      " 13  Provincia                  11749 non-null  object \n",
      " 14  Estación de Servicio       11749 non-null  object \n",
      " 15  IDEESS                     11749 non-null  object \n",
      " 16  IDMunicipio                11749 non-null  object \n",
      " 17  IDProvincia                11749 non-null  object \n",
      " 18  IDCCAA                     11749 non-null  object \n",
      " 19  Media_Gasoleo A            11749 non-null  float64\n",
      " 20  Media_Gasoleo B            11749 non-null  float64\n",
      " 21  Media_Gasoleo Gasolina 95  11749 non-null  float64\n",
      " 22  Media_Gasolina 98          11749 non-null  float64\n",
      " 23  STD_Gasoleo A              11749 non-null  float64\n",
      " 24  STD_Gasoleo B              11749 non-null  float64\n",
      " 25  STD_Gasoleo Gasolina 95    11749 non-null  float64\n",
      " 26  STD_Gasolina 98            11749 non-null  float64\n",
      "dtypes: float64(13), object(14)\n",
      "memory usage: 2.4+ MB\n"
     ]
    }
   ],
   "source": [
    "df_n.info()"
   ]
  },
  {
   "cell_type": "code",
   "execution_count": 113,
   "id": "ea5c62a5",
   "metadata": {},
   "outputs": [
    {
     "data": {
      "text/html": [
       "<div>\n",
       "<style scoped>\n",
       "    .dataframe tbody tr th:only-of-type {\n",
       "        vertical-align: middle;\n",
       "    }\n",
       "\n",
       "    .dataframe tbody tr th {\n",
       "        vertical-align: top;\n",
       "    }\n",
       "\n",
       "    .dataframe thead th {\n",
       "        text-align: right;\n",
       "    }\n",
       "</style>\n",
       "<table border=\"1\" class=\"dataframe\">\n",
       "  <thead>\n",
       "    <tr style=\"text-align: right;\">\n",
       "      <th></th>\n",
       "      <th>Fecha</th>\n",
       "      <th>Horario</th>\n",
       "      <th>C.P.</th>\n",
       "      <th>Municipio</th>\n",
       "      <th>Provincia</th>\n",
       "      <th>Dirección</th>\n",
       "      <th>Latitud</th>\n",
       "      <th>Longitud (WGS84)</th>\n",
       "      <th>Gasoleo A</th>\n",
       "      <th>Gasoleo B</th>\n",
       "      <th>...</th>\n",
       "      <th>Gasolina 98 E5</th>\n",
       "      <th>Estación de Servicio</th>\n",
       "      <th>Media_Gasoleo A</th>\n",
       "      <th>Media_Gasoleo B</th>\n",
       "      <th>Media_Gasoleo Gasolina 95</th>\n",
       "      <th>Media_Gasolina 98</th>\n",
       "      <th>STD_Gasoleo A</th>\n",
       "      <th>STD_Gasoleo B</th>\n",
       "      <th>STD_Gasoleo Gasolina 95</th>\n",
       "      <th>STD_Gasolina 98</th>\n",
       "    </tr>\n",
       "  </thead>\n",
       "  <tbody>\n",
       "    <tr>\n",
       "      <th>0</th>\n",
       "      <td>28/10/2022 18:18:20</td>\n",
       "      <td>L-D: 07:00-22:00</td>\n",
       "      <td>02250</td>\n",
       "      <td>Abengibre</td>\n",
       "      <td>ALBACETE</td>\n",
       "      <td>AVENIDA CASTILLA LA MANCHA, 26</td>\n",
       "      <td>39,211417</td>\n",
       "      <td>-1,539167</td>\n",
       "      <td>1.939</td>\n",
       "      <td>1.44</td>\n",
       "      <td>...</td>\n",
       "      <td>NaN</td>\n",
       "      <td>Nº 10.935</td>\n",
       "      <td>1.954775</td>\n",
       "      <td>1.564772</td>\n",
       "      <td>1.75154</td>\n",
       "      <td>1.905006</td>\n",
       "      <td>0.117493</td>\n",
       "      <td>0.10375</td>\n",
       "      <td>0.09609</td>\n",
       "      <td>0.116483</td>\n",
       "    </tr>\n",
       "  </tbody>\n",
       "</table>\n",
       "<p>1 rows × 22 columns</p>\n",
       "</div>"
      ],
      "text/plain": [
       "                 Fecha           Horario   C.P.  Municipio Provincia  \\\n",
       "0  28/10/2022 18:18:20  L-D: 07:00-22:00  02250  Abengibre  ALBACETE   \n",
       "\n",
       "                        Dirección    Latitud Longitud (WGS84)  Gasoleo A  \\\n",
       "0  AVENIDA CASTILLA LA MANCHA, 26  39,211417        -1,539167      1.939   \n",
       "\n",
       "   Gasoleo B  ...  Gasolina 98 E5  Estación de Servicio  Media_Gasoleo A  \\\n",
       "0       1.44  ...             NaN             Nº 10.935         1.954775   \n",
       "\n",
       "  Media_Gasoleo B  Media_Gasoleo Gasolina 95  Media_Gasolina 98  \\\n",
       "0        1.564772                    1.75154           1.905006   \n",
       "\n",
       "   STD_Gasoleo A  STD_Gasoleo B  STD_Gasoleo Gasolina 95  STD_Gasolina 98  \n",
       "0       0.117493        0.10375                  0.09609         0.116483  \n",
       "\n",
       "[1 rows x 22 columns]"
      ]
     },
     "execution_count": 113,
     "metadata": {},
     "output_type": "execute_result"
    }
   ],
   "source": [
    "#Ordenamos columnas\n",
    "df_n = df_n[['Fecha', 'Horario', 'C.P.','Municipio', 'Provincia', 'Dirección', 'Latitud', 'Longitud (WGS84)', 'Gasoleo A', \n",
    "            'Gasoleo B', 'Gasoleo Premium', 'Gasolina 95 E5', 'Gasolina 98 E5', 'Estación de Servicio', 'Media_Gasoleo A',\n",
    "           'Media_Gasoleo B', 'Media_Gasoleo Gasolina 95', 'Media_Gasolina 98', 'STD_Gasoleo A', 'STD_Gasoleo B', \n",
    "            'STD_Gasoleo Gasolina 95', 'STD_Gasolina 98']]\n",
    "df_n.head(1)"
   ]
  },
  {
   "cell_type": "markdown",
   "id": "9ece3cb6",
   "metadata": {},
   "source": [
    "---\n",
    "Step4\n",
    "\n",
    "\n",
    "# Funciones "
   ]
  },
  {
   "cell_type": "code",
   "execution_count": 154,
   "id": "2e8fe4bf",
   "metadata": {},
   "outputs": [],
   "source": [
    "def precio_minimo_cp(cp, Y):\n",
    "# cp = Código Postal\n",
    "# Y = Tipo de Combustible\n",
    "    cp_x = df_n[df_n[\"C.P.\"] == cp]\n",
    "    minimo = pd.DataFrame(cp_x.loc[cp_x[[Y]].idxmin()])\n",
    "    return pd.DataFrame(minimo)\n",
    "   "
   ]
  },
  {
   "cell_type": "code",
   "execution_count": 155,
   "id": "028aad5e",
   "metadata": {},
   "outputs": [
    {
     "data": {
      "text/html": [
       "<div>\n",
       "<style scoped>\n",
       "    .dataframe tbody tr th:only-of-type {\n",
       "        vertical-align: middle;\n",
       "    }\n",
       "\n",
       "    .dataframe tbody tr th {\n",
       "        vertical-align: top;\n",
       "    }\n",
       "\n",
       "    .dataframe thead th {\n",
       "        text-align: right;\n",
       "    }\n",
       "</style>\n",
       "<table border=\"1\" class=\"dataframe\">\n",
       "  <thead>\n",
       "    <tr style=\"text-align: right;\">\n",
       "      <th></th>\n",
       "      <th>Fecha</th>\n",
       "      <th>Horario</th>\n",
       "      <th>C.P.</th>\n",
       "      <th>Municipio</th>\n",
       "      <th>Provincia</th>\n",
       "      <th>Dirección</th>\n",
       "      <th>Latitud</th>\n",
       "      <th>Longitud (WGS84)</th>\n",
       "      <th>Gasoleo A</th>\n",
       "      <th>Gasoleo B</th>\n",
       "      <th>...</th>\n",
       "      <th>Gasolina 98 E5</th>\n",
       "      <th>Estación de Servicio</th>\n",
       "      <th>Media_Gasoleo A</th>\n",
       "      <th>Media_Gasoleo B</th>\n",
       "      <th>Media_Gasoleo Gasolina 95</th>\n",
       "      <th>Media_Gasolina 98</th>\n",
       "      <th>STD_Gasoleo A</th>\n",
       "      <th>STD_Gasoleo B</th>\n",
       "      <th>STD_Gasoleo Gasolina 95</th>\n",
       "      <th>STD_Gasolina 98</th>\n",
       "    </tr>\n",
       "  </thead>\n",
       "  <tbody>\n",
       "    <tr>\n",
       "      <th>6517</th>\n",
       "      <td>28/10/2022 18:18:20</td>\n",
       "      <td>L-D: 24H</td>\n",
       "      <td>28500</td>\n",
       "      <td>Arganda del Rey</td>\n",
       "      <td>MADRID</td>\n",
       "      <td>AVENIDA MADRID (DE), SN</td>\n",
       "      <td>40,312250</td>\n",
       "      <td>-3,487028</td>\n",
       "      <td>1.899</td>\n",
       "      <td>NaN</td>\n",
       "      <td>...</td>\n",
       "      <td>NaN</td>\n",
       "      <td>PETROPRIX</td>\n",
       "      <td>1.954775</td>\n",
       "      <td>1.564772</td>\n",
       "      <td>1.75154</td>\n",
       "      <td>1.905006</td>\n",
       "      <td>0.117493</td>\n",
       "      <td>0.10375</td>\n",
       "      <td>0.09609</td>\n",
       "      <td>0.116483</td>\n",
       "    </tr>\n",
       "  </tbody>\n",
       "</table>\n",
       "<p>1 rows × 22 columns</p>\n",
       "</div>"
      ],
      "text/plain": [
       "                    Fecha   Horario   C.P.        Municipio Provincia  \\\n",
       "6517  28/10/2022 18:18:20  L-D: 24H  28500  Arganda del Rey    MADRID   \n",
       "\n",
       "                    Dirección    Latitud Longitud (WGS84)  Gasoleo A  \\\n",
       "6517  AVENIDA MADRID (DE), SN  40,312250        -3,487028      1.899   \n",
       "\n",
       "      Gasoleo B  ...  Gasolina 98 E5  Estación de Servicio  Media_Gasoleo A  \\\n",
       "6517        NaN  ...             NaN             PETROPRIX         1.954775   \n",
       "\n",
       "     Media_Gasoleo B  Media_Gasoleo Gasolina 95  Media_Gasolina 98  \\\n",
       "6517        1.564772                    1.75154           1.905006   \n",
       "\n",
       "      STD_Gasoleo A  STD_Gasoleo B  STD_Gasoleo Gasolina 95  STD_Gasolina 98  \n",
       "6517       0.117493        0.10375                  0.09609         0.116483  \n",
       "\n",
       "[1 rows x 22 columns]"
      ]
     },
     "execution_count": 155,
     "metadata": {},
     "output_type": "execute_result"
    }
   ],
   "source": [
    "precio_minimo_cp('28500', 'Gasoleo A')"
   ]
  },
  {
   "cell_type": "code",
   "execution_count": 156,
   "id": "2b4ed723",
   "metadata": {},
   "outputs": [
    {
     "data": {
      "text/html": [
       "<div>\n",
       "<style scoped>\n",
       "    .dataframe tbody tr th:only-of-type {\n",
       "        vertical-align: middle;\n",
       "    }\n",
       "\n",
       "    .dataframe tbody tr th {\n",
       "        vertical-align: top;\n",
       "    }\n",
       "\n",
       "    .dataframe thead th {\n",
       "        text-align: right;\n",
       "    }\n",
       "</style>\n",
       "<table border=\"1\" class=\"dataframe\">\n",
       "  <thead>\n",
       "    <tr style=\"text-align: right;\">\n",
       "      <th></th>\n",
       "      <th>Fecha</th>\n",
       "      <th>Horario</th>\n",
       "      <th>C.P.</th>\n",
       "      <th>Municipio</th>\n",
       "      <th>Provincia</th>\n",
       "      <th>Dirección</th>\n",
       "      <th>Latitud</th>\n",
       "      <th>Longitud (WGS84)</th>\n",
       "      <th>Gasoleo A</th>\n",
       "      <th>Gasoleo B</th>\n",
       "      <th>...</th>\n",
       "      <th>Gasolina 98 E5</th>\n",
       "      <th>Estación de Servicio</th>\n",
       "      <th>Media_Gasoleo A</th>\n",
       "      <th>Media_Gasoleo B</th>\n",
       "      <th>Media_Gasoleo Gasolina 95</th>\n",
       "      <th>Media_Gasolina 98</th>\n",
       "      <th>STD_Gasoleo A</th>\n",
       "      <th>STD_Gasoleo B</th>\n",
       "      <th>STD_Gasoleo Gasolina 95</th>\n",
       "      <th>STD_Gasolina 98</th>\n",
       "    </tr>\n",
       "  </thead>\n",
       "  <tbody>\n",
       "    <tr>\n",
       "      <th>6517</th>\n",
       "      <td>28/10/2022 18:18:20</td>\n",
       "      <td>L-D: 24H</td>\n",
       "      <td>28500</td>\n",
       "      <td>Arganda del Rey</td>\n",
       "      <td>MADRID</td>\n",
       "      <td>AVENIDA MADRID (DE), SN</td>\n",
       "      <td>40,312250</td>\n",
       "      <td>-3,487028</td>\n",
       "      <td>1.899</td>\n",
       "      <td>NaN</td>\n",
       "      <td>...</td>\n",
       "      <td>NaN</td>\n",
       "      <td>PETROPRIX</td>\n",
       "      <td>1.954775</td>\n",
       "      <td>1.564772</td>\n",
       "      <td>1.75154</td>\n",
       "      <td>1.905006</td>\n",
       "      <td>0.117493</td>\n",
       "      <td>0.10375</td>\n",
       "      <td>0.09609</td>\n",
       "      <td>0.116483</td>\n",
       "    </tr>\n",
       "    <tr>\n",
       "      <th>6518</th>\n",
       "      <td>28/10/2022 18:18:20</td>\n",
       "      <td>L: 24H</td>\n",
       "      <td>28500</td>\n",
       "      <td>Arganda del Rey</td>\n",
       "      <td>MADRID</td>\n",
       "      <td>CARRETERA M-832 KM. 3</td>\n",
       "      <td>40,291056</td>\n",
       "      <td>-3,507278</td>\n",
       "      <td>2.072</td>\n",
       "      <td>NaN</td>\n",
       "      <td>...</td>\n",
       "      <td>NaN</td>\n",
       "      <td>REPSOL</td>\n",
       "      <td>1.954775</td>\n",
       "      <td>1.564772</td>\n",
       "      <td>1.75154</td>\n",
       "      <td>1.905006</td>\n",
       "      <td>0.117493</td>\n",
       "      <td>0.10375</td>\n",
       "      <td>0.09609</td>\n",
       "      <td>0.116483</td>\n",
       "    </tr>\n",
       "    <tr>\n",
       "      <th>6519</th>\n",
       "      <td>28/10/2022 18:18:20</td>\n",
       "      <td>L-V: 06:00-22:00; S-D: 08:00-22:00</td>\n",
       "      <td>28500</td>\n",
       "      <td>Arganda del Rey</td>\n",
       "      <td>MADRID</td>\n",
       "      <td>AVDA DE MADRID, 103</td>\n",
       "      <td>40,310000</td>\n",
       "      <td>-3,480833</td>\n",
       "      <td>2.039</td>\n",
       "      <td>1.669</td>\n",
       "      <td>...</td>\n",
       "      <td>NaN</td>\n",
       "      <td>REPSOL</td>\n",
       "      <td>1.954775</td>\n",
       "      <td>1.564772</td>\n",
       "      <td>1.75154</td>\n",
       "      <td>1.905006</td>\n",
       "      <td>0.117493</td>\n",
       "      <td>0.10375</td>\n",
       "      <td>0.09609</td>\n",
       "      <td>0.116483</td>\n",
       "    </tr>\n",
       "    <tr>\n",
       "      <th>6520</th>\n",
       "      <td>28/10/2022 18:18:20</td>\n",
       "      <td>L-D: 06:00-00:00</td>\n",
       "      <td>28500</td>\n",
       "      <td>Arganda del Rey</td>\n",
       "      <td>MADRID</td>\n",
       "      <td>AVENIDA DE MADRID, 126</td>\n",
       "      <td>40,310361</td>\n",
       "      <td>-3,481806</td>\n",
       "      <td>1.939</td>\n",
       "      <td>NaN</td>\n",
       "      <td>...</td>\n",
       "      <td>NaN</td>\n",
       "      <td>ATENOIL</td>\n",
       "      <td>1.954775</td>\n",
       "      <td>1.564772</td>\n",
       "      <td>1.75154</td>\n",
       "      <td>1.905006</td>\n",
       "      <td>0.117493</td>\n",
       "      <td>0.10375</td>\n",
       "      <td>0.09609</td>\n",
       "      <td>0.116483</td>\n",
       "    </tr>\n",
       "    <tr>\n",
       "      <th>6521</th>\n",
       "      <td>28/10/2022 18:18:20</td>\n",
       "      <td>L-D: 24H</td>\n",
       "      <td>28500</td>\n",
       "      <td>Arganda del Rey</td>\n",
       "      <td>MADRID</td>\n",
       "      <td>CARRETERA M-832 KM. 3</td>\n",
       "      <td>40,290944</td>\n",
       "      <td>-3,508111</td>\n",
       "      <td>2.072</td>\n",
       "      <td>NaN</td>\n",
       "      <td>...</td>\n",
       "      <td>NaN</td>\n",
       "      <td>REPSOL</td>\n",
       "      <td>1.954775</td>\n",
       "      <td>1.564772</td>\n",
       "      <td>1.75154</td>\n",
       "      <td>1.905006</td>\n",
       "      <td>0.117493</td>\n",
       "      <td>0.10375</td>\n",
       "      <td>0.09609</td>\n",
       "      <td>0.116483</td>\n",
       "    </tr>\n",
       "    <tr>\n",
       "      <th>6522</th>\n",
       "      <td>28/10/2022 18:18:20</td>\n",
       "      <td>L-D: 06:00-22:00</td>\n",
       "      <td>28500</td>\n",
       "      <td>Arganda del Rey</td>\n",
       "      <td>MADRID</td>\n",
       "      <td>AVENIDA DE MADRID, 37</td>\n",
       "      <td>40,305639</td>\n",
       "      <td>-3,462778</td>\n",
       "      <td>2.029</td>\n",
       "      <td>NaN</td>\n",
       "      <td>...</td>\n",
       "      <td>1.931</td>\n",
       "      <td>BP LA ARGANDEÑA</td>\n",
       "      <td>1.954775</td>\n",
       "      <td>1.564772</td>\n",
       "      <td>1.75154</td>\n",
       "      <td>1.905006</td>\n",
       "      <td>0.117493</td>\n",
       "      <td>0.10375</td>\n",
       "      <td>0.09609</td>\n",
       "      <td>0.116483</td>\n",
       "    </tr>\n",
       "    <tr>\n",
       "      <th>6523</th>\n",
       "      <td>28/10/2022 18:18:20</td>\n",
       "      <td>L-D: 24H</td>\n",
       "      <td>28500</td>\n",
       "      <td>Arganda del Rey</td>\n",
       "      <td>MADRID</td>\n",
       "      <td>AVENIDA EJERCITO (DEL), 44</td>\n",
       "      <td>40,303139</td>\n",
       "      <td>-3,448389</td>\n",
       "      <td>2.029</td>\n",
       "      <td>NaN</td>\n",
       "      <td>...</td>\n",
       "      <td>1.931</td>\n",
       "      <td>BP ARGANDA</td>\n",
       "      <td>1.954775</td>\n",
       "      <td>1.564772</td>\n",
       "      <td>1.75154</td>\n",
       "      <td>1.905006</td>\n",
       "      <td>0.117493</td>\n",
       "      <td>0.10375</td>\n",
       "      <td>0.09609</td>\n",
       "      <td>0.116483</td>\n",
       "    </tr>\n",
       "    <tr>\n",
       "      <th>6524</th>\n",
       "      <td>28/10/2022 18:18:20</td>\n",
       "      <td>L-D: 24H</td>\n",
       "      <td>28500</td>\n",
       "      <td>Arganda del Rey</td>\n",
       "      <td>MADRID</td>\n",
       "      <td>AVENIDA VALDEARGANDA, 8</td>\n",
       "      <td>40,309944</td>\n",
       "      <td>-3,449889</td>\n",
       "      <td>2.025</td>\n",
       "      <td>NaN</td>\n",
       "      <td>...</td>\n",
       "      <td>1.926</td>\n",
       "      <td>CEPSA</td>\n",
       "      <td>1.954775</td>\n",
       "      <td>1.564772</td>\n",
       "      <td>1.75154</td>\n",
       "      <td>1.905006</td>\n",
       "      <td>0.117493</td>\n",
       "      <td>0.10375</td>\n",
       "      <td>0.09609</td>\n",
       "      <td>0.116483</td>\n",
       "    </tr>\n",
       "    <tr>\n",
       "      <th>6525</th>\n",
       "      <td>28/10/2022 18:18:20</td>\n",
       "      <td>L-D: 07:00-22:00</td>\n",
       "      <td>28500</td>\n",
       "      <td>Arganda del Rey</td>\n",
       "      <td>MADRID</td>\n",
       "      <td>AVENIDA FINANZAUTO (DE), 2</td>\n",
       "      <td>40,306889</td>\n",
       "      <td>-3,468694</td>\n",
       "      <td>1.899</td>\n",
       "      <td>NaN</td>\n",
       "      <td>...</td>\n",
       "      <td>NaN</td>\n",
       "      <td>DELFIOIL</td>\n",
       "      <td>1.954775</td>\n",
       "      <td>1.564772</td>\n",
       "      <td>1.75154</td>\n",
       "      <td>1.905006</td>\n",
       "      <td>0.117493</td>\n",
       "      <td>0.10375</td>\n",
       "      <td>0.09609</td>\n",
       "      <td>0.116483</td>\n",
       "    </tr>\n",
       "    <tr>\n",
       "      <th>6526</th>\n",
       "      <td>28/10/2022 18:18:20</td>\n",
       "      <td>L-D: 24H</td>\n",
       "      <td>28500</td>\n",
       "      <td>Arganda del Rey</td>\n",
       "      <td>MADRID</td>\n",
       "      <td>CAMINO CAMINO DE SAN MARTÍN DE LA VEGA A ARGAN...</td>\n",
       "      <td>40,303778</td>\n",
       "      <td>-3,451611</td>\n",
       "      <td>1.899</td>\n",
       "      <td>NaN</td>\n",
       "      <td>...</td>\n",
       "      <td>NaN</td>\n",
       "      <td>BALLENOIL</td>\n",
       "      <td>1.954775</td>\n",
       "      <td>1.564772</td>\n",
       "      <td>1.75154</td>\n",
       "      <td>1.905006</td>\n",
       "      <td>0.117493</td>\n",
       "      <td>0.10375</td>\n",
       "      <td>0.09609</td>\n",
       "      <td>0.116483</td>\n",
       "    </tr>\n",
       "    <tr>\n",
       "      <th>6527</th>\n",
       "      <td>28/10/2022 18:18:20</td>\n",
       "      <td>L-D: 24H</td>\n",
       "      <td>28500</td>\n",
       "      <td>Arganda del Rey</td>\n",
       "      <td>MADRID</td>\n",
       "      <td>CAMINO SAN MARTIN DE LA VEGA, 8</td>\n",
       "      <td>40,303222</td>\n",
       "      <td>-3,455472</td>\n",
       "      <td>1.899</td>\n",
       "      <td>NaN</td>\n",
       "      <td>...</td>\n",
       "      <td>NaN</td>\n",
       "      <td>BALLENOIL</td>\n",
       "      <td>1.954775</td>\n",
       "      <td>1.564772</td>\n",
       "      <td>1.75154</td>\n",
       "      <td>1.905006</td>\n",
       "      <td>0.117493</td>\n",
       "      <td>0.10375</td>\n",
       "      <td>0.09609</td>\n",
       "      <td>0.116483</td>\n",
       "    </tr>\n",
       "    <tr>\n",
       "      <th>6528</th>\n",
       "      <td>28/10/2022 18:18:20</td>\n",
       "      <td>L-D: 24H</td>\n",
       "      <td>28500</td>\n",
       "      <td>Arganda del Rey</td>\n",
       "      <td>MADRID</td>\n",
       "      <td>AVENIDA MADRID (DE), 66</td>\n",
       "      <td>40,306417</td>\n",
       "      <td>-3,463917</td>\n",
       "      <td>1.899</td>\n",
       "      <td>NaN</td>\n",
       "      <td>...</td>\n",
       "      <td>NaN</td>\n",
       "      <td>PLENOIL</td>\n",
       "      <td>1.954775</td>\n",
       "      <td>1.564772</td>\n",
       "      <td>1.75154</td>\n",
       "      <td>1.905006</td>\n",
       "      <td>0.117493</td>\n",
       "      <td>0.10375</td>\n",
       "      <td>0.09609</td>\n",
       "      <td>0.116483</td>\n",
       "    </tr>\n",
       "  </tbody>\n",
       "</table>\n",
       "<p>12 rows × 22 columns</p>\n",
       "</div>"
      ],
      "text/plain": [
       "                    Fecha                             Horario   C.P.  \\\n",
       "6517  28/10/2022 18:18:20                            L-D: 24H  28500   \n",
       "6518  28/10/2022 18:18:20                              L: 24H  28500   \n",
       "6519  28/10/2022 18:18:20  L-V: 06:00-22:00; S-D: 08:00-22:00  28500   \n",
       "6520  28/10/2022 18:18:20                    L-D: 06:00-00:00  28500   \n",
       "6521  28/10/2022 18:18:20                            L-D: 24H  28500   \n",
       "6522  28/10/2022 18:18:20                    L-D: 06:00-22:00  28500   \n",
       "6523  28/10/2022 18:18:20                            L-D: 24H  28500   \n",
       "6524  28/10/2022 18:18:20                            L-D: 24H  28500   \n",
       "6525  28/10/2022 18:18:20                    L-D: 07:00-22:00  28500   \n",
       "6526  28/10/2022 18:18:20                            L-D: 24H  28500   \n",
       "6527  28/10/2022 18:18:20                            L-D: 24H  28500   \n",
       "6528  28/10/2022 18:18:20                            L-D: 24H  28500   \n",
       "\n",
       "            Municipio Provincia  \\\n",
       "6517  Arganda del Rey    MADRID   \n",
       "6518  Arganda del Rey    MADRID   \n",
       "6519  Arganda del Rey    MADRID   \n",
       "6520  Arganda del Rey    MADRID   \n",
       "6521  Arganda del Rey    MADRID   \n",
       "6522  Arganda del Rey    MADRID   \n",
       "6523  Arganda del Rey    MADRID   \n",
       "6524  Arganda del Rey    MADRID   \n",
       "6525  Arganda del Rey    MADRID   \n",
       "6526  Arganda del Rey    MADRID   \n",
       "6527  Arganda del Rey    MADRID   \n",
       "6528  Arganda del Rey    MADRID   \n",
       "\n",
       "                                              Dirección    Latitud  \\\n",
       "6517                            AVENIDA MADRID (DE), SN  40,312250   \n",
       "6518                              CARRETERA M-832 KM. 3  40,291056   \n",
       "6519                                AVDA DE MADRID, 103  40,310000   \n",
       "6520                             AVENIDA DE MADRID, 126  40,310361   \n",
       "6521                              CARRETERA M-832 KM. 3  40,290944   \n",
       "6522                              AVENIDA DE MADRID, 37  40,305639   \n",
       "6523                         AVENIDA EJERCITO (DEL), 44  40,303139   \n",
       "6524                            AVENIDA VALDEARGANDA, 8  40,309944   \n",
       "6525                         AVENIDA FINANZAUTO (DE), 2  40,306889   \n",
       "6526  CAMINO CAMINO DE SAN MARTÍN DE LA VEGA A ARGAN...  40,303778   \n",
       "6527                    CAMINO SAN MARTIN DE LA VEGA, 8  40,303222   \n",
       "6528                            AVENIDA MADRID (DE), 66  40,306417   \n",
       "\n",
       "     Longitud (WGS84)  Gasoleo A  Gasoleo B  ...  Gasolina 98 E5  \\\n",
       "6517        -3,487028      1.899        NaN  ...             NaN   \n",
       "6518        -3,507278      2.072        NaN  ...             NaN   \n",
       "6519        -3,480833      2.039      1.669  ...             NaN   \n",
       "6520        -3,481806      1.939        NaN  ...             NaN   \n",
       "6521        -3,508111      2.072        NaN  ...             NaN   \n",
       "6522        -3,462778      2.029        NaN  ...           1.931   \n",
       "6523        -3,448389      2.029        NaN  ...           1.931   \n",
       "6524        -3,449889      2.025        NaN  ...           1.926   \n",
       "6525        -3,468694      1.899        NaN  ...             NaN   \n",
       "6526        -3,451611      1.899        NaN  ...             NaN   \n",
       "6527        -3,455472      1.899        NaN  ...             NaN   \n",
       "6528        -3,463917      1.899        NaN  ...             NaN   \n",
       "\n",
       "      Estación de Servicio  Media_Gasoleo A Media_Gasoleo B  \\\n",
       "6517             PETROPRIX         1.954775        1.564772   \n",
       "6518                REPSOL         1.954775        1.564772   \n",
       "6519                REPSOL         1.954775        1.564772   \n",
       "6520               ATENOIL         1.954775        1.564772   \n",
       "6521                REPSOL         1.954775        1.564772   \n",
       "6522       BP LA ARGANDEÑA         1.954775        1.564772   \n",
       "6523            BP ARGANDA         1.954775        1.564772   \n",
       "6524                 CEPSA         1.954775        1.564772   \n",
       "6525              DELFIOIL         1.954775        1.564772   \n",
       "6526             BALLENOIL         1.954775        1.564772   \n",
       "6527             BALLENOIL         1.954775        1.564772   \n",
       "6528               PLENOIL         1.954775        1.564772   \n",
       "\n",
       "      Media_Gasoleo Gasolina 95  Media_Gasolina 98  STD_Gasoleo A  \\\n",
       "6517                    1.75154           1.905006       0.117493   \n",
       "6518                    1.75154           1.905006       0.117493   \n",
       "6519                    1.75154           1.905006       0.117493   \n",
       "6520                    1.75154           1.905006       0.117493   \n",
       "6521                    1.75154           1.905006       0.117493   \n",
       "6522                    1.75154           1.905006       0.117493   \n",
       "6523                    1.75154           1.905006       0.117493   \n",
       "6524                    1.75154           1.905006       0.117493   \n",
       "6525                    1.75154           1.905006       0.117493   \n",
       "6526                    1.75154           1.905006       0.117493   \n",
       "6527                    1.75154           1.905006       0.117493   \n",
       "6528                    1.75154           1.905006       0.117493   \n",
       "\n",
       "      STD_Gasoleo B  STD_Gasoleo Gasolina 95  STD_Gasolina 98  \n",
       "6517        0.10375                  0.09609         0.116483  \n",
       "6518        0.10375                  0.09609         0.116483  \n",
       "6519        0.10375                  0.09609         0.116483  \n",
       "6520        0.10375                  0.09609         0.116483  \n",
       "6521        0.10375                  0.09609         0.116483  \n",
       "6522        0.10375                  0.09609         0.116483  \n",
       "6523        0.10375                  0.09609         0.116483  \n",
       "6524        0.10375                  0.09609         0.116483  \n",
       "6525        0.10375                  0.09609         0.116483  \n",
       "6526        0.10375                  0.09609         0.116483  \n",
       "6527        0.10375                  0.09609         0.116483  \n",
       "6528        0.10375                  0.09609         0.116483  \n",
       "\n",
       "[12 rows x 22 columns]"
      ]
     },
     "execution_count": 156,
     "metadata": {},
     "output_type": "execute_result"
    }
   ],
   "source": [
    "x1 = df_n[\"C.P.\"]=='28500'\n",
    "x2 = df_n[x1]\n",
    "x2"
   ]
  },
  {
   "cell_type": "code",
   "execution_count": 157,
   "id": "76cc76f7",
   "metadata": {},
   "outputs": [],
   "source": [
    "# Precio mínimo por Provincia seleccionada\n",
    "def provincia_minimo(cp, Y):\n",
    "# cp = Provincia\n",
    "# Y = Tipo de Combustible    \n",
    "    cp_x = df_n[df_n[\"Provincia\"] == cp]\n",
    "    minimo = pd.DataFrame(cp_x.loc[cp_x[[Y]].idxmin()])\n",
    "    return pd.DataFrame(minimo)"
   ]
  },
  {
   "cell_type": "code",
   "execution_count": 158,
   "id": "9e76f0ba",
   "metadata": {},
   "outputs": [
    {
     "data": {
      "text/html": [
       "<div>\n",
       "<style scoped>\n",
       "    .dataframe tbody tr th:only-of-type {\n",
       "        vertical-align: middle;\n",
       "    }\n",
       "\n",
       "    .dataframe tbody tr th {\n",
       "        vertical-align: top;\n",
       "    }\n",
       "\n",
       "    .dataframe thead th {\n",
       "        text-align: right;\n",
       "    }\n",
       "</style>\n",
       "<table border=\"1\" class=\"dataframe\">\n",
       "  <thead>\n",
       "    <tr style=\"text-align: right;\">\n",
       "      <th></th>\n",
       "      <th>Fecha</th>\n",
       "      <th>Horario</th>\n",
       "      <th>C.P.</th>\n",
       "      <th>Municipio</th>\n",
       "      <th>Provincia</th>\n",
       "      <th>Dirección</th>\n",
       "      <th>Latitud</th>\n",
       "      <th>Longitud (WGS84)</th>\n",
       "      <th>Gasoleo A</th>\n",
       "      <th>Gasoleo B</th>\n",
       "      <th>...</th>\n",
       "      <th>Gasolina 98 E5</th>\n",
       "      <th>Estación de Servicio</th>\n",
       "      <th>Media_Gasoleo A</th>\n",
       "      <th>Media_Gasoleo B</th>\n",
       "      <th>Media_Gasoleo Gasolina 95</th>\n",
       "      <th>Media_Gasolina 98</th>\n",
       "      <th>STD_Gasoleo A</th>\n",
       "      <th>STD_Gasoleo B</th>\n",
       "      <th>STD_Gasoleo Gasolina 95</th>\n",
       "      <th>STD_Gasolina 98</th>\n",
       "    </tr>\n",
       "  </thead>\n",
       "  <tbody>\n",
       "    <tr>\n",
       "      <th>6618</th>\n",
       "      <td>28/10/2022 18:18:20</td>\n",
       "      <td>L-D: 24H</td>\n",
       "      <td>28944</td>\n",
       "      <td>Fuenlabrada</td>\n",
       "      <td>MADRID</td>\n",
       "      <td>CALLE ANETO, 1</td>\n",
       "      <td>40,279167</td>\n",
       "      <td>-3,801806</td>\n",
       "      <td>1.795</td>\n",
       "      <td>NaN</td>\n",
       "      <td>...</td>\n",
       "      <td>NaN</td>\n",
       "      <td>BALLENOIL</td>\n",
       "      <td>1.954775</td>\n",
       "      <td>1.564772</td>\n",
       "      <td>1.75154</td>\n",
       "      <td>1.905006</td>\n",
       "      <td>0.117493</td>\n",
       "      <td>0.10375</td>\n",
       "      <td>0.09609</td>\n",
       "      <td>0.116483</td>\n",
       "    </tr>\n",
       "  </tbody>\n",
       "</table>\n",
       "<p>1 rows × 22 columns</p>\n",
       "</div>"
      ],
      "text/plain": [
       "                    Fecha   Horario   C.P.    Municipio Provincia  \\\n",
       "6618  28/10/2022 18:18:20  L-D: 24H  28944  Fuenlabrada    MADRID   \n",
       "\n",
       "           Dirección    Latitud Longitud (WGS84)  Gasoleo A  Gasoleo B  ...  \\\n",
       "6618  CALLE ANETO, 1  40,279167        -3,801806      1.795        NaN  ...   \n",
       "\n",
       "      Gasolina 98 E5  Estación de Servicio  Media_Gasoleo A Media_Gasoleo B  \\\n",
       "6618             NaN             BALLENOIL         1.954775        1.564772   \n",
       "\n",
       "      Media_Gasoleo Gasolina 95  Media_Gasolina 98  STD_Gasoleo A  \\\n",
       "6618                    1.75154           1.905006       0.117493   \n",
       "\n",
       "      STD_Gasoleo B  STD_Gasoleo Gasolina 95  STD_Gasolina 98  \n",
       "6618        0.10375                  0.09609         0.116483  \n",
       "\n",
       "[1 rows x 22 columns]"
      ]
     },
     "execution_count": 158,
     "metadata": {},
     "output_type": "execute_result"
    }
   ],
   "source": [
    "provincia_minimo('MADRID', 'Gasoleo A')"
   ]
  },
  {
   "cell_type": "code",
   "execution_count": 162,
   "id": "94daf5b4",
   "metadata": {},
   "outputs": [],
   "source": [
    "# Precio mínimo por Municipio\n",
    "def municipio_minimo(cp, Y):\n",
    "# cp = Municipio\n",
    "# Y = Tipo de Combustible    \n",
    "    cp_x = df_n[df_n[\"Municipio\"] == cp]\n",
    "    minimo = pd.DataFrame(cp_x.loc[cp_x[[Y]].idxmin()])\n",
    "    return pd.DataFrame(minimo)"
   ]
  },
  {
   "cell_type": "code",
   "execution_count": 163,
   "id": "870d8abe",
   "metadata": {},
   "outputs": [
    {
     "data": {
      "text/html": [
       "<div>\n",
       "<style scoped>\n",
       "    .dataframe tbody tr th:only-of-type {\n",
       "        vertical-align: middle;\n",
       "    }\n",
       "\n",
       "    .dataframe tbody tr th {\n",
       "        vertical-align: top;\n",
       "    }\n",
       "\n",
       "    .dataframe thead th {\n",
       "        text-align: right;\n",
       "    }\n",
       "</style>\n",
       "<table border=\"1\" class=\"dataframe\">\n",
       "  <thead>\n",
       "    <tr style=\"text-align: right;\">\n",
       "      <th></th>\n",
       "      <th>Fecha</th>\n",
       "      <th>Horario</th>\n",
       "      <th>C.P.</th>\n",
       "      <th>Municipio</th>\n",
       "      <th>Provincia</th>\n",
       "      <th>Dirección</th>\n",
       "      <th>Latitud</th>\n",
       "      <th>Longitud (WGS84)</th>\n",
       "      <th>Gasoleo A</th>\n",
       "      <th>Gasoleo B</th>\n",
       "      <th>...</th>\n",
       "      <th>Gasolina 98 E5</th>\n",
       "      <th>Estación de Servicio</th>\n",
       "      <th>Media_Gasoleo A</th>\n",
       "      <th>Media_Gasoleo B</th>\n",
       "      <th>Media_Gasoleo Gasolina 95</th>\n",
       "      <th>Media_Gasolina 98</th>\n",
       "      <th>STD_Gasoleo A</th>\n",
       "      <th>STD_Gasoleo B</th>\n",
       "      <th>STD_Gasoleo Gasolina 95</th>\n",
       "      <th>STD_Gasolina 98</th>\n",
       "    </tr>\n",
       "  </thead>\n",
       "  <tbody>\n",
       "    <tr>\n",
       "      <th>6549</th>\n",
       "      <td>28/10/2022 18:18:20</td>\n",
       "      <td>L-S: 7:30-20:30; D: 8:30-20:00</td>\n",
       "      <td>28470</td>\n",
       "      <td>Cercedilla</td>\n",
       "      <td>MADRID</td>\n",
       "      <td>CARRETERA M 622 (CARRETERA GUADARRAMA A LA FUE...</td>\n",
       "      <td>40,733111</td>\n",
       "      <td>-4,067528</td>\n",
       "      <td>2.009</td>\n",
       "      <td>NaN</td>\n",
       "      <td>...</td>\n",
       "      <td>NaN</td>\n",
       "      <td>REPSOL</td>\n",
       "      <td>1.954775</td>\n",
       "      <td>1.564772</td>\n",
       "      <td>1.75154</td>\n",
       "      <td>1.905006</td>\n",
       "      <td>0.117493</td>\n",
       "      <td>0.10375</td>\n",
       "      <td>0.09609</td>\n",
       "      <td>0.116483</td>\n",
       "    </tr>\n",
       "  </tbody>\n",
       "</table>\n",
       "<p>1 rows × 22 columns</p>\n",
       "</div>"
      ],
      "text/plain": [
       "                    Fecha                         Horario   C.P.   Municipio  \\\n",
       "6549  28/10/2022 18:18:20  L-S: 7:30-20:30; D: 8:30-20:00  28470  Cercedilla   \n",
       "\n",
       "     Provincia                                          Dirección    Latitud  \\\n",
       "6549    MADRID  CARRETERA M 622 (CARRETERA GUADARRAMA A LA FUE...  40,733111   \n",
       "\n",
       "     Longitud (WGS84)  Gasoleo A  Gasoleo B  ...  Gasolina 98 E5  \\\n",
       "6549        -4,067528      2.009        NaN  ...             NaN   \n",
       "\n",
       "      Estación de Servicio  Media_Gasoleo A Media_Gasoleo B  \\\n",
       "6549                REPSOL         1.954775        1.564772   \n",
       "\n",
       "      Media_Gasoleo Gasolina 95  Media_Gasolina 98  STD_Gasoleo A  \\\n",
       "6549                    1.75154           1.905006       0.117493   \n",
       "\n",
       "      STD_Gasoleo B  STD_Gasoleo Gasolina 95  STD_Gasolina 98  \n",
       "6549        0.10375                  0.09609         0.116483  \n",
       "\n",
       "[1 rows x 22 columns]"
      ]
     },
     "execution_count": 163,
     "metadata": {},
     "output_type": "execute_result"
    }
   ],
   "source": [
    "municipio_minimo('Cercedilla', 'Gasoleo A')"
   ]
  },
  {
   "cell_type": "code",
   "execution_count": 164,
   "id": "9f08be70",
   "metadata": {},
   "outputs": [],
   "source": [
    "def gasolinera_minimo(cp, Y):\n",
    "# cp = Municipio\n",
    "# Y = Tipo de Combustible    \n",
    "    cp_x = df_n[df_n[\"Estación de Servicio\"] == cp]\n",
    "    minimo = pd.DataFrame(cp_x.loc[cp_x[[Y]].idxmin()])\n",
    "    return pd.DataFrame(minimo)"
   ]
  },
  {
   "cell_type": "code",
   "execution_count": 165,
   "id": "c3776eb1",
   "metadata": {},
   "outputs": [
    {
     "data": {
      "text/html": [
       "<div>\n",
       "<style scoped>\n",
       "    .dataframe tbody tr th:only-of-type {\n",
       "        vertical-align: middle;\n",
       "    }\n",
       "\n",
       "    .dataframe tbody tr th {\n",
       "        vertical-align: top;\n",
       "    }\n",
       "\n",
       "    .dataframe thead th {\n",
       "        text-align: right;\n",
       "    }\n",
       "</style>\n",
       "<table border=\"1\" class=\"dataframe\">\n",
       "  <thead>\n",
       "    <tr style=\"text-align: right;\">\n",
       "      <th></th>\n",
       "      <th>Fecha</th>\n",
       "      <th>Horario</th>\n",
       "      <th>C.P.</th>\n",
       "      <th>Municipio</th>\n",
       "      <th>Provincia</th>\n",
       "      <th>Dirección</th>\n",
       "      <th>Latitud</th>\n",
       "      <th>Longitud (WGS84)</th>\n",
       "      <th>Gasoleo A</th>\n",
       "      <th>Gasoleo B</th>\n",
       "      <th>...</th>\n",
       "      <th>Gasolina 98 E5</th>\n",
       "      <th>Estación de Servicio</th>\n",
       "      <th>Media_Gasoleo A</th>\n",
       "      <th>Media_Gasoleo B</th>\n",
       "      <th>Media_Gasoleo Gasolina 95</th>\n",
       "      <th>Media_Gasolina 98</th>\n",
       "      <th>STD_Gasoleo A</th>\n",
       "      <th>STD_Gasoleo B</th>\n",
       "      <th>STD_Gasoleo Gasolina 95</th>\n",
       "      <th>STD_Gasolina 98</th>\n",
       "    </tr>\n",
       "  </thead>\n",
       "  <tbody>\n",
       "    <tr>\n",
       "      <th>9307</th>\n",
       "      <td>28/10/2022 18:18:20</td>\n",
       "      <td>L-D: 06:00-21:00</td>\n",
       "      <td>38435</td>\n",
       "      <td>Tanque (El)</td>\n",
       "      <td>SANTA CRUZ DE TENERIFE</td>\n",
       "      <td>CARRETERA TF-82 KM. 8</td>\n",
       "      <td>28,356333</td>\n",
       "      <td>-16,777139</td>\n",
       "      <td>1.449</td>\n",
       "      <td>NaN</td>\n",
       "      <td>...</td>\n",
       "      <td>1.509</td>\n",
       "      <td>REPSOL</td>\n",
       "      <td>1.954775</td>\n",
       "      <td>1.564772</td>\n",
       "      <td>1.75154</td>\n",
       "      <td>1.905006</td>\n",
       "      <td>0.117493</td>\n",
       "      <td>0.10375</td>\n",
       "      <td>0.09609</td>\n",
       "      <td>0.116483</td>\n",
       "    </tr>\n",
       "  </tbody>\n",
       "</table>\n",
       "<p>1 rows × 22 columns</p>\n",
       "</div>"
      ],
      "text/plain": [
       "                    Fecha           Horario   C.P.    Municipio  \\\n",
       "9307  28/10/2022 18:18:20  L-D: 06:00-21:00  38435  Tanque (El)   \n",
       "\n",
       "                   Provincia              Dirección    Latitud  \\\n",
       "9307  SANTA CRUZ DE TENERIFE  CARRETERA TF-82 KM. 8  28,356333   \n",
       "\n",
       "     Longitud (WGS84)  Gasoleo A  Gasoleo B  ...  Gasolina 98 E5  \\\n",
       "9307       -16,777139      1.449        NaN  ...           1.509   \n",
       "\n",
       "      Estación de Servicio  Media_Gasoleo A Media_Gasoleo B  \\\n",
       "9307                REPSOL         1.954775        1.564772   \n",
       "\n",
       "      Media_Gasoleo Gasolina 95  Media_Gasolina 98  STD_Gasoleo A  \\\n",
       "9307                    1.75154           1.905006       0.117493   \n",
       "\n",
       "      STD_Gasoleo B  STD_Gasoleo Gasolina 95  STD_Gasolina 98  \n",
       "9307        0.10375                  0.09609         0.116483  \n",
       "\n",
       "[1 rows x 22 columns]"
      ]
     },
     "execution_count": 165,
     "metadata": {},
     "output_type": "execute_result"
    }
   ],
   "source": [
    "gasolinera_minimo('REPSOL', 'Gasoleo A')"
   ]
  },
  {
   "cell_type": "code",
   "execution_count": 190,
   "id": "07fe3213",
   "metadata": {},
   "outputs": [],
   "source": [
    "# Función para convertir códigos postales\n",
    "def convert(mun):\n",
    "    mun_x = df_n[df_n[\"Municipio\"] == mun]\n",
    "    cp = pd.DataFrame(mun_x[[\"C.P.\", \"Municipio\"]])\n",
    "    return cp\n",
    "    "
   ]
  },
  {
   "cell_type": "code",
   "execution_count": 191,
   "id": "ba996755",
   "metadata": {},
   "outputs": [
    {
     "data": {
      "text/html": [
       "<div>\n",
       "<style scoped>\n",
       "    .dataframe tbody tr th:only-of-type {\n",
       "        vertical-align: middle;\n",
       "    }\n",
       "\n",
       "    .dataframe tbody tr th {\n",
       "        vertical-align: top;\n",
       "    }\n",
       "\n",
       "    .dataframe thead th {\n",
       "        text-align: right;\n",
       "    }\n",
       "</style>\n",
       "<table border=\"1\" class=\"dataframe\">\n",
       "  <thead>\n",
       "    <tr style=\"text-align: right;\">\n",
       "      <th></th>\n",
       "      <th>C.P.</th>\n",
       "      <th>Municipio</th>\n",
       "    </tr>\n",
       "  </thead>\n",
       "  <tbody>\n",
       "    <tr>\n",
       "      <th>6991</th>\n",
       "      <td>28931</td>\n",
       "      <td>Móstoles</td>\n",
       "    </tr>\n",
       "    <tr>\n",
       "      <th>6992</th>\n",
       "      <td>28934</td>\n",
       "      <td>Móstoles</td>\n",
       "    </tr>\n",
       "    <tr>\n",
       "      <th>6993</th>\n",
       "      <td>28935</td>\n",
       "      <td>Móstoles</td>\n",
       "    </tr>\n",
       "    <tr>\n",
       "      <th>6994</th>\n",
       "      <td>28935</td>\n",
       "      <td>Móstoles</td>\n",
       "    </tr>\n",
       "    <tr>\n",
       "      <th>6995</th>\n",
       "      <td>28935</td>\n",
       "      <td>Móstoles</td>\n",
       "    </tr>\n",
       "    <tr>\n",
       "      <th>6996</th>\n",
       "      <td>28935</td>\n",
       "      <td>Móstoles</td>\n",
       "    </tr>\n",
       "    <tr>\n",
       "      <th>6997</th>\n",
       "      <td>28935</td>\n",
       "      <td>Móstoles</td>\n",
       "    </tr>\n",
       "    <tr>\n",
       "      <th>6998</th>\n",
       "      <td>28935</td>\n",
       "      <td>Móstoles</td>\n",
       "    </tr>\n",
       "    <tr>\n",
       "      <th>6999</th>\n",
       "      <td>28933</td>\n",
       "      <td>Móstoles</td>\n",
       "    </tr>\n",
       "    <tr>\n",
       "      <th>7000</th>\n",
       "      <td>28935</td>\n",
       "      <td>Móstoles</td>\n",
       "    </tr>\n",
       "    <tr>\n",
       "      <th>7001</th>\n",
       "      <td>28937</td>\n",
       "      <td>Móstoles</td>\n",
       "    </tr>\n",
       "    <tr>\n",
       "      <th>7002</th>\n",
       "      <td>28937</td>\n",
       "      <td>Móstoles</td>\n",
       "    </tr>\n",
       "    <tr>\n",
       "      <th>7003</th>\n",
       "      <td>28936</td>\n",
       "      <td>Móstoles</td>\n",
       "    </tr>\n",
       "    <tr>\n",
       "      <th>7004</th>\n",
       "      <td>28936</td>\n",
       "      <td>Móstoles</td>\n",
       "    </tr>\n",
       "    <tr>\n",
       "      <th>7005</th>\n",
       "      <td>28936</td>\n",
       "      <td>Móstoles</td>\n",
       "    </tr>\n",
       "    <tr>\n",
       "      <th>7006</th>\n",
       "      <td>28938</td>\n",
       "      <td>Móstoles</td>\n",
       "    </tr>\n",
       "    <tr>\n",
       "      <th>7007</th>\n",
       "      <td>28938</td>\n",
       "      <td>Móstoles</td>\n",
       "    </tr>\n",
       "    <tr>\n",
       "      <th>7008</th>\n",
       "      <td>28938</td>\n",
       "      <td>Móstoles</td>\n",
       "    </tr>\n",
       "    <tr>\n",
       "      <th>7009</th>\n",
       "      <td>28938</td>\n",
       "      <td>Móstoles</td>\n",
       "    </tr>\n",
       "  </tbody>\n",
       "</table>\n",
       "</div>"
      ],
      "text/plain": [
       "       C.P. Municipio\n",
       "6991  28931  Móstoles\n",
       "6992  28934  Móstoles\n",
       "6993  28935  Móstoles\n",
       "6994  28935  Móstoles\n",
       "6995  28935  Móstoles\n",
       "6996  28935  Móstoles\n",
       "6997  28935  Móstoles\n",
       "6998  28935  Móstoles\n",
       "6999  28933  Móstoles\n",
       "7000  28935  Móstoles\n",
       "7001  28937  Móstoles\n",
       "7002  28937  Móstoles\n",
       "7003  28936  Móstoles\n",
       "7004  28936  Móstoles\n",
       "7005  28936  Móstoles\n",
       "7006  28938  Móstoles\n",
       "7007  28938  Móstoles\n",
       "7008  28938  Móstoles\n",
       "7009  28938  Móstoles"
      ]
     },
     "execution_count": 191,
     "metadata": {},
     "output_type": "execute_result"
    }
   ],
   "source": [
    "convert('Móstoles')"
   ]
  },
  {
   "cell_type": "code",
   "execution_count": 202,
   "id": "752fcb3c",
   "metadata": {},
   "outputs": [],
   "source": [
    "# Listado de Gasolineras por Municipio\n",
    "def gasolineras_municipio(gas):\n",
    "    mun_x = df_n[df_n[\"Municipio\"] == gas]\n",
    "    cp_x = pd.DataFrame(mun_x[[\"Estación de Servicio\"]])\n",
    "    return cp_x\n"
   ]
  },
  {
   "cell_type": "code",
   "execution_count": 203,
   "id": "9f8ea85c",
   "metadata": {},
   "outputs": [
    {
     "data": {
      "text/html": [
       "<div>\n",
       "<style scoped>\n",
       "    .dataframe tbody tr th:only-of-type {\n",
       "        vertical-align: middle;\n",
       "    }\n",
       "\n",
       "    .dataframe tbody tr th {\n",
       "        vertical-align: top;\n",
       "    }\n",
       "\n",
       "    .dataframe thead th {\n",
       "        text-align: right;\n",
       "    }\n",
       "</style>\n",
       "<table border=\"1\" class=\"dataframe\">\n",
       "  <thead>\n",
       "    <tr style=\"text-align: right;\">\n",
       "      <th></th>\n",
       "      <th>Estación de Servicio</th>\n",
       "    </tr>\n",
       "  </thead>\n",
       "  <tbody>\n",
       "    <tr>\n",
       "      <th>7012</th>\n",
       "      <td>REPSOL</td>\n",
       "    </tr>\n",
       "    <tr>\n",
       "      <th>7013</th>\n",
       "      <td>REPSOL</td>\n",
       "    </tr>\n",
       "    <tr>\n",
       "      <th>7014</th>\n",
       "      <td>CEPSA</td>\n",
       "    </tr>\n",
       "    <tr>\n",
       "      <th>7015</th>\n",
       "      <td>CEPSA</td>\n",
       "    </tr>\n",
       "    <tr>\n",
       "      <th>7016</th>\n",
       "      <td>CEPSA</td>\n",
       "    </tr>\n",
       "    <tr>\n",
       "      <th>7017</th>\n",
       "      <td>CHEAPOIL</td>\n",
       "    </tr>\n",
       "    <tr>\n",
       "      <th>7018</th>\n",
       "      <td>MAXPETROL</td>\n",
       "    </tr>\n",
       "    <tr>\n",
       "      <th>7019</th>\n",
       "      <td>BALLENOIL</td>\n",
       "    </tr>\n",
       "  </tbody>\n",
       "</table>\n",
       "</div>"
      ],
      "text/plain": [
       "     Estación de Servicio\n",
       "7012               REPSOL\n",
       "7013               REPSOL\n",
       "7014                CEPSA\n",
       "7015                CEPSA\n",
       "7016                CEPSA\n",
       "7017             CHEAPOIL\n",
       "7018            MAXPETROL\n",
       "7019            BALLENOIL"
      ]
     },
     "execution_count": 203,
     "metadata": {},
     "output_type": "execute_result"
    }
   ],
   "source": [
    "gasolineras_municipio('Navalcarnero')"
   ]
  },
  {
   "cell_type": "code",
   "execution_count": 211,
   "id": "42d352ec",
   "metadata": {},
   "outputs": [],
   "source": [
    "# Listado de Gasolineras por Provincia\n",
    "def gasolineras_provincia(prov):\n",
    "    cp_x = df_n[df_n[\"Provincia\"] == prov]\n",
    "    return cp_x\n"
   ]
  },
  {
   "cell_type": "code",
   "execution_count": 214,
   "id": "fb0d41d2",
   "metadata": {},
   "outputs": [
    {
     "data": {
      "text/html": [
       "<div>\n",
       "<style scoped>\n",
       "    .dataframe tbody tr th:only-of-type {\n",
       "        vertical-align: middle;\n",
       "    }\n",
       "\n",
       "    .dataframe tbody tr th {\n",
       "        vertical-align: top;\n",
       "    }\n",
       "\n",
       "    .dataframe thead th {\n",
       "        text-align: right;\n",
       "    }\n",
       "</style>\n",
       "<table border=\"1\" class=\"dataframe\">\n",
       "  <thead>\n",
       "    <tr style=\"text-align: right;\">\n",
       "      <th></th>\n",
       "      <th>Fecha</th>\n",
       "      <th>Horario</th>\n",
       "      <th>C.P.</th>\n",
       "      <th>Municipio</th>\n",
       "      <th>Provincia</th>\n",
       "      <th>Dirección</th>\n",
       "      <th>Latitud</th>\n",
       "      <th>Longitud (WGS84)</th>\n",
       "      <th>Gasoleo A</th>\n",
       "      <th>Gasoleo B</th>\n",
       "      <th>...</th>\n",
       "      <th>Gasolina 98 E5</th>\n",
       "      <th>Estación de Servicio</th>\n",
       "      <th>Media_Gasoleo A</th>\n",
       "      <th>Media_Gasoleo B</th>\n",
       "      <th>Media_Gasoleo Gasolina 95</th>\n",
       "      <th>Media_Gasolina 98</th>\n",
       "      <th>STD_Gasoleo A</th>\n",
       "      <th>STD_Gasoleo B</th>\n",
       "      <th>STD_Gasoleo Gasolina 95</th>\n",
       "      <th>STD_Gasolina 98</th>\n",
       "    </tr>\n",
       "  </thead>\n",
       "  <tbody>\n",
       "    <tr>\n",
       "      <th>5365</th>\n",
       "      <td>28/10/2022 18:18:20</td>\n",
       "      <td>L-D: 24H</td>\n",
       "      <td>21110</td>\n",
       "      <td>Aljaraque</td>\n",
       "      <td>HUELVA</td>\n",
       "      <td>AUTOVIA A-497 KM. 7</td>\n",
       "      <td>37,259167</td>\n",
       "      <td>-7,012750</td>\n",
       "      <td>1.957</td>\n",
       "      <td>NaN</td>\n",
       "      <td>...</td>\n",
       "      <td>1.857</td>\n",
       "      <td>MEROIL</td>\n",
       "      <td>1.954775</td>\n",
       "      <td>1.564772</td>\n",
       "      <td>1.75154</td>\n",
       "      <td>1.905006</td>\n",
       "      <td>0.117493</td>\n",
       "      <td>0.10375</td>\n",
       "      <td>0.09609</td>\n",
       "      <td>0.116483</td>\n",
       "    </tr>\n",
       "    <tr>\n",
       "      <th>5366</th>\n",
       "      <td>28/10/2022 18:18:20</td>\n",
       "      <td>L-D: 24H</td>\n",
       "      <td>21110</td>\n",
       "      <td>Aljaraque</td>\n",
       "      <td>HUELVA</td>\n",
       "      <td>CARRETERA A-492 KM. 0,100</td>\n",
       "      <td>37,273944</td>\n",
       "      <td>-6,991028</td>\n",
       "      <td>1.929</td>\n",
       "      <td>NaN</td>\n",
       "      <td>...</td>\n",
       "      <td>1.799</td>\n",
       "      <td>TAMOIL</td>\n",
       "      <td>1.954775</td>\n",
       "      <td>1.564772</td>\n",
       "      <td>1.75154</td>\n",
       "      <td>1.905006</td>\n",
       "      <td>0.117493</td>\n",
       "      <td>0.10375</td>\n",
       "      <td>0.09609</td>\n",
       "      <td>0.116483</td>\n",
       "    </tr>\n",
       "    <tr>\n",
       "      <th>5367</th>\n",
       "      <td>28/10/2022 18:18:20</td>\n",
       "      <td>L-D: 07:00-23:00</td>\n",
       "      <td>21110</td>\n",
       "      <td>Aljaraque</td>\n",
       "      <td>HUELVA</td>\n",
       "      <td>CALLE CERAMICA, 1</td>\n",
       "      <td>37,257889</td>\n",
       "      <td>-7,018417</td>\n",
       "      <td>1.957</td>\n",
       "      <td>NaN</td>\n",
       "      <td>...</td>\n",
       "      <td>NaN</td>\n",
       "      <td>HIGUEROIL</td>\n",
       "      <td>1.954775</td>\n",
       "      <td>1.564772</td>\n",
       "      <td>1.75154</td>\n",
       "      <td>1.905006</td>\n",
       "      <td>0.117493</td>\n",
       "      <td>0.10375</td>\n",
       "      <td>0.09609</td>\n",
       "      <td>0.116483</td>\n",
       "    </tr>\n",
       "    <tr>\n",
       "      <th>5368</th>\n",
       "      <td>28/10/2022 18:18:20</td>\n",
       "      <td>L-D: 24H</td>\n",
       "      <td>21730</td>\n",
       "      <td>Almonte</td>\n",
       "      <td>HUELVA</td>\n",
       "      <td>AVENIDA DE LOS CABEZUDOS, 1</td>\n",
       "      <td>37,258583</td>\n",
       "      <td>-6,520556</td>\n",
       "      <td>1.990</td>\n",
       "      <td>1.545</td>\n",
       "      <td>...</td>\n",
       "      <td>NaN</td>\n",
       "      <td>E.S PUERTA DOÑANA 2</td>\n",
       "      <td>1.954775</td>\n",
       "      <td>1.564772</td>\n",
       "      <td>1.75154</td>\n",
       "      <td>1.905006</td>\n",
       "      <td>0.117493</td>\n",
       "      <td>0.10375</td>\n",
       "      <td>0.09609</td>\n",
       "      <td>0.116483</td>\n",
       "    </tr>\n",
       "    <tr>\n",
       "      <th>5369</th>\n",
       "      <td>28/10/2022 18:18:20</td>\n",
       "      <td>L-D: 24H</td>\n",
       "      <td>21730</td>\n",
       "      <td>Almonte</td>\n",
       "      <td>HUELVA</td>\n",
       "      <td>POLIGONO INDUSTRIAL EL TOMILLAR,PARCELA, 77</td>\n",
       "      <td>37,254056</td>\n",
       "      <td>-6,507861</td>\n",
       "      <td>1.955</td>\n",
       "      <td>1.539</td>\n",
       "      <td>...</td>\n",
       "      <td>NaN</td>\n",
       "      <td>CEPSA</td>\n",
       "      <td>1.954775</td>\n",
       "      <td>1.564772</td>\n",
       "      <td>1.75154</td>\n",
       "      <td>1.905006</td>\n",
       "      <td>0.117493</td>\n",
       "      <td>0.10375</td>\n",
       "      <td>0.09609</td>\n",
       "      <td>0.116483</td>\n",
       "    </tr>\n",
       "    <tr>\n",
       "      <th>...</th>\n",
       "      <td>...</td>\n",
       "      <td>...</td>\n",
       "      <td>...</td>\n",
       "      <td>...</td>\n",
       "      <td>...</td>\n",
       "      <td>...</td>\n",
       "      <td>...</td>\n",
       "      <td>...</td>\n",
       "      <td>...</td>\n",
       "      <td>...</td>\n",
       "      <td>...</td>\n",
       "      <td>...</td>\n",
       "      <td>...</td>\n",
       "      <td>...</td>\n",
       "      <td>...</td>\n",
       "      <td>...</td>\n",
       "      <td>...</td>\n",
       "      <td>...</td>\n",
       "      <td>...</td>\n",
       "      <td>...</td>\n",
       "      <td>...</td>\n",
       "    </tr>\n",
       "    <tr>\n",
       "      <th>5511</th>\n",
       "      <td>28/10/2022 18:18:20</td>\n",
       "      <td>L-D: 05:00-00:00</td>\n",
       "      <td>21860</td>\n",
       "      <td>Villalba del Alcor</td>\n",
       "      <td>HUELVA</td>\n",
       "      <td>CARRETERA A-472 KM. 28</td>\n",
       "      <td>37,396444</td>\n",
       "      <td>-6,485611</td>\n",
       "      <td>2.039</td>\n",
       "      <td>1.760</td>\n",
       "      <td>...</td>\n",
       "      <td>NaN</td>\n",
       "      <td>REPSOL</td>\n",
       "      <td>1.954775</td>\n",
       "      <td>1.564772</td>\n",
       "      <td>1.75154</td>\n",
       "      <td>1.905006</td>\n",
       "      <td>0.117493</td>\n",
       "      <td>0.10375</td>\n",
       "      <td>0.09609</td>\n",
       "      <td>0.116483</td>\n",
       "    </tr>\n",
       "    <tr>\n",
       "      <th>5512</th>\n",
       "      <td>28/10/2022 18:18:20</td>\n",
       "      <td>L-D: 07:00-22:00</td>\n",
       "      <td>21540</td>\n",
       "      <td>Villanueva de los Castillejos</td>\n",
       "      <td>HUELVA</td>\n",
       "      <td>CARRETERA HUELVA KM. 31</td>\n",
       "      <td>37,497139</td>\n",
       "      <td>-7,268444</td>\n",
       "      <td>2.079</td>\n",
       "      <td>NaN</td>\n",
       "      <td>...</td>\n",
       "      <td>NaN</td>\n",
       "      <td>E.S. LA CRUZ DEL GALLO</td>\n",
       "      <td>1.954775</td>\n",
       "      <td>1.564772</td>\n",
       "      <td>1.75154</td>\n",
       "      <td>1.905006</td>\n",
       "      <td>0.117493</td>\n",
       "      <td>0.10375</td>\n",
       "      <td>0.09609</td>\n",
       "      <td>0.116483</td>\n",
       "    </tr>\n",
       "    <tr>\n",
       "      <th>5513</th>\n",
       "      <td>28/10/2022 18:18:20</td>\n",
       "      <td>L-V: 06:00-21:00; S-D: 07:00-22:00</td>\n",
       "      <td>21850</td>\n",
       "      <td>Villarrasa</td>\n",
       "      <td>HUELVA</td>\n",
       "      <td>AUTOVIA A-49 KM KM. 53</td>\n",
       "      <td>37,351111</td>\n",
       "      <td>-6,598222</td>\n",
       "      <td>2.049</td>\n",
       "      <td>NaN</td>\n",
       "      <td>...</td>\n",
       "      <td>1.959</td>\n",
       "      <td>REPSOL</td>\n",
       "      <td>1.954775</td>\n",
       "      <td>1.564772</td>\n",
       "      <td>1.75154</td>\n",
       "      <td>1.905006</td>\n",
       "      <td>0.117493</td>\n",
       "      <td>0.10375</td>\n",
       "      <td>0.09609</td>\n",
       "      <td>0.116483</td>\n",
       "    </tr>\n",
       "    <tr>\n",
       "      <th>5514</th>\n",
       "      <td>28/10/2022 18:18:20</td>\n",
       "      <td>L-D: 24H</td>\n",
       "      <td>21850</td>\n",
       "      <td>Villarrasa</td>\n",
       "      <td>HUELVA</td>\n",
       "      <td>CALLE ANGUSTIAS, 0</td>\n",
       "      <td>37,387472</td>\n",
       "      <td>-6,598167</td>\n",
       "      <td>1.999</td>\n",
       "      <td>1.579</td>\n",
       "      <td>...</td>\n",
       "      <td>NaN</td>\n",
       "      <td>SUMAROIL</td>\n",
       "      <td>1.954775</td>\n",
       "      <td>1.564772</td>\n",
       "      <td>1.75154</td>\n",
       "      <td>1.905006</td>\n",
       "      <td>0.117493</td>\n",
       "      <td>0.10375</td>\n",
       "      <td>0.09609</td>\n",
       "      <td>0.116483</td>\n",
       "    </tr>\n",
       "    <tr>\n",
       "      <th>5515</th>\n",
       "      <td>28/10/2022 18:18:20</td>\n",
       "      <td>L-D: 06:00-22:00</td>\n",
       "      <td>21640</td>\n",
       "      <td>Zalamea la Real</td>\n",
       "      <td>HUELVA</td>\n",
       "      <td>CARRETERA NACIONAL 435 KM. 181,8</td>\n",
       "      <td>37,674722</td>\n",
       "      <td>-6,657306</td>\n",
       "      <td>1.899</td>\n",
       "      <td>NaN</td>\n",
       "      <td>...</td>\n",
       "      <td>NaN</td>\n",
       "      <td>DEOIL</td>\n",
       "      <td>1.954775</td>\n",
       "      <td>1.564772</td>\n",
       "      <td>1.75154</td>\n",
       "      <td>1.905006</td>\n",
       "      <td>0.117493</td>\n",
       "      <td>0.10375</td>\n",
       "      <td>0.09609</td>\n",
       "      <td>0.116483</td>\n",
       "    </tr>\n",
       "  </tbody>\n",
       "</table>\n",
       "<p>151 rows × 22 columns</p>\n",
       "</div>"
      ],
      "text/plain": [
       "                    Fecha                             Horario   C.P.  \\\n",
       "5365  28/10/2022 18:18:20                            L-D: 24H  21110   \n",
       "5366  28/10/2022 18:18:20                            L-D: 24H  21110   \n",
       "5367  28/10/2022 18:18:20                    L-D: 07:00-23:00  21110   \n",
       "5368  28/10/2022 18:18:20                            L-D: 24H  21730   \n",
       "5369  28/10/2022 18:18:20                            L-D: 24H  21730   \n",
       "...                   ...                                 ...    ...   \n",
       "5511  28/10/2022 18:18:20                    L-D: 05:00-00:00  21860   \n",
       "5512  28/10/2022 18:18:20                    L-D: 07:00-22:00  21540   \n",
       "5513  28/10/2022 18:18:20  L-V: 06:00-21:00; S-D: 07:00-22:00  21850   \n",
       "5514  28/10/2022 18:18:20                            L-D: 24H  21850   \n",
       "5515  28/10/2022 18:18:20                    L-D: 06:00-22:00  21640   \n",
       "\n",
       "                          Municipio Provincia  \\\n",
       "5365                      Aljaraque    HUELVA   \n",
       "5366                      Aljaraque    HUELVA   \n",
       "5367                      Aljaraque    HUELVA   \n",
       "5368                        Almonte    HUELVA   \n",
       "5369                        Almonte    HUELVA   \n",
       "...                             ...       ...   \n",
       "5511             Villalba del Alcor    HUELVA   \n",
       "5512  Villanueva de los Castillejos    HUELVA   \n",
       "5513                     Villarrasa    HUELVA   \n",
       "5514                     Villarrasa    HUELVA   \n",
       "5515                Zalamea la Real    HUELVA   \n",
       "\n",
       "                                        Dirección    Latitud Longitud (WGS84)  \\\n",
       "5365                          AUTOVIA A-497 KM. 7  37,259167        -7,012750   \n",
       "5366                    CARRETERA A-492 KM. 0,100  37,273944        -6,991028   \n",
       "5367                            CALLE CERAMICA, 1  37,257889        -7,018417   \n",
       "5368                  AVENIDA DE LOS CABEZUDOS, 1  37,258583        -6,520556   \n",
       "5369  POLIGONO INDUSTRIAL EL TOMILLAR,PARCELA, 77  37,254056        -6,507861   \n",
       "...                                           ...        ...              ...   \n",
       "5511                       CARRETERA A-472 KM. 28  37,396444        -6,485611   \n",
       "5512                      CARRETERA HUELVA KM. 31  37,497139        -7,268444   \n",
       "5513                       AUTOVIA A-49 KM KM. 53  37,351111        -6,598222   \n",
       "5514                           CALLE ANGUSTIAS, 0  37,387472        -6,598167   \n",
       "5515             CARRETERA NACIONAL 435 KM. 181,8  37,674722        -6,657306   \n",
       "\n",
       "      Gasoleo A  Gasoleo B  ...  Gasolina 98 E5    Estación de Servicio  \\\n",
       "5365      1.957        NaN  ...           1.857                  MEROIL   \n",
       "5366      1.929        NaN  ...           1.799                  TAMOIL   \n",
       "5367      1.957        NaN  ...             NaN               HIGUEROIL   \n",
       "5368      1.990      1.545  ...             NaN     E.S PUERTA DOÑANA 2   \n",
       "5369      1.955      1.539  ...             NaN                   CEPSA   \n",
       "...         ...        ...  ...             ...                     ...   \n",
       "5511      2.039      1.760  ...             NaN                  REPSOL   \n",
       "5512      2.079        NaN  ...             NaN  E.S. LA CRUZ DEL GALLO   \n",
       "5513      2.049        NaN  ...           1.959                  REPSOL   \n",
       "5514      1.999      1.579  ...             NaN                SUMAROIL   \n",
       "5515      1.899        NaN  ...             NaN                   DEOIL   \n",
       "\n",
       "      Media_Gasoleo A Media_Gasoleo B  Media_Gasoleo Gasolina 95  \\\n",
       "5365         1.954775        1.564772                    1.75154   \n",
       "5366         1.954775        1.564772                    1.75154   \n",
       "5367         1.954775        1.564772                    1.75154   \n",
       "5368         1.954775        1.564772                    1.75154   \n",
       "5369         1.954775        1.564772                    1.75154   \n",
       "...               ...             ...                        ...   \n",
       "5511         1.954775        1.564772                    1.75154   \n",
       "5512         1.954775        1.564772                    1.75154   \n",
       "5513         1.954775        1.564772                    1.75154   \n",
       "5514         1.954775        1.564772                    1.75154   \n",
       "5515         1.954775        1.564772                    1.75154   \n",
       "\n",
       "      Media_Gasolina 98  STD_Gasoleo A  STD_Gasoleo B  \\\n",
       "5365           1.905006       0.117493        0.10375   \n",
       "5366           1.905006       0.117493        0.10375   \n",
       "5367           1.905006       0.117493        0.10375   \n",
       "5368           1.905006       0.117493        0.10375   \n",
       "5369           1.905006       0.117493        0.10375   \n",
       "...                 ...            ...            ...   \n",
       "5511           1.905006       0.117493        0.10375   \n",
       "5512           1.905006       0.117493        0.10375   \n",
       "5513           1.905006       0.117493        0.10375   \n",
       "5514           1.905006       0.117493        0.10375   \n",
       "5515           1.905006       0.117493        0.10375   \n",
       "\n",
       "      STD_Gasoleo Gasolina 95  STD_Gasolina 98  \n",
       "5365                  0.09609         0.116483  \n",
       "5366                  0.09609         0.116483  \n",
       "5367                  0.09609         0.116483  \n",
       "5368                  0.09609         0.116483  \n",
       "5369                  0.09609         0.116483  \n",
       "...                       ...              ...  \n",
       "5511                  0.09609         0.116483  \n",
       "5512                  0.09609         0.116483  \n",
       "5513                  0.09609         0.116483  \n",
       "5514                  0.09609         0.116483  \n",
       "5515                  0.09609         0.116483  \n",
       "\n",
       "[151 rows x 22 columns]"
      ]
     },
     "execution_count": 214,
     "metadata": {},
     "output_type": "execute_result"
    }
   ],
   "source": [
    "gasolineras_provincia('HUELVA')"
   ]
  },
  {
   "cell_type": "code",
   "execution_count": 216,
   "id": "fe00f1c5",
   "metadata": {},
   "outputs": [],
   "source": [
    "# Listado de Gasolineras por Código Postal:\n",
    "def gasolineras_cp(cp):\n",
    "    cp_x = df_n[df_n[\"C.P.\"] == cp]\n",
    "    return cp_x"
   ]
  },
  {
   "cell_type": "code",
   "execution_count": 217,
   "id": "858df679",
   "metadata": {},
   "outputs": [
    {
     "data": {
      "text/html": [
       "<div>\n",
       "<style scoped>\n",
       "    .dataframe tbody tr th:only-of-type {\n",
       "        vertical-align: middle;\n",
       "    }\n",
       "\n",
       "    .dataframe tbody tr th {\n",
       "        vertical-align: top;\n",
       "    }\n",
       "\n",
       "    .dataframe thead th {\n",
       "        text-align: right;\n",
       "    }\n",
       "</style>\n",
       "<table border=\"1\" class=\"dataframe\">\n",
       "  <thead>\n",
       "    <tr style=\"text-align: right;\">\n",
       "      <th></th>\n",
       "      <th>Fecha</th>\n",
       "      <th>Horario</th>\n",
       "      <th>C.P.</th>\n",
       "      <th>Municipio</th>\n",
       "      <th>Provincia</th>\n",
       "      <th>Dirección</th>\n",
       "      <th>Latitud</th>\n",
       "      <th>Longitud (WGS84)</th>\n",
       "      <th>Gasoleo A</th>\n",
       "      <th>Gasoleo B</th>\n",
       "      <th>...</th>\n",
       "      <th>Gasolina 98 E5</th>\n",
       "      <th>Estación de Servicio</th>\n",
       "      <th>Media_Gasoleo A</th>\n",
       "      <th>Media_Gasoleo B</th>\n",
       "      <th>Media_Gasoleo Gasolina 95</th>\n",
       "      <th>Media_Gasolina 98</th>\n",
       "      <th>STD_Gasoleo A</th>\n",
       "      <th>STD_Gasoleo B</th>\n",
       "      <th>STD_Gasoleo Gasolina 95</th>\n",
       "      <th>STD_Gasolina 98</th>\n",
       "    </tr>\n",
       "  </thead>\n",
       "  <tbody>\n",
       "    <tr>\n",
       "      <th>6517</th>\n",
       "      <td>28/10/2022 18:18:20</td>\n",
       "      <td>L-D: 24H</td>\n",
       "      <td>28500</td>\n",
       "      <td>Arganda del Rey</td>\n",
       "      <td>MADRID</td>\n",
       "      <td>AVENIDA MADRID (DE), SN</td>\n",
       "      <td>40,312250</td>\n",
       "      <td>-3,487028</td>\n",
       "      <td>1.899</td>\n",
       "      <td>NaN</td>\n",
       "      <td>...</td>\n",
       "      <td>NaN</td>\n",
       "      <td>PETROPRIX</td>\n",
       "      <td>1.954775</td>\n",
       "      <td>1.564772</td>\n",
       "      <td>1.75154</td>\n",
       "      <td>1.905006</td>\n",
       "      <td>0.117493</td>\n",
       "      <td>0.10375</td>\n",
       "      <td>0.09609</td>\n",
       "      <td>0.116483</td>\n",
       "    </tr>\n",
       "    <tr>\n",
       "      <th>6518</th>\n",
       "      <td>28/10/2022 18:18:20</td>\n",
       "      <td>L: 24H</td>\n",
       "      <td>28500</td>\n",
       "      <td>Arganda del Rey</td>\n",
       "      <td>MADRID</td>\n",
       "      <td>CARRETERA M-832 KM. 3</td>\n",
       "      <td>40,291056</td>\n",
       "      <td>-3,507278</td>\n",
       "      <td>2.072</td>\n",
       "      <td>NaN</td>\n",
       "      <td>...</td>\n",
       "      <td>NaN</td>\n",
       "      <td>REPSOL</td>\n",
       "      <td>1.954775</td>\n",
       "      <td>1.564772</td>\n",
       "      <td>1.75154</td>\n",
       "      <td>1.905006</td>\n",
       "      <td>0.117493</td>\n",
       "      <td>0.10375</td>\n",
       "      <td>0.09609</td>\n",
       "      <td>0.116483</td>\n",
       "    </tr>\n",
       "    <tr>\n",
       "      <th>6519</th>\n",
       "      <td>28/10/2022 18:18:20</td>\n",
       "      <td>L-V: 06:00-22:00; S-D: 08:00-22:00</td>\n",
       "      <td>28500</td>\n",
       "      <td>Arganda del Rey</td>\n",
       "      <td>MADRID</td>\n",
       "      <td>AVDA DE MADRID, 103</td>\n",
       "      <td>40,310000</td>\n",
       "      <td>-3,480833</td>\n",
       "      <td>2.039</td>\n",
       "      <td>1.669</td>\n",
       "      <td>...</td>\n",
       "      <td>NaN</td>\n",
       "      <td>REPSOL</td>\n",
       "      <td>1.954775</td>\n",
       "      <td>1.564772</td>\n",
       "      <td>1.75154</td>\n",
       "      <td>1.905006</td>\n",
       "      <td>0.117493</td>\n",
       "      <td>0.10375</td>\n",
       "      <td>0.09609</td>\n",
       "      <td>0.116483</td>\n",
       "    </tr>\n",
       "    <tr>\n",
       "      <th>6520</th>\n",
       "      <td>28/10/2022 18:18:20</td>\n",
       "      <td>L-D: 06:00-00:00</td>\n",
       "      <td>28500</td>\n",
       "      <td>Arganda del Rey</td>\n",
       "      <td>MADRID</td>\n",
       "      <td>AVENIDA DE MADRID, 126</td>\n",
       "      <td>40,310361</td>\n",
       "      <td>-3,481806</td>\n",
       "      <td>1.939</td>\n",
       "      <td>NaN</td>\n",
       "      <td>...</td>\n",
       "      <td>NaN</td>\n",
       "      <td>ATENOIL</td>\n",
       "      <td>1.954775</td>\n",
       "      <td>1.564772</td>\n",
       "      <td>1.75154</td>\n",
       "      <td>1.905006</td>\n",
       "      <td>0.117493</td>\n",
       "      <td>0.10375</td>\n",
       "      <td>0.09609</td>\n",
       "      <td>0.116483</td>\n",
       "    </tr>\n",
       "    <tr>\n",
       "      <th>6521</th>\n",
       "      <td>28/10/2022 18:18:20</td>\n",
       "      <td>L-D: 24H</td>\n",
       "      <td>28500</td>\n",
       "      <td>Arganda del Rey</td>\n",
       "      <td>MADRID</td>\n",
       "      <td>CARRETERA M-832 KM. 3</td>\n",
       "      <td>40,290944</td>\n",
       "      <td>-3,508111</td>\n",
       "      <td>2.072</td>\n",
       "      <td>NaN</td>\n",
       "      <td>...</td>\n",
       "      <td>NaN</td>\n",
       "      <td>REPSOL</td>\n",
       "      <td>1.954775</td>\n",
       "      <td>1.564772</td>\n",
       "      <td>1.75154</td>\n",
       "      <td>1.905006</td>\n",
       "      <td>0.117493</td>\n",
       "      <td>0.10375</td>\n",
       "      <td>0.09609</td>\n",
       "      <td>0.116483</td>\n",
       "    </tr>\n",
       "    <tr>\n",
       "      <th>6522</th>\n",
       "      <td>28/10/2022 18:18:20</td>\n",
       "      <td>L-D: 06:00-22:00</td>\n",
       "      <td>28500</td>\n",
       "      <td>Arganda del Rey</td>\n",
       "      <td>MADRID</td>\n",
       "      <td>AVENIDA DE MADRID, 37</td>\n",
       "      <td>40,305639</td>\n",
       "      <td>-3,462778</td>\n",
       "      <td>2.029</td>\n",
       "      <td>NaN</td>\n",
       "      <td>...</td>\n",
       "      <td>1.931</td>\n",
       "      <td>BP LA ARGANDEÑA</td>\n",
       "      <td>1.954775</td>\n",
       "      <td>1.564772</td>\n",
       "      <td>1.75154</td>\n",
       "      <td>1.905006</td>\n",
       "      <td>0.117493</td>\n",
       "      <td>0.10375</td>\n",
       "      <td>0.09609</td>\n",
       "      <td>0.116483</td>\n",
       "    </tr>\n",
       "    <tr>\n",
       "      <th>6523</th>\n",
       "      <td>28/10/2022 18:18:20</td>\n",
       "      <td>L-D: 24H</td>\n",
       "      <td>28500</td>\n",
       "      <td>Arganda del Rey</td>\n",
       "      <td>MADRID</td>\n",
       "      <td>AVENIDA EJERCITO (DEL), 44</td>\n",
       "      <td>40,303139</td>\n",
       "      <td>-3,448389</td>\n",
       "      <td>2.029</td>\n",
       "      <td>NaN</td>\n",
       "      <td>...</td>\n",
       "      <td>1.931</td>\n",
       "      <td>BP ARGANDA</td>\n",
       "      <td>1.954775</td>\n",
       "      <td>1.564772</td>\n",
       "      <td>1.75154</td>\n",
       "      <td>1.905006</td>\n",
       "      <td>0.117493</td>\n",
       "      <td>0.10375</td>\n",
       "      <td>0.09609</td>\n",
       "      <td>0.116483</td>\n",
       "    </tr>\n",
       "    <tr>\n",
       "      <th>6524</th>\n",
       "      <td>28/10/2022 18:18:20</td>\n",
       "      <td>L-D: 24H</td>\n",
       "      <td>28500</td>\n",
       "      <td>Arganda del Rey</td>\n",
       "      <td>MADRID</td>\n",
       "      <td>AVENIDA VALDEARGANDA, 8</td>\n",
       "      <td>40,309944</td>\n",
       "      <td>-3,449889</td>\n",
       "      <td>2.025</td>\n",
       "      <td>NaN</td>\n",
       "      <td>...</td>\n",
       "      <td>1.926</td>\n",
       "      <td>CEPSA</td>\n",
       "      <td>1.954775</td>\n",
       "      <td>1.564772</td>\n",
       "      <td>1.75154</td>\n",
       "      <td>1.905006</td>\n",
       "      <td>0.117493</td>\n",
       "      <td>0.10375</td>\n",
       "      <td>0.09609</td>\n",
       "      <td>0.116483</td>\n",
       "    </tr>\n",
       "    <tr>\n",
       "      <th>6525</th>\n",
       "      <td>28/10/2022 18:18:20</td>\n",
       "      <td>L-D: 07:00-22:00</td>\n",
       "      <td>28500</td>\n",
       "      <td>Arganda del Rey</td>\n",
       "      <td>MADRID</td>\n",
       "      <td>AVENIDA FINANZAUTO (DE), 2</td>\n",
       "      <td>40,306889</td>\n",
       "      <td>-3,468694</td>\n",
       "      <td>1.899</td>\n",
       "      <td>NaN</td>\n",
       "      <td>...</td>\n",
       "      <td>NaN</td>\n",
       "      <td>DELFIOIL</td>\n",
       "      <td>1.954775</td>\n",
       "      <td>1.564772</td>\n",
       "      <td>1.75154</td>\n",
       "      <td>1.905006</td>\n",
       "      <td>0.117493</td>\n",
       "      <td>0.10375</td>\n",
       "      <td>0.09609</td>\n",
       "      <td>0.116483</td>\n",
       "    </tr>\n",
       "    <tr>\n",
       "      <th>6526</th>\n",
       "      <td>28/10/2022 18:18:20</td>\n",
       "      <td>L-D: 24H</td>\n",
       "      <td>28500</td>\n",
       "      <td>Arganda del Rey</td>\n",
       "      <td>MADRID</td>\n",
       "      <td>CAMINO CAMINO DE SAN MARTÍN DE LA VEGA A ARGAN...</td>\n",
       "      <td>40,303778</td>\n",
       "      <td>-3,451611</td>\n",
       "      <td>1.899</td>\n",
       "      <td>NaN</td>\n",
       "      <td>...</td>\n",
       "      <td>NaN</td>\n",
       "      <td>BALLENOIL</td>\n",
       "      <td>1.954775</td>\n",
       "      <td>1.564772</td>\n",
       "      <td>1.75154</td>\n",
       "      <td>1.905006</td>\n",
       "      <td>0.117493</td>\n",
       "      <td>0.10375</td>\n",
       "      <td>0.09609</td>\n",
       "      <td>0.116483</td>\n",
       "    </tr>\n",
       "    <tr>\n",
       "      <th>6527</th>\n",
       "      <td>28/10/2022 18:18:20</td>\n",
       "      <td>L-D: 24H</td>\n",
       "      <td>28500</td>\n",
       "      <td>Arganda del Rey</td>\n",
       "      <td>MADRID</td>\n",
       "      <td>CAMINO SAN MARTIN DE LA VEGA, 8</td>\n",
       "      <td>40,303222</td>\n",
       "      <td>-3,455472</td>\n",
       "      <td>1.899</td>\n",
       "      <td>NaN</td>\n",
       "      <td>...</td>\n",
       "      <td>NaN</td>\n",
       "      <td>BALLENOIL</td>\n",
       "      <td>1.954775</td>\n",
       "      <td>1.564772</td>\n",
       "      <td>1.75154</td>\n",
       "      <td>1.905006</td>\n",
       "      <td>0.117493</td>\n",
       "      <td>0.10375</td>\n",
       "      <td>0.09609</td>\n",
       "      <td>0.116483</td>\n",
       "    </tr>\n",
       "    <tr>\n",
       "      <th>6528</th>\n",
       "      <td>28/10/2022 18:18:20</td>\n",
       "      <td>L-D: 24H</td>\n",
       "      <td>28500</td>\n",
       "      <td>Arganda del Rey</td>\n",
       "      <td>MADRID</td>\n",
       "      <td>AVENIDA MADRID (DE), 66</td>\n",
       "      <td>40,306417</td>\n",
       "      <td>-3,463917</td>\n",
       "      <td>1.899</td>\n",
       "      <td>NaN</td>\n",
       "      <td>...</td>\n",
       "      <td>NaN</td>\n",
       "      <td>PLENOIL</td>\n",
       "      <td>1.954775</td>\n",
       "      <td>1.564772</td>\n",
       "      <td>1.75154</td>\n",
       "      <td>1.905006</td>\n",
       "      <td>0.117493</td>\n",
       "      <td>0.10375</td>\n",
       "      <td>0.09609</td>\n",
       "      <td>0.116483</td>\n",
       "    </tr>\n",
       "  </tbody>\n",
       "</table>\n",
       "<p>12 rows × 22 columns</p>\n",
       "</div>"
      ],
      "text/plain": [
       "                    Fecha                             Horario   C.P.  \\\n",
       "6517  28/10/2022 18:18:20                            L-D: 24H  28500   \n",
       "6518  28/10/2022 18:18:20                              L: 24H  28500   \n",
       "6519  28/10/2022 18:18:20  L-V: 06:00-22:00; S-D: 08:00-22:00  28500   \n",
       "6520  28/10/2022 18:18:20                    L-D: 06:00-00:00  28500   \n",
       "6521  28/10/2022 18:18:20                            L-D: 24H  28500   \n",
       "6522  28/10/2022 18:18:20                    L-D: 06:00-22:00  28500   \n",
       "6523  28/10/2022 18:18:20                            L-D: 24H  28500   \n",
       "6524  28/10/2022 18:18:20                            L-D: 24H  28500   \n",
       "6525  28/10/2022 18:18:20                    L-D: 07:00-22:00  28500   \n",
       "6526  28/10/2022 18:18:20                            L-D: 24H  28500   \n",
       "6527  28/10/2022 18:18:20                            L-D: 24H  28500   \n",
       "6528  28/10/2022 18:18:20                            L-D: 24H  28500   \n",
       "\n",
       "            Municipio Provincia  \\\n",
       "6517  Arganda del Rey    MADRID   \n",
       "6518  Arganda del Rey    MADRID   \n",
       "6519  Arganda del Rey    MADRID   \n",
       "6520  Arganda del Rey    MADRID   \n",
       "6521  Arganda del Rey    MADRID   \n",
       "6522  Arganda del Rey    MADRID   \n",
       "6523  Arganda del Rey    MADRID   \n",
       "6524  Arganda del Rey    MADRID   \n",
       "6525  Arganda del Rey    MADRID   \n",
       "6526  Arganda del Rey    MADRID   \n",
       "6527  Arganda del Rey    MADRID   \n",
       "6528  Arganda del Rey    MADRID   \n",
       "\n",
       "                                              Dirección    Latitud  \\\n",
       "6517                            AVENIDA MADRID (DE), SN  40,312250   \n",
       "6518                              CARRETERA M-832 KM. 3  40,291056   \n",
       "6519                                AVDA DE MADRID, 103  40,310000   \n",
       "6520                             AVENIDA DE MADRID, 126  40,310361   \n",
       "6521                              CARRETERA M-832 KM. 3  40,290944   \n",
       "6522                              AVENIDA DE MADRID, 37  40,305639   \n",
       "6523                         AVENIDA EJERCITO (DEL), 44  40,303139   \n",
       "6524                            AVENIDA VALDEARGANDA, 8  40,309944   \n",
       "6525                         AVENIDA FINANZAUTO (DE), 2  40,306889   \n",
       "6526  CAMINO CAMINO DE SAN MARTÍN DE LA VEGA A ARGAN...  40,303778   \n",
       "6527                    CAMINO SAN MARTIN DE LA VEGA, 8  40,303222   \n",
       "6528                            AVENIDA MADRID (DE), 66  40,306417   \n",
       "\n",
       "     Longitud (WGS84)  Gasoleo A  Gasoleo B  ...  Gasolina 98 E5  \\\n",
       "6517        -3,487028      1.899        NaN  ...             NaN   \n",
       "6518        -3,507278      2.072        NaN  ...             NaN   \n",
       "6519        -3,480833      2.039      1.669  ...             NaN   \n",
       "6520        -3,481806      1.939        NaN  ...             NaN   \n",
       "6521        -3,508111      2.072        NaN  ...             NaN   \n",
       "6522        -3,462778      2.029        NaN  ...           1.931   \n",
       "6523        -3,448389      2.029        NaN  ...           1.931   \n",
       "6524        -3,449889      2.025        NaN  ...           1.926   \n",
       "6525        -3,468694      1.899        NaN  ...             NaN   \n",
       "6526        -3,451611      1.899        NaN  ...             NaN   \n",
       "6527        -3,455472      1.899        NaN  ...             NaN   \n",
       "6528        -3,463917      1.899        NaN  ...             NaN   \n",
       "\n",
       "      Estación de Servicio  Media_Gasoleo A Media_Gasoleo B  \\\n",
       "6517             PETROPRIX         1.954775        1.564772   \n",
       "6518                REPSOL         1.954775        1.564772   \n",
       "6519                REPSOL         1.954775        1.564772   \n",
       "6520               ATENOIL         1.954775        1.564772   \n",
       "6521                REPSOL         1.954775        1.564772   \n",
       "6522       BP LA ARGANDEÑA         1.954775        1.564772   \n",
       "6523            BP ARGANDA         1.954775        1.564772   \n",
       "6524                 CEPSA         1.954775        1.564772   \n",
       "6525              DELFIOIL         1.954775        1.564772   \n",
       "6526             BALLENOIL         1.954775        1.564772   \n",
       "6527             BALLENOIL         1.954775        1.564772   \n",
       "6528               PLENOIL         1.954775        1.564772   \n",
       "\n",
       "      Media_Gasoleo Gasolina 95  Media_Gasolina 98  STD_Gasoleo A  \\\n",
       "6517                    1.75154           1.905006       0.117493   \n",
       "6518                    1.75154           1.905006       0.117493   \n",
       "6519                    1.75154           1.905006       0.117493   \n",
       "6520                    1.75154           1.905006       0.117493   \n",
       "6521                    1.75154           1.905006       0.117493   \n",
       "6522                    1.75154           1.905006       0.117493   \n",
       "6523                    1.75154           1.905006       0.117493   \n",
       "6524                    1.75154           1.905006       0.117493   \n",
       "6525                    1.75154           1.905006       0.117493   \n",
       "6526                    1.75154           1.905006       0.117493   \n",
       "6527                    1.75154           1.905006       0.117493   \n",
       "6528                    1.75154           1.905006       0.117493   \n",
       "\n",
       "      STD_Gasoleo B  STD_Gasoleo Gasolina 95  STD_Gasolina 98  \n",
       "6517        0.10375                  0.09609         0.116483  \n",
       "6518        0.10375                  0.09609         0.116483  \n",
       "6519        0.10375                  0.09609         0.116483  \n",
       "6520        0.10375                  0.09609         0.116483  \n",
       "6521        0.10375                  0.09609         0.116483  \n",
       "6522        0.10375                  0.09609         0.116483  \n",
       "6523        0.10375                  0.09609         0.116483  \n",
       "6524        0.10375                  0.09609         0.116483  \n",
       "6525        0.10375                  0.09609         0.116483  \n",
       "6526        0.10375                  0.09609         0.116483  \n",
       "6527        0.10375                  0.09609         0.116483  \n",
       "6528        0.10375                  0.09609         0.116483  \n",
       "\n",
       "[12 rows x 22 columns]"
      ]
     },
     "execution_count": 217,
     "metadata": {},
     "output_type": "execute_result"
    }
   ],
   "source": [
    "gasolineras_cp('28500')"
   ]
  },
  {
   "cell_type": "markdown",
   "id": "619c0f13",
   "metadata": {},
   "source": [
    "---\n",
    "\n",
    "Step 5\n",
    "\n",
    "# Streamlit"
   ]
  },
  {
   "cell_type": "code",
   "execution_count": null,
   "id": "d2b9b07a",
   "metadata": {},
   "outputs": [],
   "source": [
    "st.title(\"Hello GeeksForGeeks !!!\")"
   ]
  },
  {
   "cell_type": "code",
   "execution_count": null,
   "id": "8fc41865",
   "metadata": {},
   "outputs": [],
   "source": []
  },
  {
   "cell_type": "code",
   "execution_count": null,
   "id": "9ebc7a62",
   "metadata": {},
   "outputs": [],
   "source": []
  }
 ],
 "metadata": {
  "kernelspec": {
   "display_name": "Python [conda env:Final_Project]",
   "language": "python",
   "name": "conda-env-Final_Project-py"
  },
  "language_info": {
   "codemirror_mode": {
    "name": "ipython",
    "version": 3
   },
   "file_extension": ".py",
   "mimetype": "text/x-python",
   "name": "python",
   "nbconvert_exporter": "python",
   "pygments_lexer": "ipython3",
   "version": "3.10.6"
  }
 },
 "nbformat": 4,
 "nbformat_minor": 5
}
