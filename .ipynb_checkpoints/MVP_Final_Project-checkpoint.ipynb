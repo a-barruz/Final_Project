{
 "cells": [
  {
   "cell_type": "markdown",
   "id": "3e6982b2",
   "metadata": {},
   "source": [
    "## MVP"
   ]
  },
  {
   "cell_type": "code",
   "execution_count": 1,
   "id": "2cef25b8",
   "metadata": {},
   "outputs": [],
   "source": [
    "# Imports\n",
    "\n",
    "# Pandas\n",
    "import pandas as pd \n",
    "\n",
    "# Importo libreria para conexión a API\n",
    "from urllib.request import urlopen\n",
    "\n",
    "# Importo libreria Json para que lea\n",
    "import json\n",
    "\n",
    "#Normalizar Json\n",
    "from pandas.io.json import json_normalize\n",
    "\n",
    "import numpy as np\n"
   ]
  },
  {
   "cell_type": "markdown",
   "id": "9397380f",
   "metadata": {},
   "source": [
    "---\n",
    "Step 1 (Data Extraction)"
   ]
  },
  {
   "cell_type": "code",
   "execution_count": 2,
   "id": "55515f32",
   "metadata": {},
   "outputs": [],
   "source": [
    "# Definir las variables donde meto el string que contiene la URL\n",
    "\n",
    "endpoint ='https://sedeaplicaciones.minetur.gob.es'\n",
    "parametros = '/ServiciosRESTCarburantes/PreciosCarburantes/EstacionesTerrestres/'\n"
   ]
  },
  {
   "cell_type": "code",
   "execution_count": 3,
   "id": "2d466973",
   "metadata": {},
   "outputs": [
    {
     "data": {
      "text/plain": [
       "http.client.HTTPResponse"
      ]
     },
     "execution_count": 3,
     "metadata": {},
     "output_type": "execute_result"
    }
   ],
   "source": [
    "# Vamos a guardar en una variable nuestros datos (resultado, comida) \n",
    "\n",
    "response = urlopen(endpoint+parametros)\n",
    "type(response)\n"
   ]
  },
  {
   "cell_type": "code",
   "execution_count": 4,
   "id": "0031d835",
   "metadata": {},
   "outputs": [
    {
     "data": {
      "text/plain": [
       "dict"
      ]
     },
     "execution_count": 4,
     "metadata": {},
     "output_type": "execute_result"
    }
   ],
   "source": [
    "# Vamos a extraer del obejto, los datos\n",
    "\n",
    "data = response.read().decode('utf-8', 'replace')\n",
    "data = json.loads(data)\n",
    "type(data)\n"
   ]
  },
  {
   "cell_type": "code",
   "execution_count": 5,
   "id": "501a7f08",
   "metadata": {},
   "outputs": [
    {
     "data": {
      "text/html": [
       "<div>\n",
       "<style scoped>\n",
       "    .dataframe tbody tr th:only-of-type {\n",
       "        vertical-align: middle;\n",
       "    }\n",
       "\n",
       "    .dataframe tbody tr th {\n",
       "        vertical-align: top;\n",
       "    }\n",
       "\n",
       "    .dataframe thead th {\n",
       "        text-align: right;\n",
       "    }\n",
       "</style>\n",
       "<table border=\"1\" class=\"dataframe\">\n",
       "  <thead>\n",
       "    <tr style=\"text-align: right;\">\n",
       "      <th></th>\n",
       "      <th>Fecha</th>\n",
       "      <th>ListaEESSPrecio</th>\n",
       "      <th>Nota</th>\n",
       "      <th>ResultadoConsulta</th>\n",
       "    </tr>\n",
       "  </thead>\n",
       "  <tbody>\n",
       "    <tr>\n",
       "      <th>0</th>\n",
       "      <td>08/11/2022 20:13:19</td>\n",
       "      <td>{'C.P.': '02250', 'Dirección': 'AVENIDA CASTIL...</td>\n",
       "      <td>Archivo de todos los productos en todas las es...</td>\n",
       "      <td>OK</td>\n",
       "    </tr>\n",
       "    <tr>\n",
       "      <th>1</th>\n",
       "      <td>08/11/2022 20:13:19</td>\n",
       "      <td>{'C.P.': '02152', 'Dirección': 'CR CM-332, 46,...</td>\n",
       "      <td>Archivo de todos los productos en todas las es...</td>\n",
       "      <td>OK</td>\n",
       "    </tr>\n",
       "    <tr>\n",
       "      <th>2</th>\n",
       "      <td>08/11/2022 20:13:19</td>\n",
       "      <td>{'C.P.': '02001', 'Dirección': 'CALLE FEDERICO...</td>\n",
       "      <td>Archivo de todos los productos en todas las es...</td>\n",
       "      <td>OK</td>\n",
       "    </tr>\n",
       "    <tr>\n",
       "      <th>3</th>\n",
       "      <td>08/11/2022 20:13:19</td>\n",
       "      <td>{'C.P.': '02001', 'Dirección': 'CALLE PRINCIPE...</td>\n",
       "      <td>Archivo de todos los productos en todas las es...</td>\n",
       "      <td>OK</td>\n",
       "    </tr>\n",
       "    <tr>\n",
       "      <th>4</th>\n",
       "      <td>08/11/2022 20:13:19</td>\n",
       "      <td>{'C.P.': '02001', 'Dirección': 'CALLE FEDERICO...</td>\n",
       "      <td>Archivo de todos los productos en todas las es...</td>\n",
       "      <td>OK</td>\n",
       "    </tr>\n",
       "    <tr>\n",
       "      <th>...</th>\n",
       "      <td>...</td>\n",
       "      <td>...</td>\n",
       "      <td>...</td>\n",
       "      <td>...</td>\n",
       "    </tr>\n",
       "    <tr>\n",
       "      <th>11778</th>\n",
       "      <td>08/11/2022 20:13:19</td>\n",
       "      <td>{'C.P.': '50197', 'Dirección': 'AVENIDA DIAGON...</td>\n",
       "      <td>Archivo de todos los productos en todas las es...</td>\n",
       "      <td>OK</td>\n",
       "    </tr>\n",
       "    <tr>\n",
       "      <th>11779</th>\n",
       "      <td>08/11/2022 20:13:19</td>\n",
       "      <td>{'C.P.': '50197', 'Dirección': 'POLIGONO CALLE...</td>\n",
       "      <td>Archivo de todos los productos en todas las es...</td>\n",
       "      <td>OK</td>\n",
       "    </tr>\n",
       "    <tr>\n",
       "      <th>11780</th>\n",
       "      <td>08/11/2022 20:13:19</td>\n",
       "      <td>{'C.P.': '50800', 'Dirección': 'CARRETERA N-33...</td>\n",
       "      <td>Archivo de todos los productos en todas las es...</td>\n",
       "      <td>OK</td>\n",
       "    </tr>\n",
       "    <tr>\n",
       "      <th>11781</th>\n",
       "      <td>08/11/2022 20:13:19</td>\n",
       "      <td>{'C.P.': '50800', 'Dirección': 'CALLE AUSTRIA,...</td>\n",
       "      <td>Archivo de todos los productos en todas las es...</td>\n",
       "      <td>OK</td>\n",
       "    </tr>\n",
       "    <tr>\n",
       "      <th>11782</th>\n",
       "      <td>08/11/2022 20:13:19</td>\n",
       "      <td>{'C.P.': '50810', 'Dirección': 'CALLE COOPERAT...</td>\n",
       "      <td>Archivo de todos los productos en todas las es...</td>\n",
       "      <td>OK</td>\n",
       "    </tr>\n",
       "  </tbody>\n",
       "</table>\n",
       "<p>11783 rows × 4 columns</p>\n",
       "</div>"
      ],
      "text/plain": [
       "                     Fecha                                    ListaEESSPrecio  \\\n",
       "0      08/11/2022 20:13:19  {'C.P.': '02250', 'Dirección': 'AVENIDA CASTIL...   \n",
       "1      08/11/2022 20:13:19  {'C.P.': '02152', 'Dirección': 'CR CM-332, 46,...   \n",
       "2      08/11/2022 20:13:19  {'C.P.': '02001', 'Dirección': 'CALLE FEDERICO...   \n",
       "3      08/11/2022 20:13:19  {'C.P.': '02001', 'Dirección': 'CALLE PRINCIPE...   \n",
       "4      08/11/2022 20:13:19  {'C.P.': '02001', 'Dirección': 'CALLE FEDERICO...   \n",
       "...                    ...                                                ...   \n",
       "11778  08/11/2022 20:13:19  {'C.P.': '50197', 'Dirección': 'AVENIDA DIAGON...   \n",
       "11779  08/11/2022 20:13:19  {'C.P.': '50197', 'Dirección': 'POLIGONO CALLE...   \n",
       "11780  08/11/2022 20:13:19  {'C.P.': '50800', 'Dirección': 'CARRETERA N-33...   \n",
       "11781  08/11/2022 20:13:19  {'C.P.': '50800', 'Dirección': 'CALLE AUSTRIA,...   \n",
       "11782  08/11/2022 20:13:19  {'C.P.': '50810', 'Dirección': 'CALLE COOPERAT...   \n",
       "\n",
       "                                                    Nota ResultadoConsulta  \n",
       "0      Archivo de todos los productos en todas las es...                OK  \n",
       "1      Archivo de todos los productos en todas las es...                OK  \n",
       "2      Archivo de todos los productos en todas las es...                OK  \n",
       "3      Archivo de todos los productos en todas las es...                OK  \n",
       "4      Archivo de todos los productos en todas las es...                OK  \n",
       "...                                                  ...               ...  \n",
       "11778  Archivo de todos los productos en todas las es...                OK  \n",
       "11779  Archivo de todos los productos en todas las es...                OK  \n",
       "11780  Archivo de todos los productos en todas las es...                OK  \n",
       "11781  Archivo de todos los productos en todas las es...                OK  \n",
       "11782  Archivo de todos los productos en todas las es...                OK  \n",
       "\n",
       "[11783 rows x 4 columns]"
      ]
     },
     "execution_count": 5,
     "metadata": {},
     "output_type": "execute_result"
    }
   ],
   "source": [
    "# Crear Dataframe\n",
    "\n",
    "df = pd.DataFrame(data)\n",
    "df"
   ]
  },
  {
   "cell_type": "markdown",
   "id": "bf936489",
   "metadata": {},
   "source": [
    "---\n",
    "\n",
    "Step 2 (Data Transformation)"
   ]
  },
  {
   "cell_type": "code",
   "execution_count": 6,
   "id": "82a65952",
   "metadata": {},
   "outputs": [
    {
     "data": {
      "text/plain": [
       "dict"
      ]
     },
     "execution_count": 6,
     "metadata": {},
     "output_type": "execute_result"
    }
   ],
   "source": [
    "# Análisis de la columna Lista EESS Precio\n",
    "\n",
    "diccionario = df['ListaEESSPrecio'].iloc[1]\n",
    "type(diccionario)"
   ]
  },
  {
   "cell_type": "code",
   "execution_count": 7,
   "id": "3207dce3",
   "metadata": {},
   "outputs": [
    {
     "data": {
      "text/plain": [
       "{'C.P.': '02152',\n",
       " 'Dirección': 'CR CM-332, 46,4',\n",
       " 'Horario': 'L-D: 7:00-23:00',\n",
       " 'Latitud': '39,100389',\n",
       " 'Localidad': 'ALATOZ',\n",
       " 'Longitud (WGS84)': '-1,346083',\n",
       " 'Margen': 'I',\n",
       " 'Municipio': 'Alatoz',\n",
       " 'Precio Biodiesel': '',\n",
       " 'Precio Bioetanol': '',\n",
       " 'Precio Gas Natural Comprimido': '',\n",
       " 'Precio Gas Natural Licuado': '',\n",
       " 'Precio Gases licuados del petróleo': '',\n",
       " 'Precio Gasoleo A': '2,040',\n",
       " 'Precio Gasoleo B': '',\n",
       " 'Precio Gasoleo Premium': '2,300',\n",
       " 'Precio Gasolina 95 E10': '',\n",
       " 'Precio Gasolina 95 E5': '1,909',\n",
       " 'Precio Gasolina 95 E5 Premium': '',\n",
       " 'Precio Gasolina 98 E10': '',\n",
       " 'Precio Gasolina 98 E5': '2,200',\n",
       " 'Precio Hidrogeno': '',\n",
       " 'Provincia': 'ALBACETE',\n",
       " 'Remisión': 'dm',\n",
       " 'Rótulo': 'REPSOL',\n",
       " 'Tipo Venta': 'P',\n",
       " '% BioEtanol': '0,0',\n",
       " '% Éster metílico': '0,0',\n",
       " 'IDEESS': '5122',\n",
       " 'IDMunicipio': '53',\n",
       " 'IDProvincia': '02',\n",
       " 'IDCCAA': '07'}"
      ]
     },
     "execution_count": 7,
     "metadata": {},
     "output_type": "execute_result"
    }
   ],
   "source": [
    "diccionario"
   ]
  },
  {
   "cell_type": "code",
   "execution_count": 8,
   "id": "b1c814d5",
   "metadata": {
    "scrolled": true
   },
   "outputs": [
    {
     "data": {
      "text/html": [
       "<div>\n",
       "<style scoped>\n",
       "    .dataframe tbody tr th:only-of-type {\n",
       "        vertical-align: middle;\n",
       "    }\n",
       "\n",
       "    .dataframe tbody tr th {\n",
       "        vertical-align: top;\n",
       "    }\n",
       "\n",
       "    .dataframe thead th {\n",
       "        text-align: right;\n",
       "    }\n",
       "</style>\n",
       "<table border=\"1\" class=\"dataframe\">\n",
       "  <thead>\n",
       "    <tr style=\"text-align: right;\">\n",
       "      <th></th>\n",
       "      <th>Fecha</th>\n",
       "      <th>C.P.</th>\n",
       "      <th>Dirección</th>\n",
       "      <th>Horario</th>\n",
       "      <th>Latitud</th>\n",
       "      <th>Localidad</th>\n",
       "      <th>Longitud (WGS84)</th>\n",
       "      <th>Margen</th>\n",
       "      <th>Municipio</th>\n",
       "      <th>Precio Biodiesel</th>\n",
       "      <th>...</th>\n",
       "      <th>Provincia</th>\n",
       "      <th>Remisión</th>\n",
       "      <th>Rótulo</th>\n",
       "      <th>Tipo Venta</th>\n",
       "      <th>% BioEtanol</th>\n",
       "      <th>% Éster metílico</th>\n",
       "      <th>IDEESS</th>\n",
       "      <th>IDMunicipio</th>\n",
       "      <th>IDProvincia</th>\n",
       "      <th>IDCCAA</th>\n",
       "    </tr>\n",
       "  </thead>\n",
       "  <tbody>\n",
       "    <tr>\n",
       "      <th>0</th>\n",
       "      <td>08/11/2022 20:13:19</td>\n",
       "      <td>02250</td>\n",
       "      <td>AVENIDA CASTILLA LA MANCHA, 26</td>\n",
       "      <td>L-D: 07:00-22:00</td>\n",
       "      <td>39,211417</td>\n",
       "      <td>ABENGIBRE</td>\n",
       "      <td>-1,539167</td>\n",
       "      <td>D</td>\n",
       "      <td>Abengibre</td>\n",
       "      <td></td>\n",
       "      <td>...</td>\n",
       "      <td>ALBACETE</td>\n",
       "      <td>dm</td>\n",
       "      <td>Nº 10.935</td>\n",
       "      <td>P</td>\n",
       "      <td>0,0</td>\n",
       "      <td>0,0</td>\n",
       "      <td>4375</td>\n",
       "      <td>52</td>\n",
       "      <td>02</td>\n",
       "      <td>07</td>\n",
       "    </tr>\n",
       "    <tr>\n",
       "      <th>1</th>\n",
       "      <td>08/11/2022 20:13:19</td>\n",
       "      <td>02152</td>\n",
       "      <td>CR CM-332, 46,4</td>\n",
       "      <td>L-D: 7:00-23:00</td>\n",
       "      <td>39,100389</td>\n",
       "      <td>ALATOZ</td>\n",
       "      <td>-1,346083</td>\n",
       "      <td>I</td>\n",
       "      <td>Alatoz</td>\n",
       "      <td></td>\n",
       "      <td>...</td>\n",
       "      <td>ALBACETE</td>\n",
       "      <td>dm</td>\n",
       "      <td>REPSOL</td>\n",
       "      <td>P</td>\n",
       "      <td>0,0</td>\n",
       "      <td>0,0</td>\n",
       "      <td>5122</td>\n",
       "      <td>53</td>\n",
       "      <td>02</td>\n",
       "      <td>07</td>\n",
       "    </tr>\n",
       "    <tr>\n",
       "      <th>2</th>\n",
       "      <td>08/11/2022 20:13:19</td>\n",
       "      <td>02001</td>\n",
       "      <td>CALLE FEDERICO GARCIA LORCA, 5</td>\n",
       "      <td>L-S: 05:00-23:00</td>\n",
       "      <td>38,997722</td>\n",
       "      <td>ALBACETE</td>\n",
       "      <td>-1,846361</td>\n",
       "      <td>I</td>\n",
       "      <td>Albacete</td>\n",
       "      <td></td>\n",
       "      <td>...</td>\n",
       "      <td>ALBACETE</td>\n",
       "      <td>dm</td>\n",
       "      <td>CEPSA</td>\n",
       "      <td>R</td>\n",
       "      <td>0,0</td>\n",
       "      <td>0,0</td>\n",
       "      <td>4438</td>\n",
       "      <td>54</td>\n",
       "      <td>02</td>\n",
       "      <td>07</td>\n",
       "    </tr>\n",
       "    <tr>\n",
       "      <th>3</th>\n",
       "      <td>08/11/2022 20:13:19</td>\n",
       "      <td>02001</td>\n",
       "      <td>CALLE PRINCIPE DE ASTURIAS (POLÍGONO DE ROMICA...</td>\n",
       "      <td>L-D: 06:00-21:30</td>\n",
       "      <td>39,054694</td>\n",
       "      <td>ALBACETE</td>\n",
       "      <td>-1,832000</td>\n",
       "      <td>I</td>\n",
       "      <td>Albacete</td>\n",
       "      <td></td>\n",
       "      <td>...</td>\n",
       "      <td>ALBACETE</td>\n",
       "      <td>OM</td>\n",
       "      <td>BP ROMICA</td>\n",
       "      <td>P</td>\n",
       "      <td>0,0</td>\n",
       "      <td>0,0</td>\n",
       "      <td>12054</td>\n",
       "      <td>54</td>\n",
       "      <td>02</td>\n",
       "      <td>07</td>\n",
       "    </tr>\n",
       "    <tr>\n",
       "      <th>4</th>\n",
       "      <td>08/11/2022 20:13:19</td>\n",
       "      <td>02001</td>\n",
       "      <td>CALLE FEDERICO GARCIA LORCA, 1</td>\n",
       "      <td>L-D: 24H</td>\n",
       "      <td>39,000861</td>\n",
       "      <td>ALBACETE</td>\n",
       "      <td>-1,849833</td>\n",
       "      <td>D</td>\n",
       "      <td>Albacete</td>\n",
       "      <td></td>\n",
       "      <td>...</td>\n",
       "      <td>ALBACETE</td>\n",
       "      <td>dm</td>\n",
       "      <td>PLENOIL</td>\n",
       "      <td>P</td>\n",
       "      <td>0,0</td>\n",
       "      <td>0,0</td>\n",
       "      <td>13933</td>\n",
       "      <td>54</td>\n",
       "      <td>02</td>\n",
       "      <td>07</td>\n",
       "    </tr>\n",
       "    <tr>\n",
       "      <th>...</th>\n",
       "      <td>...</td>\n",
       "      <td>...</td>\n",
       "      <td>...</td>\n",
       "      <td>...</td>\n",
       "      <td>...</td>\n",
       "      <td>...</td>\n",
       "      <td>...</td>\n",
       "      <td>...</td>\n",
       "      <td>...</td>\n",
       "      <td>...</td>\n",
       "      <td>...</td>\n",
       "      <td>...</td>\n",
       "      <td>...</td>\n",
       "      <td>...</td>\n",
       "      <td>...</td>\n",
       "      <td>...</td>\n",
       "      <td>...</td>\n",
       "      <td>...</td>\n",
       "      <td>...</td>\n",
       "      <td>...</td>\n",
       "      <td>...</td>\n",
       "    </tr>\n",
       "    <tr>\n",
       "      <th>11778</th>\n",
       "      <td>08/11/2022 20:13:19</td>\n",
       "      <td>50197</td>\n",
       "      <td>AVENIDA DIAGONAL PLAZA, 22</td>\n",
       "      <td>L-V: 06:00-22:00; S: 08:00-15:00</td>\n",
       "      <td>41,636528</td>\n",
       "      <td>ZARAGOZA</td>\n",
       "      <td>-0,990111</td>\n",
       "      <td>D</td>\n",
       "      <td>Zaragoza</td>\n",
       "      <td></td>\n",
       "      <td>...</td>\n",
       "      <td>ZARAGOZA</td>\n",
       "      <td>dm</td>\n",
       "      <td>REPSOL</td>\n",
       "      <td>P</td>\n",
       "      <td>0,0</td>\n",
       "      <td>0,0</td>\n",
       "      <td>12289</td>\n",
       "      <td>8108</td>\n",
       "      <td>50</td>\n",
       "      <td>02</td>\n",
       "    </tr>\n",
       "    <tr>\n",
       "      <th>11779</th>\n",
       "      <td>08/11/2022 20:13:19</td>\n",
       "      <td>50197</td>\n",
       "      <td>POLIGONO CALLE TURIASO, 31</td>\n",
       "      <td>L-D: 24H</td>\n",
       "      <td>41,645722</td>\n",
       "      <td>ZARAGOZA</td>\n",
       "      <td>-0,974194</td>\n",
       "      <td>D</td>\n",
       "      <td>Zaragoza</td>\n",
       "      <td></td>\n",
       "      <td>...</td>\n",
       "      <td>ZARAGOZA</td>\n",
       "      <td>dm</td>\n",
       "      <td>NOIL</td>\n",
       "      <td>P</td>\n",
       "      <td>0,0</td>\n",
       "      <td>0,0</td>\n",
       "      <td>13917</td>\n",
       "      <td>8108</td>\n",
       "      <td>50</td>\n",
       "      <td>02</td>\n",
       "    </tr>\n",
       "    <tr>\n",
       "      <th>11780</th>\n",
       "      <td>08/11/2022 20:13:19</td>\n",
       "      <td>50800</td>\n",
       "      <td>CARRETERA N-330A KM. 24,000</td>\n",
       "      <td>L-D: 06:00-22:00</td>\n",
       "      <td>41,857000</td>\n",
       "      <td>ZUERA</td>\n",
       "      <td>-0,794000</td>\n",
       "      <td>D</td>\n",
       "      <td>Zuera</td>\n",
       "      <td></td>\n",
       "      <td>...</td>\n",
       "      <td>ZARAGOZA</td>\n",
       "      <td>OM</td>\n",
       "      <td>REPSOL</td>\n",
       "      <td>P</td>\n",
       "      <td>0,0</td>\n",
       "      <td>0,0</td>\n",
       "      <td>1452</td>\n",
       "      <td>8109</td>\n",
       "      <td>50</td>\n",
       "      <td>02</td>\n",
       "    </tr>\n",
       "    <tr>\n",
       "      <th>11781</th>\n",
       "      <td>08/11/2022 20:13:19</td>\n",
       "      <td>50800</td>\n",
       "      <td>CALLE AUSTRIA, 11,17</td>\n",
       "      <td>L-D: 24H</td>\n",
       "      <td>41,883583</td>\n",
       "      <td>ZUERA</td>\n",
       "      <td>-0,782833</td>\n",
       "      <td>D</td>\n",
       "      <td>Zuera</td>\n",
       "      <td></td>\n",
       "      <td>...</td>\n",
       "      <td>ZARAGOZA</td>\n",
       "      <td>dm</td>\n",
       "      <td>AN ENERGETICOS ZUERA</td>\n",
       "      <td>P</td>\n",
       "      <td>0,0</td>\n",
       "      <td>0,0</td>\n",
       "      <td>9085</td>\n",
       "      <td>8109</td>\n",
       "      <td>50</td>\n",
       "      <td>02</td>\n",
       "    </tr>\n",
       "    <tr>\n",
       "      <th>11782</th>\n",
       "      <td>08/11/2022 20:13:19</td>\n",
       "      <td>50810</td>\n",
       "      <td>CALLE COOPERATIVA, 2</td>\n",
       "      <td>L-D: 24H</td>\n",
       "      <td>41,938750</td>\n",
       "      <td>ONTINAR DE SALZ</td>\n",
       "      <td>-0,757611</td>\n",
       "      <td>D</td>\n",
       "      <td>Zuera</td>\n",
       "      <td></td>\n",
       "      <td>...</td>\n",
       "      <td>ZARAGOZA</td>\n",
       "      <td>dm</td>\n",
       "      <td>COOPERATIVA SAN ISIDRO</td>\n",
       "      <td>P</td>\n",
       "      <td>0,0</td>\n",
       "      <td>0,0</td>\n",
       "      <td>9068</td>\n",
       "      <td>8109</td>\n",
       "      <td>50</td>\n",
       "      <td>02</td>\n",
       "    </tr>\n",
       "  </tbody>\n",
       "</table>\n",
       "<p>11783 rows × 33 columns</p>\n",
       "</div>"
      ],
      "text/plain": [
       "                     Fecha   C.P.  \\\n",
       "0      08/11/2022 20:13:19  02250   \n",
       "1      08/11/2022 20:13:19  02152   \n",
       "2      08/11/2022 20:13:19  02001   \n",
       "3      08/11/2022 20:13:19  02001   \n",
       "4      08/11/2022 20:13:19  02001   \n",
       "...                    ...    ...   \n",
       "11778  08/11/2022 20:13:19  50197   \n",
       "11779  08/11/2022 20:13:19  50197   \n",
       "11780  08/11/2022 20:13:19  50800   \n",
       "11781  08/11/2022 20:13:19  50800   \n",
       "11782  08/11/2022 20:13:19  50810   \n",
       "\n",
       "                                               Dirección  \\\n",
       "0                         AVENIDA CASTILLA LA MANCHA, 26   \n",
       "1                                        CR CM-332, 46,4   \n",
       "2                         CALLE FEDERICO GARCIA LORCA, 5   \n",
       "3      CALLE PRINCIPE DE ASTURIAS (POLÍGONO DE ROMICA...   \n",
       "4                         CALLE FEDERICO GARCIA LORCA, 1   \n",
       "...                                                  ...   \n",
       "11778                         AVENIDA DIAGONAL PLAZA, 22   \n",
       "11779                         POLIGONO CALLE TURIASO, 31   \n",
       "11780                        CARRETERA N-330A KM. 24,000   \n",
       "11781                               CALLE AUSTRIA, 11,17   \n",
       "11782                               CALLE COOPERATIVA, 2   \n",
       "\n",
       "                                Horario    Latitud        Localidad  \\\n",
       "0                      L-D: 07:00-22:00  39,211417        ABENGIBRE   \n",
       "1                       L-D: 7:00-23:00  39,100389           ALATOZ   \n",
       "2                      L-S: 05:00-23:00  38,997722         ALBACETE   \n",
       "3                      L-D: 06:00-21:30  39,054694         ALBACETE   \n",
       "4                              L-D: 24H  39,000861         ALBACETE   \n",
       "...                                 ...        ...              ...   \n",
       "11778  L-V: 06:00-22:00; S: 08:00-15:00  41,636528         ZARAGOZA   \n",
       "11779                          L-D: 24H  41,645722         ZARAGOZA   \n",
       "11780                  L-D: 06:00-22:00  41,857000            ZUERA   \n",
       "11781                          L-D: 24H  41,883583            ZUERA   \n",
       "11782                          L-D: 24H  41,938750  ONTINAR DE SALZ   \n",
       "\n",
       "      Longitud (WGS84) Margen  Municipio Precio Biodiesel  ... Provincia  \\\n",
       "0            -1,539167      D  Abengibre                   ...  ALBACETE   \n",
       "1            -1,346083      I     Alatoz                   ...  ALBACETE   \n",
       "2            -1,846361      I   Albacete                   ...  ALBACETE   \n",
       "3            -1,832000      I   Albacete                   ...  ALBACETE   \n",
       "4            -1,849833      D   Albacete                   ...  ALBACETE   \n",
       "...                ...    ...        ...              ...  ...       ...   \n",
       "11778        -0,990111      D   Zaragoza                   ...  ZARAGOZA   \n",
       "11779        -0,974194      D   Zaragoza                   ...  ZARAGOZA   \n",
       "11780        -0,794000      D      Zuera                   ...  ZARAGOZA   \n",
       "11781        -0,782833      D      Zuera                   ...  ZARAGOZA   \n",
       "11782        -0,757611      D      Zuera                   ...  ZARAGOZA   \n",
       "\n",
       "      Remisión                  Rótulo Tipo Venta % BioEtanol  \\\n",
       "0           dm               Nº 10.935          P         0,0   \n",
       "1           dm                  REPSOL          P         0,0   \n",
       "2           dm                   CEPSA          R         0,0   \n",
       "3           OM               BP ROMICA          P         0,0   \n",
       "4           dm                 PLENOIL          P         0,0   \n",
       "...        ...                     ...        ...         ...   \n",
       "11778       dm                  REPSOL          P         0,0   \n",
       "11779       dm                    NOIL          P         0,0   \n",
       "11780       OM                  REPSOL          P         0,0   \n",
       "11781       dm    AN ENERGETICOS ZUERA          P         0,0   \n",
       "11782       dm  COOPERATIVA SAN ISIDRO          P         0,0   \n",
       "\n",
       "      % Éster metílico IDEESS IDMunicipio IDProvincia IDCCAA  \n",
       "0                  0,0   4375          52          02     07  \n",
       "1                  0,0   5122          53          02     07  \n",
       "2                  0,0   4438          54          02     07  \n",
       "3                  0,0  12054          54          02     07  \n",
       "4                  0,0  13933          54          02     07  \n",
       "...                ...    ...         ...         ...    ...  \n",
       "11778              0,0  12289        8108          50     02  \n",
       "11779              0,0  13917        8108          50     02  \n",
       "11780              0,0   1452        8109          50     02  \n",
       "11781              0,0   9085        8109          50     02  \n",
       "11782              0,0   9068        8109          50     02  \n",
       "\n",
       "[11783 rows x 33 columns]"
      ]
     },
     "execution_count": 8,
     "metadata": {},
     "output_type": "execute_result"
    }
   ],
   "source": [
    "# Extraigo informacion de columna EESS Precio, utilizando json normalize\n",
    "\n",
    "df_n = pd.concat([df[['Fecha']],pd.json_normalize(df['ListaEESSPrecio'])], axis=1)\n",
    "df_n\n"
   ]
  },
  {
   "cell_type": "code",
   "execution_count": 9,
   "id": "90463003",
   "metadata": {},
   "outputs": [],
   "source": [
    "# Guardamos df original para sucesion de tiempo\n",
    "#df_n.to_csv('2022-11-05x.csv', index=False)"
   ]
  },
  {
   "cell_type": "code",
   "execution_count": 10,
   "id": "2d75fcc5",
   "metadata": {
    "scrolled": true
   },
   "outputs": [
    {
     "name": "stdout",
     "output_type": "stream",
     "text": [
      "<class 'pandas.core.frame.DataFrame'>\n",
      "RangeIndex: 11783 entries, 0 to 11782\n",
      "Data columns (total 33 columns):\n",
      " #   Column                              Non-Null Count  Dtype \n",
      "---  ------                              --------------  ----- \n",
      " 0   Fecha                               11783 non-null  object\n",
      " 1   C.P.                                11783 non-null  object\n",
      " 2   Dirección                           11783 non-null  object\n",
      " 3   Horario                             11783 non-null  object\n",
      " 4   Latitud                             11783 non-null  object\n",
      " 5   Localidad                           11783 non-null  object\n",
      " 6   Longitud (WGS84)                    11783 non-null  object\n",
      " 7   Margen                              11783 non-null  object\n",
      " 8   Municipio                           11783 non-null  object\n",
      " 9   Precio Biodiesel                    11783 non-null  object\n",
      " 10  Precio Bioetanol                    11783 non-null  object\n",
      " 11  Precio Gas Natural Comprimido       11783 non-null  object\n",
      " 12  Precio Gas Natural Licuado          11783 non-null  object\n",
      " 13  Precio Gases licuados del petróleo  11783 non-null  object\n",
      " 14  Precio Gasoleo A                    11783 non-null  object\n",
      " 15  Precio Gasoleo B                    11783 non-null  object\n",
      " 16  Precio Gasoleo Premium              11783 non-null  object\n",
      " 17  Precio Gasolina 95 E10              11783 non-null  object\n",
      " 18  Precio Gasolina 95 E5               11783 non-null  object\n",
      " 19  Precio Gasolina 95 E5 Premium       11783 non-null  object\n",
      " 20  Precio Gasolina 98 E10              11783 non-null  object\n",
      " 21  Precio Gasolina 98 E5               11783 non-null  object\n",
      " 22  Precio Hidrogeno                    11783 non-null  object\n",
      " 23  Provincia                           11783 non-null  object\n",
      " 24  Remisión                            11783 non-null  object\n",
      " 25  Rótulo                              11783 non-null  object\n",
      " 26  Tipo Venta                          11783 non-null  object\n",
      " 27  % BioEtanol                         11783 non-null  object\n",
      " 28  % Éster metílico                    11783 non-null  object\n",
      " 29  IDEESS                              11783 non-null  object\n",
      " 30  IDMunicipio                         11783 non-null  object\n",
      " 31  IDProvincia                         11783 non-null  object\n",
      " 32  IDCCAA                              11783 non-null  object\n",
      "dtypes: object(33)\n",
      "memory usage: 3.0+ MB\n"
     ]
    }
   ],
   "source": [
    "df_n.info()"
   ]
  },
  {
   "cell_type": "markdown",
   "id": "ee524e6e",
   "metadata": {},
   "source": [
    "---\n",
    "Step (3): EDA"
   ]
  },
  {
   "cell_type": "markdown",
   "id": "7027ceb6",
   "metadata": {},
   "source": [
    "                                                    Análisis de Columnas"
   ]
  },
  {
   "cell_type": "markdown",
   "id": "4deaad69",
   "metadata": {},
   "source": [
    "# Fecha"
   ]
  },
  {
   "cell_type": "code",
   "execution_count": 11,
   "id": "dd7735c8",
   "metadata": {},
   "outputs": [
    {
     "name": "stdout",
     "output_type": "stream",
     "text": [
      "<class 'numpy.ndarray'>\n",
      "1\n"
     ]
    },
    {
     "data": {
      "text/plain": [
       "array(['08/11/2022 20:13:19'], dtype=object)"
      ]
     },
     "execution_count": 11,
     "metadata": {},
     "output_type": "execute_result"
    }
   ],
   "source": [
    "# Fecha (solo hay una fecha)\n",
    "Fecha = df_n['Fecha'].unique()\n",
    "print(type(Fecha))\n",
    "print(len(Fecha))\n",
    "Fecha"
   ]
  },
  {
   "cell_type": "code",
   "execution_count": 12,
   "id": "5d054a1e",
   "metadata": {},
   "outputs": [
    {
     "data": {
      "text/plain": [
       "0"
      ]
     },
     "execution_count": 12,
     "metadata": {},
     "output_type": "execute_result"
    }
   ],
   "source": [
    "# Nulos \n",
    "nulos_f = df_n['Fecha'].isnull().sum()\n",
    "nulos_f"
   ]
  },
  {
   "cell_type": "markdown",
   "id": "addc43ab",
   "metadata": {},
   "source": [
    "# Código Postal"
   ]
  },
  {
   "cell_type": "code",
   "execution_count": 13,
   "id": "603eca2d",
   "metadata": {},
   "outputs": [
    {
     "name": "stdout",
     "output_type": "stream",
     "text": [
      "<class 'numpy.ndarray'>\n",
      "4542\n"
     ]
    },
    {
     "data": {
      "text/plain": [
       "array(['02250', '02152', '02001', ..., '50197', '50800', '50810'],\n",
       "      dtype=object)"
      ]
     },
     "execution_count": 13,
     "metadata": {},
     "output_type": "execute_result"
    }
   ],
   "source": [
    "# Columna C.P.\n",
    "cp = df_n['C.P.'].unique()\n",
    "print(type(cp))\n",
    "print(len(cp))\n",
    "cp\n",
    "# En Esaña hay 11752 codigos postales en total"
   ]
  },
  {
   "cell_type": "code",
   "execution_count": 14,
   "id": "de4b57fa",
   "metadata": {},
   "outputs": [
    {
     "data": {
      "text/plain": [
       "0"
      ]
     },
     "execution_count": 14,
     "metadata": {},
     "output_type": "execute_result"
    }
   ],
   "source": [
    "# Nulos \n",
    "nulos_cp = df_n['C.P.'].isnull().sum()\n",
    "nulos_cp"
   ]
  },
  {
   "cell_type": "markdown",
   "id": "cd713bcb",
   "metadata": {},
   "source": [
    "# Dirección"
   ]
  },
  {
   "cell_type": "code",
   "execution_count": 15,
   "id": "3ce78674",
   "metadata": {},
   "outputs": [
    {
     "name": "stdout",
     "output_type": "stream",
     "text": [
      "<class 'numpy.ndarray'>\n",
      "11467\n"
     ]
    },
    {
     "data": {
      "text/plain": [
       "array(['AVENIDA CASTILLA LA MANCHA, 26', 'CR CM-332, 46,4',\n",
       "       'CALLE FEDERICO GARCIA LORCA, 5', ...,\n",
       "       'POLIGONO CALLE TURIASO, 31', 'CARRETERA N-330A KM. 24,000',\n",
       "       'CALLE AUSTRIA, 11,17'], dtype=object)"
      ]
     },
     "execution_count": 15,
     "metadata": {},
     "output_type": "execute_result"
    }
   ],
   "source": [
    "# Columna  Dirección\n",
    "direccion = df_n['Dirección'].unique()\n",
    "print(type(direccion))\n",
    "print(len(direccion))\n",
    "direccion\n"
   ]
  },
  {
   "cell_type": "code",
   "execution_count": 16,
   "id": "e1030055",
   "metadata": {},
   "outputs": [
    {
     "data": {
      "text/plain": [
       "0"
      ]
     },
     "execution_count": 16,
     "metadata": {},
     "output_type": "execute_result"
    }
   ],
   "source": [
    "# Nulos dirección\n",
    "nulos_cp = df_n['Dirección'].isnull().sum()\n",
    "nulos_cp"
   ]
  },
  {
   "cell_type": "markdown",
   "id": "b540d156",
   "metadata": {},
   "source": [
    "# Horario"
   ]
  },
  {
   "cell_type": "code",
   "execution_count": 17,
   "id": "d951b048",
   "metadata": {},
   "outputs": [
    {
     "data": {
      "text/plain": [
       "array(['L-D: 07:00-22:00', 'L-D: 7:00-23:00', 'L-S: 05:00-23:00', ...,\n",
       "       'L-V: 05:30-22:00; S: 07:00-15:00; D: 08:00-15:00',\n",
       "       'L-V: 08:00-22:30; S: 10:00-22:30',\n",
       "       'L-V: 05:00-22:00; S-D: 08:00-22:00'], dtype=object)"
      ]
     },
     "execution_count": 17,
     "metadata": {},
     "output_type": "execute_result"
    }
   ],
   "source": [
    "# Horario\n",
    "horario = df_n['Horario'].unique()\n",
    "horario"
   ]
  },
  {
   "cell_type": "code",
   "execution_count": 18,
   "id": "6cb34506",
   "metadata": {},
   "outputs": [
    {
     "data": {
      "text/plain": [
       "0"
      ]
     },
     "execution_count": 18,
     "metadata": {},
     "output_type": "execute_result"
    }
   ],
   "source": [
    "# Nulos horario\n",
    "nulos_h = df_n['Horario'].isnull().sum()\n",
    "nulos_h"
   ]
  },
  {
   "cell_type": "markdown",
   "id": "129d07e9",
   "metadata": {},
   "source": [
    "# Latitud"
   ]
  },
  {
   "cell_type": "code",
   "execution_count": 19,
   "id": "aa9399ed",
   "metadata": {},
   "outputs": [
    {
     "name": "stdout",
     "output_type": "stream",
     "text": [
      "11428\n"
     ]
    },
    {
     "data": {
      "text/plain": [
       "array(['39,211417', '39,100389', '38,997722', ..., '41,857000',\n",
       "       '41,883583', '41,938750'], dtype=object)"
      ]
     },
     "execution_count": 19,
     "metadata": {},
     "output_type": "execute_result"
    }
   ],
   "source": [
    "#Latitud (Coincide Latitud y Longitud con las coordenadas en las gasolineras de Google Maps)\n",
    "latitud = df_n['Latitud'].unique()\n",
    "print(len(latitud ))\n",
    "latitud\n"
   ]
  },
  {
   "cell_type": "code",
   "execution_count": 20,
   "id": "b12f974a",
   "metadata": {},
   "outputs": [
    {
     "data": {
      "text/plain": [
       "0"
      ]
     },
     "execution_count": 20,
     "metadata": {},
     "output_type": "execute_result"
    }
   ],
   "source": [
    "# Nulos Latitud\n",
    "nulos_l = df_n['Latitud'].isnull().sum()\n",
    "nulos_l"
   ]
  },
  {
   "cell_type": "markdown",
   "id": "14f71694",
   "metadata": {},
   "source": [
    "# Longitud"
   ]
  },
  {
   "cell_type": "code",
   "execution_count": 21,
   "id": "26f3092e",
   "metadata": {
    "scrolled": true
   },
   "outputs": [
    {
     "name": "stdout",
     "output_type": "stream",
     "text": [
      "11538\n"
     ]
    },
    {
     "data": {
      "text/plain": [
       "array(['-1,539167', '-1,346083', '-1,846361', ..., '-0,794000',\n",
       "       '-0,782833', '-0,757611'], dtype=object)"
      ]
     },
     "execution_count": 21,
     "metadata": {},
     "output_type": "execute_result"
    }
   ],
   "source": [
    "# Longitud (Coincide Latitud y Longitud con las coordenadas en las gasolineras de Google Maps)\n",
    "Longitud = df_n['Longitud (WGS84)'].unique()\n",
    "print(len(Longitud))\n",
    "Longitud\n"
   ]
  },
  {
   "cell_type": "code",
   "execution_count": 22,
   "id": "e018ad91",
   "metadata": {},
   "outputs": [
    {
     "data": {
      "text/plain": [
       "0"
      ]
     },
     "execution_count": 22,
     "metadata": {},
     "output_type": "execute_result"
    }
   ],
   "source": [
    "# Nulos Longitud\n",
    "nulos_long = df_n['Longitud (WGS84)'].isnull().sum()\n",
    "nulos_long"
   ]
  },
  {
   "cell_type": "markdown",
   "id": "baaa7f76",
   "metadata": {},
   "source": [
    "# Localidad"
   ]
  },
  {
   "cell_type": "code",
   "execution_count": 23,
   "id": "05337df3",
   "metadata": {},
   "outputs": [
    {
     "name": "stdout",
     "output_type": "stream",
     "text": [
      "4237\n"
     ]
    },
    {
     "data": {
      "text/plain": [
       "array(['ABENGIBRE', 'ALATOZ', 'ALBACETE', ..., 'VILLARRAPA', 'ZUERA',\n",
       "       'ONTINAR DE SALZ'], dtype=object)"
      ]
     },
     "execution_count": 23,
     "metadata": {},
     "output_type": "execute_result"
    }
   ],
   "source": [
    "#Localidad\n",
    "Localidad = df_n['Localidad'].unique()\n",
    "print(len(Localidad))\n",
    "Localidad"
   ]
  },
  {
   "cell_type": "code",
   "execution_count": 24,
   "id": "46fae344",
   "metadata": {},
   "outputs": [
    {
     "data": {
      "text/plain": [
       "0"
      ]
     },
     "execution_count": 24,
     "metadata": {},
     "output_type": "execute_result"
    }
   ],
   "source": [
    "# Nulos Localidad\n",
    "nulos_loc = df_n['Localidad'].isnull().sum()\n",
    "nulos_loc"
   ]
  },
  {
   "cell_type": "markdown",
   "id": "8fa3baee",
   "metadata": {},
   "source": [
    "# Municipio "
   ]
  },
  {
   "cell_type": "code",
   "execution_count": 25,
   "id": "0e69e607",
   "metadata": {},
   "outputs": [
    {
     "name": "stdout",
     "output_type": "stream",
     "text": [
      "3438\n"
     ]
    },
    {
     "data": {
      "text/plain": [
       "array(['Abengibre', 'Alatoz', 'Albacete', ..., 'Villarroya de la Sierra',\n",
       "       'Zaragoza', 'Zuera'], dtype=object)"
      ]
     },
     "execution_count": 25,
     "metadata": {},
     "output_type": "execute_result"
    }
   ],
   "source": [
    "# Municipio (En España hay 8131 Municipios)\n",
    "Municipio = df_n['Municipio'].unique() \n",
    "print(len(Municipio))\n",
    "Municipio\n",
    "\n"
   ]
  },
  {
   "cell_type": "code",
   "execution_count": 26,
   "id": "223081b3",
   "metadata": {},
   "outputs": [
    {
     "data": {
      "text/plain": [
       "0"
      ]
     },
     "execution_count": 26,
     "metadata": {},
     "output_type": "execute_result"
    }
   ],
   "source": [
    "# Nulos Municipio\n",
    "nulos_loc = df_n['Municipio'].isnull().sum()\n",
    "nulos_loc"
   ]
  },
  {
   "cell_type": "markdown",
   "id": "cc6b303b",
   "metadata": {},
   "source": [
    "# Margen"
   ]
  },
  {
   "cell_type": "code",
   "execution_count": 27,
   "id": "cf022a39",
   "metadata": {},
   "outputs": [
    {
     "name": "stdout",
     "output_type": "stream",
     "text": [
      "3\n"
     ]
    },
    {
     "data": {
      "text/plain": [
       "array(['D', 'I', 'N'], dtype=object)"
      ]
     },
     "execution_count": 27,
     "metadata": {},
     "output_type": "execute_result"
    }
   ],
   "source": [
    "# Margen\n",
    "Margen = df_n['Margen'].unique()\n",
    "print(len(Margen))\n",
    "Margen"
   ]
  },
  {
   "cell_type": "markdown",
   "id": "2d2ea3bb",
   "metadata": {},
   "source": [
    "# Provincia "
   ]
  },
  {
   "cell_type": "code",
   "execution_count": 28,
   "id": "e1fa2d5f",
   "metadata": {},
   "outputs": [
    {
     "name": "stdout",
     "output_type": "stream",
     "text": [
      "52\n"
     ]
    },
    {
     "data": {
      "text/plain": [
       "array(['ALBACETE', 'ALICANTE', 'ALMERÍA', 'ARABA/ÁLAVA', 'ASTURIAS',\n",
       "       'ÁVILA', 'BADAJOZ', 'BALEARS (ILLES)', 'BARCELONA', 'BIZKAIA',\n",
       "       'BURGOS', 'CÁCERES', 'CÁDIZ', 'CANTABRIA', 'CASTELLÓN / CASTELLÓ',\n",
       "       'CEUTA', 'CIUDAD REAL', 'CÓRDOBA', 'CORUÑA (A)', 'CUENCA',\n",
       "       'GIPUZKOA', 'GIRONA', 'GRANADA', 'GUADALAJARA', 'HUELVA', 'HUESCA',\n",
       "       'JAÉN', 'LEÓN', 'LLEIDA', 'LUGO', 'MADRID', 'MÁLAGA', 'MELILLA',\n",
       "       'MURCIA', 'NAVARRA', 'OURENSE', 'PALENCIA', 'PALMAS (LAS)',\n",
       "       'PONTEVEDRA', 'RIOJA (LA)', 'SALAMANCA', 'SANTA CRUZ DE TENERIFE',\n",
       "       'SEGOVIA', 'SEVILLA', 'SORIA', 'TARRAGONA', 'TERUEL', 'TOLEDO',\n",
       "       'VALENCIA / VALÈNCIA', 'VALLADOLID', 'ZAMORA', 'ZARAGOZA'],\n",
       "      dtype=object)"
      ]
     },
     "execution_count": 28,
     "metadata": {},
     "output_type": "execute_result"
    }
   ],
   "source": [
    "# Provincia (Están todas las Provinicas de España en nuestro df)\n",
    "Provincia = df_n['Provincia'].unique()\n",
    "print(len(Provincia))\n",
    "Provincia"
   ]
  },
  {
   "cell_type": "code",
   "execution_count": 29,
   "id": "b27108a2",
   "metadata": {},
   "outputs": [
    {
     "data": {
      "text/plain": [
       "0"
      ]
     },
     "execution_count": 29,
     "metadata": {},
     "output_type": "execute_result"
    }
   ],
   "source": [
    "# Nulos Provincia\n",
    "nulos_prov = df_n['Provincia'].isnull().sum()\n",
    "nulos_prov"
   ]
  },
  {
   "cell_type": "markdown",
   "id": "722a58a1",
   "metadata": {},
   "source": [
    "# Remision"
   ]
  },
  {
   "cell_type": "code",
   "execution_count": 30,
   "id": "78c3b1c9",
   "metadata": {},
   "outputs": [
    {
     "name": "stdout",
     "output_type": "stream",
     "text": [
      "2\n",
      "<class 'numpy.ndarray'>\n"
     ]
    },
    {
     "data": {
      "text/plain": [
       "array(['dm', 'OM'], dtype=object)"
      ]
     },
     "execution_count": 30,
     "metadata": {},
     "output_type": "execute_result"
    }
   ],
   "source": [
    "# Remisión (Sistema de envío de información de precios y de ventas a través de API)\n",
    "Remision = df_n['Remisión'].unique()\n",
    "print(len(Remision))\n",
    "print(type(Remision))\n",
    "Remision"
   ]
  },
  {
   "cell_type": "markdown",
   "id": "cc886f49",
   "metadata": {},
   "source": [
    "# Rótulo"
   ]
  },
  {
   "cell_type": "code",
   "execution_count": 31,
   "id": "8157f57d",
   "metadata": {},
   "outputs": [
    {
     "name": "stdout",
     "output_type": "stream",
     "text": [
      "4009\n",
      "<class 'numpy.ndarray'>\n"
     ]
    },
    {
     "data": {
      "text/plain": [
       "array(['Nº 10.935', 'REPSOL', 'CEPSA', ..., 'COOPERATIVA SAN LAMBERTO',\n",
       "       'DAGO', 'AN ENERGETICOS ZUERA'], dtype=object)"
      ]
     },
     "execution_count": 31,
     "metadata": {},
     "output_type": "execute_result"
    }
   ],
   "source": [
    "# Rótulo (En España hay 3952 marcas de Gasolineras en España según datos de Google)\n",
    "Rotulo = df_n['Rótulo'].unique()\n",
    "print(len(Rotulo))\n",
    "print(type(Rotulo))\n",
    "Rotulo\n"
   ]
  },
  {
   "cell_type": "markdown",
   "id": "676ec408",
   "metadata": {},
   "source": [
    "# Tipo de Venta"
   ]
  },
  {
   "cell_type": "code",
   "execution_count": 32,
   "id": "7b2d09eb",
   "metadata": {},
   "outputs": [
    {
     "name": "stdout",
     "output_type": "stream",
     "text": [
      "2\n",
      "<class 'numpy.ndarray'>\n"
     ]
    },
    {
     "data": {
      "text/plain": [
       "array(['P', 'R'], dtype=object)"
      ]
     },
     "execution_count": 32,
     "metadata": {},
     "output_type": "execute_result"
    }
   ],
   "source": [
    "# Tipo Venta\n",
    "tv = df_n['Tipo Venta'].unique()\n",
    "print(len(tv))\n",
    "print(type(tv))\n",
    "tv"
   ]
  },
  {
   "cell_type": "markdown",
   "id": "7aad165f",
   "metadata": {},
   "source": [
    "# Porcentaje de Bioetanol"
   ]
  },
  {
   "cell_type": "code",
   "execution_count": 33,
   "id": "95e6e4b0",
   "metadata": {},
   "outputs": [
    {
     "name": "stdout",
     "output_type": "stream",
     "text": [
      "3\n",
      "<class 'numpy.ndarray'>\n"
     ]
    },
    {
     "data": {
      "text/plain": [
       "array(['0,0', '25,0', '85,0'], dtype=object)"
      ]
     },
     "execution_count": 33,
     "metadata": {},
     "output_type": "execute_result"
    }
   ],
   "source": [
    "# % BioEtanol (La diferencia entre gasolinas E5 o E10 significan el porcentaje de Etanol (5 o 10%))\n",
    "bioetanol = df_n['% BioEtanol'].unique()\n",
    "print(len(bioetanol))\n",
    "print(type(bioetanol))\n",
    "bioetanol"
   ]
  },
  {
   "cell_type": "markdown",
   "id": "54c7afc2",
   "metadata": {},
   "source": [
    "# Porcentaje de Éster Metílico"
   ]
  },
  {
   "cell_type": "code",
   "execution_count": 34,
   "id": "19aff9d9",
   "metadata": {},
   "outputs": [
    {
     "name": "stdout",
     "output_type": "stream",
     "text": [
      "6\n",
      "<class 'numpy.ndarray'>\n"
     ]
    },
    {
     "data": {
      "text/plain": [
       "array(['0,0', '7,0', '12,0', '20,0', '30,0', '10,0'], dtype=object)"
      ]
     },
     "execution_count": 34,
     "metadata": {},
     "output_type": "execute_result"
    }
   ],
   "source": [
    "# % Éster metílico (solo para Biodiesel)\n",
    "em = df_n['% Éster metílico'].unique()\n",
    "print(len(em))\n",
    "print(type(em))\n",
    "em"
   ]
  },
  {
   "cell_type": "markdown",
   "id": "e1bfb0ff",
   "metadata": {},
   "source": [
    "#  IDEESS"
   ]
  },
  {
   "cell_type": "code",
   "execution_count": 35,
   "id": "1bcc7c30",
   "metadata": {},
   "outputs": [
    {
     "name": "stdout",
     "output_type": "stream",
     "text": [
      "11783\n"
     ]
    },
    {
     "data": {
      "text/plain": [
       "array(['4375', '5122', '4438', ..., '1452', '9085', '9068'], dtype=object)"
      ]
     },
     "execution_count": 35,
     "metadata": {},
     "output_type": "execute_result"
    }
   ],
   "source": [
    "# IDEESS (ID Estación de Servicio, los mismos que estaciones (filas))\n",
    "IDEESS = df_n['IDEESS'].unique()\n",
    "print(len(IDEESS))\n",
    "type(IDEESS)\n",
    "IDEESS "
   ]
  },
  {
   "cell_type": "code",
   "execution_count": 36,
   "id": "89c026f2",
   "metadata": {},
   "outputs": [
    {
     "data": {
      "text/plain": [
       "0"
      ]
     },
     "execution_count": 36,
     "metadata": {},
     "output_type": "execute_result"
    }
   ],
   "source": [
    "# Nulos IDEESS\n",
    "nulos_IDEESS = df_n['IDEESS'].isnull().sum()\n",
    "nulos_IDEESS"
   ]
  },
  {
   "cell_type": "markdown",
   "id": "48e885d2",
   "metadata": {},
   "source": [
    "# ID Municipio"
   ]
  },
  {
   "cell_type": "code",
   "execution_count": 37,
   "id": "7dc3d12d",
   "metadata": {},
   "outputs": [
    {
     "name": "stdout",
     "output_type": "stream",
     "text": [
      "3439\n"
     ]
    },
    {
     "data": {
      "text/plain": [
       "array(['52', '53', '54', ..., '8103', '8108', '8109'], dtype=object)"
      ]
     },
     "execution_count": 37,
     "metadata": {},
     "output_type": "execute_result"
    }
   ],
   "source": [
    "# IDMunicipio (un ID más que municipios)\n",
    "idmun = df_n['IDMunicipio'].unique()\n",
    "print(len(idmun))\n",
    "type(idmun)\n",
    "idmun"
   ]
  },
  {
   "cell_type": "code",
   "execution_count": 38,
   "id": "c857c488",
   "metadata": {},
   "outputs": [
    {
     "data": {
      "text/plain": [
       "0"
      ]
     },
     "execution_count": 38,
     "metadata": {},
     "output_type": "execute_result"
    }
   ],
   "source": [
    "# Nulos ID Municipio\n",
    "nulos_IDMunicipio = df_n['IDMunicipio'].isnull().sum()\n",
    "nulos_IDMunicipio"
   ]
  },
  {
   "cell_type": "markdown",
   "id": "6568aaff",
   "metadata": {},
   "source": [
    "# ID Provincia"
   ]
  },
  {
   "cell_type": "code",
   "execution_count": 39,
   "id": "896e7bf1",
   "metadata": {},
   "outputs": [
    {
     "name": "stdout",
     "output_type": "stream",
     "text": [
      "52\n"
     ]
    },
    {
     "data": {
      "text/plain": [
       "array(['02', '03', '04', '01', '33', '05', '06', '07', '08', '48', '09',\n",
       "       '10', '11', '39', '12', '51', '13', '14', '15', '16', '20', '17',\n",
       "       '18', '19', '21', '22', '23', '24', '25', '27', '28', '29', '52',\n",
       "       '30', '31', '32', '34', '35', '36', '26', '37', '38', '40', '41',\n",
       "       '42', '43', '44', '45', '46', '47', '49', '50'], dtype=object)"
      ]
     },
     "execution_count": 39,
     "metadata": {},
     "output_type": "execute_result"
    }
   ],
   "source": [
    "# IDProvincia (Los mismos ID que Provincias)\n",
    "idprov = df_n['IDProvincia'].unique()\n",
    "print(len(idprov))\n",
    "type(idprov)\n",
    "idprov"
   ]
  },
  {
   "cell_type": "code",
   "execution_count": 40,
   "id": "0383161f",
   "metadata": {},
   "outputs": [
    {
     "data": {
      "text/plain": [
       "0"
      ]
     },
     "execution_count": 40,
     "metadata": {},
     "output_type": "execute_result"
    }
   ],
   "source": [
    "nulos_IDProvincia = df_n['IDProvincia'].isnull().sum()\n",
    "nulos_IDProvincia"
   ]
  },
  {
   "cell_type": "markdown",
   "id": "f0203c4c",
   "metadata": {},
   "source": [
    "# ID CCAA"
   ]
  },
  {
   "cell_type": "code",
   "execution_count": 41,
   "id": "cc731089",
   "metadata": {},
   "outputs": [
    {
     "name": "stdout",
     "output_type": "stream",
     "text": [
      "19\n"
     ]
    },
    {
     "data": {
      "text/plain": [
       "array(['07', '10', '01', '16', '03', '08', '11', '04', '09', '06', '18',\n",
       "       '12', '02', '13', '19', '14', '15', '05', '17'], dtype=object)"
      ]
     },
     "execution_count": 41,
     "metadata": {},
     "output_type": "execute_result"
    }
   ],
   "source": [
    "# IDCCAA (ID Comunidades Autónomas, 17 CCAA + Ceuta + Melilla)\n",
    "# IDProvincia (Los mismos ID que Provincias)\n",
    "idccaa = df_n['IDCCAA'].unique()\n",
    "print(len(idccaa))\n",
    "type(idccaa)\n",
    "idccaa"
   ]
  },
  {
   "cell_type": "markdown",
   "id": "4cf497b1",
   "metadata": {},
   "source": [
    "                                                Columnas Numéricas\n",
    "                                                "
   ]
  },
  {
   "cell_type": "markdown",
   "id": "cd72e5ad",
   "metadata": {},
   "source": [
    "# Biodiesel"
   ]
  },
  {
   "cell_type": "code",
   "execution_count": 42,
   "id": "01c87a0e",
   "metadata": {},
   "outputs": [
    {
     "name": "stdout",
     "output_type": "stream",
     "text": [
      "23\n",
      "<class 'numpy.ndarray'>\n"
     ]
    },
    {
     "data": {
      "text/plain": [
       "array(['', '1,968', '2,149', '1,999', '2,049', '1,799', '2,039', '1,769',\n",
       "       '1,859', '1,449', '1,958', '1,809', '2,030', '2,009', '1,869',\n",
       "       '2,079', '1,989', '1,939', '2,040', '1,839', '1,729', '1,749',\n",
       "       '1,966'], dtype=object)"
      ]
     },
     "execution_count": 42,
     "metadata": {},
     "output_type": "execute_result"
    }
   ],
   "source": [
    "Biodiesel = df_n['Precio Biodiesel'].unique()\n",
    "print(len(Biodiesel))\n",
    "print(type(Biodiesel))\n",
    "Biodiesel"
   ]
  },
  {
   "cell_type": "code",
   "execution_count": 43,
   "id": "c1172885",
   "metadata": {},
   "outputs": [],
   "source": [
    "# Convertimos columna categórica a numérica\n",
    "df_n['Precio Biodiesel']=df_n['Precio Biodiesel'].str.replace(',','.')\n",
    "df_n[['Precio Biodiesel']]=df_n[['Precio Biodiesel']].apply(pd.to_numeric)"
   ]
  },
  {
   "cell_type": "code",
   "execution_count": 44,
   "id": "3ba01c1b",
   "metadata": {},
   "outputs": [
    {
     "data": {
      "text/plain": [
       "count    38.000000\n",
       "mean      1.889447\n",
       "std       0.139788\n",
       "min       1.449000\n",
       "25%       1.799000\n",
       "50%       1.859000\n",
       "75%       1.999000\n",
       "max       2.149000\n",
       "Name: Precio Biodiesel, dtype: float64"
      ]
     },
     "execution_count": 44,
     "metadata": {},
     "output_type": "execute_result"
    }
   ],
   "source": [
    "df_n['Precio Biodiesel'].describe()\n"
   ]
  },
  {
   "cell_type": "code",
   "execution_count": 45,
   "id": "0b00d7af",
   "metadata": {},
   "outputs": [
    {
     "data": {
      "text/plain": [
       "11745"
      ]
     },
     "execution_count": 45,
     "metadata": {},
     "output_type": "execute_result"
    }
   ],
   "source": [
    "# Registros sin venta Biodiesel\n",
    "sin_suministro_b = df_n['Precio Biodiesel'].isnull().sum()\n",
    "sin_suministro_b"
   ]
  },
  {
   "cell_type": "markdown",
   "id": "fd2b4066",
   "metadata": {},
   "source": [
    "## Precio Bioetanol "
   ]
  },
  {
   "cell_type": "code",
   "execution_count": 46,
   "id": "edbcaac9",
   "metadata": {},
   "outputs": [
    {
     "name": "stdout",
     "output_type": "stream",
     "text": [
      "6\n",
      "<class 'numpy.ndarray'>\n"
     ]
    },
    {
     "data": {
      "text/plain": [
       "array(['', '2,239', '1,982', '1,487', '2,079', '1,909'], dtype=object)"
      ]
     },
     "execution_count": 46,
     "metadata": {},
     "output_type": "execute_result"
    }
   ],
   "source": [
    "Bioetanol = df_n['Precio Bioetanol'].unique()\n",
    "print(len(Bioetanol))\n",
    "print(type(Bioetanol))\n",
    "Bioetanol"
   ]
  },
  {
   "cell_type": "code",
   "execution_count": 47,
   "id": "3f6be22e",
   "metadata": {},
   "outputs": [],
   "source": [
    "# Convertimos columna categórica a numérica\n",
    "df_n['Precio Bioetanol']=df_n['Precio Bioetanol'].str.replace(',','.')\n",
    "df_n[['Precio Bioetanol']]=df_n[['Precio Bioetanol']].apply(pd.to_numeric)"
   ]
  },
  {
   "cell_type": "code",
   "execution_count": 48,
   "id": "336b94fa",
   "metadata": {},
   "outputs": [
    {
     "data": {
      "text/plain": [
       "count    5.00000\n",
       "mean     1.93920\n",
       "std      0.28136\n",
       "min      1.48700\n",
       "25%      1.90900\n",
       "50%      1.98200\n",
       "75%      2.07900\n",
       "max      2.23900\n",
       "Name: Precio Bioetanol, dtype: float64"
      ]
     },
     "execution_count": 48,
     "metadata": {},
     "output_type": "execute_result"
    }
   ],
   "source": [
    "df_n['Precio Bioetanol'].describe()"
   ]
  },
  {
   "cell_type": "code",
   "execution_count": 49,
   "id": "8614e236",
   "metadata": {},
   "outputs": [
    {
     "data": {
      "text/plain": [
       "11778"
      ]
     },
     "execution_count": 49,
     "metadata": {},
     "output_type": "execute_result"
    }
   ],
   "source": [
    "# Registros sin venta Biodiesel\n",
    "sin_suministro_be = df_n['Precio Bioetanol'].isnull().sum()\n",
    "sin_suministro_be"
   ]
  },
  {
   "cell_type": "markdown",
   "id": "de4c6c51",
   "metadata": {},
   "source": [
    "## Precio Gas Natural Comprimido"
   ]
  },
  {
   "cell_type": "code",
   "execution_count": 50,
   "id": "b2824198",
   "metadata": {},
   "outputs": [
    {
     "name": "stdout",
     "output_type": "stream",
     "text": [
      "32\n",
      "<class 'numpy.ndarray'>\n"
     ]
    },
    {
     "data": {
      "text/plain": [
       "array(['', '1,790', '1,379', '1,468', '1,485', '1,555', '1,518', '1,438',\n",
       "       '1,359', '1,349', '1,520', '1,389', '1,398', '1,420', '2,990',\n",
       "       '1,689', '1,399', '1,483', '1,948', '1,749', '1,679', '1,487',\n",
       "       '1,615', '1,469', '1,449', '1,380', '2,350', '3,700', '1,433',\n",
       "       '1,594', '1,369', '1,709'], dtype=object)"
      ]
     },
     "execution_count": 50,
     "metadata": {},
     "output_type": "execute_result"
    }
   ],
   "source": [
    "Gas_n_c = df_n['Precio Gas Natural Comprimido'].unique()\n",
    "print(len(Gas_n_c))\n",
    "print(type(Gas_n_c))\n",
    "Gas_n_c"
   ]
  },
  {
   "cell_type": "code",
   "execution_count": 51,
   "id": "1ac50945",
   "metadata": {},
   "outputs": [],
   "source": [
    "# Convertimos columna categórica a numérica\n",
    "df_n['Precio Gas Natural Comprimido']=df_n['Precio Gas Natural Comprimido'].str.replace(',','.')\n",
    "df_n[['Precio Gas Natural Comprimido']]=df_n[['Precio Gas Natural Comprimido']].apply(pd.to_numeric)"
   ]
  },
  {
   "cell_type": "code",
   "execution_count": 52,
   "id": "1f65143d",
   "metadata": {},
   "outputs": [
    {
     "data": {
      "text/plain": [
       "count    122.000000\n",
       "mean       1.599238\n",
       "std        0.302753\n",
       "min        1.349000\n",
       "25%        1.379000\n",
       "50%        1.485000\n",
       "75%        1.790000\n",
       "max        3.700000\n",
       "Name: Precio Gas Natural Comprimido, dtype: float64"
      ]
     },
     "execution_count": 52,
     "metadata": {},
     "output_type": "execute_result"
    }
   ],
   "source": [
    "df_n['Precio Gas Natural Comprimido'].describe()"
   ]
  },
  {
   "cell_type": "code",
   "execution_count": 53,
   "id": "e7a5a486",
   "metadata": {},
   "outputs": [
    {
     "data": {
      "text/plain": [
       "11778"
      ]
     },
     "execution_count": 53,
     "metadata": {},
     "output_type": "execute_result"
    }
   ],
   "source": [
    "# Registros sin venta Biodiesel\n",
    "sin_suministro_be = df_n['Precio Bioetanol'].isnull().sum()\n",
    "sin_suministro_be"
   ]
  },
  {
   "cell_type": "markdown",
   "id": "33ddd76e",
   "metadata": {},
   "source": [
    "# Precio Gas Natural Licuado"
   ]
  },
  {
   "cell_type": "code",
   "execution_count": 54,
   "id": "d5685b8d",
   "metadata": {},
   "outputs": [
    {
     "name": "stdout",
     "output_type": "stream",
     "text": [
      "18\n",
      "<class 'numpy.ndarray'>\n"
     ]
    },
    {
     "data": {
      "text/plain": [
       "array(['', '1,449', '1,299', '1,398', '1,368', '1,329', '1,269', '1,399',\n",
       "       '1,390', '1,249', '2,990', '2,506', '1,389', '1,433', '1,903',\n",
       "       '3,650', '1,489', '1,319'], dtype=object)"
      ]
     },
     "execution_count": 54,
     "metadata": {},
     "output_type": "execute_result"
    }
   ],
   "source": [
    "Gas_nat_lic = df_n['Precio Gas Natural Licuado'].unique()\n",
    "print(len(Gas_nat_lic))\n",
    "print(type(Gas_nat_lic))\n",
    "Gas_nat_lic"
   ]
  },
  {
   "cell_type": "code",
   "execution_count": 55,
   "id": "90f17335",
   "metadata": {},
   "outputs": [],
   "source": [
    "# Convertimos columna categórica a numérica, primero tenemos que sustituir , por .\n",
    "df_n['Precio Gas Natural Licuado']=df_n['Precio Gas Natural Licuado'].str.replace(',','.')\n",
    "df_n[['Precio Gas Natural Licuado']]=df_n[['Precio Gas Natural Licuado']].apply(pd.to_numeric)"
   ]
  },
  {
   "cell_type": "code",
   "execution_count": 56,
   "id": "7b35df2f",
   "metadata": {},
   "outputs": [
    {
     "data": {
      "text/plain": [
       "count    82.000000\n",
       "mean      1.421915\n",
       "std       0.342280\n",
       "min       1.249000\n",
       "25%       1.299000\n",
       "50%       1.329000\n",
       "75%       1.398000\n",
       "max       3.650000\n",
       "Name: Precio Gas Natural Licuado, dtype: float64"
      ]
     },
     "execution_count": 56,
     "metadata": {},
     "output_type": "execute_result"
    }
   ],
   "source": [
    "df_n['Precio Gas Natural Licuado'].describe()"
   ]
  },
  {
   "cell_type": "code",
   "execution_count": 57,
   "id": "0eca734e",
   "metadata": {},
   "outputs": [
    {
     "data": {
      "text/plain": [
       "11701"
      ]
     },
     "execution_count": 57,
     "metadata": {},
     "output_type": "execute_result"
    }
   ],
   "source": [
    "# Registros sin venta Gas NAtural Licuado\n",
    "sin_suministro_gnl = df_n['Precio Gas Natural Licuado'].isnull().sum()\n",
    "sin_suministro_gnl"
   ]
  },
  {
   "cell_type": "markdown",
   "id": "ba2199ad",
   "metadata": {},
   "source": [
    "# Precio Gases licuados del petróleo"
   ]
  },
  {
   "cell_type": "code",
   "execution_count": 58,
   "id": "bdff2425",
   "metadata": {},
   "outputs": [
    {
     "name": "stdout",
     "output_type": "stream",
     "text": [
      "120\n",
      "<class 'numpy.ndarray'>\n"
     ]
    },
    {
     "data": {
      "text/plain": [
       "array(['', '1,019', '1,089', '0,898', '1,029', '1,059', '0,969', '1,049',\n",
       "       '0,968', '1,020', '1,079', '1,099', '1,039', '1,034', '1,139',\n",
       "       '0,959', '0,830', '1,012', '0,930', '1,077', '1,088', '1,038',\n",
       "       '1,069', '0,910', '0,939', '1,052', '1,009', '1,200', '1,119',\n",
       "       '0,999', '1,179', '0,980', '1,189', '0,859', '1,134', '1,095',\n",
       "       '1,159', '1,129', '0,909', '0,899', '0,885', '1,098', '0,950',\n",
       "       '0,886', '1,017', '1,060', '1,037', '1,090', '1,109', '1,008',\n",
       "       '0,979', '1,028', '0,865', '0,639', '0,929', '1,148', '0,805',\n",
       "       '1,022', '0,998', '0,879', '1,149', '0,768', '1,004', '0,990',\n",
       "       '0,970', '1,169', '0,997', '0,965', '1,150', '1,025', '0,949',\n",
       "       '0,889', '1,140', '1,220', '1,260', '1,160', '1,250', '0,759',\n",
       "       '1,100', '1,158', '0,769', '0,954', '1,115', '0,919', '0,977',\n",
       "       '1,106', '0,908', '1,048', '1,130', '1,018', '0,989', '1,199',\n",
       "       '1,185', '1,155', '0,799', '0,801', '0,808', '0,789', '0,839',\n",
       "       '0,800', '0,818', '0,809', '0,829', '0,958', '1,080', '1,026',\n",
       "       '1,000', '0,870', '0,967', '1,042', '0,974', '0,944', '0,905',\n",
       "       '0,925', '0,995', '0,915', '0,850', '0,779', '1,175', '0,849'],\n",
       "      dtype=object)"
      ]
     },
     "execution_count": 58,
     "metadata": {},
     "output_type": "execute_result"
    }
   ],
   "source": [
    "Gas_nat_lic_pet = df_n['Precio Gases licuados del petróleo'].unique()\n",
    "print(len(Gas_nat_lic_pet))\n",
    "print(type(Gas_nat_lic_pet))\n",
    "Gas_nat_lic_pet"
   ]
  },
  {
   "cell_type": "code",
   "execution_count": 59,
   "id": "94e05d01",
   "metadata": {},
   "outputs": [],
   "source": [
    "# Convertimos columna categórica a numérica\n",
    "df_n['Precio Gases licuados del petróleo']=df_n['Precio Gases licuados del petróleo'].str.replace(',','.')\n",
    "df_n[['Precio Gases licuados del petróleo']]=df_n[['Precio Gases licuados del petróleo']].apply(pd.to_numeric)"
   ]
  },
  {
   "cell_type": "code",
   "execution_count": 60,
   "id": "43ae8314",
   "metadata": {},
   "outputs": [
    {
     "data": {
      "text/plain": [
       "count    851.000000\n",
       "mean       1.030447\n",
       "std        0.079559\n",
       "min        0.639000\n",
       "25%        1.002000\n",
       "50%        1.039000\n",
       "75%        1.069000\n",
       "max        1.260000\n",
       "Name: Precio Gases licuados del petróleo, dtype: float64"
      ]
     },
     "execution_count": 60,
     "metadata": {},
     "output_type": "execute_result"
    }
   ],
   "source": [
    "df_n['Precio Gases licuados del petróleo'].describe()"
   ]
  },
  {
   "cell_type": "code",
   "execution_count": 61,
   "id": "f39d6004",
   "metadata": {},
   "outputs": [
    {
     "data": {
      "text/plain": [
       "10932"
      ]
     },
     "execution_count": 61,
     "metadata": {},
     "output_type": "execute_result"
    }
   ],
   "source": [
    "# Registros sin venta Gas NAtural Licuado del Petróleo\n",
    "sin_suministro_gnlp = df_n['Precio Gases licuados del petróleo'].isnull().sum()\n",
    "sin_suministro_gnlp"
   ]
  },
  {
   "cell_type": "code",
   "execution_count": 62,
   "id": "0a616a04",
   "metadata": {},
   "outputs": [
    {
     "data": {
      "text/plain": [
       "0"
      ]
     },
     "execution_count": 62,
     "metadata": {},
     "output_type": "execute_result"
    }
   ],
   "source": [
    "ceros_sin_suministro_gnlp = (df_n['Precio Gases licuados del petróleo'] == 0).sum()\n",
    "ceros_sin_suministro_gnlp"
   ]
  },
  {
   "cell_type": "markdown",
   "id": "579f7966",
   "metadata": {},
   "source": [
    "# Gasoleo A"
   ]
  },
  {
   "cell_type": "code",
   "execution_count": 63,
   "id": "b84c8a71",
   "metadata": {},
   "outputs": [
    {
     "name": "stdout",
     "output_type": "stream",
     "text": [
      "429\n",
      "<class 'numpy.ndarray'>\n"
     ]
    },
    {
     "data": {
      "text/plain": [
       "array(['1,929', '2,040', '2,035', '2,009', '1,897', '2,019', '1,999',\n",
       "       '1,878', '1,959', '2,029', '1,949', '1,899', '2,049', '1,979',\n",
       "       '1,950', '', '2,259', '1,869', '1,850', '1,947', '2,015', '1,919',\n",
       "       '1,969', '1,989', '1,939', '1,870', '1,995', '1,849', '1,954',\n",
       "       '1,800', '1,830', '1,889', '1,885', '1,846', '1,987', '1,930',\n",
       "       '1,860', '1,820', '1,740', '2,059', '1,829', '1,780', '1,813',\n",
       "       '1,856', '1,848', '1,858', '1,791', '1,994', '1,857', '2,039',\n",
       "       '2,020', '1,879', '1,887', '2,025', '1,796', '1,799', '1,837',\n",
       "       '1,992', '1,888', '1,877', '2,027', '1,988', '1,990', '1,972',\n",
       "       '1,909', '1,898', '1,839', '1,961', '1,859', '1,951', '2,014',\n",
       "       '1,968', '1,917', '2,004', '1,915', '1,975', '1,955', '1,875',\n",
       "       '1,826', '1,825', '1,958', '1,960', '1,845', '2,024', '1,944',\n",
       "       '1,936', '1,855', '1,937', '1,789', '1,918', '2,022', '1,974',\n",
       "       '1,817', '1,827', '1,914', '1,749', '2,005', '1,819', '1,922',\n",
       "       '2,010', '1,868', '1,797', '1,920', '1,882', '2,001', '1,896',\n",
       "       '1,886', '1,996', '1,810', '1,895', '1,945', '2,017', '1,964',\n",
       "       '2,099', '1,867', '1,806', '1,774', '1,769', '1,836', '1,816',\n",
       "       '1,880', '1,847', '1,809', '1,997', '1,811', '1,957', '1,890',\n",
       "       '1,984', '1,940', '2,079', '2,069', '2,054', '2,034', '1,874',\n",
       "       '2,055', '2,018', '1,903', '2,000', '1,893', '1,932', '2,045',\n",
       "       '2,058', '2,085', '1,970', '2,070', '1,910', '2,089', '1,834',\n",
       "       '1,902', '1,900', '1,956', '2,030', '1,941', '1,852', '1,871',\n",
       "       '1,985', '1,794', '1,739', '2,109', '1,841', '1,854', '1,851',\n",
       "       '1,866', '2,026', '1,938', '2,028', '1,767', '1,828', '2,008',\n",
       "       '2,041', '2,076', '2,048', '2,047', '1,998', '2,012', '2,084',\n",
       "       '2,057', '1,978', '1,967', '1,935', '1,790', '1,991', '1,921',\n",
       "       '1,865', '2,037', '1,904', '1,853', '1,928', '1,838', '1,793',\n",
       "       '2,011', '1,906', '1,792', '1,864', '1,783', '1,835', '1,965',\n",
       "       '1,798', '1,795', '1,927', '2,075', '2,299', '1,777', '1,977',\n",
       "       '2,007', '2,139', '1,894', '1,948', '2,016', '1,913', '1,840',\n",
       "       '1,779', '1,815', '1,908', '1,924', '1,971', '1,986', '1,876',\n",
       "       '1,934', '1,980', '1,905', '1,946', '1,802', '1,808', '1,833',\n",
       "       '1,773', '1,771', '1,824', '1,805', '1,584', '1,585', '1,565',\n",
       "       '1,901', '1,962', '1,757', '1,873', '1,775', '1,843', '1,782',\n",
       "       '1,475', '1,459', '1,770', '1,752', '1,925', '1,679', '1,747',\n",
       "       '1,781', '1,755', '2,021', '2,038', '1,883', '2,065', '2,068',\n",
       "       '1,993', '1,842', '1,814', '1,804', '1,844', '1,786', '2,145',\n",
       "       '2,095', '1,788', '2,044', '1,926', '1,863', '1,785', '2,088',\n",
       "       '2,309', '1,831', '1,751', '1,734', '1,759', '1,784', '1,657',\n",
       "       '2,200', '1,750', '2,080', '1,966', '2,090', '1,931', '1,916',\n",
       "       '1,952', '1,756', '1,942', '1,818', '1,973', '2,003', '1,700',\n",
       "       '1,807', '1,500', '1,787', '1,766', '1,891', '1,963', '2,060',\n",
       "       '1,711', '1,772', '1,892', '2,050', '2,052', '1,765', '1,976',\n",
       "       '2,211', '1,881', '2,023', '2,199', '2,006', '2,072', '2,224',\n",
       "       '1,911', '2,043', '1,832', '1,730', '1,763', '1,884', '1,488',\n",
       "       '1,489', '1,495', '1,550', '1,446', '2,111', '2,013', '1,933',\n",
       "       '2,181', '2,074', '1,821', '1,981', '1,499', '1,519', '1,498',\n",
       "       '1,374', '1,469', '1,399', '1,449', '1,339', '1,389', '1,421',\n",
       "       '1,559', '1,548', '1,539', '1,534', '1,509', '1,514', '1,529',\n",
       "       '1,504', '1,536', '1,522', '1,513', '1,485', '1,468', '1,487',\n",
       "       '1,451', '1,439', '1,527', '1,479', '1,553', '1,599', '1,573',\n",
       "       '1,532', '1,505', '1,484', '1,525', '1,544', '1,379', '1,494',\n",
       "       '1,524', '1,397', '1,503', '1,510', '1,520', '1,579', '1,528',\n",
       "       '1,483', '1,526', '1,538', '1,515', '1,474', '1,454', '1,415',\n",
       "       '1,497', '1,546', '1,490', '1,568', '1,444', '1,517', '1,609',\n",
       "       '1,822', '1,907', '1,872', '1,429', '1,518', '1,434', '1,562',\n",
       "       '1,658', '1,496', '1,501', '1,445', '1,480', '1,758', '1,695',\n",
       "       '1,678', '1,512', '1,425', '1,690', '1,493', '1,319', '1,299',\n",
       "       '1,419', '1,558', '1,720', '1,570', '1,549', '1,535', '1,478',\n",
       "       '1,762', '2,053', '1,530', '1,801', '1,862', '1,737', '1,861',\n",
       "       '2,119', '2,150', '1,768', '1,923', '2,101', '1,943', '1,803',\n",
       "       '1,660'], dtype=object)"
      ]
     },
     "execution_count": 63,
     "metadata": {},
     "output_type": "execute_result"
    }
   ],
   "source": [
    "Gasoleo_A = df_n['Precio Gasoleo A'].unique()\n",
    "print(len(Gasoleo_A))\n",
    "print(type(Gasoleo_A))\n",
    "Gasoleo_A"
   ]
  },
  {
   "cell_type": "code",
   "execution_count": 64,
   "id": "03079146",
   "metadata": {},
   "outputs": [],
   "source": [
    "# Convertimos columna categórica a numérica, primero tenemos que sustituir , por .\n",
    "df_n['Precio Gasoleo A']=df_n['Precio Gasoleo A'].str.replace(',','.')\n",
    "df_n[['Precio Gasoleo A']]=df_n[['Precio Gasoleo A']].apply(pd.to_numeric)"
   ]
  },
  {
   "cell_type": "code",
   "execution_count": 65,
   "id": "b2093cd9",
   "metadata": {},
   "outputs": [
    {
     "data": {
      "text/plain": [
       "count    11434.000000\n",
       "mean         1.945710\n",
       "std          0.115577\n",
       "min          1.299000\n",
       "25%          1.899000\n",
       "50%          1.979000\n",
       "75%          2.019000\n",
       "max          2.309000\n",
       "Name: Precio Gasoleo A, dtype: float64"
      ]
     },
     "execution_count": 65,
     "metadata": {},
     "output_type": "execute_result"
    }
   ],
   "source": [
    "df_n['Precio Gasoleo A'].describe()\n"
   ]
  },
  {
   "cell_type": "code",
   "execution_count": 66,
   "id": "a0c57df7",
   "metadata": {},
   "outputs": [
    {
     "data": {
      "text/plain": [
       "349"
      ]
     },
     "execution_count": 66,
     "metadata": {},
     "output_type": "execute_result"
    }
   ],
   "source": [
    "# Registros sin venta Gasoleo A\n",
    "sin_suministro_gA = df_n['Precio Gasoleo A'].isnull().sum()\n",
    "sin_suministro_gA"
   ]
  },
  {
   "cell_type": "code",
   "execution_count": 67,
   "id": "2fd05b04",
   "metadata": {},
   "outputs": [
    {
     "data": {
      "text/plain": [
       "0"
      ]
     },
     "execution_count": 67,
     "metadata": {},
     "output_type": "execute_result"
    }
   ],
   "source": [
    "ceros_sin_suministro_gA = (df_n['Precio Gasoleo A'] == 0).sum()\n",
    "ceros_sin_suministro_gA"
   ]
  },
  {
   "cell_type": "markdown",
   "id": "6b8fd3b9",
   "metadata": {},
   "source": [
    "# Gasoleo B"
   ]
  },
  {
   "cell_type": "code",
   "execution_count": 68,
   "id": "90c596c9",
   "metadata": {},
   "outputs": [
    {
     "name": "stdout",
     "output_type": "stream",
     "text": [
      "429\n",
      "<class 'numpy.ndarray'>\n"
     ]
    },
    {
     "data": {
      "text/plain": [
       "array(['1,430', '', '1,621', '1,450', '1,440', '1,639', '1,539', '1,559',\n",
       "       '1,446', '1,690', '1,438', '1,635', '1,499', '1,470', '1,550',\n",
       "       '1,609', '1,578', '1,529', '1,524', '1,428', '1,657', '1,400',\n",
       "       '1,699', '1,650', '1,617', '1,451', '1,588', '1,530', '1,669',\n",
       "       '1,449', '1,377', '1,490', '1,665', '1,679', '1,375', '1,370',\n",
       "       '1,574', '1,457', '1,267', '1,481', '1,602', '1,589', '1,569',\n",
       "       '1,420', '1,599', '1,719', '1,619', '1,649', '1,579', '1,076',\n",
       "       '1,689', '1,601', '1,682', '1,600', '1,595', '1,749', '1,610',\n",
       "       '1,629', '1,779', '1,662', '1,469', '1,714', '1,676', '1,608',\n",
       "       '1,659', '1,643', '1,700', '1,491', '1,553', '1,489', '1,500',\n",
       "       '1,495', '1,604', '1,594', '1,585', '1,554', '1,473', '1,412',\n",
       "       '1,549', '1,488', '1,475', '1,570', '1,620', '1,615', '1,685',\n",
       "       '1,509', '1,479', '1,645', '1,805', '1,739', '1,625', '1,849',\n",
       "       '1,759', '1,729', '1,584', '1,627', '1,454', '1,725', '1,658',\n",
       "       '1,638', '1,642', '1,709', '1,558', '1,614', '1,605', '1,800',\n",
       "       '1,607', '1,540', '1,687', '1,674', '1,694', '1,565', '1,525',\n",
       "       '1,829', '1,596', '1,427', '1,809', '1,590', '1,697', '1,485',\n",
       "       '1,444', '1,634', '1,622', '1,644', '1,403', '1,294', '1,387',\n",
       "       '1,379', '1,592', '1,603', '1,512', '1,448', '1,583', '1,670',\n",
       "       '1,480', '1,528', '1,510', '1,459', '1,435', '1,750', '1,340',\n",
       "       '1,630', '1,393', '1,452', '1,109', '1,456', '1,434', '1,442',\n",
       "       '1,349', '1,492', '1,507', '1,413', '1,533', '1,443', '1,519',\n",
       "       '1,522', '1,447', '1,647', '1,421', '1,455', '1,537', '1,515',\n",
       "       '1,315', '1,587', '1,411', '1,409', '1,545', '1,399', '1,471',\n",
       "       '1,675', '1,667', '1,949', '1,567', '1,535', '1,547', '1,677',\n",
       "       '1,691', '1,506', '1,733', '1,520', '1,460', '1,711', '1,654',\n",
       "       '1,640', '1,710', '1,398', '1,708', '1,564', '1,612', '1,390',\n",
       "       '1,333', '1,416', '1,656', '1,582', '1,009', '1,429', '1,628',\n",
       "       '1,668', '1,404', '1,425', '1,616', '1,496', '1,468', '1,613',\n",
       "       '1,397', '1,618', '1,571', '1,580', '1,626', '1,611', '1,606',\n",
       "       '1,581', '1,560', '1,778', '1,586', '1,573', '1,598', '1,498',\n",
       "       '1,652', '1,365', '1,465', '1,437', '1,439', '1,395', '1,426',\n",
       "       '1,575', '1,415', '1,653', '1,360', '1,663', '1,483', '1,299',\n",
       "       '1,566', '1,680', '1,563', '1,555', '1,408', '1,383', '1,419',\n",
       "       '1,422', '1,389', '1,357', '1,417', '1,378', '1,534', '1,597',\n",
       "       '1,556', '1,380', '1,410', '1,353', '1,651', '1,631', '1,698',\n",
       "       '1,661', '1,632', '1,591', '1,636', '1,705', '1,686', '1,695',\n",
       "       '1,436', '1,300', '1,466', '1,541', '1,467', '1,538', '1,405',\n",
       "       '1,464', '1,348', '1,731', '1,734', '1,688', '1,721', '1,514',\n",
       "       '1,742', '1,624', '1,890', '1,671', '1,769', '1,542', '1,385',\n",
       "       '1,799', '1,548', '1,505', '1,367', '1,472', '1,358', '1,445',\n",
       "       '1,526', '1,568', '1,789', '1,355', '1,646', '1,900', '1,337',\n",
       "       '1,482', '1,684', '1,655', '1,760', '1,431', '1,503', '1,593',\n",
       "       '1,561', '1,477', '1,214', '1,391', '1,432', '1,350', '1,463',\n",
       "       '1,484', '1,557', '1,386', '1,317', '1,641', '1,487', '1,170',\n",
       "       '1,263', '1,531', '1,392', '1,577', '1,330', '1,361', '1,546',\n",
       "       '1,329', '1,320', '1,369', '1,678', '1,673', '1,737', '1,768',\n",
       "       '1,576', '1,384', '1,552', '1,326', '1,352', '1,523', '1,396',\n",
       "       '1,745', '1,517', '1,521', '1,424', '1,371', '1,486', '1,458',\n",
       "       '1,839', '1,494', '1,200', '1,441', '1,289', '1,664', '1,730',\n",
       "       '1,660', '1,755', '1,423', '1,859', '1,744', '1,720', '1,702',\n",
       "       '1,692', '1,536', '1,637', '1,648', '1,518', '1,388', '1,462',\n",
       "       '1,414', '1,461', '1,345', '1,551', '1,130', '1,476', '1,623',\n",
       "       '1,269', '1,418', '1,286', '1,280', '1,516', '1,253', '1,501',\n",
       "       '1,474', '1,339', '1,493', '1,572', '1,382', '1,368', '1,508',\n",
       "       '1,504', '1,296', '1,732', '1,227'], dtype=object)"
      ]
     },
     "execution_count": 68,
     "metadata": {},
     "output_type": "execute_result"
    }
   ],
   "source": [
    "Gasoleo_B = df_n['Precio Gasoleo B'].unique()\n",
    "print(len(Gasoleo_A))\n",
    "print(type(Gasoleo_A))\n",
    "Gasoleo_B"
   ]
  },
  {
   "cell_type": "code",
   "execution_count": 69,
   "id": "b9ff1285",
   "metadata": {},
   "outputs": [],
   "source": [
    "# Convertimos columna categórica a numérica, primero tenemos que sustituir , por .\n",
    "df_n['Precio Gasoleo B']=df_n['Precio Gasoleo B'].str.replace(',','.')\n",
    "df_n[['Precio Gasoleo B']]=df_n[['Precio Gasoleo B']].apply(pd.to_numeric)"
   ]
  },
  {
   "cell_type": "code",
   "execution_count": 70,
   "id": "40bfd63c",
   "metadata": {},
   "outputs": [
    {
     "data": {
      "text/plain": [
       "count    3001.000000\n",
       "mean        1.559088\n",
       "std         0.102094\n",
       "min         1.009000\n",
       "25%         1.481000\n",
       "50%         1.575000\n",
       "75%         1.634000\n",
       "max         1.949000\n",
       "Name: Precio Gasoleo B, dtype: float64"
      ]
     },
     "execution_count": 70,
     "metadata": {},
     "output_type": "execute_result"
    }
   ],
   "source": [
    "df_n['Precio Gasoleo B'].describe()\n"
   ]
  },
  {
   "cell_type": "code",
   "execution_count": 71,
   "id": "ee5cfffa",
   "metadata": {},
   "outputs": [
    {
     "data": {
      "text/plain": [
       "8782"
      ]
     },
     "execution_count": 71,
     "metadata": {},
     "output_type": "execute_result"
    }
   ],
   "source": [
    "# Registros sin venta Gasoleo B\n",
    "sin_suministro_gB = df_n['Precio Gasoleo B'].isnull().sum()\n",
    "sin_suministro_gB"
   ]
  },
  {
   "cell_type": "code",
   "execution_count": 72,
   "id": "1654e9f7",
   "metadata": {},
   "outputs": [
    {
     "data": {
      "text/plain": [
       "0"
      ]
     },
     "execution_count": 72,
     "metadata": {},
     "output_type": "execute_result"
    }
   ],
   "source": [
    "ceros_sin_suministro_gB = (df_n['Precio Gasoleo B'] == 0).sum()\n",
    "ceros_sin_suministro_gB"
   ]
  },
  {
   "cell_type": "markdown",
   "id": "24d3a7ce",
   "metadata": {},
   "source": [
    "# Precio Gasoleo Premium "
   ]
  },
  {
   "cell_type": "code",
   "execution_count": 73,
   "id": "e25d3aaf",
   "metadata": {},
   "outputs": [
    {
     "name": "stdout",
     "output_type": "stream",
     "text": [
      "361\n",
      "<class 'numpy.ndarray'>\n"
     ]
    },
    {
     "data": {
      "text/plain": [
       "array(['', '2,300', '2,099', '2,059', '2,069', '2,089', '1,948', '2,019',\n",
       "       '2,079', '1,979', '2,065', '1,959', '2,119', '2,029', '1,999',\n",
       "       '1,989', '1,949', '1,984', '2,095', '2,135', '2,039', '2,109',\n",
       "       '2,049', '1,969', '2,009', '1,889', '2,084', '2,075', '2,129',\n",
       "       '2,115', '1,867', '2,058', '2,093', '2,229', '2,118', '2,139',\n",
       "       '1,899', '1,939', '1,909', '2,064', '1,996', '2,074', '1,975',\n",
       "       '2,103', '1,875', '2,105', '2,107', '2,026', '2,114', '1,988',\n",
       "       '2,101', '2,055', '2,098', '2,091', '2,125', '1,829', '2,081',\n",
       "       '2,999', '1,919', '1,929', '2,088', '1,994', '1,905', '1,935',\n",
       "       '1,947', '2,071', '1,977', '2,022', '2,076', '1,878', '1,897',\n",
       "       '1,985', '1,926', '2,078', '1,879', '2,083', '1,916', '1,865',\n",
       "       '1,845', '1,880', '1,903', '1,858', '2,092', '2,020', '2,085',\n",
       "       '1,895', '2,205', '2,149', '2,165', '2,159', '2,144', '2,124',\n",
       "       '2,169', '2,155', '1,887', '2,054', '1,968', '2,044', '1,953',\n",
       "       '1,913', '1,917', '1,950', '2,050', '2,117', '1,970', '2,145',\n",
       "       '1,859', '2,130', '2,138', '2,024', '2,090', '2,030', '1,799',\n",
       "       '1,874', '1,765', '1,869', '2,005', '2,104', '1,817', '2,179',\n",
       "       '2,121', '1,898', '2,128', '1,998', '2,127', '2,082', '2,137',\n",
       "       '2,015', '2,045', '1,908', '2,061', '2,025', '2,040', '2,057',\n",
       "       '1,924', '1,928', '2,034', '2,060', '1,868', '1,955', '2,048',\n",
       "       '1,918', '1,849', '2,035', '2,072', '1,810', '1,885', '1,956',\n",
       "       '1,857', '1,946', '1,995', '1,827', '1,904', '1,809', '1,938',\n",
       "       '1,864', '2,011', '1,957', '2,100', '2,175', '2,047', '2,077',\n",
       "       '1,819', '2,142', '1,910', '2,199', '2,166', '1,972', '2,000',\n",
       "       '1,974', '1,839', '1,847', '1,936', '2,070', '2,004', '2,041',\n",
       "       '1,625', '1,609', '2,028', '1,844', '2,056', '2,042', '1,860',\n",
       "       '1,945', '1,983', '1,877', '2,046', '1,997', '2,094', '2,097',\n",
       "       '1,990', '2,120', '2,134', '2,110', '2,148', '2,211', '1,980',\n",
       "       '2,111', '2,086', '2,067', '2,080', '2,068', '2,031', '1,965',\n",
       "       '1,992', '1,914', '2,187', '2,007', '2,063', '1,870', '1,925',\n",
       "       '1,920', '1,982', '2,006', '1,881', '2,073', '1,927', '2,126',\n",
       "       '1,774', '2,066', '2,037', '2,051', '1,854', '2,017', '2,122',\n",
       "       '2,108', '2,087', '2,131', '1,777', '2,189', '1,886', '2,172',\n",
       "       '1,915', '2,038', '1,891', '1,941', '1,835', '2,053', '1,892',\n",
       "       '1,528', '1,539', '1,545', '2,032', '1,888', '1,846', '1,855',\n",
       "       '1,930', '1,896', '1,837', '2,018', '2,008', '1,856', '2,301',\n",
       "       '2,062', '1,907', '2,154', '1,619', '1,633', '1,604', '1,639',\n",
       "       '1,579', '1,599', '1,669', '1,623', '1,535', '1,629', '1,605',\n",
       "       '1,709', '1,679', '1,634', '1,624', '1,635', '1,631', '1,659',\n",
       "       '1,618', '1,601', '1,499', '1,565', '1,689', '1,719', '1,718',\n",
       "       '1,830', '1,654', '1,649', '1,642', '1,630', '1,614', '1,640',\n",
       "       '1,549', '1,620', '1,622', '1,729', '1,525', '1,644', '1,636',\n",
       "       '1,594', '1,628', '1,648', '1,645', '1,584', '1,510', '1,554',\n",
       "       '1,557', '1,585', '1,590', '1,688', '1,690', '1,637', '2,027',\n",
       "       '1,961', '1,987', '2,014', '1,643', '1,638', '1,840', '1,615',\n",
       "       '1,550', '1,646', '1,803', '1,841', '1,626', '1,547', '1,725',\n",
       "       '1,589', '1,574', '1,544', '1,519', '1,580', '1,802', '1,573',\n",
       "       '1,603', '1,469', '1,559', '1,569', '1,740', '1,763', '1,655',\n",
       "       '1,588', '1,606', '1,954', '2,208', '1,795', '2,136', '1,933',\n",
       "       '1,850', '1,825', '1,981', '2,036', '1,960', '1,756', '1,816',\n",
       "       '2,185', '1,978', '1,890', '1,967', '1,866', '1,808', '2,151',\n",
       "       '1,937', '1,779', '1,884'], dtype=object)"
      ]
     },
     "execution_count": 73,
     "metadata": {},
     "output_type": "execute_result"
    }
   ],
   "source": [
    "Gasoleo_P = df_n['Precio Gasoleo Premium'].unique()\n",
    "print(len(Gasoleo_P))\n",
    "print(type(Gasoleo_P))\n",
    "Gasoleo_P"
   ]
  },
  {
   "cell_type": "code",
   "execution_count": 74,
   "id": "b2743f33",
   "metadata": {},
   "outputs": [],
   "source": [
    "# Convertimos columna categórica a numérica, primero tenemos que sustituir , por .\n",
    "df_n['Precio Gasoleo Premium']=df_n['Precio Gasoleo Premium'].str.replace(',','.')\n",
    "df_n[['Precio Gasoleo Premium']]=df_n[['Precio Gasoleo Premium']].apply(pd.to_numeric)"
   ]
  },
  {
   "cell_type": "code",
   "execution_count": 75,
   "id": "10e79699",
   "metadata": {},
   "outputs": [
    {
     "data": {
      "text/plain": [
       "count    7502.000000\n",
       "mean        2.042125\n",
       "std         0.113053\n",
       "min         1.469000\n",
       "25%         2.029000\n",
       "50%         2.069000\n",
       "75%         2.099000\n",
       "max         2.999000\n",
       "Name: Precio Gasoleo Premium, dtype: float64"
      ]
     },
     "execution_count": 75,
     "metadata": {},
     "output_type": "execute_result"
    }
   ],
   "source": [
    "df_n['Precio Gasoleo Premium'].describe()"
   ]
  },
  {
   "cell_type": "code",
   "execution_count": 76,
   "id": "9666e5b7",
   "metadata": {},
   "outputs": [
    {
     "data": {
      "text/plain": [
       "4281"
      ]
     },
     "execution_count": 76,
     "metadata": {},
     "output_type": "execute_result"
    }
   ],
   "source": [
    "# Registros sin venta Gasoleo Premium\n",
    "sin_suministro_gP = df_n['Precio Gasoleo Premium'].isnull().sum()\n",
    "sin_suministro_gP"
   ]
  },
  {
   "cell_type": "code",
   "execution_count": 77,
   "id": "c62c56a0",
   "metadata": {},
   "outputs": [
    {
     "data": {
      "text/plain": [
       "0"
      ]
     },
     "execution_count": 77,
     "metadata": {},
     "output_type": "execute_result"
    }
   ],
   "source": [
    "ceros_sin_suministro_gP = (df_n['Precio Gasoleo Premium'] == 0).sum()\n",
    "ceros_sin_suministro_gP"
   ]
  },
  {
   "cell_type": "markdown",
   "id": "1af7f46d",
   "metadata": {},
   "source": [
    "# Precio Gasolina 95 E10 "
   ]
  },
  {
   "cell_type": "code",
   "execution_count": 78,
   "id": "a3d6c6e1",
   "metadata": {},
   "outputs": [
    {
     "name": "stdout",
     "output_type": "stream",
     "text": [
      "20\n",
      "<class 'numpy.ndarray'>\n"
     ]
    },
    {
     "data": {
      "text/plain": [
       "array(['', '2,129', '1,949', '1,799', '1,839', '1,720', '1,849', '1,929',\n",
       "       '1,959', '1,840', '1,869', '1,699', '1,749', '1,669', '1,879',\n",
       "       '1,899', '1,969', '1,759', '1,868', '1,874'], dtype=object)"
      ]
     },
     "execution_count": 78,
     "metadata": {},
     "output_type": "execute_result"
    }
   ],
   "source": [
    "g95_E10 = df_n['Precio Gasolina 95 E10'].unique()\n",
    "print(len(g95_E10))\n",
    "print(type(g95_E10))\n",
    "g95_E10"
   ]
  },
  {
   "cell_type": "code",
   "execution_count": 79,
   "id": "c2203d4d",
   "metadata": {},
   "outputs": [],
   "source": [
    "# Convertimos columna categórica a numérica, primero tenemos que sustituir , por .\n",
    "df_n['Precio Gasolina 95 E10']=df_n['Precio Gasolina 95 E10'].str.replace(',','.')\n",
    "df_n[['Precio Gasolina 95 E10']]=df_n[['Precio Gasolina 95 E10']].apply(pd.to_numeric)"
   ]
  },
  {
   "cell_type": "code",
   "execution_count": 80,
   "id": "01212952",
   "metadata": {},
   "outputs": [
    {
     "data": {
      "text/plain": [
       "count    22.000000\n",
       "mean      1.856545\n",
       "std       0.111367\n",
       "min       1.669000\n",
       "25%       1.769000\n",
       "50%       1.868500\n",
       "75%       1.929000\n",
       "max       2.129000\n",
       "Name: Precio Gasolina 95 E10, dtype: float64"
      ]
     },
     "execution_count": 80,
     "metadata": {},
     "output_type": "execute_result"
    }
   ],
   "source": [
    " df_n['Precio Gasolina 95 E10'].describe()"
   ]
  },
  {
   "cell_type": "code",
   "execution_count": 81,
   "id": "6aaa6a7b",
   "metadata": {},
   "outputs": [
    {
     "data": {
      "text/plain": [
       "11761"
      ]
     },
     "execution_count": 81,
     "metadata": {},
     "output_type": "execute_result"
    }
   ],
   "source": [
    "# Registros sin venta Gasoleo Premium\n",
    "sin_suministro_95E10 = df_n['Precio Gasolina 95 E10'].isnull().sum()\n",
    "sin_suministro_95E10"
   ]
  },
  {
   "cell_type": "markdown",
   "id": "3e9e3b58",
   "metadata": {},
   "source": [
    "# Precio Gasolina 95 E5"
   ]
  },
  {
   "cell_type": "code",
   "execution_count": 82,
   "id": "a04d4e77",
   "metadata": {},
   "outputs": [
    {
     "name": "stdout",
     "output_type": "stream",
     "text": [
      "452\n",
      "<class 'numpy.ndarray'>\n"
     ]
    },
    {
     "data": {
      "text/plain": [
       "array(['1,749', '1,909', '', '1,799', '1,687', '1,859', '1,829', '1,698',\n",
       "       '1,759', '1,789', '1,819', '1,809', '1,779', '1,699', '1,730',\n",
       "       '1,739', '2,299', '1,689', '1,719', '1,690', '1,800', '1,794',\n",
       "       '1,839', '1,805', '1,652', '1,632', '1,770', '1,708', '1,709',\n",
       "       '1,775', '1,769', '1,899', '1,729', '1,602', '1,678', '1,849',\n",
       "       '1,673', '1,715', '1,784', '1,667', '1,697', '1,679', '1,639',\n",
       "       '1,659', '1,824', '1,577', '1,792', '1,718', '1,707', '1,817',\n",
       "       '1,798', '1,814', '1,768', '1,755', '1,869', '1,878', '1,748',\n",
       "       '1,657', '1,677', '1,823', '1,649', '1,717', '1,757', '1,778',\n",
       "       '1,855', '1,625', '1,783', '1,803', '1,725', '1,614', '1,635',\n",
       "       '1,774', '1,807', '1,744', '1,669', '1,804', '1,734', '1,746',\n",
       "       '1,879', '1,818', '1,815', '1,828', '1,840', '1,629', '1,889',\n",
       "       '1,788', '1,754', '1,854', '1,806', '1,617', '1,627', '1,695',\n",
       "       '1,599', '1,765', '1,737', '1,821', '1,767', '1,688', '1,733',\n",
       "       '1,834', '1,827', '1,700', '1,785', '1,969', '1,640', '1,740',\n",
       "       '1,666', '1,630', '1,732', '1,685', '1,830', '1,795', '1,885',\n",
       "       '1,670', '1,787', '1,655', '1,835', '1,780', '1,919', '1,864',\n",
       "       '1,875', '1,898', '1,844', '1,884', '1,724', '1,728', '2,000',\n",
       "       '1,894', '1,850', '1,874', '1,914', '1,929', '1,918', '1,880',\n",
       "       '1,845', '1,870', '1,888', '1,676', '2,019', '1,831', '1,857',\n",
       "       '1,745', '1,920', '1,790', '1,838', '1,735', '1,758', '1,637',\n",
       "       '1,999', '1,853', '1,877', '1,868', '1,846', '1,867', '1,801',\n",
       "       '1,668', '1,588', '1,674', '1,876', '1,618', '1,959', '1,848',\n",
       "       '1,883', '1,592', '1,742', '1,931', '1,647', '1,587', '1,847',\n",
       "       '1,684', '1,948', '1,591', '1,908', '1,658', '1,619', '1,589',\n",
       "       '1,808', '1,865', '1,675', '1,590', '1,750', '1,680', '1,726',\n",
       "       '1,608', '1,738', '1,939', '1,949', '1,694', '1,609', '1,598',\n",
       "       '1,593', '1,727', '2,074', '1,871', '1,797', '2,149', '1,935',\n",
       "       '1,796', '1,890', '1,810', '1,947', '1,610', '1,979', '1,777',\n",
       "       '1,816', '1,825', '1,856', '1,811', '1,660', '1,820', '1,579',\n",
       "       '1,648', '1,604', '1,900', '1,600', '1,760', '1,710', '1,620',\n",
       "       '1,603', '1,483', '1,484', '1,465', '1,791', '1,663', '1,705',\n",
       "       '1,624', '1,644', '1,645', '1,741', '1,560', '1,720', '1,650',\n",
       "       '1,836', '1,671', '1,308', '1,340', '1,597', '1,704', '1,761',\n",
       "       '1,837', '1,897', '1,751', '1,954', '1,832', '1,905', '1,917',\n",
       "       '1,646', '1,793', '1,802', '1,965', '1,686', '1,951', '1,764',\n",
       "       '1,662', '1,656', '1,766', '1,615', '2,329', '1,672', '1,860',\n",
       "       '1,812', '1,643', '1,714', '1,665', '1,858', '1,887', '1,881',\n",
       "       '1,833', '1,681', '1,826', '1,706', '1,634', '1,702', '1,756',\n",
       "       '1,651', '2,120', '1,703', '1,861', '1,594', '1,595', '1,596',\n",
       "       '1,711', '1,782', '1,682', '1,612', '1,752', '1,747', '1,915',\n",
       "       '1,567', '1,565', '1,622', '2,061', '1,989', '1,569', '1,843',\n",
       "       '1,910', '1,928', '1,882', '1,712', '1,607', '1,713', '1,636',\n",
       "       '1,731', '1,716', '1,664', '1,736', '1,661', '1,408', '1,409',\n",
       "       '1,723', '2,100', '1,696', '2,111', '1,623', '1,981', '1,933',\n",
       "       '1,904', '1,924', '1,852', '1,923', '1,494', '1,449', '1,399',\n",
       "       '1,448', '1,279', '1,459', '1,419', '1,233', '1,359', '1,249',\n",
       "       '1,239', '1,219', '1,438', '1,189', '1,324', '1,389', '1,439',\n",
       "       '1,499', '1,478', '1,479', '1,474', '1,444', '1,454', '1,440',\n",
       "       '1,469', '1,430', '1,471', '1,489', '1,492', '1,485', '1,495',\n",
       "       '1,447', '1,259', '1,475', '1,429', '1,379', '1,487', '1,493',\n",
       "       '1,529', '1,511', '1,488', '1,509', '1,502', '1,482', '1,289',\n",
       "       '1,473', '1,480', '1,468', '1,514', '1,559', '1,466', '1,496',\n",
       "       '1,445', '1,455', '1,434', '1,374', '1,378', '1,417', '1,506',\n",
       "       '1,497', '1,866', '1,229', '1,424', '1,503', '1,414', '1,392',\n",
       "       '1,381', '1,386', '1,339', '1,315', '1,380', '1,394', '1,387',\n",
       "       '1,585', '1,367', '1,385', '1,581', '1,432', '1,410', '1,297',\n",
       "       '1,369', '1,402', '1,352', '1,404', '1,605', '1,427', '1,365',\n",
       "       '1,415', '1,425', '1,375', '1,199', '1,299', '1,179', '1,442',\n",
       "       '1,377', '1,428', '1,364', '1,413', '1,395', '1,314', '1,472',\n",
       "       '1,401', '1,350', '1,384', '1,391', '1,545', '1,403', '1,250',\n",
       "       '1,230', '1,443', '1,388', '1,371', '1,372', '1,477', '1,418',\n",
       "       '1,349', '1,786', '1,633', '1,842', '1,862', '2,036', '1,753',\n",
       "       '1,813', '1,654', '1,641', '1,561', '1,691', '1,925', '1,722',\n",
       "       '1,781', '1,601', '1,683'], dtype=object)"
      ]
     },
     "execution_count": 82,
     "metadata": {},
     "output_type": "execute_result"
    }
   ],
   "source": [
    "g95_E5 = df_n['Precio Gasolina 95 E5'].unique()\n",
    "print(len(g95_E5))\n",
    "print(type(g95_E5))\n",
    "g95_E5"
   ]
  },
  {
   "cell_type": "code",
   "execution_count": 83,
   "id": "196f251e",
   "metadata": {},
   "outputs": [],
   "source": [
    "# Convertimos columna categórica a numérica, primero tenemos que sustituir , por .\n",
    "df_n['Precio Gasolina 95 E5']=df_n['Precio Gasolina 95 E5'].str.replace(',','.')\n",
    "df_n[['Precio Gasolina 95 E5']]=df_n[['Precio Gasolina 95 E5']].apply(pd.to_numeric)"
   ]
  },
  {
   "cell_type": "code",
   "execution_count": 84,
   "id": "621ec9bd",
   "metadata": {},
   "outputs": [
    {
     "data": {
      "text/plain": [
       "count    10626.000000\n",
       "mean         1.778614\n",
       "std          0.102333\n",
       "min          1.179000\n",
       "25%          1.739000\n",
       "50%          1.799000\n",
       "75%          1.839000\n",
       "max          2.329000\n",
       "Name: Precio Gasolina 95 E5, dtype: float64"
      ]
     },
     "execution_count": 84,
     "metadata": {},
     "output_type": "execute_result"
    }
   ],
   "source": [
    "df_n['Precio Gasolina 95 E5'].describe()"
   ]
  },
  {
   "cell_type": "code",
   "execution_count": 85,
   "id": "56396333",
   "metadata": {},
   "outputs": [
    {
     "data": {
      "text/plain": [
       "1157"
      ]
     },
     "execution_count": 85,
     "metadata": {},
     "output_type": "execute_result"
    }
   ],
   "source": [
    "# Registros sin venta Gasoleo Premium\n",
    "sin_suministro_g95E5 = df_n['Precio Gasolina 95 E5'].isnull().sum()\n",
    "sin_suministro_g95E5"
   ]
  },
  {
   "cell_type": "code",
   "execution_count": 86,
   "id": "c8cc07ca",
   "metadata": {},
   "outputs": [
    {
     "data": {
      "text/plain": [
       "0"
      ]
     },
     "execution_count": 86,
     "metadata": {},
     "output_type": "execute_result"
    }
   ],
   "source": [
    "ceros_sin_suministro_g95E5  = (df_n['Precio Gasolina 95 E5'] == 0).sum()\n",
    "ceros_sin_suministro_g95E5 "
   ]
  },
  {
   "cell_type": "markdown",
   "id": "fe877ab4",
   "metadata": {},
   "source": [
    "# Precio Gasolina 95 E5 Premium"
   ]
  },
  {
   "cell_type": "code",
   "execution_count": 87,
   "id": "5586de3c",
   "metadata": {},
   "outputs": [
    {
     "name": "stdout",
     "output_type": "stream",
     "text": [
      "104\n",
      "<class 'numpy.ndarray'>\n"
     ]
    },
    {
     "data": {
      "text/plain": [
       "array(['', '1,899', '1,879', '1,809', '1,839', '1,869', '1,799', '1,819',\n",
       "       '1,979', '1,849', '1,859', '1,924', '1,877', '1,894', '1,779',\n",
       "       '1,919', '1,872', '1,939', '1,889', '1,864', '1,865', '1,789',\n",
       "       '1,699', '1,874', '1,934', '1,909', '1,929', '1,884', '1,698',\n",
       "       '1,989', '1,904', '1,689', '1,679', '1,656', '1,675', '1,999',\n",
       "       '1,949', '1,914', '1,755', '1,994', '1,829', '1,964', '1,954',\n",
       "       '1,944', '1,885', '1,959', '1,974', '1,824', '1,714', '1,794',\n",
       "       '1,834', '1,969', '1,718', '1,724', '1,769', '1,931', '1,947',\n",
       "       '1,854', '1,867', '1,749', '1,759', '1,840', '1,519', '1,880',\n",
       "       '1,709', '1,835', '1,719', '1,908', '1,765', '1,846', '1,893',\n",
       "       '1,837', '1,844', '1,938', '1,710', '1,739', '1,708', '1,729',\n",
       "       '1,717', '1,748', '1,726', '1,747', '1,696', '1,768', '1,627',\n",
       "       '1,808', '1,647', '1,984', '2,004', '2,019', '1,359', '1,509',\n",
       "       '1,444', '1,439', '1,639', '1,898', '1,811', '1,925', '1,690',\n",
       "       '1,721', '2,099', '1,814', '1,855', '1,878'], dtype=object)"
      ]
     },
     "execution_count": 87,
     "metadata": {},
     "output_type": "execute_result"
    }
   ],
   "source": [
    "g95_E5_P = df_n['Precio Gasolina 95 E5 Premium'].unique()\n",
    "print(len(g95_E5_P))\n",
    "print(type(g95_E5_P))\n",
    "g95_E5_P"
   ]
  },
  {
   "cell_type": "code",
   "execution_count": 88,
   "id": "4758d3d3",
   "metadata": {},
   "outputs": [],
   "source": [
    "# Convertimos columna categórica a numérica, primero tenemos que sustituir , por .\n",
    "df_n['Precio Gasolina 95 E5 Premium']=df_n['Precio Gasolina 95 E5 Premium'].str.replace(',','.')\n",
    "df_n[['Precio Gasolina 95 E5 Premium']]=df_n[['Precio Gasolina 95 E5 Premium']].apply(pd.to_numeric)"
   ]
  },
  {
   "cell_type": "code",
   "execution_count": 89,
   "id": "7d0a8e3a",
   "metadata": {},
   "outputs": [
    {
     "data": {
      "text/plain": [
       "count    804.000000\n",
       "mean       1.874509\n",
       "std        0.075941\n",
       "min        1.359000\n",
       "25%        1.849000\n",
       "50%        1.889000\n",
       "75%        1.919000\n",
       "max        2.099000\n",
       "Name: Precio Gasolina 95 E5 Premium, dtype: float64"
      ]
     },
     "execution_count": 89,
     "metadata": {},
     "output_type": "execute_result"
    }
   ],
   "source": [
    "df_n['Precio Gasolina 95 E5 Premium'].describe()"
   ]
  },
  {
   "cell_type": "code",
   "execution_count": 90,
   "id": "4a815e9d",
   "metadata": {},
   "outputs": [
    {
     "data": {
      "text/plain": [
       "10979"
      ]
     },
     "execution_count": 90,
     "metadata": {},
     "output_type": "execute_result"
    }
   ],
   "source": [
    "# Registros sin venta Gasolina 95 E5 Premium\n",
    "sin_suministro_g95E5_Prem = df_n['Precio Gasolina 95 E5 Premium'].isnull().sum()\n",
    "sin_suministro_g95E5_Prem"
   ]
  },
  {
   "cell_type": "code",
   "execution_count": 91,
   "id": "7ae51272",
   "metadata": {},
   "outputs": [
    {
     "data": {
      "text/plain": [
       "0"
      ]
     },
     "execution_count": 91,
     "metadata": {},
     "output_type": "execute_result"
    }
   ],
   "source": [
    "ceros_sin_suministro_g95E5_Prem  = (df_n['Precio Gasolina 95 E5 Premium'] == 0).sum()\n",
    "ceros_sin_suministro_g95E5 "
   ]
  },
  {
   "cell_type": "markdown",
   "id": "477ee508",
   "metadata": {},
   "source": [
    "# Precio Gasolina 98 E10"
   ]
  },
  {
   "cell_type": "code",
   "execution_count": 92,
   "id": "3b8c6a20",
   "metadata": {},
   "outputs": [
    {
     "name": "stdout",
     "output_type": "stream",
     "text": [
      "9\n",
      "<class 'numpy.ndarray'>\n"
     ]
    },
    {
     "data": {
      "text/plain": [
       "array(['', '1,995', '1,819', '1,760', '1,907', '1,959', '1,949', '1,939',\n",
       "       '1,838'], dtype=object)"
      ]
     },
     "execution_count": 92,
     "metadata": {},
     "output_type": "execute_result"
    }
   ],
   "source": [
    "g98_E10 = df_n['Precio Gasolina 98 E10'].unique()\n",
    "print(len(g98_E10))\n",
    "print(type(g98_E10))\n",
    "g98_E10"
   ]
  },
  {
   "cell_type": "code",
   "execution_count": 93,
   "id": "77f0708e",
   "metadata": {},
   "outputs": [],
   "source": [
    "# Convertimos columna categórica a numérica, primero tenemos que sustituir , por .\n",
    "df_n['Precio Gasolina 98 E10']=df_n['Precio Gasolina 98 E10'].str.replace(',','.')\n",
    "df_n[['Precio Gasolina 98 E10']]=df_n[['Precio Gasolina 98 E10']].apply(pd.to_numeric)"
   ]
  },
  {
   "cell_type": "code",
   "execution_count": 94,
   "id": "0ce30530",
   "metadata": {},
   "outputs": [
    {
     "data": {
      "text/plain": [
       "count    8.000000\n",
       "mean     1.895750\n",
       "std      0.081361\n",
       "min      1.760000\n",
       "25%      1.833250\n",
       "50%      1.923000\n",
       "75%      1.951500\n",
       "max      1.995000\n",
       "Name: Precio Gasolina 98 E10, dtype: float64"
      ]
     },
     "execution_count": 94,
     "metadata": {},
     "output_type": "execute_result"
    }
   ],
   "source": [
    "df_n['Precio Gasolina 98 E10'].describe()"
   ]
  },
  {
   "cell_type": "code",
   "execution_count": 95,
   "id": "7846a3d5",
   "metadata": {},
   "outputs": [
    {
     "data": {
      "text/plain": [
       "11775"
      ]
     },
     "execution_count": 95,
     "metadata": {},
     "output_type": "execute_result"
    }
   ],
   "source": [
    "# Registros sin venta Gasolina 98 E10 \n",
    "sin_suministro_g98E10 = df_n['Precio Gasolina 98 E10'].isnull().sum()\n",
    "sin_suministro_g98E10"
   ]
  },
  {
   "cell_type": "markdown",
   "id": "d0eca28a",
   "metadata": {},
   "source": [
    "# Precio Gasolina 98 E5"
   ]
  },
  {
   "cell_type": "code",
   "execution_count": 96,
   "id": "b948ed78",
   "metadata": {},
   "outputs": [
    {
     "name": "stdout",
     "output_type": "stream",
     "text": [
      "414\n",
      "<class 'numpy.ndarray'>\n"
     ]
    },
    {
     "data": {
      "text/plain": [
       "array(['', '2,200', '1,941', '1,959', '1,939', '1,859', '1,919', '1,949',\n",
       "       '2,089', '1,911', '1,899', '1,889', '1,869', '1,929', '1,989',\n",
       "       '2,369', '1,892', '1,926', '1,999', '1,931', '1,969', '1,961',\n",
       "       '2,099', '1,909', '1,851', '2,179', '1,921', '1,979', '1,849',\n",
       "       '2,009', '2,001', '1,947', '1,951', '1,823', '1,922', '1,932',\n",
       "       '1,954', '1,898', '2,599', '2,019', '2,029', '1,928', '1,981',\n",
       "       '2,041', '1,895', '1,924', '1,805', '1,876', '1,779', '1,879',\n",
       "       '1,946', '1,930', '1,936', '1,971', '1,970', '2,039', '2,999',\n",
       "       '1,894', '1,986', '1,819', '1,809', '1,915', '1,874', '1,955',\n",
       "       '1,875', '1,956', '1,966', '1,975', '1,974', '1,758', '1,940',\n",
       "       '1,828', '2,000', '1,953', '2,069', '1,857', '1,976', '1,937',\n",
       "       '2,071', '2,049', '2,169', '2,004', '2,038', '2,021', '2,031',\n",
       "       '2,051', '2,059', '1,907', '2,011', '1,868', '1,840', '1,991',\n",
       "       '2,036', '2,026', '2,016', '2,056', '2,006', '2,141', '1,917',\n",
       "       '2,109', '2,005', '2,028', '1,820', '1,799', '1,964', '1,888',\n",
       "       '1,848', '1,885', '1,990', '1,858', '1,846', '2,003', '2,010',\n",
       "       '2,018', '1,998', '2,017', '1,985', '1,968', '1,978', '1,994',\n",
       "       '1,829', '1,920', '2,025', '1,792', '1,839', '1,984', '2,046',\n",
       "       '1,802', '2,160', '2,020', '1,722', '1,699', '1,950', '2,007',\n",
       "       '1,988', '1,816', '2,180', '1,725', '2,024', '1,904', '1,844',\n",
       "       '1,901', '2,150', '1,906', '1,948', '1,916', '1,935', '1,925',\n",
       "       '1,739', '1,890', '2,139', '1,712', '2,047', '1,934', '1,995',\n",
       "       '1,822', '1,908', '1,996', '2,079', '2,124', '1,944', '2,061',\n",
       "       '2,078', '2,098', '2,145', '2,044', '2,149', '2,157', '2,199',\n",
       "       '2,219', '1,878', '1,927', '2,189', '2,014', '1,767', '2,057',\n",
       "       '1,880', '1,945', '2,209', '1,789', '1,887', '2,048', '1,513',\n",
       "       '1,499', '1,749', '1,871', '2,229', '1,845', '1,815', '1,861',\n",
       "       '1,958', '2,081', '2,095', '1,942', '2,159', '2,065', '2,100',\n",
       "       '1,965', '2,104', '2,195', '1,980', '1,740', '1,842', '2,060',\n",
       "       '2,129', '1,914', '1,960', '1,957', '2,052', '1,967', '1,755',\n",
       "       '1,905', '1,810', '1,821', '1,776', '2,500', '1,943', '1,997',\n",
       "       '1,918', '1,900', '1,856', '1,913', '2,299', '1,835', '1,602',\n",
       "       '2,074', '2,032', '2,015', '1,765', '1,729', '2,075', '1,727',\n",
       "       '2,008', '1,864', '1,938', '2,140', '1,843', '2,068', '2,239',\n",
       "       '1,833', '1,788', '1,983', '1,757', '1,825', '1,877', '1,963',\n",
       "       '1,748', '1,790', '2,215', '1,977', '1,897', '1,584', '1,539',\n",
       "       '1,519', '1,579', '1,534', '1,669', '1,549', '1,417', '1,459',\n",
       "       '1,439', '1,599', '1,569', '1,474', '1,509', '1,589', '1,659',\n",
       "       '1,613', '1,609', '1,544', '1,551', '1,582', '1,542', '1,581',\n",
       "       '1,639', '1,588', '1,649', '1,629', '1,593', '1,601', '1,617',\n",
       "       '1,409', '1,558', '1,469', '1,576', '1,684', '1,671', '1,707',\n",
       "       '1,598', '1,614', '1,600', '1,632', '1,604', '1,574', '1,619',\n",
       "       '1,529', '1,610', '1,620', '1,580', '1,689', '1,674', '1,564',\n",
       "       '1,567', '1,625', '1,626', '1,554', '1,578', '1,559', '1,573',\n",
       "       '1,595', '1,590', '1,585', '1,615', '1,605', '1,380', '1,594',\n",
       "       '1,492', '1,628', '1,498', '1,656', '1,627', '2,119', '1,371',\n",
       "       '1,648', '1,680', '1,506', '1,511', '1,464', '1,429', '1,460',\n",
       "       '1,505', '1,606', '1,675', '1,504', '1,407', '1,399', '1,449',\n",
       "       '1,514', '1,697', '1,524', '1,647', '1,490', '1,550', '1,530',\n",
       "       '1,377', '1,477', '1,570', '1,465', '1,688', '1,700', '1,489',\n",
       "       '1,545', '1,479', '1,495', '1,515', '1,497', '1,507', '1,750',\n",
       "       '1,485', '1,488', '1,458', '1,575', '1,384', '1,484', '1,486',\n",
       "       '1,395', '1,472', '1,394', '1,563', '1,424', '1,597', '1,526',\n",
       "       '1,487', '1,420', '1,510', '1,623', '1,531', '1,494', '1,571',\n",
       "       '1,501', '1,536', '1,533', '1,419', '2,058', '2,267', '1,952',\n",
       "       '1,719', '1,759', '1,769', '1,982', '1,795', '2,450', '1,794',\n",
       "       '1,865', '1,800', '2,064', '1,867', '1,847', '2,220', '2,055',\n",
       "       '1,807', '2,050', '1,813', '1,830', '1,896', '1,910', '1,854',\n",
       "       '2,279', '2,022', '1,987', '2,250', '1,850', '1,837', '1,832'],\n",
       "      dtype=object)"
      ]
     },
     "execution_count": 96,
     "metadata": {},
     "output_type": "execute_result"
    }
   ],
   "source": [
    "g98_E5 = df_n['Precio Gasolina 98 E5'].unique()\n",
    "print(len(g98_E5))\n",
    "print(type(g98_E5))\n",
    "g98_E5"
   ]
  },
  {
   "cell_type": "code",
   "execution_count": 97,
   "id": "4763d458",
   "metadata": {},
   "outputs": [],
   "source": [
    "# Convertimos columna categórica a numérica, primero tenemos que sustituir , por .\n",
    "df_n['Precio Gasolina 98 E5']=df_n['Precio Gasolina 98 E5'].str.replace(',','.')\n",
    "df_n[['Precio Gasolina 98 E5']]=df_n[['Precio Gasolina 98 E5']].apply(pd.to_numeric)"
   ]
  },
  {
   "cell_type": "code",
   "execution_count": 98,
   "id": "767e87d9",
   "metadata": {},
   "outputs": [
    {
     "data": {
      "text/plain": [
       "count    5943.000000\n",
       "mean        1.931778\n",
       "std         0.123329\n",
       "min         1.371000\n",
       "25%         1.919000\n",
       "50%         1.959000\n",
       "75%         1.991000\n",
       "max         2.999000\n",
       "Name: Precio Gasolina 98 E5, dtype: float64"
      ]
     },
     "execution_count": 98,
     "metadata": {},
     "output_type": "execute_result"
    }
   ],
   "source": [
    "df_n['Precio Gasolina 98 E5'].describe()"
   ]
  },
  {
   "cell_type": "code",
   "execution_count": 99,
   "id": "d9fb7e91",
   "metadata": {},
   "outputs": [
    {
     "data": {
      "text/plain": [
       "5840"
      ]
     },
     "execution_count": 99,
     "metadata": {},
     "output_type": "execute_result"
    }
   ],
   "source": [
    "# Registros sin venta Gasolina 98 E5 \n",
    "sin_suministro_g98E5 = df_n['Precio Gasolina 98 E5'].isnull().sum()\n",
    "sin_suministro_g98E5"
   ]
  },
  {
   "cell_type": "code",
   "execution_count": 100,
   "id": "ad3ee76b",
   "metadata": {},
   "outputs": [
    {
     "data": {
      "text/plain": [
       "0"
      ]
     },
     "execution_count": 100,
     "metadata": {},
     "output_type": "execute_result"
    }
   ],
   "source": [
    "ceros_sin_suministro_g98E5  = (df_n['Precio Gasolina 98 E5'] == 0).sum()\n",
    "ceros_sin_suministro_g98E5 "
   ]
  },
  {
   "cell_type": "markdown",
   "id": "d8566cb1",
   "metadata": {},
   "source": [
    "# Precio Hidrogeno "
   ]
  },
  {
   "cell_type": "code",
   "execution_count": 101,
   "id": "8092ec5a",
   "metadata": {},
   "outputs": [
    {
     "name": "stdout",
     "output_type": "stream",
     "text": [
      "1\n",
      "<class 'numpy.ndarray'>\n"
     ]
    },
    {
     "data": {
      "text/plain": [
       "array([''], dtype=object)"
      ]
     },
     "execution_count": 101,
     "metadata": {},
     "output_type": "execute_result"
    }
   ],
   "source": [
    "Hidrongeno = df_n['Precio Hidrogeno'].unique()\n",
    "print(len(Hidrongeno))\n",
    "print(type(Hidrongeno))\n",
    "Hidrongeno"
   ]
  },
  {
   "cell_type": "code",
   "execution_count": 102,
   "id": "38acbbd6",
   "metadata": {},
   "outputs": [],
   "source": [
    "# Convertimos columna categórica a numérica, primero tenemos que sustituir , por .\n",
    "df_n['Precio Hidrogeno']=df_n['Precio Hidrogeno'].str.replace(',','.')\n",
    "df_n[['Precio Hidrogeno']]=df_n[['Precio Hidrogeno']].apply(pd.to_numeric)"
   ]
  },
  {
   "cell_type": "code",
   "execution_count": 103,
   "id": "1b19941a",
   "metadata": {},
   "outputs": [
    {
     "data": {
      "text/plain": [
       "count    0.0\n",
       "mean     NaN\n",
       "std      NaN\n",
       "min      NaN\n",
       "25%      NaN\n",
       "50%      NaN\n",
       "75%      NaN\n",
       "max      NaN\n",
       "Name: Precio Hidrogeno, dtype: float64"
      ]
     },
     "execution_count": 103,
     "metadata": {},
     "output_type": "execute_result"
    }
   ],
   "source": [
    "df_n['Precio Hidrogeno'].describe()"
   ]
  },
  {
   "cell_type": "code",
   "execution_count": 104,
   "id": "c6802106",
   "metadata": {},
   "outputs": [
    {
     "name": "stdout",
     "output_type": "stream",
     "text": [
      "<class 'pandas.core.frame.DataFrame'>\n",
      "RangeIndex: 11783 entries, 0 to 11782\n",
      "Data columns (total 33 columns):\n",
      " #   Column                              Non-Null Count  Dtype  \n",
      "---  ------                              --------------  -----  \n",
      " 0   Fecha                               11783 non-null  object \n",
      " 1   C.P.                                11783 non-null  object \n",
      " 2   Dirección                           11783 non-null  object \n",
      " 3   Horario                             11783 non-null  object \n",
      " 4   Latitud                             11783 non-null  object \n",
      " 5   Localidad                           11783 non-null  object \n",
      " 6   Longitud (WGS84)                    11783 non-null  object \n",
      " 7   Margen                              11783 non-null  object \n",
      " 8   Municipio                           11783 non-null  object \n",
      " 9   Precio Biodiesel                    38 non-null     float64\n",
      " 10  Precio Bioetanol                    5 non-null      float64\n",
      " 11  Precio Gas Natural Comprimido       122 non-null    float64\n",
      " 12  Precio Gas Natural Licuado          82 non-null     float64\n",
      " 13  Precio Gases licuados del petróleo  851 non-null    float64\n",
      " 14  Precio Gasoleo A                    11434 non-null  float64\n",
      " 15  Precio Gasoleo B                    3001 non-null   float64\n",
      " 16  Precio Gasoleo Premium              7502 non-null   float64\n",
      " 17  Precio Gasolina 95 E10              22 non-null     float64\n",
      " 18  Precio Gasolina 95 E5               10626 non-null  float64\n",
      " 19  Precio Gasolina 95 E5 Premium       804 non-null    float64\n",
      " 20  Precio Gasolina 98 E10              8 non-null      float64\n",
      " 21  Precio Gasolina 98 E5               5943 non-null   float64\n",
      " 22  Precio Hidrogeno                    0 non-null      float64\n",
      " 23  Provincia                           11783 non-null  object \n",
      " 24  Remisión                            11783 non-null  object \n",
      " 25  Rótulo                              11783 non-null  object \n",
      " 26  Tipo Venta                          11783 non-null  object \n",
      " 27  % BioEtanol                         11783 non-null  object \n",
      " 28  % Éster metílico                    11783 non-null  object \n",
      " 29  IDEESS                              11783 non-null  object \n",
      " 30  IDMunicipio                         11783 non-null  object \n",
      " 31  IDProvincia                         11783 non-null  object \n",
      " 32  IDCCAA                              11783 non-null  object \n",
      "dtypes: float64(14), object(19)\n",
      "memory usage: 3.0+ MB\n"
     ]
    }
   ],
   "source": [
    "df_n.info()"
   ]
  },
  {
   "cell_type": "markdown",
   "id": "0b486d1c",
   "metadata": {},
   "source": [
    "---\n",
    "Setp 3\n",
    "\n",
    "# Limpieza de Columnas"
   ]
  },
  {
   "cell_type": "code",
   "execution_count": 105,
   "id": "58959813",
   "metadata": {},
   "outputs": [],
   "source": [
    "# Eliminiación de columnas que no interesan a nivel usuario o que no aportan datos significativos al modelo\n",
    "df_n.drop(['Margen', 'Remisión', 'Tipo Venta', '% BioEtanol', '% Éster metílico', 'Precio Biodiesel',\n",
    "          'Precio Bioetanol', 'Precio Gas Natural Comprimido', 'Precio Gas Natural Licuado', \n",
    "          'Precio Gas Natural Licuado', 'Precio Gases licuados del petróleo', 'Precio Gasolina 95 E10',\n",
    "          'Precio Gasolina 95 E5 Premium', 'Precio Gasolina 98 E10', 'Precio Hidrogeno'], axis=1, inplace=True)\n"
   ]
  },
  {
   "cell_type": "code",
   "execution_count": 106,
   "id": "1f4e6f15",
   "metadata": {},
   "outputs": [
    {
     "data": {
      "text/plain": [
       "Precio Gasoleo B    NaN\n",
       "Name: 15, dtype: object"
      ]
     },
     "execution_count": 106,
     "metadata": {},
     "output_type": "execute_result"
    }
   ],
   "source": [
    "# Comprobación\n",
    "df_n.iloc[15][['Precio Gasoleo B']]"
   ]
  },
  {
   "cell_type": "code",
   "execution_count": 107,
   "id": "a9fe557e",
   "metadata": {},
   "outputs": [
    {
     "data": {
      "text/html": [
       "<div>\n",
       "<style scoped>\n",
       "    .dataframe tbody tr th:only-of-type {\n",
       "        vertical-align: middle;\n",
       "    }\n",
       "\n",
       "    .dataframe tbody tr th {\n",
       "        vertical-align: top;\n",
       "    }\n",
       "\n",
       "    .dataframe thead th {\n",
       "        text-align: right;\n",
       "    }\n",
       "</style>\n",
       "<table border=\"1\" class=\"dataframe\">\n",
       "  <thead>\n",
       "    <tr style=\"text-align: right;\">\n",
       "      <th></th>\n",
       "      <th>Fecha</th>\n",
       "      <th>C.P.</th>\n",
       "      <th>Dirección</th>\n",
       "      <th>Horario</th>\n",
       "      <th>Latitud</th>\n",
       "      <th>Localidad</th>\n",
       "      <th>Longitud (WGS84)</th>\n",
       "      <th>Municipio</th>\n",
       "      <th>Precio Gasoleo A</th>\n",
       "      <th>Precio Gasoleo B</th>\n",
       "      <th>Precio Gasoleo Premium</th>\n",
       "      <th>Precio Gasolina 95 E5</th>\n",
       "      <th>Precio Gasolina 98 E5</th>\n",
       "      <th>Provincia</th>\n",
       "      <th>Rótulo</th>\n",
       "      <th>IDEESS</th>\n",
       "      <th>IDMunicipio</th>\n",
       "      <th>IDProvincia</th>\n",
       "      <th>IDCCAA</th>\n",
       "    </tr>\n",
       "  </thead>\n",
       "  <tbody>\n",
       "    <tr>\n",
       "      <th>0</th>\n",
       "      <td>08/11/2022 20:13:19</td>\n",
       "      <td>02250</td>\n",
       "      <td>AVENIDA CASTILLA LA MANCHA, 26</td>\n",
       "      <td>L-D: 07:00-22:00</td>\n",
       "      <td>39,211417</td>\n",
       "      <td>ABENGIBRE</td>\n",
       "      <td>-1,539167</td>\n",
       "      <td>Abengibre</td>\n",
       "      <td>1.929</td>\n",
       "      <td>1.43</td>\n",
       "      <td>NaN</td>\n",
       "      <td>1.749</td>\n",
       "      <td>NaN</td>\n",
       "      <td>ALBACETE</td>\n",
       "      <td>Nº 10.935</td>\n",
       "      <td>4375</td>\n",
       "      <td>52</td>\n",
       "      <td>02</td>\n",
       "      <td>07</td>\n",
       "    </tr>\n",
       "    <tr>\n",
       "      <th>1</th>\n",
       "      <td>08/11/2022 20:13:19</td>\n",
       "      <td>02152</td>\n",
       "      <td>CR CM-332, 46,4</td>\n",
       "      <td>L-D: 7:00-23:00</td>\n",
       "      <td>39,100389</td>\n",
       "      <td>ALATOZ</td>\n",
       "      <td>-1,346083</td>\n",
       "      <td>Alatoz</td>\n",
       "      <td>2.040</td>\n",
       "      <td>NaN</td>\n",
       "      <td>2.300</td>\n",
       "      <td>1.909</td>\n",
       "      <td>2.200</td>\n",
       "      <td>ALBACETE</td>\n",
       "      <td>REPSOL</td>\n",
       "      <td>5122</td>\n",
       "      <td>53</td>\n",
       "      <td>02</td>\n",
       "      <td>07</td>\n",
       "    </tr>\n",
       "    <tr>\n",
       "      <th>2</th>\n",
       "      <td>08/11/2022 20:13:19</td>\n",
       "      <td>02001</td>\n",
       "      <td>CALLE FEDERICO GARCIA LORCA, 5</td>\n",
       "      <td>L-S: 05:00-23:00</td>\n",
       "      <td>38,997722</td>\n",
       "      <td>ALBACETE</td>\n",
       "      <td>-1,846361</td>\n",
       "      <td>Albacete</td>\n",
       "      <td>2.035</td>\n",
       "      <td>NaN</td>\n",
       "      <td>NaN</td>\n",
       "      <td>NaN</td>\n",
       "      <td>NaN</td>\n",
       "      <td>ALBACETE</td>\n",
       "      <td>CEPSA</td>\n",
       "      <td>4438</td>\n",
       "      <td>54</td>\n",
       "      <td>02</td>\n",
       "      <td>07</td>\n",
       "    </tr>\n",
       "    <tr>\n",
       "      <th>3</th>\n",
       "      <td>08/11/2022 20:13:19</td>\n",
       "      <td>02001</td>\n",
       "      <td>CALLE PRINCIPE DE ASTURIAS (POLÍGONO DE ROMICA...</td>\n",
       "      <td>L-D: 06:00-21:30</td>\n",
       "      <td>39,054694</td>\n",
       "      <td>ALBACETE</td>\n",
       "      <td>-1,832000</td>\n",
       "      <td>Albacete</td>\n",
       "      <td>2.009</td>\n",
       "      <td>NaN</td>\n",
       "      <td>2.099</td>\n",
       "      <td>1.799</td>\n",
       "      <td>1.941</td>\n",
       "      <td>ALBACETE</td>\n",
       "      <td>BP ROMICA</td>\n",
       "      <td>12054</td>\n",
       "      <td>54</td>\n",
       "      <td>02</td>\n",
       "      <td>07</td>\n",
       "    </tr>\n",
       "    <tr>\n",
       "      <th>4</th>\n",
       "      <td>08/11/2022 20:13:19</td>\n",
       "      <td>02001</td>\n",
       "      <td>CALLE FEDERICO GARCIA LORCA, 1</td>\n",
       "      <td>L-D: 24H</td>\n",
       "      <td>39,000861</td>\n",
       "      <td>ALBACETE</td>\n",
       "      <td>-1,849833</td>\n",
       "      <td>Albacete</td>\n",
       "      <td>1.897</td>\n",
       "      <td>NaN</td>\n",
       "      <td>NaN</td>\n",
       "      <td>1.687</td>\n",
       "      <td>NaN</td>\n",
       "      <td>ALBACETE</td>\n",
       "      <td>PLENOIL</td>\n",
       "      <td>13933</td>\n",
       "      <td>54</td>\n",
       "      <td>02</td>\n",
       "      <td>07</td>\n",
       "    </tr>\n",
       "  </tbody>\n",
       "</table>\n",
       "</div>"
      ],
      "text/plain": [
       "                 Fecha   C.P.  \\\n",
       "0  08/11/2022 20:13:19  02250   \n",
       "1  08/11/2022 20:13:19  02152   \n",
       "2  08/11/2022 20:13:19  02001   \n",
       "3  08/11/2022 20:13:19  02001   \n",
       "4  08/11/2022 20:13:19  02001   \n",
       "\n",
       "                                           Dirección           Horario  \\\n",
       "0                     AVENIDA CASTILLA LA MANCHA, 26  L-D: 07:00-22:00   \n",
       "1                                    CR CM-332, 46,4   L-D: 7:00-23:00   \n",
       "2                     CALLE FEDERICO GARCIA LORCA, 5  L-S: 05:00-23:00   \n",
       "3  CALLE PRINCIPE DE ASTURIAS (POLÍGONO DE ROMICA...  L-D: 06:00-21:30   \n",
       "4                     CALLE FEDERICO GARCIA LORCA, 1          L-D: 24H   \n",
       "\n",
       "     Latitud  Localidad Longitud (WGS84)  Municipio  Precio Gasoleo A  \\\n",
       "0  39,211417  ABENGIBRE        -1,539167  Abengibre             1.929   \n",
       "1  39,100389     ALATOZ        -1,346083     Alatoz             2.040   \n",
       "2  38,997722   ALBACETE        -1,846361   Albacete             2.035   \n",
       "3  39,054694   ALBACETE        -1,832000   Albacete             2.009   \n",
       "4  39,000861   ALBACETE        -1,849833   Albacete             1.897   \n",
       "\n",
       "   Precio Gasoleo B  Precio Gasoleo Premium  Precio Gasolina 95 E5  \\\n",
       "0              1.43                     NaN                  1.749   \n",
       "1               NaN                   2.300                  1.909   \n",
       "2               NaN                     NaN                    NaN   \n",
       "3               NaN                   2.099                  1.799   \n",
       "4               NaN                     NaN                  1.687   \n",
       "\n",
       "   Precio Gasolina 98 E5 Provincia     Rótulo IDEESS IDMunicipio IDProvincia  \\\n",
       "0                    NaN  ALBACETE  Nº 10.935   4375          52          02   \n",
       "1                  2.200  ALBACETE     REPSOL   5122          53          02   \n",
       "2                    NaN  ALBACETE      CEPSA   4438          54          02   \n",
       "3                  1.941  ALBACETE  BP ROMICA  12054          54          02   \n",
       "4                    NaN  ALBACETE    PLENOIL  13933          54          02   \n",
       "\n",
       "  IDCCAA  \n",
       "0     07  \n",
       "1     07  \n",
       "2     07  \n",
       "3     07  \n",
       "4     07  "
      ]
     },
     "execution_count": 107,
     "metadata": {},
     "output_type": "execute_result"
    }
   ],
   "source": [
    "df_n.head()"
   ]
  },
  {
   "cell_type": "code",
   "execution_count": 108,
   "id": "d7336670",
   "metadata": {},
   "outputs": [
    {
     "data": {
      "text/html": [
       "<div>\n",
       "<style scoped>\n",
       "    .dataframe tbody tr th:only-of-type {\n",
       "        vertical-align: middle;\n",
       "    }\n",
       "\n",
       "    .dataframe tbody tr th {\n",
       "        vertical-align: top;\n",
       "    }\n",
       "\n",
       "    .dataframe thead th {\n",
       "        text-align: right;\n",
       "    }\n",
       "</style>\n",
       "<table border=\"1\" class=\"dataframe\">\n",
       "  <thead>\n",
       "    <tr style=\"text-align: right;\">\n",
       "      <th></th>\n",
       "      <th>Fecha</th>\n",
       "      <th>C.P.</th>\n",
       "      <th>Dirección</th>\n",
       "      <th>Horario</th>\n",
       "      <th>Latitud</th>\n",
       "      <th>Localidad</th>\n",
       "      <th>Longitud (WGS84)</th>\n",
       "      <th>Municipio</th>\n",
       "      <th>Gasoleo A</th>\n",
       "      <th>Gasoleo B</th>\n",
       "      <th>Gasoleo Premium</th>\n",
       "      <th>Gasolina 95 E5</th>\n",
       "      <th>Gasolina 98 E5</th>\n",
       "      <th>Provincia</th>\n",
       "      <th>Proveedor de Servicio</th>\n",
       "      <th>IDEESS</th>\n",
       "      <th>IDMunicipio</th>\n",
       "      <th>IDProvincia</th>\n",
       "      <th>IDCCAA</th>\n",
       "    </tr>\n",
       "  </thead>\n",
       "  <tbody>\n",
       "    <tr>\n",
       "      <th>0</th>\n",
       "      <td>08/11/2022 20:13:19</td>\n",
       "      <td>02250</td>\n",
       "      <td>AVENIDA CASTILLA LA MANCHA, 26</td>\n",
       "      <td>L-D: 07:00-22:00</td>\n",
       "      <td>39,211417</td>\n",
       "      <td>ABENGIBRE</td>\n",
       "      <td>-1,539167</td>\n",
       "      <td>Abengibre</td>\n",
       "      <td>1.929</td>\n",
       "      <td>1.43</td>\n",
       "      <td>NaN</td>\n",
       "      <td>1.749</td>\n",
       "      <td>NaN</td>\n",
       "      <td>ALBACETE</td>\n",
       "      <td>Nº 10.935</td>\n",
       "      <td>4375</td>\n",
       "      <td>52</td>\n",
       "      <td>02</td>\n",
       "      <td>07</td>\n",
       "    </tr>\n",
       "  </tbody>\n",
       "</table>\n",
       "</div>"
      ],
      "text/plain": [
       "                 Fecha   C.P.                       Dirección  \\\n",
       "0  08/11/2022 20:13:19  02250  AVENIDA CASTILLA LA MANCHA, 26   \n",
       "\n",
       "            Horario    Latitud  Localidad Longitud (WGS84)  Municipio  \\\n",
       "0  L-D: 07:00-22:00  39,211417  ABENGIBRE        -1,539167  Abengibre   \n",
       "\n",
       "   Gasoleo A  Gasoleo B  Gasoleo Premium  Gasolina 95 E5  Gasolina 98 E5  \\\n",
       "0      1.929       1.43              NaN           1.749             NaN   \n",
       "\n",
       "  Provincia Proveedor de Servicio IDEESS IDMunicipio IDProvincia IDCCAA  \n",
       "0  ALBACETE             Nº 10.935   4375          52          02     07  "
      ]
     },
     "execution_count": 108,
     "metadata": {},
     "output_type": "execute_result"
    }
   ],
   "source": [
    "# Renombramos las columnas\n",
    "df_n.rename(columns={\"Precio Gasoleo A\": \"Gasoleo A\", \"Precio Gasoleo B\": \"Gasoleo B\" ,\"Precio Gasoleo Premium\": \"Gasoleo Premium\", \n",
    "                     \"Precio Gasolina 95 E5\": \"Gasolina 95 E5\", \"Precio Gasolina 98 E5\": \"Gasolina 98 E5\",\n",
    "                     \"Rótulo\":\"Proveedor de Servicio\"}, inplace=True)\n",
    "df_n.head(1)"
   ]
  },
  {
   "cell_type": "code",
   "execution_count": 109,
   "id": "365e7b0f",
   "metadata": {},
   "outputs": [],
   "source": [
    "# Media\n",
    "df_n['Media_Gasoleo A']=df_n['Gasoleo A'].mean()\n",
    "df_n['Media_Gasoleo B']=df_n['Gasoleo B'].mean()\n",
    "df_n['Media_Gasoleo Prem'] = df_n['Gasoleo Premium'].mean()\n",
    "df_n['Media_Gasolina 95']=df_n['Gasolina 95 E5'].mean()\n",
    "df_n['Media_Gasolina 98']=df_n['Gasolina 98 E5'].mean()\n"
   ]
  },
  {
   "cell_type": "code",
   "execution_count": 110,
   "id": "92b44a14",
   "metadata": {},
   "outputs": [],
   "source": [
    "# Desviación (eliminanos porque no aporta información va)\n",
    "#df_n['dev_Gasoleo A']= df_n['Gasoleo A'] - df_n['Media_Gasoleo A']\n",
    "#df_n['dev_Gasoleo B'] =df_n['Gasoleo B'] - df_n['Media_Gasoleo B']\n",
    "#df_n['dev_Gasoleo Prem'] =df_n['Gasoleo Premium'] - df_n['Media_Gasoleo Prem']\n",
    "#df_n['dev_Gasolina 95']=df_n['Gasolina 95 E5'] - df_n['Media_Gasolina 95']\n",
    "#df_n['dev_Gasolina 98']=df_n['Gasolina 98 E5']- df_n['Media_Gasolina 98']\n"
   ]
  },
  {
   "cell_type": "code",
   "execution_count": null,
   "id": "2209ce36",
   "metadata": {},
   "outputs": [],
   "source": []
  },
  {
   "cell_type": "code",
   "execution_count": 111,
   "id": "52c69724",
   "metadata": {
    "scrolled": true
   },
   "outputs": [
    {
     "data": {
      "text/html": [
       "<div>\n",
       "<style scoped>\n",
       "    .dataframe tbody tr th:only-of-type {\n",
       "        vertical-align: middle;\n",
       "    }\n",
       "\n",
       "    .dataframe tbody tr th {\n",
       "        vertical-align: top;\n",
       "    }\n",
       "\n",
       "    .dataframe thead th {\n",
       "        text-align: right;\n",
       "    }\n",
       "</style>\n",
       "<table border=\"1\" class=\"dataframe\">\n",
       "  <thead>\n",
       "    <tr style=\"text-align: right;\">\n",
       "      <th></th>\n",
       "      <th>Fecha</th>\n",
       "      <th>C.P.</th>\n",
       "      <th>Dirección</th>\n",
       "      <th>Horario</th>\n",
       "      <th>Latitud</th>\n",
       "      <th>Localidad</th>\n",
       "      <th>Longitud (WGS84)</th>\n",
       "      <th>Municipio</th>\n",
       "      <th>Gasoleo A</th>\n",
       "      <th>Gasoleo B</th>\n",
       "      <th>...</th>\n",
       "      <th>Proveedor de Servicio</th>\n",
       "      <th>IDEESS</th>\n",
       "      <th>IDMunicipio</th>\n",
       "      <th>IDProvincia</th>\n",
       "      <th>IDCCAA</th>\n",
       "      <th>Media_Gasoleo A</th>\n",
       "      <th>Media_Gasoleo B</th>\n",
       "      <th>Media_Gasoleo Prem</th>\n",
       "      <th>Media_Gasolina 95</th>\n",
       "      <th>Media_Gasolina 98</th>\n",
       "    </tr>\n",
       "  </thead>\n",
       "  <tbody>\n",
       "    <tr>\n",
       "      <th>0</th>\n",
       "      <td>08/11/2022 20:13:19</td>\n",
       "      <td>02250</td>\n",
       "      <td>AVENIDA CASTILLA LA MANCHA, 26</td>\n",
       "      <td>L-D: 07:00-22:00</td>\n",
       "      <td>39,211417</td>\n",
       "      <td>ABENGIBRE</td>\n",
       "      <td>-1,539167</td>\n",
       "      <td>Abengibre</td>\n",
       "      <td>1.929</td>\n",
       "      <td>1.43</td>\n",
       "      <td>...</td>\n",
       "      <td>Nº 10.935</td>\n",
       "      <td>4375</td>\n",
       "      <td>52</td>\n",
       "      <td>02</td>\n",
       "      <td>07</td>\n",
       "      <td>1.94571</td>\n",
       "      <td>1.559088</td>\n",
       "      <td>2.042125</td>\n",
       "      <td>1.778614</td>\n",
       "      <td>1.931778</td>\n",
       "    </tr>\n",
       "    <tr>\n",
       "      <th>1</th>\n",
       "      <td>08/11/2022 20:13:19</td>\n",
       "      <td>02152</td>\n",
       "      <td>CR CM-332, 46,4</td>\n",
       "      <td>L-D: 7:00-23:00</td>\n",
       "      <td>39,100389</td>\n",
       "      <td>ALATOZ</td>\n",
       "      <td>-1,346083</td>\n",
       "      <td>Alatoz</td>\n",
       "      <td>2.040</td>\n",
       "      <td>NaN</td>\n",
       "      <td>...</td>\n",
       "      <td>REPSOL</td>\n",
       "      <td>5122</td>\n",
       "      <td>53</td>\n",
       "      <td>02</td>\n",
       "      <td>07</td>\n",
       "      <td>1.94571</td>\n",
       "      <td>1.559088</td>\n",
       "      <td>2.042125</td>\n",
       "      <td>1.778614</td>\n",
       "      <td>1.931778</td>\n",
       "    </tr>\n",
       "    <tr>\n",
       "      <th>2</th>\n",
       "      <td>08/11/2022 20:13:19</td>\n",
       "      <td>02001</td>\n",
       "      <td>CALLE FEDERICO GARCIA LORCA, 5</td>\n",
       "      <td>L-S: 05:00-23:00</td>\n",
       "      <td>38,997722</td>\n",
       "      <td>ALBACETE</td>\n",
       "      <td>-1,846361</td>\n",
       "      <td>Albacete</td>\n",
       "      <td>2.035</td>\n",
       "      <td>NaN</td>\n",
       "      <td>...</td>\n",
       "      <td>CEPSA</td>\n",
       "      <td>4438</td>\n",
       "      <td>54</td>\n",
       "      <td>02</td>\n",
       "      <td>07</td>\n",
       "      <td>1.94571</td>\n",
       "      <td>1.559088</td>\n",
       "      <td>2.042125</td>\n",
       "      <td>1.778614</td>\n",
       "      <td>1.931778</td>\n",
       "    </tr>\n",
       "    <tr>\n",
       "      <th>3</th>\n",
       "      <td>08/11/2022 20:13:19</td>\n",
       "      <td>02001</td>\n",
       "      <td>CALLE PRINCIPE DE ASTURIAS (POLÍGONO DE ROMICA...</td>\n",
       "      <td>L-D: 06:00-21:30</td>\n",
       "      <td>39,054694</td>\n",
       "      <td>ALBACETE</td>\n",
       "      <td>-1,832000</td>\n",
       "      <td>Albacete</td>\n",
       "      <td>2.009</td>\n",
       "      <td>NaN</td>\n",
       "      <td>...</td>\n",
       "      <td>BP ROMICA</td>\n",
       "      <td>12054</td>\n",
       "      <td>54</td>\n",
       "      <td>02</td>\n",
       "      <td>07</td>\n",
       "      <td>1.94571</td>\n",
       "      <td>1.559088</td>\n",
       "      <td>2.042125</td>\n",
       "      <td>1.778614</td>\n",
       "      <td>1.931778</td>\n",
       "    </tr>\n",
       "    <tr>\n",
       "      <th>4</th>\n",
       "      <td>08/11/2022 20:13:19</td>\n",
       "      <td>02001</td>\n",
       "      <td>CALLE FEDERICO GARCIA LORCA, 1</td>\n",
       "      <td>L-D: 24H</td>\n",
       "      <td>39,000861</td>\n",
       "      <td>ALBACETE</td>\n",
       "      <td>-1,849833</td>\n",
       "      <td>Albacete</td>\n",
       "      <td>1.897</td>\n",
       "      <td>NaN</td>\n",
       "      <td>...</td>\n",
       "      <td>PLENOIL</td>\n",
       "      <td>13933</td>\n",
       "      <td>54</td>\n",
       "      <td>02</td>\n",
       "      <td>07</td>\n",
       "      <td>1.94571</td>\n",
       "      <td>1.559088</td>\n",
       "      <td>2.042125</td>\n",
       "      <td>1.778614</td>\n",
       "      <td>1.931778</td>\n",
       "    </tr>\n",
       "  </tbody>\n",
       "</table>\n",
       "<p>5 rows × 24 columns</p>\n",
       "</div>"
      ],
      "text/plain": [
       "                 Fecha   C.P.  \\\n",
       "0  08/11/2022 20:13:19  02250   \n",
       "1  08/11/2022 20:13:19  02152   \n",
       "2  08/11/2022 20:13:19  02001   \n",
       "3  08/11/2022 20:13:19  02001   \n",
       "4  08/11/2022 20:13:19  02001   \n",
       "\n",
       "                                           Dirección           Horario  \\\n",
       "0                     AVENIDA CASTILLA LA MANCHA, 26  L-D: 07:00-22:00   \n",
       "1                                    CR CM-332, 46,4   L-D: 7:00-23:00   \n",
       "2                     CALLE FEDERICO GARCIA LORCA, 5  L-S: 05:00-23:00   \n",
       "3  CALLE PRINCIPE DE ASTURIAS (POLÍGONO DE ROMICA...  L-D: 06:00-21:30   \n",
       "4                     CALLE FEDERICO GARCIA LORCA, 1          L-D: 24H   \n",
       "\n",
       "     Latitud  Localidad Longitud (WGS84)  Municipio  Gasoleo A  Gasoleo B  \\\n",
       "0  39,211417  ABENGIBRE        -1,539167  Abengibre      1.929       1.43   \n",
       "1  39,100389     ALATOZ        -1,346083     Alatoz      2.040        NaN   \n",
       "2  38,997722   ALBACETE        -1,846361   Albacete      2.035        NaN   \n",
       "3  39,054694   ALBACETE        -1,832000   Albacete      2.009        NaN   \n",
       "4  39,000861   ALBACETE        -1,849833   Albacete      1.897        NaN   \n",
       "\n",
       "   ...  Proveedor de Servicio  IDEESS  IDMunicipio IDProvincia IDCCAA  \\\n",
       "0  ...              Nº 10.935    4375           52          02     07   \n",
       "1  ...                 REPSOL    5122           53          02     07   \n",
       "2  ...                  CEPSA    4438           54          02     07   \n",
       "3  ...              BP ROMICA   12054           54          02     07   \n",
       "4  ...                PLENOIL   13933           54          02     07   \n",
       "\n",
       "  Media_Gasoleo A Media_Gasoleo B Media_Gasoleo Prem Media_Gasolina 95  \\\n",
       "0         1.94571        1.559088           2.042125          1.778614   \n",
       "1         1.94571        1.559088           2.042125          1.778614   \n",
       "2         1.94571        1.559088           2.042125          1.778614   \n",
       "3         1.94571        1.559088           2.042125          1.778614   \n",
       "4         1.94571        1.559088           2.042125          1.778614   \n",
       "\n",
       "   Media_Gasolina 98  \n",
       "0           1.931778  \n",
       "1           1.931778  \n",
       "2           1.931778  \n",
       "3           1.931778  \n",
       "4           1.931778  \n",
       "\n",
       "[5 rows x 24 columns]"
      ]
     },
     "execution_count": 111,
     "metadata": {},
     "output_type": "execute_result"
    }
   ],
   "source": [
    "df_n.head()"
   ]
  },
  {
   "cell_type": "code",
   "execution_count": 112,
   "id": "fbc17dd0",
   "metadata": {},
   "outputs": [
    {
     "name": "stdout",
     "output_type": "stream",
     "text": [
      "<class 'pandas.core.frame.DataFrame'>\n",
      "RangeIndex: 11783 entries, 0 to 11782\n",
      "Data columns (total 24 columns):\n",
      " #   Column                 Non-Null Count  Dtype  \n",
      "---  ------                 --------------  -----  \n",
      " 0   Fecha                  11783 non-null  object \n",
      " 1   C.P.                   11783 non-null  object \n",
      " 2   Dirección              11783 non-null  object \n",
      " 3   Horario                11783 non-null  object \n",
      " 4   Latitud                11783 non-null  object \n",
      " 5   Localidad              11783 non-null  object \n",
      " 6   Longitud (WGS84)       11783 non-null  object \n",
      " 7   Municipio              11783 non-null  object \n",
      " 8   Gasoleo A              11434 non-null  float64\n",
      " 9   Gasoleo B              3001 non-null   float64\n",
      " 10  Gasoleo Premium        7502 non-null   float64\n",
      " 11  Gasolina 95 E5         10626 non-null  float64\n",
      " 12  Gasolina 98 E5         5943 non-null   float64\n",
      " 13  Provincia              11783 non-null  object \n",
      " 14  Proveedor de Servicio  11783 non-null  object \n",
      " 15  IDEESS                 11783 non-null  object \n",
      " 16  IDMunicipio            11783 non-null  object \n",
      " 17  IDProvincia            11783 non-null  object \n",
      " 18  IDCCAA                 11783 non-null  object \n",
      " 19  Media_Gasoleo A        11783 non-null  float64\n",
      " 20  Media_Gasoleo B        11783 non-null  float64\n",
      " 21  Media_Gasoleo Prem     11783 non-null  float64\n",
      " 22  Media_Gasolina 95      11783 non-null  float64\n",
      " 23  Media_Gasolina 98      11783 non-null  float64\n",
      "dtypes: float64(10), object(14)\n",
      "memory usage: 2.2+ MB\n"
     ]
    }
   ],
   "source": [
    "df_n.info()"
   ]
  },
  {
   "cell_type": "code",
   "execution_count": 113,
   "id": "ea5c62a5",
   "metadata": {},
   "outputs": [
    {
     "data": {
      "text/html": [
       "<div>\n",
       "<style scoped>\n",
       "    .dataframe tbody tr th:only-of-type {\n",
       "        vertical-align: middle;\n",
       "    }\n",
       "\n",
       "    .dataframe tbody tr th {\n",
       "        vertical-align: top;\n",
       "    }\n",
       "\n",
       "    .dataframe thead th {\n",
       "        text-align: right;\n",
       "    }\n",
       "</style>\n",
       "<table border=\"1\" class=\"dataframe\">\n",
       "  <thead>\n",
       "    <tr style=\"text-align: right;\">\n",
       "      <th></th>\n",
       "      <th>Fecha</th>\n",
       "      <th>Horario</th>\n",
       "      <th>C.P.</th>\n",
       "      <th>Provincia</th>\n",
       "      <th>Municipio</th>\n",
       "      <th>Localidad</th>\n",
       "      <th>Dirección</th>\n",
       "      <th>Proveedor de Servicio</th>\n",
       "      <th>Gasoleo A</th>\n",
       "      <th>Gasoleo B</th>\n",
       "      <th>Gasoleo Premium</th>\n",
       "      <th>Gasolina 95 E5</th>\n",
       "      <th>Gasolina 98 E5</th>\n",
       "      <th>Media_Gasoleo A</th>\n",
       "      <th>Media_Gasoleo B</th>\n",
       "      <th>Media_Gasoleo Prem</th>\n",
       "      <th>Media_Gasolina 95</th>\n",
       "      <th>Media_Gasolina 98</th>\n",
       "    </tr>\n",
       "  </thead>\n",
       "  <tbody>\n",
       "    <tr>\n",
       "      <th>0</th>\n",
       "      <td>08/11/2022 20:13:19</td>\n",
       "      <td>L-D: 07:00-22:00</td>\n",
       "      <td>02250</td>\n",
       "      <td>ALBACETE</td>\n",
       "      <td>Abengibre</td>\n",
       "      <td>ABENGIBRE</td>\n",
       "      <td>AVENIDA CASTILLA LA MANCHA, 26</td>\n",
       "      <td>Nº 10.935</td>\n",
       "      <td>1.929</td>\n",
       "      <td>1.430</td>\n",
       "      <td>NaN</td>\n",
       "      <td>1.749</td>\n",
       "      <td>NaN</td>\n",
       "      <td>1.94571</td>\n",
       "      <td>1.559088</td>\n",
       "      <td>2.042125</td>\n",
       "      <td>1.778614</td>\n",
       "      <td>1.931778</td>\n",
       "    </tr>\n",
       "    <tr>\n",
       "      <th>1</th>\n",
       "      <td>08/11/2022 20:13:19</td>\n",
       "      <td>L-D: 7:00-23:00</td>\n",
       "      <td>02152</td>\n",
       "      <td>ALBACETE</td>\n",
       "      <td>Alatoz</td>\n",
       "      <td>ALATOZ</td>\n",
       "      <td>CR CM-332, 46,4</td>\n",
       "      <td>REPSOL</td>\n",
       "      <td>2.040</td>\n",
       "      <td>NaN</td>\n",
       "      <td>2.300</td>\n",
       "      <td>1.909</td>\n",
       "      <td>2.200</td>\n",
       "      <td>1.94571</td>\n",
       "      <td>1.559088</td>\n",
       "      <td>2.042125</td>\n",
       "      <td>1.778614</td>\n",
       "      <td>1.931778</td>\n",
       "    </tr>\n",
       "    <tr>\n",
       "      <th>2</th>\n",
       "      <td>08/11/2022 20:13:19</td>\n",
       "      <td>L-S: 05:00-23:00</td>\n",
       "      <td>02001</td>\n",
       "      <td>ALBACETE</td>\n",
       "      <td>Albacete</td>\n",
       "      <td>ALBACETE</td>\n",
       "      <td>CALLE FEDERICO GARCIA LORCA, 5</td>\n",
       "      <td>CEPSA</td>\n",
       "      <td>2.035</td>\n",
       "      <td>NaN</td>\n",
       "      <td>NaN</td>\n",
       "      <td>NaN</td>\n",
       "      <td>NaN</td>\n",
       "      <td>1.94571</td>\n",
       "      <td>1.559088</td>\n",
       "      <td>2.042125</td>\n",
       "      <td>1.778614</td>\n",
       "      <td>1.931778</td>\n",
       "    </tr>\n",
       "    <tr>\n",
       "      <th>3</th>\n",
       "      <td>08/11/2022 20:13:19</td>\n",
       "      <td>L-D: 06:00-21:30</td>\n",
       "      <td>02001</td>\n",
       "      <td>ALBACETE</td>\n",
       "      <td>Albacete</td>\n",
       "      <td>ALBACETE</td>\n",
       "      <td>CALLE PRINCIPE DE ASTURIAS (POLÍGONO DE ROMICA...</td>\n",
       "      <td>BP ROMICA</td>\n",
       "      <td>2.009</td>\n",
       "      <td>NaN</td>\n",
       "      <td>2.099</td>\n",
       "      <td>1.799</td>\n",
       "      <td>1.941</td>\n",
       "      <td>1.94571</td>\n",
       "      <td>1.559088</td>\n",
       "      <td>2.042125</td>\n",
       "      <td>1.778614</td>\n",
       "      <td>1.931778</td>\n",
       "    </tr>\n",
       "    <tr>\n",
       "      <th>4</th>\n",
       "      <td>08/11/2022 20:13:19</td>\n",
       "      <td>L-D: 24H</td>\n",
       "      <td>02001</td>\n",
       "      <td>ALBACETE</td>\n",
       "      <td>Albacete</td>\n",
       "      <td>ALBACETE</td>\n",
       "      <td>CALLE FEDERICO GARCIA LORCA, 1</td>\n",
       "      <td>PLENOIL</td>\n",
       "      <td>1.897</td>\n",
       "      <td>NaN</td>\n",
       "      <td>NaN</td>\n",
       "      <td>1.687</td>\n",
       "      <td>NaN</td>\n",
       "      <td>1.94571</td>\n",
       "      <td>1.559088</td>\n",
       "      <td>2.042125</td>\n",
       "      <td>1.778614</td>\n",
       "      <td>1.931778</td>\n",
       "    </tr>\n",
       "    <tr>\n",
       "      <th>...</th>\n",
       "      <td>...</td>\n",
       "      <td>...</td>\n",
       "      <td>...</td>\n",
       "      <td>...</td>\n",
       "      <td>...</td>\n",
       "      <td>...</td>\n",
       "      <td>...</td>\n",
       "      <td>...</td>\n",
       "      <td>...</td>\n",
       "      <td>...</td>\n",
       "      <td>...</td>\n",
       "      <td>...</td>\n",
       "      <td>...</td>\n",
       "      <td>...</td>\n",
       "      <td>...</td>\n",
       "      <td>...</td>\n",
       "      <td>...</td>\n",
       "      <td>...</td>\n",
       "    </tr>\n",
       "    <tr>\n",
       "      <th>11778</th>\n",
       "      <td>08/11/2022 20:13:19</td>\n",
       "      <td>L-V: 06:00-22:00; S: 08:00-15:00</td>\n",
       "      <td>50197</td>\n",
       "      <td>ZARAGOZA</td>\n",
       "      <td>Zaragoza</td>\n",
       "      <td>ZARAGOZA</td>\n",
       "      <td>AVENIDA DIAGONAL PLAZA, 22</td>\n",
       "      <td>REPSOL</td>\n",
       "      <td>2.009</td>\n",
       "      <td>NaN</td>\n",
       "      <td>2.069</td>\n",
       "      <td>1.809</td>\n",
       "      <td>1.959</td>\n",
       "      <td>1.94571</td>\n",
       "      <td>1.559088</td>\n",
       "      <td>2.042125</td>\n",
       "      <td>1.778614</td>\n",
       "      <td>1.931778</td>\n",
       "    </tr>\n",
       "    <tr>\n",
       "      <th>11779</th>\n",
       "      <td>08/11/2022 20:13:19</td>\n",
       "      <td>L-D: 24H</td>\n",
       "      <td>50197</td>\n",
       "      <td>ZARAGOZA</td>\n",
       "      <td>Zaragoza</td>\n",
       "      <td>ZARAGOZA</td>\n",
       "      <td>POLIGONO CALLE TURIASO, 31</td>\n",
       "      <td>NOIL</td>\n",
       "      <td>2.009</td>\n",
       "      <td>NaN</td>\n",
       "      <td>NaN</td>\n",
       "      <td>NaN</td>\n",
       "      <td>NaN</td>\n",
       "      <td>1.94571</td>\n",
       "      <td>1.559088</td>\n",
       "      <td>2.042125</td>\n",
       "      <td>1.778614</td>\n",
       "      <td>1.931778</td>\n",
       "    </tr>\n",
       "    <tr>\n",
       "      <th>11780</th>\n",
       "      <td>08/11/2022 20:13:19</td>\n",
       "      <td>L-D: 06:00-22:00</td>\n",
       "      <td>50800</td>\n",
       "      <td>ZARAGOZA</td>\n",
       "      <td>Zuera</td>\n",
       "      <td>ZUERA</td>\n",
       "      <td>CARRETERA N-330A KM. 24,000</td>\n",
       "      <td>REPSOL</td>\n",
       "      <td>1.979</td>\n",
       "      <td>1.567</td>\n",
       "      <td>2.029</td>\n",
       "      <td>1.789</td>\n",
       "      <td>1.919</td>\n",
       "      <td>1.94571</td>\n",
       "      <td>1.559088</td>\n",
       "      <td>2.042125</td>\n",
       "      <td>1.778614</td>\n",
       "      <td>1.931778</td>\n",
       "    </tr>\n",
       "    <tr>\n",
       "      <th>11781</th>\n",
       "      <td>08/11/2022 20:13:19</td>\n",
       "      <td>L-D: 24H</td>\n",
       "      <td>50800</td>\n",
       "      <td>ZARAGOZA</td>\n",
       "      <td>Zuera</td>\n",
       "      <td>ZUERA</td>\n",
       "      <td>CALLE AUSTRIA, 11,17</td>\n",
       "      <td>AN ENERGETICOS ZUERA</td>\n",
       "      <td>1.909</td>\n",
       "      <td>1.424</td>\n",
       "      <td>1.949</td>\n",
       "      <td>1.757</td>\n",
       "      <td>NaN</td>\n",
       "      <td>1.94571</td>\n",
       "      <td>1.559088</td>\n",
       "      <td>2.042125</td>\n",
       "      <td>1.778614</td>\n",
       "      <td>1.931778</td>\n",
       "    </tr>\n",
       "    <tr>\n",
       "      <th>11782</th>\n",
       "      <td>08/11/2022 20:13:19</td>\n",
       "      <td>L-D: 24H</td>\n",
       "      <td>50810</td>\n",
       "      <td>ZARAGOZA</td>\n",
       "      <td>Zuera</td>\n",
       "      <td>ONTINAR DE SALZ</td>\n",
       "      <td>CALLE COOPERATIVA, 2</td>\n",
       "      <td>COOPERATIVA SAN ISIDRO</td>\n",
       "      <td>1.929</td>\n",
       "      <td>1.449</td>\n",
       "      <td>1.969</td>\n",
       "      <td>1.739</td>\n",
       "      <td>NaN</td>\n",
       "      <td>1.94571</td>\n",
       "      <td>1.559088</td>\n",
       "      <td>2.042125</td>\n",
       "      <td>1.778614</td>\n",
       "      <td>1.931778</td>\n",
       "    </tr>\n",
       "  </tbody>\n",
       "</table>\n",
       "<p>11783 rows × 18 columns</p>\n",
       "</div>"
      ],
      "text/plain": [
       "                     Fecha                           Horario   C.P. Provincia  \\\n",
       "0      08/11/2022 20:13:19                  L-D: 07:00-22:00  02250  ALBACETE   \n",
       "1      08/11/2022 20:13:19                   L-D: 7:00-23:00  02152  ALBACETE   \n",
       "2      08/11/2022 20:13:19                  L-S: 05:00-23:00  02001  ALBACETE   \n",
       "3      08/11/2022 20:13:19                  L-D: 06:00-21:30  02001  ALBACETE   \n",
       "4      08/11/2022 20:13:19                          L-D: 24H  02001  ALBACETE   \n",
       "...                    ...                               ...    ...       ...   \n",
       "11778  08/11/2022 20:13:19  L-V: 06:00-22:00; S: 08:00-15:00  50197  ZARAGOZA   \n",
       "11779  08/11/2022 20:13:19                          L-D: 24H  50197  ZARAGOZA   \n",
       "11780  08/11/2022 20:13:19                  L-D: 06:00-22:00  50800  ZARAGOZA   \n",
       "11781  08/11/2022 20:13:19                          L-D: 24H  50800  ZARAGOZA   \n",
       "11782  08/11/2022 20:13:19                          L-D: 24H  50810  ZARAGOZA   \n",
       "\n",
       "       Municipio        Localidad  \\\n",
       "0      Abengibre        ABENGIBRE   \n",
       "1         Alatoz           ALATOZ   \n",
       "2       Albacete         ALBACETE   \n",
       "3       Albacete         ALBACETE   \n",
       "4       Albacete         ALBACETE   \n",
       "...          ...              ...   \n",
       "11778   Zaragoza         ZARAGOZA   \n",
       "11779   Zaragoza         ZARAGOZA   \n",
       "11780      Zuera            ZUERA   \n",
       "11781      Zuera            ZUERA   \n",
       "11782      Zuera  ONTINAR DE SALZ   \n",
       "\n",
       "                                               Dirección  \\\n",
       "0                         AVENIDA CASTILLA LA MANCHA, 26   \n",
       "1                                        CR CM-332, 46,4   \n",
       "2                         CALLE FEDERICO GARCIA LORCA, 5   \n",
       "3      CALLE PRINCIPE DE ASTURIAS (POLÍGONO DE ROMICA...   \n",
       "4                         CALLE FEDERICO GARCIA LORCA, 1   \n",
       "...                                                  ...   \n",
       "11778                         AVENIDA DIAGONAL PLAZA, 22   \n",
       "11779                         POLIGONO CALLE TURIASO, 31   \n",
       "11780                        CARRETERA N-330A KM. 24,000   \n",
       "11781                               CALLE AUSTRIA, 11,17   \n",
       "11782                               CALLE COOPERATIVA, 2   \n",
       "\n",
       "        Proveedor de Servicio  Gasoleo A  Gasoleo B  Gasoleo Premium  \\\n",
       "0                   Nº 10.935      1.929      1.430              NaN   \n",
       "1                      REPSOL      2.040        NaN            2.300   \n",
       "2                       CEPSA      2.035        NaN              NaN   \n",
       "3                   BP ROMICA      2.009        NaN            2.099   \n",
       "4                     PLENOIL      1.897        NaN              NaN   \n",
       "...                       ...        ...        ...              ...   \n",
       "11778                  REPSOL      2.009        NaN            2.069   \n",
       "11779                    NOIL      2.009        NaN              NaN   \n",
       "11780                  REPSOL      1.979      1.567            2.029   \n",
       "11781    AN ENERGETICOS ZUERA      1.909      1.424            1.949   \n",
       "11782  COOPERATIVA SAN ISIDRO      1.929      1.449            1.969   \n",
       "\n",
       "       Gasolina 95 E5  Gasolina 98 E5  Media_Gasoleo A  Media_Gasoleo B  \\\n",
       "0               1.749             NaN          1.94571         1.559088   \n",
       "1               1.909           2.200          1.94571         1.559088   \n",
       "2                 NaN             NaN          1.94571         1.559088   \n",
       "3               1.799           1.941          1.94571         1.559088   \n",
       "4               1.687             NaN          1.94571         1.559088   \n",
       "...               ...             ...              ...              ...   \n",
       "11778           1.809           1.959          1.94571         1.559088   \n",
       "11779             NaN             NaN          1.94571         1.559088   \n",
       "11780           1.789           1.919          1.94571         1.559088   \n",
       "11781           1.757             NaN          1.94571         1.559088   \n",
       "11782           1.739             NaN          1.94571         1.559088   \n",
       "\n",
       "       Media_Gasoleo Prem  Media_Gasolina 95  Media_Gasolina 98  \n",
       "0                2.042125           1.778614           1.931778  \n",
       "1                2.042125           1.778614           1.931778  \n",
       "2                2.042125           1.778614           1.931778  \n",
       "3                2.042125           1.778614           1.931778  \n",
       "4                2.042125           1.778614           1.931778  \n",
       "...                   ...                ...                ...  \n",
       "11778            2.042125           1.778614           1.931778  \n",
       "11779            2.042125           1.778614           1.931778  \n",
       "11780            2.042125           1.778614           1.931778  \n",
       "11781            2.042125           1.778614           1.931778  \n",
       "11782            2.042125           1.778614           1.931778  \n",
       "\n",
       "[11783 rows x 18 columns]"
      ]
     },
     "execution_count": 113,
     "metadata": {},
     "output_type": "execute_result"
    }
   ],
   "source": [
    "#Ordenamos columnas\n",
    "df_n = df_n[['Fecha', 'Horario', 'C.P.','Provincia','Municipio','Localidad', 'Dirección', 'Proveedor de Servicio', 'Gasoleo A',\n",
    "             'Gasoleo B', 'Gasoleo Premium', 'Gasolina 95 E5', 'Gasolina 98 E5', 'Media_Gasoleo A',\n",
    "             'Media_Gasoleo B', 'Media_Gasoleo Prem', 'Media_Gasolina 95', 'Media_Gasolina 98']]\n",
    "df_n"
   ]
  },
  {
   "cell_type": "code",
   "execution_count": 117,
   "id": "5f465a5c",
   "metadata": {},
   "outputs": [],
   "source": [
    "# Guardamos df original para sucesion de tiempo\n",
    "df_n.to_csv('df_sample.csv', index=False)"
   ]
  },
  {
   "cell_type": "code",
   "execution_count": 172,
   "id": "32cb382f",
   "metadata": {},
   "outputs": [
    {
     "name": "stdout",
     "output_type": "stream",
     "text": [
      "<class 'pandas.core.frame.DataFrame'>\n",
      "RangeIndex: 11783 entries, 0 to 11782\n",
      "Data columns (total 18 columns):\n",
      " #   Column                 Non-Null Count  Dtype  \n",
      "---  ------                 --------------  -----  \n",
      " 0   Fecha                  11783 non-null  object \n",
      " 1   Horario                11783 non-null  object \n",
      " 2   C.P.                   11783 non-null  object \n",
      " 3   Provincia              11783 non-null  object \n",
      " 4   Municipio              11783 non-null  object \n",
      " 5   Localidad              11783 non-null  object \n",
      " 6   Dirección              11783 non-null  object \n",
      " 7   Proveedor de Servicio  11783 non-null  object \n",
      " 8   Gasoleo A              11434 non-null  float64\n",
      " 9   Gasoleo B              3001 non-null   float64\n",
      " 10  Gasoleo Premium        7502 non-null   float64\n",
      " 11  Gasolina 95 E5         10626 non-null  float64\n",
      " 12  Gasolina 98 E5         5943 non-null   float64\n",
      " 13  Media_Gasoleo A        11783 non-null  float64\n",
      " 14  Media_Gasoleo B        11783 non-null  float64\n",
      " 15  Media_Gasoleo Prem     11783 non-null  float64\n",
      " 16  Media_Gasolina 95      11783 non-null  float64\n",
      " 17  Media_Gasolina 98      11783 non-null  float64\n",
      "dtypes: float64(10), object(8)\n",
      "memory usage: 1.6+ MB\n"
     ]
    }
   ],
   "source": [
    "df_n.info()"
   ]
  },
  {
   "cell_type": "code",
   "execution_count": 173,
   "id": "bca523aa",
   "metadata": {},
   "outputs": [
    {
     "name": "stdout",
     "output_type": "stream",
     "text": [
      "<class 'pandas.core.series.Series'>\n"
     ]
    }
   ],
   "source": [
    "x = df_n['C.P.']\n",
    "print(type(x))\n"
   ]
  },
  {
   "cell_type": "markdown",
   "id": "9ece3cb6",
   "metadata": {},
   "source": [
    "---\n",
    "Step4\n",
    "\n",
    "\n",
    "# Desarrollo Funciones "
   ]
  },
  {
   "cell_type": "code",
   "execution_count": 120,
   "id": "a2640cea",
   "metadata": {},
   "outputs": [],
   "source": [
    "# Analisis de Funciones"
   ]
  },
  {
   "cell_type": "code",
   "execution_count": 121,
   "id": "6a6ddce7",
   "metadata": {
    "scrolled": true
   },
   "outputs": [
    {
     "data": {
      "text/html": [
       "<div>\n",
       "<style scoped>\n",
       "    .dataframe tbody tr th:only-of-type {\n",
       "        vertical-align: middle;\n",
       "    }\n",
       "\n",
       "    .dataframe tbody tr th {\n",
       "        vertical-align: top;\n",
       "    }\n",
       "\n",
       "    .dataframe thead th {\n",
       "        text-align: right;\n",
       "    }\n",
       "</style>\n",
       "<table border=\"1\" class=\"dataframe\">\n",
       "  <thead>\n",
       "    <tr style=\"text-align: right;\">\n",
       "      <th></th>\n",
       "      <th>Fecha</th>\n",
       "      <th>Horario</th>\n",
       "      <th>C.P.</th>\n",
       "      <th>Provincia</th>\n",
       "      <th>Municipio</th>\n",
       "      <th>Localidad</th>\n",
       "      <th>Dirección</th>\n",
       "      <th>Proveedor de Servicio</th>\n",
       "      <th>Gasoleo A</th>\n",
       "      <th>Gasoleo B</th>\n",
       "      <th>Gasoleo Premium</th>\n",
       "      <th>Gasolina 95 E5</th>\n",
       "      <th>Gasolina 98 E5</th>\n",
       "      <th>Media_Gasoleo A</th>\n",
       "      <th>Media_Gasoleo B</th>\n",
       "      <th>Media_Gasoleo Prem</th>\n",
       "      <th>Media_Gasolina 95</th>\n",
       "      <th>Media_Gasolina 98</th>\n",
       "    </tr>\n",
       "  </thead>\n",
       "  <tbody>\n",
       "    <tr>\n",
       "      <th>7221</th>\n",
       "      <td>08/11/2022 20:13:19</td>\n",
       "      <td>L-D: 24H</td>\n",
       "      <td>28760</td>\n",
       "      <td>MADRID</td>\n",
       "      <td>Tres Cantos</td>\n",
       "      <td>TRES CANTOS</td>\n",
       "      <td>AVENIDA INDUSTRIA (DE LA), S/N</td>\n",
       "      <td>BP TRES CANTOS</td>\n",
       "      <td>1.999</td>\n",
       "      <td>NaN</td>\n",
       "      <td>2.089</td>\n",
       "      <td>1.789</td>\n",
       "      <td>1.931</td>\n",
       "      <td>1.94571</td>\n",
       "      <td>1.559088</td>\n",
       "      <td>2.042125</td>\n",
       "      <td>1.778614</td>\n",
       "      <td>1.931778</td>\n",
       "    </tr>\n",
       "    <tr>\n",
       "      <th>7222</th>\n",
       "      <td>08/11/2022 20:13:19</td>\n",
       "      <td>L-V: 08:00-20:00</td>\n",
       "      <td>28760</td>\n",
       "      <td>MADRID</td>\n",
       "      <td>Tres Cantos</td>\n",
       "      <td>TRES CANTOS</td>\n",
       "      <td>CL AVENIDA ARTESANOS, 40</td>\n",
       "      <td>REPSOL</td>\n",
       "      <td>1.999</td>\n",
       "      <td>NaN</td>\n",
       "      <td>NaN</td>\n",
       "      <td>1.779</td>\n",
       "      <td>1.919</td>\n",
       "      <td>1.94571</td>\n",
       "      <td>1.559088</td>\n",
       "      <td>2.042125</td>\n",
       "      <td>1.778614</td>\n",
       "      <td>1.931778</td>\n",
       "    </tr>\n",
       "    <tr>\n",
       "      <th>7223</th>\n",
       "      <td>08/11/2022 20:13:19</td>\n",
       "      <td>L-D: 06:00-22:00</td>\n",
       "      <td>28760</td>\n",
       "      <td>MADRID</td>\n",
       "      <td>Tres Cantos</td>\n",
       "      <td>TRES CANTOS</td>\n",
       "      <td>CL AVDA DE LA INDUSTRIA, 33</td>\n",
       "      <td>REPSOL</td>\n",
       "      <td>2.009</td>\n",
       "      <td>NaN</td>\n",
       "      <td>2.099</td>\n",
       "      <td>1.795</td>\n",
       "      <td>1.945</td>\n",
       "      <td>1.94571</td>\n",
       "      <td>1.559088</td>\n",
       "      <td>2.042125</td>\n",
       "      <td>1.778614</td>\n",
       "      <td>1.931778</td>\n",
       "    </tr>\n",
       "    <tr>\n",
       "      <th>7224</th>\n",
       "      <td>08/11/2022 20:13:19</td>\n",
       "      <td>L-D: 06:00-00:00</td>\n",
       "      <td>28760</td>\n",
       "      <td>MADRID</td>\n",
       "      <td>Tres Cantos</td>\n",
       "      <td>TRES CANTOS</td>\n",
       "      <td>CALLE YUNQUE, 6</td>\n",
       "      <td>CEPSA</td>\n",
       "      <td>1.918</td>\n",
       "      <td>NaN</td>\n",
       "      <td>1.984</td>\n",
       "      <td>1.712</td>\n",
       "      <td>1.844</td>\n",
       "      <td>1.94571</td>\n",
       "      <td>1.559088</td>\n",
       "      <td>2.042125</td>\n",
       "      <td>1.778614</td>\n",
       "      <td>1.931778</td>\n",
       "    </tr>\n",
       "    <tr>\n",
       "      <th>7225</th>\n",
       "      <td>08/11/2022 20:13:19</td>\n",
       "      <td>L-D: 24H</td>\n",
       "      <td>28760</td>\n",
       "      <td>MADRID</td>\n",
       "      <td>Tres Cantos</td>\n",
       "      <td>TRES CANTOS</td>\n",
       "      <td>AVENIDA INDUSTRIA (DE LA), 52</td>\n",
       "      <td>PLENOIL</td>\n",
       "      <td>1.817</td>\n",
       "      <td>NaN</td>\n",
       "      <td>NaN</td>\n",
       "      <td>1.607</td>\n",
       "      <td>NaN</td>\n",
       "      <td>1.94571</td>\n",
       "      <td>1.559088</td>\n",
       "      <td>2.042125</td>\n",
       "      <td>1.778614</td>\n",
       "      <td>1.931778</td>\n",
       "    </tr>\n",
       "    <tr>\n",
       "      <th>7226</th>\n",
       "      <td>08/11/2022 20:13:19</td>\n",
       "      <td>L-D: 24H</td>\n",
       "      <td>28760</td>\n",
       "      <td>MADRID</td>\n",
       "      <td>Tres Cantos</td>\n",
       "      <td>TRES CANTOS</td>\n",
       "      <td>AVENIDA INDUSTRIA, 44</td>\n",
       "      <td>BALLENOIL</td>\n",
       "      <td>1.817</td>\n",
       "      <td>NaN</td>\n",
       "      <td>1.827</td>\n",
       "      <td>1.607</td>\n",
       "      <td>NaN</td>\n",
       "      <td>1.94571</td>\n",
       "      <td>1.559088</td>\n",
       "      <td>2.042125</td>\n",
       "      <td>1.778614</td>\n",
       "      <td>1.931778</td>\n",
       "    </tr>\n",
       "    <tr>\n",
       "      <th>7227</th>\n",
       "      <td>08/11/2022 20:13:19</td>\n",
       "      <td>L-D: 24H</td>\n",
       "      <td>28760</td>\n",
       "      <td>MADRID</td>\n",
       "      <td>Tres Cantos</td>\n",
       "      <td>TRES CANTOS</td>\n",
       "      <td>CL AV DE LA INDUSTRIA, 58</td>\n",
       "      <td>REPSOL</td>\n",
       "      <td>1.999</td>\n",
       "      <td>NaN</td>\n",
       "      <td>2.089</td>\n",
       "      <td>1.779</td>\n",
       "      <td>1.929</td>\n",
       "      <td>1.94571</td>\n",
       "      <td>1.559088</td>\n",
       "      <td>2.042125</td>\n",
       "      <td>1.778614</td>\n",
       "      <td>1.931778</td>\n",
       "    </tr>\n",
       "  </tbody>\n",
       "</table>\n",
       "</div>"
      ],
      "text/plain": [
       "                    Fecha           Horario   C.P. Provincia    Municipio  \\\n",
       "7221  08/11/2022 20:13:19          L-D: 24H  28760    MADRID  Tres Cantos   \n",
       "7222  08/11/2022 20:13:19  L-V: 08:00-20:00  28760    MADRID  Tres Cantos   \n",
       "7223  08/11/2022 20:13:19  L-D: 06:00-22:00  28760    MADRID  Tres Cantos   \n",
       "7224  08/11/2022 20:13:19  L-D: 06:00-00:00  28760    MADRID  Tres Cantos   \n",
       "7225  08/11/2022 20:13:19          L-D: 24H  28760    MADRID  Tres Cantos   \n",
       "7226  08/11/2022 20:13:19          L-D: 24H  28760    MADRID  Tres Cantos   \n",
       "7227  08/11/2022 20:13:19          L-D: 24H  28760    MADRID  Tres Cantos   \n",
       "\n",
       "        Localidad                       Dirección Proveedor de Servicio  \\\n",
       "7221  TRES CANTOS  AVENIDA INDUSTRIA (DE LA), S/N        BP TRES CANTOS   \n",
       "7222  TRES CANTOS        CL AVENIDA ARTESANOS, 40                REPSOL   \n",
       "7223  TRES CANTOS     CL AVDA DE LA INDUSTRIA, 33                REPSOL   \n",
       "7224  TRES CANTOS                 CALLE YUNQUE, 6                 CEPSA   \n",
       "7225  TRES CANTOS   AVENIDA INDUSTRIA (DE LA), 52               PLENOIL   \n",
       "7226  TRES CANTOS           AVENIDA INDUSTRIA, 44             BALLENOIL   \n",
       "7227  TRES CANTOS       CL AV DE LA INDUSTRIA, 58                REPSOL   \n",
       "\n",
       "      Gasoleo A  Gasoleo B  Gasoleo Premium  Gasolina 95 E5  Gasolina 98 E5  \\\n",
       "7221      1.999        NaN            2.089           1.789           1.931   \n",
       "7222      1.999        NaN              NaN           1.779           1.919   \n",
       "7223      2.009        NaN            2.099           1.795           1.945   \n",
       "7224      1.918        NaN            1.984           1.712           1.844   \n",
       "7225      1.817        NaN              NaN           1.607             NaN   \n",
       "7226      1.817        NaN            1.827           1.607             NaN   \n",
       "7227      1.999        NaN            2.089           1.779           1.929   \n",
       "\n",
       "      Media_Gasoleo A  Media_Gasoleo B  Media_Gasoleo Prem  Media_Gasolina 95  \\\n",
       "7221          1.94571         1.559088            2.042125           1.778614   \n",
       "7222          1.94571         1.559088            2.042125           1.778614   \n",
       "7223          1.94571         1.559088            2.042125           1.778614   \n",
       "7224          1.94571         1.559088            2.042125           1.778614   \n",
       "7225          1.94571         1.559088            2.042125           1.778614   \n",
       "7226          1.94571         1.559088            2.042125           1.778614   \n",
       "7227          1.94571         1.559088            2.042125           1.778614   \n",
       "\n",
       "      Media_Gasolina 98  \n",
       "7221           1.931778  \n",
       "7222           1.931778  \n",
       "7223           1.931778  \n",
       "7224           1.931778  \n",
       "7225           1.931778  \n",
       "7226           1.931778  \n",
       "7227           1.931778  "
      ]
     },
     "execution_count": 121,
     "metadata": {},
     "output_type": "execute_result"
    }
   ],
   "source": [
    "# Analizar df_n usando .loc()\n",
    "\n",
    "df_n[df_n['C.P.'] == '28760'] "
   ]
  },
  {
   "cell_type": "code",
   "execution_count": 122,
   "id": "d4a411b2",
   "metadata": {},
   "outputs": [
    {
     "data": {
      "text/plain": [
       "Gasoleo A    1.299\n",
       "dtype: float64"
      ]
     },
     "execution_count": 122,
     "metadata": {},
     "output_type": "execute_result"
    }
   ],
   "source": [
    "df_n[['Gasoleo A']].min()"
   ]
  },
  {
   "cell_type": "code",
   "execution_count": 123,
   "id": "3b1f1e51",
   "metadata": {},
   "outputs": [
    {
     "data": {
      "text/plain": [
       "pandas.core.series.Series"
      ]
     },
     "execution_count": 123,
     "metadata": {},
     "output_type": "execute_result"
    }
   ],
   "source": [
    "type(df_n[['Gasoleo A']].min())"
   ]
  },
  {
   "cell_type": "code",
   "execution_count": 124,
   "id": "90b1365c",
   "metadata": {},
   "outputs": [
    {
     "data": {
      "text/plain": [
       "Gasoleo A    9252\n",
       "dtype: int64"
      ]
     },
     "execution_count": 124,
     "metadata": {},
     "output_type": "execute_result"
    }
   ],
   "source": [
    "df_n[['Gasoleo A']].idxmin()"
   ]
  },
  {
   "cell_type": "code",
   "execution_count": 125,
   "id": "2e862788",
   "metadata": {},
   "outputs": [
    {
     "data": {
      "text/plain": [
       "pandas.core.series.Series"
      ]
     },
     "execution_count": 125,
     "metadata": {},
     "output_type": "execute_result"
    }
   ],
   "source": [
    "type(df_n[['Gasoleo A']].idxmin())"
   ]
  },
  {
   "cell_type": "code",
   "execution_count": 126,
   "id": "9de51546",
   "metadata": {},
   "outputs": [],
   "source": [
    "#df_n.loc[df_n[['Gasoleo A']].min()]"
   ]
  },
  {
   "cell_type": "code",
   "execution_count": 127,
   "id": "6189b48b",
   "metadata": {},
   "outputs": [],
   "source": [
    "#df_n.head()"
   ]
  },
  {
   "cell_type": "code",
   "execution_count": 128,
   "id": "2532402d",
   "metadata": {},
   "outputs": [],
   "source": [
    "#df_n.loc[1.290]"
   ]
  },
  {
   "cell_type": "code",
   "execution_count": 129,
   "id": "eaca1f27",
   "metadata": {},
   "outputs": [
    {
     "data": {
      "text/plain": [
       "RangeIndex(start=0, stop=11783, step=1)"
      ]
     },
     "execution_count": 129,
     "metadata": {},
     "output_type": "execute_result"
    }
   ],
   "source": [
    "df_n.index"
   ]
  },
  {
   "cell_type": "code",
   "execution_count": 130,
   "id": "c8047416",
   "metadata": {},
   "outputs": [
    {
     "data": {
      "text/plain": [
       "pandas.core.frame.DataFrame"
      ]
     },
     "execution_count": 130,
     "metadata": {},
     "output_type": "execute_result"
    }
   ],
   "source": [
    "type(df_n.loc[df_n[['Gasoleo A']].idxmin()])"
   ]
  },
  {
   "cell_type": "code",
   "execution_count": 131,
   "id": "5f0aaab8",
   "metadata": {},
   "outputs": [
    {
     "data": {
      "text/plain": [
       "pandas.core.series.Series"
      ]
     },
     "execution_count": 131,
     "metadata": {},
     "output_type": "execute_result"
    }
   ],
   "source": [
    "type(df_n.loc[9213])"
   ]
  },
  {
   "cell_type": "code",
   "execution_count": 132,
   "id": "aeca5642",
   "metadata": {},
   "outputs": [
    {
     "data": {
      "text/plain": [
       "<pandas.core.groupby.generic.DataFrameGroupBy object at 0x0000027121596130>"
      ]
     },
     "execution_count": 132,
     "metadata": {},
     "output_type": "execute_result"
    }
   ],
   "source": [
    "a = df_n.groupby(by=[\"Municipio\"])\n",
    "a"
   ]
  },
  {
   "cell_type": "code",
   "execution_count": 133,
   "id": "4afac610",
   "metadata": {},
   "outputs": [
    {
     "data": {
      "text/plain": [
       "Municipio\n",
       "Abadiño                                     [48220]\n",
       "Abadín                               [27730, 27738]\n",
       "Abanilla                                    [30640]\n",
       "Abanto y Ciérvana-Abanto Zierbena           [48500]\n",
       "Abarán                                      [30550]\n",
       "                                          ...      \n",
       "Íscar                                       [47420]\n",
       "Òdena                                       [08711]\n",
       "Ólvega                                      [42110]\n",
       "Órgiva                                      [18400]\n",
       "Úbeda                                       [23400]\n",
       "Name: C.P., Length: 3438, dtype: object"
      ]
     },
     "execution_count": 133,
     "metadata": {},
     "output_type": "execute_result"
    }
   ],
   "source": [
    "b = a[\"C.P.\"].unique()\n",
    "b"
   ]
  },
  {
   "cell_type": "markdown",
   "id": "3f8e8e7f",
   "metadata": {},
   "source": [
    "# Funciones"
   ]
  },
  {
   "cell_type": "code",
   "execution_count": 134,
   "id": "ebf8ea98",
   "metadata": {},
   "outputs": [],
   "source": [
    "# Precio mínimo de combstible en un codigo postal \n",
    "def cp_minimo(x,y):\n",
    "# x = Código Postal\n",
    "# y = Tipo de combustible para el precio mínimo\n",
    "    cod_postal = df_n[df_n['C.P.'] == x]\n",
    "    combustible = cod_postal.loc[cod_postal[[y]].idxmin()]\n",
    "    return combustible\n"
   ]
  },
  {
   "cell_type": "code",
   "execution_count": 135,
   "id": "e31206c6",
   "metadata": {},
   "outputs": [
    {
     "data": {
      "text/html": [
       "<div>\n",
       "<style scoped>\n",
       "    .dataframe tbody tr th:only-of-type {\n",
       "        vertical-align: middle;\n",
       "    }\n",
       "\n",
       "    .dataframe tbody tr th {\n",
       "        vertical-align: top;\n",
       "    }\n",
       "\n",
       "    .dataframe thead th {\n",
       "        text-align: right;\n",
       "    }\n",
       "</style>\n",
       "<table border=\"1\" class=\"dataframe\">\n",
       "  <thead>\n",
       "    <tr style=\"text-align: right;\">\n",
       "      <th></th>\n",
       "      <th>Fecha</th>\n",
       "      <th>Horario</th>\n",
       "      <th>C.P.</th>\n",
       "      <th>Provincia</th>\n",
       "      <th>Municipio</th>\n",
       "      <th>Localidad</th>\n",
       "      <th>Dirección</th>\n",
       "      <th>Proveedor de Servicio</th>\n",
       "      <th>Gasoleo A</th>\n",
       "      <th>Gasoleo B</th>\n",
       "      <th>Gasoleo Premium</th>\n",
       "      <th>Gasolina 95 E5</th>\n",
       "      <th>Gasolina 98 E5</th>\n",
       "      <th>Media_Gasoleo A</th>\n",
       "      <th>Media_Gasoleo B</th>\n",
       "      <th>Media_Gasoleo Prem</th>\n",
       "      <th>Media_Gasolina 95</th>\n",
       "      <th>Media_Gasolina 98</th>\n",
       "    </tr>\n",
       "  </thead>\n",
       "  <tbody>\n",
       "    <tr>\n",
       "      <th>7225</th>\n",
       "      <td>08/11/2022 20:13:19</td>\n",
       "      <td>L-D: 24H</td>\n",
       "      <td>28760</td>\n",
       "      <td>MADRID</td>\n",
       "      <td>Tres Cantos</td>\n",
       "      <td>TRES CANTOS</td>\n",
       "      <td>AVENIDA INDUSTRIA (DE LA), 52</td>\n",
       "      <td>PLENOIL</td>\n",
       "      <td>1.817</td>\n",
       "      <td>NaN</td>\n",
       "      <td>NaN</td>\n",
       "      <td>1.607</td>\n",
       "      <td>NaN</td>\n",
       "      <td>1.94571</td>\n",
       "      <td>1.559088</td>\n",
       "      <td>2.042125</td>\n",
       "      <td>1.778614</td>\n",
       "      <td>1.931778</td>\n",
       "    </tr>\n",
       "  </tbody>\n",
       "</table>\n",
       "</div>"
      ],
      "text/plain": [
       "                    Fecha   Horario   C.P. Provincia    Municipio  \\\n",
       "7225  08/11/2022 20:13:19  L-D: 24H  28760    MADRID  Tres Cantos   \n",
       "\n",
       "        Localidad                      Dirección Proveedor de Servicio  \\\n",
       "7225  TRES CANTOS  AVENIDA INDUSTRIA (DE LA), 52               PLENOIL   \n",
       "\n",
       "      Gasoleo A  Gasoleo B  Gasoleo Premium  Gasolina 95 E5  Gasolina 98 E5  \\\n",
       "7225      1.817        NaN              NaN           1.607             NaN   \n",
       "\n",
       "      Media_Gasoleo A  Media_Gasoleo B  Media_Gasoleo Prem  Media_Gasolina 95  \\\n",
       "7225          1.94571         1.559088            2.042125           1.778614   \n",
       "\n",
       "      Media_Gasolina 98  \n",
       "7225           1.931778  "
      ]
     },
     "execution_count": 135,
     "metadata": {},
     "output_type": "execute_result"
    }
   ],
   "source": [
    "cp_minimo('28760', 'Gasoleo A')"
   ]
  },
  {
   "cell_type": "markdown",
   "id": "2279f697",
   "metadata": {},
   "source": [
    "---"
   ]
  },
  {
   "cell_type": "code",
   "execution_count": 136,
   "id": "ee65c0fb",
   "metadata": {},
   "outputs": [
    {
     "data": {
      "text/html": [
       "<div>\n",
       "<style scoped>\n",
       "    .dataframe tbody tr th:only-of-type {\n",
       "        vertical-align: middle;\n",
       "    }\n",
       "\n",
       "    .dataframe tbody tr th {\n",
       "        vertical-align: top;\n",
       "    }\n",
       "\n",
       "    .dataframe thead th {\n",
       "        text-align: right;\n",
       "    }\n",
       "</style>\n",
       "<table border=\"1\" class=\"dataframe\">\n",
       "  <thead>\n",
       "    <tr style=\"text-align: right;\">\n",
       "      <th></th>\n",
       "      <th>Fecha</th>\n",
       "      <th>Horario</th>\n",
       "      <th>C.P.</th>\n",
       "      <th>Provincia</th>\n",
       "      <th>Municipio</th>\n",
       "      <th>Localidad</th>\n",
       "      <th>Dirección</th>\n",
       "      <th>Proveedor de Servicio</th>\n",
       "      <th>Gasoleo A</th>\n",
       "      <th>Gasoleo B</th>\n",
       "      <th>Gasoleo Premium</th>\n",
       "      <th>Gasolina 95 E5</th>\n",
       "      <th>Gasolina 98 E5</th>\n",
       "      <th>Media_Gasoleo A</th>\n",
       "      <th>Media_Gasoleo B</th>\n",
       "      <th>Media_Gasoleo Prem</th>\n",
       "      <th>Media_Gasolina 95</th>\n",
       "      <th>Media_Gasolina 98</th>\n",
       "    </tr>\n",
       "  </thead>\n",
       "  <tbody>\n",
       "    <tr>\n",
       "      <th>6555</th>\n",
       "      <td>08/11/2022 20:13:19</td>\n",
       "      <td>L-D: 24H</td>\n",
       "      <td>28500</td>\n",
       "      <td>MADRID</td>\n",
       "      <td>Arganda del Rey</td>\n",
       "      <td>ARGANDA</td>\n",
       "      <td>CAMINO CAMINO DE SAN MARTÍN DE LA VEGA A ARGAN...</td>\n",
       "      <td>BALLENOIL</td>\n",
       "      <td>1.899</td>\n",
       "      <td>NaN</td>\n",
       "      <td>NaN</td>\n",
       "      <td>1.669</td>\n",
       "      <td>NaN</td>\n",
       "      <td>1.94571</td>\n",
       "      <td>1.559088</td>\n",
       "      <td>2.042125</td>\n",
       "      <td>1.778614</td>\n",
       "      <td>1.931778</td>\n",
       "    </tr>\n",
       "    <tr>\n",
       "      <th>6556</th>\n",
       "      <td>08/11/2022 20:13:19</td>\n",
       "      <td>L-D: 24H</td>\n",
       "      <td>28500</td>\n",
       "      <td>MADRID</td>\n",
       "      <td>Arganda del Rey</td>\n",
       "      <td>ARGANDA</td>\n",
       "      <td>CAMINO SAN MARTIN DE LA VEGA, 8</td>\n",
       "      <td>BALLENOIL</td>\n",
       "      <td>1.899</td>\n",
       "      <td>NaN</td>\n",
       "      <td>NaN</td>\n",
       "      <td>1.669</td>\n",
       "      <td>NaN</td>\n",
       "      <td>1.94571</td>\n",
       "      <td>1.559088</td>\n",
       "      <td>2.042125</td>\n",
       "      <td>1.778614</td>\n",
       "      <td>1.931778</td>\n",
       "    </tr>\n",
       "    <tr>\n",
       "      <th>6557</th>\n",
       "      <td>08/11/2022 20:13:19</td>\n",
       "      <td>L-D: 24H</td>\n",
       "      <td>28500</td>\n",
       "      <td>MADRID</td>\n",
       "      <td>Arganda del Rey</td>\n",
       "      <td>ARGANDA</td>\n",
       "      <td>AVENIDA MADRID (DE), SN</td>\n",
       "      <td>PETROPRIX</td>\n",
       "      <td>1.899</td>\n",
       "      <td>NaN</td>\n",
       "      <td>NaN</td>\n",
       "      <td>1.649</td>\n",
       "      <td>NaN</td>\n",
       "      <td>1.94571</td>\n",
       "      <td>1.559088</td>\n",
       "      <td>2.042125</td>\n",
       "      <td>1.778614</td>\n",
       "      <td>1.931778</td>\n",
       "    </tr>\n",
       "    <tr>\n",
       "      <th>6558</th>\n",
       "      <td>08/11/2022 20:13:19</td>\n",
       "      <td>L-V: 06:00-22:00; S-D: 08:00-22:00</td>\n",
       "      <td>28500</td>\n",
       "      <td>MADRID</td>\n",
       "      <td>Arganda del Rey</td>\n",
       "      <td>ARGANDA</td>\n",
       "      <td>AVDA DE MADRID, 103</td>\n",
       "      <td>REPSOL</td>\n",
       "      <td>2.029</td>\n",
       "      <td>1.669</td>\n",
       "      <td>2.039</td>\n",
       "      <td>1.819</td>\n",
       "      <td>NaN</td>\n",
       "      <td>1.94571</td>\n",
       "      <td>1.559088</td>\n",
       "      <td>2.042125</td>\n",
       "      <td>1.778614</td>\n",
       "      <td>1.931778</td>\n",
       "    </tr>\n",
       "    <tr>\n",
       "      <th>6559</th>\n",
       "      <td>08/11/2022 20:13:19</td>\n",
       "      <td>L-D: 06:00-00:00</td>\n",
       "      <td>28500</td>\n",
       "      <td>MADRID</td>\n",
       "      <td>Arganda del Rey</td>\n",
       "      <td>ARGANDA</td>\n",
       "      <td>AVENIDA DE MADRID, 126</td>\n",
       "      <td>ATENOIL</td>\n",
       "      <td>1.939</td>\n",
       "      <td>NaN</td>\n",
       "      <td>1.949</td>\n",
       "      <td>1.729</td>\n",
       "      <td>NaN</td>\n",
       "      <td>1.94571</td>\n",
       "      <td>1.559088</td>\n",
       "      <td>2.042125</td>\n",
       "      <td>1.778614</td>\n",
       "      <td>1.931778</td>\n",
       "    </tr>\n",
       "    <tr>\n",
       "      <th>6560</th>\n",
       "      <td>08/11/2022 20:13:19</td>\n",
       "      <td>L-D: 24H</td>\n",
       "      <td>28500</td>\n",
       "      <td>MADRID</td>\n",
       "      <td>Arganda del Rey</td>\n",
       "      <td>ARGANDA</td>\n",
       "      <td>AVENIDA MADRID (DE), 66</td>\n",
       "      <td>PLENOIL</td>\n",
       "      <td>1.899</td>\n",
       "      <td>NaN</td>\n",
       "      <td>NaN</td>\n",
       "      <td>1.649</td>\n",
       "      <td>NaN</td>\n",
       "      <td>1.94571</td>\n",
       "      <td>1.559088</td>\n",
       "      <td>2.042125</td>\n",
       "      <td>1.778614</td>\n",
       "      <td>1.931778</td>\n",
       "    </tr>\n",
       "    <tr>\n",
       "      <th>6561</th>\n",
       "      <td>08/11/2022 20:13:19</td>\n",
       "      <td>L-D: 07:00-22:00</td>\n",
       "      <td>28500</td>\n",
       "      <td>MADRID</td>\n",
       "      <td>Arganda del Rey</td>\n",
       "      <td>ARGANDA</td>\n",
       "      <td>AVENIDA FINANZAUTO (DE), 2</td>\n",
       "      <td>DELFIOIL</td>\n",
       "      <td>1.899</td>\n",
       "      <td>NaN</td>\n",
       "      <td>NaN</td>\n",
       "      <td>1.669</td>\n",
       "      <td>NaN</td>\n",
       "      <td>1.94571</td>\n",
       "      <td>1.559088</td>\n",
       "      <td>2.042125</td>\n",
       "      <td>1.778614</td>\n",
       "      <td>1.931778</td>\n",
       "    </tr>\n",
       "    <tr>\n",
       "      <th>6562</th>\n",
       "      <td>08/11/2022 20:13:19</td>\n",
       "      <td>L: 24H</td>\n",
       "      <td>28500</td>\n",
       "      <td>MADRID</td>\n",
       "      <td>Arganda del Rey</td>\n",
       "      <td>ARGANDA</td>\n",
       "      <td>CARRETERA M-832 KM. 3</td>\n",
       "      <td>REPSOL</td>\n",
       "      <td>2.052</td>\n",
       "      <td>NaN</td>\n",
       "      <td>NaN</td>\n",
       "      <td>1.802</td>\n",
       "      <td>NaN</td>\n",
       "      <td>1.94571</td>\n",
       "      <td>1.559088</td>\n",
       "      <td>2.042125</td>\n",
       "      <td>1.778614</td>\n",
       "      <td>1.931778</td>\n",
       "    </tr>\n",
       "    <tr>\n",
       "      <th>6563</th>\n",
       "      <td>08/11/2022 20:13:19</td>\n",
       "      <td>L-D: 24H</td>\n",
       "      <td>28500</td>\n",
       "      <td>MADRID</td>\n",
       "      <td>Arganda del Rey</td>\n",
       "      <td>ARGANDA</td>\n",
       "      <td>CARRETERA M-832 KM. 3</td>\n",
       "      <td>REPSOL</td>\n",
       "      <td>2.052</td>\n",
       "      <td>NaN</td>\n",
       "      <td>2.122</td>\n",
       "      <td>1.802</td>\n",
       "      <td>NaN</td>\n",
       "      <td>1.94571</td>\n",
       "      <td>1.559088</td>\n",
       "      <td>2.042125</td>\n",
       "      <td>1.778614</td>\n",
       "      <td>1.931778</td>\n",
       "    </tr>\n",
       "    <tr>\n",
       "      <th>6564</th>\n",
       "      <td>08/11/2022 20:13:19</td>\n",
       "      <td>L-D: 24H</td>\n",
       "      <td>28500</td>\n",
       "      <td>MADRID</td>\n",
       "      <td>Arganda del Rey</td>\n",
       "      <td>ARGANDA</td>\n",
       "      <td>AVENIDA VALDEARGANDA, 8</td>\n",
       "      <td>CEPSA</td>\n",
       "      <td>2.035</td>\n",
       "      <td>NaN</td>\n",
       "      <td>2.135</td>\n",
       "      <td>1.829</td>\n",
       "      <td>1.961</td>\n",
       "      <td>1.94571</td>\n",
       "      <td>1.559088</td>\n",
       "      <td>2.042125</td>\n",
       "      <td>1.778614</td>\n",
       "      <td>1.931778</td>\n",
       "    </tr>\n",
       "    <tr>\n",
       "      <th>6565</th>\n",
       "      <td>08/11/2022 20:13:19</td>\n",
       "      <td>L-D: 24H</td>\n",
       "      <td>28500</td>\n",
       "      <td>MADRID</td>\n",
       "      <td>Arganda del Rey</td>\n",
       "      <td>ARGANDA</td>\n",
       "      <td>AVENIDA EJERCITO (DEL), 44</td>\n",
       "      <td>BP ARGANDA</td>\n",
       "      <td>2.019</td>\n",
       "      <td>NaN</td>\n",
       "      <td>2.109</td>\n",
       "      <td>1.819</td>\n",
       "      <td>1.961</td>\n",
       "      <td>1.94571</td>\n",
       "      <td>1.559088</td>\n",
       "      <td>2.042125</td>\n",
       "      <td>1.778614</td>\n",
       "      <td>1.931778</td>\n",
       "    </tr>\n",
       "    <tr>\n",
       "      <th>6566</th>\n",
       "      <td>08/11/2022 20:13:19</td>\n",
       "      <td>L-D: 06:00-22:00</td>\n",
       "      <td>28500</td>\n",
       "      <td>MADRID</td>\n",
       "      <td>Arganda del Rey</td>\n",
       "      <td>ARGANDA</td>\n",
       "      <td>AVENIDA DE MADRID, 37</td>\n",
       "      <td>BP LA ARGANDEÑA</td>\n",
       "      <td>2.019</td>\n",
       "      <td>NaN</td>\n",
       "      <td>2.109</td>\n",
       "      <td>1.819</td>\n",
       "      <td>1.961</td>\n",
       "      <td>1.94571</td>\n",
       "      <td>1.559088</td>\n",
       "      <td>2.042125</td>\n",
       "      <td>1.778614</td>\n",
       "      <td>1.931778</td>\n",
       "    </tr>\n",
       "  </tbody>\n",
       "</table>\n",
       "</div>"
      ],
      "text/plain": [
       "                    Fecha                             Horario   C.P.  \\\n",
       "6555  08/11/2022 20:13:19                            L-D: 24H  28500   \n",
       "6556  08/11/2022 20:13:19                            L-D: 24H  28500   \n",
       "6557  08/11/2022 20:13:19                            L-D: 24H  28500   \n",
       "6558  08/11/2022 20:13:19  L-V: 06:00-22:00; S-D: 08:00-22:00  28500   \n",
       "6559  08/11/2022 20:13:19                    L-D: 06:00-00:00  28500   \n",
       "6560  08/11/2022 20:13:19                            L-D: 24H  28500   \n",
       "6561  08/11/2022 20:13:19                    L-D: 07:00-22:00  28500   \n",
       "6562  08/11/2022 20:13:19                              L: 24H  28500   \n",
       "6563  08/11/2022 20:13:19                            L-D: 24H  28500   \n",
       "6564  08/11/2022 20:13:19                            L-D: 24H  28500   \n",
       "6565  08/11/2022 20:13:19                            L-D: 24H  28500   \n",
       "6566  08/11/2022 20:13:19                    L-D: 06:00-22:00  28500   \n",
       "\n",
       "     Provincia        Municipio Localidad  \\\n",
       "6555    MADRID  Arganda del Rey   ARGANDA   \n",
       "6556    MADRID  Arganda del Rey   ARGANDA   \n",
       "6557    MADRID  Arganda del Rey   ARGANDA   \n",
       "6558    MADRID  Arganda del Rey   ARGANDA   \n",
       "6559    MADRID  Arganda del Rey   ARGANDA   \n",
       "6560    MADRID  Arganda del Rey   ARGANDA   \n",
       "6561    MADRID  Arganda del Rey   ARGANDA   \n",
       "6562    MADRID  Arganda del Rey   ARGANDA   \n",
       "6563    MADRID  Arganda del Rey   ARGANDA   \n",
       "6564    MADRID  Arganda del Rey   ARGANDA   \n",
       "6565    MADRID  Arganda del Rey   ARGANDA   \n",
       "6566    MADRID  Arganda del Rey   ARGANDA   \n",
       "\n",
       "                                              Dirección Proveedor de Servicio  \\\n",
       "6555  CAMINO CAMINO DE SAN MARTÍN DE LA VEGA A ARGAN...             BALLENOIL   \n",
       "6556                    CAMINO SAN MARTIN DE LA VEGA, 8             BALLENOIL   \n",
       "6557                            AVENIDA MADRID (DE), SN             PETROPRIX   \n",
       "6558                                AVDA DE MADRID, 103                REPSOL   \n",
       "6559                             AVENIDA DE MADRID, 126               ATENOIL   \n",
       "6560                            AVENIDA MADRID (DE), 66               PLENOIL   \n",
       "6561                         AVENIDA FINANZAUTO (DE), 2              DELFIOIL   \n",
       "6562                              CARRETERA M-832 KM. 3                REPSOL   \n",
       "6563                              CARRETERA M-832 KM. 3                REPSOL   \n",
       "6564                            AVENIDA VALDEARGANDA, 8                 CEPSA   \n",
       "6565                         AVENIDA EJERCITO (DEL), 44            BP ARGANDA   \n",
       "6566                              AVENIDA DE MADRID, 37       BP LA ARGANDEÑA   \n",
       "\n",
       "      Gasoleo A  Gasoleo B  Gasoleo Premium  Gasolina 95 E5  Gasolina 98 E5  \\\n",
       "6555      1.899        NaN              NaN           1.669             NaN   \n",
       "6556      1.899        NaN              NaN           1.669             NaN   \n",
       "6557      1.899        NaN              NaN           1.649             NaN   \n",
       "6558      2.029      1.669            2.039           1.819             NaN   \n",
       "6559      1.939        NaN            1.949           1.729             NaN   \n",
       "6560      1.899        NaN              NaN           1.649             NaN   \n",
       "6561      1.899        NaN              NaN           1.669             NaN   \n",
       "6562      2.052        NaN              NaN           1.802             NaN   \n",
       "6563      2.052        NaN            2.122           1.802             NaN   \n",
       "6564      2.035        NaN            2.135           1.829           1.961   \n",
       "6565      2.019        NaN            2.109           1.819           1.961   \n",
       "6566      2.019        NaN            2.109           1.819           1.961   \n",
       "\n",
       "      Media_Gasoleo A  Media_Gasoleo B  Media_Gasoleo Prem  Media_Gasolina 95  \\\n",
       "6555          1.94571         1.559088            2.042125           1.778614   \n",
       "6556          1.94571         1.559088            2.042125           1.778614   \n",
       "6557          1.94571         1.559088            2.042125           1.778614   \n",
       "6558          1.94571         1.559088            2.042125           1.778614   \n",
       "6559          1.94571         1.559088            2.042125           1.778614   \n",
       "6560          1.94571         1.559088            2.042125           1.778614   \n",
       "6561          1.94571         1.559088            2.042125           1.778614   \n",
       "6562          1.94571         1.559088            2.042125           1.778614   \n",
       "6563          1.94571         1.559088            2.042125           1.778614   \n",
       "6564          1.94571         1.559088            2.042125           1.778614   \n",
       "6565          1.94571         1.559088            2.042125           1.778614   \n",
       "6566          1.94571         1.559088            2.042125           1.778614   \n",
       "\n",
       "      Media_Gasolina 98  \n",
       "6555           1.931778  \n",
       "6556           1.931778  \n",
       "6557           1.931778  \n",
       "6558           1.931778  \n",
       "6559           1.931778  \n",
       "6560           1.931778  \n",
       "6561           1.931778  \n",
       "6562           1.931778  \n",
       "6563           1.931778  \n",
       "6564           1.931778  \n",
       "6565           1.931778  \n",
       "6566           1.931778  "
      ]
     },
     "execution_count": 136,
     "metadata": {},
     "output_type": "execute_result"
    }
   ],
   "source": [
    "df_n[df_n['C.P.'] == \"28500\"]"
   ]
  },
  {
   "cell_type": "code",
   "execution_count": 137,
   "id": "2b4ed723",
   "metadata": {},
   "outputs": [
    {
     "data": {
      "text/html": [
       "<div>\n",
       "<style scoped>\n",
       "    .dataframe tbody tr th:only-of-type {\n",
       "        vertical-align: middle;\n",
       "    }\n",
       "\n",
       "    .dataframe tbody tr th {\n",
       "        vertical-align: top;\n",
       "    }\n",
       "\n",
       "    .dataframe thead th {\n",
       "        text-align: right;\n",
       "    }\n",
       "</style>\n",
       "<table border=\"1\" class=\"dataframe\">\n",
       "  <thead>\n",
       "    <tr style=\"text-align: right;\">\n",
       "      <th></th>\n",
       "      <th>Fecha</th>\n",
       "      <th>Horario</th>\n",
       "      <th>C.P.</th>\n",
       "      <th>Provincia</th>\n",
       "      <th>Municipio</th>\n",
       "      <th>Localidad</th>\n",
       "      <th>Dirección</th>\n",
       "      <th>Proveedor de Servicio</th>\n",
       "      <th>Gasoleo A</th>\n",
       "      <th>Gasoleo B</th>\n",
       "      <th>Gasoleo Premium</th>\n",
       "      <th>Gasolina 95 E5</th>\n",
       "      <th>Gasolina 98 E5</th>\n",
       "      <th>Media_Gasoleo A</th>\n",
       "      <th>Media_Gasoleo B</th>\n",
       "      <th>Media_Gasoleo Prem</th>\n",
       "      <th>Media_Gasolina 95</th>\n",
       "      <th>Media_Gasolina 98</th>\n",
       "    </tr>\n",
       "  </thead>\n",
       "  <tbody>\n",
       "    <tr>\n",
       "      <th>6555</th>\n",
       "      <td>08/11/2022 20:13:19</td>\n",
       "      <td>L-D: 24H</td>\n",
       "      <td>28500</td>\n",
       "      <td>MADRID</td>\n",
       "      <td>Arganda del Rey</td>\n",
       "      <td>ARGANDA</td>\n",
       "      <td>CAMINO CAMINO DE SAN MARTÍN DE LA VEGA A ARGAN...</td>\n",
       "      <td>BALLENOIL</td>\n",
       "      <td>1.899</td>\n",
       "      <td>NaN</td>\n",
       "      <td>NaN</td>\n",
       "      <td>1.669</td>\n",
       "      <td>NaN</td>\n",
       "      <td>1.94571</td>\n",
       "      <td>1.559088</td>\n",
       "      <td>2.042125</td>\n",
       "      <td>1.778614</td>\n",
       "      <td>1.931778</td>\n",
       "    </tr>\n",
       "    <tr>\n",
       "      <th>6556</th>\n",
       "      <td>08/11/2022 20:13:19</td>\n",
       "      <td>L-D: 24H</td>\n",
       "      <td>28500</td>\n",
       "      <td>MADRID</td>\n",
       "      <td>Arganda del Rey</td>\n",
       "      <td>ARGANDA</td>\n",
       "      <td>CAMINO SAN MARTIN DE LA VEGA, 8</td>\n",
       "      <td>BALLENOIL</td>\n",
       "      <td>1.899</td>\n",
       "      <td>NaN</td>\n",
       "      <td>NaN</td>\n",
       "      <td>1.669</td>\n",
       "      <td>NaN</td>\n",
       "      <td>1.94571</td>\n",
       "      <td>1.559088</td>\n",
       "      <td>2.042125</td>\n",
       "      <td>1.778614</td>\n",
       "      <td>1.931778</td>\n",
       "    </tr>\n",
       "    <tr>\n",
       "      <th>6557</th>\n",
       "      <td>08/11/2022 20:13:19</td>\n",
       "      <td>L-D: 24H</td>\n",
       "      <td>28500</td>\n",
       "      <td>MADRID</td>\n",
       "      <td>Arganda del Rey</td>\n",
       "      <td>ARGANDA</td>\n",
       "      <td>AVENIDA MADRID (DE), SN</td>\n",
       "      <td>PETROPRIX</td>\n",
       "      <td>1.899</td>\n",
       "      <td>NaN</td>\n",
       "      <td>NaN</td>\n",
       "      <td>1.649</td>\n",
       "      <td>NaN</td>\n",
       "      <td>1.94571</td>\n",
       "      <td>1.559088</td>\n",
       "      <td>2.042125</td>\n",
       "      <td>1.778614</td>\n",
       "      <td>1.931778</td>\n",
       "    </tr>\n",
       "    <tr>\n",
       "      <th>6558</th>\n",
       "      <td>08/11/2022 20:13:19</td>\n",
       "      <td>L-V: 06:00-22:00; S-D: 08:00-22:00</td>\n",
       "      <td>28500</td>\n",
       "      <td>MADRID</td>\n",
       "      <td>Arganda del Rey</td>\n",
       "      <td>ARGANDA</td>\n",
       "      <td>AVDA DE MADRID, 103</td>\n",
       "      <td>REPSOL</td>\n",
       "      <td>2.029</td>\n",
       "      <td>1.669</td>\n",
       "      <td>2.039</td>\n",
       "      <td>1.819</td>\n",
       "      <td>NaN</td>\n",
       "      <td>1.94571</td>\n",
       "      <td>1.559088</td>\n",
       "      <td>2.042125</td>\n",
       "      <td>1.778614</td>\n",
       "      <td>1.931778</td>\n",
       "    </tr>\n",
       "    <tr>\n",
       "      <th>6559</th>\n",
       "      <td>08/11/2022 20:13:19</td>\n",
       "      <td>L-D: 06:00-00:00</td>\n",
       "      <td>28500</td>\n",
       "      <td>MADRID</td>\n",
       "      <td>Arganda del Rey</td>\n",
       "      <td>ARGANDA</td>\n",
       "      <td>AVENIDA DE MADRID, 126</td>\n",
       "      <td>ATENOIL</td>\n",
       "      <td>1.939</td>\n",
       "      <td>NaN</td>\n",
       "      <td>1.949</td>\n",
       "      <td>1.729</td>\n",
       "      <td>NaN</td>\n",
       "      <td>1.94571</td>\n",
       "      <td>1.559088</td>\n",
       "      <td>2.042125</td>\n",
       "      <td>1.778614</td>\n",
       "      <td>1.931778</td>\n",
       "    </tr>\n",
       "    <tr>\n",
       "      <th>6560</th>\n",
       "      <td>08/11/2022 20:13:19</td>\n",
       "      <td>L-D: 24H</td>\n",
       "      <td>28500</td>\n",
       "      <td>MADRID</td>\n",
       "      <td>Arganda del Rey</td>\n",
       "      <td>ARGANDA</td>\n",
       "      <td>AVENIDA MADRID (DE), 66</td>\n",
       "      <td>PLENOIL</td>\n",
       "      <td>1.899</td>\n",
       "      <td>NaN</td>\n",
       "      <td>NaN</td>\n",
       "      <td>1.649</td>\n",
       "      <td>NaN</td>\n",
       "      <td>1.94571</td>\n",
       "      <td>1.559088</td>\n",
       "      <td>2.042125</td>\n",
       "      <td>1.778614</td>\n",
       "      <td>1.931778</td>\n",
       "    </tr>\n",
       "    <tr>\n",
       "      <th>6561</th>\n",
       "      <td>08/11/2022 20:13:19</td>\n",
       "      <td>L-D: 07:00-22:00</td>\n",
       "      <td>28500</td>\n",
       "      <td>MADRID</td>\n",
       "      <td>Arganda del Rey</td>\n",
       "      <td>ARGANDA</td>\n",
       "      <td>AVENIDA FINANZAUTO (DE), 2</td>\n",
       "      <td>DELFIOIL</td>\n",
       "      <td>1.899</td>\n",
       "      <td>NaN</td>\n",
       "      <td>NaN</td>\n",
       "      <td>1.669</td>\n",
       "      <td>NaN</td>\n",
       "      <td>1.94571</td>\n",
       "      <td>1.559088</td>\n",
       "      <td>2.042125</td>\n",
       "      <td>1.778614</td>\n",
       "      <td>1.931778</td>\n",
       "    </tr>\n",
       "    <tr>\n",
       "      <th>6562</th>\n",
       "      <td>08/11/2022 20:13:19</td>\n",
       "      <td>L: 24H</td>\n",
       "      <td>28500</td>\n",
       "      <td>MADRID</td>\n",
       "      <td>Arganda del Rey</td>\n",
       "      <td>ARGANDA</td>\n",
       "      <td>CARRETERA M-832 KM. 3</td>\n",
       "      <td>REPSOL</td>\n",
       "      <td>2.052</td>\n",
       "      <td>NaN</td>\n",
       "      <td>NaN</td>\n",
       "      <td>1.802</td>\n",
       "      <td>NaN</td>\n",
       "      <td>1.94571</td>\n",
       "      <td>1.559088</td>\n",
       "      <td>2.042125</td>\n",
       "      <td>1.778614</td>\n",
       "      <td>1.931778</td>\n",
       "    </tr>\n",
       "    <tr>\n",
       "      <th>6563</th>\n",
       "      <td>08/11/2022 20:13:19</td>\n",
       "      <td>L-D: 24H</td>\n",
       "      <td>28500</td>\n",
       "      <td>MADRID</td>\n",
       "      <td>Arganda del Rey</td>\n",
       "      <td>ARGANDA</td>\n",
       "      <td>CARRETERA M-832 KM. 3</td>\n",
       "      <td>REPSOL</td>\n",
       "      <td>2.052</td>\n",
       "      <td>NaN</td>\n",
       "      <td>2.122</td>\n",
       "      <td>1.802</td>\n",
       "      <td>NaN</td>\n",
       "      <td>1.94571</td>\n",
       "      <td>1.559088</td>\n",
       "      <td>2.042125</td>\n",
       "      <td>1.778614</td>\n",
       "      <td>1.931778</td>\n",
       "    </tr>\n",
       "    <tr>\n",
       "      <th>6564</th>\n",
       "      <td>08/11/2022 20:13:19</td>\n",
       "      <td>L-D: 24H</td>\n",
       "      <td>28500</td>\n",
       "      <td>MADRID</td>\n",
       "      <td>Arganda del Rey</td>\n",
       "      <td>ARGANDA</td>\n",
       "      <td>AVENIDA VALDEARGANDA, 8</td>\n",
       "      <td>CEPSA</td>\n",
       "      <td>2.035</td>\n",
       "      <td>NaN</td>\n",
       "      <td>2.135</td>\n",
       "      <td>1.829</td>\n",
       "      <td>1.961</td>\n",
       "      <td>1.94571</td>\n",
       "      <td>1.559088</td>\n",
       "      <td>2.042125</td>\n",
       "      <td>1.778614</td>\n",
       "      <td>1.931778</td>\n",
       "    </tr>\n",
       "    <tr>\n",
       "      <th>6565</th>\n",
       "      <td>08/11/2022 20:13:19</td>\n",
       "      <td>L-D: 24H</td>\n",
       "      <td>28500</td>\n",
       "      <td>MADRID</td>\n",
       "      <td>Arganda del Rey</td>\n",
       "      <td>ARGANDA</td>\n",
       "      <td>AVENIDA EJERCITO (DEL), 44</td>\n",
       "      <td>BP ARGANDA</td>\n",
       "      <td>2.019</td>\n",
       "      <td>NaN</td>\n",
       "      <td>2.109</td>\n",
       "      <td>1.819</td>\n",
       "      <td>1.961</td>\n",
       "      <td>1.94571</td>\n",
       "      <td>1.559088</td>\n",
       "      <td>2.042125</td>\n",
       "      <td>1.778614</td>\n",
       "      <td>1.931778</td>\n",
       "    </tr>\n",
       "    <tr>\n",
       "      <th>6566</th>\n",
       "      <td>08/11/2022 20:13:19</td>\n",
       "      <td>L-D: 06:00-22:00</td>\n",
       "      <td>28500</td>\n",
       "      <td>MADRID</td>\n",
       "      <td>Arganda del Rey</td>\n",
       "      <td>ARGANDA</td>\n",
       "      <td>AVENIDA DE MADRID, 37</td>\n",
       "      <td>BP LA ARGANDEÑA</td>\n",
       "      <td>2.019</td>\n",
       "      <td>NaN</td>\n",
       "      <td>2.109</td>\n",
       "      <td>1.819</td>\n",
       "      <td>1.961</td>\n",
       "      <td>1.94571</td>\n",
       "      <td>1.559088</td>\n",
       "      <td>2.042125</td>\n",
       "      <td>1.778614</td>\n",
       "      <td>1.931778</td>\n",
       "    </tr>\n",
       "  </tbody>\n",
       "</table>\n",
       "</div>"
      ],
      "text/plain": [
       "                    Fecha                             Horario   C.P.  \\\n",
       "6555  08/11/2022 20:13:19                            L-D: 24H  28500   \n",
       "6556  08/11/2022 20:13:19                            L-D: 24H  28500   \n",
       "6557  08/11/2022 20:13:19                            L-D: 24H  28500   \n",
       "6558  08/11/2022 20:13:19  L-V: 06:00-22:00; S-D: 08:00-22:00  28500   \n",
       "6559  08/11/2022 20:13:19                    L-D: 06:00-00:00  28500   \n",
       "6560  08/11/2022 20:13:19                            L-D: 24H  28500   \n",
       "6561  08/11/2022 20:13:19                    L-D: 07:00-22:00  28500   \n",
       "6562  08/11/2022 20:13:19                              L: 24H  28500   \n",
       "6563  08/11/2022 20:13:19                            L-D: 24H  28500   \n",
       "6564  08/11/2022 20:13:19                            L-D: 24H  28500   \n",
       "6565  08/11/2022 20:13:19                            L-D: 24H  28500   \n",
       "6566  08/11/2022 20:13:19                    L-D: 06:00-22:00  28500   \n",
       "\n",
       "     Provincia        Municipio Localidad  \\\n",
       "6555    MADRID  Arganda del Rey   ARGANDA   \n",
       "6556    MADRID  Arganda del Rey   ARGANDA   \n",
       "6557    MADRID  Arganda del Rey   ARGANDA   \n",
       "6558    MADRID  Arganda del Rey   ARGANDA   \n",
       "6559    MADRID  Arganda del Rey   ARGANDA   \n",
       "6560    MADRID  Arganda del Rey   ARGANDA   \n",
       "6561    MADRID  Arganda del Rey   ARGANDA   \n",
       "6562    MADRID  Arganda del Rey   ARGANDA   \n",
       "6563    MADRID  Arganda del Rey   ARGANDA   \n",
       "6564    MADRID  Arganda del Rey   ARGANDA   \n",
       "6565    MADRID  Arganda del Rey   ARGANDA   \n",
       "6566    MADRID  Arganda del Rey   ARGANDA   \n",
       "\n",
       "                                              Dirección Proveedor de Servicio  \\\n",
       "6555  CAMINO CAMINO DE SAN MARTÍN DE LA VEGA A ARGAN...             BALLENOIL   \n",
       "6556                    CAMINO SAN MARTIN DE LA VEGA, 8             BALLENOIL   \n",
       "6557                            AVENIDA MADRID (DE), SN             PETROPRIX   \n",
       "6558                                AVDA DE MADRID, 103                REPSOL   \n",
       "6559                             AVENIDA DE MADRID, 126               ATENOIL   \n",
       "6560                            AVENIDA MADRID (DE), 66               PLENOIL   \n",
       "6561                         AVENIDA FINANZAUTO (DE), 2              DELFIOIL   \n",
       "6562                              CARRETERA M-832 KM. 3                REPSOL   \n",
       "6563                              CARRETERA M-832 KM. 3                REPSOL   \n",
       "6564                            AVENIDA VALDEARGANDA, 8                 CEPSA   \n",
       "6565                         AVENIDA EJERCITO (DEL), 44            BP ARGANDA   \n",
       "6566                              AVENIDA DE MADRID, 37       BP LA ARGANDEÑA   \n",
       "\n",
       "      Gasoleo A  Gasoleo B  Gasoleo Premium  Gasolina 95 E5  Gasolina 98 E5  \\\n",
       "6555      1.899        NaN              NaN           1.669             NaN   \n",
       "6556      1.899        NaN              NaN           1.669             NaN   \n",
       "6557      1.899        NaN              NaN           1.649             NaN   \n",
       "6558      2.029      1.669            2.039           1.819             NaN   \n",
       "6559      1.939        NaN            1.949           1.729             NaN   \n",
       "6560      1.899        NaN              NaN           1.649             NaN   \n",
       "6561      1.899        NaN              NaN           1.669             NaN   \n",
       "6562      2.052        NaN              NaN           1.802             NaN   \n",
       "6563      2.052        NaN            2.122           1.802             NaN   \n",
       "6564      2.035        NaN            2.135           1.829           1.961   \n",
       "6565      2.019        NaN            2.109           1.819           1.961   \n",
       "6566      2.019        NaN            2.109           1.819           1.961   \n",
       "\n",
       "      Media_Gasoleo A  Media_Gasoleo B  Media_Gasoleo Prem  Media_Gasolina 95  \\\n",
       "6555          1.94571         1.559088            2.042125           1.778614   \n",
       "6556          1.94571         1.559088            2.042125           1.778614   \n",
       "6557          1.94571         1.559088            2.042125           1.778614   \n",
       "6558          1.94571         1.559088            2.042125           1.778614   \n",
       "6559          1.94571         1.559088            2.042125           1.778614   \n",
       "6560          1.94571         1.559088            2.042125           1.778614   \n",
       "6561          1.94571         1.559088            2.042125           1.778614   \n",
       "6562          1.94571         1.559088            2.042125           1.778614   \n",
       "6563          1.94571         1.559088            2.042125           1.778614   \n",
       "6564          1.94571         1.559088            2.042125           1.778614   \n",
       "6565          1.94571         1.559088            2.042125           1.778614   \n",
       "6566          1.94571         1.559088            2.042125           1.778614   \n",
       "\n",
       "      Media_Gasolina 98  \n",
       "6555           1.931778  \n",
       "6556           1.931778  \n",
       "6557           1.931778  \n",
       "6558           1.931778  \n",
       "6559           1.931778  \n",
       "6560           1.931778  \n",
       "6561           1.931778  \n",
       "6562           1.931778  \n",
       "6563           1.931778  \n",
       "6564           1.931778  \n",
       "6565           1.931778  \n",
       "6566           1.931778  "
      ]
     },
     "execution_count": 137,
     "metadata": {},
     "output_type": "execute_result"
    }
   ],
   "source": [
    "# Comprobación\n",
    "x1 = df_n[\"C.P.\"]=='28500'\n",
    "x2 = df_n[x1]\n",
    "x2"
   ]
  },
  {
   "cell_type": "code",
   "execution_count": 138,
   "id": "76cc76f7",
   "metadata": {},
   "outputs": [],
   "source": [
    "# Precio mínimo de combstible en una Provincia  \n",
    "def provincia_minimo(x, y):\n",
    "# x = Provincia\n",
    "# y = tipo de combustible     \n",
    "    provincia = df_n[df_n[\"Provincia\"] == x]\n",
    "    minimo_prov = provincia.loc[provincia[[y]].idxmin()]\n",
    "    return minimo_prov"
   ]
  },
  {
   "cell_type": "code",
   "execution_count": 139,
   "id": "9e76f0ba",
   "metadata": {},
   "outputs": [
    {
     "data": {
      "text/html": [
       "<div>\n",
       "<style scoped>\n",
       "    .dataframe tbody tr th:only-of-type {\n",
       "        vertical-align: middle;\n",
       "    }\n",
       "\n",
       "    .dataframe tbody tr th {\n",
       "        vertical-align: top;\n",
       "    }\n",
       "\n",
       "    .dataframe thead th {\n",
       "        text-align: right;\n",
       "    }\n",
       "</style>\n",
       "<table border=\"1\" class=\"dataframe\">\n",
       "  <thead>\n",
       "    <tr style=\"text-align: right;\">\n",
       "      <th></th>\n",
       "      <th>Fecha</th>\n",
       "      <th>Horario</th>\n",
       "      <th>C.P.</th>\n",
       "      <th>Provincia</th>\n",
       "      <th>Municipio</th>\n",
       "      <th>Localidad</th>\n",
       "      <th>Dirección</th>\n",
       "      <th>Proveedor de Servicio</th>\n",
       "      <th>Gasoleo A</th>\n",
       "      <th>Gasoleo B</th>\n",
       "      <th>Gasoleo Premium</th>\n",
       "      <th>Gasolina 95 E5</th>\n",
       "      <th>Gasolina 98 E5</th>\n",
       "      <th>Media_Gasoleo A</th>\n",
       "      <th>Media_Gasoleo B</th>\n",
       "      <th>Media_Gasoleo Prem</th>\n",
       "      <th>Media_Gasolina 95</th>\n",
       "      <th>Media_Gasolina 98</th>\n",
       "    </tr>\n",
       "  </thead>\n",
       "  <tbody>\n",
       "    <tr>\n",
       "      <th>6656</th>\n",
       "      <td>08/11/2022 20:13:19</td>\n",
       "      <td>L-D: 24H</td>\n",
       "      <td>28944</td>\n",
       "      <td>MADRID</td>\n",
       "      <td>Fuenlabrada</td>\n",
       "      <td>FUENLABRADA</td>\n",
       "      <td>CALLE ANETO, 1</td>\n",
       "      <td>BALLENOIL</td>\n",
       "      <td>1.765</td>\n",
       "      <td>NaN</td>\n",
       "      <td>NaN</td>\n",
       "      <td>1.565</td>\n",
       "      <td>NaN</td>\n",
       "      <td>1.94571</td>\n",
       "      <td>1.559088</td>\n",
       "      <td>2.042125</td>\n",
       "      <td>1.778614</td>\n",
       "      <td>1.931778</td>\n",
       "    </tr>\n",
       "  </tbody>\n",
       "</table>\n",
       "</div>"
      ],
      "text/plain": [
       "                    Fecha   Horario   C.P. Provincia    Municipio  \\\n",
       "6656  08/11/2022 20:13:19  L-D: 24H  28944    MADRID  Fuenlabrada   \n",
       "\n",
       "        Localidad       Dirección Proveedor de Servicio  Gasoleo A  Gasoleo B  \\\n",
       "6656  FUENLABRADA  CALLE ANETO, 1             BALLENOIL      1.765        NaN   \n",
       "\n",
       "      Gasoleo Premium  Gasolina 95 E5  Gasolina 98 E5  Media_Gasoleo A  \\\n",
       "6656              NaN           1.565             NaN          1.94571   \n",
       "\n",
       "      Media_Gasoleo B  Media_Gasoleo Prem  Media_Gasolina 95  \\\n",
       "6656         1.559088            2.042125           1.778614   \n",
       "\n",
       "      Media_Gasolina 98  \n",
       "6656           1.931778  "
      ]
     },
     "execution_count": 139,
     "metadata": {},
     "output_type": "execute_result"
    }
   ],
   "source": [
    "provincia_minimo('MADRID', 'Gasoleo A')"
   ]
  },
  {
   "cell_type": "code",
   "execution_count": 140,
   "id": "94daf5b4",
   "metadata": {},
   "outputs": [],
   "source": [
    "# Precio mínimo de combstible en un Municipio  \n",
    "def municipio_minimo(x, y):\n",
    "# x = Municipio\n",
    "# y = Tipo de Combustible    \n",
    "    municipio = df_n[df_n[\"Municipio\"] == x]\n",
    "    municipio_min = municipio.loc[municipio[[y]].idxmin()]\n",
    "    return municipio"
   ]
  },
  {
   "cell_type": "code",
   "execution_count": 141,
   "id": "870d8abe",
   "metadata": {},
   "outputs": [
    {
     "data": {
      "text/html": [
       "<div>\n",
       "<style scoped>\n",
       "    .dataframe tbody tr th:only-of-type {\n",
       "        vertical-align: middle;\n",
       "    }\n",
       "\n",
       "    .dataframe tbody tr th {\n",
       "        vertical-align: top;\n",
       "    }\n",
       "\n",
       "    .dataframe thead th {\n",
       "        text-align: right;\n",
       "    }\n",
       "</style>\n",
       "<table border=\"1\" class=\"dataframe\">\n",
       "  <thead>\n",
       "    <tr style=\"text-align: right;\">\n",
       "      <th></th>\n",
       "      <th>Fecha</th>\n",
       "      <th>Horario</th>\n",
       "      <th>C.P.</th>\n",
       "      <th>Provincia</th>\n",
       "      <th>Municipio</th>\n",
       "      <th>Localidad</th>\n",
       "      <th>Dirección</th>\n",
       "      <th>Proveedor de Servicio</th>\n",
       "      <th>Gasoleo A</th>\n",
       "      <th>Gasoleo B</th>\n",
       "      <th>Gasoleo Premium</th>\n",
       "      <th>Gasolina 95 E5</th>\n",
       "      <th>Gasolina 98 E5</th>\n",
       "      <th>Media_Gasoleo A</th>\n",
       "      <th>Media_Gasoleo B</th>\n",
       "      <th>Media_Gasoleo Prem</th>\n",
       "      <th>Media_Gasolina 95</th>\n",
       "      <th>Media_Gasolina 98</th>\n",
       "    </tr>\n",
       "  </thead>\n",
       "  <tbody>\n",
       "    <tr>\n",
       "      <th>6587</th>\n",
       "      <td>08/11/2022 20:13:19</td>\n",
       "      <td>L-S: 7:30-20:30; D: 8:30-20:00</td>\n",
       "      <td>28470</td>\n",
       "      <td>MADRID</td>\n",
       "      <td>Cercedilla</td>\n",
       "      <td>CERCEDILLA</td>\n",
       "      <td>CARRETERA M 622 (CARRETERA GUADARRAMA A LA FUE...</td>\n",
       "      <td>REPSOL</td>\n",
       "      <td>1.999</td>\n",
       "      <td>NaN</td>\n",
       "      <td>NaN</td>\n",
       "      <td>1.789</td>\n",
       "      <td>NaN</td>\n",
       "      <td>1.94571</td>\n",
       "      <td>1.559088</td>\n",
       "      <td>2.042125</td>\n",
       "      <td>1.778614</td>\n",
       "      <td>1.931778</td>\n",
       "    </tr>\n",
       "  </tbody>\n",
       "</table>\n",
       "</div>"
      ],
      "text/plain": [
       "                    Fecha                         Horario   C.P. Provincia  \\\n",
       "6587  08/11/2022 20:13:19  L-S: 7:30-20:30; D: 8:30-20:00  28470    MADRID   \n",
       "\n",
       "       Municipio   Localidad  \\\n",
       "6587  Cercedilla  CERCEDILLA   \n",
       "\n",
       "                                              Dirección Proveedor de Servicio  \\\n",
       "6587  CARRETERA M 622 (CARRETERA GUADARRAMA A LA FUE...                REPSOL   \n",
       "\n",
       "      Gasoleo A  Gasoleo B  Gasoleo Premium  Gasolina 95 E5  Gasolina 98 E5  \\\n",
       "6587      1.999        NaN              NaN           1.789             NaN   \n",
       "\n",
       "      Media_Gasoleo A  Media_Gasoleo B  Media_Gasoleo Prem  Media_Gasolina 95  \\\n",
       "6587          1.94571         1.559088            2.042125           1.778614   \n",
       "\n",
       "      Media_Gasolina 98  \n",
       "6587           1.931778  "
      ]
     },
     "execution_count": 141,
     "metadata": {},
     "output_type": "execute_result"
    }
   ],
   "source": [
    "municipio_minimo('Cercedilla', 'Gasoleo A')"
   ]
  },
  {
   "cell_type": "code",
   "execution_count": 142,
   "id": "9f08be70",
   "metadata": {},
   "outputs": [],
   "source": [
    "# # Precio mínimo de combstible en un proveedor de estación de servicio  \n",
    "def gasolinera_minimo(x, y):\n",
    "# x = Proveedor de estación de servicio\n",
    "# Y = Tipo de Combustible    \n",
    "    proveedor = df_n[df_n[\"Proveedor de Servicio\"] == x]\n",
    "    minimo_prov = proveedor.loc[proveedor[[y]].idxmin()]\n",
    "    return minimo_prov"
   ]
  },
  {
   "cell_type": "code",
   "execution_count": 143,
   "id": "c3776eb1",
   "metadata": {},
   "outputs": [
    {
     "data": {
      "text/html": [
       "<div>\n",
       "<style scoped>\n",
       "    .dataframe tbody tr th:only-of-type {\n",
       "        vertical-align: middle;\n",
       "    }\n",
       "\n",
       "    .dataframe tbody tr th {\n",
       "        vertical-align: top;\n",
       "    }\n",
       "\n",
       "    .dataframe thead th {\n",
       "        text-align: right;\n",
       "    }\n",
       "</style>\n",
       "<table border=\"1\" class=\"dataframe\">\n",
       "  <thead>\n",
       "    <tr style=\"text-align: right;\">\n",
       "      <th></th>\n",
       "      <th>Fecha</th>\n",
       "      <th>Horario</th>\n",
       "      <th>C.P.</th>\n",
       "      <th>Provincia</th>\n",
       "      <th>Municipio</th>\n",
       "      <th>Localidad</th>\n",
       "      <th>Dirección</th>\n",
       "      <th>Proveedor de Servicio</th>\n",
       "      <th>Gasoleo A</th>\n",
       "      <th>Gasoleo B</th>\n",
       "      <th>Gasoleo Premium</th>\n",
       "      <th>Gasolina 95 E5</th>\n",
       "      <th>Gasolina 98 E5</th>\n",
       "      <th>Media_Gasoleo A</th>\n",
       "      <th>Media_Gasoleo B</th>\n",
       "      <th>Media_Gasoleo Prem</th>\n",
       "      <th>Media_Gasolina 95</th>\n",
       "      <th>Media_Gasolina 98</th>\n",
       "    </tr>\n",
       "  </thead>\n",
       "  <tbody>\n",
       "    <tr>\n",
       "      <th>9256</th>\n",
       "      <td>08/11/2022 20:13:19</td>\n",
       "      <td>L-D: 06:30-00:00</td>\n",
       "      <td>38415</td>\n",
       "      <td>SANTA CRUZ DE TENERIFE</td>\n",
       "      <td>Realejos (Los)</td>\n",
       "      <td>PALO BLANCO-LLANADAS</td>\n",
       "      <td>CARRETERA TF-326 KM. 4,159</td>\n",
       "      <td>REPSOL</td>\n",
       "      <td>1.419</td>\n",
       "      <td>NaN</td>\n",
       "      <td>NaN</td>\n",
       "      <td>1.259</td>\n",
       "      <td>1.399</td>\n",
       "      <td>1.94571</td>\n",
       "      <td>1.559088</td>\n",
       "      <td>2.042125</td>\n",
       "      <td>1.778614</td>\n",
       "      <td>1.931778</td>\n",
       "    </tr>\n",
       "  </tbody>\n",
       "</table>\n",
       "</div>"
      ],
      "text/plain": [
       "                    Fecha           Horario   C.P.               Provincia  \\\n",
       "9256  08/11/2022 20:13:19  L-D: 06:30-00:00  38415  SANTA CRUZ DE TENERIFE   \n",
       "\n",
       "           Municipio             Localidad                   Dirección  \\\n",
       "9256  Realejos (Los)  PALO BLANCO-LLANADAS  CARRETERA TF-326 KM. 4,159   \n",
       "\n",
       "     Proveedor de Servicio  Gasoleo A  Gasoleo B  Gasoleo Premium  \\\n",
       "9256                REPSOL      1.419        NaN              NaN   \n",
       "\n",
       "      Gasolina 95 E5  Gasolina 98 E5  Media_Gasoleo A  Media_Gasoleo B  \\\n",
       "9256           1.259           1.399          1.94571         1.559088   \n",
       "\n",
       "      Media_Gasoleo Prem  Media_Gasolina 95  Media_Gasolina 98  \n",
       "9256            2.042125           1.778614           1.931778  "
      ]
     },
     "execution_count": 143,
     "metadata": {},
     "output_type": "execute_result"
    }
   ],
   "source": [
    "gasolinera_minimo('REPSOL', 'Gasoleo A')"
   ]
  },
  {
   "cell_type": "code",
   "execution_count": 144,
   "id": "07fe3213",
   "metadata": {},
   "outputs": [],
   "source": [
    "# Función para convertir códigos postales\n",
    "def convert(x):\n",
    "# x: Municipio    \n",
    "    municipio = df_n[df_n[\"Municipio\"] == x]\n",
    "    cp = municipio[[\"C.P.\", \"Municipio\", \"Proveedor de Servicio\"]]\n",
    "    return cp\n",
    "    "
   ]
  },
  {
   "cell_type": "code",
   "execution_count": 145,
   "id": "ba996755",
   "metadata": {},
   "outputs": [
    {
     "data": {
      "text/html": [
       "<div>\n",
       "<style scoped>\n",
       "    .dataframe tbody tr th:only-of-type {\n",
       "        vertical-align: middle;\n",
       "    }\n",
       "\n",
       "    .dataframe tbody tr th {\n",
       "        vertical-align: top;\n",
       "    }\n",
       "\n",
       "    .dataframe thead th {\n",
       "        text-align: right;\n",
       "    }\n",
       "</style>\n",
       "<table border=\"1\" class=\"dataframe\">\n",
       "  <thead>\n",
       "    <tr style=\"text-align: right;\">\n",
       "      <th></th>\n",
       "      <th>C.P.</th>\n",
       "      <th>Municipio</th>\n",
       "      <th>Proveedor de Servicio</th>\n",
       "    </tr>\n",
       "  </thead>\n",
       "  <tbody>\n",
       "    <tr>\n",
       "      <th>7028</th>\n",
       "      <td>28931</td>\n",
       "      <td>Móstoles</td>\n",
       "      <td>REPSOL</td>\n",
       "    </tr>\n",
       "    <tr>\n",
       "      <th>7029</th>\n",
       "      <td>28934</td>\n",
       "      <td>Móstoles</td>\n",
       "      <td>LOS ROSALES</td>\n",
       "    </tr>\n",
       "    <tr>\n",
       "      <th>7030</th>\n",
       "      <td>28935</td>\n",
       "      <td>Móstoles</td>\n",
       "      <td>REPSOL</td>\n",
       "    </tr>\n",
       "    <tr>\n",
       "      <th>7031</th>\n",
       "      <td>28935</td>\n",
       "      <td>Móstoles</td>\n",
       "      <td>REPSOL</td>\n",
       "    </tr>\n",
       "    <tr>\n",
       "      <th>7032</th>\n",
       "      <td>28935</td>\n",
       "      <td>Móstoles</td>\n",
       "      <td>CEPSA</td>\n",
       "    </tr>\n",
       "    <tr>\n",
       "      <th>7033</th>\n",
       "      <td>28935</td>\n",
       "      <td>Móstoles</td>\n",
       "      <td>CEPSA</td>\n",
       "    </tr>\n",
       "    <tr>\n",
       "      <th>7034</th>\n",
       "      <td>28935</td>\n",
       "      <td>Móstoles</td>\n",
       "      <td>CARREFOUR</td>\n",
       "    </tr>\n",
       "    <tr>\n",
       "      <th>7035</th>\n",
       "      <td>28933</td>\n",
       "      <td>Móstoles</td>\n",
       "      <td>BALLENOIL</td>\n",
       "    </tr>\n",
       "    <tr>\n",
       "      <th>7036</th>\n",
       "      <td>28935</td>\n",
       "      <td>Móstoles</td>\n",
       "      <td>OLANCA</td>\n",
       "    </tr>\n",
       "    <tr>\n",
       "      <th>7037</th>\n",
       "      <td>28937</td>\n",
       "      <td>Móstoles</td>\n",
       "      <td>REPSOL</td>\n",
       "    </tr>\n",
       "    <tr>\n",
       "      <th>7038</th>\n",
       "      <td>28937</td>\n",
       "      <td>Móstoles</td>\n",
       "      <td>GALP</td>\n",
       "    </tr>\n",
       "    <tr>\n",
       "      <th>7039</th>\n",
       "      <td>28936</td>\n",
       "      <td>Móstoles</td>\n",
       "      <td>E.S. TERUGAS</td>\n",
       "    </tr>\n",
       "    <tr>\n",
       "      <th>7040</th>\n",
       "      <td>28936</td>\n",
       "      <td>Móstoles</td>\n",
       "      <td>PETROL MÓSTOLES</td>\n",
       "    </tr>\n",
       "    <tr>\n",
       "      <th>7041</th>\n",
       "      <td>28936</td>\n",
       "      <td>Móstoles</td>\n",
       "      <td>LAVAPLUS</td>\n",
       "    </tr>\n",
       "    <tr>\n",
       "      <th>7042</th>\n",
       "      <td>28938</td>\n",
       "      <td>Móstoles</td>\n",
       "      <td>BALLENOIL</td>\n",
       "    </tr>\n",
       "    <tr>\n",
       "      <th>7043</th>\n",
       "      <td>28938</td>\n",
       "      <td>Móstoles</td>\n",
       "      <td>CEPSA</td>\n",
       "    </tr>\n",
       "    <tr>\n",
       "      <th>7044</th>\n",
       "      <td>28938</td>\n",
       "      <td>Móstoles</td>\n",
       "      <td>GALP</td>\n",
       "    </tr>\n",
       "    <tr>\n",
       "      <th>7045</th>\n",
       "      <td>28938</td>\n",
       "      <td>Móstoles</td>\n",
       "      <td>BP</td>\n",
       "    </tr>\n",
       "  </tbody>\n",
       "</table>\n",
       "</div>"
      ],
      "text/plain": [
       "       C.P. Municipio Proveedor de Servicio\n",
       "7028  28931  Móstoles                REPSOL\n",
       "7029  28934  Móstoles           LOS ROSALES\n",
       "7030  28935  Móstoles                REPSOL\n",
       "7031  28935  Móstoles                REPSOL\n",
       "7032  28935  Móstoles                 CEPSA\n",
       "7033  28935  Móstoles                 CEPSA\n",
       "7034  28935  Móstoles             CARREFOUR\n",
       "7035  28933  Móstoles             BALLENOIL\n",
       "7036  28935  Móstoles                OLANCA\n",
       "7037  28937  Móstoles                REPSOL\n",
       "7038  28937  Móstoles                  GALP\n",
       "7039  28936  Móstoles          E.S. TERUGAS\n",
       "7040  28936  Móstoles       PETROL MÓSTOLES\n",
       "7041  28936  Móstoles              LAVAPLUS\n",
       "7042  28938  Móstoles             BALLENOIL\n",
       "7043  28938  Móstoles                 CEPSA\n",
       "7044  28938  Móstoles                  GALP\n",
       "7045  28938  Móstoles                    BP"
      ]
     },
     "execution_count": 145,
     "metadata": {},
     "output_type": "execute_result"
    }
   ],
   "source": [
    "convert('Móstoles')"
   ]
  },
  {
   "cell_type": "code",
   "execution_count": 146,
   "id": "752fcb3c",
   "metadata": {},
   "outputs": [],
   "source": [
    "# Listado de Estaciones de Servicio por Municipio por Municipio\n",
    "# x: Municipio\n",
    "def gasolineras_municipio(x):\n",
    "    municipio = df_n[df_n[\"Municipio\"] == x]\n",
    "    eess_mun = pd.DataFrame(municipio[[\"Proveedor de Servicio\"]])\n",
    "    return eess_mun\n"
   ]
  },
  {
   "cell_type": "code",
   "execution_count": 147,
   "id": "9f8ea85c",
   "metadata": {},
   "outputs": [
    {
     "data": {
      "text/html": [
       "<div>\n",
       "<style scoped>\n",
       "    .dataframe tbody tr th:only-of-type {\n",
       "        vertical-align: middle;\n",
       "    }\n",
       "\n",
       "    .dataframe tbody tr th {\n",
       "        vertical-align: top;\n",
       "    }\n",
       "\n",
       "    .dataframe thead th {\n",
       "        text-align: right;\n",
       "    }\n",
       "</style>\n",
       "<table border=\"1\" class=\"dataframe\">\n",
       "  <thead>\n",
       "    <tr style=\"text-align: right;\">\n",
       "      <th></th>\n",
       "      <th>Proveedor de Servicio</th>\n",
       "    </tr>\n",
       "  </thead>\n",
       "  <tbody>\n",
       "    <tr>\n",
       "      <th>7048</th>\n",
       "      <td>CHEAPOIL</td>\n",
       "    </tr>\n",
       "    <tr>\n",
       "      <th>7049</th>\n",
       "      <td>CEPSA</td>\n",
       "    </tr>\n",
       "    <tr>\n",
       "      <th>7050</th>\n",
       "      <td>CEPSA</td>\n",
       "    </tr>\n",
       "    <tr>\n",
       "      <th>7051</th>\n",
       "      <td>REPSOL</td>\n",
       "    </tr>\n",
       "    <tr>\n",
       "      <th>7052</th>\n",
       "      <td>REPSOL</td>\n",
       "    </tr>\n",
       "    <tr>\n",
       "      <th>7053</th>\n",
       "      <td>CEPSA</td>\n",
       "    </tr>\n",
       "    <tr>\n",
       "      <th>7054</th>\n",
       "      <td>MAXPETROL</td>\n",
       "    </tr>\n",
       "    <tr>\n",
       "      <th>7055</th>\n",
       "      <td>BALLENOIL</td>\n",
       "    </tr>\n",
       "  </tbody>\n",
       "</table>\n",
       "</div>"
      ],
      "text/plain": [
       "     Proveedor de Servicio\n",
       "7048              CHEAPOIL\n",
       "7049                 CEPSA\n",
       "7050                 CEPSA\n",
       "7051                REPSOL\n",
       "7052                REPSOL\n",
       "7053                 CEPSA\n",
       "7054             MAXPETROL\n",
       "7055             BALLENOIL"
      ]
     },
     "execution_count": 147,
     "metadata": {},
     "output_type": "execute_result"
    }
   ],
   "source": [
    "gasolineras_municipio('Navalcarnero')"
   ]
  },
  {
   "cell_type": "code",
   "execution_count": 148,
   "id": "42d352ec",
   "metadata": {},
   "outputs": [],
   "source": [
    "# Listado de Gasolineras por Provincia\n",
    "#x=Provincia\n",
    "def gasolineras_provincia(x):\n",
    "    cp_x = df_n[df_n[\"Provincia\"] == x]\n",
    "    return cp_x\n"
   ]
  },
  {
   "cell_type": "code",
   "execution_count": 149,
   "id": "fb0d41d2",
   "metadata": {},
   "outputs": [
    {
     "data": {
      "text/html": [
       "<div>\n",
       "<style scoped>\n",
       "    .dataframe tbody tr th:only-of-type {\n",
       "        vertical-align: middle;\n",
       "    }\n",
       "\n",
       "    .dataframe tbody tr th {\n",
       "        vertical-align: top;\n",
       "    }\n",
       "\n",
       "    .dataframe thead th {\n",
       "        text-align: right;\n",
       "    }\n",
       "</style>\n",
       "<table border=\"1\" class=\"dataframe\">\n",
       "  <thead>\n",
       "    <tr style=\"text-align: right;\">\n",
       "      <th></th>\n",
       "      <th>Fecha</th>\n",
       "      <th>Horario</th>\n",
       "      <th>C.P.</th>\n",
       "      <th>Provincia</th>\n",
       "      <th>Municipio</th>\n",
       "      <th>Localidad</th>\n",
       "      <th>Dirección</th>\n",
       "      <th>Proveedor de Servicio</th>\n",
       "      <th>Gasoleo A</th>\n",
       "      <th>Gasoleo B</th>\n",
       "      <th>Gasoleo Premium</th>\n",
       "      <th>Gasolina 95 E5</th>\n",
       "      <th>Gasolina 98 E5</th>\n",
       "      <th>Media_Gasoleo A</th>\n",
       "      <th>Media_Gasoleo B</th>\n",
       "      <th>Media_Gasoleo Prem</th>\n",
       "      <th>Media_Gasolina 95</th>\n",
       "      <th>Media_Gasolina 98</th>\n",
       "    </tr>\n",
       "  </thead>\n",
       "  <tbody>\n",
       "    <tr>\n",
       "      <th>5396</th>\n",
       "      <td>08/11/2022 20:13:19</td>\n",
       "      <td>L-D: 07:00-23:00</td>\n",
       "      <td>21110</td>\n",
       "      <td>HUELVA</td>\n",
       "      <td>Aljaraque</td>\n",
       "      <td>ALJARAQUE</td>\n",
       "      <td>CALLE CERAMICA, 1</td>\n",
       "      <td>HIGUEROIL</td>\n",
       "      <td>1.987</td>\n",
       "      <td>NaN</td>\n",
       "      <td>NaN</td>\n",
       "      <td>1.807</td>\n",
       "      <td>NaN</td>\n",
       "      <td>1.94571</td>\n",
       "      <td>1.559088</td>\n",
       "      <td>2.042125</td>\n",
       "      <td>1.778614</td>\n",
       "      <td>1.931778</td>\n",
       "    </tr>\n",
       "    <tr>\n",
       "      <th>5397</th>\n",
       "      <td>08/11/2022 20:13:19</td>\n",
       "      <td>L-D: 24H</td>\n",
       "      <td>21110</td>\n",
       "      <td>HUELVA</td>\n",
       "      <td>Aljaraque</td>\n",
       "      <td>ALJARAQUE</td>\n",
       "      <td>AUTOVIA A-497 KM. 7</td>\n",
       "      <td>MEROIL</td>\n",
       "      <td>1.997</td>\n",
       "      <td>NaN</td>\n",
       "      <td>2.107</td>\n",
       "      <td>1.887</td>\n",
       "      <td>1.997</td>\n",
       "      <td>1.94571</td>\n",
       "      <td>1.559088</td>\n",
       "      <td>2.042125</td>\n",
       "      <td>1.778614</td>\n",
       "      <td>1.931778</td>\n",
       "    </tr>\n",
       "    <tr>\n",
       "      <th>5398</th>\n",
       "      <td>08/11/2022 20:13:19</td>\n",
       "      <td>L-D: 24H</td>\n",
       "      <td>21110</td>\n",
       "      <td>HUELVA</td>\n",
       "      <td>Aljaraque</td>\n",
       "      <td>ALJARAQUE</td>\n",
       "      <td>CARRETERA A-492 KM. 0,100</td>\n",
       "      <td>TAMOIL</td>\n",
       "      <td>1.899</td>\n",
       "      <td>NaN</td>\n",
       "      <td>NaN</td>\n",
       "      <td>1.769</td>\n",
       "      <td>1.899</td>\n",
       "      <td>1.94571</td>\n",
       "      <td>1.559088</td>\n",
       "      <td>2.042125</td>\n",
       "      <td>1.778614</td>\n",
       "      <td>1.931778</td>\n",
       "    </tr>\n",
       "    <tr>\n",
       "      <th>5399</th>\n",
       "      <td>08/11/2022 20:13:19</td>\n",
       "      <td>L-D: 06:00-23:59</td>\n",
       "      <td>21730</td>\n",
       "      <td>HUELVA</td>\n",
       "      <td>Almonte</td>\n",
       "      <td>ALMONTE</td>\n",
       "      <td>AVENIDA RAFAEL ALBERTI, 7</td>\n",
       "      <td>REPSOL</td>\n",
       "      <td>1.932</td>\n",
       "      <td>1.526</td>\n",
       "      <td>1.995</td>\n",
       "      <td>1.881</td>\n",
       "      <td>1.975</td>\n",
       "      <td>1.94571</td>\n",
       "      <td>1.559088</td>\n",
       "      <td>2.042125</td>\n",
       "      <td>1.778614</td>\n",
       "      <td>1.931778</td>\n",
       "    </tr>\n",
       "    <tr>\n",
       "      <th>5400</th>\n",
       "      <td>08/11/2022 20:13:19</td>\n",
       "      <td>L-D: 06:00-22:00</td>\n",
       "      <td>21730</td>\n",
       "      <td>HUELVA</td>\n",
       "      <td>Almonte</td>\n",
       "      <td>ALMONTE</td>\n",
       "      <td>CRA. DEL ROCIO km 15.10</td>\n",
       "      <td>AVIA</td>\n",
       "      <td>1.979</td>\n",
       "      <td>1.499</td>\n",
       "      <td>2.049</td>\n",
       "      <td>1.779</td>\n",
       "      <td>1.939</td>\n",
       "      <td>1.94571</td>\n",
       "      <td>1.559088</td>\n",
       "      <td>2.042125</td>\n",
       "      <td>1.778614</td>\n",
       "      <td>1.931778</td>\n",
       "    </tr>\n",
       "    <tr>\n",
       "      <th>...</th>\n",
       "      <td>...</td>\n",
       "      <td>...</td>\n",
       "      <td>...</td>\n",
       "      <td>...</td>\n",
       "      <td>...</td>\n",
       "      <td>...</td>\n",
       "      <td>...</td>\n",
       "      <td>...</td>\n",
       "      <td>...</td>\n",
       "      <td>...</td>\n",
       "      <td>...</td>\n",
       "      <td>...</td>\n",
       "      <td>...</td>\n",
       "      <td>...</td>\n",
       "      <td>...</td>\n",
       "      <td>...</td>\n",
       "      <td>...</td>\n",
       "      <td>...</td>\n",
       "    </tr>\n",
       "    <tr>\n",
       "      <th>5542</th>\n",
       "      <td>08/11/2022 20:13:19</td>\n",
       "      <td>L-D: 07:30-20:00</td>\n",
       "      <td>21860</td>\n",
       "      <td>HUELVA</td>\n",
       "      <td>Villalba del Alcor</td>\n",
       "      <td>VILLALBA DEL ALCOR</td>\n",
       "      <td>C/ POZO NUEVO, 45</td>\n",
       "      <td>CIUDAD DEL CARMEN S.C.A.</td>\n",
       "      <td>1.947</td>\n",
       "      <td>1.470</td>\n",
       "      <td>NaN</td>\n",
       "      <td>NaN</td>\n",
       "      <td>NaN</td>\n",
       "      <td>1.94571</td>\n",
       "      <td>1.559088</td>\n",
       "      <td>2.042125</td>\n",
       "      <td>1.778614</td>\n",
       "      <td>1.931778</td>\n",
       "    </tr>\n",
       "    <tr>\n",
       "      <th>5543</th>\n",
       "      <td>08/11/2022 20:13:19</td>\n",
       "      <td>L-D: 05:00-00:00</td>\n",
       "      <td>21860</td>\n",
       "      <td>HUELVA</td>\n",
       "      <td>Villalba del Alcor</td>\n",
       "      <td>VILLALBA DEL ALCOR</td>\n",
       "      <td>CARRETERA A-472 KM. 28</td>\n",
       "      <td>REPSOL</td>\n",
       "      <td>2.039</td>\n",
       "      <td>1.760</td>\n",
       "      <td>NaN</td>\n",
       "      <td>1.817</td>\n",
       "      <td>NaN</td>\n",
       "      <td>1.94571</td>\n",
       "      <td>1.559088</td>\n",
       "      <td>2.042125</td>\n",
       "      <td>1.778614</td>\n",
       "      <td>1.931778</td>\n",
       "    </tr>\n",
       "    <tr>\n",
       "      <th>5544</th>\n",
       "      <td>08/11/2022 20:13:19</td>\n",
       "      <td>L-D: 07:00-22:00</td>\n",
       "      <td>21540</td>\n",
       "      <td>HUELVA</td>\n",
       "      <td>Villanueva de los Castillejos</td>\n",
       "      <td>VILLANUEVA CASTILLEJOS</td>\n",
       "      <td>CARRETERA HUELVA KM. 31</td>\n",
       "      <td>E.S. LA CRUZ DEL GALLO</td>\n",
       "      <td>2.079</td>\n",
       "      <td>NaN</td>\n",
       "      <td>2.129</td>\n",
       "      <td>1.859</td>\n",
       "      <td>NaN</td>\n",
       "      <td>1.94571</td>\n",
       "      <td>1.559088</td>\n",
       "      <td>2.042125</td>\n",
       "      <td>1.778614</td>\n",
       "      <td>1.931778</td>\n",
       "    </tr>\n",
       "    <tr>\n",
       "      <th>5545</th>\n",
       "      <td>08/11/2022 20:13:19</td>\n",
       "      <td>L-V: 06:00-21:00; S-D: 07:00-22:00</td>\n",
       "      <td>21850</td>\n",
       "      <td>HUELVA</td>\n",
       "      <td>Villarrasa</td>\n",
       "      <td>VILLARRASA</td>\n",
       "      <td>AUTOVIA A-49 KM KM. 53</td>\n",
       "      <td>REPSOL</td>\n",
       "      <td>2.039</td>\n",
       "      <td>NaN</td>\n",
       "      <td>2.129</td>\n",
       "      <td>1.849</td>\n",
       "      <td>1.989</td>\n",
       "      <td>1.94571</td>\n",
       "      <td>1.559088</td>\n",
       "      <td>2.042125</td>\n",
       "      <td>1.778614</td>\n",
       "      <td>1.931778</td>\n",
       "    </tr>\n",
       "    <tr>\n",
       "      <th>5546</th>\n",
       "      <td>08/11/2022 20:13:19</td>\n",
       "      <td>L-D: 06:00-22:00</td>\n",
       "      <td>21640</td>\n",
       "      <td>HUELVA</td>\n",
       "      <td>Zalamea la Real</td>\n",
       "      <td>ZALAMEA LA REAL</td>\n",
       "      <td>CARRETERA NACIONAL 435 KM. 181,8</td>\n",
       "      <td>DEOIL</td>\n",
       "      <td>1.889</td>\n",
       "      <td>NaN</td>\n",
       "      <td>1.909</td>\n",
       "      <td>1.729</td>\n",
       "      <td>NaN</td>\n",
       "      <td>1.94571</td>\n",
       "      <td>1.559088</td>\n",
       "      <td>2.042125</td>\n",
       "      <td>1.778614</td>\n",
       "      <td>1.931778</td>\n",
       "    </tr>\n",
       "  </tbody>\n",
       "</table>\n",
       "<p>151 rows × 18 columns</p>\n",
       "</div>"
      ],
      "text/plain": [
       "                    Fecha                             Horario   C.P.  \\\n",
       "5396  08/11/2022 20:13:19                    L-D: 07:00-23:00  21110   \n",
       "5397  08/11/2022 20:13:19                            L-D: 24H  21110   \n",
       "5398  08/11/2022 20:13:19                            L-D: 24H  21110   \n",
       "5399  08/11/2022 20:13:19                    L-D: 06:00-23:59  21730   \n",
       "5400  08/11/2022 20:13:19                    L-D: 06:00-22:00  21730   \n",
       "...                   ...                                 ...    ...   \n",
       "5542  08/11/2022 20:13:19                    L-D: 07:30-20:00  21860   \n",
       "5543  08/11/2022 20:13:19                    L-D: 05:00-00:00  21860   \n",
       "5544  08/11/2022 20:13:19                    L-D: 07:00-22:00  21540   \n",
       "5545  08/11/2022 20:13:19  L-V: 06:00-21:00; S-D: 07:00-22:00  21850   \n",
       "5546  08/11/2022 20:13:19                    L-D: 06:00-22:00  21640   \n",
       "\n",
       "     Provincia                      Municipio               Localidad  \\\n",
       "5396    HUELVA                      Aljaraque               ALJARAQUE   \n",
       "5397    HUELVA                      Aljaraque               ALJARAQUE   \n",
       "5398    HUELVA                      Aljaraque               ALJARAQUE   \n",
       "5399    HUELVA                        Almonte                 ALMONTE   \n",
       "5400    HUELVA                        Almonte                 ALMONTE   \n",
       "...        ...                            ...                     ...   \n",
       "5542    HUELVA             Villalba del Alcor      VILLALBA DEL ALCOR   \n",
       "5543    HUELVA             Villalba del Alcor      VILLALBA DEL ALCOR   \n",
       "5544    HUELVA  Villanueva de los Castillejos  VILLANUEVA CASTILLEJOS   \n",
       "5545    HUELVA                     Villarrasa              VILLARRASA   \n",
       "5546    HUELVA                Zalamea la Real         ZALAMEA LA REAL   \n",
       "\n",
       "                             Dirección     Proveedor de Servicio  Gasoleo A  \\\n",
       "5396                 CALLE CERAMICA, 1                 HIGUEROIL      1.987   \n",
       "5397               AUTOVIA A-497 KM. 7                    MEROIL      1.997   \n",
       "5398         CARRETERA A-492 KM. 0,100                    TAMOIL      1.899   \n",
       "5399         AVENIDA RAFAEL ALBERTI, 7                    REPSOL      1.932   \n",
       "5400           CRA. DEL ROCIO km 15.10                      AVIA      1.979   \n",
       "...                                ...                       ...        ...   \n",
       "5542                 C/ POZO NUEVO, 45  CIUDAD DEL CARMEN S.C.A.      1.947   \n",
       "5543            CARRETERA A-472 KM. 28                    REPSOL      2.039   \n",
       "5544           CARRETERA HUELVA KM. 31    E.S. LA CRUZ DEL GALLO      2.079   \n",
       "5545            AUTOVIA A-49 KM KM. 53                    REPSOL      2.039   \n",
       "5546  CARRETERA NACIONAL 435 KM. 181,8                     DEOIL      1.889   \n",
       "\n",
       "      Gasoleo B  Gasoleo Premium  Gasolina 95 E5  Gasolina 98 E5  \\\n",
       "5396        NaN              NaN           1.807             NaN   \n",
       "5397        NaN            2.107           1.887           1.997   \n",
       "5398        NaN              NaN           1.769           1.899   \n",
       "5399      1.526            1.995           1.881           1.975   \n",
       "5400      1.499            2.049           1.779           1.939   \n",
       "...         ...              ...             ...             ...   \n",
       "5542      1.470              NaN             NaN             NaN   \n",
       "5543      1.760              NaN           1.817             NaN   \n",
       "5544        NaN            2.129           1.859             NaN   \n",
       "5545        NaN            2.129           1.849           1.989   \n",
       "5546        NaN            1.909           1.729             NaN   \n",
       "\n",
       "      Media_Gasoleo A  Media_Gasoleo B  Media_Gasoleo Prem  Media_Gasolina 95  \\\n",
       "5396          1.94571         1.559088            2.042125           1.778614   \n",
       "5397          1.94571         1.559088            2.042125           1.778614   \n",
       "5398          1.94571         1.559088            2.042125           1.778614   \n",
       "5399          1.94571         1.559088            2.042125           1.778614   \n",
       "5400          1.94571         1.559088            2.042125           1.778614   \n",
       "...               ...              ...                 ...                ...   \n",
       "5542          1.94571         1.559088            2.042125           1.778614   \n",
       "5543          1.94571         1.559088            2.042125           1.778614   \n",
       "5544          1.94571         1.559088            2.042125           1.778614   \n",
       "5545          1.94571         1.559088            2.042125           1.778614   \n",
       "5546          1.94571         1.559088            2.042125           1.778614   \n",
       "\n",
       "      Media_Gasolina 98  \n",
       "5396           1.931778  \n",
       "5397           1.931778  \n",
       "5398           1.931778  \n",
       "5399           1.931778  \n",
       "5400           1.931778  \n",
       "...                 ...  \n",
       "5542           1.931778  \n",
       "5543           1.931778  \n",
       "5544           1.931778  \n",
       "5545           1.931778  \n",
       "5546           1.931778  \n",
       "\n",
       "[151 rows x 18 columns]"
      ]
     },
     "execution_count": 149,
     "metadata": {},
     "output_type": "execute_result"
    }
   ],
   "source": [
    "gasolineras_provincia('HUELVA')"
   ]
  },
  {
   "cell_type": "code",
   "execution_count": 150,
   "id": "fe00f1c5",
   "metadata": {},
   "outputs": [],
   "source": [
    "# Listado de Gasolineras por Código Postal:\n",
    "# x: código postal\n",
    "def gasolineras_cp(x):\n",
    "    cp = df_n[df_n[\"C.P.\"] == x]\n",
    "    return cp"
   ]
  },
  {
   "cell_type": "code",
   "execution_count": 151,
   "id": "858df679",
   "metadata": {},
   "outputs": [
    {
     "data": {
      "text/html": [
       "<div>\n",
       "<style scoped>\n",
       "    .dataframe tbody tr th:only-of-type {\n",
       "        vertical-align: middle;\n",
       "    }\n",
       "\n",
       "    .dataframe tbody tr th {\n",
       "        vertical-align: top;\n",
       "    }\n",
       "\n",
       "    .dataframe thead th {\n",
       "        text-align: right;\n",
       "    }\n",
       "</style>\n",
       "<table border=\"1\" class=\"dataframe\">\n",
       "  <thead>\n",
       "    <tr style=\"text-align: right;\">\n",
       "      <th></th>\n",
       "      <th>Fecha</th>\n",
       "      <th>Horario</th>\n",
       "      <th>C.P.</th>\n",
       "      <th>Provincia</th>\n",
       "      <th>Municipio</th>\n",
       "      <th>Localidad</th>\n",
       "      <th>Dirección</th>\n",
       "      <th>Proveedor de Servicio</th>\n",
       "      <th>Gasoleo A</th>\n",
       "      <th>Gasoleo B</th>\n",
       "      <th>Gasoleo Premium</th>\n",
       "      <th>Gasolina 95 E5</th>\n",
       "      <th>Gasolina 98 E5</th>\n",
       "      <th>Media_Gasoleo A</th>\n",
       "      <th>Media_Gasoleo B</th>\n",
       "      <th>Media_Gasoleo Prem</th>\n",
       "      <th>Media_Gasolina 95</th>\n",
       "      <th>Media_Gasolina 98</th>\n",
       "    </tr>\n",
       "  </thead>\n",
       "  <tbody>\n",
       "    <tr>\n",
       "      <th>6555</th>\n",
       "      <td>08/11/2022 20:13:19</td>\n",
       "      <td>L-D: 24H</td>\n",
       "      <td>28500</td>\n",
       "      <td>MADRID</td>\n",
       "      <td>Arganda del Rey</td>\n",
       "      <td>ARGANDA</td>\n",
       "      <td>CAMINO CAMINO DE SAN MARTÍN DE LA VEGA A ARGAN...</td>\n",
       "      <td>BALLENOIL</td>\n",
       "      <td>1.899</td>\n",
       "      <td>NaN</td>\n",
       "      <td>NaN</td>\n",
       "      <td>1.669</td>\n",
       "      <td>NaN</td>\n",
       "      <td>1.94571</td>\n",
       "      <td>1.559088</td>\n",
       "      <td>2.042125</td>\n",
       "      <td>1.778614</td>\n",
       "      <td>1.931778</td>\n",
       "    </tr>\n",
       "    <tr>\n",
       "      <th>6556</th>\n",
       "      <td>08/11/2022 20:13:19</td>\n",
       "      <td>L-D: 24H</td>\n",
       "      <td>28500</td>\n",
       "      <td>MADRID</td>\n",
       "      <td>Arganda del Rey</td>\n",
       "      <td>ARGANDA</td>\n",
       "      <td>CAMINO SAN MARTIN DE LA VEGA, 8</td>\n",
       "      <td>BALLENOIL</td>\n",
       "      <td>1.899</td>\n",
       "      <td>NaN</td>\n",
       "      <td>NaN</td>\n",
       "      <td>1.669</td>\n",
       "      <td>NaN</td>\n",
       "      <td>1.94571</td>\n",
       "      <td>1.559088</td>\n",
       "      <td>2.042125</td>\n",
       "      <td>1.778614</td>\n",
       "      <td>1.931778</td>\n",
       "    </tr>\n",
       "    <tr>\n",
       "      <th>6557</th>\n",
       "      <td>08/11/2022 20:13:19</td>\n",
       "      <td>L-D: 24H</td>\n",
       "      <td>28500</td>\n",
       "      <td>MADRID</td>\n",
       "      <td>Arganda del Rey</td>\n",
       "      <td>ARGANDA</td>\n",
       "      <td>AVENIDA MADRID (DE), SN</td>\n",
       "      <td>PETROPRIX</td>\n",
       "      <td>1.899</td>\n",
       "      <td>NaN</td>\n",
       "      <td>NaN</td>\n",
       "      <td>1.649</td>\n",
       "      <td>NaN</td>\n",
       "      <td>1.94571</td>\n",
       "      <td>1.559088</td>\n",
       "      <td>2.042125</td>\n",
       "      <td>1.778614</td>\n",
       "      <td>1.931778</td>\n",
       "    </tr>\n",
       "    <tr>\n",
       "      <th>6558</th>\n",
       "      <td>08/11/2022 20:13:19</td>\n",
       "      <td>L-V: 06:00-22:00; S-D: 08:00-22:00</td>\n",
       "      <td>28500</td>\n",
       "      <td>MADRID</td>\n",
       "      <td>Arganda del Rey</td>\n",
       "      <td>ARGANDA</td>\n",
       "      <td>AVDA DE MADRID, 103</td>\n",
       "      <td>REPSOL</td>\n",
       "      <td>2.029</td>\n",
       "      <td>1.669</td>\n",
       "      <td>2.039</td>\n",
       "      <td>1.819</td>\n",
       "      <td>NaN</td>\n",
       "      <td>1.94571</td>\n",
       "      <td>1.559088</td>\n",
       "      <td>2.042125</td>\n",
       "      <td>1.778614</td>\n",
       "      <td>1.931778</td>\n",
       "    </tr>\n",
       "    <tr>\n",
       "      <th>6559</th>\n",
       "      <td>08/11/2022 20:13:19</td>\n",
       "      <td>L-D: 06:00-00:00</td>\n",
       "      <td>28500</td>\n",
       "      <td>MADRID</td>\n",
       "      <td>Arganda del Rey</td>\n",
       "      <td>ARGANDA</td>\n",
       "      <td>AVENIDA DE MADRID, 126</td>\n",
       "      <td>ATENOIL</td>\n",
       "      <td>1.939</td>\n",
       "      <td>NaN</td>\n",
       "      <td>1.949</td>\n",
       "      <td>1.729</td>\n",
       "      <td>NaN</td>\n",
       "      <td>1.94571</td>\n",
       "      <td>1.559088</td>\n",
       "      <td>2.042125</td>\n",
       "      <td>1.778614</td>\n",
       "      <td>1.931778</td>\n",
       "    </tr>\n",
       "    <tr>\n",
       "      <th>6560</th>\n",
       "      <td>08/11/2022 20:13:19</td>\n",
       "      <td>L-D: 24H</td>\n",
       "      <td>28500</td>\n",
       "      <td>MADRID</td>\n",
       "      <td>Arganda del Rey</td>\n",
       "      <td>ARGANDA</td>\n",
       "      <td>AVENIDA MADRID (DE), 66</td>\n",
       "      <td>PLENOIL</td>\n",
       "      <td>1.899</td>\n",
       "      <td>NaN</td>\n",
       "      <td>NaN</td>\n",
       "      <td>1.649</td>\n",
       "      <td>NaN</td>\n",
       "      <td>1.94571</td>\n",
       "      <td>1.559088</td>\n",
       "      <td>2.042125</td>\n",
       "      <td>1.778614</td>\n",
       "      <td>1.931778</td>\n",
       "    </tr>\n",
       "    <tr>\n",
       "      <th>6561</th>\n",
       "      <td>08/11/2022 20:13:19</td>\n",
       "      <td>L-D: 07:00-22:00</td>\n",
       "      <td>28500</td>\n",
       "      <td>MADRID</td>\n",
       "      <td>Arganda del Rey</td>\n",
       "      <td>ARGANDA</td>\n",
       "      <td>AVENIDA FINANZAUTO (DE), 2</td>\n",
       "      <td>DELFIOIL</td>\n",
       "      <td>1.899</td>\n",
       "      <td>NaN</td>\n",
       "      <td>NaN</td>\n",
       "      <td>1.669</td>\n",
       "      <td>NaN</td>\n",
       "      <td>1.94571</td>\n",
       "      <td>1.559088</td>\n",
       "      <td>2.042125</td>\n",
       "      <td>1.778614</td>\n",
       "      <td>1.931778</td>\n",
       "    </tr>\n",
       "    <tr>\n",
       "      <th>6562</th>\n",
       "      <td>08/11/2022 20:13:19</td>\n",
       "      <td>L: 24H</td>\n",
       "      <td>28500</td>\n",
       "      <td>MADRID</td>\n",
       "      <td>Arganda del Rey</td>\n",
       "      <td>ARGANDA</td>\n",
       "      <td>CARRETERA M-832 KM. 3</td>\n",
       "      <td>REPSOL</td>\n",
       "      <td>2.052</td>\n",
       "      <td>NaN</td>\n",
       "      <td>NaN</td>\n",
       "      <td>1.802</td>\n",
       "      <td>NaN</td>\n",
       "      <td>1.94571</td>\n",
       "      <td>1.559088</td>\n",
       "      <td>2.042125</td>\n",
       "      <td>1.778614</td>\n",
       "      <td>1.931778</td>\n",
       "    </tr>\n",
       "    <tr>\n",
       "      <th>6563</th>\n",
       "      <td>08/11/2022 20:13:19</td>\n",
       "      <td>L-D: 24H</td>\n",
       "      <td>28500</td>\n",
       "      <td>MADRID</td>\n",
       "      <td>Arganda del Rey</td>\n",
       "      <td>ARGANDA</td>\n",
       "      <td>CARRETERA M-832 KM. 3</td>\n",
       "      <td>REPSOL</td>\n",
       "      <td>2.052</td>\n",
       "      <td>NaN</td>\n",
       "      <td>2.122</td>\n",
       "      <td>1.802</td>\n",
       "      <td>NaN</td>\n",
       "      <td>1.94571</td>\n",
       "      <td>1.559088</td>\n",
       "      <td>2.042125</td>\n",
       "      <td>1.778614</td>\n",
       "      <td>1.931778</td>\n",
       "    </tr>\n",
       "    <tr>\n",
       "      <th>6564</th>\n",
       "      <td>08/11/2022 20:13:19</td>\n",
       "      <td>L-D: 24H</td>\n",
       "      <td>28500</td>\n",
       "      <td>MADRID</td>\n",
       "      <td>Arganda del Rey</td>\n",
       "      <td>ARGANDA</td>\n",
       "      <td>AVENIDA VALDEARGANDA, 8</td>\n",
       "      <td>CEPSA</td>\n",
       "      <td>2.035</td>\n",
       "      <td>NaN</td>\n",
       "      <td>2.135</td>\n",
       "      <td>1.829</td>\n",
       "      <td>1.961</td>\n",
       "      <td>1.94571</td>\n",
       "      <td>1.559088</td>\n",
       "      <td>2.042125</td>\n",
       "      <td>1.778614</td>\n",
       "      <td>1.931778</td>\n",
       "    </tr>\n",
       "    <tr>\n",
       "      <th>6565</th>\n",
       "      <td>08/11/2022 20:13:19</td>\n",
       "      <td>L-D: 24H</td>\n",
       "      <td>28500</td>\n",
       "      <td>MADRID</td>\n",
       "      <td>Arganda del Rey</td>\n",
       "      <td>ARGANDA</td>\n",
       "      <td>AVENIDA EJERCITO (DEL), 44</td>\n",
       "      <td>BP ARGANDA</td>\n",
       "      <td>2.019</td>\n",
       "      <td>NaN</td>\n",
       "      <td>2.109</td>\n",
       "      <td>1.819</td>\n",
       "      <td>1.961</td>\n",
       "      <td>1.94571</td>\n",
       "      <td>1.559088</td>\n",
       "      <td>2.042125</td>\n",
       "      <td>1.778614</td>\n",
       "      <td>1.931778</td>\n",
       "    </tr>\n",
       "    <tr>\n",
       "      <th>6566</th>\n",
       "      <td>08/11/2022 20:13:19</td>\n",
       "      <td>L-D: 06:00-22:00</td>\n",
       "      <td>28500</td>\n",
       "      <td>MADRID</td>\n",
       "      <td>Arganda del Rey</td>\n",
       "      <td>ARGANDA</td>\n",
       "      <td>AVENIDA DE MADRID, 37</td>\n",
       "      <td>BP LA ARGANDEÑA</td>\n",
       "      <td>2.019</td>\n",
       "      <td>NaN</td>\n",
       "      <td>2.109</td>\n",
       "      <td>1.819</td>\n",
       "      <td>1.961</td>\n",
       "      <td>1.94571</td>\n",
       "      <td>1.559088</td>\n",
       "      <td>2.042125</td>\n",
       "      <td>1.778614</td>\n",
       "      <td>1.931778</td>\n",
       "    </tr>\n",
       "  </tbody>\n",
       "</table>\n",
       "</div>"
      ],
      "text/plain": [
       "                    Fecha                             Horario   C.P.  \\\n",
       "6555  08/11/2022 20:13:19                            L-D: 24H  28500   \n",
       "6556  08/11/2022 20:13:19                            L-D: 24H  28500   \n",
       "6557  08/11/2022 20:13:19                            L-D: 24H  28500   \n",
       "6558  08/11/2022 20:13:19  L-V: 06:00-22:00; S-D: 08:00-22:00  28500   \n",
       "6559  08/11/2022 20:13:19                    L-D: 06:00-00:00  28500   \n",
       "6560  08/11/2022 20:13:19                            L-D: 24H  28500   \n",
       "6561  08/11/2022 20:13:19                    L-D: 07:00-22:00  28500   \n",
       "6562  08/11/2022 20:13:19                              L: 24H  28500   \n",
       "6563  08/11/2022 20:13:19                            L-D: 24H  28500   \n",
       "6564  08/11/2022 20:13:19                            L-D: 24H  28500   \n",
       "6565  08/11/2022 20:13:19                            L-D: 24H  28500   \n",
       "6566  08/11/2022 20:13:19                    L-D: 06:00-22:00  28500   \n",
       "\n",
       "     Provincia        Municipio Localidad  \\\n",
       "6555    MADRID  Arganda del Rey   ARGANDA   \n",
       "6556    MADRID  Arganda del Rey   ARGANDA   \n",
       "6557    MADRID  Arganda del Rey   ARGANDA   \n",
       "6558    MADRID  Arganda del Rey   ARGANDA   \n",
       "6559    MADRID  Arganda del Rey   ARGANDA   \n",
       "6560    MADRID  Arganda del Rey   ARGANDA   \n",
       "6561    MADRID  Arganda del Rey   ARGANDA   \n",
       "6562    MADRID  Arganda del Rey   ARGANDA   \n",
       "6563    MADRID  Arganda del Rey   ARGANDA   \n",
       "6564    MADRID  Arganda del Rey   ARGANDA   \n",
       "6565    MADRID  Arganda del Rey   ARGANDA   \n",
       "6566    MADRID  Arganda del Rey   ARGANDA   \n",
       "\n",
       "                                              Dirección Proveedor de Servicio  \\\n",
       "6555  CAMINO CAMINO DE SAN MARTÍN DE LA VEGA A ARGAN...             BALLENOIL   \n",
       "6556                    CAMINO SAN MARTIN DE LA VEGA, 8             BALLENOIL   \n",
       "6557                            AVENIDA MADRID (DE), SN             PETROPRIX   \n",
       "6558                                AVDA DE MADRID, 103                REPSOL   \n",
       "6559                             AVENIDA DE MADRID, 126               ATENOIL   \n",
       "6560                            AVENIDA MADRID (DE), 66               PLENOIL   \n",
       "6561                         AVENIDA FINANZAUTO (DE), 2              DELFIOIL   \n",
       "6562                              CARRETERA M-832 KM. 3                REPSOL   \n",
       "6563                              CARRETERA M-832 KM. 3                REPSOL   \n",
       "6564                            AVENIDA VALDEARGANDA, 8                 CEPSA   \n",
       "6565                         AVENIDA EJERCITO (DEL), 44            BP ARGANDA   \n",
       "6566                              AVENIDA DE MADRID, 37       BP LA ARGANDEÑA   \n",
       "\n",
       "      Gasoleo A  Gasoleo B  Gasoleo Premium  Gasolina 95 E5  Gasolina 98 E5  \\\n",
       "6555      1.899        NaN              NaN           1.669             NaN   \n",
       "6556      1.899        NaN              NaN           1.669             NaN   \n",
       "6557      1.899        NaN              NaN           1.649             NaN   \n",
       "6558      2.029      1.669            2.039           1.819             NaN   \n",
       "6559      1.939        NaN            1.949           1.729             NaN   \n",
       "6560      1.899        NaN              NaN           1.649             NaN   \n",
       "6561      1.899        NaN              NaN           1.669             NaN   \n",
       "6562      2.052        NaN              NaN           1.802             NaN   \n",
       "6563      2.052        NaN            2.122           1.802             NaN   \n",
       "6564      2.035        NaN            2.135           1.829           1.961   \n",
       "6565      2.019        NaN            2.109           1.819           1.961   \n",
       "6566      2.019        NaN            2.109           1.819           1.961   \n",
       "\n",
       "      Media_Gasoleo A  Media_Gasoleo B  Media_Gasoleo Prem  Media_Gasolina 95  \\\n",
       "6555          1.94571         1.559088            2.042125           1.778614   \n",
       "6556          1.94571         1.559088            2.042125           1.778614   \n",
       "6557          1.94571         1.559088            2.042125           1.778614   \n",
       "6558          1.94571         1.559088            2.042125           1.778614   \n",
       "6559          1.94571         1.559088            2.042125           1.778614   \n",
       "6560          1.94571         1.559088            2.042125           1.778614   \n",
       "6561          1.94571         1.559088            2.042125           1.778614   \n",
       "6562          1.94571         1.559088            2.042125           1.778614   \n",
       "6563          1.94571         1.559088            2.042125           1.778614   \n",
       "6564          1.94571         1.559088            2.042125           1.778614   \n",
       "6565          1.94571         1.559088            2.042125           1.778614   \n",
       "6566          1.94571         1.559088            2.042125           1.778614   \n",
       "\n",
       "      Media_Gasolina 98  \n",
       "6555           1.931778  \n",
       "6556           1.931778  \n",
       "6557           1.931778  \n",
       "6558           1.931778  \n",
       "6559           1.931778  \n",
       "6560           1.931778  \n",
       "6561           1.931778  \n",
       "6562           1.931778  \n",
       "6563           1.931778  \n",
       "6564           1.931778  \n",
       "6565           1.931778  \n",
       "6566           1.931778  "
      ]
     },
     "execution_count": 151,
     "metadata": {},
     "output_type": "execute_result"
    }
   ],
   "source": [
    "gasolineras_cp('28500')"
   ]
  },
  {
   "cell_type": "code",
   "execution_count": 152,
   "id": "3542af36",
   "metadata": {},
   "outputs": [
    {
     "data": {
      "text/html": [
       "<div>\n",
       "<style scoped>\n",
       "    .dataframe tbody tr th:only-of-type {\n",
       "        vertical-align: middle;\n",
       "    }\n",
       "\n",
       "    .dataframe tbody tr th {\n",
       "        vertical-align: top;\n",
       "    }\n",
       "\n",
       "    .dataframe thead th {\n",
       "        text-align: right;\n",
       "    }\n",
       "</style>\n",
       "<table border=\"1\" class=\"dataframe\">\n",
       "  <thead>\n",
       "    <tr style=\"text-align: right;\">\n",
       "      <th></th>\n",
       "      <th>Fecha</th>\n",
       "      <th>Horario</th>\n",
       "      <th>C.P.</th>\n",
       "      <th>Provincia</th>\n",
       "      <th>Municipio</th>\n",
       "      <th>Localidad</th>\n",
       "      <th>Dirección</th>\n",
       "      <th>Proveedor de Servicio</th>\n",
       "      <th>Gasoleo A</th>\n",
       "      <th>Gasoleo B</th>\n",
       "      <th>Gasoleo Premium</th>\n",
       "      <th>Gasolina 95 E5</th>\n",
       "      <th>Gasolina 98 E5</th>\n",
       "      <th>Media_Gasoleo A</th>\n",
       "      <th>Media_Gasoleo B</th>\n",
       "      <th>Media_Gasoleo Prem</th>\n",
       "      <th>Media_Gasolina 95</th>\n",
       "      <th>Media_Gasolina 98</th>\n",
       "    </tr>\n",
       "  </thead>\n",
       "  <tbody>\n",
       "    <tr>\n",
       "      <th>25</th>\n",
       "      <td>08/11/2022 20:13:19</td>\n",
       "      <td>L-D: 08:00-16:00</td>\n",
       "      <td>02328</td>\n",
       "      <td>ALBACETE</td>\n",
       "      <td>Albacete</td>\n",
       "      <td>SANTA ANA</td>\n",
       "      <td>AVENIDA PRINCIPE, 2</td>\n",
       "      <td>REPSOL</td>\n",
       "      <td>1.979</td>\n",
       "      <td>1.621</td>\n",
       "      <td>2.029</td>\n",
       "      <td>1.779</td>\n",
       "      <td>1.889</td>\n",
       "      <td>1.94571</td>\n",
       "      <td>1.559088</td>\n",
       "      <td>2.042125</td>\n",
       "      <td>1.778614</td>\n",
       "      <td>1.931778</td>\n",
       "    </tr>\n",
       "    <tr>\n",
       "      <th>32</th>\n",
       "      <td>08/11/2022 20:13:19</td>\n",
       "      <td>L-D: 06:00-23:30</td>\n",
       "      <td>02007</td>\n",
       "      <td>ALBACETE</td>\n",
       "      <td>Albacete</td>\n",
       "      <td>ALBACETE</td>\n",
       "      <td>CARRETERA C-M 332 KM. 2,6</td>\n",
       "      <td>INLOCOR S.L. \"CEPSA\"</td>\n",
       "      <td>1.999</td>\n",
       "      <td>1.639</td>\n",
       "      <td>2.099</td>\n",
       "      <td>1.799</td>\n",
       "      <td>1.989</td>\n",
       "      <td>1.94571</td>\n",
       "      <td>1.559088</td>\n",
       "      <td>2.042125</td>\n",
       "      <td>1.778614</td>\n",
       "      <td>1.931778</td>\n",
       "    </tr>\n",
       "    <tr>\n",
       "      <th>67</th>\n",
       "      <td>08/11/2022 20:13:19</td>\n",
       "      <td>S-D: 07:00-15:00</td>\n",
       "      <td>02610</td>\n",
       "      <td>ALBACETE</td>\n",
       "      <td>Bonillo (El)</td>\n",
       "      <td>BONILLO (EL)</td>\n",
       "      <td>CALLE CARRETERA MUNERA, 2</td>\n",
       "      <td>REPSOL</td>\n",
       "      <td>1.979</td>\n",
       "      <td>1.635</td>\n",
       "      <td>2.029</td>\n",
       "      <td>1.779</td>\n",
       "      <td>1.889</td>\n",
       "      <td>1.94571</td>\n",
       "      <td>1.559088</td>\n",
       "      <td>2.042125</td>\n",
       "      <td>1.778614</td>\n",
       "      <td>1.931778</td>\n",
       "    </tr>\n",
       "    <tr>\n",
       "      <th>71</th>\n",
       "      <td>08/11/2022 20:13:19</td>\n",
       "      <td>L-D: 07:00-21:00</td>\n",
       "      <td>02200</td>\n",
       "      <td>ALBACETE</td>\n",
       "      <td>Casas-Ibáñez</td>\n",
       "      <td>CASAS-IBAÑEZ</td>\n",
       "      <td>CARRETERA ALBACETE KM. 94</td>\n",
       "      <td>CEPSA</td>\n",
       "      <td>1.969</td>\n",
       "      <td>1.609</td>\n",
       "      <td>2.029</td>\n",
       "      <td>1.809</td>\n",
       "      <td>1.969</td>\n",
       "      <td>1.94571</td>\n",
       "      <td>1.559088</td>\n",
       "      <td>2.042125</td>\n",
       "      <td>1.778614</td>\n",
       "      <td>1.931778</td>\n",
       "    </tr>\n",
       "    <tr>\n",
       "      <th>72</th>\n",
       "      <td>08/11/2022 20:13:19</td>\n",
       "      <td>L-D: 06:00-23:00</td>\n",
       "      <td>02660</td>\n",
       "      <td>ALBACETE</td>\n",
       "      <td>Caudete</td>\n",
       "      <td>CAUDETE</td>\n",
       "      <td>CR N-330, 71,4</td>\n",
       "      <td>REPSOL</td>\n",
       "      <td>2.009</td>\n",
       "      <td>1.578</td>\n",
       "      <td>2.059</td>\n",
       "      <td>1.809</td>\n",
       "      <td>1.919</td>\n",
       "      <td>1.94571</td>\n",
       "      <td>1.559088</td>\n",
       "      <td>2.042125</td>\n",
       "      <td>1.778614</td>\n",
       "      <td>1.931778</td>\n",
       "    </tr>\n",
       "    <tr>\n",
       "      <th>...</th>\n",
       "      <td>...</td>\n",
       "      <td>...</td>\n",
       "      <td>...</td>\n",
       "      <td>...</td>\n",
       "      <td>...</td>\n",
       "      <td>...</td>\n",
       "      <td>...</td>\n",
       "      <td>...</td>\n",
       "      <td>...</td>\n",
       "      <td>...</td>\n",
       "      <td>...</td>\n",
       "      <td>...</td>\n",
       "      <td>...</td>\n",
       "      <td>...</td>\n",
       "      <td>...</td>\n",
       "      <td>...</td>\n",
       "      <td>...</td>\n",
       "      <td>...</td>\n",
       "    </tr>\n",
       "    <tr>\n",
       "      <th>11742</th>\n",
       "      <td>08/11/2022 20:13:19</td>\n",
       "      <td>L-D: 24H</td>\n",
       "      <td>50013</td>\n",
       "      <td>ZARAGOZA</td>\n",
       "      <td>Zaragoza</td>\n",
       "      <td>CARTUJA BAJA</td>\n",
       "      <td>CARRETERA CASTELLON KM. 3,7</td>\n",
       "      <td>BP AVELLANAS</td>\n",
       "      <td>1.989</td>\n",
       "      <td>1.609</td>\n",
       "      <td>2.079</td>\n",
       "      <td>1.805</td>\n",
       "      <td>1.959</td>\n",
       "      <td>1.94571</td>\n",
       "      <td>1.559088</td>\n",
       "      <td>2.042125</td>\n",
       "      <td>1.778614</td>\n",
       "      <td>1.931778</td>\n",
       "    </tr>\n",
       "    <tr>\n",
       "      <th>11769</th>\n",
       "      <td>08/11/2022 20:13:19</td>\n",
       "      <td>L-D: 24H</td>\n",
       "      <td>50020</td>\n",
       "      <td>ZARAGOZA</td>\n",
       "      <td>Zaragoza</td>\n",
       "      <td>ZARAGOZA</td>\n",
       "      <td>AVENIDA DIAGONAL, 9 - POLIGONO PLAZA, 9</td>\n",
       "      <td>REPSOL</td>\n",
       "      <td>2.009</td>\n",
       "      <td>1.643</td>\n",
       "      <td>2.069</td>\n",
       "      <td>1.809</td>\n",
       "      <td>1.959</td>\n",
       "      <td>1.94571</td>\n",
       "      <td>1.559088</td>\n",
       "      <td>2.042125</td>\n",
       "      <td>1.778614</td>\n",
       "      <td>1.931778</td>\n",
       "    </tr>\n",
       "    <tr>\n",
       "      <th>11772</th>\n",
       "      <td>08/11/2022 20:13:19</td>\n",
       "      <td>L-D: 06:00-22:00</td>\n",
       "      <td>50190</td>\n",
       "      <td>ZARAGOZA</td>\n",
       "      <td>Zaragoza</td>\n",
       "      <td>GARRAPINILLOS</td>\n",
       "      <td>CARRETERA N-125 KM. 5,6</td>\n",
       "      <td>CEPSA</td>\n",
       "      <td>1.999</td>\n",
       "      <td>1.609</td>\n",
       "      <td>2.069</td>\n",
       "      <td>1.809</td>\n",
       "      <td>1.949</td>\n",
       "      <td>1.94571</td>\n",
       "      <td>1.559088</td>\n",
       "      <td>2.042125</td>\n",
       "      <td>1.778614</td>\n",
       "      <td>1.931778</td>\n",
       "    </tr>\n",
       "    <tr>\n",
       "      <th>11776</th>\n",
       "      <td>08/11/2022 20:13:19</td>\n",
       "      <td>L-V: 05:00-22:00; S-D: 08:00-22:00</td>\n",
       "      <td>50692</td>\n",
       "      <td>ZARAGOZA</td>\n",
       "      <td>Zaragoza</td>\n",
       "      <td>VILLARRAPA</td>\n",
       "      <td>AUTOVIA A-68 KM. 258,25</td>\n",
       "      <td>REPSOL</td>\n",
       "      <td>1.999</td>\n",
       "      <td>1.581</td>\n",
       "      <td>2.089</td>\n",
       "      <td>1.809</td>\n",
       "      <td>1.959</td>\n",
       "      <td>1.94571</td>\n",
       "      <td>1.559088</td>\n",
       "      <td>2.042125</td>\n",
       "      <td>1.778614</td>\n",
       "      <td>1.931778</td>\n",
       "    </tr>\n",
       "    <tr>\n",
       "      <th>11780</th>\n",
       "      <td>08/11/2022 20:13:19</td>\n",
       "      <td>L-D: 06:00-22:00</td>\n",
       "      <td>50800</td>\n",
       "      <td>ZARAGOZA</td>\n",
       "      <td>Zuera</td>\n",
       "      <td>ZUERA</td>\n",
       "      <td>CARRETERA N-330A KM. 24,000</td>\n",
       "      <td>REPSOL</td>\n",
       "      <td>1.979</td>\n",
       "      <td>1.567</td>\n",
       "      <td>2.029</td>\n",
       "      <td>1.789</td>\n",
       "      <td>1.919</td>\n",
       "      <td>1.94571</td>\n",
       "      <td>1.559088</td>\n",
       "      <td>2.042125</td>\n",
       "      <td>1.778614</td>\n",
       "      <td>1.931778</td>\n",
       "    </tr>\n",
       "  </tbody>\n",
       "</table>\n",
       "<p>911 rows × 18 columns</p>\n",
       "</div>"
      ],
      "text/plain": [
       "                     Fecha                             Horario   C.P.  \\\n",
       "25     08/11/2022 20:13:19                    L-D: 08:00-16:00  02328   \n",
       "32     08/11/2022 20:13:19                    L-D: 06:00-23:30  02007   \n",
       "67     08/11/2022 20:13:19                    S-D: 07:00-15:00  02610   \n",
       "71     08/11/2022 20:13:19                    L-D: 07:00-21:00  02200   \n",
       "72     08/11/2022 20:13:19                    L-D: 06:00-23:00  02660   \n",
       "...                    ...                                 ...    ...   \n",
       "11742  08/11/2022 20:13:19                            L-D: 24H  50013   \n",
       "11769  08/11/2022 20:13:19                            L-D: 24H  50020   \n",
       "11772  08/11/2022 20:13:19                    L-D: 06:00-22:00  50190   \n",
       "11776  08/11/2022 20:13:19  L-V: 05:00-22:00; S-D: 08:00-22:00  50692   \n",
       "11780  08/11/2022 20:13:19                    L-D: 06:00-22:00  50800   \n",
       "\n",
       "      Provincia     Municipio      Localidad  \\\n",
       "25     ALBACETE      Albacete      SANTA ANA   \n",
       "32     ALBACETE      Albacete       ALBACETE   \n",
       "67     ALBACETE  Bonillo (El)   BONILLO (EL)   \n",
       "71     ALBACETE  Casas-Ibáñez   CASAS-IBAÑEZ   \n",
       "72     ALBACETE       Caudete        CAUDETE   \n",
       "...         ...           ...            ...   \n",
       "11742  ZARAGOZA      Zaragoza   CARTUJA BAJA   \n",
       "11769  ZARAGOZA      Zaragoza       ZARAGOZA   \n",
       "11772  ZARAGOZA      Zaragoza  GARRAPINILLOS   \n",
       "11776  ZARAGOZA      Zaragoza     VILLARRAPA   \n",
       "11780  ZARAGOZA         Zuera          ZUERA   \n",
       "\n",
       "                                     Dirección Proveedor de Servicio  \\\n",
       "25                         AVENIDA PRINCIPE, 2                REPSOL   \n",
       "32                   CARRETERA C-M 332 KM. 2,6  INLOCOR S.L. \"CEPSA\"   \n",
       "67                   CALLE CARRETERA MUNERA, 2                REPSOL   \n",
       "71                   CARRETERA ALBACETE KM. 94                 CEPSA   \n",
       "72                              CR N-330, 71,4                REPSOL   \n",
       "...                                        ...                   ...   \n",
       "11742              CARRETERA CASTELLON KM. 3,7          BP AVELLANAS   \n",
       "11769  AVENIDA DIAGONAL, 9 - POLIGONO PLAZA, 9                REPSOL   \n",
       "11772                  CARRETERA N-125 KM. 5,6                 CEPSA   \n",
       "11776                  AUTOVIA A-68 KM. 258,25                REPSOL   \n",
       "11780              CARRETERA N-330A KM. 24,000                REPSOL   \n",
       "\n",
       "       Gasoleo A  Gasoleo B  Gasoleo Premium  Gasolina 95 E5  Gasolina 98 E5  \\\n",
       "25         1.979      1.621            2.029           1.779           1.889   \n",
       "32         1.999      1.639            2.099           1.799           1.989   \n",
       "67         1.979      1.635            2.029           1.779           1.889   \n",
       "71         1.969      1.609            2.029           1.809           1.969   \n",
       "72         2.009      1.578            2.059           1.809           1.919   \n",
       "...          ...        ...              ...             ...             ...   \n",
       "11742      1.989      1.609            2.079           1.805           1.959   \n",
       "11769      2.009      1.643            2.069           1.809           1.959   \n",
       "11772      1.999      1.609            2.069           1.809           1.949   \n",
       "11776      1.999      1.581            2.089           1.809           1.959   \n",
       "11780      1.979      1.567            2.029           1.789           1.919   \n",
       "\n",
       "       Media_Gasoleo A  Media_Gasoleo B  Media_Gasoleo Prem  \\\n",
       "25             1.94571         1.559088            2.042125   \n",
       "32             1.94571         1.559088            2.042125   \n",
       "67             1.94571         1.559088            2.042125   \n",
       "71             1.94571         1.559088            2.042125   \n",
       "72             1.94571         1.559088            2.042125   \n",
       "...                ...              ...                 ...   \n",
       "11742          1.94571         1.559088            2.042125   \n",
       "11769          1.94571         1.559088            2.042125   \n",
       "11772          1.94571         1.559088            2.042125   \n",
       "11776          1.94571         1.559088            2.042125   \n",
       "11780          1.94571         1.559088            2.042125   \n",
       "\n",
       "       Media_Gasolina 95  Media_Gasolina 98  \n",
       "25              1.778614           1.931778  \n",
       "32              1.778614           1.931778  \n",
       "67              1.778614           1.931778  \n",
       "71              1.778614           1.931778  \n",
       "72              1.778614           1.931778  \n",
       "...                  ...                ...  \n",
       "11742           1.778614           1.931778  \n",
       "11769           1.778614           1.931778  \n",
       "11772           1.778614           1.931778  \n",
       "11776           1.778614           1.931778  \n",
       "11780           1.778614           1.931778  \n",
       "\n",
       "[911 rows x 18 columns]"
      ]
     },
     "execution_count": 152,
     "metadata": {},
     "output_type": "execute_result"
    }
   ],
   "source": [
    "df_n.dropna()"
   ]
  },
  {
   "cell_type": "markdown",
   "id": "26535421",
   "metadata": {},
   "source": [
    "# Pruebas de Código - PyChart"
   ]
  },
  {
   "cell_type": "code",
   "execution_count": 153,
   "id": "0ae77c25",
   "metadata": {},
   "outputs": [
    {
     "data": {
      "text/plain": [
       "float"
      ]
     },
     "execution_count": 153,
     "metadata": {},
     "output_type": "execute_result"
    }
   ],
   "source": [
    "media_municipio_1 = df_n[df_n[\"Municipio\"]==df_n['Municipio']]\n",
    "media_municipio_2 = media_municipio_1['Gasoleo A'].mean()\n",
    "media_municipio_2\n",
    "type(media_municipio_2)"
   ]
  },
  {
   "cell_type": "code",
   "execution_count": 154,
   "id": "5b3fdc31",
   "metadata": {},
   "outputs": [
    {
     "ename": "KeyError",
     "evalue": "'dev_Gasolina 98'",
     "output_type": "error",
     "traceback": [
      "\u001b[1;31m---------------------------------------------------------------------------\u001b[0m",
      "\u001b[1;31mKeyError\u001b[0m                                  Traceback (most recent call last)",
      "File \u001b[1;32m~\\miniconda3\\envs\\m1_ih\\lib\\site-packages\\pandas\\core\\indexes\\base.py:3621\u001b[0m, in \u001b[0;36mIndex.get_loc\u001b[1;34m(self, key, method, tolerance)\u001b[0m\n\u001b[0;32m   3620\u001b[0m \u001b[38;5;28;01mtry\u001b[39;00m:\n\u001b[1;32m-> 3621\u001b[0m     \u001b[38;5;28;01mreturn\u001b[39;00m \u001b[38;5;28;43mself\u001b[39;49m\u001b[38;5;241;43m.\u001b[39;49m\u001b[43m_engine\u001b[49m\u001b[38;5;241;43m.\u001b[39;49m\u001b[43mget_loc\u001b[49m\u001b[43m(\u001b[49m\u001b[43mcasted_key\u001b[49m\u001b[43m)\u001b[49m\n\u001b[0;32m   3622\u001b[0m \u001b[38;5;28;01mexcept\u001b[39;00m \u001b[38;5;167;01mKeyError\u001b[39;00m \u001b[38;5;28;01mas\u001b[39;00m err:\n",
      "File \u001b[1;32m~\\miniconda3\\envs\\m1_ih\\lib\\site-packages\\pandas\\_libs\\index.pyx:136\u001b[0m, in \u001b[0;36mpandas._libs.index.IndexEngine.get_loc\u001b[1;34m()\u001b[0m\n",
      "File \u001b[1;32m~\\miniconda3\\envs\\m1_ih\\lib\\site-packages\\pandas\\_libs\\index.pyx:163\u001b[0m, in \u001b[0;36mpandas._libs.index.IndexEngine.get_loc\u001b[1;34m()\u001b[0m\n",
      "File \u001b[1;32mpandas\\_libs\\hashtable_class_helper.pxi:5198\u001b[0m, in \u001b[0;36mpandas._libs.hashtable.PyObjectHashTable.get_item\u001b[1;34m()\u001b[0m\n",
      "File \u001b[1;32mpandas\\_libs\\hashtable_class_helper.pxi:5206\u001b[0m, in \u001b[0;36mpandas._libs.hashtable.PyObjectHashTable.get_item\u001b[1;34m()\u001b[0m\n",
      "\u001b[1;31mKeyError\u001b[0m: 'dev_Gasolina 98'",
      "\nThe above exception was the direct cause of the following exception:\n",
      "\u001b[1;31mKeyError\u001b[0m                                  Traceback (most recent call last)",
      "Input \u001b[1;32mIn [154]\u001b[0m, in \u001b[0;36m<cell line: 1>\u001b[1;34m()\u001b[0m\n\u001b[1;32m----> 1\u001b[0m \u001b[43mdf_n\u001b[49m\u001b[38;5;241;43m.\u001b[39;49m\u001b[43mloc\u001b[49m\u001b[43m[\u001b[49m\u001b[43m:\u001b[49m\u001b[43m,\u001b[49m\u001b[38;5;124;43m'\u001b[39;49m\u001b[38;5;124;43mGasoleo A\u001b[39;49m\u001b[38;5;124;43m'\u001b[39;49m\u001b[43m:\u001b[49m\u001b[38;5;124;43m'\u001b[39;49m\u001b[38;5;124;43mdev_Gasolina 98\u001b[39;49m\u001b[38;5;124;43m'\u001b[39;49m\u001b[43m]\u001b[49m\n",
      "File \u001b[1;32m~\\miniconda3\\envs\\m1_ih\\lib\\site-packages\\pandas\\core\\indexing.py:961\u001b[0m, in \u001b[0;36m_LocationIndexer.__getitem__\u001b[1;34m(self, key)\u001b[0m\n\u001b[0;32m    959\u001b[0m     \u001b[38;5;28;01mif\u001b[39;00m \u001b[38;5;28mself\u001b[39m\u001b[38;5;241m.\u001b[39m_is_scalar_access(key):\n\u001b[0;32m    960\u001b[0m         \u001b[38;5;28;01mreturn\u001b[39;00m \u001b[38;5;28mself\u001b[39m\u001b[38;5;241m.\u001b[39mobj\u001b[38;5;241m.\u001b[39m_get_value(\u001b[38;5;241m*\u001b[39mkey, takeable\u001b[38;5;241m=\u001b[39m\u001b[38;5;28mself\u001b[39m\u001b[38;5;241m.\u001b[39m_takeable)\n\u001b[1;32m--> 961\u001b[0m     \u001b[38;5;28;01mreturn\u001b[39;00m \u001b[38;5;28;43mself\u001b[39;49m\u001b[38;5;241;43m.\u001b[39;49m\u001b[43m_getitem_tuple\u001b[49m\u001b[43m(\u001b[49m\u001b[43mkey\u001b[49m\u001b[43m)\u001b[49m\n\u001b[0;32m    962\u001b[0m \u001b[38;5;28;01melse\u001b[39;00m:\n\u001b[0;32m    963\u001b[0m     \u001b[38;5;66;03m# we by definition only have the 0th axis\u001b[39;00m\n\u001b[0;32m    964\u001b[0m     axis \u001b[38;5;241m=\u001b[39m \u001b[38;5;28mself\u001b[39m\u001b[38;5;241m.\u001b[39maxis \u001b[38;5;129;01mor\u001b[39;00m \u001b[38;5;241m0\u001b[39m\n",
      "File \u001b[1;32m~\\miniconda3\\envs\\m1_ih\\lib\\site-packages\\pandas\\core\\indexing.py:1149\u001b[0m, in \u001b[0;36m_LocIndexer._getitem_tuple\u001b[1;34m(self, tup)\u001b[0m\n\u001b[0;32m   1146\u001b[0m \u001b[38;5;28;01mif\u001b[39;00m \u001b[38;5;28mself\u001b[39m\u001b[38;5;241m.\u001b[39m_multi_take_opportunity(tup):\n\u001b[0;32m   1147\u001b[0m     \u001b[38;5;28;01mreturn\u001b[39;00m \u001b[38;5;28mself\u001b[39m\u001b[38;5;241m.\u001b[39m_multi_take(tup)\n\u001b[1;32m-> 1149\u001b[0m \u001b[38;5;28;01mreturn\u001b[39;00m \u001b[38;5;28;43mself\u001b[39;49m\u001b[38;5;241;43m.\u001b[39;49m\u001b[43m_getitem_tuple_same_dim\u001b[49m\u001b[43m(\u001b[49m\u001b[43mtup\u001b[49m\u001b[43m)\u001b[49m\n",
      "File \u001b[1;32m~\\miniconda3\\envs\\m1_ih\\lib\\site-packages\\pandas\\core\\indexing.py:827\u001b[0m, in \u001b[0;36m_LocationIndexer._getitem_tuple_same_dim\u001b[1;34m(self, tup)\u001b[0m\n\u001b[0;32m    824\u001b[0m \u001b[38;5;28;01mif\u001b[39;00m com\u001b[38;5;241m.\u001b[39mis_null_slice(key):\n\u001b[0;32m    825\u001b[0m     \u001b[38;5;28;01mcontinue\u001b[39;00m\n\u001b[1;32m--> 827\u001b[0m retval \u001b[38;5;241m=\u001b[39m \u001b[38;5;28;43mgetattr\u001b[39;49m\u001b[43m(\u001b[49m\u001b[43mretval\u001b[49m\u001b[43m,\u001b[49m\u001b[43m \u001b[49m\u001b[38;5;28;43mself\u001b[39;49m\u001b[38;5;241;43m.\u001b[39;49m\u001b[43mname\u001b[49m\u001b[43m)\u001b[49m\u001b[38;5;241;43m.\u001b[39;49m\u001b[43m_getitem_axis\u001b[49m\u001b[43m(\u001b[49m\u001b[43mkey\u001b[49m\u001b[43m,\u001b[49m\u001b[43m \u001b[49m\u001b[43maxis\u001b[49m\u001b[38;5;241;43m=\u001b[39;49m\u001b[43mi\u001b[49m\u001b[43m)\u001b[49m\n\u001b[0;32m    828\u001b[0m \u001b[38;5;66;03m# We should never have retval.ndim < self.ndim, as that should\u001b[39;00m\n\u001b[0;32m    829\u001b[0m \u001b[38;5;66;03m#  be handled by the _getitem_lowerdim call above.\u001b[39;00m\n\u001b[0;32m    830\u001b[0m \u001b[38;5;28;01massert\u001b[39;00m retval\u001b[38;5;241m.\u001b[39mndim \u001b[38;5;241m==\u001b[39m \u001b[38;5;28mself\u001b[39m\u001b[38;5;241m.\u001b[39mndim\n",
      "File \u001b[1;32m~\\miniconda3\\envs\\m1_ih\\lib\\site-packages\\pandas\\core\\indexing.py:1180\u001b[0m, in \u001b[0;36m_LocIndexer._getitem_axis\u001b[1;34m(self, key, axis)\u001b[0m\n\u001b[0;32m   1178\u001b[0m \u001b[38;5;28;01mif\u001b[39;00m \u001b[38;5;28misinstance\u001b[39m(key, \u001b[38;5;28mslice\u001b[39m):\n\u001b[0;32m   1179\u001b[0m     \u001b[38;5;28mself\u001b[39m\u001b[38;5;241m.\u001b[39m_validate_key(key, axis)\n\u001b[1;32m-> 1180\u001b[0m     \u001b[38;5;28;01mreturn\u001b[39;00m \u001b[38;5;28;43mself\u001b[39;49m\u001b[38;5;241;43m.\u001b[39;49m\u001b[43m_get_slice_axis\u001b[49m\u001b[43m(\u001b[49m\u001b[43mkey\u001b[49m\u001b[43m,\u001b[49m\u001b[43m \u001b[49m\u001b[43maxis\u001b[49m\u001b[38;5;241;43m=\u001b[39;49m\u001b[43maxis\u001b[49m\u001b[43m)\u001b[49m\n\u001b[0;32m   1181\u001b[0m \u001b[38;5;28;01melif\u001b[39;00m com\u001b[38;5;241m.\u001b[39mis_bool_indexer(key):\n\u001b[0;32m   1182\u001b[0m     \u001b[38;5;28;01mreturn\u001b[39;00m \u001b[38;5;28mself\u001b[39m\u001b[38;5;241m.\u001b[39m_getbool_axis(key, axis\u001b[38;5;241m=\u001b[39maxis)\n",
      "File \u001b[1;32m~\\miniconda3\\envs\\m1_ih\\lib\\site-packages\\pandas\\core\\indexing.py:1214\u001b[0m, in \u001b[0;36m_LocIndexer._get_slice_axis\u001b[1;34m(self, slice_obj, axis)\u001b[0m\n\u001b[0;32m   1211\u001b[0m     \u001b[38;5;28;01mreturn\u001b[39;00m obj\u001b[38;5;241m.\u001b[39mcopy(deep\u001b[38;5;241m=\u001b[39m\u001b[38;5;28;01mFalse\u001b[39;00m)\n\u001b[0;32m   1213\u001b[0m labels \u001b[38;5;241m=\u001b[39m obj\u001b[38;5;241m.\u001b[39m_get_axis(axis)\n\u001b[1;32m-> 1214\u001b[0m indexer \u001b[38;5;241m=\u001b[39m \u001b[43mlabels\u001b[49m\u001b[38;5;241;43m.\u001b[39;49m\u001b[43mslice_indexer\u001b[49m\u001b[43m(\u001b[49m\u001b[43mslice_obj\u001b[49m\u001b[38;5;241;43m.\u001b[39;49m\u001b[43mstart\u001b[49m\u001b[43m,\u001b[49m\u001b[43m \u001b[49m\u001b[43mslice_obj\u001b[49m\u001b[38;5;241;43m.\u001b[39;49m\u001b[43mstop\u001b[49m\u001b[43m,\u001b[49m\u001b[43m \u001b[49m\u001b[43mslice_obj\u001b[49m\u001b[38;5;241;43m.\u001b[39;49m\u001b[43mstep\u001b[49m\u001b[43m)\u001b[49m\n\u001b[0;32m   1216\u001b[0m \u001b[38;5;28;01mif\u001b[39;00m \u001b[38;5;28misinstance\u001b[39m(indexer, \u001b[38;5;28mslice\u001b[39m):\n\u001b[0;32m   1217\u001b[0m     \u001b[38;5;28;01mreturn\u001b[39;00m \u001b[38;5;28mself\u001b[39m\u001b[38;5;241m.\u001b[39mobj\u001b[38;5;241m.\u001b[39m_slice(indexer, axis\u001b[38;5;241m=\u001b[39maxis)\n",
      "File \u001b[1;32m~\\miniconda3\\envs\\m1_ih\\lib\\site-packages\\pandas\\core\\indexes\\base.py:6274\u001b[0m, in \u001b[0;36mIndex.slice_indexer\u001b[1;34m(self, start, end, step, kind)\u001b[0m\n\u001b[0;32m   6231\u001b[0m \u001b[38;5;124;03m\"\"\"\u001b[39;00m\n\u001b[0;32m   6232\u001b[0m \u001b[38;5;124;03mCompute the slice indexer for input labels and step.\u001b[39;00m\n\u001b[0;32m   6233\u001b[0m \n\u001b[1;32m   (...)\u001b[0m\n\u001b[0;32m   6270\u001b[0m \u001b[38;5;124;03mslice(1, 3, None)\u001b[39;00m\n\u001b[0;32m   6271\u001b[0m \u001b[38;5;124;03m\"\"\"\u001b[39;00m\n\u001b[0;32m   6272\u001b[0m \u001b[38;5;28mself\u001b[39m\u001b[38;5;241m.\u001b[39m_deprecated_arg(kind, \u001b[38;5;124m\"\u001b[39m\u001b[38;5;124mkind\u001b[39m\u001b[38;5;124m\"\u001b[39m, \u001b[38;5;124m\"\u001b[39m\u001b[38;5;124mslice_indexer\u001b[39m\u001b[38;5;124m\"\u001b[39m)\n\u001b[1;32m-> 6274\u001b[0m start_slice, end_slice \u001b[38;5;241m=\u001b[39m \u001b[38;5;28;43mself\u001b[39;49m\u001b[38;5;241;43m.\u001b[39;49m\u001b[43mslice_locs\u001b[49m\u001b[43m(\u001b[49m\u001b[43mstart\u001b[49m\u001b[43m,\u001b[49m\u001b[43m \u001b[49m\u001b[43mend\u001b[49m\u001b[43m,\u001b[49m\u001b[43m \u001b[49m\u001b[43mstep\u001b[49m\u001b[38;5;241;43m=\u001b[39;49m\u001b[43mstep\u001b[49m\u001b[43m)\u001b[49m\n\u001b[0;32m   6276\u001b[0m \u001b[38;5;66;03m# return a slice\u001b[39;00m\n\u001b[0;32m   6277\u001b[0m \u001b[38;5;28;01mif\u001b[39;00m \u001b[38;5;129;01mnot\u001b[39;00m is_scalar(start_slice):\n",
      "File \u001b[1;32m~\\miniconda3\\envs\\m1_ih\\lib\\site-packages\\pandas\\core\\indexes\\base.py:6490\u001b[0m, in \u001b[0;36mIndex.slice_locs\u001b[1;34m(self, start, end, step, kind)\u001b[0m\n\u001b[0;32m   6488\u001b[0m end_slice \u001b[38;5;241m=\u001b[39m \u001b[38;5;28;01mNone\u001b[39;00m\n\u001b[0;32m   6489\u001b[0m \u001b[38;5;28;01mif\u001b[39;00m end \u001b[38;5;129;01mis\u001b[39;00m \u001b[38;5;129;01mnot\u001b[39;00m \u001b[38;5;28;01mNone\u001b[39;00m:\n\u001b[1;32m-> 6490\u001b[0m     end_slice \u001b[38;5;241m=\u001b[39m \u001b[38;5;28;43mself\u001b[39;49m\u001b[38;5;241;43m.\u001b[39;49m\u001b[43mget_slice_bound\u001b[49m\u001b[43m(\u001b[49m\u001b[43mend\u001b[49m\u001b[43m,\u001b[49m\u001b[43m \u001b[49m\u001b[38;5;124;43m\"\u001b[39;49m\u001b[38;5;124;43mright\u001b[39;49m\u001b[38;5;124;43m\"\u001b[39;49m\u001b[43m)\u001b[49m\n\u001b[0;32m   6491\u001b[0m \u001b[38;5;28;01mif\u001b[39;00m end_slice \u001b[38;5;129;01mis\u001b[39;00m \u001b[38;5;28;01mNone\u001b[39;00m:\n\u001b[0;32m   6492\u001b[0m     end_slice \u001b[38;5;241m=\u001b[39m \u001b[38;5;28mlen\u001b[39m(\u001b[38;5;28mself\u001b[39m)\n",
      "File \u001b[1;32m~\\miniconda3\\envs\\m1_ih\\lib\\site-packages\\pandas\\core\\indexes\\base.py:6403\u001b[0m, in \u001b[0;36mIndex.get_slice_bound\u001b[1;34m(self, label, side, kind)\u001b[0m\n\u001b[0;32m   6400\u001b[0m         \u001b[38;5;28;01mreturn\u001b[39;00m \u001b[38;5;28mself\u001b[39m\u001b[38;5;241m.\u001b[39m_searchsorted_monotonic(label, side)\n\u001b[0;32m   6401\u001b[0m     \u001b[38;5;28;01mexcept\u001b[39;00m \u001b[38;5;167;01mValueError\u001b[39;00m:\n\u001b[0;32m   6402\u001b[0m         \u001b[38;5;66;03m# raise the original KeyError\u001b[39;00m\n\u001b[1;32m-> 6403\u001b[0m         \u001b[38;5;28;01mraise\u001b[39;00m err\n\u001b[0;32m   6405\u001b[0m \u001b[38;5;28;01mif\u001b[39;00m \u001b[38;5;28misinstance\u001b[39m(slc, np\u001b[38;5;241m.\u001b[39mndarray):\n\u001b[0;32m   6406\u001b[0m     \u001b[38;5;66;03m# get_loc may return a boolean array, which\u001b[39;00m\n\u001b[0;32m   6407\u001b[0m     \u001b[38;5;66;03m# is OK as long as they are representable by a slice.\u001b[39;00m\n\u001b[0;32m   6408\u001b[0m     \u001b[38;5;28;01massert\u001b[39;00m is_bool_dtype(slc\u001b[38;5;241m.\u001b[39mdtype)\n",
      "File \u001b[1;32m~\\miniconda3\\envs\\m1_ih\\lib\\site-packages\\pandas\\core\\indexes\\base.py:6397\u001b[0m, in \u001b[0;36mIndex.get_slice_bound\u001b[1;34m(self, label, side, kind)\u001b[0m\n\u001b[0;32m   6395\u001b[0m \u001b[38;5;66;03m# we need to look up the label\u001b[39;00m\n\u001b[0;32m   6396\u001b[0m \u001b[38;5;28;01mtry\u001b[39;00m:\n\u001b[1;32m-> 6397\u001b[0m     slc \u001b[38;5;241m=\u001b[39m \u001b[38;5;28;43mself\u001b[39;49m\u001b[38;5;241;43m.\u001b[39;49m\u001b[43mget_loc\u001b[49m\u001b[43m(\u001b[49m\u001b[43mlabel\u001b[49m\u001b[43m)\u001b[49m\n\u001b[0;32m   6398\u001b[0m \u001b[38;5;28;01mexcept\u001b[39;00m \u001b[38;5;167;01mKeyError\u001b[39;00m \u001b[38;5;28;01mas\u001b[39;00m err:\n\u001b[0;32m   6399\u001b[0m     \u001b[38;5;28;01mtry\u001b[39;00m:\n",
      "File \u001b[1;32m~\\miniconda3\\envs\\m1_ih\\lib\\site-packages\\pandas\\core\\indexes\\base.py:3623\u001b[0m, in \u001b[0;36mIndex.get_loc\u001b[1;34m(self, key, method, tolerance)\u001b[0m\n\u001b[0;32m   3621\u001b[0m     \u001b[38;5;28;01mreturn\u001b[39;00m \u001b[38;5;28mself\u001b[39m\u001b[38;5;241m.\u001b[39m_engine\u001b[38;5;241m.\u001b[39mget_loc(casted_key)\n\u001b[0;32m   3622\u001b[0m \u001b[38;5;28;01mexcept\u001b[39;00m \u001b[38;5;167;01mKeyError\u001b[39;00m \u001b[38;5;28;01mas\u001b[39;00m err:\n\u001b[1;32m-> 3623\u001b[0m     \u001b[38;5;28;01mraise\u001b[39;00m \u001b[38;5;167;01mKeyError\u001b[39;00m(key) \u001b[38;5;28;01mfrom\u001b[39;00m \u001b[38;5;21;01merr\u001b[39;00m\n\u001b[0;32m   3624\u001b[0m \u001b[38;5;28;01mexcept\u001b[39;00m \u001b[38;5;167;01mTypeError\u001b[39;00m:\n\u001b[0;32m   3625\u001b[0m     \u001b[38;5;66;03m# If we have a listlike key, _check_indexing_error will raise\u001b[39;00m\n\u001b[0;32m   3626\u001b[0m     \u001b[38;5;66;03m#  InvalidIndexError. Otherwise we fall through and re-raise\u001b[39;00m\n\u001b[0;32m   3627\u001b[0m     \u001b[38;5;66;03m#  the TypeError.\u001b[39;00m\n\u001b[0;32m   3628\u001b[0m     \u001b[38;5;28mself\u001b[39m\u001b[38;5;241m.\u001b[39m_check_indexing_error(key)\n",
      "\u001b[1;31mKeyError\u001b[0m: 'dev_Gasolina 98'"
     ]
    }
   ],
   "source": [
    "df_n.loc[:,'Gasoleo A':'dev_Gasolina 98']"
   ]
  },
  {
   "cell_type": "code",
   "execution_count": null,
   "id": "d2c465f0",
   "metadata": {},
   "outputs": [],
   "source": [
    "df_n[['Gasoleo A']]"
   ]
  },
  {
   "cell_type": "code",
   "execution_count": null,
   "id": "8fc41865",
   "metadata": {},
   "outputs": [],
   "source": [
    "x = df_n.loc[0:0, 'Gasoleo A']\n",
    "\n",
    "x"
   ]
  },
  {
   "cell_type": "code",
   "execution_count": null,
   "id": "ebbd5bd7",
   "metadata": {},
   "outputs": [],
   "source": [
    "df_n[df_n['Gasoleo A']] == df_n[df_n['Media_Gasoleo A']]"
   ]
  },
  {
   "cell_type": "code",
   "execution_count": null,
   "id": "d6359596",
   "metadata": {},
   "outputs": [],
   "source": []
  },
  {
   "cell_type": "code",
   "execution_count": null,
   "id": "5554abd0",
   "metadata": {},
   "outputs": [],
   "source": []
  },
  {
   "cell_type": "code",
   "execution_count": null,
   "id": "9bdeaf58",
   "metadata": {},
   "outputs": [],
   "source": []
  },
  {
   "cell_type": "code",
   "execution_count": null,
   "id": "7ea9bb56",
   "metadata": {},
   "outputs": [],
   "source": []
  }
 ],
 "metadata": {
  "kernelspec": {
   "display_name": "Python [conda env:m1_ih]",
   "language": "python",
   "name": "conda-env-m1_ih-py"
  },
  "language_info": {
   "codemirror_mode": {
    "name": "ipython",
    "version": 3
   },
   "file_extension": ".py",
   "mimetype": "text/x-python",
   "name": "python",
   "nbconvert_exporter": "python",
   "pygments_lexer": "ipython3",
   "version": "3.9.12"
  }
 },
 "nbformat": 4,
 "nbformat_minor": 5
}
