{
 "cells": [
  {
   "cell_type": "markdown",
   "id": "3e6982b2",
   "metadata": {},
   "source": [
    "## MVP"
   ]
  },
  {
   "cell_type": "code",
   "execution_count": 1,
   "id": "2cef25b8",
   "metadata": {},
   "outputs": [],
   "source": [
    "# Imports\n",
    "\n",
    "# Pandas\n",
    "import pandas as pd \n",
    "\n",
    "# Importo libreria para conexión a API\n",
    "from urllib.request import urlopen\n",
    "\n",
    "# Importo libreria Json para que lea\n",
    "import json\n",
    "\n",
    "#Normalizar Json\n",
    "from pandas.io.json import json_normalize\n",
    "\n",
    "import numpy as np\n"
   ]
  },
  {
   "cell_type": "markdown",
   "id": "9397380f",
   "metadata": {},
   "source": [
    "---\n",
    "Step 1 (Data Extraction)"
   ]
  },
  {
   "cell_type": "code",
   "execution_count": 2,
   "id": "55515f32",
   "metadata": {},
   "outputs": [],
   "source": [
    "# Definir las variables donde meto el string que contiene la URL\n",
    "\n",
    "endpoint ='https://sedeaplicaciones.minetur.gob.es'\n",
    "parametros = '/ServiciosRESTCarburantes/PreciosCarburantes/EstacionesTerrestres/'\n"
   ]
  },
  {
   "cell_type": "code",
   "execution_count": 3,
   "id": "2d466973",
   "metadata": {},
   "outputs": [
    {
     "data": {
      "text/plain": [
       "http.client.HTTPResponse"
      ]
     },
     "execution_count": 3,
     "metadata": {},
     "output_type": "execute_result"
    }
   ],
   "source": [
    "# Vamos a guardar en una variable nuestros datos (resultado, comida) \n",
    "\n",
    "response = urlopen(endpoint+parametros)\n",
    "type(response)\n"
   ]
  },
  {
   "cell_type": "code",
   "execution_count": 4,
   "id": "0031d835",
   "metadata": {},
   "outputs": [
    {
     "data": {
      "text/plain": [
       "dict"
      ]
     },
     "execution_count": 4,
     "metadata": {},
     "output_type": "execute_result"
    }
   ],
   "source": [
    "# Vamos a extraer del obejto, los datos\n",
    "\n",
    "data = response.read().decode('utf-8', 'replace')\n",
    "data = json.loads(data)\n",
    "type(data)\n"
   ]
  },
  {
   "cell_type": "code",
   "execution_count": 5,
   "id": "501a7f08",
   "metadata": {},
   "outputs": [
    {
     "data": {
      "text/html": [
       "<div>\n",
       "<style scoped>\n",
       "    .dataframe tbody tr th:only-of-type {\n",
       "        vertical-align: middle;\n",
       "    }\n",
       "\n",
       "    .dataframe tbody tr th {\n",
       "        vertical-align: top;\n",
       "    }\n",
       "\n",
       "    .dataframe thead th {\n",
       "        text-align: right;\n",
       "    }\n",
       "</style>\n",
       "<table border=\"1\" class=\"dataframe\">\n",
       "  <thead>\n",
       "    <tr style=\"text-align: right;\">\n",
       "      <th></th>\n",
       "      <th>Fecha</th>\n",
       "      <th>ListaEESSPrecio</th>\n",
       "      <th>Nota</th>\n",
       "      <th>ResultadoConsulta</th>\n",
       "    </tr>\n",
       "  </thead>\n",
       "  <tbody>\n",
       "    <tr>\n",
       "      <th>0</th>\n",
       "      <td>17/12/2022 19:38:53</td>\n",
       "      <td>{'C.P.': '02250', 'Dirección': 'AVENIDA CASTIL...</td>\n",
       "      <td>Archivo de todos los productos en todas las es...</td>\n",
       "      <td>OK</td>\n",
       "    </tr>\n",
       "    <tr>\n",
       "      <th>1</th>\n",
       "      <td>17/12/2022 19:38:53</td>\n",
       "      <td>{'C.P.': '02001', 'Dirección': 'CALLE FEDERICO...</td>\n",
       "      <td>Archivo de todos los productos en todas las es...</td>\n",
       "      <td>OK</td>\n",
       "    </tr>\n",
       "    <tr>\n",
       "      <th>2</th>\n",
       "      <td>17/12/2022 19:38:53</td>\n",
       "      <td>{'C.P.': '02001', 'Dirección': 'CALLE FEDERICO...</td>\n",
       "      <td>Archivo de todos los productos en todas las es...</td>\n",
       "      <td>OK</td>\n",
       "    </tr>\n",
       "    <tr>\n",
       "      <th>3</th>\n",
       "      <td>17/12/2022 19:38:53</td>\n",
       "      <td>{'C.P.': '02001', 'Dirección': 'CALLE PRINCIPE...</td>\n",
       "      <td>Archivo de todos los productos en todas las es...</td>\n",
       "      <td>OK</td>\n",
       "    </tr>\n",
       "    <tr>\n",
       "      <th>4</th>\n",
       "      <td>17/12/2022 19:38:53</td>\n",
       "      <td>{'C.P.': '02001', 'Dirección': 'AVENIDA 1º DE ...</td>\n",
       "      <td>Archivo de todos los productos en todas las es...</td>\n",
       "      <td>OK</td>\n",
       "    </tr>\n",
       "    <tr>\n",
       "      <th>...</th>\n",
       "      <td>...</td>\n",
       "      <td>...</td>\n",
       "      <td>...</td>\n",
       "      <td>...</td>\n",
       "    </tr>\n",
       "    <tr>\n",
       "      <th>11837</th>\n",
       "      <td>17/12/2022 19:38:53</td>\n",
       "      <td>{'C.P.': '50197', 'Dirección': 'RONDA FERIA DE...</td>\n",
       "      <td>Archivo de todos los productos en todas las es...</td>\n",
       "      <td>OK</td>\n",
       "    </tr>\n",
       "    <tr>\n",
       "      <th>11838</th>\n",
       "      <td>17/12/2022 19:38:53</td>\n",
       "      <td>{'C.P.': '50197', 'Dirección': 'POLIGONO CALLE...</td>\n",
       "      <td>Archivo de todos los productos en todas las es...</td>\n",
       "      <td>OK</td>\n",
       "    </tr>\n",
       "    <tr>\n",
       "      <th>11839</th>\n",
       "      <td>17/12/2022 19:38:53</td>\n",
       "      <td>{'C.P.': '50800', 'Dirección': 'CARRETERA N-33...</td>\n",
       "      <td>Archivo de todos los productos en todas las es...</td>\n",
       "      <td>OK</td>\n",
       "    </tr>\n",
       "    <tr>\n",
       "      <th>11840</th>\n",
       "      <td>17/12/2022 19:38:53</td>\n",
       "      <td>{'C.P.': '50800', 'Dirección': 'CALLE AUSTRIA,...</td>\n",
       "      <td>Archivo de todos los productos en todas las es...</td>\n",
       "      <td>OK</td>\n",
       "    </tr>\n",
       "    <tr>\n",
       "      <th>11841</th>\n",
       "      <td>17/12/2022 19:38:53</td>\n",
       "      <td>{'C.P.': '50810', 'Dirección': 'CALLE COOPERAT...</td>\n",
       "      <td>Archivo de todos los productos en todas las es...</td>\n",
       "      <td>OK</td>\n",
       "    </tr>\n",
       "  </tbody>\n",
       "</table>\n",
       "<p>11842 rows × 4 columns</p>\n",
       "</div>"
      ],
      "text/plain": [
       "                     Fecha                                    ListaEESSPrecio  \\\n",
       "0      17/12/2022 19:38:53  {'C.P.': '02250', 'Dirección': 'AVENIDA CASTIL...   \n",
       "1      17/12/2022 19:38:53  {'C.P.': '02001', 'Dirección': 'CALLE FEDERICO...   \n",
       "2      17/12/2022 19:38:53  {'C.P.': '02001', 'Dirección': 'CALLE FEDERICO...   \n",
       "3      17/12/2022 19:38:53  {'C.P.': '02001', 'Dirección': 'CALLE PRINCIPE...   \n",
       "4      17/12/2022 19:38:53  {'C.P.': '02001', 'Dirección': 'AVENIDA 1º DE ...   \n",
       "...                    ...                                                ...   \n",
       "11837  17/12/2022 19:38:53  {'C.P.': '50197', 'Dirección': 'RONDA FERIA DE...   \n",
       "11838  17/12/2022 19:38:53  {'C.P.': '50197', 'Dirección': 'POLIGONO CALLE...   \n",
       "11839  17/12/2022 19:38:53  {'C.P.': '50800', 'Dirección': 'CARRETERA N-33...   \n",
       "11840  17/12/2022 19:38:53  {'C.P.': '50800', 'Dirección': 'CALLE AUSTRIA,...   \n",
       "11841  17/12/2022 19:38:53  {'C.P.': '50810', 'Dirección': 'CALLE COOPERAT...   \n",
       "\n",
       "                                                    Nota ResultadoConsulta  \n",
       "0      Archivo de todos los productos en todas las es...                OK  \n",
       "1      Archivo de todos los productos en todas las es...                OK  \n",
       "2      Archivo de todos los productos en todas las es...                OK  \n",
       "3      Archivo de todos los productos en todas las es...                OK  \n",
       "4      Archivo de todos los productos en todas las es...                OK  \n",
       "...                                                  ...               ...  \n",
       "11837  Archivo de todos los productos en todas las es...                OK  \n",
       "11838  Archivo de todos los productos en todas las es...                OK  \n",
       "11839  Archivo de todos los productos en todas las es...                OK  \n",
       "11840  Archivo de todos los productos en todas las es...                OK  \n",
       "11841  Archivo de todos los productos en todas las es...                OK  \n",
       "\n",
       "[11842 rows x 4 columns]"
      ]
     },
     "execution_count": 5,
     "metadata": {},
     "output_type": "execute_result"
    }
   ],
   "source": [
    "# Crear Dataframe\n",
    "\n",
    "df = pd.DataFrame(data)\n",
    "df"
   ]
  },
  {
   "cell_type": "markdown",
   "id": "bf936489",
   "metadata": {},
   "source": [
    "---\n",
    "\n",
    "Step 2 (Data Transformation)"
   ]
  },
  {
   "cell_type": "code",
   "execution_count": 6,
   "id": "82a65952",
   "metadata": {},
   "outputs": [
    {
     "data": {
      "text/plain": [
       "dict"
      ]
     },
     "execution_count": 6,
     "metadata": {},
     "output_type": "execute_result"
    }
   ],
   "source": [
    "# Análisis de la columna Lista EESS Precio\n",
    "\n",
    "diccionario = df['ListaEESSPrecio'].iloc[1]\n",
    "type(diccionario)"
   ]
  },
  {
   "cell_type": "code",
   "execution_count": 7,
   "id": "3207dce3",
   "metadata": {},
   "outputs": [
    {
     "data": {
      "text/plain": [
       "{'C.P.': '02001',\n",
       " 'Dirección': 'CALLE FEDERICO GARCIA LORCA, 5',\n",
       " 'Horario': 'L-S: 05:00-23:00',\n",
       " 'Latitud': '38,997722',\n",
       " 'Localidad': 'ALBACETE',\n",
       " 'Longitud (WGS84)': '-1,846361',\n",
       " 'Margen': 'I',\n",
       " 'Municipio': 'Albacete',\n",
       " 'Precio Biodiesel': '',\n",
       " 'Precio Bioetanol': '',\n",
       " 'Precio Gas Natural Comprimido': '',\n",
       " 'Precio Gas Natural Licuado': '',\n",
       " 'Precio Gases licuados del petróleo': '',\n",
       " 'Precio Gasoleo A': '1,730',\n",
       " 'Precio Gasoleo B': '',\n",
       " 'Precio Gasoleo Premium': '',\n",
       " 'Precio Gasolina 95 E10': '',\n",
       " 'Precio Gasolina 95 E5': '',\n",
       " 'Precio Gasolina 95 E5 Premium': '',\n",
       " 'Precio Gasolina 98 E10': '',\n",
       " 'Precio Gasolina 98 E5': '',\n",
       " 'Precio Hidrogeno': '',\n",
       " 'Provincia': 'ALBACETE',\n",
       " 'Remisión': 'dm',\n",
       " 'Rótulo': 'CEPSA',\n",
       " 'Tipo Venta': 'R',\n",
       " '% BioEtanol': '0,0',\n",
       " '% Éster metílico': '0,0',\n",
       " 'IDEESS': '4438',\n",
       " 'IDMunicipio': '54',\n",
       " 'IDProvincia': '02',\n",
       " 'IDCCAA': '07'}"
      ]
     },
     "execution_count": 7,
     "metadata": {},
     "output_type": "execute_result"
    }
   ],
   "source": [
    "diccionario"
   ]
  },
  {
   "cell_type": "code",
   "execution_count": 8,
   "id": "b1c814d5",
   "metadata": {
    "scrolled": true
   },
   "outputs": [
    {
     "data": {
      "text/html": [
       "<div>\n",
       "<style scoped>\n",
       "    .dataframe tbody tr th:only-of-type {\n",
       "        vertical-align: middle;\n",
       "    }\n",
       "\n",
       "    .dataframe tbody tr th {\n",
       "        vertical-align: top;\n",
       "    }\n",
       "\n",
       "    .dataframe thead th {\n",
       "        text-align: right;\n",
       "    }\n",
       "</style>\n",
       "<table border=\"1\" class=\"dataframe\">\n",
       "  <thead>\n",
       "    <tr style=\"text-align: right;\">\n",
       "      <th></th>\n",
       "      <th>Fecha</th>\n",
       "      <th>C.P.</th>\n",
       "      <th>Dirección</th>\n",
       "      <th>Horario</th>\n",
       "      <th>Latitud</th>\n",
       "      <th>Localidad</th>\n",
       "      <th>Longitud (WGS84)</th>\n",
       "      <th>Margen</th>\n",
       "      <th>Municipio</th>\n",
       "      <th>Precio Biodiesel</th>\n",
       "      <th>...</th>\n",
       "      <th>Provincia</th>\n",
       "      <th>Remisión</th>\n",
       "      <th>Rótulo</th>\n",
       "      <th>Tipo Venta</th>\n",
       "      <th>% BioEtanol</th>\n",
       "      <th>% Éster metílico</th>\n",
       "      <th>IDEESS</th>\n",
       "      <th>IDMunicipio</th>\n",
       "      <th>IDProvincia</th>\n",
       "      <th>IDCCAA</th>\n",
       "    </tr>\n",
       "  </thead>\n",
       "  <tbody>\n",
       "    <tr>\n",
       "      <th>0</th>\n",
       "      <td>17/12/2022 19:38:53</td>\n",
       "      <td>02250</td>\n",
       "      <td>AVENIDA CASTILLA LA MANCHA, 26</td>\n",
       "      <td>L-D: 07:00-22:00</td>\n",
       "      <td>39,211417</td>\n",
       "      <td>ABENGIBRE</td>\n",
       "      <td>-1,539167</td>\n",
       "      <td>D</td>\n",
       "      <td>Abengibre</td>\n",
       "      <td></td>\n",
       "      <td>...</td>\n",
       "      <td>ALBACETE</td>\n",
       "      <td>dm</td>\n",
       "      <td>Nº 10.935</td>\n",
       "      <td>P</td>\n",
       "      <td>0,0</td>\n",
       "      <td>0,0</td>\n",
       "      <td>4375</td>\n",
       "      <td>52</td>\n",
       "      <td>02</td>\n",
       "      <td>07</td>\n",
       "    </tr>\n",
       "    <tr>\n",
       "      <th>1</th>\n",
       "      <td>17/12/2022 19:38:53</td>\n",
       "      <td>02001</td>\n",
       "      <td>CALLE FEDERICO GARCIA LORCA, 5</td>\n",
       "      <td>L-S: 05:00-23:00</td>\n",
       "      <td>38,997722</td>\n",
       "      <td>ALBACETE</td>\n",
       "      <td>-1,846361</td>\n",
       "      <td>I</td>\n",
       "      <td>Albacete</td>\n",
       "      <td></td>\n",
       "      <td>...</td>\n",
       "      <td>ALBACETE</td>\n",
       "      <td>dm</td>\n",
       "      <td>CEPSA</td>\n",
       "      <td>R</td>\n",
       "      <td>0,0</td>\n",
       "      <td>0,0</td>\n",
       "      <td>4438</td>\n",
       "      <td>54</td>\n",
       "      <td>02</td>\n",
       "      <td>07</td>\n",
       "    </tr>\n",
       "    <tr>\n",
       "      <th>2</th>\n",
       "      <td>17/12/2022 19:38:53</td>\n",
       "      <td>02001</td>\n",
       "      <td>CALLE FEDERICO GARCIA LORCA, 1</td>\n",
       "      <td>L-D: 24H</td>\n",
       "      <td>39,000861</td>\n",
       "      <td>ALBACETE</td>\n",
       "      <td>-1,849833</td>\n",
       "      <td>D</td>\n",
       "      <td>Albacete</td>\n",
       "      <td></td>\n",
       "      <td>...</td>\n",
       "      <td>ALBACETE</td>\n",
       "      <td>dm</td>\n",
       "      <td>PLENOIL</td>\n",
       "      <td>P</td>\n",
       "      <td>0,0</td>\n",
       "      <td>0,0</td>\n",
       "      <td>13933</td>\n",
       "      <td>54</td>\n",
       "      <td>02</td>\n",
       "      <td>07</td>\n",
       "    </tr>\n",
       "    <tr>\n",
       "      <th>3</th>\n",
       "      <td>17/12/2022 19:38:53</td>\n",
       "      <td>02001</td>\n",
       "      <td>CALLE PRINCIPE DE ASTURIAS (POLÍGONO DE ROMICA...</td>\n",
       "      <td>L-D: 06:00-21:30</td>\n",
       "      <td>39,054694</td>\n",
       "      <td>ALBACETE</td>\n",
       "      <td>-1,832000</td>\n",
       "      <td>I</td>\n",
       "      <td>Albacete</td>\n",
       "      <td></td>\n",
       "      <td>...</td>\n",
       "      <td>ALBACETE</td>\n",
       "      <td>OM</td>\n",
       "      <td>BP ROMICA</td>\n",
       "      <td>P</td>\n",
       "      <td>0,0</td>\n",
       "      <td>0,0</td>\n",
       "      <td>12054</td>\n",
       "      <td>54</td>\n",
       "      <td>02</td>\n",
       "      <td>07</td>\n",
       "    </tr>\n",
       "    <tr>\n",
       "      <th>4</th>\n",
       "      <td>17/12/2022 19:38:53</td>\n",
       "      <td>02001</td>\n",
       "      <td>AVENIDA 1º DE MAYO, S/N</td>\n",
       "      <td>L-S: 08:00-22:00; D: 09:00-21:00</td>\n",
       "      <td>38,985667</td>\n",
       "      <td>ALBACETE</td>\n",
       "      <td>-1,868500</td>\n",
       "      <td>N</td>\n",
       "      <td>Albacete</td>\n",
       "      <td></td>\n",
       "      <td>...</td>\n",
       "      <td>ALBACETE</td>\n",
       "      <td>dm</td>\n",
       "      <td>CARREFOUR</td>\n",
       "      <td>P</td>\n",
       "      <td>0,0</td>\n",
       "      <td>0,0</td>\n",
       "      <td>10765</td>\n",
       "      <td>54</td>\n",
       "      <td>02</td>\n",
       "      <td>07</td>\n",
       "    </tr>\n",
       "    <tr>\n",
       "      <th>...</th>\n",
       "      <td>...</td>\n",
       "      <td>...</td>\n",
       "      <td>...</td>\n",
       "      <td>...</td>\n",
       "      <td>...</td>\n",
       "      <td>...</td>\n",
       "      <td>...</td>\n",
       "      <td>...</td>\n",
       "      <td>...</td>\n",
       "      <td>...</td>\n",
       "      <td>...</td>\n",
       "      <td>...</td>\n",
       "      <td>...</td>\n",
       "      <td>...</td>\n",
       "      <td>...</td>\n",
       "      <td>...</td>\n",
       "      <td>...</td>\n",
       "      <td>...</td>\n",
       "      <td>...</td>\n",
       "      <td>...</td>\n",
       "      <td>...</td>\n",
       "    </tr>\n",
       "    <tr>\n",
       "      <th>11837</th>\n",
       "      <td>17/12/2022 19:38:53</td>\n",
       "      <td>50197</td>\n",
       "      <td>RONDA FERIA DE MUESTRAS, DE LA, 20</td>\n",
       "      <td>L-D: 24H</td>\n",
       "      <td>41,637944</td>\n",
       "      <td>ZARAGOZA</td>\n",
       "      <td>-0,986389</td>\n",
       "      <td>D</td>\n",
       "      <td>Zaragoza</td>\n",
       "      <td></td>\n",
       "      <td>...</td>\n",
       "      <td>ZARAGOZA</td>\n",
       "      <td>OM</td>\n",
       "      <td>IDS</td>\n",
       "      <td>P</td>\n",
       "      <td>0,0</td>\n",
       "      <td>0,0</td>\n",
       "      <td>12472</td>\n",
       "      <td>8108</td>\n",
       "      <td>50</td>\n",
       "      <td>02</td>\n",
       "    </tr>\n",
       "    <tr>\n",
       "      <th>11838</th>\n",
       "      <td>17/12/2022 19:38:53</td>\n",
       "      <td>50197</td>\n",
       "      <td>POLIGONO CALLE TURIASO, 31</td>\n",
       "      <td>L-D: 24H</td>\n",
       "      <td>41,645722</td>\n",
       "      <td>ZARAGOZA</td>\n",
       "      <td>-0,974194</td>\n",
       "      <td>D</td>\n",
       "      <td>Zaragoza</td>\n",
       "      <td></td>\n",
       "      <td>...</td>\n",
       "      <td>ZARAGOZA</td>\n",
       "      <td>dm</td>\n",
       "      <td>NOIL</td>\n",
       "      <td>P</td>\n",
       "      <td>0,0</td>\n",
       "      <td>0,0</td>\n",
       "      <td>13917</td>\n",
       "      <td>8108</td>\n",
       "      <td>50</td>\n",
       "      <td>02</td>\n",
       "    </tr>\n",
       "    <tr>\n",
       "      <th>11839</th>\n",
       "      <td>17/12/2022 19:38:53</td>\n",
       "      <td>50800</td>\n",
       "      <td>CARRETERA N-330A KM. 24,000</td>\n",
       "      <td>L-D: 06:00-22:00</td>\n",
       "      <td>41,857000</td>\n",
       "      <td>ZUERA</td>\n",
       "      <td>-0,794000</td>\n",
       "      <td>D</td>\n",
       "      <td>Zuera</td>\n",
       "      <td></td>\n",
       "      <td>...</td>\n",
       "      <td>ZARAGOZA</td>\n",
       "      <td>OM</td>\n",
       "      <td>REPSOL</td>\n",
       "      <td>P</td>\n",
       "      <td>0,0</td>\n",
       "      <td>0,0</td>\n",
       "      <td>1452</td>\n",
       "      <td>8109</td>\n",
       "      <td>50</td>\n",
       "      <td>02</td>\n",
       "    </tr>\n",
       "    <tr>\n",
       "      <th>11840</th>\n",
       "      <td>17/12/2022 19:38:53</td>\n",
       "      <td>50800</td>\n",
       "      <td>CALLE AUSTRIA, 11,17</td>\n",
       "      <td>L-D: 24H</td>\n",
       "      <td>41,883583</td>\n",
       "      <td>ZUERA</td>\n",
       "      <td>-0,782833</td>\n",
       "      <td>D</td>\n",
       "      <td>Zuera</td>\n",
       "      <td></td>\n",
       "      <td>...</td>\n",
       "      <td>ZARAGOZA</td>\n",
       "      <td>dm</td>\n",
       "      <td>AN ENERGETICOS ZUERA</td>\n",
       "      <td>P</td>\n",
       "      <td>0,0</td>\n",
       "      <td>0,0</td>\n",
       "      <td>9085</td>\n",
       "      <td>8109</td>\n",
       "      <td>50</td>\n",
       "      <td>02</td>\n",
       "    </tr>\n",
       "    <tr>\n",
       "      <th>11841</th>\n",
       "      <td>17/12/2022 19:38:53</td>\n",
       "      <td>50810</td>\n",
       "      <td>CALLE COOPERATIVA, 2</td>\n",
       "      <td>L-D: 24H</td>\n",
       "      <td>41,938750</td>\n",
       "      <td>ONTINAR DE SALZ</td>\n",
       "      <td>-0,757611</td>\n",
       "      <td>D</td>\n",
       "      <td>Zuera</td>\n",
       "      <td></td>\n",
       "      <td>...</td>\n",
       "      <td>ZARAGOZA</td>\n",
       "      <td>dm</td>\n",
       "      <td>COOPERATIVA SAN ISIDRO</td>\n",
       "      <td>P</td>\n",
       "      <td>0,0</td>\n",
       "      <td>0,0</td>\n",
       "      <td>9068</td>\n",
       "      <td>8109</td>\n",
       "      <td>50</td>\n",
       "      <td>02</td>\n",
       "    </tr>\n",
       "  </tbody>\n",
       "</table>\n",
       "<p>11842 rows × 33 columns</p>\n",
       "</div>"
      ],
      "text/plain": [
       "                     Fecha   C.P.  \\\n",
       "0      17/12/2022 19:38:53  02250   \n",
       "1      17/12/2022 19:38:53  02001   \n",
       "2      17/12/2022 19:38:53  02001   \n",
       "3      17/12/2022 19:38:53  02001   \n",
       "4      17/12/2022 19:38:53  02001   \n",
       "...                    ...    ...   \n",
       "11837  17/12/2022 19:38:53  50197   \n",
       "11838  17/12/2022 19:38:53  50197   \n",
       "11839  17/12/2022 19:38:53  50800   \n",
       "11840  17/12/2022 19:38:53  50800   \n",
       "11841  17/12/2022 19:38:53  50810   \n",
       "\n",
       "                                               Dirección  \\\n",
       "0                         AVENIDA CASTILLA LA MANCHA, 26   \n",
       "1                         CALLE FEDERICO GARCIA LORCA, 5   \n",
       "2                         CALLE FEDERICO GARCIA LORCA, 1   \n",
       "3      CALLE PRINCIPE DE ASTURIAS (POLÍGONO DE ROMICA...   \n",
       "4                                AVENIDA 1º DE MAYO, S/N   \n",
       "...                                                  ...   \n",
       "11837                 RONDA FERIA DE MUESTRAS, DE LA, 20   \n",
       "11838                         POLIGONO CALLE TURIASO, 31   \n",
       "11839                        CARRETERA N-330A KM. 24,000   \n",
       "11840                               CALLE AUSTRIA, 11,17   \n",
       "11841                               CALLE COOPERATIVA, 2   \n",
       "\n",
       "                                Horario    Latitud        Localidad  \\\n",
       "0                      L-D: 07:00-22:00  39,211417        ABENGIBRE   \n",
       "1                      L-S: 05:00-23:00  38,997722         ALBACETE   \n",
       "2                              L-D: 24H  39,000861         ALBACETE   \n",
       "3                      L-D: 06:00-21:30  39,054694         ALBACETE   \n",
       "4      L-S: 08:00-22:00; D: 09:00-21:00  38,985667         ALBACETE   \n",
       "...                                 ...        ...              ...   \n",
       "11837                          L-D: 24H  41,637944         ZARAGOZA   \n",
       "11838                          L-D: 24H  41,645722         ZARAGOZA   \n",
       "11839                  L-D: 06:00-22:00  41,857000            ZUERA   \n",
       "11840                          L-D: 24H  41,883583            ZUERA   \n",
       "11841                          L-D: 24H  41,938750  ONTINAR DE SALZ   \n",
       "\n",
       "      Longitud (WGS84) Margen  Municipio Precio Biodiesel  ... Provincia  \\\n",
       "0            -1,539167      D  Abengibre                   ...  ALBACETE   \n",
       "1            -1,846361      I   Albacete                   ...  ALBACETE   \n",
       "2            -1,849833      D   Albacete                   ...  ALBACETE   \n",
       "3            -1,832000      I   Albacete                   ...  ALBACETE   \n",
       "4            -1,868500      N   Albacete                   ...  ALBACETE   \n",
       "...                ...    ...        ...              ...  ...       ...   \n",
       "11837        -0,986389      D   Zaragoza                   ...  ZARAGOZA   \n",
       "11838        -0,974194      D   Zaragoza                   ...  ZARAGOZA   \n",
       "11839        -0,794000      D      Zuera                   ...  ZARAGOZA   \n",
       "11840        -0,782833      D      Zuera                   ...  ZARAGOZA   \n",
       "11841        -0,757611      D      Zuera                   ...  ZARAGOZA   \n",
       "\n",
       "      Remisión                  Rótulo Tipo Venta % BioEtanol  \\\n",
       "0           dm               Nº 10.935          P         0,0   \n",
       "1           dm                   CEPSA          R         0,0   \n",
       "2           dm                 PLENOIL          P         0,0   \n",
       "3           OM               BP ROMICA          P         0,0   \n",
       "4           dm               CARREFOUR          P         0,0   \n",
       "...        ...                     ...        ...         ...   \n",
       "11837       OM                     IDS          P         0,0   \n",
       "11838       dm                    NOIL          P         0,0   \n",
       "11839       OM                  REPSOL          P         0,0   \n",
       "11840       dm    AN ENERGETICOS ZUERA          P         0,0   \n",
       "11841       dm  COOPERATIVA SAN ISIDRO          P         0,0   \n",
       "\n",
       "      % Éster metílico IDEESS IDMunicipio IDProvincia IDCCAA  \n",
       "0                  0,0   4375          52          02     07  \n",
       "1                  0,0   4438          54          02     07  \n",
       "2                  0,0  13933          54          02     07  \n",
       "3                  0,0  12054          54          02     07  \n",
       "4                  0,0  10765          54          02     07  \n",
       "...                ...    ...         ...         ...    ...  \n",
       "11837              0,0  12472        8108          50     02  \n",
       "11838              0,0  13917        8108          50     02  \n",
       "11839              0,0   1452        8109          50     02  \n",
       "11840              0,0   9085        8109          50     02  \n",
       "11841              0,0   9068        8109          50     02  \n",
       "\n",
       "[11842 rows x 33 columns]"
      ]
     },
     "execution_count": 8,
     "metadata": {},
     "output_type": "execute_result"
    }
   ],
   "source": [
    "# Extraigo informacion de columna EESS Precio, utilizando json normalize\n",
    "\n",
    "df_n = pd.concat([df[['Fecha']],pd.json_normalize(df['ListaEESSPrecio'])], axis=1)\n",
    "df_n\n"
   ]
  },
  {
   "cell_type": "code",
   "execution_count": 9,
   "id": "90463003",
   "metadata": {},
   "outputs": [],
   "source": [
    "# Guardamos df original para sucesion de tiempo\n",
    "#df_n.to_csv('2022-11-05x.csv', index=False)"
   ]
  },
  {
   "cell_type": "code",
   "execution_count": 10,
   "id": "2d75fcc5",
   "metadata": {
    "scrolled": true
   },
   "outputs": [
    {
     "name": "stdout",
     "output_type": "stream",
     "text": [
      "<class 'pandas.core.frame.DataFrame'>\n",
      "RangeIndex: 11842 entries, 0 to 11841\n",
      "Data columns (total 33 columns):\n",
      " #   Column                              Non-Null Count  Dtype \n",
      "---  ------                              --------------  ----- \n",
      " 0   Fecha                               11842 non-null  object\n",
      " 1   C.P.                                11842 non-null  object\n",
      " 2   Dirección                           11842 non-null  object\n",
      " 3   Horario                             11842 non-null  object\n",
      " 4   Latitud                             11842 non-null  object\n",
      " 5   Localidad                           11842 non-null  object\n",
      " 6   Longitud (WGS84)                    11842 non-null  object\n",
      " 7   Margen                              11842 non-null  object\n",
      " 8   Municipio                           11842 non-null  object\n",
      " 9   Precio Biodiesel                    11842 non-null  object\n",
      " 10  Precio Bioetanol                    11842 non-null  object\n",
      " 11  Precio Gas Natural Comprimido       11842 non-null  object\n",
      " 12  Precio Gas Natural Licuado          11842 non-null  object\n",
      " 13  Precio Gases licuados del petróleo  11842 non-null  object\n",
      " 14  Precio Gasoleo A                    11842 non-null  object\n",
      " 15  Precio Gasoleo B                    11842 non-null  object\n",
      " 16  Precio Gasoleo Premium              11842 non-null  object\n",
      " 17  Precio Gasolina 95 E10              11842 non-null  object\n",
      " 18  Precio Gasolina 95 E5               11842 non-null  object\n",
      " 19  Precio Gasolina 95 E5 Premium       11842 non-null  object\n",
      " 20  Precio Gasolina 98 E10              11842 non-null  object\n",
      " 21  Precio Gasolina 98 E5               11842 non-null  object\n",
      " 22  Precio Hidrogeno                    11842 non-null  object\n",
      " 23  Provincia                           11842 non-null  object\n",
      " 24  Remisión                            11842 non-null  object\n",
      " 25  Rótulo                              11842 non-null  object\n",
      " 26  Tipo Venta                          11842 non-null  object\n",
      " 27  % BioEtanol                         11842 non-null  object\n",
      " 28  % Éster metílico                    11842 non-null  object\n",
      " 29  IDEESS                              11842 non-null  object\n",
      " 30  IDMunicipio                         11842 non-null  object\n",
      " 31  IDProvincia                         11842 non-null  object\n",
      " 32  IDCCAA                              11842 non-null  object\n",
      "dtypes: object(33)\n",
      "memory usage: 3.0+ MB\n"
     ]
    }
   ],
   "source": [
    "df_n.info()"
   ]
  },
  {
   "cell_type": "markdown",
   "id": "ee524e6e",
   "metadata": {},
   "source": [
    "---\n",
    "Step (3): EDA"
   ]
  },
  {
   "cell_type": "markdown",
   "id": "7027ceb6",
   "metadata": {},
   "source": [
    "                                                    Análisis de Columnas"
   ]
  },
  {
   "cell_type": "markdown",
   "id": "4deaad69",
   "metadata": {},
   "source": [
    "# Fecha"
   ]
  },
  {
   "cell_type": "code",
   "execution_count": 11,
   "id": "dd7735c8",
   "metadata": {},
   "outputs": [
    {
     "name": "stdout",
     "output_type": "stream",
     "text": [
      "<class 'numpy.ndarray'>\n",
      "1\n"
     ]
    },
    {
     "data": {
      "text/plain": [
       "array(['17/12/2022 19:38:53'], dtype=object)"
      ]
     },
     "execution_count": 11,
     "metadata": {},
     "output_type": "execute_result"
    }
   ],
   "source": [
    "# Fecha (solo hay una fecha)\n",
    "Fecha = df_n['Fecha'].unique()\n",
    "print(type(Fecha))\n",
    "print(len(Fecha))\n",
    "Fecha"
   ]
  },
  {
   "cell_type": "code",
   "execution_count": 12,
   "id": "5d054a1e",
   "metadata": {},
   "outputs": [
    {
     "data": {
      "text/plain": [
       "0"
      ]
     },
     "execution_count": 12,
     "metadata": {},
     "output_type": "execute_result"
    }
   ],
   "source": [
    "# Nulos \n",
    "nulos_f = df_n['Fecha'].isnull().sum()\n",
    "nulos_f"
   ]
  },
  {
   "cell_type": "markdown",
   "id": "addc43ab",
   "metadata": {},
   "source": [
    "# Código Postal"
   ]
  },
  {
   "cell_type": "code",
   "execution_count": 13,
   "id": "603eca2d",
   "metadata": {},
   "outputs": [
    {
     "name": "stdout",
     "output_type": "stream",
     "text": [
      "<class 'numpy.ndarray'>\n",
      "4543\n"
     ]
    },
    {
     "data": {
      "text/plain": [
       "array(['02250', '02001', '02005', ..., '50197', '50800', '50810'],\n",
       "      dtype=object)"
      ]
     },
     "execution_count": 13,
     "metadata": {},
     "output_type": "execute_result"
    }
   ],
   "source": [
    "# Columna C.P.\n",
    "cp = df_n['C.P.'].unique()\n",
    "print(type(cp))\n",
    "print(len(cp))\n",
    "cp\n",
    "# En Esaña hay 11752 codigos postales en total"
   ]
  },
  {
   "cell_type": "code",
   "execution_count": 14,
   "id": "de4b57fa",
   "metadata": {},
   "outputs": [
    {
     "data": {
      "text/plain": [
       "0"
      ]
     },
     "execution_count": 14,
     "metadata": {},
     "output_type": "execute_result"
    }
   ],
   "source": [
    "# Nulos \n",
    "nulos_cp = df_n['C.P.'].isnull().sum()\n",
    "nulos_cp"
   ]
  },
  {
   "cell_type": "markdown",
   "id": "cd713bcb",
   "metadata": {},
   "source": [
    "# Dirección"
   ]
  },
  {
   "cell_type": "code",
   "execution_count": 15,
   "id": "3ce78674",
   "metadata": {},
   "outputs": [
    {
     "name": "stdout",
     "output_type": "stream",
     "text": [
      "<class 'numpy.ndarray'>\n",
      "11524\n"
     ]
    },
    {
     "data": {
      "text/plain": [
       "array(['AVENIDA CASTILLA LA MANCHA, 26', 'CALLE FEDERICO GARCIA LORCA, 5',\n",
       "       'CALLE FEDERICO GARCIA LORCA, 1', ...,\n",
       "       'POLIGONO CALLE TURIASO, 31', 'CARRETERA N-330A KM. 24,000',\n",
       "       'CALLE AUSTRIA, 11,17'], dtype=object)"
      ]
     },
     "execution_count": 15,
     "metadata": {},
     "output_type": "execute_result"
    }
   ],
   "source": [
    "# Columna  Dirección\n",
    "direccion = df_n['Dirección'].unique()\n",
    "print(type(direccion))\n",
    "print(len(direccion))\n",
    "direccion\n"
   ]
  },
  {
   "cell_type": "code",
   "execution_count": 16,
   "id": "e1030055",
   "metadata": {},
   "outputs": [
    {
     "data": {
      "text/plain": [
       "0"
      ]
     },
     "execution_count": 16,
     "metadata": {},
     "output_type": "execute_result"
    }
   ],
   "source": [
    "# Nulos dirección\n",
    "nulos_cp = df_n['Dirección'].isnull().sum()\n",
    "nulos_cp"
   ]
  },
  {
   "cell_type": "markdown",
   "id": "b540d156",
   "metadata": {},
   "source": [
    "# Horario"
   ]
  },
  {
   "cell_type": "code",
   "execution_count": 17,
   "id": "d951b048",
   "metadata": {},
   "outputs": [
    {
     "data": {
      "text/plain": [
       "array(['L-D: 07:00-22:00', 'L-S: 05:00-23:00', 'L-D: 24H', ...,\n",
       "       'L-V: 06:00-21:00; S-D: 08:00-15:00',\n",
       "       'L-V: 08:00-22:30; S: 10:00-22:30',\n",
       "       'L-V: 05:00-22:00; S-D: 08:00-22:00'], dtype=object)"
      ]
     },
     "execution_count": 17,
     "metadata": {},
     "output_type": "execute_result"
    }
   ],
   "source": [
    "# Horario\n",
    "horario = df_n['Horario'].unique()\n",
    "horario"
   ]
  },
  {
   "cell_type": "code",
   "execution_count": 18,
   "id": "6cb34506",
   "metadata": {},
   "outputs": [
    {
     "data": {
      "text/plain": [
       "0"
      ]
     },
     "execution_count": 18,
     "metadata": {},
     "output_type": "execute_result"
    }
   ],
   "source": [
    "# Nulos horario\n",
    "nulos_h = df_n['Horario'].isnull().sum()\n",
    "nulos_h"
   ]
  },
  {
   "cell_type": "markdown",
   "id": "129d07e9",
   "metadata": {},
   "source": [
    "# Latitud"
   ]
  },
  {
   "cell_type": "code",
   "execution_count": 19,
   "id": "aa9399ed",
   "metadata": {},
   "outputs": [
    {
     "name": "stdout",
     "output_type": "stream",
     "text": [
      "11474\n"
     ]
    },
    {
     "data": {
      "text/plain": [
       "array(['39,211417', '38,997722', '39,000861', ..., '41,857000',\n",
       "       '41,883583', '41,938750'], dtype=object)"
      ]
     },
     "execution_count": 19,
     "metadata": {},
     "output_type": "execute_result"
    }
   ],
   "source": [
    "#Latitud (Coincide Latitud y Longitud con las coordenadas en las gasolineras de Google Maps)\n",
    "latitud = df_n['Latitud'].unique()\n",
    "print(len(latitud ))\n",
    "latitud\n"
   ]
  },
  {
   "cell_type": "code",
   "execution_count": 20,
   "id": "b12f974a",
   "metadata": {},
   "outputs": [
    {
     "data": {
      "text/plain": [
       "0"
      ]
     },
     "execution_count": 20,
     "metadata": {},
     "output_type": "execute_result"
    }
   ],
   "source": [
    "# Nulos Latitud\n",
    "nulos_l = df_n['Latitud'].isnull().sum()\n",
    "nulos_l"
   ]
  },
  {
   "cell_type": "markdown",
   "id": "14f71694",
   "metadata": {},
   "source": [
    "# Longitud"
   ]
  },
  {
   "cell_type": "code",
   "execution_count": 21,
   "id": "26f3092e",
   "metadata": {
    "scrolled": true
   },
   "outputs": [
    {
     "name": "stdout",
     "output_type": "stream",
     "text": [
      "11597\n"
     ]
    },
    {
     "data": {
      "text/plain": [
       "array(['-1,539167', '-1,846361', '-1,849833', ..., '-0,794000',\n",
       "       '-0,782833', '-0,757611'], dtype=object)"
      ]
     },
     "execution_count": 21,
     "metadata": {},
     "output_type": "execute_result"
    }
   ],
   "source": [
    "# Longitud (Coincide Latitud y Longitud con las coordenadas en las gasolineras de Google Maps)\n",
    "Longitud = df_n['Longitud (WGS84)'].unique()\n",
    "print(len(Longitud))\n",
    "Longitud\n"
   ]
  },
  {
   "cell_type": "code",
   "execution_count": 22,
   "id": "e018ad91",
   "metadata": {},
   "outputs": [
    {
     "data": {
      "text/plain": [
       "0"
      ]
     },
     "execution_count": 22,
     "metadata": {},
     "output_type": "execute_result"
    }
   ],
   "source": [
    "# Nulos Longitud\n",
    "nulos_long = df_n['Longitud (WGS84)'].isnull().sum()\n",
    "nulos_long"
   ]
  },
  {
   "cell_type": "markdown",
   "id": "baaa7f76",
   "metadata": {},
   "source": [
    "# Localidad"
   ]
  },
  {
   "cell_type": "code",
   "execution_count": 23,
   "id": "05337df3",
   "metadata": {},
   "outputs": [
    {
     "name": "stdout",
     "output_type": "stream",
     "text": [
      "4244\n"
     ]
    },
    {
     "data": {
      "text/plain": [
       "array(['ABENGIBRE', 'ALBACETE', 'SANTA ANA', ..., 'VILLARRAPA', 'ZUERA',\n",
       "       'ONTINAR DE SALZ'], dtype=object)"
      ]
     },
     "execution_count": 23,
     "metadata": {},
     "output_type": "execute_result"
    }
   ],
   "source": [
    "#Localidad\n",
    "Localidad = df_n['Localidad'].unique()\n",
    "print(len(Localidad))\n",
    "Localidad"
   ]
  },
  {
   "cell_type": "code",
   "execution_count": 24,
   "id": "46fae344",
   "metadata": {},
   "outputs": [
    {
     "data": {
      "text/plain": [
       "0"
      ]
     },
     "execution_count": 24,
     "metadata": {},
     "output_type": "execute_result"
    }
   ],
   "source": [
    "# Nulos Localidad\n",
    "nulos_loc = df_n['Localidad'].isnull().sum()\n",
    "nulos_loc"
   ]
  },
  {
   "cell_type": "markdown",
   "id": "8fa3baee",
   "metadata": {},
   "source": [
    "# Municipio "
   ]
  },
  {
   "cell_type": "code",
   "execution_count": 25,
   "id": "0e69e607",
   "metadata": {},
   "outputs": [
    {
     "name": "stdout",
     "output_type": "stream",
     "text": [
      "3439\n"
     ]
    },
    {
     "data": {
      "text/plain": [
       "array(['Abengibre', 'Albacete', 'Alcadozo', ...,\n",
       "       'Villarroya de la Sierra', 'Zaragoza', 'Zuera'], dtype=object)"
      ]
     },
     "execution_count": 25,
     "metadata": {},
     "output_type": "execute_result"
    }
   ],
   "source": [
    "# Municipio (En España hay 8131 Municipios)\n",
    "Municipio = df_n['Municipio'].unique() \n",
    "print(len(Municipio))\n",
    "Municipio\n",
    "\n"
   ]
  },
  {
   "cell_type": "code",
   "execution_count": 26,
   "id": "223081b3",
   "metadata": {},
   "outputs": [
    {
     "data": {
      "text/plain": [
       "0"
      ]
     },
     "execution_count": 26,
     "metadata": {},
     "output_type": "execute_result"
    }
   ],
   "source": [
    "# Nulos Municipio\n",
    "nulos_loc = df_n['Municipio'].isnull().sum()\n",
    "nulos_loc"
   ]
  },
  {
   "cell_type": "markdown",
   "id": "cc6b303b",
   "metadata": {},
   "source": [
    "# Margen"
   ]
  },
  {
   "cell_type": "code",
   "execution_count": 27,
   "id": "cf022a39",
   "metadata": {},
   "outputs": [
    {
     "name": "stdout",
     "output_type": "stream",
     "text": [
      "3\n"
     ]
    },
    {
     "data": {
      "text/plain": [
       "array(['D', 'I', 'N'], dtype=object)"
      ]
     },
     "execution_count": 27,
     "metadata": {},
     "output_type": "execute_result"
    }
   ],
   "source": [
    "# Margen\n",
    "Margen = df_n['Margen'].unique()\n",
    "print(len(Margen))\n",
    "Margen"
   ]
  },
  {
   "cell_type": "markdown",
   "id": "2d2ea3bb",
   "metadata": {},
   "source": [
    "# Provincia "
   ]
  },
  {
   "cell_type": "code",
   "execution_count": 28,
   "id": "e1fa2d5f",
   "metadata": {},
   "outputs": [
    {
     "name": "stdout",
     "output_type": "stream",
     "text": [
      "52\n"
     ]
    },
    {
     "data": {
      "text/plain": [
       "array(['ALBACETE', 'ALICANTE', 'ALMERÍA', 'ARABA/ÁLAVA', 'ASTURIAS',\n",
       "       'ÁVILA', 'BADAJOZ', 'BALEARS (ILLES)', 'BARCELONA', 'BIZKAIA',\n",
       "       'BURGOS', 'CÁCERES', 'CÁDIZ', 'CANTABRIA', 'CASTELLÓN / CASTELLÓ',\n",
       "       'CEUTA', 'CIUDAD REAL', 'CÓRDOBA', 'CORUÑA (A)', 'CUENCA',\n",
       "       'GIPUZKOA', 'GIRONA', 'GRANADA', 'GUADALAJARA', 'HUELVA', 'HUESCA',\n",
       "       'JAÉN', 'LEÓN', 'LLEIDA', 'LUGO', 'MADRID', 'MÁLAGA', 'MELILLA',\n",
       "       'MURCIA', 'NAVARRA', 'OURENSE', 'PALENCIA', 'PALMAS (LAS)',\n",
       "       'PONTEVEDRA', 'RIOJA (LA)', 'SALAMANCA', 'SANTA CRUZ DE TENERIFE',\n",
       "       'SEGOVIA', 'SEVILLA', 'SORIA', 'TARRAGONA', 'TERUEL', 'TOLEDO',\n",
       "       'VALENCIA / VALÈNCIA', 'VALLADOLID', 'ZAMORA', 'ZARAGOZA'],\n",
       "      dtype=object)"
      ]
     },
     "execution_count": 28,
     "metadata": {},
     "output_type": "execute_result"
    }
   ],
   "source": [
    "# Provincia (Están todas las Provinicas de España en nuestro df)\n",
    "Provincia = df_n['Provincia'].unique()\n",
    "print(len(Provincia))\n",
    "Provincia"
   ]
  },
  {
   "cell_type": "code",
   "execution_count": 29,
   "id": "b27108a2",
   "metadata": {},
   "outputs": [
    {
     "data": {
      "text/plain": [
       "0"
      ]
     },
     "execution_count": 29,
     "metadata": {},
     "output_type": "execute_result"
    }
   ],
   "source": [
    "# Nulos Provincia\n",
    "nulos_prov = df_n['Provincia'].isnull().sum()\n",
    "nulos_prov"
   ]
  },
  {
   "cell_type": "markdown",
   "id": "722a58a1",
   "metadata": {},
   "source": [
    "# Remision"
   ]
  },
  {
   "cell_type": "code",
   "execution_count": 30,
   "id": "78c3b1c9",
   "metadata": {},
   "outputs": [
    {
     "name": "stdout",
     "output_type": "stream",
     "text": [
      "2\n",
      "<class 'numpy.ndarray'>\n"
     ]
    },
    {
     "data": {
      "text/plain": [
       "array(['dm', 'OM'], dtype=object)"
      ]
     },
     "execution_count": 30,
     "metadata": {},
     "output_type": "execute_result"
    }
   ],
   "source": [
    "# Remisión (Sistema de envío de información de precios y de ventas a través de API)\n",
    "Remision = df_n['Remisión'].unique()\n",
    "print(len(Remision))\n",
    "print(type(Remision))\n",
    "Remision"
   ]
  },
  {
   "cell_type": "markdown",
   "id": "cc886f49",
   "metadata": {},
   "source": [
    "# Rótulo"
   ]
  },
  {
   "cell_type": "code",
   "execution_count": 31,
   "id": "8157f57d",
   "metadata": {},
   "outputs": [
    {
     "name": "stdout",
     "output_type": "stream",
     "text": [
      "4028\n",
      "<class 'numpy.ndarray'>\n"
     ]
    },
    {
     "data": {
      "text/plain": [
       "array(['Nº 10.935', 'CEPSA', 'PLENOIL', ..., 'DAGO',\n",
       "       'COOPERATIVA SAN LAMBERTO', 'AN ENERGETICOS ZUERA'], dtype=object)"
      ]
     },
     "execution_count": 31,
     "metadata": {},
     "output_type": "execute_result"
    }
   ],
   "source": [
    "# Rótulo (En España hay 3952 marcas de Gasolineras en España según datos de Google)\n",
    "Rotulo = df_n['Rótulo'].unique()\n",
    "print(len(Rotulo))\n",
    "print(type(Rotulo))\n",
    "Rotulo\n"
   ]
  },
  {
   "cell_type": "markdown",
   "id": "676ec408",
   "metadata": {},
   "source": [
    "# Tipo de Venta"
   ]
  },
  {
   "cell_type": "code",
   "execution_count": 32,
   "id": "7b2d09eb",
   "metadata": {},
   "outputs": [
    {
     "name": "stdout",
     "output_type": "stream",
     "text": [
      "2\n",
      "<class 'numpy.ndarray'>\n"
     ]
    },
    {
     "data": {
      "text/plain": [
       "array(['P', 'R'], dtype=object)"
      ]
     },
     "execution_count": 32,
     "metadata": {},
     "output_type": "execute_result"
    }
   ],
   "source": [
    "# Tipo Venta\n",
    "tv = df_n['Tipo Venta'].unique()\n",
    "print(len(tv))\n",
    "print(type(tv))\n",
    "tv"
   ]
  },
  {
   "cell_type": "markdown",
   "id": "7aad165f",
   "metadata": {},
   "source": [
    "# Porcentaje de Bioetanol"
   ]
  },
  {
   "cell_type": "code",
   "execution_count": 33,
   "id": "95e6e4b0",
   "metadata": {},
   "outputs": [
    {
     "name": "stdout",
     "output_type": "stream",
     "text": [
      "3\n",
      "<class 'numpy.ndarray'>\n"
     ]
    },
    {
     "data": {
      "text/plain": [
       "array(['0,0', '25,0', '85,0'], dtype=object)"
      ]
     },
     "execution_count": 33,
     "metadata": {},
     "output_type": "execute_result"
    }
   ],
   "source": [
    "# % BioEtanol (La diferencia entre gasolinas E5 o E10 significan el porcentaje de Etanol (5 o 10%))\n",
    "bioetanol = df_n['% BioEtanol'].unique()\n",
    "print(len(bioetanol))\n",
    "print(type(bioetanol))\n",
    "bioetanol"
   ]
  },
  {
   "cell_type": "markdown",
   "id": "54c7afc2",
   "metadata": {},
   "source": [
    "# Porcentaje de Éster Metílico"
   ]
  },
  {
   "cell_type": "code",
   "execution_count": 34,
   "id": "19aff9d9",
   "metadata": {},
   "outputs": [
    {
     "name": "stdout",
     "output_type": "stream",
     "text": [
      "6\n",
      "<class 'numpy.ndarray'>\n"
     ]
    },
    {
     "data": {
      "text/plain": [
       "array(['0,0', '7,0', '12,0', '20,0', '30,0', '10,0'], dtype=object)"
      ]
     },
     "execution_count": 34,
     "metadata": {},
     "output_type": "execute_result"
    }
   ],
   "source": [
    "# % Éster metílico (solo para Biodiesel)\n",
    "em = df_n['% Éster metílico'].unique()\n",
    "print(len(em))\n",
    "print(type(em))\n",
    "em"
   ]
  },
  {
   "cell_type": "markdown",
   "id": "e1bfb0ff",
   "metadata": {},
   "source": [
    "#  IDEESS"
   ]
  },
  {
   "cell_type": "code",
   "execution_count": 35,
   "id": "1bcc7c30",
   "metadata": {},
   "outputs": [
    {
     "name": "stdout",
     "output_type": "stream",
     "text": [
      "11842\n"
     ]
    },
    {
     "data": {
      "text/plain": [
       "array(['4375', '4438', '13933', ..., '1452', '9085', '9068'], dtype=object)"
      ]
     },
     "execution_count": 35,
     "metadata": {},
     "output_type": "execute_result"
    }
   ],
   "source": [
    "# IDEESS (ID Estación de Servicio, los mismos que estaciones (filas))\n",
    "IDEESS = df_n['IDEESS'].unique()\n",
    "print(len(IDEESS))\n",
    "type(IDEESS)\n",
    "IDEESS "
   ]
  },
  {
   "cell_type": "code",
   "execution_count": 36,
   "id": "89c026f2",
   "metadata": {},
   "outputs": [
    {
     "data": {
      "text/plain": [
       "0"
      ]
     },
     "execution_count": 36,
     "metadata": {},
     "output_type": "execute_result"
    }
   ],
   "source": [
    "# Nulos IDEESS\n",
    "nulos_IDEESS = df_n['IDEESS'].isnull().sum()\n",
    "nulos_IDEESS"
   ]
  },
  {
   "cell_type": "markdown",
   "id": "48e885d2",
   "metadata": {},
   "source": [
    "# ID Municipio"
   ]
  },
  {
   "cell_type": "code",
   "execution_count": 37,
   "id": "7dc3d12d",
   "metadata": {},
   "outputs": [
    {
     "name": "stdout",
     "output_type": "stream",
     "text": [
      "3440\n"
     ]
    },
    {
     "data": {
      "text/plain": [
       "array(['52', '54', '57', ..., '8103', '8108', '8109'], dtype=object)"
      ]
     },
     "execution_count": 37,
     "metadata": {},
     "output_type": "execute_result"
    }
   ],
   "source": [
    "# IDMunicipio (un ID más que municipios)\n",
    "idmun = df_n['IDMunicipio'].unique()\n",
    "print(len(idmun))\n",
    "type(idmun)\n",
    "idmun"
   ]
  },
  {
   "cell_type": "code",
   "execution_count": 38,
   "id": "c857c488",
   "metadata": {},
   "outputs": [
    {
     "data": {
      "text/plain": [
       "0"
      ]
     },
     "execution_count": 38,
     "metadata": {},
     "output_type": "execute_result"
    }
   ],
   "source": [
    "# Nulos ID Municipio\n",
    "nulos_IDMunicipio = df_n['IDMunicipio'].isnull().sum()\n",
    "nulos_IDMunicipio"
   ]
  },
  {
   "cell_type": "markdown",
   "id": "6568aaff",
   "metadata": {},
   "source": [
    "# ID Provincia"
   ]
  },
  {
   "cell_type": "code",
   "execution_count": 39,
   "id": "896e7bf1",
   "metadata": {},
   "outputs": [
    {
     "name": "stdout",
     "output_type": "stream",
     "text": [
      "52\n"
     ]
    },
    {
     "data": {
      "text/plain": [
       "array(['02', '03', '04', '01', '33', '05', '06', '07', '08', '48', '09',\n",
       "       '10', '11', '39', '12', '51', '13', '14', '15', '16', '20', '17',\n",
       "       '18', '19', '21', '22', '23', '24', '25', '27', '28', '29', '52',\n",
       "       '30', '31', '32', '34', '35', '36', '26', '37', '38', '40', '41',\n",
       "       '42', '43', '44', '45', '46', '47', '49', '50'], dtype=object)"
      ]
     },
     "execution_count": 39,
     "metadata": {},
     "output_type": "execute_result"
    }
   ],
   "source": [
    "# IDProvincia (Los mismos ID que Provincias)\n",
    "idprov = df_n['IDProvincia'].unique()\n",
    "print(len(idprov))\n",
    "type(idprov)\n",
    "idprov"
   ]
  },
  {
   "cell_type": "code",
   "execution_count": 40,
   "id": "0383161f",
   "metadata": {},
   "outputs": [
    {
     "data": {
      "text/plain": [
       "0"
      ]
     },
     "execution_count": 40,
     "metadata": {},
     "output_type": "execute_result"
    }
   ],
   "source": [
    "nulos_IDProvincia = df_n['IDProvincia'].isnull().sum()\n",
    "nulos_IDProvincia"
   ]
  },
  {
   "cell_type": "markdown",
   "id": "f0203c4c",
   "metadata": {},
   "source": [
    "# ID CCAA"
   ]
  },
  {
   "cell_type": "code",
   "execution_count": 41,
   "id": "cc731089",
   "metadata": {},
   "outputs": [
    {
     "name": "stdout",
     "output_type": "stream",
     "text": [
      "19\n"
     ]
    },
    {
     "data": {
      "text/plain": [
       "array(['07', '10', '01', '16', '03', '08', '11', '04', '09', '06', '18',\n",
       "       '12', '02', '13', '19', '14', '15', '05', '17'], dtype=object)"
      ]
     },
     "execution_count": 41,
     "metadata": {},
     "output_type": "execute_result"
    }
   ],
   "source": [
    "# IDCCAA (ID Comunidades Autónomas, 17 CCAA + Ceuta + Melilla)\n",
    "# IDProvincia (Los mismos ID que Provincias)\n",
    "idccaa = df_n['IDCCAA'].unique()\n",
    "print(len(idccaa))\n",
    "type(idccaa)\n",
    "idccaa"
   ]
  },
  {
   "cell_type": "markdown",
   "id": "4cf497b1",
   "metadata": {},
   "source": [
    "                                                Columnas Numéricas\n",
    "                                                "
   ]
  },
  {
   "cell_type": "markdown",
   "id": "cd72e5ad",
   "metadata": {},
   "source": [
    "# Biodiesel"
   ]
  },
  {
   "cell_type": "code",
   "execution_count": 42,
   "id": "01c87a0e",
   "metadata": {},
   "outputs": [
    {
     "name": "stdout",
     "output_type": "stream",
     "text": [
      "20\n",
      "<class 'numpy.ndarray'>\n"
     ]
    },
    {
     "data": {
      "text/plain": [
       "array(['', '1,658', '1,829', '1,999', '1,729', '1,399', '1,499', '1,469',\n",
       "       '1,569', '1,449', '1,678', '1,694', '1,779', '1,699', '1,869',\n",
       "       '1,539', '1,759', '1,739', '1,750', '1,667'], dtype=object)"
      ]
     },
     "execution_count": 42,
     "metadata": {},
     "output_type": "execute_result"
    }
   ],
   "source": [
    "Biodiesel = df_n['Precio Biodiesel'].unique()\n",
    "print(len(Biodiesel))\n",
    "print(type(Biodiesel))\n",
    "Biodiesel"
   ]
  },
  {
   "cell_type": "code",
   "execution_count": 43,
   "id": "c1172885",
   "metadata": {},
   "outputs": [],
   "source": [
    "# Convertimos columna categórica a numérica\n",
    "df_n['Precio Biodiesel']=df_n['Precio Biodiesel'].str.replace(',','.')\n",
    "df_n[['Precio Biodiesel']]=df_n[['Precio Biodiesel']].apply(pd.to_numeric)"
   ]
  },
  {
   "cell_type": "code",
   "execution_count": 44,
   "id": "3ba01c1b",
   "metadata": {},
   "outputs": [
    {
     "data": {
      "text/plain": [
       "count    37.000000\n",
       "mean      1.604459\n",
       "std       0.156611\n",
       "min       1.399000\n",
       "25%       1.499000\n",
       "50%       1.569000\n",
       "75%       1.729000\n",
       "max       1.999000\n",
       "Name: Precio Biodiesel, dtype: float64"
      ]
     },
     "execution_count": 44,
     "metadata": {},
     "output_type": "execute_result"
    }
   ],
   "source": [
    "df_n['Precio Biodiesel'].describe()\n"
   ]
  },
  {
   "cell_type": "code",
   "execution_count": 45,
   "id": "0b00d7af",
   "metadata": {},
   "outputs": [
    {
     "data": {
      "text/plain": [
       "11805"
      ]
     },
     "execution_count": 45,
     "metadata": {},
     "output_type": "execute_result"
    }
   ],
   "source": [
    "# Registros sin venta Biodiesel\n",
    "sin_suministro_b = df_n['Precio Biodiesel'].isnull().sum()\n",
    "sin_suministro_b"
   ]
  },
  {
   "cell_type": "markdown",
   "id": "fd2b4066",
   "metadata": {},
   "source": [
    "## Precio Bioetanol "
   ]
  },
  {
   "cell_type": "code",
   "execution_count": 46,
   "id": "edbcaac9",
   "metadata": {},
   "outputs": [
    {
     "name": "stdout",
     "output_type": "stream",
     "text": [
      "6\n",
      "<class 'numpy.ndarray'>\n"
     ]
    },
    {
     "data": {
      "text/plain": [
       "array(['', '1,999', '1,892', '1,487', '1,859', '1,639'], dtype=object)"
      ]
     },
     "execution_count": 46,
     "metadata": {},
     "output_type": "execute_result"
    }
   ],
   "source": [
    "Bioetanol = df_n['Precio Bioetanol'].unique()\n",
    "print(len(Bioetanol))\n",
    "print(type(Bioetanol))\n",
    "Bioetanol"
   ]
  },
  {
   "cell_type": "code",
   "execution_count": 47,
   "id": "3f6be22e",
   "metadata": {},
   "outputs": [],
   "source": [
    "# Convertimos columna categórica a numérica\n",
    "df_n['Precio Bioetanol']=df_n['Precio Bioetanol'].str.replace(',','.')\n",
    "df_n[['Precio Bioetanol']]=df_n[['Precio Bioetanol']].apply(pd.to_numeric)"
   ]
  },
  {
   "cell_type": "code",
   "execution_count": 48,
   "id": "336b94fa",
   "metadata": {},
   "outputs": [
    {
     "data": {
      "text/plain": [
       "count    5.000000\n",
       "mean     1.775200\n",
       "std      0.207582\n",
       "min      1.487000\n",
       "25%      1.639000\n",
       "50%      1.859000\n",
       "75%      1.892000\n",
       "max      1.999000\n",
       "Name: Precio Bioetanol, dtype: float64"
      ]
     },
     "execution_count": 48,
     "metadata": {},
     "output_type": "execute_result"
    }
   ],
   "source": [
    "df_n['Precio Bioetanol'].describe()"
   ]
  },
  {
   "cell_type": "code",
   "execution_count": 49,
   "id": "8614e236",
   "metadata": {},
   "outputs": [
    {
     "data": {
      "text/plain": [
       "11837"
      ]
     },
     "execution_count": 49,
     "metadata": {},
     "output_type": "execute_result"
    }
   ],
   "source": [
    "# Registros sin venta Biodiesel\n",
    "sin_suministro_be = df_n['Precio Bioetanol'].isnull().sum()\n",
    "sin_suministro_be"
   ]
  },
  {
   "cell_type": "markdown",
   "id": "de4c6c51",
   "metadata": {},
   "source": [
    "## Precio Gas Natural Comprimido"
   ]
  },
  {
   "cell_type": "code",
   "execution_count": 50,
   "id": "b2824198",
   "metadata": {},
   "outputs": [
    {
     "name": "stdout",
     "output_type": "stream",
     "text": [
      "31\n",
      "<class 'numpy.ndarray'>\n"
     ]
    },
    {
     "data": {
      "text/plain": [
       "array(['', '1,930', '1,960', '1,898', '2,250', '1,299', '1,927', '1,949',\n",
       "       '1,690', '2,331', '1,940', '1,349', '2,490', '1,959', '1,979',\n",
       "       '2,329', '2,030', '1,889', '1,859', '2,539', '1,387', '1,849',\n",
       "       '1,899', '1,879', '1,934', '2,350', '1,597', '1,300', '1,912',\n",
       "       '2,069', '1,939'], dtype=object)"
      ]
     },
     "execution_count": 50,
     "metadata": {},
     "output_type": "execute_result"
    }
   ],
   "source": [
    "Gas_n_c = df_n['Precio Gas Natural Comprimido'].unique()\n",
    "print(len(Gas_n_c))\n",
    "print(type(Gas_n_c))\n",
    "Gas_n_c"
   ]
  },
  {
   "cell_type": "code",
   "execution_count": 51,
   "id": "1ac50945",
   "metadata": {},
   "outputs": [],
   "source": [
    "# Convertimos columna categórica a numérica\n",
    "df_n['Precio Gas Natural Comprimido']=df_n['Precio Gas Natural Comprimido'].str.replace(',','.')\n",
    "df_n[['Precio Gas Natural Comprimido']]=df_n[['Precio Gas Natural Comprimido']].apply(pd.to_numeric)"
   ]
  },
  {
   "cell_type": "code",
   "execution_count": 52,
   "id": "1f65143d",
   "metadata": {},
   "outputs": [
    {
     "data": {
      "text/plain": [
       "count    126.000000\n",
       "mean       1.962675\n",
       "std        0.193839\n",
       "min        1.299000\n",
       "25%        1.930000\n",
       "50%        1.930000\n",
       "75%        1.960000\n",
       "max        2.539000\n",
       "Name: Precio Gas Natural Comprimido, dtype: float64"
      ]
     },
     "execution_count": 52,
     "metadata": {},
     "output_type": "execute_result"
    }
   ],
   "source": [
    "df_n['Precio Gas Natural Comprimido'].describe()"
   ]
  },
  {
   "cell_type": "code",
   "execution_count": 53,
   "id": "e7a5a486",
   "metadata": {},
   "outputs": [
    {
     "data": {
      "text/plain": [
       "11837"
      ]
     },
     "execution_count": 53,
     "metadata": {},
     "output_type": "execute_result"
    }
   ],
   "source": [
    "# Registros sin venta Biodiesel\n",
    "sin_suministro_be = df_n['Precio Bioetanol'].isnull().sum()\n",
    "sin_suministro_be"
   ]
  },
  {
   "cell_type": "markdown",
   "id": "33ddd76e",
   "metadata": {},
   "source": [
    "# Precio Gas Natural Licuado"
   ]
  },
  {
   "cell_type": "code",
   "execution_count": 54,
   "id": "d5685b8d",
   "metadata": {},
   "outputs": [
    {
     "name": "stdout",
     "output_type": "stream",
     "text": [
      "19\n",
      "<class 'numpy.ndarray'>\n"
     ]
    },
    {
     "data": {
      "text/plain": [
       "array(['', '1,890', '1,861', '1,798', '2,331', '1,299', '1,897', '1,849',\n",
       "       '1,850', '1,249', '2,490', '1,859', '2,329', '1,957', '1,879',\n",
       "       '1,834', '3,650', '1,807', '1,889'], dtype=object)"
      ]
     },
     "execution_count": 54,
     "metadata": {},
     "output_type": "execute_result"
    }
   ],
   "source": [
    "Gas_nat_lic = df_n['Precio Gas Natural Licuado'].unique()\n",
    "print(len(Gas_nat_lic))\n",
    "print(type(Gas_nat_lic))\n",
    "Gas_nat_lic"
   ]
  },
  {
   "cell_type": "code",
   "execution_count": 55,
   "id": "90f17335",
   "metadata": {},
   "outputs": [],
   "source": [
    "# Convertimos columna categórica a numérica, primero tenemos que sustituir , por .\n",
    "df_n['Precio Gas Natural Licuado']=df_n['Precio Gas Natural Licuado'].str.replace(',','.')\n",
    "df_n[['Precio Gas Natural Licuado']]=df_n[['Precio Gas Natural Licuado']].apply(pd.to_numeric)"
   ]
  },
  {
   "cell_type": "code",
   "execution_count": 56,
   "id": "7b35df2f",
   "metadata": {},
   "outputs": [
    {
     "data": {
      "text/plain": [
       "count    84.000000\n",
       "mean      1.944012\n",
       "std       0.278141\n",
       "min       1.249000\n",
       "25%       1.861000\n",
       "50%       1.861000\n",
       "75%       1.897000\n",
       "max       3.650000\n",
       "Name: Precio Gas Natural Licuado, dtype: float64"
      ]
     },
     "execution_count": 56,
     "metadata": {},
     "output_type": "execute_result"
    }
   ],
   "source": [
    "df_n['Precio Gas Natural Licuado'].describe()"
   ]
  },
  {
   "cell_type": "code",
   "execution_count": 57,
   "id": "0eca734e",
   "metadata": {},
   "outputs": [
    {
     "data": {
      "text/plain": [
       "11758"
      ]
     },
     "execution_count": 57,
     "metadata": {},
     "output_type": "execute_result"
    }
   ],
   "source": [
    "# Registros sin venta Gas NAtural Licuado\n",
    "sin_suministro_gnl = df_n['Precio Gas Natural Licuado'].isnull().sum()\n",
    "sin_suministro_gnl"
   ]
  },
  {
   "cell_type": "markdown",
   "id": "ba2199ad",
   "metadata": {},
   "source": [
    "# Precio Gases licuados del petróleo"
   ]
  },
  {
   "cell_type": "code",
   "execution_count": 58,
   "id": "bdff2425",
   "metadata": {},
   "outputs": [
    {
     "name": "stdout",
     "output_type": "stream",
     "text": [
      "118\n",
      "<class 'numpy.ndarray'>\n"
     ]
    },
    {
     "data": {
      "text/plain": [
       "array(['', '1,009', '0,898', '1,039', '1,049', '1,059', '0,969', '0,968',\n",
       "       '1,015', '1,065', '1,099', '1,029', '1,069', '1,007', '1,139',\n",
       "       '1,109', '1,119', '0,959', '0,860', '1,025', '0,930', '1,077',\n",
       "       '1,078', '1,038', '0,910', '0,939', '1,052', '1,019', '1,200',\n",
       "       '1,079', '0,999', '1,179', '0,980', '1,089', '1,189', '1,005',\n",
       "       '1,055', '0,859', '1,095', '1,129', '0,989', '1,056', '0,929',\n",
       "       '0,919', '0,885', '0,899', '0,950', '0,886', '1,094', '1,027',\n",
       "       '1,140', '0,949', '1,017', '1,037', '0,998', '0,978', '1,085',\n",
       "       '1,035', '0,865', '0,944', '0,640', '1,159', '1,148', '1,158',\n",
       "       '0,805', '1,001', '1,018', '0,879', '1,149', '0,768', '0,994',\n",
       "       '0,990', '0,979', '1,169', '0,997', '0,965', '1,150', '0,995',\n",
       "       '0,889', '1,045', '1,210', '1,260', '1,160', '1,250', '0,759',\n",
       "       '1,060', '0,769', '0,933', '1,075', '1,040', '1,100', '0,977',\n",
       "       '0,909', '0,908', '1,130', '1,028', '1,199', '1,185', '0,799',\n",
       "       '0,801', '0,789', '0,849', '0,800', '0,809', '0,829', '0,958',\n",
       "       '1,026', '1,000', '0,870', '0,967', '0,974', '0,905', '0,839',\n",
       "       '0,915', '0,850', '0,790', '0,830', '1,115'], dtype=object)"
      ]
     },
     "execution_count": 58,
     "metadata": {},
     "output_type": "execute_result"
    }
   ],
   "source": [
    "Gas_nat_lic_pet = df_n['Precio Gases licuados del petróleo'].unique()\n",
    "print(len(Gas_nat_lic_pet))\n",
    "print(type(Gas_nat_lic_pet))\n",
    "Gas_nat_lic_pet"
   ]
  },
  {
   "cell_type": "code",
   "execution_count": 59,
   "id": "94e05d01",
   "metadata": {},
   "outputs": [],
   "source": [
    "# Convertimos columna categórica a numérica\n",
    "df_n['Precio Gases licuados del petróleo']=df_n['Precio Gases licuados del petróleo'].str.replace(',','.')\n",
    "df_n[['Precio Gases licuados del petróleo']]=df_n[['Precio Gases licuados del petróleo']].apply(pd.to_numeric)"
   ]
  },
  {
   "cell_type": "code",
   "execution_count": 60,
   "id": "43ae8314",
   "metadata": {},
   "outputs": [
    {
     "data": {
      "text/plain": [
       "count    853.000000\n",
       "mean       1.025674\n",
       "std        0.075833\n",
       "min        0.640000\n",
       "25%        1.001000\n",
       "50%        1.039000\n",
       "75%        1.059000\n",
       "max        1.260000\n",
       "Name: Precio Gases licuados del petróleo, dtype: float64"
      ]
     },
     "execution_count": 60,
     "metadata": {},
     "output_type": "execute_result"
    }
   ],
   "source": [
    "df_n['Precio Gases licuados del petróleo'].describe()"
   ]
  },
  {
   "cell_type": "code",
   "execution_count": 61,
   "id": "f39d6004",
   "metadata": {},
   "outputs": [
    {
     "data": {
      "text/plain": [
       "10989"
      ]
     },
     "execution_count": 61,
     "metadata": {},
     "output_type": "execute_result"
    }
   ],
   "source": [
    "# Registros sin venta Gas NAtural Licuado del Petróleo\n",
    "sin_suministro_gnlp = df_n['Precio Gases licuados del petróleo'].isnull().sum()\n",
    "sin_suministro_gnlp"
   ]
  },
  {
   "cell_type": "code",
   "execution_count": 62,
   "id": "0a616a04",
   "metadata": {},
   "outputs": [
    {
     "data": {
      "text/plain": [
       "0"
      ]
     },
     "execution_count": 62,
     "metadata": {},
     "output_type": "execute_result"
    }
   ],
   "source": [
    "ceros_sin_suministro_gnlp = (df_n['Precio Gases licuados del petróleo'] == 0).sum()\n",
    "ceros_sin_suministro_gnlp"
   ]
  },
  {
   "cell_type": "markdown",
   "id": "579f7966",
   "metadata": {},
   "source": [
    "# Gasoleo A"
   ]
  },
  {
   "cell_type": "code",
   "execution_count": 63,
   "id": "b84c8a71",
   "metadata": {},
   "outputs": [
    {
     "name": "stdout",
     "output_type": "stream",
     "text": [
      "459\n",
      "<class 'numpy.ndarray'>\n"
     ]
    },
    {
     "data": {
      "text/plain": [
       "array(['1,669', '1,730', '1,597', '1,709', '1,699', '1,719', '1,659',\n",
       "       '1,618', '1,739', '1,639', '1,599', '1,690', '', '1,680', '2,259',\n",
       "       '1,559', '1,653', '1,649', '1,579', '1,675', '1,685', '1,919',\n",
       "       '1,729', '1,679', '1,664', '1,665', '1,689', '1,619', '1,684',\n",
       "       '1,765', '1,849', '1,759', '1,634', '1,735', '1,650', '1,740',\n",
       "       '1,769', '1,629', '1,589', '1,747', '1,779', '1,600', '1,660',\n",
       "       '1,644', '1,605', '1,590', '1,695', '1,839', '1,789', '1,876',\n",
       "       '1,539', '1,610', '1,749', '1,540', '1,808', '1,549', '1,547',\n",
       "       '1,799', '1,459', '1,464', '1,725', '1,537', '1,465', '1,499',\n",
       "       '1,467', '1,457', '1,678', '1,497', '1,670', '1,648', '1,609',\n",
       "       '1,697', '1,704', '1,595', '1,598', '1,557', '1,567', '1,661',\n",
       "       '1,569', '1,791', '1,624', '1,515', '1,628', '1,611', '1,489',\n",
       "       '1,687', '1,705', '1,525', '1,485', '1,494', '1,615', '1,519',\n",
       "       '1,564', '1,714', '1,809', '1,631', '1,724', '1,656', '1,674',\n",
       "       '1,577', '1,688', '1,587', '1,630', '1,574', '1,694', '1,715',\n",
       "       '1,604', '1,479', '1,614', '1,517', '1,593', '1,495', '1,627',\n",
       "       '1,633', '1,700', '1,588', '1,506', '1,505', '1,555', '1,568',\n",
       "       '1,565', '1,654', '1,686', '1,530', '1,795', '1,510', '1,449',\n",
       "       '1,560', '1,456', '1,999', '1,483', '1,512', '1,698', '1,682',\n",
       "       '1,585', '1,683', '1,745', '1,746', '1,929', '1,640', '1,509',\n",
       "       '1,623', '1,487', '1,738', '1,490', '1,718', '1,575', '1,548',\n",
       "       '1,646', '2,000', '1,617', '1,645', '1,758', '1,775', '1,755',\n",
       "       '1,666', '1,655', '1,573', '1,691', '1,607', '1,899', '1,835',\n",
       "       '1,770', '1,668', '1,830', '1,437', '1,677', '1,638', '1,620',\n",
       "       '1,850', '1,859', '1,641', '1,716', '1,657', '1,516', '1,734',\n",
       "       '1,561', '1,635', '1,710', '1,790', '1,959', '1,708', '1,767',\n",
       "       '1,855', '1,750', '1,785', '1,658', '1,748', '1,720', '1,713',\n",
       "       '1,558', '1,520', '1,444', '1,869', '1,554', '1,717', '1,529',\n",
       "       '1,448', '1,608', '1,836', '1,578', '1,594', '1,613', '1,445',\n",
       "       '1,439', '1,511', '1,544', '1,535', '1,447', '1,524', '1,446',\n",
       "       '1,733', '1,523', '2,125', '1,625', '1,469', '1,475', '1,606',\n",
       "       '1,596', '1,454', '1,435', '1,637', '1,504', '1,781', '1,731',\n",
       "       '1,580', '2,139', '1,692', '1,744', '1,647', '1,892', '1,592',\n",
       "       '1,773', '1,470', '1,550', '1,890', '1,829', '1,774', '1,696',\n",
       "       '1,616', '1,570', '1,989', '1,562', '1,667', '1,536', '1,601',\n",
       "       '1,543', '1,652', '1,533', '1,478', '1,349', '1,329', '1,348',\n",
       "       '1,545', '1,861', '1,586', '1,820', '1,576', '1,552', '1,486',\n",
       "       '1,673', '1,581', '1,663', '1,909', '1,819', '1,301', '1,240',\n",
       "       '1,712', '1,702', '1,538', '1,527', '1,681', '1,526', '1,626',\n",
       "       '1,400', '1,632', '1,900', '1,693', '1,701', '1,760', '1,622',\n",
       "       '1,870', '1,502', '1,762', '1,728', '1,737', '1,707', '1,612',\n",
       "       '1,889', '1,800', '1,771', '1,703', '1,584', '2,309', '1,521',\n",
       "       '1,476', '1,492', '1,450', '1,754', '1,742', '1,498', '1,727',\n",
       "       '1,894', '1,848', '2,200', '1,711', '1,676', '1,880', '1,453',\n",
       "       '1,455', '1,845', '1,556', '1,500', '1,875', '1,970', '1,572',\n",
       "       '1,814', '1,452', '1,794', '1,815', '1,768', '1,451', '1,751',\n",
       "       '1,542', '1,721', '1,846', '1,901', '1,752', '1,786', '2,199',\n",
       "       '1,722', '1,477', '1,643', '1,621', '1,591', '1,803', '1,244',\n",
       "       '1,245', '1,295', '1,443', '1,508', '1,401', '1,472', '1,488',\n",
       "       '1,345', '1,886', '1,888', '1,514', '1,788', '1,563', '1,493',\n",
       "       '1,878', '1,879', '1,642', '1,429', '1,399', '1,239', '1,198',\n",
       "       '1,299', '1,409', '1,235', '1,199', '1,395', '1,518', '1,522',\n",
       "       '1,531', '1,484', '1,219', '1,389', '1,434', '1,419', '1,442',\n",
       "       '1,298', '1,474', '1,424', '1,319', '1,369', '1,420', '1,385',\n",
       "       '1,436', '1,423', '1,414', '1,390', '1,428', '1,364', '1,398',\n",
       "       '1,427', '1,359', '1,798', '1,805', '1,810', '1,503', '1,551',\n",
       "       '1,249', '1,254', '1,458', '1,418', '1,394', '1,406', '1,433',\n",
       "       '1,415', '1,404', '1,463', '1,379', '1,378', '1,384', '1,375',\n",
       "       '1,334', '1,297', '1,328', '1,410', '1,388', '1,339', '1,438',\n",
       "       '1,425', '1,368', '1,357', '1,370', '1,408', '1,374', '1,309',\n",
       "       '1,358', '1,327', '1,426', '1,356', '1,238', '1,440', '1,289',\n",
       "       '1,354', '1,402', '1,723', '1,840', '1,818', '1,671', '1,778',\n",
       "       '1,780', '1,602', '1,528', '1,468', '1,534', '1,935', '1,777',\n",
       "       '1,797', '1,603', '1,636', '1,736', '2,150', '1,546', '1,532',\n",
       "       '1,566', '1,757', '1,949', '2,022', '1,583', '1,672', '1,461',\n",
       "       '1,471', '1,864', '1,491'], dtype=object)"
      ]
     },
     "execution_count": 63,
     "metadata": {},
     "output_type": "execute_result"
    }
   ],
   "source": [
    "Gasoleo_A = df_n['Precio Gasoleo A'].unique()\n",
    "print(len(Gasoleo_A))\n",
    "print(type(Gasoleo_A))\n",
    "Gasoleo_A"
   ]
  },
  {
   "cell_type": "code",
   "execution_count": 64,
   "id": "03079146",
   "metadata": {},
   "outputs": [],
   "source": [
    "# Convertimos columna categórica a numérica, primero tenemos que sustituir , por .\n",
    "df_n['Precio Gasoleo A']=df_n['Precio Gasoleo A'].str.replace(',','.')\n",
    "df_n[['Precio Gasoleo A']]=df_n[['Precio Gasoleo A']].apply(pd.to_numeric)"
   ]
  },
  {
   "cell_type": "code",
   "execution_count": 65,
   "id": "b2093cd9",
   "metadata": {},
   "outputs": [
    {
     "data": {
      "text/plain": [
       "count    11497.000000\n",
       "mean         1.656732\n",
       "std          0.085971\n",
       "min          1.198000\n",
       "25%          1.619000\n",
       "50%          1.679000\n",
       "75%          1.709000\n",
       "max          2.309000\n",
       "Name: Precio Gasoleo A, dtype: float64"
      ]
     },
     "execution_count": 65,
     "metadata": {},
     "output_type": "execute_result"
    }
   ],
   "source": [
    "df_n['Precio Gasoleo A'].describe()\n"
   ]
  },
  {
   "cell_type": "code",
   "execution_count": 66,
   "id": "a0c57df7",
   "metadata": {},
   "outputs": [
    {
     "data": {
      "text/plain": [
       "345"
      ]
     },
     "execution_count": 66,
     "metadata": {},
     "output_type": "execute_result"
    }
   ],
   "source": [
    "# Registros sin venta Gasoleo A\n",
    "sin_suministro_gA = df_n['Precio Gasoleo A'].isnull().sum()\n",
    "sin_suministro_gA"
   ]
  },
  {
   "cell_type": "code",
   "execution_count": 67,
   "id": "2fd05b04",
   "metadata": {},
   "outputs": [
    {
     "data": {
      "text/plain": [
       "0"
      ]
     },
     "execution_count": 67,
     "metadata": {},
     "output_type": "execute_result"
    }
   ],
   "source": [
    "ceros_sin_suministro_gA = (df_n['Precio Gasoleo A'] == 0).sum()\n",
    "ceros_sin_suministro_gA"
   ]
  },
  {
   "cell_type": "markdown",
   "id": "6b8fd3b9",
   "metadata": {},
   "source": [
    "# Gasoleo B"
   ]
  },
  {
   "cell_type": "code",
   "execution_count": 68,
   "id": "90c596c9",
   "metadata": {},
   "outputs": [
    {
     "name": "stdout",
     "output_type": "stream",
     "text": [
      "459\n",
      "<class 'numpy.ndarray'>\n"
     ]
    },
    {
     "data": {
      "text/plain": [
       "array(['1,190', '', '1,307', '1,250', '1,230', '1,639', '1,539', '1,269',\n",
       "       '1,286', '1,520', '1,438', '1,321', '1,410', '1,450', '1,349',\n",
       "       '1,264', '1,374', '1,379', '1,366', '1,337', '1,220', '1,340',\n",
       "       '1,289', '1,699', '1,341', '1,298', '1,467', '1,200', '1,291',\n",
       "       '1,300', '1,290', '1,339', '1,189', '1,260', '1,420', '1,255',\n",
       "       '1,358', '1,599', '1,309', '1,559', '1,170', '1,549', '1,479',\n",
       "       '1,400', '1,338', '1,294', '1,319', '1,285', '1,359', '1,249',\n",
       "       '1,499', '1,589', '1,389', '1,393', '1,350', '1,399', '1,449',\n",
       "       '1,439', '0,956', '1,430', '1,247', '1,368', '1,500', '1,409',\n",
       "       '1,455', '1,303', '1,369', '1,299', '1,580', '1,372', '1,459',\n",
       "       '1,404', '1,360', '1,301', '1,382', '1,219', '1,480', '1,180',\n",
       "       '1,495', '1,353', '1,485', '1,279', '1,287', '1,244', '1,107',\n",
       "       '1,148', '1,225', '1,649', '1,259', '1,304', '1,329', '1,168',\n",
       "       '1,377', '1,419', '1,273', '1,209', '1,554', '1,345', '1,313',\n",
       "       '1,390', '1,179', '1,274', '1,489', '1,454', '1,416', '1,413',\n",
       "       '1,395', '1,325', '1,314', '1,347', '1,444', '1,322', '1,293',\n",
       "       '1,387', '1,284', '1,356', '1,344', '1,373', '1,361', '1,272',\n",
       "       '1,288', '1,352', '1,384', '1,270', '1,354', '1,427', '1,292',\n",
       "       '1,308', '1,239', '1,429', '1,407', '1,186', '1,311', '1,385',\n",
       "       '1,150', '1,670', '1,370', '1,398', '1,510', '1,199', '1,750',\n",
       "       '1,470', '1,278', '1,226', '1,650', '1,759', '1,381', '0,900',\n",
       "       '1,595', '1,099', '1,579', '1,281', '1,659', '1,550', '1,155',\n",
       "       '1,315', '1,447', '1,265', '1,283', '1,305', '1,137', '1,478',\n",
       "       '1,229', '1,600', '1,619', '1,425', '1,262', '1,275', '1,471',\n",
       "       '1,592', '1,365', '1,334', '1,357', '1,477', '1,949', '1,441',\n",
       "       '1,397', '1,348', '1,212', '1,332', '1,422', '1,509', '1,241',\n",
       "       '1,440', '1,276', '1,236', '1,184', '1,568', '1,238', '1,487',\n",
       "       '1,388', '1,295', '1,113', '1,178', '1,529', '1,165', '1,320',\n",
       "       '1,608', '1,396', '1,460', '1,343', '1,266', '1,009', '1,328',\n",
       "       '1,280', '1,181', '1,335', '1,302', '1,160', '1,324', '1,245',\n",
       "       '1,196', '1,318', '1,188', '1,240', '1,310', '1,210', '1,411',\n",
       "       '1,518', '1,140', '1,330', '1,177', '1,469', '1,710', '1,333',\n",
       "       '1,464', '1,453', '1,519', '1,598', '1,378', '1,327', '1,139',\n",
       "       '1,216', '1,172', '1,215', '1,164', '1,120', '1,424', '1,194',\n",
       "       '1,125', '1,077', '1,342', '1,282', '1,128', '1,122', '1,263',\n",
       "       '1,248', '1,367', '1,403', '1,336', '1,331', '1,176', '1,426',\n",
       "       '1,271', '1,090', '1,448', '1,261', '1,312', '1,175', '1,267',\n",
       "       '1,197', '1,187', '1,535', '1,362', '1,183', '1,126', '1,435',\n",
       "       '1,376', '1,316', '1,130', '1,629', '1,610', '1,451', '1,569',\n",
       "       '1,558', '1,490', '1,587', '1,296', '1,669', '1,323', '1,590',\n",
       "       '1,548', '1,405', '1,144', '1,149', '1,114', '1,069', '1,100',\n",
       "       '1,161', '1,159', '1,437', '1,104', '1,297', '1,243', '1,068',\n",
       "       '1,418', '1,406', '1,380', '1,428', '1,363', '1,790', '1,514',\n",
       "       '1,457', '1,195', '1,391', '1,108', '1,119', '1,252', '1,088',\n",
       "       '1,383', '1,235', '1,525', '1,256', '1,253', '1,174', '1,900',\n",
       "       '1,386', '1,355', '1,760', '1,233', '1,198', '1,205', '1,251',\n",
       "       '1,218', '1,163', '1,268', '1,228', '1,157', '1,586', '1,213',\n",
       "       '1,414', '1,257', '1,258', '1,277', '1,182', '1,158', '1,496',\n",
       "       '1,346', '1,434', '1,121', '1,192', '1,505', '1,653', '1,103',\n",
       "       '1,394', '1,185', '1,222', '1,602', '1,412', '1,191', '1,585',\n",
       "       '1,364', '1,232', '1,375', '1,415', '1,317', '1,204', '1,486',\n",
       "       '1,468', '1,456', '1,401', '1,206', '1,351', '1,522', '1,242',\n",
       "       '1,494', '1,526', '1,326', '1,538', '1,749', '1,507', '1,371',\n",
       "       '1,306', '1,142', '1,709', '1,392', '1,498', '1,565', '1,577',\n",
       "       '1,208', '1,237', '1,169', '0,999', '1,234', '1,221', '1,606',\n",
       "       '1,152', '1,151', '1,135', '1,223', '1,127', '1,105', '1,231',\n",
       "       '1,254', '1,202', '1,147', '1,146', '1,123', '1,106', '1,473',\n",
       "       '1,458', '1,136', '1,528', '1,417', '1,101'], dtype=object)"
      ]
     },
     "execution_count": 68,
     "metadata": {},
     "output_type": "execute_result"
    }
   ],
   "source": [
    "Gasoleo_B = df_n['Precio Gasoleo B'].unique()\n",
    "print(len(Gasoleo_A))\n",
    "print(type(Gasoleo_A))\n",
    "Gasoleo_B"
   ]
  },
  {
   "cell_type": "code",
   "execution_count": 69,
   "id": "b9ff1285",
   "metadata": {},
   "outputs": [],
   "source": [
    "# Convertimos columna categórica a numérica, primero tenemos que sustituir , por .\n",
    "df_n['Precio Gasoleo B']=df_n['Precio Gasoleo B'].str.replace(',','.')\n",
    "df_n[['Precio Gasoleo B']]=df_n[['Precio Gasoleo B']].apply(pd.to_numeric)"
   ]
  },
  {
   "cell_type": "code",
   "execution_count": 70,
   "id": "40bfd63c",
   "metadata": {},
   "outputs": [
    {
     "data": {
      "text/plain": [
       "count    3014.000000\n",
       "mean        1.342649\n",
       "std         0.113988\n",
       "min         0.900000\n",
       "25%         1.270000\n",
       "50%         1.329000\n",
       "75%         1.400000\n",
       "max         1.949000\n",
       "Name: Precio Gasoleo B, dtype: float64"
      ]
     },
     "execution_count": 70,
     "metadata": {},
     "output_type": "execute_result"
    }
   ],
   "source": [
    "df_n['Precio Gasoleo B'].describe()\n"
   ]
  },
  {
   "cell_type": "code",
   "execution_count": 71,
   "id": "ee5cfffa",
   "metadata": {},
   "outputs": [
    {
     "data": {
      "text/plain": [
       "8828"
      ]
     },
     "execution_count": 71,
     "metadata": {},
     "output_type": "execute_result"
    }
   ],
   "source": [
    "# Registros sin venta Gasoleo B\n",
    "sin_suministro_gB = df_n['Precio Gasoleo B'].isnull().sum()\n",
    "sin_suministro_gB"
   ]
  },
  {
   "cell_type": "code",
   "execution_count": 72,
   "id": "1654e9f7",
   "metadata": {},
   "outputs": [
    {
     "data": {
      "text/plain": [
       "0"
      ]
     },
     "execution_count": 72,
     "metadata": {},
     "output_type": "execute_result"
    }
   ],
   "source": [
    "ceros_sin_suministro_gB = (df_n['Precio Gasoleo B'] == 0).sum()\n",
    "ceros_sin_suministro_gB"
   ]
  },
  {
   "cell_type": "markdown",
   "id": "24d3a7ce",
   "metadata": {},
   "source": [
    "# Precio Gasoleo Premium "
   ]
  },
  {
   "cell_type": "code",
   "execution_count": 73,
   "id": "e25d3aaf",
   "metadata": {},
   "outputs": [
    {
     "name": "stdout",
     "output_type": "stream",
     "text": [
      "367\n",
      "<class 'numpy.ndarray'>\n"
     ]
    },
    {
     "data": {
      "text/plain": [
       "array(['', '1,799', '1,739', '1,789', '1,719', '1,678', '1,759', '1,769',\n",
       "       '1,709', '1,809', '1,735', '1,699', '1,779', '1,790', '1,689',\n",
       "       '1,690', '1,939', '1,749', '1,775', '1,765', '1,989', '1,729',\n",
       "       '1,744', '1,745', '1,905', '1,879', '1,819', '1,869', '1,849',\n",
       "       '1,679', '1,579', '1,774', '1,949', '1,714', '1,734', '1,815',\n",
       "       '1,785', '1,591', '1,758', '1,764', '1,755', '2,229', '1,659',\n",
       "       '1,798', '1,767', '1,909', '1,839', '1,784', '1,599', '1,717',\n",
       "       '1,829', '1,687', '1,795', '1,525', '1,495', '1,644', '1,859',\n",
       "       '1,683', '1,669', '1,700', '1,814', '1,715', '1,828', '1,910',\n",
       "       '1,574', '1,609', '1,771', '1,794', '2,999', '1,519', '1,674',\n",
       "       '1,629', '1,565', '1,791', '1,677', '1,698', '1,568', '1,821',\n",
       "       '1,693', '1,639', '1,763', '1,610', '1,589', '1,547', '1,567',\n",
       "       '1,533', '1,554', '1,649', '1,847', '1,725', '1,747', '1,762',\n",
       "       '1,682', '1,645', '1,969', '1,800', '1,801', '1,781', '1,999',\n",
       "       '1,898', '1,695', '1,625', '1,628', '1,569', '1,654', '1,648',\n",
       "       '1,617', '1,615', '1,741', '1,650', '1,670', '1,805', '1,635',\n",
       "       '1,704', '1,754', '1,899', '1,889', '1,888', '2,083', '1,959',\n",
       "       '1,447', '1,750', '1,694', '2,069', '1,556', '1,824', '1,577',\n",
       "       '1,919', '1,658', '1,768', '1,951', '1,848', '1,825', '1,724',\n",
       "       '1,788', '1,845', '1,868', '1,728', '1,624', '2,129', '1,604',\n",
       "       '1,638', '1,684', '1,686', '1,740', '1,850', '1,539', '1,766',\n",
       "       '1,751', '1,594', '1,655', '1,705', '1,808', '1,619', '1,895',\n",
       "       '1,595', '1,770', '1,796', '1,786', '1,607', '1,499', '1,600',\n",
       "       '1,706', '1,559', '1,597', '1,688', '1,634', '1,811', '1,575',\n",
       "       '1,804', '1,865', '1,818', '1,835', '1,797', '1,549', '1,979',\n",
       "       '1,842', '1,630', '1,834', '1,810', '1,844', '1,778', '1,710',\n",
       "       '1,807', '1,761', '1,573', '1,787', '1,598', '1,760', '1,737',\n",
       "       '1,738', '1,985', '1,389', '1,369', '1,748', '1,572', '1,730',\n",
       "       '1,580', '1,954', '1,802', '1,723', '1,620', '1,618', '1,858',\n",
       "       '1,929', '1,564', '1,897', '1,780', '1,820', '1,875', '1,856',\n",
       "       '2,060', '1,671', '1,877', '1,783', '1,907', '1,777', '1,716',\n",
       "       '1,917', '1,665', '1,685', '1,721', '1,727', '1,885', '1,637',\n",
       "       '1,752', '1,524', '1,950', '2,100', '1,860', '1,611', '1,529',\n",
       "       '1,660', '1,861', '1,822', '1,792', '1,697', '1,756', '1,881',\n",
       "       '1,793', '1,657', '1,666', '1,935', '1,908', '1,746', '1,587',\n",
       "       '1,540', '1,487', '1,668', '1,904', '1,641', '1,887', '1,773',\n",
       "       '1,743', '1,718', '1,284', '1,295', '1,245', '2,089', '1,736',\n",
       "       '1,864', '1,803', '1,557', '1,608', '1,535', '1,830', '1,647',\n",
       "       '1,827', '1,537', '1,566', '1,319', '1,429', '1,520', '1,631',\n",
       "       '1,596', '1,530', '1,439', '1,702', '1,562', '1,544', '1,489',\n",
       "       '1,622', '1,471', '1,436', '1,518', '1,419', '1,469', '1,320',\n",
       "       '1,464', '1,584', '1,485', '1,590', '1,560', '1,593', '1,915',\n",
       "       '1,878', '1,836', '1,708', '1,707', '1,582', '1,534', '1,538',\n",
       "       '1,541', '1,542', '1,545', '1,509', '1,490', '1,479', '1,418',\n",
       "       '1,454', '1,873', '1,576', '1,571', '1,496', '1,367', '1,299',\n",
       "       '1,379', '1,463', '1,558', '1,449', '1,415', '1,498', '1,528',\n",
       "       '1,412', '1,510', '1,578', '1,459', '1,428', '1,516', '1,483',\n",
       "       '1,776', '1,395', '1,588', '1,656', '1,474', '1,488', '1,398',\n",
       "       '1,551', '1,643', '1,467', '1,846', '1,851', '2,009', '1,626',\n",
       "       '1,903', '1,664', '1,867', '1,855', '1,927', '1,921', '1,816',\n",
       "       '1,757', '1,955', '1,841', '1,680', '1,570', '1,555', '1,667',\n",
       "       '1,817', '1,583', '1,852', '1,720', '1,605', '1,753', '1,627',\n",
       "       '1,731', '1,890'], dtype=object)"
      ]
     },
     "execution_count": 73,
     "metadata": {},
     "output_type": "execute_result"
    }
   ],
   "source": [
    "Gasoleo_P = df_n['Precio Gasoleo Premium'].unique()\n",
    "print(len(Gasoleo_P))\n",
    "print(type(Gasoleo_P))\n",
    "Gasoleo_P"
   ]
  },
  {
   "cell_type": "code",
   "execution_count": 74,
   "id": "b2743f33",
   "metadata": {},
   "outputs": [],
   "source": [
    "# Convertimos columna categórica a numérica, primero tenemos que sustituir , por .\n",
    "df_n['Precio Gasoleo Premium']=df_n['Precio Gasoleo Premium'].str.replace(',','.')\n",
    "df_n[['Precio Gasoleo Premium']]=df_n[['Precio Gasoleo Premium']].apply(pd.to_numeric)"
   ]
  },
  {
   "cell_type": "code",
   "execution_count": 75,
   "id": "10e79699",
   "metadata": {},
   "outputs": [
    {
     "data": {
      "text/plain": [
       "count    7529.000000\n",
       "mean        1.751081\n",
       "std         0.081245\n",
       "min         1.245000\n",
       "25%         1.729000\n",
       "50%         1.769000\n",
       "75%         1.799000\n",
       "max         2.999000\n",
       "Name: Precio Gasoleo Premium, dtype: float64"
      ]
     },
     "execution_count": 75,
     "metadata": {},
     "output_type": "execute_result"
    }
   ],
   "source": [
    "df_n['Precio Gasoleo Premium'].describe()"
   ]
  },
  {
   "cell_type": "code",
   "execution_count": 76,
   "id": "9666e5b7",
   "metadata": {},
   "outputs": [
    {
     "data": {
      "text/plain": [
       "4313"
      ]
     },
     "execution_count": 76,
     "metadata": {},
     "output_type": "execute_result"
    }
   ],
   "source": [
    "# Registros sin venta Gasoleo Premium\n",
    "sin_suministro_gP = df_n['Precio Gasoleo Premium'].isnull().sum()\n",
    "sin_suministro_gP"
   ]
  },
  {
   "cell_type": "code",
   "execution_count": 77,
   "id": "c62c56a0",
   "metadata": {},
   "outputs": [
    {
     "data": {
      "text/plain": [
       "0"
      ]
     },
     "execution_count": 77,
     "metadata": {},
     "output_type": "execute_result"
    }
   ],
   "source": [
    "ceros_sin_suministro_gP = (df_n['Precio Gasoleo Premium'] == 0).sum()\n",
    "ceros_sin_suministro_gP"
   ]
  },
  {
   "cell_type": "markdown",
   "id": "1af7f46d",
   "metadata": {},
   "source": [
    "# Precio Gasolina 95 E10 "
   ]
  },
  {
   "cell_type": "code",
   "execution_count": 78,
   "id": "a3d6c6e1",
   "metadata": {},
   "outputs": [
    {
     "name": "stdout",
     "output_type": "stream",
     "text": [
      "19\n",
      "<class 'numpy.ndarray'>\n"
     ]
    },
    {
     "data": {
      "text/plain": [
       "array(['', '1,869', '1,809', '1,729', '1,628', '1,619', '1,569', '1,669',\n",
       "       '1,679', '1,719', '1,639', '1,659', '1,477', '1,495', '1,699',\n",
       "       '1,779', '1,769', '1,689', '1,718'], dtype=object)"
      ]
     },
     "execution_count": 78,
     "metadata": {},
     "output_type": "execute_result"
    }
   ],
   "source": [
    "g95_E10 = df_n['Precio Gasolina 95 E10'].unique()\n",
    "print(len(g95_E10))\n",
    "print(type(g95_E10))\n",
    "g95_E10"
   ]
  },
  {
   "cell_type": "code",
   "execution_count": 79,
   "id": "c2203d4d",
   "metadata": {},
   "outputs": [],
   "source": [
    "# Convertimos columna categórica a numérica, primero tenemos que sustituir , por .\n",
    "df_n['Precio Gasolina 95 E10']=df_n['Precio Gasolina 95 E10'].str.replace(',','.')\n",
    "df_n[['Precio Gasolina 95 E10']]=df_n[['Precio Gasolina 95 E10']].apply(pd.to_numeric)"
   ]
  },
  {
   "cell_type": "code",
   "execution_count": 80,
   "id": "01212952",
   "metadata": {},
   "outputs": [
    {
     "data": {
      "text/plain": [
       "count    22.000000\n",
       "mean      1.678636\n",
       "std       0.091620\n",
       "min       1.477000\n",
       "25%       1.639000\n",
       "50%       1.684000\n",
       "75%       1.719000\n",
       "max       1.869000\n",
       "Name: Precio Gasolina 95 E10, dtype: float64"
      ]
     },
     "execution_count": 80,
     "metadata": {},
     "output_type": "execute_result"
    }
   ],
   "source": [
    " df_n['Precio Gasolina 95 E10'].describe()"
   ]
  },
  {
   "cell_type": "code",
   "execution_count": 81,
   "id": "6aaa6a7b",
   "metadata": {},
   "outputs": [
    {
     "data": {
      "text/plain": [
       "11820"
      ]
     },
     "execution_count": 81,
     "metadata": {},
     "output_type": "execute_result"
    }
   ],
   "source": [
    "# Registros sin venta Gasoleo Premium\n",
    "sin_suministro_95E10 = df_n['Precio Gasolina 95 E10'].isnull().sum()\n",
    "sin_suministro_95E10"
   ]
  },
  {
   "cell_type": "markdown",
   "id": "3e9e3b58",
   "metadata": {},
   "source": [
    "# Precio Gasolina 95 E5"
   ]
  },
  {
   "cell_type": "code",
   "execution_count": 82,
   "id": "a04d4e77",
   "metadata": {},
   "outputs": [
    {
     "name": "stdout",
     "output_type": "stream",
     "text": [
      "430\n",
      "<class 'numpy.ndarray'>\n"
     ]
    },
    {
     "data": {
      "text/plain": [
       "array(['1,589', '', '1,487', '1,599', '1,559', '1,548', '1,609', '1,579',\n",
       "       '1,669', '1,499', '1,619', '1,590', '1,640', '2,299', '1,479',\n",
       "       '1,709', '1,561', '1,639', '1,629', '1,574', '1,739', '1,659',\n",
       "       '1,569', '1,604', '1,695', '1,769', '1,644', '1,699', '1,530',\n",
       "       '1,650', '1,679', '1,469', '1,665', '1,690', '1,649', '1,689',\n",
       "       '1,799', '1,549', '1,567', '1,490', '1,467', '1,779', '1,539',\n",
       "       '1,379', '1,534', '1,389', '1,584', '1,635', '1,476', '1,399',\n",
       "       '1,459', '1,407', '1,397', '1,614', '1,605', '1,455', '1,529',\n",
       "       '1,598', '1,578', '1,688', '1,595', '1,495', '1,544', '1,527',\n",
       "       '1,623', '1,603', '1,489', '1,497', '1,514', '1,628', '1,439',\n",
       "       '1,537', '1,627', '1,519', '1,505', '1,447', '1,729', '1,554',\n",
       "       '1,634', '1,656', '1,618', '1,504', '1,664', '1,654', '1,528',\n",
       "       '1,429', '1,465', '1,475', '1,417', '1,509', '1,515', '1,435',\n",
       "       '1,437', '1,597', '1,568', '1,624', '1,558', '1,413', '1,750',\n",
       "       '1,449', '1,535', '1,616', '1,555', '1,450', '1,607', '1,444',\n",
       "       '1,510', '1,480', '1,969', '1,580', '1,691', '1,540', '1,680',\n",
       "       '1,712', '1,545', '1,726', '1,500', '1,507', '1,600', '1,749',\n",
       "       '1,645', '1,668', '1,518', '1,585', '1,557', '2,000', '1,719',\n",
       "       '1,671', '1,517', '1,594', '1,550', '1,525', '1,698', '1,610',\n",
       "       '1,725', '1,427', '1,685', '1,850', '1,700', '1,681', '1,508',\n",
       "       '1,829', '1,670', '1,608', '1,357', '1,460', '1,909', '1,800',\n",
       "       '1,636', '1,809', '1,565', '1,620', '1,570', '1,789', '1,869',\n",
       "       '1,575', '1,849', '1,677', '1,754', '1,675', '1,658', '1,615',\n",
       "       '1,588', '1,657', '1,538', '1,617', '1,369', '1,372', '1,573',\n",
       "       '1,638', '1,458', '1,494', '1,759', '1,648', '1,611', '1,496',\n",
       "       '1,376', '1,516', '1,498', '1,606', '1,533', '1,418', '1,524',\n",
       "       '1,419', '1,577', '1,674', '1,432', '1,426', '1,464', '1,375',\n",
       "       '1,643', '1,564', '1,454', '1,409', '1,373', '1,587', '1,383',\n",
       "       '1,999', '1,374', '1,720', '1,513', '1,560', '1,556', '1,546',\n",
       "       '1,362', '1,655', '1,488', '1,547', '1,377', '1,686', '1,708',\n",
       "       '2,149', '1,707', '1,631', '1,684', '1,717', '1,857', '1,520',\n",
       "       '1,470', '1,706', '1,740', '1,486', '1,646', '1,612', '1,471',\n",
       "       '1,647', '1,477', '1,630', '1,660', '1,553', '1,385', '1,900',\n",
       "       '1,666', '1,382', '1,625', '1,493', '1,697', '1,572', '1,492',\n",
       "       '1,819', '1,234', '1,215', '1,233', '1,583', '1,601', '1,485',\n",
       "       '1,457', '1,694', '1,484', '1,145', '1,673', '1,621', '1,678',\n",
       "       '1,738', '1,541', '1,633', '1,730', '1,641', '1,835', '1,965',\n",
       "       '1,711', '1,653', '1,395', '2,329', '1,672', '1,402', '1,491',\n",
       "       '1,522', '1,536', '1,765', '1,731', '1,777', '1,889', '1,663',\n",
       "       '1,380', '1,503', '1,405', '1,864', '1,760', '1,637', '1,593',\n",
       "       '1,839', '1,591', '1,693', '1,727', '1,853', '1,661', '1,506',\n",
       "       '2,120', '1,723', '1,704', '1,571', '1,378', '1,456', '1,830',\n",
       "       '1,474', '1,768', '1,622', '1,576', '1,794', '1,613', '1,755',\n",
       "       '1,792', '1,652', '1,523', '1,795', '1,581', '1,778', '1,501',\n",
       "       '1,531', '1,596', '1,551', '1,566', '1,148', '1,149', '1,586',\n",
       "       '2,100', '1,859', '1,472', '1,736', '1,478', '1,667', '1,425',\n",
       "       '1,349', '1,338', '1,279', '1,119', '0,998', '1,189', '1,329',\n",
       "       '1,339', '1,328', '1,115', '0,999', '1,345', '1,410', '1,430',\n",
       "       '1,424', '1,434', '1,359', '1,099', '1,299', '1,482', '1,512',\n",
       "       '1,542', '1,198', '1,361', '1,404', '1,414', '1,249', '1,420',\n",
       "       '1,438', '1,356', '1,411', '1,396', '1,398', '1,394', '1,355',\n",
       "       '1,400', '1,309', '1,326', '1,387', '1,718', '1,748', '1,758',\n",
       "       '1,155', '1,428', '1,334', '1,319', '1,306', '1,336', '1,314',\n",
       "       '1,289', '1,290', '1,262', '1,348', '1,284', '1,265', '1,259',\n",
       "       '1,298', '1,277', '1,197', '1,159', '1,344', '1,318', '1,331',\n",
       "       '1,263', '1,335', '1,219', '1,268', '1,139', '1,239', '1,287',\n",
       "       '1,364', '1,285', '1,295', '1,272', '1,264', '1,109', '1,255',\n",
       "       '1,227', '1,278', '1,247', '1,286', '1,158', '1,340', '1,390',\n",
       "       '1,358', '1,169', '1,297', '1,293', '1,258', '1,283', '1,626',\n",
       "       '1,468', '1,543', '1,381', '1,386', '1,692', '1,701', '1,421',\n",
       "       '1,756', '1,787', '1,521', '1,347', '1,602', '1,502', '1,804',\n",
       "       '1,737', '1,406'], dtype=object)"
      ]
     },
     "execution_count": 82,
     "metadata": {},
     "output_type": "execute_result"
    }
   ],
   "source": [
    "g95_E5 = df_n['Precio Gasolina 95 E5'].unique()\n",
    "print(len(g95_E5))\n",
    "print(type(g95_E5))\n",
    "g95_E5"
   ]
  },
  {
   "cell_type": "code",
   "execution_count": 83,
   "id": "196f251e",
   "metadata": {},
   "outputs": [],
   "source": [
    "# Convertimos columna categórica a numérica, primero tenemos que sustituir , por .\n",
    "df_n['Precio Gasolina 95 E5']=df_n['Precio Gasolina 95 E5'].str.replace(',','.')\n",
    "df_n[['Precio Gasolina 95 E5']]=df_n[['Precio Gasolina 95 E5']].apply(pd.to_numeric)"
   ]
  },
  {
   "cell_type": "code",
   "execution_count": 84,
   "id": "621ec9bd",
   "metadata": {},
   "outputs": [
    {
     "data": {
      "text/plain": [
       "count    10697.000000\n",
       "mean         1.584291\n",
       "std          0.083416\n",
       "min          0.998000\n",
       "25%          1.559000\n",
       "50%          1.599000\n",
       "75%          1.629000\n",
       "max          2.329000\n",
       "Name: Precio Gasolina 95 E5, dtype: float64"
      ]
     },
     "execution_count": 84,
     "metadata": {},
     "output_type": "execute_result"
    }
   ],
   "source": [
    "df_n['Precio Gasolina 95 E5'].describe()"
   ]
  },
  {
   "cell_type": "code",
   "execution_count": 85,
   "id": "56396333",
   "metadata": {},
   "outputs": [
    {
     "data": {
      "text/plain": [
       "1145"
      ]
     },
     "execution_count": 85,
     "metadata": {},
     "output_type": "execute_result"
    }
   ],
   "source": [
    "# Registros sin venta Gasoleo Premium\n",
    "sin_suministro_g95E5 = df_n['Precio Gasolina 95 E5'].isnull().sum()\n",
    "sin_suministro_g95E5"
   ]
  },
  {
   "cell_type": "code",
   "execution_count": 86,
   "id": "c8cc07ca",
   "metadata": {},
   "outputs": [
    {
     "data": {
      "text/plain": [
       "0"
      ]
     },
     "execution_count": 86,
     "metadata": {},
     "output_type": "execute_result"
    }
   ],
   "source": [
    "ceros_sin_suministro_g95E5  = (df_n['Precio Gasolina 95 E5'] == 0).sum()\n",
    "ceros_sin_suministro_g95E5 "
   ]
  },
  {
   "cell_type": "markdown",
   "id": "fe877ab4",
   "metadata": {},
   "source": [
    "# Precio Gasolina 95 E5 Premium"
   ]
  },
  {
   "cell_type": "code",
   "execution_count": 87,
   "id": "5586de3c",
   "metadata": {},
   "outputs": [
    {
     "name": "stdout",
     "output_type": "stream",
     "text": [
      "97\n",
      "<class 'numpy.ndarray'>\n"
     ]
    },
    {
     "data": {
      "text/plain": [
       "array(['', '1,639', '1,599', '1,654', '1,709', '1,629', '1,759', '1,609',\n",
       "       '1,809', '1,649', '1,714', '1,669', '1,684', '1,619', '1,659',\n",
       "       '1,689', '1,719', '1,679', '1,699', '1,664', '1,504', '1,700',\n",
       "       '1,704', '1,568', '1,729', '1,694', '1,549', '1,395', '1,492',\n",
       "       '1,405', '1,789', '1,779', '1,574', '1,559', '1,724', '1,655',\n",
       "       '1,879', '1,594', '1,739', '1,589', '1,859', '1,685', '1,769',\n",
       "       '1,727', '1,754', '1,644', '1,584', '1,749', '1,614', '1,624',\n",
       "       '1,604', '1,579', '1,509', '1,674', '1,744', '1,786', '1,697',\n",
       "       '1,499', '1,632', '1,529', '1,269', '1,569', '1,585', '1,710',\n",
       "       '1,795', '1,634', '1,758', '1,698', '1,642', '1,899', '1,637',\n",
       "       '1,490', '1,538', '1,497', '1,518', '1,597', '1,598', '1,695',\n",
       "       '1,527', '1,668', '1,558', '1,447', '1,159', '1,459', '1,535',\n",
       "       '1,189', '1,705', '1,491', '1,675', '1,519', '1,718', '1,803',\n",
       "       '1,567', '1,577', '1,821', '1,799', '1,677'], dtype=object)"
      ]
     },
     "execution_count": 87,
     "metadata": {},
     "output_type": "execute_result"
    }
   ],
   "source": [
    "g95_E5_P = df_n['Precio Gasolina 95 E5 Premium'].unique()\n",
    "print(len(g95_E5_P))\n",
    "print(type(g95_E5_P))\n",
    "g95_E5_P"
   ]
  },
  {
   "cell_type": "code",
   "execution_count": 88,
   "id": "4758d3d3",
   "metadata": {},
   "outputs": [],
   "source": [
    "# Convertimos columna categórica a numérica, primero tenemos que sustituir , por .\n",
    "df_n['Precio Gasolina 95 E5 Premium']=df_n['Precio Gasolina 95 E5 Premium'].str.replace(',','.')\n",
    "df_n[['Precio Gasolina 95 E5 Premium']]=df_n[['Precio Gasolina 95 E5 Premium']].apply(pd.to_numeric)"
   ]
  },
  {
   "cell_type": "code",
   "execution_count": 89,
   "id": "7d0a8e3a",
   "metadata": {},
   "outputs": [
    {
     "data": {
      "text/plain": [
       "count    812.000000\n",
       "mean       1.665869\n",
       "std        0.070108\n",
       "min        1.159000\n",
       "25%        1.639000\n",
       "50%        1.674000\n",
       "75%        1.704000\n",
       "max        1.899000\n",
       "Name: Precio Gasolina 95 E5 Premium, dtype: float64"
      ]
     },
     "execution_count": 89,
     "metadata": {},
     "output_type": "execute_result"
    }
   ],
   "source": [
    "df_n['Precio Gasolina 95 E5 Premium'].describe()"
   ]
  },
  {
   "cell_type": "code",
   "execution_count": 90,
   "id": "4a815e9d",
   "metadata": {},
   "outputs": [
    {
     "data": {
      "text/plain": [
       "11030"
      ]
     },
     "execution_count": 90,
     "metadata": {},
     "output_type": "execute_result"
    }
   ],
   "source": [
    "# Registros sin venta Gasolina 95 E5 Premium\n",
    "sin_suministro_g95E5_Prem = df_n['Precio Gasolina 95 E5 Premium'].isnull().sum()\n",
    "sin_suministro_g95E5_Prem"
   ]
  },
  {
   "cell_type": "code",
   "execution_count": 91,
   "id": "7ae51272",
   "metadata": {},
   "outputs": [
    {
     "data": {
      "text/plain": [
       "0"
      ]
     },
     "execution_count": 91,
     "metadata": {},
     "output_type": "execute_result"
    }
   ],
   "source": [
    "ceros_sin_suministro_g95E5_Prem  = (df_n['Precio Gasolina 95 E5 Premium'] == 0).sum()\n",
    "ceros_sin_suministro_g95E5 "
   ]
  },
  {
   "cell_type": "markdown",
   "id": "477ee508",
   "metadata": {},
   "source": [
    "# Precio Gasolina 98 E10"
   ]
  },
  {
   "cell_type": "code",
   "execution_count": 92,
   "id": "3b8c6a20",
   "metadata": {},
   "outputs": [
    {
     "name": "stdout",
     "output_type": "stream",
     "text": [
      "9\n",
      "<class 'numpy.ndarray'>\n"
     ]
    },
    {
     "data": {
      "text/plain": [
       "array(['', '1,995', '1,659', '1,717', '1,655', '1,739', '1,849', '1,839',\n",
       "       '1,838'], dtype=object)"
      ]
     },
     "execution_count": 92,
     "metadata": {},
     "output_type": "execute_result"
    }
   ],
   "source": [
    "g98_E10 = df_n['Precio Gasolina 98 E10'].unique()\n",
    "print(len(g98_E10))\n",
    "print(type(g98_E10))\n",
    "g98_E10"
   ]
  },
  {
   "cell_type": "code",
   "execution_count": 93,
   "id": "77f0708e",
   "metadata": {},
   "outputs": [],
   "source": [
    "# Convertimos columna categórica a numérica, primero tenemos que sustituir , por .\n",
    "df_n['Precio Gasolina 98 E10']=df_n['Precio Gasolina 98 E10'].str.replace(',','.')\n",
    "df_n[['Precio Gasolina 98 E10']]=df_n[['Precio Gasolina 98 E10']].apply(pd.to_numeric)"
   ]
  },
  {
   "cell_type": "code",
   "execution_count": 94,
   "id": "0ce30530",
   "metadata": {},
   "outputs": [
    {
     "data": {
      "text/plain": [
       "count    9.000000\n",
       "mean     1.771778\n",
       "std      0.116600\n",
       "min      1.655000\n",
       "25%      1.659000\n",
       "50%      1.739000\n",
       "75%      1.839000\n",
       "max      1.995000\n",
       "Name: Precio Gasolina 98 E10, dtype: float64"
      ]
     },
     "execution_count": 94,
     "metadata": {},
     "output_type": "execute_result"
    }
   ],
   "source": [
    "df_n['Precio Gasolina 98 E10'].describe()"
   ]
  },
  {
   "cell_type": "code",
   "execution_count": 95,
   "id": "7846a3d5",
   "metadata": {},
   "outputs": [
    {
     "data": {
      "text/plain": [
       "11833"
      ]
     },
     "execution_count": 95,
     "metadata": {},
     "output_type": "execute_result"
    }
   ],
   "source": [
    "# Registros sin venta Gasolina 98 E10 \n",
    "sin_suministro_g98E10 = df_n['Precio Gasolina 98 E10'].isnull().sum()\n",
    "sin_suministro_g98E10"
   ]
  },
  {
   "cell_type": "markdown",
   "id": "d0eca28a",
   "metadata": {},
   "source": [
    "# Precio Gasolina 98 E5"
   ]
  },
  {
   "cell_type": "code",
   "execution_count": 96,
   "id": "b948ed78",
   "metadata": {},
   "outputs": [
    {
     "name": "stdout",
     "output_type": "stream",
     "text": [
      "423\n",
      "<class 'numpy.ndarray'>\n"
     ]
    },
    {
     "data": {
      "text/plain": [
       "array(['', '1,741', '1,799', '1,699', '1,689', '1,789', '1,779', '1,839',\n",
       "       '1,679', '1,669', '2,369', '1,729', '1,745', '1,859', '1,709',\n",
       "       '1,706', '1,929', '1,719', '1,744', '1,879', '1,759', '1,951',\n",
       "       '1,850', '1,704', '1,909', '1,809', '1,691', '1,889', '2,089',\n",
       "       '1,739', '1,721', '1,749', '1,769', '1,674', '1,751', '1,714',\n",
       "       '1,777', '1,761', '1,771', '1,765', '1,748', '1,999', '1,869',\n",
       "       '1,781', '1,798', '1,785', '1,899', '1,821', '1,829', '1,819',\n",
       "       '1,763', '1,794', '1,989', '1,718', '1,865', '1,855', '1,734',\n",
       "       '1,686', '1,694', '1,776', '1,811', '1,750', '1,736', '1,810',\n",
       "       '1,762', '1,804', '2,999', '1,849', '1,695', '1,770', '1,905',\n",
       "       '1,959', '1,801', '1,746', '1,643', '1,754', '1,533', '1,832',\n",
       "       '1,888', '2,000', '1,800', '1,926', '1,705', '1,949', '1,818',\n",
       "       '1,625', '1,764', '1,778', '1,569', '1,685', '1,756', '1,730',\n",
       "       '1,782', '1,774', '1,726', '1,700', '1,939', '1,687', '1,740',\n",
       "       '1,670', '2,159', '1,649', '1,711', '1,979', '1,738', '2,169',\n",
       "       '1,659', '1,915', '1,716', '1,791', '1,919', '1,786', '1,834',\n",
       "       '1,815', '1,848', '1,795', '1,688', '1,847', '1,629', '1,945',\n",
       "       '1,767', '1,499', '1,835', '1,797', '1,722', '1,614', '1,701',\n",
       "       '1,831', '1,784', '1,539', '1,826', '1,731', '1,732', '1,995',\n",
       "       '1,790', '1,780', '1,592', '1,684', '1,609', '1,469', '1,845',\n",
       "       '1,851', '1,890', '1,724', '1,788', '1,594', '1,710', '1,755',\n",
       "       '1,766', '1,582', '1,654', '1,895', '1,969', '1,752', '1,793',\n",
       "       '1,559', '1,574', '1,924', '1,948', '1,808', '1,838', '1,840',\n",
       "       '1,813', '1,824', '1,988', '1,639', '2,199', '2,019', '1,878',\n",
       "       '1,697', '1,690', '1,760', '1,579', '1,567', '1,998', '1,787',\n",
       "       '1,857', '1,775', '1,698', '1,696', '1,665', '1,757', '1,249',\n",
       "       '1,263', '2,149', '1,589', '1,599', '2,229', '2,009', '1,681',\n",
       "       '1,655', '1,975', '1,715', '1,717', '1,753', '2,049', '1,871',\n",
       "       '1,708', '1,991', '1,858', '1,827', '2,029', '1,644', '1,937',\n",
       "       '2,005', '1,807', '2,109', '1,806', '1,772', '1,930', '1,619',\n",
       "       '2,139', '1,735', '1,768', '1,852', '1,728', '1,549', '1,675',\n",
       "       '1,583', '2,500', '1,725', '1,664', '1,758', '1,900', '2,299',\n",
       "       '1,568', '1,597', '2,200', '1,884', '1,640', '1,836', '1,861',\n",
       "       '1,666', '1,875', '1,596', '1,747', '1,842', '1,950', '1,873',\n",
       "       '1,853', '2,020', '1,598', '1,881', '1,557', '2,099', '1,906',\n",
       "       '1,984', '1,783', '1,960', '1,613', '2,239', '1,667', '1,968',\n",
       "       '2,069', '1,796', '1,891', '1,743', '1,657', '1,941', '1,860',\n",
       "       '1,805', '1,837', '1,817', '1,737', '1,727', '1,409', '1,516',\n",
       "       '1,474', '1,534', '1,299', '1,279', '1,389', '1,464', '1,506',\n",
       "       '1,380', '1,510', '1,564', '1,507', '1,634', '1,551', '1,514',\n",
       "       '1,524', '1,544', '1,590', '1,509', '1,581', '1,548', '1,558',\n",
       "       '1,429', '1,339', '1,449', '1,673', '1,624', '1,530', '1,512',\n",
       "       '1,404', '1,452', '1,554', '1,519', '1,584', '1,439', '1,504',\n",
       "       '1,490', '1,550', '1,580', '1,575', '1,528', '1,442', '1,468',\n",
       "       '1,411', '1,547', '1,375', '1,508', '1,540', '1,359', '1,553',\n",
       "       '1,451', '1,521', '1,511', '1,520', '1,466', '1,422', '1,628',\n",
       "       '1,447', '1,529', '1,495', '1,562', '1,525', '1,497', '1,419',\n",
       "       '1,885', '1,651', '1,935', '1,864', '1,916', '1,713', '1,825',\n",
       "       '1,190', '1,498', '1,459', '1,458', '1,479', '1,484', '1,431',\n",
       "       '1,437', '1,462', '1,454', '1,434', '1,390', '1,355', '1,502',\n",
       "       '1,399', '1,601', '1,595', '1,489', '1,329', '1,327', '1,587',\n",
       "       '1,586', '1,478', '1,379', '1,473', '1,377', '1,257', '1,358',\n",
       "       '1,455', '1,678', '1,314', '1,417', '1,460', '1,438', '1,414',\n",
       "       '1,369', '1,494', '1,394', '1,345', '1,426', '1,365', '1,448',\n",
       "       '1,294', '1,445', '1,297', '1,317', '1,418', '1,387', '1,486',\n",
       "       '1,295', '1,395', '1,425', '1,321', '1,475', '1,298', '1,465',\n",
       "       '1,340', '1,546', '1,444', '1,397', '1,420', '1,433', '1,398',\n",
       "       '1,423', '1,315', '1,605', '1,898', '1,977', '1,816', '2,219',\n",
       "       '1,993', '1,733', '1,611', '2,450', '1,661', '1,876', '1,907',\n",
       "       '1,965', '2,220', '2,055', '1,677', '1,828', '1,608', '1,653',\n",
       "       '1,707', '1,638'], dtype=object)"
      ]
     },
     "execution_count": 96,
     "metadata": {},
     "output_type": "execute_result"
    }
   ],
   "source": [
    "g98_E5 = df_n['Precio Gasolina 98 E5'].unique()\n",
    "print(len(g98_E5))\n",
    "print(type(g98_E5))\n",
    "g98_E5"
   ]
  },
  {
   "cell_type": "code",
   "execution_count": 97,
   "id": "4763d458",
   "metadata": {},
   "outputs": [],
   "source": [
    "# Convertimos columna categórica a numérica, primero tenemos que sustituir , por .\n",
    "df_n['Precio Gasolina 98 E5']=df_n['Precio Gasolina 98 E5'].str.replace(',','.')\n",
    "df_n[['Precio Gasolina 98 E5']]=df_n[['Precio Gasolina 98 E5']].apply(pd.to_numeric)"
   ]
  },
  {
   "cell_type": "code",
   "execution_count": 98,
   "id": "767e87d9",
   "metadata": {},
   "outputs": [
    {
     "data": {
      "text/plain": [
       "count    5946.000000\n",
       "mean        1.743390\n",
       "std         0.106752\n",
       "min         1.190000\n",
       "25%         1.714000\n",
       "50%         1.750000\n",
       "75%         1.784000\n",
       "max         2.999000\n",
       "Name: Precio Gasolina 98 E5, dtype: float64"
      ]
     },
     "execution_count": 98,
     "metadata": {},
     "output_type": "execute_result"
    }
   ],
   "source": [
    "df_n['Precio Gasolina 98 E5'].describe()"
   ]
  },
  {
   "cell_type": "code",
   "execution_count": 99,
   "id": "d9fb7e91",
   "metadata": {},
   "outputs": [
    {
     "data": {
      "text/plain": [
       "5896"
      ]
     },
     "execution_count": 99,
     "metadata": {},
     "output_type": "execute_result"
    }
   ],
   "source": [
    "# Registros sin venta Gasolina 98 E5 \n",
    "sin_suministro_g98E5 = df_n['Precio Gasolina 98 E5'].isnull().sum()\n",
    "sin_suministro_g98E5"
   ]
  },
  {
   "cell_type": "code",
   "execution_count": 100,
   "id": "ad3ee76b",
   "metadata": {},
   "outputs": [
    {
     "data": {
      "text/plain": [
       "0"
      ]
     },
     "execution_count": 100,
     "metadata": {},
     "output_type": "execute_result"
    }
   ],
   "source": [
    "ceros_sin_suministro_g98E5  = (df_n['Precio Gasolina 98 E5'] == 0).sum()\n",
    "ceros_sin_suministro_g98E5 "
   ]
  },
  {
   "cell_type": "markdown",
   "id": "d8566cb1",
   "metadata": {},
   "source": [
    "# Precio Hidrogeno "
   ]
  },
  {
   "cell_type": "code",
   "execution_count": 101,
   "id": "8092ec5a",
   "metadata": {},
   "outputs": [
    {
     "name": "stdout",
     "output_type": "stream",
     "text": [
      "1\n",
      "<class 'numpy.ndarray'>\n"
     ]
    },
    {
     "data": {
      "text/plain": [
       "array([''], dtype=object)"
      ]
     },
     "execution_count": 101,
     "metadata": {},
     "output_type": "execute_result"
    }
   ],
   "source": [
    "Hidrongeno = df_n['Precio Hidrogeno'].unique()\n",
    "print(len(Hidrongeno))\n",
    "print(type(Hidrongeno))\n",
    "Hidrongeno"
   ]
  },
  {
   "cell_type": "code",
   "execution_count": 102,
   "id": "38acbbd6",
   "metadata": {},
   "outputs": [],
   "source": [
    "# Convertimos columna categórica a numérica, primero tenemos que sustituir , por .\n",
    "df_n['Precio Hidrogeno']=df_n['Precio Hidrogeno'].str.replace(',','.')\n",
    "df_n[['Precio Hidrogeno']]=df_n[['Precio Hidrogeno']].apply(pd.to_numeric)"
   ]
  },
  {
   "cell_type": "code",
   "execution_count": 103,
   "id": "1b19941a",
   "metadata": {},
   "outputs": [
    {
     "data": {
      "text/plain": [
       "count    0.0\n",
       "mean     NaN\n",
       "std      NaN\n",
       "min      NaN\n",
       "25%      NaN\n",
       "50%      NaN\n",
       "75%      NaN\n",
       "max      NaN\n",
       "Name: Precio Hidrogeno, dtype: float64"
      ]
     },
     "execution_count": 103,
     "metadata": {},
     "output_type": "execute_result"
    }
   ],
   "source": [
    "df_n['Precio Hidrogeno'].describe()"
   ]
  },
  {
   "cell_type": "code",
   "execution_count": 104,
   "id": "c6802106",
   "metadata": {},
   "outputs": [
    {
     "name": "stdout",
     "output_type": "stream",
     "text": [
      "<class 'pandas.core.frame.DataFrame'>\n",
      "RangeIndex: 11842 entries, 0 to 11841\n",
      "Data columns (total 33 columns):\n",
      " #   Column                              Non-Null Count  Dtype  \n",
      "---  ------                              --------------  -----  \n",
      " 0   Fecha                               11842 non-null  object \n",
      " 1   C.P.                                11842 non-null  object \n",
      " 2   Dirección                           11842 non-null  object \n",
      " 3   Horario                             11842 non-null  object \n",
      " 4   Latitud                             11842 non-null  object \n",
      " 5   Localidad                           11842 non-null  object \n",
      " 6   Longitud (WGS84)                    11842 non-null  object \n",
      " 7   Margen                              11842 non-null  object \n",
      " 8   Municipio                           11842 non-null  object \n",
      " 9   Precio Biodiesel                    37 non-null     float64\n",
      " 10  Precio Bioetanol                    5 non-null      float64\n",
      " 11  Precio Gas Natural Comprimido       126 non-null    float64\n",
      " 12  Precio Gas Natural Licuado          84 non-null     float64\n",
      " 13  Precio Gases licuados del petróleo  853 non-null    float64\n",
      " 14  Precio Gasoleo A                    11497 non-null  float64\n",
      " 15  Precio Gasoleo B                    3014 non-null   float64\n",
      " 16  Precio Gasoleo Premium              7529 non-null   float64\n",
      " 17  Precio Gasolina 95 E10              22 non-null     float64\n",
      " 18  Precio Gasolina 95 E5               10697 non-null  float64\n",
      " 19  Precio Gasolina 95 E5 Premium       812 non-null    float64\n",
      " 20  Precio Gasolina 98 E10              9 non-null      float64\n",
      " 21  Precio Gasolina 98 E5               5946 non-null   float64\n",
      " 22  Precio Hidrogeno                    0 non-null      float64\n",
      " 23  Provincia                           11842 non-null  object \n",
      " 24  Remisión                            11842 non-null  object \n",
      " 25  Rótulo                              11842 non-null  object \n",
      " 26  Tipo Venta                          11842 non-null  object \n",
      " 27  % BioEtanol                         11842 non-null  object \n",
      " 28  % Éster metílico                    11842 non-null  object \n",
      " 29  IDEESS                              11842 non-null  object \n",
      " 30  IDMunicipio                         11842 non-null  object \n",
      " 31  IDProvincia                         11842 non-null  object \n",
      " 32  IDCCAA                              11842 non-null  object \n",
      "dtypes: float64(14), object(19)\n",
      "memory usage: 3.0+ MB\n"
     ]
    }
   ],
   "source": [
    "df_n.info()"
   ]
  },
  {
   "cell_type": "markdown",
   "id": "0b486d1c",
   "metadata": {},
   "source": [
    "---\n",
    "Setp 3\n",
    "\n",
    "# Limpieza de Columnas"
   ]
  },
  {
   "cell_type": "code",
   "execution_count": 105,
   "id": "58959813",
   "metadata": {},
   "outputs": [],
   "source": [
    "# Eliminiación de columnas que no interesan a nivel usuario o que no aportan datos significativos al modelo\n",
    "df_n.drop(['Margen', 'Remisión', 'Tipo Venta', '% BioEtanol', '% Éster metílico', 'Precio Biodiesel',\n",
    "          'Precio Bioetanol', 'Precio Gas Natural Comprimido', 'Precio Gas Natural Licuado', \n",
    "          'Precio Gas Natural Licuado', 'Precio Gases licuados del petróleo', 'Precio Gasolina 95 E10',\n",
    "          'Precio Gasolina 95 E5 Premium', 'Precio Gasolina 98 E10', 'Precio Hidrogeno'], axis=1, inplace=True)\n"
   ]
  },
  {
   "cell_type": "code",
   "execution_count": 106,
   "id": "1f4e6f15",
   "metadata": {},
   "outputs": [
    {
     "data": {
      "text/plain": [
       "Precio Gasoleo B    NaN\n",
       "Name: 15, dtype: object"
      ]
     },
     "execution_count": 106,
     "metadata": {},
     "output_type": "execute_result"
    }
   ],
   "source": [
    "# Comprobación\n",
    "df_n.iloc[15][['Precio Gasoleo B']]"
   ]
  },
  {
   "cell_type": "code",
   "execution_count": 107,
   "id": "a9fe557e",
   "metadata": {},
   "outputs": [
    {
     "data": {
      "text/html": [
       "<div>\n",
       "<style scoped>\n",
       "    .dataframe tbody tr th:only-of-type {\n",
       "        vertical-align: middle;\n",
       "    }\n",
       "\n",
       "    .dataframe tbody tr th {\n",
       "        vertical-align: top;\n",
       "    }\n",
       "\n",
       "    .dataframe thead th {\n",
       "        text-align: right;\n",
       "    }\n",
       "</style>\n",
       "<table border=\"1\" class=\"dataframe\">\n",
       "  <thead>\n",
       "    <tr style=\"text-align: right;\">\n",
       "      <th></th>\n",
       "      <th>Fecha</th>\n",
       "      <th>C.P.</th>\n",
       "      <th>Dirección</th>\n",
       "      <th>Horario</th>\n",
       "      <th>Latitud</th>\n",
       "      <th>Localidad</th>\n",
       "      <th>Longitud (WGS84)</th>\n",
       "      <th>Municipio</th>\n",
       "      <th>Precio Gasoleo A</th>\n",
       "      <th>Precio Gasoleo B</th>\n",
       "      <th>Precio Gasoleo Premium</th>\n",
       "      <th>Precio Gasolina 95 E5</th>\n",
       "      <th>Precio Gasolina 98 E5</th>\n",
       "      <th>Provincia</th>\n",
       "      <th>Rótulo</th>\n",
       "      <th>IDEESS</th>\n",
       "      <th>IDMunicipio</th>\n",
       "      <th>IDProvincia</th>\n",
       "      <th>IDCCAA</th>\n",
       "    </tr>\n",
       "  </thead>\n",
       "  <tbody>\n",
       "    <tr>\n",
       "      <th>0</th>\n",
       "      <td>17/12/2022 19:38:53</td>\n",
       "      <td>02250</td>\n",
       "      <td>AVENIDA CASTILLA LA MANCHA, 26</td>\n",
       "      <td>L-D: 07:00-22:00</td>\n",
       "      <td>39,211417</td>\n",
       "      <td>ABENGIBRE</td>\n",
       "      <td>-1,539167</td>\n",
       "      <td>Abengibre</td>\n",
       "      <td>1.669</td>\n",
       "      <td>1.19</td>\n",
       "      <td>NaN</td>\n",
       "      <td>1.589</td>\n",
       "      <td>NaN</td>\n",
       "      <td>ALBACETE</td>\n",
       "      <td>Nº 10.935</td>\n",
       "      <td>4375</td>\n",
       "      <td>52</td>\n",
       "      <td>02</td>\n",
       "      <td>07</td>\n",
       "    </tr>\n",
       "    <tr>\n",
       "      <th>1</th>\n",
       "      <td>17/12/2022 19:38:53</td>\n",
       "      <td>02001</td>\n",
       "      <td>CALLE FEDERICO GARCIA LORCA, 5</td>\n",
       "      <td>L-S: 05:00-23:00</td>\n",
       "      <td>38,997722</td>\n",
       "      <td>ALBACETE</td>\n",
       "      <td>-1,846361</td>\n",
       "      <td>Albacete</td>\n",
       "      <td>1.730</td>\n",
       "      <td>NaN</td>\n",
       "      <td>NaN</td>\n",
       "      <td>NaN</td>\n",
       "      <td>NaN</td>\n",
       "      <td>ALBACETE</td>\n",
       "      <td>CEPSA</td>\n",
       "      <td>4438</td>\n",
       "      <td>54</td>\n",
       "      <td>02</td>\n",
       "      <td>07</td>\n",
       "    </tr>\n",
       "    <tr>\n",
       "      <th>2</th>\n",
       "      <td>17/12/2022 19:38:53</td>\n",
       "      <td>02001</td>\n",
       "      <td>CALLE FEDERICO GARCIA LORCA, 1</td>\n",
       "      <td>L-D: 24H</td>\n",
       "      <td>39,000861</td>\n",
       "      <td>ALBACETE</td>\n",
       "      <td>-1,849833</td>\n",
       "      <td>Albacete</td>\n",
       "      <td>1.597</td>\n",
       "      <td>NaN</td>\n",
       "      <td>NaN</td>\n",
       "      <td>1.487</td>\n",
       "      <td>NaN</td>\n",
       "      <td>ALBACETE</td>\n",
       "      <td>PLENOIL</td>\n",
       "      <td>13933</td>\n",
       "      <td>54</td>\n",
       "      <td>02</td>\n",
       "      <td>07</td>\n",
       "    </tr>\n",
       "    <tr>\n",
       "      <th>3</th>\n",
       "      <td>17/12/2022 19:38:53</td>\n",
       "      <td>02001</td>\n",
       "      <td>CALLE PRINCIPE DE ASTURIAS (POLÍGONO DE ROMICA...</td>\n",
       "      <td>L-D: 06:00-21:30</td>\n",
       "      <td>39,054694</td>\n",
       "      <td>ALBACETE</td>\n",
       "      <td>-1,832000</td>\n",
       "      <td>Albacete</td>\n",
       "      <td>1.709</td>\n",
       "      <td>NaN</td>\n",
       "      <td>1.799</td>\n",
       "      <td>1.599</td>\n",
       "      <td>1.741</td>\n",
       "      <td>ALBACETE</td>\n",
       "      <td>BP ROMICA</td>\n",
       "      <td>12054</td>\n",
       "      <td>54</td>\n",
       "      <td>02</td>\n",
       "      <td>07</td>\n",
       "    </tr>\n",
       "    <tr>\n",
       "      <th>4</th>\n",
       "      <td>17/12/2022 19:38:53</td>\n",
       "      <td>02001</td>\n",
       "      <td>AVENIDA 1º DE MAYO, S/N</td>\n",
       "      <td>L-S: 08:00-22:00; D: 09:00-21:00</td>\n",
       "      <td>38,985667</td>\n",
       "      <td>ALBACETE</td>\n",
       "      <td>-1,868500</td>\n",
       "      <td>Albacete</td>\n",
       "      <td>1.699</td>\n",
       "      <td>NaN</td>\n",
       "      <td>1.739</td>\n",
       "      <td>1.599</td>\n",
       "      <td>1.799</td>\n",
       "      <td>ALBACETE</td>\n",
       "      <td>CARREFOUR</td>\n",
       "      <td>10765</td>\n",
       "      <td>54</td>\n",
       "      <td>02</td>\n",
       "      <td>07</td>\n",
       "    </tr>\n",
       "  </tbody>\n",
       "</table>\n",
       "</div>"
      ],
      "text/plain": [
       "                 Fecha   C.P.  \\\n",
       "0  17/12/2022 19:38:53  02250   \n",
       "1  17/12/2022 19:38:53  02001   \n",
       "2  17/12/2022 19:38:53  02001   \n",
       "3  17/12/2022 19:38:53  02001   \n",
       "4  17/12/2022 19:38:53  02001   \n",
       "\n",
       "                                           Dirección  \\\n",
       "0                     AVENIDA CASTILLA LA MANCHA, 26   \n",
       "1                     CALLE FEDERICO GARCIA LORCA, 5   \n",
       "2                     CALLE FEDERICO GARCIA LORCA, 1   \n",
       "3  CALLE PRINCIPE DE ASTURIAS (POLÍGONO DE ROMICA...   \n",
       "4                            AVENIDA 1º DE MAYO, S/N   \n",
       "\n",
       "                            Horario    Latitud  Localidad Longitud (WGS84)  \\\n",
       "0                  L-D: 07:00-22:00  39,211417  ABENGIBRE        -1,539167   \n",
       "1                  L-S: 05:00-23:00  38,997722   ALBACETE        -1,846361   \n",
       "2                          L-D: 24H  39,000861   ALBACETE        -1,849833   \n",
       "3                  L-D: 06:00-21:30  39,054694   ALBACETE        -1,832000   \n",
       "4  L-S: 08:00-22:00; D: 09:00-21:00  38,985667   ALBACETE        -1,868500   \n",
       "\n",
       "   Municipio  Precio Gasoleo A  Precio Gasoleo B  Precio Gasoleo Premium  \\\n",
       "0  Abengibre             1.669              1.19                     NaN   \n",
       "1   Albacete             1.730               NaN                     NaN   \n",
       "2   Albacete             1.597               NaN                     NaN   \n",
       "3   Albacete             1.709               NaN                   1.799   \n",
       "4   Albacete             1.699               NaN                   1.739   \n",
       "\n",
       "   Precio Gasolina 95 E5  Precio Gasolina 98 E5 Provincia     Rótulo IDEESS  \\\n",
       "0                  1.589                    NaN  ALBACETE  Nº 10.935   4375   \n",
       "1                    NaN                    NaN  ALBACETE      CEPSA   4438   \n",
       "2                  1.487                    NaN  ALBACETE    PLENOIL  13933   \n",
       "3                  1.599                  1.741  ALBACETE  BP ROMICA  12054   \n",
       "4                  1.599                  1.799  ALBACETE  CARREFOUR  10765   \n",
       "\n",
       "  IDMunicipio IDProvincia IDCCAA  \n",
       "0          52          02     07  \n",
       "1          54          02     07  \n",
       "2          54          02     07  \n",
       "3          54          02     07  \n",
       "4          54          02     07  "
      ]
     },
     "execution_count": 107,
     "metadata": {},
     "output_type": "execute_result"
    }
   ],
   "source": [
    "df_n.head()"
   ]
  },
  {
   "cell_type": "code",
   "execution_count": 108,
   "id": "d7336670",
   "metadata": {},
   "outputs": [
    {
     "data": {
      "text/html": [
       "<div>\n",
       "<style scoped>\n",
       "    .dataframe tbody tr th:only-of-type {\n",
       "        vertical-align: middle;\n",
       "    }\n",
       "\n",
       "    .dataframe tbody tr th {\n",
       "        vertical-align: top;\n",
       "    }\n",
       "\n",
       "    .dataframe thead th {\n",
       "        text-align: right;\n",
       "    }\n",
       "</style>\n",
       "<table border=\"1\" class=\"dataframe\">\n",
       "  <thead>\n",
       "    <tr style=\"text-align: right;\">\n",
       "      <th></th>\n",
       "      <th>Fecha</th>\n",
       "      <th>C.P.</th>\n",
       "      <th>Dirección</th>\n",
       "      <th>Horario</th>\n",
       "      <th>Latitud</th>\n",
       "      <th>Localidad</th>\n",
       "      <th>Longitud (WGS84)</th>\n",
       "      <th>Municipio</th>\n",
       "      <th>Gasoleo A</th>\n",
       "      <th>Gasoleo B</th>\n",
       "      <th>Gasoleo Premium</th>\n",
       "      <th>Gasolina 95 E5</th>\n",
       "      <th>Gasolina 98 E5</th>\n",
       "      <th>Provincia</th>\n",
       "      <th>Proveedor de Servicio</th>\n",
       "      <th>IDEESS</th>\n",
       "      <th>IDMunicipio</th>\n",
       "      <th>IDProvincia</th>\n",
       "      <th>IDCCAA</th>\n",
       "    </tr>\n",
       "  </thead>\n",
       "  <tbody>\n",
       "    <tr>\n",
       "      <th>0</th>\n",
       "      <td>17/12/2022 19:38:53</td>\n",
       "      <td>02250</td>\n",
       "      <td>AVENIDA CASTILLA LA MANCHA, 26</td>\n",
       "      <td>L-D: 07:00-22:00</td>\n",
       "      <td>39,211417</td>\n",
       "      <td>ABENGIBRE</td>\n",
       "      <td>-1,539167</td>\n",
       "      <td>Abengibre</td>\n",
       "      <td>1.669</td>\n",
       "      <td>1.19</td>\n",
       "      <td>NaN</td>\n",
       "      <td>1.589</td>\n",
       "      <td>NaN</td>\n",
       "      <td>ALBACETE</td>\n",
       "      <td>Nº 10.935</td>\n",
       "      <td>4375</td>\n",
       "      <td>52</td>\n",
       "      <td>02</td>\n",
       "      <td>07</td>\n",
       "    </tr>\n",
       "  </tbody>\n",
       "</table>\n",
       "</div>"
      ],
      "text/plain": [
       "                 Fecha   C.P.                       Dirección  \\\n",
       "0  17/12/2022 19:38:53  02250  AVENIDA CASTILLA LA MANCHA, 26   \n",
       "\n",
       "            Horario    Latitud  Localidad Longitud (WGS84)  Municipio  \\\n",
       "0  L-D: 07:00-22:00  39,211417  ABENGIBRE        -1,539167  Abengibre   \n",
       "\n",
       "   Gasoleo A  Gasoleo B  Gasoleo Premium  Gasolina 95 E5  Gasolina 98 E5  \\\n",
       "0      1.669       1.19              NaN           1.589             NaN   \n",
       "\n",
       "  Provincia Proveedor de Servicio IDEESS IDMunicipio IDProvincia IDCCAA  \n",
       "0  ALBACETE             Nº 10.935   4375          52          02     07  "
      ]
     },
     "execution_count": 108,
     "metadata": {},
     "output_type": "execute_result"
    }
   ],
   "source": [
    "# Renombramos las columnas\n",
    "df_n.rename(columns={\"Precio Gasoleo A\": \"Gasoleo A\", \"Precio Gasoleo B\": \"Gasoleo B\" ,\"Precio Gasoleo Premium\": \"Gasoleo Premium\", \n",
    "                     \"Precio Gasolina 95 E5\": \"Gasolina 95 E5\", \"Precio Gasolina 98 E5\": \"Gasolina 98 E5\",\n",
    "                     \"Rótulo\":\"Proveedor de Servicio\"}, inplace=True)\n",
    "df_n.head(1)"
   ]
  },
  {
   "cell_type": "code",
   "execution_count": 109,
   "id": "365e7b0f",
   "metadata": {},
   "outputs": [],
   "source": [
    "# Media Nacional\n",
    "df_n['Media Nacional Gasoleo A']=df_n['Gasoleo A'].mean()\n",
    "df_n['Media Nacional Gasoleo B']=df_n['Gasoleo B'].mean()\n",
    "df_n['Media Nacional Gasoleo P'] = df_n['Gasoleo Premium'].mean()\n",
    "df_n['Media Nacional Gasolina 95']=df_n['Gasolina 95 E5'].mean()\n",
    "df_n['Media Nacional Gasolina 98']=df_n['Gasolina 98 E5'].mean()\n"
   ]
  },
  {
   "cell_type": "code",
   "execution_count": 110,
   "id": "92b44a14",
   "metadata": {},
   "outputs": [],
   "source": [
    "# Desviación (eliminanos porque no aporta información va)\n",
    "#df_n['dev_Gasoleo A']= df_n['Gasoleo A'] - df_n['Media_Gasoleo A']\n",
    "#df_n['dev_Gasoleo B'] =df_n['Gasoleo B'] - df_n['Media_Gasoleo B']\n",
    "#df_n['dev_Gasoleo Prem'] =df_n['Gasoleo Premium'] - df_n['Media_Gasoleo Prem']\n",
    "#df_n['dev_Gasolina 95']=df_n['Gasolina 95 E5'] - df_n['Media_Gasolina 95']\n",
    "#df_n['dev_Gasolina 98']=df_n['Gasolina 98 E5']- df_n['Media_Gasolina 98']\n"
   ]
  },
  {
   "cell_type": "markdown",
   "id": "d3a6aefe",
   "metadata": {},
   "source": [
    "# Media de precios respecto al código postal"
   ]
  },
  {
   "cell_type": "code",
   "execution_count": 111,
   "id": "2209ce36",
   "metadata": {},
   "outputs": [],
   "source": [
    "# Media Código Postal de Gasoleo A\n",
    "def cp_media_A(x):\n",
    "# x = Código Postal\n",
    "    cod_postal = df_n[df_n['C.P.'] == x]\n",
    "    media_cp_GA = cod_postal[['Gasoleo A']].mean()\n",
    "    return media_cp_GA"
   ]
  },
  {
   "cell_type": "code",
   "execution_count": 112,
   "id": "5875ac4a",
   "metadata": {},
   "outputs": [],
   "source": [
    "# Media Código Postal de Gasoleo B\n",
    "def cp_media_B(x):\n",
    "# x = Código Postal\n",
    "    cod_postal = df_n[df_n['C.P.'] == x]\n",
    "    media_cp_GB = cod_postal[['Gasoleo B']].mean()\n",
    "    return media_cp_GB"
   ]
  },
  {
   "cell_type": "code",
   "execution_count": 113,
   "id": "64d8473f",
   "metadata": {},
   "outputs": [],
   "source": [
    "# Media Código Postal de Gasoleo Premium\n",
    "def cp_media_P(x):\n",
    "# x = Código Postal\n",
    "    cod_postal = df_n[df_n['C.P.'] == x]\n",
    "    media_cp_GP = cod_postal[['Gasoleo B']].mean()\n",
    "    return media_cp_GP"
   ]
  },
  {
   "cell_type": "code",
   "execution_count": 114,
   "id": "bc519ea4",
   "metadata": {},
   "outputs": [],
   "source": [
    "# Media Código Postal de Gasolina 95 E5\n",
    "def cp_media_95(x):\n",
    "# x = Código Postal\n",
    "    cod_postal = df_n[df_n['C.P.'] == x]\n",
    "    media_cp_G95 = cod_postal[['Gasolina 95 E5']].mean()\n",
    "    return media_cp_G95"
   ]
  },
  {
   "cell_type": "code",
   "execution_count": 115,
   "id": "f61528f9",
   "metadata": {},
   "outputs": [],
   "source": [
    "# Media Código Postal de Gasolina 98 E5\n",
    "def cp_media_98(x):\n",
    "# x = Código Postal\n",
    "    cod_postal = df_n[df_n['C.P.'] == x]\n",
    "    media_cp_G98 = cod_postal[['Gasolina 98 E5']].mean()\n",
    "    return media_cp_G98"
   ]
  },
  {
   "cell_type": "code",
   "execution_count": 116,
   "id": "14655438",
   "metadata": {
    "scrolled": true
   },
   "outputs": [
    {
     "data": {
      "text/plain": [
       "Gasolina 95 E5    1.519429\n",
       "dtype: float64"
      ]
     },
     "execution_count": 116,
     "metadata": {},
     "output_type": "execute_result"
    }
   ],
   "source": [
    "# Comprobación\n",
    "cp_media_95('28760')"
   ]
  },
  {
   "cell_type": "code",
   "execution_count": 117,
   "id": "2c36f287",
   "metadata": {},
   "outputs": [],
   "source": [
    "# Aplicamos la función a la columna\n",
    "#df_n[['Media C.P. Gasoleo A']]= df_n['C.P.'].apply(cp_media_A)\n",
    "#df_n[['Media C.P. Gasoleo B']]= df_n['C.P.'].apply(cp_media_B)\n",
    "#df_n[['Media C.P. Gasoleo P']]= df_n['C.P.'].apply(cp_media_P)\n",
    "#df_n[['Media C.P. Gasolina 95']]= df_n['C.P.'].apply(cp_media_95)\n",
    "#df_n[['Media C.P. Gasolina 98']]= df_n['C.P.'].apply(cp_media_98)"
   ]
  },
  {
   "cell_type": "code",
   "execution_count": 118,
   "id": "52c69724",
   "metadata": {
    "scrolled": true
   },
   "outputs": [
    {
     "data": {
      "text/html": [
       "<div>\n",
       "<style scoped>\n",
       "    .dataframe tbody tr th:only-of-type {\n",
       "        vertical-align: middle;\n",
       "    }\n",
       "\n",
       "    .dataframe tbody tr th {\n",
       "        vertical-align: top;\n",
       "    }\n",
       "\n",
       "    .dataframe thead th {\n",
       "        text-align: right;\n",
       "    }\n",
       "</style>\n",
       "<table border=\"1\" class=\"dataframe\">\n",
       "  <thead>\n",
       "    <tr style=\"text-align: right;\">\n",
       "      <th></th>\n",
       "      <th>Fecha</th>\n",
       "      <th>C.P.</th>\n",
       "      <th>Dirección</th>\n",
       "      <th>Horario</th>\n",
       "      <th>Latitud</th>\n",
       "      <th>Localidad</th>\n",
       "      <th>Longitud (WGS84)</th>\n",
       "      <th>Municipio</th>\n",
       "      <th>Gasoleo A</th>\n",
       "      <th>Gasoleo B</th>\n",
       "      <th>...</th>\n",
       "      <th>Proveedor de Servicio</th>\n",
       "      <th>IDEESS</th>\n",
       "      <th>IDMunicipio</th>\n",
       "      <th>IDProvincia</th>\n",
       "      <th>IDCCAA</th>\n",
       "      <th>Media Nacional Gasoleo A</th>\n",
       "      <th>Media Nacional Gasoleo B</th>\n",
       "      <th>Media Nacional Gasoleo P</th>\n",
       "      <th>Media Nacional Gasolina 95</th>\n",
       "      <th>Media Nacional Gasolina 98</th>\n",
       "    </tr>\n",
       "  </thead>\n",
       "  <tbody>\n",
       "    <tr>\n",
       "      <th>0</th>\n",
       "      <td>17/12/2022 19:38:53</td>\n",
       "      <td>02250</td>\n",
       "      <td>AVENIDA CASTILLA LA MANCHA, 26</td>\n",
       "      <td>L-D: 07:00-22:00</td>\n",
       "      <td>39,211417</td>\n",
       "      <td>ABENGIBRE</td>\n",
       "      <td>-1,539167</td>\n",
       "      <td>Abengibre</td>\n",
       "      <td>1.669</td>\n",
       "      <td>1.19</td>\n",
       "      <td>...</td>\n",
       "      <td>Nº 10.935</td>\n",
       "      <td>4375</td>\n",
       "      <td>52</td>\n",
       "      <td>02</td>\n",
       "      <td>07</td>\n",
       "      <td>1.656732</td>\n",
       "      <td>1.342649</td>\n",
       "      <td>1.751081</td>\n",
       "      <td>1.584291</td>\n",
       "      <td>1.74339</td>\n",
       "    </tr>\n",
       "    <tr>\n",
       "      <th>1</th>\n",
       "      <td>17/12/2022 19:38:53</td>\n",
       "      <td>02001</td>\n",
       "      <td>CALLE FEDERICO GARCIA LORCA, 5</td>\n",
       "      <td>L-S: 05:00-23:00</td>\n",
       "      <td>38,997722</td>\n",
       "      <td>ALBACETE</td>\n",
       "      <td>-1,846361</td>\n",
       "      <td>Albacete</td>\n",
       "      <td>1.730</td>\n",
       "      <td>NaN</td>\n",
       "      <td>...</td>\n",
       "      <td>CEPSA</td>\n",
       "      <td>4438</td>\n",
       "      <td>54</td>\n",
       "      <td>02</td>\n",
       "      <td>07</td>\n",
       "      <td>1.656732</td>\n",
       "      <td>1.342649</td>\n",
       "      <td>1.751081</td>\n",
       "      <td>1.584291</td>\n",
       "      <td>1.74339</td>\n",
       "    </tr>\n",
       "    <tr>\n",
       "      <th>2</th>\n",
       "      <td>17/12/2022 19:38:53</td>\n",
       "      <td>02001</td>\n",
       "      <td>CALLE FEDERICO GARCIA LORCA, 1</td>\n",
       "      <td>L-D: 24H</td>\n",
       "      <td>39,000861</td>\n",
       "      <td>ALBACETE</td>\n",
       "      <td>-1,849833</td>\n",
       "      <td>Albacete</td>\n",
       "      <td>1.597</td>\n",
       "      <td>NaN</td>\n",
       "      <td>...</td>\n",
       "      <td>PLENOIL</td>\n",
       "      <td>13933</td>\n",
       "      <td>54</td>\n",
       "      <td>02</td>\n",
       "      <td>07</td>\n",
       "      <td>1.656732</td>\n",
       "      <td>1.342649</td>\n",
       "      <td>1.751081</td>\n",
       "      <td>1.584291</td>\n",
       "      <td>1.74339</td>\n",
       "    </tr>\n",
       "    <tr>\n",
       "      <th>3</th>\n",
       "      <td>17/12/2022 19:38:53</td>\n",
       "      <td>02001</td>\n",
       "      <td>CALLE PRINCIPE DE ASTURIAS (POLÍGONO DE ROMICA...</td>\n",
       "      <td>L-D: 06:00-21:30</td>\n",
       "      <td>39,054694</td>\n",
       "      <td>ALBACETE</td>\n",
       "      <td>-1,832000</td>\n",
       "      <td>Albacete</td>\n",
       "      <td>1.709</td>\n",
       "      <td>NaN</td>\n",
       "      <td>...</td>\n",
       "      <td>BP ROMICA</td>\n",
       "      <td>12054</td>\n",
       "      <td>54</td>\n",
       "      <td>02</td>\n",
       "      <td>07</td>\n",
       "      <td>1.656732</td>\n",
       "      <td>1.342649</td>\n",
       "      <td>1.751081</td>\n",
       "      <td>1.584291</td>\n",
       "      <td>1.74339</td>\n",
       "    </tr>\n",
       "    <tr>\n",
       "      <th>4</th>\n",
       "      <td>17/12/2022 19:38:53</td>\n",
       "      <td>02001</td>\n",
       "      <td>AVENIDA 1º DE MAYO, S/N</td>\n",
       "      <td>L-S: 08:00-22:00; D: 09:00-21:00</td>\n",
       "      <td>38,985667</td>\n",
       "      <td>ALBACETE</td>\n",
       "      <td>-1,868500</td>\n",
       "      <td>Albacete</td>\n",
       "      <td>1.699</td>\n",
       "      <td>NaN</td>\n",
       "      <td>...</td>\n",
       "      <td>CARREFOUR</td>\n",
       "      <td>10765</td>\n",
       "      <td>54</td>\n",
       "      <td>02</td>\n",
       "      <td>07</td>\n",
       "      <td>1.656732</td>\n",
       "      <td>1.342649</td>\n",
       "      <td>1.751081</td>\n",
       "      <td>1.584291</td>\n",
       "      <td>1.74339</td>\n",
       "    </tr>\n",
       "  </tbody>\n",
       "</table>\n",
       "<p>5 rows × 24 columns</p>\n",
       "</div>"
      ],
      "text/plain": [
       "                 Fecha   C.P.  \\\n",
       "0  17/12/2022 19:38:53  02250   \n",
       "1  17/12/2022 19:38:53  02001   \n",
       "2  17/12/2022 19:38:53  02001   \n",
       "3  17/12/2022 19:38:53  02001   \n",
       "4  17/12/2022 19:38:53  02001   \n",
       "\n",
       "                                           Dirección  \\\n",
       "0                     AVENIDA CASTILLA LA MANCHA, 26   \n",
       "1                     CALLE FEDERICO GARCIA LORCA, 5   \n",
       "2                     CALLE FEDERICO GARCIA LORCA, 1   \n",
       "3  CALLE PRINCIPE DE ASTURIAS (POLÍGONO DE ROMICA...   \n",
       "4                            AVENIDA 1º DE MAYO, S/N   \n",
       "\n",
       "                            Horario    Latitud  Localidad Longitud (WGS84)  \\\n",
       "0                  L-D: 07:00-22:00  39,211417  ABENGIBRE        -1,539167   \n",
       "1                  L-S: 05:00-23:00  38,997722   ALBACETE        -1,846361   \n",
       "2                          L-D: 24H  39,000861   ALBACETE        -1,849833   \n",
       "3                  L-D: 06:00-21:30  39,054694   ALBACETE        -1,832000   \n",
       "4  L-S: 08:00-22:00; D: 09:00-21:00  38,985667   ALBACETE        -1,868500   \n",
       "\n",
       "   Municipio  Gasoleo A  Gasoleo B  ...  Proveedor de Servicio  IDEESS  \\\n",
       "0  Abengibre      1.669       1.19  ...              Nº 10.935    4375   \n",
       "1   Albacete      1.730        NaN  ...                  CEPSA    4438   \n",
       "2   Albacete      1.597        NaN  ...                PLENOIL   13933   \n",
       "3   Albacete      1.709        NaN  ...              BP ROMICA   12054   \n",
       "4   Albacete      1.699        NaN  ...              CARREFOUR   10765   \n",
       "\n",
       "   IDMunicipio IDProvincia IDCCAA Media Nacional Gasoleo A  \\\n",
       "0           52          02     07                 1.656732   \n",
       "1           54          02     07                 1.656732   \n",
       "2           54          02     07                 1.656732   \n",
       "3           54          02     07                 1.656732   \n",
       "4           54          02     07                 1.656732   \n",
       "\n",
       "  Media Nacional Gasoleo B Media Nacional Gasoleo P  \\\n",
       "0                 1.342649                 1.751081   \n",
       "1                 1.342649                 1.751081   \n",
       "2                 1.342649                 1.751081   \n",
       "3                 1.342649                 1.751081   \n",
       "4                 1.342649                 1.751081   \n",
       "\n",
       "  Media Nacional Gasolina 95  Media Nacional Gasolina 98  \n",
       "0                   1.584291                     1.74339  \n",
       "1                   1.584291                     1.74339  \n",
       "2                   1.584291                     1.74339  \n",
       "3                   1.584291                     1.74339  \n",
       "4                   1.584291                     1.74339  \n",
       "\n",
       "[5 rows x 24 columns]"
      ]
     },
     "execution_count": 118,
     "metadata": {},
     "output_type": "execute_result"
    }
   ],
   "source": [
    "df_n.head()"
   ]
  },
  {
   "cell_type": "code",
   "execution_count": 119,
   "id": "fbc17dd0",
   "metadata": {},
   "outputs": [
    {
     "name": "stdout",
     "output_type": "stream",
     "text": [
      "<class 'pandas.core.frame.DataFrame'>\n",
      "RangeIndex: 11842 entries, 0 to 11841\n",
      "Data columns (total 24 columns):\n",
      " #   Column                      Non-Null Count  Dtype  \n",
      "---  ------                      --------------  -----  \n",
      " 0   Fecha                       11842 non-null  object \n",
      " 1   C.P.                        11842 non-null  object \n",
      " 2   Dirección                   11842 non-null  object \n",
      " 3   Horario                     11842 non-null  object \n",
      " 4   Latitud                     11842 non-null  object \n",
      " 5   Localidad                   11842 non-null  object \n",
      " 6   Longitud (WGS84)            11842 non-null  object \n",
      " 7   Municipio                   11842 non-null  object \n",
      " 8   Gasoleo A                   11497 non-null  float64\n",
      " 9   Gasoleo B                   3014 non-null   float64\n",
      " 10  Gasoleo Premium             7529 non-null   float64\n",
      " 11  Gasolina 95 E5              10697 non-null  float64\n",
      " 12  Gasolina 98 E5              5946 non-null   float64\n",
      " 13  Provincia                   11842 non-null  object \n",
      " 14  Proveedor de Servicio       11842 non-null  object \n",
      " 15  IDEESS                      11842 non-null  object \n",
      " 16  IDMunicipio                 11842 non-null  object \n",
      " 17  IDProvincia                 11842 non-null  object \n",
      " 18  IDCCAA                      11842 non-null  object \n",
      " 19  Media Nacional Gasoleo A    11842 non-null  float64\n",
      " 20  Media Nacional Gasoleo B    11842 non-null  float64\n",
      " 21  Media Nacional Gasoleo P    11842 non-null  float64\n",
      " 22  Media Nacional Gasolina 95  11842 non-null  float64\n",
      " 23  Media Nacional Gasolina 98  11842 non-null  float64\n",
      "dtypes: float64(10), object(14)\n",
      "memory usage: 2.2+ MB\n"
     ]
    }
   ],
   "source": [
    "df_n.info()"
   ]
  },
  {
   "cell_type": "code",
   "execution_count": 121,
   "id": "ea5c62a5",
   "metadata": {},
   "outputs": [
    {
     "ename": "KeyError",
     "evalue": "\"['Media C.P. Gasoleo A', 'Media C.P. Gasoleo B', 'Media C.P. Gasoleo P', 'Media C.P. Gasolina 95', 'Media C.P. Gasolina 98'] not in index\"",
     "output_type": "error",
     "traceback": [
      "\u001b[1;31m---------------------------------------------------------------------------\u001b[0m",
      "\u001b[1;31mKeyError\u001b[0m                                  Traceback (most recent call last)",
      "Input \u001b[1;32mIn [121]\u001b[0m, in \u001b[0;36m<cell line: 2>\u001b[1;34m()\u001b[0m\n\u001b[0;32m      1\u001b[0m \u001b[38;5;66;03m#Ordenamos columnas\u001b[39;00m\n\u001b[1;32m----> 2\u001b[0m df_n \u001b[38;5;241m=\u001b[39m \u001b[43mdf_n\u001b[49m\u001b[43m[\u001b[49m\u001b[43m[\u001b[49m\u001b[38;5;124;43m'\u001b[39;49m\u001b[38;5;124;43mFecha\u001b[39;49m\u001b[38;5;124;43m'\u001b[39;49m\u001b[43m,\u001b[49m\u001b[43m \u001b[49m\u001b[38;5;124;43m'\u001b[39;49m\u001b[38;5;124;43mHorario\u001b[39;49m\u001b[38;5;124;43m'\u001b[39;49m\u001b[43m,\u001b[49m\u001b[43m \u001b[49m\u001b[38;5;124;43m'\u001b[39;49m\u001b[38;5;124;43mC.P.\u001b[39;49m\u001b[38;5;124;43m'\u001b[39;49m\u001b[43m,\u001b[49m\u001b[38;5;124;43m'\u001b[39;49m\u001b[38;5;124;43mProvincia\u001b[39;49m\u001b[38;5;124;43m'\u001b[39;49m\u001b[43m,\u001b[49m\u001b[38;5;124;43m'\u001b[39;49m\u001b[38;5;124;43mMunicipio\u001b[39;49m\u001b[38;5;124;43m'\u001b[39;49m\u001b[43m,\u001b[49m\u001b[38;5;124;43m'\u001b[39;49m\u001b[38;5;124;43mLocalidad\u001b[39;49m\u001b[38;5;124;43m'\u001b[39;49m\u001b[43m,\u001b[49m\u001b[43m \u001b[49m\u001b[38;5;124;43m'\u001b[39;49m\u001b[38;5;124;43mDirección\u001b[39;49m\u001b[38;5;124;43m'\u001b[39;49m\u001b[43m,\u001b[49m\u001b[43m \u001b[49m\u001b[38;5;124;43m'\u001b[39;49m\u001b[38;5;124;43mProveedor de Servicio\u001b[39;49m\u001b[38;5;124;43m'\u001b[39;49m\u001b[43m,\u001b[49m\u001b[43m \u001b[49m\n\u001b[0;32m      3\u001b[0m \u001b[43m             \u001b[49m\u001b[38;5;124;43m'\u001b[39;49m\u001b[38;5;124;43mGasoleo A\u001b[39;49m\u001b[38;5;124;43m'\u001b[39;49m\u001b[43m,\u001b[49m\u001b[43m \u001b[49m\u001b[38;5;124;43m'\u001b[39;49m\u001b[38;5;124;43mMedia C.P. Gasoleo A\u001b[39;49m\u001b[38;5;124;43m'\u001b[39;49m\u001b[43m,\u001b[49m\u001b[43m \u001b[49m\u001b[38;5;124;43m'\u001b[39;49m\u001b[38;5;124;43mMedia Nacional Gasoleo A\u001b[39;49m\u001b[38;5;124;43m'\u001b[39;49m\u001b[43m,\u001b[49m\u001b[43m \u001b[49m\n\u001b[0;32m      4\u001b[0m \u001b[43m             \u001b[49m\u001b[38;5;124;43m'\u001b[39;49m\u001b[38;5;124;43mGasoleo B\u001b[39;49m\u001b[38;5;124;43m'\u001b[39;49m\u001b[43m,\u001b[49m\u001b[43m \u001b[49m\u001b[38;5;124;43m'\u001b[39;49m\u001b[38;5;124;43mMedia C.P. Gasoleo B\u001b[39;49m\u001b[38;5;124;43m'\u001b[39;49m\u001b[43m,\u001b[49m\u001b[38;5;124;43m'\u001b[39;49m\u001b[38;5;124;43mMedia Nacional Gasoleo B\u001b[39;49m\u001b[38;5;124;43m'\u001b[39;49m\u001b[43m,\u001b[49m\u001b[43m \u001b[49m\n\u001b[0;32m      5\u001b[0m \u001b[43m             \u001b[49m\u001b[38;5;124;43m'\u001b[39;49m\u001b[38;5;124;43mGasoleo Premium\u001b[39;49m\u001b[38;5;124;43m'\u001b[39;49m\u001b[43m,\u001b[49m\u001b[38;5;124;43m'\u001b[39;49m\u001b[38;5;124;43mMedia C.P. Gasoleo P\u001b[39;49m\u001b[38;5;124;43m'\u001b[39;49m\u001b[43m,\u001b[49m\u001b[43m \u001b[49m\u001b[38;5;124;43m'\u001b[39;49m\u001b[38;5;124;43mMedia Nacional Gasoleo P\u001b[39;49m\u001b[38;5;124;43m'\u001b[39;49m\u001b[43m,\u001b[49m\u001b[43m \u001b[49m\n\u001b[0;32m      6\u001b[0m \u001b[43m             \u001b[49m\u001b[38;5;124;43m'\u001b[39;49m\u001b[38;5;124;43mGasolina 95 E5\u001b[39;49m\u001b[38;5;124;43m'\u001b[39;49m\u001b[43m,\u001b[49m\u001b[43m \u001b[49m\u001b[38;5;124;43m'\u001b[39;49m\u001b[38;5;124;43mMedia C.P. Gasolina 95\u001b[39;49m\u001b[38;5;124;43m'\u001b[39;49m\u001b[43m,\u001b[49m\u001b[38;5;124;43m'\u001b[39;49m\u001b[38;5;124;43mMedia Nacional Gasolina 95\u001b[39;49m\u001b[38;5;124;43m'\u001b[39;49m\u001b[43m,\u001b[49m\u001b[43m \u001b[49m\n\u001b[0;32m      7\u001b[0m \u001b[43m             \u001b[49m\u001b[38;5;124;43m'\u001b[39;49m\u001b[38;5;124;43mGasolina 98 E5\u001b[39;49m\u001b[38;5;124;43m'\u001b[39;49m\u001b[43m,\u001b[49m\u001b[43m \u001b[49m\u001b[38;5;124;43m'\u001b[39;49m\u001b[38;5;124;43mMedia C.P. Gasolina 98\u001b[39;49m\u001b[38;5;124;43m'\u001b[39;49m\u001b[43m,\u001b[49m\u001b[38;5;124;43m'\u001b[39;49m\u001b[38;5;124;43mMedia Nacional Gasolina 98\u001b[39;49m\u001b[38;5;124;43m'\u001b[39;49m\u001b[43m]\u001b[49m\u001b[43m]\u001b[49m\n\u001b[0;32m      8\u001b[0m df_n\n",
      "File \u001b[1;32m~\\miniconda3\\envs\\m1_ih\\lib\\site-packages\\pandas\\core\\frame.py:3511\u001b[0m, in \u001b[0;36mDataFrame.__getitem__\u001b[1;34m(self, key)\u001b[0m\n\u001b[0;32m   3509\u001b[0m     \u001b[38;5;28;01mif\u001b[39;00m is_iterator(key):\n\u001b[0;32m   3510\u001b[0m         key \u001b[38;5;241m=\u001b[39m \u001b[38;5;28mlist\u001b[39m(key)\n\u001b[1;32m-> 3511\u001b[0m     indexer \u001b[38;5;241m=\u001b[39m \u001b[38;5;28;43mself\u001b[39;49m\u001b[38;5;241;43m.\u001b[39;49m\u001b[43mcolumns\u001b[49m\u001b[38;5;241;43m.\u001b[39;49m\u001b[43m_get_indexer_strict\u001b[49m\u001b[43m(\u001b[49m\u001b[43mkey\u001b[49m\u001b[43m,\u001b[49m\u001b[43m \u001b[49m\u001b[38;5;124;43m\"\u001b[39;49m\u001b[38;5;124;43mcolumns\u001b[39;49m\u001b[38;5;124;43m\"\u001b[39;49m\u001b[43m)\u001b[49m[\u001b[38;5;241m1\u001b[39m]\n\u001b[0;32m   3513\u001b[0m \u001b[38;5;66;03m# take() does not accept boolean indexers\u001b[39;00m\n\u001b[0;32m   3514\u001b[0m \u001b[38;5;28;01mif\u001b[39;00m \u001b[38;5;28mgetattr\u001b[39m(indexer, \u001b[38;5;124m\"\u001b[39m\u001b[38;5;124mdtype\u001b[39m\u001b[38;5;124m\"\u001b[39m, \u001b[38;5;28;01mNone\u001b[39;00m) \u001b[38;5;241m==\u001b[39m \u001b[38;5;28mbool\u001b[39m:\n",
      "File \u001b[1;32m~\\miniconda3\\envs\\m1_ih\\lib\\site-packages\\pandas\\core\\indexes\\base.py:5782\u001b[0m, in \u001b[0;36mIndex._get_indexer_strict\u001b[1;34m(self, key, axis_name)\u001b[0m\n\u001b[0;32m   5779\u001b[0m \u001b[38;5;28;01melse\u001b[39;00m:\n\u001b[0;32m   5780\u001b[0m     keyarr, indexer, new_indexer \u001b[38;5;241m=\u001b[39m \u001b[38;5;28mself\u001b[39m\u001b[38;5;241m.\u001b[39m_reindex_non_unique(keyarr)\n\u001b[1;32m-> 5782\u001b[0m \u001b[38;5;28;43mself\u001b[39;49m\u001b[38;5;241;43m.\u001b[39;49m\u001b[43m_raise_if_missing\u001b[49m\u001b[43m(\u001b[49m\u001b[43mkeyarr\u001b[49m\u001b[43m,\u001b[49m\u001b[43m \u001b[49m\u001b[43mindexer\u001b[49m\u001b[43m,\u001b[49m\u001b[43m \u001b[49m\u001b[43maxis_name\u001b[49m\u001b[43m)\u001b[49m\n\u001b[0;32m   5784\u001b[0m keyarr \u001b[38;5;241m=\u001b[39m \u001b[38;5;28mself\u001b[39m\u001b[38;5;241m.\u001b[39mtake(indexer)\n\u001b[0;32m   5785\u001b[0m \u001b[38;5;28;01mif\u001b[39;00m \u001b[38;5;28misinstance\u001b[39m(key, Index):\n\u001b[0;32m   5786\u001b[0m     \u001b[38;5;66;03m# GH 42790 - Preserve name from an Index\u001b[39;00m\n",
      "File \u001b[1;32m~\\miniconda3\\envs\\m1_ih\\lib\\site-packages\\pandas\\core\\indexes\\base.py:5845\u001b[0m, in \u001b[0;36mIndex._raise_if_missing\u001b[1;34m(self, key, indexer, axis_name)\u001b[0m\n\u001b[0;32m   5842\u001b[0m     \u001b[38;5;28;01mraise\u001b[39;00m \u001b[38;5;167;01mKeyError\u001b[39;00m(\u001b[38;5;124mf\u001b[39m\u001b[38;5;124m\"\u001b[39m\u001b[38;5;124mNone of [\u001b[39m\u001b[38;5;132;01m{\u001b[39;00mkey\u001b[38;5;132;01m}\u001b[39;00m\u001b[38;5;124m] are in the [\u001b[39m\u001b[38;5;132;01m{\u001b[39;00maxis_name\u001b[38;5;132;01m}\u001b[39;00m\u001b[38;5;124m]\u001b[39m\u001b[38;5;124m\"\u001b[39m)\n\u001b[0;32m   5844\u001b[0m not_found \u001b[38;5;241m=\u001b[39m \u001b[38;5;28mlist\u001b[39m(ensure_index(key)[missing_mask\u001b[38;5;241m.\u001b[39mnonzero()[\u001b[38;5;241m0\u001b[39m]]\u001b[38;5;241m.\u001b[39munique())\n\u001b[1;32m-> 5845\u001b[0m \u001b[38;5;28;01mraise\u001b[39;00m \u001b[38;5;167;01mKeyError\u001b[39;00m(\u001b[38;5;124mf\u001b[39m\u001b[38;5;124m\"\u001b[39m\u001b[38;5;132;01m{\u001b[39;00mnot_found\u001b[38;5;132;01m}\u001b[39;00m\u001b[38;5;124m not in index\u001b[39m\u001b[38;5;124m\"\u001b[39m)\n",
      "\u001b[1;31mKeyError\u001b[0m: \"['Media C.P. Gasoleo A', 'Media C.P. Gasoleo B', 'Media C.P. Gasoleo P', 'Media C.P. Gasolina 95', 'Media C.P. Gasolina 98'] not in index\""
     ]
    }
   ],
   "source": [
    "#Ordenamos columnas\n",
    "df_n = df_n[['Fecha', 'Horario', 'C.P.','Provincia','Municipio','Localidad', 'Dirección', 'Proveedor de Servicio', \n",
    "             'Gasoleo A', 'Media C.P. Gasoleo A', 'Media Nacional Gasoleo A', \n",
    "             'Gasoleo B', 'Media C.P. Gasoleo B','Media Nacional Gasoleo B', \n",
    "             'Gasoleo Premium','Media C.P. Gasoleo P', 'Media Nacional Gasoleo P', \n",
    "             'Gasolina 95 E5', 'Media C.P. Gasolina 95','Media Nacional Gasolina 95', \n",
    "             'Gasolina 98 E5', 'Media C.P. Gasolina 98','Media Nacional Gasolina 98']]\n",
    "df_n"
   ]
  },
  {
   "cell_type": "markdown",
   "id": "0bf5e02c",
   "metadata": {},
   "source": [
    "# Reemplazamiento de nombres en las filas"
   ]
  },
  {
   "cell_type": "code",
   "execution_count": 122,
   "id": "475ac1f9",
   "metadata": {},
   "outputs": [],
   "source": [
    "# Misma marca de gasolineras con nombres diferentes\n",
    "df_n = df_n.sort_values('Proveedor de Servicio')\n",
    "\n",
    "\n",
    "\n"
   ]
  },
  {
   "cell_type": "code",
   "execution_count": 123,
   "id": "8ad906f2",
   "metadata": {},
   "outputs": [],
   "source": [
    "df_n[\"Proveedor de Servicio\"] = df_n[\"Proveedor de Servicio\"] .astype(str)\n"
   ]
  },
  {
   "cell_type": "code",
   "execution_count": 124,
   "id": "9a9221f8",
   "metadata": {},
   "outputs": [
    {
     "name": "stdout",
     "output_type": "stream",
     "text": [
      "<class 'pandas.core.frame.DataFrame'>\n",
      "Int64Index: 11842 entries, 2916 to 544\n",
      "Data columns (total 24 columns):\n",
      " #   Column                      Non-Null Count  Dtype  \n",
      "---  ------                      --------------  -----  \n",
      " 0   Fecha                       11842 non-null  object \n",
      " 1   C.P.                        11842 non-null  object \n",
      " 2   Dirección                   11842 non-null  object \n",
      " 3   Horario                     11842 non-null  object \n",
      " 4   Latitud                     11842 non-null  object \n",
      " 5   Localidad                   11842 non-null  object \n",
      " 6   Longitud (WGS84)            11842 non-null  object \n",
      " 7   Municipio                   11842 non-null  object \n",
      " 8   Gasoleo A                   11497 non-null  float64\n",
      " 9   Gasoleo B                   3014 non-null   float64\n",
      " 10  Gasoleo Premium             7529 non-null   float64\n",
      " 11  Gasolina 95 E5              10697 non-null  float64\n",
      " 12  Gasolina 98 E5              5946 non-null   float64\n",
      " 13  Provincia                   11842 non-null  object \n",
      " 14  Proveedor de Servicio       11842 non-null  object \n",
      " 15  IDEESS                      11842 non-null  object \n",
      " 16  IDMunicipio                 11842 non-null  object \n",
      " 17  IDProvincia                 11842 non-null  object \n",
      " 18  IDCCAA                      11842 non-null  object \n",
      " 19  Media Nacional Gasoleo A    11842 non-null  float64\n",
      " 20  Media Nacional Gasoleo B    11842 non-null  float64\n",
      " 21  Media Nacional Gasoleo P    11842 non-null  float64\n",
      " 22  Media Nacional Gasolina 95  11842 non-null  float64\n",
      " 23  Media Nacional Gasolina 98  11842 non-null  float64\n",
      "dtypes: float64(10), object(14)\n",
      "memory usage: 2.3+ MB\n"
     ]
    }
   ],
   "source": [
    "df_n.info()"
   ]
  },
  {
   "cell_type": "code",
   "execution_count": 125,
   "id": "0bf6201c",
   "metadata": {},
   "outputs": [],
   "source": [
    "df_n['Proveedor de Servicio'] = df_n['Proveedor de Servicio'].astype('string')"
   ]
  },
  {
   "cell_type": "code",
   "execution_count": 126,
   "id": "b06c794d",
   "metadata": {},
   "outputs": [
    {
     "name": "stdout",
     "output_type": "stream",
     "text": [
      "<class 'pandas.core.frame.DataFrame'>\n",
      "Int64Index: 11842 entries, 2916 to 544\n",
      "Data columns (total 24 columns):\n",
      " #   Column                      Non-Null Count  Dtype  \n",
      "---  ------                      --------------  -----  \n",
      " 0   Fecha                       11842 non-null  object \n",
      " 1   C.P.                        11842 non-null  object \n",
      " 2   Dirección                   11842 non-null  object \n",
      " 3   Horario                     11842 non-null  object \n",
      " 4   Latitud                     11842 non-null  object \n",
      " 5   Localidad                   11842 non-null  object \n",
      " 6   Longitud (WGS84)            11842 non-null  object \n",
      " 7   Municipio                   11842 non-null  object \n",
      " 8   Gasoleo A                   11497 non-null  float64\n",
      " 9   Gasoleo B                   3014 non-null   float64\n",
      " 10  Gasoleo Premium             7529 non-null   float64\n",
      " 11  Gasolina 95 E5              10697 non-null  float64\n",
      " 12  Gasolina 98 E5              5946 non-null   float64\n",
      " 13  Provincia                   11842 non-null  object \n",
      " 14  Proveedor de Servicio       11842 non-null  string \n",
      " 15  IDEESS                      11842 non-null  object \n",
      " 16  IDMunicipio                 11842 non-null  object \n",
      " 17  IDProvincia                 11842 non-null  object \n",
      " 18  IDCCAA                      11842 non-null  object \n",
      " 19  Media Nacional Gasoleo A    11842 non-null  float64\n",
      " 20  Media Nacional Gasoleo B    11842 non-null  float64\n",
      " 21  Media Nacional Gasoleo P    11842 non-null  float64\n",
      " 22  Media Nacional Gasolina 95  11842 non-null  float64\n",
      " 23  Media Nacional Gasolina 98  11842 non-null  float64\n",
      "dtypes: float64(10), object(13), string(1)\n",
      "memory usage: 2.3+ MB\n"
     ]
    }
   ],
   "source": [
    "df_n.info()"
   ]
  },
  {
   "cell_type": "code",
   "execution_count": 132,
   "id": "e6e60694",
   "metadata": {},
   "outputs": [
    {
     "name": "stderr",
     "output_type": "stream",
     "text": [
      "C:\\Users\\abarr\\AppData\\Local\\Temp\\ipykernel_16256\\785077303.py:14: FutureWarning: The default value of regex will change from True to False in a future version.\n",
      "  df_n['Proveedor de Servicio'] = df_n['Proveedor de Servicio'].str.replace('BP ROTONDA LAS VAGUADAS S.L.', 'BP')\n",
      "C:\\Users\\abarr\\AppData\\Local\\Temp\\ipykernel_16256\\785077303.py:16: FutureWarning: The default value of regex will change from True to False in a future version.\n",
      "  df_n['Proveedor de Servicio'] = df_n['Proveedor de Servicio'].str.replace('BPPROPERLY, S.A.', 'BP')\n",
      "C:\\Users\\abarr\\AppData\\Local\\Temp\\ipykernel_16256\\785077303.py:18: FutureWarning: The default value of regex will change from True to False in a future version.\n",
      "  df_n['Proveedor de Servicio'] = df_n['Proveedor de Servicio'].str.replace('(sin rótulo)', 'OTROS')\n",
      "C:\\Users\\abarr\\AppData\\Local\\Temp\\ipykernel_16256\\785077303.py:19: FutureWarning: The default value of regex will change from True to False in a future version. In addition, single character regular expressions will *not* be treated as literal strings when regex=True.\n",
      "  df_n['Proveedor de Servicio'] = df_n['Proveedor de Servicio'].str.replace('*', 'OTROS')\n",
      "C:\\Users\\abarr\\AppData\\Local\\Temp\\ipykernel_16256\\785077303.py:38: FutureWarning: The default value of regex will change from True to False in a future version.\n",
      "  df_n['Proveedor de Servicio'] = df_n['Proveedor de Servicio'].str.replace('INLOCOR S.L. \"CEPSA\"', 'CEPSA')\n",
      "C:\\Users\\abarr\\AppData\\Local\\Temp\\ipykernel_16256\\785077303.py:39: FutureWarning: The default value of regex will change from True to False in a future version.\n",
      "  df_n['Proveedor de Servicio'] = df_n['Proveedor de Servicio'].str.replace('REPSOL. LOS ANGELES DE LA MANCHA, S.L.', 'REPSOL')\n",
      "C:\\Users\\abarr\\AppData\\Local\\Temp\\ipykernel_16256\\785077303.py:67: FutureWarning: The default value of regex will change from True to False in a future version.\n",
      "  df_n['Proveedor de Servicio'] = df_n['Proveedor de Servicio'].str.replace('CEPSA . LOHANA', 'CEPSA')\n",
      "C:\\Users\\abarr\\AppData\\Local\\Temp\\ipykernel_16256\\785077303.py:88: FutureWarning: The default value of regex will change from True to False in a future version.\n",
      "  df_n['Proveedor de Servicio'] = df_n['Proveedor de Servicio'].str.replace('CEPSAGLTA.EL CID', 'CEPSA')\n",
      "C:\\Users\\abarr\\AppData\\Local\\Temp\\ipykernel_16256\\785077303.py:90: FutureWarning: The default value of regex will change from True to False in a future version.\n",
      "  df_n['Proveedor de Servicio'] = df_n['Proveedor de Servicio'].str.replace('CEPSAESPAÑA S.A.', 'CEPSA')\n",
      "C:\\Users\\abarr\\AppData\\Local\\Temp\\ipykernel_16256\\785077303.py:102: FutureWarning: The default value of regex will change from True to False in a future version.\n",
      "  df_n['Proveedor de Servicio'] = df_n['Proveedor de Servicio'].str.replace('CEPSAOTROSE.S. ROCA', 'CEPSA')\n",
      "C:\\Users\\abarr\\AppData\\Local\\Temp\\ipykernel_16256\\785077303.py:104: FutureWarning: The default value of regex will change from True to False in a future version.\n",
      "  df_n['Proveedor de Servicio'] = df_n['Proveedor de Servicio'].str.replace('CEPSAOTROSE.S.JAIME I', 'CEPSA')\n",
      "C:\\Users\\abarr\\AppData\\Local\\Temp\\ipykernel_16256\\785077303.py:107: FutureWarning: The default value of regex will change from True to False in a future version.\n",
      "  df_n['Proveedor de Servicio'] = df_n['Proveedor de Servicio'].str.replace('CEPSAOTROS ANTELA E.S.', 'CEPSA')\n",
      "C:\\Users\\abarr\\AppData\\Local\\Temp\\ipykernel_16256\\785077303.py:109: FutureWarning: The default value of regex will change from True to False in a future version.\n",
      "  df_n['Proveedor de Servicio'] = df_n['Proveedor de Servicio'].str.replace('CEPSAOPER CANARIOS S,L.', 'CEPSA')\n",
      "C:\\Users\\abarr\\AppData\\Local\\Temp\\ipykernel_16256\\785077303.py:110: FutureWarning: The default value of regex will change from True to False in a future version.\n",
      "  df_n['Proveedor de Servicio'] = df_n['Proveedor de Servicio'].str.replace('CEPSATAXISTAS S.AGUSTIN', 'CEPSA')\n",
      "C:\\Users\\abarr\\AppData\\Local\\Temp\\ipykernel_16256\\785077303.py:111: FutureWarning: The default value of regex will change from True to False in a future version.\n",
      "  df_n['Proveedor de Servicio'] = df_n['Proveedor de Servicio'].str.replace('CEPSAOTROSARROCEROS B.G.', 'CEPSA')\n",
      "C:\\Users\\abarr\\AppData\\Local\\Temp\\ipykernel_16256\\785077303.py:114: FutureWarning: The default value of regex will change from True to False in a future version.\n",
      "  df_n['Proveedor de Servicio'] = df_n['Proveedor de Servicio'].str.replace('CEPSALAS TORRES (TEXACO)', 'CEPSA')\n",
      "C:\\Users\\abarr\\AppData\\Local\\Temp\\ipykernel_16256\\785077303.py:115: FutureWarning: The default value of regex will change from True to False in a future version.\n",
      "  df_n['Proveedor de Servicio'] = df_n['Proveedor de Servicio'].str.replace('CEPSAOPER CANARIOS S,L.', 'CEPSA')\n",
      "C:\\Users\\abarr\\AppData\\Local\\Temp\\ipykernel_16256\\785077303.py:116: FutureWarning: The default value of regex will change from True to False in a future version.\n",
      "  df_n['Proveedor de Servicio'] = df_n['Proveedor de Servicio'].str.replace('CEPSAOTROSLA DEHESA S.C.A.', 'CEPSA')\n",
      "C:\\Users\\abarr\\AppData\\Local\\Temp\\ipykernel_16256\\785077303.py:117: FutureWarning: The default value of regex will change from True to False in a future version.\n",
      "  df_n['Proveedor de Servicio'] = df_n['Proveedor de Servicio'].str.replace('CEPSALOS PORTALES (TEXACO)', 'CEPSA')\n",
      "C:\\Users\\abarr\\AppData\\Local\\Temp\\ipykernel_16256\\785077303.py:119: FutureWarning: The default value of regex will change from True to False in a future version.\n",
      "  df_n['Proveedor de Servicio'] = df_n['Proveedor de Servicio'].str.replace('CEPSAOTROSCOOP. SAN DIONISIO', 'CEPSA')\n",
      "C:\\Users\\abarr\\AppData\\Local\\Temp\\ipykernel_16256\\785077303.py:122: FutureWarning: The default value of regex will change from True to False in a future version.\n",
      "  df_n['Proveedor de Servicio'] = df_n['Proveedor de Servicio'].str.replace('E.S. CEPSACHIO', 'CEPSA')\n",
      "C:\\Users\\abarr\\AppData\\Local\\Temp\\ipykernel_16256\\785077303.py:126: FutureWarning: The default value of regex will change from True to False in a future version.\n",
      "  df_n['Proveedor de Servicio'] = df_n['Proveedor de Servicio'].str.replace('E.S. CEPSALA CALETA', 'CEPSA')\n",
      "C:\\Users\\abarr\\AppData\\Local\\Temp\\ipykernel_16256\\785077303.py:127: FutureWarning: The default value of regex will change from True to False in a future version.\n",
      "  df_n['Proveedor de Servicio'] = df_n['Proveedor de Servicio'].str.replace('CEPSALAS TORRES (TEXACO)', 'CEPSA')\n",
      "C:\\Users\\abarr\\AppData\\Local\\Temp\\ipykernel_16256\\785077303.py:129: FutureWarning: The default value of regex will change from True to False in a future version.\n",
      "  df_n['Proveedor de Servicio'] = df_n['Proveedor de Servicio'].str.replace('CEPSAOPER CANARIOS S,L.', 'CEPSA')\n",
      "C:\\Users\\abarr\\AppData\\Local\\Temp\\ipykernel_16256\\785077303.py:130: FutureWarning: The default value of regex will change from True to False in a future version.\n",
      "  df_n['Proveedor de Servicio'] = df_n['Proveedor de Servicio'].str.replace('CEPSALOS PORTALES (TEXACO)', 'CEPSA')\n",
      "C:\\Users\\abarr\\AppData\\Local\\Temp\\ipykernel_16256\\785077303.py:133: FutureWarning: The default value of regex will change from True to False in a future version.\n",
      "  df_n['Proveedor de Servicio'] = df_n['Proveedor de Servicio'].str.replace('CEPSAOPER CANARIOS S,L.', 'CEPSA')\n",
      "C:\\Users\\abarr\\AppData\\Local\\Temp\\ipykernel_16256\\785077303.py:135: FutureWarning: The default value of regex will change from True to False in a future version.\n",
      "  df_n['Proveedor de Servicio'] = df_n['Proveedor de Servicio'].str.replace('E.S.CEPSAPONTEBRANCA', 'CEPSA')\n",
      "C:\\Users\\abarr\\AppData\\Local\\Temp\\ipykernel_16256\\785077303.py:140: FutureWarning: The default value of regex will change from True to False in a future version.\n",
      "  df_n['Proveedor de Servicio'] = df_n['Proveedor de Servicio'].str.replace('CEPSAOPER CANARIOS S,L.', 'CEPSA')\n",
      "C:\\Users\\abarr\\AppData\\Local\\Temp\\ipykernel_16256\\785077303.py:142: FutureWarning: The default value of regex will change from True to False in a future version.\n",
      "  df_n['Proveedor de Servicio'] = df_n['Proveedor de Servicio'].str.replace('BP \\w[a-zA-Z0-9_]', 'BP')\n",
      "C:\\Users\\abarr\\AppData\\Local\\Temp\\ipykernel_16256\\785077303.py:143: FutureWarning: The default value of regex will change from True to False in a future version.\n",
      "  df_n['Proveedor de Servicio'] = df_n['Proveedor de Servicio'].str.replace('BP\\w[a-zA-Z0-9_]', 'BP')\n",
      "C:\\Users\\abarr\\AppData\\Local\\Temp\\ipykernel_16256\\785077303.py:150: FutureWarning: The default value of regex will change from True to False in a future version.\n",
      "  df_n['Proveedor de Servicio'] = df_n['Proveedor de Servicio'].str.replace('SHELL \\S*', 'SHELL')\n",
      "C:\\Users\\abarr\\AppData\\Local\\Temp\\ipykernel_16256\\785077303.py:151: FutureWarning: The default value of regex will change from True to False in a future version.\n",
      "  df_n['Proveedor de Servicio'] = df_n['Proveedor de Servicio'].str.replace('SHELL \\S[a-zA-Z0-9_]*', 'SHELL')\n",
      "C:\\Users\\abarr\\AppData\\Local\\Temp\\ipykernel_16256\\785077303.py:153: FutureWarning: The default value of regex will change from True to False in a future version.\n",
      "  df_n['Proveedor de Servicio'] = df_n['Proveedor de Servicio'].str.replace('E.S SHELL','SHELL')\n"
     ]
    },
    {
     "data": {
      "text/plain": [
       "2916        PETROL STATION\n",
       "5076                  AGLA\n",
       "10808              AGRICAR\n",
       "10351                   BP\n",
       "9337                    BP\n",
       "               ...        \n",
       "2231          ZONA DIESEL \n",
       "4926             ZONA ZERO\n",
       "7297                     _\n",
       "11488       |> ENERTRIX <|\n",
       "544             ÁRTICO OIL\n",
       "Name: Proveedor de Servicio, Length: 11842, dtype: string"
      ]
     },
     "execution_count": 132,
     "metadata": {},
     "output_type": "execute_result"
    }
   ],
   "source": [
    "df_n['Proveedor de Servicio'] = df_n['Proveedor de Servicio'].str.replace('BP  ALOD', 'BP') \n",
    "df_n['Proveedor de Servicio'] = df_n['Proveedor de Servicio'].str.replace('BP AVENIDA 3 DE MAYO', 'BP')\n",
    "df_n['Proveedor de Servicio'] = df_n['Proveedor de Servicio'].str.replace('BP BENICADELL', 'BP')\n",
    "df_n['Proveedor de Servicio'] = df_n['Proveedor de Servicio'].str.replace('BP CA SESTRELLA', 'BP')\n",
    "df_n['Proveedor de Servicio'] = df_n['Proveedor de Servicio'].str.replace('BP RAMBLA INIESTA', 'BP')\n",
    "df_n['Proveedor de Servicio'] = df_n['Proveedor de Servicio'].str.replace('BP SAN LUIS', 'BP')\n",
    "df_n['Proveedor de Servicio'] = df_n['Proveedor de Servicio'].str.replace('BP SANTIGA', 'BP')\n",
    "df_n['Proveedor de Servicio'] = df_n['Proveedor de Servicio'].str.replace('BP TACO','BP')\n",
    "df_n['Proveedor de Servicio'] = df_n['Proveedor de Servicio'].str.replace('BP VENTA DEL PERAL II', 'BP')\n",
    "df_n['Proveedor de Servicio'] = df_n['Proveedor de Servicio'].str.replace('BP ROMICA', 'BP')\n",
    "df_n['Proveedor de Servicio'] = df_n['Proveedor de Servicio'].str.replace('REPSOL UBEDA', 'REPSOL')\n",
    "df_n['Proveedor de Servicio'] = df_n['Proveedor de Servicio'].str.replace('SUTULLENA-CEPSA', 'CEPSA')\n",
    "df_n['Proveedor de Servicio'] = df_n['Proveedor de Servicio'].str.replace('\"BP\"', 'BP')\n",
    "df_n['Proveedor de Servicio'] = df_n['Proveedor de Servicio'].str.replace('BP ROTONDA LAS VAGUADAS S.L.', 'BP')\n",
    "df_n['Proveedor de Servicio'] = df_n['Proveedor de Servicio'].str.replace('BPBEGUR', 'BP')\n",
    "df_n['Proveedor de Servicio'] = df_n['Proveedor de Servicio'].str.replace('BPPROPERLY, S.A.', 'BP')\n",
    "df_n['Proveedor de Servicio'] = df_n['Proveedor de Servicio'].str.replace('SIN RÓTULO', 'OTROS')\n",
    "df_n['Proveedor de Servicio'] = df_n['Proveedor de Servicio'].str.replace('(sin rótulo)', 'OTROS')\n",
    "df_n['Proveedor de Servicio'] = df_n['Proveedor de Servicio'].str.replace('*', 'OTROS')\n",
    "#df_n['Proveedor de Servicio'] = df_n['Proveedor de Servicio'].str.replace(\"******\", 'OTROS')\n",
    "df_n['Proveedor de Servicio'] = df_n['Proveedor de Servicio'].str.replace('-', 'OTROS')\n",
    "df_n['Proveedor de Servicio'] = df_n['Proveedor de Servicio'].str.replace('-', 'OTROS')\n",
    "df_n['Proveedor de Servicio'] = df_n['Proveedor de Servicio'].str.replace('0', 'OTROS')\n",
    "df_n['Proveedor de Servicio'] = df_n['Proveedor de Servicio'].str.replace('06/32718', 'OTROS')\n",
    "df_n['Proveedor de Servicio'] = df_n['Proveedor de Servicio'].str.replace('12126', 'OTROS')\n",
    "df_n['Proveedor de Servicio'] = df_n['Proveedor de Servicio'].str.replace('12241', 'OTROS')\n",
    "df_n['Proveedor de Servicio'] = df_n['Proveedor de Servicio'].str.replace('13344', 'OTROS')\n",
    "df_n['Proveedor de Servicio'] = df_n['Proveedor de Servicio'].str.replace('15909', 'OTROS')\n",
    "df_n['Proveedor de Servicio'] = df_n['Proveedor de Servicio'].str.replace('1PRIMER', 'OTROS')\n",
    "df_n['Proveedor de Servicio'] = df_n['Proveedor de Servicio'].str.replace('23ESO68F', 'OTROS')\n",
    "df_n['Proveedor de Servicio'] = df_n['Proveedor de Servicio'].str.replace('395 2/2HS 40-80', 'OTROS')\n",
    "df_n['Proveedor de Servicio'] = df_n['Proveedor de Servicio'].str.replace('41037733', 'OTROS')\n",
    "df_n['Proveedor de Servicio'] = df_n['Proveedor de Servicio'].str.replace('45110020416', 'OTROS')\n",
    "df_n['Proveedor de Servicio'] = df_n['Proveedor de Servicio'].str.replace('4572', 'OTROS')\n",
    "df_n['Proveedor de Servicio'] = df_n['Proveedor de Servicio'].str.replace('7267', 'OTROS')\n",
    "df_n['Proveedor de Servicio'] = df_n['Proveedor de Servicio'].str.replace('7345', 'OTROS')\n",
    "df_n['Proveedor de Servicio'] = df_n['Proveedor de Servicio'].str.replace('96053', 'OTROS')\n",
    "df_n['Proveedor de Servicio'] = df_n['Proveedor de Servicio'].str.replace('INLOCOR S.L. \"CEPSA\"', 'CEPSA')\n",
    "df_n['Proveedor de Servicio'] = df_n['Proveedor de Servicio'].str.replace('REPSOL. LOS ANGELES DE LA MANCHA, S.L.', 'REPSOL')\n",
    "df_n['Proveedor de Servicio'] = df_n['Proveedor de Servicio'].str.replace('BP OIL', 'BP')\n",
    "df_n['Proveedor de Servicio'] = df_n['Proveedor de Servicio'].str.replace('BP PARGA I PETROL BAS BEL', 'BP')\n",
    "df_n['Proveedor de Servicio'] = df_n['Proveedor de Servicio'].str.replace('Nº 7374', 'OTROS')\n",
    "df_n['Proveedor de Servicio'] = df_n['Proveedor de Servicio'].str.replace('NO', 'OTROS')\n",
    "df_n['Proveedor de Servicio'] = df_n['Proveedor de Servicio'].str.replace('BP CASA JUANITO RESTAURANTE', 'BP')\n",
    "df_n['Proveedor de Servicio'] = df_n['Proveedor de Servicio'].str.replace('NO HAY', 'OTROS')\n",
    "df_n['Proveedor de Servicio'] = df_n['Proveedor de Servicio'].str.replace('NO TIENE', 'OTROS')\n",
    "df_n['Proveedor de Servicio'] = df_n['Proveedor de Servicio'].str.replace('BP VILLARROBLEDO', 'BP')\n",
    "df_n['Proveedor de Servicio'] = df_n['Proveedor de Servicio'].str.replace('BP ALFAZ DEL PI', 'BP')\n",
    "df_n['Proveedor de Servicio'] = df_n['Proveedor de Servicio'].str.replace('BP SANDOVAL MD', 'BP')                                                                        \n",
    "df_n['Proveedor de Servicio'] = df_n['Proveedor de Servicio'].str.replace('BP SANDOVAL MI', 'BP')\n",
    "df_n['Proveedor de Servicio'] = df_n['Proveedor de Servicio'].str.replace('BP BENIDORM', 'BP')\n",
    "df_n['Proveedor de Servicio'] = df_n['Proveedor de Servicio'].str.replace('BP EUROBENIDORM', 'BP')\n",
    "df_n['Proveedor de Servicio'] = df_n['Proveedor de Servicio'].str.replace('BP REJAS VERDES', 'BP')\n",
    "df_n['Proveedor de Servicio'] = df_n['Proveedor de Servicio'].str.replace('CEPSA ELF', 'CEPSA')\n",
    "df_n['Proveedor de Servicio'] = df_n['Proveedor de Servicio'].str.replace('CEPSA V21', 'CEPSA')\n",
    "df_n['Proveedor de Servicio'] = df_n['Proveedor de Servicio'].str.replace('CEPSA LEO', 'CEPSA')\n",
    "df_n['Proveedor de Servicio'] = df_n['Proveedor de Servicio'].str.replace('CEPSA TINAJO', 'CEPSA')\n",
    "df_n['Proveedor de Servicio'] = df_n['Proveedor de Servicio'].str.replace('CEPSA AGAETE', 'CEPSA')\n",
    "df_n['Proveedor de Servicio'] = df_n['Proveedor de Servicio'].str.replace('CEPSA CALONGE', 'CEPSA')\n",
    "df_n['Proveedor de Servicio'] = df_n['Proveedor de Servicio'].str.replace('BP REJAS VERDES', 'BP')\n",
    "df_n['Proveedor de Servicio'] = df_n['Proveedor de Servicio'].str.replace('CEPSA INGENIO', 'CEPSA')\n",
    "df_n['Proveedor de Servicio'] = df_n['Proveedor de Servicio'].str.replace('CEPSA ANTIGUA', 'CEPSA')\n",
    "df_n['Proveedor de Servicio'] = df_n['Proveedor de Servicio'].str.replace('CEPSA BALOS 1', 'CEPSA')\n",
    "df_n['Proveedor de Servicio'] = df_n['Proveedor de Servicio'].str.replace('CEPSA BALOS 2', 'CEPSA')\n",
    "df_n['Proveedor de Servicio'] = df_n['Proveedor de Servicio'].str.replace('CEPSAOTROSELF', 'CEPSA')\n",
    "df_n['Proveedor de Servicio'] = df_n['Proveedor de Servicio'].str.replace('CEPSA CANONCHE', 'CEPSA')\n",
    "df_n['Proveedor de Servicio'] = df_n['Proveedor de Servicio'].str.replace('CEPSA . LOHANA', 'CEPSA')\n",
    "df_n['Proveedor de Servicio'] = df_n['Proveedor de Servicio'].str.replace('CEPSA EL PEÑON', 'CEPSA')\n",
    "df_n['Proveedor de Servicio'] = df_n['Proveedor de Servicio'].str.replace('CEPSA VILANOVAE', 'CEPSA')\n",
    "df_n['Proveedor de Servicio'] = df_n['Proveedor de Servicio'].str.replace('CEPSA LA ALDEA', 'CEPSA')\n",
    "df_n['Proveedor de Servicio'] = df_n['Proveedor de Servicio'].str.replace('CEPSA LA CAÑADA', 'CEPSA')\n",
    "df_n['Proveedor de Servicio'] = df_n['Proveedor de Servicio'].str.replace('CEPSA TAHICHE I', 'CEPSA')\n",
    "df_n['Proveedor de Servicio'] = df_n['Proveedor de Servicio'].str.replace('CEPSA LA MARINA', 'CEPSA')\n",
    "df_n['Proveedor de Servicio'] = df_n['Proveedor de Servicio'].str.replace('CEPSA RELAMPAGO', 'CEPSA')\n",
    "df_n['Proveedor de Servicio'] = df_n['Proveedor de Servicio'].str.replace('CEPSA ALMERIMAR', 'CEPSA')\n",
    "df_n['Proveedor de Servicio'] = df_n['Proveedor de Servicio'].str.replace('CEPSAOTROSJUBERA', 'CEPSA')\n",
    "df_n['Proveedor de Servicio'] = df_n['Proveedor de Servicio'].str.replace('CEPSA EL CUBILLO', 'CEPSA')\n",
    "df_n['Proveedor de Servicio'] = df_n['Proveedor de Servicio'].str.replace('CEPSA TAHICHE II', 'CEPSA')\n",
    "df_n['Proveedor de Servicio'] = df_n['Proveedor de Servicio'].str.replace('CEPSA MASPALOMAS', 'CEPSA')\n",
    "df_n['Proveedor de Servicio'] = df_n['Proveedor de Servicio'].str.replace('CEPSA LA CAZUELA', 'CEPSA')\n",
    "df_n['Proveedor de Servicio'] = df_n['Proveedor de Servicio'].str.replace('CEPSA ETXEGARATE', 'CEPSA')\n",
    "df_n['Proveedor de Servicio'] = df_n['Proveedor de Servicio'].str.replace('CEPSA CAOTROSNCHE', 'CEPSA')\n",
    "df_n['Proveedor de Servicio'] = df_n['Proveedor de Servicio'].str.replace('CEPSA AGUA GARCIA', 'CEPSA')\n",
    "df_n['Proveedor de Servicio'] = df_n['Proveedor de Servicio'].str.replace('CEPSA LOS ANDENES', 'CEPSA')\n",
    "df_n['Proveedor de Servicio'] = df_n['Proveedor de Servicio'].str.replace('CEPSA LA AZADILLA', 'CEPSA')\n",
    "df_n['Proveedor de Servicio'] = df_n['Proveedor de Servicio'].str.replace('CEPSA ', 'CEPSA')\n",
    "df_n['Proveedor de Servicio'] = df_n['Proveedor de Servicio'].str.replace('CEPSAI', 'CEPSA')\n",
    "df_n['Proveedor de Servicio'] = df_n['Proveedor de Servicio'].str.replace('CEPSAGLTA.EL CID', 'CEPSA')\n",
    "df_n['Proveedor de Servicio'] = df_n['Proveedor de Servicio'].str.replace('CEPSAVILAOTROSVA', 'CEPSA')\n",
    "df_n['Proveedor de Servicio'] = df_n['Proveedor de Servicio'].str.replace('CEPSAESPAÑA S.A.', 'CEPSA')\n",
    "df_n['Proveedor de Servicio'] = df_n['Proveedor de Servicio'].str.replace('CEPSAGRAN TARAJAL', 'CEPSA')\n",
    "df_n['Proveedor de Servicio'] = df_n['Proveedor de Servicio'].str.replace('CEPSASIETE PALMAS', 'CEPSA')\n",
    "df_n['Proveedor de Servicio'] = df_n['Proveedor de Servicio'].str.replace('CEPSAHOYA PARRADO', 'CEPSA')\n",
    "df_n['Proveedor de Servicio'] = df_n['Proveedor de Servicio'].str.replace('CEPSAA4 PINTO 365', 'CEPSA')\n",
    "df_n['Proveedor de Servicio'] = df_n['Proveedor de Servicio'].str.replace('CEPSAOTROSALPICAT', 'CEPSA')\n",
    "df_n['Proveedor de Servicio'] = df_n['Proveedor de Servicio'].str.replace('CEPSALLAOTROS AZUL', 'CEPSA')\n",
    "df_n['Proveedor de Servicio'] = df_n['Proveedor de Servicio'].str.replace('CEPSALOS ALMENDROS', 'CEPSA')\n",
    "df_n['Proveedor de Servicio'] = df_n['Proveedor de Servicio'].str.replace('CEPSAMUELLE GRANDE', 'CEPSA')\n",
    "df_n['Proveedor de Servicio'] = df_n['Proveedor de Servicio'].str.replace('CEPSAOTROSGARCIBUR', 'CEPSA')\n",
    "df_n['Proveedor de Servicio'] = df_n['Proveedor de Servicio'].str.replace('CEPSAPUERTO ROSARIO', 'CEPSA')\n",
    "df_n['Proveedor de Servicio'] = df_n['Proveedor de Servicio'].str.replace('CEPSALAS ARENAS 365', 'CEPSA')\n",
    "df_n['Proveedor de Servicio'] = df_n['Proveedor de Servicio'].str.replace('CEPSAOTROSE.S. ROCA', 'CEPSA')\n",
    "df_n['Proveedor de Servicio'] = df_n['Proveedor de Servicio'].str.replace('CEPSAOTROS FIERROIL', 'CEPSA')\n",
    "df_n['Proveedor de Servicio'] = df_n['Proveedor de Servicio'].str.replace('CEPSAOTROSE.S.JAIME I', 'CEPSA')\n",
    "df_n['Proveedor de Servicio'] = df_n['Proveedor de Servicio'].str.replace('CEPSAPUERTO DE LA CRUZ', 'CEPSA')\n",
    "df_n['Proveedor de Servicio'] = df_n['Proveedor de Servicio'].str.replace('CEPSAPLAZA DEL PIOTROS', 'CEPSA')\n",
    "df_n['Proveedor de Servicio'] = df_n['Proveedor de Servicio'].str.replace('CEPSAOTROS ANTELA E.S.', 'CEPSA')\n",
    "df_n['Proveedor de Servicio'] = df_n['Proveedor de Servicio'].str.replace('CEPSACOSTA DEL SILENCIO', 'CEPSA')\n",
    "df_n['Proveedor de Servicio'] = df_n['Proveedor de Servicio'].str.replace('CEPSAOPER CANARIOS S,L.', 'CEPSA')\n",
    "df_n['Proveedor de Servicio'] = df_n['Proveedor de Servicio'].str.replace('CEPSATAXISTAS S.AGUSTIN', 'CEPSA')\n",
    "df_n['Proveedor de Servicio'] = df_n['Proveedor de Servicio'].str.replace('CEPSAOTROSARROCEROS B.G.', 'CEPSA')\n",
    "df_n['Proveedor de Servicio'] = df_n['Proveedor de Servicio'].str.replace('CEPSAOTROS AGROJARA, SCA', 'CEPSA')\n",
    "df_n['Proveedor de Servicio'] = df_n['Proveedor de Servicio'].str.replace('CEPSACOD DE LOS VIOTROSS', 'CEPSA')\n",
    "df_n['Proveedor de Servicio'] = df_n['Proveedor de Servicio'].str.replace('CEPSALAS TORRES (TEXACO)', 'CEPSA')\n",
    "df_n['Proveedor de Servicio'] = df_n['Proveedor de Servicio'].str.replace('CEPSAOPER CANARIOS S,L.', 'CEPSA')\n",
    "df_n['Proveedor de Servicio'] = df_n['Proveedor de Servicio'].str.replace('CEPSAOTROSLA DEHESA S.C.A.', 'CEPSA')\n",
    "df_n['Proveedor de Servicio'] = df_n['Proveedor de Servicio'].str.replace('CEPSALOS PORTALES (TEXACO)', 'CEPSA')\n",
    "df_n['Proveedor de Servicio'] = df_n['Proveedor de Servicio'].str.replace('CEPSAOTROS LOS FILABRES SCA', 'CEPSA')\n",
    "df_n['Proveedor de Servicio'] = df_n['Proveedor de Servicio'].str.replace('CEPSAOTROSCOOP. SAN DIONISIO', 'CEPSA')\n",
    "df_n['Proveedor de Servicio'] = df_n['Proveedor de Servicio'].str.replace('CEPSACIUDAD DEL AUTOMÓVIL 365', 'CEPSA')\n",
    "df_n['Proveedor de Servicio'] = df_n['Proveedor de Servicio'].str.replace('CEPSALISBOA', 'CEPSA')\n",
    "df_n['Proveedor de Servicio'] = df_n['Proveedor de Servicio'].str.replace('E.S. CEPSACHIO', 'CEPSA')\n",
    "df_n['Proveedor de Servicio'] = df_n['Proveedor de Servicio'].str.replace('CEPSALOS LLAOTROSS OTROS GRANAD', 'CEPSA')\n",
    "df_n['Proveedor de Servicio'] = df_n['Proveedor de Servicio'].str.replace('CEPSALOS LLAOTROSS OTROS GRANADILLA', 'CEPSA')\n",
    "df_n['Proveedor de Servicio'] = df_n['Proveedor de Servicio'].str.replace('CEPSAVALLECASOTROSLA ATALAYUELA 365', 'CEPSA')\n",
    "df_n['Proveedor de Servicio'] = df_n['Proveedor de Servicio'].str.replace('E.S. CEPSALA CALETA', 'CEPSA')\n",
    "df_n['Proveedor de Servicio'] = df_n['Proveedor de Servicio'].str.replace('CEPSALAS TORRES (TEXACO)', 'CEPSA')\n",
    "df_n['Proveedor de Servicio'] = df_n['Proveedor de Servicio'].str.replace('CEPSAILLA', 'CEPSA')\n",
    "df_n['Proveedor de Servicio'] = df_n['Proveedor de Servicio'].str.replace('CEPSAOPER CANARIOS S,L.', 'CEPSA')\n",
    "df_n['Proveedor de Servicio'] = df_n['Proveedor de Servicio'].str.replace('CEPSALOS PORTALES (TEXACO)', 'CEPSA')\n",
    "df_n['Proveedor de Servicio'] = df_n['Proveedor de Servicio'].str.replace('CEPSA  ', 'CEPSA')\n",
    "df_n['Proveedor de Servicio'] = df_n['Proveedor de Servicio'].str.replace(' CEPSA', 'CEPSA')\n",
    "df_n['Proveedor de Servicio'] = df_n['Proveedor de Servicio'].str.replace('CEPSAOPER CANARIOS S,L.', 'CEPSA')\n",
    "df_n['Proveedor de Servicio'] = df_n['Proveedor de Servicio'].str.replace('ES EL CALEYU Nº 229OTROS5CEPSA', 'CEPSA')\n",
    "df_n['Proveedor de Servicio'] = df_n['Proveedor de Servicio'].str.replace('E.S.CEPSAPONTEBRANCA', 'CEPSA')\n",
    "df_n['Proveedor de Servicio'] = df_n['Proveedor de Servicio'].str.replace('ES VILAMARINACEPSA', 'CEPSA')\n",
    "df_n['Proveedor de Servicio'] = df_n['Proveedor de Servicio'].str.replace('FUNDACION AIDACEPSA', 'CEPSA')\n",
    "df_n['Proveedor de Servicio'] = df_n['Proveedor de Servicio'].str.replace('ES MIRALBUEOTROSCEPSA', 'CEPSA')\n",
    "df_n['Proveedor de Servicio'] = df_n['Proveedor de Servicio'].str.replace('EMPRESA DEL GRUPOCEPSA', 'CEPSA')\n",
    "df_n['Proveedor de Servicio'] = df_n['Proveedor de Servicio'].str.replace('CEPSAOPER CANARIOS S,L.', 'CEPSA')\n",
    "\n",
    "df_n['Proveedor de Servicio'] = df_n['Proveedor de Servicio'].str.replace('BP \\w[a-zA-Z0-9_]', 'BP')\n",
    "df_n['Proveedor de Servicio'] = df_n['Proveedor de Servicio'].str.replace('BP\\w[a-zA-Z0-9_]', 'BP')\n",
    "\n",
    "#df_n['Proveedor de Servicio'] = df_n['Proveedor de Servicio'].str.replace('SHELL /[^A-Z]/', 'SHELL')\n",
    "#df_n['Proveedor de Servicio'] = df_n['Proveedor de Servicio'].str.replace('SHELL/[^A-Z]/', 'SHELL')\n",
    "#df_n['Proveedor de Servicio'] = df_n['Proveedor de Servicio'].str.replace('SHELL ', 'SHELL')\n",
    "#df_n['Proveedor de Servicio'] = df_n['Proveedor de Servicio'].str.replace(' SHELL', 'SHELL')\n",
    "\n",
    "df_n['Proveedor de Servicio'] = df_n['Proveedor de Servicio'].str.replace('SHELL \\S*', 'SHELL')\n",
    "df_n['Proveedor de Servicio'] = df_n['Proveedor de Servicio'].str.replace('SHELL \\S[a-zA-Z0-9_]*', 'SHELL')\n",
    "df_n['Proveedor de Servicio'] = df_n['Proveedor de Servicio'].str.replace('SHELL VIOTROSS','SHELL')\n",
    "df_n['Proveedor de Servicio'] = df_n['Proveedor de Servicio'].str.replace('E.S SHELL','SHELL')\n",
    "df_n['Proveedor de Servicio'] = df_n['Proveedor de Servicio'].str.replace('LUGO SHELL','SHELL')\n",
    "df_n['Proveedor de Servicio'] "
   ]
  },
  {
   "cell_type": "code",
   "execution_count": 133,
   "id": "f71973c7",
   "metadata": {},
   "outputs": [
    {
     "ename": "AttributeError",
     "evalue": "'Series' object has no attribute 'find'",
     "output_type": "error",
     "traceback": [
      "\u001b[1;31m---------------------------------------------------------------------------\u001b[0m",
      "\u001b[1;31mAttributeError\u001b[0m                            Traceback (most recent call last)",
      "Input \u001b[1;32mIn [133]\u001b[0m, in \u001b[0;36m<cell line: 1>\u001b[1;34m()\u001b[0m\n\u001b[1;32m----> 1\u001b[0m df_n[\u001b[38;5;124m'\u001b[39m\u001b[38;5;124mProveedor de Servicio\u001b[39m\u001b[38;5;124m'\u001b[39m] \u001b[38;5;241m=\u001b[39m \u001b[43mdf_n\u001b[49m\u001b[43m[\u001b[49m\u001b[38;5;124;43m'\u001b[39;49m\u001b[38;5;124;43mProveedor de Servicio\u001b[39;49m\u001b[38;5;124;43m'\u001b[39;49m\u001b[43m]\u001b[49m\u001b[38;5;241;43m.\u001b[39;49m\u001b[43mfind\u001b[49m(\u001b[38;5;124m'\u001b[39m\u001b[38;5;124mBP\u001b[39m\u001b[38;5;124m'\u001b[39m)\n",
      "File \u001b[1;32m~\\miniconda3\\envs\\m1_ih\\lib\\site-packages\\pandas\\core\\generic.py:5575\u001b[0m, in \u001b[0;36mNDFrame.__getattr__\u001b[1;34m(self, name)\u001b[0m\n\u001b[0;32m   5568\u001b[0m \u001b[38;5;28;01mif\u001b[39;00m (\n\u001b[0;32m   5569\u001b[0m     name \u001b[38;5;129;01mnot\u001b[39;00m \u001b[38;5;129;01min\u001b[39;00m \u001b[38;5;28mself\u001b[39m\u001b[38;5;241m.\u001b[39m_internal_names_set\n\u001b[0;32m   5570\u001b[0m     \u001b[38;5;129;01mand\u001b[39;00m name \u001b[38;5;129;01mnot\u001b[39;00m \u001b[38;5;129;01min\u001b[39;00m \u001b[38;5;28mself\u001b[39m\u001b[38;5;241m.\u001b[39m_metadata\n\u001b[0;32m   5571\u001b[0m     \u001b[38;5;129;01mand\u001b[39;00m name \u001b[38;5;129;01mnot\u001b[39;00m \u001b[38;5;129;01min\u001b[39;00m \u001b[38;5;28mself\u001b[39m\u001b[38;5;241m.\u001b[39m_accessors\n\u001b[0;32m   5572\u001b[0m     \u001b[38;5;129;01mand\u001b[39;00m \u001b[38;5;28mself\u001b[39m\u001b[38;5;241m.\u001b[39m_info_axis\u001b[38;5;241m.\u001b[39m_can_hold_identifiers_and_holds_name(name)\n\u001b[0;32m   5573\u001b[0m ):\n\u001b[0;32m   5574\u001b[0m     \u001b[38;5;28;01mreturn\u001b[39;00m \u001b[38;5;28mself\u001b[39m[name]\n\u001b[1;32m-> 5575\u001b[0m \u001b[38;5;28;01mreturn\u001b[39;00m \u001b[38;5;28;43mobject\u001b[39;49m\u001b[38;5;241;43m.\u001b[39;49m\u001b[38;5;21;43m__getattribute__\u001b[39;49m\u001b[43m(\u001b[49m\u001b[38;5;28;43mself\u001b[39;49m\u001b[43m,\u001b[49m\u001b[43m \u001b[49m\u001b[43mname\u001b[49m\u001b[43m)\u001b[49m\n",
      "\u001b[1;31mAttributeError\u001b[0m: 'Series' object has no attribute 'find'"
     ]
    }
   ],
   "source": [
    "df_n['Proveedor de Servicio'] = df_n['Proveedor de Servicio'].find('BP')\n"
   ]
  },
  {
   "cell_type": "code",
   "execution_count": null,
   "id": "76ccba4f",
   "metadata": {},
   "outputs": [],
   "source": []
  },
  {
   "cell_type": "code",
   "execution_count": 134,
   "id": "5f465a5c",
   "metadata": {},
   "outputs": [],
   "source": [
    "# Guardamos df original para sucesion de tiempo\n",
    "df_n.to_csv('df_sample.csv', index=False)"
   ]
  },
  {
   "cell_type": "code",
   "execution_count": 135,
   "id": "32cb382f",
   "metadata": {
    "scrolled": true
   },
   "outputs": [
    {
     "name": "stdout",
     "output_type": "stream",
     "text": [
      "<class 'pandas.core.frame.DataFrame'>\n",
      "Int64Index: 11842 entries, 2916 to 544\n",
      "Data columns (total 24 columns):\n",
      " #   Column                      Non-Null Count  Dtype  \n",
      "---  ------                      --------------  -----  \n",
      " 0   Fecha                       11842 non-null  object \n",
      " 1   C.P.                        11842 non-null  object \n",
      " 2   Dirección                   11842 non-null  object \n",
      " 3   Horario                     11842 non-null  object \n",
      " 4   Latitud                     11842 non-null  object \n",
      " 5   Localidad                   11842 non-null  object \n",
      " 6   Longitud (WGS84)            11842 non-null  object \n",
      " 7   Municipio                   11842 non-null  object \n",
      " 8   Gasoleo A                   11497 non-null  float64\n",
      " 9   Gasoleo B                   3014 non-null   float64\n",
      " 10  Gasoleo Premium             7529 non-null   float64\n",
      " 11  Gasolina 95 E5              10697 non-null  float64\n",
      " 12  Gasolina 98 E5              5946 non-null   float64\n",
      " 13  Provincia                   11842 non-null  object \n",
      " 14  Proveedor de Servicio       11842 non-null  string \n",
      " 15  IDEESS                      11842 non-null  object \n",
      " 16  IDMunicipio                 11842 non-null  object \n",
      " 17  IDProvincia                 11842 non-null  object \n",
      " 18  IDCCAA                      11842 non-null  object \n",
      " 19  Media Nacional Gasoleo A    11842 non-null  float64\n",
      " 20  Media Nacional Gasoleo B    11842 non-null  float64\n",
      " 21  Media Nacional Gasoleo P    11842 non-null  float64\n",
      " 22  Media Nacional Gasolina 95  11842 non-null  float64\n",
      " 23  Media Nacional Gasolina 98  11842 non-null  float64\n",
      "dtypes: float64(10), object(13), string(1)\n",
      "memory usage: 2.3+ MB\n"
     ]
    }
   ],
   "source": [
    "df_n.info()"
   ]
  },
  {
   "cell_type": "code",
   "execution_count": 136,
   "id": "bca523aa",
   "metadata": {},
   "outputs": [
    {
     "name": "stdout",
     "output_type": "stream",
     "text": [
      "<class 'pandas.core.series.Series'>\n"
     ]
    }
   ],
   "source": [
    "x = df_n['C.P.']\n",
    "print(type(x))\n"
   ]
  },
  {
   "cell_type": "markdown",
   "id": "9ece3cb6",
   "metadata": {},
   "source": [
    "---\n",
    "Step4\n",
    "\n",
    "\n",
    "# Desarrollo Funciones "
   ]
  },
  {
   "cell_type": "code",
   "execution_count": null,
   "id": "a2640cea",
   "metadata": {},
   "outputs": [],
   "source": [
    "# Analisis de Funciones"
   ]
  },
  {
   "cell_type": "code",
   "execution_count": null,
   "id": "6a6ddce7",
   "metadata": {
    "scrolled": true
   },
   "outputs": [],
   "source": [
    "# Analizar df_n usando .loc()\n",
    "\n",
    "df_n[df_n['C.P.'] == '28760'] "
   ]
  },
  {
   "cell_type": "code",
   "execution_count": null,
   "id": "d4a411b2",
   "metadata": {},
   "outputs": [],
   "source": [
    "df_n[['Gasoleo A']].min()"
   ]
  },
  {
   "cell_type": "code",
   "execution_count": null,
   "id": "3b1f1e51",
   "metadata": {},
   "outputs": [],
   "source": [
    "type(df_n[['Gasoleo A']].min())"
   ]
  },
  {
   "cell_type": "code",
   "execution_count": null,
   "id": "90b1365c",
   "metadata": {},
   "outputs": [],
   "source": [
    "df_n[['Gasoleo A']].idxmin()"
   ]
  },
  {
   "cell_type": "code",
   "execution_count": null,
   "id": "2e862788",
   "metadata": {},
   "outputs": [],
   "source": [
    "type(df_n[['Gasoleo A']].idxmin())"
   ]
  },
  {
   "cell_type": "code",
   "execution_count": null,
   "id": "9de51546",
   "metadata": {},
   "outputs": [],
   "source": [
    "#df_n.loc[df_n[['Gasoleo A']].min()]"
   ]
  },
  {
   "cell_type": "code",
   "execution_count": null,
   "id": "6189b48b",
   "metadata": {},
   "outputs": [],
   "source": [
    "#df_n.head()"
   ]
  },
  {
   "cell_type": "code",
   "execution_count": null,
   "id": "2532402d",
   "metadata": {},
   "outputs": [],
   "source": [
    "#df_n.loc[1.290]"
   ]
  },
  {
   "cell_type": "code",
   "execution_count": null,
   "id": "eaca1f27",
   "metadata": {},
   "outputs": [],
   "source": [
    "df_n.index"
   ]
  },
  {
   "cell_type": "code",
   "execution_count": null,
   "id": "c8047416",
   "metadata": {},
   "outputs": [],
   "source": [
    "type(df_n.loc[df_n[['Gasoleo A']].idxmin()])"
   ]
  },
  {
   "cell_type": "code",
   "execution_count": null,
   "id": "5f0aaab8",
   "metadata": {},
   "outputs": [],
   "source": [
    "type(df_n.loc[9213])"
   ]
  },
  {
   "cell_type": "code",
   "execution_count": null,
   "id": "aeca5642",
   "metadata": {},
   "outputs": [],
   "source": [
    "a = df_n.groupby(by=[\"Municipio\"])\n",
    "a"
   ]
  },
  {
   "cell_type": "code",
   "execution_count": null,
   "id": "4afac610",
   "metadata": {},
   "outputs": [],
   "source": [
    "b = a[\"C.P.\"].unique()\n",
    "b"
   ]
  },
  {
   "cell_type": "markdown",
   "id": "3f8e8e7f",
   "metadata": {},
   "source": [
    "# Funciones"
   ]
  },
  {
   "cell_type": "code",
   "execution_count": null,
   "id": "ebf8ea98",
   "metadata": {},
   "outputs": [],
   "source": [
    "# Precio mínimo de combstible en un codigo postal \n",
    "def cp_minimo(x,y):\n",
    "# x = Código Postal\n",
    "# y = Tipo de combustible para el precio mínimo\n",
    "    cod_postal = df_n[df_n['C.P.'] == x]\n",
    "    combustible = cod_postal.loc[cod_postal[[y]].idxmin()]\n",
    "    return combustible\n"
   ]
  },
  {
   "cell_type": "code",
   "execution_count": null,
   "id": "e31206c6",
   "metadata": {},
   "outputs": [],
   "source": [
    "cp_minimo('28760', 'Gasoleo A')"
   ]
  },
  {
   "cell_type": "markdown",
   "id": "2279f697",
   "metadata": {},
   "source": [
    "---"
   ]
  },
  {
   "cell_type": "code",
   "execution_count": null,
   "id": "ee65c0fb",
   "metadata": {},
   "outputs": [],
   "source": [
    "df_n[df_n['C.P.'] == \"28500\"]"
   ]
  },
  {
   "cell_type": "code",
   "execution_count": null,
   "id": "2b4ed723",
   "metadata": {},
   "outputs": [],
   "source": [
    "# Comprobación\n",
    "x1 = df_n[\"C.P.\"]=='28609'\n",
    "x2 = df_n[x1]\n",
    "x2"
   ]
  },
  {
   "cell_type": "code",
   "execution_count": null,
   "id": "c5f55514",
   "metadata": {},
   "outputs": [],
   "source": [
    "########\n",
    "def cp_media(x):\n",
    "# x = Código Postal\n",
    "# y = Tipo de combustible para el precio mínimo\n",
    "    cod_postal = df_n[df_n['C.P.'] == x]\n",
    "    media_cp = cod_postal[['Gasoleo A']].mean()\n",
    "    return media_cp"
   ]
  },
  {
   "cell_type": "code",
   "execution_count": null,
   "id": "6b9180a1",
   "metadata": {},
   "outputs": [],
   "source": [
    "#####Comprobacion#####\n",
    "cp_media('28760')\n"
   ]
  },
  {
   "cell_type": "code",
   "execution_count": null,
   "id": "76cc76f7",
   "metadata": {},
   "outputs": [],
   "source": [
    "# Precio mínimo de combstible en una Provincia  \n",
    "def provincia_minimo(x, y):\n",
    "# x = Provincia\n",
    "# y = tipo de combustible     \n",
    "    provincia = df_n[df_n[\"Provincia\"] == x]\n",
    "    minimo_prov = provincia.loc[provincia[[y]].idxmin()]\n",
    "    return minimo_prov"
   ]
  },
  {
   "cell_type": "code",
   "execution_count": null,
   "id": "9e76f0ba",
   "metadata": {},
   "outputs": [],
   "source": [
    "provincia_minimo('MADRID', 'Gasoleo A')"
   ]
  },
  {
   "cell_type": "code",
   "execution_count": null,
   "id": "94daf5b4",
   "metadata": {},
   "outputs": [],
   "source": [
    "# Precio mínimo de combstible en un Municipio  \n",
    "def municipio_minimo(x, y):\n",
    "# x = Municipio\n",
    "# y = Tipo de Combustible    \n",
    "    municipio = df_n[df_n[\"Municipio\"] == x]\n",
    "    municipio_min = municipio.loc[municipio[[y]].idxmin()]\n",
    "    return municipio"
   ]
  },
  {
   "cell_type": "code",
   "execution_count": null,
   "id": "870d8abe",
   "metadata": {},
   "outputs": [],
   "source": [
    "municipio_minimo('Cercedilla', 'Gasoleo A')"
   ]
  },
  {
   "cell_type": "code",
   "execution_count": null,
   "id": "9f08be70",
   "metadata": {},
   "outputs": [],
   "source": [
    "# # Precio mínimo de combstible en un proveedor de estación de servicio  \n",
    "def gasolinera_minimo(x, y):\n",
    "# x = Proveedor de estación de servicio\n",
    "# Y = Tipo de Combustible    \n",
    "    proveedor = df_n[df_n[\"Proveedor de Servicio\"] == x]\n",
    "    minimo_prov = proveedor.loc[proveedor[[y]].idxmin()]\n",
    "    return minimo_prov"
   ]
  },
  {
   "cell_type": "code",
   "execution_count": null,
   "id": "c3776eb1",
   "metadata": {},
   "outputs": [],
   "source": [
    "gasolinera_minimo('REPSOL', 'Gasoleo A')"
   ]
  },
  {
   "cell_type": "code",
   "execution_count": null,
   "id": "07fe3213",
   "metadata": {},
   "outputs": [],
   "source": [
    "# Función para convertir códigos postales\n",
    "def convert(x):\n",
    "# x: Municipio    \n",
    "    municipio = df_n[df_n[\"Municipio\"] == x]\n",
    "    cp = municipio[[\"C.P.\", \"Municipio\", \"Proveedor de Servicio\", \"Gasoleo A\"]].min()\n",
    "    return cp\n",
    "type(convert)\n",
    "    "
   ]
  },
  {
   "cell_type": "code",
   "execution_count": null,
   "id": "ba996755",
   "metadata": {},
   "outputs": [],
   "source": [
    "convert('Móstoles')\n"
   ]
  },
  {
   "cell_type": "code",
   "execution_count": null,
   "id": "84f7107e",
   "metadata": {},
   "outputs": [],
   "source": []
  },
  {
   "cell_type": "code",
   "execution_count": null,
   "id": "752fcb3c",
   "metadata": {},
   "outputs": [],
   "source": [
    "# Listado de Estaciones de Servicio por Municipio por Municipio\n",
    "# x: Municipio\n",
    "def gasolineras_municipio(x):\n",
    "    municipio = df_n[df_n[\"Municipio\"] == x]\n",
    "    eess_mun = pd.DataFrame(municipio[[\"Proveedor de Servicio\"]])\n",
    "    return eess_mun\n"
   ]
  },
  {
   "cell_type": "code",
   "execution_count": null,
   "id": "9f8ea85c",
   "metadata": {},
   "outputs": [],
   "source": [
    "gasolineras_municipio('Navalcarnero')"
   ]
  },
  {
   "cell_type": "code",
   "execution_count": null,
   "id": "42d352ec",
   "metadata": {},
   "outputs": [],
   "source": [
    "# Listado de Gasolineras por Provincia\n",
    "#x=Provincia\n",
    "def gasolineras_provincia(x):\n",
    "    cp_x = df_n[df_n[\"Provincia\"] == x]\n",
    "    return cp_x\n"
   ]
  },
  {
   "cell_type": "code",
   "execution_count": null,
   "id": "fb0d41d2",
   "metadata": {},
   "outputs": [],
   "source": [
    "gasolineras_provincia('HUELVA')"
   ]
  },
  {
   "cell_type": "code",
   "execution_count": null,
   "id": "fe00f1c5",
   "metadata": {},
   "outputs": [],
   "source": [
    "# Listado de Gasolineras por Código Postal:\n",
    "# x: código postal\n",
    "def gasolineras_cp(x):\n",
    "    cp = df_n[df_n[\"C.P.\"] == x]\n",
    "    return cp"
   ]
  },
  {
   "cell_type": "code",
   "execution_count": null,
   "id": "858df679",
   "metadata": {},
   "outputs": [],
   "source": [
    "gasolineras_cp('28500')"
   ]
  },
  {
   "cell_type": "code",
   "execution_count": null,
   "id": "3542af36",
   "metadata": {},
   "outputs": [],
   "source": [
    "df_n.dropna()"
   ]
  },
  {
   "cell_type": "code",
   "execution_count": null,
   "id": "5554abd0",
   "metadata": {},
   "outputs": [],
   "source": []
  },
  {
   "cell_type": "code",
   "execution_count": null,
   "id": "9bdeaf58",
   "metadata": {},
   "outputs": [],
   "source": []
  },
  {
   "cell_type": "code",
   "execution_count": null,
   "id": "7ea9bb56",
   "metadata": {},
   "outputs": [],
   "source": []
  },
  {
   "cell_type": "code",
   "execution_count": null,
   "id": "993e45ed",
   "metadata": {},
   "outputs": [],
   "source": [
    "\n",
    "\n"
   ]
  }
 ],
 "metadata": {
  "kernelspec": {
   "display_name": "Python [conda env:m1_ih]",
   "language": "python",
   "name": "conda-env-m1_ih-py"
  },
  "language_info": {
   "codemirror_mode": {
    "name": "ipython",
    "version": 3
   },
   "file_extension": ".py",
   "mimetype": "text/x-python",
   "name": "python",
   "nbconvert_exporter": "python",
   "pygments_lexer": "ipython3",
   "version": "3.9.12"
  }
 },
 "nbformat": 4,
 "nbformat_minor": 5
}
