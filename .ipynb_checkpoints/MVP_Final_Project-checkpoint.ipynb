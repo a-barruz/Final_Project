{
 "cells": [
  {
   "cell_type": "markdown",
   "id": "3e6982b2",
   "metadata": {},
   "source": [
    "## MVP"
   ]
  },
  {
   "cell_type": "code",
   "execution_count": 1,
   "id": "2cef25b8",
   "metadata": {},
   "outputs": [],
   "source": [
    "# Imports\n",
    "\n",
    "# Pandas\n",
    "import pandas as pd \n",
    "\n",
    "# Importo libreria para conexión a API\n",
    "from urllib.request import urlopen\n",
    "\n",
    "# Importo libreria Json para que lea\n",
    "import json\n",
    "\n",
    "#Normalizar Json\n",
    "from pandas.io.json import json_normalize\n"
   ]
  },
  {
   "cell_type": "markdown",
   "id": "9397380f",
   "metadata": {},
   "source": [
    "---\n",
    "Step 1 (Data Extraction)"
   ]
  },
  {
   "cell_type": "code",
   "execution_count": 2,
   "id": "55515f32",
   "metadata": {},
   "outputs": [],
   "source": [
    "# Definir las variables donde meto el string que contiene la URL\n",
    "\n",
    "endpoint ='https://sedeaplicaciones.minetur.gob.es'\n",
    "parametros = '/ServiciosRESTCarburantes/PreciosCarburantes/EstacionesTerrestres/'\n"
   ]
  },
  {
   "cell_type": "code",
   "execution_count": 3,
   "id": "2d466973",
   "metadata": {},
   "outputs": [
    {
     "data": {
      "text/plain": [
       "http.client.HTTPResponse"
      ]
     },
     "execution_count": 3,
     "metadata": {},
     "output_type": "execute_result"
    }
   ],
   "source": [
    "# Vamos a guardar en una variable nuestros datos (resultado, comida) \n",
    "\n",
    "response = urlopen(endpoint+parametros)\n",
    "type(response)\n"
   ]
  },
  {
   "cell_type": "code",
   "execution_count": 4,
   "id": "0031d835",
   "metadata": {},
   "outputs": [
    {
     "data": {
      "text/plain": [
       "dict"
      ]
     },
     "execution_count": 4,
     "metadata": {},
     "output_type": "execute_result"
    }
   ],
   "source": [
    "# Vamos a extraer del obejto, los datos\n",
    "\n",
    "data = response.read().decode('utf-8', 'replace')\n",
    "data = json.loads(data)\n",
    "type(data)\n"
   ]
  },
  {
   "cell_type": "code",
   "execution_count": 5,
   "id": "501a7f08",
   "metadata": {},
   "outputs": [
    {
     "data": {
      "text/html": [
       "<div>\n",
       "<style scoped>\n",
       "    .dataframe tbody tr th:only-of-type {\n",
       "        vertical-align: middle;\n",
       "    }\n",
       "\n",
       "    .dataframe tbody tr th {\n",
       "        vertical-align: top;\n",
       "    }\n",
       "\n",
       "    .dataframe thead th {\n",
       "        text-align: right;\n",
       "    }\n",
       "</style>\n",
       "<table border=\"1\" class=\"dataframe\">\n",
       "  <thead>\n",
       "    <tr style=\"text-align: right;\">\n",
       "      <th></th>\n",
       "      <th>Fecha</th>\n",
       "      <th>ListaEESSPrecio</th>\n",
       "      <th>Nota</th>\n",
       "      <th>ResultadoConsulta</th>\n",
       "    </tr>\n",
       "  </thead>\n",
       "  <tbody>\n",
       "    <tr>\n",
       "      <th>0</th>\n",
       "      <td>07/11/2022 21:23:55</td>\n",
       "      <td>{'C.P.': '02250', 'Dirección': 'AVENIDA CASTIL...</td>\n",
       "      <td>Archivo de todos los productos en todas las es...</td>\n",
       "      <td>OK</td>\n",
       "    </tr>\n",
       "    <tr>\n",
       "      <th>1</th>\n",
       "      <td>07/11/2022 21:23:55</td>\n",
       "      <td>{'C.P.': '02152', 'Dirección': 'CR CM-332, 46,...</td>\n",
       "      <td>Archivo de todos los productos en todas las es...</td>\n",
       "      <td>OK</td>\n",
       "    </tr>\n",
       "    <tr>\n",
       "      <th>2</th>\n",
       "      <td>07/11/2022 21:23:55</td>\n",
       "      <td>{'C.P.': '02001', 'Dirección': 'CALLE PRINCIPE...</td>\n",
       "      <td>Archivo de todos los productos en todas las es...</td>\n",
       "      <td>OK</td>\n",
       "    </tr>\n",
       "    <tr>\n",
       "      <th>3</th>\n",
       "      <td>07/11/2022 21:23:55</td>\n",
       "      <td>{'C.P.': '02001', 'Dirección': 'AVENIDA 1º DE ...</td>\n",
       "      <td>Archivo de todos los productos en todas las es...</td>\n",
       "      <td>OK</td>\n",
       "    </tr>\n",
       "    <tr>\n",
       "      <th>4</th>\n",
       "      <td>07/11/2022 21:23:55</td>\n",
       "      <td>{'C.P.': '02001', 'Dirección': 'CALLE FEDERICO...</td>\n",
       "      <td>Archivo de todos los productos en todas las es...</td>\n",
       "      <td>OK</td>\n",
       "    </tr>\n",
       "    <tr>\n",
       "      <th>...</th>\n",
       "      <td>...</td>\n",
       "      <td>...</td>\n",
       "      <td>...</td>\n",
       "      <td>...</td>\n",
       "    </tr>\n",
       "    <tr>\n",
       "      <th>11787</th>\n",
       "      <td>07/11/2022 21:23:55</td>\n",
       "      <td>{'C.P.': '50197', 'Dirección': 'RONDA FERIA DE...</td>\n",
       "      <td>Archivo de todos los productos en todas las es...</td>\n",
       "      <td>OK</td>\n",
       "    </tr>\n",
       "    <tr>\n",
       "      <th>11788</th>\n",
       "      <td>07/11/2022 21:23:55</td>\n",
       "      <td>{'C.P.': '50197', 'Dirección': 'POLIGONO CALLE...</td>\n",
       "      <td>Archivo de todos los productos en todas las es...</td>\n",
       "      <td>OK</td>\n",
       "    </tr>\n",
       "    <tr>\n",
       "      <th>11789</th>\n",
       "      <td>07/11/2022 21:23:55</td>\n",
       "      <td>{'C.P.': '50800', 'Dirección': 'CARRETERA N-33...</td>\n",
       "      <td>Archivo de todos los productos en todas las es...</td>\n",
       "      <td>OK</td>\n",
       "    </tr>\n",
       "    <tr>\n",
       "      <th>11790</th>\n",
       "      <td>07/11/2022 21:23:55</td>\n",
       "      <td>{'C.P.': '50800', 'Dirección': 'CALLE AUSTRIA,...</td>\n",
       "      <td>Archivo de todos los productos en todas las es...</td>\n",
       "      <td>OK</td>\n",
       "    </tr>\n",
       "    <tr>\n",
       "      <th>11791</th>\n",
       "      <td>07/11/2022 21:23:55</td>\n",
       "      <td>{'C.P.': '50810', 'Dirección': 'CALLE COOPERAT...</td>\n",
       "      <td>Archivo de todos los productos en todas las es...</td>\n",
       "      <td>OK</td>\n",
       "    </tr>\n",
       "  </tbody>\n",
       "</table>\n",
       "<p>11792 rows × 4 columns</p>\n",
       "</div>"
      ],
      "text/plain": [
       "                     Fecha                                    ListaEESSPrecio  \\\n",
       "0      07/11/2022 21:23:55  {'C.P.': '02250', 'Dirección': 'AVENIDA CASTIL...   \n",
       "1      07/11/2022 21:23:55  {'C.P.': '02152', 'Dirección': 'CR CM-332, 46,...   \n",
       "2      07/11/2022 21:23:55  {'C.P.': '02001', 'Dirección': 'CALLE PRINCIPE...   \n",
       "3      07/11/2022 21:23:55  {'C.P.': '02001', 'Dirección': 'AVENIDA 1º DE ...   \n",
       "4      07/11/2022 21:23:55  {'C.P.': '02001', 'Dirección': 'CALLE FEDERICO...   \n",
       "...                    ...                                                ...   \n",
       "11787  07/11/2022 21:23:55  {'C.P.': '50197', 'Dirección': 'RONDA FERIA DE...   \n",
       "11788  07/11/2022 21:23:55  {'C.P.': '50197', 'Dirección': 'POLIGONO CALLE...   \n",
       "11789  07/11/2022 21:23:55  {'C.P.': '50800', 'Dirección': 'CARRETERA N-33...   \n",
       "11790  07/11/2022 21:23:55  {'C.P.': '50800', 'Dirección': 'CALLE AUSTRIA,...   \n",
       "11791  07/11/2022 21:23:55  {'C.P.': '50810', 'Dirección': 'CALLE COOPERAT...   \n",
       "\n",
       "                                                    Nota ResultadoConsulta  \n",
       "0      Archivo de todos los productos en todas las es...                OK  \n",
       "1      Archivo de todos los productos en todas las es...                OK  \n",
       "2      Archivo de todos los productos en todas las es...                OK  \n",
       "3      Archivo de todos los productos en todas las es...                OK  \n",
       "4      Archivo de todos los productos en todas las es...                OK  \n",
       "...                                                  ...               ...  \n",
       "11787  Archivo de todos los productos en todas las es...                OK  \n",
       "11788  Archivo de todos los productos en todas las es...                OK  \n",
       "11789  Archivo de todos los productos en todas las es...                OK  \n",
       "11790  Archivo de todos los productos en todas las es...                OK  \n",
       "11791  Archivo de todos los productos en todas las es...                OK  \n",
       "\n",
       "[11792 rows x 4 columns]"
      ]
     },
     "execution_count": 5,
     "metadata": {},
     "output_type": "execute_result"
    }
   ],
   "source": [
    "# Crear Dataframe\n",
    "\n",
    "df = pd.DataFrame(data)\n",
    "df"
   ]
  },
  {
   "cell_type": "markdown",
   "id": "bf936489",
   "metadata": {},
   "source": [
    "---\n",
    "\n",
    "Step 2 (Data Transformation)"
   ]
  },
  {
   "cell_type": "code",
   "execution_count": 6,
   "id": "82a65952",
   "metadata": {},
   "outputs": [
    {
     "data": {
      "text/plain": [
       "dict"
      ]
     },
     "execution_count": 6,
     "metadata": {},
     "output_type": "execute_result"
    }
   ],
   "source": [
    "# Análisis de la columna Lista EESS Precio\n",
    "\n",
    "diccionario = df['ListaEESSPrecio'].iloc[1]\n",
    "type(diccionario)"
   ]
  },
  {
   "cell_type": "code",
   "execution_count": 7,
   "id": "3207dce3",
   "metadata": {},
   "outputs": [
    {
     "data": {
      "text/plain": [
       "{'C.P.': '02152',\n",
       " 'Dirección': 'CR CM-332, 46,4',\n",
       " 'Horario': 'L-D: 7:00-23:00',\n",
       " 'Latitud': '39,100389',\n",
       " 'Localidad': 'ALATOZ',\n",
       " 'Longitud (WGS84)': '-1,346083',\n",
       " 'Margen': 'I',\n",
       " 'Municipio': 'Alatoz',\n",
       " 'Precio Biodiesel': '',\n",
       " 'Precio Bioetanol': '',\n",
       " 'Precio Gas Natural Comprimido': '',\n",
       " 'Precio Gas Natural Licuado': '',\n",
       " 'Precio Gases licuados del petróleo': '',\n",
       " 'Precio Gasoleo A': '2,040',\n",
       " 'Precio Gasoleo B': '',\n",
       " 'Precio Gasoleo Premium': '2,300',\n",
       " 'Precio Gasolina 95 E10': '',\n",
       " 'Precio Gasolina 95 E5': '1,909',\n",
       " 'Precio Gasolina 95 E5 Premium': '',\n",
       " 'Precio Gasolina 98 E10': '',\n",
       " 'Precio Gasolina 98 E5': '2,200',\n",
       " 'Precio Hidrogeno': '',\n",
       " 'Provincia': 'ALBACETE',\n",
       " 'Remisión': 'dm',\n",
       " 'Rótulo': 'REPSOL',\n",
       " 'Tipo Venta': 'P',\n",
       " '% BioEtanol': '0,0',\n",
       " '% Éster metílico': '0,0',\n",
       " 'IDEESS': '5122',\n",
       " 'IDMunicipio': '53',\n",
       " 'IDProvincia': '02',\n",
       " 'IDCCAA': '07'}"
      ]
     },
     "execution_count": 7,
     "metadata": {},
     "output_type": "execute_result"
    }
   ],
   "source": [
    "diccionario"
   ]
  },
  {
   "cell_type": "code",
   "execution_count": 8,
   "id": "b1c814d5",
   "metadata": {
    "scrolled": true
   },
   "outputs": [
    {
     "data": {
      "text/html": [
       "<div>\n",
       "<style scoped>\n",
       "    .dataframe tbody tr th:only-of-type {\n",
       "        vertical-align: middle;\n",
       "    }\n",
       "\n",
       "    .dataframe tbody tr th {\n",
       "        vertical-align: top;\n",
       "    }\n",
       "\n",
       "    .dataframe thead th {\n",
       "        text-align: right;\n",
       "    }\n",
       "</style>\n",
       "<table border=\"1\" class=\"dataframe\">\n",
       "  <thead>\n",
       "    <tr style=\"text-align: right;\">\n",
       "      <th></th>\n",
       "      <th>Fecha</th>\n",
       "      <th>C.P.</th>\n",
       "      <th>Dirección</th>\n",
       "      <th>Horario</th>\n",
       "      <th>Latitud</th>\n",
       "      <th>Localidad</th>\n",
       "      <th>Longitud (WGS84)</th>\n",
       "      <th>Margen</th>\n",
       "      <th>Municipio</th>\n",
       "      <th>Precio Biodiesel</th>\n",
       "      <th>...</th>\n",
       "      <th>Provincia</th>\n",
       "      <th>Remisión</th>\n",
       "      <th>Rótulo</th>\n",
       "      <th>Tipo Venta</th>\n",
       "      <th>% BioEtanol</th>\n",
       "      <th>% Éster metílico</th>\n",
       "      <th>IDEESS</th>\n",
       "      <th>IDMunicipio</th>\n",
       "      <th>IDProvincia</th>\n",
       "      <th>IDCCAA</th>\n",
       "    </tr>\n",
       "  </thead>\n",
       "  <tbody>\n",
       "    <tr>\n",
       "      <th>0</th>\n",
       "      <td>07/11/2022 21:23:55</td>\n",
       "      <td>02250</td>\n",
       "      <td>AVENIDA CASTILLA LA MANCHA, 26</td>\n",
       "      <td>L-D: 07:00-22:00</td>\n",
       "      <td>39,211417</td>\n",
       "      <td>ABENGIBRE</td>\n",
       "      <td>-1,539167</td>\n",
       "      <td>D</td>\n",
       "      <td>Abengibre</td>\n",
       "      <td></td>\n",
       "      <td>...</td>\n",
       "      <td>ALBACETE</td>\n",
       "      <td>dm</td>\n",
       "      <td>Nº 10.935</td>\n",
       "      <td>P</td>\n",
       "      <td>0,0</td>\n",
       "      <td>0,0</td>\n",
       "      <td>4375</td>\n",
       "      <td>52</td>\n",
       "      <td>02</td>\n",
       "      <td>07</td>\n",
       "    </tr>\n",
       "    <tr>\n",
       "      <th>1</th>\n",
       "      <td>07/11/2022 21:23:55</td>\n",
       "      <td>02152</td>\n",
       "      <td>CR CM-332, 46,4</td>\n",
       "      <td>L-D: 7:00-23:00</td>\n",
       "      <td>39,100389</td>\n",
       "      <td>ALATOZ</td>\n",
       "      <td>-1,346083</td>\n",
       "      <td>I</td>\n",
       "      <td>Alatoz</td>\n",
       "      <td></td>\n",
       "      <td>...</td>\n",
       "      <td>ALBACETE</td>\n",
       "      <td>dm</td>\n",
       "      <td>REPSOL</td>\n",
       "      <td>P</td>\n",
       "      <td>0,0</td>\n",
       "      <td>0,0</td>\n",
       "      <td>5122</td>\n",
       "      <td>53</td>\n",
       "      <td>02</td>\n",
       "      <td>07</td>\n",
       "    </tr>\n",
       "    <tr>\n",
       "      <th>2</th>\n",
       "      <td>07/11/2022 21:23:55</td>\n",
       "      <td>02001</td>\n",
       "      <td>CALLE PRINCIPE DE ASTURIAS (POLÍGONO DE ROMICA...</td>\n",
       "      <td>L-D: 06:00-21:30</td>\n",
       "      <td>39,054694</td>\n",
       "      <td>ALBACETE</td>\n",
       "      <td>-1,832000</td>\n",
       "      <td>I</td>\n",
       "      <td>Albacete</td>\n",
       "      <td></td>\n",
       "      <td>...</td>\n",
       "      <td>ALBACETE</td>\n",
       "      <td>OM</td>\n",
       "      <td>BP ROMICA</td>\n",
       "      <td>P</td>\n",
       "      <td>0,0</td>\n",
       "      <td>0,0</td>\n",
       "      <td>12054</td>\n",
       "      <td>54</td>\n",
       "      <td>02</td>\n",
       "      <td>07</td>\n",
       "    </tr>\n",
       "    <tr>\n",
       "      <th>3</th>\n",
       "      <td>07/11/2022 21:23:55</td>\n",
       "      <td>02001</td>\n",
       "      <td>AVENIDA 1º DE MAYO, S/N</td>\n",
       "      <td>L-S: 08:00-22:00; D: 09:00-21:00</td>\n",
       "      <td>38,985667</td>\n",
       "      <td>ALBACETE</td>\n",
       "      <td>-1,868500</td>\n",
       "      <td>N</td>\n",
       "      <td>Albacete</td>\n",
       "      <td></td>\n",
       "      <td>...</td>\n",
       "      <td>ALBACETE</td>\n",
       "      <td>dm</td>\n",
       "      <td>CARREFOUR</td>\n",
       "      <td>P</td>\n",
       "      <td>0,0</td>\n",
       "      <td>0,0</td>\n",
       "      <td>10765</td>\n",
       "      <td>54</td>\n",
       "      <td>02</td>\n",
       "      <td>07</td>\n",
       "    </tr>\n",
       "    <tr>\n",
       "      <th>4</th>\n",
       "      <td>07/11/2022 21:23:55</td>\n",
       "      <td>02001</td>\n",
       "      <td>CALLE FEDERICO GARCIA LORCA, 1</td>\n",
       "      <td>L-D: 24H</td>\n",
       "      <td>39,000861</td>\n",
       "      <td>ALBACETE</td>\n",
       "      <td>-1,849833</td>\n",
       "      <td>D</td>\n",
       "      <td>Albacete</td>\n",
       "      <td></td>\n",
       "      <td>...</td>\n",
       "      <td>ALBACETE</td>\n",
       "      <td>dm</td>\n",
       "      <td>PLENOIL</td>\n",
       "      <td>P</td>\n",
       "      <td>0,0</td>\n",
       "      <td>0,0</td>\n",
       "      <td>13933</td>\n",
       "      <td>54</td>\n",
       "      <td>02</td>\n",
       "      <td>07</td>\n",
       "    </tr>\n",
       "    <tr>\n",
       "      <th>...</th>\n",
       "      <td>...</td>\n",
       "      <td>...</td>\n",
       "      <td>...</td>\n",
       "      <td>...</td>\n",
       "      <td>...</td>\n",
       "      <td>...</td>\n",
       "      <td>...</td>\n",
       "      <td>...</td>\n",
       "      <td>...</td>\n",
       "      <td>...</td>\n",
       "      <td>...</td>\n",
       "      <td>...</td>\n",
       "      <td>...</td>\n",
       "      <td>...</td>\n",
       "      <td>...</td>\n",
       "      <td>...</td>\n",
       "      <td>...</td>\n",
       "      <td>...</td>\n",
       "      <td>...</td>\n",
       "      <td>...</td>\n",
       "      <td>...</td>\n",
       "    </tr>\n",
       "    <tr>\n",
       "      <th>11787</th>\n",
       "      <td>07/11/2022 21:23:55</td>\n",
       "      <td>50197</td>\n",
       "      <td>RONDA FERIA DE MUESTRAS, DE LA, 20</td>\n",
       "      <td>L-D: 24H</td>\n",
       "      <td>41,637944</td>\n",
       "      <td>ZARAGOZA</td>\n",
       "      <td>-0,986389</td>\n",
       "      <td>D</td>\n",
       "      <td>Zaragoza</td>\n",
       "      <td></td>\n",
       "      <td>...</td>\n",
       "      <td>ZARAGOZA</td>\n",
       "      <td>OM</td>\n",
       "      <td>IDS</td>\n",
       "      <td>P</td>\n",
       "      <td>0,0</td>\n",
       "      <td>0,0</td>\n",
       "      <td>12472</td>\n",
       "      <td>8108</td>\n",
       "      <td>50</td>\n",
       "      <td>02</td>\n",
       "    </tr>\n",
       "    <tr>\n",
       "      <th>11788</th>\n",
       "      <td>07/11/2022 21:23:55</td>\n",
       "      <td>50197</td>\n",
       "      <td>POLIGONO CALLE TURIASO, 31</td>\n",
       "      <td>L-D: 24H</td>\n",
       "      <td>41,645722</td>\n",
       "      <td>ZARAGOZA</td>\n",
       "      <td>-0,974194</td>\n",
       "      <td>D</td>\n",
       "      <td>Zaragoza</td>\n",
       "      <td></td>\n",
       "      <td>...</td>\n",
       "      <td>ZARAGOZA</td>\n",
       "      <td>dm</td>\n",
       "      <td>NOIL</td>\n",
       "      <td>P</td>\n",
       "      <td>0,0</td>\n",
       "      <td>0,0</td>\n",
       "      <td>13917</td>\n",
       "      <td>8108</td>\n",
       "      <td>50</td>\n",
       "      <td>02</td>\n",
       "    </tr>\n",
       "    <tr>\n",
       "      <th>11789</th>\n",
       "      <td>07/11/2022 21:23:55</td>\n",
       "      <td>50800</td>\n",
       "      <td>CARRETERA N-330A KM. 24,000</td>\n",
       "      <td>L-D: 06:00-22:00</td>\n",
       "      <td>41,857000</td>\n",
       "      <td>ZUERA</td>\n",
       "      <td>-0,794000</td>\n",
       "      <td>D</td>\n",
       "      <td>Zuera</td>\n",
       "      <td></td>\n",
       "      <td>...</td>\n",
       "      <td>ZARAGOZA</td>\n",
       "      <td>OM</td>\n",
       "      <td>REPSOL</td>\n",
       "      <td>P</td>\n",
       "      <td>0,0</td>\n",
       "      <td>0,0</td>\n",
       "      <td>1452</td>\n",
       "      <td>8109</td>\n",
       "      <td>50</td>\n",
       "      <td>02</td>\n",
       "    </tr>\n",
       "    <tr>\n",
       "      <th>11790</th>\n",
       "      <td>07/11/2022 21:23:55</td>\n",
       "      <td>50800</td>\n",
       "      <td>CALLE AUSTRIA, 11,17</td>\n",
       "      <td>L-D: 24H</td>\n",
       "      <td>41,883583</td>\n",
       "      <td>ZUERA</td>\n",
       "      <td>-0,782833</td>\n",
       "      <td>D</td>\n",
       "      <td>Zuera</td>\n",
       "      <td></td>\n",
       "      <td>...</td>\n",
       "      <td>ZARAGOZA</td>\n",
       "      <td>dm</td>\n",
       "      <td>AN ENERGETICOS ZUERA</td>\n",
       "      <td>P</td>\n",
       "      <td>0,0</td>\n",
       "      <td>0,0</td>\n",
       "      <td>9085</td>\n",
       "      <td>8109</td>\n",
       "      <td>50</td>\n",
       "      <td>02</td>\n",
       "    </tr>\n",
       "    <tr>\n",
       "      <th>11791</th>\n",
       "      <td>07/11/2022 21:23:55</td>\n",
       "      <td>50810</td>\n",
       "      <td>CALLE COOPERATIVA, 2</td>\n",
       "      <td>L-D: 24H</td>\n",
       "      <td>41,938750</td>\n",
       "      <td>ONTINAR DE SALZ</td>\n",
       "      <td>-0,757611</td>\n",
       "      <td>D</td>\n",
       "      <td>Zuera</td>\n",
       "      <td></td>\n",
       "      <td>...</td>\n",
       "      <td>ZARAGOZA</td>\n",
       "      <td>dm</td>\n",
       "      <td>COOPERATIVA SAN ISIDRO</td>\n",
       "      <td>P</td>\n",
       "      <td>0,0</td>\n",
       "      <td>0,0</td>\n",
       "      <td>9068</td>\n",
       "      <td>8109</td>\n",
       "      <td>50</td>\n",
       "      <td>02</td>\n",
       "    </tr>\n",
       "  </tbody>\n",
       "</table>\n",
       "<p>11792 rows × 33 columns</p>\n",
       "</div>"
      ],
      "text/plain": [
       "                     Fecha   C.P.  \\\n",
       "0      07/11/2022 21:23:55  02250   \n",
       "1      07/11/2022 21:23:55  02152   \n",
       "2      07/11/2022 21:23:55  02001   \n",
       "3      07/11/2022 21:23:55  02001   \n",
       "4      07/11/2022 21:23:55  02001   \n",
       "...                    ...    ...   \n",
       "11787  07/11/2022 21:23:55  50197   \n",
       "11788  07/11/2022 21:23:55  50197   \n",
       "11789  07/11/2022 21:23:55  50800   \n",
       "11790  07/11/2022 21:23:55  50800   \n",
       "11791  07/11/2022 21:23:55  50810   \n",
       "\n",
       "                                               Dirección  \\\n",
       "0                         AVENIDA CASTILLA LA MANCHA, 26   \n",
       "1                                        CR CM-332, 46,4   \n",
       "2      CALLE PRINCIPE DE ASTURIAS (POLÍGONO DE ROMICA...   \n",
       "3                                AVENIDA 1º DE MAYO, S/N   \n",
       "4                         CALLE FEDERICO GARCIA LORCA, 1   \n",
       "...                                                  ...   \n",
       "11787                 RONDA FERIA DE MUESTRAS, DE LA, 20   \n",
       "11788                         POLIGONO CALLE TURIASO, 31   \n",
       "11789                        CARRETERA N-330A KM. 24,000   \n",
       "11790                               CALLE AUSTRIA, 11,17   \n",
       "11791                               CALLE COOPERATIVA, 2   \n",
       "\n",
       "                                Horario    Latitud        Localidad  \\\n",
       "0                      L-D: 07:00-22:00  39,211417        ABENGIBRE   \n",
       "1                       L-D: 7:00-23:00  39,100389           ALATOZ   \n",
       "2                      L-D: 06:00-21:30  39,054694         ALBACETE   \n",
       "3      L-S: 08:00-22:00; D: 09:00-21:00  38,985667         ALBACETE   \n",
       "4                              L-D: 24H  39,000861         ALBACETE   \n",
       "...                                 ...        ...              ...   \n",
       "11787                          L-D: 24H  41,637944         ZARAGOZA   \n",
       "11788                          L-D: 24H  41,645722         ZARAGOZA   \n",
       "11789                  L-D: 06:00-22:00  41,857000            ZUERA   \n",
       "11790                          L-D: 24H  41,883583            ZUERA   \n",
       "11791                          L-D: 24H  41,938750  ONTINAR DE SALZ   \n",
       "\n",
       "      Longitud (WGS84) Margen  Municipio Precio Biodiesel  ... Provincia  \\\n",
       "0            -1,539167      D  Abengibre                   ...  ALBACETE   \n",
       "1            -1,346083      I     Alatoz                   ...  ALBACETE   \n",
       "2            -1,832000      I   Albacete                   ...  ALBACETE   \n",
       "3            -1,868500      N   Albacete                   ...  ALBACETE   \n",
       "4            -1,849833      D   Albacete                   ...  ALBACETE   \n",
       "...                ...    ...        ...              ...  ...       ...   \n",
       "11787        -0,986389      D   Zaragoza                   ...  ZARAGOZA   \n",
       "11788        -0,974194      D   Zaragoza                   ...  ZARAGOZA   \n",
       "11789        -0,794000      D      Zuera                   ...  ZARAGOZA   \n",
       "11790        -0,782833      D      Zuera                   ...  ZARAGOZA   \n",
       "11791        -0,757611      D      Zuera                   ...  ZARAGOZA   \n",
       "\n",
       "      Remisión                  Rótulo Tipo Venta % BioEtanol  \\\n",
       "0           dm               Nº 10.935          P         0,0   \n",
       "1           dm                  REPSOL          P         0,0   \n",
       "2           OM               BP ROMICA          P         0,0   \n",
       "3           dm               CARREFOUR          P         0,0   \n",
       "4           dm                 PLENOIL          P         0,0   \n",
       "...        ...                     ...        ...         ...   \n",
       "11787       OM                     IDS          P         0,0   \n",
       "11788       dm                    NOIL          P         0,0   \n",
       "11789       OM                  REPSOL          P         0,0   \n",
       "11790       dm    AN ENERGETICOS ZUERA          P         0,0   \n",
       "11791       dm  COOPERATIVA SAN ISIDRO          P         0,0   \n",
       "\n",
       "      % Éster metílico IDEESS IDMunicipio IDProvincia IDCCAA  \n",
       "0                  0,0   4375          52          02     07  \n",
       "1                  0,0   5122          53          02     07  \n",
       "2                  0,0  12054          54          02     07  \n",
       "3                  0,0  10765          54          02     07  \n",
       "4                  0,0  13933          54          02     07  \n",
       "...                ...    ...         ...         ...    ...  \n",
       "11787              0,0  12472        8108          50     02  \n",
       "11788              0,0  13917        8108          50     02  \n",
       "11789              0,0   1452        8109          50     02  \n",
       "11790              0,0   9085        8109          50     02  \n",
       "11791              0,0   9068        8109          50     02  \n",
       "\n",
       "[11792 rows x 33 columns]"
      ]
     },
     "execution_count": 8,
     "metadata": {},
     "output_type": "execute_result"
    }
   ],
   "source": [
    "# Extraigo informacion de columna EESS Precio, utilizando json normalize\n",
    "\n",
    "df_n = pd.concat([df[['Fecha']],pd.json_normalize(df['ListaEESSPrecio'])], axis=1)\n",
    "df_n\n"
   ]
  },
  {
   "cell_type": "code",
   "execution_count": 9,
   "id": "90463003",
   "metadata": {},
   "outputs": [],
   "source": [
    "# Guardamos df original para sucesion de tiempo\n",
    "#df_n.to_csv('2022-11-05x.csv', index=False)"
   ]
  },
  {
   "cell_type": "code",
   "execution_count": 10,
   "id": "2d75fcc5",
   "metadata": {
    "scrolled": true
   },
   "outputs": [
    {
     "name": "stdout",
     "output_type": "stream",
     "text": [
      "<class 'pandas.core.frame.DataFrame'>\n",
      "RangeIndex: 11792 entries, 0 to 11791\n",
      "Data columns (total 33 columns):\n",
      " #   Column                              Non-Null Count  Dtype \n",
      "---  ------                              --------------  ----- \n",
      " 0   Fecha                               11792 non-null  object\n",
      " 1   C.P.                                11792 non-null  object\n",
      " 2   Dirección                           11792 non-null  object\n",
      " 3   Horario                             11792 non-null  object\n",
      " 4   Latitud                             11792 non-null  object\n",
      " 5   Localidad                           11792 non-null  object\n",
      " 6   Longitud (WGS84)                    11792 non-null  object\n",
      " 7   Margen                              11792 non-null  object\n",
      " 8   Municipio                           11792 non-null  object\n",
      " 9   Precio Biodiesel                    11792 non-null  object\n",
      " 10  Precio Bioetanol                    11792 non-null  object\n",
      " 11  Precio Gas Natural Comprimido       11792 non-null  object\n",
      " 12  Precio Gas Natural Licuado          11792 non-null  object\n",
      " 13  Precio Gases licuados del petróleo  11792 non-null  object\n",
      " 14  Precio Gasoleo A                    11792 non-null  object\n",
      " 15  Precio Gasoleo B                    11792 non-null  object\n",
      " 16  Precio Gasoleo Premium              11792 non-null  object\n",
      " 17  Precio Gasolina 95 E10              11792 non-null  object\n",
      " 18  Precio Gasolina 95 E5               11792 non-null  object\n",
      " 19  Precio Gasolina 95 E5 Premium       11792 non-null  object\n",
      " 20  Precio Gasolina 98 E10              11792 non-null  object\n",
      " 21  Precio Gasolina 98 E5               11792 non-null  object\n",
      " 22  Precio Hidrogeno                    11792 non-null  object\n",
      " 23  Provincia                           11792 non-null  object\n",
      " 24  Remisión                            11792 non-null  object\n",
      " 25  Rótulo                              11792 non-null  object\n",
      " 26  Tipo Venta                          11792 non-null  object\n",
      " 27  % BioEtanol                         11792 non-null  object\n",
      " 28  % Éster metílico                    11792 non-null  object\n",
      " 29  IDEESS                              11792 non-null  object\n",
      " 30  IDMunicipio                         11792 non-null  object\n",
      " 31  IDProvincia                         11792 non-null  object\n",
      " 32  IDCCAA                              11792 non-null  object\n",
      "dtypes: object(33)\n",
      "memory usage: 3.0+ MB\n"
     ]
    }
   ],
   "source": [
    "df_n.info()"
   ]
  },
  {
   "cell_type": "markdown",
   "id": "ee524e6e",
   "metadata": {},
   "source": [
    "---\n",
    "Step (3): EDA"
   ]
  },
  {
   "cell_type": "markdown",
   "id": "7027ceb6",
   "metadata": {},
   "source": [
    "                                                    Análisis de Columnas"
   ]
  },
  {
   "cell_type": "markdown",
   "id": "4deaad69",
   "metadata": {},
   "source": [
    "# Fecha"
   ]
  },
  {
   "cell_type": "code",
   "execution_count": 11,
   "id": "dd7735c8",
   "metadata": {},
   "outputs": [
    {
     "name": "stdout",
     "output_type": "stream",
     "text": [
      "<class 'numpy.ndarray'>\n",
      "1\n"
     ]
    },
    {
     "data": {
      "text/plain": [
       "array(['07/11/2022 21:23:55'], dtype=object)"
      ]
     },
     "execution_count": 11,
     "metadata": {},
     "output_type": "execute_result"
    }
   ],
   "source": [
    "# Fecha (solo hay una fecha)\n",
    "Fecha = df_n['Fecha'].unique()\n",
    "print(type(Fecha))\n",
    "print(len(Fecha))\n",
    "Fecha"
   ]
  },
  {
   "cell_type": "code",
   "execution_count": 12,
   "id": "5d054a1e",
   "metadata": {},
   "outputs": [
    {
     "data": {
      "text/plain": [
       "0"
      ]
     },
     "execution_count": 12,
     "metadata": {},
     "output_type": "execute_result"
    }
   ],
   "source": [
    "# Nulos \n",
    "nulos_f = df_n['Fecha'].isnull().sum()\n",
    "nulos_f"
   ]
  },
  {
   "cell_type": "markdown",
   "id": "addc43ab",
   "metadata": {},
   "source": [
    "# Código Postal"
   ]
  },
  {
   "cell_type": "code",
   "execution_count": 13,
   "id": "603eca2d",
   "metadata": {},
   "outputs": [
    {
     "name": "stdout",
     "output_type": "stream",
     "text": [
      "<class 'numpy.ndarray'>\n",
      "4536\n"
     ]
    },
    {
     "data": {
      "text/plain": [
       "array(['02250', '02152', '02001', ..., '50197', '50800', '50810'],\n",
       "      dtype=object)"
      ]
     },
     "execution_count": 13,
     "metadata": {},
     "output_type": "execute_result"
    }
   ],
   "source": [
    "# Columna C.P.\n",
    "cp = df_n['C.P.'].unique()\n",
    "print(type(cp))\n",
    "print(len(cp))\n",
    "cp\n",
    "# En Esaña hay 11752 codigos postales en total"
   ]
  },
  {
   "cell_type": "code",
   "execution_count": 14,
   "id": "de4b57fa",
   "metadata": {},
   "outputs": [
    {
     "data": {
      "text/plain": [
       "0"
      ]
     },
     "execution_count": 14,
     "metadata": {},
     "output_type": "execute_result"
    }
   ],
   "source": [
    "# Nulos \n",
    "nulos_cp = df_n['C.P.'].isnull().sum()\n",
    "nulos_cp"
   ]
  },
  {
   "cell_type": "markdown",
   "id": "cd713bcb",
   "metadata": {},
   "source": [
    "# Dirección"
   ]
  },
  {
   "cell_type": "code",
   "execution_count": 15,
   "id": "3ce78674",
   "metadata": {},
   "outputs": [
    {
     "name": "stdout",
     "output_type": "stream",
     "text": [
      "<class 'numpy.ndarray'>\n",
      "11474\n"
     ]
    },
    {
     "data": {
      "text/plain": [
       "array(['AVENIDA CASTILLA LA MANCHA, 26', 'CR CM-332, 46,4',\n",
       "       'CALLE PRINCIPE DE ASTURIAS (POLÍGONO DE ROMICA), 5', ...,\n",
       "       'POLIGONO CALLE TURIASO, 31', 'CARRETERA N-330A KM. 24,000',\n",
       "       'CALLE AUSTRIA, 11,17'], dtype=object)"
      ]
     },
     "execution_count": 15,
     "metadata": {},
     "output_type": "execute_result"
    }
   ],
   "source": [
    "# Columna  Dirección\n",
    "direccion = df_n['Dirección'].unique()\n",
    "print(type(direccion))\n",
    "print(len(direccion))\n",
    "direccion\n"
   ]
  },
  {
   "cell_type": "code",
   "execution_count": 16,
   "id": "e1030055",
   "metadata": {},
   "outputs": [
    {
     "data": {
      "text/plain": [
       "0"
      ]
     },
     "execution_count": 16,
     "metadata": {},
     "output_type": "execute_result"
    }
   ],
   "source": [
    "# Nulos dirección\n",
    "nulos_cp = df_n['Dirección'].isnull().sum()\n",
    "nulos_cp"
   ]
  },
  {
   "cell_type": "markdown",
   "id": "b540d156",
   "metadata": {},
   "source": [
    "# Horario"
   ]
  },
  {
   "cell_type": "code",
   "execution_count": 17,
   "id": "d951b048",
   "metadata": {},
   "outputs": [
    {
     "data": {
      "text/plain": [
       "array(['L-D: 07:00-22:00', 'L-D: 7:00-23:00', 'L-D: 06:00-21:30', ...,\n",
       "       'L-V: 05:30-22:00; S: 07:00-15:00; D: 08:00-15:00',\n",
       "       'L-V: 08:00-22:30; S: 10:00-22:30',\n",
       "       'L-V: 05:00-22:00; S-D: 08:00-22:00'], dtype=object)"
      ]
     },
     "execution_count": 17,
     "metadata": {},
     "output_type": "execute_result"
    }
   ],
   "source": [
    "# Horario\n",
    "horario = df_n['Horario'].unique()\n",
    "horario"
   ]
  },
  {
   "cell_type": "code",
   "execution_count": 18,
   "id": "6cb34506",
   "metadata": {},
   "outputs": [
    {
     "data": {
      "text/plain": [
       "0"
      ]
     },
     "execution_count": 18,
     "metadata": {},
     "output_type": "execute_result"
    }
   ],
   "source": [
    "# Nulos horario\n",
    "nulos_h = df_n['Horario'].isnull().sum()\n",
    "nulos_h"
   ]
  },
  {
   "cell_type": "markdown",
   "id": "129d07e9",
   "metadata": {},
   "source": [
    "# Latitud"
   ]
  },
  {
   "cell_type": "code",
   "execution_count": 19,
   "id": "aa9399ed",
   "metadata": {},
   "outputs": [
    {
     "name": "stdout",
     "output_type": "stream",
     "text": [
      "11436\n"
     ]
    },
    {
     "data": {
      "text/plain": [
       "array(['39,211417', '39,100389', '39,054694', ..., '41,857000',\n",
       "       '41,883583', '41,938750'], dtype=object)"
      ]
     },
     "execution_count": 19,
     "metadata": {},
     "output_type": "execute_result"
    }
   ],
   "source": [
    "#Latitud (Coincide Latitud y Longitud con las coordenadas en las gasolineras de Google Maps)\n",
    "latitud = df_n['Latitud'].unique()\n",
    "print(len(latitud ))\n",
    "latitud\n"
   ]
  },
  {
   "cell_type": "code",
   "execution_count": 20,
   "id": "b12f974a",
   "metadata": {},
   "outputs": [
    {
     "data": {
      "text/plain": [
       "0"
      ]
     },
     "execution_count": 20,
     "metadata": {},
     "output_type": "execute_result"
    }
   ],
   "source": [
    "# Nulos Latitud\n",
    "nulos_l = df_n['Latitud'].isnull().sum()\n",
    "nulos_l"
   ]
  },
  {
   "cell_type": "markdown",
   "id": "14f71694",
   "metadata": {},
   "source": [
    "# Longitud"
   ]
  },
  {
   "cell_type": "code",
   "execution_count": 21,
   "id": "26f3092e",
   "metadata": {
    "scrolled": true
   },
   "outputs": [
    {
     "name": "stdout",
     "output_type": "stream",
     "text": [
      "11546\n"
     ]
    },
    {
     "data": {
      "text/plain": [
       "array(['-1,539167', '-1,346083', '-1,832000', ..., '-0,794000',\n",
       "       '-0,782833', '-0,757611'], dtype=object)"
      ]
     },
     "execution_count": 21,
     "metadata": {},
     "output_type": "execute_result"
    }
   ],
   "source": [
    "# Longitud (Coincide Latitud y Longitud con las coordenadas en las gasolineras de Google Maps)\n",
    "Longitud = df_n['Longitud (WGS84)'].unique()\n",
    "print(len(Longitud))\n",
    "Longitud\n"
   ]
  },
  {
   "cell_type": "code",
   "execution_count": 22,
   "id": "e018ad91",
   "metadata": {},
   "outputs": [
    {
     "data": {
      "text/plain": [
       "0"
      ]
     },
     "execution_count": 22,
     "metadata": {},
     "output_type": "execute_result"
    }
   ],
   "source": [
    "# Nulos Longitud\n",
    "nulos_long = df_n['Longitud (WGS84)'].isnull().sum()\n",
    "nulos_long"
   ]
  },
  {
   "cell_type": "markdown",
   "id": "baaa7f76",
   "metadata": {},
   "source": [
    "# Localidad"
   ]
  },
  {
   "cell_type": "code",
   "execution_count": 23,
   "id": "05337df3",
   "metadata": {},
   "outputs": [
    {
     "name": "stdout",
     "output_type": "stream",
     "text": [
      "4235\n"
     ]
    },
    {
     "data": {
      "text/plain": [
       "array(['ABENGIBRE', 'ALATOZ', 'ALBACETE', ..., 'VILLARRAPA', 'ZUERA',\n",
       "       'ONTINAR DE SALZ'], dtype=object)"
      ]
     },
     "execution_count": 23,
     "metadata": {},
     "output_type": "execute_result"
    }
   ],
   "source": [
    "#Localidad\n",
    "Localidad = df_n['Localidad'].unique()\n",
    "print(len(Localidad))\n",
    "Localidad"
   ]
  },
  {
   "cell_type": "code",
   "execution_count": 24,
   "id": "46fae344",
   "metadata": {},
   "outputs": [
    {
     "data": {
      "text/plain": [
       "0"
      ]
     },
     "execution_count": 24,
     "metadata": {},
     "output_type": "execute_result"
    }
   ],
   "source": [
    "# Nulos Localidad\n",
    "nulos_loc = df_n['Localidad'].isnull().sum()\n",
    "nulos_loc"
   ]
  },
  {
   "cell_type": "markdown",
   "id": "8fa3baee",
   "metadata": {},
   "source": [
    "# Municipio "
   ]
  },
  {
   "cell_type": "code",
   "execution_count": 25,
   "id": "0e69e607",
   "metadata": {},
   "outputs": [
    {
     "name": "stdout",
     "output_type": "stream",
     "text": [
      "3435\n"
     ]
    },
    {
     "data": {
      "text/plain": [
       "array(['Abengibre', 'Alatoz', 'Albacete', ..., 'Villarroya de la Sierra',\n",
       "       'Zaragoza', 'Zuera'], dtype=object)"
      ]
     },
     "execution_count": 25,
     "metadata": {},
     "output_type": "execute_result"
    }
   ],
   "source": [
    "# Municipio (En España hay 8131 Municipios)\n",
    "Municipio = df_n['Municipio'].unique() \n",
    "print(len(Municipio))\n",
    "Municipio\n",
    "\n"
   ]
  },
  {
   "cell_type": "code",
   "execution_count": 26,
   "id": "223081b3",
   "metadata": {},
   "outputs": [
    {
     "data": {
      "text/plain": [
       "0"
      ]
     },
     "execution_count": 26,
     "metadata": {},
     "output_type": "execute_result"
    }
   ],
   "source": [
    "# Nulos Municipio\n",
    "nulos_loc = df_n['Municipio'].isnull().sum()\n",
    "nulos_loc"
   ]
  },
  {
   "cell_type": "markdown",
   "id": "cc6b303b",
   "metadata": {},
   "source": [
    "# Margen"
   ]
  },
  {
   "cell_type": "code",
   "execution_count": 27,
   "id": "cf022a39",
   "metadata": {},
   "outputs": [
    {
     "name": "stdout",
     "output_type": "stream",
     "text": [
      "3\n"
     ]
    },
    {
     "data": {
      "text/plain": [
       "array(['D', 'I', 'N'], dtype=object)"
      ]
     },
     "execution_count": 27,
     "metadata": {},
     "output_type": "execute_result"
    }
   ],
   "source": [
    "# Margen\n",
    "Margen = df_n['Margen'].unique()\n",
    "print(len(Margen))\n",
    "Margen"
   ]
  },
  {
   "cell_type": "markdown",
   "id": "2d2ea3bb",
   "metadata": {},
   "source": [
    "# Provincia "
   ]
  },
  {
   "cell_type": "code",
   "execution_count": 28,
   "id": "e1fa2d5f",
   "metadata": {},
   "outputs": [
    {
     "name": "stdout",
     "output_type": "stream",
     "text": [
      "52\n"
     ]
    },
    {
     "data": {
      "text/plain": [
       "array(['ALBACETE', 'ALICANTE', 'ALMERÍA', 'ARABA/ÁLAVA', 'ASTURIAS',\n",
       "       'ÁVILA', 'BADAJOZ', 'BALEARS (ILLES)', 'BARCELONA', 'BIZKAIA',\n",
       "       'BURGOS', 'CÁCERES', 'CÁDIZ', 'CANTABRIA', 'CASTELLÓN / CASTELLÓ',\n",
       "       'CEUTA', 'CIUDAD REAL', 'CÓRDOBA', 'CORUÑA (A)', 'CUENCA',\n",
       "       'GIPUZKOA', 'GIRONA', 'GRANADA', 'GUADALAJARA', 'HUELVA', 'HUESCA',\n",
       "       'JAÉN', 'LEÓN', 'LLEIDA', 'LUGO', 'MADRID', 'MÁLAGA', 'MELILLA',\n",
       "       'MURCIA', 'NAVARRA', 'OURENSE', 'PALENCIA', 'PALMAS (LAS)',\n",
       "       'PONTEVEDRA', 'RIOJA (LA)', 'SALAMANCA', 'SANTA CRUZ DE TENERIFE',\n",
       "       'SEGOVIA', 'SEVILLA', 'SORIA', 'TARRAGONA', 'TERUEL', 'TOLEDO',\n",
       "       'VALENCIA / VALÈNCIA', 'VALLADOLID', 'ZAMORA', 'ZARAGOZA'],\n",
       "      dtype=object)"
      ]
     },
     "execution_count": 28,
     "metadata": {},
     "output_type": "execute_result"
    }
   ],
   "source": [
    "# Provincia (Están todas las Provinicas de España en nuestro df)\n",
    "Provincia = df_n['Provincia'].unique()\n",
    "print(len(Provincia))\n",
    "Provincia"
   ]
  },
  {
   "cell_type": "code",
   "execution_count": 29,
   "id": "b27108a2",
   "metadata": {},
   "outputs": [
    {
     "data": {
      "text/plain": [
       "0"
      ]
     },
     "execution_count": 29,
     "metadata": {},
     "output_type": "execute_result"
    }
   ],
   "source": [
    "# Nulos Provincia\n",
    "nulos_prov = df_n['Provincia'].isnull().sum()\n",
    "nulos_prov"
   ]
  },
  {
   "cell_type": "markdown",
   "id": "722a58a1",
   "metadata": {},
   "source": [
    "# Remision"
   ]
  },
  {
   "cell_type": "code",
   "execution_count": 30,
   "id": "78c3b1c9",
   "metadata": {},
   "outputs": [
    {
     "name": "stdout",
     "output_type": "stream",
     "text": [
      "2\n",
      "<class 'numpy.ndarray'>\n"
     ]
    },
    {
     "data": {
      "text/plain": [
       "array(['dm', 'OM'], dtype=object)"
      ]
     },
     "execution_count": 30,
     "metadata": {},
     "output_type": "execute_result"
    }
   ],
   "source": [
    "# Remisión (Sistema de envío de información de precios y de ventas a través de API)\n",
    "Remision = df_n['Remisión'].unique()\n",
    "print(len(Remision))\n",
    "print(type(Remision))\n",
    "Remision"
   ]
  },
  {
   "cell_type": "markdown",
   "id": "cc886f49",
   "metadata": {},
   "source": [
    "# Rótulo"
   ]
  },
  {
   "cell_type": "code",
   "execution_count": 31,
   "id": "8157f57d",
   "metadata": {},
   "outputs": [
    {
     "name": "stdout",
     "output_type": "stream",
     "text": [
      "4011\n",
      "<class 'numpy.ndarray'>\n"
     ]
    },
    {
     "data": {
      "text/plain": [
       "array(['Nº 10.935', 'REPSOL', 'BP ROMICA', ..., 'DAGO',\n",
       "       'COOPERATIVA SAN LAMBERTO', 'AN ENERGETICOS ZUERA'], dtype=object)"
      ]
     },
     "execution_count": 31,
     "metadata": {},
     "output_type": "execute_result"
    }
   ],
   "source": [
    "# Rótulo (En España hay 3952 marcas de Gasolineras en España según datos de Google)\n",
    "Rotulo = df_n['Rótulo'].unique()\n",
    "print(len(Rotulo))\n",
    "print(type(Rotulo))\n",
    "Rotulo\n"
   ]
  },
  {
   "cell_type": "markdown",
   "id": "676ec408",
   "metadata": {},
   "source": [
    "# Tipo de Venta"
   ]
  },
  {
   "cell_type": "code",
   "execution_count": 32,
   "id": "7b2d09eb",
   "metadata": {},
   "outputs": [
    {
     "name": "stdout",
     "output_type": "stream",
     "text": [
      "2\n",
      "<class 'numpy.ndarray'>\n"
     ]
    },
    {
     "data": {
      "text/plain": [
       "array(['P', 'R'], dtype=object)"
      ]
     },
     "execution_count": 32,
     "metadata": {},
     "output_type": "execute_result"
    }
   ],
   "source": [
    "# Tipo Venta\n",
    "tv = df_n['Tipo Venta'].unique()\n",
    "print(len(tv))\n",
    "print(type(tv))\n",
    "tv"
   ]
  },
  {
   "cell_type": "markdown",
   "id": "7aad165f",
   "metadata": {},
   "source": [
    "# Porcentaje de Bioetanol"
   ]
  },
  {
   "cell_type": "code",
   "execution_count": 33,
   "id": "95e6e4b0",
   "metadata": {},
   "outputs": [
    {
     "name": "stdout",
     "output_type": "stream",
     "text": [
      "3\n",
      "<class 'numpy.ndarray'>\n"
     ]
    },
    {
     "data": {
      "text/plain": [
       "array(['0,0', '25,0', '85,0'], dtype=object)"
      ]
     },
     "execution_count": 33,
     "metadata": {},
     "output_type": "execute_result"
    }
   ],
   "source": [
    "# % BioEtanol (La diferencia entre gasolinas E5 o E10 significan el porcentaje de Etanol (5 o 10%))\n",
    "bioetanol = df_n['% BioEtanol'].unique()\n",
    "print(len(bioetanol))\n",
    "print(type(bioetanol))\n",
    "bioetanol"
   ]
  },
  {
   "cell_type": "markdown",
   "id": "54c7afc2",
   "metadata": {},
   "source": [
    "# Porcentaje de Éster Metílico"
   ]
  },
  {
   "cell_type": "code",
   "execution_count": 34,
   "id": "19aff9d9",
   "metadata": {},
   "outputs": [
    {
     "name": "stdout",
     "output_type": "stream",
     "text": [
      "6\n",
      "<class 'numpy.ndarray'>\n"
     ]
    },
    {
     "data": {
      "text/plain": [
       "array(['0,0', '7,0', '12,0', '20,0', '30,0', '10,0'], dtype=object)"
      ]
     },
     "execution_count": 34,
     "metadata": {},
     "output_type": "execute_result"
    }
   ],
   "source": [
    "# % Éster metílico (solo para Biodiesel)\n",
    "em = df_n['% Éster metílico'].unique()\n",
    "print(len(em))\n",
    "print(type(em))\n",
    "em"
   ]
  },
  {
   "cell_type": "markdown",
   "id": "e1bfb0ff",
   "metadata": {},
   "source": [
    "#  IDEESS"
   ]
  },
  {
   "cell_type": "code",
   "execution_count": 35,
   "id": "1bcc7c30",
   "metadata": {},
   "outputs": [
    {
     "name": "stdout",
     "output_type": "stream",
     "text": [
      "11792\n"
     ]
    },
    {
     "data": {
      "text/plain": [
       "array(['4375', '5122', '12054', ..., '1452', '9085', '9068'], dtype=object)"
      ]
     },
     "execution_count": 35,
     "metadata": {},
     "output_type": "execute_result"
    }
   ],
   "source": [
    "# IDEESS (ID Estación de Servicio, los mismos que estaciones (filas))\n",
    "IDEESS = df_n['IDEESS'].unique()\n",
    "print(len(IDEESS))\n",
    "type(IDEESS)\n",
    "IDEESS "
   ]
  },
  {
   "cell_type": "code",
   "execution_count": 36,
   "id": "89c026f2",
   "metadata": {},
   "outputs": [
    {
     "data": {
      "text/plain": [
       "0"
      ]
     },
     "execution_count": 36,
     "metadata": {},
     "output_type": "execute_result"
    }
   ],
   "source": [
    "# Nulos IDEESS\n",
    "nulos_IDEESS = df_n['IDEESS'].isnull().sum()\n",
    "nulos_IDEESS"
   ]
  },
  {
   "cell_type": "markdown",
   "id": "48e885d2",
   "metadata": {},
   "source": [
    "# ID Municipio"
   ]
  },
  {
   "cell_type": "code",
   "execution_count": 37,
   "id": "7dc3d12d",
   "metadata": {},
   "outputs": [
    {
     "name": "stdout",
     "output_type": "stream",
     "text": [
      "3436\n"
     ]
    },
    {
     "data": {
      "text/plain": [
       "array(['52', '53', '54', ..., '8103', '8108', '8109'], dtype=object)"
      ]
     },
     "execution_count": 37,
     "metadata": {},
     "output_type": "execute_result"
    }
   ],
   "source": [
    "# IDMunicipio (un ID más que municipios)\n",
    "idmun = df_n['IDMunicipio'].unique()\n",
    "print(len(idmun))\n",
    "type(idmun)\n",
    "idmun"
   ]
  },
  {
   "cell_type": "code",
   "execution_count": 38,
   "id": "c857c488",
   "metadata": {},
   "outputs": [
    {
     "data": {
      "text/plain": [
       "0"
      ]
     },
     "execution_count": 38,
     "metadata": {},
     "output_type": "execute_result"
    }
   ],
   "source": [
    "# Nulos ID Municipio\n",
    "nulos_IDMunicipio = df_n['IDMunicipio'].isnull().sum()\n",
    "nulos_IDMunicipio"
   ]
  },
  {
   "cell_type": "markdown",
   "id": "6568aaff",
   "metadata": {},
   "source": [
    "# ID Provincia"
   ]
  },
  {
   "cell_type": "code",
   "execution_count": 39,
   "id": "896e7bf1",
   "metadata": {},
   "outputs": [
    {
     "name": "stdout",
     "output_type": "stream",
     "text": [
      "52\n"
     ]
    },
    {
     "data": {
      "text/plain": [
       "array(['02', '03', '04', '01', '33', '05', '06', '07', '08', '48', '09',\n",
       "       '10', '11', '39', '12', '51', '13', '14', '15', '16', '20', '17',\n",
       "       '18', '19', '21', '22', '23', '24', '25', '27', '28', '29', '52',\n",
       "       '30', '31', '32', '34', '35', '36', '26', '37', '38', '40', '41',\n",
       "       '42', '43', '44', '45', '46', '47', '49', '50'], dtype=object)"
      ]
     },
     "execution_count": 39,
     "metadata": {},
     "output_type": "execute_result"
    }
   ],
   "source": [
    "# IDProvincia (Los mismos ID que Provincias)\n",
    "idprov = df_n['IDProvincia'].unique()\n",
    "print(len(idprov))\n",
    "type(idprov)\n",
    "idprov"
   ]
  },
  {
   "cell_type": "code",
   "execution_count": 40,
   "id": "0383161f",
   "metadata": {},
   "outputs": [
    {
     "data": {
      "text/plain": [
       "0"
      ]
     },
     "execution_count": 40,
     "metadata": {},
     "output_type": "execute_result"
    }
   ],
   "source": [
    "nulos_IDProvincia = df_n['IDProvincia'].isnull().sum()\n",
    "nulos_IDProvincia"
   ]
  },
  {
   "cell_type": "markdown",
   "id": "f0203c4c",
   "metadata": {},
   "source": [
    "# ID CCAA"
   ]
  },
  {
   "cell_type": "code",
   "execution_count": 41,
   "id": "cc731089",
   "metadata": {},
   "outputs": [
    {
     "name": "stdout",
     "output_type": "stream",
     "text": [
      "19\n"
     ]
    },
    {
     "data": {
      "text/plain": [
       "array(['07', '10', '01', '16', '03', '08', '11', '04', '09', '06', '18',\n",
       "       '12', '02', '13', '19', '14', '15', '05', '17'], dtype=object)"
      ]
     },
     "execution_count": 41,
     "metadata": {},
     "output_type": "execute_result"
    }
   ],
   "source": [
    "# IDCCAA (ID Comunidades Autónomas, 17 CCAA + Ceuta + Melilla)\n",
    "# IDProvincia (Los mismos ID que Provincias)\n",
    "idccaa = df_n['IDCCAA'].unique()\n",
    "print(len(idccaa))\n",
    "type(idccaa)\n",
    "idccaa"
   ]
  },
  {
   "cell_type": "markdown",
   "id": "4cf497b1",
   "metadata": {},
   "source": [
    "                                                Columnas Numéricas\n",
    "                                                "
   ]
  },
  {
   "cell_type": "markdown",
   "id": "cd72e5ad",
   "metadata": {},
   "source": [
    "# Biodiesel"
   ]
  },
  {
   "cell_type": "code",
   "execution_count": 42,
   "id": "01c87a0e",
   "metadata": {},
   "outputs": [
    {
     "name": "stdout",
     "output_type": "stream",
     "text": [
      "24\n",
      "<class 'numpy.ndarray'>\n"
     ]
    },
    {
     "data": {
      "text/plain": [
       "array(['', '1,978', '2,149', '1,999', '2,049', '1,779', '1,799', '2,039',\n",
       "       '1,739', '1,859', '1,449', '1,968', '1,809', '2,030', '2,009',\n",
       "       '1,869', '2,069', '1,969', '1,939', '2,040', '1,769', '1,729',\n",
       "       '1,749', '1,966'], dtype=object)"
      ]
     },
     "execution_count": 42,
     "metadata": {},
     "output_type": "execute_result"
    }
   ],
   "source": [
    "Biodiesel = df_n['Precio Biodiesel'].unique()\n",
    "print(len(Biodiesel))\n",
    "print(type(Biodiesel))\n",
    "Biodiesel"
   ]
  },
  {
   "cell_type": "code",
   "execution_count": 43,
   "id": "c1172885",
   "metadata": {},
   "outputs": [],
   "source": [
    "# Convertimos columna categórica a numérica\n",
    "df_n['Precio Biodiesel']=df_n['Precio Biodiesel'].str.replace(',','.')\n",
    "df_n[['Precio Biodiesel']]=df_n[['Precio Biodiesel']].apply(pd.to_numeric)"
   ]
  },
  {
   "cell_type": "code",
   "execution_count": 44,
   "id": "3ba01c1b",
   "metadata": {},
   "outputs": [
    {
     "data": {
      "text/plain": [
       "count    38.000000\n",
       "mean      1.887342\n",
       "std       0.140527\n",
       "min       1.449000\n",
       "25%       1.799000\n",
       "50%       1.859000\n",
       "75%       1.999000\n",
       "max       2.149000\n",
       "Name: Precio Biodiesel, dtype: float64"
      ]
     },
     "execution_count": 44,
     "metadata": {},
     "output_type": "execute_result"
    }
   ],
   "source": [
    "df_n['Precio Biodiesel'].describe()\n"
   ]
  },
  {
   "cell_type": "code",
   "execution_count": 45,
   "id": "0b00d7af",
   "metadata": {},
   "outputs": [
    {
     "data": {
      "text/plain": [
       "11754"
      ]
     },
     "execution_count": 45,
     "metadata": {},
     "output_type": "execute_result"
    }
   ],
   "source": [
    "# Registros sin venta Biodiesel\n",
    "sin_suministro_b = df_n['Precio Biodiesel'].isnull().sum()\n",
    "sin_suministro_b"
   ]
  },
  {
   "cell_type": "markdown",
   "id": "fd2b4066",
   "metadata": {},
   "source": [
    "## Precio Bioetanol "
   ]
  },
  {
   "cell_type": "code",
   "execution_count": 46,
   "id": "edbcaac9",
   "metadata": {},
   "outputs": [
    {
     "name": "stdout",
     "output_type": "stream",
     "text": [
      "6\n",
      "<class 'numpy.ndarray'>\n"
     ]
    },
    {
     "data": {
      "text/plain": [
       "array(['', '2,219', '1,982', '1,487', '2,079', '1,919'], dtype=object)"
      ]
     },
     "execution_count": 46,
     "metadata": {},
     "output_type": "execute_result"
    }
   ],
   "source": [
    "Bioetanol = df_n['Precio Bioetanol'].unique()\n",
    "print(len(Bioetanol))\n",
    "print(type(Bioetanol))\n",
    "Bioetanol"
   ]
  },
  {
   "cell_type": "code",
   "execution_count": 47,
   "id": "3f6be22e",
   "metadata": {},
   "outputs": [],
   "source": [
    "# Convertimos columna categórica a numérica\n",
    "df_n['Precio Bioetanol']=df_n['Precio Bioetanol'].str.replace(',','.')\n",
    "df_n[['Precio Bioetanol']]=df_n[['Precio Bioetanol']].apply(pd.to_numeric)"
   ]
  },
  {
   "cell_type": "code",
   "execution_count": 48,
   "id": "336b94fa",
   "metadata": {},
   "outputs": [
    {
     "data": {
      "text/plain": [
       "count    5.000000\n",
       "mean     1.937200\n",
       "std      0.275924\n",
       "min      1.487000\n",
       "25%      1.919000\n",
       "50%      1.982000\n",
       "75%      2.079000\n",
       "max      2.219000\n",
       "Name: Precio Bioetanol, dtype: float64"
      ]
     },
     "execution_count": 48,
     "metadata": {},
     "output_type": "execute_result"
    }
   ],
   "source": [
    "df_n['Precio Bioetanol'].describe()"
   ]
  },
  {
   "cell_type": "code",
   "execution_count": 49,
   "id": "8614e236",
   "metadata": {},
   "outputs": [
    {
     "data": {
      "text/plain": [
       "11787"
      ]
     },
     "execution_count": 49,
     "metadata": {},
     "output_type": "execute_result"
    }
   ],
   "source": [
    "# Registros sin venta Biodiesel\n",
    "sin_suministro_be = df_n['Precio Bioetanol'].isnull().sum()\n",
    "sin_suministro_be"
   ]
  },
  {
   "cell_type": "markdown",
   "id": "de4c6c51",
   "metadata": {},
   "source": [
    "## Precio Gas Natural Comprimido"
   ]
  },
  {
   "cell_type": "code",
   "execution_count": 50,
   "id": "b2824198",
   "metadata": {},
   "outputs": [
    {
     "name": "stdout",
     "output_type": "stream",
     "text": [
      "32\n",
      "<class 'numpy.ndarray'>\n"
     ]
    },
    {
     "data": {
      "text/plain": [
       "array(['', '1,790', '1,379', '1,468', '1,485', '1,555', '1,518', '1,438',\n",
       "       '1,359', '1,349', '1,520', '1,389', '1,398', '1,420', '1,466',\n",
       "       '2,990', '1,689', '1,483', '1,948', '1,749', '1,679', '1,487',\n",
       "       '1,615', '1,469', '1,449', '1,380', '2,350', '3,700', '1,433',\n",
       "       '1,594', '1,709', '1,369'], dtype=object)"
      ]
     },
     "execution_count": 50,
     "metadata": {},
     "output_type": "execute_result"
    }
   ],
   "source": [
    "Gas_n_c = df_n['Precio Gas Natural Comprimido'].unique()\n",
    "print(len(Gas_n_c))\n",
    "print(type(Gas_n_c))\n",
    "Gas_n_c"
   ]
  },
  {
   "cell_type": "code",
   "execution_count": 51,
   "id": "1ac50945",
   "metadata": {},
   "outputs": [],
   "source": [
    "# Convertimos columna categórica a numérica\n",
    "df_n['Precio Gas Natural Comprimido']=df_n['Precio Gas Natural Comprimido'].str.replace(',','.')\n",
    "df_n[['Precio Gas Natural Comprimido']]=df_n[['Precio Gas Natural Comprimido']].apply(pd.to_numeric)"
   ]
  },
  {
   "cell_type": "code",
   "execution_count": 52,
   "id": "1f65143d",
   "metadata": {},
   "outputs": [
    {
     "data": {
      "text/plain": [
       "count    122.000000\n",
       "mean       1.600762\n",
       "std        0.301823\n",
       "min        1.349000\n",
       "25%        1.379000\n",
       "50%        1.485000\n",
       "75%        1.790000\n",
       "max        3.700000\n",
       "Name: Precio Gas Natural Comprimido, dtype: float64"
      ]
     },
     "execution_count": 52,
     "metadata": {},
     "output_type": "execute_result"
    }
   ],
   "source": [
    "df_n['Precio Gas Natural Comprimido'].describe()"
   ]
  },
  {
   "cell_type": "code",
   "execution_count": 53,
   "id": "e7a5a486",
   "metadata": {},
   "outputs": [
    {
     "data": {
      "text/plain": [
       "11787"
      ]
     },
     "execution_count": 53,
     "metadata": {},
     "output_type": "execute_result"
    }
   ],
   "source": [
    "# Registros sin venta Biodiesel\n",
    "sin_suministro_be = df_n['Precio Bioetanol'].isnull().sum()\n",
    "sin_suministro_be"
   ]
  },
  {
   "cell_type": "markdown",
   "id": "33ddd76e",
   "metadata": {},
   "source": [
    "# Precio Gas Natural Licuado"
   ]
  },
  {
   "cell_type": "code",
   "execution_count": 54,
   "id": "d5685b8d",
   "metadata": {},
   "outputs": [
    {
     "name": "stdout",
     "output_type": "stream",
     "text": [
      "18\n",
      "<class 'numpy.ndarray'>\n"
     ]
    },
    {
     "data": {
      "text/plain": [
       "array(['', '1,449', '1,299', '1,398', '1,368', '1,329', '1,269', '1,399',\n",
       "       '1,390', '1,396', '2,990', '2,506', '1,389', '1,433', '1,903',\n",
       "       '3,650', '1,489', '1,319'], dtype=object)"
      ]
     },
     "execution_count": 54,
     "metadata": {},
     "output_type": "execute_result"
    }
   ],
   "source": [
    "Gas_nat_lic = df_n['Precio Gas Natural Licuado'].unique()\n",
    "print(len(Gas_nat_lic))\n",
    "print(type(Gas_nat_lic))\n",
    "Gas_nat_lic"
   ]
  },
  {
   "cell_type": "code",
   "execution_count": 55,
   "id": "90f17335",
   "metadata": {},
   "outputs": [],
   "source": [
    "# Convertimos columna categórica a numérica, primero tenemos que sustituir , por .\n",
    "df_n['Precio Gas Natural Licuado']=df_n['Precio Gas Natural Licuado'].str.replace(',','.')\n",
    "df_n[['Precio Gas Natural Licuado']]=df_n[['Precio Gas Natural Licuado']].apply(pd.to_numeric)"
   ]
  },
  {
   "cell_type": "code",
   "execution_count": 56,
   "id": "7b35df2f",
   "metadata": {},
   "outputs": [
    {
     "data": {
      "text/plain": [
       "count    82.000000\n",
       "mean      1.424915\n",
       "std       0.341477\n",
       "min       1.269000\n",
       "25%       1.299000\n",
       "50%       1.348500\n",
       "75%       1.398000\n",
       "max       3.650000\n",
       "Name: Precio Gas Natural Licuado, dtype: float64"
      ]
     },
     "execution_count": 56,
     "metadata": {},
     "output_type": "execute_result"
    }
   ],
   "source": [
    "df_n['Precio Gas Natural Licuado'].describe()"
   ]
  },
  {
   "cell_type": "code",
   "execution_count": 57,
   "id": "0eca734e",
   "metadata": {},
   "outputs": [
    {
     "data": {
      "text/plain": [
       "11710"
      ]
     },
     "execution_count": 57,
     "metadata": {},
     "output_type": "execute_result"
    }
   ],
   "source": [
    "# Registros sin venta Gas NAtural Licuado\n",
    "sin_suministro_gnl = df_n['Precio Gas Natural Licuado'].isnull().sum()\n",
    "sin_suministro_gnl"
   ]
  },
  {
   "cell_type": "markdown",
   "id": "ba2199ad",
   "metadata": {},
   "source": [
    "# Precio Gases licuados del petróleo"
   ]
  },
  {
   "cell_type": "code",
   "execution_count": 58,
   "id": "bdff2425",
   "metadata": {},
   "outputs": [
    {
     "name": "stdout",
     "output_type": "stream",
     "text": [
      "123\n",
      "<class 'numpy.ndarray'>\n"
     ]
    },
    {
     "data": {
      "text/plain": [
       "array(['', '1,089', '0,898', '1,019', '1,029', '1,059', '0,969', '1,049',\n",
       "       '0,968', '1,020', '1,079', '1,099', '1,039', '1,034', '1,159',\n",
       "       '0,959', '1,012', '0,830', '0,930', '1,077', '1,088', '1,038',\n",
       "       '1,069', '0,939', '0,910', '1,052', '1,009', '1,200', '1,119',\n",
       "       '0,999', '1,179', '0,980', '1,189', '0,859', '1,094', '1,095',\n",
       "       '1,134', '1,129', '0,909', '0,899', '0,885', '1,098', '0,950',\n",
       "       '0,886', '1,017', '1,060', '1,037', '1,090', '1,109', '1,008',\n",
       "       '0,979', '1,028', '0,865', '0,650', '0,929', '1,148', '1,138',\n",
       "       '0,805', '1,022', '1,018', '0,998', '0,879', '1,149', '0,768',\n",
       "       '1,004', '0,990', '0,970', '1,169', '0,997', '0,965', '1,150',\n",
       "       '1,025', '0,949', '0,889', '1,139', '1,140', '1,220', '1,260',\n",
       "       '1,250', '1,160', '0,759', '1,070', '1,158', '0,769', '1,115',\n",
       "       '0,919', '1,100', '0,977', '1,106', '0,908', '1,048', '1,130',\n",
       "       '0,989', '1,199', '1,185', '1,155', '0,809', '0,801', '0,808',\n",
       "       '0,799', '0,789', '0,839', '0,800', '0,818', '0,829', '0,958',\n",
       "       '1,080', '1,026', '1,000', '0,870', '0,967', '1,042', '0,974',\n",
       "       '0,944', '0,905', '0,925', '0,995', '0,915', '0,850', '0,790',\n",
       "       '0,779', '1,175', '0,849'], dtype=object)"
      ]
     },
     "execution_count": 58,
     "metadata": {},
     "output_type": "execute_result"
    }
   ],
   "source": [
    "Gas_nat_lic_pet = df_n['Precio Gases licuados del petróleo'].unique()\n",
    "print(len(Gas_nat_lic_pet))\n",
    "print(type(Gas_nat_lic_pet))\n",
    "Gas_nat_lic_pet"
   ]
  },
  {
   "cell_type": "code",
   "execution_count": 59,
   "id": "94e05d01",
   "metadata": {},
   "outputs": [],
   "source": [
    "# Convertimos columna categórica a numérica\n",
    "df_n['Precio Gases licuados del petróleo']=df_n['Precio Gases licuados del petróleo'].str.replace(',','.')\n",
    "df_n[['Precio Gases licuados del petróleo']]=df_n[['Precio Gases licuados del petróleo']].apply(pd.to_numeric)"
   ]
  },
  {
   "cell_type": "code",
   "execution_count": 60,
   "id": "43ae8314",
   "metadata": {},
   "outputs": [
    {
     "data": {
      "text/plain": [
       "count    853.000000\n",
       "mean       1.030060\n",
       "std        0.079261\n",
       "min        0.650000\n",
       "25%        0.999000\n",
       "50%        1.039000\n",
       "75%        1.069000\n",
       "max        1.260000\n",
       "Name: Precio Gases licuados del petróleo, dtype: float64"
      ]
     },
     "execution_count": 60,
     "metadata": {},
     "output_type": "execute_result"
    }
   ],
   "source": [
    "df_n['Precio Gases licuados del petróleo'].describe()"
   ]
  },
  {
   "cell_type": "code",
   "execution_count": 61,
   "id": "f39d6004",
   "metadata": {},
   "outputs": [
    {
     "data": {
      "text/plain": [
       "10939"
      ]
     },
     "execution_count": 61,
     "metadata": {},
     "output_type": "execute_result"
    }
   ],
   "source": [
    "# Registros sin venta Gas NAtural Licuado del Petróleo\n",
    "sin_suministro_gnlp = df_n['Precio Gases licuados del petróleo'].isnull().sum()\n",
    "sin_suministro_gnlp"
   ]
  },
  {
   "cell_type": "code",
   "execution_count": 62,
   "id": "0a616a04",
   "metadata": {},
   "outputs": [
    {
     "data": {
      "text/plain": [
       "0"
      ]
     },
     "execution_count": 62,
     "metadata": {},
     "output_type": "execute_result"
    }
   ],
   "source": [
    "ceros_sin_suministro_gnlp = (df_n['Precio Gases licuados del petróleo'] == 0).sum()\n",
    "ceros_sin_suministro_gnlp"
   ]
  },
  {
   "cell_type": "markdown",
   "id": "579f7966",
   "metadata": {},
   "source": [
    "# Gasoleo A"
   ]
  },
  {
   "cell_type": "code",
   "execution_count": 63,
   "id": "b84c8a71",
   "metadata": {},
   "outputs": [
    {
     "name": "stdout",
     "output_type": "stream",
     "text": [
      "430\n",
      "<class 'numpy.ndarray'>\n"
     ]
    },
    {
     "data": {
      "text/plain": [
       "array(['1,959', '2,040', '2,039', '2,019', '1,897', '2,035', '1,999',\n",
       "       '1,878', '2,009', '1,929', '1,899', '1,949', '2,049', '1,979',\n",
       "       '1,950', '', '2,029', '1,869', '1,870', '1,879', '2,259', '2,015',\n",
       "       '2,025', '1,919', '1,969', '1,995', '1,964', '1,939', '1,849',\n",
       "       '1,954', '1,800', '1,830', '1,889', '1,989', '1,885', '1,846',\n",
       "       '1,987', '1,930', '1,860', '1,820', '1,740', '2,059', '1,805',\n",
       "       '1,780', '1,813', '1,856', '1,848', '1,858', '1,994', '1,791',\n",
       "       '1,857', '2,020', '1,877', '1,796', '1,799', '1,837', '1,992',\n",
       "       '2,027', '1,868', '1,990', '1,998', '1,972', '1,909', '1,887',\n",
       "       '2,069', '1,898', '1,839', '1,961', '1,829', '1,859', '1,951',\n",
       "       '2,004', '1,968', '1,912', '1,975', '2,003', '1,875', '1,955',\n",
       "       '1,826', '1,825', '1,904', '1,958', '2,007', '1,960', '1,940',\n",
       "       '1,845', '2,034', '1,944', '1,936', '2,045', '1,914', '1,855',\n",
       "       '1,867', '1,937', '1,970', '1,789', '1,838', '2,026', '1,974',\n",
       "       '1,894', '1,809', '1,817', '1,749', '1,819', '1,922', '1,754',\n",
       "       '1,797', '1,920', '1,882', '1,896', '2,017', '1,886', '1,810',\n",
       "       '1,895', '1,945', '2,099', '1,806', '1,850', '1,779', '1,836',\n",
       "       '1,816', '1,880', '1,847', '1,827', '1,997', '1,871', '2,005',\n",
       "       '1,957', '1,890', '1,769', '2,079', '1,971', '2,044', '1,874',\n",
       "       '2,018', '1,984', '1,918', '1,903', '1,905', '1,893', '2,000',\n",
       "       '2,010', '1,932', '1,917', '2,060', '2,058', '2,075', '2,070',\n",
       "       '1,910', '2,048', '1,834', '1,900', '1,902', '2,030', '1,941',\n",
       "       '1,852', '1,985', '1,784', '1,739', '2,109', '1,841', '1,982',\n",
       "       '1,854', '1,851', '1,947', '1,866', '1,938', '2,028', '1,767',\n",
       "       '1,828', '2,055', '2,041', '2,067', '2,097', '2,057', '2,089',\n",
       "       '2,012', '2,084', '1,978', '1,967', '1,790', '1,991', '2,008',\n",
       "       '2,037', '1,794', '1,934', '1,965', '1,793', '2,014', '2,011',\n",
       "       '1,906', '1,843', '2,125', '1,792', '1,935', '1,864', '1,988',\n",
       "       '1,783', '1,928', '1,888', '1,798', '1,795', '1,927', '2,299',\n",
       "       '1,777', '1,977', '2,139', '1,948', '1,915', '2,016', '1,913',\n",
       "       '1,833', '1,865', '1,840', '1,815', '1,908', '1,924', '1,876',\n",
       "       '1,980', '2,024', '1,956', '1,946', '1,802', '1,808', '1,773',\n",
       "       '1,771', '1,973', '1,824', '1,589', '1,565', '1,588', '1,962',\n",
       "       '1,901', '1,757', '1,873', '1,775', '1,782', '1,459', '1,475',\n",
       "       '1,770', '1,760', '1,752', '1,925', '1,679', '1,747', '1,921',\n",
       "       '1,781', '1,755', '1,996', '2,021', '2,038', '2,065', '2,068',\n",
       "       '1,993', '1,842', '1,814', '2,054', '1,853', '1,786', '1,844',\n",
       "       '2,095', '2,145', '1,788', '2,033', '1,863', '1,785', '2,088',\n",
       "       '2,309', '1,831', '1,751', '2,022', '1,734', '1,759', '1,716',\n",
       "       '1,835', '1,657', '2,200', '1,750', '2,080', '1,966', '2,090',\n",
       "       '1,931', '1,916', '1,952', '1,756', '1,811', '1,942', '1,818',\n",
       "       '1,807', '1,700', '1,500', '1,787', '1,766', '1,891', '1,963',\n",
       "       '1,711', '1,772', '1,892', '2,100', '2,050', '2,052', '1,765',\n",
       "       '1,976', '1,881', '2,211', '2,023', '2,199', '2,006', '2,072',\n",
       "       '2,043', '1,832', '1,730', '1,763', '1,884', '1,494', '1,495',\n",
       "       '1,883', '1,550', '1,446', '2,111', '1,804', '2,013', '2,181',\n",
       "       '1,933', '1,821', '1,981', '1,499', '1,519', '1,505', '1,374',\n",
       "       '1,469', '1,489', '1,449', '1,399', '1,436', '1,389', '1,537',\n",
       "       '1,548', '1,539', '1,534', '1,504', '1,536', '1,509', '1,529',\n",
       "       '1,514', '1,522', '1,513', '1,485', '1,468', '1,487', '1,451',\n",
       "       '1,439', '1,527', '1,479', '1,531', '1,599', '1,573', '1,532',\n",
       "       '1,484', '1,525', '1,544', '1,379', '1,524', '1,559', '1,503',\n",
       "       '1,397', '1,510', '1,520', '1,579', '1,528', '1,483', '1,526',\n",
       "       '1,538', '1,515', '1,448', '1,454', '1,415', '1,497', '1,546',\n",
       "       '1,567', '1,444', '1,517', '1,609', '1,926', '2,032', '1,822',\n",
       "       '1,907', '2,085', '1,872', '1,518', '1,474', '1,562', '1,658',\n",
       "       '1,496', '1,445', '1,480', '1,492', '1,695', '1,678', '1,512',\n",
       "       '1,429', '1,419', '1,680', '1,319', '1,498', '1,493', '1,299',\n",
       "       '1,491', '1,554', '1,733', '1,549', '1,434', '1,478', '2,053',\n",
       "       '1,530', '1,801', '1,862', '1,823', '1,737', '1,768', '1,861',\n",
       "       '2,119', '2,150', '1,702', '1,762', '1,923', '2,101', '1,943',\n",
       "       '1,803', '1,660'], dtype=object)"
      ]
     },
     "execution_count": 63,
     "metadata": {},
     "output_type": "execute_result"
    }
   ],
   "source": [
    "Gasoleo_A = df_n['Precio Gasoleo A'].unique()\n",
    "print(len(Gasoleo_A))\n",
    "print(type(Gasoleo_A))\n",
    "Gasoleo_A"
   ]
  },
  {
   "cell_type": "code",
   "execution_count": 64,
   "id": "03079146",
   "metadata": {},
   "outputs": [],
   "source": [
    "# Convertimos columna categórica a numérica, primero tenemos que sustituir , por .\n",
    "df_n['Precio Gasoleo A']=df_n['Precio Gasoleo A'].str.replace(',','.')\n",
    "df_n[['Precio Gasoleo A']]=df_n[['Precio Gasoleo A']].apply(pd.to_numeric)"
   ]
  },
  {
   "cell_type": "code",
   "execution_count": 65,
   "id": "b2093cd9",
   "metadata": {},
   "outputs": [
    {
     "data": {
      "text/plain": [
       "count    11445.000000\n",
       "mean         1.946454\n",
       "std          0.116094\n",
       "min          1.299000\n",
       "25%          1.899000\n",
       "50%          1.979000\n",
       "75%          2.019000\n",
       "max          2.309000\n",
       "Name: Precio Gasoleo A, dtype: float64"
      ]
     },
     "execution_count": 65,
     "metadata": {},
     "output_type": "execute_result"
    }
   ],
   "source": [
    "df_n['Precio Gasoleo A'].describe()\n"
   ]
  },
  {
   "cell_type": "code",
   "execution_count": 66,
   "id": "a0c57df7",
   "metadata": {},
   "outputs": [
    {
     "data": {
      "text/plain": [
       "347"
      ]
     },
     "execution_count": 66,
     "metadata": {},
     "output_type": "execute_result"
    }
   ],
   "source": [
    "# Registros sin venta Gasoleo A\n",
    "sin_suministro_gA = df_n['Precio Gasoleo A'].isnull().sum()\n",
    "sin_suministro_gA"
   ]
  },
  {
   "cell_type": "code",
   "execution_count": 67,
   "id": "2fd05b04",
   "metadata": {},
   "outputs": [
    {
     "data": {
      "text/plain": [
       "0"
      ]
     },
     "execution_count": 67,
     "metadata": {},
     "output_type": "execute_result"
    }
   ],
   "source": [
    "ceros_sin_suministro_gA = (df_n['Precio Gasoleo A'] == 0).sum()\n",
    "ceros_sin_suministro_gA"
   ]
  },
  {
   "cell_type": "markdown",
   "id": "6b8fd3b9",
   "metadata": {},
   "source": [
    "# Gasoleo B"
   ]
  },
  {
   "cell_type": "code",
   "execution_count": 68,
   "id": "90c596c9",
   "metadata": {},
   "outputs": [
    {
     "name": "stdout",
     "output_type": "stream",
     "text": [
      "430\n",
      "<class 'numpy.ndarray'>\n"
     ]
    },
    {
     "data": {
      "text/plain": [
       "array(['1,460', '', '1,621', '1,450', '1,440', '1,639', '1,539', '1,559',\n",
       "       '1,446', '1,690', '1,438', '1,635', '1,499', '1,470', '1,609',\n",
       "       '1,550', '1,578', '1,524', '1,529', '1,428', '1,657', '1,400',\n",
       "       '1,699', '1,650', '1,617', '1,588', '1,451', '1,530', '1,669',\n",
       "       '1,449', '1,377', '1,490', '1,665', '1,430', '1,679', '1,375',\n",
       "       '1,370', '1,629', '1,574', '1,457', '1,267', '1,602', '1,481',\n",
       "       '1,589', '1,569', '1,599', '1,420', '1,719', '1,619', '1,649',\n",
       "       '1,689', '1,579', '1,659', '1,076', '1,601', '1,682', '1,600',\n",
       "       '1,749', '1,595', '1,610', '1,779', '1,672', '1,469', '1,714',\n",
       "       '1,676', '1,608', '1,643', '1,700', '1,491', '1,489', '1,553',\n",
       "       '1,500', '1,495', '1,604', '1,594', '1,585', '1,554', '1,473',\n",
       "       '1,412', '1,549', '1,488', '1,475', '1,570', '1,620', '1,615',\n",
       "       '1,685', '1,509', '1,479', '1,645', '1,769', '1,739', '1,625',\n",
       "       '1,849', '1,759', '1,729', '1,584', '1,627', '1,454', '1,725',\n",
       "       '1,658', '1,638', '1,642', '1,590', '1,709', '1,558', '1,614',\n",
       "       '1,605', '1,800', '1,607', '1,540', '1,687', '1,674', '1,694',\n",
       "       '1,565', '1,525', '1,829', '1,596', '1,427', '1,809', '1,697',\n",
       "       '1,561', '1,444', '1,622', '1,634', '1,403', '1,644', '1,294',\n",
       "       '1,387', '1,379', '1,592', '1,603', '1,448', '1,512', '1,583',\n",
       "       '1,670', '1,480', '1,528', '1,510', '1,459', '1,435', '1,750',\n",
       "       '1,340', '1,630', '1,393', '1,452', '1,456', '1,109', '1,398',\n",
       "       '1,442', '1,349', '1,492', '1,507', '1,413', '1,533', '1,386',\n",
       "       '1,519', '1,522', '1,447', '1,647', '1,520', '1,421', '1,455',\n",
       "       '1,537', '1,315', '1,587', '1,411', '1,409', '1,545', '1,399',\n",
       "       '1,471', '1,439', '1,675', '1,662', '1,667', '1,949', '1,567',\n",
       "       '1,535', '1,547', '1,677', '1,691', '1,506', '1,733', '1,711',\n",
       "       '1,654', '1,640', '1,710', '1,708', '1,564', '1,612', '1,390',\n",
       "       '1,333', '1,416', '1,656', '1,582', '1,009', '1,429', '1,628',\n",
       "       '1,668', '1,404', '1,425', '1,616', '1,496', '1,468', '1,613',\n",
       "       '1,397', '1,618', '1,571', '1,580', '1,611', '1,626', '1,606',\n",
       "       '1,581', '1,560', '1,778', '1,586', '1,573', '1,598', '1,498',\n",
       "       '1,566', '1,652', '1,365', '1,465', '1,437', '1,485', '1,395',\n",
       "       '1,426', '1,434', '1,575', '1,415', '1,653', '1,360', '1,663',\n",
       "       '1,299', '1,483', '1,680', '1,563', '1,555', '1,408', '1,383',\n",
       "       '1,419', '1,422', '1,389', '1,357', '1,417', '1,378', '1,534',\n",
       "       '1,597', '1,556', '1,380', '1,410', '1,353', '1,651', '1,631',\n",
       "       '1,698', '1,661', '1,632', '1,591', '1,636', '1,705', '1,686',\n",
       "       '1,695', '1,436', '1,300', '1,541', '1,467', '1,538', '1,474',\n",
       "       '1,464', '1,348', '1,731', '1,724', '1,688', '1,721', '1,514',\n",
       "       '1,742', '1,624', '1,890', '1,671', '1,542', '1,385', '1,799',\n",
       "       '1,548', '1,505', '1,367', '1,472', '1,358', '1,445', '1,504',\n",
       "       '1,526', '1,568', '1,789', '1,355', '1,900', '1,646', '1,482',\n",
       "       '1,337', '1,684', '1,655', '1,760', '1,431', '1,503', '1,593',\n",
       "       '1,477', '1,214', '1,391', '1,432', '1,350', '1,463', '1,660',\n",
       "       '1,484', '1,557', '1,317', '1,641', '1,487', '1,466', '1,170',\n",
       "       '1,263', '1,531', '1,392', '1,577', '1,330', '1,361', '1,546',\n",
       "       '1,329', '1,320', '1,369', '1,678', '1,673', '1,737', '1,768',\n",
       "       '1,576', '1,384', '1,326', '1,352', '1,523', '1,396', '1,745',\n",
       "       '1,418', '1,517', '1,521', '1,405', '1,424', '1,371', '1,486',\n",
       "       '1,458', '1,839', '1,494', '1,200', '1,441', '1,289', '1,664',\n",
       "       '1,730', '1,552', '1,755', '1,423', '1,508', '1,859', '1,744',\n",
       "       '1,720', '1,702', '1,692', '1,536', '1,443', '1,637', '1,648',\n",
       "       '1,518', '1,388', '1,462', '1,414', '1,461', '1,338', '1,497',\n",
       "       '1,551', '1,130', '1,476', '1,623', '1,269', '1,286', '1,280',\n",
       "       '1,516', '1,351', '1,253', '1,515', '1,501', '1,339', '1,572',\n",
       "       '1,382', '1,368', '1,296', '1,732', '1,227', '1,345'], dtype=object)"
      ]
     },
     "execution_count": 68,
     "metadata": {},
     "output_type": "execute_result"
    }
   ],
   "source": [
    "Gasoleo_B = df_n['Precio Gasoleo B'].unique()\n",
    "print(len(Gasoleo_A))\n",
    "print(type(Gasoleo_A))\n",
    "Gasoleo_B"
   ]
  },
  {
   "cell_type": "code",
   "execution_count": 69,
   "id": "b9ff1285",
   "metadata": {},
   "outputs": [],
   "source": [
    "# Convertimos columna categórica a numérica, primero tenemos que sustituir , por .\n",
    "df_n['Precio Gasoleo B']=df_n['Precio Gasoleo B'].str.replace(',','.')\n",
    "df_n[['Precio Gasoleo B']]=df_n[['Precio Gasoleo B']].apply(pd.to_numeric)"
   ]
  },
  {
   "cell_type": "code",
   "execution_count": 70,
   "id": "40bfd63c",
   "metadata": {},
   "outputs": [
    {
     "data": {
      "text/plain": [
       "count    3003.000000\n",
       "mean        1.558440\n",
       "std         0.102439\n",
       "min         1.009000\n",
       "25%         1.480000\n",
       "50%         1.574000\n",
       "75%         1.632000\n",
       "max         1.949000\n",
       "Name: Precio Gasoleo B, dtype: float64"
      ]
     },
     "execution_count": 70,
     "metadata": {},
     "output_type": "execute_result"
    }
   ],
   "source": [
    "df_n['Precio Gasoleo B'].describe()\n"
   ]
  },
  {
   "cell_type": "code",
   "execution_count": 71,
   "id": "ee5cfffa",
   "metadata": {},
   "outputs": [
    {
     "data": {
      "text/plain": [
       "8789"
      ]
     },
     "execution_count": 71,
     "metadata": {},
     "output_type": "execute_result"
    }
   ],
   "source": [
    "# Registros sin venta Gasoleo B\n",
    "sin_suministro_gB = df_n['Precio Gasoleo B'].isnull().sum()\n",
    "sin_suministro_gB"
   ]
  },
  {
   "cell_type": "code",
   "execution_count": 72,
   "id": "1654e9f7",
   "metadata": {},
   "outputs": [
    {
     "data": {
      "text/plain": [
       "0"
      ]
     },
     "execution_count": 72,
     "metadata": {},
     "output_type": "execute_result"
    }
   ],
   "source": [
    "ceros_sin_suministro_gB = (df_n['Precio Gasoleo B'] == 0).sum()\n",
    "ceros_sin_suministro_gB"
   ]
  },
  {
   "cell_type": "markdown",
   "id": "24d3a7ce",
   "metadata": {},
   "source": [
    "# Precio Gasoleo Premium "
   ]
  },
  {
   "cell_type": "code",
   "execution_count": 73,
   "id": "e25d3aaf",
   "metadata": {},
   "outputs": [
    {
     "name": "stdout",
     "output_type": "stream",
     "text": [
      "362\n",
      "<class 'numpy.ndarray'>\n"
     ]
    },
    {
     "data": {
      "text/plain": [
       "array(['', '2,300', '2,129', '2,059', '2,089', '1,948', '2,019', '2,069',\n",
       "       '2,099', '1,979', '2,079', '2,065', '1,959', '2,119', '2,029',\n",
       "       '1,999', '1,966', '1,989', '1,949', '2,095', '2,125', '2,044',\n",
       "       '2,039', '2,109', '2,049', '1,969', '2,139', '2,009', '1,889',\n",
       "       '2,084', '2,075', '1,867', '2,115', '2,058', '2,093', '2,159',\n",
       "       '1,899', '1,939', '1,909', '2,074', '2,001', '1,975', '1,875',\n",
       "       '1,984', '2,097', '2,026', '2,081', '2,020', '2,124', '1,988',\n",
       "       '2,111', '2,055', '2,098', '2,105', '2,091', '1,829', '2,999',\n",
       "       '1,919', '1,929', '2,092', '1,905', '1,974', '1,935', '2,022',\n",
       "       '1,977', '2,086', '1,878', '1,869', '1,897', '1,985', '1,879',\n",
       "       '1,926', '1,880', '1,916', '1,865', '1,845', '1,903', '1,858',\n",
       "       '1,895', '2,094', '2,205', '2,149', '2,134', '2,169', '1,887',\n",
       "       '1,947', '2,054', '2,085', '1,968', '1,953', '2,034', '1,917',\n",
       "       '1,913', '1,950', '2,050', '2,135', '2,117', '1,970', '2,145',\n",
       "       '1,859', '2,130', '2,138', '2,083', '2,090', '2,030', '1,789',\n",
       "       '1,874', '2,072', '1,765', '2,078', '2,005', '1,819', '2,179',\n",
       "       '2,121', '1,898', '2,128', '1,998', '2,137', '2,101', '2,082',\n",
       "       '2,127', '2,045', '1,908', '2,061', '2,229', '2,040', '1,924',\n",
       "       '1,928', '2,060', '1,868', '1,955', '1,918', '2,104', '2,076',\n",
       "       '1,849', '2,064', '2,024', '2,071', '2,116', '2,015', '1,810',\n",
       "       '1,885', '1,956', '1,946', '1,855', '1,995', '1,827', '1,904',\n",
       "       '1,809', '1,938', '2,011', '1,987', '1,957', '2,100', '1,920',\n",
       "       '2,175', '2,047', '2,077', '1,839', '2,025', '1,910', '2,161',\n",
       "       '2,199', '2,120', '2,166', '1,996', '2,048', '2,118', '1,972',\n",
       "       '2,000', '1,847', '2,057', '1,994', '2,070', '2,004', '2,041',\n",
       "       '1,629', '1,609', '2,028', '1,844', '2,056', '1,860', '1,945',\n",
       "       '2,035', '1,954', '1,983', '2,046', '2,068', '2,027', '2,088',\n",
       "       '1,965', '1,990', '2,155', '2,144', '2,110', '2,148', '2,211',\n",
       "       '1,980', '2,189', '2,114', '2,067', '2,106', '1,992', '1,914',\n",
       "       '2,187', '2,007', '2,063', '2,080', '1,997', '2,107', '1,870',\n",
       "       '1,925', '1,982', '2,006', '1,881', '2,073', '1,927', '2,126',\n",
       "       '1,877', '1,774', '2,066', '2,051', '1,854', '1,799', '2,165',\n",
       "       '2,017', '2,122', '2,087', '2,131', '1,777', '1,886', '1,857',\n",
       "       '2,172', '1,915', '2,038', '1,964', '1,807', '2,108', '1,891',\n",
       "       '1,941', '1,835', '2,053', '1,892', '1,534', '1,545', '2,032',\n",
       "       '2,123', '1,836', '1,888', '1,930', '1,896', '1,837', '2,008',\n",
       "       '2,018', '2,301', '2,062', '1,649', '1,639', '1,604', '1,659',\n",
       "       '1,579', '1,669', '1,605', '1,550', '1,709', '1,679', '1,634',\n",
       "       '1,635', '1,631', '1,624', '1,619', '1,618', '1,601', '1,611',\n",
       "       '1,625', '1,479', '1,565', '1,689', '1,719', '1,718', '1,830',\n",
       "       '1,654', '1,642', '1,630', '1,614', '1,640', '1,549', '1,620',\n",
       "       '1,525', '1,622', '1,729', '1,644', '1,636', '1,594', '1,599',\n",
       "       '1,628', '1,648', '1,584', '1,510', '1,554', '1,557', '1,585',\n",
       "       '1,600', '1,688', '1,700', '1,637', '2,112', '1,961', '2,014',\n",
       "       '1,643', '1,840', '1,615', '1,646', '1,816', '1,626', '1,547',\n",
       "       '1,725', '1,589', '1,569', '1,544', '1,529', '1,580', '1,815',\n",
       "       '1,780', '1,603', '1,573', '1,469', '1,559', '1,633', '1,590',\n",
       "       '1,638', '1,740', '1,776', '1,623', '1,671', '1,588', '1,606',\n",
       "       '2,188', '1,795', '2,157', '1,906', '1,850', '1,825', '1,981',\n",
       "       '2,031', '2,036', '1,960', '1,756', '2,037', '1,967', '2,141',\n",
       "       '2,185', '1,978', '1,890', '1,843', '2,033', '1,814', '2,151',\n",
       "       '1,937', '1,779', '1,884', '1,846'], dtype=object)"
      ]
     },
     "execution_count": 73,
     "metadata": {},
     "output_type": "execute_result"
    }
   ],
   "source": [
    "Gasoleo_P = df_n['Precio Gasoleo Premium'].unique()\n",
    "print(len(Gasoleo_P))\n",
    "print(type(Gasoleo_P))\n",
    "Gasoleo_P"
   ]
  },
  {
   "cell_type": "code",
   "execution_count": 74,
   "id": "b2743f33",
   "metadata": {},
   "outputs": [],
   "source": [
    "# Convertimos columna categórica a numérica, primero tenemos que sustituir , por .\n",
    "df_n['Precio Gasoleo Premium']=df_n['Precio Gasoleo Premium'].str.replace(',','.')\n",
    "df_n[['Precio Gasoleo Premium']]=df_n[['Precio Gasoleo Premium']].apply(pd.to_numeric)"
   ]
  },
  {
   "cell_type": "code",
   "execution_count": 75,
   "id": "10e79699",
   "metadata": {},
   "outputs": [
    {
     "data": {
      "text/plain": [
       "count    7498.000000\n",
       "mean        2.043400\n",
       "std         0.113722\n",
       "min         1.469000\n",
       "25%         2.029000\n",
       "50%         2.077000\n",
       "75%         2.109000\n",
       "max         2.999000\n",
       "Name: Precio Gasoleo Premium, dtype: float64"
      ]
     },
     "execution_count": 75,
     "metadata": {},
     "output_type": "execute_result"
    }
   ],
   "source": [
    "df_n['Precio Gasoleo Premium'].describe()"
   ]
  },
  {
   "cell_type": "code",
   "execution_count": 76,
   "id": "9666e5b7",
   "metadata": {},
   "outputs": [
    {
     "data": {
      "text/plain": [
       "4294"
      ]
     },
     "execution_count": 76,
     "metadata": {},
     "output_type": "execute_result"
    }
   ],
   "source": [
    "# Registros sin venta Gasoleo Premium\n",
    "sin_suministro_gP = df_n['Precio Gasoleo Premium'].isnull().sum()\n",
    "sin_suministro_gP"
   ]
  },
  {
   "cell_type": "code",
   "execution_count": 77,
   "id": "c62c56a0",
   "metadata": {},
   "outputs": [
    {
     "data": {
      "text/plain": [
       "0"
      ]
     },
     "execution_count": 77,
     "metadata": {},
     "output_type": "execute_result"
    }
   ],
   "source": [
    "ceros_sin_suministro_gP = (df_n['Precio Gasoleo Premium'] == 0).sum()\n",
    "ceros_sin_suministro_gP"
   ]
  },
  {
   "cell_type": "markdown",
   "id": "1af7f46d",
   "metadata": {},
   "source": [
    "# Precio Gasolina 95 E10 "
   ]
  },
  {
   "cell_type": "code",
   "execution_count": 78,
   "id": "a3d6c6e1",
   "metadata": {},
   "outputs": [
    {
     "name": "stdout",
     "output_type": "stream",
     "text": [
      "21\n",
      "<class 'numpy.ndarray'>\n"
     ]
    },
    {
     "data": {
      "text/plain": [
       "array(['', '2,109', '1,949', '1,799', '1,839', '1,720', '1,829', '1,919',\n",
       "       '1,959', '1,840', '1,869', '1,699', '1,749', '1,669', '1,879',\n",
       "       '1,899', '1,929', '1,969', '1,759', '1,868', '1,864'], dtype=object)"
      ]
     },
     "execution_count": 78,
     "metadata": {},
     "output_type": "execute_result"
    }
   ],
   "source": [
    "g95_E10 = df_n['Precio Gasolina 95 E10'].unique()\n",
    "print(len(g95_E10))\n",
    "print(type(g95_E10))\n",
    "g95_E10"
   ]
  },
  {
   "cell_type": "code",
   "execution_count": 79,
   "id": "c2203d4d",
   "metadata": {},
   "outputs": [],
   "source": [
    "# Convertimos columna categórica a numérica, primero tenemos que sustituir , por .\n",
    "df_n['Precio Gasolina 95 E10']=df_n['Precio Gasolina 95 E10'].str.replace(',','.')\n",
    "df_n[['Precio Gasolina 95 E10']]=df_n[['Precio Gasolina 95 E10']].apply(pd.to_numeric)"
   ]
  },
  {
   "cell_type": "code",
   "execution_count": 80,
   "id": "01212952",
   "metadata": {},
   "outputs": [
    {
     "data": {
      "text/plain": [
       "count    22.000000\n",
       "mean      1.850636\n",
       "std       0.106335\n",
       "min       1.669000\n",
       "25%       1.769000\n",
       "50%       1.866000\n",
       "75%       1.914000\n",
       "max       2.109000\n",
       "Name: Precio Gasolina 95 E10, dtype: float64"
      ]
     },
     "execution_count": 80,
     "metadata": {},
     "output_type": "execute_result"
    }
   ],
   "source": [
    " df_n['Precio Gasolina 95 E10'].describe()"
   ]
  },
  {
   "cell_type": "code",
   "execution_count": 81,
   "id": "6aaa6a7b",
   "metadata": {},
   "outputs": [
    {
     "data": {
      "text/plain": [
       "11770"
      ]
     },
     "execution_count": 81,
     "metadata": {},
     "output_type": "execute_result"
    }
   ],
   "source": [
    "# Registros sin venta Gasoleo Premium\n",
    "sin_suministro_95E10 = df_n['Precio Gasolina 95 E10'].isnull().sum()\n",
    "sin_suministro_95E10"
   ]
  },
  {
   "cell_type": "markdown",
   "id": "3e9e3b58",
   "metadata": {},
   "source": [
    "# Precio Gasolina 95 E5"
   ]
  },
  {
   "cell_type": "code",
   "execution_count": 82,
   "id": "a04d4e77",
   "metadata": {},
   "outputs": [
    {
     "name": "stdout",
     "output_type": "stream",
     "text": [
      "457\n",
      "<class 'numpy.ndarray'>\n"
     ]
    },
    {
     "data": {
      "text/plain": [
       "array(['1,769', '1,909', '1,829', '1,859', '1,687', '', '1,799', '1,698',\n",
       "       '1,759', '1,809', '1,789', '1,779', '1,699', '1,749', '1,730',\n",
       "       '1,745', '1,739', '1,819', '1,689', '1,750', '1,719', '2,299',\n",
       "       '1,794', '1,834', '1,652', '1,729', '1,632', '1,760', '1,709',\n",
       "       '1,708', '1,669', '1,775', '1,899', '1,805', '1,602', '1,678',\n",
       "       '1,627', '1,673', '1,784', '1,715', '1,824', '1,697', '1,679',\n",
       "       '1,849', '1,677', '1,839', '1,619', '1,639', '1,659', '1,577',\n",
       "       '1,777', '1,547', '1,696', '1,812', '1,793', '1,778', '1,755',\n",
       "       '1,854', '1,667', '1,869', '1,657', '1,748', '1,823', '1,649',\n",
       "       '1,717', '1,757', '1,800', '1,855', '1,625', '1,783', '1,725',\n",
       "       '1,764', '1,614', '1,635', '1,774', '1,787', '1,744', '1,804',\n",
       "       '1,734', '1,746', '1,884', '1,879', '1,814', '1,818', '1,795',\n",
       "       '1,828', '1,768', '1,840', '1,589', '1,599', '1,904', '1,914',\n",
       "       '1,758', '1,786', '1,629', '1,695', '1,617', '1,765', '1,864',\n",
       "       '1,737', '1,637', '1,831', '1,767', '1,668', '1,688', '1,830',\n",
       "       '1,837', '1,680', '1,785', '1,690', '1,969', '1,640', '1,666',\n",
       "       '1,630', '1,732', '1,798', '1,685', '1,743', '1,670', '1,825',\n",
       "       '1,655', '1,889', '1,835', '1,780', '1,919', '1,770', '1,875',\n",
       "       '1,894', '1,898', '1,844', '1,880', '1,728', '1,724', '2,000',\n",
       "       '1,850', '1,874', '1,747', '1,929', '1,918', '1,773', '1,870',\n",
       "       '1,888', '1,700', '1,676', '2,019', '1,740', '1,857', '1,609',\n",
       "       '1,920', '1,790', '1,838', '1,735', '1,845', '1,733', '1,738',\n",
       "       '1,999', '1,853', '1,846', '1,868', '1,788', '1,827', '1,801',\n",
       "       '1,588', '1,727', '1,694', '1,876', '1,618', '1,959', '1,848',\n",
       "       '1,871', '1,756', '1,877', '1,742', '1,592', '1,931', '1,704',\n",
       "       '1,647', '1,587', '1,948', '1,591', '1,658', '1,883', '1,808',\n",
       "       '1,718', '1,590', '1,726', '1,608', '1,578', '1,684', '1,598',\n",
       "       '1,593', '1,865', '1,930', '1,939', '2,074', '1,924', '1,908',\n",
       "       '1,797', '2,149', '1,915', '1,796', '1,890', '1,810', '1,947',\n",
       "       '1,610', '1,979', '1,816', '1,856', '1,660', '1,815', '1,720',\n",
       "       '1,579', '1,648', '1,604', '1,900', '1,714', '1,600', '1,710',\n",
       "       '1,620', '1,772', '1,603', '1,484', '1,465', '1,483', '1,791',\n",
       "       '1,675', '1,663', '1,645', '1,644', '1,624', '1,803', '1,820',\n",
       "       '1,560', '1,650', '1,836', '1,671', '1,308', '1,340', '1,597',\n",
       "       '1,901', '1,761', '1,817', '1,897', '1,806', '1,933', '1,885',\n",
       "       '1,935', '1,851', '1,911', '1,925', '1,832', '1,905', '1,917',\n",
       "       '1,705', '1,646', '1,802', '1,965', '1,686', '1,950', '1,662',\n",
       "       '1,949', '1,656', '1,766', '1,615', '1,847', '2,329', '1,672',\n",
       "       '1,860', '1,643', '1,665', '1,858', '1,887', '1,881', '1,754',\n",
       "       '1,833', '1,741', '1,681', '1,826', '1,706', '1,878', '1,634',\n",
       "       '1,751', '1,702', '1,651', '2,120', '1,703', '1,594', '1,595',\n",
       "       '1,596', '1,711', '1,682', '1,612', '1,752', '1,565', '1,622',\n",
       "       '1,567', '2,049', '1,989', '1,569', '1,843', '1,910', '1,928',\n",
       "       '1,882', '1,736', '1,712', '1,713', '1,636', '1,731', '1,664',\n",
       "       '1,661', '1,408', '1,409', '1,478', '1,763', '1,723', '2,100',\n",
       "       '1,841', '1,776', '2,111', '1,623', '1,807', '1,981', '1,852',\n",
       "       '1,923', '1,494', '1,399', '1,448', '1,279', '1,459', '1,419',\n",
       "       '1,249', '1,359', '1,233', '1,339', '1,439', '1,300', '1,438',\n",
       "       '1,389', '1,169', '1,499', '1,488', '1,479', '1,469', '1,440',\n",
       "       '1,474', '1,471', '1,444', '1,454', '1,430', '1,489', '1,492',\n",
       "       '1,485', '1,495', '1,447', '1,259', '1,475', '1,429', '1,349',\n",
       "       '1,379', '1,487', '1,482', '1,521', '1,503', '1,502', '1,239',\n",
       "       '1,529', '1,473', '1,289', '1,480', '1,468', '1,559', '1,514',\n",
       "       '1,466', '1,496', '1,445', '1,455', '1,449', '1,428', '1,434',\n",
       "       '1,374', '1,378', '1,417', '1,450', '1,498', '1,497', '1,866',\n",
       "       '1,229', '1,205', '1,394', '1,392', '1,381', '1,380', '1,355',\n",
       "       '1,382', '1,581', '1,585', '1,404', '1,385', '1,611', '1,549',\n",
       "       '1,432', '1,410', '1,297', '1,369', '1,352', '1,605', '1,427',\n",
       "       '1,295', '1,415', '1,425', '1,550', '1,375', '1,199', '1,299',\n",
       "       '1,179', '1,365', '1,442', '1,377', '1,364', '1,424', '1,423',\n",
       "       '1,414', '1,395', '1,314', '1,472', '1,396', '1,350', '1,537',\n",
       "       '1,403', '1,413', '1,250', '1,453', '1,230', '1,383', '1,384',\n",
       "       '1,371', '1,372', '1,477', '1,418', '1,388', '1,633', '1,842',\n",
       "       '2,024', '1,753', '1,654', '1,782', '1,707', '1,641', '1,691',\n",
       "       '1,692', '1,722', '2,027', '1,638', '1,867', '1,781', '1,601',\n",
       "       '1,683'], dtype=object)"
      ]
     },
     "execution_count": 82,
     "metadata": {},
     "output_type": "execute_result"
    }
   ],
   "source": [
    "g95_E5 = df_n['Precio Gasolina 95 E5'].unique()\n",
    "print(len(g95_E5))\n",
    "print(type(g95_E5))\n",
    "g95_E5"
   ]
  },
  {
   "cell_type": "code",
   "execution_count": 83,
   "id": "196f251e",
   "metadata": {},
   "outputs": [],
   "source": [
    "# Convertimos columna categórica a numérica, primero tenemos que sustituir , por .\n",
    "df_n['Precio Gasolina 95 E5']=df_n['Precio Gasolina 95 E5'].str.replace(',','.')\n",
    "df_n[['Precio Gasolina 95 E5']]=df_n[['Precio Gasolina 95 E5']].apply(pd.to_numeric)"
   ]
  },
  {
   "cell_type": "code",
   "execution_count": 84,
   "id": "621ec9bd",
   "metadata": {},
   "outputs": [
    {
     "data": {
      "text/plain": [
       "count    10642.000000\n",
       "mean         1.775169\n",
       "std          0.102950\n",
       "min          1.169000\n",
       "25%          1.735000\n",
       "50%          1.799000\n",
       "75%          1.839000\n",
       "max          2.329000\n",
       "Name: Precio Gasolina 95 E5, dtype: float64"
      ]
     },
     "execution_count": 84,
     "metadata": {},
     "output_type": "execute_result"
    }
   ],
   "source": [
    "df_n['Precio Gasolina 95 E5'].describe()"
   ]
  },
  {
   "cell_type": "code",
   "execution_count": 85,
   "id": "56396333",
   "metadata": {},
   "outputs": [
    {
     "data": {
      "text/plain": [
       "1150"
      ]
     },
     "execution_count": 85,
     "metadata": {},
     "output_type": "execute_result"
    }
   ],
   "source": [
    "# Registros sin venta Gasoleo Premium\n",
    "sin_suministro_g95E5 = df_n['Precio Gasolina 95 E5'].isnull().sum()\n",
    "sin_suministro_g95E5"
   ]
  },
  {
   "cell_type": "code",
   "execution_count": 86,
   "id": "c8cc07ca",
   "metadata": {},
   "outputs": [
    {
     "data": {
      "text/plain": [
       "0"
      ]
     },
     "execution_count": 86,
     "metadata": {},
     "output_type": "execute_result"
    }
   ],
   "source": [
    "ceros_sin_suministro_g95E5  = (df_n['Precio Gasolina 95 E5'] == 0).sum()\n",
    "ceros_sin_suministro_g95E5 "
   ]
  },
  {
   "cell_type": "markdown",
   "id": "fe877ab4",
   "metadata": {},
   "source": [
    "# Precio Gasolina 95 E5 Premium"
   ]
  },
  {
   "cell_type": "code",
   "execution_count": 87,
   "id": "5586de3c",
   "metadata": {},
   "outputs": [
    {
     "name": "stdout",
     "output_type": "stream",
     "text": [
      "100\n",
      "<class 'numpy.ndarray'>\n"
     ]
    },
    {
     "data": {
      "text/plain": [
       "array(['', '1,899', '1,869', '1,799', '1,879', '1,829', '1,859', '1,809',\n",
       "       '1,979', '1,849', '1,924', '1,872', '1,874', '1,779', '1,909',\n",
       "       '1,839', '1,944', '1,889', '1,864', '1,845', '1,699', '1,789',\n",
       "       '1,939', '1,964', '1,884', '1,698', '1,894', '1,689', '1,914',\n",
       "       '1,989', '1,679', '1,656', '1,675', '1,999', '1,904', '1,949',\n",
       "       '1,819', '1,994', '1,959', '1,844', '1,929', '1,954', '1,919',\n",
       "       '1,969', '1,885', '1,974', '1,934', '1,824', '1,734', '1,794',\n",
       "       '1,814', '1,718', '1,769', '1,935', '1,947', '1,804', '1,867',\n",
       "       '1,749', '1,759', '1,840', '1,854', '1,519', '1,870', '1,709',\n",
       "       '1,835', '1,719', '1,908', '1,765', '1,846', '1,893', '1,905',\n",
       "       '1,827', '1,938', '1,710', '1,739', '1,708', '1,729', '1,717',\n",
       "       '1,748', '1,747', '1,726', '1,697', '1,696', '1,788', '1,627',\n",
       "       '1,808', '2,014', '1,359', '1,509', '1,444', '1,439', '1,892',\n",
       "       '1,865', '1,639', '1,888', '1,811', '1,690', '1,721', '2,099',\n",
       "       '1,878'], dtype=object)"
      ]
     },
     "execution_count": 87,
     "metadata": {},
     "output_type": "execute_result"
    }
   ],
   "source": [
    "g95_E5_P = df_n['Precio Gasolina 95 E5 Premium'].unique()\n",
    "print(len(g95_E5_P))\n",
    "print(type(g95_E5_P))\n",
    "g95_E5_P"
   ]
  },
  {
   "cell_type": "code",
   "execution_count": 88,
   "id": "4758d3d3",
   "metadata": {},
   "outputs": [],
   "source": [
    "# Convertimos columna categórica a numérica, primero tenemos que sustituir , por .\n",
    "df_n['Precio Gasolina 95 E5 Premium']=df_n['Precio Gasolina 95 E5 Premium'].str.replace(',','.')\n",
    "df_n[['Precio Gasolina 95 E5 Premium']]=df_n[['Precio Gasolina 95 E5 Premium']].apply(pd.to_numeric)"
   ]
  },
  {
   "cell_type": "code",
   "execution_count": 89,
   "id": "7d0a8e3a",
   "metadata": {},
   "outputs": [
    {
     "data": {
      "text/plain": [
       "count    803.000000\n",
       "mean       1.872020\n",
       "std        0.076385\n",
       "min        1.359000\n",
       "25%        1.849000\n",
       "50%        1.884000\n",
       "75%        1.919000\n",
       "max        2.099000\n",
       "Name: Precio Gasolina 95 E5 Premium, dtype: float64"
      ]
     },
     "execution_count": 89,
     "metadata": {},
     "output_type": "execute_result"
    }
   ],
   "source": [
    "df_n['Precio Gasolina 95 E5 Premium'].describe()"
   ]
  },
  {
   "cell_type": "code",
   "execution_count": 90,
   "id": "4a815e9d",
   "metadata": {},
   "outputs": [
    {
     "data": {
      "text/plain": [
       "10989"
      ]
     },
     "execution_count": 90,
     "metadata": {},
     "output_type": "execute_result"
    }
   ],
   "source": [
    "# Registros sin venta Gasolina 95 E5 Premium\n",
    "sin_suministro_g95E5_Prem = df_n['Precio Gasolina 95 E5 Premium'].isnull().sum()\n",
    "sin_suministro_g95E5_Prem"
   ]
  },
  {
   "cell_type": "code",
   "execution_count": 91,
   "id": "7ae51272",
   "metadata": {},
   "outputs": [
    {
     "data": {
      "text/plain": [
       "0"
      ]
     },
     "execution_count": 91,
     "metadata": {},
     "output_type": "execute_result"
    }
   ],
   "source": [
    "ceros_sin_suministro_g95E5_Prem  = (df_n['Precio Gasolina 95 E5 Premium'] == 0).sum()\n",
    "ceros_sin_suministro_g95E5 "
   ]
  },
  {
   "cell_type": "markdown",
   "id": "477ee508",
   "metadata": {},
   "source": [
    "# Precio Gasolina 98 E10"
   ]
  },
  {
   "cell_type": "code",
   "execution_count": 92,
   "id": "3b8c6a20",
   "metadata": {},
   "outputs": [
    {
     "name": "stdout",
     "output_type": "stream",
     "text": [
      "8\n",
      "<class 'numpy.ndarray'>\n"
     ]
    },
    {
     "data": {
      "text/plain": [
       "array(['', '1,995', '1,819', '1,760', '1,907', '1,939', '1,949', '1,838'],\n",
       "      dtype=object)"
      ]
     },
     "execution_count": 92,
     "metadata": {},
     "output_type": "execute_result"
    }
   ],
   "source": [
    "g98_E10 = df_n['Precio Gasolina 98 E10'].unique()\n",
    "print(len(g98_E10))\n",
    "print(type(g98_E10))\n",
    "g98_E10"
   ]
  },
  {
   "cell_type": "code",
   "execution_count": 93,
   "id": "77f0708e",
   "metadata": {},
   "outputs": [],
   "source": [
    "# Convertimos columna categórica a numérica, primero tenemos que sustituir , por .\n",
    "df_n['Precio Gasolina 98 E10']=df_n['Precio Gasolina 98 E10'].str.replace(',','.')\n",
    "df_n[['Precio Gasolina 98 E10']]=df_n[['Precio Gasolina 98 E10']].apply(pd.to_numeric)"
   ]
  },
  {
   "cell_type": "code",
   "execution_count": 94,
   "id": "0ce30530",
   "metadata": {},
   "outputs": [
    {
     "data": {
      "text/plain": [
       "count    8.000000\n",
       "mean     1.893250\n",
       "std      0.079424\n",
       "min      1.760000\n",
       "25%      1.833250\n",
       "50%      1.923000\n",
       "75%      1.941500\n",
       "max      1.995000\n",
       "Name: Precio Gasolina 98 E10, dtype: float64"
      ]
     },
     "execution_count": 94,
     "metadata": {},
     "output_type": "execute_result"
    }
   ],
   "source": [
    "df_n['Precio Gasolina 98 E10'].describe()"
   ]
  },
  {
   "cell_type": "code",
   "execution_count": 95,
   "id": "7846a3d5",
   "metadata": {},
   "outputs": [
    {
     "data": {
      "text/plain": [
       "11784"
      ]
     },
     "execution_count": 95,
     "metadata": {},
     "output_type": "execute_result"
    }
   ],
   "source": [
    "# Registros sin venta Gasolina 98 E10 \n",
    "sin_suministro_g98E10 = df_n['Precio Gasolina 98 E10'].isnull().sum()\n",
    "sin_suministro_g98E10"
   ]
  },
  {
   "cell_type": "markdown",
   "id": "d0eca28a",
   "metadata": {},
   "source": [
    "# Precio Gasolina 98 E5"
   ]
  },
  {
   "cell_type": "code",
   "execution_count": 96,
   "id": "b948ed78",
   "metadata": {},
   "outputs": [
    {
     "name": "stdout",
     "output_type": "stream",
     "text": [
      "414\n",
      "<class 'numpy.ndarray'>\n"
     ]
    },
    {
     "data": {
      "text/plain": [
       "array(['', '2,200', '1,971', '1,959', '1,939', '1,859', '1,919', '1,909',\n",
       "       '2,089', '1,911', '1,899', '1,879', '1,855', '1,869', '1,929',\n",
       "       '1,989', '2,369', '1,926', '1,931', '1,889', '1,961', '2,099',\n",
       "       '1,969', '1,861', '2,179', '1,941', '1,916', '1,944', '1,999',\n",
       "       '1,949', '1,849', '2,001', '1,947', '1,981', '1,823', '1,964',\n",
       "       '1,898', '1,927', '2,599', '2,009', '1,928', '2,041', '1,979',\n",
       "       '2,019', '1,848', '1,895', '1,937', '1,904', '1,805', '1,876',\n",
       "       '1,779', '1,946', '2,021', '1,930', '1,936', '1,970', '1,921',\n",
       "       '2,039', '2,044', '2,054', '2,999', '1,884', '1,991', '1,819',\n",
       "       '1,809', '1,915', '1,956', '1,875', '1,966', '1,980', '1,975',\n",
       "       '1,839', '1,758', '1,925', '1,828', '2,000', '1,953', '2,069',\n",
       "       '1,857', '2,071', '2,049', '1,955', '2,029', '2,059', '2,169',\n",
       "       '1,994', '2,038', '2,011', '2,026', '2,061', '1,976', '1,907',\n",
       "       '1,868', '1,840', '1,996', '1,986', '1,924', '2,031', '2,006',\n",
       "       '2,056', '1,940', '2,141', '1,917', '1,865', '2,109', '2,005',\n",
       "       '2,028', '1,799', '1,820', '1,954', '1,888', '1,890', '1,906',\n",
       "       '1,885', '1,990', '1,838', '1,846', '2,003', '1,998', '2,018',\n",
       "       '1,987', '1,985', '1,968', '1,978', '1,829', '1,920', '2,025',\n",
       "       '1,792', '1,901', '1,984', '2,046', '2,007', '1,951', '1,802',\n",
       "       '2,160', '1,914', '2,020', '1,722', '1,699', '1,950', '1,988',\n",
       "       '1,816', '2,180', '1,725', '1,974', '1,864', '1,896', '2,150',\n",
       "       '1,938', '1,935', '1,749', '1,712', '2,047', '1,995', '1,822',\n",
       "       '1,908', '1,934', '2,079', '2,124', '2,078', '2,098', '2,051',\n",
       "       '2,027', '2,085', '2,073', '1,958', '2,157', '2,199', '2,219',\n",
       "       '1,878', '2,139', '2,014', '1,785', '1,874', '1,767', '2,057',\n",
       "       '1,880', '1,945', '2,209', '1,789', '1,887', '2,048', '1,499',\n",
       "       '1,513', '2,149', '1,871', '2,229', '1,845', '1,815', '1,856',\n",
       "       '1,965', '2,095', '1,942', '2,159', '2,065', '2,100', '2,017',\n",
       "       '2,016', '2,195', '1,932', '1,918', '1,740', '1,886', '1,842',\n",
       "       '2,060', '2,010', '2,129', '1,851', '1,957', '2,052', '1,755',\n",
       "       '2,024', '1,810', '1,963', '1,821', '1,776', '2,500', '1,905',\n",
       "       '1,997', '1,894', '1,900', '1,913', '1,948', '2,299', '1,835',\n",
       "       '1,602', '2,074', '2,032', '2,015', '1,765', '1,769', '1,729',\n",
       "       '2,075', '1,727', '1,902', '1,739', '1,960', '2,034', '1,962',\n",
       "       '2,140', '1,843', '2,068', '1,788', '2,239', '1,833', '1,844',\n",
       "       '1,993', '1,952', '1,757', '1,825', '1,858', '1,797', '1,748',\n",
       "       '1,790', '2,215', '1,977', '1,897', '1,584', '1,519', '1,579',\n",
       "       '1,534', '1,669', '1,549', '1,459', '1,417', '1,599', '1,589',\n",
       "       '1,450', '1,569', '1,509', '1,659', '1,613', '1,609', '1,551',\n",
       "       '1,582', '1,581', '1,544', '1,542', '1,639', '1,612', '1,649',\n",
       "       '1,588', '1,593', '1,629', '1,601', '1,617', '1,409', '1,558',\n",
       "       '1,576', '1,635', '1,684', '1,663', '1,598', '1,614', '1,600',\n",
       "       '1,632', '1,604', '1,574', '1,529', '1,620', '1,610', '1,580',\n",
       "       '1,674', '1,689', '1,624', '1,564', '1,567', '1,625', '1,626',\n",
       "       '1,554', '1,578', '1,559', '1,573', '1,595', '1,590', '1,605',\n",
       "       '1,585', '1,380', '1,594', '1,492', '1,628', '1,498', '1,648',\n",
       "       '1,627', '2,119', '2,004', '1,375', '1,640', '1,539', '1,680',\n",
       "       '1,506', '1,464', '1,460', '1,469', '1,500', '1,606', '1,619',\n",
       "       '1,474', '1,676', '1,675', '1,514', '1,399', '1,449', '1,524',\n",
       "       '1,647', '1,490', '1,550', '1,530', '1,377', '1,477', '1,565',\n",
       "       '1,465', '1,504', '1,700', '1,545', '1,489', '1,479', '1,395',\n",
       "       '1,515', '1,507', '1,497', '1,650', '1,575', '1,485', '1,384',\n",
       "       '1,458', '1,488', '1,495', '1,486', '1,472', '1,394', '1,424',\n",
       "       '1,597', '1,521', '1,526', '1,487', '1,420', '1,510', '1,494',\n",
       "       '1,615', '1,531', '1,563', '1,508', '1,555', '1,501', '1,536',\n",
       "       '1,533', '1,419', '2,058', '2,267', '1,759', '1,719', '1,795',\n",
       "       '2,450', '1,794', '1,800', '2,064', '1,867', '1,847', '1,837',\n",
       "       '2,220', '2,055', '1,877', '1,807', '2,050', '1,813', '1,870',\n",
       "       '2,030', '1,910', '2,279', '2,042', '2,250', '1,850', '1,832'],\n",
       "      dtype=object)"
      ]
     },
     "execution_count": 96,
     "metadata": {},
     "output_type": "execute_result"
    }
   ],
   "source": [
    "g98_E5 = df_n['Precio Gasolina 98 E5'].unique()\n",
    "print(len(g98_E5))\n",
    "print(type(g98_E5))\n",
    "g98_E5"
   ]
  },
  {
   "cell_type": "code",
   "execution_count": 97,
   "id": "4763d458",
   "metadata": {},
   "outputs": [],
   "source": [
    "# Convertimos columna categórica a numérica, primero tenemos que sustituir , por .\n",
    "df_n['Precio Gasolina 98 E5']=df_n['Precio Gasolina 98 E5'].str.replace(',','.')\n",
    "df_n[['Precio Gasolina 98 E5']]=df_n[['Precio Gasolina 98 E5']].apply(pd.to_numeric)"
   ]
  },
  {
   "cell_type": "code",
   "execution_count": 98,
   "id": "767e87d9",
   "metadata": {},
   "outputs": [
    {
     "data": {
      "text/plain": [
       "count    5945.000000\n",
       "mean        1.929097\n",
       "std         0.123810\n",
       "min         1.375000\n",
       "25%         1.909000\n",
       "50%         1.959000\n",
       "75%         1.989000\n",
       "max         2.999000\n",
       "Name: Precio Gasolina 98 E5, dtype: float64"
      ]
     },
     "execution_count": 98,
     "metadata": {},
     "output_type": "execute_result"
    }
   ],
   "source": [
    "df_n['Precio Gasolina 98 E5'].describe()"
   ]
  },
  {
   "cell_type": "code",
   "execution_count": 99,
   "id": "d9fb7e91",
   "metadata": {},
   "outputs": [
    {
     "data": {
      "text/plain": [
       "5847"
      ]
     },
     "execution_count": 99,
     "metadata": {},
     "output_type": "execute_result"
    }
   ],
   "source": [
    "# Registros sin venta Gasolina 98 E5 \n",
    "sin_suministro_g98E5 = df_n['Precio Gasolina 98 E5'].isnull().sum()\n",
    "sin_suministro_g98E5"
   ]
  },
  {
   "cell_type": "code",
   "execution_count": 100,
   "id": "ad3ee76b",
   "metadata": {},
   "outputs": [
    {
     "data": {
      "text/plain": [
       "0"
      ]
     },
     "execution_count": 100,
     "metadata": {},
     "output_type": "execute_result"
    }
   ],
   "source": [
    "ceros_sin_suministro_g98E5  = (df_n['Precio Gasolina 98 E5'] == 0).sum()\n",
    "ceros_sin_suministro_g98E5 "
   ]
  },
  {
   "cell_type": "markdown",
   "id": "d8566cb1",
   "metadata": {},
   "source": [
    "# Precio Hidrogeno "
   ]
  },
  {
   "cell_type": "code",
   "execution_count": 101,
   "id": "8092ec5a",
   "metadata": {},
   "outputs": [
    {
     "name": "stdout",
     "output_type": "stream",
     "text": [
      "1\n",
      "<class 'numpy.ndarray'>\n"
     ]
    },
    {
     "data": {
      "text/plain": [
       "array([''], dtype=object)"
      ]
     },
     "execution_count": 101,
     "metadata": {},
     "output_type": "execute_result"
    }
   ],
   "source": [
    "Hidrongeno = df_n['Precio Hidrogeno'].unique()\n",
    "print(len(Hidrongeno))\n",
    "print(type(Hidrongeno))\n",
    "Hidrongeno"
   ]
  },
  {
   "cell_type": "code",
   "execution_count": 102,
   "id": "38acbbd6",
   "metadata": {},
   "outputs": [],
   "source": [
    "# Convertimos columna categórica a numérica, primero tenemos que sustituir , por .\n",
    "df_n['Precio Hidrogeno']=df_n['Precio Hidrogeno'].str.replace(',','.')\n",
    "df_n[['Precio Hidrogeno']]=df_n[['Precio Hidrogeno']].apply(pd.to_numeric)"
   ]
  },
  {
   "cell_type": "code",
   "execution_count": 103,
   "id": "1b19941a",
   "metadata": {},
   "outputs": [
    {
     "data": {
      "text/plain": [
       "count    0.0\n",
       "mean     NaN\n",
       "std      NaN\n",
       "min      NaN\n",
       "25%      NaN\n",
       "50%      NaN\n",
       "75%      NaN\n",
       "max      NaN\n",
       "Name: Precio Hidrogeno, dtype: float64"
      ]
     },
     "execution_count": 103,
     "metadata": {},
     "output_type": "execute_result"
    }
   ],
   "source": [
    "df_n['Precio Hidrogeno'].describe()"
   ]
  },
  {
   "cell_type": "code",
   "execution_count": 104,
   "id": "c6802106",
   "metadata": {},
   "outputs": [
    {
     "name": "stdout",
     "output_type": "stream",
     "text": [
      "<class 'pandas.core.frame.DataFrame'>\n",
      "RangeIndex: 11792 entries, 0 to 11791\n",
      "Data columns (total 33 columns):\n",
      " #   Column                              Non-Null Count  Dtype  \n",
      "---  ------                              --------------  -----  \n",
      " 0   Fecha                               11792 non-null  object \n",
      " 1   C.P.                                11792 non-null  object \n",
      " 2   Dirección                           11792 non-null  object \n",
      " 3   Horario                             11792 non-null  object \n",
      " 4   Latitud                             11792 non-null  object \n",
      " 5   Localidad                           11792 non-null  object \n",
      " 6   Longitud (WGS84)                    11792 non-null  object \n",
      " 7   Margen                              11792 non-null  object \n",
      " 8   Municipio                           11792 non-null  object \n",
      " 9   Precio Biodiesel                    38 non-null     float64\n",
      " 10  Precio Bioetanol                    5 non-null      float64\n",
      " 11  Precio Gas Natural Comprimido       122 non-null    float64\n",
      " 12  Precio Gas Natural Licuado          82 non-null     float64\n",
      " 13  Precio Gases licuados del petróleo  853 non-null    float64\n",
      " 14  Precio Gasoleo A                    11445 non-null  float64\n",
      " 15  Precio Gasoleo B                    3003 non-null   float64\n",
      " 16  Precio Gasoleo Premium              7498 non-null   float64\n",
      " 17  Precio Gasolina 95 E10              22 non-null     float64\n",
      " 18  Precio Gasolina 95 E5               10642 non-null  float64\n",
      " 19  Precio Gasolina 95 E5 Premium       803 non-null    float64\n",
      " 20  Precio Gasolina 98 E10              8 non-null      float64\n",
      " 21  Precio Gasolina 98 E5               5945 non-null   float64\n",
      " 22  Precio Hidrogeno                    0 non-null      float64\n",
      " 23  Provincia                           11792 non-null  object \n",
      " 24  Remisión                            11792 non-null  object \n",
      " 25  Rótulo                              11792 non-null  object \n",
      " 26  Tipo Venta                          11792 non-null  object \n",
      " 27  % BioEtanol                         11792 non-null  object \n",
      " 28  % Éster metílico                    11792 non-null  object \n",
      " 29  IDEESS                              11792 non-null  object \n",
      " 30  IDMunicipio                         11792 non-null  object \n",
      " 31  IDProvincia                         11792 non-null  object \n",
      " 32  IDCCAA                              11792 non-null  object \n",
      "dtypes: float64(14), object(19)\n",
      "memory usage: 3.0+ MB\n"
     ]
    }
   ],
   "source": [
    "df_n.info()"
   ]
  },
  {
   "cell_type": "markdown",
   "id": "0b486d1c",
   "metadata": {},
   "source": [
    "---\n",
    "Setp 3\n",
    "\n",
    "# Limpieza de Columnas"
   ]
  },
  {
   "cell_type": "code",
   "execution_count": 105,
   "id": "58959813",
   "metadata": {},
   "outputs": [],
   "source": [
    "# Eliminiación de columnas que no interesan a nivel usuario o que no aportan datos significativos al modelo\n",
    "df_n.drop(['Margen', 'Remisión', 'Tipo Venta', '% BioEtanol', '% Éster metílico', 'Precio Biodiesel',\n",
    "          'Precio Bioetanol', 'Precio Gas Natural Comprimido', 'Precio Gas Natural Licuado', \n",
    "          'Precio Gas Natural Licuado', 'Precio Gases licuados del petróleo', 'Precio Gasolina 95 E10',\n",
    "          'Precio Gasolina 95 E5 Premium', 'Precio Gasolina 98 E10', 'Precio Hidrogeno'], axis=1, inplace=True)\n"
   ]
  },
  {
   "cell_type": "code",
   "execution_count": 106,
   "id": "1f4e6f15",
   "metadata": {},
   "outputs": [
    {
     "data": {
      "text/plain": [
       "Precio Gasoleo B    NaN\n",
       "Name: 15, dtype: object"
      ]
     },
     "execution_count": 106,
     "metadata": {},
     "output_type": "execute_result"
    }
   ],
   "source": [
    "# Comprobación\n",
    "df_n.iloc[15][['Precio Gasoleo B']]"
   ]
  },
  {
   "cell_type": "code",
   "execution_count": 107,
   "id": "a9fe557e",
   "metadata": {},
   "outputs": [
    {
     "data": {
      "text/html": [
       "<div>\n",
       "<style scoped>\n",
       "    .dataframe tbody tr th:only-of-type {\n",
       "        vertical-align: middle;\n",
       "    }\n",
       "\n",
       "    .dataframe tbody tr th {\n",
       "        vertical-align: top;\n",
       "    }\n",
       "\n",
       "    .dataframe thead th {\n",
       "        text-align: right;\n",
       "    }\n",
       "</style>\n",
       "<table border=\"1\" class=\"dataframe\">\n",
       "  <thead>\n",
       "    <tr style=\"text-align: right;\">\n",
       "      <th></th>\n",
       "      <th>Fecha</th>\n",
       "      <th>C.P.</th>\n",
       "      <th>Dirección</th>\n",
       "      <th>Horario</th>\n",
       "      <th>Latitud</th>\n",
       "      <th>Localidad</th>\n",
       "      <th>Longitud (WGS84)</th>\n",
       "      <th>Municipio</th>\n",
       "      <th>Precio Gasoleo A</th>\n",
       "      <th>Precio Gasoleo B</th>\n",
       "      <th>Precio Gasoleo Premium</th>\n",
       "      <th>Precio Gasolina 95 E5</th>\n",
       "      <th>Precio Gasolina 98 E5</th>\n",
       "      <th>Provincia</th>\n",
       "      <th>Rótulo</th>\n",
       "      <th>IDEESS</th>\n",
       "      <th>IDMunicipio</th>\n",
       "      <th>IDProvincia</th>\n",
       "      <th>IDCCAA</th>\n",
       "    </tr>\n",
       "  </thead>\n",
       "  <tbody>\n",
       "    <tr>\n",
       "      <th>0</th>\n",
       "      <td>07/11/2022 21:23:55</td>\n",
       "      <td>02250</td>\n",
       "      <td>AVENIDA CASTILLA LA MANCHA, 26</td>\n",
       "      <td>L-D: 07:00-22:00</td>\n",
       "      <td>39,211417</td>\n",
       "      <td>ABENGIBRE</td>\n",
       "      <td>-1,539167</td>\n",
       "      <td>Abengibre</td>\n",
       "      <td>1.959</td>\n",
       "      <td>1.46</td>\n",
       "      <td>NaN</td>\n",
       "      <td>1.769</td>\n",
       "      <td>NaN</td>\n",
       "      <td>ALBACETE</td>\n",
       "      <td>Nº 10.935</td>\n",
       "      <td>4375</td>\n",
       "      <td>52</td>\n",
       "      <td>02</td>\n",
       "      <td>07</td>\n",
       "    </tr>\n",
       "    <tr>\n",
       "      <th>1</th>\n",
       "      <td>07/11/2022 21:23:55</td>\n",
       "      <td>02152</td>\n",
       "      <td>CR CM-332, 46,4</td>\n",
       "      <td>L-D: 7:00-23:00</td>\n",
       "      <td>39,100389</td>\n",
       "      <td>ALATOZ</td>\n",
       "      <td>-1,346083</td>\n",
       "      <td>Alatoz</td>\n",
       "      <td>2.040</td>\n",
       "      <td>NaN</td>\n",
       "      <td>2.300</td>\n",
       "      <td>1.909</td>\n",
       "      <td>2.200</td>\n",
       "      <td>ALBACETE</td>\n",
       "      <td>REPSOL</td>\n",
       "      <td>5122</td>\n",
       "      <td>53</td>\n",
       "      <td>02</td>\n",
       "      <td>07</td>\n",
       "    </tr>\n",
       "    <tr>\n",
       "      <th>2</th>\n",
       "      <td>07/11/2022 21:23:55</td>\n",
       "      <td>02001</td>\n",
       "      <td>CALLE PRINCIPE DE ASTURIAS (POLÍGONO DE ROMICA...</td>\n",
       "      <td>L-D: 06:00-21:30</td>\n",
       "      <td>39,054694</td>\n",
       "      <td>ALBACETE</td>\n",
       "      <td>-1,832000</td>\n",
       "      <td>Albacete</td>\n",
       "      <td>2.039</td>\n",
       "      <td>NaN</td>\n",
       "      <td>2.129</td>\n",
       "      <td>1.829</td>\n",
       "      <td>1.971</td>\n",
       "      <td>ALBACETE</td>\n",
       "      <td>BP ROMICA</td>\n",
       "      <td>12054</td>\n",
       "      <td>54</td>\n",
       "      <td>02</td>\n",
       "      <td>07</td>\n",
       "    </tr>\n",
       "    <tr>\n",
       "      <th>3</th>\n",
       "      <td>07/11/2022 21:23:55</td>\n",
       "      <td>02001</td>\n",
       "      <td>AVENIDA 1º DE MAYO, S/N</td>\n",
       "      <td>L-S: 08:00-22:00; D: 09:00-21:00</td>\n",
       "      <td>38,985667</td>\n",
       "      <td>ALBACETE</td>\n",
       "      <td>-1,868500</td>\n",
       "      <td>Albacete</td>\n",
       "      <td>2.019</td>\n",
       "      <td>NaN</td>\n",
       "      <td>2.059</td>\n",
       "      <td>1.859</td>\n",
       "      <td>1.959</td>\n",
       "      <td>ALBACETE</td>\n",
       "      <td>CARREFOUR</td>\n",
       "      <td>10765</td>\n",
       "      <td>54</td>\n",
       "      <td>02</td>\n",
       "      <td>07</td>\n",
       "    </tr>\n",
       "    <tr>\n",
       "      <th>4</th>\n",
       "      <td>07/11/2022 21:23:55</td>\n",
       "      <td>02001</td>\n",
       "      <td>CALLE FEDERICO GARCIA LORCA, 1</td>\n",
       "      <td>L-D: 24H</td>\n",
       "      <td>39,000861</td>\n",
       "      <td>ALBACETE</td>\n",
       "      <td>-1,849833</td>\n",
       "      <td>Albacete</td>\n",
       "      <td>1.897</td>\n",
       "      <td>NaN</td>\n",
       "      <td>NaN</td>\n",
       "      <td>1.687</td>\n",
       "      <td>NaN</td>\n",
       "      <td>ALBACETE</td>\n",
       "      <td>PLENOIL</td>\n",
       "      <td>13933</td>\n",
       "      <td>54</td>\n",
       "      <td>02</td>\n",
       "      <td>07</td>\n",
       "    </tr>\n",
       "  </tbody>\n",
       "</table>\n",
       "</div>"
      ],
      "text/plain": [
       "                 Fecha   C.P.  \\\n",
       "0  07/11/2022 21:23:55  02250   \n",
       "1  07/11/2022 21:23:55  02152   \n",
       "2  07/11/2022 21:23:55  02001   \n",
       "3  07/11/2022 21:23:55  02001   \n",
       "4  07/11/2022 21:23:55  02001   \n",
       "\n",
       "                                           Dirección  \\\n",
       "0                     AVENIDA CASTILLA LA MANCHA, 26   \n",
       "1                                    CR CM-332, 46,4   \n",
       "2  CALLE PRINCIPE DE ASTURIAS (POLÍGONO DE ROMICA...   \n",
       "3                            AVENIDA 1º DE MAYO, S/N   \n",
       "4                     CALLE FEDERICO GARCIA LORCA, 1   \n",
       "\n",
       "                            Horario    Latitud  Localidad Longitud (WGS84)  \\\n",
       "0                  L-D: 07:00-22:00  39,211417  ABENGIBRE        -1,539167   \n",
       "1                   L-D: 7:00-23:00  39,100389     ALATOZ        -1,346083   \n",
       "2                  L-D: 06:00-21:30  39,054694   ALBACETE        -1,832000   \n",
       "3  L-S: 08:00-22:00; D: 09:00-21:00  38,985667   ALBACETE        -1,868500   \n",
       "4                          L-D: 24H  39,000861   ALBACETE        -1,849833   \n",
       "\n",
       "   Municipio  Precio Gasoleo A  Precio Gasoleo B  Precio Gasoleo Premium  \\\n",
       "0  Abengibre             1.959              1.46                     NaN   \n",
       "1     Alatoz             2.040               NaN                   2.300   \n",
       "2   Albacete             2.039               NaN                   2.129   \n",
       "3   Albacete             2.019               NaN                   2.059   \n",
       "4   Albacete             1.897               NaN                     NaN   \n",
       "\n",
       "   Precio Gasolina 95 E5  Precio Gasolina 98 E5 Provincia     Rótulo IDEESS  \\\n",
       "0                  1.769                    NaN  ALBACETE  Nº 10.935   4375   \n",
       "1                  1.909                  2.200  ALBACETE     REPSOL   5122   \n",
       "2                  1.829                  1.971  ALBACETE  BP ROMICA  12054   \n",
       "3                  1.859                  1.959  ALBACETE  CARREFOUR  10765   \n",
       "4                  1.687                    NaN  ALBACETE    PLENOIL  13933   \n",
       "\n",
       "  IDMunicipio IDProvincia IDCCAA  \n",
       "0          52          02     07  \n",
       "1          53          02     07  \n",
       "2          54          02     07  \n",
       "3          54          02     07  \n",
       "4          54          02     07  "
      ]
     },
     "execution_count": 107,
     "metadata": {},
     "output_type": "execute_result"
    }
   ],
   "source": [
    "df_n.head()"
   ]
  },
  {
   "cell_type": "code",
   "execution_count": 108,
   "id": "d7336670",
   "metadata": {},
   "outputs": [
    {
     "data": {
      "text/html": [
       "<div>\n",
       "<style scoped>\n",
       "    .dataframe tbody tr th:only-of-type {\n",
       "        vertical-align: middle;\n",
       "    }\n",
       "\n",
       "    .dataframe tbody tr th {\n",
       "        vertical-align: top;\n",
       "    }\n",
       "\n",
       "    .dataframe thead th {\n",
       "        text-align: right;\n",
       "    }\n",
       "</style>\n",
       "<table border=\"1\" class=\"dataframe\">\n",
       "  <thead>\n",
       "    <tr style=\"text-align: right;\">\n",
       "      <th></th>\n",
       "      <th>Fecha</th>\n",
       "      <th>C.P.</th>\n",
       "      <th>Dirección</th>\n",
       "      <th>Horario</th>\n",
       "      <th>Latitud</th>\n",
       "      <th>Localidad</th>\n",
       "      <th>Longitud (WGS84)</th>\n",
       "      <th>Municipio</th>\n",
       "      <th>Gasoleo A</th>\n",
       "      <th>Gasoleo B</th>\n",
       "      <th>Gasoleo Premium</th>\n",
       "      <th>Gasolina 95 E5</th>\n",
       "      <th>Gasolina 98 E5</th>\n",
       "      <th>Provincia</th>\n",
       "      <th>Proveedor de Servicio</th>\n",
       "      <th>IDEESS</th>\n",
       "      <th>IDMunicipio</th>\n",
       "      <th>IDProvincia</th>\n",
       "      <th>IDCCAA</th>\n",
       "    </tr>\n",
       "  </thead>\n",
       "  <tbody>\n",
       "    <tr>\n",
       "      <th>0</th>\n",
       "      <td>07/11/2022 21:23:55</td>\n",
       "      <td>02250</td>\n",
       "      <td>AVENIDA CASTILLA LA MANCHA, 26</td>\n",
       "      <td>L-D: 07:00-22:00</td>\n",
       "      <td>39,211417</td>\n",
       "      <td>ABENGIBRE</td>\n",
       "      <td>-1,539167</td>\n",
       "      <td>Abengibre</td>\n",
       "      <td>1.959</td>\n",
       "      <td>1.46</td>\n",
       "      <td>NaN</td>\n",
       "      <td>1.769</td>\n",
       "      <td>NaN</td>\n",
       "      <td>ALBACETE</td>\n",
       "      <td>Nº 10.935</td>\n",
       "      <td>4375</td>\n",
       "      <td>52</td>\n",
       "      <td>02</td>\n",
       "      <td>07</td>\n",
       "    </tr>\n",
       "  </tbody>\n",
       "</table>\n",
       "</div>"
      ],
      "text/plain": [
       "                 Fecha   C.P.                       Dirección  \\\n",
       "0  07/11/2022 21:23:55  02250  AVENIDA CASTILLA LA MANCHA, 26   \n",
       "\n",
       "            Horario    Latitud  Localidad Longitud (WGS84)  Municipio  \\\n",
       "0  L-D: 07:00-22:00  39,211417  ABENGIBRE        -1,539167  Abengibre   \n",
       "\n",
       "   Gasoleo A  Gasoleo B  Gasoleo Premium  Gasolina 95 E5  Gasolina 98 E5  \\\n",
       "0      1.959       1.46              NaN           1.769             NaN   \n",
       "\n",
       "  Provincia Proveedor de Servicio IDEESS IDMunicipio IDProvincia IDCCAA  \n",
       "0  ALBACETE             Nº 10.935   4375          52          02     07  "
      ]
     },
     "execution_count": 108,
     "metadata": {},
     "output_type": "execute_result"
    }
   ],
   "source": [
    "# Renombramos las columnas\n",
    "df_n.rename(columns={\"Precio Gasoleo A\": \"Gasoleo A\", \"Precio Gasoleo B\": \"Gasoleo B\" ,\"Precio Gasoleo Premium\": \"Gasoleo Premium\", \n",
    "                     \"Precio Gasolina 95 E5\": \"Gasolina 95 E5\", \"Precio Gasolina 98 E5\": \"Gasolina 98 E5\",\n",
    "                     \"Rótulo\":\"Proveedor de Servicio\"}, inplace=True)\n",
    "df_n.head(1)"
   ]
  },
  {
   "cell_type": "code",
   "execution_count": 109,
   "id": "365e7b0f",
   "metadata": {},
   "outputs": [],
   "source": [
    "# Media\n",
    "df_n['Media_Gasoleo A']=df_n['Gasoleo A'].mean()\n",
    "df_n['Media_Gasoleo B']=df_n['Gasoleo B'].mean()\n",
    "df_n['Media_Gasoleo Prem'] = df_n['Gasoleo Premium'].mean()\n",
    "df_n['Media_Gasolina 95']=df_n['Gasolina 95 E5'].mean()\n",
    "df_n['Media_Gasolina 98']=df_n['Gasolina 98 E5'].mean()\n"
   ]
  },
  {
   "cell_type": "code",
   "execution_count": 110,
   "id": "92b44a14",
   "metadata": {},
   "outputs": [],
   "source": [
    "# Desviación (eliminanos porque no aporta información va)\n",
    "#df_n['dev_Gasoleo A']= df_n['Gasoleo A'] - df_n['Media_Gasoleo A']\n",
    "#df_n['dev_Gasoleo B'] =df_n['Gasoleo B'] - df_n['Media_Gasoleo B']\n",
    "#df_n['dev_Gasoleo Prem'] =df_n['Gasoleo Premium'] - df_n['Media_Gasoleo Prem']\n",
    "#df_n['dev_Gasolina 95']=df_n['Gasolina 95 E5'] - df_n['Media_Gasolina 95']\n",
    "#df_n['dev_Gasolina 98']=df_n['Gasolina 98 E5']- df_n['Media_Gasolina 98']\n"
   ]
  },
  {
   "cell_type": "code",
   "execution_count": null,
   "id": "2209ce36",
   "metadata": {},
   "outputs": [],
   "source": []
  },
  {
   "cell_type": "code",
   "execution_count": 111,
   "id": "52c69724",
   "metadata": {
    "scrolled": true
   },
   "outputs": [
    {
     "data": {
      "text/html": [
       "<div>\n",
       "<style scoped>\n",
       "    .dataframe tbody tr th:only-of-type {\n",
       "        vertical-align: middle;\n",
       "    }\n",
       "\n",
       "    .dataframe tbody tr th {\n",
       "        vertical-align: top;\n",
       "    }\n",
       "\n",
       "    .dataframe thead th {\n",
       "        text-align: right;\n",
       "    }\n",
       "</style>\n",
       "<table border=\"1\" class=\"dataframe\">\n",
       "  <thead>\n",
       "    <tr style=\"text-align: right;\">\n",
       "      <th></th>\n",
       "      <th>Fecha</th>\n",
       "      <th>C.P.</th>\n",
       "      <th>Dirección</th>\n",
       "      <th>Horario</th>\n",
       "      <th>Latitud</th>\n",
       "      <th>Localidad</th>\n",
       "      <th>Longitud (WGS84)</th>\n",
       "      <th>Municipio</th>\n",
       "      <th>Gasoleo A</th>\n",
       "      <th>Gasoleo B</th>\n",
       "      <th>...</th>\n",
       "      <th>Proveedor de Servicio</th>\n",
       "      <th>IDEESS</th>\n",
       "      <th>IDMunicipio</th>\n",
       "      <th>IDProvincia</th>\n",
       "      <th>IDCCAA</th>\n",
       "      <th>Media_Gasoleo A</th>\n",
       "      <th>Media_Gasoleo B</th>\n",
       "      <th>Media_Gasoleo Prem</th>\n",
       "      <th>Media_Gasolina 95</th>\n",
       "      <th>Media_Gasolina 98</th>\n",
       "    </tr>\n",
       "  </thead>\n",
       "  <tbody>\n",
       "    <tr>\n",
       "      <th>0</th>\n",
       "      <td>07/11/2022 21:23:55</td>\n",
       "      <td>02250</td>\n",
       "      <td>AVENIDA CASTILLA LA MANCHA, 26</td>\n",
       "      <td>L-D: 07:00-22:00</td>\n",
       "      <td>39,211417</td>\n",
       "      <td>ABENGIBRE</td>\n",
       "      <td>-1,539167</td>\n",
       "      <td>Abengibre</td>\n",
       "      <td>1.959</td>\n",
       "      <td>1.46</td>\n",
       "      <td>...</td>\n",
       "      <td>Nº 10.935</td>\n",
       "      <td>4375</td>\n",
       "      <td>52</td>\n",
       "      <td>02</td>\n",
       "      <td>07</td>\n",
       "      <td>1.946454</td>\n",
       "      <td>1.55844</td>\n",
       "      <td>2.0434</td>\n",
       "      <td>1.775169</td>\n",
       "      <td>1.929097</td>\n",
       "    </tr>\n",
       "    <tr>\n",
       "      <th>1</th>\n",
       "      <td>07/11/2022 21:23:55</td>\n",
       "      <td>02152</td>\n",
       "      <td>CR CM-332, 46,4</td>\n",
       "      <td>L-D: 7:00-23:00</td>\n",
       "      <td>39,100389</td>\n",
       "      <td>ALATOZ</td>\n",
       "      <td>-1,346083</td>\n",
       "      <td>Alatoz</td>\n",
       "      <td>2.040</td>\n",
       "      <td>NaN</td>\n",
       "      <td>...</td>\n",
       "      <td>REPSOL</td>\n",
       "      <td>5122</td>\n",
       "      <td>53</td>\n",
       "      <td>02</td>\n",
       "      <td>07</td>\n",
       "      <td>1.946454</td>\n",
       "      <td>1.55844</td>\n",
       "      <td>2.0434</td>\n",
       "      <td>1.775169</td>\n",
       "      <td>1.929097</td>\n",
       "    </tr>\n",
       "    <tr>\n",
       "      <th>2</th>\n",
       "      <td>07/11/2022 21:23:55</td>\n",
       "      <td>02001</td>\n",
       "      <td>CALLE PRINCIPE DE ASTURIAS (POLÍGONO DE ROMICA...</td>\n",
       "      <td>L-D: 06:00-21:30</td>\n",
       "      <td>39,054694</td>\n",
       "      <td>ALBACETE</td>\n",
       "      <td>-1,832000</td>\n",
       "      <td>Albacete</td>\n",
       "      <td>2.039</td>\n",
       "      <td>NaN</td>\n",
       "      <td>...</td>\n",
       "      <td>BP ROMICA</td>\n",
       "      <td>12054</td>\n",
       "      <td>54</td>\n",
       "      <td>02</td>\n",
       "      <td>07</td>\n",
       "      <td>1.946454</td>\n",
       "      <td>1.55844</td>\n",
       "      <td>2.0434</td>\n",
       "      <td>1.775169</td>\n",
       "      <td>1.929097</td>\n",
       "    </tr>\n",
       "    <tr>\n",
       "      <th>3</th>\n",
       "      <td>07/11/2022 21:23:55</td>\n",
       "      <td>02001</td>\n",
       "      <td>AVENIDA 1º DE MAYO, S/N</td>\n",
       "      <td>L-S: 08:00-22:00; D: 09:00-21:00</td>\n",
       "      <td>38,985667</td>\n",
       "      <td>ALBACETE</td>\n",
       "      <td>-1,868500</td>\n",
       "      <td>Albacete</td>\n",
       "      <td>2.019</td>\n",
       "      <td>NaN</td>\n",
       "      <td>...</td>\n",
       "      <td>CARREFOUR</td>\n",
       "      <td>10765</td>\n",
       "      <td>54</td>\n",
       "      <td>02</td>\n",
       "      <td>07</td>\n",
       "      <td>1.946454</td>\n",
       "      <td>1.55844</td>\n",
       "      <td>2.0434</td>\n",
       "      <td>1.775169</td>\n",
       "      <td>1.929097</td>\n",
       "    </tr>\n",
       "    <tr>\n",
       "      <th>4</th>\n",
       "      <td>07/11/2022 21:23:55</td>\n",
       "      <td>02001</td>\n",
       "      <td>CALLE FEDERICO GARCIA LORCA, 1</td>\n",
       "      <td>L-D: 24H</td>\n",
       "      <td>39,000861</td>\n",
       "      <td>ALBACETE</td>\n",
       "      <td>-1,849833</td>\n",
       "      <td>Albacete</td>\n",
       "      <td>1.897</td>\n",
       "      <td>NaN</td>\n",
       "      <td>...</td>\n",
       "      <td>PLENOIL</td>\n",
       "      <td>13933</td>\n",
       "      <td>54</td>\n",
       "      <td>02</td>\n",
       "      <td>07</td>\n",
       "      <td>1.946454</td>\n",
       "      <td>1.55844</td>\n",
       "      <td>2.0434</td>\n",
       "      <td>1.775169</td>\n",
       "      <td>1.929097</td>\n",
       "    </tr>\n",
       "  </tbody>\n",
       "</table>\n",
       "<p>5 rows × 24 columns</p>\n",
       "</div>"
      ],
      "text/plain": [
       "                 Fecha   C.P.  \\\n",
       "0  07/11/2022 21:23:55  02250   \n",
       "1  07/11/2022 21:23:55  02152   \n",
       "2  07/11/2022 21:23:55  02001   \n",
       "3  07/11/2022 21:23:55  02001   \n",
       "4  07/11/2022 21:23:55  02001   \n",
       "\n",
       "                                           Dirección  \\\n",
       "0                     AVENIDA CASTILLA LA MANCHA, 26   \n",
       "1                                    CR CM-332, 46,4   \n",
       "2  CALLE PRINCIPE DE ASTURIAS (POLÍGONO DE ROMICA...   \n",
       "3                            AVENIDA 1º DE MAYO, S/N   \n",
       "4                     CALLE FEDERICO GARCIA LORCA, 1   \n",
       "\n",
       "                            Horario    Latitud  Localidad Longitud (WGS84)  \\\n",
       "0                  L-D: 07:00-22:00  39,211417  ABENGIBRE        -1,539167   \n",
       "1                   L-D: 7:00-23:00  39,100389     ALATOZ        -1,346083   \n",
       "2                  L-D: 06:00-21:30  39,054694   ALBACETE        -1,832000   \n",
       "3  L-S: 08:00-22:00; D: 09:00-21:00  38,985667   ALBACETE        -1,868500   \n",
       "4                          L-D: 24H  39,000861   ALBACETE        -1,849833   \n",
       "\n",
       "   Municipio  Gasoleo A  Gasoleo B  ...  Proveedor de Servicio  IDEESS  \\\n",
       "0  Abengibre      1.959       1.46  ...              Nº 10.935    4375   \n",
       "1     Alatoz      2.040        NaN  ...                 REPSOL    5122   \n",
       "2   Albacete      2.039        NaN  ...              BP ROMICA   12054   \n",
       "3   Albacete      2.019        NaN  ...              CARREFOUR   10765   \n",
       "4   Albacete      1.897        NaN  ...                PLENOIL   13933   \n",
       "\n",
       "   IDMunicipio IDProvincia IDCCAA Media_Gasoleo A Media_Gasoleo B  \\\n",
       "0           52          02     07        1.946454         1.55844   \n",
       "1           53          02     07        1.946454         1.55844   \n",
       "2           54          02     07        1.946454         1.55844   \n",
       "3           54          02     07        1.946454         1.55844   \n",
       "4           54          02     07        1.946454         1.55844   \n",
       "\n",
       "  Media_Gasoleo Prem Media_Gasolina 95  Media_Gasolina 98  \n",
       "0             2.0434          1.775169           1.929097  \n",
       "1             2.0434          1.775169           1.929097  \n",
       "2             2.0434          1.775169           1.929097  \n",
       "3             2.0434          1.775169           1.929097  \n",
       "4             2.0434          1.775169           1.929097  \n",
       "\n",
       "[5 rows x 24 columns]"
      ]
     },
     "execution_count": 111,
     "metadata": {},
     "output_type": "execute_result"
    }
   ],
   "source": [
    "df_n.head()"
   ]
  },
  {
   "cell_type": "code",
   "execution_count": 112,
   "id": "fbc17dd0",
   "metadata": {},
   "outputs": [
    {
     "name": "stdout",
     "output_type": "stream",
     "text": [
      "<class 'pandas.core.frame.DataFrame'>\n",
      "RangeIndex: 11792 entries, 0 to 11791\n",
      "Data columns (total 24 columns):\n",
      " #   Column                 Non-Null Count  Dtype  \n",
      "---  ------                 --------------  -----  \n",
      " 0   Fecha                  11792 non-null  object \n",
      " 1   C.P.                   11792 non-null  object \n",
      " 2   Dirección              11792 non-null  object \n",
      " 3   Horario                11792 non-null  object \n",
      " 4   Latitud                11792 non-null  object \n",
      " 5   Localidad              11792 non-null  object \n",
      " 6   Longitud (WGS84)       11792 non-null  object \n",
      " 7   Municipio              11792 non-null  object \n",
      " 8   Gasoleo A              11445 non-null  float64\n",
      " 9   Gasoleo B              3003 non-null   float64\n",
      " 10  Gasoleo Premium        7498 non-null   float64\n",
      " 11  Gasolina 95 E5         10642 non-null  float64\n",
      " 12  Gasolina 98 E5         5945 non-null   float64\n",
      " 13  Provincia              11792 non-null  object \n",
      " 14  Proveedor de Servicio  11792 non-null  object \n",
      " 15  IDEESS                 11792 non-null  object \n",
      " 16  IDMunicipio            11792 non-null  object \n",
      " 17  IDProvincia            11792 non-null  object \n",
      " 18  IDCCAA                 11792 non-null  object \n",
      " 19  Media_Gasoleo A        11792 non-null  float64\n",
      " 20  Media_Gasoleo B        11792 non-null  float64\n",
      " 21  Media_Gasoleo Prem     11792 non-null  float64\n",
      " 22  Media_Gasolina 95      11792 non-null  float64\n",
      " 23  Media_Gasolina 98      11792 non-null  float64\n",
      "dtypes: float64(10), object(14)\n",
      "memory usage: 2.2+ MB\n"
     ]
    }
   ],
   "source": [
    "df_n.info()"
   ]
  },
  {
   "cell_type": "code",
   "execution_count": 113,
   "id": "ea5c62a5",
   "metadata": {},
   "outputs": [
    {
     "data": {
      "text/html": [
       "<div>\n",
       "<style scoped>\n",
       "    .dataframe tbody tr th:only-of-type {\n",
       "        vertical-align: middle;\n",
       "    }\n",
       "\n",
       "    .dataframe tbody tr th {\n",
       "        vertical-align: top;\n",
       "    }\n",
       "\n",
       "    .dataframe thead th {\n",
       "        text-align: right;\n",
       "    }\n",
       "</style>\n",
       "<table border=\"1\" class=\"dataframe\">\n",
       "  <thead>\n",
       "    <tr style=\"text-align: right;\">\n",
       "      <th></th>\n",
       "      <th>Fecha</th>\n",
       "      <th>Horario</th>\n",
       "      <th>C.P.</th>\n",
       "      <th>Municipio</th>\n",
       "      <th>Provincia</th>\n",
       "      <th>Localidad</th>\n",
       "      <th>Dirección</th>\n",
       "      <th>Proveedor de Servicio</th>\n",
       "      <th>Gasoleo A</th>\n",
       "      <th>Gasoleo B</th>\n",
       "      <th>Gasoleo Premium</th>\n",
       "      <th>Gasolina 95 E5</th>\n",
       "      <th>Gasolina 98 E5</th>\n",
       "      <th>Media_Gasoleo A</th>\n",
       "      <th>Media_Gasoleo B</th>\n",
       "      <th>Media_Gasoleo Prem</th>\n",
       "      <th>Media_Gasolina 95</th>\n",
       "      <th>Media_Gasolina 98</th>\n",
       "    </tr>\n",
       "  </thead>\n",
       "  <tbody>\n",
       "    <tr>\n",
       "      <th>0</th>\n",
       "      <td>07/11/2022 21:23:55</td>\n",
       "      <td>L-D: 07:00-22:00</td>\n",
       "      <td>02250</td>\n",
       "      <td>Abengibre</td>\n",
       "      <td>ALBACETE</td>\n",
       "      <td>ABENGIBRE</td>\n",
       "      <td>AVENIDA CASTILLA LA MANCHA, 26</td>\n",
       "      <td>Nº 10.935</td>\n",
       "      <td>1.959</td>\n",
       "      <td>1.460</td>\n",
       "      <td>NaN</td>\n",
       "      <td>1.769</td>\n",
       "      <td>NaN</td>\n",
       "      <td>1.946454</td>\n",
       "      <td>1.55844</td>\n",
       "      <td>2.0434</td>\n",
       "      <td>1.775169</td>\n",
       "      <td>1.929097</td>\n",
       "    </tr>\n",
       "    <tr>\n",
       "      <th>1</th>\n",
       "      <td>07/11/2022 21:23:55</td>\n",
       "      <td>L-D: 7:00-23:00</td>\n",
       "      <td>02152</td>\n",
       "      <td>Alatoz</td>\n",
       "      <td>ALBACETE</td>\n",
       "      <td>ALATOZ</td>\n",
       "      <td>CR CM-332, 46,4</td>\n",
       "      <td>REPSOL</td>\n",
       "      <td>2.040</td>\n",
       "      <td>NaN</td>\n",
       "      <td>2.300</td>\n",
       "      <td>1.909</td>\n",
       "      <td>2.200</td>\n",
       "      <td>1.946454</td>\n",
       "      <td>1.55844</td>\n",
       "      <td>2.0434</td>\n",
       "      <td>1.775169</td>\n",
       "      <td>1.929097</td>\n",
       "    </tr>\n",
       "    <tr>\n",
       "      <th>2</th>\n",
       "      <td>07/11/2022 21:23:55</td>\n",
       "      <td>L-D: 06:00-21:30</td>\n",
       "      <td>02001</td>\n",
       "      <td>Albacete</td>\n",
       "      <td>ALBACETE</td>\n",
       "      <td>ALBACETE</td>\n",
       "      <td>CALLE PRINCIPE DE ASTURIAS (POLÍGONO DE ROMICA...</td>\n",
       "      <td>BP ROMICA</td>\n",
       "      <td>2.039</td>\n",
       "      <td>NaN</td>\n",
       "      <td>2.129</td>\n",
       "      <td>1.829</td>\n",
       "      <td>1.971</td>\n",
       "      <td>1.946454</td>\n",
       "      <td>1.55844</td>\n",
       "      <td>2.0434</td>\n",
       "      <td>1.775169</td>\n",
       "      <td>1.929097</td>\n",
       "    </tr>\n",
       "    <tr>\n",
       "      <th>3</th>\n",
       "      <td>07/11/2022 21:23:55</td>\n",
       "      <td>L-S: 08:00-22:00; D: 09:00-21:00</td>\n",
       "      <td>02001</td>\n",
       "      <td>Albacete</td>\n",
       "      <td>ALBACETE</td>\n",
       "      <td>ALBACETE</td>\n",
       "      <td>AVENIDA 1º DE MAYO, S/N</td>\n",
       "      <td>CARREFOUR</td>\n",
       "      <td>2.019</td>\n",
       "      <td>NaN</td>\n",
       "      <td>2.059</td>\n",
       "      <td>1.859</td>\n",
       "      <td>1.959</td>\n",
       "      <td>1.946454</td>\n",
       "      <td>1.55844</td>\n",
       "      <td>2.0434</td>\n",
       "      <td>1.775169</td>\n",
       "      <td>1.929097</td>\n",
       "    </tr>\n",
       "    <tr>\n",
       "      <th>4</th>\n",
       "      <td>07/11/2022 21:23:55</td>\n",
       "      <td>L-D: 24H</td>\n",
       "      <td>02001</td>\n",
       "      <td>Albacete</td>\n",
       "      <td>ALBACETE</td>\n",
       "      <td>ALBACETE</td>\n",
       "      <td>CALLE FEDERICO GARCIA LORCA, 1</td>\n",
       "      <td>PLENOIL</td>\n",
       "      <td>1.897</td>\n",
       "      <td>NaN</td>\n",
       "      <td>NaN</td>\n",
       "      <td>1.687</td>\n",
       "      <td>NaN</td>\n",
       "      <td>1.946454</td>\n",
       "      <td>1.55844</td>\n",
       "      <td>2.0434</td>\n",
       "      <td>1.775169</td>\n",
       "      <td>1.929097</td>\n",
       "    </tr>\n",
       "    <tr>\n",
       "      <th>...</th>\n",
       "      <td>...</td>\n",
       "      <td>...</td>\n",
       "      <td>...</td>\n",
       "      <td>...</td>\n",
       "      <td>...</td>\n",
       "      <td>...</td>\n",
       "      <td>...</td>\n",
       "      <td>...</td>\n",
       "      <td>...</td>\n",
       "      <td>...</td>\n",
       "      <td>...</td>\n",
       "      <td>...</td>\n",
       "      <td>...</td>\n",
       "      <td>...</td>\n",
       "      <td>...</td>\n",
       "      <td>...</td>\n",
       "      <td>...</td>\n",
       "      <td>...</td>\n",
       "    </tr>\n",
       "    <tr>\n",
       "      <th>11787</th>\n",
       "      <td>07/11/2022 21:23:55</td>\n",
       "      <td>L-D: 24H</td>\n",
       "      <td>50197</td>\n",
       "      <td>Zaragoza</td>\n",
       "      <td>ZARAGOZA</td>\n",
       "      <td>ZARAGOZA</td>\n",
       "      <td>RONDA FERIA DE MUESTRAS, DE LA, 20</td>\n",
       "      <td>IDS</td>\n",
       "      <td>1.999</td>\n",
       "      <td>1.648</td>\n",
       "      <td>NaN</td>\n",
       "      <td>NaN</td>\n",
       "      <td>NaN</td>\n",
       "      <td>1.946454</td>\n",
       "      <td>1.55844</td>\n",
       "      <td>2.0434</td>\n",
       "      <td>1.775169</td>\n",
       "      <td>1.929097</td>\n",
       "    </tr>\n",
       "    <tr>\n",
       "      <th>11788</th>\n",
       "      <td>07/11/2022 21:23:55</td>\n",
       "      <td>L-D: 24H</td>\n",
       "      <td>50197</td>\n",
       "      <td>Zaragoza</td>\n",
       "      <td>ZARAGOZA</td>\n",
       "      <td>ZARAGOZA</td>\n",
       "      <td>POLIGONO CALLE TURIASO, 31</td>\n",
       "      <td>NOIL</td>\n",
       "      <td>2.009</td>\n",
       "      <td>NaN</td>\n",
       "      <td>NaN</td>\n",
       "      <td>NaN</td>\n",
       "      <td>NaN</td>\n",
       "      <td>1.946454</td>\n",
       "      <td>1.55844</td>\n",
       "      <td>2.0434</td>\n",
       "      <td>1.775169</td>\n",
       "      <td>1.929097</td>\n",
       "    </tr>\n",
       "    <tr>\n",
       "      <th>11789</th>\n",
       "      <td>07/11/2022 21:23:55</td>\n",
       "      <td>L-D: 06:00-22:00</td>\n",
       "      <td>50800</td>\n",
       "      <td>Zuera</td>\n",
       "      <td>ZARAGOZA</td>\n",
       "      <td>ZUERA</td>\n",
       "      <td>CARRETERA N-330A KM. 24,000</td>\n",
       "      <td>REPSOL</td>\n",
       "      <td>1.979</td>\n",
       "      <td>1.567</td>\n",
       "      <td>2.039</td>\n",
       "      <td>1.769</td>\n",
       "      <td>1.919</td>\n",
       "      <td>1.946454</td>\n",
       "      <td>1.55844</td>\n",
       "      <td>2.0434</td>\n",
       "      <td>1.775169</td>\n",
       "      <td>1.929097</td>\n",
       "    </tr>\n",
       "    <tr>\n",
       "      <th>11790</th>\n",
       "      <td>07/11/2022 21:23:55</td>\n",
       "      <td>L-D: 24H</td>\n",
       "      <td>50800</td>\n",
       "      <td>Zuera</td>\n",
       "      <td>ZARAGOZA</td>\n",
       "      <td>ZUERA</td>\n",
       "      <td>CALLE AUSTRIA, 11,17</td>\n",
       "      <td>AN ENERGETICOS ZUERA</td>\n",
       "      <td>1.909</td>\n",
       "      <td>1.424</td>\n",
       "      <td>1.949</td>\n",
       "      <td>1.737</td>\n",
       "      <td>NaN</td>\n",
       "      <td>1.946454</td>\n",
       "      <td>1.55844</td>\n",
       "      <td>2.0434</td>\n",
       "      <td>1.775169</td>\n",
       "      <td>1.929097</td>\n",
       "    </tr>\n",
       "    <tr>\n",
       "      <th>11791</th>\n",
       "      <td>07/11/2022 21:23:55</td>\n",
       "      <td>L-D: 24H</td>\n",
       "      <td>50810</td>\n",
       "      <td>Zuera</td>\n",
       "      <td>ZARAGOZA</td>\n",
       "      <td>ONTINAR DE SALZ</td>\n",
       "      <td>CALLE COOPERATIVA, 2</td>\n",
       "      <td>COOPERATIVA SAN ISIDRO</td>\n",
       "      <td>1.929</td>\n",
       "      <td>1.480</td>\n",
       "      <td>1.969</td>\n",
       "      <td>1.729</td>\n",
       "      <td>NaN</td>\n",
       "      <td>1.946454</td>\n",
       "      <td>1.55844</td>\n",
       "      <td>2.0434</td>\n",
       "      <td>1.775169</td>\n",
       "      <td>1.929097</td>\n",
       "    </tr>\n",
       "  </tbody>\n",
       "</table>\n",
       "<p>11792 rows × 18 columns</p>\n",
       "</div>"
      ],
      "text/plain": [
       "                     Fecha                           Horario   C.P.  \\\n",
       "0      07/11/2022 21:23:55                  L-D: 07:00-22:00  02250   \n",
       "1      07/11/2022 21:23:55                   L-D: 7:00-23:00  02152   \n",
       "2      07/11/2022 21:23:55                  L-D: 06:00-21:30  02001   \n",
       "3      07/11/2022 21:23:55  L-S: 08:00-22:00; D: 09:00-21:00  02001   \n",
       "4      07/11/2022 21:23:55                          L-D: 24H  02001   \n",
       "...                    ...                               ...    ...   \n",
       "11787  07/11/2022 21:23:55                          L-D: 24H  50197   \n",
       "11788  07/11/2022 21:23:55                          L-D: 24H  50197   \n",
       "11789  07/11/2022 21:23:55                  L-D: 06:00-22:00  50800   \n",
       "11790  07/11/2022 21:23:55                          L-D: 24H  50800   \n",
       "11791  07/11/2022 21:23:55                          L-D: 24H  50810   \n",
       "\n",
       "       Municipio Provincia        Localidad  \\\n",
       "0      Abengibre  ALBACETE        ABENGIBRE   \n",
       "1         Alatoz  ALBACETE           ALATOZ   \n",
       "2       Albacete  ALBACETE         ALBACETE   \n",
       "3       Albacete  ALBACETE         ALBACETE   \n",
       "4       Albacete  ALBACETE         ALBACETE   \n",
       "...          ...       ...              ...   \n",
       "11787   Zaragoza  ZARAGOZA         ZARAGOZA   \n",
       "11788   Zaragoza  ZARAGOZA         ZARAGOZA   \n",
       "11789      Zuera  ZARAGOZA            ZUERA   \n",
       "11790      Zuera  ZARAGOZA            ZUERA   \n",
       "11791      Zuera  ZARAGOZA  ONTINAR DE SALZ   \n",
       "\n",
       "                                               Dirección  \\\n",
       "0                         AVENIDA CASTILLA LA MANCHA, 26   \n",
       "1                                        CR CM-332, 46,4   \n",
       "2      CALLE PRINCIPE DE ASTURIAS (POLÍGONO DE ROMICA...   \n",
       "3                                AVENIDA 1º DE MAYO, S/N   \n",
       "4                         CALLE FEDERICO GARCIA LORCA, 1   \n",
       "...                                                  ...   \n",
       "11787                 RONDA FERIA DE MUESTRAS, DE LA, 20   \n",
       "11788                         POLIGONO CALLE TURIASO, 31   \n",
       "11789                        CARRETERA N-330A KM. 24,000   \n",
       "11790                               CALLE AUSTRIA, 11,17   \n",
       "11791                               CALLE COOPERATIVA, 2   \n",
       "\n",
       "        Proveedor de Servicio  Gasoleo A  Gasoleo B  Gasoleo Premium  \\\n",
       "0                   Nº 10.935      1.959      1.460              NaN   \n",
       "1                      REPSOL      2.040        NaN            2.300   \n",
       "2                   BP ROMICA      2.039        NaN            2.129   \n",
       "3                   CARREFOUR      2.019        NaN            2.059   \n",
       "4                     PLENOIL      1.897        NaN              NaN   \n",
       "...                       ...        ...        ...              ...   \n",
       "11787                     IDS      1.999      1.648              NaN   \n",
       "11788                    NOIL      2.009        NaN              NaN   \n",
       "11789                  REPSOL      1.979      1.567            2.039   \n",
       "11790    AN ENERGETICOS ZUERA      1.909      1.424            1.949   \n",
       "11791  COOPERATIVA SAN ISIDRO      1.929      1.480            1.969   \n",
       "\n",
       "       Gasolina 95 E5  Gasolina 98 E5  Media_Gasoleo A  Media_Gasoleo B  \\\n",
       "0               1.769             NaN         1.946454          1.55844   \n",
       "1               1.909           2.200         1.946454          1.55844   \n",
       "2               1.829           1.971         1.946454          1.55844   \n",
       "3               1.859           1.959         1.946454          1.55844   \n",
       "4               1.687             NaN         1.946454          1.55844   \n",
       "...               ...             ...              ...              ...   \n",
       "11787             NaN             NaN         1.946454          1.55844   \n",
       "11788             NaN             NaN         1.946454          1.55844   \n",
       "11789           1.769           1.919         1.946454          1.55844   \n",
       "11790           1.737             NaN         1.946454          1.55844   \n",
       "11791           1.729             NaN         1.946454          1.55844   \n",
       "\n",
       "       Media_Gasoleo Prem  Media_Gasolina 95  Media_Gasolina 98  \n",
       "0                  2.0434           1.775169           1.929097  \n",
       "1                  2.0434           1.775169           1.929097  \n",
       "2                  2.0434           1.775169           1.929097  \n",
       "3                  2.0434           1.775169           1.929097  \n",
       "4                  2.0434           1.775169           1.929097  \n",
       "...                   ...                ...                ...  \n",
       "11787              2.0434           1.775169           1.929097  \n",
       "11788              2.0434           1.775169           1.929097  \n",
       "11789              2.0434           1.775169           1.929097  \n",
       "11790              2.0434           1.775169           1.929097  \n",
       "11791              2.0434           1.775169           1.929097  \n",
       "\n",
       "[11792 rows x 18 columns]"
      ]
     },
     "execution_count": 113,
     "metadata": {},
     "output_type": "execute_result"
    }
   ],
   "source": [
    "#Ordenamos columnas\n",
    "df_n = df_n[['Fecha', 'Horario', 'C.P.','Municipio', 'Provincia', 'Localidad', 'Dirección', 'Proveedor de Servicio', 'Gasoleo A',\n",
    "             'Gasoleo B', 'Gasoleo Premium', 'Gasolina 95 E5', 'Gasolina 98 E5', 'Media_Gasoleo A',\n",
    "             'Media_Gasoleo B', 'Media_Gasoleo Prem', 'Media_Gasolina 95', 'Media_Gasolina 98']]\n",
    "df_n"
   ]
  },
  {
   "cell_type": "code",
   "execution_count": 114,
   "id": "e6edd10a",
   "metadata": {},
   "outputs": [
    {
     "data": {
      "text/html": [
       "<div>\n",
       "<style scoped>\n",
       "    .dataframe tbody tr th:only-of-type {\n",
       "        vertical-align: middle;\n",
       "    }\n",
       "\n",
       "    .dataframe tbody tr th {\n",
       "        vertical-align: top;\n",
       "    }\n",
       "\n",
       "    .dataframe thead th {\n",
       "        text-align: right;\n",
       "    }\n",
       "</style>\n",
       "<table border=\"1\" class=\"dataframe\">\n",
       "  <thead>\n",
       "    <tr style=\"text-align: right;\">\n",
       "      <th></th>\n",
       "      <th>Fecha</th>\n",
       "      <th>Horario</th>\n",
       "      <th>C.P.</th>\n",
       "      <th>Municipio</th>\n",
       "      <th>Provincia</th>\n",
       "      <th>Localidad</th>\n",
       "      <th>Dirección</th>\n",
       "      <th>Proveedor de Servicio</th>\n",
       "      <th>Gasoleo A</th>\n",
       "      <th>Gasoleo B</th>\n",
       "      <th>Gasoleo Premium</th>\n",
       "      <th>Gasolina 95 E5</th>\n",
       "      <th>Gasolina 98 E5</th>\n",
       "      <th>Media_Gasoleo A</th>\n",
       "      <th>Media_Gasoleo B</th>\n",
       "      <th>Media_Gasoleo Prem</th>\n",
       "      <th>Media_Gasolina 95</th>\n",
       "      <th>Media_Gasolina 98</th>\n",
       "    </tr>\n",
       "  </thead>\n",
       "  <tbody>\n",
       "    <tr>\n",
       "      <th>0</th>\n",
       "      <td>07/11/2022 21:23:55</td>\n",
       "      <td>L-D: 07:00-22:00</td>\n",
       "      <td>02250</td>\n",
       "      <td>Abengibre</td>\n",
       "      <td>ALBACETE</td>\n",
       "      <td>ABENGIBRE</td>\n",
       "      <td>AVENIDA CASTILLA LA MANCHA, 26</td>\n",
       "      <td>Nº 10.935</td>\n",
       "      <td>1.959</td>\n",
       "      <td>1.460</td>\n",
       "      <td>NaN</td>\n",
       "      <td>1.769</td>\n",
       "      <td>NaN</td>\n",
       "      <td>1.946454</td>\n",
       "      <td>1.55844</td>\n",
       "      <td>2.0434</td>\n",
       "      <td>1.775169</td>\n",
       "      <td>1.929097</td>\n",
       "    </tr>\n",
       "    <tr>\n",
       "      <th>1</th>\n",
       "      <td>07/11/2022 21:23:55</td>\n",
       "      <td>L-D: 7:00-23:00</td>\n",
       "      <td>02152</td>\n",
       "      <td>Alatoz</td>\n",
       "      <td>ALBACETE</td>\n",
       "      <td>ALATOZ</td>\n",
       "      <td>CR CM-332, 46,4</td>\n",
       "      <td>REPSOL</td>\n",
       "      <td>2.040</td>\n",
       "      <td>NaN</td>\n",
       "      <td>2.300</td>\n",
       "      <td>1.909</td>\n",
       "      <td>2.200</td>\n",
       "      <td>1.946454</td>\n",
       "      <td>1.55844</td>\n",
       "      <td>2.0434</td>\n",
       "      <td>1.775169</td>\n",
       "      <td>1.929097</td>\n",
       "    </tr>\n",
       "    <tr>\n",
       "      <th>2</th>\n",
       "      <td>07/11/2022 21:23:55</td>\n",
       "      <td>L-D: 06:00-21:30</td>\n",
       "      <td>02001</td>\n",
       "      <td>Albacete</td>\n",
       "      <td>ALBACETE</td>\n",
       "      <td>ALBACETE</td>\n",
       "      <td>CALLE PRINCIPE DE ASTURIAS (POLÍGONO DE ROMICA...</td>\n",
       "      <td>BP ROMICA</td>\n",
       "      <td>2.039</td>\n",
       "      <td>NaN</td>\n",
       "      <td>2.129</td>\n",
       "      <td>1.829</td>\n",
       "      <td>1.971</td>\n",
       "      <td>1.946454</td>\n",
       "      <td>1.55844</td>\n",
       "      <td>2.0434</td>\n",
       "      <td>1.775169</td>\n",
       "      <td>1.929097</td>\n",
       "    </tr>\n",
       "    <tr>\n",
       "      <th>3</th>\n",
       "      <td>07/11/2022 21:23:55</td>\n",
       "      <td>L-S: 08:00-22:00; D: 09:00-21:00</td>\n",
       "      <td>02001</td>\n",
       "      <td>Albacete</td>\n",
       "      <td>ALBACETE</td>\n",
       "      <td>ALBACETE</td>\n",
       "      <td>AVENIDA 1º DE MAYO, S/N</td>\n",
       "      <td>CARREFOUR</td>\n",
       "      <td>2.019</td>\n",
       "      <td>NaN</td>\n",
       "      <td>2.059</td>\n",
       "      <td>1.859</td>\n",
       "      <td>1.959</td>\n",
       "      <td>1.946454</td>\n",
       "      <td>1.55844</td>\n",
       "      <td>2.0434</td>\n",
       "      <td>1.775169</td>\n",
       "      <td>1.929097</td>\n",
       "    </tr>\n",
       "    <tr>\n",
       "      <th>4</th>\n",
       "      <td>07/11/2022 21:23:55</td>\n",
       "      <td>L-D: 24H</td>\n",
       "      <td>02001</td>\n",
       "      <td>Albacete</td>\n",
       "      <td>ALBACETE</td>\n",
       "      <td>ALBACETE</td>\n",
       "      <td>CALLE FEDERICO GARCIA LORCA, 1</td>\n",
       "      <td>PLENOIL</td>\n",
       "      <td>1.897</td>\n",
       "      <td>NaN</td>\n",
       "      <td>NaN</td>\n",
       "      <td>1.687</td>\n",
       "      <td>NaN</td>\n",
       "      <td>1.946454</td>\n",
       "      <td>1.55844</td>\n",
       "      <td>2.0434</td>\n",
       "      <td>1.775169</td>\n",
       "      <td>1.929097</td>\n",
       "    </tr>\n",
       "    <tr>\n",
       "      <th>...</th>\n",
       "      <td>...</td>\n",
       "      <td>...</td>\n",
       "      <td>...</td>\n",
       "      <td>...</td>\n",
       "      <td>...</td>\n",
       "      <td>...</td>\n",
       "      <td>...</td>\n",
       "      <td>...</td>\n",
       "      <td>...</td>\n",
       "      <td>...</td>\n",
       "      <td>...</td>\n",
       "      <td>...</td>\n",
       "      <td>...</td>\n",
       "      <td>...</td>\n",
       "      <td>...</td>\n",
       "      <td>...</td>\n",
       "      <td>...</td>\n",
       "      <td>...</td>\n",
       "    </tr>\n",
       "    <tr>\n",
       "      <th>11787</th>\n",
       "      <td>07/11/2022 21:23:55</td>\n",
       "      <td>L-D: 24H</td>\n",
       "      <td>50197</td>\n",
       "      <td>Zaragoza</td>\n",
       "      <td>ZARAGOZA</td>\n",
       "      <td>ZARAGOZA</td>\n",
       "      <td>RONDA FERIA DE MUESTRAS, DE LA, 20</td>\n",
       "      <td>IDS</td>\n",
       "      <td>1.999</td>\n",
       "      <td>1.648</td>\n",
       "      <td>NaN</td>\n",
       "      <td>NaN</td>\n",
       "      <td>NaN</td>\n",
       "      <td>1.946454</td>\n",
       "      <td>1.55844</td>\n",
       "      <td>2.0434</td>\n",
       "      <td>1.775169</td>\n",
       "      <td>1.929097</td>\n",
       "    </tr>\n",
       "    <tr>\n",
       "      <th>11788</th>\n",
       "      <td>07/11/2022 21:23:55</td>\n",
       "      <td>L-D: 24H</td>\n",
       "      <td>50197</td>\n",
       "      <td>Zaragoza</td>\n",
       "      <td>ZARAGOZA</td>\n",
       "      <td>ZARAGOZA</td>\n",
       "      <td>POLIGONO CALLE TURIASO, 31</td>\n",
       "      <td>NOIL</td>\n",
       "      <td>2.009</td>\n",
       "      <td>NaN</td>\n",
       "      <td>NaN</td>\n",
       "      <td>NaN</td>\n",
       "      <td>NaN</td>\n",
       "      <td>1.946454</td>\n",
       "      <td>1.55844</td>\n",
       "      <td>2.0434</td>\n",
       "      <td>1.775169</td>\n",
       "      <td>1.929097</td>\n",
       "    </tr>\n",
       "    <tr>\n",
       "      <th>11789</th>\n",
       "      <td>07/11/2022 21:23:55</td>\n",
       "      <td>L-D: 06:00-22:00</td>\n",
       "      <td>50800</td>\n",
       "      <td>Zuera</td>\n",
       "      <td>ZARAGOZA</td>\n",
       "      <td>ZUERA</td>\n",
       "      <td>CARRETERA N-330A KM. 24,000</td>\n",
       "      <td>REPSOL</td>\n",
       "      <td>1.979</td>\n",
       "      <td>1.567</td>\n",
       "      <td>2.039</td>\n",
       "      <td>1.769</td>\n",
       "      <td>1.919</td>\n",
       "      <td>1.946454</td>\n",
       "      <td>1.55844</td>\n",
       "      <td>2.0434</td>\n",
       "      <td>1.775169</td>\n",
       "      <td>1.929097</td>\n",
       "    </tr>\n",
       "    <tr>\n",
       "      <th>11790</th>\n",
       "      <td>07/11/2022 21:23:55</td>\n",
       "      <td>L-D: 24H</td>\n",
       "      <td>50800</td>\n",
       "      <td>Zuera</td>\n",
       "      <td>ZARAGOZA</td>\n",
       "      <td>ZUERA</td>\n",
       "      <td>CALLE AUSTRIA, 11,17</td>\n",
       "      <td>AN ENERGETICOS ZUERA</td>\n",
       "      <td>1.909</td>\n",
       "      <td>1.424</td>\n",
       "      <td>1.949</td>\n",
       "      <td>1.737</td>\n",
       "      <td>NaN</td>\n",
       "      <td>1.946454</td>\n",
       "      <td>1.55844</td>\n",
       "      <td>2.0434</td>\n",
       "      <td>1.775169</td>\n",
       "      <td>1.929097</td>\n",
       "    </tr>\n",
       "    <tr>\n",
       "      <th>11791</th>\n",
       "      <td>07/11/2022 21:23:55</td>\n",
       "      <td>L-D: 24H</td>\n",
       "      <td>50810</td>\n",
       "      <td>Zuera</td>\n",
       "      <td>ZARAGOZA</td>\n",
       "      <td>ONTINAR DE SALZ</td>\n",
       "      <td>CALLE COOPERATIVA, 2</td>\n",
       "      <td>COOPERATIVA SAN ISIDRO</td>\n",
       "      <td>1.929</td>\n",
       "      <td>1.480</td>\n",
       "      <td>1.969</td>\n",
       "      <td>1.729</td>\n",
       "      <td>NaN</td>\n",
       "      <td>1.946454</td>\n",
       "      <td>1.55844</td>\n",
       "      <td>2.0434</td>\n",
       "      <td>1.775169</td>\n",
       "      <td>1.929097</td>\n",
       "    </tr>\n",
       "  </tbody>\n",
       "</table>\n",
       "<p>11792 rows × 18 columns</p>\n",
       "</div>"
      ],
      "text/plain": [
       "                     Fecha                           Horario   C.P.  \\\n",
       "0      07/11/2022 21:23:55                  L-D: 07:00-22:00  02250   \n",
       "1      07/11/2022 21:23:55                   L-D: 7:00-23:00  02152   \n",
       "2      07/11/2022 21:23:55                  L-D: 06:00-21:30  02001   \n",
       "3      07/11/2022 21:23:55  L-S: 08:00-22:00; D: 09:00-21:00  02001   \n",
       "4      07/11/2022 21:23:55                          L-D: 24H  02001   \n",
       "...                    ...                               ...    ...   \n",
       "11787  07/11/2022 21:23:55                          L-D: 24H  50197   \n",
       "11788  07/11/2022 21:23:55                          L-D: 24H  50197   \n",
       "11789  07/11/2022 21:23:55                  L-D: 06:00-22:00  50800   \n",
       "11790  07/11/2022 21:23:55                          L-D: 24H  50800   \n",
       "11791  07/11/2022 21:23:55                          L-D: 24H  50810   \n",
       "\n",
       "       Municipio Provincia        Localidad  \\\n",
       "0      Abengibre  ALBACETE        ABENGIBRE   \n",
       "1         Alatoz  ALBACETE           ALATOZ   \n",
       "2       Albacete  ALBACETE         ALBACETE   \n",
       "3       Albacete  ALBACETE         ALBACETE   \n",
       "4       Albacete  ALBACETE         ALBACETE   \n",
       "...          ...       ...              ...   \n",
       "11787   Zaragoza  ZARAGOZA         ZARAGOZA   \n",
       "11788   Zaragoza  ZARAGOZA         ZARAGOZA   \n",
       "11789      Zuera  ZARAGOZA            ZUERA   \n",
       "11790      Zuera  ZARAGOZA            ZUERA   \n",
       "11791      Zuera  ZARAGOZA  ONTINAR DE SALZ   \n",
       "\n",
       "                                               Dirección  \\\n",
       "0                         AVENIDA CASTILLA LA MANCHA, 26   \n",
       "1                                        CR CM-332, 46,4   \n",
       "2      CALLE PRINCIPE DE ASTURIAS (POLÍGONO DE ROMICA...   \n",
       "3                                AVENIDA 1º DE MAYO, S/N   \n",
       "4                         CALLE FEDERICO GARCIA LORCA, 1   \n",
       "...                                                  ...   \n",
       "11787                 RONDA FERIA DE MUESTRAS, DE LA, 20   \n",
       "11788                         POLIGONO CALLE TURIASO, 31   \n",
       "11789                        CARRETERA N-330A KM. 24,000   \n",
       "11790                               CALLE AUSTRIA, 11,17   \n",
       "11791                               CALLE COOPERATIVA, 2   \n",
       "\n",
       "        Proveedor de Servicio  Gasoleo A  Gasoleo B  Gasoleo Premium  \\\n",
       "0                   Nº 10.935      1.959      1.460              NaN   \n",
       "1                      REPSOL      2.040        NaN            2.300   \n",
       "2                   BP ROMICA      2.039        NaN            2.129   \n",
       "3                   CARREFOUR      2.019        NaN            2.059   \n",
       "4                     PLENOIL      1.897        NaN              NaN   \n",
       "...                       ...        ...        ...              ...   \n",
       "11787                     IDS      1.999      1.648              NaN   \n",
       "11788                    NOIL      2.009        NaN              NaN   \n",
       "11789                  REPSOL      1.979      1.567            2.039   \n",
       "11790    AN ENERGETICOS ZUERA      1.909      1.424            1.949   \n",
       "11791  COOPERATIVA SAN ISIDRO      1.929      1.480            1.969   \n",
       "\n",
       "       Gasolina 95 E5  Gasolina 98 E5  Media_Gasoleo A  Media_Gasoleo B  \\\n",
       "0               1.769             NaN         1.946454          1.55844   \n",
       "1               1.909           2.200         1.946454          1.55844   \n",
       "2               1.829           1.971         1.946454          1.55844   \n",
       "3               1.859           1.959         1.946454          1.55844   \n",
       "4               1.687             NaN         1.946454          1.55844   \n",
       "...               ...             ...              ...              ...   \n",
       "11787             NaN             NaN         1.946454          1.55844   \n",
       "11788             NaN             NaN         1.946454          1.55844   \n",
       "11789           1.769           1.919         1.946454          1.55844   \n",
       "11790           1.737             NaN         1.946454          1.55844   \n",
       "11791           1.729             NaN         1.946454          1.55844   \n",
       "\n",
       "       Media_Gasoleo Prem  Media_Gasolina 95  Media_Gasolina 98  \n",
       "0                  2.0434           1.775169           1.929097  \n",
       "1                  2.0434           1.775169           1.929097  \n",
       "2                  2.0434           1.775169           1.929097  \n",
       "3                  2.0434           1.775169           1.929097  \n",
       "4                  2.0434           1.775169           1.929097  \n",
       "...                   ...                ...                ...  \n",
       "11787              2.0434           1.775169           1.929097  \n",
       "11788              2.0434           1.775169           1.929097  \n",
       "11789              2.0434           1.775169           1.929097  \n",
       "11790              2.0434           1.775169           1.929097  \n",
       "11791              2.0434           1.775169           1.929097  \n",
       "\n",
       "[11792 rows x 18 columns]"
      ]
     },
     "execution_count": 114,
     "metadata": {},
     "output_type": "execute_result"
    }
   ],
   "source": [
    "df_n"
   ]
  },
  {
   "cell_type": "code",
   "execution_count": 115,
   "id": "5f465a5c",
   "metadata": {},
   "outputs": [],
   "source": [
    "# Guardamos df original para sucesion de tiempo\n",
    "df_n.to_csv('df_sample.csv', index=False)"
   ]
  },
  {
   "cell_type": "markdown",
   "id": "9ece3cb6",
   "metadata": {},
   "source": [
    "---\n",
    "Step4\n",
    "\n",
    "\n",
    "# Desarrollo Funciones "
   ]
  },
  {
   "cell_type": "code",
   "execution_count": 116,
   "id": "a2640cea",
   "metadata": {},
   "outputs": [],
   "source": [
    "# Analisis de Funciones"
   ]
  },
  {
   "cell_type": "code",
   "execution_count": 117,
   "id": "6a6ddce7",
   "metadata": {
    "scrolled": true
   },
   "outputs": [
    {
     "data": {
      "text/html": [
       "<div>\n",
       "<style scoped>\n",
       "    .dataframe tbody tr th:only-of-type {\n",
       "        vertical-align: middle;\n",
       "    }\n",
       "\n",
       "    .dataframe tbody tr th {\n",
       "        vertical-align: top;\n",
       "    }\n",
       "\n",
       "    .dataframe thead th {\n",
       "        text-align: right;\n",
       "    }\n",
       "</style>\n",
       "<table border=\"1\" class=\"dataframe\">\n",
       "  <thead>\n",
       "    <tr style=\"text-align: right;\">\n",
       "      <th></th>\n",
       "      <th>Fecha</th>\n",
       "      <th>Horario</th>\n",
       "      <th>C.P.</th>\n",
       "      <th>Municipio</th>\n",
       "      <th>Provincia</th>\n",
       "      <th>Localidad</th>\n",
       "      <th>Dirección</th>\n",
       "      <th>Proveedor de Servicio</th>\n",
       "      <th>Gasoleo A</th>\n",
       "      <th>Gasoleo B</th>\n",
       "      <th>Gasoleo Premium</th>\n",
       "      <th>Gasolina 95 E5</th>\n",
       "      <th>Gasolina 98 E5</th>\n",
       "      <th>Media_Gasoleo A</th>\n",
       "      <th>Media_Gasoleo B</th>\n",
       "      <th>Media_Gasoleo Prem</th>\n",
       "      <th>Media_Gasolina 95</th>\n",
       "      <th>Media_Gasolina 98</th>\n",
       "    </tr>\n",
       "  </thead>\n",
       "  <tbody>\n",
       "    <tr>\n",
       "      <th>7226</th>\n",
       "      <td>07/11/2022 21:23:55</td>\n",
       "      <td>L-D: 06:00-22:00</td>\n",
       "      <td>28760</td>\n",
       "      <td>Tres Cantos</td>\n",
       "      <td>MADRID</td>\n",
       "      <td>TRES CANTOS</td>\n",
       "      <td>CL AVDA DE LA INDUSTRIA, 33</td>\n",
       "      <td>REPSOL</td>\n",
       "      <td>1.999</td>\n",
       "      <td>NaN</td>\n",
       "      <td>2.089</td>\n",
       "      <td>1.789</td>\n",
       "      <td>1.939</td>\n",
       "      <td>1.946454</td>\n",
       "      <td>1.55844</td>\n",
       "      <td>2.0434</td>\n",
       "      <td>1.775169</td>\n",
       "      <td>1.929097</td>\n",
       "    </tr>\n",
       "    <tr>\n",
       "      <th>7227</th>\n",
       "      <td>07/11/2022 21:23:55</td>\n",
       "      <td>L-D: 06:00-00:00</td>\n",
       "      <td>28760</td>\n",
       "      <td>Tres Cantos</td>\n",
       "      <td>MADRID</td>\n",
       "      <td>TRES CANTOS</td>\n",
       "      <td>CALLE YUNQUE, 6</td>\n",
       "      <td>CEPSA</td>\n",
       "      <td>1.918</td>\n",
       "      <td>NaN</td>\n",
       "      <td>1.964</td>\n",
       "      <td>1.712</td>\n",
       "      <td>1.844</td>\n",
       "      <td>1.946454</td>\n",
       "      <td>1.55844</td>\n",
       "      <td>2.0434</td>\n",
       "      <td>1.775169</td>\n",
       "      <td>1.929097</td>\n",
       "    </tr>\n",
       "    <tr>\n",
       "      <th>7228</th>\n",
       "      <td>07/11/2022 21:23:55</td>\n",
       "      <td>L-D: 24H</td>\n",
       "      <td>28760</td>\n",
       "      <td>Tres Cantos</td>\n",
       "      <td>MADRID</td>\n",
       "      <td>TRES CANTOS</td>\n",
       "      <td>AVENIDA INDUSTRIA, 44</td>\n",
       "      <td>BALLENOIL</td>\n",
       "      <td>1.797</td>\n",
       "      <td>NaN</td>\n",
       "      <td>1.807</td>\n",
       "      <td>1.567</td>\n",
       "      <td>NaN</td>\n",
       "      <td>1.946454</td>\n",
       "      <td>1.55844</td>\n",
       "      <td>2.0434</td>\n",
       "      <td>1.775169</td>\n",
       "      <td>1.929097</td>\n",
       "    </tr>\n",
       "    <tr>\n",
       "      <th>7229</th>\n",
       "      <td>07/11/2022 21:23:55</td>\n",
       "      <td>L-D: 24H</td>\n",
       "      <td>28760</td>\n",
       "      <td>Tres Cantos</td>\n",
       "      <td>MADRID</td>\n",
       "      <td>TRES CANTOS</td>\n",
       "      <td>AVENIDA INDUSTRIA (DE LA), S/N</td>\n",
       "      <td>BP TRES CANTOS</td>\n",
       "      <td>2.039</td>\n",
       "      <td>NaN</td>\n",
       "      <td>2.129</td>\n",
       "      <td>1.819</td>\n",
       "      <td>1.961</td>\n",
       "      <td>1.946454</td>\n",
       "      <td>1.55844</td>\n",
       "      <td>2.0434</td>\n",
       "      <td>1.775169</td>\n",
       "      <td>1.929097</td>\n",
       "    </tr>\n",
       "    <tr>\n",
       "      <th>7230</th>\n",
       "      <td>07/11/2022 21:23:55</td>\n",
       "      <td>L-D: 24H</td>\n",
       "      <td>28760</td>\n",
       "      <td>Tres Cantos</td>\n",
       "      <td>MADRID</td>\n",
       "      <td>TRES CANTOS</td>\n",
       "      <td>CL AV DE LA INDUSTRIA, 58</td>\n",
       "      <td>REPSOL</td>\n",
       "      <td>1.999</td>\n",
       "      <td>NaN</td>\n",
       "      <td>2.089</td>\n",
       "      <td>1.769</td>\n",
       "      <td>1.919</td>\n",
       "      <td>1.946454</td>\n",
       "      <td>1.55844</td>\n",
       "      <td>2.0434</td>\n",
       "      <td>1.775169</td>\n",
       "      <td>1.929097</td>\n",
       "    </tr>\n",
       "    <tr>\n",
       "      <th>7231</th>\n",
       "      <td>07/11/2022 21:23:55</td>\n",
       "      <td>L-D: 24H</td>\n",
       "      <td>28760</td>\n",
       "      <td>Tres Cantos</td>\n",
       "      <td>MADRID</td>\n",
       "      <td>TRES CANTOS</td>\n",
       "      <td>AVENIDA INDUSTRIA (DE LA), 52</td>\n",
       "      <td>PLENOIL</td>\n",
       "      <td>1.797</td>\n",
       "      <td>NaN</td>\n",
       "      <td>NaN</td>\n",
       "      <td>1.567</td>\n",
       "      <td>NaN</td>\n",
       "      <td>1.946454</td>\n",
       "      <td>1.55844</td>\n",
       "      <td>2.0434</td>\n",
       "      <td>1.775169</td>\n",
       "      <td>1.929097</td>\n",
       "    </tr>\n",
       "    <tr>\n",
       "      <th>7232</th>\n",
       "      <td>07/11/2022 21:23:55</td>\n",
       "      <td>L-V: 08:00-20:00</td>\n",
       "      <td>28760</td>\n",
       "      <td>Tres Cantos</td>\n",
       "      <td>MADRID</td>\n",
       "      <td>TRES CANTOS</td>\n",
       "      <td>CL AVENIDA ARTESANOS, 40</td>\n",
       "      <td>REPSOL</td>\n",
       "      <td>1.999</td>\n",
       "      <td>NaN</td>\n",
       "      <td>NaN</td>\n",
       "      <td>1.779</td>\n",
       "      <td>1.919</td>\n",
       "      <td>1.946454</td>\n",
       "      <td>1.55844</td>\n",
       "      <td>2.0434</td>\n",
       "      <td>1.775169</td>\n",
       "      <td>1.929097</td>\n",
       "    </tr>\n",
       "  </tbody>\n",
       "</table>\n",
       "</div>"
      ],
      "text/plain": [
       "                    Fecha           Horario   C.P.    Municipio Provincia  \\\n",
       "7226  07/11/2022 21:23:55  L-D: 06:00-22:00  28760  Tres Cantos    MADRID   \n",
       "7227  07/11/2022 21:23:55  L-D: 06:00-00:00  28760  Tres Cantos    MADRID   \n",
       "7228  07/11/2022 21:23:55          L-D: 24H  28760  Tres Cantos    MADRID   \n",
       "7229  07/11/2022 21:23:55          L-D: 24H  28760  Tres Cantos    MADRID   \n",
       "7230  07/11/2022 21:23:55          L-D: 24H  28760  Tres Cantos    MADRID   \n",
       "7231  07/11/2022 21:23:55          L-D: 24H  28760  Tres Cantos    MADRID   \n",
       "7232  07/11/2022 21:23:55  L-V: 08:00-20:00  28760  Tres Cantos    MADRID   \n",
       "\n",
       "        Localidad                       Dirección Proveedor de Servicio  \\\n",
       "7226  TRES CANTOS     CL AVDA DE LA INDUSTRIA, 33                REPSOL   \n",
       "7227  TRES CANTOS                 CALLE YUNQUE, 6                 CEPSA   \n",
       "7228  TRES CANTOS           AVENIDA INDUSTRIA, 44             BALLENOIL   \n",
       "7229  TRES CANTOS  AVENIDA INDUSTRIA (DE LA), S/N        BP TRES CANTOS   \n",
       "7230  TRES CANTOS       CL AV DE LA INDUSTRIA, 58                REPSOL   \n",
       "7231  TRES CANTOS   AVENIDA INDUSTRIA (DE LA), 52               PLENOIL   \n",
       "7232  TRES CANTOS        CL AVENIDA ARTESANOS, 40                REPSOL   \n",
       "\n",
       "      Gasoleo A  Gasoleo B  Gasoleo Premium  Gasolina 95 E5  Gasolina 98 E5  \\\n",
       "7226      1.999        NaN            2.089           1.789           1.939   \n",
       "7227      1.918        NaN            1.964           1.712           1.844   \n",
       "7228      1.797        NaN            1.807           1.567             NaN   \n",
       "7229      2.039        NaN            2.129           1.819           1.961   \n",
       "7230      1.999        NaN            2.089           1.769           1.919   \n",
       "7231      1.797        NaN              NaN           1.567             NaN   \n",
       "7232      1.999        NaN              NaN           1.779           1.919   \n",
       "\n",
       "      Media_Gasoleo A  Media_Gasoleo B  Media_Gasoleo Prem  Media_Gasolina 95  \\\n",
       "7226         1.946454          1.55844              2.0434           1.775169   \n",
       "7227         1.946454          1.55844              2.0434           1.775169   \n",
       "7228         1.946454          1.55844              2.0434           1.775169   \n",
       "7229         1.946454          1.55844              2.0434           1.775169   \n",
       "7230         1.946454          1.55844              2.0434           1.775169   \n",
       "7231         1.946454          1.55844              2.0434           1.775169   \n",
       "7232         1.946454          1.55844              2.0434           1.775169   \n",
       "\n",
       "      Media_Gasolina 98  \n",
       "7226           1.929097  \n",
       "7227           1.929097  \n",
       "7228           1.929097  \n",
       "7229           1.929097  \n",
       "7230           1.929097  \n",
       "7231           1.929097  \n",
       "7232           1.929097  "
      ]
     },
     "execution_count": 117,
     "metadata": {},
     "output_type": "execute_result"
    }
   ],
   "source": [
    "# Analizar df_n usando .loc()\n",
    "\n",
    "df_n[df_n['C.P.'] == '28760'] "
   ]
  },
  {
   "cell_type": "code",
   "execution_count": 118,
   "id": "d4a411b2",
   "metadata": {},
   "outputs": [
    {
     "data": {
      "text/plain": [
       "Gasoleo A    1.299\n",
       "dtype: float64"
      ]
     },
     "execution_count": 118,
     "metadata": {},
     "output_type": "execute_result"
    }
   ],
   "source": [
    "df_n[['Gasoleo A']].min()"
   ]
  },
  {
   "cell_type": "code",
   "execution_count": 119,
   "id": "3b1f1e51",
   "metadata": {},
   "outputs": [
    {
     "data": {
      "text/plain": [
       "pandas.core.series.Series"
      ]
     },
     "execution_count": 119,
     "metadata": {},
     "output_type": "execute_result"
    }
   ],
   "source": [
    "type(df_n[['Gasoleo A']].min())"
   ]
  },
  {
   "cell_type": "code",
   "execution_count": 120,
   "id": "90b1365c",
   "metadata": {},
   "outputs": [
    {
     "data": {
      "text/plain": [
       "Gasoleo A    9255\n",
       "dtype: int64"
      ]
     },
     "execution_count": 120,
     "metadata": {},
     "output_type": "execute_result"
    }
   ],
   "source": [
    "df_n[['Gasoleo A']].idxmin()"
   ]
  },
  {
   "cell_type": "code",
   "execution_count": 121,
   "id": "2e862788",
   "metadata": {},
   "outputs": [
    {
     "data": {
      "text/plain": [
       "pandas.core.series.Series"
      ]
     },
     "execution_count": 121,
     "metadata": {},
     "output_type": "execute_result"
    }
   ],
   "source": [
    "type(df_n[['Gasoleo A']].idxmin())"
   ]
  },
  {
   "cell_type": "code",
   "execution_count": 122,
   "id": "9de51546",
   "metadata": {},
   "outputs": [],
   "source": [
    "#df_n.loc[df_n[['Gasoleo A']].min()]"
   ]
  },
  {
   "cell_type": "code",
   "execution_count": 123,
   "id": "6189b48b",
   "metadata": {},
   "outputs": [],
   "source": [
    "#df_n.head()"
   ]
  },
  {
   "cell_type": "code",
   "execution_count": 124,
   "id": "2532402d",
   "metadata": {},
   "outputs": [],
   "source": [
    "#df_n.loc[1.290]"
   ]
  },
  {
   "cell_type": "code",
   "execution_count": 125,
   "id": "eaca1f27",
   "metadata": {},
   "outputs": [
    {
     "data": {
      "text/plain": [
       "RangeIndex(start=0, stop=11792, step=1)"
      ]
     },
     "execution_count": 125,
     "metadata": {},
     "output_type": "execute_result"
    }
   ],
   "source": [
    "df_n.index"
   ]
  },
  {
   "cell_type": "code",
   "execution_count": 126,
   "id": "c8047416",
   "metadata": {},
   "outputs": [
    {
     "data": {
      "text/plain": [
       "pandas.core.frame.DataFrame"
      ]
     },
     "execution_count": 126,
     "metadata": {},
     "output_type": "execute_result"
    }
   ],
   "source": [
    "type(df_n.loc[df_n[['Gasoleo A']].idxmin()])"
   ]
  },
  {
   "cell_type": "code",
   "execution_count": 127,
   "id": "5f0aaab8",
   "metadata": {},
   "outputs": [
    {
     "data": {
      "text/plain": [
       "pandas.core.series.Series"
      ]
     },
     "execution_count": 127,
     "metadata": {},
     "output_type": "execute_result"
    }
   ],
   "source": [
    "type(df_n.loc[9213])"
   ]
  },
  {
   "cell_type": "code",
   "execution_count": 128,
   "id": "aeca5642",
   "metadata": {},
   "outputs": [
    {
     "data": {
      "text/plain": [
       "<pandas.core.groupby.generic.DataFrameGroupBy object at 0x00000166D311A400>"
      ]
     },
     "execution_count": 128,
     "metadata": {},
     "output_type": "execute_result"
    }
   ],
   "source": [
    "a = df_n.groupby(by=[\"Municipio\"])\n",
    "a"
   ]
  },
  {
   "cell_type": "code",
   "execution_count": 129,
   "id": "4afac610",
   "metadata": {},
   "outputs": [
    {
     "data": {
      "text/plain": [
       "Municipio\n",
       "Abadiño                                     [48220]\n",
       "Abadín                               [27730, 27738]\n",
       "Abanilla                                    [30640]\n",
       "Abanto y Ciérvana-Abanto Zierbena           [48500]\n",
       "Abarán                                      [30550]\n",
       "                                          ...      \n",
       "Íscar                                       [47420]\n",
       "Òdena                                       [08711]\n",
       "Ólvega                                      [42110]\n",
       "Órgiva                                      [18400]\n",
       "Úbeda                                       [23400]\n",
       "Name: C.P., Length: 3435, dtype: object"
      ]
     },
     "execution_count": 129,
     "metadata": {},
     "output_type": "execute_result"
    }
   ],
   "source": [
    "b = a[\"C.P.\"].unique()\n",
    "b"
   ]
  },
  {
   "cell_type": "markdown",
   "id": "3f8e8e7f",
   "metadata": {},
   "source": [
    "# Funciones"
   ]
  },
  {
   "cell_type": "code",
   "execution_count": 130,
   "id": "ebf8ea98",
   "metadata": {},
   "outputs": [],
   "source": [
    "# Precio mínimo de combstible en un codigo postal \n",
    "def cp_minimo(x,y):\n",
    "# x = Código Postal\n",
    "# y = Tipo de combustible para el precio mínimo\n",
    "    cod_postal = df_n[df_n['C.P.'] == x]\n",
    "    combustible = cod_postal.loc[cod_postal[[y]].idxmin()]\n",
    "    return combustible\n"
   ]
  },
  {
   "cell_type": "code",
   "execution_count": 131,
   "id": "e31206c6",
   "metadata": {},
   "outputs": [
    {
     "data": {
      "text/html": [
       "<div>\n",
       "<style scoped>\n",
       "    .dataframe tbody tr th:only-of-type {\n",
       "        vertical-align: middle;\n",
       "    }\n",
       "\n",
       "    .dataframe tbody tr th {\n",
       "        vertical-align: top;\n",
       "    }\n",
       "\n",
       "    .dataframe thead th {\n",
       "        text-align: right;\n",
       "    }\n",
       "</style>\n",
       "<table border=\"1\" class=\"dataframe\">\n",
       "  <thead>\n",
       "    <tr style=\"text-align: right;\">\n",
       "      <th></th>\n",
       "      <th>Fecha</th>\n",
       "      <th>Horario</th>\n",
       "      <th>C.P.</th>\n",
       "      <th>Municipio</th>\n",
       "      <th>Provincia</th>\n",
       "      <th>Localidad</th>\n",
       "      <th>Dirección</th>\n",
       "      <th>Proveedor de Servicio</th>\n",
       "      <th>Gasoleo A</th>\n",
       "      <th>Gasoleo B</th>\n",
       "      <th>Gasoleo Premium</th>\n",
       "      <th>Gasolina 95 E5</th>\n",
       "      <th>Gasolina 98 E5</th>\n",
       "      <th>Media_Gasoleo A</th>\n",
       "      <th>Media_Gasoleo B</th>\n",
       "      <th>Media_Gasoleo Prem</th>\n",
       "      <th>Media_Gasolina 95</th>\n",
       "      <th>Media_Gasolina 98</th>\n",
       "    </tr>\n",
       "  </thead>\n",
       "  <tbody>\n",
       "    <tr>\n",
       "      <th>7228</th>\n",
       "      <td>07/11/2022 21:23:55</td>\n",
       "      <td>L-D: 24H</td>\n",
       "      <td>28760</td>\n",
       "      <td>Tres Cantos</td>\n",
       "      <td>MADRID</td>\n",
       "      <td>TRES CANTOS</td>\n",
       "      <td>AVENIDA INDUSTRIA, 44</td>\n",
       "      <td>BALLENOIL</td>\n",
       "      <td>1.797</td>\n",
       "      <td>NaN</td>\n",
       "      <td>1.807</td>\n",
       "      <td>1.567</td>\n",
       "      <td>NaN</td>\n",
       "      <td>1.946454</td>\n",
       "      <td>1.55844</td>\n",
       "      <td>2.0434</td>\n",
       "      <td>1.775169</td>\n",
       "      <td>1.929097</td>\n",
       "    </tr>\n",
       "  </tbody>\n",
       "</table>\n",
       "</div>"
      ],
      "text/plain": [
       "                    Fecha   Horario   C.P.    Municipio Provincia  \\\n",
       "7228  07/11/2022 21:23:55  L-D: 24H  28760  Tres Cantos    MADRID   \n",
       "\n",
       "        Localidad              Dirección Proveedor de Servicio  Gasoleo A  \\\n",
       "7228  TRES CANTOS  AVENIDA INDUSTRIA, 44             BALLENOIL      1.797   \n",
       "\n",
       "      Gasoleo B  Gasoleo Premium  Gasolina 95 E5  Gasolina 98 E5  \\\n",
       "7228        NaN            1.807           1.567             NaN   \n",
       "\n",
       "      Media_Gasoleo A  Media_Gasoleo B  Media_Gasoleo Prem  Media_Gasolina 95  \\\n",
       "7228         1.946454          1.55844              2.0434           1.775169   \n",
       "\n",
       "      Media_Gasolina 98  \n",
       "7228           1.929097  "
      ]
     },
     "execution_count": 131,
     "metadata": {},
     "output_type": "execute_result"
    }
   ],
   "source": [
    "cp_minimo('28760', 'Gasoleo A')"
   ]
  },
  {
   "cell_type": "markdown",
   "id": "2279f697",
   "metadata": {},
   "source": [
    "---"
   ]
  },
  {
   "cell_type": "code",
   "execution_count": 132,
   "id": "ee65c0fb",
   "metadata": {},
   "outputs": [
    {
     "data": {
      "text/html": [
       "<div>\n",
       "<style scoped>\n",
       "    .dataframe tbody tr th:only-of-type {\n",
       "        vertical-align: middle;\n",
       "    }\n",
       "\n",
       "    .dataframe tbody tr th {\n",
       "        vertical-align: top;\n",
       "    }\n",
       "\n",
       "    .dataframe thead th {\n",
       "        text-align: right;\n",
       "    }\n",
       "</style>\n",
       "<table border=\"1\" class=\"dataframe\">\n",
       "  <thead>\n",
       "    <tr style=\"text-align: right;\">\n",
       "      <th></th>\n",
       "      <th>Fecha</th>\n",
       "      <th>Horario</th>\n",
       "      <th>C.P.</th>\n",
       "      <th>Municipio</th>\n",
       "      <th>Provincia</th>\n",
       "      <th>Localidad</th>\n",
       "      <th>Dirección</th>\n",
       "      <th>Proveedor de Servicio</th>\n",
       "      <th>Gasoleo A</th>\n",
       "      <th>Gasoleo B</th>\n",
       "      <th>Gasoleo Premium</th>\n",
       "      <th>Gasolina 95 E5</th>\n",
       "      <th>Gasolina 98 E5</th>\n",
       "      <th>Media_Gasoleo A</th>\n",
       "      <th>Media_Gasoleo B</th>\n",
       "      <th>Media_Gasoleo Prem</th>\n",
       "      <th>Media_Gasolina 95</th>\n",
       "      <th>Media_Gasolina 98</th>\n",
       "    </tr>\n",
       "  </thead>\n",
       "  <tbody>\n",
       "    <tr>\n",
       "      <th>6560</th>\n",
       "      <td>07/11/2022 21:23:55</td>\n",
       "      <td>L-V: 06:00-22:00; S-D: 08:00-22:00</td>\n",
       "      <td>28500</td>\n",
       "      <td>Arganda del Rey</td>\n",
       "      <td>MADRID</td>\n",
       "      <td>ARGANDA</td>\n",
       "      <td>AVDA DE MADRID, 103</td>\n",
       "      <td>REPSOL</td>\n",
       "      <td>2.029</td>\n",
       "      <td>1.669</td>\n",
       "      <td>2.039</td>\n",
       "      <td>1.819</td>\n",
       "      <td>NaN</td>\n",
       "      <td>1.946454</td>\n",
       "      <td>1.55844</td>\n",
       "      <td>2.0434</td>\n",
       "      <td>1.775169</td>\n",
       "      <td>1.929097</td>\n",
       "    </tr>\n",
       "    <tr>\n",
       "      <th>6561</th>\n",
       "      <td>07/11/2022 21:23:55</td>\n",
       "      <td>L-D: 06:00-00:00</td>\n",
       "      <td>28500</td>\n",
       "      <td>Arganda del Rey</td>\n",
       "      <td>MADRID</td>\n",
       "      <td>ARGANDA</td>\n",
       "      <td>AVENIDA DE MADRID, 126</td>\n",
       "      <td>ATENOIL</td>\n",
       "      <td>1.939</td>\n",
       "      <td>NaN</td>\n",
       "      <td>1.949</td>\n",
       "      <td>1.699</td>\n",
       "      <td>NaN</td>\n",
       "      <td>1.946454</td>\n",
       "      <td>1.55844</td>\n",
       "      <td>2.0434</td>\n",
       "      <td>1.775169</td>\n",
       "      <td>1.929097</td>\n",
       "    </tr>\n",
       "    <tr>\n",
       "      <th>6562</th>\n",
       "      <td>07/11/2022 21:23:55</td>\n",
       "      <td>L-D: 06:00-22:00</td>\n",
       "      <td>28500</td>\n",
       "      <td>Arganda del Rey</td>\n",
       "      <td>MADRID</td>\n",
       "      <td>ARGANDA</td>\n",
       "      <td>AVENIDA DE MADRID, 37</td>\n",
       "      <td>BP LA ARGANDEÑA</td>\n",
       "      <td>2.049</td>\n",
       "      <td>NaN</td>\n",
       "      <td>2.139</td>\n",
       "      <td>1.839</td>\n",
       "      <td>1.981</td>\n",
       "      <td>1.946454</td>\n",
       "      <td>1.55844</td>\n",
       "      <td>2.0434</td>\n",
       "      <td>1.775169</td>\n",
       "      <td>1.929097</td>\n",
       "    </tr>\n",
       "    <tr>\n",
       "      <th>6563</th>\n",
       "      <td>07/11/2022 21:23:55</td>\n",
       "      <td>L-D: 24H</td>\n",
       "      <td>28500</td>\n",
       "      <td>Arganda del Rey</td>\n",
       "      <td>MADRID</td>\n",
       "      <td>ARGANDA</td>\n",
       "      <td>AVENIDA EJERCITO (DEL), 44</td>\n",
       "      <td>BP ARGANDA</td>\n",
       "      <td>2.049</td>\n",
       "      <td>NaN</td>\n",
       "      <td>2.139</td>\n",
       "      <td>1.839</td>\n",
       "      <td>1.981</td>\n",
       "      <td>1.946454</td>\n",
       "      <td>1.55844</td>\n",
       "      <td>2.0434</td>\n",
       "      <td>1.775169</td>\n",
       "      <td>1.929097</td>\n",
       "    </tr>\n",
       "    <tr>\n",
       "      <th>6564</th>\n",
       "      <td>07/11/2022 21:23:55</td>\n",
       "      <td>L-D: 24H</td>\n",
       "      <td>28500</td>\n",
       "      <td>Arganda del Rey</td>\n",
       "      <td>MADRID</td>\n",
       "      <td>ARGANDA</td>\n",
       "      <td>CARRETERA M-832 KM. 3</td>\n",
       "      <td>REPSOL</td>\n",
       "      <td>2.052</td>\n",
       "      <td>NaN</td>\n",
       "      <td>2.122</td>\n",
       "      <td>1.802</td>\n",
       "      <td>NaN</td>\n",
       "      <td>1.946454</td>\n",
       "      <td>1.55844</td>\n",
       "      <td>2.0434</td>\n",
       "      <td>1.775169</td>\n",
       "      <td>1.929097</td>\n",
       "    </tr>\n",
       "    <tr>\n",
       "      <th>6565</th>\n",
       "      <td>07/11/2022 21:23:55</td>\n",
       "      <td>L-D: 24H</td>\n",
       "      <td>28500</td>\n",
       "      <td>Arganda del Rey</td>\n",
       "      <td>MADRID</td>\n",
       "      <td>ARGANDA</td>\n",
       "      <td>AVENIDA VALDEARGANDA, 8</td>\n",
       "      <td>CEPSA</td>\n",
       "      <td>2.035</td>\n",
       "      <td>NaN</td>\n",
       "      <td>2.135</td>\n",
       "      <td>1.834</td>\n",
       "      <td>1.966</td>\n",
       "      <td>1.946454</td>\n",
       "      <td>1.55844</td>\n",
       "      <td>2.0434</td>\n",
       "      <td>1.775169</td>\n",
       "      <td>1.929097</td>\n",
       "    </tr>\n",
       "    <tr>\n",
       "      <th>6566</th>\n",
       "      <td>07/11/2022 21:23:55</td>\n",
       "      <td>L-D: 24H</td>\n",
       "      <td>28500</td>\n",
       "      <td>Arganda del Rey</td>\n",
       "      <td>MADRID</td>\n",
       "      <td>ARGANDA</td>\n",
       "      <td>CAMINO CAMINO DE SAN MARTÍN DE LA VEGA A ARGAN...</td>\n",
       "      <td>BALLENOIL</td>\n",
       "      <td>1.899</td>\n",
       "      <td>NaN</td>\n",
       "      <td>NaN</td>\n",
       "      <td>1.669</td>\n",
       "      <td>NaN</td>\n",
       "      <td>1.946454</td>\n",
       "      <td>1.55844</td>\n",
       "      <td>2.0434</td>\n",
       "      <td>1.775169</td>\n",
       "      <td>1.929097</td>\n",
       "    </tr>\n",
       "    <tr>\n",
       "      <th>6567</th>\n",
       "      <td>07/11/2022 21:23:55</td>\n",
       "      <td>L-D: 07:00-22:00</td>\n",
       "      <td>28500</td>\n",
       "      <td>Arganda del Rey</td>\n",
       "      <td>MADRID</td>\n",
       "      <td>ARGANDA</td>\n",
       "      <td>AVENIDA FINANZAUTO (DE), 2</td>\n",
       "      <td>DELFIOIL</td>\n",
       "      <td>1.899</td>\n",
       "      <td>NaN</td>\n",
       "      <td>NaN</td>\n",
       "      <td>1.669</td>\n",
       "      <td>NaN</td>\n",
       "      <td>1.946454</td>\n",
       "      <td>1.55844</td>\n",
       "      <td>2.0434</td>\n",
       "      <td>1.775169</td>\n",
       "      <td>1.929097</td>\n",
       "    </tr>\n",
       "    <tr>\n",
       "      <th>6568</th>\n",
       "      <td>07/11/2022 21:23:55</td>\n",
       "      <td>L-D: 24H</td>\n",
       "      <td>28500</td>\n",
       "      <td>Arganda del Rey</td>\n",
       "      <td>MADRID</td>\n",
       "      <td>ARGANDA</td>\n",
       "      <td>AVENIDA MADRID (DE), 66</td>\n",
       "      <td>PLENOIL</td>\n",
       "      <td>1.899</td>\n",
       "      <td>NaN</td>\n",
       "      <td>NaN</td>\n",
       "      <td>1.649</td>\n",
       "      <td>NaN</td>\n",
       "      <td>1.946454</td>\n",
       "      <td>1.55844</td>\n",
       "      <td>2.0434</td>\n",
       "      <td>1.775169</td>\n",
       "      <td>1.929097</td>\n",
       "    </tr>\n",
       "    <tr>\n",
       "      <th>6569</th>\n",
       "      <td>07/11/2022 21:23:55</td>\n",
       "      <td>L: 24H</td>\n",
       "      <td>28500</td>\n",
       "      <td>Arganda del Rey</td>\n",
       "      <td>MADRID</td>\n",
       "      <td>ARGANDA</td>\n",
       "      <td>CARRETERA M-832 KM. 3</td>\n",
       "      <td>REPSOL</td>\n",
       "      <td>2.052</td>\n",
       "      <td>NaN</td>\n",
       "      <td>NaN</td>\n",
       "      <td>1.802</td>\n",
       "      <td>NaN</td>\n",
       "      <td>1.946454</td>\n",
       "      <td>1.55844</td>\n",
       "      <td>2.0434</td>\n",
       "      <td>1.775169</td>\n",
       "      <td>1.929097</td>\n",
       "    </tr>\n",
       "    <tr>\n",
       "      <th>6570</th>\n",
       "      <td>07/11/2022 21:23:55</td>\n",
       "      <td>L-D: 24H</td>\n",
       "      <td>28500</td>\n",
       "      <td>Arganda del Rey</td>\n",
       "      <td>MADRID</td>\n",
       "      <td>ARGANDA</td>\n",
       "      <td>CAMINO SAN MARTIN DE LA VEGA, 8</td>\n",
       "      <td>BALLENOIL</td>\n",
       "      <td>1.899</td>\n",
       "      <td>NaN</td>\n",
       "      <td>NaN</td>\n",
       "      <td>1.669</td>\n",
       "      <td>NaN</td>\n",
       "      <td>1.946454</td>\n",
       "      <td>1.55844</td>\n",
       "      <td>2.0434</td>\n",
       "      <td>1.775169</td>\n",
       "      <td>1.929097</td>\n",
       "    </tr>\n",
       "    <tr>\n",
       "      <th>6571</th>\n",
       "      <td>07/11/2022 21:23:55</td>\n",
       "      <td>L-D: 24H</td>\n",
       "      <td>28500</td>\n",
       "      <td>Arganda del Rey</td>\n",
       "      <td>MADRID</td>\n",
       "      <td>ARGANDA</td>\n",
       "      <td>AVENIDA MADRID (DE), SN</td>\n",
       "      <td>PETROPRIX</td>\n",
       "      <td>1.899</td>\n",
       "      <td>NaN</td>\n",
       "      <td>NaN</td>\n",
       "      <td>1.649</td>\n",
       "      <td>NaN</td>\n",
       "      <td>1.946454</td>\n",
       "      <td>1.55844</td>\n",
       "      <td>2.0434</td>\n",
       "      <td>1.775169</td>\n",
       "      <td>1.929097</td>\n",
       "    </tr>\n",
       "  </tbody>\n",
       "</table>\n",
       "</div>"
      ],
      "text/plain": [
       "                    Fecha                             Horario   C.P.  \\\n",
       "6560  07/11/2022 21:23:55  L-V: 06:00-22:00; S-D: 08:00-22:00  28500   \n",
       "6561  07/11/2022 21:23:55                    L-D: 06:00-00:00  28500   \n",
       "6562  07/11/2022 21:23:55                    L-D: 06:00-22:00  28500   \n",
       "6563  07/11/2022 21:23:55                            L-D: 24H  28500   \n",
       "6564  07/11/2022 21:23:55                            L-D: 24H  28500   \n",
       "6565  07/11/2022 21:23:55                            L-D: 24H  28500   \n",
       "6566  07/11/2022 21:23:55                            L-D: 24H  28500   \n",
       "6567  07/11/2022 21:23:55                    L-D: 07:00-22:00  28500   \n",
       "6568  07/11/2022 21:23:55                            L-D: 24H  28500   \n",
       "6569  07/11/2022 21:23:55                              L: 24H  28500   \n",
       "6570  07/11/2022 21:23:55                            L-D: 24H  28500   \n",
       "6571  07/11/2022 21:23:55                            L-D: 24H  28500   \n",
       "\n",
       "            Municipio Provincia Localidad  \\\n",
       "6560  Arganda del Rey    MADRID   ARGANDA   \n",
       "6561  Arganda del Rey    MADRID   ARGANDA   \n",
       "6562  Arganda del Rey    MADRID   ARGANDA   \n",
       "6563  Arganda del Rey    MADRID   ARGANDA   \n",
       "6564  Arganda del Rey    MADRID   ARGANDA   \n",
       "6565  Arganda del Rey    MADRID   ARGANDA   \n",
       "6566  Arganda del Rey    MADRID   ARGANDA   \n",
       "6567  Arganda del Rey    MADRID   ARGANDA   \n",
       "6568  Arganda del Rey    MADRID   ARGANDA   \n",
       "6569  Arganda del Rey    MADRID   ARGANDA   \n",
       "6570  Arganda del Rey    MADRID   ARGANDA   \n",
       "6571  Arganda del Rey    MADRID   ARGANDA   \n",
       "\n",
       "                                              Dirección Proveedor de Servicio  \\\n",
       "6560                                AVDA DE MADRID, 103                REPSOL   \n",
       "6561                             AVENIDA DE MADRID, 126               ATENOIL   \n",
       "6562                              AVENIDA DE MADRID, 37       BP LA ARGANDEÑA   \n",
       "6563                         AVENIDA EJERCITO (DEL), 44            BP ARGANDA   \n",
       "6564                              CARRETERA M-832 KM. 3                REPSOL   \n",
       "6565                            AVENIDA VALDEARGANDA, 8                 CEPSA   \n",
       "6566  CAMINO CAMINO DE SAN MARTÍN DE LA VEGA A ARGAN...             BALLENOIL   \n",
       "6567                         AVENIDA FINANZAUTO (DE), 2              DELFIOIL   \n",
       "6568                            AVENIDA MADRID (DE), 66               PLENOIL   \n",
       "6569                              CARRETERA M-832 KM. 3                REPSOL   \n",
       "6570                    CAMINO SAN MARTIN DE LA VEGA, 8             BALLENOIL   \n",
       "6571                            AVENIDA MADRID (DE), SN             PETROPRIX   \n",
       "\n",
       "      Gasoleo A  Gasoleo B  Gasoleo Premium  Gasolina 95 E5  Gasolina 98 E5  \\\n",
       "6560      2.029      1.669            2.039           1.819             NaN   \n",
       "6561      1.939        NaN            1.949           1.699             NaN   \n",
       "6562      2.049        NaN            2.139           1.839           1.981   \n",
       "6563      2.049        NaN            2.139           1.839           1.981   \n",
       "6564      2.052        NaN            2.122           1.802             NaN   \n",
       "6565      2.035        NaN            2.135           1.834           1.966   \n",
       "6566      1.899        NaN              NaN           1.669             NaN   \n",
       "6567      1.899        NaN              NaN           1.669             NaN   \n",
       "6568      1.899        NaN              NaN           1.649             NaN   \n",
       "6569      2.052        NaN              NaN           1.802             NaN   \n",
       "6570      1.899        NaN              NaN           1.669             NaN   \n",
       "6571      1.899        NaN              NaN           1.649             NaN   \n",
       "\n",
       "      Media_Gasoleo A  Media_Gasoleo B  Media_Gasoleo Prem  Media_Gasolina 95  \\\n",
       "6560         1.946454          1.55844              2.0434           1.775169   \n",
       "6561         1.946454          1.55844              2.0434           1.775169   \n",
       "6562         1.946454          1.55844              2.0434           1.775169   \n",
       "6563         1.946454          1.55844              2.0434           1.775169   \n",
       "6564         1.946454          1.55844              2.0434           1.775169   \n",
       "6565         1.946454          1.55844              2.0434           1.775169   \n",
       "6566         1.946454          1.55844              2.0434           1.775169   \n",
       "6567         1.946454          1.55844              2.0434           1.775169   \n",
       "6568         1.946454          1.55844              2.0434           1.775169   \n",
       "6569         1.946454          1.55844              2.0434           1.775169   \n",
       "6570         1.946454          1.55844              2.0434           1.775169   \n",
       "6571         1.946454          1.55844              2.0434           1.775169   \n",
       "\n",
       "      Media_Gasolina 98  \n",
       "6560           1.929097  \n",
       "6561           1.929097  \n",
       "6562           1.929097  \n",
       "6563           1.929097  \n",
       "6564           1.929097  \n",
       "6565           1.929097  \n",
       "6566           1.929097  \n",
       "6567           1.929097  \n",
       "6568           1.929097  \n",
       "6569           1.929097  \n",
       "6570           1.929097  \n",
       "6571           1.929097  "
      ]
     },
     "execution_count": 132,
     "metadata": {},
     "output_type": "execute_result"
    }
   ],
   "source": [
    "df_n[df_n['C.P.'] == \"28500\"]"
   ]
  },
  {
   "cell_type": "code",
   "execution_count": 133,
   "id": "2b4ed723",
   "metadata": {},
   "outputs": [
    {
     "data": {
      "text/html": [
       "<div>\n",
       "<style scoped>\n",
       "    .dataframe tbody tr th:only-of-type {\n",
       "        vertical-align: middle;\n",
       "    }\n",
       "\n",
       "    .dataframe tbody tr th {\n",
       "        vertical-align: top;\n",
       "    }\n",
       "\n",
       "    .dataframe thead th {\n",
       "        text-align: right;\n",
       "    }\n",
       "</style>\n",
       "<table border=\"1\" class=\"dataframe\">\n",
       "  <thead>\n",
       "    <tr style=\"text-align: right;\">\n",
       "      <th></th>\n",
       "      <th>Fecha</th>\n",
       "      <th>Horario</th>\n",
       "      <th>C.P.</th>\n",
       "      <th>Municipio</th>\n",
       "      <th>Provincia</th>\n",
       "      <th>Localidad</th>\n",
       "      <th>Dirección</th>\n",
       "      <th>Proveedor de Servicio</th>\n",
       "      <th>Gasoleo A</th>\n",
       "      <th>Gasoleo B</th>\n",
       "      <th>Gasoleo Premium</th>\n",
       "      <th>Gasolina 95 E5</th>\n",
       "      <th>Gasolina 98 E5</th>\n",
       "      <th>Media_Gasoleo A</th>\n",
       "      <th>Media_Gasoleo B</th>\n",
       "      <th>Media_Gasoleo Prem</th>\n",
       "      <th>Media_Gasolina 95</th>\n",
       "      <th>Media_Gasolina 98</th>\n",
       "    </tr>\n",
       "  </thead>\n",
       "  <tbody>\n",
       "    <tr>\n",
       "      <th>6560</th>\n",
       "      <td>07/11/2022 21:23:55</td>\n",
       "      <td>L-V: 06:00-22:00; S-D: 08:00-22:00</td>\n",
       "      <td>28500</td>\n",
       "      <td>Arganda del Rey</td>\n",
       "      <td>MADRID</td>\n",
       "      <td>ARGANDA</td>\n",
       "      <td>AVDA DE MADRID, 103</td>\n",
       "      <td>REPSOL</td>\n",
       "      <td>2.029</td>\n",
       "      <td>1.669</td>\n",
       "      <td>2.039</td>\n",
       "      <td>1.819</td>\n",
       "      <td>NaN</td>\n",
       "      <td>1.946454</td>\n",
       "      <td>1.55844</td>\n",
       "      <td>2.0434</td>\n",
       "      <td>1.775169</td>\n",
       "      <td>1.929097</td>\n",
       "    </tr>\n",
       "    <tr>\n",
       "      <th>6561</th>\n",
       "      <td>07/11/2022 21:23:55</td>\n",
       "      <td>L-D: 06:00-00:00</td>\n",
       "      <td>28500</td>\n",
       "      <td>Arganda del Rey</td>\n",
       "      <td>MADRID</td>\n",
       "      <td>ARGANDA</td>\n",
       "      <td>AVENIDA DE MADRID, 126</td>\n",
       "      <td>ATENOIL</td>\n",
       "      <td>1.939</td>\n",
       "      <td>NaN</td>\n",
       "      <td>1.949</td>\n",
       "      <td>1.699</td>\n",
       "      <td>NaN</td>\n",
       "      <td>1.946454</td>\n",
       "      <td>1.55844</td>\n",
       "      <td>2.0434</td>\n",
       "      <td>1.775169</td>\n",
       "      <td>1.929097</td>\n",
       "    </tr>\n",
       "    <tr>\n",
       "      <th>6562</th>\n",
       "      <td>07/11/2022 21:23:55</td>\n",
       "      <td>L-D: 06:00-22:00</td>\n",
       "      <td>28500</td>\n",
       "      <td>Arganda del Rey</td>\n",
       "      <td>MADRID</td>\n",
       "      <td>ARGANDA</td>\n",
       "      <td>AVENIDA DE MADRID, 37</td>\n",
       "      <td>BP LA ARGANDEÑA</td>\n",
       "      <td>2.049</td>\n",
       "      <td>NaN</td>\n",
       "      <td>2.139</td>\n",
       "      <td>1.839</td>\n",
       "      <td>1.981</td>\n",
       "      <td>1.946454</td>\n",
       "      <td>1.55844</td>\n",
       "      <td>2.0434</td>\n",
       "      <td>1.775169</td>\n",
       "      <td>1.929097</td>\n",
       "    </tr>\n",
       "    <tr>\n",
       "      <th>6563</th>\n",
       "      <td>07/11/2022 21:23:55</td>\n",
       "      <td>L-D: 24H</td>\n",
       "      <td>28500</td>\n",
       "      <td>Arganda del Rey</td>\n",
       "      <td>MADRID</td>\n",
       "      <td>ARGANDA</td>\n",
       "      <td>AVENIDA EJERCITO (DEL), 44</td>\n",
       "      <td>BP ARGANDA</td>\n",
       "      <td>2.049</td>\n",
       "      <td>NaN</td>\n",
       "      <td>2.139</td>\n",
       "      <td>1.839</td>\n",
       "      <td>1.981</td>\n",
       "      <td>1.946454</td>\n",
       "      <td>1.55844</td>\n",
       "      <td>2.0434</td>\n",
       "      <td>1.775169</td>\n",
       "      <td>1.929097</td>\n",
       "    </tr>\n",
       "    <tr>\n",
       "      <th>6564</th>\n",
       "      <td>07/11/2022 21:23:55</td>\n",
       "      <td>L-D: 24H</td>\n",
       "      <td>28500</td>\n",
       "      <td>Arganda del Rey</td>\n",
       "      <td>MADRID</td>\n",
       "      <td>ARGANDA</td>\n",
       "      <td>CARRETERA M-832 KM. 3</td>\n",
       "      <td>REPSOL</td>\n",
       "      <td>2.052</td>\n",
       "      <td>NaN</td>\n",
       "      <td>2.122</td>\n",
       "      <td>1.802</td>\n",
       "      <td>NaN</td>\n",
       "      <td>1.946454</td>\n",
       "      <td>1.55844</td>\n",
       "      <td>2.0434</td>\n",
       "      <td>1.775169</td>\n",
       "      <td>1.929097</td>\n",
       "    </tr>\n",
       "    <tr>\n",
       "      <th>6565</th>\n",
       "      <td>07/11/2022 21:23:55</td>\n",
       "      <td>L-D: 24H</td>\n",
       "      <td>28500</td>\n",
       "      <td>Arganda del Rey</td>\n",
       "      <td>MADRID</td>\n",
       "      <td>ARGANDA</td>\n",
       "      <td>AVENIDA VALDEARGANDA, 8</td>\n",
       "      <td>CEPSA</td>\n",
       "      <td>2.035</td>\n",
       "      <td>NaN</td>\n",
       "      <td>2.135</td>\n",
       "      <td>1.834</td>\n",
       "      <td>1.966</td>\n",
       "      <td>1.946454</td>\n",
       "      <td>1.55844</td>\n",
       "      <td>2.0434</td>\n",
       "      <td>1.775169</td>\n",
       "      <td>1.929097</td>\n",
       "    </tr>\n",
       "    <tr>\n",
       "      <th>6566</th>\n",
       "      <td>07/11/2022 21:23:55</td>\n",
       "      <td>L-D: 24H</td>\n",
       "      <td>28500</td>\n",
       "      <td>Arganda del Rey</td>\n",
       "      <td>MADRID</td>\n",
       "      <td>ARGANDA</td>\n",
       "      <td>CAMINO CAMINO DE SAN MARTÍN DE LA VEGA A ARGAN...</td>\n",
       "      <td>BALLENOIL</td>\n",
       "      <td>1.899</td>\n",
       "      <td>NaN</td>\n",
       "      <td>NaN</td>\n",
       "      <td>1.669</td>\n",
       "      <td>NaN</td>\n",
       "      <td>1.946454</td>\n",
       "      <td>1.55844</td>\n",
       "      <td>2.0434</td>\n",
       "      <td>1.775169</td>\n",
       "      <td>1.929097</td>\n",
       "    </tr>\n",
       "    <tr>\n",
       "      <th>6567</th>\n",
       "      <td>07/11/2022 21:23:55</td>\n",
       "      <td>L-D: 07:00-22:00</td>\n",
       "      <td>28500</td>\n",
       "      <td>Arganda del Rey</td>\n",
       "      <td>MADRID</td>\n",
       "      <td>ARGANDA</td>\n",
       "      <td>AVENIDA FINANZAUTO (DE), 2</td>\n",
       "      <td>DELFIOIL</td>\n",
       "      <td>1.899</td>\n",
       "      <td>NaN</td>\n",
       "      <td>NaN</td>\n",
       "      <td>1.669</td>\n",
       "      <td>NaN</td>\n",
       "      <td>1.946454</td>\n",
       "      <td>1.55844</td>\n",
       "      <td>2.0434</td>\n",
       "      <td>1.775169</td>\n",
       "      <td>1.929097</td>\n",
       "    </tr>\n",
       "    <tr>\n",
       "      <th>6568</th>\n",
       "      <td>07/11/2022 21:23:55</td>\n",
       "      <td>L-D: 24H</td>\n",
       "      <td>28500</td>\n",
       "      <td>Arganda del Rey</td>\n",
       "      <td>MADRID</td>\n",
       "      <td>ARGANDA</td>\n",
       "      <td>AVENIDA MADRID (DE), 66</td>\n",
       "      <td>PLENOIL</td>\n",
       "      <td>1.899</td>\n",
       "      <td>NaN</td>\n",
       "      <td>NaN</td>\n",
       "      <td>1.649</td>\n",
       "      <td>NaN</td>\n",
       "      <td>1.946454</td>\n",
       "      <td>1.55844</td>\n",
       "      <td>2.0434</td>\n",
       "      <td>1.775169</td>\n",
       "      <td>1.929097</td>\n",
       "    </tr>\n",
       "    <tr>\n",
       "      <th>6569</th>\n",
       "      <td>07/11/2022 21:23:55</td>\n",
       "      <td>L: 24H</td>\n",
       "      <td>28500</td>\n",
       "      <td>Arganda del Rey</td>\n",
       "      <td>MADRID</td>\n",
       "      <td>ARGANDA</td>\n",
       "      <td>CARRETERA M-832 KM. 3</td>\n",
       "      <td>REPSOL</td>\n",
       "      <td>2.052</td>\n",
       "      <td>NaN</td>\n",
       "      <td>NaN</td>\n",
       "      <td>1.802</td>\n",
       "      <td>NaN</td>\n",
       "      <td>1.946454</td>\n",
       "      <td>1.55844</td>\n",
       "      <td>2.0434</td>\n",
       "      <td>1.775169</td>\n",
       "      <td>1.929097</td>\n",
       "    </tr>\n",
       "    <tr>\n",
       "      <th>6570</th>\n",
       "      <td>07/11/2022 21:23:55</td>\n",
       "      <td>L-D: 24H</td>\n",
       "      <td>28500</td>\n",
       "      <td>Arganda del Rey</td>\n",
       "      <td>MADRID</td>\n",
       "      <td>ARGANDA</td>\n",
       "      <td>CAMINO SAN MARTIN DE LA VEGA, 8</td>\n",
       "      <td>BALLENOIL</td>\n",
       "      <td>1.899</td>\n",
       "      <td>NaN</td>\n",
       "      <td>NaN</td>\n",
       "      <td>1.669</td>\n",
       "      <td>NaN</td>\n",
       "      <td>1.946454</td>\n",
       "      <td>1.55844</td>\n",
       "      <td>2.0434</td>\n",
       "      <td>1.775169</td>\n",
       "      <td>1.929097</td>\n",
       "    </tr>\n",
       "    <tr>\n",
       "      <th>6571</th>\n",
       "      <td>07/11/2022 21:23:55</td>\n",
       "      <td>L-D: 24H</td>\n",
       "      <td>28500</td>\n",
       "      <td>Arganda del Rey</td>\n",
       "      <td>MADRID</td>\n",
       "      <td>ARGANDA</td>\n",
       "      <td>AVENIDA MADRID (DE), SN</td>\n",
       "      <td>PETROPRIX</td>\n",
       "      <td>1.899</td>\n",
       "      <td>NaN</td>\n",
       "      <td>NaN</td>\n",
       "      <td>1.649</td>\n",
       "      <td>NaN</td>\n",
       "      <td>1.946454</td>\n",
       "      <td>1.55844</td>\n",
       "      <td>2.0434</td>\n",
       "      <td>1.775169</td>\n",
       "      <td>1.929097</td>\n",
       "    </tr>\n",
       "  </tbody>\n",
       "</table>\n",
       "</div>"
      ],
      "text/plain": [
       "                    Fecha                             Horario   C.P.  \\\n",
       "6560  07/11/2022 21:23:55  L-V: 06:00-22:00; S-D: 08:00-22:00  28500   \n",
       "6561  07/11/2022 21:23:55                    L-D: 06:00-00:00  28500   \n",
       "6562  07/11/2022 21:23:55                    L-D: 06:00-22:00  28500   \n",
       "6563  07/11/2022 21:23:55                            L-D: 24H  28500   \n",
       "6564  07/11/2022 21:23:55                            L-D: 24H  28500   \n",
       "6565  07/11/2022 21:23:55                            L-D: 24H  28500   \n",
       "6566  07/11/2022 21:23:55                            L-D: 24H  28500   \n",
       "6567  07/11/2022 21:23:55                    L-D: 07:00-22:00  28500   \n",
       "6568  07/11/2022 21:23:55                            L-D: 24H  28500   \n",
       "6569  07/11/2022 21:23:55                              L: 24H  28500   \n",
       "6570  07/11/2022 21:23:55                            L-D: 24H  28500   \n",
       "6571  07/11/2022 21:23:55                            L-D: 24H  28500   \n",
       "\n",
       "            Municipio Provincia Localidad  \\\n",
       "6560  Arganda del Rey    MADRID   ARGANDA   \n",
       "6561  Arganda del Rey    MADRID   ARGANDA   \n",
       "6562  Arganda del Rey    MADRID   ARGANDA   \n",
       "6563  Arganda del Rey    MADRID   ARGANDA   \n",
       "6564  Arganda del Rey    MADRID   ARGANDA   \n",
       "6565  Arganda del Rey    MADRID   ARGANDA   \n",
       "6566  Arganda del Rey    MADRID   ARGANDA   \n",
       "6567  Arganda del Rey    MADRID   ARGANDA   \n",
       "6568  Arganda del Rey    MADRID   ARGANDA   \n",
       "6569  Arganda del Rey    MADRID   ARGANDA   \n",
       "6570  Arganda del Rey    MADRID   ARGANDA   \n",
       "6571  Arganda del Rey    MADRID   ARGANDA   \n",
       "\n",
       "                                              Dirección Proveedor de Servicio  \\\n",
       "6560                                AVDA DE MADRID, 103                REPSOL   \n",
       "6561                             AVENIDA DE MADRID, 126               ATENOIL   \n",
       "6562                              AVENIDA DE MADRID, 37       BP LA ARGANDEÑA   \n",
       "6563                         AVENIDA EJERCITO (DEL), 44            BP ARGANDA   \n",
       "6564                              CARRETERA M-832 KM. 3                REPSOL   \n",
       "6565                            AVENIDA VALDEARGANDA, 8                 CEPSA   \n",
       "6566  CAMINO CAMINO DE SAN MARTÍN DE LA VEGA A ARGAN...             BALLENOIL   \n",
       "6567                         AVENIDA FINANZAUTO (DE), 2              DELFIOIL   \n",
       "6568                            AVENIDA MADRID (DE), 66               PLENOIL   \n",
       "6569                              CARRETERA M-832 KM. 3                REPSOL   \n",
       "6570                    CAMINO SAN MARTIN DE LA VEGA, 8             BALLENOIL   \n",
       "6571                            AVENIDA MADRID (DE), SN             PETROPRIX   \n",
       "\n",
       "      Gasoleo A  Gasoleo B  Gasoleo Premium  Gasolina 95 E5  Gasolina 98 E5  \\\n",
       "6560      2.029      1.669            2.039           1.819             NaN   \n",
       "6561      1.939        NaN            1.949           1.699             NaN   \n",
       "6562      2.049        NaN            2.139           1.839           1.981   \n",
       "6563      2.049        NaN            2.139           1.839           1.981   \n",
       "6564      2.052        NaN            2.122           1.802             NaN   \n",
       "6565      2.035        NaN            2.135           1.834           1.966   \n",
       "6566      1.899        NaN              NaN           1.669             NaN   \n",
       "6567      1.899        NaN              NaN           1.669             NaN   \n",
       "6568      1.899        NaN              NaN           1.649             NaN   \n",
       "6569      2.052        NaN              NaN           1.802             NaN   \n",
       "6570      1.899        NaN              NaN           1.669             NaN   \n",
       "6571      1.899        NaN              NaN           1.649             NaN   \n",
       "\n",
       "      Media_Gasoleo A  Media_Gasoleo B  Media_Gasoleo Prem  Media_Gasolina 95  \\\n",
       "6560         1.946454          1.55844              2.0434           1.775169   \n",
       "6561         1.946454          1.55844              2.0434           1.775169   \n",
       "6562         1.946454          1.55844              2.0434           1.775169   \n",
       "6563         1.946454          1.55844              2.0434           1.775169   \n",
       "6564         1.946454          1.55844              2.0434           1.775169   \n",
       "6565         1.946454          1.55844              2.0434           1.775169   \n",
       "6566         1.946454          1.55844              2.0434           1.775169   \n",
       "6567         1.946454          1.55844              2.0434           1.775169   \n",
       "6568         1.946454          1.55844              2.0434           1.775169   \n",
       "6569         1.946454          1.55844              2.0434           1.775169   \n",
       "6570         1.946454          1.55844              2.0434           1.775169   \n",
       "6571         1.946454          1.55844              2.0434           1.775169   \n",
       "\n",
       "      Media_Gasolina 98  \n",
       "6560           1.929097  \n",
       "6561           1.929097  \n",
       "6562           1.929097  \n",
       "6563           1.929097  \n",
       "6564           1.929097  \n",
       "6565           1.929097  \n",
       "6566           1.929097  \n",
       "6567           1.929097  \n",
       "6568           1.929097  \n",
       "6569           1.929097  \n",
       "6570           1.929097  \n",
       "6571           1.929097  "
      ]
     },
     "execution_count": 133,
     "metadata": {},
     "output_type": "execute_result"
    }
   ],
   "source": [
    "# Comprobación\n",
    "x1 = df_n[\"C.P.\"]=='28500'\n",
    "x2 = df_n[x1]\n",
    "x2"
   ]
  },
  {
   "cell_type": "code",
   "execution_count": 134,
   "id": "76cc76f7",
   "metadata": {},
   "outputs": [],
   "source": [
    "# Precio mínimo de combstible en una Provincia  \n",
    "def provincia_minimo(x, y):\n",
    "# x = Provincia\n",
    "# y = tipo de combustible     \n",
    "    provincia = df_n[df_n[\"Provincia\"] == x]\n",
    "    minimo_prov = provincia.loc[provincia[[y]].idxmin()]\n",
    "    return minimo_prov"
   ]
  },
  {
   "cell_type": "code",
   "execution_count": 135,
   "id": "9e76f0ba",
   "metadata": {},
   "outputs": [
    {
     "data": {
      "text/html": [
       "<div>\n",
       "<style scoped>\n",
       "    .dataframe tbody tr th:only-of-type {\n",
       "        vertical-align: middle;\n",
       "    }\n",
       "\n",
       "    .dataframe tbody tr th {\n",
       "        vertical-align: top;\n",
       "    }\n",
       "\n",
       "    .dataframe thead th {\n",
       "        text-align: right;\n",
       "    }\n",
       "</style>\n",
       "<table border=\"1\" class=\"dataframe\">\n",
       "  <thead>\n",
       "    <tr style=\"text-align: right;\">\n",
       "      <th></th>\n",
       "      <th>Fecha</th>\n",
       "      <th>Horario</th>\n",
       "      <th>C.P.</th>\n",
       "      <th>Municipio</th>\n",
       "      <th>Provincia</th>\n",
       "      <th>Localidad</th>\n",
       "      <th>Dirección</th>\n",
       "      <th>Proveedor de Servicio</th>\n",
       "      <th>Gasoleo A</th>\n",
       "      <th>Gasoleo B</th>\n",
       "      <th>Gasoleo Premium</th>\n",
       "      <th>Gasolina 95 E5</th>\n",
       "      <th>Gasolina 98 E5</th>\n",
       "      <th>Media_Gasoleo A</th>\n",
       "      <th>Media_Gasoleo B</th>\n",
       "      <th>Media_Gasoleo Prem</th>\n",
       "      <th>Media_Gasolina 95</th>\n",
       "      <th>Media_Gasolina 98</th>\n",
       "    </tr>\n",
       "  </thead>\n",
       "  <tbody>\n",
       "    <tr>\n",
       "      <th>6660</th>\n",
       "      <td>07/11/2022 21:23:55</td>\n",
       "      <td>L-D: 24H</td>\n",
       "      <td>28944</td>\n",
       "      <td>Fuenlabrada</td>\n",
       "      <td>MADRID</td>\n",
       "      <td>FUENLABRADA</td>\n",
       "      <td>CALLE ANETO, 1</td>\n",
       "      <td>BALLENOIL</td>\n",
       "      <td>1.765</td>\n",
       "      <td>NaN</td>\n",
       "      <td>NaN</td>\n",
       "      <td>1.565</td>\n",
       "      <td>NaN</td>\n",
       "      <td>1.946454</td>\n",
       "      <td>1.55844</td>\n",
       "      <td>2.0434</td>\n",
       "      <td>1.775169</td>\n",
       "      <td>1.929097</td>\n",
       "    </tr>\n",
       "  </tbody>\n",
       "</table>\n",
       "</div>"
      ],
      "text/plain": [
       "                    Fecha   Horario   C.P.    Municipio Provincia  \\\n",
       "6660  07/11/2022 21:23:55  L-D: 24H  28944  Fuenlabrada    MADRID   \n",
       "\n",
       "        Localidad       Dirección Proveedor de Servicio  Gasoleo A  Gasoleo B  \\\n",
       "6660  FUENLABRADA  CALLE ANETO, 1             BALLENOIL      1.765        NaN   \n",
       "\n",
       "      Gasoleo Premium  Gasolina 95 E5  Gasolina 98 E5  Media_Gasoleo A  \\\n",
       "6660              NaN           1.565             NaN         1.946454   \n",
       "\n",
       "      Media_Gasoleo B  Media_Gasoleo Prem  Media_Gasolina 95  \\\n",
       "6660          1.55844              2.0434           1.775169   \n",
       "\n",
       "      Media_Gasolina 98  \n",
       "6660           1.929097  "
      ]
     },
     "execution_count": 135,
     "metadata": {},
     "output_type": "execute_result"
    }
   ],
   "source": [
    "provincia_minimo('MADRID', 'Gasoleo A')"
   ]
  },
  {
   "cell_type": "code",
   "execution_count": 136,
   "id": "94daf5b4",
   "metadata": {},
   "outputs": [],
   "source": [
    "# Precio mínimo de combstible en un Municipio  \n",
    "def municipio_minimo(x, y):\n",
    "# x = Municipio\n",
    "# y = Tipo de Combustible    \n",
    "    municipio = df_n[df_n[\"Municipio\"] == x]\n",
    "    municipio_min = municipio.loc[municipio[[y]].idxmin()]\n",
    "    return municipio"
   ]
  },
  {
   "cell_type": "code",
   "execution_count": 137,
   "id": "870d8abe",
   "metadata": {},
   "outputs": [
    {
     "data": {
      "text/html": [
       "<div>\n",
       "<style scoped>\n",
       "    .dataframe tbody tr th:only-of-type {\n",
       "        vertical-align: middle;\n",
       "    }\n",
       "\n",
       "    .dataframe tbody tr th {\n",
       "        vertical-align: top;\n",
       "    }\n",
       "\n",
       "    .dataframe thead th {\n",
       "        text-align: right;\n",
       "    }\n",
       "</style>\n",
       "<table border=\"1\" class=\"dataframe\">\n",
       "  <thead>\n",
       "    <tr style=\"text-align: right;\">\n",
       "      <th></th>\n",
       "      <th>Fecha</th>\n",
       "      <th>Horario</th>\n",
       "      <th>C.P.</th>\n",
       "      <th>Municipio</th>\n",
       "      <th>Provincia</th>\n",
       "      <th>Localidad</th>\n",
       "      <th>Dirección</th>\n",
       "      <th>Proveedor de Servicio</th>\n",
       "      <th>Gasoleo A</th>\n",
       "      <th>Gasoleo B</th>\n",
       "      <th>Gasoleo Premium</th>\n",
       "      <th>Gasolina 95 E5</th>\n",
       "      <th>Gasolina 98 E5</th>\n",
       "      <th>Media_Gasoleo A</th>\n",
       "      <th>Media_Gasoleo B</th>\n",
       "      <th>Media_Gasoleo Prem</th>\n",
       "      <th>Media_Gasolina 95</th>\n",
       "      <th>Media_Gasolina 98</th>\n",
       "    </tr>\n",
       "  </thead>\n",
       "  <tbody>\n",
       "    <tr>\n",
       "      <th>6592</th>\n",
       "      <td>07/11/2022 21:23:55</td>\n",
       "      <td>L-S: 7:30-20:30; D: 8:30-20:00</td>\n",
       "      <td>28470</td>\n",
       "      <td>Cercedilla</td>\n",
       "      <td>MADRID</td>\n",
       "      <td>CERCEDILLA</td>\n",
       "      <td>CARRETERA M 622 (CARRETERA GUADARRAMA A LA FUE...</td>\n",
       "      <td>REPSOL</td>\n",
       "      <td>1.999</td>\n",
       "      <td>NaN</td>\n",
       "      <td>NaN</td>\n",
       "      <td>1.789</td>\n",
       "      <td>NaN</td>\n",
       "      <td>1.946454</td>\n",
       "      <td>1.55844</td>\n",
       "      <td>2.0434</td>\n",
       "      <td>1.775169</td>\n",
       "      <td>1.929097</td>\n",
       "    </tr>\n",
       "  </tbody>\n",
       "</table>\n",
       "</div>"
      ],
      "text/plain": [
       "                    Fecha                         Horario   C.P.   Municipio  \\\n",
       "6592  07/11/2022 21:23:55  L-S: 7:30-20:30; D: 8:30-20:00  28470  Cercedilla   \n",
       "\n",
       "     Provincia   Localidad                                          Dirección  \\\n",
       "6592    MADRID  CERCEDILLA  CARRETERA M 622 (CARRETERA GUADARRAMA A LA FUE...   \n",
       "\n",
       "     Proveedor de Servicio  Gasoleo A  Gasoleo B  Gasoleo Premium  \\\n",
       "6592                REPSOL      1.999        NaN              NaN   \n",
       "\n",
       "      Gasolina 95 E5  Gasolina 98 E5  Media_Gasoleo A  Media_Gasoleo B  \\\n",
       "6592           1.789             NaN         1.946454          1.55844   \n",
       "\n",
       "      Media_Gasoleo Prem  Media_Gasolina 95  Media_Gasolina 98  \n",
       "6592              2.0434           1.775169           1.929097  "
      ]
     },
     "execution_count": 137,
     "metadata": {},
     "output_type": "execute_result"
    }
   ],
   "source": [
    "municipio_minimo('Cercedilla', 'Gasoleo A')"
   ]
  },
  {
   "cell_type": "code",
   "execution_count": 138,
   "id": "9f08be70",
   "metadata": {},
   "outputs": [],
   "source": [
    "# # Precio mínimo de combstible en un proveedor de estación de servicio  \n",
    "def gasolinera_minimo(x, y):\n",
    "# x = Proveedor de estación de servicio\n",
    "# Y = Tipo de Combustible    \n",
    "    proveedor = df_n[df_n[\"Proveedor de Servicio\"] == x]\n",
    "    minimo_prov = proveedor.loc[proveedor[[y]].idxmin()]\n",
    "    return minimo_prov"
   ]
  },
  {
   "cell_type": "code",
   "execution_count": 139,
   "id": "c3776eb1",
   "metadata": {},
   "outputs": [
    {
     "data": {
      "text/html": [
       "<div>\n",
       "<style scoped>\n",
       "    .dataframe tbody tr th:only-of-type {\n",
       "        vertical-align: middle;\n",
       "    }\n",
       "\n",
       "    .dataframe tbody tr th {\n",
       "        vertical-align: top;\n",
       "    }\n",
       "\n",
       "    .dataframe thead th {\n",
       "        text-align: right;\n",
       "    }\n",
       "</style>\n",
       "<table border=\"1\" class=\"dataframe\">\n",
       "  <thead>\n",
       "    <tr style=\"text-align: right;\">\n",
       "      <th></th>\n",
       "      <th>Fecha</th>\n",
       "      <th>Horario</th>\n",
       "      <th>C.P.</th>\n",
       "      <th>Municipio</th>\n",
       "      <th>Provincia</th>\n",
       "      <th>Localidad</th>\n",
       "      <th>Dirección</th>\n",
       "      <th>Proveedor de Servicio</th>\n",
       "      <th>Gasoleo A</th>\n",
       "      <th>Gasoleo B</th>\n",
       "      <th>Gasoleo Premium</th>\n",
       "      <th>Gasolina 95 E5</th>\n",
       "      <th>Gasolina 98 E5</th>\n",
       "      <th>Media_Gasoleo A</th>\n",
       "      <th>Media_Gasoleo B</th>\n",
       "      <th>Media_Gasoleo Prem</th>\n",
       "      <th>Media_Gasolina 95</th>\n",
       "      <th>Media_Gasolina 98</th>\n",
       "    </tr>\n",
       "  </thead>\n",
       "  <tbody>\n",
       "    <tr>\n",
       "      <th>9337</th>\n",
       "      <td>07/11/2022 21:23:55</td>\n",
       "      <td>L-S: 06:00-23:00; D: 07:00-23:00</td>\n",
       "      <td>38390</td>\n",
       "      <td>Santa Úrsula</td>\n",
       "      <td>SANTA CRUZ DE TENERIFE</td>\n",
       "      <td>SANTA URSULA</td>\n",
       "      <td>CARRETERA VIEJA KM. 213</td>\n",
       "      <td>REPSOL</td>\n",
       "      <td>1.459</td>\n",
       "      <td>NaN</td>\n",
       "      <td>NaN</td>\n",
       "      <td>1.399</td>\n",
       "      <td>1.489</td>\n",
       "      <td>1.946454</td>\n",
       "      <td>1.55844</td>\n",
       "      <td>2.0434</td>\n",
       "      <td>1.775169</td>\n",
       "      <td>1.929097</td>\n",
       "    </tr>\n",
       "  </tbody>\n",
       "</table>\n",
       "</div>"
      ],
      "text/plain": [
       "                    Fecha                           Horario   C.P.  \\\n",
       "9337  07/11/2022 21:23:55  L-S: 06:00-23:00; D: 07:00-23:00  38390   \n",
       "\n",
       "         Municipio               Provincia     Localidad  \\\n",
       "9337  Santa Úrsula  SANTA CRUZ DE TENERIFE  SANTA URSULA   \n",
       "\n",
       "                    Dirección Proveedor de Servicio  Gasoleo A  Gasoleo B  \\\n",
       "9337  CARRETERA VIEJA KM. 213                REPSOL      1.459        NaN   \n",
       "\n",
       "      Gasoleo Premium  Gasolina 95 E5  Gasolina 98 E5  Media_Gasoleo A  \\\n",
       "9337              NaN           1.399           1.489         1.946454   \n",
       "\n",
       "      Media_Gasoleo B  Media_Gasoleo Prem  Media_Gasolina 95  \\\n",
       "9337          1.55844              2.0434           1.775169   \n",
       "\n",
       "      Media_Gasolina 98  \n",
       "9337           1.929097  "
      ]
     },
     "execution_count": 139,
     "metadata": {},
     "output_type": "execute_result"
    }
   ],
   "source": [
    "gasolinera_minimo('REPSOL', 'Gasoleo A')"
   ]
  },
  {
   "cell_type": "code",
   "execution_count": 140,
   "id": "07fe3213",
   "metadata": {},
   "outputs": [],
   "source": [
    "# Función para convertir códigos postales\n",
    "def convert(x):\n",
    "# x: Municipio    \n",
    "    municipio = df_n[df_n[\"Municipio\"] == x]\n",
    "    cp = municipio[[\"C.P.\", \"Municipio\", \"Proveedor de Servicio\"]]\n",
    "    return cp\n",
    "    "
   ]
  },
  {
   "cell_type": "code",
   "execution_count": 141,
   "id": "ba996755",
   "metadata": {},
   "outputs": [
    {
     "data": {
      "text/html": [
       "<div>\n",
       "<style scoped>\n",
       "    .dataframe tbody tr th:only-of-type {\n",
       "        vertical-align: middle;\n",
       "    }\n",
       "\n",
       "    .dataframe tbody tr th {\n",
       "        vertical-align: top;\n",
       "    }\n",
       "\n",
       "    .dataframe thead th {\n",
       "        text-align: right;\n",
       "    }\n",
       "</style>\n",
       "<table border=\"1\" class=\"dataframe\">\n",
       "  <thead>\n",
       "    <tr style=\"text-align: right;\">\n",
       "      <th></th>\n",
       "      <th>C.P.</th>\n",
       "      <th>Municipio</th>\n",
       "      <th>Proveedor de Servicio</th>\n",
       "    </tr>\n",
       "  </thead>\n",
       "  <tbody>\n",
       "    <tr>\n",
       "      <th>7033</th>\n",
       "      <td>28931</td>\n",
       "      <td>Móstoles</td>\n",
       "      <td>REPSOL</td>\n",
       "    </tr>\n",
       "    <tr>\n",
       "      <th>7034</th>\n",
       "      <td>28934</td>\n",
       "      <td>Móstoles</td>\n",
       "      <td>LOS ROSALES</td>\n",
       "    </tr>\n",
       "    <tr>\n",
       "      <th>7035</th>\n",
       "      <td>28935</td>\n",
       "      <td>Móstoles</td>\n",
       "      <td>CARREFOUR</td>\n",
       "    </tr>\n",
       "    <tr>\n",
       "      <th>7036</th>\n",
       "      <td>28935</td>\n",
       "      <td>Móstoles</td>\n",
       "      <td>REPSOL</td>\n",
       "    </tr>\n",
       "    <tr>\n",
       "      <th>7037</th>\n",
       "      <td>28935</td>\n",
       "      <td>Móstoles</td>\n",
       "      <td>REPSOL</td>\n",
       "    </tr>\n",
       "    <tr>\n",
       "      <th>7038</th>\n",
       "      <td>28935</td>\n",
       "      <td>Móstoles</td>\n",
       "      <td>CEPSA</td>\n",
       "    </tr>\n",
       "    <tr>\n",
       "      <th>7039</th>\n",
       "      <td>28935</td>\n",
       "      <td>Móstoles</td>\n",
       "      <td>CEPSA</td>\n",
       "    </tr>\n",
       "    <tr>\n",
       "      <th>7040</th>\n",
       "      <td>28933</td>\n",
       "      <td>Móstoles</td>\n",
       "      <td>BALLENOIL</td>\n",
       "    </tr>\n",
       "    <tr>\n",
       "      <th>7041</th>\n",
       "      <td>28935</td>\n",
       "      <td>Móstoles</td>\n",
       "      <td>OLANCA</td>\n",
       "    </tr>\n",
       "    <tr>\n",
       "      <th>7042</th>\n",
       "      <td>28937</td>\n",
       "      <td>Móstoles</td>\n",
       "      <td>REPSOL</td>\n",
       "    </tr>\n",
       "    <tr>\n",
       "      <th>7043</th>\n",
       "      <td>28937</td>\n",
       "      <td>Móstoles</td>\n",
       "      <td>GALP</td>\n",
       "    </tr>\n",
       "    <tr>\n",
       "      <th>7044</th>\n",
       "      <td>28936</td>\n",
       "      <td>Móstoles</td>\n",
       "      <td>E.S. TERUGAS</td>\n",
       "    </tr>\n",
       "    <tr>\n",
       "      <th>7045</th>\n",
       "      <td>28936</td>\n",
       "      <td>Móstoles</td>\n",
       "      <td>PETROL MÓSTOLES</td>\n",
       "    </tr>\n",
       "    <tr>\n",
       "      <th>7046</th>\n",
       "      <td>28936</td>\n",
       "      <td>Móstoles</td>\n",
       "      <td>LAVAPLUS</td>\n",
       "    </tr>\n",
       "    <tr>\n",
       "      <th>7047</th>\n",
       "      <td>28938</td>\n",
       "      <td>Móstoles</td>\n",
       "      <td>GALP</td>\n",
       "    </tr>\n",
       "    <tr>\n",
       "      <th>7048</th>\n",
       "      <td>28938</td>\n",
       "      <td>Móstoles</td>\n",
       "      <td>BALLENOIL</td>\n",
       "    </tr>\n",
       "    <tr>\n",
       "      <th>7049</th>\n",
       "      <td>28938</td>\n",
       "      <td>Móstoles</td>\n",
       "      <td>BP</td>\n",
       "    </tr>\n",
       "    <tr>\n",
       "      <th>7050</th>\n",
       "      <td>28938</td>\n",
       "      <td>Móstoles</td>\n",
       "      <td>CEPSA</td>\n",
       "    </tr>\n",
       "  </tbody>\n",
       "</table>\n",
       "</div>"
      ],
      "text/plain": [
       "       C.P. Municipio Proveedor de Servicio\n",
       "7033  28931  Móstoles                REPSOL\n",
       "7034  28934  Móstoles           LOS ROSALES\n",
       "7035  28935  Móstoles             CARREFOUR\n",
       "7036  28935  Móstoles                REPSOL\n",
       "7037  28935  Móstoles                REPSOL\n",
       "7038  28935  Móstoles                 CEPSA\n",
       "7039  28935  Móstoles                 CEPSA\n",
       "7040  28933  Móstoles             BALLENOIL\n",
       "7041  28935  Móstoles                OLANCA\n",
       "7042  28937  Móstoles                REPSOL\n",
       "7043  28937  Móstoles                  GALP\n",
       "7044  28936  Móstoles          E.S. TERUGAS\n",
       "7045  28936  Móstoles       PETROL MÓSTOLES\n",
       "7046  28936  Móstoles              LAVAPLUS\n",
       "7047  28938  Móstoles                  GALP\n",
       "7048  28938  Móstoles             BALLENOIL\n",
       "7049  28938  Móstoles                    BP\n",
       "7050  28938  Móstoles                 CEPSA"
      ]
     },
     "execution_count": 141,
     "metadata": {},
     "output_type": "execute_result"
    }
   ],
   "source": [
    "convert('Móstoles')"
   ]
  },
  {
   "cell_type": "code",
   "execution_count": 142,
   "id": "752fcb3c",
   "metadata": {},
   "outputs": [],
   "source": [
    "# Listado de Estaciones de Servicio por Municipio por Municipio\n",
    "# x: Municipio\n",
    "def gasolineras_municipio(x):\n",
    "    municipio = df_n[df_n[\"Municipio\"] == x]\n",
    "    eess_mun = pd.DataFrame(municipio[[\"Proveedor de Servicio\"]])\n",
    "    return eess_mun\n"
   ]
  },
  {
   "cell_type": "code",
   "execution_count": 143,
   "id": "9f8ea85c",
   "metadata": {},
   "outputs": [
    {
     "data": {
      "text/html": [
       "<div>\n",
       "<style scoped>\n",
       "    .dataframe tbody tr th:only-of-type {\n",
       "        vertical-align: middle;\n",
       "    }\n",
       "\n",
       "    .dataframe tbody tr th {\n",
       "        vertical-align: top;\n",
       "    }\n",
       "\n",
       "    .dataframe thead th {\n",
       "        text-align: right;\n",
       "    }\n",
       "</style>\n",
       "<table border=\"1\" class=\"dataframe\">\n",
       "  <thead>\n",
       "    <tr style=\"text-align: right;\">\n",
       "      <th></th>\n",
       "      <th>Proveedor de Servicio</th>\n",
       "    </tr>\n",
       "  </thead>\n",
       "  <tbody>\n",
       "    <tr>\n",
       "      <th>7053</th>\n",
       "      <td>CEPSA</td>\n",
       "    </tr>\n",
       "    <tr>\n",
       "      <th>7054</th>\n",
       "      <td>CEPSA</td>\n",
       "    </tr>\n",
       "    <tr>\n",
       "      <th>7055</th>\n",
       "      <td>CEPSA</td>\n",
       "    </tr>\n",
       "    <tr>\n",
       "      <th>7056</th>\n",
       "      <td>REPSOL</td>\n",
       "    </tr>\n",
       "    <tr>\n",
       "      <th>7057</th>\n",
       "      <td>REPSOL</td>\n",
       "    </tr>\n",
       "    <tr>\n",
       "      <th>7058</th>\n",
       "      <td>MAXPETROL</td>\n",
       "    </tr>\n",
       "    <tr>\n",
       "      <th>7059</th>\n",
       "      <td>BALLENOIL</td>\n",
       "    </tr>\n",
       "    <tr>\n",
       "      <th>7060</th>\n",
       "      <td>CHEAPOIL</td>\n",
       "    </tr>\n",
       "  </tbody>\n",
       "</table>\n",
       "</div>"
      ],
      "text/plain": [
       "     Proveedor de Servicio\n",
       "7053                 CEPSA\n",
       "7054                 CEPSA\n",
       "7055                 CEPSA\n",
       "7056                REPSOL\n",
       "7057                REPSOL\n",
       "7058             MAXPETROL\n",
       "7059             BALLENOIL\n",
       "7060              CHEAPOIL"
      ]
     },
     "execution_count": 143,
     "metadata": {},
     "output_type": "execute_result"
    }
   ],
   "source": [
    "gasolineras_municipio('Navalcarnero')"
   ]
  },
  {
   "cell_type": "code",
   "execution_count": 144,
   "id": "42d352ec",
   "metadata": {},
   "outputs": [],
   "source": [
    "# Listado de Gasolineras por Provincia\n",
    "#x=Provincia\n",
    "def gasolineras_provincia(x):\n",
    "    cp_x = df_n[df_n[\"Provincia\"] == x]\n",
    "    return cp_x\n"
   ]
  },
  {
   "cell_type": "code",
   "execution_count": 145,
   "id": "fb0d41d2",
   "metadata": {},
   "outputs": [
    {
     "data": {
      "text/html": [
       "<div>\n",
       "<style scoped>\n",
       "    .dataframe tbody tr th:only-of-type {\n",
       "        vertical-align: middle;\n",
       "    }\n",
       "\n",
       "    .dataframe tbody tr th {\n",
       "        vertical-align: top;\n",
       "    }\n",
       "\n",
       "    .dataframe thead th {\n",
       "        text-align: right;\n",
       "    }\n",
       "</style>\n",
       "<table border=\"1\" class=\"dataframe\">\n",
       "  <thead>\n",
       "    <tr style=\"text-align: right;\">\n",
       "      <th></th>\n",
       "      <th>Fecha</th>\n",
       "      <th>Horario</th>\n",
       "      <th>C.P.</th>\n",
       "      <th>Municipio</th>\n",
       "      <th>Provincia</th>\n",
       "      <th>Localidad</th>\n",
       "      <th>Dirección</th>\n",
       "      <th>Proveedor de Servicio</th>\n",
       "      <th>Gasoleo A</th>\n",
       "      <th>Gasoleo B</th>\n",
       "      <th>Gasoleo Premium</th>\n",
       "      <th>Gasolina 95 E5</th>\n",
       "      <th>Gasolina 98 E5</th>\n",
       "      <th>Media_Gasoleo A</th>\n",
       "      <th>Media_Gasoleo B</th>\n",
       "      <th>Media_Gasoleo Prem</th>\n",
       "      <th>Media_Gasolina 95</th>\n",
       "      <th>Media_Gasolina 98</th>\n",
       "    </tr>\n",
       "  </thead>\n",
       "  <tbody>\n",
       "    <tr>\n",
       "      <th>5403</th>\n",
       "      <td>07/11/2022 21:23:55</td>\n",
       "      <td>L-D: 24H</td>\n",
       "      <td>21110</td>\n",
       "      <td>Aljaraque</td>\n",
       "      <td>HUELVA</td>\n",
       "      <td>ALJARAQUE</td>\n",
       "      <td>AUTOVIA A-497 KM. 7</td>\n",
       "      <td>MEROIL</td>\n",
       "      <td>1.997</td>\n",
       "      <td>NaN</td>\n",
       "      <td>2.107</td>\n",
       "      <td>1.887</td>\n",
       "      <td>1.997</td>\n",
       "      <td>1.946454</td>\n",
       "      <td>1.55844</td>\n",
       "      <td>2.0434</td>\n",
       "      <td>1.775169</td>\n",
       "      <td>1.929097</td>\n",
       "    </tr>\n",
       "    <tr>\n",
       "      <th>5404</th>\n",
       "      <td>07/11/2022 21:23:55</td>\n",
       "      <td>L-D: 07:00-23:00</td>\n",
       "      <td>21110</td>\n",
       "      <td>Aljaraque</td>\n",
       "      <td>HUELVA</td>\n",
       "      <td>ALJARAQUE</td>\n",
       "      <td>CALLE CERAMICA, 1</td>\n",
       "      <td>HIGUEROIL</td>\n",
       "      <td>1.957</td>\n",
       "      <td>NaN</td>\n",
       "      <td>NaN</td>\n",
       "      <td>1.757</td>\n",
       "      <td>NaN</td>\n",
       "      <td>1.946454</td>\n",
       "      <td>1.55844</td>\n",
       "      <td>2.0434</td>\n",
       "      <td>1.775169</td>\n",
       "      <td>1.929097</td>\n",
       "    </tr>\n",
       "    <tr>\n",
       "      <th>5405</th>\n",
       "      <td>07/11/2022 21:23:55</td>\n",
       "      <td>L-D: 24H</td>\n",
       "      <td>21110</td>\n",
       "      <td>Aljaraque</td>\n",
       "      <td>HUELVA</td>\n",
       "      <td>ALJARAQUE</td>\n",
       "      <td>CARRETERA A-492 KM. 0,100</td>\n",
       "      <td>TAMOIL</td>\n",
       "      <td>1.839</td>\n",
       "      <td>NaN</td>\n",
       "      <td>NaN</td>\n",
       "      <td>1.739</td>\n",
       "      <td>1.799</td>\n",
       "      <td>1.946454</td>\n",
       "      <td>1.55844</td>\n",
       "      <td>2.0434</td>\n",
       "      <td>1.775169</td>\n",
       "      <td>1.929097</td>\n",
       "    </tr>\n",
       "    <tr>\n",
       "      <th>5406</th>\n",
       "      <td>07/11/2022 21:23:55</td>\n",
       "      <td>L-D: 06:00-22:00</td>\n",
       "      <td>21730</td>\n",
       "      <td>Almonte</td>\n",
       "      <td>HUELVA</td>\n",
       "      <td>ALMONTE</td>\n",
       "      <td>CRA. DEL ROCIO km 15.10</td>\n",
       "      <td>AVIA</td>\n",
       "      <td>1.979</td>\n",
       "      <td>1.499</td>\n",
       "      <td>2.049</td>\n",
       "      <td>1.779</td>\n",
       "      <td>1.939</td>\n",
       "      <td>1.946454</td>\n",
       "      <td>1.55844</td>\n",
       "      <td>2.0434</td>\n",
       "      <td>1.775169</td>\n",
       "      <td>1.929097</td>\n",
       "    </tr>\n",
       "    <tr>\n",
       "      <th>5407</th>\n",
       "      <td>07/11/2022 21:23:55</td>\n",
       "      <td>L-D: 06:00-23:59</td>\n",
       "      <td>21730</td>\n",
       "      <td>Almonte</td>\n",
       "      <td>HUELVA</td>\n",
       "      <td>ALMONTE</td>\n",
       "      <td>AVENIDA RAFAEL ALBERTI, 7</td>\n",
       "      <td>REPSOL</td>\n",
       "      <td>1.932</td>\n",
       "      <td>1.526</td>\n",
       "      <td>1.995</td>\n",
       "      <td>1.881</td>\n",
       "      <td>1.975</td>\n",
       "      <td>1.946454</td>\n",
       "      <td>1.55844</td>\n",
       "      <td>2.0434</td>\n",
       "      <td>1.775169</td>\n",
       "      <td>1.929097</td>\n",
       "    </tr>\n",
       "    <tr>\n",
       "      <th>...</th>\n",
       "      <td>...</td>\n",
       "      <td>...</td>\n",
       "      <td>...</td>\n",
       "      <td>...</td>\n",
       "      <td>...</td>\n",
       "      <td>...</td>\n",
       "      <td>...</td>\n",
       "      <td>...</td>\n",
       "      <td>...</td>\n",
       "      <td>...</td>\n",
       "      <td>...</td>\n",
       "      <td>...</td>\n",
       "      <td>...</td>\n",
       "      <td>...</td>\n",
       "      <td>...</td>\n",
       "      <td>...</td>\n",
       "      <td>...</td>\n",
       "      <td>...</td>\n",
       "    </tr>\n",
       "    <tr>\n",
       "      <th>5549</th>\n",
       "      <td>07/11/2022 21:23:55</td>\n",
       "      <td>L-D: 05:00-00:00</td>\n",
       "      <td>21860</td>\n",
       "      <td>Villalba del Alcor</td>\n",
       "      <td>HUELVA</td>\n",
       "      <td>VILLALBA DEL ALCOR</td>\n",
       "      <td>CARRETERA A-472 KM. 28</td>\n",
       "      <td>REPSOL</td>\n",
       "      <td>2.039</td>\n",
       "      <td>1.760</td>\n",
       "      <td>NaN</td>\n",
       "      <td>1.817</td>\n",
       "      <td>NaN</td>\n",
       "      <td>1.946454</td>\n",
       "      <td>1.55844</td>\n",
       "      <td>2.0434</td>\n",
       "      <td>1.775169</td>\n",
       "      <td>1.929097</td>\n",
       "    </tr>\n",
       "    <tr>\n",
       "      <th>5550</th>\n",
       "      <td>07/11/2022 21:23:55</td>\n",
       "      <td>L-D: 07:00-22:00</td>\n",
       "      <td>21540</td>\n",
       "      <td>Villanueva de los Castillejos</td>\n",
       "      <td>HUELVA</td>\n",
       "      <td>VILLANUEVA CASTILLEJOS</td>\n",
       "      <td>CARRETERA HUELVA KM. 31</td>\n",
       "      <td>E.S. LA CRUZ DEL GALLO</td>\n",
       "      <td>2.079</td>\n",
       "      <td>NaN</td>\n",
       "      <td>2.129</td>\n",
       "      <td>1.859</td>\n",
       "      <td>NaN</td>\n",
       "      <td>1.946454</td>\n",
       "      <td>1.55844</td>\n",
       "      <td>2.0434</td>\n",
       "      <td>1.775169</td>\n",
       "      <td>1.929097</td>\n",
       "    </tr>\n",
       "    <tr>\n",
       "      <th>5551</th>\n",
       "      <td>07/11/2022 21:23:55</td>\n",
       "      <td>L-V: 06:00-21:00; S-D: 07:00-22:00</td>\n",
       "      <td>21850</td>\n",
       "      <td>Villarrasa</td>\n",
       "      <td>HUELVA</td>\n",
       "      <td>VILLARRASA</td>\n",
       "      <td>AUTOVIA A-49 KM KM. 53</td>\n",
       "      <td>REPSOL</td>\n",
       "      <td>2.049</td>\n",
       "      <td>NaN</td>\n",
       "      <td>2.139</td>\n",
       "      <td>1.839</td>\n",
       "      <td>1.979</td>\n",
       "      <td>1.946454</td>\n",
       "      <td>1.55844</td>\n",
       "      <td>2.0434</td>\n",
       "      <td>1.775169</td>\n",
       "      <td>1.929097</td>\n",
       "    </tr>\n",
       "    <tr>\n",
       "      <th>5552</th>\n",
       "      <td>07/11/2022 21:23:55</td>\n",
       "      <td>L-D: 24H</td>\n",
       "      <td>21850</td>\n",
       "      <td>Villarrasa</td>\n",
       "      <td>HUELVA</td>\n",
       "      <td>VILLARRASA</td>\n",
       "      <td>CALLE ANGUSTIAS, 0</td>\n",
       "      <td>SUMAROIL</td>\n",
       "      <td>1.999</td>\n",
       "      <td>1.579</td>\n",
       "      <td>NaN</td>\n",
       "      <td>1.769</td>\n",
       "      <td>NaN</td>\n",
       "      <td>1.946454</td>\n",
       "      <td>1.55844</td>\n",
       "      <td>2.0434</td>\n",
       "      <td>1.775169</td>\n",
       "      <td>1.929097</td>\n",
       "    </tr>\n",
       "    <tr>\n",
       "      <th>5553</th>\n",
       "      <td>07/11/2022 21:23:55</td>\n",
       "      <td>L-D: 06:00-22:00</td>\n",
       "      <td>21640</td>\n",
       "      <td>Zalamea la Real</td>\n",
       "      <td>HUELVA</td>\n",
       "      <td>ZALAMEA LA REAL</td>\n",
       "      <td>CARRETERA NACIONAL 435 KM. 181,8</td>\n",
       "      <td>DEOIL</td>\n",
       "      <td>1.889</td>\n",
       "      <td>NaN</td>\n",
       "      <td>1.909</td>\n",
       "      <td>1.729</td>\n",
       "      <td>NaN</td>\n",
       "      <td>1.946454</td>\n",
       "      <td>1.55844</td>\n",
       "      <td>2.0434</td>\n",
       "      <td>1.775169</td>\n",
       "      <td>1.929097</td>\n",
       "    </tr>\n",
       "  </tbody>\n",
       "</table>\n",
       "<p>151 rows × 18 columns</p>\n",
       "</div>"
      ],
      "text/plain": [
       "                    Fecha                             Horario   C.P.  \\\n",
       "5403  07/11/2022 21:23:55                            L-D: 24H  21110   \n",
       "5404  07/11/2022 21:23:55                    L-D: 07:00-23:00  21110   \n",
       "5405  07/11/2022 21:23:55                            L-D: 24H  21110   \n",
       "5406  07/11/2022 21:23:55                    L-D: 06:00-22:00  21730   \n",
       "5407  07/11/2022 21:23:55                    L-D: 06:00-23:59  21730   \n",
       "...                   ...                                 ...    ...   \n",
       "5549  07/11/2022 21:23:55                    L-D: 05:00-00:00  21860   \n",
       "5550  07/11/2022 21:23:55                    L-D: 07:00-22:00  21540   \n",
       "5551  07/11/2022 21:23:55  L-V: 06:00-21:00; S-D: 07:00-22:00  21850   \n",
       "5552  07/11/2022 21:23:55                            L-D: 24H  21850   \n",
       "5553  07/11/2022 21:23:55                    L-D: 06:00-22:00  21640   \n",
       "\n",
       "                          Municipio Provincia               Localidad  \\\n",
       "5403                      Aljaraque    HUELVA               ALJARAQUE   \n",
       "5404                      Aljaraque    HUELVA               ALJARAQUE   \n",
       "5405                      Aljaraque    HUELVA               ALJARAQUE   \n",
       "5406                        Almonte    HUELVA                 ALMONTE   \n",
       "5407                        Almonte    HUELVA                 ALMONTE   \n",
       "...                             ...       ...                     ...   \n",
       "5549             Villalba del Alcor    HUELVA      VILLALBA DEL ALCOR   \n",
       "5550  Villanueva de los Castillejos    HUELVA  VILLANUEVA CASTILLEJOS   \n",
       "5551                     Villarrasa    HUELVA              VILLARRASA   \n",
       "5552                     Villarrasa    HUELVA              VILLARRASA   \n",
       "5553                Zalamea la Real    HUELVA         ZALAMEA LA REAL   \n",
       "\n",
       "                             Dirección   Proveedor de Servicio  Gasoleo A  \\\n",
       "5403               AUTOVIA A-497 KM. 7                  MEROIL      1.997   \n",
       "5404                 CALLE CERAMICA, 1               HIGUEROIL      1.957   \n",
       "5405         CARRETERA A-492 KM. 0,100                  TAMOIL      1.839   \n",
       "5406           CRA. DEL ROCIO km 15.10                    AVIA      1.979   \n",
       "5407         AVENIDA RAFAEL ALBERTI, 7                  REPSOL      1.932   \n",
       "...                                ...                     ...        ...   \n",
       "5549            CARRETERA A-472 KM. 28                  REPSOL      2.039   \n",
       "5550           CARRETERA HUELVA KM. 31  E.S. LA CRUZ DEL GALLO      2.079   \n",
       "5551            AUTOVIA A-49 KM KM. 53                  REPSOL      2.049   \n",
       "5552                CALLE ANGUSTIAS, 0                SUMAROIL      1.999   \n",
       "5553  CARRETERA NACIONAL 435 KM. 181,8                   DEOIL      1.889   \n",
       "\n",
       "      Gasoleo B  Gasoleo Premium  Gasolina 95 E5  Gasolina 98 E5  \\\n",
       "5403        NaN            2.107           1.887           1.997   \n",
       "5404        NaN              NaN           1.757             NaN   \n",
       "5405        NaN              NaN           1.739           1.799   \n",
       "5406      1.499            2.049           1.779           1.939   \n",
       "5407      1.526            1.995           1.881           1.975   \n",
       "...         ...              ...             ...             ...   \n",
       "5549      1.760              NaN           1.817             NaN   \n",
       "5550        NaN            2.129           1.859             NaN   \n",
       "5551        NaN            2.139           1.839           1.979   \n",
       "5552      1.579              NaN           1.769             NaN   \n",
       "5553        NaN            1.909           1.729             NaN   \n",
       "\n",
       "      Media_Gasoleo A  Media_Gasoleo B  Media_Gasoleo Prem  Media_Gasolina 95  \\\n",
       "5403         1.946454          1.55844              2.0434           1.775169   \n",
       "5404         1.946454          1.55844              2.0434           1.775169   \n",
       "5405         1.946454          1.55844              2.0434           1.775169   \n",
       "5406         1.946454          1.55844              2.0434           1.775169   \n",
       "5407         1.946454          1.55844              2.0434           1.775169   \n",
       "...               ...              ...                 ...                ...   \n",
       "5549         1.946454          1.55844              2.0434           1.775169   \n",
       "5550         1.946454          1.55844              2.0434           1.775169   \n",
       "5551         1.946454          1.55844              2.0434           1.775169   \n",
       "5552         1.946454          1.55844              2.0434           1.775169   \n",
       "5553         1.946454          1.55844              2.0434           1.775169   \n",
       "\n",
       "      Media_Gasolina 98  \n",
       "5403           1.929097  \n",
       "5404           1.929097  \n",
       "5405           1.929097  \n",
       "5406           1.929097  \n",
       "5407           1.929097  \n",
       "...                 ...  \n",
       "5549           1.929097  \n",
       "5550           1.929097  \n",
       "5551           1.929097  \n",
       "5552           1.929097  \n",
       "5553           1.929097  \n",
       "\n",
       "[151 rows x 18 columns]"
      ]
     },
     "execution_count": 145,
     "metadata": {},
     "output_type": "execute_result"
    }
   ],
   "source": [
    "gasolineras_provincia('HUELVA')"
   ]
  },
  {
   "cell_type": "code",
   "execution_count": 146,
   "id": "fe00f1c5",
   "metadata": {},
   "outputs": [],
   "source": [
    "# Listado de Gasolineras por Código Postal:\n",
    "# x: código postal\n",
    "def gasolineras_cp(x):\n",
    "    cp = df_n[df_n[\"C.P.\"] == x]\n",
    "    return cp"
   ]
  },
  {
   "cell_type": "code",
   "execution_count": 147,
   "id": "858df679",
   "metadata": {},
   "outputs": [
    {
     "data": {
      "text/html": [
       "<div>\n",
       "<style scoped>\n",
       "    .dataframe tbody tr th:only-of-type {\n",
       "        vertical-align: middle;\n",
       "    }\n",
       "\n",
       "    .dataframe tbody tr th {\n",
       "        vertical-align: top;\n",
       "    }\n",
       "\n",
       "    .dataframe thead th {\n",
       "        text-align: right;\n",
       "    }\n",
       "</style>\n",
       "<table border=\"1\" class=\"dataframe\">\n",
       "  <thead>\n",
       "    <tr style=\"text-align: right;\">\n",
       "      <th></th>\n",
       "      <th>Fecha</th>\n",
       "      <th>Horario</th>\n",
       "      <th>C.P.</th>\n",
       "      <th>Municipio</th>\n",
       "      <th>Provincia</th>\n",
       "      <th>Localidad</th>\n",
       "      <th>Dirección</th>\n",
       "      <th>Proveedor de Servicio</th>\n",
       "      <th>Gasoleo A</th>\n",
       "      <th>Gasoleo B</th>\n",
       "      <th>Gasoleo Premium</th>\n",
       "      <th>Gasolina 95 E5</th>\n",
       "      <th>Gasolina 98 E5</th>\n",
       "      <th>Media_Gasoleo A</th>\n",
       "      <th>Media_Gasoleo B</th>\n",
       "      <th>Media_Gasoleo Prem</th>\n",
       "      <th>Media_Gasolina 95</th>\n",
       "      <th>Media_Gasolina 98</th>\n",
       "    </tr>\n",
       "  </thead>\n",
       "  <tbody>\n",
       "    <tr>\n",
       "      <th>6560</th>\n",
       "      <td>07/11/2022 21:23:55</td>\n",
       "      <td>L-V: 06:00-22:00; S-D: 08:00-22:00</td>\n",
       "      <td>28500</td>\n",
       "      <td>Arganda del Rey</td>\n",
       "      <td>MADRID</td>\n",
       "      <td>ARGANDA</td>\n",
       "      <td>AVDA DE MADRID, 103</td>\n",
       "      <td>REPSOL</td>\n",
       "      <td>2.029</td>\n",
       "      <td>1.669</td>\n",
       "      <td>2.039</td>\n",
       "      <td>1.819</td>\n",
       "      <td>NaN</td>\n",
       "      <td>1.946454</td>\n",
       "      <td>1.55844</td>\n",
       "      <td>2.0434</td>\n",
       "      <td>1.775169</td>\n",
       "      <td>1.929097</td>\n",
       "    </tr>\n",
       "    <tr>\n",
       "      <th>6561</th>\n",
       "      <td>07/11/2022 21:23:55</td>\n",
       "      <td>L-D: 06:00-00:00</td>\n",
       "      <td>28500</td>\n",
       "      <td>Arganda del Rey</td>\n",
       "      <td>MADRID</td>\n",
       "      <td>ARGANDA</td>\n",
       "      <td>AVENIDA DE MADRID, 126</td>\n",
       "      <td>ATENOIL</td>\n",
       "      <td>1.939</td>\n",
       "      <td>NaN</td>\n",
       "      <td>1.949</td>\n",
       "      <td>1.699</td>\n",
       "      <td>NaN</td>\n",
       "      <td>1.946454</td>\n",
       "      <td>1.55844</td>\n",
       "      <td>2.0434</td>\n",
       "      <td>1.775169</td>\n",
       "      <td>1.929097</td>\n",
       "    </tr>\n",
       "    <tr>\n",
       "      <th>6562</th>\n",
       "      <td>07/11/2022 21:23:55</td>\n",
       "      <td>L-D: 06:00-22:00</td>\n",
       "      <td>28500</td>\n",
       "      <td>Arganda del Rey</td>\n",
       "      <td>MADRID</td>\n",
       "      <td>ARGANDA</td>\n",
       "      <td>AVENIDA DE MADRID, 37</td>\n",
       "      <td>BP LA ARGANDEÑA</td>\n",
       "      <td>2.049</td>\n",
       "      <td>NaN</td>\n",
       "      <td>2.139</td>\n",
       "      <td>1.839</td>\n",
       "      <td>1.981</td>\n",
       "      <td>1.946454</td>\n",
       "      <td>1.55844</td>\n",
       "      <td>2.0434</td>\n",
       "      <td>1.775169</td>\n",
       "      <td>1.929097</td>\n",
       "    </tr>\n",
       "    <tr>\n",
       "      <th>6563</th>\n",
       "      <td>07/11/2022 21:23:55</td>\n",
       "      <td>L-D: 24H</td>\n",
       "      <td>28500</td>\n",
       "      <td>Arganda del Rey</td>\n",
       "      <td>MADRID</td>\n",
       "      <td>ARGANDA</td>\n",
       "      <td>AVENIDA EJERCITO (DEL), 44</td>\n",
       "      <td>BP ARGANDA</td>\n",
       "      <td>2.049</td>\n",
       "      <td>NaN</td>\n",
       "      <td>2.139</td>\n",
       "      <td>1.839</td>\n",
       "      <td>1.981</td>\n",
       "      <td>1.946454</td>\n",
       "      <td>1.55844</td>\n",
       "      <td>2.0434</td>\n",
       "      <td>1.775169</td>\n",
       "      <td>1.929097</td>\n",
       "    </tr>\n",
       "    <tr>\n",
       "      <th>6564</th>\n",
       "      <td>07/11/2022 21:23:55</td>\n",
       "      <td>L-D: 24H</td>\n",
       "      <td>28500</td>\n",
       "      <td>Arganda del Rey</td>\n",
       "      <td>MADRID</td>\n",
       "      <td>ARGANDA</td>\n",
       "      <td>CARRETERA M-832 KM. 3</td>\n",
       "      <td>REPSOL</td>\n",
       "      <td>2.052</td>\n",
       "      <td>NaN</td>\n",
       "      <td>2.122</td>\n",
       "      <td>1.802</td>\n",
       "      <td>NaN</td>\n",
       "      <td>1.946454</td>\n",
       "      <td>1.55844</td>\n",
       "      <td>2.0434</td>\n",
       "      <td>1.775169</td>\n",
       "      <td>1.929097</td>\n",
       "    </tr>\n",
       "    <tr>\n",
       "      <th>6565</th>\n",
       "      <td>07/11/2022 21:23:55</td>\n",
       "      <td>L-D: 24H</td>\n",
       "      <td>28500</td>\n",
       "      <td>Arganda del Rey</td>\n",
       "      <td>MADRID</td>\n",
       "      <td>ARGANDA</td>\n",
       "      <td>AVENIDA VALDEARGANDA, 8</td>\n",
       "      <td>CEPSA</td>\n",
       "      <td>2.035</td>\n",
       "      <td>NaN</td>\n",
       "      <td>2.135</td>\n",
       "      <td>1.834</td>\n",
       "      <td>1.966</td>\n",
       "      <td>1.946454</td>\n",
       "      <td>1.55844</td>\n",
       "      <td>2.0434</td>\n",
       "      <td>1.775169</td>\n",
       "      <td>1.929097</td>\n",
       "    </tr>\n",
       "    <tr>\n",
       "      <th>6566</th>\n",
       "      <td>07/11/2022 21:23:55</td>\n",
       "      <td>L-D: 24H</td>\n",
       "      <td>28500</td>\n",
       "      <td>Arganda del Rey</td>\n",
       "      <td>MADRID</td>\n",
       "      <td>ARGANDA</td>\n",
       "      <td>CAMINO CAMINO DE SAN MARTÍN DE LA VEGA A ARGAN...</td>\n",
       "      <td>BALLENOIL</td>\n",
       "      <td>1.899</td>\n",
       "      <td>NaN</td>\n",
       "      <td>NaN</td>\n",
       "      <td>1.669</td>\n",
       "      <td>NaN</td>\n",
       "      <td>1.946454</td>\n",
       "      <td>1.55844</td>\n",
       "      <td>2.0434</td>\n",
       "      <td>1.775169</td>\n",
       "      <td>1.929097</td>\n",
       "    </tr>\n",
       "    <tr>\n",
       "      <th>6567</th>\n",
       "      <td>07/11/2022 21:23:55</td>\n",
       "      <td>L-D: 07:00-22:00</td>\n",
       "      <td>28500</td>\n",
       "      <td>Arganda del Rey</td>\n",
       "      <td>MADRID</td>\n",
       "      <td>ARGANDA</td>\n",
       "      <td>AVENIDA FINANZAUTO (DE), 2</td>\n",
       "      <td>DELFIOIL</td>\n",
       "      <td>1.899</td>\n",
       "      <td>NaN</td>\n",
       "      <td>NaN</td>\n",
       "      <td>1.669</td>\n",
       "      <td>NaN</td>\n",
       "      <td>1.946454</td>\n",
       "      <td>1.55844</td>\n",
       "      <td>2.0434</td>\n",
       "      <td>1.775169</td>\n",
       "      <td>1.929097</td>\n",
       "    </tr>\n",
       "    <tr>\n",
       "      <th>6568</th>\n",
       "      <td>07/11/2022 21:23:55</td>\n",
       "      <td>L-D: 24H</td>\n",
       "      <td>28500</td>\n",
       "      <td>Arganda del Rey</td>\n",
       "      <td>MADRID</td>\n",
       "      <td>ARGANDA</td>\n",
       "      <td>AVENIDA MADRID (DE), 66</td>\n",
       "      <td>PLENOIL</td>\n",
       "      <td>1.899</td>\n",
       "      <td>NaN</td>\n",
       "      <td>NaN</td>\n",
       "      <td>1.649</td>\n",
       "      <td>NaN</td>\n",
       "      <td>1.946454</td>\n",
       "      <td>1.55844</td>\n",
       "      <td>2.0434</td>\n",
       "      <td>1.775169</td>\n",
       "      <td>1.929097</td>\n",
       "    </tr>\n",
       "    <tr>\n",
       "      <th>6569</th>\n",
       "      <td>07/11/2022 21:23:55</td>\n",
       "      <td>L: 24H</td>\n",
       "      <td>28500</td>\n",
       "      <td>Arganda del Rey</td>\n",
       "      <td>MADRID</td>\n",
       "      <td>ARGANDA</td>\n",
       "      <td>CARRETERA M-832 KM. 3</td>\n",
       "      <td>REPSOL</td>\n",
       "      <td>2.052</td>\n",
       "      <td>NaN</td>\n",
       "      <td>NaN</td>\n",
       "      <td>1.802</td>\n",
       "      <td>NaN</td>\n",
       "      <td>1.946454</td>\n",
       "      <td>1.55844</td>\n",
       "      <td>2.0434</td>\n",
       "      <td>1.775169</td>\n",
       "      <td>1.929097</td>\n",
       "    </tr>\n",
       "    <tr>\n",
       "      <th>6570</th>\n",
       "      <td>07/11/2022 21:23:55</td>\n",
       "      <td>L-D: 24H</td>\n",
       "      <td>28500</td>\n",
       "      <td>Arganda del Rey</td>\n",
       "      <td>MADRID</td>\n",
       "      <td>ARGANDA</td>\n",
       "      <td>CAMINO SAN MARTIN DE LA VEGA, 8</td>\n",
       "      <td>BALLENOIL</td>\n",
       "      <td>1.899</td>\n",
       "      <td>NaN</td>\n",
       "      <td>NaN</td>\n",
       "      <td>1.669</td>\n",
       "      <td>NaN</td>\n",
       "      <td>1.946454</td>\n",
       "      <td>1.55844</td>\n",
       "      <td>2.0434</td>\n",
       "      <td>1.775169</td>\n",
       "      <td>1.929097</td>\n",
       "    </tr>\n",
       "    <tr>\n",
       "      <th>6571</th>\n",
       "      <td>07/11/2022 21:23:55</td>\n",
       "      <td>L-D: 24H</td>\n",
       "      <td>28500</td>\n",
       "      <td>Arganda del Rey</td>\n",
       "      <td>MADRID</td>\n",
       "      <td>ARGANDA</td>\n",
       "      <td>AVENIDA MADRID (DE), SN</td>\n",
       "      <td>PETROPRIX</td>\n",
       "      <td>1.899</td>\n",
       "      <td>NaN</td>\n",
       "      <td>NaN</td>\n",
       "      <td>1.649</td>\n",
       "      <td>NaN</td>\n",
       "      <td>1.946454</td>\n",
       "      <td>1.55844</td>\n",
       "      <td>2.0434</td>\n",
       "      <td>1.775169</td>\n",
       "      <td>1.929097</td>\n",
       "    </tr>\n",
       "  </tbody>\n",
       "</table>\n",
       "</div>"
      ],
      "text/plain": [
       "                    Fecha                             Horario   C.P.  \\\n",
       "6560  07/11/2022 21:23:55  L-V: 06:00-22:00; S-D: 08:00-22:00  28500   \n",
       "6561  07/11/2022 21:23:55                    L-D: 06:00-00:00  28500   \n",
       "6562  07/11/2022 21:23:55                    L-D: 06:00-22:00  28500   \n",
       "6563  07/11/2022 21:23:55                            L-D: 24H  28500   \n",
       "6564  07/11/2022 21:23:55                            L-D: 24H  28500   \n",
       "6565  07/11/2022 21:23:55                            L-D: 24H  28500   \n",
       "6566  07/11/2022 21:23:55                            L-D: 24H  28500   \n",
       "6567  07/11/2022 21:23:55                    L-D: 07:00-22:00  28500   \n",
       "6568  07/11/2022 21:23:55                            L-D: 24H  28500   \n",
       "6569  07/11/2022 21:23:55                              L: 24H  28500   \n",
       "6570  07/11/2022 21:23:55                            L-D: 24H  28500   \n",
       "6571  07/11/2022 21:23:55                            L-D: 24H  28500   \n",
       "\n",
       "            Municipio Provincia Localidad  \\\n",
       "6560  Arganda del Rey    MADRID   ARGANDA   \n",
       "6561  Arganda del Rey    MADRID   ARGANDA   \n",
       "6562  Arganda del Rey    MADRID   ARGANDA   \n",
       "6563  Arganda del Rey    MADRID   ARGANDA   \n",
       "6564  Arganda del Rey    MADRID   ARGANDA   \n",
       "6565  Arganda del Rey    MADRID   ARGANDA   \n",
       "6566  Arganda del Rey    MADRID   ARGANDA   \n",
       "6567  Arganda del Rey    MADRID   ARGANDA   \n",
       "6568  Arganda del Rey    MADRID   ARGANDA   \n",
       "6569  Arganda del Rey    MADRID   ARGANDA   \n",
       "6570  Arganda del Rey    MADRID   ARGANDA   \n",
       "6571  Arganda del Rey    MADRID   ARGANDA   \n",
       "\n",
       "                                              Dirección Proveedor de Servicio  \\\n",
       "6560                                AVDA DE MADRID, 103                REPSOL   \n",
       "6561                             AVENIDA DE MADRID, 126               ATENOIL   \n",
       "6562                              AVENIDA DE MADRID, 37       BP LA ARGANDEÑA   \n",
       "6563                         AVENIDA EJERCITO (DEL), 44            BP ARGANDA   \n",
       "6564                              CARRETERA M-832 KM. 3                REPSOL   \n",
       "6565                            AVENIDA VALDEARGANDA, 8                 CEPSA   \n",
       "6566  CAMINO CAMINO DE SAN MARTÍN DE LA VEGA A ARGAN...             BALLENOIL   \n",
       "6567                         AVENIDA FINANZAUTO (DE), 2              DELFIOIL   \n",
       "6568                            AVENIDA MADRID (DE), 66               PLENOIL   \n",
       "6569                              CARRETERA M-832 KM. 3                REPSOL   \n",
       "6570                    CAMINO SAN MARTIN DE LA VEGA, 8             BALLENOIL   \n",
       "6571                            AVENIDA MADRID (DE), SN             PETROPRIX   \n",
       "\n",
       "      Gasoleo A  Gasoleo B  Gasoleo Premium  Gasolina 95 E5  Gasolina 98 E5  \\\n",
       "6560      2.029      1.669            2.039           1.819             NaN   \n",
       "6561      1.939        NaN            1.949           1.699             NaN   \n",
       "6562      2.049        NaN            2.139           1.839           1.981   \n",
       "6563      2.049        NaN            2.139           1.839           1.981   \n",
       "6564      2.052        NaN            2.122           1.802             NaN   \n",
       "6565      2.035        NaN            2.135           1.834           1.966   \n",
       "6566      1.899        NaN              NaN           1.669             NaN   \n",
       "6567      1.899        NaN              NaN           1.669             NaN   \n",
       "6568      1.899        NaN              NaN           1.649             NaN   \n",
       "6569      2.052        NaN              NaN           1.802             NaN   \n",
       "6570      1.899        NaN              NaN           1.669             NaN   \n",
       "6571      1.899        NaN              NaN           1.649             NaN   \n",
       "\n",
       "      Media_Gasoleo A  Media_Gasoleo B  Media_Gasoleo Prem  Media_Gasolina 95  \\\n",
       "6560         1.946454          1.55844              2.0434           1.775169   \n",
       "6561         1.946454          1.55844              2.0434           1.775169   \n",
       "6562         1.946454          1.55844              2.0434           1.775169   \n",
       "6563         1.946454          1.55844              2.0434           1.775169   \n",
       "6564         1.946454          1.55844              2.0434           1.775169   \n",
       "6565         1.946454          1.55844              2.0434           1.775169   \n",
       "6566         1.946454          1.55844              2.0434           1.775169   \n",
       "6567         1.946454          1.55844              2.0434           1.775169   \n",
       "6568         1.946454          1.55844              2.0434           1.775169   \n",
       "6569         1.946454          1.55844              2.0434           1.775169   \n",
       "6570         1.946454          1.55844              2.0434           1.775169   \n",
       "6571         1.946454          1.55844              2.0434           1.775169   \n",
       "\n",
       "      Media_Gasolina 98  \n",
       "6560           1.929097  \n",
       "6561           1.929097  \n",
       "6562           1.929097  \n",
       "6563           1.929097  \n",
       "6564           1.929097  \n",
       "6565           1.929097  \n",
       "6566           1.929097  \n",
       "6567           1.929097  \n",
       "6568           1.929097  \n",
       "6569           1.929097  \n",
       "6570           1.929097  \n",
       "6571           1.929097  "
      ]
     },
     "execution_count": 147,
     "metadata": {},
     "output_type": "execute_result"
    }
   ],
   "source": [
    "gasolineras_cp('28500')"
   ]
  },
  {
   "cell_type": "code",
   "execution_count": 148,
   "id": "3542af36",
   "metadata": {},
   "outputs": [
    {
     "data": {
      "text/html": [
       "<div>\n",
       "<style scoped>\n",
       "    .dataframe tbody tr th:only-of-type {\n",
       "        vertical-align: middle;\n",
       "    }\n",
       "\n",
       "    .dataframe tbody tr th {\n",
       "        vertical-align: top;\n",
       "    }\n",
       "\n",
       "    .dataframe thead th {\n",
       "        text-align: right;\n",
       "    }\n",
       "</style>\n",
       "<table border=\"1\" class=\"dataframe\">\n",
       "  <thead>\n",
       "    <tr style=\"text-align: right;\">\n",
       "      <th></th>\n",
       "      <th>Fecha</th>\n",
       "      <th>Horario</th>\n",
       "      <th>C.P.</th>\n",
       "      <th>Municipio</th>\n",
       "      <th>Provincia</th>\n",
       "      <th>Localidad</th>\n",
       "      <th>Dirección</th>\n",
       "      <th>Proveedor de Servicio</th>\n",
       "      <th>Gasoleo A</th>\n",
       "      <th>Gasoleo B</th>\n",
       "      <th>Gasoleo Premium</th>\n",
       "      <th>Gasolina 95 E5</th>\n",
       "      <th>Gasolina 98 E5</th>\n",
       "      <th>Media_Gasoleo A</th>\n",
       "      <th>Media_Gasoleo B</th>\n",
       "      <th>Media_Gasoleo Prem</th>\n",
       "      <th>Media_Gasolina 95</th>\n",
       "      <th>Media_Gasolina 98</th>\n",
       "    </tr>\n",
       "  </thead>\n",
       "  <tbody>\n",
       "    <tr>\n",
       "      <th>25</th>\n",
       "      <td>07/11/2022 21:23:55</td>\n",
       "      <td>L-D: 08:00-16:00</td>\n",
       "      <td>02328</td>\n",
       "      <td>Albacete</td>\n",
       "      <td>ALBACETE</td>\n",
       "      <td>SANTA ANA</td>\n",
       "      <td>AVENIDA PRINCIPE, 2</td>\n",
       "      <td>REPSOL</td>\n",
       "      <td>1.979</td>\n",
       "      <td>1.621</td>\n",
       "      <td>2.029</td>\n",
       "      <td>1.769</td>\n",
       "      <td>1.879</td>\n",
       "      <td>1.946454</td>\n",
       "      <td>1.55844</td>\n",
       "      <td>2.0434</td>\n",
       "      <td>1.775169</td>\n",
       "      <td>1.929097</td>\n",
       "    </tr>\n",
       "    <tr>\n",
       "      <th>34</th>\n",
       "      <td>07/11/2022 21:23:55</td>\n",
       "      <td>L-D: 06:00-23:30</td>\n",
       "      <td>02007</td>\n",
       "      <td>Albacete</td>\n",
       "      <td>ALBACETE</td>\n",
       "      <td>ALBACETE</td>\n",
       "      <td>CARRETERA C-M 332 KM. 2,6</td>\n",
       "      <td>INLOCOR S.L. \"CEPSA\"</td>\n",
       "      <td>1.999</td>\n",
       "      <td>1.639</td>\n",
       "      <td>2.099</td>\n",
       "      <td>1.799</td>\n",
       "      <td>1.989</td>\n",
       "      <td>1.946454</td>\n",
       "      <td>1.55844</td>\n",
       "      <td>2.0434</td>\n",
       "      <td>1.775169</td>\n",
       "      <td>1.929097</td>\n",
       "    </tr>\n",
       "    <tr>\n",
       "      <th>67</th>\n",
       "      <td>07/11/2022 21:23:55</td>\n",
       "      <td>S-D: 07:00-15:00</td>\n",
       "      <td>02610</td>\n",
       "      <td>Bonillo (El)</td>\n",
       "      <td>ALBACETE</td>\n",
       "      <td>BONILLO (EL)</td>\n",
       "      <td>CALLE CARRETERA MUNERA, 2</td>\n",
       "      <td>REPSOL</td>\n",
       "      <td>1.979</td>\n",
       "      <td>1.635</td>\n",
       "      <td>2.039</td>\n",
       "      <td>1.769</td>\n",
       "      <td>1.879</td>\n",
       "      <td>1.946454</td>\n",
       "      <td>1.55844</td>\n",
       "      <td>2.0434</td>\n",
       "      <td>1.775169</td>\n",
       "      <td>1.929097</td>\n",
       "    </tr>\n",
       "    <tr>\n",
       "      <th>70</th>\n",
       "      <td>07/11/2022 21:23:55</td>\n",
       "      <td>L-D: 07:00-21:00</td>\n",
       "      <td>02200</td>\n",
       "      <td>Casas-Ibáñez</td>\n",
       "      <td>ALBACETE</td>\n",
       "      <td>CASAS-IBAÑEZ</td>\n",
       "      <td>CARRETERA ALBACETE KM. 94</td>\n",
       "      <td>CEPSA</td>\n",
       "      <td>1.969</td>\n",
       "      <td>1.609</td>\n",
       "      <td>2.029</td>\n",
       "      <td>1.729</td>\n",
       "      <td>1.889</td>\n",
       "      <td>1.946454</td>\n",
       "      <td>1.55844</td>\n",
       "      <td>2.0434</td>\n",
       "      <td>1.775169</td>\n",
       "      <td>1.929097</td>\n",
       "    </tr>\n",
       "    <tr>\n",
       "      <th>73</th>\n",
       "      <td>07/11/2022 21:23:55</td>\n",
       "      <td>L-D: 06:00-23:00</td>\n",
       "      <td>02660</td>\n",
       "      <td>Caudete</td>\n",
       "      <td>ALBACETE</td>\n",
       "      <td>CAUDETE</td>\n",
       "      <td>CR N-330, 71,4</td>\n",
       "      <td>REPSOL</td>\n",
       "      <td>2.009</td>\n",
       "      <td>1.578</td>\n",
       "      <td>2.059</td>\n",
       "      <td>1.799</td>\n",
       "      <td>1.909</td>\n",
       "      <td>1.946454</td>\n",
       "      <td>1.55844</td>\n",
       "      <td>2.0434</td>\n",
       "      <td>1.775169</td>\n",
       "      <td>1.929097</td>\n",
       "    </tr>\n",
       "    <tr>\n",
       "      <th>...</th>\n",
       "      <td>...</td>\n",
       "      <td>...</td>\n",
       "      <td>...</td>\n",
       "      <td>...</td>\n",
       "      <td>...</td>\n",
       "      <td>...</td>\n",
       "      <td>...</td>\n",
       "      <td>...</td>\n",
       "      <td>...</td>\n",
       "      <td>...</td>\n",
       "      <td>...</td>\n",
       "      <td>...</td>\n",
       "      <td>...</td>\n",
       "      <td>...</td>\n",
       "      <td>...</td>\n",
       "      <td>...</td>\n",
       "      <td>...</td>\n",
       "      <td>...</td>\n",
       "    </tr>\n",
       "    <tr>\n",
       "      <th>11751</th>\n",
       "      <td>07/11/2022 21:23:55</td>\n",
       "      <td>L-D: 24H</td>\n",
       "      <td>50013</td>\n",
       "      <td>Zaragoza</td>\n",
       "      <td>ZARAGOZA</td>\n",
       "      <td>CARTUJA BAJA</td>\n",
       "      <td>CARRETERA CASTELLON KM. 3,7</td>\n",
       "      <td>BP AVELLANAS</td>\n",
       "      <td>1.989</td>\n",
       "      <td>1.609</td>\n",
       "      <td>2.079</td>\n",
       "      <td>1.805</td>\n",
       "      <td>1.959</td>\n",
       "      <td>1.946454</td>\n",
       "      <td>1.55844</td>\n",
       "      <td>2.0434</td>\n",
       "      <td>1.775169</td>\n",
       "      <td>1.929097</td>\n",
       "    </tr>\n",
       "    <tr>\n",
       "      <th>11779</th>\n",
       "      <td>07/11/2022 21:23:55</td>\n",
       "      <td>L-D: 24H</td>\n",
       "      <td>50020</td>\n",
       "      <td>Zaragoza</td>\n",
       "      <td>ZARAGOZA</td>\n",
       "      <td>ZARAGOZA</td>\n",
       "      <td>AVENIDA DIAGONAL, 9 - POLIGONO PLAZA, 9</td>\n",
       "      <td>REPSOL</td>\n",
       "      <td>2.009</td>\n",
       "      <td>1.643</td>\n",
       "      <td>2.079</td>\n",
       "      <td>1.799</td>\n",
       "      <td>1.949</td>\n",
       "      <td>1.946454</td>\n",
       "      <td>1.55844</td>\n",
       "      <td>2.0434</td>\n",
       "      <td>1.775169</td>\n",
       "      <td>1.929097</td>\n",
       "    </tr>\n",
       "    <tr>\n",
       "      <th>11782</th>\n",
       "      <td>07/11/2022 21:23:55</td>\n",
       "      <td>L-D: 06:00-22:00</td>\n",
       "      <td>50190</td>\n",
       "      <td>Zaragoza</td>\n",
       "      <td>ZARAGOZA</td>\n",
       "      <td>GARRAPINILLOS</td>\n",
       "      <td>CARRETERA N-125 KM. 5,6</td>\n",
       "      <td>CEPSA</td>\n",
       "      <td>2.009</td>\n",
       "      <td>1.609</td>\n",
       "      <td>2.079</td>\n",
       "      <td>1.809</td>\n",
       "      <td>1.949</td>\n",
       "      <td>1.946454</td>\n",
       "      <td>1.55844</td>\n",
       "      <td>2.0434</td>\n",
       "      <td>1.775169</td>\n",
       "      <td>1.929097</td>\n",
       "    </tr>\n",
       "    <tr>\n",
       "      <th>11785</th>\n",
       "      <td>07/11/2022 21:23:55</td>\n",
       "      <td>L-V: 05:00-22:00; S-D: 08:00-22:00</td>\n",
       "      <td>50692</td>\n",
       "      <td>Zaragoza</td>\n",
       "      <td>ZARAGOZA</td>\n",
       "      <td>VILLARRAPA</td>\n",
       "      <td>AUTOVIA A-68 KM. 258,25</td>\n",
       "      <td>REPSOL</td>\n",
       "      <td>1.989</td>\n",
       "      <td>1.581</td>\n",
       "      <td>2.079</td>\n",
       "      <td>1.799</td>\n",
       "      <td>1.949</td>\n",
       "      <td>1.946454</td>\n",
       "      <td>1.55844</td>\n",
       "      <td>2.0434</td>\n",
       "      <td>1.775169</td>\n",
       "      <td>1.929097</td>\n",
       "    </tr>\n",
       "    <tr>\n",
       "      <th>11789</th>\n",
       "      <td>07/11/2022 21:23:55</td>\n",
       "      <td>L-D: 06:00-22:00</td>\n",
       "      <td>50800</td>\n",
       "      <td>Zuera</td>\n",
       "      <td>ZARAGOZA</td>\n",
       "      <td>ZUERA</td>\n",
       "      <td>CARRETERA N-330A KM. 24,000</td>\n",
       "      <td>REPSOL</td>\n",
       "      <td>1.979</td>\n",
       "      <td>1.567</td>\n",
       "      <td>2.039</td>\n",
       "      <td>1.769</td>\n",
       "      <td>1.919</td>\n",
       "      <td>1.946454</td>\n",
       "      <td>1.55844</td>\n",
       "      <td>2.0434</td>\n",
       "      <td>1.775169</td>\n",
       "      <td>1.929097</td>\n",
       "    </tr>\n",
       "  </tbody>\n",
       "</table>\n",
       "<p>911 rows × 18 columns</p>\n",
       "</div>"
      ],
      "text/plain": [
       "                     Fecha                             Horario   C.P.  \\\n",
       "25     07/11/2022 21:23:55                    L-D: 08:00-16:00  02328   \n",
       "34     07/11/2022 21:23:55                    L-D: 06:00-23:30  02007   \n",
       "67     07/11/2022 21:23:55                    S-D: 07:00-15:00  02610   \n",
       "70     07/11/2022 21:23:55                    L-D: 07:00-21:00  02200   \n",
       "73     07/11/2022 21:23:55                    L-D: 06:00-23:00  02660   \n",
       "...                    ...                                 ...    ...   \n",
       "11751  07/11/2022 21:23:55                            L-D: 24H  50013   \n",
       "11779  07/11/2022 21:23:55                            L-D: 24H  50020   \n",
       "11782  07/11/2022 21:23:55                    L-D: 06:00-22:00  50190   \n",
       "11785  07/11/2022 21:23:55  L-V: 05:00-22:00; S-D: 08:00-22:00  50692   \n",
       "11789  07/11/2022 21:23:55                    L-D: 06:00-22:00  50800   \n",
       "\n",
       "          Municipio Provincia      Localidad  \\\n",
       "25         Albacete  ALBACETE      SANTA ANA   \n",
       "34         Albacete  ALBACETE       ALBACETE   \n",
       "67     Bonillo (El)  ALBACETE   BONILLO (EL)   \n",
       "70     Casas-Ibáñez  ALBACETE   CASAS-IBAÑEZ   \n",
       "73          Caudete  ALBACETE        CAUDETE   \n",
       "...             ...       ...            ...   \n",
       "11751      Zaragoza  ZARAGOZA   CARTUJA BAJA   \n",
       "11779      Zaragoza  ZARAGOZA       ZARAGOZA   \n",
       "11782      Zaragoza  ZARAGOZA  GARRAPINILLOS   \n",
       "11785      Zaragoza  ZARAGOZA     VILLARRAPA   \n",
       "11789         Zuera  ZARAGOZA          ZUERA   \n",
       "\n",
       "                                     Dirección Proveedor de Servicio  \\\n",
       "25                         AVENIDA PRINCIPE, 2                REPSOL   \n",
       "34                   CARRETERA C-M 332 KM. 2,6  INLOCOR S.L. \"CEPSA\"   \n",
       "67                   CALLE CARRETERA MUNERA, 2                REPSOL   \n",
       "70                   CARRETERA ALBACETE KM. 94                 CEPSA   \n",
       "73                              CR N-330, 71,4                REPSOL   \n",
       "...                                        ...                   ...   \n",
       "11751              CARRETERA CASTELLON KM. 3,7          BP AVELLANAS   \n",
       "11779  AVENIDA DIAGONAL, 9 - POLIGONO PLAZA, 9                REPSOL   \n",
       "11782                  CARRETERA N-125 KM. 5,6                 CEPSA   \n",
       "11785                  AUTOVIA A-68 KM. 258,25                REPSOL   \n",
       "11789              CARRETERA N-330A KM. 24,000                REPSOL   \n",
       "\n",
       "       Gasoleo A  Gasoleo B  Gasoleo Premium  Gasolina 95 E5  Gasolina 98 E5  \\\n",
       "25         1.979      1.621            2.029           1.769           1.879   \n",
       "34         1.999      1.639            2.099           1.799           1.989   \n",
       "67         1.979      1.635            2.039           1.769           1.879   \n",
       "70         1.969      1.609            2.029           1.729           1.889   \n",
       "73         2.009      1.578            2.059           1.799           1.909   \n",
       "...          ...        ...              ...             ...             ...   \n",
       "11751      1.989      1.609            2.079           1.805           1.959   \n",
       "11779      2.009      1.643            2.079           1.799           1.949   \n",
       "11782      2.009      1.609            2.079           1.809           1.949   \n",
       "11785      1.989      1.581            2.079           1.799           1.949   \n",
       "11789      1.979      1.567            2.039           1.769           1.919   \n",
       "\n",
       "       Media_Gasoleo A  Media_Gasoleo B  Media_Gasoleo Prem  \\\n",
       "25            1.946454          1.55844              2.0434   \n",
       "34            1.946454          1.55844              2.0434   \n",
       "67            1.946454          1.55844              2.0434   \n",
       "70            1.946454          1.55844              2.0434   \n",
       "73            1.946454          1.55844              2.0434   \n",
       "...                ...              ...                 ...   \n",
       "11751         1.946454          1.55844              2.0434   \n",
       "11779         1.946454          1.55844              2.0434   \n",
       "11782         1.946454          1.55844              2.0434   \n",
       "11785         1.946454          1.55844              2.0434   \n",
       "11789         1.946454          1.55844              2.0434   \n",
       "\n",
       "       Media_Gasolina 95  Media_Gasolina 98  \n",
       "25              1.775169           1.929097  \n",
       "34              1.775169           1.929097  \n",
       "67              1.775169           1.929097  \n",
       "70              1.775169           1.929097  \n",
       "73              1.775169           1.929097  \n",
       "...                  ...                ...  \n",
       "11751           1.775169           1.929097  \n",
       "11779           1.775169           1.929097  \n",
       "11782           1.775169           1.929097  \n",
       "11785           1.775169           1.929097  \n",
       "11789           1.775169           1.929097  \n",
       "\n",
       "[911 rows x 18 columns]"
      ]
     },
     "execution_count": 148,
     "metadata": {},
     "output_type": "execute_result"
    }
   ],
   "source": [
    "df_n.dropna()"
   ]
  },
  {
   "cell_type": "markdown",
   "id": "26535421",
   "metadata": {},
   "source": [
    "# Pruebas de Código - PyChart"
   ]
  },
  {
   "cell_type": "code",
   "execution_count": 149,
   "id": "0ae77c25",
   "metadata": {},
   "outputs": [
    {
     "data": {
      "text/plain": [
       "float"
      ]
     },
     "execution_count": 149,
     "metadata": {},
     "output_type": "execute_result"
    }
   ],
   "source": [
    "media_municipio_1 = df_n[df_n[\"Municipio\"]==df_n['Municipio']]\n",
    "media_municipio_2 = media_municipio_1['Gasoleo A'].mean()\n",
    "media_municipio_2\n",
    "type(media_municipio_2)"
   ]
  },
  {
   "cell_type": "code",
   "execution_count": 150,
   "id": "5b3fdc31",
   "metadata": {},
   "outputs": [
    {
     "ename": "KeyError",
     "evalue": "'dev_Gasolina 98'",
     "output_type": "error",
     "traceback": [
      "\u001b[1;31m---------------------------------------------------------------------------\u001b[0m",
      "\u001b[1;31mKeyError\u001b[0m                                  Traceback (most recent call last)",
      "File \u001b[1;32m~\\miniconda3\\envs\\m1_ih\\lib\\site-packages\\pandas\\core\\indexes\\base.py:3621\u001b[0m, in \u001b[0;36mIndex.get_loc\u001b[1;34m(self, key, method, tolerance)\u001b[0m\n\u001b[0;32m   3620\u001b[0m \u001b[38;5;28;01mtry\u001b[39;00m:\n\u001b[1;32m-> 3621\u001b[0m     \u001b[38;5;28;01mreturn\u001b[39;00m \u001b[38;5;28;43mself\u001b[39;49m\u001b[38;5;241;43m.\u001b[39;49m\u001b[43m_engine\u001b[49m\u001b[38;5;241;43m.\u001b[39;49m\u001b[43mget_loc\u001b[49m\u001b[43m(\u001b[49m\u001b[43mcasted_key\u001b[49m\u001b[43m)\u001b[49m\n\u001b[0;32m   3622\u001b[0m \u001b[38;5;28;01mexcept\u001b[39;00m \u001b[38;5;167;01mKeyError\u001b[39;00m \u001b[38;5;28;01mas\u001b[39;00m err:\n",
      "File \u001b[1;32m~\\miniconda3\\envs\\m1_ih\\lib\\site-packages\\pandas\\_libs\\index.pyx:136\u001b[0m, in \u001b[0;36mpandas._libs.index.IndexEngine.get_loc\u001b[1;34m()\u001b[0m\n",
      "File \u001b[1;32m~\\miniconda3\\envs\\m1_ih\\lib\\site-packages\\pandas\\_libs\\index.pyx:163\u001b[0m, in \u001b[0;36mpandas._libs.index.IndexEngine.get_loc\u001b[1;34m()\u001b[0m\n",
      "File \u001b[1;32mpandas\\_libs\\hashtable_class_helper.pxi:5198\u001b[0m, in \u001b[0;36mpandas._libs.hashtable.PyObjectHashTable.get_item\u001b[1;34m()\u001b[0m\n",
      "File \u001b[1;32mpandas\\_libs\\hashtable_class_helper.pxi:5206\u001b[0m, in \u001b[0;36mpandas._libs.hashtable.PyObjectHashTable.get_item\u001b[1;34m()\u001b[0m\n",
      "\u001b[1;31mKeyError\u001b[0m: 'dev_Gasolina 98'",
      "\nThe above exception was the direct cause of the following exception:\n",
      "\u001b[1;31mKeyError\u001b[0m                                  Traceback (most recent call last)",
      "Input \u001b[1;32mIn [150]\u001b[0m, in \u001b[0;36m<cell line: 1>\u001b[1;34m()\u001b[0m\n\u001b[1;32m----> 1\u001b[0m \u001b[43mdf_n\u001b[49m\u001b[38;5;241;43m.\u001b[39;49m\u001b[43mloc\u001b[49m\u001b[43m[\u001b[49m\u001b[43m:\u001b[49m\u001b[43m,\u001b[49m\u001b[38;5;124;43m'\u001b[39;49m\u001b[38;5;124;43mGasoleo A\u001b[39;49m\u001b[38;5;124;43m'\u001b[39;49m\u001b[43m:\u001b[49m\u001b[38;5;124;43m'\u001b[39;49m\u001b[38;5;124;43mdev_Gasolina 98\u001b[39;49m\u001b[38;5;124;43m'\u001b[39;49m\u001b[43m]\u001b[49m\n",
      "File \u001b[1;32m~\\miniconda3\\envs\\m1_ih\\lib\\site-packages\\pandas\\core\\indexing.py:961\u001b[0m, in \u001b[0;36m_LocationIndexer.__getitem__\u001b[1;34m(self, key)\u001b[0m\n\u001b[0;32m    959\u001b[0m     \u001b[38;5;28;01mif\u001b[39;00m \u001b[38;5;28mself\u001b[39m\u001b[38;5;241m.\u001b[39m_is_scalar_access(key):\n\u001b[0;32m    960\u001b[0m         \u001b[38;5;28;01mreturn\u001b[39;00m \u001b[38;5;28mself\u001b[39m\u001b[38;5;241m.\u001b[39mobj\u001b[38;5;241m.\u001b[39m_get_value(\u001b[38;5;241m*\u001b[39mkey, takeable\u001b[38;5;241m=\u001b[39m\u001b[38;5;28mself\u001b[39m\u001b[38;5;241m.\u001b[39m_takeable)\n\u001b[1;32m--> 961\u001b[0m     \u001b[38;5;28;01mreturn\u001b[39;00m \u001b[38;5;28;43mself\u001b[39;49m\u001b[38;5;241;43m.\u001b[39;49m\u001b[43m_getitem_tuple\u001b[49m\u001b[43m(\u001b[49m\u001b[43mkey\u001b[49m\u001b[43m)\u001b[49m\n\u001b[0;32m    962\u001b[0m \u001b[38;5;28;01melse\u001b[39;00m:\n\u001b[0;32m    963\u001b[0m     \u001b[38;5;66;03m# we by definition only have the 0th axis\u001b[39;00m\n\u001b[0;32m    964\u001b[0m     axis \u001b[38;5;241m=\u001b[39m \u001b[38;5;28mself\u001b[39m\u001b[38;5;241m.\u001b[39maxis \u001b[38;5;129;01mor\u001b[39;00m \u001b[38;5;241m0\u001b[39m\n",
      "File \u001b[1;32m~\\miniconda3\\envs\\m1_ih\\lib\\site-packages\\pandas\\core\\indexing.py:1149\u001b[0m, in \u001b[0;36m_LocIndexer._getitem_tuple\u001b[1;34m(self, tup)\u001b[0m\n\u001b[0;32m   1146\u001b[0m \u001b[38;5;28;01mif\u001b[39;00m \u001b[38;5;28mself\u001b[39m\u001b[38;5;241m.\u001b[39m_multi_take_opportunity(tup):\n\u001b[0;32m   1147\u001b[0m     \u001b[38;5;28;01mreturn\u001b[39;00m \u001b[38;5;28mself\u001b[39m\u001b[38;5;241m.\u001b[39m_multi_take(tup)\n\u001b[1;32m-> 1149\u001b[0m \u001b[38;5;28;01mreturn\u001b[39;00m \u001b[38;5;28;43mself\u001b[39;49m\u001b[38;5;241;43m.\u001b[39;49m\u001b[43m_getitem_tuple_same_dim\u001b[49m\u001b[43m(\u001b[49m\u001b[43mtup\u001b[49m\u001b[43m)\u001b[49m\n",
      "File \u001b[1;32m~\\miniconda3\\envs\\m1_ih\\lib\\site-packages\\pandas\\core\\indexing.py:827\u001b[0m, in \u001b[0;36m_LocationIndexer._getitem_tuple_same_dim\u001b[1;34m(self, tup)\u001b[0m\n\u001b[0;32m    824\u001b[0m \u001b[38;5;28;01mif\u001b[39;00m com\u001b[38;5;241m.\u001b[39mis_null_slice(key):\n\u001b[0;32m    825\u001b[0m     \u001b[38;5;28;01mcontinue\u001b[39;00m\n\u001b[1;32m--> 827\u001b[0m retval \u001b[38;5;241m=\u001b[39m \u001b[38;5;28;43mgetattr\u001b[39;49m\u001b[43m(\u001b[49m\u001b[43mretval\u001b[49m\u001b[43m,\u001b[49m\u001b[43m \u001b[49m\u001b[38;5;28;43mself\u001b[39;49m\u001b[38;5;241;43m.\u001b[39;49m\u001b[43mname\u001b[49m\u001b[43m)\u001b[49m\u001b[38;5;241;43m.\u001b[39;49m\u001b[43m_getitem_axis\u001b[49m\u001b[43m(\u001b[49m\u001b[43mkey\u001b[49m\u001b[43m,\u001b[49m\u001b[43m \u001b[49m\u001b[43maxis\u001b[49m\u001b[38;5;241;43m=\u001b[39;49m\u001b[43mi\u001b[49m\u001b[43m)\u001b[49m\n\u001b[0;32m    828\u001b[0m \u001b[38;5;66;03m# We should never have retval.ndim < self.ndim, as that should\u001b[39;00m\n\u001b[0;32m    829\u001b[0m \u001b[38;5;66;03m#  be handled by the _getitem_lowerdim call above.\u001b[39;00m\n\u001b[0;32m    830\u001b[0m \u001b[38;5;28;01massert\u001b[39;00m retval\u001b[38;5;241m.\u001b[39mndim \u001b[38;5;241m==\u001b[39m \u001b[38;5;28mself\u001b[39m\u001b[38;5;241m.\u001b[39mndim\n",
      "File \u001b[1;32m~\\miniconda3\\envs\\m1_ih\\lib\\site-packages\\pandas\\core\\indexing.py:1180\u001b[0m, in \u001b[0;36m_LocIndexer._getitem_axis\u001b[1;34m(self, key, axis)\u001b[0m\n\u001b[0;32m   1178\u001b[0m \u001b[38;5;28;01mif\u001b[39;00m \u001b[38;5;28misinstance\u001b[39m(key, \u001b[38;5;28mslice\u001b[39m):\n\u001b[0;32m   1179\u001b[0m     \u001b[38;5;28mself\u001b[39m\u001b[38;5;241m.\u001b[39m_validate_key(key, axis)\n\u001b[1;32m-> 1180\u001b[0m     \u001b[38;5;28;01mreturn\u001b[39;00m \u001b[38;5;28;43mself\u001b[39;49m\u001b[38;5;241;43m.\u001b[39;49m\u001b[43m_get_slice_axis\u001b[49m\u001b[43m(\u001b[49m\u001b[43mkey\u001b[49m\u001b[43m,\u001b[49m\u001b[43m \u001b[49m\u001b[43maxis\u001b[49m\u001b[38;5;241;43m=\u001b[39;49m\u001b[43maxis\u001b[49m\u001b[43m)\u001b[49m\n\u001b[0;32m   1181\u001b[0m \u001b[38;5;28;01melif\u001b[39;00m com\u001b[38;5;241m.\u001b[39mis_bool_indexer(key):\n\u001b[0;32m   1182\u001b[0m     \u001b[38;5;28;01mreturn\u001b[39;00m \u001b[38;5;28mself\u001b[39m\u001b[38;5;241m.\u001b[39m_getbool_axis(key, axis\u001b[38;5;241m=\u001b[39maxis)\n",
      "File \u001b[1;32m~\\miniconda3\\envs\\m1_ih\\lib\\site-packages\\pandas\\core\\indexing.py:1214\u001b[0m, in \u001b[0;36m_LocIndexer._get_slice_axis\u001b[1;34m(self, slice_obj, axis)\u001b[0m\n\u001b[0;32m   1211\u001b[0m     \u001b[38;5;28;01mreturn\u001b[39;00m obj\u001b[38;5;241m.\u001b[39mcopy(deep\u001b[38;5;241m=\u001b[39m\u001b[38;5;28;01mFalse\u001b[39;00m)\n\u001b[0;32m   1213\u001b[0m labels \u001b[38;5;241m=\u001b[39m obj\u001b[38;5;241m.\u001b[39m_get_axis(axis)\n\u001b[1;32m-> 1214\u001b[0m indexer \u001b[38;5;241m=\u001b[39m \u001b[43mlabels\u001b[49m\u001b[38;5;241;43m.\u001b[39;49m\u001b[43mslice_indexer\u001b[49m\u001b[43m(\u001b[49m\u001b[43mslice_obj\u001b[49m\u001b[38;5;241;43m.\u001b[39;49m\u001b[43mstart\u001b[49m\u001b[43m,\u001b[49m\u001b[43m \u001b[49m\u001b[43mslice_obj\u001b[49m\u001b[38;5;241;43m.\u001b[39;49m\u001b[43mstop\u001b[49m\u001b[43m,\u001b[49m\u001b[43m \u001b[49m\u001b[43mslice_obj\u001b[49m\u001b[38;5;241;43m.\u001b[39;49m\u001b[43mstep\u001b[49m\u001b[43m)\u001b[49m\n\u001b[0;32m   1216\u001b[0m \u001b[38;5;28;01mif\u001b[39;00m \u001b[38;5;28misinstance\u001b[39m(indexer, \u001b[38;5;28mslice\u001b[39m):\n\u001b[0;32m   1217\u001b[0m     \u001b[38;5;28;01mreturn\u001b[39;00m \u001b[38;5;28mself\u001b[39m\u001b[38;5;241m.\u001b[39mobj\u001b[38;5;241m.\u001b[39m_slice(indexer, axis\u001b[38;5;241m=\u001b[39maxis)\n",
      "File \u001b[1;32m~\\miniconda3\\envs\\m1_ih\\lib\\site-packages\\pandas\\core\\indexes\\base.py:6274\u001b[0m, in \u001b[0;36mIndex.slice_indexer\u001b[1;34m(self, start, end, step, kind)\u001b[0m\n\u001b[0;32m   6231\u001b[0m \u001b[38;5;124;03m\"\"\"\u001b[39;00m\n\u001b[0;32m   6232\u001b[0m \u001b[38;5;124;03mCompute the slice indexer for input labels and step.\u001b[39;00m\n\u001b[0;32m   6233\u001b[0m \n\u001b[1;32m   (...)\u001b[0m\n\u001b[0;32m   6270\u001b[0m \u001b[38;5;124;03mslice(1, 3, None)\u001b[39;00m\n\u001b[0;32m   6271\u001b[0m \u001b[38;5;124;03m\"\"\"\u001b[39;00m\n\u001b[0;32m   6272\u001b[0m \u001b[38;5;28mself\u001b[39m\u001b[38;5;241m.\u001b[39m_deprecated_arg(kind, \u001b[38;5;124m\"\u001b[39m\u001b[38;5;124mkind\u001b[39m\u001b[38;5;124m\"\u001b[39m, \u001b[38;5;124m\"\u001b[39m\u001b[38;5;124mslice_indexer\u001b[39m\u001b[38;5;124m\"\u001b[39m)\n\u001b[1;32m-> 6274\u001b[0m start_slice, end_slice \u001b[38;5;241m=\u001b[39m \u001b[38;5;28;43mself\u001b[39;49m\u001b[38;5;241;43m.\u001b[39;49m\u001b[43mslice_locs\u001b[49m\u001b[43m(\u001b[49m\u001b[43mstart\u001b[49m\u001b[43m,\u001b[49m\u001b[43m \u001b[49m\u001b[43mend\u001b[49m\u001b[43m,\u001b[49m\u001b[43m \u001b[49m\u001b[43mstep\u001b[49m\u001b[38;5;241;43m=\u001b[39;49m\u001b[43mstep\u001b[49m\u001b[43m)\u001b[49m\n\u001b[0;32m   6276\u001b[0m \u001b[38;5;66;03m# return a slice\u001b[39;00m\n\u001b[0;32m   6277\u001b[0m \u001b[38;5;28;01mif\u001b[39;00m \u001b[38;5;129;01mnot\u001b[39;00m is_scalar(start_slice):\n",
      "File \u001b[1;32m~\\miniconda3\\envs\\m1_ih\\lib\\site-packages\\pandas\\core\\indexes\\base.py:6490\u001b[0m, in \u001b[0;36mIndex.slice_locs\u001b[1;34m(self, start, end, step, kind)\u001b[0m\n\u001b[0;32m   6488\u001b[0m end_slice \u001b[38;5;241m=\u001b[39m \u001b[38;5;28;01mNone\u001b[39;00m\n\u001b[0;32m   6489\u001b[0m \u001b[38;5;28;01mif\u001b[39;00m end \u001b[38;5;129;01mis\u001b[39;00m \u001b[38;5;129;01mnot\u001b[39;00m \u001b[38;5;28;01mNone\u001b[39;00m:\n\u001b[1;32m-> 6490\u001b[0m     end_slice \u001b[38;5;241m=\u001b[39m \u001b[38;5;28;43mself\u001b[39;49m\u001b[38;5;241;43m.\u001b[39;49m\u001b[43mget_slice_bound\u001b[49m\u001b[43m(\u001b[49m\u001b[43mend\u001b[49m\u001b[43m,\u001b[49m\u001b[43m \u001b[49m\u001b[38;5;124;43m\"\u001b[39;49m\u001b[38;5;124;43mright\u001b[39;49m\u001b[38;5;124;43m\"\u001b[39;49m\u001b[43m)\u001b[49m\n\u001b[0;32m   6491\u001b[0m \u001b[38;5;28;01mif\u001b[39;00m end_slice \u001b[38;5;129;01mis\u001b[39;00m \u001b[38;5;28;01mNone\u001b[39;00m:\n\u001b[0;32m   6492\u001b[0m     end_slice \u001b[38;5;241m=\u001b[39m \u001b[38;5;28mlen\u001b[39m(\u001b[38;5;28mself\u001b[39m)\n",
      "File \u001b[1;32m~\\miniconda3\\envs\\m1_ih\\lib\\site-packages\\pandas\\core\\indexes\\base.py:6403\u001b[0m, in \u001b[0;36mIndex.get_slice_bound\u001b[1;34m(self, label, side, kind)\u001b[0m\n\u001b[0;32m   6400\u001b[0m         \u001b[38;5;28;01mreturn\u001b[39;00m \u001b[38;5;28mself\u001b[39m\u001b[38;5;241m.\u001b[39m_searchsorted_monotonic(label, side)\n\u001b[0;32m   6401\u001b[0m     \u001b[38;5;28;01mexcept\u001b[39;00m \u001b[38;5;167;01mValueError\u001b[39;00m:\n\u001b[0;32m   6402\u001b[0m         \u001b[38;5;66;03m# raise the original KeyError\u001b[39;00m\n\u001b[1;32m-> 6403\u001b[0m         \u001b[38;5;28;01mraise\u001b[39;00m err\n\u001b[0;32m   6405\u001b[0m \u001b[38;5;28;01mif\u001b[39;00m \u001b[38;5;28misinstance\u001b[39m(slc, np\u001b[38;5;241m.\u001b[39mndarray):\n\u001b[0;32m   6406\u001b[0m     \u001b[38;5;66;03m# get_loc may return a boolean array, which\u001b[39;00m\n\u001b[0;32m   6407\u001b[0m     \u001b[38;5;66;03m# is OK as long as they are representable by a slice.\u001b[39;00m\n\u001b[0;32m   6408\u001b[0m     \u001b[38;5;28;01massert\u001b[39;00m is_bool_dtype(slc\u001b[38;5;241m.\u001b[39mdtype)\n",
      "File \u001b[1;32m~\\miniconda3\\envs\\m1_ih\\lib\\site-packages\\pandas\\core\\indexes\\base.py:6397\u001b[0m, in \u001b[0;36mIndex.get_slice_bound\u001b[1;34m(self, label, side, kind)\u001b[0m\n\u001b[0;32m   6395\u001b[0m \u001b[38;5;66;03m# we need to look up the label\u001b[39;00m\n\u001b[0;32m   6396\u001b[0m \u001b[38;5;28;01mtry\u001b[39;00m:\n\u001b[1;32m-> 6397\u001b[0m     slc \u001b[38;5;241m=\u001b[39m \u001b[38;5;28;43mself\u001b[39;49m\u001b[38;5;241;43m.\u001b[39;49m\u001b[43mget_loc\u001b[49m\u001b[43m(\u001b[49m\u001b[43mlabel\u001b[49m\u001b[43m)\u001b[49m\n\u001b[0;32m   6398\u001b[0m \u001b[38;5;28;01mexcept\u001b[39;00m \u001b[38;5;167;01mKeyError\u001b[39;00m \u001b[38;5;28;01mas\u001b[39;00m err:\n\u001b[0;32m   6399\u001b[0m     \u001b[38;5;28;01mtry\u001b[39;00m:\n",
      "File \u001b[1;32m~\\miniconda3\\envs\\m1_ih\\lib\\site-packages\\pandas\\core\\indexes\\base.py:3623\u001b[0m, in \u001b[0;36mIndex.get_loc\u001b[1;34m(self, key, method, tolerance)\u001b[0m\n\u001b[0;32m   3621\u001b[0m     \u001b[38;5;28;01mreturn\u001b[39;00m \u001b[38;5;28mself\u001b[39m\u001b[38;5;241m.\u001b[39m_engine\u001b[38;5;241m.\u001b[39mget_loc(casted_key)\n\u001b[0;32m   3622\u001b[0m \u001b[38;5;28;01mexcept\u001b[39;00m \u001b[38;5;167;01mKeyError\u001b[39;00m \u001b[38;5;28;01mas\u001b[39;00m err:\n\u001b[1;32m-> 3623\u001b[0m     \u001b[38;5;28;01mraise\u001b[39;00m \u001b[38;5;167;01mKeyError\u001b[39;00m(key) \u001b[38;5;28;01mfrom\u001b[39;00m \u001b[38;5;21;01merr\u001b[39;00m\n\u001b[0;32m   3624\u001b[0m \u001b[38;5;28;01mexcept\u001b[39;00m \u001b[38;5;167;01mTypeError\u001b[39;00m:\n\u001b[0;32m   3625\u001b[0m     \u001b[38;5;66;03m# If we have a listlike key, _check_indexing_error will raise\u001b[39;00m\n\u001b[0;32m   3626\u001b[0m     \u001b[38;5;66;03m#  InvalidIndexError. Otherwise we fall through and re-raise\u001b[39;00m\n\u001b[0;32m   3627\u001b[0m     \u001b[38;5;66;03m#  the TypeError.\u001b[39;00m\n\u001b[0;32m   3628\u001b[0m     \u001b[38;5;28mself\u001b[39m\u001b[38;5;241m.\u001b[39m_check_indexing_error(key)\n",
      "\u001b[1;31mKeyError\u001b[0m: 'dev_Gasolina 98'"
     ]
    }
   ],
   "source": [
    "df_n.loc[:,'Gasoleo A':'dev_Gasolina 98']"
   ]
  },
  {
   "cell_type": "code",
   "execution_count": null,
   "id": "d2c465f0",
   "metadata": {},
   "outputs": [],
   "source": [
    "df_n[['Gasoleo A']]"
   ]
  },
  {
   "cell_type": "code",
   "execution_count": null,
   "id": "8fc41865",
   "metadata": {},
   "outputs": [],
   "source": [
    "x = df_n.loc[0:0, 'Gasoleo A']\n",
    "\n",
    "x"
   ]
  },
  {
   "cell_type": "code",
   "execution_count": null,
   "id": "ebbd5bd7",
   "metadata": {},
   "outputs": [],
   "source": [
    "df_n[df_n['Gasoleo A']] == df_n[df_n['Media_Gasoleo A']]"
   ]
  },
  {
   "cell_type": "code",
   "execution_count": null,
   "id": "d6359596",
   "metadata": {},
   "outputs": [],
   "source": []
  },
  {
   "cell_type": "code",
   "execution_count": null,
   "id": "5554abd0",
   "metadata": {},
   "outputs": [],
   "source": []
  },
  {
   "cell_type": "code",
   "execution_count": null,
   "id": "9bdeaf58",
   "metadata": {},
   "outputs": [],
   "source": []
  },
  {
   "cell_type": "code",
   "execution_count": null,
   "id": "7ea9bb56",
   "metadata": {},
   "outputs": [],
   "source": []
  }
 ],
 "metadata": {
  "kernelspec": {
   "display_name": "Python [conda env:m1_ih]",
   "language": "python",
   "name": "conda-env-m1_ih-py"
  },
  "language_info": {
   "codemirror_mode": {
    "name": "ipython",
    "version": 3
   },
   "file_extension": ".py",
   "mimetype": "text/x-python",
   "name": "python",
   "nbconvert_exporter": "python",
   "pygments_lexer": "ipython3",
   "version": "3.9.12"
  }
 },
 "nbformat": 4,
 "nbformat_minor": 5
}
