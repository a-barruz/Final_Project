{
 "cells": [
  {
   "cell_type": "markdown",
   "id": "3e6982b2",
   "metadata": {},
   "source": [
    "## MVP (Cheapest Oil)"
   ]
  },
  {
   "cell_type": "code",
   "execution_count": 1,
   "id": "2cef25b8",
   "metadata": {},
   "outputs": [],
   "source": [
    "# Imports\n",
    "\n",
    "# Pandas\n",
    "import pandas as pd \n",
    "\n",
    "# Importo libreria para conexión a API\n",
    "from urllib.request import urlopen\n",
    "\n",
    "# Importo libreria Json para que lea\n",
    "import json\n",
    "\n",
    "# Numpy\n",
    "import numpy as np\n"
   ]
  },
  {
   "cell_type": "markdown",
   "id": "9397380f",
   "metadata": {},
   "source": [
    "---\n",
    "Step 1 (Data Extraction)"
   ]
  },
  {
   "cell_type": "code",
   "execution_count": 2,
   "id": "55515f32",
   "metadata": {},
   "outputs": [],
   "source": [
    "# Definir las variables donde meto el string que contiene la URL\n",
    "\n",
    "endpoint ='https://sedeaplicaciones.minetur.gob.es'\n",
    "parametros = '/ServiciosRESTCarburantes/PreciosCarburantes/EstacionesTerrestres/'\n"
   ]
  },
  {
   "cell_type": "code",
   "execution_count": 3,
   "id": "2d466973",
   "metadata": {},
   "outputs": [
    {
     "data": {
      "text/plain": [
       "http.client.HTTPResponse"
      ]
     },
     "execution_count": 3,
     "metadata": {},
     "output_type": "execute_result"
    }
   ],
   "source": [
    "# Vamos a guardar en una variable nuestros datos (resultado, comida) \n",
    "\n",
    "response = urlopen(endpoint+parametros)\n",
    "type(response)\n"
   ]
  },
  {
   "cell_type": "code",
   "execution_count": 4,
   "id": "0031d835",
   "metadata": {},
   "outputs": [
    {
     "data": {
      "text/plain": [
       "dict"
      ]
     },
     "execution_count": 4,
     "metadata": {},
     "output_type": "execute_result"
    }
   ],
   "source": [
    "# Vamos a extraer del obejto, los datos (Conexion a la API)\n",
    "\n",
    "data = response.read().decode('utf-8', 'replace')\n",
    "data = json.loads(data)\n",
    "type(data)\n"
   ]
  },
  {
   "cell_type": "code",
   "execution_count": 5,
   "id": "501a7f08",
   "metadata": {},
   "outputs": [
    {
     "data": {
      "text/html": [
       "<div>\n",
       "<style scoped>\n",
       "    .dataframe tbody tr th:only-of-type {\n",
       "        vertical-align: middle;\n",
       "    }\n",
       "\n",
       "    .dataframe tbody tr th {\n",
       "        vertical-align: top;\n",
       "    }\n",
       "\n",
       "    .dataframe thead th {\n",
       "        text-align: right;\n",
       "    }\n",
       "</style>\n",
       "<table border=\"1\" class=\"dataframe\">\n",
       "  <thead>\n",
       "    <tr style=\"text-align: right;\">\n",
       "      <th></th>\n",
       "      <th>Fecha</th>\n",
       "      <th>ListaEESSPrecio</th>\n",
       "      <th>Nota</th>\n",
       "      <th>ResultadoConsulta</th>\n",
       "    </tr>\n",
       "  </thead>\n",
       "  <tbody>\n",
       "    <tr>\n",
       "      <th>0</th>\n",
       "      <td>12/07/2023 13:38:44</td>\n",
       "      <td>{'C.P.': '02250', 'Dirección': 'AVENIDA CASTIL...</td>\n",
       "      <td>Archivo de todos los productos en todas las es...</td>\n",
       "      <td>OK</td>\n",
       "    </tr>\n",
       "    <tr>\n",
       "      <th>1</th>\n",
       "      <td>12/07/2023 13:38:44</td>\n",
       "      <td>{'C.P.': '02001', 'Dirección': 'CALLE PRINCIPE...</td>\n",
       "      <td>Archivo de todos los productos en todas las es...</td>\n",
       "      <td>OK</td>\n",
       "    </tr>\n",
       "    <tr>\n",
       "      <th>2</th>\n",
       "      <td>12/07/2023 13:38:44</td>\n",
       "      <td>{'C.P.': '02001', 'Dirección': 'AVENIDA 1º DE ...</td>\n",
       "      <td>Archivo de todos los productos en todas las es...</td>\n",
       "      <td>OK</td>\n",
       "    </tr>\n",
       "    <tr>\n",
       "      <th>3</th>\n",
       "      <td>12/07/2023 13:38:44</td>\n",
       "      <td>{'C.P.': '02001', 'Dirección': 'CALLE FEDERICO...</td>\n",
       "      <td>Archivo de todos los productos en todas las es...</td>\n",
       "      <td>OK</td>\n",
       "    </tr>\n",
       "    <tr>\n",
       "      <th>4</th>\n",
       "      <td>12/07/2023 13:38:44</td>\n",
       "      <td>{'C.P.': '02001', 'Dirección': 'CALLE FEDERICO...</td>\n",
       "      <td>Archivo de todos los productos en todas las es...</td>\n",
       "      <td>OK</td>\n",
       "    </tr>\n",
       "    <tr>\n",
       "      <th>...</th>\n",
       "      <td>...</td>\n",
       "      <td>...</td>\n",
       "      <td>...</td>\n",
       "      <td>...</td>\n",
       "    </tr>\n",
       "    <tr>\n",
       "      <th>11730</th>\n",
       "      <td>12/07/2023 13:38:44</td>\n",
       "      <td>{'C.P.': '50197', 'Dirección': 'RONDA FERIA DE...</td>\n",
       "      <td>Archivo de todos los productos en todas las es...</td>\n",
       "      <td>OK</td>\n",
       "    </tr>\n",
       "    <tr>\n",
       "      <th>11731</th>\n",
       "      <td>12/07/2023 13:38:44</td>\n",
       "      <td>{'C.P.': '50197', 'Dirección': 'RONDA RONDA DE...</td>\n",
       "      <td>Archivo de todos los productos en todas las es...</td>\n",
       "      <td>OK</td>\n",
       "    </tr>\n",
       "    <tr>\n",
       "      <th>11732</th>\n",
       "      <td>12/07/2023 13:38:44</td>\n",
       "      <td>{'C.P.': '50800', 'Dirección': 'CARRETERA N-33...</td>\n",
       "      <td>Archivo de todos los productos en todas las es...</td>\n",
       "      <td>OK</td>\n",
       "    </tr>\n",
       "    <tr>\n",
       "      <th>11733</th>\n",
       "      <td>12/07/2023 13:38:44</td>\n",
       "      <td>{'C.P.': '50800', 'Dirección': 'CALLE AUSTRIA,...</td>\n",
       "      <td>Archivo de todos los productos en todas las es...</td>\n",
       "      <td>OK</td>\n",
       "    </tr>\n",
       "    <tr>\n",
       "      <th>11734</th>\n",
       "      <td>12/07/2023 13:38:44</td>\n",
       "      <td>{'C.P.': '50810', 'Dirección': 'CALLE COOPERAT...</td>\n",
       "      <td>Archivo de todos los productos en todas las es...</td>\n",
       "      <td>OK</td>\n",
       "    </tr>\n",
       "  </tbody>\n",
       "</table>\n",
       "<p>11735 rows × 4 columns</p>\n",
       "</div>"
      ],
      "text/plain": [
       "                     Fecha                                    ListaEESSPrecio  \\\n",
       "0      12/07/2023 13:38:44  {'C.P.': '02250', 'Dirección': 'AVENIDA CASTIL...   \n",
       "1      12/07/2023 13:38:44  {'C.P.': '02001', 'Dirección': 'CALLE PRINCIPE...   \n",
       "2      12/07/2023 13:38:44  {'C.P.': '02001', 'Dirección': 'AVENIDA 1º DE ...   \n",
       "3      12/07/2023 13:38:44  {'C.P.': '02001', 'Dirección': 'CALLE FEDERICO...   \n",
       "4      12/07/2023 13:38:44  {'C.P.': '02001', 'Dirección': 'CALLE FEDERICO...   \n",
       "...                    ...                                                ...   \n",
       "11730  12/07/2023 13:38:44  {'C.P.': '50197', 'Dirección': 'RONDA FERIA DE...   \n",
       "11731  12/07/2023 13:38:44  {'C.P.': '50197', 'Dirección': 'RONDA RONDA DE...   \n",
       "11732  12/07/2023 13:38:44  {'C.P.': '50800', 'Dirección': 'CARRETERA N-33...   \n",
       "11733  12/07/2023 13:38:44  {'C.P.': '50800', 'Dirección': 'CALLE AUSTRIA,...   \n",
       "11734  12/07/2023 13:38:44  {'C.P.': '50810', 'Dirección': 'CALLE COOPERAT...   \n",
       "\n",
       "                                                    Nota ResultadoConsulta  \n",
       "0      Archivo de todos los productos en todas las es...                OK  \n",
       "1      Archivo de todos los productos en todas las es...                OK  \n",
       "2      Archivo de todos los productos en todas las es...                OK  \n",
       "3      Archivo de todos los productos en todas las es...                OK  \n",
       "4      Archivo de todos los productos en todas las es...                OK  \n",
       "...                                                  ...               ...  \n",
       "11730  Archivo de todos los productos en todas las es...                OK  \n",
       "11731  Archivo de todos los productos en todas las es...                OK  \n",
       "11732  Archivo de todos los productos en todas las es...                OK  \n",
       "11733  Archivo de todos los productos en todas las es...                OK  \n",
       "11734  Archivo de todos los productos en todas las es...                OK  \n",
       "\n",
       "[11735 rows x 4 columns]"
      ]
     },
     "execution_count": 5,
     "metadata": {},
     "output_type": "execute_result"
    }
   ],
   "source": [
    "# Crear Dataframe\n",
    "\n",
    "df = pd.DataFrame(data)\n",
    "df\n"
   ]
  },
  {
   "cell_type": "markdown",
   "id": "bf936489",
   "metadata": {},
   "source": [
    "---\n",
    "\n",
    "Step 2 (Data Transformation)"
   ]
  },
  {
   "cell_type": "code",
   "execution_count": 6,
   "id": "82a65952",
   "metadata": {},
   "outputs": [
    {
     "data": {
      "text/plain": [
       "dict"
      ]
     },
     "execution_count": 6,
     "metadata": {},
     "output_type": "execute_result"
    }
   ],
   "source": [
    "# Análisis de la columna Lista EESS Precio\n",
    "\n",
    "diccionario = df['ListaEESSPrecio'].iloc[1]\n",
    "type(diccionario)"
   ]
  },
  {
   "cell_type": "code",
   "execution_count": 7,
   "id": "3207dce3",
   "metadata": {},
   "outputs": [
    {
     "data": {
      "text/plain": [
       "{'C.P.': '02001',\n",
       " 'Dirección': 'CALLE PRINCIPE DE ASTURIAS (POLÍGONO DE ROMICA), 5',\n",
       " 'Horario': 'L-D: 06:00-21:30',\n",
       " 'Latitud': '39,054694',\n",
       " 'Localidad': 'ALBACETE',\n",
       " 'Longitud (WGS84)': '-1,832000',\n",
       " 'Margen': 'I',\n",
       " 'Municipio': 'Albacete',\n",
       " 'Precio Biodiesel': '',\n",
       " 'Precio Bioetanol': '',\n",
       " 'Precio Gas Natural Comprimido': '',\n",
       " 'Precio Gas Natural Licuado': '',\n",
       " 'Precio Gases licuados del petróleo': '',\n",
       " 'Precio Gasoleo A': '1,489',\n",
       " 'Precio Gasoleo B': '',\n",
       " 'Precio Gasoleo Premium': '1,579',\n",
       " 'Precio Gasolina 95 E10': '',\n",
       " 'Precio Gasolina 95 E5': '1,619',\n",
       " 'Precio Gasolina 95 E5 Premium': '',\n",
       " 'Precio Gasolina 98 E10': '',\n",
       " 'Precio Gasolina 98 E5': '1,761',\n",
       " 'Precio Hidrogeno': '',\n",
       " 'Provincia': 'ALBACETE',\n",
       " 'Remisión': 'OM',\n",
       " 'Rótulo': 'BP ROMICA',\n",
       " 'Tipo Venta': 'P',\n",
       " '% BioEtanol': '0,0',\n",
       " '% Éster metílico': '0,0',\n",
       " 'IDEESS': '12054',\n",
       " 'IDMunicipio': '54',\n",
       " 'IDProvincia': '02',\n",
       " 'IDCCAA': '07'}"
      ]
     },
     "execution_count": 7,
     "metadata": {},
     "output_type": "execute_result"
    }
   ],
   "source": [
    "diccionario"
   ]
  },
  {
   "cell_type": "code",
   "execution_count": 8,
   "id": "b1c814d5",
   "metadata": {
    "scrolled": true
   },
   "outputs": [
    {
     "data": {
      "text/html": [
       "<div>\n",
       "<style scoped>\n",
       "    .dataframe tbody tr th:only-of-type {\n",
       "        vertical-align: middle;\n",
       "    }\n",
       "\n",
       "    .dataframe tbody tr th {\n",
       "        vertical-align: top;\n",
       "    }\n",
       "\n",
       "    .dataframe thead th {\n",
       "        text-align: right;\n",
       "    }\n",
       "</style>\n",
       "<table border=\"1\" class=\"dataframe\">\n",
       "  <thead>\n",
       "    <tr style=\"text-align: right;\">\n",
       "      <th></th>\n",
       "      <th>Fecha</th>\n",
       "      <th>C.P.</th>\n",
       "      <th>Dirección</th>\n",
       "      <th>Horario</th>\n",
       "      <th>Latitud</th>\n",
       "      <th>Localidad</th>\n",
       "      <th>Longitud (WGS84)</th>\n",
       "      <th>Margen</th>\n",
       "      <th>Municipio</th>\n",
       "      <th>Precio Biodiesel</th>\n",
       "      <th>...</th>\n",
       "      <th>Provincia</th>\n",
       "      <th>Remisión</th>\n",
       "      <th>Rótulo</th>\n",
       "      <th>Tipo Venta</th>\n",
       "      <th>% BioEtanol</th>\n",
       "      <th>% Éster metílico</th>\n",
       "      <th>IDEESS</th>\n",
       "      <th>IDMunicipio</th>\n",
       "      <th>IDProvincia</th>\n",
       "      <th>IDCCAA</th>\n",
       "    </tr>\n",
       "  </thead>\n",
       "  <tbody>\n",
       "    <tr>\n",
       "      <th>0</th>\n",
       "      <td>12/07/2023 13:38:44</td>\n",
       "      <td>02250</td>\n",
       "      <td>AVENIDA CASTILLA LA MANCHA, 26</td>\n",
       "      <td>L-D: 07:00-22:00</td>\n",
       "      <td>39,211417</td>\n",
       "      <td>ABENGIBRE</td>\n",
       "      <td>-1,539167</td>\n",
       "      <td>D</td>\n",
       "      <td>Abengibre</td>\n",
       "      <td></td>\n",
       "      <td>...</td>\n",
       "      <td>ALBACETE</td>\n",
       "      <td>dm</td>\n",
       "      <td>Nº 10.935</td>\n",
       "      <td>P</td>\n",
       "      <td>0,0</td>\n",
       "      <td>0,0</td>\n",
       "      <td>4375</td>\n",
       "      <td>52</td>\n",
       "      <td>02</td>\n",
       "      <td>07</td>\n",
       "    </tr>\n",
       "    <tr>\n",
       "      <th>1</th>\n",
       "      <td>12/07/2023 13:38:44</td>\n",
       "      <td>02001</td>\n",
       "      <td>CALLE PRINCIPE DE ASTURIAS (POLÍGONO DE ROMICA...</td>\n",
       "      <td>L-D: 06:00-21:30</td>\n",
       "      <td>39,054694</td>\n",
       "      <td>ALBACETE</td>\n",
       "      <td>-1,832000</td>\n",
       "      <td>I</td>\n",
       "      <td>Albacete</td>\n",
       "      <td></td>\n",
       "      <td>...</td>\n",
       "      <td>ALBACETE</td>\n",
       "      <td>OM</td>\n",
       "      <td>BP ROMICA</td>\n",
       "      <td>P</td>\n",
       "      <td>0,0</td>\n",
       "      <td>0,0</td>\n",
       "      <td>12054</td>\n",
       "      <td>54</td>\n",
       "      <td>02</td>\n",
       "      <td>07</td>\n",
       "    </tr>\n",
       "    <tr>\n",
       "      <th>2</th>\n",
       "      <td>12/07/2023 13:38:44</td>\n",
       "      <td>02001</td>\n",
       "      <td>AVENIDA 1º DE MAYO, S/N</td>\n",
       "      <td>L-S: 08:00-22:00; D: 09:00-21:00</td>\n",
       "      <td>38,985667</td>\n",
       "      <td>ALBACETE</td>\n",
       "      <td>-1,868500</td>\n",
       "      <td>N</td>\n",
       "      <td>Albacete</td>\n",
       "      <td></td>\n",
       "      <td>...</td>\n",
       "      <td>ALBACETE</td>\n",
       "      <td>dm</td>\n",
       "      <td>CARREFOUR</td>\n",
       "      <td>P</td>\n",
       "      <td>0,0</td>\n",
       "      <td>0,0</td>\n",
       "      <td>10765</td>\n",
       "      <td>54</td>\n",
       "      <td>02</td>\n",
       "      <td>07</td>\n",
       "    </tr>\n",
       "    <tr>\n",
       "      <th>3</th>\n",
       "      <td>12/07/2023 13:38:44</td>\n",
       "      <td>02001</td>\n",
       "      <td>CALLE FEDERICO GARCIA LORCA, 5</td>\n",
       "      <td>L-S: 05:00-23:00</td>\n",
       "      <td>38,997722</td>\n",
       "      <td>ALBACETE</td>\n",
       "      <td>-1,846361</td>\n",
       "      <td>I</td>\n",
       "      <td>Albacete</td>\n",
       "      <td></td>\n",
       "      <td>...</td>\n",
       "      <td>ALBACETE</td>\n",
       "      <td>dm</td>\n",
       "      <td>CEPSA</td>\n",
       "      <td>R</td>\n",
       "      <td>0,0</td>\n",
       "      <td>0,0</td>\n",
       "      <td>4438</td>\n",
       "      <td>54</td>\n",
       "      <td>02</td>\n",
       "      <td>07</td>\n",
       "    </tr>\n",
       "    <tr>\n",
       "      <th>4</th>\n",
       "      <td>12/07/2023 13:38:44</td>\n",
       "      <td>02001</td>\n",
       "      <td>CALLE FEDERICO GARCIA LORCA, 1</td>\n",
       "      <td>L-D: 24H</td>\n",
       "      <td>39,000861</td>\n",
       "      <td>ALBACETE</td>\n",
       "      <td>-1,849833</td>\n",
       "      <td>D</td>\n",
       "      <td>Albacete</td>\n",
       "      <td></td>\n",
       "      <td>...</td>\n",
       "      <td>ALBACETE</td>\n",
       "      <td>dm</td>\n",
       "      <td>PLENOIL</td>\n",
       "      <td>P</td>\n",
       "      <td>0,0</td>\n",
       "      <td>0,0</td>\n",
       "      <td>13933</td>\n",
       "      <td>54</td>\n",
       "      <td>02</td>\n",
       "      <td>07</td>\n",
       "    </tr>\n",
       "    <tr>\n",
       "      <th>...</th>\n",
       "      <td>...</td>\n",
       "      <td>...</td>\n",
       "      <td>...</td>\n",
       "      <td>...</td>\n",
       "      <td>...</td>\n",
       "      <td>...</td>\n",
       "      <td>...</td>\n",
       "      <td>...</td>\n",
       "      <td>...</td>\n",
       "      <td>...</td>\n",
       "      <td>...</td>\n",
       "      <td>...</td>\n",
       "      <td>...</td>\n",
       "      <td>...</td>\n",
       "      <td>...</td>\n",
       "      <td>...</td>\n",
       "      <td>...</td>\n",
       "      <td>...</td>\n",
       "      <td>...</td>\n",
       "      <td>...</td>\n",
       "      <td>...</td>\n",
       "    </tr>\n",
       "    <tr>\n",
       "      <th>11730</th>\n",
       "      <td>12/07/2023 13:38:44</td>\n",
       "      <td>50197</td>\n",
       "      <td>RONDA FERIA DE MUESTRAS, DE LA, 20</td>\n",
       "      <td>L-D: 24H</td>\n",
       "      <td>41,637944</td>\n",
       "      <td>ZARAGOZA</td>\n",
       "      <td>-0,986389</td>\n",
       "      <td>D</td>\n",
       "      <td>Zaragoza</td>\n",
       "      <td></td>\n",
       "      <td>...</td>\n",
       "      <td>ZARAGOZA</td>\n",
       "      <td>OM</td>\n",
       "      <td>IDS</td>\n",
       "      <td>P</td>\n",
       "      <td>0,0</td>\n",
       "      <td>0,0</td>\n",
       "      <td>12472</td>\n",
       "      <td>8108</td>\n",
       "      <td>50</td>\n",
       "      <td>02</td>\n",
       "    </tr>\n",
       "    <tr>\n",
       "      <th>11731</th>\n",
       "      <td>12/07/2023 13:38:44</td>\n",
       "      <td>50197</td>\n",
       "      <td>RONDA RONDA DE LA FERIA DE MUESTRAS, 10</td>\n",
       "      <td>L-D: 24H</td>\n",
       "      <td>41,638361</td>\n",
       "      <td>ZARAGOZA</td>\n",
       "      <td>-0,987833</td>\n",
       "      <td>D</td>\n",
       "      <td>Zaragoza</td>\n",
       "      <td></td>\n",
       "      <td>...</td>\n",
       "      <td>ZARAGOZA</td>\n",
       "      <td>dm</td>\n",
       "      <td>MOLGAS</td>\n",
       "      <td>P</td>\n",
       "      <td>0,0</td>\n",
       "      <td>0,0</td>\n",
       "      <td>15747</td>\n",
       "      <td>8108</td>\n",
       "      <td>50</td>\n",
       "      <td>02</td>\n",
       "    </tr>\n",
       "    <tr>\n",
       "      <th>11732</th>\n",
       "      <td>12/07/2023 13:38:44</td>\n",
       "      <td>50800</td>\n",
       "      <td>CARRETERA N-330A KM. 24,000</td>\n",
       "      <td>L-D: 06:00-22:00</td>\n",
       "      <td>41,857000</td>\n",
       "      <td>ZUERA</td>\n",
       "      <td>-0,794000</td>\n",
       "      <td>D</td>\n",
       "      <td>Zuera</td>\n",
       "      <td></td>\n",
       "      <td>...</td>\n",
       "      <td>ZARAGOZA</td>\n",
       "      <td>OM</td>\n",
       "      <td>REPSOL</td>\n",
       "      <td>P</td>\n",
       "      <td>0,0</td>\n",
       "      <td>0,0</td>\n",
       "      <td>1452</td>\n",
       "      <td>8109</td>\n",
       "      <td>50</td>\n",
       "      <td>02</td>\n",
       "    </tr>\n",
       "    <tr>\n",
       "      <th>11733</th>\n",
       "      <td>12/07/2023 13:38:44</td>\n",
       "      <td>50800</td>\n",
       "      <td>CALLE AUSTRIA, 11,17</td>\n",
       "      <td>L-D: 24H</td>\n",
       "      <td>41,883583</td>\n",
       "      <td>ZUERA</td>\n",
       "      <td>-0,782833</td>\n",
       "      <td>D</td>\n",
       "      <td>Zuera</td>\n",
       "      <td></td>\n",
       "      <td>...</td>\n",
       "      <td>ZARAGOZA</td>\n",
       "      <td>dm</td>\n",
       "      <td>AN ENERGETICOS ZUERA</td>\n",
       "      <td>P</td>\n",
       "      <td>0,0</td>\n",
       "      <td>0,0</td>\n",
       "      <td>9085</td>\n",
       "      <td>8109</td>\n",
       "      <td>50</td>\n",
       "      <td>02</td>\n",
       "    </tr>\n",
       "    <tr>\n",
       "      <th>11734</th>\n",
       "      <td>12/07/2023 13:38:44</td>\n",
       "      <td>50810</td>\n",
       "      <td>CALLE COOPERATIVA, 2</td>\n",
       "      <td>L-D: 24H</td>\n",
       "      <td>41,938750</td>\n",
       "      <td>ONTINAR DE SALZ</td>\n",
       "      <td>-0,757611</td>\n",
       "      <td>D</td>\n",
       "      <td>Zuera</td>\n",
       "      <td></td>\n",
       "      <td>...</td>\n",
       "      <td>ZARAGOZA</td>\n",
       "      <td>dm</td>\n",
       "      <td>COOPERATIVA SAN ISIDRO</td>\n",
       "      <td>P</td>\n",
       "      <td>0,0</td>\n",
       "      <td>0,0</td>\n",
       "      <td>9068</td>\n",
       "      <td>8109</td>\n",
       "      <td>50</td>\n",
       "      <td>02</td>\n",
       "    </tr>\n",
       "  </tbody>\n",
       "</table>\n",
       "<p>11735 rows × 33 columns</p>\n",
       "</div>"
      ],
      "text/plain": [
       "                     Fecha   C.P.  \\\n",
       "0      12/07/2023 13:38:44  02250   \n",
       "1      12/07/2023 13:38:44  02001   \n",
       "2      12/07/2023 13:38:44  02001   \n",
       "3      12/07/2023 13:38:44  02001   \n",
       "4      12/07/2023 13:38:44  02001   \n",
       "...                    ...    ...   \n",
       "11730  12/07/2023 13:38:44  50197   \n",
       "11731  12/07/2023 13:38:44  50197   \n",
       "11732  12/07/2023 13:38:44  50800   \n",
       "11733  12/07/2023 13:38:44  50800   \n",
       "11734  12/07/2023 13:38:44  50810   \n",
       "\n",
       "                                               Dirección  \\\n",
       "0                         AVENIDA CASTILLA LA MANCHA, 26   \n",
       "1      CALLE PRINCIPE DE ASTURIAS (POLÍGONO DE ROMICA...   \n",
       "2                                AVENIDA 1º DE MAYO, S/N   \n",
       "3                         CALLE FEDERICO GARCIA LORCA, 5   \n",
       "4                         CALLE FEDERICO GARCIA LORCA, 1   \n",
       "...                                                  ...   \n",
       "11730                 RONDA FERIA DE MUESTRAS, DE LA, 20   \n",
       "11731            RONDA RONDA DE LA FERIA DE MUESTRAS, 10   \n",
       "11732                        CARRETERA N-330A KM. 24,000   \n",
       "11733                               CALLE AUSTRIA, 11,17   \n",
       "11734                               CALLE COOPERATIVA, 2   \n",
       "\n",
       "                                Horario    Latitud        Localidad  \\\n",
       "0                      L-D: 07:00-22:00  39,211417        ABENGIBRE   \n",
       "1                      L-D: 06:00-21:30  39,054694         ALBACETE   \n",
       "2      L-S: 08:00-22:00; D: 09:00-21:00  38,985667         ALBACETE   \n",
       "3                      L-S: 05:00-23:00  38,997722         ALBACETE   \n",
       "4                              L-D: 24H  39,000861         ALBACETE   \n",
       "...                                 ...        ...              ...   \n",
       "11730                          L-D: 24H  41,637944         ZARAGOZA   \n",
       "11731                          L-D: 24H  41,638361         ZARAGOZA   \n",
       "11732                  L-D: 06:00-22:00  41,857000            ZUERA   \n",
       "11733                          L-D: 24H  41,883583            ZUERA   \n",
       "11734                          L-D: 24H  41,938750  ONTINAR DE SALZ   \n",
       "\n",
       "      Longitud (WGS84) Margen  Municipio Precio Biodiesel  ... Provincia  \\\n",
       "0            -1,539167      D  Abengibre                   ...  ALBACETE   \n",
       "1            -1,832000      I   Albacete                   ...  ALBACETE   \n",
       "2            -1,868500      N   Albacete                   ...  ALBACETE   \n",
       "3            -1,846361      I   Albacete                   ...  ALBACETE   \n",
       "4            -1,849833      D   Albacete                   ...  ALBACETE   \n",
       "...                ...    ...        ...              ...  ...       ...   \n",
       "11730        -0,986389      D   Zaragoza                   ...  ZARAGOZA   \n",
       "11731        -0,987833      D   Zaragoza                   ...  ZARAGOZA   \n",
       "11732        -0,794000      D      Zuera                   ...  ZARAGOZA   \n",
       "11733        -0,782833      D      Zuera                   ...  ZARAGOZA   \n",
       "11734        -0,757611      D      Zuera                   ...  ZARAGOZA   \n",
       "\n",
       "      Remisión                  Rótulo Tipo Venta % BioEtanol  \\\n",
       "0           dm               Nº 10.935          P         0,0   \n",
       "1           OM               BP ROMICA          P         0,0   \n",
       "2           dm               CARREFOUR          P         0,0   \n",
       "3           dm                   CEPSA          R         0,0   \n",
       "4           dm                 PLENOIL          P         0,0   \n",
       "...        ...                     ...        ...         ...   \n",
       "11730       OM                     IDS          P         0,0   \n",
       "11731       dm                  MOLGAS          P         0,0   \n",
       "11732       OM                  REPSOL          P         0,0   \n",
       "11733       dm    AN ENERGETICOS ZUERA          P         0,0   \n",
       "11734       dm  COOPERATIVA SAN ISIDRO          P         0,0   \n",
       "\n",
       "      % Éster metílico IDEESS IDMunicipio IDProvincia IDCCAA  \n",
       "0                  0,0   4375          52          02     07  \n",
       "1                  0,0  12054          54          02     07  \n",
       "2                  0,0  10765          54          02     07  \n",
       "3                  0,0   4438          54          02     07  \n",
       "4                  0,0  13933          54          02     07  \n",
       "...                ...    ...         ...         ...    ...  \n",
       "11730              0,0  12472        8108          50     02  \n",
       "11731              0,0  15747        8108          50     02  \n",
       "11732              0,0   1452        8109          50     02  \n",
       "11733              0,0   9085        8109          50     02  \n",
       "11734              0,0   9068        8109          50     02  \n",
       "\n",
       "[11735 rows x 33 columns]"
      ]
     },
     "execution_count": 8,
     "metadata": {},
     "output_type": "execute_result"
    }
   ],
   "source": [
    "# Extraigo informacion de columna EESS Precio, utilizando json normalize\n",
    "\n",
    "df_n = pd.concat([df[['Fecha']],pd.json_normalize(df['ListaEESSPrecio'])], axis=1)\n",
    "df_n\n"
   ]
  },
  {
   "cell_type": "code",
   "execution_count": 9,
   "id": "90463003",
   "metadata": {},
   "outputs": [],
   "source": [
    "# Guardamos df original para sucesion de tiempo\n",
    "#df_n.to_csv('2022-11-05x.csv', index=False)"
   ]
  },
  {
   "cell_type": "code",
   "execution_count": 10,
   "id": "2d75fcc5",
   "metadata": {
    "scrolled": true
   },
   "outputs": [
    {
     "name": "stdout",
     "output_type": "stream",
     "text": [
      "<class 'pandas.core.frame.DataFrame'>\n",
      "RangeIndex: 11735 entries, 0 to 11734\n",
      "Data columns (total 33 columns):\n",
      " #   Column                              Non-Null Count  Dtype \n",
      "---  ------                              --------------  ----- \n",
      " 0   Fecha                               11735 non-null  object\n",
      " 1   C.P.                                11735 non-null  object\n",
      " 2   Dirección                           11735 non-null  object\n",
      " 3   Horario                             11735 non-null  object\n",
      " 4   Latitud                             11735 non-null  object\n",
      " 5   Localidad                           11735 non-null  object\n",
      " 6   Longitud (WGS84)                    11735 non-null  object\n",
      " 7   Margen                              11735 non-null  object\n",
      " 8   Municipio                           11735 non-null  object\n",
      " 9   Precio Biodiesel                    11735 non-null  object\n",
      " 10  Precio Bioetanol                    11735 non-null  object\n",
      " 11  Precio Gas Natural Comprimido       11735 non-null  object\n",
      " 12  Precio Gas Natural Licuado          11735 non-null  object\n",
      " 13  Precio Gases licuados del petróleo  11735 non-null  object\n",
      " 14  Precio Gasoleo A                    11735 non-null  object\n",
      " 15  Precio Gasoleo B                    11735 non-null  object\n",
      " 16  Precio Gasoleo Premium              11735 non-null  object\n",
      " 17  Precio Gasolina 95 E10              11735 non-null  object\n",
      " 18  Precio Gasolina 95 E5               11735 non-null  object\n",
      " 19  Precio Gasolina 95 E5 Premium       11735 non-null  object\n",
      " 20  Precio Gasolina 98 E10              11735 non-null  object\n",
      " 21  Precio Gasolina 98 E5               11735 non-null  object\n",
      " 22  Precio Hidrogeno                    11735 non-null  object\n",
      " 23  Provincia                           11735 non-null  object\n",
      " 24  Remisión                            11735 non-null  object\n",
      " 25  Rótulo                              11735 non-null  object\n",
      " 26  Tipo Venta                          11735 non-null  object\n",
      " 27  % BioEtanol                         11735 non-null  object\n",
      " 28  % Éster metílico                    11735 non-null  object\n",
      " 29  IDEESS                              11735 non-null  object\n",
      " 30  IDMunicipio                         11735 non-null  object\n",
      " 31  IDProvincia                         11735 non-null  object\n",
      " 32  IDCCAA                              11735 non-null  object\n",
      "dtypes: object(33)\n",
      "memory usage: 3.0+ MB\n"
     ]
    }
   ],
   "source": [
    "df_n.info()"
   ]
  },
  {
   "cell_type": "markdown",
   "id": "ee524e6e",
   "metadata": {},
   "source": [
    "---\n",
    "Step (3): EDA"
   ]
  },
  {
   "cell_type": "markdown",
   "id": "7027ceb6",
   "metadata": {},
   "source": [
    "                                                    Análisis de Columnas"
   ]
  },
  {
   "cell_type": "markdown",
   "id": "4deaad69",
   "metadata": {},
   "source": [
    "# Fecha"
   ]
  },
  {
   "cell_type": "code",
   "execution_count": 11,
   "id": "dd7735c8",
   "metadata": {},
   "outputs": [
    {
     "name": "stdout",
     "output_type": "stream",
     "text": [
      "<class 'numpy.ndarray'>\n",
      "1\n"
     ]
    },
    {
     "data": {
      "text/plain": [
       "array(['12/07/2023 13:38:44'], dtype=object)"
      ]
     },
     "execution_count": 11,
     "metadata": {},
     "output_type": "execute_result"
    }
   ],
   "source": [
    "# Fecha (solo hay una fecha)\n",
    "Fecha = df_n['Fecha'].unique()\n",
    "print(type(Fecha))\n",
    "print(len(Fecha))\n",
    "Fecha"
   ]
  },
  {
   "cell_type": "code",
   "execution_count": 12,
   "id": "5d054a1e",
   "metadata": {},
   "outputs": [
    {
     "data": {
      "text/plain": [
       "0"
      ]
     },
     "execution_count": 12,
     "metadata": {},
     "output_type": "execute_result"
    }
   ],
   "source": [
    "# Nulos \n",
    "nulos_f = df_n['Fecha'].isnull().sum()\n",
    "nulos_f"
   ]
  },
  {
   "cell_type": "markdown",
   "id": "addc43ab",
   "metadata": {},
   "source": [
    "# Código Postal"
   ]
  },
  {
   "cell_type": "code",
   "execution_count": 13,
   "id": "603eca2d",
   "metadata": {},
   "outputs": [
    {
     "name": "stdout",
     "output_type": "stream",
     "text": [
      "<class 'numpy.ndarray'>\n",
      "4508\n"
     ]
    },
    {
     "data": {
      "text/plain": [
       "array(['02250', '02001', '02005', ..., '50197', '50800', '50810'],\n",
       "      dtype=object)"
      ]
     },
     "execution_count": 13,
     "metadata": {},
     "output_type": "execute_result"
    }
   ],
   "source": [
    "# Columna C.P.\n",
    "cp = df_n['C.P.'].unique()\n",
    "print(type(cp))\n",
    "print(len(cp))\n",
    "cp\n",
    "# En Esaña hay 11752 codigos postales en total"
   ]
  },
  {
   "cell_type": "code",
   "execution_count": 14,
   "id": "de4b57fa",
   "metadata": {},
   "outputs": [
    {
     "data": {
      "text/plain": [
       "0"
      ]
     },
     "execution_count": 14,
     "metadata": {},
     "output_type": "execute_result"
    }
   ],
   "source": [
    "# Nulos \n",
    "nulos_cp = df_n['C.P.'].isnull().sum()\n",
    "nulos_cp"
   ]
  },
  {
   "cell_type": "markdown",
   "id": "cd713bcb",
   "metadata": {},
   "source": [
    "# Dirección"
   ]
  },
  {
   "cell_type": "code",
   "execution_count": 15,
   "id": "3ce78674",
   "metadata": {},
   "outputs": [
    {
     "name": "stdout",
     "output_type": "stream",
     "text": [
      "<class 'numpy.ndarray'>\n",
      "11414\n"
     ]
    },
    {
     "data": {
      "text/plain": [
       "array(['AVENIDA CASTILLA LA MANCHA, 26',\n",
       "       'CALLE PRINCIPE DE ASTURIAS (POLÍGONO DE ROMICA), 5',\n",
       "       'AVENIDA 1º DE MAYO, S/N', ...,\n",
       "       'RONDA RONDA DE LA FERIA DE MUESTRAS, 10',\n",
       "       'CARRETERA N-330A KM. 24,000', 'CALLE AUSTRIA, 11,17'],\n",
       "      dtype=object)"
      ]
     },
     "execution_count": 15,
     "metadata": {},
     "output_type": "execute_result"
    }
   ],
   "source": [
    "# Columna  Dirección\n",
    "direccion = df_n['Dirección'].unique()\n",
    "print(type(direccion))\n",
    "print(len(direccion))\n",
    "direccion\n"
   ]
  },
  {
   "cell_type": "code",
   "execution_count": 16,
   "id": "e1030055",
   "metadata": {},
   "outputs": [
    {
     "data": {
      "text/plain": [
       "0"
      ]
     },
     "execution_count": 16,
     "metadata": {},
     "output_type": "execute_result"
    }
   ],
   "source": [
    "# Nulos dirección\n",
    "nulos_cp = df_n['Dirección'].isnull().sum()\n",
    "nulos_cp"
   ]
  },
  {
   "cell_type": "markdown",
   "id": "b540d156",
   "metadata": {},
   "source": [
    "# Horario"
   ]
  },
  {
   "cell_type": "code",
   "execution_count": 17,
   "id": "d951b048",
   "metadata": {},
   "outputs": [
    {
     "data": {
      "text/plain": [
       "array(['L-D: 07:00-22:00', 'L-D: 06:00-21:30',\n",
       "       'L-S: 08:00-22:00; D: 09:00-21:00', ...,\n",
       "       'L-V: 06:00-21:00; S-D: 08:00-15:00',\n",
       "       'L-V: 08:00-22:30; S: 10:00-22:30',\n",
       "       'L-V: 05:00-22:00; S-D: 08:00-22:00'], dtype=object)"
      ]
     },
     "execution_count": 17,
     "metadata": {},
     "output_type": "execute_result"
    }
   ],
   "source": [
    "# Horario\n",
    "horario = df_n['Horario'].unique()\n",
    "horario"
   ]
  },
  {
   "cell_type": "code",
   "execution_count": 18,
   "id": "6cb34506",
   "metadata": {},
   "outputs": [
    {
     "data": {
      "text/plain": [
       "0"
      ]
     },
     "execution_count": 18,
     "metadata": {},
     "output_type": "execute_result"
    }
   ],
   "source": [
    "# Nulos horario\n",
    "nulos_h = df_n['Horario'].isnull().sum()\n",
    "nulos_h"
   ]
  },
  {
   "cell_type": "markdown",
   "id": "129d07e9",
   "metadata": {},
   "source": [
    "# Latitud"
   ]
  },
  {
   "cell_type": "code",
   "execution_count": 19,
   "id": "aa9399ed",
   "metadata": {},
   "outputs": [
    {
     "name": "stdout",
     "output_type": "stream",
     "text": [
      "11373\n"
     ]
    },
    {
     "data": {
      "text/plain": [
       "array(['39,211417', '39,054694', '38,985667', ..., '41,857000',\n",
       "       '41,883583', '41,938750'], dtype=object)"
      ]
     },
     "execution_count": 19,
     "metadata": {},
     "output_type": "execute_result"
    }
   ],
   "source": [
    "#Latitud (Coincide Latitud y Longitud con las coordenadas en las gasolineras de Google Maps)\n",
    "latitud = df_n['Latitud'].unique()\n",
    "print(len(latitud ))\n",
    "latitud\n"
   ]
  },
  {
   "cell_type": "code",
   "execution_count": 20,
   "id": "b12f974a",
   "metadata": {},
   "outputs": [
    {
     "data": {
      "text/plain": [
       "0"
      ]
     },
     "execution_count": 20,
     "metadata": {},
     "output_type": "execute_result"
    }
   ],
   "source": [
    "# Nulos Latitud\n",
    "nulos_l = df_n['Latitud'].isnull().sum()\n",
    "nulos_l"
   ]
  },
  {
   "cell_type": "markdown",
   "id": "14f71694",
   "metadata": {},
   "source": [
    "# Longitud"
   ]
  },
  {
   "cell_type": "code",
   "execution_count": 21,
   "id": "26f3092e",
   "metadata": {
    "scrolled": true
   },
   "outputs": [
    {
     "name": "stdout",
     "output_type": "stream",
     "text": [
      "11494\n"
     ]
    },
    {
     "data": {
      "text/plain": [
       "array(['-1,539167', '-1,832000', '-1,868500', ..., '-0,794000',\n",
       "       '-0,782833', '-0,757611'], dtype=object)"
      ]
     },
     "execution_count": 21,
     "metadata": {},
     "output_type": "execute_result"
    }
   ],
   "source": [
    "# Longitud (Coincide Latitud y Longitud con las coordenadas en las gasolineras de Google Maps)\n",
    "Longitud = df_n['Longitud (WGS84)'].unique()\n",
    "print(len(Longitud))\n",
    "Longitud\n"
   ]
  },
  {
   "cell_type": "code",
   "execution_count": 22,
   "id": "e018ad91",
   "metadata": {},
   "outputs": [
    {
     "data": {
      "text/plain": [
       "0"
      ]
     },
     "execution_count": 22,
     "metadata": {},
     "output_type": "execute_result"
    }
   ],
   "source": [
    "# Nulos Longitud\n",
    "nulos_long = df_n['Longitud (WGS84)'].isnull().sum()\n",
    "nulos_long"
   ]
  },
  {
   "cell_type": "markdown",
   "id": "baaa7f76",
   "metadata": {},
   "source": [
    "# Localidad"
   ]
  },
  {
   "cell_type": "code",
   "execution_count": 23,
   "id": "05337df3",
   "metadata": {},
   "outputs": [
    {
     "name": "stdout",
     "output_type": "stream",
     "text": [
      "4203\n"
     ]
    },
    {
     "data": {
      "text/plain": [
       "array(['ABENGIBRE', 'ALBACETE', 'SANTA ANA', ..., 'VILLARRAPA', 'ZUERA',\n",
       "       'ONTINAR DE SALZ'], dtype=object)"
      ]
     },
     "execution_count": 23,
     "metadata": {},
     "output_type": "execute_result"
    }
   ],
   "source": [
    "#Localidad\n",
    "Localidad = df_n['Localidad'].unique()\n",
    "print(len(Localidad))\n",
    "Localidad"
   ]
  },
  {
   "cell_type": "code",
   "execution_count": 24,
   "id": "46fae344",
   "metadata": {},
   "outputs": [
    {
     "data": {
      "text/plain": [
       "0"
      ]
     },
     "execution_count": 24,
     "metadata": {},
     "output_type": "execute_result"
    }
   ],
   "source": [
    "# Nulos Localidad\n",
    "nulos_loc = df_n['Localidad'].isnull().sum()\n",
    "nulos_loc"
   ]
  },
  {
   "cell_type": "markdown",
   "id": "8fa3baee",
   "metadata": {},
   "source": [
    "# Municipio "
   ]
  },
  {
   "cell_type": "code",
   "execution_count": 25,
   "id": "0e69e607",
   "metadata": {},
   "outputs": [
    {
     "name": "stdout",
     "output_type": "stream",
     "text": [
      "3402\n"
     ]
    },
    {
     "data": {
      "text/plain": [
       "array(['Abengibre', 'Albacete', 'Alcadozo', ...,\n",
       "       'Villarroya de la Sierra', 'Zaragoza', 'Zuera'], dtype=object)"
      ]
     },
     "execution_count": 25,
     "metadata": {},
     "output_type": "execute_result"
    }
   ],
   "source": [
    "# Municipio (En España hay 8131 Municipios)\n",
    "Municipio = df_n['Municipio'].unique() \n",
    "print(len(Municipio))\n",
    "Municipio\n",
    "\n"
   ]
  },
  {
   "cell_type": "code",
   "execution_count": 26,
   "id": "223081b3",
   "metadata": {},
   "outputs": [
    {
     "data": {
      "text/plain": [
       "0"
      ]
     },
     "execution_count": 26,
     "metadata": {},
     "output_type": "execute_result"
    }
   ],
   "source": [
    "# Nulos Municipio\n",
    "nulos_loc = df_n['Municipio'].isnull().sum()\n",
    "nulos_loc"
   ]
  },
  {
   "cell_type": "markdown",
   "id": "cc6b303b",
   "metadata": {},
   "source": [
    "# Margen"
   ]
  },
  {
   "cell_type": "code",
   "execution_count": 27,
   "id": "cf022a39",
   "metadata": {},
   "outputs": [
    {
     "name": "stdout",
     "output_type": "stream",
     "text": [
      "3\n"
     ]
    },
    {
     "data": {
      "text/plain": [
       "array(['D', 'I', 'N'], dtype=object)"
      ]
     },
     "execution_count": 27,
     "metadata": {},
     "output_type": "execute_result"
    }
   ],
   "source": [
    "# Margen\n",
    "Margen = df_n['Margen'].unique()\n",
    "print(len(Margen))\n",
    "Margen"
   ]
  },
  {
   "cell_type": "markdown",
   "id": "2d2ea3bb",
   "metadata": {},
   "source": [
    "# Provincia "
   ]
  },
  {
   "cell_type": "code",
   "execution_count": 28,
   "id": "e1fa2d5f",
   "metadata": {},
   "outputs": [
    {
     "name": "stdout",
     "output_type": "stream",
     "text": [
      "52\n"
     ]
    },
    {
     "data": {
      "text/plain": [
       "array(['ALBACETE', 'ALICANTE', 'ALMERÍA', 'ARABA/ÁLAVA', 'ASTURIAS',\n",
       "       'ÁVILA', 'BADAJOZ', 'BALEARS (ILLES)', 'BARCELONA', 'BIZKAIA',\n",
       "       'BURGOS', 'CÁCERES', 'CÁDIZ', 'CANTABRIA', 'CASTELLÓN / CASTELLÓ',\n",
       "       'CEUTA', 'CIUDAD REAL', 'CÓRDOBA', 'CORUÑA (A)', 'CUENCA',\n",
       "       'GIPUZKOA', 'GIRONA', 'GRANADA', 'GUADALAJARA', 'HUELVA', 'HUESCA',\n",
       "       'JAÉN', 'LEÓN', 'LLEIDA', 'LUGO', 'MADRID', 'MÁLAGA', 'MELILLA',\n",
       "       'MURCIA', 'NAVARRA', 'OURENSE', 'PALENCIA', 'PALMAS (LAS)',\n",
       "       'PONTEVEDRA', 'RIOJA (LA)', 'SALAMANCA', 'SANTA CRUZ DE TENERIFE',\n",
       "       'SEGOVIA', 'SEVILLA', 'SORIA', 'TARRAGONA', 'TERUEL', 'TOLEDO',\n",
       "       'VALENCIA / VALÈNCIA', 'VALLADOLID', 'ZAMORA', 'ZARAGOZA'],\n",
       "      dtype=object)"
      ]
     },
     "execution_count": 28,
     "metadata": {},
     "output_type": "execute_result"
    }
   ],
   "source": [
    "# Provincia (Están todas las Provinicas de España en nuestro df)\n",
    "Provincia = df_n['Provincia'].unique()\n",
    "print(len(Provincia))\n",
    "Provincia"
   ]
  },
  {
   "cell_type": "code",
   "execution_count": 29,
   "id": "b27108a2",
   "metadata": {},
   "outputs": [
    {
     "data": {
      "text/plain": [
       "0"
      ]
     },
     "execution_count": 29,
     "metadata": {},
     "output_type": "execute_result"
    }
   ],
   "source": [
    "# Nulos Provincia\n",
    "nulos_prov = df_n['Provincia'].isnull().sum()\n",
    "nulos_prov"
   ]
  },
  {
   "cell_type": "markdown",
   "id": "722a58a1",
   "metadata": {},
   "source": [
    "# Remision"
   ]
  },
  {
   "cell_type": "code",
   "execution_count": 30,
   "id": "78c3b1c9",
   "metadata": {},
   "outputs": [
    {
     "name": "stdout",
     "output_type": "stream",
     "text": [
      "2\n",
      "<class 'numpy.ndarray'>\n"
     ]
    },
    {
     "data": {
      "text/plain": [
       "array(['dm', 'OM'], dtype=object)"
      ]
     },
     "execution_count": 30,
     "metadata": {},
     "output_type": "execute_result"
    }
   ],
   "source": [
    "# Remisión (Sistema de envío de información de precios y de ventas a través de API)\n",
    "Remision = df_n['Remisión'].unique()\n",
    "print(len(Remision))\n",
    "print(type(Remision))\n",
    "Remision"
   ]
  },
  {
   "cell_type": "markdown",
   "id": "cc886f49",
   "metadata": {},
   "source": [
    "# Rótulo"
   ]
  },
  {
   "cell_type": "code",
   "execution_count": 31,
   "id": "8157f57d",
   "metadata": {},
   "outputs": [
    {
     "name": "stdout",
     "output_type": "stream",
     "text": [
      "3999\n",
      "<class 'numpy.ndarray'>\n"
     ]
    },
    {
     "data": {
      "text/plain": [
       "array(['Nº 10.935', 'BP ROMICA', 'CARREFOUR', ..., 'DAGO',\n",
       "       'COOPERATIVA SAN LAMBERTO', 'AN ENERGETICOS ZUERA'], dtype=object)"
      ]
     },
     "execution_count": 31,
     "metadata": {},
     "output_type": "execute_result"
    }
   ],
   "source": [
    "# Rótulo (En España hay 3952 marcas de Gasolineras en España según datos de Google)\n",
    "Rotulo = df_n['Rótulo'].unique()\n",
    "print(len(Rotulo))\n",
    "print(type(Rotulo))\n",
    "Rotulo\n"
   ]
  },
  {
   "cell_type": "markdown",
   "id": "676ec408",
   "metadata": {},
   "source": [
    "# Tipo de Venta"
   ]
  },
  {
   "cell_type": "code",
   "execution_count": 32,
   "id": "7b2d09eb",
   "metadata": {},
   "outputs": [
    {
     "name": "stdout",
     "output_type": "stream",
     "text": [
      "2\n",
      "<class 'numpy.ndarray'>\n"
     ]
    },
    {
     "data": {
      "text/plain": [
       "array(['P', 'R'], dtype=object)"
      ]
     },
     "execution_count": 32,
     "metadata": {},
     "output_type": "execute_result"
    }
   ],
   "source": [
    "# Tipo Venta\n",
    "tv = df_n['Tipo Venta'].unique()\n",
    "print(len(tv))\n",
    "print(type(tv))\n",
    "tv"
   ]
  },
  {
   "cell_type": "markdown",
   "id": "7aad165f",
   "metadata": {},
   "source": [
    "# Porcentaje de Bioetanol"
   ]
  },
  {
   "cell_type": "code",
   "execution_count": 33,
   "id": "95e6e4b0",
   "metadata": {},
   "outputs": [
    {
     "name": "stdout",
     "output_type": "stream",
     "text": [
      "3\n",
      "<class 'numpy.ndarray'>\n"
     ]
    },
    {
     "data": {
      "text/plain": [
       "array(['0,0', '25,0', '85,0'], dtype=object)"
      ]
     },
     "execution_count": 33,
     "metadata": {},
     "output_type": "execute_result"
    }
   ],
   "source": [
    "# % BioEtanol (La diferencia entre gasolinas E5 o E10 significan el porcentaje de Etanol (5 o 10%))\n",
    "bioetanol = df_n['% BioEtanol'].unique()\n",
    "print(len(bioetanol))\n",
    "print(type(bioetanol))\n",
    "bioetanol"
   ]
  },
  {
   "cell_type": "markdown",
   "id": "54c7afc2",
   "metadata": {},
   "source": [
    "# Porcentaje de Éster Metílico"
   ]
  },
  {
   "cell_type": "code",
   "execution_count": 34,
   "id": "19aff9d9",
   "metadata": {},
   "outputs": [
    {
     "name": "stdout",
     "output_type": "stream",
     "text": [
      "6\n",
      "<class 'numpy.ndarray'>\n"
     ]
    },
    {
     "data": {
      "text/plain": [
       "array(['0,0', '7,0', '12,0', '20,0', '30,0', '10,0'], dtype=object)"
      ]
     },
     "execution_count": 34,
     "metadata": {},
     "output_type": "execute_result"
    }
   ],
   "source": [
    "# % Éster metílico (solo para Biodiesel)\n",
    "em = df_n['% Éster metílico'].unique()\n",
    "print(len(em))\n",
    "print(type(em))\n",
    "em"
   ]
  },
  {
   "cell_type": "markdown",
   "id": "e1bfb0ff",
   "metadata": {},
   "source": [
    "#  IDEESS"
   ]
  },
  {
   "cell_type": "code",
   "execution_count": 35,
   "id": "1bcc7c30",
   "metadata": {},
   "outputs": [
    {
     "name": "stdout",
     "output_type": "stream",
     "text": [
      "11735\n"
     ]
    },
    {
     "data": {
      "text/plain": [
       "array(['4375', '12054', '10765', ..., '1452', '9085', '9068'],\n",
       "      dtype=object)"
      ]
     },
     "execution_count": 35,
     "metadata": {},
     "output_type": "execute_result"
    }
   ],
   "source": [
    "# IDEESS (ID Estación de Servicio, los mismos que estaciones (filas))\n",
    "IDEESS = df_n['IDEESS'].unique()\n",
    "print(len(IDEESS))\n",
    "type(IDEESS)\n",
    "IDEESS "
   ]
  },
  {
   "cell_type": "code",
   "execution_count": 36,
   "id": "89c026f2",
   "metadata": {},
   "outputs": [
    {
     "data": {
      "text/plain": [
       "0"
      ]
     },
     "execution_count": 36,
     "metadata": {},
     "output_type": "execute_result"
    }
   ],
   "source": [
    "# Nulos IDEESS\n",
    "nulos_IDEESS = df_n['IDEESS'].isnull().sum()\n",
    "nulos_IDEESS"
   ]
  },
  {
   "cell_type": "markdown",
   "id": "48e885d2",
   "metadata": {},
   "source": [
    "# ID Municipio"
   ]
  },
  {
   "cell_type": "code",
   "execution_count": 37,
   "id": "7dc3d12d",
   "metadata": {},
   "outputs": [
    {
     "name": "stdout",
     "output_type": "stream",
     "text": [
      "3403\n"
     ]
    },
    {
     "data": {
      "text/plain": [
       "array(['52', '54', '57', ..., '8103', '8108', '8109'], dtype=object)"
      ]
     },
     "execution_count": 37,
     "metadata": {},
     "output_type": "execute_result"
    }
   ],
   "source": [
    "# IDMunicipio (un ID más que municipios)\n",
    "idmun = df_n['IDMunicipio'].unique()\n",
    "print(len(idmun))\n",
    "type(idmun)\n",
    "idmun"
   ]
  },
  {
   "cell_type": "code",
   "execution_count": 38,
   "id": "c857c488",
   "metadata": {},
   "outputs": [
    {
     "data": {
      "text/plain": [
       "0"
      ]
     },
     "execution_count": 38,
     "metadata": {},
     "output_type": "execute_result"
    }
   ],
   "source": [
    "# Nulos ID Municipio\n",
    "nulos_IDMunicipio = df_n['IDMunicipio'].isnull().sum()\n",
    "nulos_IDMunicipio"
   ]
  },
  {
   "cell_type": "markdown",
   "id": "6568aaff",
   "metadata": {},
   "source": [
    "# ID Provincia"
   ]
  },
  {
   "cell_type": "code",
   "execution_count": 39,
   "id": "896e7bf1",
   "metadata": {},
   "outputs": [
    {
     "name": "stdout",
     "output_type": "stream",
     "text": [
      "52\n"
     ]
    },
    {
     "data": {
      "text/plain": [
       "array(['02', '03', '04', '01', '33', '05', '06', '07', '08', '48', '09',\n",
       "       '10', '11', '39', '12', '51', '13', '14', '15', '16', '20', '17',\n",
       "       '18', '19', '21', '22', '23', '24', '25', '27', '28', '29', '52',\n",
       "       '30', '31', '32', '34', '35', '36', '26', '37', '38', '40', '41',\n",
       "       '42', '43', '44', '45', '46', '47', '49', '50'], dtype=object)"
      ]
     },
     "execution_count": 39,
     "metadata": {},
     "output_type": "execute_result"
    }
   ],
   "source": [
    "# IDProvincia (Los mismos ID que Provincias)\n",
    "idprov = df_n['IDProvincia'].unique()\n",
    "print(len(idprov))\n",
    "type(idprov)\n",
    "idprov"
   ]
  },
  {
   "cell_type": "code",
   "execution_count": 40,
   "id": "0383161f",
   "metadata": {},
   "outputs": [
    {
     "data": {
      "text/plain": [
       "0"
      ]
     },
     "execution_count": 40,
     "metadata": {},
     "output_type": "execute_result"
    }
   ],
   "source": [
    "nulos_IDProvincia = df_n['IDProvincia'].isnull().sum()\n",
    "nulos_IDProvincia"
   ]
  },
  {
   "cell_type": "markdown",
   "id": "f0203c4c",
   "metadata": {},
   "source": [
    "# ID CCAA"
   ]
  },
  {
   "cell_type": "code",
   "execution_count": 41,
   "id": "cc731089",
   "metadata": {},
   "outputs": [
    {
     "name": "stdout",
     "output_type": "stream",
     "text": [
      "19\n"
     ]
    },
    {
     "data": {
      "text/plain": [
       "array(['07', '10', '01', '16', '03', '08', '11', '04', '09', '06', '18',\n",
       "       '12', '02', '13', '19', '14', '15', '05', '17'], dtype=object)"
      ]
     },
     "execution_count": 41,
     "metadata": {},
     "output_type": "execute_result"
    }
   ],
   "source": [
    "# IDCCAA (ID Comunidades Autónomas, 17 CCAA + Ceuta + Melilla)\n",
    "# IDProvincia (Los mismos ID que Provincias)\n",
    "idccaa = df_n['IDCCAA'].unique()\n",
    "print(len(idccaa))\n",
    "type(idccaa)\n",
    "idccaa"
   ]
  },
  {
   "cell_type": "markdown",
   "id": "4cf497b1",
   "metadata": {},
   "source": [
    "                                                Columnas Numéricas\n",
    "                                                "
   ]
  },
  {
   "cell_type": "markdown",
   "id": "cd72e5ad",
   "metadata": {},
   "source": [
    "# Biodiesel"
   ]
  },
  {
   "cell_type": "code",
   "execution_count": 42,
   "id": "01c87a0e",
   "metadata": {},
   "outputs": [
    {
     "name": "stdout",
     "output_type": "stream",
     "text": [
      "25\n",
      "<class 'numpy.ndarray'>\n"
     ]
    },
    {
     "data": {
      "text/plain": [
       "array(['', '1,329', '1,999', '1,629', '1,499', '1,269', '1,259', '1,299',\n",
       "       '1,339', '1,399', '1,359', '1,418', '1,369', '1,504', '1,519',\n",
       "       '1,869', '1,559', '1,389', '1,799', '1,699', '1,470', '1,279',\n",
       "       '1,199', '1,169', '1,444'], dtype=object)"
      ]
     },
     "execution_count": 42,
     "metadata": {},
     "output_type": "execute_result"
    }
   ],
   "source": [
    "Biodiesel = df_n['Precio Biodiesel'].unique()\n",
    "print(len(Biodiesel))\n",
    "print(type(Biodiesel))\n",
    "Biodiesel"
   ]
  },
  {
   "cell_type": "code",
   "execution_count": 43,
   "id": "c1172885",
   "metadata": {},
   "outputs": [],
   "source": [
    "# Convertimos columna categórica a numérica\n",
    "df_n['Precio Biodiesel']=df_n['Precio Biodiesel'].str.replace(',','.')\n",
    "df_n[['Precio Biodiesel']]=df_n[['Precio Biodiesel']].apply(pd.to_numeric)"
   ]
  },
  {
   "cell_type": "code",
   "execution_count": 44,
   "id": "3ba01c1b",
   "metadata": {},
   "outputs": [
    {
     "data": {
      "text/plain": [
       "count    34.000000\n",
       "mean      1.423412\n",
       "std       0.187236\n",
       "min       1.169000\n",
       "25%       1.306500\n",
       "50%       1.369000\n",
       "75%       1.491750\n",
       "max       1.999000\n",
       "Name: Precio Biodiesel, dtype: float64"
      ]
     },
     "execution_count": 44,
     "metadata": {},
     "output_type": "execute_result"
    }
   ],
   "source": [
    "df_n['Precio Biodiesel'].describe()\n"
   ]
  },
  {
   "cell_type": "code",
   "execution_count": 45,
   "id": "0b00d7af",
   "metadata": {},
   "outputs": [
    {
     "data": {
      "text/plain": [
       "11701"
      ]
     },
     "execution_count": 45,
     "metadata": {},
     "output_type": "execute_result"
    }
   ],
   "source": [
    "# Registros sin venta Biodiesel\n",
    "sin_suministro_b = df_n['Precio Biodiesel'].isnull().sum()\n",
    "sin_suministro_b"
   ]
  },
  {
   "cell_type": "markdown",
   "id": "fd2b4066",
   "metadata": {},
   "source": [
    "## Precio Bioetanol "
   ]
  },
  {
   "cell_type": "code",
   "execution_count": 46,
   "id": "edbcaac9",
   "metadata": {},
   "outputs": [
    {
     "name": "stdout",
     "output_type": "stream",
     "text": [
      "5\n",
      "<class 'numpy.ndarray'>\n"
     ]
    },
    {
     "data": {
      "text/plain": [
       "array(['', '1,979', '1,882', '2,499', '1,689'], dtype=object)"
      ]
     },
     "execution_count": 46,
     "metadata": {},
     "output_type": "execute_result"
    }
   ],
   "source": [
    "Bioetanol = df_n['Precio Bioetanol'].unique()\n",
    "print(len(Bioetanol))\n",
    "print(type(Bioetanol))\n",
    "Bioetanol"
   ]
  },
  {
   "cell_type": "code",
   "execution_count": 47,
   "id": "3f6be22e",
   "metadata": {},
   "outputs": [],
   "source": [
    "# Convertimos columna categórica a numérica\n",
    "df_n['Precio Bioetanol']=df_n['Precio Bioetanol'].str.replace(',','.')\n",
    "df_n[['Precio Bioetanol']]=df_n[['Precio Bioetanol']].apply(pd.to_numeric)"
   ]
  },
  {
   "cell_type": "code",
   "execution_count": 48,
   "id": "336b94fa",
   "metadata": {},
   "outputs": [
    {
     "data": {
      "text/plain": [
       "count    4.000000\n",
       "mean     2.012250\n",
       "std      0.346163\n",
       "min      1.689000\n",
       "25%      1.833750\n",
       "50%      1.930500\n",
       "75%      2.109000\n",
       "max      2.499000\n",
       "Name: Precio Bioetanol, dtype: float64"
      ]
     },
     "execution_count": 48,
     "metadata": {},
     "output_type": "execute_result"
    }
   ],
   "source": [
    "df_n['Precio Bioetanol'].describe()"
   ]
  },
  {
   "cell_type": "code",
   "execution_count": 49,
   "id": "8614e236",
   "metadata": {},
   "outputs": [
    {
     "data": {
      "text/plain": [
       "11731"
      ]
     },
     "execution_count": 49,
     "metadata": {},
     "output_type": "execute_result"
    }
   ],
   "source": [
    "# Registros sin venta Biodiesel\n",
    "sin_suministro_be = df_n['Precio Bioetanol'].isnull().sum()\n",
    "sin_suministro_be"
   ]
  },
  {
   "cell_type": "markdown",
   "id": "de4c6c51",
   "metadata": {},
   "source": [
    "## Precio Gas Natural Comprimido"
   ]
  },
  {
   "cell_type": "code",
   "execution_count": 50,
   "id": "b2824198",
   "metadata": {},
   "outputs": [
    {
     "name": "stdout",
     "output_type": "stream",
     "text": [
      "32\n",
      "<class 'numpy.ndarray'>\n"
     ]
    },
    {
     "data": {
      "text/plain": [
       "array(['', '1,119', '1,039', '0,979', '1,120', '1,059', '0,939', '1,014',\n",
       "       '1,299', '0,974', '1,099', '1,199', '1,159', '1,069', '1,000',\n",
       "       '1,035', '0,989', '1,565', '1,189', '0,994', '1,079', '1,169',\n",
       "       '1,339', '0,999', '0,969', '1,015', '1,009', '1,179', '1,034',\n",
       "       '2,350', '1,937', '1,049'], dtype=object)"
      ]
     },
     "execution_count": 50,
     "metadata": {},
     "output_type": "execute_result"
    }
   ],
   "source": [
    "Gas_n_c = df_n['Precio Gas Natural Comprimido'].unique()\n",
    "print(len(Gas_n_c))\n",
    "print(type(Gas_n_c))\n",
    "Gas_n_c"
   ]
  },
  {
   "cell_type": "code",
   "execution_count": 51,
   "id": "1ac50945",
   "metadata": {},
   "outputs": [],
   "source": [
    "# Convertimos columna categórica a numérica\n",
    "df_n['Precio Gas Natural Comprimido']=df_n['Precio Gas Natural Comprimido'].str.replace(',','.')\n",
    "df_n[['Precio Gas Natural Comprimido']]=df_n[['Precio Gas Natural Comprimido']].apply(pd.to_numeric)"
   ]
  },
  {
   "cell_type": "code",
   "execution_count": 52,
   "id": "1f65143d",
   "metadata": {},
   "outputs": [
    {
     "data": {
      "text/plain": [
       "count    141.000000\n",
       "mean       1.111241\n",
       "std        0.169910\n",
       "min        0.939000\n",
       "25%        1.039000\n",
       "50%        1.099000\n",
       "75%        1.120000\n",
       "max        2.350000\n",
       "Name: Precio Gas Natural Comprimido, dtype: float64"
      ]
     },
     "execution_count": 52,
     "metadata": {},
     "output_type": "execute_result"
    }
   ],
   "source": [
    "df_n['Precio Gas Natural Comprimido'].describe()"
   ]
  },
  {
   "cell_type": "code",
   "execution_count": 53,
   "id": "e7a5a486",
   "metadata": {},
   "outputs": [
    {
     "data": {
      "text/plain": [
       "11731"
      ]
     },
     "execution_count": 53,
     "metadata": {},
     "output_type": "execute_result"
    }
   ],
   "source": [
    "# Registros sin venta Biodiesel\n",
    "sin_suministro_be = df_n['Precio Bioetanol'].isnull().sum()\n",
    "sin_suministro_be"
   ]
  },
  {
   "cell_type": "markdown",
   "id": "33ddd76e",
   "metadata": {},
   "source": [
    "# Precio Gas Natural Licuado"
   ]
  },
  {
   "cell_type": "code",
   "execution_count": 54,
   "id": "d5685b8d",
   "metadata": {},
   "outputs": [
    {
     "name": "stdout",
     "output_type": "stream",
     "text": [
      "17\n",
      "<class 'numpy.ndarray'>\n"
     ]
    },
    {
     "data": {
      "text/plain": [
       "array(['', '0,929', '0,979', '0,999', '1,296', '1,019', '0,939', '0,944',\n",
       "       '0,914', '1,049', '0,919', '1,299', '0,959', '1,079', '1,014',\n",
       "       '0,949', '1,039'], dtype=object)"
      ]
     },
     "execution_count": 54,
     "metadata": {},
     "output_type": "execute_result"
    }
   ],
   "source": [
    "Gas_nat_lic = df_n['Precio Gas Natural Licuado'].unique()\n",
    "print(len(Gas_nat_lic))\n",
    "print(type(Gas_nat_lic))\n",
    "Gas_nat_lic"
   ]
  },
  {
   "cell_type": "code",
   "execution_count": 55,
   "id": "90f17335",
   "metadata": {},
   "outputs": [],
   "source": [
    "# Convertimos columna categórica a numérica, primero tenemos que sustituir , por .\n",
    "df_n['Precio Gas Natural Licuado']=df_n['Precio Gas Natural Licuado'].str.replace(',','.')\n",
    "df_n[['Precio Gas Natural Licuado']]=df_n[['Precio Gas Natural Licuado']].apply(pd.to_numeric)"
   ]
  },
  {
   "cell_type": "code",
   "execution_count": 56,
   "id": "7b35df2f",
   "metadata": {},
   "outputs": [
    {
     "data": {
      "text/plain": [
       "count    91.000000\n",
       "mean      1.003560\n",
       "std       0.113261\n",
       "min       0.914000\n",
       "25%       0.939000\n",
       "50%       0.979000\n",
       "75%       0.979000\n",
       "max       1.299000\n",
       "Name: Precio Gas Natural Licuado, dtype: float64"
      ]
     },
     "execution_count": 56,
     "metadata": {},
     "output_type": "execute_result"
    }
   ],
   "source": [
    "df_n['Precio Gas Natural Licuado'].describe()"
   ]
  },
  {
   "cell_type": "code",
   "execution_count": 57,
   "id": "0eca734e",
   "metadata": {},
   "outputs": [
    {
     "data": {
      "text/plain": [
       "11644"
      ]
     },
     "execution_count": 57,
     "metadata": {},
     "output_type": "execute_result"
    }
   ],
   "source": [
    "# Registros sin venta Gas NAtural Licuado\n",
    "sin_suministro_gnl = df_n['Precio Gas Natural Licuado'].isnull().sum()\n",
    "sin_suministro_gnl"
   ]
  },
  {
   "cell_type": "markdown",
   "id": "ba2199ad",
   "metadata": {},
   "source": [
    "# Precio Gases licuados del petróleo"
   ]
  },
  {
   "cell_type": "code",
   "execution_count": 58,
   "id": "bdff2425",
   "metadata": {},
   "outputs": [
    {
     "name": "stdout",
     "output_type": "stream",
     "text": [
      "105\n",
      "<class 'numpy.ndarray'>\n"
     ]
    },
    {
     "data": {
      "text/plain": [
       "array(['', '0,939', '0,798', '0,889', '0,909', '0,929', '0,908', '1,059',\n",
       "       '1,000', '0,919', '0,949', '0,899', '0,979', '0,760', '0,898',\n",
       "       '0,799', '0,958', '0,997', '1,019', '0,849', '1,029', '0,879',\n",
       "       '0,819', '1,100', '1,069', '0,959', '0,900', '0,989', '0,859',\n",
       "       '0,869', '0,872', '0,865', '0,839', '0,838', '0,825', '0,789',\n",
       "       '0,969', '0,848', '0,999', '0,917', '0,905', '0,882', '0,935',\n",
       "       '0,990', '1,051', '0,994', '1,049', '0,915', '0,985', '0,755',\n",
       "       '0,868', '0,925', '0,525', '0,895', '0,948', '0,730', '0,894',\n",
       "       '0,888', '0,739', '0,795', '1,099', '0,885', '0,870', '0,890',\n",
       "       '0,957', '0,833', '1,150', '1,009', '0,980', '1,169', '0,679',\n",
       "       '0,930', '0,933', '0,940', '0,809', '0,709', '0,699', '0,822',\n",
       "       '0,977', '1,017', '0,918', '0,955', '0,916', '0,910', '0,769',\n",
       "       '0,777', '0,759', '0,784', '0,829', '0,971', '0,914', '0,877',\n",
       "       '0,928', '0,720', '0,924', '0,884', '0,904', '0,820', '1,079',\n",
       "       '0,780', '0,978', '0,995', '0,878', '0,922', '0,850'], dtype=object)"
      ]
     },
     "execution_count": 58,
     "metadata": {},
     "output_type": "execute_result"
    }
   ],
   "source": [
    "Gas_nat_lic_pet = df_n['Precio Gases licuados del petróleo'].unique()\n",
    "print(len(Gas_nat_lic_pet))\n",
    "print(type(Gas_nat_lic_pet))\n",
    "Gas_nat_lic_pet"
   ]
  },
  {
   "cell_type": "code",
   "execution_count": 59,
   "id": "94e05d01",
   "metadata": {},
   "outputs": [],
   "source": [
    "# Convertimos columna categórica a numérica\n",
    "df_n['Precio Gases licuados del petróleo']=df_n['Precio Gases licuados del petróleo'].str.replace(',','.')\n",
    "df_n[['Precio Gases licuados del petróleo']]=df_n[['Precio Gases licuados del petróleo']].apply(pd.to_numeric)"
   ]
  },
  {
   "cell_type": "code",
   "execution_count": 60,
   "id": "43ae8314",
   "metadata": {},
   "outputs": [
    {
     "data": {
      "text/plain": [
       "count    861.000000\n",
       "mean       0.912884\n",
       "std        0.059202\n",
       "min        0.525000\n",
       "25%        0.899000\n",
       "50%        0.919000\n",
       "75%        0.939000\n",
       "max        1.169000\n",
       "Name: Precio Gases licuados del petróleo, dtype: float64"
      ]
     },
     "execution_count": 60,
     "metadata": {},
     "output_type": "execute_result"
    }
   ],
   "source": [
    "df_n['Precio Gases licuados del petróleo'].describe()"
   ]
  },
  {
   "cell_type": "code",
   "execution_count": 61,
   "id": "f39d6004",
   "metadata": {},
   "outputs": [
    {
     "data": {
      "text/plain": [
       "10874"
      ]
     },
     "execution_count": 61,
     "metadata": {},
     "output_type": "execute_result"
    }
   ],
   "source": [
    "# Registros sin venta Gas NAtural Licuado del Petróleo\n",
    "sin_suministro_gnlp = df_n['Precio Gases licuados del petróleo'].isnull().sum()\n",
    "sin_suministro_gnlp"
   ]
  },
  {
   "cell_type": "code",
   "execution_count": 62,
   "id": "0a616a04",
   "metadata": {},
   "outputs": [
    {
     "data": {
      "text/plain": [
       "0"
      ]
     },
     "execution_count": 62,
     "metadata": {},
     "output_type": "execute_result"
    }
   ],
   "source": [
    "ceros_sin_suministro_gnlp = (df_n['Precio Gases licuados del petróleo'] == 0).sum()\n",
    "ceros_sin_suministro_gnlp"
   ]
  },
  {
   "cell_type": "markdown",
   "id": "579f7966",
   "metadata": {},
   "source": [
    "# Gasoleo A"
   ]
  },
  {
   "cell_type": "code",
   "execution_count": 63,
   "id": "b84c8a71",
   "metadata": {},
   "outputs": [
    {
     "name": "stdout",
     "output_type": "stream",
     "text": [
      "429\n",
      "<class 'numpy.ndarray'>\n"
     ]
    },
    {
     "data": {
      "text/plain": [
       "array(['1,359', '1,489', '1,499', '1,515', '1,319', '1,338', '1,509',\n",
       "       '1,289', '1,469', '1,389', '1,369', '', '1,451', '1,479', '1,320',\n",
       "       '2,259', '1,429', '1,485', '1,475', '1,409', '1,349', '1,327',\n",
       "       '1,467', '1,323', '1,459', '1,519', '1,424', '1,330', '1,449',\n",
       "       '1,399', '1,598', '1,539', '1,346', '1,345', '1,549', '1,354',\n",
       "       '1,487', '1,347', '1,380', '1,335', '1,299', '1,379', '1,339',\n",
       "       '1,439', '1,679', '1,270', '1,529', '1,405', '1,315', '1,240',\n",
       "       '1,300', '1,419', '1,329', '1,465', '1,454', '1,544', '1,324',\n",
       "       '1,337', '1,504', '1,336', '1,259', '1,255', '1,317', '1,266',\n",
       "       '1,525', '1,447', '1,510', '1,297', '1,558', '1,414', '1,494',\n",
       "       '1,298', '1,569', '1,277', '1,482', '1,431', '1,559', '1,545',\n",
       "       '1,438', '1,388', '1,305', '1,464', '1,279', '1,434', '1,450',\n",
       "       '1,249', '1,498', '1,446', '1,435', '1,579', '1,505', '1,478',\n",
       "       '1,408', '1,535', '1,235', '1,229', '1,374', '1,443', '1,309',\n",
       "       '1,295', '1,286', '1,284', '1,477', '1,318', '1,288', '1,609',\n",
       "       '1,285', '1,280', '1,265', '1,368', '1,269', '1,547', '1,340',\n",
       "       '1,348', '1,307', '1,310', '1,390', '1,400', '1,328', '1,314',\n",
       "       '1,218', '1,325', '1,353', '1,445', '1,221', '1,350', '1,565',\n",
       "       '1,520', '1,376', '1,495', '1,999', '1,483', '1,365', '1,455',\n",
       "       '1,370', '1,296', '1,528', '1,460', '1,514', '1,555', '1,585',\n",
       "       '1,546', '1,355', '1,357', '1,397', '1,550', '1,589', '1,385',\n",
       "       '1,575', '1,420', '1,568', '1,334', '1,488', '1,458', '1,326',\n",
       "       '1,649', '1,599', '1,332', '1,360', '1,430', '1,275', '1,415',\n",
       "       '1,426', '1,382', '1,316', '1,496', '1,290', '1,322', '1,267',\n",
       "       '1,473', '1,619', '1,595', '1,548', '1,605', '1,577', '1,669',\n",
       "       '1,540', '1,557', '1,517', '1,384', '1,508', '1,356', '1,474',\n",
       "       '1,480', '1,362', '1,351', '1,444', '1,484', '1,341', '1,416',\n",
       "       '1,500', '1,398', '1,283', '1,468', '1,260', '1,534', '1,287',\n",
       "       '1,276', '1,358', '1,292', '1,306', '1,169', '1,159', '1,225',\n",
       "       '1,394', '1,274', '1,273', '1,239', '1,497', '1,395', '1,387',\n",
       "       '1,437', '1,366', '1,463', '1,417', '1,367', '1,428', '1,268',\n",
       "       '1,556', '1,250', '1,425', '1,364', '1,378', '1,493', '1,527',\n",
       "       '1,373', '1,361', '1,507', '1,542', '1,313', '1,470', '1,440',\n",
       "       '1,245', '1,587', '1,418', '1,377', '1,412', '1,402', '1,518',\n",
       "       '1,199', '1,222', '1,219', '1,652', '1,238', '1,512', '1,342',\n",
       "       '1,392', '1,343', '1,775', '1,560', '1,022', '1,208', '1,257',\n",
       "       '1,331', '1,352', '1,301', '1,321', '1,506', '1,302', '1,531',\n",
       "       '1,457', '1,411', '1,333', '1,564', '1,410', '1,293', '1,281',\n",
       "       '1,311', '1,639', '1,448', '1,513', '1,524', '1,404', '1,819',\n",
       "       '1,850', '1,263', '1,538', '1,950', '1,344', '1,308', '1,278',\n",
       "       '1,294', '1,501', '1,391', '1,800', '1,304', '1,580', '1,407',\n",
       "       '1,695', '1,533', '1,207', '1,570', '1,502', '1,272', '1,231',\n",
       "       '1,371', '1,600', '1,441', '1,291', '1,610', '1,253', '1,471',\n",
       "       '1,466', '1,490', '1,422', '1,433', '1,423', '1,552', '1,427',\n",
       "       '1,486', '1,636', '1,523', '1,659', '1,578', '1,375', '1,149',\n",
       "       '1,158', '1,129', '1,202', '1,172', '1,232', '1,521', '1,180',\n",
       "       '1,046', '1,258', '1,461', '1,592', '1,363', '1,174', '1,089',\n",
       "       '1,165', '1,139', '1,099', '1,049', '1,155', '1,228', '1,189',\n",
       "       '1,179', '1,209', '1,069', '1,019', '1,236', '1,130', '1,244',\n",
       "       '1,119', '1,214', '1,413', '1,234', '1,242', '1,168', '0,999',\n",
       "       '1,215', '1,220', '1,233', '1,312', '1,224', '1,206', '1,282',\n",
       "       '1,124', '1,185', '1,184', '1,195', '1,171', '1,083', '1,246',\n",
       "       '1,150', '1,154', '1,227', '1,452', '1,243', '1,381', '1,198',\n",
       "       '1,188', '1,080', '1,247', '1,403', '1,166', '1,164', '1,134',\n",
       "       '1,204', '1,095', '1,135', '1,100', '1,107', '1,079', '1,192',\n",
       "       '1,148', '1,167', '1,176', '1,087', '1,190', '1,029', '1,211',\n",
       "       '1,085', '1,157', '1,144', '1,196', '1,163', '1,175', '1,194',\n",
       "       '1,145', '1,088', '1,217', '1,178', '1,122', '1,132', '1,181',\n",
       "       '1,059', '1,177', '1,125', '1,561', '1,393', '1,526', '1,582',\n",
       "       '1,597', '1,611', '1,456', '1,541', '1,537', '2,150', '1,248',\n",
       "       '1,949', '1,401', '1,566', '1,442', '1,554', '1,543', '1,536',\n",
       "       '1,303'], dtype=object)"
      ]
     },
     "execution_count": 63,
     "metadata": {},
     "output_type": "execute_result"
    }
   ],
   "source": [
    "Gasoleo_A = df_n['Precio Gasoleo A'].unique()\n",
    "print(len(Gasoleo_A))\n",
    "print(type(Gasoleo_A))\n",
    "Gasoleo_A"
   ]
  },
  {
   "cell_type": "code",
   "execution_count": 64,
   "id": "03079146",
   "metadata": {},
   "outputs": [],
   "source": [
    "# Convertimos columna categórica a numérica, primero tenemos que sustituir , por .\n",
    "df_n['Precio Gasoleo A']=df_n['Precio Gasoleo A'].str.replace(',','.')\n",
    "df_n[['Precio Gasoleo A']]=df_n[['Precio Gasoleo A']].apply(pd.to_numeric)"
   ]
  },
  {
   "cell_type": "code",
   "execution_count": 65,
   "id": "b2093cd9",
   "metadata": {},
   "outputs": [
    {
     "data": {
      "text/plain": [
       "count    11368.000000\n",
       "mean         1.440322\n",
       "std          0.103295\n",
       "min          0.999000\n",
       "25%          1.359000\n",
       "50%          1.479000\n",
       "75%          1.519000\n",
       "max          2.259000\n",
       "Name: Precio Gasoleo A, dtype: float64"
      ]
     },
     "execution_count": 65,
     "metadata": {},
     "output_type": "execute_result"
    }
   ],
   "source": [
    "df_n['Precio Gasoleo A'].describe()\n"
   ]
  },
  {
   "cell_type": "code",
   "execution_count": 66,
   "id": "a0c57df7",
   "metadata": {},
   "outputs": [
    {
     "data": {
      "text/plain": [
       "367"
      ]
     },
     "execution_count": 66,
     "metadata": {},
     "output_type": "execute_result"
    }
   ],
   "source": [
    "# Registros sin venta Gasoleo A\n",
    "sin_suministro_gA = df_n['Precio Gasoleo A'].isnull().sum()\n",
    "sin_suministro_gA"
   ]
  },
  {
   "cell_type": "code",
   "execution_count": 67,
   "id": "2fd05b04",
   "metadata": {},
   "outputs": [
    {
     "data": {
      "text/plain": [
       "0"
      ]
     },
     "execution_count": 67,
     "metadata": {},
     "output_type": "execute_result"
    }
   ],
   "source": [
    "ceros_sin_suministro_gA = (df_n['Precio Gasoleo A'] == 0).sum()\n",
    "ceros_sin_suministro_gA"
   ]
  },
  {
   "cell_type": "markdown",
   "id": "6b8fd3b9",
   "metadata": {},
   "source": [
    "# Gasoleo B"
   ]
  },
  {
   "cell_type": "code",
   "execution_count": 68,
   "id": "90c596c9",
   "metadata": {},
   "outputs": [
    {
     "name": "stdout",
     "output_type": "stream",
     "text": [
      "429\n",
      "<class 'numpy.ndarray'>\n"
     ]
    },
    {
     "data": {
      "text/plain": [
       "array(['0,999', '', '1,216', '0,939', '0,950', '1,639', '1,299', '1,139',\n",
       "       '0,968', '1,270', '1,226', '1,030', '1,129', '1,050', '1,179',\n",
       "       '1,104', '1,109', '1,000', '1,237', '1,029', '0,940', '1,699',\n",
       "       '1,247', '1,277', '1,168', '0,960', '0,965', '0,949', '0,995',\n",
       "       '0,928', '1,262', '1,137', '1,309', '0,969', '1,479', '0,925',\n",
       "       '1,399', '0,900', '1,100', '0,932', '0,951', '1,169', '1,199',\n",
       "       '1,269', '1,279', '1,300', '1,219', '1,209', '1,150', '1,174',\n",
       "       '1,149', '1,439', '1,289', '1,229', '1,201', '1,249', '1,265',\n",
       "       '1,339', '1,180', '1,210', '1,189', '1,580', '1,272', '1,053',\n",
       "       '1,294', '1,253', '1,440', '1,215', '1,099', '1,290', '1,095',\n",
       "       '1,036', '1,495', '1,191', '1,184', '1,148', '0,958', '1,138',\n",
       "       '1,182', '0,902', '1,200', '0,899', '1,151', '0,955', '1,204',\n",
       "       '1,239', '1,301', '1,160', '1,086', '1,259', '1,183', '1,159',\n",
       "       '1,173', '0,989', '1,292', '1,032', '1,145', '1,295', '1,225',\n",
       "       '1,409', '1,379', '1,039', '1,194', '1,190', '0,935', '1,113',\n",
       "       '1,324', '1,198', '1,234', '1,125', '1,128', '1,043', '1,217',\n",
       "       '1,273', '1,329', '1,261', '1,319', '1,248', '1,224', '1,066',\n",
       "       '1,275', '1,172', '1,202', '1,240', '1,264', '0,978', '1,140',\n",
       "       '1,252', '1,349', '1,119', '1,009', '1,055', '0,883', '0,956',\n",
       "       '1,213', '1,088', '1,212', '0,901', '0,952', '1,089', '1,221',\n",
       "       '1,192', '1,070', '1,188', '0,990', '1,059', '1,369', '0,994',\n",
       "       '1,400', '1,061', '0,975', '0,918', '0,934', '1,449', '1,079',\n",
       "       '0,929', '1,120', '1,035', '1,069', '0,959', '1,335', '0,914',\n",
       "       '1,153', '0,910', '0,974', '1,135', '0,937', '1,241', '1,156',\n",
       "       '1,020', '0,930', '1,165', '0,953', '0,874', '1,105', '0,970',\n",
       "       '1,268', '1,599', '1,218', '1,343', '1,186', '1,110', '1,235',\n",
       "       '1,257', '1,197', '1,384', '1,060', '1,328', '1,049', '1,304',\n",
       "       '1,250', '1,389', '1,143', '1,155', '1,395', '1,098', '0,998',\n",
       "       '1,090', '1,214', '0,957', '1,040', '1,019', '0,980', '1,016',\n",
       "       '1,211', '1,131', '1,158', '1,015', '1,170', '1,650', '1,195',\n",
       "       '1,278', '0,979', '1,238', '0,993', '1,291', '1,222', '0,997',\n",
       "       '1,007', '1,010', '1,185', '0,948', '1,220', '1,080', '1,193',\n",
       "       '1,047', '1,178', '1,167', '1,152', '1,101', '1,116', '1,132',\n",
       "       '1,164', '1,244', '1,157', '0,945', '1,181', '1,166', '0,976',\n",
       "       '0,920', '1,205', '0,985', '1,176', '1,242', '1,028', '0,973',\n",
       "       '1,003', '0,983', '1,245', '1,426', '0,942', '0,963', '0,926',\n",
       "       '0,909', '1,256', '0,962', '1,121', '1,117', '0,936', '0,938',\n",
       "       '0,943', '0,981', '1,230', '1,208', '1,232', '1,320', '1,175',\n",
       "       '1,084', '1,228', '1,203', '1,310', '1,042', '0,944', '1,017',\n",
       "       '0,933', '0,911', '0,922', '0,971', '0,927', '0,924', '1,336',\n",
       "       '1,325', '1,340', '1,267', '1,447', '1,341', '1,359', '1,363',\n",
       "       '1,381', '1,350', '1,177', '1,111', '0,954', '1,154', '0,941',\n",
       "       '0,946', '0,987', '0,977', '0,886', '1,206', '1,283', '1,076',\n",
       "       '1,141', '0,907', '1,579', '1,600', '0,896', '0,931', '1,274',\n",
       "       '1,142', '0,992', '1,012', '1,075', '0,961', '1,005', '1,130',\n",
       "       '1,276', '0,898', '1,008', '1,085', '1,108', '1,187', '1,306',\n",
       "       '1,134', '0,967', '0,984', '0,947', '1,147', '1,057', '1,038',\n",
       "       '1,284', '1,026', '1,500', '1,227', '0,876', '1,653', '1,065',\n",
       "       '1,006', '0,982', '0,964', '1,123', '1,013', '1,078', '1,236',\n",
       "       '1,365', '1,281', '1,337', '1,374', '0,912', '1,001', '1,031',\n",
       "       '1,355', '1,144', '1,097', '1,041', '1,285', '0,917', '1,522',\n",
       "       '0,986', '1,126', '1,255', '1,429', '1,254', '1,280', '1,146',\n",
       "       '1,233', '1,018', '1,305', '1,163', '1,321', '1,196', '1,118',\n",
       "       '0,923', '1,171', '1,022', '1,161', '1,124', '1,127', '1,361',\n",
       "       '1,064', '1,223', '1,459', '0,905', '1,058', '0,919', '1,415',\n",
       "       '1,390', '1,102', '1,243', '1,298', '1,162', '1,004', '1,296',\n",
       "       '1,231', '1,414', '1,114', '1,115'], dtype=object)"
      ]
     },
     "execution_count": 68,
     "metadata": {},
     "output_type": "execute_result"
    }
   ],
   "source": [
    "Gasoleo_B = df_n['Precio Gasoleo B'].unique()\n",
    "print(len(Gasoleo_A))\n",
    "print(type(Gasoleo_A))\n",
    "Gasoleo_B"
   ]
  },
  {
   "cell_type": "code",
   "execution_count": 69,
   "id": "b9ff1285",
   "metadata": {},
   "outputs": [],
   "source": [
    "# Convertimos columna categórica a numérica, primero tenemos que sustituir , por .\n",
    "df_n['Precio Gasoleo B']=df_n['Precio Gasoleo B'].str.replace(',','.')\n",
    "df_n[['Precio Gasoleo B']]=df_n[['Precio Gasoleo B']].apply(pd.to_numeric)"
   ]
  },
  {
   "cell_type": "code",
   "execution_count": 70,
   "id": "ee5cfffa",
   "metadata": {},
   "outputs": [
    {
     "data": {
      "text/plain": [
       "8774"
      ]
     },
     "execution_count": 70,
     "metadata": {},
     "output_type": "execute_result"
    }
   ],
   "source": [
    "# Registros sin venta Gasoleo B\n",
    "sin_suministro_gB = df_n['Precio Gasoleo B'].isnull().sum()\n",
    "sin_suministro_gB"
   ]
  },
  {
   "cell_type": "code",
   "execution_count": 71,
   "id": "1654e9f7",
   "metadata": {},
   "outputs": [
    {
     "data": {
      "text/plain": [
       "0"
      ]
     },
     "execution_count": 71,
     "metadata": {},
     "output_type": "execute_result"
    }
   ],
   "source": [
    "ceros_sin_suministro_gB = (df_n['Precio Gasoleo B'] == 0).sum()\n",
    "ceros_sin_suministro_gB"
   ]
  },
  {
   "cell_type": "markdown",
   "id": "24d3a7ce",
   "metadata": {},
   "source": [
    "# Precio Gasoleo Premium "
   ]
  },
  {
   "cell_type": "code",
   "execution_count": 72,
   "id": "e25d3aaf",
   "metadata": {},
   "outputs": [
    {
     "name": "stdout",
     "output_type": "stream",
     "text": [
      "354\n",
      "<class 'numpy.ndarray'>\n"
     ]
    },
    {
     "data": {
      "text/plain": [
       "array(['', '1,579', '1,539', '1,559', '1,569', '1,418', '1,589', '1,581',\n",
       "       '1,599', '1,319', '1,439', '1,550', '1,489', '1,629', '1,469',\n",
       "       '1,549', '1,419', '1,565', '1,555', '1,519', '1,529', '1,619',\n",
       "       '1,609', '1,658', '1,429', '1,509', '1,459', '1,389', '1,545',\n",
       "       '1,544', '1,573', '1,634', '1,614', '1,585', '1,639', '1,499',\n",
       "       '1,574', '1,601', '1,361', '1,575', '1,578', '1,591', '1,541',\n",
       "       '1,635', '1,605', '1,659', '1,669', '1,564', '1,479', '1,399',\n",
       "       '1,528', '1,475', '1,305', '1,309', '1,514', '1,379', '1,516',\n",
       "       '1,449', '1,625', '1,649', '1,638', '1,595', '1,359', '2,999',\n",
       "       '1,365', '1,349', '1,533', '1,395', '1,577', '1,438', '1,571',\n",
       "       '1,598', '1,298', '1,339', '1,436', '1,556', '1,360', '1,380',\n",
       "       '1,337', '1,402', '1,307', '1,405', '1,367', '1,631', '1,576',\n",
       "       '1,515', '1,640', '1,368', '1,588', '1,691', '1,329', '1,534',\n",
       "       '1,608', '1,325', '1,425', '1,548', '1,584', '1,611', '1,498',\n",
       "       '1,675', '1,398', '1,375', '1,590', '1,535', '1,679', '1,647',\n",
       "       '1,665', '1,645', '1,400', '1,493', '1,594', '1,641', '1,299',\n",
       "       '1,524', '1,409', '1,369', '1,709', '1,317', '1,540', '1,259',\n",
       "       '1,265', '1,314', '1,580', '1,518', '1,597', '1,287', '1,655',\n",
       "       '1,671', '1,689', '1,648', '1,615', '1,618', '1,504', '1,699',\n",
       "       '1,624', '1,376', '1,538', '1,386', '1,621', '1,554', '1,525',\n",
       "       '1,513', '1,351', '1,358', '1,454', '1,464', '1,452', '1,219',\n",
       "       '1,335', '1,354', '1,387', '1,604', '1,455', '1,348', '1,366',\n",
       "       '1,355', '1,558', '1,537', '1,279', '1,448', '1,557', '1,563',\n",
       "       '1,622', '1,660', '1,357', '1,620', '1,297', '1,295', '1,602',\n",
       "       '1,632', '1,269', '1,495', '1,568', '1,377', '1,603', '1,628',\n",
       "       '1,769', '1,526', '1,582', '1,531', '1,345', '1,458', '1,362',\n",
       "       '1,667', '1,561', '1,435', '1,385', '1,839', '1,445', '1,465',\n",
       "       '1,310', '1,378', '1,285', '1,497', '1,566', '1,434', '1,447',\n",
       "       '2,060', '1,610', '1,705', '1,759', '1,979', '1,484', '1,494',\n",
       "       '1,617', '1,637', '1,481', '1,521', '1,384', '1,536', '1,396',\n",
       "       '1,474', '1,381', '1,300', '1,685', '1,607', '1,586', '1,600',\n",
       "       '1,382', '1,520', '1,480', '1,490', '1,420', '1,505', '1,551',\n",
       "       '1,401', '1,323', '1,301', '1,302', '1,542', '1,338', '1,651',\n",
       "       '1,500', '1,642', '1,289', '1,487', '1,327', '1,593', '1,612',\n",
       "       '1,650', '1,428', '1,486', '1,719', '1,488', '1,460', '1,442',\n",
       "       '1,410', '1,328', '1,643', '1,463', '1,530', '1,440', '1,644',\n",
       "       '1,413', '1,422', '1,189', '1,198', '1,199', '2,109', '1,318',\n",
       "       '1,416', '1,562', '1,347', '1,340', '1,408', '1,424', '1,324',\n",
       "       '1,388', '1,257', '1,364', '1,485', '1,547', '1,290', '1,264',\n",
       "       '1,179', '1,210', '1,184', '1,254', '1,280', '1,390', '1,443',\n",
       "       '1,394', '1,430', '1,149', '1,320', '1,334', '1,350', '1,342',\n",
       "       '1,333', '1,294', '1,404', '1,218', '1,444', '1,412', '1,344',\n",
       "       '1,336', '1,249', '1,453', '1,304', '1,197', '1,296', '1,414',\n",
       "       '1,397', '1,407', '1,527', '1,415', '1,427', '1,288', '1,274',\n",
       "       '1,284', '1,311', '1,286', '1,291', '1,457', '1,183', '1,168',\n",
       "       '1,613', '1,292', '1,282', '1,177', '1,512', '1,214', '1,275',\n",
       "       '1,456', '1,244', '1,204', '1,245', '1,326', '1,239', '1,278',\n",
       "       '1,688', '1,677', '1,477', '1,678', '1,683', '1,372', '1,567',\n",
       "       '1,308', '1,507', '1,467', '1,517', '1,800', '1,468', '1,315',\n",
       "       '1,316', '1,363', '1,646', '1,661', '1,532', '1,626', '1,596',\n",
       "       '1,510', '1,267', '1,450'], dtype=object)"
      ]
     },
     "execution_count": 72,
     "metadata": {},
     "output_type": "execute_result"
    }
   ],
   "source": [
    "Gasoleo_P = df_n['Precio Gasoleo Premium'].unique()\n",
    "print(len(Gasoleo_P))\n",
    "print(type(Gasoleo_P))\n",
    "Gasoleo_P"
   ]
  },
  {
   "cell_type": "code",
   "execution_count": 73,
   "id": "b2743f33",
   "metadata": {},
   "outputs": [],
   "source": [
    "# Convertimos columna categórica a numérica, primero tenemos que sustituir , por .\n",
    "df_n['Precio Gasoleo Premium']=df_n['Precio Gasoleo Premium'].str.replace(',','.')\n",
    "df_n[['Precio Gasoleo Premium']]=df_n[['Precio Gasoleo Premium']].apply(pd.to_numeric)"
   ]
  },
  {
   "cell_type": "code",
   "execution_count": 74,
   "id": "10e79699",
   "metadata": {},
   "outputs": [
    {
     "data": {
      "text/plain": [
       "count    7413.000000\n",
       "mean        1.549085\n",
       "std         0.096089\n",
       "min         1.149000\n",
       "25%         1.519000\n",
       "50%         1.579000\n",
       "75%         1.609000\n",
       "max         2.999000\n",
       "Name: Precio Gasoleo Premium, dtype: float64"
      ]
     },
     "execution_count": 74,
     "metadata": {},
     "output_type": "execute_result"
    }
   ],
   "source": [
    "df_n['Precio Gasoleo Premium'].describe()"
   ]
  },
  {
   "cell_type": "code",
   "execution_count": 75,
   "id": "9666e5b7",
   "metadata": {},
   "outputs": [
    {
     "data": {
      "text/plain": [
       "4322"
      ]
     },
     "execution_count": 75,
     "metadata": {},
     "output_type": "execute_result"
    }
   ],
   "source": [
    "# Registros sin venta Gasoleo Premium\n",
    "sin_suministro_gP = df_n['Precio Gasoleo Premium'].isnull().sum()\n",
    "sin_suministro_gP"
   ]
  },
  {
   "cell_type": "code",
   "execution_count": 76,
   "id": "c62c56a0",
   "metadata": {},
   "outputs": [
    {
     "data": {
      "text/plain": [
       "0"
      ]
     },
     "execution_count": 76,
     "metadata": {},
     "output_type": "execute_result"
    }
   ],
   "source": [
    "ceros_sin_suministro_gP = (df_n['Precio Gasoleo Premium'] == 0).sum()\n",
    "ceros_sin_suministro_gP"
   ]
  },
  {
   "cell_type": "markdown",
   "id": "1af7f46d",
   "metadata": {},
   "source": [
    "# Precio Gasolina 95 E10 "
   ]
  },
  {
   "cell_type": "code",
   "execution_count": 77,
   "id": "a3d6c6e1",
   "metadata": {},
   "outputs": [
    {
     "name": "stdout",
     "output_type": "stream",
     "text": [
      "19\n",
      "<class 'numpy.ndarray'>\n"
     ]
    },
    {
     "data": {
      "text/plain": [
       "array(['', '1,859', '1,819', '1,774', '1,679', '1,499', '1,669', '1,749',\n",
       "       '1,729', '1,719', '1,589', '1,459', '1,689', '1,709', '1,659',\n",
       "       '1,699', '1,769', '1,759', '1,698'], dtype=object)"
      ]
     },
     "execution_count": 77,
     "metadata": {},
     "output_type": "execute_result"
    }
   ],
   "source": [
    "g95_E10 = df_n['Precio Gasolina 95 E10'].unique()\n",
    "print(len(g95_E10))\n",
    "print(type(g95_E10))\n",
    "g95_E10"
   ]
  },
  {
   "cell_type": "code",
   "execution_count": 78,
   "id": "c2203d4d",
   "metadata": {},
   "outputs": [],
   "source": [
    "# Convertimos columna categórica a numérica, primero tenemos que sustituir , por .\n",
    "df_n['Precio Gasolina 95 E10']=df_n['Precio Gasolina 95 E10'].str.replace(',','.')\n",
    "df_n[['Precio Gasolina 95 E10']]=df_n[['Precio Gasolina 95 E10']].apply(pd.to_numeric)"
   ]
  },
  {
   "cell_type": "code",
   "execution_count": 79,
   "id": "01212952",
   "metadata": {},
   "outputs": [
    {
     "data": {
      "text/plain": [
       "count    22.000000\n",
       "mean      1.688273\n",
       "std       0.101041\n",
       "min       1.459000\n",
       "25%       1.669000\n",
       "50%       1.698500\n",
       "75%       1.756500\n",
       "max       1.859000\n",
       "Name: Precio Gasolina 95 E10, dtype: float64"
      ]
     },
     "execution_count": 79,
     "metadata": {},
     "output_type": "execute_result"
    }
   ],
   "source": [
    " df_n['Precio Gasolina 95 E10'].describe()"
   ]
  },
  {
   "cell_type": "code",
   "execution_count": 80,
   "id": "6aaa6a7b",
   "metadata": {},
   "outputs": [
    {
     "data": {
      "text/plain": [
       "11713"
      ]
     },
     "execution_count": 80,
     "metadata": {},
     "output_type": "execute_result"
    }
   ],
   "source": [
    "# Registros sin venta Gasoleo Premium\n",
    "sin_suministro_95E10 = df_n['Precio Gasolina 95 E10'].isnull().sum()\n",
    "sin_suministro_95E10"
   ]
  },
  {
   "cell_type": "markdown",
   "id": "3e9e3b58",
   "metadata": {},
   "source": [
    "# Precio Gasolina 95 E5"
   ]
  },
  {
   "cell_type": "code",
   "execution_count": 81,
   "id": "a04d4e77",
   "metadata": {},
   "outputs": [
    {
     "name": "stdout",
     "output_type": "stream",
     "text": [
      "418\n",
      "<class 'numpy.ndarray'>\n"
     ]
    },
    {
     "data": {
      "text/plain": [
       "array(['1,549', '1,619', '', '1,469', '1,639', '1,528', '1,629', '1,609',\n",
       "       '1,449', '1,579', '1,589', '1,649', '1,559', '1,570', '1,490',\n",
       "       '1,539', '1,439', '2,299', '1,599', '1,679', '1,634', '1,463',\n",
       "       '1,625', '1,659', '1,640', '1,699', '1,550', '1,569', '1,698',\n",
       "       '1,519', '1,499', '1,489', '1,627', '1,565', '1,564', '1,529',\n",
       "       '1,669', '1,440', '1,479', '1,574', '1,554', '1,478', '1,694',\n",
       "       '1,665', '1,475', '1,474', '1,496', '1,459', '1,654', '1,477',\n",
       "       '1,497', '1,615', '1,527', '1,664', '1,557', '1,509', '1,685',\n",
       "       '1,689', '1,568', '1,719', '1,577', '1,643', '1,547', '1,641',\n",
       "       '1,515', '1,675', '1,618', '1,593', '1,613', '1,485', '1,495',\n",
       "       '1,584', '1,588', '1,498', '1,645', '1,644', '1,678', '1,608',\n",
       "       '1,739', '1,538', '1,455', '1,544', '1,505', '1,487', '1,566',\n",
       "       '1,677', '1,518', '1,468', '1,484', '1,444', '1,620', '1,624',\n",
       "       '1,526', '1,508', '1,576', '1,520', '1,460', '1,597', '1,600',\n",
       "       '1,453', '1,545', '1,630', '1,483', '1,799', '1,465', '1,598',\n",
       "       '1,525', '1,714', '1,709', '1,530', '1,688', '1,729', '1,614',\n",
       "       '1,548', '1,535', '1,594', '1,674', '1,628', '1,595', '1,704',\n",
       "       '1,695', '1,604', '1,500', '1,779', '1,476', '1,647', '1,558',\n",
       "       '1,419', '1,590', '1,470', '1,635', '1,457', '1,759', '1,658',\n",
       "       '1,676', '1,769', '1,721', '1,715', '1,869', '1,697', '1,703',\n",
       "       '1,583', '1,668', '1,684', '1,717', '1,434', '1,587', '1,623',\n",
       "       '1,744', '1,749', '1,502', '1,718', '1,437', '1,591', '1,523',\n",
       "       '1,546', '1,473', '1,720', '1,405', '1,464', '1,458', '1,433',\n",
       "       '1,448', '1,537', '1,436', '1,663', '1,429', '1,435', '1,725',\n",
       "       '1,309', '1,307', '1,369', '1,708', '1,445', '1,494', '1,414',\n",
       "       '1,683', '1,585', '1,517', '1,428', '1,417', '1,691', '1,755',\n",
       "       '1,824', '1,638', '1,534', '1,605', '1,686', '1,632', '1,450',\n",
       "       '1,481', '1,601', '1,655', '1,540', '1,636', '1,480', '1,462',\n",
       "       '1,607', '1,555', '1,650', '1,610', '1,662', '1,680', '1,633',\n",
       "       '1,447', '1,900', '1,581', '1,728', '1,642', '1,690', '1,446',\n",
       "       '1,415', '1,427', '1,823', '1,329', '1,328', '1,578', '1,488',\n",
       "       '1,472', '1,430', '1,400', '1,592', '1,456', '1,506', '1,454',\n",
       "       '1,452', '1,507', '1,681', '1,616', '1,666', '1,512', '1,648',\n",
       "       '1,652', '1,687', '1,637', '1,438', '1,702', '1,705', '1,467',\n",
       "       '1,575', '1,425', '1,730', '1,682', '1,950', '1,621', '1,560',\n",
       "       '1,482', '1,524', '1,451', '1,493', '1,514', '1,510', '1,710',\n",
       "       '1,552', '1,443', '1,765', '1,442', '1,572', '1,580', '1,492',\n",
       "       '1,441', '1,617', '1,611', '1,409', '1,418', '1,536', '1,670',\n",
       "       '1,553', '1,672', '1,789', '1,653', '1,657', '1,556', '1,541',\n",
       "       '1,249', '1,258', '1,239', '1,259', '1,573', '1,586', '1,511',\n",
       "       '1,656', '1,738', '1,646', '1,209', '1,159', '1,119', '1,189',\n",
       "       '1,199', '1,169', '1,049', '1,099', '1,100', '1,139', '1,179',\n",
       "       '1,219', '1,333', '1,373', '1,325', '1,354', '1,353', '1,357',\n",
       "       '1,324', '1,355', '1,361', '1,217', '1,198', '1,183', '1,079',\n",
       "       '1,379', '1,349', '1,225', '1,204', '1,150', '1,327', '1,319',\n",
       "       '1,304', '1,229', '1,224', '1,214', '1,184', '1,149', '1,191',\n",
       "       '1,222', '1,168', '1,215', '0,999', '1,218', '1,194', '1,230',\n",
       "       '1,095', '1,205', '1,220', '1,200', '1,339', '1,330', '1,288',\n",
       "       '1,378', '1,289', '1,211', '1,267', '1,216', '1,376', '1,155',\n",
       "       '1,174', '1,164', '1,161', '1,089', '1,284', '1,286', '1,306',\n",
       "       '1,359', '1,364', '1,240', '1,403', '1,244', '1,207', '1,315',\n",
       "       '1,300', '1,389', '1,399', '1,188', '1,180', '1,408', '1,196',\n",
       "       '1,165', '1,208', '1,542', '1,210', '1,114', '1,192', '1,242',\n",
       "       '1,177', '1,166', '1,107', '1,109', '1,115', '1,299', '1,380',\n",
       "       '1,273', '1,402', '1,175', '1,167', '1,163', '1,108', '1,342',\n",
       "       '1,265', '1,226', '1,185', '1,178', '1,231', '1,201', '1,203',\n",
       "       '1,261', '1,272', '1,195', '1,651', '1,706', '1,696', '1,712',\n",
       "       '1,774', '1,416', '1,486', '1,532', '1,693', '1,375', '1,724',\n",
       "       '1,612', '1,626', '1,667', '1,567', '1,516', '1,602', '1,533',\n",
       "       '1,522', '1,707', '1,596', '1,521'], dtype=object)"
      ]
     },
     "execution_count": 81,
     "metadata": {},
     "output_type": "execute_result"
    }
   ],
   "source": [
    "g95_E5 = df_n['Precio Gasolina 95 E5'].unique()\n",
    "print(len(g95_E5))\n",
    "print(type(g95_E5))\n",
    "g95_E5"
   ]
  },
  {
   "cell_type": "code",
   "execution_count": 82,
   "id": "196f251e",
   "metadata": {},
   "outputs": [],
   "source": [
    "# Convertimos columna categórica a numérica, primero tenemos que sustituir , por .\n",
    "df_n['Precio Gasolina 95 E5']=df_n['Precio Gasolina 95 E5'].str.replace(',','.')\n",
    "df_n[['Precio Gasolina 95 E5']]=df_n[['Precio Gasolina 95 E5']].apply(pd.to_numeric)"
   ]
  },
  {
   "cell_type": "code",
   "execution_count": 83,
   "id": "621ec9bd",
   "metadata": {},
   "outputs": [
    {
     "data": {
      "text/plain": [
       "count    10601.000000\n",
       "mean         1.586366\n",
       "std          0.106621\n",
       "min          0.999000\n",
       "25%          1.539000\n",
       "50%          1.614000\n",
       "75%          1.655000\n",
       "max          2.299000\n",
       "Name: Precio Gasolina 95 E5, dtype: float64"
      ]
     },
     "execution_count": 83,
     "metadata": {},
     "output_type": "execute_result"
    }
   ],
   "source": [
    "df_n['Precio Gasolina 95 E5'].describe()"
   ]
  },
  {
   "cell_type": "code",
   "execution_count": 84,
   "id": "56396333",
   "metadata": {},
   "outputs": [
    {
     "data": {
      "text/plain": [
       "1134"
      ]
     },
     "execution_count": 84,
     "metadata": {},
     "output_type": "execute_result"
    }
   ],
   "source": [
    "# Registros sin venta Gasoleo Premium\n",
    "sin_suministro_g95E5 = df_n['Precio Gasolina 95 E5'].isnull().sum()\n",
    "sin_suministro_g95E5"
   ]
  },
  {
   "cell_type": "code",
   "execution_count": 85,
   "id": "c8cc07ca",
   "metadata": {},
   "outputs": [
    {
     "data": {
      "text/plain": [
       "0"
      ]
     },
     "execution_count": 85,
     "metadata": {},
     "output_type": "execute_result"
    }
   ],
   "source": [
    "ceros_sin_suministro_g95E5  = (df_n['Precio Gasolina 95 E5'] == 0).sum()\n",
    "ceros_sin_suministro_g95E5 "
   ]
  },
  {
   "cell_type": "markdown",
   "id": "fe877ab4",
   "metadata": {},
   "source": [
    "# Precio Gasolina 95 E5 Premium"
   ]
  },
  {
   "cell_type": "code",
   "execution_count": 86,
   "id": "5586de3c",
   "metadata": {},
   "outputs": [
    {
     "name": "stdout",
     "output_type": "stream",
     "text": [
      "104\n",
      "<class 'numpy.ndarray'>\n"
     ]
    },
    {
     "data": {
      "text/plain": [
       "array(['', '1,659', '1,649', '1,609', '1,719', '1,669', '1,695', '1,619',\n",
       "       '1,699', '1,689', '1,665', '1,709', '1,769', '1,629', '1,725',\n",
       "       '1,679', '1,684', '1,785', '1,714', '1,729', '1,715', '1,775',\n",
       "       '1,749', '1,498', '1,484', '1,429', '1,505', '1,685', '1,759',\n",
       "       '1,789', '1,739', '1,599', '1,569', '1,635', '1,764', '1,675',\n",
       "       '1,705', '1,779', '1,735', '1,765', '1,799', '1,809', '1,639',\n",
       "       '1,755', '1,664', '1,559', '1,815', '1,754', '1,805', '1,819',\n",
       "       '1,869', '1,539', '1,745', '1,795', '1,704', '1,674', '1,529',\n",
       "       '1,568', '1,499', '1,627', '1,374', '1,645', '1,720', '1,724',\n",
       "       '1,899', '1,694', '1,698', '1,576', '1,589', '1,654', '1,722',\n",
       "       '1,625', '1,708', '1,738', '1,538', '1,509', '1,586', '1,527',\n",
       "       '1,518', '1,577', '1,595', '1,608', '1,703', '1,578', '1,437',\n",
       "       '1,614', '1,733', '1,159', '1,245', '1,229', '1,579', '1,549',\n",
       "       '1,199', '1,246', '1,726', '1,456', '1,829', '1,489', '1,798',\n",
       "       '1,530', '1,520', '1,744', '1,717', '1,668'], dtype=object)"
      ]
     },
     "execution_count": 86,
     "metadata": {},
     "output_type": "execute_result"
    }
   ],
   "source": [
    "g95_E5_P = df_n['Precio Gasolina 95 E5 Premium'].unique()\n",
    "print(len(g95_E5_P))\n",
    "print(type(g95_E5_P))\n",
    "g95_E5_P"
   ]
  },
  {
   "cell_type": "code",
   "execution_count": 87,
   "id": "4758d3d3",
   "metadata": {},
   "outputs": [],
   "source": [
    "# Convertimos columna categórica a numérica, primero tenemos que sustituir , por .\n",
    "df_n['Precio Gasolina 95 E5 Premium']=df_n['Precio Gasolina 95 E5 Premium'].str.replace(',','.')\n",
    "df_n[['Precio Gasolina 95 E5 Premium']]=df_n[['Precio Gasolina 95 E5 Premium']].apply(pd.to_numeric)"
   ]
  },
  {
   "cell_type": "code",
   "execution_count": 88,
   "id": "7d0a8e3a",
   "metadata": {},
   "outputs": [
    {
     "data": {
      "text/plain": [
       "count    852.000000\n",
       "mean       1.693081\n",
       "std        0.074537\n",
       "min        1.159000\n",
       "25%        1.669000\n",
       "50%        1.705000\n",
       "75%        1.739000\n",
       "max        1.899000\n",
       "Name: Precio Gasolina 95 E5 Premium, dtype: float64"
      ]
     },
     "execution_count": 88,
     "metadata": {},
     "output_type": "execute_result"
    }
   ],
   "source": [
    "df_n['Precio Gasolina 95 E5 Premium'].describe()"
   ]
  },
  {
   "cell_type": "code",
   "execution_count": 89,
   "id": "4a815e9d",
   "metadata": {},
   "outputs": [
    {
     "data": {
      "text/plain": [
       "10883"
      ]
     },
     "execution_count": 89,
     "metadata": {},
     "output_type": "execute_result"
    }
   ],
   "source": [
    "# Registros sin venta Gasolina 95 E5 Premium\n",
    "sin_suministro_g95E5_Prem = df_n['Precio Gasolina 95 E5 Premium'].isnull().sum()\n",
    "sin_suministro_g95E5_Prem"
   ]
  },
  {
   "cell_type": "code",
   "execution_count": 90,
   "id": "7ae51272",
   "metadata": {},
   "outputs": [
    {
     "data": {
      "text/plain": [
       "0"
      ]
     },
     "execution_count": 90,
     "metadata": {},
     "output_type": "execute_result"
    }
   ],
   "source": [
    "ceros_sin_suministro_g95E5_Prem  = (df_n['Precio Gasolina 95 E5 Premium'] == 0).sum()\n",
    "ceros_sin_suministro_g95E5 "
   ]
  },
  {
   "cell_type": "markdown",
   "id": "477ee508",
   "metadata": {},
   "source": [
    "# Precio Gasolina 98 E10"
   ]
  },
  {
   "cell_type": "code",
   "execution_count": 91,
   "id": "3b8c6a20",
   "metadata": {},
   "outputs": [
    {
     "name": "stdout",
     "output_type": "stream",
     "text": [
      "15\n",
      "<class 'numpy.ndarray'>\n"
     ]
    },
    {
     "data": {
      "text/plain": [
       "array(['', '1,799', '1,829', '1,699', '1,589', '1,669', '1,629', '1,995',\n",
       "       '1,585', '1,679', '1,749', '1,655', '1,739', '1,349', '1,688'],\n",
       "      dtype=object)"
      ]
     },
     "execution_count": 91,
     "metadata": {},
     "output_type": "execute_result"
    }
   ],
   "source": [
    "g98_E10 = df_n['Precio Gasolina 98 E10'].unique()\n",
    "print(len(g98_E10))\n",
    "print(type(g98_E10))\n",
    "g98_E10"
   ]
  },
  {
   "cell_type": "code",
   "execution_count": 92,
   "id": "77f0708e",
   "metadata": {},
   "outputs": [],
   "source": [
    "# Convertimos columna categórica a numérica, primero tenemos que sustituir , por .\n",
    "df_n['Precio Gasolina 98 E10']=df_n['Precio Gasolina 98 E10'].str.replace(',','.')\n",
    "df_n[['Precio Gasolina 98 E10']]=df_n[['Precio Gasolina 98 E10']].apply(pd.to_numeric)"
   ]
  },
  {
   "cell_type": "code",
   "execution_count": 93,
   "id": "0ce30530",
   "metadata": {},
   "outputs": [
    {
     "data": {
      "text/plain": [
       "count    16.000000\n",
       "mean      1.686313\n",
       "std       0.135841\n",
       "min       1.349000\n",
       "25%       1.629000\n",
       "50%       1.683500\n",
       "75%       1.741500\n",
       "max       1.995000\n",
       "Name: Precio Gasolina 98 E10, dtype: float64"
      ]
     },
     "execution_count": 93,
     "metadata": {},
     "output_type": "execute_result"
    }
   ],
   "source": [
    "df_n['Precio Gasolina 98 E10'].describe()"
   ]
  },
  {
   "cell_type": "code",
   "execution_count": 94,
   "id": "7846a3d5",
   "metadata": {},
   "outputs": [
    {
     "data": {
      "text/plain": [
       "11719"
      ]
     },
     "execution_count": 94,
     "metadata": {},
     "output_type": "execute_result"
    }
   ],
   "source": [
    "# Registros sin venta Gasolina 98 E10 \n",
    "sin_suministro_g98E10 = df_n['Precio Gasolina 98 E10'].isnull().sum()\n",
    "sin_suministro_g98E10"
   ]
  },
  {
   "cell_type": "markdown",
   "id": "d0eca28a",
   "metadata": {},
   "source": [
    "# Precio Gasolina 98 E5"
   ]
  },
  {
   "cell_type": "code",
   "execution_count": 95,
   "id": "b948ed78",
   "metadata": {},
   "outputs": [
    {
     "name": "stdout",
     "output_type": "stream",
     "text": [
      "388\n",
      "<class 'numpy.ndarray'>\n"
     ]
    },
    {
     "data": {
      "text/plain": [
       "array(['', '1,761', '1,739', '1,759', '1,751', '1,719', '1,549', '1,789',\n",
       "       '1,699', '1,689', '1,681', '1,729', '1,779', '2,369', '1,741',\n",
       "       '1,749', '1,769', '1,709', '1,781', '1,799', '1,819', '1,798',\n",
       "       '1,696', '1,889', '1,771', '1,814', '1,735', '1,841', '1,764',\n",
       "       '1,801', '1,791', '1,676', '1,768', '1,763', '1,758', '1,599',\n",
       "       '1,809', '1,999', '1,829', '1,858', '1,757', '1,835', '1,831',\n",
       "       '1,794', '1,795', '1,861', '1,824', '1,849', '1,786', '1,765',\n",
       "       '1,585', '1,716', '1,700', '1,821', '1,774', '1,820', '1,879',\n",
       "       '2,999', '1,825', '1,805', '1,877', '1,669', '1,756', '1,647',\n",
       "       '1,755', '1,752', '1,506', '1,800', '1,691', '1,780', '2,000',\n",
       "       '1,869', '1,683', '1,645', '1,846', '1,750', '1,901', '1,808',\n",
       "       '1,619', '1,811', '1,629', '1,839', '1,715', '1,731', '1,698',\n",
       "       '1,838', '1,776', '1,788', '1,620', '1,802', '1,919', '1,770',\n",
       "       '1,827', '1,851', '1,859', '1,721', '1,784', '1,826', '1,725',\n",
       "       '1,734', '1,724', '1,775', '1,579', '1,688', '1,785', '1,659',\n",
       "       '1,744', '1,658', '1,837', '1,836', '1,828', '1,871', '1,639',\n",
       "       '1,867', '1,679', '1,868', '1,705', '1,672', '1,899', '1,863',\n",
       "       '1,728', '1,649', '1,631', '1,787', '1,682', '1,844', '1,860',\n",
       "       '1,492', '1,684', '1,539', '1,598', '1,675', '1,845', '1,495',\n",
       "       '1,834', '1,670', '1,459', '1,714', '1,589', '1,491', '1,665',\n",
       "       '1,569', '1,760', '1,609', '1,635', '1,754', '1,865', '1,815',\n",
       "       '1,695', '1,936', '1,848', '1,738', '1,818', '1,958', '1,710',\n",
       "       '1,748', '1,745', '1,746', '1,778', '1,678', '1,736', '1,804',\n",
       "       '1,582', '1,529', '1,857', '1,909', '1,806', '1,830', '1,354',\n",
       "       '1,358', '2,109', '2,229', '1,697', '1,722', '1,671', '1,638',\n",
       "       '1,657', '1,817', '1,712', '1,847', '1,888', '1,855', '1,500',\n",
       "       '1,718', '1,777', '1,772', '1,797', '2,139', '1,872', '1,580',\n",
       "       '1,949', '1,720', '1,600', '1,668', '1,571', '2,500', '1,685',\n",
       "       '1,773', '1,790', '1,796', '1,674', '2,199', '1,740', '1,662',\n",
       "       '1,782', '1,630', '2,299', '1,615', '1,706', '1,534', '1,704',\n",
       "       '1,727', '1,496', '1,766', '1,618', '1,703', '2,020', '1,499',\n",
       "       '1,637', '1,641', '1,677', '1,664', '1,634', '1,793', '1,850',\n",
       "       '1,566', '1,701', '2,239', '1,810', '1,890', '1,694', '1,597',\n",
       "       '1,655', '1,812', '1,628', '1,743', '1,661', '1,587', '1,560',\n",
       "       '1,555', '1,711', '1,708', '1,680', '1,737', '1,359', '1,279',\n",
       "       '1,209', '1,324', '1,314', '1,249', '1,250', '1,200', '1,184',\n",
       "       '1,210', '1,259', '1,454', '1,488', '1,455', '1,470', '1,458',\n",
       "       '1,469', '1,460', '1,513', '1,379', '1,349', '1,344', '1,352',\n",
       "       '1,289', '1,276', '1,346', '1,329', '1,399', '1,189', '1,139',\n",
       "       '1,180', '1,369', '1,350', '1,450', '1,415', '1,554', '1,339',\n",
       "       '1,364', '1,304', '1,299', '1,362', '1,264', '1,335', '1,337',\n",
       "       '1,319', '1,340', '1,475', '1,400', '1,385', '1,483', '1,514',\n",
       "       '1,453', '1,334', '1,356', '1,328', '1,290', '1,309', '1,330',\n",
       "       '1,247', '1,296', '1,418', '1,419', '1,494', '1,437', '1,380',\n",
       "       '1,518', '1,374', '1,357', '1,425', '1,559', '1,449', '1,954',\n",
       "       '1,702', '1,878', '1,747', '1,557', '1,648', '1,497', '1,644',\n",
       "       '1,742', '1,318', '1,220', '1,444', '1,531', '1,301', '1,284',\n",
       "       '1,224', '1,285', '1,283', '1,302', '1,307', '1,227', '1,229',\n",
       "       '1,375', '1,551', '1,382', '1,528', '1,322', '1,325', '1,245',\n",
       "       '1,305', '1,345', '1,300', '1,287', '1,298', '1,288', '1,214',\n",
       "       '1,462', '1,316', '1,320', '1,327', '1,294', '1,303', '1,348',\n",
       "       '1,323', '1,315', '1,321', '1,326', '1,278', '1,429', '1,363',\n",
       "       '1,225', '1,308', '1,297', '1,269', '1,387', '1,887', '1,595',\n",
       "       '1,862', '1,822', '1,816', '2,450', '1,707', '1,690', '1,667',\n",
       "       '2,220', '1,687', '1,590', '1,617', '1,576', '1,807', '1,666',\n",
       "       '2,038', '1,979'], dtype=object)"
      ]
     },
     "execution_count": 95,
     "metadata": {},
     "output_type": "execute_result"
    }
   ],
   "source": [
    "g98_E5 = df_n['Precio Gasolina 98 E5'].unique()\n",
    "print(len(g98_E5))\n",
    "print(type(g98_E5))\n",
    "g98_E5"
   ]
  },
  {
   "cell_type": "code",
   "execution_count": 96,
   "id": "4763d458",
   "metadata": {},
   "outputs": [],
   "source": [
    "# Convertimos columna categórica a numérica, primero tenemos que sustituir , por .\n",
    "df_n['Precio Gasolina 98 E5']=df_n['Precio Gasolina 98 E5'].str.replace(',','.')\n",
    "df_n[['Precio Gasolina 98 E5']]=df_n[['Precio Gasolina 98 E5']].apply(pd.to_numeric)"
   ]
  },
  {
   "cell_type": "code",
   "execution_count": 97,
   "id": "767e87d9",
   "metadata": {},
   "outputs": [
    {
     "data": {
      "text/plain": [
       "count    5806.000000\n",
       "mean        1.743615\n",
       "std         0.131908\n",
       "min         1.139000\n",
       "25%         1.729000\n",
       "50%         1.775000\n",
       "75%         1.809000\n",
       "max         2.999000\n",
       "Name: Precio Gasolina 98 E5, dtype: float64"
      ]
     },
     "execution_count": 97,
     "metadata": {},
     "output_type": "execute_result"
    }
   ],
   "source": [
    "df_n['Precio Gasolina 98 E5'].describe()"
   ]
  },
  {
   "cell_type": "code",
   "execution_count": 98,
   "id": "d9fb7e91",
   "metadata": {},
   "outputs": [
    {
     "data": {
      "text/plain": [
       "5929"
      ]
     },
     "execution_count": 98,
     "metadata": {},
     "output_type": "execute_result"
    }
   ],
   "source": [
    "# Registros sin venta Gasolina 98 E5 \n",
    "sin_suministro_g98E5 = df_n['Precio Gasolina 98 E5'].isnull().sum()\n",
    "sin_suministro_g98E5"
   ]
  },
  {
   "cell_type": "code",
   "execution_count": 99,
   "id": "ad3ee76b",
   "metadata": {},
   "outputs": [
    {
     "data": {
      "text/plain": [
       "0"
      ]
     },
     "execution_count": 99,
     "metadata": {},
     "output_type": "execute_result"
    }
   ],
   "source": [
    "ceros_sin_suministro_g98E5  = (df_n['Precio Gasolina 98 E5'] == 0).sum()\n",
    "ceros_sin_suministro_g98E5 "
   ]
  },
  {
   "cell_type": "markdown",
   "id": "d8566cb1",
   "metadata": {},
   "source": [
    "# Precio Hidrogeno "
   ]
  },
  {
   "cell_type": "code",
   "execution_count": 100,
   "id": "8092ec5a",
   "metadata": {},
   "outputs": [
    {
     "name": "stdout",
     "output_type": "stream",
     "text": [
      "1\n",
      "<class 'numpy.ndarray'>\n"
     ]
    },
    {
     "data": {
      "text/plain": [
       "array([''], dtype=object)"
      ]
     },
     "execution_count": 100,
     "metadata": {},
     "output_type": "execute_result"
    }
   ],
   "source": [
    "Hidrongeno = df_n['Precio Hidrogeno'].unique()\n",
    "print(len(Hidrongeno))\n",
    "print(type(Hidrongeno))\n",
    "Hidrongeno"
   ]
  },
  {
   "cell_type": "code",
   "execution_count": 101,
   "id": "38acbbd6",
   "metadata": {},
   "outputs": [],
   "source": [
    "# Convertimos columna categórica a numérica, primero tenemos que sustituir , por .\n",
    "df_n['Precio Hidrogeno']=df_n['Precio Hidrogeno'].str.replace(',','.')\n",
    "df_n[['Precio Hidrogeno']]=df_n[['Precio Hidrogeno']].apply(pd.to_numeric)"
   ]
  },
  {
   "cell_type": "code",
   "execution_count": 102,
   "id": "1b19941a",
   "metadata": {},
   "outputs": [
    {
     "data": {
      "text/plain": [
       "count    0.0\n",
       "mean     NaN\n",
       "std      NaN\n",
       "min      NaN\n",
       "25%      NaN\n",
       "50%      NaN\n",
       "75%      NaN\n",
       "max      NaN\n",
       "Name: Precio Hidrogeno, dtype: float64"
      ]
     },
     "execution_count": 102,
     "metadata": {},
     "output_type": "execute_result"
    }
   ],
   "source": [
    "df_n['Precio Hidrogeno'].describe()"
   ]
  },
  {
   "cell_type": "code",
   "execution_count": 103,
   "id": "c6802106",
   "metadata": {},
   "outputs": [
    {
     "name": "stdout",
     "output_type": "stream",
     "text": [
      "<class 'pandas.core.frame.DataFrame'>\n",
      "RangeIndex: 11735 entries, 0 to 11734\n",
      "Data columns (total 33 columns):\n",
      " #   Column                              Non-Null Count  Dtype  \n",
      "---  ------                              --------------  -----  \n",
      " 0   Fecha                               11735 non-null  object \n",
      " 1   C.P.                                11735 non-null  object \n",
      " 2   Dirección                           11735 non-null  object \n",
      " 3   Horario                             11735 non-null  object \n",
      " 4   Latitud                             11735 non-null  object \n",
      " 5   Localidad                           11735 non-null  object \n",
      " 6   Longitud (WGS84)                    11735 non-null  object \n",
      " 7   Margen                              11735 non-null  object \n",
      " 8   Municipio                           11735 non-null  object \n",
      " 9   Precio Biodiesel                    34 non-null     float64\n",
      " 10  Precio Bioetanol                    4 non-null      float64\n",
      " 11  Precio Gas Natural Comprimido       141 non-null    float64\n",
      " 12  Precio Gas Natural Licuado          91 non-null     float64\n",
      " 13  Precio Gases licuados del petróleo  861 non-null    float64\n",
      " 14  Precio Gasoleo A                    11368 non-null  float64\n",
      " 15  Precio Gasoleo B                    2961 non-null   float64\n",
      " 16  Precio Gasoleo Premium              7413 non-null   float64\n",
      " 17  Precio Gasolina 95 E10              22 non-null     float64\n",
      " 18  Precio Gasolina 95 E5               10601 non-null  float64\n",
      " 19  Precio Gasolina 95 E5 Premium       852 non-null    float64\n",
      " 20  Precio Gasolina 98 E10              16 non-null     float64\n",
      " 21  Precio Gasolina 98 E5               5806 non-null   float64\n",
      " 22  Precio Hidrogeno                    0 non-null      float64\n",
      " 23  Provincia                           11735 non-null  object \n",
      " 24  Remisión                            11735 non-null  object \n",
      " 25  Rótulo                              11735 non-null  object \n",
      " 26  Tipo Venta                          11735 non-null  object \n",
      " 27  % BioEtanol                         11735 non-null  object \n",
      " 28  % Éster metílico                    11735 non-null  object \n",
      " 29  IDEESS                              11735 non-null  object \n",
      " 30  IDMunicipio                         11735 non-null  object \n",
      " 31  IDProvincia                         11735 non-null  object \n",
      " 32  IDCCAA                              11735 non-null  object \n",
      "dtypes: float64(14), object(19)\n",
      "memory usage: 3.0+ MB\n"
     ]
    }
   ],
   "source": [
    "df_n.info()"
   ]
  },
  {
   "cell_type": "markdown",
   "id": "0b486d1c",
   "metadata": {},
   "source": [
    "---\n",
    "Setp 3\n",
    "\n",
    "# Limpieza de Columnas"
   ]
  },
  {
   "cell_type": "code",
   "execution_count": 104,
   "id": "58959813",
   "metadata": {},
   "outputs": [],
   "source": [
    "# Eliminiación de columnas que no interesan a nivel usuario o que no aportan datos significativos al modelo\n",
    "df_n.drop(['Margen', 'Remisión', 'Tipo Venta', '% BioEtanol', '% Éster metílico', 'Precio Biodiesel',\n",
    "          'Precio Bioetanol', 'Precio Gas Natural Comprimido', 'Precio Gas Natural Licuado', \n",
    "          'Precio Gas Natural Licuado', 'Precio Gases licuados del petróleo', 'Precio Gasolina 95 E10',\n",
    "          'Precio Gasolina 95 E5 Premium', 'Precio Gasolina 98 E10', 'Precio Hidrogeno'], axis=1, inplace=True)\n"
   ]
  },
  {
   "cell_type": "code",
   "execution_count": 105,
   "id": "1f4e6f15",
   "metadata": {},
   "outputs": [
    {
     "data": {
      "text/plain": [
       "Precio Gasoleo B    NaN\n",
       "Name: 15, dtype: object"
      ]
     },
     "execution_count": 105,
     "metadata": {},
     "output_type": "execute_result"
    }
   ],
   "source": [
    "# Comprobación\n",
    "df_n.iloc[15][['Precio Gasoleo B']]"
   ]
  },
  {
   "cell_type": "code",
   "execution_count": 106,
   "id": "a9fe557e",
   "metadata": {},
   "outputs": [
    {
     "data": {
      "text/html": [
       "<div>\n",
       "<style scoped>\n",
       "    .dataframe tbody tr th:only-of-type {\n",
       "        vertical-align: middle;\n",
       "    }\n",
       "\n",
       "    .dataframe tbody tr th {\n",
       "        vertical-align: top;\n",
       "    }\n",
       "\n",
       "    .dataframe thead th {\n",
       "        text-align: right;\n",
       "    }\n",
       "</style>\n",
       "<table border=\"1\" class=\"dataframe\">\n",
       "  <thead>\n",
       "    <tr style=\"text-align: right;\">\n",
       "      <th></th>\n",
       "      <th>Fecha</th>\n",
       "      <th>C.P.</th>\n",
       "      <th>Dirección</th>\n",
       "      <th>Horario</th>\n",
       "      <th>Latitud</th>\n",
       "      <th>Localidad</th>\n",
       "      <th>Longitud (WGS84)</th>\n",
       "      <th>Municipio</th>\n",
       "      <th>Precio Gasoleo A</th>\n",
       "      <th>Precio Gasoleo B</th>\n",
       "      <th>Precio Gasoleo Premium</th>\n",
       "      <th>Precio Gasolina 95 E5</th>\n",
       "      <th>Precio Gasolina 98 E5</th>\n",
       "      <th>Provincia</th>\n",
       "      <th>Rótulo</th>\n",
       "      <th>IDEESS</th>\n",
       "      <th>IDMunicipio</th>\n",
       "      <th>IDProvincia</th>\n",
       "      <th>IDCCAA</th>\n",
       "    </tr>\n",
       "  </thead>\n",
       "  <tbody>\n",
       "    <tr>\n",
       "      <th>0</th>\n",
       "      <td>12/07/2023 13:38:44</td>\n",
       "      <td>02250</td>\n",
       "      <td>AVENIDA CASTILLA LA MANCHA, 26</td>\n",
       "      <td>L-D: 07:00-22:00</td>\n",
       "      <td>39,211417</td>\n",
       "      <td>ABENGIBRE</td>\n",
       "      <td>-1,539167</td>\n",
       "      <td>Abengibre</td>\n",
       "      <td>1.359</td>\n",
       "      <td>0.999</td>\n",
       "      <td>NaN</td>\n",
       "      <td>1.549</td>\n",
       "      <td>NaN</td>\n",
       "      <td>ALBACETE</td>\n",
       "      <td>Nº 10.935</td>\n",
       "      <td>4375</td>\n",
       "      <td>52</td>\n",
       "      <td>02</td>\n",
       "      <td>07</td>\n",
       "    </tr>\n",
       "    <tr>\n",
       "      <th>1</th>\n",
       "      <td>12/07/2023 13:38:44</td>\n",
       "      <td>02001</td>\n",
       "      <td>CALLE PRINCIPE DE ASTURIAS (POLÍGONO DE ROMICA...</td>\n",
       "      <td>L-D: 06:00-21:30</td>\n",
       "      <td>39,054694</td>\n",
       "      <td>ALBACETE</td>\n",
       "      <td>-1,832000</td>\n",
       "      <td>Albacete</td>\n",
       "      <td>1.489</td>\n",
       "      <td>NaN</td>\n",
       "      <td>1.579</td>\n",
       "      <td>1.619</td>\n",
       "      <td>1.761</td>\n",
       "      <td>ALBACETE</td>\n",
       "      <td>BP ROMICA</td>\n",
       "      <td>12054</td>\n",
       "      <td>54</td>\n",
       "      <td>02</td>\n",
       "      <td>07</td>\n",
       "    </tr>\n",
       "    <tr>\n",
       "      <th>2</th>\n",
       "      <td>12/07/2023 13:38:44</td>\n",
       "      <td>02001</td>\n",
       "      <td>AVENIDA 1º DE MAYO, S/N</td>\n",
       "      <td>L-S: 08:00-22:00; D: 09:00-21:00</td>\n",
       "      <td>38,985667</td>\n",
       "      <td>ALBACETE</td>\n",
       "      <td>-1,868500</td>\n",
       "      <td>Albacete</td>\n",
       "      <td>1.499</td>\n",
       "      <td>NaN</td>\n",
       "      <td>1.539</td>\n",
       "      <td>1.619</td>\n",
       "      <td>1.739</td>\n",
       "      <td>ALBACETE</td>\n",
       "      <td>CARREFOUR</td>\n",
       "      <td>10765</td>\n",
       "      <td>54</td>\n",
       "      <td>02</td>\n",
       "      <td>07</td>\n",
       "    </tr>\n",
       "    <tr>\n",
       "      <th>3</th>\n",
       "      <td>12/07/2023 13:38:44</td>\n",
       "      <td>02001</td>\n",
       "      <td>CALLE FEDERICO GARCIA LORCA, 5</td>\n",
       "      <td>L-S: 05:00-23:00</td>\n",
       "      <td>38,997722</td>\n",
       "      <td>ALBACETE</td>\n",
       "      <td>-1,846361</td>\n",
       "      <td>Albacete</td>\n",
       "      <td>1.515</td>\n",
       "      <td>NaN</td>\n",
       "      <td>NaN</td>\n",
       "      <td>NaN</td>\n",
       "      <td>NaN</td>\n",
       "      <td>ALBACETE</td>\n",
       "      <td>CEPSA</td>\n",
       "      <td>4438</td>\n",
       "      <td>54</td>\n",
       "      <td>02</td>\n",
       "      <td>07</td>\n",
       "    </tr>\n",
       "    <tr>\n",
       "      <th>4</th>\n",
       "      <td>12/07/2023 13:38:44</td>\n",
       "      <td>02001</td>\n",
       "      <td>CALLE FEDERICO GARCIA LORCA, 1</td>\n",
       "      <td>L-D: 24H</td>\n",
       "      <td>39,000861</td>\n",
       "      <td>ALBACETE</td>\n",
       "      <td>-1,849833</td>\n",
       "      <td>Albacete</td>\n",
       "      <td>1.319</td>\n",
       "      <td>NaN</td>\n",
       "      <td>NaN</td>\n",
       "      <td>1.469</td>\n",
       "      <td>NaN</td>\n",
       "      <td>ALBACETE</td>\n",
       "      <td>PLENOIL</td>\n",
       "      <td>13933</td>\n",
       "      <td>54</td>\n",
       "      <td>02</td>\n",
       "      <td>07</td>\n",
       "    </tr>\n",
       "  </tbody>\n",
       "</table>\n",
       "</div>"
      ],
      "text/plain": [
       "                 Fecha   C.P.  \\\n",
       "0  12/07/2023 13:38:44  02250   \n",
       "1  12/07/2023 13:38:44  02001   \n",
       "2  12/07/2023 13:38:44  02001   \n",
       "3  12/07/2023 13:38:44  02001   \n",
       "4  12/07/2023 13:38:44  02001   \n",
       "\n",
       "                                           Dirección  \\\n",
       "0                     AVENIDA CASTILLA LA MANCHA, 26   \n",
       "1  CALLE PRINCIPE DE ASTURIAS (POLÍGONO DE ROMICA...   \n",
       "2                            AVENIDA 1º DE MAYO, S/N   \n",
       "3                     CALLE FEDERICO GARCIA LORCA, 5   \n",
       "4                     CALLE FEDERICO GARCIA LORCA, 1   \n",
       "\n",
       "                            Horario    Latitud  Localidad Longitud (WGS84)  \\\n",
       "0                  L-D: 07:00-22:00  39,211417  ABENGIBRE        -1,539167   \n",
       "1                  L-D: 06:00-21:30  39,054694   ALBACETE        -1,832000   \n",
       "2  L-S: 08:00-22:00; D: 09:00-21:00  38,985667   ALBACETE        -1,868500   \n",
       "3                  L-S: 05:00-23:00  38,997722   ALBACETE        -1,846361   \n",
       "4                          L-D: 24H  39,000861   ALBACETE        -1,849833   \n",
       "\n",
       "   Municipio  Precio Gasoleo A  Precio Gasoleo B  Precio Gasoleo Premium  \\\n",
       "0  Abengibre             1.359             0.999                     NaN   \n",
       "1   Albacete             1.489               NaN                   1.579   \n",
       "2   Albacete             1.499               NaN                   1.539   \n",
       "3   Albacete             1.515               NaN                     NaN   \n",
       "4   Albacete             1.319               NaN                     NaN   \n",
       "\n",
       "   Precio Gasolina 95 E5  Precio Gasolina 98 E5 Provincia     Rótulo IDEESS  \\\n",
       "0                  1.549                    NaN  ALBACETE  Nº 10.935   4375   \n",
       "1                  1.619                  1.761  ALBACETE  BP ROMICA  12054   \n",
       "2                  1.619                  1.739  ALBACETE  CARREFOUR  10765   \n",
       "3                    NaN                    NaN  ALBACETE      CEPSA   4438   \n",
       "4                  1.469                    NaN  ALBACETE    PLENOIL  13933   \n",
       "\n",
       "  IDMunicipio IDProvincia IDCCAA  \n",
       "0          52          02     07  \n",
       "1          54          02     07  \n",
       "2          54          02     07  \n",
       "3          54          02     07  \n",
       "4          54          02     07  "
      ]
     },
     "execution_count": 106,
     "metadata": {},
     "output_type": "execute_result"
    }
   ],
   "source": [
    "df_n.head()"
   ]
  },
  {
   "cell_type": "code",
   "execution_count": 107,
   "id": "d7336670",
   "metadata": {},
   "outputs": [
    {
     "data": {
      "text/html": [
       "<div>\n",
       "<style scoped>\n",
       "    .dataframe tbody tr th:only-of-type {\n",
       "        vertical-align: middle;\n",
       "    }\n",
       "\n",
       "    .dataframe tbody tr th {\n",
       "        vertical-align: top;\n",
       "    }\n",
       "\n",
       "    .dataframe thead th {\n",
       "        text-align: right;\n",
       "    }\n",
       "</style>\n",
       "<table border=\"1\" class=\"dataframe\">\n",
       "  <thead>\n",
       "    <tr style=\"text-align: right;\">\n",
       "      <th></th>\n",
       "      <th>Fecha</th>\n",
       "      <th>C.P.</th>\n",
       "      <th>Dirección</th>\n",
       "      <th>Horario</th>\n",
       "      <th>Latitud</th>\n",
       "      <th>Localidad</th>\n",
       "      <th>Longitud (WGS84)</th>\n",
       "      <th>Municipio</th>\n",
       "      <th>Gasoleo A</th>\n",
       "      <th>Gasoleo B</th>\n",
       "      <th>Gasoleo Premium</th>\n",
       "      <th>Gasolina 95 E5</th>\n",
       "      <th>Gasolina 98 E5</th>\n",
       "      <th>Provincia</th>\n",
       "      <th>Proveedor de Servicio</th>\n",
       "      <th>IDEESS</th>\n",
       "      <th>IDMunicipio</th>\n",
       "      <th>IDProvincia</th>\n",
       "      <th>IDCCAA</th>\n",
       "    </tr>\n",
       "  </thead>\n",
       "  <tbody>\n",
       "    <tr>\n",
       "      <th>0</th>\n",
       "      <td>12/07/2023 13:38:44</td>\n",
       "      <td>02250</td>\n",
       "      <td>AVENIDA CASTILLA LA MANCHA, 26</td>\n",
       "      <td>L-D: 07:00-22:00</td>\n",
       "      <td>39,211417</td>\n",
       "      <td>ABENGIBRE</td>\n",
       "      <td>-1,539167</td>\n",
       "      <td>Abengibre</td>\n",
       "      <td>1.359</td>\n",
       "      <td>0.999</td>\n",
       "      <td>NaN</td>\n",
       "      <td>1.549</td>\n",
       "      <td>NaN</td>\n",
       "      <td>ALBACETE</td>\n",
       "      <td>Nº 10.935</td>\n",
       "      <td>4375</td>\n",
       "      <td>52</td>\n",
       "      <td>02</td>\n",
       "      <td>07</td>\n",
       "    </tr>\n",
       "  </tbody>\n",
       "</table>\n",
       "</div>"
      ],
      "text/plain": [
       "                 Fecha   C.P.                       Dirección  \\\n",
       "0  12/07/2023 13:38:44  02250  AVENIDA CASTILLA LA MANCHA, 26   \n",
       "\n",
       "            Horario    Latitud  Localidad Longitud (WGS84)  Municipio  \\\n",
       "0  L-D: 07:00-22:00  39,211417  ABENGIBRE        -1,539167  Abengibre   \n",
       "\n",
       "   Gasoleo A  Gasoleo B  Gasoleo Premium  Gasolina 95 E5  Gasolina 98 E5  \\\n",
       "0      1.359      0.999              NaN           1.549             NaN   \n",
       "\n",
       "  Provincia Proveedor de Servicio IDEESS IDMunicipio IDProvincia IDCCAA  \n",
       "0  ALBACETE             Nº 10.935   4375          52          02     07  "
      ]
     },
     "execution_count": 107,
     "metadata": {},
     "output_type": "execute_result"
    }
   ],
   "source": [
    "# Renombramos las columnas\n",
    "df_n.rename(columns={\"Precio Gasoleo A\": \"Gasoleo A\", \"Precio Gasoleo B\": \"Gasoleo B\" ,\"Precio Gasoleo Premium\": \"Gasoleo Premium\", \n",
    "                     \"Precio Gasolina 95 E5\": \"Gasolina 95 E5\", \"Precio Gasolina 98 E5\": \"Gasolina 98 E5\",\n",
    "                     \"Rótulo\":\"Proveedor de Servicio\"}, inplace=True)\n",
    "df_n.head(1)"
   ]
  },
  {
   "cell_type": "code",
   "execution_count": 108,
   "id": "365e7b0f",
   "metadata": {},
   "outputs": [],
   "source": [
    "# Media Nacional\n",
    "df_n['Media Nacional Gasoleo A']=df_n['Gasoleo A'].mean()\n",
    "df_n['Media Nacional Gasoleo B']=df_n['Gasoleo B'].mean()\n",
    "df_n['Media Nacional Gasoleo P'] = df_n['Gasoleo Premium'].mean()\n",
    "df_n['Media Nacional Gasolina 95']=df_n['Gasolina 95 E5'].mean()\n",
    "df_n['Media Nacional Gasolina 98']=df_n['Gasolina 98 E5'].mean()\n"
   ]
  },
  {
   "cell_type": "markdown",
   "id": "d3a6aefe",
   "metadata": {},
   "source": [
    "# Media de precios respecto al código postal"
   ]
  },
  {
   "cell_type": "code",
   "execution_count": 110,
   "id": "2209ce36",
   "metadata": {},
   "outputs": [],
   "source": [
    "# Media Código Postal de Gasoleo A\n",
    "def cp_media_A(x):\n",
    "# x = Código Postal\n",
    "    cod_postal = df_n[df_n['C.P.'] == x]\n",
    "    media_cp_GA = cod_postal[['Gasoleo A']].mean()\n",
    "    return media_cp_GA"
   ]
  },
  {
   "cell_type": "code",
   "execution_count": 111,
   "id": "5875ac4a",
   "metadata": {},
   "outputs": [],
   "source": [
    "# Media Código Postal de Gasoleo B\n",
    "def cp_media_B(x):\n",
    "# x = Código Postal\n",
    "    cod_postal = df_n[df_n['C.P.'] == x]\n",
    "    media_cp_GB = cod_postal[['Gasoleo B']].mean()\n",
    "    return media_cp_GB"
   ]
  },
  {
   "cell_type": "code",
   "execution_count": 112,
   "id": "64d8473f",
   "metadata": {},
   "outputs": [],
   "source": [
    "# Media Código Postal de Gasoleo Premium\n",
    "def cp_media_P(x):\n",
    "# x = Código Postal\n",
    "    cod_postal = df_n[df_n['C.P.'] == x]\n",
    "    media_cp_GP = cod_postal[['Gasoleo B']].mean()\n",
    "    return media_cp_GP"
   ]
  },
  {
   "cell_type": "code",
   "execution_count": 113,
   "id": "bc519ea4",
   "metadata": {},
   "outputs": [],
   "source": [
    "# Media Código Postal de Gasolina 95 E5\n",
    "def cp_media_95(x):\n",
    "# x = Código Postal\n",
    "    cod_postal = df_n[df_n['C.P.'] == x]\n",
    "    media_cp_G95 = cod_postal[['Gasolina 95 E5']].mean()\n",
    "    return media_cp_G95"
   ]
  },
  {
   "cell_type": "code",
   "execution_count": 114,
   "id": "f61528f9",
   "metadata": {},
   "outputs": [],
   "source": [
    "# Media Código Postal de Gasolina 98 E5\n",
    "def cp_media_98(x):\n",
    "# x = Código Postal\n",
    "    cod_postal = df_n[df_n['C.P.'] == x]\n",
    "    media_cp_G98 = cod_postal[['Gasolina 98 E5']].mean()\n",
    "    return media_cp_G98"
   ]
  },
  {
   "cell_type": "code",
   "execution_count": 115,
   "id": "14655438",
   "metadata": {
    "scrolled": true
   },
   "outputs": [
    {
     "data": {
      "text/plain": [
       "Gasolina 95 E5    1.550714\n",
       "dtype: float64"
      ]
     },
     "execution_count": 115,
     "metadata": {},
     "output_type": "execute_result"
    }
   ],
   "source": [
    "# Comprobación\n",
    "cp_media_95('28760')"
   ]
  },
  {
   "cell_type": "code",
   "execution_count": 116,
   "id": "2c36f287",
   "metadata": {},
   "outputs": [],
   "source": [
    "# Aplicamos la función a la columna\n",
    "df_n[['Media C.P. Gasoleo A']]= df_n['C.P.'].apply(cp_media_A)\n",
    "df_n[['Media C.P. Gasoleo B']]= df_n['C.P.'].apply(cp_media_B)\n",
    "df_n[['Media C.P. Gasoleo P']]= df_n['C.P.'].apply(cp_media_P)\n",
    "df_n[['Media C.P. Gasolina 95']]= df_n['C.P.'].apply(cp_media_95)\n",
    "df_n[['Media C.P. Gasolina 98']]= df_n['C.P.'].apply(cp_media_98)"
   ]
  },
  {
   "cell_type": "code",
   "execution_count": 117,
   "id": "52c69724",
   "metadata": {
    "scrolled": true
   },
   "outputs": [
    {
     "data": {
      "text/html": [
       "<div>\n",
       "<style scoped>\n",
       "    .dataframe tbody tr th:only-of-type {\n",
       "        vertical-align: middle;\n",
       "    }\n",
       "\n",
       "    .dataframe tbody tr th {\n",
       "        vertical-align: top;\n",
       "    }\n",
       "\n",
       "    .dataframe thead th {\n",
       "        text-align: right;\n",
       "    }\n",
       "</style>\n",
       "<table border=\"1\" class=\"dataframe\">\n",
       "  <thead>\n",
       "    <tr style=\"text-align: right;\">\n",
       "      <th></th>\n",
       "      <th>Fecha</th>\n",
       "      <th>C.P.</th>\n",
       "      <th>Dirección</th>\n",
       "      <th>Horario</th>\n",
       "      <th>Latitud</th>\n",
       "      <th>Localidad</th>\n",
       "      <th>Longitud (WGS84)</th>\n",
       "      <th>Municipio</th>\n",
       "      <th>Gasoleo A</th>\n",
       "      <th>Gasoleo B</th>\n",
       "      <th>...</th>\n",
       "      <th>Media Nacional Gasoleo A</th>\n",
       "      <th>Media Nacional Gasoleo B</th>\n",
       "      <th>Media Nacional Gasoleo P</th>\n",
       "      <th>Media Nacional Gasolina 95</th>\n",
       "      <th>Media Nacional Gasolina 98</th>\n",
       "      <th>Media C.P. Gasoleo A</th>\n",
       "      <th>Media C.P. Gasoleo B</th>\n",
       "      <th>Media C.P. Gasoleo P</th>\n",
       "      <th>Media C.P. Gasolina 95</th>\n",
       "      <th>Media C.P. Gasolina 98</th>\n",
       "    </tr>\n",
       "  </thead>\n",
       "  <tbody>\n",
       "    <tr>\n",
       "      <th>0</th>\n",
       "      <td>12/07/2023 13:38:44</td>\n",
       "      <td>02250</td>\n",
       "      <td>AVENIDA CASTILLA LA MANCHA, 26</td>\n",
       "      <td>L-D: 07:00-22:00</td>\n",
       "      <td>39,211417</td>\n",
       "      <td>ABENGIBRE</td>\n",
       "      <td>-1,539167</td>\n",
       "      <td>Abengibre</td>\n",
       "      <td>1.359</td>\n",
       "      <td>0.999</td>\n",
       "      <td>...</td>\n",
       "      <td>1.440322</td>\n",
       "      <td>1.124589</td>\n",
       "      <td>1.549085</td>\n",
       "      <td>1.586366</td>\n",
       "      <td>1.743615</td>\n",
       "      <td>1.3590</td>\n",
       "      <td>0.999</td>\n",
       "      <td>0.999</td>\n",
       "      <td>1.549</td>\n",
       "      <td>NaN</td>\n",
       "    </tr>\n",
       "    <tr>\n",
       "      <th>1</th>\n",
       "      <td>12/07/2023 13:38:44</td>\n",
       "      <td>02001</td>\n",
       "      <td>CALLE PRINCIPE DE ASTURIAS (POLÍGONO DE ROMICA...</td>\n",
       "      <td>L-D: 06:00-21:30</td>\n",
       "      <td>39,054694</td>\n",
       "      <td>ALBACETE</td>\n",
       "      <td>-1,832000</td>\n",
       "      <td>Albacete</td>\n",
       "      <td>1.489</td>\n",
       "      <td>NaN</td>\n",
       "      <td>...</td>\n",
       "      <td>1.440322</td>\n",
       "      <td>1.124589</td>\n",
       "      <td>1.549085</td>\n",
       "      <td>1.586366</td>\n",
       "      <td>1.743615</td>\n",
       "      <td>1.4555</td>\n",
       "      <td>NaN</td>\n",
       "      <td>NaN</td>\n",
       "      <td>1.569</td>\n",
       "      <td>1.75</td>\n",
       "    </tr>\n",
       "    <tr>\n",
       "      <th>2</th>\n",
       "      <td>12/07/2023 13:38:44</td>\n",
       "      <td>02001</td>\n",
       "      <td>AVENIDA 1º DE MAYO, S/N</td>\n",
       "      <td>L-S: 08:00-22:00; D: 09:00-21:00</td>\n",
       "      <td>38,985667</td>\n",
       "      <td>ALBACETE</td>\n",
       "      <td>-1,868500</td>\n",
       "      <td>Albacete</td>\n",
       "      <td>1.499</td>\n",
       "      <td>NaN</td>\n",
       "      <td>...</td>\n",
       "      <td>1.440322</td>\n",
       "      <td>1.124589</td>\n",
       "      <td>1.549085</td>\n",
       "      <td>1.586366</td>\n",
       "      <td>1.743615</td>\n",
       "      <td>1.4555</td>\n",
       "      <td>NaN</td>\n",
       "      <td>NaN</td>\n",
       "      <td>1.569</td>\n",
       "      <td>1.75</td>\n",
       "    </tr>\n",
       "    <tr>\n",
       "      <th>3</th>\n",
       "      <td>12/07/2023 13:38:44</td>\n",
       "      <td>02001</td>\n",
       "      <td>CALLE FEDERICO GARCIA LORCA, 5</td>\n",
       "      <td>L-S: 05:00-23:00</td>\n",
       "      <td>38,997722</td>\n",
       "      <td>ALBACETE</td>\n",
       "      <td>-1,846361</td>\n",
       "      <td>Albacete</td>\n",
       "      <td>1.515</td>\n",
       "      <td>NaN</td>\n",
       "      <td>...</td>\n",
       "      <td>1.440322</td>\n",
       "      <td>1.124589</td>\n",
       "      <td>1.549085</td>\n",
       "      <td>1.586366</td>\n",
       "      <td>1.743615</td>\n",
       "      <td>1.4555</td>\n",
       "      <td>NaN</td>\n",
       "      <td>NaN</td>\n",
       "      <td>1.569</td>\n",
       "      <td>1.75</td>\n",
       "    </tr>\n",
       "    <tr>\n",
       "      <th>4</th>\n",
       "      <td>12/07/2023 13:38:44</td>\n",
       "      <td>02001</td>\n",
       "      <td>CALLE FEDERICO GARCIA LORCA, 1</td>\n",
       "      <td>L-D: 24H</td>\n",
       "      <td>39,000861</td>\n",
       "      <td>ALBACETE</td>\n",
       "      <td>-1,849833</td>\n",
       "      <td>Albacete</td>\n",
       "      <td>1.319</td>\n",
       "      <td>NaN</td>\n",
       "      <td>...</td>\n",
       "      <td>1.440322</td>\n",
       "      <td>1.124589</td>\n",
       "      <td>1.549085</td>\n",
       "      <td>1.586366</td>\n",
       "      <td>1.743615</td>\n",
       "      <td>1.4555</td>\n",
       "      <td>NaN</td>\n",
       "      <td>NaN</td>\n",
       "      <td>1.569</td>\n",
       "      <td>1.75</td>\n",
       "    </tr>\n",
       "  </tbody>\n",
       "</table>\n",
       "<p>5 rows × 29 columns</p>\n",
       "</div>"
      ],
      "text/plain": [
       "                 Fecha   C.P.  \\\n",
       "0  12/07/2023 13:38:44  02250   \n",
       "1  12/07/2023 13:38:44  02001   \n",
       "2  12/07/2023 13:38:44  02001   \n",
       "3  12/07/2023 13:38:44  02001   \n",
       "4  12/07/2023 13:38:44  02001   \n",
       "\n",
       "                                           Dirección  \\\n",
       "0                     AVENIDA CASTILLA LA MANCHA, 26   \n",
       "1  CALLE PRINCIPE DE ASTURIAS (POLÍGONO DE ROMICA...   \n",
       "2                            AVENIDA 1º DE MAYO, S/N   \n",
       "3                     CALLE FEDERICO GARCIA LORCA, 5   \n",
       "4                     CALLE FEDERICO GARCIA LORCA, 1   \n",
       "\n",
       "                            Horario    Latitud  Localidad Longitud (WGS84)  \\\n",
       "0                  L-D: 07:00-22:00  39,211417  ABENGIBRE        -1,539167   \n",
       "1                  L-D: 06:00-21:30  39,054694   ALBACETE        -1,832000   \n",
       "2  L-S: 08:00-22:00; D: 09:00-21:00  38,985667   ALBACETE        -1,868500   \n",
       "3                  L-S: 05:00-23:00  38,997722   ALBACETE        -1,846361   \n",
       "4                          L-D: 24H  39,000861   ALBACETE        -1,849833   \n",
       "\n",
       "   Municipio  Gasoleo A  Gasoleo B  ...  Media Nacional Gasoleo A  \\\n",
       "0  Abengibre      1.359      0.999  ...                  1.440322   \n",
       "1   Albacete      1.489        NaN  ...                  1.440322   \n",
       "2   Albacete      1.499        NaN  ...                  1.440322   \n",
       "3   Albacete      1.515        NaN  ...                  1.440322   \n",
       "4   Albacete      1.319        NaN  ...                  1.440322   \n",
       "\n",
       "   Media Nacional Gasoleo B  Media Nacional Gasoleo P  \\\n",
       "0                  1.124589                  1.549085   \n",
       "1                  1.124589                  1.549085   \n",
       "2                  1.124589                  1.549085   \n",
       "3                  1.124589                  1.549085   \n",
       "4                  1.124589                  1.549085   \n",
       "\n",
       "  Media Nacional Gasolina 95 Media Nacional Gasolina 98 Media C.P. Gasoleo A  \\\n",
       "0                   1.586366                   1.743615               1.3590   \n",
       "1                   1.586366                   1.743615               1.4555   \n",
       "2                   1.586366                   1.743615               1.4555   \n",
       "3                   1.586366                   1.743615               1.4555   \n",
       "4                   1.586366                   1.743615               1.4555   \n",
       "\n",
       "  Media C.P. Gasoleo B Media C.P. Gasoleo P Media C.P. Gasolina 95  \\\n",
       "0                0.999                0.999                  1.549   \n",
       "1                  NaN                  NaN                  1.569   \n",
       "2                  NaN                  NaN                  1.569   \n",
       "3                  NaN                  NaN                  1.569   \n",
       "4                  NaN                  NaN                  1.569   \n",
       "\n",
       "   Media C.P. Gasolina 98  \n",
       "0                     NaN  \n",
       "1                    1.75  \n",
       "2                    1.75  \n",
       "3                    1.75  \n",
       "4                    1.75  \n",
       "\n",
       "[5 rows x 29 columns]"
      ]
     },
     "execution_count": 117,
     "metadata": {},
     "output_type": "execute_result"
    }
   ],
   "source": [
    "df_n.head()"
   ]
  },
  {
   "cell_type": "code",
   "execution_count": 118,
   "id": "fbc17dd0",
   "metadata": {},
   "outputs": [
    {
     "name": "stdout",
     "output_type": "stream",
     "text": [
      "<class 'pandas.core.frame.DataFrame'>\n",
      "RangeIndex: 11735 entries, 0 to 11734\n",
      "Data columns (total 29 columns):\n",
      " #   Column                      Non-Null Count  Dtype  \n",
      "---  ------                      --------------  -----  \n",
      " 0   Fecha                       11735 non-null  object \n",
      " 1   C.P.                        11735 non-null  object \n",
      " 2   Dirección                   11735 non-null  object \n",
      " 3   Horario                     11735 non-null  object \n",
      " 4   Latitud                     11735 non-null  object \n",
      " 5   Localidad                   11735 non-null  object \n",
      " 6   Longitud (WGS84)            11735 non-null  object \n",
      " 7   Municipio                   11735 non-null  object \n",
      " 8   Gasoleo A                   11368 non-null  float64\n",
      " 9   Gasoleo B                   2961 non-null   float64\n",
      " 10  Gasoleo Premium             7413 non-null   float64\n",
      " 11  Gasolina 95 E5              10601 non-null  float64\n",
      " 12  Gasolina 98 E5              5806 non-null   float64\n",
      " 13  Provincia                   11735 non-null  object \n",
      " 14  Proveedor de Servicio       11735 non-null  object \n",
      " 15  IDEESS                      11735 non-null  object \n",
      " 16  IDMunicipio                 11735 non-null  object \n",
      " 17  IDProvincia                 11735 non-null  object \n",
      " 18  IDCCAA                      11735 non-null  object \n",
      " 19  Media Nacional Gasoleo A    11735 non-null  float64\n",
      " 20  Media Nacional Gasoleo B    11735 non-null  float64\n",
      " 21  Media Nacional Gasoleo P    11735 non-null  float64\n",
      " 22  Media Nacional Gasolina 95  11735 non-null  float64\n",
      " 23  Media Nacional Gasolina 98  11735 non-null  float64\n",
      " 24  Media C.P. Gasoleo A        11643 non-null  float64\n",
      " 25  Media C.P. Gasoleo B        5923 non-null   float64\n",
      " 26  Media C.P. Gasoleo P        5923 non-null   float64\n",
      " 27  Media C.P. Gasolina 95      11468 non-null  float64\n",
      " 28  Media C.P. Gasolina 98      9517 non-null   float64\n",
      "dtypes: float64(15), object(14)\n",
      "memory usage: 2.6+ MB\n"
     ]
    }
   ],
   "source": [
    "df_n.info()"
   ]
  },
  {
   "cell_type": "code",
   "execution_count": 119,
   "id": "ea5c62a5",
   "metadata": {},
   "outputs": [
    {
     "data": {
      "text/html": [
       "<div>\n",
       "<style scoped>\n",
       "    .dataframe tbody tr th:only-of-type {\n",
       "        vertical-align: middle;\n",
       "    }\n",
       "\n",
       "    .dataframe tbody tr th {\n",
       "        vertical-align: top;\n",
       "    }\n",
       "\n",
       "    .dataframe thead th {\n",
       "        text-align: right;\n",
       "    }\n",
       "</style>\n",
       "<table border=\"1\" class=\"dataframe\">\n",
       "  <thead>\n",
       "    <tr style=\"text-align: right;\">\n",
       "      <th></th>\n",
       "      <th>Fecha</th>\n",
       "      <th>Horario</th>\n",
       "      <th>C.P.</th>\n",
       "      <th>Provincia</th>\n",
       "      <th>Municipio</th>\n",
       "      <th>Localidad</th>\n",
       "      <th>Dirección</th>\n",
       "      <th>Proveedor de Servicio</th>\n",
       "      <th>Gasoleo A</th>\n",
       "      <th>Media C.P. Gasoleo A</th>\n",
       "      <th>...</th>\n",
       "      <th>Media Nacional Gasoleo B</th>\n",
       "      <th>Gasoleo Premium</th>\n",
       "      <th>Media C.P. Gasoleo P</th>\n",
       "      <th>Media Nacional Gasoleo P</th>\n",
       "      <th>Gasolina 95 E5</th>\n",
       "      <th>Media C.P. Gasolina 95</th>\n",
       "      <th>Media Nacional Gasolina 95</th>\n",
       "      <th>Gasolina 98 E5</th>\n",
       "      <th>Media C.P. Gasolina 98</th>\n",
       "      <th>Media Nacional Gasolina 98</th>\n",
       "    </tr>\n",
       "  </thead>\n",
       "  <tbody>\n",
       "    <tr>\n",
       "      <th>0</th>\n",
       "      <td>12/07/2023 13:38:44</td>\n",
       "      <td>L-D: 07:00-22:00</td>\n",
       "      <td>02250</td>\n",
       "      <td>ALBACETE</td>\n",
       "      <td>Abengibre</td>\n",
       "      <td>ABENGIBRE</td>\n",
       "      <td>AVENIDA CASTILLA LA MANCHA, 26</td>\n",
       "      <td>Nº 10.935</td>\n",
       "      <td>1.359</td>\n",
       "      <td>1.359000</td>\n",
       "      <td>...</td>\n",
       "      <td>1.124589</td>\n",
       "      <td>NaN</td>\n",
       "      <td>0.9990</td>\n",
       "      <td>1.549085</td>\n",
       "      <td>1.549</td>\n",
       "      <td>1.549</td>\n",
       "      <td>1.586366</td>\n",
       "      <td>NaN</td>\n",
       "      <td>NaN</td>\n",
       "      <td>1.743615</td>\n",
       "    </tr>\n",
       "    <tr>\n",
       "      <th>1</th>\n",
       "      <td>12/07/2023 13:38:44</td>\n",
       "      <td>L-D: 06:00-21:30</td>\n",
       "      <td>02001</td>\n",
       "      <td>ALBACETE</td>\n",
       "      <td>Albacete</td>\n",
       "      <td>ALBACETE</td>\n",
       "      <td>CALLE PRINCIPE DE ASTURIAS (POLÍGONO DE ROMICA...</td>\n",
       "      <td>BP ROMICA</td>\n",
       "      <td>1.489</td>\n",
       "      <td>1.455500</td>\n",
       "      <td>...</td>\n",
       "      <td>1.124589</td>\n",
       "      <td>1.579</td>\n",
       "      <td>NaN</td>\n",
       "      <td>1.549085</td>\n",
       "      <td>1.619</td>\n",
       "      <td>1.569</td>\n",
       "      <td>1.586366</td>\n",
       "      <td>1.761</td>\n",
       "      <td>1.750</td>\n",
       "      <td>1.743615</td>\n",
       "    </tr>\n",
       "    <tr>\n",
       "      <th>2</th>\n",
       "      <td>12/07/2023 13:38:44</td>\n",
       "      <td>L-S: 08:00-22:00; D: 09:00-21:00</td>\n",
       "      <td>02001</td>\n",
       "      <td>ALBACETE</td>\n",
       "      <td>Albacete</td>\n",
       "      <td>ALBACETE</td>\n",
       "      <td>AVENIDA 1º DE MAYO, S/N</td>\n",
       "      <td>CARREFOUR</td>\n",
       "      <td>1.499</td>\n",
       "      <td>1.455500</td>\n",
       "      <td>...</td>\n",
       "      <td>1.124589</td>\n",
       "      <td>1.539</td>\n",
       "      <td>NaN</td>\n",
       "      <td>1.549085</td>\n",
       "      <td>1.619</td>\n",
       "      <td>1.569</td>\n",
       "      <td>1.586366</td>\n",
       "      <td>1.739</td>\n",
       "      <td>1.750</td>\n",
       "      <td>1.743615</td>\n",
       "    </tr>\n",
       "    <tr>\n",
       "      <th>3</th>\n",
       "      <td>12/07/2023 13:38:44</td>\n",
       "      <td>L-S: 05:00-23:00</td>\n",
       "      <td>02001</td>\n",
       "      <td>ALBACETE</td>\n",
       "      <td>Albacete</td>\n",
       "      <td>ALBACETE</td>\n",
       "      <td>CALLE FEDERICO GARCIA LORCA, 5</td>\n",
       "      <td>CEPSA</td>\n",
       "      <td>1.515</td>\n",
       "      <td>1.455500</td>\n",
       "      <td>...</td>\n",
       "      <td>1.124589</td>\n",
       "      <td>NaN</td>\n",
       "      <td>NaN</td>\n",
       "      <td>1.549085</td>\n",
       "      <td>NaN</td>\n",
       "      <td>1.569</td>\n",
       "      <td>1.586366</td>\n",
       "      <td>NaN</td>\n",
       "      <td>1.750</td>\n",
       "      <td>1.743615</td>\n",
       "    </tr>\n",
       "    <tr>\n",
       "      <th>4</th>\n",
       "      <td>12/07/2023 13:38:44</td>\n",
       "      <td>L-D: 24H</td>\n",
       "      <td>02001</td>\n",
       "      <td>ALBACETE</td>\n",
       "      <td>Albacete</td>\n",
       "      <td>ALBACETE</td>\n",
       "      <td>CALLE FEDERICO GARCIA LORCA, 1</td>\n",
       "      <td>PLENOIL</td>\n",
       "      <td>1.319</td>\n",
       "      <td>1.455500</td>\n",
       "      <td>...</td>\n",
       "      <td>1.124589</td>\n",
       "      <td>NaN</td>\n",
       "      <td>NaN</td>\n",
       "      <td>1.549085</td>\n",
       "      <td>1.469</td>\n",
       "      <td>1.569</td>\n",
       "      <td>1.586366</td>\n",
       "      <td>NaN</td>\n",
       "      <td>1.750</td>\n",
       "      <td>1.743615</td>\n",
       "    </tr>\n",
       "    <tr>\n",
       "      <th>...</th>\n",
       "      <td>...</td>\n",
       "      <td>...</td>\n",
       "      <td>...</td>\n",
       "      <td>...</td>\n",
       "      <td>...</td>\n",
       "      <td>...</td>\n",
       "      <td>...</td>\n",
       "      <td>...</td>\n",
       "      <td>...</td>\n",
       "      <td>...</td>\n",
       "      <td>...</td>\n",
       "      <td>...</td>\n",
       "      <td>...</td>\n",
       "      <td>...</td>\n",
       "      <td>...</td>\n",
       "      <td>...</td>\n",
       "      <td>...</td>\n",
       "      <td>...</td>\n",
       "      <td>...</td>\n",
       "      <td>...</td>\n",
       "      <td>...</td>\n",
       "    </tr>\n",
       "    <tr>\n",
       "      <th>11730</th>\n",
       "      <td>12/07/2023 13:38:44</td>\n",
       "      <td>L-D: 24H</td>\n",
       "      <td>50197</td>\n",
       "      <td>ZARAGOZA</td>\n",
       "      <td>Zaragoza</td>\n",
       "      <td>ZARAGOZA</td>\n",
       "      <td>RONDA FERIA DE MUESTRAS, DE LA, 20</td>\n",
       "      <td>IDS</td>\n",
       "      <td>1.519</td>\n",
       "      <td>1.515667</td>\n",
       "      <td>...</td>\n",
       "      <td>1.124589</td>\n",
       "      <td>NaN</td>\n",
       "      <td>1.2400</td>\n",
       "      <td>1.549085</td>\n",
       "      <td>NaN</td>\n",
       "      <td>1.619</td>\n",
       "      <td>1.586366</td>\n",
       "      <td>NaN</td>\n",
       "      <td>1.769</td>\n",
       "      <td>1.743615</td>\n",
       "    </tr>\n",
       "    <tr>\n",
       "      <th>11731</th>\n",
       "      <td>12/07/2023 13:38:44</td>\n",
       "      <td>L-D: 24H</td>\n",
       "      <td>50197</td>\n",
       "      <td>ZARAGOZA</td>\n",
       "      <td>Zaragoza</td>\n",
       "      <td>ZARAGOZA</td>\n",
       "      <td>RONDA RONDA DE LA FERIA DE MUESTRAS, 10</td>\n",
       "      <td>MOLGAS</td>\n",
       "      <td>NaN</td>\n",
       "      <td>1.515667</td>\n",
       "      <td>...</td>\n",
       "      <td>1.124589</td>\n",
       "      <td>NaN</td>\n",
       "      <td>1.2400</td>\n",
       "      <td>1.549085</td>\n",
       "      <td>NaN</td>\n",
       "      <td>1.619</td>\n",
       "      <td>1.586366</td>\n",
       "      <td>NaN</td>\n",
       "      <td>1.769</td>\n",
       "      <td>1.743615</td>\n",
       "    </tr>\n",
       "    <tr>\n",
       "      <th>11732</th>\n",
       "      <td>12/07/2023 13:38:44</td>\n",
       "      <td>L-D: 06:00-22:00</td>\n",
       "      <td>50800</td>\n",
       "      <td>ZARAGOZA</td>\n",
       "      <td>Zuera</td>\n",
       "      <td>ZUERA</td>\n",
       "      <td>CARRETERA N-330A KM. 24,000</td>\n",
       "      <td>REPSOL</td>\n",
       "      <td>1.499</td>\n",
       "      <td>1.448500</td>\n",
       "      <td>...</td>\n",
       "      <td>1.124589</td>\n",
       "      <td>1.549</td>\n",
       "      <td>1.0415</td>\n",
       "      <td>1.549085</td>\n",
       "      <td>1.589</td>\n",
       "      <td>1.571</td>\n",
       "      <td>1.586366</td>\n",
       "      <td>1.739</td>\n",
       "      <td>1.739</td>\n",
       "      <td>1.743615</td>\n",
       "    </tr>\n",
       "    <tr>\n",
       "      <th>11733</th>\n",
       "      <td>12/07/2023 13:38:44</td>\n",
       "      <td>L-D: 24H</td>\n",
       "      <td>50800</td>\n",
       "      <td>ZARAGOZA</td>\n",
       "      <td>Zuera</td>\n",
       "      <td>ZUERA</td>\n",
       "      <td>CALLE AUSTRIA, 11,17</td>\n",
       "      <td>AN ENERGETICOS ZUERA</td>\n",
       "      <td>1.398</td>\n",
       "      <td>1.448500</td>\n",
       "      <td>...</td>\n",
       "      <td>1.124589</td>\n",
       "      <td>1.438</td>\n",
       "      <td>1.0415</td>\n",
       "      <td>1.549085</td>\n",
       "      <td>1.553</td>\n",
       "      <td>1.571</td>\n",
       "      <td>1.586366</td>\n",
       "      <td>NaN</td>\n",
       "      <td>1.739</td>\n",
       "      <td>1.743615</td>\n",
       "    </tr>\n",
       "    <tr>\n",
       "      <th>11734</th>\n",
       "      <td>12/07/2023 13:38:44</td>\n",
       "      <td>L-D: 24H</td>\n",
       "      <td>50810</td>\n",
       "      <td>ZARAGOZA</td>\n",
       "      <td>Zuera</td>\n",
       "      <td>ONTINAR DE SALZ</td>\n",
       "      <td>CALLE COOPERATIVA, 2</td>\n",
       "      <td>COOPERATIVA SAN ISIDRO</td>\n",
       "      <td>1.439</td>\n",
       "      <td>1.439000</td>\n",
       "      <td>...</td>\n",
       "      <td>1.124589</td>\n",
       "      <td>1.479</td>\n",
       "      <td>0.9300</td>\n",
       "      <td>1.549085</td>\n",
       "      <td>1.579</td>\n",
       "      <td>1.579</td>\n",
       "      <td>1.586366</td>\n",
       "      <td>NaN</td>\n",
       "      <td>NaN</td>\n",
       "      <td>1.743615</td>\n",
       "    </tr>\n",
       "  </tbody>\n",
       "</table>\n",
       "<p>11735 rows × 23 columns</p>\n",
       "</div>"
      ],
      "text/plain": [
       "                     Fecha                           Horario   C.P. Provincia  \\\n",
       "0      12/07/2023 13:38:44                  L-D: 07:00-22:00  02250  ALBACETE   \n",
       "1      12/07/2023 13:38:44                  L-D: 06:00-21:30  02001  ALBACETE   \n",
       "2      12/07/2023 13:38:44  L-S: 08:00-22:00; D: 09:00-21:00  02001  ALBACETE   \n",
       "3      12/07/2023 13:38:44                  L-S: 05:00-23:00  02001  ALBACETE   \n",
       "4      12/07/2023 13:38:44                          L-D: 24H  02001  ALBACETE   \n",
       "...                    ...                               ...    ...       ...   \n",
       "11730  12/07/2023 13:38:44                          L-D: 24H  50197  ZARAGOZA   \n",
       "11731  12/07/2023 13:38:44                          L-D: 24H  50197  ZARAGOZA   \n",
       "11732  12/07/2023 13:38:44                  L-D: 06:00-22:00  50800  ZARAGOZA   \n",
       "11733  12/07/2023 13:38:44                          L-D: 24H  50800  ZARAGOZA   \n",
       "11734  12/07/2023 13:38:44                          L-D: 24H  50810  ZARAGOZA   \n",
       "\n",
       "       Municipio        Localidad  \\\n",
       "0      Abengibre        ABENGIBRE   \n",
       "1       Albacete         ALBACETE   \n",
       "2       Albacete         ALBACETE   \n",
       "3       Albacete         ALBACETE   \n",
       "4       Albacete         ALBACETE   \n",
       "...          ...              ...   \n",
       "11730   Zaragoza         ZARAGOZA   \n",
       "11731   Zaragoza         ZARAGOZA   \n",
       "11732      Zuera            ZUERA   \n",
       "11733      Zuera            ZUERA   \n",
       "11734      Zuera  ONTINAR DE SALZ   \n",
       "\n",
       "                                               Dirección  \\\n",
       "0                         AVENIDA CASTILLA LA MANCHA, 26   \n",
       "1      CALLE PRINCIPE DE ASTURIAS (POLÍGONO DE ROMICA...   \n",
       "2                                AVENIDA 1º DE MAYO, S/N   \n",
       "3                         CALLE FEDERICO GARCIA LORCA, 5   \n",
       "4                         CALLE FEDERICO GARCIA LORCA, 1   \n",
       "...                                                  ...   \n",
       "11730                 RONDA FERIA DE MUESTRAS, DE LA, 20   \n",
       "11731            RONDA RONDA DE LA FERIA DE MUESTRAS, 10   \n",
       "11732                        CARRETERA N-330A KM. 24,000   \n",
       "11733                               CALLE AUSTRIA, 11,17   \n",
       "11734                               CALLE COOPERATIVA, 2   \n",
       "\n",
       "        Proveedor de Servicio  Gasoleo A  Media C.P. Gasoleo A  ...  \\\n",
       "0                   Nº 10.935      1.359              1.359000  ...   \n",
       "1                   BP ROMICA      1.489              1.455500  ...   \n",
       "2                   CARREFOUR      1.499              1.455500  ...   \n",
       "3                       CEPSA      1.515              1.455500  ...   \n",
       "4                     PLENOIL      1.319              1.455500  ...   \n",
       "...                       ...        ...                   ...  ...   \n",
       "11730                     IDS      1.519              1.515667  ...   \n",
       "11731                  MOLGAS        NaN              1.515667  ...   \n",
       "11732                  REPSOL      1.499              1.448500  ...   \n",
       "11733    AN ENERGETICOS ZUERA      1.398              1.448500  ...   \n",
       "11734  COOPERATIVA SAN ISIDRO      1.439              1.439000  ...   \n",
       "\n",
       "       Media Nacional Gasoleo B  Gasoleo Premium  Media C.P. Gasoleo P  \\\n",
       "0                      1.124589              NaN                0.9990   \n",
       "1                      1.124589            1.579                   NaN   \n",
       "2                      1.124589            1.539                   NaN   \n",
       "3                      1.124589              NaN                   NaN   \n",
       "4                      1.124589              NaN                   NaN   \n",
       "...                         ...              ...                   ...   \n",
       "11730                  1.124589              NaN                1.2400   \n",
       "11731                  1.124589              NaN                1.2400   \n",
       "11732                  1.124589            1.549                1.0415   \n",
       "11733                  1.124589            1.438                1.0415   \n",
       "11734                  1.124589            1.479                0.9300   \n",
       "\n",
       "       Media Nacional Gasoleo P  Gasolina 95 E5  Media C.P. Gasolina 95  \\\n",
       "0                      1.549085           1.549                   1.549   \n",
       "1                      1.549085           1.619                   1.569   \n",
       "2                      1.549085           1.619                   1.569   \n",
       "3                      1.549085             NaN                   1.569   \n",
       "4                      1.549085           1.469                   1.569   \n",
       "...                         ...             ...                     ...   \n",
       "11730                  1.549085             NaN                   1.619   \n",
       "11731                  1.549085             NaN                   1.619   \n",
       "11732                  1.549085           1.589                   1.571   \n",
       "11733                  1.549085           1.553                   1.571   \n",
       "11734                  1.549085           1.579                   1.579   \n",
       "\n",
       "       Media Nacional Gasolina 95  Gasolina 98 E5  Media C.P. Gasolina 98  \\\n",
       "0                        1.586366             NaN                     NaN   \n",
       "1                        1.586366           1.761                   1.750   \n",
       "2                        1.586366           1.739                   1.750   \n",
       "3                        1.586366             NaN                   1.750   \n",
       "4                        1.586366             NaN                   1.750   \n",
       "...                           ...             ...                     ...   \n",
       "11730                    1.586366             NaN                   1.769   \n",
       "11731                    1.586366             NaN                   1.769   \n",
       "11732                    1.586366           1.739                   1.739   \n",
       "11733                    1.586366             NaN                   1.739   \n",
       "11734                    1.586366             NaN                     NaN   \n",
       "\n",
       "       Media Nacional Gasolina 98  \n",
       "0                        1.743615  \n",
       "1                        1.743615  \n",
       "2                        1.743615  \n",
       "3                        1.743615  \n",
       "4                        1.743615  \n",
       "...                           ...  \n",
       "11730                    1.743615  \n",
       "11731                    1.743615  \n",
       "11732                    1.743615  \n",
       "11733                    1.743615  \n",
       "11734                    1.743615  \n",
       "\n",
       "[11735 rows x 23 columns]"
      ]
     },
     "execution_count": 119,
     "metadata": {},
     "output_type": "execute_result"
    }
   ],
   "source": [
    "#Ordenamos columnas\n",
    "df_n = df_n[['Fecha', 'Horario', 'C.P.','Provincia','Municipio','Localidad', 'Dirección', 'Proveedor de Servicio', \n",
    "             'Gasoleo A', 'Media C.P. Gasoleo A', 'Media Nacional Gasoleo A', \n",
    "             'Gasoleo B', 'Media C.P. Gasoleo B','Media Nacional Gasoleo B', \n",
    "             'Gasoleo Premium','Media C.P. Gasoleo P', 'Media Nacional Gasoleo P', \n",
    "             'Gasolina 95 E5', 'Media C.P. Gasolina 95','Media Nacional Gasolina 95', \n",
    "             'Gasolina 98 E5', 'Media C.P. Gasolina 98','Media Nacional Gasolina 98']]\n",
    "df_n"
   ]
  },
  {
   "cell_type": "markdown",
   "id": "0bf5e02c",
   "metadata": {},
   "source": [
    "# Limpieza de Nombres en \"Proveedores de servicio"
   ]
  },
  {
   "cell_type": "code",
   "execution_count": 120,
   "id": "475ac1f9",
   "metadata": {},
   "outputs": [],
   "source": [
    "# Misma marca de gasolineras con nombres diferentes\n",
    "df_n = df_n.sort_values('Proveedor de Servicio')\n",
    "\n",
    "\n",
    "\n"
   ]
  },
  {
   "cell_type": "code",
   "execution_count": 121,
   "id": "8ad906f2",
   "metadata": {},
   "outputs": [],
   "source": [
    "df_n[\"Proveedor de Servicio\"] = df_n[\"Proveedor de Servicio\"] .astype(str)\n"
   ]
  },
  {
   "cell_type": "code",
   "execution_count": 122,
   "id": "9a9221f8",
   "metadata": {},
   "outputs": [
    {
     "name": "stdout",
     "output_type": "stream",
     "text": [
      "<class 'pandas.core.frame.DataFrame'>\n",
      "Index: 11735 entries, 2897 to 10946\n",
      "Data columns (total 23 columns):\n",
      " #   Column                      Non-Null Count  Dtype  \n",
      "---  ------                      --------------  -----  \n",
      " 0   Fecha                       11735 non-null  object \n",
      " 1   Horario                     11735 non-null  object \n",
      " 2   C.P.                        11735 non-null  object \n",
      " 3   Provincia                   11735 non-null  object \n",
      " 4   Municipio                   11735 non-null  object \n",
      " 5   Localidad                   11735 non-null  object \n",
      " 6   Dirección                   11735 non-null  object \n",
      " 7   Proveedor de Servicio       11735 non-null  object \n",
      " 8   Gasoleo A                   11368 non-null  float64\n",
      " 9   Media C.P. Gasoleo A        11643 non-null  float64\n",
      " 10  Media Nacional Gasoleo A    11735 non-null  float64\n",
      " 11  Gasoleo B                   2961 non-null   float64\n",
      " 12  Media C.P. Gasoleo B        5923 non-null   float64\n",
      " 13  Media Nacional Gasoleo B    11735 non-null  float64\n",
      " 14  Gasoleo Premium             7413 non-null   float64\n",
      " 15  Media C.P. Gasoleo P        5923 non-null   float64\n",
      " 16  Media Nacional Gasoleo P    11735 non-null  float64\n",
      " 17  Gasolina 95 E5              10601 non-null  float64\n",
      " 18  Media C.P. Gasolina 95      11468 non-null  float64\n",
      " 19  Media Nacional Gasolina 95  11735 non-null  float64\n",
      " 20  Gasolina 98 E5              5806 non-null   float64\n",
      " 21  Media C.P. Gasolina 98      9517 non-null   float64\n",
      " 22  Media Nacional Gasolina 98  11735 non-null  float64\n",
      "dtypes: float64(15), object(8)\n",
      "memory usage: 2.1+ MB\n"
     ]
    }
   ],
   "source": [
    "df_n.info()"
   ]
  },
  {
   "cell_type": "code",
   "execution_count": 123,
   "id": "0bf6201c",
   "metadata": {},
   "outputs": [],
   "source": [
    "df_n['Proveedor de Servicio'] = df_n['Proveedor de Servicio'].astype('string')"
   ]
  },
  {
   "cell_type": "code",
   "execution_count": 124,
   "id": "b06c794d",
   "metadata": {},
   "outputs": [
    {
     "name": "stdout",
     "output_type": "stream",
     "text": [
      "<class 'pandas.core.frame.DataFrame'>\n",
      "Index: 11735 entries, 2897 to 10946\n",
      "Data columns (total 23 columns):\n",
      " #   Column                      Non-Null Count  Dtype  \n",
      "---  ------                      --------------  -----  \n",
      " 0   Fecha                       11735 non-null  object \n",
      " 1   Horario                     11735 non-null  object \n",
      " 2   C.P.                        11735 non-null  object \n",
      " 3   Provincia                   11735 non-null  object \n",
      " 4   Municipio                   11735 non-null  object \n",
      " 5   Localidad                   11735 non-null  object \n",
      " 6   Dirección                   11735 non-null  object \n",
      " 7   Proveedor de Servicio       11735 non-null  string \n",
      " 8   Gasoleo A                   11368 non-null  float64\n",
      " 9   Media C.P. Gasoleo A        11643 non-null  float64\n",
      " 10  Media Nacional Gasoleo A    11735 non-null  float64\n",
      " 11  Gasoleo B                   2961 non-null   float64\n",
      " 12  Media C.P. Gasoleo B        5923 non-null   float64\n",
      " 13  Media Nacional Gasoleo B    11735 non-null  float64\n",
      " 14  Gasoleo Premium             7413 non-null   float64\n",
      " 15  Media C.P. Gasoleo P        5923 non-null   float64\n",
      " 16  Media Nacional Gasoleo P    11735 non-null  float64\n",
      " 17  Gasolina 95 E5              10601 non-null  float64\n",
      " 18  Media C.P. Gasolina 95      11468 non-null  float64\n",
      " 19  Media Nacional Gasolina 95  11735 non-null  float64\n",
      " 20  Gasolina 98 E5              5806 non-null   float64\n",
      " 21  Media C.P. Gasolina 98      9517 non-null   float64\n",
      " 22  Media Nacional Gasolina 98  11735 non-null  float64\n",
      "dtypes: float64(15), object(7), string(1)\n",
      "memory usage: 2.1+ MB\n"
     ]
    }
   ],
   "source": [
    "df_n.info()"
   ]
  },
  {
   "cell_type": "code",
   "execution_count": 168,
   "id": "e6e60694",
   "metadata": {},
   "outputs": [
    {
     "data": {
      "text/plain": [
       "2897        PETROL STATION\n",
       "5024                  AGLA\n",
       "10719              AGRICAR\n",
       "10268                   BP\n",
       "9283                    BP\n",
       "               ...        \n",
       "4872             ZONA ZERO\n",
       "7241                     _\n",
       "11387       |> ENERTRIX <|\n",
       "539             ÁRTICO OIL\n",
       "10946                    €\n",
       "Name: Proveedor de Servicio, Length: 11735, dtype: string"
      ]
     },
     "execution_count": 168,
     "metadata": {},
     "output_type": "execute_result"
    }
   ],
   "source": [
    "# Gasolineras BP\n",
    "df_n['Proveedor de Servicio'] = df_n['Proveedor de Servicio'].str.replace('.', ' ')\n",
    "df_n['Proveedor de Servicio'] = df_n['Proveedor de Servicio'].str.replace(',', ' ')\n",
    "df_n['Proveedor de Servicio'] = df_n['Proveedor de Servicio'].str.replace('BP \\S*', 'BP')\n",
    "df_n['Proveedor de Servicio'] = df_n['Proveedor de Servicio'].str.replace('BP \\S[a-zA-Z0-9_]*', 'BP')\n",
    "df_n['Proveedor de Servicio'] = df_n['Proveedor de Servicio'].str.replace('BPS \\S*', 'BP')\n",
    "df_n['Proveedor de Servicio'] = df_n['Proveedor de Servicio'].str.replace('BPS \\S[a-zA-Z0-9_]*', 'BP')\n",
    "df_n['Proveedor de Servicio'] = df_n['Proveedor de Servicio'].str.replace('BP\\w*', 'BP')\n",
    "df_n['Proveedor de Servicio'] = df_n['Proveedor de Servicio'].str.replace('BP  ALOD', 'BP') \n",
    "df_n['Proveedor de Servicio'] = df_n['Proveedor de Servicio'].str.replace('BP AVENIDA 3 DE MAYO', 'BP')\n",
    "df_n['Proveedor de Servicio'] = df_n['Proveedor de Servicio'].str.replace('BP BENICADELL', 'BP')\n",
    "df_n['Proveedor de Servicio'] = df_n['Proveedor de Servicio'].str.replace('BP CA SESTRELLA', 'BP')\n",
    "df_n['Proveedor de Servicio'] = df_n['Proveedor de Servicio'].str.replace('BP RAMBLA INIESTA', 'BP')\n",
    "df_n['Proveedor de Servicio'] = df_n['Proveedor de Servicio'].str.replace('BP SAN LUIS', 'BP')\n",
    "df_n['Proveedor de Servicio'] = df_n['Proveedor de Servicio'].str.replace('BP SANTIGA', 'BP')\n",
    "df_n['Proveedor de Servicio'] = df_n['Proveedor de Servicio'].str.replace('BP TACO','BP')\n",
    "df_n['Proveedor de Servicio'] = df_n['Proveedor de Servicio'].str.replace('BP VENTA DEL PERAL II', 'BP')\n",
    "df_n['Proveedor de Servicio'] = df_n['Proveedor de Servicio'].str.replace('BP ROMICA', 'BP')\n",
    "df_n['Proveedor de Servicio'] = df_n['Proveedor de Servicio'].str.replace('REPSOL UBEDA', 'REPSOL')\n",
    "df_n['Proveedor de Servicio'] = df_n['Proveedor de Servicio'].str.replace('SUTULLENA-CEPSA', 'CEPSA')\n",
    "df_n['Proveedor de Servicio'] = df_n['Proveedor de Servicio'].str.replace('\"BP\"', 'BP')\n",
    "df_n['Proveedor de Servicio'] = df_n['Proveedor de Servicio'].str.replace('BP ROTONDA LAS VAGUADAS S.L.', 'BP')\n",
    "df_n['Proveedor de Servicio'] = df_n['Proveedor de Servicio'].str.replace('BPBEGUR', 'BP')\n",
    "df_n['Proveedor de Servicio'] = df_n['Proveedor de Servicio'].str.replace('BPPROPERLY, S.A.', 'BP')\n",
    "\n",
    "# Otros\n",
    "df_n['Proveedor de Servicio'] = df_n['Proveedor de Servicio'].str.replace('SIN RÓTULO', 'OTROS')\n",
    "df_n['Proveedor de Servicio'] = df_n['Proveedor de Servicio'].str.replace('(sin rótulo)', 'OTROS')\n",
    "df_n['Proveedor de Servicio'] = df_n['Proveedor de Servicio'].str.replace('*', 'OTROS')\n",
    "df_n['Proveedor de Servicio'] = df_n['Proveedor de Servicio'].str.replace('-', 'OTROS')\n",
    "df_n['Proveedor de Servicio'] = df_n['Proveedor de Servicio'].str.replace('-', 'OTROS')\n",
    "df_n['Proveedor de Servicio'] = df_n['Proveedor de Servicio'].str.replace('0', 'OTROS')\n",
    "df_n['Proveedor de Servicio'] = df_n['Proveedor de Servicio'].str.replace('06/32718', 'OTROS')\n",
    "df_n['Proveedor de Servicio'] = df_n['Proveedor de Servicio'].str.replace('12126', 'OTROS')\n",
    "df_n['Proveedor de Servicio'] = df_n['Proveedor de Servicio'].str.replace('12241', 'OTROS')\n",
    "df_n['Proveedor de Servicio'] = df_n['Proveedor de Servicio'].str.replace('13344', 'OTROS')\n",
    "df_n['Proveedor de Servicio'] = df_n['Proveedor de Servicio'].str.replace('15909', 'OTROS')\n",
    "df_n['Proveedor de Servicio'] = df_n['Proveedor de Servicio'].str.replace('1PRIMER', 'OTROS')\n",
    "df_n['Proveedor de Servicio'] = df_n['Proveedor de Servicio'].str.replace('23ESO68F', 'OTROS')\n",
    "df_n['Proveedor de Servicio'] = df_n['Proveedor de Servicio'].str.replace('395 2/2HS 40-80', 'OTROS')\n",
    "df_n['Proveedor de Servicio'] = df_n['Proveedor de Servicio'].str.replace('41037733', 'OTROS')\n",
    "df_n['Proveedor de Servicio'] = df_n['Proveedor de Servicio'].str.replace('45110020416', 'OTROS')\n",
    "df_n['Proveedor de Servicio'] = df_n['Proveedor de Servicio'].str.replace('4572', 'OTROS')\n",
    "df_n['Proveedor de Servicio'] = df_n['Proveedor de Servicio'].str.replace('7267', 'OTROS')\n",
    "df_n['Proveedor de Servicio'] = df_n['Proveedor de Servicio'].str.replace('7345', 'OTROS')\n",
    "df_n['Proveedor de Servicio'] = df_n['Proveedor de Servicio'].str.replace('96053', 'OTROS')\n",
    "df_n['Proveedor de Servicio'] = df_n['Proveedor de Servicio'].str.replace('OTROS \\S*', 'OTROS')\n",
    "df_n['Proveedor de Servicio'] = df_n['Proveedor de Servicio'].str.replace('OTROS \\S[a-zA-Z0-9_]*', 'OTROS')\n",
    "df_n['Proveedor de Servicio'] = df_n['Proveedor de Servicio'].str.replace('OTROS \\S[a-zA-Z0-9_]*\\S[a-zA-Z0-9_]*', 'OTROS')\n",
    "df_n['Proveedor de Servicio'] = df_n['Proveedor de Servicio'].str.replace('OTROSOTROSOTROSOTROSOTROSOTROS', 'OTROS')\n",
    "df_n['Proveedor de Servicio'] = df_n['Proveedor de Servicio'].str.replace('OTROS\\w*', 'OTROS')\n",
    "df_n['Proveedor de Servicio'] = df_n['Proveedor de Servicio'].str.replace('OTROS \\S*', 'OTROS')\n",
    "df_n['Proveedor de Servicio'] = df_n['Proveedor de Servicio'].str.replace('\\S* OTROS ', 'OTROS')\n",
    "df_n['Proveedor de Servicio'] = df_n['Proveedor de Servicio'].str.replace('\\S*(OTROS)\\S*', 'OTROS')\n",
    "\n",
    "# Gasolineras Varias                                                                          \n",
    "df_n['Proveedor de Servicio'] = df_n['Proveedor de Servicio'].str.replace('INLOCOR S.L. \"CEPSA\"', 'CEPSA')\n",
    "df_n['Proveedor de Servicio'] = df_n['Proveedor de Servicio'].str.replace('REPSOL. LOS ANGELES DE LA MANCHA, S.L.', 'REPSOL')\n",
    "df_n['Proveedor de Servicio'] = df_n['Proveedor de Servicio'].str.replace('BP OIL', 'BP')\n",
    "df_n['Proveedor de Servicio'] = df_n['Proveedor de Servicio'].str.replace('BP PARGA I PETROL BAS BEL', 'BP')\n",
    "df_n['Proveedor de Servicio'] = df_n['Proveedor de Servicio'].str.replace('Nº 7374', 'OTROS')\n",
    "df_n['Proveedor de Servicio'] = df_n['Proveedor de Servicio'].str.replace('NO', 'OTROS')\n",
    "df_n['Proveedor de Servicio'] = df_n['Proveedor de Servicio'].str.replace('BP CASA JUANITO RESTAURANTE', 'BP')\n",
    "df_n['Proveedor de Servicio'] = df_n['Proveedor de Servicio'].str.replace('NO HAY', 'OTROS')\n",
    "df_n['Proveedor de Servicio'] = df_n['Proveedor de Servicio'].str.replace('NO TIENE', 'OTROS')\n",
    "df_n['Proveedor de Servicio'] = df_n['Proveedor de Servicio'].str.replace('BP VILLARROBLEDO', 'BP')\n",
    "df_n['Proveedor de Servicio'] = df_n['Proveedor de Servicio'].str.replace('BP ALFAZ DEL PI', 'BP')\n",
    "df_n['Proveedor de Servicio'] = df_n['Proveedor de Servicio'].str.replace('BP SANDOVAL MD', 'BP')                                                                        \n",
    "df_n['Proveedor de Servicio'] = df_n['Proveedor de Servicio'].str.replace('BP SANDOVAL MI', 'BP')\n",
    "df_n['Proveedor de Servicio'] = df_n['Proveedor de Servicio'].str.replace('BP BENIDORM', 'BP')\n",
    "df_n['Proveedor de Servicio'] = df_n['Proveedor de Servicio'].str.replace('BP EUROBENIDORM', 'BP')\n",
    "df_n['Proveedor de Servicio'] = df_n['Proveedor de Servicio'].str.replace('BP REJAS VERDES', 'BP')\n",
    "\n",
    "# Gasolineras Cepsa\n",
    "df_n['Proveedor de Servicio'] = df_n['Proveedor de Servicio'].str.replace('CEPSA ELF', 'CEPSA')\n",
    "df_n['Proveedor de Servicio'] = df_n['Proveedor de Servicio'].str.replace('CEPSA V21', 'CEPSA')\n",
    "df_n['Proveedor de Servicio'] = df_n['Proveedor de Servicio'].str.replace('CEPSA LEO', 'CEPSA')\n",
    "df_n['Proveedor de Servicio'] = df_n['Proveedor de Servicio'].str.replace('CEPSA TINAJO', 'CEPSA')\n",
    "df_n['Proveedor de Servicio'] = df_n['Proveedor de Servicio'].str.replace('CEPSA AGAETE', 'CEPSA')\n",
    "df_n['Proveedor de Servicio'] = df_n['Proveedor de Servicio'].str.replace('CEPSA CALONGE', 'CEPSA')\n",
    "df_n['Proveedor de Servicio'] = df_n['Proveedor de Servicio'].str.replace('BP REJAS VERDES', 'BP')\n",
    "df_n['Proveedor de Servicio'] = df_n['Proveedor de Servicio'].str.replace('CEPSA INGENIO', 'CEPSA')\n",
    "df_n['Proveedor de Servicio'] = df_n['Proveedor de Servicio'].str.replace('CEPSA ANTIGUA', 'CEPSA')\n",
    "df_n['Proveedor de Servicio'] = df_n['Proveedor de Servicio'].str.replace('CEPSA BALOS 1', 'CEPSA')\n",
    "df_n['Proveedor de Servicio'] = df_n['Proveedor de Servicio'].str.replace('CEPSA BALOS 2', 'CEPSA')\n",
    "df_n['Proveedor de Servicio'] = df_n['Proveedor de Servicio'].str.replace('CEPSAOTROSELF', 'CEPSA')\n",
    "df_n['Proveedor de Servicio'] = df_n['Proveedor de Servicio'].str.replace('CEPSA CANONCHE', 'CEPSA')\n",
    "df_n['Proveedor de Servicio'] = df_n['Proveedor de Servicio'].str.replace('CEPSA . LOHANA', 'CEPSA')\n",
    "df_n['Proveedor de Servicio'] = df_n['Proveedor de Servicio'].str.replace('CEPSA EL PEÑON', 'CEPSA')\n",
    "df_n['Proveedor de Servicio'] = df_n['Proveedor de Servicio'].str.replace('CEPSA VILANOVAE', 'CEPSA')\n",
    "df_n['Proveedor de Servicio'] = df_n['Proveedor de Servicio'].str.replace('CEPSA LA ALDEA', 'CEPSA')\n",
    "df_n['Proveedor de Servicio'] = df_n['Proveedor de Servicio'].str.replace('CEPSA LA CAÑADA', 'CEPSA')\n",
    "df_n['Proveedor de Servicio'] = df_n['Proveedor de Servicio'].str.replace('CEPSA TAHICHE I', 'CEPSA')\n",
    "df_n['Proveedor de Servicio'] = df_n['Proveedor de Servicio'].str.replace('CEPSA LA MARINA', 'CEPSA')\n",
    "df_n['Proveedor de Servicio'] = df_n['Proveedor de Servicio'].str.replace('CEPSA RELAMPAGO', 'CEPSA')\n",
    "df_n['Proveedor de Servicio'] = df_n['Proveedor de Servicio'].str.replace('CEPSA ALMERIMAR', 'CEPSA')\n",
    "df_n['Proveedor de Servicio'] = df_n['Proveedor de Servicio'].str.replace('CEPSAOTROSJUBERA', 'CEPSA')\n",
    "df_n['Proveedor de Servicio'] = df_n['Proveedor de Servicio'].str.replace('CEPSA EL CUBILLO', 'CEPSA')\n",
    "df_n['Proveedor de Servicio'] = df_n['Proveedor de Servicio'].str.replace('CEPSA TAHICHE II', 'CEPSA')\n",
    "df_n['Proveedor de Servicio'] = df_n['Proveedor de Servicio'].str.replace('CEPSA MASPALOMAS', 'CEPSA')\n",
    "df_n['Proveedor de Servicio'] = df_n['Proveedor de Servicio'].str.replace('CEPSA LA CAZUELA', 'CEPSA')\n",
    "df_n['Proveedor de Servicio'] = df_n['Proveedor de Servicio'].str.replace('CEPSA ETXEGARATE', 'CEPSA')\n",
    "df_n['Proveedor de Servicio'] = df_n['Proveedor de Servicio'].str.replace('CEPSA CAOTROSNCHE', 'CEPSA')\n",
    "df_n['Proveedor de Servicio'] = df_n['Proveedor de Servicio'].str.replace('CEPSA AGUA GARCIA', 'CEPSA')\n",
    "df_n['Proveedor de Servicio'] = df_n['Proveedor de Servicio'].str.replace('CEPSA LOS ANDENES', 'CEPSA')\n",
    "df_n['Proveedor de Servicio'] = df_n['Proveedor de Servicio'].str.replace('CEPSA LA AZADILLA', 'CEPSA')\n",
    "df_n['Proveedor de Servicio'] = df_n['Proveedor de Servicio'].str.replace('CEPSA ', 'CEPSA')\n",
    "df_n['Proveedor de Servicio'] = df_n['Proveedor de Servicio'].str.replace('CEPSAI', 'CEPSA')\n",
    "df_n['Proveedor de Servicio'] = df_n['Proveedor de Servicio'].str.replace('CEPSAGLTA.EL CID', 'CEPSA')\n",
    "df_n['Proveedor de Servicio'] = df_n['Proveedor de Servicio'].str.replace('CEPSAVILAOTROSVA', 'CEPSA')\n",
    "df_n['Proveedor de Servicio'] = df_n['Proveedor de Servicio'].str.replace('CEPSAESPAÑA S.A.', 'CEPSA')\n",
    "df_n['Proveedor de Servicio'] = df_n['Proveedor de Servicio'].str.replace('CEPSAGRAN TARAJAL', 'CEPSA')\n",
    "df_n['Proveedor de Servicio'] = df_n['Proveedor de Servicio'].str.replace('CEPSASIETE PALMAS', 'CEPSA')\n",
    "df_n['Proveedor de Servicio'] = df_n['Proveedor de Servicio'].str.replace('CEPSAHOYA PARRADO', 'CEPSA')\n",
    "df_n['Proveedor de Servicio'] = df_n['Proveedor de Servicio'].str.replace('CEPSAA4 PINTO 365', 'CEPSA')\n",
    "df_n['Proveedor de Servicio'] = df_n['Proveedor de Servicio'].str.replace('CEPSAOTROSALPICAT', 'CEPSA')\n",
    "df_n['Proveedor de Servicio'] = df_n['Proveedor de Servicio'].str.replace('CEPSALLAOTROS AZUL', 'CEPSA')\n",
    "df_n['Proveedor de Servicio'] = df_n['Proveedor de Servicio'].str.replace('CEPSALOS ALMENDROS', 'CEPSA')\n",
    "df_n['Proveedor de Servicio'] = df_n['Proveedor de Servicio'].str.replace('CEPSAMUELLE GRANDE', 'CEPSA')\n",
    "df_n['Proveedor de Servicio'] = df_n['Proveedor de Servicio'].str.replace('CEPSAOTROSGARCIBUR', 'CEPSA')\n",
    "df_n['Proveedor de Servicio'] = df_n['Proveedor de Servicio'].str.replace('CEPSAPUERTO ROSARIO', 'CEPSA')\n",
    "df_n['Proveedor de Servicio'] = df_n['Proveedor de Servicio'].str.replace('CEPSALAS ARENAS 365', 'CEPSA')\n",
    "df_n['Proveedor de Servicio'] = df_n['Proveedor de Servicio'].str.replace('CEPSAOTROSE.S. ROCA', 'CEPSA')\n",
    "df_n['Proveedor de Servicio'] = df_n['Proveedor de Servicio'].str.replace('CEPSAOTROS FIERROIL', 'CEPSA')\n",
    "df_n['Proveedor de Servicio'] = df_n['Proveedor de Servicio'].str.replace('CEPSAOTROSE.S.JAIME I', 'CEPSA')\n",
    "df_n['Proveedor de Servicio'] = df_n['Proveedor de Servicio'].str.replace('CEPSAPUERTO DE LA CRUZ', 'CEPSA')\n",
    "df_n['Proveedor de Servicio'] = df_n['Proveedor de Servicio'].str.replace('CEPSAPLAZA DEL PIOTROS', 'CEPSA')\n",
    "df_n['Proveedor de Servicio'] = df_n['Proveedor de Servicio'].str.replace('CEPSAOTROS ANTELA E.S.', 'CEPSA')\n",
    "df_n['Proveedor de Servicio'] = df_n['Proveedor de Servicio'].str.replace('CEPSACOSTA DEL SILENCIO', 'CEPSA')\n",
    "df_n['Proveedor de Servicio'] = df_n['Proveedor de Servicio'].str.replace('CEPSAOPER CANARIOS S,L.', 'CEPSA')\n",
    "df_n['Proveedor de Servicio'] = df_n['Proveedor de Servicio'].str.replace('CEPSATAXISTAS S.AGUSTIN', 'CEPSA')\n",
    "df_n['Proveedor de Servicio'] = df_n['Proveedor de Servicio'].str.replace('CEPSAOTROSARROCEROS B.G.', 'CEPSA')\n",
    "df_n['Proveedor de Servicio'] = df_n['Proveedor de Servicio'].str.replace('CEPSAOTROS AGROJARA, SCA', 'CEPSA')\n",
    "df_n['Proveedor de Servicio'] = df_n['Proveedor de Servicio'].str.replace('CEPSACOD DE LOS VIOTROSS', 'CEPSA')\n",
    "df_n['Proveedor de Servicio'] = df_n['Proveedor de Servicio'].str.replace('CEPSALAS TORRES (TEXACO)', 'CEPSA')\n",
    "df_n['Proveedor de Servicio'] = df_n['Proveedor de Servicio'].str.replace('CEPSAOPER CANARIOS S,L.', 'CEPSA')\n",
    "df_n['Proveedor de Servicio'] = df_n['Proveedor de Servicio'].str.replace('CEPSAOTROSLA DEHESA S.C.A.', 'CEPSA')\n",
    "df_n['Proveedor de Servicio'] = df_n['Proveedor de Servicio'].str.replace('CEPSALOS PORTALES (TEXACO)', 'CEPSA')\n",
    "df_n['Proveedor de Servicio'] = df_n['Proveedor de Servicio'].str.replace('CEPSAOTROS LOS FILABRES SCA', 'CEPSA')\n",
    "df_n['Proveedor de Servicio'] = df_n['Proveedor de Servicio'].str.replace('CEPSAOTROSCOOP. SAN DIONISIO', 'CEPSA')\n",
    "df_n['Proveedor de Servicio'] = df_n['Proveedor de Servicio'].str.replace('CEPSACIUDAD DEL AUTOMÓVIL 365', 'CEPSA')\n",
    "df_n['Proveedor de Servicio'] = df_n['Proveedor de Servicio'].str.replace('CEPSALISBOA', 'CEPSA')\n",
    "df_n['Proveedor de Servicio'] = df_n['Proveedor de Servicio'].str.replace('E.S. CEPSACHIO', 'CEPSA')\n",
    "df_n['Proveedor de Servicio'] = df_n['Proveedor de Servicio'].str.replace('CEPSALOS LLAOTROSS OTROS GRANAD', 'CEPSA')\n",
    "df_n['Proveedor de Servicio'] = df_n['Proveedor de Servicio'].str.replace('CEPSALOS LLAOTROSS OTROS GRANADILLA', 'CEPSA')\n",
    "df_n['Proveedor de Servicio'] = df_n['Proveedor de Servicio'].str.replace('CEPSAVALLECASOTROSLA ATALAYUELA 365', 'CEPSA')\n",
    "df_n['Proveedor de Servicio'] = df_n['Proveedor de Servicio'].str.replace('E.S. CEPSALA CALETA', 'CEPSA')\n",
    "df_n['Proveedor de Servicio'] = df_n['Proveedor de Servicio'].str.replace('CEPSALAS TORRES (TEXACO)', 'CEPSA')\n",
    "df_n['Proveedor de Servicio'] = df_n['Proveedor de Servicio'].str.replace('CEPSAILLA', 'CEPSA')\n",
    "df_n['Proveedor de Servicio'] = df_n['Proveedor de Servicio'].str.replace('CEPSAOPER CANARIOS S,L.', 'CEPSA')\n",
    "df_n['Proveedor de Servicio'] = df_n['Proveedor de Servicio'].str.replace('CEPSALOS PORTALES (TEXACO)', 'CEPSA')\n",
    "df_n['Proveedor de Servicio'] = df_n['Proveedor de Servicio'].str.replace('CEPSA  ', 'CEPSA')\n",
    "df_n['Proveedor de Servicio'] = df_n['Proveedor de Servicio'].str.replace(' CEPSA', 'CEPSA')\n",
    "df_n['Proveedor de Servicio'] = df_n['Proveedor de Servicio'].str.replace('CEPSAOPER CANARIOS S,L.', 'CEPSA')\n",
    "df_n['Proveedor de Servicio'] = df_n['Proveedor de Servicio'].str.replace('ES EL CALEYU Nº 229OTROS5CEPSA', 'CEPSA')\n",
    "df_n['Proveedor de Servicio'] = df_n['Proveedor de Servicio'].str.replace('E.S.CEPSAPONTEBRANCA', 'CEPSA')\n",
    "df_n['Proveedor de Servicio'] = df_n['Proveedor de Servicio'].str.replace('ES VILAMARINACEPSA', 'CEPSA')\n",
    "df_n['Proveedor de Servicio'] = df_n['Proveedor de Servicio'].str.replace('FUNDACION AIDACEPSA', 'CEPSA')\n",
    "df_n['Proveedor de Servicio'] = df_n['Proveedor de Servicio'].str.replace('ES MIRALBUEOTROSCEPSA', 'CEPSA')\n",
    "df_n['Proveedor de Servicio'] = df_n['Proveedor de Servicio'].str.replace('EMPRESA DEL GRUPOCEPSA', 'CEPSA')\n",
    "df_n['Proveedor de Servicio'] = df_n['Proveedor de Servicio'].str.replace('CEPSAOPER CANARIOS S,L.', 'CEPSA')\n",
    "df_n['Proveedor de Servicio'] = df_n['Proveedor de Servicio'].str.replace('CEPSA\\w*', 'CEPSA')\n",
    "df_n['Proveedor de Servicio'] = df_n['Proveedor de Servicio'].str.replace('CEPSA \\S*', 'CEPSA')\n",
    "df_n['Proveedor de Servicio'] = df_n['Proveedor de Servicio'].str.replace('CEPSA \\S[a-zA-Z0-9_]*', 'CEPSA')\n",
    "df_n['Proveedor de Servicio'] = df_n['Proveedor de Servicio'].str.replace('CEPSA \\S[a-zA-Z0-9_]*\\S[a-zA-Z0-9_]*', 'CEPSA')\n",
    "df_n['Proveedor de Servicio'] = df_n['Proveedor de Servicio'].str.replace('CEPSA \\S[a-zA-Z0-9_]*\\S[a-zA-Z0-9_]*\\S[a-zA-Z0-9_]*', 'CEPSA')\n",
    "df_n['Proveedor de Servicio'] = df_n['Proveedor de Servicio'].str.replace('CEPSA\\S*', 'CEPSA')\n",
    "df_n['Proveedor de Servicio'] = df_n['Proveedor de Servicio'].str.replace('LOSADACEPSA', 'CEPSA')\n",
    "df_n['Proveedor de Servicio'] = df_n['Proveedor de Servicio'].str.replace('EE SS VENTA DEL SOLCEPSA', 'CEPSA')\n",
    "\n",
    "# BP\n",
    "df_n['Proveedor de Servicio'] = df_n['Proveedor de Servicio'].str.replace('BP \\w[a-zA-Z0-9_]', 'BP')\n",
    "df_n['Proveedor de Servicio'] = df_n['Proveedor de Servicio'].str.replace('BP\\w[a-zA-Z0-9_]', 'BP')\n",
    "df_n['Proveedor de Servicio'] = df_n['Proveedor de Servicio'].str.replace(' BP', 'BP')\n",
    "df_n['Proveedor de Servicio'] = df_n['Proveedor de Servicio'].str.replace('B P', 'BP')\n",
    "df_n['Proveedor de Servicio'] = df_n['Proveedor de Servicio'].str.replace('BP\\S*UXO', 'BP')\n",
    "df_n['Proveedor de Servicio'] = df_n['Proveedor de Servicio'].str.replace('BP\\w*', 'BP')\n",
    "df_n['Proveedor de Servicio'] = df_n['Proveedor de Servicio'].str.replace('BP \\S*w*', 'BP')\n",
    "df_n['Proveedor de Servicio'] = df_n['Proveedor de Servicio'].str.replace('BP\\S*', 'BP')\n",
    "df_n['Proveedor de Servicio'] = df_n['Proveedor de Servicio'].str.replace('E S GOMEZ \\S*BP', 'BP')\n",
    "df_n['Proveedor de Servicio'] = df_n['Proveedor de Servicio'].str.replace('E S ALCARAYON \\S*BP', 'BP')\n",
    "df_n['Proveedor de Servicio'] = df_n['Proveedor de Servicio'].str.replace('AREA DE SERVICIO A2BP', 'BP')\n",
    "\n",
    "# Gasolineras Shell\n",
    "df_n['Proveedor de Servicio'] = df_n['Proveedor de Servicio'].str.replace('SHELL \\S*', 'SHELL')\n",
    "df_n['Proveedor de Servicio'] = df_n['Proveedor de Servicio'].str.replace('SHELL \\S[a-zA-Z0-9_]*', 'SHELL')\n",
    "df_n['Proveedor de Servicio'] = df_n['Proveedor de Servicio'].str.replace('SHELL VIOTROSS','SHELL')\n",
    "df_n['Proveedor de Servicio'] = df_n['Proveedor de Servicio'].str.replace('SHELL LOS VIOTROSS','SHELL')\n",
    "df_n['Proveedor de Servicio'] = df_n['Proveedor de Servicio'].str.replace('E.S SHELL','SHELL')\n",
    "df_n['Proveedor de Servicio'] = df_n['Proveedor de Servicio'].str.replace('E.S SHELL ','SHELL')\n",
    "df_n['Proveedor de Servicio'] = df_n['Proveedor de Servicio'].str.replace( 'E.S. SHELL','SHELL')\n",
    "df_n['Proveedor de Servicio'] = df_n['Proveedor de Servicio'].str.replace('E.S.SHELL','SHELL')\n",
    "df_n['Proveedor de Servicio'] = df_n['Proveedor de Servicio'].str.replace('LUGO SHELL','SHELL')\n",
    "df_n['Proveedor de Servicio'] = df_n['Proveedor de Servicio'].str.replace('SHELL.S. BELLVIS' , 'SHELL')\n",
    "df_n['Proveedor de Servicio'] = df_n['Proveedor de Servicio'].str.replace('SHELL', 'SHELL')\n",
    "\n",
    "# Gasolineras Alcampo\n",
    "df_n['Proveedor de Servicio'] = df_n['Proveedor de Servicio'].str.replace('ALCAMPO \\S*', 'ALCAMPO')\n",
    "df_n['Proveedor de Servicio'] = df_n['Proveedor de Servicio'].str.replace('ALCAMPO \\S[a-zA-Z0-9_]*', 'ALCAMPO')\n",
    "df_n['Proveedor de Servicio'] = df_n['Proveedor de Servicio'].str.replace('ALCAMPO A', 'ALCAMPO')\n",
    "df_n['Proveedor de Servicio'] = df_n['Proveedor de Servicio'].str.replace('C C ALCAMPO', 'ALCAMPO')\n",
    "df_n['Proveedor de Servicio'] = df_n['Proveedor de Servicio'].str.replace('E S ALCAMPO', 'ALCAMPO')\n",
    "df_n['Proveedor de Servicio'] = df_n['Proveedor de Servicio'].str.replace('E S  ALCAMPO', 'ALCAMPO')\n",
    "df_n['Proveedor de Servicio'] = df_n['Proveedor de Servicio'].str.replace('ALCAMPO ', 'ALCAMPO')\n",
    "\n",
    "# Gasolineras Repsol\n",
    "df_n['Proveedor de Servicio'] = df_n['Proveedor de Servicio'].str.replace('REPSOL \\S* \\S/()', 'REPSOL')\n",
    "df_n['Proveedor de Servicio'] = df_n['Proveedor de Servicio'].str.replace('REPSOL \\S*a-zA-Z0-9_*', 'REPSOL')\n",
    "df_n['Proveedor de Servicio'] = df_n['Proveedor de Servicio'].str.replace('REPSOL \\S[a-zA-Z0-9_]*\\S[a-zA-Z0-9_]*', 'REPSOL')\n",
    "df_n['Proveedor de Servicio'] = df_n['Proveedor de Servicio'].str.replace('E S REPSOL', 'REPSOL')\n",
    "df_n['Proveedor de Servicio'] = df_n['Proveedor de Servicio'].str.replace('E S  REPSOL', 'REPSOL')\n",
    "df_n['Proveedor de Servicio'] = df_n['Proveedor de Servicio'].str.replace('REPSOL ', 'REPSOL')\n",
    "df_n['Proveedor de Servicio'] = df_n['Proveedor de Servicio'].str.replace('REPSOL65', 'REPSOL')\n",
    "df_n['Proveedor de Servicio'] = df_n['Proveedor de Servicio'].str.replace('REPSOLOMAN', 'REPSOL')\n",
    "df_n['Proveedor de Servicio'] = df_n['Proveedor de Servicio'].str.replace('REPSOLONDA', 'REPSOL')\n",
    "df_n['Proveedor de Servicio'] = df_n['Proveedor de Servicio'].str.replace('REPSOLOMA', 'REPSOL')\n",
    "df_n['Proveedor de Servicio'] = df_n['Proveedor de Servicio'].str.replace('REPSOLTROSRIO SECO', 'REPSOL')\n",
    "df_n['Proveedor de Servicio'] = df_n['Proveedor de Servicio'].str.replace('REPSOLTROSE S JAIME I', 'REPSOL')\n",
    "df_n['Proveedor de Servicio'] = df_n['Proveedor de Servicio'].str.replace('REPSOL15/OCTUBRE/2OTROSOTROS7', 'REPSOL')\n",
    "df_n['Proveedor de Servicio'] = df_n['Proveedor de Servicio'].str.replace('REPSOLILA HERMAOTROSS REDONDO S', 'REPSOL')\n",
    "df_n['Proveedor de Servicio'] = df_n['Proveedor de Servicio'].str.replace('ES DULANTZI REPSOL', 'REPSOL')\n",
    "df_n['Proveedor de Servicio'] = df_n['Proveedor de Servicio'].str.replace('EDAN (REPSOL)', 'REPSOL')\n",
    "df_n['Proveedor de Servicio'] = df_n['Proveedor de Servicio'].str.replace('BALSILLAS I (REPSOL)', 'REPSOL')\n",
    "df_n['Proveedor de Servicio'] = df_n['Proveedor de Servicio'].str.replace('HIJOS DE NAVARRO ROBLES (REPSOL)', 'REPSOL')\n",
    "df_n['Proveedor de Servicio'] = df_n['Proveedor de Servicio'].str.replace('REPSOL L', 'REPSOL')\n",
    "df_n['Proveedor de Servicio'] = df_n['Proveedor de Servicio'].str.replace('REPSOL AVENIDA', 'REPSOL')\n",
    "df_n['Proveedor de Servicio'] = df_n['Proveedor de Servicio'].str.replace('REPSOL ', 'REPSOL')\n",
    "df_n['Proveedor de Servicio'] = df_n['Proveedor de Servicio'].str.replace(' REPSOL', 'REPSOL')\n",
    "df_n['Proveedor de Servicio'] = df_n['Proveedor de Servicio'].str.replace('REPSOL5\\S*/OCTUBRE\\S*/2OTROSOTROS7', 'REPSOL')\n",
    "df_n['Proveedor de Servicio'] = df_n['Proveedor de Servicio'].str.replace('EDAN \\S*(REPSOL)', 'REPSOL')\n",
    "df_n['Proveedor de Servicio'] = df_n['Proveedor de Servicio'].str.replace('HIJOS DE NAVARRO ROBLES (REPSOL)', 'REPSOL')\n",
    "df_n['Proveedor de Servicio'] = df_n['Proveedor de Servicio'].str.replace('REPSOLADA  AVENIDA', 'REPSOL')\n",
    "df_n['Proveedor de Servicio'] = df_n['Proveedor de Servicio'].str.replace('REPSOLCTUALIZACION A 15/OCTUBR', 'REPSOL')\n",
    "df_n['Proveedor de Servicio'] = df_n['Proveedor de Servicio'].str.replace('EDAN (REPSOL)', 'REPSOL')\n",
    "df_n['Proveedor de Servicio'] = df_n['Proveedor de Servicio'].str.replace('BALSILLAS \\S*I \\S*(REPSOL)', 'REPSOL')\n",
    "df_n['Proveedor de Servicio'] = df_n['Proveedor de Servicio'].str.replace('HIJOS DE NAVARRO ROBLES \\S*(REPSOL)', 'REPSOL')\n",
    "df_n['Proveedor de Servicio'] = df_n['Proveedor de Servicio'].str.replace('REPSOL\\w*', 'REPSOL')\n",
    "df_n['Proveedor de Servicio'] = df_n['Proveedor de Servicio'].str.replace('REPSOL \\S*w*', 'REPSOL')\n",
    "df_n['Proveedor de Servicio'] = df_n['Proveedor de Servicio'].str.replace('REPSOL\\S*', 'REPSOL')\n",
    "\n",
    "# Gasolineras Disa\n",
    "df_n['Proveedor de Servicio'] = df_n['Proveedor de Servicio'].str.replace('DISA \\S*', 'DISA')\n",
    "df_n['Proveedor de Servicio'] = df_n['Proveedor de Servicio'].str.replace('DISA \\S[a-zA-Z0-9_]*', 'DISA')\n",
    "df_n['Proveedor de Servicio'] = df_n['Proveedor de Servicio'].str.replace('DISA \\S[a-zA-Z0-9_]*\\S[a-zA-Z0-9_]*', 'DISA')\n",
    "df_n['Proveedor de Servicio'] = df_n['Proveedor de Servicio'].str.replace('DISA         STO DOMINGO', 'DISA')\n",
    "df_n['Proveedor de Servicio'] = df_n['Proveedor de Servicio'].str.replace('E S DISA', 'DISA')\n",
    "df_n['Proveedor de Servicio'] = df_n['Proveedor de Servicio'].str.replace('E S  DISA', 'DISA')\n",
    "df_n['Proveedor de Servicio'] = df_n['Proveedor de Servicio'].str.replace('E S  DISA', 'DISA')\n",
    "\n",
    "# Gasolineras Exoil\n",
    "df_n['Proveedor de Servicio'] = df_n['Proveedor de Servicio'].str.replace('EXOIL \\S*', 'EXOIL')\n",
    "df_n['Proveedor de Servicio'] = df_n['Proveedor de Servicio'].str.replace('EXOIL \\S[a-zA-Z0-9_]*', 'EXOIL')\n",
    "df_n['Proveedor de Servicio'] = df_n['Proveedor de Servicio'].str.replace('EXOIL \\S[a-zA-Z0-9_]*\\S[a-zA-Z0-9_]*', 'EXOIL')\n",
    "\n",
    "# Gasolineras Energy\n",
    "df_n['Proveedor de Servicio'] = df_n['Proveedor de Servicio'].str.replace('ENERGY \\S*', 'ENERGY')\n",
    "df_n['Proveedor de Servicio'] = df_n['Proveedor de Servicio'].str.replace('ENERGY \\S[a-zA-Z0-9_]*', 'ENERGY')\n",
    "df_n['Proveedor de Servicio'] = df_n['Proveedor de Servicio'].str.replace('ENERGY \\S[a-zA-Z0-9_]*\\S[a-zA-Z0-9_]*', 'ENERGY')\n",
    "\n",
    "#Gasolineras Naturgy\n",
    "df_n['Proveedor de Servicio'] = df_n['Proveedor de Servicio'].str.replace('NATURGY ', 'NATURGY')\n",
    "df_n['Proveedor de Servicio'] = df_n['Proveedor de Servicio'].str.replace('NATURGY \\S*', 'NATURGY')\n",
    "df_n['Proveedor de Servicio'] = df_n['Proveedor de Servicio'].str.replace('NATURGY \\S[a-zA-Z0-9_]*', 'NATURGY')\n",
    "df_n['Proveedor de Servicio'] = df_n['Proveedor de Servicio'].str.replace('NATURGY \\S[a-zA-Z0-9_]*\\S[a-zA-Z0-9_]*', 'NATURGY')\n",
    "df_n['Proveedor de Servicio'] = df_n['Proveedor de Servicio'].str.replace('ESNATURGY \\S[a-zA-Z0-9_]*\\S[a-zA-Z0-9_]*', 'NATURGY')\n",
    "df_n['Proveedor de Servicio'] = df_n['Proveedor de Servicio'].str.replace('NATURGYES \\S[a-zA-Z0-9_]*\\S[a-zA-Z0-9_]*', 'NATURGY')\n",
    "df_n['Proveedor de Servicio'] = df_n['Proveedor de Servicio'].str.replace('NATURGY\\w*', 'NATURGY')\n",
    "df_n['Proveedor de Servicio'] = df_n['Proveedor de Servicio'].str.replace('NATURGY \\S*w*', 'NATURGY')\n",
    "df_n['Proveedor de Servicio'] = df_n['Proveedor de Servicio'].str.replace('NATURGYES \\S[a-zA-Z0-9_]*\\S[a-zA-Z0-9_]*\\S[a-zA-Z0-9_]*', 'NATURGY')\n",
    "\n",
    "# Gasolineras Galp\n",
    "df_n['Proveedor de Servicio'] = df_n['Proveedor de Servicio'].str.replace('GALP \\S*', 'GALP')\n",
    "df_n['Proveedor de Servicio'] = df_n['Proveedor de Servicio'].str.replace('GALP \\S[a-zA-Z0-9_]*', 'GALP')\n",
    "df_n['Proveedor de Servicio'] = df_n['Proveedor de Servicio'].str.replace('GALP \\S[a-zA-Z0-9_]*\\S[a-zA-Z0-9_]*', 'GALP')\n",
    "df_n['Proveedor de Servicio'] = df_n['Proveedor de Servicio'].str.replace('GALP \\S[a-zA-Z0-9_]*\\S[a-zA-Z0-9_]*', 'GALP')\n",
    "df_n['Proveedor de Servicio'] = df_n['Proveedor de Servicio'].str.replace('GALP \\S[a-zA-Z0-9_]*\\S[a-zA-Z0-9_]*', 'GALP')\n",
    "df_n['Proveedor de Servicio'] = df_n['Proveedor de Servicio'].str.replace('GALP\\w*', 'GALP')\n",
    "df_n['Proveedor de Servicio'] = df_n['Proveedor de Servicio'].str.replace('GALP \\S*w*', 'GALP')\n",
    "df_n['Proveedor de Servicio'] = df_n['Proveedor de Servicio'].str.replace('GALP \\S[a-zA-Z0-9_]*\\S[a-zA-Z0-9_]*\\S[a-zA-Z0-9_]*', 'GALP')\n",
    "df_n['Proveedor de Servicio'] = df_n['Proveedor de Servicio'].str.replace('GALP ', 'GALP')\n",
    "df_n['Proveedor de Servicio'] = df_n['Proveedor de Servicio'].str.replace('GALP&GO', 'GALP')\n",
    "df_n['Proveedor de Servicio'] = df_n['Proveedor de Servicio'].str.replace('GALPENERGIA', 'GALP')\n",
    "df_n['Proveedor de Servicio'] = df_n['Proveedor de Servicio'].str.replace('GALPARRIONDAS', 'GALP')\n",
    "df_n['Proveedor de Servicio'] = df_n['Proveedor de Servicio'].str.replace('GALP(E S  ANTUNEZ)', 'GALP')\n",
    "df_n['Proveedor de Servicio'] = df_n['Proveedor de Servicio'].str.replace('GALPOTROS3 CAMIOTROSS', 'GALP')\n",
    "df_n['Proveedor de Servicio'] = df_n['Proveedor de Servicio'].str.replace('GALPOTROS AMERICAN PETROL', 'GALP')\n",
    "df_n['Proveedor de Servicio'] = df_n['Proveedor de Servicio'].str.replace('GALP/3CAMIOTROSSOTROSVALENCIA', 'GALP')\n",
    "df_n['Proveedor de Servicio'] = df_n['Proveedor de Servicio'].str.replace('GALPDISTRIBUCION OIL ESPAÑA  S A U ', 'GALP')\n",
    "df_n['Proveedor de Servicio'] = df_n['Proveedor de Servicio'].str.replace('GALP', 'GALP')\n",
    "df_n['Proveedor de Servicio'] = df_n['Proveedor de Servicio'].str.replace('GALPLA JUNQUERA', 'GALP')\n",
    "df_n['Proveedor de Servicio'] = df_n['Proveedor de Servicio'].str.replace('GALPOTROS3CAMIOTROSS UTIEL', 'GALP')\n",
    "\n",
    "# ES CARBURANTES\n",
    "df_n['Proveedor de Servicio'] = df_n['Proveedor de Servicio'].str.replace('\\S* S\\*ES \\S*CABURANTES', 'ES CARBURANTES')\n",
    "df_n['Proveedor de Servicio'] = df_n['Proveedor de Servicio'].str.replace('ES CARBURANTES', 'ES CARBURANTES')\n",
    "df_n['Proveedor de Servicio'] = df_n['Proveedor de Servicio'].str.replace('ES CARBURANTES CENTRO COMERCIAL VISTALEGRE', 'ES CARBURANTES')\n",
    "df_n['Proveedor de Servicio'] = df_n['Proveedor de Servicio'].str.replace('\\S*[+]B ENERGIAS ', '+B ENERGIAS')\n",
    "df_n['Proveedor de Servicio'] "
   ]
  },
  {
   "cell_type": "code",
   "execution_count": 169,
   "id": "f71973c7",
   "metadata": {},
   "outputs": [
    {
     "data": {
      "text/plain": [
       "'GASEXPRESS'"
      ]
     },
     "execution_count": 169,
     "metadata": {},
     "output_type": "execute_result"
    }
   ],
   "source": [
    " df_n['Proveedor de Servicio'].iloc[5700]\n"
   ]
  },
  {
   "cell_type": "markdown",
   "id": "05c54273",
   "metadata": {},
   "source": [
    "# Guardado Dataframe "
   ]
  },
  {
   "cell_type": "code",
   "execution_count": 170,
   "id": "5f465a5c",
   "metadata": {},
   "outputs": [],
   "source": [
    "# Guardamos df original para sucesion de tiempo\n",
    "df_n.to_csv('df_sample.csv', index=False)"
   ]
  },
  {
   "cell_type": "code",
   "execution_count": 171,
   "id": "32cb382f",
   "metadata": {
    "scrolled": false
   },
   "outputs": [
    {
     "name": "stdout",
     "output_type": "stream",
     "text": [
      "<class 'pandas.core.frame.DataFrame'>\n",
      "Index: 11735 entries, 2897 to 10946\n",
      "Data columns (total 23 columns):\n",
      " #   Column                      Non-Null Count  Dtype  \n",
      "---  ------                      --------------  -----  \n",
      " 0   Fecha                       11735 non-null  object \n",
      " 1   Horario                     11735 non-null  object \n",
      " 2   C.P.                        11735 non-null  object \n",
      " 3   Provincia                   11735 non-null  object \n",
      " 4   Municipio                   11735 non-null  object \n",
      " 5   Localidad                   11735 non-null  object \n",
      " 6   Dirección                   11735 non-null  object \n",
      " 7   Proveedor de Servicio       11735 non-null  string \n",
      " 8   Gasoleo A                   11368 non-null  float64\n",
      " 9   Media C.P. Gasoleo A        11643 non-null  float64\n",
      " 10  Media Nacional Gasoleo A    11735 non-null  float64\n",
      " 11  Gasoleo B                   2961 non-null   float64\n",
      " 12  Media C.P. Gasoleo B        5923 non-null   float64\n",
      " 13  Media Nacional Gasoleo B    11735 non-null  float64\n",
      " 14  Gasoleo Premium             7413 non-null   float64\n",
      " 15  Media C.P. Gasoleo P        5923 non-null   float64\n",
      " 16  Media Nacional Gasoleo P    11735 non-null  float64\n",
      " 17  Gasolina 95 E5              10601 non-null  float64\n",
      " 18  Media C.P. Gasolina 95      11468 non-null  float64\n",
      " 19  Media Nacional Gasolina 95  11735 non-null  float64\n",
      " 20  Gasolina 98 E5              5806 non-null   float64\n",
      " 21  Media C.P. Gasolina 98      9517 non-null   float64\n",
      " 22  Media Nacional Gasolina 98  11735 non-null  float64\n",
      "dtypes: float64(15), object(7), string(1)\n",
      "memory usage: 2.4+ MB\n"
     ]
    }
   ],
   "source": [
    "df_n.info()"
   ]
  }
 ],
 "metadata": {
  "kernelspec": {
   "display_name": "jp_env",
   "language": "python",
   "name": "jp_env"
  },
  "language_info": {
   "codemirror_mode": {
    "name": "ipython",
    "version": 3
   },
   "file_extension": ".py",
   "mimetype": "text/x-python",
   "name": "python",
   "nbconvert_exporter": "python",
   "pygments_lexer": "ipython3",
   "version": "3.11.3"
  }
 },
 "nbformat": 4,
 "nbformat_minor": 5
}
