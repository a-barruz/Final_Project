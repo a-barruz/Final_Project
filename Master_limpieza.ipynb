{
 "cells": [
  {
   "cell_type": "code",
   "execution_count": 3,
   "id": "acd5e146",
   "metadata": {},
   "outputs": [],
   "source": [
    "import numpy as np\n",
    "import pandas as pd\n",
    "import requests\n",
    "from urllib.request import urlopen\n",
    "import json\n",
    "import xlrd\n",
    "from fuzzywuzzy import fuzz\n",
    "from fuzzywuzzy import process"
   ]
  },
  {
   "cell_type": "code",
   "execution_count": 4,
   "id": "36844b90",
   "metadata": {},
   "outputs": [
    {
     "name": "stdout",
     "output_type": "stream",
     "text": [
      "<class 'str'>\n"
     ]
    }
   ],
   "source": [
    "url=urlopen('https://sedeaplicaciones.minetur.gob.es/ServiciosRESTCarburantes/PreciosCarburantes/EstacionesTerrestres/')\n",
    "df=url.read().decode('utf-8', 'replace')\n",
    "\n",
    "print(type(df))\n",
    "#response = urlopen(\"https://bittrex.com/api/v1.1/public/getmarkethistory?market=BTC-ETC\")\n",
    "#json_data = response.read().decode('utf-8', 'replace')\n"
   ]
  },
  {
   "cell_type": "code",
   "execution_count": 5,
   "id": "3c2024cd",
   "metadata": {},
   "outputs": [
    {
     "name": "stdout",
     "output_type": "stream",
     "text": [
      "<class 'dict'>\n",
      "<class 'pandas.core.frame.DataFrame'>\n"
     ]
    }
   ],
   "source": [
    "d = json.loads(df)\n",
    "df_1 = pd.json_normalize(d['ListaEESSPrecio'])\n",
    "print(type(d))\n",
    "print(type(df_1))"
   ]
  },
  {
   "cell_type": "code",
   "execution_count": 6,
   "id": "e930dd5c",
   "metadata": {},
   "outputs": [
    {
     "data": {
      "text/html": [
       "<div>\n",
       "<style scoped>\n",
       "    .dataframe tbody tr th:only-of-type {\n",
       "        vertical-align: middle;\n",
       "    }\n",
       "\n",
       "    .dataframe tbody tr th {\n",
       "        vertical-align: top;\n",
       "    }\n",
       "\n",
       "    .dataframe thead th {\n",
       "        text-align: right;\n",
       "    }\n",
       "</style>\n",
       "<table border=\"1\" class=\"dataframe\">\n",
       "  <thead>\n",
       "    <tr style=\"text-align: right;\">\n",
       "      <th></th>\n",
       "      <th>C.P.</th>\n",
       "      <th>Dirección</th>\n",
       "      <th>Horario</th>\n",
       "      <th>Latitud</th>\n",
       "      <th>Localidad</th>\n",
       "      <th>Longitud (WGS84)</th>\n",
       "      <th>Margen</th>\n",
       "      <th>Municipio</th>\n",
       "      <th>Precio Biodiesel</th>\n",
       "      <th>Precio Bioetanol</th>\n",
       "      <th>...</th>\n",
       "      <th>Provincia</th>\n",
       "      <th>Remisión</th>\n",
       "      <th>Rótulo</th>\n",
       "      <th>Tipo Venta</th>\n",
       "      <th>% BioEtanol</th>\n",
       "      <th>% Éster metílico</th>\n",
       "      <th>IDEESS</th>\n",
       "      <th>IDMunicipio</th>\n",
       "      <th>IDProvincia</th>\n",
       "      <th>IDCCAA</th>\n",
       "    </tr>\n",
       "  </thead>\n",
       "  <tbody>\n",
       "    <tr>\n",
       "      <th>0</th>\n",
       "      <td>02250</td>\n",
       "      <td>AVENIDA CASTILLA LA MANCHA, 26</td>\n",
       "      <td>L-D: 07:00-22:00</td>\n",
       "      <td>39,211417</td>\n",
       "      <td>ABENGIBRE</td>\n",
       "      <td>-1,539167</td>\n",
       "      <td>D</td>\n",
       "      <td>Abengibre</td>\n",
       "      <td></td>\n",
       "      <td></td>\n",
       "      <td>...</td>\n",
       "      <td>ALBACETE</td>\n",
       "      <td>dm</td>\n",
       "      <td>Nº 10.935</td>\n",
       "      <td>P</td>\n",
       "      <td>0,0</td>\n",
       "      <td>0,0</td>\n",
       "      <td>4375</td>\n",
       "      <td>52</td>\n",
       "      <td>02</td>\n",
       "      <td>07</td>\n",
       "    </tr>\n",
       "    <tr>\n",
       "      <th>1</th>\n",
       "      <td>02152</td>\n",
       "      <td>CR CM-332, 46,4</td>\n",
       "      <td>L-D: 7:00-23:00</td>\n",
       "      <td>39,100389</td>\n",
       "      <td>ALATOZ</td>\n",
       "      <td>-1,346083</td>\n",
       "      <td>I</td>\n",
       "      <td>Alatoz</td>\n",
       "      <td></td>\n",
       "      <td></td>\n",
       "      <td>...</td>\n",
       "      <td>ALBACETE</td>\n",
       "      <td>dm</td>\n",
       "      <td>REPSOL</td>\n",
       "      <td>P</td>\n",
       "      <td>0,0</td>\n",
       "      <td>0,0</td>\n",
       "      <td>5122</td>\n",
       "      <td>53</td>\n",
       "      <td>02</td>\n",
       "      <td>07</td>\n",
       "    </tr>\n",
       "    <tr>\n",
       "      <th>2</th>\n",
       "      <td>02001</td>\n",
       "      <td>AVENIDA 1º DE MAYO, S/N</td>\n",
       "      <td>L-S: 08:00-22:00; D: 09:00-21:00</td>\n",
       "      <td>38,985667</td>\n",
       "      <td>ALBACETE</td>\n",
       "      <td>-1,868500</td>\n",
       "      <td>N</td>\n",
       "      <td>Albacete</td>\n",
       "      <td></td>\n",
       "      <td></td>\n",
       "      <td>...</td>\n",
       "      <td>ALBACETE</td>\n",
       "      <td>dm</td>\n",
       "      <td>CARREFOUR</td>\n",
       "      <td>P</td>\n",
       "      <td>0,0</td>\n",
       "      <td>0,0</td>\n",
       "      <td>10765</td>\n",
       "      <td>54</td>\n",
       "      <td>02</td>\n",
       "      <td>07</td>\n",
       "    </tr>\n",
       "    <tr>\n",
       "      <th>3</th>\n",
       "      <td>02001</td>\n",
       "      <td>CALLE PRINCIPE DE ASTURIAS (POLÍGONO DE ROMICA...</td>\n",
       "      <td>L-D: 06:00-21:30</td>\n",
       "      <td>39,054694</td>\n",
       "      <td>ALBACETE</td>\n",
       "      <td>-1,832000</td>\n",
       "      <td>I</td>\n",
       "      <td>Albacete</td>\n",
       "      <td></td>\n",
       "      <td></td>\n",
       "      <td>...</td>\n",
       "      <td>ALBACETE</td>\n",
       "      <td>OM</td>\n",
       "      <td>BP ROMICA</td>\n",
       "      <td>P</td>\n",
       "      <td>0,0</td>\n",
       "      <td>0,0</td>\n",
       "      <td>12054</td>\n",
       "      <td>54</td>\n",
       "      <td>02</td>\n",
       "      <td>07</td>\n",
       "    </tr>\n",
       "    <tr>\n",
       "      <th>4</th>\n",
       "      <td>02001</td>\n",
       "      <td>CALLE FEDERICO GARCIA LORCA, 5</td>\n",
       "      <td>L-S: 05:00-23:00</td>\n",
       "      <td>38,997722</td>\n",
       "      <td>ALBACETE</td>\n",
       "      <td>-1,846361</td>\n",
       "      <td>I</td>\n",
       "      <td>Albacete</td>\n",
       "      <td></td>\n",
       "      <td></td>\n",
       "      <td>...</td>\n",
       "      <td>ALBACETE</td>\n",
       "      <td>dm</td>\n",
       "      <td>CEPSA</td>\n",
       "      <td>R</td>\n",
       "      <td>0,0</td>\n",
       "      <td>0,0</td>\n",
       "      <td>4438</td>\n",
       "      <td>54</td>\n",
       "      <td>02</td>\n",
       "      <td>07</td>\n",
       "    </tr>\n",
       "    <tr>\n",
       "      <th>...</th>\n",
       "      <td>...</td>\n",
       "      <td>...</td>\n",
       "      <td>...</td>\n",
       "      <td>...</td>\n",
       "      <td>...</td>\n",
       "      <td>...</td>\n",
       "      <td>...</td>\n",
       "      <td>...</td>\n",
       "      <td>...</td>\n",
       "      <td>...</td>\n",
       "      <td>...</td>\n",
       "      <td>...</td>\n",
       "      <td>...</td>\n",
       "      <td>...</td>\n",
       "      <td>...</td>\n",
       "      <td>...</td>\n",
       "      <td>...</td>\n",
       "      <td>...</td>\n",
       "      <td>...</td>\n",
       "      <td>...</td>\n",
       "      <td>...</td>\n",
       "    </tr>\n",
       "    <tr>\n",
       "      <th>11815</th>\n",
       "      <td>50197</td>\n",
       "      <td>POLIGONO CALLE TURIASO, 31</td>\n",
       "      <td>L-D: 24H</td>\n",
       "      <td>41,645722</td>\n",
       "      <td>ZARAGOZA</td>\n",
       "      <td>-0,974194</td>\n",
       "      <td>D</td>\n",
       "      <td>Zaragoza</td>\n",
       "      <td></td>\n",
       "      <td></td>\n",
       "      <td>...</td>\n",
       "      <td>ZARAGOZA</td>\n",
       "      <td>dm</td>\n",
       "      <td>NOIL</td>\n",
       "      <td>P</td>\n",
       "      <td>0,0</td>\n",
       "      <td>0,0</td>\n",
       "      <td>13917</td>\n",
       "      <td>8108</td>\n",
       "      <td>50</td>\n",
       "      <td>02</td>\n",
       "    </tr>\n",
       "    <tr>\n",
       "      <th>11816</th>\n",
       "      <td>50197</td>\n",
       "      <td>RONDA FERIA DE MUESTRAS, DE LA, 20</td>\n",
       "      <td>L-D: 24H</td>\n",
       "      <td>41,637944</td>\n",
       "      <td>ZARAGOZA</td>\n",
       "      <td>-0,986389</td>\n",
       "      <td>D</td>\n",
       "      <td>Zaragoza</td>\n",
       "      <td></td>\n",
       "      <td></td>\n",
       "      <td>...</td>\n",
       "      <td>ZARAGOZA</td>\n",
       "      <td>OM</td>\n",
       "      <td>IDS</td>\n",
       "      <td>P</td>\n",
       "      <td>0,0</td>\n",
       "      <td>0,0</td>\n",
       "      <td>12472</td>\n",
       "      <td>8108</td>\n",
       "      <td>50</td>\n",
       "      <td>02</td>\n",
       "    </tr>\n",
       "    <tr>\n",
       "      <th>11817</th>\n",
       "      <td>50800</td>\n",
       "      <td>CARRETERA N-330A KM. 24,000</td>\n",
       "      <td>L-D: 06:00-22:00</td>\n",
       "      <td>41,857000</td>\n",
       "      <td>ZUERA</td>\n",
       "      <td>-0,794000</td>\n",
       "      <td>D</td>\n",
       "      <td>Zuera</td>\n",
       "      <td></td>\n",
       "      <td></td>\n",
       "      <td>...</td>\n",
       "      <td>ZARAGOZA</td>\n",
       "      <td>OM</td>\n",
       "      <td>REPSOL</td>\n",
       "      <td>P</td>\n",
       "      <td>0,0</td>\n",
       "      <td>0,0</td>\n",
       "      <td>1452</td>\n",
       "      <td>8109</td>\n",
       "      <td>50</td>\n",
       "      <td>02</td>\n",
       "    </tr>\n",
       "    <tr>\n",
       "      <th>11818</th>\n",
       "      <td>50800</td>\n",
       "      <td>CALLE AUSTRIA, 11,17</td>\n",
       "      <td>L-D: 24H</td>\n",
       "      <td>41,883583</td>\n",
       "      <td>ZUERA</td>\n",
       "      <td>-0,782833</td>\n",
       "      <td>D</td>\n",
       "      <td>Zuera</td>\n",
       "      <td></td>\n",
       "      <td></td>\n",
       "      <td>...</td>\n",
       "      <td>ZARAGOZA</td>\n",
       "      <td>dm</td>\n",
       "      <td>AN ENERGETICOS ZUERA</td>\n",
       "      <td>P</td>\n",
       "      <td>0,0</td>\n",
       "      <td>0,0</td>\n",
       "      <td>9085</td>\n",
       "      <td>8109</td>\n",
       "      <td>50</td>\n",
       "      <td>02</td>\n",
       "    </tr>\n",
       "    <tr>\n",
       "      <th>11819</th>\n",
       "      <td>50810</td>\n",
       "      <td>CALLE COOPERATIVA, 2</td>\n",
       "      <td>L-D: 24H</td>\n",
       "      <td>41,938750</td>\n",
       "      <td>ONTINAR DE SALZ</td>\n",
       "      <td>-0,757611</td>\n",
       "      <td>D</td>\n",
       "      <td>Zuera</td>\n",
       "      <td></td>\n",
       "      <td></td>\n",
       "      <td>...</td>\n",
       "      <td>ZARAGOZA</td>\n",
       "      <td>dm</td>\n",
       "      <td>COOPERATIVA SAN ISIDRO</td>\n",
       "      <td>P</td>\n",
       "      <td>0,0</td>\n",
       "      <td>0,0</td>\n",
       "      <td>9068</td>\n",
       "      <td>8109</td>\n",
       "      <td>50</td>\n",
       "      <td>02</td>\n",
       "    </tr>\n",
       "  </tbody>\n",
       "</table>\n",
       "<p>11820 rows × 32 columns</p>\n",
       "</div>"
      ],
      "text/plain": [
       "        C.P.                                          Dirección  \\\n",
       "0      02250                     AVENIDA CASTILLA LA MANCHA, 26   \n",
       "1      02152                                    CR CM-332, 46,4   \n",
       "2      02001                            AVENIDA 1º DE MAYO, S/N   \n",
       "3      02001  CALLE PRINCIPE DE ASTURIAS (POLÍGONO DE ROMICA...   \n",
       "4      02001                     CALLE FEDERICO GARCIA LORCA, 5   \n",
       "...      ...                                                ...   \n",
       "11815  50197                         POLIGONO CALLE TURIASO, 31   \n",
       "11816  50197                 RONDA FERIA DE MUESTRAS, DE LA, 20   \n",
       "11817  50800                        CARRETERA N-330A KM. 24,000   \n",
       "11818  50800                               CALLE AUSTRIA, 11,17   \n",
       "11819  50810                               CALLE COOPERATIVA, 2   \n",
       "\n",
       "                                Horario    Latitud        Localidad  \\\n",
       "0                      L-D: 07:00-22:00  39,211417        ABENGIBRE   \n",
       "1                       L-D: 7:00-23:00  39,100389           ALATOZ   \n",
       "2      L-S: 08:00-22:00; D: 09:00-21:00  38,985667         ALBACETE   \n",
       "3                      L-D: 06:00-21:30  39,054694         ALBACETE   \n",
       "4                      L-S: 05:00-23:00  38,997722         ALBACETE   \n",
       "...                                 ...        ...              ...   \n",
       "11815                          L-D: 24H  41,645722         ZARAGOZA   \n",
       "11816                          L-D: 24H  41,637944         ZARAGOZA   \n",
       "11817                  L-D: 06:00-22:00  41,857000            ZUERA   \n",
       "11818                          L-D: 24H  41,883583            ZUERA   \n",
       "11819                          L-D: 24H  41,938750  ONTINAR DE SALZ   \n",
       "\n",
       "      Longitud (WGS84) Margen  Municipio Precio Biodiesel Precio Bioetanol  \\\n",
       "0            -1,539167      D  Abengibre                                     \n",
       "1            -1,346083      I     Alatoz                                     \n",
       "2            -1,868500      N   Albacete                                     \n",
       "3            -1,832000      I   Albacete                                     \n",
       "4            -1,846361      I   Albacete                                     \n",
       "...                ...    ...        ...              ...              ...   \n",
       "11815        -0,974194      D   Zaragoza                                     \n",
       "11816        -0,986389      D   Zaragoza                                     \n",
       "11817        -0,794000      D      Zuera                                     \n",
       "11818        -0,782833      D      Zuera                                     \n",
       "11819        -0,757611      D      Zuera                                     \n",
       "\n",
       "       ... Provincia Remisión                  Rótulo Tipo Venta % BioEtanol  \\\n",
       "0      ...  ALBACETE       dm               Nº 10.935          P         0,0   \n",
       "1      ...  ALBACETE       dm                  REPSOL          P         0,0   \n",
       "2      ...  ALBACETE       dm               CARREFOUR          P         0,0   \n",
       "3      ...  ALBACETE       OM               BP ROMICA          P         0,0   \n",
       "4      ...  ALBACETE       dm                   CEPSA          R         0,0   \n",
       "...    ...       ...      ...                     ...        ...         ...   \n",
       "11815  ...  ZARAGOZA       dm                    NOIL          P         0,0   \n",
       "11816  ...  ZARAGOZA       OM                     IDS          P         0,0   \n",
       "11817  ...  ZARAGOZA       OM                  REPSOL          P         0,0   \n",
       "11818  ...  ZARAGOZA       dm    AN ENERGETICOS ZUERA          P         0,0   \n",
       "11819  ...  ZARAGOZA       dm  COOPERATIVA SAN ISIDRO          P         0,0   \n",
       "\n",
       "      % Éster metílico IDEESS IDMunicipio IDProvincia IDCCAA  \n",
       "0                  0,0   4375          52          02     07  \n",
       "1                  0,0   5122          53          02     07  \n",
       "2                  0,0  10765          54          02     07  \n",
       "3                  0,0  12054          54          02     07  \n",
       "4                  0,0   4438          54          02     07  \n",
       "...                ...    ...         ...         ...    ...  \n",
       "11815              0,0  13917        8108          50     02  \n",
       "11816              0,0  12472        8108          50     02  \n",
       "11817              0,0   1452        8109          50     02  \n",
       "11818              0,0   9085        8109          50     02  \n",
       "11819              0,0   9068        8109          50     02  \n",
       "\n",
       "[11820 rows x 32 columns]"
      ]
     },
     "execution_count": 6,
     "metadata": {},
     "output_type": "execute_result"
    }
   ],
   "source": [
    "df_1"
   ]
  },
  {
   "cell_type": "code",
   "execution_count": 7,
   "id": "a8d22fcc",
   "metadata": {},
   "outputs": [
    {
     "name": "stdout",
     "output_type": "stream",
     "text": [
      "<class 'pandas.core.frame.DataFrame'>\n",
      "RangeIndex: 11820 entries, 0 to 11819\n",
      "Data columns (total 32 columns):\n",
      " #   Column                              Non-Null Count  Dtype \n",
      "---  ------                              --------------  ----- \n",
      " 0   C.P.                                11820 non-null  object\n",
      " 1   Dirección                           11820 non-null  object\n",
      " 2   Horario                             11820 non-null  object\n",
      " 3   Latitud                             11820 non-null  object\n",
      " 4   Localidad                           11820 non-null  object\n",
      " 5   Longitud (WGS84)                    11820 non-null  object\n",
      " 6   Margen                              11820 non-null  object\n",
      " 7   Municipio                           11820 non-null  object\n",
      " 8   Precio Biodiesel                    11820 non-null  object\n",
      " 9   Precio Bioetanol                    11820 non-null  object\n",
      " 10  Precio Gas Natural Comprimido       11820 non-null  object\n",
      " 11  Precio Gas Natural Licuado          11820 non-null  object\n",
      " 12  Precio Gases licuados del petróleo  11820 non-null  object\n",
      " 13  Precio Gasoleo A                    11820 non-null  object\n",
      " 14  Precio Gasoleo B                    11820 non-null  object\n",
      " 15  Precio Gasoleo Premium              11820 non-null  object\n",
      " 16  Precio Gasolina 95 E10              11820 non-null  object\n",
      " 17  Precio Gasolina 95 E5               11820 non-null  object\n",
      " 18  Precio Gasolina 95 E5 Premium       11820 non-null  object\n",
      " 19  Precio Gasolina 98 E10              11820 non-null  object\n",
      " 20  Precio Gasolina 98 E5               11820 non-null  object\n",
      " 21  Precio Hidrogeno                    11820 non-null  object\n",
      " 22  Provincia                           11820 non-null  object\n",
      " 23  Remisión                            11820 non-null  object\n",
      " 24  Rótulo                              11820 non-null  object\n",
      " 25  Tipo Venta                          11820 non-null  object\n",
      " 26  % BioEtanol                         11820 non-null  object\n",
      " 27  % Éster metílico                    11820 non-null  object\n",
      " 28  IDEESS                              11820 non-null  object\n",
      " 29  IDMunicipio                         11820 non-null  object\n",
      " 30  IDProvincia                         11820 non-null  object\n",
      " 31  IDCCAA                              11820 non-null  object\n",
      "dtypes: object(32)\n",
      "memory usage: 2.9+ MB\n"
     ]
    }
   ],
   "source": [
    "df_1.info()"
   ]
  },
  {
   "cell_type": "code",
   "execution_count": null,
   "id": "ea55396d",
   "metadata": {},
   "outputs": [],
   "source": []
  },
  {
   "cell_type": "markdown",
   "id": "142f3c79",
   "metadata": {},
   "source": [
    "# Limpieza\n",
    "\n"
   ]
  },
  {
   "cell_type": "code",
   "execution_count": 8,
   "id": "3f51b276",
   "metadata": {},
   "outputs": [],
   "source": [
    "df_1['Precio Gasoleo Premium']=df_1['Precio Gasoleo Premium'].str.replace(',','.')\n",
    "df_1['Precio Biodiesel']=df_1['Precio Biodiesel'].str.replace(',','.')\n",
    "df_1['Precio Bioetanol']=df_1['Precio Bioetanol'].str.replace(',','.')\n",
    "df_1['Precio Gas Natural Comprimido']=df_1['Precio Gas Natural Comprimido'].str.replace(',','.')\n",
    "df_1['Precio Gas Natural Licuado']=df_1['Precio Gas Natural Licuado'].str.replace(',','.')\n",
    "df_1['Precio Gases licuados del petróleo']=df_1['Precio Gases licuados del petróleo'].str.replace(',','.')\n",
    "df_1['Precio Gasoleo A']=df_1['Precio Gasoleo A'].str.replace(',','.')\n",
    "df_1['Precio Gasoleo B']=df_1['Precio Gasoleo B'].str.replace(',','.')\n",
    "df_1['Precio Gasoleo Premium']=df_1['Precio Gasoleo Premium'].str.replace(',','.')\n",
    "df_1['Precio Gasolina 95 E10']=df_1['Precio Gasolina 95 E10'].str.replace(',','.')\n",
    "df_1['Precio Gasolina 95 E5']=df_1['Precio Gasolina 95 E5'].str.replace(',','.')\n",
    "df_1['Precio Gasolina 95 E5 Premium']=df_1['Precio Gasolina 95 E5 Premium'].str.replace(',','.')\n",
    "df_1['Precio Gasolina 98 E10']=df_1['Precio Gasolina 98 E10'].str.replace(',','.')\n",
    "df_1['Precio Gasolina 98 E5']=df_1['Precio Gasolina 98 E5'].str.replace(',','.')\n",
    "df_1['Precio Hidrogeno']=df_1['Precio Hidrogeno'].str.replace(',','.')\n",
    "\n",
    "\n"
   ]
  },
  {
   "cell_type": "code",
   "execution_count": 9,
   "id": "25bd607c",
   "metadata": {},
   "outputs": [],
   "source": [
    "\n",
    "df_1[['Precio Gasoleo Premium']]=df_1[['Precio Gasoleo Premium']].apply(pd.to_numeric)\n",
    "df_1[['Precio Biodiesel']]=df_1[['Precio Biodiesel']].apply(pd.to_numeric)\n",
    "df_1[['Precio Bioetanol']]=df_1[['Precio Bioetanol']].apply(pd.to_numeric)\n",
    "df_1[['Precio Gas Natural Comprimido']]=df_1[['Precio Gas Natural Comprimido']].apply(pd.to_numeric)\n",
    "df_1[['Precio Gases licuados del petróleo']]=df_1[['Precio Gases licuados del petróleo']].apply(pd.to_numeric)\n",
    "df_1[['Precio Gas Natural Licuado']]=df_1[['Precio Gas Natural Licuado']].apply(pd.to_numeric)\n",
    "#df_1[['Precio Gasoleo A']]=df_1[['Precio Gasoleo A']].apply(pd.to_numeric)\n",
    "df_1[['Precio Gasoleo B']]=df_1[['Precio Gasoleo B']].apply(pd.to_numeric)\n",
    "df_1[['Precio Gasoleo Premium']]=df_1[['Precio Gasoleo Premium']].apply(pd.to_numeric)\n",
    "df_1[['Precio Gasolina 95 E10']]=df_1[['Precio Gasolina 95 E10']].apply(pd.to_numeric)\n",
    "df_1[['Precio Gasolina 95 E5']]=df_1[['Precio Gasolina 95 E5']].apply(pd.to_numeric)\n",
    "df_1[['Precio Gasolina 95 E5 Premium']]=df_1[['Precio Gasolina 95 E5 Premium']].apply(pd.to_numeric)\n",
    "df_1[['Precio Gasolina 98 E10']]=df_1[['Precio Gasolina 98 E10']].apply(pd.to_numeric)\n",
    "df_1[['Precio Gasolina 98 E5']]=df_1[['Precio Gasolina 98 E5']].apply(pd.to_numeric)\n",
    "df_1[['Precio Hidrogeno']]=df_1[['Precio Hidrogeno']].apply(pd.to_numeric)\n",
    "#df_1[['C.P.']]=df_1[['C.P.']].apply(pd.to_numeric)"
   ]
  },
  {
   "cell_type": "code",
   "execution_count": 10,
   "id": "d7fd11cc",
   "metadata": {},
   "outputs": [
    {
     "name": "stdout",
     "output_type": "stream",
     "text": [
      "<class 'pandas.core.frame.DataFrame'>\n",
      "RangeIndex: 11820 entries, 0 to 11819\n",
      "Data columns (total 32 columns):\n",
      " #   Column                              Non-Null Count  Dtype  \n",
      "---  ------                              --------------  -----  \n",
      " 0   C.P.                                11820 non-null  object \n",
      " 1   Dirección                           11820 non-null  object \n",
      " 2   Horario                             11820 non-null  object \n",
      " 3   Latitud                             11820 non-null  object \n",
      " 4   Localidad                           11820 non-null  object \n",
      " 5   Longitud (WGS84)                    11820 non-null  object \n",
      " 6   Margen                              11820 non-null  object \n",
      " 7   Municipio                           11820 non-null  object \n",
      " 8   Precio Biodiesel                    37 non-null     float64\n",
      " 9   Precio Bioetanol                    5 non-null      float64\n",
      " 10  Precio Gas Natural Comprimido       123 non-null    float64\n",
      " 11  Precio Gas Natural Licuado          81 non-null     float64\n",
      " 12  Precio Gases licuados del petróleo  848 non-null    float64\n",
      " 13  Precio Gasoleo A                    11820 non-null  object \n",
      " 14  Precio Gasoleo B                    3017 non-null   float64\n",
      " 15  Precio Gasoleo Premium              7528 non-null   float64\n",
      " 16  Precio Gasolina 95 E10              21 non-null     float64\n",
      " 17  Precio Gasolina 95 E5               10677 non-null  float64\n",
      " 18  Precio Gasolina 95 E5 Premium       792 non-null    float64\n",
      " 19  Precio Gasolina 98 E10              8 non-null      float64\n",
      " 20  Precio Gasolina 98 E5               5954 non-null   float64\n",
      " 21  Precio Hidrogeno                    0 non-null      float64\n",
      " 22  Provincia                           11820 non-null  object \n",
      " 23  Remisión                            11820 non-null  object \n",
      " 24  Rótulo                              11820 non-null  object \n",
      " 25  Tipo Venta                          11820 non-null  object \n",
      " 26  % BioEtanol                         11820 non-null  object \n",
      " 27  % Éster metílico                    11820 non-null  object \n",
      " 28  IDEESS                              11820 non-null  object \n",
      " 29  IDMunicipio                         11820 non-null  object \n",
      " 30  IDProvincia                         11820 non-null  object \n",
      " 31  IDCCAA                              11820 non-null  object \n",
      "dtypes: float64(13), object(19)\n",
      "memory usage: 2.9+ MB\n"
     ]
    }
   ],
   "source": [
    "df_1.info()"
   ]
  },
  {
   "cell_type": "code",
   "execution_count": 11,
   "id": "f2db9109",
   "metadata": {},
   "outputs": [],
   "source": [
    "df_1.drop(['Precio Hidrogeno', 'Precio Biodiesel', 'Precio Bioetanol', \n",
    "           'Precio Gas Natural Comprimido','Precio Gas Natural Licuado', 'Precio Gasoleo B',\n",
    "           'Precio Gasolina 95 E10', 'Precio Gasolina 95 E5 Premium', 'Precio Gasolina 98 E10',\n",
    "           'Precio Gases licuados del petróleo', 'Margen', 'Remisión', '% BioEtanol', '% Éster metílico',\n",
    "           'IDEESS', 'IDCCAA'], axis=1, inplace=True)\n",
    "# Eliminamos todas las columnas por debajo del 50% de datos aproximadamente y que no sean gasoil o gasolina"
   ]
  },
  {
   "cell_type": "code",
   "execution_count": 12,
   "id": "28819c66",
   "metadata": {},
   "outputs": [
    {
     "name": "stdout",
     "output_type": "stream",
     "text": [
      "<class 'pandas.core.frame.DataFrame'>\n",
      "RangeIndex: 11820 entries, 0 to 11819\n",
      "Data columns (total 16 columns):\n",
      " #   Column                  Non-Null Count  Dtype  \n",
      "---  ------                  --------------  -----  \n",
      " 0   C.P.                    11820 non-null  object \n",
      " 1   Dirección               11820 non-null  object \n",
      " 2   Horario                 11820 non-null  object \n",
      " 3   Latitud                 11820 non-null  object \n",
      " 4   Localidad               11820 non-null  object \n",
      " 5   Longitud (WGS84)        11820 non-null  object \n",
      " 6   Municipio               11820 non-null  object \n",
      " 7   Precio Gasoleo A        11820 non-null  object \n",
      " 8   Precio Gasoleo Premium  7528 non-null   float64\n",
      " 9   Precio Gasolina 95 E5   10677 non-null  float64\n",
      " 10  Precio Gasolina 98 E5   5954 non-null   float64\n",
      " 11  Provincia               11820 non-null  object \n",
      " 12  Rótulo                  11820 non-null  object \n",
      " 13  Tipo Venta              11820 non-null  object \n",
      " 14  IDMunicipio             11820 non-null  object \n",
      " 15  IDProvincia             11820 non-null  object \n",
      "dtypes: float64(3), object(13)\n",
      "memory usage: 1.4+ MB\n"
     ]
    }
   ],
   "source": [
    "df_1.info()"
   ]
  },
  {
   "cell_type": "code",
   "execution_count": 13,
   "id": "81acd6d4",
   "metadata": {},
   "outputs": [
    {
     "data": {
      "text/html": [
       "<div>\n",
       "<style scoped>\n",
       "    .dataframe tbody tr th:only-of-type {\n",
       "        vertical-align: middle;\n",
       "    }\n",
       "\n",
       "    .dataframe tbody tr th {\n",
       "        vertical-align: top;\n",
       "    }\n",
       "\n",
       "    .dataframe thead th {\n",
       "        text-align: right;\n",
       "    }\n",
       "</style>\n",
       "<table border=\"1\" class=\"dataframe\">\n",
       "  <thead>\n",
       "    <tr style=\"text-align: right;\">\n",
       "      <th></th>\n",
       "      <th>C.P.</th>\n",
       "      <th>Dirección</th>\n",
       "      <th>Horario</th>\n",
       "      <th>Latitud</th>\n",
       "      <th>Localidad</th>\n",
       "      <th>Longitud (WGS84)</th>\n",
       "      <th>Municipio</th>\n",
       "      <th>Gasoleo A</th>\n",
       "      <th>Gasoleo Premium</th>\n",
       "      <th>Gasolina 95 E5</th>\n",
       "      <th>Gasolina 98 E5</th>\n",
       "      <th>Provincia</th>\n",
       "      <th>Rótulo</th>\n",
       "      <th>Tipo Venta</th>\n",
       "      <th>IDMunicipio</th>\n",
       "      <th>IDProvincia</th>\n",
       "    </tr>\n",
       "  </thead>\n",
       "  <tbody>\n",
       "    <tr>\n",
       "      <th>0</th>\n",
       "      <td>02250</td>\n",
       "      <td>AVENIDA CASTILLA LA MANCHA, 26</td>\n",
       "      <td>L-D: 07:00-22:00</td>\n",
       "      <td>39,211417</td>\n",
       "      <td>ABENGIBRE</td>\n",
       "      <td>-1,539167</td>\n",
       "      <td>Abengibre</td>\n",
       "      <td>1.969</td>\n",
       "      <td>NaN</td>\n",
       "      <td>1.739</td>\n",
       "      <td>NaN</td>\n",
       "      <td>ALBACETE</td>\n",
       "      <td>Nº 10.935</td>\n",
       "      <td>P</td>\n",
       "      <td>52</td>\n",
       "      <td>02</td>\n",
       "    </tr>\n",
       "  </tbody>\n",
       "</table>\n",
       "</div>"
      ],
      "text/plain": [
       "    C.P.                       Dirección           Horario    Latitud  \\\n",
       "0  02250  AVENIDA CASTILLA LA MANCHA, 26  L-D: 07:00-22:00  39,211417   \n",
       "\n",
       "   Localidad Longitud (WGS84)  Municipio Gasoleo A  Gasoleo Premium  \\\n",
       "0  ABENGIBRE        -1,539167  Abengibre     1.969              NaN   \n",
       "\n",
       "   Gasolina 95 E5  Gasolina 98 E5 Provincia     Rótulo Tipo Venta IDMunicipio  \\\n",
       "0           1.739             NaN  ALBACETE  Nº 10.935          P          52   \n",
       "\n",
       "  IDProvincia  \n",
       "0          02  "
      ]
     },
     "execution_count": 13,
     "metadata": {},
     "output_type": "execute_result"
    }
   ],
   "source": [
    "df_1.rename(columns={\"Precio Gasoleo A\": \"Gasoleo A\", \"Precio Gasoleo Premium\": \"Gasoleo Premium\", \n",
    "                     \"Precio Gasolina 95 E5\": \"Gasolina 95 E5\", \"Precio Gasolina 98 E5\": \"Gasolina 98 E5\"}, inplace=True)\n",
    "df_1.head(1)"
   ]
  },
  {
   "cell_type": "markdown",
   "id": "9ea09ec5",
   "metadata": {},
   "source": [
    "## SELECCIÓN USUARIO -Precio Mínimo-"
   ]
  },
  {
   "cell_type": "code",
   "execution_count": 14,
   "id": "f62fd871",
   "metadata": {},
   "outputs": [],
   "source": [
    "# Precio Mínimo a nivel nacional\n",
    "#df1.min()"
   ]
  },
  {
   "cell_type": "code",
   "execution_count": null,
   "id": "6282aa5e",
   "metadata": {},
   "outputs": [],
   "source": []
  },
  {
   "cell_type": "code",
   "execution_count": 15,
   "id": "e3a7f0d2",
   "metadata": {},
   "outputs": [],
   "source": [
    "df_1.fillna(0, inplace=True)"
   ]
  },
  {
   "cell_type": "code",
   "execution_count": 16,
   "id": "a2b04928",
   "metadata": {},
   "outputs": [
    {
     "name": "stdout",
     "output_type": "stream",
     "text": [
      "<class 'pandas.core.frame.DataFrame'>\n",
      "RangeIndex: 11820 entries, 0 to 11819\n",
      "Data columns (total 16 columns):\n",
      " #   Column            Non-Null Count  Dtype  \n",
      "---  ------            --------------  -----  \n",
      " 0   C.P.              11820 non-null  object \n",
      " 1   Dirección         11820 non-null  object \n",
      " 2   Horario           11820 non-null  object \n",
      " 3   Latitud           11820 non-null  object \n",
      " 4   Localidad         11820 non-null  object \n",
      " 5   Longitud (WGS84)  11820 non-null  object \n",
      " 6   Municipio         11820 non-null  object \n",
      " 7   Gasoleo A         11820 non-null  object \n",
      " 8   Gasoleo Premium   11820 non-null  float64\n",
      " 9   Gasolina 95 E5    11820 non-null  float64\n",
      " 10  Gasolina 98 E5    11820 non-null  float64\n",
      " 11  Provincia         11820 non-null  object \n",
      " 12  Rótulo            11820 non-null  object \n",
      " 13  Tipo Venta        11820 non-null  object \n",
      " 14  IDMunicipio       11820 non-null  object \n",
      " 15  IDProvincia       11820 non-null  object \n",
      "dtypes: float64(3), object(13)\n",
      "memory usage: 1.4+ MB\n"
     ]
    }
   ],
   "source": [
    "df_1.info()"
   ]
  },
  {
   "cell_type": "code",
   "execution_count": 23,
   "id": "89daf6c9",
   "metadata": {},
   "outputs": [],
   "source": [
    "def gasolina():\n",
    "    cp=input('Seleccione Código Postal: ')\n",
    "    Y=input('Seleccione tipo de Carburante')\n",
    "    mun = df_1[df_1[\"C.P.\"] == cp]\n",
    "    #minimo= mun[[Y]].min()\n",
    "    #return pd.DataFrame(minimo).T\n",
    "    return mun\n",
    "    "
   ]
  },
  {
   "cell_type": "code",
   "execution_count": 24,
   "id": "e110ae49",
   "metadata": {},
   "outputs": [
    {
     "name": "stdout",
     "output_type": "stream",
     "text": [
      "Seleccione Código Postal: 28931\n",
      "Seleccione tipo de Carburantex\n"
     ]
    },
    {
     "data": {
      "text/html": [
       "<div>\n",
       "<style scoped>\n",
       "    .dataframe tbody tr th:only-of-type {\n",
       "        vertical-align: middle;\n",
       "    }\n",
       "\n",
       "    .dataframe tbody tr th {\n",
       "        vertical-align: top;\n",
       "    }\n",
       "\n",
       "    .dataframe thead th {\n",
       "        text-align: right;\n",
       "    }\n",
       "</style>\n",
       "<table border=\"1\" class=\"dataframe\">\n",
       "  <thead>\n",
       "    <tr style=\"text-align: right;\">\n",
       "      <th></th>\n",
       "      <th>C.P.</th>\n",
       "      <th>Dirección</th>\n",
       "      <th>Horario</th>\n",
       "      <th>Latitud</th>\n",
       "      <th>Localidad</th>\n",
       "      <th>Longitud (WGS84)</th>\n",
       "      <th>Municipio</th>\n",
       "      <th>Gasoleo A</th>\n",
       "      <th>Gasoleo Premium</th>\n",
       "      <th>Gasolina 95 E5</th>\n",
       "      <th>Gasolina 98 E5</th>\n",
       "      <th>Provincia</th>\n",
       "      <th>Rótulo</th>\n",
       "      <th>Tipo Venta</th>\n",
       "      <th>IDMunicipio</th>\n",
       "      <th>IDProvincia</th>\n",
       "    </tr>\n",
       "  </thead>\n",
       "  <tbody>\n",
       "    <tr>\n",
       "      <th>7028</th>\n",
       "      <td>28931</td>\n",
       "      <td>CARRETERA M-856 (ENLACE N-V Y N-501) KM. 1</td>\n",
       "      <td>L-D: 24H</td>\n",
       "      <td>40,333889</td>\n",
       "      <td>MOSTOLES</td>\n",
       "      <td>-3,886667</td>\n",
       "      <td>Móstoles</td>\n",
       "      <td>2.079</td>\n",
       "      <td>2.169</td>\n",
       "      <td>1.789</td>\n",
       "      <td>1.939</td>\n",
       "      <td>MADRID</td>\n",
       "      <td>REPSOL</td>\n",
       "      <td>P</td>\n",
       "      <td>4366</td>\n",
       "      <td>28</td>\n",
       "    </tr>\n",
       "  </tbody>\n",
       "</table>\n",
       "</div>"
      ],
      "text/plain": [
       "       C.P.                                   Dirección   Horario    Latitud  \\\n",
       "7028  28931  CARRETERA M-856 (ENLACE N-V Y N-501) KM. 1  L-D: 24H  40,333889   \n",
       "\n",
       "     Localidad Longitud (WGS84) Municipio Gasoleo A  Gasoleo Premium  \\\n",
       "7028  MOSTOLES        -3,886667  Móstoles     2.079            2.169   \n",
       "\n",
       "      Gasolina 95 E5  Gasolina 98 E5 Provincia  Rótulo Tipo Venta IDMunicipio  \\\n",
       "7028           1.789           1.939    MADRID  REPSOL          P        4366   \n",
       "\n",
       "     IDProvincia  \n",
       "7028          28  "
      ]
     },
     "execution_count": 24,
     "metadata": {},
     "output_type": "execute_result"
    }
   ],
   "source": [
    "gasolina()\n"
   ]
  },
  {
   "cell_type": "code",
   "execution_count": 63,
   "id": "b4705c76",
   "metadata": {},
   "outputs": [],
   "source": [
    "def gasolina1():\n",
    "    cp=input('Seleccione Código Postal: ')\n",
    "    Y=input('Seleccione tipo de Carburante')\n",
    "    mun = df_1[df_1[\"C.P.\"] == cp]\n",
    "    minimo=df_1[mun[[Y]].min()]\n",
    "    return df_1.apply(minimo)"
   ]
  },
  {
   "cell_type": "code",
   "execution_count": null,
   "id": "28a47627",
   "metadata": {},
   "outputs": [],
   "source": [
    "gasolina1()"
   ]
  },
  {
   "cell_type": "code",
   "execution_count": 55,
   "id": "4ff360f7",
   "metadata": {
    "scrolled": true
   },
   "outputs": [],
   "source": [
    "#df_1=df_1.iloc[:].apply(gasolina(df_1), axis=1, raw=True)\n",
    "#df_1\n",
    "#df_1['(gasolina())']"
   ]
  },
  {
   "cell_type": "code",
   "execution_count": 56,
   "id": "0db2c183",
   "metadata": {},
   "outputs": [
    {
     "data": {
      "text/plain": [
       "['']"
      ]
     },
     "execution_count": 56,
     "metadata": {},
     "output_type": "execute_result"
    }
   ],
   "source": [
    "x=[df_1[\"Gasoleo A\"].min()]\n",
    "x"
   ]
  },
  {
   "cell_type": "code",
   "execution_count": null,
   "id": "2f507e69",
   "metadata": {},
   "outputs": [],
   "source": [
    "x=[df_1[\"Gasoleo A\"]]\n",
    "\n",
    "for i in x:\n",
    "    i.append([df_1])\n",
    "    print (i)\n"
   ]
  },
  {
   "cell_type": "code",
   "execution_count": null,
   "id": "df3e8590",
   "metadata": {},
   "outputs": [],
   "source": [
    "for"
   ]
  },
  {
   "cell_type": "code",
   "execution_count": 6,
   "id": "18ab8d9a",
   "metadata": {},
   "outputs": [],
   "source": [
    "# Gasolineras en las Localidades seleccionadas\n",
    "def gasolinera():\n",
    "    cp=input('Seleccione Código Postal: ')\n",
    "    Y=input('Seleccione tipo de Carburante')\n",
    "    mun = df_1[df_1[\"C.P.\"] == cp]\n",
    "    minimo=mun[[Y]].min(mun)\n",
    "    return minimo"
   ]
  },
  {
   "cell_type": "code",
   "execution_count": 7,
   "id": "2a84290b",
   "metadata": {},
   "outputs": [
    {
     "name": "stdout",
     "output_type": "stream",
     "text": [
      "Seleccione Código Postal: 38419\n",
      "Seleccione tipo de CarburanteGasoleo A\n"
     ]
    },
    {
     "ename": "KeyError",
     "evalue": "\"None of [Index(['Gasoleo A'], dtype='object')] are in the [columns]\"",
     "output_type": "error",
     "traceback": [
      "\u001b[1;31m---------------------------------------------------------------------------\u001b[0m",
      "\u001b[1;31mKeyError\u001b[0m                                  Traceback (most recent call last)",
      "Input \u001b[1;32mIn [7]\u001b[0m, in \u001b[0;36m<cell line: 1>\u001b[1;34m()\u001b[0m\n\u001b[1;32m----> 1\u001b[0m \u001b[43mgasolinera\u001b[49m\u001b[43m(\u001b[49m\u001b[43m)\u001b[49m\n",
      "Input \u001b[1;32mIn [6]\u001b[0m, in \u001b[0;36mgasolinera\u001b[1;34m()\u001b[0m\n\u001b[0;32m      4\u001b[0m Y\u001b[38;5;241m=\u001b[39m\u001b[38;5;28minput\u001b[39m(\u001b[38;5;124m'\u001b[39m\u001b[38;5;124mSeleccione tipo de Carburante\u001b[39m\u001b[38;5;124m'\u001b[39m)\n\u001b[0;32m      5\u001b[0m mun \u001b[38;5;241m=\u001b[39m df_1[df_1[\u001b[38;5;124m\"\u001b[39m\u001b[38;5;124mC.P.\u001b[39m\u001b[38;5;124m\"\u001b[39m] \u001b[38;5;241m==\u001b[39m cp]\n\u001b[1;32m----> 6\u001b[0m minimo\u001b[38;5;241m=\u001b[39m\u001b[43mmun\u001b[49m\u001b[43m[\u001b[49m\u001b[43m[\u001b[49m\u001b[43mY\u001b[49m\u001b[43m]\u001b[49m\u001b[43m]\u001b[49m\u001b[38;5;241m.\u001b[39mmin(mun)\n\u001b[0;32m      7\u001b[0m \u001b[38;5;28;01mreturn\u001b[39;00m minimo\n",
      "File \u001b[1;32m~\\miniconda3\\envs\\Final_Project\\lib\\site-packages\\pandas\\core\\frame.py:3511\u001b[0m, in \u001b[0;36mDataFrame.__getitem__\u001b[1;34m(self, key)\u001b[0m\n\u001b[0;32m   3509\u001b[0m     \u001b[38;5;28;01mif\u001b[39;00m is_iterator(key):\n\u001b[0;32m   3510\u001b[0m         key \u001b[38;5;241m=\u001b[39m \u001b[38;5;28mlist\u001b[39m(key)\n\u001b[1;32m-> 3511\u001b[0m     indexer \u001b[38;5;241m=\u001b[39m \u001b[38;5;28;43mself\u001b[39;49m\u001b[38;5;241;43m.\u001b[39;49m\u001b[43mcolumns\u001b[49m\u001b[38;5;241;43m.\u001b[39;49m\u001b[43m_get_indexer_strict\u001b[49m\u001b[43m(\u001b[49m\u001b[43mkey\u001b[49m\u001b[43m,\u001b[49m\u001b[43m \u001b[49m\u001b[38;5;124;43m\"\u001b[39;49m\u001b[38;5;124;43mcolumns\u001b[39;49m\u001b[38;5;124;43m\"\u001b[39;49m\u001b[43m)\u001b[49m[\u001b[38;5;241m1\u001b[39m]\n\u001b[0;32m   3513\u001b[0m \u001b[38;5;66;03m# take() does not accept boolean indexers\u001b[39;00m\n\u001b[0;32m   3514\u001b[0m \u001b[38;5;28;01mif\u001b[39;00m \u001b[38;5;28mgetattr\u001b[39m(indexer, \u001b[38;5;124m\"\u001b[39m\u001b[38;5;124mdtype\u001b[39m\u001b[38;5;124m\"\u001b[39m, \u001b[38;5;28;01mNone\u001b[39;00m) \u001b[38;5;241m==\u001b[39m \u001b[38;5;28mbool\u001b[39m:\n",
      "File \u001b[1;32m~\\miniconda3\\envs\\Final_Project\\lib\\site-packages\\pandas\\core\\indexes\\base.py:5796\u001b[0m, in \u001b[0;36mIndex._get_indexer_strict\u001b[1;34m(self, key, axis_name)\u001b[0m\n\u001b[0;32m   5793\u001b[0m \u001b[38;5;28;01melse\u001b[39;00m:\n\u001b[0;32m   5794\u001b[0m     keyarr, indexer, new_indexer \u001b[38;5;241m=\u001b[39m \u001b[38;5;28mself\u001b[39m\u001b[38;5;241m.\u001b[39m_reindex_non_unique(keyarr)\n\u001b[1;32m-> 5796\u001b[0m \u001b[38;5;28;43mself\u001b[39;49m\u001b[38;5;241;43m.\u001b[39;49m\u001b[43m_raise_if_missing\u001b[49m\u001b[43m(\u001b[49m\u001b[43mkeyarr\u001b[49m\u001b[43m,\u001b[49m\u001b[43m \u001b[49m\u001b[43mindexer\u001b[49m\u001b[43m,\u001b[49m\u001b[43m \u001b[49m\u001b[43maxis_name\u001b[49m\u001b[43m)\u001b[49m\n\u001b[0;32m   5798\u001b[0m keyarr \u001b[38;5;241m=\u001b[39m \u001b[38;5;28mself\u001b[39m\u001b[38;5;241m.\u001b[39mtake(indexer)\n\u001b[0;32m   5799\u001b[0m \u001b[38;5;28;01mif\u001b[39;00m \u001b[38;5;28misinstance\u001b[39m(key, Index):\n\u001b[0;32m   5800\u001b[0m     \u001b[38;5;66;03m# GH 42790 - Preserve name from an Index\u001b[39;00m\n",
      "File \u001b[1;32m~\\miniconda3\\envs\\Final_Project\\lib\\site-packages\\pandas\\core\\indexes\\base.py:5856\u001b[0m, in \u001b[0;36mIndex._raise_if_missing\u001b[1;34m(self, key, indexer, axis_name)\u001b[0m\n\u001b[0;32m   5854\u001b[0m     \u001b[38;5;28;01mif\u001b[39;00m use_interval_msg:\n\u001b[0;32m   5855\u001b[0m         key \u001b[38;5;241m=\u001b[39m \u001b[38;5;28mlist\u001b[39m(key)\n\u001b[1;32m-> 5856\u001b[0m     \u001b[38;5;28;01mraise\u001b[39;00m \u001b[38;5;167;01mKeyError\u001b[39;00m(\u001b[38;5;124mf\u001b[39m\u001b[38;5;124m\"\u001b[39m\u001b[38;5;124mNone of [\u001b[39m\u001b[38;5;132;01m{\u001b[39;00mkey\u001b[38;5;132;01m}\u001b[39;00m\u001b[38;5;124m] are in the [\u001b[39m\u001b[38;5;132;01m{\u001b[39;00maxis_name\u001b[38;5;132;01m}\u001b[39;00m\u001b[38;5;124m]\u001b[39m\u001b[38;5;124m\"\u001b[39m)\n\u001b[0;32m   5858\u001b[0m not_found \u001b[38;5;241m=\u001b[39m \u001b[38;5;28mlist\u001b[39m(ensure_index(key)[missing_mask\u001b[38;5;241m.\u001b[39mnonzero()[\u001b[38;5;241m0\u001b[39m]]\u001b[38;5;241m.\u001b[39munique())\n\u001b[0;32m   5859\u001b[0m \u001b[38;5;28;01mraise\u001b[39;00m \u001b[38;5;167;01mKeyError\u001b[39;00m(\u001b[38;5;124mf\u001b[39m\u001b[38;5;124m\"\u001b[39m\u001b[38;5;132;01m{\u001b[39;00mnot_found\u001b[38;5;132;01m}\u001b[39;00m\u001b[38;5;124m not in index\u001b[39m\u001b[38;5;124m\"\u001b[39m)\n",
      "\u001b[1;31mKeyError\u001b[0m: \"None of [Index(['Gasoleo A'], dtype='object')] are in the [columns]\""
     ]
    }
   ],
   "source": [
    "gasolinera()"
   ]
  },
  {
   "cell_type": "code",
   "execution_count": null,
   "id": "b4b21c7b",
   "metadata": {},
   "outputs": [],
   "source": [
    " 4 x=\n",
    "    Y=input('Seleccione tipo de Carburante')\n",
    "      5 mun = df_1[df_1[\"C.P.\"] == cp]\n",
    "----> 6 pot = df_1[mun[Y].min()]\n",
    "      7 #pot= df_1[df_1[\"C.P.\"] == df_1[[Y]].min()]\n",
    "      8 #minimo = df_1[df_1[x]]"
   ]
  },
  {
   "cell_type": "code",
   "execution_count": null,
   "id": "ba479712",
   "metadata": {},
   "outputs": [],
   "source": [
    "df_1[df_1.min([Y])]"
   ]
  },
  {
   "cell_type": "code",
   "execution_count": null,
   "id": "672f9756",
   "metadata": {},
   "outputs": [],
   "source": [
    "cp()"
   ]
  },
  {
   "cell_type": "code",
   "execution_count": null,
   "id": "f505ee92",
   "metadata": {},
   "outputs": [],
   "source": [
    "columna = df_1[['C.P.']]\n",
    "columna"
   ]
  },
  {
   "cell_type": "code",
   "execution_count": null,
   "id": "c00ca1a9",
   "metadata": {},
   "outputs": [],
   "source": [
    "df_1[[\"Gasoleo A\", \"Gasoleo Premium\", \"Gasolina 95 E5\", \"Gasolina 98 E5\"]].min()"
   ]
  },
  {
   "cell_type": "code",
   "execution_count": null,
   "id": "4373889b",
   "metadata": {},
   "outputs": [],
   "source": [
    "mejor_precio()"
   ]
  },
  {
   "cell_type": "code",
   "execution_count": null,
   "id": "d217dd86",
   "metadata": {},
   "outputs": [],
   "source": [
    "# Gasolineras en las Localidades seleccionadas\n",
    "def localidad():\n",
    "    X=input('Seleccione Localidad de Estaciones de Servicio: ')\n",
    "    #Y=input('Seleccione tipo de Carburante')\n",
    "    mun =  df_1[df_1[\"Localidad\"] == X]\n",
    "    return mun\n"
   ]
  },
  {
   "cell_type": "code",
   "execution_count": null,
   "id": "313e1993",
   "metadata": {},
   "outputs": [],
   "source": [
    "#def EE_SS():\n",
    "    #X=input('Seleccione Estación de servicio en el Municipio:')\n",
    "    #Y=input('Seleccione tipo de Carburante')\n",
    "    #mun1 = df_1.set_axis([\"Localidad\", \"Municipio\"], axis=1) == X\n",
    "    #mun2 = df_1[df_1[\"Municipio\"] == X]\n",
    "    #return mun1"
   ]
  },
  {
   "cell_type": "code",
   "execution_count": null,
   "id": "e755eec0",
   "metadata": {},
   "outputs": [],
   "source": [
    "localidad()\n"
   ]
  },
  {
   "cell_type": "code",
   "execution_count": null,
   "id": "0735458d",
   "metadata": {},
   "outputs": [],
   "source": [
    "# Precio más bajo en el Municipio seleccionado\n",
    "def best_price():\n",
    "    X=input('Minimo Precio en la localidad de:')\n",
    "    Y=input('Minimo Precio en el municipio  de')\n",
    "    loc =  df_1[df_1[\"Localidad\"] == X]\n",
    "    mun =  df_1[df_1[\"Municipio\"] == Y]\n",
    "    minimo = loc.min()\n",
    "    minimo_2 = mun.min()\n",
    "    #min2=pd.DataFrame(minimo).reset_index()\n",
    "    #min1=pd.DataFrame(minimo_2).reset_index()\n",
    "    #return pd.DataFrame(min2), pd.DataFrame(min1)\n",
    "    #minimox=pd.DataFrame(minimo)\n",
    "    return pd.DataFrame([minimo, minimo_2]).reset_index()\n",
    "  "
   ]
  },
  {
   "cell_type": "code",
   "execution_count": null,
   "id": "54a17eb6",
   "metadata": {},
   "outputs": [],
   "source": [
    "best_price()"
   ]
  },
  {
   "cell_type": "code",
   "execution_count": null,
   "id": "b9e82fe8-0ad1-4c65-a5d9-94d7913b0787",
   "metadata": {},
   "outputs": [],
   "source": [
    "#df_1.to_csv('2022-10-15.csv', index=False)"
   ]
  },
  {
   "cell_type": "code",
   "execution_count": null,
   "id": "ae53112b",
   "metadata": {},
   "outputs": [],
   "source": []
  },
  {
   "cell_type": "code",
   "execution_count": null,
   "id": "8b455d81",
   "metadata": {},
   "outputs": [],
   "source": []
  },
  {
   "cell_type": "code",
   "execution_count": null,
   "id": "e44893f8",
   "metadata": {},
   "outputs": [],
   "source": []
  }
 ],
 "metadata": {
  "kernelspec": {
   "display_name": "Python [conda env:Final_Project]",
   "language": "python",
   "name": "conda-env-Final_Project-py"
  },
  "language_info": {
   "codemirror_mode": {
    "name": "ipython",
    "version": 3
   },
   "file_extension": ".py",
   "mimetype": "text/x-python",
   "name": "python",
   "nbconvert_exporter": "python",
   "pygments_lexer": "ipython3",
   "version": "3.10.6"
  }
 },
 "nbformat": 4,
 "nbformat_minor": 5
}
